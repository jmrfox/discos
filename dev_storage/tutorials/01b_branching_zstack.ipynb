{
 "cells": [
  {
   "cell_type": "markdown",
   "id": "d21ec1ee",
   "metadata": {},
   "source": [
    "# Tutorial 1B: Branching Z-stack with GenCoMo\n",
    "\n",
    "## Branching Neuronal Morphology\n",
    "\n",
    "This tutorial focuses on creating, analyzing, and working with **branching z-stack morphologies** in GenCoMo. Branching structures represent dendritic bifurcations and are fundamental to understanding neuronal connectivity.\n",
    "\n",
    "### What you'll learn:\n",
    "1. Creating branching morphologies as z-stack binary arrays\n",
    "2. Understanding branch angles and connectivity in 3D space\n",
    "3. Analyzing branching patterns and morphometric properties\n",
    "4. Visualizing complex branching structures\n",
    "5. Exploring connectivity analysis for compartmental modeling\n",
    "\n",
    "### Key Concepts:\n",
    "- **Branching topology**: Branching dendritic bifurcations\n",
    "- **Branch angles**: 3D orientation of daughter branches\n",
    "- **Connectivity analysis**: Junction points and branch relationships\n",
    "- **Morphometric diversity**: Different branch geometries\n",
    "\n",
    "### Why Branching Matters?\n",
    "- **Dendritic trees**: Foundation of dendritic branching patterns\n",
    "- **Electrical properties**: Branch points affect signal propagation\n",
    "- **Connectivity**: Critical for synaptic integration\n",
    "- **Morphological complexity**: Step toward realistic neuron shapes"
   ]
  },
  {
   "cell_type": "markdown",
   "id": "9e628219",
   "metadata": {},
   "source": [
    "## 1. Import Required Libraries and Setup\n",
    "\n",
    "First, let's import all the necessary libraries for working with Y-branch z-stacks."
   ]
  },
  {
   "cell_type": "code",
   "execution_count": null,
   "id": "3f4dfbc6",
   "metadata": {},
   "outputs": [
    {
     "name": "stdout",
     "output_type": "stream",
     "text": [
      "Jupyter environment detected. Enabling Open3D WebVisualizer.\n",
      "[Open3D INFO] WebRTC GUI backend enabled.\n",
      "[Open3D INFO] WebRTCWindowSystem: HTTP handshake server disabled.\n",
      "✅ All libraries imported successfully!\n",
      "📦 GenCoMo version: 0.1.0\n",
      "🌿 Ready for Y-branch z-stack modeling!\n"
     ]
    }
   ],
   "source": [
    "# Import core scientific libraries\n",
    "import numpy as np\n",
    "import matplotlib.pyplot as plt\n",
    "import plotly.graph_objects as go\n",
    "import plotly.express as px\n",
    "import warnings\n",
    "from pathlib import Path\n",
    "\n",
    "# Suppress warnings for cleaner output\n",
    "warnings.filterwarnings('ignore')\n",
    "\n",
    "# Import GenCoMo package components\n",
    "import sys\n",
    "sys.path.append('../')  # Add parent directory to path\n",
    "\n",
    "# Core GenCoMo modules for Y-branch z-stacks\n",
    "from gencomo import (\n",
    "    # Z-stack functions (primary format)\n",
    "    create_branching_zstack,\n",
    "    visualize_zstack_3d, \n",
    "    visualize_zstack_slices,\n",
    "    save_zstack_data, \n",
    "    load_zstack_data,\n",
    "    analyze_zstack_properties,\n",
    "    # Core modules\n",
    "    MeshProcessor\n",
    ")\n",
    "\n",
    "print(\"✅ All libraries imported successfully!\")\n",
    "print(\"📦 GenCoMo version: 0.1.0\")\n",
    "print(\"🌿 Ready for Y-branch z-stack modeling!\")\n",
    "\n",
    "# Configure plotting\n",
    "plt.style.use('default')\n",
    "%matplotlib inline\n",
    "\n",
    "z_stack_path = Path('data/z_stack')"
   ]
  },
  {
   "cell_type": "markdown",
   "id": "c77ac2c9",
   "metadata": {},
   "source": [
    "## 2. Creating Branching Z-stack Morphology\n",
    "\n",
    "Let's create a branching neuron morphology using GenCoMo's z-stack format. This represents dendritic bifurcations common in neuronal trees."
   ]
  },
  {
   "cell_type": "code",
   "execution_count": null,
   "id": "269914b1",
   "metadata": {},
   "outputs": [
    {
     "name": "stdout",
     "output_type": "stream",
     "text": [
      "🌿 Creating branching z-stack morphology...\n",
      "\n",
      "✓ Y-branch z-stack created: (59, 28, 62) voxels\n",
      "✓ Dimensions (z,y,x): (59, 28, 62)\n",
      "✓ Voxel count: 9,052 inside neuron\n",
      "✓ Fill ratio: 0.088\n",
      "\n",
      "📋 Y-branch Parameters:\n",
      "   • trunk_length: 15\n",
      "   • trunk_radius: 4\n",
      "   • branch_length: 12\n",
      "   • branch_radius: 3\n",
      "   • branch_angle: 45\n",
      "   • z_resolution: 0.5\n",
      "   • xy_resolution: 0.5\n",
      "\n",
      "📋 Metadata:\n",
      "   • morphology_type: y_shaped\n",
      "   • z_resolution: 0.5\n",
      "   • xy_resolution: 0.5\n",
      "   • x_coords: [-15.48528137 -14.97756723 -14.46985309 -13.96213894 -13.4544248\n",
      " -12.94671066 -12.43899651 -11.93128237 -11.42356823 -10.91585408\n",
      " -10.40813994  -9.9004258   -9.39271165  -8.88499751  -8.37728337\n",
      "  -7.86956922  -7.36185508  -6.85414094  -6.34642679  -5.83871265\n",
      "  -5.33099851  -4.82328436  -4.31557022  -3.80785608  -3.30014193\n",
      "  -2.79242779  -2.28471365  -1.7769995   -1.26928536  -0.76157122\n",
      "  -0.25385707   0.25385707   0.76157122   1.26928536   1.7769995\n",
      "   2.28471365   2.79242779   3.30014193   3.80785608   4.31557022\n",
      "   4.82328436   5.33099851   5.83871265   6.34642679   6.85414094\n",
      "   7.36185508   7.86956922   8.37728337   8.88499751   9.39271165\n",
      "   9.9004258   10.40813994  10.91585408  11.42356823  11.93128237\n",
      "  12.43899651  12.94671066  13.4544248   13.96213894  14.46985309\n",
      "  14.97756723  15.48528137]\n",
      "   • y_coords: [-7.         -6.48148148 -5.96296296 -5.44444444 -4.92592593 -4.40740741\n",
      " -3.88888889 -3.37037037 -2.85185185 -2.33333333 -1.81481481 -1.2962963\n",
      " -0.77777778 -0.25925926  0.25925926  0.77777778  1.2962963   1.81481481\n",
      "  2.33333333  2.85185185  3.37037037  3.88888889  4.40740741  4.92592593\n",
      "  5.44444444  5.96296296  6.48148148  7.        ]\n",
      "   • z_coords: [-3.         -2.49163308 -1.98326616 -1.47489924 -0.96653232 -0.4581654\n",
      "  0.05020152  0.55856844  1.06693536  1.57530228  2.0836692   2.59203612\n",
      "  3.10040304  3.60876996  4.11713688  4.6255038   5.13387072  5.64223764\n",
      "  6.15060456  6.65897148  7.1673384   7.67570533  8.18407225  8.69243917\n",
      "  9.20080609  9.70917301 10.21753993 10.72590685 11.23427377 11.74264069\n",
      " 12.25100761 12.75937453 13.26774145 13.77610837 14.28447529 14.79284221\n",
      " 15.30120913 15.80957605 16.31794297 16.82630989 17.33467681 17.84304373\n",
      " 18.35141065 18.85977757 19.36814449 19.87651141 20.38487833 20.89324525\n",
      " 21.40161217 21.90997909 22.41834601 22.92671293 23.43507985 23.94344677\n",
      " 24.45181369 24.96018061 25.46854753 25.97691445 26.48528137]\n",
      "   • bounds: {'x_range': (np.float64(-15.48528137423857), np.float64(15.48528137423857)), 'y_range': (-7.0, 7.0), 'z_range': (-3.0, np.float64(26.48528137423857))}\n",
      "   • shape: (59, 28, 62)\n",
      "   • y_params: {'trunk_length': 15, 'trunk_radius': 4, 'branch_length': 12, 'branch_radius': 3, 'branch_angle': 45}\n",
      "   • total_voxels: 102424\n",
      "   • neuron_voxels: 9052\n",
      "   • volume_um3: 1131.5\n",
      "\n",
      "🎯 Y-branch z-stack ready for analysis!\n"
     ]
    }
   ],
   "source": [
    "# Create branching z-stack morphology\n",
    "print(\"🌿 Creating branching z-stack morphology...\")\n",
    "print()\n",
    "\n",
    "# Branching morphology parameters\n",
    "shape_params = {\n",
    "    'trunk_length': 15,    # 15 μm main trunk\n",
    "    'trunk_radius': 4,     # 4 μm trunk radius\n",
    "    'branch_length': 12,   # 12 μm branch length\n",
    "    'branch_radius': 3,    # 3 μm branch radius\n",
    "    'branch_angle': 45,    # 45° branch angle\n",
    "    'z_resolution': 0.5,   # 0.5 μm per z-slice\n",
    "    'xy_resolution': 0.5   # 0.5 μm per xy-pixel\n",
    "}\n",
    "\n",
    "# Create the Y-branch z-stack\n",
    "z_stack, metadata = create_branching_zstack(**shape_params)\n",
    "\n",
    "print(f\"✓ Y-branch z-stack created: {z_stack.shape} voxels\")\n",
    "print(f\"✓ Dimensions (z,y,x): {z_stack.shape}\")\n",
    "print(f\"✓ Voxel count: {np.sum(z_stack):,} inside neuron\")\n",
    "print(f\"✓ Fill ratio: {np.sum(z_stack)/z_stack.size:.3f}\")\n",
    "print()\n",
    "print(\"📋 Y-branch Parameters:\")\n",
    "for key, value in shape_params.items():\n",
    "    print(f\"   • {key}: {value}\")\n",
    "print()\n",
    "print(\"📋 Metadata:\")\n",
    "for key, value in metadata.items():\n",
    "    print(f\"   • {key}: {value}\")\n",
    "print()\n",
    "print(\"🎯 Y-branch z-stack ready for analysis!\")"
   ]
  },
  {
   "cell_type": "markdown",
   "id": "2a655e9a",
   "metadata": {},
   "source": [
    "## 3. Visualizing the Y-Branch Z-stack\n",
    "\n",
    "Let's visualize the Y-branch morphology to understand its 3D branching structure."
   ]
  },
  {
   "cell_type": "code",
   "execution_count": 3,
   "id": "10e4973e",
   "metadata": {},
   "outputs": [
    {
     "name": "stdout",
     "output_type": "stream",
     "text": [
      "🎨 Creating 3D visualization of Y-branch z-stack...\n"
     ]
    },
    {
     "data": {
      "application/vnd.plotly.v1+json": {
       "config": {
        "plotlyServerURL": "https://plot.ly"
       },
       "data": [
        {
         "marker": {
          "color": "lightblue",
          "opacity": 0.7,
          "size": 2
         },
         "mode": "markers",
         "name": "Neuron Volume",
         "type": "scatter3d",
         "x": {
          "bdata": "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",
          "dtype": "f8"
         },
         "y": {
          "bdata": "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",
          "dtype": "f8"
         },
         "z": {
          "bdata": "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",
          "dtype": "f8"
         }
        }
       ],
       "layout": {
        "scene": {
         "aspectmode": "data",
         "xaxis": {
          "title": {
           "text": "X (µm)"
          }
         },
         "yaxis": {
          "title": {
           "text": "Y (µm)"
          }
         },
         "zaxis": {
          "title": {
           "text": "Z (µm)"
          }
         }
        },
        "template": {
         "data": {
          "bar": [
           {
            "error_x": {
             "color": "#2a3f5f"
            },
            "error_y": {
             "color": "#2a3f5f"
            },
            "marker": {
             "line": {
              "color": "#E5ECF6",
              "width": 0.5
             },
             "pattern": {
              "fillmode": "overlay",
              "size": 10,
              "solidity": 0.2
             }
            },
            "type": "bar"
           }
          ],
          "barpolar": [
           {
            "marker": {
             "line": {
              "color": "#E5ECF6",
              "width": 0.5
             },
             "pattern": {
              "fillmode": "overlay",
              "size": 10,
              "solidity": 0.2
             }
            },
            "type": "barpolar"
           }
          ],
          "carpet": [
           {
            "aaxis": {
             "endlinecolor": "#2a3f5f",
             "gridcolor": "white",
             "linecolor": "white",
             "minorgridcolor": "white",
             "startlinecolor": "#2a3f5f"
            },
            "baxis": {
             "endlinecolor": "#2a3f5f",
             "gridcolor": "white",
             "linecolor": "white",
             "minorgridcolor": "white",
             "startlinecolor": "#2a3f5f"
            },
            "type": "carpet"
           }
          ],
          "choropleth": [
           {
            "colorbar": {
             "outlinewidth": 0,
             "ticks": ""
            },
            "type": "choropleth"
           }
          ],
          "contour": [
           {
            "colorbar": {
             "outlinewidth": 0,
             "ticks": ""
            },
            "colorscale": [
             [
              0,
              "#0d0887"
             ],
             [
              0.1111111111111111,
              "#46039f"
             ],
             [
              0.2222222222222222,
              "#7201a8"
             ],
             [
              0.3333333333333333,
              "#9c179e"
             ],
             [
              0.4444444444444444,
              "#bd3786"
             ],
             [
              0.5555555555555556,
              "#d8576b"
             ],
             [
              0.6666666666666666,
              "#ed7953"
             ],
             [
              0.7777777777777778,
              "#fb9f3a"
             ],
             [
              0.8888888888888888,
              "#fdca26"
             ],
             [
              1,
              "#f0f921"
             ]
            ],
            "type": "contour"
           }
          ],
          "contourcarpet": [
           {
            "colorbar": {
             "outlinewidth": 0,
             "ticks": ""
            },
            "type": "contourcarpet"
           }
          ],
          "heatmap": [
           {
            "colorbar": {
             "outlinewidth": 0,
             "ticks": ""
            },
            "colorscale": [
             [
              0,
              "#0d0887"
             ],
             [
              0.1111111111111111,
              "#46039f"
             ],
             [
              0.2222222222222222,
              "#7201a8"
             ],
             [
              0.3333333333333333,
              "#9c179e"
             ],
             [
              0.4444444444444444,
              "#bd3786"
             ],
             [
              0.5555555555555556,
              "#d8576b"
             ],
             [
              0.6666666666666666,
              "#ed7953"
             ],
             [
              0.7777777777777778,
              "#fb9f3a"
             ],
             [
              0.8888888888888888,
              "#fdca26"
             ],
             [
              1,
              "#f0f921"
             ]
            ],
            "type": "heatmap"
           }
          ],
          "histogram": [
           {
            "marker": {
             "pattern": {
              "fillmode": "overlay",
              "size": 10,
              "solidity": 0.2
             }
            },
            "type": "histogram"
           }
          ],
          "histogram2d": [
           {
            "colorbar": {
             "outlinewidth": 0,
             "ticks": ""
            },
            "colorscale": [
             [
              0,
              "#0d0887"
             ],
             [
              0.1111111111111111,
              "#46039f"
             ],
             [
              0.2222222222222222,
              "#7201a8"
             ],
             [
              0.3333333333333333,
              "#9c179e"
             ],
             [
              0.4444444444444444,
              "#bd3786"
             ],
             [
              0.5555555555555556,
              "#d8576b"
             ],
             [
              0.6666666666666666,
              "#ed7953"
             ],
             [
              0.7777777777777778,
              "#fb9f3a"
             ],
             [
              0.8888888888888888,
              "#fdca26"
             ],
             [
              1,
              "#f0f921"
             ]
            ],
            "type": "histogram2d"
           }
          ],
          "histogram2dcontour": [
           {
            "colorbar": {
             "outlinewidth": 0,
             "ticks": ""
            },
            "colorscale": [
             [
              0,
              "#0d0887"
             ],
             [
              0.1111111111111111,
              "#46039f"
             ],
             [
              0.2222222222222222,
              "#7201a8"
             ],
             [
              0.3333333333333333,
              "#9c179e"
             ],
             [
              0.4444444444444444,
              "#bd3786"
             ],
             [
              0.5555555555555556,
              "#d8576b"
             ],
             [
              0.6666666666666666,
              "#ed7953"
             ],
             [
              0.7777777777777778,
              "#fb9f3a"
             ],
             [
              0.8888888888888888,
              "#fdca26"
             ],
             [
              1,
              "#f0f921"
             ]
            ],
            "type": "histogram2dcontour"
           }
          ],
          "mesh3d": [
           {
            "colorbar": {
             "outlinewidth": 0,
             "ticks": ""
            },
            "type": "mesh3d"
           }
          ],
          "parcoords": [
           {
            "line": {
             "colorbar": {
              "outlinewidth": 0,
              "ticks": ""
             }
            },
            "type": "parcoords"
           }
          ],
          "pie": [
           {
            "automargin": true,
            "type": "pie"
           }
          ],
          "scatter": [
           {
            "fillpattern": {
             "fillmode": "overlay",
             "size": 10,
             "solidity": 0.2
            },
            "type": "scatter"
           }
          ],
          "scatter3d": [
           {
            "line": {
             "colorbar": {
              "outlinewidth": 0,
              "ticks": ""
             }
            },
            "marker": {
             "colorbar": {
              "outlinewidth": 0,
              "ticks": ""
             }
            },
            "type": "scatter3d"
           }
          ],
          "scattercarpet": [
           {
            "marker": {
             "colorbar": {
              "outlinewidth": 0,
              "ticks": ""
             }
            },
            "type": "scattercarpet"
           }
          ],
          "scattergeo": [
           {
            "marker": {
             "colorbar": {
              "outlinewidth": 0,
              "ticks": ""
             }
            },
            "type": "scattergeo"
           }
          ],
          "scattergl": [
           {
            "marker": {
             "colorbar": {
              "outlinewidth": 0,
              "ticks": ""
             }
            },
            "type": "scattergl"
           }
          ],
          "scattermap": [
           {
            "marker": {
             "colorbar": {
              "outlinewidth": 0,
              "ticks": ""
             }
            },
            "type": "scattermap"
           }
          ],
          "scattermapbox": [
           {
            "marker": {
             "colorbar": {
              "outlinewidth": 0,
              "ticks": ""
             }
            },
            "type": "scattermapbox"
           }
          ],
          "scatterpolar": [
           {
            "marker": {
             "colorbar": {
              "outlinewidth": 0,
              "ticks": ""
             }
            },
            "type": "scatterpolar"
           }
          ],
          "scatterpolargl": [
           {
            "marker": {
             "colorbar": {
              "outlinewidth": 0,
              "ticks": ""
             }
            },
            "type": "scatterpolargl"
           }
          ],
          "scatterternary": [
           {
            "marker": {
             "colorbar": {
              "outlinewidth": 0,
              "ticks": ""
             }
            },
            "type": "scatterternary"
           }
          ],
          "surface": [
           {
            "colorbar": {
             "outlinewidth": 0,
             "ticks": ""
            },
            "colorscale": [
             [
              0,
              "#0d0887"
             ],
             [
              0.1111111111111111,
              "#46039f"
             ],
             [
              0.2222222222222222,
              "#7201a8"
             ],
             [
              0.3333333333333333,
              "#9c179e"
             ],
             [
              0.4444444444444444,
              "#bd3786"
             ],
             [
              0.5555555555555556,
              "#d8576b"
             ],
             [
              0.6666666666666666,
              "#ed7953"
             ],
             [
              0.7777777777777778,
              "#fb9f3a"
             ],
             [
              0.8888888888888888,
              "#fdca26"
             ],
             [
              1,
              "#f0f921"
             ]
            ],
            "type": "surface"
           }
          ],
          "table": [
           {
            "cells": {
             "fill": {
              "color": "#EBF0F8"
             },
             "line": {
              "color": "white"
             }
            },
            "header": {
             "fill": {
              "color": "#C8D4E3"
             },
             "line": {
              "color": "white"
             }
            },
            "type": "table"
           }
          ]
         },
         "layout": {
          "annotationdefaults": {
           "arrowcolor": "#2a3f5f",
           "arrowhead": 0,
           "arrowwidth": 1
          },
          "autotypenumbers": "strict",
          "coloraxis": {
           "colorbar": {
            "outlinewidth": 0,
            "ticks": ""
           }
          },
          "colorscale": {
           "diverging": [
            [
             0,
             "#8e0152"
            ],
            [
             0.1,
             "#c51b7d"
            ],
            [
             0.2,
             "#de77ae"
            ],
            [
             0.3,
             "#f1b6da"
            ],
            [
             0.4,
             "#fde0ef"
            ],
            [
             0.5,
             "#f7f7f7"
            ],
            [
             0.6,
             "#e6f5d0"
            ],
            [
             0.7,
             "#b8e186"
            ],
            [
             0.8,
             "#7fbc41"
            ],
            [
             0.9,
             "#4d9221"
            ],
            [
             1,
             "#276419"
            ]
           ],
           "sequential": [
            [
             0,
             "#0d0887"
            ],
            [
             0.1111111111111111,
             "#46039f"
            ],
            [
             0.2222222222222222,
             "#7201a8"
            ],
            [
             0.3333333333333333,
             "#9c179e"
            ],
            [
             0.4444444444444444,
             "#bd3786"
            ],
            [
             0.5555555555555556,
             "#d8576b"
            ],
            [
             0.6666666666666666,
             "#ed7953"
            ],
            [
             0.7777777777777778,
             "#fb9f3a"
            ],
            [
             0.8888888888888888,
             "#fdca26"
            ],
            [
             1,
             "#f0f921"
            ]
           ],
           "sequentialminus": [
            [
             0,
             "#0d0887"
            ],
            [
             0.1111111111111111,
             "#46039f"
            ],
            [
             0.2222222222222222,
             "#7201a8"
            ],
            [
             0.3333333333333333,
             "#9c179e"
            ],
            [
             0.4444444444444444,
             "#bd3786"
            ],
            [
             0.5555555555555556,
             "#d8576b"
            ],
            [
             0.6666666666666666,
             "#ed7953"
            ],
            [
             0.7777777777777778,
             "#fb9f3a"
            ],
            [
             0.8888888888888888,
             "#fdca26"
            ],
            [
             1,
             "#f0f921"
            ]
           ]
          },
          "colorway": [
           "#636efa",
           "#EF553B",
           "#00cc96",
           "#ab63fa",
           "#FFA15A",
           "#19d3f3",
           "#FF6692",
           "#B6E880",
           "#FF97FF",
           "#FECB52"
          ],
          "font": {
           "color": "#2a3f5f"
          },
          "geo": {
           "bgcolor": "white",
           "lakecolor": "white",
           "landcolor": "#E5ECF6",
           "showlakes": true,
           "showland": true,
           "subunitcolor": "white"
          },
          "hoverlabel": {
           "align": "left"
          },
          "hovermode": "closest",
          "mapbox": {
           "style": "light"
          },
          "paper_bgcolor": "white",
          "plot_bgcolor": "#E5ECF6",
          "polar": {
           "angularaxis": {
            "gridcolor": "white",
            "linecolor": "white",
            "ticks": ""
           },
           "bgcolor": "#E5ECF6",
           "radialaxis": {
            "gridcolor": "white",
            "linecolor": "white",
            "ticks": ""
           }
          },
          "scene": {
           "xaxis": {
            "backgroundcolor": "#E5ECF6",
            "gridcolor": "white",
            "gridwidth": 2,
            "linecolor": "white",
            "showbackground": true,
            "ticks": "",
            "zerolinecolor": "white"
           },
           "yaxis": {
            "backgroundcolor": "#E5ECF6",
            "gridcolor": "white",
            "gridwidth": 2,
            "linecolor": "white",
            "showbackground": true,
            "ticks": "",
            "zerolinecolor": "white"
           },
           "zaxis": {
            "backgroundcolor": "#E5ECF6",
            "gridcolor": "white",
            "gridwidth": 2,
            "linecolor": "white",
            "showbackground": true,
            "ticks": "",
            "zerolinecolor": "white"
           }
          },
          "shapedefaults": {
           "line": {
            "color": "#2a3f5f"
           }
          },
          "ternary": {
           "aaxis": {
            "gridcolor": "white",
            "linecolor": "white",
            "ticks": ""
           },
           "baxis": {
            "gridcolor": "white",
            "linecolor": "white",
            "ticks": ""
           },
           "bgcolor": "#E5ECF6",
           "caxis": {
            "gridcolor": "white",
            "linecolor": "white",
            "ticks": ""
           }
          },
          "title": {
           "x": 0.05
          },
          "xaxis": {
           "automargin": true,
           "gridcolor": "white",
           "linecolor": "white",
           "ticks": "",
           "title": {
            "standoff": 15
           },
           "zerolinecolor": "white",
           "zerolinewidth": 2
          },
          "yaxis": {
           "automargin": true,
           "gridcolor": "white",
           "linecolor": "white",
           "ticks": "",
           "title": {
            "standoff": 15
           },
           "zerolinecolor": "white",
           "zerolinewidth": 2
          }
         }
        },
        "title": {
         "text": "Z-stack Neuron Morphology"
        }
       }
      }
     },
     "metadata": {},
     "output_type": "display_data"
    },
    {
     "name": "stdout",
     "output_type": "stream",
     "text": [
      "✓ 3D visualization complete!\n",
      "💡 Interact with the plot: rotate to see the Y-branch structure from different angles\n",
      "🔍 Notice the branching point where the trunk splits into two daughter branches\n"
     ]
    }
   ],
   "source": [
    "# Visualize the Y-branch z-stack in 3D\n",
    "print(\"🎨 Creating 3D visualization of Y-branch z-stack...\")\n",
    "\n",
    "# Create interactive 3D plot\n",
    "fig_y_branch = visualize_zstack_3d(\n",
    "    z_stack, \n",
    "    metadata=metadata,\n",
    ")\n",
    "\n",
    "# Display the plot\n",
    "fig_y_branch.show()\n",
    "\n",
    "print(\"✓ 3D visualization complete!\")\n",
    "print(\"💡 Interact with the plot: rotate to see the Y-branch structure from different angles\")\n",
    "print(\"🔍 Notice the branching point where the trunk splits into two daughter branches\")"
   ]
  },
  {
   "cell_type": "markdown",
   "id": "71bb833d",
   "metadata": {},
   "source": [
    "## 4. Analyzing Y-Branch Properties\n",
    "\n",
    "Let's analyze the morphometric properties and branching characteristics of our Y-shaped z-stack."
   ]
  },
  {
   "cell_type": "code",
   "execution_count": 4,
   "id": "d267e0d2",
   "metadata": {},
   "outputs": [
    {
     "name": "stdout",
     "output_type": "stream",
     "text": [
      "🔬 Analyzing branching z-stack properties...\n",
      "\n",
      "📊 Y-Branch Z-stack Analysis Results:\n",
      "=============================================\n",
      "📏 Volume: 1131.5 μm³\n",
      "📐 Surface area: 643.0 μm²\n",
      "📦 Bounding box: [0, 31.0, 0, 14.0, 0, 29.5]\n",
      "🔗 Connected components: 1\n",
      "🧮 Euler number: 2\n",
      "\n",
      "🧪 Volume Analysis:\n",
      "   Trunk volume: 754.0 μm³\n",
      "   Branches volume: 678.6 μm³\n",
      "   Theoretical total: 1432.6 μm³\n",
      "   Measured total: 1131.5 μm³\n",
      "   Ratio (measured/theoretical): 0.790\n",
      "\n",
      "🎯 Analysis complete! Y-branch shows complex 3D branching topology.\n"
     ]
    }
   ],
   "source": [
    "# Analyze branching z-stack properties\n",
    "print(\"🔬 Analyzing branching z-stack properties...\")\n",
    "print()\n",
    "\n",
    "# Perform detailed analysis\n",
    "properties = analyze_zstack_properties(z_stack, metadata)\n",
    "\n",
    "print(\"📊 Y-Branch Z-stack Analysis Results:\")\n",
    "print(\"=\" * 45)\n",
    "print(f\"📏 Volume: {properties['volume']:.1f} μm³\")\n",
    "print(f\"📐 Surface area: {properties['surface_area']:.1f} μm²\")\n",
    "print(f\"📦 Bounding box: {properties['bounding_box']}\")\n",
    "print(f\"🔗 Connected components: {properties['connected_components']}\")\n",
    "print(f\"🧮 Euler number: {properties['euler_number']}\")\n",
    "print()\n",
    "\n",
    "# Theoretical volume estimation\n",
    "trunk_volume = np.pi * (shape_params['trunk_radius']**2) * shape_params['trunk_length']\n",
    "branch_volume = 2 * np.pi * (shape_params['branch_radius']**2) * shape_params['branch_length']\n",
    "theoretical_volume = trunk_volume + branch_volume\n",
    "\n",
    "print(\"🧪 Volume Analysis:\")\n",
    "print(f\"   Trunk volume: {trunk_volume:.1f} μm³\")\n",
    "print(f\"   Branches volume: {branch_volume:.1f} μm³\")\n",
    "print(f\"   Theoretical total: {theoretical_volume:.1f} μm³\")\n",
    "print(f\"   Measured total: {properties['volume']:.1f} μm³\")\n",
    "print(f\"   Ratio (measured/theoretical): {properties['volume']/theoretical_volume:.3f}\")\n",
    "print()\n",
    "print(\"🎯 Analysis complete! Y-branch shows complex 3D branching topology.\")"
   ]
  },
  {
   "cell_type": "markdown",
   "id": "183a08eb",
   "metadata": {},
   "source": [
    "## 5. Branching Analysis\n",
    "\n",
    "Let's examine the branching structure in detail by analyzing cross-sections and branch regions."
   ]
  },
  {
   "cell_type": "code",
   "execution_count": 5,
   "id": "10536fa3",
   "metadata": {},
   "outputs": [
    {
     "name": "stdout",
     "output_type": "stream",
     "text": [
      "🌿 Detailed branching structure analysis...\n",
      "\n",
      "🟤 Trunk region (z=0 to 14):\n",
      "   • Voxels: 1,536\n",
      "   • Volume: 192.0 μm³\n",
      "\n",
      "🌿 Branch region (z=14 to 59):\n",
      "   • Voxels: 7,516\n",
      "   • Volume: 939.5 μm³\n",
      "\n",
      "🔀 Branching point (z=14):\n",
      "   • Cross-sectional area: 192 pixels\n",
      "   • Area: 48.0 μm²\n",
      "\n",
      "📈 Cross-sectional area progression:\n",
      "   • z= 0:   0 pixels (  0.0 μm²)\n",
      "   • z= 8: 192 pixels ( 48.0 μm²)\n",
      "   • z=16: 192 pixels ( 48.0 μm²)\n",
      "   • z=24: 192 pixels ( 48.0 μm²)\n",
      "   • z=33: 192 pixels ( 48.0 μm²)\n",
      "   • z=41: 208 pixels ( 52.0 μm²)\n",
      "   • z=49: 208 pixels ( 52.0 μm²)\n",
      "   • z=58:   0 pixels (  0.0 μm²)\n",
      "\n",
      "🎯 Branching analysis reveals the transition from single trunk to dual branches!\n"
     ]
    }
   ],
   "source": [
    "# Detailed branching analysis\n",
    "print(\"🌿 Detailed branching structure analysis...\")\n",
    "print()\n",
    "\n",
    "# Analyze different regions of the branching structure\n",
    "z_shape = z_stack.shape[0]\n",
    "\n",
    "# Trunk region (bottom quarter)\n",
    "trunk_region = z_stack[:z_shape//4, :, :]\n",
    "trunk_voxels = np.sum(trunk_region)\n",
    "print(f\"🟤 Trunk region (z=0 to {z_shape//4}):\")\n",
    "print(f\"   • Voxels: {trunk_voxels:,}\")\n",
    "print(f\"   • Volume: {trunk_voxels * (shape_params['xy_resolution']**3):.1f} μm³\")\n",
    "\n",
    "# Branch region (top three quarters)\n",
    "branch_region = z_stack[z_shape//4:, :, :]\n",
    "branch_voxels = np.sum(branch_region)\n",
    "print(f\"\\n🌿 Branch region (z={z_shape//4} to {z_shape}):\")\n",
    "print(f\"   • Voxels: {branch_voxels:,}\")\n",
    "print(f\"   • Volume: {branch_voxels * (shape_params['xy_resolution']**3):.1f} μm³\")\n",
    "\n",
    "# Branching point analysis\n",
    "branch_start = z_shape//4\n",
    "branching_slice = z_stack[branch_start, :, :]\n",
    "branching_area = np.sum(branching_slice)\n",
    "print(f\"\\n🔀 Branching point (z={branch_start}):\")\n",
    "print(f\"   • Cross-sectional area: {branching_area} pixels\")\n",
    "print(f\"   • Area: {branching_area * (shape_params['xy_resolution']**2):.1f} μm²\")\n",
    "\n",
    "# Cross-sectional progression\n",
    "print(f\"\\n📈 Cross-sectional area progression:\")\n",
    "z_samples = np.linspace(0, z_shape-1, 8, dtype=int)\n",
    "areas = []\n",
    "for z in z_samples:\n",
    "    area = np.sum(z_stack[z, :, :])\n",
    "    areas.append(area)\n",
    "    print(f\"   • z={z:2d}: {area:3d} pixels ({area * (shape_params['xy_resolution']**2):5.1f} μm²)\")\n",
    "\n",
    "print()\n",
    "print(\"🎯 Branching analysis reveals the transition from single trunk to dual branches!\")"
   ]
  },
  {
   "cell_type": "markdown",
   "id": "3232c40e",
   "metadata": {},
   "source": [
    "## 6. Cross-sectional Visualization\n",
    "\n",
    "Let's visualize cross-sections at different heights to see how the Y-branch structure changes."
   ]
  },
  {
   "cell_type": "code",
   "execution_count": null,
   "id": "ae72f03f",
   "metadata": {},
   "outputs": [
    {
     "name": "stdout",
     "output_type": "stream",
     "text": [
      "🎨 Creating interactive slice viewer...\n"
     ]
    },
    {
     "data": {
      "application/vnd.plotly.v1+json": {
       "config": {
        "plotlyServerURL": "https://plot.ly"
       },
       "data": [
        {
         "colorbar": {
          "ticktext": [
           "Outside",
           "Inside"
          ],
          "tickvals": [
           0,
           1
          ],
          "title": {
           "text": "Neuron<br>Presence"
          }
         },
         "colorscale": [
          [
           0,
           "#440154"
          ],
          [
           0.1111111111111111,
           "#482878"
          ],
          [
           0.2222222222222222,
           "#3e4989"
          ],
          [
           0.3333333333333333,
           "#31688e"
          ],
          [
           0.4444444444444444,
           "#26828e"
          ],
          [
           0.5555555555555556,
           "#1f9e89"
          ],
          [
           0.6666666666666666,
           "#35b779"
          ],
          [
           0.7777777777777778,
           "#6ece58"
          ],
          [
           0.8888888888888888,
           "#b5de2b"
          ],
          [
           1,
           "#fde725"
          ]
         ],
         "hovertemplate": "<b>X:</b> %{x:.1f} µm<br><b>Y:</b> %{y:.1f} µm<br><b>Value:</b> %{z}<br><extra></extra>",
         "name": "Z-slice 0",
         "showscale": true,
         "type": "heatmap",
         "visible": false,
         "x": {
          "bdata": "2WzfzHb4LsDBCCyxg/QtwKmkeJWQ8CzAkUDFeZ3sK8B63BFequgqwGJ4XkK35CnAShSrJsTgKMAysPcK0dwnwBpMRO/d2CbAAuiQ0+rUJcDqg92399AkwNIfKpwEzSPAurt2gBHJIsCiV8NkHsUhwIvzD0krwSDA5h65WnB6H8C2VlIjinIdwIaO6+ujahvAVsaEtL1iGcAm/h1911oXwPY1t0XxUhXAyG1QDgtLE8CYpenWJEMRwNC6BT99dg7AcCo40LBmCsAQmmph5FYGwLAJnfIXRwLAoPKeB5du/L/o0QMq/k70v1Bi0ZjKXui/oEE2uzE/0L9gQTa7MT/QPzBi0ZjKXug/2NEDKv5O9D+Y8p4Hl278P6wJnfIXRwJADJpqYeRWBkBsKjjQsGYKQMy6BT99dg5AlqXp1iRDEUDGbVAOC0sTQPI1t0XxUhVAIv4dfddaF0BSxoS0vWIZQIKO6+ujahtAslZSI4pyHUDiHrlacHofQInzD0krwSBAoVfDZB7FIUC5u3aAEckiQNEfKpwEzSNA6YPdt/fQJEAB6JDT6tQlQBlMRO/d2CZAMbD3CtHcJ0BJFKsmxOAoQF94XkK35ClAd9wRXqroKkCPQMV5newrQKekeJWQ8CxAvwgssYP0LUDZbN/MdvguQA==",
          "dtype": "f8"
         },
         "y": {
          "bdata": "AAAAAAAAHMDRXkJ7Ce0ZwKG9hPYS2hfAchzHcRzHFcBCewntJbQTwBPaS2gvoRHAyHEcx3EcD8BpL6G9hPYKwArtJbSX0AbArKqqqqqqAsCY0F5Cewn9v9xLaC+hvfS/QI7jOI7j6L+ACe0ltJfQv3AJ7SW0l9A/OI7jOI7j6D/YS2gvob30P5jQXkJ7Cf0/qKqqqqqqAkAI7SW0l9AGQGgvob2E9gpAxHEcx3EcD0AS2ktoL6ERQEJ7Ce0ltBNAcBzHcRzHFUCgvYT2EtoXQNBeQnsJ7RlAAAAAAAAAHEA=",
          "dtype": "f8"
         },
         "z": {
          "bdata": "AAAAAAAAAAAAAAAAAAAAAAAAAAAAAAAAAAAAAAAAAAAAAAAAAAAAAAAAAAAAAAAAAAAAAAAAAAAAAAAAAAAAAAAAAAAAAAAAAAAAAAAAAAAAAAAAAAAAAAAAAAAAAAAAAAAAAAAAAAAAAAAAAAAAAAAAAAAAAAAAAAAAAAAAAAAAAAAAAAAAAAAAAAAAAAAAAAAAAAAAAAAAAAAAAAAAAAAAAAAAAAAAAAAAAAAAAAAAAAAAAAAAAAAAAAAAAAAAAAAAAAAAAAAAAAAAAAAAAAAAAAAAAAAAAAAAAAAAAAAAAAAAAAAAAAAAAAAAAAAAAAAAAAAAAAAAAAAAAAAAAAAAAAAAAAAAAAAAAAAAAAAAAAAAAAAAAAAAAAAAAAAAAAAAAAAAAAAAAAAAAAAAAAAAAAAAAAAAAAAAAAAAAAAAAAAAAAAAAAAAAAAAAAAAAAAAAAAAAAAAAAAAAAAAAAAAAAAAAAAAAAAAAAAAAAAAAAAAAAAAAAAAAAAAAAAAAAAAAAAAAAAAAAAAAAAAAAAAAAAAAAAAAAAAAAAAAAAAAAAAAAAAAAAAAAAAAAAAAAAAAAAAAAAAAAAAAAAAAAAAAAAAAAAAAAAAAAAAAAAAAAAAAAAAAAAAAAAAAAAAAAAAAAAAAAAAAAAAAAAAAAAAAAAAAAAAAAAAAAAAAAAAAAAAAAAAAAAAAAAAAAAAAAAAAAAAAAAAAAAAAAAAAAAAAAAAAAAAAAAAAAAAAAAAAAAAAAAAAAAAAAAAAAAAAAAAAAAAAAAAAAAAAAAAAAAAAAAAAAAAAAAAAAAAAAAAAAAAAAAAAAAAAAAAAAAAAAAAAAAAAAAAAAAAAAAAAAAAAAAAAAAAAAAAAAAAAAAAAAAAAAAAAAAAAAAAAAAAAAAAAAAAAAAAAAAAAAAAAAAAAAAAAAAAAAAAAAAAAAAAAAAAAAAAAAAAAAAAAAAAAAAAAAAAAAAAAAAAAAAAAAAAAAAAAAAAAAAAAAAAAAAAAAAAAAAAAAAAAAAAAAAAAAAAAAAAAAAAAAAAAAAAAAAAAAAAAAAAAAAAAAAAAAAAAAAAAAAAAAAAAAAAAAAAAAAAAAAAAAAAAAAAAAAAAAAAAAAAAAAAAAAAAAAAAAAAAAAAAAAAAAAAAAAAAAAAAAAAAAAAAAAAAAAAAAAAAAAAAAAAAAAAAAAAAAAAAAAAAAAAAAAAAAAAAAAAAAAAAAAAAAAAAAAAAAAAAAAAAAAAAAAAAAAAAAAAAAAAAAAAAAAAAAAAAAAAAAAAAAAAAAAAAAAAAAAAAAAAAAAAAAAAAAAAAAAAAAAAAAAAAAAAAAAAAAAAAAAAAAAAAAAAAAAAAAAAAAAAAAAAAAAAAAAAAAAAAAAAAAAAAAAAAAAAAAAAAAAAAAAAAAAAAAAAAAAAAAAAAAAAAAAAAAAAAAAAAAAAAAAAAAAAAAAAAAAAAAAAAAAAAAAAAAAAAAAAAAAAAAAAAAAAAAAAAAAAAAAAAAAAAAAAAAAAAAAAAAAAAAAAAAAAAAAAAAAAAAAAAAAAAAAAAAAAAAAAAAAAAAAAAAAAAAAAAAAAAAAAAAAAAAAAAAAAAAAAAAAAAAAAAAAAAAAAAAAAAAAAAAAAAAAAAAAAAAAAAAAAAAAAAAAAAAAAAAAAAAAAAAAAAAAAAAAAAAAAAAAAAAAAAAAAAAAAAAAAAAAAAAAAAAAAAAAAAAAAAAAAAAAAAAAAAAAAAAAAAAAAAAAAAAAAAAAAAAAAAAAAAAAAAAAAAAAAAAAAAAAAAAAAAAAAAAAAAAAAAAAAAAAAAAAAAAAAAAAAAAAAAAAAAAAAAAAAAAAAAAAAAAAAAAAAAAAAAAAAAAAAAAAAAAAAAAAAAAAAAAAAAAAAAAAAAAAAAAAAAAAAAAAAAAAAAAAAAAAAAAAAAAAAAAAAAAAAAAAAAAAAAAAAAAAAAAAAAAAAAAAAAAAAAAAAAAAAAAAAAAAAAAAAAAAAAAAAAAAAAAAAAAAAAAAAAAAAAAAAAAAAAAAAAAAAAAAAAAAAAAAAAAAAAAAAAAAAAAAAAAAAAAAAAAAAAAAAAAAAAAAAAAAAAAAAAAAAAAAAAAAAAAAAAAAAAAAAAAAAAAAAAAAAAAAAAAAAAAAAAAAAAAAAAAAAAAAAAAAAAAAAAAAAAAAAAAAAAAAAAAAAAAAAAAAAAAAAAAAAAAAAAAAAAAAAAAAAAAAAAAAAAAAAAAAAAAAAAAAAAAAAAAAAAAAAAAAAAAAAAAAAAAAAAAAAAAAAAAAAAAAAAAAAAAAAAAAAAAAAAAAAAAAAAAAAAAAAAAAAAAA=",
          "dtype": "u1",
          "shape": "28, 62"
         }
        },
        {
         "colorbar": {
          "ticktext": [
           "Outside",
           "Inside"
          ],
          "tickvals": [
           0,
           1
          ],
          "title": {
           "text": "Neuron<br>Presence"
          }
         },
         "colorscale": [
          [
           0,
           "#440154"
          ],
          [
           0.1111111111111111,
           "#482878"
          ],
          [
           0.2222222222222222,
           "#3e4989"
          ],
          [
           0.3333333333333333,
           "#31688e"
          ],
          [
           0.4444444444444444,
           "#26828e"
          ],
          [
           0.5555555555555556,
           "#1f9e89"
          ],
          [
           0.6666666666666666,
           "#35b779"
          ],
          [
           0.7777777777777778,
           "#6ece58"
          ],
          [
           0.8888888888888888,
           "#b5de2b"
          ],
          [
           1,
           "#fde725"
          ]
         ],
         "hovertemplate": "<b>X:</b> %{x:.1f} µm<br><b>Y:</b> %{y:.1f} µm<br><b>Value:</b> %{z}<br><extra></extra>",
         "name": "Z-slice 1",
         "showscale": true,
         "type": "heatmap",
         "visible": false,
         "x": {
          "bdata": "2WzfzHb4LsDBCCyxg/QtwKmkeJWQ8CzAkUDFeZ3sK8B63BFequgqwGJ4XkK35CnAShSrJsTgKMAysPcK0dwnwBpMRO/d2CbAAuiQ0+rUJcDqg92399AkwNIfKpwEzSPAurt2gBHJIsCiV8NkHsUhwIvzD0krwSDA5h65WnB6H8C2VlIjinIdwIaO6+ujahvAVsaEtL1iGcAm/h1911oXwPY1t0XxUhXAyG1QDgtLE8CYpenWJEMRwNC6BT99dg7AcCo40LBmCsAQmmph5FYGwLAJnfIXRwLAoPKeB5du/L/o0QMq/k70v1Bi0ZjKXui/oEE2uzE/0L9gQTa7MT/QPzBi0ZjKXug/2NEDKv5O9D+Y8p4Hl278P6wJnfIXRwJADJpqYeRWBkBsKjjQsGYKQMy6BT99dg5AlqXp1iRDEUDGbVAOC0sTQPI1t0XxUhVAIv4dfddaF0BSxoS0vWIZQIKO6+ujahtAslZSI4pyHUDiHrlacHofQInzD0krwSBAoVfDZB7FIUC5u3aAEckiQNEfKpwEzSNA6YPdt/fQJEAB6JDT6tQlQBlMRO/d2CZAMbD3CtHcJ0BJFKsmxOAoQF94XkK35ClAd9wRXqroKkCPQMV5newrQKekeJWQ8CxAvwgssYP0LUDZbN/MdvguQA==",
          "dtype": "f8"
         },
         "y": {
          "bdata": "AAAAAAAAHMDRXkJ7Ce0ZwKG9hPYS2hfAchzHcRzHFcBCewntJbQTwBPaS2gvoRHAyHEcx3EcD8BpL6G9hPYKwArtJbSX0AbArKqqqqqqAsCY0F5Cewn9v9xLaC+hvfS/QI7jOI7j6L+ACe0ltJfQv3AJ7SW0l9A/OI7jOI7j6D/YS2gvob30P5jQXkJ7Cf0/qKqqqqqqAkAI7SW0l9AGQGgvob2E9gpAxHEcx3EcD0AS2ktoL6ERQEJ7Ce0ltBNAcBzHcRzHFUCgvYT2EtoXQNBeQnsJ7RlAAAAAAAAAHEA=",
          "dtype": "f8"
         },
         "z": {
          "bdata": "AAAAAAAAAAAAAAAAAAAAAAAAAAAAAAAAAAAAAAAAAAAAAAAAAAAAAAAAAAAAAAAAAAAAAAAAAAAAAAAAAAAAAAAAAAAAAAAAAAAAAAAAAAAAAAAAAAAAAAAAAAAAAAAAAAAAAAAAAAAAAAAAAAAAAAAAAAAAAAAAAAAAAAAAAAAAAAAAAAAAAAAAAAAAAAAAAAAAAAAAAAAAAAAAAAAAAAAAAAAAAAAAAAAAAAAAAAAAAAAAAAAAAAAAAAAAAAAAAAAAAAAAAAAAAAAAAAAAAAAAAAAAAAAAAAAAAAAAAAAAAAAAAAAAAAAAAAAAAAAAAAAAAAAAAAAAAAAAAAAAAAAAAAAAAAAAAAAAAAAAAAAAAAAAAAAAAAAAAAAAAAAAAAAAAAAAAAAAAAAAAAAAAAAAAAAAAAAAAAAAAAAAAAAAAAAAAAAAAAAAAAAAAAAAAAAAAAAAAAAAAAAAAAAAAAAAAAAAAAAAAAAAAAAAAAAAAAAAAAAAAAAAAAAAAAAAAAAAAAAAAAAAAAAAAAAAAAAAAAAAAAAAAAAAAAAAAAAAAAAAAAAAAAAAAAAAAAAAAAAAAAAAAAAAAAAAAAAAAAAAAAAAAAAAAAAAAAAAAAAAAAAAAAAAAAAAAAAAAAAAAAAAAAAAAAAAAAAAAAAAAAAAAAAAAAAAAAAAAAAAAAAAAAAAAAAAAAAAAAAAAAAAAAAAAAAAAAAAAAAAAAAAAAAAAAAAAAAAAAAAAAAAAAAAAAAAAAAAAAAAAAAAAAAAAAAAAAAAAAAAAAAAAAAAAAAAAAAAAAAAAAAAAAAAAAAAAAAAAAAAAAAAAAAAAAAAAAAAAAAAAAAAAAAAAAAAAAAAAAAAAAAAAAAAAAAAAAAAAAAAAAAAAAAAAAAAAAAAAAAAAAAAAAAAAAAAAAAAAAAAAAAAAAAAAAAAAAAAAAAAAAAAAAAAAAAAAAAAAAAAAAAAAAAAAAAAAAAAAAAAAAAAAAAAAAAAAAAAAAAAAAAAAAAAAAAAAAAAAAAAAAAAAAAAAAAAAAAAAAAAAAAAAAAAAAAAAAAAAAAAAAAAAAAAAAAAAAAAAAAAAAAAAAAAAAAAAAAAAAAAAAAAAAAAAAAAAAAAAAAAAAAAAAAAAAAAAAAAAAAAAAAAAAAAAAAAAAAAAAAAAAAAAAAAAAAAAAAAAAAAAAAAAAAAAAAAAAAAAAAAAAAAAAAAAAAAAAAAAAAAAAAAAAAAAAAAAAAAAAAAAAAAAAAAAAAAAAAAAAAAAAAAAAAAAAAAAAAAAAAAAAAAAAAAAAAAAAAAAAAAAAAAAAAAAAAAAAAAAAAAAAAAAAAAAAAAAAAAAAAAAAAAAAAAAAAAAAAAAAAAAAAAAAAAAAAAAAAAAAAAAAAAAAAAAAAAAAAAAAAAAAAAAAAAAAAAAAAAAAAAAAAAAAAAAAAAAAAAAAAAAAAAAAAAAAAAAAAAAAAAAAAAAAAAAAAAAAAAAAAAAAAAAAAAAAAAAAAAAAAAAAAAAAAAAAAAAAAAAAAAAAAAAAAAAAAAAAAAAAAAAAAAAAAAAAAAAAAAAAAAAAAAAAAAAAAAAAAAAAAAAAAAAAAAAAAAAAAAAAAAAAAAAAAAAAAAAAAAAAAAAAAAAAAAAAAAAAAAAAAAAAAAAAAAAAAAAAAAAAAAAAAAAAAAAAAAAAAAAAAAAAAAAAAAAAAAAAAAAAAAAAAAAAAAAAAAAAAAAAAAAAAAAAAAAAAAAAAAAAAAAAAAAAAAAAAAAAAAAAAAAAAAAAAAAAAAAAAAAAAAAAAAAAAAAAAAAAAAAAAAAAAAAAAAAAAAAAAAAAAAAAAAAAAAAAAAAAAAAAAAAAAAAAAAAAAAAAAAAAAAAAAAAAAAAAAAAAAAAAAAAAAAAAAAAAAAAAAAAAAAAAAAAAAAAAAAAAAAAAAAAAAAAAAAAAAAAAAAAAAAAAAAAAAAAAAAAAAAAAAAAAAAAAAAAAAAAAAAAAAAAAAAAAAAAAAAAAAAAAAAAAAAAAAAAAAAAAAAAAAAAAAAAAAAAAAAAAAAAAAAAAAAAAAAAAAAAAAAAAAAAAAAAAAAAAAAAAAAAAAAAAAAAAAAAAAAAAAAAAAAAAAAAAAAAAAAAAAAAAAAAAAAAAAAAAAAAAAAAAAAAAAAAAAAAAAAAAAAAAAAAAAAAAAAAAAAAAAAAAAAAAAAAAAAAAAAAAAAAAAAAAAAAAAAAAAAAAAAAAAAAAAAAAAAAAAAAAAAAAAAAAAAAAAAAAAAAAAAAAAAAAAAAAAAAAAAAAAAAAAAAAAAAAAAAAAAAAAAAAAAAAAAAAAAAAAAAAA=",
          "dtype": "u1",
          "shape": "28, 62"
         }
        },
        {
         "colorbar": {
          "ticktext": [
           "Outside",
           "Inside"
          ],
          "tickvals": [
           0,
           1
          ],
          "title": {
           "text": "Neuron<br>Presence"
          }
         },
         "colorscale": [
          [
           0,
           "#440154"
          ],
          [
           0.1111111111111111,
           "#482878"
          ],
          [
           0.2222222222222222,
           "#3e4989"
          ],
          [
           0.3333333333333333,
           "#31688e"
          ],
          [
           0.4444444444444444,
           "#26828e"
          ],
          [
           0.5555555555555556,
           "#1f9e89"
          ],
          [
           0.6666666666666666,
           "#35b779"
          ],
          [
           0.7777777777777778,
           "#6ece58"
          ],
          [
           0.8888888888888888,
           "#b5de2b"
          ],
          [
           1,
           "#fde725"
          ]
         ],
         "hovertemplate": "<b>X:</b> %{x:.1f} µm<br><b>Y:</b> %{y:.1f} µm<br><b>Value:</b> %{z}<br><extra></extra>",
         "name": "Z-slice 2",
         "showscale": true,
         "type": "heatmap",
         "visible": false,
         "x": {
          "bdata": "2WzfzHb4LsDBCCyxg/QtwKmkeJWQ8CzAkUDFeZ3sK8B63BFequgqwGJ4XkK35CnAShSrJsTgKMAysPcK0dwnwBpMRO/d2CbAAuiQ0+rUJcDqg92399AkwNIfKpwEzSPAurt2gBHJIsCiV8NkHsUhwIvzD0krwSDA5h65WnB6H8C2VlIjinIdwIaO6+ujahvAVsaEtL1iGcAm/h1911oXwPY1t0XxUhXAyG1QDgtLE8CYpenWJEMRwNC6BT99dg7AcCo40LBmCsAQmmph5FYGwLAJnfIXRwLAoPKeB5du/L/o0QMq/k70v1Bi0ZjKXui/oEE2uzE/0L9gQTa7MT/QPzBi0ZjKXug/2NEDKv5O9D+Y8p4Hl278P6wJnfIXRwJADJpqYeRWBkBsKjjQsGYKQMy6BT99dg5AlqXp1iRDEUDGbVAOC0sTQPI1t0XxUhVAIv4dfddaF0BSxoS0vWIZQIKO6+ujahtAslZSI4pyHUDiHrlacHofQInzD0krwSBAoVfDZB7FIUC5u3aAEckiQNEfKpwEzSNA6YPdt/fQJEAB6JDT6tQlQBlMRO/d2CZAMbD3CtHcJ0BJFKsmxOAoQF94XkK35ClAd9wRXqroKkCPQMV5newrQKekeJWQ8CxAvwgssYP0LUDZbN/MdvguQA==",
          "dtype": "f8"
         },
         "y": {
          "bdata": "AAAAAAAAHMDRXkJ7Ce0ZwKG9hPYS2hfAchzHcRzHFcBCewntJbQTwBPaS2gvoRHAyHEcx3EcD8BpL6G9hPYKwArtJbSX0AbArKqqqqqqAsCY0F5Cewn9v9xLaC+hvfS/QI7jOI7j6L+ACe0ltJfQv3AJ7SW0l9A/OI7jOI7j6D/YS2gvob30P5jQXkJ7Cf0/qKqqqqqqAkAI7SW0l9AGQGgvob2E9gpAxHEcx3EcD0AS2ktoL6ERQEJ7Ce0ltBNAcBzHcRzHFUCgvYT2EtoXQNBeQnsJ7RlAAAAAAAAAHEA=",
          "dtype": "f8"
         },
         "z": {
          "bdata": "AAAAAAAAAAAAAAAAAAAAAAAAAAAAAAAAAAAAAAAAAAAAAAAAAAAAAAAAAAAAAAAAAAAAAAAAAAAAAAAAAAAAAAAAAAAAAAAAAAAAAAAAAAAAAAAAAAAAAAAAAAAAAAAAAAAAAAAAAAAAAAAAAAAAAAAAAAAAAAAAAAAAAAAAAAAAAAAAAAAAAAAAAAAAAAAAAAAAAAAAAAAAAAAAAAAAAAAAAAAAAAAAAAAAAAAAAAAAAAAAAAAAAAAAAAAAAAAAAAAAAAAAAAAAAAAAAAAAAAAAAAAAAAAAAAAAAAAAAAAAAAAAAAAAAAAAAAAAAAAAAAAAAAAAAAAAAAAAAAAAAAAAAAAAAAAAAAAAAAAAAAAAAAAAAAAAAAAAAAAAAAAAAAAAAAAAAAAAAAAAAAAAAAAAAAAAAAAAAAAAAAAAAAAAAAAAAAAAAAAAAAAAAAAAAAAAAAAAAAAAAAAAAAAAAAAAAAAAAAAAAAAAAAAAAAAAAAAAAAAAAAAAAAAAAAAAAAAAAAAAAAAAAAAAAAAAAAAAAAAAAAAAAAAAAAAAAAAAAAAAAAAAAAAAAAAAAAAAAAAAAAAAAAAAAAAAAAAAAAAAAAAAAAAAAAAAAAAAAAAAAAAAAAAAAAAAAAAAAAAAAAAAAAAAAAAAAAAAAAAAAAAAAAAAAAAAAAAAAAAAAAAAAAAAAAAAAAAAAAAAAAAAAAAAAAAAAAAAAAAAAAAAAAAAAAAAAAAAAAAAAAAAAAAAAAAAAAAAAAAAAAAAAAAAAAAAAAAAAAAAAAAAAAAAAAAAAAAAAAAAAAAAAAAAAAAAAAAAAAAAAAAAAAAAAAAAAAAAAAAAAAAAAAAAAAAAAAAAAAAAAAAAAAAAAAAAAAAAAAAAAAAAAAAAAAAAAAAAAAAAAAAAAAAAAAAAAAAAAAAAAAAAAAAAAAAAAAAAAAAAAAAAAAAAAAAAAAAAAAAAAAAAAAAAAAAAAAAAAAAAAAAAAAAAAAAAAAAAAAAAAAAAAAAAAAAAAAAAAAAAAAAAAAAAAAAAAAAAAAAAAAAAAAAAAAAAAAAAAAAAAAAAAAAAAAAAAAAAAAAAAAAAAAAAAAAAAAAAAAAAAAAAAAAAAAAAAAAAAAAAAAAAAAAAAAAAAAAAAAAAAAAAAAAAAAAAAAAAAAAAAAAAAAAAAAAAAAAAAAAAAAAAAAAAAAAAAAAAAAAAAAAAAAAAAAAAAAAAAAAAAAAAAAAAAAAAAAAAAAAAAAAAAAAAAAAAAAAAAAAAAAAAAAAAAAAAAAAAAAAAAAAAAAAAAAAAAAAAAAAAAAAAAAAAAAAAAAAAAAAAAAAAAAAAAAAAAAAAAAAAAAAAAAAAAAAAAAAAAAAAAAAAAAAAAAAAAAAAAAAAAAAAAAAAAAAAAAAAAAAAAAAAAAAAAAAAAAAAAAAAAAAAAAAAAAAAAAAAAAAAAAAAAAAAAAAAAAAAAAAAAAAAAAAAAAAAAAAAAAAAAAAAAAAAAAAAAAAAAAAAAAAAAAAAAAAAAAAAAAAAAAAAAAAAAAAAAAAAAAAAAAAAAAAAAAAAAAAAAAAAAAAAAAAAAAAAAAAAAAAAAAAAAAAAAAAAAAAAAAAAAAAAAAAAAAAAAAAAAAAAAAAAAAAAAAAAAAAAAAAAAAAAAAAAAAAAAAAAAAAAAAAAAAAAAAAAAAAAAAAAAAAAAAAAAAAAAAAAAAAAAAAAAAAAAAAAAAAAAAAAAAAAAAAAAAAAAAAAAAAAAAAAAAAAAAAAAAAAAAAAAAAAAAAAAAAAAAAAAAAAAAAAAAAAAAAAAAAAAAAAAAAAAAAAAAAAAAAAAAAAAAAAAAAAAAAAAAAAAAAAAAAAAAAAAAAAAAAAAAAAAAAAAAAAAAAAAAAAAAAAAAAAAAAAAAAAAAAAAAAAAAAAAAAAAAAAAAAAAAAAAAAAAAAAAAAAAAAAAAAAAAAAAAAAAAAAAAAAAAAAAAAAAAAAAAAAAAAAAAAAAAAAAAAAAAAAAAAAAAAAAAAAAAAAAAAAAAAAAAAAAAAAAAAAAAAAAAAAAAAAAAAAAAAAAAAAAAAAAAAAAAAAAAAAAAAAAAAAAAAAAAAAAAAAAAAAAAAAAAAAAAAAAAAAAAAAAAAAAAAAAAAAAAAAAAAAAAAAAAAAAAAAAAAAAAAAAAAAAAAAAAAAAAAAAAAAAAAAAAAAAAAAAAAAAAAAAAAAAAAAAAAAAAAAAAAAAAAAAAAAAAAAAAAAAAAAAAAAAAAAAAAAAAAAAAAAAAAAAAAAAAAAAAAAAAAAAAAAAAAAAAAAAAAAAAAAAAAAAAAAAAAAAAAAAAAAAAA=",
          "dtype": "u1",
          "shape": "28, 62"
         }
        },
        {
         "colorbar": {
          "ticktext": [
           "Outside",
           "Inside"
          ],
          "tickvals": [
           0,
           1
          ],
          "title": {
           "text": "Neuron<br>Presence"
          }
         },
         "colorscale": [
          [
           0,
           "#440154"
          ],
          [
           0.1111111111111111,
           "#482878"
          ],
          [
           0.2222222222222222,
           "#3e4989"
          ],
          [
           0.3333333333333333,
           "#31688e"
          ],
          [
           0.4444444444444444,
           "#26828e"
          ],
          [
           0.5555555555555556,
           "#1f9e89"
          ],
          [
           0.6666666666666666,
           "#35b779"
          ],
          [
           0.7777777777777778,
           "#6ece58"
          ],
          [
           0.8888888888888888,
           "#b5de2b"
          ],
          [
           1,
           "#fde725"
          ]
         ],
         "hovertemplate": "<b>X:</b> %{x:.1f} µm<br><b>Y:</b> %{y:.1f} µm<br><b>Value:</b> %{z}<br><extra></extra>",
         "name": "Z-slice 3",
         "showscale": true,
         "type": "heatmap",
         "visible": false,
         "x": {
          "bdata": "2WzfzHb4LsDBCCyxg/QtwKmkeJWQ8CzAkUDFeZ3sK8B63BFequgqwGJ4XkK35CnAShSrJsTgKMAysPcK0dwnwBpMRO/d2CbAAuiQ0+rUJcDqg92399AkwNIfKpwEzSPAurt2gBHJIsCiV8NkHsUhwIvzD0krwSDA5h65WnB6H8C2VlIjinIdwIaO6+ujahvAVsaEtL1iGcAm/h1911oXwPY1t0XxUhXAyG1QDgtLE8CYpenWJEMRwNC6BT99dg7AcCo40LBmCsAQmmph5FYGwLAJnfIXRwLAoPKeB5du/L/o0QMq/k70v1Bi0ZjKXui/oEE2uzE/0L9gQTa7MT/QPzBi0ZjKXug/2NEDKv5O9D+Y8p4Hl278P6wJnfIXRwJADJpqYeRWBkBsKjjQsGYKQMy6BT99dg5AlqXp1iRDEUDGbVAOC0sTQPI1t0XxUhVAIv4dfddaF0BSxoS0vWIZQIKO6+ujahtAslZSI4pyHUDiHrlacHofQInzD0krwSBAoVfDZB7FIUC5u3aAEckiQNEfKpwEzSNA6YPdt/fQJEAB6JDT6tQlQBlMRO/d2CZAMbD3CtHcJ0BJFKsmxOAoQF94XkK35ClAd9wRXqroKkCPQMV5newrQKekeJWQ8CxAvwgssYP0LUDZbN/MdvguQA==",
          "dtype": "f8"
         },
         "y": {
          "bdata": "AAAAAAAAHMDRXkJ7Ce0ZwKG9hPYS2hfAchzHcRzHFcBCewntJbQTwBPaS2gvoRHAyHEcx3EcD8BpL6G9hPYKwArtJbSX0AbArKqqqqqqAsCY0F5Cewn9v9xLaC+hvfS/QI7jOI7j6L+ACe0ltJfQv3AJ7SW0l9A/OI7jOI7j6D/YS2gvob30P5jQXkJ7Cf0/qKqqqqqqAkAI7SW0l9AGQGgvob2E9gpAxHEcx3EcD0AS2ktoL6ERQEJ7Ce0ltBNAcBzHcRzHFUCgvYT2EtoXQNBeQnsJ7RlAAAAAAAAAHEA=",
          "dtype": "f8"
         },
         "z": {
          "bdata": "AAAAAAAAAAAAAAAAAAAAAAAAAAAAAAAAAAAAAAAAAAAAAAAAAAAAAAAAAAAAAAAAAAAAAAAAAAAAAAAAAAAAAAAAAAAAAAAAAAAAAAAAAAAAAAAAAAAAAAAAAAAAAAAAAAAAAAAAAAAAAAAAAAAAAAAAAAAAAAAAAAAAAAAAAAAAAAAAAAAAAAAAAAAAAAAAAAAAAAAAAAAAAAAAAAAAAAAAAAAAAAAAAAAAAAAAAAAAAAAAAAAAAAAAAAAAAAAAAAAAAAAAAAAAAAAAAAAAAAAAAAAAAAAAAAAAAAAAAAAAAAAAAAAAAAAAAAAAAAAAAAAAAAAAAAAAAAAAAAAAAAAAAAAAAAAAAAAAAAAAAAAAAAAAAAAAAAAAAAAAAAAAAAAAAAAAAAAAAAAAAAAAAAAAAAAAAAAAAAAAAAAAAAAAAAAAAAAAAAAAAAAAAAAAAAAAAAAAAAAAAAAAAAAAAAAAAAAAAAAAAAAAAAAAAAAAAAAAAAAAAAAAAAAAAAAAAAAAAAAAAAAAAAAAAAAAAAAAAAAAAAAAAAAAAAAAAAAAAAAAAAAAAAAAAAAAAAAAAAAAAAAAAAAAAAAAAAAAAAAAAAAAAAAAAAAAAAAAAAAAAAAAAAAAAAAAAAAAAAAAAAAAAAAAAAAAAAAAAAAAAAAAAAAAAAAAAAAAAAAAAAAAAAAAAAAAAAAAAAAAAAAAAAAAAAAAAAAAAAAAAAAAAAAAAAAAAAAAAAAAAAAAAAAAAAAAAAAAAAAAAAAAAAAAAAAAAAAAAAAAAAAAAAAAAAAAAAAAAAAAAAAAAAAAAAAAAAAAAAAAAAAAAAAAAAAAAAAAAAAAAAAAAAAAAAAAAAAAAAAAAAAAAAAAAAAAAAAAAAAAAAAAAAAAAAAAAAAAAAAAAAAAAAAAAAAAAAAAAAAAAAAAAAAAAAAAAAAAAAAAAAAAAAAAAAAAAAAAAAAAAAAAAAAAAAAAAAAAAAAAAAAAAAAAAAAAAAAAAAAAAAAAAAAAAAAAAAAAAAAAAAAAAAAAAAAAAAAAAAAAAAAAAAAAAAAAAAAAAAAAAAAAAAAAAAAAAAAAAAAAAAAAAAAAAAAAAAAAAAAAAAAAAAAAAAAAAAAAAAAAAAAAAAAAAAAAAAAAAAAAAAAAAAAAAAAAAAAAAAAAAAAAAAAAAAAAAAAAAAAAAAAAAAAAAAAAAAAAAAAAAAAAAAAAAAAAAAAAAAAAAAAAAAAAAAAAAAAAAAAAAAAAAAAAAAAAAAAAAAAAAAAAAAAAAAAAAAAAAAAAAAAAAAAAAAAAAAAAAAAAAAAAAAAAAAAAAAAAAAAAAAAAAAAAAAAAAAAAAAAAAAAAAAAAAAAAAAAAAAAAAAAAAAAAAAAAAAAAAAAAAAAAAAAAAAAAAAAAAAAAAAAAAAAAAAAAAAAAAAAAAAAAAAAAAAAAAAAAAAAAAAAAAAAAAAAAAAAAAAAAAAAAAAAAAAAAAAAAAAAAAAAAAAAAAAAAAAAAAAAAAAAAAAAAAAAAAAAAAAAAAAAAAAAAAAAAAAAAAAAAAAAAAAAAAAAAAAAAAAAAAAAAAAAAAAAAAAAAAAAAAAAAAAAAAAAAAAAAAAAAAAAAAAAAAAAAAAAAAAAAAAAAAAAAAAAAAAAAAAAAAAAAAAAAAAAAAAAAAAAAAAAAAAAAAAAAAAAAAAAAAAAAAAAAAAAAAAAAAAAAAAAAAAAAAAAAAAAAAAAAAAAAAAAAAAAAAAAAAAAAAAAAAAAAAAAAAAAAAAAAAAAAAAAAAAAAAAAAAAAAAAAAAAAAAAAAAAAAAAAAAAAAAAAAAAAAAAAAAAAAAAAAAAAAAAAAAAAAAAAAAAAAAAAAAAAAAAAAAAAAAAAAAAAAAAAAAAAAAAAAAAAAAAAAAAAAAAAAAAAAAAAAAAAAAAAAAAAAAAAAAAAAAAAAAAAAAAAAAAAAAAAAAAAAAAAAAAAAAAAAAAAAAAAAAAAAAAAAAAAAAAAAAAAAAAAAAAAAAAAAAAAAAAAAAAAAAAAAAAAAAAAAAAAAAAAAAAAAAAAAAAAAAAAAAAAAAAAAAAAAAAAAAAAAAAAAAAAAAAAAAAAAAAAAAAAAAAAAAAAAAAAAAAAAAAAAAAAAAAAAAAAAAAAAAAAAAAAAAAAAAAAAAAAAAAAAAAAAAAAAAAAAAAAAAAAAAAAAAAAAAAAAAAAAAAAAAAAAAAAAAAAAAAAAAAAAAAAAAAAAAAAAAAAAAAAAAAAAAAAAAAAAAAAAAAAAAAAAAAAAAAAAAAAAAAAAAAAAAAAAAAAAAAAAAAAAAAAAAAAAAAAAAAAAAAAAAAA=",
          "dtype": "u1",
          "shape": "28, 62"
         }
        },
        {
         "colorbar": {
          "ticktext": [
           "Outside",
           "Inside"
          ],
          "tickvals": [
           0,
           1
          ],
          "title": {
           "text": "Neuron<br>Presence"
          }
         },
         "colorscale": [
          [
           0,
           "#440154"
          ],
          [
           0.1111111111111111,
           "#482878"
          ],
          [
           0.2222222222222222,
           "#3e4989"
          ],
          [
           0.3333333333333333,
           "#31688e"
          ],
          [
           0.4444444444444444,
           "#26828e"
          ],
          [
           0.5555555555555556,
           "#1f9e89"
          ],
          [
           0.6666666666666666,
           "#35b779"
          ],
          [
           0.7777777777777778,
           "#6ece58"
          ],
          [
           0.8888888888888888,
           "#b5de2b"
          ],
          [
           1,
           "#fde725"
          ]
         ],
         "hovertemplate": "<b>X:</b> %{x:.1f} µm<br><b>Y:</b> %{y:.1f} µm<br><b>Value:</b> %{z}<br><extra></extra>",
         "name": "Z-slice 4",
         "showscale": true,
         "type": "heatmap",
         "visible": false,
         "x": {
          "bdata": "2WzfzHb4LsDBCCyxg/QtwKmkeJWQ8CzAkUDFeZ3sK8B63BFequgqwGJ4XkK35CnAShSrJsTgKMAysPcK0dwnwBpMRO/d2CbAAuiQ0+rUJcDqg92399AkwNIfKpwEzSPAurt2gBHJIsCiV8NkHsUhwIvzD0krwSDA5h65WnB6H8C2VlIjinIdwIaO6+ujahvAVsaEtL1iGcAm/h1911oXwPY1t0XxUhXAyG1QDgtLE8CYpenWJEMRwNC6BT99dg7AcCo40LBmCsAQmmph5FYGwLAJnfIXRwLAoPKeB5du/L/o0QMq/k70v1Bi0ZjKXui/oEE2uzE/0L9gQTa7MT/QPzBi0ZjKXug/2NEDKv5O9D+Y8p4Hl278P6wJnfIXRwJADJpqYeRWBkBsKjjQsGYKQMy6BT99dg5AlqXp1iRDEUDGbVAOC0sTQPI1t0XxUhVAIv4dfddaF0BSxoS0vWIZQIKO6+ujahtAslZSI4pyHUDiHrlacHofQInzD0krwSBAoVfDZB7FIUC5u3aAEckiQNEfKpwEzSNA6YPdt/fQJEAB6JDT6tQlQBlMRO/d2CZAMbD3CtHcJ0BJFKsmxOAoQF94XkK35ClAd9wRXqroKkCPQMV5newrQKekeJWQ8CxAvwgssYP0LUDZbN/MdvguQA==",
          "dtype": "f8"
         },
         "y": {
          "bdata": "AAAAAAAAHMDRXkJ7Ce0ZwKG9hPYS2hfAchzHcRzHFcBCewntJbQTwBPaS2gvoRHAyHEcx3EcD8BpL6G9hPYKwArtJbSX0AbArKqqqqqqAsCY0F5Cewn9v9xLaC+hvfS/QI7jOI7j6L+ACe0ltJfQv3AJ7SW0l9A/OI7jOI7j6D/YS2gvob30P5jQXkJ7Cf0/qKqqqqqqAkAI7SW0l9AGQGgvob2E9gpAxHEcx3EcD0AS2ktoL6ERQEJ7Ce0ltBNAcBzHcRzHFUCgvYT2EtoXQNBeQnsJ7RlAAAAAAAAAHEA=",
          "dtype": "f8"
         },
         "z": {
          "bdata": "AAAAAAAAAAAAAAAAAAAAAAAAAAAAAAAAAAAAAAAAAAAAAAAAAAAAAAAAAAAAAAAAAAAAAAAAAAAAAAAAAAAAAAAAAAAAAAAAAAAAAAAAAAAAAAAAAAAAAAAAAAAAAAAAAAAAAAAAAAAAAAAAAAAAAAAAAAAAAAAAAAAAAAAAAAAAAAAAAAAAAAAAAAAAAAAAAAAAAAAAAAAAAAAAAAAAAAAAAAAAAAAAAAAAAAAAAAAAAAAAAAAAAAAAAAAAAAAAAAAAAAAAAAAAAAAAAAAAAAAAAAAAAAAAAAAAAAAAAAAAAAAAAAAAAAAAAAAAAAAAAAAAAAAAAAAAAAAAAAAAAAAAAAAAAAAAAAAAAAAAAAAAAAAAAAAAAAAAAAAAAAAAAAAAAAAAAAAAAAAAAAAAAAAAAAAAAAAAAAAAAAAAAAAAAAAAAAAAAAAAAAAAAAAAAAAAAAAAAAAAAAAAAAAAAAAAAAAAAAAAAAAAAAAAAAAAAAAAAAAAAAAAAAAAAAAAAAAAAAAAAAAAAAAAAAAAAAAAAAAAAAAAAAAAAAAAAAAAAAAAAAAAAAAAAAAAAAAAAAAAAAAAAAAAAAAAAAAAAAAAAAAAAAAAAAAAAAAAAAAAAAAAAAAAAAAAAAAAAAAAAAAAAAAAAAAAAAAAAAAAAAAAAAAAAAAAAAAAAAAAAAAAAAAAAAAAAAAAAAAAAAAAAAAAAAAAAAAAAAAAAAAAAAAAAAAAAAAAAAAAAAAAAAAAAAAAAAAAAAAAAAAAAAAAAAAAAAAAAAAAAAAAAAAAAAAAAAAAAAAAAAAAAAAAAAAAAAAAAAAAAAAAAAAAAAAAAAAAAAAAAAAAAAAAAAAAAAAAAAAAAAAAAAAAAAAAAAAAAAAAAAAAAAAAAAAAAAAAAAAAAAAAAAAAAAAAAAAAAAAAAAAAAAAAAAAAAAAAAAAAAAAAAAAAAAAAAAAAAAAAAAAAAAAAAAAAAAAAAAAAAAAAAAAAAAAAAAAAAAAAAAAAAAAAAAAAAAAAAAAAAAAAAAAAAAAAAAAAAAAAAAAAAAAAAAAAAAAAAAAAAAAAAAAAAAAAAAAAAAAAAAAAAAAAAAAAAAAAAAAAAAAAAAAAAAAAAAAAAAAAAAAAAAAAAAAAAAAAAAAAAAAAAAAAAAAAAAAAAAAAAAAAAAAAAAAAAAAAAAAAAAAAAAAAAAAAAAAAAAAAAAAAAAAAAAAAAAAAAAAAAAAAAAAAAAAAAAAAAAAAAAAAAAAAAAAAAAAAAAAAAAAAAAAAAAAAAAAAAAAAAAAAAAAAAAAAAAAAAAAAAAAAAAAAAAAAAAAAAAAAAAAAAAAAAAAAAAAAAAAAAAAAAAAAAAAAAAAAAAAAAAAAAAAAAAAAAAAAAAAAAAAAAAAAAAAAAAAAAAAAAAAAAAAAAAAAAAAAAAAAAAAAAAAAAAAAAAAAAAAAAAAAAAAAAAAAAAAAAAAAAAAAAAAAAAAAAAAAAAAAAAAAAAAAAAAAAAAAAAAAAAAAAAAAAAAAAAAAAAAAAAAAAAAAAAAAAAAAAAAAAAAAAAAAAAAAAAAAAAAAAAAAAAAAAAAAAAAAAAAAAAAAAAAAAAAAAAAAAAAAAAAAAAAAAAAAAAAAAAAAAAAAAAAAAAAAAAAAAAAAAAAAAAAAAAAAAAAAAAAAAAAAAAAAAAAAAAAAAAAAAAAAAAAAAAAAAAAAAAAAAAAAAAAAAAAAAAAAAAAAAAAAAAAAAAAAAAAAAAAAAAAAAAAAAAAAAAAAAAAAAAAAAAAAAAAAAAAAAAAAAAAAAAAAAAAAAAAAAAAAAAAAAAAAAAAAAAAAAAAAAAAAAAAAAAAAAAAAAAAAAAAAAAAAAAAAAAAAAAAAAAAAAAAAAAAAAAAAAAAAAAAAAAAAAAAAAAAAAAAAAAAAAAAAAAAAAAAAAAAAAAAAAAAAAAAAAAAAAAAAAAAAAAAAAAAAAAAAAAAAAAAAAAAAAAAAAAAAAAAAAAAAAAAAAAAAAAAAAAAAAAAAAAAAAAAAAAAAAAAAAAAAAAAAAAAAAAAAAAAAAAAAAAAAAAAAAAAAAAAAAAAAAAAAAAAAAAAAAAAAAAAAAAAAAAAAAAAAAAAAAAAAAAAAAAAAAAAAAAAAAAAAAAAAAAAAAAAAAAAAAAAAAAAAAAAAAAAAAAAAAAAAAAAAAAAAAAAAAAAAAAAAAAAAAAAAAAAAAAAAAAAAAAAAAAAAAAAAAAAAAAAAAAAAAAAAAAAAAAAAAAAAAAAAAAAAAAAAAAAAAAAAAAAAAAAAAAAAAAAAAAAAAAAAAAAAAAAAAAAAAAAAAAAAAAAAAAA=",
          "dtype": "u1",
          "shape": "28, 62"
         }
        },
        {
         "colorbar": {
          "ticktext": [
           "Outside",
           "Inside"
          ],
          "tickvals": [
           0,
           1
          ],
          "title": {
           "text": "Neuron<br>Presence"
          }
         },
         "colorscale": [
          [
           0,
           "#440154"
          ],
          [
           0.1111111111111111,
           "#482878"
          ],
          [
           0.2222222222222222,
           "#3e4989"
          ],
          [
           0.3333333333333333,
           "#31688e"
          ],
          [
           0.4444444444444444,
           "#26828e"
          ],
          [
           0.5555555555555556,
           "#1f9e89"
          ],
          [
           0.6666666666666666,
           "#35b779"
          ],
          [
           0.7777777777777778,
           "#6ece58"
          ],
          [
           0.8888888888888888,
           "#b5de2b"
          ],
          [
           1,
           "#fde725"
          ]
         ],
         "hovertemplate": "<b>X:</b> %{x:.1f} µm<br><b>Y:</b> %{y:.1f} µm<br><b>Value:</b> %{z}<br><extra></extra>",
         "name": "Z-slice 5",
         "showscale": true,
         "type": "heatmap",
         "visible": false,
         "x": {
          "bdata": "2WzfzHb4LsDBCCyxg/QtwKmkeJWQ8CzAkUDFeZ3sK8B63BFequgqwGJ4XkK35CnAShSrJsTgKMAysPcK0dwnwBpMRO/d2CbAAuiQ0+rUJcDqg92399AkwNIfKpwEzSPAurt2gBHJIsCiV8NkHsUhwIvzD0krwSDA5h65WnB6H8C2VlIjinIdwIaO6+ujahvAVsaEtL1iGcAm/h1911oXwPY1t0XxUhXAyG1QDgtLE8CYpenWJEMRwNC6BT99dg7AcCo40LBmCsAQmmph5FYGwLAJnfIXRwLAoPKeB5du/L/o0QMq/k70v1Bi0ZjKXui/oEE2uzE/0L9gQTa7MT/QPzBi0ZjKXug/2NEDKv5O9D+Y8p4Hl278P6wJnfIXRwJADJpqYeRWBkBsKjjQsGYKQMy6BT99dg5AlqXp1iRDEUDGbVAOC0sTQPI1t0XxUhVAIv4dfddaF0BSxoS0vWIZQIKO6+ujahtAslZSI4pyHUDiHrlacHofQInzD0krwSBAoVfDZB7FIUC5u3aAEckiQNEfKpwEzSNA6YPdt/fQJEAB6JDT6tQlQBlMRO/d2CZAMbD3CtHcJ0BJFKsmxOAoQF94XkK35ClAd9wRXqroKkCPQMV5newrQKekeJWQ8CxAvwgssYP0LUDZbN/MdvguQA==",
          "dtype": "f8"
         },
         "y": {
          "bdata": "AAAAAAAAHMDRXkJ7Ce0ZwKG9hPYS2hfAchzHcRzHFcBCewntJbQTwBPaS2gvoRHAyHEcx3EcD8BpL6G9hPYKwArtJbSX0AbArKqqqqqqAsCY0F5Cewn9v9xLaC+hvfS/QI7jOI7j6L+ACe0ltJfQv3AJ7SW0l9A/OI7jOI7j6D/YS2gvob30P5jQXkJ7Cf0/qKqqqqqqAkAI7SW0l9AGQGgvob2E9gpAxHEcx3EcD0AS2ktoL6ERQEJ7Ce0ltBNAcBzHcRzHFUCgvYT2EtoXQNBeQnsJ7RlAAAAAAAAAHEA=",
          "dtype": "f8"
         },
         "z": {
          "bdata": "AAAAAAAAAAAAAAAAAAAAAAAAAAAAAAAAAAAAAAAAAAAAAAAAAAAAAAAAAAAAAAAAAAAAAAAAAAAAAAAAAAAAAAAAAAAAAAAAAAAAAAAAAAAAAAAAAAAAAAAAAAAAAAAAAAAAAAAAAAAAAAAAAAAAAAAAAAAAAAAAAAAAAAAAAAAAAAAAAAAAAAAAAAAAAAAAAAAAAAAAAAAAAAAAAAAAAAAAAAAAAAAAAAAAAAAAAAAAAAAAAAAAAAAAAAAAAAAAAAAAAAAAAAAAAAAAAAAAAAAAAAAAAAAAAAAAAAAAAAAAAAAAAAAAAAAAAAAAAAAAAAAAAAAAAAAAAAAAAAAAAAAAAAAAAAAAAAAAAAAAAAAAAAAAAAAAAAAAAAAAAAAAAAAAAAAAAAAAAAAAAAAAAAAAAAAAAAAAAAAAAAAAAAAAAAAAAAAAAAAAAAAAAAAAAAAAAAAAAAAAAAAAAAAAAAAAAAAAAAAAAAAAAAAAAAAAAAAAAAAAAAAAAAAAAAAAAAAAAAAAAAAAAAAAAAAAAAAAAAAAAAAAAAAAAAAAAAAAAAAAAAAAAAAAAAAAAAAAAAAAAAAAAAAAAAAAAAAAAAAAAAAAAAAAAAAAAAAAAAAAAAAAAAAAAAAAAAAAAAAAAAAAAAAAAAAAAAAAAAAAAAAAAAAAAAAAAAAAAAAAAAAAAAAAAAAAAAAAAAAAAAAAAAAAAAAAAAAAAAAAAAAAAAAAAAAAAAAAAAAAAAAAAAAAAAAAAAAAAAAAAAAAAAAAAAAAAAAAAAAAAAAAAAAAAAAAAAAAAAAAAAAAAAAAAAAAAAAAAAAAAAAAAAAAAAAAAAAAAAAAAAAAAAAAAAAAAAAAAAAAAAAAAAAAAAAAAAAAAAAAAAAAAAAAAAAAAAAAAAAAAAAAAAAAAAAAAAAAAAAAAAAAAAAAAAAAAAAAAAAAAAAAAAAAAAAAAAAAAAAAAAAAAAAAAAAAAAAAAAAAAAAAAAAAAAAAAAAAAAAAAAAAAAAAAAAAAAAAAAAAAAAAAAAAAAAAAAAAAAAAAAAAAAAAAAAAAAAAAAAAAAAAAAAAAAAAAAAAAAAAAAAAAAAAAAAAAAAAAAAAAAAAAAAAAAAAAAAAAAAAAAAAAAAAAAAAAAAAAAAAAAAAAAAAAAAAAAAAAAAAAAAAAAAAAAAAAAAAAAAAAAAAAAAAAAAAAAAAAAAAAAAAAAAAAAAAAAAAAAAAAAAAAAAAAAAAAAAAAAAAAAAAAAAAAAAAAAAAAAAAAAAAAAAAAAAAAAAAAAAAAAAAAAAAAAAAAAAAAAAAAAAAAAAAAAAAAAAAAAAAAAAAAAAAAAAAAAAAAAAAAAAAAAAAAAAAAAAAAAAAAAAAAAAAAAAAAAAAAAAAAAAAAAAAAAAAAAAAAAAAAAAAAAAAAAAAAAAAAAAAAAAAAAAAAAAAAAAAAAAAAAAAAAAAAAAAAAAAAAAAAAAAAAAAAAAAAAAAAAAAAAAAAAAAAAAAAAAAAAAAAAAAAAAAAAAAAAAAAAAAAAAAAAAAAAAAAAAAAAAAAAAAAAAAAAAAAAAAAAAAAAAAAAAAAAAAAAAAAAAAAAAAAAAAAAAAAAAAAAAAAAAAAAAAAAAAAAAAAAAAAAAAAAAAAAAAAAAAAAAAAAAAAAAAAAAAAAAAAAAAAAAAAAAAAAAAAAAAAAAAAAAAAAAAAAAAAAAAAAAAAAAAAAAAAAAAAAAAAAAAAAAAAAAAAAAAAAAAAAAAAAAAAAAAAAAAAAAAAAAAAAAAAAAAAAAAAAAAAAAAAAAAAAAAAAAAAAAAAAAAAAAAAAAAAAAAAAAAAAAAAAAAAAAAAAAAAAAAAAAAAAAAAAAAAAAAAAAAAAAAAAAAAAAAAAAAAAAAAAAAAAAAAAAAAAAAAAAAAAAAAAAAAAAAAAAAAAAAAAAAAAAAAAAAAAAAAAAAAAAAAAAAAAAAAAAAAAAAAAAAAAAAAAAAAAAAAAAAAAAAAAAAAAAAAAAAAAAAAAAAAAAAAAAAAAAAAAAAAAAAAAAAAAAAAAAAAAAAAAAAAAAAAAAAAAAAAAAAAAAAAAAAAAAAAAAAAAAAAAAAAAAAAAAAAAAAAAAAAAAAAAAAAAAAAAAAAAAAAAAAAAAAAAAAAAAAAAAAAAAAAAAAAAAAAAAAAAAAAAAAAAAAAAAAAAAAAAAAAAAAAAAAAAAAAAAAAAAAAAAAAAAAAAAAAAAAAAAAAAAAAAAAAAAAAAAAAAAAAAAAAAAAAAAAAAAAAAAAAAAAAAAAAAAAAAAAAAAAAAAAAAAAAAAAAAAAAAAAAAAAAAAAAAAAAAAAAAA=",
          "dtype": "u1",
          "shape": "28, 62"
         }
        },
        {
         "colorbar": {
          "ticktext": [
           "Outside",
           "Inside"
          ],
          "tickvals": [
           0,
           1
          ],
          "title": {
           "text": "Neuron<br>Presence"
          }
         },
         "colorscale": [
          [
           0,
           "#440154"
          ],
          [
           0.1111111111111111,
           "#482878"
          ],
          [
           0.2222222222222222,
           "#3e4989"
          ],
          [
           0.3333333333333333,
           "#31688e"
          ],
          [
           0.4444444444444444,
           "#26828e"
          ],
          [
           0.5555555555555556,
           "#1f9e89"
          ],
          [
           0.6666666666666666,
           "#35b779"
          ],
          [
           0.7777777777777778,
           "#6ece58"
          ],
          [
           0.8888888888888888,
           "#b5de2b"
          ],
          [
           1,
           "#fde725"
          ]
         ],
         "hovertemplate": "<b>X:</b> %{x:.1f} µm<br><b>Y:</b> %{y:.1f} µm<br><b>Value:</b> %{z}<br><extra></extra>",
         "name": "Z-slice 6",
         "showscale": true,
         "type": "heatmap",
         "visible": false,
         "x": {
          "bdata": "2WzfzHb4LsDBCCyxg/QtwKmkeJWQ8CzAkUDFeZ3sK8B63BFequgqwGJ4XkK35CnAShSrJsTgKMAysPcK0dwnwBpMRO/d2CbAAuiQ0+rUJcDqg92399AkwNIfKpwEzSPAurt2gBHJIsCiV8NkHsUhwIvzD0krwSDA5h65WnB6H8C2VlIjinIdwIaO6+ujahvAVsaEtL1iGcAm/h1911oXwPY1t0XxUhXAyG1QDgtLE8CYpenWJEMRwNC6BT99dg7AcCo40LBmCsAQmmph5FYGwLAJnfIXRwLAoPKeB5du/L/o0QMq/k70v1Bi0ZjKXui/oEE2uzE/0L9gQTa7MT/QPzBi0ZjKXug/2NEDKv5O9D+Y8p4Hl278P6wJnfIXRwJADJpqYeRWBkBsKjjQsGYKQMy6BT99dg5AlqXp1iRDEUDGbVAOC0sTQPI1t0XxUhVAIv4dfddaF0BSxoS0vWIZQIKO6+ujahtAslZSI4pyHUDiHrlacHofQInzD0krwSBAoVfDZB7FIUC5u3aAEckiQNEfKpwEzSNA6YPdt/fQJEAB6JDT6tQlQBlMRO/d2CZAMbD3CtHcJ0BJFKsmxOAoQF94XkK35ClAd9wRXqroKkCPQMV5newrQKekeJWQ8CxAvwgssYP0LUDZbN/MdvguQA==",
          "dtype": "f8"
         },
         "y": {
          "bdata": "AAAAAAAAHMDRXkJ7Ce0ZwKG9hPYS2hfAchzHcRzHFcBCewntJbQTwBPaS2gvoRHAyHEcx3EcD8BpL6G9hPYKwArtJbSX0AbArKqqqqqqAsCY0F5Cewn9v9xLaC+hvfS/QI7jOI7j6L+ACe0ltJfQv3AJ7SW0l9A/OI7jOI7j6D/YS2gvob30P5jQXkJ7Cf0/qKqqqqqqAkAI7SW0l9AGQGgvob2E9gpAxHEcx3EcD0AS2ktoL6ERQEJ7Ce0ltBNAcBzHcRzHFUCgvYT2EtoXQNBeQnsJ7RlAAAAAAAAAHEA=",
          "dtype": "f8"
         },
         "z": {
          "bdata": "AAAAAAAAAAAAAAAAAAAAAAAAAAAAAAAAAAAAAAAAAAAAAAAAAAAAAAAAAAAAAAAAAAAAAAAAAAAAAAAAAAAAAAAAAAAAAAAAAAAAAAAAAAAAAAAAAAAAAAAAAAAAAAAAAAAAAAAAAAAAAAAAAAAAAAAAAAAAAAAAAAAAAAAAAAAAAAAAAAAAAAAAAAAAAAAAAAAAAAAAAAAAAAAAAAAAAAAAAAAAAAAAAAAAAAAAAAAAAAAAAAAAAAAAAAAAAAAAAAAAAAAAAAAAAAAAAAAAAAAAAAAAAAAAAAAAAAAAAAAAAAAAAAAAAAAAAAAAAAAAAAAAAAAAAAAAAAAAAAAAAAAAAAAAAAAAAAAAAAAAAAAAAAAAAAAAAAAAAAAAAAAAAAAAAAAAAAAAAAAAAAAAAAAAAAAAAAAAAAAAAAAAAAAAAAAAAAAAAAAAAAAAAAAAAAAAAAAAAAAAAAAAAAAAAAAAAAAAAAAAAAAAAAAAAAAAAAAAAAAAAAAAAAAAAAAAAAAAAAAAAAAAAAAAAAAAAAABAQEBAAAAAAAAAAAAAAAAAAAAAAAAAAAAAAAAAAAAAAAAAAAAAAAAAAAAAAAAAAAAAAAAAAAAAAAAAAABAQEBAQEBAQAAAAAAAAAAAAAAAAAAAAAAAAAAAAAAAAAAAAAAAAAAAAAAAAAAAAAAAAAAAAAAAAAAAAABAQEBAQEBAQEBAQEAAAAAAAAAAAAAAAAAAAAAAAAAAAAAAAAAAAAAAAAAAAAAAAAAAAAAAAAAAAAAAAAAAAEBAQEBAQEBAQEBAQAAAAAAAAAAAAAAAAAAAAAAAAAAAAAAAAAAAAAAAAAAAAAAAAAAAAAAAAAAAAAAAAABAQEBAQEBAQEBAQEBAQAAAAAAAAAAAAAAAAAAAAAAAAAAAAAAAAAAAAAAAAAAAAAAAAAAAAAAAAAAAAAAAAEBAQEBAQEBAQEBAQEBAAAAAAAAAAAAAAAAAAAAAAAAAAAAAAAAAAAAAAAAAAAAAAAAAAAAAAAAAAAAAAABAQEBAQEBAQEBAQEBAQEBAAAAAAAAAAAAAAAAAAAAAAAAAAAAAAAAAAAAAAAAAAAAAAAAAAAAAAAAAAAAAAEBAQEBAQEBAQEBAQEBAQEAAAAAAAAAAAAAAAAAAAAAAAAAAAAAAAAAAAAAAAAAAAAAAAAAAAAAAAAAAAAAAQEBAQEBAQEBAQEBAQEBAQAAAAAAAAAAAAAAAAAAAAAAAAAAAAAAAAAAAAAAAAAAAAAAAAAAAAAAAAAAAAABAQEBAQEBAQEBAQEBAQEBAAAAAAAAAAAAAAAAAAAAAAAAAAAAAAAAAAAAAAAAAAAAAAAAAAAAAAAAAAAAAAABAQEBAQEBAQEBAQEBAQAAAAAAAAAAAAAAAAAAAAAAAAAAAAAAAAAAAAAAAAAAAAAAAAAAAAAAAAAAAAAAAAEBAQEBAQEBAQEBAQEBAAAAAAAAAAAAAAAAAAAAAAAAAAAAAAAAAAAAAAAAAAAAAAAAAAAAAAAAAAAAAAAAAAEBAQEBAQEBAQEBAQAAAAAAAAAAAAAAAAAAAAAAAAAAAAAAAAAAAAAAAAAAAAAAAAAAAAAAAAAAAAAAAAAAAQEBAQEBAQEBAQEBAAAAAAAAAAAAAAAAAAAAAAAAAAAAAAAAAAAAAAAAAAAAAAAAAAAAAAAAAAAAAAAAAAAAAAEBAQEBAQEBAAAAAAAAAAAAAAAAAAAAAAAAAAAAAAAAAAAAAAAAAAAAAAAAAAAAAAAAAAAAAAAAAAAAAAAAAAABAQEBAAAAAAAAAAAAAAAAAAAAAAAAAAAAAAAAAAAAAAAAAAAAAAAAAAAAAAAAAAAAAAAAAAAAAAAAAAAAAAAAAAAAAAAAAAAAAAAAAAAAAAAAAAAAAAAAAAAAAAAAAAAAAAAAAAAAAAAAAAAAAAAAAAAAAAAAAAAAAAAAAAAAAAAAAAAAAAAAAAAAAAAAAAAAAAAAAAAAAAAAAAAAAAAAAAAAAAAAAAAAAAAAAAAAAAAAAAAAAAAAAAAAAAAAAAAAAAAAAAAAAAAAAAAAAAAAAAAAAAAAAAAAAAAAAAAAAAAAAAAAAAAAAAAAAAAAAAAAAAAAAAAAAAAAAAAAAAAAAAAAAAAAAAAAAAAAAAAAAAAAAAAAAAAAAAAAAAAAAAAAAAAAAAAAAAAAAAAAAAAAAAAAAAAAAAAAAAAAAAAAAAAAAAAAAAAAAAAAAAAAAAAAAAAAAAAAAAAAAAAAAAAAAAAAAAAAAAAAAAAAAAAAAAAAAAAAAAAAAAAAAAAAAAAAAAAAAAAAAAAAAAAAAAAAAAAAAAA=",
          "dtype": "u1",
          "shape": "28, 62"
         }
        },
        {
         "colorbar": {
          "ticktext": [
           "Outside",
           "Inside"
          ],
          "tickvals": [
           0,
           1
          ],
          "title": {
           "text": "Neuron<br>Presence"
          }
         },
         "colorscale": [
          [
           0,
           "#440154"
          ],
          [
           0.1111111111111111,
           "#482878"
          ],
          [
           0.2222222222222222,
           "#3e4989"
          ],
          [
           0.3333333333333333,
           "#31688e"
          ],
          [
           0.4444444444444444,
           "#26828e"
          ],
          [
           0.5555555555555556,
           "#1f9e89"
          ],
          [
           0.6666666666666666,
           "#35b779"
          ],
          [
           0.7777777777777778,
           "#6ece58"
          ],
          [
           0.8888888888888888,
           "#b5de2b"
          ],
          [
           1,
           "#fde725"
          ]
         ],
         "hovertemplate": "<b>X:</b> %{x:.1f} µm<br><b>Y:</b> %{y:.1f} µm<br><b>Value:</b> %{z}<br><extra></extra>",
         "name": "Z-slice 7",
         "showscale": true,
         "type": "heatmap",
         "visible": false,
         "x": {
          "bdata": "2WzfzHb4LsDBCCyxg/QtwKmkeJWQ8CzAkUDFeZ3sK8B63BFequgqwGJ4XkK35CnAShSrJsTgKMAysPcK0dwnwBpMRO/d2CbAAuiQ0+rUJcDqg92399AkwNIfKpwEzSPAurt2gBHJIsCiV8NkHsUhwIvzD0krwSDA5h65WnB6H8C2VlIjinIdwIaO6+ujahvAVsaEtL1iGcAm/h1911oXwPY1t0XxUhXAyG1QDgtLE8CYpenWJEMRwNC6BT99dg7AcCo40LBmCsAQmmph5FYGwLAJnfIXRwLAoPKeB5du/L/o0QMq/k70v1Bi0ZjKXui/oEE2uzE/0L9gQTa7MT/QPzBi0ZjKXug/2NEDKv5O9D+Y8p4Hl278P6wJnfIXRwJADJpqYeRWBkBsKjjQsGYKQMy6BT99dg5AlqXp1iRDEUDGbVAOC0sTQPI1t0XxUhVAIv4dfddaF0BSxoS0vWIZQIKO6+ujahtAslZSI4pyHUDiHrlacHofQInzD0krwSBAoVfDZB7FIUC5u3aAEckiQNEfKpwEzSNA6YPdt/fQJEAB6JDT6tQlQBlMRO/d2CZAMbD3CtHcJ0BJFKsmxOAoQF94XkK35ClAd9wRXqroKkCPQMV5newrQKekeJWQ8CxAvwgssYP0LUDZbN/MdvguQA==",
          "dtype": "f8"
         },
         "y": {
          "bdata": "AAAAAAAAHMDRXkJ7Ce0ZwKG9hPYS2hfAchzHcRzHFcBCewntJbQTwBPaS2gvoRHAyHEcx3EcD8BpL6G9hPYKwArtJbSX0AbArKqqqqqqAsCY0F5Cewn9v9xLaC+hvfS/QI7jOI7j6L+ACe0ltJfQv3AJ7SW0l9A/OI7jOI7j6D/YS2gvob30P5jQXkJ7Cf0/qKqqqqqqAkAI7SW0l9AGQGgvob2E9gpAxHEcx3EcD0AS2ktoL6ERQEJ7Ce0ltBNAcBzHcRzHFUCgvYT2EtoXQNBeQnsJ7RlAAAAAAAAAHEA=",
          "dtype": "f8"
         },
         "z": {
          "bdata": "AAAAAAAAAAAAAAAAAAAAAAAAAAAAAAAAAAAAAAAAAAAAAAAAAAAAAAAAAAAAAAAAAAAAAAAAAAAAAAAAAAAAAAAAAAAAAAAAAAAAAAAAAAAAAAAAAAAAAAAAAAAAAAAAAAAAAAAAAAAAAAAAAAAAAAAAAAAAAAAAAAAAAAAAAAAAAAAAAAAAAAAAAAAAAAAAAAAAAAAAAAAAAAAAAAAAAAAAAAAAAAAAAAAAAAAAAAAAAAAAAAAAAAAAAAAAAAAAAAAAAAAAAAAAAAAAAAAAAAAAAAAAAAAAAAAAAAAAAAAAAAAAAAAAAAAAAAAAAAAAAAAAAAAAAAAAAAAAAAAAAAAAAAAAAAAAAAAAAAAAAAAAAAAAAAAAAAAAAAAAAAAAAAAAAAAAAAAAAAAAAAAAAAAAAAAAAAAAAAAAAAAAAAAAAAAAAAAAAAAAAAAAAAAAAAAAAAAAAAAAAAAAAAAAAAAAAAAAAAAAAAAAAAAAAAAAAAAAAAAAAAAAAAAAAAAAAAAAAAAAAAAAAAAAAAAAAAABAQEBAAAAAAAAAAAAAAAAAAAAAAAAAAAAAAAAAAAAAAAAAAAAAAAAAAAAAAAAAAAAAAAAAAAAAAAAAAABAQEBAQEBAQAAAAAAAAAAAAAAAAAAAAAAAAAAAAAAAAAAAAAAAAAAAAAAAAAAAAAAAAAAAAAAAAAAAAABAQEBAQEBAQEBAQEAAAAAAAAAAAAAAAAAAAAAAAAAAAAAAAAAAAAAAAAAAAAAAAAAAAAAAAAAAAAAAAAAAAEBAQEBAQEBAQEBAQAAAAAAAAAAAAAAAAAAAAAAAAAAAAAAAAAAAAAAAAAAAAAAAAAAAAAAAAAAAAAAAAABAQEBAQEBAQEBAQEBAQAAAAAAAAAAAAAAAAAAAAAAAAAAAAAAAAAAAAAAAAAAAAAAAAAAAAAAAAAAAAAAAAEBAQEBAQEBAQEBAQEBAAAAAAAAAAAAAAAAAAAAAAAAAAAAAAAAAAAAAAAAAAAAAAAAAAAAAAAAAAAAAAABAQEBAQEBAQEBAQEBAQEBAAAAAAAAAAAAAAAAAAAAAAAAAAAAAAAAAAAAAAAAAAAAAAAAAAAAAAAAAAAAAAEBAQEBAQEBAQEBAQEBAQEAAAAAAAAAAAAAAAAAAAAAAAAAAAAAAAAAAAAAAAAAAAAAAAAAAAAAAAAAAAAAAQEBAQEBAQEBAQEBAQEBAQAAAAAAAAAAAAAAAAAAAAAAAAAAAAAAAAAAAAAAAAAAAAAAAAAAAAAAAAAAAAABAQEBAQEBAQEBAQEBAQEBAAAAAAAAAAAAAAAAAAAAAAAAAAAAAAAAAAAAAAAAAAAAAAAAAAAAAAAAAAAAAAABAQEBAQEBAQEBAQEBAQAAAAAAAAAAAAAAAAAAAAAAAAAAAAAAAAAAAAAAAAAAAAAAAAAAAAAAAAAAAAAAAAEBAQEBAQEBAQEBAQEBAAAAAAAAAAAAAAAAAAAAAAAAAAAAAAAAAAAAAAAAAAAAAAAAAAAAAAAAAAAAAAAAAAEBAQEBAQEBAQEBAQAAAAAAAAAAAAAAAAAAAAAAAAAAAAAAAAAAAAAAAAAAAAAAAAAAAAAAAAAAAAAAAAAAAQEBAQEBAQEBAQEBAAAAAAAAAAAAAAAAAAAAAAAAAAAAAAAAAAAAAAAAAAAAAAAAAAAAAAAAAAAAAAAAAAAAAAEBAQEBAQEBAAAAAAAAAAAAAAAAAAAAAAAAAAAAAAAAAAAAAAAAAAAAAAAAAAAAAAAAAAAAAAAAAAAAAAAAAAABAQEBAAAAAAAAAAAAAAAAAAAAAAAAAAAAAAAAAAAAAAAAAAAAAAAAAAAAAAAAAAAAAAAAAAAAAAAAAAAAAAAAAAAAAAAAAAAAAAAAAAAAAAAAAAAAAAAAAAAAAAAAAAAAAAAAAAAAAAAAAAAAAAAAAAAAAAAAAAAAAAAAAAAAAAAAAAAAAAAAAAAAAAAAAAAAAAAAAAAAAAAAAAAAAAAAAAAAAAAAAAAAAAAAAAAAAAAAAAAAAAAAAAAAAAAAAAAAAAAAAAAAAAAAAAAAAAAAAAAAAAAAAAAAAAAAAAAAAAAAAAAAAAAAAAAAAAAAAAAAAAAAAAAAAAAAAAAAAAAAAAAAAAAAAAAAAAAAAAAAAAAAAAAAAAAAAAAAAAAAAAAAAAAAAAAAAAAAAAAAAAAAAAAAAAAAAAAAAAAAAAAAAAAAAAAAAAAAAAAAAAAAAAAAAAAAAAAAAAAAAAAAAAAAAAAAAAAAAAAAAAAAAAAAAAAAAAAAAAAAAAAAAAAAAAAAAAAAAAAAAAAAAAAAAAAAAAAAAAA=",
          "dtype": "u1",
          "shape": "28, 62"
         }
        },
        {
         "colorbar": {
          "ticktext": [
           "Outside",
           "Inside"
          ],
          "tickvals": [
           0,
           1
          ],
          "title": {
           "text": "Neuron<br>Presence"
          }
         },
         "colorscale": [
          [
           0,
           "#440154"
          ],
          [
           0.1111111111111111,
           "#482878"
          ],
          [
           0.2222222222222222,
           "#3e4989"
          ],
          [
           0.3333333333333333,
           "#31688e"
          ],
          [
           0.4444444444444444,
           "#26828e"
          ],
          [
           0.5555555555555556,
           "#1f9e89"
          ],
          [
           0.6666666666666666,
           "#35b779"
          ],
          [
           0.7777777777777778,
           "#6ece58"
          ],
          [
           0.8888888888888888,
           "#b5de2b"
          ],
          [
           1,
           "#fde725"
          ]
         ],
         "hovertemplate": "<b>X:</b> %{x:.1f} µm<br><b>Y:</b> %{y:.1f} µm<br><b>Value:</b> %{z}<br><extra></extra>",
         "name": "Z-slice 8",
         "showscale": true,
         "type": "heatmap",
         "visible": false,
         "x": {
          "bdata": "2WzfzHb4LsDBCCyxg/QtwKmkeJWQ8CzAkUDFeZ3sK8B63BFequgqwGJ4XkK35CnAShSrJsTgKMAysPcK0dwnwBpMRO/d2CbAAuiQ0+rUJcDqg92399AkwNIfKpwEzSPAurt2gBHJIsCiV8NkHsUhwIvzD0krwSDA5h65WnB6H8C2VlIjinIdwIaO6+ujahvAVsaEtL1iGcAm/h1911oXwPY1t0XxUhXAyG1QDgtLE8CYpenWJEMRwNC6BT99dg7AcCo40LBmCsAQmmph5FYGwLAJnfIXRwLAoPKeB5du/L/o0QMq/k70v1Bi0ZjKXui/oEE2uzE/0L9gQTa7MT/QPzBi0ZjKXug/2NEDKv5O9D+Y8p4Hl278P6wJnfIXRwJADJpqYeRWBkBsKjjQsGYKQMy6BT99dg5AlqXp1iRDEUDGbVAOC0sTQPI1t0XxUhVAIv4dfddaF0BSxoS0vWIZQIKO6+ujahtAslZSI4pyHUDiHrlacHofQInzD0krwSBAoVfDZB7FIUC5u3aAEckiQNEfKpwEzSNA6YPdt/fQJEAB6JDT6tQlQBlMRO/d2CZAMbD3CtHcJ0BJFKsmxOAoQF94XkK35ClAd9wRXqroKkCPQMV5newrQKekeJWQ8CxAvwgssYP0LUDZbN/MdvguQA==",
          "dtype": "f8"
         },
         "y": {
          "bdata": "AAAAAAAAHMDRXkJ7Ce0ZwKG9hPYS2hfAchzHcRzHFcBCewntJbQTwBPaS2gvoRHAyHEcx3EcD8BpL6G9hPYKwArtJbSX0AbArKqqqqqqAsCY0F5Cewn9v9xLaC+hvfS/QI7jOI7j6L+ACe0ltJfQv3AJ7SW0l9A/OI7jOI7j6D/YS2gvob30P5jQXkJ7Cf0/qKqqqqqqAkAI7SW0l9AGQGgvob2E9gpAxHEcx3EcD0AS2ktoL6ERQEJ7Ce0ltBNAcBzHcRzHFUCgvYT2EtoXQNBeQnsJ7RlAAAAAAAAAHEA=",
          "dtype": "f8"
         },
         "z": {
          "bdata": "AAAAAAAAAAAAAAAAAAAAAAAAAAAAAAAAAAAAAAAAAAAAAAAAAAAAAAAAAAAAAAAAAAAAAAAAAAAAAAAAAAAAAAAAAAAAAAAAAAAAAAAAAAAAAAAAAAAAAAAAAAAAAAAAAAAAAAAAAAAAAAAAAAAAAAAAAAAAAAAAAAAAAAAAAAAAAAAAAAAAAAAAAAAAAAAAAAAAAAAAAAAAAAAAAAAAAAAAAAAAAAAAAAAAAAAAAAAAAAAAAAAAAAAAAAAAAAAAAAAAAAAAAAAAAAAAAAAAAAAAAAAAAAAAAAAAAAAAAAAAAAAAAAAAAAAAAAAAAAAAAAAAAAAAAAAAAAAAAAAAAAAAAAAAAAAAAAAAAAAAAAAAAAAAAAAAAAAAAAAAAAAAAAAAAAAAAAAAAAAAAAAAAAAAAAAAAAAAAAAAAAAAAAAAAAAAAAAAAAAAAAAAAAAAAAAAAAAAAAAAAAAAAAAAAAAAAAAAAAAAAAAAAAAAAAAAAAAAAAAAAAAAAAAAAAAAAAAAAAAAAAAAAAAAAAAAAAABAQEBAAAAAAAAAAAAAAAAAAAAAAAAAAAAAAAAAAAAAAAAAAAAAAAAAAAAAAAAAAAAAAAAAAAAAAAAAAABAQEBAQEBAQAAAAAAAAAAAAAAAAAAAAAAAAAAAAAAAAAAAAAAAAAAAAAAAAAAAAAAAAAAAAAAAAAAAAABAQEBAQEBAQEBAQEAAAAAAAAAAAAAAAAAAAAAAAAAAAAAAAAAAAAAAAAAAAAAAAAAAAAAAAAAAAAAAAAAAAEBAQEBAQEBAQEBAQAAAAAAAAAAAAAAAAAAAAAAAAAAAAAAAAAAAAAAAAAAAAAAAAAAAAAAAAAAAAAAAAABAQEBAQEBAQEBAQEBAQAAAAAAAAAAAAAAAAAAAAAAAAAAAAAAAAAAAAAAAAAAAAAAAAAAAAAAAAAAAAAAAAEBAQEBAQEBAQEBAQEBAAAAAAAAAAAAAAAAAAAAAAAAAAAAAAAAAAAAAAAAAAAAAAAAAAAAAAAAAAAAAAABAQEBAQEBAQEBAQEBAQEBAAAAAAAAAAAAAAAAAAAAAAAAAAAAAAAAAAAAAAAAAAAAAAAAAAAAAAAAAAAAAAEBAQEBAQEBAQEBAQEBAQEAAAAAAAAAAAAAAAAAAAAAAAAAAAAAAAAAAAAAAAAAAAAAAAAAAAAAAAAAAAAAAQEBAQEBAQEBAQEBAQEBAQAAAAAAAAAAAAAAAAAAAAAAAAAAAAAAAAAAAAAAAAAAAAAAAAAAAAAAAAAAAAABAQEBAQEBAQEBAQEBAQEBAAAAAAAAAAAAAAAAAAAAAAAAAAAAAAAAAAAAAAAAAAAAAAAAAAAAAAAAAAAAAAABAQEBAQEBAQEBAQEBAQAAAAAAAAAAAAAAAAAAAAAAAAAAAAAAAAAAAAAAAAAAAAAAAAAAAAAAAAAAAAAAAAEBAQEBAQEBAQEBAQEBAAAAAAAAAAAAAAAAAAAAAAAAAAAAAAAAAAAAAAAAAAAAAAAAAAAAAAAAAAAAAAAAAAEBAQEBAQEBAQEBAQAAAAAAAAAAAAAAAAAAAAAAAAAAAAAAAAAAAAAAAAAAAAAAAAAAAAAAAAAAAAAAAAAAAQEBAQEBAQEBAQEBAAAAAAAAAAAAAAAAAAAAAAAAAAAAAAAAAAAAAAAAAAAAAAAAAAAAAAAAAAAAAAAAAAAAAAEBAQEBAQEBAAAAAAAAAAAAAAAAAAAAAAAAAAAAAAAAAAAAAAAAAAAAAAAAAAAAAAAAAAAAAAAAAAAAAAAAAAABAQEBAAAAAAAAAAAAAAAAAAAAAAAAAAAAAAAAAAAAAAAAAAAAAAAAAAAAAAAAAAAAAAAAAAAAAAAAAAAAAAAAAAAAAAAAAAAAAAAAAAAAAAAAAAAAAAAAAAAAAAAAAAAAAAAAAAAAAAAAAAAAAAAAAAAAAAAAAAAAAAAAAAAAAAAAAAAAAAAAAAAAAAAAAAAAAAAAAAAAAAAAAAAAAAAAAAAAAAAAAAAAAAAAAAAAAAAAAAAAAAAAAAAAAAAAAAAAAAAAAAAAAAAAAAAAAAAAAAAAAAAAAAAAAAAAAAAAAAAAAAAAAAAAAAAAAAAAAAAAAAAAAAAAAAAAAAAAAAAAAAAAAAAAAAAAAAAAAAAAAAAAAAAAAAAAAAAAAAAAAAAAAAAAAAAAAAAAAAAAAAAAAAAAAAAAAAAAAAAAAAAAAAAAAAAAAAAAAAAAAAAAAAAAAAAAAAAAAAAAAAAAAAAAAAAAAAAAAAAAAAAAAAAAAAAAAAAAAAAAAAAAAAAAAAAAAAAAAAAAAAAAAAAAAAAAAAAAAAA=",
          "dtype": "u1",
          "shape": "28, 62"
         }
        },
        {
         "colorbar": {
          "ticktext": [
           "Outside",
           "Inside"
          ],
          "tickvals": [
           0,
           1
          ],
          "title": {
           "text": "Neuron<br>Presence"
          }
         },
         "colorscale": [
          [
           0,
           "#440154"
          ],
          [
           0.1111111111111111,
           "#482878"
          ],
          [
           0.2222222222222222,
           "#3e4989"
          ],
          [
           0.3333333333333333,
           "#31688e"
          ],
          [
           0.4444444444444444,
           "#26828e"
          ],
          [
           0.5555555555555556,
           "#1f9e89"
          ],
          [
           0.6666666666666666,
           "#35b779"
          ],
          [
           0.7777777777777778,
           "#6ece58"
          ],
          [
           0.8888888888888888,
           "#b5de2b"
          ],
          [
           1,
           "#fde725"
          ]
         ],
         "hovertemplate": "<b>X:</b> %{x:.1f} µm<br><b>Y:</b> %{y:.1f} µm<br><b>Value:</b> %{z}<br><extra></extra>",
         "name": "Z-slice 9",
         "showscale": true,
         "type": "heatmap",
         "visible": false,
         "x": {
          "bdata": "2WzfzHb4LsDBCCyxg/QtwKmkeJWQ8CzAkUDFeZ3sK8B63BFequgqwGJ4XkK35CnAShSrJsTgKMAysPcK0dwnwBpMRO/d2CbAAuiQ0+rUJcDqg92399AkwNIfKpwEzSPAurt2gBHJIsCiV8NkHsUhwIvzD0krwSDA5h65WnB6H8C2VlIjinIdwIaO6+ujahvAVsaEtL1iGcAm/h1911oXwPY1t0XxUhXAyG1QDgtLE8CYpenWJEMRwNC6BT99dg7AcCo40LBmCsAQmmph5FYGwLAJnfIXRwLAoPKeB5du/L/o0QMq/k70v1Bi0ZjKXui/oEE2uzE/0L9gQTa7MT/QPzBi0ZjKXug/2NEDKv5O9D+Y8p4Hl278P6wJnfIXRwJADJpqYeRWBkBsKjjQsGYKQMy6BT99dg5AlqXp1iRDEUDGbVAOC0sTQPI1t0XxUhVAIv4dfddaF0BSxoS0vWIZQIKO6+ujahtAslZSI4pyHUDiHrlacHofQInzD0krwSBAoVfDZB7FIUC5u3aAEckiQNEfKpwEzSNA6YPdt/fQJEAB6JDT6tQlQBlMRO/d2CZAMbD3CtHcJ0BJFKsmxOAoQF94XkK35ClAd9wRXqroKkCPQMV5newrQKekeJWQ8CxAvwgssYP0LUDZbN/MdvguQA==",
          "dtype": "f8"
         },
         "y": {
          "bdata": "AAAAAAAAHMDRXkJ7Ce0ZwKG9hPYS2hfAchzHcRzHFcBCewntJbQTwBPaS2gvoRHAyHEcx3EcD8BpL6G9hPYKwArtJbSX0AbArKqqqqqqAsCY0F5Cewn9v9xLaC+hvfS/QI7jOI7j6L+ACe0ltJfQv3AJ7SW0l9A/OI7jOI7j6D/YS2gvob30P5jQXkJ7Cf0/qKqqqqqqAkAI7SW0l9AGQGgvob2E9gpAxHEcx3EcD0AS2ktoL6ERQEJ7Ce0ltBNAcBzHcRzHFUCgvYT2EtoXQNBeQnsJ7RlAAAAAAAAAHEA=",
          "dtype": "f8"
         },
         "z": {
          "bdata": "AAAAAAAAAAAAAAAAAAAAAAAAAAAAAAAAAAAAAAAAAAAAAAAAAAAAAAAAAAAAAAAAAAAAAAAAAAAAAAAAAAAAAAAAAAAAAAAAAAAAAAAAAAAAAAAAAAAAAAAAAAAAAAAAAAAAAAAAAAAAAAAAAAAAAAAAAAAAAAAAAAAAAAAAAAAAAAAAAAAAAAAAAAAAAAAAAAAAAAAAAAAAAAAAAAAAAAAAAAAAAAAAAAAAAAAAAAAAAAAAAAAAAAAAAAAAAAAAAAAAAAAAAAAAAAAAAAAAAAAAAAAAAAAAAAAAAAAAAAAAAAAAAAAAAAAAAAAAAAAAAAAAAAAAAAAAAAAAAAAAAAAAAAAAAAAAAAAAAAAAAAAAAAAAAAAAAAAAAAAAAAAAAAAAAAAAAAAAAAAAAAAAAAAAAAAAAAAAAAAAAAAAAAAAAAAAAAAAAAAAAAAAAAAAAAAAAAAAAAAAAAAAAAAAAAAAAAAAAAAAAAAAAAAAAAAAAAAAAAAAAAAAAAAAAAAAAAAAAAAAAAAAAAAAAAAAAAABAQEBAAAAAAAAAAAAAAAAAAAAAAAAAAAAAAAAAAAAAAAAAAAAAAAAAAAAAAAAAAAAAAAAAAAAAAAAAAABAQEBAQEBAQAAAAAAAAAAAAAAAAAAAAAAAAAAAAAAAAAAAAAAAAAAAAAAAAAAAAAAAAAAAAAAAAAAAAABAQEBAQEBAQEBAQEAAAAAAAAAAAAAAAAAAAAAAAAAAAAAAAAAAAAAAAAAAAAAAAAAAAAAAAAAAAAAAAAAAAEBAQEBAQEBAQEBAQAAAAAAAAAAAAAAAAAAAAAAAAAAAAAAAAAAAAAAAAAAAAAAAAAAAAAAAAAAAAAAAAABAQEBAQEBAQEBAQEBAQAAAAAAAAAAAAAAAAAAAAAAAAAAAAAAAAAAAAAAAAAAAAAAAAAAAAAAAAAAAAAAAAEBAQEBAQEBAQEBAQEBAAAAAAAAAAAAAAAAAAAAAAAAAAAAAAAAAAAAAAAAAAAAAAAAAAAAAAAAAAAAAAABAQEBAQEBAQEBAQEBAQEBAAAAAAAAAAAAAAAAAAAAAAAAAAAAAAAAAAAAAAAAAAAAAAAAAAAAAAAAAAAAAAEBAQEBAQEBAQEBAQEBAQEAAAAAAAAAAAAAAAAAAAAAAAAAAAAAAAAAAAAAAAAAAAAAAAAAAAAAAAAAAAAAAQEBAQEBAQEBAQEBAQEBAQAAAAAAAAAAAAAAAAAAAAAAAAAAAAAAAAAAAAAAAAAAAAAAAAAAAAAAAAAAAAABAQEBAQEBAQEBAQEBAQEBAAAAAAAAAAAAAAAAAAAAAAAAAAAAAAAAAAAAAAAAAAAAAAAAAAAAAAAAAAAAAAABAQEBAQEBAQEBAQEBAQAAAAAAAAAAAAAAAAAAAAAAAAAAAAAAAAAAAAAAAAAAAAAAAAAAAAAAAAAAAAAAAAEBAQEBAQEBAQEBAQEBAAAAAAAAAAAAAAAAAAAAAAAAAAAAAAAAAAAAAAAAAAAAAAAAAAAAAAAAAAAAAAAAAAEBAQEBAQEBAQEBAQAAAAAAAAAAAAAAAAAAAAAAAAAAAAAAAAAAAAAAAAAAAAAAAAAAAAAAAAAAAAAAAAAAAQEBAQEBAQEBAQEBAAAAAAAAAAAAAAAAAAAAAAAAAAAAAAAAAAAAAAAAAAAAAAAAAAAAAAAAAAAAAAAAAAAAAAEBAQEBAQEBAAAAAAAAAAAAAAAAAAAAAAAAAAAAAAAAAAAAAAAAAAAAAAAAAAAAAAAAAAAAAAAAAAAAAAAAAAABAQEBAAAAAAAAAAAAAAAAAAAAAAAAAAAAAAAAAAAAAAAAAAAAAAAAAAAAAAAAAAAAAAAAAAAAAAAAAAAAAAAAAAAAAAAAAAAAAAAAAAAAAAAAAAAAAAAAAAAAAAAAAAAAAAAAAAAAAAAAAAAAAAAAAAAAAAAAAAAAAAAAAAAAAAAAAAAAAAAAAAAAAAAAAAAAAAAAAAAAAAAAAAAAAAAAAAAAAAAAAAAAAAAAAAAAAAAAAAAAAAAAAAAAAAAAAAAAAAAAAAAAAAAAAAAAAAAAAAAAAAAAAAAAAAAAAAAAAAAAAAAAAAAAAAAAAAAAAAAAAAAAAAAAAAAAAAAAAAAAAAAAAAAAAAAAAAAAAAAAAAAAAAAAAAAAAAAAAAAAAAAAAAAAAAAAAAAAAAAAAAAAAAAAAAAAAAAAAAAAAAAAAAAAAAAAAAAAAAAAAAAAAAAAAAAAAAAAAAAAAAAAAAAAAAAAAAAAAAAAAAAAAAAAAAAAAAAAAAAAAAAAAAAAAAAAAAAAAAAAAAAAAAAAAAAAAAAAAAA=",
          "dtype": "u1",
          "shape": "28, 62"
         }
        },
        {
         "colorbar": {
          "ticktext": [
           "Outside",
           "Inside"
          ],
          "tickvals": [
           0,
           1
          ],
          "title": {
           "text": "Neuron<br>Presence"
          }
         },
         "colorscale": [
          [
           0,
           "#440154"
          ],
          [
           0.1111111111111111,
           "#482878"
          ],
          [
           0.2222222222222222,
           "#3e4989"
          ],
          [
           0.3333333333333333,
           "#31688e"
          ],
          [
           0.4444444444444444,
           "#26828e"
          ],
          [
           0.5555555555555556,
           "#1f9e89"
          ],
          [
           0.6666666666666666,
           "#35b779"
          ],
          [
           0.7777777777777778,
           "#6ece58"
          ],
          [
           0.8888888888888888,
           "#b5de2b"
          ],
          [
           1,
           "#fde725"
          ]
         ],
         "hovertemplate": "<b>X:</b> %{x:.1f} µm<br><b>Y:</b> %{y:.1f} µm<br><b>Value:</b> %{z}<br><extra></extra>",
         "name": "Z-slice 10",
         "showscale": true,
         "type": "heatmap",
         "visible": false,
         "x": {
          "bdata": "2WzfzHb4LsDBCCyxg/QtwKmkeJWQ8CzAkUDFeZ3sK8B63BFequgqwGJ4XkK35CnAShSrJsTgKMAysPcK0dwnwBpMRO/d2CbAAuiQ0+rUJcDqg92399AkwNIfKpwEzSPAurt2gBHJIsCiV8NkHsUhwIvzD0krwSDA5h65WnB6H8C2VlIjinIdwIaO6+ujahvAVsaEtL1iGcAm/h1911oXwPY1t0XxUhXAyG1QDgtLE8CYpenWJEMRwNC6BT99dg7AcCo40LBmCsAQmmph5FYGwLAJnfIXRwLAoPKeB5du/L/o0QMq/k70v1Bi0ZjKXui/oEE2uzE/0L9gQTa7MT/QPzBi0ZjKXug/2NEDKv5O9D+Y8p4Hl278P6wJnfIXRwJADJpqYeRWBkBsKjjQsGYKQMy6BT99dg5AlqXp1iRDEUDGbVAOC0sTQPI1t0XxUhVAIv4dfddaF0BSxoS0vWIZQIKO6+ujahtAslZSI4pyHUDiHrlacHofQInzD0krwSBAoVfDZB7FIUC5u3aAEckiQNEfKpwEzSNA6YPdt/fQJEAB6JDT6tQlQBlMRO/d2CZAMbD3CtHcJ0BJFKsmxOAoQF94XkK35ClAd9wRXqroKkCPQMV5newrQKekeJWQ8CxAvwgssYP0LUDZbN/MdvguQA==",
          "dtype": "f8"
         },
         "y": {
          "bdata": "AAAAAAAAHMDRXkJ7Ce0ZwKG9hPYS2hfAchzHcRzHFcBCewntJbQTwBPaS2gvoRHAyHEcx3EcD8BpL6G9hPYKwArtJbSX0AbArKqqqqqqAsCY0F5Cewn9v9xLaC+hvfS/QI7jOI7j6L+ACe0ltJfQv3AJ7SW0l9A/OI7jOI7j6D/YS2gvob30P5jQXkJ7Cf0/qKqqqqqqAkAI7SW0l9AGQGgvob2E9gpAxHEcx3EcD0AS2ktoL6ERQEJ7Ce0ltBNAcBzHcRzHFUCgvYT2EtoXQNBeQnsJ7RlAAAAAAAAAHEA=",
          "dtype": "f8"
         },
         "z": {
          "bdata": "AAAAAAAAAAAAAAAAAAAAAAAAAAAAAAAAAAAAAAAAAAAAAAAAAAAAAAAAAAAAAAAAAAAAAAAAAAAAAAAAAAAAAAAAAAAAAAAAAAAAAAAAAAAAAAAAAAAAAAAAAAAAAAAAAAAAAAAAAAAAAAAAAAAAAAAAAAAAAAAAAAAAAAAAAAAAAAAAAAAAAAAAAAAAAAAAAAAAAAAAAAAAAAAAAAAAAAAAAAAAAAAAAAAAAAAAAAAAAAAAAAAAAAAAAAAAAAAAAAAAAAAAAAAAAAAAAAAAAAAAAAAAAAAAAAAAAAAAAAAAAAAAAAAAAAAAAAAAAAAAAAAAAAAAAAAAAAAAAAAAAAAAAAAAAAAAAAAAAAAAAAAAAAAAAAAAAAAAAAAAAAAAAAAAAAAAAAAAAAAAAAAAAAAAAAAAAAAAAAAAAAAAAAAAAAAAAAAAAAAAAAAAAAAAAAAAAAAAAAAAAAAAAAAAAAAAAAAAAAAAAAAAAAAAAAAAAAAAAAAAAAAAAAAAAAAAAAAAAAAAAAAAAAAAAAAAAAABAQEBAAAAAAAAAAAAAAAAAAAAAAAAAAAAAAAAAAAAAAAAAAAAAAAAAAAAAAAAAAAAAAAAAAAAAAAAAAABAQEBAQEBAQAAAAAAAAAAAAAAAAAAAAAAAAAAAAAAAAAAAAAAAAAAAAAAAAAAAAAAAAAAAAAAAAAAAAABAQEBAQEBAQEBAQEAAAAAAAAAAAAAAAAAAAAAAAAAAAAAAAAAAAAAAAAAAAAAAAAAAAAAAAAAAAAAAAAAAAEBAQEBAQEBAQEBAQAAAAAAAAAAAAAAAAAAAAAAAAAAAAAAAAAAAAAAAAAAAAAAAAAAAAAAAAAAAAAAAAABAQEBAQEBAQEBAQEBAQAAAAAAAAAAAAAAAAAAAAAAAAAAAAAAAAAAAAAAAAAAAAAAAAAAAAAAAAAAAAAAAAEBAQEBAQEBAQEBAQEBAAAAAAAAAAAAAAAAAAAAAAAAAAAAAAAAAAAAAAAAAAAAAAAAAAAAAAAAAAAAAAABAQEBAQEBAQEBAQEBAQEBAAAAAAAAAAAAAAAAAAAAAAAAAAAAAAAAAAAAAAAAAAAAAAAAAAAAAAAAAAAAAAEBAQEBAQEBAQEBAQEBAQEAAAAAAAAAAAAAAAAAAAAAAAAAAAAAAAAAAAAAAAAAAAAAAAAAAAAAAAAAAAAAAQEBAQEBAQEBAQEBAQEBAQAAAAAAAAAAAAAAAAAAAAAAAAAAAAAAAAAAAAAAAAAAAAAAAAAAAAAAAAAAAAABAQEBAQEBAQEBAQEBAQEBAAAAAAAAAAAAAAAAAAAAAAAAAAAAAAAAAAAAAAAAAAAAAAAAAAAAAAAAAAAAAAABAQEBAQEBAQEBAQEBAQAAAAAAAAAAAAAAAAAAAAAAAAAAAAAAAAAAAAAAAAAAAAAAAAAAAAAAAAAAAAAAAAEBAQEBAQEBAQEBAQEBAAAAAAAAAAAAAAAAAAAAAAAAAAAAAAAAAAAAAAAAAAAAAAAAAAAAAAAAAAAAAAAAAAEBAQEBAQEBAQEBAQAAAAAAAAAAAAAAAAAAAAAAAAAAAAAAAAAAAAAAAAAAAAAAAAAAAAAAAAAAAAAAAAAAAQEBAQEBAQEBAQEBAAAAAAAAAAAAAAAAAAAAAAAAAAAAAAAAAAAAAAAAAAAAAAAAAAAAAAAAAAAAAAAAAAAAAAEBAQEBAQEBAAAAAAAAAAAAAAAAAAAAAAAAAAAAAAAAAAAAAAAAAAAAAAAAAAAAAAAAAAAAAAAAAAAAAAAAAAABAQEBAAAAAAAAAAAAAAAAAAAAAAAAAAAAAAAAAAAAAAAAAAAAAAAAAAAAAAAAAAAAAAAAAAAAAAAAAAAAAAAAAAAAAAAAAAAAAAAAAAAAAAAAAAAAAAAAAAAAAAAAAAAAAAAAAAAAAAAAAAAAAAAAAAAAAAAAAAAAAAAAAAAAAAAAAAAAAAAAAAAAAAAAAAAAAAAAAAAAAAAAAAAAAAAAAAAAAAAAAAAAAAAAAAAAAAAAAAAAAAAAAAAAAAAAAAAAAAAAAAAAAAAAAAAAAAAAAAAAAAAAAAAAAAAAAAAAAAAAAAAAAAAAAAAAAAAAAAAAAAAAAAAAAAAAAAAAAAAAAAAAAAAAAAAAAAAAAAAAAAAAAAAAAAAAAAAAAAAAAAAAAAAAAAAAAAAAAAAAAAAAAAAAAAAAAAAAAAAAAAAAAAAAAAAAAAAAAAAAAAAAAAAAAAAAAAAAAAAAAAAAAAAAAAAAAAAAAAAAAAAAAAAAAAAAAAAAAAAAAAAAAAAAAAAAAAAAAAAAAAAAAAAAAAAAAAAAAAA=",
          "dtype": "u1",
          "shape": "28, 62"
         }
        },
        {
         "colorbar": {
          "ticktext": [
           "Outside",
           "Inside"
          ],
          "tickvals": [
           0,
           1
          ],
          "title": {
           "text": "Neuron<br>Presence"
          }
         },
         "colorscale": [
          [
           0,
           "#440154"
          ],
          [
           0.1111111111111111,
           "#482878"
          ],
          [
           0.2222222222222222,
           "#3e4989"
          ],
          [
           0.3333333333333333,
           "#31688e"
          ],
          [
           0.4444444444444444,
           "#26828e"
          ],
          [
           0.5555555555555556,
           "#1f9e89"
          ],
          [
           0.6666666666666666,
           "#35b779"
          ],
          [
           0.7777777777777778,
           "#6ece58"
          ],
          [
           0.8888888888888888,
           "#b5de2b"
          ],
          [
           1,
           "#fde725"
          ]
         ],
         "hovertemplate": "<b>X:</b> %{x:.1f} µm<br><b>Y:</b> %{y:.1f} µm<br><b>Value:</b> %{z}<br><extra></extra>",
         "name": "Z-slice 11",
         "showscale": true,
         "type": "heatmap",
         "visible": false,
         "x": {
          "bdata": "2WzfzHb4LsDBCCyxg/QtwKmkeJWQ8CzAkUDFeZ3sK8B63BFequgqwGJ4XkK35CnAShSrJsTgKMAysPcK0dwnwBpMRO/d2CbAAuiQ0+rUJcDqg92399AkwNIfKpwEzSPAurt2gBHJIsCiV8NkHsUhwIvzD0krwSDA5h65WnB6H8C2VlIjinIdwIaO6+ujahvAVsaEtL1iGcAm/h1911oXwPY1t0XxUhXAyG1QDgtLE8CYpenWJEMRwNC6BT99dg7AcCo40LBmCsAQmmph5FYGwLAJnfIXRwLAoPKeB5du/L/o0QMq/k70v1Bi0ZjKXui/oEE2uzE/0L9gQTa7MT/QPzBi0ZjKXug/2NEDKv5O9D+Y8p4Hl278P6wJnfIXRwJADJpqYeRWBkBsKjjQsGYKQMy6BT99dg5AlqXp1iRDEUDGbVAOC0sTQPI1t0XxUhVAIv4dfddaF0BSxoS0vWIZQIKO6+ujahtAslZSI4pyHUDiHrlacHofQInzD0krwSBAoVfDZB7FIUC5u3aAEckiQNEfKpwEzSNA6YPdt/fQJEAB6JDT6tQlQBlMRO/d2CZAMbD3CtHcJ0BJFKsmxOAoQF94XkK35ClAd9wRXqroKkCPQMV5newrQKekeJWQ8CxAvwgssYP0LUDZbN/MdvguQA==",
          "dtype": "f8"
         },
         "y": {
          "bdata": "AAAAAAAAHMDRXkJ7Ce0ZwKG9hPYS2hfAchzHcRzHFcBCewntJbQTwBPaS2gvoRHAyHEcx3EcD8BpL6G9hPYKwArtJbSX0AbArKqqqqqqAsCY0F5Cewn9v9xLaC+hvfS/QI7jOI7j6L+ACe0ltJfQv3AJ7SW0l9A/OI7jOI7j6D/YS2gvob30P5jQXkJ7Cf0/qKqqqqqqAkAI7SW0l9AGQGgvob2E9gpAxHEcx3EcD0AS2ktoL6ERQEJ7Ce0ltBNAcBzHcRzHFUCgvYT2EtoXQNBeQnsJ7RlAAAAAAAAAHEA=",
          "dtype": "f8"
         },
         "z": {
          "bdata": "AAAAAAAAAAAAAAAAAAAAAAAAAAAAAAAAAAAAAAAAAAAAAAAAAAAAAAAAAAAAAAAAAAAAAAAAAAAAAAAAAAAAAAAAAAAAAAAAAAAAAAAAAAAAAAAAAAAAAAAAAAAAAAAAAAAAAAAAAAAAAAAAAAAAAAAAAAAAAAAAAAAAAAAAAAAAAAAAAAAAAAAAAAAAAAAAAAAAAAAAAAAAAAAAAAAAAAAAAAAAAAAAAAAAAAAAAAAAAAAAAAAAAAAAAAAAAAAAAAAAAAAAAAAAAAAAAAAAAAAAAAAAAAAAAAAAAAAAAAAAAAAAAAAAAAAAAAAAAAAAAAAAAAAAAAAAAAAAAAAAAAAAAAAAAAAAAAAAAAAAAAAAAAAAAAAAAAAAAAAAAAAAAAAAAAAAAAAAAAAAAAAAAAAAAAAAAAAAAAAAAAAAAAAAAAAAAAAAAAAAAAAAAAAAAAAAAAAAAAAAAAAAAAAAAAAAAAAAAAAAAAAAAAAAAAAAAAAAAAAAAAAAAAAAAAAAAAAAAAAAAAAAAAAAAAAAAAABAQEBAAAAAAAAAAAAAAAAAAAAAAAAAAAAAAAAAAAAAAAAAAAAAAAAAAAAAAAAAAAAAAAAAAAAAAAAAAABAQEBAQEBAQAAAAAAAAAAAAAAAAAAAAAAAAAAAAAAAAAAAAAAAAAAAAAAAAAAAAAAAAAAAAAAAAAAAAABAQEBAQEBAQEBAQEAAAAAAAAAAAAAAAAAAAAAAAAAAAAAAAAAAAAAAAAAAAAAAAAAAAAAAAAAAAAAAAAAAAEBAQEBAQEBAQEBAQAAAAAAAAAAAAAAAAAAAAAAAAAAAAAAAAAAAAAAAAAAAAAAAAAAAAAAAAAAAAAAAAABAQEBAQEBAQEBAQEBAQAAAAAAAAAAAAAAAAAAAAAAAAAAAAAAAAAAAAAAAAAAAAAAAAAAAAAAAAAAAAAAAAEBAQEBAQEBAQEBAQEBAAAAAAAAAAAAAAAAAAAAAAAAAAAAAAAAAAAAAAAAAAAAAAAAAAAAAAAAAAAAAAABAQEBAQEBAQEBAQEBAQEBAAAAAAAAAAAAAAAAAAAAAAAAAAAAAAAAAAAAAAAAAAAAAAAAAAAAAAAAAAAAAAEBAQEBAQEBAQEBAQEBAQEAAAAAAAAAAAAAAAAAAAAAAAAAAAAAAAAAAAAAAAAAAAAAAAAAAAAAAAAAAAAAAQEBAQEBAQEBAQEBAQEBAQAAAAAAAAAAAAAAAAAAAAAAAAAAAAAAAAAAAAAAAAAAAAAAAAAAAAAAAAAAAAABAQEBAQEBAQEBAQEBAQEBAAAAAAAAAAAAAAAAAAAAAAAAAAAAAAAAAAAAAAAAAAAAAAAAAAAAAAAAAAAAAAABAQEBAQEBAQEBAQEBAQAAAAAAAAAAAAAAAAAAAAAAAAAAAAAAAAAAAAAAAAAAAAAAAAAAAAAAAAAAAAAAAAEBAQEBAQEBAQEBAQEBAAAAAAAAAAAAAAAAAAAAAAAAAAAAAAAAAAAAAAAAAAAAAAAAAAAAAAAAAAAAAAAAAAEBAQEBAQEBAQEBAQAAAAAAAAAAAAAAAAAAAAAAAAAAAAAAAAAAAAAAAAAAAAAAAAAAAAAAAAAAAAAAAAAAAQEBAQEBAQEBAQEBAAAAAAAAAAAAAAAAAAAAAAAAAAAAAAAAAAAAAAAAAAAAAAAAAAAAAAAAAAAAAAAAAAAAAAEBAQEBAQEBAAAAAAAAAAAAAAAAAAAAAAAAAAAAAAAAAAAAAAAAAAAAAAAAAAAAAAAAAAAAAAAAAAAAAAAAAAABAQEBAAAAAAAAAAAAAAAAAAAAAAAAAAAAAAAAAAAAAAAAAAAAAAAAAAAAAAAAAAAAAAAAAAAAAAAAAAAAAAAAAAAAAAAAAAAAAAAAAAAAAAAAAAAAAAAAAAAAAAAAAAAAAAAAAAAAAAAAAAAAAAAAAAAAAAAAAAAAAAAAAAAAAAAAAAAAAAAAAAAAAAAAAAAAAAAAAAAAAAAAAAAAAAAAAAAAAAAAAAAAAAAAAAAAAAAAAAAAAAAAAAAAAAAAAAAAAAAAAAAAAAAAAAAAAAAAAAAAAAAAAAAAAAAAAAAAAAAAAAAAAAAAAAAAAAAAAAAAAAAAAAAAAAAAAAAAAAAAAAAAAAAAAAAAAAAAAAAAAAAAAAAAAAAAAAAAAAAAAAAAAAAAAAAAAAAAAAAAAAAAAAAAAAAAAAAAAAAAAAAAAAAAAAAAAAAAAAAAAAAAAAAAAAAAAAAAAAAAAAAAAAAAAAAAAAAAAAAAAAAAAAAAAAAAAAAAAAAAAAAAAAAAAAAAAAAAAAAAAAAAAAAAAAAAAAAAAAA=",
          "dtype": "u1",
          "shape": "28, 62"
         }
        },
        {
         "colorbar": {
          "ticktext": [
           "Outside",
           "Inside"
          ],
          "tickvals": [
           0,
           1
          ],
          "title": {
           "text": "Neuron<br>Presence"
          }
         },
         "colorscale": [
          [
           0,
           "#440154"
          ],
          [
           0.1111111111111111,
           "#482878"
          ],
          [
           0.2222222222222222,
           "#3e4989"
          ],
          [
           0.3333333333333333,
           "#31688e"
          ],
          [
           0.4444444444444444,
           "#26828e"
          ],
          [
           0.5555555555555556,
           "#1f9e89"
          ],
          [
           0.6666666666666666,
           "#35b779"
          ],
          [
           0.7777777777777778,
           "#6ece58"
          ],
          [
           0.8888888888888888,
           "#b5de2b"
          ],
          [
           1,
           "#fde725"
          ]
         ],
         "hovertemplate": "<b>X:</b> %{x:.1f} µm<br><b>Y:</b> %{y:.1f} µm<br><b>Value:</b> %{z}<br><extra></extra>",
         "name": "Z-slice 12",
         "showscale": true,
         "type": "heatmap",
         "visible": false,
         "x": {
          "bdata": "2WzfzHb4LsDBCCyxg/QtwKmkeJWQ8CzAkUDFeZ3sK8B63BFequgqwGJ4XkK35CnAShSrJsTgKMAysPcK0dwnwBpMRO/d2CbAAuiQ0+rUJcDqg92399AkwNIfKpwEzSPAurt2gBHJIsCiV8NkHsUhwIvzD0krwSDA5h65WnB6H8C2VlIjinIdwIaO6+ujahvAVsaEtL1iGcAm/h1911oXwPY1t0XxUhXAyG1QDgtLE8CYpenWJEMRwNC6BT99dg7AcCo40LBmCsAQmmph5FYGwLAJnfIXRwLAoPKeB5du/L/o0QMq/k70v1Bi0ZjKXui/oEE2uzE/0L9gQTa7MT/QPzBi0ZjKXug/2NEDKv5O9D+Y8p4Hl278P6wJnfIXRwJADJpqYeRWBkBsKjjQsGYKQMy6BT99dg5AlqXp1iRDEUDGbVAOC0sTQPI1t0XxUhVAIv4dfddaF0BSxoS0vWIZQIKO6+ujahtAslZSI4pyHUDiHrlacHofQInzD0krwSBAoVfDZB7FIUC5u3aAEckiQNEfKpwEzSNA6YPdt/fQJEAB6JDT6tQlQBlMRO/d2CZAMbD3CtHcJ0BJFKsmxOAoQF94XkK35ClAd9wRXqroKkCPQMV5newrQKekeJWQ8CxAvwgssYP0LUDZbN/MdvguQA==",
          "dtype": "f8"
         },
         "y": {
          "bdata": "AAAAAAAAHMDRXkJ7Ce0ZwKG9hPYS2hfAchzHcRzHFcBCewntJbQTwBPaS2gvoRHAyHEcx3EcD8BpL6G9hPYKwArtJbSX0AbArKqqqqqqAsCY0F5Cewn9v9xLaC+hvfS/QI7jOI7j6L+ACe0ltJfQv3AJ7SW0l9A/OI7jOI7j6D/YS2gvob30P5jQXkJ7Cf0/qKqqqqqqAkAI7SW0l9AGQGgvob2E9gpAxHEcx3EcD0AS2ktoL6ERQEJ7Ce0ltBNAcBzHcRzHFUCgvYT2EtoXQNBeQnsJ7RlAAAAAAAAAHEA=",
          "dtype": "f8"
         },
         "z": {
          "bdata": "AAAAAAAAAAAAAAAAAAAAAAAAAAAAAAAAAAAAAAAAAAAAAAAAAAAAAAAAAAAAAAAAAAAAAAAAAAAAAAAAAAAAAAAAAAAAAAAAAAAAAAAAAAAAAAAAAAAAAAAAAAAAAAAAAAAAAAAAAAAAAAAAAAAAAAAAAAAAAAAAAAAAAAAAAAAAAAAAAAAAAAAAAAAAAAAAAAAAAAAAAAAAAAAAAAAAAAAAAAAAAAAAAAAAAAAAAAAAAAAAAAAAAAAAAAAAAAAAAAAAAAAAAAAAAAAAAAAAAAAAAAAAAAAAAAAAAAAAAAAAAAAAAAAAAAAAAAAAAAAAAAAAAAAAAAAAAAAAAAAAAAAAAAAAAAAAAAAAAAAAAAAAAAAAAAAAAAAAAAAAAAAAAAAAAAAAAAAAAAAAAAAAAAAAAAAAAAAAAAAAAAAAAAAAAAAAAAAAAAAAAAAAAAAAAAAAAAAAAAAAAAAAAAAAAAAAAAAAAAAAAAAAAAAAAAAAAAAAAAAAAAAAAAAAAAAAAAAAAAAAAAAAAAAAAAAAAAABAQEBAAAAAAAAAAAAAAAAAAAAAAAAAAAAAAAAAAAAAAAAAAAAAAAAAAAAAAAAAAAAAAAAAAAAAAAAAAABAQEBAQEBAQAAAAAAAAAAAAAAAAAAAAAAAAAAAAAAAAAAAAAAAAAAAAAAAAAAAAAAAAAAAAAAAAAAAAABAQEBAQEBAQEBAQEAAAAAAAAAAAAAAAAAAAAAAAAAAAAAAAAAAAAAAAAAAAAAAAAAAAAAAAAAAAAAAAAAAAEBAQEBAQEBAQEBAQAAAAAAAAAAAAAAAAAAAAAAAAAAAAAAAAAAAAAAAAAAAAAAAAAAAAAAAAAAAAAAAAABAQEBAQEBAQEBAQEBAQAAAAAAAAAAAAAAAAAAAAAAAAAAAAAAAAAAAAAAAAAAAAAAAAAAAAAAAAAAAAAAAAEBAQEBAQEBAQEBAQEBAAAAAAAAAAAAAAAAAAAAAAAAAAAAAAAAAAAAAAAAAAAAAAAAAAAAAAAAAAAAAAABAQEBAQEBAQEBAQEBAQEBAAAAAAAAAAAAAAAAAAAAAAAAAAAAAAAAAAAAAAAAAAAAAAAAAAAAAAAAAAAAAAEBAQEBAQEBAQEBAQEBAQEAAAAAAAAAAAAAAAAAAAAAAAAAAAAAAAAAAAAAAAAAAAAAAAAAAAAAAAAAAAAAAQEBAQEBAQEBAQEBAQEBAQAAAAAAAAAAAAAAAAAAAAAAAAAAAAAAAAAAAAAAAAAAAAAAAAAAAAAAAAAAAAABAQEBAQEBAQEBAQEBAQEBAAAAAAAAAAAAAAAAAAAAAAAAAAAAAAAAAAAAAAAAAAAAAAAAAAAAAAAAAAAAAAABAQEBAQEBAQEBAQEBAQAAAAAAAAAAAAAAAAAAAAAAAAAAAAAAAAAAAAAAAAAAAAAAAAAAAAAAAAAAAAAAAAEBAQEBAQEBAQEBAQEBAAAAAAAAAAAAAAAAAAAAAAAAAAAAAAAAAAAAAAAAAAAAAAAAAAAAAAAAAAAAAAAAAAEBAQEBAQEBAQEBAQAAAAAAAAAAAAAAAAAAAAAAAAAAAAAAAAAAAAAAAAAAAAAAAAAAAAAAAAAAAAAAAAAAAQEBAQEBAQEBAQEBAAAAAAAAAAAAAAAAAAAAAAAAAAAAAAAAAAAAAAAAAAAAAAAAAAAAAAAAAAAAAAAAAAAAAAEBAQEBAQEBAAAAAAAAAAAAAAAAAAAAAAAAAAAAAAAAAAAAAAAAAAAAAAAAAAAAAAAAAAAAAAAAAAAAAAAAAAABAQEBAAAAAAAAAAAAAAAAAAAAAAAAAAAAAAAAAAAAAAAAAAAAAAAAAAAAAAAAAAAAAAAAAAAAAAAAAAAAAAAAAAAAAAAAAAAAAAAAAAAAAAAAAAAAAAAAAAAAAAAAAAAAAAAAAAAAAAAAAAAAAAAAAAAAAAAAAAAAAAAAAAAAAAAAAAAAAAAAAAAAAAAAAAAAAAAAAAAAAAAAAAAAAAAAAAAAAAAAAAAAAAAAAAAAAAAAAAAAAAAAAAAAAAAAAAAAAAAAAAAAAAAAAAAAAAAAAAAAAAAAAAAAAAAAAAAAAAAAAAAAAAAAAAAAAAAAAAAAAAAAAAAAAAAAAAAAAAAAAAAAAAAAAAAAAAAAAAAAAAAAAAAAAAAAAAAAAAAAAAAAAAAAAAAAAAAAAAAAAAAAAAAAAAAAAAAAAAAAAAAAAAAAAAAAAAAAAAAAAAAAAAAAAAAAAAAAAAAAAAAAAAAAAAAAAAAAAAAAAAAAAAAAAAAAAAAAAAAAAAAAAAAAAAAAAAAAAAAAAAAAAAAAAAAAAAAAAAA=",
          "dtype": "u1",
          "shape": "28, 62"
         }
        },
        {
         "colorbar": {
          "ticktext": [
           "Outside",
           "Inside"
          ],
          "tickvals": [
           0,
           1
          ],
          "title": {
           "text": "Neuron<br>Presence"
          }
         },
         "colorscale": [
          [
           0,
           "#440154"
          ],
          [
           0.1111111111111111,
           "#482878"
          ],
          [
           0.2222222222222222,
           "#3e4989"
          ],
          [
           0.3333333333333333,
           "#31688e"
          ],
          [
           0.4444444444444444,
           "#26828e"
          ],
          [
           0.5555555555555556,
           "#1f9e89"
          ],
          [
           0.6666666666666666,
           "#35b779"
          ],
          [
           0.7777777777777778,
           "#6ece58"
          ],
          [
           0.8888888888888888,
           "#b5de2b"
          ],
          [
           1,
           "#fde725"
          ]
         ],
         "hovertemplate": "<b>X:</b> %{x:.1f} µm<br><b>Y:</b> %{y:.1f} µm<br><b>Value:</b> %{z}<br><extra></extra>",
         "name": "Z-slice 13",
         "showscale": true,
         "type": "heatmap",
         "visible": false,
         "x": {
          "bdata": "2WzfzHb4LsDBCCyxg/QtwKmkeJWQ8CzAkUDFeZ3sK8B63BFequgqwGJ4XkK35CnAShSrJsTgKMAysPcK0dwnwBpMRO/d2CbAAuiQ0+rUJcDqg92399AkwNIfKpwEzSPAurt2gBHJIsCiV8NkHsUhwIvzD0krwSDA5h65WnB6H8C2VlIjinIdwIaO6+ujahvAVsaEtL1iGcAm/h1911oXwPY1t0XxUhXAyG1QDgtLE8CYpenWJEMRwNC6BT99dg7AcCo40LBmCsAQmmph5FYGwLAJnfIXRwLAoPKeB5du/L/o0QMq/k70v1Bi0ZjKXui/oEE2uzE/0L9gQTa7MT/QPzBi0ZjKXug/2NEDKv5O9D+Y8p4Hl278P6wJnfIXRwJADJpqYeRWBkBsKjjQsGYKQMy6BT99dg5AlqXp1iRDEUDGbVAOC0sTQPI1t0XxUhVAIv4dfddaF0BSxoS0vWIZQIKO6+ujahtAslZSI4pyHUDiHrlacHofQInzD0krwSBAoVfDZB7FIUC5u3aAEckiQNEfKpwEzSNA6YPdt/fQJEAB6JDT6tQlQBlMRO/d2CZAMbD3CtHcJ0BJFKsmxOAoQF94XkK35ClAd9wRXqroKkCPQMV5newrQKekeJWQ8CxAvwgssYP0LUDZbN/MdvguQA==",
          "dtype": "f8"
         },
         "y": {
          "bdata": "AAAAAAAAHMDRXkJ7Ce0ZwKG9hPYS2hfAchzHcRzHFcBCewntJbQTwBPaS2gvoRHAyHEcx3EcD8BpL6G9hPYKwArtJbSX0AbArKqqqqqqAsCY0F5Cewn9v9xLaC+hvfS/QI7jOI7j6L+ACe0ltJfQv3AJ7SW0l9A/OI7jOI7j6D/YS2gvob30P5jQXkJ7Cf0/qKqqqqqqAkAI7SW0l9AGQGgvob2E9gpAxHEcx3EcD0AS2ktoL6ERQEJ7Ce0ltBNAcBzHcRzHFUCgvYT2EtoXQNBeQnsJ7RlAAAAAAAAAHEA=",
          "dtype": "f8"
         },
         "z": {
          "bdata": "AAAAAAAAAAAAAAAAAAAAAAAAAAAAAAAAAAAAAAAAAAAAAAAAAAAAAAAAAAAAAAAAAAAAAAAAAAAAAAAAAAAAAAAAAAAAAAAAAAAAAAAAAAAAAAAAAAAAAAAAAAAAAAAAAAAAAAAAAAAAAAAAAAAAAAAAAAAAAAAAAAAAAAAAAAAAAAAAAAAAAAAAAAAAAAAAAAAAAAAAAAAAAAAAAAAAAAAAAAAAAAAAAAAAAAAAAAAAAAAAAAAAAAAAAAAAAAAAAAAAAAAAAAAAAAAAAAAAAAAAAAAAAAAAAAAAAAAAAAAAAAAAAAAAAAAAAAAAAAAAAAAAAAAAAAAAAAAAAAAAAAAAAAAAAAAAAAAAAAAAAAAAAAAAAAAAAAAAAAAAAAAAAAAAAAAAAAAAAAAAAAAAAAAAAAAAAAAAAAAAAAAAAAAAAAAAAAAAAAAAAAAAAAAAAAAAAAAAAAAAAAAAAAAAAAAAAAAAAAAAAAAAAAAAAAAAAAAAAAAAAAAAAAAAAAAAAAAAAAAAAAAAAAAAAAAAAAABAQEBAAAAAAAAAAAAAAAAAAAAAAAAAAAAAAAAAAAAAAAAAAAAAAAAAAAAAAAAAAAAAAAAAAAAAAAAAAABAQEBAQEBAQAAAAAAAAAAAAAAAAAAAAAAAAAAAAAAAAAAAAAAAAAAAAAAAAAAAAAAAAAAAAAAAAAAAAABAQEBAQEBAQEBAQEAAAAAAAAAAAAAAAAAAAAAAAAAAAAAAAAAAAAAAAAAAAAAAAAAAAAAAAAAAAAAAAAAAAEBAQEBAQEBAQEBAQAAAAAAAAAAAAAAAAAAAAAAAAAAAAAAAAAAAAAAAAAAAAAAAAAAAAAAAAAAAAAAAAABAQEBAQEBAQEBAQEBAQAAAAAAAAAAAAAAAAAAAAAAAAAAAAAAAAAAAAAAAAAAAAAAAAAAAAAAAAAAAAAAAAEBAQEBAQEBAQEBAQEBAAAAAAAAAAAAAAAAAAAAAAAAAAAAAAAAAAAAAAAAAAAAAAAAAAAAAAAAAAAAAAABAQEBAQEBAQEBAQEBAQEBAAAAAAAAAAAAAAAAAAAAAAAAAAAAAAAAAAAAAAAAAAAAAAAAAAAAAAAAAAAAAAEBAQEBAQEBAQEBAQEBAQEAAAAAAAAAAAAAAAAAAAAAAAAAAAAAAAAAAAAAAAAAAAAAAAAAAAAAAAAAAAAAAQEBAQEBAQEBAQEBAQEBAQAAAAAAAAAAAAAAAAAAAAAAAAAAAAAAAAAAAAAAAAAAAAAAAAAAAAAAAAAAAAABAQEBAQEBAQEBAQEBAQEBAAAAAAAAAAAAAAAAAAAAAAAAAAAAAAAAAAAAAAAAAAAAAAAAAAAAAAAAAAAAAAABAQEBAQEBAQEBAQEBAQAAAAAAAAAAAAAAAAAAAAAAAAAAAAAAAAAAAAAAAAAAAAAAAAAAAAAAAAAAAAAAAAEBAQEBAQEBAQEBAQEBAAAAAAAAAAAAAAAAAAAAAAAAAAAAAAAAAAAAAAAAAAAAAAAAAAAAAAAAAAAAAAAAAAEBAQEBAQEBAQEBAQAAAAAAAAAAAAAAAAAAAAAAAAAAAAAAAAAAAAAAAAAAAAAAAAAAAAAAAAAAAAAAAAAAAQEBAQEBAQEBAQEBAAAAAAAAAAAAAAAAAAAAAAAAAAAAAAAAAAAAAAAAAAAAAAAAAAAAAAAAAAAAAAAAAAAAAAEBAQEBAQEBAAAAAAAAAAAAAAAAAAAAAAAAAAAAAAAAAAAAAAAAAAAAAAAAAAAAAAAAAAAAAAAAAAAAAAAAAAABAQEBAAAAAAAAAAAAAAAAAAAAAAAAAAAAAAAAAAAAAAAAAAAAAAAAAAAAAAAAAAAAAAAAAAAAAAAAAAAAAAAAAAAAAAAAAAAAAAAAAAAAAAAAAAAAAAAAAAAAAAAAAAAAAAAAAAAAAAAAAAAAAAAAAAAAAAAAAAAAAAAAAAAAAAAAAAAAAAAAAAAAAAAAAAAAAAAAAAAAAAAAAAAAAAAAAAAAAAAAAAAAAAAAAAAAAAAAAAAAAAAAAAAAAAAAAAAAAAAAAAAAAAAAAAAAAAAAAAAAAAAAAAAAAAAAAAAAAAAAAAAAAAAAAAAAAAAAAAAAAAAAAAAAAAAAAAAAAAAAAAAAAAAAAAAAAAAAAAAAAAAAAAAAAAAAAAAAAAAAAAAAAAAAAAAAAAAAAAAAAAAAAAAAAAAAAAAAAAAAAAAAAAAAAAAAAAAAAAAAAAAAAAAAAAAAAAAAAAAAAAAAAAAAAAAAAAAAAAAAAAAAAAAAAAAAAAAAAAAAAAAAAAAAAAAAAAAAAAAAAAAAAAAAAAAAAAAAAAA=",
          "dtype": "u1",
          "shape": "28, 62"
         }
        },
        {
         "colorbar": {
          "ticktext": [
           "Outside",
           "Inside"
          ],
          "tickvals": [
           0,
           1
          ],
          "title": {
           "text": "Neuron<br>Presence"
          }
         },
         "colorscale": [
          [
           0,
           "#440154"
          ],
          [
           0.1111111111111111,
           "#482878"
          ],
          [
           0.2222222222222222,
           "#3e4989"
          ],
          [
           0.3333333333333333,
           "#31688e"
          ],
          [
           0.4444444444444444,
           "#26828e"
          ],
          [
           0.5555555555555556,
           "#1f9e89"
          ],
          [
           0.6666666666666666,
           "#35b779"
          ],
          [
           0.7777777777777778,
           "#6ece58"
          ],
          [
           0.8888888888888888,
           "#b5de2b"
          ],
          [
           1,
           "#fde725"
          ]
         ],
         "hovertemplate": "<b>X:</b> %{x:.1f} µm<br><b>Y:</b> %{y:.1f} µm<br><b>Value:</b> %{z}<br><extra></extra>",
         "name": "Z-slice 14",
         "showscale": true,
         "type": "heatmap",
         "visible": false,
         "x": {
          "bdata": "2WzfzHb4LsDBCCyxg/QtwKmkeJWQ8CzAkUDFeZ3sK8B63BFequgqwGJ4XkK35CnAShSrJsTgKMAysPcK0dwnwBpMRO/d2CbAAuiQ0+rUJcDqg92399AkwNIfKpwEzSPAurt2gBHJIsCiV8NkHsUhwIvzD0krwSDA5h65WnB6H8C2VlIjinIdwIaO6+ujahvAVsaEtL1iGcAm/h1911oXwPY1t0XxUhXAyG1QDgtLE8CYpenWJEMRwNC6BT99dg7AcCo40LBmCsAQmmph5FYGwLAJnfIXRwLAoPKeB5du/L/o0QMq/k70v1Bi0ZjKXui/oEE2uzE/0L9gQTa7MT/QPzBi0ZjKXug/2NEDKv5O9D+Y8p4Hl278P6wJnfIXRwJADJpqYeRWBkBsKjjQsGYKQMy6BT99dg5AlqXp1iRDEUDGbVAOC0sTQPI1t0XxUhVAIv4dfddaF0BSxoS0vWIZQIKO6+ujahtAslZSI4pyHUDiHrlacHofQInzD0krwSBAoVfDZB7FIUC5u3aAEckiQNEfKpwEzSNA6YPdt/fQJEAB6JDT6tQlQBlMRO/d2CZAMbD3CtHcJ0BJFKsmxOAoQF94XkK35ClAd9wRXqroKkCPQMV5newrQKekeJWQ8CxAvwgssYP0LUDZbN/MdvguQA==",
          "dtype": "f8"
         },
         "y": {
          "bdata": "AAAAAAAAHMDRXkJ7Ce0ZwKG9hPYS2hfAchzHcRzHFcBCewntJbQTwBPaS2gvoRHAyHEcx3EcD8BpL6G9hPYKwArtJbSX0AbArKqqqqqqAsCY0F5Cewn9v9xLaC+hvfS/QI7jOI7j6L+ACe0ltJfQv3AJ7SW0l9A/OI7jOI7j6D/YS2gvob30P5jQXkJ7Cf0/qKqqqqqqAkAI7SW0l9AGQGgvob2E9gpAxHEcx3EcD0AS2ktoL6ERQEJ7Ce0ltBNAcBzHcRzHFUCgvYT2EtoXQNBeQnsJ7RlAAAAAAAAAHEA=",
          "dtype": "f8"
         },
         "z": {
          "bdata": "AAAAAAAAAAAAAAAAAAAAAAAAAAAAAAAAAAAAAAAAAAAAAAAAAAAAAAAAAAAAAAAAAAAAAAAAAAAAAAAAAAAAAAAAAAAAAAAAAAAAAAAAAAAAAAAAAAAAAAAAAAAAAAAAAAAAAAAAAAAAAAAAAAAAAAAAAAAAAAAAAAAAAAAAAAAAAAAAAAAAAAAAAAAAAAAAAAAAAAAAAAAAAAAAAAAAAAAAAAAAAAAAAAAAAAAAAAAAAAAAAAAAAAAAAAAAAAAAAAAAAAAAAAAAAAAAAAAAAAAAAAAAAAAAAAAAAAAAAAAAAAAAAAAAAAAAAAAAAAAAAAAAAAAAAAAAAAAAAAAAAAAAAAAAAAAAAAAAAAAAAAAAAAAAAAAAAAAAAAAAAAAAAAAAAAAAAAAAAAAAAAAAAAAAAAAAAAAAAAAAAAAAAAAAAAAAAAAAAAAAAAAAAAAAAAAAAAAAAAAAAAAAAAAAAAAAAAAAAAAAAAAAAAAAAAAAAAAAAAAAAAAAAAAAAAAAAAAAAAAAAAAAAAAAAAAAAAABAQEBAAAAAAAAAAAAAAAAAAAAAAAAAAAAAAAAAAAAAAAAAAAAAAAAAAAAAAAAAAAAAAAAAAAAAAAAAAABAQEBAQEBAQAAAAAAAAAAAAAAAAAAAAAAAAAAAAAAAAAAAAAAAAAAAAAAAAAAAAAAAAAAAAAAAAAAAAABAQEBAQEBAQEBAQEAAAAAAAAAAAAAAAAAAAAAAAAAAAAAAAAAAAAAAAAAAAAAAAAAAAAAAAAAAAAAAAAAAAEBAQEBAQEBAQEBAQAAAAAAAAAAAAAAAAAAAAAAAAAAAAAAAAAAAAAAAAAAAAAAAAAAAAAAAAAAAAAAAAABAQEBAQEBAQEBAQEBAQAAAAAAAAAAAAAAAAAAAAAAAAAAAAAAAAAAAAAAAAAAAAAAAAAAAAAAAAAAAAAAAAEBAQEBAQEBAQEBAQEBAAAAAAAAAAAAAAAAAAAAAAAAAAAAAAAAAAAAAAAAAAAAAAAAAAAAAAAAAAAAAAABAQEBAQEBAQEBAQEBAQEBAAAAAAAAAAAAAAAAAAAAAAAAAAAAAAAAAAAAAAAAAAAAAAAAAAAAAAAAAAAAAAEBAQEBAQEBAQEBAQEBAQEAAAAAAAAAAAAAAAAAAAAAAAAAAAAAAAAAAAAAAAAAAAAAAAAAAAAAAAAAAAAAAQEBAQEBAQEBAQEBAQEBAQAAAAAAAAAAAAAAAAAAAAAAAAAAAAAAAAAAAAAAAAAAAAAAAAAAAAAAAAAAAAABAQEBAQEBAQEBAQEBAQEBAAAAAAAAAAAAAAAAAAAAAAAAAAAAAAAAAAAAAAAAAAAAAAAAAAAAAAAAAAAAAAABAQEBAQEBAQEBAQEBAQAAAAAAAAAAAAAAAAAAAAAAAAAAAAAAAAAAAAAAAAAAAAAAAAAAAAAAAAAAAAAAAAEBAQEBAQEBAQEBAQEBAAAAAAAAAAAAAAAAAAAAAAAAAAAAAAAAAAAAAAAAAAAAAAAAAAAAAAAAAAAAAAAAAAEBAQEBAQEBAQEBAQAAAAAAAAAAAAAAAAAAAAAAAAAAAAAAAAAAAAAAAAAAAAAAAAAAAAAAAAAAAAAAAAAAAQEBAQEBAQEBAQEBAAAAAAAAAAAAAAAAAAAAAAAAAAAAAAAAAAAAAAAAAAAAAAAAAAAAAAAAAAAAAAAAAAAAAAEBAQEBAQEBAAAAAAAAAAAAAAAAAAAAAAAAAAAAAAAAAAAAAAAAAAAAAAAAAAAAAAAAAAAAAAAAAAAAAAAAAAABAQEBAAAAAAAAAAAAAAAAAAAAAAAAAAAAAAAAAAAAAAAAAAAAAAAAAAAAAAAAAAAAAAAAAAAAAAAAAAAAAAAAAAAAAAAAAAAAAAAAAAAAAAAAAAAAAAAAAAAAAAAAAAAAAAAAAAAAAAAAAAAAAAAAAAAAAAAAAAAAAAAAAAAAAAAAAAAAAAAAAAAAAAAAAAAAAAAAAAAAAAAAAAAAAAAAAAAAAAAAAAAAAAAAAAAAAAAAAAAAAAAAAAAAAAAAAAAAAAAAAAAAAAAAAAAAAAAAAAAAAAAAAAAAAAAAAAAAAAAAAAAAAAAAAAAAAAAAAAAAAAAAAAAAAAAAAAAAAAAAAAAAAAAAAAAAAAAAAAAAAAAAAAAAAAAAAAAAAAAAAAAAAAAAAAAAAAAAAAAAAAAAAAAAAAAAAAAAAAAAAAAAAAAAAAAAAAAAAAAAAAAAAAAAAAAAAAAAAAAAAAAAAAAAAAAAAAAAAAAAAAAAAAAAAAAAAAAAAAAAAAAAAAAAAAAAAAAAAAAAAAAAAAAAAAAAAAAAAAA=",
          "dtype": "u1",
          "shape": "28, 62"
         }
        },
        {
         "colorbar": {
          "ticktext": [
           "Outside",
           "Inside"
          ],
          "tickvals": [
           0,
           1
          ],
          "title": {
           "text": "Neuron<br>Presence"
          }
         },
         "colorscale": [
          [
           0,
           "#440154"
          ],
          [
           0.1111111111111111,
           "#482878"
          ],
          [
           0.2222222222222222,
           "#3e4989"
          ],
          [
           0.3333333333333333,
           "#31688e"
          ],
          [
           0.4444444444444444,
           "#26828e"
          ],
          [
           0.5555555555555556,
           "#1f9e89"
          ],
          [
           0.6666666666666666,
           "#35b779"
          ],
          [
           0.7777777777777778,
           "#6ece58"
          ],
          [
           0.8888888888888888,
           "#b5de2b"
          ],
          [
           1,
           "#fde725"
          ]
         ],
         "hovertemplate": "<b>X:</b> %{x:.1f} µm<br><b>Y:</b> %{y:.1f} µm<br><b>Value:</b> %{z}<br><extra></extra>",
         "name": "Z-slice 15",
         "showscale": true,
         "type": "heatmap",
         "visible": false,
         "x": {
          "bdata": "2WzfzHb4LsDBCCyxg/QtwKmkeJWQ8CzAkUDFeZ3sK8B63BFequgqwGJ4XkK35CnAShSrJsTgKMAysPcK0dwnwBpMRO/d2CbAAuiQ0+rUJcDqg92399AkwNIfKpwEzSPAurt2gBHJIsCiV8NkHsUhwIvzD0krwSDA5h65WnB6H8C2VlIjinIdwIaO6+ujahvAVsaEtL1iGcAm/h1911oXwPY1t0XxUhXAyG1QDgtLE8CYpenWJEMRwNC6BT99dg7AcCo40LBmCsAQmmph5FYGwLAJnfIXRwLAoPKeB5du/L/o0QMq/k70v1Bi0ZjKXui/oEE2uzE/0L9gQTa7MT/QPzBi0ZjKXug/2NEDKv5O9D+Y8p4Hl278P6wJnfIXRwJADJpqYeRWBkBsKjjQsGYKQMy6BT99dg5AlqXp1iRDEUDGbVAOC0sTQPI1t0XxUhVAIv4dfddaF0BSxoS0vWIZQIKO6+ujahtAslZSI4pyHUDiHrlacHofQInzD0krwSBAoVfDZB7FIUC5u3aAEckiQNEfKpwEzSNA6YPdt/fQJEAB6JDT6tQlQBlMRO/d2CZAMbD3CtHcJ0BJFKsmxOAoQF94XkK35ClAd9wRXqroKkCPQMV5newrQKekeJWQ8CxAvwgssYP0LUDZbN/MdvguQA==",
          "dtype": "f8"
         },
         "y": {
          "bdata": "AAAAAAAAHMDRXkJ7Ce0ZwKG9hPYS2hfAchzHcRzHFcBCewntJbQTwBPaS2gvoRHAyHEcx3EcD8BpL6G9hPYKwArtJbSX0AbArKqqqqqqAsCY0F5Cewn9v9xLaC+hvfS/QI7jOI7j6L+ACe0ltJfQv3AJ7SW0l9A/OI7jOI7j6D/YS2gvob30P5jQXkJ7Cf0/qKqqqqqqAkAI7SW0l9AGQGgvob2E9gpAxHEcx3EcD0AS2ktoL6ERQEJ7Ce0ltBNAcBzHcRzHFUCgvYT2EtoXQNBeQnsJ7RlAAAAAAAAAHEA=",
          "dtype": "f8"
         },
         "z": {
          "bdata": "AAAAAAAAAAAAAAAAAAAAAAAAAAAAAAAAAAAAAAAAAAAAAAAAAAAAAAAAAAAAAAAAAAAAAAAAAAAAAAAAAAAAAAAAAAAAAAAAAAAAAAAAAAAAAAAAAAAAAAAAAAAAAAAAAAAAAAAAAAAAAAAAAAAAAAAAAAAAAAAAAAAAAAAAAAAAAAAAAAAAAAAAAAAAAAAAAAAAAAAAAAAAAAAAAAAAAAAAAAAAAAAAAAAAAAAAAAAAAAAAAAAAAAAAAAAAAAAAAAAAAAAAAAAAAAAAAAAAAAAAAAAAAAAAAAAAAAAAAAAAAAAAAAAAAAAAAAAAAAAAAAAAAAAAAAAAAAAAAAAAAAAAAAAAAAAAAAAAAAAAAAAAAAAAAAAAAAAAAAAAAAAAAAAAAAAAAAAAAAAAAAAAAAAAAAAAAAAAAAAAAAAAAAAAAAAAAAAAAAAAAAAAAAAAAAAAAAAAAAAAAAAAAAAAAAAAAAAAAAAAAAAAAAAAAAAAAAAAAAAAAAAAAAAAAAAAAAAAAAAAAAAAAAAAAAAAAAABAQEBAAAAAAAAAAAAAAAAAAAAAAAAAAAAAAAAAAAAAAAAAAAAAAAAAAAAAAAAAAAAAAAAAAAAAAAAAAABAQEBAQEBAQAAAAAAAAAAAAAAAAAAAAAAAAAAAAAAAAAAAAAAAAAAAAAAAAAAAAAAAAAAAAAAAAAAAAABAQEBAQEBAQEBAQEAAAAAAAAAAAAAAAAAAAAAAAAAAAAAAAAAAAAAAAAAAAAAAAAAAAAAAAAAAAAAAAAAAAEBAQEBAQEBAQEBAQAAAAAAAAAAAAAAAAAAAAAAAAAAAAAAAAAAAAAAAAAAAAAAAAAAAAAAAAAAAAAAAAABAQEBAQEBAQEBAQEBAQAAAAAAAAAAAAAAAAAAAAAAAAAAAAAAAAAAAAAAAAAAAAAAAAAAAAAAAAAAAAAAAAEBAQEBAQEBAQEBAQEBAAAAAAAAAAAAAAAAAAAAAAAAAAAAAAAAAAAAAAAAAAAAAAAAAAAAAAAAAAAAAAABAQEBAQEBAQEBAQEBAQEBAAAAAAAAAAAAAAAAAAAAAAAAAAAAAAAAAAAAAAAAAAAAAAAAAAAAAAAAAAAAAAEBAQEBAQEBAQEBAQEBAQEAAAAAAAAAAAAAAAAAAAAAAAAAAAAAAAAAAAAAAAAAAAAAAAAAAAAAAAAAAAAAAQEBAQEBAQEBAQEBAQEBAQAAAAAAAAAAAAAAAAAAAAAAAAAAAAAAAAAAAAAAAAAAAAAAAAAAAAAAAAAAAAABAQEBAQEBAQEBAQEBAQEBAAAAAAAAAAAAAAAAAAAAAAAAAAAAAAAAAAAAAAAAAAAAAAAAAAAAAAAAAAAAAAABAQEBAQEBAQEBAQEBAQAAAAAAAAAAAAAAAAAAAAAAAAAAAAAAAAAAAAAAAAAAAAAAAAAAAAAAAAAAAAAAAAEBAQEBAQEBAQEBAQEBAAAAAAAAAAAAAAAAAAAAAAAAAAAAAAAAAAAAAAAAAAAAAAAAAAAAAAAAAAAAAAAAAAEBAQEBAQEBAQEBAQAAAAAAAAAAAAAAAAAAAAAAAAAAAAAAAAAAAAAAAAAAAAAAAAAAAAAAAAAAAAAAAAAAAQEBAQEBAQEBAQEBAAAAAAAAAAAAAAAAAAAAAAAAAAAAAAAAAAAAAAAAAAAAAAAAAAAAAAAAAAAAAAAAAAAAAAEBAQEBAQEBAAAAAAAAAAAAAAAAAAAAAAAAAAAAAAAAAAAAAAAAAAAAAAAAAAAAAAAAAAAAAAAAAAAAAAAAAAABAQEBAAAAAAAAAAAAAAAAAAAAAAAAAAAAAAAAAAAAAAAAAAAAAAAAAAAAAAAAAAAAAAAAAAAAAAAAAAAAAAAAAAAAAAAAAAAAAAAAAAAAAAAAAAAAAAAAAAAAAAAAAAAAAAAAAAAAAAAAAAAAAAAAAAAAAAAAAAAAAAAAAAAAAAAAAAAAAAAAAAAAAAAAAAAAAAAAAAAAAAAAAAAAAAAAAAAAAAAAAAAAAAAAAAAAAAAAAAAAAAAAAAAAAAAAAAAAAAAAAAAAAAAAAAAAAAAAAAAAAAAAAAAAAAAAAAAAAAAAAAAAAAAAAAAAAAAAAAAAAAAAAAAAAAAAAAAAAAAAAAAAAAAAAAAAAAAAAAAAAAAAAAAAAAAAAAAAAAAAAAAAAAAAAAAAAAAAAAAAAAAAAAAAAAAAAAAAAAAAAAAAAAAAAAAAAAAAAAAAAAAAAAAAAAAAAAAAAAAAAAAAAAAAAAAAAAAAAAAAAAAAAAAAAAAAAAAAAAAAAAAAAAAAAAAAAAAAAAAAAAAAAAAAAAAAAAAAAAA=",
          "dtype": "u1",
          "shape": "28, 62"
         }
        },
        {
         "colorbar": {
          "ticktext": [
           "Outside",
           "Inside"
          ],
          "tickvals": [
           0,
           1
          ],
          "title": {
           "text": "Neuron<br>Presence"
          }
         },
         "colorscale": [
          [
           0,
           "#440154"
          ],
          [
           0.1111111111111111,
           "#482878"
          ],
          [
           0.2222222222222222,
           "#3e4989"
          ],
          [
           0.3333333333333333,
           "#31688e"
          ],
          [
           0.4444444444444444,
           "#26828e"
          ],
          [
           0.5555555555555556,
           "#1f9e89"
          ],
          [
           0.6666666666666666,
           "#35b779"
          ],
          [
           0.7777777777777778,
           "#6ece58"
          ],
          [
           0.8888888888888888,
           "#b5de2b"
          ],
          [
           1,
           "#fde725"
          ]
         ],
         "hovertemplate": "<b>X:</b> %{x:.1f} µm<br><b>Y:</b> %{y:.1f} µm<br><b>Value:</b> %{z}<br><extra></extra>",
         "name": "Z-slice 16",
         "showscale": true,
         "type": "heatmap",
         "visible": false,
         "x": {
          "bdata": "2WzfzHb4LsDBCCyxg/QtwKmkeJWQ8CzAkUDFeZ3sK8B63BFequgqwGJ4XkK35CnAShSrJsTgKMAysPcK0dwnwBpMRO/d2CbAAuiQ0+rUJcDqg92399AkwNIfKpwEzSPAurt2gBHJIsCiV8NkHsUhwIvzD0krwSDA5h65WnB6H8C2VlIjinIdwIaO6+ujahvAVsaEtL1iGcAm/h1911oXwPY1t0XxUhXAyG1QDgtLE8CYpenWJEMRwNC6BT99dg7AcCo40LBmCsAQmmph5FYGwLAJnfIXRwLAoPKeB5du/L/o0QMq/k70v1Bi0ZjKXui/oEE2uzE/0L9gQTa7MT/QPzBi0ZjKXug/2NEDKv5O9D+Y8p4Hl278P6wJnfIXRwJADJpqYeRWBkBsKjjQsGYKQMy6BT99dg5AlqXp1iRDEUDGbVAOC0sTQPI1t0XxUhVAIv4dfddaF0BSxoS0vWIZQIKO6+ujahtAslZSI4pyHUDiHrlacHofQInzD0krwSBAoVfDZB7FIUC5u3aAEckiQNEfKpwEzSNA6YPdt/fQJEAB6JDT6tQlQBlMRO/d2CZAMbD3CtHcJ0BJFKsmxOAoQF94XkK35ClAd9wRXqroKkCPQMV5newrQKekeJWQ8CxAvwgssYP0LUDZbN/MdvguQA==",
          "dtype": "f8"
         },
         "y": {
          "bdata": "AAAAAAAAHMDRXkJ7Ce0ZwKG9hPYS2hfAchzHcRzHFcBCewntJbQTwBPaS2gvoRHAyHEcx3EcD8BpL6G9hPYKwArtJbSX0AbArKqqqqqqAsCY0F5Cewn9v9xLaC+hvfS/QI7jOI7j6L+ACe0ltJfQv3AJ7SW0l9A/OI7jOI7j6D/YS2gvob30P5jQXkJ7Cf0/qKqqqqqqAkAI7SW0l9AGQGgvob2E9gpAxHEcx3EcD0AS2ktoL6ERQEJ7Ce0ltBNAcBzHcRzHFUCgvYT2EtoXQNBeQnsJ7RlAAAAAAAAAHEA=",
          "dtype": "f8"
         },
         "z": {
          "bdata": "AAAAAAAAAAAAAAAAAAAAAAAAAAAAAAAAAAAAAAAAAAAAAAAAAAAAAAAAAAAAAAAAAAAAAAAAAAAAAAAAAAAAAAAAAAAAAAAAAAAAAAAAAAAAAAAAAAAAAAAAAAAAAAAAAAAAAAAAAAAAAAAAAAAAAAAAAAAAAAAAAAAAAAAAAAAAAAAAAAAAAAAAAAAAAAAAAAAAAAAAAAAAAAAAAAAAAAAAAAAAAAAAAAAAAAAAAAAAAAAAAAAAAAAAAAAAAAAAAAAAAAAAAAAAAAAAAAAAAAAAAAAAAAAAAAAAAAAAAAAAAAAAAAAAAAAAAAAAAAAAAAAAAAAAAAAAAAAAAAAAAAAAAAAAAAAAAAAAAAAAAAAAAAAAAAAAAAAAAAAAAAAAAAAAAAAAAAAAAAAAAAAAAAAAAAAAAAAAAAAAAAAAAAAAAAAAAAAAAAAAAAAAAAAAAAAAAAAAAAAAAAAAAAAAAAAAAAAAAAAAAAAAAAAAAAAAAAAAAAAAAAAAAAAAAAAAAAAAAAAAAAAAAAAAAAAAAAABAQEBAAAAAAAAAAAAAAAAAAAAAAAAAAAAAAAAAAAAAAAAAAAAAAAAAAAAAAAAAAAAAAAAAAAAAAAAAAABAQEBAQEBAQAAAAAAAAAAAAAAAAAAAAAAAAAAAAAAAAAAAAAAAAAAAAAAAAAAAAAAAAAAAAAAAAAAAAABAQEBAQEBAQEBAQEAAAAAAAAAAAAAAAAAAAAAAAAAAAAAAAAAAAAAAAAAAAAAAAAAAAAAAAAAAAAAAAAAAAEBAQEBAQEBAQEBAQAAAAAAAAAAAAAAAAAAAAAAAAAAAAAAAAAAAAAAAAAAAAAAAAAAAAAAAAAAAAAAAAABAQEBAQEBAQEBAQEBAQAAAAAAAAAAAAAAAAAAAAAAAAAAAAAAAAAAAAAAAAAAAAAAAAAAAAAAAAAAAAAAAAEBAQEBAQEBAQEBAQEBAAAAAAAAAAAAAAAAAAAAAAAAAAAAAAAAAAAAAAAAAAAAAAAAAAAAAAAAAAAAAAABAQEBAQEBAQEBAQEBAQEBAAAAAAAAAAAAAAAAAAAAAAAAAAAAAAAAAAAAAAAAAAAAAAAAAAAAAAAAAAAAAAEBAQEBAQEBAQEBAQEBAQEAAAAAAAAAAAAAAAAAAAAAAAAAAAAAAAAAAAAAAAAAAAAAAAAAAAAAAAAAAAAAAQEBAQEBAQEBAQEBAQEBAQAAAAAAAAAAAAAAAAAAAAAAAAAAAAAAAAAAAAAAAAAAAAAAAAAAAAAAAAAAAAABAQEBAQEBAQEBAQEBAQEBAAAAAAAAAAAAAAAAAAAAAAAAAAAAAAAAAAAAAAAAAAAAAAAAAAAAAAAAAAAAAAABAQEBAQEBAQEBAQEBAQAAAAAAAAAAAAAAAAAAAAAAAAAAAAAAAAAAAAAAAAAAAAAAAAAAAAAAAAAAAAAAAAEBAQEBAQEBAQEBAQEBAAAAAAAAAAAAAAAAAAAAAAAAAAAAAAAAAAAAAAAAAAAAAAAAAAAAAAAAAAAAAAAAAAEBAQEBAQEBAQEBAQAAAAAAAAAAAAAAAAAAAAAAAAAAAAAAAAAAAAAAAAAAAAAAAAAAAAAAAAAAAAAAAAAAAQEBAQEBAQEBAQEBAAAAAAAAAAAAAAAAAAAAAAAAAAAAAAAAAAAAAAAAAAAAAAAAAAAAAAAAAAAAAAAAAAAAAAEBAQEBAQEBAAAAAAAAAAAAAAAAAAAAAAAAAAAAAAAAAAAAAAAAAAAAAAAAAAAAAAAAAAAAAAAAAAAAAAAAAAABAQEBAAAAAAAAAAAAAAAAAAAAAAAAAAAAAAAAAAAAAAAAAAAAAAAAAAAAAAAAAAAAAAAAAAAAAAAAAAAAAAAAAAAAAAAAAAAAAAAAAAAAAAAAAAAAAAAAAAAAAAAAAAAAAAAAAAAAAAAAAAAAAAAAAAAAAAAAAAAAAAAAAAAAAAAAAAAAAAAAAAAAAAAAAAAAAAAAAAAAAAAAAAAAAAAAAAAAAAAAAAAAAAAAAAAAAAAAAAAAAAAAAAAAAAAAAAAAAAAAAAAAAAAAAAAAAAAAAAAAAAAAAAAAAAAAAAAAAAAAAAAAAAAAAAAAAAAAAAAAAAAAAAAAAAAAAAAAAAAAAAAAAAAAAAAAAAAAAAAAAAAAAAAAAAAAAAAAAAAAAAAAAAAAAAAAAAAAAAAAAAAAAAAAAAAAAAAAAAAAAAAAAAAAAAAAAAAAAAAAAAAAAAAAAAAAAAAAAAAAAAAAAAAAAAAAAAAAAAAAAAAAAAAAAAAAAAAAAAAAAAAAAAAAAAAAAAAAAAAAAAAAAAAAAAAAAAAAAAA=",
          "dtype": "u1",
          "shape": "28, 62"
         }
        },
        {
         "colorbar": {
          "ticktext": [
           "Outside",
           "Inside"
          ],
          "tickvals": [
           0,
           1
          ],
          "title": {
           "text": "Neuron<br>Presence"
          }
         },
         "colorscale": [
          [
           0,
           "#440154"
          ],
          [
           0.1111111111111111,
           "#482878"
          ],
          [
           0.2222222222222222,
           "#3e4989"
          ],
          [
           0.3333333333333333,
           "#31688e"
          ],
          [
           0.4444444444444444,
           "#26828e"
          ],
          [
           0.5555555555555556,
           "#1f9e89"
          ],
          [
           0.6666666666666666,
           "#35b779"
          ],
          [
           0.7777777777777778,
           "#6ece58"
          ],
          [
           0.8888888888888888,
           "#b5de2b"
          ],
          [
           1,
           "#fde725"
          ]
         ],
         "hovertemplate": "<b>X:</b> %{x:.1f} µm<br><b>Y:</b> %{y:.1f} µm<br><b>Value:</b> %{z}<br><extra></extra>",
         "name": "Z-slice 17",
         "showscale": true,
         "type": "heatmap",
         "visible": false,
         "x": {
          "bdata": "2WzfzHb4LsDBCCyxg/QtwKmkeJWQ8CzAkUDFeZ3sK8B63BFequgqwGJ4XkK35CnAShSrJsTgKMAysPcK0dwnwBpMRO/d2CbAAuiQ0+rUJcDqg92399AkwNIfKpwEzSPAurt2gBHJIsCiV8NkHsUhwIvzD0krwSDA5h65WnB6H8C2VlIjinIdwIaO6+ujahvAVsaEtL1iGcAm/h1911oXwPY1t0XxUhXAyG1QDgtLE8CYpenWJEMRwNC6BT99dg7AcCo40LBmCsAQmmph5FYGwLAJnfIXRwLAoPKeB5du/L/o0QMq/k70v1Bi0ZjKXui/oEE2uzE/0L9gQTa7MT/QPzBi0ZjKXug/2NEDKv5O9D+Y8p4Hl278P6wJnfIXRwJADJpqYeRWBkBsKjjQsGYKQMy6BT99dg5AlqXp1iRDEUDGbVAOC0sTQPI1t0XxUhVAIv4dfddaF0BSxoS0vWIZQIKO6+ujahtAslZSI4pyHUDiHrlacHofQInzD0krwSBAoVfDZB7FIUC5u3aAEckiQNEfKpwEzSNA6YPdt/fQJEAB6JDT6tQlQBlMRO/d2CZAMbD3CtHcJ0BJFKsmxOAoQF94XkK35ClAd9wRXqroKkCPQMV5newrQKekeJWQ8CxAvwgssYP0LUDZbN/MdvguQA==",
          "dtype": "f8"
         },
         "y": {
          "bdata": "AAAAAAAAHMDRXkJ7Ce0ZwKG9hPYS2hfAchzHcRzHFcBCewntJbQTwBPaS2gvoRHAyHEcx3EcD8BpL6G9hPYKwArtJbSX0AbArKqqqqqqAsCY0F5Cewn9v9xLaC+hvfS/QI7jOI7j6L+ACe0ltJfQv3AJ7SW0l9A/OI7jOI7j6D/YS2gvob30P5jQXkJ7Cf0/qKqqqqqqAkAI7SW0l9AGQGgvob2E9gpAxHEcx3EcD0AS2ktoL6ERQEJ7Ce0ltBNAcBzHcRzHFUCgvYT2EtoXQNBeQnsJ7RlAAAAAAAAAHEA=",
          "dtype": "f8"
         },
         "z": {
          "bdata": "AAAAAAAAAAAAAAAAAAAAAAAAAAAAAAAAAAAAAAAAAAAAAAAAAAAAAAAAAAAAAAAAAAAAAAAAAAAAAAAAAAAAAAAAAAAAAAAAAAAAAAAAAAAAAAAAAAAAAAAAAAAAAAAAAAAAAAAAAAAAAAAAAAAAAAAAAAAAAAAAAAAAAAAAAAAAAAAAAAAAAAAAAAAAAAAAAAAAAAAAAAAAAAAAAAAAAAAAAAAAAAAAAAAAAAAAAAAAAAAAAAAAAAAAAAAAAAAAAAAAAAAAAAAAAAAAAAAAAAAAAAAAAAAAAAAAAAAAAAAAAAAAAAAAAAAAAAAAAAAAAAAAAAAAAAAAAAAAAAAAAAAAAAAAAAAAAAAAAAAAAAAAAAAAAAAAAAAAAAAAAAAAAAAAAAAAAAAAAAAAAAAAAAAAAAAAAAAAAAAAAAAAAAAAAAAAAAAAAAAAAAAAAAAAAAAAAAAAAAAAAAAAAAAAAAAAAAAAAAAAAAAAAAAAAAAAAAAAAAAAAAAAAAAAAAAAAAAAAAAAAAAAAAAAAAAAAAABAQEBAAAAAAAAAAAAAAAAAAAAAAAAAAAAAAAAAAAAAAAAAAAAAAAAAAAAAAAAAAAAAAAAAAAAAAAAAAABAQEBAQEBAQAAAAAAAAAAAAAAAAAAAAAAAAAAAAAAAAAAAAAAAAAAAAAAAAAAAAAAAAAAAAAAAAAAAAABAQEBAQEBAQEBAQEAAAAAAAAAAAAAAAAAAAAAAAAAAAAAAAAAAAAAAAAAAAAAAAAAAAAAAAAAAAAAAAAAAAEBAQEBAQEBAQEBAQAAAAAAAAAAAAAAAAAAAAAAAAAAAAAAAAAAAAAAAAAAAAAAAAAAAAAAAAAAAAAAAAABAQEBAQEBAQEBAQEBAQAAAAAAAAAAAAAAAAAAAAAAAAAAAAAAAAAAAAAAAAAAAAAAAAAAAAAAAAAAAAAAAAEBAQEBAQEBAQEBAQEBAAAAAAAAAAAAAAAAAAAAAAAAAAAAAAAAAAAAAAAAAAAAAAAAAAAAAAAAAAAAAAABAQEBAQEBAQEBAQEBAQEBAAAAAAAAAAAAAAAAAAAAAAAAAAAAAAAAAAAAAAAAAAAAAAAAAAAAAAAAAAAAAAEBAQEBAQEBAQEBAQEBAQEAAAAAAAAAAAAAAAAAAAAAAAAAAAAAAAAAAAAAAAAAAAAAAAAAAAAAAAAAAAAAAQEBAQEBAQEBAQEBAQEBAQAAAAAAAAAAAAAAAAAAAAAAAAAAAAAAAAAAAAAAAAAAAAAAAAAAAAAAAAAAAAABAQEBAQEBAQEBAQEBAQEBAAAAAAAAAAAAAAAAAAAAAAAAAAAAAAAAAAAAAAAAAAAAAAAAAAAAAAAAAAAAAAABAQEBAQEBAQEBAQEBAQAAAAAAAAAAAAAAAAAAAAAAAAAAAAAAAAAAAAAAAAAAAAAAAAAAAAAAAAAAAAAAAAEBAQEBAQEBAQEBAQEBAAAAAAAAAAAAAAAAAAAAAAAAAAAAAAAAAAAAAAAAAAAAAAAAAAAAAAAAAAAAAAAAAAEBAQEBAQEBAQEBAQAAAAAAAAAAAAAAAAAAAAAAAAAAAAAAAAAAAAAAAAAAAAAAAAAAAAAAAAAAAAAAAAAAAQEBAQEBAQEBAQEBAAAAAAAAAAAAAAAAAAAAAAAAAAAAAAAAAAAAAAAAAAAAAAAAAAAAAAAAAAAAAAAAAAAAAAEBAQEBAQEBAAAAAAAAAAAAAAAAAAAAAAAAAAAAAAAAAAAAAAAAAAAAAAAAAAAAAAAAAAAAAAAAAAAAAAAAAAABAQEBAAAAAAAAAAAAAAAAAAAAAAAAAAAAAAAAAAAAAAAAAAAAAAAAAAAAAAAAAAAAAAAAAAAAAAAAAAAAAAAAAAAAAAAAAAAAAAAAAAAAAAAAAAAAAAAAAAAAAAAAAAAAAAAAAAAAAAAAAAAAAAAAAAAAAAAAAAAAAAAAAAAAAAAAAAAAAAAAAAAAAAAAAAAAAAAAAAAAAAAAAAAAAAAAAAAAAAAAAAAAAAAAAAAAAAAAAAAAAAAAAAAAAAAAAAAAAAAAAAAAAAAAAAAAAAAAAAAAAAAAAAAAAAAAAAAAAAAAAAAAAAAAAAAAAAAAAAAAAAAAAAAAAAAAAAAAAAAAAAAAAAAAAAAAAAAAAAAAAAAAAAAAAAAAAAAAAAAAAAAAAAAAAAAAAAAAAAAAAAAAAAAAAAAAAAAAAAAAAAAAAAAAAAAAAAAAAAAAAAAAAAAAAAAAAAAAAAAAAAAAAAAAAAAAAAAAAAAAAAAAAAAAAAAAAAAAAAAAAAAAAAAAAAAAAAAAAAAAAAAAAAAAAAAAAAAAAAA=",
          "dtype": "u1",
          "shape": "28, 62"
         }
        },
        {
         "colorbar": {
          "ticktext": [
           "Outside",
           "Inside"
          ],
          "tickvals": [
           0,
           1
          ],
          "title": {
           "text": "Neuron<br>Presence"
          }
         },
         "colorscale": [
          [
           0,
           "#440154"
          ],
          [
           0.1111111111111111,
           "#482878"
          ],
          [
           0.2222222222222222,
           "#3e4989"
          ],
          [
           0.3333333333333333,
           "#31688e"
          ],
          [
           0.4444444444444444,
           "#26828e"
          ],
          [
           0.5555555555555556,
           "#1f9e89"
          ],
          [
           0.6666666666666666,
           "#35b779"
          ],
          [
           0.7777777777777778,
           "#6ece58"
          ],
          [
           0.8888888888888888,
           "#b5de2b"
          ],
          [
           1,
           "#fde725"
          ]
         ],
         "hovertemplate": "<b>X:</b> %{x:.1f} µm<br><b>Y:</b> %{y:.1f} µm<br><b>Value:</b> %{z}<br><extra></extra>",
         "name": "Z-slice 18",
         "showscale": true,
         "type": "heatmap",
         "visible": false,
         "x": {
          "bdata": "2WzfzHb4LsDBCCyxg/QtwKmkeJWQ8CzAkUDFeZ3sK8B63BFequgqwGJ4XkK35CnAShSrJsTgKMAysPcK0dwnwBpMRO/d2CbAAuiQ0+rUJcDqg92399AkwNIfKpwEzSPAurt2gBHJIsCiV8NkHsUhwIvzD0krwSDA5h65WnB6H8C2VlIjinIdwIaO6+ujahvAVsaEtL1iGcAm/h1911oXwPY1t0XxUhXAyG1QDgtLE8CYpenWJEMRwNC6BT99dg7AcCo40LBmCsAQmmph5FYGwLAJnfIXRwLAoPKeB5du/L/o0QMq/k70v1Bi0ZjKXui/oEE2uzE/0L9gQTa7MT/QPzBi0ZjKXug/2NEDKv5O9D+Y8p4Hl278P6wJnfIXRwJADJpqYeRWBkBsKjjQsGYKQMy6BT99dg5AlqXp1iRDEUDGbVAOC0sTQPI1t0XxUhVAIv4dfddaF0BSxoS0vWIZQIKO6+ujahtAslZSI4pyHUDiHrlacHofQInzD0krwSBAoVfDZB7FIUC5u3aAEckiQNEfKpwEzSNA6YPdt/fQJEAB6JDT6tQlQBlMRO/d2CZAMbD3CtHcJ0BJFKsmxOAoQF94XkK35ClAd9wRXqroKkCPQMV5newrQKekeJWQ8CxAvwgssYP0LUDZbN/MdvguQA==",
          "dtype": "f8"
         },
         "y": {
          "bdata": "AAAAAAAAHMDRXkJ7Ce0ZwKG9hPYS2hfAchzHcRzHFcBCewntJbQTwBPaS2gvoRHAyHEcx3EcD8BpL6G9hPYKwArtJbSX0AbArKqqqqqqAsCY0F5Cewn9v9xLaC+hvfS/QI7jOI7j6L+ACe0ltJfQv3AJ7SW0l9A/OI7jOI7j6D/YS2gvob30P5jQXkJ7Cf0/qKqqqqqqAkAI7SW0l9AGQGgvob2E9gpAxHEcx3EcD0AS2ktoL6ERQEJ7Ce0ltBNAcBzHcRzHFUCgvYT2EtoXQNBeQnsJ7RlAAAAAAAAAHEA=",
          "dtype": "f8"
         },
         "z": {
          "bdata": "AAAAAAAAAAAAAAAAAAAAAAAAAAAAAAAAAAAAAAAAAAAAAAAAAAAAAAAAAAAAAAAAAAAAAAAAAAAAAAAAAAAAAAAAAAAAAAAAAAAAAAAAAAAAAAAAAAAAAAAAAAAAAAAAAAAAAAAAAAAAAAAAAAAAAAAAAAAAAAAAAAAAAAAAAAAAAAAAAAAAAAAAAAAAAAAAAAAAAAAAAAAAAAAAAAAAAAAAAAAAAAAAAAAAAAAAAAAAAAAAAAAAAAAAAAAAAAAAAAAAAAAAAAAAAAAAAAAAAAAAAAAAAAAAAAAAAAAAAAAAAAAAAAAAAAAAAAAAAAAAAAAAAAAAAAAAAAAAAAAAAAAAAAAAAAAAAAAAAAAAAAAAAAAAAAAAAAAAAAAAAAAAAAAAAAAAAAAAAAAAAAAAAAAAAAAAAAAAAAAAAAAAAAAAAAAAAAAAAAAAAAAAAAAAAAAAAAAAAAAAAAAAAAAAAAAAAAAAAAAAAAAAAAAAAAAAAAAAAAAAAAAAAAAAAAAAAAAAAAAAAAAAAAAAAAAAAAABAQEBAAAAAAAAAAAAAAAAAAAAAAAAAAAAAAAAAAAAAAAAAAAAAAAAAAAAAAAAAAAAAAAAAAAAAAAAAAABAQEBAQEBAQAAAAAAAAAAAAAAAAAAAAAAAAAAAAAAAAAAAAAAAAAAAAAAAAAAAAAAAAAAAAAAAAAAAAABAQEBAQEBAQEBAQEAAAAAAAAAAAAAAAAAAAAAAAAAAAAAAAAAAAAAAAAAAAAAAAAAAAAAAAAAAAAAAAAAAAEBAQEBAQEBAQEBAQAAAAAAAAAAAAAAAAAAAAAAAAAAAAAAAAAAAAAAAAAAAAAAAAAAAAAAAAAAAAAAAAABAQEBAQEBAQEBAQEBAQAAAAAAAAAAAAAAAAAAAAAAAAAAAAAAAAAAAAAAAAAAAAAAAAAAAAAAAAAAAAAAAAEBAQEBAQEBAQEBAQEBAAAAAAAAAAAAAAAAAAAAAAAAAAAAAAAAAAAAAAAAAAAAAAAAAAAAAAAAAAAAAAABAQEBAQEBAQEBAQEBAQEBAAAAAAAAAAAAAAAAAAAAAAAAAAAAAAAAAAAAAAAAAAAAAAAAAAAAAAAAAAAAAAEBAQEBAQEBAQEBAQEBAQEAAAAAAAAAAAAAAAAAAAAAAAAAAAAAAAAAAAAAAAAAAAAAAAAAAAAAAAAAAAAAAQEBAQEBAQEBAQEBAQEBAQAAAAAAAAAAAAAAAAAAAAAAAAAAAAAAAAAAAAAAAAAAAAAAAAAAAAAAAAAAAAABAQEBAQEBAQEBAQEBAQEBAAAAAAAAAAAAAAAAAAAAAAAAAAAAAAAAAAAAAAAAAAAAAAAAAAAAAAAAAAAAAAABAQEBAQEBAQEBAQEBAQAAAAAAAAAAAAAAAAAAAAAAAAAAAAAAAAAAAAAAAAAAAAAAAAAAAAAAAAAAAAAAAAEBAQEBAQEBAQEBAQEBAAAAAAAAAAAAAAAAAAAAAAAAAAAAAAAAAAAAAAAAAAAAAAAAAAAAAAAAAAAAAAAAAAEBAQEBAQEBAQEBAQAAAAAAAAAAAAAAAAAAAAAAAAAAAAAAAAAAAAAAAAAAAAAAAAAAAAAAAAAAAAAAAAAAAQEBAQEBAQEBAQEBAAAAAAAAAAAAAAAAAAAAAAAAAAAAAAAAAAAAAAAAAAAAAAAAAAAAAAAAAAAAAAAAAAAAAAEBAQEBAQEBAAAAAAAAAAAAAAAAAAAAAAAAAAAAAAAAAAAAAAAAAAAAAAAAAAAAAAAAAAAAAAAAAAAAAAAAAAABAQEBAAAAAAAAAAAAAAAAAAAAAAAAAAAAAAAAAAAAAAAAAAAAAAAAAAAAAAAAAAAAAAAAAAAAAAAAAAAAAAAAAAAAAAAAAAAAAAAAAAAAAAAAAAAAAAAAAAAAAAAAAAAAAAAAAAAAAAAAAAAAAAAAAAAAAAAAAAAAAAAAAAAAAAAAAAAAAAAAAAAAAAAAAAAAAAAAAAAAAAAAAAAAAAAAAAAAAAAAAAAAAAAAAAAAAAAAAAAAAAAAAAAAAAAAAAAAAAAAAAAAAAAAAAAAAAAAAAAAAAAAAAAAAAAAAAAAAAAAAAAAAAAAAAAAAAAAAAAAAAAAAAAAAAAAAAAAAAAAAAAAAAAAAAAAAAAAAAAAAAAAAAAAAAAAAAAAAAAAAAAAAAAAAAAAAAAAAAAAAAAAAAAAAAAAAAAAAAAAAAAAAAAAAAAAAAAAAAAAAAAAAAAAAAAAAAAAAAAAAAAAAAAAAAAAAAAAAAAAAAAAAAAAAAAAAAAAAAAAAAAAAAAAAAAAAAAAAAAAAAAAAAAAAAAAAAAAAAA=",
          "dtype": "u1",
          "shape": "28, 62"
         }
        },
        {
         "colorbar": {
          "ticktext": [
           "Outside",
           "Inside"
          ],
          "tickvals": [
           0,
           1
          ],
          "title": {
           "text": "Neuron<br>Presence"
          }
         },
         "colorscale": [
          [
           0,
           "#440154"
          ],
          [
           0.1111111111111111,
           "#482878"
          ],
          [
           0.2222222222222222,
           "#3e4989"
          ],
          [
           0.3333333333333333,
           "#31688e"
          ],
          [
           0.4444444444444444,
           "#26828e"
          ],
          [
           0.5555555555555556,
           "#1f9e89"
          ],
          [
           0.6666666666666666,
           "#35b779"
          ],
          [
           0.7777777777777778,
           "#6ece58"
          ],
          [
           0.8888888888888888,
           "#b5de2b"
          ],
          [
           1,
           "#fde725"
          ]
         ],
         "hovertemplate": "<b>X:</b> %{x:.1f} µm<br><b>Y:</b> %{y:.1f} µm<br><b>Value:</b> %{z}<br><extra></extra>",
         "name": "Z-slice 19",
         "showscale": true,
         "type": "heatmap",
         "visible": false,
         "x": {
          "bdata": "2WzfzHb4LsDBCCyxg/QtwKmkeJWQ8CzAkUDFeZ3sK8B63BFequgqwGJ4XkK35CnAShSrJsTgKMAysPcK0dwnwBpMRO/d2CbAAuiQ0+rUJcDqg92399AkwNIfKpwEzSPAurt2gBHJIsCiV8NkHsUhwIvzD0krwSDA5h65WnB6H8C2VlIjinIdwIaO6+ujahvAVsaEtL1iGcAm/h1911oXwPY1t0XxUhXAyG1QDgtLE8CYpenWJEMRwNC6BT99dg7AcCo40LBmCsAQmmph5FYGwLAJnfIXRwLAoPKeB5du/L/o0QMq/k70v1Bi0ZjKXui/oEE2uzE/0L9gQTa7MT/QPzBi0ZjKXug/2NEDKv5O9D+Y8p4Hl278P6wJnfIXRwJADJpqYeRWBkBsKjjQsGYKQMy6BT99dg5AlqXp1iRDEUDGbVAOC0sTQPI1t0XxUhVAIv4dfddaF0BSxoS0vWIZQIKO6+ujahtAslZSI4pyHUDiHrlacHofQInzD0krwSBAoVfDZB7FIUC5u3aAEckiQNEfKpwEzSNA6YPdt/fQJEAB6JDT6tQlQBlMRO/d2CZAMbD3CtHcJ0BJFKsmxOAoQF94XkK35ClAd9wRXqroKkCPQMV5newrQKekeJWQ8CxAvwgssYP0LUDZbN/MdvguQA==",
          "dtype": "f8"
         },
         "y": {
          "bdata": "AAAAAAAAHMDRXkJ7Ce0ZwKG9hPYS2hfAchzHcRzHFcBCewntJbQTwBPaS2gvoRHAyHEcx3EcD8BpL6G9hPYKwArtJbSX0AbArKqqqqqqAsCY0F5Cewn9v9xLaC+hvfS/QI7jOI7j6L+ACe0ltJfQv3AJ7SW0l9A/OI7jOI7j6D/YS2gvob30P5jQXkJ7Cf0/qKqqqqqqAkAI7SW0l9AGQGgvob2E9gpAxHEcx3EcD0AS2ktoL6ERQEJ7Ce0ltBNAcBzHcRzHFUCgvYT2EtoXQNBeQnsJ7RlAAAAAAAAAHEA=",
          "dtype": "f8"
         },
         "z": {
          "bdata": "AAAAAAAAAAAAAAAAAAAAAAAAAAAAAAAAAAAAAAAAAAAAAAAAAAAAAAAAAAAAAAAAAAAAAAAAAAAAAAAAAAAAAAAAAAAAAAAAAAAAAAAAAAAAAAAAAAAAAAAAAAAAAAAAAAAAAAAAAAAAAAAAAAAAAAAAAAAAAAAAAAAAAAAAAAAAAAAAAAAAAAAAAAAAAAAAAAAAAAAAAAAAAAAAAAAAAAAAAAAAAAAAAAAAAAAAAAAAAAAAAAAAAAAAAAAAAAAAAAAAAAAAAAAAAAAAAAAAAAAAAAAAAAAAAAAAAAAAAAAAAAAAAAAAAAAAAAAAAAAAAAAAAAAAAAAAAAAAAAAAAAAAAAAAAAAAAAAAAAAAAAAAAAAAAAAAAAAAAAAAAAAAAAAAAAAAAAAAAAAAAAAAAAAAAAAAAAAAAAAAAAAAAAAAAAAAAAAAAAAAAAAAAAAAAAAAAAAAAAAAAAAAAAAAAAAAAAAAAAAAAAAAAAAAAAAAAAAAAAAAAAAAAAAAAAAAAAAAAAAAAAAAAAAAAAAAAAABAQEBAAAAAAAAAAAAAAAAAAAAAAAAAAAAAAAAAAAAAAAAAAAAAAAAAAAAAAAAAAAAAAAAAAAAAAAAAAABAQEBAQEBAQAAAAAAAAAAAAAAAAAAAAAAAAAAAAAAAAAAAAAAAAAAAAAAAAAAAAAAAAAAAAAAAAAAAAABAQEBAQEBAQEBAQEAAAAAAAAAAAAAAAAAAAAAAAAAAAAAAAAAAAAAAAAAAAAAAAAAAAAAAAAAAAAAAAAAAAEBAQEBAQEBAQEBAQAAAAAAAAAAAAAAAAAAAAAAAAAAAAAAAAAAAAAAAAAAAAAAAAAAAAAAAAAAAAAAAAABAQEBAQEBAQEBAQEBAQAAAAAAAAAAAAAAAAAAAAAAAAAAAAAAAAAAAAAAAAAAAAAAAAAAAAAAAAAAAAAAAAEBAQEBAQEBAQEBAQEBAAAAAAAAAAAAAAAAAAAAAAAAAAAAAAAAAAAAAAAAAAAAAAAAAAAAAAAAAAAAAAABAQEBAQEBAQEBAQEBAQEBAAAAAAAAAAAAAAAAAAAAAAAAAAAAAAAAAAAAAAAAAAAAAAAAAAAAAAAAAAAAAAEBAQEBAQEBAQEBAQEBAQEAAAAAAAAAAAAAAAAAAAAAAAAAAAAAAAAAAAAAAAAAAAAAAAAAAAAAAAAAAAAAAQEBAQEBAQEBAQEBAQEBAQAAAAAAAAAAAAAAAAAAAAAAAAAAAAAAAAAAAAAAAAAAAAAAAAAAAAAAAAAAAAABAQEBAQEBAQEBAQEBAQEBAAAAAAAAAAAAAAAAAAAAAAAAAAAAAAAAAAAAAAAAAAAAAAAAAAAAAAAAAAAAAAABAQEBAQEBAQEBAQEBAQAAAAAAAAAAAAAAAAAAAAAAAAAAAAAAAAAAAAAAAAAAAAAAAAAAAAAAAAAAAAAAAAEBAQEBAQEBAQEBAQEBAAAAAAAAAAAAAAAAAAAAAAAAAAAAAAAAAAAAAAAAAAAAAAAAAAAAAAAAAAAAAAAAAAEBAQEBAQEBAQEBAQAAAAAAAAAAAAAAAAAAAAAAAAAAAAAAAAAAAAAAAAAAAAAAAAAAAAAAAAAAAAAAAAAAAQEBAQEBAQEBAQEBAAAAAAAAAAAAAAAAAAAAAAAAAAAAAAAAAAAAAAAAAAAAAAAAAAAAAAAAAAAAAAAAAAAAAAEBAQEBAQEBAAAAAAAAAAAAAAAAAAAAAAAAAAAAAAAAAAAAAAAAAAAAAAAAAAAAAAAAAAAAAAAAAAAAAAAAAAABAQEBAAAAAAAAAAAAAAAAAAAAAAAAAAAAAAAAAAAAAAAAAAAAAAAAAAAAAAAAAAAAAAAAAAAAAAAAAAAAAAAAAAAAAAAAAAAAAAAAAAAAAAAAAAAAAAAAAAAAAAAAAAAAAAAAAAAAAAAAAAAAAAAAAAAAAAAAAAAAAAAAAAAAAAAAAAAAAAAAAAAAAAAAAAAAAAAAAAAAAAAAAAAAAAAAAAAAAAAAAAAAAAAAAAAAAAAAAAAAAAAAAAAAAAAAAAAAAAAAAAAAAAAAAAAAAAAAAAAAAAAAAAAAAAAAAAAAAAAAAAAAAAAAAAAAAAAAAAAAAAAAAAAAAAAAAAAAAAAAAAAAAAAAAAAAAAAAAAAAAAAAAAAAAAAAAAAAAAAAAAAAAAAAAAAAAAAAAAAAAAAAAAAAAAAAAAAAAAAAAAAAAAAAAAAAAAAAAAAAAAAAAAAAAAAAAAAAAAAAAAAAAAAAAAAAAAAAAAAAAAAAAAAAAAAAAAAAAAAAAAAAAAAAAAAAAAAAAAAAAAAAAAAAAAAAAAAAAAA=",
          "dtype": "u1",
          "shape": "28, 62"
         }
        },
        {
         "colorbar": {
          "ticktext": [
           "Outside",
           "Inside"
          ],
          "tickvals": [
           0,
           1
          ],
          "title": {
           "text": "Neuron<br>Presence"
          }
         },
         "colorscale": [
          [
           0,
           "#440154"
          ],
          [
           0.1111111111111111,
           "#482878"
          ],
          [
           0.2222222222222222,
           "#3e4989"
          ],
          [
           0.3333333333333333,
           "#31688e"
          ],
          [
           0.4444444444444444,
           "#26828e"
          ],
          [
           0.5555555555555556,
           "#1f9e89"
          ],
          [
           0.6666666666666666,
           "#35b779"
          ],
          [
           0.7777777777777778,
           "#6ece58"
          ],
          [
           0.8888888888888888,
           "#b5de2b"
          ],
          [
           1,
           "#fde725"
          ]
         ],
         "hovertemplate": "<b>X:</b> %{x:.1f} µm<br><b>Y:</b> %{y:.1f} µm<br><b>Value:</b> %{z}<br><extra></extra>",
         "name": "Z-slice 20",
         "showscale": true,
         "type": "heatmap",
         "visible": false,
         "x": {
          "bdata": "2WzfzHb4LsDBCCyxg/QtwKmkeJWQ8CzAkUDFeZ3sK8B63BFequgqwGJ4XkK35CnAShSrJsTgKMAysPcK0dwnwBpMRO/d2CbAAuiQ0+rUJcDqg92399AkwNIfKpwEzSPAurt2gBHJIsCiV8NkHsUhwIvzD0krwSDA5h65WnB6H8C2VlIjinIdwIaO6+ujahvAVsaEtL1iGcAm/h1911oXwPY1t0XxUhXAyG1QDgtLE8CYpenWJEMRwNC6BT99dg7AcCo40LBmCsAQmmph5FYGwLAJnfIXRwLAoPKeB5du/L/o0QMq/k70v1Bi0ZjKXui/oEE2uzE/0L9gQTa7MT/QPzBi0ZjKXug/2NEDKv5O9D+Y8p4Hl278P6wJnfIXRwJADJpqYeRWBkBsKjjQsGYKQMy6BT99dg5AlqXp1iRDEUDGbVAOC0sTQPI1t0XxUhVAIv4dfddaF0BSxoS0vWIZQIKO6+ujahtAslZSI4pyHUDiHrlacHofQInzD0krwSBAoVfDZB7FIUC5u3aAEckiQNEfKpwEzSNA6YPdt/fQJEAB6JDT6tQlQBlMRO/d2CZAMbD3CtHcJ0BJFKsmxOAoQF94XkK35ClAd9wRXqroKkCPQMV5newrQKekeJWQ8CxAvwgssYP0LUDZbN/MdvguQA==",
          "dtype": "f8"
         },
         "y": {
          "bdata": "AAAAAAAAHMDRXkJ7Ce0ZwKG9hPYS2hfAchzHcRzHFcBCewntJbQTwBPaS2gvoRHAyHEcx3EcD8BpL6G9hPYKwArtJbSX0AbArKqqqqqqAsCY0F5Cewn9v9xLaC+hvfS/QI7jOI7j6L+ACe0ltJfQv3AJ7SW0l9A/OI7jOI7j6D/YS2gvob30P5jQXkJ7Cf0/qKqqqqqqAkAI7SW0l9AGQGgvob2E9gpAxHEcx3EcD0AS2ktoL6ERQEJ7Ce0ltBNAcBzHcRzHFUCgvYT2EtoXQNBeQnsJ7RlAAAAAAAAAHEA=",
          "dtype": "f8"
         },
         "z": {
          "bdata": "AAAAAAAAAAAAAAAAAAAAAAAAAAAAAAAAAAAAAAAAAAAAAAAAAAAAAAAAAAAAAAAAAAAAAAAAAAAAAAAAAAAAAAAAAAAAAAAAAAAAAAAAAAAAAAAAAAAAAAAAAAAAAAAAAAAAAAAAAAAAAAAAAAAAAAAAAAAAAAAAAAAAAAAAAAAAAAAAAAAAAAAAAAAAAAAAAAAAAAAAAAAAAAAAAAAAAAAAAAAAAAAAAAAAAAAAAAAAAAAAAAAAAAAAAAAAAAAAAAAAAAAAAAAAAAAAAAAAAAAAAAAAAAAAAAAAAAAAAAAAAAAAAAAAAAAAAAAAAAAAAAAAAAAAAAAAAAAAAAAAAAAAAAAAAAAAAAAAAAAAAAAAAAAAAAAAAAAAAAAAAAAAAAAAAAAAAAAAAAAAAAAAAAAAAAAAAAAAAAAAAAAAAAAAAAAAAAAAAAAAAAAAAAAAAAAAAAAAAAAAAAAAAAAAAAAAAAAAAAAAAAAAAAAAAAAAAAAAAAAAAAAAAAAAAAAAAAAAAAAAAAAAAAAAAAAAAAABAQEBAAAAAAAAAAAAAAAAAAAAAAAAAAAAAAAAAAAAAAAAAAAAAAAAAAAAAAAAAAAAAAAAAAAAAAAAAAABAQEBAQEBAQAAAAAAAAAAAAAAAAAAAAAAAAAAAAAAAAAAAAAAAAAAAAAAAAAAAAAAAAAAAAAAAAAAAAABAQEBAQEBAQEBAQEAAAAAAAAAAAAAAAAAAAAAAAAAAAAAAAAAAAAAAAAAAAAAAAAAAAAAAAAAAAAAAAAAAAEBAQEBAQEBAQEBAQAAAAAAAAAAAAAAAAAAAAAAAAAAAAAAAAAAAAAAAAAAAAAAAAAAAAAAAAAAAAAAAAABAQEBAQEBAQEBAQEBAQAAAAAAAAAAAAAAAAAAAAAAAAAAAAAAAAAAAAAAAAAAAAAAAAAAAAAAAAAAAAAAAAEBAQEBAQEBAQEBAQEBAAAAAAAAAAAAAAAAAAAAAAAAAAAAAAAAAAAAAAAAAAAAAAAAAAAAAAAAAAAAAAABAQEBAQEBAQEBAQEBAQEBAAAAAAAAAAAAAAAAAAAAAAAAAAAAAAAAAAAAAAAAAAAAAAAAAAAAAAAAAAAAAAEBAQEBAQEBAQEBAQEBAQEAAAAAAAAAAAAAAAAAAAAAAAAAAAAAAAAAAAAAAAAAAAAAAAAAAAAAAAAAAAAAAQEBAQEBAQEBAQEBAQEBAQAAAAAAAAAAAAAAAAAAAAAAAAAAAAAAAAAAAAAAAAAAAAAAAAAAAAAAAAAAAAABAQEBAQEBAQEBAQEBAQEBAAAAAAAAAAAAAAAAAAAAAAAAAAAAAAAAAAAAAAAAAAAAAAAAAAAAAAAAAAAAAAABAQEBAQEBAQEBAQEBAQAAAAAAAAAAAAAAAAAAAAAAAAAAAAAAAAAAAAAAAAAAAAAAAAAAAAAAAAAAAAAAAAEBAQEBAQEBAQEBAQEBAAAAAAAAAAAAAAAAAAAAAAAAAAAAAAAAAAAAAAAAAAAAAAAAAAAAAAAAAAAAAAAAAAEBAQEBAQEBAQEBAQAAAAAAAAAAAAAAAAAAAAAAAAAAAAAAAAAAAAAAAAAAAAAAAAAAAAAAAAAAAAAAAAAAAQEBAQEBAQEBAQEBAAAAAAAAAAAAAAAAAAAAAAAAAAAAAAAAAAAAAAAAAAAAAAAAAAAAAAAAAAAAAAAAAAAAAAEBAQEBAQEBAAAAAAAAAAAAAAAAAAAAAAAAAAAAAAAAAAAAAAAAAAAAAAAAAAAAAAAAAAAAAAAAAAAAAAAAAAABAQEBAAAAAAAAAAAAAAAAAAAAAAAAAAAAAAAAAAAAAAAAAAAAAAAAAAAAAAAAAAAAAAAAAAAAAAAAAAAAAAAAAAAAAAAAAAAAAAAAAAAAAAAAAAAAAAAAAAAAAAAAAAAAAAAAAAAAAAAAAAAAAAAAAAAAAAAAAAAAAAAAAAAAAAAAAAAAAAAAAAAAAAAAAAAAAAAAAAAAAAAAAAAAAAAAAAAAAAAAAAAAAAAAAAAAAAAAAAAAAAAAAAAAAAAAAAAAAAAAAAAAAAAAAAAAAAAAAAAAAAAAAAAAAAAAAAAAAAAAAAAAAAAAAAAAAAAAAAAAAAAAAAAAAAAAAAAAAAAAAAAAAAAAAAAAAAAAAAAAAAAAAAAAAAAAAAAAAAAAAAAAAAAAAAAAAAAAAAAAAAAAAAAAAAAAAAAAAAAAAAAAAAAAAAAAAAAAAAAAAAAAAAAAAAAAAAAAAAAAAAAAAAAAAAAAAAAAAAAAAAAAAAAAAAAAAAAAAAAAAAAAAAAAAAAAAAAAAAAAAAAAAAAAAAAAAAAAAAA=",
          "dtype": "u1",
          "shape": "28, 62"
         }
        },
        {
         "colorbar": {
          "ticktext": [
           "Outside",
           "Inside"
          ],
          "tickvals": [
           0,
           1
          ],
          "title": {
           "text": "Neuron<br>Presence"
          }
         },
         "colorscale": [
          [
           0,
           "#440154"
          ],
          [
           0.1111111111111111,
           "#482878"
          ],
          [
           0.2222222222222222,
           "#3e4989"
          ],
          [
           0.3333333333333333,
           "#31688e"
          ],
          [
           0.4444444444444444,
           "#26828e"
          ],
          [
           0.5555555555555556,
           "#1f9e89"
          ],
          [
           0.6666666666666666,
           "#35b779"
          ],
          [
           0.7777777777777778,
           "#6ece58"
          ],
          [
           0.8888888888888888,
           "#b5de2b"
          ],
          [
           1,
           "#fde725"
          ]
         ],
         "hovertemplate": "<b>X:</b> %{x:.1f} µm<br><b>Y:</b> %{y:.1f} µm<br><b>Value:</b> %{z}<br><extra></extra>",
         "name": "Z-slice 21",
         "showscale": true,
         "type": "heatmap",
         "visible": false,
         "x": {
          "bdata": "2WzfzHb4LsDBCCyxg/QtwKmkeJWQ8CzAkUDFeZ3sK8B63BFequgqwGJ4XkK35CnAShSrJsTgKMAysPcK0dwnwBpMRO/d2CbAAuiQ0+rUJcDqg92399AkwNIfKpwEzSPAurt2gBHJIsCiV8NkHsUhwIvzD0krwSDA5h65WnB6H8C2VlIjinIdwIaO6+ujahvAVsaEtL1iGcAm/h1911oXwPY1t0XxUhXAyG1QDgtLE8CYpenWJEMRwNC6BT99dg7AcCo40LBmCsAQmmph5FYGwLAJnfIXRwLAoPKeB5du/L/o0QMq/k70v1Bi0ZjKXui/oEE2uzE/0L9gQTa7MT/QPzBi0ZjKXug/2NEDKv5O9D+Y8p4Hl278P6wJnfIXRwJADJpqYeRWBkBsKjjQsGYKQMy6BT99dg5AlqXp1iRDEUDGbVAOC0sTQPI1t0XxUhVAIv4dfddaF0BSxoS0vWIZQIKO6+ujahtAslZSI4pyHUDiHrlacHofQInzD0krwSBAoVfDZB7FIUC5u3aAEckiQNEfKpwEzSNA6YPdt/fQJEAB6JDT6tQlQBlMRO/d2CZAMbD3CtHcJ0BJFKsmxOAoQF94XkK35ClAd9wRXqroKkCPQMV5newrQKekeJWQ8CxAvwgssYP0LUDZbN/MdvguQA==",
          "dtype": "f8"
         },
         "y": {
          "bdata": "AAAAAAAAHMDRXkJ7Ce0ZwKG9hPYS2hfAchzHcRzHFcBCewntJbQTwBPaS2gvoRHAyHEcx3EcD8BpL6G9hPYKwArtJbSX0AbArKqqqqqqAsCY0F5Cewn9v9xLaC+hvfS/QI7jOI7j6L+ACe0ltJfQv3AJ7SW0l9A/OI7jOI7j6D/YS2gvob30P5jQXkJ7Cf0/qKqqqqqqAkAI7SW0l9AGQGgvob2E9gpAxHEcx3EcD0AS2ktoL6ERQEJ7Ce0ltBNAcBzHcRzHFUCgvYT2EtoXQNBeQnsJ7RlAAAAAAAAAHEA=",
          "dtype": "f8"
         },
         "z": {
          "bdata": "AAAAAAAAAAAAAAAAAAAAAAAAAAAAAAAAAAAAAAAAAAAAAAAAAAAAAAAAAAAAAAAAAAAAAAAAAAAAAAAAAAAAAAAAAAAAAAAAAAAAAAAAAAAAAAAAAAAAAAAAAAAAAAAAAAAAAAAAAAAAAAAAAAAAAAAAAAAAAAAAAAAAAAAAAAAAAAAAAAAAAAAAAAAAAAAAAAAAAAAAAAAAAAAAAAAAAAAAAAAAAAAAAAAAAAAAAAAAAAAAAAAAAAAAAAAAAAAAAAAAAAAAAAAAAAAAAAAAAAAAAAAAAAAAAAAAAAAAAAAAAAAAAAAAAAAAAAAAAAAAAAAAAAAAAAAAAAAAAAAAAAAAAAAAAAAAAAAAAAAAAAAAAAAAAAAAAAAAAAAAAAAAAAAAAAAAAAAAAAAAAAAAAAAAAAAAAAAAAAAAAAAAAAAAAAAAAAAAAAAAAAAAAAAAAAAAAAAAAAAAAAAAAAAAAAAAAAAAAAAAAAAAAAAAAAAAAAAAAAAAAAAAAAAAAAAAAAAAAAAAAAAAAAAAAAAAAAABAQEBAAAAAAAAAAAAAAAAAAAAAAAAAAAAAAAAAAAAAAAAAAAAAAAAAAAAAAAAAAAAAAAAAAAAAAAAAAABAQEBAQEBAQAAAAAAAAAAAAAAAAAAAAAAAAAAAAAAAAAAAAAAAAAAAAAAAAAAAAAAAAAAAAAAAAAAAAABAQEBAQEBAQEBAQEAAAAAAAAAAAAAAAAAAAAAAAAAAAAAAAAAAAAAAAAAAAAAAAAAAAAAAAAAAAAAAAAAAAEBAQEBAQEBAQEBAQAAAAAAAAAAAAAAAAAAAAAAAAAAAAAAAAAAAAAAAAAAAAAAAAAAAAAAAAAAAAAAAAABAQEBAQEBAQEBAQEBAQAAAAAAAAAAAAAAAAAAAAAAAAAAAAAAAAAAAAAAAAAAAAAAAAAAAAAAAAAAAAAAAAEBAQEBAQEBAQEBAQEBAAAAAAAAAAAAAAAAAAAAAAAAAAAAAAAAAAAAAAAAAAAAAAAAAAAAAAAAAAAAAAABAQEBAQEBAQEBAQEBAQEBAAAAAAAAAAAAAAAAAAAAAAAAAAAAAAAAAAAAAAAAAAAAAAAAAAAAAAAAAAAAAAEBAQEBAQEBAQEBAQEBAQEAAAAAAAAAAAAAAAAAAAAAAAAAAAAAAAAAAAAAAAAAAAAAAAAAAAAAAAAAAAAAAQEBAQEBAQEBAQEBAQEBAQAAAAAAAAAAAAAAAAAAAAAAAAAAAAAAAAAAAAAAAAAAAAAAAAAAAAAAAAAAAAABAQEBAQEBAQEBAQEBAQEBAAAAAAAAAAAAAAAAAAAAAAAAAAAAAAAAAAAAAAAAAAAAAAAAAAAAAAAAAAAAAAABAQEBAQEBAQEBAQEBAQAAAAAAAAAAAAAAAAAAAAAAAAAAAAAAAAAAAAAAAAAAAAAAAAAAAAAAAAAAAAAAAAEBAQEBAQEBAQEBAQEBAAAAAAAAAAAAAAAAAAAAAAAAAAAAAAAAAAAAAAAAAAAAAAAAAAAAAAAAAAAAAAAAAAEBAQEBAQEBAQEBAQAAAAAAAAAAAAAAAAAAAAAAAAAAAAAAAAAAAAAAAAAAAAAAAAAAAAAAAAAAAAAAAAAAAQEBAQEBAQEBAQEBAAAAAAAAAAAAAAAAAAAAAAAAAAAAAAAAAAAAAAAAAAAAAAAAAAAAAAAAAAAAAAAAAAAAAAEBAQEBAQEBAAAAAAAAAAAAAAAAAAAAAAAAAAAAAAAAAAAAAAAAAAAAAAAAAAAAAAAAAAAAAAAAAAAAAAAAAAABAQEBAAAAAAAAAAAAAAAAAAAAAAAAAAAAAAAAAAAAAAAAAAAAAAAAAAAAAAAAAAAAAAAAAAAAAAAAAAAAAAAAAAAAAAAAAAAAAAAAAAAAAAAAAAAAAAAAAAAAAAAAAAAAAAAAAAAAAAAAAAAAAAAAAAAAAAAAAAAAAAAAAAAAAAAAAAAAAAAAAAAAAAAAAAAAAAAAAAAAAAAAAAAAAAAAAAAAAAAAAAAAAAAAAAAAAAAAAAAAAAAAAAAAAAAAAAAAAAAAAAAAAAAAAAAAAAAAAAAAAAAAAAAAAAAAAAAAAAAAAAAAAAAAAAAAAAAAAAAAAAAAAAAAAAAAAAAAAAAAAAAAAAAAAAAAAAAAAAAAAAAAAAAAAAAAAAAAAAAAAAAAAAAAAAAAAAAAAAAAAAAAAAAAAAAAAAAAAAAAAAAAAAAAAAAAAAAAAAAAAAAAAAAAAAAAAAAAAAAAAAAAAAAAAAAAAAAAAAAAAAAAAAAAAAAAAAAAAAAAAAAAAAAAAAAAAAAAAAAAAAAAAAAAAAAAAAAAAAA=",
          "dtype": "u1",
          "shape": "28, 62"
         }
        },
        {
         "colorbar": {
          "ticktext": [
           "Outside",
           "Inside"
          ],
          "tickvals": [
           0,
           1
          ],
          "title": {
           "text": "Neuron<br>Presence"
          }
         },
         "colorscale": [
          [
           0,
           "#440154"
          ],
          [
           0.1111111111111111,
           "#482878"
          ],
          [
           0.2222222222222222,
           "#3e4989"
          ],
          [
           0.3333333333333333,
           "#31688e"
          ],
          [
           0.4444444444444444,
           "#26828e"
          ],
          [
           0.5555555555555556,
           "#1f9e89"
          ],
          [
           0.6666666666666666,
           "#35b779"
          ],
          [
           0.7777777777777778,
           "#6ece58"
          ],
          [
           0.8888888888888888,
           "#b5de2b"
          ],
          [
           1,
           "#fde725"
          ]
         ],
         "hovertemplate": "<b>X:</b> %{x:.1f} µm<br><b>Y:</b> %{y:.1f} µm<br><b>Value:</b> %{z}<br><extra></extra>",
         "name": "Z-slice 22",
         "showscale": true,
         "type": "heatmap",
         "visible": false,
         "x": {
          "bdata": "2WzfzHb4LsDBCCyxg/QtwKmkeJWQ8CzAkUDFeZ3sK8B63BFequgqwGJ4XkK35CnAShSrJsTgKMAysPcK0dwnwBpMRO/d2CbAAuiQ0+rUJcDqg92399AkwNIfKpwEzSPAurt2gBHJIsCiV8NkHsUhwIvzD0krwSDA5h65WnB6H8C2VlIjinIdwIaO6+ujahvAVsaEtL1iGcAm/h1911oXwPY1t0XxUhXAyG1QDgtLE8CYpenWJEMRwNC6BT99dg7AcCo40LBmCsAQmmph5FYGwLAJnfIXRwLAoPKeB5du/L/o0QMq/k70v1Bi0ZjKXui/oEE2uzE/0L9gQTa7MT/QPzBi0ZjKXug/2NEDKv5O9D+Y8p4Hl278P6wJnfIXRwJADJpqYeRWBkBsKjjQsGYKQMy6BT99dg5AlqXp1iRDEUDGbVAOC0sTQPI1t0XxUhVAIv4dfddaF0BSxoS0vWIZQIKO6+ujahtAslZSI4pyHUDiHrlacHofQInzD0krwSBAoVfDZB7FIUC5u3aAEckiQNEfKpwEzSNA6YPdt/fQJEAB6JDT6tQlQBlMRO/d2CZAMbD3CtHcJ0BJFKsmxOAoQF94XkK35ClAd9wRXqroKkCPQMV5newrQKekeJWQ8CxAvwgssYP0LUDZbN/MdvguQA==",
          "dtype": "f8"
         },
         "y": {
          "bdata": "AAAAAAAAHMDRXkJ7Ce0ZwKG9hPYS2hfAchzHcRzHFcBCewntJbQTwBPaS2gvoRHAyHEcx3EcD8BpL6G9hPYKwArtJbSX0AbArKqqqqqqAsCY0F5Cewn9v9xLaC+hvfS/QI7jOI7j6L+ACe0ltJfQv3AJ7SW0l9A/OI7jOI7j6D/YS2gvob30P5jQXkJ7Cf0/qKqqqqqqAkAI7SW0l9AGQGgvob2E9gpAxHEcx3EcD0AS2ktoL6ERQEJ7Ce0ltBNAcBzHcRzHFUCgvYT2EtoXQNBeQnsJ7RlAAAAAAAAAHEA=",
          "dtype": "f8"
         },
         "z": {
          "bdata": "AAAAAAAAAAAAAAAAAAAAAAAAAAAAAAAAAAAAAAAAAAAAAAAAAAAAAAAAAAAAAAAAAAAAAAAAAAAAAAAAAAAAAAAAAAAAAAAAAAAAAAAAAAAAAAAAAAAAAAAAAAAAAAAAAAAAAAAAAAAAAAAAAAAAAAAAAAAAAAAAAAAAAAAAAAAAAAAAAAAAAAAAAAAAAAAAAAAAAAAAAAAAAAAAAAAAAAAAAAAAAAAAAAAAAAAAAAAAAAAAAAAAAAAAAAAAAAAAAAAAAAAAAAAAAAAAAAAAAAAAAAAAAAAAAAAAAAAAAAAAAAAAAAAAAAAAAAAAAAAAAAAAAAAAAAAAAAAAAAAAAAAAAAAAAAAAAAAAAAAAAAAAAAAAAAAAAAAAAAAAAAAAAAAAAAAAAAAAAAAAAAAAAAAAAAAAAAAAAAAAAAAAAAAAAAAAAAAAAAAAAAAAAAAAAAAAAAAAAAAAAAAAAAAAAAAAAAAAAAAAAAAAAAAAAAAAAAAAAAAAAAAAAAAAAAAAAAAAAAAAAAAAAAAAAAAAAAABAQEBAAAAAAAAAAAAAAAAAAAAAAAAAAAAAAAAAAAAAAAAAAAAAAAAAAAAAAAAAAAAAAAAAAAAAAAAAAABAQEBAQEBAQAAAAAAAAAAAAAAAAAAAAAAAAAAAAAAAAAAAAAAAAAAAAAAAAAAAAAAAAAAAAAAAAAAAAABAQEBAQEBAQEBAQEAAAAAAAAAAAAAAAAAAAAAAAAAAAAAAAAAAAAAAAAAAAAAAAAAAAAAAAAAAAAAAAAAAAEBAQEBAQEBAQEBAQAAAAAAAAAAAAAAAAAAAAAAAAAAAAAAAAAAAAAAAAAAAAAAAAAAAAAAAAAAAAAAAAABAQEBAQEBAQEBAQEBAQAAAAAAAAAAAAAAAAAAAAAAAAAAAAAAAAAAAAAAAAAAAAAAAAAAAAAAAAAAAAAAAAEBAQEBAQEBAQEBAQEBAAAAAAAAAAAAAAAAAAAAAAAAAAAAAAAAAAAAAAAAAAAAAAAAAAAAAAAAAAAAAAABAQEBAQEBAQEBAQEBAQEBAAAAAAAAAAAAAAAAAAAAAAAAAAAAAAAAAAAAAAAAAAAAAAAAAAAAAAAAAAAAAAEBAQEBAQEBAQEBAQEBAQEAAAAAAAAAAAAAAAAAAAAAAAAAAAAAAAAAAAAAAAAAAAAAAAAAAAAAAAAAAAAAAQEBAQEBAQEBAQEBAQEBAQAAAAAAAAAAAAAAAAAAAAAAAAAAAAAAAAAAAAAAAAAAAAAAAAAAAAAAAAAAAAABAQEBAQEBAQEBAQEBAQEBAAAAAAAAAAAAAAAAAAAAAAAAAAAAAAAAAAAAAAAAAAAAAAAAAAAAAAAAAAAAAAABAQEBAQEBAQEBAQEBAQAAAAAAAAAAAAAAAAAAAAAAAAAAAAAAAAAAAAAAAAAAAAAAAAAAAAAAAAAAAAAAAAEBAQEBAQEBAQEBAQEBAAAAAAAAAAAAAAAAAAAAAAAAAAAAAAAAAAAAAAAAAAAAAAAAAAAAAAAAAAAAAAAAAAEBAQEBAQEBAQEBAQAAAAAAAAAAAAAAAAAAAAAAAAAAAAAAAAAAAAAAAAAAAAAAAAAAAAAAAAAAAAAAAAAAAQEBAQEBAQEBAQEBAAAAAAAAAAAAAAAAAAAAAAAAAAAAAAAAAAAAAAAAAAAAAAAAAAAAAAAAAAAAAAAAAAAAAAEBAQEBAQEBAAAAAAAAAAAAAAAAAAAAAAAAAAAAAAAAAAAAAAAAAAAAAAAAAAAAAAAAAAAAAAAAAAAAAAAAAAABAQEBAAAAAAAAAAAAAAAAAAAAAAAAAAAAAAAAAAAAAAAAAAAAAAAAAAAAAAAAAAAAAAAAAAAAAAAAAAAAAAAAAAAAAAAAAAAAAAAAAAAAAAAAAAAAAAAAAAAAAAAAAAAAAAAAAAAAAAAAAAAAAAAAAAAAAAAAAAAAAAAAAAAAAAAAAAAAAAAAAAAAAAAAAAAAAAAAAAAAAAAAAAAAAAAAAAAAAAAAAAAAAAAAAAAAAAAAAAAAAAAAAAAAAAAAAAAAAAAAAAAAAAAAAAAAAAAAAAAAAAAAAAAAAAAAAAAAAAAAAAAAAAAAAAAAAAAAAAAAAAAAAAAAAAAAAAAAAAAAAAAAAAAAAAAAAAAAAAAAAAAAAAAAAAAAAAAAAAAAAAAAAAAAAAAAAAAAAAAAAAAAAAAAAAAAAAAAAAAAAAAAAAAAAAAAAAAAAAAAAAAAAAAAAAAAAAAAAAAAAAAAAAAAAAAAAAAAAAAAAAAAAAAAAAAAAAAAAAAAAAAAAAAAAAAAAAAAAAAAAAAAAAAAAAAAAAAAAAA=",
          "dtype": "u1",
          "shape": "28, 62"
         }
        },
        {
         "colorbar": {
          "ticktext": [
           "Outside",
           "Inside"
          ],
          "tickvals": [
           0,
           1
          ],
          "title": {
           "text": "Neuron<br>Presence"
          }
         },
         "colorscale": [
          [
           0,
           "#440154"
          ],
          [
           0.1111111111111111,
           "#482878"
          ],
          [
           0.2222222222222222,
           "#3e4989"
          ],
          [
           0.3333333333333333,
           "#31688e"
          ],
          [
           0.4444444444444444,
           "#26828e"
          ],
          [
           0.5555555555555556,
           "#1f9e89"
          ],
          [
           0.6666666666666666,
           "#35b779"
          ],
          [
           0.7777777777777778,
           "#6ece58"
          ],
          [
           0.8888888888888888,
           "#b5de2b"
          ],
          [
           1,
           "#fde725"
          ]
         ],
         "hovertemplate": "<b>X:</b> %{x:.1f} µm<br><b>Y:</b> %{y:.1f} µm<br><b>Value:</b> %{z}<br><extra></extra>",
         "name": "Z-slice 23",
         "showscale": true,
         "type": "heatmap",
         "visible": false,
         "x": {
          "bdata": "2WzfzHb4LsDBCCyxg/QtwKmkeJWQ8CzAkUDFeZ3sK8B63BFequgqwGJ4XkK35CnAShSrJsTgKMAysPcK0dwnwBpMRO/d2CbAAuiQ0+rUJcDqg92399AkwNIfKpwEzSPAurt2gBHJIsCiV8NkHsUhwIvzD0krwSDA5h65WnB6H8C2VlIjinIdwIaO6+ujahvAVsaEtL1iGcAm/h1911oXwPY1t0XxUhXAyG1QDgtLE8CYpenWJEMRwNC6BT99dg7AcCo40LBmCsAQmmph5FYGwLAJnfIXRwLAoPKeB5du/L/o0QMq/k70v1Bi0ZjKXui/oEE2uzE/0L9gQTa7MT/QPzBi0ZjKXug/2NEDKv5O9D+Y8p4Hl278P6wJnfIXRwJADJpqYeRWBkBsKjjQsGYKQMy6BT99dg5AlqXp1iRDEUDGbVAOC0sTQPI1t0XxUhVAIv4dfddaF0BSxoS0vWIZQIKO6+ujahtAslZSI4pyHUDiHrlacHofQInzD0krwSBAoVfDZB7FIUC5u3aAEckiQNEfKpwEzSNA6YPdt/fQJEAB6JDT6tQlQBlMRO/d2CZAMbD3CtHcJ0BJFKsmxOAoQF94XkK35ClAd9wRXqroKkCPQMV5newrQKekeJWQ8CxAvwgssYP0LUDZbN/MdvguQA==",
          "dtype": "f8"
         },
         "y": {
          "bdata": "AAAAAAAAHMDRXkJ7Ce0ZwKG9hPYS2hfAchzHcRzHFcBCewntJbQTwBPaS2gvoRHAyHEcx3EcD8BpL6G9hPYKwArtJbSX0AbArKqqqqqqAsCY0F5Cewn9v9xLaC+hvfS/QI7jOI7j6L+ACe0ltJfQv3AJ7SW0l9A/OI7jOI7j6D/YS2gvob30P5jQXkJ7Cf0/qKqqqqqqAkAI7SW0l9AGQGgvob2E9gpAxHEcx3EcD0AS2ktoL6ERQEJ7Ce0ltBNAcBzHcRzHFUCgvYT2EtoXQNBeQnsJ7RlAAAAAAAAAHEA=",
          "dtype": "f8"
         },
         "z": {
          "bdata": "AAAAAAAAAAAAAAAAAAAAAAAAAAAAAAAAAAAAAAAAAAAAAAAAAAAAAAAAAAAAAAAAAAAAAAAAAAAAAAAAAAAAAAAAAAAAAAAAAAAAAAAAAAAAAAAAAAAAAAAAAAAAAAAAAAAAAAAAAAAAAAAAAAAAAAAAAAAAAAAAAAAAAAAAAAAAAAAAAAAAAAAAAAAAAAAAAAAAAAAAAAAAAAAAAAAAAAAAAAAAAAAAAAAAAAAAAAAAAAAAAAAAAAAAAAAAAAAAAAAAAAAAAAAAAAAAAAAAAAAAAAAAAAAAAAAAAAAAAAAAAAAAAAAAAAAAAAAAAAAAAAAAAAAAAAAAAAAAAAAAAAAAAAAAAAAAAAAAAAAAAAAAAAAAAAAAAAAAAAAAAAAAAAAAAAAAAAAAAAAAAAAAAAAAAAAAAAAAAAAAAAAAAAAAAAAAAAAAAAAAAAAAAAAAAAAAAAAAAAAAAAAAAAAAAAAAAAAAAAAAAAAAAAAAAAAAAAAAAAAAAAAAAAAAAAAAAAAAAAAAAAAAAAAAAAAAAAABAQEBAAAAAAAAAAAAAAAAAAAAAAAAAAAAAAAAAAAAAAAAAAAAAAAAAAAAAAAAAAAAAAAAAAAAAAAAAAABAQEBAQEBAQAAAAAAAAAAAAAAAAAAAAAAAAAAAAAAAAAAAAAAAAAAAAAAAAAAAAAAAAAAAAAAAAAAAAABAQEBAQEBAQEBAQEAAAAAAAAAAAAAAAAAAAAAAAAAAAAAAAAAAAAAAAAAAAAAAAAAAAAAAAAAAAAAAAAAAAEBAQEBAQEBAQEBAQAAAAAAAAAAAAAAAAAAAAAAAAAAAAAAAAAAAAAAAAAAAAAAAAAAAAAAAAAAAAAAAAABAQEBAQEBAQEBAQEBAQAAAAAAAAAAAAAAAAAAAAAAAAAAAAAAAAAAAAAAAAAAAAAAAAAAAAAAAAAAAAAAAAEBAQEBAQEBAQEBAQEBAAAAAAAAAAAAAAAAAAAAAAAAAAAAAAAAAAAAAAAAAAAAAAAAAAAAAAAAAAAAAAABAQEBAQEBAQEBAQEBAQEBAAAAAAAAAAAAAAAAAAAAAAAAAAAAAAAAAAAAAAAAAAAAAAAAAAAAAAAAAAAAAAEBAQEBAQEBAQEBAQEBAQEAAAAAAAAAAAAAAAAAAAAAAAAAAAAAAAAAAAAAAAAAAAAAAAAAAAAAAAAAAAAAAQEBAQEBAQEBAQEBAQEBAQAAAAAAAAAAAAAAAAAAAAAAAAAAAAAAAAAAAAAAAAAAAAAAAAAAAAAAAAAAAAABAQEBAQEBAQEBAQEBAQEBAAAAAAAAAAAAAAAAAAAAAAAAAAAAAAAAAAAAAAAAAAAAAAAAAAAAAAAAAAAAAAABAQEBAQEBAQEBAQEBAQAAAAAAAAAAAAAAAAAAAAAAAAAAAAAAAAAAAAAAAAAAAAAAAAAAAAAAAAAAAAAAAAEBAQEBAQEBAQEBAQEBAAAAAAAAAAAAAAAAAAAAAAAAAAAAAAAAAAAAAAAAAAAAAAAAAAAAAAAAAAAAAAAAAAEBAQEBAQEBAQEBAQAAAAAAAAAAAAAAAAAAAAAAAAAAAAAAAAAAAAAAAAAAAAAAAAAAAAAAAAAAAAAAAAAAAQEBAQEBAQEBAQEBAAAAAAAAAAAAAAAAAAAAAAAAAAAAAAAAAAAAAAAAAAAAAAAAAAAAAAAAAAAAAAAAAAAAAAEBAQEBAQEBAAAAAAAAAAAAAAAAAAAAAAAAAAAAAAAAAAAAAAAAAAAAAAAAAAAAAAAAAAAAAAAAAAAAAAAAAAABAQEBAAAAAAAAAAAAAAAAAAAAAAAAAAAAAAAAAAAAAAAAAAAAAAAAAAAAAAAAAAAAAAAAAAAAAAAAAAAAAAAAAAAAAAAAAAAAAAAAAAAAAAAAAAAAAAAAAAAAAAAAAAAAAAAAAAAAAAAAAAAAAAAAAAAAAAAAAAAAAAAAAAAAAAAAAAAAAAAAAAAAAAAAAAAAAAAAAAAAAAAAAAAAAAAAAAAAAAAAAAAAAAAAAAAAAAAAAAAAAAAAAAAAAAAAAAAAAAAAAAAAAAAAAAAAAAAAAAAAAAAAAAAAAAAAAAAAAAAAAAAAAAAAAAAAAAAAAAAAAAAAAAAAAAAAAAAAAAAAAAAAAAAAAAAAAAAAAAAAAAAAAAAAAAAAAAAAAAAAAAAAAAAAAAAAAAAAAAAAAAAAAAAAAAAAAAAAAAAAAAAAAAAAAAAAAAAAAAAAAAAAAAAAAAAAAAAAAAAAAAAAAAAAAAAAAAAAAAAAAAAAAAAAAAAAAAAAAAAAAAAAAAAAAAAAAAAAAAAAAAAAAAAAAAAAAAAAAAA=",
          "dtype": "u1",
          "shape": "28, 62"
         }
        },
        {
         "colorbar": {
          "ticktext": [
           "Outside",
           "Inside"
          ],
          "tickvals": [
           0,
           1
          ],
          "title": {
           "text": "Neuron<br>Presence"
          }
         },
         "colorscale": [
          [
           0,
           "#440154"
          ],
          [
           0.1111111111111111,
           "#482878"
          ],
          [
           0.2222222222222222,
           "#3e4989"
          ],
          [
           0.3333333333333333,
           "#31688e"
          ],
          [
           0.4444444444444444,
           "#26828e"
          ],
          [
           0.5555555555555556,
           "#1f9e89"
          ],
          [
           0.6666666666666666,
           "#35b779"
          ],
          [
           0.7777777777777778,
           "#6ece58"
          ],
          [
           0.8888888888888888,
           "#b5de2b"
          ],
          [
           1,
           "#fde725"
          ]
         ],
         "hovertemplate": "<b>X:</b> %{x:.1f} µm<br><b>Y:</b> %{y:.1f} µm<br><b>Value:</b> %{z}<br><extra></extra>",
         "name": "Z-slice 24",
         "showscale": true,
         "type": "heatmap",
         "visible": false,
         "x": {
          "bdata": "2WzfzHb4LsDBCCyxg/QtwKmkeJWQ8CzAkUDFeZ3sK8B63BFequgqwGJ4XkK35CnAShSrJsTgKMAysPcK0dwnwBpMRO/d2CbAAuiQ0+rUJcDqg92399AkwNIfKpwEzSPAurt2gBHJIsCiV8NkHsUhwIvzD0krwSDA5h65WnB6H8C2VlIjinIdwIaO6+ujahvAVsaEtL1iGcAm/h1911oXwPY1t0XxUhXAyG1QDgtLE8CYpenWJEMRwNC6BT99dg7AcCo40LBmCsAQmmph5FYGwLAJnfIXRwLAoPKeB5du/L/o0QMq/k70v1Bi0ZjKXui/oEE2uzE/0L9gQTa7MT/QPzBi0ZjKXug/2NEDKv5O9D+Y8p4Hl278P6wJnfIXRwJADJpqYeRWBkBsKjjQsGYKQMy6BT99dg5AlqXp1iRDEUDGbVAOC0sTQPI1t0XxUhVAIv4dfddaF0BSxoS0vWIZQIKO6+ujahtAslZSI4pyHUDiHrlacHofQInzD0krwSBAoVfDZB7FIUC5u3aAEckiQNEfKpwEzSNA6YPdt/fQJEAB6JDT6tQlQBlMRO/d2CZAMbD3CtHcJ0BJFKsmxOAoQF94XkK35ClAd9wRXqroKkCPQMV5newrQKekeJWQ8CxAvwgssYP0LUDZbN/MdvguQA==",
          "dtype": "f8"
         },
         "y": {
          "bdata": "AAAAAAAAHMDRXkJ7Ce0ZwKG9hPYS2hfAchzHcRzHFcBCewntJbQTwBPaS2gvoRHAyHEcx3EcD8BpL6G9hPYKwArtJbSX0AbArKqqqqqqAsCY0F5Cewn9v9xLaC+hvfS/QI7jOI7j6L+ACe0ltJfQv3AJ7SW0l9A/OI7jOI7j6D/YS2gvob30P5jQXkJ7Cf0/qKqqqqqqAkAI7SW0l9AGQGgvob2E9gpAxHEcx3EcD0AS2ktoL6ERQEJ7Ce0ltBNAcBzHcRzHFUCgvYT2EtoXQNBeQnsJ7RlAAAAAAAAAHEA=",
          "dtype": "f8"
         },
         "z": {
          "bdata": "AAAAAAAAAAAAAAAAAAAAAAAAAAAAAAAAAAAAAAAAAAAAAAAAAAAAAAAAAAAAAAAAAAAAAAAAAAAAAAAAAAAAAAAAAAAAAAAAAAAAAAAAAAAAAAAAAAAAAAAAAAAAAAAAAAAAAAAAAAAAAAAAAAAAAAAAAAAAAAAAAAAAAAAAAAAAAAAAAAAAAAAAAAAAAAAAAAAAAAAAAAAAAAAAAAAAAAAAAAAAAAAAAAAAAAAAAAAAAAAAAAAAAAAAAAAAAAAAAAAAAAAAAAAAAAAAAAAAAAAAAAAAAAAAAAAAAAAAAAAAAAAAAAAAAAAAAAAAAAAAAAAAAAAAAAAAAAAAAAAAAAAAAAAAAAAAAAAAAAAAAAAAAAAAAAAAAAAAAAAAAAAAAAAAAAAAAAAAAAAAAAAAAAAAAAAAAAAAAAAAAAAAAAAAAAAAAAAAAAAAAAAAAAAAAAAAAAAAAAAAAAAAAAAAAAAAAAAAAAAAAAAAAAAAAAAAAAAAAAAAAAAAAAAAAAAAAAAAAAAAAAAAAAAAAAAAAAABAQEBAAAAAAAAAAAAAAAAAAAAAAAAAAAAAAAAAAAAAAAAAAAAAAAAAAAAAAAAAAAAAAAAAAAAAAAAAAABAQEBAQEBAQAAAAAAAAAAAAAAAAAAAAAAAAAAAAAAAAAAAAAAAAAAAAAAAAAAAAAAAAAAAAAAAAAAAAABAQEBAQEBAQEBAQEAAAAAAAAAAAAAAAAAAAAAAAAAAAAAAAAAAAAAAAAAAAAAAAAAAAAAAAAAAAAAAAAAAAEBAQEBAQEBAQEBAQAAAAAAAAAAAAAAAAAAAAAAAAAAAAAAAAAAAAAAAAAAAAAAAAAAAAAAAAAAAAAAAAABAQEBAQEBAQEBAQEBAQAAAAAAAAAAAAAAAAAAAAAAAAAAAAAAAAAAAAAAAAAAAAAAAAAAAAAAAAAAAAAAAAEBAQEBAQEBAQEBAQEBAAAAAAAAAAAAAAAAAAAAAAAAAAAAAAAAAAAAAAAAAAAAAAAAAAAAAAAAAAAAAAABAQEBAQEBAQEBAQEBAQEBAAAAAAAAAAAAAAAAAAAAAAAAAAAAAAAAAAAAAAAAAAAAAAAAAAAAAAAAAAAAAAEBAQEBAQEBAQEBAQEBAQEAAAAAAAAAAAAAAAAAAAAAAAAAAAAAAAAAAAAAAAAAAAAAAAAAAAAAAAAAAAAAAQEBAQEBAQEBAQEBAQEBAQAAAAAAAAAAAAAAAAAAAAAAAAAAAAAAAAAAAAAAAAAAAAAAAAAAAAAAAAAAAAABAQEBAQEBAQEBAQEBAQEBAAAAAAAAAAAAAAAAAAAAAAAAAAAAAAAAAAAAAAAAAAAAAAAAAAAAAAAAAAAAAAABAQEBAQEBAQEBAQEBAQAAAAAAAAAAAAAAAAAAAAAAAAAAAAAAAAAAAAAAAAAAAAAAAAAAAAAAAAAAAAAAAAEBAQEBAQEBAQEBAQEBAAAAAAAAAAAAAAAAAAAAAAAAAAAAAAAAAAAAAAAAAAAAAAAAAAAAAAAAAAAAAAAAAAEBAQEBAQEBAQEBAQAAAAAAAAAAAAAAAAAAAAAAAAAAAAAAAAAAAAAAAAAAAAAAAAAAAAAAAAAAAAAAAAAAAQEBAQEBAQEBAQEBAAAAAAAAAAAAAAAAAAAAAAAAAAAAAAAAAAAAAAAAAAAAAAAAAAAAAAAAAAAAAAAAAAAAAAEBAQEBAQEBAAAAAAAAAAAAAAAAAAAAAAAAAAAAAAAAAAAAAAAAAAAAAAAAAAAAAAAAAAAAAAAAAAAAAAAAAAABAQEBAAAAAAAAAAAAAAAAAAAAAAAAAAAAAAAAAAAAAAAAAAAAAAAAAAAAAAAAAAAAAAAAAAAAAAAAAAAAAAAAAAAAAAAAAAAAAAAAAAAAAAAAAAAAAAAAAAAAAAAAAAAAAAAAAAAAAAAAAAAAAAAAAAAAAAAAAAAAAAAAAAAAAAAAAAAAAAAAAAAAAAAAAAAAAAAAAAAAAAAAAAAAAAAAAAAAAAAAAAAAAAAAAAAAAAAAAAAAAAAAAAAAAAAAAAAAAAAAAAAAAAAAAAAAAAAAAAAAAAAAAAAAAAAAAAAAAAAAAAAAAAAAAAAAAAAAAAAAAAAAAAAAAAAAAAAAAAAAAAAAAAAAAAAAAAAAAAAAAAAAAAAAAAAAAAAAAAAAAAAAAAAAAAAAAAAAAAAAAAAAAAAAAAAAAAAAAAAAAAAAAAAAAAAAAAAAAAAAAAAAAAAAAAAAAAAAAAAAAAAAAAAAAAAAAAAAAAAAAAAAAAAAAAAAAAAAAAAAAAAAAAAAAAAAAAAAAAAAAAAAAAAAAAAAAAAAAAA=",
          "dtype": "u1",
          "shape": "28, 62"
         }
        },
        {
         "colorbar": {
          "ticktext": [
           "Outside",
           "Inside"
          ],
          "tickvals": [
           0,
           1
          ],
          "title": {
           "text": "Neuron<br>Presence"
          }
         },
         "colorscale": [
          [
           0,
           "#440154"
          ],
          [
           0.1111111111111111,
           "#482878"
          ],
          [
           0.2222222222222222,
           "#3e4989"
          ],
          [
           0.3333333333333333,
           "#31688e"
          ],
          [
           0.4444444444444444,
           "#26828e"
          ],
          [
           0.5555555555555556,
           "#1f9e89"
          ],
          [
           0.6666666666666666,
           "#35b779"
          ],
          [
           0.7777777777777778,
           "#6ece58"
          ],
          [
           0.8888888888888888,
           "#b5de2b"
          ],
          [
           1,
           "#fde725"
          ]
         ],
         "hovertemplate": "<b>X:</b> %{x:.1f} µm<br><b>Y:</b> %{y:.1f} µm<br><b>Value:</b> %{z}<br><extra></extra>",
         "name": "Z-slice 25",
         "showscale": true,
         "type": "heatmap",
         "visible": false,
         "x": {
          "bdata": "2WzfzHb4LsDBCCyxg/QtwKmkeJWQ8CzAkUDFeZ3sK8B63BFequgqwGJ4XkK35CnAShSrJsTgKMAysPcK0dwnwBpMRO/d2CbAAuiQ0+rUJcDqg92399AkwNIfKpwEzSPAurt2gBHJIsCiV8NkHsUhwIvzD0krwSDA5h65WnB6H8C2VlIjinIdwIaO6+ujahvAVsaEtL1iGcAm/h1911oXwPY1t0XxUhXAyG1QDgtLE8CYpenWJEMRwNC6BT99dg7AcCo40LBmCsAQmmph5FYGwLAJnfIXRwLAoPKeB5du/L/o0QMq/k70v1Bi0ZjKXui/oEE2uzE/0L9gQTa7MT/QPzBi0ZjKXug/2NEDKv5O9D+Y8p4Hl278P6wJnfIXRwJADJpqYeRWBkBsKjjQsGYKQMy6BT99dg5AlqXp1iRDEUDGbVAOC0sTQPI1t0XxUhVAIv4dfddaF0BSxoS0vWIZQIKO6+ujahtAslZSI4pyHUDiHrlacHofQInzD0krwSBAoVfDZB7FIUC5u3aAEckiQNEfKpwEzSNA6YPdt/fQJEAB6JDT6tQlQBlMRO/d2CZAMbD3CtHcJ0BJFKsmxOAoQF94XkK35ClAd9wRXqroKkCPQMV5newrQKekeJWQ8CxAvwgssYP0LUDZbN/MdvguQA==",
          "dtype": "f8"
         },
         "y": {
          "bdata": "AAAAAAAAHMDRXkJ7Ce0ZwKG9hPYS2hfAchzHcRzHFcBCewntJbQTwBPaS2gvoRHAyHEcx3EcD8BpL6G9hPYKwArtJbSX0AbArKqqqqqqAsCY0F5Cewn9v9xLaC+hvfS/QI7jOI7j6L+ACe0ltJfQv3AJ7SW0l9A/OI7jOI7j6D/YS2gvob30P5jQXkJ7Cf0/qKqqqqqqAkAI7SW0l9AGQGgvob2E9gpAxHEcx3EcD0AS2ktoL6ERQEJ7Ce0ltBNAcBzHcRzHFUCgvYT2EtoXQNBeQnsJ7RlAAAAAAAAAHEA=",
          "dtype": "f8"
         },
         "z": {
          "bdata": "AAAAAAAAAAAAAAAAAAAAAAAAAAAAAAAAAAAAAAAAAAAAAAAAAAAAAAAAAAAAAAAAAAAAAAAAAAAAAAAAAAAAAAAAAAAAAAAAAAAAAAAAAAAAAAAAAAAAAAAAAAAAAAAAAAAAAAAAAAAAAAAAAAAAAAAAAAAAAAAAAAAAAAAAAAAAAAAAAAAAAAAAAAAAAAAAAAAAAAAAAAAAAAAAAAAAAAAAAAAAAAAAAAAAAAAAAAAAAAAAAAAAAAAAAAAAAAAAAAAAAAAAAAAAAAAAAAAAAAAAAAAAAAAAAAAAAAAAAAAAAAAAAAAAAAAAAAAAAAAAAAAAAAAAAAAAAAAAAAAAAAAAAAAAAAAAAAAAAAAAAAAAAAAAAAAAAAAAAAAAAAAAAAAAAAAAAAAAAAAAAAAAAAAAAAAAAAAAAAAAAAAAAAAAAAAAAAAAAAAAAAAAAAAAAAAAAAAAAAAAAAAAAAAAAAAAAAAAAAAAAAAAAAAAAAAAAAAAAAAAAAAAAAAAAAAAAAAAAAAAAAAAAAAAAAAAAAABAQEBAAAAAAAAAAAAAAAAAAAAAAAAAAAAAAAAAAAAAAAAAAAAAAAAAAAAAAAAAAAAAAAAAAAAAAAAAAABAQEBAQEBAQAAAAAAAAAAAAAAAAAAAAAAAAAAAAAAAAAAAAAAAAAAAAAAAAAAAAAAAAAAAAAAAAAAAAABAQEBAQEBAQEBAQEAAAAAAAAAAAAAAAAAAAAAAAAAAAAAAAAAAAAAAAAAAAAAAAAAAAAAAAAAAAAAAAAAAAEBAQEBAQEBAQEBAQAAAAAAAAAAAAAAAAAAAAAAAAAAAAAAAAAAAAAAAAAAAAAAAAAAAAAAAAAAAAAAAAABAQEBAQEBAQEBAQEBAQAAAAAAAAAAAAAAAAAAAAAAAAAAAAAAAAAAAAAAAAAAAAAAAAAAAAAAAAAAAAAAAAEBAQEBAQEBAQEBAQEBAAAAAAAAAAAAAAAAAAAAAAAAAAAAAAAAAAAAAAAAAAAAAAAAAAAAAAAAAAAAAAABAQEBAQEBAQEBAQEBAQEBAAAAAAAAAAAAAAAAAAAAAAAAAAAAAAAAAAAAAAAAAAAAAAAAAAAAAAAAAAAAAAEBAQEBAQEBAQEBAQEBAQEAAAAAAAAAAAAAAAAAAAAAAAAAAAAAAAAAAAAAAAAAAAAAAAAAAAAAAAAAAAAAAQEBAQEBAQEBAQEBAQEBAQAAAAAAAAAAAAAAAAAAAAAAAAAAAAAAAAAAAAAAAAAAAAAAAAAAAAAAAAAAAAABAQEBAQEBAQEBAQEBAQEBAAAAAAAAAAAAAAAAAAAAAAAAAAAAAAAAAAAAAAAAAAAAAAAAAAAAAAAAAAAAAAABAQEBAQEBAQEBAQEBAQAAAAAAAAAAAAAAAAAAAAAAAAAAAAAAAAAAAAAAAAAAAAAAAAAAAAAAAAAAAAAAAAEBAQEBAQEBAQEBAQEBAAAAAAAAAAAAAAAAAAAAAAAAAAAAAAAAAAAAAAAAAAAAAAAAAAAAAAAAAAAAAAAAAAEBAQEBAQEBAQEBAQAAAAAAAAAAAAAAAAAAAAAAAAAAAAAAAAAAAAAAAAAAAAAAAAAAAAAAAAAAAAAAAAAAAQEBAQEBAQEBAQEBAAAAAAAAAAAAAAAAAAAAAAAAAAAAAAAAAAAAAAAAAAAAAAAAAAAAAAAAAAAAAAAAAAAAAAEBAQEBAQEBAAAAAAAAAAAAAAAAAAAAAAAAAAAAAAAAAAAAAAAAAAAAAAAAAAAAAAAAAAAAAAAAAAAAAAAAAAABAQEBAAAAAAAAAAAAAAAAAAAAAAAAAAAAAAAAAAAAAAAAAAAAAAAAAAAAAAAAAAAAAAAAAAAAAAAAAAAAAAAAAAAAAAAAAAAAAAAAAAAAAAAAAAAAAAAAAAAAAAAAAAAAAAAAAAAAAAAAAAAAAAAAAAAAAAAAAAAAAAAAAAAAAAAAAAAAAAAAAAAAAAAAAAAAAAAAAAAAAAAAAAAAAAAAAAAAAAAAAAAAAAAAAAAAAAAAAAAAAAAAAAAAAAAAAAAAAAAAAAAAAAAAAAAAAAAAAAAAAAAAAAAAAAAAAAAAAAAAAAAAAAAAAAAAAAAAAAAAAAAAAAAAAAAAAAAAAAAAAAAAAAAAAAAAAAAAAAAAAAAAAAAAAAAAAAAAAAAAAAAAAAAAAAAAAAAAAAAAAAAAAAAAAAAAAAAAAAAAAAAAAAAAAAAAAAAAAAAAAAAAAAAAAAAAAAAAAAAAAAAAAAAAAAAAAAAAAAAAAAAAAAAAAAAAAAAAAAAAAAAAAAAAAAAAAAAAAAAAAAAAAAAAAAAAAAAAAAA=",
          "dtype": "u1",
          "shape": "28, 62"
         }
        },
        {
         "colorbar": {
          "ticktext": [
           "Outside",
           "Inside"
          ],
          "tickvals": [
           0,
           1
          ],
          "title": {
           "text": "Neuron<br>Presence"
          }
         },
         "colorscale": [
          [
           0,
           "#440154"
          ],
          [
           0.1111111111111111,
           "#482878"
          ],
          [
           0.2222222222222222,
           "#3e4989"
          ],
          [
           0.3333333333333333,
           "#31688e"
          ],
          [
           0.4444444444444444,
           "#26828e"
          ],
          [
           0.5555555555555556,
           "#1f9e89"
          ],
          [
           0.6666666666666666,
           "#35b779"
          ],
          [
           0.7777777777777778,
           "#6ece58"
          ],
          [
           0.8888888888888888,
           "#b5de2b"
          ],
          [
           1,
           "#fde725"
          ]
         ],
         "hovertemplate": "<b>X:</b> %{x:.1f} µm<br><b>Y:</b> %{y:.1f} µm<br><b>Value:</b> %{z}<br><extra></extra>",
         "name": "Z-slice 26",
         "showscale": true,
         "type": "heatmap",
         "visible": false,
         "x": {
          "bdata": "2WzfzHb4LsDBCCyxg/QtwKmkeJWQ8CzAkUDFeZ3sK8B63BFequgqwGJ4XkK35CnAShSrJsTgKMAysPcK0dwnwBpMRO/d2CbAAuiQ0+rUJcDqg92399AkwNIfKpwEzSPAurt2gBHJIsCiV8NkHsUhwIvzD0krwSDA5h65WnB6H8C2VlIjinIdwIaO6+ujahvAVsaEtL1iGcAm/h1911oXwPY1t0XxUhXAyG1QDgtLE8CYpenWJEMRwNC6BT99dg7AcCo40LBmCsAQmmph5FYGwLAJnfIXRwLAoPKeB5du/L/o0QMq/k70v1Bi0ZjKXui/oEE2uzE/0L9gQTa7MT/QPzBi0ZjKXug/2NEDKv5O9D+Y8p4Hl278P6wJnfIXRwJADJpqYeRWBkBsKjjQsGYKQMy6BT99dg5AlqXp1iRDEUDGbVAOC0sTQPI1t0XxUhVAIv4dfddaF0BSxoS0vWIZQIKO6+ujahtAslZSI4pyHUDiHrlacHofQInzD0krwSBAoVfDZB7FIUC5u3aAEckiQNEfKpwEzSNA6YPdt/fQJEAB6JDT6tQlQBlMRO/d2CZAMbD3CtHcJ0BJFKsmxOAoQF94XkK35ClAd9wRXqroKkCPQMV5newrQKekeJWQ8CxAvwgssYP0LUDZbN/MdvguQA==",
          "dtype": "f8"
         },
         "y": {
          "bdata": "AAAAAAAAHMDRXkJ7Ce0ZwKG9hPYS2hfAchzHcRzHFcBCewntJbQTwBPaS2gvoRHAyHEcx3EcD8BpL6G9hPYKwArtJbSX0AbArKqqqqqqAsCY0F5Cewn9v9xLaC+hvfS/QI7jOI7j6L+ACe0ltJfQv3AJ7SW0l9A/OI7jOI7j6D/YS2gvob30P5jQXkJ7Cf0/qKqqqqqqAkAI7SW0l9AGQGgvob2E9gpAxHEcx3EcD0AS2ktoL6ERQEJ7Ce0ltBNAcBzHcRzHFUCgvYT2EtoXQNBeQnsJ7RlAAAAAAAAAHEA=",
          "dtype": "f8"
         },
         "z": {
          "bdata": "AAAAAAAAAAAAAAAAAAAAAAAAAAAAAAAAAAAAAAAAAAAAAAAAAAAAAAAAAAAAAAAAAAAAAAAAAAAAAAAAAAAAAAAAAAAAAAAAAAAAAAAAAAAAAAAAAAAAAAAAAAAAAAAAAAAAAAAAAAAAAAAAAAAAAAAAAAAAAAAAAAAAAAAAAAAAAAAAAAAAAAAAAAAAAAAAAAAAAAAAAAAAAAAAAAAAAAAAAAAAAAAAAAAAAAAAAAAAAAAAAAAAAAAAAAAAAAAAAAAAAAAAAAAAAAAAAAAAAAAAAAAAAAAAAAAAAAAAAAAAAAAAAAAAAAAAAAAAAAAAAAAAAAAAAAAAAAAAAAAAAAAAAAAAAAAAAAAAAAAAAAAAAAAAAAAAAAAAAAAAAAAAAAAAAAAAAAAAAAAAAAAAAAAAAAAAAAAAAAAAAAAAAAAAAAAAAAAAAAAAAAAAAAAAAAAAAAAAAAAAAAAAAAAAAAAAAAAAAAAAAAAAAAAAAAAAAAAAAAAAAAAAAAAAAAAAAAAAAAAAAAAAAAAAAAAAAAABAQEBAAAAAAAAAAAAAAAAAAAAAAAAAAAAAAAAAAAAAAAAAAAAAAAAAAAAAAAAAAAAAAAAAAAAAAAAAAABAQEBAQEBAQAAAAAAAAAAAAAAAAAAAAAAAAAAAAAAAAAAAAAAAAAAAAAAAAAAAAAAAAAAAAAAAAAAAAABAQEBAQEBAQEBAQEAAAAAAAAAAAAAAAAAAAAAAAAAAAAAAAAAAAAAAAAAAAAAAAAAAAAAAAAAAAAAAAAAAAEBAQEBAQEBAQEBAQAAAAAAAAAAAAAAAAAAAAAAAAAAAAAAAAAAAAAAAAAAAAAAAAAAAAAAAAAAAAAAAAABAQEBAQEBAQEBAQEBAQAAAAAAAAAAAAAAAAAAAAAAAAAAAAAAAAAAAAAAAAAAAAAAAAAAAAAAAAAAAAAAAAEBAQEBAQEBAQEBAQEBAAAAAAAAAAAAAAAAAAAAAAAAAAAAAAAAAAAAAAAAAAAAAAAAAAAAAAAAAAAAAAABAQEBAQEBAQEBAQEBAQEBAAAAAAAAAAAAAAAAAAAAAAAAAAAAAAAAAAAAAAAAAAAAAAAAAAAAAAAAAAAAAAEBAQEBAQEBAQEBAQEBAQEAAAAAAAAAAAAAAAAAAAAAAAAAAAAAAAAAAAAAAAAAAAAAAAAAAAAAAAAAAAAAAQEBAQEBAQEBAQEBAQEBAQAAAAAAAAAAAAAAAAAAAAAAAAAAAAAAAAAAAAAAAAAAAAAAAAAAAAAAAAAAAAABAQEBAQEBAQEBAQEBAQEBAAAAAAAAAAAAAAAAAAAAAAAAAAAAAAAAAAAAAAAAAAAAAAAAAAAAAAAAAAAAAAABAQEBAQEBAQEBAQEBAQAAAAAAAAAAAAAAAAAAAAAAAAAAAAAAAAAAAAAAAAAAAAAAAAAAAAAAAAAAAAAAAAEBAQEBAQEBAQEBAQEBAAAAAAAAAAAAAAAAAAAAAAAAAAAAAAAAAAAAAAAAAAAAAAAAAAAAAAAAAAAAAAAAAAEBAQEBAQEBAQEBAQAAAAAAAAAAAAAAAAAAAAAAAAAAAAAAAAAAAAAAAAAAAAAAAAAAAAAAAAAAAAAAAAAAAQEBAQEBAQEBAQEBAAAAAAAAAAAAAAAAAAAAAAAAAAAAAAAAAAAAAAAAAAAAAAAAAAAAAAAAAAAAAAAAAAAAAAEBAQEBAQEBAAAAAAAAAAAAAAAAAAAAAAAAAAAAAAAAAAAAAAAAAAAAAAAAAAAAAAAAAAAAAAAAAAAAAAAAAAABAQEBAAAAAAAAAAAAAAAAAAAAAAAAAAAAAAAAAAAAAAAAAAAAAAAAAAAAAAAAAAAAAAAAAAAAAAAAAAAAAAAAAAAAAAAAAAAAAAAAAAAAAAAAAAAAAAAAAAAAAAAAAAAAAAAAAAAAAAAAAAAAAAAAAAAAAAAAAAAAAAAAAAAAAAAAAAAAAAAAAAAAAAAAAAAAAAAAAAAAAAAAAAAAAAAAAAAAAAAAAAAAAAAAAAAAAAAAAAAAAAAAAAAAAAAAAAAAAAAAAAAAAAAAAAAAAAAAAAAAAAAAAAAAAAAAAAAAAAAAAAAAAAAAAAAAAAAAAAAAAAAAAAAAAAAAAAAAAAAAAAAAAAAAAAAAAAAAAAAAAAAAAAAAAAAAAAAAAAAAAAAAAAAAAAAAAAAAAAAAAAAAAAAAAAAAAAAAAAAAAAAAAAAAAAAAAAAAAAAAAAAAAAAAAAAAAAAAAAAAAAAAAAAAAAAAAAAAAAAAAAAAAAAAAAAAAAAAAAAAAAAAAAAAAAAAAAAAAAAAAAAAAAAAAAAAAAAAAAA=",
          "dtype": "u1",
          "shape": "28, 62"
         }
        },
        {
         "colorbar": {
          "ticktext": [
           "Outside",
           "Inside"
          ],
          "tickvals": [
           0,
           1
          ],
          "title": {
           "text": "Neuron<br>Presence"
          }
         },
         "colorscale": [
          [
           0,
           "#440154"
          ],
          [
           0.1111111111111111,
           "#482878"
          ],
          [
           0.2222222222222222,
           "#3e4989"
          ],
          [
           0.3333333333333333,
           "#31688e"
          ],
          [
           0.4444444444444444,
           "#26828e"
          ],
          [
           0.5555555555555556,
           "#1f9e89"
          ],
          [
           0.6666666666666666,
           "#35b779"
          ],
          [
           0.7777777777777778,
           "#6ece58"
          ],
          [
           0.8888888888888888,
           "#b5de2b"
          ],
          [
           1,
           "#fde725"
          ]
         ],
         "hovertemplate": "<b>X:</b> %{x:.1f} µm<br><b>Y:</b> %{y:.1f} µm<br><b>Value:</b> %{z}<br><extra></extra>",
         "name": "Z-slice 27",
         "showscale": true,
         "type": "heatmap",
         "visible": false,
         "x": {
          "bdata": "2WzfzHb4LsDBCCyxg/QtwKmkeJWQ8CzAkUDFeZ3sK8B63BFequgqwGJ4XkK35CnAShSrJsTgKMAysPcK0dwnwBpMRO/d2CbAAuiQ0+rUJcDqg92399AkwNIfKpwEzSPAurt2gBHJIsCiV8NkHsUhwIvzD0krwSDA5h65WnB6H8C2VlIjinIdwIaO6+ujahvAVsaEtL1iGcAm/h1911oXwPY1t0XxUhXAyG1QDgtLE8CYpenWJEMRwNC6BT99dg7AcCo40LBmCsAQmmph5FYGwLAJnfIXRwLAoPKeB5du/L/o0QMq/k70v1Bi0ZjKXui/oEE2uzE/0L9gQTa7MT/QPzBi0ZjKXug/2NEDKv5O9D+Y8p4Hl278P6wJnfIXRwJADJpqYeRWBkBsKjjQsGYKQMy6BT99dg5AlqXp1iRDEUDGbVAOC0sTQPI1t0XxUhVAIv4dfddaF0BSxoS0vWIZQIKO6+ujahtAslZSI4pyHUDiHrlacHofQInzD0krwSBAoVfDZB7FIUC5u3aAEckiQNEfKpwEzSNA6YPdt/fQJEAB6JDT6tQlQBlMRO/d2CZAMbD3CtHcJ0BJFKsmxOAoQF94XkK35ClAd9wRXqroKkCPQMV5newrQKekeJWQ8CxAvwgssYP0LUDZbN/MdvguQA==",
          "dtype": "f8"
         },
         "y": {
          "bdata": "AAAAAAAAHMDRXkJ7Ce0ZwKG9hPYS2hfAchzHcRzHFcBCewntJbQTwBPaS2gvoRHAyHEcx3EcD8BpL6G9hPYKwArtJbSX0AbArKqqqqqqAsCY0F5Cewn9v9xLaC+hvfS/QI7jOI7j6L+ACe0ltJfQv3AJ7SW0l9A/OI7jOI7j6D/YS2gvob30P5jQXkJ7Cf0/qKqqqqqqAkAI7SW0l9AGQGgvob2E9gpAxHEcx3EcD0AS2ktoL6ERQEJ7Ce0ltBNAcBzHcRzHFUCgvYT2EtoXQNBeQnsJ7RlAAAAAAAAAHEA=",
          "dtype": "f8"
         },
         "z": {
          "bdata": "AAAAAAAAAAAAAAAAAAAAAAAAAAAAAAAAAAAAAAAAAAAAAAAAAAAAAAAAAAAAAAAAAAAAAAAAAAAAAAAAAAAAAAAAAAAAAAAAAAAAAAAAAAAAAAAAAAAAAAAAAAAAAAAAAAAAAAAAAAAAAAAAAAAAAAAAAAAAAAAAAAAAAAAAAAAAAAAAAAAAAAAAAAAAAAAAAAAAAAAAAAAAAAAAAAAAAAAAAAAAAAAAAAAAAAAAAAAAAAAAAAAAAAAAAAAAAAAAAAAAAAAAAAAAAAAAAAAAAAAAAAAAAAAAAAAAAAAAAAAAAAAAAAAAAAAAAAAAAAAAAAAAAAAAAAAAAAAAAAAAAAAAAAAAAAAAAAAAAAAAAAAAAAAAAAAAAAAAAAAAAAAAAAAAAAAAAAAAAAAAAAAAAAAAAAAAAAAAAAAAAAAAAAAAAAAAAAAAAAAAAAAAAAAAAAAAAAAAAAAAAAAAAAAAAAAAAAAAAAAAAAAAAAAAAAAAAAAAAAAAAAAAAAAAAAAAAAAAAAAAAAAAAAAAAAAAAAABAQEBAAAAAAAAAAAAAAAAAAAAAAAAAAAAAAAAAAAAAAAAAAAAAAAAAAAAAAAAAAAAAAAAAAAAAAAAAAABAQEBAQEBAQAAAAAAAAAAAAAAAAAAAAAAAAAAAAAAAAAAAAAAAAAAAAAAAAAAAAAAAAAAAAAAAAAAAAABAQEBAQEBAQEBAQEAAAAAAAAAAAAAAAAAAAAAAAAAAAAAAAAAAAAAAAAAAAAAAAAAAAAAAAAAAAAAAAAAAAEBAQEBAQEBAQEBAQAAAAAAAAAAAAAAAAAAAAAAAAAAAAAAAAAAAAAAAAAAAAAAAAAAAAAAAAAAAAAAAAABAQEBAQEBAQEBAQEBAQAAAAAAAAAAAAAAAAAAAAAAAAAAAAAAAAAAAAAAAAAAAAAAAAAAAAAAAAAAAAAAAAEBAQEBAQEBAQEBAQEBAAAAAAAAAAAAAAAAAAAAAAAAAAAAAAAAAAAAAAAAAAAAAAAAAAAAAAAAAAAAAAABAQEBAQEBAQEBAQEBAQEBAAAAAAAAAAAAAAAAAAAAAAAAAAAAAAAAAAAAAAAAAAAAAAAAAAAAAAAAAAAAAAEBAQEBAQEBAQEBAQEBAQEAAAAAAAAAAAAAAAAAAAAAAAAAAAAAAAAAAAAAAAAAAAAAAAAAAAAAAAAAAAAAAQEBAQEBAQEBAQEBAQEBAQAAAAAAAAAAAAAAAAAAAAAAAAAAAAAAAAAAAAAAAAAAAAAAAAAAAAAAAAAAAAABAQEBAQEBAQEBAQEBAQEBAAAAAAAAAAAAAAAAAAAAAAAAAAAAAAAAAAAAAAAAAAAAAAAAAAAAAAAAAAAAAAABAQEBAQEBAQEBAQEBAQAAAAAAAAAAAAAAAAAAAAAAAAAAAAAAAAAAAAAAAAAAAAAAAAAAAAAAAAAAAAAAAAEBAQEBAQEBAQEBAQEBAAAAAAAAAAAAAAAAAAAAAAAAAAAAAAAAAAAAAAAAAAAAAAAAAAAAAAAAAAAAAAAAAAEBAQEBAQEBAQEBAQAAAAAAAAAAAAAAAAAAAAAAAAAAAAAAAAAAAAAAAAAAAAAAAAAAAAAAAAAAAAAAAAAAAQEBAQEBAQEBAQEBAAAAAAAAAAAAAAAAAAAAAAAAAAAAAAAAAAAAAAAAAAAAAAAAAAAAAAAAAAAAAAAAAAAAAAEBAQEBAQEBAAAAAAAAAAAAAAAAAAAAAAAAAAAAAAAAAAAAAAAAAAAAAAAAAAAAAAAAAAAAAAAAAAAAAAAAAAABAQEBAAAAAAAAAAAAAAAAAAAAAAAAAAAAAAAAAAAAAAAAAAAAAAAAAAAAAAAAAAAAAAAAAAAAAAAAAAAAAAAAAAAAAAAAAAAAAAAAAAAAAAAAAAAAAAAAAAAAAAAAAAAAAAAAAAAAAAAAAAAAAAAAAAAAAAAAAAAAAAAAAAAAAAAAAAAAAAAAAAAAAAAAAAAAAAAAAAAAAAAAAAAAAAAAAAAAAAAAAAAAAAAAAAAAAAAAAAAAAAAAAAAAAAAAAAAAAAAAAAAAAAAAAAAAAAAAAAAAAAAAAAAAAAAAAAAAAAAAAAAAAAAAAAAAAAAAAAAAAAAAAAAAAAAAAAAAAAAAAAAAAAAAAAAAAAAAAAAAAAAAAAAAAAAAAAAAAAAAAAAAAAAAAAAAAAAAAAAAAAAAAAAAAAAAAAAAAAAAAAAAAAAAAAAAAAAAAAAAAAAAAAAAAAAAAAAAAAAAAAAAAAAAAAAAAAAAAAAAAAAAAAAAAAAAAAAAAAAAAAAAAAAAAAAAAAAAAAAAAAAAAAAAAAAAAAAAAAA=",
          "dtype": "u1",
          "shape": "28, 62"
         }
        },
        {
         "colorbar": {
          "ticktext": [
           "Outside",
           "Inside"
          ],
          "tickvals": [
           0,
           1
          ],
          "title": {
           "text": "Neuron<br>Presence"
          }
         },
         "colorscale": [
          [
           0,
           "#440154"
          ],
          [
           0.1111111111111111,
           "#482878"
          ],
          [
           0.2222222222222222,
           "#3e4989"
          ],
          [
           0.3333333333333333,
           "#31688e"
          ],
          [
           0.4444444444444444,
           "#26828e"
          ],
          [
           0.5555555555555556,
           "#1f9e89"
          ],
          [
           0.6666666666666666,
           "#35b779"
          ],
          [
           0.7777777777777778,
           "#6ece58"
          ],
          [
           0.8888888888888888,
           "#b5de2b"
          ],
          [
           1,
           "#fde725"
          ]
         ],
         "hovertemplate": "<b>X:</b> %{x:.1f} µm<br><b>Y:</b> %{y:.1f} µm<br><b>Value:</b> %{z}<br><extra></extra>",
         "name": "Z-slice 28",
         "showscale": true,
         "type": "heatmap",
         "visible": false,
         "x": {
          "bdata": "2WzfzHb4LsDBCCyxg/QtwKmkeJWQ8CzAkUDFeZ3sK8B63BFequgqwGJ4XkK35CnAShSrJsTgKMAysPcK0dwnwBpMRO/d2CbAAuiQ0+rUJcDqg92399AkwNIfKpwEzSPAurt2gBHJIsCiV8NkHsUhwIvzD0krwSDA5h65WnB6H8C2VlIjinIdwIaO6+ujahvAVsaEtL1iGcAm/h1911oXwPY1t0XxUhXAyG1QDgtLE8CYpenWJEMRwNC6BT99dg7AcCo40LBmCsAQmmph5FYGwLAJnfIXRwLAoPKeB5du/L/o0QMq/k70v1Bi0ZjKXui/oEE2uzE/0L9gQTa7MT/QPzBi0ZjKXug/2NEDKv5O9D+Y8p4Hl278P6wJnfIXRwJADJpqYeRWBkBsKjjQsGYKQMy6BT99dg5AlqXp1iRDEUDGbVAOC0sTQPI1t0XxUhVAIv4dfddaF0BSxoS0vWIZQIKO6+ujahtAslZSI4pyHUDiHrlacHofQInzD0krwSBAoVfDZB7FIUC5u3aAEckiQNEfKpwEzSNA6YPdt/fQJEAB6JDT6tQlQBlMRO/d2CZAMbD3CtHcJ0BJFKsmxOAoQF94XkK35ClAd9wRXqroKkCPQMV5newrQKekeJWQ8CxAvwgssYP0LUDZbN/MdvguQA==",
          "dtype": "f8"
         },
         "y": {
          "bdata": "AAAAAAAAHMDRXkJ7Ce0ZwKG9hPYS2hfAchzHcRzHFcBCewntJbQTwBPaS2gvoRHAyHEcx3EcD8BpL6G9hPYKwArtJbSX0AbArKqqqqqqAsCY0F5Cewn9v9xLaC+hvfS/QI7jOI7j6L+ACe0ltJfQv3AJ7SW0l9A/OI7jOI7j6D/YS2gvob30P5jQXkJ7Cf0/qKqqqqqqAkAI7SW0l9AGQGgvob2E9gpAxHEcx3EcD0AS2ktoL6ERQEJ7Ce0ltBNAcBzHcRzHFUCgvYT2EtoXQNBeQnsJ7RlAAAAAAAAAHEA=",
          "dtype": "f8"
         },
         "z": {
          "bdata": "AAAAAAAAAAAAAAAAAAAAAAAAAAAAAAAAAAAAAAAAAAAAAAAAAAAAAAAAAAAAAAAAAAAAAAAAAAAAAAAAAAAAAAAAAAAAAAAAAAAAAAAAAAAAAAAAAAAAAAAAAAAAAAAAAAAAAAAAAAAAAAAAAAAAAAAAAAAAAAAAAAAAAAAAAAAAAAAAAAAAAAAAAAAAAAAAAAAAAAAAAAAAAAAAAAAAAAAAAAAAAAAAAAAAAAAAAAAAAAAAAAAAAAAAAAAAAAAAAAAAAAAAAAAAAAAAAAAAAAAAAAAAAAAAAAAAAAAAAAAAAAAAAAAAAAAAAAAAAAAAAAAAAAAAAAAAAAAAAAAAAAAAAAAAAAAAAAAAAAAAAAAAAAAAAAAAAAAAAAAAAAAAAAAAAAAAAAAAAAAAAAAAAAAAAAAAAAAAAAAAAAAAAAAAAAAAAAAAAAAAAAAAAAAAAAAAAAAAAAAAAAAAAAAAAAAAAAAAAAAAAAAAAAAAAAAAAAAAAAAAAAAAAAAAAAAAAAAAAAAAAAAAAAAAAAAAAAABAQEBAAAAAAAAAAAAAAAAAAAAAAAAAAAAAAAAAAAAAAAAAAAAAAAAAAAAAAAAAAAAAAAAAAAAAAAAAAABAQEBAQEBAQAAAAAAAAAAAAAAAAAAAAAAAAAAAAAAAAAAAAAAAAAAAAAAAAAAAAAAAAAAAAAAAAAAAAABAQEBAQEBAQEBAQEAAAAAAAAAAAAAAAAAAAAAAAAAAAAAAAAAAAAAAAAAAAAAAAAAAAAAAAAAAAAAAAAAAAEBAQEBAQEBAQEBAQAAAAAAAAAAAAAAAAAAAAAAAAAAAAAAAAAAAAAAAAAAAAAAAAAAAAAAAAAAAAAAAAABAQEBAQEBAQEBAQEBAQAAAAAAAAAAAAAAAAAAAAAAAAAAAAAAAAAAAAAAAAAAAAAAAAAAAAAAAAAAAAAAAAEBAQEBAQEBAQEBAQEBAAAAAAAAAAAAAAAAAAAAAAAAAAAAAAAAAAAAAAAAAAAAAAAAAAAAAAAAAAAAAAABAQEBAQEBAQEBAQEBAQEBAAAAAAAAAAAAAAAAAAAAAAAAAAAAAAAAAAAAAAAAAAAAAAAAAAAAAAAAAAAAAAEBAQEBAQEBAQEBAQEBAQEAAAAAAAAAAAAAAAAAAAAAAAAAAAAAAAAAAAAAAAAAAAAAAAAAAAAAAAAAAAAAAQEBAQEBAQEBAQEBAQEBAQAAAAAAAAAAAAAAAAAAAAAAAAAAAAAAAAAAAAAAAAAAAAAAAAAAAAAAAAAAAAABAQEBAQEBAQEBAQEBAQEBAAAAAAAAAAAAAAAAAAAAAAAAAAAAAAAAAAAAAAAAAAAAAAAAAAAAAAAAAAAAAAABAQEBAQEBAQEBAQEBAQAAAAAAAAAAAAAAAAAAAAAAAAAAAAAAAAAAAAAAAAAAAAAAAAAAAAAAAAAAAAAAAAEBAQEBAQEBAQEBAQEBAAAAAAAAAAAAAAAAAAAAAAAAAAAAAAAAAAAAAAAAAAAAAAAAAAAAAAAAAAAAAAAAAAEBAQEBAQEBAQEBAQAAAAAAAAAAAAAAAAAAAAAAAAAAAAAAAAAAAAAAAAAAAAAAAAAAAAAAAAAAAAAAAAAAAQEBAQEBAQEBAQEBAAAAAAAAAAAAAAAAAAAAAAAAAAAAAAAAAAAAAAAAAAAAAAAAAAAAAAAAAAAAAAAAAAAAAAEBAQEBAQEBAAAAAAAAAAAAAAAAAAAAAAAAAAAAAAAAAAAAAAAAAAAAAAAAAAAAAAAAAAAAAAAAAAAAAAAAAAABAQEBAAAAAAAAAAAAAAAAAAAAAAAAAAAAAAAAAAAAAAAAAAAAAAAAAAAAAAAAAAAAAAAAAAAAAAAAAAAAAAAAAAAAAAAAAAAAAAAAAAAAAAAAAAAAAAAAAAAAAAAAAAAAAAAAAAAAAAAAAAAAAAAAAAAAAAAAAAAAAAAAAAAAAAAAAAAAAAAAAAAAAAAAAAAAAAAAAAAAAAAAAAAAAAAAAAAAAAAAAAAAAAAAAAAAAAAAAAAAAAAAAAAAAAAAAAAAAAAAAAAAAAAAAAAAAAAAAAAAAAAAAAAAAAAAAAAAAAAAAAAAAAAAAAAAAAAAAAAAAAAAAAAAAAAAAAAAAAAAAAAAAAAAAAAAAAAAAAAAAAAAAAAAAAAAAAAAAAAAAAAAAAAAAAAAAAAAAAAAAAAAAAAAAAAAAAAAAAAAAAAAAAAAAAAAAAAAAAAAAAAAAAAAAAAAAAAAAAAAAAAAAAAAAAAAAAAAAAAAAAAAAAAAAAAAAAAAAAAAAAAAAAAAAAAAAAAAAAAAAAAAAAAAAAAAAAAAAAA=",
          "dtype": "u1",
          "shape": "28, 62"
         }
        },
        {
         "colorbar": {
          "ticktext": [
           "Outside",
           "Inside"
          ],
          "tickvals": [
           0,
           1
          ],
          "title": {
           "text": "Neuron<br>Presence"
          }
         },
         "colorscale": [
          [
           0,
           "#440154"
          ],
          [
           0.1111111111111111,
           "#482878"
          ],
          [
           0.2222222222222222,
           "#3e4989"
          ],
          [
           0.3333333333333333,
           "#31688e"
          ],
          [
           0.4444444444444444,
           "#26828e"
          ],
          [
           0.5555555555555556,
           "#1f9e89"
          ],
          [
           0.6666666666666666,
           "#35b779"
          ],
          [
           0.7777777777777778,
           "#6ece58"
          ],
          [
           0.8888888888888888,
           "#b5de2b"
          ],
          [
           1,
           "#fde725"
          ]
         ],
         "hovertemplate": "<b>X:</b> %{x:.1f} µm<br><b>Y:</b> %{y:.1f} µm<br><b>Value:</b> %{z}<br><extra></extra>",
         "name": "Z-slice 29",
         "showscale": true,
         "type": "heatmap",
         "visible": true,
         "x": {
          "bdata": "2WzfzHb4LsDBCCyxg/QtwKmkeJWQ8CzAkUDFeZ3sK8B63BFequgqwGJ4XkK35CnAShSrJsTgKMAysPcK0dwnwBpMRO/d2CbAAuiQ0+rUJcDqg92399AkwNIfKpwEzSPAurt2gBHJIsCiV8NkHsUhwIvzD0krwSDA5h65WnB6H8C2VlIjinIdwIaO6+ujahvAVsaEtL1iGcAm/h1911oXwPY1t0XxUhXAyG1QDgtLE8CYpenWJEMRwNC6BT99dg7AcCo40LBmCsAQmmph5FYGwLAJnfIXRwLAoPKeB5du/L/o0QMq/k70v1Bi0ZjKXui/oEE2uzE/0L9gQTa7MT/QPzBi0ZjKXug/2NEDKv5O9D+Y8p4Hl278P6wJnfIXRwJADJpqYeRWBkBsKjjQsGYKQMy6BT99dg5AlqXp1iRDEUDGbVAOC0sTQPI1t0XxUhVAIv4dfddaF0BSxoS0vWIZQIKO6+ujahtAslZSI4pyHUDiHrlacHofQInzD0krwSBAoVfDZB7FIUC5u3aAEckiQNEfKpwEzSNA6YPdt/fQJEAB6JDT6tQlQBlMRO/d2CZAMbD3CtHcJ0BJFKsmxOAoQF94XkK35ClAd9wRXqroKkCPQMV5newrQKekeJWQ8CxAvwgssYP0LUDZbN/MdvguQA==",
          "dtype": "f8"
         },
         "y": {
          "bdata": "AAAAAAAAHMDRXkJ7Ce0ZwKG9hPYS2hfAchzHcRzHFcBCewntJbQTwBPaS2gvoRHAyHEcx3EcD8BpL6G9hPYKwArtJbSX0AbArKqqqqqqAsCY0F5Cewn9v9xLaC+hvfS/QI7jOI7j6L+ACe0ltJfQv3AJ7SW0l9A/OI7jOI7j6D/YS2gvob30P5jQXkJ7Cf0/qKqqqqqqAkAI7SW0l9AGQGgvob2E9gpAxHEcx3EcD0AS2ktoL6ERQEJ7Ce0ltBNAcBzHcRzHFUCgvYT2EtoXQNBeQnsJ7RlAAAAAAAAAHEA=",
          "dtype": "f8"
         },
         "z": {
          "bdata": "AAAAAAAAAAAAAAAAAAAAAAAAAAAAAAAAAAAAAAAAAAAAAAAAAAAAAAAAAAAAAAAAAAAAAAAAAAAAAAAAAAAAAAAAAAAAAAAAAAAAAAAAAAAAAAAAAAAAAAAAAAAAAAAAAAAAAAAAAAAAAAAAAAAAAAAAAAAAAAAAAAAAAAAAAAAAAAAAAAAAAAAAAAAAAAAAAAAAAAAAAAAAAAAAAAAAAAAAAAAAAAAAAAAAAAAAAAAAAAAAAAAAAAAAAAAAAAAAAAAAAAAAAAAAAAAAAAAAAAAAAAAAAAAAAAAAAAAAAAAAAAAAAAAAAAAAAAAAAAAAAAAAAAAAAAAAAAAAAAAAAAAAAAAAAAAAAAAAAAAAAAAAAAAAAAAAAAAAAAAAAAAAAAAAAAAAAAAAAAAAAAAAAAAAAAAAAAAAAAAAAAAAAAAAAAAAAAAAAAAAAAAAAAAAAAAAAAAAAAAAAAAAAAAAAAAAAAAAAAAAAAAAAAAAAAAAAAAAAAAAAAAAAAAAAAAAAAAAAAAAAAAAAAAAAAAAAAABAQEBAAAAAAAAAAAAAAAAAAAAAAAAAAAAAAAAAAAAAAAAAAAAAAAAAAAAAAAAAAAAAAAAAAAAAAAAAAABAQEBAQEBAQAAAAAAAAAAAAAAAAAAAAAAAAAAAAAAAAAAAAAAAAAAAAAAAAAAAAAAAAAAAAAAAAAAAAABAQEBAQEBAQEBAQEAAAAAAAAAAAAAAAAAAAAAAAAAAAAAAAAAAAAAAAAAAAAAAAAAAAAAAAAAAAAAAAAAAAEBAQEBAQEBAQEBAQAAAAAAAAAAAAAAAAAAAAAAAAAAAAAAAAAAAAAAAAAAAAAAAAAAAAAAAAAAAAAAAAABAQEBAQEBAQEBAQEBAQAAAAAAAAAAAAAAAAAAAAAAAAAAAAAAAAAAAAAAAAAAAAAAAAAAAAAAAAAAAAAAAAEBAQEBAQEBAQEBAQEBAAAAAAAAAAAAAAAAAAAAAAAAAAAAAAAAAAAAAAAAAAAAAAAAAAAAAAAAAAAAAAABAQEBAQEBAQEBAQEBAQEBAAAAAAAAAAAAAAAAAAAAAAAAAAAAAAAAAAAAAAAAAAAAAAAAAAAAAAAAAAAAAAEBAQEBAQEBAQEBAQEBAQEAAAAAAAAAAAAAAAAAAAAAAAAAAAAAAAAAAAAAAAAAAAAAAAAAAAAAAAAAAAAAAQEBAQEBAQEBAQEBAQEBAQAAAAAAAAAAAAAAAAAAAAAAAAAAAAAAAAAAAAAAAAAAAAAAAAAAAAAAAAAAAAABAQEBAQEBAQEBAQEBAQEBAAAAAAAAAAAAAAAAAAAAAAAAAAAAAAAAAAAAAAAAAAAAAAAAAAAAAAAAAAAAAAABAQEBAQEBAQEBAQEBAQAAAAAAAAAAAAAAAAAAAAAAAAAAAAAAAAAAAAAAAAAAAAAAAAAAAAAAAAAAAAAAAAEBAQEBAQEBAQEBAQEBAAAAAAAAAAAAAAAAAAAAAAAAAAAAAAAAAAAAAAAAAAAAAAAAAAAAAAAAAAAAAAAAAAEBAQEBAQEBAQEBAQAAAAAAAAAAAAAAAAAAAAAAAAAAAAAAAAAAAAAAAAAAAAAAAAAAAAAAAAAAAAAAAAAAAQEBAQEBAQEBAQEBAAAAAAAAAAAAAAAAAAAAAAAAAAAAAAAAAAAAAAAAAAAAAAAAAAAAAAAAAAAAAAAAAAAAAAEBAQEBAQEBAAAAAAAAAAAAAAAAAAAAAAAAAAAAAAAAAAAAAAAAAAAAAAAAAAAAAAAAAAAAAAAAAAAAAAAAAAABAQEBAAAAAAAAAAAAAAAAAAAAAAAAAAAAAAAAAAAAAAAAAAAAAAAAAAAAAAAAAAAAAAAAAAAAAAAAAAAAAAAAAAAAAAAAAAAAAAAAAAAAAAAAAAAAAAAAAAAAAAAAAAAAAAAAAAAAAAAAAAAAAAAAAAAAAAAAAAAAAAAAAAAAAAAAAAAAAAAAAAAAAAAAAAAAAAAAAAAAAAAAAAAAAAAAAAAAAAAAAAAAAAAAAAAAAAAAAAAAAAAAAAAAAAAAAAAAAAAAAAAAAAAAAAAAAAAAAAAAAAAAAAAAAAAAAAAAAAAAAAAAAAAAAAAAAAAAAAAAAAAAAAAAAAAAAAAAAAAAAAAAAAAAAAAAAAAAAAAAAAAAAAAAAAAAAAAAAAAAAAAAAAAAAAAAAAAAAAAAAAAAAAAAAAAAAAAAAAAAAAAAAAAAAAAAAAAAAAAAAAAAAAAAAAAAAAAAAAAAAAAAAAAAAAAAAAAAAAAAAAAAAAAAAAAAAAAAAAAAAAAAAAAAAAAAAAAAAAAAAAAAAAAAAAAAAAAAAAA=",
          "dtype": "u1",
          "shape": "28, 62"
         }
        },
        {
         "colorbar": {
          "ticktext": [
           "Outside",
           "Inside"
          ],
          "tickvals": [
           0,
           1
          ],
          "title": {
           "text": "Neuron<br>Presence"
          }
         },
         "colorscale": [
          [
           0,
           "#440154"
          ],
          [
           0.1111111111111111,
           "#482878"
          ],
          [
           0.2222222222222222,
           "#3e4989"
          ],
          [
           0.3333333333333333,
           "#31688e"
          ],
          [
           0.4444444444444444,
           "#26828e"
          ],
          [
           0.5555555555555556,
           "#1f9e89"
          ],
          [
           0.6666666666666666,
           "#35b779"
          ],
          [
           0.7777777777777778,
           "#6ece58"
          ],
          [
           0.8888888888888888,
           "#b5de2b"
          ],
          [
           1,
           "#fde725"
          ]
         ],
         "hovertemplate": "<b>X:</b> %{x:.1f} µm<br><b>Y:</b> %{y:.1f} µm<br><b>Value:</b> %{z}<br><extra></extra>",
         "name": "Z-slice 30",
         "showscale": true,
         "type": "heatmap",
         "visible": false,
         "x": {
          "bdata": "2WzfzHb4LsDBCCyxg/QtwKmkeJWQ8CzAkUDFeZ3sK8B63BFequgqwGJ4XkK35CnAShSrJsTgKMAysPcK0dwnwBpMRO/d2CbAAuiQ0+rUJcDqg92399AkwNIfKpwEzSPAurt2gBHJIsCiV8NkHsUhwIvzD0krwSDA5h65WnB6H8C2VlIjinIdwIaO6+ujahvAVsaEtL1iGcAm/h1911oXwPY1t0XxUhXAyG1QDgtLE8CYpenWJEMRwNC6BT99dg7AcCo40LBmCsAQmmph5FYGwLAJnfIXRwLAoPKeB5du/L/o0QMq/k70v1Bi0ZjKXui/oEE2uzE/0L9gQTa7MT/QPzBi0ZjKXug/2NEDKv5O9D+Y8p4Hl278P6wJnfIXRwJADJpqYeRWBkBsKjjQsGYKQMy6BT99dg5AlqXp1iRDEUDGbVAOC0sTQPI1t0XxUhVAIv4dfddaF0BSxoS0vWIZQIKO6+ujahtAslZSI4pyHUDiHrlacHofQInzD0krwSBAoVfDZB7FIUC5u3aAEckiQNEfKpwEzSNA6YPdt/fQJEAB6JDT6tQlQBlMRO/d2CZAMbD3CtHcJ0BJFKsmxOAoQF94XkK35ClAd9wRXqroKkCPQMV5newrQKekeJWQ8CxAvwgssYP0LUDZbN/MdvguQA==",
          "dtype": "f8"
         },
         "y": {
          "bdata": "AAAAAAAAHMDRXkJ7Ce0ZwKG9hPYS2hfAchzHcRzHFcBCewntJbQTwBPaS2gvoRHAyHEcx3EcD8BpL6G9hPYKwArtJbSX0AbArKqqqqqqAsCY0F5Cewn9v9xLaC+hvfS/QI7jOI7j6L+ACe0ltJfQv3AJ7SW0l9A/OI7jOI7j6D/YS2gvob30P5jQXkJ7Cf0/qKqqqqqqAkAI7SW0l9AGQGgvob2E9gpAxHEcx3EcD0AS2ktoL6ERQEJ7Ce0ltBNAcBzHcRzHFUCgvYT2EtoXQNBeQnsJ7RlAAAAAAAAAHEA=",
          "dtype": "f8"
         },
         "z": {
          "bdata": "AAAAAAAAAAAAAAAAAAAAAAAAAAAAAAAAAAAAAAAAAAAAAAAAAAAAAAAAAAAAAAAAAAAAAAAAAAAAAAAAAAAAAAAAAAAAAAAAAAAAAAAAAAAAAAAAAAAAAAAAAAAAAAAAAAAAAAAAAAAAAAAAAAAAAAAAAAAAAAAAAAAAAAAAAAAAAAAAAAAAAAAAAAAAAAAAAAAAAAAAAAAAAAAAAAAAAAAAAAAAAAAAAAAAAAAAAAAAAAAAAAAAAAAAAAAAAAAAAAAAAAAAAAAAAAAAAAAAAAAAAAAAAAAAAAAAAAAAAAAAAAAAAAAAAAAAAAAAAAAAAAAAAAAAAAAAAAAAAAAAAAAAAAAAAAAAAAAAAAAAAAAAAAAAAAAAAAAAAAAAAAAAAAAAAAAAAAAAAAAAAAAAAAAAAAAAAAAAAAAAAAAAAAAAAAAAAAAAAAAAAAAAAAAAAAAAAAAAAAAAAAAAAAAAAAAAAAAAAAAAAAAAAAAAAAAAAAAAAAAAAAAAAAAAAAAAAAAAAAAAAAAAAAAAAAAAAAABAQEBAAAAAAAAAAAAAAAAAAAAAAAAAAAAAAAAAAAAAAAAAAAAAAAAAAAAAAAAAAAAAAAAAAAAAAAAAAABAQEBAQEBAQAAAAAAAAAAAAAAAAAAAAAAAAAAAAAAAAAAAAAAAAAAAAAAAAAAAAAAAAAAAAAAAAAAAAABAQEBAQEBAQEBAQEAAAAAAAAAAAAAAAAAAAAAAAAAAAAAAAAAAAAAAAAAAAAAAAAAAAAAAAAAAAAAAAAAAAEBAQEBAQEBAQEBAQAAAAAAAAAAAAAAAAAAAAAAAAAAAAAAAAAAAAAAAAAAAAAAAAAAAAAAAAAAAAAAAAABAQEBAQEBAQEBAQEBAQAAAAAAAAAAAAAAAAAAAAAAAAAAAAAAAAAAAAAAAAAAAAAAAAAAAAAAAAAAAAAAAAEBAQEBAQEBAQEBAQEBAAAAAAAAAAAAAAAAAAAAAAAAAAAAAAAAAAAAAAAAAAAAAAAAAAAAAAAAAAAAAAABAQEBAQEBAQEBAQEBAQEBAAAAAAAAAAAAAAAAAAAAAAAAAAAAAAAAAAAAAAAAAAAAAAAAAAAAAAAAAAAAAAEBAQEBAQEBAQEBAQEBAQEAAAAAAAAAAAAAAAAAAAAAAAAAAAAAAAAAAAAAAAAAAAAAAAAAAAAAAAAAAAAAAQEBAQEBAQEBAQEBAQEBAQAAAAAAAAAAAAAAAAAAAAAAAAAAAAAAAAAAAAAAAAAAAAAAAAAAAAAAAAAAAAABAQEBAQEBAQEBAQEBAQEBAAAAAAAAAAAAAAAAAAAAAAAAAAAAAAAAAAAAAAAAAAAAAAAAAAAAAAAAAAAAAAABAQEBAQEBAQEBAQEBAQAAAAAAAAAAAAAAAAAAAAAAAAAAAAAAAAAAAAAAAAAAAAAAAAAAAAAAAAAAAAAAAAEBAQEBAQEBAQEBAQEBAAAAAAAAAAAAAAAAAAAAAAAAAAAAAAAAAAAAAAAAAAAAAAAAAAAAAAAAAAAAAAAAAAEBAQEBAQEBAQEBAQAAAAAAAAAAAAAAAAAAAAAAAAAAAAAAAAAAAAAAAAAAAAAAAAAAAAAAAAAAAAAAAAAAAQEBAQEBAQEBAQEBAAAAAAAAAAAAAAAAAAAAAAAAAAAAAAAAAAAAAAAAAAAAAAAAAAAAAAAAAAAAAAAAAAAAAAEBAQEBAQEBAAAAAAAAAAAAAAAAAAAAAAAAAAAAAAAAAAAAAAAAAAAAAAAAAAAAAAAAAAAAAAAAAAAAAAAAAAABAQEBAAAAAAAAAAAAAAAAAAAAAAAAAAAAAAAAAAAAAAAAAAAAAAAAAAAAAAAAAAAAAAAAAAAAAAAAAAAAAAAAAAAAAAAAAAAAAAAAAAAAAAAAAAAAAAAAAAAAAAAAAAAAAAAAAAAAAAAAAAAAAAAAAAAAAAAAAAAAAAAAAAAAAAAAAAAAAAAAAAAAAAAAAAAAAAAAAAAAAAAAAAAAAAAAAAAAAAAAAAAAAAAAAAAAAAAAAAAAAAAAAAAAAAAAAAAAAAAAAAAAAAAAAAAAAAAAAAAAAAAAAAAAAAAAAAAAAAAAAAAAAAAAAAAAAAAAAAAAAAAAAAAAAAAAAAAAAAAAAAAAAAAAAAAAAAAAAAAAAAAAAAAAAAAAAAAAAAAAAAAAAAAAAAAAAAAAAAAAAAAAAAAAAAAAAAAAAAAAAAAAAAAAAAAAAAAAAAAAAAAAAAAAAAAAAAAAAAAAAAAAAAAAAAAAAAAAAAAAAAAAAAAAAAAAAAAAAAAAAAAAAAAAAAAAAAAAAAAAAAAAAAAAAAAAAAAAAAA=",
          "dtype": "u1",
          "shape": "28, 62"
         }
        },
        {
         "colorbar": {
          "ticktext": [
           "Outside",
           "Inside"
          ],
          "tickvals": [
           0,
           1
          ],
          "title": {
           "text": "Neuron<br>Presence"
          }
         },
         "colorscale": [
          [
           0,
           "#440154"
          ],
          [
           0.1111111111111111,
           "#482878"
          ],
          [
           0.2222222222222222,
           "#3e4989"
          ],
          [
           0.3333333333333333,
           "#31688e"
          ],
          [
           0.4444444444444444,
           "#26828e"
          ],
          [
           0.5555555555555556,
           "#1f9e89"
          ],
          [
           0.6666666666666666,
           "#35b779"
          ],
          [
           0.7777777777777778,
           "#6ece58"
          ],
          [
           0.8888888888888888,
           "#b5de2b"
          ],
          [
           1,
           "#fde725"
          ]
         ],
         "hovertemplate": "<b>X:</b> %{x:.1f} µm<br><b>Y:</b> %{y:.1f} µm<br><b>Value:</b> %{z}<br><extra></extra>",
         "name": "Z-slice 31",
         "showscale": true,
         "type": "heatmap",
         "visible": false,
         "x": {
          "bdata": "2WzfzHb4LsDBCCyxg/QtwKmkeJWQ8CzAkUDFeZ3sK8B63BFequgqwGJ4XkK35CnAShSrJsTgKMAysPcK0dwnwBpMRO/d2CbAAuiQ0+rUJcDqg92399AkwNIfKpwEzSPAurt2gBHJIsCiV8NkHsUhwIvzD0krwSDA5h65WnB6H8C2VlIjinIdwIaO6+ujahvAVsaEtL1iGcAm/h1911oXwPY1t0XxUhXAyG1QDgtLE8CYpenWJEMRwNC6BT99dg7AcCo40LBmCsAQmmph5FYGwLAJnfIXRwLAoPKeB5du/L/o0QMq/k70v1Bi0ZjKXui/oEE2uzE/0L9gQTa7MT/QPzBi0ZjKXug/2NEDKv5O9D+Y8p4Hl278P6wJnfIXRwJADJpqYeRWBkBsKjjQsGYKQMy6BT99dg5AlqXp1iRDEUDGbVAOC0sTQPI1t0XxUhVAIv4dfddaF0BSxoS0vWIZQIKO6+ujahtAslZSI4pyHUDiHrlacHofQInzD0krwSBAoVfDZB7FIUC5u3aAEckiQNEfKpwEzSNA6YPdt/fQJEAB6JDT6tQlQBlMRO/d2CZAMbD3CtHcJ0BJFKsmxOAoQF94XkK35ClAd9wRXqroKkCPQMV5newrQKekeJWQ8CxAvwgssYP0LUDZbN/MdvguQA==",
          "dtype": "f8"
         },
         "y": {
          "bdata": "AAAAAAAAHMDRXkJ7Ce0ZwKG9hPYS2hfAchzHcRzHFcBCewntJbQTwBPaS2gvoRHAyHEcx3EcD8BpL6G9hPYKwArtJbSX0AbArKqqqqqqAsCY0F5Cewn9v9xLaC+hvfS/QI7jOI7j6L+ACe0ltJfQv3AJ7SW0l9A/OI7jOI7j6D/YS2gvob30P5jQXkJ7Cf0/qKqqqqqqAkAI7SW0l9AGQGgvob2E9gpAxHEcx3EcD0AS2ktoL6ERQEJ7Ce0ltBNAcBzHcRzHFUCgvYT2EtoXQNBeQnsJ7RlAAAAAAAAAHEA=",
          "dtype": "f8"
         },
         "z": {
          "bdata": "AAAAAAAAAAAAAAAAAAAAAAAAAAAAAAAAAAAAAAAAAAAAAAAAAAAAAAAAAAAAAAAAAAAAAAAAAAAAAAAAAAAAAAAAAAAAAAAAAAAAAAAAAAAAAAAAAAAAAAAAAAAAAAAAAAAAAAAAAAAAAAAAAAAAAAAAAAAAAAAAAAAAAAAAAAAAAAAAAAAAAAAAAAAAAAAAAAAAAAAAAAAAAAAAAAAAAAAAAAAAAAAAAAAAAAAAAAAAAAAAAAAAAAAAAAAAAAAAAAAAAAAAAAAAAAAAAAAAAAAAAAAAAAAAAAAAAAAAAAAAAAAAAAAAAAAAAAAAAAAAAAAAAAAAAAAAAAAAAAAAAAAAAAAAAAAAAAAAAAAAAAAAAAAAAAAAAAAAAAAAAAAAAAAAAAAAAAAAAAAAAAAAAAAAAAAAAAAAAAAAAAAAAAAAAAAAAAAAAAAAAAAAAAAAAAAAAAAAAAAAAAAAAAAAAAAAAAAAAAAAAAAAAAAAAAAAAAAAAAAAAAAAAAAAAAAAAAAAAAAAAAAAAAAAAAAAAAABAQEBAAAAAAAAAAAAAAAAAAAAAAAAAAAAAAAAAAAAAAAAAAAAAAAAAAAAAAAAAAAAAAAAAAAAAAAAAAABAQEBAQEBAQAAAAAAAAAAAAAAAAAAAAAAAAAAAAAAAAAAAAAAAAAAAAAAAAAAAAAAAAAAAAAAAAAAAAABAQEBAQEBAQEBAQEAAAAAAAAAAAAAAAAAAAAAAAAAAAAAAAAAAAAAAAAAAAAAAAAAAAAAAAAAAAAAAAAAAAEBAQEBAQEBAQEBAQAAAAAAAAAAAAAAAAAAAAAAAAAAAAAAAAAAAAAAAAAAAAAAAAAAAAAAAAAAAAAAAAABAQEBAQEBAQEBAQEBAQAAAAAAAAAAAAAAAAAAAAAAAAAAAAAAAAAAAAAAAAAAAAAAAAAAAAAAAAAAAAAAAAEBAQEBAQEBAQEBAQEBAAAAAAAAAAAAAAAAAAAAAAAAAAAAAAAAAAAAAAAAAAAAAAAAAAAAAAAAAAAAAAABAQEBAQEBAQEBAQEBAQEBAAAAAAAAAAAAAAAAAAAAAAAAAAAAAAAAAAAAAAAAAAAAAAAAAAAAAAAAAAAAAAEBAQEBAQEBAQEBAQEBAQEAAAAAAAAAAAAAAAAAAAAAAAAAAAAAAAAAAAAAAAAAAAAAAAAAAAAAAAAAAAAAAQEBAQEBAQEBAQEBAQEBAQAAAAAAAAAAAAAAAAAAAAAAAAAAAAAAAAAAAAAAAAAAAAAAAAAAAAAAAAAAAAABAQEBAQEBAQEBAQEBAQEBAAAAAAAAAAAAAAAAAAAAAAAAAAAAAAAAAAAAAAAAAAAAAAAAAAAAAAAAAAAAAAABAQEBAQEBAQEBAQEBAQAAAAAAAAAAAAAAAAAAAAAAAAAAAAAAAAAAAAAAAAAAAAAAAAAAAAAAAAAAAAAAAAEBAQEBAQEBAQEBAQEBAAAAAAAAAAAAAAAAAAAAAAAAAAAAAAAAAAAAAAAAAAAAAAAAAAAAAAAAAAAAAAAAAAEBAQEBAQEBAQEBAQAAAAAAAAAAAAAAAAAAAAAAAAAAAAAAAAAAAAAAAAAAAAAAAAAAAAAAAAAAAAAAAAAAAQEBAQEBAQEBAQEBAAAAAAAAAAAAAAAAAAAAAAAAAAAAAAAAAAAAAAAAAAAAAAAAAAAAAAAAAAAAAAAAAAAAAAEBAQEBAQEBAAAAAAAAAAAAAAAAAAAAAAAAAAAAAAAAAAAAAAAAAAAAAAAAAAAAAAAAAAAAAAAAAAAAAAAAAAABAQEBAAAAAAAAAAAAAAAAAAAAAAAAAAAAAAAAAAAAAAAAAAAAAAAAAAAAAAAAAAAAAAAAAAAAAAAAAAAAAAAAAAAAAAAAAAAAAAAAAAAAAAAAAAAAAAAAAAAAAAAAAAAAAAAAAAAAAAAAAAAAAAAAAAAAAAAAAAAAAAAAAAAAAAAAAAAAAAAAAAAAAAAAAAAAAAAAAAAAAAAAAAAAAAAAAAAAAAAAAAAAAAAAAAAAAAAAAAAAAAAAAAAAAAAAAAAAAAAAAAAAAAAAAAAAAAAAAAAAAAAAAAAAAAAAAAAAAAAAAAAAAAAAAAAAAAAAAAAAAAAAAAAAAAAAAAAAAAAAAAAAAAAAAAAAAAAAAAAAAAAAAAAAAAAAAAAAAAAAAAAAAAAAAAAAAAAAAAAAAAAAAAAAAAAAAAAAAAAAAAAAAAAAAAAAAAAAAAAAAAAAAAAAAAAAAAAAAAAAAAAAAAAAAAAAAAAAAAAAAAAAAAAAAAAAAAAAAAAAAAAAAAAAAAAAAAAAAAAAAAAAAAAAAAAAAAAAAAA=",
          "dtype": "u1",
          "shape": "28, 62"
         }
        },
        {
         "colorbar": {
          "ticktext": [
           "Outside",
           "Inside"
          ],
          "tickvals": [
           0,
           1
          ],
          "title": {
           "text": "Neuron<br>Presence"
          }
         },
         "colorscale": [
          [
           0,
           "#440154"
          ],
          [
           0.1111111111111111,
           "#482878"
          ],
          [
           0.2222222222222222,
           "#3e4989"
          ],
          [
           0.3333333333333333,
           "#31688e"
          ],
          [
           0.4444444444444444,
           "#26828e"
          ],
          [
           0.5555555555555556,
           "#1f9e89"
          ],
          [
           0.6666666666666666,
           "#35b779"
          ],
          [
           0.7777777777777778,
           "#6ece58"
          ],
          [
           0.8888888888888888,
           "#b5de2b"
          ],
          [
           1,
           "#fde725"
          ]
         ],
         "hovertemplate": "<b>X:</b> %{x:.1f} µm<br><b>Y:</b> %{y:.1f} µm<br><b>Value:</b> %{z}<br><extra></extra>",
         "name": "Z-slice 32",
         "showscale": true,
         "type": "heatmap",
         "visible": false,
         "x": {
          "bdata": "2WzfzHb4LsDBCCyxg/QtwKmkeJWQ8CzAkUDFeZ3sK8B63BFequgqwGJ4XkK35CnAShSrJsTgKMAysPcK0dwnwBpMRO/d2CbAAuiQ0+rUJcDqg92399AkwNIfKpwEzSPAurt2gBHJIsCiV8NkHsUhwIvzD0krwSDA5h65WnB6H8C2VlIjinIdwIaO6+ujahvAVsaEtL1iGcAm/h1911oXwPY1t0XxUhXAyG1QDgtLE8CYpenWJEMRwNC6BT99dg7AcCo40LBmCsAQmmph5FYGwLAJnfIXRwLAoPKeB5du/L/o0QMq/k70v1Bi0ZjKXui/oEE2uzE/0L9gQTa7MT/QPzBi0ZjKXug/2NEDKv5O9D+Y8p4Hl278P6wJnfIXRwJADJpqYeRWBkBsKjjQsGYKQMy6BT99dg5AlqXp1iRDEUDGbVAOC0sTQPI1t0XxUhVAIv4dfddaF0BSxoS0vWIZQIKO6+ujahtAslZSI4pyHUDiHrlacHofQInzD0krwSBAoVfDZB7FIUC5u3aAEckiQNEfKpwEzSNA6YPdt/fQJEAB6JDT6tQlQBlMRO/d2CZAMbD3CtHcJ0BJFKsmxOAoQF94XkK35ClAd9wRXqroKkCPQMV5newrQKekeJWQ8CxAvwgssYP0LUDZbN/MdvguQA==",
          "dtype": "f8"
         },
         "y": {
          "bdata": "AAAAAAAAHMDRXkJ7Ce0ZwKG9hPYS2hfAchzHcRzHFcBCewntJbQTwBPaS2gvoRHAyHEcx3EcD8BpL6G9hPYKwArtJbSX0AbArKqqqqqqAsCY0F5Cewn9v9xLaC+hvfS/QI7jOI7j6L+ACe0ltJfQv3AJ7SW0l9A/OI7jOI7j6D/YS2gvob30P5jQXkJ7Cf0/qKqqqqqqAkAI7SW0l9AGQGgvob2E9gpAxHEcx3EcD0AS2ktoL6ERQEJ7Ce0ltBNAcBzHcRzHFUCgvYT2EtoXQNBeQnsJ7RlAAAAAAAAAHEA=",
          "dtype": "f8"
         },
         "z": {
          "bdata": "AAAAAAAAAAAAAAAAAAAAAAAAAAAAAAAAAAAAAAAAAAAAAAAAAAAAAAAAAAAAAAAAAAAAAAAAAAAAAAAAAAAAAAAAAAAAAAAAAAAAAAAAAAAAAAAAAAAAAAAAAAAAAAAAAAAAAAAAAAAAAAAAAAAAAAAAAAAAAAAAAAAAAAAAAAAAAAAAAAAAAAAAAAAAAAAAAAAAAAAAAAAAAAAAAAAAAAAAAAAAAAAAAAAAAAAAAAAAAAAAAAAAAAAAAAAAAAAAAAAAAAAAAAAAAAAAAAAAAAAAAAAAAAAAAAAAAAAAAAAAAAAAAAAAAAAAAAAAAAAAAAAAAAAAAAAAAAAAAAAAAAAAAAAAAAAAAAAAAAAAAAAAAAAAAAAAAAAAAAAAAAAAAAAAAAAAAAAAAAAAAAAAAAAAAAAAAAAAAAAAAAAAAAAAAAAAAAAAAAAAAAAAAAAAAAAAAAAAAAAAAAAAAAAAAAAAAAAAAAAAAAAAAAAAAAAAAAAAAAAAAAAAAAAAAAAAAAAAAAAAAAAAAAAAAAAAAAABAQEBAAAAAAAAAAAAAAAAAAAAAAAAAAAAAAAAAAAAAAAAAAAAAAAAAAAAAAAAAAAAAAAAAAAAAAAAAAABAQEBAQEBAQAAAAAAAAAAAAAAAAAAAAAAAAAAAAAAAAAAAAAAAAAAAAAAAAAAAAAAAAAAAAAAAAAAAAABAQEBAQEBAQEBAQEAAAAAAAAAAAAAAAAAAAAAAAAAAAAAAAAAAAAAAAAAAAAAAAAAAAAAAAAAAAAAAAAAAAEBAQEBAQEBAQEBAQAAAAAAAAAAAAAAAAAAAAAAAAAAAAAAAAAAAAAAAAAAAAAAAAAAAAAAAAAAAAAAAAABAQEBAQEBAQEBAQEBAQAAAAAAAAAAAAAAAAAAAAAAAAAAAAAAAAAAAAAAAAAAAAAAAAAAAAAAAAAAAAAAAAEBAQEBAQEBAQEBAQEBAAAAAAAAAAAAAAAAAAAAAAAAAAAAAAAAAAAAAAAAAAAAAAAAAAAAAAAAAAAAAAABAQEBAQEBAQEBAQEBAQEBAAAAAAAAAAAAAAAAAAAAAAAAAAAAAAAAAAAAAAAAAAAAAAAAAAAAAAAAAAAAAAEBAQEBAQEBAQEBAQEBAQEAAAAAAAAAAAAAAAAAAAAAAAAAAAAAAAAAAAAAAAAAAAAAAAAAAAAAAAAAAAAAAQEBAQEBAQEBAQEBAQEBAQAAAAAAAAAAAAAAAAAAAAAAAAAAAAAAAAAAAAAAAAAAAAAAAAAAAAAAAAAAAAABAQEBAQEBAQEBAQEBAQEBAAAAAAAAAAAAAAAAAAAAAAAAAAAAAAAAAAAAAAAAAAAAAAAAAAAAAAAAAAAAAAABAQEBAQEBAQEBAQEBAQAAAAAAAAAAAAAAAAAAAAAAAAAAAAAAAAAAAAAAAAAAAAAAAAAAAAAAAAAAAAAAAAEBAQEBAQEBAQEBAQEBAAAAAAAAAAAAAAAAAAAAAAAAAAAAAAAAAAAAAAAAAAAAAAAAAAAAAAAAAAAAAAAAAAEBAQEBAQEBAQEBAQAAAAAAAAAAAAAAAAAAAAAAAAAAAAAAAAAAAAAAAAAAAAAAAAAAAAAAAAAAAAAAAAAAAQEBAQEBAQEBAQEBAAAAAAAAAAAAAAAAAAAAAAAAAAAAAAAAAAAAAAAAAAAAAAAAAAAAAAAAAAAAAAAAAAAAAAEBAQEBAQEBAAAAAAAAAAAAAAAAAAAAAAAAAAAAAAAAAAAAAAAAAAAAAAAAAAAAAAAAAAAAAAAAAAAAAAAAAAABAQEBAAAAAAAAAAAAAAAAAAAAAAAAAAAAAAAAAAAAAAAAAAAAAAAAAAAAAAAAAAAAAAAAAAAAAAAAAAAAAAAAAAAAAAAAAAAAAAAAAAAAAAAAAAAAAAAAAAAAAAAAAAAAAAAAAAAAAAAAAAAAAAAAAAAAAAAAAAAAAAAAAAAAAAAAAAAAAAAAAAAAAAAAAAAAAAAAAAAAAAAAAAAAAAAAAAAAAAAAAAAAAAAAAAAAAAAAAAAAAAAAAAAAAAAAAAAAAAAAAAAAAAAAAAAAAAAAAAAAAAAAAAAAAAAAAAAAAAAAAAAAAAAAAAAAAAAAAAAAAAAAAAAAAAAAAAAAAAAAAAAAAAAAAAAAAAAAAAAAAAAAAAAAAAAAAAAAAAAAAAAAAAAAAAAAAAAAAAAAAAAAAAAAAAAAAAAAAAAAAAAAAAAAAAAAAAAAAAAAAAAAAAAAAAAAAAAAAAAAAAAAAAAAAAAAAAAAAAAAAAAAAAAAAAAAAAAAAAAAAAAAAAAAAAAAAAAAAAAAAAAAAAAAAAAAAAAAAAA=",
          "dtype": "u1",
          "shape": "28, 62"
         }
        },
        {
         "colorbar": {
          "ticktext": [
           "Outside",
           "Inside"
          ],
          "tickvals": [
           0,
           1
          ],
          "title": {
           "text": "Neuron<br>Presence"
          }
         },
         "colorscale": [
          [
           0,
           "#440154"
          ],
          [
           0.1111111111111111,
           "#482878"
          ],
          [
           0.2222222222222222,
           "#3e4989"
          ],
          [
           0.3333333333333333,
           "#31688e"
          ],
          [
           0.4444444444444444,
           "#26828e"
          ],
          [
           0.5555555555555556,
           "#1f9e89"
          ],
          [
           0.6666666666666666,
           "#35b779"
          ],
          [
           0.7777777777777778,
           "#6ece58"
          ],
          [
           0.8888888888888888,
           "#b5de2b"
          ],
          [
           1,
           "#fde725"
          ]
         ],
         "hovertemplate": "<b>X:</b> %{x:.1f} µm<br><b>Y:</b> %{y:.1f} µm<br><b>Value:</b> %{z}<br><extra></extra>",
         "name": "Z-slice 33",
         "showscale": true,
         "type": "heatmap",
         "visible": false,
         "x": {
          "bdata": "2WzfzHb4LsDBCCyxg/QtwKmkeJWQ8CzAkUDFeZ3sK8B63BFequgqwGJ4XkK35CnAShSrJsTgKMAysPcK0dwnwBpMRO/d2CbAAuiQ0+rUJcDqg92399AkwNIfKpwEzSPAurt2gBHJIsCiV8NkHsUhwIvzD0krwSDA5h65WnB6H8C2VlIjinIdwIaO6+ujahvAVsaEtL1iGcAm/h1911oXwPY1t0XxUhXAyG1QDgtLE8CYpenWJEMRwNC6BT99dg7AcCo40LBmCsAQmmph5FYGwLAJnfIXRwLAoPKeB5du/L/o0QMq/k70v1Bi0ZjKXui/oEE2uzE/0L9gQTa7MT/QPzBi0ZjKXug/2NEDKv5O9D+Y8p4Hl278P6wJnfIXRwJADJpqYeRWBkBsKjjQsGYKQMy6BT99dg5AlqXp1iRDEUDGbVAOC0sTQPI1t0XxUhVAIv4dfddaF0BSxoS0vWIZQIKO6+ujahtAslZSI4pyHUDiHrlacHofQInzD0krwSBAoVfDZB7FIUC5u3aAEckiQNEfKpwEzSNA6YPdt/fQJEAB6JDT6tQlQBlMRO/d2CZAMbD3CtHcJ0BJFKsmxOAoQF94XkK35ClAd9wRXqroKkCPQMV5newrQKekeJWQ8CxAvwgssYP0LUDZbN/MdvguQA==",
          "dtype": "f8"
         },
         "y": {
          "bdata": "AAAAAAAAHMDRXkJ7Ce0ZwKG9hPYS2hfAchzHcRzHFcBCewntJbQTwBPaS2gvoRHAyHEcx3EcD8BpL6G9hPYKwArtJbSX0AbArKqqqqqqAsCY0F5Cewn9v9xLaC+hvfS/QI7jOI7j6L+ACe0ltJfQv3AJ7SW0l9A/OI7jOI7j6D/YS2gvob30P5jQXkJ7Cf0/qKqqqqqqAkAI7SW0l9AGQGgvob2E9gpAxHEcx3EcD0AS2ktoL6ERQEJ7Ce0ltBNAcBzHcRzHFUCgvYT2EtoXQNBeQnsJ7RlAAAAAAAAAHEA=",
          "dtype": "f8"
         },
         "z": {
          "bdata": "AAAAAAAAAAAAAAAAAAAAAAAAAAAAAAAAAAAAAAAAAAAAAAAAAAAAAAAAAAAAAAAAAAAAAAAAAAAAAAAAAAAAAAAAAAAAAAAAAAAAAAAAAAAAAAAAAAAAAAAAAAAAAAAAAAAAAAAAAAAAAAAAAAAAAAAAAAAAAAAAAAAAAAAAAAAAAAAAAAAAAAAAAAAAAAAAAAAAAAAAAAAAAAAAAAAAAAAAAAAAAAAAAAAAAAAAAAAAAAAAAAAAAAAAAAAAAAAAAAAAAAAAAAAAAAAAAAAAAAAAAAAAAAAAAAAAAAAAAAAAAAAAAAAAAAAAAAAAAAAAAAAAAAAAAAAAAAAAAAAAAAAAAAAAAAAAAAAAAAAAAAAAAAAAAAAAAAAAAAAAAAAAAAAAAAAAAAAAAAAAAAAAAAAAAAAAAAAAAAAAAAAAAAAAAAAAAAAAAAAAAAAAAAAAAAAAAAAAAAAAAAAAAAAAAAAAAAAAAAAAAAAAAAAAAAAAAAAAAAAAAAAAAAAAAAAAAAAAAAAAAAAAAAAAAAAAAAABAQEBAAAAAAAAAAAAAAAAAAAAAAAAAAAAAAAAAAAAAAAAAAAAAAAAAAAAAAAAAAAAAAAAAAAAAAAAAAABAQEBAQEBAQAAAAAAAAAAAAAAAAAAAAAAAAAAAAAAAAAAAAAAAAAAAAAAAAAAAAAAAAAAAAAAAAAAAAABAQEBAQEBAQEBAQEAAAAAAAAAAAAAAAAAAAAAAAAAAAAAAAAAAAAAAAAAAAAAAAAAAAAAAAAAAAAAAAAAAAEBAQEBAQEBAQEBAQAAAAAAAAAAAAAAAAAAAAAAAAAAAAAAAAAAAAAAAAAAAAAAAAAAAAAAAAAAAAAAAAABAQEBAQEBAQEBAQEBAQAAAAAAAAAAAAAAAAAAAAAAAAAAAAAAAAAAAAAAAAAAAAAAAAAAAAAAAAAAAAAAAAEBAQEBAQEBAQEBAQEBAAAAAAAAAAAAAAAAAAAAAAAAAAAAAAAAAAAAAAAAAAAAAAAAAAAAAAAAAAAAAAABAQEBAQEBAQEBAQEBAQEBAAAAAAAAAAAAAAAAAAAAAAAAAAAAAAAAAAAAAAAAAAAAAAAAAAAAAAAAAAAAAAEBAQEBAQEBAQEBAQEBAQEAAAAAAAAAAAAAAAAAAAAAAAAAAAAAAAAAAAAAAAAAAAAAAAAAAAAAAAAAAAAAAQEBAQEBAQEBAQEBAQEBAQAAAAAAAAAAAAAAAAAAAAAAAAAAAAAAAAAAAAAAAAAAAAAAAAAAAAAAAAAAAAABAQEBAQEBAQEBAQEBAQEBAAAAAAAAAAAAAAAAAAAAAAAAAAAAAAAAAAAAAAAAAAAAAAAAAAAAAAAAAAAAAAABAQEBAQEBAQEBAQEBAQAAAAAAAAAAAAAAAAAAAAAAAAAAAAAAAAAAAAAAAAAAAAAAAAAAAAAAAAAAAAAAAAEBAQEBAQEBAQEBAQEBAAAAAAAAAAAAAAAAAAAAAAAAAAAAAAAAAAAAAAAAAAAAAAAAAAAAAAAAAAAAAAAAAAEBAQEBAQEBAQEBAQAAAAAAAAAAAAAAAAAAAAAAAAAAAAAAAAAAAAAAAAAAAAAAAAAAAAAAAAAAAAAAAAAAAQEBAQEBAQEBAQEBAAAAAAAAAAAAAAAAAAAAAAAAAAAAAAAAAAAAAAAAAAAAAAAAAAAAAAAAAAAAAAAAAAAAAAEBAQEBAQEBAAAAAAAAAAAAAAAAAAAAAAAAAAAAAAAAAAAAAAAAAAAAAAAAAAAAAAAAAAAAAAAAAAAAAAAAAAABAQEBAAAAAAAAAAAAAAAAAAAAAAAAAAAAAAAAAAAAAAAAAAAAAAAAAAAAAAAAAAAAAAAAAAAAAAAAAAAAAAAAAAAAAAAAAAAAAAAAAAAAAAAAAAAAAAAAAAAAAAAAAAAAAAAAAAAAAAAAAAAAAAAAAAAAAAAAAAAAAAAAAAAAAAAAAAAAAAAAAAAAAAAAAAAAAAAAAAAAAAAAAAAAAAAAAAAAAAAAAAAAAAAAAAAAAAAAAAAAAAAAAAAAAAAAAAAAAAAAAAAAAAAAAAAAAAAAAAAAAAAAAAAAAAAAAAAAAAAAAAAAAAAAAAAAAAAAAAAAAAAAAAAAAAAAAAAAAAAAAAAAAAAAAAAAAAAAAAAAAAAAAAAAAAAAAAAAAAAAAAAAAAAAAAAAAAAAAAAAAAAAAAAAAAAAAAAAAAAAAAAAAAAAAAAAAAAAAAAAAAAAAAAAAAAAAAAAAAAAAAAAAAAAAAAAAAAAAAAAAAAAAAAAAAAAAAAAAAAAAAAAAAAAAAAAAAAAAAAAAAAAAAAAAAAAAAAAAAA=",
          "dtype": "u1",
          "shape": "28, 62"
         }
        },
        {
         "colorbar": {
          "ticktext": [
           "Outside",
           "Inside"
          ],
          "tickvals": [
           0,
           1
          ],
          "title": {
           "text": "Neuron<br>Presence"
          }
         },
         "colorscale": [
          [
           0,
           "#440154"
          ],
          [
           0.1111111111111111,
           "#482878"
          ],
          [
           0.2222222222222222,
           "#3e4989"
          ],
          [
           0.3333333333333333,
           "#31688e"
          ],
          [
           0.4444444444444444,
           "#26828e"
          ],
          [
           0.5555555555555556,
           "#1f9e89"
          ],
          [
           0.6666666666666666,
           "#35b779"
          ],
          [
           0.7777777777777778,
           "#6ece58"
          ],
          [
           0.8888888888888888,
           "#b5de2b"
          ],
          [
           1,
           "#fde725"
          ]
         ],
         "hovertemplate": "<b>X:</b> %{x:.1f} µm<br><b>Y:</b> %{y:.1f} µm<br><b>Value:</b> %{z}<br><extra></extra>",
         "name": "Z-slice 34",
         "showscale": true,
         "type": "heatmap",
         "visible": false,
         "x": {
          "bdata": "2WzfzHb4LsDBCCyxg/QtwKmkeJWQ8CzAkUDFeZ3sK8B63BFequgqwGJ4XkK35CnAShSrJsTgKMAysPcK0dwnwBpMRO/d2CbAAuiQ0+rUJcDqg92399AkwNIfKpwEzSPAurt2gBHJIsCiV8NkHsUhwIvzD0krwSDA5h65WnB6H8C2VlIjinIdwIaO6+ujahvAVsaEtL1iGcAm/h1911oXwPY1t0XxUhXAyG1QDgtLE8CYpenWJEMRwNC6BT99dg7AcCo40LBmCsAQmmph5FYGwLAJnfIXRwLAoPKeB5du/L/o0QMq/k70v1Bi0ZjKXui/oEE2uzE/0L9gQTa7MT/QPzBi0ZjKXug/2NEDKv5O9D+Y8p4Hl278P6wJnfIXRwJADJpqYeRWBkBsKjjQsGYKQMy6BT99dg5AlqXp1iRDEUDGbVAOC0sTQPI1t0XxUhVAIv4dfddaF0BSxoS0vWIZQIKO6+ujahtAslZSI4pyHUDiHrlacHofQInzD0krwSBAoVfDZB7FIUC5u3aAEckiQNEfKpwEzSNA6YPdt/fQJEAB6JDT6tQlQBlMRO/d2CZAMbD3CtHcJ0BJFKsmxOAoQF94XkK35ClAd9wRXqroKkCPQMV5newrQKekeJWQ8CxAvwgssYP0LUDZbN/MdvguQA==",
          "dtype": "f8"
         },
         "y": {
          "bdata": "AAAAAAAAHMDRXkJ7Ce0ZwKG9hPYS2hfAchzHcRzHFcBCewntJbQTwBPaS2gvoRHAyHEcx3EcD8BpL6G9hPYKwArtJbSX0AbArKqqqqqqAsCY0F5Cewn9v9xLaC+hvfS/QI7jOI7j6L+ACe0ltJfQv3AJ7SW0l9A/OI7jOI7j6D/YS2gvob30P5jQXkJ7Cf0/qKqqqqqqAkAI7SW0l9AGQGgvob2E9gpAxHEcx3EcD0AS2ktoL6ERQEJ7Ce0ltBNAcBzHcRzHFUCgvYT2EtoXQNBeQnsJ7RlAAAAAAAAAHEA=",
          "dtype": "f8"
         },
         "z": {
          "bdata": "AAAAAAAAAAAAAAAAAAAAAAAAAAAAAAAAAAAAAAAAAAAAAAAAAAAAAAAAAAAAAAAAAAAAAAAAAAAAAAAAAAAAAAAAAAAAAAAAAAAAAAAAAAAAAAAAAAAAAAAAAAAAAAAAAAAAAAAAAAAAAAAAAAAAAAAAAAAAAAAAAAAAAAAAAAAAAAAAAAAAAAAAAAAAAAAAAAAAAAAAAAAAAAAAAAAAAAAAAAAAAAAAAAAAAAAAAAAAAAAAAAAAAAAAAAAAAAAAAAAAAAAAAAAAAAAAAAAAAAAAAAAAAAAAAAAAAAAAAAAAAAAAAAAAAAAAAAAAAAAAAAAAAAAAAAAAAAAAAAAAAAAAAAAAAAAAAAAAAAAAAAAAAAAAAAAAAAAAAAAAAAAAAAAAAAAAAAAAAAAAAAAAAAAAAAAAAAAAAAAAAAAAAAAAAAAAAAAAAAAAAAAAAAAAAAAAAAAAAAAAAAAAAAAAAAAAAAAAAAAAAAAAAAAAAAAAAAAAAAAAAAAAAAAAAAAAAAAAAAAAAAAAAAAAAAAAAAABAQEBAAAAAAAAAAAAAAAAAAAAAAAAAAAAAAAAAAAAAAAAAAAAAAAAAAAAAAAAAAAAAAAAAAAAAAAAAAABAQEBAQEBAQAAAAAAAAAAAAAAAAAAAAAAAAAAAAAAAAAAAAAAAAAAAAAAAAAAAAAAAAAAAAAAAAAAAAABAQEBAQEBAQEBAQEAAAAAAAAAAAAAAAAAAAAAAAAAAAAAAAAAAAAAAAAAAAAAAAAAAAAAAAAAAAAAAAAAAAEBAQEBAQEBAQEBAQAAAAAAAAAAAAAAAAAAAAAAAAAAAAAAAAAAAAAAAAAAAAAAAAAAAAAAAAAAAAAAAAABAQEBAQEBAQEBAQEBAQAAAAAAAAAAAAAAAAAAAAAAAAAAAAAAAAAAAAAAAAAAAAAAAAAAAAAAAAAAAAAAAAEBAQEBAQEBAQEBAQEBAAAAAAAAAAAAAAAAAAAAAAAAAAAAAAAAAAAAAAAAAAAAAAAAAAAAAAAAAAAAAAABAQEBAQEBAQEBAQEBAQEBAAAAAAAAAAAAAAAAAAAAAAAAAAAAAAAAAAAAAAAAAAAAAAAAAAAAAAAAAAAAAAEBAQEBAQEBAQEBAQEBAQEAAAAAAAAAAAAAAAAAAAAAAAAAAAAAAAAAAAAAAAAAAAAAAAAAAAAAAAAAAAAAAQEBAQEBAQEBAQEBAQEBAQAAAAAAAAAAAAAAAAAAAAAAAAAAAAAAAAAAAAAAAAAAAAAAAAAAAAAAAAAAAAABAQEBAQEBAQEBAQEBAQEBAAAAAAAAAAAAAAAAAAAAAAAAAAAAAAAAAAAAAAAAAAAAAAAAAAAAAAAAAAAAAAABAQEBAQEBAQEBAQEBAQAAAAAAAAAAAAAAAAAAAAAAAAAAAAAAAAAAAAAAAAAAAAAAAAAAAAAAAAAAAAAAAAEBAQEBAQEBAQEBAQEBAAAAAAAAAAAAAAAAAAAAAAAAAAAAAAAAAAAAAAAAAAAAAAAAAAAAAAAAAAAAAAAAAAEBAQEBAQEBAQEBAQAAAAAAAAAAAAAAAAAAAAAAAAAAAAAAAAAAAAAAAAAAAAAAAAAAAAAAAAAAAAAAAAAAAQEBAQEBAQEBAQEBAAAAAAAAAAAAAAAAAAAAAAAAAAAAAAAAAAAAAAAAAAAAAAAAAAAAAAAAAAAAAAAAAAAAAAEBAQEBAQEBAAAAAAAAAAAAAAAAAAAAAAAAAAAAAAAAAAAAAAAAAAAAAAAAAAAAAAAAAAAAAAAAAAAAAAAAAAABAQEBAAAAAAAAAAAAAAAAAAAAAAAAAAAAAAAAAAAAAAAAAAAAAAAAAAAAAAAAAAAAAAAAAAAAAAAAAAAAAAAAAAAAAAAAAAAAAAAAAAAAAAAAAAAAAAAAAAAAAAAAAAAAAAAAAAAAAAAAAAAAAAAAAAAAAAAAAAAAAAAAAAAAAAAAAAAAAAAAAAAAAAAAAAAAAAAAAAAAAAAAAAAAAAAAAAAAAAAAAAAAAAAAAAAAAAAAAAAAAAAAAAAAAAAAAAAAAAAAAAAAAAAAAAAAAAAAAAAAAAAAAAAAAAAAAAAAAAAAAAAAAAAAAAAAAAAAAAAAAAAAAAAAAAAAAAAAAAAAAAAAAAAAAAAAAAAAAAAAAAAAAAAAAAAAAAAAAAAAAAAAAAAAAAAAAAAAAAAAAAAAAAAAAAAAAAAAAAAAAAAAAAAAAAAAAAAAAAAAAAAAAAAAAAAAAAAAAAAAAAAAAAAAAAAAAAAAAAAAAAAAAAAAAAAAAAAAAAAAAAAAAAAAAAAAAAAAAAAAAAAAAAAAAAAAAAAAAAA=",
          "dtype": "u1",
          "shape": "28, 62"
         }
        },
        {
         "colorbar": {
          "ticktext": [
           "Outside",
           "Inside"
          ],
          "tickvals": [
           0,
           1
          ],
          "title": {
           "text": "Neuron<br>Presence"
          }
         },
         "colorscale": [
          [
           0,
           "#440154"
          ],
          [
           0.1111111111111111,
           "#482878"
          ],
          [
           0.2222222222222222,
           "#3e4989"
          ],
          [
           0.3333333333333333,
           "#31688e"
          ],
          [
           0.4444444444444444,
           "#26828e"
          ],
          [
           0.5555555555555556,
           "#1f9e89"
          ],
          [
           0.6666666666666666,
           "#35b779"
          ],
          [
           0.7777777777777778,
           "#6ece58"
          ],
          [
           0.8888888888888888,
           "#b5de2b"
          ],
          [
           1,
           "#fde725"
          ]
         ],
         "hovertemplate": "<b>X:</b> %{x:.1f} µm<br><b>Y:</b> %{y:.1f} µm<br><b>Value:</b> %{z}<br><extra></extra>",
         "name": "Z-slice 35",
         "showscale": true,
         "type": "heatmap",
         "visible": false,
         "x": {
          "bdata": "2WzfzHb4LsDBCCyxg/QtwKmkeJWQ8CzAkUDFeZ3sK8B63BFequgqwGJ4XkK35CnAShSrJsTgKMAysPcK0dwnwBpMRO/d2CbAAuiQ0+rUJcDqg92399AkwNIfKpwEzSPAurt2gBHJIsCiV8NkHsUhwIvzD0krwSDA5h65WnB6H8C2VlIjinIdwIaO6+ujahvAVsaEtL1iGcAm/h1911oXwPY1t0XxUhXAyG1QDgtLE8CYpenWJEMRwNC6BT99dg7AcCo40LBmCsAQmmph5FYGwLAJnfIXRwLAoPKeB5du/L/o0QMq/k70v1Bi0ZjKXui/oEE2uzE/0L9gQTa7MT/QPzBi0ZjKXug/2NEDKv5O9D+Y8p4Hl278P6wJnfIXRwJADJpqYeRWBkBsKjjQsGYKQMy6BT99dg5AlqXp1iRDEUDGbVAOC0sTQPI1t0XxUhVAIv4dfddaF0BSxoS0vWIZQIKO6+ujahtAslZSI4pyHUDiHrlacHofQInzD0krwSBAoVfDZB7FIUC5u3aAEckiQNEfKpwEzSNA6YPdt/fQJEAB6JDT6tQlQBlMRO/d2CZAMbD3CtHcJ0BJFKsmxOAoQF94XkK35ClAd9wRXqroKkCPQMV5newrQKekeJWQ8CxAvwgssYP0LUDZbN/MdvguQA==",
          "dtype": "f8"
         },
         "y": {
          "bdata": "AAAAAAAAHMDRXkJ7Ce0ZwKG9hPYS2hfAchzHcRzHFcBCewntJbQTwBPaS2gvoRHAyHEcx3EcD8BpL6G9hPYKwArtJbSX0AbArKqqqqqqAsCY0F5Cewn9v9xLaC+hvfS/QI7jOI7j6L+ACe0ltJfQv3AJ7SW0l9A/OI7jOI7j6D/YS2gvob30P5jQXkJ7Cf0/qKqqqqqqAkAI7SW0l9AGQGgvob2E9gpAxHEcx3EcD0AS2ktoL6ERQEJ7Ce0ltBNAcBzHcRzHFUCgvYT2EtoXQNBeQnsJ7RlAAAAAAAAAHEA=",
          "dtype": "f8"
         },
         "z": {
          "bdata": "AAAAAAAAAAAAAAAAAAAAAAAAAAAAAAAAAAAAAAAAAAAAAAAAAAAAAAAAAAAAAAAAAAAAAAAAAAAAAAAAAAAAAAAAAAAAAAAAAAAAAAAAAAAAAAAAAAAAAAAAAAAAAAAAAAAAAAAAAAAAAAAAAAAAAAAAAAAAAAAAAAAAAAAAAAAAAAAAAAAAAAAAAAAAAAAAAAAAAAAAAAAAAAAAAAAAAAAAAAAAAAAAAAAAAAAAAAAAAAAAAAAAAAAAAAAAAAAAAAAAAAAAAAAAAAAAAAAAAAAAAAAAAAAAAAAAAAAAAAAAAAAAAAAAAAAAAAAAAAAAAAAAAAAAAAAAAAAAAAAAAAAAAAAAAAAAAAAAAAAAAAAAAAAAAAAAAAAAAAAAAAAAAAAAAAAAAAAAAAAAAAAAAAAAAAAAAAAAAAAAAAAAAAAAAAAAAAAAAAAAAAAAAAAAAAAAAAAAAAAAAAAAAAAAAAAAAAAAAAAAAAAAAAAAAAAAAAAAAAAAAAAAAAAAAAAAAAAAAAAAAAAAAAAAAAAAAAABAQEBAAAAAAAAAAAAAAAAAAAAAAAAAAAAAAAAAAAAAAAAAAAAAAAAAAAAAAAAAAAAAAAAAAAAAAAAAAABAQEBAQEBAQAAAAAAAAAAAAAAAAAAAAAAAAAAAAAAAAAAAAAAAAAAAAAAAAAAAAAAAAAAAAAAAAAAAAABAQEBAQEBAQEBAQEAAAAAAAAAAAAAAAAAAAAAAAAAAAAAAAAAAAAAAAAAAAAAAAAAAAAAAAAAAAAAAAAAAAEBAQEBAQEBAQEBAQAAAAAAAAAAAAAAAAAAAAAAAAAAAAAAAAAAAAAAAAAAAAAAAAAAAAAAAAAAAAAAAAABAQEBAQEBAQEBAQEBAQAAAAAAAAAAAAAAAAAAAAAAAAAAAAAAAAAAAAAAAAAAAAAAAAAAAAAAAAAAAAAAAAEBAQEBAQEBAQEBAQEBAAAAAAAAAAAAAAAAAAAAAAAAAAAAAAAAAAAAAAAAAAAAAAAAAAAAAAAAAAAAAAABAQEBAQEBAQEBAQEBAQEBAAAAAAAAAAAAAAAAAAAAAAAAAAAAAAAAAAAAAAAAAAAAAAAAAAAAAAAAAAAAAAEBAQEBAQEBAQEBAQEBAQEAAAAAAAAAAAAAAAAAAAAAAAAAAAAAAAAAAAAAAAAAAAAAAAAAAAAAAAAAAAAAAQEBAQEBAQEBAQEBAQEBAQAAAAAAAAAAAAAAAAAAAAAAAAAAAAAAAAAAAAAAAAAAAAAAAAAAAAAAAAAAAAABAQEBAQEBAQEBAQEBAQEBAAAAAAAAAAAAAAAAAAAAAAAAAAAAAAAAAAAAAAAAAAAAAAAAAAAAAAAAAAAAAAABAQEBAQEBAQEBAQEBAQAAAAAAAAAAAAAAAAAAAAAAAAAAAAAAAAAAAAAAAAAAAAAAAAAAAAAAAAAAAAAAAAEBAQEBAQEBAQEBAQEBAAAAAAAAAAAAAAAAAAAAAAAAAAAAAAAAAAAAAAAAAAAAAAAAAAAAAAAAAAAAAAAAAAEBAQEBAQEBAQEBAQAAAAAAAAAAAAAAAAAAAAAAAAAAAAAAAAAAAAAAAAAAAAAAAAAAAAAAAAAAAAAAAAAAAQEBAQEBAQEBAQEBAAAAAAAAAAAAAAAAAAAAAAAAAAAAAAAAAAAAAAAAAAAAAAAAAAAAAAAAAAAAAAAAAAAAAAEBAQEBAQEBAAAAAAAAAAAAAAAAAAAAAAAAAAAAAAAAAAAAAAAAAAAAAAAAAAAAAAAAAAAAAAAAAAAAAAAAAAABAQEBAAAAAAAAAAAAAAAAAAAAAAAAAAAAAAAAAAAAAAAAAAAAAAAAAAAAAAAAAAAAAAAAAAAAAAAAAAAAAAAAAAAAAAAAAAAAAAAAAAAAAAAAAAAAAAAAAAAAAAAAAAAAAAAAAAAAAAAAAAAAAAAAAAAAAAAAAAAAAAAAAAAAAAAAAAAAAAAAAAAAAAAAAAAAAAAAAAAAAAAAAAAAAAAAAAAAAAAAAAAAAAAAAAAAAAAAAAAAAAAAAAAAAAAAAAAAAAAAAAAAAAAAAAAAAAAAAAAAAAAAAAAAAAAAAAAAAAAAAAAAAAAAAAAAAAAAAAAAAAAAAAAAAAAAAAAAAAAAAAAAAAAAAAAAAAAAAAAAAAAAAAAAAAAAAAAAAAAAAAAAAAAAAAAAAAAAAAAAAAAAAAAAAAAAAAAAAAAAAAAAAAAAAAAAAAAAAAAAAAAAAAAAAAAAAAAAAAAAAAAAAAAAAAAAAAAAAAAAAAAAAAAAAAAAAAAAAAAAAAAAAAAAAAAAAAAAAAAAAAAAAAAAAAAAAAAAAAA=",
          "dtype": "u1",
          "shape": "28, 62"
         }
        },
        {
         "colorbar": {
          "ticktext": [
           "Outside",
           "Inside"
          ],
          "tickvals": [
           0,
           1
          ],
          "title": {
           "text": "Neuron<br>Presence"
          }
         },
         "colorscale": [
          [
           0,
           "#440154"
          ],
          [
           0.1111111111111111,
           "#482878"
          ],
          [
           0.2222222222222222,
           "#3e4989"
          ],
          [
           0.3333333333333333,
           "#31688e"
          ],
          [
           0.4444444444444444,
           "#26828e"
          ],
          [
           0.5555555555555556,
           "#1f9e89"
          ],
          [
           0.6666666666666666,
           "#35b779"
          ],
          [
           0.7777777777777778,
           "#6ece58"
          ],
          [
           0.8888888888888888,
           "#b5de2b"
          ],
          [
           1,
           "#fde725"
          ]
         ],
         "hovertemplate": "<b>X:</b> %{x:.1f} µm<br><b>Y:</b> %{y:.1f} µm<br><b>Value:</b> %{z}<br><extra></extra>",
         "name": "Z-slice 36",
         "showscale": true,
         "type": "heatmap",
         "visible": false,
         "x": {
          "bdata": "2WzfzHb4LsDBCCyxg/QtwKmkeJWQ8CzAkUDFeZ3sK8B63BFequgqwGJ4XkK35CnAShSrJsTgKMAysPcK0dwnwBpMRO/d2CbAAuiQ0+rUJcDqg92399AkwNIfKpwEzSPAurt2gBHJIsCiV8NkHsUhwIvzD0krwSDA5h65WnB6H8C2VlIjinIdwIaO6+ujahvAVsaEtL1iGcAm/h1911oXwPY1t0XxUhXAyG1QDgtLE8CYpenWJEMRwNC6BT99dg7AcCo40LBmCsAQmmph5FYGwLAJnfIXRwLAoPKeB5du/L/o0QMq/k70v1Bi0ZjKXui/oEE2uzE/0L9gQTa7MT/QPzBi0ZjKXug/2NEDKv5O9D+Y8p4Hl278P6wJnfIXRwJADJpqYeRWBkBsKjjQsGYKQMy6BT99dg5AlqXp1iRDEUDGbVAOC0sTQPI1t0XxUhVAIv4dfddaF0BSxoS0vWIZQIKO6+ujahtAslZSI4pyHUDiHrlacHofQInzD0krwSBAoVfDZB7FIUC5u3aAEckiQNEfKpwEzSNA6YPdt/fQJEAB6JDT6tQlQBlMRO/d2CZAMbD3CtHcJ0BJFKsmxOAoQF94XkK35ClAd9wRXqroKkCPQMV5newrQKekeJWQ8CxAvwgssYP0LUDZbN/MdvguQA==",
          "dtype": "f8"
         },
         "y": {
          "bdata": "AAAAAAAAHMDRXkJ7Ce0ZwKG9hPYS2hfAchzHcRzHFcBCewntJbQTwBPaS2gvoRHAyHEcx3EcD8BpL6G9hPYKwArtJbSX0AbArKqqqqqqAsCY0F5Cewn9v9xLaC+hvfS/QI7jOI7j6L+ACe0ltJfQv3AJ7SW0l9A/OI7jOI7j6D/YS2gvob30P5jQXkJ7Cf0/qKqqqqqqAkAI7SW0l9AGQGgvob2E9gpAxHEcx3EcD0AS2ktoL6ERQEJ7Ce0ltBNAcBzHcRzHFUCgvYT2EtoXQNBeQnsJ7RlAAAAAAAAAHEA=",
          "dtype": "f8"
         },
         "z": {
          "bdata": "AAAAAAAAAAAAAAAAAAAAAAAAAAAAAAAAAAAAAAAAAAAAAAAAAAAAAAAAAAAAAAAAAAAAAAAAAAAAAAAAAAAAAAAAAAAAAAAAAAAAAAAAAAAAAAAAAAAAAAAAAAAAAAAAAAAAAAAAAAAAAAAAAAAAAAAAAAAAAAAAAAAAAAAAAAAAAAAAAAAAAAAAAAAAAAAAAAAAAAAAAAAAAAAAAAAAAAAAAAAAAAAAAAAAAAAAAAAAAAAAAAAAAAAAAAAAAAAAAAAAAAAAAAAAAAAAAAAAAAAAAAAAAAAAAAAAAAAAAAAAAAAAAAAAAAAAAAAAAAAAAAAAAAAAAAAAAAAAAAAAAAAAAAAAAAAAAAAAAAAAAAAAAAAAAAAAAAAAAAAAAAAAAAAAAAAAAAAAAAAAAAAAAAAAAAAAAAAAAAAAAAAAAAAAAAAAAAAAAAAAAAAAAAAAAAAAAAAAAAAAAAAAAAAAAAAAAAAAAAAAAAAAAAAAAAAAAAAAAAAAAAAAAAAAAAAAAAAAAAAAAAAAAAAAAAAAAAAAAAAAAAAAAAAAAAAAAAAAAAAAAAAAAAAAAAAAAAAAAAAAAAAAAAAAAAAAAAAAAAAAAAAAAAAAAAAAAAAAAAAAAAAAAAAAAAAAAAAAAAAAAAAAAAAAAAAAAAAAAAAAAAAAAAAAAAAAAAAAAAAAAAAAAAAAAAAAAAAAAAAAAQEBAQAAAAAAAAAAAAAAAAAAAAAAAAAAAAAAAAAAAAAAAAAAAAAAAAAAAAAAAAAAAAAAAAAAAAAAAAAAAQEBAQEBAQEAAAAAAAAAAAAAAAAAAAAAAAAAAAAAAAAAAAAAAAAAAAAAAAAAAAAAAAAAAAAAAAAAAAAAAAEBAQEBAQEBAQEAAAAAAAAAAAAAAAAAAAAAAAAAAAAAAAAAAAAAAAAAAAAAAAAAAAAAAAAAAAAAAAAAAAABAQEBAQEBAQEBAQEAAAAAAAAAAAAAAAAAAAAAAAAAAAAAAAAAAAAAAAAAAAAAAAAAAAAAAAAAAAAAAAAAAAEBAQEBAQEBAQEBAQAAAAAAAAAAAAAAAAAAAAAAAAAAAAAAAAAAAAAAAAAAAAAAAAAAAAAAAAAAAAAAAAAAAQEBAQEBAQEBAQEBAAAAAAAAAAAAAAAAAAAAAAAAAAAAAAAAAAAAAAAAAAAAAAAAAAAAAAAAAAAAAAAAAAABAQEBAQEBAQEBAQEAAAAAAAAAAAAAAAAAAAAAAAAAAAAAAAAAAAAAAAAAAAAAAAAAAAAAAAAAAAAAAAAAAAEBAQEBAQEBAQEBAQAAAAAAAAAAAAAAAAAAAAAAAAAAAAAAAAAAAAAAAAAAAAAAAAAAAAAAAAAAAAAAAAAAAQEBAQEBAQEBAQEBAAAAAAAAAAAAAAAAAAAAAAAAAAAAAAAAAAAAAAAAAAAAAAAAAAAAAAAAAAAAAAAAAAAAAQEBAQEBAQEBAQAAAAAAAAAAAAAAAAAAAAAAAAAAAAAAAAAAAAAAAAAAAAAAAAAAAAAAAAAAAAAAAAAAAAAAAQEBAQEBAQEAAAAAAAAAAAAAAAAAAAAAAAAAAAAAAAAAAAAAAAAAAAAAAAAAAAAAAAAAAAAAAAAAAAAAAAAAAAEBAQEAAAAAAAAAAAAAAAAAAAAAAAAAAAAAAAAAAAAAAAAAAAAAAAAAAAAAAAAAAAAAAAAAAAAAAAAAAAAAAAAAAAAAAAAAAAAAAAAAAAAAAAAAAAAAAAAAAAAAAAAAAAAAAAAAAAAAAAAAAAAAAAAAAAAAAAAAAAAAAAAAAAAAAAAAAAAAAAAAAAAAAAAAAAAAAAAAAAAAAAAAAAAAAAAAAAAAAAAAAAAAAAAAAAAAAAAAAAAAAAAAAAAAAAAAAAAAAAAAAAAAAAAAAAAAAAAAAAAAAAAAAAAAAAAAAAAAAAAAAAAAAAAAAAAAAAAAAAAAAAAAAAAAAAAAAAAAAAAAAAAAAAAAAAAAAAAAAAAAAAAAAAAAAAAAAAAAAAAAAAAAAAAAAAAAAAAAAAAAAAAAAAAAAAAAAAAAAAAAAAAAAAAAAAAAAAAAAAAAAAAAAAAAAAAAAAAAAAAAAAAAAAAAAAAAAAAAAAAAAAAAAAAAAAAAAAAAAAAAAAAAAAAAAAAAAAAAAAAAAAAAAAAAAAAAAAAAAAAAAAAAAAAAAAAAAAAAAAAAAAAAAAAAAAAAAAAAAAAAAAAAAAAAAAAAAAAAAAAAAAAAAAAAAAAAAAAAAAAAAAAAAAAAAAAAAAAAAAAAAAAAAAAAAAAAAAAAAAAAAAAAAAAAAAAAAAAAAAAAAAAAAAAAAAAAAAAAAAAAAAA=",
          "dtype": "u1",
          "shape": "28, 62"
         }
        },
        {
         "colorbar": {
          "ticktext": [
           "Outside",
           "Inside"
          ],
          "tickvals": [
           0,
           1
          ],
          "title": {
           "text": "Neuron<br>Presence"
          }
         },
         "colorscale": [
          [
           0,
           "#440154"
          ],
          [
           0.1111111111111111,
           "#482878"
          ],
          [
           0.2222222222222222,
           "#3e4989"
          ],
          [
           0.3333333333333333,
           "#31688e"
          ],
          [
           0.4444444444444444,
           "#26828e"
          ],
          [
           0.5555555555555556,
           "#1f9e89"
          ],
          [
           0.6666666666666666,
           "#35b779"
          ],
          [
           0.7777777777777778,
           "#6ece58"
          ],
          [
           0.8888888888888888,
           "#b5de2b"
          ],
          [
           1,
           "#fde725"
          ]
         ],
         "hovertemplate": "<b>X:</b> %{x:.1f} µm<br><b>Y:</b> %{y:.1f} µm<br><b>Value:</b> %{z}<br><extra></extra>",
         "name": "Z-slice 37",
         "showscale": true,
         "type": "heatmap",
         "visible": false,
         "x": {
          "bdata": "2WzfzHb4LsDBCCyxg/QtwKmkeJWQ8CzAkUDFeZ3sK8B63BFequgqwGJ4XkK35CnAShSrJsTgKMAysPcK0dwnwBpMRO/d2CbAAuiQ0+rUJcDqg92399AkwNIfKpwEzSPAurt2gBHJIsCiV8NkHsUhwIvzD0krwSDA5h65WnB6H8C2VlIjinIdwIaO6+ujahvAVsaEtL1iGcAm/h1911oXwPY1t0XxUhXAyG1QDgtLE8CYpenWJEMRwNC6BT99dg7AcCo40LBmCsAQmmph5FYGwLAJnfIXRwLAoPKeB5du/L/o0QMq/k70v1Bi0ZjKXui/oEE2uzE/0L9gQTa7MT/QPzBi0ZjKXug/2NEDKv5O9D+Y8p4Hl278P6wJnfIXRwJADJpqYeRWBkBsKjjQsGYKQMy6BT99dg5AlqXp1iRDEUDGbVAOC0sTQPI1t0XxUhVAIv4dfddaF0BSxoS0vWIZQIKO6+ujahtAslZSI4pyHUDiHrlacHofQInzD0krwSBAoVfDZB7FIUC5u3aAEckiQNEfKpwEzSNA6YPdt/fQJEAB6JDT6tQlQBlMRO/d2CZAMbD3CtHcJ0BJFKsmxOAoQF94XkK35ClAd9wRXqroKkCPQMV5newrQKekeJWQ8CxAvwgssYP0LUDZbN/MdvguQA==",
          "dtype": "f8"
         },
         "y": {
          "bdata": "AAAAAAAAHMDRXkJ7Ce0ZwKG9hPYS2hfAchzHcRzHFcBCewntJbQTwBPaS2gvoRHAyHEcx3EcD8BpL6G9hPYKwArtJbSX0AbArKqqqqqqAsCY0F5Cewn9v9xLaC+hvfS/QI7jOI7j6L+ACe0ltJfQv3AJ7SW0l9A/OI7jOI7j6D/YS2gvob30P5jQXkJ7Cf0/qKqqqqqqAkAI7SW0l9AGQGgvob2E9gpAxHEcx3EcD0AS2ktoL6ERQEJ7Ce0ltBNAcBzHcRzHFUCgvYT2EtoXQNBeQnsJ7RlAAAAAAAAAHEA=",
          "dtype": "f8"
         },
         "z": {
          "bdata": "AAAAAAAAAAAAAAAAAAAAAAAAAAAAAAAAAAAAAAAAAAAAAAAAAAAAAAAAAAAAAAAAAAAAAAAAAAAAAAAAAAAAAAAAAAAAAAAAAAAAAAAAAAAAAAAAAAAAAAAAAAAAAAAAAAAAAAAAAAAAAAAAAAAAAAAAAAAAAAAAAAAAAAAAAAAAAAAAAAAAAAAAAAAAAAAAAAAAAAAAAAAAAAAAAAAAAAAAAAAAAAAAAAAAAAAAAAAAAAAAAAAAAAAAAAAAAAAAAAAAAAAAAAAAAAAAAAAAAAAAAAAAAAAAAAAAAAAAAAAAAAAAAAAAAAAAAAAAAAAAAAAAAAAAAAAAAAAAAAAAAAAAAAAAAAAAAAAAAAAAAAAAAAAAAAAAAAAAAAAAAAAAAAAAAAAAAAAAAAAAAAAAAAAAAAAAAAAAAAAAAAAAAAAAAAAAAAAAAAAAAAAAAAAAAAAAAAAAAAAAAAAAAAAAAAAAAAAAAAAAAAAAAAAAAAAAAAAAAAAAAAAAAAAAAAAAAAAAAAAAAAAAAAAAAAAAAAAAAAAAAAAAAAAAAAAAAAAAAAAAAAAAAAAAAAAAAAAAAAAAAAAAAAAAAAAAAAAAAAAAAAAAAAAAAAAAAAAAAAAAAAAAAAAAAAAAAAAAAAAAAAAAAAAAAAAAAAAAAAAAAAAAAAAAAAAAAAAAAAAAAAAAAAAAAAAAAAAAAAABAQEBAQEAAAAAAAAAAAAAAAAAAAAAAAAAAAAAAAAAAAAAAAAAAAAAAAAAAAAAAAAAAAAAAAAAAAAAAAABAQEBAQEBAQEBAAAAAAAAAAAAAAAAAAAAAAAAAAAAAAAAAAAAAAAAAAAAAAAAAAAAAAAAAAAAAAAAAAAAAQEBAQEBAQEBAQEBAAAAAAAAAAAAAAAAAAAAAAAAAAAAAAAAAAAAAAAAAAAAAAAAAAAAAAAAAAAAAAAAAAEBAQEBAQEBAQEBAQEBAAAAAAAAAAAAAAAAAAAAAAAAAAAAAAAAAAAAAAAAAAAAAAAAAAAAAAAAAAAAAAAAAQEBAQEBAQEBAQEBAQEAAAAAAAAAAAAAAAAAAAAAAAAAAAAAAAAAAAAAAAAAAAAAAAAAAAAAAAAAAAAAAAABAQEBAQEBAQEBAQEBAQAAAAAAAAAAAAAAAAAAAAAAAAAAAAAAAAAAAAAAAAAAAAAAAAAAAAAAAAAAAAAAAAEBAQEBAQEBAQEBAQEBAAAAAAAAAAAAAAAAAAAAAAAAAAAAAAAAAAAAAAAAAAAAAAAAAAAAAAAAAAAAAAAAAQEBAQEBAQEBAQEBAQEAAAAAAAAAAAAAAAAAAAAAAAAAAAAAAAAAAAAAAAAAAAAAAAAAAAAAAAAAAAAAAAABAQEBAQEBAQEBAQEBAQAAAAAAAAAAAAAAAAAAAAAAAAAAAAAAAAAAAAAAAAAAAAAAAAAAAAAAAAAAAAAAAAABAQEBAQEBAQEBAQEAAAAAAAAAAAAAAAAAAAAAAAAAAAAAAAAAAAAAAAAAAAAAAAAAAAAAAAAAAAAAAAAAAAABAQEBAQEBAQEBAAAAAAAAAAAAAAAAAAAAAAAAAAAAAAAAAAAAAAAAAAAAAAAAAAAAAAAAAAAAAAAAAAAAAAAAAQEBAQEBAAAAAAAAAAAAAAAAAAAAAAAAAAAAAAAAAAAAAAAAAAAAAAAAAAAAAAAAAAAAAAAAAAAAAAAAAAAAAAAAAAAAAAAAAAAAAAAAAAAAAAAAAAAAAAAAAAAAAAAAAAAAAAAAAAAAAAAAAAAAAAAAAAAAAAAAAAAAAAAAAAAAAAAAAAAAAAAAAAAAAAAAAAAAAAAAAAAAAAAAAAAAAAAAAAAAAAAAAAAAAAAAAAAAAAAAAAAAAAAAAAAAAAAAAAAAAAAAAAAAAAAAAAAAAAAAAAAAAAAAAAAAAAAAAAAAAAAAAAAAAAAAAAAAAAAAAAAAAAAAAAAAAAAAAAAAAAAAAAAAAAAAAAAAAAAAAAAAAAAAAAAAAAAAAAAAAAAAAAAAAAAAAAAAAAAAAAAAAAAAAAAAAAAAAAAAAAAAAAAAAAAAAAAAAAAAAAAAAAAAAAAAAAAAAAAAAAAAAAAAAAAAAAAAAAAAAAAAAAAAAAAAAAAAAAAAAAAAAAAAAAAAAAAAAAAAAAAAAAAAAAAAAAAAAAAAAAAAAAAAAAAAAAAAAAAAAAAAAAAAAAAAAAAAAAAAAAAAAAAAAAAAAAAAAAAAAAAAAAAAAAAAAAAAAAAAAAAAAAAAAAAAAAAAAAAAAAAAAAAAAAAAAAAAAAAAAAAAAAAAAAAAAAAAAAAAAAAAAAAAAAAAAAAAAAAAAAAAAAA=",
          "dtype": "u1",
          "shape": "28, 62"
         }
        },
        {
         "colorbar": {
          "ticktext": [
           "Outside",
           "Inside"
          ],
          "tickvals": [
           0,
           1
          ],
          "title": {
           "text": "Neuron<br>Presence"
          }
         },
         "colorscale": [
          [
           0,
           "#440154"
          ],
          [
           0.1111111111111111,
           "#482878"
          ],
          [
           0.2222222222222222,
           "#3e4989"
          ],
          [
           0.3333333333333333,
           "#31688e"
          ],
          [
           0.4444444444444444,
           "#26828e"
          ],
          [
           0.5555555555555556,
           "#1f9e89"
          ],
          [
           0.6666666666666666,
           "#35b779"
          ],
          [
           0.7777777777777778,
           "#6ece58"
          ],
          [
           0.8888888888888888,
           "#b5de2b"
          ],
          [
           1,
           "#fde725"
          ]
         ],
         "hovertemplate": "<b>X:</b> %{x:.1f} µm<br><b>Y:</b> %{y:.1f} µm<br><b>Value:</b> %{z}<br><extra></extra>",
         "name": "Z-slice 38",
         "showscale": true,
         "type": "heatmap",
         "visible": false,
         "x": {
          "bdata": "2WzfzHb4LsDBCCyxg/QtwKmkeJWQ8CzAkUDFeZ3sK8B63BFequgqwGJ4XkK35CnAShSrJsTgKMAysPcK0dwnwBpMRO/d2CbAAuiQ0+rUJcDqg92399AkwNIfKpwEzSPAurt2gBHJIsCiV8NkHsUhwIvzD0krwSDA5h65WnB6H8C2VlIjinIdwIaO6+ujahvAVsaEtL1iGcAm/h1911oXwPY1t0XxUhXAyG1QDgtLE8CYpenWJEMRwNC6BT99dg7AcCo40LBmCsAQmmph5FYGwLAJnfIXRwLAoPKeB5du/L/o0QMq/k70v1Bi0ZjKXui/oEE2uzE/0L9gQTa7MT/QPzBi0ZjKXug/2NEDKv5O9D+Y8p4Hl278P6wJnfIXRwJADJpqYeRWBkBsKjjQsGYKQMy6BT99dg5AlqXp1iRDEUDGbVAOC0sTQPI1t0XxUhVAIv4dfddaF0BSxoS0vWIZQIKO6+ujahtAslZSI4pyHUDiHrlacHofQInzD0krwSBAoVfDZB7FIUC5u3aAEckiQNEfKpwEzSNA6YPdt/fQJEAB6JDT6tQlQBlMRO/d2CZAMbD3CtHcJ0BJFKsmxOAoQF94XkK35ClAd9wRXqroKkCPQMV5newrQKekeJWQ8CxAvwgssYP0LUDZbN/MdvguQA==",
          "dtype": "f8"
         },
         "y": {
          "bdata": "AAAAAAAAHMDRXkJ7Ce0ZwKG9hPYS2hfAchzHcRzHFcBCewntJbQTwBPaS2gvoRHAyHEcx3EcD8BpL6G9hPYKwArtJbSX0AbArKqqqqqqAsCY0F5Cewn9v9xLaC+hvfS/QI7jOI7j6L+ACe0ltJfQv3AJ7SW0l9A/OI7jOI7j6D/YS2gvob30P5jQXkJ7Cf0/qKqqqqqqAkAI7SW0l9AGQGgvob2E9gpAxHEcx3EcD0AS2ktoL6ERQEJ7Ce0ltBNAcBzHcRzHFUCgvYT2EtoXQNBeQnsJ7RlAAAAAAAAAHEA=",
          "dtype": "f8"
         },
         "z": {
          "bdata": "AAAAAAAAAAAAAAAAAAAAAAAAAAAAAAAAAAAAAAAAAAAAAAAAAAAAAAAAAAAAAAAAAAAAAAAAAAAAAAAAAAAAAAAAAAAAAAAAAAAAAAAAAAAAAAAAAAAAAAAAAAAAAAAAAAAAAAAAAAAAAAAAAAAAAAAAAAAAAAAAAAAAAAAAAAAAAAAAAAAAAAAAAAAAAAAAAAAAAAAAAAAAAAAAAAAAAAAAAAAAAAAAAAAAAAAAAAAAAAAAAAAAAAAAAAAAAAAAAAAAAAAAAAAAAAAAAAAAAAAAAAAAAAAAAAAAAAAAAAAAAAAAAAAAAAAAAAAAAAAAAAAAAAAAAAAAAAAAAAAAAAAAAAAAAAAAAAAAAAAAAAAAAAAAAAAAAAAAAAAAAAAAAAAAAAAAAAAAAAAAAAAAAAAAAAAAAAAAAAAAAAAAAAAAAAAAAAAAAAAAAAAAAAAAAAAAAAAAAAAAAAAAAAAAAAAAAAAAAAAAAAAAAAAAAAAAAAAAAAAAAAAAAAAAAAAAAAAAAAAAAAAAAAAAAAAAAAAAAAAAAAAAAAAAAAAAAAAAAAAAAAAAAAAAAAAAAAAAAAAAAAAAAAAAAAAAAAAAAAAAAAAAAAAAAAAAAAAAAAAAAAAAAAAAAAAAAAAAAAAAAAAAAAAAAAAAAAAAAAAAAAAAAAAAAAAAAAAAAAAAAAAAAAAAAAAAAAAAAAEBAQAAAQEBAAAAAAAAAAAAAAAAAAAAAAAAAAAAAAAAAAAAAAAAAAAAAAAAAAAAAAAAAAAAAAAAAAAAAAEBAQEBAQEBAQEBAQAAAAAAAAAAAAAAAAAAAAAAAAAAAAAAAAAAAAAAAAAAAAAAAAAAAAAAAAAAAAAAAAABAQEBAQEBAQEBAQEBAQAAAAAAAAAAAAAAAAAAAAAAAAAAAAAAAAAAAAAAAAAAAAAAAAAAAAAAAAAAAAAAAQEBAQEBAQEBAQEBAQEBAQAAAAAAAAAAAAAAAAAAAAAAAAAAAAAAAAAAAAAAAAAAAAAAAAAAAAAAAAAAAAABAQEBAQEBAQEBAQEBAQEBAAAAAAAAAAAAAAAAAAAAAAAAAAAAAAAAAAAAAAAAAAAAAAAAAAAAAAAAAAAAAAEBAQEBAQEBAQEBAQEBAQEAAAAAAAAAAAAAAAAAAAAAAAAAAAAAAAAAAAAAAAAAAAAAAAAAAAAAAAAAAAAAAQEBAQEBAQEBAQEBAQEBAQAAAAAAAAAAAAAAAAAAAAAAAAAAAAAAAAAAAAAAAAAAAAAAAAAAAAAAAAAAAAABAQEBAQEBAQEBAQEBAQEBAAAAAAAAAAAAAAAAAAAAAAAAAAAAAAAAAAAAAAAAAAAAAAAAAAAAAAAAAAAAAAEBAQEBAQEBAQEBAQEBAQEAAAAAAAAAAAAAAAAAAAAAAAAAAAAAAAAAAAAAAAAAAAAAAAAAAAAAAAAAAAAAAAEBAQEBAQEBAQEBAQEBAAAAAAAAAAAAAAAAAAAAAAAAAAAAAAAAAAAAAAAAAAAAAAAAAAAAAAAAAAAAAAAAAAEBAQEBAQEBAQEBAQAAAAAAAAAAAAAAAAAAAAAAAAAAAAAAAAAAAAAAAAAAAAAAAAAAAAAAAAAAAAAAAAAAAAABAQEAAAEBAQAAAAAAAAAAAAAAAAAAAAAAAAAAAAAAAAAAAAAAAAAAAAAAAAAAAAAAAAAAAAAAAAAAAAAAAAAAAAAAAAAAAAAAAAAAAAAAAAAAAAAAAAAAAAAAAAAAAAAAAAAAAAAAAAAAAAAAAAAAAAAAAAAAAAAAAAAAAAAAAAAAAAAAAAAAAAAAAAAAAAAAAAAAAAAAAAAAAAAAAAAAAAAAAAAAAAAAAAAAAAAAAAAAAAAAAAAAAAAAAAAAAAAAAAAAAAAAAAAAAAAAAAAAAAAAAAAAAAAAAAAAAAAAAAAAAAAAAAAAAAAAAAAAAAAAAAAAAAAAAAAAAAAAAAAAAAAAAAAAAAAAAAAAAAAAAAAAAAAAAAAAAAAAAAAAAAAAAAAAAAAAAAAAAAAAAAAAAAAAAAAAAAAAAAAAAAAAAAAAAAAAAAAAAAAAAAAAAAAAAAAAAAAAAAAAAAAAAAAAAAAAAAAAAAAAAAAAAAAAAAAAAAAAAAAAAAAAAAAAAAAAAAAAAAAAAAAAAAAAAAAAAAAAAAAAAAAAAAAAAAAAAAAAAAAAAAAAAAAAAAAAAAAAAAAAAAAAAAAAAAAAAAAAAAAAAAAAAAAAAAAAAAAAAAAAAAAAAAAAAAAAAAAAAAAAAAAAAAAAAAAAAAAAAAAAAAAAAAAAAAAAAAAAAAAAAAAAAAAAAAAAAAAAAAAAAAAAAAA=",
          "dtype": "u1",
          "shape": "28, 62"
         }
        },
        {
         "colorbar": {
          "ticktext": [
           "Outside",
           "Inside"
          ],
          "tickvals": [
           0,
           1
          ],
          "title": {
           "text": "Neuron<br>Presence"
          }
         },
         "colorscale": [
          [
           0,
           "#440154"
          ],
          [
           0.1111111111111111,
           "#482878"
          ],
          [
           0.2222222222222222,
           "#3e4989"
          ],
          [
           0.3333333333333333,
           "#31688e"
          ],
          [
           0.4444444444444444,
           "#26828e"
          ],
          [
           0.5555555555555556,
           "#1f9e89"
          ],
          [
           0.6666666666666666,
           "#35b779"
          ],
          [
           0.7777777777777778,
           "#6ece58"
          ],
          [
           0.8888888888888888,
           "#b5de2b"
          ],
          [
           1,
           "#fde725"
          ]
         ],
         "hovertemplate": "<b>X:</b> %{x:.1f} µm<br><b>Y:</b> %{y:.1f} µm<br><b>Value:</b> %{z}<br><extra></extra>",
         "name": "Z-slice 39",
         "showscale": true,
         "type": "heatmap",
         "visible": false,
         "x": {
          "bdata": "2WzfzHb4LsDBCCyxg/QtwKmkeJWQ8CzAkUDFeZ3sK8B63BFequgqwGJ4XkK35CnAShSrJsTgKMAysPcK0dwnwBpMRO/d2CbAAuiQ0+rUJcDqg92399AkwNIfKpwEzSPAurt2gBHJIsCiV8NkHsUhwIvzD0krwSDA5h65WnB6H8C2VlIjinIdwIaO6+ujahvAVsaEtL1iGcAm/h1911oXwPY1t0XxUhXAyG1QDgtLE8CYpenWJEMRwNC6BT99dg7AcCo40LBmCsAQmmph5FYGwLAJnfIXRwLAoPKeB5du/L/o0QMq/k70v1Bi0ZjKXui/oEE2uzE/0L9gQTa7MT/QPzBi0ZjKXug/2NEDKv5O9D+Y8p4Hl278P6wJnfIXRwJADJpqYeRWBkBsKjjQsGYKQMy6BT99dg5AlqXp1iRDEUDGbVAOC0sTQPI1t0XxUhVAIv4dfddaF0BSxoS0vWIZQIKO6+ujahtAslZSI4pyHUDiHrlacHofQInzD0krwSBAoVfDZB7FIUC5u3aAEckiQNEfKpwEzSNA6YPdt/fQJEAB6JDT6tQlQBlMRO/d2CZAMbD3CtHcJ0BJFKsmxOAoQF94XkK35ClAd9wRXqroKkCPQMV5newrQKekeJWQ8CxAvwgssYP0LUDZbN/MdvguQA==",
          "dtype": "f8"
         },
         "y": {
          "bdata": "AAAAAAAAHMDRXkJ7Ce0ZwKG9hPYS2hfAchzHcRzHFcBCewntJbQTwBPaS2gvoRHAyHEcx3EcD8BpL6G9hPYKwArtJbSX0AbArKqqqqqqAsCY0F5Cewn9v9xLaC+hvfS/QI7jOI7j6L+ACe0ltJfQv3AJ7SW0l9A/OI7jOI7j6D/YS2gvob30P5jQXkJ7Cf0/qKqqqqqqAkAI7SW0l9AGQGgvob2E9gpAxHEcx3EcD0AS2ktoL6ERQEJ7Ce0ltBNAcBzHcRzHFUCgvYT2EtoXQNBeQnsJ7RlAAAAAAAAAHEA=",
          "dtype": "f8"
         },
         "z": {
          "bdata": "AAAAAAAAAAAAAAAAAAAAAAAAAAAAAAAAAAAAAAAAAAAAAAAAAAAAAAAAAAAAAAAAAAAAAAAAAAAAAAAAAAAAAAAAAAAAAAAAAAAAAAAAAAAAAAAAAAAAAAAAAAAAAAAAAAAAAAAAAAAAAAAAAAAAAAAAAAAAAAAAAAAAAAAAAAAAAAAAAAAAAAAAAAAAAAAAAAAAAAAAAAAAAAAAAAAAAAAAAAAAAAAAAAAAAAAAAAAAAAAAAAAAAAAAAAAAAAAAAAAAAAAAAAAAAAAAAAAAAAAAAAAAAAAAAAAAAAAAAAAAAAAAAAAAAAAAAAAAAAAAAAAAAAAAAAAAAAAAAAAAAAAAAAAAAAAAAAAAAAAAAAAAAAAAAAAAAAAAAAAAAAAAAAAAAAAAAAAAAAAAAAAAAAAAAAAAAAAAAAAAAAAAAAAAAAAAAAAAAAAAAAAAAAAAAAAAAAAAAAAAAAAAAAAAAAAAAAAAAAAAAAAAAAAAAAAAAAAAAAAAAAAAAAAAAAAAAAAAAAAAAAAAAAAAAAAAAAAAAAAAAAAAAAAAAAAAAAAAAAAAAAAAAAAAAAAAAAAAAAAAAAAAAAAAAAAAAAAAAAAAAAAAAAAAAAAAAAAAAAAAAAAAAAAAAAAAAAAAAAAAAAAAAAAAAAAAAAAAAAAAAAAAAAAAAAAAAAAAAAAAAAAAAAAAAAAAAAAAAQEBAAAAAAEBAQAAAAAAAAAAAAAAAAAAAAAAAAAAAAAAAAAAAAAAAAAAAAAAAAAAAAAAAAAAAAAAAAAAAQEBAQEBAQEBAQEBAQEAAAAAAAAAAAAAAAAAAAAAAAAAAAAAAAAAAAAAAAAAAAAAAAAAAAAAAAAAAAAAAAEBAQEBAQEBAQEBAQEBAQEAAAAAAAAAAAAAAAAAAAAAAAAAAAAAAAAAAAAAAAAAAAAAAAAAAAAAAAAAAAABAQEBAQEBAQEBAQEBAQEBAQEAAAAAAAAAAAAAAAAAAAAAAAAAAAAAAAAAAAAAAAAAAAAAAAAAAAAAAAAAAAEBAQEBAQEBAQEBAQEBAQEBAQAAAAAAAAAAAAAAAAAAAAAAAAAAAAAAAAAAAAAAAAAAAAAAAAAAAAAAAAAAAQEBAQEBAQEBAQEBAQEBAQEBAAAAAAAAAAAAAAAAAAAAAAAAAAAAAAAAAAAAAAAAAAAAAAAAAAAAAAAAAAABAQEBAQEBAQEBAQEBAQEBAQEAAAAAAAAAAAAAAAAAAAAAAAAAAAAAAAAAAAAAAAAAAAAAAAAAAAAAAAAAAAEBAQEBAQEBAQEBAQEBAQEBAQAAAAAAAAAAAAAAAAAAAAAAAAAAAAAAAAAAAAAAAAAAAAAAAAAAAAAAAAAAAQEBAQEBAQEBAQEBAQEBAQEBAAAAAAAAAAAAAAAAAAAAAAAAAAAAAAAAAAAAAAAAAAAAAAAAAAAAAAAAAAAAAQEBAQEBAQEBAQEBAQEBAQAAAAAAAAAAAAAAAAAAAAAAAAAAAAAAAAAAAAAAAAAAAAAAAAAAAAAAAAAAAAAAAQEBAQEBAQEBAQEBAQEAAAAAAAAAAAAAAAAAAAAAAAAAAAAAAAAAAAAAAAAAAAAAAAAAAAAAAAAAAAAAAAAAAAEBAQAAAAABAQEAAAAAAAAAAAAAAAAAAAAAAAAAAAAAAAAAAAAAAAAAAAAAAAAAAAAAAAAAAAAAAAAAAAAAAAAAAAAAAAAAAAAAAAAAAAAAAAAAAAAAAAAAAAAAAAAAAAAAAAAAAAAAAAAAAAAAAAAAAAAAAAAAAAAAAAAAAAAAAAAAAAAAAAAAAAAAAAAAAAAAAAAAAAAAAAAAAAAAAAAAAAAAAAAAAAAAAAAAAAAAAAAAAAAAAAAAAAAAAAAAAAAAAAAAAAAAAAAAAAAAAAAAAAAAAAAAAAAAAAAAAAAAAAAAAAAAAAAAAAAAAAAAAAAAAAAAAAAAAAAAAAAAAAAAAAAAAAAAAAAAAAAAAAAAAAAAAAAAAAAAAAAAAAAAAAAAAAAAAAAAAAAAAAAAAAAAAAAAAAAAAAAAAAAAAAAAAAAAAAAAAAAAAAAAAAAAAAAAAAAAAAAAAAAAAAAAAAAAAAAAAAAAAAAAAAAAAAAAAAAAAAAAAAAAAAAAAAAAAAAAAAAAAAAAAAAAAAAAAAAAAAAAAAAAAAAAAAAAAAAAAAAAAAAAAAAAAAAAAAAAAAAAAAAAAAAAAAAAAAAAAAAAAAAAAAAAAAAAAAAAAAAAAAAAAAAAAAAAAAAAAAAAAAAAAAAAAAAAAAAAAAAAAAAAAAAAAAAAAAAAAAAAAAAAAAAAAAAAAAAAAAAAAAAAAAAAAAA=",
          "dtype": "u1",
          "shape": "28, 62"
         }
        },
        {
         "colorbar": {
          "ticktext": [
           "Outside",
           "Inside"
          ],
          "tickvals": [
           0,
           1
          ],
          "title": {
           "text": "Neuron<br>Presence"
          }
         },
         "colorscale": [
          [
           0,
           "#440154"
          ],
          [
           0.1111111111111111,
           "#482878"
          ],
          [
           0.2222222222222222,
           "#3e4989"
          ],
          [
           0.3333333333333333,
           "#31688e"
          ],
          [
           0.4444444444444444,
           "#26828e"
          ],
          [
           0.5555555555555556,
           "#1f9e89"
          ],
          [
           0.6666666666666666,
           "#35b779"
          ],
          [
           0.7777777777777778,
           "#6ece58"
          ],
          [
           0.8888888888888888,
           "#b5de2b"
          ],
          [
           1,
           "#fde725"
          ]
         ],
         "hovertemplate": "<b>X:</b> %{x:.1f} µm<br><b>Y:</b> %{y:.1f} µm<br><b>Value:</b> %{z}<br><extra></extra>",
         "name": "Z-slice 40",
         "showscale": true,
         "type": "heatmap",
         "visible": false,
         "x": {
          "bdata": "2WzfzHb4LsDBCCyxg/QtwKmkeJWQ8CzAkUDFeZ3sK8B63BFequgqwGJ4XkK35CnAShSrJsTgKMAysPcK0dwnwBpMRO/d2CbAAuiQ0+rUJcDqg92399AkwNIfKpwEzSPAurt2gBHJIsCiV8NkHsUhwIvzD0krwSDA5h65WnB6H8C2VlIjinIdwIaO6+ujahvAVsaEtL1iGcAm/h1911oXwPY1t0XxUhXAyG1QDgtLE8CYpenWJEMRwNC6BT99dg7AcCo40LBmCsAQmmph5FYGwLAJnfIXRwLAoPKeB5du/L/o0QMq/k70v1Bi0ZjKXui/oEE2uzE/0L9gQTa7MT/QPzBi0ZjKXug/2NEDKv5O9D+Y8p4Hl278P6wJnfIXRwJADJpqYeRWBkBsKjjQsGYKQMy6BT99dg5AlqXp1iRDEUDGbVAOC0sTQPI1t0XxUhVAIv4dfddaF0BSxoS0vWIZQIKO6+ujahtAslZSI4pyHUDiHrlacHofQInzD0krwSBAoVfDZB7FIUC5u3aAEckiQNEfKpwEzSNA6YPdt/fQJEAB6JDT6tQlQBlMRO/d2CZAMbD3CtHcJ0BJFKsmxOAoQF94XkK35ClAd9wRXqroKkCPQMV5newrQKekeJWQ8CxAvwgssYP0LUDZbN/MdvguQA==",
          "dtype": "f8"
         },
         "y": {
          "bdata": "AAAAAAAAHMDRXkJ7Ce0ZwKG9hPYS2hfAchzHcRzHFcBCewntJbQTwBPaS2gvoRHAyHEcx3EcD8BpL6G9hPYKwArtJbSX0AbArKqqqqqqAsCY0F5Cewn9v9xLaC+hvfS/QI7jOI7j6L+ACe0ltJfQv3AJ7SW0l9A/OI7jOI7j6D/YS2gvob30P5jQXkJ7Cf0/qKqqqqqqAkAI7SW0l9AGQGgvob2E9gpAxHEcx3EcD0AS2ktoL6ERQEJ7Ce0ltBNAcBzHcRzHFUCgvYT2EtoXQNBeQnsJ7RlAAAAAAAAAHEA=",
          "dtype": "f8"
         },
         "z": {
          "bdata": "AAAAAAAAAAAAAAAAAAAAAAAAAAAAAAAAAAAAAAAAAAAAAAAAAAAAAAAAAAAAAAAAAAAAAAAAAAAAAAAAAAAAAAAAAAAAAAAAAAAAAAAAAAAAAAAAAAAAAAAAAAAAAAAAAAAAAAAAAAAAAAAAAAAAAAAAAAAAAAAAAAAAAAAAAAAAAAAAAAAAAAAAAAAAAAAAAAAAAAAAAAAAAAAAAAAAAAAAAAAAAAAAAAAAAAAAAAAAAAAAAAAAAAAAAAAAAAAAAAAAAAAAAAAAAAAAAAAAAAAAAAAAAAAAAAAAAAAAAAAAAAAAAAAAAAAAAAAAAAAAAAAAAAAAAAAAAAAAAAAAAAAAAAAAAAAAAAAAAAAAAAAAAAAAAAAAAAAAAAAAAAAAAAAAAAAAAAAAAAAAAAAAAAAAAAAAAAAAAAAAAAAAAAAAAAAAAAAAAAAAAAAAAAAAAAAAAAAAAAAAAAAAAAAAAAAAAAAAAAAAAAAAAAAAAAAAAAAAAAAAAAAAAAAAAAAAAAAAAAAAAAAAAAAAAAAAAAAAAAAAAAAAAAAAAAAAAAAAAAAAAAAAAAAAAAAAAAAAAAAAAAAAAAAAAAAAAAAAAAAAAAAAAAAAAAAAAAAAAAAAAAAAAAAAAAAAAAAAAAAAAAAAAAAAAAAAAAAAAAAAAAAAAAAAAAAAAAAAAAAAAAAAAAAAAAAAAAABAQEAAAAAAAABAQEAAAAAAAAAAAAAAAAAAAAAAAAAAAAAAAAAAAAAAAAAAAAAAAAAAAAAAAAAAAAAAAABAQEBAQEBAAABAQEBAQEBAAAAAAAAAAAAAAAAAAAAAAAAAAAAAAAAAAAAAAAAAAAAAAAAAAAAAAAAAAAAAQEBAQEBAQEBAQEBAQEBAQEBAAAAAAAAAAAAAAAAAAAAAAAAAAAAAAAAAAAAAAAAAAAAAAAAAAAAAAAAAAEBAQEBAQEBAQEBAQEBAQEBAQEBAAAAAAAAAAAAAAAAAAAAAAAAAAAAAAAAAAAAAAAAAAAAAAAAAAAAAAAAAQEBAQEBAQEBAQEBAQEBAQEBAQEAAAAAAAAAAAAAAAAAAAAAAAAAAAAAAAAAAAAAAAAAAAAAAAAAAAAAAAABAQEBAQEBAQEBAQEBAQEBAQEBAQAAAAAAAAAAAAAAAAAAAAAAAAAAAAAAAAAAAAAAAAAAAAAAAAAAAAAAAAEBAQEBAQEBAQEBAQEBAQEBAQEBAAAAAAAAAAAAAAAAAAAAAAAAAAAAAAAAAAAAAAAAAAAAAAAAAAAAAAAAAQEBAQEBAQEBAQEBAQEBAQEBAQEAAAAAAAAAAAAAAAAAAAAAAAAAAAAAAAAAAAAAAAAAAAAAAAAAAAAAAAABAQEBAQEBAQEBAQEBAQEBAQEBAQAAAAAAAAAAAAAAAAAAAAAAAAAAAAAAAAAAAAAAAAAAAAAAAAAAAAAAAAABAQEBAQEBAQEBAQEBAQEBAQEAAAAAAAAAAAAAAAAAAAAAAAAAAAAAAAAAAAAAAAAAAAAAAAAAAAAAAAAAAAABAQEBAQEBAAABAQEBAQEBAAAAAAAAAAAAAAAAAAAAAAAAAAAAAAAAAAAAAAAAAAAAAAAAAAAAAAAAAAAAAAAAAQEBAAAAAAAAAQEBAAAAAAAAAAAAAAAAAAAAAAAAAAAAAAAAAAAAAAAAAAAAAAAAAAAAAAAAAAAAAAAAAAAAAAAAAAAAAAAAAAAAAAAAAAAAAAAAAAAAAAAAAAAAAAAAAAAAAAAAAAAAAAAAAAAAAAAAAAAAAAAAAAAAAAAAAAAAAAAAAAAAAAAAAAAAAAAAAAAAAAAAAAAAAAAAAAAAAAAAAAAAAAAAAAAAAAAAAAAAAAAAAAAAAAAAAAAAAAAAAAAAAAAAAAAAAAAAAAAAAAAAAAAAAAAAAAAAAAAAAAAAAAAAAAAAAAAAAAAAAAAAAAAAAAAAAAAAAAAAAAAAAAAAAAAAAAAAAAAAAAAAAAAAAAAAAAAAAAAAAAAAAAAAAAAAAAAAAAAAAAAAAAAAAAAAAAAAAAAAAAAAAAAAAAAAAAAAAAAAAAAAAAAAAAAAAAAAAAAAAAAAAAAAAAAAAAAAAAAAAAAAAAAAAAAAAAAAAAAAAAAAAAAAAAAAAAAAAAAAAAAAAAAAAAAAAAAAAAAAAAAAAAAAAAAAAAAAAAAAAAAAAAAAAAAAAAAAAAAAAAAAAAAAAAAAAAAAAAAAAAAAAAAAAAAAAAAAAAAAAAAAAAAAAAAAAAAAAAAAAAAAAAAAAAAAAAAAAAAAAAAAAAAAAAAAAAAAAAAAAAAAAAAAAAAAAAAAAAAAAAAAAAAAAAAAAAA=",
          "dtype": "u1",
          "shape": "28, 62"
         }
        },
        {
         "colorbar": {
          "ticktext": [
           "Outside",
           "Inside"
          ],
          "tickvals": [
           0,
           1
          ],
          "title": {
           "text": "Neuron<br>Presence"
          }
         },
         "colorscale": [
          [
           0,
           "#440154"
          ],
          [
           0.1111111111111111,
           "#482878"
          ],
          [
           0.2222222222222222,
           "#3e4989"
          ],
          [
           0.3333333333333333,
           "#31688e"
          ],
          [
           0.4444444444444444,
           "#26828e"
          ],
          [
           0.5555555555555556,
           "#1f9e89"
          ],
          [
           0.6666666666666666,
           "#35b779"
          ],
          [
           0.7777777777777778,
           "#6ece58"
          ],
          [
           0.8888888888888888,
           "#b5de2b"
          ],
          [
           1,
           "#fde725"
          ]
         ],
         "hovertemplate": "<b>X:</b> %{x:.1f} µm<br><b>Y:</b> %{y:.1f} µm<br><b>Value:</b> %{z}<br><extra></extra>",
         "name": "Z-slice 41",
         "showscale": true,
         "type": "heatmap",
         "visible": false,
         "x": {
          "bdata": "2WzfzHb4LsDBCCyxg/QtwKmkeJWQ8CzAkUDFeZ3sK8B63BFequgqwGJ4XkK35CnAShSrJsTgKMAysPcK0dwnwBpMRO/d2CbAAuiQ0+rUJcDqg92399AkwNIfKpwEzSPAurt2gBHJIsCiV8NkHsUhwIvzD0krwSDA5h65WnB6H8C2VlIjinIdwIaO6+ujahvAVsaEtL1iGcAm/h1911oXwPY1t0XxUhXAyG1QDgtLE8CYpenWJEMRwNC6BT99dg7AcCo40LBmCsAQmmph5FYGwLAJnfIXRwLAoPKeB5du/L/o0QMq/k70v1Bi0ZjKXui/oEE2uzE/0L9gQTa7MT/QPzBi0ZjKXug/2NEDKv5O9D+Y8p4Hl278P6wJnfIXRwJADJpqYeRWBkBsKjjQsGYKQMy6BT99dg5AlqXp1iRDEUDGbVAOC0sTQPI1t0XxUhVAIv4dfddaF0BSxoS0vWIZQIKO6+ujahtAslZSI4pyHUDiHrlacHofQInzD0krwSBAoVfDZB7FIUC5u3aAEckiQNEfKpwEzSNA6YPdt/fQJEAB6JDT6tQlQBlMRO/d2CZAMbD3CtHcJ0BJFKsmxOAoQF94XkK35ClAd9wRXqroKkCPQMV5newrQKekeJWQ8CxAvwgssYP0LUDZbN/MdvguQA==",
          "dtype": "f8"
         },
         "y": {
          "bdata": "AAAAAAAAHMDRXkJ7Ce0ZwKG9hPYS2hfAchzHcRzHFcBCewntJbQTwBPaS2gvoRHAyHEcx3EcD8BpL6G9hPYKwArtJbSX0AbArKqqqqqqAsCY0F5Cewn9v9xLaC+hvfS/QI7jOI7j6L+ACe0ltJfQv3AJ7SW0l9A/OI7jOI7j6D/YS2gvob30P5jQXkJ7Cf0/qKqqqqqqAkAI7SW0l9AGQGgvob2E9gpAxHEcx3EcD0AS2ktoL6ERQEJ7Ce0ltBNAcBzHcRzHFUCgvYT2EtoXQNBeQnsJ7RlAAAAAAAAAHEA=",
          "dtype": "f8"
         },
         "z": {
          "bdata": "AAAAAAAAAAAAAAAAAAAAAAAAAAAAAAAAAAAAAAAAAAAAAAAAAAAAAAAAAAAAAAAAAAAAAAAAAAAAAAAAAAAAAAAAAAAAAAAAAAAAAAAAAAAAAAAAAAAAAAAAAAAAAAAAAAAAAAAAAAAAAAAAAAAAAAAAAAAAAAAAAAAAAAAAAAAAAAAAAAAAAAAAAAAAAAAAAAAAAAAAAAAAAAAAAAAAAAAAAAAAAAAAAAAAAAAAAAAAAAAAAAAAAAAAAAAAAAAAAAAAAAAAAAAAAAAAAAAAAAAAAAAAAAAAAAAAAAAAAAAAAAAAAAAAAAAAAAAAAAAAAAAAAAAAAAAAAAAAAAAAAAAAAAAAAAAAAAAAAAAAAAAAAAAAAAAAAAAAAAAAAAAAAAAAAAAAAAAAAAAAAAAAAAAAAAAAAAAAAAAAAAAAAAAAAAAAAAAAAAAAAAAAAAAAAAAAAAAAAAAAAAAAAAAAAAAAAAAAAAAAAAAAAAAAAAAAAAAAAAAAAAAAAAAAAAAAAAAAAAAAAAAAAAAAAAAAAAAAAAAAAAAAAAAAAAAAAAAAAAAAAAAAAAAAAAAAAAAAAAAAAAAAAAAAAAAAAAAAAAAAAAAAAAAAAAAAAAAAAAAAAAAAAAAAAAAAAAAAAAAAAAAAAAAAAAAAAAAAAAAAAAAAAAAAAAAAAAAAAAAAAAAAAAAAAAAAAAEBAQAAAAAAAAAAAQEBAAAAAAAAAAAAAAAAAAAAAAAAAAAAAAAAAAAAAAAAAAAAAAAAAAAAAAAAAAAAAAEBAQEBAQEAAAAAAQEBAQEBAQAAAAAAAAAAAAAAAAAAAAAAAAAAAAAAAAAAAAAAAAAAAAAAAAAAAAAAAAABAQEBAQEBAQEAAAEBAQEBAQEBAQAAAAAAAAAAAAAAAAAAAAAAAAAAAAAAAAAAAAAAAAAAAAAAAAAAAAAAAQEBAQEBAQEBAQEBAQEBAQEBAQEBAQAAAAAAAAAAAAAAAAAAAAAAAAAAAAAAAAAAAAAAAAAAAAAAAAAAAAABAQEBAQEBAQEBAQEBAQEBAQEBAQEBAAAAAAAAAAAAAAAAAAAAAAAAAAAAAAAAAAAAAAAAAAAAAAAAAAAAAAEBAQEBAQEBAQEBAQEBAQEBAQEBAQEAAAAAAAAAAAAAAAAAAAAAAAAAAAAAAAAAAAAAAAAAAAAAAAAAAAAAAQEBAQEBAQEBAQEBAQEBAQEBAQEBAQAAAAAAAAAAAAAAAAAAAAAAAAAAAAAAAAAAAAAAAAAAAAAAAAAAAAABAQEBAQEBAQEBAQEBAQEBAQEBAQEBAAAAAAAAAAAAAAAAAAAAAAAAAAAAAAAAAAAAAAAAAAAAAAAAAAAAAAEBAQEBAQEBAQEBAQEBAQEBAQEBAQEAAAAAAAAAAAAAAAAAAAAAAAAAAAAAAAAAAAAAAAAAAAAAAAAAAAAAAAEBAQEBAQEBAQAAAQEBAQEBAQEBAAAAAAAAAAAAAAAAAAAAAAAAAAAAAAAAAAAAAAAAAAAAAAAAAAAAAAAAAAEBAQEBAQEAAAAAAQEBAQEBAQAAAAAAAAAAAAAAAAAAAAAAAAAAAAAAAAAAAAAAAAAAAAAAAAAAAAAAAAAAAAABAQEAAAAAAAAAAAEBAQAAAAAAAAAAAAAAAAAAAAAAAAAAAAAAAAAAAAAAAAAAAAAAAAAAAAAAAAAAAAAAAAAAAAAAAAAAAAAAAAAAAAAAAAAAAAAAAAAAAAAAAAAAAAAAAAAAAAAAAAAAAAAAAAAAAAAAAAAAAAAAAAAAAAAAAAAAAAAAAAAAAAAAAAAAAAAAAAAAAAAAAAAAAAAAAAAAAAAAAAAAAAAAAAAAAAAAAAAAAAAAAAAAAAAAAAAAAAAAAAAAAAAAAAAAAAAAAAAAAAAAAAAAAAAAAAAAAAAAAAAAAAAAAAAAAAAAAAAAAAAAAAAAAAAAAAAAAAAAAAAAAAAAAAAAAAAAAAAAAAAAAAAAAAAAAAAAAAAAAAAAAAAAAAAAAAAAAAAAAAAAAAAAAAAAAAAAAAAAAAAAAAAAAAAAAAAAAAAAAAAAAAAAAAAAAAAAAAAAAAAAAAAAAAAAAAAAAAAAAAAAAAAAAAAAAAAAAAAAAAAAAAAAAAAAAAAAAAAAAAAAAAAAAAAAAAAAAAAAAAAAAAAAAAAAAAAAAAAAAAAAAAAAAAAAAAAAAAAAAAAAAAAAAAAAAAAAAAAAAAAAAAAAAAAAAAAAAAAAAAAAAAAAAAAAAAAAAAAAAAAAAAAAAAAAAAAAAAAAAAAAAAAAAAAAAAAAAAAAAAAAAAAAAAAAAAAAAAAAAAAAAAAAAAAAAAA=",
          "dtype": "u1",
          "shape": "28, 62"
         }
        },
        {
         "colorbar": {
          "ticktext": [
           "Outside",
           "Inside"
          ],
          "tickvals": [
           0,
           1
          ],
          "title": {
           "text": "Neuron<br>Presence"
          }
         },
         "colorscale": [
          [
           0,
           "#440154"
          ],
          [
           0.1111111111111111,
           "#482878"
          ],
          [
           0.2222222222222222,
           "#3e4989"
          ],
          [
           0.3333333333333333,
           "#31688e"
          ],
          [
           0.4444444444444444,
           "#26828e"
          ],
          [
           0.5555555555555556,
           "#1f9e89"
          ],
          [
           0.6666666666666666,
           "#35b779"
          ],
          [
           0.7777777777777778,
           "#6ece58"
          ],
          [
           0.8888888888888888,
           "#b5de2b"
          ],
          [
           1,
           "#fde725"
          ]
         ],
         "hovertemplate": "<b>X:</b> %{x:.1f} µm<br><b>Y:</b> %{y:.1f} µm<br><b>Value:</b> %{z}<br><extra></extra>",
         "name": "Z-slice 42",
         "showscale": true,
         "type": "heatmap",
         "visible": false,
         "x": {
          "bdata": "2WzfzHb4LsDBCCyxg/QtwKmkeJWQ8CzAkUDFeZ3sK8B63BFequgqwGJ4XkK35CnAShSrJsTgKMAysPcK0dwnwBpMRO/d2CbAAuiQ0+rUJcDqg92399AkwNIfKpwEzSPAurt2gBHJIsCiV8NkHsUhwIvzD0krwSDA5h65WnB6H8C2VlIjinIdwIaO6+ujahvAVsaEtL1iGcAm/h1911oXwPY1t0XxUhXAyG1QDgtLE8CYpenWJEMRwNC6BT99dg7AcCo40LBmCsAQmmph5FYGwLAJnfIXRwLAoPKeB5du/L/o0QMq/k70v1Bi0ZjKXui/oEE2uzE/0L9gQTa7MT/QPzBi0ZjKXug/2NEDKv5O9D+Y8p4Hl278P6wJnfIXRwJADJpqYeRWBkBsKjjQsGYKQMy6BT99dg5AlqXp1iRDEUDGbVAOC0sTQPI1t0XxUhVAIv4dfddaF0BSxoS0vWIZQIKO6+ujahtAslZSI4pyHUDiHrlacHofQInzD0krwSBAoVfDZB7FIUC5u3aAEckiQNEfKpwEzSNA6YPdt/fQJEAB6JDT6tQlQBlMRO/d2CZAMbD3CtHcJ0BJFKsmxOAoQF94XkK35ClAd9wRXqroKkCPQMV5newrQKekeJWQ8CxAvwgssYP0LUDZbN/MdvguQA==",
          "dtype": "f8"
         },
         "y": {
          "bdata": "AAAAAAAAHMDRXkJ7Ce0ZwKG9hPYS2hfAchzHcRzHFcBCewntJbQTwBPaS2gvoRHAyHEcx3EcD8BpL6G9hPYKwArtJbSX0AbArKqqqqqqAsCY0F5Cewn9v9xLaC+hvfS/QI7jOI7j6L+ACe0ltJfQv3AJ7SW0l9A/OI7jOI7j6D/YS2gvob30P5jQXkJ7Cf0/qKqqqqqqAkAI7SW0l9AGQGgvob2E9gpAxHEcx3EcD0AS2ktoL6ERQEJ7Ce0ltBNAcBzHcRzHFUCgvYT2EtoXQNBeQnsJ7RlAAAAAAAAAHEA=",
          "dtype": "f8"
         },
         "z": {
          "bdata": "AAAAAAAAAAAAAAAAAAAAAAAAAAAAAAAAAAAAAAAAAAAAAAAAAAAAAAAAAAAAAAAAAAAAAAAAAAAAAAAAAAAAAAAAAAAAAAAAAAAAAAAAAAAAAAAAAAAAAAAAAAAAAAAAAAAAAAAAAAAAAAAAAAAAAAAAAAAAAAAAAAAAAAAAAAAAAAAAAAAAAAAAAAAAAAAAAAAAAAAAAAAAAAAAAAAAAAAAAAAAAAAAAAAAAAAAAAAAAAAAAAAAAAAAAAAAAAAAAAAAAAAAAAAAAAAAAAAAAAAAAAAAAAAAAAAAAAAAAAAAAAAAAAAAAAAAAAAAAAAAAAAAAAAAAAAAAAAAAAAAAAAAAAAAAAAAAAAAAAAAAAAAAAAAAAAAAAAAAAAAAAAAAAAAAAAAAAAAAAAAAAAAAAAAAAAAAAAAAAAAAAAAAAAAAAAAAAAAAAAAAAAAAAAAAAAAAAAAAAAAAAAAAAAAAAAAAAAAAAAAAAAAAAAAAAAAAAAAAAAAAAAAAAAAAAAAAAAAAAAAAAAAAAAAAAAAAAAAAAAAAAAAAAAAAAAAAAAAAAAAAAAAAAAAAAAAAAAAAAAAAAAAAAAAAAAAAAAAAAAAAAAAAAAAAAAAAAAAAAAAAAAAAAAAAAAAAAAAAAAAAAAAAAAAAAAAAAAAAAAAAAAAAAAAAAAAAAAAAAAAAAAAAAAAAAAAAQEBAAAAAAAAAAAAAAEBAQAAAAAAAAAAAAAAAAAAAAAAAAAAAAAAAAAAAAAAAAAAAAAAAAAAAAAAAAAAAQEBAQEBAQAAAAAAAAEBAQEBAQEAAAAAAAAAAAAAAAAAAAAAAAAAAAAAAAAAAAAAAAAAAAAAAAAAAAAAAAEBAQEBAQEBAQAAAAABAQEBAQEBAQEAAAAAAAAAAAAAAAAAAAAAAAAAAAAAAAAAAAAAAAAAAAAAAAAAAAABAQEBAQEBAQEBAQAAAQEBAQEBAQEBAQEAAAAAAAAAAAAAAAAAAAAAAAAAAAAAAAAAAAAAAAAAAAAAAAAAAAEBAQEBAQEBAQEBAAABAQEBAQEBAQEBAQAAAAAAAAAAAAAAAAAAAAAAAAAAAAAAAAAAAAAAAAAAAAAAAAAAAQEBAQEBAQEBAQEAAAEBAQEBAQEBAQEBAAAAAAAAAAAAAAAAAAAAAAAAAAAAAAAAAAAAAAAAAAAAAAAAAAABAQEBAQEBAQEBAQAAAQEBAQEBAQEBAQEAAAAAAAAAAAAAAAAAAAAAAAAAAAAAAAAAAAAAAAAAAAAAAAAAAAEBAQEBAQEBAQEBAAABAQEBAQEBAQEBAQAAAAAAAAAAAAAAAAAAAAAAAAAAAAAAAAAAAAAAAAAAAAAAAAAAAQEBAQEBAQEBAQEAAAEBAQEBAQEBAQEBAAAAAAAAAAAAAAAAAAAAAAAAAAAAAAAAAAAAAAAAAAAAAAAAAAAAAQEBAQEBAQEBAAAAAAEBAQEBAQEBAQAAAAAAAAAAAAAAAAAAAAAAAAAAAAAAAAAAAAAAAAAAAAAAAAAAAAAAAQEBAQEBAQAAAAAAAAEBAQEBAQEAAAAAAAAAAAAAAAAAAAAAAAAAAAAAAAAAAAAAAAAAAAAAAAAAAAAAAAAAAAEBAQAAAAAAAAAAAAABAQEAAAAAAAAAAAAAAAAAAAAAAAAAAAAAAAAAAAAAAAAAAAAAAAAAAAAAAAAAAAAAAAAAAAAAAAAAAAAAAAAAAAAAAAAAAAAAAAAAAAAAAAAAAAAAAAAAAAAAAAAAAAAAAAAAAAAAAAAAAAAAAAAAAAAAAAAAAAAAAAAAAAAAAAAAAAAAAAAAAAAAAAAAAAAAAAAAAAAAAAAAAAAAAAAAAAAAAAAAAAAAAAAAAAAAAAAAAAAAAAAAAAAAAAAAAAAAAAAAAAAAAAAAAAAAAAAAAAAAAAAAAAAAAAAAAAAAAAAAAAAAAAAAAAAAAAAAAAAAAAAAAAAAAAAAAAAAAAAAAAAAAAAAAAAAAAAAAAAAAAAAAAAAAAAAAAAAAAAAAAAAAAAAAAAAAAAAAAAAAAAAAAAAAAAAAAAAAAAAAAAAAAAAAAAAAAAAAAAAAAAAAAAAAAAAAAAAAAAAAAAAAAAAAAAAAAAAAAAAAAAAAAAAAAAAAAAAAAAAAAAAAAAAAAAAAAAAAAAAAAAAAAAAAAAAAAAAAAAAAAAAAAAAAAAAAAAAAAAAAAAAAAAAAAAAAAAAAAAAAAAAAAAAAAAAAAAAAAAAAAAAAAAAAAAAAAAAAAAAAAAAAAAAAAAAAAAAAAAAAAAAAAAAAAAAAAAAAAAAAAAAAAAAAAAAAAAAAAAAAAAAAAAAAAAAAAA=",
          "dtype": "u1",
          "shape": "28, 62"
         }
        },
        {
         "colorbar": {
          "ticktext": [
           "Outside",
           "Inside"
          ],
          "tickvals": [
           0,
           1
          ],
          "title": {
           "text": "Neuron<br>Presence"
          }
         },
         "colorscale": [
          [
           0,
           "#440154"
          ],
          [
           0.1111111111111111,
           "#482878"
          ],
          [
           0.2222222222222222,
           "#3e4989"
          ],
          [
           0.3333333333333333,
           "#31688e"
          ],
          [
           0.4444444444444444,
           "#26828e"
          ],
          [
           0.5555555555555556,
           "#1f9e89"
          ],
          [
           0.6666666666666666,
           "#35b779"
          ],
          [
           0.7777777777777778,
           "#6ece58"
          ],
          [
           0.8888888888888888,
           "#b5de2b"
          ],
          [
           1,
           "#fde725"
          ]
         ],
         "hovertemplate": "<b>X:</b> %{x:.1f} µm<br><b>Y:</b> %{y:.1f} µm<br><b>Value:</b> %{z}<br><extra></extra>",
         "name": "Z-slice 43",
         "showscale": true,
         "type": "heatmap",
         "visible": false,
         "x": {
          "bdata": "2WzfzHb4LsDBCCyxg/QtwKmkeJWQ8CzAkUDFeZ3sK8B63BFequgqwGJ4XkK35CnAShSrJsTgKMAysPcK0dwnwBpMRO/d2CbAAuiQ0+rUJcDqg92399AkwNIfKpwEzSPAurt2gBHJIsCiV8NkHsUhwIvzD0krwSDA5h65WnB6H8C2VlIjinIdwIaO6+ujahvAVsaEtL1iGcAm/h1911oXwPY1t0XxUhXAyG1QDgtLE8CYpenWJEMRwNC6BT99dg7AcCo40LBmCsAQmmph5FYGwLAJnfIXRwLAoPKeB5du/L/o0QMq/k70v1Bi0ZjKXui/oEE2uzE/0L9gQTa7MT/QPzBi0ZjKXug/2NEDKv5O9D+Y8p4Hl278P6wJnfIXRwJADJpqYeRWBkBsKjjQsGYKQMy6BT99dg5AlqXp1iRDEUDGbVAOC0sTQPI1t0XxUhVAIv4dfddaF0BSxoS0vWIZQIKO6+ujahtAslZSI4pyHUDiHrlacHofQInzD0krwSBAoVfDZB7FIUC5u3aAEckiQNEfKpwEzSNA6YPdt/fQJEAB6JDT6tQlQBlMRO/d2CZAMbD3CtHcJ0BJFKsmxOAoQF94XkK35ClAd9wRXqroKkCPQMV5newrQKekeJWQ8CxAvwgssYP0LUDZbN/MdvguQA==",
          "dtype": "f8"
         },
         "y": {
          "bdata": "AAAAAAAAHMDRXkJ7Ce0ZwKG9hPYS2hfAchzHcRzHFcBCewntJbQTwBPaS2gvoRHAyHEcx3EcD8BpL6G9hPYKwArtJbSX0AbArKqqqqqqAsCY0F5Cewn9v9xLaC+hvfS/QI7jOI7j6L+ACe0ltJfQv3AJ7SW0l9A/OI7jOI7j6D/YS2gvob30P5jQXkJ7Cf0/qKqqqqqqAkAI7SW0l9AGQGgvob2E9gpAxHEcx3EcD0AS2ktoL6ERQEJ7Ce0ltBNAcBzHcRzHFUCgvYT2EtoXQNBeQnsJ7RlAAAAAAAAAHEA=",
          "dtype": "f8"
         },
         "z": {
          "bdata": "AAAAAAAAAAAAAAAAAAAAAAAAAAAAAAAAAAAAAAAAAAAAAAAAAAAAAAAAAAAAAAAAAAAAAAAAAAAAAAAAAAAAAAAAAAAAAAAAAAAAAAAAAAAAAAAAAAAAAAAAAAAAAAAAAAAAAAAAAAAAAAAAAAAAAAAAAAAAAAAAAAAAAAAAAAAAAAAAAAAAAAAAAAAAAAAAAAAAAAAAAAAAAAAAAAAAAAAAAAAAAAAAAAAAAAAAAAAAAAAAAAAAAAAAAAAAAAAAAAAAAAAAAAAAAAAAAAAAAAAAAAAAAAAAAAAAAAAAAAAAAAAAAAAAAAAAAAAAAAAAAAAAAAAAAAAAAAAAAAAAAAAAAAAAAAAAAAAAAAAAAAAAAAAAAAAAAAAAAAAAAAAAAAAAAAAAAAAAAAAAAAAAAAAAAAAAAAAAAAAAAAAAAAAAAAAAAAAAAAAAAAAAAAAAAAAAAAAAAAAAAAAAAAAAAAAAAAAAAAAAAAAAAAAAAAAAAAAAAAAAAAAAAAAAAAAAAAAAAAAAAAAAAAAAAAAAAAAAAAAAAAAAAAAAAAAAAAAAAAAAAAAAAAAAAAAAAAAAAAAAAAAAAAAAAAAAAAAAAAAAAAAAAAAAAAAAAAAAAAAAAAAAAAAAAAAAAAAAAAAAAAAAAAAAAAAAAAAAAAAAAAAAAAAAAAAAAAAAAAAAAAAAAAAAAAABAQEAAAAAAAAAAAAAAAABAQEAAAAAAAAAAAAAAAAAAAAAAAAAAAAAAAAAAAAAAAAAAAAAAAAAAAAAAAABAQEBAQEBAAAAAAAAAAABAQEBAQEBAAAAAAAAAAAAAAAAAAAAAAAAAAAAAAAAAAAAAAAAAAAAAAAAAAAAAQEBAQEBAQEBAAAAAAAAAQEBAQEBAQEBAAAAAAAAAAAAAAAAAAAAAAAAAAAAAAAAAAAAAAAAAAAAAAAAAAEBAQEBAQEBAQEBAAAAAAEBAQEBAQEBAQEBAAAAAAAAAAAAAAAAAAAAAAAAAAAAAAAAAAAAAAAAAAAAAAAAAQEBAQEBAQEBAQEAAAAAAQEBAQEBAQEBAQEAAAAAAAAAAAAAAAAAAAAAAAAAAAAAAAAAAAAAAAAAAAAAAAABAQEBAQEBAQEBAQAAAAABAQEBAQEBAQEBAQAAAAAAAAAAAAAAAAAAAAAAAAAAAAAAAAAAAAAAAAAAAAAAAAEBAQEBAQEBAQEBAAAAAAEBAQEBAQEBAQEBAAAAAAAAAAAAAAAAAAAAAAAAAAAAAAAAAAAAAAAAAAAAAAAAAQEBAQEBAQEBAQEAAAAAAQEBAQEBAQEBAQEAAAAAAAAAAAAAAAAAAAAAAAAAAAAAAAAAAAAAAAAAAAAAAAABAQEBAQEBAQEBAQAAAAABAQEBAQEBAQEBAQAAAAAAAAAAAAAAAAAAAAAAAAAAAAAAAAAAAAAAAAAAAAAAAAABAQEBAQEBAQEAAAAAAAABAQEBAQEBAQEAAAAAAAAAAAAAAAAAAAAAAAAAAAAAAAAAAAAAAAAAAAAAAAAAAAABAQEBAQEBAAAAAAAAAAABAQEBAQEBAAAAAAAAAAAAAAAAAAAAAAAAAAAAAAAAAAAAAAAAAAAAAAAAAAAAAAAAAQEBAAAAAAAAAAAAAAAAAQEBAAAAAAAAAAAAAAAAAAAAAAAAAAAAAAAAAAAAAAAAAAAAAAAAAAAAAAAAAAAAAAAAAAAAAAAAAAAAAAAAAAAAAAAAAAAAAAAAAAAAAAAAAAAAAAAAAAAAAAAAAAAAAAAAAAAAAAAAAAAAAAAAAAAAAAAAAAAAAAAAAAAAAAAAAAAAAAAAAAAAAAAAAAAAAAAAAAAAAAAAAAAAAAAAAAAAAAAAAAAAAAAAAAAAAAAAAAAAAAAAAAAAAAAAAAAAAAAAAAAAAAAAAAAAAAAAAAAAAAAAAAAAAAAAAAAAAAAAAAAAAAAAAAAAAAAAAAAAAAAAAAAAAAAAAAAAAAAAAAAAAAAAAAAAAAAAAAAAAAAAAAAAAAAAAAAAAAAAAAAAAAAAAAAAAAAAAAAAAAAAAAAAAAAAAAAAAAAAAAAAAAAAAAAAAAAAAAAAAAAAAAAAAAAAAAAAAAAAAAAAAAAAAAAAAAAAAAAAAAAAAAAAAAAAAAAAAAAAAAAAAAAAAAAAAAAAAAAAAAAAAAAAAAAAAAAAAAAAAAAAAAAAAAAAAAAAAAAAAAAAAAAAAAAAAAAAAAAAAAAAAAAAAAAAAAAAAAAAAAAAAAAAAAAAAAAAAAAAAAAAAAAAAAAAAAAAAAAAAAAAAAAAAAAAAAAAAAAAAAAAAAAAAAAAAAAAAAAAAAAAAAAAAAAAAAA=",
          "dtype": "u1",
          "shape": "28, 62"
         }
        },
        {
         "colorbar": {
          "ticktext": [
           "Outside",
           "Inside"
          ],
          "tickvals": [
           0,
           1
          ],
          "title": {
           "text": "Neuron<br>Presence"
          }
         },
         "colorscale": [
          [
           0,
           "#440154"
          ],
          [
           0.1111111111111111,
           "#482878"
          ],
          [
           0.2222222222222222,
           "#3e4989"
          ],
          [
           0.3333333333333333,
           "#31688e"
          ],
          [
           0.4444444444444444,
           "#26828e"
          ],
          [
           0.5555555555555556,
           "#1f9e89"
          ],
          [
           0.6666666666666666,
           "#35b779"
          ],
          [
           0.7777777777777778,
           "#6ece58"
          ],
          [
           0.8888888888888888,
           "#b5de2b"
          ],
          [
           1,
           "#fde725"
          ]
         ],
         "hovertemplate": "<b>X:</b> %{x:.1f} µm<br><b>Y:</b> %{y:.1f} µm<br><b>Value:</b> %{z}<br><extra></extra>",
         "name": "Z-slice 44",
         "showscale": true,
         "type": "heatmap",
         "visible": false,
         "x": {
          "bdata": "2WzfzHb4LsDBCCyxg/QtwKmkeJWQ8CzAkUDFeZ3sK8B63BFequgqwGJ4XkK35CnAShSrJsTgKMAysPcK0dwnwBpMRO/d2CbAAuiQ0+rUJcDqg92399AkwNIfKpwEzSPAurt2gBHJIsCiV8NkHsUhwIvzD0krwSDA5h65WnB6H8C2VlIjinIdwIaO6+ujahvAVsaEtL1iGcAm/h1911oXwPY1t0XxUhXAyG1QDgtLE8CYpenWJEMRwNC6BT99dg7AcCo40LBmCsAQmmph5FYGwLAJnfIXRwLAoPKeB5du/L/o0QMq/k70v1Bi0ZjKXui/oEE2uzE/0L9gQTa7MT/QPzBi0ZjKXug/2NEDKv5O9D+Y8p4Hl278P6wJnfIXRwJADJpqYeRWBkBsKjjQsGYKQMy6BT99dg5AlqXp1iRDEUDGbVAOC0sTQPI1t0XxUhVAIv4dfddaF0BSxoS0vWIZQIKO6+ujahtAslZSI4pyHUDiHrlacHofQInzD0krwSBAoVfDZB7FIUC5u3aAEckiQNEfKpwEzSNA6YPdt/fQJEAB6JDT6tQlQBlMRO/d2CZAMbD3CtHcJ0BJFKsmxOAoQF94XkK35ClAd9wRXqroKkCPQMV5newrQKekeJWQ8CxAvwgssYP0LUDZbN/MdvguQA==",
          "dtype": "f8"
         },
         "y": {
          "bdata": "AAAAAAAAHMDRXkJ7Ce0ZwKG9hPYS2hfAchzHcRzHFcBCewntJbQTwBPaS2gvoRHAyHEcx3EcD8BpL6G9hPYKwArtJbSX0AbArKqqqqqqAsCY0F5Cewn9v9xLaC+hvfS/QI7jOI7j6L+ACe0ltJfQv3AJ7SW0l9A/OI7jOI7j6D/YS2gvob30P5jQXkJ7Cf0/qKqqqqqqAkAI7SW0l9AGQGgvob2E9gpAxHEcx3EcD0AS2ktoL6ERQEJ7Ce0ltBNAcBzHcRzHFUCgvYT2EtoXQNBeQnsJ7RlAAAAAAAAAHEA=",
          "dtype": "f8"
         },
         "z": {
          "bdata": "AAAAAAAAAAAAAAAAAAAAAAAAAAAAAAAAAAAAAAAAAAAAAAAAAAAAAAAAAAAAAAAAAAAAAAAAAAAAAAAAAAAAAAAAAAAAAAAAAAAAAAAAAAAAAAAAAAAAAAAAAAAAAAAAAAAAAAAAAAAAAAAAAAAAAAAAAAAAAAAAAAAAAAAAAAAAAAAAAAAAAAAAAAAAAAAAAAAAAAAAAAAAAAAAAAAAAAAAAAAAAAAAAAAAAAAAAAAAAAAAAAAAAAAAAAAAAAAAAAAAAAAAAAAAAAAAAAAAAAAAAAAAAAAAAAAAAAAAAAAAAAAAAAAAAAAAAAAAAAAAAAAAAAAAAAAAAAAAAAAAAAAAAAAAAAAAAAAAAAAAAAAAAAAAAAAAAAAAAAAAAAAAAAAAAAAAAAAAAAAAAAAAAAAAAAAAAAAAAAAAAAAAAAAAAAAAAAAAAAAAAAAAAAAAAAAAAAAAAAAAAAAAAAAAAAAAAAAAAAAAAAAAAAAAAAAAAAAAAAAAAAAAAAAAAAAAAAAAAAAAAAAAAAAAAAAAAAAAAAAAAAAAAAAAAAAAAAAAAAAAAAAAAAAAAAAAAAAAAAAAAAAAAAAAAAAAAAAAAAAAAAAAAAAAAAAAAAAAAAAAAAAAAAAAAAAAAAAAAAAAAAAAAAAAAAAAAAAAAAAAAAAAAAAAAAAAAAAAAAAAAAAAAAAAAAEBAQAAAAAAAAAAAAAAAAAAAQEBAAAAAAAAAAAAAAAAAAAAAAAAAAAAAAAAAAAAAAAAAAAAAAAAAAAAAAEBAQEBAQEAAAAAAAAAAAAAAQEBAQEBAQAAAAAAAAAAAAAAAAAAAAAAAAAAAAAAAAAAAAAAAAAAAAAAAAABAQEBAQEBAQEAAAAAAAAAAAEBAQEBAQEBAQAAAAAAAAAAAAAAAAAAAAAAAAAAAAAAAAAAAAAAAAAAAAAAAQEBAQEBAQEBAQEAAAAAAAABAQEBAQEBAQEBAQAAAAAAAAAAAAAAAAAAAAAAAAAAAAAAAAAAAAAAAAAAAAABAQEBAQEBAQEBAQAAAAAAAAEBAQEBAQEBAQEBAAAAAAAAAAAAAAAAAAAAAAAAAAAAAAAAAAAAAAAAAAAAAAEBAQEBAQEBAQEBAAAAAAAAAQEBAQEBAQEBAQEAAAAAAAAAAAAAAAAAAAAAAAAAAAAAAAAAAAAAAAAAAAAAAQEBAQEBAQEBAQEAAAAAAAABAQEBAQEBAQEBAQAAAAAAAAAAAAAAAAAAAAAAAAAAAAAAAAAAAAAAAAAAAAABAQEBAQEBAQEBAQAAAAAAAAEBAQEBAQEBAQEBAAAAAAAAAAAAAAAAAAAAAAAAAAAAAAAAAAAAAAAAAAAAAAEBAQEBAQEBAQEBAAAAAAAAAQEBAQEBAQEBAQEAAAAAAAAAAAAAAAAAAAAAAAAAAAAAAAAAAAAAAAAAAAAAAAEBAQEBAQEBAQAAAAAAAAAAAQEBAQEBAQEBAAAAAAAAAAAAAAAAAAAAAAAAAAAAAAAAAAAAAAAAAAAAAAAAAAEBAQEBAQEAAAAAAAAAAAAAAQEBAQEBAQAAAAAAAAAAAAAAAAAAAAAAAAAAAAAAAAAAAAAAAAAAAAAAAAAAAAABAQEAAAAAAAAAAAAAAAAAAAEBAQAAAAAAAAAAAAAAAAAAAAAAAAAAAAAAAAAAAAAAAAAAAAAAAAAAAAAAAAAAAAAAAAAAAAAAAAAAAAAAAAAAAAAAAAAAAAAAAAAAAAAAAAAAAAAAAAAAAAAAAAAAAAAAAAAAAAAAAAAAAAAAAAAAAAAAAAAAAAAAAAAAAAAAAAAAAAAAAAAAAAAAAAAAAAAAAAAAAAAAAAAAAAAAAAAAAAAAAAAAAAAAAAAAAAAAAAAAAAAAAAAAAAAAAAAAAAAAAAAAAAAAAAAAAAAAAAAAAAAAAAAAAAAAAAAAAAAAAAAAAAAAAAAAAAAAAAAAAAAAAAAAAAAAAAAAAAAAAAAAAAAAAAAAAAAAAAAAAAAAAAAAAAAAAAAAAAAAAAAAAAAAAAAAAAAAAAAAAAAAAAAAAAAAAAAAAAAAAAAAAAAAAAAAAAAAAAAAAAAAAAAAAAAAAAAAAAAAAAAAAAAAAAAAAAAAAAAAAAAAAAAAAAAAAAAAAAAAAAAAAAAAAAAAAAAAAAAAAAAAAAAAAAAAAAAAAAAAAAAAAAAAAAAAAAAAAAAAAAAAAAAAAAAAAAAAAAAAAAAAAAAAAAAAAAAAAAAAAAAAAAAAAAAAAAAAAAAAAAAAAAAAAAAAAAAAAAAAAAAAAAAAAAAAAAAAAAAAAAAAAAAAAAAAAAAAAAAAAAAAAAAAAAAAAAA=",
          "dtype": "u1",
          "shape": "28, 62"
         }
        },
        {
         "colorbar": {
          "ticktext": [
           "Outside",
           "Inside"
          ],
          "tickvals": [
           0,
           1
          ],
          "title": {
           "text": "Neuron<br>Presence"
          }
         },
         "colorscale": [
          [
           0,
           "#440154"
          ],
          [
           0.1111111111111111,
           "#482878"
          ],
          [
           0.2222222222222222,
           "#3e4989"
          ],
          [
           0.3333333333333333,
           "#31688e"
          ],
          [
           0.4444444444444444,
           "#26828e"
          ],
          [
           0.5555555555555556,
           "#1f9e89"
          ],
          [
           0.6666666666666666,
           "#35b779"
          ],
          [
           0.7777777777777778,
           "#6ece58"
          ],
          [
           0.8888888888888888,
           "#b5de2b"
          ],
          [
           1,
           "#fde725"
          ]
         ],
         "hovertemplate": "<b>X:</b> %{x:.1f} µm<br><b>Y:</b> %{y:.1f} µm<br><b>Value:</b> %{z}<br><extra></extra>",
         "name": "Z-slice 45",
         "showscale": true,
         "type": "heatmap",
         "visible": false,
         "x": {
          "bdata": "2WzfzHb4LsDBCCyxg/QtwKmkeJWQ8CzAkUDFeZ3sK8B63BFequgqwGJ4XkK35CnAShSrJsTgKMAysPcK0dwnwBpMRO/d2CbAAuiQ0+rUJcDqg92399AkwNIfKpwEzSPAurt2gBHJIsCiV8NkHsUhwIvzD0krwSDA5h65WnB6H8C2VlIjinIdwIaO6+ujahvAVsaEtL1iGcAm/h1911oXwPY1t0XxUhXAyG1QDgtLE8CYpenWJEMRwNC6BT99dg7AcCo40LBmCsAQmmph5FYGwLAJnfIXRwLAoPKeB5du/L/o0QMq/k70v1Bi0ZjKXui/oEE2uzE/0L9gQTa7MT/QPzBi0ZjKXug/2NEDKv5O9D+Y8p4Hl278P6wJnfIXRwJADJpqYeRWBkBsKjjQsGYKQMy6BT99dg5AlqXp1iRDEUDGbVAOC0sTQPI1t0XxUhVAIv4dfddaF0BSxoS0vWIZQIKO6+ujahtAslZSI4pyHUDiHrlacHofQInzD0krwSBAoVfDZB7FIUC5u3aAEckiQNEfKpwEzSNA6YPdt/fQJEAB6JDT6tQlQBlMRO/d2CZAMbD3CtHcJ0BJFKsmxOAoQF94XkK35ClAd9wRXqroKkCPQMV5newrQKekeJWQ8CxAvwgssYP0LUDZbN/MdvguQA==",
          "dtype": "f8"
         },
         "y": {
          "bdata": "AAAAAAAAHMDRXkJ7Ce0ZwKG9hPYS2hfAchzHcRzHFcBCewntJbQTwBPaS2gvoRHAyHEcx3EcD8BpL6G9hPYKwArtJbSX0AbArKqqqqqqAsCY0F5Cewn9v9xLaC+hvfS/QI7jOI7j6L+ACe0ltJfQv3AJ7SW0l9A/OI7jOI7j6D/YS2gvob30P5jQXkJ7Cf0/qKqqqqqqAkAI7SW0l9AGQGgvob2E9gpAxHEcx3EcD0AS2ktoL6ERQEJ7Ce0ltBNAcBzHcRzHFUCgvYT2EtoXQNBeQnsJ7RlAAAAAAAAAHEA=",
          "dtype": "f8"
         },
         "z": {
          "bdata": "AAAAAAAAAAAAAAAAAAAAAAAAAAAAAAAAAAAAAAAAAAAAAAAAAAAAAAAAAAAAAAAAAAAAAAAAAAAAAAAAAAAAAAAAAAAAAAAAAAAAAAAAAAAAAAAAAAAAAAAAAAAAAAAAAAAAAAAAAAAAAAAAAAAAAAAAAAAAAAAAAAAAAAAAAAAAAAAAAAAAAAAAAAAAAAAAAAAAAAAAAAAAAAAAAAAAAAAAAAAAAAAAAAAAAAAAAAAAAAAAAAAAAAAAAAAAAAAAAAAAAAAAAAAAAAAAAAAAAAAAAAAAAAAAAAAAAAAAAAAAAAAAAAAAAAAAAAAAAAAAAAAAAAAAAAAAAAAAAAAAAAAAAAAAAAAAAAAAAAAAAAAAAAAAAAAAAAAAAAAAAAAAAAAAAAAAAAAAAAAAAAAAAAAAAAAAAAAAAAAAAAAAAAAAAAAAAAAAAAAAAAAAAAAAAAAAAAAAAAAAAAAAAAAAAAAAAAAAAAAAAAAAAAAAAAAAAAAAAAAAAAAAAAAAAAAAAAAAAAAAAAAAAAAAAAAAAAAAAAAAAAAAAAAAAAAAAAAAAAAAAAAAAAAAAAAAAAAAAAAAAAAAAAAAAAAAAAAAAAAAAAAAAAAAAAAAAAAAAAAAAAAAAAAAAAAAAAAAAAAAAAAAAAAAAAAAAAAAAAAAAAAAAAAAAAAAAAAAAAAAAAAAAAAAAQEBAAAAAAAAAAAAAAAAAAAAAAEBAQAAAAAAAAAAAAAAAAAAAAAAAAAAAAAAAAAAAAAAAAAAAAAAAAAAAQEBAQEBAQAAAAAAAAAAAAAAAAEBAQEBAQEAAAAAAAAAAAAAAAAAAAAAAAAAAAAAAAAAAAAAAAAAAAAAAAEBAQEBAQEBAQAAAAAAAAAAAAABAQEBAQEBAQEAAAAAAAAAAAAAAAAAAAAAAAAAAAAAAAAAAAAAAAAAAAABAQEBAQEBAQEBAQAAAAAAAAAAAQEBAQEBAQEBAQEAAAAAAAAAAAAAAAAAAAAAAAAAAAAAAAAAAAAAAAAAAAEBAQEBAQEBAQEBAAAAAAAAAAABAQEBAQEBAQEBAQAAAAAAAAAAAAAAAAAAAAAAAAAAAAAAAAAAAAAAAAAAAQEBAQEBAQEBAQEAAAAAAAAAAAEBAQEBAQEBAQEBAAAAAAAAAAAAAAAAAAAAAAAAAAAAAAAAAAAAAAAAAAABAQEBAQEBAQEBAQAAAAAAAAAAAQEBAQEBAQEBAQEAAAAAAAAAAAAAAAAAAAAAAAAAAAAAAAAAAAAAAAAAAAEBAQEBAQEBAQEBAAAAAAAAAAABAQEBAQEBAQEBAQAAAAAAAAAAAAAAAAAAAAAAAAAAAAAAAAAAAAAAAAAAAQEBAQEBAQEBAQEAAAAAAAAAAAEBAQEBAQEBAQEBAAAAAAAAAAAAAAAAAAAAAAAAAAAAAAAAAAAAAAAAAAAAAQEBAQEBAQEBAAAAAAAAAAAAAAEBAQEBAQEBAQAAAAAAAAAAAAAAAAAAAAAAAAAAAAAAAAAAAAAAAAAAAAAAAQEBAQEBAQAAAAAAAAAAAAAAAAEBAQEBAQEAAAAAAAAAAAAAAAAAAAAAAAAAAAAAAAAAAAAAAAAAAAAAAAAAAAEBAQAAAAAAAAAAAAAAAAAAAAABAQEAAAAAAAAAAAAAAAAAAAAAAAAAAAAAAAAAAAAAAAAAAAAAAAAAAAAAAAAAAAAAAAAAAAAAAAAAAAAAAAAAAAAAAAAAAAAAAAAAAAAAAAAAAAAAAAAAAAAAAAAAAAAAAAAAAAAAAAAAAAAAAAAAAAAAAAAAAAAAAAAAAAAAAAAAAAAAAAAAAAAAAAAAAAAAAAAAAAAAAAAAAAAAAAAAAAAAAAAAAAAAAAAAAAAAAAAAAAAAAAAAAAAAAAAAAAAAAAAAAAAAAAAAAAAAAAAAAAAAAAAAAAAAAAAAAAAAAAAAAAAAAAAAAAAAAAAAAAAAAAAAAAAAAAAAAAAAAAAAAAAAAAAAAAAAAAAAAAAAAAAAAAAAAAAAAAAAAAAAAAAAAAAAAAAAAAAAAAAAAAAAAAAAAAAAAAAAAAAAAAAAAAAAAAAAAAAAAAAAAAAAAAAAAAAAAAAAAAAAAAAAAAAAAAAAAAAAAAAAAAAAAAAAAAAAAAAAAAAAAAAAAAAAAAAAAAAAAAAAAAAAAAAAAAAAAAAAAAAAAAAAAAAAAAAAAAAAAAAAAAAAAAAAAAAAAAAAAAAAAAAAAAAAAAAAAAAAAAAAAAAAAAAAAAAAAAAAAAAAAAAAAAAAAAAAAAAAAAAAAAAAAAAAAAAAAAAAAAAAAAAAAAAAAAAAAAAAAAAAAAAAAAAAAAA=",
          "dtype": "u1",
          "shape": "28, 62"
         }
        },
        {
         "colorbar": {
          "ticktext": [
           "Outside",
           "Inside"
          ],
          "tickvals": [
           0,
           1
          ],
          "title": {
           "text": "Neuron<br>Presence"
          }
         },
         "colorscale": [
          [
           0,
           "#440154"
          ],
          [
           0.1111111111111111,
           "#482878"
          ],
          [
           0.2222222222222222,
           "#3e4989"
          ],
          [
           0.3333333333333333,
           "#31688e"
          ],
          [
           0.4444444444444444,
           "#26828e"
          ],
          [
           0.5555555555555556,
           "#1f9e89"
          ],
          [
           0.6666666666666666,
           "#35b779"
          ],
          [
           0.7777777777777778,
           "#6ece58"
          ],
          [
           0.8888888888888888,
           "#b5de2b"
          ],
          [
           1,
           "#fde725"
          ]
         ],
         "hovertemplate": "<b>X:</b> %{x:.1f} µm<br><b>Y:</b> %{y:.1f} µm<br><b>Value:</b> %{z}<br><extra></extra>",
         "name": "Z-slice 46",
         "showscale": true,
         "type": "heatmap",
         "visible": false,
         "x": {
          "bdata": "2WzfzHb4LsDBCCyxg/QtwKmkeJWQ8CzAkUDFeZ3sK8B63BFequgqwGJ4XkK35CnAShSrJsTgKMAysPcK0dwnwBpMRO/d2CbAAuiQ0+rUJcDqg92399AkwNIfKpwEzSPAurt2gBHJIsCiV8NkHsUhwIvzD0krwSDA5h65WnB6H8C2VlIjinIdwIaO6+ujahvAVsaEtL1iGcAm/h1911oXwPY1t0XxUhXAyG1QDgtLE8CYpenWJEMRwNC6BT99dg7AcCo40LBmCsAQmmph5FYGwLAJnfIXRwLAoPKeB5du/L/o0QMq/k70v1Bi0ZjKXui/oEE2uzE/0L9gQTa7MT/QPzBi0ZjKXug/2NEDKv5O9D+Y8p4Hl278P6wJnfIXRwJADJpqYeRWBkBsKjjQsGYKQMy6BT99dg5AlqXp1iRDEUDGbVAOC0sTQPI1t0XxUhVAIv4dfddaF0BSxoS0vWIZQIKO6+ujahtAslZSI4pyHUDiHrlacHofQInzD0krwSBAoVfDZB7FIUC5u3aAEckiQNEfKpwEzSNA6YPdt/fQJEAB6JDT6tQlQBlMRO/d2CZAMbD3CtHcJ0BJFKsmxOAoQF94XkK35ClAd9wRXqroKkCPQMV5newrQKekeJWQ8CxAvwgssYP0LUDZbN/MdvguQA==",
          "dtype": "f8"
         },
         "y": {
          "bdata": "AAAAAAAAHMDRXkJ7Ce0ZwKG9hPYS2hfAchzHcRzHFcBCewntJbQTwBPaS2gvoRHAyHEcx3EcD8BpL6G9hPYKwArtJbSX0AbArKqqqqqqAsCY0F5Cewn9v9xLaC+hvfS/QI7jOI7j6L+ACe0ltJfQv3AJ7SW0l9A/OI7jOI7j6D/YS2gvob30P5jQXkJ7Cf0/qKqqqqqqAkAI7SW0l9AGQGgvob2E9gpAxHEcx3EcD0AS2ktoL6ERQEJ7Ce0ltBNAcBzHcRzHFUCgvYT2EtoXQNBeQnsJ7RlAAAAAAAAAHEA=",
          "dtype": "f8"
         },
         "z": {
          "bdata": "AAAAAAAAAAAAAAAAAAAAAAAAAAAAAAAAAAAAAAAAAAAAAAAAAAAAAAAAAAAAAAAAAAAAAAAAAAAAAAAAAAAAAAAAAAAAAAAAAAAAAAAAAAAAAAAAAAAAAAAAAAAAAAAAAAAAAAAAAAAAAAAAAAAAAAAAAAAAAAAAAAAAAAAAAAAAAAAAAAAAAAAAAAAAAAAAAAAAAAAAAAAAAAAAAAAAAAAAAAAAAAAAAAAAAAAAAAAAAAAAAAAAAAAAAAAAAAAAAAAAAAAAAAAAAAAAAAAAAAAAAAAAAAAAAAAAAAAAAAAAAAAAAAAAAAAAAAAAAAAAAAAAAAAAAAAAAAAAAAAAAAAAAAAAAAAAAAAAAAAAAAAAAAAAAAAAAAAAAAAAAAAAAAAAAAAAAAAAAAAAAAAAAAAAAAAAAAAAAAAAAAAAAAAAAAAAAAAAAAAAAAAAAAAAAAAAAAAAAAAAAAAAAAAAAAAAAAAAAAAAAAAAAAAAAAAAAAAAAAAAAAAAAAAAAAAAAAAAAAAAAAAAAAAAAAAAAAAAAAAAAAAAAAAAAAAAAAAAAAAAAAAAAAAAAAAAAAAAAAAAAAAAAAAAAAAAAAAAAAAAAAAAAAAAAAAAAAAAAAAAAAAAAAAAAAAAAAAAAAAAAAAAAAAAAAAAAAAAAAAAAAAAAAAAAAAAAAAAAAAAAAAAAAABAQEAAAAAAAAAAAAAAAAAAAAAAAABAQEAAAAAAAAAAAAAAAAAAAAAAAAAAAAAAAAAAAAAAAAAAAAAAAABAQEBAQEBAAAAAAAAAAAAAAAAAAABAQEBAQEBAAAAAAAAAAAAAAAAAAAAAAAAAAAAAAAAAAAAAAAAAAAAAQEBAQEBAQEBAAAAAAAAAAAAAAAAAQEBAQEBAQEBAAAAAAAAAAAAAAAAAAAAAAAAAAAAAAAAAAAAAAAAAAEBAQEBAQEBAQEBAAAAAAAAAAAAAAEBAQEBAQEBAQEBAAAAAAAAAAAAAAAAAAAAAAAAAAAAAAAAAAAAAAAAAQEBAQEBAQEBAQEAAAAAAAAAAAAAAQEBAQEBAQEBAQEAAAAAAAAAAAAAAAAAAAAAAAAAAAAAAAAAAAAAAAABAQEBAQEBAQEBAQAAAAAAAAAAAAABAQEBAQEBAQEBAQAAAAAAAAAAAAAAAAAAAAAAAAAAAAAAAAAAAAAAAAEBAQEBAQEBAQEBAAAAAAAAAAAAAAEBAQEBAQEBAQEBAAAAAAAAAAAAAAAAAAAAAAAAAAAAAAAAAAAAAAAAAQEBAQEBAQEBAQEAAAAAAAAAAAAAAQEBAQEBAQEBAQEAAAAAAAAAAAAAAAAAAAAAAAAAAAAAAAAAAAAAAAABAQEBAQEBAQEBAQAAAAAAAAAAAAABAQEBAQEBAQEBAQAAAAAAAAAAAAAAAAAAAAAAAAAAAAAAAAAAAAAAAAABAQEBAQEBAQEAAAAAAAAAAAAAAAABAQEBAQEBAQEAAAAAAAAAAAAAAAAAAAAAAAAAAAAAAAAAAAAAAAAAAAABAQEBAQEBAAAAAAAAAAAAAAAAAAABAQEBAQEBAAAAAAAAAAAAAAAAAAAAAAAAAAAAAAAAAAAAAAAAAAAAAAAAAQEBAAAAAAAAAAAAAAAAAAAAAAAAAQEBAAAAAAAAAAAAAAAAAAAAAAAAAAAAAAAAAAAAAAAAAAAAAAAAAAAAAAAAAAAAAAAAAAAAAAAAAAAAAAAAAAAAAAAAAAAAAAAAAAAAAAAAAAAAAAAAAAAAAAAAAAAAAAAAAAAAAAAAAAAAAAAAAAAAAAAAAAAAAAAAAAAAAAAAAAAAAAAAAAAAAAAAAAAAAAAAAAAAAAAAAAAAAAAAAAAAAAAAAAAAAAAAAAAAAAAAAAAAAAAAAAAAAAAAAAAAAAAAAAAAAAAAAAAAAAAAAAAAAAAAAAAAAAAAAAAAAAAAAAAAAAAAAAAAAAAAAAAAAAAAAAAAAAAAAAAAAAAAAAAAAAAAAAAAAAAAAAAAAAAAAAAAAAAAAAAAAAAAAAAAAAAAAAAAAAAAAAAAAAAAAAAAAAAAAAAAAAAAAAAAAAAAAAAAAAAAAAAAAAAAAAAAAAAAAAAAAAAAAAAAAAAAAAAAAAAAAAAAAAAAAAAAAAAAAAAAAAAAAAAAAAAAAAAAAAAAAAAAAAAAAAAAAAAAAAAAAAAAAAAAAAAAAAAAAAAAAAAAAAAAAAAAAAAAAAAAAAAAAAAAAAAAAAAAAAAAAAAAAAAAAAAAAAAAAAAAAAAAAAAAAAAAAAAAAAAAAAAAAAAAAAAAAAAAAAAAAAAAAAAAAAAAAAAAAAAAAAAAAAAAAAAAAAA=",
          "dtype": "u1",
          "shape": "28, 62"
         }
        },
        {
         "colorbar": {
          "ticktext": [
           "Outside",
           "Inside"
          ],
          "tickvals": [
           0,
           1
          ],
          "title": {
           "text": "Neuron<br>Presence"
          }
         },
         "colorscale": [
          [
           0,
           "#440154"
          ],
          [
           0.1111111111111111,
           "#482878"
          ],
          [
           0.2222222222222222,
           "#3e4989"
          ],
          [
           0.3333333333333333,
           "#31688e"
          ],
          [
           0.4444444444444444,
           "#26828e"
          ],
          [
           0.5555555555555556,
           "#1f9e89"
          ],
          [
           0.6666666666666666,
           "#35b779"
          ],
          [
           0.7777777777777778,
           "#6ece58"
          ],
          [
           0.8888888888888888,
           "#b5de2b"
          ],
          [
           1,
           "#fde725"
          ]
         ],
         "hovertemplate": "<b>X:</b> %{x:.1f} µm<br><b>Y:</b> %{y:.1f} µm<br><b>Value:</b> %{z}<br><extra></extra>",
         "name": "Z-slice 47",
         "showscale": true,
         "type": "heatmap",
         "visible": false,
         "x": {
          "bdata": "2WzfzHb4LsDBCCyxg/QtwKmkeJWQ8CzAkUDFeZ3sK8B63BFequgqwGJ4XkK35CnAShSrJsTgKMAysPcK0dwnwBpMRO/d2CbAAuiQ0+rUJcDqg92399AkwNIfKpwEzSPAurt2gBHJIsCiV8NkHsUhwIvzD0krwSDA5h65WnB6H8C2VlIjinIdwIaO6+ujahvAVsaEtL1iGcAm/h1911oXwPY1t0XxUhXAyG1QDgtLE8CYpenWJEMRwNC6BT99dg7AcCo40LBmCsAQmmph5FYGwLAJnfIXRwLAoPKeB5du/L/o0QMq/k70v1Bi0ZjKXui/oEE2uzE/0L9gQTa7MT/QPzBi0ZjKXug/2NEDKv5O9D+Y8p4Hl278P6wJnfIXRwJADJpqYeRWBkBsKjjQsGYKQMy6BT99dg5AlqXp1iRDEUDGbVAOC0sTQPI1t0XxUhVAIv4dfddaF0BSxoS0vWIZQIKO6+ujahtAslZSI4pyHUDiHrlacHofQInzD0krwSBAoVfDZB7FIUC5u3aAEckiQNEfKpwEzSNA6YPdt/fQJEAB6JDT6tQlQBlMRO/d2CZAMbD3CtHcJ0BJFKsmxOAoQF94XkK35ClAd9wRXqroKkCPQMV5newrQKekeJWQ8CxAvwgssYP0LUDZbN/MdvguQA==",
          "dtype": "f8"
         },
         "y": {
          "bdata": "AAAAAAAAHMDRXkJ7Ce0ZwKG9hPYS2hfAchzHcRzHFcBCewntJbQTwBPaS2gvoRHAyHEcx3EcD8BpL6G9hPYKwArtJbSX0AbArKqqqqqqAsCY0F5Cewn9v9xLaC+hvfS/QI7jOI7j6L+ACe0ltJfQv3AJ7SW0l9A/OI7jOI7j6D/YS2gvob30P5jQXkJ7Cf0/qKqqqqqqAkAI7SW0l9AGQGgvob2E9gpAxHEcx3EcD0AS2ktoL6ERQEJ7Ce0ltBNAcBzHcRzHFUCgvYT2EtoXQNBeQnsJ7RlAAAAAAAAAHEA=",
          "dtype": "f8"
         },
         "z": {
          "bdata": "AAAAAAAAAAAAAAAAAAAAAAAAAAAAAAAAAAAAAAAAAAAAAAAAAAAAAAAAAAAAAAAAAAAAAAAAAAAAAAAAAAAAAAAAAAAAAAAAAAAAAAAAAAAAAAAAAAAAAAAAAAAAAAAAAAAAAAAAAAAAAAAAAAAAAAAAAAAAAAAAAAAAAAAAAAAAAAAAAAAAAAAAAAAAAAAAAAAAAAAAAAAAAAAAAAAAAAAAAAAAAAAAAAAAAAAAAAAAAAAAAAAAAAAAAAAAAAAAAAAAAAAAAAAAAAAAAAAAAAAAAAAAAAAAAAAAAAAAAAAAAAAAAAAAAAAAAAAAAAAAAAAAAAAAAAAAAAAAAAAAAAAAAAAAAAAAAAAAAAAAAAAAAAAAAAAAAAAAAAAAAAAAAAAAAAAAAAAAAAAAAAAAAAAAAAAAAAAAAAAAAAAAAAAAAAAAAAAAAAAAAAAAAAAAAAAAAAAAAAAAAAAAAAAAAAAAAAAAAAAAAAAAAAAAAAAAAAAAAAAAAAAAAAAAAAAAAAAAAAAAAAAAAAAAAAAAAAAAAAAAAAAAAAAAAAAAAAAAAAAAAAAAAAAAAAAAAAAAAAAAAAAAAAAAAAAAAAAAAAAAAAAAAAAAAAAAAAAAAAAAAAAAAAAAAAAAAAAAAAAAAAAAAAAAAAAAAAAAAAAAAAAAAAAAAAAAAAAAAAAAAAAAAAEBAQAAAAAAAAAAAAAAAAAAAAAAAAAAAQEBAAAAAAAAAAAAAAAAAAAAAAAAAAAAAAAAAAAAAAAAAAAAAAEBAQEBAQEAAAAAAAAAAAAAAAAAAAAAAQEBAQEBAQAAAAAAAAAAAAAAAAAAAAAAAAAAAAAAAAAAAAAAAAABAQEBAQEBAQEAAAAAAAAAAAAAAAAAAAEBAQEBAQEBAQAAAAAAAAAAAAAAAAAAAAAAAAAAAAAAAAAAAAAAAQEBAQEBAQEBAQEAAAAAAAAAAAAAAAABAQEBAQEBAQEBAQAAAAAAAAAAAAAAAAAAAAAAAAAAAAAAAAAAAAABAQEBAQEBAQEBAQAAAAAAAAAAAAAAAAEBAQEBAQEBAQEBAAAAAAAAAAAAAAAAAAAAAAAAAAAAAAAAAAAAAAEBAQEBAQEBAQEBAAAAAAAAAAAAAAAAAQEBAQEBAQEBAQEAAAAAAAAAAAAAAAAAAAAAAAAAAAAAAAAAAAAAAQEBAQEBAQEBAQEAAAAAAAAAAAAAAAABAQEBAQEBAQEBAQAAAAAAAAAAAAAAAAAAAAAAAAAAAAAAAAAAAAABAQEBAQEBAQEBAQAAAAAAAAAAAAAAAAEBAQEBAQEBAQEBAAAAAAAAAAAAAAAAAAAAAAAAAAAAAAAAAAAAAAEBAQEBAQEBAQEBAAAAAAAAAAAAAAAAAQEBAQEBAQEBAQEAAAAAAAAAAAAAAAAAAAAAAAAAAAAAAAAAAAAAAAEBAQEBAQEBAQAAAAAAAAAAAAAAAAAAAQEBAQEBAQEBAAAAAAAAAAAAAAAAAAAAAAAAAAAAAAAAAAAAAAAAAAEBAQEBAQEAAAAAAAAAAAAAAAAAAAAAAQEBAQEBAQAAAAAAAAAAAAAAAAAAAAAAAAAAAAAAAAAAAAAAAAAAAAABAQEAAAAAAAAAAAAAAAAAAAAAAAAAAAEBAQAAAAAAAAAAAAAAAAAAAAAAAAAAAAAAAAAAAAAAAAAAAAAAAAAAAAAAAAAAAAAAAAAAAAAAAAAAAAAAAAAAAAAAAAAAAAAAAAAAAAAAAAAAAAAAAAAAAAAAAAAAAAAAAAAAAAAAAAAAAAAAAAAAAAAAAAAAAAAAAAAAAAAAAAAAAAAAAAAAAAAAAAAAAAAAAAAAAAAAAAAAAAAAAAAAAAAAAAAAAAAAAAAAAAAAAAAAAAAAAAAAAAAAAAAAAAAAAAAAAAAAAAAAAAAAAAAAAAAAAAAAAAAAAAAAAAAAAAAAAAAAAAAAAAAAAAAAAAAAAAAAAAAAAAAAAAAAAAAAAAAAAAAAAAAAAAAAAAAAAAAAAAAAAAAAAAAAAAAAAAAAAAAAAAAAAAAAAAAAAAAAAAAAAAAAAAAAAAAAAAAAAAAAAAAAAAAAAAAAAAAAAAAAAAAAAAAAAAAAAAAAAAAAAAAAAAAAAAAAAAAAAAAAAAAAAAAAAAAAAAAAAAAAAAAAAAAAAAAAAAAAAAAAAAAAAAAAAAAAAAAAAAAAAAAAAAAAAAAAAAAAAAAAAAAAAAAAAAAAAAAAAAAAAAAAAAAAAAAAAAAAAAAAAAAAAAAAAAAAAAAAAAAAAAAAAAAAAAAAAAAAAAAAAAAAAAAAAAAAAAAAAAAAAAAAAAAAAAAAAAAAAAA=",
          "dtype": "u1",
          "shape": "28, 62"
         }
        },
        {
         "colorbar": {
          "ticktext": [
           "Outside",
           "Inside"
          ],
          "tickvals": [
           0,
           1
          ],
          "title": {
           "text": "Neuron<br>Presence"
          }
         },
         "colorscale": [
          [
           0,
           "#440154"
          ],
          [
           0.1111111111111111,
           "#482878"
          ],
          [
           0.2222222222222222,
           "#3e4989"
          ],
          [
           0.3333333333333333,
           "#31688e"
          ],
          [
           0.4444444444444444,
           "#26828e"
          ],
          [
           0.5555555555555556,
           "#1f9e89"
          ],
          [
           0.6666666666666666,
           "#35b779"
          ],
          [
           0.7777777777777778,
           "#6ece58"
          ],
          [
           0.8888888888888888,
           "#b5de2b"
          ],
          [
           1,
           "#fde725"
          ]
         ],
         "hovertemplate": "<b>X:</b> %{x:.1f} µm<br><b>Y:</b> %{y:.1f} µm<br><b>Value:</b> %{z}<br><extra></extra>",
         "name": "Z-slice 48",
         "showscale": true,
         "type": "heatmap",
         "visible": false,
         "x": {
          "bdata": "2WzfzHb4LsDBCCyxg/QtwKmkeJWQ8CzAkUDFeZ3sK8B63BFequgqwGJ4XkK35CnAShSrJsTgKMAysPcK0dwnwBpMRO/d2CbAAuiQ0+rUJcDqg92399AkwNIfKpwEzSPAurt2gBHJIsCiV8NkHsUhwIvzD0krwSDA5h65WnB6H8C2VlIjinIdwIaO6+ujahvAVsaEtL1iGcAm/h1911oXwPY1t0XxUhXAyG1QDgtLE8CYpenWJEMRwNC6BT99dg7AcCo40LBmCsAQmmph5FYGwLAJnfIXRwLAoPKeB5du/L/o0QMq/k70v1Bi0ZjKXui/oEE2uzE/0L9gQTa7MT/QPzBi0ZjKXug/2NEDKv5O9D+Y8p4Hl278P6wJnfIXRwJADJpqYeRWBkBsKjjQsGYKQMy6BT99dg5AlqXp1iRDEUDGbVAOC0sTQPI1t0XxUhVAIv4dfddaF0BSxoS0vWIZQIKO6+ujahtAslZSI4pyHUDiHrlacHofQInzD0krwSBAoVfDZB7FIUC5u3aAEckiQNEfKpwEzSNA6YPdt/fQJEAB6JDT6tQlQBlMRO/d2CZAMbD3CtHcJ0BJFKsmxOAoQF94XkK35ClAd9wRXqroKkCPQMV5newrQKekeJWQ8CxAvwgssYP0LUDZbN/MdvguQA==",
          "dtype": "f8"
         },
         "y": {
          "bdata": "AAAAAAAAHMDRXkJ7Ce0ZwKG9hPYS2hfAchzHcRzHFcBCewntJbQTwBPaS2gvoRHAyHEcx3EcD8BpL6G9hPYKwArtJbSX0AbArKqqqqqqAsCY0F5Cewn9v9xLaC+hvfS/QI7jOI7j6L+ACe0ltJfQv3AJ7SW0l9A/OI7jOI7j6D/YS2gvob30P5jQXkJ7Cf0/qKqqqqqqAkAI7SW0l9AGQGgvob2E9gpAxHEcx3EcD0AS2ktoL6ERQEJ7Ce0ltBNAcBzHcRzHFUCgvYT2EtoXQNBeQnsJ7RlAAAAAAAAAHEA=",
          "dtype": "f8"
         },
         "z": {
          "bdata": "AAAAAAAAAAAAAAAAAAAAAAAAAAAAAAAAAAAAAAAAAAAAAAAAAAAAAAAAAAAAAAAAAAAAAAAAAAAAAAAAAAAAAAAAAAAAAAAAAAAAAAAAAAAAAAAAAAAAAAAAAAAAAAAAAAAAAAAAAAAAAAAAAAAAAAAAAAAAAAAAAAAAAAAAAAAAAAAAAAAAAAAAAAAAAAAAAAAAAAAAAAAAAAAAAAAAAAAAAAAAAAAAAAAAAAAAAAAAAAAAAAAAAAAAAAAAAAAAAAAAAAAAAAAAAAAAAAAAAAAAAAAAAAAAAAAAAAAAAAAAAAAAAAAAAAAAAAAAAAAAAAAAAAAAAAAAAAAAAAAAAAAAAAAAAAAAAAAAAAAAAAAAAAAAAAAAAAAAAAAAAAAAAAAAAAAAAAAAAAAAAAAAAAAAAAAAAAAAAAAAAAAAAAAAAAAAAAAAAAAAAAAAAAAAAAAAAAAAAAAAAAAAAAAAAAAAAAAAAAAAAAAAAAAAAAAAAAAAAAAAAAAAAAAAAAAAAAAAAAAAAAAAAAAAAAAAAAAAAAAAAAAAAAAAAAAAAAAAAAAAAAAAAAAAAAAAAAAAAAAAAAAAAAAAAAAAAAAAAAAAAAAAAAAAAAAAAAAAAAAAAAAAAAAAAAAAAAAAAAAAAAAAAAAAAAAAAAAAAAAAAAAAAAAAAAAAAAAAAAAAAAAAAQEBAAAAAAAAAAAAAAAAAAAAAAAAAAAAAAEBAQAAAAAAAAAAAAAAAAAAAAAAAAAAAAAAAAAAAAAAAAAAAQEBAQEBAQAAAAAAAAAAAAAAAAAAAAAAAAEBAQEBAQEAAAAAAAAAAAAAAAAAAAAAAAAAAAAAAAAAAAAAAAEBAQEBAQEBAQAAAAAAAAAAAAAAAAAAAAABAQEBAQEBAQEAAAAAAAAAAAAAAAAAAAAAAAAAAAAAAAAAAAABAQEBAQEBAQEBAQAAAAAAAAAAAAAAAAAAAQEBAQEBAQEBAQEAAAAAAAAAAAAAAAAAAAAAAAAAAAAAAAAAAAEBAQEBAQEBAQEBAAAAAAAAAAAAAAAAAAABAQEBAQEBAQEBAQAAAAAAAAAAAAAAAAAAAAAAAAAAAAAAAAAAAQEBAQEBAQEBAQEAAAAAAAAAAAAAAAAAAAEBAQEBAQEBAQEBAAAAAAAAAAAAAAAAAAAAAAAAAAAAAAAAAAABAQEBAQEBAQEBAQAAAAAAAAAAAAAAAAAAAQEBAQEBAQEBAQEAAAAAAAAAAAAAAAAAAAAAAAAAAAAAAAAAAAEBAQEBAQEBAQEBAAAAAAAAAAAAAAAAAAABAQEBAQEBAQEBAQAAAAAAAAAAAAAAAAAAAAAAAAAAAAAAAAAAAQEBAQEBAQEBAQEAAAAAAAAAAAAAAAAAAAEBAQEBAQEBAQEBAAAAAAAAAAAAAAAAAAAAAAAAAAAAAAAAAAAAAQEBAQEBAQEBAAAAAAAAAAAAAAAAAAAAAAEBAQEBAQEBAQAAAAAAAAAAAAAAAAAAAAAAAAAAAAAAAAAAAAAAAQEBAQEBAQAAAAAAAAAAAAAAAAAAAAAAAAEBAQEBAQEAAAAAAAAAAAAAAAAAAAAAAAAAAAAAAAAAAAAAAAAAAAEBAQAAAAAAAAAAAAAAAAAAAAAAAAAAAAABAQEAAAAAAAAAAAAAAAAAAAAAAAAAAAAAAAAAAAAAAAAAAAAAAAAAAAAAAAAAAAAAAAAAAAAAAAAAAAAAAAAAAAAAAAAAAAAAAAAAAAAAAAAAAAAAAAAAAAAAAAAAAAAAAAAAAAAAAAAAAAAAAAAAAAAAAAAAAAAAAAAAAAAAAAAAAAAAAAAAAAAAAAAAAAAAAAAAAAAAAAAAAAAAAAAAAAAAAAAAAAAAAAAAAAAAAAAAAAAAAAAAAAAAAAAAAAAAAAAAAAAAAAAAAAAAAAAAAAAAAAAAAAAAAAAAAAAAAAAAAAAAAAAAAAAAAAAAAAAAAAAAAAAAAAAAAAAAAAAAAAAAAAAAAAAAAAAAAAAAAAAAAAAAAAAAAAAAAAAAAAAAAAAAAAAAAAAAAAAAAAAAAAAAAAAAAAAAAAAAAAAAAAAAAAAAAAAAAAAAAAAAAAAAAAAAAAAAAAAAAAAAAAAAAAAAAAAAAAAAAAAAAAAAAAAAAAAAAAAAAAAAAAAAAAAAAAAAAAAAAAAAAAAAAAAAAAAAAAAAAAAAAAAAAAAAAAAAAAAAAAAAAAAAAAAAAAAAAAAAAAAAAAAAAAAAAAAAAAAAAAAAAAAAAAAAAAAAAAAAAAAAAAAAAAAAAAAAAAAAAAAAAAAAAAAAAAAAAAAAAAAAAAAAAAAAAAAAAAAAAAAAAAA=",
          "dtype": "u1",
          "shape": "28, 62"
         }
        },
        {
         "colorbar": {
          "ticktext": [
           "Outside",
           "Inside"
          ],
          "tickvals": [
           0,
           1
          ],
          "title": {
           "text": "Neuron<br>Presence"
          }
         },
         "colorscale": [
          [
           0,
           "#440154"
          ],
          [
           0.1111111111111111,
           "#482878"
          ],
          [
           0.2222222222222222,
           "#3e4989"
          ],
          [
           0.3333333333333333,
           "#31688e"
          ],
          [
           0.4444444444444444,
           "#26828e"
          ],
          [
           0.5555555555555556,
           "#1f9e89"
          ],
          [
           0.6666666666666666,
           "#35b779"
          ],
          [
           0.7777777777777778,
           "#6ece58"
          ],
          [
           0.8888888888888888,
           "#b5de2b"
          ],
          [
           1,
           "#fde725"
          ]
         ],
         "hovertemplate": "<b>X:</b> %{x:.1f} µm<br><b>Y:</b> %{y:.1f} µm<br><b>Value:</b> %{z}<br><extra></extra>",
         "name": "Z-slice 49",
         "showscale": true,
         "type": "heatmap",
         "visible": false,
         "x": {
          "bdata": "2WzfzHb4LsDBCCyxg/QtwKmkeJWQ8CzAkUDFeZ3sK8B63BFequgqwGJ4XkK35CnAShSrJsTgKMAysPcK0dwnwBpMRO/d2CbAAuiQ0+rUJcDqg92399AkwNIfKpwEzSPAurt2gBHJIsCiV8NkHsUhwIvzD0krwSDA5h65WnB6H8C2VlIjinIdwIaO6+ujahvAVsaEtL1iGcAm/h1911oXwPY1t0XxUhXAyG1QDgtLE8CYpenWJEMRwNC6BT99dg7AcCo40LBmCsAQmmph5FYGwLAJnfIXRwLAoPKeB5du/L/o0QMq/k70v1Bi0ZjKXui/oEE2uzE/0L9gQTa7MT/QPzBi0ZjKXug/2NEDKv5O9D+Y8p4Hl278P6wJnfIXRwJADJpqYeRWBkBsKjjQsGYKQMy6BT99dg5AlqXp1iRDEUDGbVAOC0sTQPI1t0XxUhVAIv4dfddaF0BSxoS0vWIZQIKO6+ujahtAslZSI4pyHUDiHrlacHofQInzD0krwSBAoVfDZB7FIUC5u3aAEckiQNEfKpwEzSNA6YPdt/fQJEAB6JDT6tQlQBlMRO/d2CZAMbD3CtHcJ0BJFKsmxOAoQF94XkK35ClAd9wRXqroKkCPQMV5newrQKekeJWQ8CxAvwgssYP0LUDZbN/MdvguQA==",
          "dtype": "f8"
         },
         "y": {
          "bdata": "AAAAAAAAHMDRXkJ7Ce0ZwKG9hPYS2hfAchzHcRzHFcBCewntJbQTwBPaS2gvoRHAyHEcx3EcD8BpL6G9hPYKwArtJbSX0AbArKqqqqqqAsCY0F5Cewn9v9xLaC+hvfS/QI7jOI7j6L+ACe0ltJfQv3AJ7SW0l9A/OI7jOI7j6D/YS2gvob30P5jQXkJ7Cf0/qKqqqqqqAkAI7SW0l9AGQGgvob2E9gpAxHEcx3EcD0AS2ktoL6ERQEJ7Ce0ltBNAcBzHcRzHFUCgvYT2EtoXQNBeQnsJ7RlAAAAAAAAAHEA=",
          "dtype": "f8"
         },
         "z": {
          "bdata": "AAAAAAAAAAAAAAAAAAAAAAAAAAAAAAAAAAAAAAAAAAAAAAAAAAAAAAAAAAAAAAAAAAAAAAAAAAAAAAAAAAAAAAAAAAAAAAAAAAAAAAAAAAAAAAAAAAAAAAAAAAAAAAAAAAAAAAAAAAAAAAAAAAAAAAAAAAAAAAAAAAAAAAAAAAAAAAAAAAAAAAAAAAAAAAAAAAAAAAAAAAAAAAAAAAAAAAAAAAAAAAAAAAAAAAAAAAAAAAAAAAAAAAAAAAAAAAAAAAAAAAAAAAAAAAAAAAAAAAAAAAAAAAAAAAAAAAAAAAAAAAAAAAAAAAAAAAAAAAAAAAAAAAAAAAAAAAAAAAAAAAAAAAAAAAAAAAAAAAAAAAAAAAAAAAAAAAAAAAAAAAAAAAAAAAAAAAAAAAAAAAAAAAAAAAAAAAAAAAAAAAAAAAAAAAAAAAAAAAAAAAAAAAAAAAAAAAAAAAAAAAAAAAAAAAAAAAAAAAAAAAAAAAAAAAAAAAAAAAAAAAAAAAAAAAAAAAAAAAAAAAAAAAAAAAAAAAAAAAAAAAAAAAAAAAAAAAAAAAAAAAAAAAAAAAAAAAAAAAAAAAAAAAAAAAAAAAAAAAAAAAAAAAAAAAAAAAAAAAAAAAAAAAAAAAAAAAAAAAAAAAAAAAAAAAAAAAAAAAAAAAAAAAAAAAAAAAAAAAAAAAABAQEAAAAAAAAAAAAAAAAAAAAAAAAAAAAAAAABAQEAAAAAAAAAAAAAAAAAAAAAAAAAAAAAAAAAAAAAAAABAQEBAQEBAAAAAAAAAAAAAAAAAAAAAAAAAAABAQEBAQEBAAAAAAAAAAAAAAAAAAAAAAAAAAAAAAAAAAAAAQEBAQEBAQEBAAAAAAAAAAAAAAAAAAAAAAAAAQEBAQEBAQEBAAAAAAAAAAAAAAAAAAAAAAAAAAAAAAAAAAEBAQEBAQEBAQEBAAAAAAAAAAAAAAAAAAAAAAEBAQEBAQEBAQEBAAAAAAAAAAAAAAAAAAAAAAAAAAAAAAAAAQEBAQEBAQEBAQEAAAAAAAAAAAAAAAAAAAAAAQEBAQEBAQEBAQEAAAAAAAAAAAAAAAAAAAAAAAAAAAAAAAABAQEBAQEBAQEBAQAAAAAAAAAAAAAAAAAAAAABAQEBAQEBAQEBAQAAAAAAAAAAAAAAAAAAAAAAAAAAAAAAAAEBAQEBAQEBAQEBAAAAAAAAAAAAAAAAAAAAAAEBAQEBAQEBAQEBAAAAAAAAAAAAAAAAAAAAAAAAAAAAAAAAAQEBAQEBAQEBAQEAAAAAAAAAAAAAAAAAAAAAAQEBAQEBAQEBAQEAAAAAAAAAAAAAAAAAAAAAAAAAAAAAAAABAQEBAQEBAQEBAQAAAAAAAAAAAAAAAAAAAAABAQEBAQEBAQEBAQAAAAAAAAAAAAAAAAAAAAAAAAAAAAAAAAABAQEBAQEBAQEAAAAAAAAAAAAAAAAAAAAAAAABAQEBAQEBAQEAAAAAAAAAAAAAAAAAAAAAAAAAAAAAAAAAAAABAQEBAQEBAAAAAAAAAAAAAAAAAAAAAAAAAAABAQEBAQEBAAAAAAAAAAAAAAAAAAAAAAAAAAAAAAAAAAAAAAAAAQEBAAAAAAAAAAAAAAAAAAAAAAAAAAAAAAAAAQEBAAAAAAAAAAAAAAAAAAAAAAAAAAAAAAAAAAAAAAAAAAAAAAAAAAAAAAAAAAAAAAAAAAAAAAAAAAAAAAAAAAAAAAAAAAAAAAAAAAAAAAAAAAAAAAAAAAAAAAAAAAAAAAAAAAAAAAAAAAAAAAAAAAAAAAAAAAAAAAAAAAAAAAAAAAAAAAAAAAAAAAAAAAAAAAAAAAAAAAAAAAAAAAAAAAAAAAAAAAAAAAAAAAAAAAAAAAAAAAAAAAAAAAAAAAAAAAAAAAAAAAAAAAAAAAAAAAAAAAAAAAAAAAAAAAAAAAAAAAAAAAAAAAAAAAAAAAAAAAAAAAAAAAAAAAAAAAAAAAAAAAAAAAAAAAAAAAAAAAAAAAAAAAAAAAAAAAAAAAAAAAAAAAAAAAAAAAAAAAAAAAAAAAAAAAAAAAAAAAAAAAAAAAAAAAAAAAAAAAAAAAAAAAAAAAAAAAAAAAAAAAAAAAAAAAAAAAAAAAAAAAAAAAAAAAAAAAAAAAAAAAAAAAAAAAAAAAAAAAAAAAAAAAAAAAAAAAAAAAAAAAAAAAAAAAAAAAAAAAAAAAAAAAAAAAAAAAAAAAAAAAAAAAAAAAAAAAAAAAAAAAAAAAAAAAAAAAAAAAAAAAAAAAAAAAAAAAAAAAAAAAAAAAAAAAAAAAAAAAAAAAAAAAAAAAAAAAAAAAAAAAA=",
          "dtype": "u1",
          "shape": "28, 62"
         }
        },
        {
         "colorbar": {
          "ticktext": [
           "Outside",
           "Inside"
          ],
          "tickvals": [
           0,
           1
          ],
          "title": {
           "text": "Neuron<br>Presence"
          }
         },
         "colorscale": [
          [
           0,
           "#440154"
          ],
          [
           0.1111111111111111,
           "#482878"
          ],
          [
           0.2222222222222222,
           "#3e4989"
          ],
          [
           0.3333333333333333,
           "#31688e"
          ],
          [
           0.4444444444444444,
           "#26828e"
          ],
          [
           0.5555555555555556,
           "#1f9e89"
          ],
          [
           0.6666666666666666,
           "#35b779"
          ],
          [
           0.7777777777777778,
           "#6ece58"
          ],
          [
           0.8888888888888888,
           "#b5de2b"
          ],
          [
           1,
           "#fde725"
          ]
         ],
         "hovertemplate": "<b>X:</b> %{x:.1f} µm<br><b>Y:</b> %{y:.1f} µm<br><b>Value:</b> %{z}<br><extra></extra>",
         "name": "Z-slice 50",
         "showscale": true,
         "type": "heatmap",
         "visible": false,
         "x": {
          "bdata": "2WzfzHb4LsDBCCyxg/QtwKmkeJWQ8CzAkUDFeZ3sK8B63BFequgqwGJ4XkK35CnAShSrJsTgKMAysPcK0dwnwBpMRO/d2CbAAuiQ0+rUJcDqg92399AkwNIfKpwEzSPAurt2gBHJIsCiV8NkHsUhwIvzD0krwSDA5h65WnB6H8C2VlIjinIdwIaO6+ujahvAVsaEtL1iGcAm/h1911oXwPY1t0XxUhXAyG1QDgtLE8CYpenWJEMRwNC6BT99dg7AcCo40LBmCsAQmmph5FYGwLAJnfIXRwLAoPKeB5du/L/o0QMq/k70v1Bi0ZjKXui/oEE2uzE/0L9gQTa7MT/QPzBi0ZjKXug/2NEDKv5O9D+Y8p4Hl278P6wJnfIXRwJADJpqYeRWBkBsKjjQsGYKQMy6BT99dg5AlqXp1iRDEUDGbVAOC0sTQPI1t0XxUhVAIv4dfddaF0BSxoS0vWIZQIKO6+ujahtAslZSI4pyHUDiHrlacHofQInzD0krwSBAoVfDZB7FIUC5u3aAEckiQNEfKpwEzSNA6YPdt/fQJEAB6JDT6tQlQBlMRO/d2CZAMbD3CtHcJ0BJFKsmxOAoQF94XkK35ClAd9wRXqroKkCPQMV5newrQKekeJWQ8CxAvwgssYP0LUDZbN/MdvguQA==",
          "dtype": "f8"
         },
         "y": {
          "bdata": "AAAAAAAAHMDRXkJ7Ce0ZwKG9hPYS2hfAchzHcRzHFcBCewntJbQTwBPaS2gvoRHAyHEcx3EcD8BpL6G9hPYKwArtJbSX0AbArKqqqqqqAsCY0F5Cewn9v9xLaC+hvfS/QI7jOI7j6L+ACe0ltJfQv3AJ7SW0l9A/OI7jOI7j6D/YS2gvob30P5jQXkJ7Cf0/qKqqqqqqAkAI7SW0l9AGQGgvob2E9gpAxHEcx3EcD0AS2ktoL6ERQEJ7Ce0ltBNAcBzHcRzHFUCgvYT2EtoXQNBeQnsJ7RlAAAAAAAAAHEA=",
          "dtype": "f8"
         },
         "z": {
          "bdata": "AAAAAAAAAAAAAAAAAAAAAAAAAAAAAAAAAAAAAAAAAAAAAAAAAAAAAAAAAAAAAAAAAAAAAAAAAAAAAAAAAAAAAAAAAAAAAAAAAAAAAAAAAAAAAAAAAAAAAAAAAAAAAAAAAAAAAAAAAAAAAAAAAAAAAAAAAAAAAAAAAAAAAAAAAAAAAAAAAAAAAAAAAAAAAAAAAAAAAAAAAAAAAAAAAAAAAAAAAAAAAAAAAAAAAAAAAAAAAAAAAAAAAAAAAAAAAAAAAAAAAAAAAAAAAAAAAAAAAAAAAAAAAAAAAAAAAAAAAAAAAAAAAAAAAAAAAAAAAAAAAAAAAAAAAAAAAAAAAAAAAAAAAAAAAAAAAAAAAAAAAAAAAAAAAAAAAAAAAAAAAAAAAAAAAAAAAAAAAAAAAAAAAAAAAAAAAAAAAAAAAAAAAAAAAAAAAAAAAAAAAAAAAAAAAAAAAAAAAAAAAAAAAAAAAAAAAAAAAAAAAAAAAAAAAAAAAAAAAAAAAAAAAAAAAAAAAAAAAAAAAAAAAAAAAAAAAAAAAAAAAAAAAAAAAAAAAAAAAAAAAAAAAAAAAAAAAAAAAAAAAAAAAAAAAAAAAAAAAAAAAAAAAAAAAAAAAAAAAAAAAAAAAAAAAAAAAAAAAAAAAAAAAAAAAAAAAAAAAAAAAAAAAAAAAAAAAAAAAAAAAAEBAQAAAAAAAAAAAAAAAAAAAAAAAAAAAAAAAAAAAQEBAAAAAAAAAAAAAAAAAAAAAAAAAAAAAAAAAAAAAAEBAQEBAQEAAAAAAAAAAAAAAAAAAAAAAAAAAAAAAQEBAQEBAQAAAAAAAAAAAAAAAAAAAAAAAAAAAAAAAAABAQEBAQEBAQEAAAAAAAAAAAAAAAAAAAAAAAAAAAEBAQEBAQEBAQAAAAAAAAAAAAAAAAAAAAAAAAAAAAAAAQEBAQEBAQEBAQEAAAAAAAAAAAAAAAAAAAAAAAABAQEBAQEBAQEBAQAAAAAAAAAAAAAAAAAAAAAAAAAAAAABAQEBAQEBAQEBAQAAAAAAAAAAAAAAAAAAAAAAAAEBAQEBAQEBAQEBAAAAAAAAAAAAAAAAAAAAAAAAAAAAAAEBAQEBAQEBAQEBAAAAAAAAAAAAAAAAAAAAAAAAAQEBAQEBAQEBAQEAAAAAAAAAAAAAAAAAAAAAAAAAAAAAAQEBAQEBAQEBAQEAAAAAAAAAAAAAAAAAAAAAAAABAQEBAQEBAQEBAQAAAAAAAAAAAAAAAAAAAAAAAAAAAAABAQEBAQEBAQEBAQAAAAAAAAAAAAAAAAAAAAAAAAEBAQEBAQEBAQEBAAAAAAAAAAAAAAAAAAAAAAAAAAAAAAEBAQEBAQEBAQEBAAAAAAAAAAAAAAAAAAAAAAAAAQEBAQEBAQEBAQEAAAAAAAAAAAAAAAAAAAAAAAAAAAAAAAEBAQEBAQEBAQAAAAAAAAAAAAAAAAAAAAAAAAAAAQEBAQEBAQEBAAAAAAAAAAAAAAAAAAAAAAAAAAAAAAAAAAEBAQEBAQEAAAAAAAAAAAAAAAAAAAAAAAAAAAAAAQEBAQEBAQAAAAAAAAAAAAAAAAAAAAAAAAAAAAAAAAAAAAABAQEAAAAAAAAAAAAAAAAAAAAAAAAAAAAAAAAAAAEBAQAAAAAAAAAAAAAAAAAAAAAAAAAAAAAAAAAAAAAAAAAAAAAAAAAAAAAAAAAAAAAAAAAAAAAAAAAAAAAAAAAAAAAAAAAAAAAAAAAAAAAAAAAAAAAAAAAAAAAAAAAAAAAAAAAAAAAAAAAAAAAAAAAAAAAAAAAAAAAAAAAAAAAAAAAAAAAAAAAAAAAAAAAAAAAAAAAAAAAAAAAAAAAAAAAAAAAAAAAAAAAAAAAAAAAAAAAAAAAAAAAAAAAAAAAAAAAAAAAAAAAAAAAAAAAAAAAAAAAAAAAAAAAAAAAAAAAAAAAAAAAAAAAAAAAAAAAAAAAAAAAAAAAAAAAAAAAAAAAAAAAAAAAAAAAAAAAAAAAAAAAAAAAAAAAAAAAAAAAAAAAAAAAAAAAAAAAAAAAAAAAAAAAAAAAAAAAAAAAAAAAAAAAAAAAAAAAAAAAAAAAAAAAAAAAAAAAAAAAAAAAAAAAAAAAAAAAAAAAAAAAAAAAAAAAAAAAAAAAAAAAAAAAAAAAAAAAAAAAAAAAAAAAAAAAAAAAAAAAAAAAAAAAAAAAAAAAAAAAAAAAAAAAAAAAAAAAAAAAAAAAAAAAAAAAAAAAAAAAAAAAAAAAAAAAAAAAAAAAAAAAAAAAAAAAAAAAAAAAAAAAAAAAAAAAAAAAAAAAAAAAAAAAAAAAAAAAAAAAAAAA=",
          "dtype": "u1",
          "shape": "28, 62"
         }
        },
        {
         "colorbar": {
          "ticktext": [
           "Outside",
           "Inside"
          ],
          "tickvals": [
           0,
           1
          ],
          "title": {
           "text": "Neuron<br>Presence"
          }
         },
         "colorscale": [
          [
           0,
           "#440154"
          ],
          [
           0.1111111111111111,
           "#482878"
          ],
          [
           0.2222222222222222,
           "#3e4989"
          ],
          [
           0.3333333333333333,
           "#31688e"
          ],
          [
           0.4444444444444444,
           "#26828e"
          ],
          [
           0.5555555555555556,
           "#1f9e89"
          ],
          [
           0.6666666666666666,
           "#35b779"
          ],
          [
           0.7777777777777778,
           "#6ece58"
          ],
          [
           0.8888888888888888,
           "#b5de2b"
          ],
          [
           1,
           "#fde725"
          ]
         ],
         "hovertemplate": "<b>X:</b> %{x:.1f} µm<br><b>Y:</b> %{y:.1f} µm<br><b>Value:</b> %{z}<br><extra></extra>",
         "name": "Z-slice 51",
         "showscale": true,
         "type": "heatmap",
         "visible": false,
         "x": {
          "bdata": "2WzfzHb4LsDBCCyxg/QtwKmkeJWQ8CzAkUDFeZ3sK8B63BFequgqwGJ4XkK35CnAShSrJsTgKMAysPcK0dwnwBpMRO/d2CbAAuiQ0+rUJcDqg92399AkwNIfKpwEzSPAurt2gBHJIsCiV8NkHsUhwIvzD0krwSDA5h65WnB6H8C2VlIjinIdwIaO6+ujahvAVsaEtL1iGcAm/h1911oXwPY1t0XxUhXAyG1QDgtLE8CYpenWJEMRwNC6BT99dg7AcCo40LBmCsAQmmph5FYGwLAJnfIXRwLAoPKeB5du/L/o0QMq/k70v1Bi0ZjKXui/oEE2uzE/0L9gQTa7MT/QPzBi0ZjKXug/2NEDKv5O9D+Y8p4Hl278P6wJnfIXRwJADJpqYeRWBkBsKjjQsGYKQMy6BT99dg5AlqXp1iRDEUDGbVAOC0sTQPI1t0XxUhVAIv4dfddaF0BSxoS0vWIZQIKO6+ujahtAslZSI4pyHUDiHrlacHofQInzD0krwSBAoVfDZB7FIUC5u3aAEckiQNEfKpwEzSNA6YPdt/fQJEAB6JDT6tQlQBlMRO/d2CZAMbD3CtHcJ0BJFKsmxOAoQF94XkK35ClAd9wRXqroKkCPQMV5newrQKekeJWQ8CxAvwgssYP0LUDZbN/MdvguQA==",
          "dtype": "f8"
         },
         "y": {
          "bdata": "AAAAAAAAHMDRXkJ7Ce0ZwKG9hPYS2hfAchzHcRzHFcBCewntJbQTwBPaS2gvoRHAyHEcx3EcD8BpL6G9hPYKwArtJbSX0AbArKqqqqqqAsCY0F5Cewn9v9xLaC+hvfS/QI7jOI7j6L+ACe0ltJfQv3AJ7SW0l9A/OI7jOI7j6D/YS2gvob30P5jQXkJ7Cf0/qKqqqqqqAkAI7SW0l9AGQGgvob2E9gpAxHEcx3EcD0AS2ktoL6ERQEJ7Ce0ltBNAcBzHcRzHFUCgvYT2EtoXQNBeQnsJ7RlAAAAAAAAAHEA=",
          "dtype": "f8"
         },
         "z": {
          "bdata": "AAAAAAAAAAAAAAAAAAAAAAAAAAAAAAAAAAAAAAAAAAAAAAAAAAAAAAAAAAAAAAAAAAAAAAAAAAAAAAAAAAAAAAAAAAAAAAAAAAAAAAAAAAAAAAAAAAAAAAAAAAAAAAAAAAAAAAAAAAAAAAAAAAAAAAAAAAAAAAAAAAAAAAAAAAAAAAAAAAAAAAAAAAAAAAAAAAAAAAAAAAAAAAAAAAAAAAAAAAAAAAAAAAAAAAAAAAAAAAAAAAAAAAAAAAAAAAAAAAAAAAAAAAAAAAAAAAAAAAAAAAAAAAAAAAAAAAAAAAAAAAAAAAAAAAAAAAAAAAAAAAAAAAAAAAAAAAAAAAAAAAAAAAAAAAAAAAAAAAAAAAAAAAAAAAAAAAAAAAAAAAAAAAAAAAAAAAAAAAAAAAAAAAAAAAAAAAAAAAAAAAAAAAAAAAAAAAAAAAAAAAAAAAAAAAAAAAAAAAAAAAAAAAAAAAAAAAAAAAAAAAAAAAAAAAAAAAAAAAAAAAAAAAAAAAAAAAAAAAAAAAAAAAAAAAAAAAAAAAAAAAAAAAAAAAAAAAAAAAAAAAAAAAAAAAAAAAAAAAAAAAAAAAAAAAAAAAAAAAAAAAAAAAAAAAAAAAAAAAAAAAAAAAAAAAAAAAAAAAAAAAAAAAAAAAAAAAAAAAAAAAAAAAAAAAAAAAAAAAAAAQEBAAAAAAAAAAAAAAAAAAAAAAAAAAAAAAAAAAAAAAEBAQAAAAAAAAAAAAAAAAAAAAAAAAAAAAAAAAAAAQEBAQEBAQAAAAAAAAAAAAAAAAAAAAAAAAAAAAAAAAEBAQEBAQEAAAAAAAAAAAAAAAAAAAAAAAAAAAAAAAEBAQEBAQEBAQAAAAAAAAAAAAAAAAAAAAAAAAAAAAABAQEBAQEBAQEAAAAAAAAAAAAAAAAAAAAAAAAAAAABAQEBAQEBAQEBAQAAAAAAAAAAAAAAAAAAAAAAAAAAAQEBAQEBAQEBAQEAAAAAAAAAAAAAAAAAAAAAAAAAAAEBAQEBAQEBAQEBAAAAAAAAAAAAAAAAAAAAAAAAAAABAQEBAQEBAQEBAQAAAAAAAAAAAAAAAAAAAAAAAAAAAQEBAQEBAQEBAQEAAAAAAAAAAAAAAAAAAAAAAAAAAAEBAQEBAQEBAQEBAAAAAAAAAAAAAAAAAAAAAAAAAAABAQEBAQEBAQEBAQAAAAAAAAAAAAAAAAAAAAAAAAAAAQEBAQEBAQEBAQEAAAAAAAAAAAAAAAAAAAAAAAAAAAEBAQEBAQEBAQEBAAAAAAAAAAAAAAAAAAAAAAAAAAABAQEBAQEBAQEBAQAAAAAAAAAAAAAAAAAAAAAAAAAAAQEBAQEBAQEBAQEAAAAAAAAAAAAAAAAAAAAAAAAAAAEBAQEBAQEBAQEBAAAAAAAAAAAAAAAAAAAAAAAAAAAAAQEBAQEBAQEBAAAAAAAAAAAAAAAAAAAAAAAAAAAAAAEBAQEBAQEBAQAAAAAAAAAAAAAAAAAAAAAAAAAAAAAAAQEBAQEBAQAAAAAAAAAAAAAAAAAAAAAAAAAAAAAAAAEBAQEBAQEAAAAAAAAAAAAAAAAAAAAAAAAAAAAAAAAAAAEBAQAAAAAAAAAAAAAAAAAAAAAAAAAAAAAAAAAAAAABAQEAAAAAAAAAAAAAAAAAAAAAAAAAAAAAAAAAAAAAAAAAAAAAAAAAAAAAAAAAAAAAAAAAAAAAAAAAAAAAAAAAAAAAAAAAAAAAAAAAAAAAAAAAAAAAAAAAAAAAAAAAAAAAAAAAAAAAAAAAAAAAAAAAAAAAAAAAAAAAAAAAAAAAAAAAAAAAAAAAAAAAAAAAAAAAAAAAAAAAAAAAAAAAAAAAAAAAAAAAAAAAAAAAAAAAAAAAAAAAAAAAAAAAAAAAAAAAAAAAAAAAAAAAAAAAAAAAAAAAAAAAAAAAAAAAAAAAAAAAAAAAAAAAAAAAAAAAAAAAAAAAAAAAAAAAAAAAAAAAAAAAAAAAAAAAAAAAAAAAAAAAAAAAAAAAAAAAAAAAAAAAAAAAAAAAAAAAAAAAAAAAAAAAAAAAAAAAAAAAAAAAAAAAAAAAAAAAAAAAAAAAAAAAAAAAAAAAAAAAAAAAAAAAAAAAAAAAAAAAAAAAAAAAAAAAAAAAAAAAAAAAAAAAAAAAAAAAAAAAAAAAAAAAAAAAAAAAAAAAAAAAAAAAAAAAAAAAAAAAAAAAAAAAAAAAAAAAAAAAAAAAAAAAAAAAAAAAAAAAAAAAAAAAAAAAAAAAAAAAAAAAAAAAAAAAAAAAAAAAAAAAAAAAAAAAAAAAAAAAAAAAAAAAAAAAAAAAAAAAAAA=",
          "dtype": "u1",
          "shape": "28, 62"
         }
        },
        {
         "colorbar": {
          "ticktext": [
           "Outside",
           "Inside"
          ],
          "tickvals": [
           0,
           1
          ],
          "title": {
           "text": "Neuron<br>Presence"
          }
         },
         "colorscale": [
          [
           0,
           "#440154"
          ],
          [
           0.1111111111111111,
           "#482878"
          ],
          [
           0.2222222222222222,
           "#3e4989"
          ],
          [
           0.3333333333333333,
           "#31688e"
          ],
          [
           0.4444444444444444,
           "#26828e"
          ],
          [
           0.5555555555555556,
           "#1f9e89"
          ],
          [
           0.6666666666666666,
           "#35b779"
          ],
          [
           0.7777777777777778,
           "#6ece58"
          ],
          [
           0.8888888888888888,
           "#b5de2b"
          ],
          [
           1,
           "#fde725"
          ]
         ],
         "hovertemplate": "<b>X:</b> %{x:.1f} µm<br><b>Y:</b> %{y:.1f} µm<br><b>Value:</b> %{z}<br><extra></extra>",
         "name": "Z-slice 52",
         "showscale": true,
         "type": "heatmap",
         "visible": false,
         "x": {
          "bdata": "2WzfzHb4LsDBCCyxg/QtwKmkeJWQ8CzAkUDFeZ3sK8B63BFequgqwGJ4XkK35CnAShSrJsTgKMAysPcK0dwnwBpMRO/d2CbAAuiQ0+rUJcDqg92399AkwNIfKpwEzSPAurt2gBHJIsCiV8NkHsUhwIvzD0krwSDA5h65WnB6H8C2VlIjinIdwIaO6+ujahvAVsaEtL1iGcAm/h1911oXwPY1t0XxUhXAyG1QDgtLE8CYpenWJEMRwNC6BT99dg7AcCo40LBmCsAQmmph5FYGwLAJnfIXRwLAoPKeB5du/L/o0QMq/k70v1Bi0ZjKXui/oEE2uzE/0L9gQTa7MT/QPzBi0ZjKXug/2NEDKv5O9D+Y8p4Hl278P6wJnfIXRwJADJpqYeRWBkBsKjjQsGYKQMy6BT99dg5AlqXp1iRDEUDGbVAOC0sTQPI1t0XxUhVAIv4dfddaF0BSxoS0vWIZQIKO6+ujahtAslZSI4pyHUDiHrlacHofQInzD0krwSBAoVfDZB7FIUC5u3aAEckiQNEfKpwEzSNA6YPdt/fQJEAB6JDT6tQlQBlMRO/d2CZAMbD3CtHcJ0BJFKsmxOAoQF94XkK35ClAd9wRXqroKkCPQMV5newrQKekeJWQ8CxAvwgssYP0LUDZbN/MdvguQA==",
          "dtype": "f8"
         },
         "y": {
          "bdata": "AAAAAAAAHMDRXkJ7Ce0ZwKG9hPYS2hfAchzHcRzHFcBCewntJbQTwBPaS2gvoRHAyHEcx3EcD8BpL6G9hPYKwArtJbSX0AbArKqqqqqqAsCY0F5Cewn9v9xLaC+hvfS/QI7jOI7j6L+ACe0ltJfQv3AJ7SW0l9A/OI7jOI7j6D/YS2gvob30P5jQXkJ7Cf0/qKqqqqqqAkAI7SW0l9AGQGgvob2E9gpAxHEcx3EcD0AS2ktoL6ERQEJ7Ce0ltBNAcBzHcRzHFUCgvYT2EtoXQNBeQnsJ7RlAAAAAAAAAHEA=",
          "dtype": "f8"
         },
         "z": {
          "bdata": "AAAAAAAAAAAAAAAAAAAAAAAAAAAAAAAAAAAAAAAAAAAAAAAAAAAAAAAAAAAAAAAAAAAAAAAAAAAAAAAAAAAAAAAAAAAAAAAAAAAAAAAAAAAAAAAAAAAAAAAAAAAAAAAAAAAAAAAAAAAAAAAAAAAAAAAAAAAAAAAAAAAAAAAAAAAAAAAAAAAAAAAAAAAAAAAAAAAAAAAAAAAAAAAAAAAAAAAAAAAAAAAAAAAAAAAAAAAAAAAAAAAAAAAAAAAAAAAAAAAAAAAAAAAAAAAAAAAAAAAAAAAAAAAAAAAAAAAAAAAAAAAAAAAAAAAAAAAAAAAAAAAAAAAAAAAAAAAAAAAAAAAAAAAAAAAAAAAAAAAAAAAAAAAAAAAAAAAAAAAAAAAAAAAAAAAAAAAAAAAAAAAAAAAAAAAAAAAAAAAAAAAAAAAAAAAAAAAAAAAAAAAAAAAAAAAAAAAAAAAAAAAAAAAAAAAAAAAAAAAAAAAAAAAAAAAAAAAAAAAAAAAAAAAAAAAAAAAAAAAAAAAAAAAAAAAAAAAAAAAAAAAAAAAAAAAAAAAAAAAAAAAAAAAAAAAAAAAAAAAAAAAAAAAAAAAAAAAAAAAAAAAAAAAAAAAAAAAAAAAAAAAAAAAAAAAAAAAAAAAAAAAAAAAAAAAAAAAAAAAAAAAAAAAAAAAAAAAAAAABAQEAAAAAAAAAAAAAAAAAAAAAAAAAAAAAAAAAAAAAAAABAQEAAAAAAAAAAAAAAAAAAAAAAAAAAAAAAAABAQEBAQEBAAAAAAAAAAAAAAAAAAAAAAAAAAAAAAAAAAABAQEBAQEBAAAAAAAAAAAAAAAAAAAAAAAAAAAAAQEBAQEBAQEBAAAAAAAAAAAAAAAAAAAAAAAAAAAAAAAAAQEBAQEBAQEBAAAAAAAAAAAAAAAAAAAAAAAAAAEBAQEBAQEBAQEBAAAAAAAAAAAAAAAAAAAAAAAAAAAAAAEBAQEBAQEBAQEBAAAAAAAAAAAAAAAAAAAAAAAAAQEBAQEBAQEBAQEAAAAAAAAAAAAAAAAAAAAAAAAAAAAAAQEBAQEBAQEBAQEAAAAAAAAAAAAAAAAAAAAAAAEBAQEBAQEBAQEBAQAAAAAAAAAAAAAAAAAAAAAAAAAAAAABAQEBAQEBAQEBAQEAAAAAAAAAAAAAAAAAAAAAAQEBAQEBAQEBAQEBAAAAAAAAAAAAAAAAAAAAAAAAAAAAAAEBAQEBAQEBAQEBAQAAAAAAAAAAAAAAAAAAAAAAAQEBAQEBAQEBAQEAAAAAAAAAAAAAAAAAAAAAAAAAAAAAAQEBAQEBAQEBAQEAAAAAAAAAAAAAAAAAAAAAAAABAQEBAQEBAQEBAQAAAAAAAAAAAAAAAAAAAAAAAAAAAAABAQEBAQEBAQEBAQAAAAAAAAAAAAAAAAAAAAAAAAABAQEBAQEBAQEAAAAAAAAAAAAAAAAAAAAAAAAAAAAAAAABAQEBAQEBAQEAAAAAAAAAAAAAAAAAAAAAAAAAAAABAQEBAQEBAAAAAAAAAAAAAAAAAAAAAAAAAAAAAAAAAAABAQEBAQEBAAAAAAAAAAAAAAAAAAAAAAAAAAAAAAAAAQEBAAAAAAAAAAAAAAAAAAAAAAAAAAAAAAAAAAAAAAAAAQEBAAAAAAAAAAAAAAAAAAAAAAAAAAAAAAAAAAAAAAAAAAAAAAAAAAAAAAAAAAAAAAAAAAAAAAAAAAAAAAAAAAAAAAAAAAAAAAAAAAAAAAAAAAAAAAAAAAAAAAAAAAAAAAAAAAAAAAAAAAAAAAAAAAAAAAAAAAAAAAAAAAAAAAAAAAAAAAAAAAAAAAAAAAAAAAAAAAAAAAAAAAAAAAAAAAAAAAAAAAAAAAAAAAAAAAAAAAAAAAAAAAAAAAAAAAAAAAAAAAAAAAAAAAAAAAAAAAAAAAAAAAAAAAAAAAAAAAAAAAAAAAAAAAAAAAAAAAAAAAAAAAAAAAAAAAAAAAAAAAAAAAAAAAAAAAAAAAAAAAAAAAAAAAAAAAAAAAAAAAAAAAAAAAAAAAAAAAAAAAAAAAAAAAAAAAAAAAAAAAAAAAAAAAAAAAAAAAAAAAAAAAAAAAAAAAAAAAAAAAAAAAAAAAAAAAAAAAAAAAAAAAAAAAAAAAAAAAAAAAAAAAAAAAAAAAAAAAAAAAAAAAAAAAAAAAAAAAAAAAAAAAAAAAAAAAAAAAAAAAAAAAAAAAAAAAAAAAAAAAAAAAAAAAAAAAAAAAAAAAAAAAAAAAAAAAAAAAAAAAAAAAAAAAAAAAAAAAAAAAAAAAAAAAAAAAAAAAAAAAAAAAAAAAAAAAAAAAAAAAA=",
          "dtype": "u1",
          "shape": "28, 62"
         }
        },
        {
         "colorbar": {
          "ticktext": [
           "Outside",
           "Inside"
          ],
          "tickvals": [
           0,
           1
          ],
          "title": {
           "text": "Neuron<br>Presence"
          }
         },
         "colorscale": [
          [
           0,
           "#440154"
          ],
          [
           0.1111111111111111,
           "#482878"
          ],
          [
           0.2222222222222222,
           "#3e4989"
          ],
          [
           0.3333333333333333,
           "#31688e"
          ],
          [
           0.4444444444444444,
           "#26828e"
          ],
          [
           0.5555555555555556,
           "#1f9e89"
          ],
          [
           0.6666666666666666,
           "#35b779"
          ],
          [
           0.7777777777777778,
           "#6ece58"
          ],
          [
           0.8888888888888888,
           "#b5de2b"
          ],
          [
           1,
           "#fde725"
          ]
         ],
         "hovertemplate": "<b>X:</b> %{x:.1f} µm<br><b>Y:</b> %{y:.1f} µm<br><b>Value:</b> %{z}<br><extra></extra>",
         "name": "Z-slice 53",
         "showscale": true,
         "type": "heatmap",
         "visible": false,
         "x": {
          "bdata": "2WzfzHb4LsDBCCyxg/QtwKmkeJWQ8CzAkUDFeZ3sK8B63BFequgqwGJ4XkK35CnAShSrJsTgKMAysPcK0dwnwBpMRO/d2CbAAuiQ0+rUJcDqg92399AkwNIfKpwEzSPAurt2gBHJIsCiV8NkHsUhwIvzD0krwSDA5h65WnB6H8C2VlIjinIdwIaO6+ujahvAVsaEtL1iGcAm/h1911oXwPY1t0XxUhXAyG1QDgtLE8CYpenWJEMRwNC6BT99dg7AcCo40LBmCsAQmmph5FYGwLAJnfIXRwLAoPKeB5du/L/o0QMq/k70v1Bi0ZjKXui/oEE2uzE/0L9gQTa7MT/QPzBi0ZjKXug/2NEDKv5O9D+Y8p4Hl278P6wJnfIXRwJADJpqYeRWBkBsKjjQsGYKQMy6BT99dg5AlqXp1iRDEUDGbVAOC0sTQPI1t0XxUhVAIv4dfddaF0BSxoS0vWIZQIKO6+ujahtAslZSI4pyHUDiHrlacHofQInzD0krwSBAoVfDZB7FIUC5u3aAEckiQNEfKpwEzSNA6YPdt/fQJEAB6JDT6tQlQBlMRO/d2CZAMbD3CtHcJ0BJFKsmxOAoQF94XkK35ClAd9wRXqroKkCPQMV5newrQKekeJWQ8CxAvwgssYP0LUDZbN/MdvguQA==",
          "dtype": "f8"
         },
         "y": {
          "bdata": "AAAAAAAAHMDRXkJ7Ce0ZwKG9hPYS2hfAchzHcRzHFcBCewntJbQTwBPaS2gvoRHAyHEcx3EcD8BpL6G9hPYKwArtJbSX0AbArKqqqqqqAsCY0F5Cewn9v9xLaC+hvfS/QI7jOI7j6L+ACe0ltJfQv3AJ7SW0l9A/OI7jOI7j6D/YS2gvob30P5jQXkJ7Cf0/qKqqqqqqAkAI7SW0l9AGQGgvob2E9gpAxHEcx3EcD0AS2ktoL6ERQEJ7Ce0ltBNAcBzHcRzHFUCgvYT2EtoXQNBeQnsJ7RlAAAAAAAAAHEA=",
          "dtype": "f8"
         },
         "z": {
          "bdata": "AAAAAAAAAAAAAAAAAAAAAAAAAAAAAAAAAAAAAAAAAAAAAAAAAAAAAAAAAAAAAAAAAAAAAAAAAAAAAAAAAAAAAAAAAAAAAAAAAAAAAAAAAAAAAAAAAAAAAAAAAAAAAAAAAAAAAAAAAAAAAAAAAAAAAAAAAAAAAAAAAAAAAAAAAAAAAAAAAAAAAAAAAAAAAAAAAAAAAAAAAAAAAAAAAAAAAAAAAAAAAAAAAAAAAAAAAAAAAAAAAAAAAAAAAAAAAAAAAAAAAAAAAAAAAAAAAAAAAAAAAAAAAAAAAAAAAAAAAAAAAAAAAAAAAAAAAAAAAAAAAAAAAAAAAAAAAAAAAAAAAAAAAAAAAAAAAAAAAAAAAAAAAAAAAAAAAAAAAAAAAAAAAAAAAAAAAAAAAAAAAAAAAAAAAAAAAAAAAAAAAAAAAAAAAAAAAAAAAAAAAAAAAAAAAAAAAAAAAAAAAAAAAAAAAAAAAAAAAAAAAAAAAAAAAAAAAAAAAAAAAAAAAAAAAAAAAAAAAAAAAAAAAAAAAAAAAAAAAAAAAAAAAAAAAAAAAAAAAAAAAAAAAAAAAAAAAAAAAAAAAAAAAAAAAAAAAAAAAAAAAAAAAAAAAAAAAAAAAAAAAAAAAAAAAAAAAAAAAAAAAAAAAAAAAAAAAAAAAAAAAAAAAAAAAAAAAAAAAAAAAAAAAAAAAAAAAAAAAAAAAAAAAAAAAAAAAAAAAAAAAAAAAAAAAAAAAAAAAAAAAAAAAAAAAAAAAAAAAAAAAAAAAAAAAAAAAAAAAAAAAAAAAAAAAAAAAAAAAAAAAAAAAAAAAAAAAAAAAAAAAAAAAAAAAAAAAAAAAAAAAAAAAAAAAAAAAAAAAAAAAAAAAAAAAAAAAAAAAAAAAAAAAAAAAAAAAAAAAAAAAAAAAAAAAAAAAAAAAAAAAAAAAAAAAAAAAAAAAAAAAAAAAAAAAAAAAAAAAAAAAAAAAAAAAAAAAAAAAAAAAAAAAAAAAAAAAAAAAAAAAAAAAAAAAAAAAAAAAAAAAAAAAAAAAAAAAAAAAAAAAAAAAAAAAAAAAAAAAAAAAAAAAAAAAAAAAAAAAAAAAAAAAAAAAAAAAAAAAAAAAAAAAAAAAAAAAAAAAAAAAAAAAAAAAAAAAAAAAAAAAAAAAAAAAAAAAAAAAAAAAAAAAAAAAAAAAAAAAAAAAAAAAAAAAAAAAAAAAAAAAAAAAAAAAAAAAAAAAAAAAAAAAAAAAAAAAAAAAAAAAAAAAAAAAAAAAAAAAAAAAAAAAAAAAAAAAAAAAAAAAAAAAAAAAAAAAAAAAAAAAAAAAAAAAAAAAAAAAAAAAAAAAAAAAAAAAAAAAAAAAAAAAAAAAAAAAAAAAAAAAAAAAAAAAAAAAAAAAAAAAAAAAAAAAAAAAAAAAAAAAAAAAAAAAAAAAAAAAAAAAAAAAAAAAAAAAAAAAAAAAAAAAAAAAAAAAAAAAAAAAAAAAAAAAAAAAAAAAAAAAAAAAAAAAAAAAAAAAAAAAAAAAAAAAAAAAAAAAAAAAAAAAAAAAAAAAAAAAAAAAAAAAAAAAAAAAAAAAAAAAAAAAAAAAAAAAAAAAAAAAAAAAAAAAAAAAAAAAAAAAAAAAAAAAAAAAAAAAAAAAAAAAAAAAAAAAAAAAAAAAAAAAAAAAAAAAAAAAAAAAAAAAAAAAAAAAAAAAAAAAAAAAAAAAAAAAAAAAAAAAAAAAAAAAAAAAAAAAAAAAAAAAAAAAAAAAAAAAAAAAAAAAAAAAAAAAAAAAAAAAAAAAAAAAAAAAAAAAAAAAAAAAAAAAAAAAAAAAAAAAAAAAAAAAAAAAAAAAAAAAAAAAAAAAAAAAAAAAAAAAAAAAAAAAAAAAAAAAAAAAAAAAAAAAAAAAAAAAAAAAAAAAAAAAAAAAAAAAAAAAAAAAAAAAAAAAAAAAAAAAAAAAAAAAAAAAAAAAAAAAAAAAAAAAAAAAAAAAAAAAAAAAAAAAAAAAAAAAAAAAAAAAAAAAAAAAAAAAAAAAAAAAAAAAAAAAAAAAAAAAAAAAAAAAAAAAAAAAAAAAAAAAAAAAAAAAAAAAAAAAAAAAAAAAAAAAAAAAAAAAAAAAAAAAAAAAAAAAAAAAAAAAAAAAAAAAAAAAAAAAAAAAAAAAAAAAAAAAAAAAAAAAAAAAAAAAAAAAAAAAAAAAAAAAAAAAAAAAAAAAAAAAAAAAAAAAAAAAAAAAAAAAAAAAAAAAAAAAAAAAAAAAAAAAAAAAAAAAAAAAAAAAAAAAAAAAAAAAAAAAAAAAAAAAAAAAAAAAAAAAAAAAAAAAAAAAAAAAAAAAAAAAAAAAAAAAAA=",
          "dtype": "u1",
          "shape": "28, 62"
         }
        },
        {
         "colorbar": {
          "ticktext": [
           "Outside",
           "Inside"
          ],
          "tickvals": [
           0,
           1
          ],
          "title": {
           "text": "Neuron<br>Presence"
          }
         },
         "colorscale": [
          [
           0,
           "#440154"
          ],
          [
           0.1111111111111111,
           "#482878"
          ],
          [
           0.2222222222222222,
           "#3e4989"
          ],
          [
           0.3333333333333333,
           "#31688e"
          ],
          [
           0.4444444444444444,
           "#26828e"
          ],
          [
           0.5555555555555556,
           "#1f9e89"
          ],
          [
           0.6666666666666666,
           "#35b779"
          ],
          [
           0.7777777777777778,
           "#6ece58"
          ],
          [
           0.8888888888888888,
           "#b5de2b"
          ],
          [
           1,
           "#fde725"
          ]
         ],
         "hovertemplate": "<b>X:</b> %{x:.1f} µm<br><b>Y:</b> %{y:.1f} µm<br><b>Value:</b> %{z}<br><extra></extra>",
         "name": "Z-slice 54",
         "showscale": true,
         "type": "heatmap",
         "visible": false,
         "x": {
          "bdata": "2WzfzHb4LsDBCCyxg/QtwKmkeJWQ8CzAkUDFeZ3sK8B63BFequgqwGJ4XkK35CnAShSrJsTgKMAysPcK0dwnwBpMRO/d2CbAAuiQ0+rUJcDqg92399AkwNIfKpwEzSPAurt2gBHJIsCiV8NkHsUhwIvzD0krwSDA5h65WnB6H8C2VlIjinIdwIaO6+ujahvAVsaEtL1iGcAm/h1911oXwPY1t0XxUhXAyG1QDgtLE8CYpenWJEMRwNC6BT99dg7AcCo40LBmCsAQmmph5FYGwLAJnfIXRwLAoPKeB5du/L/o0QMq/k70v1Bi0ZjKXui/oEE2uzE/0L9gQTa7MT/QPzBi0ZjKXug/2NEDKv5O9D+Y8p4Hl278P6wJnfIXRwJADJpqYeRWBkBsKjjQsGYKQMy6BT99dg5AlqXp1iRDEUDGbVAOC0sTQPI1t0XxUhVAIv4dfddaF0BSxoS0vWIZQIKO6+ujahtAslZSI4pyHUDiHrlacHofQInzD0krwSBAoVfDZB7FIUC5u3aAEckiQNEfKpwEzSNA6YPdt/fQJEAB6JDT6tQlQBlMRO/d2CZAMbD3CtHcJ0BJFKsmxOAoQF94XkK35ClAd9wRXqroKkCPQMV5newrQKekeJWQ8CxAvwgssYP0LUDZbN/MdvguQA==",
          "dtype": "f8"
         },
         "y": {
          "bdata": "AAAAAAAAHMDRXkJ7Ce0ZwKG9hPYS2hfAchzHcRzHFcBCewntJbQTwBPaS2gvoRHAyHEcx3EcD8BpL6G9hPYKwArtJbSX0AbArKqqqqqqAsCY0F5Cewn9v9xLaC+hvfS/QI7jOI7j6L+ACe0ltJfQv3AJ7SW0l9A/OI7jOI7j6D/YS2gvob30P5jQXkJ7Cf0/qKqqqqqqAkAI7SW0l9AGQGgvob2E9gpAxHEcx3EcD0AS2ktoL6ERQEJ7Ce0ltBNAcBzHcRzHFUCgvYT2EtoXQNBeQnsJ7RlAAAAAAAAAHEA=",
          "dtype": "f8"
         },
         "z": {
          "bdata": "AAAAAAAAAAAAAAAAAAAAAAAAAAAAAAAAAAAAAAAAAAAAAAAAAAAAAAAAAAAAAAAAAAAAAAAAAAAAAAAAAAAAAAAAAAAAAAAAAAAAAAAAAAAAAAAAAAAAAAAAAAAAAAAAAAAAAAAAAAAAAAAAAAAAAAAAAAAAAAAAAAAAAAAAAAAAAAAAAAAAAAAAAAAAAAAAAAAAAAAAAAAAAAAAAAAAAAAAAAAAAAAAAAAAAAAAAAAAAAAAAAAAAAAAAAAAAAAAAAAAAAAAAAAAAAAAAAAAAAAAAAAAAAAAAAAAAAAAAAAAAAAAAAAAAAAAAAAAAAAAAAAAAAAAAAAAAAAAAAAAAAAAAAAAAAAAAAAAAAAAAAAAAAAAAAAAAAAAAAAAAAAAAAAAAAAAAAAAAAAAAAAAAAAAAAAAAAAAAAAAAAAAAAAAAAAAAAAAAAAAAAAAAAAAAAAAAAAAAAAAAAAAAAAAAAAAAAAAAAAAAAAAAAAAAAAAAAAAAAAAAAAAAAAAAAAAAAAAAAAAAAAAAAAAAAAAAAAAAAAAAAAAAAAAAAAAAAAAAAAAAAAAAAAAAAAAAAAAAAAAAAAAAAAAAAAAAAAAAAAAAAAAAAAAAAAAAAAAAAAAAAAAAAAAAAAAAAAAAAAAAAAAAAAAAAAAAAAAAAAAAAAAAAAAAAAAAAAAAAAAAAAAAAAAAAAAAAAAAAAAAAAAAAAAAAAAAAAAAAAAAAAAAAAAAAAAAAAAAAAAAAAAAAAAAAAAAAAAAAAAAAAAAAAAAAAAAAAAAAAAAAAAAAAAAAAAAAAAAAAAAAAAAAAAAAAAAAAAAAAAAAAAAAAAAAAAAAAAAAAAAAAAAAAAAAAAAAAAAAAAAAAAAAAAAAAAAAAAAAAAAAAAAAAAAAAAAAAAAAAAAAAAAAAAAAAAAAAAAAAAAAAAAAAAAAAAAAAAAAAAAAAAAAAAAAAAAAAAAAAAAAAAAAAAAAAAAAAAAAAAAAAAAAAAAAAAAAAAAAAAAAAAAAAAAAAAAAAAAAAAAAAAAAAAAAAAAAAAAAAAAAAAAAAAAAAAAAAAAAAAAAAAAAAAAAAAAAAAAAAAAAAAAAAAAAAAAAAAAAAAAAAAAAAAAAAAAAAAAAAAAAAAAAAAAAAAAAAAAAAAAAAAAAAAAAAAAAAAAAAAAAAAAAAAAAAAAAAAAAAAAAAAAAAAAAAAAAAAAAAAAAAAAAAAAAAAAAAAAAAAAAAAAAAAAAAAAAAAAAAAAAAAAAAAAAAAAAAAAAAAAAAAAAAAAAAAAAAAAAAAAAAAAAAAAAAAAAAAAAAAAAAAAAAAAAAAAAAAAAAAAAAAAAAAAAAAAAAAAAAAAAAAAAAAAAAAAAAAAAAAAAAAAAAAAAAAAAAAAAAAAAAAAAAAAAAAAAAAAAAAAAAAAAAAAAAAAAAAAAAAAAAAAAAAAAAAAAAAAAAAAAAAAAAAAAAAAAAAAAAAAAAAAAAAAAAAAAAAAAAAAAAAAAAAAAAAAAAAAAAAAAAAAAAAAAAAAAAAAAAAAAAAAAAAAAAAAAAAAAAAAAAAAAAAAAAAAAAAAAAAAAAAAAAAAAAAAAAAAAAAAAAAAAAAAAAAAAAAAAAAAAAAAAAAAAAAAAAAAAAAAAAAAAAAAAAAAAAAAAAAAAAAAAAAAAAAAAAAAAAAAAAAAAAAAAAAAAAAAAAAAAAAAAAAAAAAAAAAAAAAAAAAAAAAAAAAAAAAAAAAAAAAAAAAAAAAAAAAAAAAAAAAAAAAAAAAAAAAAAAAAAAAAAAAAAAAAAAAAAAAAAAAAAAAAAAAAAAAAAAAAAAAAAAAAAAAAAAAAAAAAAAAAAAAAAAAAAAAAAAAAAAAAAAAAAAAAAAAAAAAAAAAAAAAAAAAAAAAAAAAAAAAAAAAAAAAAAAAAAAAAAAAAAAAAAAAAAAAAAAAAAAAAAAAAAAAAAAAAAAAAAAAAAAAAAAAAAAAAAAAAAAAAAAAAAAAAAAAAAAAAAAAAAAAAAAAAAAAAAAAAAAAAAAAAAAAAAAAAAAAAAAAAAAAAAAAAAAAAAAAAAAAAAAAAAAAAAAAAAAAAAAAAAAAAAAAAAAAAAAAAAAAAAAAAAAAAAAAAAAAAAAAAAAAAAAAAAAAAAAAAAAAAAAAAAAAAAAAAAAAAAAAAAAAAAAAAAAAAAAAAAAAAAAAAAAAAAAAAAAAAAAAAAAAAAAAAAAAAAAAAAAAAAAAAAAAAAAAAAAAAAAAAAAAAAAAAAAAAAAAAAAAAAAAAAAAAAAAAAAAAAAAAAAAAAAAAAAAAAAAAAAAAAAAAAAAAAAAAAAAAAAAAAAAAAAAAAA=",
          "dtype": "u1",
          "shape": "28, 62"
         }
        },
        {
         "colorbar": {
          "ticktext": [
           "Outside",
           "Inside"
          ],
          "tickvals": [
           0,
           1
          ],
          "title": {
           "text": "Neuron<br>Presence"
          }
         },
         "colorscale": [
          [
           0,
           "#440154"
          ],
          [
           0.1111111111111111,
           "#482878"
          ],
          [
           0.2222222222222222,
           "#3e4989"
          ],
          [
           0.3333333333333333,
           "#31688e"
          ],
          [
           0.4444444444444444,
           "#26828e"
          ],
          [
           0.5555555555555556,
           "#1f9e89"
          ],
          [
           0.6666666666666666,
           "#35b779"
          ],
          [
           0.7777777777777778,
           "#6ece58"
          ],
          [
           0.8888888888888888,
           "#b5de2b"
          ],
          [
           1,
           "#fde725"
          ]
         ],
         "hovertemplate": "<b>X:</b> %{x:.1f} µm<br><b>Y:</b> %{y:.1f} µm<br><b>Value:</b> %{z}<br><extra></extra>",
         "name": "Z-slice 55",
         "showscale": true,
         "type": "heatmap",
         "visible": false,
         "x": {
          "bdata": "2WzfzHb4LsDBCCyxg/QtwKmkeJWQ8CzAkUDFeZ3sK8B63BFequgqwGJ4XkK35CnAShSrJsTgKMAysPcK0dwnwBpMRO/d2CbAAuiQ0+rUJcDqg92399AkwNIfKpwEzSPAurt2gBHJIsCiV8NkHsUhwIvzD0krwSDA5h65WnB6H8C2VlIjinIdwIaO6+ujahvAVsaEtL1iGcAm/h1911oXwPY1t0XxUhXAyG1QDgtLE8CYpenWJEMRwNC6BT99dg7AcCo40LBmCsAQmmph5FYGwLAJnfIXRwLAoPKeB5du/L/o0QMq/k70v1Bi0ZjKXui/oEE2uzE/0L9gQTa7MT/QPzBi0ZjKXug/2NEDKv5O9D+Y8p4Hl278P6wJnfIXRwJADJpqYeRWBkBsKjjQsGYKQMy6BT99dg5AlqXp1iRDEUDGbVAOC0sTQPI1t0XxUhVAIv4dfddaF0BSxoS0vWIZQIKO6+ujahtAslZSI4pyHUDiHrlacHofQInzD0krwSBAoVfDZB7FIUC5u3aAEckiQNEfKpwEzSNA6YPdt/fQJEAB6JDT6tQlQBlMRO/d2CZAMbD3CtHcJ0BJFKsmxOAoQF94XkK35ClAd9wRXqroKkCPQMV5newrQKekeJWQ8CxAvwgssYP0LUDZbN/MdvguQA==",
          "dtype": "f8"
         },
         "y": {
          "bdata": "AAAAAAAAHMDRXkJ7Ce0ZwKG9hPYS2hfAchzHcRzHFcBCewntJbQTwBPaS2gvoRHAyHEcx3EcD8BpL6G9hPYKwArtJbSX0AbArKqqqqqqAsCY0F5Cewn9v9xLaC+hvfS/QI7jOI7j6L+ACe0ltJfQv3AJ7SW0l9A/OI7jOI7j6D/YS2gvob30P5jQXkJ7Cf0/qKqqqqqqAkAI7SW0l9AGQGgvob2E9gpAxHEcx3EcD0AS2ktoL6ERQEJ7Ce0ltBNAcBzHcRzHFUCgvYT2EtoXQNBeQnsJ7RlAAAAAAAAAHEA=",
          "dtype": "f8"
         },
         "z": {
          "bdata": "AAAAAAAAAAAAAAAAAAAAAAAAAAAAAAAAAAAAAAAAAAAAAAAAAAAAAAAAAAAAAAAAAAAAAAAAAAAAAAAAAAAAAAAAAAAAAAAAAAAAAAAAAAAAAAAAAAAAAAAAAAAAAAAAAAAAAAAAAAAAAAAAAAAAAAAAAAAAAAAAAAAAAAAAAAAAAAAAAAAAAAAAAAAAAAAAAAAAAAAAAAAAAAAAAAAAAAAAAAAAAAAAAAAAAAAAAAAAAAAAAAAAAAAAAAAAAAAAAAAAAAAAAAAAAAAAAAAAAAAAAAAAAAAAAAAAAAAAAAAAAAAAAAAAAAAAAAAAAAAAAAAAAAAAAAAAAAAAAAAAAAAAAAAAAAAAAAAAAAAAAAAAAAAAAAAAAAAAAAAAAAAAAAAAAAAAAAAAAAAAAAAAAAAAAAAAAAAAAAAAAAAAAAAAAAAAAAAAAAAAAAAAAAAAAAAAAAAAAAAAAAAAAAAAAAAAAAAAAAAAAAAAAAAAAAAAAAAAAAAAAAAAAAAAAAAAAAAAAAAAAAAAAAAAAAAAAAAAAAAAAAAAAAAAAAAAAAAAAAAAAAAAAAAAAAAAAAAAAAAAAAAAAAAAAAAAAAAAAAAAAAAAAAAAAAAAAAAAAAAAAAAAAAAAAAAAAAAAAAAAAAAAAAAAAAAAAAAAAAAAAAAAAAAAAAAAAAAAAAAAAAAAAAAAAAAAAAAAAAAAAAAAAAAAAAAAAAAAAAAAAAAAAAAAAAAAAAAAAAAAAAAAAAAAAAAAAAAAAAAAAAAAAAAAAAAAAAAAAAAAAAAAAAAAAAAAAAAAAAAAAAAAAAAAAAAAAAAAAAAAAAAAAAAAAAAAAAAAAAAAAAAAAAAAAAAAAAAAAAAAAAAAAAAAAAAAAAAAAAAAAAAAAAAAAAAAAAAAAAAAAAAAAAAAAAAAAAAAAAAAAAAAAAAAAAAAAAAAAAAAAAAAAAAAAAAAAAAAAAAAAAAAAAAAAAAAAAAAAAAAAAAAAAAAAAAAAAAAAAAAAAAAAAAAAAAAAAAAAAAAAAAAAAAAAAAAAAAAAAAAAAAAAAAAAAAAAAAAAAAAAAAAAAAAAAAAAAAAAAAAAAAAAAAAAAAAAAAAAAAAAAAAAAAAAAAAAAAAAAAAAAAAAAAAAAAAAAAAAAAAAAAAAAAAAAAAAAAAAAAAAAAAAAAAAAAAAAAAAAAAAAAAAAAAAAAAAAAAAAAAAAAAAAAAAAAAAAAAAAAAAAAAAAAAAAAAAAAAAAAAAAAAAAAAAAAAAAAAAAAAAAAAAAAAAAAAAAAAAAAAAAAAAAAAAAAAAAAAAAAAAAAAAAAAAAAAAAAAAAAAAAAAAAAAAAAAAAAAAAAAAAAAAAAAAAAAAAAAAAAAAAAAAAAAAAAAAAAAAAAAAAAAAAAAAAAAAAAAAAAAAAAAAAAAAAAAAAAAAAAAAAAAAAAAAAAAAAAAAAAAAAAAAAAAAAAAAAAAAAAAAAAAAAAAAAAAAAAAAAAAAAAAAAAAAAAAAAAAAAAAAAAAAAAAAAAAAAAAAAAAAAAAAAAAAAAAAAAAAAAAAAAAAAAAAAAAAAAAAAAAAAAAAAAAAAAAAAAAAAAAAAAAAAAAAAAAAAAAAAAAAAAAAAAAAAAAAAAAAAAAAAAAAAAAAAAAAAAAAAAAAAAAAAAAAAAAAAAAAAAAAAAAAAAAAAAAAAAAAAAAAAAAAAAAAAAAAAAAAAAAAAAAAAAAAAAAAAAAAAAAAAAAAAAAAAAAAAAAAAAAAAAAAAAAAAAAAAAAAAAAAAAAAAAAAAAAAAAAAAAAAAAAAAAAAAAAAAAAAAAAAAAAAAAAAAAAAAAAAAAAAAAAAAAAAAAAAAAAAAAAAAAAAAAAAAAAAAAAAAAAAAAAAAAAAAAAAAAAAAAAAAAAAAAAAAAAAAAAAAAAAAAAAAAAAAAAAAAAAAAAAAAAAAAAAAAAAAAAAAAAAAAAAAAAAAAAAAAAAAAAAAAAAAAAAAAAAAAAAAAAAAAAAAAAAAAAAAAAAAAAAAAAAAAAAAAAAAAAAAAAAAAAAAAAAAAAAAAAAAAAAAAAAAAAAAAAAAAAAAAAAAAAAAAAAAAAAAAAAAAAAAAAAAAAAAAAAAAAAAAAAAAAAAAAAAAAAAAAAAAAAAAAAAAAAAAAAAAAAAAAAAAAAAAAAAAAAAAAAAAAAAAAAAAAAAAAAAAAAAAAAAAAAAAAAAAAAAAAAAAAAAAAAAAAAAAAAAAAAAAAAAAAAAAAAAAAAAAAAAAAAAAAAAAAAAAAAAAAAAAAAAAAAAAAAAAAAAAAAAAAAAAAAAAAAAAAAAAAAAAAAAAAAAAAAAAAAAA=",
          "dtype": "u1",
          "shape": "28, 62"
         }
        },
        {
         "colorbar": {
          "ticktext": [
           "Outside",
           "Inside"
          ],
          "tickvals": [
           0,
           1
          ],
          "title": {
           "text": "Neuron<br>Presence"
          }
         },
         "colorscale": [
          [
           0,
           "#440154"
          ],
          [
           0.1111111111111111,
           "#482878"
          ],
          [
           0.2222222222222222,
           "#3e4989"
          ],
          [
           0.3333333333333333,
           "#31688e"
          ],
          [
           0.4444444444444444,
           "#26828e"
          ],
          [
           0.5555555555555556,
           "#1f9e89"
          ],
          [
           0.6666666666666666,
           "#35b779"
          ],
          [
           0.7777777777777778,
           "#6ece58"
          ],
          [
           0.8888888888888888,
           "#b5de2b"
          ],
          [
           1,
           "#fde725"
          ]
         ],
         "hovertemplate": "<b>X:</b> %{x:.1f} µm<br><b>Y:</b> %{y:.1f} µm<br><b>Value:</b> %{z}<br><extra></extra>",
         "name": "Z-slice 56",
         "showscale": true,
         "type": "heatmap",
         "visible": false,
         "x": {
          "bdata": "2WzfzHb4LsDBCCyxg/QtwKmkeJWQ8CzAkUDFeZ3sK8B63BFequgqwGJ4XkK35CnAShSrJsTgKMAysPcK0dwnwBpMRO/d2CbAAuiQ0+rUJcDqg92399AkwNIfKpwEzSPAurt2gBHJIsCiV8NkHsUhwIvzD0krwSDA5h65WnB6H8C2VlIjinIdwIaO6+ujahvAVsaEtL1iGcAm/h1911oXwPY1t0XxUhXAyG1QDgtLE8CYpenWJEMRwNC6BT99dg7AcCo40LBmCsAQmmph5FYGwLAJnfIXRwLAoPKeB5du/L/o0QMq/k70v1Bi0ZjKXui/oEE2uzE/0L9gQTa7MT/QPzBi0ZjKXug/2NEDKv5O9D+Y8p4Hl278P6wJnfIXRwJADJpqYeRWBkBsKjjQsGYKQMy6BT99dg5AlqXp1iRDEUDGbVAOC0sTQPI1t0XxUhVAIv4dfddaF0BSxoS0vWIZQIKO6+ujahtAslZSI4pyHUDiHrlacHofQInzD0krwSBAoVfDZB7FIUC5u3aAEckiQNEfKpwEzSNA6YPdt/fQJEAB6JDT6tQlQBlMRO/d2CZAMbD3CtHcJ0BJFKsmxOAoQF94XkK35ClAd9wRXqroKkCPQMV5newrQKekeJWQ8CxAvwgssYP0LUDZbN/MdvguQA==",
          "dtype": "f8"
         },
         "y": {
          "bdata": "AAAAAAAAHMDRXkJ7Ce0ZwKG9hPYS2hfAchzHcRzHFcBCewntJbQTwBPaS2gvoRHAyHEcx3EcD8BpL6G9hPYKwArtJbSX0AbArKqqqqqqAsCY0F5Cewn9v9xLaC+hvfS/QI7jOI7j6L+ACe0ltJfQv3AJ7SW0l9A/OI7jOI7j6D/YS2gvob30P5jQXkJ7Cf0/qKqqqqqqAkAI7SW0l9AGQGgvob2E9gpAxHEcx3EcD0AS2ktoL6ERQEJ7Ce0ltBNAcBzHcRzHFUCgvYT2EtoXQNBeQnsJ7RlAAAAAAAAAHEA=",
          "dtype": "f8"
         },
         "z": {
          "bdata": "AAAAAAAAAAAAAAAAAAAAAAAAAAAAAAAAAAAAAAAAAAAAAAAAAAAAAAAAAAAAAAAAAAAAAAAAAAAAAAAAAAAAAAAAAAAAAAAAAAAAAAAAAAAAAAAAAAAAAAAAAAAAAAAAAAAAAAAAAAAAAAAAAAAAAAAAAAAAAAAAAAAAAAAAAAAAAAAAAAAAAAAAAAAAAAAAAAAAAAAAAAAAAAAAAAAAAAAAAAAAAAAAAAAAAAAAAAAAAAAAAAAAAAAAAAAAAAAAAAAAAAAAAAAAAAAAAAAAAAAAAAAAAAAAAAAAAAAAAAAAAAAAAAAAAAAAAAAAAAAAAAAAAAAAAAAAAAAAAAAAAAAAAAAAAAAAAAAAAAAAAAAAAAAAAAAAAAAAAAAAAAAAAAAAAAAAAAAAAAAAAAAAAAAAAAAAAAAAAAAAAAAAAAAAAAAAAAAAAAAAAAAAAAAAAAAAAAAAAAAAAAAAAAAAAAAAAAAAAAAAAAAAAAAAAAAAAAAAAAAAAAAAAAAAAAAAAAAAAAAAAAAAAAAAAAAAAAAAAAAAAAAAAAAAAAAAAAAAAAAAAAAAAAAAAAAAAAAAAAAAAAAAAAAAAAAAAAAAAAAAAAAAAAAAAAAAAAAAAAAAAAAAAAAAAAAAAAAAAAAAAAAAAAAAAAAAAAAAAAAAAAAAAAAAAAAAAAAAAAAAAAAAAAAAAAAAAAAAAAAAAAAAAAAAAAAAAAAAAAAAAAAAAAAAAAAAAAAAAAAAAAAAAAAAAAAAAAAAAAAAAAAAAAAAAAAAAAAAAAAAAAAAAAAAAAAAAAAAAAAAAAAAAAAAAAAAAAAAAAAAAAAAAAAAAAAAAAAAAAAAAAAAAAAAAAAAAAAAAAAAAAAAAAAAAAAAAAAAAAAAAAAAAAAAAAAAAAAAAAAAAAAAAAAAAAAAAAAAAAAAAAAAAAAAAAAAAAAAAAAAAAAAAAAAAAAAAAAAAAAAAAAAAAAAAAAAAAAAAAAAAAAAAAAAAAAAAAAAAAAAAAAAAAAAAAAAAAAAAAAAAAAAAAAAAAAAAAAAAAAAAAAAAAAAAAAAAAAAAAAAAAAAAAAAAAAAAAAAAAAAAAAAAAAAAAAAAAAAAAAAAAAAAAAAAAAAAAAAAAAAAAAAAAAAAAAAAAAAAAAAAAAAAAAAAAAAAAAAAAAAAAAAAAAAAAAAAAAAAAAAAAAAAAAAAAAAAAAAAAAAAAAAAAAAAAAAAAAAAAAAAAAAAAAAAAAAAAAAAAAAAAAAAAAAAAAAAAAAAAAAAAAAAAAAAAAAAAAAAAAAAAAAAAAAAAAAAAAAAAAAAAAAAAAAAAAAAAAAAAAAAAAAAAAAAAAAAAAAAAAAAAAAAAAAAAAAAAAAAAAAAAAAAAAAAAAAAAAAAAAAAAAAAAAAAAAAAAAAAAAAAAAAAAAAAAAAAAAAAAAAAAAAAAAAAAAAAAAAAAAAAAAAAAAAAAAAAAAAAAAAAAAAAAAAAAAAAAAAAAAAAAAAAAAAAAAAAAAAAAAAAAAAAAAAAAAAAAAAAAAAAAAAAAAAAAAAAAAAAAAAAAAAAAAAAAAAAAAAAAAAAAAAAAAAAAAAAAAAAAAAAAAAAAAAAAAAAAAAAAAAAAAAAAAAAAAAAAAAAAAAAAAAAAAAAAAAAAAAAAAAAAAAAAAAAAAAAAAAAAAAAAAAAAAAAAAAAAAAAAAAAAAAAAAAAAAAAAAAAAAAAAAAAAAAAAAAAAAAAAAAAAAAAAAAAAAAAAAAAAAAAAAAAAAAAAAAAAAAAAAAAAAAAAAAAAAAAAAAAAAAAAAAAAAAAAAAAAAAAAAAAAAAAAAAAAAAAAAAAAAAAAAAAAAAAAAAAAAAAAAAAAAAAAAAAAAAAAAAAAAAAAAAAAAAAAAAAAAAAAAAAAAAAAAAAAAAAAAAAAAAAAAAAAAAAAAAAAAAAAAAAAAAAAAAAAAAAAAAAAAAAAAAAAAAAAAAAAAAAAAAAAAAAAAAAAAAAAAAAAAAAAAAAAAAAAAAAAAAAAAAAAAAAAAAAAAAAAAAAAAAAAAAAAAAAAAAAAAAAAAAAAAAAAAAAAAAAAAAAAAAAAAAAAAAAAAAAAAAAAAAAAAAAAAAAAAAAAAAAAAAAAAAAAAAAAAAAAAAAAAAAAAAAAAAAAAAAAAAAAAAAAAAAAAAAAAAAAAAAAAAAAAAAAAAAAAAAAAAAAAAAAAAAAAAAAAAAAAAAAAAAAAAAAAAAAAAAAAAAAAAAAAAAAAAAAAAAAAAAAAAAAAAAAAAAAAAAAAAAAAAAAAAAAAAAAAAAAAAAAAAAAAAAAAAAAAAAAAAAAAAAAAAAAAAAAAAAAA=",
          "dtype": "u1",
          "shape": "28, 62"
         }
        },
        {
         "colorbar": {
          "ticktext": [
           "Outside",
           "Inside"
          ],
          "tickvals": [
           0,
           1
          ],
          "title": {
           "text": "Neuron<br>Presence"
          }
         },
         "colorscale": [
          [
           0,
           "#440154"
          ],
          [
           0.1111111111111111,
           "#482878"
          ],
          [
           0.2222222222222222,
           "#3e4989"
          ],
          [
           0.3333333333333333,
           "#31688e"
          ],
          [
           0.4444444444444444,
           "#26828e"
          ],
          [
           0.5555555555555556,
           "#1f9e89"
          ],
          [
           0.6666666666666666,
           "#35b779"
          ],
          [
           0.7777777777777778,
           "#6ece58"
          ],
          [
           0.8888888888888888,
           "#b5de2b"
          ],
          [
           1,
           "#fde725"
          ]
         ],
         "hovertemplate": "<b>X:</b> %{x:.1f} µm<br><b>Y:</b> %{y:.1f} µm<br><b>Value:</b> %{z}<br><extra></extra>",
         "name": "Z-slice 57",
         "showscale": true,
         "type": "heatmap",
         "visible": false,
         "x": {
          "bdata": "2WzfzHb4LsDBCCyxg/QtwKmkeJWQ8CzAkUDFeZ3sK8B63BFequgqwGJ4XkK35CnAShSrJsTgKMAysPcK0dwnwBpMRO/d2CbAAuiQ0+rUJcDqg92399AkwNIfKpwEzSPAurt2gBHJIsCiV8NkHsUhwIvzD0krwSDA5h65WnB6H8C2VlIjinIdwIaO6+ujahvAVsaEtL1iGcAm/h1911oXwPY1t0XxUhXAyG1QDgtLE8CYpenWJEMRwNC6BT99dg7AcCo40LBmCsAQmmph5FYGwLAJnfIXRwLAoPKeB5du/L/o0QMq/k70v1Bi0ZjKXui/oEE2uzE/0L9gQTa7MT/QPzBi0ZjKXug/2NEDKv5O9D+Y8p4Hl278P6wJnfIXRwJADJpqYeRWBkBsKjjQsGYKQMy6BT99dg5AlqXp1iRDEUDGbVAOC0sTQPI1t0XxUhVAIv4dfddaF0BSxoS0vWIZQIKO6+ujahtAslZSI4pyHUDiHrlacHofQInzD0krwSBAoVfDZB7FIUC5u3aAEckiQNEfKpwEzSNA6YPdt/fQJEAB6JDT6tQlQBlMRO/d2CZAMbD3CtHcJ0BJFKsmxOAoQF94XkK35ClAd9wRXqroKkCPQMV5newrQKekeJWQ8CxAvwgssYP0LUDZbN/MdvguQA==",
          "dtype": "f8"
         },
         "y": {
          "bdata": "AAAAAAAAHMDRXkJ7Ce0ZwKG9hPYS2hfAchzHcRzHFcBCewntJbQTwBPaS2gvoRHAyHEcx3EcD8BpL6G9hPYKwArtJbSX0AbArKqqqqqqAsCY0F5Cewn9v9xLaC+hvfS/QI7jOI7j6L+ACe0ltJfQv3AJ7SW0l9A/OI7jOI7j6D/YS2gvob30P5jQXkJ7Cf0/qKqqqqqqAkAI7SW0l9AGQGgvob2E9gpAxHEcx3EcD0AS2ktoL6ERQEJ7Ce0ltBNAcBzHcRzHFUCgvYT2EtoXQNBeQnsJ7RlAAAAAAAAAHEA=",
          "dtype": "f8"
         },
         "z": {
          "bdata": "AAAAAAAAAAAAAAAAAAAAAAAAAAAAAAAAAAAAAAAAAAAAAAAAAAAAAAAAAAAAAAAAAAAAAAAAAAAAAAAAAAAAAAAAAAAAAAAAAAAAAAAAAAAAAAAAAAAAAAAAAAAAAAAAAAAAAAAAAAAAAAAAAAAAAAAAAAAAAAAAAAAAAAAAAAAAAAAAAAAAAAAAAAAAAAAAAAAAAAAAAAAAAAAAAAAAAAAAAAAAAAAAAAAAAAAAAAAAAAAAAAAAAAAAAAAAAAAAAAAAAAAAAAAAAAAAAAAAAAAAAAAAAAAAAAAAAAAAAAAAAAAAAAAAAAAAAAAAAAAAAAAAAAAAAAAAAAAAAAAAAAAAAAAAAAAAAAAAAAAAAAAAAAAAAAAAAAAAAAAAAAAAAAAAAAAAAAAAAAAAAAAAAAAAAAAAAAAAAAAAAAAAAAAAAAAAAAAAAAAAAAAAAAAAAAAAAAAAAAAAAAAAAAAAAAAAAAAAAAAAAAAAAAAAAAAAAAAAAAAAAAAAAAAAAAAAAAAAAAAAAAAAAAAAAAAAAAAAAAAAAAAAAAAAAAAAAAAAAAAAAAAAAAAAAAAAAAAAAAAAAAAAAAAAAAAAAAAAAAAAAAAAAAAAAAAAAAAAAAAAAAAAAAAAAAAAAAAAAAAAAAAAAAAAAAAAAAAAAAAAAAAAAAAAAAAAAAAAAAAAAAAAAAAAAAAAAAAAAAAAAAAAAAAAAAAAAAAAAAAAAAAAAAAAAAAAAAAAAAAAAAAAAAAAAAAAAAAAAAAAAAAAAAAAAAAAAAAAAAAAAAAAAAAAAAAAAAAAAAAAAAAAAAAAAAAAAAAAAAAAAAAAAAAAAAAAAAAAAAAAAAAAAAAAAAAAAAAAAAAAAAAAAAAAAAAAAAAAAAAAAAAAAAAAAAAAAAAAAAAAAAAAAAAAAAAAAAAAAAAAAAAAAAAAAAAAAAAAAAAAAAAAAAAAAAAAAAAAAAAAAAAAAAAAAAAAAAAAAAAAAAAAAAAAAAAAAAAAAAAAAAAAAAAAAAAAAAAAAAAAAAAAAAAAAAAAAAAAAAAAAAAAAAAAAAAAAAAAAAAAAAAAAAAAAAAAAAAAAAAAAAAAAAAAAAAAAAAAAAAAAAAAAAAAAAAAAAAAAAAAAAAAAAAAAAAAAAAAAAAAAAAAAAAAAAAAAAAAAAAAAAAAAAAAAAAAAAAAAAAAAAAAAAAAAAAAAAAAAAAAAAAAAAAAAAAAAAAAAAAAAAAAAAAAAAAAAAAAAAAAAAAAAAAAAAAAAAAAAAAAAAAAAAAAAAAAAAAAAAAAAAAAAAAAAAAAAAAAAAAAAAAAAAAAAAAAAAAAAAAAAAAAAAAAAAAAAAAAAAAAAAAAAAAAAAAAAAAAAAAAAAAAAAAAAAAAAAAAAAAAAAAAAAAAAAAAAAAAAAAAAAAAAAAAAAAAAAAAAAAAAAAAAAAAAAAAAAAAAAAAAAAAAAAAAAAAAAAAAAAAAAAAAAAAAAAAAAAAAAAAAAAAAAAAAAAAAAAAAAAAAAAAAAAAAAAAAAAAAAAAAAAAAAAAAAAAAAAAAAAAAAAAAAAAAAAAAAAAAAAAAAAAAAAAAAAAAAAAAAAAAAAAAAAAAAAAAAAAAAAAAAAAAAAAAAAAAAAAAAAAAAAAAAAAAAAAAAAAAAAAAAAAAAAAAAAAAAAAAAAAAAAAAAAAAAAAAAAAAAAAAAAAAAAAAAAAAAAAAAAAAAAAAAAAAAAAAAAAAAAAAAAAAAAAAAAAAAAAAAAAAAAAAAAAAAAAAAAAAAAAAAAAAAAAAAAAAAAAAAAAAAAAAAAAAAAAAAAAAAAAAAAAAAAAAAAAAAAAAAAAAAAAAAAAAAAAAAAAAAAAAAAAAAAAAAAAAAAAAAAAAAAAAAAAAAAAAAAAAAAAAAAAAAAAAAAAAAAAAAAAAAAAAAAAAAAAAAAAAAAAAAAAAAAAAAAAAAAAAAAAAAAAAAAAAAAAAAAAAAAAAAAAAAAAAAAAAAAAAAAAAAAAAAAAAAAAAAAAAAAAAAAAAAAAAAAAAAAAAAAAAAAAAAAAAAAAAAAAAAAAAAAAAAAAAAAAAAAAAAAAAAAAAAAAAAAAAAAAAAAAAAAAAAAAAAAAAAAAAAAAAAAAAAAAAAAAAAAAAAAAAAAAAAAAAAAAAAAAAAAAAAAAAAAAAAAAAAAAAAAAAAAAAAAAAAAAAAAAAAAAAAAAAAAAAAAAAAAAAAAAAAAAAAAAAAAAAAAAAAAAAAAAAAAAAAAAAAAAAAAAAAAAAAAAAAAAAAAAAAAAAAAAAAAAAAAAAAAAAAAAAAAAAAAAAAAAAAAAAAAAAAAAAAAAAAAAAAA=",
          "dtype": "u1",
          "shape": "28, 62"
         }
        },
        {
         "colorbar": {
          "ticktext": [
           "Outside",
           "Inside"
          ],
          "tickvals": [
           0,
           1
          ],
          "title": {
           "text": "Neuron<br>Presence"
          }
         },
         "colorscale": [
          [
           0,
           "#440154"
          ],
          [
           0.1111111111111111,
           "#482878"
          ],
          [
           0.2222222222222222,
           "#3e4989"
          ],
          [
           0.3333333333333333,
           "#31688e"
          ],
          [
           0.4444444444444444,
           "#26828e"
          ],
          [
           0.5555555555555556,
           "#1f9e89"
          ],
          [
           0.6666666666666666,
           "#35b779"
          ],
          [
           0.7777777777777778,
           "#6ece58"
          ],
          [
           0.8888888888888888,
           "#b5de2b"
          ],
          [
           1,
           "#fde725"
          ]
         ],
         "hovertemplate": "<b>X:</b> %{x:.1f} µm<br><b>Y:</b> %{y:.1f} µm<br><b>Value:</b> %{z}<br><extra></extra>",
         "name": "Z-slice 58",
         "showscale": true,
         "type": "heatmap",
         "visible": false,
         "x": {
          "bdata": "2WzfzHb4LsDBCCyxg/QtwKmkeJWQ8CzAkUDFeZ3sK8B63BFequgqwGJ4XkK35CnAShSrJsTgKMAysPcK0dwnwBpMRO/d2CbAAuiQ0+rUJcDqg92399AkwNIfKpwEzSPAurt2gBHJIsCiV8NkHsUhwIvzD0krwSDA5h65WnB6H8C2VlIjinIdwIaO6+ujahvAVsaEtL1iGcAm/h1911oXwPY1t0XxUhXAyG1QDgtLE8CYpenWJEMRwNC6BT99dg7AcCo40LBmCsAQmmph5FYGwLAJnfIXRwLAoPKeB5du/L/o0QMq/k70v1Bi0ZjKXui/oEE2uzE/0L9gQTa7MT/QPzBi0ZjKXug/2NEDKv5O9D+Y8p4Hl278P6wJnfIXRwJADJpqYeRWBkBsKjjQsGYKQMy6BT99dg5AlqXp1iRDEUDGbVAOC0sTQPI1t0XxUhVAIv4dfddaF0BSxoS0vWIZQIKO6+ujahtAslZSI4pyHUDiHrlacHofQInzD0krwSBAoVfDZB7FIUC5u3aAEckiQNEfKpwEzSNA6YPdt/fQJEAB6JDT6tQlQBlMRO/d2CZAMbD3CtHcJ0BJFKsmxOAoQF94XkK35ClAd9wRXqroKkCPQMV5newrQKekeJWQ8CxAvwgssYP0LUDZbN/MdvguQA==",
          "dtype": "f8"
         },
         "y": {
          "bdata": "AAAAAAAAHMDRXkJ7Ce0ZwKG9hPYS2hfAchzHcRzHFcBCewntJbQTwBPaS2gvoRHAyHEcx3EcD8BpL6G9hPYKwArtJbSX0AbArKqqqqqqAsCY0F5Cewn9v9xLaC+hvfS/QI7jOI7j6L+ACe0ltJfQv3AJ7SW0l9A/OI7jOI7j6D/YS2gvob30P5jQXkJ7Cf0/qKqqqqqqAkAI7SW0l9AGQGgvob2E9gpAxHEcx3EcD0AS2ktoL6ERQEJ7Ce0ltBNAcBzHcRzHFUCgvYT2EtoXQNBeQnsJ7RlAAAAAAAAAHEA=",
          "dtype": "f8"
         },
         "z": {
          "bdata": "AAAAAAAAAAAAAAAAAAAAAAAAAAAAAAAAAAAAAAAAAAAAAAAAAAAAAAAAAAAAAAAAAAAAAAAAAAAAAAAAAAAAAAAAAAAAAAAAAAAAAAAAAAAAAAAAAAAAAAAAAAAAAAAAAAAAAAAAAAAAAAAAAAAAAAAAAAAAAAAAAAAAAAAAAAAAAAAAAAAAAAAAAAAAAAAAAAAAAAAAAAAAAAAAAAAAAAAAAAAAAAAAAAAAAAAAAAAAAAAAAAAAAAAAAAAAAAAAAAAAAAAAAAAAAAAAAAAAAAAAAAAAAAAAAAAAAAAAAAAAAAAAAAAAAAAAAAAAAAAAAAAAAAAAAAAAAAAAAAAAAAAAAAAAAAAAAAAAAAAAAAAAAAAAAAAAAAAAAAAAAAAAAAAAAAAAAAAAAAAAAAAAAAAAAAAAAAAAAAAAAAAAAAAAAAAAAAAAAAAAAAAAAAAAAAAAAAAAAAAAAAAAAAAAAAAAAAAAAAAAAAAAAAAAAAAAAAAAAAAAAAAAAAAAAAAAAAAAAAAAAAAAAAAAAAAAAAAAAAAAAAAAAAAAAAAAAAAAAAAAAAAAAAAAAAAAAAAAAAAAAAAAAAAAAAAAAAAAAAAAAAAAAAAAAAAAAAAAAAAAAAAAAAAAAAAAAAAAAAAAAAAAAAAAAAAAAAAAAAAAAAAAAAAAAAAAAAAAAAAAAAAAAAAAAAAAAAAAAAAAAAAAAAAAAAAAAAAAAAAAAAAAAAAAAAAAAAAAAAAAAAAAAAAAAAAAAAAAAAAAAAAAAAAAAAAAAAAAAAAAAAAAAAAAAAAAAAAAAAAAAAAAAAAAAAAAAAAAAAAAAAAAAAAAAAAAAAAAAAAAAAAAAAAAAAAAAAAAAAAAAAAAAAAAAAAAAAAAAAAAAAAAAAAAAAAAAAAAAAAAAAAAAAAAAAAAAAAAAAAAAAAAAAAAAAAAAAAAAAAAAAAAAAAAAAAAAAAAAAAAAAAAAAAAAAAAAAAAAAAAAAAAAAAAAAAAAAAAAAAAAAAAAAAAAAAAAAAAAAAAAAAAAAAAAAAAAAAAAAAAAAAAAAAAAAAAAAAAAAAAAAAAAAAAAAAAAAAAAAAAAAAAAAAAAAAAAAAAAAAAAAAAAAAAAAAAAAAAAAAAAAAAAAAAAAAAAAAAAAAAAAAAAAAAAAAAAAAAAAAAAAAAAAAAAAAAAAAAAAAAAAAAAAAAAAAAAAAAAAAAAAAAAAAAAAAAAAAAAAAAAAAAAAAAAAAAAAAAAAAAAAAAAAAAAAAAAAAAAAAAAAAAAAAAAAAAAAAAAAAAAAAAAAAAAAAAAAAAAAAAAAAAAAAAAAAAAAAAAAAAAAAAAAAAAAAAAAAAAAAAAAAAAAAAAAAAAAAAAAAAAAAAAAAAAAAAAAAAAAAAAAAAAAAAAAAAAAAAAAAAAAAAAAAAAAAAAAAAAAAAAAAAAAAAAAAAAAAAAAAAAAAAAAAAAAAAAAAAAAAAAAAAAAAAAAAAAAAAAAAAAAAAAAAAAAAAAAAAAAAAAAAAAAAAAAAAAAAAAAAAAAAAAAAAAAAAAAAAAAAAAAAAAAAAAAAAAAAAAAAAAAAAAAAAAAAAAAAAAAAAAAAAAAAAAAAAAAAAAAAAAAAAAAAAAAAAAAAAAAAAAAAAAAAAAAAAAAAAAAAAAAAAAAAAAAAAAAAAAAAAAAAAAAAAAAAAAAAAAAAAAAAAAAAAAAAAAAAAAAAAAAAAAAAAAAAAAAAAAAAAAAAAAAAAAAAAAAAAAAAAAAAAAAAAAAAAAAAAAAAAAAAAAAAAAAAAAAAAAAAAAAAAAAAAAAAAAAAAAAAAAAAAAAAAAAAAAAAAAAAAAAAAAAAAAAAAAAAAAAAAAAAAAAAAAAAAAAAAAAAAAAAAAAAAAAAAAAAAAAAAAAAAAAAAAAAAAAAAAAAAAAAAAAAAAAAAAAAAAAAAAAAAAAAAAAAAAAAAAAAAAAAAAAAAAAAAAAAAAAAAAAAAAAAAAAAAAAAAAAAAAAAAAAAAAAAAAAAAAAAAAAAAAAAAAAAAAAAAAAAAAAAAAAAAAAAAAAAAAAAAAAAAAAAAAAAAAAAAAAAAAAAAAAAAAAAAAAAAAAAAAAAAAAAAAAAAAAAAAAAAAAAAAAAAAAAAAAAAAAAAAAAAAAAAAAAAAAAAAAAAAAAAAAAAAAAAAAAAAAAAAAAAAAAAAAAAAAAAAAAAAAAAAAAAAAAAAAAAAAAAAAAAAAAAAAAAAAAAAAAAAAAAAAAAAAAAAAAAAAAAAAAAAAAAAAAAAAAAAAAAAAAAAAAAAAAAAAAAAAAAAAAAAAAAAAAAAAAAAAAAAAAAAAAAAAAAAAA=",
          "dtype": "u1",
          "shape": "28, 62"
         }
        }
       ],
       "layout": {
        "height": 600,
        "sliders": [
         {
          "active": 29,
          "currentvalue": {
           "prefix": "Z-position (µm): "
          },
          "len": 0.9,
          "pad": {
           "t": 50
          },
          "steps": [
           {
            "args": [
             {
              "visible": [
               true,
               false,
               false,
               false,
               false,
               false,
               false,
               false,
               false,
               false,
               false,
               false,
               false,
               false,
               false,
               false,
               false,
               false,
               false,
               false,
               false,
               false,
               false,
               false,
               false,
               false,
               false,
               false,
               false,
               false,
               false,
               false,
               false,
               false,
               false,
               false,
               false,
               false,
               false,
               false,
               false,
               false,
               false,
               false,
               false,
               false,
               false,
               false,
               false,
               false,
               false,
               false,
               false,
               false,
               false,
               false,
               false,
               false,
               false
              ]
             },
             {
              "title": "Y-branch Z-stack Cross-sections<br>Z = -3.0 µm (slice 1/59)"
             }
            ],
            "label": "-3.0",
            "method": "update"
           },
           {
            "args": [
             {
              "visible": [
               false,
               true,
               false,
               false,
               false,
               false,
               false,
               false,
               false,
               false,
               false,
               false,
               false,
               false,
               false,
               false,
               false,
               false,
               false,
               false,
               false,
               false,
               false,
               false,
               false,
               false,
               false,
               false,
               false,
               false,
               false,
               false,
               false,
               false,
               false,
               false,
               false,
               false,
               false,
               false,
               false,
               false,
               false,
               false,
               false,
               false,
               false,
               false,
               false,
               false,
               false,
               false,
               false,
               false,
               false,
               false,
               false,
               false,
               false
              ]
             },
             {
              "title": "Y-branch Z-stack Cross-sections<br>Z = -2.5 µm (slice 2/59)"
             }
            ],
            "label": "-2.5",
            "method": "update"
           },
           {
            "args": [
             {
              "visible": [
               false,
               false,
               true,
               false,
               false,
               false,
               false,
               false,
               false,
               false,
               false,
               false,
               false,
               false,
               false,
               false,
               false,
               false,
               false,
               false,
               false,
               false,
               false,
               false,
               false,
               false,
               false,
               false,
               false,
               false,
               false,
               false,
               false,
               false,
               false,
               false,
               false,
               false,
               false,
               false,
               false,
               false,
               false,
               false,
               false,
               false,
               false,
               false,
               false,
               false,
               false,
               false,
               false,
               false,
               false,
               false,
               false,
               false,
               false
              ]
             },
             {
              "title": "Y-branch Z-stack Cross-sections<br>Z = -2.0 µm (slice 3/59)"
             }
            ],
            "label": "-2.0",
            "method": "update"
           },
           {
            "args": [
             {
              "visible": [
               false,
               false,
               false,
               true,
               false,
               false,
               false,
               false,
               false,
               false,
               false,
               false,
               false,
               false,
               false,
               false,
               false,
               false,
               false,
               false,
               false,
               false,
               false,
               false,
               false,
               false,
               false,
               false,
               false,
               false,
               false,
               false,
               false,
               false,
               false,
               false,
               false,
               false,
               false,
               false,
               false,
               false,
               false,
               false,
               false,
               false,
               false,
               false,
               false,
               false,
               false,
               false,
               false,
               false,
               false,
               false,
               false,
               false,
               false
              ]
             },
             {
              "title": "Y-branch Z-stack Cross-sections<br>Z = -1.5 µm (slice 4/59)"
             }
            ],
            "label": "-1.5",
            "method": "update"
           },
           {
            "args": [
             {
              "visible": [
               false,
               false,
               false,
               false,
               true,
               false,
               false,
               false,
               false,
               false,
               false,
               false,
               false,
               false,
               false,
               false,
               false,
               false,
               false,
               false,
               false,
               false,
               false,
               false,
               false,
               false,
               false,
               false,
               false,
               false,
               false,
               false,
               false,
               false,
               false,
               false,
               false,
               false,
               false,
               false,
               false,
               false,
               false,
               false,
               false,
               false,
               false,
               false,
               false,
               false,
               false,
               false,
               false,
               false,
               false,
               false,
               false,
               false,
               false
              ]
             },
             {
              "title": "Y-branch Z-stack Cross-sections<br>Z = -1.0 µm (slice 5/59)"
             }
            ],
            "label": "-1.0",
            "method": "update"
           },
           {
            "args": [
             {
              "visible": [
               false,
               false,
               false,
               false,
               false,
               true,
               false,
               false,
               false,
               false,
               false,
               false,
               false,
               false,
               false,
               false,
               false,
               false,
               false,
               false,
               false,
               false,
               false,
               false,
               false,
               false,
               false,
               false,
               false,
               false,
               false,
               false,
               false,
               false,
               false,
               false,
               false,
               false,
               false,
               false,
               false,
               false,
               false,
               false,
               false,
               false,
               false,
               false,
               false,
               false,
               false,
               false,
               false,
               false,
               false,
               false,
               false,
               false,
               false
              ]
             },
             {
              "title": "Y-branch Z-stack Cross-sections<br>Z = -0.5 µm (slice 6/59)"
             }
            ],
            "label": "-0.5",
            "method": "update"
           },
           {
            "args": [
             {
              "visible": [
               false,
               false,
               false,
               false,
               false,
               false,
               true,
               false,
               false,
               false,
               false,
               false,
               false,
               false,
               false,
               false,
               false,
               false,
               false,
               false,
               false,
               false,
               false,
               false,
               false,
               false,
               false,
               false,
               false,
               false,
               false,
               false,
               false,
               false,
               false,
               false,
               false,
               false,
               false,
               false,
               false,
               false,
               false,
               false,
               false,
               false,
               false,
               false,
               false,
               false,
               false,
               false,
               false,
               false,
               false,
               false,
               false,
               false,
               false
              ]
             },
             {
              "title": "Y-branch Z-stack Cross-sections<br>Z = 0.1 µm (slice 7/59)"
             }
            ],
            "label": "0.1",
            "method": "update"
           },
           {
            "args": [
             {
              "visible": [
               false,
               false,
               false,
               false,
               false,
               false,
               false,
               true,
               false,
               false,
               false,
               false,
               false,
               false,
               false,
               false,
               false,
               false,
               false,
               false,
               false,
               false,
               false,
               false,
               false,
               false,
               false,
               false,
               false,
               false,
               false,
               false,
               false,
               false,
               false,
               false,
               false,
               false,
               false,
               false,
               false,
               false,
               false,
               false,
               false,
               false,
               false,
               false,
               false,
               false,
               false,
               false,
               false,
               false,
               false,
               false,
               false,
               false,
               false
              ]
             },
             {
              "title": "Y-branch Z-stack Cross-sections<br>Z = 0.6 µm (slice 8/59)"
             }
            ],
            "label": "0.6",
            "method": "update"
           },
           {
            "args": [
             {
              "visible": [
               false,
               false,
               false,
               false,
               false,
               false,
               false,
               false,
               true,
               false,
               false,
               false,
               false,
               false,
               false,
               false,
               false,
               false,
               false,
               false,
               false,
               false,
               false,
               false,
               false,
               false,
               false,
               false,
               false,
               false,
               false,
               false,
               false,
               false,
               false,
               false,
               false,
               false,
               false,
               false,
               false,
               false,
               false,
               false,
               false,
               false,
               false,
               false,
               false,
               false,
               false,
               false,
               false,
               false,
               false,
               false,
               false,
               false,
               false
              ]
             },
             {
              "title": "Y-branch Z-stack Cross-sections<br>Z = 1.1 µm (slice 9/59)"
             }
            ],
            "label": "1.1",
            "method": "update"
           },
           {
            "args": [
             {
              "visible": [
               false,
               false,
               false,
               false,
               false,
               false,
               false,
               false,
               false,
               true,
               false,
               false,
               false,
               false,
               false,
               false,
               false,
               false,
               false,
               false,
               false,
               false,
               false,
               false,
               false,
               false,
               false,
               false,
               false,
               false,
               false,
               false,
               false,
               false,
               false,
               false,
               false,
               false,
               false,
               false,
               false,
               false,
               false,
               false,
               false,
               false,
               false,
               false,
               false,
               false,
               false,
               false,
               false,
               false,
               false,
               false,
               false,
               false,
               false
              ]
             },
             {
              "title": "Y-branch Z-stack Cross-sections<br>Z = 1.6 µm (slice 10/59)"
             }
            ],
            "label": "1.6",
            "method": "update"
           },
           {
            "args": [
             {
              "visible": [
               false,
               false,
               false,
               false,
               false,
               false,
               false,
               false,
               false,
               false,
               true,
               false,
               false,
               false,
               false,
               false,
               false,
               false,
               false,
               false,
               false,
               false,
               false,
               false,
               false,
               false,
               false,
               false,
               false,
               false,
               false,
               false,
               false,
               false,
               false,
               false,
               false,
               false,
               false,
               false,
               false,
               false,
               false,
               false,
               false,
               false,
               false,
               false,
               false,
               false,
               false,
               false,
               false,
               false,
               false,
               false,
               false,
               false,
               false
              ]
             },
             {
              "title": "Y-branch Z-stack Cross-sections<br>Z = 2.1 µm (slice 11/59)"
             }
            ],
            "label": "2.1",
            "method": "update"
           },
           {
            "args": [
             {
              "visible": [
               false,
               false,
               false,
               false,
               false,
               false,
               false,
               false,
               false,
               false,
               false,
               true,
               false,
               false,
               false,
               false,
               false,
               false,
               false,
               false,
               false,
               false,
               false,
               false,
               false,
               false,
               false,
               false,
               false,
               false,
               false,
               false,
               false,
               false,
               false,
               false,
               false,
               false,
               false,
               false,
               false,
               false,
               false,
               false,
               false,
               false,
               false,
               false,
               false,
               false,
               false,
               false,
               false,
               false,
               false,
               false,
               false,
               false,
               false
              ]
             },
             {
              "title": "Y-branch Z-stack Cross-sections<br>Z = 2.6 µm (slice 12/59)"
             }
            ],
            "label": "2.6",
            "method": "update"
           },
           {
            "args": [
             {
              "visible": [
               false,
               false,
               false,
               false,
               false,
               false,
               false,
               false,
               false,
               false,
               false,
               false,
               true,
               false,
               false,
               false,
               false,
               false,
               false,
               false,
               false,
               false,
               false,
               false,
               false,
               false,
               false,
               false,
               false,
               false,
               false,
               false,
               false,
               false,
               false,
               false,
               false,
               false,
               false,
               false,
               false,
               false,
               false,
               false,
               false,
               false,
               false,
               false,
               false,
               false,
               false,
               false,
               false,
               false,
               false,
               false,
               false,
               false,
               false
              ]
             },
             {
              "title": "Y-branch Z-stack Cross-sections<br>Z = 3.1 µm (slice 13/59)"
             }
            ],
            "label": "3.1",
            "method": "update"
           },
           {
            "args": [
             {
              "visible": [
               false,
               false,
               false,
               false,
               false,
               false,
               false,
               false,
               false,
               false,
               false,
               false,
               false,
               true,
               false,
               false,
               false,
               false,
               false,
               false,
               false,
               false,
               false,
               false,
               false,
               false,
               false,
               false,
               false,
               false,
               false,
               false,
               false,
               false,
               false,
               false,
               false,
               false,
               false,
               false,
               false,
               false,
               false,
               false,
               false,
               false,
               false,
               false,
               false,
               false,
               false,
               false,
               false,
               false,
               false,
               false,
               false,
               false,
               false
              ]
             },
             {
              "title": "Y-branch Z-stack Cross-sections<br>Z = 3.6 µm (slice 14/59)"
             }
            ],
            "label": "3.6",
            "method": "update"
           },
           {
            "args": [
             {
              "visible": [
               false,
               false,
               false,
               false,
               false,
               false,
               false,
               false,
               false,
               false,
               false,
               false,
               false,
               false,
               true,
               false,
               false,
               false,
               false,
               false,
               false,
               false,
               false,
               false,
               false,
               false,
               false,
               false,
               false,
               false,
               false,
               false,
               false,
               false,
               false,
               false,
               false,
               false,
               false,
               false,
               false,
               false,
               false,
               false,
               false,
               false,
               false,
               false,
               false,
               false,
               false,
               false,
               false,
               false,
               false,
               false,
               false,
               false,
               false
              ]
             },
             {
              "title": "Y-branch Z-stack Cross-sections<br>Z = 4.1 µm (slice 15/59)"
             }
            ],
            "label": "4.1",
            "method": "update"
           },
           {
            "args": [
             {
              "visible": [
               false,
               false,
               false,
               false,
               false,
               false,
               false,
               false,
               false,
               false,
               false,
               false,
               false,
               false,
               false,
               true,
               false,
               false,
               false,
               false,
               false,
               false,
               false,
               false,
               false,
               false,
               false,
               false,
               false,
               false,
               false,
               false,
               false,
               false,
               false,
               false,
               false,
               false,
               false,
               false,
               false,
               false,
               false,
               false,
               false,
               false,
               false,
               false,
               false,
               false,
               false,
               false,
               false,
               false,
               false,
               false,
               false,
               false,
               false
              ]
             },
             {
              "title": "Y-branch Z-stack Cross-sections<br>Z = 4.6 µm (slice 16/59)"
             }
            ],
            "label": "4.6",
            "method": "update"
           },
           {
            "args": [
             {
              "visible": [
               false,
               false,
               false,
               false,
               false,
               false,
               false,
               false,
               false,
               false,
               false,
               false,
               false,
               false,
               false,
               false,
               true,
               false,
               false,
               false,
               false,
               false,
               false,
               false,
               false,
               false,
               false,
               false,
               false,
               false,
               false,
               false,
               false,
               false,
               false,
               false,
               false,
               false,
               false,
               false,
               false,
               false,
               false,
               false,
               false,
               false,
               false,
               false,
               false,
               false,
               false,
               false,
               false,
               false,
               false,
               false,
               false,
               false,
               false
              ]
             },
             {
              "title": "Y-branch Z-stack Cross-sections<br>Z = 5.1 µm (slice 17/59)"
             }
            ],
            "label": "5.1",
            "method": "update"
           },
           {
            "args": [
             {
              "visible": [
               false,
               false,
               false,
               false,
               false,
               false,
               false,
               false,
               false,
               false,
               false,
               false,
               false,
               false,
               false,
               false,
               false,
               true,
               false,
               false,
               false,
               false,
               false,
               false,
               false,
               false,
               false,
               false,
               false,
               false,
               false,
               false,
               false,
               false,
               false,
               false,
               false,
               false,
               false,
               false,
               false,
               false,
               false,
               false,
               false,
               false,
               false,
               false,
               false,
               false,
               false,
               false,
               false,
               false,
               false,
               false,
               false,
               false,
               false
              ]
             },
             {
              "title": "Y-branch Z-stack Cross-sections<br>Z = 5.6 µm (slice 18/59)"
             }
            ],
            "label": "5.6",
            "method": "update"
           },
           {
            "args": [
             {
              "visible": [
               false,
               false,
               false,
               false,
               false,
               false,
               false,
               false,
               false,
               false,
               false,
               false,
               false,
               false,
               false,
               false,
               false,
               false,
               true,
               false,
               false,
               false,
               false,
               false,
               false,
               false,
               false,
               false,
               false,
               false,
               false,
               false,
               false,
               false,
               false,
               false,
               false,
               false,
               false,
               false,
               false,
               false,
               false,
               false,
               false,
               false,
               false,
               false,
               false,
               false,
               false,
               false,
               false,
               false,
               false,
               false,
               false,
               false,
               false
              ]
             },
             {
              "title": "Y-branch Z-stack Cross-sections<br>Z = 6.2 µm (slice 19/59)"
             }
            ],
            "label": "6.2",
            "method": "update"
           },
           {
            "args": [
             {
              "visible": [
               false,
               false,
               false,
               false,
               false,
               false,
               false,
               false,
               false,
               false,
               false,
               false,
               false,
               false,
               false,
               false,
               false,
               false,
               false,
               true,
               false,
               false,
               false,
               false,
               false,
               false,
               false,
               false,
               false,
               false,
               false,
               false,
               false,
               false,
               false,
               false,
               false,
               false,
               false,
               false,
               false,
               false,
               false,
               false,
               false,
               false,
               false,
               false,
               false,
               false,
               false,
               false,
               false,
               false,
               false,
               false,
               false,
               false,
               false
              ]
             },
             {
              "title": "Y-branch Z-stack Cross-sections<br>Z = 6.7 µm (slice 20/59)"
             }
            ],
            "label": "6.7",
            "method": "update"
           },
           {
            "args": [
             {
              "visible": [
               false,
               false,
               false,
               false,
               false,
               false,
               false,
               false,
               false,
               false,
               false,
               false,
               false,
               false,
               false,
               false,
               false,
               false,
               false,
               false,
               true,
               false,
               false,
               false,
               false,
               false,
               false,
               false,
               false,
               false,
               false,
               false,
               false,
               false,
               false,
               false,
               false,
               false,
               false,
               false,
               false,
               false,
               false,
               false,
               false,
               false,
               false,
               false,
               false,
               false,
               false,
               false,
               false,
               false,
               false,
               false,
               false,
               false,
               false
              ]
             },
             {
              "title": "Y-branch Z-stack Cross-sections<br>Z = 7.2 µm (slice 21/59)"
             }
            ],
            "label": "7.2",
            "method": "update"
           },
           {
            "args": [
             {
              "visible": [
               false,
               false,
               false,
               false,
               false,
               false,
               false,
               false,
               false,
               false,
               false,
               false,
               false,
               false,
               false,
               false,
               false,
               false,
               false,
               false,
               false,
               true,
               false,
               false,
               false,
               false,
               false,
               false,
               false,
               false,
               false,
               false,
               false,
               false,
               false,
               false,
               false,
               false,
               false,
               false,
               false,
               false,
               false,
               false,
               false,
               false,
               false,
               false,
               false,
               false,
               false,
               false,
               false,
               false,
               false,
               false,
               false,
               false,
               false
              ]
             },
             {
              "title": "Y-branch Z-stack Cross-sections<br>Z = 7.7 µm (slice 22/59)"
             }
            ],
            "label": "7.7",
            "method": "update"
           },
           {
            "args": [
             {
              "visible": [
               false,
               false,
               false,
               false,
               false,
               false,
               false,
               false,
               false,
               false,
               false,
               false,
               false,
               false,
               false,
               false,
               false,
               false,
               false,
               false,
               false,
               false,
               true,
               false,
               false,
               false,
               false,
               false,
               false,
               false,
               false,
               false,
               false,
               false,
               false,
               false,
               false,
               false,
               false,
               false,
               false,
               false,
               false,
               false,
               false,
               false,
               false,
               false,
               false,
               false,
               false,
               false,
               false,
               false,
               false,
               false,
               false,
               false,
               false
              ]
             },
             {
              "title": "Y-branch Z-stack Cross-sections<br>Z = 8.2 µm (slice 23/59)"
             }
            ],
            "label": "8.2",
            "method": "update"
           },
           {
            "args": [
             {
              "visible": [
               false,
               false,
               false,
               false,
               false,
               false,
               false,
               false,
               false,
               false,
               false,
               false,
               false,
               false,
               false,
               false,
               false,
               false,
               false,
               false,
               false,
               false,
               false,
               true,
               false,
               false,
               false,
               false,
               false,
               false,
               false,
               false,
               false,
               false,
               false,
               false,
               false,
               false,
               false,
               false,
               false,
               false,
               false,
               false,
               false,
               false,
               false,
               false,
               false,
               false,
               false,
               false,
               false,
               false,
               false,
               false,
               false,
               false,
               false
              ]
             },
             {
              "title": "Y-branch Z-stack Cross-sections<br>Z = 8.7 µm (slice 24/59)"
             }
            ],
            "label": "8.7",
            "method": "update"
           },
           {
            "args": [
             {
              "visible": [
               false,
               false,
               false,
               false,
               false,
               false,
               false,
               false,
               false,
               false,
               false,
               false,
               false,
               false,
               false,
               false,
               false,
               false,
               false,
               false,
               false,
               false,
               false,
               false,
               true,
               false,
               false,
               false,
               false,
               false,
               false,
               false,
               false,
               false,
               false,
               false,
               false,
               false,
               false,
               false,
               false,
               false,
               false,
               false,
               false,
               false,
               false,
               false,
               false,
               false,
               false,
               false,
               false,
               false,
               false,
               false,
               false,
               false,
               false
              ]
             },
             {
              "title": "Y-branch Z-stack Cross-sections<br>Z = 9.2 µm (slice 25/59)"
             }
            ],
            "label": "9.2",
            "method": "update"
           },
           {
            "args": [
             {
              "visible": [
               false,
               false,
               false,
               false,
               false,
               false,
               false,
               false,
               false,
               false,
               false,
               false,
               false,
               false,
               false,
               false,
               false,
               false,
               false,
               false,
               false,
               false,
               false,
               false,
               false,
               true,
               false,
               false,
               false,
               false,
               false,
               false,
               false,
               false,
               false,
               false,
               false,
               false,
               false,
               false,
               false,
               false,
               false,
               false,
               false,
               false,
               false,
               false,
               false,
               false,
               false,
               false,
               false,
               false,
               false,
               false,
               false,
               false,
               false
              ]
             },
             {
              "title": "Y-branch Z-stack Cross-sections<br>Z = 9.7 µm (slice 26/59)"
             }
            ],
            "label": "9.7",
            "method": "update"
           },
           {
            "args": [
             {
              "visible": [
               false,
               false,
               false,
               false,
               false,
               false,
               false,
               false,
               false,
               false,
               false,
               false,
               false,
               false,
               false,
               false,
               false,
               false,
               false,
               false,
               false,
               false,
               false,
               false,
               false,
               false,
               true,
               false,
               false,
               false,
               false,
               false,
               false,
               false,
               false,
               false,
               false,
               false,
               false,
               false,
               false,
               false,
               false,
               false,
               false,
               false,
               false,
               false,
               false,
               false,
               false,
               false,
               false,
               false,
               false,
               false,
               false,
               false,
               false
              ]
             },
             {
              "title": "Y-branch Z-stack Cross-sections<br>Z = 10.2 µm (slice 27/59)"
             }
            ],
            "label": "10.2",
            "method": "update"
           },
           {
            "args": [
             {
              "visible": [
               false,
               false,
               false,
               false,
               false,
               false,
               false,
               false,
               false,
               false,
               false,
               false,
               false,
               false,
               false,
               false,
               false,
               false,
               false,
               false,
               false,
               false,
               false,
               false,
               false,
               false,
               false,
               true,
               false,
               false,
               false,
               false,
               false,
               false,
               false,
               false,
               false,
               false,
               false,
               false,
               false,
               false,
               false,
               false,
               false,
               false,
               false,
               false,
               false,
               false,
               false,
               false,
               false,
               false,
               false,
               false,
               false,
               false,
               false
              ]
             },
             {
              "title": "Y-branch Z-stack Cross-sections<br>Z = 10.7 µm (slice 28/59)"
             }
            ],
            "label": "10.7",
            "method": "update"
           },
           {
            "args": [
             {
              "visible": [
               false,
               false,
               false,
               false,
               false,
               false,
               false,
               false,
               false,
               false,
               false,
               false,
               false,
               false,
               false,
               false,
               false,
               false,
               false,
               false,
               false,
               false,
               false,
               false,
               false,
               false,
               false,
               false,
               true,
               false,
               false,
               false,
               false,
               false,
               false,
               false,
               false,
               false,
               false,
               false,
               false,
               false,
               false,
               false,
               false,
               false,
               false,
               false,
               false,
               false,
               false,
               false,
               false,
               false,
               false,
               false,
               false,
               false,
               false
              ]
             },
             {
              "title": "Y-branch Z-stack Cross-sections<br>Z = 11.2 µm (slice 29/59)"
             }
            ],
            "label": "11.2",
            "method": "update"
           },
           {
            "args": [
             {
              "visible": [
               false,
               false,
               false,
               false,
               false,
               false,
               false,
               false,
               false,
               false,
               false,
               false,
               false,
               false,
               false,
               false,
               false,
               false,
               false,
               false,
               false,
               false,
               false,
               false,
               false,
               false,
               false,
               false,
               false,
               true,
               false,
               false,
               false,
               false,
               false,
               false,
               false,
               false,
               false,
               false,
               false,
               false,
               false,
               false,
               false,
               false,
               false,
               false,
               false,
               false,
               false,
               false,
               false,
               false,
               false,
               false,
               false,
               false,
               false
              ]
             },
             {
              "title": "Y-branch Z-stack Cross-sections<br>Z = 11.7 µm (slice 30/59)"
             }
            ],
            "label": "11.7",
            "method": "update"
           },
           {
            "args": [
             {
              "visible": [
               false,
               false,
               false,
               false,
               false,
               false,
               false,
               false,
               false,
               false,
               false,
               false,
               false,
               false,
               false,
               false,
               false,
               false,
               false,
               false,
               false,
               false,
               false,
               false,
               false,
               false,
               false,
               false,
               false,
               false,
               true,
               false,
               false,
               false,
               false,
               false,
               false,
               false,
               false,
               false,
               false,
               false,
               false,
               false,
               false,
               false,
               false,
               false,
               false,
               false,
               false,
               false,
               false,
               false,
               false,
               false,
               false,
               false,
               false
              ]
             },
             {
              "title": "Y-branch Z-stack Cross-sections<br>Z = 12.3 µm (slice 31/59)"
             }
            ],
            "label": "12.3",
            "method": "update"
           },
           {
            "args": [
             {
              "visible": [
               false,
               false,
               false,
               false,
               false,
               false,
               false,
               false,
               false,
               false,
               false,
               false,
               false,
               false,
               false,
               false,
               false,
               false,
               false,
               false,
               false,
               false,
               false,
               false,
               false,
               false,
               false,
               false,
               false,
               false,
               false,
               true,
               false,
               false,
               false,
               false,
               false,
               false,
               false,
               false,
               false,
               false,
               false,
               false,
               false,
               false,
               false,
               false,
               false,
               false,
               false,
               false,
               false,
               false,
               false,
               false,
               false,
               false,
               false
              ]
             },
             {
              "title": "Y-branch Z-stack Cross-sections<br>Z = 12.8 µm (slice 32/59)"
             }
            ],
            "label": "12.8",
            "method": "update"
           },
           {
            "args": [
             {
              "visible": [
               false,
               false,
               false,
               false,
               false,
               false,
               false,
               false,
               false,
               false,
               false,
               false,
               false,
               false,
               false,
               false,
               false,
               false,
               false,
               false,
               false,
               false,
               false,
               false,
               false,
               false,
               false,
               false,
               false,
               false,
               false,
               false,
               true,
               false,
               false,
               false,
               false,
               false,
               false,
               false,
               false,
               false,
               false,
               false,
               false,
               false,
               false,
               false,
               false,
               false,
               false,
               false,
               false,
               false,
               false,
               false,
               false,
               false,
               false
              ]
             },
             {
              "title": "Y-branch Z-stack Cross-sections<br>Z = 13.3 µm (slice 33/59)"
             }
            ],
            "label": "13.3",
            "method": "update"
           },
           {
            "args": [
             {
              "visible": [
               false,
               false,
               false,
               false,
               false,
               false,
               false,
               false,
               false,
               false,
               false,
               false,
               false,
               false,
               false,
               false,
               false,
               false,
               false,
               false,
               false,
               false,
               false,
               false,
               false,
               false,
               false,
               false,
               false,
               false,
               false,
               false,
               false,
               true,
               false,
               false,
               false,
               false,
               false,
               false,
               false,
               false,
               false,
               false,
               false,
               false,
               false,
               false,
               false,
               false,
               false,
               false,
               false,
               false,
               false,
               false,
               false,
               false,
               false
              ]
             },
             {
              "title": "Y-branch Z-stack Cross-sections<br>Z = 13.8 µm (slice 34/59)"
             }
            ],
            "label": "13.8",
            "method": "update"
           },
           {
            "args": [
             {
              "visible": [
               false,
               false,
               false,
               false,
               false,
               false,
               false,
               false,
               false,
               false,
               false,
               false,
               false,
               false,
               false,
               false,
               false,
               false,
               false,
               false,
               false,
               false,
               false,
               false,
               false,
               false,
               false,
               false,
               false,
               false,
               false,
               false,
               false,
               false,
               true,
               false,
               false,
               false,
               false,
               false,
               false,
               false,
               false,
               false,
               false,
               false,
               false,
               false,
               false,
               false,
               false,
               false,
               false,
               false,
               false,
               false,
               false,
               false,
               false
              ]
             },
             {
              "title": "Y-branch Z-stack Cross-sections<br>Z = 14.3 µm (slice 35/59)"
             }
            ],
            "label": "14.3",
            "method": "update"
           },
           {
            "args": [
             {
              "visible": [
               false,
               false,
               false,
               false,
               false,
               false,
               false,
               false,
               false,
               false,
               false,
               false,
               false,
               false,
               false,
               false,
               false,
               false,
               false,
               false,
               false,
               false,
               false,
               false,
               false,
               false,
               false,
               false,
               false,
               false,
               false,
               false,
               false,
               false,
               false,
               true,
               false,
               false,
               false,
               false,
               false,
               false,
               false,
               false,
               false,
               false,
               false,
               false,
               false,
               false,
               false,
               false,
               false,
               false,
               false,
               false,
               false,
               false,
               false
              ]
             },
             {
              "title": "Y-branch Z-stack Cross-sections<br>Z = 14.8 µm (slice 36/59)"
             }
            ],
            "label": "14.8",
            "method": "update"
           },
           {
            "args": [
             {
              "visible": [
               false,
               false,
               false,
               false,
               false,
               false,
               false,
               false,
               false,
               false,
               false,
               false,
               false,
               false,
               false,
               false,
               false,
               false,
               false,
               false,
               false,
               false,
               false,
               false,
               false,
               false,
               false,
               false,
               false,
               false,
               false,
               false,
               false,
               false,
               false,
               false,
               true,
               false,
               false,
               false,
               false,
               false,
               false,
               false,
               false,
               false,
               false,
               false,
               false,
               false,
               false,
               false,
               false,
               false,
               false,
               false,
               false,
               false,
               false
              ]
             },
             {
              "title": "Y-branch Z-stack Cross-sections<br>Z = 15.3 µm (slice 37/59)"
             }
            ],
            "label": "15.3",
            "method": "update"
           },
           {
            "args": [
             {
              "visible": [
               false,
               false,
               false,
               false,
               false,
               false,
               false,
               false,
               false,
               false,
               false,
               false,
               false,
               false,
               false,
               false,
               false,
               false,
               false,
               false,
               false,
               false,
               false,
               false,
               false,
               false,
               false,
               false,
               false,
               false,
               false,
               false,
               false,
               false,
               false,
               false,
               false,
               true,
               false,
               false,
               false,
               false,
               false,
               false,
               false,
               false,
               false,
               false,
               false,
               false,
               false,
               false,
               false,
               false,
               false,
               false,
               false,
               false,
               false
              ]
             },
             {
              "title": "Y-branch Z-stack Cross-sections<br>Z = 15.8 µm (slice 38/59)"
             }
            ],
            "label": "15.8",
            "method": "update"
           },
           {
            "args": [
             {
              "visible": [
               false,
               false,
               false,
               false,
               false,
               false,
               false,
               false,
               false,
               false,
               false,
               false,
               false,
               false,
               false,
               false,
               false,
               false,
               false,
               false,
               false,
               false,
               false,
               false,
               false,
               false,
               false,
               false,
               false,
               false,
               false,
               false,
               false,
               false,
               false,
               false,
               false,
               false,
               true,
               false,
               false,
               false,
               false,
               false,
               false,
               false,
               false,
               false,
               false,
               false,
               false,
               false,
               false,
               false,
               false,
               false,
               false,
               false,
               false
              ]
             },
             {
              "title": "Y-branch Z-stack Cross-sections<br>Z = 16.3 µm (slice 39/59)"
             }
            ],
            "label": "16.3",
            "method": "update"
           },
           {
            "args": [
             {
              "visible": [
               false,
               false,
               false,
               false,
               false,
               false,
               false,
               false,
               false,
               false,
               false,
               false,
               false,
               false,
               false,
               false,
               false,
               false,
               false,
               false,
               false,
               false,
               false,
               false,
               false,
               false,
               false,
               false,
               false,
               false,
               false,
               false,
               false,
               false,
               false,
               false,
               false,
               false,
               false,
               true,
               false,
               false,
               false,
               false,
               false,
               false,
               false,
               false,
               false,
               false,
               false,
               false,
               false,
               false,
               false,
               false,
               false,
               false,
               false
              ]
             },
             {
              "title": "Y-branch Z-stack Cross-sections<br>Z = 16.8 µm (slice 40/59)"
             }
            ],
            "label": "16.8",
            "method": "update"
           },
           {
            "args": [
             {
              "visible": [
               false,
               false,
               false,
               false,
               false,
               false,
               false,
               false,
               false,
               false,
               false,
               false,
               false,
               false,
               false,
               false,
               false,
               false,
               false,
               false,
               false,
               false,
               false,
               false,
               false,
               false,
               false,
               false,
               false,
               false,
               false,
               false,
               false,
               false,
               false,
               false,
               false,
               false,
               false,
               false,
               true,
               false,
               false,
               false,
               false,
               false,
               false,
               false,
               false,
               false,
               false,
               false,
               false,
               false,
               false,
               false,
               false,
               false,
               false
              ]
             },
             {
              "title": "Y-branch Z-stack Cross-sections<br>Z = 17.3 µm (slice 41/59)"
             }
            ],
            "label": "17.3",
            "method": "update"
           },
           {
            "args": [
             {
              "visible": [
               false,
               false,
               false,
               false,
               false,
               false,
               false,
               false,
               false,
               false,
               false,
               false,
               false,
               false,
               false,
               false,
               false,
               false,
               false,
               false,
               false,
               false,
               false,
               false,
               false,
               false,
               false,
               false,
               false,
               false,
               false,
               false,
               false,
               false,
               false,
               false,
               false,
               false,
               false,
               false,
               false,
               true,
               false,
               false,
               false,
               false,
               false,
               false,
               false,
               false,
               false,
               false,
               false,
               false,
               false,
               false,
               false,
               false,
               false
              ]
             },
             {
              "title": "Y-branch Z-stack Cross-sections<br>Z = 17.8 µm (slice 42/59)"
             }
            ],
            "label": "17.8",
            "method": "update"
           },
           {
            "args": [
             {
              "visible": [
               false,
               false,
               false,
               false,
               false,
               false,
               false,
               false,
               false,
               false,
               false,
               false,
               false,
               false,
               false,
               false,
               false,
               false,
               false,
               false,
               false,
               false,
               false,
               false,
               false,
               false,
               false,
               false,
               false,
               false,
               false,
               false,
               false,
               false,
               false,
               false,
               false,
               false,
               false,
               false,
               false,
               false,
               true,
               false,
               false,
               false,
               false,
               false,
               false,
               false,
               false,
               false,
               false,
               false,
               false,
               false,
               false,
               false,
               false
              ]
             },
             {
              "title": "Y-branch Z-stack Cross-sections<br>Z = 18.4 µm (slice 43/59)"
             }
            ],
            "label": "18.4",
            "method": "update"
           },
           {
            "args": [
             {
              "visible": [
               false,
               false,
               false,
               false,
               false,
               false,
               false,
               false,
               false,
               false,
               false,
               false,
               false,
               false,
               false,
               false,
               false,
               false,
               false,
               false,
               false,
               false,
               false,
               false,
               false,
               false,
               false,
               false,
               false,
               false,
               false,
               false,
               false,
               false,
               false,
               false,
               false,
               false,
               false,
               false,
               false,
               false,
               false,
               true,
               false,
               false,
               false,
               false,
               false,
               false,
               false,
               false,
               false,
               false,
               false,
               false,
               false,
               false,
               false
              ]
             },
             {
              "title": "Y-branch Z-stack Cross-sections<br>Z = 18.9 µm (slice 44/59)"
             }
            ],
            "label": "18.9",
            "method": "update"
           },
           {
            "args": [
             {
              "visible": [
               false,
               false,
               false,
               false,
               false,
               false,
               false,
               false,
               false,
               false,
               false,
               false,
               false,
               false,
               false,
               false,
               false,
               false,
               false,
               false,
               false,
               false,
               false,
               false,
               false,
               false,
               false,
               false,
               false,
               false,
               false,
               false,
               false,
               false,
               false,
               false,
               false,
               false,
               false,
               false,
               false,
               false,
               false,
               false,
               true,
               false,
               false,
               false,
               false,
               false,
               false,
               false,
               false,
               false,
               false,
               false,
               false,
               false,
               false
              ]
             },
             {
              "title": "Y-branch Z-stack Cross-sections<br>Z = 19.4 µm (slice 45/59)"
             }
            ],
            "label": "19.4",
            "method": "update"
           },
           {
            "args": [
             {
              "visible": [
               false,
               false,
               false,
               false,
               false,
               false,
               false,
               false,
               false,
               false,
               false,
               false,
               false,
               false,
               false,
               false,
               false,
               false,
               false,
               false,
               false,
               false,
               false,
               false,
               false,
               false,
               false,
               false,
               false,
               false,
               false,
               false,
               false,
               false,
               false,
               false,
               false,
               false,
               false,
               false,
               false,
               false,
               false,
               false,
               false,
               true,
               false,
               false,
               false,
               false,
               false,
               false,
               false,
               false,
               false,
               false,
               false,
               false,
               false
              ]
             },
             {
              "title": "Y-branch Z-stack Cross-sections<br>Z = 19.9 µm (slice 46/59)"
             }
            ],
            "label": "19.9",
            "method": "update"
           },
           {
            "args": [
             {
              "visible": [
               false,
               false,
               false,
               false,
               false,
               false,
               false,
               false,
               false,
               false,
               false,
               false,
               false,
               false,
               false,
               false,
               false,
               false,
               false,
               false,
               false,
               false,
               false,
               false,
               false,
               false,
               false,
               false,
               false,
               false,
               false,
               false,
               false,
               false,
               false,
               false,
               false,
               false,
               false,
               false,
               false,
               false,
               false,
               false,
               false,
               false,
               true,
               false,
               false,
               false,
               false,
               false,
               false,
               false,
               false,
               false,
               false,
               false,
               false
              ]
             },
             {
              "title": "Y-branch Z-stack Cross-sections<br>Z = 20.4 µm (slice 47/59)"
             }
            ],
            "label": "20.4",
            "method": "update"
           },
           {
            "args": [
             {
              "visible": [
               false,
               false,
               false,
               false,
               false,
               false,
               false,
               false,
               false,
               false,
               false,
               false,
               false,
               false,
               false,
               false,
               false,
               false,
               false,
               false,
               false,
               false,
               false,
               false,
               false,
               false,
               false,
               false,
               false,
               false,
               false,
               false,
               false,
               false,
               false,
               false,
               false,
               false,
               false,
               false,
               false,
               false,
               false,
               false,
               false,
               false,
               false,
               true,
               false,
               false,
               false,
               false,
               false,
               false,
               false,
               false,
               false,
               false,
               false
              ]
             },
             {
              "title": "Y-branch Z-stack Cross-sections<br>Z = 20.9 µm (slice 48/59)"
             }
            ],
            "label": "20.9",
            "method": "update"
           },
           {
            "args": [
             {
              "visible": [
               false,
               false,
               false,
               false,
               false,
               false,
               false,
               false,
               false,
               false,
               false,
               false,
               false,
               false,
               false,
               false,
               false,
               false,
               false,
               false,
               false,
               false,
               false,
               false,
               false,
               false,
               false,
               false,
               false,
               false,
               false,
               false,
               false,
               false,
               false,
               false,
               false,
               false,
               false,
               false,
               false,
               false,
               false,
               false,
               false,
               false,
               false,
               false,
               true,
               false,
               false,
               false,
               false,
               false,
               false,
               false,
               false,
               false,
               false
              ]
             },
             {
              "title": "Y-branch Z-stack Cross-sections<br>Z = 21.4 µm (slice 49/59)"
             }
            ],
            "label": "21.4",
            "method": "update"
           },
           {
            "args": [
             {
              "visible": [
               false,
               false,
               false,
               false,
               false,
               false,
               false,
               false,
               false,
               false,
               false,
               false,
               false,
               false,
               false,
               false,
               false,
               false,
               false,
               false,
               false,
               false,
               false,
               false,
               false,
               false,
               false,
               false,
               false,
               false,
               false,
               false,
               false,
               false,
               false,
               false,
               false,
               false,
               false,
               false,
               false,
               false,
               false,
               false,
               false,
               false,
               false,
               false,
               false,
               true,
               false,
               false,
               false,
               false,
               false,
               false,
               false,
               false,
               false
              ]
             },
             {
              "title": "Y-branch Z-stack Cross-sections<br>Z = 21.9 µm (slice 50/59)"
             }
            ],
            "label": "21.9",
            "method": "update"
           },
           {
            "args": [
             {
              "visible": [
               false,
               false,
               false,
               false,
               false,
               false,
               false,
               false,
               false,
               false,
               false,
               false,
               false,
               false,
               false,
               false,
               false,
               false,
               false,
               false,
               false,
               false,
               false,
               false,
               false,
               false,
               false,
               false,
               false,
               false,
               false,
               false,
               false,
               false,
               false,
               false,
               false,
               false,
               false,
               false,
               false,
               false,
               false,
               false,
               false,
               false,
               false,
               false,
               false,
               false,
               true,
               false,
               false,
               false,
               false,
               false,
               false,
               false,
               false
              ]
             },
             {
              "title": "Y-branch Z-stack Cross-sections<br>Z = 22.4 µm (slice 51/59)"
             }
            ],
            "label": "22.4",
            "method": "update"
           },
           {
            "args": [
             {
              "visible": [
               false,
               false,
               false,
               false,
               false,
               false,
               false,
               false,
               false,
               false,
               false,
               false,
               false,
               false,
               false,
               false,
               false,
               false,
               false,
               false,
               false,
               false,
               false,
               false,
               false,
               false,
               false,
               false,
               false,
               false,
               false,
               false,
               false,
               false,
               false,
               false,
               false,
               false,
               false,
               false,
               false,
               false,
               false,
               false,
               false,
               false,
               false,
               false,
               false,
               false,
               false,
               true,
               false,
               false,
               false,
               false,
               false,
               false,
               false
              ]
             },
             {
              "title": "Y-branch Z-stack Cross-sections<br>Z = 22.9 µm (slice 52/59)"
             }
            ],
            "label": "22.9",
            "method": "update"
           },
           {
            "args": [
             {
              "visible": [
               false,
               false,
               false,
               false,
               false,
               false,
               false,
               false,
               false,
               false,
               false,
               false,
               false,
               false,
               false,
               false,
               false,
               false,
               false,
               false,
               false,
               false,
               false,
               false,
               false,
               false,
               false,
               false,
               false,
               false,
               false,
               false,
               false,
               false,
               false,
               false,
               false,
               false,
               false,
               false,
               false,
               false,
               false,
               false,
               false,
               false,
               false,
               false,
               false,
               false,
               false,
               false,
               true,
               false,
               false,
               false,
               false,
               false,
               false
              ]
             },
             {
              "title": "Y-branch Z-stack Cross-sections<br>Z = 23.4 µm (slice 53/59)"
             }
            ],
            "label": "23.4",
            "method": "update"
           },
           {
            "args": [
             {
              "visible": [
               false,
               false,
               false,
               false,
               false,
               false,
               false,
               false,
               false,
               false,
               false,
               false,
               false,
               false,
               false,
               false,
               false,
               false,
               false,
               false,
               false,
               false,
               false,
               false,
               false,
               false,
               false,
               false,
               false,
               false,
               false,
               false,
               false,
               false,
               false,
               false,
               false,
               false,
               false,
               false,
               false,
               false,
               false,
               false,
               false,
               false,
               false,
               false,
               false,
               false,
               false,
               false,
               false,
               true,
               false,
               false,
               false,
               false,
               false
              ]
             },
             {
              "title": "Y-branch Z-stack Cross-sections<br>Z = 23.9 µm (slice 54/59)"
             }
            ],
            "label": "23.9",
            "method": "update"
           },
           {
            "args": [
             {
              "visible": [
               false,
               false,
               false,
               false,
               false,
               false,
               false,
               false,
               false,
               false,
               false,
               false,
               false,
               false,
               false,
               false,
               false,
               false,
               false,
               false,
               false,
               false,
               false,
               false,
               false,
               false,
               false,
               false,
               false,
               false,
               false,
               false,
               false,
               false,
               false,
               false,
               false,
               false,
               false,
               false,
               false,
               false,
               false,
               false,
               false,
               false,
               false,
               false,
               false,
               false,
               false,
               false,
               false,
               false,
               true,
               false,
               false,
               false,
               false
              ]
             },
             {
              "title": "Y-branch Z-stack Cross-sections<br>Z = 24.5 µm (slice 55/59)"
             }
            ],
            "label": "24.5",
            "method": "update"
           },
           {
            "args": [
             {
              "visible": [
               false,
               false,
               false,
               false,
               false,
               false,
               false,
               false,
               false,
               false,
               false,
               false,
               false,
               false,
               false,
               false,
               false,
               false,
               false,
               false,
               false,
               false,
               false,
               false,
               false,
               false,
               false,
               false,
               false,
               false,
               false,
               false,
               false,
               false,
               false,
               false,
               false,
               false,
               false,
               false,
               false,
               false,
               false,
               false,
               false,
               false,
               false,
               false,
               false,
               false,
               false,
               false,
               false,
               false,
               false,
               true,
               false,
               false,
               false
              ]
             },
             {
              "title": "Y-branch Z-stack Cross-sections<br>Z = 25.0 µm (slice 56/59)"
             }
            ],
            "label": "25.0",
            "method": "update"
           },
           {
            "args": [
             {
              "visible": [
               false,
               false,
               false,
               false,
               false,
               false,
               false,
               false,
               false,
               false,
               false,
               false,
               false,
               false,
               false,
               false,
               false,
               false,
               false,
               false,
               false,
               false,
               false,
               false,
               false,
               false,
               false,
               false,
               false,
               false,
               false,
               false,
               false,
               false,
               false,
               false,
               false,
               false,
               false,
               false,
               false,
               false,
               false,
               false,
               false,
               false,
               false,
               false,
               false,
               false,
               false,
               false,
               false,
               false,
               false,
               false,
               true,
               false,
               false
              ]
             },
             {
              "title": "Y-branch Z-stack Cross-sections<br>Z = 25.5 µm (slice 57/59)"
             }
            ],
            "label": "25.5",
            "method": "update"
           },
           {
            "args": [
             {
              "visible": [
               false,
               false,
               false,
               false,
               false,
               false,
               false,
               false,
               false,
               false,
               false,
               false,
               false,
               false,
               false,
               false,
               false,
               false,
               false,
               false,
               false,
               false,
               false,
               false,
               false,
               false,
               false,
               false,
               false,
               false,
               false,
               false,
               false,
               false,
               false,
               false,
               false,
               false,
               false,
               false,
               false,
               false,
               false,
               false,
               false,
               false,
               false,
               false,
               false,
               false,
               false,
               false,
               false,
               false,
               false,
               false,
               false,
               true,
               false
              ]
             },
             {
              "title": "Y-branch Z-stack Cross-sections<br>Z = 26.0 µm (slice 58/59)"
             }
            ],
            "label": "26.0",
            "method": "update"
           },
           {
            "args": [
             {
              "visible": [
               false,
               false,
               false,
               false,
               false,
               false,
               false,
               false,
               false,
               false,
               false,
               false,
               false,
               false,
               false,
               false,
               false,
               false,
               false,
               false,
               false,
               false,
               false,
               false,
               false,
               false,
               false,
               false,
               false,
               false,
               false,
               false,
               false,
               false,
               false,
               false,
               false,
               false,
               false,
               false,
               false,
               false,
               false,
               false,
               false,
               false,
               false,
               false,
               false,
               false,
               false,
               false,
               false,
               false,
               false,
               false,
               false,
               false,
               true
              ]
             },
             {
              "title": "Y-branch Z-stack Cross-sections<br>Z = 26.5 µm (slice 59/59)"
             }
            ],
            "label": "26.5",
            "method": "update"
           }
          ],
          "x": 0.05
         }
        ],
        "template": {
         "data": {
          "bar": [
           {
            "error_x": {
             "color": "#2a3f5f"
            },
            "error_y": {
             "color": "#2a3f5f"
            },
            "marker": {
             "line": {
              "color": "#E5ECF6",
              "width": 0.5
             },
             "pattern": {
              "fillmode": "overlay",
              "size": 10,
              "solidity": 0.2
             }
            },
            "type": "bar"
           }
          ],
          "barpolar": [
           {
            "marker": {
             "line": {
              "color": "#E5ECF6",
              "width": 0.5
             },
             "pattern": {
              "fillmode": "overlay",
              "size": 10,
              "solidity": 0.2
             }
            },
            "type": "barpolar"
           }
          ],
          "carpet": [
           {
            "aaxis": {
             "endlinecolor": "#2a3f5f",
             "gridcolor": "white",
             "linecolor": "white",
             "minorgridcolor": "white",
             "startlinecolor": "#2a3f5f"
            },
            "baxis": {
             "endlinecolor": "#2a3f5f",
             "gridcolor": "white",
             "linecolor": "white",
             "minorgridcolor": "white",
             "startlinecolor": "#2a3f5f"
            },
            "type": "carpet"
           }
          ],
          "choropleth": [
           {
            "colorbar": {
             "outlinewidth": 0,
             "ticks": ""
            },
            "type": "choropleth"
           }
          ],
          "contour": [
           {
            "colorbar": {
             "outlinewidth": 0,
             "ticks": ""
            },
            "colorscale": [
             [
              0,
              "#0d0887"
             ],
             [
              0.1111111111111111,
              "#46039f"
             ],
             [
              0.2222222222222222,
              "#7201a8"
             ],
             [
              0.3333333333333333,
              "#9c179e"
             ],
             [
              0.4444444444444444,
              "#bd3786"
             ],
             [
              0.5555555555555556,
              "#d8576b"
             ],
             [
              0.6666666666666666,
              "#ed7953"
             ],
             [
              0.7777777777777778,
              "#fb9f3a"
             ],
             [
              0.8888888888888888,
              "#fdca26"
             ],
             [
              1,
              "#f0f921"
             ]
            ],
            "type": "contour"
           }
          ],
          "contourcarpet": [
           {
            "colorbar": {
             "outlinewidth": 0,
             "ticks": ""
            },
            "type": "contourcarpet"
           }
          ],
          "heatmap": [
           {
            "colorbar": {
             "outlinewidth": 0,
             "ticks": ""
            },
            "colorscale": [
             [
              0,
              "#0d0887"
             ],
             [
              0.1111111111111111,
              "#46039f"
             ],
             [
              0.2222222222222222,
              "#7201a8"
             ],
             [
              0.3333333333333333,
              "#9c179e"
             ],
             [
              0.4444444444444444,
              "#bd3786"
             ],
             [
              0.5555555555555556,
              "#d8576b"
             ],
             [
              0.6666666666666666,
              "#ed7953"
             ],
             [
              0.7777777777777778,
              "#fb9f3a"
             ],
             [
              0.8888888888888888,
              "#fdca26"
             ],
             [
              1,
              "#f0f921"
             ]
            ],
            "type": "heatmap"
           }
          ],
          "histogram": [
           {
            "marker": {
             "pattern": {
              "fillmode": "overlay",
              "size": 10,
              "solidity": 0.2
             }
            },
            "type": "histogram"
           }
          ],
          "histogram2d": [
           {
            "colorbar": {
             "outlinewidth": 0,
             "ticks": ""
            },
            "colorscale": [
             [
              0,
              "#0d0887"
             ],
             [
              0.1111111111111111,
              "#46039f"
             ],
             [
              0.2222222222222222,
              "#7201a8"
             ],
             [
              0.3333333333333333,
              "#9c179e"
             ],
             [
              0.4444444444444444,
              "#bd3786"
             ],
             [
              0.5555555555555556,
              "#d8576b"
             ],
             [
              0.6666666666666666,
              "#ed7953"
             ],
             [
              0.7777777777777778,
              "#fb9f3a"
             ],
             [
              0.8888888888888888,
              "#fdca26"
             ],
             [
              1,
              "#f0f921"
             ]
            ],
            "type": "histogram2d"
           }
          ],
          "histogram2dcontour": [
           {
            "colorbar": {
             "outlinewidth": 0,
             "ticks": ""
            },
            "colorscale": [
             [
              0,
              "#0d0887"
             ],
             [
              0.1111111111111111,
              "#46039f"
             ],
             [
              0.2222222222222222,
              "#7201a8"
             ],
             [
              0.3333333333333333,
              "#9c179e"
             ],
             [
              0.4444444444444444,
              "#bd3786"
             ],
             [
              0.5555555555555556,
              "#d8576b"
             ],
             [
              0.6666666666666666,
              "#ed7953"
             ],
             [
              0.7777777777777778,
              "#fb9f3a"
             ],
             [
              0.8888888888888888,
              "#fdca26"
             ],
             [
              1,
              "#f0f921"
             ]
            ],
            "type": "histogram2dcontour"
           }
          ],
          "mesh3d": [
           {
            "colorbar": {
             "outlinewidth": 0,
             "ticks": ""
            },
            "type": "mesh3d"
           }
          ],
          "parcoords": [
           {
            "line": {
             "colorbar": {
              "outlinewidth": 0,
              "ticks": ""
             }
            },
            "type": "parcoords"
           }
          ],
          "pie": [
           {
            "automargin": true,
            "type": "pie"
           }
          ],
          "scatter": [
           {
            "fillpattern": {
             "fillmode": "overlay",
             "size": 10,
             "solidity": 0.2
            },
            "type": "scatter"
           }
          ],
          "scatter3d": [
           {
            "line": {
             "colorbar": {
              "outlinewidth": 0,
              "ticks": ""
             }
            },
            "marker": {
             "colorbar": {
              "outlinewidth": 0,
              "ticks": ""
             }
            },
            "type": "scatter3d"
           }
          ],
          "scattercarpet": [
           {
            "marker": {
             "colorbar": {
              "outlinewidth": 0,
              "ticks": ""
             }
            },
            "type": "scattercarpet"
           }
          ],
          "scattergeo": [
           {
            "marker": {
             "colorbar": {
              "outlinewidth": 0,
              "ticks": ""
             }
            },
            "type": "scattergeo"
           }
          ],
          "scattergl": [
           {
            "marker": {
             "colorbar": {
              "outlinewidth": 0,
              "ticks": ""
             }
            },
            "type": "scattergl"
           }
          ],
          "scattermap": [
           {
            "marker": {
             "colorbar": {
              "outlinewidth": 0,
              "ticks": ""
             }
            },
            "type": "scattermap"
           }
          ],
          "scattermapbox": [
           {
            "marker": {
             "colorbar": {
              "outlinewidth": 0,
              "ticks": ""
             }
            },
            "type": "scattermapbox"
           }
          ],
          "scatterpolar": [
           {
            "marker": {
             "colorbar": {
              "outlinewidth": 0,
              "ticks": ""
             }
            },
            "type": "scatterpolar"
           }
          ],
          "scatterpolargl": [
           {
            "marker": {
             "colorbar": {
              "outlinewidth": 0,
              "ticks": ""
             }
            },
            "type": "scatterpolargl"
           }
          ],
          "scatterternary": [
           {
            "marker": {
             "colorbar": {
              "outlinewidth": 0,
              "ticks": ""
             }
            },
            "type": "scatterternary"
           }
          ],
          "surface": [
           {
            "colorbar": {
             "outlinewidth": 0,
             "ticks": ""
            },
            "colorscale": [
             [
              0,
              "#0d0887"
             ],
             [
              0.1111111111111111,
              "#46039f"
             ],
             [
              0.2222222222222222,
              "#7201a8"
             ],
             [
              0.3333333333333333,
              "#9c179e"
             ],
             [
              0.4444444444444444,
              "#bd3786"
             ],
             [
              0.5555555555555556,
              "#d8576b"
             ],
             [
              0.6666666666666666,
              "#ed7953"
             ],
             [
              0.7777777777777778,
              "#fb9f3a"
             ],
             [
              0.8888888888888888,
              "#fdca26"
             ],
             [
              1,
              "#f0f921"
             ]
            ],
            "type": "surface"
           }
          ],
          "table": [
           {
            "cells": {
             "fill": {
              "color": "#EBF0F8"
             },
             "line": {
              "color": "white"
             }
            },
            "header": {
             "fill": {
              "color": "#C8D4E3"
             },
             "line": {
              "color": "white"
             }
            },
            "type": "table"
           }
          ]
         },
         "layout": {
          "annotationdefaults": {
           "arrowcolor": "#2a3f5f",
           "arrowhead": 0,
           "arrowwidth": 1
          },
          "autotypenumbers": "strict",
          "coloraxis": {
           "colorbar": {
            "outlinewidth": 0,
            "ticks": ""
           }
          },
          "colorscale": {
           "diverging": [
            [
             0,
             "#8e0152"
            ],
            [
             0.1,
             "#c51b7d"
            ],
            [
             0.2,
             "#de77ae"
            ],
            [
             0.3,
             "#f1b6da"
            ],
            [
             0.4,
             "#fde0ef"
            ],
            [
             0.5,
             "#f7f7f7"
            ],
            [
             0.6,
             "#e6f5d0"
            ],
            [
             0.7,
             "#b8e186"
            ],
            [
             0.8,
             "#7fbc41"
            ],
            [
             0.9,
             "#4d9221"
            ],
            [
             1,
             "#276419"
            ]
           ],
           "sequential": [
            [
             0,
             "#0d0887"
            ],
            [
             0.1111111111111111,
             "#46039f"
            ],
            [
             0.2222222222222222,
             "#7201a8"
            ],
            [
             0.3333333333333333,
             "#9c179e"
            ],
            [
             0.4444444444444444,
             "#bd3786"
            ],
            [
             0.5555555555555556,
             "#d8576b"
            ],
            [
             0.6666666666666666,
             "#ed7953"
            ],
            [
             0.7777777777777778,
             "#fb9f3a"
            ],
            [
             0.8888888888888888,
             "#fdca26"
            ],
            [
             1,
             "#f0f921"
            ]
           ],
           "sequentialminus": [
            [
             0,
             "#0d0887"
            ],
            [
             0.1111111111111111,
             "#46039f"
            ],
            [
             0.2222222222222222,
             "#7201a8"
            ],
            [
             0.3333333333333333,
             "#9c179e"
            ],
            [
             0.4444444444444444,
             "#bd3786"
            ],
            [
             0.5555555555555556,
             "#d8576b"
            ],
            [
             0.6666666666666666,
             "#ed7953"
            ],
            [
             0.7777777777777778,
             "#fb9f3a"
            ],
            [
             0.8888888888888888,
             "#fdca26"
            ],
            [
             1,
             "#f0f921"
            ]
           ]
          },
          "colorway": [
           "#636efa",
           "#EF553B",
           "#00cc96",
           "#ab63fa",
           "#FFA15A",
           "#19d3f3",
           "#FF6692",
           "#B6E880",
           "#FF97FF",
           "#FECB52"
          ],
          "font": {
           "color": "#2a3f5f"
          },
          "geo": {
           "bgcolor": "white",
           "lakecolor": "white",
           "landcolor": "#E5ECF6",
           "showlakes": true,
           "showland": true,
           "subunitcolor": "white"
          },
          "hoverlabel": {
           "align": "left"
          },
          "hovermode": "closest",
          "mapbox": {
           "style": "light"
          },
          "paper_bgcolor": "white",
          "plot_bgcolor": "#E5ECF6",
          "polar": {
           "angularaxis": {
            "gridcolor": "white",
            "linecolor": "white",
            "ticks": ""
           },
           "bgcolor": "#E5ECF6",
           "radialaxis": {
            "gridcolor": "white",
            "linecolor": "white",
            "ticks": ""
           }
          },
          "scene": {
           "xaxis": {
            "backgroundcolor": "#E5ECF6",
            "gridcolor": "white",
            "gridwidth": 2,
            "linecolor": "white",
            "showbackground": true,
            "ticks": "",
            "zerolinecolor": "white"
           },
           "yaxis": {
            "backgroundcolor": "#E5ECF6",
            "gridcolor": "white",
            "gridwidth": 2,
            "linecolor": "white",
            "showbackground": true,
            "ticks": "",
            "zerolinecolor": "white"
           },
           "zaxis": {
            "backgroundcolor": "#E5ECF6",
            "gridcolor": "white",
            "gridwidth": 2,
            "linecolor": "white",
            "showbackground": true,
            "ticks": "",
            "zerolinecolor": "white"
           }
          },
          "shapedefaults": {
           "line": {
            "color": "#2a3f5f"
           }
          },
          "ternary": {
           "aaxis": {
            "gridcolor": "white",
            "linecolor": "white",
            "ticks": ""
           },
           "baxis": {
            "gridcolor": "white",
            "linecolor": "white",
            "ticks": ""
           },
           "bgcolor": "#E5ECF6",
           "caxis": {
            "gridcolor": "white",
            "linecolor": "white",
            "ticks": ""
           }
          },
          "title": {
           "x": 0.05
          },
          "xaxis": {
           "automargin": true,
           "gridcolor": "white",
           "linecolor": "white",
           "ticks": "",
           "title": {
            "standoff": 15
           },
           "zerolinecolor": "white",
           "zerolinewidth": 2
          },
          "yaxis": {
           "automargin": true,
           "gridcolor": "white",
           "linecolor": "white",
           "ticks": "",
           "title": {
            "standoff": 15
           },
           "zerolinecolor": "white",
           "zerolinewidth": 2
          }
         }
        },
        "title": {
         "text": "Y-branch Z-stack Cross-sections<br>Z = 11.7 µm (slice 30/59)"
        },
        "width": 700,
        "xaxis": {
         "scaleanchor": "y",
         "scaleratio": 1,
         "title": {
          "text": "X (µm)"
         }
        },
        "yaxis": {
         "autorange": "reversed",
         "title": {
          "text": "Y (µm)"
         }
        }
       }
      }
     },
     "metadata": {},
     "output_type": "display_data"
    },
    {
     "name": "stdout",
     "output_type": "stream",
     "text": [
      "✓ Interactive slice viewer created!\n",
      "💡 Use the slider to navigate through different z-levels and examine cross-sections\n",
      "🎯 Cross-sectional analysis complete!\n"
     ]
    }
   ],
   "source": [
    "# Create interactive slice viewer for cross-sectional analysis\n",
    "print(\"🎨 Creating interactive slice viewer...\")\n",
    "fig_slices = visualize_zstack_slices(\n",
    "    z_stack, \n",
    "    metadata=metadata,\n",
    "    title=\"Branching Z-stack Cross-sections\",\n",
    "    backend='plotly',\n",
    ")\n",
    "\n",
    "# Display the interactive viewer\n",
    "fig_slices.show()\n",
    "\n",
    "print(\"✓ Interactive slice viewer created!\")\n",
    "print(\"💡 Use the slider to navigate through different z-levels and examine cross-sections\")\n",
    "print(\"🎯 Cross-sectional analysis complete!\")"
   ]
  },
  {
   "cell_type": "markdown",
   "id": "0acb67f2",
   "metadata": {},
   "source": [
    "## 7. Z-stack Data Management\n",
    "\n",
    "Let's save and load the Y-branch z-stack data with comprehensive metadata."
   ]
  },
  {
   "cell_type": "code",
   "execution_count": 7,
   "id": "09b67afc",
   "metadata": {},
   "outputs": [
    {
     "name": "stdout",
     "output_type": "stream",
     "text": [
      "💾 Y-branch z-stack file I/O operations...\n",
      "\n",
      "✓ Saved Y-branch z-stack to 'data/z_stack/branching.npz'\n",
      "✓ Loaded z-stack: (59, 28, 62) voxels\n",
      "\n",
      "🔍 Data integrity check: ✓ PASSED\n",
      "\n",
      "📋 Saved metadata:\n",
      "   • morphology_type: y_branch\n",
      "   • z_resolution: 0.5\n",
      "   • xy_resolution: 0.5\n",
      "   • x_coords: [-15.48528137 -14.97756723 -14.46985309 -13.96213894 -13.4544248\n",
      " -12.94671066 -12.43899651 -11.93128237 -11.42356823 -10.91585408\n",
      " -10.40813994  -9.9004258   -9.39271165  -8.88499751  -8.37728337\n",
      "  -7.86956922  -7.36185508  -6.85414094  -6.34642679  -5.83871265\n",
      "  -5.33099851  -4.82328436  -4.31557022  -3.80785608  -3.30014193\n",
      "  -2.79242779  -2.28471365  -1.7769995   -1.26928536  -0.76157122\n",
      "  -0.25385707   0.25385707   0.76157122   1.26928536   1.7769995\n",
      "   2.28471365   2.79242779   3.30014193   3.80785608   4.31557022\n",
      "   4.82328436   5.33099851   5.83871265   6.34642679   6.85414094\n",
      "   7.36185508   7.86956922   8.37728337   8.88499751   9.39271165\n",
      "   9.9004258   10.40813994  10.91585408  11.42356823  11.93128237\n",
      "  12.43899651  12.94671066  13.4544248   13.96213894  14.46985309\n",
      "  14.97756723  15.48528137]\n",
      "   • y_coords: [-7.         -6.48148148 -5.96296296 -5.44444444 -4.92592593 -4.40740741\n",
      " -3.88888889 -3.37037037 -2.85185185 -2.33333333 -1.81481481 -1.2962963\n",
      " -0.77777778 -0.25925926  0.25925926  0.77777778  1.2962963   1.81481481\n",
      "  2.33333333  2.85185185  3.37037037  3.88888889  4.40740741  4.92592593\n",
      "  5.44444444  5.96296296  6.48148148  7.        ]\n",
      "   • z_coords: [-3.         -2.49163308 -1.98326616 -1.47489924 -0.96653232 -0.4581654\n",
      "  0.05020152  0.55856844  1.06693536  1.57530228  2.0836692   2.59203612\n",
      "  3.10040304  3.60876996  4.11713688  4.6255038   5.13387072  5.64223764\n",
      "  6.15060456  6.65897148  7.1673384   7.67570533  8.18407225  8.69243917\n",
      "  9.20080609  9.70917301 10.21753993 10.72590685 11.23427377 11.74264069\n",
      " 12.25100761 12.75937453 13.26774145 13.77610837 14.28447529 14.79284221\n",
      " 15.30120913 15.80957605 16.31794297 16.82630989 17.33467681 17.84304373\n",
      " 18.35141065 18.85977757 19.36814449 19.87651141 20.38487833 20.89324525\n",
      " 21.40161217 21.90997909 22.41834601 22.92671293 23.43507985 23.94344677\n",
      " 24.45181369 24.96018061 25.46854753 25.97691445 26.48528137]\n",
      "   • bounds: {'x_range': (np.float64(-15.48528137423857), np.float64(15.48528137423857)), 'y_range': (-7.0, 7.0), 'z_range': (-3.0, np.float64(26.48528137423857))}\n",
      "   • shape: (59, 28, 62)\n",
      "   • y_params: {'trunk_length': 15, 'trunk_radius': 4, 'branch_length': 12, 'branch_radius': 3, 'branch_angle': 45}\n",
      "   • total_voxels: 102424\n",
      "   • neuron_voxels: 9052\n",
      "   • volume_um3: 1131.5\n",
      "   • geometry: dendritic_bifurcation\n",
      "   • branching_pattern: symmetric_y\n",
      "   • branch_angle_degrees: 45\n",
      "   • tutorial: 01b_y_branch_zstack\n",
      "   • created_with: GenCoMo v0.1.0\n",
      "\n",
      "🎯 File I/O operations complete!\n"
     ]
    }
   ],
   "source": [
    "# Save and load Y-branch z-stack data\n",
    "print(\"💾 Y-branch z-stack file I/O operations...\")\n",
    "print()\n",
    "\n",
    "# Enhanced metadata for Y-branch\n",
    "enhanced_metadata = {\n",
    "    **metadata,\n",
    "    'morphology_type': 'y_branch',\n",
    "    'geometry': 'dendritic_bifurcation',\n",
    "    'branching_pattern': 'symmetric_y',\n",
    "    'branch_angle_degrees': shape_params['branch_angle'],\n",
    "    'tutorial': '01b_y_branch_zstack',\n",
    "    'created_with': 'GenCoMo v0.1.0'\n",
    "}\n",
    "\n",
    "# Save to compressed .npz format\n",
    "filepath = z_stack_path / 'branching.npz'\n",
    "save_zstack_data(z_stack, metadata=enhanced_metadata, filepath=filepath)\n",
    "print(f\"✓ Saved Y-branch z-stack to '{filepath}'\")\n",
    "\n",
    "# Load z-stack data back\n",
    "loaded_zstack, loaded_meta = load_zstack_data(filepath)\n",
    "print(f\"✓ Loaded z-stack: {loaded_zstack.shape} voxels\")\n",
    "print()\n",
    "\n",
    "# Verify data integrity\n",
    "data_matches = np.array_equal(z_stack, loaded_zstack)\n",
    "print(f\"🔍 Data integrity check: {'✓ PASSED' if data_matches else '✗ FAILED'}\")\n",
    "\n",
    "print(\"\\n📋 Saved metadata:\")\n",
    "for key, value in loaded_meta.items():\n",
    "    print(f\"   • {key}: {value}\")\n",
    "print()\n",
    "print(\"🎯 File I/O operations complete!\")"
   ]
  },
  {
   "cell_type": "markdown",
   "id": "d5190671",
   "metadata": {},
   "source": [
    "## 8. Branch Angle Exploration\n",
    "\n",
    "Let's create Y-branches with different angles to understand morphological diversity."
   ]
  },
  {
   "cell_type": "code",
   "execution_count": null,
   "id": "12528c06",
   "metadata": {},
   "outputs": [
    {
     "name": "stdout",
     "output_type": "stream",
     "text": [
      "📐 Exploring Y-branch morphologies with different angles...\n",
      "\n",
      "Creating Y-branch with 30° angle...\n",
      "   ✓ Volume: 1232.0 μm³\n",
      "   ✓ Shape: (63, 28, 52)\n",
      "\n",
      "Creating Y-branch with 45° angle...\n",
      "   ✓ Volume: 1131.5 μm³\n",
      "   ✓ Shape: (59, 28, 62)\n",
      "\n",
      "Creating Y-branch with 60° angle...\n",
      "   ✓ Volume: 1047.0 μm³\n",
      "   ✓ Shape: (54, 28, 70)\n",
      "\n",
      "Creating Y-branch with 75° angle...\n",
      "   ✓ Volume: 896.0 μm³\n",
      "   ✓ Shape: (49, 28, 75)\n",
      "\n",
      "📊 Branch Angle Comparison:\n",
      "==================================================\n",
      "Angle (°) Volume (μm³)  Surface (μm²)   X-span   Y-span\n",
      "--------------------------------------------------\n",
      "      30       1232.0          690.0     26.0     14.0\n",
      "      45       1131.5          643.0     31.0     14.0\n",
      "      60       1047.0          636.0     35.0     14.0\n",
      "      75        896.0          622.0     37.5     14.0\n",
      "\n",
      "🎯 Branch angle affects spatial extent and surface area!\n"
     ]
    }
   ],
   "source": [
    "# Explore different branch angles\n",
    "print(\"📐 Exploring Y-branch morphologies with different angles...\")\n",
    "print()\n",
    "\n",
    "# Test different branch angles\n",
    "angles = [30, 45, 60, 75]\n",
    "angle_results = []\n",
    "\n",
    "for angle in angles:\n",
    "    print(f\"Creating Y-branch with {angle}° angle...\")\n",
    "    \n",
    "    # Create Y-branch with specific angle\n",
    "    test_params = shape_params.copy()\n",
    "    test_params['branch_angle'] = angle\n",
    "    \n",
    "    test_zstack, test_meta = create_branching_zstack(**test_params)\n",
    "    test_props = analyze_zstack_properties(test_zstack, test_meta)\n",
    "    \n",
    "    result = {\n",
    "        'angle': angle,\n",
    "        'volume': test_props['volume'],\n",
    "        'surface_area': test_props['surface_area'],\n",
    "        'bounding_box': test_props['bounding_box'],\n",
    "        'shape': test_zstack.shape\n",
    "    }\n",
    "    angle_results.append(result)\n",
    "    \n",
    "    print(f\"   ✓ Volume: {result['volume']:.1f} μm³\")\n",
    "    print(f\"   ✓ Shape: {result['shape']}\")\n",
    "    print()\n",
    "\n",
    "# Summary of angle effects\n",
    "print(\"📊 Branch Angle Comparison:\")\n",
    "print(\"=\" * 50)\n",
    "print(f\"{'Angle (°)':>8} {'Volume (μm³)':>12} {'Surface (μm²)':>14} {'X-span':>8} {'Y-span':>8}\")\n",
    "print(\"-\" * 50)\n",
    "for result in angle_results:\n",
    "    bbox = result['bounding_box']\n",
    "    x_span = bbox[1] - bbox[0]\n",
    "    y_span = bbox[3] - bbox[2]\n",
    "    print(f\"{result['angle']:>8} {result['volume']:>12.1f} {result['surface_area']:>14.1f} {x_span:>8.1f} {y_span:>8.1f}\")\n",
    "\n",
    "print()\n",
    "print(\"🎯 Branch angle affects spatial extent and surface area!\")"
   ]
  },
  {
   "cell_type": "markdown",
   "id": "974a3fd3",
   "metadata": {},
   "source": [
    "## 9. Summary and Next Steps\n",
    "\n",
    "You've successfully created, analyzed, and explored Y-branch z-stack morphologies with GenCoMo!"
   ]
  },
  {
   "cell_type": "code",
   "execution_count": 9,
   "id": "f3a68fe0",
   "metadata": {},
   "outputs": [
    {
     "name": "stdout",
     "output_type": "stream",
     "text": [
      "🌿 Y-Branch Z-stack Tutorial Complete!\n",
      "==================================================\n",
      "\n",
      "✅ What we accomplished:\n",
      "   1. Created Y-branch z-stack morphology\n",
      "   2. Visualized 3D branching structure\n",
      "   3. Analyzed morphometric properties\n",
      "   4. Examined branching transitions\n",
      "   5. Explored cross-sectional changes\n",
      "   6. Compared different branch angles\n",
      "   7. Managed z-stack data with metadata\n",
      "\n",
      "🧠 Key insights about Y-branch morphologies:\n",
      "   • Branching creates complex 3D topology\n",
      "   • Branch angles affect spatial extent\n",
      "   • Cross-sections reveal structural transitions\n",
      "   • Foundation for dendritic tree modeling\n",
      "\n",
      "🔬 Applications for Y-branches:\n",
      "   • Dendritic bifurcation modeling\n",
      "   • Synaptic integration studies\n",
      "   • Signal propagation analysis\n",
      "   • Morphological classification\n",
      "\n",
      "🚀 Next steps:\n",
      "   • Explore complex topology: '01c_hole_topology_zstack.ipynb'\n",
      "   • Build compartmental models from branching morphologies\n",
      "   • Study electrical signal propagation through branches\n",
      "   • Create more complex dendritic trees\n",
      "\n",
      "📖 Ready to explore even more complex morphologies with GenCoMo!\n"
     ]
    }
   ],
   "source": [
    "# Y-branch z-stack tutorial summary\n",
    "print(\"🌿 Y-Branch Z-stack Tutorial Complete!\")\n",
    "print(\"=\" * 50)\n",
    "print()\n",
    "print(\"✅ What we accomplished:\")\n",
    "print(\"   1. Created Y-branch z-stack morphology\")\n",
    "print(\"   2. Visualized 3D branching structure\")\n",
    "print(\"   3. Analyzed morphometric properties\")\n",
    "print(\"   4. Examined branching transitions\")\n",
    "print(\"   5. Explored cross-sectional changes\")\n",
    "print(\"   6. Compared different branch angles\")\n",
    "print(\"   7. Managed z-stack data with metadata\")\n",
    "print()\n",
    "print(\"🧠 Key insights about Y-branch morphologies:\")\n",
    "print(\"   • Branching creates complex 3D topology\")\n",
    "print(\"   • Branch angles affect spatial extent\")\n",
    "print(\"   • Cross-sections reveal structural transitions\")\n",
    "print(\"   • Foundation for dendritic tree modeling\")\n",
    "print()\n",
    "print(\"🔬 Applications for Y-branches:\")\n",
    "print(\"   • Dendritic bifurcation modeling\")\n",
    "print(\"   • Synaptic integration studies\")\n",
    "print(\"   • Signal propagation analysis\")\n",
    "print(\"   • Morphological classification\")\n",
    "print()\n",
    "print(\"🚀 Next steps:\")\n",
    "print(\"   • Explore complex topology: '01c_hole_topology_zstack.ipynb'\")\n",
    "print(\"   • Build compartmental models from branching morphologies\")\n",
    "print(\"   • Study electrical signal propagation through branches\")\n",
    "print(\"   • Create more complex dendritic trees\")\n",
    "print()\n",
    "print(\"📖 Ready to explore even more complex morphologies with GenCoMo!\")"
   ]
  },
  {
   "cell_type": "markdown",
   "id": "66db4d2a",
   "metadata": {},
   "source": [
    "---\n",
    "\n",
    "**🎉 Congratulations!** You've mastered Y-branch z-stack morphologies in GenCoMo.\n",
    "\n",
    "**Key takeaways:**\n",
    "- Y-branches represent fundamental dendritic bifurcations\n",
    "- Branch angles create morphological diversity\n",
    "- Cross-sectional analysis reveals structural transitions\n",
    "- Branching topology affects electrical properties\n",
    "- Z-stack format captures complex 3D branching accurately\n",
    "\n",
    "**Ready for the ultimate challenge?** Continue with hole topology morphologies!\n",
    "\n",
    "---"
   ]
  }
 ],
 "metadata": {
  "kernelspec": {
   "display_name": "gencomo",
   "language": "python",
   "name": "python3"
  },
  "language_info": {
   "codemirror_mode": {
    "name": "ipython",
    "version": 3
   },
   "file_extension": ".py",
   "mimetype": "text/x-python",
   "name": "python",
   "nbconvert_exporter": "python",
   "pygments_lexer": "ipython3",
   "version": "3.12.8"
  }
 },
 "nbformat": 4,
 "nbformat_minor": 5
}
