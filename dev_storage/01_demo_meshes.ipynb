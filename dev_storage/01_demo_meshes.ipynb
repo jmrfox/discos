{
 "cells": [
  {
   "cell_type": "markdown",
   "id": "632aefe8",
   "metadata": {},
   "source": [
    "# GenCoMo Tutorial: Creating and Visualizing Demo Meshes\n",
    "\n",
    "This tutorial shows how to create simple neuronal mesh geometries using GenCoMo's demo functions and visualize them in 3D.\n",
    "\n",
    "## Overview\n",
    "\n",
    "We'll create four types of meshes:\n",
    "1. **Cylinder** - A simple straight neuronal process\n",
    "2. **Torus** - A ring-shaped structure\n",
    "3. **Y-Branch** - A branching dendrite or axon\n",
    "4. **Complete Neuron** - A simplified neuron with soma, dendrites, and axon"
   ]
  },
  {
   "cell_type": "markdown",
   "id": "de4ddf07",
   "metadata": {},
   "source": [
    "## Setup\n",
    "\n",
    "First, let's import the necessary libraries:"
   ]
  },
  {
   "cell_type": "code",
   "execution_count": 1,
   "id": "07ee08de",
   "metadata": {},
   "outputs": [
    {
     "name": "stdout",
     "output_type": "stream",
     "text": [
      "Jupyter environment detected. Enabling Open3D WebVisualizer.\n",
      "[Open3D INFO] WebRTC GUI backend enabled.\n",
      "[Open3D INFO] WebRTCWindowSystem: HTTP handshake server disabled.\n",
      "✅ Libraries imported successfully!\n",
      "✅ Libraries imported successfully!\n"
     ]
    }
   ],
   "source": [
    "import numpy as np\n",
    "import trimesh\n",
    "import plotly.graph_objects as go\n",
    "\n",
    "# Import GenCoMo functions\n",
    "from gencomo.demos import create_cylinder_mesh, create_torus_mesh, create_branching_mesh, create_demo_neuron_mesh\n",
    "from gencomo.mesh import (\n",
    "    visualize_mesh_3d, \n",
    "    analyze_mesh_properties, \n",
    "    visualize_mesh_slice_interactive,\n",
    "    visualize_mesh_slice_grid\n",
    ")\n",
    "\n",
    "print(\"✅ Libraries imported successfully!\")"
   ]
  },
  {
   "cell_type": "markdown",
   "id": "c386a7df",
   "metadata": {},
   "source": [
    "## 1. Creating a Simple Cylinder Mesh\n",
    "\n",
    "Let's start with the simplest geometry - a cylinder representing a neuronal process like an axon or dendrite:"
   ]
  },
  {
   "cell_type": "code",
   "execution_count": 2,
   "id": "8188b584",
   "metadata": {},
   "outputs": [
    {
     "name": "stdout",
     "output_type": "stream",
     "text": [
      "Created cylinder with 34 vertices and 64 faces\n",
      "Volume: 7653.67 μm³\n",
      "Surface area: 3274.52 μm²\n"
     ]
    }
   ],
   "source": [
    "# Create a cylinder mesh\n",
    "cylinder = create_cylinder_mesh(\n",
    "    length=100.0,    # 100 micrometers long\n",
    "    radius=5.0,      # 5 micrometers radius\n",
    "    resolution=16,   # 16 sides for smooth appearance\n",
    "    axis='z'         # oriented along z-axis\n",
    ")\n",
    "\n",
    "print(f\"Created cylinder with {len(cylinder.vertices)} vertices and {len(cylinder.faces)} faces\")\n",
    "print(f\"Volume: {cylinder.volume:.2f} μm³\")\n",
    "print(f\"Surface area: {cylinder.area:.2f} μm²\")"
   ]
  },
  {
   "cell_type": "code",
   "execution_count": 3,
   "id": "b5d3ca0f",
   "metadata": {},
   "outputs": [
    {
     "data": {
      "application/vnd.plotly.v1+json": {
       "config": {
        "plotlyServerURL": "https://plot.ly"
       },
       "data": [
        {
         "color": "lightblue",
         "i": {
          "bdata": "AQECAgQEBQUGBgcHCAgJCQoKCwsMDA0NDg4PDxAQERESEhMTFBQVFRYWFxcYGBkZGhobGxwcHR0eHh8fICAhIQ==",
          "dtype": "i1"
         },
         "j": {
          "bdata": "AAQEBQAGBgcACAgJAAoKCwAMDA0ADg4PABAQEQASEhMAFBQVABYWFwAYGBkAGhobABwcHQAeHh8AICAhAAEBAg==",
          "dtype": "i1"
         },
         "k": {
          "bdata": "BAIFAwYFBwMIBwkDCgkLAwwLDQMODQ8DEA8RAxIREwMUExUDFhUXAxgXGQMaGRsDHBsdAx4dHwMgHyEDASECAw==",
          "dtype": "i1"
         },
         "name": "Mesh",
         "opacity": 0.8,
         "type": "mesh3d",
         "x": {
          "bdata": "AAAAAAAAAAAAAAAAAAAUQAAAAAAAABRAAAAAAAAAAABMmH9hQ3oSQEyYf2FDehJAwAofAMZIDEDACh8AxkgMQL1TWlBbnf4/vVNaUFud/j8Jc9m/rw+2PAlz2b+vD7Y8ulNaUFud/r+6U1pQW53+v78KHwDGSAzAvwofAMZIDMBMmH9hQ3oSwEyYf2FDehLAAAAAAAAAFMAAAAAAAAAUwEyYf2FDehLATJh/YUN6EsDCCh8AxkgMwMIKHwDGSAzAyFNaUFud/r/IU1pQW53+v0YW48/Di9C8Rhbjz8OL0LzBU1pQW53+P8FTWlBbnf4/vgofAMZIDEC+Ch8AxkgMQEqYf2FDehJASph/YUN6EkA=",
          "dtype": "f8"
         },
         "y": {
          "bdata": "AAAAAAAAAAAAAAAAAAAAAAAAAAAAAAAAAAAAAAAAAAC8U1pQW53+P7xTWlBbnf4/vwofAMZIDEC/Ch8AxkgMQEyYf2FDehJATJh/YUN6EkAAAAAAAAAUQAAAAAAAABRATJh/YUN6EkBMmH9hQ3oSQMAKHwDGSAxAwAofAMZIDEC+U1pQW53+P75TWlBbnf4/CXPZv68PxjwJc9m/rw/GPLlTWlBbnf6/uVNaUFud/r+/Ch8AxkgMwL8KHwDGSAzASph/YUN6EsBKmH9hQ3oSwAAAAAAAABTAAAAAAAAAFMBLmH9hQ3oSwEuYf2FDehLAwgofAMZIDMDCCh8AxkgMwMpTWlBbnf6/ylNaUFud/r8=",
          "dtype": "f8"
         },
         "z": {
          "bdata": "AAAAAAAAScAAAAAAAABJwAAAAAAAAElAAAAAAAAASUAAAAAAAABJwAAAAAAAAElAAAAAAAAAScAAAAAAAABJQAAAAAAAAEnAAAAAAAAASUAAAAAAAABJwAAAAAAAAElAAAAAAAAAScAAAAAAAABJQAAAAAAAAEnAAAAAAAAASUAAAAAAAABJwAAAAAAAAElAAAAAAAAAScAAAAAAAABJQAAAAAAAAEnAAAAAAAAASUAAAAAAAABJwAAAAAAAAElAAAAAAAAAScAAAAAAAABJQAAAAAAAAEnAAAAAAAAASUAAAAAAAABJwAAAAAAAAElAAAAAAAAAScAAAAAAAABJQAAAAAAAAEnAAAAAAAAASUA=",
          "dtype": "f8"
         }
        }
       ],
       "layout": {
        "height": 600,
        "scene": {
         "aspectmode": "data",
         "aspectratio": {
          "x": 1,
          "y": 1,
          "z": 0.8
         },
         "xaxis": {
          "title": {
           "text": "X (µm)"
          }
         },
         "yaxis": {
          "title": {
           "text": "Y (µm)"
          }
         },
         "zaxis": {
          "title": {
           "text": "Z (µm)"
          }
         }
        },
        "template": {
         "data": {
          "bar": [
           {
            "error_x": {
             "color": "#2a3f5f"
            },
            "error_y": {
             "color": "#2a3f5f"
            },
            "marker": {
             "line": {
              "color": "#E5ECF6",
              "width": 0.5
             },
             "pattern": {
              "fillmode": "overlay",
              "size": 10,
              "solidity": 0.2
             }
            },
            "type": "bar"
           }
          ],
          "barpolar": [
           {
            "marker": {
             "line": {
              "color": "#E5ECF6",
              "width": 0.5
             },
             "pattern": {
              "fillmode": "overlay",
              "size": 10,
              "solidity": 0.2
             }
            },
            "type": "barpolar"
           }
          ],
          "carpet": [
           {
            "aaxis": {
             "endlinecolor": "#2a3f5f",
             "gridcolor": "white",
             "linecolor": "white",
             "minorgridcolor": "white",
             "startlinecolor": "#2a3f5f"
            },
            "baxis": {
             "endlinecolor": "#2a3f5f",
             "gridcolor": "white",
             "linecolor": "white",
             "minorgridcolor": "white",
             "startlinecolor": "#2a3f5f"
            },
            "type": "carpet"
           }
          ],
          "choropleth": [
           {
            "colorbar": {
             "outlinewidth": 0,
             "ticks": ""
            },
            "type": "choropleth"
           }
          ],
          "contour": [
           {
            "colorbar": {
             "outlinewidth": 0,
             "ticks": ""
            },
            "colorscale": [
             [
              0,
              "#0d0887"
             ],
             [
              0.1111111111111111,
              "#46039f"
             ],
             [
              0.2222222222222222,
              "#7201a8"
             ],
             [
              0.3333333333333333,
              "#9c179e"
             ],
             [
              0.4444444444444444,
              "#bd3786"
             ],
             [
              0.5555555555555556,
              "#d8576b"
             ],
             [
              0.6666666666666666,
              "#ed7953"
             ],
             [
              0.7777777777777778,
              "#fb9f3a"
             ],
             [
              0.8888888888888888,
              "#fdca26"
             ],
             [
              1,
              "#f0f921"
             ]
            ],
            "type": "contour"
           }
          ],
          "contourcarpet": [
           {
            "colorbar": {
             "outlinewidth": 0,
             "ticks": ""
            },
            "type": "contourcarpet"
           }
          ],
          "heatmap": [
           {
            "colorbar": {
             "outlinewidth": 0,
             "ticks": ""
            },
            "colorscale": [
             [
              0,
              "#0d0887"
             ],
             [
              0.1111111111111111,
              "#46039f"
             ],
             [
              0.2222222222222222,
              "#7201a8"
             ],
             [
              0.3333333333333333,
              "#9c179e"
             ],
             [
              0.4444444444444444,
              "#bd3786"
             ],
             [
              0.5555555555555556,
              "#d8576b"
             ],
             [
              0.6666666666666666,
              "#ed7953"
             ],
             [
              0.7777777777777778,
              "#fb9f3a"
             ],
             [
              0.8888888888888888,
              "#fdca26"
             ],
             [
              1,
              "#f0f921"
             ]
            ],
            "type": "heatmap"
           }
          ],
          "histogram": [
           {
            "marker": {
             "pattern": {
              "fillmode": "overlay",
              "size": 10,
              "solidity": 0.2
             }
            },
            "type": "histogram"
           }
          ],
          "histogram2d": [
           {
            "colorbar": {
             "outlinewidth": 0,
             "ticks": ""
            },
            "colorscale": [
             [
              0,
              "#0d0887"
             ],
             [
              0.1111111111111111,
              "#46039f"
             ],
             [
              0.2222222222222222,
              "#7201a8"
             ],
             [
              0.3333333333333333,
              "#9c179e"
             ],
             [
              0.4444444444444444,
              "#bd3786"
             ],
             [
              0.5555555555555556,
              "#d8576b"
             ],
             [
              0.6666666666666666,
              "#ed7953"
             ],
             [
              0.7777777777777778,
              "#fb9f3a"
             ],
             [
              0.8888888888888888,
              "#fdca26"
             ],
             [
              1,
              "#f0f921"
             ]
            ],
            "type": "histogram2d"
           }
          ],
          "histogram2dcontour": [
           {
            "colorbar": {
             "outlinewidth": 0,
             "ticks": ""
            },
            "colorscale": [
             [
              0,
              "#0d0887"
             ],
             [
              0.1111111111111111,
              "#46039f"
             ],
             [
              0.2222222222222222,
              "#7201a8"
             ],
             [
              0.3333333333333333,
              "#9c179e"
             ],
             [
              0.4444444444444444,
              "#bd3786"
             ],
             [
              0.5555555555555556,
              "#d8576b"
             ],
             [
              0.6666666666666666,
              "#ed7953"
             ],
             [
              0.7777777777777778,
              "#fb9f3a"
             ],
             [
              0.8888888888888888,
              "#fdca26"
             ],
             [
              1,
              "#f0f921"
             ]
            ],
            "type": "histogram2dcontour"
           }
          ],
          "mesh3d": [
           {
            "colorbar": {
             "outlinewidth": 0,
             "ticks": ""
            },
            "type": "mesh3d"
           }
          ],
          "parcoords": [
           {
            "line": {
             "colorbar": {
              "outlinewidth": 0,
              "ticks": ""
             }
            },
            "type": "parcoords"
           }
          ],
          "pie": [
           {
            "automargin": true,
            "type": "pie"
           }
          ],
          "scatter": [
           {
            "fillpattern": {
             "fillmode": "overlay",
             "size": 10,
             "solidity": 0.2
            },
            "type": "scatter"
           }
          ],
          "scatter3d": [
           {
            "line": {
             "colorbar": {
              "outlinewidth": 0,
              "ticks": ""
             }
            },
            "marker": {
             "colorbar": {
              "outlinewidth": 0,
              "ticks": ""
             }
            },
            "type": "scatter3d"
           }
          ],
          "scattercarpet": [
           {
            "marker": {
             "colorbar": {
              "outlinewidth": 0,
              "ticks": ""
             }
            },
            "type": "scattercarpet"
           }
          ],
          "scattergeo": [
           {
            "marker": {
             "colorbar": {
              "outlinewidth": 0,
              "ticks": ""
             }
            },
            "type": "scattergeo"
           }
          ],
          "scattergl": [
           {
            "marker": {
             "colorbar": {
              "outlinewidth": 0,
              "ticks": ""
             }
            },
            "type": "scattergl"
           }
          ],
          "scattermap": [
           {
            "marker": {
             "colorbar": {
              "outlinewidth": 0,
              "ticks": ""
             }
            },
            "type": "scattermap"
           }
          ],
          "scattermapbox": [
           {
            "marker": {
             "colorbar": {
              "outlinewidth": 0,
              "ticks": ""
             }
            },
            "type": "scattermapbox"
           }
          ],
          "scatterpolar": [
           {
            "marker": {
             "colorbar": {
              "outlinewidth": 0,
              "ticks": ""
             }
            },
            "type": "scatterpolar"
           }
          ],
          "scatterpolargl": [
           {
            "marker": {
             "colorbar": {
              "outlinewidth": 0,
              "ticks": ""
             }
            },
            "type": "scatterpolargl"
           }
          ],
          "scatterternary": [
           {
            "marker": {
             "colorbar": {
              "outlinewidth": 0,
              "ticks": ""
             }
            },
            "type": "scatterternary"
           }
          ],
          "surface": [
           {
            "colorbar": {
             "outlinewidth": 0,
             "ticks": ""
            },
            "colorscale": [
             [
              0,
              "#0d0887"
             ],
             [
              0.1111111111111111,
              "#46039f"
             ],
             [
              0.2222222222222222,
              "#7201a8"
             ],
             [
              0.3333333333333333,
              "#9c179e"
             ],
             [
              0.4444444444444444,
              "#bd3786"
             ],
             [
              0.5555555555555556,
              "#d8576b"
             ],
             [
              0.6666666666666666,
              "#ed7953"
             ],
             [
              0.7777777777777778,
              "#fb9f3a"
             ],
             [
              0.8888888888888888,
              "#fdca26"
             ],
             [
              1,
              "#f0f921"
             ]
            ],
            "type": "surface"
           }
          ],
          "table": [
           {
            "cells": {
             "fill": {
              "color": "#EBF0F8"
             },
             "line": {
              "color": "white"
             }
            },
            "header": {
             "fill": {
              "color": "#C8D4E3"
             },
             "line": {
              "color": "white"
             }
            },
            "type": "table"
           }
          ]
         },
         "layout": {
          "annotationdefaults": {
           "arrowcolor": "#2a3f5f",
           "arrowhead": 0,
           "arrowwidth": 1
          },
          "autotypenumbers": "strict",
          "coloraxis": {
           "colorbar": {
            "outlinewidth": 0,
            "ticks": ""
           }
          },
          "colorscale": {
           "diverging": [
            [
             0,
             "#8e0152"
            ],
            [
             0.1,
             "#c51b7d"
            ],
            [
             0.2,
             "#de77ae"
            ],
            [
             0.3,
             "#f1b6da"
            ],
            [
             0.4,
             "#fde0ef"
            ],
            [
             0.5,
             "#f7f7f7"
            ],
            [
             0.6,
             "#e6f5d0"
            ],
            [
             0.7,
             "#b8e186"
            ],
            [
             0.8,
             "#7fbc41"
            ],
            [
             0.9,
             "#4d9221"
            ],
            [
             1,
             "#276419"
            ]
           ],
           "sequential": [
            [
             0,
             "#0d0887"
            ],
            [
             0.1111111111111111,
             "#46039f"
            ],
            [
             0.2222222222222222,
             "#7201a8"
            ],
            [
             0.3333333333333333,
             "#9c179e"
            ],
            [
             0.4444444444444444,
             "#bd3786"
            ],
            [
             0.5555555555555556,
             "#d8576b"
            ],
            [
             0.6666666666666666,
             "#ed7953"
            ],
            [
             0.7777777777777778,
             "#fb9f3a"
            ],
            [
             0.8888888888888888,
             "#fdca26"
            ],
            [
             1,
             "#f0f921"
            ]
           ],
           "sequentialminus": [
            [
             0,
             "#0d0887"
            ],
            [
             0.1111111111111111,
             "#46039f"
            ],
            [
             0.2222222222222222,
             "#7201a8"
            ],
            [
             0.3333333333333333,
             "#9c179e"
            ],
            [
             0.4444444444444444,
             "#bd3786"
            ],
            [
             0.5555555555555556,
             "#d8576b"
            ],
            [
             0.6666666666666666,
             "#ed7953"
            ],
            [
             0.7777777777777778,
             "#fb9f3a"
            ],
            [
             0.8888888888888888,
             "#fdca26"
            ],
            [
             1,
             "#f0f921"
            ]
           ]
          },
          "colorway": [
           "#636efa",
           "#EF553B",
           "#00cc96",
           "#ab63fa",
           "#FFA15A",
           "#19d3f3",
           "#FF6692",
           "#B6E880",
           "#FF97FF",
           "#FECB52"
          ],
          "font": {
           "color": "#2a3f5f"
          },
          "geo": {
           "bgcolor": "white",
           "lakecolor": "white",
           "landcolor": "#E5ECF6",
           "showlakes": true,
           "showland": true,
           "subunitcolor": "white"
          },
          "hoverlabel": {
           "align": "left"
          },
          "hovermode": "closest",
          "mapbox": {
           "style": "light"
          },
          "paper_bgcolor": "white",
          "plot_bgcolor": "#E5ECF6",
          "polar": {
           "angularaxis": {
            "gridcolor": "white",
            "linecolor": "white",
            "ticks": ""
           },
           "bgcolor": "#E5ECF6",
           "radialaxis": {
            "gridcolor": "white",
            "linecolor": "white",
            "ticks": ""
           }
          },
          "scene": {
           "xaxis": {
            "backgroundcolor": "#E5ECF6",
            "gridcolor": "white",
            "gridwidth": 2,
            "linecolor": "white",
            "showbackground": true,
            "ticks": "",
            "zerolinecolor": "white"
           },
           "yaxis": {
            "backgroundcolor": "#E5ECF6",
            "gridcolor": "white",
            "gridwidth": 2,
            "linecolor": "white",
            "showbackground": true,
            "ticks": "",
            "zerolinecolor": "white"
           },
           "zaxis": {
            "backgroundcolor": "#E5ECF6",
            "gridcolor": "white",
            "gridwidth": 2,
            "linecolor": "white",
            "showbackground": true,
            "ticks": "",
            "zerolinecolor": "white"
           }
          },
          "shapedefaults": {
           "line": {
            "color": "#2a3f5f"
           }
          },
          "ternary": {
           "aaxis": {
            "gridcolor": "white",
            "linecolor": "white",
            "ticks": ""
           },
           "baxis": {
            "gridcolor": "white",
            "linecolor": "white",
            "ticks": ""
           },
           "bgcolor": "#E5ECF6",
           "caxis": {
            "gridcolor": "white",
            "linecolor": "white",
            "ticks": ""
           }
          },
          "title": {
           "x": 0.05
          },
          "xaxis": {
           "automargin": true,
           "gridcolor": "white",
           "linecolor": "white",
           "ticks": "",
           "title": {
            "standoff": 15
           },
           "zerolinecolor": "white",
           "zerolinewidth": 2
          },
          "yaxis": {
           "automargin": true,
           "gridcolor": "white",
           "linecolor": "white",
           "ticks": "",
           "title": {
            "standoff": 15
           },
           "zerolinecolor": "white",
           "zerolinewidth": 2
          }
         }
        },
        "title": {
         "text": "Simple Cylinder Mesh"
        },
        "width": 800
       }
      }
     },
     "metadata": {},
     "output_type": "display_data"
    }
   ],
   "source": [
    "# Visualize the cylinder\n",
    "fig = visualize_mesh_3d(\n",
    "    cylinder, \n",
    "    title=\"Simple Cylinder Mesh\",\n",
    "    color=\"lightblue\",\n",
    "    backend=\"plotly\"\n",
    ")\n",
    "fig.show()"
   ]
  },
  {
   "cell_type": "code",
   "execution_count": null,
   "id": "7f43368c",
   "metadata": {},
   "outputs": [],
   "source": [
    "# Interactive slice view of the cylinder\n",
    "fig_cylinder_slice = visualize_mesh_slice_interactive(\n",
    "    cylinder,\n",
    "    title=\"Interactive Cylinder Cross-Sections\",\n",
    "    slice_color=\"darkblue\",\n",
    "    mesh_color=\"lightblue\",\n",
    "    mesh_opacity=0.3\n",
    ")\n",
    "fig_cylinder_slice.show()"
   ]
  },
  {
   "cell_type": "markdown",
   "id": "f4cbeb7a",
   "metadata": {},
   "source": [
    "## 2. Creating a Torus Mesh\n",
    "\n",
    "Now let's create a torus (donut shape) which could represent ring-like neuronal structures:"
   ]
  },
  {
   "cell_type": "code",
   "execution_count": 4,
   "id": "7cfbab04",
   "metadata": {},
   "outputs": [
    {
     "name": "stdout",
     "output_type": "stream",
     "text": [
      "Created torus with 1024 vertices and 2048 faces\n",
      "Volume: 9743.42 μm³\n",
      "Surface area: 3925.71 μm²\n"
     ]
    }
   ],
   "source": [
    "# Create a torus mesh\n",
    "torus = create_torus_mesh(\n",
    "    major_radius=20.0,   # 20 micrometers from center to tube center\n",
    "    minor_radius=5.0,    # 5 micrometers tube radius\n",
    "    major_segments=20,   # 20 segments around the ring\n",
    "    minor_segments=12    # 12 segments around the tube\n",
    ")\n",
    "\n",
    "print(f\"Created torus with {len(torus.vertices)} vertices and {len(torus.faces)} faces\")\n",
    "print(f\"Volume: {torus.volume:.2f} μm³\")\n",
    "print(f\"Surface area: {torus.area:.2f} μm²\")"
   ]
  },
  {
   "cell_type": "code",
   "execution_count": 5,
   "id": "a84b9141",
   "metadata": {},
   "outputs": [
    {
     "data": {
      "application/vnd.plotly.v1+json": {
       "config": {
        "plotlyServerURL": "https://plot.ly"
       },
       "data": [
        {
         "color": "purple",
         "i": {
          "bdata": "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",
          "dtype": "i2"
         },
         "j": {
          "bdata": "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",
          "dtype": "i2"
         },
         "k": {
          "bdata": "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",
          "dtype": "i2"
         },
         "name": "Mesh",
         "opacity": 0.8,
         "type": "mesh3d",
         "x": {
          "bdata": "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",
          "dtype": "f8"
         },
         "y": {
          "bdata": "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",
          "dtype": "f8"
         },
         "z": {
          "bdata": "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",
          "dtype": "f8"
         }
        }
       ],
       "layout": {
        "height": 600,
        "scene": {
         "aspectmode": "data",
         "aspectratio": {
          "x": 1,
          "y": 1,
          "z": 0.8
         },
         "xaxis": {
          "title": {
           "text": "X (µm)"
          }
         },
         "yaxis": {
          "title": {
           "text": "Y (µm)"
          }
         },
         "zaxis": {
          "title": {
           "text": "Z (µm)"
          }
         }
        },
        "template": {
         "data": {
          "bar": [
           {
            "error_x": {
             "color": "#2a3f5f"
            },
            "error_y": {
             "color": "#2a3f5f"
            },
            "marker": {
             "line": {
              "color": "#E5ECF6",
              "width": 0.5
             },
             "pattern": {
              "fillmode": "overlay",
              "size": 10,
              "solidity": 0.2
             }
            },
            "type": "bar"
           }
          ],
          "barpolar": [
           {
            "marker": {
             "line": {
              "color": "#E5ECF6",
              "width": 0.5
             },
             "pattern": {
              "fillmode": "overlay",
              "size": 10,
              "solidity": 0.2
             }
            },
            "type": "barpolar"
           }
          ],
          "carpet": [
           {
            "aaxis": {
             "endlinecolor": "#2a3f5f",
             "gridcolor": "white",
             "linecolor": "white",
             "minorgridcolor": "white",
             "startlinecolor": "#2a3f5f"
            },
            "baxis": {
             "endlinecolor": "#2a3f5f",
             "gridcolor": "white",
             "linecolor": "white",
             "minorgridcolor": "white",
             "startlinecolor": "#2a3f5f"
            },
            "type": "carpet"
           }
          ],
          "choropleth": [
           {
            "colorbar": {
             "outlinewidth": 0,
             "ticks": ""
            },
            "type": "choropleth"
           }
          ],
          "contour": [
           {
            "colorbar": {
             "outlinewidth": 0,
             "ticks": ""
            },
            "colorscale": [
             [
              0,
              "#0d0887"
             ],
             [
              0.1111111111111111,
              "#46039f"
             ],
             [
              0.2222222222222222,
              "#7201a8"
             ],
             [
              0.3333333333333333,
              "#9c179e"
             ],
             [
              0.4444444444444444,
              "#bd3786"
             ],
             [
              0.5555555555555556,
              "#d8576b"
             ],
             [
              0.6666666666666666,
              "#ed7953"
             ],
             [
              0.7777777777777778,
              "#fb9f3a"
             ],
             [
              0.8888888888888888,
              "#fdca26"
             ],
             [
              1,
              "#f0f921"
             ]
            ],
            "type": "contour"
           }
          ],
          "contourcarpet": [
           {
            "colorbar": {
             "outlinewidth": 0,
             "ticks": ""
            },
            "type": "contourcarpet"
           }
          ],
          "heatmap": [
           {
            "colorbar": {
             "outlinewidth": 0,
             "ticks": ""
            },
            "colorscale": [
             [
              0,
              "#0d0887"
             ],
             [
              0.1111111111111111,
              "#46039f"
             ],
             [
              0.2222222222222222,
              "#7201a8"
             ],
             [
              0.3333333333333333,
              "#9c179e"
             ],
             [
              0.4444444444444444,
              "#bd3786"
             ],
             [
              0.5555555555555556,
              "#d8576b"
             ],
             [
              0.6666666666666666,
              "#ed7953"
             ],
             [
              0.7777777777777778,
              "#fb9f3a"
             ],
             [
              0.8888888888888888,
              "#fdca26"
             ],
             [
              1,
              "#f0f921"
             ]
            ],
            "type": "heatmap"
           }
          ],
          "histogram": [
           {
            "marker": {
             "pattern": {
              "fillmode": "overlay",
              "size": 10,
              "solidity": 0.2
             }
            },
            "type": "histogram"
           }
          ],
          "histogram2d": [
           {
            "colorbar": {
             "outlinewidth": 0,
             "ticks": ""
            },
            "colorscale": [
             [
              0,
              "#0d0887"
             ],
             [
              0.1111111111111111,
              "#46039f"
             ],
             [
              0.2222222222222222,
              "#7201a8"
             ],
             [
              0.3333333333333333,
              "#9c179e"
             ],
             [
              0.4444444444444444,
              "#bd3786"
             ],
             [
              0.5555555555555556,
              "#d8576b"
             ],
             [
              0.6666666666666666,
              "#ed7953"
             ],
             [
              0.7777777777777778,
              "#fb9f3a"
             ],
             [
              0.8888888888888888,
              "#fdca26"
             ],
             [
              1,
              "#f0f921"
             ]
            ],
            "type": "histogram2d"
           }
          ],
          "histogram2dcontour": [
           {
            "colorbar": {
             "outlinewidth": 0,
             "ticks": ""
            },
            "colorscale": [
             [
              0,
              "#0d0887"
             ],
             [
              0.1111111111111111,
              "#46039f"
             ],
             [
              0.2222222222222222,
              "#7201a8"
             ],
             [
              0.3333333333333333,
              "#9c179e"
             ],
             [
              0.4444444444444444,
              "#bd3786"
             ],
             [
              0.5555555555555556,
              "#d8576b"
             ],
             [
              0.6666666666666666,
              "#ed7953"
             ],
             [
              0.7777777777777778,
              "#fb9f3a"
             ],
             [
              0.8888888888888888,
              "#fdca26"
             ],
             [
              1,
              "#f0f921"
             ]
            ],
            "type": "histogram2dcontour"
           }
          ],
          "mesh3d": [
           {
            "colorbar": {
             "outlinewidth": 0,
             "ticks": ""
            },
            "type": "mesh3d"
           }
          ],
          "parcoords": [
           {
            "line": {
             "colorbar": {
              "outlinewidth": 0,
              "ticks": ""
             }
            },
            "type": "parcoords"
           }
          ],
          "pie": [
           {
            "automargin": true,
            "type": "pie"
           }
          ],
          "scatter": [
           {
            "fillpattern": {
             "fillmode": "overlay",
             "size": 10,
             "solidity": 0.2
            },
            "type": "scatter"
           }
          ],
          "scatter3d": [
           {
            "line": {
             "colorbar": {
              "outlinewidth": 0,
              "ticks": ""
             }
            },
            "marker": {
             "colorbar": {
              "outlinewidth": 0,
              "ticks": ""
             }
            },
            "type": "scatter3d"
           }
          ],
          "scattercarpet": [
           {
            "marker": {
             "colorbar": {
              "outlinewidth": 0,
              "ticks": ""
             }
            },
            "type": "scattercarpet"
           }
          ],
          "scattergeo": [
           {
            "marker": {
             "colorbar": {
              "outlinewidth": 0,
              "ticks": ""
             }
            },
            "type": "scattergeo"
           }
          ],
          "scattergl": [
           {
            "marker": {
             "colorbar": {
              "outlinewidth": 0,
              "ticks": ""
             }
            },
            "type": "scattergl"
           }
          ],
          "scattermap": [
           {
            "marker": {
             "colorbar": {
              "outlinewidth": 0,
              "ticks": ""
             }
            },
            "type": "scattermap"
           }
          ],
          "scattermapbox": [
           {
            "marker": {
             "colorbar": {
              "outlinewidth": 0,
              "ticks": ""
             }
            },
            "type": "scattermapbox"
           }
          ],
          "scatterpolar": [
           {
            "marker": {
             "colorbar": {
              "outlinewidth": 0,
              "ticks": ""
             }
            },
            "type": "scatterpolar"
           }
          ],
          "scatterpolargl": [
           {
            "marker": {
             "colorbar": {
              "outlinewidth": 0,
              "ticks": ""
             }
            },
            "type": "scatterpolargl"
           }
          ],
          "scatterternary": [
           {
            "marker": {
             "colorbar": {
              "outlinewidth": 0,
              "ticks": ""
             }
            },
            "type": "scatterternary"
           }
          ],
          "surface": [
           {
            "colorbar": {
             "outlinewidth": 0,
             "ticks": ""
            },
            "colorscale": [
             [
              0,
              "#0d0887"
             ],
             [
              0.1111111111111111,
              "#46039f"
             ],
             [
              0.2222222222222222,
              "#7201a8"
             ],
             [
              0.3333333333333333,
              "#9c179e"
             ],
             [
              0.4444444444444444,
              "#bd3786"
             ],
             [
              0.5555555555555556,
              "#d8576b"
             ],
             [
              0.6666666666666666,
              "#ed7953"
             ],
             [
              0.7777777777777778,
              "#fb9f3a"
             ],
             [
              0.8888888888888888,
              "#fdca26"
             ],
             [
              1,
              "#f0f921"
             ]
            ],
            "type": "surface"
           }
          ],
          "table": [
           {
            "cells": {
             "fill": {
              "color": "#EBF0F8"
             },
             "line": {
              "color": "white"
             }
            },
            "header": {
             "fill": {
              "color": "#C8D4E3"
             },
             "line": {
              "color": "white"
             }
            },
            "type": "table"
           }
          ]
         },
         "layout": {
          "annotationdefaults": {
           "arrowcolor": "#2a3f5f",
           "arrowhead": 0,
           "arrowwidth": 1
          },
          "autotypenumbers": "strict",
          "coloraxis": {
           "colorbar": {
            "outlinewidth": 0,
            "ticks": ""
           }
          },
          "colorscale": {
           "diverging": [
            [
             0,
             "#8e0152"
            ],
            [
             0.1,
             "#c51b7d"
            ],
            [
             0.2,
             "#de77ae"
            ],
            [
             0.3,
             "#f1b6da"
            ],
            [
             0.4,
             "#fde0ef"
            ],
            [
             0.5,
             "#f7f7f7"
            ],
            [
             0.6,
             "#e6f5d0"
            ],
            [
             0.7,
             "#b8e186"
            ],
            [
             0.8,
             "#7fbc41"
            ],
            [
             0.9,
             "#4d9221"
            ],
            [
             1,
             "#276419"
            ]
           ],
           "sequential": [
            [
             0,
             "#0d0887"
            ],
            [
             0.1111111111111111,
             "#46039f"
            ],
            [
             0.2222222222222222,
             "#7201a8"
            ],
            [
             0.3333333333333333,
             "#9c179e"
            ],
            [
             0.4444444444444444,
             "#bd3786"
            ],
            [
             0.5555555555555556,
             "#d8576b"
            ],
            [
             0.6666666666666666,
             "#ed7953"
            ],
            [
             0.7777777777777778,
             "#fb9f3a"
            ],
            [
             0.8888888888888888,
             "#fdca26"
            ],
            [
             1,
             "#f0f921"
            ]
           ],
           "sequentialminus": [
            [
             0,
             "#0d0887"
            ],
            [
             0.1111111111111111,
             "#46039f"
            ],
            [
             0.2222222222222222,
             "#7201a8"
            ],
            [
             0.3333333333333333,
             "#9c179e"
            ],
            [
             0.4444444444444444,
             "#bd3786"
            ],
            [
             0.5555555555555556,
             "#d8576b"
            ],
            [
             0.6666666666666666,
             "#ed7953"
            ],
            [
             0.7777777777777778,
             "#fb9f3a"
            ],
            [
             0.8888888888888888,
             "#fdca26"
            ],
            [
             1,
             "#f0f921"
            ]
           ]
          },
          "colorway": [
           "#636efa",
           "#EF553B",
           "#00cc96",
           "#ab63fa",
           "#FFA15A",
           "#19d3f3",
           "#FF6692",
           "#B6E880",
           "#FF97FF",
           "#FECB52"
          ],
          "font": {
           "color": "#2a3f5f"
          },
          "geo": {
           "bgcolor": "white",
           "lakecolor": "white",
           "landcolor": "#E5ECF6",
           "showlakes": true,
           "showland": true,
           "subunitcolor": "white"
          },
          "hoverlabel": {
           "align": "left"
          },
          "hovermode": "closest",
          "mapbox": {
           "style": "light"
          },
          "paper_bgcolor": "white",
          "plot_bgcolor": "#E5ECF6",
          "polar": {
           "angularaxis": {
            "gridcolor": "white",
            "linecolor": "white",
            "ticks": ""
           },
           "bgcolor": "#E5ECF6",
           "radialaxis": {
            "gridcolor": "white",
            "linecolor": "white",
            "ticks": ""
           }
          },
          "scene": {
           "xaxis": {
            "backgroundcolor": "#E5ECF6",
            "gridcolor": "white",
            "gridwidth": 2,
            "linecolor": "white",
            "showbackground": true,
            "ticks": "",
            "zerolinecolor": "white"
           },
           "yaxis": {
            "backgroundcolor": "#E5ECF6",
            "gridcolor": "white",
            "gridwidth": 2,
            "linecolor": "white",
            "showbackground": true,
            "ticks": "",
            "zerolinecolor": "white"
           },
           "zaxis": {
            "backgroundcolor": "#E5ECF6",
            "gridcolor": "white",
            "gridwidth": 2,
            "linecolor": "white",
            "showbackground": true,
            "ticks": "",
            "zerolinecolor": "white"
           }
          },
          "shapedefaults": {
           "line": {
            "color": "#2a3f5f"
           }
          },
          "ternary": {
           "aaxis": {
            "gridcolor": "white",
            "linecolor": "white",
            "ticks": ""
           },
           "baxis": {
            "gridcolor": "white",
            "linecolor": "white",
            "ticks": ""
           },
           "bgcolor": "#E5ECF6",
           "caxis": {
            "gridcolor": "white",
            "linecolor": "white",
            "ticks": ""
           }
          },
          "title": {
           "x": 0.05
          },
          "xaxis": {
           "automargin": true,
           "gridcolor": "white",
           "linecolor": "white",
           "ticks": "",
           "title": {
            "standoff": 15
           },
           "zerolinecolor": "white",
           "zerolinewidth": 2
          },
          "yaxis": {
           "automargin": true,
           "gridcolor": "white",
           "linecolor": "white",
           "ticks": "",
           "title": {
            "standoff": 15
           },
           "zerolinecolor": "white",
           "zerolinewidth": 2
          }
         }
        },
        "title": {
         "text": "Torus Ring Mesh"
        },
        "width": 800
       }
      }
     },
     "metadata": {},
     "output_type": "display_data"
    }
   ],
   "source": [
    "# Visualize the torus\n",
    "fig = visualize_mesh_3d(\n",
    "    torus, \n",
    "    title=\"Torus Ring Mesh\",\n",
    "    color=\"purple\",\n",
    "    backend=\"plotly\"\n",
    ")\n",
    "fig.show()"
   ]
  },
  {
   "cell_type": "code",
   "execution_count": null,
   "id": "7f1c914f",
   "metadata": {},
   "outputs": [],
   "source": [
    "# Interactive slice view of the torus - great for seeing the ring structure\n",
    "fig_torus_slice = visualize_mesh_slice_interactive(\n",
    "    torus,\n",
    "    title=\"Interactive Torus Cross-Sections\",\n",
    "    slice_color=\"darkmagenta\",\n",
    "    mesh_color=\"purple\",\n",
    "    mesh_opacity=0.3\n",
    ")\n",
    "fig_torus_slice.show()"
   ]
  },
  {
   "cell_type": "markdown",
   "id": "0d2da767",
   "metadata": {},
   "source": [
    "## 3. Creating a Branching Structure\n",
    "\n",
    "Now let's create a more complex structure with branching, like a dendritic tree:"
   ]
  },
  {
   "cell_type": "code",
   "execution_count": 6,
   "id": "3b2bb65e",
   "metadata": {},
   "outputs": [
    {
     "name": "stdout",
     "output_type": "stream",
     "text": [
      "Created Y-branch with 175 vertices and 116 faces\n",
      "Volume: 6475.01 μm³\n",
      "Surface area: 3431.39 μm²\n"
     ]
    }
   ],
   "source": [
    "# Create a Y-shaped branching structure\n",
    "y_branch = create_branching_mesh(\n",
    "    trunk_length=60.0,     # Main trunk 60 μm long\n",
    "    trunk_radius=5.0,      # Main trunk 5 μm radius\n",
    "    branch_length=40.0,    # Each branch 40 μm long\n",
    "    branch_radius=3.0,     # Each branch 3 μm radius\n",
    "    branch_angle=45.0,     # Branches at 45° angle\n",
    "    num_branches=2,        # Two branches (Y-shape)\n",
    "    smooth_junctions=True  # Smooth the connection points\n",
    ")\n",
    "\n",
    "print(f\"Created Y-branch with {len(y_branch.vertices)} vertices and {len(y_branch.faces)} faces\")\n",
    "print(f\"Volume: {y_branch.volume:.2f} μm³\")\n",
    "print(f\"Surface area: {y_branch.area:.2f} μm²\")"
   ]
  },
  {
   "cell_type": "code",
   "execution_count": 7,
   "id": "a302c757",
   "metadata": {},
   "outputs": [
    {
     "data": {
      "application/vnd.plotly.v1+json": {
       "config": {
        "plotlyServerURL": "https://plot.ly"
       },
       "data": [
        {
         "color": "lightgreen",
         "i": {
          "bdata": "AAAAAAQABAAFAAcACQAIAAwABgAMAAwADAAMABIAEQAVABYAGgAaACMAHAAeACIAIQAcACYAJgAfAB8AGQAZACcAKgAqACsAKAArACoAJgAvAC8AMwAzADcANwA7ADwAQAA/AEMARQBHAEcATABLAE8ATwBTAFQAVwBXAF4AXgBeAGAAYQBiAGIAZgBmAGcAaABpAGoAagBqAHQAcwBzAHMAdgB1AHoAewB9AH0AgQCCAIUAhQCJAIoAiwCMAIkAjQCNAI0AkgCWAJYAkgCYAJgAnACdAJwAnQCiAKQAogCnAKgAqwCrAA==",
          "dtype": "i2"
         },
         "j": {
          "bdata": "AwABAAcADAAMAAgADQAJAAsADAAOABAADwANABQAEgAWABgAHAAbACgAHQAgACgAIgAmACUAJwAhACAAGgAgACsALAArAC4ALAAnAC0AJAAyADEANQA2ADoAOAA9AD0AQgBAAEUARgBJAEoASwBNAFEAUgBVAFUAWgBYAFwAWwBdAF0AYwBlAGMAZwBqAGkAagBsAGwAbQBuAHAAbwBxAHAAdQB3AHkAfAB+AIAAggCEAIgAhwCKAIwAjQCPAI0AkQCPAJAAlgCXAJUAlACbAJoAnQCfAJ4AoQCjAKUApQCoAKoArACuAA==",
          "dtype": "i2"
         },
         "k": {
          "bdata": "AgADAAwABQAGAAwADAAMAAoACgAPAAsAEAAOABMAEwAXABcAGwAgACkAGwAfACMAIwAdACQAJQAjACEAIAAeACUAKAAtAC0AKQAuACwAHQAwADIANgA0ADkAOgA8AD4AQQBBAEQARABKAEgATgBOAFIAUABUAFYAWQBaAF0AXABgAF8AYgBkAGUAagBoAGoAawBqAG4AawBtAHIAcABvAHQAeAB4AHsAegCAAH8AgwCDAIcAhgCNAI0AjgCNAIsAkACRAI4AlACVAJQAkwCZAJsAngCeAKAAnwClAKYApACpAKkArgCtAA==",
          "dtype": "i2"
         },
         "name": "Mesh",
         "opacity": 0.8,
         "type": "mesh3d",
         "x": {
          "bdata": "AAAA4AxSEcAAAADgDFIRwAAAAAAAABTAAAAAAAAAFMAAAADgDFIRwAAAAAAAAATAAAAAwMOL0LwAAAAAAAAUwAAAAOAMUhHAAAAAAAAABMAAAAAAAAAEQAAAAOAMUhFAAAAAAAAAAAAAAADArw+2PAAAAAAAAARAAAAA4AxSEUAAAAAAAAAUQAAAAOAMUhHAAAAAAAAABMAAAADgDFIRwAAAAAAAAATAAAAAAAAABMAAAADAw4vQvAAAAAAAAATAAAAAwMOL0LwAAADgDFIRwAAAAAAAAATAAAAAwHb4AMAAAADAw4vQvAAAAADr2sO8AAAAAAAAFMAAAADgDFIRwAAAAAAAAAjAAAAAwHb4AMAAAACg4wwAwAAAAAAAAATAAAAAoOMMAEAAAADAdvgAQAAAAAAAAARAAAAA4AxSEUAAAADA0zO4PAAAAMCvD7Y8AAAAwHb4AEAAAAAAAAAIQAAAAAAAAARAAAAA4AxSEUAAAAAAAAAUQAAAAAAAABTAAAAA4AxSEcAAAAAAAAAUwAAAAOAMUhHAAAAA4AxSEcAAAAAAAAAEwAAAAOAMUhHAAAAAAAAABMAAAAAAAAAEwAAAAAAAAATAAAAAwK8PtjwAAADArw+2PAAAAMDDi9C8AAAAwMOL0LwAAAAAAAAEQAAAAAAAAARAAAAAAAAABEAAAADgDFIRQAAAAAAAAARAAAAA4AxSEUAAAADgDFIRQAAAAOAMUhFAAAAAAAAAFEAAAAAAAAAUQAAAAMCvD7Y8AAAAAAAABEAAAADArw+2PAAAAAAAAARAAAAAAAAABEAAAADgDFIRQAAAAAAAAARAAAAA4AxSEUAAAADgDFIRQAAAAAAAABRAAAAA4AxSEUAAAAAAAAAUQAAAAAAAAAjAAAAAAAAACMAAAADAdvgAwAAAAMB2+ADAAAAAAAAACMAAAAAAAAAIwAAAAMB2+ADAAAAAwHb4AMAAAADAdvgAwAAAAKDjDADAAAAAAEztw78AAADAdvgAwAAAAEA5eao8AAAAQG406zwAAADAdvgAwAAAAKDjDADAAAAAwHb4AMAAAADA0zO4PAAAAGB84u88AAAAAAAACMAAAADAdvgAwAAAAMB2+ADAAAAAQG406zwAAADgCDPvPAAAAGB84u88AAAAwHb4AEAAAADAdvgAQAAAAAAAAAhAAAAAAEztwz8AAACg4wwAQAAAAEA5eao8AAAAwHb4AEAAAABAbjTrPAAAAMB2+ABAAAAAwNMzuDwAAADAdvgAQAAAAGB84u88AAAAwHb4AEAAAADAdvgAQAAAAMB2+ABAAAAAAAAACEAAAAAAAAAIQAAAAMB2+ABAAAAAwHb4AEAAAAAAAAAIQAAAAAAAAAhAAAAAAAAACMAAAADAdvgAwAAAAAAAAAjAAAAAwHb4AMAAAAAAAAAIwAAAAMB2+ADAAAAAwHb4AMAAAAAAAAAIwAAAAAAAAAjAAAAAwHb4AMAAAADAdvgAwAAAAADr2sO8AAAAAAAAAAAAAABAOXmqPAAAAMB2+ABAAAAAwHb4AEAAAAAAAAAIQAAAAMB2+ADAAAAAwHb4AMAAAACg4wwAwAAAAABM7cO/AAAAQDl5qjwAAABAOXmqPAAAAMB2+ADAAAAAAOvaw7wAAADAdvgAwAAAAADr2sO8AAAAQDl5qjwAAADAdvgAQAAAAABM7cM/AAAAoOMMAEAAAABAOXmqPAAAAMB2+ABAAAAAAOvaw7wAAAAA69rDvAAAAMB2+ABAAAAAoOMMAEAAAADAdvgAQAAAAMB2+ABAAAAAAAAACEAAAADAdvgAQAAAAAAAAAhAAAAAwHb4AEAAAADAdvgAQAAAAAAAAAhAAAAAAAAACEA=",
          "dtype": "f8"
         },
         "y": {
          "bdata": "AAAAAAAABMAAAAAAAAAEwAAAAMCvD8Y8AAAAwK8PxjwAAAAAAAAEwAAAAOAMUhHAAAAAAAAAFMAAAADArw/GPAAAAAAAAARAAAAA4AxSEUAAAADgDFIRwAAAAAAAAATAAAAAAAAAAAAAAAAAAAAUQAAAAOAMUhFAAAAAAAAABEAAAAAAAAAAAAAAAAAAAATAAAAA4AxSEcAAAAAAAAAEwAAAAOAMUhHAAAAA4AxSEcAAAAAAAAAUwAAAAOAMUhHAAAAAAAAAFMAAAAAAAAAEwAAAAOAMUhHAAAAAAAAACMAAAAAAAAAUwAAAAIB2+BDAAAAAwK8PxjwAAAAAAAAEQAAAAEA5ebo8AAAAAAAACEAAAABA/4kIQAAAAOAMUhFAAAAAQP+JCMAAAAAAAAAIwAAAAOAMUhHAAAAAAAAABMAAAACAdvgQQAAAAAAAABRAAAAAAAAACEAAAAAAAAAAAAAAAOAMUhFAAAAAAAAABEAAAAAAAAAAAAAAAMCvD8Y8AAAAAAAABEAAAADArw/GPAAAAAAAAARAAAAAAAAABEAAAADgDFIRQAAAAAAAAARAAAAA4AxSEUAAAADgDFIRQAAAAOAMUhFAAAAAAAAAFEAAAAAAAAAUQAAAAAAAABTAAAAAAAAAFMAAAADgDFIRwAAAAOAMUhHAAAAA4AxSEcAAAAAAAAAEwAAAAOAMUhHAAAAAAAAABMAAAAAAAAAEwAAAAAAAAATAAAAAAAAAAAAAAAAAAAAAAAAAAAAAABRAAAAA4AxSEUAAAAAAAAAUQAAAAOAMUhFAAAAA4AxSEUAAAAAAAAAEQAAAAOAMUhFAAAAAAAAABEAAAAAAAAAEQAAAAAAAAAAAAAAAAAAABEAAAAAAAAAAAAAAAEA5ebo8AAAAAMZIPEAAAAAAAAAAAAAAAADGyDpAAAAAQDl5ujwAAAAAxkg8QAAAAAAAAAhAAAAAAMbIPUAAAAAAAAAAAAAAAACtO38+AAAA4L0ihT4AAAAAxsg6QAAAAAAAAAAAAAAAILcpOkAAAAAAAAAIQAAAAED/iQhAAAAAAMbIPUAAAACAdvgQQAAAAODUZz5AAAAAAMZIPEAAAAAAxsg6QAAAAADGyD1AAAAAILcpOkAAAAAAxkg8QAAAAODUZz5AAAAAAMbIOkAAAAAAxsg9QAAAAADGSDxAAAAA4L0ihb4AAAAArTt/vgAAAAAAAAAAAAAAAAAAAAAAAAAgtyk6QAAAAADGyDpAAAAAgHb4EEAAAAAAAAAIQAAAAODUZz5AAAAAAMbIPUAAAAAAAAAAAAAAAADGyDpAAAAAAAAAAAAAAAAAxkg8QAAAAAAAAAhAAAAAAMbIPUAAAAAAAAAAAAAAAADGSDxAAAAAAMZIPMAAAAAAxsg6wAAAAEA5ebo8AAAAAAAAAAAAAAAAxkg8wAAAAADGyD3AAAAAAAAACMAAAABAOXm6PAAAAADGSDzAAAAAAMbIPcAAAAAAxsg6wAAAAODUZz7AAAAAAMZIPMAAAAAgtyk6wAAAAADGyD3AAAAAAMbIOsAAAAAAxkg8wAAAAADGyDrAAAAAAAAAAAAAAAAArTt/PgAAAOC9IoU+AAAAILcpOsAAAAAAAAAAAAAAAADGyD3AAAAA4NRnPsAAAAAAAAAIwAAAAIB2+BDAAAAAILcpOsAAAAAAxsg6wAAAAOC9IoW+AAAAAK07f74AAAAAAAAAAAAAAAAAAAAAAAAA4NRnPsAAAACAdvgQwAAAAADGyD3AAAAAQP+JCMAAAAAAAAAIwAAAAADGyDrAAAAAAMZIPMAAAAAAAAAAAAAAAAAAAAAAAAAAAMbIPcAAAAAAAAAIwAAAAADGSDzAAAAAAAAAAAA=",
          "dtype": "f8"
         },
         "z": {
          "bdata": "AAAAAAAAAAAAAAAAAABOQAAAAAAAAAAAAAAAAAAATkAAAAAAAAAAAAAAAAAAAAAAAAAAAAAAAAAAAAAAAAAAAAAAAAAAAAAAAAAAAAAAAAAAAAAAAAAAAAAAAAAAAAAAAAAAAAAAAAAAAAAAAAAAAAAAAAAAAAAAAAAAAAAAAAAAAAAAAAAAAAAAAAAAAAAAAAAAAAAAAAAAAAAAAABOQAAAAAAAAE5AAAAAAAAAAAAAAAAAAAAAAAAAAAAAAE5AAAAAAAAATkAAAAAAAABOQAAAAAAAAE5AAAAAAAAATkAAAAAAAABOQAAAAAAAAE5AAAAAAAAATkAAAAAAAABOQAAAAAAAAE5AAAAAAAAATkAAAAAAAABOQAAAAAAAAE5AAAAAAAAATkAAAAAAAABOQAAAAAAAAE5AAAAAAAAATkAAAAAAAABOQAAAAAAAAE5AAAAAAAAATkAAAAAAAABOQAAAAAAAAE5AAAAAAAAATkAAAAAAAABOQAAAAAAAAAAAAAAAAAAAAAAAAAAAAABOQAAAAAAAAE5AAAAAAAAAAAAAAAAAAAAAAAAAAAAAAE5AAAAAAAAATkAAAAAAAAAAAAAAAAAAAE5AAAAAAAAAAAAAAAAAAABOQAAAAAAAAAAAAAAAAAAATkAAAAAAAAAAAAAAAAAAAE5AAAAAAAAAAAAAAAAAAAAAAAAAAAAAAE5AAAAAAAAATkAAAAAAAAAAAAAAAAAAAE5AAAAAAAAAAAAAAAAAAABOQAAAAAAAAAAAAAAAAAAAAAAAAAAAAABOQAAAAAAAAE5AAAAAAAAAAAAAAAAAAAAAAAAAAAAAAE5AAAAAAAAATkAAAAAAAAAAAAAAAAAAAAAAAAAAAAAATkAAAAAAAABOQAAAAAAAAE5AAAAAgDESVkAAAAAAAIBPQAAAAIAxclZAAAAAAAAATkAAAACAMRJWQAAAAAAAAE5AAAAAgDGyVUAAAAAAAIBPQAAAAACgiE9AAAAAQLEJUEAAAACAMXJWQAAAAGCHD1BAAAAAQPWZVkAAAAAAAABOQAAAAAAAAE5AAAAAgDGyVUAAAAAAAABOQAAAAMBtilVAAAAAgDESVkAAAACAMXJWQAAAAIAxslVAAAAAQPWZVkAAAACAMRJWQAAAAMBtilVAAAAAgDFyVkAAAACAMbJVQAAAAIAxElZAAAAAQLEJUEAAAAAAoIhPQAAAAGCHD1BAAAAAAACAT0AAAABA9ZlWQAAAAIAxclZAAAAAAAAATkAAAAAAAABOQAAAAMBtilVAAAAAgDGyVUAAAAAAAIBPQAAAAIAxclZAAAAAAAAATkAAAACAMRJWQAAAAAAAAE5AAAAAgDGyVUAAAAAAAABOQAAAAIAxElZAAAAAgDESVkAAAACAMXJWQAAAAAAAAE5AAAAAAACAT0AAAACAMRJWQAAAAIAxslVAAAAAAAAATkAAAAAAAABOQAAAAIAxElZAAAAAgDGyVUAAAACAMXJWQAAAAMBtilVAAAAAgDESVkAAAABA9ZlWQAAAAIAxslVAAAAAgDFyVkAAAACAMRJWQAAAAIAxclZAAAAAAACAT0AAAAAAoIhPQAAAAECxCVBAAAAAQPWZVkAAAABghw9QQAAAAIAxslVAAAAAwG2KVUAAAAAAAABOQAAAAAAAAE5AAAAAQPWZVkAAAACAMXJWQAAAAECxCVBAAAAAAKCIT0AAAABghw9QQAAAAAAAgE9AAAAAwG2KVUAAAAAAAABOQAAAAIAxslVAAAAAAAAATkAAAAAAAABOQAAAAIAxclZAAAAAgDESVkAAAAAAAIBPQAAAAAAAAE5AAAAAgDGyVUAAAAAAAABOQAAAAIAxElZAAAAAAAAATkA=",
          "dtype": "f8"
         }
        }
       ],
       "layout": {
        "height": 600,
        "scene": {
         "aspectmode": "data",
         "aspectratio": {
          "x": 1,
          "y": 1,
          "z": 0.8
         },
         "xaxis": {
          "title": {
           "text": "X (µm)"
          }
         },
         "yaxis": {
          "title": {
           "text": "Y (µm)"
          }
         },
         "zaxis": {
          "title": {
           "text": "Z (µm)"
          }
         }
        },
        "template": {
         "data": {
          "bar": [
           {
            "error_x": {
             "color": "#2a3f5f"
            },
            "error_y": {
             "color": "#2a3f5f"
            },
            "marker": {
             "line": {
              "color": "#E5ECF6",
              "width": 0.5
             },
             "pattern": {
              "fillmode": "overlay",
              "size": 10,
              "solidity": 0.2
             }
            },
            "type": "bar"
           }
          ],
          "barpolar": [
           {
            "marker": {
             "line": {
              "color": "#E5ECF6",
              "width": 0.5
             },
             "pattern": {
              "fillmode": "overlay",
              "size": 10,
              "solidity": 0.2
             }
            },
            "type": "barpolar"
           }
          ],
          "carpet": [
           {
            "aaxis": {
             "endlinecolor": "#2a3f5f",
             "gridcolor": "white",
             "linecolor": "white",
             "minorgridcolor": "white",
             "startlinecolor": "#2a3f5f"
            },
            "baxis": {
             "endlinecolor": "#2a3f5f",
             "gridcolor": "white",
             "linecolor": "white",
             "minorgridcolor": "white",
             "startlinecolor": "#2a3f5f"
            },
            "type": "carpet"
           }
          ],
          "choropleth": [
           {
            "colorbar": {
             "outlinewidth": 0,
             "ticks": ""
            },
            "type": "choropleth"
           }
          ],
          "contour": [
           {
            "colorbar": {
             "outlinewidth": 0,
             "ticks": ""
            },
            "colorscale": [
             [
              0,
              "#0d0887"
             ],
             [
              0.1111111111111111,
              "#46039f"
             ],
             [
              0.2222222222222222,
              "#7201a8"
             ],
             [
              0.3333333333333333,
              "#9c179e"
             ],
             [
              0.4444444444444444,
              "#bd3786"
             ],
             [
              0.5555555555555556,
              "#d8576b"
             ],
             [
              0.6666666666666666,
              "#ed7953"
             ],
             [
              0.7777777777777778,
              "#fb9f3a"
             ],
             [
              0.8888888888888888,
              "#fdca26"
             ],
             [
              1,
              "#f0f921"
             ]
            ],
            "type": "contour"
           }
          ],
          "contourcarpet": [
           {
            "colorbar": {
             "outlinewidth": 0,
             "ticks": ""
            },
            "type": "contourcarpet"
           }
          ],
          "heatmap": [
           {
            "colorbar": {
             "outlinewidth": 0,
             "ticks": ""
            },
            "colorscale": [
             [
              0,
              "#0d0887"
             ],
             [
              0.1111111111111111,
              "#46039f"
             ],
             [
              0.2222222222222222,
              "#7201a8"
             ],
             [
              0.3333333333333333,
              "#9c179e"
             ],
             [
              0.4444444444444444,
              "#bd3786"
             ],
             [
              0.5555555555555556,
              "#d8576b"
             ],
             [
              0.6666666666666666,
              "#ed7953"
             ],
             [
              0.7777777777777778,
              "#fb9f3a"
             ],
             [
              0.8888888888888888,
              "#fdca26"
             ],
             [
              1,
              "#f0f921"
             ]
            ],
            "type": "heatmap"
           }
          ],
          "histogram": [
           {
            "marker": {
             "pattern": {
              "fillmode": "overlay",
              "size": 10,
              "solidity": 0.2
             }
            },
            "type": "histogram"
           }
          ],
          "histogram2d": [
           {
            "colorbar": {
             "outlinewidth": 0,
             "ticks": ""
            },
            "colorscale": [
             [
              0,
              "#0d0887"
             ],
             [
              0.1111111111111111,
              "#46039f"
             ],
             [
              0.2222222222222222,
              "#7201a8"
             ],
             [
              0.3333333333333333,
              "#9c179e"
             ],
             [
              0.4444444444444444,
              "#bd3786"
             ],
             [
              0.5555555555555556,
              "#d8576b"
             ],
             [
              0.6666666666666666,
              "#ed7953"
             ],
             [
              0.7777777777777778,
              "#fb9f3a"
             ],
             [
              0.8888888888888888,
              "#fdca26"
             ],
             [
              1,
              "#f0f921"
             ]
            ],
            "type": "histogram2d"
           }
          ],
          "histogram2dcontour": [
           {
            "colorbar": {
             "outlinewidth": 0,
             "ticks": ""
            },
            "colorscale": [
             [
              0,
              "#0d0887"
             ],
             [
              0.1111111111111111,
              "#46039f"
             ],
             [
              0.2222222222222222,
              "#7201a8"
             ],
             [
              0.3333333333333333,
              "#9c179e"
             ],
             [
              0.4444444444444444,
              "#bd3786"
             ],
             [
              0.5555555555555556,
              "#d8576b"
             ],
             [
              0.6666666666666666,
              "#ed7953"
             ],
             [
              0.7777777777777778,
              "#fb9f3a"
             ],
             [
              0.8888888888888888,
              "#fdca26"
             ],
             [
              1,
              "#f0f921"
             ]
            ],
            "type": "histogram2dcontour"
           }
          ],
          "mesh3d": [
           {
            "colorbar": {
             "outlinewidth": 0,
             "ticks": ""
            },
            "type": "mesh3d"
           }
          ],
          "parcoords": [
           {
            "line": {
             "colorbar": {
              "outlinewidth": 0,
              "ticks": ""
             }
            },
            "type": "parcoords"
           }
          ],
          "pie": [
           {
            "automargin": true,
            "type": "pie"
           }
          ],
          "scatter": [
           {
            "fillpattern": {
             "fillmode": "overlay",
             "size": 10,
             "solidity": 0.2
            },
            "type": "scatter"
           }
          ],
          "scatter3d": [
           {
            "line": {
             "colorbar": {
              "outlinewidth": 0,
              "ticks": ""
             }
            },
            "marker": {
             "colorbar": {
              "outlinewidth": 0,
              "ticks": ""
             }
            },
            "type": "scatter3d"
           }
          ],
          "scattercarpet": [
           {
            "marker": {
             "colorbar": {
              "outlinewidth": 0,
              "ticks": ""
             }
            },
            "type": "scattercarpet"
           }
          ],
          "scattergeo": [
           {
            "marker": {
             "colorbar": {
              "outlinewidth": 0,
              "ticks": ""
             }
            },
            "type": "scattergeo"
           }
          ],
          "scattergl": [
           {
            "marker": {
             "colorbar": {
              "outlinewidth": 0,
              "ticks": ""
             }
            },
            "type": "scattergl"
           }
          ],
          "scattermap": [
           {
            "marker": {
             "colorbar": {
              "outlinewidth": 0,
              "ticks": ""
             }
            },
            "type": "scattermap"
           }
          ],
          "scattermapbox": [
           {
            "marker": {
             "colorbar": {
              "outlinewidth": 0,
              "ticks": ""
             }
            },
            "type": "scattermapbox"
           }
          ],
          "scatterpolar": [
           {
            "marker": {
             "colorbar": {
              "outlinewidth": 0,
              "ticks": ""
             }
            },
            "type": "scatterpolar"
           }
          ],
          "scatterpolargl": [
           {
            "marker": {
             "colorbar": {
              "outlinewidth": 0,
              "ticks": ""
             }
            },
            "type": "scatterpolargl"
           }
          ],
          "scatterternary": [
           {
            "marker": {
             "colorbar": {
              "outlinewidth": 0,
              "ticks": ""
             }
            },
            "type": "scatterternary"
           }
          ],
          "surface": [
           {
            "colorbar": {
             "outlinewidth": 0,
             "ticks": ""
            },
            "colorscale": [
             [
              0,
              "#0d0887"
             ],
             [
              0.1111111111111111,
              "#46039f"
             ],
             [
              0.2222222222222222,
              "#7201a8"
             ],
             [
              0.3333333333333333,
              "#9c179e"
             ],
             [
              0.4444444444444444,
              "#bd3786"
             ],
             [
              0.5555555555555556,
              "#d8576b"
             ],
             [
              0.6666666666666666,
              "#ed7953"
             ],
             [
              0.7777777777777778,
              "#fb9f3a"
             ],
             [
              0.8888888888888888,
              "#fdca26"
             ],
             [
              1,
              "#f0f921"
             ]
            ],
            "type": "surface"
           }
          ],
          "table": [
           {
            "cells": {
             "fill": {
              "color": "#EBF0F8"
             },
             "line": {
              "color": "white"
             }
            },
            "header": {
             "fill": {
              "color": "#C8D4E3"
             },
             "line": {
              "color": "white"
             }
            },
            "type": "table"
           }
          ]
         },
         "layout": {
          "annotationdefaults": {
           "arrowcolor": "#2a3f5f",
           "arrowhead": 0,
           "arrowwidth": 1
          },
          "autotypenumbers": "strict",
          "coloraxis": {
           "colorbar": {
            "outlinewidth": 0,
            "ticks": ""
           }
          },
          "colorscale": {
           "diverging": [
            [
             0,
             "#8e0152"
            ],
            [
             0.1,
             "#c51b7d"
            ],
            [
             0.2,
             "#de77ae"
            ],
            [
             0.3,
             "#f1b6da"
            ],
            [
             0.4,
             "#fde0ef"
            ],
            [
             0.5,
             "#f7f7f7"
            ],
            [
             0.6,
             "#e6f5d0"
            ],
            [
             0.7,
             "#b8e186"
            ],
            [
             0.8,
             "#7fbc41"
            ],
            [
             0.9,
             "#4d9221"
            ],
            [
             1,
             "#276419"
            ]
           ],
           "sequential": [
            [
             0,
             "#0d0887"
            ],
            [
             0.1111111111111111,
             "#46039f"
            ],
            [
             0.2222222222222222,
             "#7201a8"
            ],
            [
             0.3333333333333333,
             "#9c179e"
            ],
            [
             0.4444444444444444,
             "#bd3786"
            ],
            [
             0.5555555555555556,
             "#d8576b"
            ],
            [
             0.6666666666666666,
             "#ed7953"
            ],
            [
             0.7777777777777778,
             "#fb9f3a"
            ],
            [
             0.8888888888888888,
             "#fdca26"
            ],
            [
             1,
             "#f0f921"
            ]
           ],
           "sequentialminus": [
            [
             0,
             "#0d0887"
            ],
            [
             0.1111111111111111,
             "#46039f"
            ],
            [
             0.2222222222222222,
             "#7201a8"
            ],
            [
             0.3333333333333333,
             "#9c179e"
            ],
            [
             0.4444444444444444,
             "#bd3786"
            ],
            [
             0.5555555555555556,
             "#d8576b"
            ],
            [
             0.6666666666666666,
             "#ed7953"
            ],
            [
             0.7777777777777778,
             "#fb9f3a"
            ],
            [
             0.8888888888888888,
             "#fdca26"
            ],
            [
             1,
             "#f0f921"
            ]
           ]
          },
          "colorway": [
           "#636efa",
           "#EF553B",
           "#00cc96",
           "#ab63fa",
           "#FFA15A",
           "#19d3f3",
           "#FF6692",
           "#B6E880",
           "#FF97FF",
           "#FECB52"
          ],
          "font": {
           "color": "#2a3f5f"
          },
          "geo": {
           "bgcolor": "white",
           "lakecolor": "white",
           "landcolor": "#E5ECF6",
           "showlakes": true,
           "showland": true,
           "subunitcolor": "white"
          },
          "hoverlabel": {
           "align": "left"
          },
          "hovermode": "closest",
          "mapbox": {
           "style": "light"
          },
          "paper_bgcolor": "white",
          "plot_bgcolor": "#E5ECF6",
          "polar": {
           "angularaxis": {
            "gridcolor": "white",
            "linecolor": "white",
            "ticks": ""
           },
           "bgcolor": "#E5ECF6",
           "radialaxis": {
            "gridcolor": "white",
            "linecolor": "white",
            "ticks": ""
           }
          },
          "scene": {
           "xaxis": {
            "backgroundcolor": "#E5ECF6",
            "gridcolor": "white",
            "gridwidth": 2,
            "linecolor": "white",
            "showbackground": true,
            "ticks": "",
            "zerolinecolor": "white"
           },
           "yaxis": {
            "backgroundcolor": "#E5ECF6",
            "gridcolor": "white",
            "gridwidth": 2,
            "linecolor": "white",
            "showbackground": true,
            "ticks": "",
            "zerolinecolor": "white"
           },
           "zaxis": {
            "backgroundcolor": "#E5ECF6",
            "gridcolor": "white",
            "gridwidth": 2,
            "linecolor": "white",
            "showbackground": true,
            "ticks": "",
            "zerolinecolor": "white"
           }
          },
          "shapedefaults": {
           "line": {
            "color": "#2a3f5f"
           }
          },
          "ternary": {
           "aaxis": {
            "gridcolor": "white",
            "linecolor": "white",
            "ticks": ""
           },
           "baxis": {
            "gridcolor": "white",
            "linecolor": "white",
            "ticks": ""
           },
           "bgcolor": "#E5ECF6",
           "caxis": {
            "gridcolor": "white",
            "linecolor": "white",
            "ticks": ""
           }
          },
          "title": {
           "x": 0.05
          },
          "xaxis": {
           "automargin": true,
           "gridcolor": "white",
           "linecolor": "white",
           "ticks": "",
           "title": {
            "standoff": 15
           },
           "zerolinecolor": "white",
           "zerolinewidth": 2
          },
          "yaxis": {
           "automargin": true,
           "gridcolor": "white",
           "linecolor": "white",
           "ticks": "",
           "title": {
            "standoff": 15
           },
           "zerolinecolor": "white",
           "zerolinewidth": 2
          }
         }
        },
        "title": {
         "text": "Y-Branch Dendritic Structure"
        },
        "width": 800
       }
      }
     },
     "metadata": {},
     "output_type": "display_data"
    }
   ],
   "source": [
    "# Visualize the Y-branch\n",
    "fig = visualize_mesh_3d(\n",
    "    y_branch, \n",
    "    title=\"Y-Branch Dendritic Structure\",\n",
    "    color=\"lightgreen\",\n",
    "    backend=\"plotly\"\n",
    ")\n",
    "fig.show()"
   ]
  },
  {
   "cell_type": "code",
   "execution_count": null,
   "id": "02a371fc",
   "metadata": {},
   "outputs": [],
   "source": [
    "# Interactive slice view of the Y-branch - see how the branch junction appears\n",
    "fig_ybranch_slice = visualize_mesh_slice_interactive(\n",
    "    y_branch,\n",
    "    title=\"Interactive Y-Branch Cross-Sections\",\n",
    "    slice_color=\"darkgreen\",\n",
    "    mesh_color=\"lightgreen\",\n",
    "    mesh_opacity=0.3\n",
    ")\n",
    "fig_ybranch_slice.show()"
   ]
  },
  {
   "cell_type": "markdown",
   "id": "9bea7153",
   "metadata": {},
   "source": [
    "## 4. Creating a Multi-Branch Structure\n",
    "\n",
    "Let's create a more complex structure with multiple branches:"
   ]
  },
  {
   "cell_type": "code",
   "execution_count": 8,
   "id": "d5d670fe",
   "metadata": {},
   "outputs": [
    {
     "name": "stdout",
     "output_type": "stream",
     "text": [
      "Created multi-branch with 325 vertices and 224 faces\n"
     ]
    }
   ],
   "source": [
    "# Create a structure with 4 branches\n",
    "multi_branch = create_branching_mesh(\n",
    "    trunk_length=50.0,\n",
    "    trunk_radius=6.0,\n",
    "    branch_length=35.0,\n",
    "    branch_radius=3.5,\n",
    "    branch_angle=60.0,     # Wider angle\n",
    "    num_branches=4,        # Four branches\n",
    "    smooth_junctions=True\n",
    ")\n",
    "\n",
    "print(f\"Created multi-branch with {len(multi_branch.vertices)} vertices and {len(multi_branch.faces)} faces\")"
   ]
  },
  {
   "cell_type": "code",
   "execution_count": 9,
   "id": "b10eeebe",
   "metadata": {},
   "outputs": [
    {
     "data": {
      "application/vnd.plotly.v1+json": {
       "config": {
        "plotlyServerURL": "https://plot.ly"
       },
       "data": [
        {
         "color": "orange",
         "i": {
          "bdata": "AAAAAAEAAgADAAQABQAFAAkACQANAA0ADwAPAA8ADwAVABUAFQAVABsAHwAbABsAIQAiACIAJgAoACcAJwAsAC0ALAAtADIAMgAyADIAOAA4ADkAOgA9AD0AOwA9AEEAQgBCAEMARwBHAEcATQBMAEwATQBSAFYAVgBWAFgAWABZAFgAXgBgAF4AXgBkAGQAZQBkAGoAawBqAGsAcABwAHEAcgB0AHcAdQB2AHMAeAB4AHgAfQB+AIEAgwCBAIkAhgCJAIsAiwCLAI8AjwCLAJMAkwCTAJgAmACdAJwAnACmAKYAogChAKIAowCqAKkAqgCuAK8AsgC1ALMAuAC3ALkAuQC5AL0AvwC/AL8AxADIAMUAyQDJAM8AzgDPANQA1ADUANUA1gDWANcA2wDeANwA3QDhAOIA4wDjAOgA5wDoAOkA7QDuAO4A7QDyAPMA8wDwAPkA+QD5APsA/AAAAQABAAEGAQYBBwEGAQgBCQEIAQ4BEgESARIBGAETARgBFgEeAR0BHQEeASEBIQEhASQBJgElASYBKwErASsBJwExATEBMQEwATgBOAE3ATcBPgE+AT0BPgFDAUMBRAFDAQ==",
          "dtype": "i2"
         },
         "j": {
          "bdata": "BQABAAIABwAFAAUACAAHAA0ACgAOAAwAEwASABQAEQAZABgAGgAXAB4AHgAcAB0AIgAkACUAJwAqACoAKwAtADEALwAwADQANgA1ADcAOwA9AD0APQA/ADwAPABAAEIARQBGAEUASwBIAEkAUABNAE8AUQBWAFQAVQBXAFwAWgBcAFsAYwBhAGAAYgBpAGYAaQBnAGsAbQBsAG4AeAByAHgAcwB5AHgAeAB4AHQAeQB8AHoAfgCAAIMAhQCCAIgAiQCKAI8AkgCNAJAAkQCMAJcAlgCVAJoAmwCeAJ0AoACnAKUApQCjAKMApACtAKoArACvALEAtQC2ALUAuQC5AL0AvAC7AL4AwwDBAMIAxQDHAMgAzADLAM0AzwDUAM0A0wDSANYA1wDZANoA3ADfAN0A3wDiAOMA5gDlAOwA6gDqAOwA8wDzAPIA7wD0APQA9QDzAPsA+gD3APgA/QD9AP8A/gAEAQUBAwEDAQwBDAELAQ0BDgEPARABFAEYARMBGAEaARsBHAEdAR8BIAEiAScBKwErASQBKAEqASwBKAEwAS4BLwEtATYBNQE0ATgBPAE5AT4BOgFAAT8BQgFCAQ==",
          "dtype": "i2"
         },
         "k": {
          "bdata": "AwAFAAUABQAEAAYABgAIAAoACwAMAAoAFAATABAAEgAaABkAFgAYAB8AIAAdAB4AIwAjACQAKAApACgAKgAvADAALgAvADMANQA0ADYAPQA5ADoAPgBAAD8APQA+AEMAQwBFAEQASgBJAEsATwBPAE4AUABTAFMAVABVAFkAWwBdAFwAXwBiAGIAYwBlAGcAaABpAGwAbABvAG0AcQB4AHUAeAB4AHsAdgB3AHgAegB7AHwAfwB/AIQAhACDAIcAhwCIAJIAjQCMAJIAkACOAJQAlwCWAJsAmQCgAKAAnwCoAKcApgCiAKUApQCsAKsAqwCwALAAswC0ALQAugC4ALwAuwC6ALwAwADCAMMAxgDGAMYAygDMANQA0ADQANIA0QDTANgA2QDYANkA4ADdAOAA4ADkAOQA5ADmAOkA6ADsAOsA8ADvAPMA8wDzAPUA8QDxAPcA+wD2APcAAAH+AAEB/wAFAQMBAgEHAQkBCgEMARABEAEOAREBFQEXARQBFQEZARwBGgEaASABIgEjASsBJQEpASsBLAEpASoBKwEuAS8BMgEuATUBNAEzATQBOwE6ATsBPAFCAUABQQFEAQ==",
          "dtype": "i2"
         },
         "name": "Mesh",
         "opacity": 0.8,
         "type": "mesh3d",
         "x": {
          "bdata": "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",
          "dtype": "f8"
         },
         "y": {
          "bdata": "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",
          "dtype": "f8"
         },
         "z": {
          "bdata": "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",
          "dtype": "f8"
         }
        }
       ],
       "layout": {
        "height": 600,
        "scene": {
         "aspectmode": "data",
         "aspectratio": {
          "x": 1,
          "y": 1,
          "z": 0.8
         },
         "xaxis": {
          "title": {
           "text": "X (µm)"
          }
         },
         "yaxis": {
          "title": {
           "text": "Y (µm)"
          }
         },
         "zaxis": {
          "title": {
           "text": "Z (µm)"
          }
         }
        },
        "template": {
         "data": {
          "bar": [
           {
            "error_x": {
             "color": "#2a3f5f"
            },
            "error_y": {
             "color": "#2a3f5f"
            },
            "marker": {
             "line": {
              "color": "#E5ECF6",
              "width": 0.5
             },
             "pattern": {
              "fillmode": "overlay",
              "size": 10,
              "solidity": 0.2
             }
            },
            "type": "bar"
           }
          ],
          "barpolar": [
           {
            "marker": {
             "line": {
              "color": "#E5ECF6",
              "width": 0.5
             },
             "pattern": {
              "fillmode": "overlay",
              "size": 10,
              "solidity": 0.2
             }
            },
            "type": "barpolar"
           }
          ],
          "carpet": [
           {
            "aaxis": {
             "endlinecolor": "#2a3f5f",
             "gridcolor": "white",
             "linecolor": "white",
             "minorgridcolor": "white",
             "startlinecolor": "#2a3f5f"
            },
            "baxis": {
             "endlinecolor": "#2a3f5f",
             "gridcolor": "white",
             "linecolor": "white",
             "minorgridcolor": "white",
             "startlinecolor": "#2a3f5f"
            },
            "type": "carpet"
           }
          ],
          "choropleth": [
           {
            "colorbar": {
             "outlinewidth": 0,
             "ticks": ""
            },
            "type": "choropleth"
           }
          ],
          "contour": [
           {
            "colorbar": {
             "outlinewidth": 0,
             "ticks": ""
            },
            "colorscale": [
             [
              0,
              "#0d0887"
             ],
             [
              0.1111111111111111,
              "#46039f"
             ],
             [
              0.2222222222222222,
              "#7201a8"
             ],
             [
              0.3333333333333333,
              "#9c179e"
             ],
             [
              0.4444444444444444,
              "#bd3786"
             ],
             [
              0.5555555555555556,
              "#d8576b"
             ],
             [
              0.6666666666666666,
              "#ed7953"
             ],
             [
              0.7777777777777778,
              "#fb9f3a"
             ],
             [
              0.8888888888888888,
              "#fdca26"
             ],
             [
              1,
              "#f0f921"
             ]
            ],
            "type": "contour"
           }
          ],
          "contourcarpet": [
           {
            "colorbar": {
             "outlinewidth": 0,
             "ticks": ""
            },
            "type": "contourcarpet"
           }
          ],
          "heatmap": [
           {
            "colorbar": {
             "outlinewidth": 0,
             "ticks": ""
            },
            "colorscale": [
             [
              0,
              "#0d0887"
             ],
             [
              0.1111111111111111,
              "#46039f"
             ],
             [
              0.2222222222222222,
              "#7201a8"
             ],
             [
              0.3333333333333333,
              "#9c179e"
             ],
             [
              0.4444444444444444,
              "#bd3786"
             ],
             [
              0.5555555555555556,
              "#d8576b"
             ],
             [
              0.6666666666666666,
              "#ed7953"
             ],
             [
              0.7777777777777778,
              "#fb9f3a"
             ],
             [
              0.8888888888888888,
              "#fdca26"
             ],
             [
              1,
              "#f0f921"
             ]
            ],
            "type": "heatmap"
           }
          ],
          "histogram": [
           {
            "marker": {
             "pattern": {
              "fillmode": "overlay",
              "size": 10,
              "solidity": 0.2
             }
            },
            "type": "histogram"
           }
          ],
          "histogram2d": [
           {
            "colorbar": {
             "outlinewidth": 0,
             "ticks": ""
            },
            "colorscale": [
             [
              0,
              "#0d0887"
             ],
             [
              0.1111111111111111,
              "#46039f"
             ],
             [
              0.2222222222222222,
              "#7201a8"
             ],
             [
              0.3333333333333333,
              "#9c179e"
             ],
             [
              0.4444444444444444,
              "#bd3786"
             ],
             [
              0.5555555555555556,
              "#d8576b"
             ],
             [
              0.6666666666666666,
              "#ed7953"
             ],
             [
              0.7777777777777778,
              "#fb9f3a"
             ],
             [
              0.8888888888888888,
              "#fdca26"
             ],
             [
              1,
              "#f0f921"
             ]
            ],
            "type": "histogram2d"
           }
          ],
          "histogram2dcontour": [
           {
            "colorbar": {
             "outlinewidth": 0,
             "ticks": ""
            },
            "colorscale": [
             [
              0,
              "#0d0887"
             ],
             [
              0.1111111111111111,
              "#46039f"
             ],
             [
              0.2222222222222222,
              "#7201a8"
             ],
             [
              0.3333333333333333,
              "#9c179e"
             ],
             [
              0.4444444444444444,
              "#bd3786"
             ],
             [
              0.5555555555555556,
              "#d8576b"
             ],
             [
              0.6666666666666666,
              "#ed7953"
             ],
             [
              0.7777777777777778,
              "#fb9f3a"
             ],
             [
              0.8888888888888888,
              "#fdca26"
             ],
             [
              1,
              "#f0f921"
             ]
            ],
            "type": "histogram2dcontour"
           }
          ],
          "mesh3d": [
           {
            "colorbar": {
             "outlinewidth": 0,
             "ticks": ""
            },
            "type": "mesh3d"
           }
          ],
          "parcoords": [
           {
            "line": {
             "colorbar": {
              "outlinewidth": 0,
              "ticks": ""
             }
            },
            "type": "parcoords"
           }
          ],
          "pie": [
           {
            "automargin": true,
            "type": "pie"
           }
          ],
          "scatter": [
           {
            "fillpattern": {
             "fillmode": "overlay",
             "size": 10,
             "solidity": 0.2
            },
            "type": "scatter"
           }
          ],
          "scatter3d": [
           {
            "line": {
             "colorbar": {
              "outlinewidth": 0,
              "ticks": ""
             }
            },
            "marker": {
             "colorbar": {
              "outlinewidth": 0,
              "ticks": ""
             }
            },
            "type": "scatter3d"
           }
          ],
          "scattercarpet": [
           {
            "marker": {
             "colorbar": {
              "outlinewidth": 0,
              "ticks": ""
             }
            },
            "type": "scattercarpet"
           }
          ],
          "scattergeo": [
           {
            "marker": {
             "colorbar": {
              "outlinewidth": 0,
              "ticks": ""
             }
            },
            "type": "scattergeo"
           }
          ],
          "scattergl": [
           {
            "marker": {
             "colorbar": {
              "outlinewidth": 0,
              "ticks": ""
             }
            },
            "type": "scattergl"
           }
          ],
          "scattermap": [
           {
            "marker": {
             "colorbar": {
              "outlinewidth": 0,
              "ticks": ""
             }
            },
            "type": "scattermap"
           }
          ],
          "scattermapbox": [
           {
            "marker": {
             "colorbar": {
              "outlinewidth": 0,
              "ticks": ""
             }
            },
            "type": "scattermapbox"
           }
          ],
          "scatterpolar": [
           {
            "marker": {
             "colorbar": {
              "outlinewidth": 0,
              "ticks": ""
             }
            },
            "type": "scatterpolar"
           }
          ],
          "scatterpolargl": [
           {
            "marker": {
             "colorbar": {
              "outlinewidth": 0,
              "ticks": ""
             }
            },
            "type": "scatterpolargl"
           }
          ],
          "scatterternary": [
           {
            "marker": {
             "colorbar": {
              "outlinewidth": 0,
              "ticks": ""
             }
            },
            "type": "scatterternary"
           }
          ],
          "surface": [
           {
            "colorbar": {
             "outlinewidth": 0,
             "ticks": ""
            },
            "colorscale": [
             [
              0,
              "#0d0887"
             ],
             [
              0.1111111111111111,
              "#46039f"
             ],
             [
              0.2222222222222222,
              "#7201a8"
             ],
             [
              0.3333333333333333,
              "#9c179e"
             ],
             [
              0.4444444444444444,
              "#bd3786"
             ],
             [
              0.5555555555555556,
              "#d8576b"
             ],
             [
              0.6666666666666666,
              "#ed7953"
             ],
             [
              0.7777777777777778,
              "#fb9f3a"
             ],
             [
              0.8888888888888888,
              "#fdca26"
             ],
             [
              1,
              "#f0f921"
             ]
            ],
            "type": "surface"
           }
          ],
          "table": [
           {
            "cells": {
             "fill": {
              "color": "#EBF0F8"
             },
             "line": {
              "color": "white"
             }
            },
            "header": {
             "fill": {
              "color": "#C8D4E3"
             },
             "line": {
              "color": "white"
             }
            },
            "type": "table"
           }
          ]
         },
         "layout": {
          "annotationdefaults": {
           "arrowcolor": "#2a3f5f",
           "arrowhead": 0,
           "arrowwidth": 1
          },
          "autotypenumbers": "strict",
          "coloraxis": {
           "colorbar": {
            "outlinewidth": 0,
            "ticks": ""
           }
          },
          "colorscale": {
           "diverging": [
            [
             0,
             "#8e0152"
            ],
            [
             0.1,
             "#c51b7d"
            ],
            [
             0.2,
             "#de77ae"
            ],
            [
             0.3,
             "#f1b6da"
            ],
            [
             0.4,
             "#fde0ef"
            ],
            [
             0.5,
             "#f7f7f7"
            ],
            [
             0.6,
             "#e6f5d0"
            ],
            [
             0.7,
             "#b8e186"
            ],
            [
             0.8,
             "#7fbc41"
            ],
            [
             0.9,
             "#4d9221"
            ],
            [
             1,
             "#276419"
            ]
           ],
           "sequential": [
            [
             0,
             "#0d0887"
            ],
            [
             0.1111111111111111,
             "#46039f"
            ],
            [
             0.2222222222222222,
             "#7201a8"
            ],
            [
             0.3333333333333333,
             "#9c179e"
            ],
            [
             0.4444444444444444,
             "#bd3786"
            ],
            [
             0.5555555555555556,
             "#d8576b"
            ],
            [
             0.6666666666666666,
             "#ed7953"
            ],
            [
             0.7777777777777778,
             "#fb9f3a"
            ],
            [
             0.8888888888888888,
             "#fdca26"
            ],
            [
             1,
             "#f0f921"
            ]
           ],
           "sequentialminus": [
            [
             0,
             "#0d0887"
            ],
            [
             0.1111111111111111,
             "#46039f"
            ],
            [
             0.2222222222222222,
             "#7201a8"
            ],
            [
             0.3333333333333333,
             "#9c179e"
            ],
            [
             0.4444444444444444,
             "#bd3786"
            ],
            [
             0.5555555555555556,
             "#d8576b"
            ],
            [
             0.6666666666666666,
             "#ed7953"
            ],
            [
             0.7777777777777778,
             "#fb9f3a"
            ],
            [
             0.8888888888888888,
             "#fdca26"
            ],
            [
             1,
             "#f0f921"
            ]
           ]
          },
          "colorway": [
           "#636efa",
           "#EF553B",
           "#00cc96",
           "#ab63fa",
           "#FFA15A",
           "#19d3f3",
           "#FF6692",
           "#B6E880",
           "#FF97FF",
           "#FECB52"
          ],
          "font": {
           "color": "#2a3f5f"
          },
          "geo": {
           "bgcolor": "white",
           "lakecolor": "white",
           "landcolor": "#E5ECF6",
           "showlakes": true,
           "showland": true,
           "subunitcolor": "white"
          },
          "hoverlabel": {
           "align": "left"
          },
          "hovermode": "closest",
          "mapbox": {
           "style": "light"
          },
          "paper_bgcolor": "white",
          "plot_bgcolor": "#E5ECF6",
          "polar": {
           "angularaxis": {
            "gridcolor": "white",
            "linecolor": "white",
            "ticks": ""
           },
           "bgcolor": "#E5ECF6",
           "radialaxis": {
            "gridcolor": "white",
            "linecolor": "white",
            "ticks": ""
           }
          },
          "scene": {
           "xaxis": {
            "backgroundcolor": "#E5ECF6",
            "gridcolor": "white",
            "gridwidth": 2,
            "linecolor": "white",
            "showbackground": true,
            "ticks": "",
            "zerolinecolor": "white"
           },
           "yaxis": {
            "backgroundcolor": "#E5ECF6",
            "gridcolor": "white",
            "gridwidth": 2,
            "linecolor": "white",
            "showbackground": true,
            "ticks": "",
            "zerolinecolor": "white"
           },
           "zaxis": {
            "backgroundcolor": "#E5ECF6",
            "gridcolor": "white",
            "gridwidth": 2,
            "linecolor": "white",
            "showbackground": true,
            "ticks": "",
            "zerolinecolor": "white"
           }
          },
          "shapedefaults": {
           "line": {
            "color": "#2a3f5f"
           }
          },
          "ternary": {
           "aaxis": {
            "gridcolor": "white",
            "linecolor": "white",
            "ticks": ""
           },
           "baxis": {
            "gridcolor": "white",
            "linecolor": "white",
            "ticks": ""
           },
           "bgcolor": "#E5ECF6",
           "caxis": {
            "gridcolor": "white",
            "linecolor": "white",
            "ticks": ""
           }
          },
          "title": {
           "x": 0.05
          },
          "xaxis": {
           "automargin": true,
           "gridcolor": "white",
           "linecolor": "white",
           "ticks": "",
           "title": {
            "standoff": 15
           },
           "zerolinecolor": "white",
           "zerolinewidth": 2
          },
          "yaxis": {
           "automargin": true,
           "gridcolor": "white",
           "linecolor": "white",
           "ticks": "",
           "title": {
            "standoff": 15
           },
           "zerolinecolor": "white",
           "zerolinewidth": 2
          }
         }
        },
        "title": {
         "text": "Multi-Branch Dendritic Tree"
        },
        "width": 800
       }
      }
     },
     "metadata": {},
     "output_type": "display_data"
    }
   ],
   "source": [
    "# Visualize the multi-branch structure\n",
    "fig = visualize_mesh_3d(\n",
    "    multi_branch, \n",
    "    title=\"Multi-Branch Dendritic Tree\",\n",
    "    color=\"orange\",\n",
    "    backend=\"plotly\",\n",
    "    show_wireframe=True,  # Show wireframe for better structure visibility\n",
    ")\n",
    "fig.show()"
   ]
  },
  {
   "cell_type": "code",
   "execution_count": null,
   "id": "2553181c",
   "metadata": {},
   "outputs": [],
   "source": [
    "# Interactive slice view of the multi-branch - explore the complex junction\n",
    "fig_multibranch_slice = visualize_mesh_slice_interactive(\n",
    "    multi_branch,\n",
    "    title=\"Interactive Multi-Branch Cross-Sections\",\n",
    "    slice_color=\"darkorange\",\n",
    "    mesh_color=\"orange\",\n",
    "    mesh_opacity=0.3\n",
    ")\n",
    "fig_multibranch_slice.show()"
   ]
  },
  {
   "cell_type": "markdown",
   "id": "1354174a",
   "metadata": {},
   "source": [
    "## 5. Creating a Complete Neuron\n",
    "\n",
    "Finally, let's create a simplified but complete neuron with soma, dendrites, and axon:"
   ]
  },
  {
   "cell_type": "code",
   "execution_count": 20,
   "id": "0f614512",
   "metadata": {},
   "outputs": [
    {
     "name": "stdout",
     "output_type": "stream",
     "text": [
      "Created neuron with 320 vertices and 636 faces\n",
      "Total volume: 5122.76 μm³\n",
      "Total surface area: 2475.50 μm²\n"
     ]
    }
   ],
   "source": [
    "# Create a simplified neuron\n",
    "neuron = create_demo_neuron_mesh(\n",
    "    soma_radius=10.0,        # Cell body 10 μm radius\n",
    "    dendrite_length=20.0,    # Dendrites 20 μm long\n",
    "    dendrite_radius=2.0,     # Dendrites 2 μm radius\n",
    "    axon_length=50.0,       # Axon 50 μm long\n",
    "    axon_radius=1.5,         # Axon 1.5 μm radius\n",
    "    num_dendrites=4,         # 4 dendrites\n",
    "    dendrite_angle=30.0      # Dendrites at 30° from vertical\n",
    ")\n",
    "\n",
    "print(f\"Created neuron with {len(neuron.vertices)} vertices and {len(neuron.faces)} faces\")\n",
    "print(f\"Total volume: {neuron.volume:.2f} μm³\")\n",
    "print(f\"Total surface area: {neuron.area:.2f} μm²\")"
   ]
  },
  {
   "cell_type": "code",
   "execution_count": 21,
   "id": "a43c653f",
   "metadata": {},
   "outputs": [
    {
     "data": {
      "application/vnd.plotly.v1+json": {
       "config": {
        "plotlyServerURL": "https://plot.ly"
       },
       "data": [
        {
         "color": "coral",
         "i": {
          "bdata": "YQBhAI4AjgCOAI8AjwCPAGEAkACQAJAAkgCSAJYAjgCPAJQAlACUAJQAlQCWAJYAlQCSAJIAYQBhAJAAkgBhAI4AYQCQAI8AkQCUAJUAkQCRAAYAEQASAAYAEwATABMAEwASABIAEgARABIABgAGABQAFQAGAAYAEQARABIAEQAUABEABgAWABcAFAAVABUAGQAVABkAFgAWABYAFwAXABcAGQAZABkApwCoAKcAqACnAKoAqwCsAKwArACrAKsApwCrAK0AsACoAKcApwCoAKoAqgCqAKoApwCrAKsArQCtAK0A2ACqAK8ArwCvAK8AsACwALAA2ADYADMBMwEzATQBNAE0ATUBNQE1ATMBNgEzATYBNgE3AT8BOgE3AToBOQE6AToBMwE0AT8BPwEzATYBOQE5ATkBNQE6ATcBOQEzATYBMwE0ATUBNwE4ATgBAAABAAAAAAAAAAEAAAABAAAAlwBHAEgASQBHAEgASQBHAEgASABJAJcAmACZAJcAmACZAJgAmQCZAOsA5wDnAOcA6ADpAOgA6gDpAOgA6QACAAMAAwAEAAcADgAHAA4ACAAHAAgAEAAJAAoAAgAKAAMACwAJAAsACAAMAAUACgAPABAAEAANABgAGAAYAB0AHAACAAIAHQAbAAMAAgAcAAQABQAFAB4AHwAdACAAIQAgABoAIwAiAB8AJAAlACUAJQAlAAIACgAbACkABQAPACkAGwAjACoAKgArACsAKwArALMADQAkACQAJAAvAC8ALwAvABgALwAvAC8ALwAvAC8ALwBBAEEAJABBAEEA9wD3AEEA9wD3AE8ASgBLAEwATQBKAEwATQAPAE8AUQAPABgAUwBTAFAAVQBRAFUATQBOAE4AUwBUAFYAWAAYAFwAXABcAFwAXABUAF4AVwBeAGIAKwBiAFUAVQBlAGMAWAArAGUAZQBlAGUAZQDwAGkAaQBpAFwAXABuAG4AWABuAHwAfABuAPcAdAB1AHUA9wD3APcAdgB5AHkA9wB2AHwAfAB8AHwAfAB8AHwAXQBdAIMAhgBgAF0AXgBfAF8AYACNAIcAhgCFAIkAhACIAIwAhgCKAIsAigCTAJMAkwAhACEAmwCaACIAIgCbAJ0AIwAjAJ4AngAlAJ0AoACjAJwAmwCfAKEAogCdAKkAowCjAKUApQClAKQAqQCpAKkAsQCxAJ8AswCzALMAuAC4ALgAogCyAKIAogCuALgAuQDAAKkAwADAAKkAwADAAMEA9wDDAMMAxwD3APcA9wDIAMgAyQD3AK4AwADAAMAArgDPAM8AzwDjANQA1QDWANUA1AC5ANkA2gDXANUA1gDaANwA3QDiANkA3gDgAOAA4QDfAN8A4QDiAOEA4gDgANsA4wDjAOMA4wDjAPAA8ADyAPIA8gC4APAA8AD0APQAuADyAPUA8gD0ABgBGAEiAfcA9wD3APcA9wD3AP4AIgH+AP4A/gAQARABEAH+ABABEAEyARABEAEQARABIgEiASIBIgGJAIkAEgERAZMAIQEXAYsAiwAVARQBjACMABUBFwESARUBGAEZASEBFwEiARoBGgEcARwBHAEaARYBkwAhASEBIQEhAd4A3gAjASMB4wAnAScBIwEoASgBJQEqATABMQEnATEBPAE9ASQBLQEuAS8BLQEwAS8BMAEyATIBMgEyATsBPQE8ATwB",
          "dtype": "i2"
         },
         "j": {
          "bdata": "WQBaADQAMwA1ADcAOAA5ADYAWwBqAGsAbABtAHMANwBEAEQARQByAHEAdwB0AHUAdgBvAHAANACQAJIAlgCOAI8AkQCRAJQAlgB2AHUAlACVABMAEwATABYAFgAXABUAGQAxADAAMgASABQAEQC7ABUAGQAnACgAOwA6ADwAPQA+ACYAugC+AMMAPwBAAEIARgBDAMUAuwC8AL0AxAC/AL4AwQDCAMMArACsAKgAqgCrAKwArQCtALAA2ADNAM4AzQDSAOUA2ADHAMgAyQDGAMsAzAD6APsAygDQANEA0gDTAOQACQGvALAABgEHAQgBCgEMAQsB5QDmAHkAegB7AH4AfQB4AH8AgACBAPgA/AD5AP0A/wAAAYIAIAEBAQIBAwEFAQQBNAE1AR4BHwH8AAABDQEPAQ4BPwEfAQ0BBAE2ATcBOAE4ATgBOQE5AToBRwDnAOcAAQBkAJcALQAuACwAtABIAEkA6gBmAGgA7wBkAGYAZwBoAOcA5wDnAJgAmQDrALUAtgC3APEA6ADqAOkA6gDxAO0A7wDuAOwA7QADAAQAHAAFAAsASgAIAAcAEABLAEwAUgAHAAkACQAPAAsABAALAAwADAANAA0ADgAOAA0AGAAvADMANAA2ACAAIAAaABsAGgAjAB0AHQAeAB4AHgAfACIAJQAhACIAmgCaAJ4AngCgAKAAJQAmACcAKACpAAoAKQApACsAJABiAGIAKgAqALMAKwAtACwAZAAuAC4AJAA8ADoAOwA8ADEAMAAyAC8ANQA3ADgAQQA+AD8AQAA5AEQAPQBAAPcARQBGAEIAQgBDAEoASwBMAFIASwBNAFMATgBPAFAAUABRAFwAUgBcAE0AUABVAFQAVgBXAFMAWABWAFcAYABZAFkAWgBbAGoAbgBeAFYAYABfAFEAYgBjAIMAXQBjAIMAjQBlAGYAZwBoAGkA8ADvAIMA8wCJAGsAbABsAG0AbgBvAG8AcAB8AHIAeAB3AHgAcQB2AHsAegB4AHcA+AB7AHMAfQCTAH4AfwCAAHgAhACGAIQAiwCNAF4AhQCHAGAAiACTAIgAhQCHAIQAiwCTAIgAigCHAIoAjACAAIEAggCeAJsAnACcAJoAnQCjAJwAnwCxAKEAnwCgAKQApACmAKYAoQCiANQA1AClAKQA1QDUAKYA1wDWANcAugC7ALwAsgCzALIAtAC1ALgAtQC2ALcAsgC4ANkAuQDXAPUA9QDEAMAAvQC+AK4AvwDKAMIAxQDGAMQAwgDBAMcAywDEAMYAxADMAM8AzQDOAM8A2wDQANEA4wDSANoA1gDdANwA2QDeAN8A3wDdANoA3ADhAOIA4ADgAN4AJAHjACYB4gAkAS0BLgEvAS0BLgEvAeMA0wDkAOUA5gAyAewA8gDxAO4A7QDxAPQA8wDzABIB8gD2APYA9AAYASgBOwEqAfwA/QD+APkA+gD7AP8AAgH7AAYBEAEAAQEBBwEHAQgBCgEQAQ0BDwEOAQMBBAEFAQMBEAESAREBEQEVASEBGwETARUBFAEUARcBEwEXARYBHAEZARoBGQEaASIBGwE+ATwBHQE9ARsBPgEWARwBHgEeAR8BIAECAfUAIwElASgBJgEyASoB9gA7ASkBKQEsASkBKwEsASwBKwEsASUBMAExAScBJQExATEBKwEJAQsBDAEqATwBPgEdAT0B",
          "dtype": "i2"
         },
         "k": {
          "bdata": "NgBZADMANQA3ADgAOQBEADQAWgBbAGoAawBsAHAAjwCUAEUAcgBxAHYAdQBzAHQAdwBtAG8AjgBaAGsAcACRAJEAkACSAJEAkgCVAJYAlQCWABEAEgAUABMAFwAZABQAFQA8ADEAMAA7ADIAJwAWAD8AQwAoALoAOgA9ADsAJgAyACcAuwAXABkAPgA/AEAAQwBCAEYAvAC9AL4AwwDEAL8AxQDBAMIAqACqAMgAxwCsAK8ArADYAK8AsADOANAAqwCtANgACwHGAMkAygDIAMcAywDMAPoAzQDRANIA0wDkAOUACwH7AAgB+wAGAQcBCAEKAQwB5gAJAXoAewD4AH0AeAB5AH4AfwCAAPkA/QD8AP8AAAEBAYEAHwENASABBAECAQUBeQB+AIIAHgE2ATcBDwEOAQMBgQA/ATkBOgE4ATgBNAE1AT8BOAE6AT8B5wCXAAEALQBHAC4ALAAtAGQALgDnAOcA5wBIAEkA6gBmAGcAaADvAJgAmQDrALQAtQC3ALQAtQC2ALcA6QDoAOsA7ADrAOkA7ADxAO0A7gAJAAsABAAMAAgATwBLAEoATABKAEsATAAOAA4ACgApAAkADAAHAAgAEAAQAAwADwBPABgAUgAYADQANgBZABwAHgAdABoAIQAaABwAAwAEAAUAHwAkAB8AJAAgAB4AIAAiACEAGgAfACUAPQA9ACYAJwAoABsAGwAqACoADQApACsAIwCxALEAswAuAC0ALACzALQALwAvADsAPAAxADAAMgA+ADMAMwA1ADcAOAA/AEAAQQA4ADkAOgBCAEQARADFAPcAQwBGAFAATQBOAFMATgBQAE4AVgBRAFEAVQBiAFIAXABYAFQAVABjAF0AVABWAFcAVwBeAF8AVwBcAFoAWwBqAGsAWABdAF8AXwCFAGMAZQBlAGMAgwBpAGkAYABkAGQAZgBnAPAAaABoAIkA8ADzAGwAbgBtAG8AjQB8AHAAcwCNAEUAcwB4AHQAcgBxAHYAdwB3AHoAewB6AHgAfgCNAH8AgACTAH0AgwCEAIkAhACIAIYAhgCFAIcAhwCIAIwAigCKABEBEQETARMBiwCMABQBFAGBAIIAHgGbAJoAmgCdAJ0AoACcAKUAngCfAJsAoQCpAKAAqQCcAKUAowChAKMAoQCkAK4ApgDVANYApADXAK4AKAC6ALsAnwCyAKIAtQC4ALIAtgC3APEAuQC5ANQA2QDbALkA3gC/ALwAvAC9AMAAvgDEAMcAwQDCAMYAxgDHAMsAzADJAMQAygD6AMAAygDNAM4AzwDOANAA0QDRANUApgDXANYA2gDZANoA4QDbANwA3QDcAN0A2wDdAN8A3wDbAOMA3AAtAeEA4gDgAC4BLwEmAc8A0gDTAOQA5QDmAO8A7ADuAO0A7ADyAPIA9AASARgB9QD1ACMB9gD2APYAKAE+AfkA/AD9APgA+wD+AP0ABQEGAQcB/wD/AAABCAEQAQoBDAEMAQEBDQEPAQ4BAwEEARABKgHzABIBGQEZARMBEwEbAREBFQEWARYBFwEUARoBFgEYARkBOwE7ARsBHAEbATsBPAEdAT4BPQEdAR0BIQEfASABAgEiASMBJAEkASUBMgEmATIBKAEpASUBMAE+ASsBLAEqAScBKQErAS0BLgEvASYBMAEuAScBMQHmAAkBCwEQASkBLAE9ASsB",
          "dtype": "i2"
         },
         "name": "Mesh",
         "opacity": 0.8,
         "type": "mesh3d",
         "x": {
          "bdata": "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",
          "dtype": "f8"
         },
         "y": {
          "bdata": "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",
          "dtype": "f8"
         },
         "z": {
          "bdata": "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",
          "dtype": "f8"
         }
        }
       ],
       "layout": {
        "height": 600,
        "scene": {
         "aspectmode": "data",
         "aspectratio": {
          "x": 1,
          "y": 1,
          "z": 0.8
         },
         "xaxis": {
          "title": {
           "text": "X (µm)"
          }
         },
         "yaxis": {
          "title": {
           "text": "Y (µm)"
          }
         },
         "zaxis": {
          "title": {
           "text": "Z (µm)"
          }
         }
        },
        "template": {
         "data": {
          "bar": [
           {
            "error_x": {
             "color": "#2a3f5f"
            },
            "error_y": {
             "color": "#2a3f5f"
            },
            "marker": {
             "line": {
              "color": "#E5ECF6",
              "width": 0.5
             },
             "pattern": {
              "fillmode": "overlay",
              "size": 10,
              "solidity": 0.2
             }
            },
            "type": "bar"
           }
          ],
          "barpolar": [
           {
            "marker": {
             "line": {
              "color": "#E5ECF6",
              "width": 0.5
             },
             "pattern": {
              "fillmode": "overlay",
              "size": 10,
              "solidity": 0.2
             }
            },
            "type": "barpolar"
           }
          ],
          "carpet": [
           {
            "aaxis": {
             "endlinecolor": "#2a3f5f",
             "gridcolor": "white",
             "linecolor": "white",
             "minorgridcolor": "white",
             "startlinecolor": "#2a3f5f"
            },
            "baxis": {
             "endlinecolor": "#2a3f5f",
             "gridcolor": "white",
             "linecolor": "white",
             "minorgridcolor": "white",
             "startlinecolor": "#2a3f5f"
            },
            "type": "carpet"
           }
          ],
          "choropleth": [
           {
            "colorbar": {
             "outlinewidth": 0,
             "ticks": ""
            },
            "type": "choropleth"
           }
          ],
          "contour": [
           {
            "colorbar": {
             "outlinewidth": 0,
             "ticks": ""
            },
            "colorscale": [
             [
              0,
              "#0d0887"
             ],
             [
              0.1111111111111111,
              "#46039f"
             ],
             [
              0.2222222222222222,
              "#7201a8"
             ],
             [
              0.3333333333333333,
              "#9c179e"
             ],
             [
              0.4444444444444444,
              "#bd3786"
             ],
             [
              0.5555555555555556,
              "#d8576b"
             ],
             [
              0.6666666666666666,
              "#ed7953"
             ],
             [
              0.7777777777777778,
              "#fb9f3a"
             ],
             [
              0.8888888888888888,
              "#fdca26"
             ],
             [
              1,
              "#f0f921"
             ]
            ],
            "type": "contour"
           }
          ],
          "contourcarpet": [
           {
            "colorbar": {
             "outlinewidth": 0,
             "ticks": ""
            },
            "type": "contourcarpet"
           }
          ],
          "heatmap": [
           {
            "colorbar": {
             "outlinewidth": 0,
             "ticks": ""
            },
            "colorscale": [
             [
              0,
              "#0d0887"
             ],
             [
              0.1111111111111111,
              "#46039f"
             ],
             [
              0.2222222222222222,
              "#7201a8"
             ],
             [
              0.3333333333333333,
              "#9c179e"
             ],
             [
              0.4444444444444444,
              "#bd3786"
             ],
             [
              0.5555555555555556,
              "#d8576b"
             ],
             [
              0.6666666666666666,
              "#ed7953"
             ],
             [
              0.7777777777777778,
              "#fb9f3a"
             ],
             [
              0.8888888888888888,
              "#fdca26"
             ],
             [
              1,
              "#f0f921"
             ]
            ],
            "type": "heatmap"
           }
          ],
          "histogram": [
           {
            "marker": {
             "pattern": {
              "fillmode": "overlay",
              "size": 10,
              "solidity": 0.2
             }
            },
            "type": "histogram"
           }
          ],
          "histogram2d": [
           {
            "colorbar": {
             "outlinewidth": 0,
             "ticks": ""
            },
            "colorscale": [
             [
              0,
              "#0d0887"
             ],
             [
              0.1111111111111111,
              "#46039f"
             ],
             [
              0.2222222222222222,
              "#7201a8"
             ],
             [
              0.3333333333333333,
              "#9c179e"
             ],
             [
              0.4444444444444444,
              "#bd3786"
             ],
             [
              0.5555555555555556,
              "#d8576b"
             ],
             [
              0.6666666666666666,
              "#ed7953"
             ],
             [
              0.7777777777777778,
              "#fb9f3a"
             ],
             [
              0.8888888888888888,
              "#fdca26"
             ],
             [
              1,
              "#f0f921"
             ]
            ],
            "type": "histogram2d"
           }
          ],
          "histogram2dcontour": [
           {
            "colorbar": {
             "outlinewidth": 0,
             "ticks": ""
            },
            "colorscale": [
             [
              0,
              "#0d0887"
             ],
             [
              0.1111111111111111,
              "#46039f"
             ],
             [
              0.2222222222222222,
              "#7201a8"
             ],
             [
              0.3333333333333333,
              "#9c179e"
             ],
             [
              0.4444444444444444,
              "#bd3786"
             ],
             [
              0.5555555555555556,
              "#d8576b"
             ],
             [
              0.6666666666666666,
              "#ed7953"
             ],
             [
              0.7777777777777778,
              "#fb9f3a"
             ],
             [
              0.8888888888888888,
              "#fdca26"
             ],
             [
              1,
              "#f0f921"
             ]
            ],
            "type": "histogram2dcontour"
           }
          ],
          "mesh3d": [
           {
            "colorbar": {
             "outlinewidth": 0,
             "ticks": ""
            },
            "type": "mesh3d"
           }
          ],
          "parcoords": [
           {
            "line": {
             "colorbar": {
              "outlinewidth": 0,
              "ticks": ""
             }
            },
            "type": "parcoords"
           }
          ],
          "pie": [
           {
            "automargin": true,
            "type": "pie"
           }
          ],
          "scatter": [
           {
            "fillpattern": {
             "fillmode": "overlay",
             "size": 10,
             "solidity": 0.2
            },
            "type": "scatter"
           }
          ],
          "scatter3d": [
           {
            "line": {
             "colorbar": {
              "outlinewidth": 0,
              "ticks": ""
             }
            },
            "marker": {
             "colorbar": {
              "outlinewidth": 0,
              "ticks": ""
             }
            },
            "type": "scatter3d"
           }
          ],
          "scattercarpet": [
           {
            "marker": {
             "colorbar": {
              "outlinewidth": 0,
              "ticks": ""
             }
            },
            "type": "scattercarpet"
           }
          ],
          "scattergeo": [
           {
            "marker": {
             "colorbar": {
              "outlinewidth": 0,
              "ticks": ""
             }
            },
            "type": "scattergeo"
           }
          ],
          "scattergl": [
           {
            "marker": {
             "colorbar": {
              "outlinewidth": 0,
              "ticks": ""
             }
            },
            "type": "scattergl"
           }
          ],
          "scattermap": [
           {
            "marker": {
             "colorbar": {
              "outlinewidth": 0,
              "ticks": ""
             }
            },
            "type": "scattermap"
           }
          ],
          "scattermapbox": [
           {
            "marker": {
             "colorbar": {
              "outlinewidth": 0,
              "ticks": ""
             }
            },
            "type": "scattermapbox"
           }
          ],
          "scatterpolar": [
           {
            "marker": {
             "colorbar": {
              "outlinewidth": 0,
              "ticks": ""
             }
            },
            "type": "scatterpolar"
           }
          ],
          "scatterpolargl": [
           {
            "marker": {
             "colorbar": {
              "outlinewidth": 0,
              "ticks": ""
             }
            },
            "type": "scatterpolargl"
           }
          ],
          "scatterternary": [
           {
            "marker": {
             "colorbar": {
              "outlinewidth": 0,
              "ticks": ""
             }
            },
            "type": "scatterternary"
           }
          ],
          "surface": [
           {
            "colorbar": {
             "outlinewidth": 0,
             "ticks": ""
            },
            "colorscale": [
             [
              0,
              "#0d0887"
             ],
             [
              0.1111111111111111,
              "#46039f"
             ],
             [
              0.2222222222222222,
              "#7201a8"
             ],
             [
              0.3333333333333333,
              "#9c179e"
             ],
             [
              0.4444444444444444,
              "#bd3786"
             ],
             [
              0.5555555555555556,
              "#d8576b"
             ],
             [
              0.6666666666666666,
              "#ed7953"
             ],
             [
              0.7777777777777778,
              "#fb9f3a"
             ],
             [
              0.8888888888888888,
              "#fdca26"
             ],
             [
              1,
              "#f0f921"
             ]
            ],
            "type": "surface"
           }
          ],
          "table": [
           {
            "cells": {
             "fill": {
              "color": "#EBF0F8"
             },
             "line": {
              "color": "white"
             }
            },
            "header": {
             "fill": {
              "color": "#C8D4E3"
             },
             "line": {
              "color": "white"
             }
            },
            "type": "table"
           }
          ]
         },
         "layout": {
          "annotationdefaults": {
           "arrowcolor": "#2a3f5f",
           "arrowhead": 0,
           "arrowwidth": 1
          },
          "autotypenumbers": "strict",
          "coloraxis": {
           "colorbar": {
            "outlinewidth": 0,
            "ticks": ""
           }
          },
          "colorscale": {
           "diverging": [
            [
             0,
             "#8e0152"
            ],
            [
             0.1,
             "#c51b7d"
            ],
            [
             0.2,
             "#de77ae"
            ],
            [
             0.3,
             "#f1b6da"
            ],
            [
             0.4,
             "#fde0ef"
            ],
            [
             0.5,
             "#f7f7f7"
            ],
            [
             0.6,
             "#e6f5d0"
            ],
            [
             0.7,
             "#b8e186"
            ],
            [
             0.8,
             "#7fbc41"
            ],
            [
             0.9,
             "#4d9221"
            ],
            [
             1,
             "#276419"
            ]
           ],
           "sequential": [
            [
             0,
             "#0d0887"
            ],
            [
             0.1111111111111111,
             "#46039f"
            ],
            [
             0.2222222222222222,
             "#7201a8"
            ],
            [
             0.3333333333333333,
             "#9c179e"
            ],
            [
             0.4444444444444444,
             "#bd3786"
            ],
            [
             0.5555555555555556,
             "#d8576b"
            ],
            [
             0.6666666666666666,
             "#ed7953"
            ],
            [
             0.7777777777777778,
             "#fb9f3a"
            ],
            [
             0.8888888888888888,
             "#fdca26"
            ],
            [
             1,
             "#f0f921"
            ]
           ],
           "sequentialminus": [
            [
             0,
             "#0d0887"
            ],
            [
             0.1111111111111111,
             "#46039f"
            ],
            [
             0.2222222222222222,
             "#7201a8"
            ],
            [
             0.3333333333333333,
             "#9c179e"
            ],
            [
             0.4444444444444444,
             "#bd3786"
            ],
            [
             0.5555555555555556,
             "#d8576b"
            ],
            [
             0.6666666666666666,
             "#ed7953"
            ],
            [
             0.7777777777777778,
             "#fb9f3a"
            ],
            [
             0.8888888888888888,
             "#fdca26"
            ],
            [
             1,
             "#f0f921"
            ]
           ]
          },
          "colorway": [
           "#636efa",
           "#EF553B",
           "#00cc96",
           "#ab63fa",
           "#FFA15A",
           "#19d3f3",
           "#FF6692",
           "#B6E880",
           "#FF97FF",
           "#FECB52"
          ],
          "font": {
           "color": "#2a3f5f"
          },
          "geo": {
           "bgcolor": "white",
           "lakecolor": "white",
           "landcolor": "#E5ECF6",
           "showlakes": true,
           "showland": true,
           "subunitcolor": "white"
          },
          "hoverlabel": {
           "align": "left"
          },
          "hovermode": "closest",
          "mapbox": {
           "style": "light"
          },
          "paper_bgcolor": "white",
          "plot_bgcolor": "#E5ECF6",
          "polar": {
           "angularaxis": {
            "gridcolor": "white",
            "linecolor": "white",
            "ticks": ""
           },
           "bgcolor": "#E5ECF6",
           "radialaxis": {
            "gridcolor": "white",
            "linecolor": "white",
            "ticks": ""
           }
          },
          "scene": {
           "xaxis": {
            "backgroundcolor": "#E5ECF6",
            "gridcolor": "white",
            "gridwidth": 2,
            "linecolor": "white",
            "showbackground": true,
            "ticks": "",
            "zerolinecolor": "white"
           },
           "yaxis": {
            "backgroundcolor": "#E5ECF6",
            "gridcolor": "white",
            "gridwidth": 2,
            "linecolor": "white",
            "showbackground": true,
            "ticks": "",
            "zerolinecolor": "white"
           },
           "zaxis": {
            "backgroundcolor": "#E5ECF6",
            "gridcolor": "white",
            "gridwidth": 2,
            "linecolor": "white",
            "showbackground": true,
            "ticks": "",
            "zerolinecolor": "white"
           }
          },
          "shapedefaults": {
           "line": {
            "color": "#2a3f5f"
           }
          },
          "ternary": {
           "aaxis": {
            "gridcolor": "white",
            "linecolor": "white",
            "ticks": ""
           },
           "baxis": {
            "gridcolor": "white",
            "linecolor": "white",
            "ticks": ""
           },
           "bgcolor": "#E5ECF6",
           "caxis": {
            "gridcolor": "white",
            "linecolor": "white",
            "ticks": ""
           }
          },
          "title": {
           "x": 0.05
          },
          "xaxis": {
           "automargin": true,
           "gridcolor": "white",
           "linecolor": "white",
           "ticks": "",
           "title": {
            "standoff": 15
           },
           "zerolinecolor": "white",
           "zerolinewidth": 2
          },
          "yaxis": {
           "automargin": true,
           "gridcolor": "white",
           "linecolor": "white",
           "ticks": "",
           "title": {
            "standoff": 15
           },
           "zerolinecolor": "white",
           "zerolinewidth": 2
          }
         }
        },
        "title": {
         "text": "Simplified Neuron Model"
        },
        "width": 800
       }
      }
     },
     "metadata": {},
     "output_type": "display_data"
    }
   ],
   "source": [
    "# Visualize the complete neuron\n",
    "fig = visualize_mesh_3d(\n",
    "    neuron, \n",
    "    title=\"Simplified Neuron Model\",\n",
    "    color=\"coral\",\n",
    "    backend=\"plotly\"\n",
    ")\n",
    "fig.show()"
   ]
  },
  {
   "cell_type": "code",
   "execution_count": null,
   "id": "e658b334",
   "metadata": {},
   "outputs": [],
   "source": [
    "# Interactive slice view of the neuron - see soma, dendrites, and axon in cross-section\n",
    "fig_neuron_slice = visualize_mesh_slice_interactive(\n",
    "    neuron,\n",
    "    title=\"Interactive Neuron Cross-Sections\",\n",
    "    slice_color=\"darkred\",\n",
    "    mesh_color=\"coral\",\n",
    "    mesh_opacity=0.3\n",
    ")\n",
    "fig_neuron_slice.show()"
   ]
  },
  {
   "cell_type": "markdown",
   "id": "19cd80da",
   "metadata": {},
   "source": [
    "## 6. Analyzing Mesh Properties\n",
    "\n",
    "Let's examine the properties of our meshes in detail:"
   ]
  },
  {
   "cell_type": "code",
   "execution_count": 12,
   "id": "9434a3af",
   "metadata": {},
   "outputs": [
    {
     "name": "stdout",
     "output_type": "stream",
     "text": [
      "\n",
      "=== Cylinder Properties ===\n",
      "Vertices: 34\n",
      "Faces: 64\n",
      "Volume: 7653.67 μm³\n",
      "Surface Area: 3274.52 μm²\n",
      "Watertight: True\n",
      "X range: -5.0 to 5.0 μm\n",
      "Y range: -5.0 to 5.0 μm\n",
      "Z range: -50.0 to 50.0 μm\n",
      "\n",
      "=== Torus Properties ===\n",
      "Vertices: 1024\n",
      "Faces: 2048\n",
      "Volume: 9743.42 μm³\n",
      "Surface Area: 3925.71 μm²\n",
      "Watertight: True\n",
      "X range: -25.0 to 25.0 μm\n",
      "Y range: -25.0 to 25.0 μm\n",
      "Z range: -5.0 to 5.0 μm\n",
      "\n",
      "=== Y-Branch Properties ===\n",
      "Vertices: 175\n",
      "Faces: 116\n",
      "Volume: N/A\n",
      "Surface Area: 3431.39 μm²\n",
      "Watertight: False\n",
      "X range: -5.0 to 5.0 μm\n",
      "Y range: -30.4 to 30.4 μm\n",
      "Z range: 0.0 to 90.4 μm\n",
      "\n",
      "=== Multi-Branch Properties ===\n",
      "Vertices: 325\n",
      "Faces: 224\n",
      "Volume: N/A\n",
      "Surface Area: 4793.11 μm²\n",
      "Watertight: False\n",
      "X range: -32.1 to 32.1 μm\n",
      "Y range: -32.1 to 32.1 μm\n",
      "Z range: 0.0 to 70.5 μm\n",
      "\n",
      "=== Neuron Properties ===\n",
      "Vertices: 320\n",
      "Faces: 636\n",
      "Volume: 6817.91 μm³\n",
      "Surface Area: 4410.88 μm²\n",
      "Watertight: True\n",
      "X range: -26.7 to 26.7 μm\n",
      "Y range: -26.7 to 26.7 μm\n",
      "Z range: -100.0 to 51.2 μm\n"
     ]
    }
   ],
   "source": [
    "# Analyze properties of each mesh\n",
    "meshes = {\n",
    "    \"Cylinder\": cylinder,\n",
    "    \"Torus\": torus,\n",
    "    \"Y-Branch\": y_branch, \n",
    "    \"Multi-Branch\": multi_branch,\n",
    "    \"Neuron\": neuron\n",
    "}\n",
    "\n",
    "for name, mesh in meshes.items():\n",
    "    props = analyze_mesh_properties(mesh)\n",
    "    print(f\"\\n=== {name} Properties ===\")\n",
    "    print(f\"Vertices: {props['num_vertices']}\")\n",
    "    print(f\"Faces: {props['num_faces']}\")\n",
    "    print(f\"Volume: {props['volume']:.2f} μm³\" if props['volume'] else \"Volume: N/A\")\n",
    "    print(f\"Surface Area: {props['surface_area']:.2f} μm²\")\n",
    "    print(f\"Watertight: {props['is_watertight']}\")\n",
    "    print(f\"X range: {props['bounds']['x_range'][0]:.1f} to {props['bounds']['x_range'][1]:.1f} μm\")\n",
    "    print(f\"Y range: {props['bounds']['y_range'][0]:.1f} to {props['bounds']['y_range'][1]:.1f} μm\")\n",
    "    print(f\"Z range: {props['bounds']['z_range'][0]:.1f} to {props['bounds']['z_range'][1]:.1f} μm\")"
   ]
  },
  {
   "cell_type": "markdown",
   "id": "72650cc6",
   "metadata": {},
   "source": [
    "## 7. Comparing Mesh Sizes\n",
    "\n",
    "Let's create a comparison visualization of the relative sizes:"
   ]
  },
  {
   "cell_type": "code",
   "execution_count": 13,
   "id": "eb04a46f",
   "metadata": {},
   "outputs": [
    {
     "data": {
      "application/vnd.plotly.v1+json": {
       "config": {
        "plotlyServerURL": "https://plot.ly"
       },
       "data": [
        {
         "color": "lightblue",
         "i": {
          "bdata": "AQECAgQEBQUGBgcHCAgJCQoKCwsMDA0NDg4PDxAQERESEhMTFBQVFRYWFxcYGBkZGhobGxwcHR0eHh8fICAhIQ==",
          "dtype": "i1"
         },
         "j": {
          "bdata": "AAQEBQAGBgcACAgJAAoKCwAMDA0ADg4PABAQEQASEhMAFBQVABYWFwAYGBkAGhobABwcHQAeHh8AICAhAAEBAg==",
          "dtype": "i1"
         },
         "k": {
          "bdata": "BAIFAwYFBwMIBwkDCgkLAwwLDQMODQ8DEA8RAxIREwMUExUDFhUXAxgXGQMaGRsDHBsdAx4dHwMgHyEDASECAw==",
          "dtype": "i1"
         },
         "opacity": 0.8,
         "scene": "scene",
         "type": "mesh3d",
         "x": {
          "bdata": "AAAAAAAAAAAAAAAAAAAUQAAAAAAAABRAAAAAAAAAAABMmH9hQ3oSQEyYf2FDehJAwAofAMZIDEDACh8AxkgMQL1TWlBbnf4/vVNaUFud/j8Jc9m/rw+2PAlz2b+vD7Y8ulNaUFud/r+6U1pQW53+v78KHwDGSAzAvwofAMZIDMBMmH9hQ3oSwEyYf2FDehLAAAAAAAAAFMAAAAAAAAAUwEyYf2FDehLATJh/YUN6EsDCCh8AxkgMwMIKHwDGSAzAyFNaUFud/r/IU1pQW53+v0YW48/Di9C8Rhbjz8OL0LzBU1pQW53+P8FTWlBbnf4/vgofAMZIDEC+Ch8AxkgMQEqYf2FDehJASph/YUN6EkA=",
          "dtype": "f8"
         },
         "y": {
          "bdata": "AAAAAAAAAAAAAAAAAAAAAAAAAAAAAAAAAAAAAAAAAAC8U1pQW53+P7xTWlBbnf4/vwofAMZIDEC/Ch8AxkgMQEyYf2FDehJATJh/YUN6EkAAAAAAAAAUQAAAAAAAABRATJh/YUN6EkBMmH9hQ3oSQMAKHwDGSAxAwAofAMZIDEC+U1pQW53+P75TWlBbnf4/CXPZv68PxjwJc9m/rw/GPLlTWlBbnf6/uVNaUFud/r+/Ch8AxkgMwL8KHwDGSAzASph/YUN6EsBKmH9hQ3oSwAAAAAAAABTAAAAAAAAAFMBLmH9hQ3oSwEuYf2FDehLAwgofAMZIDMDCCh8AxkgMwMpTWlBbnf6/ylNaUFud/r8=",
          "dtype": "f8"
         },
         "z": {
          "bdata": "AAAAAAAAScAAAAAAAABJwAAAAAAAAElAAAAAAAAASUAAAAAAAABJwAAAAAAAAElAAAAAAAAAScAAAAAAAABJQAAAAAAAAEnAAAAAAAAASUAAAAAAAABJwAAAAAAAAElAAAAAAAAAScAAAAAAAABJQAAAAAAAAEnAAAAAAAAASUAAAAAAAABJwAAAAAAAAElAAAAAAAAAScAAAAAAAABJQAAAAAAAAEnAAAAAAAAASUAAAAAAAABJwAAAAAAAAElAAAAAAAAAScAAAAAAAABJQAAAAAAAAEnAAAAAAAAASUAAAAAAAABJwAAAAAAAAElAAAAAAAAAScAAAAAAAABJQAAAAAAAAEnAAAAAAAAASUA=",
          "dtype": "f8"
         }
        },
        {
         "color": "purple",
         "i": {
          "bdata": "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",
          "dtype": "i2"
         },
         "j": {
          "bdata": "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",
          "dtype": "i2"
         },
         "k": {
          "bdata": "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",
          "dtype": "i2"
         },
         "opacity": 0.8,
         "scene": "scene2",
         "type": "mesh3d",
         "x": {
          "bdata": "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",
          "dtype": "f8"
         },
         "y": {
          "bdata": "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",
          "dtype": "f8"
         },
         "z": {
          "bdata": "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",
          "dtype": "f8"
         }
        },
        {
         "color": "lightgreen",
         "i": {
          "bdata": "AAAAAAQABAAFAAcACQAIAAwABgAMAAwADAAMABIAEQAVABYAGgAaACMAHAAeACIAIQAcACYAJgAfAB8AGQAZACcAKgAqACsAKAArACoAJgAvAC8AMwAzADcANwA7ADwAQAA/AEMARQBHAEcATABLAE8ATwBTAFQAVwBXAF4AXgBeAGAAYQBiAGIAZgBmAGcAaABpAGoAagBqAHQAcwBzAHMAdgB1AHoAewB9AH0AgQCCAIUAhQCJAIoAiwCMAIkAjQCNAI0AkgCWAJYAkgCYAJgAnACdAJwAnQCiAKQAogCnAKgAqwCrAA==",
          "dtype": "i2"
         },
         "j": {
          "bdata": "AwABAAcADAAMAAgADQAJAAsADAAOABAADwANABQAEgAWABgAHAAbACgAHQAgACgAIgAmACUAJwAhACAAGgAgACsALAArAC4ALAAnAC0AJAAyADEANQA2ADoAOAA9AD0AQgBAAEUARgBJAEoASwBNAFEAUgBVAFUAWgBYAFwAWwBdAF0AYwBlAGMAZwBqAGkAagBsAGwAbQBuAHAAbwBxAHAAdQB3AHkAfAB+AIAAggCEAIgAhwCKAIwAjQCPAI0AkQCPAJAAlgCXAJUAlACbAJoAnQCfAJ4AoQCjAKUApQCoAKoArACuAA==",
          "dtype": "i2"
         },
         "k": {
          "bdata": "AgADAAwABQAGAAwADAAMAAoACgAPAAsAEAAOABMAEwAXABcAGwAgACkAGwAfACMAIwAdACQAJQAjACEAIAAeACUAKAAtAC0AKQAuACwAHQAwADIANgA0ADkAOgA8AD4AQQBBAEQARABKAEgATgBOAFIAUABUAFYAWQBaAF0AXABgAF8AYgBkAGUAagBoAGoAawBqAG4AawBtAHIAcABvAHQAeAB4AHsAegCAAH8AgwCDAIcAhgCNAI0AjgCNAIsAkACRAI4AlACVAJQAkwCZAJsAngCeAKAAnwClAKYApACpAKkArgCtAA==",
          "dtype": "i2"
         },
         "opacity": 0.8,
         "scene": "scene3",
         "type": "mesh3d",
         "x": {
          "bdata": "AAAA4AxSEcAAAADgDFIRwAAAAAAAABTAAAAAAAAAFMAAAADgDFIRwAAAAAAAAATAAAAAwMOL0LwAAAAAAAAUwAAAAOAMUhHAAAAAAAAABMAAAAAAAAAEQAAAAOAMUhFAAAAAAAAAAAAAAADArw+2PAAAAAAAAARAAAAA4AxSEUAAAAAAAAAUQAAAAOAMUhHAAAAAAAAABMAAAADgDFIRwAAAAAAAAATAAAAAAAAABMAAAADAw4vQvAAAAAAAAATAAAAAwMOL0LwAAADgDFIRwAAAAAAAAATAAAAAwHb4AMAAAADAw4vQvAAAAADr2sO8AAAAAAAAFMAAAADgDFIRwAAAAAAAAAjAAAAAwHb4AMAAAACg4wwAwAAAAAAAAATAAAAAoOMMAEAAAADAdvgAQAAAAAAAAARAAAAA4AxSEUAAAADA0zO4PAAAAMCvD7Y8AAAAwHb4AEAAAAAAAAAIQAAAAAAAAARAAAAA4AxSEUAAAAAAAAAUQAAAAAAAABTAAAAA4AxSEcAAAAAAAAAUwAAAAOAMUhHAAAAA4AxSEcAAAAAAAAAEwAAAAOAMUhHAAAAAAAAABMAAAAAAAAAEwAAAAAAAAATAAAAAwK8PtjwAAADArw+2PAAAAMDDi9C8AAAAwMOL0LwAAAAAAAAEQAAAAAAAAARAAAAAAAAABEAAAADgDFIRQAAAAAAAAARAAAAA4AxSEUAAAADgDFIRQAAAAOAMUhFAAAAAAAAAFEAAAAAAAAAUQAAAAMCvD7Y8AAAAAAAABEAAAADArw+2PAAAAAAAAARAAAAAAAAABEAAAADgDFIRQAAAAAAAAARAAAAA4AxSEUAAAADgDFIRQAAAAAAAABRAAAAA4AxSEUAAAAAAAAAUQAAAAAAAAAjAAAAAAAAACMAAAADAdvgAwAAAAMB2+ADAAAAAAAAACMAAAAAAAAAIwAAAAMB2+ADAAAAAwHb4AMAAAADAdvgAwAAAAKDjDADAAAAAAEztw78AAADAdvgAwAAAAEA5eao8AAAAQG406zwAAADAdvgAwAAAAKDjDADAAAAAwHb4AMAAAADA0zO4PAAAAGB84u88AAAAAAAACMAAAADAdvgAwAAAAMB2+ADAAAAAQG406zwAAADgCDPvPAAAAGB84u88AAAAwHb4AEAAAADAdvgAQAAAAAAAAAhAAAAAAEztwz8AAACg4wwAQAAAAEA5eao8AAAAwHb4AEAAAABAbjTrPAAAAMB2+ABAAAAAwNMzuDwAAADAdvgAQAAAAGB84u88AAAAwHb4AEAAAADAdvgAQAAAAMB2+ABAAAAAAAAACEAAAAAAAAAIQAAAAMB2+ABAAAAAwHb4AEAAAAAAAAAIQAAAAAAAAAhAAAAAAAAACMAAAADAdvgAwAAAAAAAAAjAAAAAwHb4AMAAAAAAAAAIwAAAAMB2+ADAAAAAwHb4AMAAAAAAAAAIwAAAAAAAAAjAAAAAwHb4AMAAAADAdvgAwAAAAADr2sO8AAAAAAAAAAAAAABAOXmqPAAAAMB2+ABAAAAAwHb4AEAAAAAAAAAIQAAAAMB2+ADAAAAAwHb4AMAAAACg4wwAwAAAAABM7cO/AAAAQDl5qjwAAABAOXmqPAAAAMB2+ADAAAAAAOvaw7wAAADAdvgAwAAAAADr2sO8AAAAQDl5qjwAAADAdvgAQAAAAABM7cM/AAAAoOMMAEAAAABAOXmqPAAAAMB2+ABAAAAAAOvaw7wAAAAA69rDvAAAAMB2+ABAAAAAoOMMAEAAAADAdvgAQAAAAMB2+ABAAAAAAAAACEAAAADAdvgAQAAAAAAAAAhAAAAAwHb4AEAAAADAdvgAQAAAAAAAAAhAAAAAAAAACEA=",
          "dtype": "f8"
         },
         "y": {
          "bdata": "AAAAAAAABMAAAAAAAAAEwAAAAMCvD8Y8AAAAwK8PxjwAAAAAAAAEwAAAAOAMUhHAAAAAAAAAFMAAAADArw/GPAAAAAAAAARAAAAA4AxSEUAAAADgDFIRwAAAAAAAAATAAAAAAAAAAAAAAAAAAAAUQAAAAOAMUhFAAAAAAAAABEAAAAAAAAAAAAAAAAAAAATAAAAA4AxSEcAAAAAAAAAEwAAAAOAMUhHAAAAA4AxSEcAAAAAAAAAUwAAAAOAMUhHAAAAAAAAAFMAAAAAAAAAEwAAAAOAMUhHAAAAAAAAACMAAAAAAAAAUwAAAAIB2+BDAAAAAwK8PxjwAAAAAAAAEQAAAAEA5ebo8AAAAAAAACEAAAABA/4kIQAAAAOAMUhFAAAAAQP+JCMAAAAAAAAAIwAAAAOAMUhHAAAAAAAAABMAAAACAdvgQQAAAAAAAABRAAAAAAAAACEAAAAAAAAAAAAAAAOAMUhFAAAAAAAAABEAAAAAAAAAAAAAAAMCvD8Y8AAAAAAAABEAAAADArw/GPAAAAAAAAARAAAAAAAAABEAAAADgDFIRQAAAAAAAAARAAAAA4AxSEUAAAADgDFIRQAAAAOAMUhFAAAAAAAAAFEAAAAAAAAAUQAAAAAAAABTAAAAAAAAAFMAAAADgDFIRwAAAAOAMUhHAAAAA4AxSEcAAAAAAAAAEwAAAAOAMUhHAAAAAAAAABMAAAAAAAAAEwAAAAAAAAATAAAAAAAAAAAAAAAAAAAAAAAAAAAAAABRAAAAA4AxSEUAAAAAAAAAUQAAAAOAMUhFAAAAA4AxSEUAAAAAAAAAEQAAAAOAMUhFAAAAAAAAABEAAAAAAAAAEQAAAAAAAAAAAAAAAAAAABEAAAAAAAAAAAAAAAEA5ebo8AAAAAMZIPEAAAAAAAAAAAAAAAADGyDpAAAAAQDl5ujwAAAAAxkg8QAAAAAAAAAhAAAAAAMbIPUAAAAAAAAAAAAAAAACtO38+AAAA4L0ihT4AAAAAxsg6QAAAAAAAAAAAAAAAILcpOkAAAAAAAAAIQAAAAED/iQhAAAAAAMbIPUAAAACAdvgQQAAAAODUZz5AAAAAAMZIPEAAAAAAxsg6QAAAAADGyD1AAAAAILcpOkAAAAAAxkg8QAAAAODUZz5AAAAAAMbIOkAAAAAAxsg9QAAAAADGSDxAAAAA4L0ihb4AAAAArTt/vgAAAAAAAAAAAAAAAAAAAAAAAAAgtyk6QAAAAADGyDpAAAAAgHb4EEAAAAAAAAAIQAAAAODUZz5AAAAAAMbIPUAAAAAAAAAAAAAAAADGyDpAAAAAAAAAAAAAAAAAxkg8QAAAAAAAAAhAAAAAAMbIPUAAAAAAAAAAAAAAAADGSDxAAAAAAMZIPMAAAAAAxsg6wAAAAEA5ebo8AAAAAAAAAAAAAAAAxkg8wAAAAADGyD3AAAAAAAAACMAAAABAOXm6PAAAAADGSDzAAAAAAMbIPcAAAAAAxsg6wAAAAODUZz7AAAAAAMZIPMAAAAAgtyk6wAAAAADGyD3AAAAAAMbIOsAAAAAAxkg8wAAAAADGyDrAAAAAAAAAAAAAAAAArTt/PgAAAOC9IoU+AAAAILcpOsAAAAAAAAAAAAAAAADGyD3AAAAA4NRnPsAAAAAAAAAIwAAAAIB2+BDAAAAAILcpOsAAAAAAxsg6wAAAAOC9IoW+AAAAAK07f74AAAAAAAAAAAAAAAAAAAAAAAAA4NRnPsAAAACAdvgQwAAAAADGyD3AAAAAQP+JCMAAAAAAAAAIwAAAAADGyDrAAAAAAMZIPMAAAAAAAAAAAAAAAAAAAAAAAAAAAMbIPcAAAAAAAAAIwAAAAADGSDzAAAAAAAAAAAA=",
          "dtype": "f8"
         },
         "z": {
          "bdata": "AAAAAAAAAAAAAAAAAABOQAAAAAAAAAAAAAAAAAAATkAAAAAAAAAAAAAAAAAAAAAAAAAAAAAAAAAAAAAAAAAAAAAAAAAAAAAAAAAAAAAAAAAAAAAAAAAAAAAAAAAAAAAAAAAAAAAAAAAAAAAAAAAAAAAAAAAAAAAAAAAAAAAAAAAAAAAAAAAAAAAAAAAAAAAAAAAAAAAAAAAAAAAAAABOQAAAAAAAAE5AAAAAAAAAAAAAAAAAAAAAAAAAAAAAAE5AAAAAAAAATkAAAAAAAABOQAAAAAAAAE5AAAAAAAAATkAAAAAAAABOQAAAAAAAAE5AAAAAAAAATkAAAAAAAABOQAAAAAAAAE5AAAAAAAAATkAAAAAAAABOQAAAAAAAAE5AAAAAAAAATkAAAAAAAABOQAAAAAAAAE5AAAAAAAAATkAAAAAAAABOQAAAAAAAAE5AAAAAAAAATkAAAAAAAABOQAAAAAAAAE5AAAAAAAAATkAAAAAAAABOQAAAAAAAAAAAAAAAAAAAAAAAAAAAAABOQAAAAAAAAE5AAAAAAAAAAAAAAAAAAAAAAAAAAAAAAE5AAAAAAAAATkAAAAAAAAAAAAAAAAAAAE5AAAAAAAAAAAAAAAAAAABOQAAAAAAAAAAAAAAAAAAATkAAAAAAAAAAAAAAAAAAAE5AAAAAAAAAAAAAAAAAAAAAAAAAAAAAAE5AAAAAAAAATkAAAAAAAAAAAAAAAAAAAE5AAAAAAAAAAAAAAAAAAABOQAAAAAAAAAAAAAAAAAAAAAAAAAAAAABOQAAAAAAAAE5AAAAAAAAAAAAAAAAAAAAAAAAAAAAAAE5AAAAAAAAATkAAAAAAAAAAAAAAAAAAAAAAAAAAAAAATkAAAAAAAABOQAAAAAAAAE5AAAAAgDESVkAAAAAAAIBPQAAAAIAxclZAAAAAAAAATkAAAACAMRJWQAAAAAAAAE5AAAAAgDGyVUAAAAAAAIBPQAAAAACgiE9AAAAAQLEJUEAAAACAMXJWQAAAAGCHD1BAAAAAQPWZVkAAAAAAAABOQAAAAAAAAE5AAAAAgDGyVUAAAAAAAABOQAAAAMBtilVAAAAAgDESVkAAAACAMXJWQAAAAIAxslVAAAAAQPWZVkAAAACAMRJWQAAAAMBtilVAAAAAgDFyVkAAAACAMbJVQAAAAIAxElZAAAAAQLEJUEAAAAAAoIhPQAAAAGCHD1BAAAAAAACAT0AAAABA9ZlWQAAAAIAxclZAAAAAAAAATkAAAAAAAABOQAAAAMBtilVAAAAAgDGyVUAAAAAAAIBPQAAAAIAxclZAAAAAAAAATkAAAACAMRJWQAAAAAAAAE5AAAAAgDGyVUAAAAAAAABOQAAAAIAxElZAAAAAgDESVkAAAACAMXJWQAAAAAAAAE5AAAAAAACAT0AAAACAMRJWQAAAAIAxslVAAAAAAAAATkAAAAAAAABOQAAAAIAxElZAAAAAgDGyVUAAAACAMXJWQAAAAMBtilVAAAAAgDESVkAAAABA9ZlWQAAAAIAxslVAAAAAgDFyVkAAAACAMRJWQAAAAIAxclZAAAAAAACAT0AAAAAAoIhPQAAAAECxCVBAAAAAQPWZVkAAAABghw9QQAAAAIAxslVAAAAAwG2KVUAAAAAAAABOQAAAAAAAAE5AAAAAQPWZVkAAAACAMXJWQAAAAECxCVBAAAAAAKCIT0AAAABghw9QQAAAAAAAgE9AAAAAwG2KVUAAAAAAAABOQAAAAIAxslVAAAAAAAAATkAAAAAAAABOQAAAAIAxclZAAAAAgDESVkAAAAAAAIBPQAAAAAAAAE5AAAAAgDGyVUAAAAAAAABOQAAAAIAxElZAAAAAAAAATkA=",
          "dtype": "f8"
         }
        },
        {
         "color": "orange",
         "i": {
          "bdata": "AAAAAAEAAgADAAQABQAFAAkACQANAA0ADwAPAA8ADwAVABUAFQAVABsAHwAbABsAIQAiACIAJgAoACcAJwAsAC0ALAAtADIAMgAyADIAOAA4ADkAOgA9AD0AOwA9AEEAQgBCAEMARwBHAEcATQBMAEwATQBSAFYAVgBWAFgAWABZAFgAXgBgAF4AXgBkAGQAZQBkAGoAawBqAGsAcABwAHEAcgB0AHcAdQB2AHMAeAB4AHgAfQB+AIEAgwCBAIkAhgCJAIsAiwCLAI8AjwCLAJMAkwCTAJgAmACdAJwAnACmAKYAogChAKIAowCqAKkAqgCuAK8AsgC1ALMAuAC3ALkAuQC5AL0AvwC/AL8AxADIAMUAyQDJAM8AzgDPANQA1ADUANUA1gDWANcA2wDeANwA3QDhAOIA4wDjAOgA5wDoAOkA7QDuAO4A7QDyAPMA8wDwAPkA+QD5APsA/AAAAQABAAEGAQYBBwEGAQgBCQEIAQ4BEgESARIBGAETARgBFgEeAR0BHQEeASEBIQEhASQBJgElASYBKwErASsBJwExATEBMQEwATgBOAE3ATcBPgE+AT0BPgFDAUMBRAFDAQ==",
          "dtype": "i2"
         },
         "j": {
          "bdata": "BQABAAIABwAFAAUACAAHAA0ACgAOAAwAEwASABQAEQAZABgAGgAXAB4AHgAcAB0AIgAkACUAJwAqACoAKwAtADEALwAwADQANgA1ADcAOwA9AD0APQA/ADwAPABAAEIARQBGAEUASwBIAEkAUABNAE8AUQBWAFQAVQBXAFwAWgBcAFsAYwBhAGAAYgBpAGYAaQBnAGsAbQBsAG4AeAByAHgAcwB5AHgAeAB4AHQAeQB8AHoAfgCAAIMAhQCCAIgAiQCKAI8AkgCNAJAAkQCMAJcAlgCVAJoAmwCeAJ0AoACnAKUApQCjAKMApACtAKoArACvALEAtQC2ALUAuQC5AL0AvAC7AL4AwwDBAMIAxQDHAMgAzADLAM0AzwDUAM0A0wDSANYA1wDZANoA3ADfAN0A3wDiAOMA5gDlAOwA6gDqAOwA8wDzAPIA7wD0APQA9QDzAPsA+gD3APgA/QD9AP8A/gAEAQUBAwEDAQwBDAELAQ0BDgEPARABFAEYARMBGAEaARsBHAEdAR8BIAEiAScBKwErASQBKAEqASwBKAEwAS4BLwEtATYBNQE0ATgBPAE5AT4BOgFAAT8BQgFCAQ==",
          "dtype": "i2"
         },
         "k": {
          "bdata": "AwAFAAUABQAEAAYABgAIAAoACwAMAAoAFAATABAAEgAaABkAFgAYAB8AIAAdAB4AIwAjACQAKAApACgAKgAvADAALgAvADMANQA0ADYAPQA5ADoAPgBAAD8APQA+AEMAQwBFAEQASgBJAEsATwBPAE4AUABTAFMAVABVAFkAWwBdAFwAXwBiAGIAYwBlAGcAaABpAGwAbABvAG0AcQB4AHUAeAB4AHsAdgB3AHgAegB7AHwAfwB/AIQAhACDAIcAhwCIAJIAjQCMAJIAkACOAJQAlwCWAJsAmQCgAKAAnwCoAKcApgCiAKUApQCsAKsAqwCwALAAswC0ALQAugC4ALwAuwC6ALwAwADCAMMAxgDGAMYAygDMANQA0ADQANIA0QDTANgA2QDYANkA4ADdAOAA4ADkAOQA5ADmAOkA6ADsAOsA8ADvAPMA8wDzAPUA8QDxAPcA+wD2APcAAAH+AAEB/wAFAQMBAgEHAQkBCgEMARABEAEOAREBFQEXARQBFQEZARwBGgEaASABIgEjASsBJQEpASsBLAEpASoBKwEuAS8BMgEuATUBNAEzATQBOwE6ATsBPAFCAUABQQFEAQ==",
          "dtype": "i2"
         },
         "opacity": 0.8,
         "scene": "scene4",
         "type": "mesh3d",
         "x": {
          "bdata": "AAAAIF+MP8AAAABglk8+wAAAAMDNEj3AAAAAQMsHQMAAAAAgX4w/wAAAAGCWTz7AAAAAYJZPPsAAAABglo88wAAAAMDNEj3AAAAAIF+MP8AAAACgadsUwAAAAGCKzBPAAAAAIHQWFsAAAABAywdAwAAAAAAAABjAAAAAIF+MP8AAAABglk8+wAAAAGCKzBPAAAAAYCoyB8AAAAAAah4LwAAAAAAAAAzAAAAAYJZPPsAAAADAzRI9wAAAAAAAAAzAAAAAgN0LC8AAAAAg4ssEwAAAAKCKzAPAAAAAwM0SPcAAAACgiswDwAAAAOCEhQHAAAAAADiOw78AAABglo88wAAAAMDC4q68AAAAQMsHQMAAAAAgX4w/wAAAAAAAABjAAAAAIHQWFsAAAABgiswTwAAAACBfjD/AAAAAYJZPPsAAAABgiswTwAAAAGAqMgfAAAAAIGoeC8AAAAAAAAAMwAAAAGCWTz7AAAAAwM0SPcAAAAAAAAAMwAAAAIDdCwvAAAAAIOLLBMAAAACgiswDwAAAAGCWjzzAAAAAwM0SPcAAAACgiswDwAAAAOCEhQHAAAAA4DeOw78AAADAwuKuvAAAAKCKzAPAAAAAAAAADMAAAACgiswDwAAAACASKse8AAAAoIrMA0AAAAAAAAAAAAAAAODC4q48AAAAAAAADEAAAACgiswDQAAAAKCKzAPAAAAAAAAADMAAAACgiswDwAAAAGAqMgfAAAAAAGoeC8AAAAAAAAAMwAAAAKCKzAPAAAAAoIrMA8AAAABADIz8vwAAACASKse8AAAAIBIqx7wAAAAAAAAMwAAAAKCKzAPAAAAAAAAADMAAAACA3QsLwAAAACDiywTAAAAAoIrMA8AAAACgiswDwAAAAKCKzAPAAAAA4ISFAcAAAAAAOI7DvwAAAODC4q48AAAAwMLirrwAAAAgEirHvAAAAKCKzANAAAAAIBIqx7wAAABgDIz8PwAAAICZPgFAAAAAoIrMA0AAAACgiswDQAAAAAAAAAxAAAAAoIrMA0AAAABgKjIHQAAAACBqHgtAAAAAAAAADEAAAAAAAAAMQAAAAKCKzANAAAAAAAAADEAAAACA3QsLQAAAAKCKzANAAAAAIOLLBEAAAADgwuKuPAAAAKCKzANAAAAA4DeOwz8AAADghIUBQAAAAKCKzANAAAAAwMLirrwAAAAg3MgUwAAAAAAAAAjAAAAAAAAAGMAAAAAg3MgUwAAAAAAAAAjAAAAAAOva07wAAAAAAAAIQAAAACDcyBRAAAAAAAAAAAAAAABAOXm6PAAAAAAAAAhAAAAAAAAAGEAAAAAg3MgUQAAAACDcyBTAAAAAAAAACMAAAAAg3MgUwAAAAAAAAAjAAAAAINzIFMAAAAAg3MgUwAAAACB0FhbAAAAAAAAAGMAAAAAAAAAYwAAAAAAAAAjAAAAAAAAACMAAAABADIz8vwAAAADr2tO8AAAAIBIqx7wAAAAg3MgUwAAAAKBp2xTAAAAAYIrME8AAAAAgdBYWwAAAAAAAAAjAAAAAoIrMA8AAAABADIz8vwAAAGAqMgfAAAAAAAAAGMAAAAAg3MgUwAAAAAAAABjAAAAAIHQWFsAAAAAg3MgUwAAAACDcyBTAAAAAAAAACMAAAAAg3MgUwAAAAAAAAAjAAAAAAAAACMAAAAAAAAAIwAAAAGAMjPy/AAAAQDl5ujwAAACgiMDCPAAAACB0FhbAAAAAINzIFMAAAABgiswTwAAAAGAqMgfAAAAAoIrMA8AAAAAAAAAIwAAAAICZPgHAAAAAYAyM/L8AAAAA69rTvAAAAAAAAAhAAAAAIBIqx7wAAABgDIz8PwAAAAAAAAhAAAAAAAAACEAAAAAg3MgUQAAAAAAAAAhAAAAAINzIFEAAAAAg3MgUQAAAACDcyBRAAAAAIHQWFkAAAAAAAAAYQAAAAAAAABhAAAAAYAyM/D8AAACAmT4BQAAAAAAAAAhAAAAAoIrMA0AAAABgKjIHQAAAAGCKzBNAAAAAINzIFEAAAAAgdBYWQAAAAEA5ebo8AAAAAAAACEAAAACgiMDCPAAAAEAMjPw/AAAAAAAACEAAAAAAAAAYQAAAACDcyBRAAAAAAAAAGEAAAAAgdBYWQAAAACDcyBRAAAAAAAAACEAAAAAg3MgUQAAAAAAAAAhAAAAAINzIFEAAAABgKjIHQAAAAEAMjPw/AAAAoIrMA0AAAAAAAAAIQAAAACB0FhZAAAAAYIrME0AAAACgadsUQAAAACDcyBRAAAAAYCoyB8AAAAAgah4LwAAAAAAAAAzAAAAAoIrMA8AAAACgiswDwAAAAAAAAAzAAAAAAAAADMAAAACA3QsLwAAAACDiywTAAAAAoIrMA8AAAACgiswDwAAAAAAAAAzAAAAAoIrMA8AAAADghIUBwAAAAOA3jsO/AAAAoIrMA8AAAADAwuKuvAAAAKD5ku08AAAAoIrMA8AAAACAmT4BwAAAAGAMjPy/AAAAoIrMA8AAAACgiMDCPAAAAACpt/A8AAAAoIrMA8AAAACgiswDwAAAAAAAAAzAAAAAAKm38DwAAACgiswDQAAAAKD5ku08AAAAAKm38DwAAACgiswDQAAAAAAAAAxAAAAAYCoyB0AAAAAAah4LQAAAAAAAAAxAAAAAoIrMA0AAAACgiswDQAAAAAAAAAxAAAAAwMLirrwAAAAAOI7DPwAAAOCEhQFAAAAAoIrMA0AAAACg+ZLtPAAAAKCKzANAAAAAAAAADEAAAACA3QsLQAAAAKCKzANAAAAAIOLLBEAAAACgiswDQAAAAAAAAAxAAAAAoIjAwjwAAABADIz8PwAAAKCKzANAAAAAAKm38DwAAACgiswDQAAAAGAqMgdAAAAAIGoeC0AAAAAAAAAMQAAAAGCKzBNAAAAAIF+MP0AAAABglk8+QAAAAOA3jsM/AAAA4ISFAUAAAACgiswDQAAAAMDNEj1AAAAAwMLirrwAAABglo88QAAAAAAAAAxAAAAAgN0LC0AAAACgiswDQAAAACDiywRAAAAAwM0SPUAAAABglk8+QAAAAGCKzBNAAAAAIHQWFkAAAAAgX4w/QAAAAAAAABhAAAAAQMsHQEAAAAAgX4w/QAAAAMDNEj1AAAAAYJZPPkAAAABAywdAQAAAACBfjD9AAAAAYJaPPEAAAADAzRI9QAAAAGCWTz5AAAAAYJZPPkAAAABgKjIHQAAAAABqHgtAAAAAAAAADEAAAABgiswTQAAAACBfjD9AAAAAYJZPPkAAAADAwuKuvAAAAAA4jsM/AAAA4ISFAUAAAACgiswDQAAAAGCWjzxAAAAAwM0SPUAAAAAAAAAMQAAAAIDdCwtAAAAAoIrMA0AAAAAg4ssEQAAAAMDNEj1AAAAAYJZPPkAAAAAAAAAYQAAAACB0FhZAAAAAYIrME0AAAACgadsUQAAAAEDLB0BAAAAAIF+MP0A=",
          "dtype": "f8"
         },
         "y": {
          "bdata": "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",
          "dtype": "f8"
         },
         "z": {
          "bdata": "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",
          "dtype": "f8"
         }
        },
        {
         "color": "coral",
         "i": {
          "bdata": "kACQAI8AjwCPAJEAkQCQAI4AjgCOAJEAkwCTAJMAkwCUAJQAlACUAJUAlQCWAJYAlgCPAI4AjwCRAJMAjgCUAJUAjwCPAI4AjgCRAJIAkgCSAAIAAgADAAQABQAGAAYABgACAAMAAgAHAAgABAAFAAkAAgACAAMAAwADAAMABwAHAAgAAgAEAAQAAgAEAAUABQAFAAoACgAIAAgACQAJAAoACgAKAAkAmgCbAJoAnQCcAJ4AngCeAJoAmwCcAJoAnQCfAKAAoACaAJoAmgCbAJsAnACcAJwAnACdAJ0AnQCdAJ8AoACfAJ8AoQChAKEAoACgAKIAogCiADgBNwE3ATcBOAE4ATkBOQE8ATwBPAE9AT8BPQE9AT8BNwE3ATkBOgE6AT4BPgE+AT4BPwE/ATcBNwE8ATgBOQE9AToBPgE4ATkBNwE3ATsBOgE7ATsBAAABAAAAAAAAAAEAAQAAAAAAlwBHAEgASQBHAEgASQBHAEgASABJAJcAmACZAJcAmACZAJgAmQCZAOoA5wDnAOcA6ADqAOkA6ADrAOsA6QANAA4AEAAQAA8AEwAVAAsAGgAaAA8ACwAMAA0AHQARABQAEwAVABMAFAAVABYAFgAWACQAGAALABoACwAZAAwAGwAZABoAGgAdAB0AGwAbAB4AHAAgAB8AHgAiACEAIgAaAA0AJAANAA4AJQAlACQAGAAmACYAJwAnACcAtAAnAB0AEgArADAAMAAwABIAFwAXABcAFwAwADAAMAAwADAAMAAwADAAQQArACsAKwArACMAIwAjACMAQQBBAEEA+ABBAPgA+AD4AE0ADgBKAEwATQBOAEwAUABPAE8AVAAXAFQAUQBQAFAAUgBSAEsAVwBLAFcAVgBaAFgAVABZAA4AXABKAFwAJwBfAEsASwBdACcAXwBfAF8AXwBfAPEAZABkAGQAFwBVAFUAVQBVAFUAVQBVAGsAawBZAFkAawB7AGsAdQB0APgA+AD4AHEAcgB2AHQAcgByAHIAewB7AHsAewB7AHsAewB7AI0AjQCNAF4AggCDAFoAWgBbAFsAgwCDAIcAhQCEAIcAhQCFAIYAiQCIAIoAiQBvAIwAiwAYAKQAowAgACAApQCkACEAIQCmAKUApQCnAKcApwAjAKoAqwCtAKgAqQC6AK4ArQCtAK4ArgDaAKwAGACyALIAowC0ALQAuQC0ALkAuQC6ALoAugCzALkAuwC7AKsAqwCrAMIAwgDCAMIAqwCrAMIAwgDGAMQAxgDKAMcAzADNAPgA+AD4AMoAyQDPAMIAwgDPAM8A0wDTANMA5QDhAOUA5QDlAOUA5QDcAN0AsACwANoA2gDbANsA3ADeAN4A4ADjAOQAsQDfAOIA4wDkAOIA4wDkAOYA5gDmAPIA8QDxAPIAuQDyAPEA8QCCAPQA9AC5APIA8gD2AN0AJQH0APcA9wD4APgA+AD4APgA+AD/AP8AjQAdAR0BHQEVARUBFQEdAf8AEAEQARAB/wD/ABABEAEQAS4BLgEuAS4BLgEQARABEAEVARUBFQGCABYBFgGKAIoAFwEYAYsAiwAZARgBGAEaARoBjQAdARoBHQH3ABsBIQEgARwBIAEgASEBIQE1ARUB3QAlASUBJwEoASkBKAEsASoB5QAwATABKgEmASYBIgE1ATUBNgE2ASsBLAEsAS0BLQEwATQB",
          "dtype": "i2"
         },
         "j": {
          "bdata": "LAAtAC8AZgBlAGcAaAAuADEAMgAzAGkAagBsAG0AbgBCAEMAcABxAHYAcgBzAHQAdQAsAJAAkQCTAJYAQgByAHQAkACSAJIAlACSAJYAlACVAAQABgAGAAUACgAKAAgACQADAAcAPAAIAAkAvQDAAAoANAA1ADgAOgA5ADcAPgA/AEAANgA8AD0AOwC8AL0AvgC/AMEAwABEAEUARgDDAMcAxQDGAMQAngCeAJ0AnwCeAKAAnwChAJsAnACiANAA1QDYAA8BoQDJAMoAywDMAMgAzQDOAP0A/gDQANEA0gDUANUAEgHWANcA2ADZABEBFAETAQ0BDgEPAXoAeAB5AHcA+QD6APsA/AB8AIAAfwCBAAUBAwEEAQoBfgB9AAABAQECAQkBBwEGAQgBCwEMAXoAPAE9AfsAAQE/AQYBDAE5AToBOAE7AT0BPgE+AT8BRwDnAOcAAQBgAJcAKgApACgAtQBIAEkA6ABhAGMA7ABgAGEAYgBjAOcA5wDnAJgAmQDqALYAuAC3AO4A6QDoAOsA7QDrAPAA7ADvAPAA7QAUABQADwATABEADwARAA8ACwAQAAwADAAdABAAEgASABMAFQAWAE4ATABPAFMAEgAXABgApAAbABsAGQAcABwAHgAeAB8AJAAcACIAIAAfACEAIQCmAKQApgAjAKoAqgANACUAJQAOAFwAJwBcACYAJgC0ACcAKABgACoAKgApACsAKwA3ADgAOQA3ADAAMAAtACwALwAuADEAMgA6AD4APwBBAEAAMwAjADQANgA1ADsAPAA9AKsAQABCAPgAQwBEAEQARQBGAFEATQBRAE4ATABPAFAATgBUAFMAUwBVAFUAUABWAFIAVABYAFEAVgBXAFoAWABWAIcAWQCHAEoASgBLAF0AXABdAF4AgwBeAF8AYQBiAGQAYwDxAOwAXgDzAIIAZgBmAGUAZwBoAGsAaQBqAGoAbABrAG8AbQBtAHsAdwB3AHAAcQD5APkAeQB5AHYAeAD5AHoAbgBzAI0AgAB8AHcAfQB+AIAAfwCBAIgAiABaAIQAWwCHAIYAiACFAIwAhACGAG8AigCJAIwAhgCKAIkAiwCNAI0AjACjAKMAugClAKQAqACpAKYApwCoAK0AqQCoAK4ArACqAKwArACvAK8AsACwALEA2gCwAK8A2wDbALEAsgCzALQAswC1ALYAtgC5ALgAtwCzANwAuwC5APYA3QD2ALwAvQC+AL8AwADBAMcAwgDPAMsA0ADMAMwAxQDIAMgAxQDDAMMAzQDOAMcAxwDTANEA0wCxAOEA0gDUAOUA1QDlANYA1wDYANkALgHdACcB3gDcAN4A4ADfAOAA4gDjAOIA5ADkAOYA3wDmACgBKQEqAScBKAEpAeUALwEqAfAA7QDyAO4A7gDvAPQA8wAWAfMAFgHyAPUA9AD1APYA9QD3ACYBIgH6APsA/AD/AP0A/gD+AAABAwEDAQQBBQEKAQsBDAEKAQ0BBgEOAQ8BEAEOAQEBAgESAREBEwEUARABNAEJAQgBBwEJARABNAEXARcBGwEYARkBGAEZAR4BGgEaASABHAEfASEBHQEfAR4BFQEbASABHwEcASEBNQEjASQBNgEjASQBJQErASYBKwEsAS0BKwEtAS0BLwEuATQBMAExASIBNQEzATYBJAEyATEBMQEzATIBMwEyATIB",
          "dtype": "i2"
         },
         "k": {
          "bdata": "LQAuACwALwBmAGUAZwAxADIAMwBCAGgAaQBqAGwAbQBDAHAAcQByAHQAdgBuAHUAcwCQADEAZQBpAG4AlACVAJYAkgCRAJAAkgCTAJMAlQCWAAYAAwAHAAYABgAJAAcACAA0ADoABAA/AEUABQAKAMQANQA2ADcAOQA4ADQAOgA+AD8AOwA9ALwAPAC9AL4AvwDAAMcAwQBAAEQARQBGAMUAxgDEAMMAmwCcAJ4AngCiAKIAoQCgAMoAzAD+AJ0AnwChAKIAEwHLAMkA0ADIAMoAzADNAM4A/QDRANIA1ADVANYADwHXANgA2QARARMBEgEUAf4ADQEOAfkAegB4AHkA+gD7APwAAAF+AHwAgAB/AAQBgQADAQUBfQB3AAEBAgEGAQwBCAEHAQkBCgELATgBfgB/ADkBOgEEAT4BPwE7ATsBOwE8ATwBOwE/AT0B5wCXAAEAKQBHACoAKQAoAGAAKgDnAOcA5wBIAEkA6ABhAGIAYwDsAJgAmQDqALUAtgC3ALUAtgC4ALcA6wDpAOoA6QDuAOsA7QDuAO8A8AAOAE0AEwAUABUAFQAWABAAEAANABEADwARABQAEQAWAEwATgBPAEwATQBOAE8AFwBTAB8AHwAZAAsADAAMAB0AGQAcABsAHwAiACsAHgAgABwAIgAeACAAIQArACIAIwAkACQAJgAlACUAJgAnABgAsgCyALQAKQAoALQAtQAqABIAMAAwADkAOgA4ABcALQAsAC8AZgAtAC4AMQA+AD8AQAAyAEEAMgA2ADcANQA0ADYAOwA8AD0ARAAzAEIAQgD4AEUARgDDAEoASgBLAFAAUQBSAFEAUgBSAFQAVQBTAFkAVwBXAFYAWABWAFcAWgCDAIMAWwBbAFsAWABYAFwAXQBdAF8AXwBkAF0AXgBkAGAAYABhAPEAYgBjAGMAggDxAPMAVQBlAGcAaABpAFkAagBrAGwAbQBvAIcAewBuAG8AcwB1AEMAcABxAHIAdgB3AHcAeQB6AHgAcwB3AG8AjQCAAH0AfgB8AH8AgQADAYIAFwGFAIUAhACGAIQAXgCIAIYAiQCJAIwAiACKAIsAiwAXARkBGQGMAB4BHgGkAKkAqQCmAKUApgClAKcAqgCnAKgArQCuAKwAqgCrAKsAzwCoAK4ArQCpAKwArwDaANsAsQCvAM8AowCjALMAugC2ALkAuACzALcA7gC7ALAA3AC7ALsA3ADdAD0AvAC9AL4AvwDAAMEAvgDCAMcAywDEAMMAzADHAMUAyADMAM0AzgD9AMkAywDCANAA0QDhANMA0QDSANQA1ADTANUA1gDXANgA2QDiAOIA2gDeAOAA2wCxAN8A3gDgAOMA3wDgAN8A4QDhAOMA5ADmACgBKQEqAeEA5QAvAe0A7ADtAO8A8gDwAPIA9ADzABYB9wD2APYA9QAlASUBJgH1APUAJgH5APoA+wD8AP4A/wANAfwAHQEEAQUBCgELAQwBCQEVAQ4BAgEPARIBAAEQAQABAQEUAdkAEQETARQBEAEIAQcBBgEQATQBJAEWARsB9wAXARgBGwEcARoBGQEcARsBIAEhARwBHgEeAR8BHwEiASIBJAEjASMBIgE1ATYBIwE2AR8BJwEnASsBKAEpASoBLAEpATABLgEvAS4BLwErATEBMQExATMBMgEzASwBMwEtATABMgE0ASQB",
          "dtype": "i2"
         },
         "opacity": 0.8,
         "scene": "scene5",
         "type": "mesh3d",
         "x": {
          "bdata": "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",
          "dtype": "f8"
         },
         "y": {
          "bdata": "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",
          "dtype": "f8"
         },
         "z": {
          "bdata": "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",
          "dtype": "f8"
         }
        }
       ],
       "layout": {
        "annotations": [
         {
          "font": {
           "size": 16
          },
          "showarrow": false,
          "text": "Cylinder",
          "x": 0.14444444444444446,
          "xanchor": "center",
          "xref": "paper",
          "y": 1,
          "yanchor": "bottom",
          "yref": "paper"
         },
         {
          "font": {
           "size": 16
          },
          "showarrow": false,
          "text": "Torus",
          "x": 0.5,
          "xanchor": "center",
          "xref": "paper",
          "y": 1,
          "yanchor": "bottom",
          "yref": "paper"
         },
         {
          "font": {
           "size": 16
          },
          "showarrow": false,
          "text": "Y-Branch",
          "x": 0.8555555555555556,
          "xanchor": "center",
          "xref": "paper",
          "y": 1,
          "yanchor": "bottom",
          "yref": "paper"
         },
         {
          "font": {
           "size": 16
          },
          "showarrow": false,
          "text": "Multi-Branch",
          "x": 0.14444444444444446,
          "xanchor": "center",
          "xref": "paper",
          "y": 0.375,
          "yanchor": "bottom",
          "yref": "paper"
         },
         {
          "font": {
           "size": 16
          },
          "showarrow": false,
          "text": "Complete Neuron",
          "x": 0.5,
          "xanchor": "center",
          "xref": "paper",
          "y": 0.375,
          "yanchor": "bottom",
          "yref": "paper"
         }
        ],
        "height": 800,
        "scene": {
         "domain": {
          "x": [
           0,
           0.2888888888888889
          ],
          "y": [
           0.625,
           1
          ]
         }
        },
        "scene2": {
         "domain": {
          "x": [
           0.35555555555555557,
           0.6444444444444445
          ],
          "y": [
           0.625,
           1
          ]
         }
        },
        "scene3": {
         "domain": {
          "x": [
           0.7111111111111111,
           1
          ],
          "y": [
           0.625,
           1
          ]
         }
        },
        "scene4": {
         "domain": {
          "x": [
           0,
           0.2888888888888889
          ],
          "y": [
           0,
           0.375
          ]
         }
        },
        "scene5": {
         "domain": {
          "x": [
           0.35555555555555557,
           0.6444444444444445
          ],
          "y": [
           0,
           0.375
          ]
         }
        },
        "scene6": {
         "domain": {
          "x": [
           0.7111111111111111,
           1
          ],
          "y": [
           0,
           0.375
          ]
         }
        },
        "showlegend": false,
        "template": {
         "data": {
          "bar": [
           {
            "error_x": {
             "color": "#2a3f5f"
            },
            "error_y": {
             "color": "#2a3f5f"
            },
            "marker": {
             "line": {
              "color": "#E5ECF6",
              "width": 0.5
             },
             "pattern": {
              "fillmode": "overlay",
              "size": 10,
              "solidity": 0.2
             }
            },
            "type": "bar"
           }
          ],
          "barpolar": [
           {
            "marker": {
             "line": {
              "color": "#E5ECF6",
              "width": 0.5
             },
             "pattern": {
              "fillmode": "overlay",
              "size": 10,
              "solidity": 0.2
             }
            },
            "type": "barpolar"
           }
          ],
          "carpet": [
           {
            "aaxis": {
             "endlinecolor": "#2a3f5f",
             "gridcolor": "white",
             "linecolor": "white",
             "minorgridcolor": "white",
             "startlinecolor": "#2a3f5f"
            },
            "baxis": {
             "endlinecolor": "#2a3f5f",
             "gridcolor": "white",
             "linecolor": "white",
             "minorgridcolor": "white",
             "startlinecolor": "#2a3f5f"
            },
            "type": "carpet"
           }
          ],
          "choropleth": [
           {
            "colorbar": {
             "outlinewidth": 0,
             "ticks": ""
            },
            "type": "choropleth"
           }
          ],
          "contour": [
           {
            "colorbar": {
             "outlinewidth": 0,
             "ticks": ""
            },
            "colorscale": [
             [
              0,
              "#0d0887"
             ],
             [
              0.1111111111111111,
              "#46039f"
             ],
             [
              0.2222222222222222,
              "#7201a8"
             ],
             [
              0.3333333333333333,
              "#9c179e"
             ],
             [
              0.4444444444444444,
              "#bd3786"
             ],
             [
              0.5555555555555556,
              "#d8576b"
             ],
             [
              0.6666666666666666,
              "#ed7953"
             ],
             [
              0.7777777777777778,
              "#fb9f3a"
             ],
             [
              0.8888888888888888,
              "#fdca26"
             ],
             [
              1,
              "#f0f921"
             ]
            ],
            "type": "contour"
           }
          ],
          "contourcarpet": [
           {
            "colorbar": {
             "outlinewidth": 0,
             "ticks": ""
            },
            "type": "contourcarpet"
           }
          ],
          "heatmap": [
           {
            "colorbar": {
             "outlinewidth": 0,
             "ticks": ""
            },
            "colorscale": [
             [
              0,
              "#0d0887"
             ],
             [
              0.1111111111111111,
              "#46039f"
             ],
             [
              0.2222222222222222,
              "#7201a8"
             ],
             [
              0.3333333333333333,
              "#9c179e"
             ],
             [
              0.4444444444444444,
              "#bd3786"
             ],
             [
              0.5555555555555556,
              "#d8576b"
             ],
             [
              0.6666666666666666,
              "#ed7953"
             ],
             [
              0.7777777777777778,
              "#fb9f3a"
             ],
             [
              0.8888888888888888,
              "#fdca26"
             ],
             [
              1,
              "#f0f921"
             ]
            ],
            "type": "heatmap"
           }
          ],
          "histogram": [
           {
            "marker": {
             "pattern": {
              "fillmode": "overlay",
              "size": 10,
              "solidity": 0.2
             }
            },
            "type": "histogram"
           }
          ],
          "histogram2d": [
           {
            "colorbar": {
             "outlinewidth": 0,
             "ticks": ""
            },
            "colorscale": [
             [
              0,
              "#0d0887"
             ],
             [
              0.1111111111111111,
              "#46039f"
             ],
             [
              0.2222222222222222,
              "#7201a8"
             ],
             [
              0.3333333333333333,
              "#9c179e"
             ],
             [
              0.4444444444444444,
              "#bd3786"
             ],
             [
              0.5555555555555556,
              "#d8576b"
             ],
             [
              0.6666666666666666,
              "#ed7953"
             ],
             [
              0.7777777777777778,
              "#fb9f3a"
             ],
             [
              0.8888888888888888,
              "#fdca26"
             ],
             [
              1,
              "#f0f921"
             ]
            ],
            "type": "histogram2d"
           }
          ],
          "histogram2dcontour": [
           {
            "colorbar": {
             "outlinewidth": 0,
             "ticks": ""
            },
            "colorscale": [
             [
              0,
              "#0d0887"
             ],
             [
              0.1111111111111111,
              "#46039f"
             ],
             [
              0.2222222222222222,
              "#7201a8"
             ],
             [
              0.3333333333333333,
              "#9c179e"
             ],
             [
              0.4444444444444444,
              "#bd3786"
             ],
             [
              0.5555555555555556,
              "#d8576b"
             ],
             [
              0.6666666666666666,
              "#ed7953"
             ],
             [
              0.7777777777777778,
              "#fb9f3a"
             ],
             [
              0.8888888888888888,
              "#fdca26"
             ],
             [
              1,
              "#f0f921"
             ]
            ],
            "type": "histogram2dcontour"
           }
          ],
          "mesh3d": [
           {
            "colorbar": {
             "outlinewidth": 0,
             "ticks": ""
            },
            "type": "mesh3d"
           }
          ],
          "parcoords": [
           {
            "line": {
             "colorbar": {
              "outlinewidth": 0,
              "ticks": ""
             }
            },
            "type": "parcoords"
           }
          ],
          "pie": [
           {
            "automargin": true,
            "type": "pie"
           }
          ],
          "scatter": [
           {
            "fillpattern": {
             "fillmode": "overlay",
             "size": 10,
             "solidity": 0.2
            },
            "type": "scatter"
           }
          ],
          "scatter3d": [
           {
            "line": {
             "colorbar": {
              "outlinewidth": 0,
              "ticks": ""
             }
            },
            "marker": {
             "colorbar": {
              "outlinewidth": 0,
              "ticks": ""
             }
            },
            "type": "scatter3d"
           }
          ],
          "scattercarpet": [
           {
            "marker": {
             "colorbar": {
              "outlinewidth": 0,
              "ticks": ""
             }
            },
            "type": "scattercarpet"
           }
          ],
          "scattergeo": [
           {
            "marker": {
             "colorbar": {
              "outlinewidth": 0,
              "ticks": ""
             }
            },
            "type": "scattergeo"
           }
          ],
          "scattergl": [
           {
            "marker": {
             "colorbar": {
              "outlinewidth": 0,
              "ticks": ""
             }
            },
            "type": "scattergl"
           }
          ],
          "scattermap": [
           {
            "marker": {
             "colorbar": {
              "outlinewidth": 0,
              "ticks": ""
             }
            },
            "type": "scattermap"
           }
          ],
          "scattermapbox": [
           {
            "marker": {
             "colorbar": {
              "outlinewidth": 0,
              "ticks": ""
             }
            },
            "type": "scattermapbox"
           }
          ],
          "scatterpolar": [
           {
            "marker": {
             "colorbar": {
              "outlinewidth": 0,
              "ticks": ""
             }
            },
            "type": "scatterpolar"
           }
          ],
          "scatterpolargl": [
           {
            "marker": {
             "colorbar": {
              "outlinewidth": 0,
              "ticks": ""
             }
            },
            "type": "scatterpolargl"
           }
          ],
          "scatterternary": [
           {
            "marker": {
             "colorbar": {
              "outlinewidth": 0,
              "ticks": ""
             }
            },
            "type": "scatterternary"
           }
          ],
          "surface": [
           {
            "colorbar": {
             "outlinewidth": 0,
             "ticks": ""
            },
            "colorscale": [
             [
              0,
              "#0d0887"
             ],
             [
              0.1111111111111111,
              "#46039f"
             ],
             [
              0.2222222222222222,
              "#7201a8"
             ],
             [
              0.3333333333333333,
              "#9c179e"
             ],
             [
              0.4444444444444444,
              "#bd3786"
             ],
             [
              0.5555555555555556,
              "#d8576b"
             ],
             [
              0.6666666666666666,
              "#ed7953"
             ],
             [
              0.7777777777777778,
              "#fb9f3a"
             ],
             [
              0.8888888888888888,
              "#fdca26"
             ],
             [
              1,
              "#f0f921"
             ]
            ],
            "type": "surface"
           }
          ],
          "table": [
           {
            "cells": {
             "fill": {
              "color": "#EBF0F8"
             },
             "line": {
              "color": "white"
             }
            },
            "header": {
             "fill": {
              "color": "#C8D4E3"
             },
             "line": {
              "color": "white"
             }
            },
            "type": "table"
           }
          ]
         },
         "layout": {
          "annotationdefaults": {
           "arrowcolor": "#2a3f5f",
           "arrowhead": 0,
           "arrowwidth": 1
          },
          "autotypenumbers": "strict",
          "coloraxis": {
           "colorbar": {
            "outlinewidth": 0,
            "ticks": ""
           }
          },
          "colorscale": {
           "diverging": [
            [
             0,
             "#8e0152"
            ],
            [
             0.1,
             "#c51b7d"
            ],
            [
             0.2,
             "#de77ae"
            ],
            [
             0.3,
             "#f1b6da"
            ],
            [
             0.4,
             "#fde0ef"
            ],
            [
             0.5,
             "#f7f7f7"
            ],
            [
             0.6,
             "#e6f5d0"
            ],
            [
             0.7,
             "#b8e186"
            ],
            [
             0.8,
             "#7fbc41"
            ],
            [
             0.9,
             "#4d9221"
            ],
            [
             1,
             "#276419"
            ]
           ],
           "sequential": [
            [
             0,
             "#0d0887"
            ],
            [
             0.1111111111111111,
             "#46039f"
            ],
            [
             0.2222222222222222,
             "#7201a8"
            ],
            [
             0.3333333333333333,
             "#9c179e"
            ],
            [
             0.4444444444444444,
             "#bd3786"
            ],
            [
             0.5555555555555556,
             "#d8576b"
            ],
            [
             0.6666666666666666,
             "#ed7953"
            ],
            [
             0.7777777777777778,
             "#fb9f3a"
            ],
            [
             0.8888888888888888,
             "#fdca26"
            ],
            [
             1,
             "#f0f921"
            ]
           ],
           "sequentialminus": [
            [
             0,
             "#0d0887"
            ],
            [
             0.1111111111111111,
             "#46039f"
            ],
            [
             0.2222222222222222,
             "#7201a8"
            ],
            [
             0.3333333333333333,
             "#9c179e"
            ],
            [
             0.4444444444444444,
             "#bd3786"
            ],
            [
             0.5555555555555556,
             "#d8576b"
            ],
            [
             0.6666666666666666,
             "#ed7953"
            ],
            [
             0.7777777777777778,
             "#fb9f3a"
            ],
            [
             0.8888888888888888,
             "#fdca26"
            ],
            [
             1,
             "#f0f921"
            ]
           ]
          },
          "colorway": [
           "#636efa",
           "#EF553B",
           "#00cc96",
           "#ab63fa",
           "#FFA15A",
           "#19d3f3",
           "#FF6692",
           "#B6E880",
           "#FF97FF",
           "#FECB52"
          ],
          "font": {
           "color": "#2a3f5f"
          },
          "geo": {
           "bgcolor": "white",
           "lakecolor": "white",
           "landcolor": "#E5ECF6",
           "showlakes": true,
           "showland": true,
           "subunitcolor": "white"
          },
          "hoverlabel": {
           "align": "left"
          },
          "hovermode": "closest",
          "mapbox": {
           "style": "light"
          },
          "paper_bgcolor": "white",
          "plot_bgcolor": "#E5ECF6",
          "polar": {
           "angularaxis": {
            "gridcolor": "white",
            "linecolor": "white",
            "ticks": ""
           },
           "bgcolor": "#E5ECF6",
           "radialaxis": {
            "gridcolor": "white",
            "linecolor": "white",
            "ticks": ""
           }
          },
          "scene": {
           "xaxis": {
            "backgroundcolor": "#E5ECF6",
            "gridcolor": "white",
            "gridwidth": 2,
            "linecolor": "white",
            "showbackground": true,
            "ticks": "",
            "zerolinecolor": "white"
           },
           "yaxis": {
            "backgroundcolor": "#E5ECF6",
            "gridcolor": "white",
            "gridwidth": 2,
            "linecolor": "white",
            "showbackground": true,
            "ticks": "",
            "zerolinecolor": "white"
           },
           "zaxis": {
            "backgroundcolor": "#E5ECF6",
            "gridcolor": "white",
            "gridwidth": 2,
            "linecolor": "white",
            "showbackground": true,
            "ticks": "",
            "zerolinecolor": "white"
           }
          },
          "shapedefaults": {
           "line": {
            "color": "#2a3f5f"
           }
          },
          "ternary": {
           "aaxis": {
            "gridcolor": "white",
            "linecolor": "white",
            "ticks": ""
           },
           "baxis": {
            "gridcolor": "white",
            "linecolor": "white",
            "ticks": ""
           },
           "bgcolor": "#E5ECF6",
           "caxis": {
            "gridcolor": "white",
            "linecolor": "white",
            "ticks": ""
           }
          },
          "title": {
           "x": 0.05
          },
          "xaxis": {
           "automargin": true,
           "gridcolor": "white",
           "linecolor": "white",
           "ticks": "",
           "title": {
            "standoff": 15
           },
           "zerolinecolor": "white",
           "zerolinewidth": 2
          },
          "yaxis": {
           "automargin": true,
           "gridcolor": "white",
           "linecolor": "white",
           "ticks": "",
           "title": {
            "standoff": 15
           },
           "zerolinecolor": "white",
           "zerolinewidth": 2
          }
         }
        },
        "title": {
         "text": "GenCoMo Demo Meshes Comparison"
        }
       }
      }
     },
     "metadata": {},
     "output_type": "display_data"
    }
   ],
   "source": [
    "# Create a comparison plot showing all meshes together\n",
    "import plotly.graph_objects as go\n",
    "from plotly.subplots import make_subplots\n",
    "\n",
    "# Create subplots\n",
    "fig = make_subplots(\n",
    "    rows=2, cols=3,\n",
    "    specs=[[{\"type\": \"scatter3d\"}, {\"type\": \"scatter3d\"}, {\"type\": \"scatter3d\"}],\n",
    "           [{\"type\": \"scatter3d\"}, {\"type\": \"scatter3d\"}, {\"type\": \"scatter3d\"}]],\n",
    "    subplot_titles=[\"Cylinder\", \"Torus\", \"Y-Branch\", \"Multi-Branch\", \"Complete Neuron\", \"\"]\n",
    ")\n",
    "\n",
    "mesh_list = [cylinder, torus, y_branch, multi_branch, neuron]\n",
    "colors = [\"lightblue\", \"purple\", \"lightgreen\", \"orange\", \"coral\"]\n",
    "positions = [(1, 1), (1, 2), (1, 3), (2, 1), (2, 2)]\n",
    "\n",
    "for i, (mesh, color, pos) in enumerate(zip(mesh_list, colors, positions)):\n",
    "    vertices = mesh.vertices\n",
    "    faces = mesh.faces\n",
    "    \n",
    "    trace = go.Mesh3d(\n",
    "        x=vertices[:, 0],\n",
    "        y=vertices[:, 1],\n",
    "        z=vertices[:, 2],\n",
    "        i=faces[:, 0],\n",
    "        j=faces[:, 1],\n",
    "        k=faces[:, 2],\n",
    "        color=color,\n",
    "        opacity=0.8\n",
    "    )\n",
    "    \n",
    "    fig.add_trace(trace, row=pos[0], col=pos[1])\n",
    "\n",
    "fig.update_layout(\n",
    "    title=\"GenCoMo Demo Meshes Comparison\",\n",
    "    height=800,\n",
    "    showlegend=False\n",
    ")\n",
    "\n",
    "fig.show()"
   ]
  },
  {
   "cell_type": "markdown",
   "id": "c5d3af90",
   "metadata": {},
   "source": [
    "## 8. Interactive Slice Visualization\n",
    "\n",
    "Let's explore the internal structure of our meshes using interactive cross-sectional views:"
   ]
  },
  {
   "cell_type": "code",
   "execution_count": 14,
   "id": "a09c2aaa",
   "metadata": {},
   "outputs": [
    {
     "data": {
      "application/vnd.plotly.v1+json": {
       "config": {
        "plotlyServerURL": "https://plot.ly"
       },
       "data": [
        {
         "color": "coral",
         "i": {
          "bdata": "kACQAI8AjwCPAJEAkQCQAI4AjgCOAJEAkwCTAJMAkwCUAJQAlACUAJUAlQCWAJYAlgCPAI4AjwCRAJMAjgCUAJUAjwCPAI4AjgCRAJIAkgCSAAIAAgADAAQABQAGAAYABgACAAMAAgAHAAgABAAFAAkAAgACAAMAAwADAAMABwAHAAgAAgAEAAQAAgAEAAUABQAFAAoACgAIAAgACQAJAAoACgAKAAkAmgCbAJoAnQCcAJ4AngCeAJoAmwCcAJoAnQCfAKAAoACaAJoAmgCbAJsAnACcAJwAnACdAJ0AnQCdAJ8AoACfAJ8AoQChAKEAoACgAKIAogCiADgBNwE3ATcBOAE4ATkBOQE8ATwBPAE9AT8BPQE9AT8BNwE3ATkBOgE6AT4BPgE+AT4BPwE/ATcBNwE8ATgBOQE9AToBPgE4ATkBNwE3ATsBOgE7ATsBAAABAAAAAAAAAAEAAQAAAAAAlwBHAEgASQBHAEgASQBHAEgASABJAJcAmACZAJcAmACZAJgAmQCZAOoA5wDnAOcA6ADqAOkA6ADrAOsA6QANAA4AEAAQAA8AEwAVAAsAGgAaAA8ACwAMAA0AHQARABQAEwAVABMAFAAVABYAFgAWACQAGAALABoACwAZAAwAGwAZABoAGgAdAB0AGwAbAB4AHAAgAB8AHgAiACEAIgAaAA0AJAANAA4AJQAlACQAGAAmACYAJwAnACcAtAAnAB0AEgArADAAMAAwABIAFwAXABcAFwAwADAAMAAwADAAMAAwADAAQQArACsAKwArACMAIwAjACMAQQBBAEEA+ABBAPgA+AD4AE0ADgBKAEwATQBOAEwAUABPAE8AVAAXAFQAUQBQAFAAUgBSAEsAVwBLAFcAVgBaAFgAVABZAA4AXABKAFwAJwBfAEsASwBdACcAXwBfAF8AXwBfAPEAZABkAGQAFwBVAFUAVQBVAFUAVQBVAGsAawBZAFkAawB7AGsAdQB0APgA+AD4AHEAcgB2AHQAcgByAHIAewB7AHsAewB7AHsAewB7AI0AjQCNAF4AggCDAFoAWgBbAFsAgwCDAIcAhQCEAIcAhQCFAIYAiQCIAIoAiQBvAIwAiwAYAKQAowAgACAApQCkACEAIQCmAKUApQCnAKcApwAjAKoAqwCtAKgAqQC6AK4ArQCtAK4ArgDaAKwAGACyALIAowC0ALQAuQC0ALkAuQC6ALoAugCzALkAuwC7AKsAqwCrAMIAwgDCAMIAqwCrAMIAwgDGAMQAxgDKAMcAzADNAPgA+AD4AMoAyQDPAMIAwgDPAM8A0wDTANMA5QDhAOUA5QDlAOUA5QDcAN0AsACwANoA2gDbANsA3ADeAN4A4ADjAOQAsQDfAOIA4wDkAOIA4wDkAOYA5gDmAPIA8QDxAPIAuQDyAPEA8QCCAPQA9AC5APIA8gD2AN0AJQH0APcA9wD4APgA+AD4APgA+AD/AP8AjQAdAR0BHQEVARUBFQEdAf8AEAEQARAB/wD/ABABEAEQAS4BLgEuAS4BLgEQARABEAEVARUBFQGCABYBFgGKAIoAFwEYAYsAiwAZARgBGAEaARoBjQAdARoBHQH3ABsBIQEgARwBIAEgASEBIQE1ARUB3QAlASUBJwEoASkBKAEsASoB5QAwATABKgEmASYBIgE1ATUBNgE2ASsBLAEsAS0BLQEwATQB",
          "dtype": "i2"
         },
         "j": {
          "bdata": "LAAtAC8AZgBlAGcAaAAuADEAMgAzAGkAagBsAG0AbgBCAEMAcABxAHYAcgBzAHQAdQAsAJAAkQCTAJYAQgByAHQAkACSAJIAlACSAJYAlACVAAQABgAGAAUACgAKAAgACQADAAcAPAAIAAkAvQDAAAoANAA1ADgAOgA5ADcAPgA/AEAANgA8AD0AOwC8AL0AvgC/AMEAwABEAEUARgDDAMcAxQDGAMQAngCeAJ0AnwCeAKAAnwChAJsAnACiANAA1QDYAA8BoQDJAMoAywDMAMgAzQDOAP0A/gDQANEA0gDUANUAEgHWANcA2ADZABEBFAETAQ0BDgEPAXoAeAB5AHcA+QD6APsA/AB8AIAAfwCBAAUBAwEEAQoBfgB9AAABAQECAQkBBwEGAQgBCwEMAXoAPAE9AfsAAQE/AQYBDAE5AToBOAE7AT0BPgE+AT8BRwDnAOcAAQBgAJcAKgApACgAtQBIAEkA6ABhAGMA7ABgAGEAYgBjAOcA5wDnAJgAmQDqALYAuAC3AO4A6QDoAOsA7QDrAPAA7ADvAPAA7QAUABQADwATABEADwARAA8ACwAQAAwADAAdABAAEgASABMAFQAWAE4ATABPAFMAEgAXABgApAAbABsAGQAcABwAHgAeAB8AJAAcACIAIAAfACEAIQCmAKQApgAjAKoAqgANACUAJQAOAFwAJwBcACYAJgC0ACcAKABgACoAKgApACsAKwA3ADgAOQA3ADAAMAAtACwALwAuADEAMgA6AD4APwBBAEAAMwAjADQANgA1ADsAPAA9AKsAQABCAPgAQwBEAEQARQBGAFEATQBRAE4ATABPAFAATgBUAFMAUwBVAFUAUABWAFIAVABYAFEAVgBXAFoAWABWAIcAWQCHAEoASgBLAF0AXABdAF4AgwBeAF8AYQBiAGQAYwDxAOwAXgDzAIIAZgBmAGUAZwBoAGsAaQBqAGoAbABrAG8AbQBtAHsAdwB3AHAAcQD5APkAeQB5AHYAeAD5AHoAbgBzAI0AgAB8AHcAfQB+AIAAfwCBAIgAiABaAIQAWwCHAIYAiACFAIwAhACGAG8AigCJAIwAhgCKAIkAiwCNAI0AjACjAKMAugClAKQAqACpAKYApwCoAK0AqQCoAK4ArACqAKwArACvAK8AsACwALEA2gCwAK8A2wDbALEAsgCzALQAswC1ALYAtgC5ALgAtwCzANwAuwC5APYA3QD2ALwAvQC+AL8AwADBAMcAwgDPAMsA0ADMAMwAxQDIAMgAxQDDAMMAzQDOAMcAxwDTANEA0wCxAOEA0gDUAOUA1QDlANYA1wDYANkALgHdACcB3gDcAN4A4ADfAOAA4gDjAOIA5ADkAOYA3wDmACgBKQEqAScBKAEpAeUALwEqAfAA7QDyAO4A7gDvAPQA8wAWAfMAFgHyAPUA9AD1APYA9QD3ACYBIgH6APsA/AD/AP0A/gD+AAABAwEDAQQBBQEKAQsBDAEKAQ0BBgEOAQ8BEAEOAQEBAgESAREBEwEUARABNAEJAQgBBwEJARABNAEXARcBGwEYARkBGAEZAR4BGgEaASABHAEfASEBHQEfAR4BFQEbASABHwEcASEBNQEjASQBNgEjASQBJQErASYBKwEsAS0BKwEtAS0BLwEuATQBMAExASIBNQEzATYBJAEyATEBMQEzATIBMwEyATIB",
          "dtype": "i2"
         },
         "k": {
          "bdata": "LQAuACwALwBmAGUAZwAxADIAMwBCAGgAaQBqAGwAbQBDAHAAcQByAHQAdgBuAHUAcwCQADEAZQBpAG4AlACVAJYAkgCRAJAAkgCTAJMAlQCWAAYAAwAHAAYABgAJAAcACAA0ADoABAA/AEUABQAKAMQANQA2ADcAOQA4ADQAOgA+AD8AOwA9ALwAPAC9AL4AvwDAAMcAwQBAAEQARQBGAMUAxgDEAMMAmwCcAJ4AngCiAKIAoQCgAMoAzAD+AJ0AnwChAKIAEwHLAMkA0ADIAMoAzADNAM4A/QDRANIA1ADVANYADwHXANgA2QARARMBEgEUAf4ADQEOAfkAegB4AHkA+gD7APwAAAF+AHwAgAB/AAQBgQADAQUBfQB3AAEBAgEGAQwBCAEHAQkBCgELATgBfgB/ADkBOgEEAT4BPwE7ATsBOwE8ATwBOwE/AT0B5wCXAAEAKQBHACoAKQAoAGAAKgDnAOcA5wBIAEkA6ABhAGIAYwDsAJgAmQDqALUAtgC3ALUAtgC4ALcA6wDpAOoA6QDuAOsA7QDuAO8A8AAOAE0AEwAUABUAFQAWABAAEAANABEADwARABQAEQAWAEwATgBPAEwATQBOAE8AFwBTAB8AHwAZAAsADAAMAB0AGQAcABsAHwAiACsAHgAgABwAIgAeACAAIQArACIAIwAkACQAJgAlACUAJgAnABgAsgCyALQAKQAoALQAtQAqABIAMAAwADkAOgA4ABcALQAsAC8AZgAtAC4AMQA+AD8AQAAyAEEAMgA2ADcANQA0ADYAOwA8AD0ARAAzAEIAQgD4AEUARgDDAEoASgBLAFAAUQBSAFEAUgBSAFQAVQBTAFkAVwBXAFYAWABWAFcAWgCDAIMAWwBbAFsAWABYAFwAXQBdAF8AXwBkAF0AXgBkAGAAYABhAPEAYgBjAGMAggDxAPMAVQBlAGcAaABpAFkAagBrAGwAbQBvAIcAewBuAG8AcwB1AEMAcABxAHIAdgB3AHcAeQB6AHgAcwB3AG8AjQCAAH0AfgB8AH8AgQADAYIAFwGFAIUAhACGAIQAXgCIAIYAiQCJAIwAiACKAIsAiwAXARkBGQGMAB4BHgGkAKkAqQCmAKUApgClAKcAqgCnAKgArQCuAKwAqgCrAKsAzwCoAK4ArQCpAKwArwDaANsAsQCvAM8AowCjALMAugC2ALkAuACzALcA7gC7ALAA3AC7ALsA3ADdAD0AvAC9AL4AvwDAAMEAvgDCAMcAywDEAMMAzADHAMUAyADMAM0AzgD9AMkAywDCANAA0QDhANMA0QDSANQA1ADTANUA1gDXANgA2QDiAOIA2gDeAOAA2wCxAN8A3gDgAOMA3wDgAN8A4QDhAOMA5ADmACgBKQEqAeEA5QAvAe0A7ADtAO8A8gDwAPIA9ADzABYB9wD2APYA9QAlASUBJgH1APUAJgH5APoA+wD8AP4A/wANAfwAHQEEAQUBCgELAQwBCQEVAQ4BAgEPARIBAAEQAQABAQEUAdkAEQETARQBEAEIAQcBBgEQATQBJAEWARsB9wAXARgBGwEcARoBGQEcARsBIAEhARwBHgEeAR8BHwEiASIBJAEjASMBIgE1ATYBIwE2AR8BJwEnASsBKAEpASoBLAEpATABLgEvAS4BLwErATEBMQExATMBMgEzASwBMwEtATABMgE0ASQB",
          "dtype": "i2"
         },
         "name": "Mesh",
         "opacity": 0.2,
         "type": "mesh3d",
         "x": {
          "bdata": "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",
          "dtype": "f8"
         },
         "y": {
          "bdata": "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",
          "dtype": "f8"
         },
         "z": {
          "bdata": "AAAAAAAAWcAAAAAAAABZwAAAAODcwkhAAAAAYF+dSEAAAABgXx1JQAAAAODhd0lAAAAAYF8dSUAAAADg3MJIQAAAAGBfHUlAAAAA4OF3SUAAAABgX51JQAAAACAUs/m/AAAAIBSz+T8AAADA64IXwAAAAOBPwBvAAAAAAAAAAAAAAAAAq7gIwAAAAACruAhAAAAAwOuCF0AAAAAAW/75vwAAAOAEWxHAAAAAAFv++T8AAADgBFsRQAAAAOBPwBtAAAAAoPQUHMAAAAAAAAAAAAAAAABVAxHAAAAAIJbKBMAAAAAglsoEQAAAAABVAxFAAAAAAAAAAAAAAAAAAAAUwAAAAKB8BwXAAAAAoHwHBUAAAAAAAAAUQAAAAKD0FBxAAAAAQBOHG8AAAADAKi4gwAAAAODcQCHAAAAAwGgFI8AAAACAKYQjwAAAAKBGhyPAAAAAQOt8I8AAAABAE4cbQAAAAIBCcSBAAAAA4A5yIEAAAACACsUgQAAAAICLXSBAAAAAwCouIEAAAADgYs8hQAAAAGDT1iFAAAAAYEgsIkAAAACgTukfQAAAAICgzB9AAAAAQKDPH0AAAADAxrUgQAAAAMAb/CBAAAAAQKj9IEAAAADA7A8hQAAAAGD/ix9AAAAAgMRxH0AAAABgJmYfQAAAAICcLyJAAAAA4MdGIkAAAAAA6nkiQAAAAMBoBSNAAAAAwGgFI0AAAAAAfwkjQAAAAEB2GiNAAAAAADsjI0AAAADgnCUjQAAAAAAAAFnAAAAAAAAAWcAAAAAAAABZwAAAAOBPwBvAAAAAwOuCF8AAAACgf9wFwAAAAKB8BxXAAAAAAAAAAAAAAACgf9wFQAAAAABb/vm/AAAA4ARbEcAAAAAAW/75PwAAAKB8BxVAAAAA4ARbEUAAAADgT8AbQAAAAAAAAAAAAAAAAKu4CMAAAAAAq7gIQAAAAMDrghdAAAAAIBSz+b8AAAAgFLP5PwAAAABVAyHAAAAAwCouIMAAAABAE4cbwAAAAMBoBSPAAAAAIAFxI8AAAACAKYQjwAAAAKBGhyPAAAAAQOt8I8AAAADg3EAhwAAAAMCpbR9AAAAAQAZiH0AAAABAyYEfQAAAAMD02B9AAAAAwD/6H0AAAAAgQlUgQAAAAMAqLiBAAAAAAECrIEAAAADAqecgQAAAAKBu+yBAAAAAQBOHG0AAAAAAlzgjQAAAAKDnMCNAAAAAgA4sI0AAAADgDDEiQAAAAKCDRyJAAAAAYDw1IkAAAABgLhAjQAAAAGC0ACNAAAAAAGI9I0AAAAAgbzojQAAAAEDuQyNAAAAA4NxAIUAAAADAUxkhQAAAAKCM3iFAAAAAQJ7XIUAAAABAl3AgQAAAACA9cSBAAAAAwP9gIEAAAACg9BQcwAAAAABVAxHAAAAAAAAAAAAAAAAglsoEwAAAACCWygRAAAAAAFUDEUAAAAAAAAAUwAAAAAAAAAAAAAAAoHwHBcAAAACgfAcFQAAAAAAAABRAAAAAoPQUHEAAAABgX51JQAAAAGBfHUlAAAAA4OF3SUAAAADg3MJIQAAAAGBfHUlAAAAAYF+dSEAAAADg4XdJQAAAAGBfHUlAAAAA4NzCSEAAAAAAAABZwAAAAAAAAFnAAAAAAAAAWcAAAADg3MJIQAAAAGBfHUlAAAAA4OF3SUAAAABgX51IQAAAAGBfHUlAAAAA4NzCSEAAAADg4XdJQAAAAGBfHUlAAAAAYF+dSUAAAACg9BQcwAAAAKB8BxXAAAAAoHwHBcAAAAAAAAAAAAAAAKB8BwVAAAAAAAAAAAAAAAAAAAAUwAAAAKB8BxVAAAAAoPQUHEAAAAAAAAAUQAAAACCWygTAAAAAIJbKBEAAAAAAAAAAAAAAAABVAxHAAAAAAFUDEUAAAAAAVQMhwAAAAODcQCHAAAAA4B89I8AAAACgB5UjwAAAAEDrfCPAAAAAgCmEI8AAAACgRocjwAAAAMBoBSPAAAAAQBOHG8AAAADAKi4gwAAAAMD/YCBAAAAAQJdwIEAAAAAgPXEgQAAAAMBTGSFAAAAAQJ7XIUAAAACgjN4hQAAAAODcQCFAAAAAgEZJI0AAAABA7kMjQAAAACBvOiNAAAAAAGI9I0AAAABgtAAjQAAAAGAuECNAAAAAYDw1IkAAAACgg0ciQAAAAOAMMSJAAAAAgA4sI0AAAACg5zAjQAAAAACXOCNAAAAAQBOHG0AAAACgbvsgQAAAAMCp5yBAAAAAAECrIEAAAADAKi4gQAAAACBCVSBAAAAAwD/6H0AAAADA9NgfQAAAAEDJgR9AAAAAwKltH0AAAABABmIfQAAAACAUs/m/AAAAIBSz+T8AAADA64IXwAAAAOBPwBvAAAAAAKu4CMAAAAAAq7gIQAAAAAAAAAAAAAAAwOuCF0AAAADgBFsRwAAAAABb/vm/AAAAAFv++T8AAADgT8AbQAAAAOAEWxFAAAAAAAAAWcAAAAAAAABZwAAAAAAAAFnAAAAAAAAAWcAAAAAAAABZwAAAAKAHlSPAAAAAQOt8I8AAAAAgAXEjwAAAAIAphCPAAAAAoEaHI8AAAADgHz0jwAAAAMBoBSPAAAAAAFUDIcAAAADg3EAhwAAAAMAqLiDAAAAAAFUDIcAAAABAE4cbwAAAAAAAACRAAAAAgEZJI0AAAADgnCUjQAAAAAA7IyNAAAAAQHYaI0AAAAAAfwkjQAAAAMBoBSNAAAAAwGgFI0AAAAAA6nkiQAAAAODHRiJAAAAAgJwvIkAAAABgJmYfQAAAAIDEcR9AAAAAYP+LH0AAAADA7A8hQAAAAECo/SBAAAAAwBv8IEAAAADAxrUgQAAAAECgzx9AAAAAgKDMH0AAAACgTukfQAAAAGBILCJAAAAAYNPWIUAAAADgYs8hQAAAAMAqLiBAAAAAgItdIEAAAACACsUgQAAAAIBCcSBAAAAA4A5yIEAAAABAE4cbQAAAAKD0FBzAAAAAoHwHFcAAAACgfAcFwAAAAAAAAAAAAAAAoHwHBUAAAAAAAAAUwAAAAAAAAAAAAAAAoPQUHEAAAACgfAcVQAAAAAAAABRAAAAAIJbKBMAAAAAglsoEQAAAAABVAxHAAAAAAAAAAAAAAAAAVQMRQAAAAOBPwBvAAAAAwOuCF8AAAACgfAcVwAAAAKB/3AXAAAAAAAAAAAAAAACgf9wFQAAAAOAEWxHAAAAAAFv++b8AAAAAW/75PwAAAOBPwBtAAAAAoHwHFUAAAADgBFsRQAAAAACruAjAAAAAAKu4CEAAAAAAAAAAAAAAAMDrghdAAAAAIBSz+b8AAAAgFLP5PwAAAGBfnUlAAAAA4OF3SUAAAABgXx1JQAAAAODcwkhAAAAAYF8dSUAAAADg4XdJQAAAAGBfHUlAAAAAYF+dSEAAAADg3MJIQA==",
          "dtype": "f8"
         }
        },
        {
         "line": {
          "color": "red",
          "width": 4
         },
         "mode": "lines",
         "name": "Slice Z=-100.00",
         "type": "scatter3d",
         "visible": false,
         "x": {
          "bdata": "AAAAAOvas7wAAAAAAADovwAAACDcyPS/AAAAAAAA+L8AAAAg3Mj0vwAAAAAAAOi/AAAAQDl5mjwAAAAAAADoPwAAACDcyPQ/AAAAAAAA+D8AAAAg3Mj0PwAAAAAAAOg/AAAAAOvas7wAAAAA69qzvA==",
          "dtype": "f8"
         },
         "y": {
          "bdata": "AAAAAAAA+L8AAAAg3Mj0vwAAAAAAAOi/AAAAQDl5qjwAAAAAAADoPwAAACDcyPQ/AAAAAAAA+D8AAAAg3Mj0PwAAAAAAAOg/AAAAAAAAAAAAAAAAAADovwAAACDcyPS/AAAAAAAA+L8AAAAAAAD4vw==",
          "dtype": "f8"
         },
         "z": {
          "bdata": "AAAAAAAAWcAAAAAAAABZwAAAAAAAAFnAAAAAAAAAWcAAAAAAAABZwAAAAAAAAFnAAAAAAAAAWcAAAAAAAABZwAAAAAAAAFnAAAAAAAAAWcAAAAAAAABZwAAAAAAAAFnAAAAAAAAAWcAAAAAAAABZwA==",
          "dtype": "f8"
         }
        },
        {
         "line": {
          "color": "red",
          "width": 4
         },
         "mode": "lines",
         "name": "Slice Z=-96.91",
         "type": "scatter3d",
         "visible": false,
         "x": {
          "bdata": "AAAAAOvas7y81X+kyy3nPwAAAAAAAOg/XUPBtvV79D8UDlCySMT0PwAAACDcyPQ/rXsmJNnj9z8AAAAAAAD4P78aL///5PQ/AAAAINzI9D8UDlCySMT0PzZXpsqukOg/AAAAAAAA6D8AA4z6CEOaPwAAAEA5eZo8vNV/pMst578AAAAAAADov11Dwbb1e/S/FA5QskjE9L8AAAAg3Mj0v617JiTZ4/e/AAAAAAAA+L+/Gi///+T0vwAAACDcyPS/FA5QskjE9L82V6bKrpDovwAAAAAAAOi/IAOM+ghDmr8AAAAA69qzvAAAAADr2rO8",
          "dtype": "f8"
         },
         "y": {
          "bdata": "AAAAAAAA+L/Fo6KdBeX0vwAAACDcyPS/Rnl90syZ6L/Y41/bJgnovwAAAAAAAOi/oEiFyRZEmr8AAAAAAAAAAE5GPpX1Lec/AAAAAAAA6D/Y41/bJgnoP2XUrLqEgPQ/AAAAINzI9D+XjFRF2uP3PwAAAAAAAPg/xaOinQXl9D8AAAAg3Mj0P0Z5fdLMmeg/2ONf2yYJ6D8AAAAAAADoP8BIhckWRJo/AAAAQDl5qjxPRj6V9S3nvwAAAAAAAOi/2ONf2yYJ6L9l1Ky6hID0vwAAACDcyPS/l4xURdrj978AAAAAAAD4vwAAAAAAAPi/",
          "dtype": "f8"
         },
         "z": {
          "bdata": "60NjzXk6WMDrQ2PNeTpYwOtDY815OljA60NjzXk6WMDrQ2PNeTpYwOtDY815OljA60NjzXk6WMDrQ2PNeTpYwOtDY815OljA60NjzXk6WMDrQ2PNeTpYwOtDY815OljA60NjzXk6WMDrQ2PNeTpYwOtDY815OljA60NjzXk6WMDrQ2PNeTpYwOtDY815OljA60NjzXk6WMDrQ2PNeTpYwOtDY815OljA60NjzXk6WMDrQ2PNeTpYwOtDY815OljA60NjzXk6WMDrQ2PNeTpYwOtDY815OljA60NjzXk6WMDrQ2PNeTpYwOtDY815OljA",
          "dtype": "f8"
         }
        },
        {
         "line": {
          "color": "red",
          "width": 4
         },
         "mode": "lines",
         "name": "Slice Z=-93.83",
         "type": "scatter3d",
         "visible": false,
         "x": {
          "bdata": "AAAAAOvas7x4q/9Il1vmPwAAAAAAAOg/uoaCTQ8v9D8oHKBEtb/0PwAAACDcyPQ/WfdMSLLH9z8AAAAAAAD4P301Xt4jAfU/AAAAINzI9D8oHKBEtb/0P2uuTJVdIek/AAAAAAAA6D/wAoz6CEOqPwAAAEA5eZo8eKv/SJdb5r8AAAAAAADov7qGgk0PL/S/KBygRLW/9L8AAAAg3Mj0v1n3TEiyx/e/AAAAAAAA+L99NV7eIwH1vwAAACDcyPS/KBygRLW/9L9rrkyVXSHpvwAAAAAAAOi/AAOM+ghDqr8AAAAA69qzvAAAAADr2rO8",
          "dtype": "f8"
         },
         "y": {
          "bdata": "AAAAAAAA+L+KR0UbLwH1vwAAACDcyPS/jPL6pJkz6b+wx7+2TRLovwAAAAAAAOi/oEiFyRZEqr8AAAAAAAAAAJyMfCrrW+Y/AAAAAAAA6D+wx7+2TRLoP8qoWVUtOPQ/AAAAINzI9D8vGamKtMf3PwAAAAAAAPg/ikdFGy8B9T8AAAAg3Mj0P4zy+qSZM+k/sMe/tk0S6D8AAAAAAADoP8BIhckWRKo/AAAAQDl5qjydjHwq61vmvwAAAAAAAOi/sMe/tk0S6L/KqFlVLTj0vwAAACDcyPS/LxmpirTH978AAAAAAAD4vwAAAAAAAPi/",
          "dtype": "f8"
         },
         "z": {
          "bdata": "1ofGmvN0V8DWh8aa83RXwNaHxprzdFfA1ofGmvN0V8DWh8aa83RXwNaHxprzdFfA1ofGmvN0V8DWh8aa83RXwNaHxprzdFfA1ofGmvN0V8DWh8aa83RXwNaHxprzdFfA1ofGmvN0V8DWh8aa83RXwNaHxprzdFfA1ofGmvN0V8DWh8aa83RXwNaHxprzdFfA1ofGmvN0V8DWh8aa83RXwNaHxprzdFfA1ofGmvN0V8DWh8aa83RXwNaHxprzdFfA1ofGmvN0V8DWh8aa83RXwNaHxprzdFfA1ofGmvN0V8DWh8aa83RXwNaHxprzdFfA",
          "dtype": "f8"
         }
        },
        {
         "line": {
          "color": "red",
          "width": 4
         },
         "mode": "lines",
         "name": "Slice Z=-90.74",
         "type": "scatter3d",
         "visible": false,
         "x": {
          "bdata": "AAAAAOvas7w0gX/tYonlPwAAAAAAAOg/F8pD5Cji8z88KvDWIbv0PwAAACDcyPQ/BnNzbIur9z8AAAAAAAD4PzxQjb1HHfU/AAAAINzI9D88KvDWIbv0P6AF818Msuk/AAAAAAAA6D8oAum7RrKzPwAAAEA5eZo8NIF/7WKJ5b8AAAAAAADovxfKQ+Qo4vO/PCrw1iG79L8AAAAg3Mj0vwZzc2yLq/e/AAAAAAAA+L88UI29Rx31vwAAACDcyPS/PCrw1iG79L+gBfNfDLLpvwAAAAAAAOi/OALpu0ays78AAAAA69qzvAAAAADr2rO8",
          "dtype": "f8"
         },
         "y": {
          "bdata": "AAAAAAAA+L9P6+eYWB31vwAAACDcyPS/0mt4d2bN6b+Iqx+SdBvovwAAAAAAAOi/gPYjFxGzs78AAAAAAAAAAOrSur/gieU/AAAAAAAA6D+Iqx+SdBvoPzB9BvDV7/M/AAAAINzI9D/Gpf3Pjqv3PwAAAAAAAPg/T+vnmFgd9T8AAAAg3Mj0P9JreHdmzek/iKsfknQb6D8AAAAAAADoP4j2IxcRs7M/AAAAQDl5qjzr0rq/4InlvwAAAAAAAOi/iKsfknQb6L8wfQbw1e/zvwAAACDcyPS/xqX9z46r978AAAAAAAD4vwAAAAAAAPi/",
          "dtype": "f8"
         },
         "z": {
          "bdata": "wcspaG2vVsDByyloba9WwMHLKWhtr1bAwcspaG2vVsDByyloba9WwMHLKWhtr1bAwcspaG2vVsDByyloba9WwMHLKWhtr1bAwcspaG2vVsDByyloba9WwMHLKWhtr1bAwcspaG2vVsDByyloba9WwMHLKWhtr1bAwcspaG2vVsDByyloba9WwMHLKWhtr1bAwcspaG2vVsDByyloba9WwMHLKWhtr1bAwcspaG2vVsDByyloba9WwMHLKWhtr1bAwcspaG2vVsDByyloba9WwMHLKWhtr1bAwcspaG2vVsDByyloba9WwMHLKWhtr1bA",
          "dtype": "f8"
         }
        },
        {
         "line": {
          "color": "red",
          "width": 4
         },
         "mode": "lines",
         "name": "Slice Z=-87.65",
         "type": "scatter3d",
         "visible": false,
         "x": {
          "bdata": "AAAAAOvas7zwVv+RLrfkPwAAAAAAAOg/dA0Fe0KV8z9QOEBpjrb0PwAAACDcyPQ/s+6ZkGSP9z8AAAAAAAD4P/tqvJxrOfU/AAAAINzI9D9QOEBpjrb0P9ZcmSq7Quo/AAAAAAAA6D/gAoz6CEO6PwAAAEA5eZo871b/kS635L8AAAAAAADov3QNBXtClfO/UDhAaY629L8AAAAg3Mj0v7PumZBkj/e/AAAAAAAA+L/7arycazn1vwAAACDcyPS/UDhAaY629L/WXJkqu0LqvwAAAAAAAOi/6AKM+ghDur8AAAAA69qzvAAAAADr2rO8",
          "dtype": "f8"
         },
         "y": {
          "bdata": "AAAAAAAA+L8Uj4oWgjn1vwAAACDcyPS/GOX1STNn6r9gj39tmyTovwAAAAAAAOi/qEiFyRZEur8AAAAAAAAAADgZ+VTWt+Q/AAAAAAAA6D9gj39tmyToP5VRs4p+p/M/AAAAINzI9D9eMlIVaY/3PwAAAAAAAPg/FI+KFoI59T8AAAAg3Mj0Pxjl9UkzZ+o/YI9/bZsk6D8AAAAAAADoP7BIhckWRLo/AAAAQDl5qjw5GflU1rfkvwAAAAAAAOi/YI9/bZsk6L+VUbOKfqfzvwAAACDcyPS/XjJSFWmP978AAAAAAAD4vwAAAAAAAPi/",
          "dtype": "f8"
         },
         "z": {
          "bdata": "rA+NNefpVcCsD4015+lVwKwPjTXn6VXArA+NNefpVcCsD4015+lVwKwPjTXn6VXArA+NNefpVcCsD4015+lVwKwPjTXn6VXArA+NNefpVcCsD4015+lVwKwPjTXn6VXArA+NNefpVcCsD4015+lVwKwPjTXn6VXArA+NNefpVcCsD4015+lVwKwPjTXn6VXArA+NNefpVcCsD4015+lVwKwPjTXn6VXArA+NNefpVcCsD4015+lVwKwPjTXn6VXArA+NNefpVcCsD4015+lVwKwPjTXn6VXArA+NNefpVcCsD4015+lVwKwPjTXn6VXA",
          "dtype": "f8"
         }
        },
        {
         "line": {
          "color": "red",
          "width": 4
         },
         "mode": "lines",
         "name": "Slice Z=-84.57",
         "type": "scatter3d",
         "visible": false,
         "x": {
          "bdata": "AAAAAOvas7ytLH82+uTjPwAAAAAAAOg/0lDGEVxI8z9kRpD7+rH0PwAAACDcyPQ/X2rAtD1z9z8AAAAAAAD4P7mF63uPVfU/AAAAINzI9D9kRpD7+rH0Pwq0P/Vp0+o/AAAAAAAA6D/IgZec5WnAPwAAAEA5eZo8rSx/Nvrk478AAAAAAADov9JQxhFcSPO/ZEaQ+/qx9L8AAAAg3Mj0v19qwLQ9c/e/AAAAAAAA+L+5het7j1X1vwAAACDcyPS/ZEaQ+/qx9L8KtD/1adPqvwAAAAAAAOi/zIGXnOVpwL8AAAAA69qzvAAAAADr2rO8",
          "dtype": "f8"
         },
         "y": {
          "bdata": "AAAAAAAA+L/YMi2Uq1X1vwAAACDcyPS/XV5zHAAB6784c99Iwi3ovwAAAAAAAOi/ZE3zPY5qwL8AAAAAAAAAAIhfN+rL5eM/AAAAAAAA6D84c99Iwi3oP/slYCUnX/M/AAAAINzI9D/2vqZaQ3P3PwAAAAAAAPg/2DItlKtV9T8AAAAg3Mj0P11ecxwAAes/OHPfSMIt6D8AAAAAAADoP2hN8z2OasA/AAAAQDl5qjyIXzfqy+XjvwAAAAAAAOi/OHPfSMIt6L/7JWAlJ1/zvwAAACDcyPS/9r6mWkNz978AAAAAAAD4vwAAAAAAAPi/",
          "dtype": "f8"
         },
         "z": {
          "bdata": "mFPwAmEkVcCYU/ACYSRVwJhT8AJhJFXAmFPwAmEkVcCYU/ACYSRVwJhT8AJhJFXAmFPwAmEkVcCYU/ACYSRVwJhT8AJhJFXAmFPwAmEkVcCYU/ACYSRVwJhT8AJhJFXAmFPwAmEkVcCYU/ACYSRVwJhT8AJhJFXAmFPwAmEkVcCYU/ACYSRVwJhT8AJhJFXAmFPwAmEkVcCYU/ACYSRVwJhT8AJhJFXAmFPwAmEkVcCYU/ACYSRVwJhT8AJhJFXAmFPwAmEkVcCYU/ACYSRVwJhT8AJhJFXAmFPwAmEkVcCYU/ACYSRVwJhT8AJhJFXA",
          "dtype": "f8"
         }
        },
        {
         "line": {
          "color": "red",
          "width": 4
         },
         "mode": "lines",
         "name": "Slice Z=-81.48",
         "type": "scatter3d",
         "visible": false,
         "x": {
          "bdata": "AAAAAOvas7xoAv/axRLjPwAAAAAAAOg/LpSHqHX78j94VOCNZ630PwAAACDcyPQ/DObm2BZX9z8AAAAAAAD4P3igGluzcfU/AAAAINzI9D94VOCNZ630P0AL5r8YZOs/AAAAAAAA6D8sAum7RrLDPwAAAEA5eZo8aAL/2sUS478AAAAAAADovy6Uh6h1+/K/eFTgjWet9L8AAAAg3Mj0vwzm5tgWV/e/AAAAAAAA+L94oBpbs3H1vwAAACDcyPS/eFTgjWet9L9AC+a/GGTrvwAAAAAAAOi/MALpu0ayw78AAAAA69qzvAAAAADr2rO8",
          "dtype": "f8"
         },
         "y": {
          "bdata": "AAAAAAAA+L+e1s8R1XH1vwAAACDcyPS/o9fw7sya678RVz8k6TbovwAAAAAAAOi/fPYjFxGzw78AAAAAAAAAANWldX/BE+M/AAAAAAAA6D8RVz8k6TboP2D6DMDPFvM/AAAAINzI9D+NS/ufHVf3PwAAAAAAAPg/ntbPEdVx9T8AAAAg3Mj0P6PX8O7Mmus/EVc/JOk26D8AAAAAAADoP4D2IxcRs8M/AAAAQDl5qjzVpXV/wRPjvwAAAAAAAOi/EVc/JOk26L9g+gzAzxbzvwAAACDcyPS/jUv7nx1X978AAAAAAAD4vwAAAAAAAPi/",
          "dtype": "f8"
         },
         "z": {
          "bdata": "gpdT0NpeVMCCl1PQ2l5UwIKXU9DaXlTAgpdT0NpeVMCCl1PQ2l5UwIKXU9DaXlTAgpdT0NpeVMCCl1PQ2l5UwIKXU9DaXlTAgpdT0NpeVMCCl1PQ2l5UwIKXU9DaXlTAgpdT0NpeVMCCl1PQ2l5UwIKXU9DaXlTAgpdT0NpeVMCCl1PQ2l5UwIKXU9DaXlTAgpdT0NpeVMCCl1PQ2l5UwIKXU9DaXlTAgpdT0NpeVMCCl1PQ2l5UwIKXU9DaXlTAgpdT0NpeVMCCl1PQ2l5UwIKXU9DaXlTAgpdT0NpeVMCCl1PQ2l5UwIKXU9DaXlTA",
          "dtype": "f8"
         }
        },
        {
         "line": {
          "color": "red",
          "width": 4
         },
         "mode": "lines",
         "name": "Slice Z=-78.40",
         "type": "scatter3d",
         "visible": false,
         "x": {
          "bdata": "AAAAAOvas7wl2H5/kUDiPwAAAAAAAOg/jNdIP4+u8j+MYjAg1Kj0PwAAACDcyPQ/uWEN/e869z8AAAAAAAD4Pze7STrXjfU/AAAAINzI9D+MYjAg1Kj0P3RijIrH9Os/AAAAAAAA6D+Egjrbp/rGPwAAAEA5eZo8Jdh+f5FA4r8AAAAAAADov4zXSD+PrvK/jGIwINSo9L8AAAAg3Mj0v7lhDf3vOve/AAAAAAAA+L83u0k61431vwAAACDcyPS/jGIwINSo9L90YoyKx/TrvwAAAAAAAOi/iII626f6xr8AAAAA69qzvAAAAADr2rO8",
          "dtype": "f8"
         },
         "y": {
          "bdata": "AAAAAAAA+L9ienKP/o31vwAAACDcyPS/6FBuwZk07L/pOp//D0DovwAAAAAAAOi/jJ9U8JP7xr8AAAAAAAAAACPssxS3QeI/AAAAAAAA6D/pOp//D0DoP8bOuVp4zvI/AAAAINzI9D8k2E/l9zr3PwAAAAAAAPg/Ynpyj/6N9T8AAAAg3Mj0P+hQbsGZNOw/6Tqf/w9A6D8AAAAAAADoP5CfVPCT+8Y/AAAAQDl5qjwj7LMUt0HivwAAAAAAAOi/6Tqf/w9A6L/GzrlaeM7yvwAAACDcyPS/JNhP5fc6978AAAAAAAD4vwAAAAAAAPi/",
          "dtype": "f8"
         },
         "z": {
          "bdata": "btu2nVSZU8Bu27adVJlTwG7btp1UmVPAbtu2nVSZU8Bu27adVJlTwG7btp1UmVPAbtu2nVSZU8Bu27adVJlTwG7btp1UmVPAbtu2nVSZU8Bu27adVJlTwG7btp1UmVPAbtu2nVSZU8Bu27adVJlTwG7btp1UmVPAbtu2nVSZU8Bu27adVJlTwG7btp1UmVPAbtu2nVSZU8Bu27adVJlTwG7btp1UmVPAbtu2nVSZU8Bu27adVJlTwG7btp1UmVPAbtu2nVSZU8Bu27adVJlTwG7btp1UmVPAbtu2nVSZU8Bu27adVJlTwG7btp1UmVPA",
          "dtype": "f8"
         }
        },
        {
         "line": {
          "color": "red",
          "width": 4
         },
         "mode": "lines",
         "name": "Slice Z=-75.31",
         "type": "scatter3d",
         "visible": false,
         "x": {
          "bdata": "AAAAAOvas7zhrf4jXW7hPwAAAAAAAOg/6RoK1qhh8j+gcICyQKT0PwAAACDcyPQ/Zd0zIcke9z8AAAAAAAD4P/bVeBn7qfU/AAAAINzI9D+gcICyQKT0P6q5MlV2hew/AAAAAAAA6D/gAoz6CEPKPwAAAEA5eZo84K3+I11u4b8AAAAAAADov+kaCtaoYfK/oHCAskCk9L8AAAAg3Mj0v2XdMyHJHve/AAAAAAAA+L/21XgZ+6n1vwAAACDcyPS/oHCAskCk9L+quTJVdoXsvwAAAAAAAOi/5AKM+ghDyr8AAAAA69qzvAAAAADr2rO8",
          "dtype": "f8"
         },
         "y": {
          "bdata": "AAAAAAAA+L8nHhUNKKr1vwAAACDcyPS/Lsrrk2bO7L/BHv/aNknovwAAAAAAAOi/pEiFyRZEyr8AAAAAAAAAAHEy8qmsb+E/AAAAAAAA6D/BHv/aNknoPyujZvUghvI/AAAAINzI9D+8ZKQq0h73PwAAAAAAAPg/Jx4VDSiq9T8AAAAg3Mj0Py7K65Nmzuw/wR7/2jZJ6D8AAAAAAADoP6hIhckWRMo/AAAAQDl5qjxxMvKprG/hvwAAAAAAAOi/wR7/2jZJ6L8ro2b1IIbyvwAAACDcyPS/vGSkKtIe978AAAAAAAD4vwAAAAAAAPi/",
          "dtype": "f8"
         },
         "z": {
          "bdata": "WR8aa87TUsBZHxprztNSwFkfGmvO01LAWR8aa87TUsBZHxprztNSwFkfGmvO01LAWR8aa87TUsBZHxprztNSwFkfGmvO01LAWR8aa87TUsBZHxprztNSwFkfGmvO01LAWR8aa87TUsBZHxprztNSwFkfGmvO01LAWR8aa87TUsBZHxprztNSwFkfGmvO01LAWR8aa87TUsBZHxprztNSwFkfGmvO01LAWR8aa87TUsBZHxprztNSwFkfGmvO01LAWR8aa87TUsBZHxprztNSwFkfGmvO01LAWR8aa87TUsBZHxprztNSwFkfGmvO01LA",
          "dtype": "f8"
         }
        },
        {
         "line": {
          "color": "red",
          "width": 4
         },
         "mode": "lines",
         "name": "Slice Z=-72.22",
         "type": "scatter3d",
         "visible": false,
         "x": {
          "bdata": "AAAAAOvas7ydg37IKJzgPwAAAAAAAOg/Rl7LbMIU8j+0ftBErZ/0PwAAACDcyPQ/EllaRaIC9z8AAAAAAAD4P7Twp/gexvU/AAAAINzI9D+0ftBErZ/0P98Q2R8lFu0/AAAAAAAA6D84g90ZaovNPwAAAEA5eZo8nYN+yCic4L8AAAAAAADov0Zey2zCFPK/tH7QRK2f9L8AAAAg3Mj0vxJZWkWiAve/AAAAAAAA+L+08Kf4Hsb1vwAAACDcyPS/tH7QRK2f9L/fENkfJRbtvwAAAAAAAOi/PIPdGWqLzb8AAAAA69qzvAAAAADr2rO8",
          "dtype": "f8"
         },
         "y": {
          "bdata": "AAAAAAAA+L/swbeKUcb1vwAAACDcyPS/dENpZjNo7b+ZAl+2XVLovwAAAAAAAOi/tPG1opmMzb8AAAAAAAAAAMB4MD+ineA/AAAAAAAA6D+ZAl+2XVLoP5B3E5DJPfI/AAAAINzI9D9T8fhvrAL3PwAAAAAAAPg/7MG3ilHG9T8AAAAg3Mj0P3RDaWYzaO0/mQJftl1S6D8AAAAAAADoP7jxtaKZjM0/AAAAQDl5qjzAeDA/op3gvwAAAAAAAOi/mQJftl1S6L+QdxOQyT3yvwAAACDcyPS/U/H4b6wC978AAAAAAAD4vwAAAAAAAPi/",
          "dtype": "f8"
         },
         "z": {
          "bdata": "RGN9OEgOUsBEY304SA5SwERjfThIDlLARGN9OEgOUsBEY304SA5SwERjfThIDlLARGN9OEgOUsBEY304SA5SwERjfThIDlLARGN9OEgOUsBEY304SA5SwERjfThIDlLARGN9OEgOUsBEY304SA5SwERjfThIDlLARGN9OEgOUsBEY304SA5SwERjfThIDlLARGN9OEgOUsBEY304SA5SwERjfThIDlLARGN9OEgOUsBEY304SA5SwERjfThIDlLARGN9OEgOUsBEY304SA5SwERjfThIDlLARGN9OEgOUsBEY304SA5SwERjfThIDlLA",
          "dtype": "f8"
         }
        },
        {
         "line": {
          "color": "red",
          "width": 4
         },
         "mode": "lines",
         "name": "Slice Z=-69.14",
         "type": "scatter3d",
         "visible": false,
         "x": {
          "bdata": "AAAAAOvas7yxsvzZ6JPfPwAAAAAAAOg/o6GMA9zH8T/IjCDXGZv0PwAAACDcyPQ/vtSAaXvm9j8AAAAAAAD4P3ML19dC4vU/AAAAINzI9D/IjCDXGZv0PxRof+rTpu0/AAAAAAAA6D/KgZec5WnQPwAAAEA5eZo8srL82eiT378AAAAAAADov6OhjAPcx/G/yIwg1xmb9L8AAAAg3Mj0v77UgGl75va/AAAAAAAA+L9zC9fXQuL1vwAAACDcyPS/yIwg1xmb9L8UaH/q06btvwAAAAAAAOi/zIGXnOVp0L8AAAAA69qzvAAAAADr2rO8",
          "dtype": "f8"
         },
         "y": {
          "bdata": "AAAAAAAA+L+xZVoIe+L1vwAAACDcyPS/urzmOAAC7r9x5r6RhFvovwAAAAAAAOi/ZU3zPY5q0L8AAAAAAAAAABt+3agvl98/AAAAAAAA6D9x5r6RhFvoP/ZLwCpy9fE/AAAAINzI9D/rfU21hub2PwAAAAAAAPg/sWVaCHvi9T8AAAAg3Mj0P7q85jgAAu4/cea+kYRb6D8AAAAAAADoP2dN8z2OatA/AAAAQDl5qjwcft2oL5ffvwAAAAAAAOi/cea+kYRb6L/2S8AqcvXxvwAAACDcyPS/631NtYbm9r8AAAAAAAD4vwAAAAAAAPi/",
          "dtype": "f8"
         },
         "z": {
          "bdata": "L6fgBcJIUcAvp+AFwkhRwC+n4AXCSFHAL6fgBcJIUcAvp+AFwkhRwC+n4AXCSFHAL6fgBcJIUcAvp+AFwkhRwC+n4AXCSFHAL6fgBcJIUcAvp+AFwkhRwC+n4AXCSFHAL6fgBcJIUcAvp+AFwkhRwC+n4AXCSFHAL6fgBcJIUcAvp+AFwkhRwC+n4AXCSFHAL6fgBcJIUcAvp+AFwkhRwC+n4AXCSFHAL6fgBcJIUcAvp+AFwkhRwC+n4AXCSFHAL6fgBcJIUcAvp+AFwkhRwC+n4AXCSFHAL6fgBcJIUcAvp+AFwkhRwC+n4AXCSFHA",
          "dtype": "f8"
         }
        },
        {
         "line": {
          "color": "red",
          "width": 4
         },
         "mode": "lines",
         "name": "Slice Z=-66.05",
         "type": "scatter3d",
         "visible": false,
         "x": {
          "bdata": "AAAAAOvas7woXvwigO/dPwAAAAAAAOg/AOVNmvV68T/bmnBphpb0PwAAACDcyPQ/a1CnjVTK9j8AAAAAAAD4PzImBrdm/vU/AAAAINzI9D/bmnBphpb0P0q/JbWCN+4/AAAAAAAA6D/4QUAsFg7SPwAAAEA5eZo8Kl78IoDv3b8AAAAAAADovwDlTZr1evG/25pwaYaW9L8AAAAg3Mj0v2tQp41Uyva/AAAAAAAA+L8yJga3Zv71vwAAACDcyPS/25pwaYaW9L9KvyW1gjfuvwAAAAAAAOi/+kFALBYO0r8AAAAA69qzvAAAAADr2rO8",
          "dtype": "f8"
         },
         "y": {
          "bdata": "AAAAAAAA+L92Cf2FpP71vwAAACDcyPS/ADZkC82b7r9Jyh5tq2TovwAAAAAAAOi/8KGLqs8O0r8AAAAAAAAAALcKWtMa890/AAAAAAAA6D9Jyh5tq2ToP1sgbcUarfE/AAAAINzI9D+CCqL6YMr2PwAAAAAAAPg/dgn9haT+9T8AAAAg3Mj0PwA2ZAvNm+4/Scoebatk6D8AAAAAAADoP/Ghi6rPDtI/AAAAQDl5qjy3ClrTGvPdvwAAAAAAAOi/Scoebatk6L9bIG3FGq3xvwAAACDcyPS/ggqi+mDK9r8AAAAAAAD4vwAAAAAAAPi/",
          "dtype": "f8"
         },
         "z": {
          "bdata": "GutD0zuDUMAa60PTO4NQwBrrQ9M7g1DAGutD0zuDUMAa60PTO4NQwBrrQ9M7g1DAGutD0zuDUMAa60PTO4NQwBrrQ9M7g1DAGutD0zuDUMAa60PTO4NQwBrrQ9M7g1DAGutD0zuDUMAa60PTO4NQwBrrQ9M7g1DAGutD0zuDUMAa60PTO4NQwBrrQ9M7g1DAGutD0zuDUMAa60PTO4NQwBrrQ9M7g1DAGutD0zuDUMAa60PTO4NQwBrrQ9M7g1DAGutD0zuDUMAa60PTO4NQwBrrQ9M7g1DAGutD0zuDUMAa60PTO4NQwBrrQ9M7g1DA",
          "dtype": "f8"
         }
        },
        {
         "line": {
          "color": "red",
          "width": 4
         },
         "mode": "lines",
         "name": "Slice Z=-62.96",
         "type": "scatter3d",
         "visible": false,
         "x": {
          "bdata": "AAAAAOvas7yhCfxrF0vcPwAAAAAAAOg/XSgPMQ8u8T/vqMD78pH0PwAAACDcyPQ/GMzNsS2u9j8AAAAAAAD4P/BANZaKGvY/AAAAINzI9D/vqMD78pH0P38WzH8xyO4/AAAAAAAA6D8mAum7RrLTPwAAAEA5eZo8ogn8axdL3L8AAAAAAADov10oDzEPLvG/76jA+/KR9L8AAAAg3Mj0vxjMzbEtrva/AAAAAAAA+L/wQDWWihr2vwAAACDcyPS/76jA+/KR9L9/Fsx/McjuvwAAAAAAAOi/JwLpu0ay078AAAAA69qzvAAAAADr2rO8",
          "dtype": "f8"
         },
         "y": {
          "bdata": "AAAAAAAA+L87rZ8Dzhr2vwAAACDcyPS/Rq/h3Zk1778hrn5I0m3ovwAAAAAAAOi/evYjFxGz078AAAAAAAAAAFOX1v0FT9w/AAAAAAAA6D8hrn5I0m3oP8D0GWDDZPE/AAAAINzI9D8al/Y/O672PwAAAAAAAPg/O62fA84a9j8AAAAg3Mj0P0av4d2ZNe8/Ia5+SNJt6D8AAAAAAADoP3z2IxcRs9M/AAAAQDl5qjxTl9b9BU/cvwAAAAAAAOi/Ia5+SNJt6L/A9Blgw2TxvwAAACDcyPS/Gpf2Pzuu9r8AAAAAAAD4vwAAAAAAAPi/",
          "dtype": "f8"
         },
         "z": {
          "bdata": "Cl5OQWt7T8AKXk5Ba3tPwApeTkFre0/ACl5OQWt7T8AKXk5Ba3tPwApeTkFre0/ACl5OQWt7T8AKXk5Ba3tPwApeTkFre0/ACl5OQWt7T8AKXk5Ba3tPwApeTkFre0/ACl5OQWt7T8AKXk5Ba3tPwApeTkFre0/ACl5OQWt7T8AKXk5Ba3tPwApeTkFre0/ACl5OQWt7T8AKXk5Ba3tPwApeTkFre0/ACl5OQWt7T8AKXk5Ba3tPwApeTkFre0/ACl5OQWt7T8AKXk5Ba3tPwApeTkFre0/ACl5OQWt7T8AKXk5Ba3tPwApeTkFre0/A",
          "dtype": "f8"
         }
        },
        {
         "line": {
          "color": "red",
          "width": 4
         },
         "mode": "lines",
         "name": "Slice Z=-59.88",
         "type": "scatter3d",
         "visible": false,
         "x": {
          "bdata": "AAAAAOvas7wYtfu0rqbaPwAAAAAAAOg/umvQxyjh8D8DtxCOX430PwAAACDcyPQ/xEf01QaS9j8AAAAAAAD4P69bZHWuNvY/AAAAINzI9D8DtxCOX430P7RtckrgWO8/AAAAAAAA6D9TwpFLd1bVPwAAAEA5eZo8GrX7tK6m2r8AAAAAAADov7pr0Mco4fC/A7cQjl+N9L8AAAAg3Mj0v8RH9NUGkva/AAAAAAAA+L+vW2R1rjb2vwAAACDcyPS/A7cQjl+N9L+0bXJK4FjvvwAAAAAAAOi/VcKRS3dW1b8AAAAA69qzvAAAAADr2rO8",
          "dtype": "f8"
         },
         "y": {
          "bdata": "AAAAAAAA+L8AUUKB9zb2vwAAACDcyPS/jChfsGbP77/5kd4j+XbovwAAAAAAAOi/BUu8g1JX1b8AAAAAAAAAAO8jUyjxqto/AAAAAAAA6D/5kd4j+XboPybJxvprHPE/AAAAINzI9D+xI0uFFZL2PwAAAAAAAPg/AFFCgfc29j8AAAAg3Mj0P4woX7Bmz+8/+ZHeI/l26D8AAAAAAADoPwZLvINSV9U/AAAAQDl5qjzvI1Mo8aravwAAAAAAAOi/+ZHeI/l26L8mycb6axzxvwAAACDcyPS/sSNLhRWS9r8AAAAAAAD4vwAAAAAAAPi/",
          "dtype": "f8"
         },
         "z": {
          "bdata": "4OUU3F7wTcDg5RTcXvBNwODlFNxe8E3A4OUU3F7wTcDg5RTcXvBNwODlFNxe8E3A4OUU3F7wTcDg5RTcXvBNwODlFNxe8E3A4OUU3F7wTcDg5RTcXvBNwODlFNxe8E3A4OUU3F7wTcDg5RTcXvBNwODlFNxe8E3A4OUU3F7wTcDg5RTcXvBNwODlFNxe8E3A4OUU3F7wTcDg5RTcXvBNwODlFNxe8E3A4OUU3F7wTcDg5RTcXvBNwODlFNxe8E3A4OUU3F7wTcDg5RTcXvBNwODlFNxe8E3A4OUU3F7wTcDg5RTcXvBNwODlFNxe8E3A",
          "dtype": "f8"
         }
        },
        {
         "line": {
          "color": "red",
          "width": 4
         },
         "mode": "lines",
         "name": "Slice Z=-56.79",
         "type": "scatter3d",
         "visible": false,
         "x": {
          "bdata": "AAAAAOvas7ySYPv9RQLZPwAAAAAAAOg/GK+RXkKU8D8XxWAgzIj0PwAAACDcyPQ/ccMa+t919j8AAAAAAAD4P252k1TSUvY/AAAAINzI9D8XxWAgzIj0P+nEGBWP6e8/AAAAAAAA6D+Agjrbp/rWPwAAAEA5eZo8k2D7/UUC2b8AAAAAAADovxivkV5ClPC/F8VgIMyI9L8AAAAg3Mj0v3HDGvrfdfa/AAAAAAAA+L9udpNU0lL2vwAAACDcyPS/F8VgIMyI9L/pxBgVj+nvvwAAAAAAAOi/gYI626f61r8AAAAA69qzvAAAAADr2rO8",
          "dtype": "f8"
         },
         "y": {
          "bdata": "AAAAAAAA+L/F9OT+IFP2vwAAACDcyPS/6FBuwZk08L/RdT7/H4DovwAAAAAAAOi/jp9U8JP71r8AAAAAAAAAAIywz1LcBtk/AAAAAAAA6D/RdT7/H4DoP4ydc5UU1PA/AAAAINzI9D9JsJ/K73X2PwAAAAAAAPg/xfTk/iBT9j8AAAAg3Mj0P+hQbsGZNPA/0XU+/x+A6D8AAAAAAADoP4+fVPCT+9Y/AAAAQDl5qjyMsM9S3AbZvwAAAAAAAOi/0XU+/x+A6L+MnXOVFNTwvwAAACDcyPS/SbCfyu919r8AAAAAAAD4vwAAAAAAAPi/",
          "dtype": "f8"
         },
         "z": {
          "bdata": "t23bdlJlTMC3bdt2UmVMwLdt23ZSZUzAt23bdlJlTMC3bdt2UmVMwLdt23ZSZUzAt23bdlJlTMC3bdt2UmVMwLdt23ZSZUzAt23bdlJlTMC3bdt2UmVMwLdt23ZSZUzAt23bdlJlTMC3bdt2UmVMwLdt23ZSZUzAt23bdlJlTMC3bdt2UmVMwLdt23ZSZUzAt23bdlJlTMC3bdt2UmVMwLdt23ZSZUzAt23bdlJlTMC3bdt2UmVMwLdt23ZSZUzAt23bdlJlTMC3bdt2UmVMwLdt23ZSZUzAt23bdlJlTMC3bdt2UmVMwLdt23ZSZUzA",
          "dtype": "f8"
         }
        },
        {
         "line": {
          "color": "red",
          "width": 4
         },
         "mode": "lines",
         "name": "Slice Z=-53.71",
         "type": "scatter3d",
         "visible": false,
         "x": {
          "bdata": "AAAAAOvas7wJDPtG3V3XPwAAAAAAAOg/dfJS9VtH8D8r07CyOIT0PwAAACDcyPQ/Hj9BHrlZ9j8AAAAAAAD4PyyRwjP2bvY/AAAAINzI9D8r07CyOIT0Pw+O3+8ePfA/AAAAAAAA6D+tQuNq2J7YPwAAAEA5eZo8Cwz7Rt1d178AAAAAAADov3XyUvVbR/C/K9OwsjiE9L8AAAAg3Mj0vx4/QR65Wfa/AAAAAAAA+L8skcIz9m72vwAAACDcyPS/K9OwsjiE9L8Pjt/vHj3wvwAAAAAAAOi/r0Ljatie2L8AAAAA69qzvAAAAADr2rO8",
          "dtype": "f8"
         },
         "y": {
          "bdata": "AAAAAAAA+L+KmId8Sm/2vwAAACDcyPS/iw2tKoCB8L+pWZ7aRonovwAAAAAAAOi/F/TsXNWf2L8AAAAAAAAAACk9TH3HYtc/AAAAAAAA6D+pWZ7aRonoP/FxIDC9i/A/AAAAINzI9D/gPPQPyln2PwAAAAAAAPg/ipiHfEpv9j8AAAAg3Mj0P4sNrSqAgfA/qVme2kaJ6D8AAAAAAADoPxn07FzVn9g/AAAAQDl5qjwoPUx9x2LXvwAAAAAAAOi/qVme2kaJ6L/xcSAwvYvwvwAAACDcyPS/4Dz0D8pZ9r8AAAAAAAD4vwAAAAAAAPi/",
          "dtype": "f8"
         },
         "z": {
          "bdata": "jfWhEUbaSsCN9aERRtpKwI31oRFG2krAjfWhEUbaSsCN9aERRtpKwI31oRFG2krAjfWhEUbaSsCN9aERRtpKwI31oRFG2krAjfWhEUbaSsCN9aERRtpKwI31oRFG2krAjfWhEUbaSsCN9aERRtpKwI31oRFG2krAjfWhEUbaSsCN9aERRtpKwI31oRFG2krAjfWhEUbaSsCN9aERRtpKwI31oRFG2krAjfWhEUbaSsCN9aERRtpKwI31oRFG2krAjfWhEUbaSsCN9aERRtpKwI31oRFG2krAjfWhEUbaSsCN9aERRtpKwI31oRFG2krA",
          "dtype": "f8"
         }
        },
        {
         "line": {
          "color": "red",
          "width": 4
         },
         "mode": "lines",
         "name": "Slice Z=-50.62",
         "type": "scatter3d",
         "visible": false,
         "x": {
          "bdata": "AAAAAOvas7yCt/qPdLnVPwAAAAAAAOg/pGsoGOv07z8/4QBFpX/0PwAAACDcyPQ/yrpnQpI99j8AAAAAAAD4P+ur8RIai/Y/AAAAINzI9D8/4QBFpX/0P6q5MlV2hfA/AAAAAAAA6D/bAoz6CEPaPwAAAEA5eZo8hLf6j3S51b8AAAAAAADov6RrKBjr9O+/P+EARaV/9L8AAAAg3Mj0v8q6Z0KSPfa/AAAAAAAA+L/rq/ESGov2vwAAACDcyPS/P+EARaV/9L+quTJVdoXwvwAAAAAAAOi/3AKM+ghD2r8AAAAA69qzvAAAAADr2rO8",
          "dtype": "f8"
         },
         "y": {
          "bdata": "AAAAAAAA+L9PPCr6c4v2vwAAACDcyPS/Lsrrk2bO8L+CPf61bZLovwAAAAAAAOi/okiFyRZE2r8AAAAAAAAAAMXJyKeyvtU/AAAAAAAA6D+CPf61bZLoP1ZGzcplQ/A/AAAAINzI9D94yUhVpD32PwAAAAAAAPg/Tzwq+nOL9j8AAAAg3Mj0Py7K65NmzvA/gj3+tW2S6D8AAAAAAADoP6NIhckWRNo/AAAAQDl5qjzEycinsr7VvwAAAAAAAOi/gj3+tW2S6L9WRs3KZUPwvwAAACDcyPS/eMlIVaQ99r8AAAAAAAD4vwAAAAAAAPi/",
          "dtype": "f8"
         },
         "z": {
          "bdata": "Y31orDlPScBjfWisOU9JwGN9aKw5T0nAY31orDlPScBjfWisOU9JwGN9aKw5T0nAY31orDlPScBjfWisOU9JwGN9aKw5T0nAY31orDlPScBjfWisOU9JwGN9aKw5T0nAY31orDlPScBjfWisOU9JwGN9aKw5T0nAY31orDlPScBjfWisOU9JwGN9aKw5T0nAY31orDlPScBjfWisOU9JwGN9aKw5T0nAY31orDlPScBjfWisOU9JwGN9aKw5T0nAY31orDlPScBjfWisOU9JwGN9aKw5T0nAY31orDlPScBjfWisOU9JwGN9aKw5T0nA",
          "dtype": "f8"
         }
        },
        {
         "line": {
          "color": "red",
          "width": 4
         },
         "mode": "lines",
         "name": "Slice Z=-47.53",
         "type": "scatter3d",
         "visible": false,
         "x": {
          "bdata": "AAAAAOvas7z5YvrYCxXUPwAAAAAAAOg/XvKqRR5b7z9T71DXEXv0PwAAACDcyPQ/dzaOZmsh9j8AAAAAAAD4P6rGIPI9p/Y/AAAAINzI9D9T71DXEXv0P0TlhbrNzfA/AAAAAAAA6D8JwzSKOefbPwAAAEA5eZo8+2L62AsV1L8AAAAAAADov17yqkUeW++/U+9Q1xF79L8AAAAg3Mj0v3c2jmZrIfa/AAAAAAAA+L+qxiDyPaf2vwAAACDcyPS/U+9Q1xF79L9E5YW6zc3wvwAAAAAAAOi/CsM0ijnn278AAAAA69qzvAAAAADr2rO8",
          "dtype": "f8"
         },
         "y": {
          "bdata": "AAAAAAAA+L8U4Mx3naf2vwAAACDcyPS/0YYq/Uwb8b9aIV6RlJvovwAAAAAAAOi/LJ0dNljo278AAAAAAAAAAGFWRdKdGtQ/AAAAAAAA6D9aIV6RlJvoP3c19Moc9u8/AAAAINzI9D8PVp2afiH2PwAAAAAAAPg/FODMd52n9j8AAAAg3Mj0P9GGKv1MG/E/WiFekZSb6D8AAAAAAADoPy2dHTZY6Ns/AAAAQDl5qjxgVkXSnRrUvwAAAAAAAOi/WiFekZSb6L93NfTKHPbvvwAAACDcyPS/D1admn4h9r8AAAAAAAD4vwAAAAAAAPi/",
          "dtype": "f8"
         },
         "z": {
          "bdata": "OQUvRy3ER8A5BS9HLcRHwDkFL0ctxEfAOQUvRy3ER8A5BS9HLcRHwDkFL0ctxEfAOQUvRy3ER8A5BS9HLcRHwDkFL0ctxEfAOQUvRy3ER8A5BS9HLcRHwDkFL0ctxEfAOQUvRy3ER8A5BS9HLcRHwDkFL0ctxEfAOQUvRy3ER8A5BS9HLcRHwDkFL0ctxEfAOQUvRy3ER8A5BS9HLcRHwDkFL0ctxEfAOQUvRy3ER8A5BS9HLcRHwDkFL0ctxEfAOQUvRy3ER8A5BS9HLcRHwDkFL0ctxEfAOQUvRy3ER8A5BS9HLcRHwDkFL0ctxEfA",
          "dtype": "f8"
         }
        },
        {
         "line": {
          "color": "red",
          "width": 4
         },
         "mode": "lines",
         "name": "Slice Z=-44.45",
         "type": "scatter3d",
         "visible": false,
         "x": {
          "bdata": "AAAAAOvas7xyDvoho3DSPwAAAAAAAOg/GHktc1HB7j9n/aBpfnb0PwAAACDcyPQ/JLK0ikQF9j8AAAAAAAD4P2nhT9Fhw/Y/AAAAINzI9D9n/aBpfnb0P98Q2R8lFvE/AAAAAAAA6D83g90ZaovdPwAAAEA5eZo8dA76IaNw0r8AAAAAAADovxh5LXNRwe6/Z/2gaX529L8AAAAg3Mj0vySytIpEBfa/AAAAAAAA+L9p4U/RYcP2vwAAACDcyPS/Z/2gaX529L/fENkfJRbxvwAAAAAAAOi/OIPdGWqL3b8AAAAA69qzvAAAAADr2rO8",
          "dtype": "f8"
         },
         "y": {
          "bdata": "AAAAAAAA+L/Zg2/1xsP2vwAAACDcyPS/dENpZjNo8b8yBb5su6TovwAAAAAAAOi/t/G1opmM3b8AAAAAAAAAAPziwfyIdtI/AAAAAAAA6D8yBb5su6ToP0LeTQBuZe8/AAAAINzI9D+n4vHfWAX2PwAAAAAAAPg/2YNv9cbD9j8AAAAg3Mj0P3RDaWYzaPE/MgW+bLuk6D8AAAAAAADoP7jxtaKZjN0/AAAAQDl5qjz74sH8iHbSvwAAAAAAAOi/MgW+bLuk6L9C3k0AbmXvvwAAACDcyPS/p+Lx31gF9r8AAAAAAAD4vwAAAAAAAPi/",
          "dtype": "f8"
         },
         "z": {
          "bdata": "D4314SA5RsAPjfXhIDlGwA+N9eEgOUbAD4314SA5RsAPjfXhIDlGwA+N9eEgOUbAD4314SA5RsAPjfXhIDlGwA+N9eEgOUbAD4314SA5RsAPjfXhIDlGwA+N9eEgOUbAD4314SA5RsAPjfXhIDlGwA+N9eEgOUbAD4314SA5RsAPjfXhIDlGwA+N9eEgOUbAD4314SA5RsAPjfXhIDlGwA+N9eEgOUbAD4314SA5RsAPjfXhIDlGwA+N9eEgOUbAD4314SA5RsAPjfXhIDlGwA+N9eEgOUbAD4314SA5RsAPjfXhIDlGwA+N9eEgOUbA",
          "dtype": "f8"
         }
        },
        {
         "line": {
          "color": "red",
          "width": 4
         },
         "mode": "lines",
         "name": "Slice Z=-41.36",
         "type": "scatter3d",
         "visible": false,
         "x": {
          "bdata": "AAAAAOvas7zruflqOszQPwAAAAAAAOg/0v+voIQn7j97C/H76nH0PwAAACDcyPQ/0C3brh3p9T8AAAAAAAD4Pyf8frCF3/Y/AAAAINzI9D97C/H76nH0P3o8LIV8XvE/AAAAAAAA6D9jQ4apmi/fPwAAAEA5eZo87bn5ajrM0L8AAAAAAADov9L/r6CEJ+6/ewvx++px9L8AAAAg3Mj0v9At264d6fW/AAAAAAAA+L8n/H6whd/2vwAAACDcyPS/ewvx++px9L96PCyFfF7xvwAAAAAAAOi/ZEOGqZov378AAAAA69qzvAAAAADr2rO8",
          "dtype": "f8"
         },
         "y": {
          "bdata": "AAAAAAAA+L+dJxJz8N/2vwAAACDcyPS/FwCozxm18b8K6R1I4q3ovwAAAAAAAOi/QEZOD9sw378AAAAAAAAAAJpvPid00tA/AAAAAAAA6D8K6R1I4q3oPw2HpzW/1O4/AAAAINzI9D8+b0YlM+n1PwAAAAAAAPg/nScSc/Df9j8AAAAg3Mj0PxcAqM8ZtfE/CukdSOKt6D8AAAAAAADoP0FGTg/bMN8/AAAAQDl5qjyZbz4ndNLQvwAAAAAAAOi/CukdSOKt6L8Nh6c1v9TuvwAAACDcyPS/Pm9GJTPp9b8AAAAAAAD4vwAAAAAAAPi/",
          "dtype": "f8"
         },
         "z": {
          "bdata": "5hS8fBSuRMDmFLx8FK5EwOYUvHwUrkTA5hS8fBSuRMDmFLx8FK5EwOYUvHwUrkTA5hS8fBSuRMDmFLx8FK5EwOYUvHwUrkTA5hS8fBSuRMDmFLx8FK5EwOYUvHwUrkTA5hS8fBSuRMDmFLx8FK5EwOYUvHwUrkTA5hS8fBSuRMDmFLx8FK5EwOYUvHwUrkTA5hS8fBSuRMDmFLx8FK5EwOYUvHwUrkTA5hS8fBSuRMDmFLx8FK5EwOYUvHwUrkTA5hS8fBSuRMDmFLx8FK5EwOYUvHwUrkTA5hS8fBSuRMDmFLx8FK5EwOYUvHwUrkTA",
          "dtype": "f8"
         }
        },
        {
         "line": {
          "color": "red",
          "width": 4
         },
         "mode": "lines",
         "name": "Slice Z=-38.27",
         "type": "scatter3d",
         "visible": false,
         "x": {
          "bdata": "AAAAAOvas7zFyvJno0/OPwAAAAAAAOg/jIYyzreN7T+PGUGOV230PwAAACDcyPQ/fakB0/bM9T8AAAAAAAD4P+YWro+p+/Y/AAAAINzI9D+PGUGOV230PxRof+rTpvE/AAAAAAAA6D/JgZec5WngPwAAAEA5eZo8y8ryZ6NPzr8AAAAAAADov4yGMs63je2/jxlBjldt9L8AAAAg3Mj0v32pAdP2zPW/AAAAAAAA+L/mFq6Pqfv2vwAAACDcyPS/jxlBjldt9L8UaH/q06bxvwAAAAAAAOi/yYGXnOVp4L8AAAAA69qzvAAAAADr2rO8",
          "dtype": "f8"
         },
         "y": {
          "bdata": "AAAAAAAA+L9iy7TwGfz2vwAAACDcyPS/urzmOAAC8r/izH0jCbfovwAAAAAAAOi/ZU3zPY5q4L8AAAAAAAAAAGz4daO+XM4/AAAAAAAA6D/izH0jCbfoP9gvAWsQRO4/AAAAINzI9D/W+5pqDc31PwAAAAAAAPg/Ysu08Bn89j8AAAAg3Mj0P7q85jgAAvI/4sx9Iwm36D8AAAAAAADoP2ZN8z2OauA/AAAAQDl5qjxo+HWjvlzOvwAAAAAAAOi/4sx9Iwm36L/YLwFrEETuvwAAACDcyPS/1vuaag3N9b8AAAAAAAD4vwAAAAAAAPi/",
          "dtype": "f8"
         },
         "z": {
          "bdata": "vJyCFwgjQ8C8nIIXCCNDwLycghcII0PAvJyCFwgjQ8C8nIIXCCNDwLycghcII0PAvJyCFwgjQ8C8nIIXCCNDwLycghcII0PAvJyCFwgjQ8C8nIIXCCNDwLycghcII0PAvJyCFwgjQ8C8nIIXCCNDwLycghcII0PAvJyCFwgjQ8C8nIIXCCNDwLycghcII0PAvJyCFwgjQ8C8nIIXCCNDwLycghcII0PAvJyCFwgjQ8C8nIIXCCNDwLycghcII0PAvJyCFwgjQ8C8nIIXCCNDwLycghcII0PAvJyCFwgjQ8C8nIIXCCNDwLycghcII0PA",
          "dtype": "f8"
         }
        },
        {
         "line": {
          "color": "red",
          "width": 4
         },
         "mode": "lines",
         "name": "Slice Z=-35.19",
         "type": "scatter3d",
         "visible": false,
         "x": {
          "bdata": "AAAAAOvas7y1IfL50QbLPwAAAAAAAOg/Rg21++rz7D+jJ5EgxGj0PwAAACDcyPQ/KiUo98+w9T8AAAAAAAD4P6Ux3W7NF/c/AAAAINzI9D+jJ5EgxGj0P6+T0k8r7/E/AAAAAAAA6D/g4Wvk/TvhPwAAAEA5eZo8uyHy+dEGy78AAAAAAADov0YNtfvq8+y/oyeRIMRo9L8AAAAg3Mj0vyolKPfPsPW/AAAAAAAA+L+lMd1uzRf3vwAAACDcyPS/oyeRIMRo9L+vk9JPK+/xvwAAAAAAAOi/4OFr5P074b8AAAAA69qzvAAAAADr2rO8",
          "dtype": "f8"
         },
         "y": {
          "bdata": "AAAAAAAA+L8nb1duQxj3vwAAACDcyPS/XXklouZO8r+6sN3+L8DovwAAAAAAAOi/qnc/9K484b8AAAAAAAAAAKQRb/iUFMs/AAAAAAAA6D+6sN3+L8DoP6LYWqBhs+0/AAAAINzI9D9tiO+v57D1PwAAAAAAAPg/J29XbkMY9z8AAAAg3Mj0P115JaLmTvI/urDd/i/A6D8AAAAAAADoP6p3P/SuPOE/AAAAQDl5qjygEW/4lBTLvwAAAAAAAOi/urDd/i/A6L+i2FqgYbPtvwAAACDcyPS/bYjvr+ew9b8AAAAAAAD4vwAAAAAAAPi/",
          "dtype": "f8"
         },
         "z": {
          "bdata": "kiRJsvuXQcCSJEmy+5dBwJIkSbL7l0HAkiRJsvuXQcCSJEmy+5dBwJIkSbL7l0HAkiRJsvuXQcCSJEmy+5dBwJIkSbL7l0HAkiRJsvuXQcCSJEmy+5dBwJIkSbL7l0HAkiRJsvuXQcCSJEmy+5dBwJIkSbL7l0HAkiRJsvuXQcCSJEmy+5dBwJIkSbL7l0HAkiRJsvuXQcCSJEmy+5dBwJIkSbL7l0HAkiRJsvuXQcCSJEmy+5dBwJIkSbL7l0HAkiRJsvuXQcCSJEmy+5dBwJIkSbL7l0HAkiRJsvuXQcCSJEmy+5dBwJIkSbL7l0HA",
          "dtype": "f8"
         }
        },
        {
         "line": {
          "color": "red",
          "width": 4
         },
         "mode": "lines",
         "name": "Slice Z=-32.10",
         "type": "scatter3d",
         "visible": false,
         "x": {
          "bdata": "AAAAAOvas7ylePGLAL7HPwAAAAAAAOg/AJQ3KR5a7D+3NeGyMGT0PwAAACDcyPQ/1qBOG6mU9T8AAAAAAAD4P2NMDE7xM/c/AAAAINzI9D+3NeGyMGT0P0m/JbWCN/I/AAAAAAAA6D/2QUAsFg7iPwAAAEA5eZo8q3jxiwC+x78AAAAAAADovwCUNykeWuy/tzXhsjBk9L8AAAAg3Mj0v9agThuplPW/AAAAAAAA+L9jTAxO8TP3vwAAACDcyPS/tzXhsjBk9L9JvyW1gjfyvwAAAAAAAOi/90FALBYO4r8AAAAA69qzvAAAAADr2rO8",
          "dtype": "f8"
         },
         "y": {
          "bdata": "AAAAAAAA+L/sEvrrbDT3vwAAACDcyPS/ADZkC82b8r+SlD3aVsnovwAAAAAAAOi/8KGLqs8O4r8AAAAAAAAAAN0qaE1rzMc/AAAAAAAA6D+SlD3aVsnoP22BtNWyIu0/AAAAINzI9D8FFUT1wZT1PwAAAAAAAPg/7BL662w09z8AAAAg3Mj0PwA2ZAvNm/I/kpQ92lbJ6D8AAAAAAADoP/Chi6rPDuI/AAAAQDl5qjzZKmhNa8zHvwAAAAAAAOi/kpQ92lbJ6L9tgbTVsiLtvwAAACDcyPS/BRVE9cGU9b8AAAAAAAD4vwAAAAAAAPi/",
          "dtype": "f8"
         },
         "z": {
          "bdata": "aKwPTe8MQMBorA9N7wxAwGisD03vDEDAaKwPTe8MQMBorA9N7wxAwGisD03vDEDAaKwPTe8MQMBorA9N7wxAwGisD03vDEDAaKwPTe8MQMBorA9N7wxAwGisD03vDEDAaKwPTe8MQMBorA9N7wxAwGisD03vDEDAaKwPTe8MQMBorA9N7wxAwGisD03vDEDAaKwPTe8MQMBorA9N7wxAwGisD03vDEDAaKwPTe8MQMBorA9N7wxAwGisD03vDEDAaKwPTe8MQMBorA9N7wxAwGisD03vDEDAaKwPTe8MQMBorA9N7wxAwGisD03vDEDA",
          "dtype": "f8"
         }
        },
        {
         "line": {
          "color": "red",
          "width": 4
         },
         "mode": "lines",
         "name": "Slice Z=-29.01",
         "type": "scatter3d",
         "visible": false,
         "x": {
          "bdata": "AAAAAOvas7yVz/AdL3XEPwAAAAAAAOg/uhq6VlHA6z/LQzFFnV/0PwAAACDcyPQ/gxx1P4J49T8AAAAAAAD4PyJnOy0VUPc/AAAAINzI9D/LQzFFnV/0P+TqeBraf/I/AAAAAAAA6D8NohR0LuDiPwAAAEA5eZo8m8/wHS91xL8AAAAAAADov7oaulZRwOu/y0MxRZ1f9L8AAAAg3Mj0v4McdT+CePW/AAAAAAAA+L8iZzstFVD3vwAAACDcyPS/y0MxRZ1f9L/k6nga2n/yvwAAAAAAAOi/DqIUdC7g4r8AAAAA69qzvAAAAADr2rO8",
          "dtype": "f8"
         },
         "y": {
          "bdata": "AAAAAAAA+L+xtpxpllD3vwAAACDcyPS/o/KidLPo8r9qeJ21fdLovwAAAAAAAOi/NMzXYPDg4r8AAAAAAAAAABREYaJBhMQ/AAAAAAAA6D9qeJ21fdLoPzgqDgsEkuw/AAAAINzI9D+coZg6nHj1PwAAAAAAAPg/sbacaZZQ9z8AAAAg3Mj0P6PyonSz6PI/anidtX3S6D8AAAAAAADoPzXM12Dw4OI/AAAAQDl5qjwQRGGiQYTEvwAAAAAAAOi/anidtX3S6L84Kg4LBJLsvwAAACDcyPS/nKGYOpx49b8AAAAAAAD4vwAAAAAAAPi/",
          "dtype": "f8"
         },
         "z": {
          "bdata": "fGisz8UDPcB8aKzPxQM9wHxorM/FAz3AfGisz8UDPcB8aKzPxQM9wHxorM/FAz3AfGisz8UDPcB8aKzPxQM9wHxorM/FAz3AfGisz8UDPcB8aKzPxQM9wHxorM/FAz3AfGisz8UDPcB8aKzPxQM9wHxorM/FAz3AfGisz8UDPcB8aKzPxQM9wHxorM/FAz3AfGisz8UDPcB8aKzPxQM9wHxorM/FAz3AfGisz8UDPcB8aKzPxQM9wHxorM/FAz3AfGisz8UDPcB8aKzPxQM9wHxorM/FAz3AfGisz8UDPcB8aKzPxQM9wHxorM/FAz3A",
          "dtype": "f8"
         }
        },
        {
         "line": {
          "color": "red",
          "width": 4
         },
         "mode": "lines",
         "name": "Slice Z=-25.93",
         "type": "scatter3d",
         "visible": false,
         "x": {
          "bdata": "AAAAAOvas7yFJvCvXSzBPwAAAAAAAOg/daE8hIQm6z/fUYHXCVv0PwAAACDcyPQ/MJibY1tc9T8AAAAAAAD4P+GBagw5bPc/AAAAINzI9D/fUYHXCVv0P38WzH8xyPI/AAAAAAAA6D8kAum7RrLjPwAAAEA5eZo8iybwr10swb8AAAAAAADov3WhPISEJuu/31GB1wlb9L8AAAAg3Mj0vzCYm2NbXPW/AAAAAAAA+L/hgWoMOWz3vwAAACDcyPS/31GB1wlb9L9/Fsx/McjyvwAAAAAAAOi/JALpu0ay478AAAAA69qzvAAAAADr2rO8",
          "dtype": "f8"
         },
         "y": {
          "bdata": "AAAAAAAA+L92Wj/nv2z3vwAAACDcyPS/Rq/h3Zk1879CXP2QpNvovwAAAAAAAOi/evYjFxGz478AAAAAAAAAAE1dWvcXPME/AAAAAAAA6D9CXP2QpNvoPwPTZ0BVAew/AAAAINzI9D80Lu1/dlz1PwAAAAAAAPg/dlo/579s9z8AAAAg3Mj0P0av4d2ZNfM/Qlz9kKTb6D8AAAAAAADoP3r2IxcRs+M/AAAAQDl5qjxIXVr3FzzBvwAAAAAAAOi/Qlz9kKTb6L8D02dAVQHsvwAAACDcyPS/NC7tf3Zc9b8AAAAAAAD4vwAAAAAAAPi/",
          "dtype": "f8"
         },
         "z": {
          "bdata": "KHg5Ba3tOcAoeDkFre05wCh4OQWt7TnAKHg5Ba3tOcAoeDkFre05wCh4OQWt7TnAKHg5Ba3tOcAoeDkFre05wCh4OQWt7TnAKHg5Ba3tOcAoeDkFre05wCh4OQWt7TnAKHg5Ba3tOcAoeDkFre05wCh4OQWt7TnAKHg5Ba3tOcAoeDkFre05wCh4OQWt7TnAKHg5Ba3tOcAoeDkFre05wCh4OQWt7TnAKHg5Ba3tOcAoeDkFre05wCh4OQWt7TnAKHg5Ba3tOcAoeDkFre05wCh4OQWt7TnAKHg5Ba3tOcAoeDkFre05wCh4OQWt7TnA",
          "dtype": "f8"
         }
        },
        {
         "line": {
          "color": "red",
          "width": 4
         },
         "mode": "lines",
         "name": "Slice Z=-22.84",
         "type": "scatter3d",
         "visible": true,
         "x": {
          "bdata": "AAAAAOvas7zp+t6DGMe7PwAAAAAAAOg/Lyi/sbeM6j/zX9Fpdlb0PwAAACDcyPQ/3BPChzRA9T8AAAAAAAD4P5+cmetciPc/AAAAINzI9D/zX9Fpdlb0PxlCH+WIEPM/AAAAAAAA6D87Yr0DX4TkPwAAAEA5eZo89PregxjHu78AAAAAAADovy8ov7G3jOq/81/RaXZW9L8AAAAg3Mj0v9wTwoc0QPW/AAAAAAAA+L+fnJnrXIj3vwAAACDcyPS/81/RaXZW9L8ZQh/liBDzvwAAAAAAAOi/O2K9A1+E5L8AAAAA69qzvAAAAADr2rO8",
          "dtype": "f8"
         },
         "y": {
          "bdata": "AAAAAAAA+L87/uFk6Yj3vwAAACDcyPS/6WsgR4CC878aQF1sy+TovwAAAAAAAOi/vyBwzTGF5L8AAAAAAAAAAArtppjc57s/AAAAAAAA6D8aQF1sy+ToP817wXWmcOs/AAAAINzI9D/LukHFUED1PwAAAAAAAPg/O/7hZOmI9z8AAAAg3Mj0P+lrIEeAgvM/GkBdbMvk6D8AAAAAAADoP78gcM0xheQ/AAAAQDl5qjwB7aaY3Oe7vwAAAAAAAOi/GkBdbMvk6L/Ne8F1pnDrvwAAACDcyPS/y7pBxVBA9b8AAAAAAAD4vwAAAAAAAPi/",
          "dtype": "f8"
         },
         "z": {
          "bdata": "1IfGOpTXNsDUh8Y6lNc2wNSHxjqU1zbA1IfGOpTXNsDUh8Y6lNc2wNSHxjqU1zbA1IfGOpTXNsDUh8Y6lNc2wNSHxjqU1zbA1IfGOpTXNsDUh8Y6lNc2wNSHxjqU1zbA1IfGOpTXNsDUh8Y6lNc2wNSHxjqU1zbA1IfGOpTXNsDUh8Y6lNc2wNSHxjqU1zbA1IfGOpTXNsDUh8Y6lNc2wNSHxjqU1zbA1IfGOpTXNsDUh8Y6lNc2wNSHxjqU1zbA1IfGOpTXNsDUh8Y6lNc2wNSHxjqU1zbA1IfGOpTXNsDUh8Y6lNc2wNSHxjqU1zbA",
          "dtype": "f8"
         }
        },
        {
         "line": {
          "color": "red",
          "width": 4
         },
         "mode": "lines",
         "name": "Slice Z=-19.76",
         "type": "scatter3d",
         "visible": false,
         "x": {
          "bdata": "AAAAAOvas7zJqN2ndTW1PwAAAAAAAOg/6a5B3+ry6T8HbiH84lH0PwAAACDcyPQ/iY/oqw0k9T8AAAAAAAD4P163yMqApPc/AAAAINzI9D8HbiH84lH0P7RtckrgWPM/AAAAAAAA6D9SwpFLd1blPwAAAEA5eZo81ajdp3U1tb8AAAAAAADov+muQd/q8um/B24h/OJR9L8AAAAg3Mj0v4mP6KsNJPW/AAAAAAAA+L9et8jKgKT3vwAAACDcyPS/B24h/OJR9L+0bXJK4FjzvwAAAAAAAOi/UsKRS3dW5b8AAAAA69qzvAAAAADr2rO8",
          "dtype": "f8"
         },
         "y": {
          "bdata": "AAAAAAAA+L8AooTiEqX3vwAAACDcyPS/iyhfsGbP87/zI71H8u3ovwAAAAAAAOi/BEu8g1JX5b8AAAAAAAAAAHofmUKJV7U/AAAAAAAA6D/zI71H8u3oP5gkG6v33+o/AAAAINzI9D9jR5YKKyT1PwAAAAAAAPg/AKKE4hKl9z8AAAAg3Mj0P4soX7Bmz/M/8yO9R/Lt6D8AAAAAAADoPwRLvINSV+U/AAAAQDl5qjxwH5lCiVe1vwAAAAAAAOi/8yO9R/Lt6L+YJBur99/qvwAAACDcyPS/Y0eWCisk9b8AAAAAAAD4vwAAAAAAAPi/",
          "dtype": "f8"
         },
         "z": {
          "bdata": "gJdTcHvBM8CAl1Nwe8EzwICXU3B7wTPAgJdTcHvBM8CAl1Nwe8EzwICXU3B7wTPAgJdTcHvBM8CAl1Nwe8EzwICXU3B7wTPAgJdTcHvBM8CAl1Nwe8EzwICXU3B7wTPAgJdTcHvBM8CAl1Nwe8EzwICXU3B7wTPAgJdTcHvBM8CAl1Nwe8EzwICXU3B7wTPAgJdTcHvBM8CAl1Nwe8EzwICXU3B7wTPAgJdTcHvBM8CAl1Nwe8EzwICXU3B7wTPAgJdTcHvBM8CAl1Nwe8EzwICXU3B7wTPAgJdTcHvBM8CAl1Nwe8EzwICXU3B7wTPA",
          "dtype": "f8"
         }
        },
        {
         "line": {
          "color": "red",
          "width": 4
         },
         "mode": "lines",
         "name": "Slice Z=-16.67",
         "type": "scatter3d",
         "visible": false,
         "x": {
          "bdata": "AAAAAOvas7xkrbiXpUetPwAAAAAAAOg/pDXEDB5Z6T8bfHGOT030PwAAACDcyPQ/NgsP0OYH9T8AAAAAAAD4Px3S96mkwPc/AAAAINzI9D8bfHGOT030P06Zxa83ofM/AAAAAAAA6D9oImaTjyjmPwAAAEA5eZo8fa24l6VHrb8AAAAAAADov6Q1xAweWem/G3xxjk9N9L8AAAAg3Mj0vzYLD9DmB/W/AAAAAAAA+L8d0veppMD3vwAAACDcyPS/G3xxjk9N9L9OmcWvN6HzvwAAAAAAAOi/aCJmk48o5r8AAAAA69qzvAAAAADr2rO8",
          "dtype": "f8"
         },
         "y": {
          "bdata": "AAAAAAAA+L/FRSdgPMH3vwAAACDcyPS/LuWdGU0c9L/LBx0jGffovwAAAAAAAOi/SHUIOnMp5r8AAAAAAAAAAOejFtlrjq0/AAAAAAAA6D/LBx0jGffoP2TNdOBIT+o/AAAAINzI9D/60+pPBQj1PwAAAAAAAPg/xUUnYDzB9z8AAAAg3Mj0Py7lnRlNHPQ/ywcdIxn36D8AAAAAAADoP0h1CDpzKeY/AAAAQDl5qjzQoxbZa46tvwAAAAAAAOi/ywcdIxn36L9kzXTgSE/qvwAAACDcyPS/+tPqTwUI9b8AAAAAAAD4vwAAAAAAAPi/",
          "dtype": "f8"
         },
         "z": {
          "bdata": "MKfgpWKrMMAwp+ClYqswwDCn4KViqzDAMKfgpWKrMMAwp+ClYqswwDCn4KViqzDAMKfgpWKrMMAwp+ClYqswwDCn4KViqzDAMKfgpWKrMMAwp+ClYqswwDCn4KViqzDAMKfgpWKrMMAwp+ClYqswwDCn4KViqzDAMKfgpWKrMMAwp+ClYqswwDCn4KViqzDAMKfgpWKrMMAwp+ClYqswwDCn4KViqzDAMKfgpWKrMMAwp+ClYqswwDCn4KViqzDAMKfgpWKrMMAwp+ClYqswwDCn4KViqzDAMKfgpWKrMMAwp+ClYqswwDCn4KViqzDA",
          "dtype": "f8"
         }
        },
        {
         "line": {
          "color": "red",
          "width": 4
         },
         "mode": "lines",
         "name": "Slice Z=-13.58",
         "type": "scatter3d",
         "visible": false,
         "x": {
          "bdata": "AAAAAOvas7wjCbbfXySgPwAAAAAAAOg/XrxGOlG/6D8visEgvEj0PwAAACDcyPQ/4oY19L/r9D8AAAAAAAD4P9vsJonI3Pc/AAAAINzI9D8visEgvEj0P+nEGBWP6fM/AAAAAAAA6D9/gjrbp/rmPwAAAEA5eZo8PQm2318koL8AAAAAAADov168RjpRv+i/L4rBILxI9L8AAAAg3Mj0v+KGNfS/6/S/AAAAAAAA+L/b7CaJyNz3vwAAACDcyPS/L4rBILxI9L/pxBgVj+nzvwAAAAAAAOi/f4I626f65r8AAAAA69qzvAAAAADr2rO8",
          "dtype": "f8"
         },
         "y": {
          "bdata": "AAAAAAAA+L+K6cndZd33vwAAACDcyPS/0aHcgjNp9L+j63z+PwDpvwAAAAAAAOi/jZ9U8JP75r8AAAAAAAAAAMgI+yzFbaA/AAAAAAAA6D+j63z+PwDpPy52zhWavuk/AAAAINzI9D+SYD+V3+v0PwAAAAAAAPg/iunJ3WXd9z8AAAAg3Mj0P9Gh3IIzafQ/o+t8/j8A6T8AAAAAAADoP42fVPCT++Y/AAAAQDl5qjywCPssxW2gvwAAAAAAAOi/o+t8/j8A6b8uds4Vmr7pvwAAACDcyPS/kmA/ld/r9L8AAAAAAAD4vwAAAAAAAPi/",
          "dtype": "f8"
         },
         "z": {
          "bdata": "uG3btpMqK8C4bdu2kyorwLht27aTKivAuG3btpMqK8C4bdu2kyorwLht27aTKivAuG3btpMqK8C4bdu2kyorwLht27aTKivAuG3btpMqK8C4bdu2kyorwLht27aTKivAuG3btpMqK8C4bdu2kyorwLht27aTKivAuG3btpMqK8C4bdu2kyorwLht27aTKivAuG3btpMqK8C4bdu2kyorwLht27aTKivAuG3btpMqK8C4bdu2kyorwLht27aTKivAuG3btpMqK8C4bdu2kyorwLht27aTKivAuG3btpMqK8C4bdu2kyorwLht27aTKivA",
          "dtype": "f8"
         }
        },
        {
         "line": {
          "color": "red",
          "width": 4
         },
         "mode": "lines",
         "name": "Slice Z=-10.50",
         "type": "scatter3d",
         "visible": false,
         "x": {
          "bdata": "AAAAAOvas7waJ5s90Qh4PwAAAAAAAOg/GEPJZ4Ql6D9DmBGzKET0PwAAACDcyPQ/jwJcGJnP9D8AAAAAAAD4P5oHVmjs+Pc/AAAAINzI9D9DmBGzKET0P4Pwa3rmMfQ/AAAAAAAA6D+V4g4jwMznPwAAAEA5eZo87CebPdEIeL8AAAAAAADovxhDyWeEJei/Q5gRsyhE9L8AAAAg3Mj0v48CXBiZz/S/AAAAAAAA+L+aB1Zo7Pj3vwAAACDcyPS/Q5gRsyhE9L+D8Gt65jH0vwAAAAAAAOi/leIOI8DM578AAAAA69qzvAAAAADr2rO8",
          "dtype": "f8"
         },
         "y": {
          "bdata": "AAAAAAAA+L9PjWxbj/n3vwAAACDcyPS/dF4b7Bm29L97z9zZZgnpvwAAAAAAAOi/0smgprTN578AAAAAAAAAAEZt+wb0aHo/AAAAAAAA6D97z9zZZgnpP/keKEvrLek/AAAAINzI9D8p7ZPauc/0PwAAAAAAAPg/T41sW4/59z8AAAAg3Mj0P3ReG+wZtvQ/e8/c2WYJ6T8AAAAAAADoP9LJoKa0zec/AAAAQDl5qjx2bPsG9Gh6vwAAAAAAAOi/e8/c2WYJ6b/5HihL6y3pvwAAACDcyPS/Ke2T2rnP9L8AAAAAAAD4vwAAAAAAAPi/",
          "dtype": "f8"
         },
         "z": {
          "bdata": "EI31IWL+JMAQjfUhYv4kwBCN9SFi/iTAEI31IWL+JMAQjfUhYv4kwBCN9SFi/iTAEI31IWL+JMAQjfUhYv4kwBCN9SFi/iTAEI31IWL+JMAQjfUhYv4kwBCN9SFi/iTAEI31IWL+JMAQjfUhYv4kwBCN9SFi/iTAEI31IWL+JMAQjfUhYv4kwBCN9SFi/iTAEI31IWL+JMAQjfUhYv4kwBCN9SFi/iTAEI31IWL+JMAQjfUhYv4kwBCN9SFi/iTAEI31IWL+JMAQjfUhYv4kwBCN9SFi/iTAEI31IWL+JMAQjfUhYv4kwBCN9SFi/iTA",
          "dtype": "f8"
         }
        },
        {
         "line": {
          "color": "red",
          "width": 4
         },
         "mode": "lines",
         "name": "Slice Z=-7.41",
         "type": "scatter3d",
         "visible": false,
         "x": {
          "bdata": "s3A6bS308r+ycDptLfTyP4gSohiCjv0/BLcVVSwEDkD7ekdZ4FESQFZ91aoDUBZABCUtHjvEGEDB1ryj4vQZQMHWvKPi9BlABCUtHjvEGEBWfdWqA1AWQPt6R1ngURJABLcVVSwEDkCIEqIYgo79P7JwOm0t9PI/s3A6bS308r+IEqIYgo79vwS3FVUsBA7A+3pHWeBREsBWfdWqA1AWwAQlLR47xBjAwda8o+L0GcDB1ryj4vQZwAQlLR47xBjAVn3VqgNQFsD7ekdZ4FESwAS3FVUsBA7AiBKiGIKO/b+zcDptLfTyv7NwOm0t9PK/",
          "dtype": "f8"
         },
         "y": {
          "bdata": "0CumlZ/8GcDQK6aVn/wZwHTdbvEHOhnABT2Xs3elFcCypYUDCKISwA8ejR5wlAvAsqXKTD+4AcAeT8djgPTxvx5Px2OA9PE/sqXKTD+4AUAPHo0ecJQLQLKlhQMIohJABT2Xs3elFUB03W7xBzoZQNArppWf/BlA0CumlZ/8GUB03W7xBzoZQAU9l7N3pRVAsqWFAwiiEkAPHo0ecJQLQLKlykw/uAFAHk/HY4D08T8eT8djgPTxv7Klykw/uAHADx6NHnCUC8CypYUDCKISwAU9l7N3pRXAdN1u8Qc6GcDQK6aVn/wZwNArppWf/BnA",
          "dtype": "f8"
         },
         "z": {
          "bdata": "0FgfGmGkHcDQWB8aYaQdwNBYHxphpB3A0FgfGmGkHcDQWB8aYaQdwNBYHxphpB3A0FgfGmGkHcDQWB8aYaQdwNBYHxphpB3A0FgfGmGkHcDQWB8aYaQdwNBYHxphpB3A0FgfGmGkHcDQWB8aYaQdwNBYHxphpB3A0FgfGmGkHcDQWB8aYaQdwNBYHxphpB3A0FgfGmGkHcDQWB8aYaQdwNBYHxphpB3A0FgfGmGkHcDQWB8aYaQdwNBYHxphpB3A0FgfGmGkHcDQWB8aYaQdwNBYHxphpB3A0FgfGmGkHcDQWB8aYaQdwNBYHxphpB3A",
          "dtype": "f8"
         }
        },
        {
         "line": {
          "color": "red",
          "width": 4
         },
         "mode": "lines",
         "name": "Slice Z=-4.32",
         "type": "scatter3d",
         "visible": false,
         "x": {
          "bdata": "LIzI7jl04r8tjMjuOXTiP0OIT4lMYQVAe5eX7HGIC0BJMj13rHMWQBS3pbwDVhdANtOxwtOvF0AuQgT8oDgeQHzuNnOiPSFAP7SIO09DIUClLLmkgUUhQB4OpeTs1SFApSy5pIFFIUA/tIg7T0MhQHzuNnOiPSFALkIE/KA4HkA207HC068XQBS3pbwDVhdASTI9d6xzFkB7l5fscYgLQEOIT4lMYQVALYzI7jl04j8sjMjuOXTiv0OIT4lMYQXAe5eX7HGIC8BJMj13rHMWwBS3pbwDVhfANtOxwtOvF8AuQgT8oDgewHzuNnOiPSHAP7SIO09DIcClLLmkgUUhwB4OpeTs1SHApSy5pIFFIcA/tIg7T0MhwHzuNnOiPSHALkIE/KA4HsA207HC068XwBS3pbwDVhfASTI9d6xzFsB7l5fscYgLwEOIT4lMYQXALIzI7jl04r8sjMjuOXTivw==",
          "dtype": "f8"
         },
         "y": {
          "bdata": "rK8SttC5IcCsrxK20LkhwJrRSuJq/SDAyMBLDnt7IMB8/qczpPwbwGyxBlNSaxvASpX6TIIRG8AXNcrmf60SwOj88zVgBAXAkK9maurKBMBtfMIt9ZkEwAAAAAAAAAAAbXzCLfWZBECQr2Zq6soEQOj88zVgBAVAFzXK5n+tEkBKlfpMghEbQGyxBlNSaxtAe/6nM6T8G0DIwEsOe3sgQJrRSuJq/SBArK8SttC5IUCsrxK20LkhQJrRSuJq/SBAyMBLDnt7IEB7/qczpPwbQGyxBlNSaxtASpX6TIIRG0AXNcrmf60SQOf88zVgBAVAkK9maurKBEBtfMIt9ZkEQAAAAAAAAAAAbXzCLfWZBMCQr2Zq6soEwOf88zVgBAXAFzXK5n+tEsBKlfpMghEbwGyxBlNSaxvAfP6nM6T8G8DIwEsOe3sgwJrRSuJq/SDArK8SttC5IcCsrxK20LkhwA==",
          "dtype": "f8"
         },
         "z": {
          "bdata": "gJdT8P1LEcCAl1Pw/UsRwICXU/D9SxHAgJdT8P1LEcCAl1Pw/UsRwICXU/D9SxHAgJdT8P1LEcCAl1Pw/UsRwICXU/D9SxHAgJdT8P1LEcCAl1Pw/UsRwICXU/D9SxHAgJdT8P1LEcCAl1Pw/UsRwICXU/D9SxHAgJdT8P1LEcCAl1Pw/UsRwICXU/D9SxHAgJdT8P1LEcCAl1Pw/UsRwICXU/D9SxHAgJdT8P1LEcCAl1Pw/UsRwICXU/D9SxHAgJdT8P1LEcCAl1Pw/UsRwICXU/D9SxHAgJdT8P1LEcCAl1Pw/UsRwICXU/D9SxHAgJdT8P1LEcCAl1Pw/UsRwICXU/D9SxHAgJdT8P1LEcCAl1Pw/UsRwICXU/D9SxHAgJdT8P1LEcCAl1Pw/UsRwICXU/D9SxHAgJdT8P1LEcCAl1Pw/UsRwICXU/D9SxHAgJdT8P1LEcCAl1Pw/UsRwA==",
          "dtype": "f8"
         }
        },
        {
         "line": {
          "color": "red",
          "width": 4
         },
         "mode": "lines",
         "name": "Slice Z=-1.24",
         "type": "scatter3d",
         "visible": false,
         "x": {
          "bdata": "kIY6sGF76L+PhjqwYXvoP11aXpTSrwFAZ/lAFlj7C0CnSxL8h0cTQJpKYt60NRpAAAAA4E/AG0AaSvDeqjAdQC3bRKLwrSBAHEWaFwuLIkAAAADAaAUjQGvLL64OQSNAFqeJuLinI0Bryy+uDkEjQAAAAMBoBSNAHEWaFwuLIkAt20Si8K0gQBpK8N6qMB1AAAAA4E/AG0CaSmLetDUaQKdLEvyHRxNAZ/lAFlj7C0BdWl6U0q8BQI+GOrBhe+g/kIY6sGF76L9dWl6U0q8BwGf5QBZY+wvAp0sS/IdHE8CaSmLetDUawAAAAOBPwBvAGkrw3qowHcAt20Si8K0gwBxFmhcLiyLAAAAAwGgFI8Bryy+uDkEjwBanibi4pyPAa8svrg5BI8AAAADAaAUjwBxFmhcLiyLALdtEovCtIMAaSvDeqjAdwAAAAOBPwBvAmkpi3rQ1GsCnSxL8h0cTwGf5QBZY+wvAXVpelNKvAcCQhjqwYXvov5CGOrBhe+i/",
          "dtype": "f8"
         },
         "y": {
          "bdata": "9rcXr/2JI8D2txev/YkjwDJooQnjIiPAQlNMmghLIsDfeKTMoyAhwFv8nbjmcR3AAAAAoPQUHMDb/A+48HYawC18GrHvnRTAjzAlPOsICsAAAACgfAcFwHHP2gMOBgDAAAAAAAAAAAByz9oDDgYAQAAAAKB8BwVAjzAlPOsICkAtfBqx750UQNv8D7jwdhpAAAAAoPQUHEBb/J245nEdQN94pMyjICFAQlNMmghLIkAyaKEJ4yIjQPa3F6/9iSNA9rcXr/2JI0AyaKEJ4yIjQEJTTJoISyJA33ikzKMgIUBb/J245nEdQAAAAKD0FBxA2/wPuPB2GkAtfBqx750UQI8wJTzrCApAAAAAoHwHBUByz9oDDgYAQAAAAAAAAAAAcc/aAw4GAMAAAACgfAcFwI8wJTzrCArALXwase+dFMDb/A+48HYawAAAAKD0FBzAW/yduOZxHcDfeKTMoyAhwEJTTJoISyLAMmihCeMiI8D2txev/YkjwPa3F6/9iSPA",
          "dtype": "f8"
         },
         "z": {
          "bdata": "wFgfGmvO87/AWB8aa87zv8BYHxprzvO/wFgfGmvO87/AWB8aa87zv8FYHxprzvO/wFgfGmvO87/AWB8aa87zv8BYHxprzvO/wFgfGmvO87/AWB8aa87zv8BYHxprzvO/wFgfGmvO87/AWB8aa87zv8BYHxprzvO/wFgfGmvO87/AWB8aa87zv8BYHxprzvO/wFgfGmvO87/BWB8aa87zv8BYHxprzvO/wFgfGmvO87/AWB8aa87zv8BYHxprzvO/wFgfGmvO87/AWB8aa87zv8BYHxprzvO/wFgfGmvO87/BWB8aa87zv8BYHxprzvO/wFgfGmvO87/AWB8aa87zv8BYHxprzvO/wFgfGmvO87/AWB8aa87zv8BYHxprzvO/wFgfGmvO87/AWB8aa87zv8BYHxprzvO/wFgfGmvO87/AWB8aa87zv8BYHxprzvO/wVgfGmvO87/AWB8aa87zv8BYHxprzvO/wFgfGmvO87/AWB8aa87zv8BYHxprzvO/",
          "dtype": "f8"
         }
        },
        {
         "line": {
          "color": "red",
          "width": 4
         },
         "mode": "lines",
         "name": "Slice Z=1.85",
         "type": "scatter3d",
         "visible": false,
         "x": {
          "bdata": "WjNhWDdH8r9ZM2FYN0fyPzk2ZbiCQf8/6FpqWxsAD0CxM2HdmWoSQNLwqFwBNxlAdO4+BABdG0CYJWdE6IAcQL8LaC3TgyBAX4NxPliWIkDKHHmEF+AiQArsks6pECNAlYbE1S58I0AK7JLOqRAjQMoceYQX4CJAX4NxPliWIkC/C2gt04MgQJglZ0TogBxAdO4+BABdG0DS8KhcATcZQLEzYd2ZahJA6FpqWxsAD0A5NmW4gkH/P1kzYVg3R/I/WjNhWDdH8r85NmW4gkH/v+laalsbAA/AsTNh3ZlqEsDS8KhcATcZwHTuPgQAXRvAmCVnROiAHMC/C2gt04MgwF+DcT5YliLAyhx5hBfgIsAK7JLOqRAjwJWGxNUufCPACuySzqkQI8DKHHmEF+AiwF+DcT5YliLAvwtoLdODIMCYJWdE6IAcwHTuPgQAXRvA0vCoXAE3GcCxM2HdmWoSwOlaalsbAA/AOTZluIJB/79aM2FYN0fyv1ozYVg3R/K/",
          "dtype": "f8"
         },
         "y": {
          "bdata": "IrCsD8pPI8AisKwPyk8jwM7YGVHyFSPAKqE4naLTIcAi0WcnGC8hwFqD1dE/ph3A8EKXQ/kHHMB5WXtFRsMawJd3xQ/haRTACo8FgSztB8Dg3koFdwIFwFwVVN4OyADAAAAAAAAAAABbFVTeDsgAQODeSgV3AgVACo8FgSztB0CXd8UP4WkUQHlZe0VGwxpA8EKXQ/kHHEBag9XRP6YdQCLRZycYLyFAKqE4naLTIUDO2BlR8hUjQCKwrA/KTyNAIrCsD8pPI0DO2BlR8hUjQCqhOJ2i0yFAItFnJxgvIUBag9XRP6YdQPBCl0P5BxxAell7RUbDGkCXd8UP4WkUQAqPBYEs7QdA4N5KBXcCBUBbFVTeDsgAQAAAAAAAAAAAXBVU3g7IAMDg3koFdwIFwAqPBYEs7QfAl3fFD+FpFMB6WXtFRsMawPBCl0P5BxzAWoPV0T+mHcAi0WcnGC8hwCqhOJ2i0yHAztgZUfIVI8AisKwPyk8jwCKwrA/KTyPA",
          "dtype": "f8"
         },
         "z": {
          "bdata": "gKwPjSGT/T+ArA+NIZP9P4CsD40hk/0/gKwPjSGT/T+ArA+NIZP9P4CsD40hk/0/gKwPjSGT/T+ArA+NIZP9P4CsD40hk/0/gKwPjSGT/T+ArA+NIZP9P4CsD40hk/0/gKwPjSGT/T+ArA+NIZP9P4CsD40hk/0/gKwPjSGT/T+ArA+NIZP9P4CsD40hk/0/gKwPjSGT/T+ArA+NIZP9P4CsD40hk/0/gKwPjSGT/T+ArA+NIZP9P4CsD40hk/0/gKwPjSGT/T+ArA+NIZP9P4CsD40hk/0/gKwPjSGT/T+ArA+NIZP9P4CsD40hk/0/gKwPjSGT/T+ArA+NIZP9P4CsD40hk/0/gKwPjSGT/T+ArA+NIZP9P4CsD40hk/0/gKwPjSGT/T+ArA+NIZP9P4CsD40hk/0/gKwPjSGT/T+ArA+NIZP9P4CsD40hk/0/gKwPjSGT/T+ArA+NIZP9P4CsD40hk/0/gKwPjSGT/T+ArA+NIZP9P4CsD40hk/0/",
          "dtype": "f8"
         }
        },
        {
         "line": {
          "color": "red",
          "width": 4
         },
         "mode": "lines",
         "name": "Slice Z=4.93",
         "type": "scatter3d",
         "visible": false,
         "x": {
          "bdata": "ILACubOEyb8gsAK5s4TJP0D/PssPZghAvtGt+i3+CEDPrmlSoqsKQCPHSBqi0xVARk5lXzUyGUA4Gk+vqCkdQFK7UU/6zR9AJ/CK0FCEIEABR6d38RghQPOtBnYiTCFAAUend/EYIUAn8IrQUIQgQFK7UU/6zR9AOBpPr6gpHUBGTmVfNTIZQCPHSBqi0xVAz65pUqKrCkC+0a36Lf4IQED/PssPZghAILACubOEyT8gsAK5s4TJv0D/PssPZgjAvtGt+i3+CMDPrmlSoqsKwCPHSBqi0xXARU5lXzUyGcA4Gk+vqCkdwFK7UU/6zR/AJ/CK0FCEIMABR6d38RghwPOtBnYiTCHAAUend/EYIcAn8IrQUIQgwFK7UU/6zR/AOBpPr6gpHcBFTmVfNTIZwCPHSBqi0xXAz65pUqKrCsC+0a36Lf4IwED/PssPZgjAILACubOEyb8gsAK5s4TJvw==",
          "dtype": "f8"
         },
         "y": {
          "bdata": "Jc2YuWpCIcAlzZi5akIhwLe4u5UuQiDAyo9JK6I1IMAAZo5yM/AfwG2Mp1iGfBrASwWLE/MdF8AFKXzvBwYSwAbT0z1e6gnAcHpd8Xj4AsAGehnauDXtvwAAAAAAAAAABnoZ2rg17T9wel3xePgCQAbT0z1e6glABSl87wcGEkBLBYsT8x0XQG2Mp1iGfBpAAGaOcjPwH0DKj0krojUgQLe4u5UuQiBAJc2YuWpCIUAlzZi5akIhQLe4u5UuQiBAyo9JK6I1IEAAZo5yM/AfQG2Mp1iGfBpASgWLE/MdF0AFKXzvBwYSQAbT0z1e6glAcHpd8Xj4AkAGehnauDXtPwAAAAAAAAAABnoZ2rg17b9wel3xePgCwAbT0z1e6gnABSl87wcGEsBKBYsT8x0XwG2Mp1iGfBrAAGaOcjPwH8DKj0krojUgwLe4u5UuQiDAJc2YuWpCIcAlzZi5akIhwA==",
          "dtype": "f8"
         },
         "z": {
          "bdata": "cKwPjSu9E0BwrA+NK70TQHCsD40rvRNAcKwPjSu9E0BwrA+NK70TQHCsD40rvRNAcKwPjSu9E0BwrA+NK70TQHCsD40rvRNAcKwPjSu9E0BwrA+NK70TQHCsD40rvRNAcKwPjSu9E0BwrA+NK70TQHCsD40rvRNAcKwPjSu9E0BwrA+NK70TQHCsD40rvRNAcKwPjSu9E0BwrA+NK70TQHCsD40rvRNAcKwPjSu9E0BwrA+NK70TQHCsD40rvRNAcKwPjSu9E0BwrA+NK70TQHCsD40rvRNAcKwPjSu9E0BwrA+NK70TQHCsD40rvRNAcKwPjSu9E0BwrA+NK70TQHCsD40rvRNAcKwPjSu9E0BwrA+NK70TQHCsD40rvRNAcKwPjSu9E0BwrA+NK70TQHCsD40rvRNAcKwPjSu9E0BwrA+NK70TQHCsD40rvRNAcKwPjSu9E0BwrA+NK70TQA==",
          "dtype": "f8"
         }
        },
        {
         "line": {
          "color": "red",
          "width": 4
         },
         "mode": "lines",
         "name": "Slice Z=8.02",
         "type": "scatter3d",
         "visible": false,
         "x": {
          "bdata": "oCeSIsww5L9L8Y5Sr1Tlv7/J98wGiOW/4P+DP2IT6L+ghK7hd8YBwJB+xcGRHALAHu/aGxhVAsCb3Ed/i1YCwEpHBMt0rALAZv4YIaFiCcCLG475QdQTwHMu68E0PBTAlH9SBRh8FMB8kN0/XKoWwEemvM+jrxbAegBejjY2F8Db7t6FNjYXwAAAAAAAABjAHYRbFfjyF8DATO0EnPAXwF/MIq9Y2hfAAAAAoCeoFcDUgOfwe2wVwPkdAD+MaxXAidhuNHg7FcD+mVf8ih8VwJR/UgUYfBTAcy7rwTQ8FMCLG475QdQTwCLFiCKhYgnAxokkQwTMAcDo2/vtbRrwv0uOOkOAm++/nHQmH3bK4L9gfoRugki3P5knkiLMMOQ/YPGOUq9U5T/AyffMBojlP+D/gz9iE+g/oISu4XfGAUCQfsXBkRwCQBjv2hsYVQJAm9xHf4tWAkBKRwTLdKwCQGb+GCGhYglAihuO+UHUE0BzLuvBNDwUQJR/UgUYfBRAfJDdP1yqFkBHprzPo68WQHkAXo42NhdA2+7ehTY2F0AAAAAAAAAYQB2EWxX48hdAwEztBJzwF0BfzCKvWNoXQAAAAKAnqBVA1IDn8HtsFUD5HQA/jGsVQInYbjR4OxVA/plX/IofFUCUf1IFGHwUQHMu68E0PBRAihuO+UHUE0AhxYgioWIJQMaJJEMEzAFA6Nv77W0a8D9LjjpDgJvvP5t0Jh92yuA/YH6EboJIt7+gJ5IizDDkv6AnkiLMMOS/",
          "dtype": "f8"
         },
         "y": {
          "bdata": "AAAAAAAAGMCZInVy6fIXwGFXOhic8BfA2PYOJWfTF8Bkupn+mLcVwAAAAKAnqBXAlvtIgBBtFcA8RqlBjGsVwMlVHs28ERXAvAuYpgh+E8ChFPTWQf8JwGLHmzcWAwnAP7i5V2ICCMDCP8qhYfXvv2sozdE+Wu+/zINxPu7P379c6GWJCeW0P/HS+QrMMOQ/YCAZNWdT5T9gJ6/HBojlP+CLdcyHeOc/qPK5u5EcAkAoQJlUplUCQB1FYZ6LVgJA41xsQ4mEAkDiGnAxsFEDQD+4uVdiAghAYsebNxYDCUChFPTWQf8JQGZYCKUIfhNAWEN9yHhGFUCa3Rg/LqwWQH5NQUitsRZAGr1+zaM5F0C0HljXozkXQAAAAAAAABhAmSJ1cunyF0BhVzoYnPAXQNj2DiVn0xdAZLqZ/pi3FUAAAACgJ6gVQJb7SIAQbRVAPEapQYxrFUDJVR7NvBEVQL0LmKYIfhNAohT01kH/CUBix5s3FgMJQD64uVdiAghAwj/KoWH17z9rKM3RPlrvP8yDcT7uz98/XOhliQnltL/A0vkKzDDkv1UgGTVnU+W/YCevxwaI5b/gi3XMh3jnv6jyubuRHALAKECZVKZVAsAdRWGei1YCwONcbEOJhALA4RpwMbBRA8A+uLlXYgIIwGLHmzcWAwnAohT01kH/CcBmWAilCH4TwFdDfch4RhXAmt0YPy6sFsB+TUFIrbEWwBq9fs2jORfAtB5Y16M5F8AAAAAAAAAYwAAAAAAAABjA",
          "dtype": "f8"
         },
         "z": {
          "bdata": "4LZtW8cKIEDgtm1bxwogQOC2bVvHCiBA4LZtW8cKIEDgtm1bxwogQOC2bVvHCiBA4LZtW8cKIEDgtm1bxwogQOC2bVvHCiBA4LZtW8cKIEDgtm1bxwogQOC2bVvHCiBA4LZtW8cKIEDgtm1bxwogQOC2bVvHCiBA4LZtW8cKIEDgtm1bxwogQOC2bVvHCiBA4LZtW8cKIEDgtm1bxwogQOC2bVvHCiBA4LZtW8cKIEDgtm1bxwogQOC2bVvHCiBA4LZtW8cKIEDgtm1bxwogQOC2bVvHCiBA4LZtW8cKIEDgtm1bxwogQOC2bVvHCiBA4LZtW8cKIEDgtm1bxwogQOC2bVvHCiBA4LZtW8cKIEDgtm1bxwogQOC2bVvHCiBA4LZtW8cKIEDgtm1bxwogQOC2bVvHCiBA4LZtW8cKIEDgtm1bxwogQOC2bVvHCiBA4LZtW8cKIEDgtm1bxwogQOC2bVvHCiBA4LZtW8cKIEDgtm1bxwogQOC2bVvHCiBA4LZtW8cKIEDgtm1bxwogQOC2bVvHCiBA4LZtW8cKIEDgtm1bxwogQOC2bVvHCiBA4LZtW8cKIEDgtm1bxwogQOC2bVvHCiBA4LZtW8cKIEDgtm1bxwogQOC2bVvHCiBA4LZtW8cKIEDgtm1bxwogQOC2bVvHCiBA4LZtW8cKIEDgtm1bxwogQOC2bVvHCiBA4LZtW8cKIEDgtm1bxwogQOC2bVvHCiBA4LZtW8cKIEDgtm1bxwogQOC2bVvHCiBA",
          "dtype": "f8"
         }
        },
        {
         "mode": "lines",
         "name": "Slice Z=11.11",
         "type": "scatter3d",
         "visible": false,
         "x": [],
         "y": [],
         "z": []
        },
        {
         "mode": "lines",
         "name": "Slice Z=14.19",
         "type": "scatter3d",
         "visible": false,
         "x": [],
         "y": [],
         "z": []
        },
        {
         "mode": "lines",
         "name": "Slice Z=17.28",
         "type": "scatter3d",
         "visible": false,
         "x": [],
         "y": [],
         "z": []
        },
        {
         "mode": "lines",
         "name": "Slice Z=20.37",
         "type": "scatter3d",
         "visible": false,
         "x": [],
         "y": [],
         "z": []
        },
        {
         "mode": "lines",
         "name": "Slice Z=23.45",
         "type": "scatter3d",
         "visible": false,
         "x": [],
         "y": [],
         "z": []
        },
        {
         "mode": "lines",
         "name": "Slice Z=26.54",
         "type": "scatter3d",
         "visible": false,
         "x": [],
         "y": [],
         "z": []
        },
        {
         "mode": "lines",
         "name": "Slice Z=29.63",
         "type": "scatter3d",
         "visible": false,
         "x": [],
         "y": [],
         "z": []
        },
        {
         "mode": "lines",
         "name": "Slice Z=32.71",
         "type": "scatter3d",
         "visible": false,
         "x": [],
         "y": [],
         "z": []
        },
        {
         "mode": "lines",
         "name": "Slice Z=35.80",
         "type": "scatter3d",
         "visible": false,
         "x": [],
         "y": [],
         "z": []
        },
        {
         "mode": "lines",
         "name": "Slice Z=38.88",
         "type": "scatter3d",
         "visible": false,
         "x": [],
         "y": [],
         "z": []
        },
        {
         "mode": "lines",
         "name": "Slice Z=41.97",
         "type": "scatter3d",
         "visible": false,
         "x": [],
         "y": [],
         "z": []
        },
        {
         "mode": "lines",
         "name": "Slice Z=45.06",
         "type": "scatter3d",
         "visible": false,
         "x": [],
         "y": [],
         "z": []
        },
        {
         "mode": "lines",
         "name": "Slice Z=48.14",
         "type": "scatter3d",
         "visible": false,
         "x": [],
         "y": [],
         "z": []
        },
        {
         "mode": "lines",
         "name": "Slice Z=51.23",
         "type": "scatter3d",
         "visible": false,
         "x": [],
         "y": [],
         "z": []
        }
       ],
       "layout": {
        "height": 700,
        "scene": {
         "aspectmode": "cube",
         "aspectratio": {
          "x": 1,
          "y": 1,
          "z": 0.8
         },
         "xaxis": {
          "title": {
           "text": "X (µm)"
          }
         },
         "yaxis": {
          "title": {
           "text": "Y (µm)"
          }
         },
         "zaxis": {
          "title": {
           "text": "Z (µm)"
          }
         }
        },
        "sliders": [
         {
          "active": 25,
          "currentvalue": {
           "prefix": "Z-slice: "
          },
          "pad": {
           "t": 50
          },
          "steps": [
           {
            "args": [
             {
              "visible": [
               true,
               true,
               false,
               false,
               false,
               false,
               false,
               false,
               false,
               false,
               false,
               false,
               false,
               false,
               false,
               false,
               false,
               false,
               false,
               false,
               false,
               false,
               false,
               false,
               false,
               false,
               false,
               false,
               false,
               false,
               false,
               false,
               false,
               false,
               false,
               false,
               false,
               false,
               false,
               false,
               false,
               false,
               false,
               false,
               false,
               false,
               false,
               false,
               false,
               false,
               false
              ]
             }
            ],
            "label": "-100.00",
            "method": "update"
           },
           {
            "args": [
             {
              "visible": [
               true,
               false,
               true,
               false,
               false,
               false,
               false,
               false,
               false,
               false,
               false,
               false,
               false,
               false,
               false,
               false,
               false,
               false,
               false,
               false,
               false,
               false,
               false,
               false,
               false,
               false,
               false,
               false,
               false,
               false,
               false,
               false,
               false,
               false,
               false,
               false,
               false,
               false,
               false,
               false,
               false,
               false,
               false,
               false,
               false,
               false,
               false,
               false,
               false,
               false,
               false
              ]
             }
            ],
            "label": "-96.91",
            "method": "update"
           },
           {
            "args": [
             {
              "visible": [
               true,
               false,
               false,
               true,
               false,
               false,
               false,
               false,
               false,
               false,
               false,
               false,
               false,
               false,
               false,
               false,
               false,
               false,
               false,
               false,
               false,
               false,
               false,
               false,
               false,
               false,
               false,
               false,
               false,
               false,
               false,
               false,
               false,
               false,
               false,
               false,
               false,
               false,
               false,
               false,
               false,
               false,
               false,
               false,
               false,
               false,
               false,
               false,
               false,
               false,
               false
              ]
             }
            ],
            "label": "-93.83",
            "method": "update"
           },
           {
            "args": [
             {
              "visible": [
               true,
               false,
               false,
               false,
               true,
               false,
               false,
               false,
               false,
               false,
               false,
               false,
               false,
               false,
               false,
               false,
               false,
               false,
               false,
               false,
               false,
               false,
               false,
               false,
               false,
               false,
               false,
               false,
               false,
               false,
               false,
               false,
               false,
               false,
               false,
               false,
               false,
               false,
               false,
               false,
               false,
               false,
               false,
               false,
               false,
               false,
               false,
               false,
               false,
               false,
               false
              ]
             }
            ],
            "label": "-90.74",
            "method": "update"
           },
           {
            "args": [
             {
              "visible": [
               true,
               false,
               false,
               false,
               false,
               true,
               false,
               false,
               false,
               false,
               false,
               false,
               false,
               false,
               false,
               false,
               false,
               false,
               false,
               false,
               false,
               false,
               false,
               false,
               false,
               false,
               false,
               false,
               false,
               false,
               false,
               false,
               false,
               false,
               false,
               false,
               false,
               false,
               false,
               false,
               false,
               false,
               false,
               false,
               false,
               false,
               false,
               false,
               false,
               false,
               false
              ]
             }
            ],
            "label": "-87.65",
            "method": "update"
           },
           {
            "args": [
             {
              "visible": [
               true,
               false,
               false,
               false,
               false,
               false,
               true,
               false,
               false,
               false,
               false,
               false,
               false,
               false,
               false,
               false,
               false,
               false,
               false,
               false,
               false,
               false,
               false,
               false,
               false,
               false,
               false,
               false,
               false,
               false,
               false,
               false,
               false,
               false,
               false,
               false,
               false,
               false,
               false,
               false,
               false,
               false,
               false,
               false,
               false,
               false,
               false,
               false,
               false,
               false,
               false
              ]
             }
            ],
            "label": "-84.57",
            "method": "update"
           },
           {
            "args": [
             {
              "visible": [
               true,
               false,
               false,
               false,
               false,
               false,
               false,
               true,
               false,
               false,
               false,
               false,
               false,
               false,
               false,
               false,
               false,
               false,
               false,
               false,
               false,
               false,
               false,
               false,
               false,
               false,
               false,
               false,
               false,
               false,
               false,
               false,
               false,
               false,
               false,
               false,
               false,
               false,
               false,
               false,
               false,
               false,
               false,
               false,
               false,
               false,
               false,
               false,
               false,
               false,
               false
              ]
             }
            ],
            "label": "-81.48",
            "method": "update"
           },
           {
            "args": [
             {
              "visible": [
               true,
               false,
               false,
               false,
               false,
               false,
               false,
               false,
               true,
               false,
               false,
               false,
               false,
               false,
               false,
               false,
               false,
               false,
               false,
               false,
               false,
               false,
               false,
               false,
               false,
               false,
               false,
               false,
               false,
               false,
               false,
               false,
               false,
               false,
               false,
               false,
               false,
               false,
               false,
               false,
               false,
               false,
               false,
               false,
               false,
               false,
               false,
               false,
               false,
               false,
               false
              ]
             }
            ],
            "label": "-78.40",
            "method": "update"
           },
           {
            "args": [
             {
              "visible": [
               true,
               false,
               false,
               false,
               false,
               false,
               false,
               false,
               false,
               true,
               false,
               false,
               false,
               false,
               false,
               false,
               false,
               false,
               false,
               false,
               false,
               false,
               false,
               false,
               false,
               false,
               false,
               false,
               false,
               false,
               false,
               false,
               false,
               false,
               false,
               false,
               false,
               false,
               false,
               false,
               false,
               false,
               false,
               false,
               false,
               false,
               false,
               false,
               false,
               false,
               false
              ]
             }
            ],
            "label": "-75.31",
            "method": "update"
           },
           {
            "args": [
             {
              "visible": [
               true,
               false,
               false,
               false,
               false,
               false,
               false,
               false,
               false,
               false,
               true,
               false,
               false,
               false,
               false,
               false,
               false,
               false,
               false,
               false,
               false,
               false,
               false,
               false,
               false,
               false,
               false,
               false,
               false,
               false,
               false,
               false,
               false,
               false,
               false,
               false,
               false,
               false,
               false,
               false,
               false,
               false,
               false,
               false,
               false,
               false,
               false,
               false,
               false,
               false,
               false
              ]
             }
            ],
            "label": "-72.22",
            "method": "update"
           },
           {
            "args": [
             {
              "visible": [
               true,
               false,
               false,
               false,
               false,
               false,
               false,
               false,
               false,
               false,
               false,
               true,
               false,
               false,
               false,
               false,
               false,
               false,
               false,
               false,
               false,
               false,
               false,
               false,
               false,
               false,
               false,
               false,
               false,
               false,
               false,
               false,
               false,
               false,
               false,
               false,
               false,
               false,
               false,
               false,
               false,
               false,
               false,
               false,
               false,
               false,
               false,
               false,
               false,
               false,
               false
              ]
             }
            ],
            "label": "-69.14",
            "method": "update"
           },
           {
            "args": [
             {
              "visible": [
               true,
               false,
               false,
               false,
               false,
               false,
               false,
               false,
               false,
               false,
               false,
               false,
               true,
               false,
               false,
               false,
               false,
               false,
               false,
               false,
               false,
               false,
               false,
               false,
               false,
               false,
               false,
               false,
               false,
               false,
               false,
               false,
               false,
               false,
               false,
               false,
               false,
               false,
               false,
               false,
               false,
               false,
               false,
               false,
               false,
               false,
               false,
               false,
               false,
               false,
               false
              ]
             }
            ],
            "label": "-66.05",
            "method": "update"
           },
           {
            "args": [
             {
              "visible": [
               true,
               false,
               false,
               false,
               false,
               false,
               false,
               false,
               false,
               false,
               false,
               false,
               false,
               true,
               false,
               false,
               false,
               false,
               false,
               false,
               false,
               false,
               false,
               false,
               false,
               false,
               false,
               false,
               false,
               false,
               false,
               false,
               false,
               false,
               false,
               false,
               false,
               false,
               false,
               false,
               false,
               false,
               false,
               false,
               false,
               false,
               false,
               false,
               false,
               false,
               false
              ]
             }
            ],
            "label": "-62.96",
            "method": "update"
           },
           {
            "args": [
             {
              "visible": [
               true,
               false,
               false,
               false,
               false,
               false,
               false,
               false,
               false,
               false,
               false,
               false,
               false,
               false,
               true,
               false,
               false,
               false,
               false,
               false,
               false,
               false,
               false,
               false,
               false,
               false,
               false,
               false,
               false,
               false,
               false,
               false,
               false,
               false,
               false,
               false,
               false,
               false,
               false,
               false,
               false,
               false,
               false,
               false,
               false,
               false,
               false,
               false,
               false,
               false,
               false
              ]
             }
            ],
            "label": "-59.88",
            "method": "update"
           },
           {
            "args": [
             {
              "visible": [
               true,
               false,
               false,
               false,
               false,
               false,
               false,
               false,
               false,
               false,
               false,
               false,
               false,
               false,
               false,
               true,
               false,
               false,
               false,
               false,
               false,
               false,
               false,
               false,
               false,
               false,
               false,
               false,
               false,
               false,
               false,
               false,
               false,
               false,
               false,
               false,
               false,
               false,
               false,
               false,
               false,
               false,
               false,
               false,
               false,
               false,
               false,
               false,
               false,
               false,
               false
              ]
             }
            ],
            "label": "-56.79",
            "method": "update"
           },
           {
            "args": [
             {
              "visible": [
               true,
               false,
               false,
               false,
               false,
               false,
               false,
               false,
               false,
               false,
               false,
               false,
               false,
               false,
               false,
               false,
               true,
               false,
               false,
               false,
               false,
               false,
               false,
               false,
               false,
               false,
               false,
               false,
               false,
               false,
               false,
               false,
               false,
               false,
               false,
               false,
               false,
               false,
               false,
               false,
               false,
               false,
               false,
               false,
               false,
               false,
               false,
               false,
               false,
               false,
               false
              ]
             }
            ],
            "label": "-53.71",
            "method": "update"
           },
           {
            "args": [
             {
              "visible": [
               true,
               false,
               false,
               false,
               false,
               false,
               false,
               false,
               false,
               false,
               false,
               false,
               false,
               false,
               false,
               false,
               false,
               true,
               false,
               false,
               false,
               false,
               false,
               false,
               false,
               false,
               false,
               false,
               false,
               false,
               false,
               false,
               false,
               false,
               false,
               false,
               false,
               false,
               false,
               false,
               false,
               false,
               false,
               false,
               false,
               false,
               false,
               false,
               false,
               false,
               false
              ]
             }
            ],
            "label": "-50.62",
            "method": "update"
           },
           {
            "args": [
             {
              "visible": [
               true,
               false,
               false,
               false,
               false,
               false,
               false,
               false,
               false,
               false,
               false,
               false,
               false,
               false,
               false,
               false,
               false,
               false,
               true,
               false,
               false,
               false,
               false,
               false,
               false,
               false,
               false,
               false,
               false,
               false,
               false,
               false,
               false,
               false,
               false,
               false,
               false,
               false,
               false,
               false,
               false,
               false,
               false,
               false,
               false,
               false,
               false,
               false,
               false,
               false,
               false
              ]
             }
            ],
            "label": "-47.53",
            "method": "update"
           },
           {
            "args": [
             {
              "visible": [
               true,
               false,
               false,
               false,
               false,
               false,
               false,
               false,
               false,
               false,
               false,
               false,
               false,
               false,
               false,
               false,
               false,
               false,
               false,
               true,
               false,
               false,
               false,
               false,
               false,
               false,
               false,
               false,
               false,
               false,
               false,
               false,
               false,
               false,
               false,
               false,
               false,
               false,
               false,
               false,
               false,
               false,
               false,
               false,
               false,
               false,
               false,
               false,
               false,
               false,
               false
              ]
             }
            ],
            "label": "-44.45",
            "method": "update"
           },
           {
            "args": [
             {
              "visible": [
               true,
               false,
               false,
               false,
               false,
               false,
               false,
               false,
               false,
               false,
               false,
               false,
               false,
               false,
               false,
               false,
               false,
               false,
               false,
               false,
               true,
               false,
               false,
               false,
               false,
               false,
               false,
               false,
               false,
               false,
               false,
               false,
               false,
               false,
               false,
               false,
               false,
               false,
               false,
               false,
               false,
               false,
               false,
               false,
               false,
               false,
               false,
               false,
               false,
               false,
               false
              ]
             }
            ],
            "label": "-41.36",
            "method": "update"
           },
           {
            "args": [
             {
              "visible": [
               true,
               false,
               false,
               false,
               false,
               false,
               false,
               false,
               false,
               false,
               false,
               false,
               false,
               false,
               false,
               false,
               false,
               false,
               false,
               false,
               false,
               true,
               false,
               false,
               false,
               false,
               false,
               false,
               false,
               false,
               false,
               false,
               false,
               false,
               false,
               false,
               false,
               false,
               false,
               false,
               false,
               false,
               false,
               false,
               false,
               false,
               false,
               false,
               false,
               false,
               false
              ]
             }
            ],
            "label": "-38.27",
            "method": "update"
           },
           {
            "args": [
             {
              "visible": [
               true,
               false,
               false,
               false,
               false,
               false,
               false,
               false,
               false,
               false,
               false,
               false,
               false,
               false,
               false,
               false,
               false,
               false,
               false,
               false,
               false,
               false,
               true,
               false,
               false,
               false,
               false,
               false,
               false,
               false,
               false,
               false,
               false,
               false,
               false,
               false,
               false,
               false,
               false,
               false,
               false,
               false,
               false,
               false,
               false,
               false,
               false,
               false,
               false,
               false,
               false
              ]
             }
            ],
            "label": "-35.19",
            "method": "update"
           },
           {
            "args": [
             {
              "visible": [
               true,
               false,
               false,
               false,
               false,
               false,
               false,
               false,
               false,
               false,
               false,
               false,
               false,
               false,
               false,
               false,
               false,
               false,
               false,
               false,
               false,
               false,
               false,
               true,
               false,
               false,
               false,
               false,
               false,
               false,
               false,
               false,
               false,
               false,
               false,
               false,
               false,
               false,
               false,
               false,
               false,
               false,
               false,
               false,
               false,
               false,
               false,
               false,
               false,
               false,
               false
              ]
             }
            ],
            "label": "-32.10",
            "method": "update"
           },
           {
            "args": [
             {
              "visible": [
               true,
               false,
               false,
               false,
               false,
               false,
               false,
               false,
               false,
               false,
               false,
               false,
               false,
               false,
               false,
               false,
               false,
               false,
               false,
               false,
               false,
               false,
               false,
               false,
               true,
               false,
               false,
               false,
               false,
               false,
               false,
               false,
               false,
               false,
               false,
               false,
               false,
               false,
               false,
               false,
               false,
               false,
               false,
               false,
               false,
               false,
               false,
               false,
               false,
               false,
               false
              ]
             }
            ],
            "label": "-29.01",
            "method": "update"
           },
           {
            "args": [
             {
              "visible": [
               true,
               false,
               false,
               false,
               false,
               false,
               false,
               false,
               false,
               false,
               false,
               false,
               false,
               false,
               false,
               false,
               false,
               false,
               false,
               false,
               false,
               false,
               false,
               false,
               false,
               true,
               false,
               false,
               false,
               false,
               false,
               false,
               false,
               false,
               false,
               false,
               false,
               false,
               false,
               false,
               false,
               false,
               false,
               false,
               false,
               false,
               false,
               false,
               false,
               false,
               false
              ]
             }
            ],
            "label": "-25.93",
            "method": "update"
           },
           {
            "args": [
             {
              "visible": [
               true,
               false,
               false,
               false,
               false,
               false,
               false,
               false,
               false,
               false,
               false,
               false,
               false,
               false,
               false,
               false,
               false,
               false,
               false,
               false,
               false,
               false,
               false,
               false,
               false,
               false,
               true,
               false,
               false,
               false,
               false,
               false,
               false,
               false,
               false,
               false,
               false,
               false,
               false,
               false,
               false,
               false,
               false,
               false,
               false,
               false,
               false,
               false,
               false,
               false,
               false
              ]
             }
            ],
            "label": "-22.84",
            "method": "update"
           },
           {
            "args": [
             {
              "visible": [
               true,
               false,
               false,
               false,
               false,
               false,
               false,
               false,
               false,
               false,
               false,
               false,
               false,
               false,
               false,
               false,
               false,
               false,
               false,
               false,
               false,
               false,
               false,
               false,
               false,
               false,
               false,
               true,
               false,
               false,
               false,
               false,
               false,
               false,
               false,
               false,
               false,
               false,
               false,
               false,
               false,
               false,
               false,
               false,
               false,
               false,
               false,
               false,
               false,
               false,
               false
              ]
             }
            ],
            "label": "-19.76",
            "method": "update"
           },
           {
            "args": [
             {
              "visible": [
               true,
               false,
               false,
               false,
               false,
               false,
               false,
               false,
               false,
               false,
               false,
               false,
               false,
               false,
               false,
               false,
               false,
               false,
               false,
               false,
               false,
               false,
               false,
               false,
               false,
               false,
               false,
               false,
               true,
               false,
               false,
               false,
               false,
               false,
               false,
               false,
               false,
               false,
               false,
               false,
               false,
               false,
               false,
               false,
               false,
               false,
               false,
               false,
               false,
               false,
               false
              ]
             }
            ],
            "label": "-16.67",
            "method": "update"
           },
           {
            "args": [
             {
              "visible": [
               true,
               false,
               false,
               false,
               false,
               false,
               false,
               false,
               false,
               false,
               false,
               false,
               false,
               false,
               false,
               false,
               false,
               false,
               false,
               false,
               false,
               false,
               false,
               false,
               false,
               false,
               false,
               false,
               false,
               true,
               false,
               false,
               false,
               false,
               false,
               false,
               false,
               false,
               false,
               false,
               false,
               false,
               false,
               false,
               false,
               false,
               false,
               false,
               false,
               false,
               false
              ]
             }
            ],
            "label": "-13.58",
            "method": "update"
           },
           {
            "args": [
             {
              "visible": [
               true,
               false,
               false,
               false,
               false,
               false,
               false,
               false,
               false,
               false,
               false,
               false,
               false,
               false,
               false,
               false,
               false,
               false,
               false,
               false,
               false,
               false,
               false,
               false,
               false,
               false,
               false,
               false,
               false,
               false,
               true,
               false,
               false,
               false,
               false,
               false,
               false,
               false,
               false,
               false,
               false,
               false,
               false,
               false,
               false,
               false,
               false,
               false,
               false,
               false,
               false
              ]
             }
            ],
            "label": "-10.50",
            "method": "update"
           },
           {
            "args": [
             {
              "visible": [
               true,
               false,
               false,
               false,
               false,
               false,
               false,
               false,
               false,
               false,
               false,
               false,
               false,
               false,
               false,
               false,
               false,
               false,
               false,
               false,
               false,
               false,
               false,
               false,
               false,
               false,
               false,
               false,
               false,
               false,
               false,
               true,
               false,
               false,
               false,
               false,
               false,
               false,
               false,
               false,
               false,
               false,
               false,
               false,
               false,
               false,
               false,
               false,
               false,
               false,
               false
              ]
             }
            ],
            "label": "-7.41",
            "method": "update"
           },
           {
            "args": [
             {
              "visible": [
               true,
               false,
               false,
               false,
               false,
               false,
               false,
               false,
               false,
               false,
               false,
               false,
               false,
               false,
               false,
               false,
               false,
               false,
               false,
               false,
               false,
               false,
               false,
               false,
               false,
               false,
               false,
               false,
               false,
               false,
               false,
               false,
               true,
               false,
               false,
               false,
               false,
               false,
               false,
               false,
               false,
               false,
               false,
               false,
               false,
               false,
               false,
               false,
               false,
               false,
               false
              ]
             }
            ],
            "label": "-4.32",
            "method": "update"
           },
           {
            "args": [
             {
              "visible": [
               true,
               false,
               false,
               false,
               false,
               false,
               false,
               false,
               false,
               false,
               false,
               false,
               false,
               false,
               false,
               false,
               false,
               false,
               false,
               false,
               false,
               false,
               false,
               false,
               false,
               false,
               false,
               false,
               false,
               false,
               false,
               false,
               false,
               true,
               false,
               false,
               false,
               false,
               false,
               false,
               false,
               false,
               false,
               false,
               false,
               false,
               false,
               false,
               false,
               false,
               false
              ]
             }
            ],
            "label": "-1.24",
            "method": "update"
           },
           {
            "args": [
             {
              "visible": [
               true,
               false,
               false,
               false,
               false,
               false,
               false,
               false,
               false,
               false,
               false,
               false,
               false,
               false,
               false,
               false,
               false,
               false,
               false,
               false,
               false,
               false,
               false,
               false,
               false,
               false,
               false,
               false,
               false,
               false,
               false,
               false,
               false,
               false,
               true,
               false,
               false,
               false,
               false,
               false,
               false,
               false,
               false,
               false,
               false,
               false,
               false,
               false,
               false,
               false,
               false
              ]
             }
            ],
            "label": "1.85",
            "method": "update"
           },
           {
            "args": [
             {
              "visible": [
               true,
               false,
               false,
               false,
               false,
               false,
               false,
               false,
               false,
               false,
               false,
               false,
               false,
               false,
               false,
               false,
               false,
               false,
               false,
               false,
               false,
               false,
               false,
               false,
               false,
               false,
               false,
               false,
               false,
               false,
               false,
               false,
               false,
               false,
               false,
               true,
               false,
               false,
               false,
               false,
               false,
               false,
               false,
               false,
               false,
               false,
               false,
               false,
               false,
               false,
               false
              ]
             }
            ],
            "label": "4.93",
            "method": "update"
           },
           {
            "args": [
             {
              "visible": [
               true,
               false,
               false,
               false,
               false,
               false,
               false,
               false,
               false,
               false,
               false,
               false,
               false,
               false,
               false,
               false,
               false,
               false,
               false,
               false,
               false,
               false,
               false,
               false,
               false,
               false,
               false,
               false,
               false,
               false,
               false,
               false,
               false,
               false,
               false,
               false,
               true,
               false,
               false,
               false,
               false,
               false,
               false,
               false,
               false,
               false,
               false,
               false,
               false,
               false,
               false
              ]
             }
            ],
            "label": "8.02",
            "method": "update"
           },
           {
            "args": [
             {
              "visible": [
               true,
               false,
               false,
               false,
               false,
               false,
               false,
               false,
               false,
               false,
               false,
               false,
               false,
               false,
               false,
               false,
               false,
               false,
               false,
               false,
               false,
               false,
               false,
               false,
               false,
               false,
               false,
               false,
               false,
               false,
               false,
               false,
               false,
               false,
               false,
               false,
               false,
               true,
               false,
               false,
               false,
               false,
               false,
               false,
               false,
               false,
               false,
               false,
               false,
               false,
               false
              ]
             }
            ],
            "label": "11.11",
            "method": "update"
           },
           {
            "args": [
             {
              "visible": [
               true,
               false,
               false,
               false,
               false,
               false,
               false,
               false,
               false,
               false,
               false,
               false,
               false,
               false,
               false,
               false,
               false,
               false,
               false,
               false,
               false,
               false,
               false,
               false,
               false,
               false,
               false,
               false,
               false,
               false,
               false,
               false,
               false,
               false,
               false,
               false,
               false,
               false,
               true,
               false,
               false,
               false,
               false,
               false,
               false,
               false,
               false,
               false,
               false,
               false,
               false
              ]
             }
            ],
            "label": "14.19",
            "method": "update"
           },
           {
            "args": [
             {
              "visible": [
               true,
               false,
               false,
               false,
               false,
               false,
               false,
               false,
               false,
               false,
               false,
               false,
               false,
               false,
               false,
               false,
               false,
               false,
               false,
               false,
               false,
               false,
               false,
               false,
               false,
               false,
               false,
               false,
               false,
               false,
               false,
               false,
               false,
               false,
               false,
               false,
               false,
               false,
               false,
               true,
               false,
               false,
               false,
               false,
               false,
               false,
               false,
               false,
               false,
               false,
               false
              ]
             }
            ],
            "label": "17.28",
            "method": "update"
           },
           {
            "args": [
             {
              "visible": [
               true,
               false,
               false,
               false,
               false,
               false,
               false,
               false,
               false,
               false,
               false,
               false,
               false,
               false,
               false,
               false,
               false,
               false,
               false,
               false,
               false,
               false,
               false,
               false,
               false,
               false,
               false,
               false,
               false,
               false,
               false,
               false,
               false,
               false,
               false,
               false,
               false,
               false,
               false,
               false,
               true,
               false,
               false,
               false,
               false,
               false,
               false,
               false,
               false,
               false,
               false
              ]
             }
            ],
            "label": "20.37",
            "method": "update"
           },
           {
            "args": [
             {
              "visible": [
               true,
               false,
               false,
               false,
               false,
               false,
               false,
               false,
               false,
               false,
               false,
               false,
               false,
               false,
               false,
               false,
               false,
               false,
               false,
               false,
               false,
               false,
               false,
               false,
               false,
               false,
               false,
               false,
               false,
               false,
               false,
               false,
               false,
               false,
               false,
               false,
               false,
               false,
               false,
               false,
               false,
               true,
               false,
               false,
               false,
               false,
               false,
               false,
               false,
               false,
               false
              ]
             }
            ],
            "label": "23.45",
            "method": "update"
           },
           {
            "args": [
             {
              "visible": [
               true,
               false,
               false,
               false,
               false,
               false,
               false,
               false,
               false,
               false,
               false,
               false,
               false,
               false,
               false,
               false,
               false,
               false,
               false,
               false,
               false,
               false,
               false,
               false,
               false,
               false,
               false,
               false,
               false,
               false,
               false,
               false,
               false,
               false,
               false,
               false,
               false,
               false,
               false,
               false,
               false,
               false,
               true,
               false,
               false,
               false,
               false,
               false,
               false,
               false,
               false
              ]
             }
            ],
            "label": "26.54",
            "method": "update"
           },
           {
            "args": [
             {
              "visible": [
               true,
               false,
               false,
               false,
               false,
               false,
               false,
               false,
               false,
               false,
               false,
               false,
               false,
               false,
               false,
               false,
               false,
               false,
               false,
               false,
               false,
               false,
               false,
               false,
               false,
               false,
               false,
               false,
               false,
               false,
               false,
               false,
               false,
               false,
               false,
               false,
               false,
               false,
               false,
               false,
               false,
               false,
               false,
               true,
               false,
               false,
               false,
               false,
               false,
               false,
               false
              ]
             }
            ],
            "label": "29.63",
            "method": "update"
           },
           {
            "args": [
             {
              "visible": [
               true,
               false,
               false,
               false,
               false,
               false,
               false,
               false,
               false,
               false,
               false,
               false,
               false,
               false,
               false,
               false,
               false,
               false,
               false,
               false,
               false,
               false,
               false,
               false,
               false,
               false,
               false,
               false,
               false,
               false,
               false,
               false,
               false,
               false,
               false,
               false,
               false,
               false,
               false,
               false,
               false,
               false,
               false,
               false,
               true,
               false,
               false,
               false,
               false,
               false,
               false
              ]
             }
            ],
            "label": "32.71",
            "method": "update"
           },
           {
            "args": [
             {
              "visible": [
               true,
               false,
               false,
               false,
               false,
               false,
               false,
               false,
               false,
               false,
               false,
               false,
               false,
               false,
               false,
               false,
               false,
               false,
               false,
               false,
               false,
               false,
               false,
               false,
               false,
               false,
               false,
               false,
               false,
               false,
               false,
               false,
               false,
               false,
               false,
               false,
               false,
               false,
               false,
               false,
               false,
               false,
               false,
               false,
               false,
               true,
               false,
               false,
               false,
               false,
               false
              ]
             }
            ],
            "label": "35.80",
            "method": "update"
           },
           {
            "args": [
             {
              "visible": [
               true,
               false,
               false,
               false,
               false,
               false,
               false,
               false,
               false,
               false,
               false,
               false,
               false,
               false,
               false,
               false,
               false,
               false,
               false,
               false,
               false,
               false,
               false,
               false,
               false,
               false,
               false,
               false,
               false,
               false,
               false,
               false,
               false,
               false,
               false,
               false,
               false,
               false,
               false,
               false,
               false,
               false,
               false,
               false,
               false,
               false,
               true,
               false,
               false,
               false,
               false
              ]
             }
            ],
            "label": "38.88",
            "method": "update"
           },
           {
            "args": [
             {
              "visible": [
               true,
               false,
               false,
               false,
               false,
               false,
               false,
               false,
               false,
               false,
               false,
               false,
               false,
               false,
               false,
               false,
               false,
               false,
               false,
               false,
               false,
               false,
               false,
               false,
               false,
               false,
               false,
               false,
               false,
               false,
               false,
               false,
               false,
               false,
               false,
               false,
               false,
               false,
               false,
               false,
               false,
               false,
               false,
               false,
               false,
               false,
               false,
               true,
               false,
               false,
               false
              ]
             }
            ],
            "label": "41.97",
            "method": "update"
           },
           {
            "args": [
             {
              "visible": [
               true,
               false,
               false,
               false,
               false,
               false,
               false,
               false,
               false,
               false,
               false,
               false,
               false,
               false,
               false,
               false,
               false,
               false,
               false,
               false,
               false,
               false,
               false,
               false,
               false,
               false,
               false,
               false,
               false,
               false,
               false,
               false,
               false,
               false,
               false,
               false,
               false,
               false,
               false,
               false,
               false,
               false,
               false,
               false,
               false,
               false,
               false,
               false,
               true,
               false,
               false
              ]
             }
            ],
            "label": "45.06",
            "method": "update"
           },
           {
            "args": [
             {
              "visible": [
               true,
               false,
               false,
               false,
               false,
               false,
               false,
               false,
               false,
               false,
               false,
               false,
               false,
               false,
               false,
               false,
               false,
               false,
               false,
               false,
               false,
               false,
               false,
               false,
               false,
               false,
               false,
               false,
               false,
               false,
               false,
               false,
               false,
               false,
               false,
               false,
               false,
               false,
               false,
               false,
               false,
               false,
               false,
               false,
               false,
               false,
               false,
               false,
               false,
               true,
               false
              ]
             }
            ],
            "label": "48.14",
            "method": "update"
           },
           {
            "args": [
             {
              "visible": [
               true,
               false,
               false,
               false,
               false,
               false,
               false,
               false,
               false,
               false,
               false,
               false,
               false,
               false,
               false,
               false,
               false,
               false,
               false,
               false,
               false,
               false,
               false,
               false,
               false,
               false,
               false,
               false,
               false,
               false,
               false,
               false,
               false,
               false,
               false,
               false,
               false,
               false,
               false,
               false,
               false,
               false,
               false,
               false,
               false,
               false,
               false,
               false,
               false,
               false,
               true
              ]
             }
            ],
            "label": "51.23",
            "method": "update"
           }
          ]
         }
        ],
        "template": {
         "data": {
          "bar": [
           {
            "error_x": {
             "color": "#2a3f5f"
            },
            "error_y": {
             "color": "#2a3f5f"
            },
            "marker": {
             "line": {
              "color": "#E5ECF6",
              "width": 0.5
             },
             "pattern": {
              "fillmode": "overlay",
              "size": 10,
              "solidity": 0.2
             }
            },
            "type": "bar"
           }
          ],
          "barpolar": [
           {
            "marker": {
             "line": {
              "color": "#E5ECF6",
              "width": 0.5
             },
             "pattern": {
              "fillmode": "overlay",
              "size": 10,
              "solidity": 0.2
             }
            },
            "type": "barpolar"
           }
          ],
          "carpet": [
           {
            "aaxis": {
             "endlinecolor": "#2a3f5f",
             "gridcolor": "white",
             "linecolor": "white",
             "minorgridcolor": "white",
             "startlinecolor": "#2a3f5f"
            },
            "baxis": {
             "endlinecolor": "#2a3f5f",
             "gridcolor": "white",
             "linecolor": "white",
             "minorgridcolor": "white",
             "startlinecolor": "#2a3f5f"
            },
            "type": "carpet"
           }
          ],
          "choropleth": [
           {
            "colorbar": {
             "outlinewidth": 0,
             "ticks": ""
            },
            "type": "choropleth"
           }
          ],
          "contour": [
           {
            "colorbar": {
             "outlinewidth": 0,
             "ticks": ""
            },
            "colorscale": [
             [
              0,
              "#0d0887"
             ],
             [
              0.1111111111111111,
              "#46039f"
             ],
             [
              0.2222222222222222,
              "#7201a8"
             ],
             [
              0.3333333333333333,
              "#9c179e"
             ],
             [
              0.4444444444444444,
              "#bd3786"
             ],
             [
              0.5555555555555556,
              "#d8576b"
             ],
             [
              0.6666666666666666,
              "#ed7953"
             ],
             [
              0.7777777777777778,
              "#fb9f3a"
             ],
             [
              0.8888888888888888,
              "#fdca26"
             ],
             [
              1,
              "#f0f921"
             ]
            ],
            "type": "contour"
           }
          ],
          "contourcarpet": [
           {
            "colorbar": {
             "outlinewidth": 0,
             "ticks": ""
            },
            "type": "contourcarpet"
           }
          ],
          "heatmap": [
           {
            "colorbar": {
             "outlinewidth": 0,
             "ticks": ""
            },
            "colorscale": [
             [
              0,
              "#0d0887"
             ],
             [
              0.1111111111111111,
              "#46039f"
             ],
             [
              0.2222222222222222,
              "#7201a8"
             ],
             [
              0.3333333333333333,
              "#9c179e"
             ],
             [
              0.4444444444444444,
              "#bd3786"
             ],
             [
              0.5555555555555556,
              "#d8576b"
             ],
             [
              0.6666666666666666,
              "#ed7953"
             ],
             [
              0.7777777777777778,
              "#fb9f3a"
             ],
             [
              0.8888888888888888,
              "#fdca26"
             ],
             [
              1,
              "#f0f921"
             ]
            ],
            "type": "heatmap"
           }
          ],
          "histogram": [
           {
            "marker": {
             "pattern": {
              "fillmode": "overlay",
              "size": 10,
              "solidity": 0.2
             }
            },
            "type": "histogram"
           }
          ],
          "histogram2d": [
           {
            "colorbar": {
             "outlinewidth": 0,
             "ticks": ""
            },
            "colorscale": [
             [
              0,
              "#0d0887"
             ],
             [
              0.1111111111111111,
              "#46039f"
             ],
             [
              0.2222222222222222,
              "#7201a8"
             ],
             [
              0.3333333333333333,
              "#9c179e"
             ],
             [
              0.4444444444444444,
              "#bd3786"
             ],
             [
              0.5555555555555556,
              "#d8576b"
             ],
             [
              0.6666666666666666,
              "#ed7953"
             ],
             [
              0.7777777777777778,
              "#fb9f3a"
             ],
             [
              0.8888888888888888,
              "#fdca26"
             ],
             [
              1,
              "#f0f921"
             ]
            ],
            "type": "histogram2d"
           }
          ],
          "histogram2dcontour": [
           {
            "colorbar": {
             "outlinewidth": 0,
             "ticks": ""
            },
            "colorscale": [
             [
              0,
              "#0d0887"
             ],
             [
              0.1111111111111111,
              "#46039f"
             ],
             [
              0.2222222222222222,
              "#7201a8"
             ],
             [
              0.3333333333333333,
              "#9c179e"
             ],
             [
              0.4444444444444444,
              "#bd3786"
             ],
             [
              0.5555555555555556,
              "#d8576b"
             ],
             [
              0.6666666666666666,
              "#ed7953"
             ],
             [
              0.7777777777777778,
              "#fb9f3a"
             ],
             [
              0.8888888888888888,
              "#fdca26"
             ],
             [
              1,
              "#f0f921"
             ]
            ],
            "type": "histogram2dcontour"
           }
          ],
          "mesh3d": [
           {
            "colorbar": {
             "outlinewidth": 0,
             "ticks": ""
            },
            "type": "mesh3d"
           }
          ],
          "parcoords": [
           {
            "line": {
             "colorbar": {
              "outlinewidth": 0,
              "ticks": ""
             }
            },
            "type": "parcoords"
           }
          ],
          "pie": [
           {
            "automargin": true,
            "type": "pie"
           }
          ],
          "scatter": [
           {
            "fillpattern": {
             "fillmode": "overlay",
             "size": 10,
             "solidity": 0.2
            },
            "type": "scatter"
           }
          ],
          "scatter3d": [
           {
            "line": {
             "colorbar": {
              "outlinewidth": 0,
              "ticks": ""
             }
            },
            "marker": {
             "colorbar": {
              "outlinewidth": 0,
              "ticks": ""
             }
            },
            "type": "scatter3d"
           }
          ],
          "scattercarpet": [
           {
            "marker": {
             "colorbar": {
              "outlinewidth": 0,
              "ticks": ""
             }
            },
            "type": "scattercarpet"
           }
          ],
          "scattergeo": [
           {
            "marker": {
             "colorbar": {
              "outlinewidth": 0,
              "ticks": ""
             }
            },
            "type": "scattergeo"
           }
          ],
          "scattergl": [
           {
            "marker": {
             "colorbar": {
              "outlinewidth": 0,
              "ticks": ""
             }
            },
            "type": "scattergl"
           }
          ],
          "scattermap": [
           {
            "marker": {
             "colorbar": {
              "outlinewidth": 0,
              "ticks": ""
             }
            },
            "type": "scattermap"
           }
          ],
          "scattermapbox": [
           {
            "marker": {
             "colorbar": {
              "outlinewidth": 0,
              "ticks": ""
             }
            },
            "type": "scattermapbox"
           }
          ],
          "scatterpolar": [
           {
            "marker": {
             "colorbar": {
              "outlinewidth": 0,
              "ticks": ""
             }
            },
            "type": "scatterpolar"
           }
          ],
          "scatterpolargl": [
           {
            "marker": {
             "colorbar": {
              "outlinewidth": 0,
              "ticks": ""
             }
            },
            "type": "scatterpolargl"
           }
          ],
          "scatterternary": [
           {
            "marker": {
             "colorbar": {
              "outlinewidth": 0,
              "ticks": ""
             }
            },
            "type": "scatterternary"
           }
          ],
          "surface": [
           {
            "colorbar": {
             "outlinewidth": 0,
             "ticks": ""
            },
            "colorscale": [
             [
              0,
              "#0d0887"
             ],
             [
              0.1111111111111111,
              "#46039f"
             ],
             [
              0.2222222222222222,
              "#7201a8"
             ],
             [
              0.3333333333333333,
              "#9c179e"
             ],
             [
              0.4444444444444444,
              "#bd3786"
             ],
             [
              0.5555555555555556,
              "#d8576b"
             ],
             [
              0.6666666666666666,
              "#ed7953"
             ],
             [
              0.7777777777777778,
              "#fb9f3a"
             ],
             [
              0.8888888888888888,
              "#fdca26"
             ],
             [
              1,
              "#f0f921"
             ]
            ],
            "type": "surface"
           }
          ],
          "table": [
           {
            "cells": {
             "fill": {
              "color": "#EBF0F8"
             },
             "line": {
              "color": "white"
             }
            },
            "header": {
             "fill": {
              "color": "#C8D4E3"
             },
             "line": {
              "color": "white"
             }
            },
            "type": "table"
           }
          ]
         },
         "layout": {
          "annotationdefaults": {
           "arrowcolor": "#2a3f5f",
           "arrowhead": 0,
           "arrowwidth": 1
          },
          "autotypenumbers": "strict",
          "coloraxis": {
           "colorbar": {
            "outlinewidth": 0,
            "ticks": ""
           }
          },
          "colorscale": {
           "diverging": [
            [
             0,
             "#8e0152"
            ],
            [
             0.1,
             "#c51b7d"
            ],
            [
             0.2,
             "#de77ae"
            ],
            [
             0.3,
             "#f1b6da"
            ],
            [
             0.4,
             "#fde0ef"
            ],
            [
             0.5,
             "#f7f7f7"
            ],
            [
             0.6,
             "#e6f5d0"
            ],
            [
             0.7,
             "#b8e186"
            ],
            [
             0.8,
             "#7fbc41"
            ],
            [
             0.9,
             "#4d9221"
            ],
            [
             1,
             "#276419"
            ]
           ],
           "sequential": [
            [
             0,
             "#0d0887"
            ],
            [
             0.1111111111111111,
             "#46039f"
            ],
            [
             0.2222222222222222,
             "#7201a8"
            ],
            [
             0.3333333333333333,
             "#9c179e"
            ],
            [
             0.4444444444444444,
             "#bd3786"
            ],
            [
             0.5555555555555556,
             "#d8576b"
            ],
            [
             0.6666666666666666,
             "#ed7953"
            ],
            [
             0.7777777777777778,
             "#fb9f3a"
            ],
            [
             0.8888888888888888,
             "#fdca26"
            ],
            [
             1,
             "#f0f921"
            ]
           ],
           "sequentialminus": [
            [
             0,
             "#0d0887"
            ],
            [
             0.1111111111111111,
             "#46039f"
            ],
            [
             0.2222222222222222,
             "#7201a8"
            ],
            [
             0.3333333333333333,
             "#9c179e"
            ],
            [
             0.4444444444444444,
             "#bd3786"
            ],
            [
             0.5555555555555556,
             "#d8576b"
            ],
            [
             0.6666666666666666,
             "#ed7953"
            ],
            [
             0.7777777777777778,
             "#fb9f3a"
            ],
            [
             0.8888888888888888,
             "#fdca26"
            ],
            [
             1,
             "#f0f921"
            ]
           ]
          },
          "colorway": [
           "#636efa",
           "#EF553B",
           "#00cc96",
           "#ab63fa",
           "#FFA15A",
           "#19d3f3",
           "#FF6692",
           "#B6E880",
           "#FF97FF",
           "#FECB52"
          ],
          "font": {
           "color": "#2a3f5f"
          },
          "geo": {
           "bgcolor": "white",
           "lakecolor": "white",
           "landcolor": "#E5ECF6",
           "showlakes": true,
           "showland": true,
           "subunitcolor": "white"
          },
          "hoverlabel": {
           "align": "left"
          },
          "hovermode": "closest",
          "mapbox": {
           "style": "light"
          },
          "paper_bgcolor": "white",
          "plot_bgcolor": "#E5ECF6",
          "polar": {
           "angularaxis": {
            "gridcolor": "white",
            "linecolor": "white",
            "ticks": ""
           },
           "bgcolor": "#E5ECF6",
           "radialaxis": {
            "gridcolor": "white",
            "linecolor": "white",
            "ticks": ""
           }
          },
          "scene": {
           "xaxis": {
            "backgroundcolor": "#E5ECF6",
            "gridcolor": "white",
            "gridwidth": 2,
            "linecolor": "white",
            "showbackground": true,
            "ticks": "",
            "zerolinecolor": "white"
           },
           "yaxis": {
            "backgroundcolor": "#E5ECF6",
            "gridcolor": "white",
            "gridwidth": 2,
            "linecolor": "white",
            "showbackground": true,
            "ticks": "",
            "zerolinecolor": "white"
           },
           "zaxis": {
            "backgroundcolor": "#E5ECF6",
            "gridcolor": "white",
            "gridwidth": 2,
            "linecolor": "white",
            "showbackground": true,
            "ticks": "",
            "zerolinecolor": "white"
           }
          },
          "shapedefaults": {
           "line": {
            "color": "#2a3f5f"
           }
          },
          "ternary": {
           "aaxis": {
            "gridcolor": "white",
            "linecolor": "white",
            "ticks": ""
           },
           "baxis": {
            "gridcolor": "white",
            "linecolor": "white",
            "ticks": ""
           },
           "bgcolor": "#E5ECF6",
           "caxis": {
            "gridcolor": "white",
            "linecolor": "white",
            "ticks": ""
           }
          },
          "title": {
           "x": 0.05
          },
          "xaxis": {
           "automargin": true,
           "gridcolor": "white",
           "linecolor": "white",
           "ticks": "",
           "title": {
            "standoff": 15
           },
           "zerolinecolor": "white",
           "zerolinewidth": 2
          },
          "yaxis": {
           "automargin": true,
           "gridcolor": "white",
           "linecolor": "white",
           "ticks": "",
           "title": {
            "standoff": 15
           },
           "zerolinecolor": "white",
           "zerolinewidth": 2
          }
         }
        },
        "title": {
         "text": "Interactive Neuron Cross-Sections<br><sub>Use slider to explore different Z-levels</sub>"
        },
        "width": 800
       }
      }
     },
     "metadata": {},
     "output_type": "display_data"
    }
   ],
   "source": [
    "# Interactive slice visualization of the neuron\n",
    "# Use the slider to explore different Z-levels and see how the cross-section changes\n",
    "fig_slice = visualize_mesh_slice_interactive(\n",
    "    neuron,\n",
    "    title=\"Interactive Neuron Cross-Sections\",\n",
    "    slice_color=\"red\",\n",
    "    mesh_color=\"coral\",\n",
    "    mesh_opacity=0.2\n",
    ")\n",
    "fig_slice.show()"
   ]
  },
  {
   "cell_type": "code",
   "execution_count": 15,
   "id": "fa790f33",
   "metadata": {},
   "outputs": [
    {
     "data": {
      "application/vnd.plotly.v1+json": {
       "config": {
        "plotlyServerURL": "https://plot.ly"
       },
       "data": [
        {
         "line": {
          "color": "red",
          "width": 2
         },
         "mode": "lines",
         "showlegend": false,
         "type": "scatter",
         "x": {
          "bdata": "AAAAAOva07wAAAAAAAAIwAAAACDcyBTAAAAAAAAAGMAAAAAg3MgUwAAAAAAAAAjAAAAAQDl5ujwAAAAAAAAIQAAAACDcyBRAAAAAAAAAGEAAAAAg3MgUQAAAAAAAAAhAAAAAAOva07wAAAAA69rTvA==",
          "dtype": "f8"
         },
         "xaxis": "x",
         "y": {
          "bdata": "AAAAAAAAGMAAAAAg3MgUwAAAAAAAAAjAAAAAQDl5yjwAAAAAAAAIQAAAACDcyBRAAAAAAAAAGEAAAAAg3MgUQAAAAAAAAAhAAAAAAAAAAAAAAAAAAAAIwAAAACDcyBTAAAAAAAAAGMAAAAAAAAAYwA==",
          "dtype": "f8"
         },
         "yaxis": "y"
        },
        {
         "line": {
          "color": "red",
          "width": 2
         },
         "mode": "lines",
         "showlegend": false,
         "type": "scatter",
         "x": {
          "bdata": "D5NEMh1h0rwvHWUfciLUv/RRuB5u7eC/AAAAAAAACMA0uXWbEhkLwAAAACDcyBTAAEA+g64DFcBcEiLtrakXwAAAAAAAABjAXBIi7a2pF8Bc0uOJ224XwAAAACDcyBTAZiNF0lI8E8AAAAAAAAAIwLxGzJ38twPA0ncdVvZwvDwkHWUfciLUP/BRuB5u7eA/AAAAAAAACEA0uXWbEhkLQAAAACDcyBRAJucBpbJbFUAAAAAAAAAYQFwSIu2tqRdAXNLjidtuF0AAAAAg3MgUQGYjRdJSPBNAAAAAAAAACEAuzBC/8kgGQLtGzJ38twNAD5NEMh1h0rwPk0QyHWHSvA==",
          "dtype": "f8"
         },
         "xaxis": "x2",
         "y": {
          "bdata": "AAAAAAAAGMBcEiLtrakXwFzS44nbbhfAAAAAINzIFMBmI0XSUjwTwAAAAAAAAAjALswQv/JIBsA8Bfc1ciLUvwAAAEA5eco8KR1lH3Ii1D/0Ubgebu3gPwAAAAAAAAhAM7l1mxIZC0AAAAAg3MgUQCbnAaWyWxVAAAAAAAAAGEBcEiLtrakXQFzS44nbbhdAAAAAINzIFEBmI0XSUjwTQAAAAAAAAAhAu0bMnfy3A0DSENfY0Ht/vB4dZR9yItS/7FG4Hm7t4L8AAAAAAAAIwDS5dZsSGQvAAAAAINzIFMAAQD6DrgMVwCbnAaWyWxXAAAAAAAAAGMAAAAAAAAAYwA==",
          "dtype": "f8"
         },
         "yaxis": "y2"
        },
        {
         "line": {
          "color": "red",
          "width": 2
         },
         "mode": "lines",
         "showlegend": false,
         "type": "scatter",
         "x": {
          "bdata": "HiaJZE/n0LwlHWUfciLkv+9RuB5u7fC/AAAAAAAACMBmcus2JTIOwAAAACDcyBTAAIB85oA+FcC4JETaW1MXwAAAAAAAABjAuCRE2ltTF8C4pMcTt90WwAAAACDcyBTAzUaKhMmvEcAAAAAAAAAIwO4aMXfy3/6/o+86bLNovjwgHWUfciLkP+5RuB5u7fA/AAAAAAAACEBmcus2JTIOQAAAACDcyBRATc4DKonuFUAAAAAAAAAYQLgkRNpbUxdAuKTHE7fdFkAAAAAg3MgUQM1GioTJrxFAAAAAAAAACEBcmCF+5ZEEQO0aMXfy3/4/HiaJZE/n0LweJolkT+fQvA==",
          "dtype": "f8"
         },
         "xaxis": "x3",
         "y": {
          "bdata": "AAAAAAAAGMC4JETaW1MXwLikxxO33RbAAAAAINzIFMDNRoqEya8RwAAAAAAAAAjAXJghfuWRBMBEBfc1ciLkvwAAAEA5eco8Ix1lH3Ii5D/wUbgebu3wPwAAAAAAAAhAZnLrNiUyDkAAAAAg3MgUQE3OAyqJ7hVAAAAAAAAAGEC4JETaW1MXQLikxxO33RZAAAAAINzIFEDNRoqEya8RQAAAAAAAAAhA7hoxd/Lf/j/SENfY0HuPvB4dZR9yIuS/7VG4Hm7t8L8AAAAAAAAIwGZy6zYlMg7AAAAAINzIFMAAgHzmgD4VwE3OAyqJ7hXAAAAAAAAAGMAAAAAAAAAYwA==",
          "dtype": "f8"
         },
         "yaxis": "y3"
        },
        {
         "line": {
          "color": "red",
          "width": 2
         },
         "mode": "lines",
         "showlegend": false,
         "type": "scatter",
         "x": {
          "bdata": "WnKbLQPbzryzqxcvqzPuv+N6FC4lZPm/AAAAAAAACMDNlTDpm6UQwAAAACDcyBTAAMC6SVN5FcAUN2bHCf0WwAAAAAAAABjAFDdmxwn9FsAUd6udkkwWwAAAACDcyBTAM2rPNkAjEMAAAAAAAAAIwGWoybLrT/a/ujMsQTgwwDyvqxcvqzPuP+J6FC4lZPk/AAAAAAAACEDNlTDpm6UQQAAAACDcyBRAc7UFr1+BFkAAAAAAAAAYQBQ3ZscJ/RZAFHernZJMFkAAAAAg3MgUQDNqzzZAIxBAAAAAAAAACECKZDI92NoCQGOoybLrT/Y/WnKbLQPbzrxacpstA9vOvA==",
          "dtype": "f8"
         },
         "xaxis": "x4",
         "y": {
          "bdata": "AAAAAAAAGMAUN2bHCf0WwBV3q52STBbAAAAAINzIFMAzas82QCMQwAAAAAAAAAjAimQyPdjaAsDph/JQqzPuvwAAAEA5eco8sasXL6sz7j/kehQuJWT5PwAAAAAAAAhAzZUw6ZulEEAAAAAg3MgUQHO1Ba9fgRZAAAAAAAAAGEAUN2bHCf0WQBR3q52STBZAAAAAINzIFEAzas82QCMQQAAAAAAAAAhAZajJsutP9j+dTKGi3JyXvK2rFy+rM+6/4noULiVk+b8AAAAAAAAIwM2VMOmbpRDAAAAAINzIFMAAwLpJU3kVwHO1Ba9fgRbAAAAAAAAAGMAAAAAAAAAYwA==",
          "dtype": "f8"
         },
         "yaxis": "y4"
        },
        {
         "line": {
          "color": "red",
          "width": 2
         },
         "mode": "lines",
         "showlegend": false,
         "type": "scatter",
         "x": {
          "bdata": "eJgkkmfny7wgHWUfciL0v+xRuB5u7QDAAAAAAAAACMBmcus2JTISwAAAACDcyBTAAAD5rCW0FcBxSYi0t6YWwAAAAAAAABjAcUmItLemFsBxSY8nbrsVwAAAACDcyBTANBsp0m0tDcAAAAAAAAAIwLhrxNzJf+u/o+86zBYswTwfHWUfciL0P+xRuB5u7QBAAAAAAAAACEBmcus2JTISQAAAACDcyBRAmpwHNDYUF0AAAAAAAAAYQHFJiLS3phZAcUmPJ267FUAAAAAg3MgUQDMbKdJtLQ1AAAAAAAAACEC4MEP8yiMBQLVrxNzJf+s/eJgkkmfny7x4mCSSZ+fLvA==",
          "dtype": "f8"
         },
         "xaxis": "x5",
         "y": {
          "bdata": "AAAAAAAAGMBxSYi0t6YWwHFJjyduuxXAAAAAINzIFMAzGynSbS0NwAAAAAAAAAjAuDBD/MojAcBHBfc1ciL0vwAAAEA5eco8Hx1lH3Ii9D/sUbgebu0AQAAAAAAAAAhAZnLrNiUyEkAAAAAg3MgUQJqcBzQ2FBdAAAAAAAAAGEBxSYi0t6YWQHFJjyduuxVAAAAAINzIFEAzGynSbS0NQAAAAAAAAAhAuWvE3Ml/6z/SENfY0HufvB4dZR9yIvS/7FG4Hm7tAMAAAAAAAAAIwGZy6zYlMhLAAAAAINzIFMAAAPmsJbQVwJqcBzQ2FBfAAAAAAAAAGMAAAAAAAAAYwA==",
          "dtype": "f8"
         },
         "yaxis": "y5"
        },
        {
         "line": {
          "color": "red",
          "width": 2
         },
         "mode": "lines",
         "showlegend": false,
         "type": "scatter",
         "x": {
          "bdata": "lr6t9svzyLxmZD6nDiv5v2ZmZqbJKAXAAAAAAAAACMAAT6aErr4TwAAAACDcyBTAAEA3EPjuFcDNW6qhZVAWwAAAAAAAABjAzVuqoWVQFsDNG3OxSSoVwAAAACDcyBTAAGKzNlsUCsAAAAAAAAAIwEgN66d4v9S/jKtJV/UnwjxmZD6nDiv5P2ZmZqbJKAVAAAAAAAAACEAAT6aErr4TQAAAACDcyBRAwIMJuQynF0AAAAAAAAAYQM1bqqFlUBZAzRtzsUkqFUAAAAAg3MgUQABiszZbFApAAAAAAAAACEDN+ad2e9n+P0YN66d4v9Q/lr6t9svzyLyWvq32y/PIvA==",
          "dtype": "f8"
         },
         "xaxis": "x6",
         "y": {
          "bdata": "AAAAAAAAGMDNW6qhZVAWwM0bc7FJKhXAAAAAINzIFMAAYrM2WxQKwAAAAAAAAAjAzfmndnvZ/r+ZxnTDDiv5vwAAAEA5eco8ZmQ+pw4r+T9nZmamySgFQAAAAAAAAAhAAE+mhK6+E0AAAAAg3MgUQMCDCbkMpxdAAAAAAAAAGEDNW6qhZVAWQM0bc7FJKhVAAAAAINzIFEAAYrM2WxQKQAAAAAAAAAhATw3rp3i/1D+DaoaHYq2jvGVkPqcOK/m/ZmZmpskoBcAAAAAAAAAIwABPpoSuvhPAAAAAINzIFMAAQDcQ+O4VwMCDCbkMpxfAAAAAAAAAGMAAAAAAAAAYwA==",
          "dtype": "f8"
         },
         "yaxis": "y6"
        },
        {
         "line": {
          "color": "red",
          "width": 2
         },
         "mode": "lines",
         "showlegend": false,
         "type": "scatter",
         "x": {
          "bdata": "qBRZezGo1jzAMobgJdT2v/0ewYOXlPu/pvVzJQW6AcAAAACgiswDwBwmIFbDcwrAuF84nNd1C8AAAAAAAAAMwMbXZeq3FQvA6uaGo93SCMCqWqWFqSgRwNp3YwLo3hHAxJjDyIMUFMBoZrarOwoWwM2YpFDOTCLAeLPz8YbwI8DCBA5tMd4kwHtILgFIJSfAQkKA40EKKMBors9kE60lwFi3ctUbLyXANv3d4mZeJMB4s/PxhvAjwLS36LbqnCDA7ExwzhzRF8D4amiiDmIVwMKYw8iDFBTA2ndjAujeEcDq5oaj3dIIwCMiQv06ygrAxtdl6rcVC8AAAAAAAAAMwICCygwuMAvAZi6L+T8oBcAAAACgiswDwBMVwAD7of6/x0hL9F5G4b8AAAAgEirHvMQyhuAl1PY/AB/Bg5eU+z+m9XMlBboBQAAAAKCKzANAHCYgVsNzCkC4Xzic13ULQAAAAAAAAAxAxtdl6rcVC0Dq5oaj3dIIQKpapYWpKBFA2HdjAujeEUDEmMPIgxQUQGhmtqs7ChZAzJikUM5MIkB4s/PxhvAjQMIEDm0x3iRAekguAUglJ0BBQoDjQQooQGiuz2QTrSVAWrdy1RsvJUA2/d3iZl4kQHiz8/GG8CNA7ExwzhzRF0D4amiiDmIVQMKYw8iDFBRA2HdjAujeEUDq5oaj3dIIQCMiQv06ygpAxtdl6rcVC0AAAAAAAAAMQICCygwuMAtAZi6L+T8oBUAAAACgiswDQBMVwAD7of4/xEhL9F5G4T+oFFl7MajWPKgUWXsxqNY8",
          "dtype": "f8"
         },
         "xaxis": "x7",
         "y": {
          "bdata": "QkKA40EKKEBors9kE60lQFq3ctUbLyVANv3d4mZeJEB4s/PxhvAjQOxMcM4c0RdA+Gpoog5iFUDCmMPIgxQUQNh3YwLo3hFA6uaGo93SCEAjIkL9OsoKQMbXZeq3FQtAAAAAAAAADECAgsoMLjALQGYui/k/KAVAAAAAoIrMA0ATFcAA+6H+P8dIS/ReRuE/xv4f6snl4Dy/MobgJdT2v/wewYOXlPu/pvVzJQW6AcAAAACgiswDwKzWeuYJjgbAHCYgVsNzCsC4Xzic13ULwAAAAAAAAAzAxtdl6rcVC8Dq5oaj3dIIwKpapYWpKBHA2ndjAujeEcDEmMPIgxQUwGhmtqs7ChbAzZikUM5MIsB4s/PxhvAjwMIEDm0x3iTAe0guAUglJ8BBQoDjQQoowGiuz2QTrSXAWLdy1RsvJcA2/d3iZl4kwHiz8/GG8CPA7ExwzhzRF8D5amiiDmIVwMKYw8iDFBTA2HdjAujeEcDq5oaj3dIIwCMiQv06ygrAxtdl6rcVC8AAAAAAAAAMwICCygwuMAvAZi6L+T8oBcAAAACgiswDwBMVwAD7of6/wEhL9F5G4b/70s0N2cvCvMMyhuAl1PY//h7Bg5eU+z+m9XMlBboBQAAAAKCKzANAHCYgVsNzCkC4Xzic13ULQAAAAAAAAAxAxtdl6rcVC0Dq5oaj3dIIQKpapYWpKBFA2HdjAujeEUDEmMPIgxQUQGhmtqs7ChZAzJikUM5MIkB4s/PxhvAjQMIEDm0x3iRAekguAUglJ0BCQoDjQQooQEJCgONBCihA",
          "dtype": "f8"
         },
         "yaxis": "y7"
        },
        {
         "line": {
          "color": "red",
          "width": 2
         },
         "mode": "lines",
         "showlegend": false,
         "type": "scatter",
         "x": {
          "bdata": "GyJ6Cjos7DzvIea9crzVvxatcGCsQtq/T6Wa4nMxA8AAAACgiswDwCBDg/dyvgXAGKuV5OQJBsAAAAAAAAAMwIsxRQYtowvA23lIURPpCMAatZqiDE4EwAAAAKCKzAPAcVF6xBSgAsBVQw4757L0vxKBIYYw7rS/SueZirB12TwEdmGoMO60P27uZ5Fs/PI/+XFKv7V99T8AAACgiswDQBq1mqIMTgRAsDbYavEbB0CLMUUGLaMLQAAAAAAAAAxAsFbJ/KitC0BfhWuF8UkJQAAAAKCKzANAGBf+FxN9AkC8njg3FYz+Pxsiego6LOw8GyJ6Cjos7Dw=",
          "dtype": "f8"
         },
         "xaxis": "x8",
         "y": {
          "bdata": "qHHM2FtKO0A65v3gVAI7QCaupdpW8zpA6MrSq41NOUAsKo1Pfj05QM4lk8D6EDhAa91Q0nHjN0Beb2CyW0o0QHj2NGdVEjRAZQqpLf5sMkBwKz6XxkovQGlMjExyri5AqRda7TdwLkD0kNZwb7ksQGsfYtBktypAVJc497aUKkCEnx3QZLcqQHNbzXgHjCxAEzHt6m/OLEBrTIxMcq4uQHArPpfGSi9AfEWLxKxWMUB49jRnVRI0QF5vYLJbSjRAgMiv6A18NEAWloQZQu01QC0qjU9+PTlAscQ2cDtgOUCD/svIdbU5QKhxzNhbSjtAqHHM2FtKO0A=",
          "dtype": "f8"
         },
         "yaxis": "y8"
        },
        {
         "line": {
          "color": "red",
          "width": 2
         },
         "mode": "lines",
         "showlegend": false,
         "type": "scatter",
         "x": {
          "bdata": "kI/qkg8hcbyPdWGoMO60v2buZ5Fs/PK/8nFKv7V99b8AAACgiswDwBq1mqIMTgTAsDbYavEbB8CLMUUGLaMLwAAAAAAAAAzAsFbJ/KitC8BfhWuF8UkJwAAAAKCKzAPAGBf+FxN9AsC9njg3FYz+vwAAACASKse8HCLmvXK81T9IrXBgrELaP0+lmuJzMQNAAAAAoIrMA0AgQ4P3cr4FQBirleTkCQZAAAAAAAAADECLMUUGLaMLQNt5SFET6QhAGrWaogxOBEAAAACgiswDQHFResQUoAJAVEMOO+ey9D+HgSGGMO60P5CP6pIPIXG8kI/qkg8hcbw=",
          "dtype": "f8"
         },
         "xaxis": "x8",
         "y": {
          "bdata": "VJc497aUKsCEnx3QZLcqwHNbzXgHjCzAEzHt6m/OLMBpTIxMcq4uwHArPpfGSi/AfEWLxKxWMcB49jRnVRI0wF5vYLJbSjTAgMiv6A18NMAWloQZQu01wC0qjU9+PTnAscQ2cDtgOcCE/svIdbU5wKhxzNhbSjvAOub94FQCO8AlrqXaVvM6wOnK0quNTTnALCqNT349OcDOJZPA+hA4wGrdUNJx4zfAXm9gsltKNMB49jRnVRI0wGYKqS3+bDLAbys+l8ZKL8BpTIxMcq4uwKkXWu03cC7A9JDWcG+5LMBrH2LQZLcqwFSXOPe2lCrAVJc497aUKsA=",
          "dtype": "f8"
         },
         "yaxis": "y8"
        },
        {
         "line": {
          "color": "red",
          "width": 2
         },
         "mode": "lines",
         "showlegend": false,
         "type": "scatter",
         "x": {
          "bdata": "qRda7TdwLsBrTIxMcq4uwEJAeqiPHzLAZQqpLf5sMsB49jRnVRI0wF5vYLJbSjTAa91Q0nHjN8DOJZPA+hA4wBd9Wj4EwTjALCqNT349OcDpytKrjU05wCWupdpW8zrAOub94FQCO8CocczYW0o7wIT+y8h1tTnAscQ2cDtgOcAsKo1Pfj05wBaWhBlC7TXAgMiv6A18NMBeb2CyW0o0wHj2NGdVEjTAfEWLxKxWMcBwKz6XxkovwGlMjExyri7AEzHt6m/OLMBzW814B4wswISfHdBktyrAVJc497aUKsBrH2LQZLcqwPSQ1nBvuSzAqRda7TdwLsCpF1rtN3AuwA==",
          "dtype": "f8"
         },
         "xaxis": "x8",
         "y": {
          "bdata": "cVF6xBSgAsAAAACgiswDwLg9HzHIaAjA23lIURPpCMCLMUUGLaMLwAAAAAAAAAzAGKuV5OQJBsAgQ4P3cr4FwJOMBBDImgTAAAAAoIrMA8BPpZriczEDwPiscGCsQtq/1CHmvXK81b9OIDUZaHz1PLyeODcVjP4/GBf+FxN9AkAAAACgiswDQF+Fa4XxSQlAsFbJ/KitC0AAAAAAAAAMQIsxRQYtowtAsDbYavEbB0AatZqiDE4EQAAAAKCKzANA/nFKv7V99T907meRbPzyP1t2Yagw7rQ/tC++NAvI6zy7gCGGMO60v1RDDjvnsvS/cVF6xBSgAsBxUXrEFKACwA==",
          "dtype": "f8"
         },
         "yaxis": "y8"
        },
        {
         "line": {
          "color": "red",
          "width": 2
         },
         "mode": "lines",
         "showlegend": false,
         "type": "scatter",
         "x": {
          "bdata": "hJ8d0GS3KkBzW814B4wsQBIx7epvzixAa0yMTHKuLkBwKz6XxkovQHxFi8SsVjFAePY0Z1USNEBeb2CyW0o0QIDIr+gNfDRAFpaEGULtNUAtKo1Pfj05QLHENnA7YDlAg/7LyHW1OUCocczYW0o7QDrm/eBUAjtAJq6l2lbzOkDoytKrjU05QCwqjU9+PTlAziWTwPoQOEBr3VDSceM3QF5vYLJbSjRAePY0Z1USNEBlCqkt/mwyQEJAeqiPHzJAaUyMTHKuLkCpF1rtN3AuQPSQ1nBvuSxAbR9i0GS3KkBUlzj3tpQqQISfHdBktypAhJ8d0GS3KkA=",
          "dtype": "f8"
         },
         "xaxis": "x8",
         "y": {
          "bdata": "ynVhqDDutL9r7meRbPzyv/ZxSr+1ffW/AAAAoIrMA8AatZqiDE4EwLA22GrxGwfAizFFBi2jC8AAAAAAAAAMwLBWyfyorQvAX4VrhfFJCcAAAACgiswDwBgX/hcTfQLAvJ44NxWM/r/kdazMDT7avAwi5r1yvNU/Ma1wYKxC2j9PpZriczEDQAAAAKCKzANAIEOD93K+BUAYq5Xk5AkGQAAAAAAAAAxAizFFBi2jC0DbeUhRE+kIQLg9HzHIaAhAAAAAoIrMA0BxUXrEFKACQFVDDjvnsvQ/S4EhhjDutD/IDT3OPa+6vMp1Yagw7rS/ynVhqDDutL8=",
          "dtype": "f8"
         },
         "yaxis": "y8"
        }
       ],
       "layout": {
        "annotations": [
         {
          "font": {
           "size": 16
          },
          "showarrow": false,
          "text": "Z = 0.00",
          "x": 0.14444444444444446,
          "xanchor": "center",
          "xref": "paper",
          "y": 1,
          "yanchor": "bottom",
          "yref": "paper"
         },
         {
          "font": {
           "size": 16
          },
          "showarrow": false,
          "text": "Z = 8.82",
          "x": 0.5,
          "xanchor": "center",
          "xref": "paper",
          "y": 1,
          "yanchor": "bottom",
          "yref": "paper"
         },
         {
          "font": {
           "size": 16
          },
          "showarrow": false,
          "text": "Z = 17.63",
          "x": 0.8555555555555556,
          "xanchor": "center",
          "xref": "paper",
          "y": 1,
          "yanchor": "bottom",
          "yref": "paper"
         },
         {
          "font": {
           "size": 16
          },
          "showarrow": false,
          "text": "Z = 26.45",
          "x": 0.14444444444444446,
          "xanchor": "center",
          "xref": "paper",
          "y": 0.6111111111111112,
          "yanchor": "bottom",
          "yref": "paper"
         },
         {
          "font": {
           "size": 16
          },
          "showarrow": false,
          "text": "Z = 35.27",
          "x": 0.5,
          "xanchor": "center",
          "xref": "paper",
          "y": 0.6111111111111112,
          "yanchor": "bottom",
          "yref": "paper"
         },
         {
          "font": {
           "size": 16
          },
          "showarrow": false,
          "text": "Z = 44.08",
          "x": 0.8555555555555556,
          "xanchor": "center",
          "xref": "paper",
          "y": 0.6111111111111112,
          "yanchor": "bottom",
          "yref": "paper"
         },
         {
          "font": {
           "size": 16
          },
          "showarrow": false,
          "text": "Z = 52.90",
          "x": 0.14444444444444446,
          "xanchor": "center",
          "xref": "paper",
          "y": 0.22222222222222224,
          "yanchor": "bottom",
          "yref": "paper"
         },
         {
          "font": {
           "size": 16
          },
          "showarrow": false,
          "text": "Z = 61.71",
          "x": 0.5,
          "xanchor": "center",
          "xref": "paper",
          "y": 0.22222222222222224,
          "yanchor": "bottom",
          "yref": "paper"
         },
         {
          "font": {
           "size": 16
          },
          "showarrow": false,
          "text": "Z = 70.53",
          "x": 0.8555555555555556,
          "xanchor": "center",
          "xref": "paper",
          "y": 0.22222222222222224,
          "yanchor": "bottom",
          "yref": "paper"
         }
        ],
        "height": 450,
        "showlegend": false,
        "template": {
         "data": {
          "bar": [
           {
            "error_x": {
             "color": "#2a3f5f"
            },
            "error_y": {
             "color": "#2a3f5f"
            },
            "marker": {
             "line": {
              "color": "#E5ECF6",
              "width": 0.5
             },
             "pattern": {
              "fillmode": "overlay",
              "size": 10,
              "solidity": 0.2
             }
            },
            "type": "bar"
           }
          ],
          "barpolar": [
           {
            "marker": {
             "line": {
              "color": "#E5ECF6",
              "width": 0.5
             },
             "pattern": {
              "fillmode": "overlay",
              "size": 10,
              "solidity": 0.2
             }
            },
            "type": "barpolar"
           }
          ],
          "carpet": [
           {
            "aaxis": {
             "endlinecolor": "#2a3f5f",
             "gridcolor": "white",
             "linecolor": "white",
             "minorgridcolor": "white",
             "startlinecolor": "#2a3f5f"
            },
            "baxis": {
             "endlinecolor": "#2a3f5f",
             "gridcolor": "white",
             "linecolor": "white",
             "minorgridcolor": "white",
             "startlinecolor": "#2a3f5f"
            },
            "type": "carpet"
           }
          ],
          "choropleth": [
           {
            "colorbar": {
             "outlinewidth": 0,
             "ticks": ""
            },
            "type": "choropleth"
           }
          ],
          "contour": [
           {
            "colorbar": {
             "outlinewidth": 0,
             "ticks": ""
            },
            "colorscale": [
             [
              0,
              "#0d0887"
             ],
             [
              0.1111111111111111,
              "#46039f"
             ],
             [
              0.2222222222222222,
              "#7201a8"
             ],
             [
              0.3333333333333333,
              "#9c179e"
             ],
             [
              0.4444444444444444,
              "#bd3786"
             ],
             [
              0.5555555555555556,
              "#d8576b"
             ],
             [
              0.6666666666666666,
              "#ed7953"
             ],
             [
              0.7777777777777778,
              "#fb9f3a"
             ],
             [
              0.8888888888888888,
              "#fdca26"
             ],
             [
              1,
              "#f0f921"
             ]
            ],
            "type": "contour"
           }
          ],
          "contourcarpet": [
           {
            "colorbar": {
             "outlinewidth": 0,
             "ticks": ""
            },
            "type": "contourcarpet"
           }
          ],
          "heatmap": [
           {
            "colorbar": {
             "outlinewidth": 0,
             "ticks": ""
            },
            "colorscale": [
             [
              0,
              "#0d0887"
             ],
             [
              0.1111111111111111,
              "#46039f"
             ],
             [
              0.2222222222222222,
              "#7201a8"
             ],
             [
              0.3333333333333333,
              "#9c179e"
             ],
             [
              0.4444444444444444,
              "#bd3786"
             ],
             [
              0.5555555555555556,
              "#d8576b"
             ],
             [
              0.6666666666666666,
              "#ed7953"
             ],
             [
              0.7777777777777778,
              "#fb9f3a"
             ],
             [
              0.8888888888888888,
              "#fdca26"
             ],
             [
              1,
              "#f0f921"
             ]
            ],
            "type": "heatmap"
           }
          ],
          "histogram": [
           {
            "marker": {
             "pattern": {
              "fillmode": "overlay",
              "size": 10,
              "solidity": 0.2
             }
            },
            "type": "histogram"
           }
          ],
          "histogram2d": [
           {
            "colorbar": {
             "outlinewidth": 0,
             "ticks": ""
            },
            "colorscale": [
             [
              0,
              "#0d0887"
             ],
             [
              0.1111111111111111,
              "#46039f"
             ],
             [
              0.2222222222222222,
              "#7201a8"
             ],
             [
              0.3333333333333333,
              "#9c179e"
             ],
             [
              0.4444444444444444,
              "#bd3786"
             ],
             [
              0.5555555555555556,
              "#d8576b"
             ],
             [
              0.6666666666666666,
              "#ed7953"
             ],
             [
              0.7777777777777778,
              "#fb9f3a"
             ],
             [
              0.8888888888888888,
              "#fdca26"
             ],
             [
              1,
              "#f0f921"
             ]
            ],
            "type": "histogram2d"
           }
          ],
          "histogram2dcontour": [
           {
            "colorbar": {
             "outlinewidth": 0,
             "ticks": ""
            },
            "colorscale": [
             [
              0,
              "#0d0887"
             ],
             [
              0.1111111111111111,
              "#46039f"
             ],
             [
              0.2222222222222222,
              "#7201a8"
             ],
             [
              0.3333333333333333,
              "#9c179e"
             ],
             [
              0.4444444444444444,
              "#bd3786"
             ],
             [
              0.5555555555555556,
              "#d8576b"
             ],
             [
              0.6666666666666666,
              "#ed7953"
             ],
             [
              0.7777777777777778,
              "#fb9f3a"
             ],
             [
              0.8888888888888888,
              "#fdca26"
             ],
             [
              1,
              "#f0f921"
             ]
            ],
            "type": "histogram2dcontour"
           }
          ],
          "mesh3d": [
           {
            "colorbar": {
             "outlinewidth": 0,
             "ticks": ""
            },
            "type": "mesh3d"
           }
          ],
          "parcoords": [
           {
            "line": {
             "colorbar": {
              "outlinewidth": 0,
              "ticks": ""
             }
            },
            "type": "parcoords"
           }
          ],
          "pie": [
           {
            "automargin": true,
            "type": "pie"
           }
          ],
          "scatter": [
           {
            "fillpattern": {
             "fillmode": "overlay",
             "size": 10,
             "solidity": 0.2
            },
            "type": "scatter"
           }
          ],
          "scatter3d": [
           {
            "line": {
             "colorbar": {
              "outlinewidth": 0,
              "ticks": ""
             }
            },
            "marker": {
             "colorbar": {
              "outlinewidth": 0,
              "ticks": ""
             }
            },
            "type": "scatter3d"
           }
          ],
          "scattercarpet": [
           {
            "marker": {
             "colorbar": {
              "outlinewidth": 0,
              "ticks": ""
             }
            },
            "type": "scattercarpet"
           }
          ],
          "scattergeo": [
           {
            "marker": {
             "colorbar": {
              "outlinewidth": 0,
              "ticks": ""
             }
            },
            "type": "scattergeo"
           }
          ],
          "scattergl": [
           {
            "marker": {
             "colorbar": {
              "outlinewidth": 0,
              "ticks": ""
             }
            },
            "type": "scattergl"
           }
          ],
          "scattermap": [
           {
            "marker": {
             "colorbar": {
              "outlinewidth": 0,
              "ticks": ""
             }
            },
            "type": "scattermap"
           }
          ],
          "scattermapbox": [
           {
            "marker": {
             "colorbar": {
              "outlinewidth": 0,
              "ticks": ""
             }
            },
            "type": "scattermapbox"
           }
          ],
          "scatterpolar": [
           {
            "marker": {
             "colorbar": {
              "outlinewidth": 0,
              "ticks": ""
             }
            },
            "type": "scatterpolar"
           }
          ],
          "scatterpolargl": [
           {
            "marker": {
             "colorbar": {
              "outlinewidth": 0,
              "ticks": ""
             }
            },
            "type": "scatterpolargl"
           }
          ],
          "scatterternary": [
           {
            "marker": {
             "colorbar": {
              "outlinewidth": 0,
              "ticks": ""
             }
            },
            "type": "scatterternary"
           }
          ],
          "surface": [
           {
            "colorbar": {
             "outlinewidth": 0,
             "ticks": ""
            },
            "colorscale": [
             [
              0,
              "#0d0887"
             ],
             [
              0.1111111111111111,
              "#46039f"
             ],
             [
              0.2222222222222222,
              "#7201a8"
             ],
             [
              0.3333333333333333,
              "#9c179e"
             ],
             [
              0.4444444444444444,
              "#bd3786"
             ],
             [
              0.5555555555555556,
              "#d8576b"
             ],
             [
              0.6666666666666666,
              "#ed7953"
             ],
             [
              0.7777777777777778,
              "#fb9f3a"
             ],
             [
              0.8888888888888888,
              "#fdca26"
             ],
             [
              1,
              "#f0f921"
             ]
            ],
            "type": "surface"
           }
          ],
          "table": [
           {
            "cells": {
             "fill": {
              "color": "#EBF0F8"
             },
             "line": {
              "color": "white"
             }
            },
            "header": {
             "fill": {
              "color": "#C8D4E3"
             },
             "line": {
              "color": "white"
             }
            },
            "type": "table"
           }
          ]
         },
         "layout": {
          "annotationdefaults": {
           "arrowcolor": "#2a3f5f",
           "arrowhead": 0,
           "arrowwidth": 1
          },
          "autotypenumbers": "strict",
          "coloraxis": {
           "colorbar": {
            "outlinewidth": 0,
            "ticks": ""
           }
          },
          "colorscale": {
           "diverging": [
            [
             0,
             "#8e0152"
            ],
            [
             0.1,
             "#c51b7d"
            ],
            [
             0.2,
             "#de77ae"
            ],
            [
             0.3,
             "#f1b6da"
            ],
            [
             0.4,
             "#fde0ef"
            ],
            [
             0.5,
             "#f7f7f7"
            ],
            [
             0.6,
             "#e6f5d0"
            ],
            [
             0.7,
             "#b8e186"
            ],
            [
             0.8,
             "#7fbc41"
            ],
            [
             0.9,
             "#4d9221"
            ],
            [
             1,
             "#276419"
            ]
           ],
           "sequential": [
            [
             0,
             "#0d0887"
            ],
            [
             0.1111111111111111,
             "#46039f"
            ],
            [
             0.2222222222222222,
             "#7201a8"
            ],
            [
             0.3333333333333333,
             "#9c179e"
            ],
            [
             0.4444444444444444,
             "#bd3786"
            ],
            [
             0.5555555555555556,
             "#d8576b"
            ],
            [
             0.6666666666666666,
             "#ed7953"
            ],
            [
             0.7777777777777778,
             "#fb9f3a"
            ],
            [
             0.8888888888888888,
             "#fdca26"
            ],
            [
             1,
             "#f0f921"
            ]
           ],
           "sequentialminus": [
            [
             0,
             "#0d0887"
            ],
            [
             0.1111111111111111,
             "#46039f"
            ],
            [
             0.2222222222222222,
             "#7201a8"
            ],
            [
             0.3333333333333333,
             "#9c179e"
            ],
            [
             0.4444444444444444,
             "#bd3786"
            ],
            [
             0.5555555555555556,
             "#d8576b"
            ],
            [
             0.6666666666666666,
             "#ed7953"
            ],
            [
             0.7777777777777778,
             "#fb9f3a"
            ],
            [
             0.8888888888888888,
             "#fdca26"
            ],
            [
             1,
             "#f0f921"
            ]
           ]
          },
          "colorway": [
           "#636efa",
           "#EF553B",
           "#00cc96",
           "#ab63fa",
           "#FFA15A",
           "#19d3f3",
           "#FF6692",
           "#B6E880",
           "#FF97FF",
           "#FECB52"
          ],
          "font": {
           "color": "#2a3f5f"
          },
          "geo": {
           "bgcolor": "white",
           "lakecolor": "white",
           "landcolor": "#E5ECF6",
           "showlakes": true,
           "showland": true,
           "subunitcolor": "white"
          },
          "hoverlabel": {
           "align": "left"
          },
          "hovermode": "closest",
          "mapbox": {
           "style": "light"
          },
          "paper_bgcolor": "white",
          "plot_bgcolor": "#E5ECF6",
          "polar": {
           "angularaxis": {
            "gridcolor": "white",
            "linecolor": "white",
            "ticks": ""
           },
           "bgcolor": "#E5ECF6",
           "radialaxis": {
            "gridcolor": "white",
            "linecolor": "white",
            "ticks": ""
           }
          },
          "scene": {
           "xaxis": {
            "backgroundcolor": "#E5ECF6",
            "gridcolor": "white",
            "gridwidth": 2,
            "linecolor": "white",
            "showbackground": true,
            "ticks": "",
            "zerolinecolor": "white"
           },
           "yaxis": {
            "backgroundcolor": "#E5ECF6",
            "gridcolor": "white",
            "gridwidth": 2,
            "linecolor": "white",
            "showbackground": true,
            "ticks": "",
            "zerolinecolor": "white"
           },
           "zaxis": {
            "backgroundcolor": "#E5ECF6",
            "gridcolor": "white",
            "gridwidth": 2,
            "linecolor": "white",
            "showbackground": true,
            "ticks": "",
            "zerolinecolor": "white"
           }
          },
          "shapedefaults": {
           "line": {
            "color": "#2a3f5f"
           }
          },
          "ternary": {
           "aaxis": {
            "gridcolor": "white",
            "linecolor": "white",
            "ticks": ""
           },
           "baxis": {
            "gridcolor": "white",
            "linecolor": "white",
            "ticks": ""
           },
           "bgcolor": "#E5ECF6",
           "caxis": {
            "gridcolor": "white",
            "linecolor": "white",
            "ticks": ""
           }
          },
          "title": {
           "x": 0.05
          },
          "xaxis": {
           "automargin": true,
           "gridcolor": "white",
           "linecolor": "white",
           "ticks": "",
           "title": {
            "standoff": 15
           },
           "zerolinecolor": "white",
           "zerolinewidth": 2
          },
          "yaxis": {
           "automargin": true,
           "gridcolor": "white",
           "linecolor": "white",
           "ticks": "",
           "title": {
            "standoff": 15
           },
           "zerolinecolor": "white",
           "zerolinewidth": 2
          }
         }
        },
        "title": {
         "text": "Multi-Branch Cross-Section Grid"
        },
        "xaxis": {
         "anchor": "y",
         "domain": [
          0,
          0.2888888888888889
         ],
         "scaleanchor": "y",
         "scaleratio": 1,
         "title": {
          "text": "X (µm)"
         }
        },
        "xaxis2": {
         "anchor": "y2",
         "domain": [
          0.35555555555555557,
          0.6444444444444445
         ],
         "scaleanchor": "y",
         "scaleratio": 1,
         "title": {
          "text": "X (µm)"
         }
        },
        "xaxis3": {
         "anchor": "y3",
         "domain": [
          0.7111111111111111,
          1
         ],
         "scaleanchor": "y",
         "scaleratio": 1,
         "title": {
          "text": "X (µm)"
         }
        },
        "xaxis4": {
         "anchor": "y4",
         "domain": [
          0,
          0.2888888888888889
         ],
         "scaleanchor": "y",
         "scaleratio": 1,
         "title": {
          "text": "X (µm)"
         }
        },
        "xaxis5": {
         "anchor": "y5",
         "domain": [
          0.35555555555555557,
          0.6444444444444445
         ],
         "scaleanchor": "y",
         "scaleratio": 1,
         "title": {
          "text": "X (µm)"
         }
        },
        "xaxis6": {
         "anchor": "y6",
         "domain": [
          0.7111111111111111,
          1
         ],
         "scaleanchor": "y",
         "scaleratio": 1,
         "title": {
          "text": "X (µm)"
         }
        },
        "xaxis7": {
         "anchor": "y7",
         "domain": [
          0,
          0.2888888888888889
         ],
         "scaleanchor": "y",
         "scaleratio": 1,
         "title": {
          "text": "X (µm)"
         }
        },
        "xaxis8": {
         "anchor": "y8",
         "domain": [
          0.35555555555555557,
          0.6444444444444445
         ],
         "scaleanchor": "y",
         "scaleratio": 1,
         "title": {
          "text": "X (µm)"
         }
        },
        "xaxis9": {
         "anchor": "y9",
         "domain": [
          0.7111111111111111,
          1
         ],
         "scaleanchor": "y",
         "scaleratio": 1,
         "title": {
          "text": "X (µm)"
         }
        },
        "yaxis": {
         "anchor": "x",
         "domain": [
          0.7777777777777778,
          1
         ],
         "title": {
          "text": "Y (µm)"
         }
        },
        "yaxis2": {
         "anchor": "x2",
         "domain": [
          0.7777777777777778,
          1
         ],
         "title": {
          "text": "Y (µm)"
         }
        },
        "yaxis3": {
         "anchor": "x3",
         "domain": [
          0.7777777777777778,
          1
         ],
         "title": {
          "text": "Y (µm)"
         }
        },
        "yaxis4": {
         "anchor": "x4",
         "domain": [
          0.3888888888888889,
          0.6111111111111112
         ],
         "title": {
          "text": "Y (µm)"
         }
        },
        "yaxis5": {
         "anchor": "x5",
         "domain": [
          0.3888888888888889,
          0.6111111111111112
         ],
         "title": {
          "text": "Y (µm)"
         }
        },
        "yaxis6": {
         "anchor": "x6",
         "domain": [
          0.3888888888888889,
          0.6111111111111112
         ],
         "title": {
          "text": "Y (µm)"
         }
        },
        "yaxis7": {
         "anchor": "x7",
         "domain": [
          0,
          0.22222222222222224
         ],
         "title": {
          "text": "Y (µm)"
         }
        },
        "yaxis8": {
         "anchor": "x8",
         "domain": [
          0,
          0.22222222222222224
         ],
         "title": {
          "text": "Y (µm)"
         }
        },
        "yaxis9": {
         "anchor": "x9",
         "domain": [
          0,
          0.22222222222222224
         ],
         "title": {
          "text": "Y (µm)"
         }
        }
       }
      }
     },
     "metadata": {},
     "output_type": "display_data"
    }
   ],
   "source": [
    "# Grid view of slices through the multi-branch structure\n",
    "fig_grid = visualize_mesh_slice_grid(\n",
    "    multi_branch,\n",
    "    title=\"Multi-Branch Cross-Section Grid\",\n",
    "    num_slices=9  # 3x3 grid\n",
    ")\n",
    "fig_grid.show()"
   ]
  },
  {
   "cell_type": "code",
   "execution_count": 16,
   "id": "627eda43",
   "metadata": {},
   "outputs": [
    {
     "data": {
      "application/vnd.plotly.v1+json": {
       "config": {
        "plotlyServerURL": "https://plot.ly"
       },
       "data": [
        {
         "color": "purple",
         "i": {
          "bdata": "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",
          "dtype": "i2"
         },
         "j": {
          "bdata": "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",
          "dtype": "i2"
         },
         "k": {
          "bdata": "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",
          "dtype": "i2"
         },
         "name": "Mesh",
         "opacity": 0.3,
         "type": "mesh3d",
         "x": {
          "bdata": "AAAAAAAAOUB8pn64Z+c4QBPmX9iQnjhAQklq9kcoOEBY4QPAGIk3QF9AA0EhxzZAPKUFtdXpNUB8IFwyt/k0QAAAAAAAADRAhN+jzUgGM0DEWvpKKhYyQKG//L7eODFAqB78P+d2MEB9bSsTcK8vQNozQE/ewi5ACbMCjzAxLkAAAAAAAAAuQAmzAo8wMS5A2jNAT97CLkB8bSsTcK8vQKge/D/ndjBAob/8vt44MUDEWvpKKhYyQIPfo81IBjNAAAAAAAAANEB8IFwyt/k0QDylBbXV6TVAX0ADQSHHNkBY4QPAGIk3QEJJavZHKDhAEuZf2JCeOEB7pn64Z+c4QGpAeZoGhThA+IwqTudsOEDNEW+5diU4QKR9LK5zsTdAvl6xfVMVN0A4XX8cFlc2QFxKqhsLfjVAi2x9vImSNEDumfrhnp0zQFHHdwe0qDJAgOlKqDK9MUCk1nWnJ+QwQB7VQ0bqJTBAcWyRK5QTL0AfRAwVjisuQMlNleusnC1A5eb3Um5sLUDJTZXrrJwtQB9EDBWOKy5AcGyRK5QTL0Ae1UNG6iUwQKTWdacn5DBAgOlKqDK9MUBQx3cHtKgyQO6Z+uGenTNAi2x9vImSNEBcSqobC341QDhdfxwWVzZAvl6xfVMVN0CkfSyuc7E3QMwRb7l2JThA94wqTudsOEBfft851Bg3QCsQ9DgbAjdA+IiBwc++NkC6i0Deh1E2QPNdMqh2vjVAKs3i9UILNUD4iIHBzz40QD0o02j4YDNATJh/YUN6MkBbCCxajpMxQKCnfQG3tTBA2sY4mofSL0BJpZk1IGwuQL1Jfcn9RS1AQE/7Am5rLEDbQBYU1+QrQHJkPxJltytA20AWFNfkK0BAT/sCbmssQLxJfcn9RS1ASaWZNSBsLkDaxjiah9IvQKCnfQG3tTBAWggsWo6TMUBMmH9hQ3oyQD0o02j4YDNA+IiBwc8+NEAqzeL1Qgs1QPNdMqh2vjVAuotA3odRNkD3iIHBz742QCoQ9DgbAjdAR24T0GfJNEC8CNul9LQ0QHMYalZkeDRApPcrtAoWNECCiBZPr5EzQA8Y2UVo8DJAaTmwO2g4MkAUQyhfwXAxQAYlqdkfoTBA8A1UqPyiL0BGIUTvrhMuQPlj8tquoyxAFIN3yCBhK0DQpEz+aVgqQDFj0Lm2kylAoYLuGpYaKUCJt33Gr/EoQKGC7hqWGilAMWPQubaTKUDPpEz+aVgqQBSDd8ggYStA+WPy2q6jLEBGIUTvrhMuQO8NVKj8oi9ABiWp2R+hMEAUQyhfwXAxQGk5sDtoODJADxjZRWjwMkCCiBZPr5EzQKT3K7QKFjRAchhqVmR4NEC7CNul9LQ0QLhmE8B7rTFAMUrGmxecMUAIS8JGlmgxQN3ofHXyFDFAYIUPAGOkMEBfyCBDOxswQJhLeSOB/S5AohOGteypLUDACh8AxkgsQN8BuEqf5ypA6cnE3AqUKUDChPx5FVsoQMAKHwDGSCdAyENEFadnJkBxf7lyX8AlQB+BschcWSVAEEgXgJQ2JUAfgbHIXFklQHF/uXJfwCVAx0NEFadnJkDACh8AxkgnQMKE/HkVWyhA6cnE3AqUKUDdAbhKn+cqQMAKHwDGSCxAohOGteypLUCYS3kjgf0uQF/IIEM7GzBAYIUPAGOkMEDd6Hx18hQxQAdLwkaWaDFAMErGmxecMUC6gyCKTMcrQJCJI334qytAuWzgMAlbK0AP6XngmtcqQPuIPI66JipAv10UUzRPKUAYaZV/UFkoQLYHdiCCTidA+wIaCAo5JkBB/r3vkSMlQN+cnpDDGCRAN6gfvd8iI0D8fPeBWUsiQOgcui95miFAPZlT3woXIUBnfBCTG8YgQDyCE4bHqiBAZ3wQkxvGIEA9mVPfChchQOgcui95miFA/Hz3gVlLIkA3qB+93yIjQN+cnpDDGCRAQP6975EjJUD7AhoICjkmQLYHdiCCTidAGGmVf1BZKEC/XRRTNE8pQPuIPI66JipAD+l54JrXKkC4bOAwCVsrQI+JI334qytAVnQ4ElkiI0C7iowbhg8jQDcLMWjG1yJApFI7bD59IkC2aofLaAMiQPuPqB/0biFAh0gp6JTFIEAYh0FqzQ0gQL1TWlBbnR5ASZkxzBsfHUBsFmLQjK8bQIWHY2HOXBpADtKlCeUzGUAzAj7IOUAYQA2RUtApixdABZKbaaobF0DOvkN8BPYWQAWSm2mqGxdADZFS0CmLF0AyAj7IOUAYQA7SpQnlMxlAhYdjYc5cGkBsFmLQjK8bQEiZMcwbHx1AvVNaUFudHkAYh0FqzQ0gQIdIKeiUxSBA+4+oH/RuIUC2aofLaAMiQKRSO2w+fSJANgsxaMbXIkC6iowbhg8jQLqJMu9PghNAQFLNjx5vE0CORxBDRzYTQAGAvjv52RJAjRmQkMBdEkA+EXpWY8YRQD3C6qmyGRFAojsCdVFeEECQD4RL5jYPQN2nA60psQ1Ap5oyQ2c6DECk/BPqBeEKQAfs53VLsglAHx+LH9q5CEAEkOcQPgEIQKF6bXePjwdArAujuCxpB0Chem13j48HQASQ5xA+AQhAHh+LH9q5CEAH7Od1S7IJQKT8E+oF4QpAp5oyQ2c6DEDbpwOtKbENQJAPhEvmNg9AojsCdVFeEEA9wuqpshkRQD4RelZjxhFAjRmQkMBdEkABgL47+dkSQI1HEENHNhNAQFLNjx5vE0DLz8+vm5PbPCtUOH16eNs8zIrbyyEo2zx4iDcNqKXaPFoBit0Q9tk8dKa8rxsg2TyW49xqASzYPKoeNoYjI9c8CXPZv68P1jxnx3z5O/zUPHwC1hRe89M8nT/2z0P/0jy35CiiTinSPJpde3K3edE8RVvXsz330DznkXoC5abQPEcW48/Di9A855F6AuWm0DxFW9ezPffQPJlde3K3edE8t+Qook4p0jydP/bPQ//SPHwC1hRe89M8Zsd8+Tv81DwJc9m/rw/WPKoeNoYjI9c8luPcagEs2Dx0pryvGyDZPFoBit0Q9tk8eIg3Dail2jzLitvLISjbPCpUOH16eNs8toky70+CE8A8Us2PHm8TwIpHEENHNhPA/n++O/nZEsCJGZCQwF0SwDsRelZjxhHAOcLqqbIZEcCfOwJ1UV4QwIoPhEvmNg/A16cDrSmxDcCimjJDZzoMwJ/8E+oF4QrAAuzndUuyCcAaH4sf2rkIwP+P5xA+AQjAnHptd4+PB8CoC6O4LGkHwJx6bXePjwfA/4/nED4BCMAZH4sf2rkIwALs53VLsgnAn/wT6gXhCsCimjJDZzoMwNWnA60psQ3Aig+ES+Y2D8CfOwJ1UV4QwDnC6qmyGRHAOxF6VmPGEcCJGZCQwF0SwP5/vjv52RLAikcQQ0c2E8A8Us2PHm8TwFV0OBJZIiPAuYqMG4YPI8A1CzFoxtciwKNSO2w+fSLAtGqHy2gDIsD5j6gf9G4hwIVIKeiUxSDAF4dBas0NIMC6U1pQW50ewEeZMcwbHx3AahZi0IyvG8CDh2NhzlwawAzSpQnlMxnAMQI+yDlAGMALkVLQKYsXwAOSm2mqGxfAzL5DfAT2FsADkptpqhsXwAuRUtApixfAMAI+yDlAGMAM0qUJ5TMZwIOHY2HOXBrAahZi0IyvG8BGmTHMGx8dwLpTWlBbnR7AF4dBas0NIMCFSCnolMUgwPmPqB/0biHAtGqHy2gDIsCjUjtsPn0iwDQLMWjG1yLAuIqMG4YPI8C1gyCKTMcrwIuJI334qyvAtWzgMAlbK8AK6XngmtcqwPaIPI66JirAu10UUzRPKcAUaZV/UFkowLIHdiCCTifA+AIaCAo5JsA9/r3vkSMlwNucnpDDGCTANKgfvd8iI8D5fPeBWUsiwOUcui95miHAOplT3woXIcBlfBCTG8YgwDqCE4bHqiDAZXwQkxvGIMA6mVPfChchwOUcui95miHA+Xz3gVlLIsA0qB+93yIjwNucnpDDGCTAPP6975EjJcD4AhoICjkmwLIHdiCCTifAFGmVf1BZKMC7XRRTNE8pwPaIPI66JirACul54JrXKsC0bOAwCVsrwIqJI334qyvAt2YTwHutMcAwSsabF5wxwAdLwkaWaDHA3Oh8dfIUMcBfhQ8AY6QwwF/IIEM7GzDAl0t5I4H9LsChE4a17KktwL8KHwDGSCzA3QG4Sp/nKsDnycTcCpQpwMCE/HkVWyjAvwofAMZIJ8DHQ0QVp2cmwHB/uXJfwCXAHoGxyFxZJcAPSBeAlDYlwB6BschcWSXAcH+5cl/AJcDGQ0QVp2cmwL8KHwDGSCfAwIT8eRVbKMDnycTcCpQpwNwBuEqf5yrAvwofAMZILMChE4a17KktwJdLeSOB/S7AX8ggQzsbMMBfhQ8AY6QwwNzofHXyFDHABkvCRpZoMcAvSsabF5wxwEhuE9BnyTTAvQjbpfS0NMB0GGpWZHg0wKX3K7QKFjTAg4gWT6+RM8AQGNlFaPAywGk5sDtoODLAFEMoX8FwMcAGJanZH6EwwPENVKj8oi/ARyFE764TLsD6Y/LarqMswBWDd8ggYSvA0aRM/mlYKsAyY9C5tpMpwKKC7hqWGinAird9xq/xKMCigu4alhopwDJj0Lm2kynA0KRM/mlYKsAVg3fIIGErwPpj8tquoyzARyFE764TLsDwDVSo/KIvwAYlqdkfoTDAFEMoX8FwMcBpObA7aDgywBAY2UVo8DLAg4gWT6+RM8Cl9yu0ChY0wHMYalZkeDTAvAjbpfS0NMBfft851Bg3wCsQ9DgbAjfA+IiBwc++NsC6i0Deh1E2wPNdMqh2vjXAKs3i9UILNcD4iIHBzz40wD0o02j4YDPATJh/YUN6MsBbCCxajpMxwKCnfQG3tTDA2sY4mofSL8BJpZk1IGwuwL1Jfcn9RS3AQE/7Am5rLMDbQBYU1+QrwHJkPxJltyvA20AWFNfkK8BAT/sCbmsswLxJfcn9RS3ASaWZNSBsLsDaxjiah9IvwKCnfQG3tTDAWggsWo6TMcBMmH9hQ3oywD0o02j4YDPA+IiBwc8+NMAqzeL1Qgs1wPNdMqh2vjXAuotA3odRNsD3iIHBz742wCoQ9DgbAjfAakB5mgaFOMD4jCpO52w4wM0Rb7l2JTjApH0srnOxN8C+XrF9UxU3wDhdfxwWVzbAXEqqGwt+NcCLbH28iZI0wO6Z+uGenTPAUcd3B7SoMsCA6UqoMr0xwKTWdacn5DDAHtVDRuolMMBxbJErlBMvwB9EDBWOKy7AyU2V66ycLcDl5vdSbmwtwMlNleusnC3AH0QMFY4rLsBwbJErlBMvwB7VQ0bqJTDApNZ1pyfkMMCA6UqoMr0xwFDHdwe0qDLA7pn64Z6dM8CLbH28iZI0wFxKqhsLfjXAOF1/HBZXNsC+XrF9UxU3wKR9LK5zsTfAzBFvuXYlOMD3jCpO52w4wAAAAAAAADnAfKZ+uGfnOMAT5l/YkJ44wEJJavZHKDjAWOEDwBiJN8BfQANBIcc2wDylBbXV6TXAfCBcMrf5NMAAAAAAAAA0wITfo81IBjPAxFr6SioWMsChv/y+3jgxwKge/D/ndjDAfW0rE3CvL8DaM0BP3sIuwAmzAo8wMS7AAAAAAAAALsAJswKPMDEuwNozQE/ewi7AfG0rE3CvL8CoHvw/53YwwKG//L7eODHAxFr6SioWMsCD36PNSAYzwAAAAAAAADTAfCBcMrf5NMA8pQW11ek1wF9AA0EhxzbAWOEDwBiJN8BCSWr2Ryg4wBLmX9iQnjjAe6Z+uGfnOMBqQHmaBoU4wPiMKk7nbDjAzRFvuXYlOMCkfSyuc7E3wL5esX1TFTfAOF1/HBZXNsBcSqobC341wItsfbyJkjTA7pn64Z6dM8BRx3cHtKgywIDpSqgyvTHApNZ1pyfkMMAe1UNG6iUwwHFskSuUEy/AH0QMFY4rLsDJTZXrrJwtwOXm91JubC3AyU2V66ycLcAfRAwVjisuwHBskSuUEy/AHtVDRuolMMCk1nWnJ+QwwIDpSqgyvTHAUMd3B7SoMsDumfrhnp0zwItsfbyJkjTAXEqqGwt+NcA4XX8cFlc2wL5esX1TFTfApH0srnOxN8DMEW+5diU4wPeMKk7nbDjAX37fOdQYN8ArEPQ4GwI3wPmIgcHPvjbAuotA3odRNsD0XTKodr41wCvN4vVCCzXA+YiBwc8+NMA9KNNo+GAzwEyYf2FDejLAWwgsWo6TMcCgp30Bt7UwwNvGOJqH0i/ASqWZNSBsLsC+SX3J/UUtwEBP+wJuayzA3EAWFNfkK8BzZD8SZbcrwNxAFhTX5CvAQE/7Am5rLMC9SX3J/UUtwEqlmTUgbC7A28Y4mofSL8Cgp30Bt7UwwFoILFqOkzHATJh/YUN6MsA9KNNo+GAzwPmIgcHPPjTAK83i9UILNcD0XTKodr41wLqLQN6HUTbA+IiBwc++NsArEPQ4GwI3wEluE9BnyTTAvQjbpfS0NMB1GGpWZHg0wKb3K7QKFjTAg4gWT6+RM8ARGNlFaPAywGo5sDtoODLAFUMoX8FwMcAHJanZH6EwwPMNVKj8oi/ASCFE764TLsD7Y/LarqMswBaDd8ggYSvA0qRM/mlYKsAzY9C5tpMpwKOC7hqWGinAi7d9xq/xKMCjgu4alhopwDNj0Lm2kynA0aRM/mlYKsAWg3fIIGErwPtj8tquoyzASCFE764TLsDxDVSo/KIvwAclqdkfoTDAFUMoX8FwMcBqObA7aDgywBEY2UVo8DLAg4gWT6+RM8Cm9yu0ChY0wHQYalZkeDTAvAjbpfS0NMC5ZhPAe60xwDJKxpsXnDHACEvCRpZoMcDd6Hx18hQxwGGFDwBjpDDAYMggQzsbMMCZS3kjgf0uwKMThrXsqS3AwgofAMZILMDgAbhKn+cqwOrJxNwKlCnAw4T8eRVbKMDBCh8AxkgnwMlDRBWnZybAcn+5cl/AJcAggbHIXFklwBFIF4CUNiXAIIGxyFxZJcByf7lyX8AlwMhDRBWnZybAwQofAMZIJ8DDhPx5FVsowOrJxNwKlCnA3gG4Sp/nKsDCCh8AxkgswKMThrXsqS3AmUt5I4H9LsBgyCBDOxswwGGFDwBjpDDA3eh8dfIUMcAIS8JGlmgxwDFKxpsXnDHAuIMgikzHK8COiSN9+KsrwLhs4DAJWyvADel54JrXKsD5iDyOuiYqwL5dFFM0TynAFmmVf1BZKMC1B3Yggk4nwPoCGggKOSbAP/6975EjJcDenJ6QwxgkwDaoH73fIiPA+3z3gVlLIsDnHLoveZohwDyZU98KFyHAZnwQkxvGIMA8ghOGx6ogwGZ8EJMbxiDAPJlT3woXIcDnHLoveZohwPt894FZSyLANqgfvd8iI8DenJ6QwxgkwD7+ve+RIyXA+gIaCAo5JsC1B3Yggk4nwBZplX9QWSjAvl0UUzRPKcD5iDyOuiYqwA3peeCa1yrAt2zgMAlbK8CNiSN9+KsrwF10OBJZIiPAwoqMG4YPI8A+CzFoxtciwKtSO2w+fSLAvWqHy2gDIsABkKgf9G4hwI1IKeiUxSDAHodBas0NIMDIU1pQW50ewFSZMcwbHx3AdxZi0IyvG8CPh2NhzlwawBfSpQnlMxnAOwI+yDlAGMAVkVLQKYsXwA6Sm2mqGxfA1r5DfAT2FsAOkptpqhsXwBWRUtApixfAOwI+yDlAGMAX0qUJ5TMZwI+HY2HOXBrAdxZi0IyvG8BTmTHMGx8dwMhTWlBbnR7AHodBas0NIMCNSCnolMUgwAGQqB/0biHAvWqHy2gDIsCrUjtsPn0iwD0LMWjG1yLAwYqMG4YPI8DEiTLvT4ITwEpSzY8ebxPAmEcQQ0c2E8AKgL47+dkSwJYZkJDAXRLARxF6VmPGEcBFwuqpshkRwKo7AnVRXhDAnw+ES+Y2D8DrpwOtKbENwLWaMkNnOgzAsfwT6gXhCsAT7Od1S7IJwCsfix/auQjAD5DnED4BCMCsem13j48HwLcLo7gsaQfArHptd4+PB8APkOcQPgEIwCofix/auQjAE+zndUuyCcCx/BPqBeEKwLWaMkNnOgzA6acDrSmxDcCfD4RL5jYPwKo7AnVRXhDARcLqqbIZEcBHEXpWY8YRwJYZkJDAXRLACoC+O/nZEsCXRxBDRzYTwElSzY8ebxPA2Nvbw7Su9LwgP+rdW5r0vBmo5FgZXvS8WqbpCT7887wDgSemjHjzvNd8zcMU2PK8sKolEAEh8rz/lqikWlrxvEYW48/Di/C8Gis79ll677y5A0EfDe3tvGtf8bflfuy8Elc98/U967xmDLkrkzbqvOcIw43ccum82tq3g1f66LxpodS3pdHovNrat4NX+ui85wjDjdxy6bxlDLkrkzbqvBJXPfP1Peu8a1/xt+V+7Ly5A0EfDe3tvBkrO/ZZeu+8Rhbjz8OL8Lz/lqikWlrxvLCqJRABIfK813zNwxTY8rwDgSemjHjzvFqm6Qk+/PO8GKjkWBle9LwfP+rdW5r0vLmJMu9PghNAQFLNjx5vE0CORxBDRzYTQAGAvjv52RJAjBmQkMBdEkA9EXpWY8YRQDzC6qmyGRFAoTsCdVFeEECPD4RL5jYPQNunA60psQ1AppoyQ2c6DECj/BPqBeEKQAbs53VLsglAHh+LH9q5CEADkOcQPgEIQKB6bXePjwdAqwujuCxpB0Cgem13j48HQAOQ5xA+AQhAHR+LH9q5CEAG7Od1S7IJQKP8E+oF4QpAppoyQ2c6DEDapwOtKbENQI8PhEvmNg9AoTsCdVFeEEA8wuqpshkRQD0RelZjxhFAjBmQkMBdEkABgL47+dkSQI1HEENHNhNAP1LNjx5vE0BYdDgSWSIjQL2KjBuGDyNAOQsxaMbXIkCmUjtsPn0iQLhqh8toAyJA/Y+oH/RuIUCJSCnolMUgQBqHQWrNDSBAwVNaUFudHkBNmTHMGx8dQHAWYtCMrxtAiIdjYc5cGkAR0qUJ5TMZQDYCPsg5QBhAEJFS0CmLF0AIkptpqhsXQNG+Q3wE9hZACJKbaaobF0AQkVLQKYsXQDUCPsg5QBhAEdKlCeUzGUCIh2NhzlwaQHAWYtCMrxtAS5kxzBsfHUDBU1pQW50eQBqHQWrNDSBAiUgp6JTFIED9j6gf9G4hQLhqh8toAyJAplI7bD59IkA4CzFoxtciQLyKjBuGDyNAtIMgikzHK0CJiSN9+KsrQLNs4DAJWytACel54JrXKkD1iDyOuiYqQLpdFFM0TylAEmmVf1BZKECxB3Yggk4nQPYCGggKOSZAPP6975EjJUDanJ6QwxgkQDOoH73fIiNA+Hz3gVlLIkDkHLoveZohQDmZU98KFyFAZHwQkxvGIEA5ghOGx6ogQGR8EJMbxiBAOZlT3woXIUDkHLoveZohQPh894FZSyJAM6gfvd8iI0DanJ6QwxgkQDv+ve+RIyVA9gIaCAo5JkCxB3Yggk4nQBJplX9QWShAul0UUzRPKUD1iDyOuiYqQAnpeeCa1ypAsmzgMAlbK0CIiSN9+KsrQLdmE8B7rTFAL0rGmxecMUAGS8JGlmgxQNvofHXyFDFAX4UPAGOkMEBeyCBDOxswQJVLeSOB/S5AnxOGteypLUC+Ch8AxkgsQNwBuEqf5ypA5snE3AqUKUC/hPx5FVsoQL4KHwDGSCdAxkNEFadnJkBvf7lyX8AlQB2BschcWSVADkgXgJQ2JUAdgbHIXFklQG9/uXJfwCVAxUNEFadnJkC+Ch8AxkgnQL+E/HkVWyhA5snE3AqUKUDbAbhKn+cqQL4KHwDGSCxAnxOGteypLUCVS3kjgf0uQF7IIEM7GzBAX4UPAGOkMEDb6Hx18hQxQAVLwkaWaDFAL0rGmxecMUBHbhPQZ8k0QLwI26X0tDRAcxhqVmR4NECk9yu0ChY0QIKIFk+vkTNADxjZRWjwMkBpObA7aDgyQBRDKF/BcDFABiWp2R+hMEDwDVSo/KIvQEYhRO+uEy5A+WPy2q6jLEAUg3fIIGErQNCkTP5pWCpAMWPQubaTKUChgu4alhopQIm3fcav8ShAoYLuGpYaKUAxY9C5tpMpQM+kTP5pWCpAFIN3yCBhK0D5Y/LarqMsQEYhRO+uEy5A7w1UqPyiL0AGJanZH6EwQBRDKF/BcDFAaTmwO2g4MkAPGNlFaPAyQIKIFk+vkTNApPcrtAoWNEByGGpWZHg0QLsI26X0tDRAXX7fOdQYN0ApEPQ4GwI3QPaIgcHPvjZAuItA3odRNkDyXTKodr41QCnN4vVCCzVA94iBwc8+NEA7KNNo+GAzQEqYf2FDejJAWggsWo6TMUCep30Bt7UwQNjGOJqH0i9AR6WZNSBsLkC7SX3J/UUtQD5P+wJuayxA2UAWFNfkK0BwZD8SZbcrQNlAFhTX5CtAPk/7Am5rLEC6SX3J/UUtQEelmTUgbC5A2MY4mofSL0Cep30Bt7UwQFkILFqOkzFASph/YUN6MkA7KNNo+GAzQPeIgcHPPjRAKc3i9UILNUDyXTKodr41QLiLQN6HUTZA9YiBwc++NkAoEPQ4GwI3QGlAeZoGhThA94wqTudsOEDMEW+5diU4QKN9LK5zsTdAvl6xfVMVN0A3XX8cFlc2QFtKqhsLfjVAi2x9vImSNEDtmfrhnp0zQFDHdwe0qDJAf+lKqDK9MUCk1nWnJ+QwQB3VQ0bqJTBAcGyRK5QTL0AeRAwVjisuQMhNleusnC1A5Ob3Um5sLUDITZXrrJwtQB5EDBWOKy5Ab2yRK5QTL0Ad1UNG6iUwQKTWdacn5DBAf+lKqDK9MUBPx3cHtKgyQO2Z+uGenTNAi2x9vImSNEBbSqobC341QDddfxwWVzZAvl6xfVMVN0CjfSyuc7E3QMsRb7l2JThA9owqTudsOEA=",
          "dtype": "f8"
         },
         "y": {
          "bdata": "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",
          "dtype": "f8"
         },
         "z": {
          "bdata": "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",
          "dtype": "f8"
         }
        },
        {
         "line": {
          "color": "blue",
          "width": 4
         },
         "mode": "lines",
         "name": "Slice Z=-5.00",
         "type": "scatter3d",
         "visible": false,
         "x": {
          "bdata": "Rhbjz8OL8LyPD4RL5jYPQMFTWlBbnR5A9gIaCAo5JkC+Ch8AxkgsQAYlqdkfoTBASph/YUN6MkDtmfrhnp0zQAAAAAAAADRA7pn64Z6dM0BMmH9hQ3oyQAYlqdkfoTBAwAofAMZILED7AhoICjkmQL1TWlBbnR5AkA+ES+Y2D0AJc9m/rw/WPIoPhEvmNg/AulNaUFudHsD4AhoICjkmwL8KHwDGSCzABiWp2R+hMMBMmH9hQ3oywO6Z+uGenTPAAAAAAAAANMDumfrhnp0zwEyYf2FDejLAByWp2R+hMMDCCh8AxkgswPoCGggKOSbAyFNaUFudHsCfD4RL5jYPwEYW48/Di/C8Rhbjz8OL8Lw=",
          "dtype": "f8"
         },
         "y": {
          "bdata": "AAAAAAAANMDumfrhnp0zwEuYf2FDejLAByWp2R+hMMDCCh8AxkgswPoCGggKOSbAylNaUFudHsCiD4RL5jYPwAAAAAAAAAAAjA+ES+Y2D0C8U1pQW50eQPoCGggKOSZAvwofAMZILEAGJanZH6EwQEyYf2FDejJA7pn64Z6dM0AAAAAAAAA0QO6Z+uGenTNATJh/YUN6MkAHJanZH6EwQMAKHwDGSCxA+gIaCAo5JkC+U1pQW50eQJ0PhEvmNg9ACXPZv68P5jySD4RL5jYPwLlTWlBbnR7A+AIaCAo5JsC/Ch8AxkgswAYlqdkfoTDASph/YUN6MsDtmfrhnp0zwAAAAAAAADTAAAAAAAAANMA=",
          "dtype": "f8"
         },
         "z": {
          "bdata": "AAAAAAAAFMAAAAAAAAAUwAAAAAAAABTAAAAAAAAAFMAAAAAAAAAUwAAAAAAAABTAAAAAAAAAFMAAAAAAAAAUwAAAAAAAABTAAAAAAAAAFMAAAAAAAAAUwAAAAAAAABTAAAAAAAAAFMAAAAAAAAAUwAAAAAAAABTAAAAAAAAAFMAAAAAAAAAUwAAAAAAAABTAAAAAAAAAFMAAAAAAAAAUwAAAAAAAABTAAAAAAAAAFMAAAAAAAAAUwAAAAAAAABTAAAAAAAAAFMAAAAAAAAAUwAAAAAAAABTAAAAAAAAAFMAAAAAAAAAUwAAAAAAAABTAAAAAAAAAFMAAAAAAAAAUwAAAAAAAABTAAAAAAAAAFMA=",
          "dtype": "f8"
         }
        },
        {
         "mode": "lines",
         "name": "Slice Z=-4.80",
         "type": "scatter3d",
         "visible": false,
         "x": [],
         "y": [],
         "z": []
        },
        {
         "mode": "lines",
         "name": "Slice Z=-4.59",
         "type": "scatter3d",
         "visible": false,
         "x": [],
         "y": [],
         "z": []
        },
        {
         "mode": "lines",
         "name": "Slice Z=-4.39",
         "type": "scatter3d",
         "visible": false,
         "x": [],
         "y": [],
         "z": []
        },
        {
         "mode": "lines",
         "name": "Slice Z=-4.18",
         "type": "scatter3d",
         "visible": false,
         "x": [],
         "y": [],
         "z": []
        },
        {
         "mode": "lines",
         "name": "Slice Z=-3.98",
         "type": "scatter3d",
         "visible": false,
         "x": [],
         "y": [],
         "z": []
        },
        {
         "mode": "lines",
         "name": "Slice Z=-3.78",
         "type": "scatter3d",
         "visible": false,
         "x": [],
         "y": [],
         "z": []
        },
        {
         "mode": "lines",
         "name": "Slice Z=-3.57",
         "type": "scatter3d",
         "visible": false,
         "x": [],
         "y": [],
         "z": []
        },
        {
         "mode": "lines",
         "name": "Slice Z=-3.37",
         "type": "scatter3d",
         "visible": false,
         "x": [],
         "y": [],
         "z": []
        },
        {
         "mode": "lines",
         "name": "Slice Z=-3.16",
         "type": "scatter3d",
         "visible": false,
         "x": [],
         "y": [],
         "z": []
        },
        {
         "mode": "lines",
         "name": "Slice Z=-2.96",
         "type": "scatter3d",
         "visible": false,
         "x": [],
         "y": [],
         "z": []
        },
        {
         "mode": "lines",
         "name": "Slice Z=-2.76",
         "type": "scatter3d",
         "visible": false,
         "x": [],
         "y": [],
         "z": []
        },
        {
         "mode": "lines",
         "name": "Slice Z=-2.55",
         "type": "scatter3d",
         "visible": false,
         "x": [],
         "y": [],
         "z": []
        },
        {
         "mode": "lines",
         "name": "Slice Z=-2.35",
         "type": "scatter3d",
         "visible": false,
         "x": [],
         "y": [],
         "z": []
        },
        {
         "mode": "lines",
         "name": "Slice Z=-2.14",
         "type": "scatter3d",
         "visible": false,
         "x": [],
         "y": [],
         "z": []
        },
        {
         "mode": "lines",
         "name": "Slice Z=-1.94",
         "type": "scatter3d",
         "visible": false,
         "x": [],
         "y": [],
         "z": []
        },
        {
         "mode": "lines",
         "name": "Slice Z=-1.73",
         "type": "scatter3d",
         "visible": false,
         "x": [],
         "y": [],
         "z": []
        },
        {
         "mode": "lines",
         "name": "Slice Z=-1.53",
         "type": "scatter3d",
         "visible": false,
         "x": [],
         "y": [],
         "z": []
        },
        {
         "mode": "lines",
         "name": "Slice Z=-1.33",
         "type": "scatter3d",
         "visible": false,
         "x": [],
         "y": [],
         "z": []
        },
        {
         "mode": "lines",
         "name": "Slice Z=-1.12",
         "type": "scatter3d",
         "visible": false,
         "x": [],
         "y": [],
         "z": []
        },
        {
         "mode": "lines",
         "name": "Slice Z=-0.92",
         "type": "scatter3d",
         "visible": false,
         "x": [],
         "y": [],
         "z": []
        },
        {
         "mode": "lines",
         "name": "Slice Z=-0.71",
         "type": "scatter3d",
         "visible": false,
         "x": [],
         "y": [],
         "z": []
        },
        {
         "mode": "lines",
         "name": "Slice Z=-0.51",
         "type": "scatter3d",
         "visible": false,
         "x": [],
         "y": [],
         "z": []
        },
        {
         "mode": "lines",
         "name": "Slice Z=-0.31",
         "type": "scatter3d",
         "visible": false,
         "x": [],
         "y": [],
         "z": []
        },
        {
         "mode": "lines",
         "name": "Slice Z=-0.10",
         "type": "scatter3d",
         "visible": false,
         "x": [],
         "y": [],
         "z": []
        },
        {
         "mode": "lines",
         "name": "Slice Z=0.10",
         "type": "scatter3d",
         "visible": true,
         "x": [],
         "y": [],
         "z": []
        },
        {
         "mode": "lines",
         "name": "Slice Z=0.31",
         "type": "scatter3d",
         "visible": false,
         "x": [],
         "y": [],
         "z": []
        },
        {
         "mode": "lines",
         "name": "Slice Z=0.51",
         "type": "scatter3d",
         "visible": false,
         "x": [],
         "y": [],
         "z": []
        },
        {
         "mode": "lines",
         "name": "Slice Z=0.71",
         "type": "scatter3d",
         "visible": false,
         "x": [],
         "y": [],
         "z": []
        },
        {
         "mode": "lines",
         "name": "Slice Z=0.92",
         "type": "scatter3d",
         "visible": false,
         "x": [],
         "y": [],
         "z": []
        },
        {
         "mode": "lines",
         "name": "Slice Z=1.12",
         "type": "scatter3d",
         "visible": false,
         "x": [],
         "y": [],
         "z": []
        },
        {
         "mode": "lines",
         "name": "Slice Z=1.33",
         "type": "scatter3d",
         "visible": false,
         "x": [],
         "y": [],
         "z": []
        },
        {
         "mode": "lines",
         "name": "Slice Z=1.53",
         "type": "scatter3d",
         "visible": false,
         "x": [],
         "y": [],
         "z": []
        },
        {
         "mode": "lines",
         "name": "Slice Z=1.73",
         "type": "scatter3d",
         "visible": false,
         "x": [],
         "y": [],
         "z": []
        },
        {
         "mode": "lines",
         "name": "Slice Z=1.94",
         "type": "scatter3d",
         "visible": false,
         "x": [],
         "y": [],
         "z": []
        },
        {
         "mode": "lines",
         "name": "Slice Z=2.14",
         "type": "scatter3d",
         "visible": false,
         "x": [],
         "y": [],
         "z": []
        },
        {
         "mode": "lines",
         "name": "Slice Z=2.35",
         "type": "scatter3d",
         "visible": false,
         "x": [],
         "y": [],
         "z": []
        },
        {
         "mode": "lines",
         "name": "Slice Z=2.55",
         "type": "scatter3d",
         "visible": false,
         "x": [],
         "y": [],
         "z": []
        },
        {
         "mode": "lines",
         "name": "Slice Z=2.76",
         "type": "scatter3d",
         "visible": false,
         "x": [],
         "y": [],
         "z": []
        },
        {
         "mode": "lines",
         "name": "Slice Z=2.96",
         "type": "scatter3d",
         "visible": false,
         "x": [],
         "y": [],
         "z": []
        },
        {
         "mode": "lines",
         "name": "Slice Z=3.16",
         "type": "scatter3d",
         "visible": false,
         "x": [],
         "y": [],
         "z": []
        },
        {
         "mode": "lines",
         "name": "Slice Z=3.37",
         "type": "scatter3d",
         "visible": false,
         "x": [],
         "y": [],
         "z": []
        },
        {
         "mode": "lines",
         "name": "Slice Z=3.57",
         "type": "scatter3d",
         "visible": false,
         "x": [],
         "y": [],
         "z": []
        },
        {
         "mode": "lines",
         "name": "Slice Z=3.78",
         "type": "scatter3d",
         "visible": false,
         "x": [],
         "y": [],
         "z": []
        },
        {
         "mode": "lines",
         "name": "Slice Z=3.98",
         "type": "scatter3d",
         "visible": false,
         "x": [],
         "y": [],
         "z": []
        },
        {
         "mode": "lines",
         "name": "Slice Z=4.18",
         "type": "scatter3d",
         "visible": false,
         "x": [],
         "y": [],
         "z": []
        },
        {
         "mode": "lines",
         "name": "Slice Z=4.39",
         "type": "scatter3d",
         "visible": false,
         "x": [],
         "y": [],
         "z": []
        },
        {
         "mode": "lines",
         "name": "Slice Z=4.59",
         "type": "scatter3d",
         "visible": false,
         "x": [],
         "y": [],
         "z": []
        },
        {
         "mode": "lines",
         "name": "Slice Z=4.80",
         "type": "scatter3d",
         "visible": false,
         "x": [],
         "y": [],
         "z": []
        },
        {
         "mode": "lines",
         "name": "Slice Z=5.00",
         "type": "scatter3d",
         "visible": false,
         "x": [],
         "y": [],
         "z": []
        }
       ],
       "layout": {
        "height": 700,
        "scene": {
         "aspectmode": "cube",
         "aspectratio": {
          "x": 1,
          "y": 1,
          "z": 0.8
         },
         "xaxis": {
          "title": {
           "text": "X (µm)"
          }
         },
         "yaxis": {
          "title": {
           "text": "Y (µm)"
          }
         },
         "zaxis": {
          "title": {
           "text": "Z (µm)"
          }
         }
        },
        "sliders": [
         {
          "active": 25,
          "currentvalue": {
           "prefix": "Z-slice: "
          },
          "pad": {
           "t": 50
          },
          "steps": [
           {
            "args": [
             {
              "visible": [
               true,
               true,
               false,
               false,
               false,
               false,
               false,
               false,
               false,
               false,
               false,
               false,
               false,
               false,
               false,
               false,
               false,
               false,
               false,
               false,
               false,
               false,
               false,
               false,
               false,
               false,
               false,
               false,
               false,
               false,
               false,
               false,
               false,
               false,
               false,
               false,
               false,
               false,
               false,
               false,
               false,
               false,
               false,
               false,
               false,
               false,
               false,
               false,
               false,
               false,
               false
              ]
             }
            ],
            "label": "-5.00",
            "method": "update"
           },
           {
            "args": [
             {
              "visible": [
               true,
               false,
               true,
               false,
               false,
               false,
               false,
               false,
               false,
               false,
               false,
               false,
               false,
               false,
               false,
               false,
               false,
               false,
               false,
               false,
               false,
               false,
               false,
               false,
               false,
               false,
               false,
               false,
               false,
               false,
               false,
               false,
               false,
               false,
               false,
               false,
               false,
               false,
               false,
               false,
               false,
               false,
               false,
               false,
               false,
               false,
               false,
               false,
               false,
               false,
               false
              ]
             }
            ],
            "label": "-4.80",
            "method": "update"
           },
           {
            "args": [
             {
              "visible": [
               true,
               false,
               false,
               true,
               false,
               false,
               false,
               false,
               false,
               false,
               false,
               false,
               false,
               false,
               false,
               false,
               false,
               false,
               false,
               false,
               false,
               false,
               false,
               false,
               false,
               false,
               false,
               false,
               false,
               false,
               false,
               false,
               false,
               false,
               false,
               false,
               false,
               false,
               false,
               false,
               false,
               false,
               false,
               false,
               false,
               false,
               false,
               false,
               false,
               false,
               false
              ]
             }
            ],
            "label": "-4.59",
            "method": "update"
           },
           {
            "args": [
             {
              "visible": [
               true,
               false,
               false,
               false,
               true,
               false,
               false,
               false,
               false,
               false,
               false,
               false,
               false,
               false,
               false,
               false,
               false,
               false,
               false,
               false,
               false,
               false,
               false,
               false,
               false,
               false,
               false,
               false,
               false,
               false,
               false,
               false,
               false,
               false,
               false,
               false,
               false,
               false,
               false,
               false,
               false,
               false,
               false,
               false,
               false,
               false,
               false,
               false,
               false,
               false,
               false
              ]
             }
            ],
            "label": "-4.39",
            "method": "update"
           },
           {
            "args": [
             {
              "visible": [
               true,
               false,
               false,
               false,
               false,
               true,
               false,
               false,
               false,
               false,
               false,
               false,
               false,
               false,
               false,
               false,
               false,
               false,
               false,
               false,
               false,
               false,
               false,
               false,
               false,
               false,
               false,
               false,
               false,
               false,
               false,
               false,
               false,
               false,
               false,
               false,
               false,
               false,
               false,
               false,
               false,
               false,
               false,
               false,
               false,
               false,
               false,
               false,
               false,
               false,
               false
              ]
             }
            ],
            "label": "-4.18",
            "method": "update"
           },
           {
            "args": [
             {
              "visible": [
               true,
               false,
               false,
               false,
               false,
               false,
               true,
               false,
               false,
               false,
               false,
               false,
               false,
               false,
               false,
               false,
               false,
               false,
               false,
               false,
               false,
               false,
               false,
               false,
               false,
               false,
               false,
               false,
               false,
               false,
               false,
               false,
               false,
               false,
               false,
               false,
               false,
               false,
               false,
               false,
               false,
               false,
               false,
               false,
               false,
               false,
               false,
               false,
               false,
               false,
               false
              ]
             }
            ],
            "label": "-3.98",
            "method": "update"
           },
           {
            "args": [
             {
              "visible": [
               true,
               false,
               false,
               false,
               false,
               false,
               false,
               true,
               false,
               false,
               false,
               false,
               false,
               false,
               false,
               false,
               false,
               false,
               false,
               false,
               false,
               false,
               false,
               false,
               false,
               false,
               false,
               false,
               false,
               false,
               false,
               false,
               false,
               false,
               false,
               false,
               false,
               false,
               false,
               false,
               false,
               false,
               false,
               false,
               false,
               false,
               false,
               false,
               false,
               false,
               false
              ]
             }
            ],
            "label": "-3.78",
            "method": "update"
           },
           {
            "args": [
             {
              "visible": [
               true,
               false,
               false,
               false,
               false,
               false,
               false,
               false,
               true,
               false,
               false,
               false,
               false,
               false,
               false,
               false,
               false,
               false,
               false,
               false,
               false,
               false,
               false,
               false,
               false,
               false,
               false,
               false,
               false,
               false,
               false,
               false,
               false,
               false,
               false,
               false,
               false,
               false,
               false,
               false,
               false,
               false,
               false,
               false,
               false,
               false,
               false,
               false,
               false,
               false,
               false
              ]
             }
            ],
            "label": "-3.57",
            "method": "update"
           },
           {
            "args": [
             {
              "visible": [
               true,
               false,
               false,
               false,
               false,
               false,
               false,
               false,
               false,
               true,
               false,
               false,
               false,
               false,
               false,
               false,
               false,
               false,
               false,
               false,
               false,
               false,
               false,
               false,
               false,
               false,
               false,
               false,
               false,
               false,
               false,
               false,
               false,
               false,
               false,
               false,
               false,
               false,
               false,
               false,
               false,
               false,
               false,
               false,
               false,
               false,
               false,
               false,
               false,
               false,
               false
              ]
             }
            ],
            "label": "-3.37",
            "method": "update"
           },
           {
            "args": [
             {
              "visible": [
               true,
               false,
               false,
               false,
               false,
               false,
               false,
               false,
               false,
               false,
               true,
               false,
               false,
               false,
               false,
               false,
               false,
               false,
               false,
               false,
               false,
               false,
               false,
               false,
               false,
               false,
               false,
               false,
               false,
               false,
               false,
               false,
               false,
               false,
               false,
               false,
               false,
               false,
               false,
               false,
               false,
               false,
               false,
               false,
               false,
               false,
               false,
               false,
               false,
               false,
               false
              ]
             }
            ],
            "label": "-3.16",
            "method": "update"
           },
           {
            "args": [
             {
              "visible": [
               true,
               false,
               false,
               false,
               false,
               false,
               false,
               false,
               false,
               false,
               false,
               true,
               false,
               false,
               false,
               false,
               false,
               false,
               false,
               false,
               false,
               false,
               false,
               false,
               false,
               false,
               false,
               false,
               false,
               false,
               false,
               false,
               false,
               false,
               false,
               false,
               false,
               false,
               false,
               false,
               false,
               false,
               false,
               false,
               false,
               false,
               false,
               false,
               false,
               false,
               false
              ]
             }
            ],
            "label": "-2.96",
            "method": "update"
           },
           {
            "args": [
             {
              "visible": [
               true,
               false,
               false,
               false,
               false,
               false,
               false,
               false,
               false,
               false,
               false,
               false,
               true,
               false,
               false,
               false,
               false,
               false,
               false,
               false,
               false,
               false,
               false,
               false,
               false,
               false,
               false,
               false,
               false,
               false,
               false,
               false,
               false,
               false,
               false,
               false,
               false,
               false,
               false,
               false,
               false,
               false,
               false,
               false,
               false,
               false,
               false,
               false,
               false,
               false,
               false
              ]
             }
            ],
            "label": "-2.76",
            "method": "update"
           },
           {
            "args": [
             {
              "visible": [
               true,
               false,
               false,
               false,
               false,
               false,
               false,
               false,
               false,
               false,
               false,
               false,
               false,
               true,
               false,
               false,
               false,
               false,
               false,
               false,
               false,
               false,
               false,
               false,
               false,
               false,
               false,
               false,
               false,
               false,
               false,
               false,
               false,
               false,
               false,
               false,
               false,
               false,
               false,
               false,
               false,
               false,
               false,
               false,
               false,
               false,
               false,
               false,
               false,
               false,
               false
              ]
             }
            ],
            "label": "-2.55",
            "method": "update"
           },
           {
            "args": [
             {
              "visible": [
               true,
               false,
               false,
               false,
               false,
               false,
               false,
               false,
               false,
               false,
               false,
               false,
               false,
               false,
               true,
               false,
               false,
               false,
               false,
               false,
               false,
               false,
               false,
               false,
               false,
               false,
               false,
               false,
               false,
               false,
               false,
               false,
               false,
               false,
               false,
               false,
               false,
               false,
               false,
               false,
               false,
               false,
               false,
               false,
               false,
               false,
               false,
               false,
               false,
               false,
               false
              ]
             }
            ],
            "label": "-2.35",
            "method": "update"
           },
           {
            "args": [
             {
              "visible": [
               true,
               false,
               false,
               false,
               false,
               false,
               false,
               false,
               false,
               false,
               false,
               false,
               false,
               false,
               false,
               true,
               false,
               false,
               false,
               false,
               false,
               false,
               false,
               false,
               false,
               false,
               false,
               false,
               false,
               false,
               false,
               false,
               false,
               false,
               false,
               false,
               false,
               false,
               false,
               false,
               false,
               false,
               false,
               false,
               false,
               false,
               false,
               false,
               false,
               false,
               false
              ]
             }
            ],
            "label": "-2.14",
            "method": "update"
           },
           {
            "args": [
             {
              "visible": [
               true,
               false,
               false,
               false,
               false,
               false,
               false,
               false,
               false,
               false,
               false,
               false,
               false,
               false,
               false,
               false,
               true,
               false,
               false,
               false,
               false,
               false,
               false,
               false,
               false,
               false,
               false,
               false,
               false,
               false,
               false,
               false,
               false,
               false,
               false,
               false,
               false,
               false,
               false,
               false,
               false,
               false,
               false,
               false,
               false,
               false,
               false,
               false,
               false,
               false,
               false
              ]
             }
            ],
            "label": "-1.94",
            "method": "update"
           },
           {
            "args": [
             {
              "visible": [
               true,
               false,
               false,
               false,
               false,
               false,
               false,
               false,
               false,
               false,
               false,
               false,
               false,
               false,
               false,
               false,
               false,
               true,
               false,
               false,
               false,
               false,
               false,
               false,
               false,
               false,
               false,
               false,
               false,
               false,
               false,
               false,
               false,
               false,
               false,
               false,
               false,
               false,
               false,
               false,
               false,
               false,
               false,
               false,
               false,
               false,
               false,
               false,
               false,
               false,
               false
              ]
             }
            ],
            "label": "-1.73",
            "method": "update"
           },
           {
            "args": [
             {
              "visible": [
               true,
               false,
               false,
               false,
               false,
               false,
               false,
               false,
               false,
               false,
               false,
               false,
               false,
               false,
               false,
               false,
               false,
               false,
               true,
               false,
               false,
               false,
               false,
               false,
               false,
               false,
               false,
               false,
               false,
               false,
               false,
               false,
               false,
               false,
               false,
               false,
               false,
               false,
               false,
               false,
               false,
               false,
               false,
               false,
               false,
               false,
               false,
               false,
               false,
               false,
               false
              ]
             }
            ],
            "label": "-1.53",
            "method": "update"
           },
           {
            "args": [
             {
              "visible": [
               true,
               false,
               false,
               false,
               false,
               false,
               false,
               false,
               false,
               false,
               false,
               false,
               false,
               false,
               false,
               false,
               false,
               false,
               false,
               true,
               false,
               false,
               false,
               false,
               false,
               false,
               false,
               false,
               false,
               false,
               false,
               false,
               false,
               false,
               false,
               false,
               false,
               false,
               false,
               false,
               false,
               false,
               false,
               false,
               false,
               false,
               false,
               false,
               false,
               false,
               false
              ]
             }
            ],
            "label": "-1.33",
            "method": "update"
           },
           {
            "args": [
             {
              "visible": [
               true,
               false,
               false,
               false,
               false,
               false,
               false,
               false,
               false,
               false,
               false,
               false,
               false,
               false,
               false,
               false,
               false,
               false,
               false,
               false,
               true,
               false,
               false,
               false,
               false,
               false,
               false,
               false,
               false,
               false,
               false,
               false,
               false,
               false,
               false,
               false,
               false,
               false,
               false,
               false,
               false,
               false,
               false,
               false,
               false,
               false,
               false,
               false,
               false,
               false,
               false
              ]
             }
            ],
            "label": "-1.12",
            "method": "update"
           },
           {
            "args": [
             {
              "visible": [
               true,
               false,
               false,
               false,
               false,
               false,
               false,
               false,
               false,
               false,
               false,
               false,
               false,
               false,
               false,
               false,
               false,
               false,
               false,
               false,
               false,
               true,
               false,
               false,
               false,
               false,
               false,
               false,
               false,
               false,
               false,
               false,
               false,
               false,
               false,
               false,
               false,
               false,
               false,
               false,
               false,
               false,
               false,
               false,
               false,
               false,
               false,
               false,
               false,
               false,
               false
              ]
             }
            ],
            "label": "-0.92",
            "method": "update"
           },
           {
            "args": [
             {
              "visible": [
               true,
               false,
               false,
               false,
               false,
               false,
               false,
               false,
               false,
               false,
               false,
               false,
               false,
               false,
               false,
               false,
               false,
               false,
               false,
               false,
               false,
               false,
               true,
               false,
               false,
               false,
               false,
               false,
               false,
               false,
               false,
               false,
               false,
               false,
               false,
               false,
               false,
               false,
               false,
               false,
               false,
               false,
               false,
               false,
               false,
               false,
               false,
               false,
               false,
               false,
               false
              ]
             }
            ],
            "label": "-0.71",
            "method": "update"
           },
           {
            "args": [
             {
              "visible": [
               true,
               false,
               false,
               false,
               false,
               false,
               false,
               false,
               false,
               false,
               false,
               false,
               false,
               false,
               false,
               false,
               false,
               false,
               false,
               false,
               false,
               false,
               false,
               true,
               false,
               false,
               false,
               false,
               false,
               false,
               false,
               false,
               false,
               false,
               false,
               false,
               false,
               false,
               false,
               false,
               false,
               false,
               false,
               false,
               false,
               false,
               false,
               false,
               false,
               false,
               false
              ]
             }
            ],
            "label": "-0.51",
            "method": "update"
           },
           {
            "args": [
             {
              "visible": [
               true,
               false,
               false,
               false,
               false,
               false,
               false,
               false,
               false,
               false,
               false,
               false,
               false,
               false,
               false,
               false,
               false,
               false,
               false,
               false,
               false,
               false,
               false,
               false,
               true,
               false,
               false,
               false,
               false,
               false,
               false,
               false,
               false,
               false,
               false,
               false,
               false,
               false,
               false,
               false,
               false,
               false,
               false,
               false,
               false,
               false,
               false,
               false,
               false,
               false,
               false
              ]
             }
            ],
            "label": "-0.31",
            "method": "update"
           },
           {
            "args": [
             {
              "visible": [
               true,
               false,
               false,
               false,
               false,
               false,
               false,
               false,
               false,
               false,
               false,
               false,
               false,
               false,
               false,
               false,
               false,
               false,
               false,
               false,
               false,
               false,
               false,
               false,
               false,
               true,
               false,
               false,
               false,
               false,
               false,
               false,
               false,
               false,
               false,
               false,
               false,
               false,
               false,
               false,
               false,
               false,
               false,
               false,
               false,
               false,
               false,
               false,
               false,
               false,
               false
              ]
             }
            ],
            "label": "-0.10",
            "method": "update"
           },
           {
            "args": [
             {
              "visible": [
               true,
               false,
               false,
               false,
               false,
               false,
               false,
               false,
               false,
               false,
               false,
               false,
               false,
               false,
               false,
               false,
               false,
               false,
               false,
               false,
               false,
               false,
               false,
               false,
               false,
               false,
               true,
               false,
               false,
               false,
               false,
               false,
               false,
               false,
               false,
               false,
               false,
               false,
               false,
               false,
               false,
               false,
               false,
               false,
               false,
               false,
               false,
               false,
               false,
               false,
               false
              ]
             }
            ],
            "label": "0.10",
            "method": "update"
           },
           {
            "args": [
             {
              "visible": [
               true,
               false,
               false,
               false,
               false,
               false,
               false,
               false,
               false,
               false,
               false,
               false,
               false,
               false,
               false,
               false,
               false,
               false,
               false,
               false,
               false,
               false,
               false,
               false,
               false,
               false,
               false,
               true,
               false,
               false,
               false,
               false,
               false,
               false,
               false,
               false,
               false,
               false,
               false,
               false,
               false,
               false,
               false,
               false,
               false,
               false,
               false,
               false,
               false,
               false,
               false
              ]
             }
            ],
            "label": "0.31",
            "method": "update"
           },
           {
            "args": [
             {
              "visible": [
               true,
               false,
               false,
               false,
               false,
               false,
               false,
               false,
               false,
               false,
               false,
               false,
               false,
               false,
               false,
               false,
               false,
               false,
               false,
               false,
               false,
               false,
               false,
               false,
               false,
               false,
               false,
               false,
               true,
               false,
               false,
               false,
               false,
               false,
               false,
               false,
               false,
               false,
               false,
               false,
               false,
               false,
               false,
               false,
               false,
               false,
               false,
               false,
               false,
               false,
               false
              ]
             }
            ],
            "label": "0.51",
            "method": "update"
           },
           {
            "args": [
             {
              "visible": [
               true,
               false,
               false,
               false,
               false,
               false,
               false,
               false,
               false,
               false,
               false,
               false,
               false,
               false,
               false,
               false,
               false,
               false,
               false,
               false,
               false,
               false,
               false,
               false,
               false,
               false,
               false,
               false,
               false,
               true,
               false,
               false,
               false,
               false,
               false,
               false,
               false,
               false,
               false,
               false,
               false,
               false,
               false,
               false,
               false,
               false,
               false,
               false,
               false,
               false,
               false
              ]
             }
            ],
            "label": "0.71",
            "method": "update"
           },
           {
            "args": [
             {
              "visible": [
               true,
               false,
               false,
               false,
               false,
               false,
               false,
               false,
               false,
               false,
               false,
               false,
               false,
               false,
               false,
               false,
               false,
               false,
               false,
               false,
               false,
               false,
               false,
               false,
               false,
               false,
               false,
               false,
               false,
               false,
               true,
               false,
               false,
               false,
               false,
               false,
               false,
               false,
               false,
               false,
               false,
               false,
               false,
               false,
               false,
               false,
               false,
               false,
               false,
               false,
               false
              ]
             }
            ],
            "label": "0.92",
            "method": "update"
           },
           {
            "args": [
             {
              "visible": [
               true,
               false,
               false,
               false,
               false,
               false,
               false,
               false,
               false,
               false,
               false,
               false,
               false,
               false,
               false,
               false,
               false,
               false,
               false,
               false,
               false,
               false,
               false,
               false,
               false,
               false,
               false,
               false,
               false,
               false,
               false,
               true,
               false,
               false,
               false,
               false,
               false,
               false,
               false,
               false,
               false,
               false,
               false,
               false,
               false,
               false,
               false,
               false,
               false,
               false,
               false
              ]
             }
            ],
            "label": "1.12",
            "method": "update"
           },
           {
            "args": [
             {
              "visible": [
               true,
               false,
               false,
               false,
               false,
               false,
               false,
               false,
               false,
               false,
               false,
               false,
               false,
               false,
               false,
               false,
               false,
               false,
               false,
               false,
               false,
               false,
               false,
               false,
               false,
               false,
               false,
               false,
               false,
               false,
               false,
               false,
               true,
               false,
               false,
               false,
               false,
               false,
               false,
               false,
               false,
               false,
               false,
               false,
               false,
               false,
               false,
               false,
               false,
               false,
               false
              ]
             }
            ],
            "label": "1.33",
            "method": "update"
           },
           {
            "args": [
             {
              "visible": [
               true,
               false,
               false,
               false,
               false,
               false,
               false,
               false,
               false,
               false,
               false,
               false,
               false,
               false,
               false,
               false,
               false,
               false,
               false,
               false,
               false,
               false,
               false,
               false,
               false,
               false,
               false,
               false,
               false,
               false,
               false,
               false,
               false,
               true,
               false,
               false,
               false,
               false,
               false,
               false,
               false,
               false,
               false,
               false,
               false,
               false,
               false,
               false,
               false,
               false,
               false
              ]
             }
            ],
            "label": "1.53",
            "method": "update"
           },
           {
            "args": [
             {
              "visible": [
               true,
               false,
               false,
               false,
               false,
               false,
               false,
               false,
               false,
               false,
               false,
               false,
               false,
               false,
               false,
               false,
               false,
               false,
               false,
               false,
               false,
               false,
               false,
               false,
               false,
               false,
               false,
               false,
               false,
               false,
               false,
               false,
               false,
               false,
               true,
               false,
               false,
               false,
               false,
               false,
               false,
               false,
               false,
               false,
               false,
               false,
               false,
               false,
               false,
               false,
               false
              ]
             }
            ],
            "label": "1.73",
            "method": "update"
           },
           {
            "args": [
             {
              "visible": [
               true,
               false,
               false,
               false,
               false,
               false,
               false,
               false,
               false,
               false,
               false,
               false,
               false,
               false,
               false,
               false,
               false,
               false,
               false,
               false,
               false,
               false,
               false,
               false,
               false,
               false,
               false,
               false,
               false,
               false,
               false,
               false,
               false,
               false,
               false,
               true,
               false,
               false,
               false,
               false,
               false,
               false,
               false,
               false,
               false,
               false,
               false,
               false,
               false,
               false,
               false
              ]
             }
            ],
            "label": "1.94",
            "method": "update"
           },
           {
            "args": [
             {
              "visible": [
               true,
               false,
               false,
               false,
               false,
               false,
               false,
               false,
               false,
               false,
               false,
               false,
               false,
               false,
               false,
               false,
               false,
               false,
               false,
               false,
               false,
               false,
               false,
               false,
               false,
               false,
               false,
               false,
               false,
               false,
               false,
               false,
               false,
               false,
               false,
               false,
               true,
               false,
               false,
               false,
               false,
               false,
               false,
               false,
               false,
               false,
               false,
               false,
               false,
               false,
               false
              ]
             }
            ],
            "label": "2.14",
            "method": "update"
           },
           {
            "args": [
             {
              "visible": [
               true,
               false,
               false,
               false,
               false,
               false,
               false,
               false,
               false,
               false,
               false,
               false,
               false,
               false,
               false,
               false,
               false,
               false,
               false,
               false,
               false,
               false,
               false,
               false,
               false,
               false,
               false,
               false,
               false,
               false,
               false,
               false,
               false,
               false,
               false,
               false,
               false,
               true,
               false,
               false,
               false,
               false,
               false,
               false,
               false,
               false,
               false,
               false,
               false,
               false,
               false
              ]
             }
            ],
            "label": "2.35",
            "method": "update"
           },
           {
            "args": [
             {
              "visible": [
               true,
               false,
               false,
               false,
               false,
               false,
               false,
               false,
               false,
               false,
               false,
               false,
               false,
               false,
               false,
               false,
               false,
               false,
               false,
               false,
               false,
               false,
               false,
               false,
               false,
               false,
               false,
               false,
               false,
               false,
               false,
               false,
               false,
               false,
               false,
               false,
               false,
               false,
               true,
               false,
               false,
               false,
               false,
               false,
               false,
               false,
               false,
               false,
               false,
               false,
               false
              ]
             }
            ],
            "label": "2.55",
            "method": "update"
           },
           {
            "args": [
             {
              "visible": [
               true,
               false,
               false,
               false,
               false,
               false,
               false,
               false,
               false,
               false,
               false,
               false,
               false,
               false,
               false,
               false,
               false,
               false,
               false,
               false,
               false,
               false,
               false,
               false,
               false,
               false,
               false,
               false,
               false,
               false,
               false,
               false,
               false,
               false,
               false,
               false,
               false,
               false,
               false,
               true,
               false,
               false,
               false,
               false,
               false,
               false,
               false,
               false,
               false,
               false,
               false
              ]
             }
            ],
            "label": "2.76",
            "method": "update"
           },
           {
            "args": [
             {
              "visible": [
               true,
               false,
               false,
               false,
               false,
               false,
               false,
               false,
               false,
               false,
               false,
               false,
               false,
               false,
               false,
               false,
               false,
               false,
               false,
               false,
               false,
               false,
               false,
               false,
               false,
               false,
               false,
               false,
               false,
               false,
               false,
               false,
               false,
               false,
               false,
               false,
               false,
               false,
               false,
               false,
               true,
               false,
               false,
               false,
               false,
               false,
               false,
               false,
               false,
               false,
               false
              ]
             }
            ],
            "label": "2.96",
            "method": "update"
           },
           {
            "args": [
             {
              "visible": [
               true,
               false,
               false,
               false,
               false,
               false,
               false,
               false,
               false,
               false,
               false,
               false,
               false,
               false,
               false,
               false,
               false,
               false,
               false,
               false,
               false,
               false,
               false,
               false,
               false,
               false,
               false,
               false,
               false,
               false,
               false,
               false,
               false,
               false,
               false,
               false,
               false,
               false,
               false,
               false,
               false,
               true,
               false,
               false,
               false,
               false,
               false,
               false,
               false,
               false,
               false
              ]
             }
            ],
            "label": "3.16",
            "method": "update"
           },
           {
            "args": [
             {
              "visible": [
               true,
               false,
               false,
               false,
               false,
               false,
               false,
               false,
               false,
               false,
               false,
               false,
               false,
               false,
               false,
               false,
               false,
               false,
               false,
               false,
               false,
               false,
               false,
               false,
               false,
               false,
               false,
               false,
               false,
               false,
               false,
               false,
               false,
               false,
               false,
               false,
               false,
               false,
               false,
               false,
               false,
               false,
               true,
               false,
               false,
               false,
               false,
               false,
               false,
               false,
               false
              ]
             }
            ],
            "label": "3.37",
            "method": "update"
           },
           {
            "args": [
             {
              "visible": [
               true,
               false,
               false,
               false,
               false,
               false,
               false,
               false,
               false,
               false,
               false,
               false,
               false,
               false,
               false,
               false,
               false,
               false,
               false,
               false,
               false,
               false,
               false,
               false,
               false,
               false,
               false,
               false,
               false,
               false,
               false,
               false,
               false,
               false,
               false,
               false,
               false,
               false,
               false,
               false,
               false,
               false,
               false,
               true,
               false,
               false,
               false,
               false,
               false,
               false,
               false
              ]
             }
            ],
            "label": "3.57",
            "method": "update"
           },
           {
            "args": [
             {
              "visible": [
               true,
               false,
               false,
               false,
               false,
               false,
               false,
               false,
               false,
               false,
               false,
               false,
               false,
               false,
               false,
               false,
               false,
               false,
               false,
               false,
               false,
               false,
               false,
               false,
               false,
               false,
               false,
               false,
               false,
               false,
               false,
               false,
               false,
               false,
               false,
               false,
               false,
               false,
               false,
               false,
               false,
               false,
               false,
               false,
               true,
               false,
               false,
               false,
               false,
               false,
               false
              ]
             }
            ],
            "label": "3.78",
            "method": "update"
           },
           {
            "args": [
             {
              "visible": [
               true,
               false,
               false,
               false,
               false,
               false,
               false,
               false,
               false,
               false,
               false,
               false,
               false,
               false,
               false,
               false,
               false,
               false,
               false,
               false,
               false,
               false,
               false,
               false,
               false,
               false,
               false,
               false,
               false,
               false,
               false,
               false,
               false,
               false,
               false,
               false,
               false,
               false,
               false,
               false,
               false,
               false,
               false,
               false,
               false,
               true,
               false,
               false,
               false,
               false,
               false
              ]
             }
            ],
            "label": "3.98",
            "method": "update"
           },
           {
            "args": [
             {
              "visible": [
               true,
               false,
               false,
               false,
               false,
               false,
               false,
               false,
               false,
               false,
               false,
               false,
               false,
               false,
               false,
               false,
               false,
               false,
               false,
               false,
               false,
               false,
               false,
               false,
               false,
               false,
               false,
               false,
               false,
               false,
               false,
               false,
               false,
               false,
               false,
               false,
               false,
               false,
               false,
               false,
               false,
               false,
               false,
               false,
               false,
               false,
               true,
               false,
               false,
               false,
               false
              ]
             }
            ],
            "label": "4.18",
            "method": "update"
           },
           {
            "args": [
             {
              "visible": [
               true,
               false,
               false,
               false,
               false,
               false,
               false,
               false,
               false,
               false,
               false,
               false,
               false,
               false,
               false,
               false,
               false,
               false,
               false,
               false,
               false,
               false,
               false,
               false,
               false,
               false,
               false,
               false,
               false,
               false,
               false,
               false,
               false,
               false,
               false,
               false,
               false,
               false,
               false,
               false,
               false,
               false,
               false,
               false,
               false,
               false,
               false,
               true,
               false,
               false,
               false
              ]
             }
            ],
            "label": "4.39",
            "method": "update"
           },
           {
            "args": [
             {
              "visible": [
               true,
               false,
               false,
               false,
               false,
               false,
               false,
               false,
               false,
               false,
               false,
               false,
               false,
               false,
               false,
               false,
               false,
               false,
               false,
               false,
               false,
               false,
               false,
               false,
               false,
               false,
               false,
               false,
               false,
               false,
               false,
               false,
               false,
               false,
               false,
               false,
               false,
               false,
               false,
               false,
               false,
               false,
               false,
               false,
               false,
               false,
               false,
               false,
               true,
               false,
               false
              ]
             }
            ],
            "label": "4.59",
            "method": "update"
           },
           {
            "args": [
             {
              "visible": [
               true,
               false,
               false,
               false,
               false,
               false,
               false,
               false,
               false,
               false,
               false,
               false,
               false,
               false,
               false,
               false,
               false,
               false,
               false,
               false,
               false,
               false,
               false,
               false,
               false,
               false,
               false,
               false,
               false,
               false,
               false,
               false,
               false,
               false,
               false,
               false,
               false,
               false,
               false,
               false,
               false,
               false,
               false,
               false,
               false,
               false,
               false,
               false,
               false,
               true,
               false
              ]
             }
            ],
            "label": "4.80",
            "method": "update"
           },
           {
            "args": [
             {
              "visible": [
               true,
               false,
               false,
               false,
               false,
               false,
               false,
               false,
               false,
               false,
               false,
               false,
               false,
               false,
               false,
               false,
               false,
               false,
               false,
               false,
               false,
               false,
               false,
               false,
               false,
               false,
               false,
               false,
               false,
               false,
               false,
               false,
               false,
               false,
               false,
               false,
               false,
               false,
               false,
               false,
               false,
               false,
               false,
               false,
               false,
               false,
               false,
               false,
               false,
               false,
               true
              ]
             }
            ],
            "label": "5.00",
            "method": "update"
           }
          ]
         }
        ],
        "template": {
         "data": {
          "bar": [
           {
            "error_x": {
             "color": "#2a3f5f"
            },
            "error_y": {
             "color": "#2a3f5f"
            },
            "marker": {
             "line": {
              "color": "#E5ECF6",
              "width": 0.5
             },
             "pattern": {
              "fillmode": "overlay",
              "size": 10,
              "solidity": 0.2
             }
            },
            "type": "bar"
           }
          ],
          "barpolar": [
           {
            "marker": {
             "line": {
              "color": "#E5ECF6",
              "width": 0.5
             },
             "pattern": {
              "fillmode": "overlay",
              "size": 10,
              "solidity": 0.2
             }
            },
            "type": "barpolar"
           }
          ],
          "carpet": [
           {
            "aaxis": {
             "endlinecolor": "#2a3f5f",
             "gridcolor": "white",
             "linecolor": "white",
             "minorgridcolor": "white",
             "startlinecolor": "#2a3f5f"
            },
            "baxis": {
             "endlinecolor": "#2a3f5f",
             "gridcolor": "white",
             "linecolor": "white",
             "minorgridcolor": "white",
             "startlinecolor": "#2a3f5f"
            },
            "type": "carpet"
           }
          ],
          "choropleth": [
           {
            "colorbar": {
             "outlinewidth": 0,
             "ticks": ""
            },
            "type": "choropleth"
           }
          ],
          "contour": [
           {
            "colorbar": {
             "outlinewidth": 0,
             "ticks": ""
            },
            "colorscale": [
             [
              0,
              "#0d0887"
             ],
             [
              0.1111111111111111,
              "#46039f"
             ],
             [
              0.2222222222222222,
              "#7201a8"
             ],
             [
              0.3333333333333333,
              "#9c179e"
             ],
             [
              0.4444444444444444,
              "#bd3786"
             ],
             [
              0.5555555555555556,
              "#d8576b"
             ],
             [
              0.6666666666666666,
              "#ed7953"
             ],
             [
              0.7777777777777778,
              "#fb9f3a"
             ],
             [
              0.8888888888888888,
              "#fdca26"
             ],
             [
              1,
              "#f0f921"
             ]
            ],
            "type": "contour"
           }
          ],
          "contourcarpet": [
           {
            "colorbar": {
             "outlinewidth": 0,
             "ticks": ""
            },
            "type": "contourcarpet"
           }
          ],
          "heatmap": [
           {
            "colorbar": {
             "outlinewidth": 0,
             "ticks": ""
            },
            "colorscale": [
             [
              0,
              "#0d0887"
             ],
             [
              0.1111111111111111,
              "#46039f"
             ],
             [
              0.2222222222222222,
              "#7201a8"
             ],
             [
              0.3333333333333333,
              "#9c179e"
             ],
             [
              0.4444444444444444,
              "#bd3786"
             ],
             [
              0.5555555555555556,
              "#d8576b"
             ],
             [
              0.6666666666666666,
              "#ed7953"
             ],
             [
              0.7777777777777778,
              "#fb9f3a"
             ],
             [
              0.8888888888888888,
              "#fdca26"
             ],
             [
              1,
              "#f0f921"
             ]
            ],
            "type": "heatmap"
           }
          ],
          "histogram": [
           {
            "marker": {
             "pattern": {
              "fillmode": "overlay",
              "size": 10,
              "solidity": 0.2
             }
            },
            "type": "histogram"
           }
          ],
          "histogram2d": [
           {
            "colorbar": {
             "outlinewidth": 0,
             "ticks": ""
            },
            "colorscale": [
             [
              0,
              "#0d0887"
             ],
             [
              0.1111111111111111,
              "#46039f"
             ],
             [
              0.2222222222222222,
              "#7201a8"
             ],
             [
              0.3333333333333333,
              "#9c179e"
             ],
             [
              0.4444444444444444,
              "#bd3786"
             ],
             [
              0.5555555555555556,
              "#d8576b"
             ],
             [
              0.6666666666666666,
              "#ed7953"
             ],
             [
              0.7777777777777778,
              "#fb9f3a"
             ],
             [
              0.8888888888888888,
              "#fdca26"
             ],
             [
              1,
              "#f0f921"
             ]
            ],
            "type": "histogram2d"
           }
          ],
          "histogram2dcontour": [
           {
            "colorbar": {
             "outlinewidth": 0,
             "ticks": ""
            },
            "colorscale": [
             [
              0,
              "#0d0887"
             ],
             [
              0.1111111111111111,
              "#46039f"
             ],
             [
              0.2222222222222222,
              "#7201a8"
             ],
             [
              0.3333333333333333,
              "#9c179e"
             ],
             [
              0.4444444444444444,
              "#bd3786"
             ],
             [
              0.5555555555555556,
              "#d8576b"
             ],
             [
              0.6666666666666666,
              "#ed7953"
             ],
             [
              0.7777777777777778,
              "#fb9f3a"
             ],
             [
              0.8888888888888888,
              "#fdca26"
             ],
             [
              1,
              "#f0f921"
             ]
            ],
            "type": "histogram2dcontour"
           }
          ],
          "mesh3d": [
           {
            "colorbar": {
             "outlinewidth": 0,
             "ticks": ""
            },
            "type": "mesh3d"
           }
          ],
          "parcoords": [
           {
            "line": {
             "colorbar": {
              "outlinewidth": 0,
              "ticks": ""
             }
            },
            "type": "parcoords"
           }
          ],
          "pie": [
           {
            "automargin": true,
            "type": "pie"
           }
          ],
          "scatter": [
           {
            "fillpattern": {
             "fillmode": "overlay",
             "size": 10,
             "solidity": 0.2
            },
            "type": "scatter"
           }
          ],
          "scatter3d": [
           {
            "line": {
             "colorbar": {
              "outlinewidth": 0,
              "ticks": ""
             }
            },
            "marker": {
             "colorbar": {
              "outlinewidth": 0,
              "ticks": ""
             }
            },
            "type": "scatter3d"
           }
          ],
          "scattercarpet": [
           {
            "marker": {
             "colorbar": {
              "outlinewidth": 0,
              "ticks": ""
             }
            },
            "type": "scattercarpet"
           }
          ],
          "scattergeo": [
           {
            "marker": {
             "colorbar": {
              "outlinewidth": 0,
              "ticks": ""
             }
            },
            "type": "scattergeo"
           }
          ],
          "scattergl": [
           {
            "marker": {
             "colorbar": {
              "outlinewidth": 0,
              "ticks": ""
             }
            },
            "type": "scattergl"
           }
          ],
          "scattermap": [
           {
            "marker": {
             "colorbar": {
              "outlinewidth": 0,
              "ticks": ""
             }
            },
            "type": "scattermap"
           }
          ],
          "scattermapbox": [
           {
            "marker": {
             "colorbar": {
              "outlinewidth": 0,
              "ticks": ""
             }
            },
            "type": "scattermapbox"
           }
          ],
          "scatterpolar": [
           {
            "marker": {
             "colorbar": {
              "outlinewidth": 0,
              "ticks": ""
             }
            },
            "type": "scatterpolar"
           }
          ],
          "scatterpolargl": [
           {
            "marker": {
             "colorbar": {
              "outlinewidth": 0,
              "ticks": ""
             }
            },
            "type": "scatterpolargl"
           }
          ],
          "scatterternary": [
           {
            "marker": {
             "colorbar": {
              "outlinewidth": 0,
              "ticks": ""
             }
            },
            "type": "scatterternary"
           }
          ],
          "surface": [
           {
            "colorbar": {
             "outlinewidth": 0,
             "ticks": ""
            },
            "colorscale": [
             [
              0,
              "#0d0887"
             ],
             [
              0.1111111111111111,
              "#46039f"
             ],
             [
              0.2222222222222222,
              "#7201a8"
             ],
             [
              0.3333333333333333,
              "#9c179e"
             ],
             [
              0.4444444444444444,
              "#bd3786"
             ],
             [
              0.5555555555555556,
              "#d8576b"
             ],
             [
              0.6666666666666666,
              "#ed7953"
             ],
             [
              0.7777777777777778,
              "#fb9f3a"
             ],
             [
              0.8888888888888888,
              "#fdca26"
             ],
             [
              1,
              "#f0f921"
             ]
            ],
            "type": "surface"
           }
          ],
          "table": [
           {
            "cells": {
             "fill": {
              "color": "#EBF0F8"
             },
             "line": {
              "color": "white"
             }
            },
            "header": {
             "fill": {
              "color": "#C8D4E3"
             },
             "line": {
              "color": "white"
             }
            },
            "type": "table"
           }
          ]
         },
         "layout": {
          "annotationdefaults": {
           "arrowcolor": "#2a3f5f",
           "arrowhead": 0,
           "arrowwidth": 1
          },
          "autotypenumbers": "strict",
          "coloraxis": {
           "colorbar": {
            "outlinewidth": 0,
            "ticks": ""
           }
          },
          "colorscale": {
           "diverging": [
            [
             0,
             "#8e0152"
            ],
            [
             0.1,
             "#c51b7d"
            ],
            [
             0.2,
             "#de77ae"
            ],
            [
             0.3,
             "#f1b6da"
            ],
            [
             0.4,
             "#fde0ef"
            ],
            [
             0.5,
             "#f7f7f7"
            ],
            [
             0.6,
             "#e6f5d0"
            ],
            [
             0.7,
             "#b8e186"
            ],
            [
             0.8,
             "#7fbc41"
            ],
            [
             0.9,
             "#4d9221"
            ],
            [
             1,
             "#276419"
            ]
           ],
           "sequential": [
            [
             0,
             "#0d0887"
            ],
            [
             0.1111111111111111,
             "#46039f"
            ],
            [
             0.2222222222222222,
             "#7201a8"
            ],
            [
             0.3333333333333333,
             "#9c179e"
            ],
            [
             0.4444444444444444,
             "#bd3786"
            ],
            [
             0.5555555555555556,
             "#d8576b"
            ],
            [
             0.6666666666666666,
             "#ed7953"
            ],
            [
             0.7777777777777778,
             "#fb9f3a"
            ],
            [
             0.8888888888888888,
             "#fdca26"
            ],
            [
             1,
             "#f0f921"
            ]
           ],
           "sequentialminus": [
            [
             0,
             "#0d0887"
            ],
            [
             0.1111111111111111,
             "#46039f"
            ],
            [
             0.2222222222222222,
             "#7201a8"
            ],
            [
             0.3333333333333333,
             "#9c179e"
            ],
            [
             0.4444444444444444,
             "#bd3786"
            ],
            [
             0.5555555555555556,
             "#d8576b"
            ],
            [
             0.6666666666666666,
             "#ed7953"
            ],
            [
             0.7777777777777778,
             "#fb9f3a"
            ],
            [
             0.8888888888888888,
             "#fdca26"
            ],
            [
             1,
             "#f0f921"
            ]
           ]
          },
          "colorway": [
           "#636efa",
           "#EF553B",
           "#00cc96",
           "#ab63fa",
           "#FFA15A",
           "#19d3f3",
           "#FF6692",
           "#B6E880",
           "#FF97FF",
           "#FECB52"
          ],
          "font": {
           "color": "#2a3f5f"
          },
          "geo": {
           "bgcolor": "white",
           "lakecolor": "white",
           "landcolor": "#E5ECF6",
           "showlakes": true,
           "showland": true,
           "subunitcolor": "white"
          },
          "hoverlabel": {
           "align": "left"
          },
          "hovermode": "closest",
          "mapbox": {
           "style": "light"
          },
          "paper_bgcolor": "white",
          "plot_bgcolor": "#E5ECF6",
          "polar": {
           "angularaxis": {
            "gridcolor": "white",
            "linecolor": "white",
            "ticks": ""
           },
           "bgcolor": "#E5ECF6",
           "radialaxis": {
            "gridcolor": "white",
            "linecolor": "white",
            "ticks": ""
           }
          },
          "scene": {
           "xaxis": {
            "backgroundcolor": "#E5ECF6",
            "gridcolor": "white",
            "gridwidth": 2,
            "linecolor": "white",
            "showbackground": true,
            "ticks": "",
            "zerolinecolor": "white"
           },
           "yaxis": {
            "backgroundcolor": "#E5ECF6",
            "gridcolor": "white",
            "gridwidth": 2,
            "linecolor": "white",
            "showbackground": true,
            "ticks": "",
            "zerolinecolor": "white"
           },
           "zaxis": {
            "backgroundcolor": "#E5ECF6",
            "gridcolor": "white",
            "gridwidth": 2,
            "linecolor": "white",
            "showbackground": true,
            "ticks": "",
            "zerolinecolor": "white"
           }
          },
          "shapedefaults": {
           "line": {
            "color": "#2a3f5f"
           }
          },
          "ternary": {
           "aaxis": {
            "gridcolor": "white",
            "linecolor": "white",
            "ticks": ""
           },
           "baxis": {
            "gridcolor": "white",
            "linecolor": "white",
            "ticks": ""
           },
           "bgcolor": "#E5ECF6",
           "caxis": {
            "gridcolor": "white",
            "linecolor": "white",
            "ticks": ""
           }
          },
          "title": {
           "x": 0.05
          },
          "xaxis": {
           "automargin": true,
           "gridcolor": "white",
           "linecolor": "white",
           "ticks": "",
           "title": {
            "standoff": 15
           },
           "zerolinecolor": "white",
           "zerolinewidth": 2
          },
          "yaxis": {
           "automargin": true,
           "gridcolor": "white",
           "linecolor": "white",
           "ticks": "",
           "title": {
            "standoff": 15
           },
           "zerolinecolor": "white",
           "zerolinewidth": 2
          }
         }
        },
        "title": {
         "text": "Interactive Torus Cross-Sections<br><sub>Use slider to explore different Z-levels</sub>"
        },
        "width": 800
       }
      }
     },
     "metadata": {},
     "output_type": "display_data"
    }
   ],
   "source": [
    "# Interactive slice through the torus - great for seeing the ring structure\n",
    "fig_torus_slice = visualize_mesh_slice_interactive(\n",
    "    torus,\n",
    "    title=\"Interactive Torus Cross-Sections\",\n",
    "    slice_color=\"blue\",\n",
    "    mesh_color=\"purple\",\n",
    "    mesh_opacity=0.3\n",
    ")\n",
    "fig_torus_slice.show()"
   ]
  },
  {
   "cell_type": "markdown",
   "id": "19108d64",
   "metadata": {},
   "source": [
    "## 9. Saving Meshes\n",
    "\n",
    "Finally, let's save our meshes to files for later use:"
   ]
  },
  {
   "cell_type": "code",
   "execution_count": 17,
   "id": "94ae9be0",
   "metadata": {},
   "outputs": [
    {
     "name": "stdout",
     "output_type": "stream",
     "text": [
      "💾 Saved cylinder mesh to: data/mesh/cylinder.stl\n",
      "💾 Saved torus mesh to: data/mesh/torus.stl\n",
      "💾 Saved y_branch mesh to: data/mesh/y_branch.stl\n",
      "💾 Saved multi_branch mesh to: data/mesh/multi_branch.stl\n",
      "💾 Saved neuron mesh to: data/mesh/neuron.stl\n",
      "\n",
      "✅ All 5 demo meshes saved successfully!\n"
     ]
    }
   ],
   "source": [
    "# Save meshes to files\n",
    "import os\n",
    "\n",
    "# Create output directory\n",
    "output_dir = \"data/mesh\"\n",
    "os.makedirs(output_dir, exist_ok=True)\n",
    "\n",
    "# Save each mesh\n",
    "mesh_files = {\n",
    "    \"cylinder\": cylinder,\n",
    "    \"torus\": torus,\n",
    "    \"y_branch\": y_branch,\n",
    "    \"multi_branch\": multi_branch,\n",
    "    \"neuron\": neuron\n",
    "}\n",
    "\n",
    "saved_files = []\n",
    "for name, mesh in mesh_files.items():\n",
    "    filename = f\"{output_dir}/{name}.stl\"\n",
    "    mesh.export(filename)\n",
    "    saved_files.append(filename)\n",
    "    print(f\"💾 Saved {name} mesh to: {filename}\")\n",
    "\n",
    "print(f\"\\n✅ All {len(saved_files)} demo meshes saved successfully!\")"
   ]
  },
  {
   "cell_type": "markdown",
   "id": "47fc026b",
   "metadata": {},
   "source": [
    "## Summary\n",
    "\n",
    "In this tutorial, we've learned how to:\n",
    "\n",
    "1. **Create simple cylinder meshes** representing neuronal processes\n",
    "2. **Generate torus meshes** for ring-like structures\n",
    "3. **Build branching structures** like dendritic trees\n",
    "4. **Create complete neuron models** with soma, dendrites, and axon\n",
    "5. **Visualize meshes in 3D** using Plotly\n",
    "6. **Analyze mesh properties** like volume and surface area\n",
    "7. **Compare mesh sizes** in side-by-side visualizations\n",
    "8. **Explore internal structure** using interactive slice visualizations\n",
    "9. **Save meshes to files** for later use\n",
    "\n",
    "These basic building blocks can be combined and modified to create more complex neuronal morphologies for computational modeling and analysis.\n",
    "\n",
    "## Next Steps\n",
    "\n",
    "- Explore the `MeshProcessor` class for advanced mesh operations\n",
    "- Learn about mesh repair and smoothing techniques\n",
    "- Try creating custom geometries with different parameters\n",
    "- Use slice visualizations to understand complex mesh internals\n",
    "- Investigate mesh-based compartmental modeling workflows"
   ]
  }
 ],
 "metadata": {
  "kernelspec": {
   "display_name": "gencomo",
   "language": "python",
   "name": "python3"
  },
  "language_info": {
   "codemirror_mode": {
    "name": "ipython",
    "version": 3
   },
   "file_extension": ".py",
   "mimetype": "text/x-python",
   "name": "python",
   "nbconvert_exporter": "python",
   "pygments_lexer": "ipython3",
   "version": "3.12.8"
  }
 },
 "nbformat": 4,
 "nbformat_minor": 5
}
