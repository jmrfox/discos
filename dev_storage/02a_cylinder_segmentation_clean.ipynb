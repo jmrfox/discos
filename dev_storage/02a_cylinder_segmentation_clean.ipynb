{
 "cells": [
  {
   "cell_type": "markdown",
   "id": "a55833d8",
   "metadata": {},
   "source": [
    "# 02a - Cylinder Segmentation Demo\n",
    "\n",
    "This notebook demonstrates mesh segmentation using a simple cylinder geometry. The cylinder represents the simplest case with genus = 0 (no holes).\n",
    "\n",
    "**Part of the GenCoMo Demo Series** - [Return to Index](01_tutorial_index.ipynb)"
   ]
  },
  {
   "cell_type": "code",
   "execution_count": null,
   "id": "e2211fe5",
   "metadata": {},
   "outputs": [],
   "source": [
    "import numpy as np\n",
    "import trimesh\n",
    "from gencomo.demos import create_cylinder_mesh\n",
    "from gencomo.segmentation import MeshSegmenter\n",
    "from gencomo.visualization import visualize_mesh_3d"
   ]
  },
  {
   "cell_type": "markdown",
   "id": "e069eb4d",
   "metadata": {},
   "source": [
    "## Create and Visualize Cylinder"
   ]
  },
  {
   "cell_type": "code",
   "execution_count": null,
   "id": "c2581939",
   "metadata": {},
   "outputs": [],
   "source": [
    "# Create a cylinder mesh for testing\n",
    "radius = 1.0\n",
    "length = 2.0\n",
    "cylinder = create_cylinder_mesh(radius=radius, length=length, resolution=32)\n",
    "\n",
    "print(f\"Cylinder properties:\")\n",
    "print(f\"  Volume: {cylinder.volume:.3f} (theoretical: {np.pi * radius**2 * length:.3f})\")\n",
    "print(f\"  Surface area: {cylinder.area:.3f} (theoretical: {2 * np.pi * radius * (radius + length):.3f})\")\n",
    "print(f\"  Z-bounds: [{cylinder.bounds[0, 2]:.1f}, {cylinder.bounds[1, 2]:.1f}]\")\n",
    "\n",
    "# Visualize the original cylinder\n",
    "fig = visualize_mesh_3d(cylinder, title=\"Original Cylinder\", backend=\"plotly\")\n",
    "fig.show()"
   ]
  },
  {
   "cell_type": "markdown",
   "id": "9af8b0a6",
   "metadata": {},
   "source": [
    "## Segment the Mesh"
   ]
  },
  {
   "cell_type": "code",
   "execution_count": null,
   "id": "ac6ac90d",
   "metadata": {},
   "outputs": [],
   "source": [
    "# Create segmenter and segment the mesh\n",
    "slice_width = 0.5\n",
    "segmenter = MeshSegmenter()\n",
    "segments = segmenter.segment_mesh(cylinder, slice_width=slice_width, min_volume=0.01)\n",
    "\n",
    "print(f\"Segmentation complete!\")\n",
    "print(f\"Total segments: {len(segments)}\")\n",
    "print(f\"Total slices: {len(segmenter.slices)}\")"
   ]
  },
  {
   "cell_type": "markdown",
   "id": "3c68d16b",
   "metadata": {},
   "source": [
    "## Analyze Segmentation Results"
   ]
  },
  {
   "cell_type": "code",
   "execution_count": null,
   "id": "c2039318",
   "metadata": {},
   "outputs": [],
   "source": [
    "# Show segments per slice\n",
    "print(\"Segments per slice:\")\n",
    "for i in range(len(segmenter.slices)):\n",
    "    slice_segments = segmenter.get_segments_in_slice(i)\n",
    "    print(f\"  Slice {i}: {len(slice_segments)} segments\")\n",
    "\n",
    "# Get statistics\n",
    "stats = segmenter.compute_segmentation_statistics()\n",
    "print(f\"\\nSegmentation statistics:\")\n",
    "print(f\"  Total volume: {stats['volume_stats']['total']:.4f}\")\n",
    "print(f\"  Mean segment volume: {stats['volume_stats']['mean']:.4f}\")\n",
    "print(f\"  Connected components: {stats['connected_components']}\")"
   ]
  },
  {
   "cell_type": "code",
   "execution_count": null,
   "id": "8fb5ad0a",
   "metadata": {},
   "outputs": [],
   "source": [
    "# Detailed segment analysis\n",
    "print(\"Detailed segment properties:\")\n",
    "print(\"-\" * 80)\n",
    "\n",
    "for i, seg in enumerate(segments):\n",
    "    # Determine segment type based on position\n",
    "    is_end_segment = seg.slice_index == 0 or seg.slice_index == len(segmenter.slices) - 1\n",
    "    segment_type = \"End\" if is_end_segment else \"Middle\"\n",
    "    \n",
    "    print(f\"Segment {i+1} ({segment_type}):\")\n",
    "    print(f\"  ID: {seg.id}\")\n",
    "    print(f\"  Slice Index: {seg.slice_index}\")\n",
    "    print(f\"  Volume: {seg.volume:.4f}\")\n",
    "    print(f\"  Exterior Surface Area: {seg.exterior_surface_area:.4f}\")\n",
    "    print(f\"  Interior Surface Area: {seg.interior_surface_area:.4f}\")\n",
    "    print(f\"  Centroid: [{seg.centroid[0]:.2f}, {seg.centroid[1]:.2f}, {seg.centroid[2]:.2f}]\")\n",
    "    print(f\"  Z Range: [{seg.z_min:.3f}, {seg.z_max:.3f}] (width: {seg.z_max - seg.z_min:.3f})\")\n",
    "    print()"
   ]
  },
  {
   "cell_type": "markdown",
   "id": "5063226b",
   "metadata": {},
   "source": [
    "## Theoretical Validation"
   ]
  },
  {
   "cell_type": "code",
   "execution_count": null,
   "id": "d8f1b9a3",
   "metadata": {},
   "outputs": [],
   "source": [
    "# Validate segmentation against theoretical values\n",
    "print(\"=== THEORETICAL VALIDATION ===\")\n",
    "\n",
    "# Theoretical calculations for r=1, h=2, slice_width=0.5\n",
    "r = radius\n",
    "h = length\n",
    "expected_segments = int(h / slice_width)\n",
    "\n",
    "# Expected values per segment\n",
    "expected_volume_per_segment = np.pi * r**2 * slice_width  # π * r² * slice_width\n",
    "expected_end_interior = np.pi * r**2  # One circular cut face\n",
    "expected_end_exterior = np.pi * r**2 + 2 * np.pi * r * slice_width  # End cap + side\n",
    "expected_middle_interior = 2 * np.pi * r**2  # Two circular cut faces\n",
    "expected_middle_exterior = 2 * np.pi * r * slice_width  # Side area only\n",
    "\n",
    "print(f\"Expected values:\")\n",
    "print(f\"  Number of segments: {expected_segments}\")\n",
    "print(f\"  Volume per segment: {expected_volume_per_segment:.4f}\")\n",
    "print(f\"  End segments - Interior: {expected_end_interior:.4f}, Exterior: {expected_end_exterior:.4f}\")\n",
    "print(f\"  Middle segments - Interior: {expected_middle_interior:.4f}, Exterior: {expected_middle_exterior:.4f}\")\n",
    "print()\n",
    "\n",
    "# Check volume conservation\n",
    "total_volume_segments = sum(seg.volume for seg in segments)\n",
    "volume_error = abs(total_volume_segments - cylinder.volume) / cylinder.volume * 100\n",
    "\n",
    "print(f\"Volume conservation:\")\n",
    "print(f\"  Original cylinder volume: {cylinder.volume:.4f}\")\n",
    "print(f\"  Sum of segment volumes: {total_volume_segments:.4f}\")\n",
    "print(f\"  Conservation error: {volume_error:.2f}%\")\n",
    "\n",
    "# Check individual segment accuracy\n",
    "print(f\"\\nIndividual segment validation:\")\n",
    "all_segments_valid = True\n",
    "\n",
    "for i, seg in enumerate(segments):\n",
    "    is_end = seg.slice_index == 0 or seg.slice_index == len(segmenter.slices) - 1\n",
    "    expected_interior = expected_end_interior if is_end else expected_middle_interior\n",
    "    expected_exterior = expected_end_exterior if is_end else expected_middle_exterior\n",
    "    \n",
    "    volume_error = abs(seg.volume - expected_volume_per_segment) / expected_volume_per_segment * 100\n",
    "    interior_error = abs(seg.interior_surface_area - expected_interior) / expected_interior * 100\n",
    "    exterior_error = abs(seg.exterior_surface_area - expected_exterior) / expected_exterior * 100\n",
    "    \n",
    "    segment_valid = volume_error < 5 and interior_error < 10 and exterior_error < 10\n",
    "    status = \"✅\" if segment_valid else \"❌\"\n",
    "    \n",
    "    print(f\"  Segment {i+1}: Vol {volume_error:.1f}%, Int {interior_error:.1f}%, Ext {exterior_error:.1f}% {status}\")\n",
    "    \n",
    "    if not segment_valid:\n",
    "        all_segments_valid = False\n",
    "\n",
    "# Overall assessment\n",
    "print(f\"\\n=== VALIDATION SUMMARY ===\")\n",
    "if volume_error < 1 and all_segments_valid and len(segments) == expected_segments:\n",
    "    print(\"✅ SEGMENTATION ALGORITHM VALIDATION PASSED\")\n",
    "    print(\"   Volume conservation: EXCELLENT\")\n",
    "    print(\"   Surface area classification: CORRECT\")\n",
    "    print(\"   Individual segment accuracy: GOOD\")\n",
    "else:\n",
    "    print(\"❌ SEGMENTATION ALGORITHM VALIDATION FAILED\")\n",
    "    if volume_error >= 1:\n",
    "        print(f\"   Volume conservation error: {volume_error:.2f}% (should be < 1%)\")\n",
    "    if not all_segments_valid:\n",
    "        print(\"   Some segments have accuracy issues\")\n",
    "    if len(segments) != expected_segments:\n",
    "        print(f\"   Wrong number of segments: got {len(segments)}, expected {expected_segments}\")"
   ]
  },
  {
   "cell_type": "markdown",
   "id": "743c2fcc",
   "metadata": {},
   "source": [
    "## Visualize Connectivity"
   ]
  },
  {
   "cell_type": "code",
   "execution_count": null,
   "id": "7c71a4b4",
   "metadata": {},
   "outputs": [],
   "source": [
    "# Visualize connectivity in 3D space\n",
    "try:\n",
    "    segmenter.visualize_connectivity_graph_3d(backend=\"plotly\")\n",
    "except Exception as e:\n",
    "    print(f\"Visualization not available: {e}\")\n",
    "    print(\"You can install plotly for 3D visualization: pip install plotly\")"
   ]
  },
  {
   "cell_type": "markdown",
   "id": "4272b6fd",
   "metadata": {},
   "source": [
    "## Summary\n",
    "\n",
    "The cylinder segmentation demonstrates:\n",
    "\n",
    "- **Simple topology**: Each slice contains one segment (genus = 0)\n",
    "- **Linear connectivity**: Segments connect sequentially along the z-axis  \n",
    "- **Accurate volume conservation**: Total volume is preserved during segmentation\n",
    "- **Correct surface area classification**: Interior (cut) vs exterior (original) surfaces\n",
    "- **Predictable geometry**: Results match theoretical calculations\n",
    "\n",
    "This represents the baseline case for mesh segmentation and validates the core algorithm functionality."
   ]
  }
 ],
 "metadata": {
  "language_info": {
   "name": "python"
  }
 },
 "nbformat": 4,
 "nbformat_minor": 5
}
