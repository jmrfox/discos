{
 "cells": [
  {
   "cell_type": "markdown",
   "id": "1b53fa15",
   "metadata": {},
   "source": [
    "# 02b - Torus Segmentation Demo\n",
    "\n",
    "This notebook demonstrates mesh segmentation using a torus geometry. The torus has genus = 1 (one hole), which creates multiple segments in middle slices.\n",
    "\n",
    "**Part of the GenCoMo Tutorial Series** - [Return to Index](01_tutorial_index.ipynb)"
   ]
  },
  {
   "cell_type": "code",
   "execution_count": null,
   "id": "754a0349",
   "metadata": {},
   "outputs": [],
   "source": [
    "import numpy as np\n",
    "import trimesh\n",
    "from gencomo import create_torus_mesh, MeshSegmenter, visualize_mesh_3d"
   ]
  },
  {
   "cell_type": "markdown",
   "id": "bd3d3597",
   "metadata": {},
   "source": [
    "## Create and Visualize Torus"
   ]
  },
  {
   "cell_type": "code",
   "execution_count": null,
   "id": "d1b78d68",
   "metadata": {},
   "outputs": [],
   "source": [
    "# Create a torus mesh\n",
    "torus = create_torus_mesh(major_radius=3.0, minor_radius=1.0, major_segments=24, minor_segments=12)\n",
    "\n",
    "# Rotate so the torus lies on its side (ensures slices through the hole)\n",
    "torus.apply_transform(trimesh.transformations.rotation_matrix(\n",
    "    angle=np.pi / 2,\n",
    "    direction=[1, 0, 0],\n",
    "    point=torus.centroid\n",
    "))\n",
    "\n",
    "print(f\"Torus properties:\")\n",
    "print(f\"  Volume: {torus.volume:.3f}\")\n",
    "print(f\"  Surface area: {torus.area:.3f}\")\n",
    "print(f\"  Z-bounds: {torus.bounds[:, 2]}\")\n",
    "\n",
    "# Visualize the original torus\n",
    "fig = visualize_mesh_3d(torus, title=\"Original Torus\", backend=\"plotly\")\n",
    "fig.show()"
   ]
  },
  {
   "cell_type": "markdown",
   "id": "7e278d4c",
   "metadata": {},
   "source": [
    "## Segment the Mesh"
   ]
  },
  {
   "cell_type": "code",
   "execution_count": null,
   "id": "ece4a6a3",
   "metadata": {},
   "outputs": [],
   "source": [
    "# Create segmenter and segment the mesh\n",
    "segmenter = MeshSegmenter()\n",
    "segments = segmenter.segment_mesh(torus, slice_width=0.8, min_volume=0.1)\n",
    "\n",
    "print(f\"Segmentation complete!\")\n",
    "print(f\"Total segments: {len(segments)}\")\n",
    "print(f\"Total slices: {len(segmenter.slices)}\")"
   ]
  },
  {
   "cell_type": "markdown",
   "id": "9a8e759c",
   "metadata": {},
   "source": [
    "## Analyze Segments"
   ]
  },
  {
   "cell_type": "code",
   "execution_count": null,
   "id": "faa5ad8b",
   "metadata": {},
   "outputs": [],
   "source": [
    "# Show segments per slice - should reveal multiple segments in middle slices\n",
    "print(\"Segments per slice:\")\n",
    "for i in range(len(segmenter.slices)):\n",
    "    slice_segments = segmenter.get_segments_in_slice(i)\n",
    "    print(f\"  Slice {i}: {len(slice_segments)} segments\")\n",
    "    if len(slice_segments) > 1:\n",
    "        print(f\"    -> Multiple segments detected (due to torus hole)\")\n",
    "\n",
    "# Analyze connectivity\n",
    "connected_components = segmenter.get_connected_components()\n",
    "print(f\"\\nConnected components: {len(connected_components)}\")\n",
    "for i, component in enumerate(connected_components):\n",
    "    print(f\"  Component {i+1}: {len(component)} segments\")\n",
    "\n",
    "# Get statistics\n",
    "stats = segmenter.compute_segmentation_statistics()\n",
    "print(f\"\\nTotal volume: {stats['volume_stats']['total']:.4f}\")\n",
    "print(f\"Mean segment volume: {stats['volume_stats']['mean']:.4f}\")"
   ]
  },
  {
   "cell_type": "markdown",
   "id": "b9d9076e",
   "metadata": {},
   "source": [
    "## 3D Connectivity Visualization"
   ]
  },
  {
   "cell_type": "code",
   "execution_count": null,
   "id": "3dc1f99e",
   "metadata": {},
   "outputs": [],
   "source": [
    "# Visualize connectivity in 3D space - should show ring structure\n",
    "segmenter.visualize_connectivity_graph_3d(backend=\"plotly\")"
   ]
  },
  {
   "cell_type": "markdown",
   "id": "881f50c2",
   "metadata": {},
   "source": [
    "## Summary\n",
    "\n",
    "The torus segmentation demonstrates:\n",
    "- **Complex topology**: Middle slices contain multiple segments due to the hole\n",
    "- **Ring connectivity**: Segments form a circular arrangement in 3D space\n",
    "- **Genus = 1 handling**: Algorithm correctly identifies separate connected components within slices\n",
    "- **Spatial relationships**: 3D visualization reveals the donut structure\n",
    "\n",
    "This showcases the algorithm's ability to handle complex topologies with holes."
   ]
  }
 ],
 "metadata": {
  "language_info": {
   "name": "python"
  }
 },
 "nbformat": 4,
 "nbformat_minor": 5
}
