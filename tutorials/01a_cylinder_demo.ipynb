{
 "cells": [
  {
   "cell_type": "markdown",
   "id": "28f52917",
   "metadata": {},
   "source": [
    "# GenCoMo Tutorial: Cylinder Mesh Demo\n",
    "\n",
    "This tutorial shows how to create and visualize simple cylindrical mesh geometries using GenCoMo. Cylinders are the most basic building blocks for representing neuronal processes like axons and dendrites.\n",
    "\n",
    "## What You'll Learn\n",
    "\n",
    "- Create cylinder meshes with different parameters\n",
    "- Visualize cylinders in 3D with proper aspect ratios\n",
    "- Explore cylinder cross-sections interactively\n",
    "- Analyze mesh properties like volume and surface area"
   ]
  },
  {
   "cell_type": "markdown",
   "id": "7039df37",
   "metadata": {},
   "source": [
    "## Setup\n",
    "\n",
    "First, let's import the necessary libraries:"
   ]
  },
  {
   "cell_type": "code",
   "execution_count": 1,
   "id": "fa6f7213",
   "metadata": {},
   "outputs": [
    {
     "name": "stdout",
     "output_type": "stream",
     "text": [
      "Jupyter environment detected. Enabling Open3D WebVisualizer.\n",
      "[Open3D INFO] WebRTC GUI backend enabled.\n",
      "[Open3D INFO] WebRTCWindowSystem: HTTP handshake server disabled.\n",
      "✅ Libraries imported successfully!\n"
     ]
    }
   ],
   "source": [
    "import numpy as np\n",
    "import trimesh\n",
    "import plotly.graph_objects as go\n",
    "\n",
    "# Import GenCoMo functions\n",
    "from gencomo.demos import create_cylinder_mesh\n",
    "from gencomo.mesh import (\n",
    "    visualize_mesh_3d, \n",
    "    analyze_mesh_properties, \n",
    "    visualize_mesh_slice_interactive\n",
    ")\n",
    "\n",
    "print(\"✅ Libraries imported successfully!\")"
   ]
  },
  {
   "cell_type": "markdown",
   "id": "acc3f452",
   "metadata": {},
   "source": [
    "## Creating Basic Cylinders\n",
    "\n",
    "Let's start by creating a simple cylinder representing a neuronal process:"
   ]
  },
  {
   "cell_type": "code",
   "execution_count": 2,
   "id": "4f0e4568",
   "metadata": {},
   "outputs": [
    {
     "name": "stdout",
     "output_type": "stream",
     "text": [
      "Created cylinder with 34 vertices and 64 faces\n",
      "Volume: 7653.67 μm³\n",
      "Surface area: 3274.52 μm²\n"
     ]
    }
   ],
   "source": [
    "# Create a basic cylinder mesh\n",
    "cylinder = create_cylinder_mesh(\n",
    "    length=100.0,    # 100 micrometers long\n",
    "    radius=5.0,      # 5 micrometers radius\n",
    "    resolution=16,   # 16 sides for smooth appearance\n",
    "    axis='z'         # oriented along z-axis\n",
    ")\n",
    "\n",
    "print(f\"Created cylinder with {len(cylinder.vertices)} vertices and {len(cylinder.faces)} faces\")\n",
    "print(f\"Volume: {cylinder.volume:.2f} μm³\")\n",
    "print(f\"Surface area: {cylinder.area:.2f} μm²\")"
   ]
  },
  {
   "cell_type": "markdown",
   "id": "82e88070",
   "metadata": {},
   "source": [
    "## 3D Visualization\n",
    "\n",
    "Let's visualize our cylinder in 3D with proper aspect ratios:"
   ]
  },
  {
   "cell_type": "code",
   "execution_count": 3,
   "id": "f38f8c5b",
   "metadata": {},
   "outputs": [
    {
     "data": {
      "application/vnd.plotly.v1+json": {
       "config": {
        "plotlyServerURL": "https://plot.ly"
       },
       "data": [
        {
         "color": "lightblue",
         "i": {
          "bdata": "AQECAgQEBQUGBgcHCAgJCQoKCwsMDA0NDg4PDxAQERESEhMTFBQVFRYWFxcYGBkZGhobGxwcHR0eHh8fICAhIQ==",
          "dtype": "i1"
         },
         "j": {
          "bdata": "AAQEBQAGBgcACAgJAAoKCwAMDA0ADg4PABAQEQASEhMAFBQVABYWFwAYGBkAGhobABwcHQAeHh8AICAhAAEBAg==",
          "dtype": "i1"
         },
         "k": {
          "bdata": "BAIFAwYFBwMIBwkDCgkLAwwLDQMODQ8DEA8RAxIREwMUExUDFhUXAxgXGQMaGRsDHBsdAx4dHwMgHyEDASECAw==",
          "dtype": "i1"
         },
         "name": "Mesh",
         "opacity": 0.8,
         "type": "mesh3d",
         "x": {
          "bdata": "AAAAAAAAAAAAAAAAAAAUQAAAAAAAABRAAAAAAAAAAABMmH9hQ3oSQEyYf2FDehJAwAofAMZIDEDACh8AxkgMQL1TWlBbnf4/vVNaUFud/j8Jc9m/rw+2PAlz2b+vD7Y8ulNaUFud/r+6U1pQW53+v78KHwDGSAzAvwofAMZIDMBMmH9hQ3oSwEyYf2FDehLAAAAAAAAAFMAAAAAAAAAUwEyYf2FDehLATJh/YUN6EsDCCh8AxkgMwMIKHwDGSAzAyFNaUFud/r/IU1pQW53+v0YW48/Di9C8Rhbjz8OL0LzBU1pQW53+P8FTWlBbnf4/vgofAMZIDEC+Ch8AxkgMQEqYf2FDehJASph/YUN6EkA=",
          "dtype": "f8"
         },
         "y": {
          "bdata": "AAAAAAAAAAAAAAAAAAAAAAAAAAAAAAAAAAAAAAAAAAC8U1pQW53+P7xTWlBbnf4/vwofAMZIDEC/Ch8AxkgMQEyYf2FDehJATJh/YUN6EkAAAAAAAAAUQAAAAAAAABRATJh/YUN6EkBMmH9hQ3oSQMAKHwDGSAxAwAofAMZIDEC+U1pQW53+P75TWlBbnf4/CXPZv68PxjwJc9m/rw/GPLlTWlBbnf6/uVNaUFud/r+/Ch8AxkgMwL8KHwDGSAzASph/YUN6EsBKmH9hQ3oSwAAAAAAAABTAAAAAAAAAFMBLmH9hQ3oSwEuYf2FDehLAwgofAMZIDMDCCh8AxkgMwMpTWlBbnf6/ylNaUFud/r8=",
          "dtype": "f8"
         },
         "z": {
          "bdata": "AAAAAAAAScAAAAAAAABJwAAAAAAAAElAAAAAAAAASUAAAAAAAABJwAAAAAAAAElAAAAAAAAAScAAAAAAAABJQAAAAAAAAEnAAAAAAAAASUAAAAAAAABJwAAAAAAAAElAAAAAAAAAScAAAAAAAABJQAAAAAAAAEnAAAAAAAAASUAAAAAAAABJwAAAAAAAAElAAAAAAAAAScAAAAAAAABJQAAAAAAAAEnAAAAAAAAASUAAAAAAAABJwAAAAAAAAElAAAAAAAAAScAAAAAAAABJQAAAAAAAAEnAAAAAAAAASUAAAAAAAABJwAAAAAAAAElAAAAAAAAAScAAAAAAAABJQAAAAAAAAEnAAAAAAAAASUA=",
          "dtype": "f8"
         }
        }
       ],
       "layout": {
        "height": 600,
        "scene": {
         "aspectmode": "data",
         "camera": {
          "eye": {
           "x": 1.5,
           "y": 1.5,
           "z": 1.5
          }
         },
         "xaxis": {
          "title": {
           "text": "X (µm)"
          }
         },
         "yaxis": {
          "title": {
           "text": "Y (µm)"
          }
         },
         "zaxis": {
          "title": {
           "text": "Z (µm)"
          }
         }
        },
        "template": {
         "data": {
          "bar": [
           {
            "error_x": {
             "color": "#2a3f5f"
            },
            "error_y": {
             "color": "#2a3f5f"
            },
            "marker": {
             "line": {
              "color": "#E5ECF6",
              "width": 0.5
             },
             "pattern": {
              "fillmode": "overlay",
              "size": 10,
              "solidity": 0.2
             }
            },
            "type": "bar"
           }
          ],
          "barpolar": [
           {
            "marker": {
             "line": {
              "color": "#E5ECF6",
              "width": 0.5
             },
             "pattern": {
              "fillmode": "overlay",
              "size": 10,
              "solidity": 0.2
             }
            },
            "type": "barpolar"
           }
          ],
          "carpet": [
           {
            "aaxis": {
             "endlinecolor": "#2a3f5f",
             "gridcolor": "white",
             "linecolor": "white",
             "minorgridcolor": "white",
             "startlinecolor": "#2a3f5f"
            },
            "baxis": {
             "endlinecolor": "#2a3f5f",
             "gridcolor": "white",
             "linecolor": "white",
             "minorgridcolor": "white",
             "startlinecolor": "#2a3f5f"
            },
            "type": "carpet"
           }
          ],
          "choropleth": [
           {
            "colorbar": {
             "outlinewidth": 0,
             "ticks": ""
            },
            "type": "choropleth"
           }
          ],
          "contour": [
           {
            "colorbar": {
             "outlinewidth": 0,
             "ticks": ""
            },
            "colorscale": [
             [
              0,
              "#0d0887"
             ],
             [
              0.1111111111111111,
              "#46039f"
             ],
             [
              0.2222222222222222,
              "#7201a8"
             ],
             [
              0.3333333333333333,
              "#9c179e"
             ],
             [
              0.4444444444444444,
              "#bd3786"
             ],
             [
              0.5555555555555556,
              "#d8576b"
             ],
             [
              0.6666666666666666,
              "#ed7953"
             ],
             [
              0.7777777777777778,
              "#fb9f3a"
             ],
             [
              0.8888888888888888,
              "#fdca26"
             ],
             [
              1,
              "#f0f921"
             ]
            ],
            "type": "contour"
           }
          ],
          "contourcarpet": [
           {
            "colorbar": {
             "outlinewidth": 0,
             "ticks": ""
            },
            "type": "contourcarpet"
           }
          ],
          "heatmap": [
           {
            "colorbar": {
             "outlinewidth": 0,
             "ticks": ""
            },
            "colorscale": [
             [
              0,
              "#0d0887"
             ],
             [
              0.1111111111111111,
              "#46039f"
             ],
             [
              0.2222222222222222,
              "#7201a8"
             ],
             [
              0.3333333333333333,
              "#9c179e"
             ],
             [
              0.4444444444444444,
              "#bd3786"
             ],
             [
              0.5555555555555556,
              "#d8576b"
             ],
             [
              0.6666666666666666,
              "#ed7953"
             ],
             [
              0.7777777777777778,
              "#fb9f3a"
             ],
             [
              0.8888888888888888,
              "#fdca26"
             ],
             [
              1,
              "#f0f921"
             ]
            ],
            "type": "heatmap"
           }
          ],
          "histogram": [
           {
            "marker": {
             "pattern": {
              "fillmode": "overlay",
              "size": 10,
              "solidity": 0.2
             }
            },
            "type": "histogram"
           }
          ],
          "histogram2d": [
           {
            "colorbar": {
             "outlinewidth": 0,
             "ticks": ""
            },
            "colorscale": [
             [
              0,
              "#0d0887"
             ],
             [
              0.1111111111111111,
              "#46039f"
             ],
             [
              0.2222222222222222,
              "#7201a8"
             ],
             [
              0.3333333333333333,
              "#9c179e"
             ],
             [
              0.4444444444444444,
              "#bd3786"
             ],
             [
              0.5555555555555556,
              "#d8576b"
             ],
             [
              0.6666666666666666,
              "#ed7953"
             ],
             [
              0.7777777777777778,
              "#fb9f3a"
             ],
             [
              0.8888888888888888,
              "#fdca26"
             ],
             [
              1,
              "#f0f921"
             ]
            ],
            "type": "histogram2d"
           }
          ],
          "histogram2dcontour": [
           {
            "colorbar": {
             "outlinewidth": 0,
             "ticks": ""
            },
            "colorscale": [
             [
              0,
              "#0d0887"
             ],
             [
              0.1111111111111111,
              "#46039f"
             ],
             [
              0.2222222222222222,
              "#7201a8"
             ],
             [
              0.3333333333333333,
              "#9c179e"
             ],
             [
              0.4444444444444444,
              "#bd3786"
             ],
             [
              0.5555555555555556,
              "#d8576b"
             ],
             [
              0.6666666666666666,
              "#ed7953"
             ],
             [
              0.7777777777777778,
              "#fb9f3a"
             ],
             [
              0.8888888888888888,
              "#fdca26"
             ],
             [
              1,
              "#f0f921"
             ]
            ],
            "type": "histogram2dcontour"
           }
          ],
          "mesh3d": [
           {
            "colorbar": {
             "outlinewidth": 0,
             "ticks": ""
            },
            "type": "mesh3d"
           }
          ],
          "parcoords": [
           {
            "line": {
             "colorbar": {
              "outlinewidth": 0,
              "ticks": ""
             }
            },
            "type": "parcoords"
           }
          ],
          "pie": [
           {
            "automargin": true,
            "type": "pie"
           }
          ],
          "scatter": [
           {
            "fillpattern": {
             "fillmode": "overlay",
             "size": 10,
             "solidity": 0.2
            },
            "type": "scatter"
           }
          ],
          "scatter3d": [
           {
            "line": {
             "colorbar": {
              "outlinewidth": 0,
              "ticks": ""
             }
            },
            "marker": {
             "colorbar": {
              "outlinewidth": 0,
              "ticks": ""
             }
            },
            "type": "scatter3d"
           }
          ],
          "scattercarpet": [
           {
            "marker": {
             "colorbar": {
              "outlinewidth": 0,
              "ticks": ""
             }
            },
            "type": "scattercarpet"
           }
          ],
          "scattergeo": [
           {
            "marker": {
             "colorbar": {
              "outlinewidth": 0,
              "ticks": ""
             }
            },
            "type": "scattergeo"
           }
          ],
          "scattergl": [
           {
            "marker": {
             "colorbar": {
              "outlinewidth": 0,
              "ticks": ""
             }
            },
            "type": "scattergl"
           }
          ],
          "scattermap": [
           {
            "marker": {
             "colorbar": {
              "outlinewidth": 0,
              "ticks": ""
             }
            },
            "type": "scattermap"
           }
          ],
          "scattermapbox": [
           {
            "marker": {
             "colorbar": {
              "outlinewidth": 0,
              "ticks": ""
             }
            },
            "type": "scattermapbox"
           }
          ],
          "scatterpolar": [
           {
            "marker": {
             "colorbar": {
              "outlinewidth": 0,
              "ticks": ""
             }
            },
            "type": "scatterpolar"
           }
          ],
          "scatterpolargl": [
           {
            "marker": {
             "colorbar": {
              "outlinewidth": 0,
              "ticks": ""
             }
            },
            "type": "scatterpolargl"
           }
          ],
          "scatterternary": [
           {
            "marker": {
             "colorbar": {
              "outlinewidth": 0,
              "ticks": ""
             }
            },
            "type": "scatterternary"
           }
          ],
          "surface": [
           {
            "colorbar": {
             "outlinewidth": 0,
             "ticks": ""
            },
            "colorscale": [
             [
              0,
              "#0d0887"
             ],
             [
              0.1111111111111111,
              "#46039f"
             ],
             [
              0.2222222222222222,
              "#7201a8"
             ],
             [
              0.3333333333333333,
              "#9c179e"
             ],
             [
              0.4444444444444444,
              "#bd3786"
             ],
             [
              0.5555555555555556,
              "#d8576b"
             ],
             [
              0.6666666666666666,
              "#ed7953"
             ],
             [
              0.7777777777777778,
              "#fb9f3a"
             ],
             [
              0.8888888888888888,
              "#fdca26"
             ],
             [
              1,
              "#f0f921"
             ]
            ],
            "type": "surface"
           }
          ],
          "table": [
           {
            "cells": {
             "fill": {
              "color": "#EBF0F8"
             },
             "line": {
              "color": "white"
             }
            },
            "header": {
             "fill": {
              "color": "#C8D4E3"
             },
             "line": {
              "color": "white"
             }
            },
            "type": "table"
           }
          ]
         },
         "layout": {
          "annotationdefaults": {
           "arrowcolor": "#2a3f5f",
           "arrowhead": 0,
           "arrowwidth": 1
          },
          "autotypenumbers": "strict",
          "coloraxis": {
           "colorbar": {
            "outlinewidth": 0,
            "ticks": ""
           }
          },
          "colorscale": {
           "diverging": [
            [
             0,
             "#8e0152"
            ],
            [
             0.1,
             "#c51b7d"
            ],
            [
             0.2,
             "#de77ae"
            ],
            [
             0.3,
             "#f1b6da"
            ],
            [
             0.4,
             "#fde0ef"
            ],
            [
             0.5,
             "#f7f7f7"
            ],
            [
             0.6,
             "#e6f5d0"
            ],
            [
             0.7,
             "#b8e186"
            ],
            [
             0.8,
             "#7fbc41"
            ],
            [
             0.9,
             "#4d9221"
            ],
            [
             1,
             "#276419"
            ]
           ],
           "sequential": [
            [
             0,
             "#0d0887"
            ],
            [
             0.1111111111111111,
             "#46039f"
            ],
            [
             0.2222222222222222,
             "#7201a8"
            ],
            [
             0.3333333333333333,
             "#9c179e"
            ],
            [
             0.4444444444444444,
             "#bd3786"
            ],
            [
             0.5555555555555556,
             "#d8576b"
            ],
            [
             0.6666666666666666,
             "#ed7953"
            ],
            [
             0.7777777777777778,
             "#fb9f3a"
            ],
            [
             0.8888888888888888,
             "#fdca26"
            ],
            [
             1,
             "#f0f921"
            ]
           ],
           "sequentialminus": [
            [
             0,
             "#0d0887"
            ],
            [
             0.1111111111111111,
             "#46039f"
            ],
            [
             0.2222222222222222,
             "#7201a8"
            ],
            [
             0.3333333333333333,
             "#9c179e"
            ],
            [
             0.4444444444444444,
             "#bd3786"
            ],
            [
             0.5555555555555556,
             "#d8576b"
            ],
            [
             0.6666666666666666,
             "#ed7953"
            ],
            [
             0.7777777777777778,
             "#fb9f3a"
            ],
            [
             0.8888888888888888,
             "#fdca26"
            ],
            [
             1,
             "#f0f921"
            ]
           ]
          },
          "colorway": [
           "#636efa",
           "#EF553B",
           "#00cc96",
           "#ab63fa",
           "#FFA15A",
           "#19d3f3",
           "#FF6692",
           "#B6E880",
           "#FF97FF",
           "#FECB52"
          ],
          "font": {
           "color": "#2a3f5f"
          },
          "geo": {
           "bgcolor": "white",
           "lakecolor": "white",
           "landcolor": "#E5ECF6",
           "showlakes": true,
           "showland": true,
           "subunitcolor": "white"
          },
          "hoverlabel": {
           "align": "left"
          },
          "hovermode": "closest",
          "mapbox": {
           "style": "light"
          },
          "paper_bgcolor": "white",
          "plot_bgcolor": "#E5ECF6",
          "polar": {
           "angularaxis": {
            "gridcolor": "white",
            "linecolor": "white",
            "ticks": ""
           },
           "bgcolor": "#E5ECF6",
           "radialaxis": {
            "gridcolor": "white",
            "linecolor": "white",
            "ticks": ""
           }
          },
          "scene": {
           "xaxis": {
            "backgroundcolor": "#E5ECF6",
            "gridcolor": "white",
            "gridwidth": 2,
            "linecolor": "white",
            "showbackground": true,
            "ticks": "",
            "zerolinecolor": "white"
           },
           "yaxis": {
            "backgroundcolor": "#E5ECF6",
            "gridcolor": "white",
            "gridwidth": 2,
            "linecolor": "white",
            "showbackground": true,
            "ticks": "",
            "zerolinecolor": "white"
           },
           "zaxis": {
            "backgroundcolor": "#E5ECF6",
            "gridcolor": "white",
            "gridwidth": 2,
            "linecolor": "white",
            "showbackground": true,
            "ticks": "",
            "zerolinecolor": "white"
           }
          },
          "shapedefaults": {
           "line": {
            "color": "#2a3f5f"
           }
          },
          "ternary": {
           "aaxis": {
            "gridcolor": "white",
            "linecolor": "white",
            "ticks": ""
           },
           "baxis": {
            "gridcolor": "white",
            "linecolor": "white",
            "ticks": ""
           },
           "bgcolor": "#E5ECF6",
           "caxis": {
            "gridcolor": "white",
            "linecolor": "white",
            "ticks": ""
           }
          },
          "title": {
           "x": 0.05
          },
          "xaxis": {
           "automargin": true,
           "gridcolor": "white",
           "linecolor": "white",
           "ticks": "",
           "title": {
            "standoff": 15
           },
           "zerolinecolor": "white",
           "zerolinewidth": 2
          },
          "yaxis": {
           "automargin": true,
           "gridcolor": "white",
           "linecolor": "white",
           "ticks": "",
           "title": {
            "standoff": 15
           },
           "zerolinecolor": "white",
           "zerolinewidth": 2
          }
         }
        },
        "title": {
         "text": "Simple Cylinder Mesh"
        },
        "width": 800
       }
      }
     },
     "metadata": {},
     "output_type": "display_data"
    }
   ],
   "source": [
    "# Visualize the cylinder\n",
    "fig = visualize_mesh_3d(\n",
    "    cylinder, \n",
    "    title=\"Simple Cylinder Mesh\",\n",
    "    color=\"lightblue\",\n",
    "    backend=\"plotly\"\n",
    ")\n",
    "fig.show()"
   ]
  },
  {
   "cell_type": "markdown",
   "id": "308cf058",
   "metadata": {},
   "source": [
    "## Interactive Cross-Section Exploration\n",
    "\n",
    "Now let's explore the internal structure using interactive slicing:"
   ]
  },
  {
   "cell_type": "code",
   "execution_count": 4,
   "id": "8e6e0eab",
   "metadata": {},
   "outputs": [
    {
     "data": {
      "application/vnd.plotly.v1+json": {
       "config": {
        "plotlyServerURL": "https://plot.ly"
       },
       "data": [
        {
         "color": "lightblue",
         "i": {
          "bdata": "AQECAgQEBQUGBgcHCAgJCQoKCwsMDA0NDg4PDxAQERESEhMTFBQVFRYWFxcYGBkZGhobGxwcHR0eHh8fICAhIQ==",
          "dtype": "i1"
         },
         "j": {
          "bdata": "AAQEBQAGBgcACAgJAAoKCwAMDA0ADg4PABAQEQASEhMAFBQVABYWFwAYGBkAGhobABwcHQAeHh8AICAhAAEBAg==",
          "dtype": "i1"
         },
         "k": {
          "bdata": "BAIFAwYFBwMIBwkDCgkLAwwLDQMODQ8DEA8RAxIREwMUExUDFhUXAxgXGQMaGRsDHBsdAx4dHwMgHyEDASECAw==",
          "dtype": "i1"
         },
         "name": "Mesh",
         "opacity": 0.3,
         "type": "mesh3d",
         "x": {
          "bdata": "AAAAAAAAAAAAAAAAAAAUQAAAAAAAABRAAAAAAAAAAABMmH9hQ3oSQEyYf2FDehJAwAofAMZIDEDACh8AxkgMQL1TWlBbnf4/vVNaUFud/j8Jc9m/rw+2PAlz2b+vD7Y8ulNaUFud/r+6U1pQW53+v78KHwDGSAzAvwofAMZIDMBMmH9hQ3oSwEyYf2FDehLAAAAAAAAAFMAAAAAAAAAUwEyYf2FDehLATJh/YUN6EsDCCh8AxkgMwMIKHwDGSAzAyFNaUFud/r/IU1pQW53+v0YW48/Di9C8Rhbjz8OL0LzBU1pQW53+P8FTWlBbnf4/vgofAMZIDEC+Ch8AxkgMQEqYf2FDehJASph/YUN6EkA=",
          "dtype": "f8"
         },
         "y": {
          "bdata": "AAAAAAAAAAAAAAAAAAAAAAAAAAAAAAAAAAAAAAAAAAC8U1pQW53+P7xTWlBbnf4/vwofAMZIDEC/Ch8AxkgMQEyYf2FDehJATJh/YUN6EkAAAAAAAAAUQAAAAAAAABRATJh/YUN6EkBMmH9hQ3oSQMAKHwDGSAxAwAofAMZIDEC+U1pQW53+P75TWlBbnf4/CXPZv68PxjwJc9m/rw/GPLlTWlBbnf6/uVNaUFud/r+/Ch8AxkgMwL8KHwDGSAzASph/YUN6EsBKmH9hQ3oSwAAAAAAAABTAAAAAAAAAFMBLmH9hQ3oSwEuYf2FDehLAwgofAMZIDMDCCh8AxkgMwMpTWlBbnf6/ylNaUFud/r8=",
          "dtype": "f8"
         },
         "z": {
          "bdata": "AAAAAAAAScAAAAAAAABJwAAAAAAAAElAAAAAAAAASUAAAAAAAABJwAAAAAAAAElAAAAAAAAAScAAAAAAAABJQAAAAAAAAEnAAAAAAAAASUAAAAAAAABJwAAAAAAAAElAAAAAAAAAScAAAAAAAABJQAAAAAAAAEnAAAAAAAAASUAAAAAAAABJwAAAAAAAAElAAAAAAAAAScAAAAAAAABJQAAAAAAAAEnAAAAAAAAASUAAAAAAAABJwAAAAAAAAElAAAAAAAAAScAAAAAAAABJQAAAAAAAAEnAAAAAAAAASUAAAAAAAABJwAAAAAAAAElAAAAAAAAAScAAAAAAAABJQAAAAAAAAEnAAAAAAAAASUA=",
          "dtype": "f8"
         }
        },
        {
         "line": {
          "color": "darkblue",
          "width": 4
         },
         "mode": "lines",
         "name": "Slice Z=-50.00",
         "type": "scatter3d",
         "visible": false,
         "x": [
          3.061616997868383e-16,
          1.9134171618254492,
          3.5355339059327378,
          4.619397662556434,
          5,
          4.619397662556432,
          3.535533905932737,
          1.91341716182545,
          -9.184850993605148e-16,
          -1.9134171618254516,
          -3.5355339059327386,
          -4.619397662556434,
          -5,
          -4.619397662556434,
          -3.5355339059327373,
          -1.9134171618254485,
          3.061616997868383e-16,
          3.061616997868383e-16,
          null
         ],
         "y": [
          5,
          4.619397662556434,
          3.5355339059327373,
          1.913417161825449,
          0,
          -1.913417161825452,
          -3.5355339059327386,
          -4.619397662556433,
          -5,
          -4.619397662556432,
          -3.5355339059327373,
          -1.9134171618254483,
          6.123233995736766e-16,
          1.9134171618254494,
          3.5355339059327378,
          4.619397662556434,
          5,
          5,
          null
         ],
         "z": [
          -50,
          -50,
          -50,
          -50,
          -50,
          -50,
          -50,
          -50,
          -50,
          -50,
          -50,
          -50,
          -50,
          -50,
          -50,
          -50,
          -50,
          -50,
          null
         ]
        },
        {
         "line": {
          "color": "darkblue",
          "width": 4
         },
         "mode": "lines",
         "name": "Slice Z=-47.96",
         "type": "scatter3d",
         "visible": false,
         "x": [
          3.061616997868383e-16,
          0.03904932983317222,
          1.9134171618254492,
          1.9465215851745774,
          3.5355339059327378,
          3.557653574435262,
          4.619397662556434,
          4.627165057198139,
          5,
          4.992232605358295,
          4.619397662556432,
          4.597277994053908,
          3.535533905932737,
          3.502429482583609,
          1.91341716182545,
          1.8743678319922776,
          -9.184850993605148e-16,
          -0.03904932983317311,
          -1.9134171618254516,
          -1.9465215851745796,
          -3.5355339059327386,
          -3.557653574435263,
          -4.619397662556434,
          -4.627165057198139,
          -5,
          -4.992232605358295,
          -4.619397662556434,
          -4.5972779940539095,
          -3.5355339059327373,
          -3.5024294825836093,
          -1.9134171618254485,
          -1.8743678319922763,
          3.061616997868383e-16,
          3.061616997868383e-16,
          null
         ],
         "y": [
          5,
          4.992232605358295,
          4.619397662556434,
          4.5972779940539095,
          3.5355339059327373,
          3.502429482583609,
          1.913417161825449,
          1.874367831992277,
          0,
          -0.03904932983317222,
          -1.913417161825452,
          -1.9465215851745803,
          -3.5355339059327386,
          -3.557653574435263,
          -4.619397662556433,
          -4.627165057198138,
          -5,
          -4.992232605358295,
          -4.619397662556432,
          -4.597277994053908,
          -3.5355339059327373,
          -3.502429482583609,
          -1.9134171618254483,
          -1.8743678319922763,
          6.123233995736766e-16,
          0.039049329833172886,
          1.9134171618254494,
          1.9465215851745776,
          3.5355339059327378,
          3.557653574435262,
          4.619397662556434,
          4.627165057198139,
          5,
          5,
          null
         ],
         "z": [
          -47.95918367346939,
          -47.9591836734694,
          -47.95918367346939,
          -47.9591836734694,
          -47.95918367346939,
          -47.9591836734694,
          -47.95918367346939,
          -47.9591836734694,
          -47.9591836734694,
          -47.9591836734694,
          -47.95918367346939,
          -47.9591836734694,
          -47.95918367346939,
          -47.9591836734694,
          -47.95918367346939,
          -47.9591836734694,
          -47.95918367346939,
          -47.9591836734694,
          -47.95918367346939,
          -47.9591836734694,
          -47.95918367346939,
          -47.9591836734694,
          -47.95918367346939,
          -47.9591836734694,
          -47.95918367346939,
          -47.9591836734694,
          -47.95918367346939,
          -47.9591836734694,
          -47.95918367346939,
          -47.9591836734694,
          -47.95918367346939,
          -47.9591836734694,
          -47.95918367346939,
          -47.95918367346939,
          null
         ]
        },
        {
         "line": {
          "color": "darkblue",
          "width": 4
         },
         "mode": "lines",
         "name": "Slice Z=-45.92",
         "type": "scatter3d",
         "visible": false,
         "x": [
          3.061616997868383e-16,
          -1.8353185021591034,
          -1.9134171618254485,
          -3.4693250592344804,
          -3.5355339059327373,
          -4.575158325551385,
          -4.619397662556434,
          -4.984465210716589,
          -5,
          -4.634932451839845,
          -4.619397662556434,
          -3.5797732429377875,
          -3.5355339059327386,
          -1.9796260085237085,
          -1.9134171618254516,
          -0.078098659666346,
          -9.184850993605148e-16,
          1.8353185021591047,
          1.91341716182545,
          3.46932505923448,
          3.535533905932737,
          4.575158325551383,
          4.619397662556432,
          4.984465210716589,
          5,
          4.634932451839845,
          4.619397662556434,
          3.5797732429377866,
          3.5355339059327378,
          1.9796260085237063,
          1.9134171618254492,
          0.07809865966634533,
          3.061616997868383e-16,
          3.061616997868383e-16,
          null
         ],
         "y": [
          5,
          4.634932451839845,
          4.619397662556434,
          3.5797732429377866,
          3.5355339059327378,
          1.9796260085237065,
          1.9134171618254494,
          0.07809865966634577,
          6.123233995736766e-16,
          -1.8353185021591032,
          -1.9134171618254483,
          -3.46932505923448,
          -3.5355339059327373,
          -4.575158325551383,
          -4.619397662556432,
          -4.984465210716589,
          -5,
          -4.634932451839844,
          -4.619397662556433,
          -3.5797732429377875,
          -3.5355339059327386,
          -1.9796260085237092,
          -1.913417161825452,
          -0.0780986596663451,
          0,
          1.8353185021591039,
          1.913417161825449,
          3.46932505923448,
          3.5355339059327373,
          4.575158325551385,
          4.619397662556434,
          4.984465210716589,
          5,
          5,
          null
         ],
         "z": [
          -45.91836734693877,
          -45.918367346938766,
          -45.91836734693877,
          -45.918367346938766,
          -45.91836734693877,
          -45.918367346938766,
          -45.91836734693877,
          -45.918367346938766,
          -45.91836734693877,
          -45.918367346938766,
          -45.91836734693877,
          -45.918367346938766,
          -45.91836734693877,
          -45.918367346938766,
          -45.91836734693877,
          -45.918367346938766,
          -45.91836734693877,
          -45.918367346938766,
          -45.91836734693877,
          -45.918367346938766,
          -45.91836734693877,
          -45.918367346938766,
          -45.91836734693877,
          -45.918367346938766,
          -45.918367346938766,
          -45.918367346938766,
          -45.91836734693877,
          -45.918367346938766,
          -45.91836734693877,
          -45.918367346938766,
          -45.91836734693877,
          -45.918367346938766,
          -45.91836734693877,
          -45.91836734693877,
          null
         ]
        },
        {
         "line": {
          "color": "darkblue",
          "width": 4
         },
         "mode": "lines",
         "name": "Slice Z=-43.88",
         "type": "scatter3d",
         "visible": false,
         "x": [
          3.061616997868383e-16,
          -1.7962691723259312,
          -1.9134171618254485,
          -3.436220635885352,
          -3.5355339059327373,
          -4.553038657048861,
          -4.619397662556434,
          -4.976697816074884,
          -5,
          -4.64269984648155,
          -4.619397662556434,
          -3.601892911440312,
          -3.5355339059327386,
          -2.0127304318728365,
          -1.9134171618254516,
          -0.11714798949951821,
          -9.184850993605148e-16,
          1.7962691723259325,
          1.91341716182545,
          3.436220635885352,
          3.535533905932737,
          4.553038657048859,
          4.619397662556432,
          4.976697816074884,
          5,
          4.64269984648155,
          4.619397662556434,
          3.601892911440311,
          3.5355339059327378,
          2.0127304318728343,
          1.9134171618254492,
          0.11714798949951755,
          3.061616997868383e-16,
          3.061616997868383e-16,
          null
         ],
         "y": [
          5,
          4.64269984648155,
          4.619397662556434,
          3.601892911440311,
          3.5355339059327378,
          2.0127304318728347,
          1.9134171618254494,
          0.11714798949951799,
          6.123233995736766e-16,
          -1.796269172325931,
          -1.9134171618254483,
          -3.436220635885352,
          -3.5355339059327373,
          -4.553038657048859,
          -4.619397662556432,
          -4.976697816074884,
          -5,
          -4.642699846481549,
          -4.619397662556433,
          -3.601892911440312,
          -3.5355339059327386,
          -2.0127304318728374,
          -1.913417161825452,
          -0.11714798949951755,
          0,
          1.7962691723259316,
          1.913417161825449,
          3.436220635885352,
          3.5355339059327373,
          4.553038657048861,
          4.619397662556434,
          4.976697816074884,
          5,
          5,
          null
         ],
         "z": [
          -43.87755102040816,
          -43.87755102040816,
          -43.87755102040816,
          -43.87755102040816,
          -43.87755102040816,
          -43.87755102040816,
          -43.87755102040816,
          -43.87755102040816,
          -43.87755102040816,
          -43.87755102040816,
          -43.87755102040816,
          -43.87755102040816,
          -43.87755102040816,
          -43.87755102040816,
          -43.87755102040816,
          -43.87755102040816,
          -43.87755102040816,
          -43.87755102040816,
          -43.87755102040816,
          -43.87755102040816,
          -43.87755102040816,
          -43.87755102040816,
          -43.87755102040816,
          -43.87755102040816,
          -43.87755102040816,
          -43.87755102040816,
          -43.87755102040816,
          -43.87755102040816,
          -43.87755102040816,
          -43.87755102040816,
          -43.87755102040816,
          -43.87755102040816,
          -43.87755102040816,
          -43.87755102040816,
          null
         ]
        },
        {
         "line": {
          "color": "darkblue",
          "width": 4
         },
         "mode": "lines",
         "name": "Slice Z=-41.84",
         "type": "scatter3d",
         "visible": false,
         "x": [
          3.061616997868383e-16,
          0.15619731933268977,
          1.9134171618254492,
          2.0458348552219627,
          3.5355339059327378,
          3.6240125799428355,
          4.619397662556434,
          4.6504672411232555,
          5,
          4.968930421433178,
          4.619397662556432,
          4.530918988546334,
          3.535533905932737,
          3.403116212536224,
          1.91341716182545,
          1.7572198424927603,
          -9.184850993605148e-16,
          -0.15619731933269043,
          -1.9134171618254516,
          -2.0458348552219645,
          -3.5355339059327386,
          -3.624012579942836,
          -4.619397662556434,
          -4.6504672411232555,
          -5,
          -4.968930421433178,
          -4.619397662556434,
          -4.530918988546336,
          -3.5355339059327373,
          -3.403116212536224,
          -1.9134171618254485,
          -1.757219842492759,
          3.061616997868383e-16,
          3.061616997868383e-16,
          null
         ],
         "y": [
          5,
          4.968930421433178,
          4.619397662556434,
          4.530918988546336,
          3.5355339059327373,
          3.403116212536224,
          1.913417161825449,
          1.7572198424927594,
          0,
          -0.15619731933268977,
          -1.913417161825452,
          -2.0458348552219654,
          -3.5355339059327386,
          -3.624012579942836,
          -4.619397662556433,
          -4.650467241123255,
          -5,
          -4.968930421433178,
          -4.619397662556432,
          -4.530918988546334,
          -3.5355339059327373,
          -3.403116212536224,
          -1.9134171618254483,
          -1.7572198424927588,
          6.123233995736766e-16,
          0.1561973193326902,
          1.9134171618254494,
          2.0458348552219627,
          3.5355339059327378,
          3.6240125799428355,
          4.619397662556434,
          4.6504672411232555,
          5,
          5,
          null
         ],
         "z": [
          -41.83673469387755,
          -41.83673469387756,
          -41.83673469387755,
          -41.83673469387756,
          -41.83673469387755,
          -41.83673469387756,
          -41.83673469387755,
          -41.83673469387756,
          -41.83673469387756,
          -41.83673469387756,
          -41.83673469387755,
          -41.83673469387756,
          -41.83673469387755,
          -41.83673469387756,
          -41.83673469387755,
          -41.83673469387756,
          -41.83673469387755,
          -41.83673469387756,
          -41.83673469387755,
          -41.83673469387756,
          -41.83673469387755,
          -41.83673469387756,
          -41.83673469387755,
          -41.83673469387756,
          -41.83673469387755,
          -41.83673469387756,
          -41.83673469387755,
          -41.83673469387756,
          -41.83673469387755,
          -41.83673469387756,
          -41.83673469387755,
          -41.83673469387756,
          -41.83673469387755,
          -41.83673469387755,
          null
         ]
        },
        {
         "line": {
          "color": "darkblue",
          "width": 4
         },
         "mode": "lines",
         "name": "Slice Z=-39.80",
         "type": "scatter3d",
         "visible": false,
         "x": [
          3.061616997868383e-16,
          0.1952466491658622,
          1.9134171618254492,
          2.0789392785710907,
          3.5355339059327378,
          3.64613224844536,
          4.619397662556434,
          4.658234635764961,
          5,
          4.961163026791473,
          4.619397662556432,
          4.50879932004381,
          3.535533905932737,
          3.3700117891870955,
          1.91341716182545,
          1.7181705126595876,
          -9.184850993605148e-16,
          -0.1952466491658631,
          -1.9134171618254516,
          -2.078939278571093,
          -3.5355339059327386,
          -3.6461322484453604,
          -4.619397662556434,
          -4.658234635764961,
          -5,
          -4.961163026791473,
          -4.619397662556434,
          -4.508799320043812,
          -3.5355339059327373,
          -3.370011789187096,
          -1.9134171618254485,
          -1.7181705126595865,
          3.061616997868383e-16,
          3.061616997868383e-16,
          null
         ],
         "y": [
          5,
          4.961163026791473,
          4.619397662556434,
          4.508799320043812,
          3.5355339059327373,
          3.3700117891870955,
          1.913417161825449,
          1.718170512659587,
          0,
          -0.1952466491658622,
          -1.913417161825452,
          -2.0789392785710934,
          -3.5355339059327386,
          -3.6461322484453604,
          -4.619397662556433,
          -4.65823463576496,
          -5,
          -4.961163026791473,
          -4.619397662556432,
          -4.50879932004381,
          -3.5355339059327373,
          -3.3700117891870955,
          -1.9134171618254483,
          -1.7181705126595863,
          6.123233995736766e-16,
          0.19524664916586265,
          1.9134171618254494,
          2.078939278571091,
          3.5355339059327378,
          3.64613224844536,
          4.619397662556434,
          4.658234635764961,
          5,
          5,
          null
         ],
         "z": [
          -39.79591836734694,
          -39.79591836734694,
          -39.79591836734694,
          -39.79591836734694,
          -39.79591836734694,
          -39.79591836734694,
          -39.79591836734694,
          -39.79591836734694,
          -39.79591836734694,
          -39.79591836734694,
          -39.79591836734694,
          -39.79591836734694,
          -39.79591836734694,
          -39.79591836734694,
          -39.79591836734694,
          -39.79591836734694,
          -39.79591836734694,
          -39.79591836734694,
          -39.79591836734694,
          -39.79591836734694,
          -39.79591836734694,
          -39.79591836734694,
          -39.79591836734694,
          -39.79591836734694,
          -39.79591836734694,
          -39.79591836734694,
          -39.79591836734694,
          -39.79591836734694,
          -39.79591836734694,
          -39.79591836734694,
          -39.79591836734694,
          -39.79591836734694,
          -39.79591836734694,
          -39.79591836734694,
          null
         ]
        },
        {
         "line": {
          "color": "darkblue",
          "width": 4
         },
         "mode": "lines",
         "name": "Slice Z=-37.76",
         "type": "scatter3d",
         "visible": false,
         "x": [
          3.061616997868383e-16,
          -1.6791211828264139,
          -1.9134171618254485,
          -3.336907365837967,
          -3.5355339059327373,
          -4.486679651541287,
          -4.619397662556434,
          -4.953395632149768,
          -5,
          -4.666002030406666,
          -4.619397662556434,
          -3.6682519169478853,
          -3.5355339059327386,
          -2.1120437019202214,
          -1.9134171618254516,
          -0.23429597899903576,
          -9.184850993605148e-16,
          1.679121182826415,
          1.91341716182545,
          3.336907365837967,
          3.535533905932737,
          4.4866796515412855,
          4.619397662556432,
          4.953395632149768,
          5,
          4.666002030406666,
          4.619397662556434,
          3.6682519169478844,
          3.5355339059327378,
          2.1120437019202196,
          1.9134171618254492,
          0.23429597899903487,
          3.061616997868383e-16,
          3.061616997868383e-16,
          null
         ],
         "y": [
          5,
          4.666002030406666,
          4.619397662556434,
          3.6682519169478844,
          3.5355339059327378,
          2.1120437019202196,
          1.9134171618254494,
          0.23429597899903531,
          6.123233995736766e-16,
          -1.6791211828264136,
          -1.9134171618254483,
          -3.336907365837967,
          -3.5355339059327373,
          -4.4866796515412855,
          -4.619397662556432,
          -4.953395632149768,
          -5,
          -4.666002030406665,
          -4.619397662556433,
          -3.668251916947885,
          -3.5355339059327386,
          -2.1120437019202223,
          -1.913417161825452,
          -0.23429597899903487,
          0,
          1.6791211828264143,
          1.913417161825449,
          3.336907365837967,
          3.5355339059327373,
          4.486679651541287,
          4.619397662556434,
          4.953395632149768,
          5,
          5,
          null
         ],
         "z": [
          -37.755102040816325,
          -37.755102040816325,
          -37.755102040816325,
          -37.755102040816325,
          -37.755102040816325,
          -37.755102040816325,
          -37.755102040816325,
          -37.755102040816325,
          -37.755102040816325,
          -37.755102040816325,
          -37.755102040816325,
          -37.755102040816325,
          -37.755102040816325,
          -37.755102040816325,
          -37.755102040816325,
          -37.755102040816325,
          -37.755102040816325,
          -37.755102040816325,
          -37.755102040816325,
          -37.755102040816325,
          -37.755102040816325,
          -37.755102040816325,
          -37.755102040816325,
          -37.755102040816325,
          -37.755102040816325,
          -37.755102040816325,
          -37.755102040816325,
          -37.755102040816325,
          -37.755102040816325,
          -37.755102040816325,
          -37.755102040816325,
          -37.755102040816325,
          -37.755102040816325,
          -37.755102040816325,
          null
         ]
        },
        {
         "line": {
          "color": "darkblue",
          "width": 4
         },
         "mode": "lines",
         "name": "Slice Z=-35.71",
         "type": "scatter3d",
         "visible": false,
         "x": [
          3.061616997868383e-16,
          -1.6400718529932417,
          -1.9134171618254485,
          -3.303802942488839,
          -3.5355339059327373,
          -4.464559983038763,
          -4.619397662556434,
          -4.945628237508062,
          -5,
          -4.673769425048372,
          -4.619397662556434,
          -3.6903715854504093,
          -3.5355339059327386,
          -2.1451481252693494,
          -1.9134171618254516,
          -0.273345308832208,
          -9.184850993605148e-16,
          1.6400718529932428,
          1.91341716182545,
          3.303802942488839,
          3.535533905932737,
          4.464559983038761,
          4.619397662556432,
          4.945628237508061,
          5,
          4.673769425048372,
          4.619397662556434,
          3.6903715854504084,
          3.5355339059327378,
          2.1451481252693476,
          1.9134171618254492,
          0.2733453088322071,
          3.061616997868383e-16,
          3.061616997868383e-16,
          null
         ],
         "y": [
          5,
          4.673769425048372,
          4.619397662556434,
          3.6903715854504084,
          3.5355339059327378,
          2.1451481252693476,
          1.9134171618254494,
          0.27334530883220753,
          6.123233995736766e-16,
          -1.6400718529932414,
          -1.9134171618254483,
          -3.303802942488839,
          -3.5355339059327373,
          -4.464559983038761,
          -4.619397662556432,
          -4.945628237508061,
          -5,
          -4.673769425048371,
          -4.619397662556433,
          -3.6903715854504093,
          -3.5355339059327386,
          -2.1451481252693503,
          -1.913417161825452,
          -0.2733453088322073,
          0,
          1.640071852993242,
          1.913417161825449,
          3.303802942488839,
          3.5355339059327373,
          4.464559983038763,
          4.619397662556434,
          4.945628237508062,
          5,
          5,
          null
         ],
         "z": [
          -35.714285714285715,
          -35.71428571428572,
          -35.714285714285715,
          -35.71428571428572,
          -35.714285714285715,
          -35.71428571428572,
          -35.714285714285715,
          -35.71428571428572,
          -35.714285714285715,
          -35.71428571428572,
          -35.714285714285715,
          -35.71428571428572,
          -35.714285714285715,
          -35.71428571428572,
          -35.714285714285715,
          -35.71428571428572,
          -35.714285714285715,
          -35.71428571428572,
          -35.714285714285715,
          -35.71428571428572,
          -35.714285714285715,
          -35.71428571428572,
          -35.714285714285715,
          -35.71428571428572,
          -35.71428571428572,
          -35.71428571428572,
          -35.714285714285715,
          -35.71428571428572,
          -35.714285714285715,
          -35.71428571428572,
          -35.714285714285715,
          -35.71428571428572,
          -35.714285714285715,
          -35.714285714285715,
          null
         ]
        },
        {
         "line": {
          "color": "darkblue",
          "width": 4
         },
         "mode": "lines",
         "name": "Slice Z=-33.67",
         "type": "scatter3d",
         "visible": false,
         "x": [
          3.061616997868383e-16,
          0.31239463866537953,
          1.9134171618254492,
          2.1782525486184756,
          3.5355339059327378,
          3.712491253952933,
          4.619397662556434,
          4.681536819690077,
          5,
          4.937860842866356,
          4.619397662556432,
          4.442440314536237,
          3.535533905932737,
          3.27069851913971,
          1.91341716182545,
          1.6010225231600703,
          -9.184850993605148e-16,
          -0.3123946386653804,
          -1.9134171618254516,
          -2.178252548618478,
          -3.5355339059327386,
          -3.712491253952934,
          -4.619397662556434,
          -4.681536819690077,
          -5,
          -4.937860842866357,
          -4.619397662556434,
          -4.442440314536238,
          -3.5355339059327373,
          -3.2706985191397107,
          -1.9134171618254485,
          -1.6010225231600692,
          3.061616997868383e-16,
          3.061616997868383e-16,
          null
         ],
         "y": [
          5,
          4.937860842866357,
          4.619397662556434,
          4.442440314536238,
          3.5355339059327373,
          3.2706985191397107,
          1.913417161825449,
          1.6010225231600697,
          0,
          -0.31239463866537975,
          -1.913417161825452,
          -2.1782525486184783,
          -3.5355339059327386,
          -3.7124912539529333,
          -4.619397662556433,
          -4.681536819690077,
          -5,
          -4.937860842866356,
          -4.619397662556432,
          -4.442440314536237,
          -3.5355339059327373,
          -3.27069851913971,
          -1.9134171618254483,
          -1.601022523160069,
          6.123233995736766e-16,
          0.31239463866538,
          1.9134171618254494,
          2.178252548618476,
          3.5355339059327378,
          3.712491253952933,
          4.619397662556434,
          4.681536819690077,
          5,
          5,
          null
         ],
         "z": [
          -33.673469387755105,
          -33.673469387755105,
          -33.673469387755105,
          -33.673469387755105,
          -33.673469387755105,
          -33.673469387755105,
          -33.673469387755105,
          -33.673469387755105,
          -33.673469387755105,
          -33.673469387755105,
          -33.673469387755105,
          -33.673469387755105,
          -33.673469387755105,
          -33.673469387755105,
          -33.673469387755105,
          -33.673469387755105,
          -33.673469387755105,
          -33.673469387755105,
          -33.673469387755105,
          -33.673469387755105,
          -33.673469387755105,
          -33.673469387755105,
          -33.673469387755105,
          -33.673469387755105,
          -33.673469387755105,
          -33.673469387755105,
          -33.673469387755105,
          -33.673469387755105,
          -33.673469387755105,
          -33.673469387755105,
          -33.673469387755105,
          -33.673469387755105,
          -33.673469387755105,
          -33.673469387755105,
          null
         ]
        },
        {
         "line": {
          "color": "darkblue",
          "width": 4
         },
         "mode": "lines",
         "name": "Slice Z=-31.63",
         "type": "scatter3d",
         "visible": false,
         "x": [
          3.061616997868383e-16,
          0.3514439684985522,
          1.9134171618254492,
          2.2113569719676045,
          3.5355339059327378,
          3.734610922455458,
          4.619397662556434,
          4.6893042143317825,
          5,
          4.930093448224651,
          4.619397662556432,
          4.420320646033712,
          3.535533905932737,
          3.237594095790582,
          1.91341716182545,
          1.5619731933268977,
          -9.184850993605148e-16,
          -0.3514439684985531,
          -1.9134171618254516,
          -2.2113569719676063,
          -3.5355339059327386,
          -3.7346109224554582,
          -4.619397662556434,
          -4.6893042143317825,
          -5,
          -4.9300934482246515,
          -4.619397662556434,
          -4.420320646033714,
          -3.5355339059327373,
          -3.237594095790582,
          -1.9134171618254485,
          -1.5619731933268965,
          3.061616997868383e-16,
          3.061616997868383e-16,
          null
         ],
         "y": [
          5,
          4.9300934482246515,
          4.619397662556434,
          4.420320646033714,
          3.5355339059327373,
          3.237594095790582,
          1.913417161825449,
          1.561973193326897,
          0,
          -0.3514439684985524,
          -1.913417161825452,
          -2.211356971967607,
          -3.5355339059327386,
          -3.7346109224554582,
          -4.619397662556433,
          -4.6893042143317825,
          -5,
          -4.930093448224651,
          -4.619397662556432,
          -4.420320646033712,
          -3.5355339059327373,
          -3.237594095790582,
          -1.9134171618254483,
          -1.5619731933268963,
          6.123233995736766e-16,
          0.35144396849855264,
          1.9134171618254494,
          2.2113569719676045,
          3.5355339059327378,
          3.734610922455458,
          4.619397662556434,
          4.6893042143317825,
          5,
          5,
          null
         ],
         "z": [
          -31.632653061224488,
          -31.632653061224488,
          -31.632653061224488,
          -31.632653061224488,
          -31.632653061224488,
          -31.632653061224488,
          -31.632653061224488,
          -31.632653061224488,
          -31.632653061224488,
          -31.632653061224488,
          -31.632653061224488,
          -31.632653061224488,
          -31.632653061224488,
          -31.632653061224488,
          -31.632653061224488,
          -31.632653061224488,
          -31.632653061224488,
          -31.632653061224488,
          -31.632653061224488,
          -31.632653061224488,
          -31.632653061224488,
          -31.632653061224488,
          -31.632653061224488,
          -31.632653061224488,
          -31.632653061224488,
          -31.632653061224488,
          -31.632653061224488,
          -31.632653061224488,
          -31.632653061224488,
          -31.632653061224488,
          -31.632653061224488,
          -31.632653061224488,
          -31.632653061224488,
          -31.632653061224488,
          null
         ]
        },
        {
         "line": {
          "color": "darkblue",
          "width": 4
         },
         "mode": "lines",
         "name": "Slice Z=-29.59",
         "type": "scatter3d",
         "visible": false,
         "x": [
          3.061616997868383e-16,
          -1.5229238634937243,
          -1.9134171618254485,
          -3.204489672441454,
          -3.5355339059327373,
          -4.398200977531189,
          -4.619397662556434,
          -4.922326053582946,
          -5,
          -4.697071608973488,
          -4.619397662556434,
          -3.7567305909579827,
          -3.5355339059327386,
          -2.2444613953167343,
          -1.9134171618254516,
          -0.3904932983317253,
          -9.184850993605148e-16,
          1.5229238634937254,
          1.91341716182545,
          3.204489672441454,
          3.535533905932737,
          4.3982009775311885,
          4.619397662556432,
          4.922326053582945,
          5,
          4.697071608973488,
          4.619397662556434,
          3.756730590957982,
          3.5355339059327378,
          2.2444613953167325,
          1.9134171618254492,
          0.3904932983317244,
          3.061616997868383e-16,
          3.061616997868383e-16,
          null
         ],
         "y": [
          5,
          4.697071608973488,
          4.619397662556434,
          3.756730590957982,
          3.5355339059327378,
          2.2444613953167325,
          1.9134171618254494,
          0.39049329833172486,
          6.123233995736766e-16,
          -1.522923863493724,
          -1.9134171618254483,
          -3.2044896724414538,
          -3.5355339059327373,
          -4.3982009775311885,
          -4.619397662556432,
          -4.922326053582945,
          -5,
          -4.697071608973488,
          -4.619397662556433,
          -3.7567305909579822,
          -3.5355339059327386,
          -2.244461395316735,
          -1.913417161825452,
          -0.39049329833172464,
          0,
          1.5229238634937248,
          1.913417161825449,
          3.204489672441454,
          3.5355339059327373,
          4.398200977531189,
          4.619397662556434,
          4.922326053582946,
          5,
          5,
          null
         ],
         "z": [
          -29.591836734693878,
          -29.591836734693885,
          -29.591836734693878,
          -29.591836734693885,
          -29.591836734693878,
          -29.591836734693885,
          -29.591836734693878,
          -29.591836734693885,
          -29.591836734693878,
          -29.591836734693885,
          -29.591836734693878,
          -29.591836734693885,
          -29.591836734693878,
          -29.591836734693885,
          -29.591836734693878,
          -29.591836734693885,
          -29.591836734693878,
          -29.591836734693885,
          -29.591836734693878,
          -29.591836734693885,
          -29.591836734693878,
          -29.591836734693885,
          -29.591836734693878,
          -29.591836734693885,
          -29.591836734693885,
          -29.591836734693885,
          -29.591836734693878,
          -29.591836734693885,
          -29.591836734693878,
          -29.591836734693885,
          -29.591836734693878,
          -29.591836734693885,
          -29.591836734693878,
          -29.591836734693878,
          null
         ]
        },
        {
         "line": {
          "color": "darkblue",
          "width": 4
         },
         "mode": "lines",
         "name": "Slice Z=-27.55",
         "type": "scatter3d",
         "visible": false,
         "x": [
          3.061616997868383e-16,
          -1.4838745336605519,
          -1.9134171618254485,
          -3.1713852490923253,
          -3.5355339059327373,
          -4.376081309028665,
          -4.619397662556434,
          -4.914558658941241,
          -5,
          -4.704839003615193,
          -4.619397662556434,
          -3.778850259460507,
          -3.5355339059327386,
          -2.277565818665863,
          -1.9134171618254516,
          -0.42954262816489797,
          -9.184850993605148e-16,
          1.4838745336605528,
          1.91341716182545,
          3.1713852490923253,
          3.535533905932737,
          4.376081309028664,
          4.619397662556432,
          4.91455865894124,
          5,
          4.704839003615193,
          4.619397662556434,
          3.7788502594605062,
          3.5355339059327378,
          2.277565818665861,
          1.9134171618254492,
          0.42954262816489686,
          3.061616997868383e-16,
          3.061616997868383e-16,
          null
         ],
         "y": [
          5,
          4.704839003615193,
          4.619397662556434,
          3.7788502594605062,
          3.5355339059327378,
          2.2775658186658614,
          1.9134171618254494,
          0.4295426281648973,
          6.123233995736766e-16,
          -1.4838745336605517,
          -1.9134171618254483,
          -3.1713852490923253,
          -3.5355339059327373,
          -4.376081309028664,
          -4.619397662556432,
          -4.91455865894124,
          -5,
          -4.704839003615193,
          -4.619397662556433,
          -3.7788502594605067,
          -3.5355339059327386,
          -2.277565818665863,
          -1.913417161825452,
          -0.4295426281648973,
          0,
          1.4838745336605523,
          1.913417161825449,
          3.1713852490923253,
          3.5355339059327373,
          4.376081309028665,
          4.619397662556434,
          4.914558658941241,
          5,
          5,
          null
         ],
         "z": [
          -27.551020408163264,
          -27.551020408163268,
          -27.551020408163264,
          -27.551020408163268,
          -27.551020408163264,
          -27.551020408163268,
          -27.551020408163264,
          -27.551020408163268,
          -27.551020408163264,
          -27.551020408163268,
          -27.551020408163264,
          -27.551020408163268,
          -27.551020408163264,
          -27.551020408163268,
          -27.551020408163264,
          -27.551020408163268,
          -27.551020408163264,
          -27.551020408163268,
          -27.551020408163264,
          -27.551020408163268,
          -27.551020408163264,
          -27.551020408163268,
          -27.551020408163264,
          -27.551020408163268,
          -27.551020408163268,
          -27.551020408163268,
          -27.551020408163264,
          -27.551020408163268,
          -27.551020408163264,
          -27.551020408163268,
          -27.551020408163264,
          -27.551020408163268,
          -27.551020408163264,
          -27.551020408163264,
          null
         ]
        },
        {
         "line": {
          "color": "darkblue",
          "width": 4
         },
         "mode": "lines",
         "name": "Slice Z=-25.51",
         "type": "scatter3d",
         "visible": false,
         "x": [
          3.061616997868383e-16,
          0.4685919579980693,
          1.9134171618254492,
          2.3106702420149894,
          3.5355339059327378,
          3.8009699279630307,
          4.619397662556434,
          4.712606398256899,
          5,
          4.906791264299534,
          4.619397662556432,
          4.35396164052614,
          3.535533905932737,
          3.1382808257431973,
          1.91341716182545,
          1.4448252038273803,
          -9.184850993605148e-16,
          -0.4685919579980704,
          -1.9134171618254516,
          -2.310670242014991,
          -3.5355339059327386,
          -3.800969927963031,
          -4.619397662556434,
          -4.712606398256899,
          -5,
          -4.906791264299535,
          -4.619397662556434,
          -4.3539616405261405,
          -3.5355339059327373,
          -3.1382808257431973,
          -1.9134171618254485,
          -1.4448252038273794,
          3.061616997868383e-16,
          3.061616997868383e-16,
          null
         ],
         "y": [
          5,
          4.906791264299535,
          4.619397662556434,
          4.3539616405261405,
          3.5355339059327373,
          3.1382808257431973,
          1.913417161825449,
          1.44482520382738,
          0,
          -0.46859195799806974,
          -1.913417161825452,
          -2.3106702420149916,
          -3.5355339059327386,
          -3.800969927963031,
          -4.619397662556433,
          -4.712606398256899,
          -5,
          -4.906791264299534,
          -4.619397662556432,
          -4.35396164052614,
          -3.5355339059327373,
          -3.1382808257431973,
          -1.9134171618254483,
          -1.4448252038273792,
          6.123233995736766e-16,
          0.46859195799806974,
          1.9134171618254494,
          2.3106702420149894,
          3.5355339059327378,
          3.8009699279630307,
          4.619397662556434,
          4.712606398256899,
          5,
          5,
          null
         ],
         "z": [
          -25.51020408163265,
          -25.51020408163265,
          -25.51020408163265,
          -25.51020408163265,
          -25.51020408163265,
          -25.51020408163265,
          -25.51020408163265,
          -25.51020408163265,
          -25.51020408163265,
          -25.51020408163265,
          -25.51020408163265,
          -25.51020408163265,
          -25.51020408163265,
          -25.51020408163265,
          -25.51020408163265,
          -25.51020408163265,
          -25.51020408163265,
          -25.51020408163265,
          -25.51020408163265,
          -25.51020408163265,
          -25.51020408163265,
          -25.51020408163265,
          -25.51020408163265,
          -25.51020408163265,
          -25.51020408163265,
          -25.51020408163265,
          -25.51020408163265,
          -25.51020408163265,
          -25.51020408163265,
          -25.51020408163265,
          -25.51020408163265,
          -25.51020408163265,
          -25.51020408163265,
          -25.51020408163265,
          null
         ]
        },
        {
         "line": {
          "color": "darkblue",
          "width": 4
         },
         "mode": "lines",
         "name": "Slice Z=-23.47",
         "type": "scatter3d",
         "visible": false,
         "x": [
          3.061616997868383e-16,
          0.5076412878312417,
          1.9134171618254492,
          2.3437746653641174,
          3.5355339059327378,
          3.823089596465555,
          4.619397662556434,
          4.720373792898604,
          5,
          4.899023869657829,
          4.619397662556432,
          4.331841972023615,
          3.535533905932737,
          3.105176402394069,
          1.91341716182545,
          1.405775873994208,
          -9.184850993605148e-16,
          -0.5076412878312428,
          -1.9134171618254516,
          -2.3437746653641196,
          -3.5355339059327386,
          -3.8230895964655556,
          -4.619397662556434,
          -4.720373792898604,
          -5,
          -4.89902386965783,
          -4.619397662556434,
          -4.331841972023616,
          -3.5355339059327373,
          -3.105176402394069,
          -1.9134171618254485,
          -1.405775873994207,
          3.061616997868383e-16,
          3.061616997868383e-16,
          null
         ],
         "y": [
          5,
          4.89902386965783,
          4.619397662556434,
          4.331841972023616,
          3.5355339059327373,
          3.105176402394069,
          1.913417161825449,
          1.4057758739942074,
          0,
          -0.5076412878312422,
          -1.913417161825452,
          -2.34377466536412,
          -3.5355339059327386,
          -3.8230895964655556,
          -4.619397662556433,
          -4.720373792898604,
          -5,
          -4.899023869657829,
          -4.619397662556432,
          -4.331841972023615,
          -3.5355339059327373,
          -3.1051764023940684,
          -1.9134171618254483,
          -1.4057758739942068,
          6.123233995736766e-16,
          0.5076412878312422,
          1.9134171618254494,
          2.343774665364118,
          3.5355339059327378,
          3.823089596465555,
          4.619397662556434,
          4.720373792898604,
          5,
          5,
          null
         ],
         "z": [
          -23.46938775510204,
          -23.469387755102048,
          -23.46938775510204,
          -23.469387755102048,
          -23.46938775510204,
          -23.469387755102048,
          -23.46938775510204,
          -23.469387755102048,
          -23.469387755102048,
          -23.469387755102048,
          -23.46938775510204,
          -23.469387755102048,
          -23.46938775510204,
          -23.469387755102048,
          -23.46938775510204,
          -23.469387755102048,
          -23.46938775510204,
          -23.469387755102048,
          -23.46938775510204,
          -23.469387755102048,
          -23.46938775510204,
          -23.469387755102048,
          -23.46938775510204,
          -23.469387755102048,
          -23.46938775510204,
          -23.469387755102048,
          -23.46938775510204,
          -23.469387755102048,
          -23.46938775510204,
          -23.469387755102048,
          -23.46938775510204,
          -23.469387755102048,
          -23.46938775510204,
          -23.46938775510204,
          null
         ]
        },
        {
         "line": {
          "color": "darkblue",
          "width": 4
         },
         "mode": "lines",
         "name": "Slice Z=-21.43",
         "type": "scatter3d",
         "visible": false,
         "x": [
          3.061616997868383e-16,
          -1.3667265441610346,
          -1.9134171618254485,
          -3.0720719790449404,
          -3.5355339059327373,
          -4.309722303521092,
          -4.619397662556434,
          -4.891256475016124,
          -5,
          -4.72814118754031,
          -4.619397662556434,
          -3.84520926496808,
          -3.5355339059327386,
          -2.376879088713248,
          -1.9134171618254516,
          -0.5466906176644153,
          -9.184850993605148e-16,
          1.3667265441610355,
          1.91341716182545,
          3.0720719790449404,
          3.535533905932737,
          4.309722303521091,
          4.619397662556432,
          4.891256475016124,
          5,
          4.72814118754031,
          4.619397662556434,
          3.8452092649680796,
          3.5355339059327378,
          2.3768790887132463,
          1.9134171618254492,
          0.5466906176644142,
          3.061616997868383e-16,
          3.061616997868383e-16,
          null
         ],
         "y": [
          5,
          4.72814118754031,
          4.619397662556434,
          3.8452092649680796,
          3.5355339059327378,
          2.3768790887132463,
          1.9134171618254494,
          0.5466906176644146,
          6.123233995736766e-16,
          -1.3667265441610343,
          -1.9134171618254483,
          -3.0720719790449404,
          -3.5355339059327373,
          -4.309722303521091,
          -4.619397662556432,
          -4.891256475016124,
          -5,
          -4.728141187540309,
          -4.619397662556433,
          -3.84520926496808,
          -3.5355339059327386,
          -2.376879088713248,
          -1.913417161825452,
          -0.5466906176644148,
          0,
          1.366726544161035,
          1.913417161825449,
          3.0720719790449404,
          3.5355339059327373,
          4.309722303521092,
          4.619397662556434,
          4.891256475016124,
          5,
          5,
          null
         ],
         "z": [
          -21.428571428571427,
          -21.42857142857143,
          -21.428571428571427,
          -21.42857142857143,
          -21.428571428571427,
          -21.42857142857143,
          -21.428571428571427,
          -21.42857142857143,
          -21.428571428571427,
          -21.42857142857143,
          -21.428571428571427,
          -21.42857142857143,
          -21.428571428571427,
          -21.42857142857143,
          -21.428571428571427,
          -21.42857142857143,
          -21.428571428571427,
          -21.42857142857143,
          -21.428571428571427,
          -21.42857142857143,
          -21.428571428571427,
          -21.42857142857143,
          -21.428571428571427,
          -21.42857142857143,
          -21.42857142857143,
          -21.42857142857143,
          -21.428571428571427,
          -21.42857142857143,
          -21.428571428571427,
          -21.42857142857143,
          -21.428571428571427,
          -21.42857142857143,
          -21.428571428571427,
          -21.428571428571427,
          null
         ]
        },
        {
         "line": {
          "color": "darkblue",
          "width": 4
         },
         "mode": "lines",
         "name": "Slice Z=-19.39",
         "type": "scatter3d",
         "visible": false,
         "x": [
          3.061616997868383e-16,
          -1.3276772143278621,
          -1.9134171618254485,
          -3.0389675556958125,
          -3.5355339059327373,
          -4.287602635018567,
          -4.619397662556434,
          -4.883489080374418,
          -5,
          -4.735908582182016,
          -4.619397662556434,
          -3.8673289334706045,
          -3.5355339059327386,
          -2.409983512062376,
          -1.9134171618254516,
          -0.5857399474975877,
          -9.184850993605148e-16,
          1.327677214327863,
          1.91341716182545,
          3.0389675556958125,
          3.535533905932737,
          4.287602635018566,
          4.619397662556432,
          4.883489080374418,
          5,
          4.735908582182016,
          4.619397662556434,
          3.867328933470604,
          3.5355339059327378,
          2.4099835120623743,
          1.9134171618254492,
          0.5857399474975866,
          3.061616997868383e-16,
          3.061616997868383e-16,
          null
         ],
         "y": [
          5,
          4.735908582182016,
          4.619397662556434,
          3.867328933470604,
          3.5355339059327378,
          2.4099835120623743,
          1.9134171618254494,
          0.5857399474975871,
          6.123233995736766e-16,
          -1.327677214327862,
          -1.9134171618254483,
          -3.038967555695812,
          -3.5355339059327373,
          -4.287602635018566,
          -4.619397662556432,
          -4.883489080374418,
          -5,
          -4.735908582182015,
          -4.619397662556433,
          -3.8673289334706045,
          -3.5355339059327386,
          -2.409983512062377,
          -1.913417161825452,
          -0.5857399474975873,
          0,
          1.3276772143278626,
          1.913417161825449,
          3.0389675556958125,
          3.5355339059327373,
          4.287602635018567,
          4.619397662556434,
          4.883489080374418,
          5,
          5,
          null
         ],
         "z": [
          -19.387755102040817,
          -19.387755102040813,
          -19.387755102040817,
          -19.387755102040813,
          -19.387755102040817,
          -19.387755102040813,
          -19.387755102040817,
          -19.387755102040813,
          -19.387755102040817,
          -19.387755102040813,
          -19.387755102040817,
          -19.387755102040813,
          -19.387755102040817,
          -19.387755102040813,
          -19.387755102040817,
          -19.387755102040813,
          -19.387755102040817,
          -19.387755102040813,
          -19.387755102040817,
          -19.387755102040813,
          -19.387755102040817,
          -19.387755102040813,
          -19.387755102040817,
          -19.387755102040813,
          -19.387755102040813,
          -19.387755102040813,
          -19.387755102040817,
          -19.387755102040813,
          -19.387755102040817,
          -19.387755102040813,
          -19.387755102040817,
          -19.387755102040813,
          -19.387755102040817,
          -19.387755102040817,
          null
         ]
        },
        {
         "line": {
          "color": "darkblue",
          "width": 4
         },
         "mode": "lines",
         "name": "Slice Z=-17.35",
         "type": "scatter3d",
         "visible": false,
         "x": [
          3.061616997868383e-16,
          0.6247892773307591,
          1.9134171618254492,
          2.4430879354115027,
          3.5355339059327378,
          3.8894486019731285,
          4.619397662556434,
          4.743675976823721,
          5,
          4.875721685732713,
          4.619397662556432,
          4.265482966516042,
          3.535533905932737,
          3.005863132346684,
          1.91341716182545,
          1.2886278844946903,
          -9.184850993605148e-16,
          -0.6247892773307604,
          -1.9134171618254516,
          -2.4430879354115045,
          -3.5355339059327386,
          -3.889448601973129,
          -4.619397662556434,
          -4.743675976823721,
          -5,
          -4.875721685732713,
          -4.619397662556434,
          -4.265482966516043,
          -3.5355339059327373,
          -3.0058631323466836,
          -1.9134171618254485,
          -1.2886278844946897,
          3.061616997868383e-16,
          3.061616997868383e-16,
          null
         ],
         "y": [
          5,
          4.875721685732713,
          4.619397662556434,
          4.265482966516043,
          3.5355339059327373,
          3.0058631323466836,
          1.913417161825449,
          1.2886278844946901,
          0,
          -0.6247892773307597,
          -1.913417161825452,
          -2.443087935411505,
          -3.5355339059327386,
          -3.889448601973129,
          -4.619397662556433,
          -4.74367597682372,
          -5,
          -4.875721685732713,
          -4.619397662556432,
          -4.265482966516042,
          -3.5355339059327373,
          -3.0058631323466836,
          -1.9134171618254483,
          -1.2886278844946895,
          6.123233995736766e-16,
          0.6247892773307595,
          1.9134171618254494,
          2.443087935411503,
          3.5355339059327378,
          3.8894486019731285,
          4.619397662556434,
          4.743675976823721,
          5,
          5,
          null
         ],
         "z": [
          -17.346938775510203,
          -17.34693877551021,
          -17.346938775510203,
          -17.34693877551021,
          -17.346938775510203,
          -17.34693877551021,
          -17.346938775510203,
          -17.34693877551021,
          -17.34693877551021,
          -17.34693877551021,
          -17.346938775510203,
          -17.34693877551021,
          -17.346938775510203,
          -17.34693877551021,
          -17.346938775510203,
          -17.34693877551021,
          -17.346938775510203,
          -17.34693877551021,
          -17.346938775510203,
          -17.34693877551021,
          -17.346938775510203,
          -17.34693877551021,
          -17.346938775510203,
          -17.34693877551021,
          -17.346938775510203,
          -17.34693877551021,
          -17.346938775510203,
          -17.34693877551021,
          -17.346938775510203,
          -17.34693877551021,
          -17.346938775510203,
          -17.34693877551021,
          -17.346938775510203,
          -17.346938775510203,
          null
         ]
        },
        {
         "line": {
          "color": "darkblue",
          "width": 4
         },
         "mode": "lines",
         "name": "Slice Z=-15.31",
         "type": "scatter3d",
         "visible": false,
         "x": [
          3.061616997868383e-16,
          0.6638386071639315,
          1.9134171618254492,
          2.476192358760631,
          3.5355339059327378,
          3.911568270475653,
          4.619397662556434,
          4.7514433714654265,
          5,
          4.867954291091007,
          4.619397662556432,
          4.243363298013517,
          3.535533905932737,
          2.9727587089975556,
          1.91341716182545,
          1.249578554661518,
          -9.184850993605148e-16,
          -0.6638386071639328,
          -1.9134171618254516,
          -2.476192358760633,
          -3.5355339059327386,
          -3.9115682704756534,
          -4.619397662556434,
          -4.7514433714654265,
          -5,
          -4.867954291091007,
          -4.619397662556434,
          -4.243363298013518,
          -3.5355339059327373,
          -2.9727587089975556,
          -1.9134171618254485,
          -1.2495785546615172,
          3.061616997868383e-16,
          3.061616997868383e-16,
          null
         ],
         "y": [
          5,
          4.867954291091007,
          4.619397662556434,
          4.243363298013518,
          3.5355339059327373,
          2.9727587089975556,
          1.913417161825449,
          1.2495785546615177,
          0,
          -0.6638386071639324,
          -1.913417161825452,
          -2.476192358760633,
          -3.5355339059327386,
          -3.911568270475653,
          -4.619397662556433,
          -4.751443371465426,
          -5,
          -4.867954291091007,
          -4.619397662556432,
          -4.243363298013517,
          -3.5355339059327373,
          -2.9727587089975556,
          -1.9134171618254483,
          -1.249578554661517,
          6.123233995736766e-16,
          0.663838607163932,
          1.9134171618254494,
          2.476192358760631,
          3.5355339059327378,
          3.911568270475653,
          4.619397662556434,
          4.7514433714654265,
          5,
          5,
          null
         ],
         "z": [
          -15.306122448979593,
          -15.306122448979593,
          -15.306122448979593,
          -15.306122448979593,
          -15.306122448979593,
          -15.306122448979593,
          -15.306122448979593,
          -15.306122448979593,
          -15.306122448979593,
          -15.306122448979593,
          -15.306122448979593,
          -15.306122448979593,
          -15.306122448979593,
          -15.306122448979593,
          -15.306122448979593,
          -15.306122448979593,
          -15.306122448979593,
          -15.306122448979593,
          -15.306122448979593,
          -15.306122448979593,
          -15.306122448979593,
          -15.306122448979593,
          -15.306122448979593,
          -15.306122448979593,
          -15.306122448979593,
          -15.306122448979593,
          -15.306122448979593,
          -15.306122448979593,
          -15.306122448979593,
          -15.306122448979593,
          -15.306122448979593,
          -15.306122448979593,
          -15.306122448979593,
          -15.306122448979593,
          null
         ]
        },
        {
         "line": {
          "color": "darkblue",
          "width": 4
         },
         "mode": "lines",
         "name": "Slice Z=-13.27",
         "type": "scatter3d",
         "visible": false,
         "x": [
          3.061616997868383e-16,
          -1.2105292248283448,
          -1.9134171618254485,
          -2.939654285648427,
          -3.5355339059327373,
          -4.221243629510994,
          -4.619397662556434,
          -4.860186896449302,
          -5,
          -4.759210766107132,
          -4.619397662556434,
          -3.933687938978178,
          -3.5355339059327386,
          -2.509296782109761,
          -1.9134171618254516,
          -0.7028879369971053,
          -9.184850993605148e-16,
          1.2105292248283455,
          1.91341716182545,
          2.9396542856484276,
          3.535533905932737,
          4.221243629510993,
          4.619397662556432,
          4.860186896449302,
          5,
          4.759210766107132,
          4.619397662556434,
          3.9336879389781774,
          3.5355339059327378,
          2.509296782109759,
          1.9134171618254492,
          0.702887936997104,
          3.061616997868383e-16,
          3.061616997868383e-16,
          null
         ],
         "y": [
          5,
          4.759210766107132,
          4.619397662556434,
          3.9336879389781774,
          3.5355339059327378,
          2.5092967821097596,
          1.9134171618254494,
          0.7028879369971044,
          6.123233995736766e-16,
          -1.2105292248283446,
          -1.9134171618254483,
          -2.9396542856484267,
          -3.5355339059327373,
          -4.221243629510993,
          -4.619397662556432,
          -4.860186896449302,
          -5,
          -4.759210766107131,
          -4.619397662556433,
          -3.9336879389781774,
          -3.5355339059327386,
          -2.509296782109762,
          -1.913417161825452,
          -0.7028879369971048,
          0,
          1.2105292248283452,
          1.913417161825449,
          2.939654285648427,
          3.5355339059327373,
          4.221243629510994,
          4.619397662556434,
          4.860186896449302,
          5,
          5,
          null
         ],
         "z": [
          -13.265306122448976,
          -13.265306122448976,
          -13.265306122448976,
          -13.265306122448976,
          -13.265306122448976,
          -13.265306122448976,
          -13.265306122448976,
          -13.265306122448976,
          -13.265306122448976,
          -13.265306122448976,
          -13.265306122448976,
          -13.265306122448976,
          -13.265306122448976,
          -13.265306122448976,
          -13.265306122448976,
          -13.265306122448976,
          -13.265306122448976,
          -13.265306122448976,
          -13.265306122448976,
          -13.265306122448976,
          -13.265306122448976,
          -13.265306122448976,
          -13.265306122448976,
          -13.265306122448976,
          -13.265306122448976,
          -13.265306122448976,
          -13.265306122448976,
          -13.265306122448976,
          -13.265306122448976,
          -13.265306122448976,
          -13.265306122448976,
          -13.265306122448976,
          -13.265306122448976,
          -13.265306122448976,
          null
         ]
        },
        {
         "line": {
          "color": "darkblue",
          "width": 4
         },
         "mode": "lines",
         "name": "Slice Z=-11.22",
         "type": "scatter3d",
         "visible": false,
         "x": [
          3.061616997868383e-16,
          -1.1714798949951724,
          -1.9134171618254485,
          -2.9065498622992987,
          -3.5355339059327373,
          -4.199123961008469,
          -4.619397662556434,
          -4.852419501807597,
          -5,
          -4.766978160748837,
          -4.619397662556434,
          -3.9558076074807023,
          -3.5355339059327386,
          -2.5424012054588894,
          -1.9134171618254516,
          -0.7419372668302777,
          -9.184850993605148e-16,
          1.171479894995173,
          1.91341716182545,
          2.906549862299299,
          3.535533905932737,
          4.1991239610084685,
          4.619397662556432,
          4.852419501807596,
          5,
          4.766978160748837,
          4.619397662556434,
          3.9558076074807014,
          3.5355339059327378,
          2.5424012054588876,
          1.9134171618254492,
          0.7419372668302764,
          3.061616997868383e-16,
          3.061616997868383e-16,
          null
         ],
         "y": [
          5,
          4.766978160748837,
          4.619397662556434,
          3.9558076074807014,
          3.5355339059327378,
          2.542401205458888,
          1.9134171618254494,
          0.7419372668302768,
          6.123233995736766e-16,
          -1.1714798949951721,
          -1.9134171618254483,
          -2.9065498622992987,
          -3.5355339059327373,
          -4.1991239610084685,
          -4.619397662556432,
          -4.852419501807596,
          -5,
          -4.766978160748836,
          -4.619397662556433,
          -3.955807607480702,
          -3.5355339059327386,
          -2.54240120545889,
          -1.913417161825452,
          -0.7419372668302773,
          0,
          1.1714798949951728,
          1.913417161825449,
          2.9065498622992987,
          3.5355339059327373,
          4.199123961008469,
          4.619397662556434,
          4.852419501807597,
          5,
          5,
          null
         ],
         "z": [
          -11.224489795918366,
          -11.224489795918366,
          -11.224489795918366,
          -11.224489795918366,
          -11.224489795918366,
          -11.224489795918366,
          -11.224489795918366,
          -11.224489795918366,
          -11.224489795918366,
          -11.224489795918366,
          -11.224489795918366,
          -11.224489795918366,
          -11.224489795918366,
          -11.224489795918366,
          -11.224489795918366,
          -11.224489795918366,
          -11.224489795918366,
          -11.224489795918366,
          -11.224489795918366,
          -11.224489795918366,
          -11.224489795918366,
          -11.224489795918366,
          -11.224489795918366,
          -11.224489795918366,
          -11.224489795918366,
          -11.224489795918366,
          -11.224489795918366,
          -11.224489795918366,
          -11.224489795918366,
          -11.224489795918366,
          -11.224489795918366,
          -11.224489795918366,
          -11.224489795918366,
          -11.224489795918366,
          null
         ]
        },
        {
         "line": {
          "color": "darkblue",
          "width": 4
         },
         "mode": "lines",
         "name": "Slice Z=-9.18",
         "type": "scatter3d",
         "visible": false,
         "x": [
          -9.184850993605148e-16,
          -0.7809865966634502,
          -1.9134171618254516,
          -2.575505628808018,
          -3.5355339059327386,
          -3.9779272759832267,
          -4.619397662556434,
          -4.774745555390543,
          -5,
          -4.844652107165891,
          -4.619397662556434,
          -4.177004292505946,
          -3.5355339059327373,
          -2.8734454389501707,
          -1.9134171618254485,
          -1.1324305651620001,
          3.061616997868383e-16,
          0.7809865966634486,
          1.9134171618254492,
          2.575505628808016,
          3.5355339059327378,
          3.977927275983226,
          4.619397662556434,
          4.774745555390543,
          5,
          4.84465210716589,
          4.619397662556432,
          4.177004292505944,
          3.535533905932737,
          2.8734454389501707,
          1.91341716182545,
          1.1324305651620006,
          -9.184850993605148e-16,
          -9.184850993605148e-16,
          null
         ],
         "y": [
          -5,
          -4.84465210716589,
          -4.619397662556432,
          -4.177004292505944,
          -3.5355339059327373,
          -2.8734454389501702,
          -1.9134171618254483,
          -1.132430565162,
          6.123233995736766e-16,
          0.780986596663449,
          1.9134171618254494,
          2.575505628808016,
          3.5355339059327378,
          3.977927275983226,
          4.619397662556434,
          4.774745555390543,
          5,
          4.844652107165891,
          4.619397662556434,
          4.177004292505946,
          3.5355339059327373,
          2.8734454389501707,
          1.913417161825449,
          1.1324305651620006,
          0,
          -0.7809865966634497,
          -1.913417161825452,
          -2.575505628808018,
          -3.5355339059327386,
          -3.9779272759832263,
          -4.619397662556433,
          -4.774745555390542,
          -5,
          -5,
          null
         ],
         "z": [
          -9.183673469387756,
          -9.183673469387756,
          -9.183673469387756,
          -9.183673469387756,
          -9.183673469387756,
          -9.183673469387756,
          -9.183673469387756,
          -9.183673469387756,
          -9.183673469387756,
          -9.183673469387756,
          -9.183673469387756,
          -9.183673469387756,
          -9.183673469387756,
          -9.183673469387756,
          -9.183673469387756,
          -9.183673469387756,
          -9.183673469387756,
          -9.183673469387756,
          -9.183673469387756,
          -9.183673469387756,
          -9.183673469387756,
          -9.183673469387756,
          -9.183673469387756,
          -9.183673469387756,
          -9.183673469387756,
          -9.183673469387756,
          -9.183673469387756,
          -9.183673469387756,
          -9.183673469387756,
          -9.183673469387756,
          -9.183673469387756,
          -9.183673469387756,
          -9.183673469387756,
          -9.183673469387756,
          null
         ]
        },
        {
         "line": {
          "color": "darkblue",
          "width": 4
         },
         "mode": "lines",
         "name": "Slice Z=-7.14",
         "type": "scatter3d",
         "visible": false,
         "x": [
          -9.184850993605148e-16,
          -0.8200359264966226,
          -1.9134171618254516,
          -2.608610052157146,
          -3.5355339059327386,
          -4.000046944485751,
          -4.619397662556434,
          -4.782512950032248,
          -5,
          -4.836884712524186,
          -4.619397662556434,
          -4.154884624003421,
          -3.5355339059327373,
          -2.840341015601042,
          -1.9134171618254485,
          -1.0933812353288275,
          3.061616997868383e-16,
          0.8200359264966213,
          1.9134171618254492,
          2.6086100521571445,
          3.5355339059327378,
          4.00004694448575,
          4.619397662556434,
          4.782512950032248,
          5,
          4.836884712524185,
          4.619397662556432,
          4.15488462400342,
          3.535533905932737,
          2.8403410156010427,
          1.91341716182545,
          1.0933812353288281,
          -9.184850993605148e-16,
          -9.184850993605148e-16,
          null
         ],
         "y": [
          -5,
          -4.836884712524185,
          -4.619397662556432,
          -4.15488462400342,
          -3.5355339059327373,
          -2.840341015601042,
          -1.9134171618254483,
          -1.0933812353288273,
          6.123233995736766e-16,
          0.8200359264966217,
          1.9134171618254494,
          2.6086100521571445,
          3.5355339059327378,
          4.00004694448575,
          4.619397662556434,
          4.782512950032248,
          5,
          4.836884712524186,
          4.619397662556434,
          4.154884624003421,
          3.5355339059327373,
          2.8403410156010422,
          1.913417161825449,
          1.093381235328828,
          0,
          -0.8200359264966224,
          -1.913417161825452,
          -2.6086100521571467,
          -3.5355339059327386,
          -4.00004694448575,
          -4.619397662556433,
          -4.782512950032247,
          -5,
          -5,
          null
         ],
         "z": [
          -7.142857142857139,
          -7.142857142857139,
          -7.142857142857139,
          -7.142857142857139,
          -7.142857142857139,
          -7.142857142857139,
          -7.142857142857139,
          -7.142857142857139,
          -7.142857142857139,
          -7.142857142857139,
          -7.142857142857139,
          -7.142857142857139,
          -7.142857142857139,
          -7.142857142857139,
          -7.142857142857139,
          -7.142857142857139,
          -7.142857142857139,
          -7.142857142857139,
          -7.142857142857139,
          -7.142857142857139,
          -7.142857142857139,
          -7.142857142857139,
          -7.142857142857139,
          -7.142857142857139,
          -7.142857142857139,
          -7.142857142857139,
          -7.142857142857139,
          -7.142857142857139,
          -7.142857142857139,
          -7.142857142857139,
          -7.142857142857139,
          -7.142857142857139,
          -7.142857142857139,
          -7.142857142857139,
          null
         ]
        },
        {
         "line": {
          "color": "darkblue",
          "width": 4
         },
         "mode": "lines",
         "name": "Slice Z=-5.10",
         "type": "scatter3d",
         "visible": false,
         "x": [
          -9.184850993605148e-16,
          -0.8590852563297953,
          -1.9134171618254516,
          -2.6417144755062743,
          -3.5355339059327386,
          -4.022166612988276,
          -4.619397662556434,
          -4.7902803446739535,
          -5,
          -4.82911731788248,
          -4.619397662556434,
          -4.132764955500897,
          -3.5355339059327373,
          -2.807236592251914,
          -1.9134171618254485,
          -1.054331905495655,
          3.061616997868383e-16,
          0.8590852563297937,
          1.9134171618254492,
          2.641714475506273,
          3.5355339059327378,
          4.022166612988275,
          4.619397662556434,
          4.7902803446739535,
          5,
          4.8291173178824796,
          4.619397662556432,
          4.132764955500895,
          3.535533905932737,
          2.8072365922519142,
          1.91341716182545,
          1.0543319054956555,
          -9.184850993605148e-16,
          -9.184850993605148e-16,
          null
         ],
         "y": [
          -5,
          -4.8291173178824796,
          -4.619397662556432,
          -4.132764955500895,
          -3.5355339059327373,
          -2.8072365922519134,
          -1.9134171618254483,
          -1.0543319054956548,
          6.123233995736766e-16,
          0.8590852563297942,
          1.9134171618254494,
          2.641714475506273,
          3.5355339059327378,
          4.022166612988275,
          4.619397662556434,
          4.7902803446739535,
          5,
          4.82911731788248,
          4.619397662556434,
          4.132764955500897,
          3.5355339059327373,
          2.807236592251914,
          1.913417161825449,
          1.0543319054956555,
          0,
          -0.8590852563297948,
          -1.913417161825452,
          -2.6417144755062747,
          -3.5355339059327386,
          -4.022166612988275,
          -4.619397662556433,
          -4.790280344673953,
          -5,
          -5,
          null
         ],
         "z": [
          -5.102040816326529,
          -5.102040816326529,
          -5.102040816326529,
          -5.102040816326529,
          -5.102040816326529,
          -5.102040816326529,
          -5.102040816326529,
          -5.102040816326529,
          -5.102040816326529,
          -5.102040816326529,
          -5.102040816326529,
          -5.102040816326529,
          -5.102040816326529,
          -5.102040816326529,
          -5.102040816326529,
          -5.102040816326529,
          -5.102040816326529,
          -5.102040816326529,
          -5.102040816326529,
          -5.102040816326529,
          -5.102040816326529,
          -5.102040816326529,
          -5.102040816326529,
          -5.102040816326529,
          -5.102040816326529,
          -5.102040816326529,
          -5.102040816326529,
          -5.102040816326529,
          -5.102040816326529,
          -5.102040816326529,
          -5.102040816326529,
          -5.102040816326529,
          -5.102040816326529,
          -5.102040816326529,
          null
         ]
        },
        {
         "line": {
          "color": "darkblue",
          "width": 4
         },
         "mode": "lines",
         "name": "Slice Z=-3.06",
         "type": "scatter3d",
         "visible": false,
         "x": [
          -9.184850993605148e-16,
          -0.8981345861629675,
          -1.9134171618254516,
          -2.6748188988554027,
          -3.5355339059327386,
          -4.0442862814908,
          -4.619397662556434,
          -4.798047739315659,
          -5,
          -4.821349923240775,
          -4.619397662556434,
          -4.1106452869983725,
          -3.5355339059327373,
          -2.7741321689027854,
          -1.9134171618254485,
          -1.0152825756624828,
          3.061616997868383e-16,
          0.8981345861629659,
          1.9134171618254492,
          2.674818898855401,
          3.5355339059327378,
          4.044286281490799,
          4.619397662556434,
          4.798047739315659,
          5,
          4.821349923240774,
          4.619397662556432,
          4.110645286998371,
          3.535533905932737,
          2.774132168902786,
          1.91341716182545,
          1.0152825756624833,
          -9.184850993605148e-16,
          -9.184850993605148e-16,
          null
         ],
         "y": [
          -5,
          -4.821349923240774,
          -4.619397662556432,
          -4.110645286998372,
          -3.5355339059327373,
          -2.7741321689027854,
          -1.9134171618254483,
          -1.0152825756624826,
          6.123233995736766e-16,
          0.8981345861629664,
          1.9134171618254494,
          2.674818898855401,
          3.5355339059327378,
          4.044286281490799,
          4.619397662556434,
          4.798047739315659,
          5,
          4.821349923240775,
          4.619397662556434,
          4.1106452869983725,
          3.5355339059327373,
          2.774132168902786,
          1.913417161825449,
          1.0152825756624833,
          0,
          -0.8981345861629673,
          -1.913417161825452,
          -2.674818898855403,
          -3.5355339059327386,
          -4.044286281490799,
          -4.619397662556433,
          -4.798047739315658,
          -5,
          -5,
          null
         ],
         "z": [
          -3.0612244897959187,
          -3.0612244897959187,
          -3.0612244897959187,
          -3.0612244897959187,
          -3.0612244897959187,
          -3.0612244897959187,
          -3.0612244897959187,
          -3.0612244897959187,
          -3.0612244897959187,
          -3.0612244897959187,
          -3.0612244897959187,
          -3.0612244897959187,
          -3.0612244897959187,
          -3.0612244897959187,
          -3.0612244897959187,
          -3.0612244897959187,
          -3.0612244897959187,
          -3.0612244897959187,
          -3.0612244897959187,
          -3.0612244897959187,
          -3.0612244897959187,
          -3.0612244897959187,
          -3.0612244897959187,
          -3.0612244897959187,
          -3.0612244897959187,
          -3.0612244897959187,
          -3.0612244897959187,
          -3.0612244897959187,
          -3.0612244897959187,
          -3.0612244897959187,
          -3.0612244897959187,
          -3.0612244897959187,
          -3.0612244897959187,
          -3.0612244897959187,
          null
         ]
        },
        {
         "line": {
          "color": "darkblue",
          "width": 4
         },
         "mode": "lines",
         "name": "Slice Z=-1.02",
         "type": "scatter3d",
         "visible": false,
         "x": [
          -9.184850993605148e-16,
          -0.9371839159961401,
          -1.9134171618254516,
          -2.707923322204531,
          -3.5355339059327386,
          -4.0664059499933245,
          -4.619397662556434,
          -4.805815133957364,
          -5,
          -4.81358252859907,
          -4.619397662556434,
          -4.088525618495848,
          -3.5355339059327373,
          -2.741027745553657,
          -1.9134171618254485,
          -0.9762332458293101,
          3.061616997868383e-16,
          0.9371839159961386,
          1.9134171618254492,
          2.7079233222045294,
          3.5355339059327378,
          4.066405949993324,
          4.619397662556434,
          4.805815133957364,
          5,
          4.813582528599069,
          4.619397662556432,
          4.088525618495846,
          3.535533905932737,
          2.7410277455536574,
          1.91341716182545,
          0.9762332458293106,
          -9.184850993605148e-16,
          -9.184850993605148e-16,
          null
         ],
         "y": [
          -5,
          -4.813582528599069,
          -4.619397662556432,
          -4.088525618495847,
          -3.5355339059327373,
          -2.741027745553657,
          -1.9134171618254483,
          -0.9762332458293099,
          6.123233995736766e-16,
          0.9371839159961389,
          1.9134171618254494,
          2.70792332220453,
          3.5355339059327378,
          4.066405949993324,
          4.619397662556434,
          4.805815133957364,
          5,
          4.81358252859907,
          4.619397662556434,
          4.088525618495848,
          3.5355339059327373,
          2.741027745553657,
          1.913417161825449,
          0.9762332458293106,
          0,
          -0.9371839159961399,
          -1.913417161825452,
          -2.7079233222045316,
          -3.5355339059327386,
          -4.066405949993324,
          -4.619397662556433,
          -4.805815133957363,
          -5,
          -5,
          null
         ],
         "z": [
          -1.0204081632653015,
          -1.0204081632653015,
          -1.0204081632653015,
          -1.0204081632653015,
          -1.0204081632653015,
          -1.0204081632653015,
          -1.0204081632653015,
          -1.0204081632653015,
          -1.0204081632653015,
          -1.0204081632653015,
          -1.0204081632653015,
          -1.0204081632653015,
          -1.0204081632653015,
          -1.0204081632653015,
          -1.0204081632653015,
          -1.0204081632653015,
          -1.0204081632653015,
          -1.0204081632653015,
          -1.0204081632653015,
          -1.0204081632653015,
          -1.0204081632653015,
          -1.0204081632653015,
          -1.0204081632653015,
          -1.0204081632653015,
          -1.0204081632653015,
          -1.0204081632653015,
          -1.0204081632653015,
          -1.0204081632653015,
          -1.0204081632653015,
          -1.0204081632653015,
          -1.0204081632653015,
          -1.0204081632653015,
          -1.0204081632653015,
          -1.0204081632653015,
          null
         ]
        },
        {
         "line": {
          "color": "darkblue",
          "width": 4
         },
         "mode": "lines",
         "name": "Slice Z=1.02",
         "type": "scatter3d",
         "visible": true,
         "x": [
          -9.184850993605148e-16,
          0.9371839159961383,
          1.91341716182545,
          2.7079233222045294,
          3.535533905932737,
          4.066405949993323,
          4.619397662556432,
          4.805815133957363,
          5,
          4.81358252859907,
          4.619397662556434,
          4.088525618495848,
          3.5355339059327378,
          2.741027745553658,
          1.9134171618254492,
          0.9762332458293109,
          3.061616997868383e-16,
          -0.9371839159961378,
          -1.9134171618254485,
          -2.707923322204529,
          -3.5355339059327373,
          -4.066405949993324,
          -4.619397662556434,
          -4.805815133957364,
          -5,
          -4.81358252859907,
          -4.619397662556434,
          -4.088525618495849,
          -3.5355339059327386,
          -2.741027745553659,
          -1.9134171618254516,
          -0.9762332458293125,
          -9.184850993605148e-16,
          -9.184850993605148e-16,
          null
         ],
         "y": [
          -5,
          -4.81358252859907,
          -4.619397662556433,
          -4.088525618495848,
          -3.5355339059327386,
          -2.7410277455536596,
          -1.913417161825452,
          -0.9762332458293123,
          0,
          0.9371839159961383,
          1.913417161825449,
          2.707923322204529,
          3.5355339059327373,
          4.066405949993324,
          4.619397662556434,
          4.805815133957364,
          5,
          4.81358252859907,
          4.619397662556434,
          4.088525618495848,
          3.5355339059327378,
          2.741027745553658,
          1.9134171618254494,
          0.9762332458293113,
          6.123233995736766e-16,
          -0.9371839159961376,
          -1.9134171618254483,
          -2.7079233222045285,
          -3.5355339059327373,
          -4.066405949993323,
          -4.619397662556432,
          -4.805815133957363,
          -5,
          -5,
          null
         ],
         "z": [
          1.0204081632653086,
          1.0204081632653086,
          1.0204081632653086,
          1.0204081632653086,
          1.0204081632653086,
          1.0204081632653086,
          1.0204081632653086,
          1.0204081632653086,
          1.0204081632653086,
          1.0204081632653086,
          1.0204081632653086,
          1.0204081632653086,
          1.0204081632653086,
          1.0204081632653086,
          1.0204081632653086,
          1.0204081632653086,
          1.0204081632653086,
          1.0204081632653086,
          1.0204081632653086,
          1.0204081632653086,
          1.0204081632653086,
          1.0204081632653086,
          1.0204081632653086,
          1.0204081632653086,
          1.0204081632653086,
          1.0204081632653086,
          1.0204081632653086,
          1.0204081632653086,
          1.0204081632653086,
          1.0204081632653086,
          1.0204081632653086,
          1.0204081632653086,
          1.0204081632653086,
          1.0204081632653086,
          null
         ]
        },
        {
         "line": {
          "color": "darkblue",
          "width": 4
         },
         "mode": "lines",
         "name": "Slice Z=3.06",
         "type": "scatter3d",
         "visible": false,
         "x": [
          -9.184850993605148e-16,
          0.8981345861629658,
          1.91341716182545,
          2.674818898855401,
          3.535533905932737,
          4.044286281490798,
          4.619397662556432,
          4.798047739315658,
          5,
          4.821349923240775,
          4.619397662556434,
          4.1106452869983725,
          3.5355339059327378,
          2.774132168902786,
          1.9134171618254492,
          1.0152825756624835,
          3.061616997868383e-16,
          -0.8981345861629654,
          -1.9134171618254485,
          -2.6748188988554005,
          -3.5355339059327373,
          -4.044286281490799,
          -4.619397662556434,
          -4.798047739315659,
          -5,
          -4.821349923240775,
          -4.619397662556434,
          -4.110645286998373,
          -3.5355339059327386,
          -2.7741321689027876,
          -1.9134171618254516,
          -1.0152825756624848,
          -9.184850993605148e-16,
          -9.184850993605148e-16,
          null
         ],
         "y": [
          -5,
          -4.821349923240775,
          -4.619397662556433,
          -4.1106452869983725,
          -3.5355339059327386,
          -2.774132168902788,
          -1.913417161825452,
          -1.0152825756624848,
          0,
          0.8981345861629658,
          1.913417161825449,
          2.6748188988554005,
          3.5355339059327373,
          4.044286281490799,
          4.619397662556434,
          4.798047739315659,
          5,
          4.821349923240775,
          4.619397662556434,
          4.1106452869983725,
          3.5355339059327378,
          2.7741321689027862,
          1.9134171618254494,
          1.0152825756624837,
          6.123233995736766e-16,
          -0.8981345861629652,
          -1.9134171618254483,
          -2.6748188988554,
          -3.5355339059327373,
          -4.044286281490798,
          -4.619397662556432,
          -4.798047739315658,
          -5,
          -5,
          null
         ],
         "z": [
          3.0612244897959187,
          3.0612244897959187,
          3.0612244897959187,
          3.0612244897959187,
          3.0612244897959187,
          3.0612244897959187,
          3.0612244897959187,
          3.0612244897959187,
          3.0612244897959187,
          3.0612244897959187,
          3.0612244897959187,
          3.0612244897959187,
          3.0612244897959187,
          3.0612244897959187,
          3.0612244897959187,
          3.0612244897959187,
          3.0612244897959187,
          3.0612244897959187,
          3.0612244897959187,
          3.0612244897959187,
          3.0612244897959187,
          3.0612244897959187,
          3.0612244897959187,
          3.0612244897959187,
          3.0612244897959187,
          3.0612244897959187,
          3.0612244897959187,
          3.0612244897959187,
          3.0612244897959187,
          3.0612244897959187,
          3.0612244897959187,
          3.0612244897959187,
          3.0612244897959187,
          3.0612244897959187,
          null
         ]
        },
        {
         "line": {
          "color": "darkblue",
          "width": 4
         },
         "mode": "lines",
         "name": "Slice Z=5.10",
         "type": "scatter3d",
         "visible": false,
         "x": [
          -9.184850993605148e-16,
          0.8590852563297934,
          1.91341716182545,
          2.641714475506273,
          3.535533905932737,
          4.022166612988274,
          4.619397662556432,
          4.790280344673953,
          5,
          4.82911731788248,
          4.619397662556434,
          4.132764955500897,
          3.5355339059327378,
          2.8072365922519142,
          1.9134171618254492,
          1.0543319054956557,
          3.061616997868383e-16,
          -0.859085256329793,
          -1.9134171618254485,
          -2.641714475506272,
          -3.5355339059327373,
          -4.022166612988275,
          -4.619397662556434,
          -4.7902803446739535,
          -5,
          -4.82911731788248,
          -4.619397662556434,
          -4.132764955500897,
          -3.5355339059327386,
          -2.8072365922519156,
          -1.9134171618254516,
          -1.0543319054956575,
          -9.184850993605148e-16,
          -9.184850993605148e-16,
          null
         ],
         "y": [
          -5,
          -4.82911731788248,
          -4.619397662556433,
          -4.132764955500897,
          -3.5355339059327386,
          -2.807236592251916,
          -1.913417161825452,
          -1.054331905495657,
          0,
          0.8590852563297935,
          1.913417161825449,
          2.641714475506272,
          3.5355339059327373,
          4.022166612988275,
          4.619397662556434,
          4.7902803446739535,
          5,
          4.82911731788248,
          4.619397662556434,
          4.132764955500897,
          3.5355339059327378,
          2.8072365922519147,
          1.9134171618254494,
          1.0543319054956561,
          6.123233995736766e-16,
          -0.8590852563297928,
          -1.9134171618254483,
          -2.641714475506272,
          -3.5355339059327373,
          -4.022166612988274,
          -4.619397662556432,
          -4.790280344673953,
          -5,
          -5,
          null
         ],
         "z": [
          5.102040816326529,
          5.102040816326529,
          5.102040816326529,
          5.102040816326529,
          5.102040816326529,
          5.102040816326529,
          5.102040816326529,
          5.102040816326529,
          5.102040816326529,
          5.102040816326529,
          5.102040816326529,
          5.102040816326529,
          5.102040816326529,
          5.102040816326529,
          5.102040816326529,
          5.102040816326529,
          5.102040816326529,
          5.102040816326529,
          5.102040816326529,
          5.102040816326529,
          5.102040816326529,
          5.102040816326529,
          5.102040816326529,
          5.102040816326529,
          5.102040816326529,
          5.102040816326529,
          5.102040816326529,
          5.102040816326529,
          5.102040816326529,
          5.102040816326529,
          5.102040816326529,
          5.102040816326529,
          5.102040816326529,
          5.102040816326529,
          null
         ]
        },
        {
         "line": {
          "color": "darkblue",
          "width": 4
         },
         "mode": "lines",
         "name": "Slice Z=7.14",
         "type": "scatter3d",
         "visible": false,
         "x": [
          -9.184850993605148e-16,
          0.8200359264966208,
          1.91341716182545,
          2.6086100521571445,
          3.535533905932737,
          4.000046944485749,
          4.619397662556432,
          4.782512950032247,
          5,
          4.836884712524186,
          4.619397662556434,
          4.154884624003421,
          3.5355339059327378,
          2.8403410156010427,
          1.9134171618254492,
          1.0933812353288284,
          3.061616997868383e-16,
          -0.8200359264966205,
          -1.9134171618254485,
          -2.6086100521571436,
          -3.5355339059327373,
          -4.00004694448575,
          -4.619397662556434,
          -4.782512950032248,
          -5,
          -4.836884712524186,
          -4.619397662556434,
          -4.154884624003421,
          -3.5355339059327386,
          -2.8403410156010445,
          -1.9134171618254516,
          -1.09338123532883,
          -9.184850993605148e-16,
          -9.184850993605148e-16,
          null
         ],
         "y": [
          -5,
          -4.836884712524186,
          -4.619397662556433,
          -4.154884624003421,
          -3.5355339059327386,
          -2.8403410156010445,
          -1.913417161825452,
          -1.0933812353288297,
          0,
          0.8200359264966209,
          1.913417161825449,
          2.608610052157144,
          3.5355339059327373,
          4.00004694448575,
          4.619397662556434,
          4.782512950032248,
          5,
          4.836884712524186,
          4.619397662556434,
          4.154884624003421,
          3.5355339059327378,
          2.8403410156010427,
          1.9134171618254494,
          1.0933812353288286,
          6.123233995736766e-16,
          -0.8200359264966203,
          -1.9134171618254483,
          -2.6086100521571436,
          -3.5355339059327373,
          -4.000046944485749,
          -4.619397662556432,
          -4.782512950032247,
          -5,
          -5,
          null
         ],
         "z": [
          7.142857142857146,
          7.142857142857146,
          7.142857142857146,
          7.142857142857146,
          7.142857142857146,
          7.142857142857146,
          7.142857142857146,
          7.142857142857146,
          7.142857142857146,
          7.142857142857146,
          7.142857142857146,
          7.142857142857146,
          7.142857142857146,
          7.142857142857146,
          7.142857142857146,
          7.142857142857146,
          7.142857142857146,
          7.142857142857146,
          7.142857142857146,
          7.142857142857146,
          7.142857142857146,
          7.142857142857146,
          7.142857142857146,
          7.142857142857146,
          7.142857142857146,
          7.142857142857146,
          7.142857142857146,
          7.142857142857146,
          7.142857142857146,
          7.142857142857146,
          7.142857142857146,
          7.142857142857146,
          7.142857142857146,
          7.142857142857146,
          null
         ]
        },
        {
         "line": {
          "color": "darkblue",
          "width": 4
         },
         "mode": "lines",
         "name": "Slice Z=9.18",
         "type": "scatter3d",
         "visible": false,
         "x": [
          -9.184850993605148e-16,
          0.7809865966634484,
          1.91341716182545,
          2.575505628808016,
          3.535533905932737,
          3.9779272759832245,
          4.619397662556432,
          4.774745555390542,
          5,
          4.844652107165891,
          4.619397662556434,
          4.177004292505946,
          3.5355339059327378,
          2.873445438950171,
          1.9134171618254492,
          1.1324305651620006,
          3.061616997868383e-16,
          -0.780986596663448,
          -1.9134171618254485,
          -2.575505628808015,
          -3.5355339059327373,
          -3.977927275983226,
          -4.619397662556434,
          -4.774745555390543,
          -5,
          -4.844652107165891,
          -4.619397662556434,
          -4.177004292505946,
          -3.5355339059327386,
          -2.8734454389501725,
          -1.9134171618254516,
          -1.1324305651620024,
          -9.184850993605148e-16,
          -9.184850993605148e-16,
          null
         ],
         "y": [
          -5,
          -4.844652107165891,
          -4.619397662556433,
          -4.177004292505946,
          -3.5355339059327386,
          -2.873445438950173,
          -1.913417161825452,
          -1.1324305651620024,
          0,
          0.7809865966634485,
          1.913417161825449,
          2.5755056288080156,
          3.5355339059327373,
          3.977927275983226,
          4.619397662556434,
          4.774745555390543,
          5,
          4.844652107165891,
          4.619397662556434,
          4.177004292505946,
          3.5355339059327378,
          2.873445438950171,
          1.9134171618254494,
          1.132430565162001,
          6.123233995736766e-16,
          -0.7809865966634478,
          -1.9134171618254483,
          -2.575505628808015,
          -3.5355339059327373,
          -3.977927275983225,
          -4.619397662556432,
          -4.774745555390542,
          -5,
          -5,
          null
         ],
         "z": [
          9.183673469387756,
          9.183673469387756,
          9.183673469387756,
          9.183673469387756,
          9.183673469387756,
          9.183673469387756,
          9.183673469387756,
          9.183673469387756,
          9.183673469387756,
          9.183673469387756,
          9.183673469387756,
          9.183673469387756,
          9.183673469387756,
          9.183673469387756,
          9.183673469387756,
          9.183673469387756,
          9.183673469387756,
          9.183673469387756,
          9.183673469387756,
          9.183673469387756,
          9.183673469387756,
          9.183673469387756,
          9.183673469387756,
          9.183673469387756,
          9.183673469387756,
          9.183673469387756,
          9.183673469387756,
          9.183673469387756,
          9.183673469387756,
          9.183673469387756,
          9.183673469387756,
          9.183673469387756,
          9.183673469387756,
          9.183673469387756,
          null
         ]
        },
        {
         "line": {
          "color": "darkblue",
          "width": 4
         },
         "mode": "lines",
         "name": "Slice Z=11.22",
         "type": "scatter3d",
         "visible": false,
         "x": [
          3.061616997868383e-16,
          -0.7419372668302757,
          -1.9134171618254485,
          -2.542401205458887,
          -3.5355339059327373,
          -3.9558076074807014,
          -4.619397662556434,
          -4.766978160748837,
          -5,
          -4.852419501807597,
          -4.619397662556434,
          -4.19912396100847,
          -3.5355339059327386,
          -2.906549862299301,
          -1.9134171618254516,
          -1.1714798949951748,
          -9.184850993605148e-16,
          0.7419372668302759,
          1.91341716182545,
          2.542401205458888,
          3.535533905932737,
          3.9558076074807005,
          4.619397662556432,
          4.766978160748836,
          5,
          4.852419501807597,
          4.619397662556434,
          4.19912396100847,
          3.5355339059327378,
          2.9065498622992996,
          1.9134171618254492,
          1.171479894995173,
          3.061616997868383e-16,
          3.061616997868383e-16,
          null
         ],
         "y": [
          5,
          4.852419501807597,
          4.619397662556434,
          4.19912396100847,
          3.5355339059327378,
          2.9065498622992996,
          1.9134171618254494,
          1.1714798949951732,
          6.123233995736766e-16,
          -0.7419372668302755,
          -1.9134171618254483,
          -2.5424012054588867,
          -3.5355339059327373,
          -3.9558076074807005,
          -4.619397662556432,
          -4.766978160748836,
          -5,
          -4.852419501807597,
          -4.619397662556433,
          -4.19912396100847,
          -3.5355339059327386,
          -2.906549862299301,
          -1.913417161825452,
          -1.1714798949951746,
          0,
          0.7419372668302762,
          1.913417161825449,
          2.542401205458887,
          3.5355339059327373,
          3.9558076074807014,
          4.619397662556434,
          4.766978160748837,
          5,
          5,
          null
         ],
         "z": [
          11.224489795918366,
          11.224489795918366,
          11.224489795918366,
          11.224489795918366,
          11.224489795918366,
          11.224489795918366,
          11.224489795918366,
          11.224489795918366,
          11.224489795918366,
          11.224489795918366,
          11.224489795918366,
          11.224489795918366,
          11.224489795918366,
          11.224489795918366,
          11.224489795918366,
          11.224489795918366,
          11.224489795918366,
          11.224489795918366,
          11.224489795918366,
          11.224489795918366,
          11.224489795918366,
          11.224489795918366,
          11.224489795918366,
          11.224489795918366,
          11.224489795918366,
          11.224489795918366,
          11.224489795918366,
          11.224489795918366,
          11.224489795918366,
          11.224489795918366,
          11.224489795918366,
          11.224489795918366,
          11.224489795918366,
          11.224489795918366,
          null
         ]
        },
        {
         "line": {
          "color": "darkblue",
          "width": 4
         },
         "mode": "lines",
         "name": "Slice Z=13.27",
         "type": "scatter3d",
         "visible": false,
         "x": [
          3.061616997868383e-16,
          -0.7028879369971032,
          -1.9134171618254485,
          -2.5092967821097587,
          -3.5355339059327373,
          -3.933687938978177,
          -4.619397662556434,
          -4.759210766107132,
          -5,
          -4.860186896449302,
          -4.619397662556434,
          -4.221243629510995,
          -3.5355339059327386,
          -2.9396542856484293,
          -1.9134171618254516,
          -1.2105292248283472,
          -9.184850993605148e-16,
          0.7028879369971034,
          1.91341716182545,
          2.509296782109759,
          3.535533905932737,
          3.933687938978176,
          4.619397662556432,
          4.75921076610713,
          5,
          4.860186896449302,
          4.619397662556434,
          4.221243629510995,
          3.5355339059327378,
          2.9396542856484276,
          1.9134171618254492,
          1.2105292248283455,
          3.061616997868383e-16,
          3.061616997868383e-16,
          null
         ],
         "y": [
          5,
          4.860186896449302,
          4.619397662556434,
          4.221243629510995,
          3.5355339059327378,
          2.939654285648428,
          1.9134171618254494,
          1.210529224828346,
          6.123233995736766e-16,
          -0.702887936997103,
          -1.9134171618254483,
          -2.5092967821097583,
          -3.5355339059327373,
          -3.933687938978176,
          -4.619397662556432,
          -4.75921076610713,
          -5,
          -4.860186896449302,
          -4.619397662556433,
          -4.221243629510995,
          -3.5355339059327386,
          -2.9396542856484293,
          -1.913417161825452,
          -1.2105292248283472,
          0,
          0.7028879369971036,
          1.913417161825449,
          2.5092967821097587,
          3.5355339059327373,
          3.933687938978177,
          4.619397662556434,
          4.759210766107132,
          5,
          5,
          null
         ],
         "z": [
          13.265306122448983,
          13.265306122448983,
          13.265306122448983,
          13.265306122448983,
          13.265306122448983,
          13.265306122448983,
          13.265306122448983,
          13.265306122448983,
          13.265306122448983,
          13.265306122448983,
          13.265306122448983,
          13.265306122448983,
          13.265306122448983,
          13.265306122448983,
          13.265306122448983,
          13.265306122448983,
          13.265306122448983,
          13.265306122448983,
          13.265306122448983,
          13.265306122448983,
          13.265306122448983,
          13.265306122448983,
          13.265306122448983,
          13.265306122448983,
          13.265306122448983,
          13.265306122448983,
          13.265306122448983,
          13.265306122448983,
          13.265306122448983,
          13.265306122448983,
          13.265306122448983,
          13.265306122448983,
          13.265306122448983,
          13.265306122448983,
          null
         ]
        },
        {
         "line": {
          "color": "darkblue",
          "width": 4
         },
         "mode": "lines",
         "name": "Slice Z=15.31",
         "type": "scatter3d",
         "visible": false,
         "x": [
          3.061616997868383e-16,
          1.249578554661518,
          1.9134171618254492,
          2.972758708997556,
          3.5355339059327378,
          4.243363298013519,
          4.619397662556434,
          4.867954291091007,
          5,
          4.751443371465425,
          4.619397662556432,
          3.9115682704756516,
          3.535533905932737,
          2.476192358760631,
          1.91341716182545,
          0.6638386071639311,
          -9.184850993605148e-16,
          -1.2495785546615197,
          -1.9134171618254516,
          -2.9727587089975573,
          -3.5355339059327386,
          -4.243363298013519,
          -4.619397662556434,
          -4.867954291091007,
          -5,
          -4.7514433714654265,
          -4.619397662556434,
          -3.9115682704756525,
          -3.5355339059327373,
          -2.4761923587606303,
          -1.9134171618254485,
          -0.6638386071639308,
          3.061616997868383e-16,
          3.061616997868383e-16,
          null
         ],
         "y": [
          5,
          4.7514433714654265,
          4.619397662556434,
          3.9115682704756525,
          3.5355339059327373,
          2.4761923587606307,
          1.913417161825449,
          0.6638386071639313,
          0,
          -1.2495785546615197,
          -1.913417161825452,
          -2.972758708997558,
          -3.5355339059327386,
          -4.243363298013518,
          -4.619397662556433,
          -4.867954291091007,
          -5,
          -4.751443371465425,
          -4.619397662556432,
          -3.9115682704756516,
          -3.5355339059327373,
          -2.4761923587606303,
          -1.9134171618254483,
          -0.6638386071639306,
          6.123233995736766e-16,
          1.2495785546615181,
          1.9134171618254494,
          2.972758708997556,
          3.5355339059327378,
          4.243363298013519,
          4.619397662556434,
          4.867954291091007,
          5,
          5,
          null
         ],
         "z": [
          15.306122448979593,
          15.306122448979593,
          15.306122448979593,
          15.306122448979593,
          15.306122448979593,
          15.306122448979593,
          15.306122448979593,
          15.306122448979593,
          15.306122448979593,
          15.306122448979593,
          15.306122448979593,
          15.306122448979593,
          15.306122448979593,
          15.306122448979593,
          15.306122448979593,
          15.306122448979593,
          15.306122448979593,
          15.306122448979593,
          15.306122448979593,
          15.306122448979593,
          15.306122448979593,
          15.306122448979593,
          15.306122448979593,
          15.306122448979593,
          15.306122448979593,
          15.306122448979593,
          15.306122448979593,
          15.306122448979593,
          15.306122448979593,
          15.306122448979593,
          15.306122448979593,
          15.306122448979593,
          15.306122448979593,
          15.306122448979593,
          null
         ]
        },
        {
         "line": {
          "color": "darkblue",
          "width": 4
         },
         "mode": "lines",
         "name": "Slice Z=17.35",
         "type": "scatter3d",
         "visible": false,
         "x": [
          3.061616997868383e-16,
          1.2886278844946903,
          1.9134171618254492,
          3.0058631323466845,
          3.5355339059327378,
          4.265482966516044,
          4.619397662556434,
          4.875721685732713,
          5,
          4.743675976823719,
          4.619397662556432,
          3.889448601973127,
          3.535533905932737,
          2.4430879354115027,
          1.91341716182545,
          0.6247892773307584,
          -9.184850993605148e-16,
          -1.2886278844946923,
          -1.9134171618254516,
          -3.005863132346686,
          -3.5355339059327386,
          -4.265482966516044,
          -4.619397662556434,
          -4.875721685732713,
          -5,
          -4.743675976823721,
          -4.619397662556434,
          -3.889448601973128,
          -3.5355339059327373,
          -2.443087935411502,
          -1.9134171618254485,
          -0.6247892773307583,
          3.061616997868383e-16,
          3.061616997868383e-16,
          null
         ],
         "y": [
          5,
          4.743675976823721,
          4.619397662556434,
          3.889448601973128,
          3.5355339059327373,
          2.4430879354115023,
          1.913417161825449,
          0.6247892773307587,
          0,
          -1.2886278844946923,
          -1.913417161825452,
          -3.0058631323466862,
          -3.5355339059327386,
          -4.265482966516043,
          -4.619397662556433,
          -4.875721685732713,
          -5,
          -4.743675976823719,
          -4.619397662556432,
          -3.889448601973127,
          -3.5355339059327373,
          -2.443087935411502,
          -1.9134171618254483,
          -0.6247892773307581,
          6.123233995736766e-16,
          1.2886278844946908,
          1.9134171618254494,
          3.0058631323466845,
          3.5355339059327378,
          4.265482966516044,
          4.619397662556434,
          4.875721685732713,
          5,
          5,
          null
         ],
         "z": [
          17.34693877551021,
          17.34693877551021,
          17.34693877551021,
          17.34693877551021,
          17.34693877551021,
          17.34693877551021,
          17.34693877551021,
          17.34693877551021,
          17.34693877551021,
          17.34693877551021,
          17.34693877551021,
          17.34693877551021,
          17.34693877551021,
          17.34693877551021,
          17.34693877551021,
          17.34693877551021,
          17.34693877551021,
          17.34693877551021,
          17.34693877551021,
          17.34693877551021,
          17.34693877551021,
          17.34693877551021,
          17.34693877551021,
          17.34693877551021,
          17.34693877551021,
          17.34693877551021,
          17.34693877551021,
          17.34693877551021,
          17.34693877551021,
          17.34693877551021,
          17.34693877551021,
          17.34693877551021,
          17.34693877551021,
          17.34693877551021,
          null
         ]
        },
        {
         "line": {
          "color": "darkblue",
          "width": 4
         },
         "mode": "lines",
         "name": "Slice Z=19.39",
         "type": "scatter3d",
         "visible": false,
         "x": [
          3.061616997868383e-16,
          -0.5857399474975861,
          -1.9134171618254485,
          -2.409983512062374,
          -3.5355339059327373,
          -3.8673289334706036,
          -4.619397662556434,
          -4.735908582182016,
          -5,
          -4.883489080374418,
          -4.619397662556434,
          -4.287602635018568,
          -3.5355339059327386,
          -3.0389675556958142,
          -1.9134171618254516,
          -1.3276772143278646,
          -9.184850993605148e-16,
          0.5857399474975862,
          1.91341716182545,
          2.4099835120623747,
          3.535533905932737,
          3.8673289334706027,
          4.619397662556432,
          4.735908582182014,
          5,
          4.883489080374418,
          4.619397662556434,
          4.287602635018568,
          3.5355339059327378,
          3.0389675556958125,
          1.9134171618254492,
          1.3276772143278626,
          3.061616997868383e-16,
          3.061616997868383e-16,
          null
         ],
         "y": [
          5,
          4.883489080374418,
          4.619397662556434,
          4.287602635018568,
          3.5355339059327378,
          3.038967555695813,
          1.9134171618254494,
          1.327677214327863,
          6.123233995736766e-16,
          -0.5857399474975858,
          -1.9134171618254483,
          -2.4099835120623734,
          -3.5355339059327373,
          -3.867328933470603,
          -4.619397662556432,
          -4.735908582182014,
          -5,
          -4.883489080374418,
          -4.619397662556433,
          -4.287602635018567,
          -3.5355339059327386,
          -3.0389675556958142,
          -1.913417161825452,
          -1.3276772143278648,
          0,
          0.5857399474975865,
          1.913417161825449,
          2.409983512062374,
          3.5355339059327373,
          3.8673289334706036,
          4.619397662556434,
          4.735908582182016,
          5,
          5,
          null
         ],
         "z": [
          19.387755102040813,
          19.387755102040813,
          19.387755102040813,
          19.387755102040813,
          19.387755102040813,
          19.387755102040813,
          19.387755102040813,
          19.387755102040813,
          19.387755102040813,
          19.387755102040813,
          19.387755102040813,
          19.387755102040813,
          19.387755102040813,
          19.387755102040813,
          19.387755102040813,
          19.387755102040813,
          19.387755102040813,
          19.387755102040813,
          19.387755102040813,
          19.387755102040813,
          19.387755102040813,
          19.387755102040813,
          19.387755102040813,
          19.387755102040813,
          19.387755102040813,
          19.387755102040813,
          19.387755102040813,
          19.387755102040813,
          19.387755102040813,
          19.387755102040813,
          19.387755102040813,
          19.387755102040813,
          19.387755102040813,
          19.387755102040813,
          null
         ]
        },
        {
         "line": {
          "color": "darkblue",
          "width": 4
         },
         "mode": "lines",
         "name": "Slice Z=21.43",
         "type": "scatter3d",
         "visible": false,
         "x": [
          3.061616997868383e-16,
          -0.5466906176644135,
          -1.9134171618254485,
          -2.3768790887132454,
          -3.5355339059327373,
          -3.845209264968079,
          -4.619397662556434,
          -4.72814118754031,
          -5,
          -4.891256475016124,
          -4.619397662556434,
          -4.3097223035210925,
          -3.5355339059327386,
          -3.0720719790449422,
          -1.9134171618254516,
          -1.366726544161037,
          -9.184850993605148e-16,
          0.5466906176644136,
          1.91341716182545,
          2.3768790887132463,
          3.535533905932737,
          3.8452092649680782,
          4.619397662556432,
          4.7281411875403085,
          5,
          4.891256475016124,
          4.619397662556434,
          4.3097223035210925,
          3.5355339059327378,
          3.072071979044941,
          1.9134171618254492,
          1.3667265441610352,
          3.061616997868383e-16,
          3.061616997868383e-16,
          null
         ],
         "y": [
          5,
          4.891256475016124,
          4.619397662556434,
          4.3097223035210925,
          3.5355339059327378,
          3.0720719790449413,
          1.9134171618254494,
          1.3667265441610357,
          6.123233995736766e-16,
          -0.5466906176644133,
          -1.9134171618254483,
          -2.376879088713245,
          -3.5355339059327373,
          -3.8452092649680787,
          -4.619397662556432,
          -4.7281411875403085,
          -5,
          -4.891256475016124,
          -4.619397662556433,
          -4.309722303521092,
          -3.5355339059327386,
          -3.0720719790449427,
          -1.913417161825452,
          -1.3667265441610372,
          0,
          0.546690617664414,
          1.913417161825449,
          2.3768790887132454,
          3.5355339059327373,
          3.845209264968079,
          4.619397662556434,
          4.72814118754031,
          5,
          5,
          null
         ],
         "z": [
          21.42857142857143,
          21.42857142857143,
          21.42857142857143,
          21.42857142857143,
          21.42857142857143,
          21.42857142857143,
          21.42857142857143,
          21.42857142857143,
          21.42857142857143,
          21.42857142857143,
          21.42857142857143,
          21.42857142857143,
          21.42857142857143,
          21.42857142857143,
          21.42857142857143,
          21.42857142857143,
          21.42857142857143,
          21.42857142857143,
          21.42857142857143,
          21.42857142857143,
          21.42857142857143,
          21.42857142857143,
          21.42857142857143,
          21.42857142857143,
          21.42857142857143,
          21.42857142857143,
          21.42857142857143,
          21.42857142857143,
          21.42857142857143,
          21.42857142857143,
          21.42857142857143,
          21.42857142857143,
          21.42857142857143,
          21.42857142857143,
          null
         ]
        },
        {
         "line": {
          "color": "darkblue",
          "width": 4
         },
         "mode": "lines",
         "name": "Slice Z=23.47",
         "type": "scatter3d",
         "visible": false,
         "x": [
          3.061616997868383e-16,
          1.405775873994208,
          1.9134171618254492,
          3.1051764023940693,
          3.5355339059327378,
          4.331841972023617,
          4.619397662556434,
          4.89902386965783,
          5,
          4.720373792898603,
          4.619397662556432,
          3.823089596465554,
          3.535533905932737,
          2.343774665364118,
          1.91341716182545,
          0.5076412878312411,
          -9.184850993605148e-16,
          -1.4057758739942097,
          -1.9134171618254516,
          -3.1051764023940707,
          -3.5355339059327386,
          -4.331841972023617,
          -4.619397662556434,
          -4.89902386965783,
          -5,
          -4.720373792898604,
          -4.619397662556434,
          -3.8230895964655547,
          -3.5355339059327373,
          -2.343774665364117,
          -1.9134171618254485,
          -0.5076412878312411,
          3.061616997868383e-16,
          3.061616997868383e-16,
          null
         ],
         "y": [
          5,
          4.720373792898604,
          4.619397662556434,
          3.8230895964655547,
          3.5355339059327373,
          2.3437746653641174,
          1.913417161825449,
          0.5076412878312414,
          0,
          -1.4057758739942097,
          -1.913417161825452,
          -3.105176402394071,
          -3.5355339059327386,
          -4.331841972023616,
          -4.619397662556433,
          -4.899023869657829,
          -5,
          -4.720373792898603,
          -4.619397662556432,
          -3.8230895964655542,
          -3.5355339059327373,
          -2.3437746653641165,
          -1.9134171618254483,
          -0.5076412878312407,
          6.123233995736766e-16,
          1.405775873994208,
          1.9134171618254494,
          3.1051764023940693,
          3.5355339059327378,
          4.331841972023617,
          4.619397662556434,
          4.89902386965783,
          5,
          5,
          null
         ],
         "z": [
          23.469387755102048,
          23.469387755102048,
          23.469387755102048,
          23.469387755102048,
          23.469387755102048,
          23.469387755102048,
          23.469387755102048,
          23.469387755102048,
          23.469387755102048,
          23.469387755102048,
          23.469387755102048,
          23.469387755102048,
          23.469387755102048,
          23.469387755102048,
          23.469387755102048,
          23.469387755102048,
          23.469387755102048,
          23.469387755102048,
          23.469387755102048,
          23.469387755102048,
          23.469387755102048,
          23.469387755102048,
          23.469387755102048,
          23.469387755102048,
          23.469387755102048,
          23.469387755102048,
          23.469387755102048,
          23.469387755102048,
          23.469387755102048,
          23.469387755102048,
          23.469387755102048,
          23.469387755102048,
          23.469387755102048,
          23.469387755102048,
          null
         ]
        },
        {
         "line": {
          "color": "darkblue",
          "width": 4
         },
         "mode": "lines",
         "name": "Slice Z=25.51",
         "type": "scatter3d",
         "visible": false,
         "x": [
          3.061616997868383e-16,
          1.44482520382738,
          1.9134171618254492,
          3.1382808257431978,
          3.5355339059327378,
          4.3539616405261405,
          4.619397662556434,
          4.906791264299535,
          5,
          4.712606398256898,
          4.619397662556432,
          3.80096992796303,
          3.535533905932737,
          2.31067024201499,
          1.91341716182545,
          0.4685919579980687,
          -9.184850993605148e-16,
          -1.4448252038273819,
          -1.9134171618254516,
          -3.138280825743199,
          -3.5355339059327386,
          -4.353961640526141,
          -4.619397662556434,
          -4.906791264299535,
          -5,
          -4.712606398256899,
          -4.619397662556434,
          -3.8009699279630302,
          -3.5355339059327373,
          -2.3106702420149885,
          -1.9134171618254485,
          -0.4685919579980688,
          3.061616997868383e-16,
          3.061616997868383e-16,
          null
         ],
         "y": [
          5,
          4.712606398256899,
          4.619397662556434,
          3.8009699279630302,
          3.5355339059327373,
          2.310670242014989,
          1.913417161825449,
          0.46859195799806924,
          0,
          -1.444825203827382,
          -1.913417161825452,
          -3.138280825743199,
          -3.5355339059327386,
          -4.3539616405261405,
          -4.619397662556433,
          -4.906791264299534,
          -5,
          -4.712606398256898,
          -4.619397662556432,
          -3.80096992796303,
          -3.5355339059327373,
          -2.3106702420149885,
          -1.9134171618254483,
          -0.46859195799806863,
          6.123233995736766e-16,
          1.4448252038273803,
          1.9134171618254494,
          3.1382808257431978,
          3.5355339059327378,
          4.3539616405261405,
          4.619397662556434,
          4.906791264299535,
          5,
          5,
          null
         ],
         "z": [
          25.51020408163265,
          25.51020408163265,
          25.51020408163265,
          25.51020408163265,
          25.51020408163265,
          25.51020408163265,
          25.51020408163265,
          25.51020408163265,
          25.51020408163265,
          25.51020408163265,
          25.51020408163265,
          25.51020408163265,
          25.51020408163265,
          25.51020408163265,
          25.51020408163265,
          25.51020408163265,
          25.51020408163265,
          25.51020408163265,
          25.51020408163265,
          25.51020408163265,
          25.51020408163265,
          25.51020408163265,
          25.51020408163265,
          25.51020408163265,
          25.51020408163265,
          25.51020408163265,
          25.51020408163265,
          25.51020408163265,
          25.51020408163265,
          25.51020408163265,
          25.51020408163265,
          25.51020408163265,
          25.51020408163265,
          25.51020408163265,
          null
         ]
        },
        {
         "line": {
          "color": "darkblue",
          "width": 4
         },
         "mode": "lines",
         "name": "Slice Z=27.55",
         "type": "scatter3d",
         "visible": false,
         "x": [
          3.061616997868383e-16,
          -0.4295426281648963,
          -1.9134171618254485,
          -2.2775658186658605,
          -3.5355339059327373,
          -3.778850259460506,
          -4.619397662556434,
          -4.704839003615193,
          -5,
          -4.914558658941241,
          -4.619397662556434,
          -4.376081309028666,
          -3.5355339059327386,
          -3.171385249092327,
          -1.9134171618254516,
          -1.4838745336605546,
          -9.184850993605148e-16,
          0.42954262816489613,
          1.91341716182545,
          2.2775658186658614,
          3.535533905932737,
          3.7788502594605053,
          4.619397662556432,
          4.704839003615192,
          5,
          4.914558658941241,
          4.619397662556434,
          4.376081309028665,
          3.5355339059327378,
          3.171385249092326,
          1.9134171618254492,
          1.4838745336605526,
          3.061616997868383e-16,
          3.061616997868383e-16,
          null
         ],
         "y": [
          5,
          4.914558658941241,
          4.619397662556434,
          4.376081309028665,
          3.5355339059327378,
          3.171385249092326,
          1.9134171618254494,
          1.4838745336605528,
          6.123233995736766e-16,
          -0.4295426281648961,
          -1.9134171618254483,
          -2.27756581866586,
          -3.5355339059327373,
          -3.7788502594605053,
          -4.619397662556432,
          -4.704839003615192,
          -5,
          -4.91455865894124,
          -4.619397662556433,
          -4.376081309028665,
          -3.5355339059327386,
          -3.1713852490923276,
          -1.913417161825452,
          -1.4838745336605546,
          0,
          0.4295426281648967,
          1.913417161825449,
          2.2775658186658605,
          3.5355339059327373,
          3.778850259460506,
          4.619397662556434,
          4.704839003615193,
          5,
          5,
          null
         ],
         "z": [
          27.551020408163268,
          27.551020408163268,
          27.551020408163268,
          27.551020408163268,
          27.551020408163268,
          27.551020408163268,
          27.551020408163268,
          27.551020408163268,
          27.551020408163268,
          27.551020408163268,
          27.551020408163268,
          27.551020408163268,
          27.551020408163268,
          27.551020408163268,
          27.551020408163268,
          27.551020408163268,
          27.551020408163268,
          27.551020408163268,
          27.551020408163268,
          27.551020408163268,
          27.551020408163268,
          27.551020408163268,
          27.551020408163268,
          27.551020408163268,
          27.551020408163268,
          27.551020408163268,
          27.551020408163268,
          27.551020408163268,
          27.551020408163268,
          27.551020408163268,
          27.551020408163268,
          27.551020408163268,
          27.551020408163268,
          27.551020408163268,
          null
         ]
        },
        {
         "line": {
          "color": "darkblue",
          "width": 4
         },
         "mode": "lines",
         "name": "Slice Z=29.59",
         "type": "scatter3d",
         "visible": false,
         "x": [
          3.061616997868383e-16,
          -0.3904932983317237,
          -1.9134171618254485,
          -2.2444613953167316,
          -3.5355339059327373,
          -3.7567305909579813,
          -4.619397662556434,
          -4.697071608973488,
          -5,
          -4.922326053582946,
          -4.619397662556434,
          -4.39820097753119,
          -3.5355339059327386,
          -3.2044896724414556,
          -1.9134171618254516,
          -1.5229238634937272,
          -9.184850993605148e-16,
          0.3904932983317235,
          1.91341716182545,
          2.244461395316733,
          3.535533905932737,
          3.7567305909579805,
          4.619397662556432,
          4.697071608973487,
          5,
          4.922326053582946,
          4.619397662556434,
          4.39820097753119,
          3.5355339059327378,
          3.2044896724414547,
          1.9134171618254492,
          1.522923863493725,
          3.061616997868383e-16,
          3.061616997868383e-16,
          null
         ],
         "y": [
          5,
          4.922326053582946,
          4.619397662556434,
          4.39820097753119,
          3.5355339059327378,
          3.2044896724414547,
          1.9134171618254494,
          1.5229238634937254,
          6.123233995736766e-16,
          -0.3904932983317235,
          -1.9134171618254483,
          -2.2444613953167316,
          -3.5355339059327373,
          -3.756730590957981,
          -4.619397662556432,
          -4.697071608973487,
          -5,
          -4.922326053582945,
          -4.619397662556433,
          -4.398200977531189,
          -3.5355339059327386,
          -3.204489672441456,
          -1.913417161825452,
          -1.5229238634937272,
          0,
          0.39049329833172414,
          1.913417161825449,
          2.244461395316732,
          3.5355339059327373,
          3.7567305909579813,
          4.619397662556434,
          4.697071608973488,
          5,
          5,
          null
         ],
         "z": [
          29.591836734693885,
          29.591836734693885,
          29.591836734693885,
          29.591836734693885,
          29.591836734693885,
          29.591836734693885,
          29.591836734693885,
          29.591836734693885,
          29.591836734693885,
          29.591836734693885,
          29.591836734693885,
          29.591836734693885,
          29.591836734693885,
          29.591836734693885,
          29.591836734693885,
          29.591836734693885,
          29.591836734693885,
          29.591836734693885,
          29.591836734693885,
          29.591836734693885,
          29.591836734693885,
          29.591836734693885,
          29.591836734693885,
          29.591836734693885,
          29.591836734693885,
          29.591836734693885,
          29.591836734693885,
          29.591836734693885,
          29.591836734693885,
          29.591836734693885,
          29.591836734693885,
          29.591836734693885,
          29.591836734693885,
          29.591836734693885,
          null
         ]
        },
        {
         "line": {
          "color": "darkblue",
          "width": 4
         },
         "mode": "lines",
         "name": "Slice Z=31.63",
         "type": "scatter3d",
         "visible": false,
         "x": [
          3.061616997868383e-16,
          1.5619731933268972,
          1.9134171618254492,
          3.2375940957905827,
          3.5355339059327378,
          4.420320646033714,
          4.619397662556434,
          4.9300934482246515,
          5,
          4.689304214331782,
          4.619397662556432,
          3.7346109224554564,
          3.535533905932737,
          2.211356971967605,
          1.91341716182545,
          0.35144396849855125,
          -9.184850993605148e-16,
          -1.5619731933268994,
          -1.9134171618254516,
          -3.237594095790584,
          -3.5355339059327386,
          -4.420320646033715,
          -4.619397662556434,
          -4.9300934482246515,
          -5,
          -4.6893042143317825,
          -4.619397662556434,
          -3.734610922455457,
          -3.5355339059327373,
          -2.2113569719676036,
          -1.9134171618254485,
          -0.3514439684985515,
          3.061616997868383e-16,
          3.061616997868383e-16,
          null
         ],
         "y": [
          5,
          4.6893042143317825,
          4.619397662556434,
          3.734610922455457,
          3.5355339059327373,
          2.211356971967604,
          1.913417161825449,
          0.35144396849855186,
          0,
          -1.5619731933268997,
          -1.913417161825452,
          -3.237594095790584,
          -3.5355339059327386,
          -4.420320646033714,
          -4.619397662556433,
          -4.930093448224651,
          -5,
          -4.689304214331782,
          -4.619397662556432,
          -3.734610922455457,
          -3.5355339059327373,
          -2.2113569719676036,
          -1.9134171618254483,
          -0.35144396849855125,
          6.123233995736766e-16,
          1.5619731933268977,
          1.9134171618254494,
          3.2375940957905827,
          3.5355339059327378,
          4.420320646033714,
          4.619397662556434,
          4.9300934482246515,
          5,
          5,
          null
         ],
         "z": [
          31.632653061224488,
          31.632653061224488,
          31.632653061224488,
          31.632653061224488,
          31.632653061224488,
          31.632653061224488,
          31.632653061224488,
          31.632653061224488,
          31.632653061224488,
          31.632653061224488,
          31.632653061224488,
          31.632653061224488,
          31.632653061224488,
          31.632653061224488,
          31.632653061224488,
          31.632653061224488,
          31.632653061224488,
          31.632653061224488,
          31.632653061224488,
          31.632653061224488,
          31.632653061224488,
          31.632653061224488,
          31.632653061224488,
          31.632653061224488,
          31.632653061224488,
          31.632653061224488,
          31.632653061224488,
          31.632653061224488,
          31.632653061224488,
          31.632653061224488,
          31.632653061224488,
          31.632653061224488,
          31.632653061224488,
          31.632653061224488,
          null
         ]
        },
        {
         "line": {
          "color": "darkblue",
          "width": 4
         },
         "mode": "lines",
         "name": "Slice Z=33.67",
         "type": "scatter3d",
         "visible": false,
         "x": [
          3.061616997868383e-16,
          1.6010225231600699,
          1.9134171618254492,
          3.270698519139711,
          3.5355339059327378,
          4.442440314536238,
          4.619397662556434,
          4.937860842866357,
          5,
          4.681536819690076,
          4.619397662556432,
          3.712491253952932,
          3.535533905932737,
          2.1782525486184765,
          1.91341716182545,
          0.3123946386653787,
          -9.184850993605148e-16,
          -1.601022523160072,
          -1.9134171618254516,
          -3.270698519139712,
          -3.5355339059327386,
          -4.442440314536239,
          -4.619397662556434,
          -4.937860842866357,
          -5,
          -4.681536819690077,
          -4.619397662556434,
          -3.7124912539529324,
          -3.5355339059327373,
          -2.178252548618475,
          -1.9134171618254485,
          -0.312394638665379,
          3.061616997868383e-16,
          3.061616997868383e-16,
          null
         ],
         "y": [
          5,
          4.681536819690077,
          4.619397662556434,
          3.7124912539529324,
          3.5355339059327373,
          2.1782525486184756,
          1.913417161825449,
          0.31239463866537936,
          0,
          -1.601022523160072,
          -1.913417161825452,
          -3.2706985191397124,
          -3.5355339059327386,
          -4.442440314536238,
          -4.619397662556433,
          -4.937860842866357,
          -5,
          -4.681536819690076,
          -4.619397662556432,
          -3.7124912539529324,
          -3.5355339059327373,
          -2.178252548618475,
          -1.9134171618254483,
          -0.31239463866537875,
          6.123233995736766e-16,
          1.60102252316007,
          1.9134171618254494,
          3.270698519139711,
          3.5355339059327378,
          4.442440314536238,
          4.619397662556434,
          4.937860842866357,
          5,
          5,
          null
         ],
         "z": [
          33.673469387755105,
          33.673469387755105,
          33.673469387755105,
          33.673469387755105,
          33.673469387755105,
          33.673469387755105,
          33.673469387755105,
          33.673469387755105,
          33.673469387755105,
          33.673469387755105,
          33.673469387755105,
          33.673469387755105,
          33.673469387755105,
          33.673469387755105,
          33.673469387755105,
          33.673469387755105,
          33.673469387755105,
          33.673469387755105,
          33.673469387755105,
          33.673469387755105,
          33.673469387755105,
          33.673469387755105,
          33.673469387755105,
          33.673469387755105,
          33.673469387755105,
          33.673469387755105,
          33.673469387755105,
          33.673469387755105,
          33.673469387755105,
          33.673469387755105,
          33.673469387755105,
          33.673469387755105,
          33.673469387755105,
          33.673469387755105,
          null
         ]
        },
        {
         "line": {
          "color": "darkblue",
          "width": 4
         },
         "mode": "lines",
         "name": "Slice Z=35.71",
         "type": "scatter3d",
         "visible": false,
         "x": [
          3.061616997868383e-16,
          -0.2733453088322065,
          -1.9134171618254485,
          -2.1451481252693467,
          -3.5355339059327373,
          -3.690371585450408,
          -4.619397662556434,
          -4.673769425048372,
          -5,
          -4.945628237508062,
          -4.619397662556434,
          -4.464559983038764,
          -3.5355339059327386,
          -3.3038029424888404,
          -1.9134171618254516,
          -1.6400718529932445,
          -9.184850993605148e-16,
          0.27334530883220615,
          1.91341716182545,
          2.145148125269348,
          3.535533905932737,
          3.6903715854504076,
          4.619397662556432,
          4.673769425048371,
          5,
          4.945628237508062,
          4.619397662556434,
          4.464559983038763,
          3.5355339059327378,
          3.3038029424888395,
          1.9134171618254492,
          1.6400718529932423,
          3.061616997868383e-16,
          3.061616997868383e-16,
          null
         ],
         "y": [
          5,
          4.945628237508062,
          4.619397662556434,
          4.464559983038763,
          3.5355339059327378,
          3.3038029424888395,
          1.9134171618254494,
          1.6400718529932425,
          6.123233995736766e-16,
          -0.27334530883220626,
          -1.9134171618254483,
          -2.1451481252693467,
          -3.5355339059327373,
          -3.690371585450408,
          -4.619397662556432,
          -4.673769425048371,
          -5,
          -4.945628237508062,
          -4.619397662556433,
          -4.464559983038763,
          -3.5355339059327386,
          -3.303802942488841,
          -1.913417161825452,
          -1.6400718529932448,
          0,
          0.27334530883220687,
          1.913417161825449,
          2.145148125269347,
          3.5355339059327373,
          3.690371585450408,
          4.619397662556434,
          4.673769425048372,
          5,
          5,
          null
         ],
         "z": [
          35.71428571428572,
          35.71428571428572,
          35.71428571428572,
          35.71428571428572,
          35.71428571428572,
          35.71428571428572,
          35.71428571428572,
          35.71428571428572,
          35.71428571428572,
          35.71428571428572,
          35.71428571428572,
          35.71428571428572,
          35.71428571428572,
          35.71428571428572,
          35.71428571428572,
          35.71428571428572,
          35.71428571428572,
          35.71428571428572,
          35.71428571428572,
          35.71428571428572,
          35.71428571428572,
          35.71428571428572,
          35.71428571428572,
          35.71428571428572,
          35.71428571428572,
          35.71428571428572,
          35.71428571428572,
          35.71428571428572,
          35.71428571428572,
          35.71428571428572,
          35.71428571428572,
          35.71428571428572,
          35.71428571428572,
          35.71428571428572,
          null
         ]
        },
        {
         "line": {
          "color": "darkblue",
          "width": 4
         },
         "mode": "lines",
         "name": "Slice Z=37.76",
         "type": "scatter3d",
         "visible": false,
         "x": [
          3.061616997868383e-16,
          -0.23429597899903426,
          -1.9134171618254485,
          -2.1120437019202187,
          -3.5355339059327373,
          -3.668251916947884,
          -4.619397662556434,
          -4.666002030406666,
          -5,
          -4.953395632149768,
          -4.619397662556434,
          -4.486679651541287,
          -3.5355339059327386,
          -3.336907365837969,
          -1.9134171618254516,
          -1.6791211828264168,
          -9.184850993605148e-16,
          0.2342959789990339,
          1.91341716182545,
          2.11204370192022,
          3.535533905932737,
          3.668251916947883,
          4.619397662556432,
          4.6660020304066645,
          5,
          4.953395632149768,
          4.619397662556434,
          4.486679651541287,
          3.5355339059327378,
          3.3369073658379675,
          1.9134171618254492,
          1.6791211828264145,
          3.061616997868383e-16,
          3.061616997868383e-16,
          null
         ],
         "y": [
          5,
          4.953395632149768,
          4.619397662556434,
          4.486679651541287,
          3.5355339059327378,
          3.3369073658379675,
          1.9134171618254494,
          1.6791211828264148,
          6.123233995736766e-16,
          -0.234295978999034,
          -1.9134171618254483,
          -2.1120437019202183,
          -3.5355339059327373,
          -3.6682519169478836,
          -4.619397662556432,
          -4.6660020304066645,
          -5,
          -4.953395632149768,
          -4.619397662556433,
          -4.486679651541286,
          -3.5355339059327386,
          -3.336907365837969,
          -1.913417161825452,
          -1.679121182826417,
          0,
          0.23429597899903462,
          1.913417161825449,
          2.112043701920219,
          3.5355339059327373,
          3.668251916947884,
          4.619397662556434,
          4.666002030406666,
          5,
          5,
          null
         ],
         "z": [
          37.755102040816325,
          37.755102040816325,
          37.755102040816325,
          37.755102040816325,
          37.755102040816325,
          37.755102040816325,
          37.755102040816325,
          37.755102040816325,
          37.755102040816325,
          37.755102040816325,
          37.755102040816325,
          37.755102040816325,
          37.755102040816325,
          37.755102040816325,
          37.755102040816325,
          37.755102040816325,
          37.755102040816325,
          37.755102040816325,
          37.755102040816325,
          37.755102040816325,
          37.755102040816325,
          37.755102040816325,
          37.755102040816325,
          37.755102040816325,
          37.755102040816325,
          37.755102040816325,
          37.755102040816325,
          37.755102040816325,
          37.755102040816325,
          37.755102040816325,
          37.755102040816325,
          37.755102040816325,
          37.755102040816325,
          37.755102040816325,
          null
         ]
        },
        {
         "line": {
          "color": "darkblue",
          "width": 4
         },
         "mode": "lines",
         "name": "Slice Z=39.80",
         "type": "scatter3d",
         "visible": false,
         "x": [
          3.061616997868383e-16,
          1.7181705126595872,
          1.9134171618254492,
          3.370011789187096,
          3.5355339059327378,
          4.508799320043812,
          4.619397662556434,
          4.961163026791473,
          5,
          4.658234635764959,
          4.619397662556432,
          3.6461322484453587,
          3.535533905932737,
          2.0789392785710916,
          1.91341716182545,
          0.19524664916586132,
          -9.184850993605148e-16,
          -1.7181705126595894,
          -1.9134171618254516,
          -3.3700117891870973,
          -3.5355339059327386,
          -4.508799320043812,
          -4.619397662556434,
          -4.961163026791473,
          -5,
          -4.658234635764961,
          -4.619397662556434,
          -3.6461322484453595,
          -3.5355339059327373,
          -2.0789392785710903,
          -1.9134171618254485,
          -0.1952466491658617,
          3.061616997868383e-16,
          3.061616997868383e-16,
          null
         ],
         "y": [
          5,
          4.658234635764961,
          4.619397662556434,
          3.6461322484453595,
          3.5355339059327373,
          2.0789392785710907,
          1.913417161825449,
          0.19524664916586207,
          0,
          -1.7181705126595896,
          -1.913417161825452,
          -3.3700117891870973,
          -3.5355339059327386,
          -4.508799320043811,
          -4.619397662556433,
          -4.961163026791473,
          -5,
          -4.658234635764959,
          -4.619397662556432,
          -3.646132248445359,
          -3.5355339059327373,
          -2.07893927857109,
          -1.9134171618254483,
          -0.19524664916586146,
          6.123233995736766e-16,
          1.7181705126595874,
          1.9134171618254494,
          3.370011789187096,
          3.5355339059327378,
          4.508799320043812,
          4.619397662556434,
          4.961163026791473,
          5,
          5,
          null
         ],
         "z": [
          39.79591836734694,
          39.79591836734694,
          39.79591836734694,
          39.79591836734694,
          39.79591836734694,
          39.79591836734694,
          39.79591836734694,
          39.79591836734694,
          39.79591836734694,
          39.79591836734694,
          39.79591836734694,
          39.79591836734694,
          39.79591836734694,
          39.79591836734694,
          39.79591836734694,
          39.79591836734694,
          39.79591836734694,
          39.79591836734694,
          39.79591836734694,
          39.79591836734694,
          39.79591836734694,
          39.79591836734694,
          39.79591836734694,
          39.79591836734694,
          39.79591836734694,
          39.79591836734694,
          39.79591836734694,
          39.79591836734694,
          39.79591836734694,
          39.79591836734694,
          39.79591836734694,
          39.79591836734694,
          39.79591836734694,
          39.79591836734694,
          null
         ]
        },
        {
         "line": {
          "color": "darkblue",
          "width": 4
         },
         "mode": "lines",
         "name": "Slice Z=41.84",
         "type": "scatter3d",
         "visible": false,
         "x": [
          3.061616997868383e-16,
          1.7572198424927596,
          1.9134171618254492,
          3.4031162125362244,
          3.5355339059327378,
          4.530918988546336,
          4.619397662556434,
          4.968930421433178,
          5,
          4.650467241123254,
          4.619397662556432,
          3.624012579942834,
          3.535533905932737,
          2.045834855221963,
          1.91341716182545,
          0.15619731933268877,
          -9.184850993605148e-16,
          -1.7572198424927619,
          -1.9134171618254516,
          -3.4031162125362258,
          -3.5355339059327386,
          -4.530918988546336,
          -4.619397662556434,
          -4.968930421433178,
          -5,
          -4.6504672411232555,
          -4.619397662556434,
          -3.624012579942835,
          -3.5355339059327373,
          -2.045834855221962,
          -1.9134171618254485,
          -0.1561973193326892,
          3.061616997868383e-16,
          3.061616997868383e-16,
          null
         ],
         "y": [
          5,
          4.6504672411232555,
          4.619397662556434,
          3.624012579942835,
          3.5355339059327373,
          2.0458348552219623,
          1.913417161825449,
          0.15619731933268954,
          0,
          -1.7572198424927623,
          -1.913417161825452,
          -3.4031162125362258,
          -3.5355339059327386,
          -4.530918988546335,
          -4.619397662556433,
          -4.968930421433178,
          -5,
          -4.650467241123254,
          -4.619397662556432,
          -3.6240125799428347,
          -3.5355339059327373,
          -2.0458348552219614,
          -1.9134171618254483,
          -0.15619731933268893,
          6.123233995736766e-16,
          1.7572198424927599,
          1.9134171618254494,
          3.4031162125362244,
          3.5355339059327378,
          4.530918988546336,
          4.619397662556434,
          4.968930421433178,
          5,
          5,
          null
         ],
         "z": [
          41.83673469387756,
          41.83673469387756,
          41.83673469387756,
          41.83673469387756,
          41.83673469387756,
          41.83673469387756,
          41.83673469387756,
          41.83673469387756,
          41.83673469387756,
          41.83673469387756,
          41.83673469387756,
          41.83673469387756,
          41.83673469387756,
          41.83673469387756,
          41.83673469387756,
          41.83673469387756,
          41.83673469387756,
          41.83673469387756,
          41.83673469387756,
          41.83673469387756,
          41.83673469387756,
          41.83673469387756,
          41.83673469387756,
          41.83673469387756,
          41.83673469387756,
          41.83673469387756,
          41.83673469387756,
          41.83673469387756,
          41.83673469387756,
          41.83673469387756,
          41.83673469387756,
          41.83673469387756,
          41.83673469387756,
          41.83673469387756,
          null
         ]
        },
        {
         "line": {
          "color": "darkblue",
          "width": 4
         },
         "mode": "lines",
         "name": "Slice Z=43.88",
         "type": "scatter3d",
         "visible": false,
         "x": [
          3.061616997868383e-16,
          -0.11714798949951698,
          -1.9134171618254485,
          -2.0127304318728334,
          -3.5355339059327373,
          -3.6018929114403107,
          -4.619397662556434,
          -4.64269984648155,
          -5,
          -4.976697816074884,
          -4.619397662556434,
          -4.553038657048861,
          -3.5355339059327386,
          -3.4362206358853538,
          -1.9134171618254516,
          -1.7962691723259343,
          -9.184850993605148e-16,
          0.11714798949951649,
          1.91341716182545,
          2.012730431872835,
          3.535533905932737,
          3.60189291144031,
          4.619397662556432,
          4.642699846481548,
          5,
          4.976697816074884,
          4.619397662556434,
          4.553038657048861,
          3.5355339059327378,
          3.436220635885353,
          1.9134171618254492,
          1.7962691723259319,
          3.061616997868383e-16,
          3.061616997868383e-16,
          null
         ],
         "y": [
          5,
          4.976697816074884,
          4.619397662556434,
          4.553038657048861,
          3.5355339059327378,
          3.436220635885353,
          1.9134171618254494,
          1.796269172325932,
          6.123233995736766e-16,
          -0.1171479894995167,
          -1.9134171618254483,
          -2.0127304318728334,
          -3.5355339059327373,
          -3.6018929114403107,
          -4.619397662556432,
          -4.642699846481548,
          -5,
          -4.976697816074884,
          -4.619397662556433,
          -4.55303865704886,
          -3.5355339059327386,
          -3.4362206358853538,
          -1.913417161825452,
          -1.7962691723259345,
          0,
          0.11714798949951731,
          1.913417161825449,
          2.012730431872834,
          3.5355339059327373,
          3.6018929114403107,
          4.619397662556434,
          4.64269984648155,
          5,
          5,
          null
         ],
         "z": [
          43.87755102040816,
          43.87755102040816,
          43.87755102040816,
          43.87755102040816,
          43.87755102040816,
          43.87755102040816,
          43.87755102040816,
          43.87755102040816,
          43.87755102040816,
          43.87755102040816,
          43.87755102040816,
          43.87755102040816,
          43.87755102040816,
          43.87755102040816,
          43.87755102040816,
          43.87755102040816,
          43.87755102040816,
          43.87755102040816,
          43.87755102040816,
          43.87755102040816,
          43.87755102040816,
          43.87755102040816,
          43.87755102040816,
          43.87755102040816,
          43.87755102040816,
          43.87755102040816,
          43.87755102040816,
          43.87755102040816,
          43.87755102040816,
          43.87755102040816,
          43.87755102040816,
          43.87755102040816,
          43.87755102040816,
          43.87755102040816,
          null
         ]
        },
        {
         "line": {
          "color": "darkblue",
          "width": 4
         },
         "mode": "lines",
         "name": "Slice Z=45.92",
         "type": "scatter3d",
         "visible": false,
         "x": [
          3.061616997868383e-16,
          -0.07809865966634445,
          -1.9134171618254485,
          -1.9796260085237052,
          -3.5355339059327373,
          -3.579773242937786,
          -4.619397662556434,
          -4.634932451839845,
          -5,
          -4.984465210716589,
          -4.619397662556434,
          -4.575158325551385,
          -3.5355339059327386,
          -3.469325059234482,
          -1.9134171618254516,
          -1.8353185021591067,
          -9.184850993605148e-16,
          0.07809865966634393,
          1.91341716182545,
          1.9796260085237065,
          3.535533905932737,
          3.5797732429377858,
          4.619397662556432,
          4.634932451839843,
          5,
          4.984465210716589,
          4.619397662556434,
          4.575158325551385,
          3.5355339059327378,
          3.4693250592344813,
          1.9134171618254492,
          1.8353185021591045,
          3.061616997868383e-16,
          3.061616997868383e-16,
          null
         ],
         "y": [
          5,
          4.984465210716589,
          4.619397662556434,
          4.575158325551385,
          3.5355339059327378,
          3.4693250592344813,
          1.9134171618254494,
          1.8353185021591047,
          6.123233995736766e-16,
          -0.07809865966634416,
          -1.9134171618254483,
          -1.979626008523705,
          -3.5355339059327373,
          -3.579773242937786,
          -4.619397662556432,
          -4.634932451839843,
          -5,
          -4.984465210716589,
          -4.619397662556433,
          -4.575158325551384,
          -3.5355339059327386,
          -3.469325059234482,
          -1.913417161825452,
          -1.8353185021591072,
          0,
          0.07809865966634477,
          1.913417161825449,
          1.9796260085237056,
          3.5355339059327373,
          3.579773242937786,
          4.619397662556434,
          4.634932451839845,
          5,
          5,
          null
         ],
         "z": [
          45.91836734693878,
          45.91836734693878,
          45.91836734693878,
          45.91836734693878,
          45.91836734693878,
          45.91836734693878,
          45.91836734693878,
          45.91836734693878,
          45.91836734693878,
          45.91836734693878,
          45.91836734693878,
          45.91836734693878,
          45.91836734693878,
          45.91836734693878,
          45.91836734693878,
          45.91836734693878,
          45.91836734693878,
          45.91836734693878,
          45.91836734693878,
          45.91836734693878,
          45.91836734693878,
          45.91836734693878,
          45.91836734693878,
          45.91836734693878,
          45.91836734693878,
          45.91836734693878,
          45.91836734693878,
          45.91836734693878,
          45.91836734693878,
          45.91836734693878,
          45.91836734693878,
          45.91836734693878,
          45.91836734693878,
          45.91836734693878,
          null
         ]
        },
        {
         "line": {
          "color": "darkblue",
          "width": 4
         },
         "mode": "lines",
         "name": "Slice Z=47.96",
         "type": "scatter3d",
         "visible": false,
         "x": [
          3.061616997868383e-16,
          1.874367831992277,
          1.9134171618254492,
          3.5024294825836098,
          3.5355339059327378,
          4.5972779940539095,
          4.619397662556434,
          4.992232605358295,
          5,
          4.6271650571981375,
          4.619397662556432,
          3.5576535744352613,
          3.535533905932737,
          1.9465215851745783,
          1.91341716182545,
          0.03904932983317137,
          -9.184850993605148e-16,
          -1.8743678319922794,
          -1.9134171618254516,
          -3.5024294825836106,
          -3.5355339059327386,
          -4.5972779940539095,
          -4.619397662556434,
          -4.992232605358295,
          -5,
          -4.627165057198139,
          -4.619397662556434,
          -3.5576535744352618,
          -3.5355339059327373,
          -1.9465215851745767,
          -1.9134171618254485,
          -0.039049329833171935,
          3.061616997868383e-16,
          3.061616997868383e-16,
          null
         ],
         "y": [
          5,
          4.627165057198139,
          4.619397662556434,
          3.5576535744352618,
          3.5355339059327373,
          1.9465215851745772,
          1.913417161825449,
          0.03904932983317225,
          0,
          -1.8743678319922799,
          -1.913417161825452,
          -3.5024294825836106,
          -3.5355339059327386,
          -4.597277994053909,
          -4.619397662556433,
          -4.992232605358295,
          -5,
          -4.6271650571981375,
          -4.619397662556432,
          -3.5576535744352618,
          -3.5355339059327373,
          -1.9465215851745765,
          -1.9134171618254483,
          -0.039049329833171637,
          6.123233995736766e-16,
          1.8743678319922772,
          1.9134171618254494,
          3.5024294825836098,
          3.5355339059327378,
          4.5972779940539095,
          4.619397662556434,
          4.992232605358295,
          5,
          5,
          null
         ],
         "z": [
          47.9591836734694,
          47.9591836734694,
          47.9591836734694,
          47.9591836734694,
          47.9591836734694,
          47.9591836734694,
          47.9591836734694,
          47.9591836734694,
          47.9591836734694,
          47.9591836734694,
          47.9591836734694,
          47.9591836734694,
          47.9591836734694,
          47.9591836734694,
          47.9591836734694,
          47.9591836734694,
          47.9591836734694,
          47.9591836734694,
          47.9591836734694,
          47.9591836734694,
          47.9591836734694,
          47.9591836734694,
          47.9591836734694,
          47.9591836734694,
          47.9591836734694,
          47.9591836734694,
          47.9591836734694,
          47.9591836734694,
          47.9591836734694,
          47.9591836734694,
          47.9591836734694,
          47.9591836734694,
          47.9591836734694,
          47.9591836734694,
          null
         ]
        },
        {
         "mode": "lines",
         "name": "Slice Z=50.00",
         "type": "scatter3d",
         "visible": false,
         "x": [],
         "y": [],
         "z": []
        }
       ],
       "layout": {
        "height": 700,
        "scene": {
         "aspectmode": "data",
         "camera": {
          "eye": {
           "x": 1.5,
           "y": 1.5,
           "z": 1.5
          }
         },
         "xaxis": {
          "title": {
           "text": "X (µm)"
          }
         },
         "yaxis": {
          "title": {
           "text": "Y (µm)"
          }
         },
         "zaxis": {
          "title": {
           "text": "Z (µm)"
          }
         }
        },
        "sliders": [
         {
          "active": 25,
          "currentvalue": {
           "prefix": "Z-slice: "
          },
          "pad": {
           "t": 50
          },
          "steps": [
           {
            "args": [
             {
              "visible": [
               true,
               true,
               false,
               false,
               false,
               false,
               false,
               false,
               false,
               false,
               false,
               false,
               false,
               false,
               false,
               false,
               false,
               false,
               false,
               false,
               false,
               false,
               false,
               false,
               false,
               false,
               false,
               false,
               false,
               false,
               false,
               false,
               false,
               false,
               false,
               false,
               false,
               false,
               false,
               false,
               false,
               false,
               false,
               false,
               false,
               false,
               false,
               false,
               false,
               false,
               false
              ]
             }
            ],
            "label": "-50.00",
            "method": "update"
           },
           {
            "args": [
             {
              "visible": [
               true,
               false,
               true,
               false,
               false,
               false,
               false,
               false,
               false,
               false,
               false,
               false,
               false,
               false,
               false,
               false,
               false,
               false,
               false,
               false,
               false,
               false,
               false,
               false,
               false,
               false,
               false,
               false,
               false,
               false,
               false,
               false,
               false,
               false,
               false,
               false,
               false,
               false,
               false,
               false,
               false,
               false,
               false,
               false,
               false,
               false,
               false,
               false,
               false,
               false,
               false
              ]
             }
            ],
            "label": "-47.96",
            "method": "update"
           },
           {
            "args": [
             {
              "visible": [
               true,
               false,
               false,
               true,
               false,
               false,
               false,
               false,
               false,
               false,
               false,
               false,
               false,
               false,
               false,
               false,
               false,
               false,
               false,
               false,
               false,
               false,
               false,
               false,
               false,
               false,
               false,
               false,
               false,
               false,
               false,
               false,
               false,
               false,
               false,
               false,
               false,
               false,
               false,
               false,
               false,
               false,
               false,
               false,
               false,
               false,
               false,
               false,
               false,
               false,
               false
              ]
             }
            ],
            "label": "-45.92",
            "method": "update"
           },
           {
            "args": [
             {
              "visible": [
               true,
               false,
               false,
               false,
               true,
               false,
               false,
               false,
               false,
               false,
               false,
               false,
               false,
               false,
               false,
               false,
               false,
               false,
               false,
               false,
               false,
               false,
               false,
               false,
               false,
               false,
               false,
               false,
               false,
               false,
               false,
               false,
               false,
               false,
               false,
               false,
               false,
               false,
               false,
               false,
               false,
               false,
               false,
               false,
               false,
               false,
               false,
               false,
               false,
               false,
               false
              ]
             }
            ],
            "label": "-43.88",
            "method": "update"
           },
           {
            "args": [
             {
              "visible": [
               true,
               false,
               false,
               false,
               false,
               true,
               false,
               false,
               false,
               false,
               false,
               false,
               false,
               false,
               false,
               false,
               false,
               false,
               false,
               false,
               false,
               false,
               false,
               false,
               false,
               false,
               false,
               false,
               false,
               false,
               false,
               false,
               false,
               false,
               false,
               false,
               false,
               false,
               false,
               false,
               false,
               false,
               false,
               false,
               false,
               false,
               false,
               false,
               false,
               false,
               false
              ]
             }
            ],
            "label": "-41.84",
            "method": "update"
           },
           {
            "args": [
             {
              "visible": [
               true,
               false,
               false,
               false,
               false,
               false,
               true,
               false,
               false,
               false,
               false,
               false,
               false,
               false,
               false,
               false,
               false,
               false,
               false,
               false,
               false,
               false,
               false,
               false,
               false,
               false,
               false,
               false,
               false,
               false,
               false,
               false,
               false,
               false,
               false,
               false,
               false,
               false,
               false,
               false,
               false,
               false,
               false,
               false,
               false,
               false,
               false,
               false,
               false,
               false,
               false
              ]
             }
            ],
            "label": "-39.80",
            "method": "update"
           },
           {
            "args": [
             {
              "visible": [
               true,
               false,
               false,
               false,
               false,
               false,
               false,
               true,
               false,
               false,
               false,
               false,
               false,
               false,
               false,
               false,
               false,
               false,
               false,
               false,
               false,
               false,
               false,
               false,
               false,
               false,
               false,
               false,
               false,
               false,
               false,
               false,
               false,
               false,
               false,
               false,
               false,
               false,
               false,
               false,
               false,
               false,
               false,
               false,
               false,
               false,
               false,
               false,
               false,
               false,
               false
              ]
             }
            ],
            "label": "-37.76",
            "method": "update"
           },
           {
            "args": [
             {
              "visible": [
               true,
               false,
               false,
               false,
               false,
               false,
               false,
               false,
               true,
               false,
               false,
               false,
               false,
               false,
               false,
               false,
               false,
               false,
               false,
               false,
               false,
               false,
               false,
               false,
               false,
               false,
               false,
               false,
               false,
               false,
               false,
               false,
               false,
               false,
               false,
               false,
               false,
               false,
               false,
               false,
               false,
               false,
               false,
               false,
               false,
               false,
               false,
               false,
               false,
               false,
               false
              ]
             }
            ],
            "label": "-35.71",
            "method": "update"
           },
           {
            "args": [
             {
              "visible": [
               true,
               false,
               false,
               false,
               false,
               false,
               false,
               false,
               false,
               true,
               false,
               false,
               false,
               false,
               false,
               false,
               false,
               false,
               false,
               false,
               false,
               false,
               false,
               false,
               false,
               false,
               false,
               false,
               false,
               false,
               false,
               false,
               false,
               false,
               false,
               false,
               false,
               false,
               false,
               false,
               false,
               false,
               false,
               false,
               false,
               false,
               false,
               false,
               false,
               false,
               false
              ]
             }
            ],
            "label": "-33.67",
            "method": "update"
           },
           {
            "args": [
             {
              "visible": [
               true,
               false,
               false,
               false,
               false,
               false,
               false,
               false,
               false,
               false,
               true,
               false,
               false,
               false,
               false,
               false,
               false,
               false,
               false,
               false,
               false,
               false,
               false,
               false,
               false,
               false,
               false,
               false,
               false,
               false,
               false,
               false,
               false,
               false,
               false,
               false,
               false,
               false,
               false,
               false,
               false,
               false,
               false,
               false,
               false,
               false,
               false,
               false,
               false,
               false,
               false
              ]
             }
            ],
            "label": "-31.63",
            "method": "update"
           },
           {
            "args": [
             {
              "visible": [
               true,
               false,
               false,
               false,
               false,
               false,
               false,
               false,
               false,
               false,
               false,
               true,
               false,
               false,
               false,
               false,
               false,
               false,
               false,
               false,
               false,
               false,
               false,
               false,
               false,
               false,
               false,
               false,
               false,
               false,
               false,
               false,
               false,
               false,
               false,
               false,
               false,
               false,
               false,
               false,
               false,
               false,
               false,
               false,
               false,
               false,
               false,
               false,
               false,
               false,
               false
              ]
             }
            ],
            "label": "-29.59",
            "method": "update"
           },
           {
            "args": [
             {
              "visible": [
               true,
               false,
               false,
               false,
               false,
               false,
               false,
               false,
               false,
               false,
               false,
               false,
               true,
               false,
               false,
               false,
               false,
               false,
               false,
               false,
               false,
               false,
               false,
               false,
               false,
               false,
               false,
               false,
               false,
               false,
               false,
               false,
               false,
               false,
               false,
               false,
               false,
               false,
               false,
               false,
               false,
               false,
               false,
               false,
               false,
               false,
               false,
               false,
               false,
               false,
               false
              ]
             }
            ],
            "label": "-27.55",
            "method": "update"
           },
           {
            "args": [
             {
              "visible": [
               true,
               false,
               false,
               false,
               false,
               false,
               false,
               false,
               false,
               false,
               false,
               false,
               false,
               true,
               false,
               false,
               false,
               false,
               false,
               false,
               false,
               false,
               false,
               false,
               false,
               false,
               false,
               false,
               false,
               false,
               false,
               false,
               false,
               false,
               false,
               false,
               false,
               false,
               false,
               false,
               false,
               false,
               false,
               false,
               false,
               false,
               false,
               false,
               false,
               false,
               false
              ]
             }
            ],
            "label": "-25.51",
            "method": "update"
           },
           {
            "args": [
             {
              "visible": [
               true,
               false,
               false,
               false,
               false,
               false,
               false,
               false,
               false,
               false,
               false,
               false,
               false,
               false,
               true,
               false,
               false,
               false,
               false,
               false,
               false,
               false,
               false,
               false,
               false,
               false,
               false,
               false,
               false,
               false,
               false,
               false,
               false,
               false,
               false,
               false,
               false,
               false,
               false,
               false,
               false,
               false,
               false,
               false,
               false,
               false,
               false,
               false,
               false,
               false,
               false
              ]
             }
            ],
            "label": "-23.47",
            "method": "update"
           },
           {
            "args": [
             {
              "visible": [
               true,
               false,
               false,
               false,
               false,
               false,
               false,
               false,
               false,
               false,
               false,
               false,
               false,
               false,
               false,
               true,
               false,
               false,
               false,
               false,
               false,
               false,
               false,
               false,
               false,
               false,
               false,
               false,
               false,
               false,
               false,
               false,
               false,
               false,
               false,
               false,
               false,
               false,
               false,
               false,
               false,
               false,
               false,
               false,
               false,
               false,
               false,
               false,
               false,
               false,
               false
              ]
             }
            ],
            "label": "-21.43",
            "method": "update"
           },
           {
            "args": [
             {
              "visible": [
               true,
               false,
               false,
               false,
               false,
               false,
               false,
               false,
               false,
               false,
               false,
               false,
               false,
               false,
               false,
               false,
               true,
               false,
               false,
               false,
               false,
               false,
               false,
               false,
               false,
               false,
               false,
               false,
               false,
               false,
               false,
               false,
               false,
               false,
               false,
               false,
               false,
               false,
               false,
               false,
               false,
               false,
               false,
               false,
               false,
               false,
               false,
               false,
               false,
               false,
               false
              ]
             }
            ],
            "label": "-19.39",
            "method": "update"
           },
           {
            "args": [
             {
              "visible": [
               true,
               false,
               false,
               false,
               false,
               false,
               false,
               false,
               false,
               false,
               false,
               false,
               false,
               false,
               false,
               false,
               false,
               true,
               false,
               false,
               false,
               false,
               false,
               false,
               false,
               false,
               false,
               false,
               false,
               false,
               false,
               false,
               false,
               false,
               false,
               false,
               false,
               false,
               false,
               false,
               false,
               false,
               false,
               false,
               false,
               false,
               false,
               false,
               false,
               false,
               false
              ]
             }
            ],
            "label": "-17.35",
            "method": "update"
           },
           {
            "args": [
             {
              "visible": [
               true,
               false,
               false,
               false,
               false,
               false,
               false,
               false,
               false,
               false,
               false,
               false,
               false,
               false,
               false,
               false,
               false,
               false,
               true,
               false,
               false,
               false,
               false,
               false,
               false,
               false,
               false,
               false,
               false,
               false,
               false,
               false,
               false,
               false,
               false,
               false,
               false,
               false,
               false,
               false,
               false,
               false,
               false,
               false,
               false,
               false,
               false,
               false,
               false,
               false,
               false
              ]
             }
            ],
            "label": "-15.31",
            "method": "update"
           },
           {
            "args": [
             {
              "visible": [
               true,
               false,
               false,
               false,
               false,
               false,
               false,
               false,
               false,
               false,
               false,
               false,
               false,
               false,
               false,
               false,
               false,
               false,
               false,
               true,
               false,
               false,
               false,
               false,
               false,
               false,
               false,
               false,
               false,
               false,
               false,
               false,
               false,
               false,
               false,
               false,
               false,
               false,
               false,
               false,
               false,
               false,
               false,
               false,
               false,
               false,
               false,
               false,
               false,
               false,
               false
              ]
             }
            ],
            "label": "-13.27",
            "method": "update"
           },
           {
            "args": [
             {
              "visible": [
               true,
               false,
               false,
               false,
               false,
               false,
               false,
               false,
               false,
               false,
               false,
               false,
               false,
               false,
               false,
               false,
               false,
               false,
               false,
               false,
               true,
               false,
               false,
               false,
               false,
               false,
               false,
               false,
               false,
               false,
               false,
               false,
               false,
               false,
               false,
               false,
               false,
               false,
               false,
               false,
               false,
               false,
               false,
               false,
               false,
               false,
               false,
               false,
               false,
               false,
               false
              ]
             }
            ],
            "label": "-11.22",
            "method": "update"
           },
           {
            "args": [
             {
              "visible": [
               true,
               false,
               false,
               false,
               false,
               false,
               false,
               false,
               false,
               false,
               false,
               false,
               false,
               false,
               false,
               false,
               false,
               false,
               false,
               false,
               false,
               true,
               false,
               false,
               false,
               false,
               false,
               false,
               false,
               false,
               false,
               false,
               false,
               false,
               false,
               false,
               false,
               false,
               false,
               false,
               false,
               false,
               false,
               false,
               false,
               false,
               false,
               false,
               false,
               false,
               false
              ]
             }
            ],
            "label": "-9.18",
            "method": "update"
           },
           {
            "args": [
             {
              "visible": [
               true,
               false,
               false,
               false,
               false,
               false,
               false,
               false,
               false,
               false,
               false,
               false,
               false,
               false,
               false,
               false,
               false,
               false,
               false,
               false,
               false,
               false,
               true,
               false,
               false,
               false,
               false,
               false,
               false,
               false,
               false,
               false,
               false,
               false,
               false,
               false,
               false,
               false,
               false,
               false,
               false,
               false,
               false,
               false,
               false,
               false,
               false,
               false,
               false,
               false,
               false
              ]
             }
            ],
            "label": "-7.14",
            "method": "update"
           },
           {
            "args": [
             {
              "visible": [
               true,
               false,
               false,
               false,
               false,
               false,
               false,
               false,
               false,
               false,
               false,
               false,
               false,
               false,
               false,
               false,
               false,
               false,
               false,
               false,
               false,
               false,
               false,
               true,
               false,
               false,
               false,
               false,
               false,
               false,
               false,
               false,
               false,
               false,
               false,
               false,
               false,
               false,
               false,
               false,
               false,
               false,
               false,
               false,
               false,
               false,
               false,
               false,
               false,
               false,
               false
              ]
             }
            ],
            "label": "-5.10",
            "method": "update"
           },
           {
            "args": [
             {
              "visible": [
               true,
               false,
               false,
               false,
               false,
               false,
               false,
               false,
               false,
               false,
               false,
               false,
               false,
               false,
               false,
               false,
               false,
               false,
               false,
               false,
               false,
               false,
               false,
               false,
               true,
               false,
               false,
               false,
               false,
               false,
               false,
               false,
               false,
               false,
               false,
               false,
               false,
               false,
               false,
               false,
               false,
               false,
               false,
               false,
               false,
               false,
               false,
               false,
               false,
               false,
               false
              ]
             }
            ],
            "label": "-3.06",
            "method": "update"
           },
           {
            "args": [
             {
              "visible": [
               true,
               false,
               false,
               false,
               false,
               false,
               false,
               false,
               false,
               false,
               false,
               false,
               false,
               false,
               false,
               false,
               false,
               false,
               false,
               false,
               false,
               false,
               false,
               false,
               false,
               true,
               false,
               false,
               false,
               false,
               false,
               false,
               false,
               false,
               false,
               false,
               false,
               false,
               false,
               false,
               false,
               false,
               false,
               false,
               false,
               false,
               false,
               false,
               false,
               false,
               false
              ]
             }
            ],
            "label": "-1.02",
            "method": "update"
           },
           {
            "args": [
             {
              "visible": [
               true,
               false,
               false,
               false,
               false,
               false,
               false,
               false,
               false,
               false,
               false,
               false,
               false,
               false,
               false,
               false,
               false,
               false,
               false,
               false,
               false,
               false,
               false,
               false,
               false,
               false,
               true,
               false,
               false,
               false,
               false,
               false,
               false,
               false,
               false,
               false,
               false,
               false,
               false,
               false,
               false,
               false,
               false,
               false,
               false,
               false,
               false,
               false,
               false,
               false,
               false
              ]
             }
            ],
            "label": "1.02",
            "method": "update"
           },
           {
            "args": [
             {
              "visible": [
               true,
               false,
               false,
               false,
               false,
               false,
               false,
               false,
               false,
               false,
               false,
               false,
               false,
               false,
               false,
               false,
               false,
               false,
               false,
               false,
               false,
               false,
               false,
               false,
               false,
               false,
               false,
               true,
               false,
               false,
               false,
               false,
               false,
               false,
               false,
               false,
               false,
               false,
               false,
               false,
               false,
               false,
               false,
               false,
               false,
               false,
               false,
               false,
               false,
               false,
               false
              ]
             }
            ],
            "label": "3.06",
            "method": "update"
           },
           {
            "args": [
             {
              "visible": [
               true,
               false,
               false,
               false,
               false,
               false,
               false,
               false,
               false,
               false,
               false,
               false,
               false,
               false,
               false,
               false,
               false,
               false,
               false,
               false,
               false,
               false,
               false,
               false,
               false,
               false,
               false,
               false,
               true,
               false,
               false,
               false,
               false,
               false,
               false,
               false,
               false,
               false,
               false,
               false,
               false,
               false,
               false,
               false,
               false,
               false,
               false,
               false,
               false,
               false,
               false
              ]
             }
            ],
            "label": "5.10",
            "method": "update"
           },
           {
            "args": [
             {
              "visible": [
               true,
               false,
               false,
               false,
               false,
               false,
               false,
               false,
               false,
               false,
               false,
               false,
               false,
               false,
               false,
               false,
               false,
               false,
               false,
               false,
               false,
               false,
               false,
               false,
               false,
               false,
               false,
               false,
               false,
               true,
               false,
               false,
               false,
               false,
               false,
               false,
               false,
               false,
               false,
               false,
               false,
               false,
               false,
               false,
               false,
               false,
               false,
               false,
               false,
               false,
               false
              ]
             }
            ],
            "label": "7.14",
            "method": "update"
           },
           {
            "args": [
             {
              "visible": [
               true,
               false,
               false,
               false,
               false,
               false,
               false,
               false,
               false,
               false,
               false,
               false,
               false,
               false,
               false,
               false,
               false,
               false,
               false,
               false,
               false,
               false,
               false,
               false,
               false,
               false,
               false,
               false,
               false,
               false,
               true,
               false,
               false,
               false,
               false,
               false,
               false,
               false,
               false,
               false,
               false,
               false,
               false,
               false,
               false,
               false,
               false,
               false,
               false,
               false,
               false
              ]
             }
            ],
            "label": "9.18",
            "method": "update"
           },
           {
            "args": [
             {
              "visible": [
               true,
               false,
               false,
               false,
               false,
               false,
               false,
               false,
               false,
               false,
               false,
               false,
               false,
               false,
               false,
               false,
               false,
               false,
               false,
               false,
               false,
               false,
               false,
               false,
               false,
               false,
               false,
               false,
               false,
               false,
               false,
               true,
               false,
               false,
               false,
               false,
               false,
               false,
               false,
               false,
               false,
               false,
               false,
               false,
               false,
               false,
               false,
               false,
               false,
               false,
               false
              ]
             }
            ],
            "label": "11.22",
            "method": "update"
           },
           {
            "args": [
             {
              "visible": [
               true,
               false,
               false,
               false,
               false,
               false,
               false,
               false,
               false,
               false,
               false,
               false,
               false,
               false,
               false,
               false,
               false,
               false,
               false,
               false,
               false,
               false,
               false,
               false,
               false,
               false,
               false,
               false,
               false,
               false,
               false,
               false,
               true,
               false,
               false,
               false,
               false,
               false,
               false,
               false,
               false,
               false,
               false,
               false,
               false,
               false,
               false,
               false,
               false,
               false,
               false
              ]
             }
            ],
            "label": "13.27",
            "method": "update"
           },
           {
            "args": [
             {
              "visible": [
               true,
               false,
               false,
               false,
               false,
               false,
               false,
               false,
               false,
               false,
               false,
               false,
               false,
               false,
               false,
               false,
               false,
               false,
               false,
               false,
               false,
               false,
               false,
               false,
               false,
               false,
               false,
               false,
               false,
               false,
               false,
               false,
               false,
               true,
               false,
               false,
               false,
               false,
               false,
               false,
               false,
               false,
               false,
               false,
               false,
               false,
               false,
               false,
               false,
               false,
               false
              ]
             }
            ],
            "label": "15.31",
            "method": "update"
           },
           {
            "args": [
             {
              "visible": [
               true,
               false,
               false,
               false,
               false,
               false,
               false,
               false,
               false,
               false,
               false,
               false,
               false,
               false,
               false,
               false,
               false,
               false,
               false,
               false,
               false,
               false,
               false,
               false,
               false,
               false,
               false,
               false,
               false,
               false,
               false,
               false,
               false,
               false,
               true,
               false,
               false,
               false,
               false,
               false,
               false,
               false,
               false,
               false,
               false,
               false,
               false,
               false,
               false,
               false,
               false
              ]
             }
            ],
            "label": "17.35",
            "method": "update"
           },
           {
            "args": [
             {
              "visible": [
               true,
               false,
               false,
               false,
               false,
               false,
               false,
               false,
               false,
               false,
               false,
               false,
               false,
               false,
               false,
               false,
               false,
               false,
               false,
               false,
               false,
               false,
               false,
               false,
               false,
               false,
               false,
               false,
               false,
               false,
               false,
               false,
               false,
               false,
               false,
               true,
               false,
               false,
               false,
               false,
               false,
               false,
               false,
               false,
               false,
               false,
               false,
               false,
               false,
               false,
               false
              ]
             }
            ],
            "label": "19.39",
            "method": "update"
           },
           {
            "args": [
             {
              "visible": [
               true,
               false,
               false,
               false,
               false,
               false,
               false,
               false,
               false,
               false,
               false,
               false,
               false,
               false,
               false,
               false,
               false,
               false,
               false,
               false,
               false,
               false,
               false,
               false,
               false,
               false,
               false,
               false,
               false,
               false,
               false,
               false,
               false,
               false,
               false,
               false,
               true,
               false,
               false,
               false,
               false,
               false,
               false,
               false,
               false,
               false,
               false,
               false,
               false,
               false,
               false
              ]
             }
            ],
            "label": "21.43",
            "method": "update"
           },
           {
            "args": [
             {
              "visible": [
               true,
               false,
               false,
               false,
               false,
               false,
               false,
               false,
               false,
               false,
               false,
               false,
               false,
               false,
               false,
               false,
               false,
               false,
               false,
               false,
               false,
               false,
               false,
               false,
               false,
               false,
               false,
               false,
               false,
               false,
               false,
               false,
               false,
               false,
               false,
               false,
               false,
               true,
               false,
               false,
               false,
               false,
               false,
               false,
               false,
               false,
               false,
               false,
               false,
               false,
               false
              ]
             }
            ],
            "label": "23.47",
            "method": "update"
           },
           {
            "args": [
             {
              "visible": [
               true,
               false,
               false,
               false,
               false,
               false,
               false,
               false,
               false,
               false,
               false,
               false,
               false,
               false,
               false,
               false,
               false,
               false,
               false,
               false,
               false,
               false,
               false,
               false,
               false,
               false,
               false,
               false,
               false,
               false,
               false,
               false,
               false,
               false,
               false,
               false,
               false,
               false,
               true,
               false,
               false,
               false,
               false,
               false,
               false,
               false,
               false,
               false,
               false,
               false,
               false
              ]
             }
            ],
            "label": "25.51",
            "method": "update"
           },
           {
            "args": [
             {
              "visible": [
               true,
               false,
               false,
               false,
               false,
               false,
               false,
               false,
               false,
               false,
               false,
               false,
               false,
               false,
               false,
               false,
               false,
               false,
               false,
               false,
               false,
               false,
               false,
               false,
               false,
               false,
               false,
               false,
               false,
               false,
               false,
               false,
               false,
               false,
               false,
               false,
               false,
               false,
               false,
               true,
               false,
               false,
               false,
               false,
               false,
               false,
               false,
               false,
               false,
               false,
               false
              ]
             }
            ],
            "label": "27.55",
            "method": "update"
           },
           {
            "args": [
             {
              "visible": [
               true,
               false,
               false,
               false,
               false,
               false,
               false,
               false,
               false,
               false,
               false,
               false,
               false,
               false,
               false,
               false,
               false,
               false,
               false,
               false,
               false,
               false,
               false,
               false,
               false,
               false,
               false,
               false,
               false,
               false,
               false,
               false,
               false,
               false,
               false,
               false,
               false,
               false,
               false,
               false,
               true,
               false,
               false,
               false,
               false,
               false,
               false,
               false,
               false,
               false,
               false
              ]
             }
            ],
            "label": "29.59",
            "method": "update"
           },
           {
            "args": [
             {
              "visible": [
               true,
               false,
               false,
               false,
               false,
               false,
               false,
               false,
               false,
               false,
               false,
               false,
               false,
               false,
               false,
               false,
               false,
               false,
               false,
               false,
               false,
               false,
               false,
               false,
               false,
               false,
               false,
               false,
               false,
               false,
               false,
               false,
               false,
               false,
               false,
               false,
               false,
               false,
               false,
               false,
               false,
               true,
               false,
               false,
               false,
               false,
               false,
               false,
               false,
               false,
               false
              ]
             }
            ],
            "label": "31.63",
            "method": "update"
           },
           {
            "args": [
             {
              "visible": [
               true,
               false,
               false,
               false,
               false,
               false,
               false,
               false,
               false,
               false,
               false,
               false,
               false,
               false,
               false,
               false,
               false,
               false,
               false,
               false,
               false,
               false,
               false,
               false,
               false,
               false,
               false,
               false,
               false,
               false,
               false,
               false,
               false,
               false,
               false,
               false,
               false,
               false,
               false,
               false,
               false,
               false,
               true,
               false,
               false,
               false,
               false,
               false,
               false,
               false,
               false
              ]
             }
            ],
            "label": "33.67",
            "method": "update"
           },
           {
            "args": [
             {
              "visible": [
               true,
               false,
               false,
               false,
               false,
               false,
               false,
               false,
               false,
               false,
               false,
               false,
               false,
               false,
               false,
               false,
               false,
               false,
               false,
               false,
               false,
               false,
               false,
               false,
               false,
               false,
               false,
               false,
               false,
               false,
               false,
               false,
               false,
               false,
               false,
               false,
               false,
               false,
               false,
               false,
               false,
               false,
               false,
               true,
               false,
               false,
               false,
               false,
               false,
               false,
               false
              ]
             }
            ],
            "label": "35.71",
            "method": "update"
           },
           {
            "args": [
             {
              "visible": [
               true,
               false,
               false,
               false,
               false,
               false,
               false,
               false,
               false,
               false,
               false,
               false,
               false,
               false,
               false,
               false,
               false,
               false,
               false,
               false,
               false,
               false,
               false,
               false,
               false,
               false,
               false,
               false,
               false,
               false,
               false,
               false,
               false,
               false,
               false,
               false,
               false,
               false,
               false,
               false,
               false,
               false,
               false,
               false,
               true,
               false,
               false,
               false,
               false,
               false,
               false
              ]
             }
            ],
            "label": "37.76",
            "method": "update"
           },
           {
            "args": [
             {
              "visible": [
               true,
               false,
               false,
               false,
               false,
               false,
               false,
               false,
               false,
               false,
               false,
               false,
               false,
               false,
               false,
               false,
               false,
               false,
               false,
               false,
               false,
               false,
               false,
               false,
               false,
               false,
               false,
               false,
               false,
               false,
               false,
               false,
               false,
               false,
               false,
               false,
               false,
               false,
               false,
               false,
               false,
               false,
               false,
               false,
               false,
               true,
               false,
               false,
               false,
               false,
               false
              ]
             }
            ],
            "label": "39.80",
            "method": "update"
           },
           {
            "args": [
             {
              "visible": [
               true,
               false,
               false,
               false,
               false,
               false,
               false,
               false,
               false,
               false,
               false,
               false,
               false,
               false,
               false,
               false,
               false,
               false,
               false,
               false,
               false,
               false,
               false,
               false,
               false,
               false,
               false,
               false,
               false,
               false,
               false,
               false,
               false,
               false,
               false,
               false,
               false,
               false,
               false,
               false,
               false,
               false,
               false,
               false,
               false,
               false,
               true,
               false,
               false,
               false,
               false
              ]
             }
            ],
            "label": "41.84",
            "method": "update"
           },
           {
            "args": [
             {
              "visible": [
               true,
               false,
               false,
               false,
               false,
               false,
               false,
               false,
               false,
               false,
               false,
               false,
               false,
               false,
               false,
               false,
               false,
               false,
               false,
               false,
               false,
               false,
               false,
               false,
               false,
               false,
               false,
               false,
               false,
               false,
               false,
               false,
               false,
               false,
               false,
               false,
               false,
               false,
               false,
               false,
               false,
               false,
               false,
               false,
               false,
               false,
               false,
               true,
               false,
               false,
               false
              ]
             }
            ],
            "label": "43.88",
            "method": "update"
           },
           {
            "args": [
             {
              "visible": [
               true,
               false,
               false,
               false,
               false,
               false,
               false,
               false,
               false,
               false,
               false,
               false,
               false,
               false,
               false,
               false,
               false,
               false,
               false,
               false,
               false,
               false,
               false,
               false,
               false,
               false,
               false,
               false,
               false,
               false,
               false,
               false,
               false,
               false,
               false,
               false,
               false,
               false,
               false,
               false,
               false,
               false,
               false,
               false,
               false,
               false,
               false,
               false,
               true,
               false,
               false
              ]
             }
            ],
            "label": "45.92",
            "method": "update"
           },
           {
            "args": [
             {
              "visible": [
               true,
               false,
               false,
               false,
               false,
               false,
               false,
               false,
               false,
               false,
               false,
               false,
               false,
               false,
               false,
               false,
               false,
               false,
               false,
               false,
               false,
               false,
               false,
               false,
               false,
               false,
               false,
               false,
               false,
               false,
               false,
               false,
               false,
               false,
               false,
               false,
               false,
               false,
               false,
               false,
               false,
               false,
               false,
               false,
               false,
               false,
               false,
               false,
               false,
               true,
               false
              ]
             }
            ],
            "label": "47.96",
            "method": "update"
           },
           {
            "args": [
             {
              "visible": [
               true,
               false,
               false,
               false,
               false,
               false,
               false,
               false,
               false,
               false,
               false,
               false,
               false,
               false,
               false,
               false,
               false,
               false,
               false,
               false,
               false,
               false,
               false,
               false,
               false,
               false,
               false,
               false,
               false,
               false,
               false,
               false,
               false,
               false,
               false,
               false,
               false,
               false,
               false,
               false,
               false,
               false,
               false,
               false,
               false,
               false,
               false,
               false,
               false,
               false,
               true
              ]
             }
            ],
            "label": "50.00",
            "method": "update"
           }
          ]
         }
        ],
        "template": {
         "data": {
          "bar": [
           {
            "error_x": {
             "color": "#2a3f5f"
            },
            "error_y": {
             "color": "#2a3f5f"
            },
            "marker": {
             "line": {
              "color": "#E5ECF6",
              "width": 0.5
             },
             "pattern": {
              "fillmode": "overlay",
              "size": 10,
              "solidity": 0.2
             }
            },
            "type": "bar"
           }
          ],
          "barpolar": [
           {
            "marker": {
             "line": {
              "color": "#E5ECF6",
              "width": 0.5
             },
             "pattern": {
              "fillmode": "overlay",
              "size": 10,
              "solidity": 0.2
             }
            },
            "type": "barpolar"
           }
          ],
          "carpet": [
           {
            "aaxis": {
             "endlinecolor": "#2a3f5f",
             "gridcolor": "white",
             "linecolor": "white",
             "minorgridcolor": "white",
             "startlinecolor": "#2a3f5f"
            },
            "baxis": {
             "endlinecolor": "#2a3f5f",
             "gridcolor": "white",
             "linecolor": "white",
             "minorgridcolor": "white",
             "startlinecolor": "#2a3f5f"
            },
            "type": "carpet"
           }
          ],
          "choropleth": [
           {
            "colorbar": {
             "outlinewidth": 0,
             "ticks": ""
            },
            "type": "choropleth"
           }
          ],
          "contour": [
           {
            "colorbar": {
             "outlinewidth": 0,
             "ticks": ""
            },
            "colorscale": [
             [
              0,
              "#0d0887"
             ],
             [
              0.1111111111111111,
              "#46039f"
             ],
             [
              0.2222222222222222,
              "#7201a8"
             ],
             [
              0.3333333333333333,
              "#9c179e"
             ],
             [
              0.4444444444444444,
              "#bd3786"
             ],
             [
              0.5555555555555556,
              "#d8576b"
             ],
             [
              0.6666666666666666,
              "#ed7953"
             ],
             [
              0.7777777777777778,
              "#fb9f3a"
             ],
             [
              0.8888888888888888,
              "#fdca26"
             ],
             [
              1,
              "#f0f921"
             ]
            ],
            "type": "contour"
           }
          ],
          "contourcarpet": [
           {
            "colorbar": {
             "outlinewidth": 0,
             "ticks": ""
            },
            "type": "contourcarpet"
           }
          ],
          "heatmap": [
           {
            "colorbar": {
             "outlinewidth": 0,
             "ticks": ""
            },
            "colorscale": [
             [
              0,
              "#0d0887"
             ],
             [
              0.1111111111111111,
              "#46039f"
             ],
             [
              0.2222222222222222,
              "#7201a8"
             ],
             [
              0.3333333333333333,
              "#9c179e"
             ],
             [
              0.4444444444444444,
              "#bd3786"
             ],
             [
              0.5555555555555556,
              "#d8576b"
             ],
             [
              0.6666666666666666,
              "#ed7953"
             ],
             [
              0.7777777777777778,
              "#fb9f3a"
             ],
             [
              0.8888888888888888,
              "#fdca26"
             ],
             [
              1,
              "#f0f921"
             ]
            ],
            "type": "heatmap"
           }
          ],
          "histogram": [
           {
            "marker": {
             "pattern": {
              "fillmode": "overlay",
              "size": 10,
              "solidity": 0.2
             }
            },
            "type": "histogram"
           }
          ],
          "histogram2d": [
           {
            "colorbar": {
             "outlinewidth": 0,
             "ticks": ""
            },
            "colorscale": [
             [
              0,
              "#0d0887"
             ],
             [
              0.1111111111111111,
              "#46039f"
             ],
             [
              0.2222222222222222,
              "#7201a8"
             ],
             [
              0.3333333333333333,
              "#9c179e"
             ],
             [
              0.4444444444444444,
              "#bd3786"
             ],
             [
              0.5555555555555556,
              "#d8576b"
             ],
             [
              0.6666666666666666,
              "#ed7953"
             ],
             [
              0.7777777777777778,
              "#fb9f3a"
             ],
             [
              0.8888888888888888,
              "#fdca26"
             ],
             [
              1,
              "#f0f921"
             ]
            ],
            "type": "histogram2d"
           }
          ],
          "histogram2dcontour": [
           {
            "colorbar": {
             "outlinewidth": 0,
             "ticks": ""
            },
            "colorscale": [
             [
              0,
              "#0d0887"
             ],
             [
              0.1111111111111111,
              "#46039f"
             ],
             [
              0.2222222222222222,
              "#7201a8"
             ],
             [
              0.3333333333333333,
              "#9c179e"
             ],
             [
              0.4444444444444444,
              "#bd3786"
             ],
             [
              0.5555555555555556,
              "#d8576b"
             ],
             [
              0.6666666666666666,
              "#ed7953"
             ],
             [
              0.7777777777777778,
              "#fb9f3a"
             ],
             [
              0.8888888888888888,
              "#fdca26"
             ],
             [
              1,
              "#f0f921"
             ]
            ],
            "type": "histogram2dcontour"
           }
          ],
          "mesh3d": [
           {
            "colorbar": {
             "outlinewidth": 0,
             "ticks": ""
            },
            "type": "mesh3d"
           }
          ],
          "parcoords": [
           {
            "line": {
             "colorbar": {
              "outlinewidth": 0,
              "ticks": ""
             }
            },
            "type": "parcoords"
           }
          ],
          "pie": [
           {
            "automargin": true,
            "type": "pie"
           }
          ],
          "scatter": [
           {
            "fillpattern": {
             "fillmode": "overlay",
             "size": 10,
             "solidity": 0.2
            },
            "type": "scatter"
           }
          ],
          "scatter3d": [
           {
            "line": {
             "colorbar": {
              "outlinewidth": 0,
              "ticks": ""
             }
            },
            "marker": {
             "colorbar": {
              "outlinewidth": 0,
              "ticks": ""
             }
            },
            "type": "scatter3d"
           }
          ],
          "scattercarpet": [
           {
            "marker": {
             "colorbar": {
              "outlinewidth": 0,
              "ticks": ""
             }
            },
            "type": "scattercarpet"
           }
          ],
          "scattergeo": [
           {
            "marker": {
             "colorbar": {
              "outlinewidth": 0,
              "ticks": ""
             }
            },
            "type": "scattergeo"
           }
          ],
          "scattergl": [
           {
            "marker": {
             "colorbar": {
              "outlinewidth": 0,
              "ticks": ""
             }
            },
            "type": "scattergl"
           }
          ],
          "scattermap": [
           {
            "marker": {
             "colorbar": {
              "outlinewidth": 0,
              "ticks": ""
             }
            },
            "type": "scattermap"
           }
          ],
          "scattermapbox": [
           {
            "marker": {
             "colorbar": {
              "outlinewidth": 0,
              "ticks": ""
             }
            },
            "type": "scattermapbox"
           }
          ],
          "scatterpolar": [
           {
            "marker": {
             "colorbar": {
              "outlinewidth": 0,
              "ticks": ""
             }
            },
            "type": "scatterpolar"
           }
          ],
          "scatterpolargl": [
           {
            "marker": {
             "colorbar": {
              "outlinewidth": 0,
              "ticks": ""
             }
            },
            "type": "scatterpolargl"
           }
          ],
          "scatterternary": [
           {
            "marker": {
             "colorbar": {
              "outlinewidth": 0,
              "ticks": ""
             }
            },
            "type": "scatterternary"
           }
          ],
          "surface": [
           {
            "colorbar": {
             "outlinewidth": 0,
             "ticks": ""
            },
            "colorscale": [
             [
              0,
              "#0d0887"
             ],
             [
              0.1111111111111111,
              "#46039f"
             ],
             [
              0.2222222222222222,
              "#7201a8"
             ],
             [
              0.3333333333333333,
              "#9c179e"
             ],
             [
              0.4444444444444444,
              "#bd3786"
             ],
             [
              0.5555555555555556,
              "#d8576b"
             ],
             [
              0.6666666666666666,
              "#ed7953"
             ],
             [
              0.7777777777777778,
              "#fb9f3a"
             ],
             [
              0.8888888888888888,
              "#fdca26"
             ],
             [
              1,
              "#f0f921"
             ]
            ],
            "type": "surface"
           }
          ],
          "table": [
           {
            "cells": {
             "fill": {
              "color": "#EBF0F8"
             },
             "line": {
              "color": "white"
             }
            },
            "header": {
             "fill": {
              "color": "#C8D4E3"
             },
             "line": {
              "color": "white"
             }
            },
            "type": "table"
           }
          ]
         },
         "layout": {
          "annotationdefaults": {
           "arrowcolor": "#2a3f5f",
           "arrowhead": 0,
           "arrowwidth": 1
          },
          "autotypenumbers": "strict",
          "coloraxis": {
           "colorbar": {
            "outlinewidth": 0,
            "ticks": ""
           }
          },
          "colorscale": {
           "diverging": [
            [
             0,
             "#8e0152"
            ],
            [
             0.1,
             "#c51b7d"
            ],
            [
             0.2,
             "#de77ae"
            ],
            [
             0.3,
             "#f1b6da"
            ],
            [
             0.4,
             "#fde0ef"
            ],
            [
             0.5,
             "#f7f7f7"
            ],
            [
             0.6,
             "#e6f5d0"
            ],
            [
             0.7,
             "#b8e186"
            ],
            [
             0.8,
             "#7fbc41"
            ],
            [
             0.9,
             "#4d9221"
            ],
            [
             1,
             "#276419"
            ]
           ],
           "sequential": [
            [
             0,
             "#0d0887"
            ],
            [
             0.1111111111111111,
             "#46039f"
            ],
            [
             0.2222222222222222,
             "#7201a8"
            ],
            [
             0.3333333333333333,
             "#9c179e"
            ],
            [
             0.4444444444444444,
             "#bd3786"
            ],
            [
             0.5555555555555556,
             "#d8576b"
            ],
            [
             0.6666666666666666,
             "#ed7953"
            ],
            [
             0.7777777777777778,
             "#fb9f3a"
            ],
            [
             0.8888888888888888,
             "#fdca26"
            ],
            [
             1,
             "#f0f921"
            ]
           ],
           "sequentialminus": [
            [
             0,
             "#0d0887"
            ],
            [
             0.1111111111111111,
             "#46039f"
            ],
            [
             0.2222222222222222,
             "#7201a8"
            ],
            [
             0.3333333333333333,
             "#9c179e"
            ],
            [
             0.4444444444444444,
             "#bd3786"
            ],
            [
             0.5555555555555556,
             "#d8576b"
            ],
            [
             0.6666666666666666,
             "#ed7953"
            ],
            [
             0.7777777777777778,
             "#fb9f3a"
            ],
            [
             0.8888888888888888,
             "#fdca26"
            ],
            [
             1,
             "#f0f921"
            ]
           ]
          },
          "colorway": [
           "#636efa",
           "#EF553B",
           "#00cc96",
           "#ab63fa",
           "#FFA15A",
           "#19d3f3",
           "#FF6692",
           "#B6E880",
           "#FF97FF",
           "#FECB52"
          ],
          "font": {
           "color": "#2a3f5f"
          },
          "geo": {
           "bgcolor": "white",
           "lakecolor": "white",
           "landcolor": "#E5ECF6",
           "showlakes": true,
           "showland": true,
           "subunitcolor": "white"
          },
          "hoverlabel": {
           "align": "left"
          },
          "hovermode": "closest",
          "mapbox": {
           "style": "light"
          },
          "paper_bgcolor": "white",
          "plot_bgcolor": "#E5ECF6",
          "polar": {
           "angularaxis": {
            "gridcolor": "white",
            "linecolor": "white",
            "ticks": ""
           },
           "bgcolor": "#E5ECF6",
           "radialaxis": {
            "gridcolor": "white",
            "linecolor": "white",
            "ticks": ""
           }
          },
          "scene": {
           "xaxis": {
            "backgroundcolor": "#E5ECF6",
            "gridcolor": "white",
            "gridwidth": 2,
            "linecolor": "white",
            "showbackground": true,
            "ticks": "",
            "zerolinecolor": "white"
           },
           "yaxis": {
            "backgroundcolor": "#E5ECF6",
            "gridcolor": "white",
            "gridwidth": 2,
            "linecolor": "white",
            "showbackground": true,
            "ticks": "",
            "zerolinecolor": "white"
           },
           "zaxis": {
            "backgroundcolor": "#E5ECF6",
            "gridcolor": "white",
            "gridwidth": 2,
            "linecolor": "white",
            "showbackground": true,
            "ticks": "",
            "zerolinecolor": "white"
           }
          },
          "shapedefaults": {
           "line": {
            "color": "#2a3f5f"
           }
          },
          "ternary": {
           "aaxis": {
            "gridcolor": "white",
            "linecolor": "white",
            "ticks": ""
           },
           "baxis": {
            "gridcolor": "white",
            "linecolor": "white",
            "ticks": ""
           },
           "bgcolor": "#E5ECF6",
           "caxis": {
            "gridcolor": "white",
            "linecolor": "white",
            "ticks": ""
           }
          },
          "title": {
           "x": 0.05
          },
          "xaxis": {
           "automargin": true,
           "gridcolor": "white",
           "linecolor": "white",
           "ticks": "",
           "title": {
            "standoff": 15
           },
           "zerolinecolor": "white",
           "zerolinewidth": 2
          },
          "yaxis": {
           "automargin": true,
           "gridcolor": "white",
           "linecolor": "white",
           "ticks": "",
           "title": {
            "standoff": 15
           },
           "zerolinecolor": "white",
           "zerolinewidth": 2
          }
         }
        },
        "title": {
         "text": "Interactive Cylinder Cross-Sections<br><sub>Use slider to explore different Z-levels</sub>"
        },
        "width": 800
       }
      }
     },
     "metadata": {},
     "output_type": "display_data"
    }
   ],
   "source": [
    "# Interactive slice view of the cylinder\n",
    "fig_cylinder_slice = visualize_mesh_slice_interactive(\n",
    "    cylinder,\n",
    "    title=\"Interactive Cylinder Cross-Sections\",\n",
    "    slice_color=\"darkblue\",\n",
    "    mesh_color=\"lightblue\",\n",
    "    mesh_opacity=0.3\n",
    ")\n",
    "fig_cylinder_slice.show()"
   ]
  },
  {
   "cell_type": "markdown",
   "id": "5ef777e2",
   "metadata": {},
   "source": [
    "## Exploring Different Parameters\n",
    "\n",
    "Let's create cylinders with different dimensions to see how they affect the geometry:"
   ]
  },
  {
   "cell_type": "code",
   "execution_count": 5,
   "id": "efe1d094",
   "metadata": {},
   "outputs": [
    {
     "name": "stdout",
     "output_type": "stream",
     "text": [
      "\n",
      "=== Standard Cylinder ===\n",
      "Vertices: 34, Faces: 64\n",
      "Volume: 7653.67 μm³\n",
      "Surface Area: 3274.52 μm²\n",
      "Length (Z): 100.0 μm\n",
      "\n",
      "=== Thin Cylinder ===\n",
      "Vertices: 26, Faces: 48\n",
      "Volume: 960.00 μm³\n",
      "Surface Area: 1017.87 μm²\n",
      "Length (Z): 80.0 μm\n",
      "\n",
      "=== Thick Cylinder ===\n",
      "Vertices: 42, Faces: 80\n",
      "Volume: 11866.25 μm³\n",
      "Surface Area: 3399.08 μm²\n",
      "Length (Z): 60.0 μm\n",
      "\n",
      "=== Long Cylinder ===\n",
      "Vertices: 34, Faces: 64\n",
      "Volume: 4132.98 μm³\n",
      "Surface Area: 2864.41 μm²\n",
      "Length (Z): 150.0 μm\n"
     ]
    }
   ],
   "source": [
    "# Create cylinders with different parameters\n",
    "thin_cylinder = create_cylinder_mesh(length=80.0, radius=2.0, resolution=12)\n",
    "thick_cylinder = create_cylinder_mesh(length=60.0, radius=8.0, resolution=20)\n",
    "long_cylinder = create_cylinder_mesh(length=150.0, radius=3.0, resolution=16)\n",
    "\n",
    "cylinders = {\n",
    "    \"Standard\": cylinder,\n",
    "    \"Thin\": thin_cylinder,\n",
    "    \"Thick\": thick_cylinder,\n",
    "    \"Long\": long_cylinder\n",
    "}\n",
    "\n",
    "# Analyze each cylinder\n",
    "for name, cyl in cylinders.items():\n",
    "    props = analyze_mesh_properties(cyl)\n",
    "    print(f\"\\n=== {name} Cylinder ===\")\n",
    "    print(f\"Vertices: {props['num_vertices']}, Faces: {props['num_faces']}\")\n",
    "    print(f\"Volume: {props['volume']:.2f} μm³\")\n",
    "    print(f\"Surface Area: {props['surface_area']:.2f} μm²\")\n",
    "    print(f\"Length (Z): {props['bounds']['z_range'][1] - props['bounds']['z_range'][0]:.1f} μm\")"
   ]
  },
  {
   "cell_type": "markdown",
   "id": "c0a2d92d",
   "metadata": {},
   "source": [
    "## Comparison Visualization\n",
    "\n",
    "Let's compare all our cylinders side by side:"
   ]
  },
  {
   "cell_type": "code",
   "execution_count": 6,
   "id": "e4b0639f",
   "metadata": {},
   "outputs": [
    {
     "data": {
      "application/vnd.plotly.v1+json": {
       "config": {
        "plotlyServerURL": "https://plot.ly"
       },
       "data": [
        {
         "color": "lightblue",
         "i": {
          "bdata": "AQECAgQEBQUGBgcHCAgJCQoKCwsMDA0NDg4PDxAQERESEhMTFBQVFRYWFxcYGBkZGhobGxwcHR0eHh8fICAhIQ==",
          "dtype": "i1"
         },
         "j": {
          "bdata": "AAQEBQAGBgcACAgJAAoKCwAMDA0ADg4PABAQEQASEhMAFBQVABYWFwAYGBkAGhobABwcHQAeHh8AICAhAAEBAg==",
          "dtype": "i1"
         },
         "k": {
          "bdata": "BAIFAwYFBwMIBwkDCgkLAwwLDQMODQ8DEA8RAxIREwMUExUDFhUXAxgXGQMaGRsDHBsdAx4dHwMgHyEDASECAw==",
          "dtype": "i1"
         },
         "opacity": 0.8,
         "scene": "scene",
         "type": "mesh3d",
         "x": {
          "bdata": "AAAAAAAAAAAAAAAAAAAUQAAAAAAAABRAAAAAAAAAAABMmH9hQ3oSQEyYf2FDehJAwAofAMZIDEDACh8AxkgMQL1TWlBbnf4/vVNaUFud/j8Jc9m/rw+2PAlz2b+vD7Y8ulNaUFud/r+6U1pQW53+v78KHwDGSAzAvwofAMZIDMBMmH9hQ3oSwEyYf2FDehLAAAAAAAAAFMAAAAAAAAAUwEyYf2FDehLATJh/YUN6EsDCCh8AxkgMwMIKHwDGSAzAyFNaUFud/r/IU1pQW53+v0YW48/Di9C8Rhbjz8OL0LzBU1pQW53+P8FTWlBbnf4/vgofAMZIDEC+Ch8AxkgMQEqYf2FDehJASph/YUN6EkA=",
          "dtype": "f8"
         },
         "y": {
          "bdata": "AAAAAAAAAAAAAAAAAAAAAAAAAAAAAAAAAAAAAAAAAAC8U1pQW53+P7xTWlBbnf4/vwofAMZIDEC/Ch8AxkgMQEyYf2FDehJATJh/YUN6EkAAAAAAAAAUQAAAAAAAABRATJh/YUN6EkBMmH9hQ3oSQMAKHwDGSAxAwAofAMZIDEC+U1pQW53+P75TWlBbnf4/CXPZv68PxjwJc9m/rw/GPLlTWlBbnf6/uVNaUFud/r+/Ch8AxkgMwL8KHwDGSAzASph/YUN6EsBKmH9hQ3oSwAAAAAAAABTAAAAAAAAAFMBLmH9hQ3oSwEuYf2FDehLAwgofAMZIDMDCCh8AxkgMwMpTWlBbnf6/ylNaUFud/r8=",
          "dtype": "f8"
         },
         "z": {
          "bdata": "AAAAAAAAScAAAAAAAABJwAAAAAAAAElAAAAAAAAASUAAAAAAAABJwAAAAAAAAElAAAAAAAAAScAAAAAAAABJQAAAAAAAAEnAAAAAAAAASUAAAAAAAABJwAAAAAAAAElAAAAAAAAAScAAAAAAAABJQAAAAAAAAEnAAAAAAAAASUAAAAAAAABJwAAAAAAAAElAAAAAAAAAScAAAAAAAABJQAAAAAAAAEnAAAAAAAAASUAAAAAAAABJwAAAAAAAAElAAAAAAAAAScAAAAAAAABJQAAAAAAAAEnAAAAAAAAASUAAAAAAAABJwAAAAAAAAElAAAAAAAAAScAAAAAAAABJQAAAAAAAAEnAAAAAAAAASUA=",
          "dtype": "f8"
         }
        },
        {
         "color": "lightgreen",
         "i": {
          "bdata": "AQECAgQEBQUGBgcHCAgJCQoKCwsMDA0NDg4PDxAQERESEhMTFBQVFRYWFxcYGBkZ",
          "dtype": "i1"
         },
         "j": {
          "bdata": "AAQEBQAGBgcACAgJAAoKCwAMDA0ADg4PABAQEQASEhMAFBQVABYWFwAYGBkAAQEC",
          "dtype": "i1"
         },
         "k": {
          "bdata": "BAIFAwYFBwMIBwkDCgkLAwwLDQMODQ8DEA8RAxIREwMUExUDFhUXAxgXGQMBGQID",
          "dtype": "i1"
         },
         "opacity": 0.8,
         "scene": "scene2",
         "type": "mesh3d",
         "x": {
          "bdata": "AAAAAAAAAAAAAAAAAAAAQAAAAAAAAABAAAAAAAAAAACrTFjoerb7P6tMWOh6tvs/AQAAAAAA8D8BAAAAAADwPwdcFDMmpqE8B1wUMyamoTz8///////vv/z//////++/qUxY6Hq2+7+pTFjoerb7vwAAAAAAAADAAAAAAAAAAMCsTFjoerb7v6xMWOh6tvu/BAAAAAAA8L8EAAAAAADwvwqKnkw5ebq8CoqeTDl5urz0///////vP/T//////+8/qExY6Hq2+z+oTFjoerb7Pw==",
          "dtype": "f8"
         },
         "y": {
          "bdata": "AAAAAAAAAAAAAAAAAAAAAAAAAAAAAAAAAAAAAAAAAAD////////vP////////+8/qkxY6Hq2+z+qTFjoerb7PwAAAAAAAABAAAAAAAAAAECrTFjoerb7P6tMWOh6tvs/AwAAAAAA8D8DAAAAAADwPwdcFDMmprE8B1wUMyamsTz7///////vv/v//////++/qExY6Hq2+7+oTFjoerb7vwAAAAAAAADAAAAAAAAAAMCuTFjoerb7v65MWOh6tvu/BAAAAAAA8L8EAAAAAADwvw==",
          "dtype": "f8"
         },
         "z": {
          "bdata": "AAAAAAAARMAAAAAAAABEwAAAAAAAAERAAAAAAAAAREAAAAAAAABEwAAAAAAAAERAAAAAAAAARMAAAAAAAABEQAAAAAAAAETAAAAAAAAAREAAAAAAAABEwAAAAAAAAERAAAAAAAAARMAAAAAAAABEQAAAAAAAAETAAAAAAAAAREAAAAAAAABEwAAAAAAAAERAAAAAAAAARMAAAAAAAABEQAAAAAAAAETAAAAAAAAAREAAAAAAAABEwAAAAAAAAERAAAAAAAAARMAAAAAAAABEQA==",
          "dtype": "f8"
         }
        },
        {
         "color": "orange",
         "i": {
          "bdata": "AQECAgQEBQUGBgcHCAgJCQoKCwsMDA0NDg4PDxAQERESEhMTFBQVFRYWFxcYGBkZGhobGxwcHR0eHh8fICAhISIiIyMkJCUlJiYnJygoKSk=",
          "dtype": "i1"
         },
         "j": {
          "bdata": "AAQEBQAGBgcACAgJAAoKCwAMDA0ADg4PABAQEQASEhMAFBQVABYWFwAYGBkAGhobABwcHQAeHh8AICAhACIiIwAkJCUAJiYnACgoKQABAQI=",
          "dtype": "i1"
         },
         "k": {
          "bdata": "BAIFAwYFBwMIBwkDCgkLAwwLDQMODQ8DEA8RAxIREwMUExUDFhUXAxgXGQMaGRsDHBsdAx4dHwMgHyEDIiEjAyQjJQMmJScDKCcpAwEpAgM=",
          "dtype": "i1"
         },
         "opacity": 0.8,
         "scene": "scene3",
         "type": "mesh3d",
         "x": {
          "bdata": "AAAAAAAAAAAAAAAAAAAgQAAAAAAAACBAAAAAAAAAAAD/VEQTDm8eQP9URBMObx5AqPSXm3fjGUCo9Jebd+MZQF5adQQjzxJAXlp1BCPPEkBQ6S8378YDQFDpLzfvxgNAB1wUMyamwTwHXBQzJqbBPE7pLzfvxgPATukvN+/GA8BdWnUEI88SwF1adQQjzxLAp/SXm3fjGcCn9Jebd+MZwP9URBMObx7A/1REEw5vHsAAAAAAAAAgwAAAAAAAACDAAFVEEw5vHsAAVUQTDm8ewKn0l5t34xnAqfSXm3fjGcBfWnUEI88SwF9adQQjzxLAUukvN+/GA8BS6S8378YDwAqKnkw5edq8CoqeTDl52rxM6S8378YDQEzpLzfvxgNAXFp1BCPPEkBcWnUEI88SQKf0l5t34xlAp/SXm3fjGUD/VEQTDm8eQP9URBMObx5A",
          "dtype": "f8"
         },
         "y": {
          "bdata": "AAAAAAAAAAAAAAAAAAAAAAAAAAAAAAAAAAAAAAAAAABP6S8378YDQE/pLzfvxgNAXlp1BCPPEkBeWnUEI88SQKj0l5t34xlAqPSXm3fjGUD/VEQTDm8eQP9URBMObx5AAAAAAAAAIEAAAAAAAAAgQABVRBMObx5AAFVEEw5vHkCo9Jebd+MZQKj0l5t34xlAX1p1BCPPEkBfWnUEI88SQFHpLzfvxgNAUekvN+/GA0AHXBQzJqbRPAdcFDMmptE8TekvN+/GA8BN6S8378YDwF1adQQjzxLAXVp1BCPPEsCn9Jebd+MZwKf0l5t34xnA/1REEw5vHsD/VEQTDm8ewAAAAAAAACDAAAAAAAAAIMAAVUQTDm8ewABVRBMObx7AqfSXm3fjGcCp9Jebd+MZwGBadQQjzxLAYFp1BCPPEsBT6S8378YDwFPpLzfvxgPA",
          "dtype": "f8"
         },
         "z": {
          "bdata": "AAAAAAAAPsAAAAAAAAA+wAAAAAAAAD5AAAAAAAAAPkAAAAAAAAA+wAAAAAAAAD5AAAAAAAAAPsAAAAAAAAA+QAAAAAAAAD7AAAAAAAAAPkAAAAAAAAA+wAAAAAAAAD5AAAAAAAAAPsAAAAAAAAA+QAAAAAAAAD7AAAAAAAAAPkAAAAAAAAA+wAAAAAAAAD5AAAAAAAAAPsAAAAAAAAA+QAAAAAAAAD7AAAAAAAAAPkAAAAAAAAA+wAAAAAAAAD5AAAAAAAAAPsAAAAAAAAA+QAAAAAAAAD7AAAAAAAAAPkAAAAAAAAA+wAAAAAAAAD5AAAAAAAAAPsAAAAAAAAA+QAAAAAAAAD7AAAAAAAAAPkAAAAAAAAA+wAAAAAAAAD5AAAAAAAAAPsAAAAAAAAA+QAAAAAAAAD7AAAAAAAAAPkAAAAAAAAA+wAAAAAAAAD5A",
          "dtype": "f8"
         }
        },
        {
         "color": "purple",
         "i": {
          "bdata": "AQECAgQEBQUGBgcHCAgJCQoKCwsMDA0NDg4PDxAQERESEhMTFBQVFRYWFxcYGBkZGhobGxwcHR0eHh8fICAhIQ==",
          "dtype": "i1"
         },
         "j": {
          "bdata": "AAQEBQAGBgcACAgJAAoKCwAMDA0ADg4PABAQEQASEhMAFBQVABYWFwAYGBkAGhobABwcHQAeHh8AICAhAAEBAg==",
          "dtype": "i1"
         },
         "k": {
          "bdata": "BAIFAwYFBwMIBwkDCgkLAwwLDQMODQ8DEA8RAxIREwMUExUDFhUXAxgXGQMaGRsDHBsdAx4dHwMgHyEDASECAw==",
          "dtype": "i1"
         },
         "opacity": 0.8,
         "scene": "scene4",
         "type": "mesh3d",
         "x": {
          "bdata": "AAAAAAAAAAAAAAAAAAAIQAAAAAAAAAhAAAAAAAAAAAD06WXbUCwGQPTpZdtQLAZA2mzfzHb4AEDabN/MdvgAQAv/Av1pXvI/C/8C/Wle8j8Kip5MOXmqPAqKnkw5eao8Cv8C/Wle8r8K/wL9aV7yv9ls38x2+ADA2WzfzHb4AMD06WXbUCwGwPTpZdtQLAbAAAAAAAAACMAAAAAAAAAIwPXpZdtQLAbA9ell21AsBsDabN/MdvgAwNps38x2+ADAEv8C/Wle8r8S/wL9aV7yv4jndvnq2sO8iOd2+eraw7wN/wL9aV7yPw3/Av1pXvI/2GzfzHb4AEDYbN/MdvgAQPPpZdtQLAZA8+ll21AsBkA=",
          "dtype": "f8"
         },
         "y": {
          "bdata": "AAAAAAAAAAAAAAAAAAAAAAAAAAAAAAAAAAAAAAAAAAAK/wL9aV7yPwr/Av1pXvI/2WzfzHb4AEDZbN/MdvgAQPTpZdtQLAZA9Oll21AsBkAAAAAAAAAIQAAAAAAAAAhA9Oll21AsBkD06WXbUCwGQNps38x2+ABA2mzfzHb4AEAM/wL9aV7yPwz/Av1pXvI/CoqeTDl5ujwKip5MOXm6PAn/Av1pXvK/Cf8C/Wle8r/ZbN/MdvgAwNls38x2+ADA8+ll21AsBsDz6WXbUCwGwAAAAAAAAAjAAAAAAAAACMD06WXbUCwGwPTpZdtQLAbA2mzfzHb4AMDabN/MdvgAwBL/Av1pXvK/Ev8C/Wle8r8=",
          "dtype": "f8"
         },
         "z": {
          "bdata": "AAAAAADAUsAAAAAAAMBSwAAAAAAAwFJAAAAAAADAUkAAAAAAAMBSwAAAAAAAwFJAAAAAAADAUsAAAAAAAMBSQAAAAAAAwFLAAAAAAADAUkAAAAAAAMBSwAAAAAAAwFJAAAAAAADAUsAAAAAAAMBSQAAAAAAAwFLAAAAAAADAUkAAAAAAAMBSwAAAAAAAwFJAAAAAAADAUsAAAAAAAMBSQAAAAAAAwFLAAAAAAADAUkAAAAAAAMBSwAAAAAAAwFJAAAAAAADAUsAAAAAAAMBSQAAAAAAAwFLAAAAAAADAUkAAAAAAAMBSwAAAAAAAwFJAAAAAAADAUsAAAAAAAMBSQAAAAAAAwFLAAAAAAADAUkA=",
          "dtype": "f8"
         }
        }
       ],
       "layout": {
        "annotations": [
         {
          "font": {
           "size": 16
          },
          "showarrow": false,
          "text": "Standard",
          "x": 0.225,
          "xanchor": "center",
          "xref": "paper",
          "y": 1,
          "yanchor": "bottom",
          "yref": "paper"
         },
         {
          "font": {
           "size": 16
          },
          "showarrow": false,
          "text": "Thin",
          "x": 0.775,
          "xanchor": "center",
          "xref": "paper",
          "y": 1,
          "yanchor": "bottom",
          "yref": "paper"
         },
         {
          "font": {
           "size": 16
          },
          "showarrow": false,
          "text": "Thick",
          "x": 0.225,
          "xanchor": "center",
          "xref": "paper",
          "y": 0.375,
          "yanchor": "bottom",
          "yref": "paper"
         },
         {
          "font": {
           "size": 16
          },
          "showarrow": false,
          "text": "Long",
          "x": 0.775,
          "xanchor": "center",
          "xref": "paper",
          "y": 0.375,
          "yanchor": "bottom",
          "yref": "paper"
         }
        ],
        "height": 800,
        "scene": {
         "domain": {
          "x": [
           0,
           0.45
          ],
          "y": [
           0.625,
           1
          ]
         }
        },
        "scene2": {
         "domain": {
          "x": [
           0.55,
           1
          ],
          "y": [
           0.625,
           1
          ]
         }
        },
        "scene3": {
         "domain": {
          "x": [
           0,
           0.45
          ],
          "y": [
           0,
           0.375
          ]
         }
        },
        "scene4": {
         "domain": {
          "x": [
           0.55,
           1
          ],
          "y": [
           0,
           0.375
          ]
         }
        },
        "showlegend": false,
        "template": {
         "data": {
          "bar": [
           {
            "error_x": {
             "color": "#2a3f5f"
            },
            "error_y": {
             "color": "#2a3f5f"
            },
            "marker": {
             "line": {
              "color": "#E5ECF6",
              "width": 0.5
             },
             "pattern": {
              "fillmode": "overlay",
              "size": 10,
              "solidity": 0.2
             }
            },
            "type": "bar"
           }
          ],
          "barpolar": [
           {
            "marker": {
             "line": {
              "color": "#E5ECF6",
              "width": 0.5
             },
             "pattern": {
              "fillmode": "overlay",
              "size": 10,
              "solidity": 0.2
             }
            },
            "type": "barpolar"
           }
          ],
          "carpet": [
           {
            "aaxis": {
             "endlinecolor": "#2a3f5f",
             "gridcolor": "white",
             "linecolor": "white",
             "minorgridcolor": "white",
             "startlinecolor": "#2a3f5f"
            },
            "baxis": {
             "endlinecolor": "#2a3f5f",
             "gridcolor": "white",
             "linecolor": "white",
             "minorgridcolor": "white",
             "startlinecolor": "#2a3f5f"
            },
            "type": "carpet"
           }
          ],
          "choropleth": [
           {
            "colorbar": {
             "outlinewidth": 0,
             "ticks": ""
            },
            "type": "choropleth"
           }
          ],
          "contour": [
           {
            "colorbar": {
             "outlinewidth": 0,
             "ticks": ""
            },
            "colorscale": [
             [
              0,
              "#0d0887"
             ],
             [
              0.1111111111111111,
              "#46039f"
             ],
             [
              0.2222222222222222,
              "#7201a8"
             ],
             [
              0.3333333333333333,
              "#9c179e"
             ],
             [
              0.4444444444444444,
              "#bd3786"
             ],
             [
              0.5555555555555556,
              "#d8576b"
             ],
             [
              0.6666666666666666,
              "#ed7953"
             ],
             [
              0.7777777777777778,
              "#fb9f3a"
             ],
             [
              0.8888888888888888,
              "#fdca26"
             ],
             [
              1,
              "#f0f921"
             ]
            ],
            "type": "contour"
           }
          ],
          "contourcarpet": [
           {
            "colorbar": {
             "outlinewidth": 0,
             "ticks": ""
            },
            "type": "contourcarpet"
           }
          ],
          "heatmap": [
           {
            "colorbar": {
             "outlinewidth": 0,
             "ticks": ""
            },
            "colorscale": [
             [
              0,
              "#0d0887"
             ],
             [
              0.1111111111111111,
              "#46039f"
             ],
             [
              0.2222222222222222,
              "#7201a8"
             ],
             [
              0.3333333333333333,
              "#9c179e"
             ],
             [
              0.4444444444444444,
              "#bd3786"
             ],
             [
              0.5555555555555556,
              "#d8576b"
             ],
             [
              0.6666666666666666,
              "#ed7953"
             ],
             [
              0.7777777777777778,
              "#fb9f3a"
             ],
             [
              0.8888888888888888,
              "#fdca26"
             ],
             [
              1,
              "#f0f921"
             ]
            ],
            "type": "heatmap"
           }
          ],
          "histogram": [
           {
            "marker": {
             "pattern": {
              "fillmode": "overlay",
              "size": 10,
              "solidity": 0.2
             }
            },
            "type": "histogram"
           }
          ],
          "histogram2d": [
           {
            "colorbar": {
             "outlinewidth": 0,
             "ticks": ""
            },
            "colorscale": [
             [
              0,
              "#0d0887"
             ],
             [
              0.1111111111111111,
              "#46039f"
             ],
             [
              0.2222222222222222,
              "#7201a8"
             ],
             [
              0.3333333333333333,
              "#9c179e"
             ],
             [
              0.4444444444444444,
              "#bd3786"
             ],
             [
              0.5555555555555556,
              "#d8576b"
             ],
             [
              0.6666666666666666,
              "#ed7953"
             ],
             [
              0.7777777777777778,
              "#fb9f3a"
             ],
             [
              0.8888888888888888,
              "#fdca26"
             ],
             [
              1,
              "#f0f921"
             ]
            ],
            "type": "histogram2d"
           }
          ],
          "histogram2dcontour": [
           {
            "colorbar": {
             "outlinewidth": 0,
             "ticks": ""
            },
            "colorscale": [
             [
              0,
              "#0d0887"
             ],
             [
              0.1111111111111111,
              "#46039f"
             ],
             [
              0.2222222222222222,
              "#7201a8"
             ],
             [
              0.3333333333333333,
              "#9c179e"
             ],
             [
              0.4444444444444444,
              "#bd3786"
             ],
             [
              0.5555555555555556,
              "#d8576b"
             ],
             [
              0.6666666666666666,
              "#ed7953"
             ],
             [
              0.7777777777777778,
              "#fb9f3a"
             ],
             [
              0.8888888888888888,
              "#fdca26"
             ],
             [
              1,
              "#f0f921"
             ]
            ],
            "type": "histogram2dcontour"
           }
          ],
          "mesh3d": [
           {
            "colorbar": {
             "outlinewidth": 0,
             "ticks": ""
            },
            "type": "mesh3d"
           }
          ],
          "parcoords": [
           {
            "line": {
             "colorbar": {
              "outlinewidth": 0,
              "ticks": ""
             }
            },
            "type": "parcoords"
           }
          ],
          "pie": [
           {
            "automargin": true,
            "type": "pie"
           }
          ],
          "scatter": [
           {
            "fillpattern": {
             "fillmode": "overlay",
             "size": 10,
             "solidity": 0.2
            },
            "type": "scatter"
           }
          ],
          "scatter3d": [
           {
            "line": {
             "colorbar": {
              "outlinewidth": 0,
              "ticks": ""
             }
            },
            "marker": {
             "colorbar": {
              "outlinewidth": 0,
              "ticks": ""
             }
            },
            "type": "scatter3d"
           }
          ],
          "scattercarpet": [
           {
            "marker": {
             "colorbar": {
              "outlinewidth": 0,
              "ticks": ""
             }
            },
            "type": "scattercarpet"
           }
          ],
          "scattergeo": [
           {
            "marker": {
             "colorbar": {
              "outlinewidth": 0,
              "ticks": ""
             }
            },
            "type": "scattergeo"
           }
          ],
          "scattergl": [
           {
            "marker": {
             "colorbar": {
              "outlinewidth": 0,
              "ticks": ""
             }
            },
            "type": "scattergl"
           }
          ],
          "scattermap": [
           {
            "marker": {
             "colorbar": {
              "outlinewidth": 0,
              "ticks": ""
             }
            },
            "type": "scattermap"
           }
          ],
          "scattermapbox": [
           {
            "marker": {
             "colorbar": {
              "outlinewidth": 0,
              "ticks": ""
             }
            },
            "type": "scattermapbox"
           }
          ],
          "scatterpolar": [
           {
            "marker": {
             "colorbar": {
              "outlinewidth": 0,
              "ticks": ""
             }
            },
            "type": "scatterpolar"
           }
          ],
          "scatterpolargl": [
           {
            "marker": {
             "colorbar": {
              "outlinewidth": 0,
              "ticks": ""
             }
            },
            "type": "scatterpolargl"
           }
          ],
          "scatterternary": [
           {
            "marker": {
             "colorbar": {
              "outlinewidth": 0,
              "ticks": ""
             }
            },
            "type": "scatterternary"
           }
          ],
          "surface": [
           {
            "colorbar": {
             "outlinewidth": 0,
             "ticks": ""
            },
            "colorscale": [
             [
              0,
              "#0d0887"
             ],
             [
              0.1111111111111111,
              "#46039f"
             ],
             [
              0.2222222222222222,
              "#7201a8"
             ],
             [
              0.3333333333333333,
              "#9c179e"
             ],
             [
              0.4444444444444444,
              "#bd3786"
             ],
             [
              0.5555555555555556,
              "#d8576b"
             ],
             [
              0.6666666666666666,
              "#ed7953"
             ],
             [
              0.7777777777777778,
              "#fb9f3a"
             ],
             [
              0.8888888888888888,
              "#fdca26"
             ],
             [
              1,
              "#f0f921"
             ]
            ],
            "type": "surface"
           }
          ],
          "table": [
           {
            "cells": {
             "fill": {
              "color": "#EBF0F8"
             },
             "line": {
              "color": "white"
             }
            },
            "header": {
             "fill": {
              "color": "#C8D4E3"
             },
             "line": {
              "color": "white"
             }
            },
            "type": "table"
           }
          ]
         },
         "layout": {
          "annotationdefaults": {
           "arrowcolor": "#2a3f5f",
           "arrowhead": 0,
           "arrowwidth": 1
          },
          "autotypenumbers": "strict",
          "coloraxis": {
           "colorbar": {
            "outlinewidth": 0,
            "ticks": ""
           }
          },
          "colorscale": {
           "diverging": [
            [
             0,
             "#8e0152"
            ],
            [
             0.1,
             "#c51b7d"
            ],
            [
             0.2,
             "#de77ae"
            ],
            [
             0.3,
             "#f1b6da"
            ],
            [
             0.4,
             "#fde0ef"
            ],
            [
             0.5,
             "#f7f7f7"
            ],
            [
             0.6,
             "#e6f5d0"
            ],
            [
             0.7,
             "#b8e186"
            ],
            [
             0.8,
             "#7fbc41"
            ],
            [
             0.9,
             "#4d9221"
            ],
            [
             1,
             "#276419"
            ]
           ],
           "sequential": [
            [
             0,
             "#0d0887"
            ],
            [
             0.1111111111111111,
             "#46039f"
            ],
            [
             0.2222222222222222,
             "#7201a8"
            ],
            [
             0.3333333333333333,
             "#9c179e"
            ],
            [
             0.4444444444444444,
             "#bd3786"
            ],
            [
             0.5555555555555556,
             "#d8576b"
            ],
            [
             0.6666666666666666,
             "#ed7953"
            ],
            [
             0.7777777777777778,
             "#fb9f3a"
            ],
            [
             0.8888888888888888,
             "#fdca26"
            ],
            [
             1,
             "#f0f921"
            ]
           ],
           "sequentialminus": [
            [
             0,
             "#0d0887"
            ],
            [
             0.1111111111111111,
             "#46039f"
            ],
            [
             0.2222222222222222,
             "#7201a8"
            ],
            [
             0.3333333333333333,
             "#9c179e"
            ],
            [
             0.4444444444444444,
             "#bd3786"
            ],
            [
             0.5555555555555556,
             "#d8576b"
            ],
            [
             0.6666666666666666,
             "#ed7953"
            ],
            [
             0.7777777777777778,
             "#fb9f3a"
            ],
            [
             0.8888888888888888,
             "#fdca26"
            ],
            [
             1,
             "#f0f921"
            ]
           ]
          },
          "colorway": [
           "#636efa",
           "#EF553B",
           "#00cc96",
           "#ab63fa",
           "#FFA15A",
           "#19d3f3",
           "#FF6692",
           "#B6E880",
           "#FF97FF",
           "#FECB52"
          ],
          "font": {
           "color": "#2a3f5f"
          },
          "geo": {
           "bgcolor": "white",
           "lakecolor": "white",
           "landcolor": "#E5ECF6",
           "showlakes": true,
           "showland": true,
           "subunitcolor": "white"
          },
          "hoverlabel": {
           "align": "left"
          },
          "hovermode": "closest",
          "mapbox": {
           "style": "light"
          },
          "paper_bgcolor": "white",
          "plot_bgcolor": "#E5ECF6",
          "polar": {
           "angularaxis": {
            "gridcolor": "white",
            "linecolor": "white",
            "ticks": ""
           },
           "bgcolor": "#E5ECF6",
           "radialaxis": {
            "gridcolor": "white",
            "linecolor": "white",
            "ticks": ""
           }
          },
          "scene": {
           "xaxis": {
            "backgroundcolor": "#E5ECF6",
            "gridcolor": "white",
            "gridwidth": 2,
            "linecolor": "white",
            "showbackground": true,
            "ticks": "",
            "zerolinecolor": "white"
           },
           "yaxis": {
            "backgroundcolor": "#E5ECF6",
            "gridcolor": "white",
            "gridwidth": 2,
            "linecolor": "white",
            "showbackground": true,
            "ticks": "",
            "zerolinecolor": "white"
           },
           "zaxis": {
            "backgroundcolor": "#E5ECF6",
            "gridcolor": "white",
            "gridwidth": 2,
            "linecolor": "white",
            "showbackground": true,
            "ticks": "",
            "zerolinecolor": "white"
           }
          },
          "shapedefaults": {
           "line": {
            "color": "#2a3f5f"
           }
          },
          "ternary": {
           "aaxis": {
            "gridcolor": "white",
            "linecolor": "white",
            "ticks": ""
           },
           "baxis": {
            "gridcolor": "white",
            "linecolor": "white",
            "ticks": ""
           },
           "bgcolor": "#E5ECF6",
           "caxis": {
            "gridcolor": "white",
            "linecolor": "white",
            "ticks": ""
           }
          },
          "title": {
           "x": 0.05
          },
          "xaxis": {
           "automargin": true,
           "gridcolor": "white",
           "linecolor": "white",
           "ticks": "",
           "title": {
            "standoff": 15
           },
           "zerolinecolor": "white",
           "zerolinewidth": 2
          },
          "yaxis": {
           "automargin": true,
           "gridcolor": "white",
           "linecolor": "white",
           "ticks": "",
           "title": {
            "standoff": 15
           },
           "zerolinecolor": "white",
           "zerolinewidth": 2
          }
         }
        },
        "title": {
         "text": "Cylinder Variations Comparison"
        }
       }
      }
     },
     "metadata": {},
     "output_type": "display_data"
    }
   ],
   "source": [
    "# Create a comparison plot\n",
    "from plotly.subplots import make_subplots\n",
    "\n",
    "fig = make_subplots(\n",
    "    rows=2, cols=2,\n",
    "    specs=[[{\"type\": \"scatter3d\"}, {\"type\": \"scatter3d\"}],\n",
    "           [{\"type\": \"scatter3d\"}, {\"type\": \"scatter3d\"}]],\n",
    "    subplot_titles=[\"Standard\", \"Thin\", \"Thick\", \"Long\"]\n",
    ")\n",
    "\n",
    "colors = [\"lightblue\", \"lightgreen\", \"orange\", \"purple\"]\n",
    "positions = [(1, 1), (1, 2), (2, 1), (2, 2)]\n",
    "\n",
    "for i, (name, cyl) in enumerate(cylinders.items()):\n",
    "    vertices = cyl.vertices\n",
    "    faces = cyl.faces\n",
    "    \n",
    "    trace = go.Mesh3d(\n",
    "        x=vertices[:, 0],\n",
    "        y=vertices[:, 1],\n",
    "        z=vertices[:, 2],\n",
    "        i=faces[:, 0],\n",
    "        j=faces[:, 1],\n",
    "        k=faces[:, 2],\n",
    "        color=colors[i],\n",
    "        opacity=0.8\n",
    "    )\n",
    "    \n",
    "    fig.add_trace(trace, row=positions[i][0], col=positions[i][1])\n",
    "\n",
    "fig.update_layout(\n",
    "    title=\"Cylinder Variations Comparison\",\n",
    "    height=800,\n",
    "    showlegend=False\n",
    ")\n",
    "\n",
    "fig.show()"
   ]
  },
  {
   "cell_type": "markdown",
   "id": "969febbc",
   "metadata": {},
   "source": [
    "## Resolution Effects\n",
    "\n",
    "Let's see how the resolution parameter affects the mesh quality:"
   ]
  },
  {
   "cell_type": "code",
   "execution_count": 7,
   "id": "32631298",
   "metadata": {},
   "outputs": [
    {
     "name": "stdout",
     "output_type": "stream",
     "text": [
      "\n",
      "Low (6 sides):\n",
      "  Vertices: 14, Faces: 24\n",
      "  Surface Area: 1629.90 μm²\n",
      "\n",
      "Medium (12 sides):\n",
      "  Vertices: 26, Faces: 48\n",
      "  Surface Area: 1702.91 μm²\n",
      "\n",
      "High (24 sides):\n",
      "  Vertices: 50, Faces: 96\n",
      "  Surface Area: 1721.61 μm²\n"
     ]
    }
   ],
   "source": [
    "# Create cylinders with different resolutions\n",
    "low_res = create_cylinder_mesh(length=50.0, radius=5.0, resolution=6)\n",
    "med_res = create_cylinder_mesh(length=50.0, radius=5.0, resolution=12)\n",
    "high_res = create_cylinder_mesh(length=50.0, radius=5.0, resolution=24)\n",
    "\n",
    "resolutions = {\n",
    "    \"Low (6 sides)\": low_res,\n",
    "    \"Medium (12 sides)\": med_res,\n",
    "    \"High (24 sides)\": high_res\n",
    "}\n",
    "\n",
    "for name, cyl in resolutions.items():\n",
    "    props = analyze_mesh_properties(cyl)\n",
    "    print(f\"\\n{name}:\")\n",
    "    print(f\"  Vertices: {props['num_vertices']}, Faces: {props['num_faces']}\")\n",
    "    print(f\"  Surface Area: {props['surface_area']:.2f} μm²\")"
   ]
  },
  {
   "cell_type": "markdown",
   "id": "dbb4f8c7",
   "metadata": {},
   "source": [
    "## Saving Your Cylinder\n",
    "\n",
    "Finally, let's save our cylinder mesh for later use:"
   ]
  },
  {
   "cell_type": "code",
   "execution_count": 8,
   "id": "e4204e87",
   "metadata": {},
   "outputs": [
    {
     "name": "stdout",
     "output_type": "stream",
     "text": [
      "💾 Saved cylinder mesh to: data/mesh/cylinder_demo.stl\n",
      "💾 Saved standard cylinder to: data/mesh/cylinder_standard.stl\n",
      "💾 Saved thin cylinder to: data/mesh/cylinder_thin.stl\n",
      "💾 Saved thick cylinder to: data/mesh/cylinder_thick.stl\n",
      "💾 Saved long cylinder to: data/mesh/cylinder_long.stl\n"
     ]
    }
   ],
   "source": [
    "# Save the cylinder mesh\n",
    "import os\n",
    "\n",
    "output_dir = \"data/mesh\"\n",
    "os.makedirs(output_dir, exist_ok=True)\n",
    "\n",
    "filename = f\"{output_dir}/cylinder_demo.stl\"\n",
    "cylinder.export(filename)\n",
    "print(f\"💾 Saved cylinder mesh to: {filename}\")\n",
    "\n",
    "# Also save the variations\n",
    "for name, cyl in cylinders.items():\n",
    "    filename = f\"{output_dir}/cylinder_{name.lower()}.stl\"\n",
    "    cyl.export(filename)\n",
    "    print(f\"💾 Saved {name.lower()} cylinder to: {filename}\")"
   ]
  },
  {
   "cell_type": "markdown",
   "id": "1954aed7",
   "metadata": {},
   "source": [
    "## Summary\n",
    "\n",
    "In this tutorial, you learned how to:\n",
    "\n",
    "1. **Create cylinder meshes** with custom length, radius, and resolution\n",
    "2. **Visualize cylinders in 3D** with proper aspect ratios\n",
    "3. **Explore cross-sections** using interactive slicing\n",
    "4. **Compare different parameters** and their effects on geometry\n",
    "5. **Analyze mesh properties** like volume and surface area\n",
    "6. **Save meshes** to files for later use\n",
    "\n",
    "## Next Steps\n",
    "\n",
    "- Try the **Torus Demo** (01b_torus_demo.ipynb) for ring-like structures\n",
    "- Explore **Branching Demo** (01c_branching_demo.ipynb) for Y-shaped geometries\n",
    "- Learn about **Complete Neurons** (01d_neuron_demo.ipynb) with soma, dendrites, and axon\n",
    "- Experiment with different cylinder orientations using the `axis` parameter\n",
    "- Combine multiple cylinders to create more complex structures"
   ]
  }
 ],
 "metadata": {
  "kernelspec": {
   "display_name": "gencomo",
   "language": "python",
   "name": "python3"
  },
  "language_info": {
   "codemirror_mode": {
    "name": "ipython",
    "version": 3
   },
   "file_extension": ".py",
   "mimetype": "text/x-python",
   "name": "python",
   "nbconvert_exporter": "python",
   "pygments_lexer": "ipython3",
   "version": "3.12.8"
  }
 },
 "nbformat": 4,
 "nbformat_minor": 5
}
