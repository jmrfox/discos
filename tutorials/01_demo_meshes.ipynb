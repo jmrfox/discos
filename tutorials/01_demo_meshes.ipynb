{
 "cells": [
  {
   "cell_type": "markdown",
   "id": "632aefe8",
   "metadata": {},
   "source": [
    "# GenCoMo Tutorial: Creating and Visualizing Demo Meshes\n",
    "\n",
    "This tutorial shows how to create simple neuronal mesh geometries using GenCoMo's demo functions and visualize them in 3D.\n",
    "\n",
    "## Overview\n",
    "\n",
    "We'll create three types of meshes:\n",
    "1. **Cylinder** - A simple straight neuronal process\n",
    "2. **Y-Branch** - A branching dendrite or axon\n",
    "3. **Complete Neuron** - A simplified neuron with soma, dendrites, and axon"
   ]
  },
  {
   "cell_type": "markdown",
   "id": "de4ddf07",
   "metadata": {},
   "source": [
    "## Setup\n",
    "\n",
    "First, let's import the necessary libraries:"
   ]
  },
  {
   "cell_type": "code",
   "execution_count": 1,
   "id": "07ee08de",
   "metadata": {},
   "outputs": [
    {
     "name": "stdout",
     "output_type": "stream",
     "text": [
      "Jupyter environment detected. Enabling Open3D WebVisualizer.\n",
      "[Open3D INFO] WebRTC GUI backend enabled.\n",
      "[Open3D INFO] WebRTCWindowSystem: HTTP handshake server disabled.\n",
      "✅ Libraries imported successfully!\n",
      "✅ Libraries imported successfully!\n"
     ]
    }
   ],
   "source": [
    "import numpy as np\n",
    "import trimesh\n",
    "import plotly.graph_objects as go\n",
    "\n",
    "# Import GenCoMo functions\n",
    "from gencomo.demos import create_cylinder_mesh, create_branching_mesh, create_demo_neuron_mesh\n",
    "from gencomo.mesh import visualize_mesh_3d, analyze_mesh_properties\n",
    "\n",
    "print(\"✅ Libraries imported successfully!\")"
   ]
  },
  {
   "cell_type": "markdown",
   "id": "c386a7df",
   "metadata": {},
   "source": [
    "## 1. Creating a Simple Cylinder Mesh\n",
    "\n",
    "Let's start with the simplest geometry - a cylinder representing a neuronal process like an axon or dendrite:"
   ]
  },
  {
   "cell_type": "code",
   "execution_count": 2,
   "id": "8188b584",
   "metadata": {},
   "outputs": [
    {
     "name": "stdout",
     "output_type": "stream",
     "text": [
      "Created cylinder with 34 vertices and 64 faces\n",
      "Volume: 7653.67 μm³\n",
      "Surface area: 3274.52 μm²\n"
     ]
    }
   ],
   "source": [
    "# Create a cylinder mesh\n",
    "cylinder = create_cylinder_mesh(\n",
    "    length=100.0,    # 100 micrometers long\n",
    "    radius=5.0,      # 5 micrometers radius\n",
    "    resolution=16,   # 16 sides for smooth appearance\n",
    "    axis='z'         # oriented along z-axis\n",
    ")\n",
    "\n",
    "print(f\"Created cylinder with {len(cylinder.vertices)} vertices and {len(cylinder.faces)} faces\")\n",
    "print(f\"Volume: {cylinder.volume:.2f} μm³\")\n",
    "print(f\"Surface area: {cylinder.area:.2f} μm²\")"
   ]
  },
  {
   "cell_type": "code",
   "execution_count": 3,
   "id": "b5d3ca0f",
   "metadata": {},
   "outputs": [
    {
     "data": {
      "application/vnd.plotly.v1+json": {
       "config": {
        "plotlyServerURL": "https://plot.ly"
       },
       "data": [
        {
         "color": "lightblue",
         "i": {
          "bdata": "AQECAgQEBQUGBgcHCAgJCQoKCwsMDA0NDg4PDxAQERESEhMTFBQVFRYWFxcYGBkZGhobGxwcHR0eHh8fICAhIQ==",
          "dtype": "i1"
         },
         "j": {
          "bdata": "AAQEBQAGBgcACAgJAAoKCwAMDA0ADg4PABAQEQASEhMAFBQVABYWFwAYGBkAGhobABwcHQAeHh8AICAhAAEBAg==",
          "dtype": "i1"
         },
         "k": {
          "bdata": "BAIFAwYFBwMIBwkDCgkLAwwLDQMODQ8DEA8RAxIREwMUExUDFhUXAxgXGQMaGRsDHBsdAx4dHwMgHyEDASECAw==",
          "dtype": "i1"
         },
         "name": "Mesh",
         "opacity": 0.8,
         "type": "mesh3d",
         "x": {
          "bdata": "AAAAAAAAAAAAAAAAAAAUQAAAAAAAABRAAAAAAAAAAABMmH9hQ3oSQEyYf2FDehJAwAofAMZIDEDACh8AxkgMQL1TWlBbnf4/vVNaUFud/j8Jc9m/rw+2PAlz2b+vD7Y8ulNaUFud/r+6U1pQW53+v78KHwDGSAzAvwofAMZIDMBMmH9hQ3oSwEyYf2FDehLAAAAAAAAAFMAAAAAAAAAUwEyYf2FDehLATJh/YUN6EsDCCh8AxkgMwMIKHwDGSAzAyFNaUFud/r/IU1pQW53+v0YW48/Di9C8Rhbjz8OL0LzBU1pQW53+P8FTWlBbnf4/vgofAMZIDEC+Ch8AxkgMQEqYf2FDehJASph/YUN6EkA=",
          "dtype": "f8"
         },
         "y": {
          "bdata": "AAAAAAAAAAAAAAAAAAAAAAAAAAAAAAAAAAAAAAAAAAC8U1pQW53+P7xTWlBbnf4/vwofAMZIDEC/Ch8AxkgMQEyYf2FDehJATJh/YUN6EkAAAAAAAAAUQAAAAAAAABRATJh/YUN6EkBMmH9hQ3oSQMAKHwDGSAxAwAofAMZIDEC+U1pQW53+P75TWlBbnf4/CXPZv68PxjwJc9m/rw/GPLlTWlBbnf6/uVNaUFud/r+/Ch8AxkgMwL8KHwDGSAzASph/YUN6EsBKmH9hQ3oSwAAAAAAAABTAAAAAAAAAFMBLmH9hQ3oSwEuYf2FDehLAwgofAMZIDMDCCh8AxkgMwMpTWlBbnf6/ylNaUFud/r8=",
          "dtype": "f8"
         },
         "z": {
          "bdata": "AAAAAAAAScAAAAAAAABJwAAAAAAAAElAAAAAAAAASUAAAAAAAABJwAAAAAAAAElAAAAAAAAAScAAAAAAAABJQAAAAAAAAEnAAAAAAAAASUAAAAAAAABJwAAAAAAAAElAAAAAAAAAScAAAAAAAABJQAAAAAAAAEnAAAAAAAAASUAAAAAAAABJwAAAAAAAAElAAAAAAAAAScAAAAAAAABJQAAAAAAAAEnAAAAAAAAASUAAAAAAAABJwAAAAAAAAElAAAAAAAAAScAAAAAAAABJQAAAAAAAAEnAAAAAAAAASUAAAAAAAABJwAAAAAAAAElAAAAAAAAAScAAAAAAAABJQAAAAAAAAEnAAAAAAAAASUA=",
          "dtype": "f8"
         }
        }
       ],
       "layout": {
        "scene": {
         "aspectmode": "data",
         "xaxis": {
          "title": {
           "text": "X (µm)"
          }
         },
         "yaxis": {
          "title": {
           "text": "Y (µm)"
          }
         },
         "zaxis": {
          "title": {
           "text": "Z (µm)"
          }
         }
        },
        "template": {
         "data": {
          "bar": [
           {
            "error_x": {
             "color": "#2a3f5f"
            },
            "error_y": {
             "color": "#2a3f5f"
            },
            "marker": {
             "line": {
              "color": "#E5ECF6",
              "width": 0.5
             },
             "pattern": {
              "fillmode": "overlay",
              "size": 10,
              "solidity": 0.2
             }
            },
            "type": "bar"
           }
          ],
          "barpolar": [
           {
            "marker": {
             "line": {
              "color": "#E5ECF6",
              "width": 0.5
             },
             "pattern": {
              "fillmode": "overlay",
              "size": 10,
              "solidity": 0.2
             }
            },
            "type": "barpolar"
           }
          ],
          "carpet": [
           {
            "aaxis": {
             "endlinecolor": "#2a3f5f",
             "gridcolor": "white",
             "linecolor": "white",
             "minorgridcolor": "white",
             "startlinecolor": "#2a3f5f"
            },
            "baxis": {
             "endlinecolor": "#2a3f5f",
             "gridcolor": "white",
             "linecolor": "white",
             "minorgridcolor": "white",
             "startlinecolor": "#2a3f5f"
            },
            "type": "carpet"
           }
          ],
          "choropleth": [
           {
            "colorbar": {
             "outlinewidth": 0,
             "ticks": ""
            },
            "type": "choropleth"
           }
          ],
          "contour": [
           {
            "colorbar": {
             "outlinewidth": 0,
             "ticks": ""
            },
            "colorscale": [
             [
              0,
              "#0d0887"
             ],
             [
              0.1111111111111111,
              "#46039f"
             ],
             [
              0.2222222222222222,
              "#7201a8"
             ],
             [
              0.3333333333333333,
              "#9c179e"
             ],
             [
              0.4444444444444444,
              "#bd3786"
             ],
             [
              0.5555555555555556,
              "#d8576b"
             ],
             [
              0.6666666666666666,
              "#ed7953"
             ],
             [
              0.7777777777777778,
              "#fb9f3a"
             ],
             [
              0.8888888888888888,
              "#fdca26"
             ],
             [
              1,
              "#f0f921"
             ]
            ],
            "type": "contour"
           }
          ],
          "contourcarpet": [
           {
            "colorbar": {
             "outlinewidth": 0,
             "ticks": ""
            },
            "type": "contourcarpet"
           }
          ],
          "heatmap": [
           {
            "colorbar": {
             "outlinewidth": 0,
             "ticks": ""
            },
            "colorscale": [
             [
              0,
              "#0d0887"
             ],
             [
              0.1111111111111111,
              "#46039f"
             ],
             [
              0.2222222222222222,
              "#7201a8"
             ],
             [
              0.3333333333333333,
              "#9c179e"
             ],
             [
              0.4444444444444444,
              "#bd3786"
             ],
             [
              0.5555555555555556,
              "#d8576b"
             ],
             [
              0.6666666666666666,
              "#ed7953"
             ],
             [
              0.7777777777777778,
              "#fb9f3a"
             ],
             [
              0.8888888888888888,
              "#fdca26"
             ],
             [
              1,
              "#f0f921"
             ]
            ],
            "type": "heatmap"
           }
          ],
          "histogram": [
           {
            "marker": {
             "pattern": {
              "fillmode": "overlay",
              "size": 10,
              "solidity": 0.2
             }
            },
            "type": "histogram"
           }
          ],
          "histogram2d": [
           {
            "colorbar": {
             "outlinewidth": 0,
             "ticks": ""
            },
            "colorscale": [
             [
              0,
              "#0d0887"
             ],
             [
              0.1111111111111111,
              "#46039f"
             ],
             [
              0.2222222222222222,
              "#7201a8"
             ],
             [
              0.3333333333333333,
              "#9c179e"
             ],
             [
              0.4444444444444444,
              "#bd3786"
             ],
             [
              0.5555555555555556,
              "#d8576b"
             ],
             [
              0.6666666666666666,
              "#ed7953"
             ],
             [
              0.7777777777777778,
              "#fb9f3a"
             ],
             [
              0.8888888888888888,
              "#fdca26"
             ],
             [
              1,
              "#f0f921"
             ]
            ],
            "type": "histogram2d"
           }
          ],
          "histogram2dcontour": [
           {
            "colorbar": {
             "outlinewidth": 0,
             "ticks": ""
            },
            "colorscale": [
             [
              0,
              "#0d0887"
             ],
             [
              0.1111111111111111,
              "#46039f"
             ],
             [
              0.2222222222222222,
              "#7201a8"
             ],
             [
              0.3333333333333333,
              "#9c179e"
             ],
             [
              0.4444444444444444,
              "#bd3786"
             ],
             [
              0.5555555555555556,
              "#d8576b"
             ],
             [
              0.6666666666666666,
              "#ed7953"
             ],
             [
              0.7777777777777778,
              "#fb9f3a"
             ],
             [
              0.8888888888888888,
              "#fdca26"
             ],
             [
              1,
              "#f0f921"
             ]
            ],
            "type": "histogram2dcontour"
           }
          ],
          "mesh3d": [
           {
            "colorbar": {
             "outlinewidth": 0,
             "ticks": ""
            },
            "type": "mesh3d"
           }
          ],
          "parcoords": [
           {
            "line": {
             "colorbar": {
              "outlinewidth": 0,
              "ticks": ""
             }
            },
            "type": "parcoords"
           }
          ],
          "pie": [
           {
            "automargin": true,
            "type": "pie"
           }
          ],
          "scatter": [
           {
            "fillpattern": {
             "fillmode": "overlay",
             "size": 10,
             "solidity": 0.2
            },
            "type": "scatter"
           }
          ],
          "scatter3d": [
           {
            "line": {
             "colorbar": {
              "outlinewidth": 0,
              "ticks": ""
             }
            },
            "marker": {
             "colorbar": {
              "outlinewidth": 0,
              "ticks": ""
             }
            },
            "type": "scatter3d"
           }
          ],
          "scattercarpet": [
           {
            "marker": {
             "colorbar": {
              "outlinewidth": 0,
              "ticks": ""
             }
            },
            "type": "scattercarpet"
           }
          ],
          "scattergeo": [
           {
            "marker": {
             "colorbar": {
              "outlinewidth": 0,
              "ticks": ""
             }
            },
            "type": "scattergeo"
           }
          ],
          "scattergl": [
           {
            "marker": {
             "colorbar": {
              "outlinewidth": 0,
              "ticks": ""
             }
            },
            "type": "scattergl"
           }
          ],
          "scattermap": [
           {
            "marker": {
             "colorbar": {
              "outlinewidth": 0,
              "ticks": ""
             }
            },
            "type": "scattermap"
           }
          ],
          "scattermapbox": [
           {
            "marker": {
             "colorbar": {
              "outlinewidth": 0,
              "ticks": ""
             }
            },
            "type": "scattermapbox"
           }
          ],
          "scatterpolar": [
           {
            "marker": {
             "colorbar": {
              "outlinewidth": 0,
              "ticks": ""
             }
            },
            "type": "scatterpolar"
           }
          ],
          "scatterpolargl": [
           {
            "marker": {
             "colorbar": {
              "outlinewidth": 0,
              "ticks": ""
             }
            },
            "type": "scatterpolargl"
           }
          ],
          "scatterternary": [
           {
            "marker": {
             "colorbar": {
              "outlinewidth": 0,
              "ticks": ""
             }
            },
            "type": "scatterternary"
           }
          ],
          "surface": [
           {
            "colorbar": {
             "outlinewidth": 0,
             "ticks": ""
            },
            "colorscale": [
             [
              0,
              "#0d0887"
             ],
             [
              0.1111111111111111,
              "#46039f"
             ],
             [
              0.2222222222222222,
              "#7201a8"
             ],
             [
              0.3333333333333333,
              "#9c179e"
             ],
             [
              0.4444444444444444,
              "#bd3786"
             ],
             [
              0.5555555555555556,
              "#d8576b"
             ],
             [
              0.6666666666666666,
              "#ed7953"
             ],
             [
              0.7777777777777778,
              "#fb9f3a"
             ],
             [
              0.8888888888888888,
              "#fdca26"
             ],
             [
              1,
              "#f0f921"
             ]
            ],
            "type": "surface"
           }
          ],
          "table": [
           {
            "cells": {
             "fill": {
              "color": "#EBF0F8"
             },
             "line": {
              "color": "white"
             }
            },
            "header": {
             "fill": {
              "color": "#C8D4E3"
             },
             "line": {
              "color": "white"
             }
            },
            "type": "table"
           }
          ]
         },
         "layout": {
          "annotationdefaults": {
           "arrowcolor": "#2a3f5f",
           "arrowhead": 0,
           "arrowwidth": 1
          },
          "autotypenumbers": "strict",
          "coloraxis": {
           "colorbar": {
            "outlinewidth": 0,
            "ticks": ""
           }
          },
          "colorscale": {
           "diverging": [
            [
             0,
             "#8e0152"
            ],
            [
             0.1,
             "#c51b7d"
            ],
            [
             0.2,
             "#de77ae"
            ],
            [
             0.3,
             "#f1b6da"
            ],
            [
             0.4,
             "#fde0ef"
            ],
            [
             0.5,
             "#f7f7f7"
            ],
            [
             0.6,
             "#e6f5d0"
            ],
            [
             0.7,
             "#b8e186"
            ],
            [
             0.8,
             "#7fbc41"
            ],
            [
             0.9,
             "#4d9221"
            ],
            [
             1,
             "#276419"
            ]
           ],
           "sequential": [
            [
             0,
             "#0d0887"
            ],
            [
             0.1111111111111111,
             "#46039f"
            ],
            [
             0.2222222222222222,
             "#7201a8"
            ],
            [
             0.3333333333333333,
             "#9c179e"
            ],
            [
             0.4444444444444444,
             "#bd3786"
            ],
            [
             0.5555555555555556,
             "#d8576b"
            ],
            [
             0.6666666666666666,
             "#ed7953"
            ],
            [
             0.7777777777777778,
             "#fb9f3a"
            ],
            [
             0.8888888888888888,
             "#fdca26"
            ],
            [
             1,
             "#f0f921"
            ]
           ],
           "sequentialminus": [
            [
             0,
             "#0d0887"
            ],
            [
             0.1111111111111111,
             "#46039f"
            ],
            [
             0.2222222222222222,
             "#7201a8"
            ],
            [
             0.3333333333333333,
             "#9c179e"
            ],
            [
             0.4444444444444444,
             "#bd3786"
            ],
            [
             0.5555555555555556,
             "#d8576b"
            ],
            [
             0.6666666666666666,
             "#ed7953"
            ],
            [
             0.7777777777777778,
             "#fb9f3a"
            ],
            [
             0.8888888888888888,
             "#fdca26"
            ],
            [
             1,
             "#f0f921"
            ]
           ]
          },
          "colorway": [
           "#636efa",
           "#EF553B",
           "#00cc96",
           "#ab63fa",
           "#FFA15A",
           "#19d3f3",
           "#FF6692",
           "#B6E880",
           "#FF97FF",
           "#FECB52"
          ],
          "font": {
           "color": "#2a3f5f"
          },
          "geo": {
           "bgcolor": "white",
           "lakecolor": "white",
           "landcolor": "#E5ECF6",
           "showlakes": true,
           "showland": true,
           "subunitcolor": "white"
          },
          "hoverlabel": {
           "align": "left"
          },
          "hovermode": "closest",
          "mapbox": {
           "style": "light"
          },
          "paper_bgcolor": "white",
          "plot_bgcolor": "#E5ECF6",
          "polar": {
           "angularaxis": {
            "gridcolor": "white",
            "linecolor": "white",
            "ticks": ""
           },
           "bgcolor": "#E5ECF6",
           "radialaxis": {
            "gridcolor": "white",
            "linecolor": "white",
            "ticks": ""
           }
          },
          "scene": {
           "xaxis": {
            "backgroundcolor": "#E5ECF6",
            "gridcolor": "white",
            "gridwidth": 2,
            "linecolor": "white",
            "showbackground": true,
            "ticks": "",
            "zerolinecolor": "white"
           },
           "yaxis": {
            "backgroundcolor": "#E5ECF6",
            "gridcolor": "white",
            "gridwidth": 2,
            "linecolor": "white",
            "showbackground": true,
            "ticks": "",
            "zerolinecolor": "white"
           },
           "zaxis": {
            "backgroundcolor": "#E5ECF6",
            "gridcolor": "white",
            "gridwidth": 2,
            "linecolor": "white",
            "showbackground": true,
            "ticks": "",
            "zerolinecolor": "white"
           }
          },
          "shapedefaults": {
           "line": {
            "color": "#2a3f5f"
           }
          },
          "ternary": {
           "aaxis": {
            "gridcolor": "white",
            "linecolor": "white",
            "ticks": ""
           },
           "baxis": {
            "gridcolor": "white",
            "linecolor": "white",
            "ticks": ""
           },
           "bgcolor": "#E5ECF6",
           "caxis": {
            "gridcolor": "white",
            "linecolor": "white",
            "ticks": ""
           }
          },
          "title": {
           "x": 0.05
          },
          "xaxis": {
           "automargin": true,
           "gridcolor": "white",
           "linecolor": "white",
           "ticks": "",
           "title": {
            "standoff": 15
           },
           "zerolinecolor": "white",
           "zerolinewidth": 2
          },
          "yaxis": {
           "automargin": true,
           "gridcolor": "white",
           "linecolor": "white",
           "ticks": "",
           "title": {
            "standoff": 15
           },
           "zerolinecolor": "white",
           "zerolinewidth": 2
          }
         }
        },
        "title": {
         "text": "Simple Cylinder Mesh"
        }
       }
      }
     },
     "metadata": {},
     "output_type": "display_data"
    }
   ],
   "source": [
    "# Visualize the cylinder\n",
    "fig = visualize_mesh_3d(\n",
    "    cylinder, \n",
    "    title=\"Simple Cylinder Mesh\",\n",
    "    color=\"lightblue\",\n",
    "    backend=\"plotly\"\n",
    ")\n",
    "fig.show()"
   ]
  },
  {
   "cell_type": "markdown",
   "id": "0d2da767",
   "metadata": {},
   "source": [
    "## 2. Creating a Branching Structure\n",
    "\n",
    "Now let's create a more complex structure with branching, like a dendritic tree:"
   ]
  },
  {
   "cell_type": "code",
   "execution_count": 4,
   "id": "3b2bb65e",
   "metadata": {},
   "outputs": [
    {
     "name": "stdout",
     "output_type": "stream",
     "text": [
      "Created Y-branch with 180 vertices and 112 faces\n",
      "Volume: 6536.47 μm³\n",
      "Surface area: 3584.82 μm²\n"
     ]
    },
    {
     "name": "stderr",
     "output_type": "stream",
     "text": [
      "/home/jordan/github/gencomo/gencomo/demos.py:162: UserWarning:\n",
      "\n",
      "Union operation failed: No boolean backend: `pip install manifold3d` or install `blender`, using concatenation\n",
      "\n"
     ]
    }
   ],
   "source": [
    "# Create a Y-shaped branching structure\n",
    "y_branch = create_branching_mesh(\n",
    "    trunk_length=60.0,     # Main trunk 60 μm long\n",
    "    trunk_radius=5.0,      # Main trunk 5 μm radius\n",
    "    branch_length=40.0,    # Each branch 40 μm long\n",
    "    branch_radius=3.0,     # Each branch 3 μm radius\n",
    "    branch_angle=45.0,     # Branches at 45° angle\n",
    "    num_branches=2,        # Two branches (Y-shape)\n",
    "    smooth_junctions=True  # Smooth the connection points\n",
    ")\n",
    "\n",
    "print(f\"Created Y-branch with {len(y_branch.vertices)} vertices and {len(y_branch.faces)} faces\")\n",
    "print(f\"Volume: {y_branch.volume:.2f} μm³\")\n",
    "print(f\"Surface area: {y_branch.area:.2f} μm²\")"
   ]
  },
  {
   "cell_type": "code",
   "execution_count": 5,
   "id": "a302c757",
   "metadata": {},
   "outputs": [
    {
     "data": {
      "application/vnd.plotly.v1+json": {
       "config": {
        "plotlyServerURL": "https://plot.ly"
       },
       "data": [
        {
         "color": "lightgreen",
         "i": {
          "bdata": "AQACAAQAAwAHAAgABgAFAAsADAAKAAkADgANABkAGAAXABYAHQAcABUAFAARABMAGgAbAB4AHwAiACMAJwAmACsAKgAuAC8AMgAzADcANgA6ADsAPwA+AEMAQgBIAEkASwBMAE4ATQBRAFAAVABWAFgAVwBaAFkAWwBcAF4AXQBhAGIAZgBlAG0AbgBsAGsAbwBwAHQAcwB4AHcAfQB+AIAAggCEAIMAhgCFAIkAiwCNAIwAjwCOAJAAkQCTAJIAlgCXAJwAmwCiAKMAoQCgAKQApQCpAKgArQCsALIAswA=",
          "dtype": "i2"
         },
         "j": {
          "bdata": "AAAAAAAAAAAAAAAAAAAAAAAAAAAAAAAADwAPABoAGQAYABcAEQAdABYAFQATABQAGwAcACAAIAAkACQAKAAoACwALAAwADAANAA0ADgAOAA8ADwAQABAAEQARABGAEYASgBKAEoASgBSAFIAVgBXAFkAWABbAFoAXABUAF8AXwBjAGMAZwBnAGkAaQBpAGkAcQBxAHUAdQB5AHkAewB7AH8AfwB/AH8AhwCHAIsAjACOAI0AkACPAJEAiQCUAJQAmACYAJoAmgCeAJ4AngCeAKYApgCqAKoArgCuALAAsAA=",
          "dtype": "i2"
         },
         "k": {
          "bdata": "AgADAAUABAAIAAkABwAGAAwAAQALAAoAEAAOABIAEgASABIAEgASABIAEgASABIAEgASAB8AIQAjACUAKQAnAC0AKwAvADEAMwA1ADkANwA7AD0AQQA/AEUAQwBJAEcATABNAE8ATgBTAFEAVQBVAFUAVQBVAFUAVQBVAGAAXgBiAGQAaABmAG4AagBtAGwAcAByAHYAdAB6AHgAfgB8AIIAgwCBAIQAiACGAIoAigCKAIoAigCKAIoAigCVAJMAlwCZAJ0AnACjAJ8AogChAKUApwCrAKkArwCtALMAsQA=",
          "dtype": "i2"
         },
         "name": "Mesh",
         "opacity": 0.8,
         "type": "mesh3d",
         "x": {
          "bdata": "AAAAAAAAAAAAAAAAAAAUQOsvN9EMUhFAAQAAAAAABEAJc9m/rw+2PP7//////wPA6i830QxSEcAAAAAAAAAUwOwvN9EMUhHABQAAAAAABMBGFuPPw4vQvPj//////wNA6S830QxSEUAAAAAAAAAUQAAAAAAAABRA6y830QxSEUDrLzfRDFIRQAAAAAAAABRAAAAAAAAAAADrLzfRDFIRQAEAAAAAAARACXPZv68Ptjz+//////8DwOovN9EMUhHAAAAAAAAAFMDsLzfRDFIRwAUAAAAAAATARhbjz8OL0Lz4//////8DQOkvN9EMUhFA6y830QxSEUDrLzfRDFIRQAEAAAAAAARAAQAAAAAABEABAAAAAAAEQAEAAAAAAARACXPZv68PtjwJc9m/rw+2PAlz2b+vD7Y8CXPZv68Ptjz+//////8DwP7//////wPA/v//////A8D+//////8DwOovN9EMUhHA6i830QxSEcDqLzfRDFIRwOovN9EMUhHAAAAAAAAAFMAAAAAAAAAUwAAAAAAAABTAAAAAAAAAFMDsLzfRDFIRwOwvN9EMUhHA7C830QxSEcDsLzfRDFIRwAUAAAAAAATABQAAAAAABMAFAAAAAAAEwAUAAAAAAATARhbjz8OL0LxGFuPPw4vQvEYW48/Di9C8Rhbjz8OL0Lz4//////8DQPj//////wNA+P//////A0D4//////8DQOkvN9EMUhFA6S830QxSEUAAAAAAAAAUQAAAAAAAABRA6S830QxSEUDpLzfRDFIRQAAAAAAAAAAAAAAAAAAACEDabN/MdvgAQAqKnkw5eao82WzfzHb4AMAAAAAAAAAIwAAAAAAAAAhAAAAAAAAACEDabN/MdvgAQNps38x2+ABAAAAAAAAACEAAAAAAAAAAANps38x2+ABACoqeTDl5qjzZbN/MdvgAwAAAAAAAAAjA2mzfzHb4AMCI53b56trDvNhs38x2+ABA2mzfzHb4AEDabN/MdvgAQAqKnkw5eao8CoqeTDl5qjwKip5MOXmqPAqKnkw5eao82WzfzHb4AMDZbN/MdvgAwNls38x2+ADA2WzfzHb4AMAAAAAAAAAIwAAAAAAAAAjAAAAAAAAAAAAAAAAAAAAIQAAAAAAAAAjA2mzfzHb4AMCI53b56trDvNhs38x2+ABAAAAAAAAACMAAAAAAAAAIwNps38x2+ADA2mzfzHb4AMDabN/MdvgAwNps38x2+ADAiOd2+eraw7yI53b56trDvIjndvnq2sO8iOd2+eraw7zYbN/MdvgAQNhs38x2+ABAAAAAAAAACEAAAAAAAAAIQNhs38x2+ABA2GzfzHb4AEAAAAAAAAAAAAAAAAAAAAhAAAAAAAAACMDabN/MdvgAQHCYzaBv7pU82WzfzHb4AMAAAAAAAAAIQAgAAAAAAAhA2mzfzHb4AEDibN/MdvgAQAgAAAAAAAhAinKE7Qgz7zzibN/MdvgAQE7fimp84u880WzfzHb4AMD4//////8HwNJs38x2+ADAhjTqRm406zzgbN/MdvgAQNps38x2+ABA4mzfzHb4AEBwmM2gb+6VPE7fimp84u88cJjNoG/ulTxO34pqfOLvPNls38x2+ADA0WzfzHb4AMAAAAAAAAAIwNls38x2+ADA0WzfzHb4AMD4//////8HwAAAAAAAAAAAAAAAAAAACEAAAAAAAAAIwNps38x2+ADAKPDRNNX0v7zYbN/MdvgAQAAAAAAAAAjA+P//////B8DabN/MdvgAwNJs38x2+ADA2mzfzHb4AMDSbN/MdvgAwCjw0TTV9L+8hjTqRm406zwo8NE01fS/vIY06kZuNOs82GzfzHb4AEDgbN/MdvgAQAAAAAAAAAhACAAAAAAACEDYbN/MdvgAQOBs38x2+ABA",
          "dtype": "f8"
         },
         "y": {
          "bdata": "AAAAAAAAAAAAAAAAAAAAAP///////wNA6i830QxSEUAAAAAAAAAUQOsvN9EMUhFABAAAAAAABEAJc9m/rw/GPP3//////wPA6S830QxSEcAAAAAAAAAUwO0vN9EMUhHABQAAAAAABMAAAAAAAAAAAAAAAAAAAAAA////////A0D///////8DQAAAAAAAAAAAAAAAAAAAAAD///////8DQOovN9EMUhFAAAAAAAAAFEDrLzfRDFIRQAQAAAAAAARACXPZv68Pxjz9//////8DwOkvN9EMUhHAAAAAAAAAFMDtLzfRDFIRwAUAAAAAAATA////////A0D///////8DQOovN9EMUhFA6i830QxSEUDqLzfRDFIRQOovN9EMUhFAAAAAAAAAFEAAAAAAAAAUQAAAAAAAABRAAAAAAAAAFEDrLzfRDFIRQOsvN9EMUhFA6y830QxSEUDrLzfRDFIRQAQAAAAAAARABAAAAAAABEAEAAAAAAAEQAQAAAAAAARACXPZv68PxjwJc9m/rw/GPAlz2b+vD8Y8CXPZv68Pxjz9//////8DwP3//////wPA/f//////A8D9//////8DwOkvN9EMUhHA6S830QxSEcDpLzfRDFIRwOkvN9EMUhHAAAAAAAAAFMAAAAAAAAAUwAAAAAAAABTAAAAAAAAAFMDtLzfRDFIRwO0vN9EMUhHA7S830QxSEcDtLzfRDFIRwAUAAAAAAATABQAAAAAABMAAAAAAAAAAAAAAAAAAAAAABQAAAAAABMAFAAAAAAAEwAAAAAAAAAAAAAAAAAAAAAAAAAAAAAD4P9xs38x2+ABAAAAAAAAA+D8AAAAAAAAAAAAAAAAAAAAAvwofAMZIPMAAAAAAAAD4P78KHwDGyDrAvwofAMZIPMC/Ch8Axkg8wL8KHwDGyDrAJB2DJrcpOsC/Ch8Axsg6wL8KHwDGSDzAvwofAMbIPcBa+LrZ1Gc+wL8KHwDGyD3AAAAAAAAA+D+/Ch8Axsg6wNxs38x2+ABAJB2DJrcpOsDcbN/MdvgAQCQdgya3KTrAAAAAAAAA+D+/Ch8Axsg6wAAAAAAAAPg/vwofAMbIOsAAAAAAAAAAAL8KHwDGSDzAAAAAAAAAAAAAAAAAAAAAAAAAAAAAAAAAAAAAAAAA+L/cbN/MdvgAwAAAAAAAAPi/AAAAAAAAAAC/Ch8Axkg8wAAAAAAAAPi/vwofAMbIPcAAAAAAAAD4v78KHwDGyD3A3GzfzHb4AMBa+LrZ1Gc+wNxs38x2+ADAWvi62dRnPsAAAAAAAAD4v78KHwDGyD3AAAAAAAAAAAC/Ch8Axkg8wAAAAAAAAPi/vwofAMbIPcAAAAAAAAAAAAAAAAAAAAAAAAAAAAAAAAAAAAAAAAD4P9xs38x2+ABAAAAAAAAA+D8AAAAAAAAAAL8KHwDGSDxAAAAAAAAA+D+/Ch8Axsg9QL8KHwDGSDxAvwofAMZIPEC/Ch8Axsg9QFr4utnUZz5AvwofAMbIPUC/Ch8Axkg8QL8KHwDGyDpAJB2DJrcpOkC/Ch8Axsg6QAAAAAAAAPg/vwofAMbIPUDcbN/MdvgAQFr4utnUZz5A3GzfzHb4AEBa+LrZ1Gc+QAAAAAAAAPg/vwofAMbIPUAAAAAAAAAAAAAAAAAAAPg/vwofAMbIPUC/Ch8Axkg8QAAAAAAAAAAAAAAAAAAAAAAAAAAAAAAAAAAAAAAAAPi/3GzfzHb4AMAAAAAAAAD4vwAAAAAAAAAAvwofAMZIPEAAAAAAAAD4v78KHwDGyDpAAAAAAAAA+L+/Ch8Axsg6QNxs38x2+ADAJB2DJrcpOkDcbN/MdvgAwCQdgya3KTpAAAAAAAAA+L+/Ch8Axsg6QAAAAAAAAAAAvwofAMZIPEAAAAAAAAD4v78KHwDGyDpA",
          "dtype": "f8"
         },
         "z": {
          "bdata": "AAAAAAAAAAAAAAAAAAAAAAAAAAAAAAAAAAAAAAAAAAAAAAAAAAAAAAAAAAAAAAAAAAAAAAAAAAAAAAAAAAAAAAAAAAAAAAAAAAAAAAAAAAAAAAAAAAAAAAAAAAAAAAAAAAAAAAAAAAAAAAAAAAAAAAAAAAAAAE5AAAAAAAAAAAAAAAAAAABOQAAAAAAAAE5AAAAAAAAATkAAAAAAAABOQAAAAAAAAE5AAAAAAAAATkAAAAAAAABOQAAAAAAAAE5AAAAAAAAATkAAAAAAAABOQAAAAAAAAE5AAAAAAAAATkAAAAAAAABOQAAAAAAAAE5AAAAAAAAAAAAAAAAAAABOQAAAAAAAAAAAAAAAAAAATkAAAAAAAAAAAAAAAAAAAE5AAAAAAAAAAAAAAAAAAABOQAAAAAAAAAAAAAAAAAAATkAAAAAAAAAAAAAAAAAAAE5AAAAAAAAAAAAAAAAAAABOQAAAAAAAAAAAAAAAAAAATkAAAAAAAAAAAAAAAAAAAE5AAAAAAAAAAAAAAAAAAABOQAAAAAAAAAAAAAAAAAAATkAAAAAAAAAAAAAAAAAAAE5AAAAAAAAAAAAAAAAAAABOQAAAAAAAAAAAAAAAAAAATkAAAAAAAAAAAAAAAAAAAE5AAAAAAAAAAAAAAAAAAABOQAAAAAAAAAAAAAAAAAAATkAAAAAAAAAAAAAAAAAAAE5AAAAAAAAAAAAAAAAAAABOQAAAAAAAAAAAAAAAAAAATkAAAAAAAAAAAAAAAAAAAE5AAAAAAAAAAAAAAAAAAABOQAAAAAAAAE5AAAAAAAAATkAAAAAAAMBOQM72zWyHD09AAAAAAADATkAAAAAAAABOQAAAAAAAAE5AsMIHgDESVkAAAAAAAMBOQLDCB4AxclZAsMIHgDESVkCwwgeAMRJWQLDCB4AxclZAF75uNvWZVkCwwgeAMXJWQLDCB4AxElZAsMIHgDGyVUBJx6DJbYpVQLDCB4AxslVAAAAAAADATkCwwgeAMXJWQM72zWyHD09AF75uNvWZVkDO9s1shw9PQBe+bjb1mVZAAAAAAADATkCwwgeAMXJWQAAAAAAAwE5AsMIHgDFyVkAAAAAAAABOQLDCB4AxElZAAAAAAAAATkAAAAAAAABOQAAAAAAAAE5AAAAAAABATUAyCTKTePBMQAAAAAAAQE1AAAAAAAAATkCwwgeAMRJWQAAAAAAAQE1AsMIHgDGyVUAAAAAAAEBNQLDCB4AxslVAMgkyk3jwTEBJx6DJbYpVQDIJMpN48ExAScegyW2KVUAAAAAAAEBNQLDCB4AxslVAAAAAAAAATkCwwgeAMRJWQAAAAAAAQE1AsMIHgDGyVUAAAAAAAABOQAAAAAAAAE5AAAAAAAAATkAAAAAAAEBNQDIJMpN48ExAAAAAAABATUAAAAAAAABOQLDCB4AxElZAAAAAAABATUCwwgeAMbJVQLDCB4AxElZAsMIHgDESVkCwwgeAMbJVQEnHoMltilVAsMIHgDGyVUCwwgeAMRJWQLDCB4AxclZAF75uNvWZVkCwwgeAMXJWQAAAAAAAQE1AsMIHgDGyVUAyCTKTePBMQEnHoMltilVAMgkyk3jwTEBJx6DJbYpVQAAAAAAAQE1AsMIHgDGyVUAAAAAAAABOQAAAAAAAQE1AsMIHgDGyVUCwwgeAMRJWQAAAAAAAAE5AAAAAAAAATkAAAAAAAABOQAAAAAAAwE5AzvbNbIcPT0AAAAAAAMBOQAAAAAAAAE5AsMIHgDESVkAAAAAAAMBOQLDCB4AxclZAAAAAAADATkCwwgeAMXJWQM72zWyHD09AF75uNvWZVkDO9s1shw9PQBe+bjb1mVZAAAAAAADATkCwwgeAMXJWQAAAAAAAAE5AsMIHgDESVkAAAAAAAMBOQLDCB4AxclZA",
          "dtype": "f8"
         }
        }
       ],
       "layout": {
        "scene": {
         "aspectmode": "data",
         "xaxis": {
          "title": {
           "text": "X (µm)"
          }
         },
         "yaxis": {
          "title": {
           "text": "Y (µm)"
          }
         },
         "zaxis": {
          "title": {
           "text": "Z (µm)"
          }
         }
        },
        "template": {
         "data": {
          "bar": [
           {
            "error_x": {
             "color": "#2a3f5f"
            },
            "error_y": {
             "color": "#2a3f5f"
            },
            "marker": {
             "line": {
              "color": "#E5ECF6",
              "width": 0.5
             },
             "pattern": {
              "fillmode": "overlay",
              "size": 10,
              "solidity": 0.2
             }
            },
            "type": "bar"
           }
          ],
          "barpolar": [
           {
            "marker": {
             "line": {
              "color": "#E5ECF6",
              "width": 0.5
             },
             "pattern": {
              "fillmode": "overlay",
              "size": 10,
              "solidity": 0.2
             }
            },
            "type": "barpolar"
           }
          ],
          "carpet": [
           {
            "aaxis": {
             "endlinecolor": "#2a3f5f",
             "gridcolor": "white",
             "linecolor": "white",
             "minorgridcolor": "white",
             "startlinecolor": "#2a3f5f"
            },
            "baxis": {
             "endlinecolor": "#2a3f5f",
             "gridcolor": "white",
             "linecolor": "white",
             "minorgridcolor": "white",
             "startlinecolor": "#2a3f5f"
            },
            "type": "carpet"
           }
          ],
          "choropleth": [
           {
            "colorbar": {
             "outlinewidth": 0,
             "ticks": ""
            },
            "type": "choropleth"
           }
          ],
          "contour": [
           {
            "colorbar": {
             "outlinewidth": 0,
             "ticks": ""
            },
            "colorscale": [
             [
              0,
              "#0d0887"
             ],
             [
              0.1111111111111111,
              "#46039f"
             ],
             [
              0.2222222222222222,
              "#7201a8"
             ],
             [
              0.3333333333333333,
              "#9c179e"
             ],
             [
              0.4444444444444444,
              "#bd3786"
             ],
             [
              0.5555555555555556,
              "#d8576b"
             ],
             [
              0.6666666666666666,
              "#ed7953"
             ],
             [
              0.7777777777777778,
              "#fb9f3a"
             ],
             [
              0.8888888888888888,
              "#fdca26"
             ],
             [
              1,
              "#f0f921"
             ]
            ],
            "type": "contour"
           }
          ],
          "contourcarpet": [
           {
            "colorbar": {
             "outlinewidth": 0,
             "ticks": ""
            },
            "type": "contourcarpet"
           }
          ],
          "heatmap": [
           {
            "colorbar": {
             "outlinewidth": 0,
             "ticks": ""
            },
            "colorscale": [
             [
              0,
              "#0d0887"
             ],
             [
              0.1111111111111111,
              "#46039f"
             ],
             [
              0.2222222222222222,
              "#7201a8"
             ],
             [
              0.3333333333333333,
              "#9c179e"
             ],
             [
              0.4444444444444444,
              "#bd3786"
             ],
             [
              0.5555555555555556,
              "#d8576b"
             ],
             [
              0.6666666666666666,
              "#ed7953"
             ],
             [
              0.7777777777777778,
              "#fb9f3a"
             ],
             [
              0.8888888888888888,
              "#fdca26"
             ],
             [
              1,
              "#f0f921"
             ]
            ],
            "type": "heatmap"
           }
          ],
          "histogram": [
           {
            "marker": {
             "pattern": {
              "fillmode": "overlay",
              "size": 10,
              "solidity": 0.2
             }
            },
            "type": "histogram"
           }
          ],
          "histogram2d": [
           {
            "colorbar": {
             "outlinewidth": 0,
             "ticks": ""
            },
            "colorscale": [
             [
              0,
              "#0d0887"
             ],
             [
              0.1111111111111111,
              "#46039f"
             ],
             [
              0.2222222222222222,
              "#7201a8"
             ],
             [
              0.3333333333333333,
              "#9c179e"
             ],
             [
              0.4444444444444444,
              "#bd3786"
             ],
             [
              0.5555555555555556,
              "#d8576b"
             ],
             [
              0.6666666666666666,
              "#ed7953"
             ],
             [
              0.7777777777777778,
              "#fb9f3a"
             ],
             [
              0.8888888888888888,
              "#fdca26"
             ],
             [
              1,
              "#f0f921"
             ]
            ],
            "type": "histogram2d"
           }
          ],
          "histogram2dcontour": [
           {
            "colorbar": {
             "outlinewidth": 0,
             "ticks": ""
            },
            "colorscale": [
             [
              0,
              "#0d0887"
             ],
             [
              0.1111111111111111,
              "#46039f"
             ],
             [
              0.2222222222222222,
              "#7201a8"
             ],
             [
              0.3333333333333333,
              "#9c179e"
             ],
             [
              0.4444444444444444,
              "#bd3786"
             ],
             [
              0.5555555555555556,
              "#d8576b"
             ],
             [
              0.6666666666666666,
              "#ed7953"
             ],
             [
              0.7777777777777778,
              "#fb9f3a"
             ],
             [
              0.8888888888888888,
              "#fdca26"
             ],
             [
              1,
              "#f0f921"
             ]
            ],
            "type": "histogram2dcontour"
           }
          ],
          "mesh3d": [
           {
            "colorbar": {
             "outlinewidth": 0,
             "ticks": ""
            },
            "type": "mesh3d"
           }
          ],
          "parcoords": [
           {
            "line": {
             "colorbar": {
              "outlinewidth": 0,
              "ticks": ""
             }
            },
            "type": "parcoords"
           }
          ],
          "pie": [
           {
            "automargin": true,
            "type": "pie"
           }
          ],
          "scatter": [
           {
            "fillpattern": {
             "fillmode": "overlay",
             "size": 10,
             "solidity": 0.2
            },
            "type": "scatter"
           }
          ],
          "scatter3d": [
           {
            "line": {
             "colorbar": {
              "outlinewidth": 0,
              "ticks": ""
             }
            },
            "marker": {
             "colorbar": {
              "outlinewidth": 0,
              "ticks": ""
             }
            },
            "type": "scatter3d"
           }
          ],
          "scattercarpet": [
           {
            "marker": {
             "colorbar": {
              "outlinewidth": 0,
              "ticks": ""
             }
            },
            "type": "scattercarpet"
           }
          ],
          "scattergeo": [
           {
            "marker": {
             "colorbar": {
              "outlinewidth": 0,
              "ticks": ""
             }
            },
            "type": "scattergeo"
           }
          ],
          "scattergl": [
           {
            "marker": {
             "colorbar": {
              "outlinewidth": 0,
              "ticks": ""
             }
            },
            "type": "scattergl"
           }
          ],
          "scattermap": [
           {
            "marker": {
             "colorbar": {
              "outlinewidth": 0,
              "ticks": ""
             }
            },
            "type": "scattermap"
           }
          ],
          "scattermapbox": [
           {
            "marker": {
             "colorbar": {
              "outlinewidth": 0,
              "ticks": ""
             }
            },
            "type": "scattermapbox"
           }
          ],
          "scatterpolar": [
           {
            "marker": {
             "colorbar": {
              "outlinewidth": 0,
              "ticks": ""
             }
            },
            "type": "scatterpolar"
           }
          ],
          "scatterpolargl": [
           {
            "marker": {
             "colorbar": {
              "outlinewidth": 0,
              "ticks": ""
             }
            },
            "type": "scatterpolargl"
           }
          ],
          "scatterternary": [
           {
            "marker": {
             "colorbar": {
              "outlinewidth": 0,
              "ticks": ""
             }
            },
            "type": "scatterternary"
           }
          ],
          "surface": [
           {
            "colorbar": {
             "outlinewidth": 0,
             "ticks": ""
            },
            "colorscale": [
             [
              0,
              "#0d0887"
             ],
             [
              0.1111111111111111,
              "#46039f"
             ],
             [
              0.2222222222222222,
              "#7201a8"
             ],
             [
              0.3333333333333333,
              "#9c179e"
             ],
             [
              0.4444444444444444,
              "#bd3786"
             ],
             [
              0.5555555555555556,
              "#d8576b"
             ],
             [
              0.6666666666666666,
              "#ed7953"
             ],
             [
              0.7777777777777778,
              "#fb9f3a"
             ],
             [
              0.8888888888888888,
              "#fdca26"
             ],
             [
              1,
              "#f0f921"
             ]
            ],
            "type": "surface"
           }
          ],
          "table": [
           {
            "cells": {
             "fill": {
              "color": "#EBF0F8"
             },
             "line": {
              "color": "white"
             }
            },
            "header": {
             "fill": {
              "color": "#C8D4E3"
             },
             "line": {
              "color": "white"
             }
            },
            "type": "table"
           }
          ]
         },
         "layout": {
          "annotationdefaults": {
           "arrowcolor": "#2a3f5f",
           "arrowhead": 0,
           "arrowwidth": 1
          },
          "autotypenumbers": "strict",
          "coloraxis": {
           "colorbar": {
            "outlinewidth": 0,
            "ticks": ""
           }
          },
          "colorscale": {
           "diverging": [
            [
             0,
             "#8e0152"
            ],
            [
             0.1,
             "#c51b7d"
            ],
            [
             0.2,
             "#de77ae"
            ],
            [
             0.3,
             "#f1b6da"
            ],
            [
             0.4,
             "#fde0ef"
            ],
            [
             0.5,
             "#f7f7f7"
            ],
            [
             0.6,
             "#e6f5d0"
            ],
            [
             0.7,
             "#b8e186"
            ],
            [
             0.8,
             "#7fbc41"
            ],
            [
             0.9,
             "#4d9221"
            ],
            [
             1,
             "#276419"
            ]
           ],
           "sequential": [
            [
             0,
             "#0d0887"
            ],
            [
             0.1111111111111111,
             "#46039f"
            ],
            [
             0.2222222222222222,
             "#7201a8"
            ],
            [
             0.3333333333333333,
             "#9c179e"
            ],
            [
             0.4444444444444444,
             "#bd3786"
            ],
            [
             0.5555555555555556,
             "#d8576b"
            ],
            [
             0.6666666666666666,
             "#ed7953"
            ],
            [
             0.7777777777777778,
             "#fb9f3a"
            ],
            [
             0.8888888888888888,
             "#fdca26"
            ],
            [
             1,
             "#f0f921"
            ]
           ],
           "sequentialminus": [
            [
             0,
             "#0d0887"
            ],
            [
             0.1111111111111111,
             "#46039f"
            ],
            [
             0.2222222222222222,
             "#7201a8"
            ],
            [
             0.3333333333333333,
             "#9c179e"
            ],
            [
             0.4444444444444444,
             "#bd3786"
            ],
            [
             0.5555555555555556,
             "#d8576b"
            ],
            [
             0.6666666666666666,
             "#ed7953"
            ],
            [
             0.7777777777777778,
             "#fb9f3a"
            ],
            [
             0.8888888888888888,
             "#fdca26"
            ],
            [
             1,
             "#f0f921"
            ]
           ]
          },
          "colorway": [
           "#636efa",
           "#EF553B",
           "#00cc96",
           "#ab63fa",
           "#FFA15A",
           "#19d3f3",
           "#FF6692",
           "#B6E880",
           "#FF97FF",
           "#FECB52"
          ],
          "font": {
           "color": "#2a3f5f"
          },
          "geo": {
           "bgcolor": "white",
           "lakecolor": "white",
           "landcolor": "#E5ECF6",
           "showlakes": true,
           "showland": true,
           "subunitcolor": "white"
          },
          "hoverlabel": {
           "align": "left"
          },
          "hovermode": "closest",
          "mapbox": {
           "style": "light"
          },
          "paper_bgcolor": "white",
          "plot_bgcolor": "#E5ECF6",
          "polar": {
           "angularaxis": {
            "gridcolor": "white",
            "linecolor": "white",
            "ticks": ""
           },
           "bgcolor": "#E5ECF6",
           "radialaxis": {
            "gridcolor": "white",
            "linecolor": "white",
            "ticks": ""
           }
          },
          "scene": {
           "xaxis": {
            "backgroundcolor": "#E5ECF6",
            "gridcolor": "white",
            "gridwidth": 2,
            "linecolor": "white",
            "showbackground": true,
            "ticks": "",
            "zerolinecolor": "white"
           },
           "yaxis": {
            "backgroundcolor": "#E5ECF6",
            "gridcolor": "white",
            "gridwidth": 2,
            "linecolor": "white",
            "showbackground": true,
            "ticks": "",
            "zerolinecolor": "white"
           },
           "zaxis": {
            "backgroundcolor": "#E5ECF6",
            "gridcolor": "white",
            "gridwidth": 2,
            "linecolor": "white",
            "showbackground": true,
            "ticks": "",
            "zerolinecolor": "white"
           }
          },
          "shapedefaults": {
           "line": {
            "color": "#2a3f5f"
           }
          },
          "ternary": {
           "aaxis": {
            "gridcolor": "white",
            "linecolor": "white",
            "ticks": ""
           },
           "baxis": {
            "gridcolor": "white",
            "linecolor": "white",
            "ticks": ""
           },
           "bgcolor": "#E5ECF6",
           "caxis": {
            "gridcolor": "white",
            "linecolor": "white",
            "ticks": ""
           }
          },
          "title": {
           "x": 0.05
          },
          "xaxis": {
           "automargin": true,
           "gridcolor": "white",
           "linecolor": "white",
           "ticks": "",
           "title": {
            "standoff": 15
           },
           "zerolinecolor": "white",
           "zerolinewidth": 2
          },
          "yaxis": {
           "automargin": true,
           "gridcolor": "white",
           "linecolor": "white",
           "ticks": "",
           "title": {
            "standoff": 15
           },
           "zerolinecolor": "white",
           "zerolinewidth": 2
          }
         }
        },
        "title": {
         "text": "Y-Branch Dendritic Structure"
        }
       }
      }
     },
     "metadata": {},
     "output_type": "display_data"
    }
   ],
   "source": [
    "# Visualize the Y-branch\n",
    "fig = visualize_mesh_3d(\n",
    "    y_branch, \n",
    "    title=\"Y-Branch Dendritic Structure\",\n",
    "    color=\"lightgreen\",\n",
    "    backend=\"plotly\"\n",
    ")\n",
    "fig.show()"
   ]
  },
  {
   "cell_type": "markdown",
   "id": "9bea7153",
   "metadata": {},
   "source": [
    "## 3. Creating a Multi-Branch Structure\n",
    "\n",
    "Let's create a more complex structure with multiple branches:"
   ]
  },
  {
   "cell_type": "code",
   "execution_count": 6,
   "id": "d5d670fe",
   "metadata": {},
   "outputs": [
    {
     "name": "stdout",
     "output_type": "stream",
     "text": [
      "Created multi-branch with 286 vertices and 176 faces\n"
     ]
    }
   ],
   "source": [
    "# Create a structure with 4 branches\n",
    "multi_branch = create_branching_mesh(\n",
    "    trunk_length=50.0,\n",
    "    trunk_radius=6.0,\n",
    "    branch_length=35.0,\n",
    "    branch_radius=3.5,\n",
    "    branch_angle=60.0,     # Wider angle\n",
    "    num_branches=4,        # Four branches\n",
    "    smooth_junctions=True\n",
    ")\n",
    "\n",
    "print(f\"Created multi-branch with {len(multi_branch.vertices)} vertices and {len(multi_branch.faces)} faces\")"
   ]
  },
  {
   "cell_type": "code",
   "execution_count": 7,
   "id": "b10eeebe",
   "metadata": {},
   "outputs": [
    {
     "data": {
      "application/vnd.plotly.v1+json": {
       "config": {
        "plotlyServerURL": "https://plot.ly"
       },
       "data": [
        {
         "color": "orange",
         "i": {
          "bdata": "AQACAAQAAwAHAAgABgAFAAsADAAKAAkADgANABkAGAAXABYAHQAcABUAFAARABMAGgAbAB4AHwAiACMAJwAmACsAKgAuAC8AMgAzADcANgA6ADsAPwA+AEMAQgBIAEkASwBMAE4ATQBRAFAAVABWAFgAVwBaAFkAWwBcAF4AXQBhAGIAZgBlAG0AbgBsAGsAbwBwAHQAcwB4AHcAfQB+AIAAgQCDAIQAhgCFAIkAiwCPAI4AkQCQAI0AjACTAJIAlwCYAJoAmQCcAJ0AoQCgAKQApQCpAKgArQCsALIAswC1ALcAuQC4ALsAugC+AMAAwgDBAMQAwwDFAMYAyADHAMsAzADRANAA1wDYANYA1QDZANoA3gDdAOIA4QDnAOgA7ADtAOsA7gDwAO8A8wD1APkA+AD7APoA9wD2AP4A/QABAQMBBQEEAQYBBwELAQoBDgEPARQBEwEXARYBHAEdAQ==",
          "dtype": "i2"
         },
         "j": {
          "bdata": "AAAAAAAAAAAAAAAAAAAAAAAAAAAAAAAADwAPABoAGQAYABcAEQAdABYAFQATABQAGwAcACAAIAAkACQAKAAoACwALAAwADAANAA0ADgAOAA8ADwAQABAAEQARABGAEYASgBKAEoASgBSAFIAVgBXAFkAWABbAFoAXABUAF8AXwBjAGMAZwBnAGkAaQBpAGkAcQBxAHUAdQB5AHkAewB7AH8AfwB/AH8AhwCHAIsAjACQAI8AiQCRAI4AjQCUAJQAlgCWAJYAlgCeAJ4AogCiAKYApgCqAKoArgCuALAAsAC0ALQAtAC0ALwAvADAAMEAwwDCAMUAxADGAL4AyQDJAM0AzQDPAM8A0wDTANMA0wDbANsA3wDfAOMA4wDlAOUA6QDpAOkA6QDxAPEA9QD2APoA+QDzAPsA+AD3APwA/AAAAQABAAEAAQgBCAEMAQwBEAEQARIBEgEYARgBGgEaAQ==",
          "dtype": "i2"
         },
         "k": {
          "bdata": "AgADAAUABAAIAAkABwAGAAwAAQALAAoAEAAOABIAEgASABIAEgASABIAEgASABIAEgASAB8AIQAjACUAKQAnAC0AKwAvADEAMwA1ADkANwA7AD0AQQA/AEUAQwBJAEcATABNAE8ATgBTAFEAVQBVAFUAVQBVAFUAVQBVAGAAXgBiAGQAaABmAG4AagBtAGwAcAByAHYAdAB6AHgAfgB8AIEAggCEAIAAiACGAIoAigCKAIoAigCKAIoAigCVAJMAmACZAJsAmgCdAJ8AowChAKUApwCrAKkArwCtALMAsQC3ALgAtgC5AL0AuwC/AL8AvwC/AL8AvwC/AL8AygDIAMwAzgDSANEA2ADUANcA1gDaANwA4ADeAOQA4gDoAOYA7QDqAO4A7ADyAPAA9AD0APQA9AD0APQA9AD0AP8A/gADAQQBAgEFAQcBCQENAQsBDwERARUBFAEZARcBHQEbAQ==",
          "dtype": "i2"
         },
         "name": "Mesh",
         "opacity": 0.8,
         "type": "mesh3d",
         "x": {
          "bdata": "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",
          "dtype": "f8"
         },
         "y": {
          "bdata": "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",
          "dtype": "f8"
         },
         "z": {
          "bdata": "AAAAAAAAAAAAAAAAAAAAAAAAAAAAAAAAAAAAAAAAAAAAAAAAAAAAAAAAAAAAAAAAAAAAAAAAAAAAAAAAAAAAAAAAAAAAAAAAAAAAAAAAAAAAAAAAAAAAAAAAAAAAAAAAAAAAAAAAAAAAAAAAAAAAAAAAAAAAAElAAAAAAAAAAAAAAAAAAABJQAAAAAAAAElAAAAAAAAASUAAAAAAAABJQAAAAAAAAElAAAAAAAAASUAAAAAAAABJQAAAAAAAAElAAAAAAAAASUAAAAAAAABJQAAAAAAAAElAAAAAAAAASUAAAAAAAABJQAAAAAAAAElAAAAAAAAAAAAAAAAAAABJQAAAAAAAAAAAAAAAAAAASUAAAAAAAAAAAAAAAAAAAElAAAAAAAAAAAAAAAAAAABJQAAAAAAAAAAAAAAAAAAASUAAAAAAAAAAAAAAAAAAAElAAAAAAAAAAAAAAAAAAABJQAAAAAAAAAAAAAAAAAAASUAAAAAAAAAAAAAAAAAAAElAAAAAAAAAAAAAAAAAAABJQAAAAAAAAAAAAAAAAAAASUAAAAAAAAAAAAAAAAAAAElAAAAAAAAAAAAAAAAAAABJQAAAAAAAAAAAAAAAAAAASUAAAAAAAAAAAAAAAAAAAElAAAAAAAAAAAAAAAAAAABJQAAAAAAAAAAAAAAAAAAASUAAAAAAAAAAAAAAAAAAAElAAAAAAAAAAAAAAAAAAABJQAAAAAAAAAAAAAAAAAAASUAAAAAAAAAAAAAAAAAAAElAAAAAAAAAAAAAAAAAAABJQAAAAAAAAElAAAAAAAAASUDQfxjFVxJKQDHUtLj6g0pA0H8YxVcSSkAAAAAAAABJQAAAAAAAAElAAAAAAADgUEDQfxjFVxJKQOg/jOIraVFAAAAAAADgUEAAAAAAAOBQQOg/jOIraVFAGWpaXP2hUUDoP4ziK2lRQAAAAAAA4FBAGMBzHdRWUEDolaWjAh5QQBjAcx3UVlBA0H8YxVcSSkDoP4ziK2lRQDHUtLj6g0pAGWpaXP2hUUAx1LS4+oNKQBlqWlz9oVFA0H8YxVcSSkDoP4ziK2lRQNB/GMVXEkpA6D+M4itpUUAAAAAAAABJQAAAAAAA4FBAAAAAAAAASUAAAAAAAABJQAAAAAAAAElAL4DnOqjtR0DOK0tHBXxHQC+A5zqo7UdAAAAAAAAASUAAAAAAAOBQQC+A5zqo7UdAGMBzHdRWUEAvgOc6qO1HQBjAcx3UVlBAzitLRwV8R0DolaWjAh5QQM4rS0cFfEdA6JWlowIeUEAvgOc6qO1HQBjAcx3UVlBAAAAAAAAASUAAAAAAAOBQQC+A5zqo7UdAGMBzHdRWUEAAAAAAAABJQM4rS0cFfEdAL4DnOqjtR0AAAAAAAABJQAAAAAAAAElAL4DnOqjtR0DOK0tHBXxHQOiVpaMCHlBAL4DnOqjtR0AYwHMd1FZQQOiVpaMCHlBAAAAAAADgUEAYwHMd1FZQQAAAAAAA4FBA6D+M4itpUUAZalpc/aFRQOg/jOIraVFAAAAAAADgUEAYwHMd1FZQQC+A5zqo7UdAGMBzHdRWUEAAAAAAAABJQAAAAAAA4FBAAAAAAAAASUAAAAAAAABJQNB/GMVXEkpAMdS0uPqDSkDQfxjFVxJKQAAAAAAAAElAAAAAAAAASUAAAAAAAOBQQNB/GMVXEkpA6D+M4itpUUDQfxjFVxJKQOg/jOIraVFAMdS0uPqDSkAZalpc/aFRQDHUtLj6g0pAGWpaXP2hUUDQfxjFVxJKQOg/jOIraVFA0H8YxVcSSkDoP4ziK2lRQAAAAAAAAElAAAAAAADgUEAAAAAAAABJQAAAAAAA4FBAL4DnOqjtR0AYwHMd1FZQQM4rS0cFfEdA6JWlowIeUEAvgOc6qO1HQBjAcx3UVlBAAAAAAAAASUAAAAAAAABJQAAAAAAAAElAL4DnOqjtR0DOK0tHBXxHQC+A5zqo7UdAAAAAAAAASUAAAAAAAOBQQC+A5zqo7UdAGMBzHdRWUEAAAAAAAOBQQAAAAAAA4FBAGMBzHdRWUEDolaWjAh5QQBjAcx3UVlBAAAAAAADgUEDoP4ziK2lRQBlqWlz9oVFA6D+M4itpUUAvgOc6qO1HQBjAcx3UVlBAzitLRwV8R0DolaWjAh5QQM4rS0cFfEdA6JWlowIeUEAvgOc6qO1HQBjAcx3UVlBAAAAAAAAASUAvgOc6qO1HQBjAcx3UVlBAAAAAAADgUEAAAAAAAABJQAAAAAAAAElAAAAAAAAASUDQfxjFVxJKQDHUtLj6g0pA0H8YxVcSSkAAAAAAAABJQAAAAAAA4FBA0H8YxVcSSkDoP4ziK2lRQNB/GMVXEkpA6D+M4itpUUAx1LS4+oNKQBlqWlz9oVFAMdS0uPqDSkAZalpc/aFRQNB/GMVXEkpA6D+M4itpUUAAAAAAAABJQAAAAAAA4FBA0H8YxVcSSkDoP4ziK2lRQAAAAAAAAElAAAAAAAAASUAAAAAAAABJQDHUtLj6g0pA0H8YxVcSSkDQfxjFVxJKQDHUtLj6g0pAGWpaXP2hUUDQfxjFVxJKQOg/jOIraVFAGWpaXP2hUUAAAAAAAOBQQOg/jOIraVFAAAAAAADgUEAYwHMd1FZQQOiVpaMCHlBAGMBzHdRWUEAAAAAAAOBQQOg/jOIraVFAAAAAAAAASUDQfxjFVxJKQOg/jOIraVFAAAAAAADgUEAAAAAAAABJQAAAAAAAAElAAAAAAAAASUAvgOc6qO1HQM4rS0cFfEdAL4DnOqjtR0AAAAAAAABJQAAAAAAA4FBAL4DnOqjtR0AYwHMd1FZQQC+A5zqo7UdAGMBzHdRWUEDOK0tHBXxHQOiVpaMCHlBAzitLRwV8R0DolaWjAh5QQC+A5zqo7UdAGMBzHdRWUEAAAAAAAABJQC+A5zqo7UdAGMBzHdRWUEAAAAAAAOBQQAAAAAAAAElAAAAAAADgUEDQfxjFVxJKQOg/jOIraVFAMdS0uPqDSkAZalpc/aFRQNB/GMVXEkpA6D+M4itpUUA=",
          "dtype": "f8"
         }
        }
       ],
       "layout": {
        "scene": {
         "aspectmode": "data",
         "xaxis": {
          "title": {
           "text": "X (µm)"
          }
         },
         "yaxis": {
          "title": {
           "text": "Y (µm)"
          }
         },
         "zaxis": {
          "title": {
           "text": "Z (µm)"
          }
         }
        },
        "template": {
         "data": {
          "bar": [
           {
            "error_x": {
             "color": "#2a3f5f"
            },
            "error_y": {
             "color": "#2a3f5f"
            },
            "marker": {
             "line": {
              "color": "#E5ECF6",
              "width": 0.5
             },
             "pattern": {
              "fillmode": "overlay",
              "size": 10,
              "solidity": 0.2
             }
            },
            "type": "bar"
           }
          ],
          "barpolar": [
           {
            "marker": {
             "line": {
              "color": "#E5ECF6",
              "width": 0.5
             },
             "pattern": {
              "fillmode": "overlay",
              "size": 10,
              "solidity": 0.2
             }
            },
            "type": "barpolar"
           }
          ],
          "carpet": [
           {
            "aaxis": {
             "endlinecolor": "#2a3f5f",
             "gridcolor": "white",
             "linecolor": "white",
             "minorgridcolor": "white",
             "startlinecolor": "#2a3f5f"
            },
            "baxis": {
             "endlinecolor": "#2a3f5f",
             "gridcolor": "white",
             "linecolor": "white",
             "minorgridcolor": "white",
             "startlinecolor": "#2a3f5f"
            },
            "type": "carpet"
           }
          ],
          "choropleth": [
           {
            "colorbar": {
             "outlinewidth": 0,
             "ticks": ""
            },
            "type": "choropleth"
           }
          ],
          "contour": [
           {
            "colorbar": {
             "outlinewidth": 0,
             "ticks": ""
            },
            "colorscale": [
             [
              0,
              "#0d0887"
             ],
             [
              0.1111111111111111,
              "#46039f"
             ],
             [
              0.2222222222222222,
              "#7201a8"
             ],
             [
              0.3333333333333333,
              "#9c179e"
             ],
             [
              0.4444444444444444,
              "#bd3786"
             ],
             [
              0.5555555555555556,
              "#d8576b"
             ],
             [
              0.6666666666666666,
              "#ed7953"
             ],
             [
              0.7777777777777778,
              "#fb9f3a"
             ],
             [
              0.8888888888888888,
              "#fdca26"
             ],
             [
              1,
              "#f0f921"
             ]
            ],
            "type": "contour"
           }
          ],
          "contourcarpet": [
           {
            "colorbar": {
             "outlinewidth": 0,
             "ticks": ""
            },
            "type": "contourcarpet"
           }
          ],
          "heatmap": [
           {
            "colorbar": {
             "outlinewidth": 0,
             "ticks": ""
            },
            "colorscale": [
             [
              0,
              "#0d0887"
             ],
             [
              0.1111111111111111,
              "#46039f"
             ],
             [
              0.2222222222222222,
              "#7201a8"
             ],
             [
              0.3333333333333333,
              "#9c179e"
             ],
             [
              0.4444444444444444,
              "#bd3786"
             ],
             [
              0.5555555555555556,
              "#d8576b"
             ],
             [
              0.6666666666666666,
              "#ed7953"
             ],
             [
              0.7777777777777778,
              "#fb9f3a"
             ],
             [
              0.8888888888888888,
              "#fdca26"
             ],
             [
              1,
              "#f0f921"
             ]
            ],
            "type": "heatmap"
           }
          ],
          "histogram": [
           {
            "marker": {
             "pattern": {
              "fillmode": "overlay",
              "size": 10,
              "solidity": 0.2
             }
            },
            "type": "histogram"
           }
          ],
          "histogram2d": [
           {
            "colorbar": {
             "outlinewidth": 0,
             "ticks": ""
            },
            "colorscale": [
             [
              0,
              "#0d0887"
             ],
             [
              0.1111111111111111,
              "#46039f"
             ],
             [
              0.2222222222222222,
              "#7201a8"
             ],
             [
              0.3333333333333333,
              "#9c179e"
             ],
             [
              0.4444444444444444,
              "#bd3786"
             ],
             [
              0.5555555555555556,
              "#d8576b"
             ],
             [
              0.6666666666666666,
              "#ed7953"
             ],
             [
              0.7777777777777778,
              "#fb9f3a"
             ],
             [
              0.8888888888888888,
              "#fdca26"
             ],
             [
              1,
              "#f0f921"
             ]
            ],
            "type": "histogram2d"
           }
          ],
          "histogram2dcontour": [
           {
            "colorbar": {
             "outlinewidth": 0,
             "ticks": ""
            },
            "colorscale": [
             [
              0,
              "#0d0887"
             ],
             [
              0.1111111111111111,
              "#46039f"
             ],
             [
              0.2222222222222222,
              "#7201a8"
             ],
             [
              0.3333333333333333,
              "#9c179e"
             ],
             [
              0.4444444444444444,
              "#bd3786"
             ],
             [
              0.5555555555555556,
              "#d8576b"
             ],
             [
              0.6666666666666666,
              "#ed7953"
             ],
             [
              0.7777777777777778,
              "#fb9f3a"
             ],
             [
              0.8888888888888888,
              "#fdca26"
             ],
             [
              1,
              "#f0f921"
             ]
            ],
            "type": "histogram2dcontour"
           }
          ],
          "mesh3d": [
           {
            "colorbar": {
             "outlinewidth": 0,
             "ticks": ""
            },
            "type": "mesh3d"
           }
          ],
          "parcoords": [
           {
            "line": {
             "colorbar": {
              "outlinewidth": 0,
              "ticks": ""
             }
            },
            "type": "parcoords"
           }
          ],
          "pie": [
           {
            "automargin": true,
            "type": "pie"
           }
          ],
          "scatter": [
           {
            "fillpattern": {
             "fillmode": "overlay",
             "size": 10,
             "solidity": 0.2
            },
            "type": "scatter"
           }
          ],
          "scatter3d": [
           {
            "line": {
             "colorbar": {
              "outlinewidth": 0,
              "ticks": ""
             }
            },
            "marker": {
             "colorbar": {
              "outlinewidth": 0,
              "ticks": ""
             }
            },
            "type": "scatter3d"
           }
          ],
          "scattercarpet": [
           {
            "marker": {
             "colorbar": {
              "outlinewidth": 0,
              "ticks": ""
             }
            },
            "type": "scattercarpet"
           }
          ],
          "scattergeo": [
           {
            "marker": {
             "colorbar": {
              "outlinewidth": 0,
              "ticks": ""
             }
            },
            "type": "scattergeo"
           }
          ],
          "scattergl": [
           {
            "marker": {
             "colorbar": {
              "outlinewidth": 0,
              "ticks": ""
             }
            },
            "type": "scattergl"
           }
          ],
          "scattermap": [
           {
            "marker": {
             "colorbar": {
              "outlinewidth": 0,
              "ticks": ""
             }
            },
            "type": "scattermap"
           }
          ],
          "scattermapbox": [
           {
            "marker": {
             "colorbar": {
              "outlinewidth": 0,
              "ticks": ""
             }
            },
            "type": "scattermapbox"
           }
          ],
          "scatterpolar": [
           {
            "marker": {
             "colorbar": {
              "outlinewidth": 0,
              "ticks": ""
             }
            },
            "type": "scatterpolar"
           }
          ],
          "scatterpolargl": [
           {
            "marker": {
             "colorbar": {
              "outlinewidth": 0,
              "ticks": ""
             }
            },
            "type": "scatterpolargl"
           }
          ],
          "scatterternary": [
           {
            "marker": {
             "colorbar": {
              "outlinewidth": 0,
              "ticks": ""
             }
            },
            "type": "scatterternary"
           }
          ],
          "surface": [
           {
            "colorbar": {
             "outlinewidth": 0,
             "ticks": ""
            },
            "colorscale": [
             [
              0,
              "#0d0887"
             ],
             [
              0.1111111111111111,
              "#46039f"
             ],
             [
              0.2222222222222222,
              "#7201a8"
             ],
             [
              0.3333333333333333,
              "#9c179e"
             ],
             [
              0.4444444444444444,
              "#bd3786"
             ],
             [
              0.5555555555555556,
              "#d8576b"
             ],
             [
              0.6666666666666666,
              "#ed7953"
             ],
             [
              0.7777777777777778,
              "#fb9f3a"
             ],
             [
              0.8888888888888888,
              "#fdca26"
             ],
             [
              1,
              "#f0f921"
             ]
            ],
            "type": "surface"
           }
          ],
          "table": [
           {
            "cells": {
             "fill": {
              "color": "#EBF0F8"
             },
             "line": {
              "color": "white"
             }
            },
            "header": {
             "fill": {
              "color": "#C8D4E3"
             },
             "line": {
              "color": "white"
             }
            },
            "type": "table"
           }
          ]
         },
         "layout": {
          "annotationdefaults": {
           "arrowcolor": "#2a3f5f",
           "arrowhead": 0,
           "arrowwidth": 1
          },
          "autotypenumbers": "strict",
          "coloraxis": {
           "colorbar": {
            "outlinewidth": 0,
            "ticks": ""
           }
          },
          "colorscale": {
           "diverging": [
            [
             0,
             "#8e0152"
            ],
            [
             0.1,
             "#c51b7d"
            ],
            [
             0.2,
             "#de77ae"
            ],
            [
             0.3,
             "#f1b6da"
            ],
            [
             0.4,
             "#fde0ef"
            ],
            [
             0.5,
             "#f7f7f7"
            ],
            [
             0.6,
             "#e6f5d0"
            ],
            [
             0.7,
             "#b8e186"
            ],
            [
             0.8,
             "#7fbc41"
            ],
            [
             0.9,
             "#4d9221"
            ],
            [
             1,
             "#276419"
            ]
           ],
           "sequential": [
            [
             0,
             "#0d0887"
            ],
            [
             0.1111111111111111,
             "#46039f"
            ],
            [
             0.2222222222222222,
             "#7201a8"
            ],
            [
             0.3333333333333333,
             "#9c179e"
            ],
            [
             0.4444444444444444,
             "#bd3786"
            ],
            [
             0.5555555555555556,
             "#d8576b"
            ],
            [
             0.6666666666666666,
             "#ed7953"
            ],
            [
             0.7777777777777778,
             "#fb9f3a"
            ],
            [
             0.8888888888888888,
             "#fdca26"
            ],
            [
             1,
             "#f0f921"
            ]
           ],
           "sequentialminus": [
            [
             0,
             "#0d0887"
            ],
            [
             0.1111111111111111,
             "#46039f"
            ],
            [
             0.2222222222222222,
             "#7201a8"
            ],
            [
             0.3333333333333333,
             "#9c179e"
            ],
            [
             0.4444444444444444,
             "#bd3786"
            ],
            [
             0.5555555555555556,
             "#d8576b"
            ],
            [
             0.6666666666666666,
             "#ed7953"
            ],
            [
             0.7777777777777778,
             "#fb9f3a"
            ],
            [
             0.8888888888888888,
             "#fdca26"
            ],
            [
             1,
             "#f0f921"
            ]
           ]
          },
          "colorway": [
           "#636efa",
           "#EF553B",
           "#00cc96",
           "#ab63fa",
           "#FFA15A",
           "#19d3f3",
           "#FF6692",
           "#B6E880",
           "#FF97FF",
           "#FECB52"
          ],
          "font": {
           "color": "#2a3f5f"
          },
          "geo": {
           "bgcolor": "white",
           "lakecolor": "white",
           "landcolor": "#E5ECF6",
           "showlakes": true,
           "showland": true,
           "subunitcolor": "white"
          },
          "hoverlabel": {
           "align": "left"
          },
          "hovermode": "closest",
          "mapbox": {
           "style": "light"
          },
          "paper_bgcolor": "white",
          "plot_bgcolor": "#E5ECF6",
          "polar": {
           "angularaxis": {
            "gridcolor": "white",
            "linecolor": "white",
            "ticks": ""
           },
           "bgcolor": "#E5ECF6",
           "radialaxis": {
            "gridcolor": "white",
            "linecolor": "white",
            "ticks": ""
           }
          },
          "scene": {
           "xaxis": {
            "backgroundcolor": "#E5ECF6",
            "gridcolor": "white",
            "gridwidth": 2,
            "linecolor": "white",
            "showbackground": true,
            "ticks": "",
            "zerolinecolor": "white"
           },
           "yaxis": {
            "backgroundcolor": "#E5ECF6",
            "gridcolor": "white",
            "gridwidth": 2,
            "linecolor": "white",
            "showbackground": true,
            "ticks": "",
            "zerolinecolor": "white"
           },
           "zaxis": {
            "backgroundcolor": "#E5ECF6",
            "gridcolor": "white",
            "gridwidth": 2,
            "linecolor": "white",
            "showbackground": true,
            "ticks": "",
            "zerolinecolor": "white"
           }
          },
          "shapedefaults": {
           "line": {
            "color": "#2a3f5f"
           }
          },
          "ternary": {
           "aaxis": {
            "gridcolor": "white",
            "linecolor": "white",
            "ticks": ""
           },
           "baxis": {
            "gridcolor": "white",
            "linecolor": "white",
            "ticks": ""
           },
           "bgcolor": "#E5ECF6",
           "caxis": {
            "gridcolor": "white",
            "linecolor": "white",
            "ticks": ""
           }
          },
          "title": {
           "x": 0.05
          },
          "xaxis": {
           "automargin": true,
           "gridcolor": "white",
           "linecolor": "white",
           "ticks": "",
           "title": {
            "standoff": 15
           },
           "zerolinecolor": "white",
           "zerolinewidth": 2
          },
          "yaxis": {
           "automargin": true,
           "gridcolor": "white",
           "linecolor": "white",
           "ticks": "",
           "title": {
            "standoff": 15
           },
           "zerolinecolor": "white",
           "zerolinewidth": 2
          }
         }
        },
        "title": {
         "text": "Multi-Branch Dendritic Tree"
        }
       }
      }
     },
     "metadata": {},
     "output_type": "display_data"
    }
   ],
   "source": [
    "# Visualize the multi-branch structure\n",
    "fig = visualize_mesh_3d(\n",
    "    multi_branch, \n",
    "    title=\"Multi-Branch Dendritic Tree\",\n",
    "    color=\"orange\",\n",
    "    backend=\"plotly\",\n",
    "    show_wireframe=True,  # Show wireframe for better structure visibility\n",
    ")\n",
    "fig.show()"
   ]
  },
  {
   "cell_type": "markdown",
   "id": "1354174a",
   "metadata": {},
   "source": [
    "## 4. Creating a Complete Neuron\n",
    "\n",
    "Finally, let's create a simplified but complete neuron with soma, dendrites, and axon:"
   ]
  },
  {
   "cell_type": "code",
   "execution_count": 8,
   "id": "0f614512",
   "metadata": {},
   "outputs": [
    {
     "name": "stdout",
     "output_type": "stream",
     "text": [
      "Created neuron with 260 vertices and 496 faces\n",
      "Total volume: 6984.79 μm³\n",
      "Total surface area: 4717.92 μm²\n"
     ]
    },
    {
     "name": "stderr",
     "output_type": "stream",
     "text": [
      "/home/jordan/github/gencomo/gencomo/demos.py:319: UserWarning:\n",
      "\n",
      "Union operation failed: No boolean backend: `pip install manifold3d` or install `blender`, using concatenation\n",
      "\n"
     ]
    }
   ],
   "source": [
    "# Create a simplified neuron\n",
    "neuron = create_demo_neuron_mesh(\n",
    "    soma_radius=10.0,        # Cell body 10 μm radius\n",
    "    dendrite_length=50.0,    # Dendrites 50 μm long\n",
    "    dendrite_radius=2.0,     # Dendrites 2 μm radius\n",
    "    axon_length=100.0,       # Axon 100 μm long\n",
    "    axon_radius=1.5,         # Axon 1.5 μm radius\n",
    "    num_dendrites=4,         # 4 dendrites\n",
    "    dendrite_angle=30.0      # Dendrites at 30° from vertical\n",
    ")\n",
    "\n",
    "print(f\"Created neuron with {len(neuron.vertices)} vertices and {len(neuron.faces)} faces\")\n",
    "print(f\"Total volume: {neuron.volume:.2f} μm³\")\n",
    "print(f\"Total surface area: {neuron.area:.2f} μm²\")"
   ]
  },
  {
   "cell_type": "code",
   "execution_count": 9,
   "id": "a43c653f",
   "metadata": {},
   "outputs": [
    {
     "data": {
      "application/vnd.plotly.v1+json": {
       "config": {
        "plotlyServerURL": "https://plot.ly"
       },
       "data": [
        {
         "color": "coral",
         "i": {
          "bdata": "AACJADUAiQAlAIoAmgCKABAAmAA2AJgAJQCaAIsAmgAAADUAKgA1ABAANgA7ADYADAA6ACsAOgAQADsANwA7AAAAKgBFACoADAArAEoAKwAVAEsARgBLAAwASgBHAEoAAABFAHgARQAVAEYAhQBGACEAhwB5AIcAFQCFAHoAhQAAAHgAiQB4ACEAeQCeAHkAJQCgAIoAoAAhAJ4AjACeAAEAOABfADgAEQA5AG4AOQAcAHAAYABwABEAbgBhAG4ABQCWAD0AlgAoAJcAmwCXABIAlAA8AJQAKACbAJkAmwALAJ0AjgCdACkAnACfAJwAJgCQAI0AkAApAJ8AoQCfAAoAhAB/AIQAJACDAIYAgwAjAIEAfgCBACQAhgCIAIYABwBJAFkASQAWAEgAUABIABsAXQBaAF0AFgBQAFsAUAADAGMAMQBjAB0AZABrAGQADwBpADIAaQAdAGsAZQBrAAMAMQAtADEADwAyADQAMgANADAALAAwAA8ANAAzADQAAwAtAEEALQANACwAQAAsABQARABCAEQADQBAAEMAQAADAEEAUQBBABQAQgBWAEIAGQBYAFIAWAAUAFYAUwBWAAMAUQBjAFEAGQBSAHUAUgAdAHcAZAB3ABkAdQBmAHUABABnADwAZwAeAGgAcQBoABIAbwA9AG8AHgBxAGoAcQACAC4AjQAuAA4ALwCTAC8AJgCVAI4AlQAOAJMAjwCTAAYAPwB+AD8AEwA+AH0APgAjAIIAfwCCABMAfQCAAH0ACABVAFoAVQAaAFQAVwBUABsAXABZAFwAGgBXAF4AVwAJAHMAYABzACAAcgB0AHIAHABiAF8AYgAgAHQAdgB0AKMAowCkAKQApgCmAKcApwCoAKgAqQCpAKoAqgCrAKsArACsAK0ArQCuAK4ArwCvALAAsACxALEAsgCyALMAswC0ALQAtQC1ALYAtgC3ALcAuAC4ALkAuQC6ALoAuwC7AL0AvQC+AL4AwADAAMEAwQDCAMIAwwDDAMQAxADFAMUAxgDGAMcAxwDIAMgAyQDJAMoAygDLAMsAzADMAM0AzQDPAM8A0ADQANIA0gDTANMA1ADUANUA1QDWANYA1wDXANgA2ADZANkA2gDaANsA2wDcANwA3QDdAN4A3gDfAN8A4QDhAOIA4gDkAOQA5QDlAOYA5gDnAOcA6ADoAOkA6QDqAOoA6wDrAOwA7ADtAO0A7gDuAO8A7wDwAPAA8QDxAPMA8wD0APQA9gD2APcA9wD4APgA+QD5APoA+gD7APsA/AD8AP0A/QD+AP4A/wD/AAABAAEBAQEBAgECAQMBAwE=",
          "dtype": "i2"
         },
         "j": {
          "bdata": "iQAlAIsAiwCKAAsAlwCXAJgAKACWAJYAmgAoAJgAmAA1ABAANwA3ADYABQA5ADkAOgARADgAOAA7ABEAOgA6ACoADABHAEcAKwABAEgASABLABYASQBJAEoAFgBLAEsARQAVAHoAegBGAAcAgwCDAIcAJACEAIQAhQAkAIcAhwB4ACEAjACMAHkACgCcAJwAoAApAJ0AnQCeACkAoACgADgAEQBhAGEAOQAFAGwAbABwAB8AbQBtAG4AHwBwAHAAlgAoAJkAmQCXAAsAkgCSAJQAJwCRAJEAmwAnAJQAlACdACkAoQChAJwACgB8AHwAkAAiAHsAewCfACIAkACQAIQAJACIAIgAgwAHAE0ATQCBABcATABMAIYAFwCBAIEASQAWAFsAWwBIAAEATgBOAF0AGABPAE8AUAAYAF0AXQBjAB0AZQBlAGQACQBoAGgAaQAeAGcAZwBrAB4AaQBpADEADwAzADMAMgAEAC8ALwAwAA4ALgAuADQADgAwADAALQANAEMAQwAsAAIAPgA+AEQAEwA/AD8AQAATAEQARABBABQAUwBTAEIABgBUAFQAWAAaAFUAVQBWABoAWABYAFEAGQBmAGYAUgAIAHIAcgB3ACAAcwBzAHUAIAB3AHcAZwAeAGoAagBoAAkAbQBtAG8AHwBsAGwAcQAfAG8AbwAuAA4AjwCPAC8ABACRAJEAlQAnAJIAkgCTACcAlQCVAD8AEwCAAIAAPgACAHsAewCCACIAfAB8AH0AIgCCAIIAVQAaAF4AXgBUAAYATABMAFwAFwBNAE0AVwAXAFwAXABzACAAdgB2AHIACABPAE8AYgAYAE4ATgB0ABgAYgBiAKIApgCmAKcAogCoAKgAqQCiAKoAqgCrAKIArACsAK0AogCuAK4ArwCiALAAsACxAKIAsgCyALMAogC0ALQAtQCiALYAtgC3AKIAuAC4ALkAogC6ALoAuwCiAKMAowCkALwAwADAAMEAvADCAMIAwwC8AMQAxADFALwAxgDGAMcAvADIAMgAyQC8AMoAygDLALwAzADMAM0AvAC9AL0AvgDOANIA0gDTAM4A1ADUANUAzgDWANYA1wDOANgA2ADZAM4A2gDaANsAzgDcANwA3QDOAN4A3gDfAM4AzwDPANAA4ADkAOQA5QDgAOYA5gDnAOAA6ADoAOkA4ADqAOoA6wDgAOwA7ADtAOAA7gDuAO8A4ADwAPAA8QDgAOEA4QDiAPIA9gD2APcA8gD4APgA+QDyAPoA+gD7APIA/AD8AP0A8gD+AP4A/wDyAAABAAEBAfIAAgECAQMB8gDzAPMA9AA=",
          "dtype": "i2"
         },
         "k": {
          "bdata": "NQCLABAANQCaAJcAKACaADYAlgAFADYAiwCYABAAiwAqADcADAAqADsAOQARADsAKwA4AAEAKwA3ADoADAA3AEUARwAVAEUASgBIABYASgBGAEkABwBGAEcASwAVAEcAeAB6ACEAeACFAIMAJACFAHkAhAAKAHkAegCHACEAegCJAIwAJQCJAJ4AnAApAJ4AigCdAAsAigCMAKAAJQCMAF8AYQAcAF8AbgBsAB8AbgBgAG0ACQBgAGEAcAAcAGEAPQCZABIAPQCbAJIAJwCbADwAkQAEADwAmQCUABIAmQCOAKEAJgCOAJ8AfAAiAJ8AjQB7AAIAjQChAJAAJgChAH8AiAAjAH8AhgBNABcAhgB+AEwABgB+AIgAgQAjAIgAWQBbABsAWQBQAE4AGABQAFoATwAIAFoAWwBdABsAWwAxAGUADwAxAGsAaAAeAGsAMgBnAAQAMgBlAGkADwBlAC0AMwANAC0ANAAvAA4ANAAsAC4AAgAsADMAMAANADMAQQBDABQAQQBAAD4AEwBAAEIAPwAGAEIAQwBEABQAQwBRAFMAGQBRAFYAVAAaAFYAUgBVAAgAUgBTAFgAGQBTAGMAZgAdAGMAdQByACAAdQBkAHMACQBkAGYAdwAdAGYAPABqABIAPABxAG0AHwBxAD0AbAAFAD0AagBvABIAagCNAI8AJgCNAJMAkQAnAJMAjgCSAAsAjgCPAJUAJgCPAH4AgAAjAH4AfQB7ACIAfQB/AHwACgB/AIAAggAjAIAAWgBeABsAWgBXAEwAFwBXAFkATQAHAFkAXgBcABsAXgBgAHYAHABgAHQATwAYAHQAXwBOAAEAXwB2AGIAHAB2AKYApACnAKUAqACnAKkApQCqAKkAqwClAKwAqwCtAKUArgCtAK8ApQCwAK8AsQClALIAsQCzAKUAtACzALUApQC2ALUAtwClALgAtwC5AKUAugC5ALsApQCjALsApAClAMAAvgDBAL8AwgDBAMMAvwDEAMMAxQC/AMYAxQDHAL8AyADHAMkAvwDKAMkAywC/AMwAywDNAL8AvQDNAL4AvwDSANAA0wDRANQA0wDVANEA1gDVANcA0QDYANcA2QDRANoA2QDbANEA3ADbAN0A0QDeAN0A3wDRAM8A3wDQANEA5ADiAOUA4wDmAOUA5wDjAOgA5wDpAOMA6gDpAOsA4wDsAOsA7QDjAO4A7QDvAOMA8ADvAPEA4wDhAPEA4gDjAPYA9AD3APUA+AD3APkA9QD6APkA+wD1APwA+wD9APUA/gD9AP8A9QAAAf8AAQH1AAIBAQEDAfUA8wADAfQA9QA=",
          "dtype": "i2"
         },
         "name": "Mesh",
         "opacity": 0.8,
         "type": "mesh3d",
         "x": {
          "bdata": "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",
          "dtype": "f8"
         },
         "y": {
          "bdata": "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",
          "dtype": "f8"
         },
         "z": {
          "bdata": "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",
          "dtype": "f8"
         }
        }
       ],
       "layout": {
        "scene": {
         "aspectmode": "data",
         "xaxis": {
          "title": {
           "text": "X (µm)"
          }
         },
         "yaxis": {
          "title": {
           "text": "Y (µm)"
          }
         },
         "zaxis": {
          "title": {
           "text": "Z (µm)"
          }
         }
        },
        "template": {
         "data": {
          "bar": [
           {
            "error_x": {
             "color": "#2a3f5f"
            },
            "error_y": {
             "color": "#2a3f5f"
            },
            "marker": {
             "line": {
              "color": "#E5ECF6",
              "width": 0.5
             },
             "pattern": {
              "fillmode": "overlay",
              "size": 10,
              "solidity": 0.2
             }
            },
            "type": "bar"
           }
          ],
          "barpolar": [
           {
            "marker": {
             "line": {
              "color": "#E5ECF6",
              "width": 0.5
             },
             "pattern": {
              "fillmode": "overlay",
              "size": 10,
              "solidity": 0.2
             }
            },
            "type": "barpolar"
           }
          ],
          "carpet": [
           {
            "aaxis": {
             "endlinecolor": "#2a3f5f",
             "gridcolor": "white",
             "linecolor": "white",
             "minorgridcolor": "white",
             "startlinecolor": "#2a3f5f"
            },
            "baxis": {
             "endlinecolor": "#2a3f5f",
             "gridcolor": "white",
             "linecolor": "white",
             "minorgridcolor": "white",
             "startlinecolor": "#2a3f5f"
            },
            "type": "carpet"
           }
          ],
          "choropleth": [
           {
            "colorbar": {
             "outlinewidth": 0,
             "ticks": ""
            },
            "type": "choropleth"
           }
          ],
          "contour": [
           {
            "colorbar": {
             "outlinewidth": 0,
             "ticks": ""
            },
            "colorscale": [
             [
              0,
              "#0d0887"
             ],
             [
              0.1111111111111111,
              "#46039f"
             ],
             [
              0.2222222222222222,
              "#7201a8"
             ],
             [
              0.3333333333333333,
              "#9c179e"
             ],
             [
              0.4444444444444444,
              "#bd3786"
             ],
             [
              0.5555555555555556,
              "#d8576b"
             ],
             [
              0.6666666666666666,
              "#ed7953"
             ],
             [
              0.7777777777777778,
              "#fb9f3a"
             ],
             [
              0.8888888888888888,
              "#fdca26"
             ],
             [
              1,
              "#f0f921"
             ]
            ],
            "type": "contour"
           }
          ],
          "contourcarpet": [
           {
            "colorbar": {
             "outlinewidth": 0,
             "ticks": ""
            },
            "type": "contourcarpet"
           }
          ],
          "heatmap": [
           {
            "colorbar": {
             "outlinewidth": 0,
             "ticks": ""
            },
            "colorscale": [
             [
              0,
              "#0d0887"
             ],
             [
              0.1111111111111111,
              "#46039f"
             ],
             [
              0.2222222222222222,
              "#7201a8"
             ],
             [
              0.3333333333333333,
              "#9c179e"
             ],
             [
              0.4444444444444444,
              "#bd3786"
             ],
             [
              0.5555555555555556,
              "#d8576b"
             ],
             [
              0.6666666666666666,
              "#ed7953"
             ],
             [
              0.7777777777777778,
              "#fb9f3a"
             ],
             [
              0.8888888888888888,
              "#fdca26"
             ],
             [
              1,
              "#f0f921"
             ]
            ],
            "type": "heatmap"
           }
          ],
          "histogram": [
           {
            "marker": {
             "pattern": {
              "fillmode": "overlay",
              "size": 10,
              "solidity": 0.2
             }
            },
            "type": "histogram"
           }
          ],
          "histogram2d": [
           {
            "colorbar": {
             "outlinewidth": 0,
             "ticks": ""
            },
            "colorscale": [
             [
              0,
              "#0d0887"
             ],
             [
              0.1111111111111111,
              "#46039f"
             ],
             [
              0.2222222222222222,
              "#7201a8"
             ],
             [
              0.3333333333333333,
              "#9c179e"
             ],
             [
              0.4444444444444444,
              "#bd3786"
             ],
             [
              0.5555555555555556,
              "#d8576b"
             ],
             [
              0.6666666666666666,
              "#ed7953"
             ],
             [
              0.7777777777777778,
              "#fb9f3a"
             ],
             [
              0.8888888888888888,
              "#fdca26"
             ],
             [
              1,
              "#f0f921"
             ]
            ],
            "type": "histogram2d"
           }
          ],
          "histogram2dcontour": [
           {
            "colorbar": {
             "outlinewidth": 0,
             "ticks": ""
            },
            "colorscale": [
             [
              0,
              "#0d0887"
             ],
             [
              0.1111111111111111,
              "#46039f"
             ],
             [
              0.2222222222222222,
              "#7201a8"
             ],
             [
              0.3333333333333333,
              "#9c179e"
             ],
             [
              0.4444444444444444,
              "#bd3786"
             ],
             [
              0.5555555555555556,
              "#d8576b"
             ],
             [
              0.6666666666666666,
              "#ed7953"
             ],
             [
              0.7777777777777778,
              "#fb9f3a"
             ],
             [
              0.8888888888888888,
              "#fdca26"
             ],
             [
              1,
              "#f0f921"
             ]
            ],
            "type": "histogram2dcontour"
           }
          ],
          "mesh3d": [
           {
            "colorbar": {
             "outlinewidth": 0,
             "ticks": ""
            },
            "type": "mesh3d"
           }
          ],
          "parcoords": [
           {
            "line": {
             "colorbar": {
              "outlinewidth": 0,
              "ticks": ""
             }
            },
            "type": "parcoords"
           }
          ],
          "pie": [
           {
            "automargin": true,
            "type": "pie"
           }
          ],
          "scatter": [
           {
            "fillpattern": {
             "fillmode": "overlay",
             "size": 10,
             "solidity": 0.2
            },
            "type": "scatter"
           }
          ],
          "scatter3d": [
           {
            "line": {
             "colorbar": {
              "outlinewidth": 0,
              "ticks": ""
             }
            },
            "marker": {
             "colorbar": {
              "outlinewidth": 0,
              "ticks": ""
             }
            },
            "type": "scatter3d"
           }
          ],
          "scattercarpet": [
           {
            "marker": {
             "colorbar": {
              "outlinewidth": 0,
              "ticks": ""
             }
            },
            "type": "scattercarpet"
           }
          ],
          "scattergeo": [
           {
            "marker": {
             "colorbar": {
              "outlinewidth": 0,
              "ticks": ""
             }
            },
            "type": "scattergeo"
           }
          ],
          "scattergl": [
           {
            "marker": {
             "colorbar": {
              "outlinewidth": 0,
              "ticks": ""
             }
            },
            "type": "scattergl"
           }
          ],
          "scattermap": [
           {
            "marker": {
             "colorbar": {
              "outlinewidth": 0,
              "ticks": ""
             }
            },
            "type": "scattermap"
           }
          ],
          "scattermapbox": [
           {
            "marker": {
             "colorbar": {
              "outlinewidth": 0,
              "ticks": ""
             }
            },
            "type": "scattermapbox"
           }
          ],
          "scatterpolar": [
           {
            "marker": {
             "colorbar": {
              "outlinewidth": 0,
              "ticks": ""
             }
            },
            "type": "scatterpolar"
           }
          ],
          "scatterpolargl": [
           {
            "marker": {
             "colorbar": {
              "outlinewidth": 0,
              "ticks": ""
             }
            },
            "type": "scatterpolargl"
           }
          ],
          "scatterternary": [
           {
            "marker": {
             "colorbar": {
              "outlinewidth": 0,
              "ticks": ""
             }
            },
            "type": "scatterternary"
           }
          ],
          "surface": [
           {
            "colorbar": {
             "outlinewidth": 0,
             "ticks": ""
            },
            "colorscale": [
             [
              0,
              "#0d0887"
             ],
             [
              0.1111111111111111,
              "#46039f"
             ],
             [
              0.2222222222222222,
              "#7201a8"
             ],
             [
              0.3333333333333333,
              "#9c179e"
             ],
             [
              0.4444444444444444,
              "#bd3786"
             ],
             [
              0.5555555555555556,
              "#d8576b"
             ],
             [
              0.6666666666666666,
              "#ed7953"
             ],
             [
              0.7777777777777778,
              "#fb9f3a"
             ],
             [
              0.8888888888888888,
              "#fdca26"
             ],
             [
              1,
              "#f0f921"
             ]
            ],
            "type": "surface"
           }
          ],
          "table": [
           {
            "cells": {
             "fill": {
              "color": "#EBF0F8"
             },
             "line": {
              "color": "white"
             }
            },
            "header": {
             "fill": {
              "color": "#C8D4E3"
             },
             "line": {
              "color": "white"
             }
            },
            "type": "table"
           }
          ]
         },
         "layout": {
          "annotationdefaults": {
           "arrowcolor": "#2a3f5f",
           "arrowhead": 0,
           "arrowwidth": 1
          },
          "autotypenumbers": "strict",
          "coloraxis": {
           "colorbar": {
            "outlinewidth": 0,
            "ticks": ""
           }
          },
          "colorscale": {
           "diverging": [
            [
             0,
             "#8e0152"
            ],
            [
             0.1,
             "#c51b7d"
            ],
            [
             0.2,
             "#de77ae"
            ],
            [
             0.3,
             "#f1b6da"
            ],
            [
             0.4,
             "#fde0ef"
            ],
            [
             0.5,
             "#f7f7f7"
            ],
            [
             0.6,
             "#e6f5d0"
            ],
            [
             0.7,
             "#b8e186"
            ],
            [
             0.8,
             "#7fbc41"
            ],
            [
             0.9,
             "#4d9221"
            ],
            [
             1,
             "#276419"
            ]
           ],
           "sequential": [
            [
             0,
             "#0d0887"
            ],
            [
             0.1111111111111111,
             "#46039f"
            ],
            [
             0.2222222222222222,
             "#7201a8"
            ],
            [
             0.3333333333333333,
             "#9c179e"
            ],
            [
             0.4444444444444444,
             "#bd3786"
            ],
            [
             0.5555555555555556,
             "#d8576b"
            ],
            [
             0.6666666666666666,
             "#ed7953"
            ],
            [
             0.7777777777777778,
             "#fb9f3a"
            ],
            [
             0.8888888888888888,
             "#fdca26"
            ],
            [
             1,
             "#f0f921"
            ]
           ],
           "sequentialminus": [
            [
             0,
             "#0d0887"
            ],
            [
             0.1111111111111111,
             "#46039f"
            ],
            [
             0.2222222222222222,
             "#7201a8"
            ],
            [
             0.3333333333333333,
             "#9c179e"
            ],
            [
             0.4444444444444444,
             "#bd3786"
            ],
            [
             0.5555555555555556,
             "#d8576b"
            ],
            [
             0.6666666666666666,
             "#ed7953"
            ],
            [
             0.7777777777777778,
             "#fb9f3a"
            ],
            [
             0.8888888888888888,
             "#fdca26"
            ],
            [
             1,
             "#f0f921"
            ]
           ]
          },
          "colorway": [
           "#636efa",
           "#EF553B",
           "#00cc96",
           "#ab63fa",
           "#FFA15A",
           "#19d3f3",
           "#FF6692",
           "#B6E880",
           "#FF97FF",
           "#FECB52"
          ],
          "font": {
           "color": "#2a3f5f"
          },
          "geo": {
           "bgcolor": "white",
           "lakecolor": "white",
           "landcolor": "#E5ECF6",
           "showlakes": true,
           "showland": true,
           "subunitcolor": "white"
          },
          "hoverlabel": {
           "align": "left"
          },
          "hovermode": "closest",
          "mapbox": {
           "style": "light"
          },
          "paper_bgcolor": "white",
          "plot_bgcolor": "#E5ECF6",
          "polar": {
           "angularaxis": {
            "gridcolor": "white",
            "linecolor": "white",
            "ticks": ""
           },
           "bgcolor": "#E5ECF6",
           "radialaxis": {
            "gridcolor": "white",
            "linecolor": "white",
            "ticks": ""
           }
          },
          "scene": {
           "xaxis": {
            "backgroundcolor": "#E5ECF6",
            "gridcolor": "white",
            "gridwidth": 2,
            "linecolor": "white",
            "showbackground": true,
            "ticks": "",
            "zerolinecolor": "white"
           },
           "yaxis": {
            "backgroundcolor": "#E5ECF6",
            "gridcolor": "white",
            "gridwidth": 2,
            "linecolor": "white",
            "showbackground": true,
            "ticks": "",
            "zerolinecolor": "white"
           },
           "zaxis": {
            "backgroundcolor": "#E5ECF6",
            "gridcolor": "white",
            "gridwidth": 2,
            "linecolor": "white",
            "showbackground": true,
            "ticks": "",
            "zerolinecolor": "white"
           }
          },
          "shapedefaults": {
           "line": {
            "color": "#2a3f5f"
           }
          },
          "ternary": {
           "aaxis": {
            "gridcolor": "white",
            "linecolor": "white",
            "ticks": ""
           },
           "baxis": {
            "gridcolor": "white",
            "linecolor": "white",
            "ticks": ""
           },
           "bgcolor": "#E5ECF6",
           "caxis": {
            "gridcolor": "white",
            "linecolor": "white",
            "ticks": ""
           }
          },
          "title": {
           "x": 0.05
          },
          "xaxis": {
           "automargin": true,
           "gridcolor": "white",
           "linecolor": "white",
           "ticks": "",
           "title": {
            "standoff": 15
           },
           "zerolinecolor": "white",
           "zerolinewidth": 2
          },
          "yaxis": {
           "automargin": true,
           "gridcolor": "white",
           "linecolor": "white",
           "ticks": "",
           "title": {
            "standoff": 15
           },
           "zerolinecolor": "white",
           "zerolinewidth": 2
          }
         }
        },
        "title": {
         "text": "Simplified Neuron Model"
        }
       }
      }
     },
     "metadata": {},
     "output_type": "display_data"
    }
   ],
   "source": [
    "# Visualize the complete neuron\n",
    "fig = visualize_mesh_3d(\n",
    "    neuron, \n",
    "    title=\"Simplified Neuron Model\",\n",
    "    color=\"coral\",\n",
    "    backend=\"plotly\"\n",
    ")\n",
    "fig.show()"
   ]
  },
  {
   "cell_type": "markdown",
   "id": "19cd80da",
   "metadata": {},
   "source": [
    "## 5. Analyzing Mesh Properties\n",
    "\n",
    "Let's examine the properties of our meshes in detail:"
   ]
  },
  {
   "cell_type": "code",
   "execution_count": 10,
   "id": "9434a3af",
   "metadata": {},
   "outputs": [
    {
     "name": "stdout",
     "output_type": "stream",
     "text": [
      "\n",
      "=== Cylinder Properties ===\n",
      "Vertices: 34\n",
      "Faces: 64\n",
      "Volume: 7653.67 μm³\n",
      "Surface Area: 3274.52 μm²\n",
      "Watertight: True\n",
      "X range: -5.0 to 5.0 μm\n",
      "Y range: -5.0 to 5.0 μm\n",
      "Z range: -50.0 to 50.0 μm\n",
      "\n",
      "=== Y-Branch Properties ===\n",
      "Vertices: 180\n",
      "Faces: 112\n",
      "Volume: N/A\n",
      "Surface Area: 3584.82 μm²\n",
      "Watertight: False\n",
      "X range: -5.0 to 5.0 μm\n",
      "Y range: -30.4 to 30.4 μm\n",
      "Z range: 0.0 to 90.4 μm\n",
      "\n",
      "=== Multi-Branch Properties ===\n",
      "Vertices: 286\n",
      "Faces: 176\n",
      "Volume: N/A\n",
      "Surface Area: 5356.92 μm²\n",
      "Watertight: False\n",
      "X range: -32.1 to 32.1 μm\n",
      "Y range: -32.1 to 32.1 μm\n",
      "Z range: 0.0 to 70.5 μm\n",
      "\n",
      "=== Neuron Properties ===\n",
      "Vertices: 260\n",
      "Faces: 496\n",
      "Volume: 6984.79 μm³\n",
      "Surface Area: 4717.92 μm²\n",
      "Watertight: True\n",
      "X range: -26.7 to 26.7 μm\n",
      "Y range: -26.7 to 26.7 μm\n",
      "Z range: -100.0 to 53.0 μm\n"
     ]
    }
   ],
   "source": [
    "# Analyze properties of each mesh\n",
    "meshes = {\n",
    "    \"Cylinder\": cylinder,\n",
    "    \"Y-Branch\": y_branch, \n",
    "    \"Multi-Branch\": multi_branch,\n",
    "    \"Neuron\": neuron\n",
    "}\n",
    "\n",
    "for name, mesh in meshes.items():\n",
    "    props = analyze_mesh_properties(mesh)\n",
    "    print(f\"\\n=== {name} Properties ===\")\n",
    "    print(f\"Vertices: {props['num_vertices']}\")\n",
    "    print(f\"Faces: {props['num_faces']}\")\n",
    "    print(f\"Volume: {props['volume']:.2f} μm³\" if props['volume'] else \"Volume: N/A\")\n",
    "    print(f\"Surface Area: {props['surface_area']:.2f} μm²\")\n",
    "    print(f\"Watertight: {props['is_watertight']}\")\n",
    "    print(f\"X range: {props['bounds']['x_range'][0]:.1f} to {props['bounds']['x_range'][1]:.1f} μm\")\n",
    "    print(f\"Y range: {props['bounds']['y_range'][0]:.1f} to {props['bounds']['y_range'][1]:.1f} μm\")\n",
    "    print(f\"Z range: {props['bounds']['z_range'][0]:.1f} to {props['bounds']['z_range'][1]:.1f} μm\")"
   ]
  },
  {
   "cell_type": "markdown",
   "id": "72650cc6",
   "metadata": {},
   "source": [
    "## 6. Comparing Mesh Sizes\n",
    "\n",
    "Let's create a comparison visualization of the relative sizes:"
   ]
  },
  {
   "cell_type": "code",
   "execution_count": 11,
   "id": "eb04a46f",
   "metadata": {},
   "outputs": [
    {
     "data": {
      "application/vnd.plotly.v1+json": {
       "config": {
        "plotlyServerURL": "https://plot.ly"
       },
       "data": [
        {
         "color": "lightblue",
         "i": {
          "bdata": "AQECAgQEBQUGBgcHCAgJCQoKCwsMDA0NDg4PDxAQERESEhMTFBQVFRYWFxcYGBkZGhobGxwcHR0eHh8fICAhIQ==",
          "dtype": "i1"
         },
         "j": {
          "bdata": "AAQEBQAGBgcACAgJAAoKCwAMDA0ADg4PABAQEQASEhMAFBQVABYWFwAYGBkAGhobABwcHQAeHh8AICAhAAEBAg==",
          "dtype": "i1"
         },
         "k": {
          "bdata": "BAIFAwYFBwMIBwkDCgkLAwwLDQMODQ8DEA8RAxIREwMUExUDFhUXAxgXGQMaGRsDHBsdAx4dHwMgHyEDASECAw==",
          "dtype": "i1"
         },
         "opacity": 0.8,
         "scene": "scene",
         "type": "mesh3d",
         "x": {
          "bdata": "AAAAAAAAAAAAAAAAAAAUQAAAAAAAABRAAAAAAAAAAABMmH9hQ3oSQEyYf2FDehJAwAofAMZIDEDACh8AxkgMQL1TWlBbnf4/vVNaUFud/j8Jc9m/rw+2PAlz2b+vD7Y8ulNaUFud/r+6U1pQW53+v78KHwDGSAzAvwofAMZIDMBMmH9hQ3oSwEyYf2FDehLAAAAAAAAAFMAAAAAAAAAUwEyYf2FDehLATJh/YUN6EsDCCh8AxkgMwMIKHwDGSAzAyFNaUFud/r/IU1pQW53+v0YW48/Di9C8Rhbjz8OL0LzBU1pQW53+P8FTWlBbnf4/vgofAMZIDEC+Ch8AxkgMQEqYf2FDehJASph/YUN6EkA=",
          "dtype": "f8"
         },
         "y": {
          "bdata": "AAAAAAAAAAAAAAAAAAAAAAAAAAAAAAAAAAAAAAAAAAC8U1pQW53+P7xTWlBbnf4/vwofAMZIDEC/Ch8AxkgMQEyYf2FDehJATJh/YUN6EkAAAAAAAAAUQAAAAAAAABRATJh/YUN6EkBMmH9hQ3oSQMAKHwDGSAxAwAofAMZIDEC+U1pQW53+P75TWlBbnf4/CXPZv68PxjwJc9m/rw/GPLlTWlBbnf6/uVNaUFud/r+/Ch8AxkgMwL8KHwDGSAzASph/YUN6EsBKmH9hQ3oSwAAAAAAAABTAAAAAAAAAFMBLmH9hQ3oSwEuYf2FDehLAwgofAMZIDMDCCh8AxkgMwMpTWlBbnf6/ylNaUFud/r8=",
          "dtype": "f8"
         },
         "z": {
          "bdata": "AAAAAAAAScAAAAAAAABJwAAAAAAAAElAAAAAAAAASUAAAAAAAABJwAAAAAAAAElAAAAAAAAAScAAAAAAAABJQAAAAAAAAEnAAAAAAAAASUAAAAAAAABJwAAAAAAAAElAAAAAAAAAScAAAAAAAABJQAAAAAAAAEnAAAAAAAAASUAAAAAAAABJwAAAAAAAAElAAAAAAAAAScAAAAAAAABJQAAAAAAAAEnAAAAAAAAASUAAAAAAAABJwAAAAAAAAElAAAAAAAAAScAAAAAAAABJQAAAAAAAAEnAAAAAAAAASUAAAAAAAABJwAAAAAAAAElAAAAAAAAAScAAAAAAAABJQAAAAAAAAEnAAAAAAAAASUA=",
          "dtype": "f8"
         }
        },
        {
         "color": "lightgreen",
         "i": {
          "bdata": "AQACAAQAAwAHAAgABgAFAAsADAAKAAkADgANABkAGAAXABYAHQAcABUAFAARABMAGgAbAB4AHwAiACMAJwAmACsAKgAuAC8AMgAzADcANgA6ADsAPwA+AEMAQgBIAEkASwBMAE4ATQBRAFAAVABWAFgAVwBaAFkAWwBcAF4AXQBhAGIAZgBlAG0AbgBsAGsAbwBwAHQAcwB4AHcAfQB+AIAAggCEAIMAhgCFAIkAiwCNAIwAjwCOAJAAkQCTAJIAlgCXAJwAmwCiAKMAoQCgAKQApQCpAKgArQCsALIAswA=",
          "dtype": "i2"
         },
         "j": {
          "bdata": "AAAAAAAAAAAAAAAAAAAAAAAAAAAAAAAADwAPABoAGQAYABcAEQAdABYAFQATABQAGwAcACAAIAAkACQAKAAoACwALAAwADAANAA0ADgAOAA8ADwAQABAAEQARABGAEYASgBKAEoASgBSAFIAVgBXAFkAWABbAFoAXABUAF8AXwBjAGMAZwBnAGkAaQBpAGkAcQBxAHUAdQB5AHkAewB7AH8AfwB/AH8AhwCHAIsAjACOAI0AkACPAJEAiQCUAJQAmACYAJoAmgCeAJ4AngCeAKYApgCqAKoArgCuALAAsAA=",
          "dtype": "i2"
         },
         "k": {
          "bdata": "AgADAAUABAAIAAkABwAGAAwAAQALAAoAEAAOABIAEgASABIAEgASABIAEgASABIAEgASAB8AIQAjACUAKQAnAC0AKwAvADEAMwA1ADkANwA7AD0AQQA/AEUAQwBJAEcATABNAE8ATgBTAFEAVQBVAFUAVQBVAFUAVQBVAGAAXgBiAGQAaABmAG4AagBtAGwAcAByAHYAdAB6AHgAfgB8AIIAgwCBAIQAiACGAIoAigCKAIoAigCKAIoAigCVAJMAlwCZAJ0AnACjAJ8AogChAKUApwCrAKkArwCtALMAsQA=",
          "dtype": "i2"
         },
         "opacity": 0.8,
         "scene": "scene2",
         "type": "mesh3d",
         "x": {
          "bdata": "AAAAAAAAAAAAAAAAAAAUQOsvN9EMUhFAAQAAAAAABEAJc9m/rw+2PP7//////wPA6i830QxSEcAAAAAAAAAUwOwvN9EMUhHABQAAAAAABMBGFuPPw4vQvPj//////wNA6S830QxSEUAAAAAAAAAUQAAAAAAAABRA6y830QxSEUDrLzfRDFIRQAAAAAAAABRAAAAAAAAAAADrLzfRDFIRQAEAAAAAAARACXPZv68Ptjz+//////8DwOovN9EMUhHAAAAAAAAAFMDsLzfRDFIRwAUAAAAAAATARhbjz8OL0Lz4//////8DQOkvN9EMUhFA6y830QxSEUDrLzfRDFIRQAEAAAAAAARAAQAAAAAABEABAAAAAAAEQAEAAAAAAARACXPZv68PtjwJc9m/rw+2PAlz2b+vD7Y8CXPZv68Ptjz+//////8DwP7//////wPA/v//////A8D+//////8DwOovN9EMUhHA6i830QxSEcDqLzfRDFIRwOovN9EMUhHAAAAAAAAAFMAAAAAAAAAUwAAAAAAAABTAAAAAAAAAFMDsLzfRDFIRwOwvN9EMUhHA7C830QxSEcDsLzfRDFIRwAUAAAAAAATABQAAAAAABMAFAAAAAAAEwAUAAAAAAATARhbjz8OL0LxGFuPPw4vQvEYW48/Di9C8Rhbjz8OL0Lz4//////8DQPj//////wNA+P//////A0D4//////8DQOkvN9EMUhFA6S830QxSEUAAAAAAAAAUQAAAAAAAABRA6S830QxSEUDpLzfRDFIRQAAAAAAAAAAAAAAAAAAACEDabN/MdvgAQAqKnkw5eao82WzfzHb4AMAAAAAAAAAIwAAAAAAAAAhAAAAAAAAACEDabN/MdvgAQNps38x2+ABAAAAAAAAACEAAAAAAAAAAANps38x2+ABACoqeTDl5qjzZbN/MdvgAwAAAAAAAAAjA2mzfzHb4AMCI53b56trDvNhs38x2+ABA2mzfzHb4AEDabN/MdvgAQAqKnkw5eao8CoqeTDl5qjwKip5MOXmqPAqKnkw5eao82WzfzHb4AMDZbN/MdvgAwNls38x2+ADA2WzfzHb4AMAAAAAAAAAIwAAAAAAAAAjAAAAAAAAAAAAAAAAAAAAIQAAAAAAAAAjA2mzfzHb4AMCI53b56trDvNhs38x2+ABAAAAAAAAACMAAAAAAAAAIwNps38x2+ADA2mzfzHb4AMDabN/MdvgAwNps38x2+ADAiOd2+eraw7yI53b56trDvIjndvnq2sO8iOd2+eraw7zYbN/MdvgAQNhs38x2+ABAAAAAAAAACEAAAAAAAAAIQNhs38x2+ABA2GzfzHb4AEAAAAAAAAAAAAAAAAAAAAhAAAAAAAAACMDabN/MdvgAQHCYzaBv7pU82WzfzHb4AMAAAAAAAAAIQAgAAAAAAAhA2mzfzHb4AEDibN/MdvgAQAgAAAAAAAhAinKE7Qgz7zzibN/MdvgAQE7fimp84u880WzfzHb4AMD4//////8HwNJs38x2+ADAhjTqRm406zzgbN/MdvgAQNps38x2+ABA4mzfzHb4AEBwmM2gb+6VPE7fimp84u88cJjNoG/ulTxO34pqfOLvPNls38x2+ADA0WzfzHb4AMAAAAAAAAAIwNls38x2+ADA0WzfzHb4AMD4//////8HwAAAAAAAAAAAAAAAAAAACEAAAAAAAAAIwNps38x2+ADAKPDRNNX0v7zYbN/MdvgAQAAAAAAAAAjA+P//////B8DabN/MdvgAwNJs38x2+ADA2mzfzHb4AMDSbN/MdvgAwCjw0TTV9L+8hjTqRm406zwo8NE01fS/vIY06kZuNOs82GzfzHb4AEDgbN/MdvgAQAAAAAAAAAhACAAAAAAACEDYbN/MdvgAQOBs38x2+ABA",
          "dtype": "f8"
         },
         "y": {
          "bdata": "AAAAAAAAAAAAAAAAAAAAAP///////wNA6i830QxSEUAAAAAAAAAUQOsvN9EMUhFABAAAAAAABEAJc9m/rw/GPP3//////wPA6S830QxSEcAAAAAAAAAUwO0vN9EMUhHABQAAAAAABMAAAAAAAAAAAAAAAAAAAAAA////////A0D///////8DQAAAAAAAAAAAAAAAAAAAAAD///////8DQOovN9EMUhFAAAAAAAAAFEDrLzfRDFIRQAQAAAAAAARACXPZv68Pxjz9//////8DwOkvN9EMUhHAAAAAAAAAFMDtLzfRDFIRwAUAAAAAAATA////////A0D///////8DQOovN9EMUhFA6i830QxSEUDqLzfRDFIRQOovN9EMUhFAAAAAAAAAFEAAAAAAAAAUQAAAAAAAABRAAAAAAAAAFEDrLzfRDFIRQOsvN9EMUhFA6y830QxSEUDrLzfRDFIRQAQAAAAAAARABAAAAAAABEAEAAAAAAAEQAQAAAAAAARACXPZv68PxjwJc9m/rw/GPAlz2b+vD8Y8CXPZv68Pxjz9//////8DwP3//////wPA/f//////A8D9//////8DwOkvN9EMUhHA6S830QxSEcDpLzfRDFIRwOkvN9EMUhHAAAAAAAAAFMAAAAAAAAAUwAAAAAAAABTAAAAAAAAAFMDtLzfRDFIRwO0vN9EMUhHA7S830QxSEcDtLzfRDFIRwAUAAAAAAATABQAAAAAABMAAAAAAAAAAAAAAAAAAAAAABQAAAAAABMAFAAAAAAAEwAAAAAAAAAAAAAAAAAAAAAAAAAAAAAD4P9xs38x2+ABAAAAAAAAA+D8AAAAAAAAAAAAAAAAAAAAAvwofAMZIPMAAAAAAAAD4P78KHwDGyDrAvwofAMZIPMC/Ch8Axkg8wL8KHwDGyDrAJB2DJrcpOsC/Ch8Axsg6wL8KHwDGSDzAvwofAMbIPcBa+LrZ1Gc+wL8KHwDGyD3AAAAAAAAA+D+/Ch8Axsg6wNxs38x2+ABAJB2DJrcpOsDcbN/MdvgAQCQdgya3KTrAAAAAAAAA+D+/Ch8Axsg6wAAAAAAAAPg/vwofAMbIOsAAAAAAAAAAAL8KHwDGSDzAAAAAAAAAAAAAAAAAAAAAAAAAAAAAAAAAAAAAAAAA+L/cbN/MdvgAwAAAAAAAAPi/AAAAAAAAAAC/Ch8Axkg8wAAAAAAAAPi/vwofAMbIPcAAAAAAAAD4v78KHwDGyD3A3GzfzHb4AMBa+LrZ1Gc+wNxs38x2+ADAWvi62dRnPsAAAAAAAAD4v78KHwDGyD3AAAAAAAAAAAC/Ch8Axkg8wAAAAAAAAPi/vwofAMbIPcAAAAAAAAAAAAAAAAAAAAAAAAAAAAAAAAAAAAAAAAD4P9xs38x2+ABAAAAAAAAA+D8AAAAAAAAAAL8KHwDGSDxAAAAAAAAA+D+/Ch8Axsg9QL8KHwDGSDxAvwofAMZIPEC/Ch8Axsg9QFr4utnUZz5AvwofAMbIPUC/Ch8Axkg8QL8KHwDGyDpAJB2DJrcpOkC/Ch8Axsg6QAAAAAAAAPg/vwofAMbIPUDcbN/MdvgAQFr4utnUZz5A3GzfzHb4AEBa+LrZ1Gc+QAAAAAAAAPg/vwofAMbIPUAAAAAAAAAAAAAAAAAAAPg/vwofAMbIPUC/Ch8Axkg8QAAAAAAAAAAAAAAAAAAAAAAAAAAAAAAAAAAAAAAAAPi/3GzfzHb4AMAAAAAAAAD4vwAAAAAAAAAAvwofAMZIPEAAAAAAAAD4v78KHwDGyDpAAAAAAAAA+L+/Ch8Axsg6QNxs38x2+ADAJB2DJrcpOkDcbN/MdvgAwCQdgya3KTpAAAAAAAAA+L+/Ch8Axsg6QAAAAAAAAAAAvwofAMZIPEAAAAAAAAD4v78KHwDGyDpA",
          "dtype": "f8"
         },
         "z": {
          "bdata": "AAAAAAAAAAAAAAAAAAAAAAAAAAAAAAAAAAAAAAAAAAAAAAAAAAAAAAAAAAAAAAAAAAAAAAAAAAAAAAAAAAAAAAAAAAAAAAAAAAAAAAAAAAAAAAAAAAAAAAAAAAAAAAAAAAAAAAAAAAAAAAAAAAAAAAAAAAAAAE5AAAAAAAAAAAAAAAAAAABOQAAAAAAAAE5AAAAAAAAATkAAAAAAAABOQAAAAAAAAE5AAAAAAAAATkAAAAAAAABOQAAAAAAAAE5AAAAAAAAATkAAAAAAAABOQAAAAAAAAE5AAAAAAAAATkAAAAAAAABOQAAAAAAAAE5AAAAAAAAAAAAAAAAAAABOQAAAAAAAAAAAAAAAAAAATkAAAAAAAAAAAAAAAAAAAE5AAAAAAAAAAAAAAAAAAABOQAAAAAAAAAAAAAAAAAAATkAAAAAAAAAAAAAAAAAAAE5AAAAAAAAAAAAAAAAAAABOQAAAAAAAAAAAAAAAAAAATkAAAAAAAAAAAAAAAAAAAE5AAAAAAAAAAAAAAAAAAABOQAAAAAAAAAAAAAAAAAAATkAAAAAAAAAAAAAAAAAAAE5AAAAAAAAAAAAAAAAAAABOQAAAAAAAAAAAAAAAAAAATkAAAAAAAAAAAAAAAAAAAE5AAAAAAAAAAAAAAAAAAABOQAAAAAAAAAAAAAAAAAAATkAAAAAAAAAAAAAAAAAAAE5AAAAAAAAAAAAAAAAAAABOQAAAAAAAAAAAAAAAAAAATkAAAAAAAAAAAAAAAAAAAE5AAAAAAAAAAAAAAAAAAABOQAAAAAAAAE5AAAAAAAAATkAAAAAAAMBOQM72zWyHD09AAAAAAADATkAAAAAAAABOQAAAAAAAAE5AsMIHgDESVkAAAAAAAMBOQLDCB4AxclZAsMIHgDESVkCwwgeAMRJWQLDCB4AxclZAF75uNvWZVkCwwgeAMXJWQLDCB4AxElZAsMIHgDGyVUBJx6DJbYpVQLDCB4AxslVAAAAAAADATkCwwgeAMXJWQM72zWyHD09AF75uNvWZVkDO9s1shw9PQBe+bjb1mVZAAAAAAADATkCwwgeAMXJWQAAAAAAAwE5AsMIHgDFyVkAAAAAAAABOQLDCB4AxElZAAAAAAAAATkAAAAAAAABOQAAAAAAAAE5AAAAAAABATUAyCTKTePBMQAAAAAAAQE1AAAAAAAAATkCwwgeAMRJWQAAAAAAAQE1AsMIHgDGyVUAAAAAAAEBNQLDCB4AxslVAMgkyk3jwTEBJx6DJbYpVQDIJMpN48ExAScegyW2KVUAAAAAAAEBNQLDCB4AxslVAAAAAAAAATkCwwgeAMRJWQAAAAAAAQE1AsMIHgDGyVUAAAAAAAABOQAAAAAAAAE5AAAAAAAAATkAAAAAAAEBNQDIJMpN48ExAAAAAAABATUAAAAAAAABOQLDCB4AxElZAAAAAAABATUCwwgeAMbJVQLDCB4AxElZAsMIHgDESVkCwwgeAMbJVQEnHoMltilVAsMIHgDGyVUCwwgeAMRJWQLDCB4AxclZAF75uNvWZVkCwwgeAMXJWQAAAAAAAQE1AsMIHgDGyVUAyCTKTePBMQEnHoMltilVAMgkyk3jwTEBJx6DJbYpVQAAAAAAAQE1AsMIHgDGyVUAAAAAAAABOQAAAAAAAQE1AsMIHgDGyVUCwwgeAMRJWQAAAAAAAAE5AAAAAAAAATkAAAAAAAABOQAAAAAAAwE5AzvbNbIcPT0AAAAAAAMBOQAAAAAAAAE5AsMIHgDESVkAAAAAAAMBOQLDCB4AxclZAAAAAAADATkCwwgeAMXJWQM72zWyHD09AF75uNvWZVkDO9s1shw9PQBe+bjb1mVZAAAAAAADATkCwwgeAMXJWQAAAAAAAAE5AsMIHgDESVkAAAAAAAMBOQLDCB4AxclZA",
          "dtype": "f8"
         }
        },
        {
         "color": "orange",
         "i": {
          "bdata": "AQACAAQAAwAHAAgABgAFAAsADAAKAAkADgANABkAGAAXABYAHQAcABUAFAARABMAGgAbAB4AHwAiACMAJwAmACsAKgAuAC8AMgAzADcANgA6ADsAPwA+AEMAQgBIAEkASwBMAE4ATQBRAFAAVABWAFgAVwBaAFkAWwBcAF4AXQBhAGIAZgBlAG0AbgBsAGsAbwBwAHQAcwB4AHcAfQB+AIAAgQCDAIQAhgCFAIkAiwCPAI4AkQCQAI0AjACTAJIAlwCYAJoAmQCcAJ0AoQCgAKQApQCpAKgArQCsALIAswC1ALcAuQC4ALsAugC+AMAAwgDBAMQAwwDFAMYAyADHAMsAzADRANAA1wDYANYA1QDZANoA3gDdAOIA4QDnAOgA7ADtAOsA7gDwAO8A8wD1APkA+AD7APoA9wD2AP4A/QABAQMBBQEEAQYBBwELAQoBDgEPARQBEwEXARYBHAEdAQ==",
          "dtype": "i2"
         },
         "j": {
          "bdata": "AAAAAAAAAAAAAAAAAAAAAAAAAAAAAAAADwAPABoAGQAYABcAEQAdABYAFQATABQAGwAcACAAIAAkACQAKAAoACwALAAwADAANAA0ADgAOAA8ADwAQABAAEQARABGAEYASgBKAEoASgBSAFIAVgBXAFkAWABbAFoAXABUAF8AXwBjAGMAZwBnAGkAaQBpAGkAcQBxAHUAdQB5AHkAewB7AH8AfwB/AH8AhwCHAIsAjACQAI8AiQCRAI4AjQCUAJQAlgCWAJYAlgCeAJ4AogCiAKYApgCqAKoArgCuALAAsAC0ALQAtAC0ALwAvADAAMEAwwDCAMUAxADGAL4AyQDJAM0AzQDPAM8A0wDTANMA0wDbANsA3wDfAOMA4wDlAOUA6QDpAOkA6QDxAPEA9QD2APoA+QDzAPsA+AD3APwA/AAAAQABAAEAAQgBCAEMAQwBEAEQARIBEgEYARgBGgEaAQ==",
          "dtype": "i2"
         },
         "k": {
          "bdata": "AgADAAUABAAIAAkABwAGAAwAAQALAAoAEAAOABIAEgASABIAEgASABIAEgASABIAEgASAB8AIQAjACUAKQAnAC0AKwAvADEAMwA1ADkANwA7AD0AQQA/AEUAQwBJAEcATABNAE8ATgBTAFEAVQBVAFUAVQBVAFUAVQBVAGAAXgBiAGQAaABmAG4AagBtAGwAcAByAHYAdAB6AHgAfgB8AIEAggCEAIAAiACGAIoAigCKAIoAigCKAIoAigCVAJMAmACZAJsAmgCdAJ8AowChAKUApwCrAKkArwCtALMAsQC3ALgAtgC5AL0AuwC/AL8AvwC/AL8AvwC/AL8AygDIAMwAzgDSANEA2ADUANcA1gDaANwA4ADeAOQA4gDoAOYA7QDqAO4A7ADyAPAA9AD0APQA9AD0APQA9AD0AP8A/gADAQQBAgEFAQcBCQENAQsBDwERARUBFAEZARcBHQEbAQ==",
          "dtype": "i2"
         },
         "opacity": 0.8,
         "scene": "scene3",
         "type": "mesh3d",
         "x": {
          "bdata": "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",
          "dtype": "f8"
         },
         "y": {
          "bdata": "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",
          "dtype": "f8"
         },
         "z": {
          "bdata": "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",
          "dtype": "f8"
         }
        },
        {
         "color": "coral",
         "i": {
          "bdata": "AACJADUAiQAlAIoAmgCKABAAmAA2AJgAJQCaAIsAmgAAADUAKgA1ABAANgA7ADYADAA6ACsAOgAQADsANwA7AAAAKgBFACoADAArAEoAKwAVAEsARgBLAAwASgBHAEoAAABFAHgARQAVAEYAhQBGACEAhwB5AIcAFQCFAHoAhQAAAHgAiQB4ACEAeQCeAHkAJQCgAIoAoAAhAJ4AjACeAAEAOABfADgAEQA5AG4AOQAcAHAAYABwABEAbgBhAG4ABQCWAD0AlgAoAJcAmwCXABIAlAA8AJQAKACbAJkAmwALAJ0AjgCdACkAnACfAJwAJgCQAI0AkAApAJ8AoQCfAAoAhAB/AIQAJACDAIYAgwAjAIEAfgCBACQAhgCIAIYABwBJAFkASQAWAEgAUABIABsAXQBaAF0AFgBQAFsAUAADAGMAMQBjAB0AZABrAGQADwBpADIAaQAdAGsAZQBrAAMAMQAtADEADwAyADQAMgANADAALAAwAA8ANAAzADQAAwAtAEEALQANACwAQAAsABQARABCAEQADQBAAEMAQAADAEEAUQBBABQAQgBWAEIAGQBYAFIAWAAUAFYAUwBWAAMAUQBjAFEAGQBSAHUAUgAdAHcAZAB3ABkAdQBmAHUABABnADwAZwAeAGgAcQBoABIAbwA9AG8AHgBxAGoAcQACAC4AjQAuAA4ALwCTAC8AJgCVAI4AlQAOAJMAjwCTAAYAPwB+AD8AEwA+AH0APgAjAIIAfwCCABMAfQCAAH0ACABVAFoAVQAaAFQAVwBUABsAXABZAFwAGgBXAF4AVwAJAHMAYABzACAAcgB0AHIAHABiAF8AYgAgAHQAdgB0AKMAowCkAKQApgCmAKcApwCoAKgAqQCpAKoAqgCrAKsArACsAK0ArQCuAK4ArwCvALAAsACxALEAsgCyALMAswC0ALQAtQC1ALYAtgC3ALcAuAC4ALkAuQC6ALoAuwC7AL0AvQC+AL4AwADAAMEAwQDCAMIAwwDDAMQAxADFAMUAxgDGAMcAxwDIAMgAyQDJAMoAygDLAMsAzADMAM0AzQDPAM8A0ADQANIA0gDTANMA1ADUANUA1QDWANYA1wDXANgA2ADZANkA2gDaANsA2wDcANwA3QDdAN4A3gDfAN8A4QDhAOIA4gDkAOQA5QDlAOYA5gDnAOcA6ADoAOkA6QDqAOoA6wDrAOwA7ADtAO0A7gDuAO8A7wDwAPAA8QDxAPMA8wD0APQA9gD2APcA9wD4APgA+QD5APoA+gD7APsA/AD8AP0A/QD+AP4A/wD/AAABAAEBAQEBAgECAQMBAwE=",
          "dtype": "i2"
         },
         "j": {
          "bdata": "iQAlAIsAiwCKAAsAlwCXAJgAKACWAJYAmgAoAJgAmAA1ABAANwA3ADYABQA5ADkAOgARADgAOAA7ABEAOgA6ACoADABHAEcAKwABAEgASABLABYASQBJAEoAFgBLAEsARQAVAHoAegBGAAcAgwCDAIcAJACEAIQAhQAkAIcAhwB4ACEAjACMAHkACgCcAJwAoAApAJ0AnQCeACkAoACgADgAEQBhAGEAOQAFAGwAbABwAB8AbQBtAG4AHwBwAHAAlgAoAJkAmQCXAAsAkgCSAJQAJwCRAJEAmwAnAJQAlACdACkAoQChAJwACgB8AHwAkAAiAHsAewCfACIAkACQAIQAJACIAIgAgwAHAE0ATQCBABcATABMAIYAFwCBAIEASQAWAFsAWwBIAAEATgBOAF0AGABPAE8AUAAYAF0AXQBjAB0AZQBlAGQACQBoAGgAaQAeAGcAZwBrAB4AaQBpADEADwAzADMAMgAEAC8ALwAwAA4ALgAuADQADgAwADAALQANAEMAQwAsAAIAPgA+AEQAEwA/AD8AQAATAEQARABBABQAUwBTAEIABgBUAFQAWAAaAFUAVQBWABoAWABYAFEAGQBmAGYAUgAIAHIAcgB3ACAAcwBzAHUAIAB3AHcAZwAeAGoAagBoAAkAbQBtAG8AHwBsAGwAcQAfAG8AbwAuAA4AjwCPAC8ABACRAJEAlQAnAJIAkgCTACcAlQCVAD8AEwCAAIAAPgACAHsAewCCACIAfAB8AH0AIgCCAIIAVQAaAF4AXgBUAAYATABMAFwAFwBNAE0AVwAXAFwAXABzACAAdgB2AHIACABPAE8AYgAYAE4ATgB0ABgAYgBiAKIApgCmAKcAogCoAKgAqQCiAKoAqgCrAKIArACsAK0AogCuAK4ArwCiALAAsACxAKIAsgCyALMAogC0ALQAtQCiALYAtgC3AKIAuAC4ALkAogC6ALoAuwCiAKMAowCkALwAwADAAMEAvADCAMIAwwC8AMQAxADFALwAxgDGAMcAvADIAMgAyQC8AMoAygDLALwAzADMAM0AvAC9AL0AvgDOANIA0gDTAM4A1ADUANUAzgDWANYA1wDOANgA2ADZAM4A2gDaANsAzgDcANwA3QDOAN4A3gDfAM4AzwDPANAA4ADkAOQA5QDgAOYA5gDnAOAA6ADoAOkA4ADqAOoA6wDgAOwA7ADtAOAA7gDuAO8A4ADwAPAA8QDgAOEA4QDiAPIA9gD2APcA8gD4APgA+QDyAPoA+gD7APIA/AD8AP0A8gD+AP4A/wDyAAABAAEBAfIAAgECAQMB8gDzAPMA9AA=",
          "dtype": "i2"
         },
         "k": {
          "bdata": "NQCLABAANQCaAJcAKACaADYAlgAFADYAiwCYABAAiwAqADcADAAqADsAOQARADsAKwA4AAEAKwA3ADoADAA3AEUARwAVAEUASgBIABYASgBGAEkABwBGAEcASwAVAEcAeAB6ACEAeACFAIMAJACFAHkAhAAKAHkAegCHACEAegCJAIwAJQCJAJ4AnAApAJ4AigCdAAsAigCMAKAAJQCMAF8AYQAcAF8AbgBsAB8AbgBgAG0ACQBgAGEAcAAcAGEAPQCZABIAPQCbAJIAJwCbADwAkQAEADwAmQCUABIAmQCOAKEAJgCOAJ8AfAAiAJ8AjQB7AAIAjQChAJAAJgChAH8AiAAjAH8AhgBNABcAhgB+AEwABgB+AIgAgQAjAIgAWQBbABsAWQBQAE4AGABQAFoATwAIAFoAWwBdABsAWwAxAGUADwAxAGsAaAAeAGsAMgBnAAQAMgBlAGkADwBlAC0AMwANAC0ANAAvAA4ANAAsAC4AAgAsADMAMAANADMAQQBDABQAQQBAAD4AEwBAAEIAPwAGAEIAQwBEABQAQwBRAFMAGQBRAFYAVAAaAFYAUgBVAAgAUgBTAFgAGQBTAGMAZgAdAGMAdQByACAAdQBkAHMACQBkAGYAdwAdAGYAPABqABIAPABxAG0AHwBxAD0AbAAFAD0AagBvABIAagCNAI8AJgCNAJMAkQAnAJMAjgCSAAsAjgCPAJUAJgCPAH4AgAAjAH4AfQB7ACIAfQB/AHwACgB/AIAAggAjAIAAWgBeABsAWgBXAEwAFwBXAFkATQAHAFkAXgBcABsAXgBgAHYAHABgAHQATwAYAHQAXwBOAAEAXwB2AGIAHAB2AKYApACnAKUAqACnAKkApQCqAKkAqwClAKwAqwCtAKUArgCtAK8ApQCwAK8AsQClALIAsQCzAKUAtACzALUApQC2ALUAtwClALgAtwC5AKUAugC5ALsApQCjALsApAClAMAAvgDBAL8AwgDBAMMAvwDEAMMAxQC/AMYAxQDHAL8AyADHAMkAvwDKAMkAywC/AMwAywDNAL8AvQDNAL4AvwDSANAA0wDRANQA0wDVANEA1gDVANcA0QDYANcA2QDRANoA2QDbANEA3ADbAN0A0QDeAN0A3wDRAM8A3wDQANEA5ADiAOUA4wDmAOUA5wDjAOgA5wDpAOMA6gDpAOsA4wDsAOsA7QDjAO4A7QDvAOMA8ADvAPEA4wDhAPEA4gDjAPYA9AD3APUA+AD3APkA9QD6APkA+wD1APwA+wD9APUA/gD9AP8A9QAAAf8AAQH1AAIBAQEDAfUA8wADAfQA9QA=",
          "dtype": "i2"
         },
         "opacity": 0.8,
         "scene": "scene4",
         "type": "mesh3d",
         "x": {
          "bdata": "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",
          "dtype": "f8"
         },
         "y": {
          "bdata": "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",
          "dtype": "f8"
         },
         "z": {
          "bdata": "AAAAAAAAAAAAAAAAAAAAAAAAAAAAAAAAAAAAAAAAAABvwgsHVQMhQG/CCwdVAyFAb8ILB1UDIcBvwgsHVQMhwNGnCZF8BxXA0acJkXwHFUDRpwmRfAcVwNGnCZF8BxVAAAAAAAAAAAAAAAAAAAAAAAAAAAAAABRAAAAAAAAAFEAAAAAAAAAUQAAAAAAAABRAAAAAAAAAJEAAAAAAAAAUwAAAAAAAABTAAAAAAAAAFMAAAAAAAAAUwAAAAAAAACTApOP7BKu4CMCk4/sEq7gIwOj4PsEqLiDA6Pg+wSouIMCk4/sEq7gIQKTj+wSruAhA6Pg+wSouIEDo+D7BKi4gQAAAAAAAAAAApOP7BKu4CMCk4/sEq7gIwOj4PsEqLiDA6Pg+wSouIMCk4/sEq7gIQKTj+wSruAhA6Pg+wSouIEDo+D7BKi4gQAAAAAAAAAAAAAAAAAAAAAAAAAAAAAAAAAAAAAAAAAAAAAAAAAAAAAD4DeUclsoEQLV316H0FBxA0acJkXwHBUD4DeUclsoEQLV316H0FBxA0acJkXwHBUDQpwmRfAcVQPgN5RyWygRAtXfXofQUHEDRpwmRfAcFQPgN5RyWygRAtXfXofQUHEDRpwmRfAcFQNCnCZF8BxVAWP8k2B89I0BY/yTYHz0jQPgN5RyWygTAtXfXofQUHMDRpwmRfAcFwPgN5RyWygTAtXfXofQUHMDRpwmRfAcFwNCnCZF8BxXA+A3lHJbKBMC1d9eh9BQcwNGnCZF8BwXA+A3lHJbKBMC1d9eh9BQcwNGnCZF8BwXA0KcJkXwHFcBY/yTYHz0jwFj/JNgfPSPAC4nOHRSz+b8GfbLWBFsRwG/CCwdVAxHAC4nOHRSz+b8GfbLWBFsRwG/CCwdVAxHA/Iyl1NxAIcACBCXlT8AbwFeWkE8ThxvAILUKzGgFI8D1sJLF64IXwPyMpdTcQCHAAgQl5U/AG8BXlpBPE4cbwCC1CsxoBSPA9bCSxeuCF8BvwgsHVQMhwAuJzh0Us/k/Bn2y1gRbEUBvwgsHVQMRQAAAAAAAAAAAC4nOHRSz+T8GfbLWBFsRQG/CCwdVAxFAAAAAAAAAAAD8jKXU3EAhQAIEJeVPwBtAV5aQTxOHG0AgtQrMaAUjQPWwksXrghdA/Iyl1NxAIUACBCXlT8AbQFeWkE8ThxtAILUKzGgFI0D1sJLF64IXQG/CCwdVAyFAhbV9nn/cBcCFtX2ef9wFQB26G/pa/vm/Hbob+lr++b8duhv6Wv75Px26G/pa/vk/C4nOHRSz+b8GfbLWBFsRwG/CCwdVAxHAC4nOHRSz+b8GfbLWBFsRwG/CCwdVAxHA/Iyl1NxAIcACBCXlT8AbwFeWkE8ThxvAILUKzGgFI8D1sJLF64IXwPyMpdTcQCHAAgQl5U/AG8BXlpBPE4cbwCC1CsxoBSPA9bCSxeuCF8BvwgsHVQMhwAuJzh0Us/k/Bn2y1gRbEUBvwgsHVQMRQAAAAAAAAAAAC4nOHRSz+T8GfbLWBFsRQG/CCwdVAxFAAAAAAAAAAAD8jKXU3EAhQAIEJeVPwBtAV5aQTxOHG0AgtQrMaAUjQPWwksXrghdA/Iyl1NxAIUACBCXlT8AbQFeWkE8ThxtAILUKzGgFI0D1sJLF64IXQG/CCwdVAyFAhbV9nn/cBcCFtX2ef9wFQB26G/pa/vm/Hbob+lr++b8duhv6Wv75Px26G/pa/vk/AAAAAAAAWcAAAAAAAABZwAAAAAAAAAAAAAAAAAAAAAAAAAAAAABZwAAAAAAAAAAAAAAAAAAAWcAAAAAAAAAAAAAAAAAAAFnAAAAAAAAAAAAAAAAAAABZwAAAAAAAAAAAAAAAAAAAWcAAAAAAAAAAAAAAAAAAAFnAAAAAAAAAAAAAAAAAAABZwAAAAAAAAAAAAAAAAAAAWcAAAAAAAAAAAAAAAAAAAFnAAAAAAAAAAAAAAAAAAABZwAAAAAAAAAAAAAAAAAAAWcAAAAAAAAAAAOwvN9EMUiFA7C830QxSIUDhx9I5E/tJQOHH0jkT+0lAqiOftxa8IkDQxGyzlVVKQOwvN9EMUiNA4cfSORN7SkCqI5+3FrwiQNDEbLOVVUpA7C830QxSIUDhx9I5E/tJQGB4ntUF0B9A8so4wJCgSUDYX26iGaQeQOHH0jkTe0lAYHie1QXQH0DyyjjAkKBJQOwvN9EMUiFA2F9uohmkHkDhx9I5E3tJQOHH0jkT+0lAYHie1QXQH0DyyjjAkKBJQOwvN9EMUiFA4cfSORP7SUCqI5+3FrwiQNDEbLOVVUpA7C830QxSI0Dhx9I5E3tKQKojn7cWvCJA0MRss5VVSkDsLzfRDFIhQOHH0jkT+0lAYHie1QXQH0DyyjjAkKBJQOwvN9EMUiFA7C830QxSIUDhx9I5E/tJQOHH0jkT+0lAYHie1QXQH0DyyjjAkKBJQNhfbqIZpB5A4cfSORN7SUBgeJ7VBdAfQPLKOMCQoElA7C830QxSIUDhx9I5E/tJQKojn7cWvCJA0MRss5VVSkDsLzfRDFIjQOHH0jkTe0pAqiOftxa8IkDQxGyzlVVKQOwvN9EMUiFA7C830QxSI0Dhx9I5E3tKQOHH0jkT+0lAqiOftxa8IkDQxGyzlVVKQOwvN9EMUiFA4cfSORP7SUBgeJ7VBdAfQPLKOMCQoElA2F9uohmkHkDhx9I5E3tJQGB4ntUF0B9A8so4wJCgSUDsLzfRDFIhQOHH0jkT+0lAqiOftxa8IkDQxGyzlVVKQA==",
          "dtype": "f8"
         }
        }
       ],
       "layout": {
        "annotations": [
         {
          "font": {
           "size": 16
          },
          "showarrow": false,
          "text": "Cylinder",
          "x": 0.225,
          "xanchor": "center",
          "xref": "paper",
          "y": 1,
          "yanchor": "bottom",
          "yref": "paper"
         },
         {
          "font": {
           "size": 16
          },
          "showarrow": false,
          "text": "Y-Branch",
          "x": 0.775,
          "xanchor": "center",
          "xref": "paper",
          "y": 1,
          "yanchor": "bottom",
          "yref": "paper"
         },
         {
          "font": {
           "size": 16
          },
          "showarrow": false,
          "text": "Multi-Branch",
          "x": 0.225,
          "xanchor": "center",
          "xref": "paper",
          "y": 0.375,
          "yanchor": "bottom",
          "yref": "paper"
         },
         {
          "font": {
           "size": 16
          },
          "showarrow": false,
          "text": "Complete Neuron",
          "x": 0.775,
          "xanchor": "center",
          "xref": "paper",
          "y": 0.375,
          "yanchor": "bottom",
          "yref": "paper"
         }
        ],
        "height": 800,
        "scene": {
         "domain": {
          "x": [
           0,
           0.45
          ],
          "y": [
           0.625,
           1
          ]
         }
        },
        "scene2": {
         "domain": {
          "x": [
           0.55,
           1
          ],
          "y": [
           0.625,
           1
          ]
         }
        },
        "scene3": {
         "domain": {
          "x": [
           0,
           0.45
          ],
          "y": [
           0,
           0.375
          ]
         }
        },
        "scene4": {
         "domain": {
          "x": [
           0.55,
           1
          ],
          "y": [
           0,
           0.375
          ]
         }
        },
        "showlegend": false,
        "template": {
         "data": {
          "bar": [
           {
            "error_x": {
             "color": "#2a3f5f"
            },
            "error_y": {
             "color": "#2a3f5f"
            },
            "marker": {
             "line": {
              "color": "#E5ECF6",
              "width": 0.5
             },
             "pattern": {
              "fillmode": "overlay",
              "size": 10,
              "solidity": 0.2
             }
            },
            "type": "bar"
           }
          ],
          "barpolar": [
           {
            "marker": {
             "line": {
              "color": "#E5ECF6",
              "width": 0.5
             },
             "pattern": {
              "fillmode": "overlay",
              "size": 10,
              "solidity": 0.2
             }
            },
            "type": "barpolar"
           }
          ],
          "carpet": [
           {
            "aaxis": {
             "endlinecolor": "#2a3f5f",
             "gridcolor": "white",
             "linecolor": "white",
             "minorgridcolor": "white",
             "startlinecolor": "#2a3f5f"
            },
            "baxis": {
             "endlinecolor": "#2a3f5f",
             "gridcolor": "white",
             "linecolor": "white",
             "minorgridcolor": "white",
             "startlinecolor": "#2a3f5f"
            },
            "type": "carpet"
           }
          ],
          "choropleth": [
           {
            "colorbar": {
             "outlinewidth": 0,
             "ticks": ""
            },
            "type": "choropleth"
           }
          ],
          "contour": [
           {
            "colorbar": {
             "outlinewidth": 0,
             "ticks": ""
            },
            "colorscale": [
             [
              0,
              "#0d0887"
             ],
             [
              0.1111111111111111,
              "#46039f"
             ],
             [
              0.2222222222222222,
              "#7201a8"
             ],
             [
              0.3333333333333333,
              "#9c179e"
             ],
             [
              0.4444444444444444,
              "#bd3786"
             ],
             [
              0.5555555555555556,
              "#d8576b"
             ],
             [
              0.6666666666666666,
              "#ed7953"
             ],
             [
              0.7777777777777778,
              "#fb9f3a"
             ],
             [
              0.8888888888888888,
              "#fdca26"
             ],
             [
              1,
              "#f0f921"
             ]
            ],
            "type": "contour"
           }
          ],
          "contourcarpet": [
           {
            "colorbar": {
             "outlinewidth": 0,
             "ticks": ""
            },
            "type": "contourcarpet"
           }
          ],
          "heatmap": [
           {
            "colorbar": {
             "outlinewidth": 0,
             "ticks": ""
            },
            "colorscale": [
             [
              0,
              "#0d0887"
             ],
             [
              0.1111111111111111,
              "#46039f"
             ],
             [
              0.2222222222222222,
              "#7201a8"
             ],
             [
              0.3333333333333333,
              "#9c179e"
             ],
             [
              0.4444444444444444,
              "#bd3786"
             ],
             [
              0.5555555555555556,
              "#d8576b"
             ],
             [
              0.6666666666666666,
              "#ed7953"
             ],
             [
              0.7777777777777778,
              "#fb9f3a"
             ],
             [
              0.8888888888888888,
              "#fdca26"
             ],
             [
              1,
              "#f0f921"
             ]
            ],
            "type": "heatmap"
           }
          ],
          "histogram": [
           {
            "marker": {
             "pattern": {
              "fillmode": "overlay",
              "size": 10,
              "solidity": 0.2
             }
            },
            "type": "histogram"
           }
          ],
          "histogram2d": [
           {
            "colorbar": {
             "outlinewidth": 0,
             "ticks": ""
            },
            "colorscale": [
             [
              0,
              "#0d0887"
             ],
             [
              0.1111111111111111,
              "#46039f"
             ],
             [
              0.2222222222222222,
              "#7201a8"
             ],
             [
              0.3333333333333333,
              "#9c179e"
             ],
             [
              0.4444444444444444,
              "#bd3786"
             ],
             [
              0.5555555555555556,
              "#d8576b"
             ],
             [
              0.6666666666666666,
              "#ed7953"
             ],
             [
              0.7777777777777778,
              "#fb9f3a"
             ],
             [
              0.8888888888888888,
              "#fdca26"
             ],
             [
              1,
              "#f0f921"
             ]
            ],
            "type": "histogram2d"
           }
          ],
          "histogram2dcontour": [
           {
            "colorbar": {
             "outlinewidth": 0,
             "ticks": ""
            },
            "colorscale": [
             [
              0,
              "#0d0887"
             ],
             [
              0.1111111111111111,
              "#46039f"
             ],
             [
              0.2222222222222222,
              "#7201a8"
             ],
             [
              0.3333333333333333,
              "#9c179e"
             ],
             [
              0.4444444444444444,
              "#bd3786"
             ],
             [
              0.5555555555555556,
              "#d8576b"
             ],
             [
              0.6666666666666666,
              "#ed7953"
             ],
             [
              0.7777777777777778,
              "#fb9f3a"
             ],
             [
              0.8888888888888888,
              "#fdca26"
             ],
             [
              1,
              "#f0f921"
             ]
            ],
            "type": "histogram2dcontour"
           }
          ],
          "mesh3d": [
           {
            "colorbar": {
             "outlinewidth": 0,
             "ticks": ""
            },
            "type": "mesh3d"
           }
          ],
          "parcoords": [
           {
            "line": {
             "colorbar": {
              "outlinewidth": 0,
              "ticks": ""
             }
            },
            "type": "parcoords"
           }
          ],
          "pie": [
           {
            "automargin": true,
            "type": "pie"
           }
          ],
          "scatter": [
           {
            "fillpattern": {
             "fillmode": "overlay",
             "size": 10,
             "solidity": 0.2
            },
            "type": "scatter"
           }
          ],
          "scatter3d": [
           {
            "line": {
             "colorbar": {
              "outlinewidth": 0,
              "ticks": ""
             }
            },
            "marker": {
             "colorbar": {
              "outlinewidth": 0,
              "ticks": ""
             }
            },
            "type": "scatter3d"
           }
          ],
          "scattercarpet": [
           {
            "marker": {
             "colorbar": {
              "outlinewidth": 0,
              "ticks": ""
             }
            },
            "type": "scattercarpet"
           }
          ],
          "scattergeo": [
           {
            "marker": {
             "colorbar": {
              "outlinewidth": 0,
              "ticks": ""
             }
            },
            "type": "scattergeo"
           }
          ],
          "scattergl": [
           {
            "marker": {
             "colorbar": {
              "outlinewidth": 0,
              "ticks": ""
             }
            },
            "type": "scattergl"
           }
          ],
          "scattermap": [
           {
            "marker": {
             "colorbar": {
              "outlinewidth": 0,
              "ticks": ""
             }
            },
            "type": "scattermap"
           }
          ],
          "scattermapbox": [
           {
            "marker": {
             "colorbar": {
              "outlinewidth": 0,
              "ticks": ""
             }
            },
            "type": "scattermapbox"
           }
          ],
          "scatterpolar": [
           {
            "marker": {
             "colorbar": {
              "outlinewidth": 0,
              "ticks": ""
             }
            },
            "type": "scatterpolar"
           }
          ],
          "scatterpolargl": [
           {
            "marker": {
             "colorbar": {
              "outlinewidth": 0,
              "ticks": ""
             }
            },
            "type": "scatterpolargl"
           }
          ],
          "scatterternary": [
           {
            "marker": {
             "colorbar": {
              "outlinewidth": 0,
              "ticks": ""
             }
            },
            "type": "scatterternary"
           }
          ],
          "surface": [
           {
            "colorbar": {
             "outlinewidth": 0,
             "ticks": ""
            },
            "colorscale": [
             [
              0,
              "#0d0887"
             ],
             [
              0.1111111111111111,
              "#46039f"
             ],
             [
              0.2222222222222222,
              "#7201a8"
             ],
             [
              0.3333333333333333,
              "#9c179e"
             ],
             [
              0.4444444444444444,
              "#bd3786"
             ],
             [
              0.5555555555555556,
              "#d8576b"
             ],
             [
              0.6666666666666666,
              "#ed7953"
             ],
             [
              0.7777777777777778,
              "#fb9f3a"
             ],
             [
              0.8888888888888888,
              "#fdca26"
             ],
             [
              1,
              "#f0f921"
             ]
            ],
            "type": "surface"
           }
          ],
          "table": [
           {
            "cells": {
             "fill": {
              "color": "#EBF0F8"
             },
             "line": {
              "color": "white"
             }
            },
            "header": {
             "fill": {
              "color": "#C8D4E3"
             },
             "line": {
              "color": "white"
             }
            },
            "type": "table"
           }
          ]
         },
         "layout": {
          "annotationdefaults": {
           "arrowcolor": "#2a3f5f",
           "arrowhead": 0,
           "arrowwidth": 1
          },
          "autotypenumbers": "strict",
          "coloraxis": {
           "colorbar": {
            "outlinewidth": 0,
            "ticks": ""
           }
          },
          "colorscale": {
           "diverging": [
            [
             0,
             "#8e0152"
            ],
            [
             0.1,
             "#c51b7d"
            ],
            [
             0.2,
             "#de77ae"
            ],
            [
             0.3,
             "#f1b6da"
            ],
            [
             0.4,
             "#fde0ef"
            ],
            [
             0.5,
             "#f7f7f7"
            ],
            [
             0.6,
             "#e6f5d0"
            ],
            [
             0.7,
             "#b8e186"
            ],
            [
             0.8,
             "#7fbc41"
            ],
            [
             0.9,
             "#4d9221"
            ],
            [
             1,
             "#276419"
            ]
           ],
           "sequential": [
            [
             0,
             "#0d0887"
            ],
            [
             0.1111111111111111,
             "#46039f"
            ],
            [
             0.2222222222222222,
             "#7201a8"
            ],
            [
             0.3333333333333333,
             "#9c179e"
            ],
            [
             0.4444444444444444,
             "#bd3786"
            ],
            [
             0.5555555555555556,
             "#d8576b"
            ],
            [
             0.6666666666666666,
             "#ed7953"
            ],
            [
             0.7777777777777778,
             "#fb9f3a"
            ],
            [
             0.8888888888888888,
             "#fdca26"
            ],
            [
             1,
             "#f0f921"
            ]
           ],
           "sequentialminus": [
            [
             0,
             "#0d0887"
            ],
            [
             0.1111111111111111,
             "#46039f"
            ],
            [
             0.2222222222222222,
             "#7201a8"
            ],
            [
             0.3333333333333333,
             "#9c179e"
            ],
            [
             0.4444444444444444,
             "#bd3786"
            ],
            [
             0.5555555555555556,
             "#d8576b"
            ],
            [
             0.6666666666666666,
             "#ed7953"
            ],
            [
             0.7777777777777778,
             "#fb9f3a"
            ],
            [
             0.8888888888888888,
             "#fdca26"
            ],
            [
             1,
             "#f0f921"
            ]
           ]
          },
          "colorway": [
           "#636efa",
           "#EF553B",
           "#00cc96",
           "#ab63fa",
           "#FFA15A",
           "#19d3f3",
           "#FF6692",
           "#B6E880",
           "#FF97FF",
           "#FECB52"
          ],
          "font": {
           "color": "#2a3f5f"
          },
          "geo": {
           "bgcolor": "white",
           "lakecolor": "white",
           "landcolor": "#E5ECF6",
           "showlakes": true,
           "showland": true,
           "subunitcolor": "white"
          },
          "hoverlabel": {
           "align": "left"
          },
          "hovermode": "closest",
          "mapbox": {
           "style": "light"
          },
          "paper_bgcolor": "white",
          "plot_bgcolor": "#E5ECF6",
          "polar": {
           "angularaxis": {
            "gridcolor": "white",
            "linecolor": "white",
            "ticks": ""
           },
           "bgcolor": "#E5ECF6",
           "radialaxis": {
            "gridcolor": "white",
            "linecolor": "white",
            "ticks": ""
           }
          },
          "scene": {
           "xaxis": {
            "backgroundcolor": "#E5ECF6",
            "gridcolor": "white",
            "gridwidth": 2,
            "linecolor": "white",
            "showbackground": true,
            "ticks": "",
            "zerolinecolor": "white"
           },
           "yaxis": {
            "backgroundcolor": "#E5ECF6",
            "gridcolor": "white",
            "gridwidth": 2,
            "linecolor": "white",
            "showbackground": true,
            "ticks": "",
            "zerolinecolor": "white"
           },
           "zaxis": {
            "backgroundcolor": "#E5ECF6",
            "gridcolor": "white",
            "gridwidth": 2,
            "linecolor": "white",
            "showbackground": true,
            "ticks": "",
            "zerolinecolor": "white"
           }
          },
          "shapedefaults": {
           "line": {
            "color": "#2a3f5f"
           }
          },
          "ternary": {
           "aaxis": {
            "gridcolor": "white",
            "linecolor": "white",
            "ticks": ""
           },
           "baxis": {
            "gridcolor": "white",
            "linecolor": "white",
            "ticks": ""
           },
           "bgcolor": "#E5ECF6",
           "caxis": {
            "gridcolor": "white",
            "linecolor": "white",
            "ticks": ""
           }
          },
          "title": {
           "x": 0.05
          },
          "xaxis": {
           "automargin": true,
           "gridcolor": "white",
           "linecolor": "white",
           "ticks": "",
           "title": {
            "standoff": 15
           },
           "zerolinecolor": "white",
           "zerolinewidth": 2
          },
          "yaxis": {
           "automargin": true,
           "gridcolor": "white",
           "linecolor": "white",
           "ticks": "",
           "title": {
            "standoff": 15
           },
           "zerolinecolor": "white",
           "zerolinewidth": 2
          }
         }
        },
        "title": {
         "text": "GenCoMo Demo Meshes Comparison"
        }
       }
      }
     },
     "metadata": {},
     "output_type": "display_data"
    }
   ],
   "source": [
    "# Create a comparison plot showing all meshes together\n",
    "import plotly.graph_objects as go\n",
    "from plotly.subplots import make_subplots\n",
    "\n",
    "# Create subplots\n",
    "fig = make_subplots(\n",
    "    rows=2, cols=2,\n",
    "    specs=[[{\"type\": \"scatter3d\"}, {\"type\": \"scatter3d\"}],\n",
    "           [{\"type\": \"scatter3d\"}, {\"type\": \"scatter3d\"}]],\n",
    "    subplot_titles=[\"Cylinder\", \"Y-Branch\", \"Multi-Branch\", \"Complete Neuron\"]\n",
    ")\n",
    "\n",
    "mesh_list = [cylinder, y_branch, multi_branch, neuron]\n",
    "colors = [\"lightblue\", \"lightgreen\", \"orange\", \"coral\"]\n",
    "positions = [(1, 1), (1, 2), (2, 1), (2, 2)]\n",
    "\n",
    "for i, (mesh, color, pos) in enumerate(zip(mesh_list, colors, positions)):\n",
    "    vertices = mesh.vertices\n",
    "    faces = mesh.faces\n",
    "    \n",
    "    trace = go.Mesh3d(\n",
    "        x=vertices[:, 0],\n",
    "        y=vertices[:, 1],\n",
    "        z=vertices[:, 2],\n",
    "        i=faces[:, 0],\n",
    "        j=faces[:, 1],\n",
    "        k=faces[:, 2],\n",
    "        color=color,\n",
    "        opacity=0.8\n",
    "    )\n",
    "    \n",
    "    fig.add_trace(trace, row=pos[0], col=pos[1])\n",
    "\n",
    "fig.update_layout(\n",
    "    title=\"GenCoMo Demo Meshes Comparison\",\n",
    "    height=800,\n",
    "    showlegend=False\n",
    ")\n",
    "\n",
    "fig.show()"
   ]
  },
  {
   "cell_type": "markdown",
   "id": "19108d64",
   "metadata": {},
   "source": [
    "## 7. Saving Meshes\n",
    "\n",
    "Finally, let's save our meshes to files for later use:"
   ]
  },
  {
   "cell_type": "code",
   "execution_count": 12,
   "id": "94ae9be0",
   "metadata": {},
   "outputs": [
    {
     "name": "stdout",
     "output_type": "stream",
     "text": [
      "💾 Saved cylinder mesh to: demo_meshes/cylinder.stl\n",
      "💾 Saved y_branch mesh to: demo_meshes/y_branch.stl\n",
      "💾 Saved multi_branch mesh to: demo_meshes/multi_branch.stl\n",
      "💾 Saved neuron mesh to: demo_meshes/neuron.stl\n",
      "\n",
      "✅ All 4 demo meshes saved successfully!\n"
     ]
    }
   ],
   "source": [
    "# Save meshes to files\n",
    "import os\n",
    "\n",
    "# Create output directory\n",
    "output_dir = \"demo_meshes\"\n",
    "os.makedirs(output_dir, exist_ok=True)\n",
    "\n",
    "# Save each mesh\n",
    "mesh_files = {\n",
    "    \"cylinder\": cylinder,\n",
    "    \"y_branch\": y_branch,\n",
    "    \"multi_branch\": multi_branch,\n",
    "    \"neuron\": neuron\n",
    "}\n",
    "\n",
    "saved_files = []\n",
    "for name, mesh in mesh_files.items():\n",
    "    filename = f\"{output_dir}/{name}.stl\"\n",
    "    mesh.export(filename)\n",
    "    saved_files.append(filename)\n",
    "    print(f\"💾 Saved {name} mesh to: {filename}\")\n",
    "\n",
    "print(f\"\\n✅ All {len(saved_files)} demo meshes saved successfully!\")"
   ]
  },
  {
   "cell_type": "markdown",
   "id": "47fc026b",
   "metadata": {},
   "source": [
    "## Summary\n",
    "\n",
    "In this tutorial, we've learned how to:\n",
    "\n",
    "1. **Create simple cylinder meshes** representing neuronal processes\n",
    "2. **Generate branching structures** like dendritic trees\n",
    "3. **Build complete neuron models** with soma, dendrites, and axon\n",
    "4. **Visualize meshes in 3D** using Plotly\n",
    "5. **Analyze mesh properties** like volume and surface area\n",
    "6. **Save meshes to files** for later use\n",
    "\n",
    "These basic building blocks can be combined and modified to create more complex neuronal morphologies for computational modeling and analysis.\n",
    "\n",
    "## Next Steps\n",
    "\n",
    "- Explore the `MeshProcessor` class for advanced mesh operations\n",
    "- Learn about mesh repair and smoothing techniques\n",
    "- Try creating custom geometries with different parameters\n",
    "- Investigate mesh-based compartmental modeling workflows"
   ]
  }
 ],
 "metadata": {
  "kernelspec": {
   "display_name": "gencomo",
   "language": "python",
   "name": "python3"
  },
  "language_info": {
   "codemirror_mode": {
    "name": "ipython",
    "version": 3
   },
   "file_extension": ".py",
   "mimetype": "text/x-python",
   "name": "python",
   "nbconvert_exporter": "python",
   "pygments_lexer": "ipython3",
   "version": "3.12.8"
  }
 },
 "nbformat": 4,
 "nbformat_minor": 5
}
