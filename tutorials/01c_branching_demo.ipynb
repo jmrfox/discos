{
 "cells": [
  {
   "cell_type": "markdown",
   "id": "bced5e08",
   "metadata": {},
   "source": [
    "# GenCoMo Tutorial: Branching Mesh Demo\n",
    "\n",
    "This tutorial shows how to create and visualize branching mesh geometries using GenCoMo. Branching structures are essential for modeling dendritic trees, axonal arborizations, and other complex neuronal morphologies.\n",
    "\n",
    "## What You'll Learn\n",
    "\n",
    "- Create Y-shaped and multi-branch structures\n",
    "- Understand how boolean union operations create clean meshes\n",
    "- Visualize branching junctions and their cross-sections\n",
    "- Compare different branching parameters and their effects\n",
    "- Analyze complex junction geometry"
   ]
  },
  {
   "cell_type": "markdown",
   "id": "f7829a00",
   "metadata": {},
   "source": [
    "## Setup\n",
    "\n",
    "First, let's import the necessary libraries:"
   ]
  },
  {
   "cell_type": "code",
   "execution_count": null,
   "id": "1b14d508",
   "metadata": {},
   "outputs": [],
   "source": [
    "import numpy as np\n",
    "import trimesh\n",
    "import plotly.graph_objects as go\n",
    "\n",
    "# Import GenCoMo functions\n",
    "from gencomo.demos import create_branching_mesh\n",
    "from gencomo.mesh import (\n",
    "    visualize_mesh_3d, \n",
    "    analyze_mesh_properties, \n",
    "    visualize_mesh_slice_interactive,\n",
    "    visualize_mesh_slice_grid\n",
    ")\n",
    "\n",
    "print(\"✅ Libraries imported successfully!\")"
   ]
  },
  {
   "cell_type": "markdown",
   "id": "1280eba1",
   "metadata": {},
   "source": [
    "## Understanding Branching Parameters\n",
    "\n",
    "Branching meshes consist of:\n",
    "- **Trunk**: The main cylindrical body\n",
    "- **Branches**: Secondary cylinders that extend from the trunk\n",
    "- **Junction**: Where branches connect to the trunk (smoothed with boolean unions)\n",
    "\n",
    "Let's create a basic Y-shaped branch:"
   ]
  },
  {
   "cell_type": "code",
   "execution_count": null,
   "id": "2b54bead",
   "metadata": {},
   "outputs": [],
   "source": [
    "# Create a Y-shaped branching structure\n",
    "y_branch = create_branching_mesh(\n",
    "    trunk_length=60.0,     # Main trunk 60 μm long\n",
    "    trunk_radius=5.0,      # Main trunk 5 μm radius\n",
    "    branch_length=40.0,    # Each branch 40 μm long\n",
    "    branch_radius=3.0,     # Each branch 3 μm radius\n",
    "    branch_angle=45.0,     # Branches at 45° angle\n",
    "    num_branches=2,        # Two branches (Y-shape)\n",
    "    smooth_junctions=True  # Smooth the connection points\n",
    ")\n",
    "\n",
    "print(f\"Created Y-branch with {len(y_branch.vertices)} vertices and {len(y_branch.faces)} faces\")\n",
    "print(f\"Volume: {y_branch.volume:.2f} μm³\")\n",
    "print(f\"Surface area: {y_branch.area:.2f} μm²\")"
   ]
  },
  {
   "cell_type": "markdown",
   "id": "9e622361",
   "metadata": {},
   "source": [
    "## 3D Visualization\n",
    "\n",
    "Let's visualize our Y-branch in 3D:"
   ]
  },
  {
   "cell_type": "code",
   "execution_count": null,
   "id": "786a652d",
   "metadata": {},
   "outputs": [],
   "source": [
    "# Visualize the Y-branch\n",
    "fig = visualize_mesh_3d(\n",
    "    y_branch, \n",
    "    title=\"Y-Branch Dendritic Structure\",\n",
    "    color=\"lightgreen\",\n",
    "    backend=\"plotly\"\n",
    ")\n",
    "fig.show()"
   ]
  },
  {
   "cell_type": "markdown",
   "id": "1fb08430",
   "metadata": {},
   "source": [
    "## Junction Cross-Section Analysis\n",
    "\n",
    "The most interesting part of branching structures is the junction. Let's explore it with interactive slicing:"
   ]
  },
  {
   "cell_type": "code",
   "execution_count": null,
   "id": "5bd59611",
   "metadata": {},
   "outputs": [],
   "source": [
    "# Interactive slice view of the Y-branch - see how the branch junction appears\n",
    "fig_ybranch_slice = visualize_mesh_slice_interactive(\n",
    "    y_branch,\n",
    "    title=\"Interactive Y-Branch Cross-Sections\",\n",
    "    slice_color=\"darkgreen\",\n",
    "    mesh_color=\"lightgreen\",\n",
    "    mesh_opacity=0.3\n",
    ")\n",
    "fig_ybranch_slice.show()"
   ]
  },
  {
   "cell_type": "markdown",
   "id": "623c019f",
   "metadata": {},
   "source": [
    "## Multi-Branch Structures\n",
    "\n",
    "Now let's create more complex structures with multiple branches:"
   ]
  },
  {
   "cell_type": "code",
   "execution_count": null,
   "id": "3dc2ed50",
   "metadata": {},
   "outputs": [],
   "source": [
    "# Create a structure with 4 branches\n",
    "multi_branch = create_branching_mesh(\n",
    "    trunk_length=50.0,\n",
    "    trunk_radius=6.0,\n",
    "    branch_length=35.0,\n",
    "    branch_radius=3.5,\n",
    "    branch_angle=60.0,     # Wider angle\n",
    "    num_branches=4,        # Four branches\n",
    "    smooth_junctions=True\n",
    ")\n",
    "\n",
    "print(f\"Created multi-branch with {len(multi_branch.vertices)} vertices and {len(multi_branch.faces)} faces\")\n",
    "print(f\"Volume: {multi_branch.volume:.2f} μm³\")\n",
    "print(f\"Surface area: {multi_branch.area:.2f} μm²\")"
   ]
  },
  {
   "cell_type": "code",
   "execution_count": null,
   "id": "ea5721e0",
   "metadata": {},
   "outputs": [],
   "source": [
    "# Visualize the multi-branch structure\n",
    "fig = visualize_mesh_3d(\n",
    "    multi_branch, \n",
    "    title=\"Multi-Branch Dendritic Tree\",\n",
    "    color=\"orange\",\n",
    "    backend=\"plotly\"\n",
    ")\n",
    "fig.show()"
   ]
  },
  {
   "cell_type": "markdown",
   "id": "34c92c7f",
   "metadata": {},
   "source": [
    "## Complex Junction Analysis\n",
    "\n",
    "Multi-branch junctions are more complex. Let's explore them in detail:"
   ]
  },
  {
   "cell_type": "code",
   "execution_count": null,
   "id": "516554a6",
   "metadata": {},
   "outputs": [],
   "source": [
    "# Interactive slice view of the multi-branch - explore the complex junction\n",
    "fig_multibranch_slice = visualize_mesh_slice_interactive(\n",
    "    multi_branch,\n",
    "    title=\"Interactive Multi-Branch Cross-Sections\",\n",
    "    slice_color=\"darkorange\",\n",
    "    mesh_color=\"orange\",\n",
    "    mesh_opacity=0.3\n",
    ")\n",
    "fig_multibranch_slice.show()"
   ]
  },
  {
   "cell_type": "code",
   "execution_count": null,
   "id": "4c03768d",
   "metadata": {},
   "outputs": [],
   "source": [
    "# Grid view of multi-branch slices\n",
    "fig_grid = visualize_mesh_slice_grid(\n",
    "    multi_branch,\n",
    "    title=\"Multi-Branch Cross-Section Grid\",\n",
    "    num_slices=9  # 3x3 grid\n",
    ")\n",
    "fig_grid.show()"
   ]
  },
  {
   "cell_type": "markdown",
   "id": "979f24b2",
   "metadata": {},
   "source": [
    "## Exploring Different Branching Patterns\n",
    "\n",
    "Let's create various branching configurations to understand their properties:"
   ]
  },
  {
   "cell_type": "code",
   "execution_count": null,
   "id": "325e9540",
   "metadata": {},
   "outputs": [],
   "source": [
    "# Create different branching patterns\n",
    "narrow_branches = create_branching_mesh(\n",
    "    trunk_length=40.0, trunk_radius=4.0,\n",
    "    branch_length=30.0, branch_radius=2.0,\n",
    "    branch_angle=30.0, num_branches=3\n",
    ")\n",
    "\n",
    "wide_branches = create_branching_mesh(\n",
    "    trunk_length=45.0, trunk_radius=5.0,\n",
    "    branch_length=25.0, branch_radius=4.0,\n",
    "    branch_angle=90.0, num_branches=2\n",
    ")\n",
    "\n",
    "many_branches = create_branching_mesh(\n",
    "    trunk_length=30.0, trunk_radius=7.0,\n",
    "    branch_length=20.0, branch_radius=2.5,\n",
    "    branch_angle=45.0, num_branches=6\n",
    ")\n",
    "\n",
    "asymmetric_branches = create_branching_mesh(\n",
    "    trunk_length=55.0, trunk_radius=4.5,\n",
    "    branch_length=35.0, branch_radius=2.8,\n",
    "    branch_angle=60.0, num_branches=3\n",
    ")\n",
    "\n",
    "branching_patterns = {\n",
    "    \"Y-Branch\": y_branch,\n",
    "    \"Multi-Branch\": multi_branch,\n",
    "    \"Narrow Angles\": narrow_branches,\n",
    "    \"Wide Angles\": wide_branches,\n",
    "    \"Many Branches\": many_branches,\n",
    "    \"Asymmetric\": asymmetric_branches\n",
    "}\n",
    "\n",
    "# Analyze each pattern\n",
    "for name, branch in branching_patterns.items():\n",
    "    props = analyze_mesh_properties(branch)\n",
    "    print(f\"\\n=== {name} ===\")\n",
    "    print(f\"Vertices: {props['num_vertices']}, Faces: {props['num_faces']}\")\n",
    "    print(f\"Volume: {props['volume']:.2f} μm³\")\n",
    "    print(f\"Surface Area: {props['surface_area']:.2f} μm²\")\n",
    "    print(f\"Watertight: {props['is_watertight']}\")"
   ]
  },
  {
   "cell_type": "markdown",
   "id": "08cbb513",
   "metadata": {},
   "source": [
    "## Comparison Visualization\n",
    "\n",
    "Let's compare our different branching patterns:"
   ]
  },
  {
   "cell_type": "code",
   "execution_count": null,
   "id": "e01ded90",
   "metadata": {},
   "outputs": [],
   "source": [
    "# Create a comparison plot\n",
    "from plotly.subplots import make_subplots\n",
    "\n",
    "fig = make_subplots(\n",
    "    rows=2, cols=3,\n",
    "    specs=[[{\"type\": \"scatter3d\"}, {\"type\": \"scatter3d\"}, {\"type\": \"scatter3d\"}],\n",
    "           [{\"type\": \"scatter3d\"}, {\"type\": \"scatter3d\"}, {\"type\": \"scatter3d\"}]],\n",
    "    subplot_titles=[\"Y-Branch\", \"Multi-Branch\", \"Narrow Angles\", \"Wide Angles\", \"Many Branches\", \"Asymmetric\"]\n",
    ")\n",
    "\n",
    "colors = [\"lightgreen\", \"orange\", \"lightblue\", \"purple\", \"coral\", \"gold\"]\n",
    "positions = [(1, 1), (1, 2), (1, 3), (2, 1), (2, 2), (2, 3)]\n",
    "\n",
    "for i, (name, branch) in enumerate(branching_patterns.items()):\n",
    "    vertices = branch.vertices\n",
    "    faces = branch.faces\n",
    "    \n",
    "    trace = go.Mesh3d(\n",
    "        x=vertices[:, 0],\n",
    "        y=vertices[:, 1],\n",
    "        z=vertices[:, 2],\n",
    "        i=faces[:, 0],\n",
    "        j=faces[:, 1],\n",
    "        k=faces[:, 2],\n",
    "        color=colors[i],\n",
    "        opacity=0.8\n",
    "    )\n",
    "    \n",
    "    fig.add_trace(trace, row=positions[i][0], col=positions[i][1])\n",
    "\n",
    "fig.update_layout(\n",
    "    title=\"Branching Pattern Comparison\",\n",
    "    height=800,\n",
    "    showlegend=False\n",
    ")\n",
    "\n",
    "fig.show()"
   ]
  },
  {
   "cell_type": "markdown",
   "id": "d96101e6",
   "metadata": {},
   "source": [
    "## Boolean Union vs. Simple Combination\n",
    "\n",
    "Let's demonstrate why boolean unions are important for clean meshes:"
   ]
  },
  {
   "cell_type": "code",
   "execution_count": null,
   "id": "0abf4a1c",
   "metadata": {},
   "outputs": [],
   "source": [
    "# Create a branch with and without smooth junctions\n",
    "smooth_branch = create_branching_mesh(\n",
    "    trunk_length=40.0, trunk_radius=4.0,\n",
    "    branch_length=30.0, branch_radius=3.0,\n",
    "    branch_angle=45.0, num_branches=2,\n",
    "    smooth_junctions=True  # Boolean union\n",
    ")\n",
    "\n",
    "# Note: The create_branching_mesh function always uses boolean unions,\n",
    "# but we can see the difference in the mesh quality\n",
    "props_smooth = analyze_mesh_properties(smooth_branch)\n",
    "\n",
    "print(\"=== Smooth Junction Analysis ===\")\n",
    "print(f\"Watertight: {props_smooth['is_watertight']}\")\n",
    "print(f\"Volume: {props_smooth['volume']:.2f} μm³\")\n",
    "print(f\"Surface Area: {props_smooth['surface_area']:.2f} μm²\")\n",
    "print(\"\\nBoolean union operations ensure:\")\n",
    "print(\"- Clean exterior surfaces\")\n",
    "print(\"- No interior artifacts\")\n",
    "print(\"- Proper volume calculations\")\n",
    "print(\"- Watertight meshes\")"
   ]
  },
  {
   "cell_type": "markdown",
   "id": "6b4a92da",
   "metadata": {},
   "source": [
    "## Branch Angle Analysis\n",
    "\n",
    "Let's study how branch angles affect the overall structure:"
   ]
  },
  {
   "cell_type": "code",
   "execution_count": null,
   "id": "2a8f9c29",
   "metadata": {},
   "outputs": [],
   "source": [
    "# Create branches with different angles\n",
    "angles = [15, 30, 45, 60, 90, 120]\n",
    "angle_branches = {}\n",
    "\n",
    "for angle in angles:\n",
    "    branch = create_branching_mesh(\n",
    "        trunk_length=40.0, trunk_radius=4.0,\n",
    "        branch_length=25.0, branch_radius=2.5,\n",
    "        branch_angle=angle, num_branches=2\n",
    "    )\n",
    "    angle_branches[f\"{angle}°\"] = branch\n",
    "\n",
    "# Analyze the effect of angle on geometry\n",
    "print(\"=== Branch Angle Effects ===\")\n",
    "for angle_name, branch in angle_branches.items():\n",
    "    props = analyze_mesh_properties(branch)\n",
    "    # Calculate the span (width) of the structure\n",
    "    x_span = props['bounds']['x_range'][1] - props['bounds']['x_range'][0]\n",
    "    y_span = props['bounds']['y_range'][1] - props['bounds']['y_range'][0]\n",
    "    total_span = max(x_span, y_span)\n",
    "    \n",
    "    print(f\"{angle_name}: Volume={props['volume']:.1f} μm³, Max span={total_span:.1f} μm\")"
   ]
  },
  {
   "cell_type": "markdown",
   "id": "4bacd388",
   "metadata": {},
   "source": [
    "## Detailed Junction Examination\n",
    "\n",
    "Let's take a closer look at how the junction geometry changes with different parameters:"
   ]
  },
  {
   "cell_type": "code",
   "execution_count": null,
   "id": "b9c5b783",
   "metadata": {},
   "outputs": [],
   "source": [
    "# Focus on the junction region of a multi-branch structure\n",
    "junction_branch = create_branching_mesh(\n",
    "    trunk_length=30.0, trunk_radius=5.0,\n",
    "    branch_length=20.0, branch_radius=3.0,\n",
    "    branch_angle=60.0, num_branches=4\n",
    ")\n",
    "\n",
    "# Visualize with emphasis on the junction\n",
    "fig = visualize_mesh_3d(\n",
    "    junction_branch, \n",
    "    title=\"Junction Detail - 4-Branch Structure\",\n",
    "    color=\"steelblue\",\n",
    "    backend=\"plotly\"\n",
    ")\n",
    "fig.show()\n",
    "\n",
    "# Show cross-sections focusing on the junction\n",
    "fig_junction_slice = visualize_mesh_slice_interactive(\n",
    "    junction_branch,\n",
    "    title=\"Junction Cross-Sections - Focus on Center\",\n",
    "    slice_color=\"darkblue\",\n",
    "    mesh_color=\"steelblue\",\n",
    "    mesh_opacity=0.2,\n",
    "    z_range=(-15, 15)  # Focus on junction region\n",
    ")\n",
    "fig_junction_slice.show()"
   ]
  },
  {
   "cell_type": "markdown",
   "id": "bb3cffe3",
   "metadata": {},
   "source": [
    "## Saving Your Branching Meshes\n",
    "\n",
    "Let's save all our branching structures:"
   ]
  },
  {
   "cell_type": "code",
   "execution_count": null,
   "id": "f99f4d4b",
   "metadata": {},
   "outputs": [],
   "source": [
    "# Save the branching meshes\n",
    "import os\n",
    "\n",
    "output_dir = \"data/mesh\"\n",
    "os.makedirs(output_dir, exist_ok=True)\n",
    "\n",
    "# Save all branching patterns\n",
    "all_branches = {**branching_patterns, **angle_branches}\n",
    "all_branches[\"Junction Detail\"] = junction_branch\n",
    "\n",
    "for name, branch in all_branches.items():\n",
    "    # Create safe filename\n",
    "    safe_name = name.lower().replace(\" \", \"_\").replace(\"-\", \"_\").replace(\"°\", \"deg\")\n",
    "    filename = f\"{output_dir}/branch_{safe_name}.stl\"\n",
    "    branch.export(filename)\n",
    "    print(f\"💾 Saved {name} to: {filename}\")\n",
    "\n",
    "print(f\"\\n✅ Saved {len(all_branches)} branching meshes!\")"
   ]
  },
  {
   "cell_type": "markdown",
   "id": "10b28e67",
   "metadata": {},
   "source": [
    "## Summary\n",
    "\n",
    "In this tutorial, you learned how to:\n",
    "\n",
    "1. **Create branching structures** with trunks and multiple branches\n",
    "2. **Understand boolean union operations** and their importance for clean meshes\n",
    "3. **Analyze junction geometry** using interactive cross-sections\n",
    "4. **Compare different branching patterns** and their properties\n",
    "5. **Study the effects of branch angles** on overall structure\n",
    "6. **Examine complex multi-branch junctions** in detail\n",
    "7. **Create watertight meshes** suitable for computational modeling\n",
    "\n",
    "## Key Insights\n",
    "\n",
    "- **Boolean unions** are essential for creating clean, watertight meshes\n",
    "- **Junction geometry** is complex and changes with number of branches\n",
    "- **Branch angles** significantly affect the spatial extent of the structure\n",
    "- **Multi-branch structures** create interesting cross-sectional patterns\n",
    "- **Interactive slicing** is invaluable for understanding 3D junction topology\n",
    "\n",
    "## Applications\n",
    "\n",
    "These branching structures can represent:\n",
    "- **Dendritic trees** with multiple dendrites\n",
    "- **Axonal arborizations** with terminal branches\n",
    "- **Vascular bifurcations** in blood vessel networks\n",
    "- **Root systems** in plant modeling\n",
    "\n",
    "## Next Steps\n",
    "\n",
    "- Try the **Cylinder Demo** (01a_cylinder_demo.ipynb) for basic building blocks\n",
    "- Explore **Torus Demo** (01b_torus_demo.ipynb) for ring-like structures\n",
    "- Learn about **Complete Neurons** (01d_neuron_demo.ipynb) combining all elements\n",
    "- Experiment with hierarchical branching (branches on branches)\n",
    "- Combine branching meshes with other geometries for complex morphologies"
   ]
  }
 ],
 "metadata": {
  "language_info": {
   "name": "python"
  }
 },
 "nbformat": 4,
 "nbformat_minor": 5
}
