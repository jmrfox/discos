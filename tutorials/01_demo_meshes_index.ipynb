{
 "cells": [
  {
   "cell_type": "markdown",
   "id": "45c49f8c",
   "metadata": {},
   "source": [
    "# GenCoMo Tutorial Series: Demo Mesh Geometries\n",
    "\n",
    "Collection of notebooks demonstrating GenCoMo's mesh creation and visualization functions.\n",
    "\n",
    "## Tutorials\n",
    "\n",
    "### 📐 [01a - Cylinder Demo](01a_cylinder_demo.ipynb)\n",
    "Basic cylindrical structures\n",
    "\n",
    "### 🍩 [01b - Torus Demo](01b_torus_demo.ipynb) \n",
    "Ring-shaped (donut) geometries\n",
    "\n",
    "### 🧠 [01c - Complete Neuron Demo](01c_neuron_demo.ipynb)\n",
    "Full neuron models with soma, dendrites, and axon\n",
    "\n",
    "## Functions Demonstrated\n",
    "\n",
    "- `create_cylinder_mesh()` - Create cylinders\n",
    "- `create_torus_mesh()` - Create torus shapes  \n",
    "- `create_demo_neuron_mesh()` - Create complete neurons\n",
    "- `visualize_mesh_3d()` - 3D visualization\n",
    "- `visualize_mesh_slice_interactive()` - Interactive cross-sections\n",
    "- `visualize_mesh_slice_grid()` - Grid of slices\n",
    "- `analyze_mesh()` - Mesh analysis"
   ]
  }
 ],
 "metadata": {
  "language_info": {
   "name": "python"
  }
 },
 "nbformat": 4,
 "nbformat_minor": 5
}
