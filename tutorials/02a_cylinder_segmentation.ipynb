{
 "cells": [
  {
   "cell_type": "markdown",
   "id": "565edb1f",
   "metadata": {},
   "source": [
    "# 02a - Cylinder Segmentation Demo\n",
    "\n",
    "This notebook demonstrates mesh segmentation using a simple cylinder geometry. The cylinder represents the simplest case with genus = 0 (no holes).\n",
    "\n",
    "**Part of the GenCoMo Demo Series** - [Return to Index](01_tutorial_index.ipynb)"
   ]
  },
  {
   "cell_type": "code",
   "execution_count": null,
   "id": "c2b13d2d",
   "metadata": {},
   "outputs": [],
   "source": [
    "import numpy as np\n",
    "import trimesh\n",
    "from gencomo import create_cylinder_mesh, MeshSegmenter, visualize_mesh_3d"
   ]
  },
  {
   "cell_type": "markdown",
   "id": "601d123d",
   "metadata": {},
   "source": [
    "## Create and Visualize Cylinder"
   ]
  },
  {
   "cell_type": "code",
   "execution_count": null,
   "id": "76993d2d",
   "metadata": {},
   "outputs": [],
   "source": [
    "# Create a cylinder mesh\n",
    "cylinder = create_cylinder_mesh(radius=1.0, length=2.0, resolution=20)\n",
    "\n",
    "print(f\"Cylinder properties:\")\n",
    "print(f\"  Volume: {cylinder.volume:.3f}\")\n",
    "print(f\"  Surface area: {cylinder.area:.3f}\")\n",
    "print(f\"  Z-bounds: {cylinder.bounds[:, 2]}\")\n",
    "\n",
    "# Visualize the original cylinder\n",
    "fig = visualize_mesh_3d(cylinder, title=\"Original Cylinder\", backend=\"plotly\")\n",
    "fig.show()"
   ]
  },
  {
   "cell_type": "markdown",
   "id": "3e144200",
   "metadata": {},
   "source": [
    "## Segment the Mesh"
   ]
  },
  {
   "cell_type": "code",
   "execution_count": null,
   "id": "f499aa2f",
   "metadata": {},
   "outputs": [],
   "source": [
    "# Create segmenter and segment the mesh\n",
    "segmenter = MeshSegmenter()\n",
    "segments = segmenter.segment_mesh(cylinder, slice_width=0.5, min_volume=0.1)\n",
    "\n",
    "print(f\"Segmentation complete!\")\n",
    "print(f\"Total segments: {len(segments)}\")\n",
    "print(f\"Total slices: {len(segmenter.slices)}\")"
   ]
  },
  {
   "cell_type": "markdown",
   "id": "2ad96680",
   "metadata": {},
   "source": [
    "## Analyze Segments"
   ]
  },
  {
   "cell_type": "code",
   "execution_count": null,
   "id": "7d865893",
   "metadata": {},
   "outputs": [],
   "source": [
    "# Show segments per slice\n",
    "print(\"Segments per slice:\")\n",
    "for i in range(len(segmenter.slices)):\n",
    "    slice_segments = segmenter.get_segments_in_slice(i)\n",
    "    print(f\"  Slice {i}: {len(slice_segments)} segments\")\n",
    "\n",
    "# Get statistics\n",
    "stats = segmenter.compute_segmentation_statistics()\n",
    "print(f\"\\nTotal volume: {stats['volume_stats']['total']:.4f}\")\n",
    "print(f\"Mean segment volume: {stats['volume_stats']['mean']:.4f}\")\n",
    "print(f\"Connected components: {stats['connected_components']}\")"
   ]
  },
  {
   "cell_type": "markdown",
   "id": "eb388da7",
   "metadata": {},
   "source": [
    "## 3D Connectivity Visualization"
   ]
  },
  {
   "cell_type": "code",
   "execution_count": null,
   "id": "4a9bc3a0",
   "metadata": {},
   "outputs": [],
   "source": [
    "# Visualize connectivity in 3D space\n",
    "segmenter.visualize_connectivity_graph_3d(backend=\"plotly\")"
   ]
  },
  {
   "cell_type": "markdown",
   "id": "83bd411e",
   "metadata": {},
   "source": [
    "## Summary\n",
    "\n",
    "The cylinder segmentation shows:\n",
    "- **Simple topology**: Each slice typically contains one segment\n",
    "- **Linear connectivity**: Segments connect in sequence along the z-axis\n",
    "- **Volume distribution**: End caps may have smaller volumes due to geometry\n",
    "\n",
    "This represents the baseline case for mesh segmentation with genus = 0 topology."
   ]
  }
 ],
 "metadata": {
  "language_info": {
   "name": "python"
  }
 },
 "nbformat": 4,
 "nbformat_minor": 5
}
