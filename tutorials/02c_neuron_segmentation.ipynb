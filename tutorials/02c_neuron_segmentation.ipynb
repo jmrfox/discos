{
 "cells": [
  {
   "cell_type": "markdown",
   "id": "9928d6f9",
   "metadata": {},
   "source": [
    "# 02c - Neuron Segmentation Demo\n",
    "\n",
    "This notebook demonstrates mesh segmentation using a realistic neuron-like geometry with multiple branches.\n",
    "\n",
    "**Part of the GenCoMo Demo Series** - [Return to Index](01_tutorial_index.ipynb)"
   ]
  },
  {
   "cell_type": "code",
   "execution_count": null,
   "id": "f341954c",
   "metadata": {},
   "outputs": [],
   "source": [
    "import numpy as np\n",
    "import trimesh\n",
    "from gencomo import create_demo_neuron_mesh, MeshSegmenter, visualize_mesh_3d"
   ]
  },
  {
   "cell_type": "markdown",
   "id": "a8a7912d",
   "metadata": {},
   "source": [
    "## Create and Visualize Demo Neuron"
   ]
  },
  {
   "cell_type": "code",
   "execution_count": null,
   "id": "86d47055",
   "metadata": {},
   "outputs": [],
   "source": [
    "# Create a demo neuron mesh\n",
    "neuron = create_demo_neuron_mesh()\n",
    "\n",
    "print(f\"Demo neuron properties:\")\n",
    "print(f\"  Volume: {neuron.volume:.3f}\")\n",
    "print(f\"  Surface area: {neuron.area:.3f}\")\n",
    "print(f\"  Z-bounds: {neuron.bounds[:, 2]}\")\n",
    "print(f\"  Vertices: {len(neuron.vertices)}\")\n",
    "print(f\"  Faces: {len(neuron.faces)}\")\n",
    "\n",
    "# Visualize the original neuron\n",
    "fig = visualize_mesh_3d(neuron, title=\"Demo Neuron Mesh\", backend=\"plotly\")\n",
    "fig.show()"
   ]
  },
  {
   "cell_type": "markdown",
   "id": "bc22d60d",
   "metadata": {},
   "source": [
    "## Segment the Mesh"
   ]
  },
  {
   "cell_type": "code",
   "execution_count": null,
   "id": "f0a8c44b",
   "metadata": {},
   "outputs": [],
   "source": [
    "# Create segmenter and segment the mesh\n",
    "segmenter = MeshSegmenter()\n",
    "segments = segmenter.segment_mesh(neuron, slice_width=0.5, min_volume=0.05)\n",
    "\n",
    "print(f\"Segmentation complete!\")\n",
    "print(f\"Total segments: {len(segments)}\")\n",
    "print(f\"Total slices: {len(segmenter.slices)}\")"
   ]
  },
  {
   "cell_type": "markdown",
   "id": "149dad72",
   "metadata": {},
   "source": [
    "## Analyze Branching Structure"
   ]
  },
  {
   "cell_type": "code",
   "execution_count": null,
   "id": "d2dc438b",
   "metadata": {},
   "outputs": [],
   "source": [
    "# Show segments per slice - should reveal branching patterns\n",
    "print(\"Segments per slice:\")\n",
    "for i in range(len(segmenter.slices)):\n",
    "    slice_segments = segmenter.get_segments_in_slice(i)\n",
    "    print(f\"  Slice {i}: {len(slice_segments)} segments\")\n",
    "    if len(slice_segments) > 1:\n",
    "        print(f\"    -> Branching detected\")\n",
    "\n",
    "# Analyze connectivity and identify branch points\n",
    "connectivity_graph = segmenter.get_connectivity_graph()\n",
    "branch_points = [node for node, degree in connectivity_graph.degree() if degree > 2]\n",
    "terminal_points = [node for node, degree in connectivity_graph.degree() if degree == 1]\n",
    "\n",
    "print(f\"\\nTopological analysis:\")\n",
    "print(f\"  Branch points: {len(branch_points)} segments\")\n",
    "print(f\"  Terminal points: {len(terminal_points)} segments\")\n",
    "print(f\"  Linear segments: {len(segments) - len(branch_points) - len(terminal_points)} segments\")\n",
    "\n",
    "# Get statistics\n",
    "stats = segmenter.compute_segmentation_statistics()\n",
    "print(f\"\\nSegmentation statistics:\")\n",
    "print(f\"  Total volume: {stats['volume_stats']['total']:.4f}\")\n",
    "print(f\"  Mean segment volume: {stats['volume_stats']['mean']:.4f}\")\n",
    "print(f\"  Volume std: {stats['volume_stats']['std']:.4f}\")"
   ]
  },
  {
   "cell_type": "markdown",
   "id": "93760da5",
   "metadata": {},
   "source": [
    "## 3D Connectivity Visualization"
   ]
  },
  {
   "cell_type": "code",
   "execution_count": null,
   "id": "c3e43954",
   "metadata": {},
   "outputs": [],
   "source": [
    "# Visualize connectivity in 3D space - should show tree-like branching structure\n",
    "segmenter.visualize_connectivity_graph_3d(backend=\"plotly\")"
   ]
  },
  {
   "cell_type": "markdown",
   "id": "747889af",
   "metadata": {},
   "source": [
    "## Summary\n",
    "\n",
    "The demo neuron segmentation demonstrates:\n",
    "- **Complex branching**: Multiple dendrites and branches create varied segment patterns per slice\n",
    "- **Tree topology**: Segments form a branching tree structure in 3D space\n",
    "- **Realistic neuron features**: Cell body, dendrites, and axonal structures\n",
    "- **Topological analysis**: Identification of branch points, terminals, and linear segments\n",
    "\n",
    "This showcases the algorithm's ability to handle realistic neuronal morphologies for compartmental modeling."
   ]
  }
 ],
 "metadata": {
  "language_info": {
   "name": "python"
  }
 },
 "nbformat": 4,
 "nbformat_minor": 5
}
