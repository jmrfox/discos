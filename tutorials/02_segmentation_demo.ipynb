{
 "cells": [
  {
   "cell_type": "markdown",
   "id": "2ed2b9f8",
   "metadata": {},
   "source": [
    "# Mesh Segmentation Demo\n",
    "\n",
    "This notebook demonstrates how to use the `MeshSegmenter` class to slice a mesh into segments along the z-axis and analyze their connectivity."
   ]
  },
  {
   "cell_type": "code",
   "execution_count": 1,
   "id": "bb6b7b56",
   "metadata": {},
   "outputs": [
    {
     "name": "stdout",
     "output_type": "stream",
     "text": [
      "Jupyter environment detected. Enabling Open3D WebVisualizer.\n",
      "[Open3D INFO] WebRTC GUI backend enabled.\n",
      "[Open3D INFO] WebRTCWindowSystem: HTTP handshake server disabled.\n"
     ]
    }
   ],
   "source": [
    "import numpy as np\n",
    "from gencomo import create_cylinder_mesh, MeshSegmenter, visualize_mesh_3d"
   ]
  },
  {
   "cell_type": "markdown",
   "id": "735c7b39",
   "metadata": {},
   "source": [
    "## Create a Demo Cylinder\n",
    "\n",
    "First, let's create a simple cylinder mesh to segment."
   ]
  },
  {
   "cell_type": "code",
   "execution_count": 2,
   "id": "275a1a6a",
   "metadata": {},
   "outputs": [
    {
     "name": "stdout",
     "output_type": "stream",
     "text": [
      "Cylinder properties:\n",
      "  Volume: 9.271\n",
      "  Surface area: 24.952\n",
      "  Z-bounds: [-1.5  1.5]\n"
     ]
    },
    {
     "data": {
      "text/plain": [
       "<trimesh.Scene(len(geometry)=1)>"
      ]
     },
     "execution_count": 2,
     "metadata": {},
     "output_type": "execute_result"
    }
   ],
   "source": [
    "# Create a cylinder mesh\n",
    "cylinder = create_cylinder_mesh(radius=1.0, length=3.0, resolution=20)\n",
    "\n",
    "print(f\"Cylinder properties:\")\n",
    "print(f\"  Volume: {cylinder.volume:.3f}\")\n",
    "print(f\"  Surface area: {cylinder.area:.3f}\")\n",
    "print(f\"  Z-bounds: {cylinder.bounds[:, 2]}\")\n",
    "\n",
    "# Visualize the original cylinder\n",
    "visualize_mesh_3d(cylinder, title=\"Original Cylinder\")"
   ]
  },
  {
   "cell_type": "markdown",
   "id": "168882bc",
   "metadata": {},
   "source": [
    "## Segment the Mesh\n",
    "\n",
    "Now let's use the `MeshSegmenter` to slice the cylinder into segments."
   ]
  },
  {
   "cell_type": "code",
   "execution_count": 12,
   "id": "692414c4",
   "metadata": {},
   "outputs": [
    {
     "name": "stdout",
     "output_type": "stream",
     "text": [
      "Segmenting mesh (z: -1.500 to 1.500) into 6 slices\n",
      "Created 6 segments across 6 slices\n",
      "\n",
      "Segmentation complete!\n",
      "Created 6 segments\n",
      "\n",
      "Note: This cylinder mesh has most of its volume in the end caps,\n",
      "which is why we see fewer segments than expected slices.\n"
     ]
    }
   ],
   "source": [
    "# Create segmenter and segment the mesh with reasonable minimum volume\n",
    "segmenter = MeshSegmenter()\n",
    "segments = segmenter.segment_mesh(cylinder, slice_width=0.5, min_volume=0.5)\n",
    "\n",
    "print(f\"\\nSegmentation complete!\")\n",
    "print(f\"Created {len(segments)} segments\")\n",
    "print(\"\\nNote: This cylinder mesh has most of its volume in the end caps,\")\n",
    "print(\"which is why we see fewer segments than expected slices.\")"
   ]
  },
  {
   "cell_type": "markdown",
   "id": "572f398d",
   "metadata": {},
   "source": [
    "## Analyze the Segments\n",
    "\n",
    "Let's examine the properties of each segment."
   ]
  },
  {
   "cell_type": "code",
   "execution_count": 13,
   "id": "19532b57",
   "metadata": {},
   "outputs": [
    {
     "name": "stdout",
     "output_type": "stream",
     "text": [
      "Segment Details:\n",
      "--------------------------------------------------------------------------------\n",
      "ID: slice_0_seg_0\n",
      "  Slice: 0, Z-range: [-1.50, -1.00]\n",
      "  Volume: 9.2705\n",
      "  Exterior area: 18.7721\n",
      "  Interior area: 3.0902\n",
      "  Centroid: [-0.00, -0.00, -0.21]\n",
      "\n",
      "ID: slice_1_seg_0\n",
      "  Slice: 1, Z-range: [-1.00, -0.50]\n",
      "  Volume: 9.2705\n",
      "  Exterior area: 18.7721\n",
      "  Interior area: 0.0000\n",
      "  Centroid: [-0.00, -0.00, 0.00]\n",
      "\n",
      "ID: slice_2_seg_0\n",
      "  Slice: 2, Z-range: [-0.50, 0.00]\n",
      "  Volume: 9.2705\n",
      "  Exterior area: 18.7721\n",
      "  Interior area: 0.0000\n",
      "  Centroid: [-0.00, -0.00, 0.00]\n",
      "\n",
      "ID: slice_3_seg_0\n",
      "  Slice: 3, Z-range: [0.00, 0.50]\n",
      "  Volume: 9.2705\n",
      "  Exterior area: 18.7721\n",
      "  Interior area: 0.0000\n",
      "  Centroid: [-0.00, -0.00, 0.00]\n",
      "\n",
      "ID: slice_4_seg_0\n",
      "  Slice: 4, Z-range: [0.50, 1.00]\n",
      "  Volume: 9.2705\n",
      "  Exterior area: 18.7721\n",
      "  Interior area: 0.0000\n",
      "  Centroid: [-0.00, -0.00, 0.00]\n",
      "\n",
      "ID: slice_5_seg_0\n",
      "  Slice: 5, Z-range: [1.00, 1.50]\n",
      "  Volume: 9.2705\n",
      "  Exterior area: 18.7721\n",
      "  Interior area: 3.0902\n",
      "  Centroid: [0.00, -0.00, 0.21]\n",
      "\n"
     ]
    }
   ],
   "source": [
    "# Display segment information\n",
    "print(\"Segment Details:\")\n",
    "print(\"-\" * 80)\n",
    "for segment in segments:\n",
    "    print(f\"ID: {segment.id}\")\n",
    "    print(f\"  Slice: {segment.slice_index}, Z-range: [{segment.z_min:.2f}, {segment.z_max:.2f}]\")\n",
    "    print(f\"  Volume: {segment.volume:.4f}\")\n",
    "    print(f\"  Exterior area: {segment.exterior_surface_area:.4f}\")\n",
    "    print(f\"  Interior area: {segment.interior_surface_area:.4f}\")\n",
    "    print(f\"  Centroid: [{segment.centroid[0]:.2f}, {segment.centroid[1]:.2f}, {segment.centroid[2]:.2f}]\")\n",
    "    print()"
   ]
  },
  {
   "cell_type": "markdown",
   "id": "64c2c79a",
   "metadata": {},
   "source": [
    "## Compute Statistics\n",
    "\n",
    "Let's get overall statistics about the segmentation."
   ]
  },
  {
   "cell_type": "code",
   "execution_count": 15,
   "id": "b304bdd2",
   "metadata": {},
   "outputs": [
    {
     "name": "stdout",
     "output_type": "stream",
     "text": [
      "Segmentation Statistics:\n",
      "  Total segments: 6\n",
      "  Total slices: 6\n",
      "  Connected components: 1\n",
      "\n",
      "Volume Statistics:\n",
      "  Total volume: 55.6231\n",
      "  Mean volume per segment: 9.2705\n",
      "  Volume std dev: 0.0000\n",
      "\n",
      "Surface Area Statistics:\n",
      "  Total exterior area: 112.6328\n",
      "  Total interior area: 6.1803\n",
      "\n",
      "Segments per slice: 1.0 ± 0.0\n"
     ]
    }
   ],
   "source": [
    "# Get segmentation statistics\n",
    "stats = segmenter.compute_segmentation_statistics()\n",
    "\n",
    "print(\"Segmentation Statistics:\")\n",
    "print(f\"  Total segments: {stats['total_segments']}\")\n",
    "print(f\"  Total slices: {stats['total_slices']}\")\n",
    "print(f\"  Connected components: {stats['connected_components']}\")\n",
    "\n",
    "print(f\"\\nVolume Statistics:\")\n",
    "print(f\"  Total volume: {stats['volume_stats']['total']:.4f}\")\n",
    "print(f\"  Mean volume per segment: {stats['volume_stats']['mean']:.4f}\")\n",
    "print(f\"  Volume std dev: {stats['volume_stats']['std']:.4f}\")\n",
    "\n",
    "print(f\"\\nSurface Area Statistics:\")\n",
    "print(f\"  Total exterior area: {stats['exterior_area_stats']['total']:.4f}\")\n",
    "print(f\"  Total interior area: {stats['interior_area_stats']['total']:.4f}\")\n",
    "\n",
    "print(f\"\\nSegments per slice: {stats['segments_per_slice']['mean']:.1f} ± {stats['segments_per_slice']['std']:.1f}\")"
   ]
  },
  {
   "cell_type": "markdown",
   "id": "e6de09f1",
   "metadata": {},
   "source": [
    "## Analyze Connectivity\n",
    "\n",
    "Check how the segments are connected to each other."
   ]
  },
  {
   "cell_type": "code",
   "execution_count": 14,
   "id": "953f9fac",
   "metadata": {},
   "outputs": [
    {
     "name": "stdout",
     "output_type": "stream",
     "text": [
      "Connected Components:\n",
      "  Component 1: 6 segments\n",
      "    - slice_0_seg_0 (slice 0)\n",
      "    - slice_1_seg_0 (slice 1)\n",
      "    - slice_2_seg_0 (slice 2)\n",
      "    - slice_3_seg_0 (slice 3)\n",
      "    - slice_4_seg_0 (slice 4)\n",
      "    - slice_5_seg_0 (slice 5)\n",
      "\n",
      "Segment Connections:\n",
      "  slice_0_seg_0 connects to: ['slice_1_seg_0']\n",
      "  slice_1_seg_0 connects to: ['slice_0_seg_0', 'slice_2_seg_0']\n",
      "  slice_2_seg_0 connects to: ['slice_1_seg_0', 'slice_3_seg_0']\n",
      "  slice_3_seg_0 connects to: ['slice_2_seg_0', 'slice_4_seg_0']\n",
      "  slice_4_seg_0 connects to: ['slice_3_seg_0', 'slice_5_seg_0']\n",
      "  slice_5_seg_0 connects to: ['slice_4_seg_0']\n"
     ]
    }
   ],
   "source": [
    "# Check connectivity\n",
    "connected_components = segmenter.get_connected_components()\n",
    "\n",
    "print(f\"Connected Components:\")\n",
    "for i, component in enumerate(connected_components):\n",
    "    print(f\"  Component {i+1}: {len(component)} segments\")\n",
    "    for seg_id in component:\n",
    "        segment = segmenter.get_segment_by_id(seg_id)\n",
    "        print(f\"    - {seg_id} (slice {segment.slice_index})\")\n",
    "\n",
    "# Show connections for each segment\n",
    "print(f\"\\nSegment Connections:\")\n",
    "for segment in segments:\n",
    "    connections = segmenter.get_connected_segments(segment.id)\n",
    "    print(f\"  {segment.id} connects to: {connections}\")"
   ]
  },
  {
   "cell_type": "markdown",
   "id": "b3c5beb5",
   "metadata": {},
   "source": [
    "## Visualize Individual Segments\n",
    "\n",
    "Let's visualize a few individual segments to see how they look."
   ]
  },
  {
   "cell_type": "code",
   "execution_count": 16,
   "id": "cd41e102",
   "metadata": {},
   "outputs": [
    {
     "name": "stdout",
     "output_type": "stream",
     "text": [
      "\n",
      "Segment 1: slice_0_seg_0\n",
      "\n",
      "Segment 2: slice_1_seg_0\n",
      "\n",
      "Segment 3: slice_2_seg_0\n"
     ]
    }
   ],
   "source": [
    "# Visualize the first few segments\n",
    "for i, segment in enumerate(segments[:3]):  # Show first 3 segments\n",
    "    print(f\"\\nSegment {i+1}: {segment.id}\")\n",
    "    visualize_mesh_3d(segment.mesh, \n",
    "                      title=f\"Segment {segment.id}\",\n",
    "                      color='lightblue')"
   ]
  },
  {
   "cell_type": "markdown",
   "id": "0b80c2e1",
   "metadata": {},
   "source": [
    "## Visualize Connectivity Graph\n",
    "\n",
    "Create a visual representation of how segments are connected."
   ]
  },
  {
   "cell_type": "code",
   "execution_count": 18,
   "id": "9fdd3633",
   "metadata": {},
   "outputs": [
    {
     "data": {
      "image/png": "[encoded data removed]",
      "text/plain": [
       "<Figure size 1200x800 with 1 Axes>"
      ]
     },
     "metadata": {},
     "output_type": "display_data"
    }
   ],
   "source": [
    "# Visualize the connectivity graph\n",
    "segmenter.visualize_connectivity_graph()"
   ]
  },
  {
   "cell_type": "markdown",
   "id": "2ef3fc5e",
   "metadata": {},
   "source": [
    "## Summary\n",
    "\n",
    "This demo showed how to:\n",
    "1. Create a mesh segmenter \n",
    "2. Segment a cylinder mesh into fixed-width **slices** along the z-axis\n",
    "3. Identify **segments** as connected components within each slice  \n",
    "4. Analyze segment properties (volume, surface areas)\n",
    "5. Examine connectivity between segments in adjacent slices\n",
    "6. Visualize individual segments and the connectivity graph\n",
    "\n",
    "**Key Concepts:**\n",
    "- **Slices** = 3D volumes between z-planes (e.g., z=-1.0 to z=-0.5)\n",
    "- **Segments** = Connected components within each slice (one segment per closed region)\n",
    "- **Connectivity** = Graph edges between segments that share faces in 3D space\n",
    "\n",
    "The segmentation algorithm correctly identifies that this particular cylinder mesh has most of its geometry concentrated in the end caps, resulting in fewer segments than the number of slices. For meshes with more uniform geometry (like a torus), we would see exactly one segment per slice."
   ]
  }
 ],
 "metadata": {
  "kernelspec": {
   "display_name": "gencomo",
   "language": "python",
   "name": "python3"
  },
  "language_info": {
   "codemirror_mode": {
    "name": "ipython",
    "version": 3
   },
   "file_extension": ".py",
   "mimetype": "text/x-python",
   "name": "python",
   "nbconvert_exporter": "python",
   "pygments_lexer": "ipython3",
   "version": "3.12.8"
  }
 },
 "nbformat": 4,
 "nbformat_minor": 5
}
