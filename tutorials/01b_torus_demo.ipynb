{
 "cells": [
  {
   "cell_type": "markdown",
   "id": "190071cc",
   "metadata": {},
   "source": [
    "# GenCoMo Tutorial: Torus Mesh Demo\n",
    "\n",
    "This tutorial shows how to create and visualize torus (donut-shaped) mesh geometries using GenCoMo. Torus meshes can represent ring-like neuronal structures or be used as building blocks for more complex morphologies.\n",
    "\n",
    "## What You'll Learn\n",
    "\n",
    "- Create torus meshes with different major and minor radii\n",
    "- Visualize torus geometry in 3D with proper aspect ratios\n",
    "- Explore torus cross-sections to understand the ring structure\n",
    "- Analyze torus properties and compare different configurations"
   ]
  },
  {
   "cell_type": "markdown",
   "id": "c4a509b4",
   "metadata": {},
   "source": [
    "## Setup\n",
    "\n",
    "First, let's import the necessary libraries:"
   ]
  },
  {
   "cell_type": "code",
   "execution_count": null,
   "id": "6c9b004e",
   "metadata": {},
   "outputs": [],
   "source": [
    "import numpy as np\n",
    "import trimesh\n",
    "import plotly.graph_objects as go\n",
    "\n",
    "# Import GenCoMo functions\n",
    "from gencomo.demos import create_torus_mesh\n",
    "from gencomo.mesh import (\n",
    "    visualize_mesh_3d, \n",
    "    analyze_mesh_properties, \n",
    "    visualize_mesh_slice_interactive,\n",
    "    visualize_mesh_slice_grid\n",
    ")\n",
    "\n",
    "print(\"✅ Libraries imported successfully!\")"
   ]
  },
  {
   "cell_type": "markdown",
   "id": "0578fd24",
   "metadata": {},
   "source": [
    "## Understanding Torus Parameters\n",
    "\n",
    "A torus has two key radii:\n",
    "- **Major radius**: Distance from the center of the torus to the center of the tube\n",
    "- **Minor radius**: Radius of the tube itself\n",
    "\n",
    "Let's create a standard torus:"
   ]
  },
  {
   "cell_type": "code",
   "execution_count": null,
   "id": "bdcda061",
   "metadata": {},
   "outputs": [],
   "source": [
    "# Create a basic torus mesh\n",
    "torus = create_torus_mesh(\n",
    "    major_radius=20.0,   # 20 micrometers from center to tube center\n",
    "    minor_radius=5.0,    # 5 micrometers tube radius\n",
    "    major_segments=20,   # 20 segments around the ring\n",
    "    minor_segments=12    # 12 segments around the tube\n",
    ")\n",
    "\n",
    "print(f\"Created torus with {len(torus.vertices)} vertices and {len(torus.faces)} faces\")\n",
    "print(f\"Volume: {torus.volume:.2f} μm³\")\n",
    "print(f\"Surface area: {torus.area:.2f} μm²\")"
   ]
  },
  {
   "cell_type": "markdown",
   "id": "9996161e",
   "metadata": {},
   "source": [
    "## 3D Visualization\n",
    "\n",
    "Let's visualize our torus in 3D:"
   ]
  },
  {
   "cell_type": "code",
   "execution_count": null,
   "id": "29260b58",
   "metadata": {},
   "outputs": [],
   "source": [
    "# Visualize the torus\n",
    "fig = visualize_mesh_3d(\n",
    "    torus, \n",
    "    title=\"Torus Ring Mesh\",\n",
    "    color=\"purple\",\n",
    "    backend=\"plotly\"\n",
    ")\n",
    "fig.show()"
   ]
  },
  {
   "cell_type": "markdown",
   "id": "d5f57f75",
   "metadata": {},
   "source": [
    "## Interactive Cross-Section Exploration\n",
    "\n",
    "The cross-sections of a torus are particularly interesting - they show the ring structure beautifully:"
   ]
  },
  {
   "cell_type": "code",
   "execution_count": null,
   "id": "3f8fe673",
   "metadata": {},
   "outputs": [],
   "source": [
    "# Interactive slice view of the torus - great for seeing the ring structure\n",
    "fig_torus_slice = visualize_mesh_slice_interactive(\n",
    "    torus,\n",
    "    title=\"Interactive Torus Cross-Sections\",\n",
    "    slice_color=\"darkmagenta\",\n",
    "    mesh_color=\"purple\",\n",
    "    mesh_opacity=0.3\n",
    ")\n",
    "fig_torus_slice.show()"
   ]
  },
  {
   "cell_type": "markdown",
   "id": "0d92f1e5",
   "metadata": {},
   "source": [
    "## Grid View of Cross-Sections\n",
    "\n",
    "Let's also look at a grid of cross-sections to see how the torus structure changes along the Z-axis:"
   ]
  },
  {
   "cell_type": "code",
   "execution_count": null,
   "id": "89007f2d",
   "metadata": {},
   "outputs": [],
   "source": [
    "# Grid view of torus slices\n",
    "fig_grid = visualize_mesh_slice_grid(\n",
    "    torus,\n",
    "    title=\"Torus Cross-Section Grid\",\n",
    "    num_slices=9  # 3x3 grid\n",
    ")\n",
    "fig_grid.show()"
   ]
  },
  {
   "cell_type": "markdown",
   "id": "60d2650f",
   "metadata": {},
   "source": [
    "## Mesh Properties\n",
    "\n",
    "Let's analyze the properties of our torus:"
   ]
  },
  {
   "cell_type": "code",
   "execution_count": null,
   "id": "b703832f",
   "metadata": {},
   "outputs": [],
   "source": [
    "# Analyze the torus mesh properties\n",
    "props = analyze_mesh_properties(torus)\n",
    "print(\"=== Torus Mesh Properties ===\")\n",
    "print(f\"Vertices: {props['num_vertices']}\")\n",
    "print(f\"Faces: {props['num_faces']}\")\n",
    "print(f\"Volume: {props['volume']:.2f} μm³\")\n",
    "print(f\"Surface Area: {props['surface_area']:.2f} μm²\")\n",
    "print(f\"X bounds: {props['bounds']['x_range'][0]:.1f} to {props['bounds']['x_range'][1]:.1f} μm\")\n",
    "print(f\"Y bounds: {props['bounds']['y_range'][0]:.1f} to {props['bounds']['y_range'][1]:.1f} μm\")\n",
    "print(f\"Z bounds: {props['bounds']['z_range'][0]:.1f} to {props['bounds']['z_range'][1]:.1f} μm\")"
   ]
  },
  {
   "cell_type": "markdown",
   "id": "63f077be",
   "metadata": {},
   "source": [
    "## Saving Your Torus Mesh\n",
    "\n",
    "Finally, let's save our torus mesh for later use:"
   ]
  },
  {
   "cell_type": "code",
   "execution_count": null,
   "id": "c9ff4902",
   "metadata": {},
   "outputs": [],
   "source": [
    "# Save the torus mesh\n",
    "import os\n",
    "\n",
    "output_dir = \"data/mesh\"\n",
    "os.makedirs(output_dir, exist_ok=True)\n",
    "\n",
    "# Save the torus\n",
    "filename = f\"{output_dir}/torus_demo.stl\"\n",
    "torus.export(filename)\n",
    "print(f\"💾 Saved torus to: {filename}\")"
   ]
  },
  {
   "cell_type": "markdown",
   "id": "36550243",
   "metadata": {},
   "source": [
    "## Summary\n",
    "\n",
    "In this tutorial, you learned how to:\n",
    "\n",
    "1. **Create a torus mesh** with custom major and minor radii\n",
    "2. **Visualize torus geometry** in 3D with proper aspect ratios\n",
    "3. **Explore cross-sections** using interactive slicing tools\n",
    "4. **View slice grids** to understand the ring structure\n",
    "5. **Analyze mesh properties** like volume and surface area\n",
    "6. **Save meshes** to files for later use\n",
    "\n",
    "## Key Insights\n",
    "\n",
    "- **Major radius** controls the overall size of the ring (distance from center to tube center)\n",
    "- **Minor radius** controls the thickness of the tube itself\n",
    "- **Cross-sections** reveal the beautiful ring structure of the torus\n",
    "- **Interactive slicing** helps understand 3D geometry\n",
    "\n",
    "## Next Steps\n",
    "\n",
    "- Try the **Cylinder Demo** (01a_cylinder_demo.ipynb) for basic linear structures\n",
    "- Explore **Branching Demo** (01c_branching_demo.ipynb) for Y-shaped geometries  \n",
    "- Learn about **Complete Neurons** (01d_neuron_demo.ipynb) with soma, dendrites, and axon\n",
    "- Use torus meshes as building blocks for complex neuronal structures"
   ]
  }
 ],
 "metadata": {
  "language_info": {
   "name": "python"
  }
 },
 "nbformat": 4,
 "nbformat_minor": 5
}
