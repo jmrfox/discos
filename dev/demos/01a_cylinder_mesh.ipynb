{
 "cells": [
  {
   "cell_type": "markdown",
   "id": "28f52917",
   "metadata": {},
   "source": [
    "# 01a - Cylinder Mesh Demo\n",
    "\n",
    "Create and visualize cylindrical mesh geometries using GenCoMo.\n",
    "\n",
    "**Part of the GenCoMo Tutorial Series** - [Return to Index](01_tutorial_index.ipynb)"
   ]
  },
  {
   "cell_type": "markdown",
   "id": "7039df37",
   "metadata": {},
   "source": [
    "## Setup"
   ]
  },
  {
   "cell_type": "code",
   "execution_count": null,
   "id": "fa6f7213",
   "metadata": {},
   "outputs": [
    {
     "ename": "ImportError",
     "evalue": "cannot import name 'visualize_mesh_slice_grid' from 'gencomo.mesh' (c:\\Users\\MainUser\\Documents\\GitHub\\gencomo\\gencomo\\mesh\\__init__.py)",
     "output_type": "error",
     "traceback": [
      "\u001b[31m---------------------------------------------------------------------------\u001b[39m",
      "\u001b[31mImportError\u001b[39m                               Traceback (most recent call last)",
      "\u001b[36mCell\u001b[39m\u001b[36m \u001b[39m\u001b[32mIn[10]\u001b[39m\u001b[32m, line 7\u001b[39m\n\u001b[32m      5\u001b[39m \u001b[38;5;66;03m# Import GenCoMo functions\u001b[39;00m\n\u001b[32m      6\u001b[39m \u001b[38;5;28;01mfrom\u001b[39;00m\u001b[38;5;250m \u001b[39m\u001b[34;01mgencomo\u001b[39;00m\u001b[34;01m.\u001b[39;00m\u001b[34;01mdemos\u001b[39;00m\u001b[38;5;250m \u001b[39m\u001b[38;5;28;01mimport\u001b[39;00m create_cylinder_mesh\n\u001b[32m----> \u001b[39m\u001b[32m7\u001b[39m \u001b[38;5;28;01mfrom\u001b[39;00m\u001b[38;5;250m \u001b[39m\u001b[34;01mgencomo\u001b[39;00m\u001b[34;01m.\u001b[39;00m\u001b[34;01mmesh\u001b[39;00m\u001b[38;5;250m \u001b[39m\u001b[38;5;28;01mimport\u001b[39;00m (\n\u001b[32m      8\u001b[39m     visualize_mesh_3d,\n\u001b[32m      9\u001b[39m     analyze_mesh,\n\u001b[32m     10\u001b[39m     visualize_mesh_slice_interactive,\n\u001b[32m     11\u001b[39m     visualize_mesh_slice_grid\n\u001b[32m     12\u001b[39m )\n\u001b[32m     14\u001b[39m \u001b[38;5;28mprint\u001b[39m(\u001b[33m\"\u001b[39m\u001b[33m✅ Libraries imported successfully!\u001b[39m\u001b[33m\"\u001b[39m)\n",
      "\u001b[31mImportError\u001b[39m: cannot import name 'visualize_mesh_slice_grid' from 'gencomo.mesh' (c:\\Users\\MainUser\\Documents\\GitHub\\gencomo\\gencomo\\mesh\\__init__.py)"
     ]
    }
   ],
   "source": [
    "import numpy as np\n",
    "import trimesh\n",
    "import plotly.graph_objects as go\n",
    "\n",
    "# Import GenCoMo functions\n",
    "from gencomo.demos import create_cylinder_mesh\n",
    "from gencomo.mesh import (\n",
    "    visualize_mesh_3d,\n",
    "    analyze_mesh,\n",
    "    visualize_mesh_slice_interactive,\n",
    ")\n",
    "# Import from main mesh module until it's moved to submodule\n",
    "from gencomo.mesh import visualize_mesh_slice_grid\n",
    "\n",
    "print(\"✅ Libraries imported successfully!\")"
   ]
  },
  {
   "cell_type": "markdown",
   "id": "acc3f452",
   "metadata": {},
   "source": [
    "## Create Cylinder"
   ]
  },
  {
   "cell_type": "code",
   "execution_count": null,
   "id": "4f0e4568",
   "metadata": {},
   "outputs": [
    {
     "name": "stdout",
     "output_type": "stream",
     "text": [
      "Created cylinder with 34 vertices and 64 faces\n"
     ]
    }
   ],
   "source": [
    "# Create a cylinder mesh\n",
    "cylinder = create_cylinder_mesh(\n",
    "    length=100.0,    # 100 micrometers long\n",
    "    radius=5.0,      # 5 micrometers radius\n",
    "    resolution=16,   # 16 sides\n",
    "    axis='z'         # oriented along z-axis\n",
    ")\n",
    "\n",
    "print(f\"Created cylinder with {len(cylinder.vertices)} vertices and {len(cylinder.faces)} faces\")"
   ]
  },
  {
   "cell_type": "markdown",
   "id": "82e88070",
   "metadata": {},
   "source": [
    "## 3D Visualization"
   ]
  },
  {
   "cell_type": "code",
   "execution_count": null,
   "id": "f38f8c5b",
   "metadata": {},
   "outputs": [
    {
     "data": {
      "application/vnd.plotly.v1+json": {
       "config": {
        "plotlyServerURL": "https://plot.ly"
       },
       "data": [
        {
         "color": "lightblue",
         "i": {
          "bdata": "AQECAgQEBQUGBgcHCAgJCQoKCwsMDA0NDg4PDxAQERESEhMTFBQVFRYWFxcYGBkZGhobGxwcHR0eHh8fICAhIQ==",
          "dtype": "i1"
         },
         "j": {
          "bdata": "AAQEBQAGBgcACAgJAAoKCwAMDA0ADg4PABAQEQASEhMAFBQVABYWFwAYGBkAGhobABwcHQAeHh8AICAhAAEBAg==",
          "dtype": "i1"
         },
         "k": {
          "bdata": "BAIFAwYFBwMIBwkDCgkLAwwLDQMODQ8DEA8RAxIREwMUExUDFhUXAxgXGQMaGRsDHBsdAx4dHwMgHyEDASECAw==",
          "dtype": "i1"
         },
         "name": "Mesh",
         "opacity": 0.8,
         "type": "mesh3d",
         "x": {
          "bdata": "AAAAAAAAAAAAAAAAAADwPwAAAAAAAPA/AAAAAAAAAABGjTLPa5DtP0aNMs9rkO0/zTt/Zp6g5j/NO39mnqDmP2Sprqbifdg/ZKmupuJ92D8HXBQzJqaRPAdcFDMmppE8YqmupuJ92L9iqa6m4n3Yv8w7f2aeoOa/zDt/Zp6g5r9GjTLPa5Dtv0aNMs9rkO2/AAAAAAAA8L8AAAAAAADwv0eNMs9rkO2/R40yz2uQ7b/OO39mnqDmv847f2aeoOa/bamupuJ92L9tqa6m4n3YvwqKnkw5eaq8CoqeTDl5qrxnqa6m4n3YP2eprqbifdg/yzt/Zp6g5j/LO39mnqDmP0SNMs9rkO0/RI0yz2uQ7T8=",
          "dtype": "f8"
         },
         "y": {
          "bdata": "AAAAAAAAAAAAAAAAAAAAAAAAAAAAAAAAAAAAAAAAAABjqa6m4n3YP2Oprqbifdg/zTt/Zp6g5j/NO39mnqDmP0aNMs9rkO0/Ro0yz2uQ7T8AAAAAAADwPwAAAAAAAPA/Ro0yz2uQ7T9GjTLPa5DtP807f2aeoOY/zTt/Zp6g5j9lqa6m4n3YP2Wprqbifdg/B1wUMyamoTwHXBQzJqahPGGprqbifdi/YamupuJ92L/MO39mnqDmv8w7f2aeoOa/RI0yz2uQ7b9EjTLPa5DtvwAAAAAAAPC/AAAAAAAA8L9FjTLPa5Dtv0WNMs9rkO2/zjt/Zp6g5r/OO39mnqDmv26prqbifdi/bqmupuJ92L8=",
          "dtype": "f8"
         },
         "z": {
          "bdata": "AAAAAAAAJMAAAAAAAAAkwAAAAAAAACRAAAAAAAAAJEAAAAAAAAAkwAAAAAAAACRAAAAAAAAAJMAAAAAAAAAkQAAAAAAAACTAAAAAAAAAJEAAAAAAAAAkwAAAAAAAACRAAAAAAAAAJMAAAAAAAAAkQAAAAAAAACTAAAAAAAAAJEAAAAAAAAAkwAAAAAAAACRAAAAAAAAAJMAAAAAAAAAkQAAAAAAAACTAAAAAAAAAJEAAAAAAAAAkwAAAAAAAACRAAAAAAAAAJMAAAAAAAAAkQAAAAAAAACTAAAAAAAAAJEAAAAAAAAAkwAAAAAAAACRAAAAAAAAAJMAAAAAAAAAkQAAAAAAAACTAAAAAAAAAJEA=",
          "dtype": "f8"
         }
        }
       ],
       "layout": {
        "scene": {
         "aspectmode": "data",
         "xaxis": {
          "visible": true
         },
         "yaxis": {
          "visible": true
         },
         "zaxis": {
          "visible": true
         }
        },
        "template": {
         "data": {
          "bar": [
           {
            "error_x": {
             "color": "#2a3f5f"
            },
            "error_y": {
             "color": "#2a3f5f"
            },
            "marker": {
             "line": {
              "color": "#E5ECF6",
              "width": 0.5
             },
             "pattern": {
              "fillmode": "overlay",
              "size": 10,
              "solidity": 0.2
             }
            },
            "type": "bar"
           }
          ],
          "barpolar": [
           {
            "marker": {
             "line": {
              "color": "#E5ECF6",
              "width": 0.5
             },
             "pattern": {
              "fillmode": "overlay",
              "size": 10,
              "solidity": 0.2
             }
            },
            "type": "barpolar"
           }
          ],
          "carpet": [
           {
            "aaxis": {
             "endlinecolor": "#2a3f5f",
             "gridcolor": "white",
             "linecolor": "white",
             "minorgridcolor": "white",
             "startlinecolor": "#2a3f5f"
            },
            "baxis": {
             "endlinecolor": "#2a3f5f",
             "gridcolor": "white",
             "linecolor": "white",
             "minorgridcolor": "white",
             "startlinecolor": "#2a3f5f"
            },
            "type": "carpet"
           }
          ],
          "choropleth": [
           {
            "colorbar": {
             "outlinewidth": 0,
             "ticks": ""
            },
            "type": "choropleth"
           }
          ],
          "contour": [
           {
            "colorbar": {
             "outlinewidth": 0,
             "ticks": ""
            },
            "colorscale": [
             [
              0,
              "#0d0887"
             ],
             [
              0.1111111111111111,
              "#46039f"
             ],
             [
              0.2222222222222222,
              "#7201a8"
             ],
             [
              0.3333333333333333,
              "#9c179e"
             ],
             [
              0.4444444444444444,
              "#bd3786"
             ],
             [
              0.5555555555555556,
              "#d8576b"
             ],
             [
              0.6666666666666666,
              "#ed7953"
             ],
             [
              0.7777777777777778,
              "#fb9f3a"
             ],
             [
              0.8888888888888888,
              "#fdca26"
             ],
             [
              1,
              "#f0f921"
             ]
            ],
            "type": "contour"
           }
          ],
          "contourcarpet": [
           {
            "colorbar": {
             "outlinewidth": 0,
             "ticks": ""
            },
            "type": "contourcarpet"
           }
          ],
          "heatmap": [
           {
            "colorbar": {
             "outlinewidth": 0,
             "ticks": ""
            },
            "colorscale": [
             [
              0,
              "#0d0887"
             ],
             [
              0.1111111111111111,
              "#46039f"
             ],
             [
              0.2222222222222222,
              "#7201a8"
             ],
             [
              0.3333333333333333,
              "#9c179e"
             ],
             [
              0.4444444444444444,
              "#bd3786"
             ],
             [
              0.5555555555555556,
              "#d8576b"
             ],
             [
              0.6666666666666666,
              "#ed7953"
             ],
             [
              0.7777777777777778,
              "#fb9f3a"
             ],
             [
              0.8888888888888888,
              "#fdca26"
             ],
             [
              1,
              "#f0f921"
             ]
            ],
            "type": "heatmap"
           }
          ],
          "histogram": [
           {
            "marker": {
             "pattern": {
              "fillmode": "overlay",
              "size": 10,
              "solidity": 0.2
             }
            },
            "type": "histogram"
           }
          ],
          "histogram2d": [
           {
            "colorbar": {
             "outlinewidth": 0,
             "ticks": ""
            },
            "colorscale": [
             [
              0,
              "#0d0887"
             ],
             [
              0.1111111111111111,
              "#46039f"
             ],
             [
              0.2222222222222222,
              "#7201a8"
             ],
             [
              0.3333333333333333,
              "#9c179e"
             ],
             [
              0.4444444444444444,
              "#bd3786"
             ],
             [
              0.5555555555555556,
              "#d8576b"
             ],
             [
              0.6666666666666666,
              "#ed7953"
             ],
             [
              0.7777777777777778,
              "#fb9f3a"
             ],
             [
              0.8888888888888888,
              "#fdca26"
             ],
             [
              1,
              "#f0f921"
             ]
            ],
            "type": "histogram2d"
           }
          ],
          "histogram2dcontour": [
           {
            "colorbar": {
             "outlinewidth": 0,
             "ticks": ""
            },
            "colorscale": [
             [
              0,
              "#0d0887"
             ],
             [
              0.1111111111111111,
              "#46039f"
             ],
             [
              0.2222222222222222,
              "#7201a8"
             ],
             [
              0.3333333333333333,
              "#9c179e"
             ],
             [
              0.4444444444444444,
              "#bd3786"
             ],
             [
              0.5555555555555556,
              "#d8576b"
             ],
             [
              0.6666666666666666,
              "#ed7953"
             ],
             [
              0.7777777777777778,
              "#fb9f3a"
             ],
             [
              0.8888888888888888,
              "#fdca26"
             ],
             [
              1,
              "#f0f921"
             ]
            ],
            "type": "histogram2dcontour"
           }
          ],
          "mesh3d": [
           {
            "colorbar": {
             "outlinewidth": 0,
             "ticks": ""
            },
            "type": "mesh3d"
           }
          ],
          "parcoords": [
           {
            "line": {
             "colorbar": {
              "outlinewidth": 0,
              "ticks": ""
             }
            },
            "type": "parcoords"
           }
          ],
          "pie": [
           {
            "automargin": true,
            "type": "pie"
           }
          ],
          "scatter": [
           {
            "fillpattern": {
             "fillmode": "overlay",
             "size": 10,
             "solidity": 0.2
            },
            "type": "scatter"
           }
          ],
          "scatter3d": [
           {
            "line": {
             "colorbar": {
              "outlinewidth": 0,
              "ticks": ""
             }
            },
            "marker": {
             "colorbar": {
              "outlinewidth": 0,
              "ticks": ""
             }
            },
            "type": "scatter3d"
           }
          ],
          "scattercarpet": [
           {
            "marker": {
             "colorbar": {
              "outlinewidth": 0,
              "ticks": ""
             }
            },
            "type": "scattercarpet"
           }
          ],
          "scattergeo": [
           {
            "marker": {
             "colorbar": {
              "outlinewidth": 0,
              "ticks": ""
             }
            },
            "type": "scattergeo"
           }
          ],
          "scattergl": [
           {
            "marker": {
             "colorbar": {
              "outlinewidth": 0,
              "ticks": ""
             }
            },
            "type": "scattergl"
           }
          ],
          "scattermap": [
           {
            "marker": {
             "colorbar": {
              "outlinewidth": 0,
              "ticks": ""
             }
            },
            "type": "scattermap"
           }
          ],
          "scattermapbox": [
           {
            "marker": {
             "colorbar": {
              "outlinewidth": 0,
              "ticks": ""
             }
            },
            "type": "scattermapbox"
           }
          ],
          "scatterpolar": [
           {
            "marker": {
             "colorbar": {
              "outlinewidth": 0,
              "ticks": ""
             }
            },
            "type": "scatterpolar"
           }
          ],
          "scatterpolargl": [
           {
            "marker": {
             "colorbar": {
              "outlinewidth": 0,
              "ticks": ""
             }
            },
            "type": "scatterpolargl"
           }
          ],
          "scatterternary": [
           {
            "marker": {
             "colorbar": {
              "outlinewidth": 0,
              "ticks": ""
             }
            },
            "type": "scatterternary"
           }
          ],
          "surface": [
           {
            "colorbar": {
             "outlinewidth": 0,
             "ticks": ""
            },
            "colorscale": [
             [
              0,
              "#0d0887"
             ],
             [
              0.1111111111111111,
              "#46039f"
             ],
             [
              0.2222222222222222,
              "#7201a8"
             ],
             [
              0.3333333333333333,
              "#9c179e"
             ],
             [
              0.4444444444444444,
              "#bd3786"
             ],
             [
              0.5555555555555556,
              "#d8576b"
             ],
             [
              0.6666666666666666,
              "#ed7953"
             ],
             [
              0.7777777777777778,
              "#fb9f3a"
             ],
             [
              0.8888888888888888,
              "#fdca26"
             ],
             [
              1,
              "#f0f921"
             ]
            ],
            "type": "surface"
           }
          ],
          "table": [
           {
            "cells": {
             "fill": {
              "color": "#EBF0F8"
             },
             "line": {
              "color": "white"
             }
            },
            "header": {
             "fill": {
              "color": "#C8D4E3"
             },
             "line": {
              "color": "white"
             }
            },
            "type": "table"
           }
          ]
         },
         "layout": {
          "annotationdefaults": {
           "arrowcolor": "#2a3f5f",
           "arrowhead": 0,
           "arrowwidth": 1
          },
          "autotypenumbers": "strict",
          "coloraxis": {
           "colorbar": {
            "outlinewidth": 0,
            "ticks": ""
           }
          },
          "colorscale": {
           "diverging": [
            [
             0,
             "#8e0152"
            ],
            [
             0.1,
             "#c51b7d"
            ],
            [
             0.2,
             "#de77ae"
            ],
            [
             0.3,
             "#f1b6da"
            ],
            [
             0.4,
             "#fde0ef"
            ],
            [
             0.5,
             "#f7f7f7"
            ],
            [
             0.6,
             "#e6f5d0"
            ],
            [
             0.7,
             "#b8e186"
            ],
            [
             0.8,
             "#7fbc41"
            ],
            [
             0.9,
             "#4d9221"
            ],
            [
             1,
             "#276419"
            ]
           ],
           "sequential": [
            [
             0,
             "#0d0887"
            ],
            [
             0.1111111111111111,
             "#46039f"
            ],
            [
             0.2222222222222222,
             "#7201a8"
            ],
            [
             0.3333333333333333,
             "#9c179e"
            ],
            [
             0.4444444444444444,
             "#bd3786"
            ],
            [
             0.5555555555555556,
             "#d8576b"
            ],
            [
             0.6666666666666666,
             "#ed7953"
            ],
            [
             0.7777777777777778,
             "#fb9f3a"
            ],
            [
             0.8888888888888888,
             "#fdca26"
            ],
            [
             1,
             "#f0f921"
            ]
           ],
           "sequentialminus": [
            [
             0,
             "#0d0887"
            ],
            [
             0.1111111111111111,
             "#46039f"
            ],
            [
             0.2222222222222222,
             "#7201a8"
            ],
            [
             0.3333333333333333,
             "#9c179e"
            ],
            [
             0.4444444444444444,
             "#bd3786"
            ],
            [
             0.5555555555555556,
             "#d8576b"
            ],
            [
             0.6666666666666666,
             "#ed7953"
            ],
            [
             0.7777777777777778,
             "#fb9f3a"
            ],
            [
             0.8888888888888888,
             "#fdca26"
            ],
            [
             1,
             "#f0f921"
            ]
           ]
          },
          "colorway": [
           "#636efa",
           "#EF553B",
           "#00cc96",
           "#ab63fa",
           "#FFA15A",
           "#19d3f3",
           "#FF6692",
           "#B6E880",
           "#FF97FF",
           "#FECB52"
          ],
          "font": {
           "color": "#2a3f5f"
          },
          "geo": {
           "bgcolor": "white",
           "lakecolor": "white",
           "landcolor": "#E5ECF6",
           "showlakes": true,
           "showland": true,
           "subunitcolor": "white"
          },
          "hoverlabel": {
           "align": "left"
          },
          "hovermode": "closest",
          "mapbox": {
           "style": "light"
          },
          "paper_bgcolor": "white",
          "plot_bgcolor": "#E5ECF6",
          "polar": {
           "angularaxis": {
            "gridcolor": "white",
            "linecolor": "white",
            "ticks": ""
           },
           "bgcolor": "#E5ECF6",
           "radialaxis": {
            "gridcolor": "white",
            "linecolor": "white",
            "ticks": ""
           }
          },
          "scene": {
           "xaxis": {
            "backgroundcolor": "#E5ECF6",
            "gridcolor": "white",
            "gridwidth": 2,
            "linecolor": "white",
            "showbackground": true,
            "ticks": "",
            "zerolinecolor": "white"
           },
           "yaxis": {
            "backgroundcolor": "#E5ECF6",
            "gridcolor": "white",
            "gridwidth": 2,
            "linecolor": "white",
            "showbackground": true,
            "ticks": "",
            "zerolinecolor": "white"
           },
           "zaxis": {
            "backgroundcolor": "#E5ECF6",
            "gridcolor": "white",
            "gridwidth": 2,
            "linecolor": "white",
            "showbackground": true,
            "ticks": "",
            "zerolinecolor": "white"
           }
          },
          "shapedefaults": {
           "line": {
            "color": "#2a3f5f"
           }
          },
          "ternary": {
           "aaxis": {
            "gridcolor": "white",
            "linecolor": "white",
            "ticks": ""
           },
           "baxis": {
            "gridcolor": "white",
            "linecolor": "white",
            "ticks": ""
           },
           "bgcolor": "#E5ECF6",
           "caxis": {
            "gridcolor": "white",
            "linecolor": "white",
            "ticks": ""
           }
          },
          "title": {
           "x": 0.05
          },
          "xaxis": {
           "automargin": true,
           "gridcolor": "white",
           "linecolor": "white",
           "ticks": "",
           "title": {
            "standoff": 15
           },
           "zerolinecolor": "white",
           "zerolinewidth": 2
          },
          "yaxis": {
           "automargin": true,
           "gridcolor": "white",
           "linecolor": "white",
           "ticks": "",
           "title": {
            "standoff": 15
           },
           "zerolinecolor": "white",
           "zerolinewidth": 2
          }
         }
        },
        "title": {
         "text": "Simple Cylinder Mesh"
        }
       }
      }
     },
     "metadata": {},
     "output_type": "display_data"
    }
   ],
   "source": [
    "# Visualize the cylinder\n",
    "fig = visualize_mesh_3d(\n",
    "    cylinder,\n",
    "    title=\"Simple Cylinder Mesh\",\n",
    "    color=\"lightblue\"\n",
    ")\n",
    "fig.show()"
   ]
  },
  {
   "cell_type": "markdown",
   "id": "308cf058",
   "metadata": {},
   "source": [
    "## Interactive Cross-Sections"
   ]
  },
  {
   "cell_type": "code",
   "execution_count": null,
   "id": "8e6e0eab",
   "metadata": {},
   "outputs": [
    {
     "data": {
      "application/vnd.plotly.v1+json": {
       "config": {
        "plotlyServerURL": "https://plot.ly"
       },
       "data": [
        {
         "color": "lightblue",
         "i": {
          "bdata": "AQECAgQEBQUGBgcHCAgJCQoKCwsMDA0NDg4PDxAQERESEhMTFBQVFRYWFxcYGBkZGhobGxwcHR0eHh8fICAhIQ==",
          "dtype": "i1"
         },
         "j": {
          "bdata": "AAQEBQAGBgcACAgJAAoKCwAMDA0ADg4PABAQEQASEhMAFBQVABYWFwAYGBkAGhobABwcHQAeHh8AICAhAAEBAg==",
          "dtype": "i1"
         },
         "k": {
          "bdata": "BAIFAwYFBwMIBwkDCgkLAwwLDQMODQ8DEA8RAxIREwMUExUDFhUXAxgXGQMaGRsDHBsdAx4dHwMgHyEDASECAw==",
          "dtype": "i1"
         },
         "name": "Mesh",
         "opacity": 0.3,
         "showlegend": true,
         "type": "mesh3d",
         "x": {
          "bdata": "AAAAAAAAAAAAAAAAAADwPwAAAAAAAPA/AAAAAAAAAABGjTLPa5DtP0aNMs9rkO0/zTt/Zp6g5j/NO39mnqDmP2Sprqbifdg/ZKmupuJ92D8HXBQzJqaRPAdcFDMmppE8YqmupuJ92L9iqa6m4n3Yv8w7f2aeoOa/zDt/Zp6g5r9GjTLPa5Dtv0aNMs9rkO2/AAAAAAAA8L8AAAAAAADwv0eNMs9rkO2/R40yz2uQ7b/OO39mnqDmv847f2aeoOa/bamupuJ92L9tqa6m4n3YvwqKnkw5eaq8CoqeTDl5qrxnqa6m4n3YP2eprqbifdg/yzt/Zp6g5j/LO39mnqDmP0SNMs9rkO0/RI0yz2uQ7T8=",
          "dtype": "f8"
         },
         "y": {
          "bdata": "AAAAAAAAAAAAAAAAAAAAAAAAAAAAAAAAAAAAAAAAAABjqa6m4n3YP2Oprqbifdg/zTt/Zp6g5j/NO39mnqDmP0aNMs9rkO0/Ro0yz2uQ7T8AAAAAAADwPwAAAAAAAPA/Ro0yz2uQ7T9GjTLPa5DtP807f2aeoOY/zTt/Zp6g5j9lqa6m4n3YP2Wprqbifdg/B1wUMyamoTwHXBQzJqahPGGprqbifdi/YamupuJ92L/MO39mnqDmv8w7f2aeoOa/RI0yz2uQ7b9EjTLPa5DtvwAAAAAAAPC/AAAAAAAA8L9FjTLPa5Dtv0WNMs9rkO2/zjt/Zp6g5r/OO39mnqDmv26prqbifdi/bqmupuJ92L8=",
          "dtype": "f8"
         },
         "z": {
          "bdata": "AAAAAAAAJMAAAAAAAAAkwAAAAAAAACRAAAAAAAAAJEAAAAAAAAAkwAAAAAAAACRAAAAAAAAAJMAAAAAAAAAkQAAAAAAAACTAAAAAAAAAJEAAAAAAAAAkwAAAAAAAACRAAAAAAAAAJMAAAAAAAAAkQAAAAAAAACTAAAAAAAAAJEAAAAAAAAAkwAAAAAAAACRAAAAAAAAAJMAAAAAAAAAkQAAAAAAAACTAAAAAAAAAJEAAAAAAAAAkwAAAAAAAACRAAAAAAAAAJMAAAAAAAAAkQAAAAAAAACTAAAAAAAAAJEAAAAAAAAAkwAAAAAAAACRAAAAAAAAAJMAAAAAAAAAkQAAAAAAAACTAAAAAAAAAJEA=",
          "dtype": "f8"
         }
        }
       ],
       "frames": [
        {
         "data": [
          {
           "color": "lightblue",
           "i": {
            "bdata": "AQECAgQEBQUGBgcHCAgJCQoKCwsMDA0NDg4PDxAQERESEhMTFBQVFRYWFxcYGBkZGhobGxwcHR0eHh8fICAhIQ==",
            "dtype": "i1"
           },
           "j": {
            "bdata": "AAQEBQAGBgcACAgJAAoKCwAMDA0ADg4PABAQEQASEhMAFBQVABYWFwAYGBkAGhobABwcHQAeHh8AICAhAAEBAg==",
            "dtype": "i1"
           },
           "k": {
            "bdata": "BAIFAwYFBwMIBwkDCgkLAwwLDQMODQ8DEA8RAxIREwMUExUDFhUXAxgXGQMaGRsDHBsdAx4dHwMgHyEDASECAw==",
            "dtype": "i1"
           },
           "name": "Mesh",
           "opacity": 0.3,
           "type": "mesh3d",
           "x": {
            "bdata": "AAAAAAAAAAAAAAAAAADwPwAAAAAAAPA/AAAAAAAAAABGjTLPa5DtP0aNMs9rkO0/zTt/Zp6g5j/NO39mnqDmP2Sprqbifdg/ZKmupuJ92D8HXBQzJqaRPAdcFDMmppE8YqmupuJ92L9iqa6m4n3Yv8w7f2aeoOa/zDt/Zp6g5r9GjTLPa5Dtv0aNMs9rkO2/AAAAAAAA8L8AAAAAAADwv0eNMs9rkO2/R40yz2uQ7b/OO39mnqDmv847f2aeoOa/bamupuJ92L9tqa6m4n3YvwqKnkw5eaq8CoqeTDl5qrxnqa6m4n3YP2eprqbifdg/yzt/Zp6g5j/LO39mnqDmP0SNMs9rkO0/RI0yz2uQ7T8=",
            "dtype": "f8"
           },
           "y": {
            "bdata": "AAAAAAAAAAAAAAAAAAAAAAAAAAAAAAAAAAAAAAAAAABjqa6m4n3YP2Oprqbifdg/zTt/Zp6g5j/NO39mnqDmP0aNMs9rkO0/Ro0yz2uQ7T8AAAAAAADwPwAAAAAAAPA/Ro0yz2uQ7T9GjTLPa5DtP807f2aeoOY/zTt/Zp6g5j9lqa6m4n3YP2Wprqbifdg/B1wUMyamoTwHXBQzJqahPGGprqbifdi/YamupuJ92L/MO39mnqDmv8w7f2aeoOa/RI0yz2uQ7b9EjTLPa5DtvwAAAAAAAPC/AAAAAAAA8L9FjTLPa5Dtv0WNMs9rkO2/zjt/Zp6g5r/OO39mnqDmv26prqbifdi/bqmupuJ92L8=",
            "dtype": "f8"
           },
           "z": {
            "bdata": "AAAAAAAAJMAAAAAAAAAkwAAAAAAAACRAAAAAAAAAJEAAAAAAAAAkwAAAAAAAACRAAAAAAAAAJMAAAAAAAAAkQAAAAAAAACTAAAAAAAAAJEAAAAAAAAAkwAAAAAAAACRAAAAAAAAAJMAAAAAAAAAkQAAAAAAAACTAAAAAAAAAJEAAAAAAAAAkwAAAAAAAACRAAAAAAAAAJMAAAAAAAAAkQAAAAAAAACTAAAAAAAAAJEAAAAAAAAAkwAAAAAAAACRAAAAAAAAAJMAAAAAAAAAkQAAAAAAAACTAAAAAAAAAJEAAAAAAAAAkwAAAAAAAACRAAAAAAAAAJMAAAAAAAAAkQAAAAAAAACTAAAAAAAAAJEA=",
            "dtype": "f8"
           }
          }
         ],
         "name": "0"
        },
        {
         "data": [
          {
           "color": "lightblue",
           "i": {
            "bdata": "AQECAgQEBQUGBgcHCAgJCQoKCwsMDA0NDg4PDxAQERESEhMTFBQVFRYWFxcYGBkZGhobGxwcHR0eHh8fICAhIQ==",
            "dtype": "i1"
           },
           "j": {
            "bdata": "AAQEBQAGBgcACAgJAAoKCwAMDA0ADg4PABAQEQASEhMAFBQVABYWFwAYGBkAGhobABwcHQAeHh8AICAhAAEBAg==",
            "dtype": "i1"
           },
           "k": {
            "bdata": "BAIFAwYFBwMIBwkDCgkLAwwLDQMODQ8DEA8RAxIREwMUExUDFhUXAxgXGQMaGRsDHBsdAx4dHwMgHyEDASECAw==",
            "dtype": "i1"
           },
           "name": "Mesh",
           "opacity": 0.3,
           "type": "mesh3d",
           "x": {
            "bdata": "AAAAAAAAAAAAAAAAAADwPwAAAAAAAPA/AAAAAAAAAABGjTLPa5DtP0aNMs9rkO0/zTt/Zp6g5j/NO39mnqDmP2Sprqbifdg/ZKmupuJ92D8HXBQzJqaRPAdcFDMmppE8YqmupuJ92L9iqa6m4n3Yv8w7f2aeoOa/zDt/Zp6g5r9GjTLPa5Dtv0aNMs9rkO2/AAAAAAAA8L8AAAAAAADwv0eNMs9rkO2/R40yz2uQ7b/OO39mnqDmv847f2aeoOa/bamupuJ92L9tqa6m4n3YvwqKnkw5eaq8CoqeTDl5qrxnqa6m4n3YP2eprqbifdg/yzt/Zp6g5j/LO39mnqDmP0SNMs9rkO0/RI0yz2uQ7T8=",
            "dtype": "f8"
           },
           "y": {
            "bdata": "AAAAAAAAAAAAAAAAAAAAAAAAAAAAAAAAAAAAAAAAAABjqa6m4n3YP2Oprqbifdg/zTt/Zp6g5j/NO39mnqDmP0aNMs9rkO0/Ro0yz2uQ7T8AAAAAAADwPwAAAAAAAPA/Ro0yz2uQ7T9GjTLPa5DtP807f2aeoOY/zTt/Zp6g5j9lqa6m4n3YP2Wprqbifdg/B1wUMyamoTwHXBQzJqahPGGprqbifdi/YamupuJ92L/MO39mnqDmv8w7f2aeoOa/RI0yz2uQ7b9EjTLPa5DtvwAAAAAAAPC/AAAAAAAA8L9FjTLPa5Dtv0WNMs9rkO2/zjt/Zp6g5r/OO39mnqDmv26prqbifdi/bqmupuJ92L8=",
            "dtype": "f8"
           },
           "z": {
            "bdata": "AAAAAAAAJMAAAAAAAAAkwAAAAAAAACRAAAAAAAAAJEAAAAAAAAAkwAAAAAAAACRAAAAAAAAAJMAAAAAAAAAkQAAAAAAAACTAAAAAAAAAJEAAAAAAAAAkwAAAAAAAACRAAAAAAAAAJMAAAAAAAAAkQAAAAAAAACTAAAAAAAAAJEAAAAAAAAAkwAAAAAAAACRAAAAAAAAAJMAAAAAAAAAkQAAAAAAAACTAAAAAAAAAJEAAAAAAAAAkwAAAAAAAACRAAAAAAAAAJMAAAAAAAAAkQAAAAAAAACTAAAAAAAAAJEAAAAAAAAAkwAAAAAAAACRAAAAAAAAAJMAAAAAAAAAkQAAAAAAAACTAAAAAAAAAJEA=",
            "dtype": "f8"
           }
          }
         ],
         "name": "1"
        },
        {
         "data": [
          {
           "color": "lightblue",
           "i": {
            "bdata": "AQECAgQEBQUGBgcHCAgJCQoKCwsMDA0NDg4PDxAQERESEhMTFBQVFRYWFxcYGBkZGhobGxwcHR0eHh8fICAhIQ==",
            "dtype": "i1"
           },
           "j": {
            "bdata": "AAQEBQAGBgcACAgJAAoKCwAMDA0ADg4PABAQEQASEhMAFBQVABYWFwAYGBkAGhobABwcHQAeHh8AICAhAAEBAg==",
            "dtype": "i1"
           },
           "k": {
            "bdata": "BAIFAwYFBwMIBwkDCgkLAwwLDQMODQ8DEA8RAxIREwMUExUDFhUXAxgXGQMaGRsDHBsdAx4dHwMgHyEDASECAw==",
            "dtype": "i1"
           },
           "name": "Mesh",
           "opacity": 0.3,
           "type": "mesh3d",
           "x": {
            "bdata": "AAAAAAAAAAAAAAAAAADwPwAAAAAAAPA/AAAAAAAAAABGjTLPa5DtP0aNMs9rkO0/zTt/Zp6g5j/NO39mnqDmP2Sprqbifdg/ZKmupuJ92D8HXBQzJqaRPAdcFDMmppE8YqmupuJ92L9iqa6m4n3Yv8w7f2aeoOa/zDt/Zp6g5r9GjTLPa5Dtv0aNMs9rkO2/AAAAAAAA8L8AAAAAAADwv0eNMs9rkO2/R40yz2uQ7b/OO39mnqDmv847f2aeoOa/bamupuJ92L9tqa6m4n3YvwqKnkw5eaq8CoqeTDl5qrxnqa6m4n3YP2eprqbifdg/yzt/Zp6g5j/LO39mnqDmP0SNMs9rkO0/RI0yz2uQ7T8=",
            "dtype": "f8"
           },
           "y": {
            "bdata": "AAAAAAAAAAAAAAAAAAAAAAAAAAAAAAAAAAAAAAAAAABjqa6m4n3YP2Oprqbifdg/zTt/Zp6g5j/NO39mnqDmP0aNMs9rkO0/Ro0yz2uQ7T8AAAAAAADwPwAAAAAAAPA/Ro0yz2uQ7T9GjTLPa5DtP807f2aeoOY/zTt/Zp6g5j9lqa6m4n3YP2Wprqbifdg/B1wUMyamoTwHXBQzJqahPGGprqbifdi/YamupuJ92L/MO39mnqDmv8w7f2aeoOa/RI0yz2uQ7b9EjTLPa5DtvwAAAAAAAPC/AAAAAAAA8L9FjTLPa5Dtv0WNMs9rkO2/zjt/Zp6g5r/OO39mnqDmv26prqbifdi/bqmupuJ92L8=",
            "dtype": "f8"
           },
           "z": {
            "bdata": "AAAAAAAAJMAAAAAAAAAkwAAAAAAAACRAAAAAAAAAJEAAAAAAAAAkwAAAAAAAACRAAAAAAAAAJMAAAAAAAAAkQAAAAAAAACTAAAAAAAAAJEAAAAAAAAAkwAAAAAAAACRAAAAAAAAAJMAAAAAAAAAkQAAAAAAAACTAAAAAAAAAJEAAAAAAAAAkwAAAAAAAACRAAAAAAAAAJMAAAAAAAAAkQAAAAAAAACTAAAAAAAAAJEAAAAAAAAAkwAAAAAAAACRAAAAAAAAAJMAAAAAAAAAkQAAAAAAAACTAAAAAAAAAJEAAAAAAAAAkwAAAAAAAACRAAAAAAAAAJMAAAAAAAAAkQAAAAAAAACTAAAAAAAAAJEA=",
            "dtype": "f8"
           }
          }
         ],
         "name": "2"
        },
        {
         "data": [
          {
           "color": "lightblue",
           "i": {
            "bdata": "AQECAgQEBQUGBgcHCAgJCQoKCwsMDA0NDg4PDxAQERESEhMTFBQVFRYWFxcYGBkZGhobGxwcHR0eHh8fICAhIQ==",
            "dtype": "i1"
           },
           "j": {
            "bdata": "AAQEBQAGBgcACAgJAAoKCwAMDA0ADg4PABAQEQASEhMAFBQVABYWFwAYGBkAGhobABwcHQAeHh8AICAhAAEBAg==",
            "dtype": "i1"
           },
           "k": {
            "bdata": "BAIFAwYFBwMIBwkDCgkLAwwLDQMODQ8DEA8RAxIREwMUExUDFhUXAxgXGQMaGRsDHBsdAx4dHwMgHyEDASECAw==",
            "dtype": "i1"
           },
           "name": "Mesh",
           "opacity": 0.3,
           "type": "mesh3d",
           "x": {
            "bdata": "AAAAAAAAAAAAAAAAAADwPwAAAAAAAPA/AAAAAAAAAABGjTLPa5DtP0aNMs9rkO0/zTt/Zp6g5j/NO39mnqDmP2Sprqbifdg/ZKmupuJ92D8HXBQzJqaRPAdcFDMmppE8YqmupuJ92L9iqa6m4n3Yv8w7f2aeoOa/zDt/Zp6g5r9GjTLPa5Dtv0aNMs9rkO2/AAAAAAAA8L8AAAAAAADwv0eNMs9rkO2/R40yz2uQ7b/OO39mnqDmv847f2aeoOa/bamupuJ92L9tqa6m4n3YvwqKnkw5eaq8CoqeTDl5qrxnqa6m4n3YP2eprqbifdg/yzt/Zp6g5j/LO39mnqDmP0SNMs9rkO0/RI0yz2uQ7T8=",
            "dtype": "f8"
           },
           "y": {
            "bdata": "AAAAAAAAAAAAAAAAAAAAAAAAAAAAAAAAAAAAAAAAAABjqa6m4n3YP2Oprqbifdg/zTt/Zp6g5j/NO39mnqDmP0aNMs9rkO0/Ro0yz2uQ7T8AAAAAAADwPwAAAAAAAPA/Ro0yz2uQ7T9GjTLPa5DtP807f2aeoOY/zTt/Zp6g5j9lqa6m4n3YP2Wprqbifdg/B1wUMyamoTwHXBQzJqahPGGprqbifdi/YamupuJ92L/MO39mnqDmv8w7f2aeoOa/RI0yz2uQ7b9EjTLPa5DtvwAAAAAAAPC/AAAAAAAA8L9FjTLPa5Dtv0WNMs9rkO2/zjt/Zp6g5r/OO39mnqDmv26prqbifdi/bqmupuJ92L8=",
            "dtype": "f8"
           },
           "z": {
            "bdata": "AAAAAAAAJMAAAAAAAAAkwAAAAAAAACRAAAAAAAAAJEAAAAAAAAAkwAAAAAAAACRAAAAAAAAAJMAAAAAAAAAkQAAAAAAAACTAAAAAAAAAJEAAAAAAAAAkwAAAAAAAACRAAAAAAAAAJMAAAAAAAAAkQAAAAAAAACTAAAAAAAAAJEAAAAAAAAAkwAAAAAAAACRAAAAAAAAAJMAAAAAAAAAkQAAAAAAAACTAAAAAAAAAJEAAAAAAAAAkwAAAAAAAACRAAAAAAAAAJMAAAAAAAAAkQAAAAAAAACTAAAAAAAAAJEAAAAAAAAAkwAAAAAAAACRAAAAAAAAAJMAAAAAAAAAkQAAAAAAAACTAAAAAAAAAJEA=",
            "dtype": "f8"
           }
          }
         ],
         "name": "3"
        },
        {
         "data": [
          {
           "color": "lightblue",
           "i": {
            "bdata": "AQECAgQEBQUGBgcHCAgJCQoKCwsMDA0NDg4PDxAQERESEhMTFBQVFRYWFxcYGBkZGhobGxwcHR0eHh8fICAhIQ==",
            "dtype": "i1"
           },
           "j": {
            "bdata": "AAQEBQAGBgcACAgJAAoKCwAMDA0ADg4PABAQEQASEhMAFBQVABYWFwAYGBkAGhobABwcHQAeHh8AICAhAAEBAg==",
            "dtype": "i1"
           },
           "k": {
            "bdata": "BAIFAwYFBwMIBwkDCgkLAwwLDQMODQ8DEA8RAxIREwMUExUDFhUXAxgXGQMaGRsDHBsdAx4dHwMgHyEDASECAw==",
            "dtype": "i1"
           },
           "name": "Mesh",
           "opacity": 0.3,
           "type": "mesh3d",
           "x": {
            "bdata": "AAAAAAAAAAAAAAAAAADwPwAAAAAAAPA/AAAAAAAAAABGjTLPa5DtP0aNMs9rkO0/zTt/Zp6g5j/NO39mnqDmP2Sprqbifdg/ZKmupuJ92D8HXBQzJqaRPAdcFDMmppE8YqmupuJ92L9iqa6m4n3Yv8w7f2aeoOa/zDt/Zp6g5r9GjTLPa5Dtv0aNMs9rkO2/AAAAAAAA8L8AAAAAAADwv0eNMs9rkO2/R40yz2uQ7b/OO39mnqDmv847f2aeoOa/bamupuJ92L9tqa6m4n3YvwqKnkw5eaq8CoqeTDl5qrxnqa6m4n3YP2eprqbifdg/yzt/Zp6g5j/LO39mnqDmP0SNMs9rkO0/RI0yz2uQ7T8=",
            "dtype": "f8"
           },
           "y": {
            "bdata": "AAAAAAAAAAAAAAAAAAAAAAAAAAAAAAAAAAAAAAAAAABjqa6m4n3YP2Oprqbifdg/zTt/Zp6g5j/NO39mnqDmP0aNMs9rkO0/Ro0yz2uQ7T8AAAAAAADwPwAAAAAAAPA/Ro0yz2uQ7T9GjTLPa5DtP807f2aeoOY/zTt/Zp6g5j9lqa6m4n3YP2Wprqbifdg/B1wUMyamoTwHXBQzJqahPGGprqbifdi/YamupuJ92L/MO39mnqDmv8w7f2aeoOa/RI0yz2uQ7b9EjTLPa5DtvwAAAAAAAPC/AAAAAAAA8L9FjTLPa5Dtv0WNMs9rkO2/zjt/Zp6g5r/OO39mnqDmv26prqbifdi/bqmupuJ92L8=",
            "dtype": "f8"
           },
           "z": {
            "bdata": "AAAAAAAAJMAAAAAAAAAkwAAAAAAAACRAAAAAAAAAJEAAAAAAAAAkwAAAAAAAACRAAAAAAAAAJMAAAAAAAAAkQAAAAAAAACTAAAAAAAAAJEAAAAAAAAAkwAAAAAAAACRAAAAAAAAAJMAAAAAAAAAkQAAAAAAAACTAAAAAAAAAJEAAAAAAAAAkwAAAAAAAACRAAAAAAAAAJMAAAAAAAAAkQAAAAAAAACTAAAAAAAAAJEAAAAAAAAAkwAAAAAAAACRAAAAAAAAAJMAAAAAAAAAkQAAAAAAAACTAAAAAAAAAJEAAAAAAAAAkwAAAAAAAACRAAAAAAAAAJMAAAAAAAAAkQAAAAAAAACTAAAAAAAAAJEA=",
            "dtype": "f8"
           }
          }
         ],
         "name": "4"
        },
        {
         "data": [
          {
           "color": "lightblue",
           "i": {
            "bdata": "AQECAgQEBQUGBgcHCAgJCQoKCwsMDA0NDg4PDxAQERESEhMTFBQVFRYWFxcYGBkZGhobGxwcHR0eHh8fICAhIQ==",
            "dtype": "i1"
           },
           "j": {
            "bdata": "AAQEBQAGBgcACAgJAAoKCwAMDA0ADg4PABAQEQASEhMAFBQVABYWFwAYGBkAGhobABwcHQAeHh8AICAhAAEBAg==",
            "dtype": "i1"
           },
           "k": {
            "bdata": "BAIFAwYFBwMIBwkDCgkLAwwLDQMODQ8DEA8RAxIREwMUExUDFhUXAxgXGQMaGRsDHBsdAx4dHwMgHyEDASECAw==",
            "dtype": "i1"
           },
           "name": "Mesh",
           "opacity": 0.3,
           "type": "mesh3d",
           "x": {
            "bdata": "AAAAAAAAAAAAAAAAAADwPwAAAAAAAPA/AAAAAAAAAABGjTLPa5DtP0aNMs9rkO0/zTt/Zp6g5j/NO39mnqDmP2Sprqbifdg/ZKmupuJ92D8HXBQzJqaRPAdcFDMmppE8YqmupuJ92L9iqa6m4n3Yv8w7f2aeoOa/zDt/Zp6g5r9GjTLPa5Dtv0aNMs9rkO2/AAAAAAAA8L8AAAAAAADwv0eNMs9rkO2/R40yz2uQ7b/OO39mnqDmv847f2aeoOa/bamupuJ92L9tqa6m4n3YvwqKnkw5eaq8CoqeTDl5qrxnqa6m4n3YP2eprqbifdg/yzt/Zp6g5j/LO39mnqDmP0SNMs9rkO0/RI0yz2uQ7T8=",
            "dtype": "f8"
           },
           "y": {
            "bdata": "AAAAAAAAAAAAAAAAAAAAAAAAAAAAAAAAAAAAAAAAAABjqa6m4n3YP2Oprqbifdg/zTt/Zp6g5j/NO39mnqDmP0aNMs9rkO0/Ro0yz2uQ7T8AAAAAAADwPwAAAAAAAPA/Ro0yz2uQ7T9GjTLPa5DtP807f2aeoOY/zTt/Zp6g5j9lqa6m4n3YP2Wprqbifdg/B1wUMyamoTwHXBQzJqahPGGprqbifdi/YamupuJ92L/MO39mnqDmv8w7f2aeoOa/RI0yz2uQ7b9EjTLPa5DtvwAAAAAAAPC/AAAAAAAA8L9FjTLPa5Dtv0WNMs9rkO2/zjt/Zp6g5r/OO39mnqDmv26prqbifdi/bqmupuJ92L8=",
            "dtype": "f8"
           },
           "z": {
            "bdata": "AAAAAAAAJMAAAAAAAAAkwAAAAAAAACRAAAAAAAAAJEAAAAAAAAAkwAAAAAAAACRAAAAAAAAAJMAAAAAAAAAkQAAAAAAAACTAAAAAAAAAJEAAAAAAAAAkwAAAAAAAACRAAAAAAAAAJMAAAAAAAAAkQAAAAAAAACTAAAAAAAAAJEAAAAAAAAAkwAAAAAAAACRAAAAAAAAAJMAAAAAAAAAkQAAAAAAAACTAAAAAAAAAJEAAAAAAAAAkwAAAAAAAACRAAAAAAAAAJMAAAAAAAAAkQAAAAAAAACTAAAAAAAAAJEAAAAAAAAAkwAAAAAAAACRAAAAAAAAAJMAAAAAAAAAkQAAAAAAAACTAAAAAAAAAJEA=",
            "dtype": "f8"
           }
          }
         ],
         "name": "5"
        },
        {
         "data": [
          {
           "color": "lightblue",
           "i": {
            "bdata": "AQECAgQEBQUGBgcHCAgJCQoKCwsMDA0NDg4PDxAQERESEhMTFBQVFRYWFxcYGBkZGhobGxwcHR0eHh8fICAhIQ==",
            "dtype": "i1"
           },
           "j": {
            "bdata": "AAQEBQAGBgcACAgJAAoKCwAMDA0ADg4PABAQEQASEhMAFBQVABYWFwAYGBkAGhobABwcHQAeHh8AICAhAAEBAg==",
            "dtype": "i1"
           },
           "k": {
            "bdata": "BAIFAwYFBwMIBwkDCgkLAwwLDQMODQ8DEA8RAxIREwMUExUDFhUXAxgXGQMaGRsDHBsdAx4dHwMgHyEDASECAw==",
            "dtype": "i1"
           },
           "name": "Mesh",
           "opacity": 0.3,
           "type": "mesh3d",
           "x": {
            "bdata": "AAAAAAAAAAAAAAAAAADwPwAAAAAAAPA/AAAAAAAAAABGjTLPa5DtP0aNMs9rkO0/zTt/Zp6g5j/NO39mnqDmP2Sprqbifdg/ZKmupuJ92D8HXBQzJqaRPAdcFDMmppE8YqmupuJ92L9iqa6m4n3Yv8w7f2aeoOa/zDt/Zp6g5r9GjTLPa5Dtv0aNMs9rkO2/AAAAAAAA8L8AAAAAAADwv0eNMs9rkO2/R40yz2uQ7b/OO39mnqDmv847f2aeoOa/bamupuJ92L9tqa6m4n3YvwqKnkw5eaq8CoqeTDl5qrxnqa6m4n3YP2eprqbifdg/yzt/Zp6g5j/LO39mnqDmP0SNMs9rkO0/RI0yz2uQ7T8=",
            "dtype": "f8"
           },
           "y": {
            "bdata": "AAAAAAAAAAAAAAAAAAAAAAAAAAAAAAAAAAAAAAAAAABjqa6m4n3YP2Oprqbifdg/zTt/Zp6g5j/NO39mnqDmP0aNMs9rkO0/Ro0yz2uQ7T8AAAAAAADwPwAAAAAAAPA/Ro0yz2uQ7T9GjTLPa5DtP807f2aeoOY/zTt/Zp6g5j9lqa6m4n3YP2Wprqbifdg/B1wUMyamoTwHXBQzJqahPGGprqbifdi/YamupuJ92L/MO39mnqDmv8w7f2aeoOa/RI0yz2uQ7b9EjTLPa5DtvwAAAAAAAPC/AAAAAAAA8L9FjTLPa5Dtv0WNMs9rkO2/zjt/Zp6g5r/OO39mnqDmv26prqbifdi/bqmupuJ92L8=",
            "dtype": "f8"
           },
           "z": {
            "bdata": "AAAAAAAAJMAAAAAAAAAkwAAAAAAAACRAAAAAAAAAJEAAAAAAAAAkwAAAAAAAACRAAAAAAAAAJMAAAAAAAAAkQAAAAAAAACTAAAAAAAAAJEAAAAAAAAAkwAAAAAAAACRAAAAAAAAAJMAAAAAAAAAkQAAAAAAAACTAAAAAAAAAJEAAAAAAAAAkwAAAAAAAACRAAAAAAAAAJMAAAAAAAAAkQAAAAAAAACTAAAAAAAAAJEAAAAAAAAAkwAAAAAAAACRAAAAAAAAAJMAAAAAAAAAkQAAAAAAAACTAAAAAAAAAJEAAAAAAAAAkwAAAAAAAACRAAAAAAAAAJMAAAAAAAAAkQAAAAAAAACTAAAAAAAAAJEA=",
            "dtype": "f8"
           }
          }
         ],
         "name": "6"
        },
        {
         "data": [
          {
           "color": "lightblue",
           "i": {
            "bdata": "AQECAgQEBQUGBgcHCAgJCQoKCwsMDA0NDg4PDxAQERESEhMTFBQVFRYWFxcYGBkZGhobGxwcHR0eHh8fICAhIQ==",
            "dtype": "i1"
           },
           "j": {
            "bdata": "AAQEBQAGBgcACAgJAAoKCwAMDA0ADg4PABAQEQASEhMAFBQVABYWFwAYGBkAGhobABwcHQAeHh8AICAhAAEBAg==",
            "dtype": "i1"
           },
           "k": {
            "bdata": "BAIFAwYFBwMIBwkDCgkLAwwLDQMODQ8DEA8RAxIREwMUExUDFhUXAxgXGQMaGRsDHBsdAx4dHwMgHyEDASECAw==",
            "dtype": "i1"
           },
           "name": "Mesh",
           "opacity": 0.3,
           "type": "mesh3d",
           "x": {
            "bdata": "AAAAAAAAAAAAAAAAAADwPwAAAAAAAPA/AAAAAAAAAABGjTLPa5DtP0aNMs9rkO0/zTt/Zp6g5j/NO39mnqDmP2Sprqbifdg/ZKmupuJ92D8HXBQzJqaRPAdcFDMmppE8YqmupuJ92L9iqa6m4n3Yv8w7f2aeoOa/zDt/Zp6g5r9GjTLPa5Dtv0aNMs9rkO2/AAAAAAAA8L8AAAAAAADwv0eNMs9rkO2/R40yz2uQ7b/OO39mnqDmv847f2aeoOa/bamupuJ92L9tqa6m4n3YvwqKnkw5eaq8CoqeTDl5qrxnqa6m4n3YP2eprqbifdg/yzt/Zp6g5j/LO39mnqDmP0SNMs9rkO0/RI0yz2uQ7T8=",
            "dtype": "f8"
           },
           "y": {
            "bdata": "AAAAAAAAAAAAAAAAAAAAAAAAAAAAAAAAAAAAAAAAAABjqa6m4n3YP2Oprqbifdg/zTt/Zp6g5j/NO39mnqDmP0aNMs9rkO0/Ro0yz2uQ7T8AAAAAAADwPwAAAAAAAPA/Ro0yz2uQ7T9GjTLPa5DtP807f2aeoOY/zTt/Zp6g5j9lqa6m4n3YP2Wprqbifdg/B1wUMyamoTwHXBQzJqahPGGprqbifdi/YamupuJ92L/MO39mnqDmv8w7f2aeoOa/RI0yz2uQ7b9EjTLPa5DtvwAAAAAAAPC/AAAAAAAA8L9FjTLPa5Dtv0WNMs9rkO2/zjt/Zp6g5r/OO39mnqDmv26prqbifdi/bqmupuJ92L8=",
            "dtype": "f8"
           },
           "z": {
            "bdata": "AAAAAAAAJMAAAAAAAAAkwAAAAAAAACRAAAAAAAAAJEAAAAAAAAAkwAAAAAAAACRAAAAAAAAAJMAAAAAAAAAkQAAAAAAAACTAAAAAAAAAJEAAAAAAAAAkwAAAAAAAACRAAAAAAAAAJMAAAAAAAAAkQAAAAAAAACTAAAAAAAAAJEAAAAAAAAAkwAAAAAAAACRAAAAAAAAAJMAAAAAAAAAkQAAAAAAAACTAAAAAAAAAJEAAAAAAAAAkwAAAAAAAACRAAAAAAAAAJMAAAAAAAAAkQAAAAAAAACTAAAAAAAAAJEAAAAAAAAAkwAAAAAAAACRAAAAAAAAAJMAAAAAAAAAkQAAAAAAAACTAAAAAAAAAJEA=",
            "dtype": "f8"
           }
          }
         ],
         "name": "7"
        },
        {
         "data": [
          {
           "color": "lightblue",
           "i": {
            "bdata": "AQECAgQEBQUGBgcHCAgJCQoKCwsMDA0NDg4PDxAQERESEhMTFBQVFRYWFxcYGBkZGhobGxwcHR0eHh8fICAhIQ==",
            "dtype": "i1"
           },
           "j": {
            "bdata": "AAQEBQAGBgcACAgJAAoKCwAMDA0ADg4PABAQEQASEhMAFBQVABYWFwAYGBkAGhobABwcHQAeHh8AICAhAAEBAg==",
            "dtype": "i1"
           },
           "k": {
            "bdata": "BAIFAwYFBwMIBwkDCgkLAwwLDQMODQ8DEA8RAxIREwMUExUDFhUXAxgXGQMaGRsDHBsdAx4dHwMgHyEDASECAw==",
            "dtype": "i1"
           },
           "name": "Mesh",
           "opacity": 0.3,
           "type": "mesh3d",
           "x": {
            "bdata": "AAAAAAAAAAAAAAAAAADwPwAAAAAAAPA/AAAAAAAAAABGjTLPa5DtP0aNMs9rkO0/zTt/Zp6g5j/NO39mnqDmP2Sprqbifdg/ZKmupuJ92D8HXBQzJqaRPAdcFDMmppE8YqmupuJ92L9iqa6m4n3Yv8w7f2aeoOa/zDt/Zp6g5r9GjTLPa5Dtv0aNMs9rkO2/AAAAAAAA8L8AAAAAAADwv0eNMs9rkO2/R40yz2uQ7b/OO39mnqDmv847f2aeoOa/bamupuJ92L9tqa6m4n3YvwqKnkw5eaq8CoqeTDl5qrxnqa6m4n3YP2eprqbifdg/yzt/Zp6g5j/LO39mnqDmP0SNMs9rkO0/RI0yz2uQ7T8=",
            "dtype": "f8"
           },
           "y": {
            "bdata": "AAAAAAAAAAAAAAAAAAAAAAAAAAAAAAAAAAAAAAAAAABjqa6m4n3YP2Oprqbifdg/zTt/Zp6g5j/NO39mnqDmP0aNMs9rkO0/Ro0yz2uQ7T8AAAAAAADwPwAAAAAAAPA/Ro0yz2uQ7T9GjTLPa5DtP807f2aeoOY/zTt/Zp6g5j9lqa6m4n3YP2Wprqbifdg/B1wUMyamoTwHXBQzJqahPGGprqbifdi/YamupuJ92L/MO39mnqDmv8w7f2aeoOa/RI0yz2uQ7b9EjTLPa5DtvwAAAAAAAPC/AAAAAAAA8L9FjTLPa5Dtv0WNMs9rkO2/zjt/Zp6g5r/OO39mnqDmv26prqbifdi/bqmupuJ92L8=",
            "dtype": "f8"
           },
           "z": {
            "bdata": "AAAAAAAAJMAAAAAAAAAkwAAAAAAAACRAAAAAAAAAJEAAAAAAAAAkwAAAAAAAACRAAAAAAAAAJMAAAAAAAAAkQAAAAAAAACTAAAAAAAAAJEAAAAAAAAAkwAAAAAAAACRAAAAAAAAAJMAAAAAAAAAkQAAAAAAAACTAAAAAAAAAJEAAAAAAAAAkwAAAAAAAACRAAAAAAAAAJMAAAAAAAAAkQAAAAAAAACTAAAAAAAAAJEAAAAAAAAAkwAAAAAAAACRAAAAAAAAAJMAAAAAAAAAkQAAAAAAAACTAAAAAAAAAJEAAAAAAAAAkwAAAAAAAACRAAAAAAAAAJMAAAAAAAAAkQAAAAAAAACTAAAAAAAAAJEA=",
            "dtype": "f8"
           }
          }
         ],
         "name": "8"
        },
        {
         "data": [
          {
           "color": "lightblue",
           "i": {
            "bdata": "AQECAgQEBQUGBgcHCAgJCQoKCwsMDA0NDg4PDxAQERESEhMTFBQVFRYWFxcYGBkZGhobGxwcHR0eHh8fICAhIQ==",
            "dtype": "i1"
           },
           "j": {
            "bdata": "AAQEBQAGBgcACAgJAAoKCwAMDA0ADg4PABAQEQASEhMAFBQVABYWFwAYGBkAGhobABwcHQAeHh8AICAhAAEBAg==",
            "dtype": "i1"
           },
           "k": {
            "bdata": "BAIFAwYFBwMIBwkDCgkLAwwLDQMODQ8DEA8RAxIREwMUExUDFhUXAxgXGQMaGRsDHBsdAx4dHwMgHyEDASECAw==",
            "dtype": "i1"
           },
           "name": "Mesh",
           "opacity": 0.3,
           "type": "mesh3d",
           "x": {
            "bdata": "AAAAAAAAAAAAAAAAAADwPwAAAAAAAPA/AAAAAAAAAABGjTLPa5DtP0aNMs9rkO0/zTt/Zp6g5j/NO39mnqDmP2Sprqbifdg/ZKmupuJ92D8HXBQzJqaRPAdcFDMmppE8YqmupuJ92L9iqa6m4n3Yv8w7f2aeoOa/zDt/Zp6g5r9GjTLPa5Dtv0aNMs9rkO2/AAAAAAAA8L8AAAAAAADwv0eNMs9rkO2/R40yz2uQ7b/OO39mnqDmv847f2aeoOa/bamupuJ92L9tqa6m4n3YvwqKnkw5eaq8CoqeTDl5qrxnqa6m4n3YP2eprqbifdg/yzt/Zp6g5j/LO39mnqDmP0SNMs9rkO0/RI0yz2uQ7T8=",
            "dtype": "f8"
           },
           "y": {
            "bdata": "AAAAAAAAAAAAAAAAAAAAAAAAAAAAAAAAAAAAAAAAAABjqa6m4n3YP2Oprqbifdg/zTt/Zp6g5j/NO39mnqDmP0aNMs9rkO0/Ro0yz2uQ7T8AAAAAAADwPwAAAAAAAPA/Ro0yz2uQ7T9GjTLPa5DtP807f2aeoOY/zTt/Zp6g5j9lqa6m4n3YP2Wprqbifdg/B1wUMyamoTwHXBQzJqahPGGprqbifdi/YamupuJ92L/MO39mnqDmv8w7f2aeoOa/RI0yz2uQ7b9EjTLPa5DtvwAAAAAAAPC/AAAAAAAA8L9FjTLPa5Dtv0WNMs9rkO2/zjt/Zp6g5r/OO39mnqDmv26prqbifdi/bqmupuJ92L8=",
            "dtype": "f8"
           },
           "z": {
            "bdata": "AAAAAAAAJMAAAAAAAAAkwAAAAAAAACRAAAAAAAAAJEAAAAAAAAAkwAAAAAAAACRAAAAAAAAAJMAAAAAAAAAkQAAAAAAAACTAAAAAAAAAJEAAAAAAAAAkwAAAAAAAACRAAAAAAAAAJMAAAAAAAAAkQAAAAAAAACTAAAAAAAAAJEAAAAAAAAAkwAAAAAAAACRAAAAAAAAAJMAAAAAAAAAkQAAAAAAAACTAAAAAAAAAJEAAAAAAAAAkwAAAAAAAACRAAAAAAAAAJMAAAAAAAAAkQAAAAAAAACTAAAAAAAAAJEAAAAAAAAAkwAAAAAAAACRAAAAAAAAAJMAAAAAAAAAkQAAAAAAAACTAAAAAAAAAJEA=",
            "dtype": "f8"
           }
          }
         ],
         "name": "9"
        },
        {
         "data": [
          {
           "color": "lightblue",
           "i": {
            "bdata": "AQECAgQEBQUGBgcHCAgJCQoKCwsMDA0NDg4PDxAQERESEhMTFBQVFRYWFxcYGBkZGhobGxwcHR0eHh8fICAhIQ==",
            "dtype": "i1"
           },
           "j": {
            "bdata": "AAQEBQAGBgcACAgJAAoKCwAMDA0ADg4PABAQEQASEhMAFBQVABYWFwAYGBkAGhobABwcHQAeHh8AICAhAAEBAg==",
            "dtype": "i1"
           },
           "k": {
            "bdata": "BAIFAwYFBwMIBwkDCgkLAwwLDQMODQ8DEA8RAxIREwMUExUDFhUXAxgXGQMaGRsDHBsdAx4dHwMgHyEDASECAw==",
            "dtype": "i1"
           },
           "name": "Mesh",
           "opacity": 0.3,
           "type": "mesh3d",
           "x": {
            "bdata": "AAAAAAAAAAAAAAAAAADwPwAAAAAAAPA/AAAAAAAAAABGjTLPa5DtP0aNMs9rkO0/zTt/Zp6g5j/NO39mnqDmP2Sprqbifdg/ZKmupuJ92D8HXBQzJqaRPAdcFDMmppE8YqmupuJ92L9iqa6m4n3Yv8w7f2aeoOa/zDt/Zp6g5r9GjTLPa5Dtv0aNMs9rkO2/AAAAAAAA8L8AAAAAAADwv0eNMs9rkO2/R40yz2uQ7b/OO39mnqDmv847f2aeoOa/bamupuJ92L9tqa6m4n3YvwqKnkw5eaq8CoqeTDl5qrxnqa6m4n3YP2eprqbifdg/yzt/Zp6g5j/LO39mnqDmP0SNMs9rkO0/RI0yz2uQ7T8=",
            "dtype": "f8"
           },
           "y": {
            "bdata": "AAAAAAAAAAAAAAAAAAAAAAAAAAAAAAAAAAAAAAAAAABjqa6m4n3YP2Oprqbifdg/zTt/Zp6g5j/NO39mnqDmP0aNMs9rkO0/Ro0yz2uQ7T8AAAAAAADwPwAAAAAAAPA/Ro0yz2uQ7T9GjTLPa5DtP807f2aeoOY/zTt/Zp6g5j9lqa6m4n3YP2Wprqbifdg/B1wUMyamoTwHXBQzJqahPGGprqbifdi/YamupuJ92L/MO39mnqDmv8w7f2aeoOa/RI0yz2uQ7b9EjTLPa5DtvwAAAAAAAPC/AAAAAAAA8L9FjTLPa5Dtv0WNMs9rkO2/zjt/Zp6g5r/OO39mnqDmv26prqbifdi/bqmupuJ92L8=",
            "dtype": "f8"
           },
           "z": {
            "bdata": "AAAAAAAAJMAAAAAAAAAkwAAAAAAAACRAAAAAAAAAJEAAAAAAAAAkwAAAAAAAACRAAAAAAAAAJMAAAAAAAAAkQAAAAAAAACTAAAAAAAAAJEAAAAAAAAAkwAAAAAAAACRAAAAAAAAAJMAAAAAAAAAkQAAAAAAAACTAAAAAAAAAJEAAAAAAAAAkwAAAAAAAACRAAAAAAAAAJMAAAAAAAAAkQAAAAAAAACTAAAAAAAAAJEAAAAAAAAAkwAAAAAAAACRAAAAAAAAAJMAAAAAAAAAkQAAAAAAAACTAAAAAAAAAJEAAAAAAAAAkwAAAAAAAACRAAAAAAAAAJMAAAAAAAAAkQAAAAAAAACTAAAAAAAAAJEA=",
            "dtype": "f8"
           }
          }
         ],
         "name": "10"
        },
        {
         "data": [
          {
           "color": "lightblue",
           "i": {
            "bdata": "AQECAgQEBQUGBgcHCAgJCQoKCwsMDA0NDg4PDxAQERESEhMTFBQVFRYWFxcYGBkZGhobGxwcHR0eHh8fICAhIQ==",
            "dtype": "i1"
           },
           "j": {
            "bdata": "AAQEBQAGBgcACAgJAAoKCwAMDA0ADg4PABAQEQASEhMAFBQVABYWFwAYGBkAGhobABwcHQAeHh8AICAhAAEBAg==",
            "dtype": "i1"
           },
           "k": {
            "bdata": "BAIFAwYFBwMIBwkDCgkLAwwLDQMODQ8DEA8RAxIREwMUExUDFhUXAxgXGQMaGRsDHBsdAx4dHwMgHyEDASECAw==",
            "dtype": "i1"
           },
           "name": "Mesh",
           "opacity": 0.3,
           "type": "mesh3d",
           "x": {
            "bdata": "AAAAAAAAAAAAAAAAAADwPwAAAAAAAPA/AAAAAAAAAABGjTLPa5DtP0aNMs9rkO0/zTt/Zp6g5j/NO39mnqDmP2Sprqbifdg/ZKmupuJ92D8HXBQzJqaRPAdcFDMmppE8YqmupuJ92L9iqa6m4n3Yv8w7f2aeoOa/zDt/Zp6g5r9GjTLPa5Dtv0aNMs9rkO2/AAAAAAAA8L8AAAAAAADwv0eNMs9rkO2/R40yz2uQ7b/OO39mnqDmv847f2aeoOa/bamupuJ92L9tqa6m4n3YvwqKnkw5eaq8CoqeTDl5qrxnqa6m4n3YP2eprqbifdg/yzt/Zp6g5j/LO39mnqDmP0SNMs9rkO0/RI0yz2uQ7T8=",
            "dtype": "f8"
           },
           "y": {
            "bdata": "AAAAAAAAAAAAAAAAAAAAAAAAAAAAAAAAAAAAAAAAAABjqa6m4n3YP2Oprqbifdg/zTt/Zp6g5j/NO39mnqDmP0aNMs9rkO0/Ro0yz2uQ7T8AAAAAAADwPwAAAAAAAPA/Ro0yz2uQ7T9GjTLPa5DtP807f2aeoOY/zTt/Zp6g5j9lqa6m4n3YP2Wprqbifdg/B1wUMyamoTwHXBQzJqahPGGprqbifdi/YamupuJ92L/MO39mnqDmv8w7f2aeoOa/RI0yz2uQ7b9EjTLPa5DtvwAAAAAAAPC/AAAAAAAA8L9FjTLPa5Dtv0WNMs9rkO2/zjt/Zp6g5r/OO39mnqDmv26prqbifdi/bqmupuJ92L8=",
            "dtype": "f8"
           },
           "z": {
            "bdata": "AAAAAAAAJMAAAAAAAAAkwAAAAAAAACRAAAAAAAAAJEAAAAAAAAAkwAAAAAAAACRAAAAAAAAAJMAAAAAAAAAkQAAAAAAAACTAAAAAAAAAJEAAAAAAAAAkwAAAAAAAACRAAAAAAAAAJMAAAAAAAAAkQAAAAAAAACTAAAAAAAAAJEAAAAAAAAAkwAAAAAAAACRAAAAAAAAAJMAAAAAAAAAkQAAAAAAAACTAAAAAAAAAJEAAAAAAAAAkwAAAAAAAACRAAAAAAAAAJMAAAAAAAAAkQAAAAAAAACTAAAAAAAAAJEAAAAAAAAAkwAAAAAAAACRAAAAAAAAAJMAAAAAAAAAkQAAAAAAAACTAAAAAAAAAJEA=",
            "dtype": "f8"
           }
          }
         ],
         "name": "11"
        },
        {
         "data": [
          {
           "color": "lightblue",
           "i": {
            "bdata": "AQECAgQEBQUGBgcHCAgJCQoKCwsMDA0NDg4PDxAQERESEhMTFBQVFRYWFxcYGBkZGhobGxwcHR0eHh8fICAhIQ==",
            "dtype": "i1"
           },
           "j": {
            "bdata": "AAQEBQAGBgcACAgJAAoKCwAMDA0ADg4PABAQEQASEhMAFBQVABYWFwAYGBkAGhobABwcHQAeHh8AICAhAAEBAg==",
            "dtype": "i1"
           },
           "k": {
            "bdata": "BAIFAwYFBwMIBwkDCgkLAwwLDQMODQ8DEA8RAxIREwMUExUDFhUXAxgXGQMaGRsDHBsdAx4dHwMgHyEDASECAw==",
            "dtype": "i1"
           },
           "name": "Mesh",
           "opacity": 0.3,
           "type": "mesh3d",
           "x": {
            "bdata": "AAAAAAAAAAAAAAAAAADwPwAAAAAAAPA/AAAAAAAAAABGjTLPa5DtP0aNMs9rkO0/zTt/Zp6g5j/NO39mnqDmP2Sprqbifdg/ZKmupuJ92D8HXBQzJqaRPAdcFDMmppE8YqmupuJ92L9iqa6m4n3Yv8w7f2aeoOa/zDt/Zp6g5r9GjTLPa5Dtv0aNMs9rkO2/AAAAAAAA8L8AAAAAAADwv0eNMs9rkO2/R40yz2uQ7b/OO39mnqDmv847f2aeoOa/bamupuJ92L9tqa6m4n3YvwqKnkw5eaq8CoqeTDl5qrxnqa6m4n3YP2eprqbifdg/yzt/Zp6g5j/LO39mnqDmP0SNMs9rkO0/RI0yz2uQ7T8=",
            "dtype": "f8"
           },
           "y": {
            "bdata": "AAAAAAAAAAAAAAAAAAAAAAAAAAAAAAAAAAAAAAAAAABjqa6m4n3YP2Oprqbifdg/zTt/Zp6g5j/NO39mnqDmP0aNMs9rkO0/Ro0yz2uQ7T8AAAAAAADwPwAAAAAAAPA/Ro0yz2uQ7T9GjTLPa5DtP807f2aeoOY/zTt/Zp6g5j9lqa6m4n3YP2Wprqbifdg/B1wUMyamoTwHXBQzJqahPGGprqbifdi/YamupuJ92L/MO39mnqDmv8w7f2aeoOa/RI0yz2uQ7b9EjTLPa5DtvwAAAAAAAPC/AAAAAAAA8L9FjTLPa5Dtv0WNMs9rkO2/zjt/Zp6g5r/OO39mnqDmv26prqbifdi/bqmupuJ92L8=",
            "dtype": "f8"
           },
           "z": {
            "bdata": "AAAAAAAAJMAAAAAAAAAkwAAAAAAAACRAAAAAAAAAJEAAAAAAAAAkwAAAAAAAACRAAAAAAAAAJMAAAAAAAAAkQAAAAAAAACTAAAAAAAAAJEAAAAAAAAAkwAAAAAAAACRAAAAAAAAAJMAAAAAAAAAkQAAAAAAAACTAAAAAAAAAJEAAAAAAAAAkwAAAAAAAACRAAAAAAAAAJMAAAAAAAAAkQAAAAAAAACTAAAAAAAAAJEAAAAAAAAAkwAAAAAAAACRAAAAAAAAAJMAAAAAAAAAkQAAAAAAAACTAAAAAAAAAJEAAAAAAAAAkwAAAAAAAACRAAAAAAAAAJMAAAAAAAAAkQAAAAAAAACTAAAAAAAAAJEA=",
            "dtype": "f8"
           }
          }
         ],
         "name": "12"
        },
        {
         "data": [
          {
           "color": "lightblue",
           "i": {
            "bdata": "AQECAgQEBQUGBgcHCAgJCQoKCwsMDA0NDg4PDxAQERESEhMTFBQVFRYWFxcYGBkZGhobGxwcHR0eHh8fICAhIQ==",
            "dtype": "i1"
           },
           "j": {
            "bdata": "AAQEBQAGBgcACAgJAAoKCwAMDA0ADg4PABAQEQASEhMAFBQVABYWFwAYGBkAGhobABwcHQAeHh8AICAhAAEBAg==",
            "dtype": "i1"
           },
           "k": {
            "bdata": "BAIFAwYFBwMIBwkDCgkLAwwLDQMODQ8DEA8RAxIREwMUExUDFhUXAxgXGQMaGRsDHBsdAx4dHwMgHyEDASECAw==",
            "dtype": "i1"
           },
           "name": "Mesh",
           "opacity": 0.3,
           "type": "mesh3d",
           "x": {
            "bdata": "AAAAAAAAAAAAAAAAAADwPwAAAAAAAPA/AAAAAAAAAABGjTLPa5DtP0aNMs9rkO0/zTt/Zp6g5j/NO39mnqDmP2Sprqbifdg/ZKmupuJ92D8HXBQzJqaRPAdcFDMmppE8YqmupuJ92L9iqa6m4n3Yv8w7f2aeoOa/zDt/Zp6g5r9GjTLPa5Dtv0aNMs9rkO2/AAAAAAAA8L8AAAAAAADwv0eNMs9rkO2/R40yz2uQ7b/OO39mnqDmv847f2aeoOa/bamupuJ92L9tqa6m4n3YvwqKnkw5eaq8CoqeTDl5qrxnqa6m4n3YP2eprqbifdg/yzt/Zp6g5j/LO39mnqDmP0SNMs9rkO0/RI0yz2uQ7T8=",
            "dtype": "f8"
           },
           "y": {
            "bdata": "AAAAAAAAAAAAAAAAAAAAAAAAAAAAAAAAAAAAAAAAAABjqa6m4n3YP2Oprqbifdg/zTt/Zp6g5j/NO39mnqDmP0aNMs9rkO0/Ro0yz2uQ7T8AAAAAAADwPwAAAAAAAPA/Ro0yz2uQ7T9GjTLPa5DtP807f2aeoOY/zTt/Zp6g5j9lqa6m4n3YP2Wprqbifdg/B1wUMyamoTwHXBQzJqahPGGprqbifdi/YamupuJ92L/MO39mnqDmv8w7f2aeoOa/RI0yz2uQ7b9EjTLPa5DtvwAAAAAAAPC/AAAAAAAA8L9FjTLPa5Dtv0WNMs9rkO2/zjt/Zp6g5r/OO39mnqDmv26prqbifdi/bqmupuJ92L8=",
            "dtype": "f8"
           },
           "z": {
            "bdata": "AAAAAAAAJMAAAAAAAAAkwAAAAAAAACRAAAAAAAAAJEAAAAAAAAAkwAAAAAAAACRAAAAAAAAAJMAAAAAAAAAkQAAAAAAAACTAAAAAAAAAJEAAAAAAAAAkwAAAAAAAACRAAAAAAAAAJMAAAAAAAAAkQAAAAAAAACTAAAAAAAAAJEAAAAAAAAAkwAAAAAAAACRAAAAAAAAAJMAAAAAAAAAkQAAAAAAAACTAAAAAAAAAJEAAAAAAAAAkwAAAAAAAACRAAAAAAAAAJMAAAAAAAAAkQAAAAAAAACTAAAAAAAAAJEAAAAAAAAAkwAAAAAAAACRAAAAAAAAAJMAAAAAAAAAkQAAAAAAAACTAAAAAAAAAJEA=",
            "dtype": "f8"
           }
          }
         ],
         "name": "13"
        },
        {
         "data": [
          {
           "color": "lightblue",
           "i": {
            "bdata": "AQECAgQEBQUGBgcHCAgJCQoKCwsMDA0NDg4PDxAQERESEhMTFBQVFRYWFxcYGBkZGhobGxwcHR0eHh8fICAhIQ==",
            "dtype": "i1"
           },
           "j": {
            "bdata": "AAQEBQAGBgcACAgJAAoKCwAMDA0ADg4PABAQEQASEhMAFBQVABYWFwAYGBkAGhobABwcHQAeHh8AICAhAAEBAg==",
            "dtype": "i1"
           },
           "k": {
            "bdata": "BAIFAwYFBwMIBwkDCgkLAwwLDQMODQ8DEA8RAxIREwMUExUDFhUXAxgXGQMaGRsDHBsdAx4dHwMgHyEDASECAw==",
            "dtype": "i1"
           },
           "name": "Mesh",
           "opacity": 0.3,
           "type": "mesh3d",
           "x": {
            "bdata": "AAAAAAAAAAAAAAAAAADwPwAAAAAAAPA/AAAAAAAAAABGjTLPa5DtP0aNMs9rkO0/zTt/Zp6g5j/NO39mnqDmP2Sprqbifdg/ZKmupuJ92D8HXBQzJqaRPAdcFDMmppE8YqmupuJ92L9iqa6m4n3Yv8w7f2aeoOa/zDt/Zp6g5r9GjTLPa5Dtv0aNMs9rkO2/AAAAAAAA8L8AAAAAAADwv0eNMs9rkO2/R40yz2uQ7b/OO39mnqDmv847f2aeoOa/bamupuJ92L9tqa6m4n3YvwqKnkw5eaq8CoqeTDl5qrxnqa6m4n3YP2eprqbifdg/yzt/Zp6g5j/LO39mnqDmP0SNMs9rkO0/RI0yz2uQ7T8=",
            "dtype": "f8"
           },
           "y": {
            "bdata": "AAAAAAAAAAAAAAAAAAAAAAAAAAAAAAAAAAAAAAAAAABjqa6m4n3YP2Oprqbifdg/zTt/Zp6g5j/NO39mnqDmP0aNMs9rkO0/Ro0yz2uQ7T8AAAAAAADwPwAAAAAAAPA/Ro0yz2uQ7T9GjTLPa5DtP807f2aeoOY/zTt/Zp6g5j9lqa6m4n3YP2Wprqbifdg/B1wUMyamoTwHXBQzJqahPGGprqbifdi/YamupuJ92L/MO39mnqDmv8w7f2aeoOa/RI0yz2uQ7b9EjTLPa5DtvwAAAAAAAPC/AAAAAAAA8L9FjTLPa5Dtv0WNMs9rkO2/zjt/Zp6g5r/OO39mnqDmv26prqbifdi/bqmupuJ92L8=",
            "dtype": "f8"
           },
           "z": {
            "bdata": "AAAAAAAAJMAAAAAAAAAkwAAAAAAAACRAAAAAAAAAJEAAAAAAAAAkwAAAAAAAACRAAAAAAAAAJMAAAAAAAAAkQAAAAAAAACTAAAAAAAAAJEAAAAAAAAAkwAAAAAAAACRAAAAAAAAAJMAAAAAAAAAkQAAAAAAAACTAAAAAAAAAJEAAAAAAAAAkwAAAAAAAACRAAAAAAAAAJMAAAAAAAAAkQAAAAAAAACTAAAAAAAAAJEAAAAAAAAAkwAAAAAAAACRAAAAAAAAAJMAAAAAAAAAkQAAAAAAAACTAAAAAAAAAJEAAAAAAAAAkwAAAAAAAACRAAAAAAAAAJMAAAAAAAAAkQAAAAAAAACTAAAAAAAAAJEA=",
            "dtype": "f8"
           }
          }
         ],
         "name": "14"
        },
        {
         "data": [
          {
           "color": "lightblue",
           "i": {
            "bdata": "AQECAgQEBQUGBgcHCAgJCQoKCwsMDA0NDg4PDxAQERESEhMTFBQVFRYWFxcYGBkZGhobGxwcHR0eHh8fICAhIQ==",
            "dtype": "i1"
           },
           "j": {
            "bdata": "AAQEBQAGBgcACAgJAAoKCwAMDA0ADg4PABAQEQASEhMAFBQVABYWFwAYGBkAGhobABwcHQAeHh8AICAhAAEBAg==",
            "dtype": "i1"
           },
           "k": {
            "bdata": "BAIFAwYFBwMIBwkDCgkLAwwLDQMODQ8DEA8RAxIREwMUExUDFhUXAxgXGQMaGRsDHBsdAx4dHwMgHyEDASECAw==",
            "dtype": "i1"
           },
           "name": "Mesh",
           "opacity": 0.3,
           "type": "mesh3d",
           "x": {
            "bdata": "AAAAAAAAAAAAAAAAAADwPwAAAAAAAPA/AAAAAAAAAABGjTLPa5DtP0aNMs9rkO0/zTt/Zp6g5j/NO39mnqDmP2Sprqbifdg/ZKmupuJ92D8HXBQzJqaRPAdcFDMmppE8YqmupuJ92L9iqa6m4n3Yv8w7f2aeoOa/zDt/Zp6g5r9GjTLPa5Dtv0aNMs9rkO2/AAAAAAAA8L8AAAAAAADwv0eNMs9rkO2/R40yz2uQ7b/OO39mnqDmv847f2aeoOa/bamupuJ92L9tqa6m4n3YvwqKnkw5eaq8CoqeTDl5qrxnqa6m4n3YP2eprqbifdg/yzt/Zp6g5j/LO39mnqDmP0SNMs9rkO0/RI0yz2uQ7T8=",
            "dtype": "f8"
           },
           "y": {
            "bdata": "AAAAAAAAAAAAAAAAAAAAAAAAAAAAAAAAAAAAAAAAAABjqa6m4n3YP2Oprqbifdg/zTt/Zp6g5j/NO39mnqDmP0aNMs9rkO0/Ro0yz2uQ7T8AAAAAAADwPwAAAAAAAPA/Ro0yz2uQ7T9GjTLPa5DtP807f2aeoOY/zTt/Zp6g5j9lqa6m4n3YP2Wprqbifdg/B1wUMyamoTwHXBQzJqahPGGprqbifdi/YamupuJ92L/MO39mnqDmv8w7f2aeoOa/RI0yz2uQ7b9EjTLPa5DtvwAAAAAAAPC/AAAAAAAA8L9FjTLPa5Dtv0WNMs9rkO2/zjt/Zp6g5r/OO39mnqDmv26prqbifdi/bqmupuJ92L8=",
            "dtype": "f8"
           },
           "z": {
            "bdata": "AAAAAAAAJMAAAAAAAAAkwAAAAAAAACRAAAAAAAAAJEAAAAAAAAAkwAAAAAAAACRAAAAAAAAAJMAAAAAAAAAkQAAAAAAAACTAAAAAAAAAJEAAAAAAAAAkwAAAAAAAACRAAAAAAAAAJMAAAAAAAAAkQAAAAAAAACTAAAAAAAAAJEAAAAAAAAAkwAAAAAAAACRAAAAAAAAAJMAAAAAAAAAkQAAAAAAAACTAAAAAAAAAJEAAAAAAAAAkwAAAAAAAACRAAAAAAAAAJMAAAAAAAAAkQAAAAAAAACTAAAAAAAAAJEAAAAAAAAAkwAAAAAAAACRAAAAAAAAAJMAAAAAAAAAkQAAAAAAAACTAAAAAAAAAJEA=",
            "dtype": "f8"
           }
          }
         ],
         "name": "15"
        },
        {
         "data": [
          {
           "color": "lightblue",
           "i": {
            "bdata": "AQECAgQEBQUGBgcHCAgJCQoKCwsMDA0NDg4PDxAQERESEhMTFBQVFRYWFxcYGBkZGhobGxwcHR0eHh8fICAhIQ==",
            "dtype": "i1"
           },
           "j": {
            "bdata": "AAQEBQAGBgcACAgJAAoKCwAMDA0ADg4PABAQEQASEhMAFBQVABYWFwAYGBkAGhobABwcHQAeHh8AICAhAAEBAg==",
            "dtype": "i1"
           },
           "k": {
            "bdata": "BAIFAwYFBwMIBwkDCgkLAwwLDQMODQ8DEA8RAxIREwMUExUDFhUXAxgXGQMaGRsDHBsdAx4dHwMgHyEDASECAw==",
            "dtype": "i1"
           },
           "name": "Mesh",
           "opacity": 0.3,
           "type": "mesh3d",
           "x": {
            "bdata": "AAAAAAAAAAAAAAAAAADwPwAAAAAAAPA/AAAAAAAAAABGjTLPa5DtP0aNMs9rkO0/zTt/Zp6g5j/NO39mnqDmP2Sprqbifdg/ZKmupuJ92D8HXBQzJqaRPAdcFDMmppE8YqmupuJ92L9iqa6m4n3Yv8w7f2aeoOa/zDt/Zp6g5r9GjTLPa5Dtv0aNMs9rkO2/AAAAAAAA8L8AAAAAAADwv0eNMs9rkO2/R40yz2uQ7b/OO39mnqDmv847f2aeoOa/bamupuJ92L9tqa6m4n3YvwqKnkw5eaq8CoqeTDl5qrxnqa6m4n3YP2eprqbifdg/yzt/Zp6g5j/LO39mnqDmP0SNMs9rkO0/RI0yz2uQ7T8=",
            "dtype": "f8"
           },
           "y": {
            "bdata": "AAAAAAAAAAAAAAAAAAAAAAAAAAAAAAAAAAAAAAAAAABjqa6m4n3YP2Oprqbifdg/zTt/Zp6g5j/NO39mnqDmP0aNMs9rkO0/Ro0yz2uQ7T8AAAAAAADwPwAAAAAAAPA/Ro0yz2uQ7T9GjTLPa5DtP807f2aeoOY/zTt/Zp6g5j9lqa6m4n3YP2Wprqbifdg/B1wUMyamoTwHXBQzJqahPGGprqbifdi/YamupuJ92L/MO39mnqDmv8w7f2aeoOa/RI0yz2uQ7b9EjTLPa5DtvwAAAAAAAPC/AAAAAAAA8L9FjTLPa5Dtv0WNMs9rkO2/zjt/Zp6g5r/OO39mnqDmv26prqbifdi/bqmupuJ92L8=",
            "dtype": "f8"
           },
           "z": {
            "bdata": "AAAAAAAAJMAAAAAAAAAkwAAAAAAAACRAAAAAAAAAJEAAAAAAAAAkwAAAAAAAACRAAAAAAAAAJMAAAAAAAAAkQAAAAAAAACTAAAAAAAAAJEAAAAAAAAAkwAAAAAAAACRAAAAAAAAAJMAAAAAAAAAkQAAAAAAAACTAAAAAAAAAJEAAAAAAAAAkwAAAAAAAACRAAAAAAAAAJMAAAAAAAAAkQAAAAAAAACTAAAAAAAAAJEAAAAAAAAAkwAAAAAAAACRAAAAAAAAAJMAAAAAAAAAkQAAAAAAAACTAAAAAAAAAJEAAAAAAAAAkwAAAAAAAACRAAAAAAAAAJMAAAAAAAAAkQAAAAAAAACTAAAAAAAAAJEA=",
            "dtype": "f8"
           }
          }
         ],
         "name": "16"
        },
        {
         "data": [
          {
           "color": "lightblue",
           "i": {
            "bdata": "AQECAgQEBQUGBgcHCAgJCQoKCwsMDA0NDg4PDxAQERESEhMTFBQVFRYWFxcYGBkZGhobGxwcHR0eHh8fICAhIQ==",
            "dtype": "i1"
           },
           "j": {
            "bdata": "AAQEBQAGBgcACAgJAAoKCwAMDA0ADg4PABAQEQASEhMAFBQVABYWFwAYGBkAGhobABwcHQAeHh8AICAhAAEBAg==",
            "dtype": "i1"
           },
           "k": {
            "bdata": "BAIFAwYFBwMIBwkDCgkLAwwLDQMODQ8DEA8RAxIREwMUExUDFhUXAxgXGQMaGRsDHBsdAx4dHwMgHyEDASECAw==",
            "dtype": "i1"
           },
           "name": "Mesh",
           "opacity": 0.3,
           "type": "mesh3d",
           "x": {
            "bdata": "AAAAAAAAAAAAAAAAAADwPwAAAAAAAPA/AAAAAAAAAABGjTLPa5DtP0aNMs9rkO0/zTt/Zp6g5j/NO39mnqDmP2Sprqbifdg/ZKmupuJ92D8HXBQzJqaRPAdcFDMmppE8YqmupuJ92L9iqa6m4n3Yv8w7f2aeoOa/zDt/Zp6g5r9GjTLPa5Dtv0aNMs9rkO2/AAAAAAAA8L8AAAAAAADwv0eNMs9rkO2/R40yz2uQ7b/OO39mnqDmv847f2aeoOa/bamupuJ92L9tqa6m4n3YvwqKnkw5eaq8CoqeTDl5qrxnqa6m4n3YP2eprqbifdg/yzt/Zp6g5j/LO39mnqDmP0SNMs9rkO0/RI0yz2uQ7T8=",
            "dtype": "f8"
           },
           "y": {
            "bdata": "AAAAAAAAAAAAAAAAAAAAAAAAAAAAAAAAAAAAAAAAAABjqa6m4n3YP2Oprqbifdg/zTt/Zp6g5j/NO39mnqDmP0aNMs9rkO0/Ro0yz2uQ7T8AAAAAAADwPwAAAAAAAPA/Ro0yz2uQ7T9GjTLPa5DtP807f2aeoOY/zTt/Zp6g5j9lqa6m4n3YP2Wprqbifdg/B1wUMyamoTwHXBQzJqahPGGprqbifdi/YamupuJ92L/MO39mnqDmv8w7f2aeoOa/RI0yz2uQ7b9EjTLPa5DtvwAAAAAAAPC/AAAAAAAA8L9FjTLPa5Dtv0WNMs9rkO2/zjt/Zp6g5r/OO39mnqDmv26prqbifdi/bqmupuJ92L8=",
            "dtype": "f8"
           },
           "z": {
            "bdata": "AAAAAAAAJMAAAAAAAAAkwAAAAAAAACRAAAAAAAAAJEAAAAAAAAAkwAAAAAAAACRAAAAAAAAAJMAAAAAAAAAkQAAAAAAAACTAAAAAAAAAJEAAAAAAAAAkwAAAAAAAACRAAAAAAAAAJMAAAAAAAAAkQAAAAAAAACTAAAAAAAAAJEAAAAAAAAAkwAAAAAAAACRAAAAAAAAAJMAAAAAAAAAkQAAAAAAAACTAAAAAAAAAJEAAAAAAAAAkwAAAAAAAACRAAAAAAAAAJMAAAAAAAAAkQAAAAAAAACTAAAAAAAAAJEAAAAAAAAAkwAAAAAAAACRAAAAAAAAAJMAAAAAAAAAkQAAAAAAAACTAAAAAAAAAJEA=",
            "dtype": "f8"
           }
          }
         ],
         "name": "17"
        },
        {
         "data": [
          {
           "color": "lightblue",
           "i": {
            "bdata": "AQECAgQEBQUGBgcHCAgJCQoKCwsMDA0NDg4PDxAQERESEhMTFBQVFRYWFxcYGBkZGhobGxwcHR0eHh8fICAhIQ==",
            "dtype": "i1"
           },
           "j": {
            "bdata": "AAQEBQAGBgcACAgJAAoKCwAMDA0ADg4PABAQEQASEhMAFBQVABYWFwAYGBkAGhobABwcHQAeHh8AICAhAAEBAg==",
            "dtype": "i1"
           },
           "k": {
            "bdata": "BAIFAwYFBwMIBwkDCgkLAwwLDQMODQ8DEA8RAxIREwMUExUDFhUXAxgXGQMaGRsDHBsdAx4dHwMgHyEDASECAw==",
            "dtype": "i1"
           },
           "name": "Mesh",
           "opacity": 0.3,
           "type": "mesh3d",
           "x": {
            "bdata": "AAAAAAAAAAAAAAAAAADwPwAAAAAAAPA/AAAAAAAAAABGjTLPa5DtP0aNMs9rkO0/zTt/Zp6g5j/NO39mnqDmP2Sprqbifdg/ZKmupuJ92D8HXBQzJqaRPAdcFDMmppE8YqmupuJ92L9iqa6m4n3Yv8w7f2aeoOa/zDt/Zp6g5r9GjTLPa5Dtv0aNMs9rkO2/AAAAAAAA8L8AAAAAAADwv0eNMs9rkO2/R40yz2uQ7b/OO39mnqDmv847f2aeoOa/bamupuJ92L9tqa6m4n3YvwqKnkw5eaq8CoqeTDl5qrxnqa6m4n3YP2eprqbifdg/yzt/Zp6g5j/LO39mnqDmP0SNMs9rkO0/RI0yz2uQ7T8=",
            "dtype": "f8"
           },
           "y": {
            "bdata": "AAAAAAAAAAAAAAAAAAAAAAAAAAAAAAAAAAAAAAAAAABjqa6m4n3YP2Oprqbifdg/zTt/Zp6g5j/NO39mnqDmP0aNMs9rkO0/Ro0yz2uQ7T8AAAAAAADwPwAAAAAAAPA/Ro0yz2uQ7T9GjTLPa5DtP807f2aeoOY/zTt/Zp6g5j9lqa6m4n3YP2Wprqbifdg/B1wUMyamoTwHXBQzJqahPGGprqbifdi/YamupuJ92L/MO39mnqDmv8w7f2aeoOa/RI0yz2uQ7b9EjTLPa5DtvwAAAAAAAPC/AAAAAAAA8L9FjTLPa5Dtv0WNMs9rkO2/zjt/Zp6g5r/OO39mnqDmv26prqbifdi/bqmupuJ92L8=",
            "dtype": "f8"
           },
           "z": {
            "bdata": "AAAAAAAAJMAAAAAAAAAkwAAAAAAAACRAAAAAAAAAJEAAAAAAAAAkwAAAAAAAACRAAAAAAAAAJMAAAAAAAAAkQAAAAAAAACTAAAAAAAAAJEAAAAAAAAAkwAAAAAAAACRAAAAAAAAAJMAAAAAAAAAkQAAAAAAAACTAAAAAAAAAJEAAAAAAAAAkwAAAAAAAACRAAAAAAAAAJMAAAAAAAAAkQAAAAAAAACTAAAAAAAAAJEAAAAAAAAAkwAAAAAAAACRAAAAAAAAAJMAAAAAAAAAkQAAAAAAAACTAAAAAAAAAJEAAAAAAAAAkwAAAAAAAACRAAAAAAAAAJMAAAAAAAAAkQAAAAAAAACTAAAAAAAAAJEA=",
            "dtype": "f8"
           }
          }
         ],
         "name": "18"
        },
        {
         "data": [
          {
           "color": "lightblue",
           "i": {
            "bdata": "AQECAgQEBQUGBgcHCAgJCQoKCwsMDA0NDg4PDxAQERESEhMTFBQVFRYWFxcYGBkZGhobGxwcHR0eHh8fICAhIQ==",
            "dtype": "i1"
           },
           "j": {
            "bdata": "AAQEBQAGBgcACAgJAAoKCwAMDA0ADg4PABAQEQASEhMAFBQVABYWFwAYGBkAGhobABwcHQAeHh8AICAhAAEBAg==",
            "dtype": "i1"
           },
           "k": {
            "bdata": "BAIFAwYFBwMIBwkDCgkLAwwLDQMODQ8DEA8RAxIREwMUExUDFhUXAxgXGQMaGRsDHBsdAx4dHwMgHyEDASECAw==",
            "dtype": "i1"
           },
           "name": "Mesh",
           "opacity": 0.3,
           "type": "mesh3d",
           "x": {
            "bdata": "AAAAAAAAAAAAAAAAAADwPwAAAAAAAPA/AAAAAAAAAABGjTLPa5DtP0aNMs9rkO0/zTt/Zp6g5j/NO39mnqDmP2Sprqbifdg/ZKmupuJ92D8HXBQzJqaRPAdcFDMmppE8YqmupuJ92L9iqa6m4n3Yv8w7f2aeoOa/zDt/Zp6g5r9GjTLPa5Dtv0aNMs9rkO2/AAAAAAAA8L8AAAAAAADwv0eNMs9rkO2/R40yz2uQ7b/OO39mnqDmv847f2aeoOa/bamupuJ92L9tqa6m4n3YvwqKnkw5eaq8CoqeTDl5qrxnqa6m4n3YP2eprqbifdg/yzt/Zp6g5j/LO39mnqDmP0SNMs9rkO0/RI0yz2uQ7T8=",
            "dtype": "f8"
           },
           "y": {
            "bdata": "AAAAAAAAAAAAAAAAAAAAAAAAAAAAAAAAAAAAAAAAAABjqa6m4n3YP2Oprqbifdg/zTt/Zp6g5j/NO39mnqDmP0aNMs9rkO0/Ro0yz2uQ7T8AAAAAAADwPwAAAAAAAPA/Ro0yz2uQ7T9GjTLPa5DtP807f2aeoOY/zTt/Zp6g5j9lqa6m4n3YP2Wprqbifdg/B1wUMyamoTwHXBQzJqahPGGprqbifdi/YamupuJ92L/MO39mnqDmv8w7f2aeoOa/RI0yz2uQ7b9EjTLPa5DtvwAAAAAAAPC/AAAAAAAA8L9FjTLPa5Dtv0WNMs9rkO2/zjt/Zp6g5r/OO39mnqDmv26prqbifdi/bqmupuJ92L8=",
            "dtype": "f8"
           },
           "z": {
            "bdata": "AAAAAAAAJMAAAAAAAAAkwAAAAAAAACRAAAAAAAAAJEAAAAAAAAAkwAAAAAAAACRAAAAAAAAAJMAAAAAAAAAkQAAAAAAAACTAAAAAAAAAJEAAAAAAAAAkwAAAAAAAACRAAAAAAAAAJMAAAAAAAAAkQAAAAAAAACTAAAAAAAAAJEAAAAAAAAAkwAAAAAAAACRAAAAAAAAAJMAAAAAAAAAkQAAAAAAAACTAAAAAAAAAJEAAAAAAAAAkwAAAAAAAACRAAAAAAAAAJMAAAAAAAAAkQAAAAAAAACTAAAAAAAAAJEAAAAAAAAAkwAAAAAAAACRAAAAAAAAAJMAAAAAAAAAkQAAAAAAAACTAAAAAAAAAJEA=",
            "dtype": "f8"
           }
          }
         ],
         "name": "19"
        },
        {
         "data": [
          {
           "color": "lightblue",
           "i": {
            "bdata": "AQECAgQEBQUGBgcHCAgJCQoKCwsMDA0NDg4PDxAQERESEhMTFBQVFRYWFxcYGBkZGhobGxwcHR0eHh8fICAhIQ==",
            "dtype": "i1"
           },
           "j": {
            "bdata": "AAQEBQAGBgcACAgJAAoKCwAMDA0ADg4PABAQEQASEhMAFBQVABYWFwAYGBkAGhobABwcHQAeHh8AICAhAAEBAg==",
            "dtype": "i1"
           },
           "k": {
            "bdata": "BAIFAwYFBwMIBwkDCgkLAwwLDQMODQ8DEA8RAxIREwMUExUDFhUXAxgXGQMaGRsDHBsdAx4dHwMgHyEDASECAw==",
            "dtype": "i1"
           },
           "name": "Mesh",
           "opacity": 0.3,
           "type": "mesh3d",
           "x": {
            "bdata": "AAAAAAAAAAAAAAAAAADwPwAAAAAAAPA/AAAAAAAAAABGjTLPa5DtP0aNMs9rkO0/zTt/Zp6g5j/NO39mnqDmP2Sprqbifdg/ZKmupuJ92D8HXBQzJqaRPAdcFDMmppE8YqmupuJ92L9iqa6m4n3Yv8w7f2aeoOa/zDt/Zp6g5r9GjTLPa5Dtv0aNMs9rkO2/AAAAAAAA8L8AAAAAAADwv0eNMs9rkO2/R40yz2uQ7b/OO39mnqDmv847f2aeoOa/bamupuJ92L9tqa6m4n3YvwqKnkw5eaq8CoqeTDl5qrxnqa6m4n3YP2eprqbifdg/yzt/Zp6g5j/LO39mnqDmP0SNMs9rkO0/RI0yz2uQ7T8=",
            "dtype": "f8"
           },
           "y": {
            "bdata": "AAAAAAAAAAAAAAAAAAAAAAAAAAAAAAAAAAAAAAAAAABjqa6m4n3YP2Oprqbifdg/zTt/Zp6g5j/NO39mnqDmP0aNMs9rkO0/Ro0yz2uQ7T8AAAAAAADwPwAAAAAAAPA/Ro0yz2uQ7T9GjTLPa5DtP807f2aeoOY/zTt/Zp6g5j9lqa6m4n3YP2Wprqbifdg/B1wUMyamoTwHXBQzJqahPGGprqbifdi/YamupuJ92L/MO39mnqDmv8w7f2aeoOa/RI0yz2uQ7b9EjTLPa5DtvwAAAAAAAPC/AAAAAAAA8L9FjTLPa5Dtv0WNMs9rkO2/zjt/Zp6g5r/OO39mnqDmv26prqbifdi/bqmupuJ92L8=",
            "dtype": "f8"
           },
           "z": {
            "bdata": "AAAAAAAAJMAAAAAAAAAkwAAAAAAAACRAAAAAAAAAJEAAAAAAAAAkwAAAAAAAACRAAAAAAAAAJMAAAAAAAAAkQAAAAAAAACTAAAAAAAAAJEAAAAAAAAAkwAAAAAAAACRAAAAAAAAAJMAAAAAAAAAkQAAAAAAAACTAAAAAAAAAJEAAAAAAAAAkwAAAAAAAACRAAAAAAAAAJMAAAAAAAAAkQAAAAAAAACTAAAAAAAAAJEAAAAAAAAAkwAAAAAAAACRAAAAAAAAAJMAAAAAAAAAkQAAAAAAAACTAAAAAAAAAJEAAAAAAAAAkwAAAAAAAACRAAAAAAAAAJMAAAAAAAAAkQAAAAAAAACTAAAAAAAAAJEA=",
            "dtype": "f8"
           }
          }
         ],
         "name": "20"
        },
        {
         "data": [
          {
           "color": "lightblue",
           "i": {
            "bdata": "AQECAgQEBQUGBgcHCAgJCQoKCwsMDA0NDg4PDxAQERESEhMTFBQVFRYWFxcYGBkZGhobGxwcHR0eHh8fICAhIQ==",
            "dtype": "i1"
           },
           "j": {
            "bdata": "AAQEBQAGBgcACAgJAAoKCwAMDA0ADg4PABAQEQASEhMAFBQVABYWFwAYGBkAGhobABwcHQAeHh8AICAhAAEBAg==",
            "dtype": "i1"
           },
           "k": {
            "bdata": "BAIFAwYFBwMIBwkDCgkLAwwLDQMODQ8DEA8RAxIREwMUExUDFhUXAxgXGQMaGRsDHBsdAx4dHwMgHyEDASECAw==",
            "dtype": "i1"
           },
           "name": "Mesh",
           "opacity": 0.3,
           "type": "mesh3d",
           "x": {
            "bdata": "AAAAAAAAAAAAAAAAAADwPwAAAAAAAPA/AAAAAAAAAABGjTLPa5DtP0aNMs9rkO0/zTt/Zp6g5j/NO39mnqDmP2Sprqbifdg/ZKmupuJ92D8HXBQzJqaRPAdcFDMmppE8YqmupuJ92L9iqa6m4n3Yv8w7f2aeoOa/zDt/Zp6g5r9GjTLPa5Dtv0aNMs9rkO2/AAAAAAAA8L8AAAAAAADwv0eNMs9rkO2/R40yz2uQ7b/OO39mnqDmv847f2aeoOa/bamupuJ92L9tqa6m4n3YvwqKnkw5eaq8CoqeTDl5qrxnqa6m4n3YP2eprqbifdg/yzt/Zp6g5j/LO39mnqDmP0SNMs9rkO0/RI0yz2uQ7T8=",
            "dtype": "f8"
           },
           "y": {
            "bdata": "AAAAAAAAAAAAAAAAAAAAAAAAAAAAAAAAAAAAAAAAAABjqa6m4n3YP2Oprqbifdg/zTt/Zp6g5j/NO39mnqDmP0aNMs9rkO0/Ro0yz2uQ7T8AAAAAAADwPwAAAAAAAPA/Ro0yz2uQ7T9GjTLPa5DtP807f2aeoOY/zTt/Zp6g5j9lqa6m4n3YP2Wprqbifdg/B1wUMyamoTwHXBQzJqahPGGprqbifdi/YamupuJ92L/MO39mnqDmv8w7f2aeoOa/RI0yz2uQ7b9EjTLPa5DtvwAAAAAAAPC/AAAAAAAA8L9FjTLPa5Dtv0WNMs9rkO2/zjt/Zp6g5r/OO39mnqDmv26prqbifdi/bqmupuJ92L8=",
            "dtype": "f8"
           },
           "z": {
            "bdata": "AAAAAAAAJMAAAAAAAAAkwAAAAAAAACRAAAAAAAAAJEAAAAAAAAAkwAAAAAAAACRAAAAAAAAAJMAAAAAAAAAkQAAAAAAAACTAAAAAAAAAJEAAAAAAAAAkwAAAAAAAACRAAAAAAAAAJMAAAAAAAAAkQAAAAAAAACTAAAAAAAAAJEAAAAAAAAAkwAAAAAAAACRAAAAAAAAAJMAAAAAAAAAkQAAAAAAAACTAAAAAAAAAJEAAAAAAAAAkwAAAAAAAACRAAAAAAAAAJMAAAAAAAAAkQAAAAAAAACTAAAAAAAAAJEAAAAAAAAAkwAAAAAAAACRAAAAAAAAAJMAAAAAAAAAkQAAAAAAAACTAAAAAAAAAJEA=",
            "dtype": "f8"
           }
          }
         ],
         "name": "21"
        },
        {
         "data": [
          {
           "color": "lightblue",
           "i": {
            "bdata": "AQECAgQEBQUGBgcHCAgJCQoKCwsMDA0NDg4PDxAQERESEhMTFBQVFRYWFxcYGBkZGhobGxwcHR0eHh8fICAhIQ==",
            "dtype": "i1"
           },
           "j": {
            "bdata": "AAQEBQAGBgcACAgJAAoKCwAMDA0ADg4PABAQEQASEhMAFBQVABYWFwAYGBkAGhobABwcHQAeHh8AICAhAAEBAg==",
            "dtype": "i1"
           },
           "k": {
            "bdata": "BAIFAwYFBwMIBwkDCgkLAwwLDQMODQ8DEA8RAxIREwMUExUDFhUXAxgXGQMaGRsDHBsdAx4dHwMgHyEDASECAw==",
            "dtype": "i1"
           },
           "name": "Mesh",
           "opacity": 0.3,
           "type": "mesh3d",
           "x": {
            "bdata": "AAAAAAAAAAAAAAAAAADwPwAAAAAAAPA/AAAAAAAAAABGjTLPa5DtP0aNMs9rkO0/zTt/Zp6g5j/NO39mnqDmP2Sprqbifdg/ZKmupuJ92D8HXBQzJqaRPAdcFDMmppE8YqmupuJ92L9iqa6m4n3Yv8w7f2aeoOa/zDt/Zp6g5r9GjTLPa5Dtv0aNMs9rkO2/AAAAAAAA8L8AAAAAAADwv0eNMs9rkO2/R40yz2uQ7b/OO39mnqDmv847f2aeoOa/bamupuJ92L9tqa6m4n3YvwqKnkw5eaq8CoqeTDl5qrxnqa6m4n3YP2eprqbifdg/yzt/Zp6g5j/LO39mnqDmP0SNMs9rkO0/RI0yz2uQ7T8=",
            "dtype": "f8"
           },
           "y": {
            "bdata": "AAAAAAAAAAAAAAAAAAAAAAAAAAAAAAAAAAAAAAAAAABjqa6m4n3YP2Oprqbifdg/zTt/Zp6g5j/NO39mnqDmP0aNMs9rkO0/Ro0yz2uQ7T8AAAAAAADwPwAAAAAAAPA/Ro0yz2uQ7T9GjTLPa5DtP807f2aeoOY/zTt/Zp6g5j9lqa6m4n3YP2Wprqbifdg/B1wUMyamoTwHXBQzJqahPGGprqbifdi/YamupuJ92L/MO39mnqDmv8w7f2aeoOa/RI0yz2uQ7b9EjTLPa5DtvwAAAAAAAPC/AAAAAAAA8L9FjTLPa5Dtv0WNMs9rkO2/zjt/Zp6g5r/OO39mnqDmv26prqbifdi/bqmupuJ92L8=",
            "dtype": "f8"
           },
           "z": {
            "bdata": "AAAAAAAAJMAAAAAAAAAkwAAAAAAAACRAAAAAAAAAJEAAAAAAAAAkwAAAAAAAACRAAAAAAAAAJMAAAAAAAAAkQAAAAAAAACTAAAAAAAAAJEAAAAAAAAAkwAAAAAAAACRAAAAAAAAAJMAAAAAAAAAkQAAAAAAAACTAAAAAAAAAJEAAAAAAAAAkwAAAAAAAACRAAAAAAAAAJMAAAAAAAAAkQAAAAAAAACTAAAAAAAAAJEAAAAAAAAAkwAAAAAAAACRAAAAAAAAAJMAAAAAAAAAkQAAAAAAAACTAAAAAAAAAJEAAAAAAAAAkwAAAAAAAACRAAAAAAAAAJMAAAAAAAAAkQAAAAAAAACTAAAAAAAAAJEA=",
            "dtype": "f8"
           }
          }
         ],
         "name": "22"
        },
        {
         "data": [
          {
           "color": "lightblue",
           "i": {
            "bdata": "AQECAgQEBQUGBgcHCAgJCQoKCwsMDA0NDg4PDxAQERESEhMTFBQVFRYWFxcYGBkZGhobGxwcHR0eHh8fICAhIQ==",
            "dtype": "i1"
           },
           "j": {
            "bdata": "AAQEBQAGBgcACAgJAAoKCwAMDA0ADg4PABAQEQASEhMAFBQVABYWFwAYGBkAGhobABwcHQAeHh8AICAhAAEBAg==",
            "dtype": "i1"
           },
           "k": {
            "bdata": "BAIFAwYFBwMIBwkDCgkLAwwLDQMODQ8DEA8RAxIREwMUExUDFhUXAxgXGQMaGRsDHBsdAx4dHwMgHyEDASECAw==",
            "dtype": "i1"
           },
           "name": "Mesh",
           "opacity": 0.3,
           "type": "mesh3d",
           "x": {
            "bdata": "AAAAAAAAAAAAAAAAAADwPwAAAAAAAPA/AAAAAAAAAABGjTLPa5DtP0aNMs9rkO0/zTt/Zp6g5j/NO39mnqDmP2Sprqbifdg/ZKmupuJ92D8HXBQzJqaRPAdcFDMmppE8YqmupuJ92L9iqa6m4n3Yv8w7f2aeoOa/zDt/Zp6g5r9GjTLPa5Dtv0aNMs9rkO2/AAAAAAAA8L8AAAAAAADwv0eNMs9rkO2/R40yz2uQ7b/OO39mnqDmv847f2aeoOa/bamupuJ92L9tqa6m4n3YvwqKnkw5eaq8CoqeTDl5qrxnqa6m4n3YP2eprqbifdg/yzt/Zp6g5j/LO39mnqDmP0SNMs9rkO0/RI0yz2uQ7T8=",
            "dtype": "f8"
           },
           "y": {
            "bdata": "AAAAAAAAAAAAAAAAAAAAAAAAAAAAAAAAAAAAAAAAAABjqa6m4n3YP2Oprqbifdg/zTt/Zp6g5j/NO39mnqDmP0aNMs9rkO0/Ro0yz2uQ7T8AAAAAAADwPwAAAAAAAPA/Ro0yz2uQ7T9GjTLPa5DtP807f2aeoOY/zTt/Zp6g5j9lqa6m4n3YP2Wprqbifdg/B1wUMyamoTwHXBQzJqahPGGprqbifdi/YamupuJ92L/MO39mnqDmv8w7f2aeoOa/RI0yz2uQ7b9EjTLPa5DtvwAAAAAAAPC/AAAAAAAA8L9FjTLPa5Dtv0WNMs9rkO2/zjt/Zp6g5r/OO39mnqDmv26prqbifdi/bqmupuJ92L8=",
            "dtype": "f8"
           },
           "z": {
            "bdata": "AAAAAAAAJMAAAAAAAAAkwAAAAAAAACRAAAAAAAAAJEAAAAAAAAAkwAAAAAAAACRAAAAAAAAAJMAAAAAAAAAkQAAAAAAAACTAAAAAAAAAJEAAAAAAAAAkwAAAAAAAACRAAAAAAAAAJMAAAAAAAAAkQAAAAAAAACTAAAAAAAAAJEAAAAAAAAAkwAAAAAAAACRAAAAAAAAAJMAAAAAAAAAkQAAAAAAAACTAAAAAAAAAJEAAAAAAAAAkwAAAAAAAACRAAAAAAAAAJMAAAAAAAAAkQAAAAAAAACTAAAAAAAAAJEAAAAAAAAAkwAAAAAAAACRAAAAAAAAAJMAAAAAAAAAkQAAAAAAAACTAAAAAAAAAJEA=",
            "dtype": "f8"
           }
          }
         ],
         "name": "23"
        },
        {
         "data": [
          {
           "color": "lightblue",
           "i": {
            "bdata": "AQECAgQEBQUGBgcHCAgJCQoKCwsMDA0NDg4PDxAQERESEhMTFBQVFRYWFxcYGBkZGhobGxwcHR0eHh8fICAhIQ==",
            "dtype": "i1"
           },
           "j": {
            "bdata": "AAQEBQAGBgcACAgJAAoKCwAMDA0ADg4PABAQEQASEhMAFBQVABYWFwAYGBkAGhobABwcHQAeHh8AICAhAAEBAg==",
            "dtype": "i1"
           },
           "k": {
            "bdata": "BAIFAwYFBwMIBwkDCgkLAwwLDQMODQ8DEA8RAxIREwMUExUDFhUXAxgXGQMaGRsDHBsdAx4dHwMgHyEDASECAw==",
            "dtype": "i1"
           },
           "name": "Mesh",
           "opacity": 0.3,
           "type": "mesh3d",
           "x": {
            "bdata": "AAAAAAAAAAAAAAAAAADwPwAAAAAAAPA/AAAAAAAAAABGjTLPa5DtP0aNMs9rkO0/zTt/Zp6g5j/NO39mnqDmP2Sprqbifdg/ZKmupuJ92D8HXBQzJqaRPAdcFDMmppE8YqmupuJ92L9iqa6m4n3Yv8w7f2aeoOa/zDt/Zp6g5r9GjTLPa5Dtv0aNMs9rkO2/AAAAAAAA8L8AAAAAAADwv0eNMs9rkO2/R40yz2uQ7b/OO39mnqDmv847f2aeoOa/bamupuJ92L9tqa6m4n3YvwqKnkw5eaq8CoqeTDl5qrxnqa6m4n3YP2eprqbifdg/yzt/Zp6g5j/LO39mnqDmP0SNMs9rkO0/RI0yz2uQ7T8=",
            "dtype": "f8"
           },
           "y": {
            "bdata": "AAAAAAAAAAAAAAAAAAAAAAAAAAAAAAAAAAAAAAAAAABjqa6m4n3YP2Oprqbifdg/zTt/Zp6g5j/NO39mnqDmP0aNMs9rkO0/Ro0yz2uQ7T8AAAAAAADwPwAAAAAAAPA/Ro0yz2uQ7T9GjTLPa5DtP807f2aeoOY/zTt/Zp6g5j9lqa6m4n3YP2Wprqbifdg/B1wUMyamoTwHXBQzJqahPGGprqbifdi/YamupuJ92L/MO39mnqDmv8w7f2aeoOa/RI0yz2uQ7b9EjTLPa5DtvwAAAAAAAPC/AAAAAAAA8L9FjTLPa5Dtv0WNMs9rkO2/zjt/Zp6g5r/OO39mnqDmv26prqbifdi/bqmupuJ92L8=",
            "dtype": "f8"
           },
           "z": {
            "bdata": "AAAAAAAAJMAAAAAAAAAkwAAAAAAAACRAAAAAAAAAJEAAAAAAAAAkwAAAAAAAACRAAAAAAAAAJMAAAAAAAAAkQAAAAAAAACTAAAAAAAAAJEAAAAAAAAAkwAAAAAAAACRAAAAAAAAAJMAAAAAAAAAkQAAAAAAAACTAAAAAAAAAJEAAAAAAAAAkwAAAAAAAACRAAAAAAAAAJMAAAAAAAAAkQAAAAAAAACTAAAAAAAAAJEAAAAAAAAAkwAAAAAAAACRAAAAAAAAAJMAAAAAAAAAkQAAAAAAAACTAAAAAAAAAJEAAAAAAAAAkwAAAAAAAACRAAAAAAAAAJMAAAAAAAAAkQAAAAAAAACTAAAAAAAAAJEA=",
            "dtype": "f8"
           }
          }
         ],
         "name": "24"
        },
        {
         "data": [
          {
           "color": "lightblue",
           "i": {
            "bdata": "AQECAgQEBQUGBgcHCAgJCQoKCwsMDA0NDg4PDxAQERESEhMTFBQVFRYWFxcYGBkZGhobGxwcHR0eHh8fICAhIQ==",
            "dtype": "i1"
           },
           "j": {
            "bdata": "AAQEBQAGBgcACAgJAAoKCwAMDA0ADg4PABAQEQASEhMAFBQVABYWFwAYGBkAGhobABwcHQAeHh8AICAhAAEBAg==",
            "dtype": "i1"
           },
           "k": {
            "bdata": "BAIFAwYFBwMIBwkDCgkLAwwLDQMODQ8DEA8RAxIREwMUExUDFhUXAxgXGQMaGRsDHBsdAx4dHwMgHyEDASECAw==",
            "dtype": "i1"
           },
           "name": "Mesh",
           "opacity": 0.3,
           "type": "mesh3d",
           "x": {
            "bdata": "AAAAAAAAAAAAAAAAAADwPwAAAAAAAPA/AAAAAAAAAABGjTLPa5DtP0aNMs9rkO0/zTt/Zp6g5j/NO39mnqDmP2Sprqbifdg/ZKmupuJ92D8HXBQzJqaRPAdcFDMmppE8YqmupuJ92L9iqa6m4n3Yv8w7f2aeoOa/zDt/Zp6g5r9GjTLPa5Dtv0aNMs9rkO2/AAAAAAAA8L8AAAAAAADwv0eNMs9rkO2/R40yz2uQ7b/OO39mnqDmv847f2aeoOa/bamupuJ92L9tqa6m4n3YvwqKnkw5eaq8CoqeTDl5qrxnqa6m4n3YP2eprqbifdg/yzt/Zp6g5j/LO39mnqDmP0SNMs9rkO0/RI0yz2uQ7T8=",
            "dtype": "f8"
           },
           "y": {
            "bdata": "AAAAAAAAAAAAAAAAAAAAAAAAAAAAAAAAAAAAAAAAAABjqa6m4n3YP2Oprqbifdg/zTt/Zp6g5j/NO39mnqDmP0aNMs9rkO0/Ro0yz2uQ7T8AAAAAAADwPwAAAAAAAPA/Ro0yz2uQ7T9GjTLPa5DtP807f2aeoOY/zTt/Zp6g5j9lqa6m4n3YP2Wprqbifdg/B1wUMyamoTwHXBQzJqahPGGprqbifdi/YamupuJ92L/MO39mnqDmv8w7f2aeoOa/RI0yz2uQ7b9EjTLPa5DtvwAAAAAAAPC/AAAAAAAA8L9FjTLPa5Dtv0WNMs9rkO2/zjt/Zp6g5r/OO39mnqDmv26prqbifdi/bqmupuJ92L8=",
            "dtype": "f8"
           },
           "z": {
            "bdata": "AAAAAAAAJMAAAAAAAAAkwAAAAAAAACRAAAAAAAAAJEAAAAAAAAAkwAAAAAAAACRAAAAAAAAAJMAAAAAAAAAkQAAAAAAAACTAAAAAAAAAJEAAAAAAAAAkwAAAAAAAACRAAAAAAAAAJMAAAAAAAAAkQAAAAAAAACTAAAAAAAAAJEAAAAAAAAAkwAAAAAAAACRAAAAAAAAAJMAAAAAAAAAkQAAAAAAAACTAAAAAAAAAJEAAAAAAAAAkwAAAAAAAACRAAAAAAAAAJMAAAAAAAAAkQAAAAAAAACTAAAAAAAAAJEAAAAAAAAAkwAAAAAAAACRAAAAAAAAAJMAAAAAAAAAkQAAAAAAAACTAAAAAAAAAJEA=",
            "dtype": "f8"
           }
          }
         ],
         "name": "25"
        },
        {
         "data": [
          {
           "color": "lightblue",
           "i": {
            "bdata": "AQECAgQEBQUGBgcHCAgJCQoKCwsMDA0NDg4PDxAQERESEhMTFBQVFRYWFxcYGBkZGhobGxwcHR0eHh8fICAhIQ==",
            "dtype": "i1"
           },
           "j": {
            "bdata": "AAQEBQAGBgcACAgJAAoKCwAMDA0ADg4PABAQEQASEhMAFBQVABYWFwAYGBkAGhobABwcHQAeHh8AICAhAAEBAg==",
            "dtype": "i1"
           },
           "k": {
            "bdata": "BAIFAwYFBwMIBwkDCgkLAwwLDQMODQ8DEA8RAxIREwMUExUDFhUXAxgXGQMaGRsDHBsdAx4dHwMgHyEDASECAw==",
            "dtype": "i1"
           },
           "name": "Mesh",
           "opacity": 0.3,
           "type": "mesh3d",
           "x": {
            "bdata": "AAAAAAAAAAAAAAAAAADwPwAAAAAAAPA/AAAAAAAAAABGjTLPa5DtP0aNMs9rkO0/zTt/Zp6g5j/NO39mnqDmP2Sprqbifdg/ZKmupuJ92D8HXBQzJqaRPAdcFDMmppE8YqmupuJ92L9iqa6m4n3Yv8w7f2aeoOa/zDt/Zp6g5r9GjTLPa5Dtv0aNMs9rkO2/AAAAAAAA8L8AAAAAAADwv0eNMs9rkO2/R40yz2uQ7b/OO39mnqDmv847f2aeoOa/bamupuJ92L9tqa6m4n3YvwqKnkw5eaq8CoqeTDl5qrxnqa6m4n3YP2eprqbifdg/yzt/Zp6g5j/LO39mnqDmP0SNMs9rkO0/RI0yz2uQ7T8=",
            "dtype": "f8"
           },
           "y": {
            "bdata": "AAAAAAAAAAAAAAAAAAAAAAAAAAAAAAAAAAAAAAAAAABjqa6m4n3YP2Oprqbifdg/zTt/Zp6g5j/NO39mnqDmP0aNMs9rkO0/Ro0yz2uQ7T8AAAAAAADwPwAAAAAAAPA/Ro0yz2uQ7T9GjTLPa5DtP807f2aeoOY/zTt/Zp6g5j9lqa6m4n3YP2Wprqbifdg/B1wUMyamoTwHXBQzJqahPGGprqbifdi/YamupuJ92L/MO39mnqDmv8w7f2aeoOa/RI0yz2uQ7b9EjTLPa5DtvwAAAAAAAPC/AAAAAAAA8L9FjTLPa5Dtv0WNMs9rkO2/zjt/Zp6g5r/OO39mnqDmv26prqbifdi/bqmupuJ92L8=",
            "dtype": "f8"
           },
           "z": {
            "bdata": "AAAAAAAAJMAAAAAAAAAkwAAAAAAAACRAAAAAAAAAJEAAAAAAAAAkwAAAAAAAACRAAAAAAAAAJMAAAAAAAAAkQAAAAAAAACTAAAAAAAAAJEAAAAAAAAAkwAAAAAAAACRAAAAAAAAAJMAAAAAAAAAkQAAAAAAAACTAAAAAAAAAJEAAAAAAAAAkwAAAAAAAACRAAAAAAAAAJMAAAAAAAAAkQAAAAAAAACTAAAAAAAAAJEAAAAAAAAAkwAAAAAAAACRAAAAAAAAAJMAAAAAAAAAkQAAAAAAAACTAAAAAAAAAJEAAAAAAAAAkwAAAAAAAACRAAAAAAAAAJMAAAAAAAAAkQAAAAAAAACTAAAAAAAAAJEA=",
            "dtype": "f8"
           }
          }
         ],
         "name": "26"
        },
        {
         "data": [
          {
           "color": "lightblue",
           "i": {
            "bdata": "AQECAgQEBQUGBgcHCAgJCQoKCwsMDA0NDg4PDxAQERESEhMTFBQVFRYWFxcYGBkZGhobGxwcHR0eHh8fICAhIQ==",
            "dtype": "i1"
           },
           "j": {
            "bdata": "AAQEBQAGBgcACAgJAAoKCwAMDA0ADg4PABAQEQASEhMAFBQVABYWFwAYGBkAGhobABwcHQAeHh8AICAhAAEBAg==",
            "dtype": "i1"
           },
           "k": {
            "bdata": "BAIFAwYFBwMIBwkDCgkLAwwLDQMODQ8DEA8RAxIREwMUExUDFhUXAxgXGQMaGRsDHBsdAx4dHwMgHyEDASECAw==",
            "dtype": "i1"
           },
           "name": "Mesh",
           "opacity": 0.3,
           "type": "mesh3d",
           "x": {
            "bdata": "AAAAAAAAAAAAAAAAAADwPwAAAAAAAPA/AAAAAAAAAABGjTLPa5DtP0aNMs9rkO0/zTt/Zp6g5j/NO39mnqDmP2Sprqbifdg/ZKmupuJ92D8HXBQzJqaRPAdcFDMmppE8YqmupuJ92L9iqa6m4n3Yv8w7f2aeoOa/zDt/Zp6g5r9GjTLPa5Dtv0aNMs9rkO2/AAAAAAAA8L8AAAAAAADwv0eNMs9rkO2/R40yz2uQ7b/OO39mnqDmv847f2aeoOa/bamupuJ92L9tqa6m4n3YvwqKnkw5eaq8CoqeTDl5qrxnqa6m4n3YP2eprqbifdg/yzt/Zp6g5j/LO39mnqDmP0SNMs9rkO0/RI0yz2uQ7T8=",
            "dtype": "f8"
           },
           "y": {
            "bdata": "AAAAAAAAAAAAAAAAAAAAAAAAAAAAAAAAAAAAAAAAAABjqa6m4n3YP2Oprqbifdg/zTt/Zp6g5j/NO39mnqDmP0aNMs9rkO0/Ro0yz2uQ7T8AAAAAAADwPwAAAAAAAPA/Ro0yz2uQ7T9GjTLPa5DtP807f2aeoOY/zTt/Zp6g5j9lqa6m4n3YP2Wprqbifdg/B1wUMyamoTwHXBQzJqahPGGprqbifdi/YamupuJ92L/MO39mnqDmv8w7f2aeoOa/RI0yz2uQ7b9EjTLPa5DtvwAAAAAAAPC/AAAAAAAA8L9FjTLPa5Dtv0WNMs9rkO2/zjt/Zp6g5r/OO39mnqDmv26prqbifdi/bqmupuJ92L8=",
            "dtype": "f8"
           },
           "z": {
            "bdata": "AAAAAAAAJMAAAAAAAAAkwAAAAAAAACRAAAAAAAAAJEAAAAAAAAAkwAAAAAAAACRAAAAAAAAAJMAAAAAAAAAkQAAAAAAAACTAAAAAAAAAJEAAAAAAAAAkwAAAAAAAACRAAAAAAAAAJMAAAAAAAAAkQAAAAAAAACTAAAAAAAAAJEAAAAAAAAAkwAAAAAAAACRAAAAAAAAAJMAAAAAAAAAkQAAAAAAAACTAAAAAAAAAJEAAAAAAAAAkwAAAAAAAACRAAAAAAAAAJMAAAAAAAAAkQAAAAAAAACTAAAAAAAAAJEAAAAAAAAAkwAAAAAAAACRAAAAAAAAAJMAAAAAAAAAkQAAAAAAAACTAAAAAAAAAJEA=",
            "dtype": "f8"
           }
          }
         ],
         "name": "27"
        },
        {
         "data": [
          {
           "color": "lightblue",
           "i": {
            "bdata": "AQECAgQEBQUGBgcHCAgJCQoKCwsMDA0NDg4PDxAQERESEhMTFBQVFRYWFxcYGBkZGhobGxwcHR0eHh8fICAhIQ==",
            "dtype": "i1"
           },
           "j": {
            "bdata": "AAQEBQAGBgcACAgJAAoKCwAMDA0ADg4PABAQEQASEhMAFBQVABYWFwAYGBkAGhobABwcHQAeHh8AICAhAAEBAg==",
            "dtype": "i1"
           },
           "k": {
            "bdata": "BAIFAwYFBwMIBwkDCgkLAwwLDQMODQ8DEA8RAxIREwMUExUDFhUXAxgXGQMaGRsDHBsdAx4dHwMgHyEDASECAw==",
            "dtype": "i1"
           },
           "name": "Mesh",
           "opacity": 0.3,
           "type": "mesh3d",
           "x": {
            "bdata": "AAAAAAAAAAAAAAAAAADwPwAAAAAAAPA/AAAAAAAAAABGjTLPa5DtP0aNMs9rkO0/zTt/Zp6g5j/NO39mnqDmP2Sprqbifdg/ZKmupuJ92D8HXBQzJqaRPAdcFDMmppE8YqmupuJ92L9iqa6m4n3Yv8w7f2aeoOa/zDt/Zp6g5r9GjTLPa5Dtv0aNMs9rkO2/AAAAAAAA8L8AAAAAAADwv0eNMs9rkO2/R40yz2uQ7b/OO39mnqDmv847f2aeoOa/bamupuJ92L9tqa6m4n3YvwqKnkw5eaq8CoqeTDl5qrxnqa6m4n3YP2eprqbifdg/yzt/Zp6g5j/LO39mnqDmP0SNMs9rkO0/RI0yz2uQ7T8=",
            "dtype": "f8"
           },
           "y": {
            "bdata": "AAAAAAAAAAAAAAAAAAAAAAAAAAAAAAAAAAAAAAAAAABjqa6m4n3YP2Oprqbifdg/zTt/Zp6g5j/NO39mnqDmP0aNMs9rkO0/Ro0yz2uQ7T8AAAAAAADwPwAAAAAAAPA/Ro0yz2uQ7T9GjTLPa5DtP807f2aeoOY/zTt/Zp6g5j9lqa6m4n3YP2Wprqbifdg/B1wUMyamoTwHXBQzJqahPGGprqbifdi/YamupuJ92L/MO39mnqDmv8w7f2aeoOa/RI0yz2uQ7b9EjTLPa5DtvwAAAAAAAPC/AAAAAAAA8L9FjTLPa5Dtv0WNMs9rkO2/zjt/Zp6g5r/OO39mnqDmv26prqbifdi/bqmupuJ92L8=",
            "dtype": "f8"
           },
           "z": {
            "bdata": "AAAAAAAAJMAAAAAAAAAkwAAAAAAAACRAAAAAAAAAJEAAAAAAAAAkwAAAAAAAACRAAAAAAAAAJMAAAAAAAAAkQAAAAAAAACTAAAAAAAAAJEAAAAAAAAAkwAAAAAAAACRAAAAAAAAAJMAAAAAAAAAkQAAAAAAAACTAAAAAAAAAJEAAAAAAAAAkwAAAAAAAACRAAAAAAAAAJMAAAAAAAAAkQAAAAAAAACTAAAAAAAAAJEAAAAAAAAAkwAAAAAAAACRAAAAAAAAAJMAAAAAAAAAkQAAAAAAAACTAAAAAAAAAJEAAAAAAAAAkwAAAAAAAACRAAAAAAAAAJMAAAAAAAAAkQAAAAAAAACTAAAAAAAAAJEA=",
            "dtype": "f8"
           }
          }
         ],
         "name": "28"
        },
        {
         "data": [
          {
           "color": "lightblue",
           "i": {
            "bdata": "AQECAgQEBQUGBgcHCAgJCQoKCwsMDA0NDg4PDxAQERESEhMTFBQVFRYWFxcYGBkZGhobGxwcHR0eHh8fICAhIQ==",
            "dtype": "i1"
           },
           "j": {
            "bdata": "AAQEBQAGBgcACAgJAAoKCwAMDA0ADg4PABAQEQASEhMAFBQVABYWFwAYGBkAGhobABwcHQAeHh8AICAhAAEBAg==",
            "dtype": "i1"
           },
           "k": {
            "bdata": "BAIFAwYFBwMIBwkDCgkLAwwLDQMODQ8DEA8RAxIREwMUExUDFhUXAxgXGQMaGRsDHBsdAx4dHwMgHyEDASECAw==",
            "dtype": "i1"
           },
           "name": "Mesh",
           "opacity": 0.3,
           "type": "mesh3d",
           "x": {
            "bdata": "AAAAAAAAAAAAAAAAAADwPwAAAAAAAPA/AAAAAAAAAABGjTLPa5DtP0aNMs9rkO0/zTt/Zp6g5j/NO39mnqDmP2Sprqbifdg/ZKmupuJ92D8HXBQzJqaRPAdcFDMmppE8YqmupuJ92L9iqa6m4n3Yv8w7f2aeoOa/zDt/Zp6g5r9GjTLPa5Dtv0aNMs9rkO2/AAAAAAAA8L8AAAAAAADwv0eNMs9rkO2/R40yz2uQ7b/OO39mnqDmv847f2aeoOa/bamupuJ92L9tqa6m4n3YvwqKnkw5eaq8CoqeTDl5qrxnqa6m4n3YP2eprqbifdg/yzt/Zp6g5j/LO39mnqDmP0SNMs9rkO0/RI0yz2uQ7T8=",
            "dtype": "f8"
           },
           "y": {
            "bdata": "AAAAAAAAAAAAAAAAAAAAAAAAAAAAAAAAAAAAAAAAAABjqa6m4n3YP2Oprqbifdg/zTt/Zp6g5j/NO39mnqDmP0aNMs9rkO0/Ro0yz2uQ7T8AAAAAAADwPwAAAAAAAPA/Ro0yz2uQ7T9GjTLPa5DtP807f2aeoOY/zTt/Zp6g5j9lqa6m4n3YP2Wprqbifdg/B1wUMyamoTwHXBQzJqahPGGprqbifdi/YamupuJ92L/MO39mnqDmv8w7f2aeoOa/RI0yz2uQ7b9EjTLPa5DtvwAAAAAAAPC/AAAAAAAA8L9FjTLPa5Dtv0WNMs9rkO2/zjt/Zp6g5r/OO39mnqDmv26prqbifdi/bqmupuJ92L8=",
            "dtype": "f8"
           },
           "z": {
            "bdata": "AAAAAAAAJMAAAAAAAAAkwAAAAAAAACRAAAAAAAAAJEAAAAAAAAAkwAAAAAAAACRAAAAAAAAAJMAAAAAAAAAkQAAAAAAAACTAAAAAAAAAJEAAAAAAAAAkwAAAAAAAACRAAAAAAAAAJMAAAAAAAAAkQAAAAAAAACTAAAAAAAAAJEAAAAAAAAAkwAAAAAAAACRAAAAAAAAAJMAAAAAAAAAkQAAAAAAAACTAAAAAAAAAJEAAAAAAAAAkwAAAAAAAACRAAAAAAAAAJMAAAAAAAAAkQAAAAAAAACTAAAAAAAAAJEAAAAAAAAAkwAAAAAAAACRAAAAAAAAAJMAAAAAAAAAkQAAAAAAAACTAAAAAAAAAJEA=",
            "dtype": "f8"
           }
          }
         ],
         "name": "29"
        },
        {
         "data": [
          {
           "color": "lightblue",
           "i": {
            "bdata": "AQECAgQEBQUGBgcHCAgJCQoKCwsMDA0NDg4PDxAQERESEhMTFBQVFRYWFxcYGBkZGhobGxwcHR0eHh8fICAhIQ==",
            "dtype": "i1"
           },
           "j": {
            "bdata": "AAQEBQAGBgcACAgJAAoKCwAMDA0ADg4PABAQEQASEhMAFBQVABYWFwAYGBkAGhobABwcHQAeHh8AICAhAAEBAg==",
            "dtype": "i1"
           },
           "k": {
            "bdata": "BAIFAwYFBwMIBwkDCgkLAwwLDQMODQ8DEA8RAxIREwMUExUDFhUXAxgXGQMaGRsDHBsdAx4dHwMgHyEDASECAw==",
            "dtype": "i1"
           },
           "name": "Mesh",
           "opacity": 0.3,
           "type": "mesh3d",
           "x": {
            "bdata": "AAAAAAAAAAAAAAAAAADwPwAAAAAAAPA/AAAAAAAAAABGjTLPa5DtP0aNMs9rkO0/zTt/Zp6g5j/NO39mnqDmP2Sprqbifdg/ZKmupuJ92D8HXBQzJqaRPAdcFDMmppE8YqmupuJ92L9iqa6m4n3Yv8w7f2aeoOa/zDt/Zp6g5r9GjTLPa5Dtv0aNMs9rkO2/AAAAAAAA8L8AAAAAAADwv0eNMs9rkO2/R40yz2uQ7b/OO39mnqDmv847f2aeoOa/bamupuJ92L9tqa6m4n3YvwqKnkw5eaq8CoqeTDl5qrxnqa6m4n3YP2eprqbifdg/yzt/Zp6g5j/LO39mnqDmP0SNMs9rkO0/RI0yz2uQ7T8=",
            "dtype": "f8"
           },
           "y": {
            "bdata": "AAAAAAAAAAAAAAAAAAAAAAAAAAAAAAAAAAAAAAAAAABjqa6m4n3YP2Oprqbifdg/zTt/Zp6g5j/NO39mnqDmP0aNMs9rkO0/Ro0yz2uQ7T8AAAAAAADwPwAAAAAAAPA/Ro0yz2uQ7T9GjTLPa5DtP807f2aeoOY/zTt/Zp6g5j9lqa6m4n3YP2Wprqbifdg/B1wUMyamoTwHXBQzJqahPGGprqbifdi/YamupuJ92L/MO39mnqDmv8w7f2aeoOa/RI0yz2uQ7b9EjTLPa5DtvwAAAAAAAPC/AAAAAAAA8L9FjTLPa5Dtv0WNMs9rkO2/zjt/Zp6g5r/OO39mnqDmv26prqbifdi/bqmupuJ92L8=",
            "dtype": "f8"
           },
           "z": {
            "bdata": "AAAAAAAAJMAAAAAAAAAkwAAAAAAAACRAAAAAAAAAJEAAAAAAAAAkwAAAAAAAACRAAAAAAAAAJMAAAAAAAAAkQAAAAAAAACTAAAAAAAAAJEAAAAAAAAAkwAAAAAAAACRAAAAAAAAAJMAAAAAAAAAkQAAAAAAAACTAAAAAAAAAJEAAAAAAAAAkwAAAAAAAACRAAAAAAAAAJMAAAAAAAAAkQAAAAAAAACTAAAAAAAAAJEAAAAAAAAAkwAAAAAAAACRAAAAAAAAAJMAAAAAAAAAkQAAAAAAAACTAAAAAAAAAJEAAAAAAAAAkwAAAAAAAACRAAAAAAAAAJMAAAAAAAAAkQAAAAAAAACTAAAAAAAAAJEA=",
            "dtype": "f8"
           }
          }
         ],
         "name": "30"
        },
        {
         "data": [
          {
           "color": "lightblue",
           "i": {
            "bdata": "AQECAgQEBQUGBgcHCAgJCQoKCwsMDA0NDg4PDxAQERESEhMTFBQVFRYWFxcYGBkZGhobGxwcHR0eHh8fICAhIQ==",
            "dtype": "i1"
           },
           "j": {
            "bdata": "AAQEBQAGBgcACAgJAAoKCwAMDA0ADg4PABAQEQASEhMAFBQVABYWFwAYGBkAGhobABwcHQAeHh8AICAhAAEBAg==",
            "dtype": "i1"
           },
           "k": {
            "bdata": "BAIFAwYFBwMIBwkDCgkLAwwLDQMODQ8DEA8RAxIREwMUExUDFhUXAxgXGQMaGRsDHBsdAx4dHwMgHyEDASECAw==",
            "dtype": "i1"
           },
           "name": "Mesh",
           "opacity": 0.3,
           "type": "mesh3d",
           "x": {
            "bdata": "AAAAAAAAAAAAAAAAAADwPwAAAAAAAPA/AAAAAAAAAABGjTLPa5DtP0aNMs9rkO0/zTt/Zp6g5j/NO39mnqDmP2Sprqbifdg/ZKmupuJ92D8HXBQzJqaRPAdcFDMmppE8YqmupuJ92L9iqa6m4n3Yv8w7f2aeoOa/zDt/Zp6g5r9GjTLPa5Dtv0aNMs9rkO2/AAAAAAAA8L8AAAAAAADwv0eNMs9rkO2/R40yz2uQ7b/OO39mnqDmv847f2aeoOa/bamupuJ92L9tqa6m4n3YvwqKnkw5eaq8CoqeTDl5qrxnqa6m4n3YP2eprqbifdg/yzt/Zp6g5j/LO39mnqDmP0SNMs9rkO0/RI0yz2uQ7T8=",
            "dtype": "f8"
           },
           "y": {
            "bdata": "AAAAAAAAAAAAAAAAAAAAAAAAAAAAAAAAAAAAAAAAAABjqa6m4n3YP2Oprqbifdg/zTt/Zp6g5j/NO39mnqDmP0aNMs9rkO0/Ro0yz2uQ7T8AAAAAAADwPwAAAAAAAPA/Ro0yz2uQ7T9GjTLPa5DtP807f2aeoOY/zTt/Zp6g5j9lqa6m4n3YP2Wprqbifdg/B1wUMyamoTwHXBQzJqahPGGprqbifdi/YamupuJ92L/MO39mnqDmv8w7f2aeoOa/RI0yz2uQ7b9EjTLPa5DtvwAAAAAAAPC/AAAAAAAA8L9FjTLPa5Dtv0WNMs9rkO2/zjt/Zp6g5r/OO39mnqDmv26prqbifdi/bqmupuJ92L8=",
            "dtype": "f8"
           },
           "z": {
            "bdata": "AAAAAAAAJMAAAAAAAAAkwAAAAAAAACRAAAAAAAAAJEAAAAAAAAAkwAAAAAAAACRAAAAAAAAAJMAAAAAAAAAkQAAAAAAAACTAAAAAAAAAJEAAAAAAAAAkwAAAAAAAACRAAAAAAAAAJMAAAAAAAAAkQAAAAAAAACTAAAAAAAAAJEAAAAAAAAAkwAAAAAAAACRAAAAAAAAAJMAAAAAAAAAkQAAAAAAAACTAAAAAAAAAJEAAAAAAAAAkwAAAAAAAACRAAAAAAAAAJMAAAAAAAAAkQAAAAAAAACTAAAAAAAAAJEAAAAAAAAAkwAAAAAAAACRAAAAAAAAAJMAAAAAAAAAkQAAAAAAAACTAAAAAAAAAJEA=",
            "dtype": "f8"
           }
          }
         ],
         "name": "31"
        },
        {
         "data": [
          {
           "color": "lightblue",
           "i": {
            "bdata": "AQECAgQEBQUGBgcHCAgJCQoKCwsMDA0NDg4PDxAQERESEhMTFBQVFRYWFxcYGBkZGhobGxwcHR0eHh8fICAhIQ==",
            "dtype": "i1"
           },
           "j": {
            "bdata": "AAQEBQAGBgcACAgJAAoKCwAMDA0ADg4PABAQEQASEhMAFBQVABYWFwAYGBkAGhobABwcHQAeHh8AICAhAAEBAg==",
            "dtype": "i1"
           },
           "k": {
            "bdata": "BAIFAwYFBwMIBwkDCgkLAwwLDQMODQ8DEA8RAxIREwMUExUDFhUXAxgXGQMaGRsDHBsdAx4dHwMgHyEDASECAw==",
            "dtype": "i1"
           },
           "name": "Mesh",
           "opacity": 0.3,
           "type": "mesh3d",
           "x": {
            "bdata": "AAAAAAAAAAAAAAAAAADwPwAAAAAAAPA/AAAAAAAAAABGjTLPa5DtP0aNMs9rkO0/zTt/Zp6g5j/NO39mnqDmP2Sprqbifdg/ZKmupuJ92D8HXBQzJqaRPAdcFDMmppE8YqmupuJ92L9iqa6m4n3Yv8w7f2aeoOa/zDt/Zp6g5r9GjTLPa5Dtv0aNMs9rkO2/AAAAAAAA8L8AAAAAAADwv0eNMs9rkO2/R40yz2uQ7b/OO39mnqDmv847f2aeoOa/bamupuJ92L9tqa6m4n3YvwqKnkw5eaq8CoqeTDl5qrxnqa6m4n3YP2eprqbifdg/yzt/Zp6g5j/LO39mnqDmP0SNMs9rkO0/RI0yz2uQ7T8=",
            "dtype": "f8"
           },
           "y": {
            "bdata": "AAAAAAAAAAAAAAAAAAAAAAAAAAAAAAAAAAAAAAAAAABjqa6m4n3YP2Oprqbifdg/zTt/Zp6g5j/NO39mnqDmP0aNMs9rkO0/Ro0yz2uQ7T8AAAAAAADwPwAAAAAAAPA/Ro0yz2uQ7T9GjTLPa5DtP807f2aeoOY/zTt/Zp6g5j9lqa6m4n3YP2Wprqbifdg/B1wUMyamoTwHXBQzJqahPGGprqbifdi/YamupuJ92L/MO39mnqDmv8w7f2aeoOa/RI0yz2uQ7b9EjTLPa5DtvwAAAAAAAPC/AAAAAAAA8L9FjTLPa5Dtv0WNMs9rkO2/zjt/Zp6g5r/OO39mnqDmv26prqbifdi/bqmupuJ92L8=",
            "dtype": "f8"
           },
           "z": {
            "bdata": "AAAAAAAAJMAAAAAAAAAkwAAAAAAAACRAAAAAAAAAJEAAAAAAAAAkwAAAAAAAACRAAAAAAAAAJMAAAAAAAAAkQAAAAAAAACTAAAAAAAAAJEAAAAAAAAAkwAAAAAAAACRAAAAAAAAAJMAAAAAAAAAkQAAAAAAAACTAAAAAAAAAJEAAAAAAAAAkwAAAAAAAACRAAAAAAAAAJMAAAAAAAAAkQAAAAAAAACTAAAAAAAAAJEAAAAAAAAAkwAAAAAAAACRAAAAAAAAAJMAAAAAAAAAkQAAAAAAAACTAAAAAAAAAJEAAAAAAAAAkwAAAAAAAACRAAAAAAAAAJMAAAAAAAAAkQAAAAAAAACTAAAAAAAAAJEA=",
            "dtype": "f8"
           }
          }
         ],
         "name": "32"
        },
        {
         "data": [
          {
           "color": "lightblue",
           "i": {
            "bdata": "AQECAgQEBQUGBgcHCAgJCQoKCwsMDA0NDg4PDxAQERESEhMTFBQVFRYWFxcYGBkZGhobGxwcHR0eHh8fICAhIQ==",
            "dtype": "i1"
           },
           "j": {
            "bdata": "AAQEBQAGBgcACAgJAAoKCwAMDA0ADg4PABAQEQASEhMAFBQVABYWFwAYGBkAGhobABwcHQAeHh8AICAhAAEBAg==",
            "dtype": "i1"
           },
           "k": {
            "bdata": "BAIFAwYFBwMIBwkDCgkLAwwLDQMODQ8DEA8RAxIREwMUExUDFhUXAxgXGQMaGRsDHBsdAx4dHwMgHyEDASECAw==",
            "dtype": "i1"
           },
           "name": "Mesh",
           "opacity": 0.3,
           "type": "mesh3d",
           "x": {
            "bdata": "AAAAAAAAAAAAAAAAAADwPwAAAAAAAPA/AAAAAAAAAABGjTLPa5DtP0aNMs9rkO0/zTt/Zp6g5j/NO39mnqDmP2Sprqbifdg/ZKmupuJ92D8HXBQzJqaRPAdcFDMmppE8YqmupuJ92L9iqa6m4n3Yv8w7f2aeoOa/zDt/Zp6g5r9GjTLPa5Dtv0aNMs9rkO2/AAAAAAAA8L8AAAAAAADwv0eNMs9rkO2/R40yz2uQ7b/OO39mnqDmv847f2aeoOa/bamupuJ92L9tqa6m4n3YvwqKnkw5eaq8CoqeTDl5qrxnqa6m4n3YP2eprqbifdg/yzt/Zp6g5j/LO39mnqDmP0SNMs9rkO0/RI0yz2uQ7T8=",
            "dtype": "f8"
           },
           "y": {
            "bdata": "AAAAAAAAAAAAAAAAAAAAAAAAAAAAAAAAAAAAAAAAAABjqa6m4n3YP2Oprqbifdg/zTt/Zp6g5j/NO39mnqDmP0aNMs9rkO0/Ro0yz2uQ7T8AAAAAAADwPwAAAAAAAPA/Ro0yz2uQ7T9GjTLPa5DtP807f2aeoOY/zTt/Zp6g5j9lqa6m4n3YP2Wprqbifdg/B1wUMyamoTwHXBQzJqahPGGprqbifdi/YamupuJ92L/MO39mnqDmv8w7f2aeoOa/RI0yz2uQ7b9EjTLPa5DtvwAAAAAAAPC/AAAAAAAA8L9FjTLPa5Dtv0WNMs9rkO2/zjt/Zp6g5r/OO39mnqDmv26prqbifdi/bqmupuJ92L8=",
            "dtype": "f8"
           },
           "z": {
            "bdata": "AAAAAAAAJMAAAAAAAAAkwAAAAAAAACRAAAAAAAAAJEAAAAAAAAAkwAAAAAAAACRAAAAAAAAAJMAAAAAAAAAkQAAAAAAAACTAAAAAAAAAJEAAAAAAAAAkwAAAAAAAACRAAAAAAAAAJMAAAAAAAAAkQAAAAAAAACTAAAAAAAAAJEAAAAAAAAAkwAAAAAAAACRAAAAAAAAAJMAAAAAAAAAkQAAAAAAAACTAAAAAAAAAJEAAAAAAAAAkwAAAAAAAACRAAAAAAAAAJMAAAAAAAAAkQAAAAAAAACTAAAAAAAAAJEAAAAAAAAAkwAAAAAAAACRAAAAAAAAAJMAAAAAAAAAkQAAAAAAAACTAAAAAAAAAJEA=",
            "dtype": "f8"
           }
          }
         ],
         "name": "33"
        },
        {
         "data": [
          {
           "color": "lightblue",
           "i": {
            "bdata": "AQECAgQEBQUGBgcHCAgJCQoKCwsMDA0NDg4PDxAQERESEhMTFBQVFRYWFxcYGBkZGhobGxwcHR0eHh8fICAhIQ==",
            "dtype": "i1"
           },
           "j": {
            "bdata": "AAQEBQAGBgcACAgJAAoKCwAMDA0ADg4PABAQEQASEhMAFBQVABYWFwAYGBkAGhobABwcHQAeHh8AICAhAAEBAg==",
            "dtype": "i1"
           },
           "k": {
            "bdata": "BAIFAwYFBwMIBwkDCgkLAwwLDQMODQ8DEA8RAxIREwMUExUDFhUXAxgXGQMaGRsDHBsdAx4dHwMgHyEDASECAw==",
            "dtype": "i1"
           },
           "name": "Mesh",
           "opacity": 0.3,
           "type": "mesh3d",
           "x": {
            "bdata": "AAAAAAAAAAAAAAAAAADwPwAAAAAAAPA/AAAAAAAAAABGjTLPa5DtP0aNMs9rkO0/zTt/Zp6g5j/NO39mnqDmP2Sprqbifdg/ZKmupuJ92D8HXBQzJqaRPAdcFDMmppE8YqmupuJ92L9iqa6m4n3Yv8w7f2aeoOa/zDt/Zp6g5r9GjTLPa5Dtv0aNMs9rkO2/AAAAAAAA8L8AAAAAAADwv0eNMs9rkO2/R40yz2uQ7b/OO39mnqDmv847f2aeoOa/bamupuJ92L9tqa6m4n3YvwqKnkw5eaq8CoqeTDl5qrxnqa6m4n3YP2eprqbifdg/yzt/Zp6g5j/LO39mnqDmP0SNMs9rkO0/RI0yz2uQ7T8=",
            "dtype": "f8"
           },
           "y": {
            "bdata": "AAAAAAAAAAAAAAAAAAAAAAAAAAAAAAAAAAAAAAAAAABjqa6m4n3YP2Oprqbifdg/zTt/Zp6g5j/NO39mnqDmP0aNMs9rkO0/Ro0yz2uQ7T8AAAAAAADwPwAAAAAAAPA/Ro0yz2uQ7T9GjTLPa5DtP807f2aeoOY/zTt/Zp6g5j9lqa6m4n3YP2Wprqbifdg/B1wUMyamoTwHXBQzJqahPGGprqbifdi/YamupuJ92L/MO39mnqDmv8w7f2aeoOa/RI0yz2uQ7b9EjTLPa5DtvwAAAAAAAPC/AAAAAAAA8L9FjTLPa5Dtv0WNMs9rkO2/zjt/Zp6g5r/OO39mnqDmv26prqbifdi/bqmupuJ92L8=",
            "dtype": "f8"
           },
           "z": {
            "bdata": "AAAAAAAAJMAAAAAAAAAkwAAAAAAAACRAAAAAAAAAJEAAAAAAAAAkwAAAAAAAACRAAAAAAAAAJMAAAAAAAAAkQAAAAAAAACTAAAAAAAAAJEAAAAAAAAAkwAAAAAAAACRAAAAAAAAAJMAAAAAAAAAkQAAAAAAAACTAAAAAAAAAJEAAAAAAAAAkwAAAAAAAACRAAAAAAAAAJMAAAAAAAAAkQAAAAAAAACTAAAAAAAAAJEAAAAAAAAAkwAAAAAAAACRAAAAAAAAAJMAAAAAAAAAkQAAAAAAAACTAAAAAAAAAJEAAAAAAAAAkwAAAAAAAACRAAAAAAAAAJMAAAAAAAAAkQAAAAAAAACTAAAAAAAAAJEA=",
            "dtype": "f8"
           }
          }
         ],
         "name": "34"
        },
        {
         "data": [
          {
           "color": "lightblue",
           "i": {
            "bdata": "AQECAgQEBQUGBgcHCAgJCQoKCwsMDA0NDg4PDxAQERESEhMTFBQVFRYWFxcYGBkZGhobGxwcHR0eHh8fICAhIQ==",
            "dtype": "i1"
           },
           "j": {
            "bdata": "AAQEBQAGBgcACAgJAAoKCwAMDA0ADg4PABAQEQASEhMAFBQVABYWFwAYGBkAGhobABwcHQAeHh8AICAhAAEBAg==",
            "dtype": "i1"
           },
           "k": {
            "bdata": "BAIFAwYFBwMIBwkDCgkLAwwLDQMODQ8DEA8RAxIREwMUExUDFhUXAxgXGQMaGRsDHBsdAx4dHwMgHyEDASECAw==",
            "dtype": "i1"
           },
           "name": "Mesh",
           "opacity": 0.3,
           "type": "mesh3d",
           "x": {
            "bdata": "AAAAAAAAAAAAAAAAAADwPwAAAAAAAPA/AAAAAAAAAABGjTLPa5DtP0aNMs9rkO0/zTt/Zp6g5j/NO39mnqDmP2Sprqbifdg/ZKmupuJ92D8HXBQzJqaRPAdcFDMmppE8YqmupuJ92L9iqa6m4n3Yv8w7f2aeoOa/zDt/Zp6g5r9GjTLPa5Dtv0aNMs9rkO2/AAAAAAAA8L8AAAAAAADwv0eNMs9rkO2/R40yz2uQ7b/OO39mnqDmv847f2aeoOa/bamupuJ92L9tqa6m4n3YvwqKnkw5eaq8CoqeTDl5qrxnqa6m4n3YP2eprqbifdg/yzt/Zp6g5j/LO39mnqDmP0SNMs9rkO0/RI0yz2uQ7T8=",
            "dtype": "f8"
           },
           "y": {
            "bdata": "AAAAAAAAAAAAAAAAAAAAAAAAAAAAAAAAAAAAAAAAAABjqa6m4n3YP2Oprqbifdg/zTt/Zp6g5j/NO39mnqDmP0aNMs9rkO0/Ro0yz2uQ7T8AAAAAAADwPwAAAAAAAPA/Ro0yz2uQ7T9GjTLPa5DtP807f2aeoOY/zTt/Zp6g5j9lqa6m4n3YP2Wprqbifdg/B1wUMyamoTwHXBQzJqahPGGprqbifdi/YamupuJ92L/MO39mnqDmv8w7f2aeoOa/RI0yz2uQ7b9EjTLPa5DtvwAAAAAAAPC/AAAAAAAA8L9FjTLPa5Dtv0WNMs9rkO2/zjt/Zp6g5r/OO39mnqDmv26prqbifdi/bqmupuJ92L8=",
            "dtype": "f8"
           },
           "z": {
            "bdata": "AAAAAAAAJMAAAAAAAAAkwAAAAAAAACRAAAAAAAAAJEAAAAAAAAAkwAAAAAAAACRAAAAAAAAAJMAAAAAAAAAkQAAAAAAAACTAAAAAAAAAJEAAAAAAAAAkwAAAAAAAACRAAAAAAAAAJMAAAAAAAAAkQAAAAAAAACTAAAAAAAAAJEAAAAAAAAAkwAAAAAAAACRAAAAAAAAAJMAAAAAAAAAkQAAAAAAAACTAAAAAAAAAJEAAAAAAAAAkwAAAAAAAACRAAAAAAAAAJMAAAAAAAAAkQAAAAAAAACTAAAAAAAAAJEAAAAAAAAAkwAAAAAAAACRAAAAAAAAAJMAAAAAAAAAkQAAAAAAAACTAAAAAAAAAJEA=",
            "dtype": "f8"
           }
          }
         ],
         "name": "35"
        },
        {
         "data": [
          {
           "color": "lightblue",
           "i": {
            "bdata": "AQECAgQEBQUGBgcHCAgJCQoKCwsMDA0NDg4PDxAQERESEhMTFBQVFRYWFxcYGBkZGhobGxwcHR0eHh8fICAhIQ==",
            "dtype": "i1"
           },
           "j": {
            "bdata": "AAQEBQAGBgcACAgJAAoKCwAMDA0ADg4PABAQEQASEhMAFBQVABYWFwAYGBkAGhobABwcHQAeHh8AICAhAAEBAg==",
            "dtype": "i1"
           },
           "k": {
            "bdata": "BAIFAwYFBwMIBwkDCgkLAwwLDQMODQ8DEA8RAxIREwMUExUDFhUXAxgXGQMaGRsDHBsdAx4dHwMgHyEDASECAw==",
            "dtype": "i1"
           },
           "name": "Mesh",
           "opacity": 0.3,
           "type": "mesh3d",
           "x": {
            "bdata": "AAAAAAAAAAAAAAAAAADwPwAAAAAAAPA/AAAAAAAAAABGjTLPa5DtP0aNMs9rkO0/zTt/Zp6g5j/NO39mnqDmP2Sprqbifdg/ZKmupuJ92D8HXBQzJqaRPAdcFDMmppE8YqmupuJ92L9iqa6m4n3Yv8w7f2aeoOa/zDt/Zp6g5r9GjTLPa5Dtv0aNMs9rkO2/AAAAAAAA8L8AAAAAAADwv0eNMs9rkO2/R40yz2uQ7b/OO39mnqDmv847f2aeoOa/bamupuJ92L9tqa6m4n3YvwqKnkw5eaq8CoqeTDl5qrxnqa6m4n3YP2eprqbifdg/yzt/Zp6g5j/LO39mnqDmP0SNMs9rkO0/RI0yz2uQ7T8=",
            "dtype": "f8"
           },
           "y": {
            "bdata": "AAAAAAAAAAAAAAAAAAAAAAAAAAAAAAAAAAAAAAAAAABjqa6m4n3YP2Oprqbifdg/zTt/Zp6g5j/NO39mnqDmP0aNMs9rkO0/Ro0yz2uQ7T8AAAAAAADwPwAAAAAAAPA/Ro0yz2uQ7T9GjTLPa5DtP807f2aeoOY/zTt/Zp6g5j9lqa6m4n3YP2Wprqbifdg/B1wUMyamoTwHXBQzJqahPGGprqbifdi/YamupuJ92L/MO39mnqDmv8w7f2aeoOa/RI0yz2uQ7b9EjTLPa5DtvwAAAAAAAPC/AAAAAAAA8L9FjTLPa5Dtv0WNMs9rkO2/zjt/Zp6g5r/OO39mnqDmv26prqbifdi/bqmupuJ92L8=",
            "dtype": "f8"
           },
           "z": {
            "bdata": "AAAAAAAAJMAAAAAAAAAkwAAAAAAAACRAAAAAAAAAJEAAAAAAAAAkwAAAAAAAACRAAAAAAAAAJMAAAAAAAAAkQAAAAAAAACTAAAAAAAAAJEAAAAAAAAAkwAAAAAAAACRAAAAAAAAAJMAAAAAAAAAkQAAAAAAAACTAAAAAAAAAJEAAAAAAAAAkwAAAAAAAACRAAAAAAAAAJMAAAAAAAAAkQAAAAAAAACTAAAAAAAAAJEAAAAAAAAAkwAAAAAAAACRAAAAAAAAAJMAAAAAAAAAkQAAAAAAAACTAAAAAAAAAJEAAAAAAAAAkwAAAAAAAACRAAAAAAAAAJMAAAAAAAAAkQAAAAAAAACTAAAAAAAAAJEA=",
            "dtype": "f8"
           }
          }
         ],
         "name": "36"
        },
        {
         "data": [
          {
           "color": "lightblue",
           "i": {
            "bdata": "AQECAgQEBQUGBgcHCAgJCQoKCwsMDA0NDg4PDxAQERESEhMTFBQVFRYWFxcYGBkZGhobGxwcHR0eHh8fICAhIQ==",
            "dtype": "i1"
           },
           "j": {
            "bdata": "AAQEBQAGBgcACAgJAAoKCwAMDA0ADg4PABAQEQASEhMAFBQVABYWFwAYGBkAGhobABwcHQAeHh8AICAhAAEBAg==",
            "dtype": "i1"
           },
           "k": {
            "bdata": "BAIFAwYFBwMIBwkDCgkLAwwLDQMODQ8DEA8RAxIREwMUExUDFhUXAxgXGQMaGRsDHBsdAx4dHwMgHyEDASECAw==",
            "dtype": "i1"
           },
           "name": "Mesh",
           "opacity": 0.3,
           "type": "mesh3d",
           "x": {
            "bdata": "AAAAAAAAAAAAAAAAAADwPwAAAAAAAPA/AAAAAAAAAABGjTLPa5DtP0aNMs9rkO0/zTt/Zp6g5j/NO39mnqDmP2Sprqbifdg/ZKmupuJ92D8HXBQzJqaRPAdcFDMmppE8YqmupuJ92L9iqa6m4n3Yv8w7f2aeoOa/zDt/Zp6g5r9GjTLPa5Dtv0aNMs9rkO2/AAAAAAAA8L8AAAAAAADwv0eNMs9rkO2/R40yz2uQ7b/OO39mnqDmv847f2aeoOa/bamupuJ92L9tqa6m4n3YvwqKnkw5eaq8CoqeTDl5qrxnqa6m4n3YP2eprqbifdg/yzt/Zp6g5j/LO39mnqDmP0SNMs9rkO0/RI0yz2uQ7T8=",
            "dtype": "f8"
           },
           "y": {
            "bdata": "AAAAAAAAAAAAAAAAAAAAAAAAAAAAAAAAAAAAAAAAAABjqa6m4n3YP2Oprqbifdg/zTt/Zp6g5j/NO39mnqDmP0aNMs9rkO0/Ro0yz2uQ7T8AAAAAAADwPwAAAAAAAPA/Ro0yz2uQ7T9GjTLPa5DtP807f2aeoOY/zTt/Zp6g5j9lqa6m4n3YP2Wprqbifdg/B1wUMyamoTwHXBQzJqahPGGprqbifdi/YamupuJ92L/MO39mnqDmv8w7f2aeoOa/RI0yz2uQ7b9EjTLPa5DtvwAAAAAAAPC/AAAAAAAA8L9FjTLPa5Dtv0WNMs9rkO2/zjt/Zp6g5r/OO39mnqDmv26prqbifdi/bqmupuJ92L8=",
            "dtype": "f8"
           },
           "z": {
            "bdata": "AAAAAAAAJMAAAAAAAAAkwAAAAAAAACRAAAAAAAAAJEAAAAAAAAAkwAAAAAAAACRAAAAAAAAAJMAAAAAAAAAkQAAAAAAAACTAAAAAAAAAJEAAAAAAAAAkwAAAAAAAACRAAAAAAAAAJMAAAAAAAAAkQAAAAAAAACTAAAAAAAAAJEAAAAAAAAAkwAAAAAAAACRAAAAAAAAAJMAAAAAAAAAkQAAAAAAAACTAAAAAAAAAJEAAAAAAAAAkwAAAAAAAACRAAAAAAAAAJMAAAAAAAAAkQAAAAAAAACTAAAAAAAAAJEAAAAAAAAAkwAAAAAAAACRAAAAAAAAAJMAAAAAAAAAkQAAAAAAAACTAAAAAAAAAJEA=",
            "dtype": "f8"
           }
          }
         ],
         "name": "37"
        },
        {
         "data": [
          {
           "color": "lightblue",
           "i": {
            "bdata": "AQECAgQEBQUGBgcHCAgJCQoKCwsMDA0NDg4PDxAQERESEhMTFBQVFRYWFxcYGBkZGhobGxwcHR0eHh8fICAhIQ==",
            "dtype": "i1"
           },
           "j": {
            "bdata": "AAQEBQAGBgcACAgJAAoKCwAMDA0ADg4PABAQEQASEhMAFBQVABYWFwAYGBkAGhobABwcHQAeHh8AICAhAAEBAg==",
            "dtype": "i1"
           },
           "k": {
            "bdata": "BAIFAwYFBwMIBwkDCgkLAwwLDQMODQ8DEA8RAxIREwMUExUDFhUXAxgXGQMaGRsDHBsdAx4dHwMgHyEDASECAw==",
            "dtype": "i1"
           },
           "name": "Mesh",
           "opacity": 0.3,
           "type": "mesh3d",
           "x": {
            "bdata": "AAAAAAAAAAAAAAAAAADwPwAAAAAAAPA/AAAAAAAAAABGjTLPa5DtP0aNMs9rkO0/zTt/Zp6g5j/NO39mnqDmP2Sprqbifdg/ZKmupuJ92D8HXBQzJqaRPAdcFDMmppE8YqmupuJ92L9iqa6m4n3Yv8w7f2aeoOa/zDt/Zp6g5r9GjTLPa5Dtv0aNMs9rkO2/AAAAAAAA8L8AAAAAAADwv0eNMs9rkO2/R40yz2uQ7b/OO39mnqDmv847f2aeoOa/bamupuJ92L9tqa6m4n3YvwqKnkw5eaq8CoqeTDl5qrxnqa6m4n3YP2eprqbifdg/yzt/Zp6g5j/LO39mnqDmP0SNMs9rkO0/RI0yz2uQ7T8=",
            "dtype": "f8"
           },
           "y": {
            "bdata": "AAAAAAAAAAAAAAAAAAAAAAAAAAAAAAAAAAAAAAAAAABjqa6m4n3YP2Oprqbifdg/zTt/Zp6g5j/NO39mnqDmP0aNMs9rkO0/Ro0yz2uQ7T8AAAAAAADwPwAAAAAAAPA/Ro0yz2uQ7T9GjTLPa5DtP807f2aeoOY/zTt/Zp6g5j9lqa6m4n3YP2Wprqbifdg/B1wUMyamoTwHXBQzJqahPGGprqbifdi/YamupuJ92L/MO39mnqDmv8w7f2aeoOa/RI0yz2uQ7b9EjTLPa5DtvwAAAAAAAPC/AAAAAAAA8L9FjTLPa5Dtv0WNMs9rkO2/zjt/Zp6g5r/OO39mnqDmv26prqbifdi/bqmupuJ92L8=",
            "dtype": "f8"
           },
           "z": {
            "bdata": "AAAAAAAAJMAAAAAAAAAkwAAAAAAAACRAAAAAAAAAJEAAAAAAAAAkwAAAAAAAACRAAAAAAAAAJMAAAAAAAAAkQAAAAAAAACTAAAAAAAAAJEAAAAAAAAAkwAAAAAAAACRAAAAAAAAAJMAAAAAAAAAkQAAAAAAAACTAAAAAAAAAJEAAAAAAAAAkwAAAAAAAACRAAAAAAAAAJMAAAAAAAAAkQAAAAAAAACTAAAAAAAAAJEAAAAAAAAAkwAAAAAAAACRAAAAAAAAAJMAAAAAAAAAkQAAAAAAAACTAAAAAAAAAJEAAAAAAAAAkwAAAAAAAACRAAAAAAAAAJMAAAAAAAAAkQAAAAAAAACTAAAAAAAAAJEA=",
            "dtype": "f8"
           }
          }
         ],
         "name": "38"
        },
        {
         "data": [
          {
           "color": "lightblue",
           "i": {
            "bdata": "AQECAgQEBQUGBgcHCAgJCQoKCwsMDA0NDg4PDxAQERESEhMTFBQVFRYWFxcYGBkZGhobGxwcHR0eHh8fICAhIQ==",
            "dtype": "i1"
           },
           "j": {
            "bdata": "AAQEBQAGBgcACAgJAAoKCwAMDA0ADg4PABAQEQASEhMAFBQVABYWFwAYGBkAGhobABwcHQAeHh8AICAhAAEBAg==",
            "dtype": "i1"
           },
           "k": {
            "bdata": "BAIFAwYFBwMIBwkDCgkLAwwLDQMODQ8DEA8RAxIREwMUExUDFhUXAxgXGQMaGRsDHBsdAx4dHwMgHyEDASECAw==",
            "dtype": "i1"
           },
           "name": "Mesh",
           "opacity": 0.3,
           "type": "mesh3d",
           "x": {
            "bdata": "AAAAAAAAAAAAAAAAAADwPwAAAAAAAPA/AAAAAAAAAABGjTLPa5DtP0aNMs9rkO0/zTt/Zp6g5j/NO39mnqDmP2Sprqbifdg/ZKmupuJ92D8HXBQzJqaRPAdcFDMmppE8YqmupuJ92L9iqa6m4n3Yv8w7f2aeoOa/zDt/Zp6g5r9GjTLPa5Dtv0aNMs9rkO2/AAAAAAAA8L8AAAAAAADwv0eNMs9rkO2/R40yz2uQ7b/OO39mnqDmv847f2aeoOa/bamupuJ92L9tqa6m4n3YvwqKnkw5eaq8CoqeTDl5qrxnqa6m4n3YP2eprqbifdg/yzt/Zp6g5j/LO39mnqDmP0SNMs9rkO0/RI0yz2uQ7T8=",
            "dtype": "f8"
           },
           "y": {
            "bdata": "AAAAAAAAAAAAAAAAAAAAAAAAAAAAAAAAAAAAAAAAAABjqa6m4n3YP2Oprqbifdg/zTt/Zp6g5j/NO39mnqDmP0aNMs9rkO0/Ro0yz2uQ7T8AAAAAAADwPwAAAAAAAPA/Ro0yz2uQ7T9GjTLPa5DtP807f2aeoOY/zTt/Zp6g5j9lqa6m4n3YP2Wprqbifdg/B1wUMyamoTwHXBQzJqahPGGprqbifdi/YamupuJ92L/MO39mnqDmv8w7f2aeoOa/RI0yz2uQ7b9EjTLPa5DtvwAAAAAAAPC/AAAAAAAA8L9FjTLPa5Dtv0WNMs9rkO2/zjt/Zp6g5r/OO39mnqDmv26prqbifdi/bqmupuJ92L8=",
            "dtype": "f8"
           },
           "z": {
            "bdata": "AAAAAAAAJMAAAAAAAAAkwAAAAAAAACRAAAAAAAAAJEAAAAAAAAAkwAAAAAAAACRAAAAAAAAAJMAAAAAAAAAkQAAAAAAAACTAAAAAAAAAJEAAAAAAAAAkwAAAAAAAACRAAAAAAAAAJMAAAAAAAAAkQAAAAAAAACTAAAAAAAAAJEAAAAAAAAAkwAAAAAAAACRAAAAAAAAAJMAAAAAAAAAkQAAAAAAAACTAAAAAAAAAJEAAAAAAAAAkwAAAAAAAACRAAAAAAAAAJMAAAAAAAAAkQAAAAAAAACTAAAAAAAAAJEAAAAAAAAAkwAAAAAAAACRAAAAAAAAAJMAAAAAAAAAkQAAAAAAAACTAAAAAAAAAJEA=",
            "dtype": "f8"
           }
          }
         ],
         "name": "39"
        },
        {
         "data": [
          {
           "color": "lightblue",
           "i": {
            "bdata": "AQECAgQEBQUGBgcHCAgJCQoKCwsMDA0NDg4PDxAQERESEhMTFBQVFRYWFxcYGBkZGhobGxwcHR0eHh8fICAhIQ==",
            "dtype": "i1"
           },
           "j": {
            "bdata": "AAQEBQAGBgcACAgJAAoKCwAMDA0ADg4PABAQEQASEhMAFBQVABYWFwAYGBkAGhobABwcHQAeHh8AICAhAAEBAg==",
            "dtype": "i1"
           },
           "k": {
            "bdata": "BAIFAwYFBwMIBwkDCgkLAwwLDQMODQ8DEA8RAxIREwMUExUDFhUXAxgXGQMaGRsDHBsdAx4dHwMgHyEDASECAw==",
            "dtype": "i1"
           },
           "name": "Mesh",
           "opacity": 0.3,
           "type": "mesh3d",
           "x": {
            "bdata": "AAAAAAAAAAAAAAAAAADwPwAAAAAAAPA/AAAAAAAAAABGjTLPa5DtP0aNMs9rkO0/zTt/Zp6g5j/NO39mnqDmP2Sprqbifdg/ZKmupuJ92D8HXBQzJqaRPAdcFDMmppE8YqmupuJ92L9iqa6m4n3Yv8w7f2aeoOa/zDt/Zp6g5r9GjTLPa5Dtv0aNMs9rkO2/AAAAAAAA8L8AAAAAAADwv0eNMs9rkO2/R40yz2uQ7b/OO39mnqDmv847f2aeoOa/bamupuJ92L9tqa6m4n3YvwqKnkw5eaq8CoqeTDl5qrxnqa6m4n3YP2eprqbifdg/yzt/Zp6g5j/LO39mnqDmP0SNMs9rkO0/RI0yz2uQ7T8=",
            "dtype": "f8"
           },
           "y": {
            "bdata": "AAAAAAAAAAAAAAAAAAAAAAAAAAAAAAAAAAAAAAAAAABjqa6m4n3YP2Oprqbifdg/zTt/Zp6g5j/NO39mnqDmP0aNMs9rkO0/Ro0yz2uQ7T8AAAAAAADwPwAAAAAAAPA/Ro0yz2uQ7T9GjTLPa5DtP807f2aeoOY/zTt/Zp6g5j9lqa6m4n3YP2Wprqbifdg/B1wUMyamoTwHXBQzJqahPGGprqbifdi/YamupuJ92L/MO39mnqDmv8w7f2aeoOa/RI0yz2uQ7b9EjTLPa5DtvwAAAAAAAPC/AAAAAAAA8L9FjTLPa5Dtv0WNMs9rkO2/zjt/Zp6g5r/OO39mnqDmv26prqbifdi/bqmupuJ92L8=",
            "dtype": "f8"
           },
           "z": {
            "bdata": "AAAAAAAAJMAAAAAAAAAkwAAAAAAAACRAAAAAAAAAJEAAAAAAAAAkwAAAAAAAACRAAAAAAAAAJMAAAAAAAAAkQAAAAAAAACTAAAAAAAAAJEAAAAAAAAAkwAAAAAAAACRAAAAAAAAAJMAAAAAAAAAkQAAAAAAAACTAAAAAAAAAJEAAAAAAAAAkwAAAAAAAACRAAAAAAAAAJMAAAAAAAAAkQAAAAAAAACTAAAAAAAAAJEAAAAAAAAAkwAAAAAAAACRAAAAAAAAAJMAAAAAAAAAkQAAAAAAAACTAAAAAAAAAJEAAAAAAAAAkwAAAAAAAACRAAAAAAAAAJMAAAAAAAAAkQAAAAAAAACTAAAAAAAAAJEA=",
            "dtype": "f8"
           }
          }
         ],
         "name": "40"
        },
        {
         "data": [
          {
           "color": "lightblue",
           "i": {
            "bdata": "AQECAgQEBQUGBgcHCAgJCQoKCwsMDA0NDg4PDxAQERESEhMTFBQVFRYWFxcYGBkZGhobGxwcHR0eHh8fICAhIQ==",
            "dtype": "i1"
           },
           "j": {
            "bdata": "AAQEBQAGBgcACAgJAAoKCwAMDA0ADg4PABAQEQASEhMAFBQVABYWFwAYGBkAGhobABwcHQAeHh8AICAhAAEBAg==",
            "dtype": "i1"
           },
           "k": {
            "bdata": "BAIFAwYFBwMIBwkDCgkLAwwLDQMODQ8DEA8RAxIREwMUExUDFhUXAxgXGQMaGRsDHBsdAx4dHwMgHyEDASECAw==",
            "dtype": "i1"
           },
           "name": "Mesh",
           "opacity": 0.3,
           "type": "mesh3d",
           "x": {
            "bdata": "AAAAAAAAAAAAAAAAAADwPwAAAAAAAPA/AAAAAAAAAABGjTLPa5DtP0aNMs9rkO0/zTt/Zp6g5j/NO39mnqDmP2Sprqbifdg/ZKmupuJ92D8HXBQzJqaRPAdcFDMmppE8YqmupuJ92L9iqa6m4n3Yv8w7f2aeoOa/zDt/Zp6g5r9GjTLPa5Dtv0aNMs9rkO2/AAAAAAAA8L8AAAAAAADwv0eNMs9rkO2/R40yz2uQ7b/OO39mnqDmv847f2aeoOa/bamupuJ92L9tqa6m4n3YvwqKnkw5eaq8CoqeTDl5qrxnqa6m4n3YP2eprqbifdg/yzt/Zp6g5j/LO39mnqDmP0SNMs9rkO0/RI0yz2uQ7T8=",
            "dtype": "f8"
           },
           "y": {
            "bdata": "AAAAAAAAAAAAAAAAAAAAAAAAAAAAAAAAAAAAAAAAAABjqa6m4n3YP2Oprqbifdg/zTt/Zp6g5j/NO39mnqDmP0aNMs9rkO0/Ro0yz2uQ7T8AAAAAAADwPwAAAAAAAPA/Ro0yz2uQ7T9GjTLPa5DtP807f2aeoOY/zTt/Zp6g5j9lqa6m4n3YP2Wprqbifdg/B1wUMyamoTwHXBQzJqahPGGprqbifdi/YamupuJ92L/MO39mnqDmv8w7f2aeoOa/RI0yz2uQ7b9EjTLPa5DtvwAAAAAAAPC/AAAAAAAA8L9FjTLPa5Dtv0WNMs9rkO2/zjt/Zp6g5r/OO39mnqDmv26prqbifdi/bqmupuJ92L8=",
            "dtype": "f8"
           },
           "z": {
            "bdata": "AAAAAAAAJMAAAAAAAAAkwAAAAAAAACRAAAAAAAAAJEAAAAAAAAAkwAAAAAAAACRAAAAAAAAAJMAAAAAAAAAkQAAAAAAAACTAAAAAAAAAJEAAAAAAAAAkwAAAAAAAACRAAAAAAAAAJMAAAAAAAAAkQAAAAAAAACTAAAAAAAAAJEAAAAAAAAAkwAAAAAAAACRAAAAAAAAAJMAAAAAAAAAkQAAAAAAAACTAAAAAAAAAJEAAAAAAAAAkwAAAAAAAACRAAAAAAAAAJMAAAAAAAAAkQAAAAAAAACTAAAAAAAAAJEAAAAAAAAAkwAAAAAAAACRAAAAAAAAAJMAAAAAAAAAkQAAAAAAAACTAAAAAAAAAJEA=",
            "dtype": "f8"
           }
          }
         ],
         "name": "41"
        },
        {
         "data": [
          {
           "color": "lightblue",
           "i": {
            "bdata": "AQECAgQEBQUGBgcHCAgJCQoKCwsMDA0NDg4PDxAQERESEhMTFBQVFRYWFxcYGBkZGhobGxwcHR0eHh8fICAhIQ==",
            "dtype": "i1"
           },
           "j": {
            "bdata": "AAQEBQAGBgcACAgJAAoKCwAMDA0ADg4PABAQEQASEhMAFBQVABYWFwAYGBkAGhobABwcHQAeHh8AICAhAAEBAg==",
            "dtype": "i1"
           },
           "k": {
            "bdata": "BAIFAwYFBwMIBwkDCgkLAwwLDQMODQ8DEA8RAxIREwMUExUDFhUXAxgXGQMaGRsDHBsdAx4dHwMgHyEDASECAw==",
            "dtype": "i1"
           },
           "name": "Mesh",
           "opacity": 0.3,
           "type": "mesh3d",
           "x": {
            "bdata": "AAAAAAAAAAAAAAAAAADwPwAAAAAAAPA/AAAAAAAAAABGjTLPa5DtP0aNMs9rkO0/zTt/Zp6g5j/NO39mnqDmP2Sprqbifdg/ZKmupuJ92D8HXBQzJqaRPAdcFDMmppE8YqmupuJ92L9iqa6m4n3Yv8w7f2aeoOa/zDt/Zp6g5r9GjTLPa5Dtv0aNMs9rkO2/AAAAAAAA8L8AAAAAAADwv0eNMs9rkO2/R40yz2uQ7b/OO39mnqDmv847f2aeoOa/bamupuJ92L9tqa6m4n3YvwqKnkw5eaq8CoqeTDl5qrxnqa6m4n3YP2eprqbifdg/yzt/Zp6g5j/LO39mnqDmP0SNMs9rkO0/RI0yz2uQ7T8=",
            "dtype": "f8"
           },
           "y": {
            "bdata": "AAAAAAAAAAAAAAAAAAAAAAAAAAAAAAAAAAAAAAAAAABjqa6m4n3YP2Oprqbifdg/zTt/Zp6g5j/NO39mnqDmP0aNMs9rkO0/Ro0yz2uQ7T8AAAAAAADwPwAAAAAAAPA/Ro0yz2uQ7T9GjTLPa5DtP807f2aeoOY/zTt/Zp6g5j9lqa6m4n3YP2Wprqbifdg/B1wUMyamoTwHXBQzJqahPGGprqbifdi/YamupuJ92L/MO39mnqDmv8w7f2aeoOa/RI0yz2uQ7b9EjTLPa5DtvwAAAAAAAPC/AAAAAAAA8L9FjTLPa5Dtv0WNMs9rkO2/zjt/Zp6g5r/OO39mnqDmv26prqbifdi/bqmupuJ92L8=",
            "dtype": "f8"
           },
           "z": {
            "bdata": "AAAAAAAAJMAAAAAAAAAkwAAAAAAAACRAAAAAAAAAJEAAAAAAAAAkwAAAAAAAACRAAAAAAAAAJMAAAAAAAAAkQAAAAAAAACTAAAAAAAAAJEAAAAAAAAAkwAAAAAAAACRAAAAAAAAAJMAAAAAAAAAkQAAAAAAAACTAAAAAAAAAJEAAAAAAAAAkwAAAAAAAACRAAAAAAAAAJMAAAAAAAAAkQAAAAAAAACTAAAAAAAAAJEAAAAAAAAAkwAAAAAAAACRAAAAAAAAAJMAAAAAAAAAkQAAAAAAAACTAAAAAAAAAJEAAAAAAAAAkwAAAAAAAACRAAAAAAAAAJMAAAAAAAAAkQAAAAAAAACTAAAAAAAAAJEA=",
            "dtype": "f8"
           }
          }
         ],
         "name": "42"
        },
        {
         "data": [
          {
           "color": "lightblue",
           "i": {
            "bdata": "AQECAgQEBQUGBgcHCAgJCQoKCwsMDA0NDg4PDxAQERESEhMTFBQVFRYWFxcYGBkZGhobGxwcHR0eHh8fICAhIQ==",
            "dtype": "i1"
           },
           "j": {
            "bdata": "AAQEBQAGBgcACAgJAAoKCwAMDA0ADg4PABAQEQASEhMAFBQVABYWFwAYGBkAGhobABwcHQAeHh8AICAhAAEBAg==",
            "dtype": "i1"
           },
           "k": {
            "bdata": "BAIFAwYFBwMIBwkDCgkLAwwLDQMODQ8DEA8RAxIREwMUExUDFhUXAxgXGQMaGRsDHBsdAx4dHwMgHyEDASECAw==",
            "dtype": "i1"
           },
           "name": "Mesh",
           "opacity": 0.3,
           "type": "mesh3d",
           "x": {
            "bdata": "AAAAAAAAAAAAAAAAAADwPwAAAAAAAPA/AAAAAAAAAABGjTLPa5DtP0aNMs9rkO0/zTt/Zp6g5j/NO39mnqDmP2Sprqbifdg/ZKmupuJ92D8HXBQzJqaRPAdcFDMmppE8YqmupuJ92L9iqa6m4n3Yv8w7f2aeoOa/zDt/Zp6g5r9GjTLPa5Dtv0aNMs9rkO2/AAAAAAAA8L8AAAAAAADwv0eNMs9rkO2/R40yz2uQ7b/OO39mnqDmv847f2aeoOa/bamupuJ92L9tqa6m4n3YvwqKnkw5eaq8CoqeTDl5qrxnqa6m4n3YP2eprqbifdg/yzt/Zp6g5j/LO39mnqDmP0SNMs9rkO0/RI0yz2uQ7T8=",
            "dtype": "f8"
           },
           "y": {
            "bdata": "AAAAAAAAAAAAAAAAAAAAAAAAAAAAAAAAAAAAAAAAAABjqa6m4n3YP2Oprqbifdg/zTt/Zp6g5j/NO39mnqDmP0aNMs9rkO0/Ro0yz2uQ7T8AAAAAAADwPwAAAAAAAPA/Ro0yz2uQ7T9GjTLPa5DtP807f2aeoOY/zTt/Zp6g5j9lqa6m4n3YP2Wprqbifdg/B1wUMyamoTwHXBQzJqahPGGprqbifdi/YamupuJ92L/MO39mnqDmv8w7f2aeoOa/RI0yz2uQ7b9EjTLPa5DtvwAAAAAAAPC/AAAAAAAA8L9FjTLPa5Dtv0WNMs9rkO2/zjt/Zp6g5r/OO39mnqDmv26prqbifdi/bqmupuJ92L8=",
            "dtype": "f8"
           },
           "z": {
            "bdata": "AAAAAAAAJMAAAAAAAAAkwAAAAAAAACRAAAAAAAAAJEAAAAAAAAAkwAAAAAAAACRAAAAAAAAAJMAAAAAAAAAkQAAAAAAAACTAAAAAAAAAJEAAAAAAAAAkwAAAAAAAACRAAAAAAAAAJMAAAAAAAAAkQAAAAAAAACTAAAAAAAAAJEAAAAAAAAAkwAAAAAAAACRAAAAAAAAAJMAAAAAAAAAkQAAAAAAAACTAAAAAAAAAJEAAAAAAAAAkwAAAAAAAACRAAAAAAAAAJMAAAAAAAAAkQAAAAAAAACTAAAAAAAAAJEAAAAAAAAAkwAAAAAAAACRAAAAAAAAAJMAAAAAAAAAkQAAAAAAAACTAAAAAAAAAJEA=",
            "dtype": "f8"
           }
          }
         ],
         "name": "43"
        },
        {
         "data": [
          {
           "color": "lightblue",
           "i": {
            "bdata": "AQECAgQEBQUGBgcHCAgJCQoKCwsMDA0NDg4PDxAQERESEhMTFBQVFRYWFxcYGBkZGhobGxwcHR0eHh8fICAhIQ==",
            "dtype": "i1"
           },
           "j": {
            "bdata": "AAQEBQAGBgcACAgJAAoKCwAMDA0ADg4PABAQEQASEhMAFBQVABYWFwAYGBkAGhobABwcHQAeHh8AICAhAAEBAg==",
            "dtype": "i1"
           },
           "k": {
            "bdata": "BAIFAwYFBwMIBwkDCgkLAwwLDQMODQ8DEA8RAxIREwMUExUDFhUXAxgXGQMaGRsDHBsdAx4dHwMgHyEDASECAw==",
            "dtype": "i1"
           },
           "name": "Mesh",
           "opacity": 0.3,
           "type": "mesh3d",
           "x": {
            "bdata": "AAAAAAAAAAAAAAAAAADwPwAAAAAAAPA/AAAAAAAAAABGjTLPa5DtP0aNMs9rkO0/zTt/Zp6g5j/NO39mnqDmP2Sprqbifdg/ZKmupuJ92D8HXBQzJqaRPAdcFDMmppE8YqmupuJ92L9iqa6m4n3Yv8w7f2aeoOa/zDt/Zp6g5r9GjTLPa5Dtv0aNMs9rkO2/AAAAAAAA8L8AAAAAAADwv0eNMs9rkO2/R40yz2uQ7b/OO39mnqDmv847f2aeoOa/bamupuJ92L9tqa6m4n3YvwqKnkw5eaq8CoqeTDl5qrxnqa6m4n3YP2eprqbifdg/yzt/Zp6g5j/LO39mnqDmP0SNMs9rkO0/RI0yz2uQ7T8=",
            "dtype": "f8"
           },
           "y": {
            "bdata": "AAAAAAAAAAAAAAAAAAAAAAAAAAAAAAAAAAAAAAAAAABjqa6m4n3YP2Oprqbifdg/zTt/Zp6g5j/NO39mnqDmP0aNMs9rkO0/Ro0yz2uQ7T8AAAAAAADwPwAAAAAAAPA/Ro0yz2uQ7T9GjTLPa5DtP807f2aeoOY/zTt/Zp6g5j9lqa6m4n3YP2Wprqbifdg/B1wUMyamoTwHXBQzJqahPGGprqbifdi/YamupuJ92L/MO39mnqDmv8w7f2aeoOa/RI0yz2uQ7b9EjTLPa5DtvwAAAAAAAPC/AAAAAAAA8L9FjTLPa5Dtv0WNMs9rkO2/zjt/Zp6g5r/OO39mnqDmv26prqbifdi/bqmupuJ92L8=",
            "dtype": "f8"
           },
           "z": {
            "bdata": "AAAAAAAAJMAAAAAAAAAkwAAAAAAAACRAAAAAAAAAJEAAAAAAAAAkwAAAAAAAACRAAAAAAAAAJMAAAAAAAAAkQAAAAAAAACTAAAAAAAAAJEAAAAAAAAAkwAAAAAAAACRAAAAAAAAAJMAAAAAAAAAkQAAAAAAAACTAAAAAAAAAJEAAAAAAAAAkwAAAAAAAACRAAAAAAAAAJMAAAAAAAAAkQAAAAAAAACTAAAAAAAAAJEAAAAAAAAAkwAAAAAAAACRAAAAAAAAAJMAAAAAAAAAkQAAAAAAAACTAAAAAAAAAJEAAAAAAAAAkwAAAAAAAACRAAAAAAAAAJMAAAAAAAAAkQAAAAAAAACTAAAAAAAAAJEA=",
            "dtype": "f8"
           }
          }
         ],
         "name": "44"
        },
        {
         "data": [
          {
           "color": "lightblue",
           "i": {
            "bdata": "AQECAgQEBQUGBgcHCAgJCQoKCwsMDA0NDg4PDxAQERESEhMTFBQVFRYWFxcYGBkZGhobGxwcHR0eHh8fICAhIQ==",
            "dtype": "i1"
           },
           "j": {
            "bdata": "AAQEBQAGBgcACAgJAAoKCwAMDA0ADg4PABAQEQASEhMAFBQVABYWFwAYGBkAGhobABwcHQAeHh8AICAhAAEBAg==",
            "dtype": "i1"
           },
           "k": {
            "bdata": "BAIFAwYFBwMIBwkDCgkLAwwLDQMODQ8DEA8RAxIREwMUExUDFhUXAxgXGQMaGRsDHBsdAx4dHwMgHyEDASECAw==",
            "dtype": "i1"
           },
           "name": "Mesh",
           "opacity": 0.3,
           "type": "mesh3d",
           "x": {
            "bdata": "AAAAAAAAAAAAAAAAAADwPwAAAAAAAPA/AAAAAAAAAABGjTLPa5DtP0aNMs9rkO0/zTt/Zp6g5j/NO39mnqDmP2Sprqbifdg/ZKmupuJ92D8HXBQzJqaRPAdcFDMmppE8YqmupuJ92L9iqa6m4n3Yv8w7f2aeoOa/zDt/Zp6g5r9GjTLPa5Dtv0aNMs9rkO2/AAAAAAAA8L8AAAAAAADwv0eNMs9rkO2/R40yz2uQ7b/OO39mnqDmv847f2aeoOa/bamupuJ92L9tqa6m4n3YvwqKnkw5eaq8CoqeTDl5qrxnqa6m4n3YP2eprqbifdg/yzt/Zp6g5j/LO39mnqDmP0SNMs9rkO0/RI0yz2uQ7T8=",
            "dtype": "f8"
           },
           "y": {
            "bdata": "AAAAAAAAAAAAAAAAAAAAAAAAAAAAAAAAAAAAAAAAAABjqa6m4n3YP2Oprqbifdg/zTt/Zp6g5j/NO39mnqDmP0aNMs9rkO0/Ro0yz2uQ7T8AAAAAAADwPwAAAAAAAPA/Ro0yz2uQ7T9GjTLPa5DtP807f2aeoOY/zTt/Zp6g5j9lqa6m4n3YP2Wprqbifdg/B1wUMyamoTwHXBQzJqahPGGprqbifdi/YamupuJ92L/MO39mnqDmv8w7f2aeoOa/RI0yz2uQ7b9EjTLPa5DtvwAAAAAAAPC/AAAAAAAA8L9FjTLPa5Dtv0WNMs9rkO2/zjt/Zp6g5r/OO39mnqDmv26prqbifdi/bqmupuJ92L8=",
            "dtype": "f8"
           },
           "z": {
            "bdata": "AAAAAAAAJMAAAAAAAAAkwAAAAAAAACRAAAAAAAAAJEAAAAAAAAAkwAAAAAAAACRAAAAAAAAAJMAAAAAAAAAkQAAAAAAAACTAAAAAAAAAJEAAAAAAAAAkwAAAAAAAACRAAAAAAAAAJMAAAAAAAAAkQAAAAAAAACTAAAAAAAAAJEAAAAAAAAAkwAAAAAAAACRAAAAAAAAAJMAAAAAAAAAkQAAAAAAAACTAAAAAAAAAJEAAAAAAAAAkwAAAAAAAACRAAAAAAAAAJMAAAAAAAAAkQAAAAAAAACTAAAAAAAAAJEAAAAAAAAAkwAAAAAAAACRAAAAAAAAAJMAAAAAAAAAkQAAAAAAAACTAAAAAAAAAJEA=",
            "dtype": "f8"
           }
          }
         ],
         "name": "45"
        },
        {
         "data": [
          {
           "color": "lightblue",
           "i": {
            "bdata": "AQECAgQEBQUGBgcHCAgJCQoKCwsMDA0NDg4PDxAQERESEhMTFBQVFRYWFxcYGBkZGhobGxwcHR0eHh8fICAhIQ==",
            "dtype": "i1"
           },
           "j": {
            "bdata": "AAQEBQAGBgcACAgJAAoKCwAMDA0ADg4PABAQEQASEhMAFBQVABYWFwAYGBkAGhobABwcHQAeHh8AICAhAAEBAg==",
            "dtype": "i1"
           },
           "k": {
            "bdata": "BAIFAwYFBwMIBwkDCgkLAwwLDQMODQ8DEA8RAxIREwMUExUDFhUXAxgXGQMaGRsDHBsdAx4dHwMgHyEDASECAw==",
            "dtype": "i1"
           },
           "name": "Mesh",
           "opacity": 0.3,
           "type": "mesh3d",
           "x": {
            "bdata": "AAAAAAAAAAAAAAAAAADwPwAAAAAAAPA/AAAAAAAAAABGjTLPa5DtP0aNMs9rkO0/zTt/Zp6g5j/NO39mnqDmP2Sprqbifdg/ZKmupuJ92D8HXBQzJqaRPAdcFDMmppE8YqmupuJ92L9iqa6m4n3Yv8w7f2aeoOa/zDt/Zp6g5r9GjTLPa5Dtv0aNMs9rkO2/AAAAAAAA8L8AAAAAAADwv0eNMs9rkO2/R40yz2uQ7b/OO39mnqDmv847f2aeoOa/bamupuJ92L9tqa6m4n3YvwqKnkw5eaq8CoqeTDl5qrxnqa6m4n3YP2eprqbifdg/yzt/Zp6g5j/LO39mnqDmP0SNMs9rkO0/RI0yz2uQ7T8=",
            "dtype": "f8"
           },
           "y": {
            "bdata": "AAAAAAAAAAAAAAAAAAAAAAAAAAAAAAAAAAAAAAAAAABjqa6m4n3YP2Oprqbifdg/zTt/Zp6g5j/NO39mnqDmP0aNMs9rkO0/Ro0yz2uQ7T8AAAAAAADwPwAAAAAAAPA/Ro0yz2uQ7T9GjTLPa5DtP807f2aeoOY/zTt/Zp6g5j9lqa6m4n3YP2Wprqbifdg/B1wUMyamoTwHXBQzJqahPGGprqbifdi/YamupuJ92L/MO39mnqDmv8w7f2aeoOa/RI0yz2uQ7b9EjTLPa5DtvwAAAAAAAPC/AAAAAAAA8L9FjTLPa5Dtv0WNMs9rkO2/zjt/Zp6g5r/OO39mnqDmv26prqbifdi/bqmupuJ92L8=",
            "dtype": "f8"
           },
           "z": {
            "bdata": "AAAAAAAAJMAAAAAAAAAkwAAAAAAAACRAAAAAAAAAJEAAAAAAAAAkwAAAAAAAACRAAAAAAAAAJMAAAAAAAAAkQAAAAAAAACTAAAAAAAAAJEAAAAAAAAAkwAAAAAAAACRAAAAAAAAAJMAAAAAAAAAkQAAAAAAAACTAAAAAAAAAJEAAAAAAAAAkwAAAAAAAACRAAAAAAAAAJMAAAAAAAAAkQAAAAAAAACTAAAAAAAAAJEAAAAAAAAAkwAAAAAAAACRAAAAAAAAAJMAAAAAAAAAkQAAAAAAAACTAAAAAAAAAJEAAAAAAAAAkwAAAAAAAACRAAAAAAAAAJMAAAAAAAAAkQAAAAAAAACTAAAAAAAAAJEA=",
            "dtype": "f8"
           }
          }
         ],
         "name": "46"
        },
        {
         "data": [
          {
           "color": "lightblue",
           "i": {
            "bdata": "AQECAgQEBQUGBgcHCAgJCQoKCwsMDA0NDg4PDxAQERESEhMTFBQVFRYWFxcYGBkZGhobGxwcHR0eHh8fICAhIQ==",
            "dtype": "i1"
           },
           "j": {
            "bdata": "AAQEBQAGBgcACAgJAAoKCwAMDA0ADg4PABAQEQASEhMAFBQVABYWFwAYGBkAGhobABwcHQAeHh8AICAhAAEBAg==",
            "dtype": "i1"
           },
           "k": {
            "bdata": "BAIFAwYFBwMIBwkDCgkLAwwLDQMODQ8DEA8RAxIREwMUExUDFhUXAxgXGQMaGRsDHBsdAx4dHwMgHyEDASECAw==",
            "dtype": "i1"
           },
           "name": "Mesh",
           "opacity": 0.3,
           "type": "mesh3d",
           "x": {
            "bdata": "AAAAAAAAAAAAAAAAAADwPwAAAAAAAPA/AAAAAAAAAABGjTLPa5DtP0aNMs9rkO0/zTt/Zp6g5j/NO39mnqDmP2Sprqbifdg/ZKmupuJ92D8HXBQzJqaRPAdcFDMmppE8YqmupuJ92L9iqa6m4n3Yv8w7f2aeoOa/zDt/Zp6g5r9GjTLPa5Dtv0aNMs9rkO2/AAAAAAAA8L8AAAAAAADwv0eNMs9rkO2/R40yz2uQ7b/OO39mnqDmv847f2aeoOa/bamupuJ92L9tqa6m4n3YvwqKnkw5eaq8CoqeTDl5qrxnqa6m4n3YP2eprqbifdg/yzt/Zp6g5j/LO39mnqDmP0SNMs9rkO0/RI0yz2uQ7T8=",
            "dtype": "f8"
           },
           "y": {
            "bdata": "AAAAAAAAAAAAAAAAAAAAAAAAAAAAAAAAAAAAAAAAAABjqa6m4n3YP2Oprqbifdg/zTt/Zp6g5j/NO39mnqDmP0aNMs9rkO0/Ro0yz2uQ7T8AAAAAAADwPwAAAAAAAPA/Ro0yz2uQ7T9GjTLPa5DtP807f2aeoOY/zTt/Zp6g5j9lqa6m4n3YP2Wprqbifdg/B1wUMyamoTwHXBQzJqahPGGprqbifdi/YamupuJ92L/MO39mnqDmv8w7f2aeoOa/RI0yz2uQ7b9EjTLPa5DtvwAAAAAAAPC/AAAAAAAA8L9FjTLPa5Dtv0WNMs9rkO2/zjt/Zp6g5r/OO39mnqDmv26prqbifdi/bqmupuJ92L8=",
            "dtype": "f8"
           },
           "z": {
            "bdata": "AAAAAAAAJMAAAAAAAAAkwAAAAAAAACRAAAAAAAAAJEAAAAAAAAAkwAAAAAAAACRAAAAAAAAAJMAAAAAAAAAkQAAAAAAAACTAAAAAAAAAJEAAAAAAAAAkwAAAAAAAACRAAAAAAAAAJMAAAAAAAAAkQAAAAAAAACTAAAAAAAAAJEAAAAAAAAAkwAAAAAAAACRAAAAAAAAAJMAAAAAAAAAkQAAAAAAAACTAAAAAAAAAJEAAAAAAAAAkwAAAAAAAACRAAAAAAAAAJMAAAAAAAAAkQAAAAAAAACTAAAAAAAAAJEAAAAAAAAAkwAAAAAAAACRAAAAAAAAAJMAAAAAAAAAkQAAAAAAAACTAAAAAAAAAJEA=",
            "dtype": "f8"
           }
          }
         ],
         "name": "47"
        },
        {
         "data": [
          {
           "color": "lightblue",
           "i": {
            "bdata": "AQECAgQEBQUGBgcHCAgJCQoKCwsMDA0NDg4PDxAQERESEhMTFBQVFRYWFxcYGBkZGhobGxwcHR0eHh8fICAhIQ==",
            "dtype": "i1"
           },
           "j": {
            "bdata": "AAQEBQAGBgcACAgJAAoKCwAMDA0ADg4PABAQEQASEhMAFBQVABYWFwAYGBkAGhobABwcHQAeHh8AICAhAAEBAg==",
            "dtype": "i1"
           },
           "k": {
            "bdata": "BAIFAwYFBwMIBwkDCgkLAwwLDQMODQ8DEA8RAxIREwMUExUDFhUXAxgXGQMaGRsDHBsdAx4dHwMgHyEDASECAw==",
            "dtype": "i1"
           },
           "name": "Mesh",
           "opacity": 0.3,
           "type": "mesh3d",
           "x": {
            "bdata": "AAAAAAAAAAAAAAAAAADwPwAAAAAAAPA/AAAAAAAAAABGjTLPa5DtP0aNMs9rkO0/zTt/Zp6g5j/NO39mnqDmP2Sprqbifdg/ZKmupuJ92D8HXBQzJqaRPAdcFDMmppE8YqmupuJ92L9iqa6m4n3Yv8w7f2aeoOa/zDt/Zp6g5r9GjTLPa5Dtv0aNMs9rkO2/AAAAAAAA8L8AAAAAAADwv0eNMs9rkO2/R40yz2uQ7b/OO39mnqDmv847f2aeoOa/bamupuJ92L9tqa6m4n3YvwqKnkw5eaq8CoqeTDl5qrxnqa6m4n3YP2eprqbifdg/yzt/Zp6g5j/LO39mnqDmP0SNMs9rkO0/RI0yz2uQ7T8=",
            "dtype": "f8"
           },
           "y": {
            "bdata": "AAAAAAAAAAAAAAAAAAAAAAAAAAAAAAAAAAAAAAAAAABjqa6m4n3YP2Oprqbifdg/zTt/Zp6g5j/NO39mnqDmP0aNMs9rkO0/Ro0yz2uQ7T8AAAAAAADwPwAAAAAAAPA/Ro0yz2uQ7T9GjTLPa5DtP807f2aeoOY/zTt/Zp6g5j9lqa6m4n3YP2Wprqbifdg/B1wUMyamoTwHXBQzJqahPGGprqbifdi/YamupuJ92L/MO39mnqDmv8w7f2aeoOa/RI0yz2uQ7b9EjTLPa5DtvwAAAAAAAPC/AAAAAAAA8L9FjTLPa5Dtv0WNMs9rkO2/zjt/Zp6g5r/OO39mnqDmv26prqbifdi/bqmupuJ92L8=",
            "dtype": "f8"
           },
           "z": {
            "bdata": "AAAAAAAAJMAAAAAAAAAkwAAAAAAAACRAAAAAAAAAJEAAAAAAAAAkwAAAAAAAACRAAAAAAAAAJMAAAAAAAAAkQAAAAAAAACTAAAAAAAAAJEAAAAAAAAAkwAAAAAAAACRAAAAAAAAAJMAAAAAAAAAkQAAAAAAAACTAAAAAAAAAJEAAAAAAAAAkwAAAAAAAACRAAAAAAAAAJMAAAAAAAAAkQAAAAAAAACTAAAAAAAAAJEAAAAAAAAAkwAAAAAAAACRAAAAAAAAAJMAAAAAAAAAkQAAAAAAAACTAAAAAAAAAJEAAAAAAAAAkwAAAAAAAACRAAAAAAAAAJMAAAAAAAAAkQAAAAAAAACTAAAAAAAAAJEA=",
            "dtype": "f8"
           }
          }
         ],
         "name": "48"
        },
        {
         "data": [
          {
           "color": "lightblue",
           "i": {
            "bdata": "AQECAgQEBQUGBgcHCAgJCQoKCwsMDA0NDg4PDxAQERESEhMTFBQVFRYWFxcYGBkZGhobGxwcHR0eHh8fICAhIQ==",
            "dtype": "i1"
           },
           "j": {
            "bdata": "AAQEBQAGBgcACAgJAAoKCwAMDA0ADg4PABAQEQASEhMAFBQVABYWFwAYGBkAGhobABwcHQAeHh8AICAhAAEBAg==",
            "dtype": "i1"
           },
           "k": {
            "bdata": "BAIFAwYFBwMIBwkDCgkLAwwLDQMODQ8DEA8RAxIREwMUExUDFhUXAxgXGQMaGRsDHBsdAx4dHwMgHyEDASECAw==",
            "dtype": "i1"
           },
           "name": "Mesh",
           "opacity": 0.3,
           "type": "mesh3d",
           "x": {
            "bdata": "AAAAAAAAAAAAAAAAAADwPwAAAAAAAPA/AAAAAAAAAABGjTLPa5DtP0aNMs9rkO0/zTt/Zp6g5j/NO39mnqDmP2Sprqbifdg/ZKmupuJ92D8HXBQzJqaRPAdcFDMmppE8YqmupuJ92L9iqa6m4n3Yv8w7f2aeoOa/zDt/Zp6g5r9GjTLPa5Dtv0aNMs9rkO2/AAAAAAAA8L8AAAAAAADwv0eNMs9rkO2/R40yz2uQ7b/OO39mnqDmv847f2aeoOa/bamupuJ92L9tqa6m4n3YvwqKnkw5eaq8CoqeTDl5qrxnqa6m4n3YP2eprqbifdg/yzt/Zp6g5j/LO39mnqDmP0SNMs9rkO0/RI0yz2uQ7T8=",
            "dtype": "f8"
           },
           "y": {
            "bdata": "AAAAAAAAAAAAAAAAAAAAAAAAAAAAAAAAAAAAAAAAAABjqa6m4n3YP2Oprqbifdg/zTt/Zp6g5j/NO39mnqDmP0aNMs9rkO0/Ro0yz2uQ7T8AAAAAAADwPwAAAAAAAPA/Ro0yz2uQ7T9GjTLPa5DtP807f2aeoOY/zTt/Zp6g5j9lqa6m4n3YP2Wprqbifdg/B1wUMyamoTwHXBQzJqahPGGprqbifdi/YamupuJ92L/MO39mnqDmv8w7f2aeoOa/RI0yz2uQ7b9EjTLPa5DtvwAAAAAAAPC/AAAAAAAA8L9FjTLPa5Dtv0WNMs9rkO2/zjt/Zp6g5r/OO39mnqDmv26prqbifdi/bqmupuJ92L8=",
            "dtype": "f8"
           },
           "z": {
            "bdata": "AAAAAAAAJMAAAAAAAAAkwAAAAAAAACRAAAAAAAAAJEAAAAAAAAAkwAAAAAAAACRAAAAAAAAAJMAAAAAAAAAkQAAAAAAAACTAAAAAAAAAJEAAAAAAAAAkwAAAAAAAACRAAAAAAAAAJMAAAAAAAAAkQAAAAAAAACTAAAAAAAAAJEAAAAAAAAAkwAAAAAAAACRAAAAAAAAAJMAAAAAAAAAkQAAAAAAAACTAAAAAAAAAJEAAAAAAAAAkwAAAAAAAACRAAAAAAAAAJMAAAAAAAAAkQAAAAAAAACTAAAAAAAAAJEAAAAAAAAAkwAAAAAAAACRAAAAAAAAAJMAAAAAAAAAkQAAAAAAAACTAAAAAAAAAJEA=",
            "dtype": "f8"
           }
          }
         ],
         "name": "49"
        }
       ],
       "layout": {
        "scene": {
         "aspectmode": "data",
         "camera": {
          "eye": {
           "x": 1.5,
           "y": 1.5,
           "z": 1.5
          }
         }
        },
        "sliders": [
         {
          "active": 0,
          "currentvalue": {
           "prefix": "Z-level: "
          },
          "pad": {
           "t": 50
          },
          "steps": [
           {
            "args": [
             [
              "0"
             ],
             {
              "frame": {
               "duration": 100,
               "redraw": true
              },
              "mode": "immediate"
             }
            ],
            "label": "-11.0",
            "method": "animate"
           },
           {
            "args": [
             [
              "1"
             ],
             {
              "frame": {
               "duration": 100,
               "redraw": true
              },
              "mode": "immediate"
             }
            ],
            "label": "-10.6",
            "method": "animate"
           },
           {
            "args": [
             [
              "2"
             ],
             {
              "frame": {
               "duration": 100,
               "redraw": true
              },
              "mode": "immediate"
             }
            ],
            "label": "-10.1",
            "method": "animate"
           },
           {
            "args": [
             [
              "3"
             ],
             {
              "frame": {
               "duration": 100,
               "redraw": true
              },
              "mode": "immediate"
             }
            ],
            "label": "-9.7",
            "method": "animate"
           },
           {
            "args": [
             [
              "4"
             ],
             {
              "frame": {
               "duration": 100,
               "redraw": true
              },
              "mode": "immediate"
             }
            ],
            "label": "-9.2",
            "method": "animate"
           },
           {
            "args": [
             [
              "5"
             ],
             {
              "frame": {
               "duration": 100,
               "redraw": true
              },
              "mode": "immediate"
             }
            ],
            "label": "-8.8",
            "method": "animate"
           },
           {
            "args": [
             [
              "6"
             ],
             {
              "frame": {
               "duration": 100,
               "redraw": true
              },
              "mode": "immediate"
             }
            ],
            "label": "-8.3",
            "method": "animate"
           },
           {
            "args": [
             [
              "7"
             ],
             {
              "frame": {
               "duration": 100,
               "redraw": true
              },
              "mode": "immediate"
             }
            ],
            "label": "-7.9",
            "method": "animate"
           },
           {
            "args": [
             [
              "8"
             ],
             {
              "frame": {
               "duration": 100,
               "redraw": true
              },
              "mode": "immediate"
             }
            ],
            "label": "-7.4",
            "method": "animate"
           },
           {
            "args": [
             [
              "9"
             ],
             {
              "frame": {
               "duration": 100,
               "redraw": true
              },
              "mode": "immediate"
             }
            ],
            "label": "-7.0",
            "method": "animate"
           },
           {
            "args": [
             [
              "10"
             ],
             {
              "frame": {
               "duration": 100,
               "redraw": true
              },
              "mode": "immediate"
             }
            ],
            "label": "-6.5",
            "method": "animate"
           },
           {
            "args": [
             [
              "11"
             ],
             {
              "frame": {
               "duration": 100,
               "redraw": true
              },
              "mode": "immediate"
             }
            ],
            "label": "-6.1",
            "method": "animate"
           },
           {
            "args": [
             [
              "12"
             ],
             {
              "frame": {
               "duration": 100,
               "redraw": true
              },
              "mode": "immediate"
             }
            ],
            "label": "-5.6",
            "method": "animate"
           },
           {
            "args": [
             [
              "13"
             ],
             {
              "frame": {
               "duration": 100,
               "redraw": true
              },
              "mode": "immediate"
             }
            ],
            "label": "-5.2",
            "method": "animate"
           },
           {
            "args": [
             [
              "14"
             ],
             {
              "frame": {
               "duration": 100,
               "redraw": true
              },
              "mode": "immediate"
             }
            ],
            "label": "-4.7",
            "method": "animate"
           },
           {
            "args": [
             [
              "15"
             ],
             {
              "frame": {
               "duration": 100,
               "redraw": true
              },
              "mode": "immediate"
             }
            ],
            "label": "-4.3",
            "method": "animate"
           },
           {
            "args": [
             [
              "16"
             ],
             {
              "frame": {
               "duration": 100,
               "redraw": true
              },
              "mode": "immediate"
             }
            ],
            "label": "-3.8",
            "method": "animate"
           },
           {
            "args": [
             [
              "17"
             ],
             {
              "frame": {
               "duration": 100,
               "redraw": true
              },
              "mode": "immediate"
             }
            ],
            "label": "-3.4",
            "method": "animate"
           },
           {
            "args": [
             [
              "18"
             ],
             {
              "frame": {
               "duration": 100,
               "redraw": true
              },
              "mode": "immediate"
             }
            ],
            "label": "-2.9",
            "method": "animate"
           },
           {
            "args": [
             [
              "19"
             ],
             {
              "frame": {
               "duration": 100,
               "redraw": true
              },
              "mode": "immediate"
             }
            ],
            "label": "-2.5",
            "method": "animate"
           },
           {
            "args": [
             [
              "20"
             ],
             {
              "frame": {
               "duration": 100,
               "redraw": true
              },
              "mode": "immediate"
             }
            ],
            "label": "-2.0",
            "method": "animate"
           },
           {
            "args": [
             [
              "21"
             ],
             {
              "frame": {
               "duration": 100,
               "redraw": true
              },
              "mode": "immediate"
             }
            ],
            "label": "-1.6",
            "method": "animate"
           },
           {
            "args": [
             [
              "22"
             ],
             {
              "frame": {
               "duration": 100,
               "redraw": true
              },
              "mode": "immediate"
             }
            ],
            "label": "-1.1",
            "method": "animate"
           },
           {
            "args": [
             [
              "23"
             ],
             {
              "frame": {
               "duration": 100,
               "redraw": true
              },
              "mode": "immediate"
             }
            ],
            "label": "-0.7",
            "method": "animate"
           },
           {
            "args": [
             [
              "24"
             ],
             {
              "frame": {
               "duration": 100,
               "redraw": true
              },
              "mode": "immediate"
             }
            ],
            "label": "-0.2",
            "method": "animate"
           },
           {
            "args": [
             [
              "25"
             ],
             {
              "frame": {
               "duration": 100,
               "redraw": true
              },
              "mode": "immediate"
             }
            ],
            "label": "0.2",
            "method": "animate"
           },
           {
            "args": [
             [
              "26"
             ],
             {
              "frame": {
               "duration": 100,
               "redraw": true
              },
              "mode": "immediate"
             }
            ],
            "label": "0.7",
            "method": "animate"
           },
           {
            "args": [
             [
              "27"
             ],
             {
              "frame": {
               "duration": 100,
               "redraw": true
              },
              "mode": "immediate"
             }
            ],
            "label": "1.1",
            "method": "animate"
           },
           {
            "args": [
             [
              "28"
             ],
             {
              "frame": {
               "duration": 100,
               "redraw": true
              },
              "mode": "immediate"
             }
            ],
            "label": "1.6",
            "method": "animate"
           },
           {
            "args": [
             [
              "29"
             ],
             {
              "frame": {
               "duration": 100,
               "redraw": true
              },
              "mode": "immediate"
             }
            ],
            "label": "2.0",
            "method": "animate"
           },
           {
            "args": [
             [
              "30"
             ],
             {
              "frame": {
               "duration": 100,
               "redraw": true
              },
              "mode": "immediate"
             }
            ],
            "label": "2.5",
            "method": "animate"
           },
           {
            "args": [
             [
              "31"
             ],
             {
              "frame": {
               "duration": 100,
               "redraw": true
              },
              "mode": "immediate"
             }
            ],
            "label": "2.9",
            "method": "animate"
           },
           {
            "args": [
             [
              "32"
             ],
             {
              "frame": {
               "duration": 100,
               "redraw": true
              },
              "mode": "immediate"
             }
            ],
            "label": "3.4",
            "method": "animate"
           },
           {
            "args": [
             [
              "33"
             ],
             {
              "frame": {
               "duration": 100,
               "redraw": true
              },
              "mode": "immediate"
             }
            ],
            "label": "3.8",
            "method": "animate"
           },
           {
            "args": [
             [
              "34"
             ],
             {
              "frame": {
               "duration": 100,
               "redraw": true
              },
              "mode": "immediate"
             }
            ],
            "label": "4.3",
            "method": "animate"
           },
           {
            "args": [
             [
              "35"
             ],
             {
              "frame": {
               "duration": 100,
               "redraw": true
              },
              "mode": "immediate"
             }
            ],
            "label": "4.7",
            "method": "animate"
           },
           {
            "args": [
             [
              "36"
             ],
             {
              "frame": {
               "duration": 100,
               "redraw": true
              },
              "mode": "immediate"
             }
            ],
            "label": "5.2",
            "method": "animate"
           },
           {
            "args": [
             [
              "37"
             ],
             {
              "frame": {
               "duration": 100,
               "redraw": true
              },
              "mode": "immediate"
             }
            ],
            "label": "5.6",
            "method": "animate"
           },
           {
            "args": [
             [
              "38"
             ],
             {
              "frame": {
               "duration": 100,
               "redraw": true
              },
              "mode": "immediate"
             }
            ],
            "label": "6.1",
            "method": "animate"
           },
           {
            "args": [
             [
              "39"
             ],
             {
              "frame": {
               "duration": 100,
               "redraw": true
              },
              "mode": "immediate"
             }
            ],
            "label": "6.5",
            "method": "animate"
           },
           {
            "args": [
             [
              "40"
             ],
             {
              "frame": {
               "duration": 100,
               "redraw": true
              },
              "mode": "immediate"
             }
            ],
            "label": "7.0",
            "method": "animate"
           },
           {
            "args": [
             [
              "41"
             ],
             {
              "frame": {
               "duration": 100,
               "redraw": true
              },
              "mode": "immediate"
             }
            ],
            "label": "7.4",
            "method": "animate"
           },
           {
            "args": [
             [
              "42"
             ],
             {
              "frame": {
               "duration": 100,
               "redraw": true
              },
              "mode": "immediate"
             }
            ],
            "label": "7.9",
            "method": "animate"
           },
           {
            "args": [
             [
              "43"
             ],
             {
              "frame": {
               "duration": 100,
               "redraw": true
              },
              "mode": "immediate"
             }
            ],
            "label": "8.3",
            "method": "animate"
           },
           {
            "args": [
             [
              "44"
             ],
             {
              "frame": {
               "duration": 100,
               "redraw": true
              },
              "mode": "immediate"
             }
            ],
            "label": "8.8",
            "method": "animate"
           },
           {
            "args": [
             [
              "45"
             ],
             {
              "frame": {
               "duration": 100,
               "redraw": true
              },
              "mode": "immediate"
             }
            ],
            "label": "9.2",
            "method": "animate"
           },
           {
            "args": [
             [
              "46"
             ],
             {
              "frame": {
               "duration": 100,
               "redraw": true
              },
              "mode": "immediate"
             }
            ],
            "label": "9.7",
            "method": "animate"
           },
           {
            "args": [
             [
              "47"
             ],
             {
              "frame": {
               "duration": 100,
               "redraw": true
              },
              "mode": "immediate"
             }
            ],
            "label": "10.1",
            "method": "animate"
           },
           {
            "args": [
             [
              "48"
             ],
             {
              "frame": {
               "duration": 100,
               "redraw": true
              },
              "mode": "immediate"
             }
            ],
            "label": "10.6",
            "method": "animate"
           },
           {
            "args": [
             [
              "49"
             ],
             {
              "frame": {
               "duration": 100,
               "redraw": true
              },
              "mode": "immediate"
             }
            ],
            "label": "11.0",
            "method": "animate"
           }
          ]
         }
        ],
        "template": {
         "data": {
          "bar": [
           {
            "error_x": {
             "color": "#2a3f5f"
            },
            "error_y": {
             "color": "#2a3f5f"
            },
            "marker": {
             "line": {
              "color": "#E5ECF6",
              "width": 0.5
             },
             "pattern": {
              "fillmode": "overlay",
              "size": 10,
              "solidity": 0.2
             }
            },
            "type": "bar"
           }
          ],
          "barpolar": [
           {
            "marker": {
             "line": {
              "color": "#E5ECF6",
              "width": 0.5
             },
             "pattern": {
              "fillmode": "overlay",
              "size": 10,
              "solidity": 0.2
             }
            },
            "type": "barpolar"
           }
          ],
          "carpet": [
           {
            "aaxis": {
             "endlinecolor": "#2a3f5f",
             "gridcolor": "white",
             "linecolor": "white",
             "minorgridcolor": "white",
             "startlinecolor": "#2a3f5f"
            },
            "baxis": {
             "endlinecolor": "#2a3f5f",
             "gridcolor": "white",
             "linecolor": "white",
             "minorgridcolor": "white",
             "startlinecolor": "#2a3f5f"
            },
            "type": "carpet"
           }
          ],
          "choropleth": [
           {
            "colorbar": {
             "outlinewidth": 0,
             "ticks": ""
            },
            "type": "choropleth"
           }
          ],
          "contour": [
           {
            "colorbar": {
             "outlinewidth": 0,
             "ticks": ""
            },
            "colorscale": [
             [
              0,
              "#0d0887"
             ],
             [
              0.1111111111111111,
              "#46039f"
             ],
             [
              0.2222222222222222,
              "#7201a8"
             ],
             [
              0.3333333333333333,
              "#9c179e"
             ],
             [
              0.4444444444444444,
              "#bd3786"
             ],
             [
              0.5555555555555556,
              "#d8576b"
             ],
             [
              0.6666666666666666,
              "#ed7953"
             ],
             [
              0.7777777777777778,
              "#fb9f3a"
             ],
             [
              0.8888888888888888,
              "#fdca26"
             ],
             [
              1,
              "#f0f921"
             ]
            ],
            "type": "contour"
           }
          ],
          "contourcarpet": [
           {
            "colorbar": {
             "outlinewidth": 0,
             "ticks": ""
            },
            "type": "contourcarpet"
           }
          ],
          "heatmap": [
           {
            "colorbar": {
             "outlinewidth": 0,
             "ticks": ""
            },
            "colorscale": [
             [
              0,
              "#0d0887"
             ],
             [
              0.1111111111111111,
              "#46039f"
             ],
             [
              0.2222222222222222,
              "#7201a8"
             ],
             [
              0.3333333333333333,
              "#9c179e"
             ],
             [
              0.4444444444444444,
              "#bd3786"
             ],
             [
              0.5555555555555556,
              "#d8576b"
             ],
             [
              0.6666666666666666,
              "#ed7953"
             ],
             [
              0.7777777777777778,
              "#fb9f3a"
             ],
             [
              0.8888888888888888,
              "#fdca26"
             ],
             [
              1,
              "#f0f921"
             ]
            ],
            "type": "heatmap"
           }
          ],
          "histogram": [
           {
            "marker": {
             "pattern": {
              "fillmode": "overlay",
              "size": 10,
              "solidity": 0.2
             }
            },
            "type": "histogram"
           }
          ],
          "histogram2d": [
           {
            "colorbar": {
             "outlinewidth": 0,
             "ticks": ""
            },
            "colorscale": [
             [
              0,
              "#0d0887"
             ],
             [
              0.1111111111111111,
              "#46039f"
             ],
             [
              0.2222222222222222,
              "#7201a8"
             ],
             [
              0.3333333333333333,
              "#9c179e"
             ],
             [
              0.4444444444444444,
              "#bd3786"
             ],
             [
              0.5555555555555556,
              "#d8576b"
             ],
             [
              0.6666666666666666,
              "#ed7953"
             ],
             [
              0.7777777777777778,
              "#fb9f3a"
             ],
             [
              0.8888888888888888,
              "#fdca26"
             ],
             [
              1,
              "#f0f921"
             ]
            ],
            "type": "histogram2d"
           }
          ],
          "histogram2dcontour": [
           {
            "colorbar": {
             "outlinewidth": 0,
             "ticks": ""
            },
            "colorscale": [
             [
              0,
              "#0d0887"
             ],
             [
              0.1111111111111111,
              "#46039f"
             ],
             [
              0.2222222222222222,
              "#7201a8"
             ],
             [
              0.3333333333333333,
              "#9c179e"
             ],
             [
              0.4444444444444444,
              "#bd3786"
             ],
             [
              0.5555555555555556,
              "#d8576b"
             ],
             [
              0.6666666666666666,
              "#ed7953"
             ],
             [
              0.7777777777777778,
              "#fb9f3a"
             ],
             [
              0.8888888888888888,
              "#fdca26"
             ],
             [
              1,
              "#f0f921"
             ]
            ],
            "type": "histogram2dcontour"
           }
          ],
          "mesh3d": [
           {
            "colorbar": {
             "outlinewidth": 0,
             "ticks": ""
            },
            "type": "mesh3d"
           }
          ],
          "parcoords": [
           {
            "line": {
             "colorbar": {
              "outlinewidth": 0,
              "ticks": ""
             }
            },
            "type": "parcoords"
           }
          ],
          "pie": [
           {
            "automargin": true,
            "type": "pie"
           }
          ],
          "scatter": [
           {
            "fillpattern": {
             "fillmode": "overlay",
             "size": 10,
             "solidity": 0.2
            },
            "type": "scatter"
           }
          ],
          "scatter3d": [
           {
            "line": {
             "colorbar": {
              "outlinewidth": 0,
              "ticks": ""
             }
            },
            "marker": {
             "colorbar": {
              "outlinewidth": 0,
              "ticks": ""
             }
            },
            "type": "scatter3d"
           }
          ],
          "scattercarpet": [
           {
            "marker": {
             "colorbar": {
              "outlinewidth": 0,
              "ticks": ""
             }
            },
            "type": "scattercarpet"
           }
          ],
          "scattergeo": [
           {
            "marker": {
             "colorbar": {
              "outlinewidth": 0,
              "ticks": ""
             }
            },
            "type": "scattergeo"
           }
          ],
          "scattergl": [
           {
            "marker": {
             "colorbar": {
              "outlinewidth": 0,
              "ticks": ""
             }
            },
            "type": "scattergl"
           }
          ],
          "scattermap": [
           {
            "marker": {
             "colorbar": {
              "outlinewidth": 0,
              "ticks": ""
             }
            },
            "type": "scattermap"
           }
          ],
          "scattermapbox": [
           {
            "marker": {
             "colorbar": {
              "outlinewidth": 0,
              "ticks": ""
             }
            },
            "type": "scattermapbox"
           }
          ],
          "scatterpolar": [
           {
            "marker": {
             "colorbar": {
              "outlinewidth": 0,
              "ticks": ""
             }
            },
            "type": "scatterpolar"
           }
          ],
          "scatterpolargl": [
           {
            "marker": {
             "colorbar": {
              "outlinewidth": 0,
              "ticks": ""
             }
            },
            "type": "scatterpolargl"
           }
          ],
          "scatterternary": [
           {
            "marker": {
             "colorbar": {
              "outlinewidth": 0,
              "ticks": ""
             }
            },
            "type": "scatterternary"
           }
          ],
          "surface": [
           {
            "colorbar": {
             "outlinewidth": 0,
             "ticks": ""
            },
            "colorscale": [
             [
              0,
              "#0d0887"
             ],
             [
              0.1111111111111111,
              "#46039f"
             ],
             [
              0.2222222222222222,
              "#7201a8"
             ],
             [
              0.3333333333333333,
              "#9c179e"
             ],
             [
              0.4444444444444444,
              "#bd3786"
             ],
             [
              0.5555555555555556,
              "#d8576b"
             ],
             [
              0.6666666666666666,
              "#ed7953"
             ],
             [
              0.7777777777777778,
              "#fb9f3a"
             ],
             [
              0.8888888888888888,
              "#fdca26"
             ],
             [
              1,
              "#f0f921"
             ]
            ],
            "type": "surface"
           }
          ],
          "table": [
           {
            "cells": {
             "fill": {
              "color": "#EBF0F8"
             },
             "line": {
              "color": "white"
             }
            },
            "header": {
             "fill": {
              "color": "#C8D4E3"
             },
             "line": {
              "color": "white"
             }
            },
            "type": "table"
           }
          ]
         },
         "layout": {
          "annotationdefaults": {
           "arrowcolor": "#2a3f5f",
           "arrowhead": 0,
           "arrowwidth": 1
          },
          "autotypenumbers": "strict",
          "coloraxis": {
           "colorbar": {
            "outlinewidth": 0,
            "ticks": ""
           }
          },
          "colorscale": {
           "diverging": [
            [
             0,
             "#8e0152"
            ],
            [
             0.1,
             "#c51b7d"
            ],
            [
             0.2,
             "#de77ae"
            ],
            [
             0.3,
             "#f1b6da"
            ],
            [
             0.4,
             "#fde0ef"
            ],
            [
             0.5,
             "#f7f7f7"
            ],
            [
             0.6,
             "#e6f5d0"
            ],
            [
             0.7,
             "#b8e186"
            ],
            [
             0.8,
             "#7fbc41"
            ],
            [
             0.9,
             "#4d9221"
            ],
            [
             1,
             "#276419"
            ]
           ],
           "sequential": [
            [
             0,
             "#0d0887"
            ],
            [
             0.1111111111111111,
             "#46039f"
            ],
            [
             0.2222222222222222,
             "#7201a8"
            ],
            [
             0.3333333333333333,
             "#9c179e"
            ],
            [
             0.4444444444444444,
             "#bd3786"
            ],
            [
             0.5555555555555556,
             "#d8576b"
            ],
            [
             0.6666666666666666,
             "#ed7953"
            ],
            [
             0.7777777777777778,
             "#fb9f3a"
            ],
            [
             0.8888888888888888,
             "#fdca26"
            ],
            [
             1,
             "#f0f921"
            ]
           ],
           "sequentialminus": [
            [
             0,
             "#0d0887"
            ],
            [
             0.1111111111111111,
             "#46039f"
            ],
            [
             0.2222222222222222,
             "#7201a8"
            ],
            [
             0.3333333333333333,
             "#9c179e"
            ],
            [
             0.4444444444444444,
             "#bd3786"
            ],
            [
             0.5555555555555556,
             "#d8576b"
            ],
            [
             0.6666666666666666,
             "#ed7953"
            ],
            [
             0.7777777777777778,
             "#fb9f3a"
            ],
            [
             0.8888888888888888,
             "#fdca26"
            ],
            [
             1,
             "#f0f921"
            ]
           ]
          },
          "colorway": [
           "#636efa",
           "#EF553B",
           "#00cc96",
           "#ab63fa",
           "#FFA15A",
           "#19d3f3",
           "#FF6692",
           "#B6E880",
           "#FF97FF",
           "#FECB52"
          ],
          "font": {
           "color": "#2a3f5f"
          },
          "geo": {
           "bgcolor": "white",
           "lakecolor": "white",
           "landcolor": "#E5ECF6",
           "showlakes": true,
           "showland": true,
           "subunitcolor": "white"
          },
          "hoverlabel": {
           "align": "left"
          },
          "hovermode": "closest",
          "mapbox": {
           "style": "light"
          },
          "paper_bgcolor": "white",
          "plot_bgcolor": "#E5ECF6",
          "polar": {
           "angularaxis": {
            "gridcolor": "white",
            "linecolor": "white",
            "ticks": ""
           },
           "bgcolor": "#E5ECF6",
           "radialaxis": {
            "gridcolor": "white",
            "linecolor": "white",
            "ticks": ""
           }
          },
          "scene": {
           "xaxis": {
            "backgroundcolor": "#E5ECF6",
            "gridcolor": "white",
            "gridwidth": 2,
            "linecolor": "white",
            "showbackground": true,
            "ticks": "",
            "zerolinecolor": "white"
           },
           "yaxis": {
            "backgroundcolor": "#E5ECF6",
            "gridcolor": "white",
            "gridwidth": 2,
            "linecolor": "white",
            "showbackground": true,
            "ticks": "",
            "zerolinecolor": "white"
           },
           "zaxis": {
            "backgroundcolor": "#E5ECF6",
            "gridcolor": "white",
            "gridwidth": 2,
            "linecolor": "white",
            "showbackground": true,
            "ticks": "",
            "zerolinecolor": "white"
           }
          },
          "shapedefaults": {
           "line": {
            "color": "#2a3f5f"
           }
          },
          "ternary": {
           "aaxis": {
            "gridcolor": "white",
            "linecolor": "white",
            "ticks": ""
           },
           "baxis": {
            "gridcolor": "white",
            "linecolor": "white",
            "ticks": ""
           },
           "bgcolor": "#E5ECF6",
           "caxis": {
            "gridcolor": "white",
            "linecolor": "white",
            "ticks": ""
           }
          },
          "title": {
           "x": 0.05
          },
          "xaxis": {
           "automargin": true,
           "gridcolor": "white",
           "linecolor": "white",
           "ticks": "",
           "title": {
            "standoff": 15
           },
           "zerolinecolor": "white",
           "zerolinewidth": 2
          },
          "yaxis": {
           "automargin": true,
           "gridcolor": "white",
           "linecolor": "white",
           "ticks": "",
           "title": {
            "standoff": 15
           },
           "zerolinecolor": "white",
           "zerolinewidth": 2
          }
         }
        },
        "title": {
         "text": "Interactive Cylinder Cross-Sections"
        },
        "updatemenus": [
         {
          "buttons": [
           {
            "args": [
             null,
             {
              "frame": {
               "duration": 200
              },
              "fromcurrent": true
             }
            ],
            "label": "Play",
            "method": "animate"
           },
           {
            "args": [
             [
              null
             ],
             {
              "frame": {
               "duration": 0
              },
              "mode": "immediate"
             }
            ],
            "label": "Pause",
            "method": "animate"
           }
          ],
          "showactive": false,
          "type": "buttons"
         }
        ]
       }
      }
     },
     "metadata": {},
     "output_type": "display_data"
    }
   ],
   "source": [
    "# Interactive slice view of the cylinder\n",
    "fig_cylinder_slice = visualize_mesh_slice_interactive(\n",
    "    cylinder,\n",
    "    title=\"Interactive Cylinder Cross-Sections\",\n",
    "    slice_color=\"darkblue\",\n",
    "    mesh_color=\"lightblue\",\n",
    "    mesh_opacity=0.3\n",
    ")\n",
    "fig_cylinder_slice.show()"
   ]
  },
  {
   "cell_type": "markdown",
   "id": "91b93bf1",
   "metadata": {},
   "source": [
    "## Slice Grid View"
   ]
  },
  {
   "cell_type": "code",
   "execution_count": null,
   "id": "2a4d2532",
   "metadata": {},
   "outputs": [],
   "source": [
    "# Grid view of cylinder slices\n",
    "fig_grid = visualize_mesh_slice_grid(\n",
    "    cylinder,\n",
    "    title=\"Cylinder Cross-Section Grid\",\n",
    "    num_slices=9  # 3x3 grid\n",
    ")\n",
    "fig_grid.show()"
   ]
  },
  {
   "cell_type": "markdown",
   "id": "9c5b15da",
   "metadata": {},
   "source": [
    "## Mesh Properties"
   ]
  },
  {
   "cell_type": "code",
   "execution_count": null,
   "id": "f61d4e8e",
   "metadata": {},
   "outputs": [
    {
     "name": "stdout",
     "output_type": "stream",
     "text": [
      "=== Torus Mesh Properties ===\n",
      "Vertices: 34\n",
      "Faces: 64\n",
      "Volume: 7653.67 μm³\n",
      "Surface Area: 3274.52 μm²\n",
      "Genus (number of holes): 0\n",
      "Is watertight: True\n"
     ]
    }
   ],
   "source": [
    "# Analyze the cylinder mesh properties\n",
    "props = analyze_mesh(cylinder)\n",
    "print(\"=== Cylinder Mesh Properties ===\")\n",
    "print(f\"Vertices: {props['num_vertices']}\")\n",
    "print(f\"Faces: {props['num_faces']}\")\n",
    "print(f\"Volume: {props['volume']:.2f} μm³\" if props['volume'] else \"Volume: Not available\")\n",
    "print(f\"Surface Area: {props['surface_area']:.2f} μm²\")\n",
    "print(f\"Genus (number of holes): {props['genus']}\" if props['genus'] is not None else \"Genus: Not available\")\n",
    "print(f\"Is watertight: {props['is_watertight']}\")"
   ]
  },
  {
   "cell_type": "markdown",
   "id": "dbb4f8c7",
   "metadata": {},
   "source": [
    "## Save Mesh"
   ]
  },
  {
   "cell_type": "code",
   "execution_count": null,
   "id": "e4204e87",
   "metadata": {},
   "outputs": [
    {
     "name": "stdout",
     "output_type": "stream",
     "text": [
      "💾 Saved cylinder mesh to: data/mesh/cylinder_demo.stl\n"
     ]
    }
   ],
   "source": [
    "# Save the cylinder mesh\n",
    "import os\n",
    "\n",
    "output_dir = \"data/mesh\"\n",
    "os.makedirs(output_dir, exist_ok=True)\n",
    "\n",
    "filename = f\"{output_dir}/cylinder_demo.stl\"\n",
    "cylinder.export(filename)\n",
    "print(f\"💾 Saved cylinder mesh to: {filename}\")"
   ]
  },
  {
   "cell_type": "markdown",
   "id": "1954aed7",
   "metadata": {},
   "source": [
    "## Summary\n",
    "\n",
    "This tutorial demonstrated:\n",
    "- `create_cylinder_mesh()` - Create cylinder geometry\n",
    "- `visualize_mesh_3d()` - 3D visualization\n",
    "- `visualize_mesh_slice_interactive()` - Interactive cross-sections\n",
    "- `visualize_mesh_slice_grid()` - Grid of slices\n",
    "- `analyze_mesh()` - Mesh analysis including topological genus\n",
    "- `mesh.export()` - Save to file\n",
    "\n",
    "## Next Steps\n",
    "\n",
    "- **Torus Demo** (01b_torus_mesh.ipynb)\n",
    "- **Neuron Demo** (01c_neuron_mesh.ipynb)"
   ]
  }
 ],
 "metadata": {
  "kernelspec": {
   "display_name": ".venv",
   "language": "python",
   "name": "python3"
  },
  "language_info": {
   "codemirror_mode": {
    "name": "ipython",
    "version": 3
   },
   "file_extension": ".py",
   "mimetype": "text/x-python",
   "name": "python",
   "nbconvert_exporter": "python",
   "pygments_lexer": "ipython3",
   "version": "3.11.4"
  }
 },
 "nbformat": 4,
 "nbformat_minor": 5
}
