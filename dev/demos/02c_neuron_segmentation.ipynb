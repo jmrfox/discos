{
 "cells": [
  {
   "cell_type": "markdown",
   "id": "9928d6f9",
   "metadata": {},
   "source": [
    "# 02c - Neuron Segmentation Demo\n",
    "\n",
    "This notebook demonstrates mesh segmentation using a realistic neuron-like geometry with multiple branches.\n",
    "\n",
    "**Part of the GenCoMo Tutorial Series** - [Return to Index](01_tutorial_index.ipynb)"
   ]
  },
  {
   "cell_type": "code",
   "execution_count": 1,
   "id": "f341954c",
   "metadata": {},
   "outputs": [
    {
     "name": "stdout",
     "output_type": "stream",
     "text": [
      "Jupyter environment detected. Enabling Open3D WebVisualizer.\n",
      "[Open3D INFO] WebRTC GUI backend enabled.\n",
      "[Open3D INFO] WebRTCWindowSystem: HTTP handshake server disabled.\n"
     ]
    }
   ],
   "source": [
    "import numpy as np\n",
    "import trimesh\n",
    "from gencomo import create_demo_neuron_mesh, MeshSegmenter, visualize_mesh_3d"
   ]
  },
  {
   "cell_type": "markdown",
   "id": "a8a7912d",
   "metadata": {},
   "source": [
    "## Create and Visualize Demo Neuron"
   ]
  },
  {
   "cell_type": "code",
   "execution_count": 2,
   "id": "86d47055",
   "metadata": {},
   "outputs": [
    {
     "name": "stdout",
     "output_type": "stream",
     "text": [
      "Demo neuron properties:\n",
      "  Volume: 6817.908\n",
      "  Surface area: 4410.878\n",
      "  Z-bounds: [-100.           51.22947311]\n",
      "  Vertices: 320\n",
      "  Faces: 636\n"
     ]
    },
    {
     "data": {
      "application/vnd.plotly.v1+json": {
       "config": {
        "plotlyServerURL": "https://plot.ly"
       },
       "data": [
        {
         "color": "lightblue",
         "i": {
          "bdata": "kACQAI8AjwCPAJEAkQCQAI4AjgCOAJEAkwCTAJMAkwCUAJQAlACUAJUAlQCWAJYAlgCPAI4AjwCRAJMAjgCUAJUAjwCPAI4AjgCRAJIAkgCSAAIAAgADAAQABQAGAAYABgACAAMAAgAHAAgABAAFAAkAAgACAAMAAwADAAMABwAHAAgAAgAEAAQAAgAEAAUABQAFAAoACgAIAAgACQAJAAoACgAKAAkAmgCbAJoAnQCcAJ4AngCeAJoAmwCcAJoAnQCfAKAAoACaAJoAmgCbAJsAnACcAJwAnACdAJ0AnQCdAJ8AoACfAJ8AoQChAKEAoACgAKIAogCiADgBNwE3ATcBOAE4ATkBOQE8ATwBPAE9AT8BPQE9AT8BNwE3ATkBOgE6AT4BPgE+AT4BPwE/ATcBNwE8ATgBOQE9AToBPgE4ATkBNwE3ATsBOgE7ATsBAAABAAAAAAAAAAEAAQAAAAAAlwBHAEgASQBHAEgASQBHAEgASABJAJcAmACZAJcAmACZAJgAmQCZAOoA5wDnAOcA6ADqAOkA6ADrAOsA6QANAA4AEAAQAA8AEwAVAAsAGgAaAA8ACwAMAA0AHQARABQAEwAVABMAFAAVABYAFgAWACQAGAALABoACwAZAAwAGwAZABoAGgAdAB0AGwAbAB4AHAAgAB8AHgAiACEAIgAaAA0AJAANAA4AJQAlACQAGAAmACYAJwAnACcAtAAnAB0AEgArADAAMAAwABIAFwAXABcAFwAwADAAMAAwADAAMAAwADAAQQArACsAKwArACMAIwAjACMAQQBBAEEA+ABBAPgA+AD4AE0ADgBKAEwATQBOAEwAUABPAE8AVAAXAFQAUQBQAFAAUgBSAEsAVwBLAFcAVgBaAFgAVABZAA4AXABKAFwAJwBfAEsASwBdACcAXwBfAF8AXwBfAPEAZABkAGQAFwBVAFUAVQBVAFUAVQBVAGsAawBZAFkAawB7AGsAdQB0APgA+AD4AHEAcgB2AHQAcgByAHIAewB7AHsAewB7AHsAewB7AI0AjQCNAF4AggCDAFoAWgBbAFsAgwCDAIcAhQCEAIcAhQCFAIYAiQCIAIoAiQBvAIwAiwAYAKQAowAgACAApQCkACEAIQCmAKUApQCnAKcApwAjAKoAqwCtAKgAqQC6AK4ArQCtAK4ArgDaAKwAGACyALIAowC0ALQAuQC0ALkAuQC6ALoAugCzALkAuwC7AKsAqwCrAMIAwgDCAMIAqwCrAMIAwgDGAMQAxgDKAMcAzADNAPgA+AD4AMoAyQDPAMIAwgDPAM8A0wDTANMA5QDhAOUA5QDlAOUA5QDcAN0AsACwANoA2gDbANsA3ADeAN4A4ADjAOQAsQDfAOIA4wDkAOIA4wDkAOYA5gDmAPIA8QDxAPIAuQDyAPEA8QCCAPQA9AC5APIA8gD2AN0AJQH0APcA9wD4APgA+AD4APgA+AD/AP8AjQAdAR0BHQEVARUBFQEdAf8AEAEQARAB/wD/ABABEAEQAS4BLgEuAS4BLgEQARABEAEVARUBFQGCABYBFgGKAIoAFwEYAYsAiwAZARgBGAEaARoBjQAdARoBHQH3ABsBIQEgARwBIAEgASEBIQE1ARUB3QAlASUBJwEoASkBKAEsASoB5QAwATABKgEmASYBIgE1ATUBNgE2ASsBLAEsAS0BLQEwATQB",
          "dtype": "i2"
         },
         "j": {
          "bdata": "LAAtAC8AZgBlAGcAaAAuADEAMgAzAGkAagBsAG0AbgBCAEMAcABxAHYAcgBzAHQAdQAsAJAAkQCTAJYAQgByAHQAkACSAJIAlACSAJYAlACVAAQABgAGAAUACgAKAAgACQADAAcAPAAIAAkAvQDAAAoANAA1ADgAOgA5ADcAPgA/AEAANgA8AD0AOwC8AL0AvgC/AMEAwABEAEUARgDDAMcAxQDGAMQAngCeAJ0AnwCeAKAAnwChAJsAnACiANAA1QDYAA8BoQDJAMoAywDMAMgAzQDOAP0A/gDQANEA0gDUANUAEgHWANcA2ADZABEBFAETAQ0BDgEPAXoAeAB5AHcA+QD6APsA/AB8AIAAfwCBAAUBAwEEAQoBfgB9AAABAQECAQkBBwEGAQgBCwEMAXoAPAE9AfsAAQE/AQYBDAE5AToBOAE7AT0BPgE+AT8BRwDnAOcAAQBgAJcAKgApACgAtQBIAEkA6ABhAGMA7ABgAGEAYgBjAOcA5wDnAJgAmQDqALYAuAC3AO4A6QDoAOsA7QDrAPAA7ADvAPAA7QAUABQADwATABEADwARAA8ACwAQAAwADAAdABAAEgASABMAFQAWAE4ATABPAFMAEgAXABgApAAbABsAGQAcABwAHgAeAB8AJAAcACIAIAAfACEAIQCmAKQApgAjAKoAqgANACUAJQAOAFwAJwBcACYAJgC0ACcAKABgACoAKgApACsAKwA3ADgAOQA3ADAAMAAtACwALwAuADEAMgA6AD4APwBBAEAAMwAjADQANgA1ADsAPAA9AKsAQABCAPgAQwBEAEQARQBGAFEATQBRAE4ATABPAFAATgBUAFMAUwBVAFUAUABWAFIAVABYAFEAVgBXAFoAWABWAIcAWQCHAEoASgBLAF0AXABdAF4AgwBeAF8AYQBiAGQAYwDxAOwAXgDzAIIAZgBmAGUAZwBoAGsAaQBqAGoAbABrAG8AbQBtAHsAdwB3AHAAcQD5APkAeQB5AHYAeAD5AHoAbgBzAI0AgAB8AHcAfQB+AIAAfwCBAIgAiABaAIQAWwCHAIYAiACFAIwAhACGAG8AigCJAIwAhgCKAIkAiwCNAI0AjACjAKMAugClAKQAqACpAKYApwCoAK0AqQCoAK4ArACqAKwArACvAK8AsACwALEA2gCwAK8A2wDbALEAsgCzALQAswC1ALYAtgC5ALgAtwCzANwAuwC5APYA3QD2ALwAvQC+AL8AwADBAMcAwgDPAMsA0ADMAMwAxQDIAMgAxQDDAMMAzQDOAMcAxwDTANEA0wCxAOEA0gDUAOUA1QDlANYA1wDYANkALgHdACcB3gDcAN4A4ADfAOAA4gDjAOIA5ADkAOYA3wDmACgBKQEqAScBKAEpAeUALwEqAfAA7QDyAO4A7gDvAPQA8wAWAfMAFgHyAPUA9AD1APYA9QD3ACYBIgH6APsA/AD/AP0A/gD+AAABAwEDAQQBBQEKAQsBDAEKAQ0BBgEOAQ8BEAEOAQEBAgESAREBEwEUARABNAEJAQgBBwEJARABNAEXARcBGwEYARkBGAEZAR4BGgEaASABHAEfASEBHQEfAR4BFQEbASABHwEcASEBNQEjASQBNgEjASQBJQErASYBKwEsAS0BKwEtAS0BLwEuATQBMAExASIBNQEzATYBJAEyATEBMQEzATIBMwEyATIB",
          "dtype": "i2"
         },
         "k": {
          "bdata": "LQAuACwALwBmAGUAZwAxADIAMwBCAGgAaQBqAGwAbQBDAHAAcQByAHQAdgBuAHUAcwCQADEAZQBpAG4AlACVAJYAkgCRAJAAkgCTAJMAlQCWAAYAAwAHAAYABgAJAAcACAA0ADoABAA/AEUABQAKAMQANQA2ADcAOQA4ADQAOgA+AD8AOwA9ALwAPAC9AL4AvwDAAMcAwQBAAEQARQBGAMUAxgDEAMMAmwCcAJ4AngCiAKIAoQCgAMoAzAD+AJ0AnwChAKIAEwHLAMkA0ADIAMoAzADNAM4A/QDRANIA1ADVANYADwHXANgA2QARARMBEgEUAf4ADQEOAfkAegB4AHkA+gD7APwAAAF+AHwAgAB/AAQBgQADAQUBfQB3AAEBAgEGAQwBCAEHAQkBCgELATgBfgB/ADkBOgEEAT4BPwE7ATsBOwE8ATwBOwE/AT0B5wCXAAEAKQBHACoAKQAoAGAAKgDnAOcA5wBIAEkA6ABhAGIAYwDsAJgAmQDqALUAtgC3ALUAtgC4ALcA6wDpAOoA6QDuAOsA7QDuAO8A8AAOAE0AEwAUABUAFQAWABAAEAANABEADwARABQAEQAWAEwATgBPAEwATQBOAE8AFwBTAB8AHwAZAAsADAAMAB0AGQAcABsAHwAiACsAHgAgABwAIgAeACAAIQArACIAIwAkACQAJgAlACUAJgAnABgAsgCyALQAKQAoALQAtQAqABIAMAAwADkAOgA4ABcALQAsAC8AZgAtAC4AMQA+AD8AQAAyAEEAMgA2ADcANQA0ADYAOwA8AD0ARAAzAEIAQgD4AEUARgDDAEoASgBLAFAAUQBSAFEAUgBSAFQAVQBTAFkAVwBXAFYAWABWAFcAWgCDAIMAWwBbAFsAWABYAFwAXQBdAF8AXwBkAF0AXgBkAGAAYABhAPEAYgBjAGMAggDxAPMAVQBlAGcAaABpAFkAagBrAGwAbQBvAIcAewBuAG8AcwB1AEMAcABxAHIAdgB3AHcAeQB6AHgAcwB3AG8AjQCAAH0AfgB8AH8AgQADAYIAFwGFAIUAhACGAIQAXgCIAIYAiQCJAIwAiACKAIsAiwAXARkBGQGMAB4BHgGkAKkAqQCmAKUApgClAKcAqgCnAKgArQCuAKwAqgCrAKsAzwCoAK4ArQCpAKwArwDaANsAsQCvAM8AowCjALMAugC2ALkAuACzALcA7gC7ALAA3AC7ALsA3ADdAD0AvAC9AL4AvwDAAMEAvgDCAMcAywDEAMMAzADHAMUAyADMAM0AzgD9AMkAywDCANAA0QDhANMA0QDSANQA1ADTANUA1gDXANgA2QDiAOIA2gDeAOAA2wCxAN8A3gDgAOMA3wDgAN8A4QDhAOMA5ADmACgBKQEqAeEA5QAvAe0A7ADtAO8A8gDwAPIA9ADzABYB9wD2APYA9QAlASUBJgH1APUAJgH5APoA+wD8AP4A/wANAfwAHQEEAQUBCgELAQwBCQEVAQ4BAgEPARIBAAEQAQABAQEUAdkAEQETARQBEAEIAQcBBgEQATQBJAEWARsB9wAXARgBGwEcARoBGQEcARsBIAEhARwBHgEeAR8BHwEiASIBJAEjASMBIgE1ATYBIwE2AR8BJwEnASsBKAEpASoBLAEpATABLgEvAS4BLwErATEBMQExATMBMgEzASwBMwEtATABMgE0ASQB",
          "dtype": "i2"
         },
         "name": "Mesh",
         "opacity": 0.8,
         "type": "mesh3d",
         "x": {
          "bdata": "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",
          "dtype": "f8"
         },
         "y": {
          "bdata": "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",
          "dtype": "f8"
         },
         "z": {
          "bdata": "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",
          "dtype": "f8"
         }
        }
       ],
       "layout": {
        "height": 600,
        "scene": {
         "aspectmode": "data",
         "camera": {
          "eye": {
           "x": 1.5,
           "y": 1.5,
           "z": 1.5
          }
         },
         "xaxis": {
          "title": {
           "text": "X (µm)"
          }
         },
         "yaxis": {
          "title": {
           "text": "Y (µm)"
          }
         },
         "zaxis": {
          "title": {
           "text": "Z (µm)"
          }
         }
        },
        "template": {
         "data": {
          "bar": [
           {
            "error_x": {
             "color": "#2a3f5f"
            },
            "error_y": {
             "color": "#2a3f5f"
            },
            "marker": {
             "line": {
              "color": "#E5ECF6",
              "width": 0.5
             },
             "pattern": {
              "fillmode": "overlay",
              "size": 10,
              "solidity": 0.2
             }
            },
            "type": "bar"
           }
          ],
          "barpolar": [
           {
            "marker": {
             "line": {
              "color": "#E5ECF6",
              "width": 0.5
             },
             "pattern": {
              "fillmode": "overlay",
              "size": 10,
              "solidity": 0.2
             }
            },
            "type": "barpolar"
           }
          ],
          "carpet": [
           {
            "aaxis": {
             "endlinecolor": "#2a3f5f",
             "gridcolor": "white",
             "linecolor": "white",
             "minorgridcolor": "white",
             "startlinecolor": "#2a3f5f"
            },
            "baxis": {
             "endlinecolor": "#2a3f5f",
             "gridcolor": "white",
             "linecolor": "white",
             "minorgridcolor": "white",
             "startlinecolor": "#2a3f5f"
            },
            "type": "carpet"
           }
          ],
          "choropleth": [
           {
            "colorbar": {
             "outlinewidth": 0,
             "ticks": ""
            },
            "type": "choropleth"
           }
          ],
          "contour": [
           {
            "colorbar": {
             "outlinewidth": 0,
             "ticks": ""
            },
            "colorscale": [
             [
              0,
              "#0d0887"
             ],
             [
              0.1111111111111111,
              "#46039f"
             ],
             [
              0.2222222222222222,
              "#7201a8"
             ],
             [
              0.3333333333333333,
              "#9c179e"
             ],
             [
              0.4444444444444444,
              "#bd3786"
             ],
             [
              0.5555555555555556,
              "#d8576b"
             ],
             [
              0.6666666666666666,
              "#ed7953"
             ],
             [
              0.7777777777777778,
              "#fb9f3a"
             ],
             [
              0.8888888888888888,
              "#fdca26"
             ],
             [
              1,
              "#f0f921"
             ]
            ],
            "type": "contour"
           }
          ],
          "contourcarpet": [
           {
            "colorbar": {
             "outlinewidth": 0,
             "ticks": ""
            },
            "type": "contourcarpet"
           }
          ],
          "heatmap": [
           {
            "colorbar": {
             "outlinewidth": 0,
             "ticks": ""
            },
            "colorscale": [
             [
              0,
              "#0d0887"
             ],
             [
              0.1111111111111111,
              "#46039f"
             ],
             [
              0.2222222222222222,
              "#7201a8"
             ],
             [
              0.3333333333333333,
              "#9c179e"
             ],
             [
              0.4444444444444444,
              "#bd3786"
             ],
             [
              0.5555555555555556,
              "#d8576b"
             ],
             [
              0.6666666666666666,
              "#ed7953"
             ],
             [
              0.7777777777777778,
              "#fb9f3a"
             ],
             [
              0.8888888888888888,
              "#fdca26"
             ],
             [
              1,
              "#f0f921"
             ]
            ],
            "type": "heatmap"
           }
          ],
          "histogram": [
           {
            "marker": {
             "pattern": {
              "fillmode": "overlay",
              "size": 10,
              "solidity": 0.2
             }
            },
            "type": "histogram"
           }
          ],
          "histogram2d": [
           {
            "colorbar": {
             "outlinewidth": 0,
             "ticks": ""
            },
            "colorscale": [
             [
              0,
              "#0d0887"
             ],
             [
              0.1111111111111111,
              "#46039f"
             ],
             [
              0.2222222222222222,
              "#7201a8"
             ],
             [
              0.3333333333333333,
              "#9c179e"
             ],
             [
              0.4444444444444444,
              "#bd3786"
             ],
             [
              0.5555555555555556,
              "#d8576b"
             ],
             [
              0.6666666666666666,
              "#ed7953"
             ],
             [
              0.7777777777777778,
              "#fb9f3a"
             ],
             [
              0.8888888888888888,
              "#fdca26"
             ],
             [
              1,
              "#f0f921"
             ]
            ],
            "type": "histogram2d"
           }
          ],
          "histogram2dcontour": [
           {
            "colorbar": {
             "outlinewidth": 0,
             "ticks": ""
            },
            "colorscale": [
             [
              0,
              "#0d0887"
             ],
             [
              0.1111111111111111,
              "#46039f"
             ],
             [
              0.2222222222222222,
              "#7201a8"
             ],
             [
              0.3333333333333333,
              "#9c179e"
             ],
             [
              0.4444444444444444,
              "#bd3786"
             ],
             [
              0.5555555555555556,
              "#d8576b"
             ],
             [
              0.6666666666666666,
              "#ed7953"
             ],
             [
              0.7777777777777778,
              "#fb9f3a"
             ],
             [
              0.8888888888888888,
              "#fdca26"
             ],
             [
              1,
              "#f0f921"
             ]
            ],
            "type": "histogram2dcontour"
           }
          ],
          "mesh3d": [
           {
            "colorbar": {
             "outlinewidth": 0,
             "ticks": ""
            },
            "type": "mesh3d"
           }
          ],
          "parcoords": [
           {
            "line": {
             "colorbar": {
              "outlinewidth": 0,
              "ticks": ""
             }
            },
            "type": "parcoords"
           }
          ],
          "pie": [
           {
            "automargin": true,
            "type": "pie"
           }
          ],
          "scatter": [
           {
            "fillpattern": {
             "fillmode": "overlay",
             "size": 10,
             "solidity": 0.2
            },
            "type": "scatter"
           }
          ],
          "scatter3d": [
           {
            "line": {
             "colorbar": {
              "outlinewidth": 0,
              "ticks": ""
             }
            },
            "marker": {
             "colorbar": {
              "outlinewidth": 0,
              "ticks": ""
             }
            },
            "type": "scatter3d"
           }
          ],
          "scattercarpet": [
           {
            "marker": {
             "colorbar": {
              "outlinewidth": 0,
              "ticks": ""
             }
            },
            "type": "scattercarpet"
           }
          ],
          "scattergeo": [
           {
            "marker": {
             "colorbar": {
              "outlinewidth": 0,
              "ticks": ""
             }
            },
            "type": "scattergeo"
           }
          ],
          "scattergl": [
           {
            "marker": {
             "colorbar": {
              "outlinewidth": 0,
              "ticks": ""
             }
            },
            "type": "scattergl"
           }
          ],
          "scattermap": [
           {
            "marker": {
             "colorbar": {
              "outlinewidth": 0,
              "ticks": ""
             }
            },
            "type": "scattermap"
           }
          ],
          "scattermapbox": [
           {
            "marker": {
             "colorbar": {
              "outlinewidth": 0,
              "ticks": ""
             }
            },
            "type": "scattermapbox"
           }
          ],
          "scatterpolar": [
           {
            "marker": {
             "colorbar": {
              "outlinewidth": 0,
              "ticks": ""
             }
            },
            "type": "scatterpolar"
           }
          ],
          "scatterpolargl": [
           {
            "marker": {
             "colorbar": {
              "outlinewidth": 0,
              "ticks": ""
             }
            },
            "type": "scatterpolargl"
           }
          ],
          "scatterternary": [
           {
            "marker": {
             "colorbar": {
              "outlinewidth": 0,
              "ticks": ""
             }
            },
            "type": "scatterternary"
           }
          ],
          "surface": [
           {
            "colorbar": {
             "outlinewidth": 0,
             "ticks": ""
            },
            "colorscale": [
             [
              0,
              "#0d0887"
             ],
             [
              0.1111111111111111,
              "#46039f"
             ],
             [
              0.2222222222222222,
              "#7201a8"
             ],
             [
              0.3333333333333333,
              "#9c179e"
             ],
             [
              0.4444444444444444,
              "#bd3786"
             ],
             [
              0.5555555555555556,
              "#d8576b"
             ],
             [
              0.6666666666666666,
              "#ed7953"
             ],
             [
              0.7777777777777778,
              "#fb9f3a"
             ],
             [
              0.8888888888888888,
              "#fdca26"
             ],
             [
              1,
              "#f0f921"
             ]
            ],
            "type": "surface"
           }
          ],
          "table": [
           {
            "cells": {
             "fill": {
              "color": "#EBF0F8"
             },
             "line": {
              "color": "white"
             }
            },
            "header": {
             "fill": {
              "color": "#C8D4E3"
             },
             "line": {
              "color": "white"
             }
            },
            "type": "table"
           }
          ]
         },
         "layout": {
          "annotationdefaults": {
           "arrowcolor": "#2a3f5f",
           "arrowhead": 0,
           "arrowwidth": 1
          },
          "autotypenumbers": "strict",
          "coloraxis": {
           "colorbar": {
            "outlinewidth": 0,
            "ticks": ""
           }
          },
          "colorscale": {
           "diverging": [
            [
             0,
             "#8e0152"
            ],
            [
             0.1,
             "#c51b7d"
            ],
            [
             0.2,
             "#de77ae"
            ],
            [
             0.3,
             "#f1b6da"
            ],
            [
             0.4,
             "#fde0ef"
            ],
            [
             0.5,
             "#f7f7f7"
            ],
            [
             0.6,
             "#e6f5d0"
            ],
            [
             0.7,
             "#b8e186"
            ],
            [
             0.8,
             "#7fbc41"
            ],
            [
             0.9,
             "#4d9221"
            ],
            [
             1,
             "#276419"
            ]
           ],
           "sequential": [
            [
             0,
             "#0d0887"
            ],
            [
             0.1111111111111111,
             "#46039f"
            ],
            [
             0.2222222222222222,
             "#7201a8"
            ],
            [
             0.3333333333333333,
             "#9c179e"
            ],
            [
             0.4444444444444444,
             "#bd3786"
            ],
            [
             0.5555555555555556,
             "#d8576b"
            ],
            [
             0.6666666666666666,
             "#ed7953"
            ],
            [
             0.7777777777777778,
             "#fb9f3a"
            ],
            [
             0.8888888888888888,
             "#fdca26"
            ],
            [
             1,
             "#f0f921"
            ]
           ],
           "sequentialminus": [
            [
             0,
             "#0d0887"
            ],
            [
             0.1111111111111111,
             "#46039f"
            ],
            [
             0.2222222222222222,
             "#7201a8"
            ],
            [
             0.3333333333333333,
             "#9c179e"
            ],
            [
             0.4444444444444444,
             "#bd3786"
            ],
            [
             0.5555555555555556,
             "#d8576b"
            ],
            [
             0.6666666666666666,
             "#ed7953"
            ],
            [
             0.7777777777777778,
             "#fb9f3a"
            ],
            [
             0.8888888888888888,
             "#fdca26"
            ],
            [
             1,
             "#f0f921"
            ]
           ]
          },
          "colorway": [
           "#636efa",
           "#EF553B",
           "#00cc96",
           "#ab63fa",
           "#FFA15A",
           "#19d3f3",
           "#FF6692",
           "#B6E880",
           "#FF97FF",
           "#FECB52"
          ],
          "font": {
           "color": "#2a3f5f"
          },
          "geo": {
           "bgcolor": "white",
           "lakecolor": "white",
           "landcolor": "#E5ECF6",
           "showlakes": true,
           "showland": true,
           "subunitcolor": "white"
          },
          "hoverlabel": {
           "align": "left"
          },
          "hovermode": "closest",
          "mapbox": {
           "style": "light"
          },
          "paper_bgcolor": "white",
          "plot_bgcolor": "#E5ECF6",
          "polar": {
           "angularaxis": {
            "gridcolor": "white",
            "linecolor": "white",
            "ticks": ""
           },
           "bgcolor": "#E5ECF6",
           "radialaxis": {
            "gridcolor": "white",
            "linecolor": "white",
            "ticks": ""
           }
          },
          "scene": {
           "xaxis": {
            "backgroundcolor": "#E5ECF6",
            "gridcolor": "white",
            "gridwidth": 2,
            "linecolor": "white",
            "showbackground": true,
            "ticks": "",
            "zerolinecolor": "white"
           },
           "yaxis": {
            "backgroundcolor": "#E5ECF6",
            "gridcolor": "white",
            "gridwidth": 2,
            "linecolor": "white",
            "showbackground": true,
            "ticks": "",
            "zerolinecolor": "white"
           },
           "zaxis": {
            "backgroundcolor": "#E5ECF6",
            "gridcolor": "white",
            "gridwidth": 2,
            "linecolor": "white",
            "showbackground": true,
            "ticks": "",
            "zerolinecolor": "white"
           }
          },
          "shapedefaults": {
           "line": {
            "color": "#2a3f5f"
           }
          },
          "ternary": {
           "aaxis": {
            "gridcolor": "white",
            "linecolor": "white",
            "ticks": ""
           },
           "baxis": {
            "gridcolor": "white",
            "linecolor": "white",
            "ticks": ""
           },
           "bgcolor": "#E5ECF6",
           "caxis": {
            "gridcolor": "white",
            "linecolor": "white",
            "ticks": ""
           }
          },
          "title": {
           "x": 0.05
          },
          "xaxis": {
           "automargin": true,
           "gridcolor": "white",
           "linecolor": "white",
           "ticks": "",
           "title": {
            "standoff": 15
           },
           "zerolinecolor": "white",
           "zerolinewidth": 2
          },
          "yaxis": {
           "automargin": true,
           "gridcolor": "white",
           "linecolor": "white",
           "ticks": "",
           "title": {
            "standoff": 15
           },
           "zerolinecolor": "white",
           "zerolinewidth": 2
          }
         }
        },
        "title": {
         "text": "Demo Neuron Mesh"
        },
        "width": 800
       }
      }
     },
     "metadata": {},
     "output_type": "display_data"
    }
   ],
   "source": [
    "# Create a demo neuron mesh\n",
    "neuron = create_demo_neuron_mesh()\n",
    "\n",
    "print(f\"Demo neuron properties:\")\n",
    "print(f\"  Volume: {neuron.volume:.3f}\")\n",
    "print(f\"  Surface area: {neuron.area:.3f}\")\n",
    "print(f\"  Z-bounds: {neuron.bounds[:, 2]}\")\n",
    "print(f\"  Vertices: {len(neuron.vertices)}\")\n",
    "print(f\"  Faces: {len(neuron.faces)}\")\n",
    "\n",
    "# Visualize the original neuron\n",
    "fig = visualize_mesh_3d(neuron, title=\"Demo Neuron Mesh\", backend=\"plotly\")\n",
    "fig.show()"
   ]
  },
  {
   "cell_type": "markdown",
   "id": "bc22d60d",
   "metadata": {},
   "source": [
    "## Segment the Mesh"
   ]
  },
  {
   "cell_type": "code",
   "execution_count": 3,
   "id": "f0a8c44b",
   "metadata": {},
   "outputs": [
    {
     "name": "stdout",
     "output_type": "stream",
     "text": [
      "✅ Validated single-hull mesh: 636 external faces, volume=6817.908\n",
      "Computing 12 cross-sections from z=-100.00 to z=51.23\n",
      "  Cross-section 0: z=-88.00, 28 line segments, area=0.000\n",
      "  Cross-section 1: z=-76.00, 28 line segments, area=0.000\n",
      "  Cross-section 2: z=-64.00, 28 line segments, area=0.000\n",
      "  Cross-section 3: z=-52.00, 28 line segments, area=0.000\n",
      "  Cross-section 4: z=-40.00, 28 line segments, area=0.000\n",
      "  Cross-section 5: z=-28.00, 28 line segments, area=0.000\n",
      "  Cross-section 6: z=-16.00, 28 line segments, area=0.000\n",
      "  Cross-section 7: z=-4.00, 42 line segments, area=0.000\n",
      "  Cross-section 8: z=8.00, 70 line segments, area=0.000\n",
      "  Cross-section 9: z=20.00, 136 line segments, area=0.000\n",
      "  Cross-section 10: z=32.00, 136 line segments, area=0.000\n",
      "  Cross-section 11: z=44.00, 136 line segments, area=0.000\n",
      "✅ Computed 12 cross-sections, creating 13 slices\n",
      "\n",
      "Processing slice 0: z=[-100.00, -88.00]\n",
      "  🏷️  Annotated 52 external + 26 internal faces\n",
      "  Slice 0: 1 closed volumes (segments)\n",
      "    🔄 Transferred face attributes: 78 faces\n",
      "    Segment seg_0_0: vol=81.000, ext_area=118.560, int_area=6.750\n",
      "\n",
      "Processing slice 1: z=[-88.00, -76.00]\n",
      "  🏷️  Annotated 72 external + 68 internal faces\n",
      "  Slice 1: 1 closed volumes (segments)\n",
      "    🔄 Transferred face attributes: 140 faces\n",
      "    Segment seg_1_0: vol=81.000, ext_area=111.810, int_area=13.500\n",
      "\n",
      "Processing slice 2: z=[-76.00, -64.00]\n",
      "  🏷️  Annotated 72 external + 68 internal faces\n",
      "  Slice 2: 1 closed volumes (segments)\n",
      "    🔄 Transferred face attributes: 140 faces\n",
      "    Segment seg_2_0: vol=81.000, ext_area=111.810, int_area=13.500\n",
      "\n",
      "Processing slice 3: z=[-64.00, -52.00]\n",
      "  🏷️  Annotated 72 external + 68 internal faces\n",
      "  Slice 3: 1 closed volumes (segments)\n",
      "    🔄 Transferred face attributes: 140 faces\n",
      "    Segment seg_3_0: vol=81.000, ext_area=111.810, int_area=13.500\n",
      "\n",
      "Processing slice 4: z=[-52.00, -40.00]\n",
      "  🏷️  Annotated 72 external + 68 internal faces\n",
      "  Slice 4: 1 closed volumes (segments)\n",
      "    🔄 Transferred face attributes: 140 faces\n",
      "    Segment seg_4_0: vol=81.000, ext_area=111.810, int_area=13.500\n",
      "\n",
      "Processing slice 5: z=[-40.00, -28.00]\n",
      "  🏷️  Annotated 72 external + 68 internal faces\n",
      "  Slice 5: 1 closed volumes (segments)\n",
      "    🔄 Transferred face attributes: 140 faces\n",
      "    Segment seg_5_0: vol=81.000, ext_area=111.810, int_area=13.500\n",
      "\n",
      "Processing slice 6: z=[-28.00, -16.00]\n",
      "  🏷️  Annotated 72 external + 68 internal faces\n",
      "  Slice 6: 1 closed volumes (segments)\n",
      "    🔄 Transferred face attributes: 140 faces\n",
      "    Segment seg_6_0: vol=81.000, ext_area=111.810, int_area=13.500\n",
      "\n",
      "Processing slice 7: z=[-16.00, -4.00]\n",
      "  🏷️  Annotated 202 external + 66 internal faces\n",
      "  Slice 7: 1 closed volumes (segments)\n",
      "    🔄 Transferred face attributes: 268 faces\n",
      "    Segment seg_7_0: vol=903.900, ext_area=558.115, int_area=123.344\n",
      "\n",
      "Processing slice 8: z=[-4.00, 8.00]\n",
      "  🏷️  Annotated 340 external + 108 internal faces\n",
      "  Slice 8: 1 closed volumes (segments)\n",
      "    🔄 Transferred face attributes: 448 faces\n",
      "    Segment seg_8_0: vol=3081.163, ext_area=732.769, int_area=378.698\n",
      "\n",
      "Processing slice 9: z=[8.00, 20.00]\n",
      "  🏷️  Annotated 388 external + 226 internal faces\n",
      "  Slice 9: 1 closed volumes (segments)\n",
      "    🔄 Transferred face attributes: 614 faces\n",
      "    Segment seg_9_0: vol=686.181, ext_area=678.611, int_area=181.126\n",
      "\n",
      "Processing slice 10: z=[20.00, 32.00]\n",
      "  🏷️  Annotated 304 external + 288 internal faces\n",
      "  Slice 10: 4 closed volumes (segments)\n",
      "    🔄 Transferring face attributes to 4 components...\n",
      "      Component 0: 74 external + 70 internal faces\n",
      "      Component 1: 74 external + 70 internal faces\n",
      "      Component 2: 78 external + 74 internal faces\n",
      "      Component 3: 78 external + 74 internal faces\n",
      "    Segment seg_10_0: vol=156.767, ext_area=169.684, int_area=26.128\n",
      "    Segment seg_10_1: vol=156.767, ext_area=169.684, int_area=26.128\n",
      "    Segment seg_10_2: vol=156.767, ext_area=169.684, int_area=26.128\n",
      "    Segment seg_10_3: vol=156.767, ext_area=169.684, int_area=26.128\n",
      "\n",
      "Processing slice 11: z=[32.00, 44.00]\n",
      "  🏷️  Annotated 304 external + 288 internal faces\n",
      "  Slice 11: 4 closed volumes (segments)\n",
      "    🔄 Transferring face attributes to 4 components...\n",
      "      Component 0: 74 external + 70 internal faces\n",
      "      Component 1: 74 external + 70 internal faces\n",
      "      Component 2: 78 external + 74 internal faces\n",
      "      Component 3: 78 external + 74 internal faces\n",
      "    Segment seg_11_0: vol=156.767, ext_area=169.684, int_area=26.128\n",
      "    Segment seg_11_1: vol=156.767, ext_area=169.684, int_area=26.128\n",
      "    Segment seg_11_2: vol=156.767, ext_area=169.684, int_area=26.128\n",
      "    Segment seg_11_3: vol=156.767, ext_area=169.684, int_area=26.128\n",
      "\n",
      "Processing slice 12: z=[44.00, 51.23]\n",
      "  🏷️  Annotated 200 external + 128 internal faces\n",
      "  Slice 12: 4 closed volumes (segments)\n",
      "    🔄 Transferring face attributes to 4 components...\n",
      "      Component 0: 49 external + 31 internal faces\n",
      "      Component 1: 51 external + 33 internal faces\n",
      "      Component 2: 49 external + 31 internal faces\n",
      "      Component 3: 51 external + 33 internal faces\n",
      "    Segment seg_12_0: vol=81.381, ext_area=99.400, int_area=13.064\n",
      "    Segment seg_12_1: vol=81.381, ext_area=99.400, int_area=13.064\n",
      "    Segment seg_12_2: vol=81.381, ext_area=99.400, int_area=13.064\n",
      "    Segment seg_12_3: vol=81.381, ext_area=99.400, int_area=13.064\n",
      "✅ Extracted 22 total segments across 13 slices\n",
      "  Connected seg_0_0 ↔ seg_1_0\n",
      "  Connected seg_1_0 ↔ seg_2_0\n",
      "  Connected seg_2_0 ↔ seg_3_0\n",
      "  Connected seg_3_0 ↔ seg_4_0\n",
      "  Connected seg_4_0 ↔ seg_5_0\n",
      "  Connected seg_5_0 ↔ seg_6_0\n",
      "  Connected seg_6_0 ↔ seg_7_0\n",
      "  Connected seg_7_0 ↔ seg_8_0\n",
      "  Connected seg_8_0 ↔ seg_9_0\n",
      "  Connected seg_9_0 ↔ seg_10_0\n",
      "  Connected seg_9_0 ↔ seg_10_1\n",
      "  Connected seg_9_0 ↔ seg_10_2\n",
      "  Connected seg_9_0 ↔ seg_10_3\n",
      "  Connected seg_9_0 ↔ seg_10_0\n",
      "  Connected seg_9_0 ↔ seg_10_1\n",
      "  Connected seg_9_0 ↔ seg_10_2\n",
      "  Connected seg_9_0 ↔ seg_10_3\n",
      "  Connected seg_10_0 ↔ seg_11_0\n",
      "  Connected seg_10_1 ↔ seg_11_1\n",
      "  Connected seg_10_2 ↔ seg_11_3\n",
      "  Connected seg_10_3 ↔ seg_11_2\n",
      "  Connected seg_10_0 ↔ seg_11_0\n",
      "  Connected seg_10_1 ↔ seg_11_1\n",
      "  Connected seg_10_2 ↔ seg_11_3\n",
      "  Connected seg_10_3 ↔ seg_11_2\n",
      "  Connected seg_11_0 ↔ seg_12_0\n",
      "  Connected seg_11_1 ↔ seg_12_2\n",
      "  Connected seg_11_2 ↔ seg_12_1\n",
      "  Connected seg_11_3 ↔ seg_12_3\n",
      "✅ Built connectivity graph: 22 nodes, 21 edges\n",
      "\n",
      "📊 CONSERVATION VALIDATION:\n",
      "Volume: segments=6817.9084 vs original=6817.9084 (error: 0.00%)\n",
      "Surface area: segments=4513.9859 vs original=4410.8781 (error: 2.34%)\n",
      "✅ Conservation validation passed\n",
      "🎉 Enhanced Segmentation Results:\n",
      "  Total segments: 22\n",
      "  Total slices: 13\n",
      "  Connectivity edges: 21\n",
      "  Slice 10: 4 segments (multi-component)\n",
      "  Slice 11: 4 segments (multi-component)\n",
      "  Slice 12: 4 segments (multi-component)\n",
      "\n",
      "🌳 Branching Analysis:\n",
      "  Slices with multiple segments: 3\n",
      "  Maximum segments per slice: 4\n",
      "  Volume conservation: 100.0%\n",
      "  Connected seg_11_0 ↔ seg_12_0\n",
      "  Connected seg_11_1 ↔ seg_12_2\n",
      "  Connected seg_11_2 ↔ seg_12_1\n",
      "  Connected seg_11_3 ↔ seg_12_3\n",
      "✅ Built connectivity graph: 22 nodes, 21 edges\n",
      "\n",
      "📊 CONSERVATION VALIDATION:\n",
      "Volume: segments=6817.9084 vs original=6817.9084 (error: 0.00%)\n",
      "Surface area: segments=4513.9859 vs original=4410.8781 (error: 2.34%)\n",
      "✅ Conservation validation passed\n",
      "🎉 Enhanced Segmentation Results:\n",
      "  Total segments: 22\n",
      "  Total slices: 13\n",
      "  Connectivity edges: 21\n",
      "  Slice 10: 4 segments (multi-component)\n",
      "  Slice 11: 4 segments (multi-component)\n",
      "  Slice 12: 4 segments (multi-component)\n",
      "\n",
      "🌳 Branching Analysis:\n",
      "  Slices with multiple segments: 3\n",
      "  Maximum segments per slice: 4\n",
      "  Volume conservation: 100.0%\n"
     ]
    }
   ],
   "source": [
    "# Create segmenter and segment the mesh with enhanced algorithm\n",
    "segmenter = MeshSegmenter()\n",
    "segments = segmenter.segment_mesh(neuron, slice_height=12)\n",
    "\n",
    "print(f\"🎉 Enhanced Segmentation Results:\")\n",
    "print(f\"  Total segments: {len(segments)}\")\n",
    "print(f\"  Total slices: {len(segmenter.slices)}\")\n",
    "print(f\"  Connectivity edges: {len(segmenter.connectivity_graph.edges)}\")\n",
    "\n",
    "# Analyze multi-component slices\n",
    "multi_component_slices = 0\n",
    "for i, slice_info in enumerate(segmenter.slices):\n",
    "    slice_segments = [s for s in segments if s.slice_index == i]\n",
    "    if len(slice_segments) > 1:\n",
    "        multi_component_slices += 1\n",
    "        print(f\"  Slice {i}: {len(slice_segments)} segments (multi-component)\")\n",
    "\n",
    "print(f\"\\n🌳 Branching Analysis:\")\n",
    "print(f\"  Slices with multiple segments: {multi_component_slices}\")\n",
    "print(f\"  Maximum segments per slice: {max(len([s for s in segments if s.slice_index == i]) for i in range(len(segmenter.slices)))}\")\n",
    "\n",
    "# Volume validation\n",
    "total_volume = sum(seg.volume for seg in segments)\n",
    "volume_conservation = (total_volume / neuron.volume) * 100\n",
    "print(f\"  Volume conservation: {volume_conservation:.1f}%\")"
   ]
  },
  {
   "cell_type": "code",
   "execution_count": 4,
   "id": "26beb441",
   "metadata": {},
   "outputs": [
    {
     "name": "stdout",
     "output_type": "stream",
     "text": [
      "\n",
      "🔗 Connectivity Validation:\n",
      "  Graph is connected: True\n",
      "  Number of connected components: 1\n",
      "  ✅ SUCCESS: Single connected graph - all segments can communicate\n",
      "  Graph diameter (max shortest path): 12\n",
      "  Average shortest path length: 5.10\n",
      "\n",
      "🎯 Final Validation Summary:\n",
      "  ✅ Volume conservation: 100.0%\n",
      "  ✅ Connectivity: Single connected graph (1 component)\n",
      "  ✅ Complex topology: 3 multi-segment slices handled\n",
      "  ✅ Branching structure: 21 connections between 22 segments\n",
      "\n",
      "🌟 Enhanced segmentation algorithm successfully handles complex neuronal morphology!\n"
     ]
    }
   ],
   "source": [
    "# Connectivity validation - ensure graph is a single connected component\n",
    "import networkx as nx\n",
    "\n",
    "# Check if the connectivity graph is connected\n",
    "is_connected = nx.is_connected(segmenter.connectivity_graph)\n",
    "num_components = nx.number_connected_components(segmenter.connectivity_graph)\n",
    "\n",
    "print(f\"\\n🔗 Connectivity Validation:\")\n",
    "print(f\"  Graph is connected: {is_connected}\")\n",
    "print(f\"  Number of connected components: {num_components}\")\n",
    "\n",
    "if is_connected:\n",
    "    print(f\"  ✅ SUCCESS: Single connected graph - all segments can communicate\")\n",
    "\n",
    "    # Additional connectivity metrics\n",
    "    diameter = nx.diameter(segmenter.connectivity_graph)\n",
    "    avg_path_length = nx.average_shortest_path_length(segmenter.connectivity_graph)\n",
    "    print(f\"  Graph diameter (max shortest path): {diameter}\")\n",
    "    print(f\"  Average shortest path length: {avg_path_length:.2f}\")\n",
    "else:\n",
    "    print(f\"  ❌ ERROR: Graph has {num_components} disconnected components!\")\n",
    "    print(f\"  This indicates segmentation issues - some segments are isolated\")\n",
    "\n",
    "    # Show the sizes of each component\n",
    "    components = list(nx.connected_components(segmenter.connectivity_graph))\n",
    "    component_sizes = [len(comp) for comp in components]\n",
    "    print(f\"  Component sizes: {component_sizes}\")\n",
    "\n",
    "    # This should never happen for a proper mesh segmentation\n",
    "    assert is_connected, f\"Connectivity graph must be connected! Found {num_components} components.\"\n",
    "\n",
    "print(f\"\\n🎯 Final Validation Summary:\")\n",
    "print(f\"  ✅ Volume conservation: {volume_conservation:.1f}%\")\n",
    "print(f\"  ✅ Connectivity: Single connected graph ({num_components} component)\")\n",
    "print(f\"  ✅ Complex topology: {multi_component_slices} multi-segment slices handled\")\n",
    "print(f\"  ✅ Branching structure: {len(segmenter.connectivity_graph.edges)} connections between {len(segments)} segments\")\n",
    "print(f\"\\n🌟 Enhanced segmentation algorithm successfully handles complex neuronal morphology!\")"
   ]
  },
  {
   "cell_type": "markdown",
   "id": "93760da5",
   "metadata": {},
   "source": [
    "## 3D Connectivity Visualization"
   ]
  },
  {
   "cell_type": "code",
   "execution_count": 5,
   "id": "c3e43954",
   "metadata": {},
   "outputs": [
    {
     "data": {
      "image/png": "[encoded data removed]",
      "text/plain": [
       "<Figure size 1200x800 with 2 Axes>"
      ]
     },
     "metadata": {},
     "output_type": "display_data"
    },
    {
     "name": "stderr",
     "output_type": "stream",
     "text": [
      "C:\\Users\\MainUser\\AppData\\Local\\Temp\\ipykernel_7172\\571459786.py:3: UserWarning:\n",
      "\n",
      "FigureCanvasAgg is non-interactive, and thus cannot be shown\n",
      "\n"
     ]
    }
   ],
   "source": [
    "# Visualize connectivity in 3D space - should show tree-like branching structure\n",
    "fig = segmenter.visualize_connectivity_graph(include_3d_view=True)\n",
    "fig.show()"
   ]
  },
  {
   "cell_type": "markdown",
   "id": "747889af",
   "metadata": {},
   "source": [
    "## Summary\n",
    "\n",
    "The enhanced neuron segmentation demonstrates significant algorithmic improvements:\n",
    "\n",
    "### 🚀 **Key Enhancements**\n",
    "- **Multi-component slices**: Robust handling of any number of segments per slice\n",
    "- **Shared boundary connectivity**: Segments connected based on actual cut boundaries, not just proximity\n",
    "- **Enhanced face attribution**: Proper transfer of external/internal face classifications to all components\n",
    "- **Complex branching support**: Correctly handles neuronal dendrites, axons, and branch points\n",
    "\n",
    "### 🧠 **Neurological Realism**\n",
    "- **Anatomical accuracy**: Cell body, dendrites, and axonal structures properly segmented\n",
    "- **Branching topology**: Tree-like connectivity graph reflects actual neural architecture\n",
    "- **Compartmental modeling**: Each segment represents a valid compartment for electrophysiological simulation\n",
    "\n",
    "### 🔬 **Technical Validation**\n",
    "- **Volume conservation**: Perfect preservation of total mesh volume\n",
    "- **Surface area tracking**: Accurate external and internal surface area calculations\n",
    "- **Connectivity integrity**: Robust graph structure suitable for coupled ODE systems\n",
    "\n",
    "This enhanced algorithm provides the foundation for realistic compartmental modeling of complex neuronal morphologies, supporting advanced electrophysiological simulations with proper inter-compartment connectivity."
   ]
  }
 ],
 "metadata": {
  "kernelspec": {
   "display_name": ".venv",
   "language": "python",
   "name": "python3"
  },
  "language_info": {
   "codemirror_mode": {
    "name": "ipython",
    "version": 3
   },
   "file_extension": ".py",
   "mimetype": "text/x-python",
   "name": "python",
   "nbconvert_exporter": "python",
   "pygments_lexer": "ipython3",
   "version": "3.11.4"
  }
 },
 "nbformat": 4,
 "nbformat_minor": 5
}
