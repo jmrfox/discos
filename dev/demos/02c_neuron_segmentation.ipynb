{
 "cells": [
  {
   "cell_type": "markdown",
   "id": "9928d6f9",
   "metadata": {},
   "source": [
    "# 02c - Neuron Segmentation Demo\n",
    "\n",
    "This notebook demonstrates mesh segmentation using a realistic neuron-like geometry with multiple branches.\n",
    "\n",
    "**Part of the GenCoMo Tutorial Series** - [Return to Index](01_tutorial_index.ipynb)"
   ]
  },
  {
   "cell_type": "code",
   "execution_count": 1,
   "id": "f341954c",
   "metadata": {},
   "outputs": [
    {
     "name": "stdout",
     "output_type": "stream",
     "text": [
      "Jupyter environment detected. Enabling Open3D WebVisualizer.\n",
      "[Open3D INFO] WebRTC GUI backend enabled.\n",
      "[Open3D INFO] WebRTCWindowSystem: HTTP handshake server disabled.\n"
     ]
    }
   ],
   "source": [
    "import numpy as np\n",
    "import trimesh\n",
    "from gencomo import create_demo_neuron_mesh, MeshSegmenter, visualize_mesh_3d"
   ]
  },
  {
   "cell_type": "markdown",
   "id": "a8a7912d",
   "metadata": {},
   "source": [
    "## Create and Visualize Demo Neuron"
   ]
  },
  {
   "cell_type": "code",
   "execution_count": 2,
   "id": "86d47055",
   "metadata": {},
   "outputs": [
    {
     "name": "stdout",
     "output_type": "stream",
     "text": [
      "Demo neuron properties:\n",
      "  Volume: 6817.908\n",
      "  Surface area: 4410.878\n",
      "  Z-bounds: [-100.           51.22947311]\n",
      "  Vertices: 320\n",
      "  Faces: 636\n"
     ]
    },
    {
     "data": {
      "application/vnd.plotly.v1+json": {
       "config": {
        "plotlyServerURL": "https://plot.ly"
       },
       "data": [
        {
         "color": "lightblue",
         "i": {
          "bdata": "kACQAI8AjwCPAJEAkQCQAI4AjgCOAJEAkwCTAJMAkwCUAJQAlACUAJUAlQCWAJYAlgCPAI4AjwCRAJMAjgCUAJUAjwCPAI4AjgCRAJIAkgCSAAIAAgADAAQABQAGAAYABgACAAMAAgAHAAgABAAFAAkAAgACAAMAAwADAAMABwAHAAgAAgAEAAQAAgAEAAUABQAFAAoACgAIAAgACQAJAAoACgAKAAkAmgCbAJoAnQCcAJ4AngCeAJoAmwCcAJoAnQCfAKAAoACaAJoAmgCbAJsAnACcAJwAnACdAJ0AnQCdAJ8AoACfAJ8AoQChAKEAoACgAKIAogCiADgBNwE3ATcBOAE4ATkBOQE8ATwBPAE9AT8BPQE9AT8BNwE3ATkBOgE6AT4BPgE+AT4BPwE/ATcBNwE8ATgBOQE9AToBPgE4ATkBNwE3ATsBOgE7ATsBAAABAAAAAAAAAAEAAQAAAAAAlwBHAEgASQBHAEgASQBHAEgASABJAJcAmACZAJcAmACZAJgAmQCZAOoA5wDnAOcA6ADqAOkA6ADrAOsA6QANAA4AEAAQAA8AEwAVAAsAGgAaAA8ACwAMAA0AHQARABQAEwAVABMAFAAVABYAFgAWACQAGAALABoACwAZAAwAGwAZABoAGgAdAB0AGwAbAB4AHAAgAB8AHgAiACEAIgAaAA0AJAANAA4AJQAlACQAGAAmACYAJwAnACcAtAAnAB0AEgArADAAMAAwABIAFwAXABcAFwAwADAAMAAwADAAMAAwADAAQQArACsAKwArACMAIwAjACMAQQBBAEEA+ABBAPgA+AD4AE0ADgBKAEwATQBOAEwAUABPAE8AVAAXAFQAUQBQAFAAUgBSAEsAVwBLAFcAVgBaAFgAVABZAA4AXABKAFwAJwBfAEsASwBdACcAXwBfAF8AXwBfAPEAZABkAGQAFwBVAFUAVQBVAFUAVQBVAGsAawBZAFkAawB7AGsAdQB0APgA+AD4AHEAcgB2AHQAcgByAHIAewB7AHsAewB7AHsAewB7AI0AjQCNAF4AggCDAFoAWgBbAFsAgwCDAIcAhQCEAIcAhQCFAIYAiQCIAIoAiQBvAIwAiwAYAKQAowAgACAApQCkACEAIQCmAKUApQCnAKcApwAjAKoAqwCtAKgAqQC6AK4ArQCtAK4ArgDaAKwAGACyALIAowC0ALQAuQC0ALkAuQC6ALoAugCzALkAuwC7AKsAqwCrAMIAwgDCAMIAqwCrAMIAwgDGAMQAxgDKAMcAzADNAPgA+AD4AMoAyQDPAMIAwgDPAM8A0wDTANMA5QDhAOUA5QDlAOUA5QDcAN0AsACwANoA2gDbANsA3ADeAN4A4ADjAOQAsQDfAOIA4wDkAOIA4wDkAOYA5gDmAPIA8QDxAPIAuQDyAPEA8QCCAPQA9AC5APIA8gD2AN0AJQH0APcA9wD4APgA+AD4APgA+AD/AP8AjQAdAR0BHQEVARUBFQEdAf8AEAEQARAB/wD/ABABEAEQAS4BLgEuAS4BLgEQARABEAEVARUBFQGCABYBFgGKAIoAFwEYAYsAiwAZARgBGAEaARoBjQAdARoBHQH3ABsBIQEgARwBIAEgASEBIQE1ARUB3QAlASUBJwEoASkBKAEsASoB5QAwATABKgEmASYBIgE1ATUBNgE2ASsBLAEsAS0BLQEwATQB",
          "dtype": "i2"
         },
         "j": {
          "bdata": "LAAtAC8AZgBlAGcAaAAuADEAMgAzAGkAagBsAG0AbgBCAEMAcABxAHYAcgBzAHQAdQAsAJAAkQCTAJYAQgByAHQAkACSAJIAlACSAJYAlACVAAQABgAGAAUACgAKAAgACQADAAcAPAAIAAkAvQDAAAoANAA1ADgAOgA5ADcAPgA/AEAANgA8AD0AOwC8AL0AvgC/AMEAwABEAEUARgDDAMcAxQDGAMQAngCeAJ0AnwCeAKAAnwChAJsAnACiANAA1QDYAA8BoQDJAMoAywDMAMgAzQDOAP0A/gDQANEA0gDUANUAEgHWANcA2ADZABEBFAETAQ0BDgEPAXoAeAB5AHcA+QD6APsA/AB8AIAAfwCBAAUBAwEEAQoBfgB9AAABAQECAQkBBwEGAQgBCwEMAXoAPAE9AfsAAQE/AQYBDAE5AToBOAE7AT0BPgE+AT8BRwDnAOcAAQBgAJcAKgApACgAtQBIAEkA6ABhAGMA7ABgAGEAYgBjAOcA5wDnAJgAmQDqALYAuAC3AO4A6QDoAOsA7QDrAPAA7ADvAPAA7QAUABQADwATABEADwARAA8ACwAQAAwADAAdABAAEgASABMAFQAWAE4ATABPAFMAEgAXABgApAAbABsAGQAcABwAHgAeAB8AJAAcACIAIAAfACEAIQCmAKQApgAjAKoAqgANACUAJQAOAFwAJwBcACYAJgC0ACcAKABgACoAKgApACsAKwA3ADgAOQA3ADAAMAAtACwALwAuADEAMgA6AD4APwBBAEAAMwAjADQANgA1ADsAPAA9AKsAQABCAPgAQwBEAEQARQBGAFEATQBRAE4ATABPAFAATgBUAFMAUwBVAFUAUABWAFIAVABYAFEAVgBXAFoAWABWAIcAWQCHAEoASgBLAF0AXABdAF4AgwBeAF8AYQBiAGQAYwDxAOwAXgDzAIIAZgBmAGUAZwBoAGsAaQBqAGoAbABrAG8AbQBtAHsAdwB3AHAAcQD5APkAeQB5AHYAeAD5AHoAbgBzAI0AgAB8AHcAfQB+AIAAfwCBAIgAiABaAIQAWwCHAIYAiACFAIwAhACGAG8AigCJAIwAhgCKAIkAiwCNAI0AjACjAKMAugClAKQAqACpAKYApwCoAK0AqQCoAK4ArACqAKwArACvAK8AsACwALEA2gCwAK8A2wDbALEAsgCzALQAswC1ALYAtgC5ALgAtwCzANwAuwC5APYA3QD2ALwAvQC+AL8AwADBAMcAwgDPAMsA0ADMAMwAxQDIAMgAxQDDAMMAzQDOAMcAxwDTANEA0wCxAOEA0gDUAOUA1QDlANYA1wDYANkALgHdACcB3gDcAN4A4ADfAOAA4gDjAOIA5ADkAOYA3wDmACgBKQEqAScBKAEpAeUALwEqAfAA7QDyAO4A7gDvAPQA8wAWAfMAFgHyAPUA9AD1APYA9QD3ACYBIgH6APsA/AD/AP0A/gD+AAABAwEDAQQBBQEKAQsBDAEKAQ0BBgEOAQ8BEAEOAQEBAgESAREBEwEUARABNAEJAQgBBwEJARABNAEXARcBGwEYARkBGAEZAR4BGgEaASABHAEfASEBHQEfAR4BFQEbASABHwEcASEBNQEjASQBNgEjASQBJQErASYBKwEsAS0BKwEtAS0BLwEuATQBMAExASIBNQEzATYBJAEyATEBMQEzATIBMwEyATIB",
          "dtype": "i2"
         },
         "k": {
          "bdata": "LQAuACwALwBmAGUAZwAxADIAMwBCAGgAaQBqAGwAbQBDAHAAcQByAHQAdgBuAHUAcwCQADEAZQBpAG4AlACVAJYAkgCRAJAAkgCTAJMAlQCWAAYAAwAHAAYABgAJAAcACAA0ADoABAA/AEUABQAKAMQANQA2ADcAOQA4ADQAOgA+AD8AOwA9ALwAPAC9AL4AvwDAAMcAwQBAAEQARQBGAMUAxgDEAMMAmwCcAJ4AngCiAKIAoQCgAMoAzAD+AJ0AnwChAKIAEwHLAMkA0ADIAMoAzADNAM4A/QDRANIA1ADVANYADwHXANgA2QARARMBEgEUAf4ADQEOAfkAegB4AHkA+gD7APwAAAF+AHwAgAB/AAQBgQADAQUBfQB3AAEBAgEGAQwBCAEHAQkBCgELATgBfgB/ADkBOgEEAT4BPwE7ATsBOwE8ATwBOwE/AT0B5wCXAAEAKQBHACoAKQAoAGAAKgDnAOcA5wBIAEkA6ABhAGIAYwDsAJgAmQDqALUAtgC3ALUAtgC4ALcA6wDpAOoA6QDuAOsA7QDuAO8A8AAOAE0AEwAUABUAFQAWABAAEAANABEADwARABQAEQAWAEwATgBPAEwATQBOAE8AFwBTAB8AHwAZAAsADAAMAB0AGQAcABsAHwAiACsAHgAgABwAIgAeACAAIQArACIAIwAkACQAJgAlACUAJgAnABgAsgCyALQAKQAoALQAtQAqABIAMAAwADkAOgA4ABcALQAsAC8AZgAtAC4AMQA+AD8AQAAyAEEAMgA2ADcANQA0ADYAOwA8AD0ARAAzAEIAQgD4AEUARgDDAEoASgBLAFAAUQBSAFEAUgBSAFQAVQBTAFkAVwBXAFYAWABWAFcAWgCDAIMAWwBbAFsAWABYAFwAXQBdAF8AXwBkAF0AXgBkAGAAYABhAPEAYgBjAGMAggDxAPMAVQBlAGcAaABpAFkAagBrAGwAbQBvAIcAewBuAG8AcwB1AEMAcABxAHIAdgB3AHcAeQB6AHgAcwB3AG8AjQCAAH0AfgB8AH8AgQADAYIAFwGFAIUAhACGAIQAXgCIAIYAiQCJAIwAiACKAIsAiwAXARkBGQGMAB4BHgGkAKkAqQCmAKUApgClAKcAqgCnAKgArQCuAKwAqgCrAKsAzwCoAK4ArQCpAKwArwDaANsAsQCvAM8AowCjALMAugC2ALkAuACzALcA7gC7ALAA3AC7ALsA3ADdAD0AvAC9AL4AvwDAAMEAvgDCAMcAywDEAMMAzADHAMUAyADMAM0AzgD9AMkAywDCANAA0QDhANMA0QDSANQA1ADTANUA1gDXANgA2QDiAOIA2gDeAOAA2wCxAN8A3gDgAOMA3wDgAN8A4QDhAOMA5ADmACgBKQEqAeEA5QAvAe0A7ADtAO8A8gDwAPIA9ADzABYB9wD2APYA9QAlASUBJgH1APUAJgH5APoA+wD8AP4A/wANAfwAHQEEAQUBCgELAQwBCQEVAQ4BAgEPARIBAAEQAQABAQEUAdkAEQETARQBEAEIAQcBBgEQATQBJAEWARsB9wAXARgBGwEcARoBGQEcARsBIAEhARwBHgEeAR8BHwEiASIBJAEjASMBIgE1ATYBIwE2AR8BJwEnASsBKAEpASoBLAEpATABLgEvAS4BLwErATEBMQExATMBMgEzASwBMwEtATABMgE0ASQB",
          "dtype": "i2"
         },
         "name": "Mesh",
         "opacity": 0.8,
         "type": "mesh3d",
         "x": {
          "bdata": "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",
          "dtype": "f8"
         },
         "y": {
          "bdata": "AAAAAAAA6L8AAAAg3Mj0vwAAAKAnqBXAAAAAAAAAEMAAAAAAAAAYwAAAAKAnqBXAAAAAAAAAEMAAAADAsK8EwAAAAAAAAADAAAAAwLCvBMAAAAAAAAAQwAAAAKD0FBzAAAAAoPQUHMAAAAAAVQMRwAAAACAUs/m/AAAAoHwHFcAAAAAAAAAUwAAAAAAAABTAAAAAAFUDEcAAAACgfAcFwAAAACCWygTAAAAAoHwHBcAAAAAglsoEwAAAACAUs/m/AAAA4E/AG8AAAAAAVQMhwAAAAEAThxvAAAAA4NxAIcAAAADg3EAhwAAAAEAThxvAAAAA4B89I8AAAADAKi4gwAAAAMBoBSPAAAAAwGgFI8AAAADAKi4gwAAAAOBPwBvAAAAAwOuCF8AAAAAAq7gIwAAAAOAEWxHAAAAAAFv++b8AAAAAAADovwAAAACTC+m/AAAAINzI9L8AAADA64IXwAAAAKD9peu/AAAA4KBW7L8AAABgc+XsvwAAAEASONW/AAAAAKu4CMAAAACAeXHyvwAAAIAKjvK/AAAA4J8H7r8AAADAAG0VwAAAAKAnqBXAAAAAgJ+3FcAAAAAgYVASwAAAAGD5GhDAAAAAAAAAEMAAAACAEVMPwAAAAEAz1RfAAAAAwNzyF8AAAAAAAAAYwAAAAMCwrwTAAAAA4CpgBMAAAAAAq7ADwAAAAABb/vm/AAAAoBnPxL8AAABgN5jBvwAAAKCtWADAAAAAAAAAAMAAAACAHEgAwAAAAEA5eao8AAAAAAAA6D8AAAAg3Mj0PwAAACAUs/k/AAAAAFUDEUAAAAAAAAAAAAAAAAAAAAAAAAAAAAAAAAAAAAAAAAAAAAAAAKB8BwVAAAAAIJbKBEAAAACgfAcFQAAAAAAAAAAAAAAAIJbKBEAAAAAgFLP5PwAAAKB8BxVAAAAAAAAAFEAAAAAAAAAUQAAAAABVAxFAAAAAoPQUHEAAAACg9BQcQAAAAAAAAAAAAAAAAKu4CEAAAADA64IXQAAAAABb/vk/AAAAQDl5qjwAAAAAAADoPwAAAACTC+k/AAAAINzI9D8AAADgBFsRQAAAAKAPTeI/AAAAwJHz4D8AAABgaKLkPwAAAMCX1gFAAAAAQCc2AkAAAAAgFzAEQAAAAACruAhAAAAAAGy0BkAAAACg9oMJQAAAAGAtYAlAAAAAwOuCF0AAAADARK/0PwAAAEBWDvc/AAAAoFeN+D8AAADgsC8HQAAAAGBzaQZAAAAAgAgdB0AAAADA1mv9PwAAACCLYwdAAAAAwIozBUAAAADg6m4FQAAAAMCwrwRAAAAA4ARbEUAAAAAATbcTQAAAAAAAABBAAAAA4G4hEEAAAABAY7AVQAAAAKAnqBVAAAAAoKJ2FkAAAADgT8AbQAAAAEAThxtAAAAAAFUDIUAAAADg3EAhQAAAAODcQCFAAAAAQBOHG0AAAADAKi4gQAAAAOAfPSNAAAAAwGgFI0AAAADAaAUjQAAAAMAqLiBAAAAA4E/AG0AAAABgmEQ3QAAAAAAAADlAAAAAIHfGN0AAAADgiDk6QAAAAAAAADlAAAAAoGe7OkAAAAAgd8Y3QAAAAAAAADlAAAAA4Ig5OkAAAAAAAAD4vwAAACDcyPS/AAAAAAAA6L8AAADgiDk6wAAAAAAAADnAAAAAIHfGN8AAAACgZ7s6wAAAAAAAADnAAAAA4Ig5OsAAAAAgd8Y3wAAAAAAAADnAAAAAYJhEN8AAAADgT8AbwAAAAABVAyHAAAAAwGgFI8AAAAAAAAAkwAAAAMBoBSPAAAAA4B89I8AAAADAKi4gwAAAAABVAyHAAAAA4E/AG8AAAADAKi4gwAAAAODcQCHAAAAA4NxAIcAAAAAAVQMhwAAAAEAThxvAAAAAQBOHG8AAAACgfAcVwAAAAOAEWxHAAAAAoH/cBcAAAAAAAAD4vwAAACDcyPS/AAAAAAAA6L8AAAAAkwvpvwAAAABb/vm/AAAAwOuCF8AAAAAAq7gIwAAAAKCidhbAAAAAQGOwFcAAAACgJ6gVwAAAAABNtxPAAAAA4G4hEMAAAAAAAAAQwAAAAOAEWxHAAAAAAIt/BMAAAADAsK8EwAAAAODqbgXAAAAAwIozBcAAAAAgi2MHwAAAAMDWa/2/AAAAgAgdB8AAAABgc2kGwAAAAOCwLwfAAAAAoFeN+L8AAABAVg73vwAAAMBEr/S/AAAAwOuCF8AAAABgLWAJwAAAAKD2gwnAAAAAAGy0BsAAAAAAq7gIwAAAACAXMATAAAAAQCc2AsAAAADAl9YBwAAAAGBoouS/AAAAoA9N4r8AAADAkfPgvwAAAKD0FBzAAAAAoPQUHMAAAAAAVQMRwAAAACAUs/m/AAAAAAAAFMAAAAAAAAAUwAAAAKB8BxXAAAAAAFUDEcAAAAAglsoEwAAAAKB8BwXAAAAAoHwHBcAAAAAgFLP5vwAAACCWygTAAAAAAAAAAAAAAAAAAAD4PwAAACDcyPQ/AAAAAAAAAAAAAAAAAADoPwAAAAAAAPg/AAAAINzI9D8AAAAAAAAAAAAAAAAAAOg/AAAAAJML6T8AAACgf9wFQAAAAABb/vk/AAAAoHwHFUAAAADgBFsRQAAAAACruAhAAAAAAAAAAAAAAADA64IXQAAAAAAAAAAAAAAAAIt/BEAAAACAHEgAQAAAAAAAAABAAAAAoK1YAEAAAABgN5jBPwAAAKAZz8Q/AAAAAFv++T8AAAAAq7ADQAAAAOAqYARAAAAAwLCvBEAAAAAAAAAYQAAAAMDc8hdAAAAAQDPVF0AAAACAEVMPQAAAAAAAABBAAAAAYPkaEEAAAAAgYVASQAAAAICftxVAAAAAoCeoFUAAAADAAG0VQAAAAOCfB+4/AAAAgAqO8j8AAACAeXHyPwAAAACruAhAAAAAQBI41T8AAABgc+XsPwAAAKD9pes/AAAA4KBW7D8AAADA64IXQAAAAOBPwBtAAAAAAFUDIUAAAADAaAUjQAAAAAAAACRAAAAAwGgFI0AAAADAKi4gQAAAAOAfPSNAAAAA4E/AG0AAAAAAVQMhQAAAAMAqLiBAAAAA4NxAIUAAAADg3EAhQAAAAEAThxtAAAAAAFUDIUAAAABAE4cbQAAAACAUs/k/AAAAAFUDEUAAAAAAAAAAAAAAAAAAAAAAAAAAAAAAAAAAAAAAAAAAAAAAACCWygRAAAAAoHwHBUAAAACgfAcFQAAAACAUs/k/AAAAAAAAAAAAAAAglsoEQAAAAAAAABRAAAAAAAAAFEAAAACgfAcVQAAAAABVAxFAAAAAoPQUHEAAAACg9BQcQAAAAAAAABBAAAAAwLCvBEAAAAAAAAAAQAAAAMCwrwRAAAAAAAAAEEAAAACgJ6gVQAAAAAAAABhAAAAAAAAAEEAAAACgJ6gVQA==",
          "dtype": "f8"
         },
         "z": {
          "bdata": "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",
          "dtype": "f8"
         }
        }
       ],
       "layout": {
        "height": 600,
        "scene": {
         "aspectmode": "data",
         "camera": {
          "eye": {
           "x": 1.5,
           "y": 1.5,
           "z": 1.5
          }
         },
         "xaxis": {
          "title": {
           "text": "X (µm)"
          }
         },
         "yaxis": {
          "title": {
           "text": "Y (µm)"
          }
         },
         "zaxis": {
          "title": {
           "text": "Z (µm)"
          }
         }
        },
        "template": {
         "data": {
          "bar": [
           {
            "error_x": {
             "color": "#2a3f5f"
            },
            "error_y": {
             "color": "#2a3f5f"
            },
            "marker": {
             "line": {
              "color": "#E5ECF6",
              "width": 0.5
             },
             "pattern": {
              "fillmode": "overlay",
              "size": 10,
              "solidity": 0.2
             }
            },
            "type": "bar"
           }
          ],
          "barpolar": [
           {
            "marker": {
             "line": {
              "color": "#E5ECF6",
              "width": 0.5
             },
             "pattern": {
              "fillmode": "overlay",
              "size": 10,
              "solidity": 0.2
             }
            },
            "type": "barpolar"
           }
          ],
          "carpet": [
           {
            "aaxis": {
             "endlinecolor": "#2a3f5f",
             "gridcolor": "white",
             "linecolor": "white",
             "minorgridcolor": "white",
             "startlinecolor": "#2a3f5f"
            },
            "baxis": {
             "endlinecolor": "#2a3f5f",
             "gridcolor": "white",
             "linecolor": "white",
             "minorgridcolor": "white",
             "startlinecolor": "#2a3f5f"
            },
            "type": "carpet"
           }
          ],
          "choropleth": [
           {
            "colorbar": {
             "outlinewidth": 0,
             "ticks": ""
            },
            "type": "choropleth"
           }
          ],
          "contour": [
           {
            "colorbar": {
             "outlinewidth": 0,
             "ticks": ""
            },
            "colorscale": [
             [
              0,
              "#0d0887"
             ],
             [
              0.1111111111111111,
              "#46039f"
             ],
             [
              0.2222222222222222,
              "#7201a8"
             ],
             [
              0.3333333333333333,
              "#9c179e"
             ],
             [
              0.4444444444444444,
              "#bd3786"
             ],
             [
              0.5555555555555556,
              "#d8576b"
             ],
             [
              0.6666666666666666,
              "#ed7953"
             ],
             [
              0.7777777777777778,
              "#fb9f3a"
             ],
             [
              0.8888888888888888,
              "#fdca26"
             ],
             [
              1,
              "#f0f921"
             ]
            ],
            "type": "contour"
           }
          ],
          "contourcarpet": [
           {
            "colorbar": {
             "outlinewidth": 0,
             "ticks": ""
            },
            "type": "contourcarpet"
           }
          ],
          "heatmap": [
           {
            "colorbar": {
             "outlinewidth": 0,
             "ticks": ""
            },
            "colorscale": [
             [
              0,
              "#0d0887"
             ],
             [
              0.1111111111111111,
              "#46039f"
             ],
             [
              0.2222222222222222,
              "#7201a8"
             ],
             [
              0.3333333333333333,
              "#9c179e"
             ],
             [
              0.4444444444444444,
              "#bd3786"
             ],
             [
              0.5555555555555556,
              "#d8576b"
             ],
             [
              0.6666666666666666,
              "#ed7953"
             ],
             [
              0.7777777777777778,
              "#fb9f3a"
             ],
             [
              0.8888888888888888,
              "#fdca26"
             ],
             [
              1,
              "#f0f921"
             ]
            ],
            "type": "heatmap"
           }
          ],
          "histogram": [
           {
            "marker": {
             "pattern": {
              "fillmode": "overlay",
              "size": 10,
              "solidity": 0.2
             }
            },
            "type": "histogram"
           }
          ],
          "histogram2d": [
           {
            "colorbar": {
             "outlinewidth": 0,
             "ticks": ""
            },
            "colorscale": [
             [
              0,
              "#0d0887"
             ],
             [
              0.1111111111111111,
              "#46039f"
             ],
             [
              0.2222222222222222,
              "#7201a8"
             ],
             [
              0.3333333333333333,
              "#9c179e"
             ],
             [
              0.4444444444444444,
              "#bd3786"
             ],
             [
              0.5555555555555556,
              "#d8576b"
             ],
             [
              0.6666666666666666,
              "#ed7953"
             ],
             [
              0.7777777777777778,
              "#fb9f3a"
             ],
             [
              0.8888888888888888,
              "#fdca26"
             ],
             [
              1,
              "#f0f921"
             ]
            ],
            "type": "histogram2d"
           }
          ],
          "histogram2dcontour": [
           {
            "colorbar": {
             "outlinewidth": 0,
             "ticks": ""
            },
            "colorscale": [
             [
              0,
              "#0d0887"
             ],
             [
              0.1111111111111111,
              "#46039f"
             ],
             [
              0.2222222222222222,
              "#7201a8"
             ],
             [
              0.3333333333333333,
              "#9c179e"
             ],
             [
              0.4444444444444444,
              "#bd3786"
             ],
             [
              0.5555555555555556,
              "#d8576b"
             ],
             [
              0.6666666666666666,
              "#ed7953"
             ],
             [
              0.7777777777777778,
              "#fb9f3a"
             ],
             [
              0.8888888888888888,
              "#fdca26"
             ],
             [
              1,
              "#f0f921"
             ]
            ],
            "type": "histogram2dcontour"
           }
          ],
          "mesh3d": [
           {
            "colorbar": {
             "outlinewidth": 0,
             "ticks": ""
            },
            "type": "mesh3d"
           }
          ],
          "parcoords": [
           {
            "line": {
             "colorbar": {
              "outlinewidth": 0,
              "ticks": ""
             }
            },
            "type": "parcoords"
           }
          ],
          "pie": [
           {
            "automargin": true,
            "type": "pie"
           }
          ],
          "scatter": [
           {
            "fillpattern": {
             "fillmode": "overlay",
             "size": 10,
             "solidity": 0.2
            },
            "type": "scatter"
           }
          ],
          "scatter3d": [
           {
            "line": {
             "colorbar": {
              "outlinewidth": 0,
              "ticks": ""
             }
            },
            "marker": {
             "colorbar": {
              "outlinewidth": 0,
              "ticks": ""
             }
            },
            "type": "scatter3d"
           }
          ],
          "scattercarpet": [
           {
            "marker": {
             "colorbar": {
              "outlinewidth": 0,
              "ticks": ""
             }
            },
            "type": "scattercarpet"
           }
          ],
          "scattergeo": [
           {
            "marker": {
             "colorbar": {
              "outlinewidth": 0,
              "ticks": ""
             }
            },
            "type": "scattergeo"
           }
          ],
          "scattergl": [
           {
            "marker": {
             "colorbar": {
              "outlinewidth": 0,
              "ticks": ""
             }
            },
            "type": "scattergl"
           }
          ],
          "scattermap": [
           {
            "marker": {
             "colorbar": {
              "outlinewidth": 0,
              "ticks": ""
             }
            },
            "type": "scattermap"
           }
          ],
          "scattermapbox": [
           {
            "marker": {
             "colorbar": {
              "outlinewidth": 0,
              "ticks": ""
             }
            },
            "type": "scattermapbox"
           }
          ],
          "scatterpolar": [
           {
            "marker": {
             "colorbar": {
              "outlinewidth": 0,
              "ticks": ""
             }
            },
            "type": "scatterpolar"
           }
          ],
          "scatterpolargl": [
           {
            "marker": {
             "colorbar": {
              "outlinewidth": 0,
              "ticks": ""
             }
            },
            "type": "scatterpolargl"
           }
          ],
          "scatterternary": [
           {
            "marker": {
             "colorbar": {
              "outlinewidth": 0,
              "ticks": ""
             }
            },
            "type": "scatterternary"
           }
          ],
          "surface": [
           {
            "colorbar": {
             "outlinewidth": 0,
             "ticks": ""
            },
            "colorscale": [
             [
              0,
              "#0d0887"
             ],
             [
              0.1111111111111111,
              "#46039f"
             ],
             [
              0.2222222222222222,
              "#7201a8"
             ],
             [
              0.3333333333333333,
              "#9c179e"
             ],
             [
              0.4444444444444444,
              "#bd3786"
             ],
             [
              0.5555555555555556,
              "#d8576b"
             ],
             [
              0.6666666666666666,
              "#ed7953"
             ],
             [
              0.7777777777777778,
              "#fb9f3a"
             ],
             [
              0.8888888888888888,
              "#fdca26"
             ],
             [
              1,
              "#f0f921"
             ]
            ],
            "type": "surface"
           }
          ],
          "table": [
           {
            "cells": {
             "fill": {
              "color": "#EBF0F8"
             },
             "line": {
              "color": "white"
             }
            },
            "header": {
             "fill": {
              "color": "#C8D4E3"
             },
             "line": {
              "color": "white"
             }
            },
            "type": "table"
           }
          ]
         },
         "layout": {
          "annotationdefaults": {
           "arrowcolor": "#2a3f5f",
           "arrowhead": 0,
           "arrowwidth": 1
          },
          "autotypenumbers": "strict",
          "coloraxis": {
           "colorbar": {
            "outlinewidth": 0,
            "ticks": ""
           }
          },
          "colorscale": {
           "diverging": [
            [
             0,
             "#8e0152"
            ],
            [
             0.1,
             "#c51b7d"
            ],
            [
             0.2,
             "#de77ae"
            ],
            [
             0.3,
             "#f1b6da"
            ],
            [
             0.4,
             "#fde0ef"
            ],
            [
             0.5,
             "#f7f7f7"
            ],
            [
             0.6,
             "#e6f5d0"
            ],
            [
             0.7,
             "#b8e186"
            ],
            [
             0.8,
             "#7fbc41"
            ],
            [
             0.9,
             "#4d9221"
            ],
            [
             1,
             "#276419"
            ]
           ],
           "sequential": [
            [
             0,
             "#0d0887"
            ],
            [
             0.1111111111111111,
             "#46039f"
            ],
            [
             0.2222222222222222,
             "#7201a8"
            ],
            [
             0.3333333333333333,
             "#9c179e"
            ],
            [
             0.4444444444444444,
             "#bd3786"
            ],
            [
             0.5555555555555556,
             "#d8576b"
            ],
            [
             0.6666666666666666,
             "#ed7953"
            ],
            [
             0.7777777777777778,
             "#fb9f3a"
            ],
            [
             0.8888888888888888,
             "#fdca26"
            ],
            [
             1,
             "#f0f921"
            ]
           ],
           "sequentialminus": [
            [
             0,
             "#0d0887"
            ],
            [
             0.1111111111111111,
             "#46039f"
            ],
            [
             0.2222222222222222,
             "#7201a8"
            ],
            [
             0.3333333333333333,
             "#9c179e"
            ],
            [
             0.4444444444444444,
             "#bd3786"
            ],
            [
             0.5555555555555556,
             "#d8576b"
            ],
            [
             0.6666666666666666,
             "#ed7953"
            ],
            [
             0.7777777777777778,
             "#fb9f3a"
            ],
            [
             0.8888888888888888,
             "#fdca26"
            ],
            [
             1,
             "#f0f921"
            ]
           ]
          },
          "colorway": [
           "#636efa",
           "#EF553B",
           "#00cc96",
           "#ab63fa",
           "#FFA15A",
           "#19d3f3",
           "#FF6692",
           "#B6E880",
           "#FF97FF",
           "#FECB52"
          ],
          "font": {
           "color": "#2a3f5f"
          },
          "geo": {
           "bgcolor": "white",
           "lakecolor": "white",
           "landcolor": "#E5ECF6",
           "showlakes": true,
           "showland": true,
           "subunitcolor": "white"
          },
          "hoverlabel": {
           "align": "left"
          },
          "hovermode": "closest",
          "mapbox": {
           "style": "light"
          },
          "paper_bgcolor": "white",
          "plot_bgcolor": "#E5ECF6",
          "polar": {
           "angularaxis": {
            "gridcolor": "white",
            "linecolor": "white",
            "ticks": ""
           },
           "bgcolor": "#E5ECF6",
           "radialaxis": {
            "gridcolor": "white",
            "linecolor": "white",
            "ticks": ""
           }
          },
          "scene": {
           "xaxis": {
            "backgroundcolor": "#E5ECF6",
            "gridcolor": "white",
            "gridwidth": 2,
            "linecolor": "white",
            "showbackground": true,
            "ticks": "",
            "zerolinecolor": "white"
           },
           "yaxis": {
            "backgroundcolor": "#E5ECF6",
            "gridcolor": "white",
            "gridwidth": 2,
            "linecolor": "white",
            "showbackground": true,
            "ticks": "",
            "zerolinecolor": "white"
           },
           "zaxis": {
            "backgroundcolor": "#E5ECF6",
            "gridcolor": "white",
            "gridwidth": 2,
            "linecolor": "white",
            "showbackground": true,
            "ticks": "",
            "zerolinecolor": "white"
           }
          },
          "shapedefaults": {
           "line": {
            "color": "#2a3f5f"
           }
          },
          "ternary": {
           "aaxis": {
            "gridcolor": "white",
            "linecolor": "white",
            "ticks": ""
           },
           "baxis": {
            "gridcolor": "white",
            "linecolor": "white",
            "ticks": ""
           },
           "bgcolor": "#E5ECF6",
           "caxis": {
            "gridcolor": "white",
            "linecolor": "white",
            "ticks": ""
           }
          },
          "title": {
           "x": 0.05
          },
          "xaxis": {
           "automargin": true,
           "gridcolor": "white",
           "linecolor": "white",
           "ticks": "",
           "title": {
            "standoff": 15
           },
           "zerolinecolor": "white",
           "zerolinewidth": 2
          },
          "yaxis": {
           "automargin": true,
           "gridcolor": "white",
           "linecolor": "white",
           "ticks": "",
           "title": {
            "standoff": 15
           },
           "zerolinecolor": "white",
           "zerolinewidth": 2
          }
         }
        },
        "title": {
         "text": "Demo Neuron Mesh"
        },
        "width": 800
       }
      }
     },
     "metadata": {},
     "output_type": "display_data"
    }
   ],
   "source": [
    "# Create a demo neuron mesh\n",
    "neuron = create_demo_neuron_mesh()\n",
    "\n",
    "print(f\"Demo neuron properties:\")\n",
    "print(f\"  Volume: {neuron.volume:.3f}\")\n",
    "print(f\"  Surface area: {neuron.area:.3f}\")\n",
    "print(f\"  Z-bounds: {neuron.bounds[:, 2]}\")\n",
    "print(f\"  Vertices: {len(neuron.vertices)}\")\n",
    "print(f\"  Faces: {len(neuron.faces)}\")\n",
    "\n",
    "# Visualize the original neuron\n",
    "fig = visualize_mesh_3d(neuron, title=\"Demo Neuron Mesh\", backend=\"plotly\")\n",
    "fig.show()"
   ]
  },
  {
   "cell_type": "markdown",
   "id": "bc22d60d",
   "metadata": {},
   "source": [
    "## Segment the Mesh"
   ]
  },
  {
   "cell_type": "code",
   "execution_count": 5,
   "id": "f0a8c44b",
   "metadata": {},
   "outputs": [
    {
     "name": "stdout",
     "output_type": "stream",
     "text": [
      "Segmenting mesh (z: -100.000 to 51.229) into 16 slices\n",
      "    Warning: Slice 12 has 4 fragments, may need merging\n",
      "    Warning: Slice 13 has 4 fragments, may need merging\n",
      "    Warning: Slice 14 has 4 fragments, may need merging\n",
      "    Warning: Slice 15 has 2 fragments, may need merging\n",
      "Created 26 segments across 16 slices\n",
      "Segmentation complete!\n",
      "Total segments: 26\n",
      "Total slices: 16\n"
     ]
    }
   ],
   "source": [
    "# Create segmenter and segment the mesh\n",
    "segmenter = MeshSegmenter()\n",
    "segments = segmenter.segment_mesh(neuron, slice_width=10, min_volume=0.05)\n",
    "\n",
    "print(f\"Segmentation complete!\")\n",
    "print(f\"Total segments: {len(segments)}\")\n",
    "print(f\"Total slices: {len(segmenter.slices)}\")"
   ]
  },
  {
   "cell_type": "markdown",
   "id": "149dad72",
   "metadata": {},
   "source": [
    "## Analyze Segments"
   ]
  },
  {
   "cell_type": "code",
   "execution_count": 7,
   "id": "d2dc438b",
   "metadata": {},
   "outputs": [
    {
     "name": "stdout",
     "output_type": "stream",
     "text": [
      "Segments per slice:\n",
      "  Slice 0: 1 segments\n",
      "  Slice 1: 1 segments\n",
      "  Slice 2: 1 segments\n",
      "  Slice 3: 1 segments\n",
      "  Slice 4: 1 segments\n",
      "  Slice 5: 1 segments\n",
      "  Slice 6: 1 segments\n",
      "  Slice 7: 1 segments\n",
      "  Slice 8: 1 segments\n",
      "  Slice 9: 1 segments\n",
      "  Slice 10: 1 segments\n",
      "  Slice 11: 1 segments\n",
      "  Slice 12: 4 segments\n",
      "    -> Multiple segments detected (due to torus hole)\n",
      "  Slice 13: 4 segments\n",
      "    -> Multiple segments detected (due to torus hole)\n",
      "  Slice 14: 4 segments\n",
      "    -> Multiple segments detected (due to torus hole)\n",
      "  Slice 15: 2 segments\n",
      "    -> Multiple segments detected (due to torus hole)\n",
      "\n",
      "Connected components: 1\n",
      "  Component 1: 26 segments\n",
      "\n",
      "Total volume: 21955.2626\n",
      "Mean segment volume: 844.4332\n"
     ]
    }
   ],
   "source": [
    "# Show segments per slice - should reveal multiple segments in middle slices\n",
    "print(\"Segments per slice:\")\n",
    "for i in range(len(segmenter.slices)):\n",
    "    slice_segments = segmenter.get_segments_in_slice(i)\n",
    "    print(f\"  Slice {i}: {len(slice_segments)} segments\")\n",
    "    if len(slice_segments) > 1:\n",
    "        print(f\"    -> Multiple segments detected (due to torus hole)\")\n",
    "\n",
    "# Analyze connectivity\n",
    "connected_components = segmenter.get_connected_components()\n",
    "print(f\"\\nConnected components: {len(connected_components)}\")\n",
    "for i, component in enumerate(connected_components):\n",
    "    print(f\"  Component {i+1}: {len(component)} segments\")\n",
    "\n",
    "# Get statistics\n",
    "stats = segmenter.compute_segmentation_statistics()\n",
    "print(f\"\\nTotal volume: {stats['volume_stats']['total']:.4f}\")\n",
    "print(f\"Mean segment volume: {stats['volume_stats']['mean']:.4f}\")"
   ]
  },
  {
   "cell_type": "markdown",
   "id": "93760da5",
   "metadata": {},
   "source": [
    "## 3D Connectivity Visualization"
   ]
  },
  {
   "cell_type": "code",
   "execution_count": 8,
   "id": "c3e43954",
   "metadata": {},
   "outputs": [
    {
     "data": {
      "application/vnd.plotly.v1+json": {
       "config": {
        "plotlyServerURL": "https://plot.ly"
       },
       "data": [
        {
         "hoverinfo": "none",
         "line": {
          "color": "gray",
          "width": 2
         },
         "mode": "lines",
         "name": "Connections",
         "type": "scatter3d",
         "x": [
          -5.0296940182329435e-17,
          -1.690023168591439e-17,
          null,
          -1.690023168591439e-17,
          -1.690023168591439e-17,
          null,
          -1.690023168591439e-17,
          -1.690023168591439e-17,
          null,
          -1.690023168591439e-17,
          -1.690023168591439e-17,
          null,
          -1.690023168591439e-17,
          -1.690023168591439e-17,
          null,
          -1.690023168591439e-17,
          -1.690023168591439e-17,
          null,
          -1.690023168591439e-17,
          -1.690023168591439e-17,
          null,
          -1.690023168591439e-17,
          -1.690023168591439e-17,
          null,
          -1.690023168591439e-17,
          -1.3793452783605379e-16,
          null,
          -1.3793452783605379e-16,
          -3.222981170144145e-16,
          null,
          -3.222981170144145e-16,
          -3.8402583276010466e-16,
          null,
          -3.8402583276010466e-16,
          -4.018622288745884,
          null,
          -3.8402583276010466e-16,
          -13.0059765801586,
          null,
          -3.8402583276010466e-16,
          4.018622288745884,
          null,
          -3.8402583276010466e-16,
          13.005976580158594,
          null,
          -4.018622288745884,
          -4.018622288745884,
          null,
          -13.0059765801586,
          -13.0059765801586,
          null,
          4.018622288745884,
          4.018622288745884,
          null,
          13.005976580158594,
          13.005976580158594,
          null,
          -4.018622288745884,
          -4.018444494826668,
          null,
          -13.0059765801586,
          -13.127187286740417,
          null,
          4.018622288745884,
          4.018444494826669,
          null,
          13.005976580158594,
          13.12718728674041,
          null,
          -4.018444494826668,
          -3.893551161068783,
          null,
          4.018444494826669,
          3.8935511610687823,
          null
         ],
         "y": [
          -1.6765646727443146e-17,
          -1.690023168591439e-17,
          null,
          -1.690023168591439e-17,
          -1.690023168591439e-17,
          null,
          -1.690023168591439e-17,
          -1.690023168591439e-17,
          null,
          -1.690023168591439e-17,
          -1.690023168591439e-17,
          null,
          -1.690023168591439e-17,
          -1.690023168591439e-17,
          null,
          -1.690023168591439e-17,
          -1.690023168591439e-17,
          null,
          -1.690023168591439e-17,
          -1.690023168591439e-17,
          null,
          -1.690023168591439e-17,
          -1.690023168591439e-17,
          null,
          -1.690023168591439e-17,
          -2.869928079169506e-16,
          null,
          -2.869928079169506e-16,
          -4.4063400661736147e-16,
          null,
          -4.4063400661736147e-16,
          -1.3086332175955594e-15,
          null,
          -1.3086332175955594e-15,
          13.001048317124988,
          null,
          -1.3086332175955594e-15,
          -4.0188792996524025,
          null,
          -1.3086332175955594e-15,
          -13.00104831712499,
          null,
          -1.3086332175955594e-15,
          4.018879299652401,
          null,
          13.001048317124988,
          13.001048317124988,
          null,
          -4.0188792996524025,
          -4.0188792996524025,
          null,
          -13.00104831712499,
          -13.00104831712499,
          null,
          4.018879299652401,
          4.018879299652401,
          null,
          13.001048317124988,
          13.122260558025733,
          null,
          -4.0188792996524025,
          -4.018698984241508,
          null,
          -13.00104831712499,
          -13.122260558025733,
          null,
          4.018879299652401,
          4.018698984241507,
          null,
          13.122260558025733,
          13.043512981049949,
          null,
          -13.122260558025733,
          -13.043512981049949,
          null
         ],
         "z": [
          -55.236247244235486,
          -54.876909611539794,
          null,
          -54.876909611539794,
          -54.876909611539794,
          null,
          -54.876909611539794,
          -54.876909611539794,
          null,
          -54.876909611539794,
          -54.876909611539794,
          null,
          -54.876909611539794,
          -54.876909611539794,
          null,
          -54.876909611539794,
          -54.876909611539794,
          null,
          -54.876909611539794,
          -54.876909611539794,
          null,
          -54.876909611539794,
          -54.876909611539794,
          null,
          -54.876909611539794,
          -30.65186695327122,
          null,
          -30.65186695327122,
          23.43261660639438,
          null,
          23.43261660639438,
          29.314757763238152,
          null,
          29.314757763238152,
          29.47974890819239,
          null,
          29.314757763238152,
          29.487445275887225,
          null,
          29.314757763238152,
          29.47974890819239,
          null,
          29.314757763238152,
          29.487445275887215,
          null,
          29.47974890819239,
          29.47974890819239,
          null,
          29.487445275887225,
          29.487445275887225,
          null,
          29.47974890819239,
          29.47974890819239,
          null,
          29.487445275887215,
          29.487445275887215,
          null,
          29.47974890819239,
          29.674012677415714,
          null,
          29.487445275887225,
          29.681708515713805,
          null,
          29.47974890819239,
          29.674012677415714,
          null,
          29.487445275887215,
          29.681708515713797,
          null,
          29.674012677415714,
          30.934246276865494,
          null,
          29.674012677415714,
          30.934246276865498,
          null
         ]
        },
        {
         "customdata": [
          609.2186578309446,
          609.2186578309446,
          609.2186578309446,
          609.2186578309446,
          609.2186578309446,
          609.2186578309446,
          609.2186578309446,
          609.2186578309446,
          609.2186578309446,
          3316.264337340261,
          4587.069656194774,
          1936.5910007951413,
          564.4924873966089,
          402.1353229111533,
          564.492487396609,
          402.1353229111533,
          564.4924873966089,
          402.1353229111533,
          564.492487396609,
          402.1353229111533,
          564.4924877660661,
          474.8172389002371,
          564.4924877660661,
          474.8172389002371,
          343.6194918234059,
          343.6194918234059
         ],
         "hovertemplate": "<b>%{text}</b><br>X: %{x:.2f}<br>Y: %{y:.2f}<br>Z: %{z:.2f}<br>Volume: %{customdata:.4f}<extra></extra>",
         "marker": {
          "color": [
           0,
           1,
           2,
           3,
           4,
           5,
           6,
           7,
           8,
           9,
           10,
           11,
           12,
           12,
           12,
           12,
           13,
           13,
           13,
           13,
           14,
           14,
           14,
           14,
           15,
           15
          ],
          "colorbar": {
           "title": {
            "text": "Slice Index"
           }
          },
          "colorscale": [
           [
            0,
            "#440154"
           ],
           [
            0.1111111111111111,
            "#482878"
           ],
           [
            0.2222222222222222,
            "#3e4989"
           ],
           [
            0.3333333333333333,
            "#31688e"
           ],
           [
            0.4444444444444444,
            "#26828e"
           ],
           [
            0.5555555555555556,
            "#1f9e89"
           ],
           [
            0.6666666666666666,
            "#35b779"
           ],
           [
            0.7777777777777778,
            "#6ece58"
           ],
           [
            0.8888888888888888,
            "#b5de2b"
           ],
           [
            1,
            "#fde725"
           ]
          ],
          "line": {
           "color": "black",
           "width": 1
          },
          "showscale": true,
          "size": [
           5.938855727248367,
           5.938855727248367,
           5.938855727248367,
           5.938855727248367,
           5.938855727248367,
           5.938855727248367,
           5.938855727248367,
           5.938855727248367,
           5.938855727248367,
           15.507881783821635,
           20,
           10.630930424303878,
           5.780755000121193,
           5.206845239679217,
           5.780755000121194,
           5.206845239679217,
           5.780755000121193,
           5.206845239679217,
           5.780755000121194,
           5.206845239679217,
           5.780755001427172,
           5.463765598728083,
           5.780755001427172,
           5.463765598728083,
           5,
           5
          ]
         },
         "mode": "markers+text",
         "name": "Segments",
         "text": [
          "S0.0",
          "S1.0",
          "S2.0",
          "S3.0",
          "S4.0",
          "S5.0",
          "S6.0",
          "S7.0",
          "S8.0",
          "S9.0",
          "S10.0",
          "S11.0",
          "S12.0",
          "S12.1",
          "S12.2",
          "S12.3",
          "S13.0",
          "S13.1",
          "S13.2",
          "S13.3",
          "S14.0",
          "S14.1",
          "S14.2",
          "S14.3",
          "S15.0",
          "S15.2"
         ],
         "textfont": {
          "color": "white",
          "size": 8
         },
         "textposition": "middle center",
         "type": "scatter3d",
         "x": {
          "bdata": "oX4SrYT+jLyFxRRnEXxzvIXFFGcRfHO8hcUUZxF8c7yFxRRnEXxzvIXFFGcRfHO8hcUUZxF8c7yFxRRnEXxzvIXFFGcRfHO8YBY8yOLgo7xqm0XTWTm3vEVpn7gGrLu8m4+kuBETEMBvpcBcDwMqwJuPpLgRExBAa6XAXA8DKkCbj6S4ERMQwG+lwFwPAyrAm4+kuBETEEBrpcBcDwMqQIFJGB3jEhDAvQgqsR5BKsCCSRgd4xIQQLkIKrEeQSpA+76wJv4lD8D5vrAm/iUPQA==",
          "dtype": "f8"
         },
         "y": {
          "bdata": "walhc1hUc7yFxRRnEXxzvIXFFGcRfHO8hcUUZxF8c7yFxRRnEXxzvIXFFGcRfHO8hcUUZxF8c7yFxRRnEXxzvIXFFGcRfHO8NtWINxWutLy+l5lDQ8C/vGgGSmkBk9e8C4mvZ4kAKkBWUFoYVRMQwAyJr2eJACrAVFBaGFUTEEALia9niQAqQFZQWhhVExDADImvZ4kAKsBUUFoYVRMQQFqflO+YPipAjiSX0yUTEMBan5TvmD4qwIwkl9MlExBAOx9dVUcWKkA7H11VRxYqwA==",
          "dtype": "f8"
         },
         "z": {
          "bdata": "euGFWT2eS8BFjvuSPnBLwEWO+5I+cEvARY77kj5wS8BFjvuSPnBLwEWO+5I+cEvARY77kj5wS8BFjvuSPnBLwEWO+5I+cEvAn6StwOCmPsCdK0D2v243QB1F+/aTUD1AYPoO09B6PUB8hq42yXw9QGD6DtPQej1AeYauNsl8PUBg+g7T0Ho9QHyGrjbJfD1AYPoO09B6PUB5hq42yXw9QAOXRhiMrD1AP2UEc4SuPUADl0YYjKw9QD1lBHOErj1ADIyVwyrvPkANjJXDKu8+QA==",
          "dtype": "f8"
         }
        }
       ],
       "layout": {
        "height": 600,
        "scene": {
         "aspectmode": "data",
         "camera": {
          "eye": {
           "x": 1.5,
           "y": 1.5,
           "z": 1.5
          }
         },
         "xaxis": {
          "title": {
           "text": "X (μm)"
          }
         },
         "yaxis": {
          "title": {
           "text": "Y (μm)"
          }
         },
         "zaxis": {
          "title": {
           "text": "Z (μm)"
          }
         }
        },
        "showlegend": true,
        "template": {
         "data": {
          "bar": [
           {
            "error_x": {
             "color": "#2a3f5f"
            },
            "error_y": {
             "color": "#2a3f5f"
            },
            "marker": {
             "line": {
              "color": "#E5ECF6",
              "width": 0.5
             },
             "pattern": {
              "fillmode": "overlay",
              "size": 10,
              "solidity": 0.2
             }
            },
            "type": "bar"
           }
          ],
          "barpolar": [
           {
            "marker": {
             "line": {
              "color": "#E5ECF6",
              "width": 0.5
             },
             "pattern": {
              "fillmode": "overlay",
              "size": 10,
              "solidity": 0.2
             }
            },
            "type": "barpolar"
           }
          ],
          "carpet": [
           {
            "aaxis": {
             "endlinecolor": "#2a3f5f",
             "gridcolor": "white",
             "linecolor": "white",
             "minorgridcolor": "white",
             "startlinecolor": "#2a3f5f"
            },
            "baxis": {
             "endlinecolor": "#2a3f5f",
             "gridcolor": "white",
             "linecolor": "white",
             "minorgridcolor": "white",
             "startlinecolor": "#2a3f5f"
            },
            "type": "carpet"
           }
          ],
          "choropleth": [
           {
            "colorbar": {
             "outlinewidth": 0,
             "ticks": ""
            },
            "type": "choropleth"
           }
          ],
          "contour": [
           {
            "colorbar": {
             "outlinewidth": 0,
             "ticks": ""
            },
            "colorscale": [
             [
              0,
              "#0d0887"
             ],
             [
              0.1111111111111111,
              "#46039f"
             ],
             [
              0.2222222222222222,
              "#7201a8"
             ],
             [
              0.3333333333333333,
              "#9c179e"
             ],
             [
              0.4444444444444444,
              "#bd3786"
             ],
             [
              0.5555555555555556,
              "#d8576b"
             ],
             [
              0.6666666666666666,
              "#ed7953"
             ],
             [
              0.7777777777777778,
              "#fb9f3a"
             ],
             [
              0.8888888888888888,
              "#fdca26"
             ],
             [
              1,
              "#f0f921"
             ]
            ],
            "type": "contour"
           }
          ],
          "contourcarpet": [
           {
            "colorbar": {
             "outlinewidth": 0,
             "ticks": ""
            },
            "type": "contourcarpet"
           }
          ],
          "heatmap": [
           {
            "colorbar": {
             "outlinewidth": 0,
             "ticks": ""
            },
            "colorscale": [
             [
              0,
              "#0d0887"
             ],
             [
              0.1111111111111111,
              "#46039f"
             ],
             [
              0.2222222222222222,
              "#7201a8"
             ],
             [
              0.3333333333333333,
              "#9c179e"
             ],
             [
              0.4444444444444444,
              "#bd3786"
             ],
             [
              0.5555555555555556,
              "#d8576b"
             ],
             [
              0.6666666666666666,
              "#ed7953"
             ],
             [
              0.7777777777777778,
              "#fb9f3a"
             ],
             [
              0.8888888888888888,
              "#fdca26"
             ],
             [
              1,
              "#f0f921"
             ]
            ],
            "type": "heatmap"
           }
          ],
          "histogram": [
           {
            "marker": {
             "pattern": {
              "fillmode": "overlay",
              "size": 10,
              "solidity": 0.2
             }
            },
            "type": "histogram"
           }
          ],
          "histogram2d": [
           {
            "colorbar": {
             "outlinewidth": 0,
             "ticks": ""
            },
            "colorscale": [
             [
              0,
              "#0d0887"
             ],
             [
              0.1111111111111111,
              "#46039f"
             ],
             [
              0.2222222222222222,
              "#7201a8"
             ],
             [
              0.3333333333333333,
              "#9c179e"
             ],
             [
              0.4444444444444444,
              "#bd3786"
             ],
             [
              0.5555555555555556,
              "#d8576b"
             ],
             [
              0.6666666666666666,
              "#ed7953"
             ],
             [
              0.7777777777777778,
              "#fb9f3a"
             ],
             [
              0.8888888888888888,
              "#fdca26"
             ],
             [
              1,
              "#f0f921"
             ]
            ],
            "type": "histogram2d"
           }
          ],
          "histogram2dcontour": [
           {
            "colorbar": {
             "outlinewidth": 0,
             "ticks": ""
            },
            "colorscale": [
             [
              0,
              "#0d0887"
             ],
             [
              0.1111111111111111,
              "#46039f"
             ],
             [
              0.2222222222222222,
              "#7201a8"
             ],
             [
              0.3333333333333333,
              "#9c179e"
             ],
             [
              0.4444444444444444,
              "#bd3786"
             ],
             [
              0.5555555555555556,
              "#d8576b"
             ],
             [
              0.6666666666666666,
              "#ed7953"
             ],
             [
              0.7777777777777778,
              "#fb9f3a"
             ],
             [
              0.8888888888888888,
              "#fdca26"
             ],
             [
              1,
              "#f0f921"
             ]
            ],
            "type": "histogram2dcontour"
           }
          ],
          "mesh3d": [
           {
            "colorbar": {
             "outlinewidth": 0,
             "ticks": ""
            },
            "type": "mesh3d"
           }
          ],
          "parcoords": [
           {
            "line": {
             "colorbar": {
              "outlinewidth": 0,
              "ticks": ""
             }
            },
            "type": "parcoords"
           }
          ],
          "pie": [
           {
            "automargin": true,
            "type": "pie"
           }
          ],
          "scatter": [
           {
            "fillpattern": {
             "fillmode": "overlay",
             "size": 10,
             "solidity": 0.2
            },
            "type": "scatter"
           }
          ],
          "scatter3d": [
           {
            "line": {
             "colorbar": {
              "outlinewidth": 0,
              "ticks": ""
             }
            },
            "marker": {
             "colorbar": {
              "outlinewidth": 0,
              "ticks": ""
             }
            },
            "type": "scatter3d"
           }
          ],
          "scattercarpet": [
           {
            "marker": {
             "colorbar": {
              "outlinewidth": 0,
              "ticks": ""
             }
            },
            "type": "scattercarpet"
           }
          ],
          "scattergeo": [
           {
            "marker": {
             "colorbar": {
              "outlinewidth": 0,
              "ticks": ""
             }
            },
            "type": "scattergeo"
           }
          ],
          "scattergl": [
           {
            "marker": {
             "colorbar": {
              "outlinewidth": 0,
              "ticks": ""
             }
            },
            "type": "scattergl"
           }
          ],
          "scattermap": [
           {
            "marker": {
             "colorbar": {
              "outlinewidth": 0,
              "ticks": ""
             }
            },
            "type": "scattermap"
           }
          ],
          "scattermapbox": [
           {
            "marker": {
             "colorbar": {
              "outlinewidth": 0,
              "ticks": ""
             }
            },
            "type": "scattermapbox"
           }
          ],
          "scatterpolar": [
           {
            "marker": {
             "colorbar": {
              "outlinewidth": 0,
              "ticks": ""
             }
            },
            "type": "scatterpolar"
           }
          ],
          "scatterpolargl": [
           {
            "marker": {
             "colorbar": {
              "outlinewidth": 0,
              "ticks": ""
             }
            },
            "type": "scatterpolargl"
           }
          ],
          "scatterternary": [
           {
            "marker": {
             "colorbar": {
              "outlinewidth": 0,
              "ticks": ""
             }
            },
            "type": "scatterternary"
           }
          ],
          "surface": [
           {
            "colorbar": {
             "outlinewidth": 0,
             "ticks": ""
            },
            "colorscale": [
             [
              0,
              "#0d0887"
             ],
             [
              0.1111111111111111,
              "#46039f"
             ],
             [
              0.2222222222222222,
              "#7201a8"
             ],
             [
              0.3333333333333333,
              "#9c179e"
             ],
             [
              0.4444444444444444,
              "#bd3786"
             ],
             [
              0.5555555555555556,
              "#d8576b"
             ],
             [
              0.6666666666666666,
              "#ed7953"
             ],
             [
              0.7777777777777778,
              "#fb9f3a"
             ],
             [
              0.8888888888888888,
              "#fdca26"
             ],
             [
              1,
              "#f0f921"
             ]
            ],
            "type": "surface"
           }
          ],
          "table": [
           {
            "cells": {
             "fill": {
              "color": "#EBF0F8"
             },
             "line": {
              "color": "white"
             }
            },
            "header": {
             "fill": {
              "color": "#C8D4E3"
             },
             "line": {
              "color": "white"
             }
            },
            "type": "table"
           }
          ]
         },
         "layout": {
          "annotationdefaults": {
           "arrowcolor": "#2a3f5f",
           "arrowhead": 0,
           "arrowwidth": 1
          },
          "autotypenumbers": "strict",
          "coloraxis": {
           "colorbar": {
            "outlinewidth": 0,
            "ticks": ""
           }
          },
          "colorscale": {
           "diverging": [
            [
             0,
             "#8e0152"
            ],
            [
             0.1,
             "#c51b7d"
            ],
            [
             0.2,
             "#de77ae"
            ],
            [
             0.3,
             "#f1b6da"
            ],
            [
             0.4,
             "#fde0ef"
            ],
            [
             0.5,
             "#f7f7f7"
            ],
            [
             0.6,
             "#e6f5d0"
            ],
            [
             0.7,
             "#b8e186"
            ],
            [
             0.8,
             "#7fbc41"
            ],
            [
             0.9,
             "#4d9221"
            ],
            [
             1,
             "#276419"
            ]
           ],
           "sequential": [
            [
             0,
             "#0d0887"
            ],
            [
             0.1111111111111111,
             "#46039f"
            ],
            [
             0.2222222222222222,
             "#7201a8"
            ],
            [
             0.3333333333333333,
             "#9c179e"
            ],
            [
             0.4444444444444444,
             "#bd3786"
            ],
            [
             0.5555555555555556,
             "#d8576b"
            ],
            [
             0.6666666666666666,
             "#ed7953"
            ],
            [
             0.7777777777777778,
             "#fb9f3a"
            ],
            [
             0.8888888888888888,
             "#fdca26"
            ],
            [
             1,
             "#f0f921"
            ]
           ],
           "sequentialminus": [
            [
             0,
             "#0d0887"
            ],
            [
             0.1111111111111111,
             "#46039f"
            ],
            [
             0.2222222222222222,
             "#7201a8"
            ],
            [
             0.3333333333333333,
             "#9c179e"
            ],
            [
             0.4444444444444444,
             "#bd3786"
            ],
            [
             0.5555555555555556,
             "#d8576b"
            ],
            [
             0.6666666666666666,
             "#ed7953"
            ],
            [
             0.7777777777777778,
             "#fb9f3a"
            ],
            [
             0.8888888888888888,
             "#fdca26"
            ],
            [
             1,
             "#f0f921"
            ]
           ]
          },
          "colorway": [
           "#636efa",
           "#EF553B",
           "#00cc96",
           "#ab63fa",
           "#FFA15A",
           "#19d3f3",
           "#FF6692",
           "#B6E880",
           "#FF97FF",
           "#FECB52"
          ],
          "font": {
           "color": "#2a3f5f"
          },
          "geo": {
           "bgcolor": "white",
           "lakecolor": "white",
           "landcolor": "#E5ECF6",
           "showlakes": true,
           "showland": true,
           "subunitcolor": "white"
          },
          "hoverlabel": {
           "align": "left"
          },
          "hovermode": "closest",
          "mapbox": {
           "style": "light"
          },
          "paper_bgcolor": "white",
          "plot_bgcolor": "#E5ECF6",
          "polar": {
           "angularaxis": {
            "gridcolor": "white",
            "linecolor": "white",
            "ticks": ""
           },
           "bgcolor": "#E5ECF6",
           "radialaxis": {
            "gridcolor": "white",
            "linecolor": "white",
            "ticks": ""
           }
          },
          "scene": {
           "xaxis": {
            "backgroundcolor": "#E5ECF6",
            "gridcolor": "white",
            "gridwidth": 2,
            "linecolor": "white",
            "showbackground": true,
            "ticks": "",
            "zerolinecolor": "white"
           },
           "yaxis": {
            "backgroundcolor": "#E5ECF6",
            "gridcolor": "white",
            "gridwidth": 2,
            "linecolor": "white",
            "showbackground": true,
            "ticks": "",
            "zerolinecolor": "white"
           },
           "zaxis": {
            "backgroundcolor": "#E5ECF6",
            "gridcolor": "white",
            "gridwidth": 2,
            "linecolor": "white",
            "showbackground": true,
            "ticks": "",
            "zerolinecolor": "white"
           }
          },
          "shapedefaults": {
           "line": {
            "color": "#2a3f5f"
           }
          },
          "ternary": {
           "aaxis": {
            "gridcolor": "white",
            "linecolor": "white",
            "ticks": ""
           },
           "baxis": {
            "gridcolor": "white",
            "linecolor": "white",
            "ticks": ""
           },
           "bgcolor": "#E5ECF6",
           "caxis": {
            "gridcolor": "white",
            "linecolor": "white",
            "ticks": ""
           }
          },
          "title": {
           "x": 0.05
          },
          "xaxis": {
           "automargin": true,
           "gridcolor": "white",
           "linecolor": "white",
           "ticks": "",
           "title": {
            "standoff": 15
           },
           "zerolinecolor": "white",
           "zerolinewidth": 2
          },
          "yaxis": {
           "automargin": true,
           "gridcolor": "white",
           "linecolor": "white",
           "ticks": "",
           "title": {
            "standoff": 15
           },
           "zerolinecolor": "white",
           "zerolinewidth": 2
          }
         }
        },
        "title": {
         "text": "3D Segment Connectivity Graph"
        },
        "width": 800
       }
      }
     },
     "metadata": {},
     "output_type": "display_data"
    }
   ],
   "source": [
    "# Visualize connectivity in 3D space - should show tree-like branching structure\n",
    "segmenter.visualize_connectivity_graph_3d(backend=\"plotly\")"
   ]
  },
  {
   "cell_type": "markdown",
   "id": "747889af",
   "metadata": {},
   "source": [
    "## Summary\n",
    "\n",
    "The demo neuron segmentation demonstrates:\n",
    "- **Complex branching**: Multiple dendrites and branches create varied segment patterns per slice\n",
    "- **Tree topology**: Segments form a branching tree structure in 3D space\n",
    "- **Realistic neuron features**: Cell body, dendrites, and axonal structures\n",
    "- **Topological analysis**: Identification of branch points, terminals, and linear segments\n",
    "\n",
    "This showcases the algorithm's ability to handle realistic neuronal morphologies for compartmental modeling."
   ]
  }
 ],
 "metadata": {
  "kernelspec": {
   "display_name": "gencomo",
   "language": "python",
   "name": "python3"
  },
  "language_info": {
   "codemirror_mode": {
    "name": "ipython",
    "version": 3
   },
   "file_extension": ".py",
   "mimetype": "text/x-python",
   "name": "python",
   "nbconvert_exporter": "python",
   "pygments_lexer": "ipython3",
   "version": "3.11.4"
  }
 },
 "nbformat": 4,
 "nbformat_minor": 5
}
