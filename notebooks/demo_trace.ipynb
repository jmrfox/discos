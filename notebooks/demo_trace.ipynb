{
 "cells": [
  {
   "cell_type": "code",
   "execution_count": 1,
   "id": "c367e810",
   "metadata": {},
   "outputs": [
    {
     "data": {
      "application/vnd.plotly.v1+json": {
       "config": {
        "plotlyServerURL": "https://plot.ly"
       },
       "data": [
        {
         "color": "lightblue",
         "i": {
          "bdata": "AQECAgQEBQUGBgcHCAgJCQoKCwsMDA0NDg4PDxAQERESEhMTFBQVFRYWFxcYGBkZGhobGxwcHR0eHh8fICAhIQ==",
          "dtype": "i1"
         },
         "j": {
          "bdata": "AAQEBQAGBgcACAgJAAoKCwAMDA0ADg4PABAQEQASEhMAFBQVABYWFwAYGBkAGhobABwcHQAeHh8AICAhAAEBAg==",
          "dtype": "i1"
         },
         "k": {
          "bdata": "BAIFAwYFBwMIBwkDCgkLAwwLDQMODQ8DEA8RAxIREwMUExUDFhUXAxgXGQMaGRsDHBsdAx4dHwMgHyEDASECAw==",
          "dtype": "i1"
         },
         "name": "Mesh",
         "opacity": 0.8,
         "type": "mesh3d",
         "x": {
          "bdata": "AAAAAAAAAAAAAAAAAAAUQAAAAAAAABRAAAAAAAAAAAD7rFNhQ3oSQPusU2FDehJAxMqqAMZIDEDEyqoAxkgMQBni3E9bnf4/GeLcT1ud/j8AAAAAAAAAAAAAAAAAAAAAGeLcT1ud/r8Z4txPW53+v8TKqgDGSAzAxMqqAMZIDMD7rFNhQ3oSwPusU2FDehLAAAAAAAAAFMAAAAAAAAAUwPusU2FDehLA+6xTYUN6EsDEyqoAxkgMwMTKqgDGSAzAGeLcT1ud/r8Z4txPW53+vwAAAAAAAACAAAAAAAAAAIAZ4txPW53+Pxni3E9bnf4/xMqqAMZIDEDEyqoAxkgMQPusU2FDehJA+6xTYUN6EkA=",
          "dtype": "f8"
         },
         "y": {
          "bdata": "AAAAAAAAAAAAAAAAAAAAAAAAAAAAAAAAAAAAAAAAAAAZ4txPW53+Pxni3E9bnf4/xMqqAMZIDEDEyqoAxkgMQPusU2FDehJA+6xTYUN6EkAAAAAAAAAUQAAAAAAAABRA+6xTYUN6EkD7rFNhQ3oSQMTKqgDGSAxAxMqqAMZIDEAZ4txPW53+Pxni3E9bnf4/AAAAAAAAAAAAAAAAAAAAABni3E9bnf6/GeLcT1ud/r/EyqoAxkgMwMTKqgDGSAzA+6xTYUN6EsD7rFNhQ3oSwAAAAAAAABTAAAAAAAAAFMD7rFNhQ3oSwPusU2FDehLAxMqqAMZIDMDEyqoAxkgMwBni3E9bnf6/GeLcT1ud/r8=",
          "dtype": "f8"
         },
         "z": {
          "bdata": "AAAAAAAAScAAAAAAAABJwAAAAAAAAElAAAAAAAAASUAAAAAAAABJwAAAAAAAAElAAAAAAAAAScAAAAAAAABJQAAAAAAAAEnAAAAAAAAASUAAAAAAAABJwAAAAAAAAElAAAAAAAAAScAAAAAAAABJQAAAAAAAAEnAAAAAAAAASUAAAAAAAABJwAAAAAAAAElAAAAAAAAAScAAAAAAAABJQAAAAAAAAEnAAAAAAAAASUAAAAAAAABJwAAAAAAAAElAAAAAAAAAScAAAAAAAABJQAAAAAAAAEnAAAAAAAAASUAAAAAAAABJwAAAAAAAAElAAAAAAAAAScAAAAAAAABJQAAAAAAAAEnAAAAAAAAASUA=",
          "dtype": "f8"
         }
        },
        {
         "line": {
          "color": "crimson",
          "width": 3
         },
         "mode": "lines",
         "name": "Polyline 0",
         "opacity": 0.95,
         "showlegend": false,
         "type": "scatter3d",
         "x": {
          "bdata": "0lTuD1H7xz8WFoKTOtfHPw==",
          "dtype": "f8"
         },
         "y": {
          "bdata": "8yXyczn8x79iJZHOz9jHvw==",
          "dtype": "f8"
         },
         "z": {
          "bdata": "lqzm/STYSMC45jFKhRlCQA==",
          "dtype": "f8"
         }
        }
       ],
       "layout": {
        "autosize": false,
        "height": 600,
        "scene": {
         "aspectmode": "data",
         "xaxis": {
          "visible": true
         },
         "yaxis": {
          "visible": true
         },
         "zaxis": {
          "visible": true
         }
        },
        "template": {
         "data": {
          "bar": [
           {
            "error_x": {
             "color": "#2a3f5f"
            },
            "error_y": {
             "color": "#2a3f5f"
            },
            "marker": {
             "line": {
              "color": "#E5ECF6",
              "width": 0.5
             },
             "pattern": {
              "fillmode": "overlay",
              "size": 10,
              "solidity": 0.2
             }
            },
            "type": "bar"
           }
          ],
          "barpolar": [
           {
            "marker": {
             "line": {
              "color": "#E5ECF6",
              "width": 0.5
             },
             "pattern": {
              "fillmode": "overlay",
              "size": 10,
              "solidity": 0.2
             }
            },
            "type": "barpolar"
           }
          ],
          "carpet": [
           {
            "aaxis": {
             "endlinecolor": "#2a3f5f",
             "gridcolor": "white",
             "linecolor": "white",
             "minorgridcolor": "white",
             "startlinecolor": "#2a3f5f"
            },
            "baxis": {
             "endlinecolor": "#2a3f5f",
             "gridcolor": "white",
             "linecolor": "white",
             "minorgridcolor": "white",
             "startlinecolor": "#2a3f5f"
            },
            "type": "carpet"
           }
          ],
          "choropleth": [
           {
            "colorbar": {
             "outlinewidth": 0,
             "ticks": ""
            },
            "type": "choropleth"
           }
          ],
          "contour": [
           {
            "colorbar": {
             "outlinewidth": 0,
             "ticks": ""
            },
            "colorscale": [
             [
              0,
              "#0d0887"
             ],
             [
              0.1111111111111111,
              "#46039f"
             ],
             [
              0.2222222222222222,
              "#7201a8"
             ],
             [
              0.3333333333333333,
              "#9c179e"
             ],
             [
              0.4444444444444444,
              "#bd3786"
             ],
             [
              0.5555555555555556,
              "#d8576b"
             ],
             [
              0.6666666666666666,
              "#ed7953"
             ],
             [
              0.7777777777777778,
              "#fb9f3a"
             ],
             [
              0.8888888888888888,
              "#fdca26"
             ],
             [
              1,
              "#f0f921"
             ]
            ],
            "type": "contour"
           }
          ],
          "contourcarpet": [
           {
            "colorbar": {
             "outlinewidth": 0,
             "ticks": ""
            },
            "type": "contourcarpet"
           }
          ],
          "heatmap": [
           {
            "colorbar": {
             "outlinewidth": 0,
             "ticks": ""
            },
            "colorscale": [
             [
              0,
              "#0d0887"
             ],
             [
              0.1111111111111111,
              "#46039f"
             ],
             [
              0.2222222222222222,
              "#7201a8"
             ],
             [
              0.3333333333333333,
              "#9c179e"
             ],
             [
              0.4444444444444444,
              "#bd3786"
             ],
             [
              0.5555555555555556,
              "#d8576b"
             ],
             [
              0.6666666666666666,
              "#ed7953"
             ],
             [
              0.7777777777777778,
              "#fb9f3a"
             ],
             [
              0.8888888888888888,
              "#fdca26"
             ],
             [
              1,
              "#f0f921"
             ]
            ],
            "type": "heatmap"
           }
          ],
          "histogram": [
           {
            "marker": {
             "pattern": {
              "fillmode": "overlay",
              "size": 10,
              "solidity": 0.2
             }
            },
            "type": "histogram"
           }
          ],
          "histogram2d": [
           {
            "colorbar": {
             "outlinewidth": 0,
             "ticks": ""
            },
            "colorscale": [
             [
              0,
              "#0d0887"
             ],
             [
              0.1111111111111111,
              "#46039f"
             ],
             [
              0.2222222222222222,
              "#7201a8"
             ],
             [
              0.3333333333333333,
              "#9c179e"
             ],
             [
              0.4444444444444444,
              "#bd3786"
             ],
             [
              0.5555555555555556,
              "#d8576b"
             ],
             [
              0.6666666666666666,
              "#ed7953"
             ],
             [
              0.7777777777777778,
              "#fb9f3a"
             ],
             [
              0.8888888888888888,
              "#fdca26"
             ],
             [
              1,
              "#f0f921"
             ]
            ],
            "type": "histogram2d"
           }
          ],
          "histogram2dcontour": [
           {
            "colorbar": {
             "outlinewidth": 0,
             "ticks": ""
            },
            "colorscale": [
             [
              0,
              "#0d0887"
             ],
             [
              0.1111111111111111,
              "#46039f"
             ],
             [
              0.2222222222222222,
              "#7201a8"
             ],
             [
              0.3333333333333333,
              "#9c179e"
             ],
             [
              0.4444444444444444,
              "#bd3786"
             ],
             [
              0.5555555555555556,
              "#d8576b"
             ],
             [
              0.6666666666666666,
              "#ed7953"
             ],
             [
              0.7777777777777778,
              "#fb9f3a"
             ],
             [
              0.8888888888888888,
              "#fdca26"
             ],
             [
              1,
              "#f0f921"
             ]
            ],
            "type": "histogram2dcontour"
           }
          ],
          "mesh3d": [
           {
            "colorbar": {
             "outlinewidth": 0,
             "ticks": ""
            },
            "type": "mesh3d"
           }
          ],
          "parcoords": [
           {
            "line": {
             "colorbar": {
              "outlinewidth": 0,
              "ticks": ""
             }
            },
            "type": "parcoords"
           }
          ],
          "pie": [
           {
            "automargin": true,
            "type": "pie"
           }
          ],
          "scatter": [
           {
            "fillpattern": {
             "fillmode": "overlay",
             "size": 10,
             "solidity": 0.2
            },
            "type": "scatter"
           }
          ],
          "scatter3d": [
           {
            "line": {
             "colorbar": {
              "outlinewidth": 0,
              "ticks": ""
             }
            },
            "marker": {
             "colorbar": {
              "outlinewidth": 0,
              "ticks": ""
             }
            },
            "type": "scatter3d"
           }
          ],
          "scattercarpet": [
           {
            "marker": {
             "colorbar": {
              "outlinewidth": 0,
              "ticks": ""
             }
            },
            "type": "scattercarpet"
           }
          ],
          "scattergeo": [
           {
            "marker": {
             "colorbar": {
              "outlinewidth": 0,
              "ticks": ""
             }
            },
            "type": "scattergeo"
           }
          ],
          "scattergl": [
           {
            "marker": {
             "colorbar": {
              "outlinewidth": 0,
              "ticks": ""
             }
            },
            "type": "scattergl"
           }
          ],
          "scattermap": [
           {
            "marker": {
             "colorbar": {
              "outlinewidth": 0,
              "ticks": ""
             }
            },
            "type": "scattermap"
           }
          ],
          "scattermapbox": [
           {
            "marker": {
             "colorbar": {
              "outlinewidth": 0,
              "ticks": ""
             }
            },
            "type": "scattermapbox"
           }
          ],
          "scatterpolar": [
           {
            "marker": {
             "colorbar": {
              "outlinewidth": 0,
              "ticks": ""
             }
            },
            "type": "scatterpolar"
           }
          ],
          "scatterpolargl": [
           {
            "marker": {
             "colorbar": {
              "outlinewidth": 0,
              "ticks": ""
             }
            },
            "type": "scatterpolargl"
           }
          ],
          "scatterternary": [
           {
            "marker": {
             "colorbar": {
              "outlinewidth": 0,
              "ticks": ""
             }
            },
            "type": "scatterternary"
           }
          ],
          "surface": [
           {
            "colorbar": {
             "outlinewidth": 0,
             "ticks": ""
            },
            "colorscale": [
             [
              0,
              "#0d0887"
             ],
             [
              0.1111111111111111,
              "#46039f"
             ],
             [
              0.2222222222222222,
              "#7201a8"
             ],
             [
              0.3333333333333333,
              "#9c179e"
             ],
             [
              0.4444444444444444,
              "#bd3786"
             ],
             [
              0.5555555555555556,
              "#d8576b"
             ],
             [
              0.6666666666666666,
              "#ed7953"
             ],
             [
              0.7777777777777778,
              "#fb9f3a"
             ],
             [
              0.8888888888888888,
              "#fdca26"
             ],
             [
              1,
              "#f0f921"
             ]
            ],
            "type": "surface"
           }
          ],
          "table": [
           {
            "cells": {
             "fill": {
              "color": "#EBF0F8"
             },
             "line": {
              "color": "white"
             }
            },
            "header": {
             "fill": {
              "color": "#C8D4E3"
             },
             "line": {
              "color": "white"
             }
            },
            "type": "table"
           }
          ]
         },
         "layout": {
          "annotationdefaults": {
           "arrowcolor": "#2a3f5f",
           "arrowhead": 0,
           "arrowwidth": 1
          },
          "autotypenumbers": "strict",
          "coloraxis": {
           "colorbar": {
            "outlinewidth": 0,
            "ticks": ""
           }
          },
          "colorscale": {
           "diverging": [
            [
             0,
             "#8e0152"
            ],
            [
             0.1,
             "#c51b7d"
            ],
            [
             0.2,
             "#de77ae"
            ],
            [
             0.3,
             "#f1b6da"
            ],
            [
             0.4,
             "#fde0ef"
            ],
            [
             0.5,
             "#f7f7f7"
            ],
            [
             0.6,
             "#e6f5d0"
            ],
            [
             0.7,
             "#b8e186"
            ],
            [
             0.8,
             "#7fbc41"
            ],
            [
             0.9,
             "#4d9221"
            ],
            [
             1,
             "#276419"
            ]
           ],
           "sequential": [
            [
             0,
             "#0d0887"
            ],
            [
             0.1111111111111111,
             "#46039f"
            ],
            [
             0.2222222222222222,
             "#7201a8"
            ],
            [
             0.3333333333333333,
             "#9c179e"
            ],
            [
             0.4444444444444444,
             "#bd3786"
            ],
            [
             0.5555555555555556,
             "#d8576b"
            ],
            [
             0.6666666666666666,
             "#ed7953"
            ],
            [
             0.7777777777777778,
             "#fb9f3a"
            ],
            [
             0.8888888888888888,
             "#fdca26"
            ],
            [
             1,
             "#f0f921"
            ]
           ],
           "sequentialminus": [
            [
             0,
             "#0d0887"
            ],
            [
             0.1111111111111111,
             "#46039f"
            ],
            [
             0.2222222222222222,
             "#7201a8"
            ],
            [
             0.3333333333333333,
             "#9c179e"
            ],
            [
             0.4444444444444444,
             "#bd3786"
            ],
            [
             0.5555555555555556,
             "#d8576b"
            ],
            [
             0.6666666666666666,
             "#ed7953"
            ],
            [
             0.7777777777777778,
             "#fb9f3a"
            ],
            [
             0.8888888888888888,
             "#fdca26"
            ],
            [
             1,
             "#f0f921"
            ]
           ]
          },
          "colorway": [
           "#636efa",
           "#EF553B",
           "#00cc96",
           "#ab63fa",
           "#FFA15A",
           "#19d3f3",
           "#FF6692",
           "#B6E880",
           "#FF97FF",
           "#FECB52"
          ],
          "font": {
           "color": "#2a3f5f"
          },
          "geo": {
           "bgcolor": "white",
           "lakecolor": "white",
           "landcolor": "#E5ECF6",
           "showlakes": true,
           "showland": true,
           "subunitcolor": "white"
          },
          "hoverlabel": {
           "align": "left"
          },
          "hovermode": "closest",
          "mapbox": {
           "style": "light"
          },
          "paper_bgcolor": "white",
          "plot_bgcolor": "#E5ECF6",
          "polar": {
           "angularaxis": {
            "gridcolor": "white",
            "linecolor": "white",
            "ticks": ""
           },
           "bgcolor": "#E5ECF6",
           "radialaxis": {
            "gridcolor": "white",
            "linecolor": "white",
            "ticks": ""
           }
          },
          "scene": {
           "xaxis": {
            "backgroundcolor": "#E5ECF6",
            "gridcolor": "white",
            "gridwidth": 2,
            "linecolor": "white",
            "showbackground": true,
            "ticks": "",
            "zerolinecolor": "white"
           },
           "yaxis": {
            "backgroundcolor": "#E5ECF6",
            "gridcolor": "white",
            "gridwidth": 2,
            "linecolor": "white",
            "showbackground": true,
            "ticks": "",
            "zerolinecolor": "white"
           },
           "zaxis": {
            "backgroundcolor": "#E5ECF6",
            "gridcolor": "white",
            "gridwidth": 2,
            "linecolor": "white",
            "showbackground": true,
            "ticks": "",
            "zerolinecolor": "white"
           }
          },
          "shapedefaults": {
           "line": {
            "color": "#2a3f5f"
           }
          },
          "ternary": {
           "aaxis": {
            "gridcolor": "white",
            "linecolor": "white",
            "ticks": ""
           },
           "baxis": {
            "gridcolor": "white",
            "linecolor": "white",
            "ticks": ""
           },
           "bgcolor": "#E5ECF6",
           "caxis": {
            "gridcolor": "white",
            "linecolor": "white",
            "ticks": ""
           }
          },
          "title": {
           "x": 0.05
          },
          "xaxis": {
           "automargin": true,
           "gridcolor": "white",
           "linecolor": "white",
           "ticks": "",
           "title": {
            "standoff": 15
           },
           "zerolinecolor": "white",
           "zerolinewidth": 2
          },
          "yaxis": {
           "automargin": true,
           "gridcolor": "white",
           "linecolor": "white",
           "ticks": "",
           "title": {
            "standoff": 15
           },
           "zerolinecolor": "white",
           "zerolinewidth": 2
          }
         }
        },
        "title": {
         "text": "3D Mesh Visualization"
        },
        "width": 800
       }
      }
     },
     "metadata": {},
     "output_type": "display_data"
    }
   ],
   "source": [
    "from discos import *\n",
    "\n",
    "mm = MeshManager()\n",
    "mm.load_mesh(data_path(\"mesh/demo/cylinder.obj\"))\n",
    "ps = PolylinesSkeleton().from_txt(data_path(\"polylines/cylinder.polylines.txt\"))\n",
    "mm.visualize_mesh_3d(polylines=ps)"
   ]
  },
  {
   "cell_type": "code",
   "execution_count": 2,
   "id": "c44885d6",
   "metadata": {},
   "outputs": [
    {
     "data": {
      "text/plain": [
       "<Axes: xlabel='x (horizontal)', ylabel='z (vertical)'>"
      ]
     },
     "execution_count": 2,
     "metadata": {},
     "output_type": "execute_result"
    },
    {
     "data": {
      "image/png": "[encoded data removed]",
      "text/plain": [
       "<Figure size 400x400 with 1 Axes>"
      ]
     },
     "metadata": {},
     "output_type": "display_data"
    }
   ],
   "source": [
    "skel = build_traced_skeleton_graph(mm, ps, options=TraceOptions(spacing=10))\n",
    "skel.draw()"
   ]
  },
  {
   "cell_type": "code",
   "execution_count": 3,
   "id": "770cddaa",
   "metadata": {},
   "outputs": [
    {
     "data": {
      "application/vnd.plotly.v1+json": {
       "config": {
        "plotlyServerURL": "https://plot.ly"
       },
       "data": [
        {
         "color": "lightblue",
         "i": {
          "bdata": "AAABAAEAAgACAAMAAwAEAAQABQAFAAYABgAHAAcACAAIAAkACQAKAAoACwALAAAADAANAA0ADgAOAA8ADwAQABAAEQARABIAEgATABMAFAAUABUAFQAWABYAFwAXAAwAGAAZABkAGgAaABsAGwAcABwAHQAdAB4AHgAfAB8AIAAgACEAIQAiACIAIwAjABgAJAAlACUAJgAmACcAJwAoACgAKQApACoAKgArACsALAAsAC0ALQAuAC4ALwAvACQAMAAxADEAMgAyADMAMwA0ADQANQA1ADYANgA3ADcAOAA4ADkAOQA6ADoAOwA7ADAAPAA9AD0APgA+AD8APwBAAEAAQQBBAEIAQgBDAEMARABEAEUARQBGAEYARwBHADwASABJAEkASgBKAEsASwBMAEwATQBNAE4ATgBPAE8AUABQAFEAUQBSAFIAUwBTAEgAVABVAFUAVgBWAFcAVwBYAFgAWQBZAFoAWgBbAFsAXABcAF0AXQBeAF4AXwBfAFQAYABhAGEAYgBiAGMAYwBkAGQAZQBlAGYAZgBnAGcAaABoAGkAaQBqAGoAawBrAGAAbABtAG0AbgBuAG8AbwBwAHAAcQBxAHIAcgBzAHMAdAB0AHUAdQB2AHYAdwB3AGwAeAB5AHkAegB6AHsAewB8AHwAfQB9AH4AfgB/AH8AgACAAIEAgQCCAIIAgwCDAHgAhACFAIUAhgCGAIcAhwCIAIgAiQCJAIoAigCLAIsAjACMAI0AjQCOAI4AjwCPAIQAkACRAJEAkgCSAJMAkwCUAJQAlQCVAJYAlgCXAJcAmACYAJkAmQCaAJoAmwCbAJAAnACdAJ0AngCeAJ8AnwCgAKAAoQChAKIAogCjAKMApACkAKUApQCmAKYApwCnAJwAqACpAKkAqgCqAKsAqwCsAKwArQCtAK4ArgCvAK8AsACwALEAsQCyALIAswCzAKgAtAC1ALUAtgC2ALcAtwC4ALgAuQC5ALoAugC7ALsAvAC8AL0AvQC+AL4AvwC/ALQAwADBAMEAwgDCAMMAwwDEAMQAxQDFAMYAxgDHAMcAyADIAMkAyQDKAMoAywDLAMAAzADNAM0AzgDOAM8AzwDQANAA0QDRANIA0gDTANMA1ADUANUA1QDWANYA1wDXAMwA2ADZANkA2gDaANsA2wDcANwA3QDdAN4A3gDfAN8A4ADgAOEA4QDiAOIA4wDjANgA5ADlAOUA5gDmAOcA5wDoAOgA6QDpAOoA6gDrAOsA7ADsAO0A7QDuAO4A7wDvAOQA",
          "dtype": "i2"
         },
         "j": {
          "bdata": "DAAMAA0ADQAOAA4ADwAPABAAEAARABEAEgASABMAEwAUABQAFQAVABYAFgAXABcAGAAYABkAGQAaABoAGwAbABwAHAAdAB0AHgAeAB8AHwAgACAAIQAhACIAIgAjACMAJAAkACUAJQAmACYAJwAnACgAKAApACkAKgAqACsAKwAsACwALQAtAC4ALgAvAC8AMAAwADEAMQAyADIAMwAzADQANAA1ADUANgA2ADcANwA4ADgAOQA5ADoAOgA7ADsAPAA8AD0APQA+AD4APwA/AEAAQABBAEEAQgBCAEMAQwBEAEQARQBFAEYARgBHAEcASABIAEkASQBKAEoASwBLAEwATABNAE0ATgBOAE8ATwBQAFAAUQBRAFIAUgBTAFMAVABUAFUAVQBWAFYAVwBXAFgAWABZAFkAWgBaAFsAWwBcAFwAXQBdAF4AXgBfAF8AYABgAGEAYQBiAGIAYwBjAGQAZABlAGUAZgBmAGcAZwBoAGgAaQBpAGoAagBrAGsAbABsAG0AbQBuAG4AbwBvAHAAcABxAHEAcgByAHMAcwB0AHQAdQB1AHYAdgB3AHcAeAB4AHkAeQB6AHoAewB7AHwAfAB9AH0AfgB+AH8AfwCAAIAAgQCBAIIAggCDAIMAhACEAIUAhQCGAIYAhwCHAIgAiACJAIkAigCKAIsAiwCMAIwAjQCNAI4AjgCPAI8AkACQAJEAkQCSAJIAkwCTAJQAlACVAJUAlgCWAJcAlwCYAJgAmQCZAJoAmgCbAJsAnACcAJ0AnQCeAJ4AnwCfAKAAoAChAKEAogCiAKMAowCkAKQApQClAKYApgCnAKcAqACoAKkAqQCqAKoAqwCrAKwArACtAK0ArgCuAK8ArwCwALAAsQCxALIAsgCzALMAtAC0ALUAtQC2ALYAtwC3ALgAuAC5ALkAugC6ALsAuwC8ALwAvQC9AL4AvgC/AL8AwADAAMEAwQDCAMIAwwDDAMQAxADFAMUAxgDGAMcAxwDIAMgAyQDJAMoAygDLAMsAzADMAM0AzQDOAM4AzwDPANAA0ADRANEA0gDSANMA0wDUANQA1QDVANYA1gDXANcA2ADYANkA2QDaANoA2wDbANwA3ADdAN0A3gDeAN8A3wDgAOAA4QDhAOIA4gDjAOMA5ADkAOUA5QDmAOYA5wDnAOgA6ADpAOkA6gDqAOsA6wDsAOwA7QDtAO4A7gDvAO8AAAAAAAEAAQACAAIAAwADAAQABAAFAAUABgAGAAcABwAIAAgACQAJAAoACgALAAsA",
          "dtype": "i2"
         },
         "k": {
          "bdata": "AQANAAIADgADAA8ABAAQAAUAEQAGABIABwATAAgAFAAJABUACgAWAAsAFwAAAAwADQAZAA4AGgAPABsAEAAcABEAHQASAB4AEwAfABQAIAAVACEAFgAiABcAIwAMABgAGQAlABoAJgAbACcAHAAoAB0AKQAeACoAHwArACAALAAhAC0AIgAuACMALwAYACQAJQAxACYAMgAnADMAKAA0ACkANQAqADYAKwA3ACwAOAAtADkALgA6AC8AOwAkADAAMQA9ADIAPgAzAD8ANABAADUAQQA2AEIANwBDADgARAA5AEUAOgBGADsARwAwADwAPQBJAD4ASgA/AEsAQABMAEEATQBCAE4AQwBPAEQAUABFAFEARgBSAEcAUwA8AEgASQBVAEoAVgBLAFcATABYAE0AWQBOAFoATwBbAFAAXABRAF0AUgBeAFMAXwBIAFQAVQBhAFYAYgBXAGMAWABkAFkAZQBaAGYAWwBnAFwAaABdAGkAXgBqAF8AawBUAGAAYQBtAGIAbgBjAG8AZABwAGUAcQBmAHIAZwBzAGgAdABpAHUAagB2AGsAdwBgAGwAbQB5AG4AegBvAHsAcAB8AHEAfQByAH4AcwB/AHQAgAB1AIEAdgCCAHcAgwBsAHgAeQCFAHoAhgB7AIcAfACIAH0AiQB+AIoAfwCLAIAAjACBAI0AggCOAIMAjwB4AIQAhQCRAIYAkgCHAJMAiACUAIkAlQCKAJYAiwCXAIwAmACNAJkAjgCaAI8AmwCEAJAAkQCdAJIAngCTAJ8AlACgAJUAoQCWAKIAlwCjAJgApACZAKUAmgCmAJsApwCQAJwAnQCpAJ4AqgCfAKsAoACsAKEArQCiAK4AowCvAKQAsAClALEApgCyAKcAswCcAKgAqQC1AKoAtgCrALcArAC4AK0AuQCuALoArwC7ALAAvACxAL0AsgC+ALMAvwCoALQAtQDBALYAwgC3AMMAuADEALkAxQC6AMYAuwDHALwAyAC9AMkAvgDKAL8AywC0AMAAwQDNAMIAzgDDAM8AxADQAMUA0QDGANIAxwDTAMgA1ADJANUAygDWAMsA1wDAAMwAzQDZAM4A2gDPANsA0ADcANEA3QDSAN4A0wDfANQA4ADVAOEA1gDiANcA4wDMANgA2QDlANoA5gDbAOcA3ADoAN0A6QDeAOoA3wDrAOAA7ADhAO0A4gDuAOMA7wDYAOQA5QABAOYAAgDnAAMA6AAEAOkABQDqAAYA6wAHAOwACADtAAkA7gAKAO8ACwDkAAAA",
          "dtype": "i2"
         },
         "name": "Mesh",
         "opacity": 0.8,
         "type": "mesh3d",
         "x": {
          "bdata": "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",
          "dtype": "f8"
         },
         "y": {
          "bdata": "AAAAAAAAAAAAAAAAAAAAAAAAAAAAAAAAAAAAAAAAAAAAAAAAAAAAAAAAAAAAAAAAAAAAAAAAAAAAAAAAAAAAAAAAAAAAAAAAAAAAAAAAAAAAAAAAAAAAAAAAAAAAAAAAHJ9FxtXmHkAMnc9n3RIeQANXYGXAzxtAYdsmBau4GEBIk0GklaEVQD9N0qF4XhNApxcIRICKEkA/TdKheF4TQEiTQaSVoRVAYdsmBau4GEADV2BlwM8bQAydz2fdEh5AjXQOt6ZjLUCO5QI8DposQFJmYj5JcypAFli2xeuCJ0DbSQpNjpIkQGPkE0/JayJAZFUI1DCiIUBj5BNPyWsiQNtJCk2OkiRAFli2xeuCJ0BSZmI+SXMqQI7lAjwOmixAx2eRcbU5NEDIHR30+K4zQMEVWBnwMzJA2LZJwSouMECkySDSylAsQJW5lhy5WilA0wsEIkBFKECVuZYcuVopQKTJINLKUCxA2LZJwSouMEDBFVgZ8DMyQMgdHfT4rjNAZ6QY/8LGN0CpSbbbqiM3QBN5muUVZjVAvk0czGgFM0BqIp6yu6QwQG29rnhNzi1A8QfqMR2ILEBtva54Tc4tQGoinrK7pDBAvk0czGgFM0ATeZrlFWY1QKlJttuqIzdAAAAAAAAAOUAKbVI0g1Q4QAAAAAAAgDZAAAAAAAAANEAAAAAAAIAxQOslW5f5Vi9AAAAAAAAALkDrJVuX+VYvQAAAAAAAgDFAAAAAAAAANEAAAAAAAIA2QAptUjSDVDhAZ6QY/8LGN0CpSbbbqiM3QBN5muUVZjVAvk0czGgFM0BqIp6yu6QwQG29rnhNzi1A8QfqMR2ILEBtva54Tc4tQGoinrK7pDBAvk0czGgFM0ATeZrlFWY1QKlJttuqIzdAx2eRcbU5NEDIHR30+K4zQMEVWBnwMzJA2LZJwSouMECkySDSylAsQJW5lhy5WilA0wsEIkBFKECVuZYcuVopQKTJINLKUCxA2LZJwSouMEDBFVgZ8DMyQMgdHfT4rjNAjXQOt6ZjLUCO5QI8DposQFJmYj5JcypAFli2xeuCJ0DbSQpNjpIkQGPkE0/JayJAZFUI1DCiIUBj5BNPyWsiQNtJCk2OkiRAFli2xeuCJ0BSZmI+SXMqQI7lAjwOmixAHJ9FxtXmHkAMnc9n3RIeQANXYGXAzxtAYdsmBau4GEBIk0GklaEVQD9N0qF4XhNApxcIRICKEkA/TdKheF4TQEiTQaSVoRVAYdsmBau4GEADV2BlwM8bQAydz2fdEh5AAAAAAAAAAAAAAAAAAAAAAAAAAAAAAAAAAAAAAAAAAAAAAAAAAAAAAAAAAAAAAAAAAAAAAAAAAAAAAAAAAAAAAAAAAAAAAAAAAAAAAAAAAAAAAAAAAAAAAAAAAAAAAAAAHJ9FxtXmHsAMnc9n3RIewANXYGXAzxvAYdsmBau4GMBIk0GklaEVwD9N0qF4XhPApxcIRICKEsA/TdKheF4TwEiTQaSVoRXAYdsmBau4GMADV2BlwM8bwAydz2fdEh7AjXQOt6ZjLcCO5QI8DposwFJmYj5JcyrAFli2xeuCJ8DbSQpNjpIkwGPkE0/JayLAZFUI1DCiIcBj5BNPyWsiwNtJCk2OkiTAFli2xeuCJ8BSZmI+SXMqwI7lAjwOmizAx2eRcbU5NMDIHR30+K4zwMEVWBnwMzLA2LZJwSouMMCkySDSylAswJW5lhy5WinA0wsEIkBFKMCVuZYcuVopwKTJINLKUCzA2LZJwSouMMDBFVgZ8DMywMgdHfT4rjPAZ6QY/8LGN8CpSbbbqiM3wBN5muUVZjXAvk0czGgFM8BqIp6yu6QwwG29rnhNzi3A8QfqMR2ILMBtva54Tc4twGoinrK7pDDAvk0czGgFM8ATeZrlFWY1wKlJttuqIzfAAAAAAAAAOcAKbVI0g1Q4wAAAAAAAgDbAAAAAAAAANMAAAAAAAIAxwOslW5f5Vi/AAAAAAAAALsDrJVuX+VYvwAAAAAAAgDHAAAAAAAAANMAAAAAAAIA2wAptUjSDVDjAZ6QY/8LGN8CpSbbbqiM3wBN5muUVZjXAvk0czGgFM8BqIp6yu6QwwG29rnhNzi3A8QfqMR2ILMBtva54Tc4twGoinrK7pDDAvk0czGgFM8ATeZrlFWY1wKlJttuqIzfAx2eRcbU5NMDIHR30+K4zwMEVWBnwMzLA2LZJwSouMMCkySDSylAswJW5lhy5WinA0wsEIkBFKMCVuZYcuVopwKTJINLKUCzA2LZJwSouMMDBFVgZ8DMywMgdHfT4rjPAjXQOt6ZjLcCO5QI8DposwFJmYj5JcyrAFli2xeuCJ8DbSQpNjpIkwGPkE0/JayLAZFUI1DCiIcBj5BNPyWsiwNtJCk2OkiTAFli2xeuCJ8BSZmI+SXMqwI7lAjwOmizAHJ9FxtXmHsAMnc9n3RIewANXYGXAzxvAYdsmBau4GMBIk0GklaEVwD9N0qF4XhPApxcIRICKEsA/TdKheF4TwEiTQaSVoRXAYdsmBau4GMADV2BlwM8bwAydz2fdEh7A",
          "dtype": "f8"
         },
         "z": {
          "bdata": "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",
          "dtype": "f8"
         }
        },
        {
         "line": {
          "color": "crimson",
          "width": 3
         },
         "mode": "lines",
         "name": "Polyline 0",
         "opacity": 0.95,
         "showlegend": false,
         "type": "scatter3d",
         "x": {
          "bdata": "IKEfyzJgnr/WuDbLMmCevz0PNcsyYJ6/LxJAyzJgnr8pjz7LMmCev+a7M8syYJ6/R1YfyzJgnr/IbjbLMmCevzupNMsyYJ6/6ipByzJgnr/gdz7LMmCev3muM8syYJ6/kVYfyzJgnr+2ejbLMmCev9/nNMsyYJ6/8xFAyzJgnr/5mT7LMmCev3LMM8syYJ6/TXAfyzJgnr/EkjbLMmCev3r/NMsyYJ6/WiJAyzJgnr+Xqj7LMmCevzvdM8syYJ6/YIAfyzJgnr8FoTbLMmCev+QHNcsyYJ6/2iZAyzJgnr9Vqz7LMmCev1rcM8syYJ6/cX4fyzJgnr99nzbLMmCevzQJNcsyYJ6/UypAyzJgnr9RsD7LMmCev+HhM8syYJ6/PoQfyzJgnr8npTbLMmCevwYONcsyYJ6/Si1AyzJgnr8GsD7LMmCev/7fM8syYJ6/8IAfyzJgnr+0oTbLMmCev0MMNcsyYJ6/rCpAyzJgnr+csj7LMmCevxDlM8syYJ6/kIcfyzJgnr/mpjbLMmCev0YKNcsyYJ6/VylAyzJgnr8ssj7LMmCev1XlM8syYJ6/NYkfyzJgnr84qjbLMmCev5MRNcsyYJ6/5zdAyzJgnr9DvD7LMmCev3rtM8syYJ6/bZEfyzJgnr/4tTbLMmCev7EnNcsyYJ6/I0lAyzJgnr9JzD7LMmCev178M8syYJ6/6pwfyzJgnr9gvDbLMmCev40jNcsyYJ6/kEBAyzJgnr/xxz7LMmCevzD6M8syYJ6/mJwfyzJgnr+GvDbLMmCevzEjNcsyYJ6/YUdAyzJgnr8E0T7LMmCevwIFNMsyYJ6/F6sfyzJgnr/mzjbLMmCev/o7NcsyYJ6/z2FAyzJgnr/N5z7LMmCev1IZNMsyYJ6/uLsfyzJgnr9J3DbLMmCev7ZDNcsyYJ6/DWJAyzJgnr8T5j7LMmCev+EWNMsyYJ6/eLgfyzJgnr+72DbLMmCev/9ANcsyYJ6/bVxAyzJgnr++2T7LMmCev48GNMsyYJ6/oaMfyzJgnr8awjbLMmCev5MqNcsyYJ6/zD5AyzJgnr/0wD7LMmCev7jwM8syYJ6/kZAfyzJgnr87rzbLMmCev0oUNcsyYJ6/lzdAyzJgnr+zvj7LMmCev5DxM8syYJ6/KpcfyzJgnr/yuzbLMmCev4EsNcsyYJ6/41ZAyzJgnr8s4T7LMmCev4kUNMsyYJ6/ObgfyzJgnr/A2DbLMmCev+c+NcsyYJ6/rFdAyzJgnr+H2D7LMmCev1YGNMsyYJ6/IKEfyzJgnr8=",
          "dtype": "f8"
         },
         "y": {
          "bdata": "adHER8PFG0B7N0TntlkZQC00hJULYBVAEI9UB6mUDUB4EqMNK+wGQNhjVcWoEANAMCzttBtl+j+FQpz5n8bvP8MpIRZNEcS/xQpDqhDu/b+XkCWtQ+UEwGaRKekxrwjAWcc/QSJxDsA1Dlyrl8sRwGrnLvNwARbAjGZzH1xmHMAnuQdtiVUfwOvgDN8egSDANYO4bn7GIcBqUks6CukiwI0DKKhLwyTA+pKAE7FuJ8C8Jb5nnpMowCedx7LbOCnAv3U9L0UzKsDCMAmxaBIrwCD/ToKSfSzAtzSCfgJfLsCR6M8FmhQvwJKRkbSNeC/AbU02A78HMMCwa2nMsEowwPg0caLztjDATzpXuSArMcABeZBTXkUxwAvKHAPPUTHAebucZSdkMcBeZz+m63MxwM/61n1DjDHAihm1aYZ4McDt9qpJpE8xwCIWJRRUNTHAVx02+cAMMcCapZKYzOcwwAD5l23XqTDA2gfRzx4QMMBA8qDpOlAvwOe6nno/0y7AmwAf0DMULsCJqLTkFWgtwFMYpr2ySyzA4UtlpmIqKsCtR2gHfvAowMMWD4RjNyjAXlVP0SUdJ8AMoDHSqx8mwIdQ2FSmfiTAHs4+adikIcBTmP2+yx8gwNcn2llheR7AdZfER8PFG8DNBUTntlkZwDoWhJULYBXAEWNUB6mUDcBw36INK+wGwIEvVcWoEAPADcPstBtl+r8Fnpv5n8bvv8q7qcp0NrU/DInduaae/D8AGiatQ+UEQGofKukxrwhAe2dAQSJxDkA8Y1yrl8sRQHk/L/NwARZABr9zH1xmHEAtFAhtiVUfQL0ODd8egSBAhbK4bn7GIUBMg0s6CukiQFA1KKhLwyRAWs2AE7FuJ0DNYr5nnpMoQADax7LbOClAxbM9L0UzKkC3bwmxaBIrQKNBT4KSfSxAZnCCfgJfLkAEIdAFmhQvQNXJkbSNeC9AfWg2A78HMED1hWnMsEowQFFOcaLztjBAb1JXuSArMUAHjZBTXkUxQNPbHAPPUTFA6cqcZSdkMUAGdj+m63MxQDcK131DjDFAnCO1aYZ4MUCzAKtJpE8xQM0fJRRUNTFARyY2+cAMMUAgrZKYzOcwQEf9l23XqTBAZg3Rzx4QMEBo+6DpOlAvQNnEnno/0y5A8Awf0DMULkAHurTkFWgtQEc3pr2ySyxAbHNlpmIqKkBVb2gHfvAoQOo+D4RjNyhAh31P0SUdJ0AQyjHSqx8mQPN92FSmfiRAE/Q+adikIUDRuv2+yx8gQNNp2llheR5AadHER8PFG0A=",
          "dtype": "f8"
         },
         "z": {
          "bdata": "JE42A78HMMCsZmnMsEowwMQkcaLztjDA6BhXuSArMcCqUpBTXkUxwPigHAPPUTHA/42cZSdkMcBYNT+m63MxwDFkq7/aizHAEIjlywp3McAiyapJpE8xwO7sJBRUNTHAv/k1+cAMMcAPhZKYzOcwwK/bl23XqTDAbPLQzx4QMMCKyaDpOlAvwG+Tnno/0y7AK9we0DMULsA6ibTkFWgtwOAFpr2ySyzAQ0BlpmIqKsAOP2gHfvAowF0PD4RjNyjAwk9P0SUdJ8AanTHSqx8mwPdS2FSmfiTA6cg+adikIcDSkf2+yx8gwKIc2llheR7A2ojER8PFG8D78UPntlkZwJn6g5ULYBXAE0NUB6mUDcB80KINK+wGwPYjVcWoEAPAE8TstBtl+r9Kxpv5n8bvv7R6psp0NrU/ih7duaae/D/E1yWtQ+UEQCbWKekxrwhAvxVAQSJxDkACNlyrl8sRQFAPL/NwARZA7HRzH1xmHEAexQdtiVUfQHnmDN8egSBAN4e4bn7GIUDMVEs6CukiQJMBKKhLwyRAI46AE7FuJ0BxI75nnpMoQBCcx7LbOClAXXY9L0UzKkBgMwmxaBIrQOEFT4KSfSxA3z+CfgJfLkD78s8FmhQvQIOckbSNeC9AklM2A78HMEBec2nMsEowQKFAcaLztjBAGUdXuSArMUCehJBTXkUxQPDUHAPPUTFAnsWcZSdkMUDxcD+m63MxQNYD131DjDFA1SG1aYZ4MUD0AatJpE8xQHwiJRRUNTFAkio2+cAMMUBSspKYzOcwQJYDmG3XqTBA0BPRzx4QMEDJCqHpOlAvQOvUnno/0y5AXh0f0DMULkA4ybTkFWgtQIpCpr2ySyxAuXNlpmIqKkB5aGgHfvAoQPk0D4RjNyhAlW9P0SUdJ0DRuDHSqx8mQPFm2FSmfiRA298+adikIUBerf2+yx8gQM5R2llheR5Aq8LER8PFG0DTLETntlkZQCkzhJULYBVATJZUB6mUDUDWG6MNK+wGQLppVcWoEANA60PttBtl+j+ks5z5n8bvPx/Xn8p0NrW/wN/cuaae/L9cvSWtQ+UEwEC+KekxrwjA1gVAQSJxDsCWM1yrl8sRwCIRL/NwARbAEYdzH1xmHMAX2AdtiVUfwBLvDN8egSDA/JG4bn7GIcCHYks6CukiwEMVKKhLwyTAGqqAE7FuJ8AaQb5nnpMowHG5x7LbOCnASJM9L0UzKsDQTQmxaBIrwDobT4KSfSzALUaCfgJfLsD/9c8FmhQvwK+bkbSNeC/AJE42A78HMMA=",
          "dtype": "f8"
         }
        }
       ],
       "layout": {
        "autosize": false,
        "height": 600,
        "scene": {
         "aspectmode": "data",
         "xaxis": {
          "visible": true
         },
         "yaxis": {
          "visible": true
         },
         "zaxis": {
          "visible": true
         }
        },
        "template": {
         "data": {
          "bar": [
           {
            "error_x": {
             "color": "#2a3f5f"
            },
            "error_y": {
             "color": "#2a3f5f"
            },
            "marker": {
             "line": {
              "color": "#E5ECF6",
              "width": 0.5
             },
             "pattern": {
              "fillmode": "overlay",
              "size": 10,
              "solidity": 0.2
             }
            },
            "type": "bar"
           }
          ],
          "barpolar": [
           {
            "marker": {
             "line": {
              "color": "#E5ECF6",
              "width": 0.5
             },
             "pattern": {
              "fillmode": "overlay",
              "size": 10,
              "solidity": 0.2
             }
            },
            "type": "barpolar"
           }
          ],
          "carpet": [
           {
            "aaxis": {
             "endlinecolor": "#2a3f5f",
             "gridcolor": "white",
             "linecolor": "white",
             "minorgridcolor": "white",
             "startlinecolor": "#2a3f5f"
            },
            "baxis": {
             "endlinecolor": "#2a3f5f",
             "gridcolor": "white",
             "linecolor": "white",
             "minorgridcolor": "white",
             "startlinecolor": "#2a3f5f"
            },
            "type": "carpet"
           }
          ],
          "choropleth": [
           {
            "colorbar": {
             "outlinewidth": 0,
             "ticks": ""
            },
            "type": "choropleth"
           }
          ],
          "contour": [
           {
            "colorbar": {
             "outlinewidth": 0,
             "ticks": ""
            },
            "colorscale": [
             [
              0,
              "#0d0887"
             ],
             [
              0.1111111111111111,
              "#46039f"
             ],
             [
              0.2222222222222222,
              "#7201a8"
             ],
             [
              0.3333333333333333,
              "#9c179e"
             ],
             [
              0.4444444444444444,
              "#bd3786"
             ],
             [
              0.5555555555555556,
              "#d8576b"
             ],
             [
              0.6666666666666666,
              "#ed7953"
             ],
             [
              0.7777777777777778,
              "#fb9f3a"
             ],
             [
              0.8888888888888888,
              "#fdca26"
             ],
             [
              1,
              "#f0f921"
             ]
            ],
            "type": "contour"
           }
          ],
          "contourcarpet": [
           {
            "colorbar": {
             "outlinewidth": 0,
             "ticks": ""
            },
            "type": "contourcarpet"
           }
          ],
          "heatmap": [
           {
            "colorbar": {
             "outlinewidth": 0,
             "ticks": ""
            },
            "colorscale": [
             [
              0,
              "#0d0887"
             ],
             [
              0.1111111111111111,
              "#46039f"
             ],
             [
              0.2222222222222222,
              "#7201a8"
             ],
             [
              0.3333333333333333,
              "#9c179e"
             ],
             [
              0.4444444444444444,
              "#bd3786"
             ],
             [
              0.5555555555555556,
              "#d8576b"
             ],
             [
              0.6666666666666666,
              "#ed7953"
             ],
             [
              0.7777777777777778,
              "#fb9f3a"
             ],
             [
              0.8888888888888888,
              "#fdca26"
             ],
             [
              1,
              "#f0f921"
             ]
            ],
            "type": "heatmap"
           }
          ],
          "histogram": [
           {
            "marker": {
             "pattern": {
              "fillmode": "overlay",
              "size": 10,
              "solidity": 0.2
             }
            },
            "type": "histogram"
           }
          ],
          "histogram2d": [
           {
            "colorbar": {
             "outlinewidth": 0,
             "ticks": ""
            },
            "colorscale": [
             [
              0,
              "#0d0887"
             ],
             [
              0.1111111111111111,
              "#46039f"
             ],
             [
              0.2222222222222222,
              "#7201a8"
             ],
             [
              0.3333333333333333,
              "#9c179e"
             ],
             [
              0.4444444444444444,
              "#bd3786"
             ],
             [
              0.5555555555555556,
              "#d8576b"
             ],
             [
              0.6666666666666666,
              "#ed7953"
             ],
             [
              0.7777777777777778,
              "#fb9f3a"
             ],
             [
              0.8888888888888888,
              "#fdca26"
             ],
             [
              1,
              "#f0f921"
             ]
            ],
            "type": "histogram2d"
           }
          ],
          "histogram2dcontour": [
           {
            "colorbar": {
             "outlinewidth": 0,
             "ticks": ""
            },
            "colorscale": [
             [
              0,
              "#0d0887"
             ],
             [
              0.1111111111111111,
              "#46039f"
             ],
             [
              0.2222222222222222,
              "#7201a8"
             ],
             [
              0.3333333333333333,
              "#9c179e"
             ],
             [
              0.4444444444444444,
              "#bd3786"
             ],
             [
              0.5555555555555556,
              "#d8576b"
             ],
             [
              0.6666666666666666,
              "#ed7953"
             ],
             [
              0.7777777777777778,
              "#fb9f3a"
             ],
             [
              0.8888888888888888,
              "#fdca26"
             ],
             [
              1,
              "#f0f921"
             ]
            ],
            "type": "histogram2dcontour"
           }
          ],
          "mesh3d": [
           {
            "colorbar": {
             "outlinewidth": 0,
             "ticks": ""
            },
            "type": "mesh3d"
           }
          ],
          "parcoords": [
           {
            "line": {
             "colorbar": {
              "outlinewidth": 0,
              "ticks": ""
             }
            },
            "type": "parcoords"
           }
          ],
          "pie": [
           {
            "automargin": true,
            "type": "pie"
           }
          ],
          "scatter": [
           {
            "fillpattern": {
             "fillmode": "overlay",
             "size": 10,
             "solidity": 0.2
            },
            "type": "scatter"
           }
          ],
          "scatter3d": [
           {
            "line": {
             "colorbar": {
              "outlinewidth": 0,
              "ticks": ""
             }
            },
            "marker": {
             "colorbar": {
              "outlinewidth": 0,
              "ticks": ""
             }
            },
            "type": "scatter3d"
           }
          ],
          "scattercarpet": [
           {
            "marker": {
             "colorbar": {
              "outlinewidth": 0,
              "ticks": ""
             }
            },
            "type": "scattercarpet"
           }
          ],
          "scattergeo": [
           {
            "marker": {
             "colorbar": {
              "outlinewidth": 0,
              "ticks": ""
             }
            },
            "type": "scattergeo"
           }
          ],
          "scattergl": [
           {
            "marker": {
             "colorbar": {
              "outlinewidth": 0,
              "ticks": ""
             }
            },
            "type": "scattergl"
           }
          ],
          "scattermap": [
           {
            "marker": {
             "colorbar": {
              "outlinewidth": 0,
              "ticks": ""
             }
            },
            "type": "scattermap"
           }
          ],
          "scattermapbox": [
           {
            "marker": {
             "colorbar": {
              "outlinewidth": 0,
              "ticks": ""
             }
            },
            "type": "scattermapbox"
           }
          ],
          "scatterpolar": [
           {
            "marker": {
             "colorbar": {
              "outlinewidth": 0,
              "ticks": ""
             }
            },
            "type": "scatterpolar"
           }
          ],
          "scatterpolargl": [
           {
            "marker": {
             "colorbar": {
              "outlinewidth": 0,
              "ticks": ""
             }
            },
            "type": "scatterpolargl"
           }
          ],
          "scatterternary": [
           {
            "marker": {
             "colorbar": {
              "outlinewidth": 0,
              "ticks": ""
             }
            },
            "type": "scatterternary"
           }
          ],
          "surface": [
           {
            "colorbar": {
             "outlinewidth": 0,
             "ticks": ""
            },
            "colorscale": [
             [
              0,
              "#0d0887"
             ],
             [
              0.1111111111111111,
              "#46039f"
             ],
             [
              0.2222222222222222,
              "#7201a8"
             ],
             [
              0.3333333333333333,
              "#9c179e"
             ],
             [
              0.4444444444444444,
              "#bd3786"
             ],
             [
              0.5555555555555556,
              "#d8576b"
             ],
             [
              0.6666666666666666,
              "#ed7953"
             ],
             [
              0.7777777777777778,
              "#fb9f3a"
             ],
             [
              0.8888888888888888,
              "#fdca26"
             ],
             [
              1,
              "#f0f921"
             ]
            ],
            "type": "surface"
           }
          ],
          "table": [
           {
            "cells": {
             "fill": {
              "color": "#EBF0F8"
             },
             "line": {
              "color": "white"
             }
            },
            "header": {
             "fill": {
              "color": "#C8D4E3"
             },
             "line": {
              "color": "white"
             }
            },
            "type": "table"
           }
          ]
         },
         "layout": {
          "annotationdefaults": {
           "arrowcolor": "#2a3f5f",
           "arrowhead": 0,
           "arrowwidth": 1
          },
          "autotypenumbers": "strict",
          "coloraxis": {
           "colorbar": {
            "outlinewidth": 0,
            "ticks": ""
           }
          },
          "colorscale": {
           "diverging": [
            [
             0,
             "#8e0152"
            ],
            [
             0.1,
             "#c51b7d"
            ],
            [
             0.2,
             "#de77ae"
            ],
            [
             0.3,
             "#f1b6da"
            ],
            [
             0.4,
             "#fde0ef"
            ],
            [
             0.5,
             "#f7f7f7"
            ],
            [
             0.6,
             "#e6f5d0"
            ],
            [
             0.7,
             "#b8e186"
            ],
            [
             0.8,
             "#7fbc41"
            ],
            [
             0.9,
             "#4d9221"
            ],
            [
             1,
             "#276419"
            ]
           ],
           "sequential": [
            [
             0,
             "#0d0887"
            ],
            [
             0.1111111111111111,
             "#46039f"
            ],
            [
             0.2222222222222222,
             "#7201a8"
            ],
            [
             0.3333333333333333,
             "#9c179e"
            ],
            [
             0.4444444444444444,
             "#bd3786"
            ],
            [
             0.5555555555555556,
             "#d8576b"
            ],
            [
             0.6666666666666666,
             "#ed7953"
            ],
            [
             0.7777777777777778,
             "#fb9f3a"
            ],
            [
             0.8888888888888888,
             "#fdca26"
            ],
            [
             1,
             "#f0f921"
            ]
           ],
           "sequentialminus": [
            [
             0,
             "#0d0887"
            ],
            [
             0.1111111111111111,
             "#46039f"
            ],
            [
             0.2222222222222222,
             "#7201a8"
            ],
            [
             0.3333333333333333,
             "#9c179e"
            ],
            [
             0.4444444444444444,
             "#bd3786"
            ],
            [
             0.5555555555555556,
             "#d8576b"
            ],
            [
             0.6666666666666666,
             "#ed7953"
            ],
            [
             0.7777777777777778,
             "#fb9f3a"
            ],
            [
             0.8888888888888888,
             "#fdca26"
            ],
            [
             1,
             "#f0f921"
            ]
           ]
          },
          "colorway": [
           "#636efa",
           "#EF553B",
           "#00cc96",
           "#ab63fa",
           "#FFA15A",
           "#19d3f3",
           "#FF6692",
           "#B6E880",
           "#FF97FF",
           "#FECB52"
          ],
          "font": {
           "color": "#2a3f5f"
          },
          "geo": {
           "bgcolor": "white",
           "lakecolor": "white",
           "landcolor": "#E5ECF6",
           "showlakes": true,
           "showland": true,
           "subunitcolor": "white"
          },
          "hoverlabel": {
           "align": "left"
          },
          "hovermode": "closest",
          "mapbox": {
           "style": "light"
          },
          "paper_bgcolor": "white",
          "plot_bgcolor": "#E5ECF6",
          "polar": {
           "angularaxis": {
            "gridcolor": "white",
            "linecolor": "white",
            "ticks": ""
           },
           "bgcolor": "#E5ECF6",
           "radialaxis": {
            "gridcolor": "white",
            "linecolor": "white",
            "ticks": ""
           }
          },
          "scene": {
           "xaxis": {
            "backgroundcolor": "#E5ECF6",
            "gridcolor": "white",
            "gridwidth": 2,
            "linecolor": "white",
            "showbackground": true,
            "ticks": "",
            "zerolinecolor": "white"
           },
           "yaxis": {
            "backgroundcolor": "#E5ECF6",
            "gridcolor": "white",
            "gridwidth": 2,
            "linecolor": "white",
            "showbackground": true,
            "ticks": "",
            "zerolinecolor": "white"
           },
           "zaxis": {
            "backgroundcolor": "#E5ECF6",
            "gridcolor": "white",
            "gridwidth": 2,
            "linecolor": "white",
            "showbackground": true,
            "ticks": "",
            "zerolinecolor": "white"
           }
          },
          "shapedefaults": {
           "line": {
            "color": "#2a3f5f"
           }
          },
          "ternary": {
           "aaxis": {
            "gridcolor": "white",
            "linecolor": "white",
            "ticks": ""
           },
           "baxis": {
            "gridcolor": "white",
            "linecolor": "white",
            "ticks": ""
           },
           "bgcolor": "#E5ECF6",
           "caxis": {
            "gridcolor": "white",
            "linecolor": "white",
            "ticks": ""
           }
          },
          "title": {
           "x": 0.05
          },
          "xaxis": {
           "automargin": true,
           "gridcolor": "white",
           "linecolor": "white",
           "ticks": "",
           "title": {
            "standoff": 15
           },
           "zerolinecolor": "white",
           "zerolinewidth": 2
          },
          "yaxis": {
           "automargin": true,
           "gridcolor": "white",
           "linecolor": "white",
           "ticks": "",
           "title": {
            "standoff": 15
           },
           "zerolinecolor": "white",
           "zerolinewidth": 2
          }
         }
        },
        "title": {
         "text": "3D Mesh Visualization"
        },
        "width": 800
       }
      }
     },
     "metadata": {},
     "output_type": "display_data"
    }
   ],
   "source": [
    "mm = MeshManager()\n",
    "mm.load_mesh(data_path(\"mesh/demo/torus.obj\"))\n",
    "ps = PolylinesSkeleton().from_txt(data_path(\"polylines/torus.polylines.txt\"))\n",
    "mm.visualize_mesh_3d(polylines=ps)"
   ]
  },
  {
   "cell_type": "code",
   "execution_count": 4,
   "id": "b2b9740e",
   "metadata": {},
   "outputs": [
    {
     "data": {
      "text/plain": [
       "<Axes: xlabel='y (horizontal)', ylabel='z (vertical)'>"
      ]
     },
     "execution_count": 4,
     "metadata": {},
     "output_type": "execute_result"
    },
    {
     "data": {
      "image/png": "[encoded data removed]",
      "text/plain": [
       "<Figure size 400x400 with 1 Axes>"
      ]
     },
     "metadata": {},
     "output_type": "display_data"
    }
   ],
   "source": [
    "skel = build_traced_skeleton_graph(mm, ps, options=TraceOptions(spacing=10))\n",
    "skel.draw(axis='y')"
   ]
  },
  {
   "cell_type": "code",
   "execution_count": 5,
   "id": "eb2d2d25",
   "metadata": {},
   "outputs": [
    {
     "data": {
      "application/vnd.plotly.v1+json": {
       "config": {
        "plotlyServerURL": "https://plot.ly"
       },
       "data": [
        {
         "color": "lightblue",
         "i": {
          "bdata": "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",
          "dtype": "i2"
         },
         "j": {
          "bdata": "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",
          "dtype": "i2"
         },
         "k": {
          "bdata": "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",
          "dtype": "i2"
         },
         "name": "Mesh",
         "opacity": 0.8,
         "type": "mesh3d",
         "x": {
          "bdata": "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",
          "dtype": "f8"
         },
         "y": {
          "bdata": "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",
          "dtype": "f8"
         },
         "z": {
          "bdata": "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",
          "dtype": "f8"
         }
        },
        {
         "line": {
          "color": "crimson",
          "width": 3
         },
         "mode": "lines",
         "name": "Polyline 0",
         "opacity": 0.95,
         "showlegend": false,
         "type": "scatter3d",
         "x": {
          "bdata": "hit5OkNXwUCVp3mrdlfBQEIZveaMV8FAESUk1mZYwUD7Ygg951jBQEv6YFIhWcFAUDj8xpZZwUBVhC+V71nBQN3Um3B1WsFAzdLvMdlawUDRMiSugFvBQDQ3qyniW8FATSejcNFbwUCCmMvgxVvBQDHmEoCJW8FA2CRqxilbwUBto4TDwVrBQDPqMlYQWsFAmFxd6+1ZwUApbPmol1nBQOdc+WpOWcFAfFtC9j1ZwUDdb7rjH1nBQHwXeo/NWMFAF/ALGkJXwUDA3Gvy/lbBQChGxwXUVsFA8owuwJVWwUCeCHrjY1bBQBNvOYsoVsFAdNZQfq9VwUAl79xqx1TBQAgMp47TU8FASCPVe5ZTwUBUftHkClLBQG4FU9ZNUMFAMEBosatLwUAGyna0c0rBQFhcBJjWScFAYAdBQ/ZIwUBjjntw7EfBQKqPAKSURsFAiO+lv2lFwUCQTvQUxkPBQHOwAUD2QsFAZtU8w/tBwUCXeDKRKUHBQE+3xpgqQcFAvOPSdDNBwUCxQp8pmEHBQKW7x0lxQsFAaORm6edCwUCQnTHdZkPBQIi6S9AORcFA",
          "dtype": "f8"
         },
         "y": {
          "bdata": "71ey6xNypUADkNLVd2+lQOxTuPl6bqVARWifuElmpUBOSztwZGOlQEy33X9WYqVAjvE9VllgpUDMp9kzkl+lQB9nLxMeX6VAjMapAf9epUA8DWjpPGClQMmzy7TmYqVAlm92IfVjpUD0Jl2ZuGWlQGEs6cRJaKVA47zZDo1tpUBQePOX4XOlQD1RVE20eaVAvkLBAsd7pUD/UIQ5X3+lQJhd40nSgqVA6Ipn4aaEpUAlFwwbd4alQBabhIWJjaVA47JdUi+WpUCiHwoiTpmlQORC6ZLKnaVA8kg5+U6lpUBkOiRo66mlQOONN1CfraVAxP4ZESKypUCZqBffmrmlQJWii9Lnv6VAb2o69nrBpUCfJlwIUculQAMI+H5i06VAOM02TDLqpUBWOGIyF/ClQI2nx58f86VAylMwEHP3pUCmtgqpovylQGAaR8seA6ZAf9VvOtgIpkDDf2POoQ+mQDvws11ME6ZAG8wCH+AXpkCp7tkAKxymQFzUoN//HaZA7NzCGd0epkBpr7J+1CGmQBMkvsu9IqZAOa1jdr0ipkCCN2AQkSKmQHtFCxM2IaZA",
          "dtype": "f8"
         },
         "z": {
          "bdata": "MwEGVFGsoUBFLatshrOhQOKzo2SUtqFAdEDsjE7ZoUCI7hP63emhQElkw/nb8KFA5xKd4cf+oUBXafYUJgiiQIX04OYuFaJAP5CkPwcgokAbMIFatTiiQHULM41TT6JAiYjh4LFTokBf02zldlqiQKYCEF9QY6JADk6LiRVzokBznbOV84SiQJpNwvlklaJAHqbxp7WaokApto8rg6OiQGAEkWvKq6JAUHuuG8SvokAGc/EH1bOiQOoq7EXkwKJArFlNia7RokCLwr5pJ9aiQDsXR0mI26JAmHlaekvkokCURtmip+miQDtqU/Dy7aJAwlJAYSzzokBbBy/y3PuiQDnrW+7LA6NAidrwjcYFo0CmSnWrWhKjQKPOCo2tHaNARRGh6Mc8o0CPjGfLVkWjQMepQ5bWSaNAM83jBENQo0BzJGe8/lejQN0jPXVbYqNAhioY8jdso0DgtlkVU3ajQH53tf86faNAaq6sKriGo0AqtK0F8JGjQGghG6F9nqNARd/4NROlo0ABDj8j5MCjQBqfZMav16NARiweAqXio0CG7fXL9OyjQMVcqtgjA6RA",
          "dtype": "f8"
         }
        },
        {
         "line": {
          "color": "crimson",
          "width": 3
         },
         "mode": "lines",
         "name": "Polyline 1",
         "opacity": 0.95,
         "showlegend": false,
         "type": "scatter3d",
         "x": {
          "bdata": "rMHC7JJIwUCk1TJNEEnBQLxnRu89SsFAKKBNU6pKwUBWWKpGLEvBQDNvwsvsS8FAuNSy1ClMwUDzYFblkUzBQBjXX1oQTcFA6lAA/I5NwUAgl13lgk3BQGTFkHJfTcFAoXu50hFNwUCfIRwVokzBQPH0w1NeTMFAyAF1DQVMwUDzwc+RxErBQJi2bbWtSsFA8M0NjKhKwUDp1rsTpkrBQMb7X/GuSsFAkJl1DbVKwUDwqAJxlUrBQDQvtxeIScFA",
          "dtype": "f8"
         },
         "y": {
          "bdata": "ALcSZrqtpUAp6cGG97ClQB49wgnjt6VAHWv1rgy7pUDdLMxHR76lQMagMCq8xKVAmC3ZKu7GpUBb/qADq8qlQNHhAwydz6VA5gH4QF3VpUD55xf1Ft2lQJ0NOfMH4aVAtpRSUQrlpUApAntIneilQA5bj1jY6qVAfhCvMsjtpUC2/Ec+LfilQGcqeBpw+qVA9cqNqUz8pUBPzrFmLP6lQIsguDxM/6VACnWaL6UBpkBrgg/elgOmQMsoN74ACqZA",
          "dtype": "f8"
         },
         "z": {
          "bdata": "HVw0B8xmpUCh0tFk2V+lQNX/ZPPHUKVANwzrNktKpUAGmkXqVUOlQKWmys3INqVA09XW2YUypUChwjCgOyulQL2FRhGbIaVA1Orxo3AWpUAuNoTQ1QilQFKWMPz3AaVA3mIQeqT6pECHjSYZa/OkQP6ReFPt7qRAJgRGBAXppEC3GT8A7dOkQDizlHylzKRARsrRcyPGpEAOfxm/db+kQLn0P60Wu6RAzoTlDSKypEAFCJW726ukQKn9OgR3nKRA",
          "dtype": "f8"
         }
        },
        {
         "line": {
          "color": "crimson",
          "width": 3
         },
         "mode": "lines",
         "name": "Polyline 2",
         "opacity": 0.95,
         "showlegend": false,
         "type": "scatter3d",
         "x": {
          "bdata": "NC+3F4hJwUA+hD+K4UvBQOLtTL1wTMFAlsbukNZMwUBNQhVHuU3BQHbC1dK0T8FAfiFCqJRTwUB/v/Ys3lLBQKG4q2uKUsFAOBMomgRSwUC10ahp9FDBQJqgOeVRTsFAkKR7KEFMwUBrRauQxkrBQP/6shyaSMFAiLpL0A5FwUA=",
          "dtype": "f8"
         },
         "y": {
          "bdata": "yyg3vgAKpkDgekHOdgamQCj/Lhe7BqZAEptrxwIHpkBDnvfTtwemQGOb9quuCKZAcQOFkXEKpkDB7h93ywumQM3aWPVWDKZAzTct3TUNpkCSyBHD+g6mQB7CLx95EqZAIbzmSaMVpkD4h5ENAhimQLNMxq6HG6ZAe0ULEzYhpkA=",
          "dtype": "f8"
         },
         "z": {
          "bdata": "qf06BHecpEBR3JxkT5akQHhdsMWskKRAwMAegFOMpECbvzM1UoKkQGuHE0v+baRAu3HAeApEpEAxQLOLtTukQA2WhmRXOKRA5XVbzPYypECibAmIHyikQOlAPWpuEaRAsmZzYMsKpEAWbIA90wikQD2OKxa1BqRAxVyq2CMDpEA=",
          "dtype": "f8"
         }
        },
        {
         "line": {
          "color": "crimson",
          "width": 3
         },
         "mode": "lines",
         "name": "Polyline 3",
         "opacity": 0.95,
         "showlegend": false,
         "type": "scatter3d",
         "x": {
          "bdata": "NC+3F4hJwUBYwyfvtEfBQHcjmvDJP8FAUR0YLDU5wUDDt1Hl+jXBQI6LTRCzNcFA/fa8XZ81wUC1/TvmCzfBQPDcgN/UN8FAsQh1tPU4wUDVZre/uT3BQGCMdZpIQMFAiLpL0A5FwUA=",
          "dtype": "f8"
         },
         "y": {
          "bdata": "yyg3vgAKpkA+YBeuSg2mQHfVhrnuH6ZA562Kg60vpkCqc8aTUjemQGJaOtCFOaZA1OxYkyQ9pkDel2KwXjqmQLbgVS/qOKZAltnMAPI2pkDdwV2jtS6mQP6Pk2XcKaZAe0ULEzYhpkA=",
          "dtype": "f8"
         },
         "z": {
          "bdata": "qf06BHecpEBvSlmTL5+kQBB7yyczmqRAJui+unWTpEAznb21/I+kQIeL6zk5hKRA7uNTc1FmpEACesTMVEqkQPr5DyA1PKRA/7DXlFgwpEDJXZpymRmkQDqKkmo7DqRAxVyq2CMDpEA=",
          "dtype": "f8"
         }
        }
       ],
       "layout": {
        "autosize": false,
        "height": 600,
        "scene": {
         "aspectmode": "data",
         "xaxis": {
          "visible": true
         },
         "yaxis": {
          "visible": true
         },
         "zaxis": {
          "visible": true
         }
        },
        "template": {
         "data": {
          "bar": [
           {
            "error_x": {
             "color": "#2a3f5f"
            },
            "error_y": {
             "color": "#2a3f5f"
            },
            "marker": {
             "line": {
              "color": "#E5ECF6",
              "width": 0.5
             },
             "pattern": {
              "fillmode": "overlay",
              "size": 10,
              "solidity": 0.2
             }
            },
            "type": "bar"
           }
          ],
          "barpolar": [
           {
            "marker": {
             "line": {
              "color": "#E5ECF6",
              "width": 0.5
             },
             "pattern": {
              "fillmode": "overlay",
              "size": 10,
              "solidity": 0.2
             }
            },
            "type": "barpolar"
           }
          ],
          "carpet": [
           {
            "aaxis": {
             "endlinecolor": "#2a3f5f",
             "gridcolor": "white",
             "linecolor": "white",
             "minorgridcolor": "white",
             "startlinecolor": "#2a3f5f"
            },
            "baxis": {
             "endlinecolor": "#2a3f5f",
             "gridcolor": "white",
             "linecolor": "white",
             "minorgridcolor": "white",
             "startlinecolor": "#2a3f5f"
            },
            "type": "carpet"
           }
          ],
          "choropleth": [
           {
            "colorbar": {
             "outlinewidth": 0,
             "ticks": ""
            },
            "type": "choropleth"
           }
          ],
          "contour": [
           {
            "colorbar": {
             "outlinewidth": 0,
             "ticks": ""
            },
            "colorscale": [
             [
              0,
              "#0d0887"
             ],
             [
              0.1111111111111111,
              "#46039f"
             ],
             [
              0.2222222222222222,
              "#7201a8"
             ],
             [
              0.3333333333333333,
              "#9c179e"
             ],
             [
              0.4444444444444444,
              "#bd3786"
             ],
             [
              0.5555555555555556,
              "#d8576b"
             ],
             [
              0.6666666666666666,
              "#ed7953"
             ],
             [
              0.7777777777777778,
              "#fb9f3a"
             ],
             [
              0.8888888888888888,
              "#fdca26"
             ],
             [
              1,
              "#f0f921"
             ]
            ],
            "type": "contour"
           }
          ],
          "contourcarpet": [
           {
            "colorbar": {
             "outlinewidth": 0,
             "ticks": ""
            },
            "type": "contourcarpet"
           }
          ],
          "heatmap": [
           {
            "colorbar": {
             "outlinewidth": 0,
             "ticks": ""
            },
            "colorscale": [
             [
              0,
              "#0d0887"
             ],
             [
              0.1111111111111111,
              "#46039f"
             ],
             [
              0.2222222222222222,
              "#7201a8"
             ],
             [
              0.3333333333333333,
              "#9c179e"
             ],
             [
              0.4444444444444444,
              "#bd3786"
             ],
             [
              0.5555555555555556,
              "#d8576b"
             ],
             [
              0.6666666666666666,
              "#ed7953"
             ],
             [
              0.7777777777777778,
              "#fb9f3a"
             ],
             [
              0.8888888888888888,
              "#fdca26"
             ],
             [
              1,
              "#f0f921"
             ]
            ],
            "type": "heatmap"
           }
          ],
          "histogram": [
           {
            "marker": {
             "pattern": {
              "fillmode": "overlay",
              "size": 10,
              "solidity": 0.2
             }
            },
            "type": "histogram"
           }
          ],
          "histogram2d": [
           {
            "colorbar": {
             "outlinewidth": 0,
             "ticks": ""
            },
            "colorscale": [
             [
              0,
              "#0d0887"
             ],
             [
              0.1111111111111111,
              "#46039f"
             ],
             [
              0.2222222222222222,
              "#7201a8"
             ],
             [
              0.3333333333333333,
              "#9c179e"
             ],
             [
              0.4444444444444444,
              "#bd3786"
             ],
             [
              0.5555555555555556,
              "#d8576b"
             ],
             [
              0.6666666666666666,
              "#ed7953"
             ],
             [
              0.7777777777777778,
              "#fb9f3a"
             ],
             [
              0.8888888888888888,
              "#fdca26"
             ],
             [
              1,
              "#f0f921"
             ]
            ],
            "type": "histogram2d"
           }
          ],
          "histogram2dcontour": [
           {
            "colorbar": {
             "outlinewidth": 0,
             "ticks": ""
            },
            "colorscale": [
             [
              0,
              "#0d0887"
             ],
             [
              0.1111111111111111,
              "#46039f"
             ],
             [
              0.2222222222222222,
              "#7201a8"
             ],
             [
              0.3333333333333333,
              "#9c179e"
             ],
             [
              0.4444444444444444,
              "#bd3786"
             ],
             [
              0.5555555555555556,
              "#d8576b"
             ],
             [
              0.6666666666666666,
              "#ed7953"
             ],
             [
              0.7777777777777778,
              "#fb9f3a"
             ],
             [
              0.8888888888888888,
              "#fdca26"
             ],
             [
              1,
              "#f0f921"
             ]
            ],
            "type": "histogram2dcontour"
           }
          ],
          "mesh3d": [
           {
            "colorbar": {
             "outlinewidth": 0,
             "ticks": ""
            },
            "type": "mesh3d"
           }
          ],
          "parcoords": [
           {
            "line": {
             "colorbar": {
              "outlinewidth": 0,
              "ticks": ""
             }
            },
            "type": "parcoords"
           }
          ],
          "pie": [
           {
            "automargin": true,
            "type": "pie"
           }
          ],
          "scatter": [
           {
            "fillpattern": {
             "fillmode": "overlay",
             "size": 10,
             "solidity": 0.2
            },
            "type": "scatter"
           }
          ],
          "scatter3d": [
           {
            "line": {
             "colorbar": {
              "outlinewidth": 0,
              "ticks": ""
             }
            },
            "marker": {
             "colorbar": {
              "outlinewidth": 0,
              "ticks": ""
             }
            },
            "type": "scatter3d"
           }
          ],
          "scattercarpet": [
           {
            "marker": {
             "colorbar": {
              "outlinewidth": 0,
              "ticks": ""
             }
            },
            "type": "scattercarpet"
           }
          ],
          "scattergeo": [
           {
            "marker": {
             "colorbar": {
              "outlinewidth": 0,
              "ticks": ""
             }
            },
            "type": "scattergeo"
           }
          ],
          "scattergl": [
           {
            "marker": {
             "colorbar": {
              "outlinewidth": 0,
              "ticks": ""
             }
            },
            "type": "scattergl"
           }
          ],
          "scattermap": [
           {
            "marker": {
             "colorbar": {
              "outlinewidth": 0,
              "ticks": ""
             }
            },
            "type": "scattermap"
           }
          ],
          "scattermapbox": [
           {
            "marker": {
             "colorbar": {
              "outlinewidth": 0,
              "ticks": ""
             }
            },
            "type": "scattermapbox"
           }
          ],
          "scatterpolar": [
           {
            "marker": {
             "colorbar": {
              "outlinewidth": 0,
              "ticks": ""
             }
            },
            "type": "scatterpolar"
           }
          ],
          "scatterpolargl": [
           {
            "marker": {
             "colorbar": {
              "outlinewidth": 0,
              "ticks": ""
             }
            },
            "type": "scatterpolargl"
           }
          ],
          "scatterternary": [
           {
            "marker": {
             "colorbar": {
              "outlinewidth": 0,
              "ticks": ""
             }
            },
            "type": "scatterternary"
           }
          ],
          "surface": [
           {
            "colorbar": {
             "outlinewidth": 0,
             "ticks": ""
            },
            "colorscale": [
             [
              0,
              "#0d0887"
             ],
             [
              0.1111111111111111,
              "#46039f"
             ],
             [
              0.2222222222222222,
              "#7201a8"
             ],
             [
              0.3333333333333333,
              "#9c179e"
             ],
             [
              0.4444444444444444,
              "#bd3786"
             ],
             [
              0.5555555555555556,
              "#d8576b"
             ],
             [
              0.6666666666666666,
              "#ed7953"
             ],
             [
              0.7777777777777778,
              "#fb9f3a"
             ],
             [
              0.8888888888888888,
              "#fdca26"
             ],
             [
              1,
              "#f0f921"
             ]
            ],
            "type": "surface"
           }
          ],
          "table": [
           {
            "cells": {
             "fill": {
              "color": "#EBF0F8"
             },
             "line": {
              "color": "white"
             }
            },
            "header": {
             "fill": {
              "color": "#C8D4E3"
             },
             "line": {
              "color": "white"
             }
            },
            "type": "table"
           }
          ]
         },
         "layout": {
          "annotationdefaults": {
           "arrowcolor": "#2a3f5f",
           "arrowhead": 0,
           "arrowwidth": 1
          },
          "autotypenumbers": "strict",
          "coloraxis": {
           "colorbar": {
            "outlinewidth": 0,
            "ticks": ""
           }
          },
          "colorscale": {
           "diverging": [
            [
             0,
             "#8e0152"
            ],
            [
             0.1,
             "#c51b7d"
            ],
            [
             0.2,
             "#de77ae"
            ],
            [
             0.3,
             "#f1b6da"
            ],
            [
             0.4,
             "#fde0ef"
            ],
            [
             0.5,
             "#f7f7f7"
            ],
            [
             0.6,
             "#e6f5d0"
            ],
            [
             0.7,
             "#b8e186"
            ],
            [
             0.8,
             "#7fbc41"
            ],
            [
             0.9,
             "#4d9221"
            ],
            [
             1,
             "#276419"
            ]
           ],
           "sequential": [
            [
             0,
             "#0d0887"
            ],
            [
             0.1111111111111111,
             "#46039f"
            ],
            [
             0.2222222222222222,
             "#7201a8"
            ],
            [
             0.3333333333333333,
             "#9c179e"
            ],
            [
             0.4444444444444444,
             "#bd3786"
            ],
            [
             0.5555555555555556,
             "#d8576b"
            ],
            [
             0.6666666666666666,
             "#ed7953"
            ],
            [
             0.7777777777777778,
             "#fb9f3a"
            ],
            [
             0.8888888888888888,
             "#fdca26"
            ],
            [
             1,
             "#f0f921"
            ]
           ],
           "sequentialminus": [
            [
             0,
             "#0d0887"
            ],
            [
             0.1111111111111111,
             "#46039f"
            ],
            [
             0.2222222222222222,
             "#7201a8"
            ],
            [
             0.3333333333333333,
             "#9c179e"
            ],
            [
             0.4444444444444444,
             "#bd3786"
            ],
            [
             0.5555555555555556,
             "#d8576b"
            ],
            [
             0.6666666666666666,
             "#ed7953"
            ],
            [
             0.7777777777777778,
             "#fb9f3a"
            ],
            [
             0.8888888888888888,
             "#fdca26"
            ],
            [
             1,
             "#f0f921"
            ]
           ]
          },
          "colorway": [
           "#636efa",
           "#EF553B",
           "#00cc96",
           "#ab63fa",
           "#FFA15A",
           "#19d3f3",
           "#FF6692",
           "#B6E880",
           "#FF97FF",
           "#FECB52"
          ],
          "font": {
           "color": "#2a3f5f"
          },
          "geo": {
           "bgcolor": "white",
           "lakecolor": "white",
           "landcolor": "#E5ECF6",
           "showlakes": true,
           "showland": true,
           "subunitcolor": "white"
          },
          "hoverlabel": {
           "align": "left"
          },
          "hovermode": "closest",
          "mapbox": {
           "style": "light"
          },
          "paper_bgcolor": "white",
          "plot_bgcolor": "#E5ECF6",
          "polar": {
           "angularaxis": {
            "gridcolor": "white",
            "linecolor": "white",
            "ticks": ""
           },
           "bgcolor": "#E5ECF6",
           "radialaxis": {
            "gridcolor": "white",
            "linecolor": "white",
            "ticks": ""
           }
          },
          "scene": {
           "xaxis": {
            "backgroundcolor": "#E5ECF6",
            "gridcolor": "white",
            "gridwidth": 2,
            "linecolor": "white",
            "showbackground": true,
            "ticks": "",
            "zerolinecolor": "white"
           },
           "yaxis": {
            "backgroundcolor": "#E5ECF6",
            "gridcolor": "white",
            "gridwidth": 2,
            "linecolor": "white",
            "showbackground": true,
            "ticks": "",
            "zerolinecolor": "white"
           },
           "zaxis": {
            "backgroundcolor": "#E5ECF6",
            "gridcolor": "white",
            "gridwidth": 2,
            "linecolor": "white",
            "showbackground": true,
            "ticks": "",
            "zerolinecolor": "white"
           }
          },
          "shapedefaults": {
           "line": {
            "color": "#2a3f5f"
           }
          },
          "ternary": {
           "aaxis": {
            "gridcolor": "white",
            "linecolor": "white",
            "ticks": ""
           },
           "baxis": {
            "gridcolor": "white",
            "linecolor": "white",
            "ticks": ""
           },
           "bgcolor": "#E5ECF6",
           "caxis": {
            "gridcolor": "white",
            "linecolor": "white",
            "ticks": ""
           }
          },
          "title": {
           "x": 0.05
          },
          "xaxis": {
           "automargin": true,
           "gridcolor": "white",
           "linecolor": "white",
           "ticks": "",
           "title": {
            "standoff": 15
           },
           "zerolinecolor": "white",
           "zerolinewidth": 2
          },
          "yaxis": {
           "automargin": true,
           "gridcolor": "white",
           "linecolor": "white",
           "ticks": "",
           "title": {
            "standoff": 15
           },
           "zerolinecolor": "white",
           "zerolinewidth": 2
          }
         }
        },
        "title": {
         "text": "3D Mesh Visualization"
        },
        "width": 800
       }
      }
     },
     "metadata": {},
     "output_type": "display_data"
    }
   ],
   "source": [
    "mm = MeshManager()\n",
    "mm.load_mesh(data_path(\"mesh/processed/TS2_repaired.obj\"))\n",
    "ps = PolylinesSkeleton().from_txt(data_path(\"polylines/TS2.polylines.txt\"))\n",
    "mm.visualize_mesh_3d(polylines=ps)"
   ]
  },
  {
   "cell_type": "code",
   "execution_count": 6,
   "id": "4b1c51ee",
   "metadata": {},
   "outputs": [
    {
     "data": {
      "image/png": "[encoded data removed]",
      "text/plain": [
       "<Figure size 400x400 with 1 Axes>"
      ]
     },
     "metadata": {},
     "output_type": "display_data"
    },
    {
     "data": {
      "image/png": "[encoded data removed]",
      "text/plain": [
       "<Figure size 400x400 with 1 Axes>"
      ]
     },
     "metadata": {},
     "output_type": "display_data"
    },
    {
     "data": {
      "image/png": "[encoded data removed]",
      "text/plain": [
       "<Figure size 400x400 with 1 Axes>"
      ]
     },
     "metadata": {},
     "output_type": "display_data"
    },
    {
     "data": {
      "image/png": "[encoded data removed]",
      "text/plain": [
       "<Figure size 400x400 with 1 Axes>"
      ]
     },
     "metadata": {},
     "output_type": "display_data"
    },
    {
     "data": {
      "image/png": "[encoded data removed]",
      "text/plain": [
       "<Figure size 400x400 with 1 Axes>"
      ]
     },
     "metadata": {},
     "output_type": "display_data"
    }
   ],
   "source": [
    "# radius mode options: \"equivalent_area\", \"equivalent_perimeter\", \"section_median\", \"section_circle_fit\", \"nearest_surface\"\n",
    "\n",
    "for mode in [\"equivalent_area\", \"equivalent_perimeter\", \"section_median\", \"section_circle_fit\", \"nearest_surface\"]:\n",
    "    options = TraceOptions(spacing=50, radius_mode=mode)\n",
    "    skel = build_traced_skeleton_graph(mm, ps, options=options)\n",
    "    skel.draw(axis='y')\n",
    "    skel.to_swc(data_path(f\"swc/TS2_trace_{mode}.swc\"))"
   ]
  },
  {
   "cell_type": "code",
   "execution_count": 7,
   "id": "16586be6",
   "metadata": {},
   "outputs": [
    {
     "data": {
      "application/vnd.plotly.v1+json": {
       "config": {
        "plotlyServerURL": "https://plot.ly"
       },
       "data": [
        {
         "color": "lightblue",
         "i": {
          "bdata": "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",
          "dtype": "i2"
         },
         "j": {
          "bdata": "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",
          "dtype": "i2"
         },
         "k": {
          "bdata": "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",
          "dtype": "i2"
         },
         "name": "Mesh",
         "opacity": 0.8,
         "type": "mesh3d",
         "x": {
          "bdata": "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",
          "dtype": "f8"
         },
         "y": {
          "bdata": "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",
          "dtype": "f8"
         },
         "z": {
          "bdata": "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",
          "dtype": "f8"
         }
        },
        {
         "line": {
          "color": "crimson",
          "width": 3
         },
         "mode": "lines",
         "name": "Polyline 0",
         "opacity": 0.95,
         "showlegend": false,
         "type": "scatter3d",
         "x": {
          "bdata": "Aa86iiwnvUCwXeIeKB29QNSRSXBFEr1AFNKGySUJvUCCFdqu2wG9QLM1aMVL/bxAx8CBrqH0vEBSuXQ18u+8QM+m+Zds7bxA",
          "dtype": "f8"
         },
         "y": {
          "bdata": "JZZxEHVplUD4pVqS4yuVQN6lv6Y78ZRAx+oLiFHKlEC49FSYUqOUQPmbB32HiZRAikMXGGFIlEC6qJ0OLB6UQMvCef+C9pNA",
          "dtype": "f8"
         },
         "z": {
          "bdata": "Ihxk5sayqkD5XD/jramqQNGMzVYWoKpAD5t0c2WYqkBWyTQxPIyqQDjPOs7Rg6pAi1inwkVrqkAnwz+18VmqQCAS8b/BR6pA",
          "dtype": "f8"
         }
        },
        {
         "line": {
          "color": "crimson",
          "width": 3
         },
         "mode": "lines",
         "name": "Polyline 1",
         "opacity": 0.95,
         "showlegend": false,
         "type": "scatter3d",
         "x": {
          "bdata": "wpM/cwpNuUBfDz5311a5QA==",
          "dtype": "f8"
         },
         "y": {
          "bdata": "MdNHaojLlEB0gee/GwiVQA==",
          "dtype": "f8"
         },
         "z": {
          "bdata": "6DFdXUfprEARazCICbisQA==",
          "dtype": "f8"
         }
        },
        {
         "line": {
          "color": "crimson",
          "width": 3
         },
         "mode": "lines",
         "name": "Polyline 2",
         "opacity": 0.95,
         "showlegend": false,
         "type": "scatter3d",
         "x": {
          "bdata": "wpM/cwpNuUDG6J3Xn325QJMvqrTKnblAaAV+5Z+ouUA3i4GlALW5QA==",
          "dtype": "f8"
         },
         "y": {
          "bdata": "MdNHaojLlEARTjVWhb6UQFLNS1Le8JRAQ6tT0bQHlUC3eV6krkiVQA==",
          "dtype": "f8"
         },
         "z": {
          "bdata": "6DFdXUfprEBKVUUD8fWsQHPAOdbG/qxAzxQdgjsCrUBI07FBA/+sQA==",
          "dtype": "f8"
         }
        },
        {
         "line": {
          "color": "crimson",
          "width": 3
         },
         "mode": "lines",
         "name": "Polyline 3",
         "opacity": 0.95,
         "showlegend": false,
         "type": "scatter3d",
         "x": {
          "bdata": "wpM/cwpNuUAmh0Fs2Dy5QD8OLtePLblA",
          "dtype": "f8"
         },
         "y": {
          "bdata": "MdNHaojLlEBoCS5ghsmUQJl05aCzpJRA",
          "dtype": "f8"
         },
         "z": {
          "bdata": "6DFdXUfprEA5dtcXT/KsQEcQOcTyEa1A",
          "dtype": "f8"
         }
        },
        {
         "line": {
          "color": "crimson",
          "width": 3
         },
         "mode": "lines",
         "name": "Polyline 4",
         "opacity": 0.95,
         "showlegend": false,
         "type": "scatter3d",
         "x": {
          "bdata": "HOCFO27JuEDToLa/e9G4QOc1BtC/3bhABSUqV0XquEBNoZEdKfW4QNhapBjlB7lAjTsoMlIXuUBWEnMfthy5QGE+xMKXJblAXlborUoouUA/Di7Xjy25QA==",
          "dtype": "f8"
         },
         "y": {
          "bdata": "Dpz6tqBSlUBrTKrELj2VQKBKt3CjG5VA1jdW5o0ElUDkHUma8u+UQBlVQ65lz5RAp8qO97y1lEAAhcJ9A62UQCfvqE2FpJRA3Rlz1f+nlECZdOWgs6SUQA==",
          "dtype": "f8"
         },
         "z": {
          "bdata": "/QCgmkk9rkCI3WQMuCuuQH2byNmzEK5AsTqCFL33rUA/xLlhduGtQBjD/aXduq1AgdiHqvSXrUBCdyXwjYGtQJRHcdLQW61AKmkntFJBrUBHEDnE8hGtQA==",
          "dtype": "f8"
         }
        },
        {
         "line": {
          "color": "crimson",
          "width": 3
         },
         "mode": "lines",
         "name": "Polyline 5",
         "opacity": 0.95,
         "showlegend": false,
         "type": "scatter3d",
         "x": {
          "bdata": "Xw8+d9dWuUA5K2WXxXi5QFzEzypri7lAcFHk/HipuUA=",
          "dtype": "f8"
         },
         "y": {
          "bdata": "dIHnvxsIlUAraYtTJEOVQGARLD5YYZVAuw5/P/2XlUA=",
          "dtype": "f8"
         },
         "z": {
          "bdata": "EWswiAm4rEA/3u9S1bOsQCsbUQkFtKxARzMTGiOtrEA=",
          "dtype": "f8"
         }
        },
        {
         "line": {
          "color": "crimson",
          "width": 3
         },
         "mode": "lines",
         "name": "Polyline 6",
         "opacity": 0.95,
         "showlegend": false,
         "type": "scatter3d",
         "x": {
          "bdata": "Xw8+d9dWuUDhmobK6zG5QIwtePReB7lA",
          "dtype": "f8"
         },
         "y": {
          "bdata": "dIHnvxsIlUBSWP1c2uCUQH9R9n/fk5RA",
          "dtype": "f8"
         },
         "z": {
          "bdata": "EWswiAm4rEB2xuwPoaCsQB8i8HXEg6xA",
          "dtype": "f8"
         }
        },
        {
         "line": {
          "color": "crimson",
          "width": 3
         },
         "mode": "lines",
         "name": "Polyline 7",
         "opacity": 0.95,
         "showlegend": false,
         "type": "scatter3d",
         "x": {
          "bdata": "jC149F4HuUBy3HJQT9i4QDmbhgvIy7hAjb0yoiq8uEDud4Yj1La4QCTtTYxxq7hAIFGZgmSauEA=",
          "dtype": "f8"
         },
         "y": {
          "bdata": "f1H2f9+TlEACoDjtZqCTQJrdXEP+SZNAS8M0kNHikkCeO03XSMOSQPI6ndH1hJJAcGhMTZIukkA=",
          "dtype": "f8"
         },
         "z": {
          "bdata": "HyLwdcSDrECpbYoFfF2sQALHLQXhVaxAxZMlkbVLrEDIe5UXYkesQE7R6HJQPaxAGhBQ7hAcrEA=",
          "dtype": "f8"
         }
        },
        {
         "line": {
          "color": "crimson",
          "width": 3
         },
         "mode": "lines",
         "name": "Polyline 8",
         "opacity": 0.95,
         "showlegend": false,
         "type": "scatter3d",
         "x": {
          "bdata": "jC149F4HuUDMwgWXTBq5QHhES+quILlAPw4u148tuUA=",
          "dtype": "f8"
         },
         "y": {
          "bdata": "f1H2f9+TlEBxJLZgznaUQMQIWgZ3bpRAmXTloLOklEA=",
          "dtype": "f8"
         },
         "z": {
          "bdata": "HyLwdcSDrECCnvrCosOsQCJ8oJvz3qxARxA5xPIRrUA=",
          "dtype": "f8"
         }
        },
        {
         "line": {
          "color": "crimson",
          "width": 3
         },
         "mode": "lines",
         "name": "Polyline 9",
         "opacity": 0.95,
         "showlegend": false,
         "type": "scatter3d",
         "x": {
          "bdata": "jC149F4HuUCp/wZcS924QOhuJlqQzLhA7x7Df8G4uECdGW9fLKC4QBpj6VQNj7hACWS9LfSDuEDNavMWM2+4QHcjUhY3RrhA6fMlRPA0uED1xvE/Gi24QIk5xcP+G7hAd/sGFgkPuEAtJyEEeAq4QA==",
          "dtype": "f8"
         },
         "y": {
          "bdata": "f1H2f9+TlEA3vGNbNgKVQLOx9/RCLZVAIujyu3BklUA1YgW4p32VQI49cdBnj5VAuXi5AUOSlUDWNziexZWVQMZkGbKcYpVAg0m4JzZMlUDnx5JETj6VQPoAUGJZCJVABQ762G3dlEDjjUar6TSUQA==",
          "dtype": "f8"
         },
         "z": {
          "bdata": "HyLwdcSDrECHfqb0vTasQOy9OqviGqxAHPUo/jD7q0AFcNBDm+GrQIZ6jZ7Uz6tAf/Vwf1rHq0Bv7GQ/6LirQLbx1rJwtKtA6FeFQwazq0BbFZjXg7OrQI9Ec1E+uatAPbljqey9q0A1MYopE86rQA==",
          "dtype": "f8"
         }
        },
        {
         "line": {
          "color": "crimson",
          "width": 3
         },
         "mode": "lines",
         "name": "Polyline 10",
         "opacity": 0.95,
         "showlegend": false,
         "type": "scatter3d",
         "x": {
          "bdata": "N4uBpQC1uUDCNIljS9O5QDgIeNNQ1rlAVWEGLZXmuUAmkaIifvS5QL3pFTGT/blAbaQRQd8HukDKabOOSye6QBSK8ZsZMbpA",
          "dtype": "f8"
         },
         "y": {
          "bdata": "t3lepK5IlUB67VIZlOGVQMHunSQB75VAjqfZamU0lkC4p0SZSUWWQNH4WLgAU5ZATh6KaLhilkBpXv54l5GWQEEqZDc2n5ZA",
          "dtype": "f8"
         },
         "z": {
          "bdata": "SNOxQQP/rEC1eQj5oVmtQB65h3EBYa1A8CO+1i2FrUB4eB61AI2tQFX/6HUvka1AqOefMNuVrUBTt8zQw6StQO0cNY8TqK1A",
          "dtype": "f8"
         }
        },
        {
         "line": {
          "color": "crimson",
          "width": 3
         },
         "mode": "lines",
         "name": "Polyline 11",
         "opacity": 0.95,
         "showlegend": false,
         "type": "scatter3d",
         "x": {
          "bdata": "N4uBpQC1uUBwUeT8eKm5QA==",
          "dtype": "f8"
         },
         "y": {
          "bdata": "t3lepK5IlUC7Dn8//ZeVQA==",
          "dtype": "f8"
         },
         "z": {
          "bdata": "SNOxQQP/rEBHMxMaI62sQA==",
          "dtype": "f8"
         }
        },
        {
         "line": {
          "color": "crimson",
          "width": 3
         },
         "mode": "lines",
         "name": "Polyline 12",
         "opacity": 0.95,
         "showlegend": false,
         "type": "scatter3d",
         "x": {
          "bdata": "ddMS4MEoukDShtjo5yK6QPtQugj3HbpATsz2C/4bukDyOC90jxq6QNvPUdsMGrpA",
          "dtype": "f8"
         },
         "y": {
          "bdata": "tKcXN7pXmUDoCBm8pzWaQDeLs+UVmJpAmov6I8vxmkA+MwSugjebQElDkQY9ZJtA",
          "dtype": "f8"
         },
         "z": {
          "bdata": "A+7tej3fqkAKBBw+q+WqQDuBYE1x76pAOIwwXn79qkCz7CoUfgarQOMvYjgHDqtA",
          "dtype": "f8"
         }
        },
        {
         "line": {
          "color": "crimson",
          "width": 3
         },
         "mode": "lines",
         "name": "Polyline 13",
         "opacity": 0.95,
         "showlegend": false,
         "type": "scatter3d",
         "x": {
          "bdata": "ddMS4MEoukCFGPjvCTK6QPyUe5w7O7pAc65806M9ukCRoRvXn0G6QJ1VMgZzS7pACx7Noj5PukDXTf+oXFW6QC55dYLlaLpAnNXsc+hzukCvMUvxtoC6QLaPO7IHkLpAVUn/H3acukC4rfN1nKW6QMuizRsftLpA+aHaOBu9ukCezV65v8W6QIXp3PG61LpA",
          "dtype": "f8"
         },
         "y": {
          "bdata": "tKcXN7pXmUD+7eHnZk+ZQIkGl2X0SplAQhSXM3BGmUBDmods7zmZQJ+/7iUi/5hAw7XhhTXpmEAWSncCpsKYQCgnJnRYKphAuF2NDHHTl0CtLC1hNWaXQI2y328x0pZAiEffR5NflkDpWLoFsRiWQGPsQ/CisJVAQT7os4t4lUDkhC81aVuVQO1awZygFJVA",
          "dtype": "f8"
         },
         "z": {
          "bdata": "A+7tej3fqkC7WkHHDKyqQH+xc6hgZ6pAk3NWwJFUqkA3FEy/4TWqQON8whmg/6lApGywDF/qqUASFmfP3supQJCwoB75o6lAXBKGx9GQqUDdq7blYYOpQOfr2ThGkKlA8WgjpLiiqUByOwMoUa6pQKvNdj7Xv6lArIkX0FjLqUAK73CDVNWpQH2ahv50+alA",
          "dtype": "f8"
         }
        },
        {
         "line": {
          "color": "crimson",
          "width": 3
         },
         "mode": "lines",
         "name": "Polyline 14",
         "opacity": 0.95,
         "showlegend": false,
         "type": "scatter3d",
         "x": {
          "bdata": "ddMS4MEoukB27o1OUyS6QIXJfpkZILpAq8uXF48dukAMQZcQPRu6QEum97BeG7pAWxVlVBgfukA=",
          "dtype": "f8"
         },
         "y": {
          "bdata": "tKcXN7pXmUBGmROPf9uYQIP3XEiPl5hAQGQNX4VvmECtttuPki2YQFDVHxuv/ZdA+QZObsOll0A=",
          "dtype": "f8"
         },
         "z": {
          "bdata": "A+7tej3fqkCwoL164vqqQGjiV8C8FKtA9iDc8xoiq0AuhR9nSzerQF0+18gHRqtAVdI/HKVcq0A=",
          "dtype": "f8"
         }
        },
        {
         "line": {
          "color": "crimson",
          "width": 3
         },
         "mode": "lines",
         "name": "Polyline 15",
         "opacity": 0.95,
         "showlegend": false,
         "type": "scatter3d",
         "x": {
          "bdata": "ccS46ZaSuEAKWdSKKpG4QHepOIB5j7hAg2+vzyCQuEC/Qv8Gu5C4QGxtENlKlbhAdf+onzCbuEC3ExOt8J+4QCBRmYJkmrhA",
          "dtype": "f8"
         },
         "y": {
          "bdata": "FuOCvvKDjkDeQuZuIwSPQHsSOGzzl49AHoYL2LQEkECeukOCxSyQQKjzOBJPl5BAV5ravcErkUA5/bmCRJ+RQHBoTE2SLpJA",
          "dtype": "f8"
         },
         "z": {
          "bdata": "zVAXIqeXq0C5n3Je7JurQOUBQ2vWoKtAroCn1qupq0CJ/hOEDrCrQIDpgAU6xqtAcz8WfaHlq0AGB0jyhQKsQBoQUO4QHKxA",
          "dtype": "f8"
         }
        },
        {
         "line": {
          "color": "crimson",
          "width": 3
         },
         "mode": "lines",
         "name": "Polyline 16",
         "opacity": 0.95,
         "showlegend": false,
         "type": "scatter3d",
         "x": {
          "bdata": "NWhTM0mrvEAAKwR2oZK8QFBK+LSJdbxA1QQpPjpzvEA=",
          "dtype": "f8"
         },
         "y": {
          "bdata": "dnKWCokHlUB2BA03BJ+UQG4NRV0ySZRAMe1ccrH8k0A=",
          "dtype": "f8"
         },
         "z": {
          "bdata": "YP3T1j7jp0CIhHE/NwCoQB8GPH8CKahASTQmli0/qEA=",
          "dtype": "f8"
         }
        },
        {
         "line": {
          "color": "crimson",
          "width": 3
         },
         "mode": "lines",
         "name": "Polyline 17",
         "opacity": 0.95,
         "showlegend": false,
         "type": "scatter3d",
         "x": {
          "bdata": "f88kWX5SukBntN5rzVK6QPWbpBoKU7pAXVWuGjlUukDQD+xNNV26QD0NRAOWabpARdWEjCx2ukA4A4MHTom6QI73cGuJorpAi6MSZcG+ukCF6dzxutS6QA==",
          "dtype": "f8"
         },
         "y": {
          "bdata": "gMUaouW8kECTPbYVwQ6RQFICjeA0R5FAHUf3nS2ekUDcFenNefyRQJ0WJikCa5JA7qUn+jzLkkAY7POZnjyTQIjxTlcW35NAt65r2KRwlEDtWsGcoBSVQA==",
          "dtype": "f8"
         },
         "z": {
          "bdata": "7bMxoTmWqUAoaYir/JepQMLkQv0jmalA9XoFV++ZqUA7Aq3+YZ6pQPkkUwwro6lAswN8pGGoqUBSQeNpPbSpQJUpgoCqwalAcUn9NLPRqUB9mob+dPmpQA==",
          "dtype": "f8"
         }
        },
        {
         "line": {
          "color": "crimson",
          "width": 3
         },
         "mode": "lines",
         "name": "Polyline 18",
         "opacity": 0.95,
         "showlegend": false,
         "type": "scatter3d",
         "x": {
          "bdata": "jLxv2eK1tkDZwbiSPb22QEmL1JV9zbZAsLntI6nltkCQlB1YiPy2QDHlyh55B7dAt+q5QKoTt0AXUiphFSS3QAbCRguANrdAPmzi2fg9t0B3cMS7jk+3QC9s9mLHW7dAkNwlXu1pt0CmyDHbGXm3QDWzJIy/jLdAOJzE5tWUt0AWjuWTS5y3QAaBb/dQnbdA",
          "dtype": "f8"
         },
         "y": {
          "bdata": "kFh8JWR6kEDVYUZaBI+QQBLDZNhQvZBAsZUZfJQEkUA7se1U7FaRQNdMuA/LfZFAFX9OlpipkUByqnG9XPqRQCyR1fJPVZJAGxkzR8N8kkDJG3icU+qSQDdaaBHtUZNA/A7JxSmTk0AeucdVn9WTQM4fba7COJRAR59R/xVrlEC8QS/N3qqUQDvVekRl3JRA",
          "dtype": "f8"
         },
         "z": {
          "bdata": "NckaKmjoqkBfFA9WK++qQFlpN1YW/qpArq2YZ5AVq0C9bYC3qC2rQGUWDdWvOKtAZC56iTNEq0DDGoHaSFarQIrn8v88aqtAKk+30jVyq0BhPcJdZoerQChxllr5m6tAyDzlHWmkq0DIDTzSDaqrQOGWVP5Rs6tAueeC35i7q0AGPCxJpsirQIW9Ha4q06tA",
          "dtype": "f8"
         }
        },
        {
         "line": {
          "color": "crimson",
          "width": 3
         },
         "mode": "lines",
         "name": "Polyline 19",
         "opacity": 0.95,
         "showlegend": false,
         "type": "scatter3d",
         "x": {
          "bdata": "RjBzxFVitkAqGSO4U262QNIoopnUf7ZAKHWau/WStkB4zJSkg6i2QDjCMPqQvrZATA7QwYzLtkCyQvj6/dO2QOFokFGc7LZA9YOP/cb2tkA8X10Cff62QMVmc2Y+ELdAJ2ycuFsnt0Bsq2Epm0W3QAzEBsBQY7dAmQlbPcd7t0Bf8TUPDI+3QAaBb/dQnbdA",
          "dtype": "f8"
         },
         "y": {
          "bdata": "5u3w814glkA+oB375B6WQErFArq6HZZAlfTCjswZlkCVX2mBKxWWQO+B/zWqEJZAmQBwsYALlkBglGnvdQiWQO+4+ce+/5VAjxk7juL6lUCzZcTF6fWVQLPAbKWR5pVAW67cUxnTlUBeIfea7aqVQKPysGKTg5VAMWCVPedJlUAdAP2hkA+VQDvVekRl3JRA",
          "dtype": "f8"
         },
         "z": {
          "bdata": "0jk8aaMdrUC/FVLJbxutQIIJ2DPaGK1A5QDTC2YQrUAVHUtL6AatQJcnsrB+/axAo3q4ovj0rEAoMPrRMe+sQNulPloOz6xA2uwBtU7BrEDIvexcILasQFPUn/6wl6xAcsvtTNtvrECPN5KzzzqsQBnQC+B1BaxARwS2FE3rq0Aer03lWt2rQIW9Ha4q06tA",
          "dtype": "f8"
         }
        },
        {
         "line": {
          "color": "crimson",
          "width": 3
         },
         "mode": "lines",
         "name": "Polyline 20",
         "opacity": 0.95,
         "showlegend": false,
         "type": "scatter3d",
         "x": {
          "bdata": "9+YyohYXvkCkZNYZmh++QD41qA+jKL5AjZ708dsrvkBirfD5kTG+QIs6ntqeR75Ab6BbMFllvkCPYpy1/Hm+QITwXtvqhr5A/G41RnGLvkAPBm624I2+QJ1n9xRqfL5A/SMI8UtuvkB0R8Ju4GC+QD1eKpU+Vr5AMs3i2TE8vkA2bif4/yq+QPfmMqIWF75A",
          "dtype": "f8"
         },
         "y": {
          "bdata": "QO6TBchQkUDxGfSetdaQQDc5FqNKupBAK6jxAPCqkEAbwJFzgpWQQLcdpIC6TJBAHNmNRzMRkECjP5EnFwGQQPGi12jAXJBABUtE1/fFkECv1mjfjQmRQLVW8oEJL5FAC0yovdA+kUCvkxvEMUaRQIMb7E0iTJFAUNDRrKpYkUD1PA3dj12RQEDukwXIUJFA",
          "dtype": "f8"
         },
         "z": {
          "bdata": "VCviEwJDqECgpsgvEUWoQCu4b/8APqhARSRhN6w7qECGqg50UDeoQIWemEGNJahAE8qUlRUKqEC1p8J40fSnQMcTCR/M36dAUj0xnuDSp0BRKKxyEcunQKOez7iX3KdALWogSi7rp0AoItiOyPinQDmjOK51A6hAFfC/yZMdqEB3klgrOy6oQFQr4hMCQ6hA",
          "dtype": "f8"
         }
        },
        {
         "line": {
          "color": "crimson",
          "width": 3
         },
         "mode": "lines",
         "name": "Polyline 21",
         "opacity": 0.95,
         "showlegend": false,
         "type": "scatter3d",
         "x": {
          "bdata": "9+YyohYXvkDH5BENVwa+QKog9AJQ8r1A3NuWYzXevUBWG0eRAcq9QPUYTcVvv71A6BTr+FO3vUBLzXxsLq69QFHbq44slb1AmqO7MvGAvUBIGibq13C9QCN6+dZ1Xr1AkevbsmZCvUCM/cB6ki69QCIWfXX0Hb1AipCPsUIPvUA=",
          "dtype": "f8"
         },
         "y": {
          "bdata": "QO6TBchQkUDjIOhP+HSRQN7nWOVrl5FAyT/6REe2kUD37shln9eRQG4i4O3i6JFAFhUyPxT2kUCV9WtcOwKSQPabfsUtKJJA/jYYq0BCkkDfDZjJR1iSQICCIBZgcZJAeecPQSuakkAAO8ZsVLSSQKn07w860pJA378SBLn6kkA=",
          "dtype": "f8"
         },
         "z": {
          "bdata": "VCviEwJDqEBkNxFZJlCoQFZPiG6QYKhA0QVGJENxqEAK5kvqwICoQAST03rqiKhA+piZHiePqEAA47ul95WoQKqkzyT7qKhALjwFk/S5qEA2qLnjjMeoQPshmPvP16hA5we721f5qEC22pRXAwqpQFuGJHPjLKlAG4h0tEZvqUA=",
          "dtype": "f8"
         }
        },
        {
         "line": {
          "color": "crimson",
          "width": 3
         },
         "mode": "lines",
         "name": "Polyline 22",
         "opacity": 0.95,
         "showlegend": false,
         "type": "scatter3d",
         "x": {
          "bdata": "1QQpPjpzvED7z4MQLFu8QKnx6t2GOrxAfzLbsOIivECIqNnorgi8QARiKLRbAbxA2+cefDz1u0BX0xoLo+K7QOvXgH9r17tAsoPzmzPIu0AhZq1G96O7QCudC6FUc7tA",
          "dtype": "f8"
         },
         "y": {
          "bdata": "Me1ccrH8k0Br9X/eqDOUQCcXa48AfJRAQKKDix+rlECy8UtZSt6UQEU3ZU4k7JRA3/R/1uv/lEA5dSPM+hKVQIWJ+V8eEJVAot5YOEL/lECef/b/tN6UQDfOJloIvJRA",
          "dtype": "f8"
         },
         "z": {
          "bdata": "STQmli0/qEB6OVOkU0KoQAiSMgfpR6hAQB9P6gVcqECFBKas7XyoQI3ZY5SLh6hAsLnQy4SdqEB8DzCSOsaoQLJcnTRx6qhAiVv60wscqUAAEM4szHGpQB1yE4nyw6lA",
          "dtype": "f8"
         }
        },
        {
         "line": {
          "color": "crimson",
          "width": 3
         },
         "mode": "lines",
         "name": "Polyline 23",
         "opacity": 0.95,
         "showlegend": false,
         "type": "scatter3d",
         "x": {
          "bdata": "1QQpPjpzvECQ1Mn8J368QMjQdKdSkrxA/janKEucvEAzm6KYRKy8QIO8l5WmubxAjWUAyozIvEBdUPaCPee8QIT6Lx5xAr1AePTjyWIKvUCKkI+xQg+9QA==",
          "dtype": "f8"
         },
         "y": {
          "bdata": "Me1ccrH8k0CrTEGB9smTQNqHUU23dJNAmcwzXadQk0AgrS/MmyGTQFbFV1m5A5NAhjFQaovkkkCuuKjC9teSQJQx2LWSzJJAMLD+frPYkkDfvxIEufqSQA==",
          "dtype": "f8"
         },
         "z": {
          "bdata": "STQmli0/qED+m91eqUSoQDvq8taQTahAPx0DGu1SqEBC/ux2jGOoQKHHiAQIdKhAhXCa0TSHqEDMGDohA6+oQMgIaj5+1qhAP9D6XtkKqUAbiHS0Rm+pQA==",
          "dtype": "f8"
         }
        },
        {
         "line": {
          "color": "crimson",
          "width": 3
         },
         "mode": "lines",
         "name": "Polyline 24",
         "opacity": 0.95,
         "showlegend": false,
         "type": "scatter3d",
         "x": {
          "bdata": "KtMvfpQYukCAaVGmLv25QA==",
          "dtype": "f8"
         },
         "y": {
          "bdata": "REsh8LBwlkAm0CquauSWQA==",
          "dtype": "f8"
         },
         "z": {
          "bdata": "Dex8d+Hzq0BJLhYj7cmrQA==",
          "dtype": "f8"
         }
        },
        {
         "line": {
          "color": "crimson",
          "width": 3
         },
         "mode": "lines",
         "name": "Polyline 25",
         "opacity": 0.95,
         "showlegend": false,
         "type": "scatter3d",
         "x": {
          "bdata": "z6b5l2ztvEA1LbY4H+68QB0xiJjV8LxAancOxWH4vECKkI+xQg+9QA==",
          "dtype": "f8"
         },
         "y": {
          "bdata": "y8J5/4L2k0CjYHC8IqKTQK+Z5CkthJNA6oVW4VZBk0DfvxIEufqSQA==",
          "dtype": "f8"
         },
         "z": {
          "bdata": "IBLxv8FHqkDlbkHI0hqqQJgLumFECKpAoFoHLWbdqUAbiHS0Rm+pQA==",
          "dtype": "f8"
         }
        },
        {
         "line": {
          "color": "crimson",
          "width": 3
         },
         "mode": "lines",
         "name": "Polyline 26",
         "opacity": 0.95,
         "showlegend": false,
         "type": "scatter3d",
         "x": {
          "bdata": "z6b5l2ztvEBrSX4s3NO8QDNsRkCUqrxAjp48wF2avECeh3n1RZC8QMyxke+phbxAFa9LCPhzvEBy+C6Q7E+8QN409snJO7xAD4n7my4nvECzflifpwu8QAAU+5yd9LtAy7Ya8r/Ru0Bx1W9wvqG7QDWdup3BmbtAK50LoVRzu0A=",
          "dtype": "f8"
         },
         "y": {
          "bdata": "y8J5/4L2k0COx0xJOvCTQBDx+sSX0ZNAqpQ9yybRk0AjOjj34dGTQGyNBg8L05NAgzBqg8DYk0CJScM9ceuTQFLCcodB+pNAt7MbcTgMlEDUddmIuyaUQJ269w5WPJRAqluxxX1dlECUyxMZ34aUQKu+SE/DkZRAN84mWgi8lEA=",
          "dtype": "f8"
         },
         "z": {
          "bdata": "IBLxv8FHqkBtu84eyF6qQLesj14QeapA/OatcbiDqkCmQmh0QIqqQJTKOBZdj6pA0yUwhxiWqkDc9oYsgJeqQLBmF6dTjqpAoc4oaYh/qkBTipAeGWWqQN26V1vPS6pAS8JcIYkpqkBX316nYASqQINnybd49qlAHXITifLDqUA=",
          "dtype": "f8"
         }
        },
        {
         "line": {
          "color": "crimson",
          "width": 3
         },
         "mode": "lines",
         "name": "Polyline 27",
         "opacity": 0.95,
         "showlegend": false,
         "type": "scatter3d",
         "x": {
          "bdata": "IFGZgmSauEABvrOmYoS4QBTdsQQFe7hAUJR7FaBtuEBW4dAlX2C4QEX3kfhETLhA5cQvoew8uECE21OWVTG4QOMovO1jKrhAvYo9ZishuEAXOoyfbBq4QII0SDTYFLhALSchBHgKuEA=",
          "dtype": "f8"
         },
         "y": {
          "bdata": "cGhMTZIukkCI/lLeuUiSQPmrRDt1S5JAiIz/TJdOkkA6h7HVxHWSQPL6e8DztJJAIg6Ihlz3kkDuqYdAbCuTQMvPTzDxbJNAWoKmrz+qk0AmpYA2l8yTQApOBFpe8ZNA441Gq+k0lEA=",
          "dtype": "f8"
         },
         "z": {
          "bdata": "GhBQ7hAcrEBhg3jl4A2sQAQXwbINBqxAd3CwVKz6q0BKi8X0VvirQHG71Lxf96tAVy1jLwDvq0AlG5fncOerQLLhPCMT36tAZus2SlvZq0AZsKWQb9arQPrzt/hw06tANTGKKRPOq0A=",
          "dtype": "f8"
         }
        },
        {
         "line": {
          "color": "crimson",
          "width": 3
         },
         "mode": "lines",
         "name": "Polyline 28",
         "opacity": 0.95,
         "showlegend": false,
         "type": "scatter3d",
         "x": {
          "bdata": "K50LoVRzu0AllasjKVC7QFs2ZHuYQbtAmtZrwKUyu0DmDKlBkSS7QJU8vhvaD7tAGkoQNvv9ukCF6dzxutS6QA==",
          "dtype": "f8"
         },
         "y": {
          "bdata": "N84mWgi8lECISJ06zcGUQLGxMLZAwJRARXtjR3PFlEAlFR5u9cqUQHOKpU3r3ZRALIaOmHL3lEDtWsGcoBSVQA==",
          "dtype": "f8"
         },
         "z": {
          "bdata": "HXITifLDqUDL7dJwwsypQKiy2snZ1qlAQ2XhfSvZqUDob63fZdypQC7lBwJj4qlAKtLP73LqqUB9mob+dPmpQA==",
          "dtype": "f8"
         }
        },
        {
         "line": {
          "color": "crimson",
          "width": 3
         },
         "mode": "lines",
         "name": "Polyline 29",
         "opacity": 0.95,
         "showlegend": false,
         "type": "scatter3d",
         "x": {
          "bdata": "WB4LHjrfuUCAaVGmLv25QA==",
          "dtype": "f8"
         },
         "y": {
          "bdata": "7ZPI0a95lkAm0CquauSWQA==",
          "dtype": "f8"
         },
         "z": {
          "bdata": "W/0RSHIPrEBJLhYj7cmrQA==",
          "dtype": "f8"
         }
        },
        {
         "line": {
          "color": "crimson",
          "width": 3
         },
         "mode": "lines",
         "name": "Polyline 30",
         "opacity": 0.95,
         "showlegend": false,
         "type": "scatter3d",
         "x": {
          "bdata": "WB4LHjrfuUC9c5owqtm5QErPNZ6jzLlAgjLuj4LAuUDol9Z307e5QHBR5Px4qblA",
          "dtype": "f8"
         },
         "y": {
          "bdata": "7ZPI0a95lkDoCeNfL2uWQBqlmJYLRJZA+zuVPBwWlkAoQbY7K/SVQLsOfz/9l5VA",
          "dtype": "f8"
         },
         "z": {
          "bdata": "W/0RSHIPrECCU9W1aBesQKXSAZu4LaxA888ukqBKrEAknop2W2CsQEczExojraxA",
          "dtype": "f8"
         }
        },
        {
         "line": {
          "color": "crimson",
          "width": 3
         },
         "mode": "lines",
         "name": "Polyline 31",
         "opacity": 0.95,
         "showlegend": false,
         "type": "scatter3d",
         "x": {
          "bdata": "WB4LHjrfuUDbVu9HDuS5QJig/bXD7rlAgGlRpi79uUA=",
          "dtype": "f8"
         },
         "y": {
          "bdata": "7ZPI0a95lkCu37A1IpCWQMzyteXBuJZAJtAqrmrklkA=",
          "dtype": "f8"
         },
         "z": {
          "bdata": "W/0RSHIPrEAtl0hgUP+rQNABX7Vy46tASS4WI+3Jq0A=",
          "dtype": "f8"
         }
        },
        {
         "line": {
          "color": "crimson",
          "width": 3
         },
         "mode": "lines",
         "name": "Polyline 32",
         "opacity": 0.95,
         "showlegend": false,
         "type": "scatter3d",
         "x": {
          "bdata": "gGlRpi79uUBbFWVUGB+6QA==",
          "dtype": "f8"
         },
         "y": {
          "bdata": "JtAqrmrklkD5Bk5uw6WXQA==",
          "dtype": "f8"
         },
         "z": {
          "bdata": "SS4WI+3Jq0BV0j8cpVyrQA==",
          "dtype": "f8"
         }
        },
        {
         "line": {
          "color": "crimson",
          "width": 3
         },
         "mode": "lines",
         "name": "Polyline 33",
         "opacity": 0.95,
         "showlegend": false,
         "type": "scatter3d",
         "x": {
          "bdata": "henc8brUukDL9mAuQ8K6QKlgRD8yubpAsTCYnwGyukAB/X2UI6u6QP9KP0dFpbpAADCyhNqfukAw6kMOqJu6QPSR1iEilbpASOFjBfGCukA4PvkG1Gi6QHIFsaCOV7pAjGQ5aIJCukDZzJT5ZTS6QFsVZVQYH7pA",
          "dtype": "f8"
         },
         "y": {
          "bdata": "7VrBnKAUlUB6u42fxW+VQFVCVzbelJVAhGjzYiG1lUBPGJkT99uVQFJ+BZmL/5VASv+h9tYglkBKtjJjYzqWQHw2NqukXJZAvfGv9Ia0lkDNiEDma/iWQKfMCbBfApdAKBDj44QWl0C3k4rdpkOXQPkGTm7DpZdA",
          "dtype": "f8"
         },
         "z": {
          "bdata": "fZqG/nT5qUCISMtv70iqQDBe08qLZqpAxal4twuEqkDcSEmlq6iqQEiqBtFHzapAEVOtb7LiqkBYyGObfPWqQJxbQnfzAqtA56MZ45wbq0C6DkWkzjSrQNTX0zFNR6tAKjOa549aq0CfVr5UEV+rQFXSPxylXKtA",
          "dtype": "f8"
         }
        },
        {
         "line": {
          "color": "crimson",
          "width": 3
         },
         "mode": "lines",
         "name": "Polyline 34",
         "opacity": 0.95,
         "showlegend": false,
         "type": "scatter3d",
         "x": {
          "bdata": "BoFv91Cdt0BLmI9dEde3QK7kVbam4LdAkmTWuE7pt0Bgbof/kPK3QC0nIQR4CrhA",
          "dtype": "f8"
         },
         "y": {
          "bdata": "O9V6RGXclEAoP2WAIJ6UQBsLx7YClpRAskHafeKKlECS1pZUu4OUQOONRqvpNJRA",
          "dtype": "f8"
         },
         "z": {
          "bdata": "hb0drirTq0CK8Ass98mrQNzkJRamyatA5aVAsLrJq0D6bTbTX8mrQDUxiikTzqtA",
          "dtype": "f8"
         }
        }
       ],
       "layout": {
        "autosize": false,
        "height": 600,
        "scene": {
         "aspectmode": "data",
         "xaxis": {
          "visible": true
         },
         "yaxis": {
          "visible": true
         },
         "zaxis": {
          "visible": true
         }
        },
        "template": {
         "data": {
          "bar": [
           {
            "error_x": {
             "color": "#2a3f5f"
            },
            "error_y": {
             "color": "#2a3f5f"
            },
            "marker": {
             "line": {
              "color": "#E5ECF6",
              "width": 0.5
             },
             "pattern": {
              "fillmode": "overlay",
              "size": 10,
              "solidity": 0.2
             }
            },
            "type": "bar"
           }
          ],
          "barpolar": [
           {
            "marker": {
             "line": {
              "color": "#E5ECF6",
              "width": 0.5
             },
             "pattern": {
              "fillmode": "overlay",
              "size": 10,
              "solidity": 0.2
             }
            },
            "type": "barpolar"
           }
          ],
          "carpet": [
           {
            "aaxis": {
             "endlinecolor": "#2a3f5f",
             "gridcolor": "white",
             "linecolor": "white",
             "minorgridcolor": "white",
             "startlinecolor": "#2a3f5f"
            },
            "baxis": {
             "endlinecolor": "#2a3f5f",
             "gridcolor": "white",
             "linecolor": "white",
             "minorgridcolor": "white",
             "startlinecolor": "#2a3f5f"
            },
            "type": "carpet"
           }
          ],
          "choropleth": [
           {
            "colorbar": {
             "outlinewidth": 0,
             "ticks": ""
            },
            "type": "choropleth"
           }
          ],
          "contour": [
           {
            "colorbar": {
             "outlinewidth": 0,
             "ticks": ""
            },
            "colorscale": [
             [
              0,
              "#0d0887"
             ],
             [
              0.1111111111111111,
              "#46039f"
             ],
             [
              0.2222222222222222,
              "#7201a8"
             ],
             [
              0.3333333333333333,
              "#9c179e"
             ],
             [
              0.4444444444444444,
              "#bd3786"
             ],
             [
              0.5555555555555556,
              "#d8576b"
             ],
             [
              0.6666666666666666,
              "#ed7953"
             ],
             [
              0.7777777777777778,
              "#fb9f3a"
             ],
             [
              0.8888888888888888,
              "#fdca26"
             ],
             [
              1,
              "#f0f921"
             ]
            ],
            "type": "contour"
           }
          ],
          "contourcarpet": [
           {
            "colorbar": {
             "outlinewidth": 0,
             "ticks": ""
            },
            "type": "contourcarpet"
           }
          ],
          "heatmap": [
           {
            "colorbar": {
             "outlinewidth": 0,
             "ticks": ""
            },
            "colorscale": [
             [
              0,
              "#0d0887"
             ],
             [
              0.1111111111111111,
              "#46039f"
             ],
             [
              0.2222222222222222,
              "#7201a8"
             ],
             [
              0.3333333333333333,
              "#9c179e"
             ],
             [
              0.4444444444444444,
              "#bd3786"
             ],
             [
              0.5555555555555556,
              "#d8576b"
             ],
             [
              0.6666666666666666,
              "#ed7953"
             ],
             [
              0.7777777777777778,
              "#fb9f3a"
             ],
             [
              0.8888888888888888,
              "#fdca26"
             ],
             [
              1,
              "#f0f921"
             ]
            ],
            "type": "heatmap"
           }
          ],
          "histogram": [
           {
            "marker": {
             "pattern": {
              "fillmode": "overlay",
              "size": 10,
              "solidity": 0.2
             }
            },
            "type": "histogram"
           }
          ],
          "histogram2d": [
           {
            "colorbar": {
             "outlinewidth": 0,
             "ticks": ""
            },
            "colorscale": [
             [
              0,
              "#0d0887"
             ],
             [
              0.1111111111111111,
              "#46039f"
             ],
             [
              0.2222222222222222,
              "#7201a8"
             ],
             [
              0.3333333333333333,
              "#9c179e"
             ],
             [
              0.4444444444444444,
              "#bd3786"
             ],
             [
              0.5555555555555556,
              "#d8576b"
             ],
             [
              0.6666666666666666,
              "#ed7953"
             ],
             [
              0.7777777777777778,
              "#fb9f3a"
             ],
             [
              0.8888888888888888,
              "#fdca26"
             ],
             [
              1,
              "#f0f921"
             ]
            ],
            "type": "histogram2d"
           }
          ],
          "histogram2dcontour": [
           {
            "colorbar": {
             "outlinewidth": 0,
             "ticks": ""
            },
            "colorscale": [
             [
              0,
              "#0d0887"
             ],
             [
              0.1111111111111111,
              "#46039f"
             ],
             [
              0.2222222222222222,
              "#7201a8"
             ],
             [
              0.3333333333333333,
              "#9c179e"
             ],
             [
              0.4444444444444444,
              "#bd3786"
             ],
             [
              0.5555555555555556,
              "#d8576b"
             ],
             [
              0.6666666666666666,
              "#ed7953"
             ],
             [
              0.7777777777777778,
              "#fb9f3a"
             ],
             [
              0.8888888888888888,
              "#fdca26"
             ],
             [
              1,
              "#f0f921"
             ]
            ],
            "type": "histogram2dcontour"
           }
          ],
          "mesh3d": [
           {
            "colorbar": {
             "outlinewidth": 0,
             "ticks": ""
            },
            "type": "mesh3d"
           }
          ],
          "parcoords": [
           {
            "line": {
             "colorbar": {
              "outlinewidth": 0,
              "ticks": ""
             }
            },
            "type": "parcoords"
           }
          ],
          "pie": [
           {
            "automargin": true,
            "type": "pie"
           }
          ],
          "scatter": [
           {
            "fillpattern": {
             "fillmode": "overlay",
             "size": 10,
             "solidity": 0.2
            },
            "type": "scatter"
           }
          ],
          "scatter3d": [
           {
            "line": {
             "colorbar": {
              "outlinewidth": 0,
              "ticks": ""
             }
            },
            "marker": {
             "colorbar": {
              "outlinewidth": 0,
              "ticks": ""
             }
            },
            "type": "scatter3d"
           }
          ],
          "scattercarpet": [
           {
            "marker": {
             "colorbar": {
              "outlinewidth": 0,
              "ticks": ""
             }
            },
            "type": "scattercarpet"
           }
          ],
          "scattergeo": [
           {
            "marker": {
             "colorbar": {
              "outlinewidth": 0,
              "ticks": ""
             }
            },
            "type": "scattergeo"
           }
          ],
          "scattergl": [
           {
            "marker": {
             "colorbar": {
              "outlinewidth": 0,
              "ticks": ""
             }
            },
            "type": "scattergl"
           }
          ],
          "scattermap": [
           {
            "marker": {
             "colorbar": {
              "outlinewidth": 0,
              "ticks": ""
             }
            },
            "type": "scattermap"
           }
          ],
          "scattermapbox": [
           {
            "marker": {
             "colorbar": {
              "outlinewidth": 0,
              "ticks": ""
             }
            },
            "type": "scattermapbox"
           }
          ],
          "scatterpolar": [
           {
            "marker": {
             "colorbar": {
              "outlinewidth": 0,
              "ticks": ""
             }
            },
            "type": "scatterpolar"
           }
          ],
          "scatterpolargl": [
           {
            "marker": {
             "colorbar": {
              "outlinewidth": 0,
              "ticks": ""
             }
            },
            "type": "scatterpolargl"
           }
          ],
          "scatterternary": [
           {
            "marker": {
             "colorbar": {
              "outlinewidth": 0,
              "ticks": ""
             }
            },
            "type": "scatterternary"
           }
          ],
          "surface": [
           {
            "colorbar": {
             "outlinewidth": 0,
             "ticks": ""
            },
            "colorscale": [
             [
              0,
              "#0d0887"
             ],
             [
              0.1111111111111111,
              "#46039f"
             ],
             [
              0.2222222222222222,
              "#7201a8"
             ],
             [
              0.3333333333333333,
              "#9c179e"
             ],
             [
              0.4444444444444444,
              "#bd3786"
             ],
             [
              0.5555555555555556,
              "#d8576b"
             ],
             [
              0.6666666666666666,
              "#ed7953"
             ],
             [
              0.7777777777777778,
              "#fb9f3a"
             ],
             [
              0.8888888888888888,
              "#fdca26"
             ],
             [
              1,
              "#f0f921"
             ]
            ],
            "type": "surface"
           }
          ],
          "table": [
           {
            "cells": {
             "fill": {
              "color": "#EBF0F8"
             },
             "line": {
              "color": "white"
             }
            },
            "header": {
             "fill": {
              "color": "#C8D4E3"
             },
             "line": {
              "color": "white"
             }
            },
            "type": "table"
           }
          ]
         },
         "layout": {
          "annotationdefaults": {
           "arrowcolor": "#2a3f5f",
           "arrowhead": 0,
           "arrowwidth": 1
          },
          "autotypenumbers": "strict",
          "coloraxis": {
           "colorbar": {
            "outlinewidth": 0,
            "ticks": ""
           }
          },
          "colorscale": {
           "diverging": [
            [
             0,
             "#8e0152"
            ],
            [
             0.1,
             "#c51b7d"
            ],
            [
             0.2,
             "#de77ae"
            ],
            [
             0.3,
             "#f1b6da"
            ],
            [
             0.4,
             "#fde0ef"
            ],
            [
             0.5,
             "#f7f7f7"
            ],
            [
             0.6,
             "#e6f5d0"
            ],
            [
             0.7,
             "#b8e186"
            ],
            [
             0.8,
             "#7fbc41"
            ],
            [
             0.9,
             "#4d9221"
            ],
            [
             1,
             "#276419"
            ]
           ],
           "sequential": [
            [
             0,
             "#0d0887"
            ],
            [
             0.1111111111111111,
             "#46039f"
            ],
            [
             0.2222222222222222,
             "#7201a8"
            ],
            [
             0.3333333333333333,
             "#9c179e"
            ],
            [
             0.4444444444444444,
             "#bd3786"
            ],
            [
             0.5555555555555556,
             "#d8576b"
            ],
            [
             0.6666666666666666,
             "#ed7953"
            ],
            [
             0.7777777777777778,
             "#fb9f3a"
            ],
            [
             0.8888888888888888,
             "#fdca26"
            ],
            [
             1,
             "#f0f921"
            ]
           ],
           "sequentialminus": [
            [
             0,
             "#0d0887"
            ],
            [
             0.1111111111111111,
             "#46039f"
            ],
            [
             0.2222222222222222,
             "#7201a8"
            ],
            [
             0.3333333333333333,
             "#9c179e"
            ],
            [
             0.4444444444444444,
             "#bd3786"
            ],
            [
             0.5555555555555556,
             "#d8576b"
            ],
            [
             0.6666666666666666,
             "#ed7953"
            ],
            [
             0.7777777777777778,
             "#fb9f3a"
            ],
            [
             0.8888888888888888,
             "#fdca26"
            ],
            [
             1,
             "#f0f921"
            ]
           ]
          },
          "colorway": [
           "#636efa",
           "#EF553B",
           "#00cc96",
           "#ab63fa",
           "#FFA15A",
           "#19d3f3",
           "#FF6692",
           "#B6E880",
           "#FF97FF",
           "#FECB52"
          ],
          "font": {
           "color": "#2a3f5f"
          },
          "geo": {
           "bgcolor": "white",
           "lakecolor": "white",
           "landcolor": "#E5ECF6",
           "showlakes": true,
           "showland": true,
           "subunitcolor": "white"
          },
          "hoverlabel": {
           "align": "left"
          },
          "hovermode": "closest",
          "mapbox": {
           "style": "light"
          },
          "paper_bgcolor": "white",
          "plot_bgcolor": "#E5ECF6",
          "polar": {
           "angularaxis": {
            "gridcolor": "white",
            "linecolor": "white",
            "ticks": ""
           },
           "bgcolor": "#E5ECF6",
           "radialaxis": {
            "gridcolor": "white",
            "linecolor": "white",
            "ticks": ""
           }
          },
          "scene": {
           "xaxis": {
            "backgroundcolor": "#E5ECF6",
            "gridcolor": "white",
            "gridwidth": 2,
            "linecolor": "white",
            "showbackground": true,
            "ticks": "",
            "zerolinecolor": "white"
           },
           "yaxis": {
            "backgroundcolor": "#E5ECF6",
            "gridcolor": "white",
            "gridwidth": 2,
            "linecolor": "white",
            "showbackground": true,
            "ticks": "",
            "zerolinecolor": "white"
           },
           "zaxis": {
            "backgroundcolor": "#E5ECF6",
            "gridcolor": "white",
            "gridwidth": 2,
            "linecolor": "white",
            "showbackground": true,
            "ticks": "",
            "zerolinecolor": "white"
           }
          },
          "shapedefaults": {
           "line": {
            "color": "#2a3f5f"
           }
          },
          "ternary": {
           "aaxis": {
            "gridcolor": "white",
            "linecolor": "white",
            "ticks": ""
           },
           "baxis": {
            "gridcolor": "white",
            "linecolor": "white",
            "ticks": ""
           },
           "bgcolor": "#E5ECF6",
           "caxis": {
            "gridcolor": "white",
            "linecolor": "white",
            "ticks": ""
           }
          },
          "title": {
           "x": 0.05
          },
          "xaxis": {
           "automargin": true,
           "gridcolor": "white",
           "linecolor": "white",
           "ticks": "",
           "title": {
            "standoff": 15
           },
           "zerolinecolor": "white",
           "zerolinewidth": 2
          },
          "yaxis": {
           "automargin": true,
           "gridcolor": "white",
           "linecolor": "white",
           "ticks": "",
           "title": {
            "standoff": 15
           },
           "zerolinecolor": "white",
           "zerolinewidth": 2
          }
         }
        },
        "title": {
         "text": "3D Mesh Visualization"
        },
        "width": 800
       }
      }
     },
     "metadata": {},
     "output_type": "display_data"
    }
   ],
   "source": [
    "mm = MeshManager()\n",
    "mm.load_mesh(data_path(\"mesh/processed/TS1_wrapped.obj\"))\n",
    "ps = PolylinesSkeleton().from_txt(data_path(\"polylines/TS1_quality0.8.polylines.txt\"))\n",
    "mm.visualize_mesh_3d(polylines=ps)"
   ]
  },
  {
   "cell_type": "code",
   "execution_count": 8,
   "id": "b96df6b6",
   "metadata": {},
   "outputs": [
    {
     "data": {
      "image/png": "[encoded data removed]",
      "text/plain": [
       "<Figure size 1018.06x400 with 1 Axes>"
      ]
     },
     "metadata": {},
     "output_type": "display_data"
    }
   ],
   "source": [
    "skel = build_traced_skeleton_graph(mm, ps, options=TraceOptions(spacing=200))\n",
    "skel.draw()\n",
    "skel.to_swc(data_path(\"swc/TS1_trace.swc\"))\n"
   ]
  }
 ],
 "metadata": {
  "kernelspec": {
   "display_name": ".venv",
   "language": "python",
   "name": "python3"
  },
  "language_info": {
   "codemirror_mode": {
    "name": "ipython",
    "version": 3
   },
   "file_extension": ".py",
   "mimetype": "text/x-python",
   "name": "python",
   "nbconvert_exporter": "python",
   "pygments_lexer": "ipython3",
   "version": "3.12.7"
  }
 },
 "nbformat": 4,
 "nbformat_minor": 5
}
