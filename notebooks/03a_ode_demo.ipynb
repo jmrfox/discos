{
 "cells": [
  {
   "cell_type": "markdown",
   "metadata": {},
   "source": [
    "# ODESystem Class Demonstration\n",
    "\n",
    "This notebook provides a comprehensive demonstration of the `ODESystem` class and all of its methods. The ODESystem class implements the ordinary differential equation system for compartmental neuronal modeling using the Hodgkin-Huxley formalism.\n",
    "\n",
    "## Overview\n",
    "\n",
    "The ODESystem class:\n",
    "- Takes a `SegmentGraph` as input representing the neuronal compartments\n",
    "- Creates a system of ODEs modeling membrane potential dynamics\n",
    "- Implements Hodgkin-Huxley ionic currents (Na+, K+, leak)\n",
    "- Supports multiple numerical integration methods (Forward Euler, SciPy solvers)\n",
    "- Handles stimulus protocols and parameter customization"
   ]
  },
  {
   "cell_type": "code",
   "execution_count": null,
   "metadata": {},
   "outputs": [],
   "source": [
    "import numpy as np\n",
    "import matplotlib.pyplot as plt\n",
    "import networkx as nx\n",
    "from typing import Dict, List, Tuple\n",
    "\n",
    "# Import GenCoMo modules\n",
    "import sys\n",
    "import os\n",
    "sys.path.append(os.path.join(os.getcwd(), '..'))\n",
    "\n",
    "from gencomo.ode import ODESystem\n",
    "from gencomo.segmentation import SegmentGraph\n",
    "\n",
    "print(\"📦 Imports successful!\")"
   ]
  },
  {
   "cell_type": "markdown",
   "metadata": {},
   "source": [
    "## 1. Creating a Simple SegmentGraph\n",
    "\n",
    "First, let's create a simple SegmentGraph to work with. We'll create a linear chain of compartments to demonstrate the ODESystem functionality."
   ]
  },
  {
   "cell_type": "code",
   "execution_count": null,
   "metadata": {},
   "outputs": [],
   "source": [
    "def create_demo_segment_graph(num_compartments: int = 3) -> SegmentGraph:\n",
    "    \"\"\"\n",
    "    Create a demo SegmentGraph with a linear chain of compartments.\n",
    "    \"\"\"\n",
    "    graph = SegmentGraph()\n",
    "    \n",
    "    # Add compartments as nodes\n",
    "    for i in range(num_compartments):\n",
    "        comp_id = f\"comp_{i}\"\n",
    "        \n",
    "        # Add node with properties\n",
    "        graph.add_node(comp_id, \n",
    "                      external_surface_area=10.0 + i * 2.0,  # μm²\n",
    "                      volume=5.0 + i,  # μm³\n",
    "                      membrane_potential=-65.0,  # mV\n",
    "                      slice_index=i,\n",
    "                      centroid=np.array([0.0, 0.0, i * 10.0]))\n",
    "    \n",
    "    # Add connections between adjacent compartments\n",
    "    for i in range(num_compartments - 1):\n",
    "        comp1 = f\"comp_{i}\"\n",
    "        comp2 = f\"comp_{i+1}\"\n",
    "        \n",
    "        # Add edge with conductance\n",
    "        graph.add_edge(comp1, comp2, \n",
    "                      conductance=1e-6,  # S (siemens)\n",
    "                      length=10.0)  # μm\n",
    "    \n",
    "    return graph\n",
    "\n",
    "# Create demo graph\n",
    "demo_graph = create_demo_segment_graph(4)\n",
    "\n",
    "print(f\"🧠 Created demo SegmentGraph:\")\n",
    "print(f\"   Nodes: {list(demo_graph.nodes())}\")\n",
    "print(f\"   Edges: {list(demo_graph.edges())}\")\n",
    "\n",
    "# Visualize the graph structure\n",
    "plt.figure(figsize=(10, 6))\n",
    "pos = nx.spring_layout(demo_graph)\n",
    "nx.draw(demo_graph, pos, with_labels=True, node_color='lightblue', \n",
    "        node_size=1000, font_size=10, font_weight='bold')\n",
    "plt.title(\"Demo SegmentGraph Structure\")\n",
    "plt.show()"
   ]
  },
  {
   "cell_type": "markdown",
   "metadata": {},
   "source": [
    "## 2. ODESystem Initialization and Basic Properties\n",
    "\n",
    "Let's create an ODESystem instance and explore its basic properties and helper methods."
   ]
  },
  {
   "cell_type": "code",
   "execution_count": null,
   "metadata": {},
   "outputs": [],
   "source": [
    "# Create ODESystem instance\n",
    "ode_system = ODESystem(demo_graph)\n",
    "\n",
    "print(\"🔧 ODESystem created!\")\n",
    "print(f\"String representation: {ode_system}\")\n",
    "print(f\"Repr: {repr(ode_system)}\")\n",
    "print()\n",
    "\n",
    "# Print detailed summary\n",
    "ode_system.print_summary()"
   ]
  },
  {
   "cell_type": "markdown",
   "metadata": {},
   "source": [
    "## 3. Exploring Compartment Information\n",
    "\n",
    "The ODESystem provides methods to inspect individual compartments and their properties."
   ]
  },
  {
   "cell_type": "code",
   "execution_count": null,
   "metadata": {},
   "outputs": [],
   "source": [
    "# Get information about each compartment\n",
    "print(\"📊 Compartment Information:\")\n",
    "print(\"=\" * 50)\n",
    "\n",
    "for comp_id in ode_system.compartment_ids:\n",
    "    info = ode_system.get_compartment_info(comp_id)\n",
    "    print(f\"\\n🔹 {comp_id}:\")\n",
    "    print(f\"   Index: {info['index']}\")\n",
    "    print(f\"   Surface area: {info['external_surface_area']:.1f} μm²\")\n",
    "    print(f\"   Volume: {info['volume']:.1f} μm³\")\n",
    "    print(f\"   Membrane potential: {info['membrane_potential']:.1f} mV\")\n",
    "    print(f\"   Neighbors: {info['neighbors']} ({info['num_neighbors']} total)\")\n",
    "    print(f\"   Centroid: {info['centroid']}\")"
   ]
  },
  {
   "cell_type": "markdown",
   "metadata": {},
   "source": [
    "## 4. Parameter Management\n",
    "\n",
    "The ODESystem allows customization of biophysical parameters."
   ]
  },
  {
   "cell_type": "code",
   "execution_count": null,
   "metadata": {},
   "outputs": [],
   "source": [
    "# Show default parameters\n",
    "print(\"⚙️ Default Biophysical Parameters:\")\n",
    "for param, value in ode_system.default_params.items():\n",
    "    print(f\"   {param}: {value}\")\n",
    "\n",
    "print(\"\\n🔧 Modifying parameters...\")\n",
    "\n",
    "# Modify some parameters\n",
    "ode_system.set_parameters(\n",
    "    temperature=310.15,  # 37°C in Kelvin\n",
    "    na_conductance=0.15,  # Increase sodium conductance\n",
    "    k_conductance=0.04   # Increase potassium conductance\n",
    ")\n",
    "\n",
    "print(\"\\n📊 Updated Parameters:\")\n",
    "for param, value in ode_system.default_params.items():\n",
    "    print(f\"   {param}: {value}\")"
   ]
  },
  {
   "cell_type": "markdown",
   "metadata": {},
   "source": [
    "## 5. Stimulus Protocols\n",
    "\n",
    "The ODESystem supports adding various stimulus protocols to compartments."
   ]
  },
  {
   "cell_type": "code",
   "execution_count": null,
   "metadata": {},
   "outputs": [],
   "source": [
    "# Add stimuli to different compartments\n",
    "print(\"⚡ Adding stimulus protocols...\")\n",
    "\n",
    "# Current injection stimulus\n",
    "ode_system.add_stimulus(\n",
    "    compartment_id=\"comp_0\",\n",
    "    start_time=10.0,  # ms\n",
    "    duration=5.0,     # ms\n",
    "    amplitude=50.0,   # pA\n",
    "    stimulus_type=\"current\"\n",
    ")\n",
    "\n",
    "# Voltage clamp stimulus\n",
    "ode_system.add_stimulus(\n",
    "    compartment_id=\"comp_2\",\n",
    "    start_time=20.0,  # ms\n",
    "    duration=3.0,     # ms\n",
    "    amplitude=-30.0,  # mV\n",
    "    stimulus_type=\"voltage\"\n",
    ")\n",
    "\n",
    "# Print updated summary with stimuli\n",
    "ode_system.print_summary()"
   ]
  }
 ],
 "metadata": {
  "kernelspec": {
   "display_name": "Python 3",
   "language": "python",
   "name": "python3"
  },
  "language_info": {
   "codemirror_mode": {
    "name": "ipython",
    "version": 3
   },
   "file_extension": ".py",
   "mimetype": "text/x-python",
   "name": "python",
   "nbconvert_exporter": "python",
   "pygments_lexer": "ipython3",
   "version": "3.11.4"
  }
 },
 "nbformat": 4,
 "nbformat_minor": 4
}
