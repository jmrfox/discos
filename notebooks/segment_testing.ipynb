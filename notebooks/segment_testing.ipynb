{
 "cells": [
  {
   "cell_type": "code",
   "execution_count": 1,
   "id": "c44d2925",
   "metadata": {},
   "outputs": [],
   "source": [
    "from gencomo import create_cylinder_mesh, MeshManager, MeshSegmenter"
   ]
  },
  {
   "cell_type": "code",
   "execution_count": 3,
   "id": "6c0c238f",
   "metadata": {},
   "outputs": [
    {
     "name": "stdout",
     "output_type": "stream",
     "text": [
      "✅ Validated single-hull mesh: 96 external faces, volume=0.776\n",
      "Computing 1 cross-sections from z=-0.50 to z=0.50\n",
      "  Cross-section 0: z=0.00, 48 line segments, area=0.000\n",
      "✅ Computed 1 cross-sections, creating 2 slices\n",
      "\n",
      "Processing slice 0: z=[-0.50, 0.00]\n",
      "  🏷️  Annotated 96 external + 46 internal faces\n",
      "  Slice 0: 1 closed volumes (segments)\n",
      "    🔄 Transferred face attributes: 142 faces\n",
      "    Segment seg_0_0: vol=0.388, ext_area=2.343, int_area=0.776\n",
      "\n",
      "Processing slice 1: z=[0.00, 0.50]\n",
      "  🏷️  Annotated 96 external + 46 internal faces\n",
      "  Slice 1: 1 closed volumes (segments)\n",
      "    🔄 Transferred face attributes: 142 faces\n",
      "    Segment seg_1_0: vol=0.388, ext_area=2.343, int_area=0.776\n",
      "✅ Extracted 2 total segments across 2 slices\n",
      "  Connected seg_0_0 ↔ seg_1_0\n",
      "✅ Built connectivity graph: 2 nodes, 1 edges\n",
      "\n",
      "📊 CONSERVATION VALIDATION:\n",
      "Volume: segments=0.7765 vs original=0.7765 (error: 0.00%)\n",
      "Surface area: segments=4.6855 vs original=4.6855 (error: 0.00%)\n",
      "✅ Conservation validation passed\n"
     ]
    }
   ],
   "source": [
    "cylinder = create_cylinder_mesh(length=1.0, radius=0.5, resolution=24)\n",
    "mesh = MeshManager(cylinder)\n",
    "# mesh.visualize_mesh_3d()\n",
    "segmenter = MeshSegmenter()\n",
    "segments = segmenter.segment_mesh(cylinder, slice_height=0.5)\n"
   ]
  }
 ],
 "metadata": {
  "kernelspec": {
   "display_name": ".venv",
   "language": "python",
   "name": "python3"
  },
  "language_info": {
   "codemirror_mode": {
    "name": "ipython",
    "version": 3
   },
   "file_extension": ".py",
   "mimetype": "text/x-python",
   "name": "python",
   "nbconvert_exporter": "python",
   "pygments_lexer": "ipython3",
   "version": "3.11.4"
  }
 },
 "nbformat": 4,
 "nbformat_minor": 5
}
