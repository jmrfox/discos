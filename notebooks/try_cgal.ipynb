{
 "cells": [
  {
   "cell_type": "code",
   "execution_count": 1,
   "id": "8ef0eca7",
   "metadata": {},
   "outputs": [],
   "source": [
    "from discos import *\n",
    "import trimesh\n",
    "import numpy as np\n",
    "import networkx as nx\n",
    "\n",
    "import logging\n",
    "logging.basicConfig(level=logging.INFO)  # shows level 1 messages by default\n",
    "\n",
    "# Show detailed (level 2) logs:\n",
    "logging.getLogger(\"discos.skeleton\").setLevel(logging.DEBUG)\n",
    "\n"
   ]
  },
  {
   "cell_type": "code",
   "execution_count": 2,
   "id": "d45d42a5",
   "metadata": {},
   "outputs": [
    {
     "name": "stdout",
     "output_type": "stream",
     "text": [
      "Torus properties:\n",
      "  Volume: 64.200\n",
      "  Surface area: 127.487\n",
      "  Z-bounds: [-4.1887902  4.1887902]\n"
     ]
    },
    {
     "data": {
      "application/vnd.plotly.v1+json": {
       "config": {
        "plotlyServerURL": "https://plot.ly"
       },
       "data": [
        {
         "color": "lightblue",
         "i": {
          "bdata": "AAABAAEAAgACAAMAAwAEAAQABQAFAAYABgAHAAcACAAIAAkACQAKAAoACwALAAAADAANAA0ADgAOAA8ADwAQABAAEQARABIAEgATABMAFAAUABUAFQAWABYAFwAXAAwAGAAZABkAGgAaABsAGwAcABwAHQAdAB4AHgAfAB8AIAAgACEAIQAiACIAIwAjABgAJAAlACUAJgAmACcAJwAoACgAKQApACoAKgArACsALAAsAC0ALQAuAC4ALwAvACQAMAAxADEAMgAyADMAMwA0ADQANQA1ADYANgA3ADcAOAA4ADkAOQA6ADoAOwA7ADAAPAA9AD0APgA+AD8APwBAAEAAQQBBAEIAQgBDAEMARABEAEUARQBGAEYARwBHADwASABJAEkASgBKAEsASwBMAEwATQBNAE4ATgBPAE8AUABQAFEAUQBSAFIAUwBTAEgAVABVAFUAVgBWAFcAVwBYAFgAWQBZAFoAWgBbAFsAXABcAF0AXQBeAF4AXwBfAFQAYABhAGEAYgBiAGMAYwBkAGQAZQBlAGYAZgBnAGcAaABoAGkAaQBqAGoAawBrAGAAbABtAG0AbgBuAG8AbwBwAHAAcQBxAHIAcgBzAHMAdAB0AHUAdQB2AHYAdwB3AGwAeAB5AHkAegB6AHsAewB8AHwAfQB9AH4AfgB/AH8AgACAAIEAgQCCAIIAgwCDAHgAhACFAIUAhgCGAIcAhwCIAIgAiQCJAIoAigCLAIsAjACMAI0AjQCOAI4AjwCPAIQAkACRAJEAkgCSAJMAkwCUAJQAlQCVAJYAlgCXAJcAmACYAJkAmQCaAJoAmwCbAJAAnACdAJ0AngCeAJ8AnwCgAKAAoQChAKIAogCjAKMApACkAKUApQCmAKYApwCnAJwAqACpAKkAqgCqAKsAqwCsAKwArQCtAK4ArgCvAK8AsACwALEAsQCyALIAswCzAKgAtAC1ALUAtgC2ALcAtwC4ALgAuQC5ALoAugC7ALsAvAC8AL0AvQC+AL4AvwC/ALQAwADBAMEAwgDCAMMAwwDEAMQAxQDFAMYAxgDHAMcAyADIAMkAyQDKAMoAywDLAMAAzADNAM0AzgDOAM8AzwDQANAA0QDRANIA0gDTANMA1ADUANUA1QDWANYA1wDXAMwA2ADZANkA2gDaANsA2wDcANwA3QDdAN4A3gDfAN8A4ADgAOEA4QDiAOIA4wDjANgA5ADlAOUA5gDmAOcA5wDoAOgA6QDpAOoA6gDrAOsA7ADsAO0A7QDuAO4A7wDvAOQA8ADxAPEA8gDyAPMA8wD0APQA9QD1APYA9gD3APcA+AD4APkA+QD6APoA+wD7APAA/AD9AP0A/gD+AP8A/wAAAQABAQEBAQIBAgEDAQMBBAEEAQUBBQEGAQYBBwEHAfwACAEJAQkBCgEKAQsBCwEMAQwBDQENAQ4BDgEPAQ8BEAEQAREBEQESARIBEwETAQgBFAEVARUBFgEWARcBFwEYARgBGQEZARoBGgEbARsBHAEcAR0BHQEeAR4BHwEfARQB",
          "dtype": "i2"
         },
         "j": {
          "bdata": "DAAMAA0ADQAOAA4ADwAPABAAEAARABEAEgASABMAEwAUABQAFQAVABYAFgAXABcAGAAYABkAGQAaABoAGwAbABwAHAAdAB0AHgAeAB8AHwAgACAAIQAhACIAIgAjACMAJAAkACUAJQAmACYAJwAnACgAKAApACkAKgAqACsAKwAsACwALQAtAC4ALgAvAC8AMAAwADEAMQAyADIAMwAzADQANAA1ADUANgA2ADcANwA4ADgAOQA5ADoAOgA7ADsAPAA8AD0APQA+AD4APwA/AEAAQABBAEEAQgBCAEMAQwBEAEQARQBFAEYARgBHAEcASABIAEkASQBKAEoASwBLAEwATABNAE0ATgBOAE8ATwBQAFAAUQBRAFIAUgBTAFMAVABUAFUAVQBWAFYAVwBXAFgAWABZAFkAWgBaAFsAWwBcAFwAXQBdAF4AXgBfAF8AYABgAGEAYQBiAGIAYwBjAGQAZABlAGUAZgBmAGcAZwBoAGgAaQBpAGoAagBrAGsAbABsAG0AbQBuAG4AbwBvAHAAcABxAHEAcgByAHMAcwB0AHQAdQB1AHYAdgB3AHcAeAB4AHkAeQB6AHoAewB7AHwAfAB9AH0AfgB+AH8AfwCAAIAAgQCBAIIAggCDAIMAhACEAIUAhQCGAIYAhwCHAIgAiACJAIkAigCKAIsAiwCMAIwAjQCNAI4AjgCPAI8AkACQAJEAkQCSAJIAkwCTAJQAlACVAJUAlgCWAJcAlwCYAJgAmQCZAJoAmgCbAJsAnACcAJ0AnQCeAJ4AnwCfAKAAoAChAKEAogCiAKMAowCkAKQApQClAKYApgCnAKcAqACoAKkAqQCqAKoAqwCrAKwArACtAK0ArgCuAK8ArwCwALAAsQCxALIAsgCzALMAtAC0ALUAtQC2ALYAtwC3ALgAuAC5ALkAugC6ALsAuwC8ALwAvQC9AL4AvgC/AL8AwADAAMEAwQDCAMIAwwDDAMQAxADFAMUAxgDGAMcAxwDIAMgAyQDJAMoAygDLAMsAzADMAM0AzQDOAM4AzwDPANAA0ADRANEA0gDSANMA0wDUANQA1QDVANYA1gDXANcA2ADYANkA2QDaANoA2wDbANwA3ADdAN0A3gDeAN8A3wDgAOAA4QDhAOIA4gDjAOMA5ADkAOUA5QDmAOYA5wDnAOgA6ADpAOkA6gDqAOsA6wDsAOwA7QDtAO4A7gDvAO8A8ADwAPEA8QDyAPIA8wDzAPQA9AD1APUA9gD2APcA9wD4APgA+QD5APoA+gD7APsA/AD8AP0A/QD+AP4A/wD/AAABAAEBAQEBAgECAQMBAwEEAQQBBQEFAQYBBgEHAQcBCAEIAQkBCQEKAQoBCwELAQwBDAENAQ0BDgEOAQ8BDwEQARABEQERARIBEgETARMBFAEUARUBFQEWARYBFwEXARgBGAEZARkBGgEaARsBGwEcARwBHQEdAR4BHgEfAR8BAAAAAAEAAQACAAIAAwADAAQABAAFAAUABgAGAAcABwAIAAgACQAJAAoACgALAAsA",
          "dtype": "i2"
         },
         "k": {
          "bdata": "AQANAAIADgADAA8ABAAQAAUAEQAGABIABwATAAgAFAAJABUACgAWAAsAFwAAAAwADQAZAA4AGgAPABsAEAAcABEAHQASAB4AEwAfABQAIAAVACEAFgAiABcAIwAMABgAGQAlABoAJgAbACcAHAAoAB0AKQAeACoAHwArACAALAAhAC0AIgAuACMALwAYACQAJQAxACYAMgAnADMAKAA0ACkANQAqADYAKwA3ACwAOAAtADkALgA6AC8AOwAkADAAMQA9ADIAPgAzAD8ANABAADUAQQA2AEIANwBDADgARAA5AEUAOgBGADsARwAwADwAPQBJAD4ASgA/AEsAQABMAEEATQBCAE4AQwBPAEQAUABFAFEARgBSAEcAUwA8AEgASQBVAEoAVgBLAFcATABYAE0AWQBOAFoATwBbAFAAXABRAF0AUgBeAFMAXwBIAFQAVQBhAFYAYgBXAGMAWABkAFkAZQBaAGYAWwBnAFwAaABdAGkAXgBqAF8AawBUAGAAYQBtAGIAbgBjAG8AZABwAGUAcQBmAHIAZwBzAGgAdABpAHUAagB2AGsAdwBgAGwAbQB5AG4AegBvAHsAcAB8AHEAfQByAH4AcwB/AHQAgAB1AIEAdgCCAHcAgwBsAHgAeQCFAHoAhgB7AIcAfACIAH0AiQB+AIoAfwCLAIAAjACBAI0AggCOAIMAjwB4AIQAhQCRAIYAkgCHAJMAiACUAIkAlQCKAJYAiwCXAIwAmACNAJkAjgCaAI8AmwCEAJAAkQCdAJIAngCTAJ8AlACgAJUAoQCWAKIAlwCjAJgApACZAKUAmgCmAJsApwCQAJwAnQCpAJ4AqgCfAKsAoACsAKEArQCiAK4AowCvAKQAsAClALEApgCyAKcAswCcAKgAqQC1AKoAtgCrALcArAC4AK0AuQCuALoArwC7ALAAvACxAL0AsgC+ALMAvwCoALQAtQDBALYAwgC3AMMAuADEALkAxQC6AMYAuwDHALwAyAC9AMkAvgDKAL8AywC0AMAAwQDNAMIAzgDDAM8AxADQAMUA0QDGANIAxwDTAMgA1ADJANUAygDWAMsA1wDAAMwAzQDZAM4A2gDPANsA0ADcANEA3QDSAN4A0wDfANQA4ADVAOEA1gDiANcA4wDMANgA2QDlANoA5gDbAOcA3ADoAN0A6QDeAOoA3wDrAOAA7ADhAO0A4gDuAOMA7wDYAOQA5QDxAOYA8gDnAPMA6AD0AOkA9QDqAPYA6wD3AOwA+ADtAPkA7gD6AO8A+wDkAPAA8QD9APIA/gDzAP8A9AAAAfUAAQH2AAIB9wADAfgABAH5AAUB+gAGAfsABwHwAPwA/QAJAf4ACgH/AAsBAAEMAQEBDQECAQ4BAwEPAQQBEAEFAREBBgESAQcBEwH8AAgBCQEVAQoBFgELARcBDAEYAQ0BGQEOARoBDwEbARABHAERAR0BEgEeARMBHwEIARQBFQEBABYBAgAXAQMAGAEEABkBBQAaAQYAGwEHABwBCAAdAQkAHgEKAB8BCwAUAQAA",
          "dtype": "i2"
         },
         "name": "Mesh",
         "opacity": 0.8,
         "type": "mesh3d",
         "x": {
          "bdata": "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",
          "dtype": "f8"
         },
         "y": {
          "bdata": "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",
          "dtype": "f8"
         },
         "z": {
          "bdata": "ZxShlLb/wrwMD7k0erDCvGyVi0MA2MG8chZ28kmwwLzuLsFCJxG/vK47ZmAzYL28+DCWoLrBvLytO2ZgM2C9vO0uwUInEb+8chZ28kmwwLxslYtDANjBvAwPuTR6sMK8HUovzaFY8T+dBDIp5sPwP7PBEicbW+4/K+/Gs/IE6j+kHHtAyq7lPx3VKRUZguI/HUovzaFY4T8c1SkVGYLiP6Mce0DKruU/K+/Gs/IE6j+xwRInG1vuP50EMinmw/A/YnMtOFLBAEAE34/5pzEAQO+JT+JPUv0/FS1EVPsh+T880DjGpvH0PyGcaLWm4PE/Y3MtOFLB8D8gnGi1puDxPzvQOMam8fQ/FS1EVPsh+T/tiU/iT1L9PwTfj/mnMQBAL9nRIwSyB0BNh/3Y1+YGQAqeV5/DuwRA42LdGoPFAUB7T8YshZ79P/R8erlcSPk/MNnRIwSy9z/zfHq5XEj5P3pPxiyFnv0/42LdGoPFAUAInlefw7sEQE2H/djX5gZA0ENue1IFDUAhvqOxfAwMQFd7ACyoZAlA3LKS3P3DBUBi6iSNUyMCQC5PAw/+9v4/0UNue1IF/T8sTwMP/vb+P2HqJI1TIwJA3LKS3P3DBUBVewAsqGQJQCG+o7F8DAxAH780hSovEECciZbtykgPQHdOHGmKUgxArh7Px79GCEDn7oEm9ToEQMGzB6K0RAFAH780hSovAEDAsweitEQBQObugSb1OgRArh7Px79GCEB1ThxpilIMQJyJlu3KSA9AZXMtOFLBEEAG34/5pzEQQPGJT+JPUg1AFy1EVPshCUA+0DjGpvEEQCOcaLWm4AFAZXMtOFLBAEAinGi1puABQD3QOMam8QRAFy1EVPshCUDviU/iT1INQAbfj/mnMRBAIL80hSovEECdiZbtykgPQHhOHGmKUgxArx7Px79GCEDn7oEm9ToEQMGzB6K0RAFAIL80hSovAEDAsweitEQBQObugSb1OgRArx7Px79GCEB2ThxpilIMQJ2Jlu3KSA9A0UNue1IFDUAivqOxfAwMQFh7ACyoZAlA3bKS3P3DBUBj6iSNUyMCQC9PAw/+9v4/0kNue1IF/T8tTwMP/vb+P2LqJI1TIwJA3bKS3P3DBUBWewAsqGQJQCK+o7F8DAxAL9nRIwSyB0BNh/3Y1+YGQAqeV5/DuwRA42LdGoPFAUB9T8YshZ79P/R8erlcSPk/MNnRIwSy9z/zfHq5XEj5P3xPxiyFnv0/42LdGoPFAUAInlefw7sEQE2H/djX5gZAaHMtOFLBAEAI34/5pzEAQPeJT+JPUv0/HS1EVPsh+T9D0DjGpvH0PyecaLWm4PE/aXMtOFLB8D8mnGi1puDxP0LQOMam8fQ/HS1EVPsh+T/1iU/iT1L9Pwjfj/mnMQBAJEovzaFY8T+kBDIp5sPwP8HBEicbW+4/N+/Gs/IE6j+tHHtAyq7lPyTVKRUZguI/JEovzaFY4T8j1SkVGYLiP6wce0DKruU/N+/Gs/IE6j+/wRInG1vuP6QEMinmw/A/9MoOjhP3wTzkulZuXgnBPAecnDXh/7w8JaIbT5sRtjyKUDXRqkauPAidE4PzIKQ8yFwzBB9qoDwGnROD8yCkPIZQNdGqRq48JaIbT5sRtjwFnJw14f+8POS6Vm5eCcE8GEovzaFY8b+YBDIp5sPwv6vBEicbW+6/JO/Gs/IE6r+fHHtAyq7lvxnVKRUZguK/GkovzaFY4b8Y1SkVGYLiv54ce0DKruW/JO/Gs/IE6r+pwRInG1vuv5gEMinmw/C/YnMtOFLBAMAE34/5pzEAwO2JT+JPUv2/FC1EVPsh+b880DjGpvH0vyGcaLWm4PG/Y3MtOFLB8L8gnGi1puDxvzvQOMam8fS/FC1EVPsh+b/riU/iT1L9vwTfj/mnMQDALdnRIwSyB8BLh/3Y1+YGwAieV5/DuwTA4mLdGoPFAcB4T8YshZ79v/J8erlcSPm/LtnRIwSy97/wfHq5XEj5v3ZPxiyFnv2/4mLdGoPFAcAHnlefw7sEwEuH/djX5gbA0UNue1IFDcAivqOxfAwMwFh7ACyoZAnA3bKS3P3DBcBj6iSNUyMCwC9PAw/+9v6/0kNue1IF/b8tTwMP/vb+v2PqJI1TIwLA3bKS3P3DBcBWewAsqGQJwCK+o7F8DAzAH780hSovEMCdiZbtykgPwHhOHGmKUgzArx7Px79GCMDo7oEm9ToEwMKzB6K0RAHAIb80hSovAMDBsweitEQBwOfugSb1OgTArx7Px79GCMB2ThxpilIMwJ2Jlu3KSA/AZXMtOFLBEMAG34/5pzEQwPOJT+JPUg3AGS1EVPshCcBA0DjGpvEEwCWcaLWm4AHAZ3MtOFLBAMAknGi1puABwD/QOMam8QTAGS1EVPshCcDxiU/iT1INwAbfj/mnMRDAIL80hSovEMCgiZbtykgPwHtOHGmKUgzAsh7Px79GCMDq7oEm9ToEwMSzB6K0RAHAIr80hSovAMDDsweitEQBwOnugSb1OgTAsh7Px79GCMB5ThxpilIMwKCJlu3KSA/A1kNue1IFDcAovqOxfAwMwFx7ACyoZAnA4bKS3P3DBcBn6iSNUyMCwDRPAw/+9v6/2ENue1IF/b8zTwMP/vb+v2bqJI1TIwLA4bKS3P3DBcBbewAsqGQJwCi+o7F8DAzAMtnRIwSyB8BQh/3Y1+YGwA2eV5/DuwTA5mLdGoPFAcCAT8YshZ79v/d8erlcSPm/M9nRIwSy97/2fHq5XEj5v39PxiyFnv2/5mLdGoPFAcALnlefw7sEwFCH/djX5gbAa3MtOFLBAMAL34/5pzEAwPuJT+JPUv2/IC1EVPsh+b9G0DjGpvH0vyqcaLWm4PG/bHMtOFLB8L8pnGi1puDxv0XQOMam8fS/IC1EVPsh+b/5iU/iT1L9vwvfj/mnMQDAMUovzaFY8b+wBDIp5sPwv9fBEicbW+6/S+/Gs/IE6r++HHtAyq7lvzPVKRUZguK/M0ovzaFY4b8y1SkVGYLiv70ce0DKruW/S+/Gs/IE6r/VwRInG1vuv7AEMinmw/C/",
          "dtype": "f8"
         }
        }
       ],
       "layout": {
        "autosize": false,
        "height": 600,
        "scene": {
         "aspectmode": "data",
         "xaxis": {
          "visible": true
         },
         "yaxis": {
          "visible": true
         },
         "zaxis": {
          "visible": true
         }
        },
        "template": {
         "data": {
          "bar": [
           {
            "error_x": {
             "color": "#2a3f5f"
            },
            "error_y": {
             "color": "#2a3f5f"
            },
            "marker": {
             "line": {
              "color": "#E5ECF6",
              "width": 0.5
             },
             "pattern": {
              "fillmode": "overlay",
              "size": 10,
              "solidity": 0.2
             }
            },
            "type": "bar"
           }
          ],
          "barpolar": [
           {
            "marker": {
             "line": {
              "color": "#E5ECF6",
              "width": 0.5
             },
             "pattern": {
              "fillmode": "overlay",
              "size": 10,
              "solidity": 0.2
             }
            },
            "type": "barpolar"
           }
          ],
          "carpet": [
           {
            "aaxis": {
             "endlinecolor": "#2a3f5f",
             "gridcolor": "white",
             "linecolor": "white",
             "minorgridcolor": "white",
             "startlinecolor": "#2a3f5f"
            },
            "baxis": {
             "endlinecolor": "#2a3f5f",
             "gridcolor": "white",
             "linecolor": "white",
             "minorgridcolor": "white",
             "startlinecolor": "#2a3f5f"
            },
            "type": "carpet"
           }
          ],
          "choropleth": [
           {
            "colorbar": {
             "outlinewidth": 0,
             "ticks": ""
            },
            "type": "choropleth"
           }
          ],
          "contour": [
           {
            "colorbar": {
             "outlinewidth": 0,
             "ticks": ""
            },
            "colorscale": [
             [
              0,
              "#0d0887"
             ],
             [
              0.1111111111111111,
              "#46039f"
             ],
             [
              0.2222222222222222,
              "#7201a8"
             ],
             [
              0.3333333333333333,
              "#9c179e"
             ],
             [
              0.4444444444444444,
              "#bd3786"
             ],
             [
              0.5555555555555556,
              "#d8576b"
             ],
             [
              0.6666666666666666,
              "#ed7953"
             ],
             [
              0.7777777777777778,
              "#fb9f3a"
             ],
             [
              0.8888888888888888,
              "#fdca26"
             ],
             [
              1,
              "#f0f921"
             ]
            ],
            "type": "contour"
           }
          ],
          "contourcarpet": [
           {
            "colorbar": {
             "outlinewidth": 0,
             "ticks": ""
            },
            "type": "contourcarpet"
           }
          ],
          "heatmap": [
           {
            "colorbar": {
             "outlinewidth": 0,
             "ticks": ""
            },
            "colorscale": [
             [
              0,
              "#0d0887"
             ],
             [
              0.1111111111111111,
              "#46039f"
             ],
             [
              0.2222222222222222,
              "#7201a8"
             ],
             [
              0.3333333333333333,
              "#9c179e"
             ],
             [
              0.4444444444444444,
              "#bd3786"
             ],
             [
              0.5555555555555556,
              "#d8576b"
             ],
             [
              0.6666666666666666,
              "#ed7953"
             ],
             [
              0.7777777777777778,
              "#fb9f3a"
             ],
             [
              0.8888888888888888,
              "#fdca26"
             ],
             [
              1,
              "#f0f921"
             ]
            ],
            "type": "heatmap"
           }
          ],
          "histogram": [
           {
            "marker": {
             "pattern": {
              "fillmode": "overlay",
              "size": 10,
              "solidity": 0.2
             }
            },
            "type": "histogram"
           }
          ],
          "histogram2d": [
           {
            "colorbar": {
             "outlinewidth": 0,
             "ticks": ""
            },
            "colorscale": [
             [
              0,
              "#0d0887"
             ],
             [
              0.1111111111111111,
              "#46039f"
             ],
             [
              0.2222222222222222,
              "#7201a8"
             ],
             [
              0.3333333333333333,
              "#9c179e"
             ],
             [
              0.4444444444444444,
              "#bd3786"
             ],
             [
              0.5555555555555556,
              "#d8576b"
             ],
             [
              0.6666666666666666,
              "#ed7953"
             ],
             [
              0.7777777777777778,
              "#fb9f3a"
             ],
             [
              0.8888888888888888,
              "#fdca26"
             ],
             [
              1,
              "#f0f921"
             ]
            ],
            "type": "histogram2d"
           }
          ],
          "histogram2dcontour": [
           {
            "colorbar": {
             "outlinewidth": 0,
             "ticks": ""
            },
            "colorscale": [
             [
              0,
              "#0d0887"
             ],
             [
              0.1111111111111111,
              "#46039f"
             ],
             [
              0.2222222222222222,
              "#7201a8"
             ],
             [
              0.3333333333333333,
              "#9c179e"
             ],
             [
              0.4444444444444444,
              "#bd3786"
             ],
             [
              0.5555555555555556,
              "#d8576b"
             ],
             [
              0.6666666666666666,
              "#ed7953"
             ],
             [
              0.7777777777777778,
              "#fb9f3a"
             ],
             [
              0.8888888888888888,
              "#fdca26"
             ],
             [
              1,
              "#f0f921"
             ]
            ],
            "type": "histogram2dcontour"
           }
          ],
          "mesh3d": [
           {
            "colorbar": {
             "outlinewidth": 0,
             "ticks": ""
            },
            "type": "mesh3d"
           }
          ],
          "parcoords": [
           {
            "line": {
             "colorbar": {
              "outlinewidth": 0,
              "ticks": ""
             }
            },
            "type": "parcoords"
           }
          ],
          "pie": [
           {
            "automargin": true,
            "type": "pie"
           }
          ],
          "scatter": [
           {
            "fillpattern": {
             "fillmode": "overlay",
             "size": 10,
             "solidity": 0.2
            },
            "type": "scatter"
           }
          ],
          "scatter3d": [
           {
            "line": {
             "colorbar": {
              "outlinewidth": 0,
              "ticks": ""
             }
            },
            "marker": {
             "colorbar": {
              "outlinewidth": 0,
              "ticks": ""
             }
            },
            "type": "scatter3d"
           }
          ],
          "scattercarpet": [
           {
            "marker": {
             "colorbar": {
              "outlinewidth": 0,
              "ticks": ""
             }
            },
            "type": "scattercarpet"
           }
          ],
          "scattergeo": [
           {
            "marker": {
             "colorbar": {
              "outlinewidth": 0,
              "ticks": ""
             }
            },
            "type": "scattergeo"
           }
          ],
          "scattergl": [
           {
            "marker": {
             "colorbar": {
              "outlinewidth": 0,
              "ticks": ""
             }
            },
            "type": "scattergl"
           }
          ],
          "scattermap": [
           {
            "marker": {
             "colorbar": {
              "outlinewidth": 0,
              "ticks": ""
             }
            },
            "type": "scattermap"
           }
          ],
          "scattermapbox": [
           {
            "marker": {
             "colorbar": {
              "outlinewidth": 0,
              "ticks": ""
             }
            },
            "type": "scattermapbox"
           }
          ],
          "scatterpolar": [
           {
            "marker": {
             "colorbar": {
              "outlinewidth": 0,
              "ticks": ""
             }
            },
            "type": "scatterpolar"
           }
          ],
          "scatterpolargl": [
           {
            "marker": {
             "colorbar": {
              "outlinewidth": 0,
              "ticks": ""
             }
            },
            "type": "scatterpolargl"
           }
          ],
          "scatterternary": [
           {
            "marker": {
             "colorbar": {
              "outlinewidth": 0,
              "ticks": ""
             }
            },
            "type": "scatterternary"
           }
          ],
          "surface": [
           {
            "colorbar": {
             "outlinewidth": 0,
             "ticks": ""
            },
            "colorscale": [
             [
              0,
              "#0d0887"
             ],
             [
              0.1111111111111111,
              "#46039f"
             ],
             [
              0.2222222222222222,
              "#7201a8"
             ],
             [
              0.3333333333333333,
              "#9c179e"
             ],
             [
              0.4444444444444444,
              "#bd3786"
             ],
             [
              0.5555555555555556,
              "#d8576b"
             ],
             [
              0.6666666666666666,
              "#ed7953"
             ],
             [
              0.7777777777777778,
              "#fb9f3a"
             ],
             [
              0.8888888888888888,
              "#fdca26"
             ],
             [
              1,
              "#f0f921"
             ]
            ],
            "type": "surface"
           }
          ],
          "table": [
           {
            "cells": {
             "fill": {
              "color": "#EBF0F8"
             },
             "line": {
              "color": "white"
             }
            },
            "header": {
             "fill": {
              "color": "#C8D4E3"
             },
             "line": {
              "color": "white"
             }
            },
            "type": "table"
           }
          ]
         },
         "layout": {
          "annotationdefaults": {
           "arrowcolor": "#2a3f5f",
           "arrowhead": 0,
           "arrowwidth": 1
          },
          "autotypenumbers": "strict",
          "coloraxis": {
           "colorbar": {
            "outlinewidth": 0,
            "ticks": ""
           }
          },
          "colorscale": {
           "diverging": [
            [
             0,
             "#8e0152"
            ],
            [
             0.1,
             "#c51b7d"
            ],
            [
             0.2,
             "#de77ae"
            ],
            [
             0.3,
             "#f1b6da"
            ],
            [
             0.4,
             "#fde0ef"
            ],
            [
             0.5,
             "#f7f7f7"
            ],
            [
             0.6,
             "#e6f5d0"
            ],
            [
             0.7,
             "#b8e186"
            ],
            [
             0.8,
             "#7fbc41"
            ],
            [
             0.9,
             "#4d9221"
            ],
            [
             1,
             "#276419"
            ]
           ],
           "sequential": [
            [
             0,
             "#0d0887"
            ],
            [
             0.1111111111111111,
             "#46039f"
            ],
            [
             0.2222222222222222,
             "#7201a8"
            ],
            [
             0.3333333333333333,
             "#9c179e"
            ],
            [
             0.4444444444444444,
             "#bd3786"
            ],
            [
             0.5555555555555556,
             "#d8576b"
            ],
            [
             0.6666666666666666,
             "#ed7953"
            ],
            [
             0.7777777777777778,
             "#fb9f3a"
            ],
            [
             0.8888888888888888,
             "#fdca26"
            ],
            [
             1,
             "#f0f921"
            ]
           ],
           "sequentialminus": [
            [
             0,
             "#0d0887"
            ],
            [
             0.1111111111111111,
             "#46039f"
            ],
            [
             0.2222222222222222,
             "#7201a8"
            ],
            [
             0.3333333333333333,
             "#9c179e"
            ],
            [
             0.4444444444444444,
             "#bd3786"
            ],
            [
             0.5555555555555556,
             "#d8576b"
            ],
            [
             0.6666666666666666,
             "#ed7953"
            ],
            [
             0.7777777777777778,
             "#fb9f3a"
            ],
            [
             0.8888888888888888,
             "#fdca26"
            ],
            [
             1,
             "#f0f921"
            ]
           ]
          },
          "colorway": [
           "#636efa",
           "#EF553B",
           "#00cc96",
           "#ab63fa",
           "#FFA15A",
           "#19d3f3",
           "#FF6692",
           "#B6E880",
           "#FF97FF",
           "#FECB52"
          ],
          "font": {
           "color": "#2a3f5f"
          },
          "geo": {
           "bgcolor": "white",
           "lakecolor": "white",
           "landcolor": "#E5ECF6",
           "showlakes": true,
           "showland": true,
           "subunitcolor": "white"
          },
          "hoverlabel": {
           "align": "left"
          },
          "hovermode": "closest",
          "mapbox": {
           "style": "light"
          },
          "paper_bgcolor": "white",
          "plot_bgcolor": "#E5ECF6",
          "polar": {
           "angularaxis": {
            "gridcolor": "white",
            "linecolor": "white",
            "ticks": ""
           },
           "bgcolor": "#E5ECF6",
           "radialaxis": {
            "gridcolor": "white",
            "linecolor": "white",
            "ticks": ""
           }
          },
          "scene": {
           "xaxis": {
            "backgroundcolor": "#E5ECF6",
            "gridcolor": "white",
            "gridwidth": 2,
            "linecolor": "white",
            "showbackground": true,
            "ticks": "",
            "zerolinecolor": "white"
           },
           "yaxis": {
            "backgroundcolor": "#E5ECF6",
            "gridcolor": "white",
            "gridwidth": 2,
            "linecolor": "white",
            "showbackground": true,
            "ticks": "",
            "zerolinecolor": "white"
           },
           "zaxis": {
            "backgroundcolor": "#E5ECF6",
            "gridcolor": "white",
            "gridwidth": 2,
            "linecolor": "white",
            "showbackground": true,
            "ticks": "",
            "zerolinecolor": "white"
           }
          },
          "shapedefaults": {
           "line": {
            "color": "#2a3f5f"
           }
          },
          "ternary": {
           "aaxis": {
            "gridcolor": "white",
            "linecolor": "white",
            "ticks": ""
           },
           "baxis": {
            "gridcolor": "white",
            "linecolor": "white",
            "ticks": ""
           },
           "bgcolor": "#E5ECF6",
           "caxis": {
            "gridcolor": "white",
            "linecolor": "white",
            "ticks": ""
           }
          },
          "title": {
           "x": 0.05
          },
          "xaxis": {
           "automargin": true,
           "gridcolor": "white",
           "linecolor": "white",
           "ticks": "",
           "title": {
            "standoff": 15
           },
           "zerolinecolor": "white",
           "zerolinewidth": 2
          },
          "yaxis": {
           "automargin": true,
           "gridcolor": "white",
           "linecolor": "white",
           "ticks": "",
           "title": {
            "standoff": 15
           },
           "zerolinecolor": "white",
           "zerolinewidth": 2
          }
         }
        },
        "title": {
         "text": "Original Torus"
        },
        "width": 800
       }
      }
     },
     "metadata": {},
     "output_type": "display_data"
    }
   ],
   "source": [
    "# Create a torus mesh\n",
    "torus = create_torus_mesh(major_radius=np.pi, minor_radius=np.pi/3, major_segments=24, minor_segments=12)\n",
    "\n",
    "# Rotate so the torus lies on its side (ensures slices through the hole)\n",
    "torus.apply_transform(trimesh.transformations.rotation_matrix(\n",
    "    angle=np.pi / 2,\n",
    "    direction=[1, 0, 0],\n",
    "    point=torus.centroid\n",
    "))\n",
    "\n",
    "print(f\"Torus properties:\")\n",
    "print(f\"  Volume: {torus.volume:.3f}\")\n",
    "print(f\"  Surface area: {torus.area:.3f}\")\n",
    "print(f\"  Z-bounds: {torus.bounds[:, 2]}\")\n",
    "\n",
    "mm = MeshManager(torus)\n",
    "\n",
    "# Visualize the original torus\n",
    "fig = mm.visualize_mesh_3d(title=\"Original Torus\", backend=\"plotly\")\n",
    "fig.show()"
   ]
  },
  {
   "cell_type": "code",
   "execution_count": null,
   "id": "d0699717",
   "metadata": {},
   "outputs": [
    {
     "name": "stdout",
     "output_type": "stream",
     "text": [
      "6.0.1\n"
     ]
    }
   ],
   "source": [
    "import CGAL.\n"
   ]
  }
 ],
 "metadata": {
  "kernelspec": {
   "display_name": ".venv",
   "language": "python",
   "name": "python3"
  },
  "language_info": {
   "codemirror_mode": {
    "name": "ipython",
    "version": 3
   },
   "file_extension": ".py",
   "mimetype": "text/x-python",
   "name": "python",
   "nbconvert_exporter": "python",
   "pygments_lexer": "ipython3",
   "version": "3.12.11"
  }
 },
 "nbformat": 4,
 "nbformat_minor": 5
}
