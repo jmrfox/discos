{
 "cells": [
  {
   "cell_type": "markdown",
   "id": "9928d6f9",
   "metadata": {},
   "source": [
    "# 02c - Neuron Segmentation Demo\n",graph
    "\n",
    "This notebook demonstrates mesh segmentation using a realistic neuron-like geometry with multiple branches.\n",
    "\n",
    "**Part of the GenCoMo Tutorial Series** - [Return to Index](01_tutorial_index.ipynb)"
   ]
  },
  {
   "cell_type": "code",
   "execution_count": 1,
   "id": "f341954c",
   "metadata": {},
   "outputs": [
    {
     "name": "stdout",
     "output_type": "stream",
     "text": [
      "Jupyter environment detected. Enabling Open3D WebVisualizer.\n",
      "[Open3D INFO] WebRTC GUI backend enabled.\n",
      "[Open3D INFO] WebRTCWindowSystem: HTTP handshake server disabled.\n"
     ]
    }
   ],
   "source": [
    "import numpy as np\n",
    "import trimesh\n",
    "from gencomo import create_demo_neuron_mesh, MeshSegmenter, visualize_mesh_3d"
   ]
  },
  {
   "cell_type": "markdown",
   "id": "a8a7912d",
   "metadata": {},
   "source": [
    "## Create and Visualize Demo Neuron"
   ]
  },
  {
   "cell_type": "code",
   "execution_count": 2,
   "id": "86d47055",
   "metadata": {},
   "outputs": [
    {
     "name": "stdout",
     "output_type": "stream",
     "text": [
      "Demo neuron properties:\n",
      "  Volume: 6817.908\n",
      "  Surface area: 4410.878\n",
      "  Z-bounds: [-100.           51.22947311]\n",
      "  Vertices: 320\n",
      "  Faces: 636\n"
     ]
    },
    {
     "data": {
      "application/vnd.plotly.v1+json": {
       "config": {
        "plotlyServerURL": "https://plot.ly"
       },
       "data": [
        {
         "color": "lightblue",
         "i": {
          "bdata": "kACQAI8AjwCPAJEAkQCQAI4AjgCOAJEAkwCTAJMAkwCUAJQAlACUAJUAlQCWAJYAlgCPAI4AjwCRAJMAjgCUAJUAjwCPAI4AjgCRAJIAkgCSAAIAAgADAAQABQAGAAYABgACAAMAAgAHAAgABAAFAAkAAgACAAMAAwADAAMABwAHAAgAAgAEAAQAAgAEAAUABQAFAAoACgAIAAgACQAJAAoACgAKAAkAmgCbAJoAnQCcAJ4AngCeAJoAmwCcAJoAnQCfAKAAoACaAJoAmgCbAJsAnACcAJwAnACdAJ0AnQCdAJ8AoACfAJ8AoQChAKEAoACgAKIAogCiADgBNwE3ATcBOAE4ATkBOQE8ATwBPAE9AT8BPQE9AT8BNwE3ATkBOgE6AT4BPgE+AT4BPwE/ATcBNwE8ATgBOQE9AToBPgE4ATkBNwE3ATsBOgE7ATsBAAABAAAAAAAAAAEAAQAAAAAAlwBHAEgASQBHAEgASQBHAEgASABJAJcAmACZAJcAmACZAJgAmQCZAOoA5wDnAOcA6ADqAOkA6ADrAOsA6QANAA4AEAAQAA8AEwAVAAsAGgAaAA8ACwAMAA0AHQARABQAEwAVABMAFAAVABYAFgAWACQAGAALABoACwAZAAwAGwAZABoAGgAdAB0AGwAbAB4AHAAgAB8AHgAiACEAIgAaAA0AJAANAA4AJQAlACQAGAAmACYAJwAnACcAtAAnAB0AEgArADAAMAAwABIAFwAXABcAFwAwADAAMAAwADAAMAAwADAAQQArACsAKwArACMAIwAjACMAQQBBAEEA+ABBAPgA+AD4AE0ADgBKAEwATQBOAEwAUABPAE8AVAAXAFQAUQBQAFAAUgBSAEsAVwBLAFcAVgBaAFgAVABZAA4AXABKAFwAJwBfAEsASwBdACcAXwBfAF8AXwBfAPEAZABkAGQAFwBVAFUAVQBVAFUAVQBVAGsAawBZAFkAawB7AGsAdQB0APgA+AD4AHEAcgB2AHQAcgByAHIAewB7AHsAewB7AHsAewB7AI0AjQCNAF4AggCDAFoAWgBbAFsAgwCDAIcAhQCEAIcAhQCFAIYAiQCIAIoAiQBvAIwAiwAYAKQAowAgACAApQCkACEAIQCmAKUApQCnAKcApwAjAKoAqwCtAKgAqQC6AK4ArQCtAK4ArgDaAKwAGACyALIAowC0ALQAuQC0ALkAuQC6ALoAugCzALkAuwC7AKsAqwCrAMIAwgDCAMIAqwCrAMIAwgDGAMQAxgDKAMcAzADNAPgA+AD4AMoAyQDPAMIAwgDPAM8A0wDTANMA5QDhAOUA5QDlAOUA5QDcAN0AsACwANoA2gDbANsA3ADeAN4A4ADjAOQAsQDfAOIA4wDkAOIA4wDkAOYA5gDmAPIA8QDxAPIAuQDyAPEA8QCCAPQA9AC5APIA8gD2AN0AJQH0APcA9wD4APgA+AD4APgA+AD/AP8AjQAdAR0BHQEVARUBFQEdAf8AEAEQARAB/wD/ABABEAEQAS4BLgEuAS4BLgEQARABEAEVARUBFQGCABYBFgGKAIoAFwEYAYsAiwAZARgBGAEaARoBjQAdARoBHQH3ABsBIQEgARwBIAEgASEBIQE1ARUB3QAlASUBJwEoASkBKAEsASoB5QAwATABKgEmASYBIgE1ATUBNgE2ASsBLAEsAS0BLQEwATQB",
          "dtype": "i2"
         },
         "j": {
          "bdata": "LAAtAC8AZgBlAGcAaAAuADEAMgAzAGkAagBsAG0AbgBCAEMAcABxAHYAcgBzAHQAdQAsAJAAkQCTAJYAQgByAHQAkACSAJIAlACSAJYAlACVAAQABgAGAAUACgAKAAgACQADAAcAPAAIAAkAvQDAAAoANAA1ADgAOgA5ADcAPgA/AEAANgA8AD0AOwC8AL0AvgC/AMEAwABEAEUARgDDAMcAxQDGAMQAngCeAJ0AnwCeAKAAnwChAJsAnACiANAA1QDYAA8BoQDJAMoAywDMAMgAzQDOAP0A/gDQANEA0gDUANUAEgHWANcA2ADZABEBFAETAQ0BDgEPAXoAeAB5AHcA+QD6APsA/AB8AIAAfwCBAAUBAwEEAQoBfgB9AAABAQECAQkBBwEGAQgBCwEMAXoAPAE9AfsAAQE/AQYBDAE5AToBOAE7AT0BPgE+AT8BRwDnAOcAAQBgAJcAKgApACgAtQBIAEkA6ABhAGMA7ABgAGEAYgBjAOcA5wDnAJgAmQDqALYAuAC3AO4A6QDoAOsA7QDrAPAA7ADvAPAA7QAUABQADwATABEADwARAA8ACwAQAAwADAAdABAAEgASABMAFQAWAE4ATABPAFMAEgAXABgApAAbABsAGQAcABwAHgAeAB8AJAAcACIAIAAfACEAIQCmAKQApgAjAKoAqgANACUAJQAOAFwAJwBcACYAJgC0ACcAKABgACoAKgApACsAKwA3ADgAOQA3ADAAMAAtACwALwAuADEAMgA6AD4APwBBAEAAMwAjADQANgA1ADsAPAA9AKsAQABCAPgAQwBEAEQARQBGAFEATQBRAE4ATABPAFAATgBUAFMAUwBVAFUAUABWAFIAVABYAFEAVgBXAFoAWABWAIcAWQCHAEoASgBLAF0AXABdAF4AgwBeAF8AYQBiAGQAYwDxAOwAXgDzAIIAZgBmAGUAZwBoAGsAaQBqAGoAbABrAG8AbQBtAHsAdwB3AHAAcQD5APkAeQB5AHYAeAD5AHoAbgBzAI0AgAB8AHcAfQB+AIAAfwCBAIgAiABaAIQAWwCHAIYAiACFAIwAhACGAG8AigCJAIwAhgCKAIkAiwCNAI0AjACjAKMAugClAKQAqACpAKYApwCoAK0AqQCoAK4ArACqAKwArACvAK8AsACwALEA2gCwAK8A2wDbALEAsgCzALQAswC1ALYAtgC5ALgAtwCzANwAuwC5APYA3QD2ALwAvQC+AL8AwADBAMcAwgDPAMsA0ADMAMwAxQDIAMgAxQDDAMMAzQDOAMcAxwDTANEA0wCxAOEA0gDUAOUA1QDlANYA1wDYANkALgHdACcB3gDcAN4A4ADfAOAA4gDjAOIA5ADkAOYA3wDmACgBKQEqAScBKAEpAeUALwEqAfAA7QDyAO4A7gDvAPQA8wAWAfMAFgHyAPUA9AD1APYA9QD3ACYBIgH6APsA/AD/AP0A/gD+AAABAwEDAQQBBQEKAQsBDAEKAQ0BBgEOAQ8BEAEOAQEBAgESAREBEwEUARABNAEJAQgBBwEJARABNAEXARcBGwEYARkBGAEZAR4BGgEaASABHAEfASEBHQEfAR4BFQEbASABHwEcASEBNQEjASQBNgEjASQBJQErASYBKwEsAS0BKwEtAS0BLwEuATQBMAExASIBNQEzATYBJAEyATEBMQEzATIBMwEyATIB",
          "dtype": "i2"
         },
         "k": {
          "bdata": "LQAuACwALwBmAGUAZwAxADIAMwBCAGgAaQBqAGwAbQBDAHAAcQByAHQAdgBuAHUAcwCQADEAZQBpAG4AlACVAJYAkgCRAJAAkgCTAJMAlQCWAAYAAwAHAAYABgAJAAcACAA0ADoABAA/AEUABQAKAMQANQA2ADcAOQA4ADQAOgA+AD8AOwA9ALwAPAC9AL4AvwDAAMcAwQBAAEQARQBGAMUAxgDEAMMAmwCcAJ4AngCiAKIAoQCgAMoAzAD+AJ0AnwChAKIAEwHLAMkA0ADIAMoAzADNAM4A/QDRANIA1ADVANYADwHXANgA2QARARMBEgEUAf4ADQEOAfkAegB4AHkA+gD7APwAAAF+AHwAgAB/AAQBgQADAQUBfQB3AAEBAgEGAQwBCAEHAQkBCgELATgBfgB/ADkBOgEEAT4BPwE7ATsBOwE8ATwBOwE/AT0B5wCXAAEAKQBHACoAKQAoAGAAKgDnAOcA5wBIAEkA6ABhAGIAYwDsAJgAmQDqALUAtgC3ALUAtgC4ALcA6wDpAOoA6QDuAOsA7QDuAO8A8AAOAE0AEwAUABUAFQAWABAAEAANABEADwARABQAEQAWAEwATgBPAEwATQBOAE8AFwBTAB8AHwAZAAsADAAMAB0AGQAcABsAHwAiACsAHgAgABwAIgAeACAAIQArACIAIwAkACQAJgAlACUAJgAnABgAsgCyALQAKQAoALQAtQAqABIAMAAwADkAOgA4ABcALQAsAC8AZgAtAC4AMQA+AD8AQAAyAEEAMgA2ADcANQA0ADYAOwA8AD0ARAAzAEIAQgD4AEUARgDDAEoASgBLAFAAUQBSAFEAUgBSAFQAVQBTAFkAVwBXAFYAWABWAFcAWgCDAIMAWwBbAFsAWABYAFwAXQBdAF8AXwBkAF0AXgBkAGAAYABhAPEAYgBjAGMAggDxAPMAVQBlAGcAaABpAFkAagBrAGwAbQBvAIcAewBuAG8AcwB1AEMAcABxAHIAdgB3AHcAeQB6AHgAcwB3AG8AjQCAAH0AfgB8AH8AgQADAYIAFwGFAIUAhACGAIQAXgCIAIYAiQCJAIwAiACKAIsAiwAXARkBGQGMAB4BHgGkAKkAqQCmAKUApgClAKcAqgCnAKgArQCuAKwAqgCrAKsAzwCoAK4ArQCpAKwArwDaANsAsQCvAM8AowCjALMAugC2ALkAuACzALcA7gC7ALAA3AC7ALsA3ADdAD0AvAC9AL4AvwDAAMEAvgDCAMcAywDEAMMAzADHAMUAyADMAM0AzgD9AMkAywDCANAA0QDhANMA0QDSANQA1ADTANUA1gDXANgA2QDiAOIA2gDeAOAA2wCxAN8A3gDgAOMA3wDgAN8A4QDhAOMA5ADmACgBKQEqAeEA5QAvAe0A7ADtAO8A8gDwAPIA9ADzABYB9wD2APYA9QAlASUBJgH1APUAJgH5APoA+wD8AP4A/wANAfwAHQEEAQUBCgELAQwBCQEVAQ4BAgEPARIBAAEQAQABAQEUAdkAEQETARQBEAEIAQcBBgEQATQBJAEWARsB9wAXARgBGwEcARoBGQEcARsBIAEhARwBHgEeAR8BHwEiASIBJAEjASMBIgE1ATYBIwE2AR8BJwEnASsBKAEpASoBLAEpATABLgEvAS4BLwErATEBMQExATMBMgEzASwBMwEtATABMgE0ASQB",
          "dtype": "i2"
         },
         "name": "Mesh",
         "opacity": 0.8,
         "type": "mesh3d",
         "x": {
          "bdata": "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",
          "dtype": "f8"
         },
         "y": {
          "bdata": "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",
          "dtype": "f8"
         },
         "z": {
          "bdata": "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",
          "dtype": "f8"
         }
        }
       ],
       "layout": {
        "scene": {
         "aspectmode": "data",
         "xaxis": {
          "visible": true
         },
         "yaxis": {
          "visible": true
         },
         "zaxis": {
          "visible": true
         }
        },
        "template": {
         "data": {
          "bar": [
           {
            "error_x": {
             "color": "#2a3f5f"
            },
            "error_y": {
             "color": "#2a3f5f"
            },
            "marker": {
             "line": {
              "color": "#E5ECF6",
              "width": 0.5
             },
             "pattern": {
              "fillmode": "overlay",
              "size": 10,
              "solidity": 0.2
             }
            },
            "type": "bar"
           }
          ],
          "barpolar": [
           {
            "marker": {
             "line": {
              "color": "#E5ECF6",
              "width": 0.5
             },
             "pattern": {
              "fillmode": "overlay",
              "size": 10,
              "solidity": 0.2
             }
            },
            "type": "barpolar"
           }
          ],
          "carpet": [
           {
            "aaxis": {
             "endlinecolor": "#2a3f5f",
             "gridcolor": "white",
             "linecolor": "white",
             "minorgridcolor": "white",
             "startlinecolor": "#2a3f5f"
            },
            "baxis": {
             "endlinecolor": "#2a3f5f",
             "gridcolor": "white",
             "linecolor": "white",
             "minorgridcolor": "white",
             "startlinecolor": "#2a3f5f"
            },
            "type": "carpet"
           }
          ],
          "choropleth": [
           {
            "colorbar": {
             "outlinewidth": 0,
             "ticks": ""
            },
            "type": "choropleth"
           }
          ],
          "contour": [
           {
            "colorbar": {
             "outlinewidth": 0,
             "ticks": ""
            },
            "colorscale": [
             [
              0,
              "#0d0887"
             ],
             [
              0.1111111111111111,
              "#46039f"
             ],
             [
              0.2222222222222222,
              "#7201a8"
             ],
             [
              0.3333333333333333,
              "#9c179e"
             ],
             [
              0.4444444444444444,
              "#bd3786"
             ],
             [
              0.5555555555555556,
              "#d8576b"
             ],
             [
              0.6666666666666666,
              "#ed7953"
             ],
             [
              0.7777777777777778,
              "#fb9f3a"
             ],
             [
              0.8888888888888888,
              "#fdca26"
             ],
             [
              1,
              "#f0f921"
             ]
            ],
            "type": "contour"
           }
          ],
          "contourcarpet": [
           {
            "colorbar": {
             "outlinewidth": 0,
             "ticks": ""
            },
            "type": "contourcarpet"
           }
          ],
          "heatmap": [
           {
            "colorbar": {
             "outlinewidth": 0,
             "ticks": ""
            },
            "colorscale": [
             [
              0,
              "#0d0887"
             ],
             [
              0.1111111111111111,
              "#46039f"
             ],
             [
              0.2222222222222222,
              "#7201a8"
             ],
             [
              0.3333333333333333,
              "#9c179e"
             ],
             [
              0.4444444444444444,
              "#bd3786"
             ],
             [
              0.5555555555555556,
              "#d8576b"
             ],
             [
              0.6666666666666666,
              "#ed7953"
             ],
             [
              0.7777777777777778,
              "#fb9f3a"
             ],
             [
              0.8888888888888888,
              "#fdca26"
             ],
             [
              1,
              "#f0f921"
             ]
            ],
            "type": "heatmap"
           }
          ],
          "histogram": [
           {
            "marker": {
             "pattern": {
              "fillmode": "overlay",
              "size": 10,
              "solidity": 0.2
             }
            },
            "type": "histogram"
           }
          ],
          "histogram2d": [
           {
            "colorbar": {
             "outlinewidth": 0,
             "ticks": ""
            },
            "colorscale": [
             [
              0,
              "#0d0887"
             ],
             [
              0.1111111111111111,
              "#46039f"
             ],
             [
              0.2222222222222222,
              "#7201a8"
             ],
             [
              0.3333333333333333,
              "#9c179e"
             ],
             [
              0.4444444444444444,
              "#bd3786"
             ],
             [
              0.5555555555555556,
              "#d8576b"
             ],
             [
              0.6666666666666666,
              "#ed7953"
             ],
             [
              0.7777777777777778,
              "#fb9f3a"
             ],
             [
              0.8888888888888888,
              "#fdca26"
             ],
             [
              1,
              "#f0f921"
             ]
            ],
            "type": "histogram2d"
           }
          ],
          "histogram2dcontour": [
           {
            "colorbar": {
             "outlinewidth": 0,
             "ticks": ""
            },
            "colorscale": [
             [
              0,
              "#0d0887"
             ],
             [
              0.1111111111111111,
              "#46039f"
             ],
             [
              0.2222222222222222,
              "#7201a8"
             ],
             [
              0.3333333333333333,
              "#9c179e"
             ],
             [
              0.4444444444444444,
              "#bd3786"
             ],
             [
              0.5555555555555556,
              "#d8576b"
             ],
             [
              0.6666666666666666,
              "#ed7953"
             ],
             [
              0.7777777777777778,
              "#fb9f3a"
             ],
             [
              0.8888888888888888,
              "#fdca26"
             ],
             [
              1,
              "#f0f921"
             ]
            ],
            "type": "histogram2dcontour"
           }
          ],
          "mesh3d": [
           {
            "colorbar": {
             "outlinewidth": 0,
             "ticks": ""
            },
            "type": "mesh3d"
           }
          ],
          "parcoords": [
           {
            "line": {
             "colorbar": {
              "outlinewidth": 0,
              "ticks": ""
             }
            },
            "type": "parcoords"
           }
          ],
          "pie": [
           {
            "automargin": true,
            "type": "pie"
           }
          ],
          "scatter": [
           {
            "fillpattern": {
             "fillmode": "overlay",
             "size": 10,
             "solidity": 0.2
            },
            "type": "scatter"
           }
          ],
          "scatter3d": [
           {
            "line": {
             "colorbar": {
              "outlinewidth": 0,
              "ticks": ""
             }
            },
            "marker": {
             "colorbar": {
              "outlinewidth": 0,
              "ticks": ""
             }
            },
            "type": "scatter3d"
           }
          ],
          "scattercarpet": [
           {
            "marker": {
             "colorbar": {
              "outlinewidth": 0,
              "ticks": ""
             }
            },
            "type": "scattercarpet"
           }
          ],
          "scattergeo": [
           {
            "marker": {
             "colorbar": {
              "outlinewidth": 0,
              "ticks": ""
             }
            },
            "type": "scattergeo"
           }
          ],
          "scattergl": [
           {
            "marker": {
             "colorbar": {
              "outlinewidth": 0,
              "ticks": ""
             }
            },
            "type": "scattergl"
           }
          ],
          "scattermap": [
           {
            "marker": {
             "colorbar": {
              "outlinewidth": 0,
              "ticks": ""
             }
            },
            "type": "scattermap"
           }
          ],
          "scattermapbox": [
           {
            "marker": {
             "colorbar": {
              "outlinewidth": 0,
              "ticks": ""
             }
            },
            "type": "scattermapbox"
           }
          ],
          "scatterpolar": [
           {
            "marker": {
             "colorbar": {
              "outlinewidth": 0,
              "ticks": ""
             }
            },
            "type": "scatterpolar"
           }
          ],
          "scatterpolargl": [
           {
            "marker": {
             "colorbar": {
              "outlinewidth": 0,
              "ticks": ""
             }
            },
            "type": "scatterpolargl"
           }
          ],
          "scatterternary": [
           {
            "marker": {
             "colorbar": {
              "outlinewidth": 0,
              "ticks": ""
             }
            },
            "type": "scatterternary"
           }
          ],
          "surface": [
           {
            "colorbar": {
             "outlinewidth": 0,
             "ticks": ""
            },
            "colorscale": [
             [
              0,
              "#0d0887"
             ],
             [
              0.1111111111111111,
              "#46039f"
             ],
             [
              0.2222222222222222,
              "#7201a8"
             ],
             [
              0.3333333333333333,
              "#9c179e"
             ],
             [
              0.4444444444444444,
              "#bd3786"
             ],
             [
              0.5555555555555556,
              "#d8576b"
             ],
             [
              0.6666666666666666,
              "#ed7953"
             ],
             [
              0.7777777777777778,
              "#fb9f3a"
             ],
             [
              0.8888888888888888,
              "#fdca26"
             ],
             [
              1,
              "#f0f921"
             ]
            ],
            "type": "surface"
           }
          ],
          "table": [
           {
            "cells": {
             "fill": {
              "color": "#EBF0F8"
             },
             "line": {
              "color": "white"
             }
            },
            "header": {
             "fill": {
              "color": "#C8D4E3"
             },
             "line": {
              "color": "white"
             }
            },
            "type": "table"
           }
          ]
         },
         "layout": {
          "annotationdefaults": {
           "arrowcolor": "#2a3f5f",
           "arrowhead": 0,
           "arrowwidth": 1
          },
          "autotypenumbers": "strict",
          "coloraxis": {
           "colorbar": {
            "outlinewidth": 0,
            "ticks": ""
           }
          },
          "colorscale": {
           "diverging": [
            [
             0,
             "#8e0152"
            ],
            [
             0.1,
             "#c51b7d"
            ],
            [
             0.2,
             "#de77ae"
            ],
            [
             0.3,
             "#f1b6da"
            ],
            [
             0.4,
             "#fde0ef"
            ],
            [
             0.5,
             "#f7f7f7"
            ],
            [
             0.6,
             "#e6f5d0"
            ],
            [
             0.7,
             "#b8e186"
            ],
            [
             0.8,
             "#7fbc41"
            ],
            [
             0.9,
             "#4d9221"
            ],
            [
             1,
             "#276419"
            ]
           ],
           "sequential": [
            [
             0,
             "#0d0887"
            ],
            [
             0.1111111111111111,
             "#46039f"
            ],
            [
             0.2222222222222222,
             "#7201a8"
            ],
            [
             0.3333333333333333,
             "#9c179e"
            ],
            [
             0.4444444444444444,
             "#bd3786"
            ],
            [
             0.5555555555555556,
             "#d8576b"
            ],
            [
             0.6666666666666666,
             "#ed7953"
            ],
            [
             0.7777777777777778,
             "#fb9f3a"
            ],
            [
             0.8888888888888888,
             "#fdca26"
            ],
            [
             1,
             "#f0f921"
            ]
           ],
           "sequentialminus": [
            [
             0,
             "#0d0887"
            ],
            [
             0.1111111111111111,
             "#46039f"
            ],
            [
             0.2222222222222222,
             "#7201a8"
            ],
            [
             0.3333333333333333,
             "#9c179e"
            ],
            [
             0.4444444444444444,
             "#bd3786"
            ],
            [
             0.5555555555555556,
             "#d8576b"
            ],
            [
             0.6666666666666666,
             "#ed7953"
            ],
            [
             0.7777777777777778,
             "#fb9f3a"
            ],
            [
             0.8888888888888888,
             "#fdca26"
            ],
            [
             1,
             "#f0f921"
            ]
           ]
          },
          "colorway": [
           "#636efa",
           "#EF553B",
           "#00cc96",
           "#ab63fa",
           "#FFA15A",
           "#19d3f3",
           "#FF6692",
           "#B6E880",
           "#FF97FF",
           "#FECB52"
          ],
          "font": {
           "color": "#2a3f5f"
          },
          "geo": {
           "bgcolor": "white",
           "lakecolor": "white",
           "landcolor": "#E5ECF6",
           "showlakes": true,
           "showland": true,
           "subunitcolor": "white"
          },
          "hoverlabel": {
           "align": "left"
          },
          "hovermode": "closest",
          "mapbox": {
           "style": "light"
          },
          "paper_bgcolor": "white",
          "plot_bgcolor": "#E5ECF6",
          "polar": {
           "angularaxis": {
            "gridcolor": "white",
            "linecolor": "white",
            "ticks": ""
           },
           "bgcolor": "#E5ECF6",
           "radialaxis": {
            "gridcolor": "white",
            "linecolor": "white",
            "ticks": ""
           }
          },
          "scene": {
           "xaxis": {
            "backgroundcolor": "#E5ECF6",
            "gridcolor": "white",
            "gridwidth": 2,
            "linecolor": "white",
            "showbackground": true,
            "ticks": "",
            "zerolinecolor": "white"
           },
           "yaxis": {
            "backgroundcolor": "#E5ECF6",
            "gridcolor": "white",
            "gridwidth": 2,
            "linecolor": "white",
            "showbackground": true,
            "ticks": "",
            "zerolinecolor": "white"
           },
           "zaxis": {
            "backgroundcolor": "#E5ECF6",
            "gridcolor": "white",
            "gridwidth": 2,
            "linecolor": "white",
            "showbackground": true,
            "ticks": "",
            "zerolinecolor": "white"
           }
          },
          "shapedefaults": {
           "line": {
            "color": "#2a3f5f"
           }
          },
          "ternary": {
           "aaxis": {
            "gridcolor": "white",
            "linecolor": "white",
            "ticks": ""
           },
           "baxis": {
            "gridcolor": "white",
            "linecolor": "white",
            "ticks": ""
           },
           "bgcolor": "#E5ECF6",
           "caxis": {
            "gridcolor": "white",
            "linecolor": "white",
            "ticks": ""
           }
          },
          "title": {
           "x": 0.05
          },
          "xaxis": {
           "automargin": true,
           "gridcolor": "white",
           "linecolor": "white",
           "ticks": "",
           "title": {
            "standoff": 15
           },
           "zerolinecolor": "white",
           "zerolinewidth": 2
          },
          "yaxis": {
           "automargin": true,
           "gridcolor": "white",
           "linecolor": "white",
           "ticks": "",
           "title": {
            "standoff": 15
           },
           "zerolinecolor": "white",
           "zerolinewidth": 2
          }
         }
        },
        "title": {
         "text": "Demo Neuron Mesh"
        }
       }
      }
     },
     "metadata": {},
     "output_type": "display_data"
    }
   ],
   "source": [
    "# Create a demo neuron mesh\n",
    "neuron = create_demo_neuron_mesh()\n",
    "\n",
    "print(f\"Demo neuron properties:\")\n",
    "print(f\"  Volume: {neuron.volume:.3f}\")\n",
    "print(f\"  Surface area: {neuron.area:.3f}\")\n",
    "print(f\"  Z-bounds: {neuron.bounds[:, 2]}\")\n",
    "print(f\"  Vertices: {len(neuron.vertices)}\")\n",
    "print(f\"  Faces: {len(neuron.faces)}\")\n",
    "\n",
    "# Visualize the original neuron\n",
    "fig = visualize_mesh_3d(neuron, title=\"Demo Neuron Mesh\", backend=\"plotly\")\n",
    "fig.show()"
   ]
  },
  {
   "cell_type": "markdown",
   "id": "bc22d60d",
   "metadata": {},
   "source": [
    "## Segment the Mesh"
   ]
  },
  {
   "cell_type": "code",
   "execution_count": 3,
   "id": "f0a8c44b",
   "metadata": {},
   "outputs": [
    {
     "name": "stdout",
     "output_type": "stream",
     "text": [
      "✅ Validated single-hull mesh: 636 external faces, volume=6817.908\n",
      "Computing 12 cross-sections from z=-100.00 to z=51.23\n",
      "  Cross-section 0: z=-88.00, 28 line segments, area=0.000\n",
      "  Cross-section 1: z=-76.00, 28 line segments, area=0.000\n",
      "  Cross-section 2: z=-64.00, 28 line segments, area=0.000\n",
      "  Cross-section 3: z=-52.00, 28 line segments, area=0.000\n",
      "  Cross-section 4: z=-40.00, 28 line segments, area=0.000\n",
      "  Cross-section 5: z=-28.00, 28 line segments, area=0.000\n",
      "  Cross-section 6: z=-16.00, 28 line segments, area=0.000\n",
      "  Cross-section 7: z=-4.00, 42 line segments, area=0.000\n",
      "  Cross-section 8: z=8.00, 70 line segments, area=0.000\n",
      "  Cross-section 9: z=20.00, 136 line segments, area=0.000\n",
      "  Cross-section 10: z=32.00, 136 line segments, area=0.000\n",
      "  Cross-section 11: z=44.00, 136 line segments, area=0.000\n",
      "✅ Computed 12 cross-sections, creating 13 slices\n",
      "\n",
      "Processing slice 0: z=[-100.00, -88.00]\n",
      "  🏷️  Annotated 52 external + 26 internal faces\n",
      "  Slice 0: 1 closed volumes (segments)\n",
      "    🔄 Transferred face attributes: 78 faces\n",
      "    Segment seg_0_0: vol=81.000, ext_area=118.560, int_area=6.750\n",
      "\n",
      "Processing slice 1: z=[-88.00, -76.00]\n",
      "  🏷️  Annotated 72 external + 68 internal faces\n",
      "  Slice 1: 1 closed volumes (segments)\n",
      "    🔄 Transferred face attributes: 140 faces\n",
      "    Segment seg_1_0: vol=81.000, ext_area=111.810, int_area=13.500\n",
      "\n",
      "Processing slice 2: z=[-76.00, -64.00]\n",
      "  🏷️  Annotated 72 external + 68 internal faces\n",
      "  Slice 2: 1 closed volumes (segments)\n",
      "    🔄 Transferred face attributes: 140 faces\n",
      "    Segment seg_2_0: vol=81.000, ext_area=111.810, int_area=13.500\n",
      "\n",
      "Processing slice 3: z=[-64.00, -52.00]\n",
      "  🏷️  Annotated 72 external + 68 internal faces\n",
      "  Slice 3: 1 closed volumes (segments)\n",
      "    🔄 Transferred face attributes: 140 faces\n",
      "    Segment seg_3_0: vol=81.000, ext_area=111.810, int_area=13.500\n",
      "\n",
      "Processing slice 4: z=[-52.00, -40.00]\n",
      "  🏷️  Annotated 72 external + 68 internal faces\n",
      "  Slice 4: 1 closed volumes (segments)\n",
      "    🔄 Transferred face attributes: 140 faces\n",
      "    Segment seg_4_0: vol=81.000, ext_area=111.810, int_area=13.500\n",
      "\n",
      "Processing slice 5: z=[-40.00, -28.00]\n",
      "  🏷️  Annotated 72 external + 68 internal faces\n",
      "  Slice 5: 1 closed volumes (segments)\n",
      "    🔄 Transferred face attributes: 140 faces\n",
      "    Segment seg_5_0: vol=81.000, ext_area=111.810, int_area=13.500\n",
      "\n",
      "Processing slice 6: z=[-28.00, -16.00]\n",
      "  🏷️  Annotated 72 external + 68 internal faces\n",
      "  Slice 6: 1 closed volumes (segments)\n",
      "    🔄 Transferred face attributes: 140 faces\n",
      "    Segment seg_6_0: vol=81.000, ext_area=111.810, int_area=13.500\n",
      "\n",
      "Processing slice 7: z=[-16.00, -4.00]\n",
      "  🏷️  Annotated 202 external + 66 internal faces\n",
      "  Slice 7: 1 closed volumes (segments)\n",
      "    🔄 Transferred face attributes: 268 faces\n",
      "    Segment seg_7_0: vol=903.900, ext_area=558.115, int_area=123.344\n",
      "\n",
      "Processing slice 8: z=[-4.00, 8.00]\n",
      "  🏷️  Annotated 340 external + 108 internal faces\n",
      "  Slice 8: 1 closed volumes (segments)\n",
      "    🔄 Transferred face attributes: 448 faces\n",
      "    Segment seg_8_0: vol=3081.163, ext_area=732.769, int_area=378.698\n",
      "\n",
      "Processing slice 9: z=[8.00, 20.00]\n",
      "  🏷️  Annotated 388 external + 226 internal faces\n",
      "  Slice 9: 1 closed volumes (segments)\n",
      "    🔄 Transferred face attributes: 614 faces\n",
      "    Segment seg_9_0: vol=686.181, ext_area=678.611, int_area=181.126\n",
      "\n",
      "Processing slice 10: z=[20.00, 32.00]\n",
      "  🏷️  Annotated 304 external + 288 internal faces\n",
      "  Slice 10: 4 closed volumes (segments)\n",
      "    🔄 Transferring face attributes to 4 components...\n",
      "      Component 0: 74 external + 70 internal faces\n",
      "      Component 1: 74 external + 70 internal faces\n",
      "      Component 2: 78 external + 74 internal faces\n",
      "      Component 3: 78 external + 74 internal faces\n",
      "    Segment seg_10_0: vol=156.767, ext_area=169.684, int_area=26.128\n",
      "    Segment seg_10_1: vol=156.767, ext_area=169.684, int_area=26.128\n",
      "    Segment seg_10_2: vol=156.767, ext_area=169.684, int_area=26.128\n",
      "    Segment seg_10_3: vol=156.767, ext_area=169.684, int_area=26.128\n",
      "\n",
      "Processing slice 11: z=[32.00, 44.00]\n",
      "  🏷️  Annotated 304 external + 288 internal faces\n",
      "  Slice 11: 4 closed volumes (segments)\n",
      "    🔄 Transferring face attributes to 4 components...\n",
      "      Component 0: 74 external + 70 internal faces\n",
      "      Component 1: 74 external + 70 internal faces\n",
      "      Component 2: 78 external + 74 internal faces\n",
      "      Component 3: 78 external + 74 internal faces\n",
      "    Segment seg_11_0: vol=156.767, ext_area=169.684, int_area=26.128\n",
      "    Segment seg_11_1: vol=156.767, ext_area=169.684, int_area=26.128\n",
      "    Segment seg_11_2: vol=156.767, ext_area=169.684, int_area=26.128\n",
      "    Segment seg_11_3: vol=156.767, ext_area=169.684, int_area=26.128\n",
      "\n",
      "Processing slice 12: z=[44.00, 51.23]\n",
      "  🏷️  Annotated 200 external + 128 internal faces\n",
      "  Slice 12: 4 closed volumes (segments)\n",
      "    🔄 Transferring face attributes to 4 components...\n",
      "      Component 0: 49 external + 31 internal faces\n",
      "      Component 1: 51 external + 33 internal faces\n",
      "      Component 2: 49 external + 31 internal faces\n",
      "      Component 3: 51 external + 33 internal faces\n",
      "    Segment seg_12_0: vol=81.381, ext_area=99.400, int_area=13.064\n",
      "    Segment seg_12_1: vol=81.381, ext_area=99.400, int_area=13.064\n",
      "    Segment seg_12_2: vol=81.381, ext_area=99.400, int_area=13.064\n",
      "    Segment seg_12_3: vol=81.381, ext_area=99.400, int_area=13.064\n",
      "✅ Extracted 22 total segments across 13 slices\n",
      "  Connected seg_0_0 ↔ seg_1_0\n",
      "  Connected seg_1_0 ↔ seg_2_0\n",
      "  Connected seg_2_0 ↔ seg_3_0\n",
      "  Connected seg_3_0 ↔ seg_4_0\n",
      "  Connected seg_4_0 ↔ seg_5_0\n",
      "  Connected seg_5_0 ↔ seg_6_0\n",
      "  Connected seg_6_0 ↔ seg_7_0\n",
      "  Connected seg_7_0 ↔ seg_8_0\n",
      "  Connected seg_8_0 ↔ seg_9_0\n",
      "  Connected seg_9_0 ↔ seg_10_0\n",
      "  Connected seg_9_0 ↔ seg_10_1\n",
      "  Connected seg_9_0 ↔ seg_10_2\n",
      "  Connected seg_9_0 ↔ seg_10_3\n",
      "  Connected seg_10_0 ↔ seg_11_0\n",
      "  Connected seg_10_1 ↔ seg_11_1\n",
      "  Connected seg_10_2 ↔ seg_11_3\n",
      "  Connected seg_10_3 ↔ seg_11_2\n",
      "  Connected seg_11_0 ↔ seg_12_0\n",
      "  Connected seg_11_1 ↔ seg_12_2\n",
      "  Connected seg_11_2 ↔ seg_12_1\n",
      "  Connected seg_11_3 ↔ seg_12_3\n",
      "✅ Built connectivity graph: 22 nodes, 21 edges\n",
      "\n",
      "📊 CONSERVATION VALIDATION:\n",
      "Volume: segments=6817.9084 vs original=6817.9084 (error: 0.00%)\n",
      "Surface area: segments=4513.9859 vs original=4410.8781 (error: 2.34%)\n",
      "✅ Conservation validation passed\n",
      "🎉 Enhanced Segmentation Results:\n",
      "  Total segments: 22\n",
      "  Total slices: 13\n",
      "  Connectivity edges: 21\n",
      "  Slice 10: 4 segments (multi-component)\n",
      "  Slice 11: 4 segments (multi-component)\n",
      "  Slice 12: 4 segments (multi-component)\n",
      "\n",
      "🌳 Branching Analysis:\n",
      "  Slices with multiple segments: 3\n",
      "  Maximum segments per slice: 4\n",
      "  Volume conservation: 100.0%\n"
     ]
    }
   ],
   "source": [
    "# Create segmenter and segment the mesh with enhanced algorithm\n",
    "segmenter = MeshSegmenter()\n",
    "segments = segmenter.segment_mesh(neuron, slice_height=12)\n",
    "\n",
    "print(f\"🎉 Enhanced Segmentation Results:\")\n",
    "print(f\"  Total segments: {len(segments)}\")\n",
    "print(f\"  Total slices: {len(segmenter.slices)}\")\n",
    "print(f\"  Connectivity edges: {len(segmenter.connectivity_graph.edges)}\")\n",
    "\n",
    "# Analyze multi-component slices\n",
    "multi_component_slices = 0\n",
    "for i, slice_info in enumerate(segmenter.slices):\n",
    "    slice_segments = [s for s in segments if s.slice_index == i]\n",
    "    if len(slice_segments) > 1:\n",
    "        multi_component_slices += 1\n",
    "        print(f\"  Slice {i}: {len(slice_segments)} segments (multi-component)\")\n",
    "\n",
    "print(f\"\\n🌳 Branching Analysis:\")\n",
    "print(f\"  Slices with multiple segments: {multi_component_slices}\")\n",
    "print(f\"  Maximum segments per slice: {max(len([s for s in segments if s.slice_index == i]) for i in range(len(segmenter.slices)))}\")\n",
    "\n",
    "# Volume validation\n",
    "total_volume = sum(seg.volume for seg in segments)\n",
    "volume_conservation = (total_volume / neuron.volume) * 100\n",
    "print(f\"  Volume conservation: {volume_conservation:.1f}%\")"
   ]
  },
  {
   "cell_type": "markdown",
   "id": "93760da5",
   "metadata": {},
   "source": [
    "## SegmentGraph"
   ]
  },
  {
   "cell_type": "code",
   "execution_count": 5,
   "id": "c3e43954",
   "metadata": {},
   "outputs": [
    {
     "data": {
      "image/png": "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",
      "text/plain": [
       "<Figure size 1200x1000 with 2 Axes>"
      ]
     },
     "metadata": {},
     "output_type": "display_data"
    }
   ],
   "source": [
    "graph = segmenter.get_segment_graph()\n",
    "_ = graph.visualize()\n"
   ]
  },
  {
   "cell_type": "markdown",
   "id": "747889af",
   "metadata": {},
   "source": [
    "## Summary\n",
    "\n",
    "The enhanced neuron segmentation demonstrates significant algorithmic improvements:\n",
    "\n",
    "### 🚀 **Key Enhancements**\n",
    "- **Multi-component slices**: Robust handling of any number of segments per slice\n",
    "- **Shared boundary connectivity**: Segments connected based on actual cut boundaries, not just proximity\n",
    "- **Enhanced face attribution**: Proper transfer of external/internal face classifications to all components\n",
    "- **Complex branching support**: Correctly handles neuronal dendrites, axons, and branch points\n",
    "\n",
    "### 🧠 **Neurological Realism**\n",
    "- **Anatomical accuracy**: Cell body, dendrites, and axonal structures properly segmented\n",
    "- **Branching topology**: Tree-like connectivity graph reflects actual neural architecture\n",
    "- **Compartmental modeling**: Each segment represents a valid compartment for electrophysiological simulation\n",
    "\n",
    "### 🔬 **Technical Validation**\n",
    "- **Volume conservation**: Perfect preservation of total mesh volume\n",
    "- **Surface area tracking**: Accurate external and internal surface area calculations\n",
    "- **Connectivity integrity**: Robust graph structure suitable for coupled ODE systems\n",
    "\n",
    "This enhanced algorithm provides the foundation for realistic compartmental modeling of complex neuronal morphologies, supporting advanced electrophysiological simulations with proper inter-compartment connectivity."
   ]
  }
 ],
 "metadata": {
  "kernelspec": {
   "display_name": ".venv",
   "language": "python",
   "name": "python3"
  },
  "language_info": {
   "codemirror_mode": {
    "name": "ipython",
    "version": 3
   },
   "file_extension": ".py",
   "mimetype": "text/x-python",
   "name": "python",
   "nbconvert_exporter": "python",
   "pygments_lexer": "ipython3",
   "version": "3.11.4"
  }
 },
 "nbformat": 4,
 "nbformat_minor": 5
}
