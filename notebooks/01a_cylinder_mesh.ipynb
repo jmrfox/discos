{
 "cells": [
  {
   "cell_type": "markdown",
   "id": "28f52917",
   "metadata": {},
   "source": [
    "# 01a - Cylinder Mesh Demo\n",
    "\n",
    "Create and visualize cylindrical mesh geometries using DISCOS.\n"
   ]
  },
  {
   "cell_type": "markdown",
   "id": "7039df37",
   "metadata": {},
   "source": [
    "## Setup"
   ]
  },
  {
   "cell_type": "code",
   "execution_count": 1,
   "id": "fa6f7213",
   "metadata": {},
   "outputs": [
    {
     "name": "stdout",
     "output_type": "stream",
     "text": [
      "✅ Libraries imported successfully!\n"
     ]
    }
   ],
   "source": [
    "# Import DISCOS functions\n",
    "from discos.demo import create_cylinder_mesh\n",
    "from discos.mesh import MeshManager\n",
    "\n",
    "print(\"✅ Libraries imported successfully!\")"
   ]
  },
  {
   "cell_type": "markdown",
   "id": "acc3f452",
   "metadata": {},
   "source": [
    "## Create Cylinder"
   ]
  },
  {
   "cell_type": "code",
   "execution_count": 2,
   "id": "4f0e4568",
   "metadata": {},
   "outputs": [
    {
     "name": "stdout",
     "output_type": "stream",
     "text": [
      "Created cylinder with 34 vertices and 64 faces\n"
     ]
    }
   ],
   "source": [
    "# Create a cylinder mesh\n",
    "cylinder = create_cylinder_mesh(\n",
    "    length=100.0,    # 100 micrometers long\n",
    "    radius=5.0,      # 5 micrometers radius\n",
    "    resolution=16,   # 16 sides\n",
    "    axis='z'         # oriented along z-axis\n",
    ")\n",
    "\n",
    "print(f\"Created cylinder with {len(cylinder.vertices)} vertices and {len(cylinder.faces)} faces\")\n",
    "\n",
    "cylinder = MeshManager(cylinder)"
   ]
  },
  {
   "cell_type": "markdown",
   "id": "82e88070",
   "metadata": {},
   "source": [
    "## 3D Visualization"
   ]
  },
  {
   "cell_type": "code",
   "execution_count": 3,
   "id": "f38f8c5b",
   "metadata": {},
   "outputs": [
    {
     "data": {
      "application/vnd.plotly.v1+json": {
       "config": {
        "plotlyServerURL": "https://plot.ly"
       },
       "data": [
        {
         "color": "lightblue",
         "i": {
          "bdata": "AQECAgQEBQUGBgcHCAgJCQoKCwsMDA0NDg4PDxAQERESEhMTFBQVFRYWFxcYGBkZGhobGxwcHR0eHh8fICAhIQ==",
          "dtype": "i1"
         },
         "j": {
          "bdata": "AAQEBQAGBgcACAgJAAoKCwAMDA0ADg4PABAQEQASEhMAFBQVABYWFwAYGBkAGhobABwcHQAeHh8AICAhAAEBAg==",
          "dtype": "i1"
         },
         "k": {
          "bdata": "BAIFAwYFBwMIBwkDCgkLAwwLDQMODQ8DEA8RAxIREwMUExUDFhUXAxgXGQMaGRsDHBsdAx4dHwMgHyEDASECAw==",
          "dtype": "i1"
         },
         "name": "Mesh",
         "opacity": 0.8,
         "type": "mesh3d",
         "x": {
          "bdata": "AAAAAAAAAAAAAAAAAAAUQAAAAAAAABRAAAAAAAAAAABMmH9hQ3oSQEyYf2FDehJAwAofAMZIDEDACh8AxkgMQL1TWlBbnf4/vVNaUFud/j8Jc9m/rw+2PAlz2b+vD7Y8ulNaUFud/r+6U1pQW53+v78KHwDGSAzAvwofAMZIDMBMmH9hQ3oSwEyYf2FDehLAAAAAAAAAFMAAAAAAAAAUwEyYf2FDehLATJh/YUN6EsDCCh8AxkgMwMIKHwDGSAzAyFNaUFud/r/IU1pQW53+v0YW48/Di9C8Rhbjz8OL0LzBU1pQW53+P8FTWlBbnf4/vgofAMZIDEC+Ch8AxkgMQEqYf2FDehJASph/YUN6EkA=",
          "dtype": "f8"
         },
         "y": {
          "bdata": "AAAAAAAAAAAAAAAAAAAAAAAAAAAAAAAAAAAAAAAAAAC8U1pQW53+P7xTWlBbnf4/wAofAMZIDEDACh8AxkgMQEyYf2FDehJATJh/YUN6EkAAAAAAAAAUQAAAAAAAABRATJh/YUN6EkBMmH9hQ3oSQMAKHwDGSAxAwAofAMZIDEC+U1pQW53+P75TWlBbnf4/CXPZv68PxjwJc9m/rw/GPLlTWlBbnf6/uVNaUFud/r+/Ch8AxkgMwL8KHwDGSAzASph/YUN6EsBKmH9hQ3oSwAAAAAAAABTAAAAAAAAAFMBLmH9hQ3oSwEuYf2FDehLAwgofAMZIDMDCCh8AxkgMwMpTWlBbnf6/ylNaUFud/r8=",
          "dtype": "f8"
         },
         "z": {
          "bdata": "AAAAAAAAScAAAAAAAABJwAAAAAAAAElAAAAAAAAASUAAAAAAAABJwAAAAAAAAElAAAAAAAAAScAAAAAAAABJQAAAAAAAAEnAAAAAAAAASUAAAAAAAABJwAAAAAAAAElAAAAAAAAAScAAAAAAAABJQAAAAAAAAEnAAAAAAAAASUAAAAAAAABJwAAAAAAAAElAAAAAAAAAScAAAAAAAABJQAAAAAAAAEnAAAAAAAAASUAAAAAAAABJwAAAAAAAAElAAAAAAAAAScAAAAAAAABJQAAAAAAAAEnAAAAAAAAASUAAAAAAAABJwAAAAAAAAElAAAAAAAAAScAAAAAAAABJQAAAAAAAAEnAAAAAAAAASUA=",
          "dtype": "f8"
         }
        }
       ],
       "layout": {
        "scene": {
         "aspectmode": "data",
         "xaxis": {
          "visible": true
         },
         "yaxis": {
          "visible": true
         },
         "zaxis": {
          "visible": true
         }
        },
        "template": {
         "data": {
          "bar": [
           {
            "error_x": {
             "color": "#2a3f5f"
            },
            "error_y": {
             "color": "#2a3f5f"
            },
            "marker": {
             "line": {
              "color": "#E5ECF6",
              "width": 0.5
             },
             "pattern": {
              "fillmode": "overlay",
              "size": 10,
              "solidity": 0.2
             }
            },
            "type": "bar"
           }
          ],
          "barpolar": [
           {
            "marker": {
             "line": {
              "color": "#E5ECF6",
              "width": 0.5
             },
             "pattern": {
              "fillmode": "overlay",
              "size": 10,
              "solidity": 0.2
             }
            },
            "type": "barpolar"
           }
          ],
          "carpet": [
           {
            "aaxis": {
             "endlinecolor": "#2a3f5f",
             "gridcolor": "white",
             "linecolor": "white",
             "minorgridcolor": "white",
             "startlinecolor": "#2a3f5f"
            },
            "baxis": {
             "endlinecolor": "#2a3f5f",
             "gridcolor": "white",
             "linecolor": "white",
             "minorgridcolor": "white",
             "startlinecolor": "#2a3f5f"
            },
            "type": "carpet"
           }
          ],
          "choropleth": [
           {
            "colorbar": {
             "outlinewidth": 0,
             "ticks": ""
            },
            "type": "choropleth"
           }
          ],
          "contour": [
           {
            "colorbar": {
             "outlinewidth": 0,
             "ticks": ""
            },
            "colorscale": [
             [
              0,
              "#0d0887"
             ],
             [
              0.1111111111111111,
              "#46039f"
             ],
             [
              0.2222222222222222,
              "#7201a8"
             ],
             [
              0.3333333333333333,
              "#9c179e"
             ],
             [
              0.4444444444444444,
              "#bd3786"
             ],
             [
              0.5555555555555556,
              "#d8576b"
             ],
             [
              0.6666666666666666,
              "#ed7953"
             ],
             [
              0.7777777777777778,
              "#fb9f3a"
             ],
             [
              0.8888888888888888,
              "#fdca26"
             ],
             [
              1,
              "#f0f921"
             ]
            ],
            "type": "contour"
           }
          ],
          "contourcarpet": [
           {
            "colorbar": {
             "outlinewidth": 0,
             "ticks": ""
            },
            "type": "contourcarpet"
           }
          ],
          "heatmap": [
           {
            "colorbar": {
             "outlinewidth": 0,
             "ticks": ""
            },
            "colorscale": [
             [
              0,
              "#0d0887"
             ],
             [
              0.1111111111111111,
              "#46039f"
             ],
             [
              0.2222222222222222,
              "#7201a8"
             ],
             [
              0.3333333333333333,
              "#9c179e"
             ],
             [
              0.4444444444444444,
              "#bd3786"
             ],
             [
              0.5555555555555556,
              "#d8576b"
             ],
             [
              0.6666666666666666,
              "#ed7953"
             ],
             [
              0.7777777777777778,
              "#fb9f3a"
             ],
             [
              0.8888888888888888,
              "#fdca26"
             ],
             [
              1,
              "#f0f921"
             ]
            ],
            "type": "heatmap"
           }
          ],
          "histogram": [
           {
            "marker": {
             "pattern": {
              "fillmode": "overlay",
              "size": 10,
              "solidity": 0.2
             }
            },
            "type": "histogram"
           }
          ],
          "histogram2d": [
           {
            "colorbar": {
             "outlinewidth": 0,
             "ticks": ""
            },
            "colorscale": [
             [
              0,
              "#0d0887"
             ],
             [
              0.1111111111111111,
              "#46039f"
             ],
             [
              0.2222222222222222,
              "#7201a8"
             ],
             [
              0.3333333333333333,
              "#9c179e"
             ],
             [
              0.4444444444444444,
              "#bd3786"
             ],
             [
              0.5555555555555556,
              "#d8576b"
             ],
             [
              0.6666666666666666,
              "#ed7953"
             ],
             [
              0.7777777777777778,
              "#fb9f3a"
             ],
             [
              0.8888888888888888,
              "#fdca26"
             ],
             [
              1,
              "#f0f921"
             ]
            ],
            "type": "histogram2d"
           }
          ],
          "histogram2dcontour": [
           {
            "colorbar": {
             "outlinewidth": 0,
             "ticks": ""
            },
            "colorscale": [
             [
              0,
              "#0d0887"
             ],
             [
              0.1111111111111111,
              "#46039f"
             ],
             [
              0.2222222222222222,
              "#7201a8"
             ],
             [
              0.3333333333333333,
              "#9c179e"
             ],
             [
              0.4444444444444444,
              "#bd3786"
             ],
             [
              0.5555555555555556,
              "#d8576b"
             ],
             [
              0.6666666666666666,
              "#ed7953"
             ],
             [
              0.7777777777777778,
              "#fb9f3a"
             ],
             [
              0.8888888888888888,
              "#fdca26"
             ],
             [
              1,
              "#f0f921"
             ]
            ],
            "type": "histogram2dcontour"
           }
          ],
          "mesh3d": [
           {
            "colorbar": {
             "outlinewidth": 0,
             "ticks": ""
            },
            "type": "mesh3d"
           }
          ],
          "parcoords": [
           {
            "line": {
             "colorbar": {
              "outlinewidth": 0,
              "ticks": ""
             }
            },
            "type": "parcoords"
           }
          ],
          "pie": [
           {
            "automargin": true,
            "type": "pie"
           }
          ],
          "scatter": [
           {
            "fillpattern": {
             "fillmode": "overlay",
             "size": 10,
             "solidity": 0.2
            },
            "type": "scatter"
           }
          ],
          "scatter3d": [
           {
            "line": {
             "colorbar": {
              "outlinewidth": 0,
              "ticks": ""
             }
            },
            "marker": {
             "colorbar": {
              "outlinewidth": 0,
              "ticks": ""
             }
            },
            "type": "scatter3d"
           }
          ],
          "scattercarpet": [
           {
            "marker": {
             "colorbar": {
              "outlinewidth": 0,
              "ticks": ""
             }
            },
            "type": "scattercarpet"
           }
          ],
          "scattergeo": [
           {
            "marker": {
             "colorbar": {
              "outlinewidth": 0,
              "ticks": ""
             }
            },
            "type": "scattergeo"
           }
          ],
          "scattergl": [
           {
            "marker": {
             "colorbar": {
              "outlinewidth": 0,
              "ticks": ""
             }
            },
            "type": "scattergl"
           }
          ],
          "scattermap": [
           {
            "marker": {
             "colorbar": {
              "outlinewidth": 0,
              "ticks": ""
             }
            },
            "type": "scattermap"
           }
          ],
          "scattermapbox": [
           {
            "marker": {
             "colorbar": {
              "outlinewidth": 0,
              "ticks": ""
             }
            },
            "type": "scattermapbox"
           }
          ],
          "scatterpolar": [
           {
            "marker": {
             "colorbar": {
              "outlinewidth": 0,
              "ticks": ""
             }
            },
            "type": "scatterpolar"
           }
          ],
          "scatterpolargl": [
           {
            "marker": {
             "colorbar": {
              "outlinewidth": 0,
              "ticks": ""
             }
            },
            "type": "scatterpolargl"
           }
          ],
          "scatterternary": [
           {
            "marker": {
             "colorbar": {
              "outlinewidth": 0,
              "ticks": ""
             }
            },
            "type": "scatterternary"
           }
          ],
          "surface": [
           {
            "colorbar": {
             "outlinewidth": 0,
             "ticks": ""
            },
            "colorscale": [
             [
              0,
              "#0d0887"
             ],
             [
              0.1111111111111111,
              "#46039f"
             ],
             [
              0.2222222222222222,
              "#7201a8"
             ],
             [
              0.3333333333333333,
              "#9c179e"
             ],
             [
              0.4444444444444444,
              "#bd3786"
             ],
             [
              0.5555555555555556,
              "#d8576b"
             ],
             [
              0.6666666666666666,
              "#ed7953"
             ],
             [
              0.7777777777777778,
              "#fb9f3a"
             ],
             [
              0.8888888888888888,
              "#fdca26"
             ],
             [
              1,
              "#f0f921"
             ]
            ],
            "type": "surface"
           }
          ],
          "table": [
           {
            "cells": {
             "fill": {
              "color": "#EBF0F8"
             },
             "line": {
              "color": "white"
             }
            },
            "header": {
             "fill": {
              "color": "#C8D4E3"
             },
             "line": {
              "color": "white"
             }
            },
            "type": "table"
           }
          ]
         },
         "layout": {
          "annotationdefaults": {
           "arrowcolor": "#2a3f5f",
           "arrowhead": 0,
           "arrowwidth": 1
          },
          "autotypenumbers": "strict",
          "coloraxis": {
           "colorbar": {
            "outlinewidth": 0,
            "ticks": ""
           }
          },
          "colorscale": {
           "diverging": [
            [
             0,
             "#8e0152"
            ],
            [
             0.1,
             "#c51b7d"
            ],
            [
             0.2,
             "#de77ae"
            ],
            [
             0.3,
             "#f1b6da"
            ],
            [
             0.4,
             "#fde0ef"
            ],
            [
             0.5,
             "#f7f7f7"
            ],
            [
             0.6,
             "#e6f5d0"
            ],
            [
             0.7,
             "#b8e186"
            ],
            [
             0.8,
             "#7fbc41"
            ],
            [
             0.9,
             "#4d9221"
            ],
            [
             1,
             "#276419"
            ]
           ],
           "sequential": [
            [
             0,
             "#0d0887"
            ],
            [
             0.1111111111111111,
             "#46039f"
            ],
            [
             0.2222222222222222,
             "#7201a8"
            ],
            [
             0.3333333333333333,
             "#9c179e"
            ],
            [
             0.4444444444444444,
             "#bd3786"
            ],
            [
             0.5555555555555556,
             "#d8576b"
            ],
            [
             0.6666666666666666,
             "#ed7953"
            ],
            [
             0.7777777777777778,
             "#fb9f3a"
            ],
            [
             0.8888888888888888,
             "#fdca26"
            ],
            [
             1,
             "#f0f921"
            ]
           ],
           "sequentialminus": [
            [
             0,
             "#0d0887"
            ],
            [
             0.1111111111111111,
             "#46039f"
            ],
            [
             0.2222222222222222,
             "#7201a8"
            ],
            [
             0.3333333333333333,
             "#9c179e"
            ],
            [
             0.4444444444444444,
             "#bd3786"
            ],
            [
             0.5555555555555556,
             "#d8576b"
            ],
            [
             0.6666666666666666,
             "#ed7953"
            ],
            [
             0.7777777777777778,
             "#fb9f3a"
            ],
            [
             0.8888888888888888,
             "#fdca26"
            ],
            [
             1,
             "#f0f921"
            ]
           ]
          },
          "colorway": [
           "#636efa",
           "#EF553B",
           "#00cc96",
           "#ab63fa",
           "#FFA15A",
           "#19d3f3",
           "#FF6692",
           "#B6E880",
           "#FF97FF",
           "#FECB52"
          ],
          "font": {
           "color": "#2a3f5f"
          },
          "geo": {
           "bgcolor": "white",
           "lakecolor": "white",
           "landcolor": "#E5ECF6",
           "showlakes": true,
           "showland": true,
           "subunitcolor": "white"
          },
          "hoverlabel": {
           "align": "left"
          },
          "hovermode": "closest",
          "mapbox": {
           "style": "light"
          },
          "paper_bgcolor": "white",
          "plot_bgcolor": "#E5ECF6",
          "polar": {
           "angularaxis": {
            "gridcolor": "white",
            "linecolor": "white",
            "ticks": ""
           },
           "bgcolor": "#E5ECF6",
           "radialaxis": {
            "gridcolor": "white",
            "linecolor": "white",
            "ticks": ""
           }
          },
          "scene": {
           "xaxis": {
            "backgroundcolor": "#E5ECF6",
            "gridcolor": "white",
            "gridwidth": 2,
            "linecolor": "white",
            "showbackground": true,
            "ticks": "",
            "zerolinecolor": "white"
           },
           "yaxis": {
            "backgroundcolor": "#E5ECF6",
            "gridcolor": "white",
            "gridwidth": 2,
            "linecolor": "white",
            "showbackground": true,
            "ticks": "",
            "zerolinecolor": "white"
           },
           "zaxis": {
            "backgroundcolor": "#E5ECF6",
            "gridcolor": "white",
            "gridwidth": 2,
            "linecolor": "white",
            "showbackground": true,
            "ticks": "",
            "zerolinecolor": "white"
           }
          },
          "shapedefaults": {
           "line": {
            "color": "#2a3f5f"
           }
          },
          "ternary": {
           "aaxis": {
            "gridcolor": "white",
            "linecolor": "white",
            "ticks": ""
           },
           "baxis": {
            "gridcolor": "white",
            "linecolor": "white",
            "ticks": ""
           },
           "bgcolor": "#E5ECF6",
           "caxis": {
            "gridcolor": "white",
            "linecolor": "white",
            "ticks": ""
           }
          },
          "title": {
           "x": 0.05
          },
          "xaxis": {
           "automargin": true,
           "gridcolor": "white",
           "linecolor": "white",
           "ticks": "",
           "title": {
            "standoff": 15
           },
           "zerolinecolor": "white",
           "zerolinewidth": 2
          },
          "yaxis": {
           "automargin": true,
           "gridcolor": "white",
           "linecolor": "white",
           "ticks": "",
           "title": {
            "standoff": 15
           },
           "zerolinecolor": "white",
           "zerolinewidth": 2
          }
         }
        },
        "title": {
         "text": "Simple Cylinder Mesh"
        }
       }
      }
     },
     "metadata": {},
     "output_type": "display_data"
    }
   ],
   "source": [
    "# Visualize the cylinder\n",
    "cylinder.visualize_mesh_3d(\n",
    "    title=\"Simple Cylinder Mesh\",\n",
    "    color=\"lightblue\"\n",
    ")"
   ]
  },
  {
   "cell_type": "markdown",
   "id": "308cf058",
   "metadata": {},
   "source": [
    "## Interactive Cross-Sections"
   ]
  },
  {
   "cell_type": "code",
   "execution_count": 4,
   "id": "8e6e0eab",
   "metadata": {},
   "outputs": [
    {
     "data": {
      "application/vnd.plotly.v1+json": {
       "config": {
        "plotlyServerURL": "https://plot.ly"
       },
       "data": [
        {
         "color": "lightblue",
         "i": {
          "bdata": "AQECAgQEBQUGBgcHCAgJCQoKCwsMDA0NDg4PDxAQERESEhMTFBQVFRYWFxcYGBkZGhobGxwcHR0eHh8fICAhIQ==",
          "dtype": "i1"
         },
         "j": {
          "bdata": "AAQEBQAGBgcACAgJAAoKCwAMDA0ADg4PABAQEQASEhMAFBQVABYWFwAYGBkAGhobABwcHQAeHh8AICAhAAEBAg==",
          "dtype": "i1"
         },
         "k": {
          "bdata": "BAIFAwYFBwMIBwkDCgkLAwwLDQMODQ8DEA8RAxIREwMUExUDFhUXAxgXGQMaGRsDHBsdAx4dHwMgHyEDASECAw==",
          "dtype": "i1"
         },
         "name": "Mesh",
         "opacity": 0.3,
         "type": "mesh3d",
         "x": {
          "bdata": "AAAAAAAAAAAAAAAAAAAUQAAAAAAAABRAAAAAAAAAAABMmH9hQ3oSQEyYf2FDehJAwAofAMZIDEDACh8AxkgMQL1TWlBbnf4/vVNaUFud/j8Jc9m/rw+2PAlz2b+vD7Y8ulNaUFud/r+6U1pQW53+v78KHwDGSAzAvwofAMZIDMBMmH9hQ3oSwEyYf2FDehLAAAAAAAAAFMAAAAAAAAAUwEyYf2FDehLATJh/YUN6EsDCCh8AxkgMwMIKHwDGSAzAyFNaUFud/r/IU1pQW53+v0YW48/Di9C8Rhbjz8OL0LzBU1pQW53+P8FTWlBbnf4/vgofAMZIDEC+Ch8AxkgMQEqYf2FDehJASph/YUN6EkA=",
          "dtype": "f8"
         },
         "y": {
          "bdata": "AAAAAAAAAAAAAAAAAAAAAAAAAAAAAAAAAAAAAAAAAAC8U1pQW53+P7xTWlBbnf4/wAofAMZIDEDACh8AxkgMQEyYf2FDehJATJh/YUN6EkAAAAAAAAAUQAAAAAAAABRATJh/YUN6EkBMmH9hQ3oSQMAKHwDGSAxAwAofAMZIDEC+U1pQW53+P75TWlBbnf4/CXPZv68PxjwJc9m/rw/GPLlTWlBbnf6/uVNaUFud/r+/Ch8AxkgMwL8KHwDGSAzASph/YUN6EsBKmH9hQ3oSwAAAAAAAABTAAAAAAAAAFMBLmH9hQ3oSwEuYf2FDehLAwgofAMZIDMDCCh8AxkgMwMpTWlBbnf6/ylNaUFud/r8=",
          "dtype": "f8"
         },
         "z": {
          "bdata": "AAAAAAAAScAAAAAAAABJwAAAAAAAAElAAAAAAAAASUAAAAAAAABJwAAAAAAAAElAAAAAAAAAScAAAAAAAABJQAAAAAAAAEnAAAAAAAAASUAAAAAAAABJwAAAAAAAAElAAAAAAAAAScAAAAAAAABJQAAAAAAAAEnAAAAAAAAASUAAAAAAAABJwAAAAAAAAElAAAAAAAAAScAAAAAAAABJQAAAAAAAAEnAAAAAAAAASUAAAAAAAABJwAAAAAAAAElAAAAAAAAAScAAAAAAAABJQAAAAAAAAEnAAAAAAAAASUAAAAAAAABJwAAAAAAAAElAAAAAAAAAScAAAAAAAABJQAAAAAAAAEnAAAAAAAAASUA=",
          "dtype": "f8"
         }
        },
        {
         "line": {
          "color": "red",
          "width": 5
         },
         "mode": "lines",
         "name": "Slice at z=0.00",
         "type": "scatter3d",
         "x": [
          -9.184850993605148e-16,
          -0.9567085809127263,
          -1.9134171618254516,
          -2.724475533879095,
          -3.5355339059327386,
          -4.077465784244586,
          -4.619397662556434,
          -4.809698831278217,
          -5,
          -4.809698831278217,
          -4.619397662556434,
          -4.077465784244586,
          -3.5355339059327373,
          -2.724475533879093,
          -1.9134171618254485,
          -0.956708580912724,
          3.061616997868383e-16,
          0.9567085809127247,
          1.9134171618254492,
          2.7244755338790934,
          3.5355339059327378,
          4.077465784244586,
          4.619397662556434,
          4.809698831278217,
          5,
          4.809698831278216,
          4.619397662556432,
          4.077465784244584,
          3.535533905932737,
          2.7244755338790934,
          1.91341716182545,
          0.9567085809127245,
          -9.184850993605148e-16,
          null
         ],
         "y": [
          -5,
          -4.809698831278216,
          -4.619397662556432,
          -4.077465784244585,
          -3.5355339059327373,
          -2.724475533879093,
          -1.9134171618254483,
          -0.9567085809127238,
          6.123233995736766e-16,
          0.956708580912725,
          1.9134171618254494,
          2.724475533879094,
          3.5355339059327378,
          4.077465784244586,
          4.619397662556434,
          4.809698831278217,
          5,
          4.809698831278217,
          4.619397662556434,
          4.077465784244586,
          3.5355339059327378,
          2.7244755338790934,
          1.913417161825449,
          0.9567085809127245,
          0,
          -0.956708580912726,
          -1.913417161825452,
          -2.7244755338790956,
          -3.5355339059327386,
          -4.077465784244586,
          -4.619397662556433,
          -4.809698831278217,
          -5,
          null
         ],
         "z": [
          0,
          0,
          0,
          0,
          0,
          0,
          0,
          0,
          0,
          0,
          0,
          0,
          0,
          0,
          0,
          0,
          0,
          0,
          0,
          0,
          0,
          0,
          0,
          0,
          0,
          0,
          0,
          0,
          0,
          0,
          0,
          0,
          0,
          null
         ]
        }
       ],
       "frames": [
        {
         "data": [
          {
           "color": "lightblue",
           "i": {
            "bdata": "AQECAgQEBQUGBgcHCAgJCQoKCwsMDA0NDg4PDxAQERESEhMTFBQVFRYWFxcYGBkZGhobGxwcHR0eHh8fICAhIQ==",
            "dtype": "i1"
           },
           "j": {
            "bdata": "AAQEBQAGBgcACAgJAAoKCwAMDA0ADg4PABAQEQASEhMAFBQVABYWFwAYGBkAGhobABwcHQAeHh8AICAhAAEBAg==",
            "dtype": "i1"
           },
           "k": {
            "bdata": "BAIFAwYFBwMIBwkDCgkLAwwLDQMODQ8DEA8RAxIREwMUExUDFhUXAxgXGQMaGRsDHBsdAx4dHwMgHyEDASECAw==",
            "dtype": "i1"
           },
           "name": "Mesh",
           "opacity": 0.3,
           "type": "mesh3d",
           "x": {
            "bdata": "AAAAAAAAAAAAAAAAAAAUQAAAAAAAABRAAAAAAAAAAABMmH9hQ3oSQEyYf2FDehJAwAofAMZIDEDACh8AxkgMQL1TWlBbnf4/vVNaUFud/j8Jc9m/rw+2PAlz2b+vD7Y8ulNaUFud/r+6U1pQW53+v78KHwDGSAzAvwofAMZIDMBMmH9hQ3oSwEyYf2FDehLAAAAAAAAAFMAAAAAAAAAUwEyYf2FDehLATJh/YUN6EsDCCh8AxkgMwMIKHwDGSAzAyFNaUFud/r/IU1pQW53+v0YW48/Di9C8Rhbjz8OL0LzBU1pQW53+P8FTWlBbnf4/vgofAMZIDEC+Ch8AxkgMQEqYf2FDehJASph/YUN6EkA=",
            "dtype": "f8"
           },
           "y": {
            "bdata": "AAAAAAAAAAAAAAAAAAAAAAAAAAAAAAAAAAAAAAAAAAC8U1pQW53+P7xTWlBbnf4/wAofAMZIDEDACh8AxkgMQEyYf2FDehJATJh/YUN6EkAAAAAAAAAUQAAAAAAAABRATJh/YUN6EkBMmH9hQ3oSQMAKHwDGSAxAwAofAMZIDEC+U1pQW53+P75TWlBbnf4/CXPZv68PxjwJc9m/rw/GPLlTWlBbnf6/uVNaUFud/r+/Ch8AxkgMwL8KHwDGSAzASph/YUN6EsBKmH9hQ3oSwAAAAAAAABTAAAAAAAAAFMBLmH9hQ3oSwEuYf2FDehLAwgofAMZIDMDCCh8AxkgMwMpTWlBbnf6/ylNaUFud/r8=",
            "dtype": "f8"
           },
           "z": {
            "bdata": "AAAAAAAAScAAAAAAAABJwAAAAAAAAElAAAAAAAAASUAAAAAAAABJwAAAAAAAAElAAAAAAAAAScAAAAAAAABJQAAAAAAAAEnAAAAAAAAASUAAAAAAAABJwAAAAAAAAElAAAAAAAAAScAAAAAAAABJQAAAAAAAAEnAAAAAAAAASUAAAAAAAABJwAAAAAAAAElAAAAAAAAAScAAAAAAAABJQAAAAAAAAEnAAAAAAAAASUAAAAAAAABJwAAAAAAAAElAAAAAAAAAScAAAAAAAABJQAAAAAAAAEnAAAAAAAAASUAAAAAAAABJwAAAAAAAAElAAAAAAAAAScAAAAAAAABJQAAAAAAAAEnAAAAAAAAASUA=",
            "dtype": "f8"
           }
          }
         ],
         "name": "frame_0",
         "traces": [
          0,
          1
         ]
        },
        {
         "data": [
          {
           "color": "lightblue",
           "i": {
            "bdata": "AQECAgQEBQUGBgcHCAgJCQoKCwsMDA0NDg4PDxAQERESEhMTFBQVFRYWFxcYGBkZGhobGxwcHR0eHh8fICAhIQ==",
            "dtype": "i1"
           },
           "j": {
            "bdata": "AAQEBQAGBgcACAgJAAoKCwAMDA0ADg4PABAQEQASEhMAFBQVABYWFwAYGBkAGhobABwcHQAeHh8AICAhAAEBAg==",
            "dtype": "i1"
           },
           "k": {
            "bdata": "BAIFAwYFBwMIBwkDCgkLAwwLDQMODQ8DEA8RAxIREwMUExUDFhUXAxgXGQMaGRsDHBsdAx4dHwMgHyEDASECAw==",
            "dtype": "i1"
           },
           "name": "Mesh",
           "opacity": 0.3,
           "type": "mesh3d",
           "x": {
            "bdata": "AAAAAAAAAAAAAAAAAAAUQAAAAAAAABRAAAAAAAAAAABMmH9hQ3oSQEyYf2FDehJAwAofAMZIDEDACh8AxkgMQL1TWlBbnf4/vVNaUFud/j8Jc9m/rw+2PAlz2b+vD7Y8ulNaUFud/r+6U1pQW53+v78KHwDGSAzAvwofAMZIDMBMmH9hQ3oSwEyYf2FDehLAAAAAAAAAFMAAAAAAAAAUwEyYf2FDehLATJh/YUN6EsDCCh8AxkgMwMIKHwDGSAzAyFNaUFud/r/IU1pQW53+v0YW48/Di9C8Rhbjz8OL0LzBU1pQW53+P8FTWlBbnf4/vgofAMZIDEC+Ch8AxkgMQEqYf2FDehJASph/YUN6EkA=",
            "dtype": "f8"
           },
           "y": {
            "bdata": "AAAAAAAAAAAAAAAAAAAAAAAAAAAAAAAAAAAAAAAAAAC8U1pQW53+P7xTWlBbnf4/wAofAMZIDEDACh8AxkgMQEyYf2FDehJATJh/YUN6EkAAAAAAAAAUQAAAAAAAABRATJh/YUN6EkBMmH9hQ3oSQMAKHwDGSAxAwAofAMZIDEC+U1pQW53+P75TWlBbnf4/CXPZv68PxjwJc9m/rw/GPLlTWlBbnf6/uVNaUFud/r+/Ch8AxkgMwL8KHwDGSAzASph/YUN6EsBKmH9hQ3oSwAAAAAAAABTAAAAAAAAAFMBLmH9hQ3oSwEuYf2FDehLAwgofAMZIDMDCCh8AxkgMwMpTWlBbnf6/ylNaUFud/r8=",
            "dtype": "f8"
           },
           "z": {
            "bdata": "AAAAAAAAScAAAAAAAABJwAAAAAAAAElAAAAAAAAASUAAAAAAAABJwAAAAAAAAElAAAAAAAAAScAAAAAAAABJQAAAAAAAAEnAAAAAAAAASUAAAAAAAABJwAAAAAAAAElAAAAAAAAAScAAAAAAAABJQAAAAAAAAEnAAAAAAAAASUAAAAAAAABJwAAAAAAAAElAAAAAAAAAScAAAAAAAABJQAAAAAAAAEnAAAAAAAAASUAAAAAAAABJwAAAAAAAAElAAAAAAAAAScAAAAAAAABJQAAAAAAAAEnAAAAAAAAASUAAAAAAAABJwAAAAAAAAElAAAAAAAAAScAAAAAAAABJQAAAAAAAAEnAAAAAAAAASUA=",
            "dtype": "f8"
           }
          }
         ],
         "name": "frame_1",
         "traces": [
          0,
          1
         ]
        },
        {
         "data": [
          {
           "color": "lightblue",
           "i": {
            "bdata": "AQECAgQEBQUGBgcHCAgJCQoKCwsMDA0NDg4PDxAQERESEhMTFBQVFRYWFxcYGBkZGhobGxwcHR0eHh8fICAhIQ==",
            "dtype": "i1"
           },
           "j": {
            "bdata": "AAQEBQAGBgcACAgJAAoKCwAMDA0ADg4PABAQEQASEhMAFBQVABYWFwAYGBkAGhobABwcHQAeHh8AICAhAAEBAg==",
            "dtype": "i1"
           },
           "k": {
            "bdata": "BAIFAwYFBwMIBwkDCgkLAwwLDQMODQ8DEA8RAxIREwMUExUDFhUXAxgXGQMaGRsDHBsdAx4dHwMgHyEDASECAw==",
            "dtype": "i1"
           },
           "name": "Mesh",
           "opacity": 0.3,
           "type": "mesh3d",
           "x": {
            "bdata": "AAAAAAAAAAAAAAAAAAAUQAAAAAAAABRAAAAAAAAAAABMmH9hQ3oSQEyYf2FDehJAwAofAMZIDEDACh8AxkgMQL1TWlBbnf4/vVNaUFud/j8Jc9m/rw+2PAlz2b+vD7Y8ulNaUFud/r+6U1pQW53+v78KHwDGSAzAvwofAMZIDMBMmH9hQ3oSwEyYf2FDehLAAAAAAAAAFMAAAAAAAAAUwEyYf2FDehLATJh/YUN6EsDCCh8AxkgMwMIKHwDGSAzAyFNaUFud/r/IU1pQW53+v0YW48/Di9C8Rhbjz8OL0LzBU1pQW53+P8FTWlBbnf4/vgofAMZIDEC+Ch8AxkgMQEqYf2FDehJASph/YUN6EkA=",
            "dtype": "f8"
           },
           "y": {
            "bdata": "AAAAAAAAAAAAAAAAAAAAAAAAAAAAAAAAAAAAAAAAAAC8U1pQW53+P7xTWlBbnf4/wAofAMZIDEDACh8AxkgMQEyYf2FDehJATJh/YUN6EkAAAAAAAAAUQAAAAAAAABRATJh/YUN6EkBMmH9hQ3oSQMAKHwDGSAxAwAofAMZIDEC+U1pQW53+P75TWlBbnf4/CXPZv68PxjwJc9m/rw/GPLlTWlBbnf6/uVNaUFud/r+/Ch8AxkgMwL8KHwDGSAzASph/YUN6EsBKmH9hQ3oSwAAAAAAAABTAAAAAAAAAFMBLmH9hQ3oSwEuYf2FDehLAwgofAMZIDMDCCh8AxkgMwMpTWlBbnf6/ylNaUFud/r8=",
            "dtype": "f8"
           },
           "z": {
            "bdata": "AAAAAAAAScAAAAAAAABJwAAAAAAAAElAAAAAAAAASUAAAAAAAABJwAAAAAAAAElAAAAAAAAAScAAAAAAAABJQAAAAAAAAEnAAAAAAAAASUAAAAAAAABJwAAAAAAAAElAAAAAAAAAScAAAAAAAABJQAAAAAAAAEnAAAAAAAAASUAAAAAAAABJwAAAAAAAAElAAAAAAAAAScAAAAAAAABJQAAAAAAAAEnAAAAAAAAASUAAAAAAAABJwAAAAAAAAElAAAAAAAAAScAAAAAAAABJQAAAAAAAAEnAAAAAAAAASUAAAAAAAABJwAAAAAAAAElAAAAAAAAAScAAAAAAAABJQAAAAAAAAEnAAAAAAAAASUA=",
            "dtype": "f8"
           }
          }
         ],
         "name": "frame_2",
         "traces": [
          0,
          1
         ]
        },
        {
         "data": [
          {
           "color": "lightblue",
           "i": {
            "bdata": "AQECAgQEBQUGBgcHCAgJCQoKCwsMDA0NDg4PDxAQERESEhMTFBQVFRYWFxcYGBkZGhobGxwcHR0eHh8fICAhIQ==",
            "dtype": "i1"
           },
           "j": {
            "bdata": "AAQEBQAGBgcACAgJAAoKCwAMDA0ADg4PABAQEQASEhMAFBQVABYWFwAYGBkAGhobABwcHQAeHh8AICAhAAEBAg==",
            "dtype": "i1"
           },
           "k": {
            "bdata": "BAIFAwYFBwMIBwkDCgkLAwwLDQMODQ8DEA8RAxIREwMUExUDFhUXAxgXGQMaGRsDHBsdAx4dHwMgHyEDASECAw==",
            "dtype": "i1"
           },
           "name": "Mesh",
           "opacity": 0.3,
           "type": "mesh3d",
           "x": {
            "bdata": "AAAAAAAAAAAAAAAAAAAUQAAAAAAAABRAAAAAAAAAAABMmH9hQ3oSQEyYf2FDehJAwAofAMZIDEDACh8AxkgMQL1TWlBbnf4/vVNaUFud/j8Jc9m/rw+2PAlz2b+vD7Y8ulNaUFud/r+6U1pQW53+v78KHwDGSAzAvwofAMZIDMBMmH9hQ3oSwEyYf2FDehLAAAAAAAAAFMAAAAAAAAAUwEyYf2FDehLATJh/YUN6EsDCCh8AxkgMwMIKHwDGSAzAyFNaUFud/r/IU1pQW53+v0YW48/Di9C8Rhbjz8OL0LzBU1pQW53+P8FTWlBbnf4/vgofAMZIDEC+Ch8AxkgMQEqYf2FDehJASph/YUN6EkA=",
            "dtype": "f8"
           },
           "y": {
            "bdata": "AAAAAAAAAAAAAAAAAAAAAAAAAAAAAAAAAAAAAAAAAAC8U1pQW53+P7xTWlBbnf4/wAofAMZIDEDACh8AxkgMQEyYf2FDehJATJh/YUN6EkAAAAAAAAAUQAAAAAAAABRATJh/YUN6EkBMmH9hQ3oSQMAKHwDGSAxAwAofAMZIDEC+U1pQW53+P75TWlBbnf4/CXPZv68PxjwJc9m/rw/GPLlTWlBbnf6/uVNaUFud/r+/Ch8AxkgMwL8KHwDGSAzASph/YUN6EsBKmH9hQ3oSwAAAAAAAABTAAAAAAAAAFMBLmH9hQ3oSwEuYf2FDehLAwgofAMZIDMDCCh8AxkgMwMpTWlBbnf6/ylNaUFud/r8=",
            "dtype": "f8"
           },
           "z": {
            "bdata": "AAAAAAAAScAAAAAAAABJwAAAAAAAAElAAAAAAAAASUAAAAAAAABJwAAAAAAAAElAAAAAAAAAScAAAAAAAABJQAAAAAAAAEnAAAAAAAAASUAAAAAAAABJwAAAAAAAAElAAAAAAAAAScAAAAAAAABJQAAAAAAAAEnAAAAAAAAASUAAAAAAAABJwAAAAAAAAElAAAAAAAAAScAAAAAAAABJQAAAAAAAAEnAAAAAAAAASUAAAAAAAABJwAAAAAAAAElAAAAAAAAAScAAAAAAAABJQAAAAAAAAEnAAAAAAAAASUAAAAAAAABJwAAAAAAAAElAAAAAAAAAScAAAAAAAABJQAAAAAAAAEnAAAAAAAAASUA=",
            "dtype": "f8"
           }
          },
          {
           "line": {
            "color": "red",
            "width": 5
           },
           "mode": "lines",
           "name": "Slice at z=-48.27",
           "type": "scatter3d",
           "x": [
            3.061616997868383e-16,
            -1.8802252314672518,
            -1.9134171618254485,
            -3.5073951460859782,
            -3.5355339059327373,
            -4.600595944329288,
            -4.619397662556434,
            -4.9933977145545505,
            -5,
            -4.625999948001883,
            -4.619397662556434,
            -3.5543356241598847,
            -3.5355339059327386,
            -1.9415559216722105,
            -1.9134171618254516,
            -0.03319193035819734,
            -9.184850993605148e-16,
            1.8802252314672534,
            1.91341716182545,
            3.507395146085978,
            3.535533905932737,
            4.600595944329286,
            4.619397662556432,
            4.9933977145545505,
            5,
            4.625999948001883,
            4.619397662556434,
            3.554335624159884,
            3.5355339059327378,
            1.9415559216722083,
            1.9134171618254492,
            0.033191930358196675,
            3.061616997868383e-16,
            null
           ],
           "y": [
            5,
            4.625999948001883,
            4.619397662556434,
            3.554335624159884,
            3.5355339059327378,
            1.9415559216722087,
            1.9134171618254494,
            0.03319193035819734,
            6.123233995736766e-16,
            -1.8802252314672518,
            -1.9134171618254483,
            -3.507395146085978,
            -3.5355339059327373,
            -4.600595944329286,
            -4.619397662556432,
            -4.9933977145545505,
            -5,
            -4.6259999480018825,
            -4.619397662556433,
            -3.5543356241598847,
            -3.5355339059327386,
            -1.9415559216722114,
            -1.913417161825452,
            -0.03319193035819645,
            0,
            1.8802252314672525,
            1.913417161825449,
            3.5073951460859787,
            3.5355339059327378,
            4.600595944329288,
            4.619397662556434,
            4.9933977145545505,
            5,
            null
           ],
           "z": [
            -48.265306122448976,
            -48.265306122448976,
            -48.265306122448976,
            -48.265306122448976,
            -48.265306122448976,
            -48.265306122448976,
            -48.265306122448976,
            -48.265306122448976,
            -48.265306122448976,
            -48.265306122448976,
            -48.265306122448976,
            -48.265306122448976,
            -48.265306122448976,
            -48.265306122448976,
            -48.265306122448976,
            -48.265306122448976,
            -48.265306122448976,
            -48.265306122448976,
            -48.265306122448976,
            -48.265306122448976,
            -48.265306122448976,
            -48.265306122448976,
            -48.265306122448976,
            -48.265306122448976,
            -48.265306122448976,
            -48.265306122448976,
            -48.265306122448976,
            -48.265306122448976,
            -48.265306122448976,
            -48.265306122448976,
            -48.265306122448976,
            -48.265306122448976,
            -48.265306122448976,
            null
           ]
          }
         ],
         "name": "frame_3",
         "traces": [
          0,
          1
         ]
        },
        {
         "data": [
          {
           "color": "lightblue",
           "i": {
            "bdata": "AQECAgQEBQUGBgcHCAgJCQoKCwsMDA0NDg4PDxAQERESEhMTFBQVFRYWFxcYGBkZGhobGxwcHR0eHh8fICAhIQ==",
            "dtype": "i1"
           },
           "j": {
            "bdata": "AAQEBQAGBgcACAgJAAoKCwAMDA0ADg4PABAQEQASEhMAFBQVABYWFwAYGBkAGhobABwcHQAeHh8AICAhAAEBAg==",
            "dtype": "i1"
           },
           "k": {
            "bdata": "BAIFAwYFBwMIBwkDCgkLAwwLDQMODQ8DEA8RAxIREwMUExUDFhUXAxgXGQMaGRsDHBsdAx4dHwMgHyEDASECAw==",
            "dtype": "i1"
           },
           "name": "Mesh",
           "opacity": 0.3,
           "type": "mesh3d",
           "x": {
            "bdata": "AAAAAAAAAAAAAAAAAAAUQAAAAAAAABRAAAAAAAAAAABMmH9hQ3oSQEyYf2FDehJAwAofAMZIDEDACh8AxkgMQL1TWlBbnf4/vVNaUFud/j8Jc9m/rw+2PAlz2b+vD7Y8ulNaUFud/r+6U1pQW53+v78KHwDGSAzAvwofAMZIDMBMmH9hQ3oSwEyYf2FDehLAAAAAAAAAFMAAAAAAAAAUwEyYf2FDehLATJh/YUN6EsDCCh8AxkgMwMIKHwDGSAzAyFNaUFud/r/IU1pQW53+v0YW48/Di9C8Rhbjz8OL0LzBU1pQW53+P8FTWlBbnf4/vgofAMZIDEC+Ch8AxkgMQEqYf2FDehJASph/YUN6EkA=",
            "dtype": "f8"
           },
           "y": {
            "bdata": "AAAAAAAAAAAAAAAAAAAAAAAAAAAAAAAAAAAAAAAAAAC8U1pQW53+P7xTWlBbnf4/wAofAMZIDEDACh8AxkgMQEyYf2FDehJATJh/YUN6EkAAAAAAAAAUQAAAAAAAABRATJh/YUN6EkBMmH9hQ3oSQMAKHwDGSAxAwAofAMZIDEC+U1pQW53+P75TWlBbnf4/CXPZv68PxjwJc9m/rw/GPLlTWlBbnf6/uVNaUFud/r+/Ch8AxkgMwL8KHwDGSAzASph/YUN6EsBKmH9hQ3oSwAAAAAAAABTAAAAAAAAAFMBLmH9hQ3oSwEuYf2FDehLAwgofAMZIDMDCCh8AxkgMwMpTWlBbnf6/ylNaUFud/r8=",
            "dtype": "f8"
           },
           "z": {
            "bdata": "AAAAAAAAScAAAAAAAABJwAAAAAAAAElAAAAAAAAASUAAAAAAAABJwAAAAAAAAElAAAAAAAAAScAAAAAAAABJQAAAAAAAAEnAAAAAAAAASUAAAAAAAABJwAAAAAAAAElAAAAAAAAAScAAAAAAAABJQAAAAAAAAEnAAAAAAAAASUAAAAAAAABJwAAAAAAAAElAAAAAAAAAScAAAAAAAABJQAAAAAAAAEnAAAAAAAAASUAAAAAAAABJwAAAAAAAAElAAAAAAAAAScAAAAAAAABJQAAAAAAAAEnAAAAAAAAASUAAAAAAAABJwAAAAAAAAElAAAAAAAAAScAAAAAAAABJQAAAAAAAAEnAAAAAAAAASUA=",
            "dtype": "f8"
           }
          },
          {
           "line": {
            "color": "red",
            "width": 5
           },
           "mode": "lines",
           "name": "Slice at z=-46.02",
           "type": "scatter3d",
           "x": [
            3.061616997868383e-16,
            -1.837270968650762,
            -1.9134171618254485,
            -3.470980280401937,
            -3.5355339059327373,
            -4.576264308976511,
            -4.619397662556434,
            -4.984853580448674,
            -5,
            -4.63454408210776,
            -4.619397662556434,
            -3.5786672595126614,
            -3.5355339059327386,
            -1.977970787356252,
            -1.9134171618254516,
            -0.0761461931746874,
            -9.184850993605148e-16,
            1.8372709686507633,
            1.91341716182545,
            3.4709802804019363,
            3.535533905932737,
            4.576264308976509,
            4.619397662556432,
            4.984853580448674,
            5,
            4.63454408210776,
            4.619397662556434,
            3.5786672595126605,
            3.5355339059327378,
            1.9779707873562498,
            1.9134171618254492,
            0.07614619317468652,
            3.061616997868383e-16,
            null
           ],
           "y": [
            5,
            4.63454408210776,
            4.619397662556434,
            3.5786672595126605,
            3.5355339059327378,
            1.97797078735625,
            1.9134171618254494,
            0.07614619317468718,
            6.123233995736766e-16,
            -1.837270968650762,
            -1.9134171618254483,
            -3.4709802804019367,
            -3.5355339059327373,
            -4.576264308976509,
            -4.619397662556432,
            -4.984853580448674,
            -5,
            -4.634544082107759,
            -4.619397662556433,
            -3.5786672595126614,
            -3.5355339059327386,
            -1.9779707873562526,
            -1.913417161825452,
            -0.07614619317468652,
            0,
            1.8372709686507627,
            1.913417161825449,
            3.470980280401937,
            3.5355339059327378,
            4.576264308976511,
            4.619397662556434,
            4.984853580448674,
            5,
            null
           ],
           "z": [
            -46.02040816326531,
            -46.0204081632653,
            -46.02040816326531,
            -46.0204081632653,
            -46.02040816326531,
            -46.0204081632653,
            -46.02040816326531,
            -46.0204081632653,
            -46.02040816326531,
            -46.0204081632653,
            -46.02040816326531,
            -46.0204081632653,
            -46.02040816326531,
            -46.0204081632653,
            -46.02040816326531,
            -46.0204081632653,
            -46.02040816326531,
            -46.0204081632653,
            -46.02040816326531,
            -46.0204081632653,
            -46.02040816326531,
            -46.0204081632653,
            -46.02040816326531,
            -46.0204081632653,
            -46.0204081632653,
            -46.0204081632653,
            -46.02040816326531,
            -46.0204081632653,
            -46.02040816326531,
            -46.0204081632653,
            -46.02040816326531,
            -46.0204081632653,
            -46.02040816326531,
            null
           ]
          }
         ],
         "name": "frame_4",
         "traces": [
          0,
          1
         ]
        },
        {
         "data": [
          {
           "color": "lightblue",
           "i": {
            "bdata": "AQECAgQEBQUGBgcHCAgJCQoKCwsMDA0NDg4PDxAQERESEhMTFBQVFRYWFxcYGBkZGhobGxwcHR0eHh8fICAhIQ==",
            "dtype": "i1"
           },
           "j": {
            "bdata": "AAQEBQAGBgcACAgJAAoKCwAMDA0ADg4PABAQEQASEhMAFBQVABYWFwAYGBkAGhobABwcHQAeHh8AICAhAAEBAg==",
            "dtype": "i1"
           },
           "k": {
            "bdata": "BAIFAwYFBwMIBwkDCgkLAwwLDQMODQ8DEA8RAxIREwMUExUDFhUXAxgXGQMaGRsDHBsdAx4dHwMgHyEDASECAw==",
            "dtype": "i1"
           },
           "name": "Mesh",
           "opacity": 0.3,
           "type": "mesh3d",
           "x": {
            "bdata": "AAAAAAAAAAAAAAAAAAAUQAAAAAAAABRAAAAAAAAAAABMmH9hQ3oSQEyYf2FDehJAwAofAMZIDEDACh8AxkgMQL1TWlBbnf4/vVNaUFud/j8Jc9m/rw+2PAlz2b+vD7Y8ulNaUFud/r+6U1pQW53+v78KHwDGSAzAvwofAMZIDMBMmH9hQ3oSwEyYf2FDehLAAAAAAAAAFMAAAAAAAAAUwEyYf2FDehLATJh/YUN6EsDCCh8AxkgMwMIKHwDGSAzAyFNaUFud/r/IU1pQW53+v0YW48/Di9C8Rhbjz8OL0LzBU1pQW53+P8FTWlBbnf4/vgofAMZIDEC+Ch8AxkgMQEqYf2FDehJASph/YUN6EkA=",
            "dtype": "f8"
           },
           "y": {
            "bdata": "AAAAAAAAAAAAAAAAAAAAAAAAAAAAAAAAAAAAAAAAAAC8U1pQW53+P7xTWlBbnf4/wAofAMZIDEDACh8AxkgMQEyYf2FDehJATJh/YUN6EkAAAAAAAAAUQAAAAAAAABRATJh/YUN6EkBMmH9hQ3oSQMAKHwDGSAxAwAofAMZIDEC+U1pQW53+P75TWlBbnf4/CXPZv68PxjwJc9m/rw/GPLlTWlBbnf6/uVNaUFud/r+/Ch8AxkgMwL8KHwDGSAzASph/YUN6EsBKmH9hQ3oSwAAAAAAAABTAAAAAAAAAFMBLmH9hQ3oSwEuYf2FDehLAwgofAMZIDMDCCh8AxkgMwMpTWlBbnf6/ylNaUFud/r8=",
            "dtype": "f8"
           },
           "z": {
            "bdata": "AAAAAAAAScAAAAAAAABJwAAAAAAAAElAAAAAAAAASUAAAAAAAABJwAAAAAAAAElAAAAAAAAAScAAAAAAAABJQAAAAAAAAEnAAAAAAAAASUAAAAAAAABJwAAAAAAAAElAAAAAAAAAScAAAAAAAABJQAAAAAAAAEnAAAAAAAAASUAAAAAAAABJwAAAAAAAAElAAAAAAAAAScAAAAAAAABJQAAAAAAAAEnAAAAAAAAASUAAAAAAAABJwAAAAAAAAElAAAAAAAAAScAAAAAAAABJQAAAAAAAAEnAAAAAAAAASUAAAAAAAABJwAAAAAAAAElAAAAAAAAAScAAAAAAAABJQAAAAAAAAEnAAAAAAAAASUA=",
            "dtype": "f8"
           }
          },
          {
           "line": {
            "color": "red",
            "width": 5
           },
           "mode": "lines",
           "name": "Slice at z=-43.78",
           "type": "scatter3d",
           "x": [
            3.061616997868383e-16,
            -1.7943167058342724,
            -1.9134171618254485,
            -3.4345654147178957,
            -3.5355339059327373,
            -4.551932673623734,
            -4.619397662556434,
            -4.976309446342799,
            -5,
            -4.643088216213635,
            -4.619397662556434,
            -3.602998894865438,
            -3.5355339059327386,
            -2.014385653040293,
            -1.9134171618254516,
            -0.11910045599117702,
            -9.184850993605148e-16,
            1.7943167058342737,
            1.91341716182545,
            3.4345654147178957,
            3.535533905932737,
            4.551932673623733,
            4.619397662556432,
            4.976309446342798,
            5,
            4.643088216213635,
            4.619397662556434,
            3.6029988948654372,
            3.5355339059327378,
            2.014385653040291,
            1.9134171618254492,
            0.11910045599117614,
            3.061616997868383e-16,
            null
           ],
           "y": [
            5,
            4.643088216213635,
            4.619397662556434,
            3.6029988948654372,
            3.5355339059327378,
            2.014385653040291,
            1.9134171618254494,
            0.1191004559911768,
            6.123233995736766e-16,
            -1.7943167058342724,
            -1.9134171618254483,
            -3.4345654147178957,
            -3.5355339059327373,
            -4.551932673623733,
            -4.619397662556432,
            -4.976309446342798,
            -5,
            -4.643088216213635,
            -4.619397662556433,
            -3.602998894865438,
            -3.5355339059327386,
            -2.0143856530402937,
            -1.913417161825452,
            -0.11910045599117614,
            0,
            1.794316705834273,
            1.913417161825449,
            3.434565414717896,
            3.5355339059327378,
            4.551932673623734,
            4.619397662556434,
            4.976309446342799,
            5,
            null
           ],
           "z": [
            -43.775510204081634,
            -43.77551020408163,
            -43.775510204081634,
            -43.77551020408163,
            -43.775510204081634,
            -43.77551020408163,
            -43.775510204081634,
            -43.77551020408163,
            -43.775510204081634,
            -43.77551020408163,
            -43.775510204081634,
            -43.77551020408163,
            -43.775510204081634,
            -43.77551020408163,
            -43.775510204081634,
            -43.77551020408163,
            -43.775510204081634,
            -43.77551020408163,
            -43.775510204081634,
            -43.77551020408163,
            -43.775510204081634,
            -43.77551020408163,
            -43.775510204081634,
            -43.77551020408163,
            -43.77551020408163,
            -43.77551020408163,
            -43.775510204081634,
            -43.77551020408163,
            -43.775510204081634,
            -43.77551020408163,
            -43.775510204081634,
            -43.77551020408163,
            -43.775510204081634,
            null
           ]
          }
         ],
         "name": "frame_5",
         "traces": [
          0,
          1
         ]
        },
        {
         "data": [
          {
           "color": "lightblue",
           "i": {
            "bdata": "AQECAgQEBQUGBgcHCAgJCQoKCwsMDA0NDg4PDxAQERESEhMTFBQVFRYWFxcYGBkZGhobGxwcHR0eHh8fICAhIQ==",
            "dtype": "i1"
           },
           "j": {
            "bdata": "AAQEBQAGBgcACAgJAAoKCwAMDA0ADg4PABAQEQASEhMAFBQVABYWFwAYGBkAGhobABwcHQAeHh8AICAhAAEBAg==",
            "dtype": "i1"
           },
           "k": {
            "bdata": "BAIFAwYFBwMIBwkDCgkLAwwLDQMODQ8DEA8RAxIREwMUExUDFhUXAxgXGQMaGRsDHBsdAx4dHwMgHyEDASECAw==",
            "dtype": "i1"
           },
           "name": "Mesh",
           "opacity": 0.3,
           "type": "mesh3d",
           "x": {
            "bdata": "AAAAAAAAAAAAAAAAAAAUQAAAAAAAABRAAAAAAAAAAABMmH9hQ3oSQEyYf2FDehJAwAofAMZIDEDACh8AxkgMQL1TWlBbnf4/vVNaUFud/j8Jc9m/rw+2PAlz2b+vD7Y8ulNaUFud/r+6U1pQW53+v78KHwDGSAzAvwofAMZIDMBMmH9hQ3oSwEyYf2FDehLAAAAAAAAAFMAAAAAAAAAUwEyYf2FDehLATJh/YUN6EsDCCh8AxkgMwMIKHwDGSAzAyFNaUFud/r/IU1pQW53+v0YW48/Di9C8Rhbjz8OL0LzBU1pQW53+P8FTWlBbnf4/vgofAMZIDEC+Ch8AxkgMQEqYf2FDehJASph/YUN6EkA=",
            "dtype": "f8"
           },
           "y": {
            "bdata": "AAAAAAAAAAAAAAAAAAAAAAAAAAAAAAAAAAAAAAAAAAC8U1pQW53+P7xTWlBbnf4/wAofAMZIDEDACh8AxkgMQEyYf2FDehJATJh/YUN6EkAAAAAAAAAUQAAAAAAAABRATJh/YUN6EkBMmH9hQ3oSQMAKHwDGSAxAwAofAMZIDEC+U1pQW53+P75TWlBbnf4/CXPZv68PxjwJc9m/rw/GPLlTWlBbnf6/uVNaUFud/r+/Ch8AxkgMwL8KHwDGSAzASph/YUN6EsBKmH9hQ3oSwAAAAAAAABTAAAAAAAAAFMBLmH9hQ3oSwEuYf2FDehLAwgofAMZIDMDCCh8AxkgMwMpTWlBbnf6/ylNaUFud/r8=",
            "dtype": "f8"
           },
           "z": {
            "bdata": "AAAAAAAAScAAAAAAAABJwAAAAAAAAElAAAAAAAAASUAAAAAAAABJwAAAAAAAAElAAAAAAAAAScAAAAAAAABJQAAAAAAAAEnAAAAAAAAASUAAAAAAAABJwAAAAAAAAElAAAAAAAAAScAAAAAAAABJQAAAAAAAAEnAAAAAAAAASUAAAAAAAABJwAAAAAAAAElAAAAAAAAAScAAAAAAAABJQAAAAAAAAEnAAAAAAAAASUAAAAAAAABJwAAAAAAAAElAAAAAAAAAScAAAAAAAABJQAAAAAAAAEnAAAAAAAAASUAAAAAAAABJwAAAAAAAAElAAAAAAAAAScAAAAAAAABJQAAAAAAAAEnAAAAAAAAASUA=",
            "dtype": "f8"
           }
          },
          {
           "line": {
            "color": "red",
            "width": 5
           },
           "mode": "lines",
           "name": "Slice at z=-41.53",
           "type": "scatter3d",
           "x": [
            3.061616997868383e-16,
            0.16205471880766575,
            1.9134171618254492,
            2.0508005187243317,
            3.5355339059327378,
            3.627330530218214,
            4.619397662556434,
            4.651632350319511,
            5,
            4.9677653122369225,
            4.619397662556432,
            4.527601038270956,
            3.535533905932737,
            3.398150549033854,
            1.91341716182545,
            1.751362443017784,
            -9.184850993605148e-16,
            -0.16205471880766664,
            -1.9134171618254516,
            -2.0508005187243343,
            -3.5355339059327386,
            -3.627330530218215,
            -4.619397662556434,
            -4.651632350319511,
            -5,
            -4.9677653122369225,
            -4.619397662556434,
            -4.527601038270958,
            -3.5355339059327373,
            -3.3981505490338546,
            -1.9134171618254485,
            -1.7513624430177828,
            3.061616997868383e-16,
            null
           ],
           "y": [
            5,
            4.9677653122369225,
            4.619397662556434,
            4.527601038270958,
            3.5355339059327378,
            3.398150549033855,
            1.913417161825449,
            1.7513624430177834,
            0,
            -0.16205471880766598,
            -1.913417161825452,
            -2.0508005187243348,
            -3.5355339059327386,
            -3.627330530218215,
            -4.619397662556433,
            -4.6516323503195105,
            -5,
            -4.9677653122369225,
            -4.619397662556432,
            -4.527601038270956,
            -3.5355339059327373,
            -3.398150549033854,
            -1.9134171618254483,
            -1.7513624430177828,
            6.123233995736766e-16,
            0.16205471880766642,
            1.9134171618254494,
            2.0508005187243326,
            3.5355339059327378,
            3.627330530218214,
            4.619397662556434,
            4.651632350319511,
            5,
            null
           ],
           "z": [
            -41.53061224489796,
            -41.53061224489795,
            -41.53061224489796,
            -41.53061224489795,
            -41.53061224489796,
            -41.53061224489795,
            -41.53061224489796,
            -41.53061224489795,
            -41.53061224489795,
            -41.53061224489795,
            -41.53061224489796,
            -41.53061224489795,
            -41.53061224489796,
            -41.53061224489795,
            -41.53061224489796,
            -41.53061224489795,
            -41.53061224489796,
            -41.53061224489795,
            -41.53061224489796,
            -41.53061224489795,
            -41.53061224489796,
            -41.53061224489795,
            -41.53061224489796,
            -41.53061224489795,
            -41.53061224489796,
            -41.53061224489795,
            -41.53061224489796,
            -41.53061224489795,
            -41.53061224489796,
            -41.53061224489795,
            -41.53061224489796,
            -41.53061224489795,
            -41.53061224489796,
            null
           ]
          }
         ],
         "name": "frame_6",
         "traces": [
          0,
          1
         ]
        },
        {
         "data": [
          {
           "color": "lightblue",
           "i": {
            "bdata": "AQECAgQEBQUGBgcHCAgJCQoKCwsMDA0NDg4PDxAQERESEhMTFBQVFRYWFxcYGBkZGhobGxwcHR0eHh8fICAhIQ==",
            "dtype": "i1"
           },
           "j": {
            "bdata": "AAQEBQAGBgcACAgJAAoKCwAMDA0ADg4PABAQEQASEhMAFBQVABYWFwAYGBkAGhobABwcHQAeHh8AICAhAAEBAg==",
            "dtype": "i1"
           },
           "k": {
            "bdata": "BAIFAwYFBwMIBwkDCgkLAwwLDQMODQ8DEA8RAxIREwMUExUDFhUXAxgXGQMaGRsDHBsdAx4dHwMgHyEDASECAw==",
            "dtype": "i1"
           },
           "name": "Mesh",
           "opacity": 0.3,
           "type": "mesh3d",
           "x": {
            "bdata": "AAAAAAAAAAAAAAAAAAAUQAAAAAAAABRAAAAAAAAAAABMmH9hQ3oSQEyYf2FDehJAwAofAMZIDEDACh8AxkgMQL1TWlBbnf4/vVNaUFud/j8Jc9m/rw+2PAlz2b+vD7Y8ulNaUFud/r+6U1pQW53+v78KHwDGSAzAvwofAMZIDMBMmH9hQ3oSwEyYf2FDehLAAAAAAAAAFMAAAAAAAAAUwEyYf2FDehLATJh/YUN6EsDCCh8AxkgMwMIKHwDGSAzAyFNaUFud/r/IU1pQW53+v0YW48/Di9C8Rhbjz8OL0LzBU1pQW53+P8FTWlBbnf4/vgofAMZIDEC+Ch8AxkgMQEqYf2FDehJASph/YUN6EkA=",
            "dtype": "f8"
           },
           "y": {
            "bdata": "AAAAAAAAAAAAAAAAAAAAAAAAAAAAAAAAAAAAAAAAAAC8U1pQW53+P7xTWlBbnf4/wAofAMZIDEDACh8AxkgMQEyYf2FDehJATJh/YUN6EkAAAAAAAAAUQAAAAAAAABRATJh/YUN6EkBMmH9hQ3oSQMAKHwDGSAxAwAofAMZIDEC+U1pQW53+P75TWlBbnf4/CXPZv68PxjwJc9m/rw/GPLlTWlBbnf6/uVNaUFud/r+/Ch8AxkgMwL8KHwDGSAzASph/YUN6EsBKmH9hQ3oSwAAAAAAAABTAAAAAAAAAFMBLmH9hQ3oSwEuYf2FDehLAwgofAMZIDMDCCh8AxkgMwMpTWlBbnf6/ylNaUFud/r8=",
            "dtype": "f8"
           },
           "z": {
            "bdata": "AAAAAAAAScAAAAAAAABJwAAAAAAAAElAAAAAAAAASUAAAAAAAABJwAAAAAAAAElAAAAAAAAAScAAAAAAAABJQAAAAAAAAEnAAAAAAAAASUAAAAAAAABJwAAAAAAAAElAAAAAAAAAScAAAAAAAABJQAAAAAAAAEnAAAAAAAAASUAAAAAAAABJwAAAAAAAAElAAAAAAAAAScAAAAAAAABJQAAAAAAAAEnAAAAAAAAASUAAAAAAAABJwAAAAAAAAElAAAAAAAAAScAAAAAAAABJQAAAAAAAAEnAAAAAAAAASUAAAAAAAABJwAAAAAAAAElAAAAAAAAAScAAAAAAAABJQAAAAAAAAEnAAAAAAAAASUA=",
            "dtype": "f8"
           }
          },
          {
           "line": {
            "color": "red",
            "width": 5
           },
           "mode": "lines",
           "name": "Slice at z=-39.29",
           "type": "scatter3d",
           "x": [
            3.061616997868383e-16,
            0.2050089816241556,
            1.9134171618254492,
            2.087215384408373,
            3.5355339059327378,
            3.651662165570991,
            4.619397662556434,
            4.660176484425388,
            5,
            4.959221178131046,
            4.619397662556432,
            4.503269402918179,
            3.535533905932737,
            3.361735683349813,
            1.91341716182545,
            1.7084081802012943,
            -9.184850993605148e-16,
            -0.20500898162415648,
            -1.9134171618254516,
            -2.087215384408375,
            -3.5355339059327386,
            -3.6516621655709915,
            -4.619397662556434,
            -4.660176484425388,
            -5,
            -4.959221178131046,
            -4.619397662556434,
            -4.503269402918181,
            -3.5355339059327373,
            -3.3617356833498135,
            -1.9134171618254485,
            -1.7084081802012931,
            3.061616997868383e-16,
            null
           ],
           "y": [
            5,
            4.959221178131046,
            4.619397662556434,
            4.503269402918181,
            3.5355339059327378,
            3.361735683349814,
            1.913417161825449,
            1.7084081802012936,
            0,
            -0.2050089816241556,
            -1.913417161825452,
            -2.087215384408376,
            -3.5355339059327386,
            -3.6516621655709915,
            -4.619397662556433,
            -4.660176484425387,
            -5,
            -4.959221178131046,
            -4.619397662556432,
            -4.503269402918179,
            -3.5355339059327373,
            -3.3617356833498135,
            -1.9134171618254483,
            -1.708408180201293,
            6.123233995736766e-16,
            0.20500898162415604,
            1.9134171618254494,
            2.087215384408373,
            3.5355339059327378,
            3.651662165570991,
            4.619397662556434,
            4.660176484425388,
            5,
            null
           ],
           "z": [
            -39.285714285714285,
            -39.28571428571428,
            -39.285714285714285,
            -39.28571428571428,
            -39.285714285714285,
            -39.28571428571428,
            -39.285714285714285,
            -39.28571428571428,
            -39.28571428571428,
            -39.28571428571428,
            -39.285714285714285,
            -39.28571428571428,
            -39.285714285714285,
            -39.28571428571428,
            -39.285714285714285,
            -39.28571428571428,
            -39.285714285714285,
            -39.28571428571428,
            -39.285714285714285,
            -39.28571428571428,
            -39.285714285714285,
            -39.28571428571428,
            -39.285714285714285,
            -39.28571428571428,
            -39.285714285714285,
            -39.28571428571428,
            -39.285714285714285,
            -39.28571428571428,
            -39.285714285714285,
            -39.28571428571428,
            -39.285714285714285,
            -39.28571428571428,
            -39.285714285714285,
            null
           ]
          }
         ],
         "name": "frame_7",
         "traces": [
          0,
          1
         ]
        },
        {
         "data": [
          {
           "color": "lightblue",
           "i": {
            "bdata": "AQECAgQEBQUGBgcHCAgJCQoKCwsMDA0NDg4PDxAQERESEhMTFBQVFRYWFxcYGBkZGhobGxwcHR0eHh8fICAhIQ==",
            "dtype": "i1"
           },
           "j": {
            "bdata": "AAQEBQAGBgcACAgJAAoKCwAMDA0ADg4PABAQEQASEhMAFBQVABYWFwAYGBkAGhobABwcHQAeHh8AICAhAAEBAg==",
            "dtype": "i1"
           },
           "k": {
            "bdata": "BAIFAwYFBwMIBwkDCgkLAwwLDQMODQ8DEA8RAxIREwMUExUDFhUXAxgXGQMaGRsDHBsdAx4dHwMgHyEDASECAw==",
            "dtype": "i1"
           },
           "name": "Mesh",
           "opacity": 0.3,
           "type": "mesh3d",
           "x": {
            "bdata": "AAAAAAAAAAAAAAAAAAAUQAAAAAAAABRAAAAAAAAAAABMmH9hQ3oSQEyYf2FDehJAwAofAMZIDEDACh8AxkgMQL1TWlBbnf4/vVNaUFud/j8Jc9m/rw+2PAlz2b+vD7Y8ulNaUFud/r+6U1pQW53+v78KHwDGSAzAvwofAMZIDMBMmH9hQ3oSwEyYf2FDehLAAAAAAAAAFMAAAAAAAAAUwEyYf2FDehLATJh/YUN6EsDCCh8AxkgMwMIKHwDGSAzAyFNaUFud/r/IU1pQW53+v0YW48/Di9C8Rhbjz8OL0LzBU1pQW53+P8FTWlBbnf4/vgofAMZIDEC+Ch8AxkgMQEqYf2FDehJASph/YUN6EkA=",
            "dtype": "f8"
           },
           "y": {
            "bdata": "AAAAAAAAAAAAAAAAAAAAAAAAAAAAAAAAAAAAAAAAAAC8U1pQW53+P7xTWlBbnf4/wAofAMZIDEDACh8AxkgMQEyYf2FDehJATJh/YUN6EkAAAAAAAAAUQAAAAAAAABRATJh/YUN6EkBMmH9hQ3oSQMAKHwDGSAxAwAofAMZIDEC+U1pQW53+P75TWlBbnf4/CXPZv68PxjwJc9m/rw/GPLlTWlBbnf6/uVNaUFud/r+/Ch8AxkgMwL8KHwDGSAzASph/YUN6EsBKmH9hQ3oSwAAAAAAAABTAAAAAAAAAFMBLmH9hQ3oSwEuYf2FDehLAwgofAMZIDMDCCh8AxkgMwMpTWlBbnf6/ylNaUFud/r8=",
            "dtype": "f8"
           },
           "z": {
            "bdata": "AAAAAAAAScAAAAAAAABJwAAAAAAAAElAAAAAAAAASUAAAAAAAABJwAAAAAAAAElAAAAAAAAAScAAAAAAAABJQAAAAAAAAEnAAAAAAAAASUAAAAAAAABJwAAAAAAAAElAAAAAAAAAScAAAAAAAABJQAAAAAAAAEnAAAAAAAAASUAAAAAAAABJwAAAAAAAAElAAAAAAAAAScAAAAAAAABJQAAAAAAAAEnAAAAAAAAASUAAAAAAAABJwAAAAAAAAElAAAAAAAAAScAAAAAAAABJQAAAAAAAAEnAAAAAAAAASUAAAAAAAABJwAAAAAAAAElAAAAAAAAAScAAAAAAAABJQAAAAAAAAEnAAAAAAAAASUA=",
            "dtype": "f8"
           }
          },
          {
           "line": {
            "color": "red",
            "width": 5
           },
           "mode": "lines",
           "name": "Slice at z=-37.04",
           "type": "scatter3d",
           "x": [
            3.061616997868383e-16,
            -1.6654539173848038,
            -1.9134171618254485,
            -3.3253208176657725,
            -3.5355339059327373,
            -4.478937767565404,
            -4.619397662556434,
            -4.950677044025171,
            -5,
            -4.668720618531263,
            -4.619397662556434,
            -3.6759938009237683,
            -3.5355339059327386,
            -2.123630250092416,
            -1.9134171618254516,
            -0.24796324444064588,
            -9.184850993605148e-16,
            1.6654539173848049,
            1.91341716182545,
            3.325320817665772,
            3.535533905932737,
            4.4789377675654025,
            4.619397662556432,
            4.95067704402517,
            5,
            4.668720618531263,
            4.619397662556434,
            3.675993800923768,
            3.5355339059327378,
            2.123630250092414,
            1.9134171618254492,
            0.24796324444064477,
            3.061616997868383e-16,
            null
           ],
           "y": [
            5,
            4.668720618531263,
            4.619397662556434,
            3.675993800923768,
            3.5355339059327378,
            2.1236302500924142,
            1.9134171618254494,
            0.24796324444064544,
            6.123233995736766e-16,
            -1.6654539173848038,
            -1.9134171618254483,
            -3.325320817665772,
            -3.5355339059327373,
            -4.4789377675654025,
            -4.619397662556432,
            -4.95067704402517,
            -5,
            -4.668720618531262,
            -4.619397662556433,
            -3.6759938009237683,
            -3.5355339059327386,
            -2.1236302500924165,
            -1.913417161825452,
            -0.247963244440645,
            0,
            1.6654539173848044,
            1.913417161825449,
            3.325320817665773,
            3.5355339059327378,
            4.478937767565404,
            4.619397662556434,
            4.950677044025171,
            5,
            null
           ],
           "z": [
            -37.04081632653062,
            -37.04081632653062,
            -37.04081632653062,
            -37.04081632653062,
            -37.04081632653062,
            -37.04081632653062,
            -37.04081632653062,
            -37.04081632653062,
            -37.04081632653062,
            -37.04081632653062,
            -37.04081632653062,
            -37.04081632653062,
            -37.04081632653062,
            -37.04081632653062,
            -37.04081632653062,
            -37.04081632653062,
            -37.04081632653062,
            -37.04081632653062,
            -37.04081632653062,
            -37.04081632653062,
            -37.04081632653062,
            -37.04081632653062,
            -37.04081632653062,
            -37.04081632653062,
            -37.04081632653062,
            -37.04081632653062,
            -37.04081632653062,
            -37.04081632653062,
            -37.04081632653062,
            -37.04081632653062,
            -37.04081632653062,
            -37.04081632653062,
            -37.04081632653062,
            null
           ]
          }
         ],
         "name": "frame_8",
         "traces": [
          0,
          1
         ]
        },
        {
         "data": [
          {
           "color": "lightblue",
           "i": {
            "bdata": "AQECAgQEBQUGBgcHCAgJCQoKCwsMDA0NDg4PDxAQERESEhMTFBQVFRYWFxcYGBkZGhobGxwcHR0eHh8fICAhIQ==",
            "dtype": "i1"
           },
           "j": {
            "bdata": "AAQEBQAGBgcACAgJAAoKCwAMDA0ADg4PABAQEQASEhMAFBQVABYWFwAYGBkAGhobABwcHQAeHh8AICAhAAEBAg==",
            "dtype": "i1"
           },
           "k": {
            "bdata": "BAIFAwYFBwMIBwkDCgkLAwwLDQMODQ8DEA8RAxIREwMUExUDFhUXAxgXGQMaGRsDHBsdAx4dHwMgHyEDASECAw==",
            "dtype": "i1"
           },
           "name": "Mesh",
           "opacity": 0.3,
           "type": "mesh3d",
           "x": {
            "bdata": "AAAAAAAAAAAAAAAAAAAUQAAAAAAAABRAAAAAAAAAAABMmH9hQ3oSQEyYf2FDehJAwAofAMZIDEDACh8AxkgMQL1TWlBbnf4/vVNaUFud/j8Jc9m/rw+2PAlz2b+vD7Y8ulNaUFud/r+6U1pQW53+v78KHwDGSAzAvwofAMZIDMBMmH9hQ3oSwEyYf2FDehLAAAAAAAAAFMAAAAAAAAAUwEyYf2FDehLATJh/YUN6EsDCCh8AxkgMwMIKHwDGSAzAyFNaUFud/r/IU1pQW53+v0YW48/Di9C8Rhbjz8OL0LzBU1pQW53+P8FTWlBbnf4/vgofAMZIDEC+Ch8AxkgMQEqYf2FDehJASph/YUN6EkA=",
            "dtype": "f8"
           },
           "y": {
            "bdata": "AAAAAAAAAAAAAAAAAAAAAAAAAAAAAAAAAAAAAAAAAAC8U1pQW53+P7xTWlBbnf4/wAofAMZIDEDACh8AxkgMQEyYf2FDehJATJh/YUN6EkAAAAAAAAAUQAAAAAAAABRATJh/YUN6EkBMmH9hQ3oSQMAKHwDGSAxAwAofAMZIDEC+U1pQW53+P75TWlBbnf4/CXPZv68PxjwJc9m/rw/GPLlTWlBbnf6/uVNaUFud/r+/Ch8AxkgMwL8KHwDGSAzASph/YUN6EsBKmH9hQ3oSwAAAAAAAABTAAAAAAAAAFMBLmH9hQ3oSwEuYf2FDehLAwgofAMZIDMDCCh8AxkgMwMpTWlBbnf6/ylNaUFud/r8=",
            "dtype": "f8"
           },
           "z": {
            "bdata": "AAAAAAAAScAAAAAAAABJwAAAAAAAAElAAAAAAAAASUAAAAAAAABJwAAAAAAAAElAAAAAAAAAScAAAAAAAABJQAAAAAAAAEnAAAAAAAAASUAAAAAAAABJwAAAAAAAAElAAAAAAAAAScAAAAAAAABJQAAAAAAAAEnAAAAAAAAASUAAAAAAAABJwAAAAAAAAElAAAAAAAAAScAAAAAAAABJQAAAAAAAAEnAAAAAAAAASUAAAAAAAABJwAAAAAAAAElAAAAAAAAAScAAAAAAAABJQAAAAAAAAEnAAAAAAAAASUAAAAAAAABJwAAAAAAAAElAAAAAAAAAScAAAAAAAABJQAAAAAAAAEnAAAAAAAAASUA=",
            "dtype": "f8"
           }
          },
          {
           "line": {
            "color": "red",
            "width": 5
           },
           "mode": "lines",
           "name": "Slice at z=-34.80",
           "type": "scatter3d",
           "x": [
            3.061616997868383e-16,
            -1.622499654568314,
            -1.9134171618254485,
            -3.2889059519817314,
            -3.5355339059327373,
            -4.454606132212627,
            -4.619397662556434,
            -4.9421329099192945,
            -5,
            -4.677264752637139,
            -4.619397662556434,
            -3.7003254362765454,
            -3.5355339059327386,
            -2.1600451157764575,
            -1.9134171618254516,
            -0.2909175072571357,
            -9.184850993605148e-16,
            1.622499654568315,
            1.91341716182545,
            3.288905951981731,
            3.535533905932737,
            4.454606132212625,
            4.619397662556432,
            4.9421329099192945,
            5,
            4.677264752637139,
            4.619397662556434,
            3.7003254362765445,
            3.5355339059327378,
            2.1600451157764553,
            1.9134171618254492,
            0.29091750725713483,
            3.061616997868383e-16,
            null
           ],
           "y": [
            5,
            4.677264752637139,
            4.619397662556434,
            3.7003254362765445,
            3.5355339059327378,
            2.1600451157764557,
            1.9134171618254494,
            0.2909175072571353,
            6.123233995736766e-16,
            -1.6224996545683137,
            -1.9134171618254483,
            -3.288905951981731,
            -3.5355339059327373,
            -4.454606132212625,
            -4.619397662556432,
            -4.9421329099192945,
            -5,
            -4.6772647526371385,
            -4.619397662556433,
            -3.7003254362765454,
            -3.5355339059327386,
            -2.160045115776458,
            -1.913417161825452,
            -0.29091750725713506,
            0,
            1.6224996545683144,
            1.913417161825449,
            3.2889059519817314,
            3.5355339059327378,
            4.454606132212627,
            4.619397662556434,
            4.9421329099192945,
            5,
            null
           ],
           "z": [
            -34.79591836734694,
            -34.79591836734694,
            -34.79591836734694,
            -34.79591836734694,
            -34.79591836734694,
            -34.79591836734694,
            -34.79591836734694,
            -34.79591836734694,
            -34.79591836734694,
            -34.79591836734694,
            -34.79591836734694,
            -34.79591836734694,
            -34.79591836734694,
            -34.79591836734694,
            -34.79591836734694,
            -34.79591836734694,
            -34.79591836734694,
            -34.79591836734694,
            -34.79591836734694,
            -34.79591836734694,
            -34.79591836734694,
            -34.79591836734694,
            -34.79591836734694,
            -34.79591836734694,
            -34.79591836734694,
            -34.79591836734694,
            -34.79591836734694,
            -34.79591836734694,
            -34.79591836734694,
            -34.79591836734694,
            -34.79591836734694,
            -34.79591836734694,
            -34.79591836734694,
            null
           ]
          }
         ],
         "name": "frame_9",
         "traces": [
          0,
          1
         ]
        },
        {
         "data": [
          {
           "color": "lightblue",
           "i": {
            "bdata": "AQECAgQEBQUGBgcHCAgJCQoKCwsMDA0NDg4PDxAQERESEhMTFBQVFRYWFxcYGBkZGhobGxwcHR0eHh8fICAhIQ==",
            "dtype": "i1"
           },
           "j": {
            "bdata": "AAQEBQAGBgcACAgJAAoKCwAMDA0ADg4PABAQEQASEhMAFBQVABYWFwAYGBkAGhobABwcHQAeHh8AICAhAAEBAg==",
            "dtype": "i1"
           },
           "k": {
            "bdata": "BAIFAwYFBwMIBwkDCgkLAwwLDQMODQ8DEA8RAxIREwMUExUDFhUXAxgXGQMaGRsDHBsdAx4dHwMgHyEDASECAw==",
            "dtype": "i1"
           },
           "name": "Mesh",
           "opacity": 0.3,
           "type": "mesh3d",
           "x": {
            "bdata": "AAAAAAAAAAAAAAAAAAAUQAAAAAAAABRAAAAAAAAAAABMmH9hQ3oSQEyYf2FDehJAwAofAMZIDEDACh8AxkgMQL1TWlBbnf4/vVNaUFud/j8Jc9m/rw+2PAlz2b+vD7Y8ulNaUFud/r+6U1pQW53+v78KHwDGSAzAvwofAMZIDMBMmH9hQ3oSwEyYf2FDehLAAAAAAAAAFMAAAAAAAAAUwEyYf2FDehLATJh/YUN6EsDCCh8AxkgMwMIKHwDGSAzAyFNaUFud/r/IU1pQW53+v0YW48/Di9C8Rhbjz8OL0LzBU1pQW53+P8FTWlBbnf4/vgofAMZIDEC+Ch8AxkgMQEqYf2FDehJASph/YUN6EkA=",
            "dtype": "f8"
           },
           "y": {
            "bdata": "AAAAAAAAAAAAAAAAAAAAAAAAAAAAAAAAAAAAAAAAAAC8U1pQW53+P7xTWlBbnf4/wAofAMZIDEDACh8AxkgMQEyYf2FDehJATJh/YUN6EkAAAAAAAAAUQAAAAAAAABRATJh/YUN6EkBMmH9hQ3oSQMAKHwDGSAxAwAofAMZIDEC+U1pQW53+P75TWlBbnf4/CXPZv68PxjwJc9m/rw/GPLlTWlBbnf6/uVNaUFud/r+/Ch8AxkgMwL8KHwDGSAzASph/YUN6EsBKmH9hQ3oSwAAAAAAAABTAAAAAAAAAFMBLmH9hQ3oSwEuYf2FDehLAwgofAMZIDMDCCh8AxkgMwMpTWlBbnf6/ylNaUFud/r8=",
            "dtype": "f8"
           },
           "z": {
            "bdata": "AAAAAAAAScAAAAAAAABJwAAAAAAAAElAAAAAAAAASUAAAAAAAABJwAAAAAAAAElAAAAAAAAAScAAAAAAAABJQAAAAAAAAEnAAAAAAAAASUAAAAAAAABJwAAAAAAAAElAAAAAAAAAScAAAAAAAABJQAAAAAAAAEnAAAAAAAAASUAAAAAAAABJwAAAAAAAAElAAAAAAAAAScAAAAAAAABJQAAAAAAAAEnAAAAAAAAASUAAAAAAAABJwAAAAAAAAElAAAAAAAAAScAAAAAAAABJQAAAAAAAAEnAAAAAAAAASUAAAAAAAABJwAAAAAAAAElAAAAAAAAAScAAAAAAAABJQAAAAAAAAEnAAAAAAAAASUA=",
            "dtype": "f8"
           }
          },
          {
           "line": {
            "color": "red",
            "width": 5
           },
           "mode": "lines",
           "name": "Slice at z=-32.55",
           "type": "scatter3d",
           "x": [
            3.061616997868383e-16,
            0.33387177007362445,
            1.9134171618254492,
            2.196459981460497,
            3.5355339059327378,
            3.7246570716293217,
            4.619397662556434,
            4.685808886743016,
            5,
            4.933588775813418,
            4.619397662556432,
            4.430274496859848,
            3.535533905932737,
            3.25249108629769,
            1.91341716182545,
            1.5795453917518254,
            -9.184850993605148e-16,
            -0.33387177007362534,
            -1.9134171618254516,
            -2.1964599814604986,
            -3.5355339059327386,
            -3.724657071629322,
            -4.619397662556434,
            -4.685808886743016,
            -5,
            -4.933588775813418,
            -4.619397662556434,
            -4.43027449685985,
            -3.5355339059327373,
            -3.25249108629769,
            -1.9134171618254485,
            -1.5795453917518243,
            3.061616997868383e-16,
            null
           ],
           "y": [
            5,
            4.933588775813418,
            4.619397662556434,
            4.43027449685985,
            3.5355339059327378,
            3.252491086297691,
            1.913417161825449,
            1.5795453917518247,
            0,
            -0.3338717700736247,
            -1.913417161825452,
            -2.196459981460499,
            -3.5355339059327386,
            -3.724657071629322,
            -4.619397662556433,
            -4.685808886743015,
            -5,
            -4.933588775813418,
            -4.619397662556432,
            -4.430274496859848,
            -3.5355339059327373,
            -3.25249108629769,
            -1.9134171618254483,
            -1.579545391751824,
            6.123233995736766e-16,
            0.3338717700736249,
            1.9134171618254494,
            2.196459981460497,
            3.5355339059327378,
            3.7246570716293217,
            4.619397662556434,
            4.685808886743016,
            5,
            null
           ],
           "z": [
            -32.55102040816327,
            -32.55102040816327,
            -32.55102040816327,
            -32.55102040816327,
            -32.55102040816327,
            -32.55102040816327,
            -32.55102040816327,
            -32.55102040816327,
            -32.55102040816327,
            -32.55102040816327,
            -32.55102040816327,
            -32.55102040816327,
            -32.55102040816327,
            -32.55102040816327,
            -32.55102040816327,
            -32.55102040816327,
            -32.55102040816327,
            -32.55102040816327,
            -32.55102040816327,
            -32.55102040816327,
            -32.55102040816327,
            -32.55102040816327,
            -32.55102040816327,
            -32.55102040816327,
            -32.55102040816327,
            -32.55102040816327,
            -32.55102040816327,
            -32.55102040816327,
            -32.55102040816327,
            -32.55102040816327,
            -32.55102040816327,
            -32.55102040816327,
            -32.55102040816327,
            null
           ]
          }
         ],
         "name": "frame_10",
         "traces": [
          0,
          1
         ]
        },
        {
         "data": [
          {
           "color": "lightblue",
           "i": {
            "bdata": "AQECAgQEBQUGBgcHCAgJCQoKCwsMDA0NDg4PDxAQERESEhMTFBQVFRYWFxcYGBkZGhobGxwcHR0eHh8fICAhIQ==",
            "dtype": "i1"
           },
           "j": {
            "bdata": "AAQEBQAGBgcACAgJAAoKCwAMDA0ADg4PABAQEQASEhMAFBQVABYWFwAYGBkAGhobABwcHQAeHh8AICAhAAEBAg==",
            "dtype": "i1"
           },
           "k": {
            "bdata": "BAIFAwYFBwMIBwkDCgkLAwwLDQMODQ8DEA8RAxIREwMUExUDFhUXAxgXGQMaGRsDHBsdAx4dHwMgHyEDASECAw==",
            "dtype": "i1"
           },
           "name": "Mesh",
           "opacity": 0.3,
           "type": "mesh3d",
           "x": {
            "bdata": "AAAAAAAAAAAAAAAAAAAUQAAAAAAAABRAAAAAAAAAAABMmH9hQ3oSQEyYf2FDehJAwAofAMZIDEDACh8AxkgMQL1TWlBbnf4/vVNaUFud/j8Jc9m/rw+2PAlz2b+vD7Y8ulNaUFud/r+6U1pQW53+v78KHwDGSAzAvwofAMZIDMBMmH9hQ3oSwEyYf2FDehLAAAAAAAAAFMAAAAAAAAAUwEyYf2FDehLATJh/YUN6EsDCCh8AxkgMwMIKHwDGSAzAyFNaUFud/r/IU1pQW53+v0YW48/Di9C8Rhbjz8OL0LzBU1pQW53+P8FTWlBbnf4/vgofAMZIDEC+Ch8AxkgMQEqYf2FDehJASph/YUN6EkA=",
            "dtype": "f8"
           },
           "y": {
            "bdata": "AAAAAAAAAAAAAAAAAAAAAAAAAAAAAAAAAAAAAAAAAAC8U1pQW53+P7xTWlBbnf4/wAofAMZIDEDACh8AxkgMQEyYf2FDehJATJh/YUN6EkAAAAAAAAAUQAAAAAAAABRATJh/YUN6EkBMmH9hQ3oSQMAKHwDGSAxAwAofAMZIDEC+U1pQW53+P75TWlBbnf4/CXPZv68PxjwJc9m/rw/GPLlTWlBbnf6/uVNaUFud/r+/Ch8AxkgMwL8KHwDGSAzASph/YUN6EsBKmH9hQ3oSwAAAAAAAABTAAAAAAAAAFMBLmH9hQ3oSwEuYf2FDehLAwgofAMZIDMDCCh8AxkgMwMpTWlBbnf6/ylNaUFud/r8=",
            "dtype": "f8"
           },
           "z": {
            "bdata": "AAAAAAAAScAAAAAAAABJwAAAAAAAAElAAAAAAAAASUAAAAAAAABJwAAAAAAAAElAAAAAAAAAScAAAAAAAABJQAAAAAAAAEnAAAAAAAAASUAAAAAAAABJwAAAAAAAAElAAAAAAAAAScAAAAAAAABJQAAAAAAAAEnAAAAAAAAASUAAAAAAAABJwAAAAAAAAElAAAAAAAAAScAAAAAAAABJQAAAAAAAAEnAAAAAAAAASUAAAAAAAABJwAAAAAAAAElAAAAAAAAAScAAAAAAAABJQAAAAAAAAEnAAAAAAAAASUAAAAAAAABJwAAAAAAAAElAAAAAAAAAScAAAAAAAABJQAAAAAAAAEnAAAAAAAAASUA=",
            "dtype": "f8"
           }
          },
          {
           "line": {
            "color": "red",
            "width": 5
           },
           "mode": "lines",
           "name": "Slice at z=-30.31",
           "type": "scatter3d",
           "x": [
            3.061616997868383e-16,
            0.37682603289011407,
            1.9134171618254492,
            2.2328748471445374,
            3.5355339059327378,
            3.7489887069820984,
            4.619397662556434,
            4.694353020848891,
            5,
            4.925044641707542,
            4.619397662556432,
            4.4059428615070715,
            3.535533905932737,
            3.216076220613649,
            1.91341716182545,
            1.5365911289353356,
            -9.184850993605148e-16,
            -0.3768260328901152,
            -1.9134171618254516,
            -2.2328748471445397,
            -3.5355339059327386,
            -3.7489887069820993,
            -4.619397662556434,
            -4.694353020848891,
            -5,
            -4.925044641707543,
            -4.619397662556434,
            -4.405942861507073,
            -3.5355339059327373,
            -3.216076220613649,
            -1.9134171618254485,
            -1.5365911289353347,
            3.061616997868383e-16,
            null
           ],
           "y": [
            5,
            4.925044641707543,
            4.619397662556434,
            4.405942861507073,
            3.5355339059327378,
            3.2160762206136493,
            1.913417161825449,
            1.5365911289353351,
            0,
            -0.3768260328901145,
            -1.913417161825452,
            -2.23287484714454,
            -3.5355339059327386,
            -3.748988706982099,
            -4.619397662556433,
            -4.69435302084889,
            -5,
            -4.925044641707542,
            -4.619397662556432,
            -4.4059428615070715,
            -3.5355339059327373,
            -3.2160762206136484,
            -1.9134171618254483,
            -1.5365911289353344,
            6.123233995736766e-16,
            0.3768260328901145,
            1.9134171618254494,
            2.232874847144538,
            3.5355339059327378,
            3.7489887069820984,
            4.619397662556434,
            4.694353020848891,
            5,
            null
           ],
           "z": [
            -30.306122448979593,
            -30.306122448979593,
            -30.306122448979593,
            -30.306122448979593,
            -30.306122448979593,
            -30.306122448979593,
            -30.306122448979593,
            -30.306122448979593,
            -30.306122448979593,
            -30.306122448979593,
            -30.306122448979593,
            -30.306122448979593,
            -30.306122448979593,
            -30.306122448979593,
            -30.306122448979593,
            -30.306122448979593,
            -30.306122448979593,
            -30.306122448979593,
            -30.306122448979593,
            -30.306122448979593,
            -30.306122448979593,
            -30.306122448979593,
            -30.306122448979593,
            -30.306122448979593,
            -30.306122448979593,
            -30.306122448979593,
            -30.306122448979593,
            -30.306122448979593,
            -30.306122448979593,
            -30.306122448979593,
            -30.306122448979593,
            -30.306122448979593,
            -30.306122448979593,
            null
           ]
          }
         ],
         "name": "frame_11",
         "traces": [
          0,
          1
         ]
        },
        {
         "data": [
          {
           "color": "lightblue",
           "i": {
            "bdata": "AQECAgQEBQUGBgcHCAgJCQoKCwsMDA0NDg4PDxAQERESEhMTFBQVFRYWFxcYGBkZGhobGxwcHR0eHh8fICAhIQ==",
            "dtype": "i1"
           },
           "j": {
            "bdata": "AAQEBQAGBgcACAgJAAoKCwAMDA0ADg4PABAQEQASEhMAFBQVABYWFwAYGBkAGhobABwcHQAeHh8AICAhAAEBAg==",
            "dtype": "i1"
           },
           "k": {
            "bdata": "BAIFAwYFBwMIBwkDCgkLAwwLDQMODQ8DEA8RAxIREwMUExUDFhUXAxgXGQMaGRsDHBsdAx4dHwMgHyEDASECAw==",
            "dtype": "i1"
           },
           "name": "Mesh",
           "opacity": 0.3,
           "type": "mesh3d",
           "x": {
            "bdata": "AAAAAAAAAAAAAAAAAAAUQAAAAAAAABRAAAAAAAAAAABMmH9hQ3oSQEyYf2FDehJAwAofAMZIDEDACh8AxkgMQL1TWlBbnf4/vVNaUFud/j8Jc9m/rw+2PAlz2b+vD7Y8ulNaUFud/r+6U1pQW53+v78KHwDGSAzAvwofAMZIDMBMmH9hQ3oSwEyYf2FDehLAAAAAAAAAFMAAAAAAAAAUwEyYf2FDehLATJh/YUN6EsDCCh8AxkgMwMIKHwDGSAzAyFNaUFud/r/IU1pQW53+v0YW48/Di9C8Rhbjz8OL0LzBU1pQW53+P8FTWlBbnf4/vgofAMZIDEC+Ch8AxkgMQEqYf2FDehJASph/YUN6EkA=",
            "dtype": "f8"
           },
           "y": {
            "bdata": "AAAAAAAAAAAAAAAAAAAAAAAAAAAAAAAAAAAAAAAAAAC8U1pQW53+P7xTWlBbnf4/wAofAMZIDEDACh8AxkgMQEyYf2FDehJATJh/YUN6EkAAAAAAAAAUQAAAAAAAABRATJh/YUN6EkBMmH9hQ3oSQMAKHwDGSAxAwAofAMZIDEC+U1pQW53+P75TWlBbnf4/CXPZv68PxjwJc9m/rw/GPLlTWlBbnf6/uVNaUFud/r+/Ch8AxkgMwL8KHwDGSAzASph/YUN6EsBKmH9hQ3oSwAAAAAAAABTAAAAAAAAAFMBLmH9hQ3oSwEuYf2FDehLAwgofAMZIDMDCCh8AxkgMwMpTWlBbnf6/ylNaUFud/r8=",
            "dtype": "f8"
           },
           "z": {
            "bdata": "AAAAAAAAScAAAAAAAABJwAAAAAAAAElAAAAAAAAASUAAAAAAAABJwAAAAAAAAElAAAAAAAAAScAAAAAAAABJQAAAAAAAAEnAAAAAAAAASUAAAAAAAABJwAAAAAAAAElAAAAAAAAAScAAAAAAAABJQAAAAAAAAEnAAAAAAAAASUAAAAAAAABJwAAAAAAAAElAAAAAAAAAScAAAAAAAABJQAAAAAAAAEnAAAAAAAAASUAAAAAAAABJwAAAAAAAAElAAAAAAAAAScAAAAAAAABJQAAAAAAAAEnAAAAAAAAASUAAAAAAAABJwAAAAAAAAElAAAAAAAAAScAAAAAAAABJQAAAAAAAAEnAAAAAAAAASUA=",
            "dtype": "f8"
           }
          },
          {
           "line": {
            "color": "red",
            "width": 5
           },
           "mode": "lines",
           "name": "Slice at z=-28.06",
           "type": "scatter3d",
           "x": [
            3.061616997868383e-16,
            -1.493636866118845,
            -1.9134171618254485,
            -3.1796613549296078,
            -3.5355339059327373,
            -4.3816112261542965,
            -4.619397662556434,
            -4.916500507601667,
            -5,
            -4.702897154954767,
            -4.619397662556434,
            -3.773320342334876,
            -3.5355339059327386,
            -2.2692897128285807,
            -1.9134171618254516,
            -0.4197802957066048,
            -9.184850993605148e-16,
            1.493636866118846,
            1.91341716182545,
            3.1796613549296078,
            3.535533905932737,
            4.381611226154295,
            4.619397662556432,
            4.916500507601667,
            5,
            4.702897154954767,
            4.619397662556434,
            3.773320342334875,
            3.5355339059327378,
            2.269289712828579,
            1.9134171618254492,
            0.4197802957066037,
            3.061616997868383e-16,
            null
           ],
           "y": [
            5,
            4.702897154954767,
            4.619397662556434,
            3.773320342334875,
            3.5355339059327378,
            2.269289712828579,
            1.9134171618254494,
            0.41978029570660413,
            6.123233995736766e-16,
            -1.4936368661188448,
            -1.9134171618254483,
            -3.1796613549296078,
            -3.5355339059327373,
            -4.381611226154295,
            -4.619397662556432,
            -4.916500507601667,
            -5,
            -4.7028971549547665,
            -4.619397662556433,
            -3.7733203423348756,
            -3.5355339059327386,
            -2.2692897128285816,
            -1.913417161825452,
            -0.41978029570660413,
            0,
            1.4936368661188455,
            1.913417161825449,
            3.179661354929608,
            3.5355339059327378,
            4.3816112261542965,
            4.619397662556434,
            4.916500507601667,
            5,
            null
           ],
           "z": [
            -28.06122448979592,
            -28.06122448979592,
            -28.06122448979592,
            -28.06122448979592,
            -28.06122448979592,
            -28.06122448979592,
            -28.06122448979592,
            -28.06122448979592,
            -28.06122448979592,
            -28.06122448979592,
            -28.06122448979592,
            -28.06122448979592,
            -28.06122448979592,
            -28.06122448979592,
            -28.06122448979592,
            -28.06122448979592,
            -28.06122448979592,
            -28.06122448979592,
            -28.06122448979592,
            -28.06122448979592,
            -28.06122448979592,
            -28.06122448979592,
            -28.06122448979592,
            -28.06122448979592,
            -28.06122448979592,
            -28.06122448979592,
            -28.06122448979592,
            -28.06122448979592,
            -28.06122448979592,
            -28.06122448979592,
            -28.06122448979592,
            -28.06122448979592,
            -28.06122448979592,
            null
           ]
          }
         ],
         "name": "frame_12",
         "traces": [
          0,
          1
         ]
        },
        {
         "data": [
          {
           "color": "lightblue",
           "i": {
            "bdata": "AQECAgQEBQUGBgcHCAgJCQoKCwsMDA0NDg4PDxAQERESEhMTFBQVFRYWFxcYGBkZGhobGxwcHR0eHh8fICAhIQ==",
            "dtype": "i1"
           },
           "j": {
            "bdata": "AAQEBQAGBgcACAgJAAoKCwAMDA0ADg4PABAQEQASEhMAFBQVABYWFwAYGBkAGhobABwcHQAeHh8AICAhAAEBAg==",
            "dtype": "i1"
           },
           "k": {
            "bdata": "BAIFAwYFBwMIBwkDCgkLAwwLDQMODQ8DEA8RAxIREwMUExUDFhUXAxgXGQMaGRsDHBsdAx4dHwMgHyEDASECAw==",
            "dtype": "i1"
           },
           "name": "Mesh",
           "opacity": 0.3,
           "type": "mesh3d",
           "x": {
            "bdata": "AAAAAAAAAAAAAAAAAAAUQAAAAAAAABRAAAAAAAAAAABMmH9hQ3oSQEyYf2FDehJAwAofAMZIDEDACh8AxkgMQL1TWlBbnf4/vVNaUFud/j8Jc9m/rw+2PAlz2b+vD7Y8ulNaUFud/r+6U1pQW53+v78KHwDGSAzAvwofAMZIDMBMmH9hQ3oSwEyYf2FDehLAAAAAAAAAFMAAAAAAAAAUwEyYf2FDehLATJh/YUN6EsDCCh8AxkgMwMIKHwDGSAzAyFNaUFud/r/IU1pQW53+v0YW48/Di9C8Rhbjz8OL0LzBU1pQW53+P8FTWlBbnf4/vgofAMZIDEC+Ch8AxkgMQEqYf2FDehJASph/YUN6EkA=",
            "dtype": "f8"
           },
           "y": {
            "bdata": "AAAAAAAAAAAAAAAAAAAAAAAAAAAAAAAAAAAAAAAAAAC8U1pQW53+P7xTWlBbnf4/wAofAMZIDEDACh8AxkgMQEyYf2FDehJATJh/YUN6EkAAAAAAAAAUQAAAAAAAABRATJh/YUN6EkBMmH9hQ3oSQMAKHwDGSAxAwAofAMZIDEC+U1pQW53+P75TWlBbnf4/CXPZv68PxjwJc9m/rw/GPLlTWlBbnf6/uVNaUFud/r+/Ch8AxkgMwL8KHwDGSAzASph/YUN6EsBKmH9hQ3oSwAAAAAAAABTAAAAAAAAAFMBLmH9hQ3oSwEuYf2FDehLAwgofAMZIDMDCCh8AxkgMwMpTWlBbnf6/ylNaUFud/r8=",
            "dtype": "f8"
           },
           "z": {
            "bdata": "AAAAAAAAScAAAAAAAABJwAAAAAAAAElAAAAAAAAASUAAAAAAAABJwAAAAAAAAElAAAAAAAAAScAAAAAAAABJQAAAAAAAAEnAAAAAAAAASUAAAAAAAABJwAAAAAAAAElAAAAAAAAAScAAAAAAAABJQAAAAAAAAEnAAAAAAAAASUAAAAAAAABJwAAAAAAAAElAAAAAAAAAScAAAAAAAABJQAAAAAAAAEnAAAAAAAAASUAAAAAAAABJwAAAAAAAAElAAAAAAAAAScAAAAAAAABJQAAAAAAAAEnAAAAAAAAASUAAAAAAAABJwAAAAAAAAElAAAAAAAAAScAAAAAAAABJQAAAAAAAAEnAAAAAAAAASUA=",
            "dtype": "f8"
           }
          },
          {
           "line": {
            "color": "red",
            "width": 5
           },
           "mode": "lines",
           "name": "Slice at z=-25.82",
           "type": "scatter3d",
           "x": [
            3.061616997868383e-16,
            -1.4506826033023552,
            -1.9134171618254485,
            -3.1432464892455663,
            -3.5355339059327373,
            -4.35727959080152,
            -4.619397662556434,
            -4.90795637349579,
            -5,
            -4.711441289060644,
            -4.619397662556434,
            -3.7976519776876527,
            -3.5355339059327386,
            -2.3057045785126222,
            -1.9134171618254516,
            -0.46273455852309464,
            -9.184850993605148e-16,
            1.450682603302356,
            1.91341716182545,
            3.1432464892455663,
            3.535533905932737,
            4.357279590801518,
            4.619397662556432,
            4.90795637349579,
            5,
            4.711441289060644,
            4.619397662556434,
            3.7976519776876523,
            3.5355339059327378,
            2.3057045785126205,
            1.9134171618254492,
            0.46273455852309353,
            3.061616997868383e-16,
            null
           ],
           "y": [
            5,
            4.711441289060644,
            4.619397662556434,
            3.7976519776876523,
            3.5355339059327378,
            2.3057045785126205,
            1.9134171618254494,
            0.462734558523094,
            6.123233995736766e-16,
            -1.450682603302355,
            -1.9134171618254483,
            -3.1432464892455663,
            -3.5355339059327373,
            -4.357279590801518,
            -4.619397662556432,
            -4.90795637349579,
            -5,
            -4.711441289060643,
            -4.619397662556433,
            -3.7976519776876527,
            -3.5355339059327386,
            -2.3057045785126227,
            -1.913417161825452,
            -0.4627345585230942,
            0,
            1.4506826033023557,
            1.913417161825449,
            3.1432464892455667,
            3.5355339059327378,
            4.35727959080152,
            4.619397662556434,
            4.90795637349579,
            5,
            null
           ],
           "z": [
            -25.816326530612248,
            -25.816326530612244,
            -25.816326530612248,
            -25.816326530612244,
            -25.816326530612248,
            -25.816326530612244,
            -25.816326530612248,
            -25.816326530612244,
            -25.816326530612248,
            -25.816326530612244,
            -25.816326530612248,
            -25.816326530612244,
            -25.816326530612248,
            -25.816326530612244,
            -25.816326530612248,
            -25.816326530612244,
            -25.816326530612248,
            -25.816326530612244,
            -25.816326530612248,
            -25.816326530612244,
            -25.816326530612248,
            -25.816326530612244,
            -25.816326530612248,
            -25.816326530612244,
            -25.816326530612244,
            -25.816326530612244,
            -25.816326530612248,
            -25.816326530612244,
            -25.816326530612248,
            -25.816326530612244,
            -25.816326530612248,
            -25.816326530612244,
            -25.816326530612248,
            null
           ]
          }
         ],
         "name": "frame_13",
         "traces": [
          0,
          1
         ]
        },
        {
         "data": [
          {
           "color": "lightblue",
           "i": {
            "bdata": "AQECAgQEBQUGBgcHCAgJCQoKCwsMDA0NDg4PDxAQERESEhMTFBQVFRYWFxcYGBkZGhobGxwcHR0eHh8fICAhIQ==",
            "dtype": "i1"
           },
           "j": {
            "bdata": "AAQEBQAGBgcACAgJAAoKCwAMDA0ADg4PABAQEQASEhMAFBQVABYWFwAYGBkAGhobABwcHQAeHh8AICAhAAEBAg==",
            "dtype": "i1"
           },
           "k": {
            "bdata": "BAIFAwYFBwMIBwkDCgkLAwwLDQMODQ8DEA8RAxIREwMUExUDFhUXAxgXGQMaGRsDHBsdAx4dHwMgHyEDASECAw==",
            "dtype": "i1"
           },
           "name": "Mesh",
           "opacity": 0.3,
           "type": "mesh3d",
           "x": {
            "bdata": "AAAAAAAAAAAAAAAAAAAUQAAAAAAAABRAAAAAAAAAAABMmH9hQ3oSQEyYf2FDehJAwAofAMZIDEDACh8AxkgMQL1TWlBbnf4/vVNaUFud/j8Jc9m/rw+2PAlz2b+vD7Y8ulNaUFud/r+6U1pQW53+v78KHwDGSAzAvwofAMZIDMBMmH9hQ3oSwEyYf2FDehLAAAAAAAAAFMAAAAAAAAAUwEyYf2FDehLATJh/YUN6EsDCCh8AxkgMwMIKHwDGSAzAyFNaUFud/r/IU1pQW53+v0YW48/Di9C8Rhbjz8OL0LzBU1pQW53+P8FTWlBbnf4/vgofAMZIDEC+Ch8AxkgMQEqYf2FDehJASph/YUN6EkA=",
            "dtype": "f8"
           },
           "y": {
            "bdata": "AAAAAAAAAAAAAAAAAAAAAAAAAAAAAAAAAAAAAAAAAAC8U1pQW53+P7xTWlBbnf4/wAofAMZIDEDACh8AxkgMQEyYf2FDehJATJh/YUN6EkAAAAAAAAAUQAAAAAAAABRATJh/YUN6EkBMmH9hQ3oSQMAKHwDGSAxAwAofAMZIDEC+U1pQW53+P75TWlBbnf4/CXPZv68PxjwJc9m/rw/GPLlTWlBbnf6/uVNaUFud/r+/Ch8AxkgMwL8KHwDGSAzASph/YUN6EsBKmH9hQ3oSwAAAAAAAABTAAAAAAAAAFMBLmH9hQ3oSwEuYf2FDehLAwgofAMZIDMDCCh8AxkgMwMpTWlBbnf6/ylNaUFud/r8=",
            "dtype": "f8"
           },
           "z": {
            "bdata": "AAAAAAAAScAAAAAAAABJwAAAAAAAAElAAAAAAAAASUAAAAAAAABJwAAAAAAAAElAAAAAAAAAScAAAAAAAABJQAAAAAAAAEnAAAAAAAAASUAAAAAAAABJwAAAAAAAAElAAAAAAAAAScAAAAAAAABJQAAAAAAAAEnAAAAAAAAASUAAAAAAAABJwAAAAAAAAElAAAAAAAAAScAAAAAAAABJQAAAAAAAAEnAAAAAAAAASUAAAAAAAABJwAAAAAAAAElAAAAAAAAAScAAAAAAAABJQAAAAAAAAEnAAAAAAAAASUAAAAAAAABJwAAAAAAAAElAAAAAAAAAScAAAAAAAABJQAAAAAAAAEnAAAAAAAAASUA=",
            "dtype": "f8"
           }
          },
          {
           "line": {
            "color": "red",
            "width": 5
           },
           "mode": "lines",
           "name": "Slice at z=-23.57",
           "type": "scatter3d",
           "x": [
            3.061616997868383e-16,
            -1.4077283404858656,
            -1.9134171618254485,
            -3.106831623561525,
            -3.5355339059327373,
            -4.332947955448742,
            -4.619397662556434,
            -4.899412239389915,
            -5,
            -4.719985423166519,
            -4.619397662556434,
            -3.8219836130404294,
            -3.5355339059327386,
            -2.3421194441966633,
            -1.9134171618254516,
            -0.5056888213395845,
            -9.184850993605148e-16,
            1.4077283404858663,
            1.91341716182545,
            3.106831623561525,
            3.535533905932737,
            4.332947955448741,
            4.619397662556432,
            4.899412239389914,
            5,
            4.719985423166519,
            4.619397662556434,
            3.821983613040429,
            3.5355339059327378,
            2.342119444196661,
            1.9134171618254492,
            0.5056888213395831,
            3.061616997868383e-16,
            null
           ],
           "y": [
            5,
            4.719985423166519,
            4.619397662556434,
            3.821983613040429,
            3.5355339059327378,
            2.3421194441966615,
            1.9134171618254494,
            0.5056888213395836,
            6.123233995736766e-16,
            -1.4077283404858654,
            -1.9134171618254483,
            -3.1068316235615248,
            -3.5355339059327373,
            -4.332947955448741,
            -4.619397662556432,
            -4.899412239389914,
            -5,
            -4.719985423166519,
            -4.619397662556433,
            -3.8219836130404294,
            -3.5355339059327386,
            -2.3421194441966637,
            -1.913417161825452,
            -0.5056888213395838,
            0,
            1.407728340485866,
            1.913417161825449,
            3.1068316235615256,
            3.5355339059327378,
            4.332947955448743,
            4.619397662556434,
            4.899412239389915,
            5,
            null
           ],
           "z": [
            -23.571428571428573,
            -23.57142857142857,
            -23.571428571428573,
            -23.57142857142857,
            -23.571428571428573,
            -23.57142857142857,
            -23.571428571428573,
            -23.57142857142857,
            -23.571428571428573,
            -23.57142857142857,
            -23.571428571428573,
            -23.57142857142857,
            -23.571428571428573,
            -23.57142857142857,
            -23.571428571428573,
            -23.57142857142857,
            -23.571428571428573,
            -23.57142857142857,
            -23.571428571428573,
            -23.57142857142857,
            -23.571428571428573,
            -23.57142857142857,
            -23.571428571428573,
            -23.57142857142857,
            -23.57142857142857,
            -23.57142857142857,
            -23.571428571428573,
            -23.57142857142857,
            -23.571428571428573,
            -23.57142857142857,
            -23.571428571428573,
            -23.57142857142857,
            -23.571428571428573,
            null
           ]
          }
         ],
         "name": "frame_14",
         "traces": [
          0,
          1
         ]
        },
        {
         "data": [
          {
           "color": "lightblue",
           "i": {
            "bdata": "AQECAgQEBQUGBgcHCAgJCQoKCwsMDA0NDg4PDxAQERESEhMTFBQVFRYWFxcYGBkZGhobGxwcHR0eHh8fICAhIQ==",
            "dtype": "i1"
           },
           "j": {
            "bdata": "AAQEBQAGBgcACAgJAAoKCwAMDA0ADg4PABAQEQASEhMAFBQVABYWFwAYGBkAGhobABwcHQAeHh8AICAhAAEBAg==",
            "dtype": "i1"
           },
           "k": {
            "bdata": "BAIFAwYFBwMIBwkDCgkLAwwLDQMODQ8DEA8RAxIREwMUExUDFhUXAxgXGQMaGRsDHBsdAx4dHwMgHyEDASECAw==",
            "dtype": "i1"
           },
           "name": "Mesh",
           "opacity": 0.3,
           "type": "mesh3d",
           "x": {
            "bdata": "AAAAAAAAAAAAAAAAAAAUQAAAAAAAABRAAAAAAAAAAABMmH9hQ3oSQEyYf2FDehJAwAofAMZIDEDACh8AxkgMQL1TWlBbnf4/vVNaUFud/j8Jc9m/rw+2PAlz2b+vD7Y8ulNaUFud/r+6U1pQW53+v78KHwDGSAzAvwofAMZIDMBMmH9hQ3oSwEyYf2FDehLAAAAAAAAAFMAAAAAAAAAUwEyYf2FDehLATJh/YUN6EsDCCh8AxkgMwMIKHwDGSAzAyFNaUFud/r/IU1pQW53+v0YW48/Di9C8Rhbjz8OL0LzBU1pQW53+P8FTWlBbnf4/vgofAMZIDEC+Ch8AxkgMQEqYf2FDehJASph/YUN6EkA=",
            "dtype": "f8"
           },
           "y": {
            "bdata": "AAAAAAAAAAAAAAAAAAAAAAAAAAAAAAAAAAAAAAAAAAC8U1pQW53+P7xTWlBbnf4/wAofAMZIDEDACh8AxkgMQEyYf2FDehJATJh/YUN6EkAAAAAAAAAUQAAAAAAAABRATJh/YUN6EkBMmH9hQ3oSQMAKHwDGSAxAwAofAMZIDEC+U1pQW53+P75TWlBbnf4/CXPZv68PxjwJc9m/rw/GPLlTWlBbnf6/uVNaUFud/r+/Ch8AxkgMwL8KHwDGSAzASph/YUN6EsBKmH9hQ3oSwAAAAAAAABTAAAAAAAAAFMBLmH9hQ3oSwEuYf2FDehLAwgofAMZIDMDCCh8AxkgMwMpTWlBbnf6/ylNaUFud/r8=",
            "dtype": "f8"
           },
           "z": {
            "bdata": "AAAAAAAAScAAAAAAAABJwAAAAAAAAElAAAAAAAAASUAAAAAAAABJwAAAAAAAAElAAAAAAAAAScAAAAAAAABJQAAAAAAAAEnAAAAAAAAASUAAAAAAAABJwAAAAAAAAElAAAAAAAAAScAAAAAAAABJQAAAAAAAAEnAAAAAAAAASUAAAAAAAABJwAAAAAAAAElAAAAAAAAAScAAAAAAAABJQAAAAAAAAEnAAAAAAAAASUAAAAAAAABJwAAAAAAAAElAAAAAAAAAScAAAAAAAABJQAAAAAAAAEnAAAAAAAAASUAAAAAAAABJwAAAAAAAAElAAAAAAAAAScAAAAAAAABJQAAAAAAAAEnAAAAAAAAASUA=",
            "dtype": "f8"
           }
          },
          {
           "line": {
            "color": "red",
            "width": 5
           },
           "mode": "lines",
           "name": "Slice at z=-21.33",
           "type": "scatter3d",
           "x": [
            3.061616997868383e-16,
            0.5486430841560725,
            1.9134171618254492,
            2.378534309880702,
            3.5355339059327378,
            3.8463152483932057,
            4.619397662556434,
            4.728529557272395,
            5,
            4.890868105284039,
            4.619397662556432,
            4.308616320095965,
            3.535533905932737,
            3.070416757877484,
            1.91341716182545,
            1.3647740776693769,
            -9.184850993605148e-16,
            -0.5486430841560739,
            -1.9134171618254516,
            -2.3785343098807044,
            -3.5355339059327386,
            -3.846315248393206,
            -4.619397662556434,
            -4.728529557272395,
            -5,
            -4.890868105284039,
            -4.619397662556434,
            -4.308616320095966,
            -3.5355339059327373,
            -3.070416757877484,
            -1.9134171618254485,
            -1.3647740776693762,
            3.061616997868383e-16,
            null
           ],
           "y": [
            5,
            4.890868105284039,
            4.619397662556434,
            4.308616320095966,
            3.5355339059327378,
            3.070416757877485,
            1.913417161825449,
            1.3647740776693766,
            0,
            -0.5486430841560732,
            -1.913417161825452,
            -2.3785343098807044,
            -3.5355339059327386,
            -3.846315248393206,
            -4.619397662556433,
            -4.728529557272394,
            -5,
            -4.890868105284039,
            -4.619397662556432,
            -4.308616320095965,
            -3.5355339059327373,
            -3.070416757877484,
            -1.9134171618254483,
            -1.364774077669376,
            6.123233995736766e-16,
            0.548643084156073,
            1.9134171618254494,
            2.3785343098807026,
            3.5355339059327378,
            3.8463152483932057,
            4.619397662556434,
            4.728529557272395,
            5,
            null
           ],
           "z": [
            -21.326530612244902,
            -21.32653061224491,
            -21.326530612244902,
            -21.32653061224491,
            -21.326530612244902,
            -21.32653061224491,
            -21.326530612244902,
            -21.32653061224491,
            -21.32653061224491,
            -21.32653061224491,
            -21.326530612244902,
            -21.32653061224491,
            -21.326530612244902,
            -21.32653061224491,
            -21.326530612244902,
            -21.32653061224491,
            -21.326530612244902,
            -21.32653061224491,
            -21.326530612244902,
            -21.32653061224491,
            -21.326530612244902,
            -21.32653061224491,
            -21.326530612244902,
            -21.32653061224491,
            -21.326530612244902,
            -21.32653061224491,
            -21.326530612244902,
            -21.32653061224491,
            -21.326530612244902,
            -21.32653061224491,
            -21.326530612244902,
            -21.32653061224491,
            -21.326530612244902,
            null
           ]
          }
         ],
         "name": "frame_15",
         "traces": [
          0,
          1
         ]
        },
        {
         "data": [
          {
           "color": "lightblue",
           "i": {
            "bdata": "AQECAgQEBQUGBgcHCAgJCQoKCwsMDA0NDg4PDxAQERESEhMTFBQVFRYWFxcYGBkZGhobGxwcHR0eHh8fICAhIQ==",
            "dtype": "i1"
           },
           "j": {
            "bdata": "AAQEBQAGBgcACAgJAAoKCwAMDA0ADg4PABAQEQASEhMAFBQVABYWFwAYGBkAGhobABwcHQAeHh8AICAhAAEBAg==",
            "dtype": "i1"
           },
           "k": {
            "bdata": "BAIFAwYFBwMIBwkDCgkLAwwLDQMODQ8DEA8RAxIREwMUExUDFhUXAxgXGQMaGRsDHBsdAx4dHwMgHyEDASECAw==",
            "dtype": "i1"
           },
           "name": "Mesh",
           "opacity": 0.3,
           "type": "mesh3d",
           "x": {
            "bdata": "AAAAAAAAAAAAAAAAAAAUQAAAAAAAABRAAAAAAAAAAABMmH9hQ3oSQEyYf2FDehJAwAofAMZIDEDACh8AxkgMQL1TWlBbnf4/vVNaUFud/j8Jc9m/rw+2PAlz2b+vD7Y8ulNaUFud/r+6U1pQW53+v78KHwDGSAzAvwofAMZIDMBMmH9hQ3oSwEyYf2FDehLAAAAAAAAAFMAAAAAAAAAUwEyYf2FDehLATJh/YUN6EsDCCh8AxkgMwMIKHwDGSAzAyFNaUFud/r/IU1pQW53+v0YW48/Di9C8Rhbjz8OL0LzBU1pQW53+P8FTWlBbnf4/vgofAMZIDEC+Ch8AxkgMQEqYf2FDehJASph/YUN6EkA=",
            "dtype": "f8"
           },
           "y": {
            "bdata": "AAAAAAAAAAAAAAAAAAAAAAAAAAAAAAAAAAAAAAAAAAC8U1pQW53+P7xTWlBbnf4/wAofAMZIDEDACh8AxkgMQEyYf2FDehJATJh/YUN6EkAAAAAAAAAUQAAAAAAAABRATJh/YUN6EkBMmH9hQ3oSQMAKHwDGSAxAwAofAMZIDEC+U1pQW53+P75TWlBbnf4/CXPZv68PxjwJc9m/rw/GPLlTWlBbnf6/uVNaUFud/r+/Ch8AxkgMwL8KHwDGSAzASph/YUN6EsBKmH9hQ3oSwAAAAAAAABTAAAAAAAAAFMBLmH9hQ3oSwEuYf2FDehLAwgofAMZIDMDCCh8AxkgMwMpTWlBbnf6/ylNaUFud/r8=",
            "dtype": "f8"
           },
           "z": {
            "bdata": "AAAAAAAAScAAAAAAAABJwAAAAAAAAElAAAAAAAAASUAAAAAAAABJwAAAAAAAAElAAAAAAAAAScAAAAAAAABJQAAAAAAAAEnAAAAAAAAASUAAAAAAAABJwAAAAAAAAElAAAAAAAAAScAAAAAAAABJQAAAAAAAAEnAAAAAAAAASUAAAAAAAABJwAAAAAAAAElAAAAAAAAAScAAAAAAAABJQAAAAAAAAEnAAAAAAAAASUAAAAAAAABJwAAAAAAAAElAAAAAAAAAScAAAAAAAABJQAAAAAAAAEnAAAAAAAAASUAAAAAAAABJwAAAAAAAAElAAAAAAAAAScAAAAAAAABJQAAAAAAAAEnAAAAAAAAASUA=",
            "dtype": "f8"
           }
          },
          {
           "line": {
            "color": "red",
            "width": 5
           },
           "mode": "lines",
           "name": "Slice at z=-19.08",
           "type": "scatter3d",
           "x": [
            3.061616997868383e-16,
            0.5915973469725622,
            1.9134171618254492,
            2.414949175564743,
            3.5355339059327378,
            3.8706468837459824,
            4.619397662556434,
            4.737073691378271,
            5,
            4.882323971178162,
            4.619397662556432,
            4.284284684743188,
            3.535533905932737,
            3.0340018921934435,
            1.91341716182545,
            1.3218198148528872,
            -9.184850993605148e-16,
            -0.5915973469725635,
            -1.9134171618254516,
            -2.414949175564745,
            -3.5355339059327386,
            -3.870646883745983,
            -4.619397662556434,
            -4.737073691378271,
            -5,
            -4.882323971178163,
            -4.619397662556434,
            -4.284284684743189,
            -3.5355339059327373,
            -3.034001892193443,
            -1.9134171618254485,
            -1.3218198148528866,
            3.061616997868383e-16,
            null
           ],
           "y": [
            5,
            4.882323971178163,
            4.619397662556434,
            4.284284684743189,
            3.5355339059327378,
            3.0340018921934435,
            1.913417161825449,
            1.321819814852887,
            0,
            -0.591597346972563,
            -1.913417161825452,
            -2.414949175564746,
            -3.5355339059327386,
            -3.870646883745983,
            -4.619397662556433,
            -4.737073691378271,
            -5,
            -4.882323971178162,
            -4.619397662556432,
            -4.284284684743188,
            -3.5355339059327373,
            -3.0340018921934426,
            -1.9134171618254483,
            -1.3218198148528864,
            6.123233995736766e-16,
            0.5915973469725626,
            1.9134171618254494,
            2.4149491755647436,
            3.5355339059327378,
            3.8706468837459824,
            4.619397662556434,
            4.737073691378271,
            5,
            null
           ],
           "z": [
            -19.081632653061227,
            -19.081632653061234,
            -19.081632653061227,
            -19.081632653061234,
            -19.081632653061227,
            -19.081632653061234,
            -19.081632653061227,
            -19.081632653061234,
            -19.081632653061234,
            -19.081632653061234,
            -19.081632653061227,
            -19.081632653061234,
            -19.081632653061227,
            -19.081632653061234,
            -19.081632653061227,
            -19.081632653061234,
            -19.081632653061227,
            -19.081632653061234,
            -19.081632653061227,
            -19.081632653061234,
            -19.081632653061227,
            -19.081632653061234,
            -19.081632653061227,
            -19.081632653061234,
            -19.081632653061227,
            -19.081632653061234,
            -19.081632653061227,
            -19.081632653061234,
            -19.081632653061227,
            -19.081632653061234,
            -19.081632653061227,
            -19.081632653061234,
            -19.081632653061227,
            null
           ]
          }
         ],
         "name": "frame_16",
         "traces": [
          0,
          1
         ]
        },
        {
         "data": [
          {
           "color": "lightblue",
           "i": {
            "bdata": "AQECAgQEBQUGBgcHCAgJCQoKCwsMDA0NDg4PDxAQERESEhMTFBQVFRYWFxcYGBkZGhobGxwcHR0eHh8fICAhIQ==",
            "dtype": "i1"
           },
           "j": {
            "bdata": "AAQEBQAGBgcACAgJAAoKCwAMDA0ADg4PABAQEQASEhMAFBQVABYWFwAYGBkAGhobABwcHQAeHh8AICAhAAEBAg==",
            "dtype": "i1"
           },
           "k": {
            "bdata": "BAIFAwYFBwMIBwkDCgkLAwwLDQMODQ8DEA8RAxIREwMUExUDFhUXAxgXGQMaGRsDHBsdAx4dHwMgHyEDASECAw==",
            "dtype": "i1"
           },
           "name": "Mesh",
           "opacity": 0.3,
           "type": "mesh3d",
           "x": {
            "bdata": "AAAAAAAAAAAAAAAAAAAUQAAAAAAAABRAAAAAAAAAAABMmH9hQ3oSQEyYf2FDehJAwAofAMZIDEDACh8AxkgMQL1TWlBbnf4/vVNaUFud/j8Jc9m/rw+2PAlz2b+vD7Y8ulNaUFud/r+6U1pQW53+v78KHwDGSAzAvwofAMZIDMBMmH9hQ3oSwEyYf2FDehLAAAAAAAAAFMAAAAAAAAAUwEyYf2FDehLATJh/YUN6EsDCCh8AxkgMwMIKHwDGSAzAyFNaUFud/r/IU1pQW53+v0YW48/Di9C8Rhbjz8OL0LzBU1pQW53+P8FTWlBbnf4/vgofAMZIDEC+Ch8AxkgMQEqYf2FDehJASph/YUN6EkA=",
            "dtype": "f8"
           },
           "y": {
            "bdata": "AAAAAAAAAAAAAAAAAAAAAAAAAAAAAAAAAAAAAAAAAAC8U1pQW53+P7xTWlBbnf4/wAofAMZIDEDACh8AxkgMQEyYf2FDehJATJh/YUN6EkAAAAAAAAAUQAAAAAAAABRATJh/YUN6EkBMmH9hQ3oSQMAKHwDGSAxAwAofAMZIDEC+U1pQW53+P75TWlBbnf4/CXPZv68PxjwJc9m/rw/GPLlTWlBbnf6/uVNaUFud/r+/Ch8AxkgMwL8KHwDGSAzASph/YUN6EsBKmH9hQ3oSwAAAAAAAABTAAAAAAAAAFMBLmH9hQ3oSwEuYf2FDehLAwgofAMZIDMDCCh8AxkgMwMpTWlBbnf6/ylNaUFud/r8=",
            "dtype": "f8"
           },
           "z": {
            "bdata": "AAAAAAAAScAAAAAAAABJwAAAAAAAAElAAAAAAAAASUAAAAAAAABJwAAAAAAAAElAAAAAAAAAScAAAAAAAABJQAAAAAAAAEnAAAAAAAAASUAAAAAAAABJwAAAAAAAAElAAAAAAAAAScAAAAAAAABJQAAAAAAAAEnAAAAAAAAASUAAAAAAAABJwAAAAAAAAElAAAAAAAAAScAAAAAAAABJQAAAAAAAAEnAAAAAAAAASUAAAAAAAABJwAAAAAAAAElAAAAAAAAAScAAAAAAAABJQAAAAAAAAEnAAAAAAAAASUAAAAAAAABJwAAAAAAAAElAAAAAAAAAScAAAAAAAABJQAAAAAAAAEnAAAAAAAAASUA=",
            "dtype": "f8"
           }
          },
          {
           "line": {
            "color": "red",
            "width": 5
           },
           "mode": "lines",
           "name": "Slice at z=-16.84",
           "type": "scatter3d",
           "x": [
            3.061616997868383e-16,
            -1.278865552036397,
            -1.9134171618254485,
            -2.997587026509402,
            -3.5355339059327373,
            -4.259953049390412,
            -4.619397662556434,
            -4.873779837072287,
            -5,
            -4.745617825484147,
            -4.619397662556434,
            -3.89497851909876,
            -3.5355339059327386,
            -2.4513640412487865,
            -1.9134171618254516,
            -0.6345516097890531,
            -9.184850993605148e-16,
            1.2788655520363976,
            1.91341716182545,
            2.997587026509402,
            3.535533905932737,
            4.259953049390411,
            4.619397662556432,
            4.873779837072286,
            5,
            4.745617825484147,
            4.619397662556434,
            3.8949785190987596,
            3.5355339059327378,
            2.4513640412487847,
            1.9134171618254492,
            0.6345516097890518,
            3.061616997868383e-16,
            null
           ],
           "y": [
            5,
            4.745617825484147,
            4.619397662556434,
            3.8949785190987596,
            3.5355339059327378,
            2.4513640412487847,
            1.9134171618254494,
            0.6345516097890522,
            6.123233995736766e-16,
            -1.2788655520363967,
            -1.9134171618254483,
            -2.997587026509402,
            -3.5355339059327373,
            -4.259953049390411,
            -4.619397662556432,
            -4.873779837072286,
            -5,
            -4.745617825484146,
            -4.619397662556433,
            -3.8949785190987596,
            -3.5355339059327386,
            -2.4513640412487865,
            -1.913417161825452,
            -0.6345516097890527,
            0,
            1.2788655520363974,
            1.913417161825449,
            2.9975870265094025,
            3.5355339059327378,
            4.259953049390412,
            4.619397662556434,
            4.873779837072287,
            5,
            null
           ],
           "z": [
            -16.836734693877553,
            -16.83673469387756,
            -16.836734693877553,
            -16.83673469387756,
            -16.836734693877553,
            -16.83673469387756,
            -16.836734693877553,
            -16.83673469387756,
            -16.836734693877553,
            -16.83673469387756,
            -16.836734693877553,
            -16.83673469387756,
            -16.836734693877553,
            -16.83673469387756,
            -16.836734693877553,
            -16.83673469387756,
            -16.836734693877553,
            -16.83673469387756,
            -16.836734693877553,
            -16.83673469387756,
            -16.836734693877553,
            -16.83673469387756,
            -16.836734693877553,
            -16.83673469387756,
            -16.83673469387756,
            -16.83673469387756,
            -16.836734693877553,
            -16.83673469387756,
            -16.836734693877553,
            -16.83673469387756,
            -16.836734693877553,
            -16.83673469387756,
            -16.836734693877553,
            null
           ]
          }
         ],
         "name": "frame_17",
         "traces": [
          0,
          1
         ]
        },
        {
         "data": [
          {
           "color": "lightblue",
           "i": {
            "bdata": "AQECAgQEBQUGBgcHCAgJCQoKCwsMDA0NDg4PDxAQERESEhMTFBQVFRYWFxcYGBkZGhobGxwcHR0eHh8fICAhIQ==",
            "dtype": "i1"
           },
           "j": {
            "bdata": "AAQEBQAGBgcACAgJAAoKCwAMDA0ADg4PABAQEQASEhMAFBQVABYWFwAYGBkAGhobABwcHQAeHh8AICAhAAEBAg==",
            "dtype": "i1"
           },
           "k": {
            "bdata": "BAIFAwYFBwMIBwkDCgkLAwwLDQMODQ8DEA8RAxIREwMUExUDFhUXAxgXGQMaGRsDHBsdAx4dHwMgHyEDASECAw==",
            "dtype": "i1"
           },
           "name": "Mesh",
           "opacity": 0.3,
           "type": "mesh3d",
           "x": {
            "bdata": "AAAAAAAAAAAAAAAAAAAUQAAAAAAAABRAAAAAAAAAAABMmH9hQ3oSQEyYf2FDehJAwAofAMZIDEDACh8AxkgMQL1TWlBbnf4/vVNaUFud/j8Jc9m/rw+2PAlz2b+vD7Y8ulNaUFud/r+6U1pQW53+v78KHwDGSAzAvwofAMZIDMBMmH9hQ3oSwEyYf2FDehLAAAAAAAAAFMAAAAAAAAAUwEyYf2FDehLATJh/YUN6EsDCCh8AxkgMwMIKHwDGSAzAyFNaUFud/r/IU1pQW53+v0YW48/Di9C8Rhbjz8OL0LzBU1pQW53+P8FTWlBbnf4/vgofAMZIDEC+Ch8AxkgMQEqYf2FDehJASph/YUN6EkA=",
            "dtype": "f8"
           },
           "y": {
            "bdata": "AAAAAAAAAAAAAAAAAAAAAAAAAAAAAAAAAAAAAAAAAAC8U1pQW53+P7xTWlBbnf4/wAofAMZIDEDACh8AxkgMQEyYf2FDehJATJh/YUN6EkAAAAAAAAAUQAAAAAAAABRATJh/YUN6EkBMmH9hQ3oSQMAKHwDGSAxAwAofAMZIDEC+U1pQW53+P75TWlBbnf4/CXPZv68PxjwJc9m/rw/GPLlTWlBbnf6/uVNaUFud/r+/Ch8AxkgMwL8KHwDGSAzASph/YUN6EsBKmH9hQ3oSwAAAAAAAABTAAAAAAAAAFMBLmH9hQ3oSwEuYf2FDehLAwgofAMZIDMDCCh8AxkgMwMpTWlBbnf6/ylNaUFud/r8=",
            "dtype": "f8"
           },
           "z": {
            "bdata": "AAAAAAAAScAAAAAAAABJwAAAAAAAAElAAAAAAAAASUAAAAAAAABJwAAAAAAAAElAAAAAAAAAScAAAAAAAABJQAAAAAAAAEnAAAAAAAAASUAAAAAAAABJwAAAAAAAAElAAAAAAAAAScAAAAAAAABJQAAAAAAAAEnAAAAAAAAASUAAAAAAAABJwAAAAAAAAElAAAAAAAAAScAAAAAAAABJQAAAAAAAAEnAAAAAAAAASUAAAAAAAABJwAAAAAAAAElAAAAAAAAAScAAAAAAAABJQAAAAAAAAEnAAAAAAAAASUAAAAAAAABJwAAAAAAAAElAAAAAAAAAScAAAAAAAABJQAAAAAAAAEnAAAAAAAAASUA=",
            "dtype": "f8"
           }
          },
          {
           "line": {
            "color": "red",
            "width": 5
           },
           "mode": "lines",
           "name": "Slice at z=-14.59",
           "type": "scatter3d",
           "x": [
            3.061616997868383e-16,
            -1.235911289219907,
            -1.9134171618254485,
            -2.9611721608253605,
            -3.5355339059327373,
            -4.235621414037635,
            -4.619397662556434,
            -4.865235702966411,
            -5,
            -4.754161959590023,
            -4.619397662556434,
            -3.9193101544515367,
            -3.5355339059327386,
            -2.487778906932828,
            -1.9134171618254516,
            -0.6775058726055432,
            -9.184850993605148e-16,
            1.2359112892199076,
            1.91341716182545,
            2.9611721608253605,
            3.535533905932737,
            4.235621414037634,
            4.619397662556432,
            4.865235702966411,
            5,
            4.754161959590023,
            4.619397662556434,
            3.9193101544515363,
            3.5355339059327378,
            2.4877789069328258,
            1.9134171618254492,
            0.6775058726055418,
            3.061616997868383e-16,
            null
           ],
           "y": [
            5,
            4.754161959590023,
            4.619397662556434,
            3.9193101544515363,
            3.5355339059327378,
            2.487778906932826,
            1.9134171618254494,
            0.6775058726055423,
            6.123233995736766e-16,
            -1.2359112892199067,
            -1.9134171618254483,
            -2.9611721608253605,
            -3.5355339059327373,
            -4.2356214140376345,
            -4.619397662556432,
            -4.865235702966411,
            -5,
            -4.754161959590022,
            -4.619397662556433,
            -3.9193101544515363,
            -3.5355339059327386,
            -2.487778906932828,
            -1.913417161825452,
            -0.6775058726055427,
            0,
            1.2359112892199073,
            1.913417161825449,
            2.9611721608253614,
            3.5355339059327378,
            4.235621414037635,
            4.619397662556434,
            4.865235702966411,
            5,
            null
           ],
           "z": [
            -14.591836734693878,
            -14.591836734693885,
            -14.591836734693878,
            -14.591836734693885,
            -14.591836734693878,
            -14.591836734693885,
            -14.591836734693878,
            -14.591836734693885,
            -14.591836734693878,
            -14.591836734693885,
            -14.591836734693878,
            -14.591836734693885,
            -14.591836734693878,
            -14.591836734693885,
            -14.591836734693878,
            -14.591836734693885,
            -14.591836734693878,
            -14.591836734693885,
            -14.591836734693878,
            -14.591836734693885,
            -14.591836734693878,
            -14.591836734693885,
            -14.591836734693878,
            -14.591836734693885,
            -14.591836734693885,
            -14.591836734693885,
            -14.591836734693878,
            -14.591836734693885,
            -14.591836734693878,
            -14.591836734693885,
            -14.591836734693878,
            -14.591836734693885,
            -14.591836734693878,
            null
           ]
          }
         ],
         "name": "frame_18",
         "traces": [
          0,
          1
         ]
        },
        {
         "data": [
          {
           "color": "lightblue",
           "i": {
            "bdata": "AQECAgQEBQUGBgcHCAgJCQoKCwsMDA0NDg4PDxAQERESEhMTFBQVFRYWFxcYGBkZGhobGxwcHR0eHh8fICAhIQ==",
            "dtype": "i1"
           },
           "j": {
            "bdata": "AAQEBQAGBgcACAgJAAoKCwAMDA0ADg4PABAQEQASEhMAFBQVABYWFwAYGBkAGhobABwcHQAeHh8AICAhAAEBAg==",
            "dtype": "i1"
           },
           "k": {
            "bdata": "BAIFAwYFBwMIBwkDCgkLAwwLDQMODQ8DEA8RAxIREwMUExUDFhUXAxgXGQMaGRsDHBsdAx4dHwMgHyEDASECAw==",
            "dtype": "i1"
           },
           "name": "Mesh",
           "opacity": 0.3,
           "type": "mesh3d",
           "x": {
            "bdata": "AAAAAAAAAAAAAAAAAAAUQAAAAAAAABRAAAAAAAAAAABMmH9hQ3oSQEyYf2FDehJAwAofAMZIDEDACh8AxkgMQL1TWlBbnf4/vVNaUFud/j8Jc9m/rw+2PAlz2b+vD7Y8ulNaUFud/r+6U1pQW53+v78KHwDGSAzAvwofAMZIDMBMmH9hQ3oSwEyYf2FDehLAAAAAAAAAFMAAAAAAAAAUwEyYf2FDehLATJh/YUN6EsDCCh8AxkgMwMIKHwDGSAzAyFNaUFud/r/IU1pQW53+v0YW48/Di9C8Rhbjz8OL0LzBU1pQW53+P8FTWlBbnf4/vgofAMZIDEC+Ch8AxkgMQEqYf2FDehJASph/YUN6EkA=",
            "dtype": "f8"
           },
           "y": {
            "bdata": "AAAAAAAAAAAAAAAAAAAAAAAAAAAAAAAAAAAAAAAAAAC8U1pQW53+P7xTWlBbnf4/wAofAMZIDEDACh8AxkgMQEyYf2FDehJATJh/YUN6EkAAAAAAAAAUQAAAAAAAABRATJh/YUN6EkBMmH9hQ3oSQMAKHwDGSAxAwAofAMZIDEC+U1pQW53+P75TWlBbnf4/CXPZv68PxjwJc9m/rw/GPLlTWlBbnf6/uVNaUFud/r+/Ch8AxkgMwL8KHwDGSAzASph/YUN6EsBKmH9hQ3oSwAAAAAAAABTAAAAAAAAAFMBLmH9hQ3oSwEuYf2FDehLAwgofAMZIDMDCCh8AxkgMwMpTWlBbnf6/ylNaUFud/r8=",
            "dtype": "f8"
           },
           "z": {
            "bdata": "AAAAAAAAScAAAAAAAABJwAAAAAAAAElAAAAAAAAASUAAAAAAAABJwAAAAAAAAElAAAAAAAAAScAAAAAAAABJQAAAAAAAAEnAAAAAAAAASUAAAAAAAABJwAAAAAAAAElAAAAAAAAAScAAAAAAAABJQAAAAAAAAEnAAAAAAAAASUAAAAAAAABJwAAAAAAAAElAAAAAAAAAScAAAAAAAABJQAAAAAAAAEnAAAAAAAAASUAAAAAAAABJwAAAAAAAAElAAAAAAAAAScAAAAAAAABJQAAAAAAAAEnAAAAAAAAASUAAAAAAAABJwAAAAAAAAElAAAAAAAAAScAAAAAAAABJQAAAAAAAAEnAAAAAAAAASUA=",
            "dtype": "f8"
           }
          },
          {
           "line": {
            "color": "red",
            "width": 5
           },
           "mode": "lines",
           "name": "Slice at z=-12.35",
           "type": "scatter3d",
           "x": [
            3.061616997868383e-16,
            -1.1929570264034173,
            -1.9134171618254485,
            -2.9247572951413194,
            -3.5355339059327373,
            -4.211289778684859,
            -4.619397662556434,
            -4.856691568860535,
            -5,
            -4.762706093695899,
            -4.619397662556434,
            -3.943641789804314,
            -3.5355339059327386,
            -2.5241937726168686,
            -1.9134171618254516,
            -0.7204601354220328,
            -9.184850993605148e-16,
            1.192957026403418,
            1.91341716182545,
            2.92475729514132,
            3.535533905932737,
            4.211289778684857,
            4.619397662556432,
            4.856691568860534,
            5,
            4.762706093695899,
            4.619397662556434,
            3.943641789804313,
            3.5355339059327378,
            2.524193772616867,
            1.9134171618254492,
            0.7204601354220315,
            3.061616997868383e-16,
            null
           ],
           "y": [
            5,
            4.762706093695899,
            4.619397662556434,
            3.943641789804313,
            3.5355339059327378,
            2.5241937726168673,
            1.9134171618254494,
            0.7204601354220319,
            6.123233995736766e-16,
            -1.192957026403417,
            -1.9134171618254483,
            -2.924757295141319,
            -3.5355339059327373,
            -4.211289778684857,
            -4.619397662556432,
            -4.856691568860534,
            -5,
            -4.762706093695899,
            -4.619397662556433,
            -3.9436417898043135,
            -3.5355339059327386,
            -2.5241937726168695,
            -1.913417161825452,
            -0.7204601354220324,
            0,
            1.1929570264034177,
            1.913417161825449,
            2.92475729514132,
            3.5355339059327378,
            4.211289778684859,
            4.619397662556434,
            4.856691568860535,
            5,
            null
           ],
           "z": [
            -12.34693877551021,
            -12.34693877551021,
            -12.34693877551021,
            -12.34693877551021,
            -12.34693877551021,
            -12.34693877551021,
            -12.34693877551021,
            -12.34693877551021,
            -12.34693877551021,
            -12.34693877551021,
            -12.34693877551021,
            -12.34693877551021,
            -12.34693877551021,
            -12.34693877551021,
            -12.34693877551021,
            -12.34693877551021,
            -12.34693877551021,
            -12.34693877551021,
            -12.34693877551021,
            -12.34693877551021,
            -12.34693877551021,
            -12.34693877551021,
            -12.34693877551021,
            -12.34693877551021,
            -12.34693877551021,
            -12.34693877551021,
            -12.34693877551021,
            -12.34693877551021,
            -12.34693877551021,
            -12.34693877551021,
            -12.34693877551021,
            -12.34693877551021,
            -12.34693877551021,
            null
           ]
          }
         ],
         "name": "frame_19",
         "traces": [
          0,
          1
         ]
        },
        {
         "data": [
          {
           "color": "lightblue",
           "i": {
            "bdata": "AQECAgQEBQUGBgcHCAgJCQoKCwsMDA0NDg4PDxAQERESEhMTFBQVFRYWFxcYGBkZGhobGxwcHR0eHh8fICAhIQ==",
            "dtype": "i1"
           },
           "j": {
            "bdata": "AAQEBQAGBgcACAgJAAoKCwAMDA0ADg4PABAQEQASEhMAFBQVABYWFwAYGBkAGhobABwcHQAeHh8AICAhAAEBAg==",
            "dtype": "i1"
           },
           "k": {
            "bdata": "BAIFAwYFBwMIBwkDCgkLAwwLDQMODQ8DEA8RAxIREwMUExUDFhUXAxgXGQMaGRsDHBsdAx4dHwMgHyEDASECAw==",
            "dtype": "i1"
           },
           "name": "Mesh",
           "opacity": 0.3,
           "type": "mesh3d",
           "x": {
            "bdata": "AAAAAAAAAAAAAAAAAAAUQAAAAAAAABRAAAAAAAAAAABMmH9hQ3oSQEyYf2FDehJAwAofAMZIDEDACh8AxkgMQL1TWlBbnf4/vVNaUFud/j8Jc9m/rw+2PAlz2b+vD7Y8ulNaUFud/r+6U1pQW53+v78KHwDGSAzAvwofAMZIDMBMmH9hQ3oSwEyYf2FDehLAAAAAAAAAFMAAAAAAAAAUwEyYf2FDehLATJh/YUN6EsDCCh8AxkgMwMIKHwDGSAzAyFNaUFud/r/IU1pQW53+v0YW48/Di9C8Rhbjz8OL0LzBU1pQW53+P8FTWlBbnf4/vgofAMZIDEC+Ch8AxkgMQEqYf2FDehJASph/YUN6EkA=",
            "dtype": "f8"
           },
           "y": {
            "bdata": "AAAAAAAAAAAAAAAAAAAAAAAAAAAAAAAAAAAAAAAAAAC8U1pQW53+P7xTWlBbnf4/wAofAMZIDEDACh8AxkgMQEyYf2FDehJATJh/YUN6EkAAAAAAAAAUQAAAAAAAABRATJh/YUN6EkBMmH9hQ3oSQMAKHwDGSAxAwAofAMZIDEC+U1pQW53+P75TWlBbnf4/CXPZv68PxjwJc9m/rw/GPLlTWlBbnf6/uVNaUFud/r+/Ch8AxkgMwL8KHwDGSAzASph/YUN6EsBKmH9hQ3oSwAAAAAAAABTAAAAAAAAAFMBLmH9hQ3oSwEuYf2FDehLAwgofAMZIDMDCCh8AxkgMwMpTWlBbnf6/ylNaUFud/r8=",
            "dtype": "f8"
           },
           "z": {
            "bdata": "AAAAAAAAScAAAAAAAABJwAAAAAAAAElAAAAAAAAASUAAAAAAAABJwAAAAAAAAElAAAAAAAAAScAAAAAAAABJQAAAAAAAAEnAAAAAAAAASUAAAAAAAABJwAAAAAAAAElAAAAAAAAAScAAAAAAAABJQAAAAAAAAEnAAAAAAAAASUAAAAAAAABJwAAAAAAAAElAAAAAAAAAScAAAAAAAABJQAAAAAAAAEnAAAAAAAAASUAAAAAAAABJwAAAAAAAAElAAAAAAAAAScAAAAAAAABJQAAAAAAAAEnAAAAAAAAASUAAAAAAAABJwAAAAAAAAElAAAAAAAAAScAAAAAAAABJQAAAAAAAAEnAAAAAAAAASUA=",
            "dtype": "f8"
           }
          },
          {
           "line": {
            "color": "red",
            "width": 5
           },
           "mode": "lines",
           "name": "Slice at z=-10.10",
           "type": "scatter3d",
           "x": [
            -9.184850993605148e-16,
            -0.7634143982385224,
            -1.9134171618254516,
            -2.56060863830091,
            -3.5355339059327386,
            -3.9679734251570906,
            -4.619397662556434,
            -4.771250227801775,
            -5,
            -4.848147434754659,
            -4.619397662556434,
            -4.186958143332082,
            -3.5355339059327373,
            -2.8883424294572784,
            -1.9134171618254485,
            -1.1500027635869277,
            3.061616997868383e-16,
            0.7634143982385211,
            1.9134171618254492,
            2.5606086383009083,
            3.5355339059327378,
            3.9679734251570897,
            4.619397662556434,
            4.771250227801775,
            5,
            4.848147434754658,
            4.619397662556432,
            4.18695814333208,
            3.535533905932737,
            2.8883424294572784,
            1.91341716182545,
            1.1500027635869283,
            -9.184850993605148e-16,
            null
           ],
           "y": [
            -5,
            -4.848147434754658,
            -4.619397662556432,
            -4.18695814333208,
            -3.5355339059327373,
            -2.8883424294572784,
            -1.9134171618254483,
            -1.1500027635869274,
            6.123233995736766e-16,
            0.7634143982385215,
            1.9134171618254494,
            2.5606086383009083,
            3.5355339059327378,
            3.9679734251570897,
            4.619397662556434,
            4.771250227801775,
            5,
            4.848147434754659,
            4.619397662556434,
            4.186958143332082,
            3.5355339059327378,
            2.888342429457279,
            1.913417161825449,
            1.150002763586928,
            0,
            -0.763414398238522,
            -1.913417161825452,
            -2.56060863830091,
            -3.5355339059327386,
            -3.96797342515709,
            -4.619397662556433,
            -4.771250227801774,
            -5,
            null
           ],
           "z": [
            -10.102040816326536,
            -10.102040816326536,
            -10.102040816326536,
            -10.102040816326536,
            -10.102040816326536,
            -10.102040816326536,
            -10.102040816326536,
            -10.102040816326536,
            -10.102040816326536,
            -10.102040816326536,
            -10.102040816326536,
            -10.102040816326536,
            -10.102040816326536,
            -10.102040816326536,
            -10.102040816326536,
            -10.102040816326536,
            -10.102040816326536,
            -10.102040816326536,
            -10.102040816326536,
            -10.102040816326536,
            -10.102040816326536,
            -10.102040816326536,
            -10.102040816326536,
            -10.102040816326536,
            -10.102040816326536,
            -10.102040816326536,
            -10.102040816326536,
            -10.102040816326536,
            -10.102040816326536,
            -10.102040816326536,
            -10.102040816326536,
            -10.102040816326536,
            -10.102040816326536,
            null
           ]
          }
         ],
         "name": "frame_20",
         "traces": [
          0,
          1
         ]
        },
        {
         "data": [
          {
           "color": "lightblue",
           "i": {
            "bdata": "AQECAgQEBQUGBgcHCAgJCQoKCwsMDA0NDg4PDxAQERESEhMTFBQVFRYWFxcYGBkZGhobGxwcHR0eHh8fICAhIQ==",
            "dtype": "i1"
           },
           "j": {
            "bdata": "AAQEBQAGBgcACAgJAAoKCwAMDA0ADg4PABAQEQASEhMAFBQVABYWFwAYGBkAGhobABwcHQAeHh8AICAhAAEBAg==",
            "dtype": "i1"
           },
           "k": {
            "bdata": "BAIFAwYFBwMIBwkDCgkLAwwLDQMODQ8DEA8RAxIREwMUExUDFhUXAxgXGQMaGRsDHBsdAx4dHwMgHyEDASECAw==",
            "dtype": "i1"
           },
           "name": "Mesh",
           "opacity": 0.3,
           "type": "mesh3d",
           "x": {
            "bdata": "AAAAAAAAAAAAAAAAAAAUQAAAAAAAABRAAAAAAAAAAABMmH9hQ3oSQEyYf2FDehJAwAofAMZIDEDACh8AxkgMQL1TWlBbnf4/vVNaUFud/j8Jc9m/rw+2PAlz2b+vD7Y8ulNaUFud/r+6U1pQW53+v78KHwDGSAzAvwofAMZIDMBMmH9hQ3oSwEyYf2FDehLAAAAAAAAAFMAAAAAAAAAUwEyYf2FDehLATJh/YUN6EsDCCh8AxkgMwMIKHwDGSAzAyFNaUFud/r/IU1pQW53+v0YW48/Di9C8Rhbjz8OL0LzBU1pQW53+P8FTWlBbnf4/vgofAMZIDEC+Ch8AxkgMQEqYf2FDehJASph/YUN6EkA=",
            "dtype": "f8"
           },
           "y": {
            "bdata": "AAAAAAAAAAAAAAAAAAAAAAAAAAAAAAAAAAAAAAAAAAC8U1pQW53+P7xTWlBbnf4/wAofAMZIDEDACh8AxkgMQEyYf2FDehJATJh/YUN6EkAAAAAAAAAUQAAAAAAAABRATJh/YUN6EkBMmH9hQ3oSQMAKHwDGSAxAwAofAMZIDEC+U1pQW53+P75TWlBbnf4/CXPZv68PxjwJc9m/rw/GPLlTWlBbnf6/uVNaUFud/r+/Ch8AxkgMwL8KHwDGSAzASph/YUN6EsBKmH9hQ3oSwAAAAAAAABTAAAAAAAAAFMBLmH9hQ3oSwEuYf2FDehLAwgofAMZIDMDCCh8AxkgMwMpTWlBbnf6/ylNaUFud/r8=",
            "dtype": "f8"
           },
           "z": {
            "bdata": "AAAAAAAAScAAAAAAAABJwAAAAAAAAElAAAAAAAAASUAAAAAAAABJwAAAAAAAAElAAAAAAAAAScAAAAAAAABJQAAAAAAAAEnAAAAAAAAASUAAAAAAAABJwAAAAAAAAElAAAAAAAAAScAAAAAAAABJQAAAAAAAAEnAAAAAAAAASUAAAAAAAABJwAAAAAAAAElAAAAAAAAAScAAAAAAAABJQAAAAAAAAEnAAAAAAAAASUAAAAAAAABJwAAAAAAAAElAAAAAAAAAScAAAAAAAABJQAAAAAAAAEnAAAAAAAAASUAAAAAAAABJwAAAAAAAAElAAAAAAAAAScAAAAAAAABJQAAAAAAAAEnAAAAAAAAASUA=",
            "dtype": "f8"
           }
          },
          {
           "line": {
            "color": "red",
            "width": 5
           },
           "mode": "lines",
           "name": "Slice at z=-7.86",
           "type": "scatter3d",
           "x": [
            -9.184850993605148e-16,
            -0.806368661055012,
            -1.9134171618254516,
            -2.5970235039849507,
            -3.5355339059327386,
            -3.9923050605098673,
            -4.619397662556434,
            -4.779794361907651,
            -5,
            -4.839603300648783,
            -4.619397662556434,
            -4.162626507979304,
            -3.5355339059327373,
            -2.8519275637732373,
            -1.9134171618254485,
            -1.107048500770438,
            3.061616997868383e-16,
            0.8063686610550107,
            1.9134171618254492,
            2.5970235039849494,
            3.5355339059327378,
            3.992305060509867,
            4.619397662556434,
            4.779794361907651,
            5,
            4.839603300648782,
            4.619397662556432,
            4.1626265079793034,
            3.535533905932737,
            2.8519275637732378,
            1.91341716182545,
            1.1070485007704387,
            -9.184850993605148e-16,
            null
           ],
           "y": [
            -5,
            -4.839603300648782,
            -4.619397662556432,
            -4.1626265079793034,
            -3.5355339059327373,
            -2.851927563773237,
            -1.9134171618254483,
            -1.1070485007704378,
            6.123233995736766e-16,
            0.8063686610550111,
            1.9134171618254494,
            2.5970235039849494,
            3.5355339059327378,
            3.992305060509867,
            4.619397662556434,
            4.779794361907651,
            5,
            4.839603300648783,
            4.619397662556434,
            4.162626507979305,
            3.5355339059327378,
            2.8519275637732378,
            1.913417161825449,
            1.1070485007704385,
            0,
            -0.8063686610550118,
            -1.913417161825452,
            -2.5970235039849516,
            -3.5355339059327386,
            -3.992305060509867,
            -4.619397662556433,
            -4.77979436190765,
            -5,
            null
           ],
           "z": [
            -7.857142857142861,
            -7.857142857142861,
            -7.857142857142861,
            -7.857142857142861,
            -7.857142857142861,
            -7.857142857142861,
            -7.857142857142861,
            -7.857142857142861,
            -7.857142857142861,
            -7.857142857142861,
            -7.857142857142861,
            -7.857142857142861,
            -7.857142857142861,
            -7.857142857142861,
            -7.857142857142861,
            -7.857142857142861,
            -7.857142857142861,
            -7.857142857142861,
            -7.857142857142861,
            -7.857142857142861,
            -7.857142857142861,
            -7.857142857142861,
            -7.857142857142861,
            -7.857142857142861,
            -7.857142857142861,
            -7.857142857142861,
            -7.857142857142861,
            -7.857142857142861,
            -7.857142857142861,
            -7.857142857142861,
            -7.857142857142861,
            -7.857142857142861,
            -7.857142857142861,
            null
           ]
          }
         ],
         "name": "frame_21",
         "traces": [
          0,
          1
         ]
        },
        {
         "data": [
          {
           "color": "lightblue",
           "i": {
            "bdata": "AQECAgQEBQUGBgcHCAgJCQoKCwsMDA0NDg4PDxAQERESEhMTFBQVFRYWFxcYGBkZGhobGxwcHR0eHh8fICAhIQ==",
            "dtype": "i1"
           },
           "j": {
            "bdata": "AAQEBQAGBgcACAgJAAoKCwAMDA0ADg4PABAQEQASEhMAFBQVABYWFwAYGBkAGhobABwcHQAeHh8AICAhAAEBAg==",
            "dtype": "i1"
           },
           "k": {
            "bdata": "BAIFAwYFBwMIBwkDCgkLAwwLDQMODQ8DEA8RAxIREwMUExUDFhUXAxgXGQMaGRsDHBsdAx4dHwMgHyEDASECAw==",
            "dtype": "i1"
           },
           "name": "Mesh",
           "opacity": 0.3,
           "type": "mesh3d",
           "x": {
            "bdata": "AAAAAAAAAAAAAAAAAAAUQAAAAAAAABRAAAAAAAAAAABMmH9hQ3oSQEyYf2FDehJAwAofAMZIDEDACh8AxkgMQL1TWlBbnf4/vVNaUFud/j8Jc9m/rw+2PAlz2b+vD7Y8ulNaUFud/r+6U1pQW53+v78KHwDGSAzAvwofAMZIDMBMmH9hQ3oSwEyYf2FDehLAAAAAAAAAFMAAAAAAAAAUwEyYf2FDehLATJh/YUN6EsDCCh8AxkgMwMIKHwDGSAzAyFNaUFud/r/IU1pQW53+v0YW48/Di9C8Rhbjz8OL0LzBU1pQW53+P8FTWlBbnf4/vgofAMZIDEC+Ch8AxkgMQEqYf2FDehJASph/YUN6EkA=",
            "dtype": "f8"
           },
           "y": {
            "bdata": "AAAAAAAAAAAAAAAAAAAAAAAAAAAAAAAAAAAAAAAAAAC8U1pQW53+P7xTWlBbnf4/wAofAMZIDEDACh8AxkgMQEyYf2FDehJATJh/YUN6EkAAAAAAAAAUQAAAAAAAABRATJh/YUN6EkBMmH9hQ3oSQMAKHwDGSAxAwAofAMZIDEC+U1pQW53+P75TWlBbnf4/CXPZv68PxjwJc9m/rw/GPLlTWlBbnf6/uVNaUFud/r+/Ch8AxkgMwL8KHwDGSAzASph/YUN6EsBKmH9hQ3oSwAAAAAAAABTAAAAAAAAAFMBLmH9hQ3oSwEuYf2FDehLAwgofAMZIDMDCCh8AxkgMwMpTWlBbnf6/ylNaUFud/r8=",
            "dtype": "f8"
           },
           "z": {
            "bdata": "AAAAAAAAScAAAAAAAABJwAAAAAAAAElAAAAAAAAASUAAAAAAAABJwAAAAAAAAElAAAAAAAAAScAAAAAAAABJQAAAAAAAAEnAAAAAAAAASUAAAAAAAABJwAAAAAAAAElAAAAAAAAAScAAAAAAAABJQAAAAAAAAEnAAAAAAAAASUAAAAAAAABJwAAAAAAAAElAAAAAAAAAScAAAAAAAABJQAAAAAAAAEnAAAAAAAAASUAAAAAAAABJwAAAAAAAAElAAAAAAAAAScAAAAAAAABJQAAAAAAAAEnAAAAAAAAASUAAAAAAAABJwAAAAAAAAElAAAAAAAAAScAAAAAAAABJQAAAAAAAAEnAAAAAAAAASUA=",
            "dtype": "f8"
           }
          },
          {
           "line": {
            "color": "red",
            "width": 5
           },
           "mode": "lines",
           "name": "Slice at z=-5.61",
           "type": "scatter3d",
           "x": [
            -9.184850993605148e-16,
            -0.8493229238715019,
            -1.9134171618254516,
            -2.6334383696689923,
            -3.5355339059327386,
            -4.016636695862644,
            -4.619397662556434,
            -4.788338496013527,
            -5,
            -4.831059166542907,
            -4.619397662556434,
            -4.138294872626528,
            -3.5355339059327373,
            -2.815512698089196,
            -1.9134171618254485,
            -1.0640942379539484,
            3.061616997868383e-16,
            0.8493229238715005,
            1.9134171618254492,
            2.6334383696689905,
            3.5355339059327378,
            4.016636695862644,
            4.619397662556434,
            4.788338496013527,
            5,
            4.831059166542906,
            4.619397662556432,
            4.138294872626527,
            3.535533905932737,
            2.8155126980891962,
            1.91341716182545,
            1.0640942379539489,
            -9.184850993605148e-16,
            null
           ],
           "y": [
            -5,
            -4.831059166542906,
            -4.619397662556432,
            -4.138294872626527,
            -3.5355339059327373,
            -2.815512698089196,
            -1.9134171618254483,
            -1.064094237953948,
            6.123233995736766e-16,
            0.8493229238715008,
            1.9134171618254494,
            2.6334383696689905,
            3.5355339059327378,
            4.016636695862644,
            4.619397662556434,
            4.788338496013527,
            5,
            4.831059166542907,
            4.619397662556434,
            4.138294872626528,
            3.5355339059327378,
            2.8155126980891962,
            1.913417161825449,
            1.0640942379539486,
            0,
            -0.8493229238715017,
            -1.913417161825452,
            -2.6334383696689927,
            -3.5355339059327386,
            -4.016636695862644,
            -4.619397662556433,
            -4.788338496013527,
            -5,
            null
           ],
           "z": [
            -5.612244897959187,
            -5.612244897959187,
            -5.612244897959187,
            -5.612244897959187,
            -5.612244897959187,
            -5.612244897959187,
            -5.612244897959187,
            -5.612244897959187,
            -5.612244897959187,
            -5.612244897959187,
            -5.612244897959187,
            -5.612244897959187,
            -5.612244897959187,
            -5.612244897959187,
            -5.612244897959187,
            -5.612244897959187,
            -5.612244897959187,
            -5.612244897959187,
            -5.612244897959187,
            -5.612244897959187,
            -5.612244897959187,
            -5.612244897959187,
            -5.612244897959187,
            -5.612244897959187,
            -5.612244897959187,
            -5.612244897959187,
            -5.612244897959187,
            -5.612244897959187,
            -5.612244897959187,
            -5.612244897959187,
            -5.612244897959187,
            -5.612244897959187,
            -5.612244897959187,
            null
           ]
          }
         ],
         "name": "frame_22",
         "traces": [
          0,
          1
         ]
        },
        {
         "data": [
          {
           "color": "lightblue",
           "i": {
            "bdata": "AQECAgQEBQUGBgcHCAgJCQoKCwsMDA0NDg4PDxAQERESEhMTFBQVFRYWFxcYGBkZGhobGxwcHR0eHh8fICAhIQ==",
            "dtype": "i1"
           },
           "j": {
            "bdata": "AAQEBQAGBgcACAgJAAoKCwAMDA0ADg4PABAQEQASEhMAFBQVABYWFwAYGBkAGhobABwcHQAeHh8AICAhAAEBAg==",
            "dtype": "i1"
           },
           "k": {
            "bdata": "BAIFAwYFBwMIBwkDCgkLAwwLDQMODQ8DEA8RAxIREwMUExUDFhUXAxgXGQMaGRsDHBsdAx4dHwMgHyEDASECAw==",
            "dtype": "i1"
           },
           "name": "Mesh",
           "opacity": 0.3,
           "type": "mesh3d",
           "x": {
            "bdata": "AAAAAAAAAAAAAAAAAAAUQAAAAAAAABRAAAAAAAAAAABMmH9hQ3oSQEyYf2FDehJAwAofAMZIDEDACh8AxkgMQL1TWlBbnf4/vVNaUFud/j8Jc9m/rw+2PAlz2b+vD7Y8ulNaUFud/r+6U1pQW53+v78KHwDGSAzAvwofAMZIDMBMmH9hQ3oSwEyYf2FDehLAAAAAAAAAFMAAAAAAAAAUwEyYf2FDehLATJh/YUN6EsDCCh8AxkgMwMIKHwDGSAzAyFNaUFud/r/IU1pQW53+v0YW48/Di9C8Rhbjz8OL0LzBU1pQW53+P8FTWlBbnf4/vgofAMZIDEC+Ch8AxkgMQEqYf2FDehJASph/YUN6EkA=",
            "dtype": "f8"
           },
           "y": {
            "bdata": "AAAAAAAAAAAAAAAAAAAAAAAAAAAAAAAAAAAAAAAAAAC8U1pQW53+P7xTWlBbnf4/wAofAMZIDEDACh8AxkgMQEyYf2FDehJATJh/YUN6EkAAAAAAAAAUQAAAAAAAABRATJh/YUN6EkBMmH9hQ3oSQMAKHwDGSAxAwAofAMZIDEC+U1pQW53+P75TWlBbnf4/CXPZv68PxjwJc9m/rw/GPLlTWlBbnf6/uVNaUFud/r+/Ch8AxkgMwL8KHwDGSAzASph/YUN6EsBKmH9hQ3oSwAAAAAAAABTAAAAAAAAAFMBLmH9hQ3oSwEuYf2FDehLAwgofAMZIDMDCCh8AxkgMwMpTWlBbnf6/ylNaUFud/r8=",
            "dtype": "f8"
           },
           "z": {
            "bdata": "AAAAAAAAScAAAAAAAABJwAAAAAAAAElAAAAAAAAASUAAAAAAAABJwAAAAAAAAElAAAAAAAAAScAAAAAAAABJQAAAAAAAAEnAAAAAAAAASUAAAAAAAABJwAAAAAAAAElAAAAAAAAAScAAAAAAAABJQAAAAAAAAEnAAAAAAAAASUAAAAAAAABJwAAAAAAAAElAAAAAAAAAScAAAAAAAABJQAAAAAAAAEnAAAAAAAAASUAAAAAAAABJwAAAAAAAAElAAAAAAAAAScAAAAAAAABJQAAAAAAAAEnAAAAAAAAASUAAAAAAAABJwAAAAAAAAElAAAAAAAAAScAAAAAAAABJQAAAAAAAAEnAAAAAAAAASUA=",
            "dtype": "f8"
           }
          },
          {
           "line": {
            "color": "red",
            "width": 5
           },
           "mode": "lines",
           "name": "Slice at z=-3.37",
           "type": "scatter3d",
           "x": [
            -9.184850993605148e-16,
            -0.8922771866879915,
            -1.9134171618254516,
            -2.6698532353530333,
            -3.5355339059327386,
            -4.040968331215421,
            -4.619397662556434,
            -4.796882630119403,
            -5,
            -4.822515032437031,
            -4.619397662556434,
            -4.113963237273751,
            -3.5355339059327373,
            -2.7790978324051547,
            -1.9134171618254485,
            -1.0211399751374588,
            3.061616997868383e-16,
            0.8922771866879902,
            1.9134171618254492,
            2.6698532353530315,
            3.5355339059327378,
            4.040968331215421,
            4.619397662556434,
            4.796882630119403,
            5,
            4.82251503243703,
            4.619397662556432,
            4.11396323727375,
            3.535533905932737,
            2.779097832405155,
            1.91341716182545,
            1.0211399751374592,
            -9.184850993605148e-16,
            null
           ],
           "y": [
            -5,
            -4.82251503243703,
            -4.619397662556432,
            -4.11396323727375,
            -3.5355339059327373,
            -2.7790978324051547,
            -1.9134171618254483,
            -1.0211399751374584,
            6.123233995736766e-16,
            0.8922771866879904,
            1.9134171618254494,
            2.669853235353032,
            3.5355339059327378,
            4.040968331215421,
            4.619397662556434,
            4.796882630119403,
            5,
            4.822515032437031,
            4.619397662556434,
            4.113963237273751,
            3.5355339059327378,
            2.779097832405155,
            1.913417161825449,
            1.021139975137459,
            0,
            -0.8922771866879913,
            -1.913417161825452,
            -2.6698532353530338,
            -3.5355339059327386,
            -4.040968331215421,
            -4.619397662556433,
            -4.796882630119402,
            -5,
            null
           ],
           "z": [
            -3.367346938775512,
            -3.367346938775512,
            -3.367346938775512,
            -3.367346938775512,
            -3.367346938775512,
            -3.367346938775512,
            -3.367346938775512,
            -3.367346938775512,
            -3.367346938775512,
            -3.367346938775512,
            -3.367346938775512,
            -3.367346938775512,
            -3.367346938775512,
            -3.367346938775512,
            -3.367346938775512,
            -3.367346938775512,
            -3.367346938775512,
            -3.367346938775512,
            -3.367346938775512,
            -3.367346938775512,
            -3.367346938775512,
            -3.367346938775512,
            -3.367346938775512,
            -3.367346938775512,
            -3.367346938775512,
            -3.367346938775512,
            -3.367346938775512,
            -3.367346938775512,
            -3.367346938775512,
            -3.367346938775512,
            -3.367346938775512,
            -3.367346938775512,
            -3.367346938775512,
            null
           ]
          }
         ],
         "name": "frame_23",
         "traces": [
          0,
          1
         ]
        },
        {
         "data": [
          {
           "color": "lightblue",
           "i": {
            "bdata": "AQECAgQEBQUGBgcHCAgJCQoKCwsMDA0NDg4PDxAQERESEhMTFBQVFRYWFxcYGBkZGhobGxwcHR0eHh8fICAhIQ==",
            "dtype": "i1"
           },
           "j": {
            "bdata": "AAQEBQAGBgcACAgJAAoKCwAMDA0ADg4PABAQEQASEhMAFBQVABYWFwAYGBkAGhobABwcHQAeHh8AICAhAAEBAg==",
            "dtype": "i1"
           },
           "k": {
            "bdata": "BAIFAwYFBwMIBwkDCgkLAwwLDQMODQ8DEA8RAxIREwMUExUDFhUXAxgXGQMaGRsDHBsdAx4dHwMgHyEDASECAw==",
            "dtype": "i1"
           },
           "name": "Mesh",
           "opacity": 0.3,
           "type": "mesh3d",
           "x": {
            "bdata": "AAAAAAAAAAAAAAAAAAAUQAAAAAAAABRAAAAAAAAAAABMmH9hQ3oSQEyYf2FDehJAwAofAMZIDEDACh8AxkgMQL1TWlBbnf4/vVNaUFud/j8Jc9m/rw+2PAlz2b+vD7Y8ulNaUFud/r+6U1pQW53+v78KHwDGSAzAvwofAMZIDMBMmH9hQ3oSwEyYf2FDehLAAAAAAAAAFMAAAAAAAAAUwEyYf2FDehLATJh/YUN6EsDCCh8AxkgMwMIKHwDGSAzAyFNaUFud/r/IU1pQW53+v0YW48/Di9C8Rhbjz8OL0LzBU1pQW53+P8FTWlBbnf4/vgofAMZIDEC+Ch8AxkgMQEqYf2FDehJASph/YUN6EkA=",
            "dtype": "f8"
           },
           "y": {
            "bdata": "AAAAAAAAAAAAAAAAAAAAAAAAAAAAAAAAAAAAAAAAAAC8U1pQW53+P7xTWlBbnf4/wAofAMZIDEDACh8AxkgMQEyYf2FDehJATJh/YUN6EkAAAAAAAAAUQAAAAAAAABRATJh/YUN6EkBMmH9hQ3oSQMAKHwDGSAxAwAofAMZIDEC+U1pQW53+P75TWlBbnf4/CXPZv68PxjwJc9m/rw/GPLlTWlBbnf6/uVNaUFud/r+/Ch8AxkgMwL8KHwDGSAzASph/YUN6EsBKmH9hQ3oSwAAAAAAAABTAAAAAAAAAFMBLmH9hQ3oSwEuYf2FDehLAwgofAMZIDMDCCh8AxkgMwMpTWlBbnf6/ylNaUFud/r8=",
            "dtype": "f8"
           },
           "z": {
            "bdata": "AAAAAAAAScAAAAAAAABJwAAAAAAAAElAAAAAAAAASUAAAAAAAABJwAAAAAAAAElAAAAAAAAAScAAAAAAAABJQAAAAAAAAEnAAAAAAAAASUAAAAAAAABJwAAAAAAAAElAAAAAAAAAScAAAAAAAABJQAAAAAAAAEnAAAAAAAAASUAAAAAAAABJwAAAAAAAAElAAAAAAAAAScAAAAAAAABJQAAAAAAAAEnAAAAAAAAASUAAAAAAAABJwAAAAAAAAElAAAAAAAAAScAAAAAAAABJQAAAAAAAAEnAAAAAAAAASUAAAAAAAABJwAAAAAAAAElAAAAAAAAAScAAAAAAAABJQAAAAAAAAEnAAAAAAAAASUA=",
            "dtype": "f8"
           }
          },
          {
           "line": {
            "color": "red",
            "width": 5
           },
           "mode": "lines",
           "name": "Slice at z=-1.12",
           "type": "scatter3d",
           "x": [
            -9.184850993605148e-16,
            -0.9352314495044814,
            -1.9134171618254516,
            -2.7062681010370744,
            -3.5355339059327386,
            -4.0652999665681975,
            -4.619397662556434,
            -4.805426764225279,
            -5,
            -4.813970898331155,
            -4.619397662556434,
            -4.089631601920974,
            -3.5355339059327373,
            -2.7426829667211137,
            -1.9134171618254485,
            -0.9781857123209688,
            3.061616997868383e-16,
            0.9352314495044799,
            1.9134171618254492,
            2.706268101037073,
            3.5355339059327378,
            4.0652999665681975,
            4.619397662556434,
            4.805426764225279,
            5,
            4.813970898331154,
            4.619397662556432,
            4.089631601920972,
            3.535533905932737,
            2.742682966721114,
            1.91341716182545,
            0.9781857123209693,
            -9.184850993605148e-16,
            null
           ],
           "y": [
            -5,
            -4.813970898331154,
            -4.619397662556432,
            -4.089631601920973,
            -3.5355339059327373,
            -2.7426829667211132,
            -1.9134171618254483,
            -0.9781857123209686,
            6.123233995736766e-16,
            0.9352314495044802,
            1.9134171618254494,
            2.706268101037073,
            3.5355339059327378,
            4.0652999665681975,
            4.619397662556434,
            4.805426764225279,
            5,
            4.813970898331155,
            4.619397662556434,
            4.089631601920974,
            3.5355339059327378,
            2.742682966721114,
            1.913417161825449,
            0.9781857123209693,
            0,
            -0.9352314495044811,
            -1.913417161825452,
            -2.706268101037075,
            -3.5355339059327386,
            -4.0652999665681975,
            -4.619397662556433,
            -4.805426764225278,
            -5,
            null
           ],
           "z": [
            -1.1224489795918373,
            -1.1224489795918373,
            -1.1224489795918373,
            -1.1224489795918373,
            -1.1224489795918373,
            -1.1224489795918373,
            -1.1224489795918373,
            -1.1224489795918373,
            -1.1224489795918373,
            -1.1224489795918373,
            -1.1224489795918373,
            -1.1224489795918373,
            -1.1224489795918373,
            -1.1224489795918373,
            -1.1224489795918373,
            -1.1224489795918373,
            -1.1224489795918373,
            -1.1224489795918373,
            -1.1224489795918373,
            -1.1224489795918373,
            -1.1224489795918373,
            -1.1224489795918373,
            -1.1224489795918373,
            -1.1224489795918373,
            -1.1224489795918373,
            -1.1224489795918373,
            -1.1224489795918373,
            -1.1224489795918373,
            -1.1224489795918373,
            -1.1224489795918373,
            -1.1224489795918373,
            -1.1224489795918373,
            -1.1224489795918373,
            null
           ]
          }
         ],
         "name": "frame_24",
         "traces": [
          0,
          1
         ]
        },
        {
         "data": [
          {
           "color": "lightblue",
           "i": {
            "bdata": "AQECAgQEBQUGBgcHCAgJCQoKCwsMDA0NDg4PDxAQERESEhMTFBQVFRYWFxcYGBkZGhobGxwcHR0eHh8fICAhIQ==",
            "dtype": "i1"
           },
           "j": {
            "bdata": "AAQEBQAGBgcACAgJAAoKCwAMDA0ADg4PABAQEQASEhMAFBQVABYWFwAYGBkAGhobABwcHQAeHh8AICAhAAEBAg==",
            "dtype": "i1"
           },
           "k": {
            "bdata": "BAIFAwYFBwMIBwkDCgkLAwwLDQMODQ8DEA8RAxIREwMUExUDFhUXAxgXGQMaGRsDHBsdAx4dHwMgHyEDASECAw==",
            "dtype": "i1"
           },
           "name": "Mesh",
           "opacity": 0.3,
           "type": "mesh3d",
           "x": {
            "bdata": "AAAAAAAAAAAAAAAAAAAUQAAAAAAAABRAAAAAAAAAAABMmH9hQ3oSQEyYf2FDehJAwAofAMZIDEDACh8AxkgMQL1TWlBbnf4/vVNaUFud/j8Jc9m/rw+2PAlz2b+vD7Y8ulNaUFud/r+6U1pQW53+v78KHwDGSAzAvwofAMZIDMBMmH9hQ3oSwEyYf2FDehLAAAAAAAAAFMAAAAAAAAAUwEyYf2FDehLATJh/YUN6EsDCCh8AxkgMwMIKHwDGSAzAyFNaUFud/r/IU1pQW53+v0YW48/Di9C8Rhbjz8OL0LzBU1pQW53+P8FTWlBbnf4/vgofAMZIDEC+Ch8AxkgMQEqYf2FDehJASph/YUN6EkA=",
            "dtype": "f8"
           },
           "y": {
            "bdata": "AAAAAAAAAAAAAAAAAAAAAAAAAAAAAAAAAAAAAAAAAAC8U1pQW53+P7xTWlBbnf4/wAofAMZIDEDACh8AxkgMQEyYf2FDehJATJh/YUN6EkAAAAAAAAAUQAAAAAAAABRATJh/YUN6EkBMmH9hQ3oSQMAKHwDGSAxAwAofAMZIDEC+U1pQW53+P75TWlBbnf4/CXPZv68PxjwJc9m/rw/GPLlTWlBbnf6/uVNaUFud/r+/Ch8AxkgMwL8KHwDGSAzASph/YUN6EsBKmH9hQ3oSwAAAAAAAABTAAAAAAAAAFMBLmH9hQ3oSwEuYf2FDehLAwgofAMZIDMDCCh8AxkgMwMpTWlBbnf6/ylNaUFud/r8=",
            "dtype": "f8"
           },
           "z": {
            "bdata": "AAAAAAAAScAAAAAAAABJwAAAAAAAAElAAAAAAAAASUAAAAAAAABJwAAAAAAAAElAAAAAAAAAScAAAAAAAABJQAAAAAAAAEnAAAAAAAAASUAAAAAAAABJwAAAAAAAAElAAAAAAAAAScAAAAAAAABJQAAAAAAAAEnAAAAAAAAASUAAAAAAAABJwAAAAAAAAElAAAAAAAAAScAAAAAAAABJQAAAAAAAAEnAAAAAAAAASUAAAAAAAABJwAAAAAAAAElAAAAAAAAAScAAAAAAAABJQAAAAAAAAEnAAAAAAAAASUAAAAAAAABJwAAAAAAAAElAAAAAAAAAScAAAAAAAABJQAAAAAAAAEnAAAAAAAAASUA=",
            "dtype": "f8"
           }
          },
          {
           "line": {
            "color": "red",
            "width": 5
           },
           "mode": "lines",
           "name": "Slice at z=1.12",
           "type": "scatter3d",
           "x": [
            -9.184850993605148e-16,
            0.9352314495044798,
            1.91341716182545,
            2.706268101037073,
            3.535533905932737,
            4.065299966568196,
            4.619397662556432,
            4.805426764225278,
            5,
            4.813970898331155,
            4.619397662556434,
            4.089631601920974,
            3.5355339059327378,
            2.742682966721114,
            1.9134171618254492,
            0.9781857123209694,
            3.061616997868383e-16,
            -0.9352314495044793,
            -1.9134171618254485,
            -2.7062681010370726,
            -3.5355339059327373,
            -4.0652999665681975,
            -4.619397662556434,
            -4.805426764225279,
            -5,
            -4.813970898331155,
            -4.619397662556434,
            -4.089631601920974,
            -3.5355339059327386,
            -2.7426829667211154,
            -1.9134171618254516,
            -0.978185712320971,
            -9.184850993605148e-16,
            null
           ],
           "y": [
            -5,
            -4.813970898331155,
            -4.619397662556433,
            -4.089631601920974,
            -3.5355339059327386,
            -2.742682966721116,
            -1.913417161825452,
            -0.9781857123209707,
            0,
            0.9352314495044798,
            1.913417161825449,
            2.706268101037073,
            3.5355339059327378,
            4.0652999665681975,
            4.619397662556434,
            4.805426764225279,
            5,
            4.813970898331155,
            4.619397662556434,
            4.089631601920974,
            3.5355339059327378,
            2.742682966721114,
            1.9134171618254494,
            0.9781857123209697,
            6.123233995736766e-16,
            -0.9352314495044791,
            -1.9134171618254483,
            -2.706268101037072,
            -3.5355339059327373,
            -4.065299966568197,
            -4.619397662556432,
            -4.805426764225278,
            -5,
            null
           ],
           "z": [
            1.1224489795918302,
            1.1224489795918302,
            1.1224489795918302,
            1.1224489795918302,
            1.1224489795918302,
            1.1224489795918302,
            1.1224489795918302,
            1.1224489795918302,
            1.1224489795918302,
            1.1224489795918302,
            1.1224489795918302,
            1.1224489795918302,
            1.1224489795918302,
            1.1224489795918302,
            1.1224489795918302,
            1.1224489795918302,
            1.1224489795918302,
            1.1224489795918302,
            1.1224489795918302,
            1.1224489795918302,
            1.1224489795918302,
            1.1224489795918302,
            1.1224489795918302,
            1.1224489795918302,
            1.1224489795918302,
            1.1224489795918302,
            1.1224489795918302,
            1.1224489795918302,
            1.1224489795918302,
            1.1224489795918302,
            1.1224489795918302,
            1.1224489795918302,
            1.1224489795918302,
            null
           ]
          }
         ],
         "name": "frame_25",
         "traces": [
          0,
          1
         ]
        },
        {
         "data": [
          {
           "color": "lightblue",
           "i": {
            "bdata": "AQECAgQEBQUGBgcHCAgJCQoKCwsMDA0NDg4PDxAQERESEhMTFBQVFRYWFxcYGBkZGhobGxwcHR0eHh8fICAhIQ==",
            "dtype": "i1"
           },
           "j": {
            "bdata": "AAQEBQAGBgcACAgJAAoKCwAMDA0ADg4PABAQEQASEhMAFBQVABYWFwAYGBkAGhobABwcHQAeHh8AICAhAAEBAg==",
            "dtype": "i1"
           },
           "k": {
            "bdata": "BAIFAwYFBwMIBwkDCgkLAwwLDQMODQ8DEA8RAxIREwMUExUDFhUXAxgXGQMaGRsDHBsdAx4dHwMgHyEDASECAw==",
            "dtype": "i1"
           },
           "name": "Mesh",
           "opacity": 0.3,
           "type": "mesh3d",
           "x": {
            "bdata": "AAAAAAAAAAAAAAAAAAAUQAAAAAAAABRAAAAAAAAAAABMmH9hQ3oSQEyYf2FDehJAwAofAMZIDEDACh8AxkgMQL1TWlBbnf4/vVNaUFud/j8Jc9m/rw+2PAlz2b+vD7Y8ulNaUFud/r+6U1pQW53+v78KHwDGSAzAvwofAMZIDMBMmH9hQ3oSwEyYf2FDehLAAAAAAAAAFMAAAAAAAAAUwEyYf2FDehLATJh/YUN6EsDCCh8AxkgMwMIKHwDGSAzAyFNaUFud/r/IU1pQW53+v0YW48/Di9C8Rhbjz8OL0LzBU1pQW53+P8FTWlBbnf4/vgofAMZIDEC+Ch8AxkgMQEqYf2FDehJASph/YUN6EkA=",
            "dtype": "f8"
           },
           "y": {
            "bdata": "AAAAAAAAAAAAAAAAAAAAAAAAAAAAAAAAAAAAAAAAAAC8U1pQW53+P7xTWlBbnf4/wAofAMZIDEDACh8AxkgMQEyYf2FDehJATJh/YUN6EkAAAAAAAAAUQAAAAAAAABRATJh/YUN6EkBMmH9hQ3oSQMAKHwDGSAxAwAofAMZIDEC+U1pQW53+P75TWlBbnf4/CXPZv68PxjwJc9m/rw/GPLlTWlBbnf6/uVNaUFud/r+/Ch8AxkgMwL8KHwDGSAzASph/YUN6EsBKmH9hQ3oSwAAAAAAAABTAAAAAAAAAFMBLmH9hQ3oSwEuYf2FDehLAwgofAMZIDMDCCh8AxkgMwMpTWlBbnf6/ylNaUFud/r8=",
            "dtype": "f8"
           },
           "z": {
            "bdata": "AAAAAAAAScAAAAAAAABJwAAAAAAAAElAAAAAAAAASUAAAAAAAABJwAAAAAAAAElAAAAAAAAAScAAAAAAAABJQAAAAAAAAEnAAAAAAAAASUAAAAAAAABJwAAAAAAAAElAAAAAAAAAScAAAAAAAABJQAAAAAAAAEnAAAAAAAAASUAAAAAAAABJwAAAAAAAAElAAAAAAAAAScAAAAAAAABJQAAAAAAAAEnAAAAAAAAASUAAAAAAAABJwAAAAAAAAElAAAAAAAAAScAAAAAAAABJQAAAAAAAAEnAAAAAAAAASUAAAAAAAABJwAAAAAAAAElAAAAAAAAAScAAAAAAAABJQAAAAAAAAEnAAAAAAAAASUA=",
            "dtype": "f8"
           }
          },
          {
           "line": {
            "color": "red",
            "width": 5
           },
           "mode": "lines",
           "name": "Slice at z=3.37",
           "type": "scatter3d",
           "x": [
            -9.184850993605148e-16,
            0.8922771866879899,
            1.91341716182545,
            2.669853235353032,
            3.535533905932737,
            4.040968331215419,
            4.619397662556432,
            4.796882630119402,
            5,
            4.822515032437031,
            4.619397662556434,
            4.113963237273751,
            3.5355339059327378,
            2.779097832405155,
            1.9134171618254492,
            1.021139975137459,
            3.061616997868383e-16,
            -0.8922771866879896,
            -1.9134171618254485,
            -2.669853235353031,
            -3.5355339059327373,
            -4.040968331215421,
            -4.619397662556434,
            -4.796882630119403,
            -5,
            -4.822515032437031,
            -4.619397662556434,
            -4.113963237273752,
            -3.5355339059327386,
            -2.7790978324051565,
            -1.9134171618254516,
            -1.0211399751374608,
            -9.184850993605148e-16,
            null
           ],
           "y": [
            -5,
            -4.82251503243703,
            -4.619397662556433,
            -4.113963237273751,
            -3.5355339059327386,
            -2.779097832405157,
            -1.913417161825452,
            -1.0211399751374606,
            0,
            0.89227718668799,
            1.913417161825449,
            2.6698532353530315,
            3.5355339059327378,
            4.040968331215421,
            4.619397662556434,
            4.796882630119403,
            5,
            4.822515032437031,
            4.619397662556434,
            4.113963237273751,
            3.5355339059327378,
            2.7790978324051556,
            1.9134171618254494,
            1.0211399751374595,
            6.123233995736766e-16,
            -0.8922771866879894,
            -1.9134171618254483,
            -2.669853235353031,
            -3.5355339059327373,
            -4.040968331215419,
            -4.619397662556432,
            -4.796882630119402,
            -5,
            null
           ],
           "z": [
            3.367346938775505,
            3.367346938775505,
            3.367346938775505,
            3.367346938775505,
            3.367346938775505,
            3.367346938775505,
            3.367346938775505,
            3.367346938775505,
            3.367346938775505,
            3.367346938775505,
            3.367346938775505,
            3.367346938775505,
            3.367346938775505,
            3.367346938775505,
            3.367346938775505,
            3.367346938775505,
            3.367346938775505,
            3.367346938775505,
            3.367346938775505,
            3.367346938775505,
            3.367346938775505,
            3.367346938775505,
            3.367346938775505,
            3.367346938775505,
            3.367346938775505,
            3.367346938775505,
            3.367346938775505,
            3.367346938775505,
            3.367346938775505,
            3.367346938775505,
            3.367346938775505,
            3.367346938775505,
            3.367346938775505,
            null
           ]
          }
         ],
         "name": "frame_26",
         "traces": [
          0,
          1
         ]
        },
        {
         "data": [
          {
           "color": "lightblue",
           "i": {
            "bdata": "AQECAgQEBQUGBgcHCAgJCQoKCwsMDA0NDg4PDxAQERESEhMTFBQVFRYWFxcYGBkZGhobGxwcHR0eHh8fICAhIQ==",
            "dtype": "i1"
           },
           "j": {
            "bdata": "AAQEBQAGBgcACAgJAAoKCwAMDA0ADg4PABAQEQASEhMAFBQVABYWFwAYGBkAGhobABwcHQAeHh8AICAhAAEBAg==",
            "dtype": "i1"
           },
           "k": {
            "bdata": "BAIFAwYFBwMIBwkDCgkLAwwLDQMODQ8DEA8RAxIREwMUExUDFhUXAxgXGQMaGRsDHBsdAx4dHwMgHyEDASECAw==",
            "dtype": "i1"
           },
           "name": "Mesh",
           "opacity": 0.3,
           "type": "mesh3d",
           "x": {
            "bdata": "AAAAAAAAAAAAAAAAAAAUQAAAAAAAABRAAAAAAAAAAABMmH9hQ3oSQEyYf2FDehJAwAofAMZIDEDACh8AxkgMQL1TWlBbnf4/vVNaUFud/j8Jc9m/rw+2PAlz2b+vD7Y8ulNaUFud/r+6U1pQW53+v78KHwDGSAzAvwofAMZIDMBMmH9hQ3oSwEyYf2FDehLAAAAAAAAAFMAAAAAAAAAUwEyYf2FDehLATJh/YUN6EsDCCh8AxkgMwMIKHwDGSAzAyFNaUFud/r/IU1pQW53+v0YW48/Di9C8Rhbjz8OL0LzBU1pQW53+P8FTWlBbnf4/vgofAMZIDEC+Ch8AxkgMQEqYf2FDehJASph/YUN6EkA=",
            "dtype": "f8"
           },
           "y": {
            "bdata": "AAAAAAAAAAAAAAAAAAAAAAAAAAAAAAAAAAAAAAAAAAC8U1pQW53+P7xTWlBbnf4/wAofAMZIDEDACh8AxkgMQEyYf2FDehJATJh/YUN6EkAAAAAAAAAUQAAAAAAAABRATJh/YUN6EkBMmH9hQ3oSQMAKHwDGSAxAwAofAMZIDEC+U1pQW53+P75TWlBbnf4/CXPZv68PxjwJc9m/rw/GPLlTWlBbnf6/uVNaUFud/r+/Ch8AxkgMwL8KHwDGSAzASph/YUN6EsBKmH9hQ3oSwAAAAAAAABTAAAAAAAAAFMBLmH9hQ3oSwEuYf2FDehLAwgofAMZIDMDCCh8AxkgMwMpTWlBbnf6/ylNaUFud/r8=",
            "dtype": "f8"
           },
           "z": {
            "bdata": "AAAAAAAAScAAAAAAAABJwAAAAAAAAElAAAAAAAAASUAAAAAAAABJwAAAAAAAAElAAAAAAAAAScAAAAAAAABJQAAAAAAAAEnAAAAAAAAASUAAAAAAAABJwAAAAAAAAElAAAAAAAAAScAAAAAAAABJQAAAAAAAAEnAAAAAAAAASUAAAAAAAABJwAAAAAAAAElAAAAAAAAAScAAAAAAAABJQAAAAAAAAEnAAAAAAAAASUAAAAAAAABJwAAAAAAAAElAAAAAAAAAScAAAAAAAABJQAAAAAAAAEnAAAAAAAAASUAAAAAAAABJwAAAAAAAAElAAAAAAAAAScAAAAAAAABJQAAAAAAAAEnAAAAAAAAASUA=",
            "dtype": "f8"
           }
          },
          {
           "line": {
            "color": "red",
            "width": 5
           },
           "mode": "lines",
           "name": "Slice at z=5.61",
           "type": "scatter3d",
           "x": [
            -9.184850993605148e-16,
            0.8493229238715003,
            1.91341716182545,
            2.6334383696689905,
            3.535533905932737,
            4.016636695862642,
            4.619397662556432,
            4.788338496013526,
            5,
            4.831059166542907,
            4.619397662556434,
            4.138294872626528,
            3.5355339059327378,
            2.8155126980891962,
            1.9134171618254492,
            1.0640942379539489,
            3.061616997868383e-16,
            -0.8493229238715,
            -1.9134171618254485,
            -2.63343836966899,
            -3.5355339059327373,
            -4.016636695862643,
            -4.619397662556434,
            -4.788338496013527,
            -5,
            -4.831059166542907,
            -4.619397662556434,
            -4.1382948726265285,
            -3.5355339059327386,
            -2.815512698089198,
            -1.9134171618254516,
            -1.0640942379539504,
            -9.184850993605148e-16,
            null
           ],
           "y": [
            -5,
            -4.831059166542906,
            -4.619397662556433,
            -4.138294872626528,
            -3.5355339059327386,
            -2.815512698089198,
            -1.913417161825452,
            -1.0640942379539502,
            0,
            0.8493229238715004,
            1.913417161825449,
            2.6334383696689905,
            3.5355339059327378,
            4.016636695862644,
            4.619397662556434,
            4.788338496013527,
            5,
            4.831059166542907,
            4.619397662556434,
            4.138294872626528,
            3.5355339059327378,
            2.8155126980891962,
            1.9134171618254494,
            1.064094237953949,
            6.123233995736766e-16,
            -0.8493229238714998,
            -1.9134171618254483,
            -2.6334383696689896,
            -3.5355339059327373,
            -4.016636695862642,
            -4.619397662556432,
            -4.788338496013526,
            -5,
            null
           ],
           "z": [
            5.6122448979591795,
            5.6122448979591795,
            5.6122448979591795,
            5.6122448979591795,
            5.6122448979591795,
            5.6122448979591795,
            5.6122448979591795,
            5.6122448979591795,
            5.6122448979591795,
            5.6122448979591795,
            5.6122448979591795,
            5.6122448979591795,
            5.6122448979591795,
            5.6122448979591795,
            5.6122448979591795,
            5.6122448979591795,
            5.6122448979591795,
            5.6122448979591795,
            5.6122448979591795,
            5.6122448979591795,
            5.6122448979591795,
            5.6122448979591795,
            5.6122448979591795,
            5.6122448979591795,
            5.6122448979591795,
            5.6122448979591795,
            5.6122448979591795,
            5.6122448979591795,
            5.6122448979591795,
            5.6122448979591795,
            5.6122448979591795,
            5.6122448979591795,
            5.6122448979591795,
            null
           ]
          }
         ],
         "name": "frame_27",
         "traces": [
          0,
          1
         ]
        },
        {
         "data": [
          {
           "color": "lightblue",
           "i": {
            "bdata": "AQECAgQEBQUGBgcHCAgJCQoKCwsMDA0NDg4PDxAQERESEhMTFBQVFRYWFxcYGBkZGhobGxwcHR0eHh8fICAhIQ==",
            "dtype": "i1"
           },
           "j": {
            "bdata": "AAQEBQAGBgcACAgJAAoKCwAMDA0ADg4PABAQEQASEhMAFBQVABYWFwAYGBkAGhobABwcHQAeHh8AICAhAAEBAg==",
            "dtype": "i1"
           },
           "k": {
            "bdata": "BAIFAwYFBwMIBwkDCgkLAwwLDQMODQ8DEA8RAxIREwMUExUDFhUXAxgXGQMaGRsDHBsdAx4dHwMgHyEDASECAw==",
            "dtype": "i1"
           },
           "name": "Mesh",
           "opacity": 0.3,
           "type": "mesh3d",
           "x": {
            "bdata": "AAAAAAAAAAAAAAAAAAAUQAAAAAAAABRAAAAAAAAAAABMmH9hQ3oSQEyYf2FDehJAwAofAMZIDEDACh8AxkgMQL1TWlBbnf4/vVNaUFud/j8Jc9m/rw+2PAlz2b+vD7Y8ulNaUFud/r+6U1pQW53+v78KHwDGSAzAvwofAMZIDMBMmH9hQ3oSwEyYf2FDehLAAAAAAAAAFMAAAAAAAAAUwEyYf2FDehLATJh/YUN6EsDCCh8AxkgMwMIKHwDGSAzAyFNaUFud/r/IU1pQW53+v0YW48/Di9C8Rhbjz8OL0LzBU1pQW53+P8FTWlBbnf4/vgofAMZIDEC+Ch8AxkgMQEqYf2FDehJASph/YUN6EkA=",
            "dtype": "f8"
           },
           "y": {
            "bdata": "AAAAAAAAAAAAAAAAAAAAAAAAAAAAAAAAAAAAAAAAAAC8U1pQW53+P7xTWlBbnf4/wAofAMZIDEDACh8AxkgMQEyYf2FDehJATJh/YUN6EkAAAAAAAAAUQAAAAAAAABRATJh/YUN6EkBMmH9hQ3oSQMAKHwDGSAxAwAofAMZIDEC+U1pQW53+P75TWlBbnf4/CXPZv68PxjwJc9m/rw/GPLlTWlBbnf6/uVNaUFud/r+/Ch8AxkgMwL8KHwDGSAzASph/YUN6EsBKmH9hQ3oSwAAAAAAAABTAAAAAAAAAFMBLmH9hQ3oSwEuYf2FDehLAwgofAMZIDMDCCh8AxkgMwMpTWlBbnf6/ylNaUFud/r8=",
            "dtype": "f8"
           },
           "z": {
            "bdata": "AAAAAAAAScAAAAAAAABJwAAAAAAAAElAAAAAAAAASUAAAAAAAABJwAAAAAAAAElAAAAAAAAAScAAAAAAAABJQAAAAAAAAEnAAAAAAAAASUAAAAAAAABJwAAAAAAAAElAAAAAAAAAScAAAAAAAABJQAAAAAAAAEnAAAAAAAAASUAAAAAAAABJwAAAAAAAAElAAAAAAAAAScAAAAAAAABJQAAAAAAAAEnAAAAAAAAASUAAAAAAAABJwAAAAAAAAElAAAAAAAAAScAAAAAAAABJQAAAAAAAAEnAAAAAAAAASUAAAAAAAABJwAAAAAAAAElAAAAAAAAAScAAAAAAAABJQAAAAAAAAEnAAAAAAAAASUA=",
            "dtype": "f8"
           }
          },
          {
           "line": {
            "color": "red",
            "width": 5
           },
           "mode": "lines",
           "name": "Slice at z=7.86",
           "type": "scatter3d",
           "x": [
            -9.184850993605148e-16,
            0.8063686610550106,
            1.91341716182545,
            2.59702350398495,
            3.535533905932737,
            3.9923050605098656,
            4.619397662556432,
            4.77979436190765,
            5,
            4.839603300648783,
            4.619397662556434,
            4.162626507979304,
            3.5355339059327378,
            2.8519275637732378,
            1.9134171618254492,
            1.1070485007704383,
            3.061616997868383e-16,
            -0.8063686610550103,
            -1.9134171618254485,
            -2.597023503984949,
            -3.5355339059327373,
            -3.9923050605098664,
            -4.619397662556434,
            -4.779794361907651,
            -5,
            -4.839603300648783,
            -4.619397662556434,
            -4.162626507979305,
            -3.5355339059327386,
            -2.851927563773239,
            -1.9134171618254516,
            -1.10704850077044,
            -9.184850993605148e-16,
            null
           ],
           "y": [
            -5,
            -4.839603300648783,
            -4.619397662556433,
            -4.162626507979304,
            -3.5355339059327386,
            -2.8519275637732395,
            -1.913417161825452,
            -1.10704850077044,
            0,
            0.8063686610550108,
            1.913417161825449,
            2.5970235039849494,
            3.5355339059327378,
            3.992305060509867,
            4.619397662556434,
            4.779794361907651,
            5,
            4.839603300648783,
            4.619397662556434,
            4.162626507979304,
            3.5355339059327378,
            2.8519275637732378,
            1.9134171618254494,
            1.1070485007704387,
            6.123233995736766e-16,
            -0.8063686610550101,
            -1.9134171618254483,
            -2.597023503984949,
            -3.5355339059327373,
            -3.992305060509866,
            -4.619397662556432,
            -4.77979436190765,
            -5,
            null
           ],
           "z": [
            7.857142857142854,
            7.857142857142854,
            7.857142857142854,
            7.857142857142854,
            7.857142857142854,
            7.857142857142854,
            7.857142857142854,
            7.857142857142854,
            7.857142857142854,
            7.857142857142854,
            7.857142857142854,
            7.857142857142854,
            7.857142857142854,
            7.857142857142854,
            7.857142857142854,
            7.857142857142854,
            7.857142857142854,
            7.857142857142854,
            7.857142857142854,
            7.857142857142854,
            7.857142857142854,
            7.857142857142854,
            7.857142857142854,
            7.857142857142854,
            7.857142857142854,
            7.857142857142854,
            7.857142857142854,
            7.857142857142854,
            7.857142857142854,
            7.857142857142854,
            7.857142857142854,
            7.857142857142854,
            7.857142857142854,
            null
           ]
          }
         ],
         "name": "frame_28",
         "traces": [
          0,
          1
         ]
        },
        {
         "data": [
          {
           "color": "lightblue",
           "i": {
            "bdata": "AQECAgQEBQUGBgcHCAgJCQoKCwsMDA0NDg4PDxAQERESEhMTFBQVFRYWFxcYGBkZGhobGxwcHR0eHh8fICAhIQ==",
            "dtype": "i1"
           },
           "j": {
            "bdata": "AAQEBQAGBgcACAgJAAoKCwAMDA0ADg4PABAQEQASEhMAFBQVABYWFwAYGBkAGhobABwcHQAeHh8AICAhAAEBAg==",
            "dtype": "i1"
           },
           "k": {
            "bdata": "BAIFAwYFBwMIBwkDCgkLAwwLDQMODQ8DEA8RAxIREwMUExUDFhUXAxgXGQMaGRsDHBsdAx4dHwMgHyEDASECAw==",
            "dtype": "i1"
           },
           "name": "Mesh",
           "opacity": 0.3,
           "type": "mesh3d",
           "x": {
            "bdata": "AAAAAAAAAAAAAAAAAAAUQAAAAAAAABRAAAAAAAAAAABMmH9hQ3oSQEyYf2FDehJAwAofAMZIDEDACh8AxkgMQL1TWlBbnf4/vVNaUFud/j8Jc9m/rw+2PAlz2b+vD7Y8ulNaUFud/r+6U1pQW53+v78KHwDGSAzAvwofAMZIDMBMmH9hQ3oSwEyYf2FDehLAAAAAAAAAFMAAAAAAAAAUwEyYf2FDehLATJh/YUN6EsDCCh8AxkgMwMIKHwDGSAzAyFNaUFud/r/IU1pQW53+v0YW48/Di9C8Rhbjz8OL0LzBU1pQW53+P8FTWlBbnf4/vgofAMZIDEC+Ch8AxkgMQEqYf2FDehJASph/YUN6EkA=",
            "dtype": "f8"
           },
           "y": {
            "bdata": "AAAAAAAAAAAAAAAAAAAAAAAAAAAAAAAAAAAAAAAAAAC8U1pQW53+P7xTWlBbnf4/wAofAMZIDEDACh8AxkgMQEyYf2FDehJATJh/YUN6EkAAAAAAAAAUQAAAAAAAABRATJh/YUN6EkBMmH9hQ3oSQMAKHwDGSAxAwAofAMZIDEC+U1pQW53+P75TWlBbnf4/CXPZv68PxjwJc9m/rw/GPLlTWlBbnf6/uVNaUFud/r+/Ch8AxkgMwL8KHwDGSAzASph/YUN6EsBKmH9hQ3oSwAAAAAAAABTAAAAAAAAAFMBLmH9hQ3oSwEuYf2FDehLAwgofAMZIDMDCCh8AxkgMwMpTWlBbnf6/ylNaUFud/r8=",
            "dtype": "f8"
           },
           "z": {
            "bdata": "AAAAAAAAScAAAAAAAABJwAAAAAAAAElAAAAAAAAASUAAAAAAAABJwAAAAAAAAElAAAAAAAAAScAAAAAAAABJQAAAAAAAAEnAAAAAAAAASUAAAAAAAABJwAAAAAAAAElAAAAAAAAAScAAAAAAAABJQAAAAAAAAEnAAAAAAAAASUAAAAAAAABJwAAAAAAAAElAAAAAAAAAScAAAAAAAABJQAAAAAAAAEnAAAAAAAAASUAAAAAAAABJwAAAAAAAAElAAAAAAAAAScAAAAAAAABJQAAAAAAAAEnAAAAAAAAASUAAAAAAAABJwAAAAAAAAElAAAAAAAAAScAAAAAAAABJQAAAAAAAAEnAAAAAAAAASUA=",
            "dtype": "f8"
           }
          },
          {
           "line": {
            "color": "red",
            "width": 5
           },
           "mode": "lines",
           "name": "Slice at z=10.10",
           "type": "scatter3d",
           "x": [
            -9.184850993605148e-16,
            0.763414398238521,
            1.91341716182545,
            2.5606086383009083,
            3.535533905932737,
            3.967973425157089,
            4.619397662556432,
            4.771250227801774,
            5,
            4.848147434754659,
            4.619397662556434,
            4.186958143332082,
            3.5355339059327378,
            2.8883424294572784,
            1.9134171618254492,
            1.150002763586928,
            3.061616997868383e-16,
            -0.7634143982385206,
            -1.9134171618254485,
            -2.560608638300908,
            -3.5355339059327373,
            -3.9679734251570897,
            -4.619397662556434,
            -4.771250227801775,
            -5,
            -4.848147434754659,
            -4.619397662556434,
            -4.186958143332082,
            -3.5355339059327386,
            -2.88834242945728,
            -1.9134171618254516,
            -1.1500027635869299,
            -9.184850993605148e-16,
            null
           ],
           "y": [
            -5,
            -4.848147434754658,
            -4.619397662556433,
            -4.186958143332081,
            -3.5355339059327386,
            -2.88834242945728,
            -1.913417161825452,
            -1.1500027635869297,
            0,
            0.7634143982385212,
            1.913417161825449,
            2.5606086383009083,
            3.5355339059327378,
            3.96797342515709,
            4.619397662556434,
            4.771250227801775,
            5,
            4.848147434754659,
            4.619397662556434,
            4.186958143332082,
            3.5355339059327378,
            2.888342429457279,
            1.9134171618254494,
            1.1500027635869285,
            6.123233995736766e-16,
            -0.7634143982385205,
            -1.9134171618254483,
            -2.5606086383009075,
            -3.5355339059327373,
            -3.967973425157089,
            -4.619397662556432,
            -4.771250227801774,
            -5,
            null
           ],
           "z": [
            10.102040816326522,
            10.102040816326522,
            10.102040816326522,
            10.102040816326522,
            10.102040816326522,
            10.102040816326522,
            10.102040816326522,
            10.102040816326522,
            10.102040816326522,
            10.102040816326522,
            10.102040816326522,
            10.102040816326522,
            10.102040816326522,
            10.102040816326522,
            10.102040816326522,
            10.102040816326522,
            10.102040816326522,
            10.102040816326522,
            10.102040816326522,
            10.102040816326522,
            10.102040816326522,
            10.102040816326522,
            10.102040816326522,
            10.102040816326522,
            10.102040816326522,
            10.102040816326522,
            10.102040816326522,
            10.102040816326522,
            10.102040816326522,
            10.102040816326522,
            10.102040816326522,
            10.102040816326522,
            10.102040816326522,
            null
           ]
          }
         ],
         "name": "frame_29",
         "traces": [
          0,
          1
         ]
        },
        {
         "data": [
          {
           "color": "lightblue",
           "i": {
            "bdata": "AQECAgQEBQUGBgcHCAgJCQoKCwsMDA0NDg4PDxAQERESEhMTFBQVFRYWFxcYGBkZGhobGxwcHR0eHh8fICAhIQ==",
            "dtype": "i1"
           },
           "j": {
            "bdata": "AAQEBQAGBgcACAgJAAoKCwAMDA0ADg4PABAQEQASEhMAFBQVABYWFwAYGBkAGhobABwcHQAeHh8AICAhAAEBAg==",
            "dtype": "i1"
           },
           "k": {
            "bdata": "BAIFAwYFBwMIBwkDCgkLAwwLDQMODQ8DEA8RAxIREwMUExUDFhUXAxgXGQMaGRsDHBsdAx4dHwMgHyEDASECAw==",
            "dtype": "i1"
           },
           "name": "Mesh",
           "opacity": 0.3,
           "type": "mesh3d",
           "x": {
            "bdata": "AAAAAAAAAAAAAAAAAAAUQAAAAAAAABRAAAAAAAAAAABMmH9hQ3oSQEyYf2FDehJAwAofAMZIDEDACh8AxkgMQL1TWlBbnf4/vVNaUFud/j8Jc9m/rw+2PAlz2b+vD7Y8ulNaUFud/r+6U1pQW53+v78KHwDGSAzAvwofAMZIDMBMmH9hQ3oSwEyYf2FDehLAAAAAAAAAFMAAAAAAAAAUwEyYf2FDehLATJh/YUN6EsDCCh8AxkgMwMIKHwDGSAzAyFNaUFud/r/IU1pQW53+v0YW48/Di9C8Rhbjz8OL0LzBU1pQW53+P8FTWlBbnf4/vgofAMZIDEC+Ch8AxkgMQEqYf2FDehJASph/YUN6EkA=",
            "dtype": "f8"
           },
           "y": {
            "bdata": "AAAAAAAAAAAAAAAAAAAAAAAAAAAAAAAAAAAAAAAAAAC8U1pQW53+P7xTWlBbnf4/wAofAMZIDEDACh8AxkgMQEyYf2FDehJATJh/YUN6EkAAAAAAAAAUQAAAAAAAABRATJh/YUN6EkBMmH9hQ3oSQMAKHwDGSAxAwAofAMZIDEC+U1pQW53+P75TWlBbnf4/CXPZv68PxjwJc9m/rw/GPLlTWlBbnf6/uVNaUFud/r+/Ch8AxkgMwL8KHwDGSAzASph/YUN6EsBKmH9hQ3oSwAAAAAAAABTAAAAAAAAAFMBLmH9hQ3oSwEuYf2FDehLAwgofAMZIDMDCCh8AxkgMwMpTWlBbnf6/ylNaUFud/r8=",
            "dtype": "f8"
           },
           "z": {
            "bdata": "AAAAAAAAScAAAAAAAABJwAAAAAAAAElAAAAAAAAASUAAAAAAAABJwAAAAAAAAElAAAAAAAAAScAAAAAAAABJQAAAAAAAAEnAAAAAAAAASUAAAAAAAABJwAAAAAAAAElAAAAAAAAAScAAAAAAAABJQAAAAAAAAEnAAAAAAAAASUAAAAAAAABJwAAAAAAAAElAAAAAAAAAScAAAAAAAABJQAAAAAAAAEnAAAAAAAAASUAAAAAAAABJwAAAAAAAAElAAAAAAAAAScAAAAAAAABJQAAAAAAAAEnAAAAAAAAASUAAAAAAAABJwAAAAAAAAElAAAAAAAAAScAAAAAAAABJQAAAAAAAAEnAAAAAAAAASUA=",
            "dtype": "f8"
           }
          },
          {
           "line": {
            "color": "red",
            "width": 5
           },
           "mode": "lines",
           "name": "Slice at z=12.35",
           "type": "scatter3d",
           "x": [
            3.061616997868383e-16,
            1.1929570264034177,
            1.9134171618254492,
            2.92475729514132,
            3.5355339059327378,
            4.211289778684859,
            4.619397662556434,
            4.856691568860535,
            5,
            4.762706093695898,
            4.619397662556432,
            3.943641789804312,
            3.535533905932737,
            2.5241937726168673,
            1.91341716182545,
            0.7204601354220312,
            -9.184850993605148e-16,
            -1.1929570264034195,
            -1.9134171618254516,
            -2.924757295141321,
            -3.5355339059327386,
            -4.211289778684859,
            -4.619397662556434,
            -4.856691568860535,
            -5,
            -4.762706093695899,
            -4.619397662556434,
            -3.943641789804313,
            -3.5355339059327373,
            -2.524193772616867,
            -1.9134171618254485,
            -0.720460135422031,
            3.061616997868383e-16,
            null
           ],
           "y": [
            5,
            4.762706093695899,
            4.619397662556434,
            3.943641789804313,
            3.5355339059327378,
            2.524193772616867,
            1.913417161825449,
            0.7204601354220315,
            0,
            -1.1929570264034193,
            -1.913417161825452,
            -2.9247572951413217,
            -3.5355339059327386,
            -4.211289778684858,
            -4.619397662556433,
            -4.856691568860534,
            -5,
            -4.762706093695898,
            -4.619397662556432,
            -3.943641789804312,
            -3.5355339059327373,
            -2.5241937726168664,
            -1.9134171618254483,
            -0.7204601354220308,
            6.123233995736766e-16,
            1.192957026403418,
            1.9134171618254494,
            2.92475729514132,
            3.5355339059327378,
            4.211289778684859,
            4.619397662556434,
            4.856691568860535,
            5,
            null
           ],
           "z": [
            12.346938775510196,
            12.346938775510196,
            12.346938775510196,
            12.346938775510196,
            12.346938775510196,
            12.346938775510196,
            12.346938775510196,
            12.346938775510196,
            12.346938775510196,
            12.346938775510196,
            12.346938775510196,
            12.346938775510196,
            12.346938775510196,
            12.346938775510196,
            12.346938775510196,
            12.346938775510196,
            12.346938775510196,
            12.346938775510196,
            12.346938775510196,
            12.346938775510196,
            12.346938775510196,
            12.346938775510196,
            12.346938775510196,
            12.346938775510196,
            12.346938775510196,
            12.346938775510196,
            12.346938775510196,
            12.346938775510196,
            12.346938775510196,
            12.346938775510196,
            12.346938775510196,
            12.346938775510196,
            12.346938775510196,
            null
           ]
          }
         ],
         "name": "frame_30",
         "traces": [
          0,
          1
         ]
        },
        {
         "data": [
          {
           "color": "lightblue",
           "i": {
            "bdata": "AQECAgQEBQUGBgcHCAgJCQoKCwsMDA0NDg4PDxAQERESEhMTFBQVFRYWFxcYGBkZGhobGxwcHR0eHh8fICAhIQ==",
            "dtype": "i1"
           },
           "j": {
            "bdata": "AAQEBQAGBgcACAgJAAoKCwAMDA0ADg4PABAQEQASEhMAFBQVABYWFwAYGBkAGhobABwcHQAeHh8AICAhAAEBAg==",
            "dtype": "i1"
           },
           "k": {
            "bdata": "BAIFAwYFBwMIBwkDCgkLAwwLDQMODQ8DEA8RAxIREwMUExUDFhUXAxgXGQMaGRsDHBsdAx4dHwMgHyEDASECAw==",
            "dtype": "i1"
           },
           "name": "Mesh",
           "opacity": 0.3,
           "type": "mesh3d",
           "x": {
            "bdata": "AAAAAAAAAAAAAAAAAAAUQAAAAAAAABRAAAAAAAAAAABMmH9hQ3oSQEyYf2FDehJAwAofAMZIDEDACh8AxkgMQL1TWlBbnf4/vVNaUFud/j8Jc9m/rw+2PAlz2b+vD7Y8ulNaUFud/r+6U1pQW53+v78KHwDGSAzAvwofAMZIDMBMmH9hQ3oSwEyYf2FDehLAAAAAAAAAFMAAAAAAAAAUwEyYf2FDehLATJh/YUN6EsDCCh8AxkgMwMIKHwDGSAzAyFNaUFud/r/IU1pQW53+v0YW48/Di9C8Rhbjz8OL0LzBU1pQW53+P8FTWlBbnf4/vgofAMZIDEC+Ch8AxkgMQEqYf2FDehJASph/YUN6EkA=",
            "dtype": "f8"
           },
           "y": {
            "bdata": "AAAAAAAAAAAAAAAAAAAAAAAAAAAAAAAAAAAAAAAAAAC8U1pQW53+P7xTWlBbnf4/wAofAMZIDEDACh8AxkgMQEyYf2FDehJATJh/YUN6EkAAAAAAAAAUQAAAAAAAABRATJh/YUN6EkBMmH9hQ3oSQMAKHwDGSAxAwAofAMZIDEC+U1pQW53+P75TWlBbnf4/CXPZv68PxjwJc9m/rw/GPLlTWlBbnf6/uVNaUFud/r+/Ch8AxkgMwL8KHwDGSAzASph/YUN6EsBKmH9hQ3oSwAAAAAAAABTAAAAAAAAAFMBLmH9hQ3oSwEuYf2FDehLAwgofAMZIDMDCCh8AxkgMwMpTWlBbnf6/ylNaUFud/r8=",
            "dtype": "f8"
           },
           "z": {
            "bdata": "AAAAAAAAScAAAAAAAABJwAAAAAAAAElAAAAAAAAASUAAAAAAAABJwAAAAAAAAElAAAAAAAAAScAAAAAAAABJQAAAAAAAAEnAAAAAAAAASUAAAAAAAABJwAAAAAAAAElAAAAAAAAAScAAAAAAAABJQAAAAAAAAEnAAAAAAAAASUAAAAAAAABJwAAAAAAAAElAAAAAAAAAScAAAAAAAABJQAAAAAAAAEnAAAAAAAAASUAAAAAAAABJwAAAAAAAAElAAAAAAAAAScAAAAAAAABJQAAAAAAAAEnAAAAAAAAASUAAAAAAAABJwAAAAAAAAElAAAAAAAAAScAAAAAAAABJQAAAAAAAAEnAAAAAAAAASUA=",
            "dtype": "f8"
           }
          },
          {
           "line": {
            "color": "red",
            "width": 5
           },
           "mode": "lines",
           "name": "Slice at z=14.59",
           "type": "scatter3d",
           "x": [
            3.061616997868383e-16,
            -0.6775058726055413,
            -1.9134171618254485,
            -2.4877789069328253,
            -3.5355339059327373,
            -3.9193101544515363,
            -4.619397662556434,
            -4.754161959590023,
            -5,
            -4.865235702966411,
            -4.619397662556434,
            -4.235621414037635,
            -3.5355339059327386,
            -2.9611721608253623,
            -1.9134171618254516,
            -1.2359112892199091,
            -9.184850993605148e-16,
            0.6775058726055415,
            1.91341716182545,
            2.487778906932826,
            3.535533905932737,
            3.919310154451535,
            4.619397662556432,
            4.754161959590022,
            5,
            4.865235702966411,
            4.619397662556434,
            4.235621414037635,
            3.5355339059327378,
            2.961172160825361,
            1.9134171618254492,
            1.2359112892199073,
            3.061616997868383e-16,
            null
           ],
           "y": [
            5,
            4.865235702966411,
            4.619397662556434,
            4.235621414037635,
            3.5355339059327378,
            2.9611721608253614,
            1.9134171618254494,
            1.2359112892199078,
            6.123233995736766e-16,
            -0.6775058726055411,
            -1.9134171618254483,
            -2.4877789069328253,
            -3.5355339059327373,
            -3.9193101544515354,
            -4.619397662556432,
            -4.754161959590022,
            -5,
            -4.865235702966411,
            -4.619397662556433,
            -4.235621414037635,
            -3.5355339059327386,
            -2.9611721608253627,
            -1.913417161825452,
            -1.2359112892199091,
            0,
            0.6775058726055417,
            1.913417161825449,
            2.4877789069328258,
            3.5355339059327378,
            3.9193101544515363,
            4.619397662556434,
            4.754161959590023,
            5,
            null
           ],
           "z": [
            14.59183673469387,
            14.59183673469387,
            14.59183673469387,
            14.59183673469387,
            14.59183673469387,
            14.59183673469387,
            14.59183673469387,
            14.59183673469387,
            14.59183673469387,
            14.59183673469387,
            14.59183673469387,
            14.59183673469387,
            14.59183673469387,
            14.59183673469387,
            14.59183673469387,
            14.59183673469387,
            14.59183673469387,
            14.59183673469387,
            14.59183673469387,
            14.59183673469387,
            14.59183673469387,
            14.59183673469387,
            14.59183673469387,
            14.59183673469387,
            14.59183673469387,
            14.59183673469387,
            14.59183673469387,
            14.59183673469387,
            14.59183673469387,
            14.59183673469387,
            14.59183673469387,
            14.59183673469387,
            14.59183673469387,
            null
           ]
          }
         ],
         "name": "frame_31",
         "traces": [
          0,
          1
         ]
        },
        {
         "data": [
          {
           "color": "lightblue",
           "i": {
            "bdata": "AQECAgQEBQUGBgcHCAgJCQoKCwsMDA0NDg4PDxAQERESEhMTFBQVFRYWFxcYGBkZGhobGxwcHR0eHh8fICAhIQ==",
            "dtype": "i1"
           },
           "j": {
            "bdata": "AAQEBQAGBgcACAgJAAoKCwAMDA0ADg4PABAQEQASEhMAFBQVABYWFwAYGBkAGhobABwcHQAeHh8AICAhAAEBAg==",
            "dtype": "i1"
           },
           "k": {
            "bdata": "BAIFAwYFBwMIBwkDCgkLAwwLDQMODQ8DEA8RAxIREwMUExUDFhUXAxgXGQMaGRsDHBsdAx4dHwMgHyEDASECAw==",
            "dtype": "i1"
           },
           "name": "Mesh",
           "opacity": 0.3,
           "type": "mesh3d",
           "x": {
            "bdata": "AAAAAAAAAAAAAAAAAAAUQAAAAAAAABRAAAAAAAAAAABMmH9hQ3oSQEyYf2FDehJAwAofAMZIDEDACh8AxkgMQL1TWlBbnf4/vVNaUFud/j8Jc9m/rw+2PAlz2b+vD7Y8ulNaUFud/r+6U1pQW53+v78KHwDGSAzAvwofAMZIDMBMmH9hQ3oSwEyYf2FDehLAAAAAAAAAFMAAAAAAAAAUwEyYf2FDehLATJh/YUN6EsDCCh8AxkgMwMIKHwDGSAzAyFNaUFud/r/IU1pQW53+v0YW48/Di9C8Rhbjz8OL0LzBU1pQW53+P8FTWlBbnf4/vgofAMZIDEC+Ch8AxkgMQEqYf2FDehJASph/YUN6EkA=",
            "dtype": "f8"
           },
           "y": {
            "bdata": "AAAAAAAAAAAAAAAAAAAAAAAAAAAAAAAAAAAAAAAAAAC8U1pQW53+P7xTWlBbnf4/wAofAMZIDEDACh8AxkgMQEyYf2FDehJATJh/YUN6EkAAAAAAAAAUQAAAAAAAABRATJh/YUN6EkBMmH9hQ3oSQMAKHwDGSAxAwAofAMZIDEC+U1pQW53+P75TWlBbnf4/CXPZv68PxjwJc9m/rw/GPLlTWlBbnf6/uVNaUFud/r+/Ch8AxkgMwL8KHwDGSAzASph/YUN6EsBKmH9hQ3oSwAAAAAAAABTAAAAAAAAAFMBLmH9hQ3oSwEuYf2FDehLAwgofAMZIDMDCCh8AxkgMwMpTWlBbnf6/ylNaUFud/r8=",
            "dtype": "f8"
           },
           "z": {
            "bdata": "AAAAAAAAScAAAAAAAABJwAAAAAAAAElAAAAAAAAASUAAAAAAAABJwAAAAAAAAElAAAAAAAAAScAAAAAAAABJQAAAAAAAAEnAAAAAAAAASUAAAAAAAABJwAAAAAAAAElAAAAAAAAAScAAAAAAAABJQAAAAAAAAEnAAAAAAAAASUAAAAAAAABJwAAAAAAAAElAAAAAAAAAScAAAAAAAABJQAAAAAAAAEnAAAAAAAAASUAAAAAAAABJwAAAAAAAAElAAAAAAAAAScAAAAAAAABJQAAAAAAAAEnAAAAAAAAASUAAAAAAAABJwAAAAAAAAElAAAAAAAAAScAAAAAAAABJQAAAAAAAAEnAAAAAAAAASUA=",
            "dtype": "f8"
           }
          },
          {
           "line": {
            "color": "red",
            "width": 5
           },
           "mode": "lines",
           "name": "Slice at z=16.84",
           "type": "scatter3d",
           "x": [
            3.061616997868383e-16,
            -0.6345516097890517,
            -1.9134171618254485,
            -2.4513640412487843,
            -3.5355339059327373,
            -3.894978519098759,
            -4.619397662556434,
            -4.745617825484147,
            -5,
            -4.873779837072287,
            -4.619397662556434,
            -4.259953049390412,
            -3.5355339059327386,
            -2.997587026509404,
            -1.9134171618254516,
            -1.278865552036399,
            -9.184850993605148e-16,
            0.6345516097890518,
            1.91341716182545,
            2.451364041248785,
            3.535533905932737,
            3.8949785190987583,
            4.619397662556432,
            4.745617825484146,
            5,
            4.873779837072287,
            4.619397662556434,
            4.259953049390412,
            3.5355339059327378,
            2.997587026509402,
            1.9134171618254492,
            1.2788655520363972,
            3.061616997868383e-16,
            null
           ],
           "y": [
            5,
            4.873779837072287,
            4.619397662556434,
            4.259953049390412,
            3.5355339059327378,
            2.9975870265094025,
            1.9134171618254494,
            1.2788655520363974,
            6.123233995736766e-16,
            -0.6345516097890515,
            -1.9134171618254483,
            -2.451364041248784,
            -3.5355339059327373,
            -3.8949785190987587,
            -4.619397662556432,
            -4.745617825484146,
            -5,
            -4.873779837072286,
            -4.619397662556433,
            -4.259953049390412,
            -3.5355339059327386,
            -2.997587026509404,
            -1.913417161825452,
            -1.278865552036399,
            0,
            0.6345516097890521,
            1.913417161825449,
            2.4513640412487847,
            3.5355339059327378,
            3.8949785190987596,
            4.619397662556434,
            4.745617825484147,
            5,
            null
           ],
           "z": [
            16.836734693877546,
            16.836734693877546,
            16.836734693877546,
            16.836734693877546,
            16.836734693877546,
            16.836734693877546,
            16.836734693877546,
            16.836734693877546,
            16.836734693877546,
            16.836734693877546,
            16.836734693877546,
            16.836734693877546,
            16.836734693877546,
            16.836734693877546,
            16.836734693877546,
            16.836734693877546,
            16.836734693877546,
            16.836734693877546,
            16.836734693877546,
            16.836734693877546,
            16.836734693877546,
            16.836734693877546,
            16.836734693877546,
            16.836734693877546,
            16.836734693877546,
            16.836734693877546,
            16.836734693877546,
            16.836734693877546,
            16.836734693877546,
            16.836734693877546,
            16.836734693877546,
            16.836734693877546,
            16.836734693877546,
            null
           ]
          }
         ],
         "name": "frame_32",
         "traces": [
          0,
          1
         ]
        },
        {
         "data": [
          {
           "color": "lightblue",
           "i": {
            "bdata": "AQECAgQEBQUGBgcHCAgJCQoKCwsMDA0NDg4PDxAQERESEhMTFBQVFRYWFxcYGBkZGhobGxwcHR0eHh8fICAhIQ==",
            "dtype": "i1"
           },
           "j": {
            "bdata": "AAQEBQAGBgcACAgJAAoKCwAMDA0ADg4PABAQEQASEhMAFBQVABYWFwAYGBkAGhobABwcHQAeHh8AICAhAAEBAg==",
            "dtype": "i1"
           },
           "k": {
            "bdata": "BAIFAwYFBwMIBwkDCgkLAwwLDQMODQ8DEA8RAxIREwMUExUDFhUXAxgXGQMaGRsDHBsdAx4dHwMgHyEDASECAw==",
            "dtype": "i1"
           },
           "name": "Mesh",
           "opacity": 0.3,
           "type": "mesh3d",
           "x": {
            "bdata": "AAAAAAAAAAAAAAAAAAAUQAAAAAAAABRAAAAAAAAAAABMmH9hQ3oSQEyYf2FDehJAwAofAMZIDEDACh8AxkgMQL1TWlBbnf4/vVNaUFud/j8Jc9m/rw+2PAlz2b+vD7Y8ulNaUFud/r+6U1pQW53+v78KHwDGSAzAvwofAMZIDMBMmH9hQ3oSwEyYf2FDehLAAAAAAAAAFMAAAAAAAAAUwEyYf2FDehLATJh/YUN6EsDCCh8AxkgMwMIKHwDGSAzAyFNaUFud/r/IU1pQW53+v0YW48/Di9C8Rhbjz8OL0LzBU1pQW53+P8FTWlBbnf4/vgofAMZIDEC+Ch8AxkgMQEqYf2FDehJASph/YUN6EkA=",
            "dtype": "f8"
           },
           "y": {
            "bdata": "AAAAAAAAAAAAAAAAAAAAAAAAAAAAAAAAAAAAAAAAAAC8U1pQW53+P7xTWlBbnf4/wAofAMZIDEDACh8AxkgMQEyYf2FDehJATJh/YUN6EkAAAAAAAAAUQAAAAAAAABRATJh/YUN6EkBMmH9hQ3oSQMAKHwDGSAxAwAofAMZIDEC+U1pQW53+P75TWlBbnf4/CXPZv68PxjwJc9m/rw/GPLlTWlBbnf6/uVNaUFud/r+/Ch8AxkgMwL8KHwDGSAzASph/YUN6EsBKmH9hQ3oSwAAAAAAAABTAAAAAAAAAFMBLmH9hQ3oSwEuYf2FDehLAwgofAMZIDMDCCh8AxkgMwMpTWlBbnf6/ylNaUFud/r8=",
            "dtype": "f8"
           },
           "z": {
            "bdata": "AAAAAAAAScAAAAAAAABJwAAAAAAAAElAAAAAAAAASUAAAAAAAABJwAAAAAAAAElAAAAAAAAAScAAAAAAAABJQAAAAAAAAEnAAAAAAAAASUAAAAAAAABJwAAAAAAAAElAAAAAAAAAScAAAAAAAABJQAAAAAAAAEnAAAAAAAAASUAAAAAAAABJwAAAAAAAAElAAAAAAAAAScAAAAAAAABJQAAAAAAAAEnAAAAAAAAASUAAAAAAAABJwAAAAAAAAElAAAAAAAAAScAAAAAAAABJQAAAAAAAAEnAAAAAAAAASUAAAAAAAABJwAAAAAAAAElAAAAAAAAAScAAAAAAAABJQAAAAAAAAEnAAAAAAAAASUA=",
            "dtype": "f8"
           }
          },
          {
           "line": {
            "color": "red",
            "width": 5
           },
           "mode": "lines",
           "name": "Slice at z=19.08",
           "type": "scatter3d",
           "x": [
            3.061616997868383e-16,
            1.3218198148528868,
            1.9134171618254492,
            3.0340018921934435,
            3.5355339059327378,
            4.284284684743189,
            4.619397662556434,
            4.882323971178162,
            5,
            4.73707369137827,
            4.619397662556432,
            3.8706468837459815,
            3.535533905932737,
            2.414949175564744,
            1.91341716182545,
            0.591597346972562,
            -9.184850993605148e-16,
            -1.3218198148528888,
            -1.9134171618254516,
            -3.034001892193445,
            -3.5355339059327386,
            -4.28428468474319,
            -4.619397662556434,
            -4.882323971178162,
            -5,
            -4.737073691378272,
            -4.619397662556434,
            -3.8706468837459824,
            -3.5355339059327373,
            -2.414949175564743,
            -1.9134171618254485,
            -0.5915973469725619,
            3.061616997868383e-16,
            null
           ],
           "y": [
            5,
            4.737073691378272,
            4.619397662556434,
            3.870646883745983,
            3.5355339059327378,
            2.414949175564743,
            1.913417161825449,
            0.5915973469725624,
            0,
            -1.3218198148528888,
            -1.913417161825452,
            -3.034001892193445,
            -3.5355339059327386,
            -4.284284684743189,
            -4.619397662556433,
            -4.882323971178162,
            -5,
            -4.73707369137827,
            -4.619397662556432,
            -3.870646883745982,
            -3.5355339059327373,
            -2.4149491755647428,
            -1.9134171618254483,
            -0.5915973469725617,
            6.123233995736766e-16,
            1.321819814852887,
            1.9134171618254494,
            3.0340018921934435,
            3.5355339059327378,
            4.284284684743189,
            4.619397662556434,
            4.882323971178162,
            5,
            null
           ],
           "z": [
            19.08163265306122,
            19.08163265306122,
            19.08163265306122,
            19.08163265306122,
            19.08163265306122,
            19.08163265306122,
            19.08163265306122,
            19.08163265306122,
            19.08163265306122,
            19.08163265306122,
            19.08163265306122,
            19.08163265306122,
            19.08163265306122,
            19.08163265306122,
            19.08163265306122,
            19.08163265306122,
            19.08163265306122,
            19.08163265306122,
            19.08163265306122,
            19.08163265306122,
            19.08163265306122,
            19.08163265306122,
            19.08163265306122,
            19.08163265306122,
            19.08163265306122,
            19.08163265306122,
            19.08163265306122,
            19.08163265306122,
            19.08163265306122,
            19.08163265306122,
            19.08163265306122,
            19.08163265306122,
            19.08163265306122,
            null
           ]
          }
         ],
         "name": "frame_33",
         "traces": [
          0,
          1
         ]
        },
        {
         "data": [
          {
           "color": "lightblue",
           "i": {
            "bdata": "AQECAgQEBQUGBgcHCAgJCQoKCwsMDA0NDg4PDxAQERESEhMTFBQVFRYWFxcYGBkZGhobGxwcHR0eHh8fICAhIQ==",
            "dtype": "i1"
           },
           "j": {
            "bdata": "AAQEBQAGBgcACAgJAAoKCwAMDA0ADg4PABAQEQASEhMAFBQVABYWFwAYGBkAGhobABwcHQAeHh8AICAhAAEBAg==",
            "dtype": "i1"
           },
           "k": {
            "bdata": "BAIFAwYFBwMIBwkDCgkLAwwLDQMODQ8DEA8RAxIREwMUExUDFhUXAxgXGQMaGRsDHBsdAx4dHwMgHyEDASECAw==",
            "dtype": "i1"
           },
           "name": "Mesh",
           "opacity": 0.3,
           "type": "mesh3d",
           "x": {
            "bdata": "AAAAAAAAAAAAAAAAAAAUQAAAAAAAABRAAAAAAAAAAABMmH9hQ3oSQEyYf2FDehJAwAofAMZIDEDACh8AxkgMQL1TWlBbnf4/vVNaUFud/j8Jc9m/rw+2PAlz2b+vD7Y8ulNaUFud/r+6U1pQW53+v78KHwDGSAzAvwofAMZIDMBMmH9hQ3oSwEyYf2FDehLAAAAAAAAAFMAAAAAAAAAUwEyYf2FDehLATJh/YUN6EsDCCh8AxkgMwMIKHwDGSAzAyFNaUFud/r/IU1pQW53+v0YW48/Di9C8Rhbjz8OL0LzBU1pQW53+P8FTWlBbnf4/vgofAMZIDEC+Ch8AxkgMQEqYf2FDehJASph/YUN6EkA=",
            "dtype": "f8"
           },
           "y": {
            "bdata": "AAAAAAAAAAAAAAAAAAAAAAAAAAAAAAAAAAAAAAAAAAC8U1pQW53+P7xTWlBbnf4/wAofAMZIDEDACh8AxkgMQEyYf2FDehJATJh/YUN6EkAAAAAAAAAUQAAAAAAAABRATJh/YUN6EkBMmH9hQ3oSQMAKHwDGSAxAwAofAMZIDEC+U1pQW53+P75TWlBbnf4/CXPZv68PxjwJc9m/rw/GPLlTWlBbnf6/uVNaUFud/r+/Ch8AxkgMwL8KHwDGSAzASph/YUN6EsBKmH9hQ3oSwAAAAAAAABTAAAAAAAAAFMBLmH9hQ3oSwEuYf2FDehLAwgofAMZIDMDCCh8AxkgMwMpTWlBbnf6/ylNaUFud/r8=",
            "dtype": "f8"
           },
           "z": {
            "bdata": "AAAAAAAAScAAAAAAAABJwAAAAAAAAElAAAAAAAAASUAAAAAAAABJwAAAAAAAAElAAAAAAAAAScAAAAAAAABJQAAAAAAAAEnAAAAAAAAASUAAAAAAAABJwAAAAAAAAElAAAAAAAAAScAAAAAAAABJQAAAAAAAAEnAAAAAAAAASUAAAAAAAABJwAAAAAAAAElAAAAAAAAAScAAAAAAAABJQAAAAAAAAEnAAAAAAAAASUAAAAAAAABJwAAAAAAAAElAAAAAAAAAScAAAAAAAABJQAAAAAAAAEnAAAAAAAAASUAAAAAAAABJwAAAAAAAAElAAAAAAAAAScAAAAAAAABJQAAAAAAAAEnAAAAAAAAASUA=",
            "dtype": "f8"
           }
          },
          {
           "line": {
            "color": "red",
            "width": 5
           },
           "mode": "lines",
           "name": "Slice at z=21.33",
           "type": "scatter3d",
           "x": [
            3.061616997868383e-16,
            1.3647740776693764,
            1.9134171618254492,
            3.0704167578774846,
            3.5355339059327378,
            4.3086163200959655,
            4.619397662556434,
            4.890868105284039,
            5,
            4.7285295572723935,
            4.619397662556432,
            3.8463152483932044,
            3.535533905932737,
            2.3785343098807026,
            1.91341716182545,
            0.5486430841560723,
            -9.184850993605148e-16,
            -1.3647740776693784,
            -1.9134171618254516,
            -3.070416757877486,
            -3.5355339059327386,
            -4.308616320095966,
            -4.619397662556434,
            -4.890868105284039,
            -5,
            -4.728529557272395,
            -4.619397662556434,
            -3.8463152483932053,
            -3.5355339059327373,
            -2.3785343098807017,
            -1.9134171618254485,
            -0.5486430841560723,
            3.061616997868383e-16,
            null
           ],
           "y": [
            5,
            4.728529557272395,
            4.619397662556434,
            3.8463152483932057,
            3.5355339059327378,
            2.378534309880702,
            1.913417161825449,
            0.5486430841560727,
            0,
            -1.3647740776693786,
            -1.913417161825452,
            -3.070416757877486,
            -3.5355339059327386,
            -4.3086163200959655,
            -4.619397662556433,
            -4.890868105284039,
            -5,
            -4.7285295572723935,
            -4.619397662556432,
            -3.846315248393205,
            -3.5355339059327373,
            -2.3785343098807017,
            -1.9134171618254483,
            -0.548643084156072,
            6.123233995736766e-16,
            1.3647740776693769,
            1.9134171618254494,
            3.0704167578774846,
            3.5355339059327378,
            4.3086163200959655,
            4.619397662556434,
            4.890868105284039,
            5,
            null
           ],
           "z": [
            21.326530612244895,
            21.326530612244895,
            21.326530612244895,
            21.326530612244895,
            21.326530612244895,
            21.326530612244895,
            21.326530612244895,
            21.326530612244895,
            21.326530612244895,
            21.326530612244895,
            21.326530612244895,
            21.326530612244895,
            21.326530612244895,
            21.326530612244895,
            21.326530612244895,
            21.326530612244895,
            21.326530612244895,
            21.326530612244895,
            21.326530612244895,
            21.326530612244895,
            21.326530612244895,
            21.326530612244895,
            21.326530612244895,
            21.326530612244895,
            21.326530612244895,
            21.326530612244895,
            21.326530612244895,
            21.326530612244895,
            21.326530612244895,
            21.326530612244895,
            21.326530612244895,
            21.326530612244895,
            21.326530612244895,
            null
           ]
          }
         ],
         "name": "frame_34",
         "traces": [
          0,
          1
         ]
        },
        {
         "data": [
          {
           "color": "lightblue",
           "i": {
            "bdata": "AQECAgQEBQUGBgcHCAgJCQoKCwsMDA0NDg4PDxAQERESEhMTFBQVFRYWFxcYGBkZGhobGxwcHR0eHh8fICAhIQ==",
            "dtype": "i1"
           },
           "j": {
            "bdata": "AAQEBQAGBgcACAgJAAoKCwAMDA0ADg4PABAQEQASEhMAFBQVABYWFwAYGBkAGhobABwcHQAeHh8AICAhAAEBAg==",
            "dtype": "i1"
           },
           "k": {
            "bdata": "BAIFAwYFBwMIBwkDCgkLAwwLDQMODQ8DEA8RAxIREwMUExUDFhUXAxgXGQMaGRsDHBsdAx4dHwMgHyEDASECAw==",
            "dtype": "i1"
           },
           "name": "Mesh",
           "opacity": 0.3,
           "type": "mesh3d",
           "x": {
            "bdata": "AAAAAAAAAAAAAAAAAAAUQAAAAAAAABRAAAAAAAAAAABMmH9hQ3oSQEyYf2FDehJAwAofAMZIDEDACh8AxkgMQL1TWlBbnf4/vVNaUFud/j8Jc9m/rw+2PAlz2b+vD7Y8ulNaUFud/r+6U1pQW53+v78KHwDGSAzAvwofAMZIDMBMmH9hQ3oSwEyYf2FDehLAAAAAAAAAFMAAAAAAAAAUwEyYf2FDehLATJh/YUN6EsDCCh8AxkgMwMIKHwDGSAzAyFNaUFud/r/IU1pQW53+v0YW48/Di9C8Rhbjz8OL0LzBU1pQW53+P8FTWlBbnf4/vgofAMZIDEC+Ch8AxkgMQEqYf2FDehJASph/YUN6EkA=",
            "dtype": "f8"
           },
           "y": {
            "bdata": "AAAAAAAAAAAAAAAAAAAAAAAAAAAAAAAAAAAAAAAAAAC8U1pQW53+P7xTWlBbnf4/wAofAMZIDEDACh8AxkgMQEyYf2FDehJATJh/YUN6EkAAAAAAAAAUQAAAAAAAABRATJh/YUN6EkBMmH9hQ3oSQMAKHwDGSAxAwAofAMZIDEC+U1pQW53+P75TWlBbnf4/CXPZv68PxjwJc9m/rw/GPLlTWlBbnf6/uVNaUFud/r+/Ch8AxkgMwL8KHwDGSAzASph/YUN6EsBKmH9hQ3oSwAAAAAAAABTAAAAAAAAAFMBLmH9hQ3oSwEuYf2FDehLAwgofAMZIDMDCCh8AxkgMwMpTWlBbnf6/ylNaUFud/r8=",
            "dtype": "f8"
           },
           "z": {
            "bdata": "AAAAAAAAScAAAAAAAABJwAAAAAAAAElAAAAAAAAASUAAAAAAAABJwAAAAAAAAElAAAAAAAAAScAAAAAAAABJQAAAAAAAAEnAAAAAAAAASUAAAAAAAABJwAAAAAAAAElAAAAAAAAAScAAAAAAAABJQAAAAAAAAEnAAAAAAAAASUAAAAAAAABJwAAAAAAAAElAAAAAAAAAScAAAAAAAABJQAAAAAAAAEnAAAAAAAAASUAAAAAAAABJwAAAAAAAAElAAAAAAAAAScAAAAAAAABJQAAAAAAAAEnAAAAAAAAASUAAAAAAAABJwAAAAAAAAElAAAAAAAAAScAAAAAAAABJQAAAAAAAAEnAAAAAAAAASUA=",
            "dtype": "f8"
           }
          },
          {
           "line": {
            "color": "red",
            "width": 5
           },
           "mode": "lines",
           "name": "Slice at z=23.57",
           "type": "scatter3d",
           "x": [
            3.061616997868383e-16,
            -0.5056888213395826,
            -1.9134171618254485,
            -2.3421194441966606,
            -3.5355339059327373,
            -3.8219836130404286,
            -4.619397662556434,
            -4.719985423166519,
            -5,
            -4.899412239389915,
            -4.619397662556434,
            -4.332947955448743,
            -3.5355339059327386,
            -3.106831623561527,
            -1.9134171618254516,
            -1.407728340485868,
            -9.184850993605148e-16,
            0.5056888213395826,
            1.91341716182545,
            2.3421194441966615,
            3.535533905932737,
            3.8219836130404277,
            4.619397662556432,
            4.719985423166518,
            5,
            4.899412239389915,
            4.619397662556434,
            4.332947955448743,
            3.5355339059327378,
            3.1068316235615256,
            1.9134171618254492,
            1.4077283404858663,
            3.061616997868383e-16,
            null
           ],
           "y": [
            5,
            4.899412239389915,
            4.619397662556434,
            4.332947955448743,
            3.5355339059327378,
            3.1068316235615256,
            1.9134171618254494,
            1.4077283404858665,
            6.123233995736766e-16,
            -0.5056888213395824,
            -1.9134171618254483,
            -2.34211944419666,
            -3.5355339059327373,
            -3.821983613040428,
            -4.619397662556432,
            -4.719985423166518,
            -5,
            -4.899412239389914,
            -4.619397662556433,
            -4.332947955448742,
            -3.5355339059327386,
            -3.1068316235615274,
            -1.913417161825452,
            -1.4077283404858683,
            0,
            0.505688821339583,
            1.913417161825449,
            2.342119444196661,
            3.5355339059327378,
            3.821983613040429,
            4.619397662556434,
            4.719985423166519,
            5,
            null
           ],
           "z": [
            23.57142857142857,
            23.57142857142857,
            23.57142857142857,
            23.57142857142857,
            23.57142857142857,
            23.57142857142857,
            23.57142857142857,
            23.57142857142857,
            23.57142857142857,
            23.57142857142857,
            23.57142857142857,
            23.57142857142857,
            23.57142857142857,
            23.57142857142857,
            23.57142857142857,
            23.57142857142857,
            23.57142857142857,
            23.57142857142857,
            23.57142857142857,
            23.57142857142857,
            23.57142857142857,
            23.57142857142857,
            23.57142857142857,
            23.57142857142857,
            23.57142857142857,
            23.57142857142857,
            23.57142857142857,
            23.57142857142857,
            23.57142857142857,
            23.57142857142857,
            23.57142857142857,
            23.57142857142857,
            23.57142857142857,
            null
           ]
          }
         ],
         "name": "frame_35",
         "traces": [
          0,
          1
         ]
        },
        {
         "data": [
          {
           "color": "lightblue",
           "i": {
            "bdata": "AQECAgQEBQUGBgcHCAgJCQoKCwsMDA0NDg4PDxAQERESEhMTFBQVFRYWFxcYGBkZGhobGxwcHR0eHh8fICAhIQ==",
            "dtype": "i1"
           },
           "j": {
            "bdata": "AAQEBQAGBgcACAgJAAoKCwAMDA0ADg4PABAQEQASEhMAFBQVABYWFwAYGBkAGhobABwcHQAeHh8AICAhAAEBAg==",
            "dtype": "i1"
           },
           "k": {
            "bdata": "BAIFAwYFBwMIBwkDCgkLAwwLDQMODQ8DEA8RAxIREwMUExUDFhUXAxgXGQMaGRsDHBsdAx4dHwMgHyEDASECAw==",
            "dtype": "i1"
           },
           "name": "Mesh",
           "opacity": 0.3,
           "type": "mesh3d",
           "x": {
            "bdata": "AAAAAAAAAAAAAAAAAAAUQAAAAAAAABRAAAAAAAAAAABMmH9hQ3oSQEyYf2FDehJAwAofAMZIDEDACh8AxkgMQL1TWlBbnf4/vVNaUFud/j8Jc9m/rw+2PAlz2b+vD7Y8ulNaUFud/r+6U1pQW53+v78KHwDGSAzAvwofAMZIDMBMmH9hQ3oSwEyYf2FDehLAAAAAAAAAFMAAAAAAAAAUwEyYf2FDehLATJh/YUN6EsDCCh8AxkgMwMIKHwDGSAzAyFNaUFud/r/IU1pQW53+v0YW48/Di9C8Rhbjz8OL0LzBU1pQW53+P8FTWlBbnf4/vgofAMZIDEC+Ch8AxkgMQEqYf2FDehJASph/YUN6EkA=",
            "dtype": "f8"
           },
           "y": {
            "bdata": "AAAAAAAAAAAAAAAAAAAAAAAAAAAAAAAAAAAAAAAAAAC8U1pQW53+P7xTWlBbnf4/wAofAMZIDEDACh8AxkgMQEyYf2FDehJATJh/YUN6EkAAAAAAAAAUQAAAAAAAABRATJh/YUN6EkBMmH9hQ3oSQMAKHwDGSAxAwAofAMZIDEC+U1pQW53+P75TWlBbnf4/CXPZv68PxjwJc9m/rw/GPLlTWlBbnf6/uVNaUFud/r+/Ch8AxkgMwL8KHwDGSAzASph/YUN6EsBKmH9hQ3oSwAAAAAAAABTAAAAAAAAAFMBLmH9hQ3oSwEuYf2FDehLAwgofAMZIDMDCCh8AxkgMwMpTWlBbnf6/ylNaUFud/r8=",
            "dtype": "f8"
           },
           "z": {
            "bdata": "AAAAAAAAScAAAAAAAABJwAAAAAAAAElAAAAAAAAASUAAAAAAAABJwAAAAAAAAElAAAAAAAAAScAAAAAAAABJQAAAAAAAAEnAAAAAAAAASUAAAAAAAABJwAAAAAAAAElAAAAAAAAAScAAAAAAAABJQAAAAAAAAEnAAAAAAAAASUAAAAAAAABJwAAAAAAAAElAAAAAAAAAScAAAAAAAABJQAAAAAAAAEnAAAAAAAAASUAAAAAAAABJwAAAAAAAAElAAAAAAAAAScAAAAAAAABJQAAAAAAAAEnAAAAAAAAASUAAAAAAAABJwAAAAAAAAElAAAAAAAAAScAAAAAAAABJQAAAAAAAAEnAAAAAAAAASUA=",
            "dtype": "f8"
           }
          },
          {
           "line": {
            "color": "red",
            "width": 5
           },
           "mode": "lines",
           "name": "Slice at z=25.82",
           "type": "scatter3d",
           "x": [
            3.061616997868383e-16,
            -0.46273455852309286,
            -1.9134171618254485,
            -2.3057045785126196,
            -3.5355339059327373,
            -3.797651977687652,
            -4.619397662556434,
            -4.711441289060644,
            -5,
            -4.90795637349579,
            -4.619397662556434,
            -4.35727959080152,
            -3.5355339059327386,
            -3.143246489245568,
            -1.9134171618254516,
            -1.4506826033023579,
            -9.184850993605148e-16,
            0.46273455852309275,
            1.91341716182545,
            2.3057045785126205,
            3.535533905932737,
            3.797651977687651,
            4.619397662556432,
            4.711441289060642,
            5,
            4.90795637349579,
            4.619397662556434,
            4.35727959080152,
            3.5355339059327378,
            3.143246489245567,
            1.9134171618254492,
            1.4506826033023559,
            3.061616997868383e-16,
            null
           ],
           "y": [
            5,
            4.90795637349579,
            4.619397662556434,
            4.35727959080152,
            3.5355339059327378,
            3.143246489245567,
            1.9134171618254494,
            1.450682603302356,
            6.123233995736766e-16,
            -0.4627345585230927,
            -1.9134171618254483,
            -2.305704578512619,
            -3.5355339059327373,
            -3.7976519776876514,
            -4.619397662556432,
            -4.711441289060642,
            -5,
            -4.90795637349579,
            -4.619397662556433,
            -4.357279590801519,
            -3.5355339059327386,
            -3.1432464892455685,
            -1.913417161825452,
            -1.450682603302358,
            0,
            0.4627345585230933,
            1.913417161825449,
            2.30570457851262,
            3.5355339059327378,
            3.797651977687652,
            4.619397662556434,
            4.711441289060644,
            5,
            null
           ],
           "z": [
            25.816326530612244,
            25.816326530612244,
            25.816326530612244,
            25.816326530612244,
            25.816326530612244,
            25.816326530612244,
            25.816326530612244,
            25.816326530612244,
            25.816326530612244,
            25.816326530612244,
            25.816326530612244,
            25.816326530612244,
            25.816326530612244,
            25.816326530612244,
            25.816326530612244,
            25.816326530612244,
            25.816326530612244,
            25.816326530612244,
            25.816326530612244,
            25.816326530612244,
            25.816326530612244,
            25.816326530612244,
            25.816326530612244,
            25.816326530612244,
            25.816326530612244,
            25.816326530612244,
            25.816326530612244,
            25.816326530612244,
            25.816326530612244,
            25.816326530612244,
            25.816326530612244,
            25.816326530612244,
            25.816326530612244,
            null
           ]
          }
         ],
         "name": "frame_36",
         "traces": [
          0,
          1
         ]
        },
        {
         "data": [
          {
           "color": "lightblue",
           "i": {
            "bdata": "AQECAgQEBQUGBgcHCAgJCQoKCwsMDA0NDg4PDxAQERESEhMTFBQVFRYWFxcYGBkZGhobGxwcHR0eHh8fICAhIQ==",
            "dtype": "i1"
           },
           "j": {
            "bdata": "AAQEBQAGBgcACAgJAAoKCwAMDA0ADg4PABAQEQASEhMAFBQVABYWFwAYGBkAGhobABwcHQAeHh8AICAhAAEBAg==",
            "dtype": "i1"
           },
           "k": {
            "bdata": "BAIFAwYFBwMIBwkDCgkLAwwLDQMODQ8DEA8RAxIREwMUExUDFhUXAxgXGQMaGRsDHBsdAx4dHwMgHyEDASECAw==",
            "dtype": "i1"
           },
           "name": "Mesh",
           "opacity": 0.3,
           "type": "mesh3d",
           "x": {
            "bdata": "AAAAAAAAAAAAAAAAAAAUQAAAAAAAABRAAAAAAAAAAABMmH9hQ3oSQEyYf2FDehJAwAofAMZIDEDACh8AxkgMQL1TWlBbnf4/vVNaUFud/j8Jc9m/rw+2PAlz2b+vD7Y8ulNaUFud/r+6U1pQW53+v78KHwDGSAzAvwofAMZIDMBMmH9hQ3oSwEyYf2FDehLAAAAAAAAAFMAAAAAAAAAUwEyYf2FDehLATJh/YUN6EsDCCh8AxkgMwMIKHwDGSAzAyFNaUFud/r/IU1pQW53+v0YW48/Di9C8Rhbjz8OL0LzBU1pQW53+P8FTWlBbnf4/vgofAMZIDEC+Ch8AxkgMQEqYf2FDehJASph/YUN6EkA=",
            "dtype": "f8"
           },
           "y": {
            "bdata": "AAAAAAAAAAAAAAAAAAAAAAAAAAAAAAAAAAAAAAAAAAC8U1pQW53+P7xTWlBbnf4/wAofAMZIDEDACh8AxkgMQEyYf2FDehJATJh/YUN6EkAAAAAAAAAUQAAAAAAAABRATJh/YUN6EkBMmH9hQ3oSQMAKHwDGSAxAwAofAMZIDEC+U1pQW53+P75TWlBbnf4/CXPZv68PxjwJc9m/rw/GPLlTWlBbnf6/uVNaUFud/r+/Ch8AxkgMwL8KHwDGSAzASph/YUN6EsBKmH9hQ3oSwAAAAAAAABTAAAAAAAAAFMBLmH9hQ3oSwEuYf2FDehLAwgofAMZIDMDCCh8AxkgMwMpTWlBbnf6/ylNaUFud/r8=",
            "dtype": "f8"
           },
           "z": {
            "bdata": "AAAAAAAAScAAAAAAAABJwAAAAAAAAElAAAAAAAAASUAAAAAAAABJwAAAAAAAAElAAAAAAAAAScAAAAAAAABJQAAAAAAAAEnAAAAAAAAASUAAAAAAAABJwAAAAAAAAElAAAAAAAAAScAAAAAAAABJQAAAAAAAAEnAAAAAAAAASUAAAAAAAABJwAAAAAAAAElAAAAAAAAAScAAAAAAAABJQAAAAAAAAEnAAAAAAAAASUAAAAAAAABJwAAAAAAAAElAAAAAAAAAScAAAAAAAABJQAAAAAAAAEnAAAAAAAAASUAAAAAAAABJwAAAAAAAAElAAAAAAAAAScAAAAAAAABJQAAAAAAAAEnAAAAAAAAASUA=",
            "dtype": "f8"
           }
          },
          {
           "line": {
            "color": "red",
            "width": 5
           },
           "mode": "lines",
           "name": "Slice at z=28.06",
           "type": "scatter3d",
           "x": [
            3.061616997868383e-16,
            -0.4197802957066032,
            -1.9134171618254485,
            -2.269289712828578,
            -3.5355339059327373,
            -3.7733203423348747,
            -4.619397662556434,
            -4.702897154954767,
            -5,
            -4.916500507601667,
            -4.619397662556434,
            -4.3816112261542965,
            -3.5355339059327386,
            -3.1796613549296096,
            -1.9134171618254516,
            -1.4936368661188477,
            -9.184850993605148e-16,
            0.419780295706603,
            1.91341716182545,
            2.2692897128285794,
            3.535533905932737,
            3.7733203423348742,
            4.619397662556432,
            4.702897154954766,
            5,
            4.916500507601667,
            4.619397662556434,
            4.3816112261542965,
            3.5355339059327378,
            3.179661354929608,
            1.9134171618254492,
            1.4936368661188455,
            3.061616997868383e-16,
            null
           ],
           "y": [
            5,
            4.916500507601667,
            4.619397662556434,
            4.3816112261542965,
            3.5355339059327378,
            3.179661354929608,
            1.9134171618254494,
            1.493636866118846,
            6.123233995736766e-16,
            -0.41978029570660297,
            -1.9134171618254483,
            -2.269289712828578,
            -3.5355339059327373,
            -3.7733203423348742,
            -4.619397662556432,
            -4.702897154954766,
            -5,
            -4.916500507601667,
            -4.619397662556433,
            -4.381611226154296,
            -3.5355339059327386,
            -3.1796613549296096,
            -1.913417161825452,
            -1.4936368661188477,
            0,
            0.4197802957066036,
            1.913417161825449,
            2.2692897128285785,
            3.5355339059327378,
            3.773320342334875,
            4.619397662556434,
            4.702897154954767,
            5,
            null
           ],
           "z": [
            28.06122448979592,
            28.06122448979592,
            28.06122448979592,
            28.06122448979592,
            28.06122448979592,
            28.06122448979592,
            28.06122448979592,
            28.06122448979592,
            28.06122448979592,
            28.06122448979592,
            28.06122448979592,
            28.06122448979592,
            28.06122448979592,
            28.06122448979592,
            28.06122448979592,
            28.06122448979592,
            28.06122448979592,
            28.06122448979592,
            28.06122448979592,
            28.06122448979592,
            28.06122448979592,
            28.06122448979592,
            28.06122448979592,
            28.06122448979592,
            28.06122448979592,
            28.06122448979592,
            28.06122448979592,
            28.06122448979592,
            28.06122448979592,
            28.06122448979592,
            28.06122448979592,
            28.06122448979592,
            28.06122448979592,
            null
           ]
          }
         ],
         "name": "frame_37",
         "traces": [
          0,
          1
         ]
        },
        {
         "data": [
          {
           "color": "lightblue",
           "i": {
            "bdata": "AQECAgQEBQUGBgcHCAgJCQoKCwsMDA0NDg4PDxAQERESEhMTFBQVFRYWFxcYGBkZGhobGxwcHR0eHh8fICAhIQ==",
            "dtype": "i1"
           },
           "j": {
            "bdata": "AAQEBQAGBgcACAgJAAoKCwAMDA0ADg4PABAQEQASEhMAFBQVABYWFwAYGBkAGhobABwcHQAeHh8AICAhAAEBAg==",
            "dtype": "i1"
           },
           "k": {
            "bdata": "BAIFAwYFBwMIBwkDCgkLAwwLDQMODQ8DEA8RAxIREwMUExUDFhUXAxgXGQMaGRsDHBsdAx4dHwMgHyEDASECAw==",
            "dtype": "i1"
           },
           "name": "Mesh",
           "opacity": 0.3,
           "type": "mesh3d",
           "x": {
            "bdata": "AAAAAAAAAAAAAAAAAAAUQAAAAAAAABRAAAAAAAAAAABMmH9hQ3oSQEyYf2FDehJAwAofAMZIDEDACh8AxkgMQL1TWlBbnf4/vVNaUFud/j8Jc9m/rw+2PAlz2b+vD7Y8ulNaUFud/r+6U1pQW53+v78KHwDGSAzAvwofAMZIDMBMmH9hQ3oSwEyYf2FDehLAAAAAAAAAFMAAAAAAAAAUwEyYf2FDehLATJh/YUN6EsDCCh8AxkgMwMIKHwDGSAzAyFNaUFud/r/IU1pQW53+v0YW48/Di9C8Rhbjz8OL0LzBU1pQW53+P8FTWlBbnf4/vgofAMZIDEC+Ch8AxkgMQEqYf2FDehJASph/YUN6EkA=",
            "dtype": "f8"
           },
           "y": {
            "bdata": "AAAAAAAAAAAAAAAAAAAAAAAAAAAAAAAAAAAAAAAAAAC8U1pQW53+P7xTWlBbnf4/wAofAMZIDEDACh8AxkgMQEyYf2FDehJATJh/YUN6EkAAAAAAAAAUQAAAAAAAABRATJh/YUN6EkBMmH9hQ3oSQMAKHwDGSAxAwAofAMZIDEC+U1pQW53+P75TWlBbnf4/CXPZv68PxjwJc9m/rw/GPLlTWlBbnf6/uVNaUFud/r+/Ch8AxkgMwL8KHwDGSAzASph/YUN6EsBKmH9hQ3oSwAAAAAAAABTAAAAAAAAAFMBLmH9hQ3oSwEuYf2FDehLAwgofAMZIDMDCCh8AxkgMwMpTWlBbnf6/ylNaUFud/r8=",
            "dtype": "f8"
           },
           "z": {
            "bdata": "AAAAAAAAScAAAAAAAABJwAAAAAAAAElAAAAAAAAASUAAAAAAAABJwAAAAAAAAElAAAAAAAAAScAAAAAAAABJQAAAAAAAAEnAAAAAAAAASUAAAAAAAABJwAAAAAAAAElAAAAAAAAAScAAAAAAAABJQAAAAAAAAEnAAAAAAAAASUAAAAAAAABJwAAAAAAAAElAAAAAAAAAScAAAAAAAABJQAAAAAAAAEnAAAAAAAAASUAAAAAAAABJwAAAAAAAAElAAAAAAAAAScAAAAAAAABJQAAAAAAAAEnAAAAAAAAASUAAAAAAAABJwAAAAAAAAElAAAAAAAAAScAAAAAAAABJQAAAAAAAAEnAAAAAAAAASUA=",
            "dtype": "f8"
           }
          },
          {
           "line": {
            "color": "red",
            "width": 5
           },
           "mode": "lines",
           "name": "Slice at z=30.31",
           "type": "scatter3d",
           "x": [
            3.061616997868383e-16,
            1.536591128935335,
            1.9134171618254492,
            3.2160762206136493,
            3.5355339059327378,
            4.405942861507073,
            4.619397662556434,
            4.925044641707543,
            5,
            4.69435302084889,
            4.619397662556432,
            3.7489887069820975,
            3.535533905932737,
            2.2328748471445383,
            1.91341716182545,
            0.37682603289011357,
            -9.184850993605148e-16,
            -1.5365911289353371,
            -1.9134171618254516,
            -3.21607622061365,
            -3.5355339059327386,
            -4.405942861507073,
            -4.619397662556434,
            -4.925044641707543,
            -5,
            -4.694353020848891,
            -4.619397662556434,
            -3.748988706982098,
            -3.5355339059327373,
            -2.2328748471445374,
            -1.9134171618254485,
            -0.37682603289011374,
            3.061616997868383e-16,
            null
           ],
           "y": [
            5,
            4.694353020848891,
            4.619397662556434,
            3.7489887069820984,
            3.5355339059327378,
            2.2328748471445374,
            1.913417161825449,
            0.3768260328901142,
            0,
            -1.5365911289353373,
            -1.913417161825452,
            -3.2160762206136506,
            -3.5355339059327386,
            -4.405942861507072,
            -4.619397662556433,
            -4.925044641707542,
            -5,
            -4.69435302084889,
            -4.619397662556432,
            -3.7489887069820975,
            -3.5355339059327373,
            -2.232874847144537,
            -1.9134171618254483,
            -0.37682603289011357,
            6.123233995736766e-16,
            1.5365911289353353,
            1.9134171618254494,
            3.2160762206136493,
            3.5355339059327378,
            4.405942861507073,
            4.619397662556434,
            4.925044641707543,
            5,
            null
           ],
           "z": [
            30.30612244897958,
            30.30612244897958,
            30.30612244897958,
            30.30612244897958,
            30.30612244897958,
            30.30612244897958,
            30.30612244897958,
            30.30612244897958,
            30.30612244897958,
            30.30612244897958,
            30.30612244897958,
            30.30612244897958,
            30.30612244897958,
            30.30612244897958,
            30.30612244897958,
            30.30612244897958,
            30.30612244897958,
            30.30612244897958,
            30.30612244897958,
            30.30612244897958,
            30.30612244897958,
            30.30612244897958,
            30.30612244897958,
            30.30612244897958,
            30.30612244897958,
            30.30612244897958,
            30.30612244897958,
            30.30612244897958,
            30.30612244897958,
            30.30612244897958,
            30.30612244897958,
            30.30612244897958,
            30.30612244897958,
            null
           ]
          }
         ],
         "name": "frame_38",
         "traces": [
          0,
          1
         ]
        },
        {
         "data": [
          {
           "color": "lightblue",
           "i": {
            "bdata": "AQECAgQEBQUGBgcHCAgJCQoKCwsMDA0NDg4PDxAQERESEhMTFBQVFRYWFxcYGBkZGhobGxwcHR0eHh8fICAhIQ==",
            "dtype": "i1"
           },
           "j": {
            "bdata": "AAQEBQAGBgcACAgJAAoKCwAMDA0ADg4PABAQEQASEhMAFBQVABYWFwAYGBkAGhobABwcHQAeHh8AICAhAAEBAg==",
            "dtype": "i1"
           },
           "k": {
            "bdata": "BAIFAwYFBwMIBwkDCgkLAwwLDQMODQ8DEA8RAxIREwMUExUDFhUXAxgXGQMaGRsDHBsdAx4dHwMgHyEDASECAw==",
            "dtype": "i1"
           },
           "name": "Mesh",
           "opacity": 0.3,
           "type": "mesh3d",
           "x": {
            "bdata": "AAAAAAAAAAAAAAAAAAAUQAAAAAAAABRAAAAAAAAAAABMmH9hQ3oSQEyYf2FDehJAwAofAMZIDEDACh8AxkgMQL1TWlBbnf4/vVNaUFud/j8Jc9m/rw+2PAlz2b+vD7Y8ulNaUFud/r+6U1pQW53+v78KHwDGSAzAvwofAMZIDMBMmH9hQ3oSwEyYf2FDehLAAAAAAAAAFMAAAAAAAAAUwEyYf2FDehLATJh/YUN6EsDCCh8AxkgMwMIKHwDGSAzAyFNaUFud/r/IU1pQW53+v0YW48/Di9C8Rhbjz8OL0LzBU1pQW53+P8FTWlBbnf4/vgofAMZIDEC+Ch8AxkgMQEqYf2FDehJASph/YUN6EkA=",
            "dtype": "f8"
           },
           "y": {
            "bdata": "AAAAAAAAAAAAAAAAAAAAAAAAAAAAAAAAAAAAAAAAAAC8U1pQW53+P7xTWlBbnf4/wAofAMZIDEDACh8AxkgMQEyYf2FDehJATJh/YUN6EkAAAAAAAAAUQAAAAAAAABRATJh/YUN6EkBMmH9hQ3oSQMAKHwDGSAxAwAofAMZIDEC+U1pQW53+P75TWlBbnf4/CXPZv68PxjwJc9m/rw/GPLlTWlBbnf6/uVNaUFud/r+/Ch8AxkgMwL8KHwDGSAzASph/YUN6EsBKmH9hQ3oSwAAAAAAAABTAAAAAAAAAFMBLmH9hQ3oSwEuYf2FDehLAwgofAMZIDMDCCh8AxkgMwMpTWlBbnf6/ylNaUFud/r8=",
            "dtype": "f8"
           },
           "z": {
            "bdata": "AAAAAAAAScAAAAAAAABJwAAAAAAAAElAAAAAAAAASUAAAAAAAABJwAAAAAAAAElAAAAAAAAAScAAAAAAAABJQAAAAAAAAEnAAAAAAAAASUAAAAAAAABJwAAAAAAAAElAAAAAAAAAScAAAAAAAABJQAAAAAAAAEnAAAAAAAAASUAAAAAAAABJwAAAAAAAAElAAAAAAAAAScAAAAAAAABJQAAAAAAAAEnAAAAAAAAASUAAAAAAAABJwAAAAAAAAElAAAAAAAAAScAAAAAAAABJQAAAAAAAAEnAAAAAAAAASUAAAAAAAABJwAAAAAAAAElAAAAAAAAAScAAAAAAAABJQAAAAAAAAEnAAAAAAAAASUA=",
            "dtype": "f8"
           }
          },
          {
           "line": {
            "color": "red",
            "width": 5
           },
           "mode": "lines",
           "name": "Slice at z=32.55",
           "type": "scatter3d",
           "x": [
            3.061616997868383e-16,
            1.5795453917518247,
            1.9134171618254492,
            3.2524910862976903,
            3.5355339059327378,
            4.43027449685985,
            4.619397662556434,
            4.933588775813418,
            5,
            4.685808886743014,
            4.619397662556432,
            3.7246570716293204,
            3.535533905932737,
            2.1964599814604973,
            1.91341716182545,
            0.3338717700736239,
            -9.184850993605148e-16,
            -1.5795453917518267,
            -1.9134171618254516,
            -3.2524910862976912,
            -3.5355339059327386,
            -4.43027449685985,
            -4.619397662556434,
            -4.933588775813418,
            -5,
            -4.685808886743016,
            -4.619397662556434,
            -3.7246570716293212,
            -3.5355339059327373,
            -2.196459981460496,
            -1.9134171618254485,
            -0.3338717700736241,
            3.061616997868383e-16,
            null
           ],
           "y": [
            5,
            4.685808886743016,
            4.619397662556434,
            3.7246570716293217,
            3.5355339059327378,
            2.1964599814604964,
            1.913417161825449,
            0.3338717700736245,
            0,
            -1.579545391751827,
            -1.913417161825452,
            -3.2524910862976917,
            -3.5355339059327386,
            -4.430274496859849,
            -4.619397662556433,
            -4.933588775813418,
            -5,
            -4.685808886743014,
            -4.619397662556432,
            -3.724657071629321,
            -3.5355339059327373,
            -2.196459981460496,
            -1.9134171618254483,
            -0.3338717700736239,
            6.123233995736766e-16,
            1.579545391751825,
            1.9134171618254494,
            3.2524910862976903,
            3.5355339059327378,
            4.43027449685985,
            4.619397662556434,
            4.933588775813418,
            5,
            null
           ],
           "z": [
            32.551020408163254,
            32.551020408163254,
            32.551020408163254,
            32.551020408163254,
            32.551020408163254,
            32.551020408163254,
            32.551020408163254,
            32.551020408163254,
            32.551020408163254,
            32.551020408163254,
            32.551020408163254,
            32.551020408163254,
            32.551020408163254,
            32.551020408163254,
            32.551020408163254,
            32.551020408163254,
            32.551020408163254,
            32.551020408163254,
            32.551020408163254,
            32.551020408163254,
            32.551020408163254,
            32.551020408163254,
            32.551020408163254,
            32.551020408163254,
            32.551020408163254,
            32.551020408163254,
            32.551020408163254,
            32.551020408163254,
            32.551020408163254,
            32.551020408163254,
            32.551020408163254,
            32.551020408163254,
            32.551020408163254,
            null
           ]
          }
         ],
         "name": "frame_39",
         "traces": [
          0,
          1
         ]
        },
        {
         "data": [
          {
           "color": "lightblue",
           "i": {
            "bdata": "AQECAgQEBQUGBgcHCAgJCQoKCwsMDA0NDg4PDxAQERESEhMTFBQVFRYWFxcYGBkZGhobGxwcHR0eHh8fICAhIQ==",
            "dtype": "i1"
           },
           "j": {
            "bdata": "AAQEBQAGBgcACAgJAAoKCwAMDA0ADg4PABAQEQASEhMAFBQVABYWFwAYGBkAGhobABwcHQAeHh8AICAhAAEBAg==",
            "dtype": "i1"
           },
           "k": {
            "bdata": "BAIFAwYFBwMIBwkDCgkLAwwLDQMODQ8DEA8RAxIREwMUExUDFhUXAxgXGQMaGRsDHBsdAx4dHwMgHyEDASECAw==",
            "dtype": "i1"
           },
           "name": "Mesh",
           "opacity": 0.3,
           "type": "mesh3d",
           "x": {
            "bdata": "AAAAAAAAAAAAAAAAAAAUQAAAAAAAABRAAAAAAAAAAABMmH9hQ3oSQEyYf2FDehJAwAofAMZIDEDACh8AxkgMQL1TWlBbnf4/vVNaUFud/j8Jc9m/rw+2PAlz2b+vD7Y8ulNaUFud/r+6U1pQW53+v78KHwDGSAzAvwofAMZIDMBMmH9hQ3oSwEyYf2FDehLAAAAAAAAAFMAAAAAAAAAUwEyYf2FDehLATJh/YUN6EsDCCh8AxkgMwMIKHwDGSAzAyFNaUFud/r/IU1pQW53+v0YW48/Di9C8Rhbjz8OL0LzBU1pQW53+P8FTWlBbnf4/vgofAMZIDEC+Ch8AxkgMQEqYf2FDehJASph/YUN6EkA=",
            "dtype": "f8"
           },
           "y": {
            "bdata": "AAAAAAAAAAAAAAAAAAAAAAAAAAAAAAAAAAAAAAAAAAC8U1pQW53+P7xTWlBbnf4/wAofAMZIDEDACh8AxkgMQEyYf2FDehJATJh/YUN6EkAAAAAAAAAUQAAAAAAAABRATJh/YUN6EkBMmH9hQ3oSQMAKHwDGSAxAwAofAMZIDEC+U1pQW53+P75TWlBbnf4/CXPZv68PxjwJc9m/rw/GPLlTWlBbnf6/uVNaUFud/r+/Ch8AxkgMwL8KHwDGSAzASph/YUN6EsBKmH9hQ3oSwAAAAAAAABTAAAAAAAAAFMBLmH9hQ3oSwEuYf2FDehLAwgofAMZIDMDCCh8AxkgMwMpTWlBbnf6/ylNaUFud/r8=",
            "dtype": "f8"
           },
           "z": {
            "bdata": "AAAAAAAAScAAAAAAAABJwAAAAAAAAElAAAAAAAAASUAAAAAAAABJwAAAAAAAAElAAAAAAAAAScAAAAAAAABJQAAAAAAAAEnAAAAAAAAASUAAAAAAAABJwAAAAAAAAElAAAAAAAAAScAAAAAAAABJQAAAAAAAAEnAAAAAAAAASUAAAAAAAABJwAAAAAAAAElAAAAAAAAAScAAAAAAAABJQAAAAAAAAEnAAAAAAAAASUAAAAAAAABJwAAAAAAAAElAAAAAAAAAScAAAAAAAABJQAAAAAAAAEnAAAAAAAAASUAAAAAAAABJwAAAAAAAAElAAAAAAAAAScAAAAAAAABJQAAAAAAAAEnAAAAAAAAASUA=",
            "dtype": "f8"
           }
          },
          {
           "line": {
            "color": "red",
            "width": 5
           },
           "mode": "lines",
           "name": "Slice at z=34.80",
           "type": "scatter3d",
           "x": [
            3.061616997868383e-16,
            -0.2909175072571344,
            -1.9134171618254485,
            -2.160045115776455,
            -3.5355339059327373,
            -3.7003254362765445,
            -4.619397662556434,
            -4.677264752637139,
            -5,
            -4.9421329099192945,
            -4.619397662556434,
            -4.454606132212627,
            -3.5355339059327386,
            -3.2889059519817327,
            -1.9134171618254516,
            -1.6224996545683166,
            -9.184850993605148e-16,
            0.2909175072571341,
            1.91341716182545,
            2.160045115776456,
            3.535533905932737,
            3.7003254362765436,
            4.619397662556432,
            4.677264752637138,
            5,
            4.9421329099192945,
            4.619397662556434,
            4.454606132212627,
            3.5355339059327378,
            3.2889059519817314,
            1.9134171618254492,
            1.6224996545683144,
            3.061616997868383e-16,
            null
           ],
           "y": [
            5,
            4.9421329099192945,
            4.619397662556434,
            4.454606132212627,
            3.5355339059327378,
            3.2889059519817314,
            1.9134171618254494,
            1.6224996545683146,
            6.123233995736766e-16,
            -0.29091750725713417,
            -1.9134171618254483,
            -2.1600451157764544,
            -3.5355339059327373,
            -3.700325436276544,
            -4.619397662556432,
            -4.677264752637138,
            -5,
            -4.9421329099192945,
            -4.619397662556433,
            -4.454606132212627,
            -3.5355339059327386,
            -3.2889059519817327,
            -1.913417161825452,
            -1.6224996545683168,
            0,
            0.2909175072571348,
            1.913417161825449,
            2.1600451157764553,
            3.5355339059327378,
            3.7003254362765445,
            4.619397662556434,
            4.677264752637139,
            5,
            null
           ],
           "z": [
            34.79591836734693,
            34.79591836734693,
            34.79591836734693,
            34.79591836734693,
            34.79591836734693,
            34.79591836734693,
            34.79591836734693,
            34.79591836734693,
            34.79591836734693,
            34.79591836734693,
            34.79591836734693,
            34.79591836734693,
            34.79591836734693,
            34.79591836734693,
            34.79591836734693,
            34.79591836734693,
            34.79591836734693,
            34.79591836734693,
            34.79591836734693,
            34.79591836734693,
            34.79591836734693,
            34.79591836734693,
            34.79591836734693,
            34.79591836734693,
            34.79591836734693,
            34.79591836734693,
            34.79591836734693,
            34.79591836734693,
            34.79591836734693,
            34.79591836734693,
            34.79591836734693,
            34.79591836734693,
            34.79591836734693,
            null
           ]
          }
         ],
         "name": "frame_40",
         "traces": [
          0,
          1
         ]
        },
        {
         "data": [
          {
           "color": "lightblue",
           "i": {
            "bdata": "AQECAgQEBQUGBgcHCAgJCQoKCwsMDA0NDg4PDxAQERESEhMTFBQVFRYWFxcYGBkZGhobGxwcHR0eHh8fICAhIQ==",
            "dtype": "i1"
           },
           "j": {
            "bdata": "AAQEBQAGBgcACAgJAAoKCwAMDA0ADg4PABAQEQASEhMAFBQVABYWFwAYGBkAGhobABwcHQAeHh8AICAhAAEBAg==",
            "dtype": "i1"
           },
           "k": {
            "bdata": "BAIFAwYFBwMIBwkDCgkLAwwLDQMODQ8DEA8RAxIREwMUExUDFhUXAxgXGQMaGRsDHBsdAx4dHwMgHyEDASECAw==",
            "dtype": "i1"
           },
           "name": "Mesh",
           "opacity": 0.3,
           "type": "mesh3d",
           "x": {
            "bdata": "AAAAAAAAAAAAAAAAAAAUQAAAAAAAABRAAAAAAAAAAABMmH9hQ3oSQEyYf2FDehJAwAofAMZIDEDACh8AxkgMQL1TWlBbnf4/vVNaUFud/j8Jc9m/rw+2PAlz2b+vD7Y8ulNaUFud/r+6U1pQW53+v78KHwDGSAzAvwofAMZIDMBMmH9hQ3oSwEyYf2FDehLAAAAAAAAAFMAAAAAAAAAUwEyYf2FDehLATJh/YUN6EsDCCh8AxkgMwMIKHwDGSAzAyFNaUFud/r/IU1pQW53+v0YW48/Di9C8Rhbjz8OL0LzBU1pQW53+P8FTWlBbnf4/vgofAMZIDEC+Ch8AxkgMQEqYf2FDehJASph/YUN6EkA=",
            "dtype": "f8"
           },
           "y": {
            "bdata": "AAAAAAAAAAAAAAAAAAAAAAAAAAAAAAAAAAAAAAAAAAC8U1pQW53+P7xTWlBbnf4/wAofAMZIDEDACh8AxkgMQEyYf2FDehJATJh/YUN6EkAAAAAAAAAUQAAAAAAAABRATJh/YUN6EkBMmH9hQ3oSQMAKHwDGSAxAwAofAMZIDEC+U1pQW53+P75TWlBbnf4/CXPZv68PxjwJc9m/rw/GPLlTWlBbnf6/uVNaUFud/r+/Ch8AxkgMwL8KHwDGSAzASph/YUN6EsBKmH9hQ3oSwAAAAAAAABTAAAAAAAAAFMBLmH9hQ3oSwEuYf2FDehLAwgofAMZIDMDCCh8AxkgMwMpTWlBbnf6/ylNaUFud/r8=",
            "dtype": "f8"
           },
           "z": {
            "bdata": "AAAAAAAAScAAAAAAAABJwAAAAAAAAElAAAAAAAAASUAAAAAAAABJwAAAAAAAAElAAAAAAAAAScAAAAAAAABJQAAAAAAAAEnAAAAAAAAASUAAAAAAAABJwAAAAAAAAElAAAAAAAAAScAAAAAAAABJQAAAAAAAAEnAAAAAAAAASUAAAAAAAABJwAAAAAAAAElAAAAAAAAAScAAAAAAAABJQAAAAAAAAEnAAAAAAAAASUAAAAAAAABJwAAAAAAAAElAAAAAAAAAScAAAAAAAABJQAAAAAAAAEnAAAAAAAAASUAAAAAAAABJwAAAAAAAAElAAAAAAAAAScAAAAAAAABJQAAAAAAAAEnAAAAAAAAASUA=",
            "dtype": "f8"
           }
          },
          {
           "line": {
            "color": "red",
            "width": 5
           },
           "mode": "lines",
           "name": "Slice at z=37.04",
           "type": "scatter3d",
           "x": [
            3.061616997868383e-16,
            -0.24796324444064477,
            -1.9134171618254485,
            -2.123630250092414,
            -3.5355339059327373,
            -3.6759938009237674,
            -4.619397662556434,
            -4.668720618531263,
            -5,
            -4.950677044025171,
            -4.619397662556434,
            -4.478937767565404,
            -3.5355339059327386,
            -3.325320817665774,
            -1.9134171618254516,
            -1.6654539173848062,
            -9.184850993605148e-16,
            0.2479632444406444,
            1.91341716182545,
            2.123630250092415,
            3.535533905932737,
            3.675993800923767,
            4.619397662556432,
            4.668720618531262,
            5,
            4.950677044025171,
            4.619397662556434,
            4.478937767565403,
            3.5355339059327378,
            3.3253208176657725,
            1.9134171618254492,
            1.665453917384804,
            3.061616997868383e-16,
            null
           ],
           "y": [
            5,
            4.950677044025171,
            4.619397662556434,
            4.478937767565403,
            3.5355339059327378,
            3.325320817665773,
            1.9134171618254494,
            1.6654539173848044,
            6.123233995736766e-16,
            -0.2479632444406445,
            -1.9134171618254483,
            -2.1236302500924134,
            -3.5355339059327373,
            -3.6759938009237674,
            -4.619397662556432,
            -4.668720618531262,
            -5,
            -4.95067704402517,
            -4.619397662556433,
            -4.478937767565403,
            -3.5355339059327386,
            -3.325320817665774,
            -1.913417161825452,
            -1.6654539173848066,
            0,
            0.2479632444406451,
            1.913417161825449,
            2.1236302500924142,
            3.5355339059327378,
            3.675993800923768,
            4.619397662556434,
            4.668720618531263,
            5,
            null
           ],
           "z": [
            37.0408163265306,
            37.0408163265306,
            37.0408163265306,
            37.0408163265306,
            37.0408163265306,
            37.0408163265306,
            37.0408163265306,
            37.0408163265306,
            37.0408163265306,
            37.0408163265306,
            37.0408163265306,
            37.0408163265306,
            37.0408163265306,
            37.0408163265306,
            37.0408163265306,
            37.0408163265306,
            37.0408163265306,
            37.0408163265306,
            37.0408163265306,
            37.0408163265306,
            37.0408163265306,
            37.0408163265306,
            37.0408163265306,
            37.0408163265306,
            37.0408163265306,
            37.0408163265306,
            37.0408163265306,
            37.0408163265306,
            37.0408163265306,
            37.0408163265306,
            37.0408163265306,
            37.0408163265306,
            37.0408163265306,
            null
           ]
          }
         ],
         "name": "frame_41",
         "traces": [
          0,
          1
         ]
        },
        {
         "data": [
          {
           "color": "lightblue",
           "i": {
            "bdata": "AQECAgQEBQUGBgcHCAgJCQoKCwsMDA0NDg4PDxAQERESEhMTFBQVFRYWFxcYGBkZGhobGxwcHR0eHh8fICAhIQ==",
            "dtype": "i1"
           },
           "j": {
            "bdata": "AAQEBQAGBgcACAgJAAoKCwAMDA0ADg4PABAQEQASEhMAFBQVABYWFwAYGBkAGhobABwcHQAeHh8AICAhAAEBAg==",
            "dtype": "i1"
           },
           "k": {
            "bdata": "BAIFAwYFBwMIBwkDCgkLAwwLDQMODQ8DEA8RAxIREwMUExUDFhUXAxgXGQMaGRsDHBsdAx4dHwMgHyEDASECAw==",
            "dtype": "i1"
           },
           "name": "Mesh",
           "opacity": 0.3,
           "type": "mesh3d",
           "x": {
            "bdata": "AAAAAAAAAAAAAAAAAAAUQAAAAAAAABRAAAAAAAAAAABMmH9hQ3oSQEyYf2FDehJAwAofAMZIDEDACh8AxkgMQL1TWlBbnf4/vVNaUFud/j8Jc9m/rw+2PAlz2b+vD7Y8ulNaUFud/r+6U1pQW53+v78KHwDGSAzAvwofAMZIDMBMmH9hQ3oSwEyYf2FDehLAAAAAAAAAFMAAAAAAAAAUwEyYf2FDehLATJh/YUN6EsDCCh8AxkgMwMIKHwDGSAzAyFNaUFud/r/IU1pQW53+v0YW48/Di9C8Rhbjz8OL0LzBU1pQW53+P8FTWlBbnf4/vgofAMZIDEC+Ch8AxkgMQEqYf2FDehJASph/YUN6EkA=",
            "dtype": "f8"
           },
           "y": {
            "bdata": "AAAAAAAAAAAAAAAAAAAAAAAAAAAAAAAAAAAAAAAAAAC8U1pQW53+P7xTWlBbnf4/wAofAMZIDEDACh8AxkgMQEyYf2FDehJATJh/YUN6EkAAAAAAAAAUQAAAAAAAABRATJh/YUN6EkBMmH9hQ3oSQMAKHwDGSAxAwAofAMZIDEC+U1pQW53+P75TWlBbnf4/CXPZv68PxjwJc9m/rw/GPLlTWlBbnf6/uVNaUFud/r+/Ch8AxkgMwL8KHwDGSAzASph/YUN6EsBKmH9hQ3oSwAAAAAAAABTAAAAAAAAAFMBLmH9hQ3oSwEuYf2FDehLAwgofAMZIDMDCCh8AxkgMwMpTWlBbnf6/ylNaUFud/r8=",
            "dtype": "f8"
           },
           "z": {
            "bdata": "AAAAAAAAScAAAAAAAABJwAAAAAAAAElAAAAAAAAASUAAAAAAAABJwAAAAAAAAElAAAAAAAAAScAAAAAAAABJQAAAAAAAAEnAAAAAAAAASUAAAAAAAABJwAAAAAAAAElAAAAAAAAAScAAAAAAAABJQAAAAAAAAEnAAAAAAAAASUAAAAAAAABJwAAAAAAAAElAAAAAAAAAScAAAAAAAABJQAAAAAAAAEnAAAAAAAAASUAAAAAAAABJwAAAAAAAAElAAAAAAAAAScAAAAAAAABJQAAAAAAAAEnAAAAAAAAASUAAAAAAAABJwAAAAAAAAElAAAAAAAAAScAAAAAAAABJQAAAAAAAAEnAAAAAAAAASUA=",
            "dtype": "f8"
           }
          },
          {
           "line": {
            "color": "red",
            "width": 5
           },
           "mode": "lines",
           "name": "Slice at z=39.29",
           "type": "scatter3d",
           "x": [
            3.061616997868383e-16,
            1.7084081802012938,
            1.9134171618254492,
            3.361735683349814,
            3.5355339059327378,
            4.503269402918181,
            4.619397662556434,
            4.959221178131046,
            5,
            4.660176484425386,
            4.619397662556432,
            3.65166216557099,
            3.535533905932737,
            2.0872153844083736,
            1.91341716182545,
            0.20500898162415468,
            -9.184850993605148e-16,
            -1.708408180201296,
            -1.9134171618254516,
            -3.361735683349815,
            -3.5355339059327386,
            -4.503269402918181,
            -4.619397662556434,
            -4.959221178131046,
            -5,
            -4.660176484425388,
            -4.619397662556434,
            -3.6516621655709907,
            -3.5355339059327373,
            -2.0872153844083723,
            -1.9134171618254485,
            -0.20500898162415507,
            3.061616997868383e-16,
            null
           ],
           "y": [
            5,
            4.660176484425388,
            4.619397662556434,
            3.651662165570991,
            3.5355339059327378,
            2.0872153844083727,
            1.913417161825449,
            0.2050089816241554,
            0,
            -1.7084081802012963,
            -1.913417161825452,
            -3.361735683349815,
            -3.5355339059327386,
            -4.50326940291818,
            -4.619397662556433,
            -4.959221178131046,
            -5,
            -4.660176484425386,
            -4.619397662556432,
            -3.65166216557099,
            -3.5355339059327373,
            -2.0872153844083723,
            -1.9134171618254483,
            -0.2050089816241548,
            6.123233995736766e-16,
            1.708408180201294,
            1.9134171618254494,
            3.361735683349814,
            3.5355339059327378,
            4.503269402918181,
            4.619397662556434,
            4.959221178131046,
            5,
            null
           ],
           "z": [
            39.28571428571428,
            39.28571428571428,
            39.28571428571428,
            39.28571428571428,
            39.28571428571428,
            39.28571428571428,
            39.28571428571428,
            39.28571428571428,
            39.28571428571428,
            39.28571428571428,
            39.28571428571428,
            39.28571428571428,
            39.28571428571428,
            39.28571428571428,
            39.28571428571428,
            39.28571428571428,
            39.28571428571428,
            39.28571428571428,
            39.28571428571428,
            39.28571428571428,
            39.28571428571428,
            39.28571428571428,
            39.28571428571428,
            39.28571428571428,
            39.28571428571428,
            39.28571428571428,
            39.28571428571428,
            39.28571428571428,
            39.28571428571428,
            39.28571428571428,
            39.28571428571428,
            39.28571428571428,
            39.28571428571428,
            null
           ]
          }
         ],
         "name": "frame_42",
         "traces": [
          0,
          1
         ]
        },
        {
         "data": [
          {
           "color": "lightblue",
           "i": {
            "bdata": "AQECAgQEBQUGBgcHCAgJCQoKCwsMDA0NDg4PDxAQERESEhMTFBQVFRYWFxcYGBkZGhobGxwcHR0eHh8fICAhIQ==",
            "dtype": "i1"
           },
           "j": {
            "bdata": "AAQEBQAGBgcACAgJAAoKCwAMDA0ADg4PABAQEQASEhMAFBQVABYWFwAYGBkAGhobABwcHQAeHh8AICAhAAEBAg==",
            "dtype": "i1"
           },
           "k": {
            "bdata": "BAIFAwYFBwMIBwkDCgkLAwwLDQMODQ8DEA8RAxIREwMUExUDFhUXAxgXGQMaGRsDHBsdAx4dHwMgHyEDASECAw==",
            "dtype": "i1"
           },
           "name": "Mesh",
           "opacity": 0.3,
           "type": "mesh3d",
           "x": {
            "bdata": "AAAAAAAAAAAAAAAAAAAUQAAAAAAAABRAAAAAAAAAAABMmH9hQ3oSQEyYf2FDehJAwAofAMZIDEDACh8AxkgMQL1TWlBbnf4/vVNaUFud/j8Jc9m/rw+2PAlz2b+vD7Y8ulNaUFud/r+6U1pQW53+v78KHwDGSAzAvwofAMZIDMBMmH9hQ3oSwEyYf2FDehLAAAAAAAAAFMAAAAAAAAAUwEyYf2FDehLATJh/YUN6EsDCCh8AxkgMwMIKHwDGSAzAyFNaUFud/r/IU1pQW53+v0YW48/Di9C8Rhbjz8OL0LzBU1pQW53+P8FTWlBbnf4/vgofAMZIDEC+Ch8AxkgMQEqYf2FDehJASph/YUN6EkA=",
            "dtype": "f8"
           },
           "y": {
            "bdata": "AAAAAAAAAAAAAAAAAAAAAAAAAAAAAAAAAAAAAAAAAAC8U1pQW53+P7xTWlBbnf4/wAofAMZIDEDACh8AxkgMQEyYf2FDehJATJh/YUN6EkAAAAAAAAAUQAAAAAAAABRATJh/YUN6EkBMmH9hQ3oSQMAKHwDGSAxAwAofAMZIDEC+U1pQW53+P75TWlBbnf4/CXPZv68PxjwJc9m/rw/GPLlTWlBbnf6/uVNaUFud/r+/Ch8AxkgMwL8KHwDGSAzASph/YUN6EsBKmH9hQ3oSwAAAAAAAABTAAAAAAAAAFMBLmH9hQ3oSwEuYf2FDehLAwgofAMZIDMDCCh8AxkgMwMpTWlBbnf6/ylNaUFud/r8=",
            "dtype": "f8"
           },
           "z": {
            "bdata": "AAAAAAAAScAAAAAAAABJwAAAAAAAAElAAAAAAAAASUAAAAAAAABJwAAAAAAAAElAAAAAAAAAScAAAAAAAABJQAAAAAAAAEnAAAAAAAAASUAAAAAAAABJwAAAAAAAAElAAAAAAAAAScAAAAAAAABJQAAAAAAAAEnAAAAAAAAASUAAAAAAAABJwAAAAAAAAElAAAAAAAAAScAAAAAAAABJQAAAAAAAAEnAAAAAAAAASUAAAAAAAABJwAAAAAAAAElAAAAAAAAAScAAAAAAAABJQAAAAAAAAEnAAAAAAAAASUAAAAAAAABJwAAAAAAAAElAAAAAAAAAScAAAAAAAABJQAAAAAAAAEnAAAAAAAAASUA=",
            "dtype": "f8"
           }
          },
          {
           "line": {
            "color": "red",
            "width": 5
           },
           "mode": "lines",
           "name": "Slice at z=41.53",
           "type": "scatter3d",
           "x": [
            3.061616997868383e-16,
            1.7513624430177834,
            1.9134171618254492,
            3.398150549033855,
            3.5355339059327378,
            4.527601038270958,
            4.619397662556434,
            4.9677653122369225,
            5,
            4.65163235031951,
            4.619397662556432,
            3.627330530218213,
            3.535533905932737,
            2.0508005187243326,
            1.91341716182545,
            0.16205471880766495,
            -9.184850993605148e-16,
            -1.7513624430177859,
            -1.9134171618254516,
            -3.398150549033856,
            -3.5355339059327386,
            -4.527601038270958,
            -4.619397662556434,
            -4.9677653122369225,
            -5,
            -4.651632350319511,
            -4.619397662556434,
            -3.627330530218214,
            -3.5355339059327373,
            -2.0508005187243312,
            -1.9134171618254485,
            -0.16205471880766537,
            3.061616997868383e-16,
            null
           ],
           "y": [
            5,
            4.651632350319511,
            4.619397662556434,
            3.627330530218214,
            3.5355339059327378,
            2.0508005187243317,
            1.913417161825449,
            0.1620547188076657,
            0,
            -1.751362443017786,
            -1.913417161825452,
            -3.398150549033856,
            -3.5355339059327386,
            -4.527601038270957,
            -4.619397662556433,
            -4.9677653122369225,
            -5,
            -4.65163235031951,
            -4.619397662556432,
            -3.6273305302182135,
            -3.5355339059327373,
            -2.0508005187243312,
            -1.9134171618254483,
            -0.1620547188076651,
            6.123233995736766e-16,
            1.7513624430177837,
            1.9134171618254494,
            3.398150549033855,
            3.5355339059327378,
            4.527601038270958,
            4.619397662556434,
            4.9677653122369225,
            5,
            null
           ],
           "z": [
            41.53061224489795,
            41.53061224489795,
            41.53061224489795,
            41.53061224489795,
            41.53061224489795,
            41.53061224489795,
            41.53061224489795,
            41.53061224489795,
            41.53061224489795,
            41.53061224489795,
            41.53061224489795,
            41.53061224489795,
            41.53061224489795,
            41.53061224489795,
            41.53061224489795,
            41.53061224489795,
            41.53061224489795,
            41.53061224489795,
            41.53061224489795,
            41.53061224489795,
            41.53061224489795,
            41.53061224489795,
            41.53061224489795,
            41.53061224489795,
            41.53061224489795,
            41.53061224489795,
            41.53061224489795,
            41.53061224489795,
            41.53061224489795,
            41.53061224489795,
            41.53061224489795,
            41.53061224489795,
            41.53061224489795,
            null
           ]
          }
         ],
         "name": "frame_43",
         "traces": [
          0,
          1
         ]
        },
        {
         "data": [
          {
           "color": "lightblue",
           "i": {
            "bdata": "AQECAgQEBQUGBgcHCAgJCQoKCwsMDA0NDg4PDxAQERESEhMTFBQVFRYWFxcYGBkZGhobGxwcHR0eHh8fICAhIQ==",
            "dtype": "i1"
           },
           "j": {
            "bdata": "AAQEBQAGBgcACAgJAAoKCwAMDA0ADg4PABAQEQASEhMAFBQVABYWFwAYGBkAGhobABwcHQAeHh8AICAhAAEBAg==",
            "dtype": "i1"
           },
           "k": {
            "bdata": "BAIFAwYFBwMIBwkDCgkLAwwLDQMODQ8DEA8RAxIREwMUExUDFhUXAxgXGQMaGRsDHBsdAx4dHwMgHyEDASECAw==",
            "dtype": "i1"
           },
           "name": "Mesh",
           "opacity": 0.3,
           "type": "mesh3d",
           "x": {
            "bdata": "AAAAAAAAAAAAAAAAAAAUQAAAAAAAABRAAAAAAAAAAABMmH9hQ3oSQEyYf2FDehJAwAofAMZIDEDACh8AxkgMQL1TWlBbnf4/vVNaUFud/j8Jc9m/rw+2PAlz2b+vD7Y8ulNaUFud/r+6U1pQW53+v78KHwDGSAzAvwofAMZIDMBMmH9hQ3oSwEyYf2FDehLAAAAAAAAAFMAAAAAAAAAUwEyYf2FDehLATJh/YUN6EsDCCh8AxkgMwMIKHwDGSAzAyFNaUFud/r/IU1pQW53+v0YW48/Di9C8Rhbjz8OL0LzBU1pQW53+P8FTWlBbnf4/vgofAMZIDEC+Ch8AxkgMQEqYf2FDehJASph/YUN6EkA=",
            "dtype": "f8"
           },
           "y": {
            "bdata": "AAAAAAAAAAAAAAAAAAAAAAAAAAAAAAAAAAAAAAAAAAC8U1pQW53+P7xTWlBbnf4/wAofAMZIDEDACh8AxkgMQEyYf2FDehJATJh/YUN6EkAAAAAAAAAUQAAAAAAAABRATJh/YUN6EkBMmH9hQ3oSQMAKHwDGSAxAwAofAMZIDEC+U1pQW53+P75TWlBbnf4/CXPZv68PxjwJc9m/rw/GPLlTWlBbnf6/uVNaUFud/r+/Ch8AxkgMwL8KHwDGSAzASph/YUN6EsBKmH9hQ3oSwAAAAAAAABTAAAAAAAAAFMBLmH9hQ3oSwEuYf2FDehLAwgofAMZIDMDCCh8AxkgMwMpTWlBbnf6/ylNaUFud/r8=",
            "dtype": "f8"
           },
           "z": {
            "bdata": "AAAAAAAAScAAAAAAAABJwAAAAAAAAElAAAAAAAAASUAAAAAAAABJwAAAAAAAAElAAAAAAAAAScAAAAAAAABJQAAAAAAAAEnAAAAAAAAASUAAAAAAAABJwAAAAAAAAElAAAAAAAAAScAAAAAAAABJQAAAAAAAAEnAAAAAAAAASUAAAAAAAABJwAAAAAAAAElAAAAAAAAAScAAAAAAAABJQAAAAAAAAEnAAAAAAAAASUAAAAAAAABJwAAAAAAAAElAAAAAAAAAScAAAAAAAABJQAAAAAAAAEnAAAAAAAAASUAAAAAAAABJwAAAAAAAAElAAAAAAAAAScAAAAAAAABJQAAAAAAAAEnAAAAAAAAASUA=",
            "dtype": "f8"
           }
          },
          {
           "line": {
            "color": "red",
            "width": 5
           },
           "mode": "lines",
           "name": "Slice at z=43.78",
           "type": "scatter3d",
           "x": [
            3.061616997868383e-16,
            -0.11910045599117569,
            -1.9134171618254485,
            -2.01438565304029,
            -3.5355339059327373,
            -3.602998894865437,
            -4.619397662556434,
            -4.643088216213635,
            -5,
            -4.976309446342799,
            -4.619397662556434,
            -4.551932673623734,
            -3.5355339059327386,
            -3.434565414717897,
            -1.9134171618254516,
            -1.7943167058342755,
            -9.184850993605148e-16,
            0.1191004559911752,
            1.91341716182545,
            2.0143856530402915,
            3.535533905932737,
            3.6029988948654363,
            4.619397662556432,
            4.643088216213634,
            5,
            4.976309446342799,
            4.619397662556434,
            4.551932673623734,
            3.5355339059327378,
            3.434565414717896,
            1.9134171618254492,
            1.794316705834273,
            3.061616997868383e-16,
            null
           ],
           "y": [
            5,
            4.976309446342799,
            4.619397662556434,
            4.551932673623734,
            3.5355339059327378,
            3.434565414717896,
            1.9134171618254494,
            1.7943167058342735,
            6.123233995736766e-16,
            -0.11910045599117541,
            -1.9134171618254483,
            -2.0143856530402897,
            -3.5355339059327373,
            -3.602998894865437,
            -4.619397662556432,
            -4.643088216213634,
            -5,
            -4.976309446342798,
            -4.619397662556433,
            -4.5519326736237335,
            -3.5355339059327386,
            -3.4345654147178974,
            -1.913417161825452,
            -1.794316705834276,
            0,
            0.11910045599117602,
            1.913417161825449,
            2.0143856530402906,
            3.5355339059327378,
            3.6029988948654372,
            4.619397662556434,
            4.643088216213635,
            5,
            null
           ],
           "z": [
            43.77551020408163,
            43.77551020408163,
            43.77551020408163,
            43.77551020408163,
            43.77551020408163,
            43.77551020408163,
            43.77551020408163,
            43.77551020408163,
            43.77551020408163,
            43.77551020408163,
            43.77551020408163,
            43.77551020408163,
            43.77551020408163,
            43.77551020408163,
            43.77551020408163,
            43.77551020408163,
            43.77551020408163,
            43.77551020408163,
            43.77551020408163,
            43.77551020408163,
            43.77551020408163,
            43.77551020408163,
            43.77551020408163,
            43.77551020408163,
            43.77551020408163,
            43.77551020408163,
            43.77551020408163,
            43.77551020408163,
            43.77551020408163,
            43.77551020408163,
            43.77551020408163,
            43.77551020408163,
            43.77551020408163,
            null
           ]
          }
         ],
         "name": "frame_44",
         "traces": [
          0,
          1
         ]
        },
        {
         "data": [
          {
           "color": "lightblue",
           "i": {
            "bdata": "AQECAgQEBQUGBgcHCAgJCQoKCwsMDA0NDg4PDxAQERESEhMTFBQVFRYWFxcYGBkZGhobGxwcHR0eHh8fICAhIQ==",
            "dtype": "i1"
           },
           "j": {
            "bdata": "AAQEBQAGBgcACAgJAAoKCwAMDA0ADg4PABAQEQASEhMAFBQVABYWFwAYGBkAGhobABwcHQAeHh8AICAhAAEBAg==",
            "dtype": "i1"
           },
           "k": {
            "bdata": "BAIFAwYFBwMIBwkDCgkLAwwLDQMODQ8DEA8RAxIREwMUExUDFhUXAxgXGQMaGRsDHBsdAx4dHwMgHyEDASECAw==",
            "dtype": "i1"
           },
           "name": "Mesh",
           "opacity": 0.3,
           "type": "mesh3d",
           "x": {
            "bdata": "AAAAAAAAAAAAAAAAAAAUQAAAAAAAABRAAAAAAAAAAABMmH9hQ3oSQEyYf2FDehJAwAofAMZIDEDACh8AxkgMQL1TWlBbnf4/vVNaUFud/j8Jc9m/rw+2PAlz2b+vD7Y8ulNaUFud/r+6U1pQW53+v78KHwDGSAzAvwofAMZIDMBMmH9hQ3oSwEyYf2FDehLAAAAAAAAAFMAAAAAAAAAUwEyYf2FDehLATJh/YUN6EsDCCh8AxkgMwMIKHwDGSAzAyFNaUFud/r/IU1pQW53+v0YW48/Di9C8Rhbjz8OL0LzBU1pQW53+P8FTWlBbnf4/vgofAMZIDEC+Ch8AxkgMQEqYf2FDehJASph/YUN6EkA=",
            "dtype": "f8"
           },
           "y": {
            "bdata": "AAAAAAAAAAAAAAAAAAAAAAAAAAAAAAAAAAAAAAAAAAC8U1pQW53+P7xTWlBbnf4/wAofAMZIDEDACh8AxkgMQEyYf2FDehJATJh/YUN6EkAAAAAAAAAUQAAAAAAAABRATJh/YUN6EkBMmH9hQ3oSQMAKHwDGSAxAwAofAMZIDEC+U1pQW53+P75TWlBbnf4/CXPZv68PxjwJc9m/rw/GPLlTWlBbnf6/uVNaUFud/r+/Ch8AxkgMwL8KHwDGSAzASph/YUN6EsBKmH9hQ3oSwAAAAAAAABTAAAAAAAAAFMBLmH9hQ3oSwEuYf2FDehLAwgofAMZIDMDCCh8AxkgMwMpTWlBbnf6/ylNaUFud/r8=",
            "dtype": "f8"
           },
           "z": {
            "bdata": "AAAAAAAAScAAAAAAAABJwAAAAAAAAElAAAAAAAAASUAAAAAAAABJwAAAAAAAAElAAAAAAAAAScAAAAAAAABJQAAAAAAAAEnAAAAAAAAASUAAAAAAAABJwAAAAAAAAElAAAAAAAAAScAAAAAAAABJQAAAAAAAAEnAAAAAAAAASUAAAAAAAABJwAAAAAAAAElAAAAAAAAAScAAAAAAAABJQAAAAAAAAEnAAAAAAAAASUAAAAAAAABJwAAAAAAAAElAAAAAAAAAScAAAAAAAABJQAAAAAAAAEnAAAAAAAAASUAAAAAAAABJwAAAAAAAAElAAAAAAAAAScAAAAAAAABJQAAAAAAAAEnAAAAAAAAASUA=",
            "dtype": "f8"
           }
          },
          {
           "line": {
            "color": "red",
            "width": 5
           },
           "mode": "lines",
           "name": "Slice at z=46.02",
           "type": "scatter3d",
           "x": [
            3.061616997868383e-16,
            -0.076146193174686,
            -1.9134171618254485,
            -1.9779707873562489,
            -3.5355339059327373,
            -3.57866725951266,
            -4.619397662556434,
            -4.63454408210776,
            -5,
            -4.984853580448674,
            -4.619397662556434,
            -4.576264308976511,
            -3.5355339059327386,
            -3.4709802804019385,
            -1.9134171618254516,
            -1.8372709686507653,
            -9.184850993605148e-16,
            0.07614619317468548,
            1.91341716182545,
            1.9779707873562504,
            3.535533905932737,
            3.5786672595126596,
            4.619397662556432,
            4.634544082107758,
            5,
            4.984853580448674,
            4.619397662556434,
            4.576264308976511,
            3.5355339059327378,
            3.4709802804019376,
            1.9134171618254492,
            1.837270968650763,
            3.061616997868383e-16,
            null
           ],
           "y": [
            5,
            4.984853580448674,
            4.619397662556434,
            4.576264308976511,
            3.5355339059327378,
            3.4709802804019376,
            1.9134171618254494,
            1.8372709686507631,
            6.123233995736766e-16,
            -0.07614619317468571,
            -1.9134171618254483,
            -1.9779707873562486,
            -3.5355339059327373,
            -3.57866725951266,
            -4.619397662556432,
            -4.634544082107758,
            -5,
            -4.984853580448674,
            -4.619397662556433,
            -4.57626430897651,
            -3.5355339059327386,
            -3.4709802804019385,
            -1.913417161825452,
            -1.8372709686507656,
            0,
            0.07614619317468632,
            1.913417161825449,
            1.9779707873562493,
            3.5355339059327378,
            3.5786672595126605,
            4.619397662556434,
            4.63454408210776,
            5,
            null
           ],
           "z": [
            46.0204081632653,
            46.0204081632653,
            46.0204081632653,
            46.0204081632653,
            46.0204081632653,
            46.0204081632653,
            46.0204081632653,
            46.0204081632653,
            46.0204081632653,
            46.0204081632653,
            46.0204081632653,
            46.0204081632653,
            46.0204081632653,
            46.0204081632653,
            46.0204081632653,
            46.0204081632653,
            46.0204081632653,
            46.0204081632653,
            46.0204081632653,
            46.0204081632653,
            46.0204081632653,
            46.0204081632653,
            46.0204081632653,
            46.0204081632653,
            46.0204081632653,
            46.0204081632653,
            46.0204081632653,
            46.0204081632653,
            46.0204081632653,
            46.0204081632653,
            46.0204081632653,
            46.0204081632653,
            46.0204081632653,
            null
           ]
          }
         ],
         "name": "frame_45",
         "traces": [
          0,
          1
         ]
        },
        {
         "data": [
          {
           "color": "lightblue",
           "i": {
            "bdata": "AQECAgQEBQUGBgcHCAgJCQoKCwsMDA0NDg4PDxAQERESEhMTFBQVFRYWFxcYGBkZGhobGxwcHR0eHh8fICAhIQ==",
            "dtype": "i1"
           },
           "j": {
            "bdata": "AAQEBQAGBgcACAgJAAoKCwAMDA0ADg4PABAQEQASEhMAFBQVABYWFwAYGBkAGhobABwcHQAeHh8AICAhAAEBAg==",
            "dtype": "i1"
           },
           "k": {
            "bdata": "BAIFAwYFBwMIBwkDCgkLAwwLDQMODQ8DEA8RAxIREwMUExUDFhUXAxgXGQMaGRsDHBsdAx4dHwMgHyEDASECAw==",
            "dtype": "i1"
           },
           "name": "Mesh",
           "opacity": 0.3,
           "type": "mesh3d",
           "x": {
            "bdata": "AAAAAAAAAAAAAAAAAAAUQAAAAAAAABRAAAAAAAAAAABMmH9hQ3oSQEyYf2FDehJAwAofAMZIDEDACh8AxkgMQL1TWlBbnf4/vVNaUFud/j8Jc9m/rw+2PAlz2b+vD7Y8ulNaUFud/r+6U1pQW53+v78KHwDGSAzAvwofAMZIDMBMmH9hQ3oSwEyYf2FDehLAAAAAAAAAFMAAAAAAAAAUwEyYf2FDehLATJh/YUN6EsDCCh8AxkgMwMIKHwDGSAzAyFNaUFud/r/IU1pQW53+v0YW48/Di9C8Rhbjz8OL0LzBU1pQW53+P8FTWlBbnf4/vgofAMZIDEC+Ch8AxkgMQEqYf2FDehJASph/YUN6EkA=",
            "dtype": "f8"
           },
           "y": {
            "bdata": "AAAAAAAAAAAAAAAAAAAAAAAAAAAAAAAAAAAAAAAAAAC8U1pQW53+P7xTWlBbnf4/wAofAMZIDEDACh8AxkgMQEyYf2FDehJATJh/YUN6EkAAAAAAAAAUQAAAAAAAABRATJh/YUN6EkBMmH9hQ3oSQMAKHwDGSAxAwAofAMZIDEC+U1pQW53+P75TWlBbnf4/CXPZv68PxjwJc9m/rw/GPLlTWlBbnf6/uVNaUFud/r+/Ch8AxkgMwL8KHwDGSAzASph/YUN6EsBKmH9hQ3oSwAAAAAAAABTAAAAAAAAAFMBLmH9hQ3oSwEuYf2FDehLAwgofAMZIDMDCCh8AxkgMwMpTWlBbnf6/ylNaUFud/r8=",
            "dtype": "f8"
           },
           "z": {
            "bdata": "AAAAAAAAScAAAAAAAABJwAAAAAAAAElAAAAAAAAASUAAAAAAAABJwAAAAAAAAElAAAAAAAAAScAAAAAAAABJQAAAAAAAAEnAAAAAAAAASUAAAAAAAABJwAAAAAAAAElAAAAAAAAAScAAAAAAAABJQAAAAAAAAEnAAAAAAAAASUAAAAAAAABJwAAAAAAAAElAAAAAAAAAScAAAAAAAABJQAAAAAAAAEnAAAAAAAAASUAAAAAAAABJwAAAAAAAAElAAAAAAAAAScAAAAAAAABJQAAAAAAAAEnAAAAAAAAASUAAAAAAAABJwAAAAAAAAElAAAAAAAAAScAAAAAAAABJQAAAAAAAAEnAAAAAAAAASUA=",
            "dtype": "f8"
           }
          },
          {
           "line": {
            "color": "red",
            "width": 5
           },
           "mode": "lines",
           "name": "Slice at z=48.27",
           "type": "scatter3d",
           "x": [
            3.061616997868383e-16,
            -0.03319193035819632,
            -1.9134171618254485,
            -1.9415559216722076,
            -3.5355339059327373,
            -3.554335624159883,
            -4.619397662556434,
            -4.625999948001883,
            -5,
            -4.9933977145545505,
            -4.619397662556434,
            -4.600595944329288,
            -3.5355339059327386,
            -3.5073951460859796,
            -1.9134171618254516,
            -1.880225231467255,
            -9.184850993605148e-16,
            0.033191930358195745,
            1.91341716182545,
            1.9415559216722091,
            3.535533905932737,
            3.5543356241598825,
            4.619397662556432,
            4.625999948001882,
            5,
            4.9933977145545505,
            4.619397662556434,
            4.600595944329288,
            3.5355339059327378,
            3.5073951460859787,
            1.9134171618254492,
            1.8802252314672525,
            3.061616997868383e-16,
            null
           ],
           "y": [
            5,
            4.9933977145545505,
            4.619397662556434,
            4.600595944329288,
            3.5355339059327378,
            3.5073951460859787,
            1.9134171618254494,
            1.8802252314672527,
            6.123233995736766e-16,
            -0.03319193035819602,
            -1.9134171618254483,
            -1.9415559216722074,
            -3.5355339059327373,
            -3.554335624159883,
            -4.619397662556432,
            -4.625999948001882,
            -5,
            -4.9933977145545505,
            -4.619397662556433,
            -4.600595944329287,
            -3.5355339059327386,
            -3.5073951460859796,
            -1.913417161825452,
            -1.8802252314672554,
            0,
            0.033191930358196634,
            1.913417161825449,
            1.941555921672208,
            3.5355339059327378,
            3.5543356241598834,
            4.619397662556434,
            4.625999948001883,
            5,
            null
           ],
           "z": [
            48.265306122448976,
            48.265306122448976,
            48.265306122448976,
            48.265306122448976,
            48.265306122448976,
            48.265306122448976,
            48.265306122448976,
            48.265306122448976,
            48.265306122448976,
            48.265306122448976,
            48.265306122448976,
            48.265306122448976,
            48.265306122448976,
            48.265306122448976,
            48.265306122448976,
            48.265306122448976,
            48.265306122448976,
            48.265306122448976,
            48.265306122448976,
            48.265306122448976,
            48.265306122448976,
            48.265306122448976,
            48.265306122448976,
            48.265306122448976,
            48.265306122448976,
            48.265306122448976,
            48.265306122448976,
            48.265306122448976,
            48.265306122448976,
            48.265306122448976,
            48.265306122448976,
            48.265306122448976,
            48.265306122448976,
            null
           ]
          }
         ],
         "name": "frame_46",
         "traces": [
          0,
          1
         ]
        },
        {
         "data": [
          {
           "color": "lightblue",
           "i": {
            "bdata": "AQECAgQEBQUGBgcHCAgJCQoKCwsMDA0NDg4PDxAQERESEhMTFBQVFRYWFxcYGBkZGhobGxwcHR0eHh8fICAhIQ==",
            "dtype": "i1"
           },
           "j": {
            "bdata": "AAQEBQAGBgcACAgJAAoKCwAMDA0ADg4PABAQEQASEhMAFBQVABYWFwAYGBkAGhobABwcHQAeHh8AICAhAAEBAg==",
            "dtype": "i1"
           },
           "k": {
            "bdata": "BAIFAwYFBwMIBwkDCgkLAwwLDQMODQ8DEA8RAxIREwMUExUDFhUXAxgXGQMaGRsDHBsdAx4dHwMgHyEDASECAw==",
            "dtype": "i1"
           },
           "name": "Mesh",
           "opacity": 0.3,
           "type": "mesh3d",
           "x": {
            "bdata": "AAAAAAAAAAAAAAAAAAAUQAAAAAAAABRAAAAAAAAAAABMmH9hQ3oSQEyYf2FDehJAwAofAMZIDEDACh8AxkgMQL1TWlBbnf4/vVNaUFud/j8Jc9m/rw+2PAlz2b+vD7Y8ulNaUFud/r+6U1pQW53+v78KHwDGSAzAvwofAMZIDMBMmH9hQ3oSwEyYf2FDehLAAAAAAAAAFMAAAAAAAAAUwEyYf2FDehLATJh/YUN6EsDCCh8AxkgMwMIKHwDGSAzAyFNaUFud/r/IU1pQW53+v0YW48/Di9C8Rhbjz8OL0LzBU1pQW53+P8FTWlBbnf4/vgofAMZIDEC+Ch8AxkgMQEqYf2FDehJASph/YUN6EkA=",
            "dtype": "f8"
           },
           "y": {
            "bdata": "AAAAAAAAAAAAAAAAAAAAAAAAAAAAAAAAAAAAAAAAAAC8U1pQW53+P7xTWlBbnf4/wAofAMZIDEDACh8AxkgMQEyYf2FDehJATJh/YUN6EkAAAAAAAAAUQAAAAAAAABRATJh/YUN6EkBMmH9hQ3oSQMAKHwDGSAxAwAofAMZIDEC+U1pQW53+P75TWlBbnf4/CXPZv68PxjwJc9m/rw/GPLlTWlBbnf6/uVNaUFud/r+/Ch8AxkgMwL8KHwDGSAzASph/YUN6EsBKmH9hQ3oSwAAAAAAAABTAAAAAAAAAFMBLmH9hQ3oSwEuYf2FDehLAwgofAMZIDMDCCh8AxkgMwMpTWlBbnf6/ylNaUFud/r8=",
            "dtype": "f8"
           },
           "z": {
            "bdata": "AAAAAAAAScAAAAAAAABJwAAAAAAAAElAAAAAAAAASUAAAAAAAABJwAAAAAAAAElAAAAAAAAAScAAAAAAAABJQAAAAAAAAEnAAAAAAAAASUAAAAAAAABJwAAAAAAAAElAAAAAAAAAScAAAAAAAABJQAAAAAAAAEnAAAAAAAAASUAAAAAAAABJwAAAAAAAAElAAAAAAAAAScAAAAAAAABJQAAAAAAAAEnAAAAAAAAASUAAAAAAAABJwAAAAAAAAElAAAAAAAAAScAAAAAAAABJQAAAAAAAAEnAAAAAAAAASUAAAAAAAABJwAAAAAAAAElAAAAAAAAAScAAAAAAAABJQAAAAAAAAEnAAAAAAAAASUA=",
            "dtype": "f8"
           }
          }
         ],
         "name": "frame_47",
         "traces": [
          0,
          1
         ]
        },
        {
         "data": [
          {
           "color": "lightblue",
           "i": {
            "bdata": "AQECAgQEBQUGBgcHCAgJCQoKCwsMDA0NDg4PDxAQERESEhMTFBQVFRYWFxcYGBkZGhobGxwcHR0eHh8fICAhIQ==",
            "dtype": "i1"
           },
           "j": {
            "bdata": "AAQEBQAGBgcACAgJAAoKCwAMDA0ADg4PABAQEQASEhMAFBQVABYWFwAYGBkAGhobABwcHQAeHh8AICAhAAEBAg==",
            "dtype": "i1"
           },
           "k": {
            "bdata": "BAIFAwYFBwMIBwkDCgkLAwwLDQMODQ8DEA8RAxIREwMUExUDFhUXAxgXGQMaGRsDHBsdAx4dHwMgHyEDASECAw==",
            "dtype": "i1"
           },
           "name": "Mesh",
           "opacity": 0.3,
           "type": "mesh3d",
           "x": {
            "bdata": "AAAAAAAAAAAAAAAAAAAUQAAAAAAAABRAAAAAAAAAAABMmH9hQ3oSQEyYf2FDehJAwAofAMZIDEDACh8AxkgMQL1TWlBbnf4/vVNaUFud/j8Jc9m/rw+2PAlz2b+vD7Y8ulNaUFud/r+6U1pQW53+v78KHwDGSAzAvwofAMZIDMBMmH9hQ3oSwEyYf2FDehLAAAAAAAAAFMAAAAAAAAAUwEyYf2FDehLATJh/YUN6EsDCCh8AxkgMwMIKHwDGSAzAyFNaUFud/r/IU1pQW53+v0YW48/Di9C8Rhbjz8OL0LzBU1pQW53+P8FTWlBbnf4/vgofAMZIDEC+Ch8AxkgMQEqYf2FDehJASph/YUN6EkA=",
            "dtype": "f8"
           },
           "y": {
            "bdata": "AAAAAAAAAAAAAAAAAAAAAAAAAAAAAAAAAAAAAAAAAAC8U1pQW53+P7xTWlBbnf4/wAofAMZIDEDACh8AxkgMQEyYf2FDehJATJh/YUN6EkAAAAAAAAAUQAAAAAAAABRATJh/YUN6EkBMmH9hQ3oSQMAKHwDGSAxAwAofAMZIDEC+U1pQW53+P75TWlBbnf4/CXPZv68PxjwJc9m/rw/GPLlTWlBbnf6/uVNaUFud/r+/Ch8AxkgMwL8KHwDGSAzASph/YUN6EsBKmH9hQ3oSwAAAAAAAABTAAAAAAAAAFMBLmH9hQ3oSwEuYf2FDehLAwgofAMZIDMDCCh8AxkgMwMpTWlBbnf6/ylNaUFud/r8=",
            "dtype": "f8"
           },
           "z": {
            "bdata": "AAAAAAAAScAAAAAAAABJwAAAAAAAAElAAAAAAAAASUAAAAAAAABJwAAAAAAAAElAAAAAAAAAScAAAAAAAABJQAAAAAAAAEnAAAAAAAAASUAAAAAAAABJwAAAAAAAAElAAAAAAAAAScAAAAAAAABJQAAAAAAAAEnAAAAAAAAASUAAAAAAAABJwAAAAAAAAElAAAAAAAAAScAAAAAAAABJQAAAAAAAAEnAAAAAAAAASUAAAAAAAABJwAAAAAAAAElAAAAAAAAAScAAAAAAAABJQAAAAAAAAEnAAAAAAAAASUAAAAAAAABJwAAAAAAAAElAAAAAAAAAScAAAAAAAABJQAAAAAAAAEnAAAAAAAAASUA=",
            "dtype": "f8"
           }
          }
         ],
         "name": "frame_48",
         "traces": [
          0,
          1
         ]
        },
        {
         "data": [
          {
           "color": "lightblue",
           "i": {
            "bdata": "AQECAgQEBQUGBgcHCAgJCQoKCwsMDA0NDg4PDxAQERESEhMTFBQVFRYWFxcYGBkZGhobGxwcHR0eHh8fICAhIQ==",
            "dtype": "i1"
           },
           "j": {
            "bdata": "AAQEBQAGBgcACAgJAAoKCwAMDA0ADg4PABAQEQASEhMAFBQVABYWFwAYGBkAGhobABwcHQAeHh8AICAhAAEBAg==",
            "dtype": "i1"
           },
           "k": {
            "bdata": "BAIFAwYFBwMIBwkDCgkLAwwLDQMODQ8DEA8RAxIREwMUExUDFhUXAxgXGQMaGRsDHBsdAx4dHwMgHyEDASECAw==",
            "dtype": "i1"
           },
           "name": "Mesh",
           "opacity": 0.3,
           "type": "mesh3d",
           "x": {
            "bdata": "AAAAAAAAAAAAAAAAAAAUQAAAAAAAABRAAAAAAAAAAABMmH9hQ3oSQEyYf2FDehJAwAofAMZIDEDACh8AxkgMQL1TWlBbnf4/vVNaUFud/j8Jc9m/rw+2PAlz2b+vD7Y8ulNaUFud/r+6U1pQW53+v78KHwDGSAzAvwofAMZIDMBMmH9hQ3oSwEyYf2FDehLAAAAAAAAAFMAAAAAAAAAUwEyYf2FDehLATJh/YUN6EsDCCh8AxkgMwMIKHwDGSAzAyFNaUFud/r/IU1pQW53+v0YW48/Di9C8Rhbjz8OL0LzBU1pQW53+P8FTWlBbnf4/vgofAMZIDEC+Ch8AxkgMQEqYf2FDehJASph/YUN6EkA=",
            "dtype": "f8"
           },
           "y": {
            "bdata": "AAAAAAAAAAAAAAAAAAAAAAAAAAAAAAAAAAAAAAAAAAC8U1pQW53+P7xTWlBbnf4/wAofAMZIDEDACh8AxkgMQEyYf2FDehJATJh/YUN6EkAAAAAAAAAUQAAAAAAAABRATJh/YUN6EkBMmH9hQ3oSQMAKHwDGSAxAwAofAMZIDEC+U1pQW53+P75TWlBbnf4/CXPZv68PxjwJc9m/rw/GPLlTWlBbnf6/uVNaUFud/r+/Ch8AxkgMwL8KHwDGSAzASph/YUN6EsBKmH9hQ3oSwAAAAAAAABTAAAAAAAAAFMBLmH9hQ3oSwEuYf2FDehLAwgofAMZIDMDCCh8AxkgMwMpTWlBbnf6/ylNaUFud/r8=",
            "dtype": "f8"
           },
           "z": {
            "bdata": "AAAAAAAAScAAAAAAAABJwAAAAAAAAElAAAAAAAAASUAAAAAAAABJwAAAAAAAAElAAAAAAAAAScAAAAAAAABJQAAAAAAAAEnAAAAAAAAASUAAAAAAAABJwAAAAAAAAElAAAAAAAAAScAAAAAAAABJQAAAAAAAAEnAAAAAAAAASUAAAAAAAABJwAAAAAAAAElAAAAAAAAAScAAAAAAAABJQAAAAAAAAEnAAAAAAAAASUAAAAAAAABJwAAAAAAAAElAAAAAAAAAScAAAAAAAABJQAAAAAAAAEnAAAAAAAAASUAAAAAAAABJwAAAAAAAAElAAAAAAAAAScAAAAAAAABJQAAAAAAAAEnAAAAAAAAASUA=",
            "dtype": "f8"
           }
          }
         ],
         "name": "frame_49",
         "traces": [
          0,
          1
         ]
        }
       ],
       "layout": {
        "height": 800,
        "margin": {
         "b": 100,
         "l": 50,
         "r": 50,
         "t": 100
        },
        "scene": {
         "aspectmode": "data",
         "camera": {
          "eye": {
           "x": 1.5,
           "y": 1.5,
           "z": 1.5
          }
         }
        },
        "sliders": [
         {
          "active": 25,
          "currentvalue": {
           "prefix": "Z-value: ",
           "visible": true,
           "xanchor": "right"
          },
          "len": 0.9,
          "pad": {
           "b": 10,
           "t": 50
          },
          "steps": [
           {
            "args": [
             [
              "frame_0"
             ],
             {
              "frame": {
               "duration": 0,
               "redraw": true
              },
              "mode": "immediate"
             }
            ],
            "label": "-55.00",
            "method": "animate"
           },
           {
            "args": [
             [
              "frame_1"
             ],
             {
              "frame": {
               "duration": 0,
               "redraw": true
              },
              "mode": "immediate"
             }
            ],
            "label": "-52.76",
            "method": "animate"
           },
           {
            "args": [
             [
              "frame_2"
             ],
             {
              "frame": {
               "duration": 0,
               "redraw": true
              },
              "mode": "immediate"
             }
            ],
            "label": "-50.51",
            "method": "animate"
           },
           {
            "args": [
             [
              "frame_3"
             ],
             {
              "frame": {
               "duration": 0,
               "redraw": true
              },
              "mode": "immediate"
             }
            ],
            "label": "-48.27",
            "method": "animate"
           },
           {
            "args": [
             [
              "frame_4"
             ],
             {
              "frame": {
               "duration": 0,
               "redraw": true
              },
              "mode": "immediate"
             }
            ],
            "label": "-46.02",
            "method": "animate"
           },
           {
            "args": [
             [
              "frame_5"
             ],
             {
              "frame": {
               "duration": 0,
               "redraw": true
              },
              "mode": "immediate"
             }
            ],
            "label": "-43.78",
            "method": "animate"
           },
           {
            "args": [
             [
              "frame_6"
             ],
             {
              "frame": {
               "duration": 0,
               "redraw": true
              },
              "mode": "immediate"
             }
            ],
            "label": "-41.53",
            "method": "animate"
           },
           {
            "args": [
             [
              "frame_7"
             ],
             {
              "frame": {
               "duration": 0,
               "redraw": true
              },
              "mode": "immediate"
             }
            ],
            "label": "-39.29",
            "method": "animate"
           },
           {
            "args": [
             [
              "frame_8"
             ],
             {
              "frame": {
               "duration": 0,
               "redraw": true
              },
              "mode": "immediate"
             }
            ],
            "label": "-37.04",
            "method": "animate"
           },
           {
            "args": [
             [
              "frame_9"
             ],
             {
              "frame": {
               "duration": 0,
               "redraw": true
              },
              "mode": "immediate"
             }
            ],
            "label": "-34.80",
            "method": "animate"
           },
           {
            "args": [
             [
              "frame_10"
             ],
             {
              "frame": {
               "duration": 0,
               "redraw": true
              },
              "mode": "immediate"
             }
            ],
            "label": "-32.55",
            "method": "animate"
           },
           {
            "args": [
             [
              "frame_11"
             ],
             {
              "frame": {
               "duration": 0,
               "redraw": true
              },
              "mode": "immediate"
             }
            ],
            "label": "-30.31",
            "method": "animate"
           },
           {
            "args": [
             [
              "frame_12"
             ],
             {
              "frame": {
               "duration": 0,
               "redraw": true
              },
              "mode": "immediate"
             }
            ],
            "label": "-28.06",
            "method": "animate"
           },
           {
            "args": [
             [
              "frame_13"
             ],
             {
              "frame": {
               "duration": 0,
               "redraw": true
              },
              "mode": "immediate"
             }
            ],
            "label": "-25.82",
            "method": "animate"
           },
           {
            "args": [
             [
              "frame_14"
             ],
             {
              "frame": {
               "duration": 0,
               "redraw": true
              },
              "mode": "immediate"
             }
            ],
            "label": "-23.57",
            "method": "animate"
           },
           {
            "args": [
             [
              "frame_15"
             ],
             {
              "frame": {
               "duration": 0,
               "redraw": true
              },
              "mode": "immediate"
             }
            ],
            "label": "-21.33",
            "method": "animate"
           },
           {
            "args": [
             [
              "frame_16"
             ],
             {
              "frame": {
               "duration": 0,
               "redraw": true
              },
              "mode": "immediate"
             }
            ],
            "label": "-19.08",
            "method": "animate"
           },
           {
            "args": [
             [
              "frame_17"
             ],
             {
              "frame": {
               "duration": 0,
               "redraw": true
              },
              "mode": "immediate"
             }
            ],
            "label": "-16.84",
            "method": "animate"
           },
           {
            "args": [
             [
              "frame_18"
             ],
             {
              "frame": {
               "duration": 0,
               "redraw": true
              },
              "mode": "immediate"
             }
            ],
            "label": "-14.59",
            "method": "animate"
           },
           {
            "args": [
             [
              "frame_19"
             ],
             {
              "frame": {
               "duration": 0,
               "redraw": true
              },
              "mode": "immediate"
             }
            ],
            "label": "-12.35",
            "method": "animate"
           },
           {
            "args": [
             [
              "frame_20"
             ],
             {
              "frame": {
               "duration": 0,
               "redraw": true
              },
              "mode": "immediate"
             }
            ],
            "label": "-10.10",
            "method": "animate"
           },
           {
            "args": [
             [
              "frame_21"
             ],
             {
              "frame": {
               "duration": 0,
               "redraw": true
              },
              "mode": "immediate"
             }
            ],
            "label": "-7.86",
            "method": "animate"
           },
           {
            "args": [
             [
              "frame_22"
             ],
             {
              "frame": {
               "duration": 0,
               "redraw": true
              },
              "mode": "immediate"
             }
            ],
            "label": "-5.61",
            "method": "animate"
           },
           {
            "args": [
             [
              "frame_23"
             ],
             {
              "frame": {
               "duration": 0,
               "redraw": true
              },
              "mode": "immediate"
             }
            ],
            "label": "-3.37",
            "method": "animate"
           },
           {
            "args": [
             [
              "frame_24"
             ],
             {
              "frame": {
               "duration": 0,
               "redraw": true
              },
              "mode": "immediate"
             }
            ],
            "label": "-1.12",
            "method": "animate"
           },
           {
            "args": [
             [
              "frame_25"
             ],
             {
              "frame": {
               "duration": 0,
               "redraw": true
              },
              "mode": "immediate"
             }
            ],
            "label": "1.12",
            "method": "animate"
           },
           {
            "args": [
             [
              "frame_26"
             ],
             {
              "frame": {
               "duration": 0,
               "redraw": true
              },
              "mode": "immediate"
             }
            ],
            "label": "3.37",
            "method": "animate"
           },
           {
            "args": [
             [
              "frame_27"
             ],
             {
              "frame": {
               "duration": 0,
               "redraw": true
              },
              "mode": "immediate"
             }
            ],
            "label": "5.61",
            "method": "animate"
           },
           {
            "args": [
             [
              "frame_28"
             ],
             {
              "frame": {
               "duration": 0,
               "redraw": true
              },
              "mode": "immediate"
             }
            ],
            "label": "7.86",
            "method": "animate"
           },
           {
            "args": [
             [
              "frame_29"
             ],
             {
              "frame": {
               "duration": 0,
               "redraw": true
              },
              "mode": "immediate"
             }
            ],
            "label": "10.10",
            "method": "animate"
           },
           {
            "args": [
             [
              "frame_30"
             ],
             {
              "frame": {
               "duration": 0,
               "redraw": true
              },
              "mode": "immediate"
             }
            ],
            "label": "12.35",
            "method": "animate"
           },
           {
            "args": [
             [
              "frame_31"
             ],
             {
              "frame": {
               "duration": 0,
               "redraw": true
              },
              "mode": "immediate"
             }
            ],
            "label": "14.59",
            "method": "animate"
           },
           {
            "args": [
             [
              "frame_32"
             ],
             {
              "frame": {
               "duration": 0,
               "redraw": true
              },
              "mode": "immediate"
             }
            ],
            "label": "16.84",
            "method": "animate"
           },
           {
            "args": [
             [
              "frame_33"
             ],
             {
              "frame": {
               "duration": 0,
               "redraw": true
              },
              "mode": "immediate"
             }
            ],
            "label": "19.08",
            "method": "animate"
           },
           {
            "args": [
             [
              "frame_34"
             ],
             {
              "frame": {
               "duration": 0,
               "redraw": true
              },
              "mode": "immediate"
             }
            ],
            "label": "21.33",
            "method": "animate"
           },
           {
            "args": [
             [
              "frame_35"
             ],
             {
              "frame": {
               "duration": 0,
               "redraw": true
              },
              "mode": "immediate"
             }
            ],
            "label": "23.57",
            "method": "animate"
           },
           {
            "args": [
             [
              "frame_36"
             ],
             {
              "frame": {
               "duration": 0,
               "redraw": true
              },
              "mode": "immediate"
             }
            ],
            "label": "25.82",
            "method": "animate"
           },
           {
            "args": [
             [
              "frame_37"
             ],
             {
              "frame": {
               "duration": 0,
               "redraw": true
              },
              "mode": "immediate"
             }
            ],
            "label": "28.06",
            "method": "animate"
           },
           {
            "args": [
             [
              "frame_38"
             ],
             {
              "frame": {
               "duration": 0,
               "redraw": true
              },
              "mode": "immediate"
             }
            ],
            "label": "30.31",
            "method": "animate"
           },
           {
            "args": [
             [
              "frame_39"
             ],
             {
              "frame": {
               "duration": 0,
               "redraw": true
              },
              "mode": "immediate"
             }
            ],
            "label": "32.55",
            "method": "animate"
           },
           {
            "args": [
             [
              "frame_40"
             ],
             {
              "frame": {
               "duration": 0,
               "redraw": true
              },
              "mode": "immediate"
             }
            ],
            "label": "34.80",
            "method": "animate"
           },
           {
            "args": [
             [
              "frame_41"
             ],
             {
              "frame": {
               "duration": 0,
               "redraw": true
              },
              "mode": "immediate"
             }
            ],
            "label": "37.04",
            "method": "animate"
           },
           {
            "args": [
             [
              "frame_42"
             ],
             {
              "frame": {
               "duration": 0,
               "redraw": true
              },
              "mode": "immediate"
             }
            ],
            "label": "39.29",
            "method": "animate"
           },
           {
            "args": [
             [
              "frame_43"
             ],
             {
              "frame": {
               "duration": 0,
               "redraw": true
              },
              "mode": "immediate"
             }
            ],
            "label": "41.53",
            "method": "animate"
           },
           {
            "args": [
             [
              "frame_44"
             ],
             {
              "frame": {
               "duration": 0,
               "redraw": true
              },
              "mode": "immediate"
             }
            ],
            "label": "43.78",
            "method": "animate"
           },
           {
            "args": [
             [
              "frame_45"
             ],
             {
              "frame": {
               "duration": 0,
               "redraw": true
              },
              "mode": "immediate"
             }
            ],
            "label": "46.02",
            "method": "animate"
           },
           {
            "args": [
             [
              "frame_46"
             ],
             {
              "frame": {
               "duration": 0,
               "redraw": true
              },
              "mode": "immediate"
             }
            ],
            "label": "48.27",
            "method": "animate"
           },
           {
            "args": [
             [
              "frame_47"
             ],
             {
              "frame": {
               "duration": 0,
               "redraw": true
              },
              "mode": "immediate"
             }
            ],
            "label": "50.51",
            "method": "animate"
           },
           {
            "args": [
             [
              "frame_48"
             ],
             {
              "frame": {
               "duration": 0,
               "redraw": true
              },
              "mode": "immediate"
             }
            ],
            "label": "52.76",
            "method": "animate"
           },
           {
            "args": [
             [
              "frame_49"
             ],
             {
              "frame": {
               "duration": 0,
               "redraw": true
              },
              "mode": "immediate"
             }
            ],
            "label": "55.00",
            "method": "animate"
           }
          ],
          "x": 0.1,
          "y": 0
         }
        ],
        "template": {
         "data": {
          "bar": [
           {
            "error_x": {
             "color": "#2a3f5f"
            },
            "error_y": {
             "color": "#2a3f5f"
            },
            "marker": {
             "line": {
              "color": "#E5ECF6",
              "width": 0.5
             },
             "pattern": {
              "fillmode": "overlay",
              "size": 10,
              "solidity": 0.2
             }
            },
            "type": "bar"
           }
          ],
          "barpolar": [
           {
            "marker": {
             "line": {
              "color": "#E5ECF6",
              "width": 0.5
             },
             "pattern": {
              "fillmode": "overlay",
              "size": 10,
              "solidity": 0.2
             }
            },
            "type": "barpolar"
           }
          ],
          "carpet": [
           {
            "aaxis": {
             "endlinecolor": "#2a3f5f",
             "gridcolor": "white",
             "linecolor": "white",
             "minorgridcolor": "white",
             "startlinecolor": "#2a3f5f"
            },
            "baxis": {
             "endlinecolor": "#2a3f5f",
             "gridcolor": "white",
             "linecolor": "white",
             "minorgridcolor": "white",
             "startlinecolor": "#2a3f5f"
            },
            "type": "carpet"
           }
          ],
          "choropleth": [
           {
            "colorbar": {
             "outlinewidth": 0,
             "ticks": ""
            },
            "type": "choropleth"
           }
          ],
          "contour": [
           {
            "colorbar": {
             "outlinewidth": 0,
             "ticks": ""
            },
            "colorscale": [
             [
              0,
              "#0d0887"
             ],
             [
              0.1111111111111111,
              "#46039f"
             ],
             [
              0.2222222222222222,
              "#7201a8"
             ],
             [
              0.3333333333333333,
              "#9c179e"
             ],
             [
              0.4444444444444444,
              "#bd3786"
             ],
             [
              0.5555555555555556,
              "#d8576b"
             ],
             [
              0.6666666666666666,
              "#ed7953"
             ],
             [
              0.7777777777777778,
              "#fb9f3a"
             ],
             [
              0.8888888888888888,
              "#fdca26"
             ],
             [
              1,
              "#f0f921"
             ]
            ],
            "type": "contour"
           }
          ],
          "contourcarpet": [
           {
            "colorbar": {
             "outlinewidth": 0,
             "ticks": ""
            },
            "type": "contourcarpet"
           }
          ],
          "heatmap": [
           {
            "colorbar": {
             "outlinewidth": 0,
             "ticks": ""
            },
            "colorscale": [
             [
              0,
              "#0d0887"
             ],
             [
              0.1111111111111111,
              "#46039f"
             ],
             [
              0.2222222222222222,
              "#7201a8"
             ],
             [
              0.3333333333333333,
              "#9c179e"
             ],
             [
              0.4444444444444444,
              "#bd3786"
             ],
             [
              0.5555555555555556,
              "#d8576b"
             ],
             [
              0.6666666666666666,
              "#ed7953"
             ],
             [
              0.7777777777777778,
              "#fb9f3a"
             ],
             [
              0.8888888888888888,
              "#fdca26"
             ],
             [
              1,
              "#f0f921"
             ]
            ],
            "type": "heatmap"
           }
          ],
          "histogram": [
           {
            "marker": {
             "pattern": {
              "fillmode": "overlay",
              "size": 10,
              "solidity": 0.2
             }
            },
            "type": "histogram"
           }
          ],
          "histogram2d": [
           {
            "colorbar": {
             "outlinewidth": 0,
             "ticks": ""
            },
            "colorscale": [
             [
              0,
              "#0d0887"
             ],
             [
              0.1111111111111111,
              "#46039f"
             ],
             [
              0.2222222222222222,
              "#7201a8"
             ],
             [
              0.3333333333333333,
              "#9c179e"
             ],
             [
              0.4444444444444444,
              "#bd3786"
             ],
             [
              0.5555555555555556,
              "#d8576b"
             ],
             [
              0.6666666666666666,
              "#ed7953"
             ],
             [
              0.7777777777777778,
              "#fb9f3a"
             ],
             [
              0.8888888888888888,
              "#fdca26"
             ],
             [
              1,
              "#f0f921"
             ]
            ],
            "type": "histogram2d"
           }
          ],
          "histogram2dcontour": [
           {
            "colorbar": {
             "outlinewidth": 0,
             "ticks": ""
            },
            "colorscale": [
             [
              0,
              "#0d0887"
             ],
             [
              0.1111111111111111,
              "#46039f"
             ],
             [
              0.2222222222222222,
              "#7201a8"
             ],
             [
              0.3333333333333333,
              "#9c179e"
             ],
             [
              0.4444444444444444,
              "#bd3786"
             ],
             [
              0.5555555555555556,
              "#d8576b"
             ],
             [
              0.6666666666666666,
              "#ed7953"
             ],
             [
              0.7777777777777778,
              "#fb9f3a"
             ],
             [
              0.8888888888888888,
              "#fdca26"
             ],
             [
              1,
              "#f0f921"
             ]
            ],
            "type": "histogram2dcontour"
           }
          ],
          "mesh3d": [
           {
            "colorbar": {
             "outlinewidth": 0,
             "ticks": ""
            },
            "type": "mesh3d"
           }
          ],
          "parcoords": [
           {
            "line": {
             "colorbar": {
              "outlinewidth": 0,
              "ticks": ""
             }
            },
            "type": "parcoords"
           }
          ],
          "pie": [
           {
            "automargin": true,
            "type": "pie"
           }
          ],
          "scatter": [
           {
            "fillpattern": {
             "fillmode": "overlay",
             "size": 10,
             "solidity": 0.2
            },
            "type": "scatter"
           }
          ],
          "scatter3d": [
           {
            "line": {
             "colorbar": {
              "outlinewidth": 0,
              "ticks": ""
             }
            },
            "marker": {
             "colorbar": {
              "outlinewidth": 0,
              "ticks": ""
             }
            },
            "type": "scatter3d"
           }
          ],
          "scattercarpet": [
           {
            "marker": {
             "colorbar": {
              "outlinewidth": 0,
              "ticks": ""
             }
            },
            "type": "scattercarpet"
           }
          ],
          "scattergeo": [
           {
            "marker": {
             "colorbar": {
              "outlinewidth": 0,
              "ticks": ""
             }
            },
            "type": "scattergeo"
           }
          ],
          "scattergl": [
           {
            "marker": {
             "colorbar": {
              "outlinewidth": 0,
              "ticks": ""
             }
            },
            "type": "scattergl"
           }
          ],
          "scattermap": [
           {
            "marker": {
             "colorbar": {
              "outlinewidth": 0,
              "ticks": ""
             }
            },
            "type": "scattermap"
           }
          ],
          "scattermapbox": [
           {
            "marker": {
             "colorbar": {
              "outlinewidth": 0,
              "ticks": ""
             }
            },
            "type": "scattermapbox"
           }
          ],
          "scatterpolar": [
           {
            "marker": {
             "colorbar": {
              "outlinewidth": 0,
              "ticks": ""
             }
            },
            "type": "scatterpolar"
           }
          ],
          "scatterpolargl": [
           {
            "marker": {
             "colorbar": {
              "outlinewidth": 0,
              "ticks": ""
             }
            },
            "type": "scatterpolargl"
           }
          ],
          "scatterternary": [
           {
            "marker": {
             "colorbar": {
              "outlinewidth": 0,
              "ticks": ""
             }
            },
            "type": "scatterternary"
           }
          ],
          "surface": [
           {
            "colorbar": {
             "outlinewidth": 0,
             "ticks": ""
            },
            "colorscale": [
             [
              0,
              "#0d0887"
             ],
             [
              0.1111111111111111,
              "#46039f"
             ],
             [
              0.2222222222222222,
              "#7201a8"
             ],
             [
              0.3333333333333333,
              "#9c179e"
             ],
             [
              0.4444444444444444,
              "#bd3786"
             ],
             [
              0.5555555555555556,
              "#d8576b"
             ],
             [
              0.6666666666666666,
              "#ed7953"
             ],
             [
              0.7777777777777778,
              "#fb9f3a"
             ],
             [
              0.8888888888888888,
              "#fdca26"
             ],
             [
              1,
              "#f0f921"
             ]
            ],
            "type": "surface"
           }
          ],
          "table": [
           {
            "cells": {
             "fill": {
              "color": "#EBF0F8"
             },
             "line": {
              "color": "white"
             }
            },
            "header": {
             "fill": {
              "color": "#C8D4E3"
             },
             "line": {
              "color": "white"
             }
            },
            "type": "table"
           }
          ]
         },
         "layout": {
          "annotationdefaults": {
           "arrowcolor": "#2a3f5f",
           "arrowhead": 0,
           "arrowwidth": 1
          },
          "autotypenumbers": "strict",
          "coloraxis": {
           "colorbar": {
            "outlinewidth": 0,
            "ticks": ""
           }
          },
          "colorscale": {
           "diverging": [
            [
             0,
             "#8e0152"
            ],
            [
             0.1,
             "#c51b7d"
            ],
            [
             0.2,
             "#de77ae"
            ],
            [
             0.3,
             "#f1b6da"
            ],
            [
             0.4,
             "#fde0ef"
            ],
            [
             0.5,
             "#f7f7f7"
            ],
            [
             0.6,
             "#e6f5d0"
            ],
            [
             0.7,
             "#b8e186"
            ],
            [
             0.8,
             "#7fbc41"
            ],
            [
             0.9,
             "#4d9221"
            ],
            [
             1,
             "#276419"
            ]
           ],
           "sequential": [
            [
             0,
             "#0d0887"
            ],
            [
             0.1111111111111111,
             "#46039f"
            ],
            [
             0.2222222222222222,
             "#7201a8"
            ],
            [
             0.3333333333333333,
             "#9c179e"
            ],
            [
             0.4444444444444444,
             "#bd3786"
            ],
            [
             0.5555555555555556,
             "#d8576b"
            ],
            [
             0.6666666666666666,
             "#ed7953"
            ],
            [
             0.7777777777777778,
             "#fb9f3a"
            ],
            [
             0.8888888888888888,
             "#fdca26"
            ],
            [
             1,
             "#f0f921"
            ]
           ],
           "sequentialminus": [
            [
             0,
             "#0d0887"
            ],
            [
             0.1111111111111111,
             "#46039f"
            ],
            [
             0.2222222222222222,
             "#7201a8"
            ],
            [
             0.3333333333333333,
             "#9c179e"
            ],
            [
             0.4444444444444444,
             "#bd3786"
            ],
            [
             0.5555555555555556,
             "#d8576b"
            ],
            [
             0.6666666666666666,
             "#ed7953"
            ],
            [
             0.7777777777777778,
             "#fb9f3a"
            ],
            [
             0.8888888888888888,
             "#fdca26"
            ],
            [
             1,
             "#f0f921"
            ]
           ]
          },
          "colorway": [
           "#636efa",
           "#EF553B",
           "#00cc96",
           "#ab63fa",
           "#FFA15A",
           "#19d3f3",
           "#FF6692",
           "#B6E880",
           "#FF97FF",
           "#FECB52"
          ],
          "font": {
           "color": "#2a3f5f"
          },
          "geo": {
           "bgcolor": "white",
           "lakecolor": "white",
           "landcolor": "#E5ECF6",
           "showlakes": true,
           "showland": true,
           "subunitcolor": "white"
          },
          "hoverlabel": {
           "align": "left"
          },
          "hovermode": "closest",
          "mapbox": {
           "style": "light"
          },
          "paper_bgcolor": "white",
          "plot_bgcolor": "#E5ECF6",
          "polar": {
           "angularaxis": {
            "gridcolor": "white",
            "linecolor": "white",
            "ticks": ""
           },
           "bgcolor": "#E5ECF6",
           "radialaxis": {
            "gridcolor": "white",
            "linecolor": "white",
            "ticks": ""
           }
          },
          "scene": {
           "xaxis": {
            "backgroundcolor": "#E5ECF6",
            "gridcolor": "white",
            "gridwidth": 2,
            "linecolor": "white",
            "showbackground": true,
            "ticks": "",
            "zerolinecolor": "white"
           },
           "yaxis": {
            "backgroundcolor": "#E5ECF6",
            "gridcolor": "white",
            "gridwidth": 2,
            "linecolor": "white",
            "showbackground": true,
            "ticks": "",
            "zerolinecolor": "white"
           },
           "zaxis": {
            "backgroundcolor": "#E5ECF6",
            "gridcolor": "white",
            "gridwidth": 2,
            "linecolor": "white",
            "showbackground": true,
            "ticks": "",
            "zerolinecolor": "white"
           }
          },
          "shapedefaults": {
           "line": {
            "color": "#2a3f5f"
           }
          },
          "ternary": {
           "aaxis": {
            "gridcolor": "white",
            "linecolor": "white",
            "ticks": ""
           },
           "baxis": {
            "gridcolor": "white",
            "linecolor": "white",
            "ticks": ""
           },
           "bgcolor": "#E5ECF6",
           "caxis": {
            "gridcolor": "white",
            "linecolor": "white",
            "ticks": ""
           }
          },
          "title": {
           "x": 0.05
          },
          "xaxis": {
           "automargin": true,
           "gridcolor": "white",
           "linecolor": "white",
           "ticks": "",
           "title": {
            "standoff": 15
           },
           "zerolinecolor": "white",
           "zerolinewidth": 2
          },
          "yaxis": {
           "automargin": true,
           "gridcolor": "white",
           "linecolor": "white",
           "ticks": "",
           "title": {
            "standoff": 15
           },
           "zerolinecolor": "white",
           "zerolinewidth": 2
          }
         }
        },
        "title": {
         "text": "Interactive Cylinder Cross-Sections"
        },
        "updatemenus": [
         {
          "buttons": [
           {
            "args": [
             null,
             {
              "frame": {
               "duration": 200,
               "redraw": true
              },
              "fromcurrent": true
             }
            ],
            "label": "Play",
            "method": "animate"
           },
           {
            "args": [
             [
              null
             ],
             {
              "frame": {
               "duration": 0,
               "redraw": false
              },
              "mode": "immediate"
             }
            ],
            "label": "Pause",
            "method": "animate"
           },
           {
            "args": [
             {
              "scene.camera.eye": {
               "x": 1.5,
               "y": 1.5,
               "z": 1.5
              }
             }
            ],
            "label": "Reset View",
            "method": "relayout"
           }
          ],
          "pad": {
           "r": 10,
           "t": 60
          },
          "showactive": false,
          "type": "buttons",
          "x": 0,
          "xanchor": "left",
          "y": 0,
          "yanchor": "top"
         }
        ]
       }
      }
     },
     "metadata": {},
     "output_type": "display_data"
    }
   ],
   "source": [
    "cylinder.visualize_mesh_slice_interactive(\n",
    "    title=\"Interactive Cylinder Cross-Sections\",\n",
    "    slice_color=\"red\",\n",
    "    mesh_color=\"lightblue\",\n",
    "    mesh_opacity=0.3\n",
    ")\n"
   ]
  },
  {
   "cell_type": "markdown",
   "id": "91b93bf1",
   "metadata": {},
   "source": [
    "## Slice Grid View"
   ]
  },
  {
   "cell_type": "code",
   "execution_count": 5,
   "id": "2a4d2532",
   "metadata": {},
   "outputs": [
    {
     "data": {
      "application/vnd.plotly.v1+json": {
       "config": {
        "plotlyServerURL": "https://plot.ly"
       },
       "data": [
        {
         "line": {
          "color": "red",
          "width": 2
         },
         "mode": "lines",
         "showlegend": false,
         "type": "scatter",
         "x": {
          "bdata": "CXPZv68Ptjy9U1pQW53+P8AKHwDGSAxATJh/YUN6EkAAAAAAAAAUQEqYf2FDehJAvgofAMZIDEDBU1pQW53+P0YW48/Di9C8yFNaUFud/r/CCh8AxkgMwEyYf2FDehLAAAAAAAAAFMBMmH9hQ3oSwL8KHwDGSAzAulNaUFud/r8Jc9m/rw+2PAlz2b+vD7Y8",
          "dtype": "f8"
         },
         "xaxis": "x",
         "y": {
          "bdata": "AAAAAAAAFEBMmH9hQ3oSQMAKHwDGSAxAvFNaUFud/j8AAAAAAAAAAMpTWlBbnf6/wgofAMZIDMBLmH9hQ3oSwAAAAAAAABTASph/YUN6EsC/Ch8AxkgMwLlTWlBbnf6/CXPZv68Pxjy+U1pQW53+P8AKHwDGSAxATJh/YUN6EkAAAAAAAAAUQAAAAAAAABRA",
          "dtype": "f8"
         },
         "yaxis": "y"
        },
        {
         "line": {
          "color": "red",
          "width": 2
         },
         "mode": "lines",
         "showlegend": false,
         "type": "scatter",
         "x": {
          "bdata": "CXPZv68PtjxCCU/mr8n6v7pTWlBbnf6/os4g9YKpCsC/Ch8AxkgMwO6VUVWH7xHATJh/YUN6EsAK8y9sSM8TwAAAAAAAABTAQqVP9fqqEsBMmH9hQ3oSwH0Pexg+Xg3AwgofAMZIDMAAZiuz8O0AwMhTWlBbnf6/6FNaUFudzr9GFuPPw4vQvEcJT+avyfo/wVNaUFud/j+iziD1gqkKQL4KHwDGSAxA7JVRVYfvEUBKmH9hQ3oSQAnzL2xIzxNAAAAAAAAAFEBCpU/1+qoSQEyYf2FDehJAew97GD5eDUDACh8AxkgMQPtlK7Pw7QBAvVNaUFud/j/IU1pQW53OPwlz2b+vD7Y8CXPZv68Ptjw=",
          "dtype": "f8"
         },
         "xaxis": "x2",
         "y": {
          "bdata": "AAAAAAAAFEBCpU/1+qoSQEyYf2FDehJAew97GD5eDUDACh8AxkgMQPxlK7Pw7QBAvlNaUFud/j/YU1pQW53OPwlz2b+vD8Y8QQlP5q/J+r+5U1pQW53+v6LOIPWCqQrAvwofAMZIDMDslVFVh+8RwEqYf2FDehLACfMvbEjPE8AAAAAAAAAUwEKlT/X6qhLAS5h/YUN6EsB9D3sYPl4NwMIKHwDGSAzAAWYrs/DtAMDKU1pQW53+v8hTWlBbnc6/AAAAAAAAAABECU/mr8n6P7xTWlBbnf4/pM4g9YKpCkDACh8AxkgMQO6VUVWH7xFATJh/YUN6EkAK8y9sSM8TQAAAAAAAABRAAAAAAAAAFEA=",
          "dtype": "f8"
         },
         "yaxis": "y2"
        },
        {
         "line": {
          "color": "red",
          "width": 2
         },
         "mode": "lines",
         "showlegend": false,
         "type": "scatter",
         "x": {
          "bdata": "CXPZv68PtjzLvkN8BPb2v7pTWlBbnf6/hpIi6j8KCcC/Ch8AxkgMwJGTI0nLZBHATJh/YUN6EsAT5l/YkJ4TwAAAAAAAABTAObIfibLbEsBMmH9hQ3oSwDgU1zC2cw7AwgofAMZIDMAboim+M40CwMhTWlBbnf6/1FNaUFud3r9GFuPPw4vQvM++Q3wE9vY/wVNaUFud/j+GkiLqPwoJQL4KHwDGSAxAj5MjSctkEUBKmH9hQ3oSQBLmX9iQnhNAAAAAAAAAFEA5sh+JstsSQEyYf2FDehJANhTXMLZzDkDACh8AxkgMQBeiKb4zjQJAvVNaUFud/j+8U1pQW53ePwlz2b+vD7Y8CXPZv68Ptjw=",
          "dtype": "f8"
         },
         "xaxis": "x3",
         "y": {
          "bdata": "AAAAAAAAFEA5sh+JstsSQEyYf2FDehJANhTXMLZzDkDACh8AxkgMQBiiKb4zjQJAvlNaUFud/j/IU1pQW53ePwlz2b+vD8Y8y75DfAT29r+5U1pQW53+v4aSIuo/CgnAvwofAMZIDMCPkyNJy2QRwEqYf2FDehLAEuZf2JCeE8AAAAAAAAAUwDiyH4my2xLAS5h/YUN6EsA3FNcwtnMOwMIKHwDGSAzAHKIpvjONAsDKU1pQW53+v8hTWlBbnd6/AAAAAAAAAADOvkN8BPb2P7xTWlBbnf4/iJIi6j8KCUDACh8AxkgMQJGTI0nLZBFATJh/YUN6EkAT5l/YkJ4TQAAAAAAAABRAAAAAAAAAFEA=",
          "dtype": "f8"
         },
         "yaxis": "y3"
        },
        {
         "line": {
          "color": "red",
          "width": 2
         },
         "mode": "lines",
         "showlegend": false,
         "type": "scatter",
         "x": {
          "bdata": "CXPZv68PtjzOvkN8BPbmP71TWlBbnf4/NN4nyXYsBEDACh8AxkgMQPEYM0kuiQ9ATJh/YUN6EkAwv+8cagwTQAAAAAAAABRAHNmPRNltE0BKmH9hQ3oSQDKR9TwP2hBAvgofAMZIDEBrViTf/GoHQMFTWlBbnf4/VnQ4Elki8z9GFuPPw4vQvNy+Q3wE9ua/yFNaUFud/r833ifJdiwEwMIKHwDGSAzA8hgzSS6JD8BMmH9hQ3oSwDC/7xxqDBPAAAAAAAAAFMAc2Y9E2W0TwEyYf2FDehLAM5H1PA/aEMC/Ch8AxkgMwGpWJN/8agfAulNaUFud/r9UdDgSWSLzvwlz2b+vD7Y8CXPZv68Ptjw=",
          "dtype": "f8"
         },
         "xaxis": "x4",
         "y": {
          "bdata": "AAAAAAAAFEAc2Y9E2W0TQEyYf2FDehJAM5H1PA/aEEDACh8AxkgMQGtWJN/8agdAvFNaUFud/j9WdDgSWSLzPwAAAAAAAAAA2L5DfAT25r/KU1pQW53+vzjeJ8l2LATAwgofAMZIDMDyGDNJLokPwEuYf2FDehLAL7/vHGoME8AAAAAAAAAUwBzZj0TZbRPASph/YUN6EsAykfU8D9oQwL8KHwDGSAzAalYk3/xqB8C5U1pQW53+v1N0OBJZIvO/CXPZv68PxjzSvkN8BPbmP75TWlBbnf4/NN4nyXYsBEDACh8AxkgMQPEYM0kuiQ9ATJh/YUN6EkAwv+8cagwTQAAAAAAAABRAAAAAAAAAFEA=",
          "dtype": "f8"
         },
         "yaxis": "y4"
        },
        {
         "line": {
          "color": "red",
          "width": 2
         },
         "mode": "lines",
         "showlegend": false,
         "type": "scatter",
         "x": {
          "bdata": "Rhbjz8OL0LzMU1pQW53uv8hTWlBbnf6/Uxom1LnLBcDCCh8AxkgMwNaOxzBTTxDATJh/YUN6EsAmzL+wIT0TwAAAAAAAABTAJsy/sCE9E8BMmH9hQ3oSwNaOxzBTTxDAvwofAMZIDMBOGibUucsFwLpTWlBbnf6/uFNaUFud7r8Jc9m/rw+2PL5TWlBbne4/vVNaUFud/j9PGibUucsFQMAKHwDGSAxA1o7HMFNPEEBMmH9hQ3oSQCbMv7AhPRNAAAAAAAAAFEAlzL+wIT0TQEqYf2FDehJA1I7HMFNPEEC+Ch8AxkgMQE8aJtS5ywVAwVNaUFud/j+8U1pQW53uP0YW48/Di9C8Rhbjz8OL0Lw=",
          "dtype": "f8"
         },
         "xaxis": "x5",
         "y": {
          "bdata": "AAAAAAAAFMAlzL+wIT0TwEqYf2FDehLA1Y7HMFNPEMC/Ch8AxkgMwE4aJtS5ywXAuVNaUFud/r+2U1pQW53uvwlz2b+vD8Y8wVNaUFud7j++U1pQW53+P1AaJtS5ywVAwAofAMZIDEDWjscwU08QQEyYf2FDehJAJsy/sCE9E0AAAAAAAAAUQCbMv7AhPRNATJh/YUN6EkDWjscwU08QQMAKHwDGSAxATxom1LnLBUC8U1pQW53+P7xTWlBbne4/AAAAAAAAAADKU1pQW53uv8pTWlBbnf6/VBom1LnLBcDCCh8AxkgMwNaOxzBTTxDAS5h/YUN6EsAmzL+wIT0TwAAAAAAAABTAAAAAAAAAFMA=",
          "dtype": "f8"
         },
         "yaxis": "y5"
        },
        {
         "line": {
          "color": "red",
          "width": 2
         },
         "mode": "lines",
         "showlegend": false,
         "type": "scatter",
         "x": {
          "bdata": "CXPZv68PtjxWdDgSWSLzP71TWlBbnf4/bFYk3/xqB0DACh8AxkgMQDSR9TwP2hBATJh/YUN6EkAc2Y9E2W0TQAAAAAAAABRALr/vHGoME0BKmH9hQ3oSQO4YM0kuiQ9AvgofAMZIDEA03ifJdiwEQMFTWlBbnf4/y75DfAT25j9GFuPPw4vQvF50OBJZIvO/yFNaUFud/r9uViTf/GoHwMIKHwDGSAzANJH1PA/aEMBMmH9hQ3oSwBzZj0TZbRPAAAAAAAAAFMAwv+8cagwTwEyYf2FDehLA8BgzSS6JD8C/Ch8AxkgMwDLeJ8l2LATAulNaUFud/r/JvkN8BPbmvwlz2b+vD7Y8CXPZv68Ptjw=",
          "dtype": "f8"
         },
         "xaxis": "x6",
         "y": {
          "bdata": "AAAAAAAAFEAwv+8cagwTQEyYf2FDehJA8RgzSS6JD0DACh8AxkgMQDPeJ8l2LARAvFNaUFud/j/OvkN8BPbmPwAAAAAAAAAAXnQ4Elki87/KU1pQW53+v29WJN/8agfAwgofAMZIDMAzkfU8D9oQwEuYf2FDehLAHNmPRNltE8AAAAAAAAAUwC6/7xxqDBPASph/YUN6EsDvGDNJLokPwL8KHwDGSAzAMd4nyXYsBMC5U1pQW53+v8i+Q3wE9ua/CXPZv68PxjxYdDgSWSLzP75TWlBbnf4/bFYk3/xqB0DACh8AxkgMQDSR9TwP2hBATJh/YUN6EkAc2Y9E2W0TQAAAAAAAABRAAAAAAAAAFEA=",
          "dtype": "f8"
         },
         "yaxis": "y6"
        },
        {
         "line": {
          "color": "red",
          "width": 2
         },
         "mode": "lines",
         "showlegend": false,
         "type": "scatter",
         "x": {
          "bdata": "CXPZv68Ptjy1U1pQW53ev7pTWlBbnf6/FqIpvjONAsC/Ch8AxkgMwDUU1zC2cw7ATJh/YUN6EsA5sh+JstsSwAAAAAAAABTAE+Zf2JCeE8BMmH9hQ3oSwJGTI0nLZBHAwgofAMZIDMCKkiLqPwoJwMhTWlBbnf6/175DfAT29r9GFuPPw4vQvLNTWlBbnd4/wVNaUFud/j8Yoim+M40CQL4KHwDGSAxANBTXMLZzDkBKmH9hQ3oSQDiyH4my2xJAAAAAAAAAFEAT5l/YkJ4TQEyYf2FDehJAkZMjSctkEUDACh8AxkgMQIiSIuo/CglAvVNaUFud/j/OvkN8BPb2Pwlz2b+vD7Y8CXPZv68Ptjw=",
          "dtype": "f8"
         },
         "xaxis": "x7",
         "y": {
          "bdata": "AAAAAAAAFEAT5l/YkJ4TQEyYf2FDehJAkZMjSctkEUDACh8AxkgMQIiSIuo/CglAvlNaUFud/j/PvkN8BPb2Pwlz2b+vD8Y8sVNaUFud3r+5U1pQW53+vxWiKb4zjQLAvwofAMZIDMA0FNcwtnMOwEqYf2FDehLAOLIfibLbEsAAAAAAAAAUwBPmX9iQnhPAS5h/YUN6EsCQkyNJy2QRwMIKHwDGSAzAi5Ii6j8KCcDKU1pQW53+v9i+Q3wE9va/AAAAAAAAAAC8U1pQW53eP7xTWlBbnf4/FqIpvjONAkDACh8AxkgMQDYU1zC2cw5ATJh/YUN6EkA5sh+JstsSQAAAAAAAABRAAAAAAAAAFEA=",
          "dtype": "f8"
         },
         "yaxis": "y7"
        },
        {
         "line": {
          "color": "red",
          "width": 2
         },
         "mode": "lines",
         "showlegend": false,
         "type": "scatter",
         "x": {
          "bdata": "CXPZv68PtjxGCU/mr8n6P71TWlBbnf4/pM4g9YKpCkDACh8AxkgMQO6VUVWH7xFATJh/YUN6EkAK8y9sSM8TQAAAAAAAABRAQaVP9fqqEkBKmH9hQ3oSQHkPexg+Xg1AvgofAMZIDED8ZSuz8O0AQMFTWlBbnf4/o1NaUFudzj9GFuPPw4vQvFAJT+avyfq/yFNaUFud/r+mziD1gqkKwMIKHwDGSAzA75VRVYfvEcBMmH9hQ3oSwArzL2xIzxPAAAAAAAAAFMBCpU/1+qoSwEyYf2FDehLAeg97GD5eDcC/Ch8AxkgMwPllK7Pw7QDAulNaUFud/r+wU1pQW53Ovwlz2b+vD7Y8CXPZv68Ptjw=",
          "dtype": "f8"
         },
         "xaxis": "x8",
         "y": {
          "bdata": "AAAAAAAAFEBCpU/1+qoSQEyYf2FDehJAew97GD5eDUDACh8AxkgMQPplK7Pw7QBAvFNaUFud/j+8U1pQW53OPwAAAAAAAAAAUQlP5q/J+r/KU1pQW53+v6bOIPWCqQrAwgofAMZIDMDulVFVh+8RwEuYf2FDehLACfMvbEjPE8AAAAAAAAAUwEGlT/X6qhLASph/YUN6EsB6D3sYPl4NwL8KHwDGSAzA+WUrs/DtAMC5U1pQW53+v6ZTWlBbnc6/CXPZv68PxjxHCU/mr8n6P75TWlBbnf4/pM4g9YKpCkDACh8AxkgMQO6VUVWH7xFATJh/YUN6EkAK8y9sSM8TQAAAAAAAABRAAAAAAAAAFEA=",
          "dtype": "f8"
         },
         "yaxis": "y8"
        }
       ],
       "layout": {
        "annotations": [
         {
          "font": {
           "size": 16
          },
          "showarrow": false,
          "text": "Z = -50.00",
          "x": 0.14444444444444446,
          "xanchor": "center",
          "xref": "paper",
          "y": 1,
          "yanchor": "bottom",
          "yref": "paper"
         },
         {
          "font": {
           "size": 16
          },
          "showarrow": false,
          "text": "Z = -37.50",
          "x": 0.5,
          "xanchor": "center",
          "xref": "paper",
          "y": 1,
          "yanchor": "bottom",
          "yref": "paper"
         },
         {
          "font": {
           "size": 16
          },
          "showarrow": false,
          "text": "Z = -25.00",
          "x": 0.8555555555555556,
          "xanchor": "center",
          "xref": "paper",
          "y": 1,
          "yanchor": "bottom",
          "yref": "paper"
         },
         {
          "font": {
           "size": 16
          },
          "showarrow": false,
          "text": "Z = -12.50",
          "x": 0.14444444444444446,
          "xanchor": "center",
          "xref": "paper",
          "y": 0.6111111111111112,
          "yanchor": "bottom",
          "yref": "paper"
         },
         {
          "font": {
           "size": 16
          },
          "showarrow": false,
          "text": "Z = 0.00",
          "x": 0.5,
          "xanchor": "center",
          "xref": "paper",
          "y": 0.6111111111111112,
          "yanchor": "bottom",
          "yref": "paper"
         },
         {
          "font": {
           "size": 16
          },
          "showarrow": false,
          "text": "Z = 12.50",
          "x": 0.8555555555555556,
          "xanchor": "center",
          "xref": "paper",
          "y": 0.6111111111111112,
          "yanchor": "bottom",
          "yref": "paper"
         },
         {
          "font": {
           "size": 16
          },
          "showarrow": false,
          "text": "Z = 25.00",
          "x": 0.14444444444444446,
          "xanchor": "center",
          "xref": "paper",
          "y": 0.22222222222222224,
          "yanchor": "bottom",
          "yref": "paper"
         },
         {
          "font": {
           "size": 16
          },
          "showarrow": false,
          "text": "Z = 37.50",
          "x": 0.5,
          "xanchor": "center",
          "xref": "paper",
          "y": 0.22222222222222224,
          "yanchor": "bottom",
          "yref": "paper"
         },
         {
          "font": {
           "size": 16
          },
          "showarrow": false,
          "text": "Z = 50.00",
          "x": 0.8555555555555556,
          "xanchor": "center",
          "xref": "paper",
          "y": 0.22222222222222224,
          "yanchor": "bottom",
          "yref": "paper"
         }
        ],
        "height": 450,
        "showlegend": false,
        "template": {
         "data": {
          "bar": [
           {
            "error_x": {
             "color": "#2a3f5f"
            },
            "error_y": {
             "color": "#2a3f5f"
            },
            "marker": {
             "line": {
              "color": "#E5ECF6",
              "width": 0.5
             },
             "pattern": {
              "fillmode": "overlay",
              "size": 10,
              "solidity": 0.2
             }
            },
            "type": "bar"
           }
          ],
          "barpolar": [
           {
            "marker": {
             "line": {
              "color": "#E5ECF6",
              "width": 0.5
             },
             "pattern": {
              "fillmode": "overlay",
              "size": 10,
              "solidity": 0.2
             }
            },
            "type": "barpolar"
           }
          ],
          "carpet": [
           {
            "aaxis": {
             "endlinecolor": "#2a3f5f",
             "gridcolor": "white",
             "linecolor": "white",
             "minorgridcolor": "white",
             "startlinecolor": "#2a3f5f"
            },
            "baxis": {
             "endlinecolor": "#2a3f5f",
             "gridcolor": "white",
             "linecolor": "white",
             "minorgridcolor": "white",
             "startlinecolor": "#2a3f5f"
            },
            "type": "carpet"
           }
          ],
          "choropleth": [
           {
            "colorbar": {
             "outlinewidth": 0,
             "ticks": ""
            },
            "type": "choropleth"
           }
          ],
          "contour": [
           {
            "colorbar": {
             "outlinewidth": 0,
             "ticks": ""
            },
            "colorscale": [
             [
              0,
              "#0d0887"
             ],
             [
              0.1111111111111111,
              "#46039f"
             ],
             [
              0.2222222222222222,
              "#7201a8"
             ],
             [
              0.3333333333333333,
              "#9c179e"
             ],
             [
              0.4444444444444444,
              "#bd3786"
             ],
             [
              0.5555555555555556,
              "#d8576b"
             ],
             [
              0.6666666666666666,
              "#ed7953"
             ],
             [
              0.7777777777777778,
              "#fb9f3a"
             ],
             [
              0.8888888888888888,
              "#fdca26"
             ],
             [
              1,
              "#f0f921"
             ]
            ],
            "type": "contour"
           }
          ],
          "contourcarpet": [
           {
            "colorbar": {
             "outlinewidth": 0,
             "ticks": ""
            },
            "type": "contourcarpet"
           }
          ],
          "heatmap": [
           {
            "colorbar": {
             "outlinewidth": 0,
             "ticks": ""
            },
            "colorscale": [
             [
              0,
              "#0d0887"
             ],
             [
              0.1111111111111111,
              "#46039f"
             ],
             [
              0.2222222222222222,
              "#7201a8"
             ],
             [
              0.3333333333333333,
              "#9c179e"
             ],
             [
              0.4444444444444444,
              "#bd3786"
             ],
             [
              0.5555555555555556,
              "#d8576b"
             ],
             [
              0.6666666666666666,
              "#ed7953"
             ],
             [
              0.7777777777777778,
              "#fb9f3a"
             ],
             [
              0.8888888888888888,
              "#fdca26"
             ],
             [
              1,
              "#f0f921"
             ]
            ],
            "type": "heatmap"
           }
          ],
          "histogram": [
           {
            "marker": {
             "pattern": {
              "fillmode": "overlay",
              "size": 10,
              "solidity": 0.2
             }
            },
            "type": "histogram"
           }
          ],
          "histogram2d": [
           {
            "colorbar": {
             "outlinewidth": 0,
             "ticks": ""
            },
            "colorscale": [
             [
              0,
              "#0d0887"
             ],
             [
              0.1111111111111111,
              "#46039f"
             ],
             [
              0.2222222222222222,
              "#7201a8"
             ],
             [
              0.3333333333333333,
              "#9c179e"
             ],
             [
              0.4444444444444444,
              "#bd3786"
             ],
             [
              0.5555555555555556,
              "#d8576b"
             ],
             [
              0.6666666666666666,
              "#ed7953"
             ],
             [
              0.7777777777777778,
              "#fb9f3a"
             ],
             [
              0.8888888888888888,
              "#fdca26"
             ],
             [
              1,
              "#f0f921"
             ]
            ],
            "type": "histogram2d"
           }
          ],
          "histogram2dcontour": [
           {
            "colorbar": {
             "outlinewidth": 0,
             "ticks": ""
            },
            "colorscale": [
             [
              0,
              "#0d0887"
             ],
             [
              0.1111111111111111,
              "#46039f"
             ],
             [
              0.2222222222222222,
              "#7201a8"
             ],
             [
              0.3333333333333333,
              "#9c179e"
             ],
             [
              0.4444444444444444,
              "#bd3786"
             ],
             [
              0.5555555555555556,
              "#d8576b"
             ],
             [
              0.6666666666666666,
              "#ed7953"
             ],
             [
              0.7777777777777778,
              "#fb9f3a"
             ],
             [
              0.8888888888888888,
              "#fdca26"
             ],
             [
              1,
              "#f0f921"
             ]
            ],
            "type": "histogram2dcontour"
           }
          ],
          "mesh3d": [
           {
            "colorbar": {
             "outlinewidth": 0,
             "ticks": ""
            },
            "type": "mesh3d"
           }
          ],
          "parcoords": [
           {
            "line": {
             "colorbar": {
              "outlinewidth": 0,
              "ticks": ""
             }
            },
            "type": "parcoords"
           }
          ],
          "pie": [
           {
            "automargin": true,
            "type": "pie"
           }
          ],
          "scatter": [
           {
            "fillpattern": {
             "fillmode": "overlay",
             "size": 10,
             "solidity": 0.2
            },
            "type": "scatter"
           }
          ],
          "scatter3d": [
           {
            "line": {
             "colorbar": {
              "outlinewidth": 0,
              "ticks": ""
             }
            },
            "marker": {
             "colorbar": {
              "outlinewidth": 0,
              "ticks": ""
             }
            },
            "type": "scatter3d"
           }
          ],
          "scattercarpet": [
           {
            "marker": {
             "colorbar": {
              "outlinewidth": 0,
              "ticks": ""
             }
            },
            "type": "scattercarpet"
           }
          ],
          "scattergeo": [
           {
            "marker": {
             "colorbar": {
              "outlinewidth": 0,
              "ticks": ""
             }
            },
            "type": "scattergeo"
           }
          ],
          "scattergl": [
           {
            "marker": {
             "colorbar": {
              "outlinewidth": 0,
              "ticks": ""
             }
            },
            "type": "scattergl"
           }
          ],
          "scattermap": [
           {
            "marker": {
             "colorbar": {
              "outlinewidth": 0,
              "ticks": ""
             }
            },
            "type": "scattermap"
           }
          ],
          "scattermapbox": [
           {
            "marker": {
             "colorbar": {
              "outlinewidth": 0,
              "ticks": ""
             }
            },
            "type": "scattermapbox"
           }
          ],
          "scatterpolar": [
           {
            "marker": {
             "colorbar": {
              "outlinewidth": 0,
              "ticks": ""
             }
            },
            "type": "scatterpolar"
           }
          ],
          "scatterpolargl": [
           {
            "marker": {
             "colorbar": {
              "outlinewidth": 0,
              "ticks": ""
             }
            },
            "type": "scatterpolargl"
           }
          ],
          "scatterternary": [
           {
            "marker": {
             "colorbar": {
              "outlinewidth": 0,
              "ticks": ""
             }
            },
            "type": "scatterternary"
           }
          ],
          "surface": [
           {
            "colorbar": {
             "outlinewidth": 0,
             "ticks": ""
            },
            "colorscale": [
             [
              0,
              "#0d0887"
             ],
             [
              0.1111111111111111,
              "#46039f"
             ],
             [
              0.2222222222222222,
              "#7201a8"
             ],
             [
              0.3333333333333333,
              "#9c179e"
             ],
             [
              0.4444444444444444,
              "#bd3786"
             ],
             [
              0.5555555555555556,
              "#d8576b"
             ],
             [
              0.6666666666666666,
              "#ed7953"
             ],
             [
              0.7777777777777778,
              "#fb9f3a"
             ],
             [
              0.8888888888888888,
              "#fdca26"
             ],
             [
              1,
              "#f0f921"
             ]
            ],
            "type": "surface"
           }
          ],
          "table": [
           {
            "cells": {
             "fill": {
              "color": "#EBF0F8"
             },
             "line": {
              "color": "white"
             }
            },
            "header": {
             "fill": {
              "color": "#C8D4E3"
             },
             "line": {
              "color": "white"
             }
            },
            "type": "table"
           }
          ]
         },
         "layout": {
          "annotationdefaults": {
           "arrowcolor": "#2a3f5f",
           "arrowhead": 0,
           "arrowwidth": 1
          },
          "autotypenumbers": "strict",
          "coloraxis": {
           "colorbar": {
            "outlinewidth": 0,
            "ticks": ""
           }
          },
          "colorscale": {
           "diverging": [
            [
             0,
             "#8e0152"
            ],
            [
             0.1,
             "#c51b7d"
            ],
            [
             0.2,
             "#de77ae"
            ],
            [
             0.3,
             "#f1b6da"
            ],
            [
             0.4,
             "#fde0ef"
            ],
            [
             0.5,
             "#f7f7f7"
            ],
            [
             0.6,
             "#e6f5d0"
            ],
            [
             0.7,
             "#b8e186"
            ],
            [
             0.8,
             "#7fbc41"
            ],
            [
             0.9,
             "#4d9221"
            ],
            [
             1,
             "#276419"
            ]
           ],
           "sequential": [
            [
             0,
             "#0d0887"
            ],
            [
             0.1111111111111111,
             "#46039f"
            ],
            [
             0.2222222222222222,
             "#7201a8"
            ],
            [
             0.3333333333333333,
             "#9c179e"
            ],
            [
             0.4444444444444444,
             "#bd3786"
            ],
            [
             0.5555555555555556,
             "#d8576b"
            ],
            [
             0.6666666666666666,
             "#ed7953"
            ],
            [
             0.7777777777777778,
             "#fb9f3a"
            ],
            [
             0.8888888888888888,
             "#fdca26"
            ],
            [
             1,
             "#f0f921"
            ]
           ],
           "sequentialminus": [
            [
             0,
             "#0d0887"
            ],
            [
             0.1111111111111111,
             "#46039f"
            ],
            [
             0.2222222222222222,
             "#7201a8"
            ],
            [
             0.3333333333333333,
             "#9c179e"
            ],
            [
             0.4444444444444444,
             "#bd3786"
            ],
            [
             0.5555555555555556,
             "#d8576b"
            ],
            [
             0.6666666666666666,
             "#ed7953"
            ],
            [
             0.7777777777777778,
             "#fb9f3a"
            ],
            [
             0.8888888888888888,
             "#fdca26"
            ],
            [
             1,
             "#f0f921"
            ]
           ]
          },
          "colorway": [
           "#636efa",
           "#EF553B",
           "#00cc96",
           "#ab63fa",
           "#FFA15A",
           "#19d3f3",
           "#FF6692",
           "#B6E880",
           "#FF97FF",
           "#FECB52"
          ],
          "font": {
           "color": "#2a3f5f"
          },
          "geo": {
           "bgcolor": "white",
           "lakecolor": "white",
           "landcolor": "#E5ECF6",
           "showlakes": true,
           "showland": true,
           "subunitcolor": "white"
          },
          "hoverlabel": {
           "align": "left"
          },
          "hovermode": "closest",
          "mapbox": {
           "style": "light"
          },
          "paper_bgcolor": "white",
          "plot_bgcolor": "#E5ECF6",
          "polar": {
           "angularaxis": {
            "gridcolor": "white",
            "linecolor": "white",
            "ticks": ""
           },
           "bgcolor": "#E5ECF6",
           "radialaxis": {
            "gridcolor": "white",
            "linecolor": "white",
            "ticks": ""
           }
          },
          "scene": {
           "xaxis": {
            "backgroundcolor": "#E5ECF6",
            "gridcolor": "white",
            "gridwidth": 2,
            "linecolor": "white",
            "showbackground": true,
            "ticks": "",
            "zerolinecolor": "white"
           },
           "yaxis": {
            "backgroundcolor": "#E5ECF6",
            "gridcolor": "white",
            "gridwidth": 2,
            "linecolor": "white",
            "showbackground": true,
            "ticks": "",
            "zerolinecolor": "white"
           },
           "zaxis": {
            "backgroundcolor": "#E5ECF6",
            "gridcolor": "white",
            "gridwidth": 2,
            "linecolor": "white",
            "showbackground": true,
            "ticks": "",
            "zerolinecolor": "white"
           }
          },
          "shapedefaults": {
           "line": {
            "color": "#2a3f5f"
           }
          },
          "ternary": {
           "aaxis": {
            "gridcolor": "white",
            "linecolor": "white",
            "ticks": ""
           },
           "baxis": {
            "gridcolor": "white",
            "linecolor": "white",
            "ticks": ""
           },
           "bgcolor": "#E5ECF6",
           "caxis": {
            "gridcolor": "white",
            "linecolor": "white",
            "ticks": ""
           }
          },
          "title": {
           "x": 0.05
          },
          "xaxis": {
           "automargin": true,
           "gridcolor": "white",
           "linecolor": "white",
           "ticks": "",
           "title": {
            "standoff": 15
           },
           "zerolinecolor": "white",
           "zerolinewidth": 2
          },
          "yaxis": {
           "automargin": true,
           "gridcolor": "white",
           "linecolor": "white",
           "ticks": "",
           "title": {
            "standoff": 15
           },
           "zerolinecolor": "white",
           "zerolinewidth": 2
          }
         }
        },
        "title": {
         "text": "Cylinder Cross-Section Grid"
        },
        "xaxis": {
         "anchor": "y",
         "domain": [
          0,
          0.2888888888888889
         ],
         "scaleanchor": "y",
         "scaleratio": 1,
         "title": {
          "text": "X (µm)"
         }
        },
        "xaxis2": {
         "anchor": "y2",
         "domain": [
          0.35555555555555557,
          0.6444444444444445
         ],
         "scaleanchor": "y",
         "scaleratio": 1,
         "title": {
          "text": "X (µm)"
         }
        },
        "xaxis3": {
         "anchor": "y3",
         "domain": [
          0.7111111111111111,
          1
         ],
         "scaleanchor": "y",
         "scaleratio": 1,
         "title": {
          "text": "X (µm)"
         }
        },
        "xaxis4": {
         "anchor": "y4",
         "domain": [
          0,
          0.2888888888888889
         ],
         "scaleanchor": "y",
         "scaleratio": 1,
         "title": {
          "text": "X (µm)"
         }
        },
        "xaxis5": {
         "anchor": "y5",
         "domain": [
          0.35555555555555557,
          0.6444444444444445
         ],
         "scaleanchor": "y",
         "scaleratio": 1,
         "title": {
          "text": "X (µm)"
         }
        },
        "xaxis6": {
         "anchor": "y6",
         "domain": [
          0.7111111111111111,
          1
         ],
         "scaleanchor": "y",
         "scaleratio": 1,
         "title": {
          "text": "X (µm)"
         }
        },
        "xaxis7": {
         "anchor": "y7",
         "domain": [
          0,
          0.2888888888888889
         ],
         "scaleanchor": "y",
         "scaleratio": 1,
         "title": {
          "text": "X (µm)"
         }
        },
        "xaxis8": {
         "anchor": "y8",
         "domain": [
          0.35555555555555557,
          0.6444444444444445
         ],
         "scaleanchor": "y",
         "scaleratio": 1,
         "title": {
          "text": "X (µm)"
         }
        },
        "xaxis9": {
         "anchor": "y9",
         "domain": [
          0.7111111111111111,
          1
         ],
         "scaleanchor": "y",
         "scaleratio": 1,
         "title": {
          "text": "X (µm)"
         }
        },
        "yaxis": {
         "anchor": "x",
         "domain": [
          0.7777777777777778,
          1
         ],
         "title": {
          "text": "Y (µm)"
         }
        },
        "yaxis2": {
         "anchor": "x2",
         "domain": [
          0.7777777777777778,
          1
         ],
         "title": {
          "text": "Y (µm)"
         }
        },
        "yaxis3": {
         "anchor": "x3",
         "domain": [
          0.7777777777777778,
          1
         ],
         "title": {
          "text": "Y (µm)"
         }
        },
        "yaxis4": {
         "anchor": "x4",
         "domain": [
          0.3888888888888889,
          0.6111111111111112
         ],
         "title": {
          "text": "Y (µm)"
         }
        },
        "yaxis5": {
         "anchor": "x5",
         "domain": [
          0.3888888888888889,
          0.6111111111111112
         ],
         "title": {
          "text": "Y (µm)"
         }
        },
        "yaxis6": {
         "anchor": "x6",
         "domain": [
          0.3888888888888889,
          0.6111111111111112
         ],
         "title": {
          "text": "Y (µm)"
         }
        },
        "yaxis7": {
         "anchor": "x7",
         "domain": [
          0,
          0.22222222222222224
         ],
         "title": {
          "text": "Y (µm)"
         }
        },
        "yaxis8": {
         "anchor": "x8",
         "domain": [
          0,
          0.22222222222222224
         ],
         "title": {
          "text": "Y (µm)"
         }
        },
        "yaxis9": {
         "anchor": "x9",
         "domain": [
          0,
          0.22222222222222224
         ],
         "title": {
          "text": "Y (µm)"
         }
        }
       }
      }
     },
     "metadata": {},
     "output_type": "display_data"
    }
   ],
   "source": [
    "cylinder.visualize_mesh_slice_grid(\n",
    "    title=\"Cylinder Cross-Section Grid\",\n",
    "    num_slices=9  # 3x3 grid\n",
    ")\n"
   ]
  },
  {
   "cell_type": "markdown",
   "id": "9c5b15da",
   "metadata": {},
   "source": [
    "## Mesh Properties"
   ]
  },
  {
   "cell_type": "code",
   "execution_count": 6,
   "id": "f61d4e8e",
   "metadata": {},
   "outputs": [
    {
     "name": "stdout",
     "output_type": "stream",
     "text": [
      "Mesh Analysis Report\n",
      "====================\n",
      "\n",
      "Geometry:\n",
      "  * Vertices: 34\n",
      "  * Faces: 64\n",
      "  * Components: 1\n",
      "  * Volume: 7653.67\n",
      "  * Bounds: [-5.0, -5.0, -50.0] to [5.0, 5.0, 50.0]\n",
      "\n",
      "Mesh Quality:\n",
      "  * Watertight: True\n",
      "  * Winding Consistent: True\n",
      "  * Normal Direction: outward\n",
      "  * Duplicate Vertices: 0\n",
      "  * Degenerate Faces: 0\n",
      "\n",
      "Topology:\n",
      "  * Genus: 0\n",
      "  * Euler Characteristic: 2\n",
      "\n",
      "No issues detected\n",
      "\n",
      "Recommendation:\n",
      "  Mesh appears to be in good condition.\n",
      "====================\n"
     ]
    }
   ],
   "source": [
    "cylinder.print_mesh_analysis()"
   ]
  },
  {
   "cell_type": "markdown",
   "id": "dbb4f8c7",
   "metadata": {},
   "source": [
    "## Save Mesh"
   ]
  },
  {
   "cell_type": "code",
   "execution_count": 7,
   "id": "e4204e87",
   "metadata": {},
   "outputs": [
    {
     "name": "stdout",
     "output_type": "stream",
     "text": [
      "💾 Saved cylinder mesh to: data/mesh/cylinder_demo.stl\n"
     ]
    }
   ],
   "source": [
    "# Save the cylinder mesh\n",
    "import os\n",
    "\n",
    "output_dir = \"data/mesh\"\n",
    "os.makedirs(output_dir, exist_ok=True)\n",
    "\n",
    "filename = f\"{output_dir}/cylinder_demo.stl\"\n",
    "cylinder.mesh.export(filename)\n",
    "print(f\"💾 Saved cylinder mesh to: {filename}\")"
   ]
  },
  {
   "cell_type": "markdown",
   "id": "1954aed7",
   "metadata": {},
   "source": [
    "## Summary\n",
    "\n",
    "This tutorial demonstrated:\n",
    "- `create_cylinder_mesh()` - Create cylinder geometry\n",
    "- `visualize_mesh_3d()` - 3D visualization\n",
    "- `visualize_mesh_slice_interactive()` - Interactive cross-sections\n",
    "- `visualize_mesh_slice_grid()` - Grid of slices\n",
    "- `analyze_mesh()` - Mesh analysis including topological genus\n",
    "- `mesh.export()` - Save to file\n",
    "\n",
    "## Next Steps\n",
    "\n",
    "- **Torus Demo** (01b_torus_mesh.ipynb)\n",
    "- **Neuron Demo** (01c_neuron_mesh.ipynb)"
   ]
  }
 ],
 "metadata": {
  "kernelspec": {
   "display_name": ".venv",
   "language": "python",
   "name": "python3"
  },
  "language_info": {
   "codemirror_mode": {
    "name": "ipython",
    "version": 3
   },
   "file_extension": ".py",
   "mimetype": "text/x-python",
   "name": "python",
   "nbconvert_exporter": "python",
   "pygments_lexer": "ipython3",
   "version": "3.12.11"
  }
 },
 "nbformat": 4,
 "nbformat_minor": 5
}
