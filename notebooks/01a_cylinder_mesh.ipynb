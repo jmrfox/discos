{
 "cells": [
  {
   "cell_type": "markdown",
   "id": "28f52917",
   "metadata": {},
   "source": [
    "# 01a - Cylinder Mesh Demo\n",
    "\n",
    "Create and visualize cylindrical mesh geometries using DISCOS.\n"
   ]
  },
  {
   "cell_type": "markdown",
   "id": "7039df37",
   "metadata": {},
   "source": [
    "## Setup"
   ]
  },
  {
   "cell_type": "code",
   "execution_count": 8,
   "id": "fa6f7213",
   "metadata": {},
   "outputs": [
    {
     "name": "stdout",
     "output_type": "stream",
     "text": [
      "✅ Libraries imported successfully!\n"
     ]
    }
   ],
   "source": [
    "# Import DISCOS functions\n",
    "from discos.demo import create_cylinder_mesh\n",
    "from discos.mesh import MeshManager\n",
    "\n",
    "print(\"✅ Libraries imported successfully!\")"
   ]
  },
  {
   "cell_type": "markdown",
   "id": "acc3f452",
   "metadata": {},
   "source": [
    "## Create Cylinder"
   ]
  },
  {
   "cell_type": "code",
   "execution_count": 9,
   "id": "4f0e4568",
   "metadata": {},
   "outputs": [
    {
     "name": "stdout",
     "output_type": "stream",
     "text": [
      "Created cylinder with 42 vertices and 80 faces\n"
     ]
    }
   ],
   "source": [
    "# Create a cylinder mesh\n",
    "cylinder = create_cylinder_mesh(\n",
    "    length=4.0,\n",
    "    radius=1.0,\n",
    "    resolution=20,\n",
    "    axis='z'         # oriented along z-axis\n",
    ")\n",
    "\n",
    "print(f\"Created cylinder with {len(cylinder.vertices)} vertices and {len(cylinder.faces)} faces\")\n",
    "\n",
    "mm = MeshManager(cylinder)"
   ]
  },
  {
   "cell_type": "markdown",
   "id": "82e88070",
   "metadata": {},
   "source": [
    "## 3D Visualization"
   ]
  },
  {
   "cell_type": "code",
   "execution_count": 10,
   "id": "f38f8c5b",
   "metadata": {},
   "outputs": [
    {
     "data": {
      "application/vnd.plotly.v1+json": {
       "config": {
        "plotlyServerURL": "https://plot.ly"
       },
       "data": [
        {
         "color": "lightblue",
         "i": {
          "bdata": "AQECAgQEBQUGBgcHCAgJCQoKCwsMDA0NDg4PDxAQERESEhMTFBQVFRYWFxcYGBkZGhobGxwcHR0eHh8fICAhISIiIyMkJCUlJiYnJygoKSk=",
          "dtype": "i1"
         },
         "j": {
          "bdata": "AAQEBQAGBgcACAgJAAoKCwAMDA0ADg4PABAQEQASEhMAFBQVABYWFwAYGBkAGhobABwcHQAeHh8AICAhACIiIwAkJCUAJiYnACgoKQABAQI=",
          "dtype": "i1"
         },
         "k": {
          "bdata": "BAIFAwYFBwMIBwkDCgkLAwwLDQMODQ8DEA8RAxIREwMUExUDFhUXAxgXGQMaGRsDHBsdAx4dHwMgHyEDIiEjAyQjJQMmJScDKCcpAwEpAgM=",
          "dtype": "i1"
         },
         "name": "Mesh",
         "opacity": 0.8,
         "type": "mesh3d",
         "x": {
          "bdata": "AAAAAAAAAAAAAAAAAADwPwAAAAAAAPA/AAAAAAAAAAD/VEQTDm/uP/9URBMOb+4/qPSXm3fj6T+o9Jebd+PpP15adQQjz+I/Xlp1BCPP4j9Q6S8378bTP1DpLzfvxtM/B1wUMyamkTwHXBQzJqaRPE7pLzfvxtO/TukvN+/G079dWnUEI8/iv11adQQjz+K/p/SXm3fj6b+n9Jebd+Ppv/9URBMOb+6//1REEw5v7r8AAAAAAADwvwAAAAAAAPC/AFVEEw5v7r8AVUQTDm/uv6j0l5t34+m/qPSXm3fj6b9fWnUEI8/iv19adQQjz+K/UukvN+/G079S6S8378bTvwqKnkw5eaq8CoqeTDl5qrxM6S8378bTP0zpLzfvxtM/XFp1BCPP4j9cWnUEI8/iP6f0l5t34+k/p/SXm3fj6T//VEQTDm/uP/9URBMOb+4/",
          "dtype": "f8"
         },
         "y": {
          "bdata": "AAAAAAAAAAAAAAAAAAAAAAAAAAAAAAAAAAAAAAAAAABP6S8378bTP0/pLzfvxtM/Xlp1BCPP4j9eWnUEI8/iP6j0l5t34+k/qPSXm3fj6T//VEQTDm/uP/9URBMOb+4/AAAAAAAA8D8AAAAAAADwPwBVRBMOb+4/AFVEEw5v7j+o9Jebd+PpP6j0l5t34+k/X1p1BCPP4j9fWnUEI8/iP1HpLzfvxtM/UekvN+/G0z8HXBQzJqahPAdcFDMmpqE8TekvN+/G079N6S8378bTv11adQQjz+K/XVp1BCPP4r+n9Jebd+Ppv6f0l5t34+m//1REEw5v7r//VEQTDm/uvwAAAAAAAPC/AAAAAAAA8L8AVUQTDm/uvwBVRBMOb+6/qfSXm3fj6b+p9Jebd+Ppv2BadQQjz+K/YFp1BCPP4r9U6S8378bTv1TpLzfvxtO/",
          "dtype": "f8"
         },
         "z": {
          "bdata": "AAAAAAAAAMAAAAAAAAAAwAAAAAAAAABAAAAAAAAAAEAAAAAAAAAAwAAAAAAAAABAAAAAAAAAAMAAAAAAAAAAQAAAAAAAAADAAAAAAAAAAEAAAAAAAAAAwAAAAAAAAABAAAAAAAAAAMAAAAAAAAAAQAAAAAAAAADAAAAAAAAAAEAAAAAAAAAAwAAAAAAAAABAAAAAAAAAAMAAAAAAAAAAQAAAAAAAAADAAAAAAAAAAEAAAAAAAAAAwAAAAAAAAABAAAAAAAAAAMAAAAAAAAAAQAAAAAAAAADAAAAAAAAAAEAAAAAAAAAAwAAAAAAAAABAAAAAAAAAAMAAAAAAAAAAQAAAAAAAAADAAAAAAAAAAEAAAAAAAAAAwAAAAAAAAABAAAAAAAAAAMAAAAAAAAAAQAAAAAAAAADAAAAAAAAAAEAAAAAAAAAAwAAAAAAAAABA",
          "dtype": "f8"
         }
        }
       ],
       "layout": {
        "autosize": false,
        "height": 600,
        "scene": {
         "aspectmode": "data",
         "xaxis": {
          "visible": true
         },
         "yaxis": {
          "visible": true
         },
         "zaxis": {
          "visible": true
         }
        },
        "template": {
         "data": {
          "bar": [
           {
            "error_x": {
             "color": "#2a3f5f"
            },
            "error_y": {
             "color": "#2a3f5f"
            },
            "marker": {
             "line": {
              "color": "#E5ECF6",
              "width": 0.5
             },
             "pattern": {
              "fillmode": "overlay",
              "size": 10,
              "solidity": 0.2
             }
            },
            "type": "bar"
           }
          ],
          "barpolar": [
           {
            "marker": {
             "line": {
              "color": "#E5ECF6",
              "width": 0.5
             },
             "pattern": {
              "fillmode": "overlay",
              "size": 10,
              "solidity": 0.2
             }
            },
            "type": "barpolar"
           }
          ],
          "carpet": [
           {
            "aaxis": {
             "endlinecolor": "#2a3f5f",
             "gridcolor": "white",
             "linecolor": "white",
             "minorgridcolor": "white",
             "startlinecolor": "#2a3f5f"
            },
            "baxis": {
             "endlinecolor": "#2a3f5f",
             "gridcolor": "white",
             "linecolor": "white",
             "minorgridcolor": "white",
             "startlinecolor": "#2a3f5f"
            },
            "type": "carpet"
           }
          ],
          "choropleth": [
           {
            "colorbar": {
             "outlinewidth": 0,
             "ticks": ""
            },
            "type": "choropleth"
           }
          ],
          "contour": [
           {
            "colorbar": {
             "outlinewidth": 0,
             "ticks": ""
            },
            "colorscale": [
             [
              0,
              "#0d0887"
             ],
             [
              0.1111111111111111,
              "#46039f"
             ],
             [
              0.2222222222222222,
              "#7201a8"
             ],
             [
              0.3333333333333333,
              "#9c179e"
             ],
             [
              0.4444444444444444,
              "#bd3786"
             ],
             [
              0.5555555555555556,
              "#d8576b"
             ],
             [
              0.6666666666666666,
              "#ed7953"
             ],
             [
              0.7777777777777778,
              "#fb9f3a"
             ],
             [
              0.8888888888888888,
              "#fdca26"
             ],
             [
              1,
              "#f0f921"
             ]
            ],
            "type": "contour"
           }
          ],
          "contourcarpet": [
           {
            "colorbar": {
             "outlinewidth": 0,
             "ticks": ""
            },
            "type": "contourcarpet"
           }
          ],
          "heatmap": [
           {
            "colorbar": {
             "outlinewidth": 0,
             "ticks": ""
            },
            "colorscale": [
             [
              0,
              "#0d0887"
             ],
             [
              0.1111111111111111,
              "#46039f"
             ],
             [
              0.2222222222222222,
              "#7201a8"
             ],
             [
              0.3333333333333333,
              "#9c179e"
             ],
             [
              0.4444444444444444,
              "#bd3786"
             ],
             [
              0.5555555555555556,
              "#d8576b"
             ],
             [
              0.6666666666666666,
              "#ed7953"
             ],
             [
              0.7777777777777778,
              "#fb9f3a"
             ],
             [
              0.8888888888888888,
              "#fdca26"
             ],
             [
              1,
              "#f0f921"
             ]
            ],
            "type": "heatmap"
           }
          ],
          "histogram": [
           {
            "marker": {
             "pattern": {
              "fillmode": "overlay",
              "size": 10,
              "solidity": 0.2
             }
            },
            "type": "histogram"
           }
          ],
          "histogram2d": [
           {
            "colorbar": {
             "outlinewidth": 0,
             "ticks": ""
            },
            "colorscale": [
             [
              0,
              "#0d0887"
             ],
             [
              0.1111111111111111,
              "#46039f"
             ],
             [
              0.2222222222222222,
              "#7201a8"
             ],
             [
              0.3333333333333333,
              "#9c179e"
             ],
             [
              0.4444444444444444,
              "#bd3786"
             ],
             [
              0.5555555555555556,
              "#d8576b"
             ],
             [
              0.6666666666666666,
              "#ed7953"
             ],
             [
              0.7777777777777778,
              "#fb9f3a"
             ],
             [
              0.8888888888888888,
              "#fdca26"
             ],
             [
              1,
              "#f0f921"
             ]
            ],
            "type": "histogram2d"
           }
          ],
          "histogram2dcontour": [
           {
            "colorbar": {
             "outlinewidth": 0,
             "ticks": ""
            },
            "colorscale": [
             [
              0,
              "#0d0887"
             ],
             [
              0.1111111111111111,
              "#46039f"
             ],
             [
              0.2222222222222222,
              "#7201a8"
             ],
             [
              0.3333333333333333,
              "#9c179e"
             ],
             [
              0.4444444444444444,
              "#bd3786"
             ],
             [
              0.5555555555555556,
              "#d8576b"
             ],
             [
              0.6666666666666666,
              "#ed7953"
             ],
             [
              0.7777777777777778,
              "#fb9f3a"
             ],
             [
              0.8888888888888888,
              "#fdca26"
             ],
             [
              1,
              "#f0f921"
             ]
            ],
            "type": "histogram2dcontour"
           }
          ],
          "mesh3d": [
           {
            "colorbar": {
             "outlinewidth": 0,
             "ticks": ""
            },
            "type": "mesh3d"
           }
          ],
          "parcoords": [
           {
            "line": {
             "colorbar": {
              "outlinewidth": 0,
              "ticks": ""
             }
            },
            "type": "parcoords"
           }
          ],
          "pie": [
           {
            "automargin": true,
            "type": "pie"
           }
          ],
          "scatter": [
           {
            "fillpattern": {
             "fillmode": "overlay",
             "size": 10,
             "solidity": 0.2
            },
            "type": "scatter"
           }
          ],
          "scatter3d": [
           {
            "line": {
             "colorbar": {
              "outlinewidth": 0,
              "ticks": ""
             }
            },
            "marker": {
             "colorbar": {
              "outlinewidth": 0,
              "ticks": ""
             }
            },
            "type": "scatter3d"
           }
          ],
          "scattercarpet": [
           {
            "marker": {
             "colorbar": {
              "outlinewidth": 0,
              "ticks": ""
             }
            },
            "type": "scattercarpet"
           }
          ],
          "scattergeo": [
           {
            "marker": {
             "colorbar": {
              "outlinewidth": 0,
              "ticks": ""
             }
            },
            "type": "scattergeo"
           }
          ],
          "scattergl": [
           {
            "marker": {
             "colorbar": {
              "outlinewidth": 0,
              "ticks": ""
             }
            },
            "type": "scattergl"
           }
          ],
          "scattermap": [
           {
            "marker": {
             "colorbar": {
              "outlinewidth": 0,
              "ticks": ""
             }
            },
            "type": "scattermap"
           }
          ],
          "scattermapbox": [
           {
            "marker": {
             "colorbar": {
              "outlinewidth": 0,
              "ticks": ""
             }
            },
            "type": "scattermapbox"
           }
          ],
          "scatterpolar": [
           {
            "marker": {
             "colorbar": {
              "outlinewidth": 0,
              "ticks": ""
             }
            },
            "type": "scatterpolar"
           }
          ],
          "scatterpolargl": [
           {
            "marker": {
             "colorbar": {
              "outlinewidth": 0,
              "ticks": ""
             }
            },
            "type": "scatterpolargl"
           }
          ],
          "scatterternary": [
           {
            "marker": {
             "colorbar": {
              "outlinewidth": 0,
              "ticks": ""
             }
            },
            "type": "scatterternary"
           }
          ],
          "surface": [
           {
            "colorbar": {
             "outlinewidth": 0,
             "ticks": ""
            },
            "colorscale": [
             [
              0,
              "#0d0887"
             ],
             [
              0.1111111111111111,
              "#46039f"
             ],
             [
              0.2222222222222222,
              "#7201a8"
             ],
             [
              0.3333333333333333,
              "#9c179e"
             ],
             [
              0.4444444444444444,
              "#bd3786"
             ],
             [
              0.5555555555555556,
              "#d8576b"
             ],
             [
              0.6666666666666666,
              "#ed7953"
             ],
             [
              0.7777777777777778,
              "#fb9f3a"
             ],
             [
              0.8888888888888888,
              "#fdca26"
             ],
             [
              1,
              "#f0f921"
             ]
            ],
            "type": "surface"
           }
          ],
          "table": [
           {
            "cells": {
             "fill": {
              "color": "#EBF0F8"
             },
             "line": {
              "color": "white"
             }
            },
            "header": {
             "fill": {
              "color": "#C8D4E3"
             },
             "line": {
              "color": "white"
             }
            },
            "type": "table"
           }
          ]
         },
         "layout": {
          "annotationdefaults": {
           "arrowcolor": "#2a3f5f",
           "arrowhead": 0,
           "arrowwidth": 1
          },
          "autotypenumbers": "strict",
          "coloraxis": {
           "colorbar": {
            "outlinewidth": 0,
            "ticks": ""
           }
          },
          "colorscale": {
           "diverging": [
            [
             0,
             "#8e0152"
            ],
            [
             0.1,
             "#c51b7d"
            ],
            [
             0.2,
             "#de77ae"
            ],
            [
             0.3,
             "#f1b6da"
            ],
            [
             0.4,
             "#fde0ef"
            ],
            [
             0.5,
             "#f7f7f7"
            ],
            [
             0.6,
             "#e6f5d0"
            ],
            [
             0.7,
             "#b8e186"
            ],
            [
             0.8,
             "#7fbc41"
            ],
            [
             0.9,
             "#4d9221"
            ],
            [
             1,
             "#276419"
            ]
           ],
           "sequential": [
            [
             0,
             "#0d0887"
            ],
            [
             0.1111111111111111,
             "#46039f"
            ],
            [
             0.2222222222222222,
             "#7201a8"
            ],
            [
             0.3333333333333333,
             "#9c179e"
            ],
            [
             0.4444444444444444,
             "#bd3786"
            ],
            [
             0.5555555555555556,
             "#d8576b"
            ],
            [
             0.6666666666666666,
             "#ed7953"
            ],
            [
             0.7777777777777778,
             "#fb9f3a"
            ],
            [
             0.8888888888888888,
             "#fdca26"
            ],
            [
             1,
             "#f0f921"
            ]
           ],
           "sequentialminus": [
            [
             0,
             "#0d0887"
            ],
            [
             0.1111111111111111,
             "#46039f"
            ],
            [
             0.2222222222222222,
             "#7201a8"
            ],
            [
             0.3333333333333333,
             "#9c179e"
            ],
            [
             0.4444444444444444,
             "#bd3786"
            ],
            [
             0.5555555555555556,
             "#d8576b"
            ],
            [
             0.6666666666666666,
             "#ed7953"
            ],
            [
             0.7777777777777778,
             "#fb9f3a"
            ],
            [
             0.8888888888888888,
             "#fdca26"
            ],
            [
             1,
             "#f0f921"
            ]
           ]
          },
          "colorway": [
           "#636efa",
           "#EF553B",
           "#00cc96",
           "#ab63fa",
           "#FFA15A",
           "#19d3f3",
           "#FF6692",
           "#B6E880",
           "#FF97FF",
           "#FECB52"
          ],
          "font": {
           "color": "#2a3f5f"
          },
          "geo": {
           "bgcolor": "white",
           "lakecolor": "white",
           "landcolor": "#E5ECF6",
           "showlakes": true,
           "showland": true,
           "subunitcolor": "white"
          },
          "hoverlabel": {
           "align": "left"
          },
          "hovermode": "closest",
          "mapbox": {
           "style": "light"
          },
          "paper_bgcolor": "white",
          "plot_bgcolor": "#E5ECF6",
          "polar": {
           "angularaxis": {
            "gridcolor": "white",
            "linecolor": "white",
            "ticks": ""
           },
           "bgcolor": "#E5ECF6",
           "radialaxis": {
            "gridcolor": "white",
            "linecolor": "white",
            "ticks": ""
           }
          },
          "scene": {
           "xaxis": {
            "backgroundcolor": "#E5ECF6",
            "gridcolor": "white",
            "gridwidth": 2,
            "linecolor": "white",
            "showbackground": true,
            "ticks": "",
            "zerolinecolor": "white"
           },
           "yaxis": {
            "backgroundcolor": "#E5ECF6",
            "gridcolor": "white",
            "gridwidth": 2,
            "linecolor": "white",
            "showbackground": true,
            "ticks": "",
            "zerolinecolor": "white"
           },
           "zaxis": {
            "backgroundcolor": "#E5ECF6",
            "gridcolor": "white",
            "gridwidth": 2,
            "linecolor": "white",
            "showbackground": true,
            "ticks": "",
            "zerolinecolor": "white"
           }
          },
          "shapedefaults": {
           "line": {
            "color": "#2a3f5f"
           }
          },
          "ternary": {
           "aaxis": {
            "gridcolor": "white",
            "linecolor": "white",
            "ticks": ""
           },
           "baxis": {
            "gridcolor": "white",
            "linecolor": "white",
            "ticks": ""
           },
           "bgcolor": "#E5ECF6",
           "caxis": {
            "gridcolor": "white",
            "linecolor": "white",
            "ticks": ""
           }
          },
          "title": {
           "x": 0.05
          },
          "xaxis": {
           "automargin": true,
           "gridcolor": "white",
           "linecolor": "white",
           "ticks": "",
           "title": {
            "standoff": 15
           },
           "zerolinecolor": "white",
           "zerolinewidth": 2
          },
          "yaxis": {
           "automargin": true,
           "gridcolor": "white",
           "linecolor": "white",
           "ticks": "",
           "title": {
            "standoff": 15
           },
           "zerolinecolor": "white",
           "zerolinewidth": 2
          }
         }
        },
        "title": {
         "text": "Simple Cylinder Mesh"
        },
        "width": 800
       }
      }
     },
     "metadata": {},
     "output_type": "display_data"
    }
   ],
   "source": [
    "# Visualize the cylinder\n",
    "mm.visualize_mesh_3d(\n",
    "    title=\"Simple Cylinder Mesh\",\n",
    "    color=\"lightblue\"\n",
    ")"
   ]
  },
  {
   "cell_type": "markdown",
   "id": "308cf058",
   "metadata": {},
   "source": [
    "## Interactive Cross-Sections"
   ]
  },
  {
   "cell_type": "code",
   "execution_count": 11,
   "id": "8e6e0eab",
   "metadata": {},
   "outputs": [
    {
     "data": {
      "application/vnd.plotly.v1+json": {
       "config": {
        "plotlyServerURL": "https://plot.ly"
       },
       "data": [
        {
         "color": "lightblue",
         "i": {
          "bdata": "AQECAgQEBQUGBgcHCAgJCQoKCwsMDA0NDg4PDxAQERESEhMTFBQVFRYWFxcYGBkZGhobGxwcHR0eHh8fICAhISIiIyMkJCUlJiYnJygoKSk=",
          "dtype": "i1"
         },
         "j": {
          "bdata": "AAQEBQAGBgcACAgJAAoKCwAMDA0ADg4PABAQEQASEhMAFBQVABYWFwAYGBkAGhobABwcHQAeHh8AICAhACIiIwAkJCUAJiYnACgoKQABAQI=",
          "dtype": "i1"
         },
         "k": {
          "bdata": "BAIFAwYFBwMIBwkDCgkLAwwLDQMODQ8DEA8RAxIREwMUExUDFhUXAxgXGQMaGRsDHBsdAx4dHwMgHyEDIiEjAyQjJQMmJScDKCcpAwEpAgM=",
          "dtype": "i1"
         },
         "name": "Mesh",
         "opacity": 0.3,
         "type": "mesh3d",
         "x": {
          "bdata": "AAAAAAAAAAAAAAAAAADwPwAAAAAAAPA/AAAAAAAAAAD/VEQTDm/uP/9URBMOb+4/qPSXm3fj6T+o9Jebd+PpP15adQQjz+I/Xlp1BCPP4j9Q6S8378bTP1DpLzfvxtM/B1wUMyamkTwHXBQzJqaRPE7pLzfvxtO/TukvN+/G079dWnUEI8/iv11adQQjz+K/p/SXm3fj6b+n9Jebd+Ppv/9URBMOb+6//1REEw5v7r8AAAAAAADwvwAAAAAAAPC/AFVEEw5v7r8AVUQTDm/uv6j0l5t34+m/qPSXm3fj6b9fWnUEI8/iv19adQQjz+K/UukvN+/G079S6S8378bTvwqKnkw5eaq8CoqeTDl5qrxM6S8378bTP0zpLzfvxtM/XFp1BCPP4j9cWnUEI8/iP6f0l5t34+k/p/SXm3fj6T//VEQTDm/uP/9URBMOb+4/",
          "dtype": "f8"
         },
         "y": {
          "bdata": "AAAAAAAAAAAAAAAAAAAAAAAAAAAAAAAAAAAAAAAAAABP6S8378bTP0/pLzfvxtM/Xlp1BCPP4j9eWnUEI8/iP6j0l5t34+k/qPSXm3fj6T//VEQTDm/uP/9URBMOb+4/AAAAAAAA8D8AAAAAAADwPwBVRBMOb+4/AFVEEw5v7j+o9Jebd+PpP6j0l5t34+k/X1p1BCPP4j9fWnUEI8/iP1HpLzfvxtM/UekvN+/G0z8HXBQzJqahPAdcFDMmpqE8TekvN+/G079N6S8378bTv11adQQjz+K/XVp1BCPP4r+n9Jebd+Ppv6f0l5t34+m//1REEw5v7r//VEQTDm/uvwAAAAAAAPC/AAAAAAAA8L8AVUQTDm/uvwBVRBMOb+6/qfSXm3fj6b+p9Jebd+Ppv2BadQQjz+K/YFp1BCPP4r9U6S8378bTv1TpLzfvxtO/",
          "dtype": "f8"
         },
         "z": {
          "bdata": "AAAAAAAAAMAAAAAAAAAAwAAAAAAAAABAAAAAAAAAAEAAAAAAAAAAwAAAAAAAAABAAAAAAAAAAMAAAAAAAAAAQAAAAAAAAADAAAAAAAAAAEAAAAAAAAAAwAAAAAAAAABAAAAAAAAAAMAAAAAAAAAAQAAAAAAAAADAAAAAAAAAAEAAAAAAAAAAwAAAAAAAAABAAAAAAAAAAMAAAAAAAAAAQAAAAAAAAADAAAAAAAAAAEAAAAAAAAAAwAAAAAAAAABAAAAAAAAAAMAAAAAAAAAAQAAAAAAAAADAAAAAAAAAAEAAAAAAAAAAwAAAAAAAAABAAAAAAAAAAMAAAAAAAAAAQAAAAAAAAADAAAAAAAAAAEAAAAAAAAAAwAAAAAAAAABAAAAAAAAAAMAAAAAAAAAAQAAAAAAAAADAAAAAAAAAAEAAAAAAAAAAwAAAAAAAAABA",
          "dtype": "f8"
         }
        },
        {
         "line": {
          "color": "red",
          "width": 5
         },
         "mode": "lines",
         "name": "Slice at z=0.00",
         "type": "scatter3d",
         "x": [
          -1.8369701987210297e-16,
          -0.15450849718747386,
          -0.30901699437494756,
          -0.4484011233337104,
          -0.5877852522924732,
          -0.6984011233337104,
          -0.8090169943749475,
          -0.8800367553350505,
          -0.9510565162951536,
          -0.9755282581475768,
          -1,
          -0.9755282581475768,
          -0.9510565162951535,
          -0.8800367553350504,
          -0.8090169943749473,
          -0.6984011233337102,
          -0.587785252292473,
          -0.4484011233337102,
          -0.30901699437494734,
          -0.15450849718747364,
          6.123233995736766e-17,
          0.15450849718747375,
          0.30901699437494745,
          0.4484011233337103,
          0.5877852522924731,
          0.6984011233337103,
          0.8090169943749475,
          0.8800367553350505,
          0.9510565162951535,
          0.9755282581475768,
          1,
          0.9755282581475768,
          0.9510565162951535,
          0.8800367553350504,
          0.8090169943749473,
          0.6984011233337102,
          0.5877852522924729,
          0.44840112333371007,
          0.30901699437494723,
          0.1545084971874735,
          -1.8369701987210297e-16,
          null
         ],
         "y": [
          -1,
          -0.9755282581475768,
          -0.9510565162951535,
          -0.8800367553350504,
          -0.8090169943749473,
          -0.6984011233337102,
          -0.587785252292473,
          -0.4484011233337102,
          -0.3090169943749473,
          -0.1545084971874736,
          1.2246467991473532e-16,
          0.1545084971874738,
          0.3090169943749475,
          0.4484011233337104,
          0.5877852522924732,
          0.6984011233337104,
          0.8090169943749475,
          0.8800367553350505,
          0.9510565162951536,
          0.9755282581475768,
          1,
          0.9755282581475768,
          0.9510565162951535,
          0.8800367553350505,
          0.8090169943749475,
          0.6984011233337103,
          0.5877852522924731,
          0.4484011233337103,
          0.3090169943749474,
          0.1545084971874737,
          0,
          -0.15450849718747384,
          -0.3090169943749477,
          -0.4484011233337105,
          -0.5877852522924734,
          -0.6984011233337104,
          -0.8090169943749476,
          -0.8800367553350505,
          -0.9510565162951536,
          -0.9755282581475768,
          -1,
          null
         ],
         "z": [
          0,
          0,
          0,
          0,
          0,
          0,
          0,
          0,
          0,
          0,
          0,
          0,
          0,
          0,
          0,
          0,
          0,
          0,
          0,
          0,
          0,
          0,
          0,
          0,
          0,
          0,
          0,
          0,
          0,
          0,
          0,
          0,
          0,
          0,
          0,
          0,
          0,
          0,
          0,
          0,
          0,
          null
         ]
        }
       ],
       "frames": [
        {
         "data": [
          {
           "color": "lightblue",
           "i": {
            "bdata": "AQECAgQEBQUGBgcHCAgJCQoKCwsMDA0NDg4PDxAQERESEhMTFBQVFRYWFxcYGBkZGhobGxwcHR0eHh8fICAhISIiIyMkJCUlJiYnJygoKSk=",
            "dtype": "i1"
           },
           "j": {
            "bdata": "AAQEBQAGBgcACAgJAAoKCwAMDA0ADg4PABAQEQASEhMAFBQVABYWFwAYGBkAGhobABwcHQAeHh8AICAhACIiIwAkJCUAJiYnACgoKQABAQI=",
            "dtype": "i1"
           },
           "k": {
            "bdata": "BAIFAwYFBwMIBwkDCgkLAwwLDQMODQ8DEA8RAxIREwMUExUDFhUXAxgXGQMaGRsDHBsdAx4dHwMgHyEDIiEjAyQjJQMmJScDKCcpAwEpAgM=",
            "dtype": "i1"
           },
           "name": "Mesh",
           "opacity": 0.3,
           "type": "mesh3d",
           "x": {
            "bdata": "AAAAAAAAAAAAAAAAAADwPwAAAAAAAPA/AAAAAAAAAAD/VEQTDm/uP/9URBMOb+4/qPSXm3fj6T+o9Jebd+PpP15adQQjz+I/Xlp1BCPP4j9Q6S8378bTP1DpLzfvxtM/B1wUMyamkTwHXBQzJqaRPE7pLzfvxtO/TukvN+/G079dWnUEI8/iv11adQQjz+K/p/SXm3fj6b+n9Jebd+Ppv/9URBMOb+6//1REEw5v7r8AAAAAAADwvwAAAAAAAPC/AFVEEw5v7r8AVUQTDm/uv6j0l5t34+m/qPSXm3fj6b9fWnUEI8/iv19adQQjz+K/UukvN+/G079S6S8378bTvwqKnkw5eaq8CoqeTDl5qrxM6S8378bTP0zpLzfvxtM/XFp1BCPP4j9cWnUEI8/iP6f0l5t34+k/p/SXm3fj6T//VEQTDm/uP/9URBMOb+4/",
            "dtype": "f8"
           },
           "y": {
            "bdata": "AAAAAAAAAAAAAAAAAAAAAAAAAAAAAAAAAAAAAAAAAABP6S8378bTP0/pLzfvxtM/Xlp1BCPP4j9eWnUEI8/iP6j0l5t34+k/qPSXm3fj6T//VEQTDm/uP/9URBMOb+4/AAAAAAAA8D8AAAAAAADwPwBVRBMOb+4/AFVEEw5v7j+o9Jebd+PpP6j0l5t34+k/X1p1BCPP4j9fWnUEI8/iP1HpLzfvxtM/UekvN+/G0z8HXBQzJqahPAdcFDMmpqE8TekvN+/G079N6S8378bTv11adQQjz+K/XVp1BCPP4r+n9Jebd+Ppv6f0l5t34+m//1REEw5v7r//VEQTDm/uvwAAAAAAAPC/AAAAAAAA8L8AVUQTDm/uvwBVRBMOb+6/qfSXm3fj6b+p9Jebd+Ppv2BadQQjz+K/YFp1BCPP4r9U6S8378bTv1TpLzfvxtO/",
            "dtype": "f8"
           },
           "z": {
            "bdata": "AAAAAAAAAMAAAAAAAAAAwAAAAAAAAABAAAAAAAAAAEAAAAAAAAAAwAAAAAAAAABAAAAAAAAAAMAAAAAAAAAAQAAAAAAAAADAAAAAAAAAAEAAAAAAAAAAwAAAAAAAAABAAAAAAAAAAMAAAAAAAAAAQAAAAAAAAADAAAAAAAAAAEAAAAAAAAAAwAAAAAAAAABAAAAAAAAAAMAAAAAAAAAAQAAAAAAAAADAAAAAAAAAAEAAAAAAAAAAwAAAAAAAAABAAAAAAAAAAMAAAAAAAAAAQAAAAAAAAADAAAAAAAAAAEAAAAAAAAAAwAAAAAAAAABAAAAAAAAAAMAAAAAAAAAAQAAAAAAAAADAAAAAAAAAAEAAAAAAAAAAwAAAAAAAAABAAAAAAAAAAMAAAAAAAAAAQAAAAAAAAADAAAAAAAAAAEAAAAAAAAAAwAAAAAAAAABA",
            "dtype": "f8"
           }
          }
         ],
         "name": "frame_0",
         "traces": [
          0,
          1
         ]
        },
        {
         "data": [
          {
           "color": "lightblue",
           "i": {
            "bdata": "AQECAgQEBQUGBgcHCAgJCQoKCwsMDA0NDg4PDxAQERESEhMTFBQVFRYWFxcYGBkZGhobGxwcHR0eHh8fICAhISIiIyMkJCUlJiYnJygoKSk=",
            "dtype": "i1"
           },
           "j": {
            "bdata": "AAQEBQAGBgcACAgJAAoKCwAMDA0ADg4PABAQEQASEhMAFBQVABYWFwAYGBkAGhobABwcHQAeHh8AICAhACIiIwAkJCUAJiYnACgoKQABAQI=",
            "dtype": "i1"
           },
           "k": {
            "bdata": "BAIFAwYFBwMIBwkDCgkLAwwLDQMODQ8DEA8RAxIREwMUExUDFhUXAxgXGQMaGRsDHBsdAx4dHwMgHyEDIiEjAyQjJQMmJScDKCcpAwEpAgM=",
            "dtype": "i1"
           },
           "name": "Mesh",
           "opacity": 0.3,
           "type": "mesh3d",
           "x": {
            "bdata": "AAAAAAAAAAAAAAAAAADwPwAAAAAAAPA/AAAAAAAAAAD/VEQTDm/uP/9URBMOb+4/qPSXm3fj6T+o9Jebd+PpP15adQQjz+I/Xlp1BCPP4j9Q6S8378bTP1DpLzfvxtM/B1wUMyamkTwHXBQzJqaRPE7pLzfvxtO/TukvN+/G079dWnUEI8/iv11adQQjz+K/p/SXm3fj6b+n9Jebd+Ppv/9URBMOb+6//1REEw5v7r8AAAAAAADwvwAAAAAAAPC/AFVEEw5v7r8AVUQTDm/uv6j0l5t34+m/qPSXm3fj6b9fWnUEI8/iv19adQQjz+K/UukvN+/G079S6S8378bTvwqKnkw5eaq8CoqeTDl5qrxM6S8378bTP0zpLzfvxtM/XFp1BCPP4j9cWnUEI8/iP6f0l5t34+k/p/SXm3fj6T//VEQTDm/uP/9URBMOb+4/",
            "dtype": "f8"
           },
           "y": {
            "bdata": "AAAAAAAAAAAAAAAAAAAAAAAAAAAAAAAAAAAAAAAAAABP6S8378bTP0/pLzfvxtM/Xlp1BCPP4j9eWnUEI8/iP6j0l5t34+k/qPSXm3fj6T//VEQTDm/uP/9URBMOb+4/AAAAAAAA8D8AAAAAAADwPwBVRBMOb+4/AFVEEw5v7j+o9Jebd+PpP6j0l5t34+k/X1p1BCPP4j9fWnUEI8/iP1HpLzfvxtM/UekvN+/G0z8HXBQzJqahPAdcFDMmpqE8TekvN+/G079N6S8378bTv11adQQjz+K/XVp1BCPP4r+n9Jebd+Ppv6f0l5t34+m//1REEw5v7r//VEQTDm/uvwAAAAAAAPC/AAAAAAAA8L8AVUQTDm/uvwBVRBMOb+6/qfSXm3fj6b+p9Jebd+Ppv2BadQQjz+K/YFp1BCPP4r9U6S8378bTv1TpLzfvxtO/",
            "dtype": "f8"
           },
           "z": {
            "bdata": "AAAAAAAAAMAAAAAAAAAAwAAAAAAAAABAAAAAAAAAAEAAAAAAAAAAwAAAAAAAAABAAAAAAAAAAMAAAAAAAAAAQAAAAAAAAADAAAAAAAAAAEAAAAAAAAAAwAAAAAAAAABAAAAAAAAAAMAAAAAAAAAAQAAAAAAAAADAAAAAAAAAAEAAAAAAAAAAwAAAAAAAAABAAAAAAAAAAMAAAAAAAAAAQAAAAAAAAADAAAAAAAAAAEAAAAAAAAAAwAAAAAAAAABAAAAAAAAAAMAAAAAAAAAAQAAAAAAAAADAAAAAAAAAAEAAAAAAAAAAwAAAAAAAAABAAAAAAAAAAMAAAAAAAAAAQAAAAAAAAADAAAAAAAAAAEAAAAAAAAAAwAAAAAAAAABAAAAAAAAAAMAAAAAAAAAAQAAAAAAAAADAAAAAAAAAAEAAAAAAAAAAwAAAAAAAAABA",
            "dtype": "f8"
           }
          }
         ],
         "name": "frame_1",
         "traces": [
          0,
          1
         ]
        },
        {
         "data": [
          {
           "color": "lightblue",
           "i": {
            "bdata": "AQECAgQEBQUGBgcHCAgJCQoKCwsMDA0NDg4PDxAQERESEhMTFBQVFRYWFxcYGBkZGhobGxwcHR0eHh8fICAhISIiIyMkJCUlJiYnJygoKSk=",
            "dtype": "i1"
           },
           "j": {
            "bdata": "AAQEBQAGBgcACAgJAAoKCwAMDA0ADg4PABAQEQASEhMAFBQVABYWFwAYGBkAGhobABwcHQAeHh8AICAhACIiIwAkJCUAJiYnACgoKQABAQI=",
            "dtype": "i1"
           },
           "k": {
            "bdata": "BAIFAwYFBwMIBwkDCgkLAwwLDQMODQ8DEA8RAxIREwMUExUDFhUXAxgXGQMaGRsDHBsdAx4dHwMgHyEDIiEjAyQjJQMmJScDKCcpAwEpAgM=",
            "dtype": "i1"
           },
           "name": "Mesh",
           "opacity": 0.3,
           "type": "mesh3d",
           "x": {
            "bdata": "AAAAAAAAAAAAAAAAAADwPwAAAAAAAPA/AAAAAAAAAAD/VEQTDm/uP/9URBMOb+4/qPSXm3fj6T+o9Jebd+PpP15adQQjz+I/Xlp1BCPP4j9Q6S8378bTP1DpLzfvxtM/B1wUMyamkTwHXBQzJqaRPE7pLzfvxtO/TukvN+/G079dWnUEI8/iv11adQQjz+K/p/SXm3fj6b+n9Jebd+Ppv/9URBMOb+6//1REEw5v7r8AAAAAAADwvwAAAAAAAPC/AFVEEw5v7r8AVUQTDm/uv6j0l5t34+m/qPSXm3fj6b9fWnUEI8/iv19adQQjz+K/UukvN+/G079S6S8378bTvwqKnkw5eaq8CoqeTDl5qrxM6S8378bTP0zpLzfvxtM/XFp1BCPP4j9cWnUEI8/iP6f0l5t34+k/p/SXm3fj6T//VEQTDm/uP/9URBMOb+4/",
            "dtype": "f8"
           },
           "y": {
            "bdata": "AAAAAAAAAAAAAAAAAAAAAAAAAAAAAAAAAAAAAAAAAABP6S8378bTP0/pLzfvxtM/Xlp1BCPP4j9eWnUEI8/iP6j0l5t34+k/qPSXm3fj6T//VEQTDm/uP/9URBMOb+4/AAAAAAAA8D8AAAAAAADwPwBVRBMOb+4/AFVEEw5v7j+o9Jebd+PpP6j0l5t34+k/X1p1BCPP4j9fWnUEI8/iP1HpLzfvxtM/UekvN+/G0z8HXBQzJqahPAdcFDMmpqE8TekvN+/G079N6S8378bTv11adQQjz+K/XVp1BCPP4r+n9Jebd+Ppv6f0l5t34+m//1REEw5v7r//VEQTDm/uvwAAAAAAAPC/AAAAAAAA8L8AVUQTDm/uvwBVRBMOb+6/qfSXm3fj6b+p9Jebd+Ppv2BadQQjz+K/YFp1BCPP4r9U6S8378bTv1TpLzfvxtO/",
            "dtype": "f8"
           },
           "z": {
            "bdata": "AAAAAAAAAMAAAAAAAAAAwAAAAAAAAABAAAAAAAAAAEAAAAAAAAAAwAAAAAAAAABAAAAAAAAAAMAAAAAAAAAAQAAAAAAAAADAAAAAAAAAAEAAAAAAAAAAwAAAAAAAAABAAAAAAAAAAMAAAAAAAAAAQAAAAAAAAADAAAAAAAAAAEAAAAAAAAAAwAAAAAAAAABAAAAAAAAAAMAAAAAAAAAAQAAAAAAAAADAAAAAAAAAAEAAAAAAAAAAwAAAAAAAAABAAAAAAAAAAMAAAAAAAAAAQAAAAAAAAADAAAAAAAAAAEAAAAAAAAAAwAAAAAAAAABAAAAAAAAAAMAAAAAAAAAAQAAAAAAAAADAAAAAAAAAAEAAAAAAAAAAwAAAAAAAAABAAAAAAAAAAMAAAAAAAAAAQAAAAAAAAADAAAAAAAAAAEAAAAAAAAAAwAAAAAAAAABA",
            "dtype": "f8"
           }
          }
         ],
         "name": "frame_2",
         "traces": [
          0,
          1
         ]
        },
        {
         "data": [
          {
           "color": "lightblue",
           "i": {
            "bdata": "AQECAgQEBQUGBgcHCAgJCQoKCwsMDA0NDg4PDxAQERESEhMTFBQVFRYWFxcYGBkZGhobGxwcHR0eHh8fICAhISIiIyMkJCUlJiYnJygoKSk=",
            "dtype": "i1"
           },
           "j": {
            "bdata": "AAQEBQAGBgcACAgJAAoKCwAMDA0ADg4PABAQEQASEhMAFBQVABYWFwAYGBkAGhobABwcHQAeHh8AICAhACIiIwAkJCUAJiYnACgoKQABAQI=",
            "dtype": "i1"
           },
           "k": {
            "bdata": "BAIFAwYFBwMIBwkDCgkLAwwLDQMODQ8DEA8RAxIREwMUExUDFhUXAxgXGQMaGRsDHBsdAx4dHwMgHyEDIiEjAyQjJQMmJScDKCcpAwEpAgM=",
            "dtype": "i1"
           },
           "name": "Mesh",
           "opacity": 0.3,
           "type": "mesh3d",
           "x": {
            "bdata": "AAAAAAAAAAAAAAAAAADwPwAAAAAAAPA/AAAAAAAAAAD/VEQTDm/uP/9URBMOb+4/qPSXm3fj6T+o9Jebd+PpP15adQQjz+I/Xlp1BCPP4j9Q6S8378bTP1DpLzfvxtM/B1wUMyamkTwHXBQzJqaRPE7pLzfvxtO/TukvN+/G079dWnUEI8/iv11adQQjz+K/p/SXm3fj6b+n9Jebd+Ppv/9URBMOb+6//1REEw5v7r8AAAAAAADwvwAAAAAAAPC/AFVEEw5v7r8AVUQTDm/uv6j0l5t34+m/qPSXm3fj6b9fWnUEI8/iv19adQQjz+K/UukvN+/G079S6S8378bTvwqKnkw5eaq8CoqeTDl5qrxM6S8378bTP0zpLzfvxtM/XFp1BCPP4j9cWnUEI8/iP6f0l5t34+k/p/SXm3fj6T//VEQTDm/uP/9URBMOb+4/",
            "dtype": "f8"
           },
           "y": {
            "bdata": "AAAAAAAAAAAAAAAAAAAAAAAAAAAAAAAAAAAAAAAAAABP6S8378bTP0/pLzfvxtM/Xlp1BCPP4j9eWnUEI8/iP6j0l5t34+k/qPSXm3fj6T//VEQTDm/uP/9URBMOb+4/AAAAAAAA8D8AAAAAAADwPwBVRBMOb+4/AFVEEw5v7j+o9Jebd+PpP6j0l5t34+k/X1p1BCPP4j9fWnUEI8/iP1HpLzfvxtM/UekvN+/G0z8HXBQzJqahPAdcFDMmpqE8TekvN+/G079N6S8378bTv11adQQjz+K/XVp1BCPP4r+n9Jebd+Ppv6f0l5t34+m//1REEw5v7r//VEQTDm/uvwAAAAAAAPC/AAAAAAAA8L8AVUQTDm/uvwBVRBMOb+6/qfSXm3fj6b+p9Jebd+Ppv2BadQQjz+K/YFp1BCPP4r9U6S8378bTv1TpLzfvxtO/",
            "dtype": "f8"
           },
           "z": {
            "bdata": "AAAAAAAAAMAAAAAAAAAAwAAAAAAAAABAAAAAAAAAAEAAAAAAAAAAwAAAAAAAAABAAAAAAAAAAMAAAAAAAAAAQAAAAAAAAADAAAAAAAAAAEAAAAAAAAAAwAAAAAAAAABAAAAAAAAAAMAAAAAAAAAAQAAAAAAAAADAAAAAAAAAAEAAAAAAAAAAwAAAAAAAAABAAAAAAAAAAMAAAAAAAAAAQAAAAAAAAADAAAAAAAAAAEAAAAAAAAAAwAAAAAAAAABAAAAAAAAAAMAAAAAAAAAAQAAAAAAAAADAAAAAAAAAAEAAAAAAAAAAwAAAAAAAAABAAAAAAAAAAMAAAAAAAAAAQAAAAAAAAADAAAAAAAAAAEAAAAAAAAAAwAAAAAAAAABAAAAAAAAAAMAAAAAAAAAAQAAAAAAAAADAAAAAAAAAAEAAAAAAAAAAwAAAAAAAAABA",
            "dtype": "f8"
           }
          },
          {
           "line": {
            "color": "red",
            "width": 5
           },
           "mode": "lines",
           "name": "Slice at z=-1.93",
           "type": "scatter3d",
           "x": [
            -1.8369701987210297e-16,
            -0.005360498882014508,
            -0.30901699437494756,
            -0.3138527702775985,
            -0.5877852522924732,
            -0.5916229457775775,
            -0.8090169943749475,
            -0.8114809452654,
            -0.9510565162951536,
            -0.9519055359104418,
            -1,
            -0.9991509803847118,
            -0.9510565162951535,
            -0.9485925654047009,
            -0.8090169943749473,
            -0.8051793008898431,
            -0.587785252292473,
            -0.5829494763898221,
            -0.30901699437494734,
            -0.303656495492933,
            6.123233995736766e-17,
            0.005360498882014397,
            0.30901699437494745,
            0.3138527702775984,
            0.5877852522924731,
            0.5916229457775772,
            0.8090169943749475,
            0.8114809452654,
            0.9510565162951535,
            0.9519055359104417,
            1,
            0.9991509803847118,
            0.9510565162951535,
            0.9485925654047009,
            0.8090169943749473,
            0.8051793008898431,
            0.5877852522924729,
            0.582949476389822,
            0.30901699437494723,
            0.3036564954929329,
            -1.8369701987210297e-16,
            null
           ],
           "y": [
            -1,
            -0.9991509803847118,
            -0.9510565162951535,
            -0.9485925654047009,
            -0.8090169943749473,
            -0.8051793008898431,
            -0.587785252292473,
            -0.5829494763898221,
            -0.3090169943749473,
            -0.30365649549293294,
            1.2246467991473532e-16,
            0.005360498882014453,
            0.3090169943749475,
            0.31385277027759845,
            0.5877852522924732,
            0.5916229457775775,
            0.8090169943749475,
            0.8114809452654,
            0.9510565162951536,
            0.9519055359104418,
            1,
            0.9991509803847118,
            0.9510565162951535,
            0.9485925654047009,
            0.8090169943749475,
            0.8051793008898434,
            0.5877852522924731,
            0.5829494763898222,
            0.3090169943749474,
            0.30365649549293305,
            0,
            -0.005360498882014342,
            -0.3090169943749477,
            -0.3138527702775986,
            -0.5877852522924734,
            -0.5916229457775775,
            -0.8090169943749476,
            -0.8114809452654002,
            -0.9510565162951536,
            -0.9519055359104418,
            -1,
            null
           ],
           "z": [
            -1.9306122448979592,
            -1.9306122448979592,
            -1.9306122448979592,
            -1.9306122448979592,
            -1.9306122448979592,
            -1.9306122448979592,
            -1.9306122448979592,
            -1.9306122448979592,
            -1.9306122448979592,
            -1.9306122448979592,
            -1.9306122448979592,
            -1.9306122448979592,
            -1.9306122448979592,
            -1.9306122448979592,
            -1.9306122448979592,
            -1.9306122448979592,
            -1.9306122448979592,
            -1.9306122448979592,
            -1.9306122448979592,
            -1.9306122448979592,
            -1.9306122448979592,
            -1.9306122448979592,
            -1.9306122448979592,
            -1.9306122448979592,
            -1.9306122448979592,
            -1.9306122448979592,
            -1.9306122448979592,
            -1.9306122448979592,
            -1.9306122448979592,
            -1.9306122448979592,
            -1.9306122448979592,
            -1.9306122448979592,
            -1.9306122448979592,
            -1.9306122448979592,
            -1.9306122448979592,
            -1.9306122448979592,
            -1.9306122448979592,
            -1.9306122448979592,
            -1.9306122448979592,
            -1.9306122448979592,
            -1.9306122448979592,
            null
           ]
          }
         ],
         "name": "frame_3",
         "traces": [
          0,
          1
         ]
        },
        {
         "data": [
          {
           "color": "lightblue",
           "i": {
            "bdata": "AQECAgQEBQUGBgcHCAgJCQoKCwsMDA0NDg4PDxAQERESEhMTFBQVFRYWFxcYGBkZGhobGxwcHR0eHh8fICAhISIiIyMkJCUlJiYnJygoKSk=",
            "dtype": "i1"
           },
           "j": {
            "bdata": "AAQEBQAGBgcACAgJAAoKCwAMDA0ADg4PABAQEQASEhMAFBQVABYWFwAYGBkAGhobABwcHQAeHh8AICAhACIiIwAkJCUAJiYnACgoKQABAQI=",
            "dtype": "i1"
           },
           "k": {
            "bdata": "BAIFAwYFBwMIBwkDCgkLAwwLDQMODQ8DEA8RAxIREwMUExUDFhUXAxgXGQMaGRsDHBsdAx4dHwMgHyEDIiEjAyQjJQMmJScDKCcpAwEpAgM=",
            "dtype": "i1"
           },
           "name": "Mesh",
           "opacity": 0.3,
           "type": "mesh3d",
           "x": {
            "bdata": "AAAAAAAAAAAAAAAAAADwPwAAAAAAAPA/AAAAAAAAAAD/VEQTDm/uP/9URBMOb+4/qPSXm3fj6T+o9Jebd+PpP15adQQjz+I/Xlp1BCPP4j9Q6S8378bTP1DpLzfvxtM/B1wUMyamkTwHXBQzJqaRPE7pLzfvxtO/TukvN+/G079dWnUEI8/iv11adQQjz+K/p/SXm3fj6b+n9Jebd+Ppv/9URBMOb+6//1REEw5v7r8AAAAAAADwvwAAAAAAAPC/AFVEEw5v7r8AVUQTDm/uv6j0l5t34+m/qPSXm3fj6b9fWnUEI8/iv19adQQjz+K/UukvN+/G079S6S8378bTvwqKnkw5eaq8CoqeTDl5qrxM6S8378bTP0zpLzfvxtM/XFp1BCPP4j9cWnUEI8/iP6f0l5t34+k/p/SXm3fj6T//VEQTDm/uP/9URBMOb+4/",
            "dtype": "f8"
           },
           "y": {
            "bdata": "AAAAAAAAAAAAAAAAAAAAAAAAAAAAAAAAAAAAAAAAAABP6S8378bTP0/pLzfvxtM/Xlp1BCPP4j9eWnUEI8/iP6j0l5t34+k/qPSXm3fj6T//VEQTDm/uP/9URBMOb+4/AAAAAAAA8D8AAAAAAADwPwBVRBMOb+4/AFVEEw5v7j+o9Jebd+PpP6j0l5t34+k/X1p1BCPP4j9fWnUEI8/iP1HpLzfvxtM/UekvN+/G0z8HXBQzJqahPAdcFDMmpqE8TekvN+/G079N6S8378bTv11adQQjz+K/XVp1BCPP4r+n9Jebd+Ppv6f0l5t34+m//1REEw5v7r//VEQTDm/uvwAAAAAAAPC/AAAAAAAA8L8AVUQTDm/uvwBVRBMOb+6/qfSXm3fj6b+p9Jebd+Ppv2BadQQjz+K/YFp1BCPP4r9U6S8378bTv1TpLzfvxtO/",
            "dtype": "f8"
           },
           "z": {
            "bdata": "AAAAAAAAAMAAAAAAAAAAwAAAAAAAAABAAAAAAAAAAEAAAAAAAAAAwAAAAAAAAABAAAAAAAAAAMAAAAAAAAAAQAAAAAAAAADAAAAAAAAAAEAAAAAAAAAAwAAAAAAAAABAAAAAAAAAAMAAAAAAAAAAQAAAAAAAAADAAAAAAAAAAEAAAAAAAAAAwAAAAAAAAABAAAAAAAAAAMAAAAAAAAAAQAAAAAAAAADAAAAAAAAAAEAAAAAAAAAAwAAAAAAAAABAAAAAAAAAAMAAAAAAAAAAQAAAAAAAAADAAAAAAAAAAEAAAAAAAAAAwAAAAAAAAABAAAAAAAAAAMAAAAAAAAAAQAAAAAAAAADAAAAAAAAAAEAAAAAAAAAAwAAAAAAAAABAAAAAAAAAAMAAAAAAAAAAQAAAAAAAAADAAAAAAAAAAEAAAAAAAAAAwAAAAAAAAABA",
            "dtype": "f8"
           }
          },
          {
           "line": {
            "color": "red",
            "width": 5
           },
           "mode": "lines",
           "name": "Slice at z=-1.84",
           "type": "scatter3d",
           "x": [
            -1.8369701987210297e-16,
            -0.012297615082268454,
            -0.30901699437494756,
            -0.32011083321044087,
            -0.5877852522924732,
            -0.5965893726406534,
            -0.8090169943749475,
            -0.8146695875942209,
            -0.9510565162951536,
            -0.9530042671772853,
            -1,
            -0.9980522491178684,
            -0.9510565162951535,
            -0.9454039230758801,
            -0.8090169943749473,
            -0.8002128740267672,
            -0.587785252292473,
            -0.5766914134569797,
            -0.30901699437494734,
            -0.29671937929267905,
            6.123233995736766e-17,
            0.012297615082268343,
            0.30901699437494745,
            0.32011083321044076,
            0.5877852522924731,
            0.5965893726406533,
            0.8090169943749475,
            0.8146695875942209,
            0.9510565162951535,
            0.9530042671772851,
            1,
            0.9980522491178684,
            0.9510565162951535,
            0.9454039230758801,
            0.8090169943749473,
            0.8002128740267672,
            0.5877852522924729,
            0.5766914134569796,
            0.30901699437494723,
            0.29671937929267894,
            -1.8369701987210297e-16,
            null
           ],
           "y": [
            -1,
            -0.9980522491178684,
            -0.9510565162951535,
            -0.9454039230758801,
            -0.8090169943749473,
            -0.8002128740267672,
            -0.587785252292473,
            -0.5766914134569796,
            -0.3090169943749473,
            -0.296719379292679,
            1.2246467991473532e-16,
            0.012297615082268398,
            0.3090169943749475,
            0.32011083321044087,
            0.5877852522924732,
            0.5965893726406534,
            0.8090169943749475,
            0.8146695875942209,
            0.9510565162951536,
            0.9530042671772853,
            1,
            0.9980522491178684,
            0.9510565162951535,
            0.9454039230758801,
            0.8090169943749475,
            0.8002128740267673,
            0.5877852522924731,
            0.5766914134569798,
            0.3090169943749474,
            0.2967193792926791,
            0,
            -0.012297615082268287,
            -0.3090169943749477,
            -0.320110833210441,
            -0.5877852522924734,
            -0.5965893726406535,
            -0.8090169943749476,
            -0.814669587594221,
            -0.9510565162951536,
            -0.9530042671772853,
            -1,
            null
           ],
           "z": [
            -1.8408163265306123,
            -1.8408163265306126,
            -1.8408163265306123,
            -1.8408163265306126,
            -1.8408163265306123,
            -1.8408163265306126,
            -1.8408163265306123,
            -1.8408163265306126,
            -1.8408163265306123,
            -1.8408163265306126,
            -1.8408163265306123,
            -1.8408163265306126,
            -1.8408163265306123,
            -1.8408163265306126,
            -1.8408163265306123,
            -1.8408163265306126,
            -1.8408163265306123,
            -1.8408163265306126,
            -1.8408163265306123,
            -1.8408163265306126,
            -1.8408163265306123,
            -1.8408163265306126,
            -1.8408163265306123,
            -1.8408163265306126,
            -1.8408163265306123,
            -1.8408163265306126,
            -1.8408163265306123,
            -1.8408163265306126,
            -1.8408163265306123,
            -1.8408163265306126,
            -1.8408163265306126,
            -1.8408163265306126,
            -1.8408163265306123,
            -1.8408163265306126,
            -1.8408163265306123,
            -1.8408163265306126,
            -1.8408163265306123,
            -1.8408163265306126,
            -1.8408163265306123,
            -1.8408163265306126,
            -1.8408163265306123,
            null
           ]
          }
         ],
         "name": "frame_4",
         "traces": [
          0,
          1
         ]
        },
        {
         "data": [
          {
           "color": "lightblue",
           "i": {
            "bdata": "AQECAgQEBQUGBgcHCAgJCQoKCwsMDA0NDg4PDxAQERESEhMTFBQVFRYWFxcYGBkZGhobGxwcHR0eHh8fICAhISIiIyMkJCUlJiYnJygoKSk=",
            "dtype": "i1"
           },
           "j": {
            "bdata": "AAQEBQAGBgcACAgJAAoKCwAMDA0ADg4PABAQEQASEhMAFBQVABYWFwAYGBkAGhobABwcHQAeHh8AICAhACIiIwAkJCUAJiYnACgoKQABAQI=",
            "dtype": "i1"
           },
           "k": {
            "bdata": "BAIFAwYFBwMIBwkDCgkLAwwLDQMODQ8DEA8RAxIREwMUExUDFhUXAxgXGQMaGRsDHBsdAx4dHwMgHyEDIiEjAyQjJQMmJScDKCcpAwEpAgM=",
            "dtype": "i1"
           },
           "name": "Mesh",
           "opacity": 0.3,
           "type": "mesh3d",
           "x": {
            "bdata": "AAAAAAAAAAAAAAAAAADwPwAAAAAAAPA/AAAAAAAAAAD/VEQTDm/uP/9URBMOb+4/qPSXm3fj6T+o9Jebd+PpP15adQQjz+I/Xlp1BCPP4j9Q6S8378bTP1DpLzfvxtM/B1wUMyamkTwHXBQzJqaRPE7pLzfvxtO/TukvN+/G079dWnUEI8/iv11adQQjz+K/p/SXm3fj6b+n9Jebd+Ppv/9URBMOb+6//1REEw5v7r8AAAAAAADwvwAAAAAAAPC/AFVEEw5v7r8AVUQTDm/uv6j0l5t34+m/qPSXm3fj6b9fWnUEI8/iv19adQQjz+K/UukvN+/G079S6S8378bTvwqKnkw5eaq8CoqeTDl5qrxM6S8378bTP0zpLzfvxtM/XFp1BCPP4j9cWnUEI8/iP6f0l5t34+k/p/SXm3fj6T//VEQTDm/uP/9URBMOb+4/",
            "dtype": "f8"
           },
           "y": {
            "bdata": "AAAAAAAAAAAAAAAAAAAAAAAAAAAAAAAAAAAAAAAAAABP6S8378bTP0/pLzfvxtM/Xlp1BCPP4j9eWnUEI8/iP6j0l5t34+k/qPSXm3fj6T//VEQTDm/uP/9URBMOb+4/AAAAAAAA8D8AAAAAAADwPwBVRBMOb+4/AFVEEw5v7j+o9Jebd+PpP6j0l5t34+k/X1p1BCPP4j9fWnUEI8/iP1HpLzfvxtM/UekvN+/G0z8HXBQzJqahPAdcFDMmpqE8TekvN+/G079N6S8378bTv11adQQjz+K/XVp1BCPP4r+n9Jebd+Ppv6f0l5t34+m//1REEw5v7r//VEQTDm/uvwAAAAAAAPC/AAAAAAAA8L8AVUQTDm/uvwBVRBMOb+6/qfSXm3fj6b+p9Jebd+Ppv2BadQQjz+K/YFp1BCPP4r9U6S8378bTv1TpLzfvxtO/",
            "dtype": "f8"
           },
           "z": {
            "bdata": "AAAAAAAAAMAAAAAAAAAAwAAAAAAAAABAAAAAAAAAAEAAAAAAAAAAwAAAAAAAAABAAAAAAAAAAMAAAAAAAAAAQAAAAAAAAADAAAAAAAAAAEAAAAAAAAAAwAAAAAAAAABAAAAAAAAAAMAAAAAAAAAAQAAAAAAAAADAAAAAAAAAAEAAAAAAAAAAwAAAAAAAAABAAAAAAAAAAMAAAAAAAAAAQAAAAAAAAADAAAAAAAAAAEAAAAAAAAAAwAAAAAAAAABAAAAAAAAAAMAAAAAAAAAAQAAAAAAAAADAAAAAAAAAAEAAAAAAAAAAwAAAAAAAAABAAAAAAAAAAMAAAAAAAAAAQAAAAAAAAADAAAAAAAAAAEAAAAAAAAAAwAAAAAAAAABAAAAAAAAAAMAAAAAAAAAAQAAAAAAAAADAAAAAAAAAAEAAAAAAAAAAwAAAAAAAAABA",
            "dtype": "f8"
           }
          },
          {
           "line": {
            "color": "red",
            "width": 5
           },
           "mode": "lines",
           "name": "Slice at z=-1.75",
           "type": "scatter3d",
           "x": [
            -1.8369701987210297e-16,
            -0.0192347312825224,
            -0.30901699437494756,
            -0.32636889614328335,
            -0.5877852522924732,
            -0.6015557995037293,
            -0.8090169943749475,
            -0.8178582299230419,
            -0.9510565162951536,
            -0.9541029984441288,
            -1,
            -0.9969535178510248,
            -0.9510565162951535,
            -0.9422152807470591,
            -0.8090169943749473,
            -0.7952464471636913,
            -0.587785252292473,
            -0.5704333505241372,
            -0.30901699437494734,
            -0.2897822630924251,
            6.123233995736766e-17,
            0.019234731282522288,
            0.30901699437494745,
            0.32636889614328324,
            0.5877852522924731,
            0.6015557995037292,
            0.8090169943749475,
            0.8178582299230419,
            0.9510565162951535,
            0.9541029984441287,
            1,
            0.9969535178510248,
            0.9510565162951535,
            0.9422152807470591,
            0.8090169943749473,
            0.7952464471636913,
            0.5877852522924729,
            0.5704333505241371,
            0.30901699437494723,
            0.289782263092425,
            -1.8369701987210297e-16,
            null
           ],
           "y": [
            -1,
            -0.9969535178510248,
            -0.9510565162951535,
            -0.9422152807470591,
            -0.8090169943749473,
            -0.7952464471636913,
            -0.587785252292473,
            -0.5704333505241372,
            -0.3090169943749473,
            -0.28978226309242505,
            1.2246467991473532e-16,
            0.019234731282522344,
            0.3090169943749475,
            0.3263688961432833,
            0.5877852522924732,
            0.6015557995037293,
            0.8090169943749475,
            0.8178582299230419,
            0.9510565162951536,
            0.9541029984441288,
            1,
            0.9969535178510248,
            0.9510565162951535,
            0.9422152807470591,
            0.8090169943749475,
            0.7952464471636914,
            0.5877852522924731,
            0.5704333505241374,
            0.3090169943749474,
            0.28978226309242516,
            0,
            -0.019234731282522233,
            -0.3090169943749477,
            -0.32636889614328346,
            -0.5877852522924734,
            -0.6015557995037294,
            -0.8090169943749476,
            -0.817858229923042,
            -0.9510565162951536,
            -0.9541029984441288,
            -1,
            null
           ],
           "z": [
            -1.7510204081632654,
            -1.7510204081632654,
            -1.7510204081632654,
            -1.7510204081632654,
            -1.7510204081632654,
            -1.7510204081632654,
            -1.7510204081632654,
            -1.7510204081632654,
            -1.7510204081632654,
            -1.7510204081632654,
            -1.7510204081632654,
            -1.7510204081632654,
            -1.7510204081632654,
            -1.7510204081632654,
            -1.7510204081632654,
            -1.7510204081632654,
            -1.7510204081632654,
            -1.7510204081632654,
            -1.7510204081632654,
            -1.7510204081632654,
            -1.7510204081632654,
            -1.7510204081632654,
            -1.7510204081632654,
            -1.7510204081632654,
            -1.7510204081632654,
            -1.7510204081632654,
            -1.7510204081632654,
            -1.7510204081632654,
            -1.7510204081632654,
            -1.7510204081632654,
            -1.7510204081632654,
            -1.7510204081632654,
            -1.7510204081632654,
            -1.7510204081632654,
            -1.7510204081632654,
            -1.7510204081632654,
            -1.7510204081632654,
            -1.7510204081632654,
            -1.7510204081632654,
            -1.7510204081632654,
            -1.7510204081632654,
            null
           ]
          }
         ],
         "name": "frame_5",
         "traces": [
          0,
          1
         ]
        },
        {
         "data": [
          {
           "color": "lightblue",
           "i": {
            "bdata": "AQECAgQEBQUGBgcHCAgJCQoKCwsMDA0NDg4PDxAQERESEhMTFBQVFRYWFxcYGBkZGhobGxwcHR0eHh8fICAhISIiIyMkJCUlJiYnJygoKSk=",
            "dtype": "i1"
           },
           "j": {
            "bdata": "AAQEBQAGBgcACAgJAAoKCwAMDA0ADg4PABAQEQASEhMAFBQVABYWFwAYGBkAGhobABwcHQAeHh8AICAhACIiIwAkJCUAJiYnACgoKQABAQI=",
            "dtype": "i1"
           },
           "k": {
            "bdata": "BAIFAwYFBwMIBwkDCgkLAwwLDQMODQ8DEA8RAxIREwMUExUDFhUXAxgXGQMaGRsDHBsdAx4dHwMgHyEDIiEjAyQjJQMmJScDKCcpAwEpAgM=",
            "dtype": "i1"
           },
           "name": "Mesh",
           "opacity": 0.3,
           "type": "mesh3d",
           "x": {
            "bdata": "AAAAAAAAAAAAAAAAAADwPwAAAAAAAPA/AAAAAAAAAAD/VEQTDm/uP/9URBMOb+4/qPSXm3fj6T+o9Jebd+PpP15adQQjz+I/Xlp1BCPP4j9Q6S8378bTP1DpLzfvxtM/B1wUMyamkTwHXBQzJqaRPE7pLzfvxtO/TukvN+/G079dWnUEI8/iv11adQQjz+K/p/SXm3fj6b+n9Jebd+Ppv/9URBMOb+6//1REEw5v7r8AAAAAAADwvwAAAAAAAPC/AFVEEw5v7r8AVUQTDm/uv6j0l5t34+m/qPSXm3fj6b9fWnUEI8/iv19adQQjz+K/UukvN+/G079S6S8378bTvwqKnkw5eaq8CoqeTDl5qrxM6S8378bTP0zpLzfvxtM/XFp1BCPP4j9cWnUEI8/iP6f0l5t34+k/p/SXm3fj6T//VEQTDm/uP/9URBMOb+4/",
            "dtype": "f8"
           },
           "y": {
            "bdata": "AAAAAAAAAAAAAAAAAAAAAAAAAAAAAAAAAAAAAAAAAABP6S8378bTP0/pLzfvxtM/Xlp1BCPP4j9eWnUEI8/iP6j0l5t34+k/qPSXm3fj6T//VEQTDm/uP/9URBMOb+4/AAAAAAAA8D8AAAAAAADwPwBVRBMOb+4/AFVEEw5v7j+o9Jebd+PpP6j0l5t34+k/X1p1BCPP4j9fWnUEI8/iP1HpLzfvxtM/UekvN+/G0z8HXBQzJqahPAdcFDMmpqE8TekvN+/G079N6S8378bTv11adQQjz+K/XVp1BCPP4r+n9Jebd+Ppv6f0l5t34+m//1REEw5v7r//VEQTDm/uvwAAAAAAAPC/AAAAAAAA8L8AVUQTDm/uvwBVRBMOb+6/qfSXm3fj6b+p9Jebd+Ppv2BadQQjz+K/YFp1BCPP4r9U6S8378bTv1TpLzfvxtO/",
            "dtype": "f8"
           },
           "z": {
            "bdata": "AAAAAAAAAMAAAAAAAAAAwAAAAAAAAABAAAAAAAAAAEAAAAAAAAAAwAAAAAAAAABAAAAAAAAAAMAAAAAAAAAAQAAAAAAAAADAAAAAAAAAAEAAAAAAAAAAwAAAAAAAAABAAAAAAAAAAMAAAAAAAAAAQAAAAAAAAADAAAAAAAAAAEAAAAAAAAAAwAAAAAAAAABAAAAAAAAAAMAAAAAAAAAAQAAAAAAAAADAAAAAAAAAAEAAAAAAAAAAwAAAAAAAAABAAAAAAAAAAMAAAAAAAAAAQAAAAAAAAADAAAAAAAAAAEAAAAAAAAAAwAAAAAAAAABAAAAAAAAAAMAAAAAAAAAAQAAAAAAAAADAAAAAAAAAAEAAAAAAAAAAwAAAAAAAAABAAAAAAAAAAMAAAAAAAAAAQAAAAAAAAADAAAAAAAAAAEAAAAAAAAAAwAAAAAAAAABA",
            "dtype": "f8"
           }
          },
          {
           "line": {
            "color": "red",
            "width": 5
           },
           "mode": "lines",
           "name": "Slice at z=-1.66",
           "type": "scatter3d",
           "x": [
            -1.8369701987210297e-16,
            -0.026171847482776345,
            -0.30901699437494756,
            -0.33262695907612577,
            -0.5877852522924732,
            -0.6065222263668053,
            -0.8090169943749475,
            -0.8210468722518629,
            -0.9510565162951536,
            -0.9552017297109723,
            -1,
            -0.9958547865841814,
            -0.9510565162951535,
            -0.9390266384182381,
            -0.8090169943749473,
            -0.7902800203006153,
            -0.587785252292473,
            -0.5641752875912949,
            -0.30901699437494734,
            -0.28284514689217116,
            6.123233995736766e-17,
            0.026171847482776234,
            0.30901699437494745,
            0.33262695907612566,
            0.5877852522924731,
            0.6065222263668052,
            0.8090169943749475,
            0.8210468722518629,
            0.9510565162951535,
            0.9552017297109722,
            1,
            0.9958547865841814,
            0.9510565162951535,
            0.9390266384182381,
            0.8090169943749473,
            0.7902800203006153,
            0.5877852522924729,
            0.5641752875912946,
            0.30901699437494723,
            0.28284514689217105,
            -1.8369701987210297e-16,
            null
           ],
           "y": [
            -1,
            -0.9958547865841814,
            -0.9510565162951535,
            -0.9390266384182381,
            -0.8090169943749473,
            -0.7902800203006153,
            -0.587785252292473,
            -0.5641752875912949,
            -0.3090169943749473,
            -0.2828451468921711,
            1.2246467991473532e-16,
            0.02617184748277629,
            0.3090169943749475,
            0.3326269590761257,
            0.5877852522924732,
            0.6065222263668053,
            0.8090169943749475,
            0.8210468722518629,
            0.9510565162951536,
            0.9552017297109723,
            1,
            0.9958547865841814,
            0.9510565162951535,
            0.9390266384182381,
            0.8090169943749475,
            0.7902800203006154,
            0.5877852522924731,
            0.5641752875912949,
            0.3090169943749474,
            0.2828451468921712,
            0,
            -0.026171847482776178,
            -0.3090169943749477,
            -0.3326269590761259,
            -0.5877852522924734,
            -0.6065222263668054,
            -0.8090169943749476,
            -0.821046872251863,
            -0.9510565162951536,
            -0.9552017297109723,
            -1,
            null
           ],
           "z": [
            -1.6612244897959185,
            -1.6612244897959183,
            -1.6612244897959185,
            -1.6612244897959183,
            -1.6612244897959185,
            -1.6612244897959183,
            -1.6612244897959185,
            -1.6612244897959183,
            -1.6612244897959185,
            -1.6612244897959183,
            -1.6612244897959185,
            -1.6612244897959183,
            -1.6612244897959185,
            -1.6612244897959183,
            -1.6612244897959185,
            -1.6612244897959183,
            -1.6612244897959185,
            -1.6612244897959183,
            -1.6612244897959185,
            -1.6612244897959183,
            -1.6612244897959185,
            -1.6612244897959183,
            -1.6612244897959185,
            -1.6612244897959183,
            -1.6612244897959185,
            -1.6612244897959183,
            -1.6612244897959185,
            -1.6612244897959183,
            -1.6612244897959185,
            -1.6612244897959183,
            -1.6612244897959183,
            -1.6612244897959183,
            -1.6612244897959185,
            -1.6612244897959183,
            -1.6612244897959185,
            -1.6612244897959183,
            -1.6612244897959185,
            -1.6612244897959183,
            -1.6612244897959185,
            -1.6612244897959183,
            -1.6612244897959185,
            null
           ]
          }
         ],
         "name": "frame_6",
         "traces": [
          0,
          1
         ]
        },
        {
         "data": [
          {
           "color": "lightblue",
           "i": {
            "bdata": "AQECAgQEBQUGBgcHCAgJCQoKCwsMDA0NDg4PDxAQERESEhMTFBQVFRYWFxcYGBkZGhobGxwcHR0eHh8fICAhISIiIyMkJCUlJiYnJygoKSk=",
            "dtype": "i1"
           },
           "j": {
            "bdata": "AAQEBQAGBgcACAgJAAoKCwAMDA0ADg4PABAQEQASEhMAFBQVABYWFwAYGBkAGhobABwcHQAeHh8AICAhACIiIwAkJCUAJiYnACgoKQABAQI=",
            "dtype": "i1"
           },
           "k": {
            "bdata": "BAIFAwYFBwMIBwkDCgkLAwwLDQMODQ8DEA8RAxIREwMUExUDFhUXAxgXGQMaGRsDHBsdAx4dHwMgHyEDIiEjAyQjJQMmJScDKCcpAwEpAgM=",
            "dtype": "i1"
           },
           "name": "Mesh",
           "opacity": 0.3,
           "type": "mesh3d",
           "x": {
            "bdata": "AAAAAAAAAAAAAAAAAADwPwAAAAAAAPA/AAAAAAAAAAD/VEQTDm/uP/9URBMOb+4/qPSXm3fj6T+o9Jebd+PpP15adQQjz+I/Xlp1BCPP4j9Q6S8378bTP1DpLzfvxtM/B1wUMyamkTwHXBQzJqaRPE7pLzfvxtO/TukvN+/G079dWnUEI8/iv11adQQjz+K/p/SXm3fj6b+n9Jebd+Ppv/9URBMOb+6//1REEw5v7r8AAAAAAADwvwAAAAAAAPC/AFVEEw5v7r8AVUQTDm/uv6j0l5t34+m/qPSXm3fj6b9fWnUEI8/iv19adQQjz+K/UukvN+/G079S6S8378bTvwqKnkw5eaq8CoqeTDl5qrxM6S8378bTP0zpLzfvxtM/XFp1BCPP4j9cWnUEI8/iP6f0l5t34+k/p/SXm3fj6T//VEQTDm/uP/9URBMOb+4/",
            "dtype": "f8"
           },
           "y": {
            "bdata": "AAAAAAAAAAAAAAAAAAAAAAAAAAAAAAAAAAAAAAAAAABP6S8378bTP0/pLzfvxtM/Xlp1BCPP4j9eWnUEI8/iP6j0l5t34+k/qPSXm3fj6T//VEQTDm/uP/9URBMOb+4/AAAAAAAA8D8AAAAAAADwPwBVRBMOb+4/AFVEEw5v7j+o9Jebd+PpP6j0l5t34+k/X1p1BCPP4j9fWnUEI8/iP1HpLzfvxtM/UekvN+/G0z8HXBQzJqahPAdcFDMmpqE8TekvN+/G079N6S8378bTv11adQQjz+K/XVp1BCPP4r+n9Jebd+Ppv6f0l5t34+m//1REEw5v7r//VEQTDm/uvwAAAAAAAPC/AAAAAAAA8L8AVUQTDm/uvwBVRBMOb+6/qfSXm3fj6b+p9Jebd+Ppv2BadQQjz+K/YFp1BCPP4r9U6S8378bTv1TpLzfvxtO/",
            "dtype": "f8"
           },
           "z": {
            "bdata": "AAAAAAAAAMAAAAAAAAAAwAAAAAAAAABAAAAAAAAAAEAAAAAAAAAAwAAAAAAAAABAAAAAAAAAAMAAAAAAAAAAQAAAAAAAAADAAAAAAAAAAEAAAAAAAAAAwAAAAAAAAABAAAAAAAAAAMAAAAAAAAAAQAAAAAAAAADAAAAAAAAAAEAAAAAAAAAAwAAAAAAAAABAAAAAAAAAAMAAAAAAAAAAQAAAAAAAAADAAAAAAAAAAEAAAAAAAAAAwAAAAAAAAABAAAAAAAAAAMAAAAAAAAAAQAAAAAAAAADAAAAAAAAAAEAAAAAAAAAAwAAAAAAAAABAAAAAAAAAAMAAAAAAAAAAQAAAAAAAAADAAAAAAAAAAEAAAAAAAAAAwAAAAAAAAABAAAAAAAAAAMAAAAAAAAAAQAAAAAAAAADAAAAAAAAAAEAAAAAAAAAAwAAAAAAAAABA",
            "dtype": "f8"
           }
          },
          {
           "line": {
            "color": "red",
            "width": 5
           },
           "mode": "lines",
           "name": "Slice at z=-1.57",
           "type": "scatter3d",
           "x": [
            -1.8369701987210297e-16,
            -0.033108963683030235,
            -0.30901699437494756,
            -0.33888502200896814,
            -0.5877852522924732,
            -0.6114886532298812,
            -0.8090169943749475,
            -0.8242355145806839,
            -0.9510565162951536,
            -0.9563004609778157,
            -1,
            -0.9947560553173379,
            -0.9510565162951535,
            -0.9358379960894172,
            -0.8090169943749473,
            -0.7853135934375394,
            -0.587785252292473,
            -0.5579172246584525,
            -0.30901699437494734,
            -0.27590803069191727,
            6.123233995736766e-17,
            0.033108963683030124,
            0.30901699437494745,
            0.33888502200896803,
            0.5877852522924731,
            0.6114886532298811,
            0.8090169943749475,
            0.8242355145806838,
            0.9510565162951535,
            0.9563004609778156,
            1,
            0.9947560553173379,
            0.9510565162951535,
            0.9358379960894172,
            0.8090169943749473,
            0.7853135934375394,
            0.5877852522924729,
            0.5579172246584523,
            0.30901699437494723,
            0.27590803069191716,
            -1.8369701987210297e-16,
            null
           ],
           "y": [
            -1,
            -0.9947560553173379,
            -0.9510565162951535,
            -0.9358379960894172,
            -0.8090169943749473,
            -0.7853135934375394,
            -0.587785252292473,
            -0.5579172246584525,
            -0.3090169943749473,
            -0.2759080306919172,
            1.2246467991473532e-16,
            0.03310896368303018,
            0.3090169943749475,
            0.3388850220089681,
            0.5877852522924732,
            0.6114886532298812,
            0.8090169943749475,
            0.8242355145806839,
            0.9510565162951536,
            0.9563004609778157,
            1,
            0.9947560553173379,
            0.9510565162951535,
            0.9358379960894172,
            0.8090169943749475,
            0.7853135934375395,
            0.5877852522924731,
            0.5579172246584525,
            0.3090169943749474,
            0.2759080306919173,
            0,
            -0.03310896368303007,
            -0.3090169943749477,
            -0.33888502200896825,
            -0.5877852522924734,
            -0.6114886532298813,
            -0.8090169943749476,
            -0.8242355145806839,
            -0.9510565162951536,
            -0.9563004609778157,
            -1,
            null
           ],
           "z": [
            -1.5714285714285716,
            -1.5714285714285716,
            -1.5714285714285716,
            -1.5714285714285716,
            -1.5714285714285716,
            -1.5714285714285716,
            -1.5714285714285716,
            -1.5714285714285716,
            -1.5714285714285716,
            -1.5714285714285716,
            -1.5714285714285716,
            -1.5714285714285716,
            -1.5714285714285716,
            -1.5714285714285716,
            -1.5714285714285716,
            -1.5714285714285716,
            -1.5714285714285716,
            -1.5714285714285716,
            -1.5714285714285716,
            -1.5714285714285716,
            -1.5714285714285716,
            -1.5714285714285716,
            -1.5714285714285716,
            -1.5714285714285716,
            -1.5714285714285716,
            -1.5714285714285716,
            -1.5714285714285716,
            -1.5714285714285716,
            -1.5714285714285716,
            -1.5714285714285716,
            -1.5714285714285716,
            -1.5714285714285716,
            -1.5714285714285716,
            -1.5714285714285716,
            -1.5714285714285716,
            -1.5714285714285716,
            -1.5714285714285716,
            -1.5714285714285716,
            -1.5714285714285716,
            -1.5714285714285716,
            -1.5714285714285716,
            null
           ]
          }
         ],
         "name": "frame_7",
         "traces": [
          0,
          1
         ]
        },
        {
         "data": [
          {
           "color": "lightblue",
           "i": {
            "bdata": "AQECAgQEBQUGBgcHCAgJCQoKCwsMDA0NDg4PDxAQERESEhMTFBQVFRYWFxcYGBkZGhobGxwcHR0eHh8fICAhISIiIyMkJCUlJiYnJygoKSk=",
            "dtype": "i1"
           },
           "j": {
            "bdata": "AAQEBQAGBgcACAgJAAoKCwAMDA0ADg4PABAQEQASEhMAFBQVABYWFwAYGBkAGhobABwcHQAeHh8AICAhACIiIwAkJCUAJiYnACgoKQABAQI=",
            "dtype": "i1"
           },
           "k": {
            "bdata": "BAIFAwYFBwMIBwkDCgkLAwwLDQMODQ8DEA8RAxIREwMUExUDFhUXAxgXGQMaGRsDHBsdAx4dHwMgHyEDIiEjAyQjJQMmJScDKCcpAwEpAgM=",
            "dtype": "i1"
           },
           "name": "Mesh",
           "opacity": 0.3,
           "type": "mesh3d",
           "x": {
            "bdata": "AAAAAAAAAAAAAAAAAADwPwAAAAAAAPA/AAAAAAAAAAD/VEQTDm/uP/9URBMOb+4/qPSXm3fj6T+o9Jebd+PpP15adQQjz+I/Xlp1BCPP4j9Q6S8378bTP1DpLzfvxtM/B1wUMyamkTwHXBQzJqaRPE7pLzfvxtO/TukvN+/G079dWnUEI8/iv11adQQjz+K/p/SXm3fj6b+n9Jebd+Ppv/9URBMOb+6//1REEw5v7r8AAAAAAADwvwAAAAAAAPC/AFVEEw5v7r8AVUQTDm/uv6j0l5t34+m/qPSXm3fj6b9fWnUEI8/iv19adQQjz+K/UukvN+/G079S6S8378bTvwqKnkw5eaq8CoqeTDl5qrxM6S8378bTP0zpLzfvxtM/XFp1BCPP4j9cWnUEI8/iP6f0l5t34+k/p/SXm3fj6T//VEQTDm/uP/9URBMOb+4/",
            "dtype": "f8"
           },
           "y": {
            "bdata": "AAAAAAAAAAAAAAAAAAAAAAAAAAAAAAAAAAAAAAAAAABP6S8378bTP0/pLzfvxtM/Xlp1BCPP4j9eWnUEI8/iP6j0l5t34+k/qPSXm3fj6T//VEQTDm/uP/9URBMOb+4/AAAAAAAA8D8AAAAAAADwPwBVRBMOb+4/AFVEEw5v7j+o9Jebd+PpP6j0l5t34+k/X1p1BCPP4j9fWnUEI8/iP1HpLzfvxtM/UekvN+/G0z8HXBQzJqahPAdcFDMmpqE8TekvN+/G079N6S8378bTv11adQQjz+K/XVp1BCPP4r+n9Jebd+Ppv6f0l5t34+m//1REEw5v7r//VEQTDm/uvwAAAAAAAPC/AAAAAAAA8L8AVUQTDm/uvwBVRBMOb+6/qfSXm3fj6b+p9Jebd+Ppv2BadQQjz+K/YFp1BCPP4r9U6S8378bTv1TpLzfvxtO/",
            "dtype": "f8"
           },
           "z": {
            "bdata": "AAAAAAAAAMAAAAAAAAAAwAAAAAAAAABAAAAAAAAAAEAAAAAAAAAAwAAAAAAAAABAAAAAAAAAAMAAAAAAAAAAQAAAAAAAAADAAAAAAAAAAEAAAAAAAAAAwAAAAAAAAABAAAAAAAAAAMAAAAAAAAAAQAAAAAAAAADAAAAAAAAAAEAAAAAAAAAAwAAAAAAAAABAAAAAAAAAAMAAAAAAAAAAQAAAAAAAAADAAAAAAAAAAEAAAAAAAAAAwAAAAAAAAABAAAAAAAAAAMAAAAAAAAAAQAAAAAAAAADAAAAAAAAAAEAAAAAAAAAAwAAAAAAAAABAAAAAAAAAAMAAAAAAAAAAQAAAAAAAAADAAAAAAAAAAEAAAAAAAAAAwAAAAAAAAABAAAAAAAAAAMAAAAAAAAAAQAAAAAAAAADAAAAAAAAAAEAAAAAAAAAAwAAAAAAAAABA",
            "dtype": "f8"
           }
          },
          {
           "line": {
            "color": "red",
            "width": 5
           },
           "mode": "lines",
           "name": "Slice at z=-1.48",
           "type": "scatter3d",
           "x": [
            -1.8369701987210297e-16,
            -0.04004607988328418,
            -0.30901699437494756,
            -0.34514308494181056,
            -0.5877852522924732,
            -0.6164550800929571,
            -0.8090169943749475,
            -0.8274241569095048,
            -0.9510565162951536,
            -0.9573991922446592,
            -1,
            -0.9936573240504943,
            -0.9510565162951535,
            -0.9326493537605962,
            -0.8090169943749473,
            -0.7803471665744635,
            -0.587785252292473,
            -0.55165916172561,
            -0.30901699437494734,
            -0.2689709144916633,
            6.123233995736766e-17,
            0.04004607988328407,
            0.30901699437494745,
            0.34514308494181045,
            0.5877852522924731,
            0.6164550800929571,
            0.8090169943749475,
            0.8274241569095048,
            0.9510565162951535,
            0.9573991922446592,
            1,
            0.9936573240504943,
            0.9510565162951535,
            0.9326493537605962,
            0.8090169943749473,
            0.7803471665744635,
            0.5877852522924729,
            0.5516591617256099,
            0.30901699437494723,
            0.2689709144916632,
            -1.8369701987210297e-16,
            null
           ],
           "y": [
            -1,
            -0.9936573240504943,
            -0.9510565162951535,
            -0.9326493537605962,
            -0.8090169943749473,
            -0.7803471665744635,
            -0.587785252292473,
            -0.55165916172561,
            -0.3090169943749473,
            -0.26897091449166327,
            1.2246467991473532e-16,
            0.040046079883284125,
            0.3090169943749475,
            0.34514308494181056,
            0.5877852522924732,
            0.6164550800929571,
            0.8090169943749475,
            0.8274241569095048,
            0.9510565162951536,
            0.9573991922446592,
            1,
            0.9936573240504943,
            0.9510565162951535,
            0.9326493537605962,
            0.8090169943749475,
            0.7803471665744635,
            0.5877852522924731,
            0.5516591617256101,
            0.3090169943749474,
            0.2689709144916634,
            0,
            -0.040046079883284014,
            -0.3090169943749477,
            -0.3451430849418107,
            -0.5877852522924734,
            -0.6164550800929572,
            -0.8090169943749476,
            -0.8274241569095049,
            -0.9510565162951536,
            -0.9573991922446592,
            -1,
            null
           ],
           "z": [
            -1.4816326530612245,
            -1.4816326530612245,
            -1.4816326530612245,
            -1.4816326530612245,
            -1.4816326530612245,
            -1.4816326530612245,
            -1.4816326530612245,
            -1.4816326530612245,
            -1.4816326530612245,
            -1.4816326530612245,
            -1.4816326530612245,
            -1.4816326530612245,
            -1.4816326530612245,
            -1.4816326530612245,
            -1.4816326530612245,
            -1.4816326530612245,
            -1.4816326530612245,
            -1.4816326530612245,
            -1.4816326530612245,
            -1.4816326530612245,
            -1.4816326530612245,
            -1.4816326530612245,
            -1.4816326530612245,
            -1.4816326530612245,
            -1.4816326530612245,
            -1.4816326530612245,
            -1.4816326530612245,
            -1.4816326530612245,
            -1.4816326530612245,
            -1.4816326530612245,
            -1.4816326530612245,
            -1.4816326530612245,
            -1.4816326530612245,
            -1.4816326530612245,
            -1.4816326530612245,
            -1.4816326530612245,
            -1.4816326530612245,
            -1.4816326530612245,
            -1.4816326530612245,
            -1.4816326530612245,
            -1.4816326530612245,
            null
           ]
          }
         ],
         "name": "frame_8",
         "traces": [
          0,
          1
         ]
        },
        {
         "data": [
          {
           "color": "lightblue",
           "i": {
            "bdata": "AQECAgQEBQUGBgcHCAgJCQoKCwsMDA0NDg4PDxAQERESEhMTFBQVFRYWFxcYGBkZGhobGxwcHR0eHh8fICAhISIiIyMkJCUlJiYnJygoKSk=",
            "dtype": "i1"
           },
           "j": {
            "bdata": "AAQEBQAGBgcACAgJAAoKCwAMDA0ADg4PABAQEQASEhMAFBQVABYWFwAYGBkAGhobABwcHQAeHh8AICAhACIiIwAkJCUAJiYnACgoKQABAQI=",
            "dtype": "i1"
           },
           "k": {
            "bdata": "BAIFAwYFBwMIBwkDCgkLAwwLDQMODQ8DEA8RAxIREwMUExUDFhUXAxgXGQMaGRsDHBsdAx4dHwMgHyEDIiEjAyQjJQMmJScDKCcpAwEpAgM=",
            "dtype": "i1"
           },
           "name": "Mesh",
           "opacity": 0.3,
           "type": "mesh3d",
           "x": {
            "bdata": "AAAAAAAAAAAAAAAAAADwPwAAAAAAAPA/AAAAAAAAAAD/VEQTDm/uP/9URBMOb+4/qPSXm3fj6T+o9Jebd+PpP15adQQjz+I/Xlp1BCPP4j9Q6S8378bTP1DpLzfvxtM/B1wUMyamkTwHXBQzJqaRPE7pLzfvxtO/TukvN+/G079dWnUEI8/iv11adQQjz+K/p/SXm3fj6b+n9Jebd+Ppv/9URBMOb+6//1REEw5v7r8AAAAAAADwvwAAAAAAAPC/AFVEEw5v7r8AVUQTDm/uv6j0l5t34+m/qPSXm3fj6b9fWnUEI8/iv19adQQjz+K/UukvN+/G079S6S8378bTvwqKnkw5eaq8CoqeTDl5qrxM6S8378bTP0zpLzfvxtM/XFp1BCPP4j9cWnUEI8/iP6f0l5t34+k/p/SXm3fj6T//VEQTDm/uP/9URBMOb+4/",
            "dtype": "f8"
           },
           "y": {
            "bdata": "AAAAAAAAAAAAAAAAAAAAAAAAAAAAAAAAAAAAAAAAAABP6S8378bTP0/pLzfvxtM/Xlp1BCPP4j9eWnUEI8/iP6j0l5t34+k/qPSXm3fj6T//VEQTDm/uP/9URBMOb+4/AAAAAAAA8D8AAAAAAADwPwBVRBMOb+4/AFVEEw5v7j+o9Jebd+PpP6j0l5t34+k/X1p1BCPP4j9fWnUEI8/iP1HpLzfvxtM/UekvN+/G0z8HXBQzJqahPAdcFDMmpqE8TekvN+/G079N6S8378bTv11adQQjz+K/XVp1BCPP4r+n9Jebd+Ppv6f0l5t34+m//1REEw5v7r//VEQTDm/uvwAAAAAAAPC/AAAAAAAA8L8AVUQTDm/uvwBVRBMOb+6/qfSXm3fj6b+p9Jebd+Ppv2BadQQjz+K/YFp1BCPP4r9U6S8378bTv1TpLzfvxtO/",
            "dtype": "f8"
           },
           "z": {
            "bdata": "AAAAAAAAAMAAAAAAAAAAwAAAAAAAAABAAAAAAAAAAEAAAAAAAAAAwAAAAAAAAABAAAAAAAAAAMAAAAAAAAAAQAAAAAAAAADAAAAAAAAAAEAAAAAAAAAAwAAAAAAAAABAAAAAAAAAAMAAAAAAAAAAQAAAAAAAAADAAAAAAAAAAEAAAAAAAAAAwAAAAAAAAABAAAAAAAAAAMAAAAAAAAAAQAAAAAAAAADAAAAAAAAAAEAAAAAAAAAAwAAAAAAAAABAAAAAAAAAAMAAAAAAAAAAQAAAAAAAAADAAAAAAAAAAEAAAAAAAAAAwAAAAAAAAABAAAAAAAAAAMAAAAAAAAAAQAAAAAAAAADAAAAAAAAAAEAAAAAAAAAAwAAAAAAAAABAAAAAAAAAAMAAAAAAAAAAQAAAAAAAAADAAAAAAAAAAEAAAAAAAAAAwAAAAAAAAABA",
            "dtype": "f8"
           }
          },
          {
           "line": {
            "color": "red",
            "width": 5
           },
           "mode": "lines",
           "name": "Slice at z=-1.39",
           "type": "scatter3d",
           "x": [
            -1.8369701987210297e-16,
            -0.04698319608353807,
            -0.30901699437494756,
            -0.351401147874653,
            -0.5877852522924732,
            -0.6214215069560332,
            -0.8090169943749475,
            -0.8306127992383258,
            -0.9510565162951536,
            -0.9584979235115028,
            -1,
            -0.9925585927836509,
            -0.9510565162951535,
            -0.9294607114317752,
            -0.8090169943749473,
            -0.7753807397113874,
            -0.587785252292473,
            -0.5454010987927675,
            -0.30901699437494734,
            -0.26203379829140944,
            6.123233995736766e-17,
            0.04698319608353796,
            0.30901699437494745,
            0.3514011478746529,
            0.5877852522924731,
            0.621421506956033,
            0.8090169943749475,
            0.8306127992383258,
            0.9510565162951535,
            0.9584979235115026,
            1,
            0.9925585927836509,
            0.9510565162951535,
            0.9294607114317752,
            0.8090169943749473,
            0.7753807397113874,
            0.5877852522924729,
            0.5454010987927675,
            0.30901699437494723,
            0.2620337982914093,
            -1.8369701987210297e-16,
            null
           ],
           "y": [
            -1,
            -0.9925585927836509,
            -0.9510565162951535,
            -0.9294607114317752,
            -0.8090169943749473,
            -0.7753807397113874,
            -0.587785252292473,
            -0.5454010987927675,
            -0.3090169943749473,
            -0.2620337982914094,
            1.2246467991473532e-16,
            0.046983196083538015,
            0.3090169943749475,
            0.35140114787465293,
            0.5877852522924732,
            0.6214215069560332,
            0.8090169943749475,
            0.8306127992383258,
            0.9510565162951536,
            0.9584979235115028,
            1,
            0.9925585927836509,
            0.9510565162951535,
            0.9294607114317752,
            0.8090169943749475,
            0.7753807397113875,
            0.5877852522924731,
            0.5454010987927678,
            0.3090169943749474,
            0.2620337982914095,
            0,
            -0.04698319608353796,
            -0.3090169943749477,
            -0.3514011478746531,
            -0.5877852522924734,
            -0.6214215069560332,
            -0.8090169943749476,
            -0.8306127992383259,
            -0.9510565162951536,
            -0.9584979235115028,
            -1,
            null
           ],
           "z": [
            -1.3918367346938778,
            -1.3918367346938778,
            -1.3918367346938778,
            -1.3918367346938778,
            -1.3918367346938778,
            -1.3918367346938778,
            -1.3918367346938778,
            -1.3918367346938778,
            -1.3918367346938778,
            -1.3918367346938778,
            -1.3918367346938778,
            -1.3918367346938778,
            -1.3918367346938778,
            -1.3918367346938778,
            -1.3918367346938778,
            -1.3918367346938778,
            -1.3918367346938778,
            -1.3918367346938778,
            -1.3918367346938778,
            -1.3918367346938778,
            -1.3918367346938778,
            -1.3918367346938778,
            -1.3918367346938778,
            -1.3918367346938778,
            -1.3918367346938778,
            -1.3918367346938778,
            -1.3918367346938778,
            -1.3918367346938778,
            -1.3918367346938778,
            -1.3918367346938778,
            -1.3918367346938778,
            -1.3918367346938778,
            -1.3918367346938778,
            -1.3918367346938778,
            -1.3918367346938778,
            -1.3918367346938778,
            -1.3918367346938778,
            -1.3918367346938778,
            -1.3918367346938778,
            -1.3918367346938778,
            -1.3918367346938778,
            null
           ]
          }
         ],
         "name": "frame_9",
         "traces": [
          0,
          1
         ]
        },
        {
         "data": [
          {
           "color": "lightblue",
           "i": {
            "bdata": "AQECAgQEBQUGBgcHCAgJCQoKCwsMDA0NDg4PDxAQERESEhMTFBQVFRYWFxcYGBkZGhobGxwcHR0eHh8fICAhISIiIyMkJCUlJiYnJygoKSk=",
            "dtype": "i1"
           },
           "j": {
            "bdata": "AAQEBQAGBgcACAgJAAoKCwAMDA0ADg4PABAQEQASEhMAFBQVABYWFwAYGBkAGhobABwcHQAeHh8AICAhACIiIwAkJCUAJiYnACgoKQABAQI=",
            "dtype": "i1"
           },
           "k": {
            "bdata": "BAIFAwYFBwMIBwkDCgkLAwwLDQMODQ8DEA8RAxIREwMUExUDFhUXAxgXGQMaGRsDHBsdAx4dHwMgHyEDIiEjAyQjJQMmJScDKCcpAwEpAgM=",
            "dtype": "i1"
           },
           "name": "Mesh",
           "opacity": 0.3,
           "type": "mesh3d",
           "x": {
            "bdata": "AAAAAAAAAAAAAAAAAADwPwAAAAAAAPA/AAAAAAAAAAD/VEQTDm/uP/9URBMOb+4/qPSXm3fj6T+o9Jebd+PpP15adQQjz+I/Xlp1BCPP4j9Q6S8378bTP1DpLzfvxtM/B1wUMyamkTwHXBQzJqaRPE7pLzfvxtO/TukvN+/G079dWnUEI8/iv11adQQjz+K/p/SXm3fj6b+n9Jebd+Ppv/9URBMOb+6//1REEw5v7r8AAAAAAADwvwAAAAAAAPC/AFVEEw5v7r8AVUQTDm/uv6j0l5t34+m/qPSXm3fj6b9fWnUEI8/iv19adQQjz+K/UukvN+/G079S6S8378bTvwqKnkw5eaq8CoqeTDl5qrxM6S8378bTP0zpLzfvxtM/XFp1BCPP4j9cWnUEI8/iP6f0l5t34+k/p/SXm3fj6T//VEQTDm/uP/9URBMOb+4/",
            "dtype": "f8"
           },
           "y": {
            "bdata": "AAAAAAAAAAAAAAAAAAAAAAAAAAAAAAAAAAAAAAAAAABP6S8378bTP0/pLzfvxtM/Xlp1BCPP4j9eWnUEI8/iP6j0l5t34+k/qPSXm3fj6T//VEQTDm/uP/9URBMOb+4/AAAAAAAA8D8AAAAAAADwPwBVRBMOb+4/AFVEEw5v7j+o9Jebd+PpP6j0l5t34+k/X1p1BCPP4j9fWnUEI8/iP1HpLzfvxtM/UekvN+/G0z8HXBQzJqahPAdcFDMmpqE8TekvN+/G079N6S8378bTv11adQQjz+K/XVp1BCPP4r+n9Jebd+Ppv6f0l5t34+m//1REEw5v7r//VEQTDm/uvwAAAAAAAPC/AAAAAAAA8L8AVUQTDm/uvwBVRBMOb+6/qfSXm3fj6b+p9Jebd+Ppv2BadQQjz+K/YFp1BCPP4r9U6S8378bTv1TpLzfvxtO/",
            "dtype": "f8"
           },
           "z": {
            "bdata": "AAAAAAAAAMAAAAAAAAAAwAAAAAAAAABAAAAAAAAAAEAAAAAAAAAAwAAAAAAAAABAAAAAAAAAAMAAAAAAAAAAQAAAAAAAAADAAAAAAAAAAEAAAAAAAAAAwAAAAAAAAABAAAAAAAAAAMAAAAAAAAAAQAAAAAAAAADAAAAAAAAAAEAAAAAAAAAAwAAAAAAAAABAAAAAAAAAAMAAAAAAAAAAQAAAAAAAAADAAAAAAAAAAEAAAAAAAAAAwAAAAAAAAABAAAAAAAAAAMAAAAAAAAAAQAAAAAAAAADAAAAAAAAAAEAAAAAAAAAAwAAAAAAAAABAAAAAAAAAAMAAAAAAAAAAQAAAAAAAAADAAAAAAAAAAEAAAAAAAAAAwAAAAAAAAABAAAAAAAAAAMAAAAAAAAAAQAAAAAAAAADAAAAAAAAAAEAAAAAAAAAAwAAAAAAAAABA",
            "dtype": "f8"
           }
          },
          {
           "line": {
            "color": "red",
            "width": 5
           },
           "mode": "lines",
           "name": "Slice at z=-1.30",
           "type": "scatter3d",
           "x": [
            -1.8369701987210297e-16,
            -0.05392031228379196,
            -0.30901699437494756,
            -0.3576592108074954,
            -0.5877852522924732,
            -0.6263879338191091,
            -0.8090169943749475,
            -0.8338014415671466,
            -0.9510565162951536,
            -0.9595966547783462,
            -1,
            -0.9914598615168074,
            -0.9510565162951535,
            -0.9262720691029542,
            -0.8090169943749473,
            -0.7704143128483115,
            -0.587785252292473,
            -0.5391430358599252,
            -0.30901699437494734,
            -0.25509668209115555,
            6.123233995736766e-17,
            0.05392031228379185,
            0.30901699437494745,
            0.3576592108074953,
            0.5877852522924731,
            0.626387933819109,
            0.8090169943749475,
            0.8338014415671466,
            0.9510565162951535,
            0.9595966547783461,
            1,
            0.9914598615168074,
            0.9510565162951535,
            0.9262720691029542,
            0.8090169943749473,
            0.7704143128483115,
            0.5877852522924729,
            0.5391430358599251,
            0.30901699437494723,
            0.25509668209115544,
            -1.8369701987210297e-16,
            null
           ],
           "y": [
            -1,
            -0.9914598615168074,
            -0.9510565162951535,
            -0.9262720691029542,
            -0.8090169943749473,
            -0.7704143128483115,
            -0.587785252292473,
            -0.5391430358599252,
            -0.3090169943749473,
            -0.2550966820911555,
            1.2246467991473532e-16,
            0.053920312283791905,
            0.3090169943749475,
            0.35765921080749535,
            0.5877852522924732,
            0.6263879338191091,
            0.8090169943749475,
            0.8338014415671466,
            0.9510565162951536,
            0.9595966547783462,
            1,
            0.9914598615168074,
            0.9510565162951535,
            0.9262720691029543,
            0.8090169943749475,
            0.7704143128483116,
            0.5877852522924731,
            0.5391430358599253,
            0.3090169943749474,
            0.2550966820911556,
            0,
            -0.05392031228379185,
            -0.3090169943749477,
            -0.3576592108074955,
            -0.5877852522924734,
            -0.6263879338191092,
            -0.8090169943749476,
            -0.8338014415671468,
            -0.9510565162951536,
            -0.9595966547783462,
            -1,
            null
           ],
           "z": [
            -1.3020408163265307,
            -1.3020408163265307,
            -1.3020408163265307,
            -1.3020408163265307,
            -1.3020408163265307,
            -1.3020408163265307,
            -1.3020408163265307,
            -1.3020408163265307,
            -1.3020408163265307,
            -1.3020408163265307,
            -1.3020408163265307,
            -1.3020408163265307,
            -1.3020408163265307,
            -1.3020408163265307,
            -1.3020408163265307,
            -1.3020408163265307,
            -1.3020408163265307,
            -1.3020408163265307,
            -1.3020408163265307,
            -1.3020408163265307,
            -1.3020408163265307,
            -1.3020408163265307,
            -1.3020408163265307,
            -1.3020408163265307,
            -1.3020408163265307,
            -1.3020408163265307,
            -1.3020408163265307,
            -1.3020408163265307,
            -1.3020408163265307,
            -1.3020408163265307,
            -1.3020408163265307,
            -1.3020408163265307,
            -1.3020408163265307,
            -1.3020408163265307,
            -1.3020408163265307,
            -1.3020408163265307,
            -1.3020408163265307,
            -1.3020408163265307,
            -1.3020408163265307,
            -1.3020408163265307,
            -1.3020408163265307,
            null
           ]
          }
         ],
         "name": "frame_10",
         "traces": [
          0,
          1
         ]
        },
        {
         "data": [
          {
           "color": "lightblue",
           "i": {
            "bdata": "AQECAgQEBQUGBgcHCAgJCQoKCwsMDA0NDg4PDxAQERESEhMTFBQVFRYWFxcYGBkZGhobGxwcHR0eHh8fICAhISIiIyMkJCUlJiYnJygoKSk=",
            "dtype": "i1"
           },
           "j": {
            "bdata": "AAQEBQAGBgcACAgJAAoKCwAMDA0ADg4PABAQEQASEhMAFBQVABYWFwAYGBkAGhobABwcHQAeHh8AICAhACIiIwAkJCUAJiYnACgoKQABAQI=",
            "dtype": "i1"
           },
           "k": {
            "bdata": "BAIFAwYFBwMIBwkDCgkLAwwLDQMODQ8DEA8RAxIREwMUExUDFhUXAxgXGQMaGRsDHBsdAx4dHwMgHyEDIiEjAyQjJQMmJScDKCcpAwEpAgM=",
            "dtype": "i1"
           },
           "name": "Mesh",
           "opacity": 0.3,
           "type": "mesh3d",
           "x": {
            "bdata": "AAAAAAAAAAAAAAAAAADwPwAAAAAAAPA/AAAAAAAAAAD/VEQTDm/uP/9URBMOb+4/qPSXm3fj6T+o9Jebd+PpP15adQQjz+I/Xlp1BCPP4j9Q6S8378bTP1DpLzfvxtM/B1wUMyamkTwHXBQzJqaRPE7pLzfvxtO/TukvN+/G079dWnUEI8/iv11adQQjz+K/p/SXm3fj6b+n9Jebd+Ppv/9URBMOb+6//1REEw5v7r8AAAAAAADwvwAAAAAAAPC/AFVEEw5v7r8AVUQTDm/uv6j0l5t34+m/qPSXm3fj6b9fWnUEI8/iv19adQQjz+K/UukvN+/G079S6S8378bTvwqKnkw5eaq8CoqeTDl5qrxM6S8378bTP0zpLzfvxtM/XFp1BCPP4j9cWnUEI8/iP6f0l5t34+k/p/SXm3fj6T//VEQTDm/uP/9URBMOb+4/",
            "dtype": "f8"
           },
           "y": {
            "bdata": "AAAAAAAAAAAAAAAAAAAAAAAAAAAAAAAAAAAAAAAAAABP6S8378bTP0/pLzfvxtM/Xlp1BCPP4j9eWnUEI8/iP6j0l5t34+k/qPSXm3fj6T//VEQTDm/uP/9URBMOb+4/AAAAAAAA8D8AAAAAAADwPwBVRBMOb+4/AFVEEw5v7j+o9Jebd+PpP6j0l5t34+k/X1p1BCPP4j9fWnUEI8/iP1HpLzfvxtM/UekvN+/G0z8HXBQzJqahPAdcFDMmpqE8TekvN+/G079N6S8378bTv11adQQjz+K/XVp1BCPP4r+n9Jebd+Ppv6f0l5t34+m//1REEw5v7r//VEQTDm/uvwAAAAAAAPC/AAAAAAAA8L8AVUQTDm/uvwBVRBMOb+6/qfSXm3fj6b+p9Jebd+Ppv2BadQQjz+K/YFp1BCPP4r9U6S8378bTv1TpLzfvxtO/",
            "dtype": "f8"
           },
           "z": {
            "bdata": "AAAAAAAAAMAAAAAAAAAAwAAAAAAAAABAAAAAAAAAAEAAAAAAAAAAwAAAAAAAAABAAAAAAAAAAMAAAAAAAAAAQAAAAAAAAADAAAAAAAAAAEAAAAAAAAAAwAAAAAAAAABAAAAAAAAAAMAAAAAAAAAAQAAAAAAAAADAAAAAAAAAAEAAAAAAAAAAwAAAAAAAAABAAAAAAAAAAMAAAAAAAAAAQAAAAAAAAADAAAAAAAAAAEAAAAAAAAAAwAAAAAAAAABAAAAAAAAAAMAAAAAAAAAAQAAAAAAAAADAAAAAAAAAAEAAAAAAAAAAwAAAAAAAAABAAAAAAAAAAMAAAAAAAAAAQAAAAAAAAADAAAAAAAAAAEAAAAAAAAAAwAAAAAAAAABAAAAAAAAAAMAAAAAAAAAAQAAAAAAAAADAAAAAAAAAAEAAAAAAAAAAwAAAAAAAAABA",
            "dtype": "f8"
           }
          },
          {
           "line": {
            "color": "red",
            "width": 5
           },
           "mode": "lines",
           "name": "Slice at z=-1.21",
           "type": "scatter3d",
           "x": [
            -1.8369701987210297e-16,
            -0.06085742848404593,
            -0.30901699437494756,
            -0.36391727374033783,
            -0.5877852522924732,
            -0.631354360682185,
            -0.8090169943749475,
            -0.8369900838959676,
            -0.9510565162951536,
            -0.9606953860451897,
            -1,
            -0.9903611302499639,
            -0.9510565162951535,
            -0.9230834267741334,
            -0.8090169943749473,
            -0.7654478859852356,
            -0.587785252292473,
            -0.5328849729270828,
            -0.30901699437494734,
            -0.24815956589090157,
            6.123233995736766e-17,
            0.06085742848404582,
            0.30901699437494745,
            0.3639172737403377,
            0.5877852522924731,
            0.631354360682185,
            0.8090169943749475,
            0.8369900838959676,
            0.9510565162951535,
            0.9606953860451897,
            1,
            0.9903611302499639,
            0.9510565162951535,
            0.9230834267741334,
            0.8090169943749473,
            0.7654478859852355,
            0.5877852522924729,
            0.5328849729270826,
            0.30901699437494723,
            0.24815956589090143,
            -1.8369701987210297e-16,
            null
           ],
           "y": [
            -1,
            -0.9903611302499639,
            -0.9510565162951535,
            -0.9230834267741334,
            -0.8090169943749473,
            -0.7654478859852356,
            -0.587785252292473,
            -0.5328849729270828,
            -0.3090169943749473,
            -0.24815956589090152,
            1.2246467991473532e-16,
            0.06085742848404588,
            0.3090169943749475,
            0.3639172737403378,
            0.5877852522924732,
            0.631354360682185,
            0.8090169943749475,
            0.8369900838959676,
            0.9510565162951536,
            0.9606953860451897,
            1,
            0.9903611302499639,
            0.9510565162951535,
            0.9230834267741334,
            0.8090169943749475,
            0.7654478859852356,
            0.5877852522924731,
            0.5328849729270828,
            0.3090169943749474,
            0.24815956589090163,
            0,
            -0.06085742848404582,
            -0.3090169943749477,
            -0.36391727374033794,
            -0.5877852522924734,
            -0.6313543606821851,
            -0.8090169943749476,
            -0.8369900838959677,
            -0.9510565162951536,
            -0.9606953860451897,
            -1,
            null
           ],
           "z": [
            -1.2122448979591838,
            -1.2122448979591836,
            -1.2122448979591838,
            -1.2122448979591836,
            -1.2122448979591838,
            -1.2122448979591836,
            -1.2122448979591838,
            -1.2122448979591836,
            -1.2122448979591838,
            -1.2122448979591836,
            -1.2122448979591838,
            -1.2122448979591836,
            -1.2122448979591838,
            -1.2122448979591836,
            -1.2122448979591838,
            -1.2122448979591836,
            -1.2122448979591838,
            -1.2122448979591836,
            -1.2122448979591838,
            -1.2122448979591836,
            -1.2122448979591838,
            -1.2122448979591836,
            -1.2122448979591838,
            -1.2122448979591836,
            -1.2122448979591838,
            -1.2122448979591836,
            -1.2122448979591838,
            -1.2122448979591836,
            -1.2122448979591838,
            -1.2122448979591836,
            -1.2122448979591836,
            -1.2122448979591836,
            -1.2122448979591838,
            -1.2122448979591836,
            -1.2122448979591838,
            -1.2122448979591836,
            -1.2122448979591838,
            -1.2122448979591836,
            -1.2122448979591838,
            -1.2122448979591836,
            -1.2122448979591838,
            null
           ]
          }
         ],
         "name": "frame_11",
         "traces": [
          0,
          1
         ]
        },
        {
         "data": [
          {
           "color": "lightblue",
           "i": {
            "bdata": "AQECAgQEBQUGBgcHCAgJCQoKCwsMDA0NDg4PDxAQERESEhMTFBQVFRYWFxcYGBkZGhobGxwcHR0eHh8fICAhISIiIyMkJCUlJiYnJygoKSk=",
            "dtype": "i1"
           },
           "j": {
            "bdata": "AAQEBQAGBgcACAgJAAoKCwAMDA0ADg4PABAQEQASEhMAFBQVABYWFwAYGBkAGhobABwcHQAeHh8AICAhACIiIwAkJCUAJiYnACgoKQABAQI=",
            "dtype": "i1"
           },
           "k": {
            "bdata": "BAIFAwYFBwMIBwkDCgkLAwwLDQMODQ8DEA8RAxIREwMUExUDFhUXAxgXGQMaGRsDHBsdAx4dHwMgHyEDIiEjAyQjJQMmJScDKCcpAwEpAgM=",
            "dtype": "i1"
           },
           "name": "Mesh",
           "opacity": 0.3,
           "type": "mesh3d",
           "x": {
            "bdata": "AAAAAAAAAAAAAAAAAADwPwAAAAAAAPA/AAAAAAAAAAD/VEQTDm/uP/9URBMOb+4/qPSXm3fj6T+o9Jebd+PpP15adQQjz+I/Xlp1BCPP4j9Q6S8378bTP1DpLzfvxtM/B1wUMyamkTwHXBQzJqaRPE7pLzfvxtO/TukvN+/G079dWnUEI8/iv11adQQjz+K/p/SXm3fj6b+n9Jebd+Ppv/9URBMOb+6//1REEw5v7r8AAAAAAADwvwAAAAAAAPC/AFVEEw5v7r8AVUQTDm/uv6j0l5t34+m/qPSXm3fj6b9fWnUEI8/iv19adQQjz+K/UukvN+/G079S6S8378bTvwqKnkw5eaq8CoqeTDl5qrxM6S8378bTP0zpLzfvxtM/XFp1BCPP4j9cWnUEI8/iP6f0l5t34+k/p/SXm3fj6T//VEQTDm/uP/9URBMOb+4/",
            "dtype": "f8"
           },
           "y": {
            "bdata": "AAAAAAAAAAAAAAAAAAAAAAAAAAAAAAAAAAAAAAAAAABP6S8378bTP0/pLzfvxtM/Xlp1BCPP4j9eWnUEI8/iP6j0l5t34+k/qPSXm3fj6T//VEQTDm/uP/9URBMOb+4/AAAAAAAA8D8AAAAAAADwPwBVRBMOb+4/AFVEEw5v7j+o9Jebd+PpP6j0l5t34+k/X1p1BCPP4j9fWnUEI8/iP1HpLzfvxtM/UekvN+/G0z8HXBQzJqahPAdcFDMmpqE8TekvN+/G079N6S8378bTv11adQQjz+K/XVp1BCPP4r+n9Jebd+Ppv6f0l5t34+m//1REEw5v7r//VEQTDm/uvwAAAAAAAPC/AAAAAAAA8L8AVUQTDm/uvwBVRBMOb+6/qfSXm3fj6b+p9Jebd+Ppv2BadQQjz+K/YFp1BCPP4r9U6S8378bTv1TpLzfvxtO/",
            "dtype": "f8"
           },
           "z": {
            "bdata": "AAAAAAAAAMAAAAAAAAAAwAAAAAAAAABAAAAAAAAAAEAAAAAAAAAAwAAAAAAAAABAAAAAAAAAAMAAAAAAAAAAQAAAAAAAAADAAAAAAAAAAEAAAAAAAAAAwAAAAAAAAABAAAAAAAAAAMAAAAAAAAAAQAAAAAAAAADAAAAAAAAAAEAAAAAAAAAAwAAAAAAAAABAAAAAAAAAAMAAAAAAAAAAQAAAAAAAAADAAAAAAAAAAEAAAAAAAAAAwAAAAAAAAABAAAAAAAAAAMAAAAAAAAAAQAAAAAAAAADAAAAAAAAAAEAAAAAAAAAAwAAAAAAAAABAAAAAAAAAAMAAAAAAAAAAQAAAAAAAAADAAAAAAAAAAEAAAAAAAAAAwAAAAAAAAABAAAAAAAAAAMAAAAAAAAAAQAAAAAAAAADAAAAAAAAAAEAAAAAAAAAAwAAAAAAAAABA",
            "dtype": "f8"
           }
          },
          {
           "line": {
            "color": "red",
            "width": 5
           },
           "mode": "lines",
           "name": "Slice at z=-1.12",
           "type": "scatter3d",
           "x": [
            -1.8369701987210297e-16,
            -0.06779454468429985,
            -0.30901699437494756,
            -0.37017533667318026,
            -0.5877852522924732,
            -0.636320787545261,
            -0.8090169943749475,
            -0.8401787262247886,
            -0.9510565162951536,
            -0.9617941173120332,
            -1,
            -0.9892623989831204,
            -0.9510565162951535,
            -0.9198947844453124,
            -0.8090169943749473,
            -0.7604814591221596,
            -0.587785252292473,
            -0.5266269099942403,
            -0.30901699437494734,
            -0.24122244969064766,
            6.123233995736766e-17,
            0.06779454468429974,
            0.30901699437494745,
            0.37017533667318014,
            0.5877852522924731,
            0.6363207875452609,
            0.8090169943749475,
            0.8401787262247886,
            0.9510565162951535,
            0.9617941173120331,
            1,
            0.9892623989831204,
            0.9510565162951535,
            0.9198947844453124,
            0.8090169943749473,
            0.7604814591221596,
            0.5877852522924729,
            0.5266269099942402,
            0.30901699437494723,
            0.24122244969064752,
            -1.8369701987210297e-16,
            null
           ],
           "y": [
            -1,
            -0.9892623989831204,
            -0.9510565162951535,
            -0.9198947844453124,
            -0.8090169943749473,
            -0.7604814591221596,
            -0.587785252292473,
            -0.5266269099942403,
            -0.3090169943749473,
            -0.2412224496906476,
            1.2246467991473532e-16,
            0.0677945446842998,
            0.3090169943749475,
            0.37017533667318014,
            0.5877852522924732,
            0.636320787545261,
            0.8090169943749475,
            0.8401787262247886,
            0.9510565162951536,
            0.9617941173120332,
            1,
            0.9892623989831204,
            0.9510565162951535,
            0.9198947844453124,
            0.8090169943749475,
            0.7604814591221597,
            0.5877852522924731,
            0.5266269099942404,
            0.3090169943749474,
            0.2412224496906477,
            0,
            -0.06779454468429974,
            -0.3090169943749477,
            -0.37017533667318037,
            -0.5877852522924734,
            -0.6363207875452611,
            -0.8090169943749476,
            -0.8401787262247887,
            -0.9510565162951536,
            -0.9617941173120332,
            -1,
            null
           ],
           "z": [
            -1.1224489795918369,
            -1.1224489795918369,
            -1.1224489795918369,
            -1.1224489795918369,
            -1.1224489795918369,
            -1.1224489795918369,
            -1.1224489795918369,
            -1.1224489795918369,
            -1.1224489795918369,
            -1.1224489795918369,
            -1.1224489795918369,
            -1.1224489795918369,
            -1.1224489795918369,
            -1.1224489795918369,
            -1.1224489795918369,
            -1.1224489795918369,
            -1.1224489795918369,
            -1.1224489795918369,
            -1.1224489795918369,
            -1.1224489795918369,
            -1.1224489795918369,
            -1.1224489795918369,
            -1.1224489795918369,
            -1.1224489795918369,
            -1.1224489795918369,
            -1.1224489795918369,
            -1.1224489795918369,
            -1.1224489795918369,
            -1.1224489795918369,
            -1.1224489795918369,
            -1.1224489795918369,
            -1.1224489795918369,
            -1.1224489795918369,
            -1.1224489795918369,
            -1.1224489795918369,
            -1.1224489795918369,
            -1.1224489795918369,
            -1.1224489795918369,
            -1.1224489795918369,
            -1.1224489795918369,
            -1.1224489795918369,
            null
           ]
          }
         ],
         "name": "frame_12",
         "traces": [
          0,
          1
         ]
        },
        {
         "data": [
          {
           "color": "lightblue",
           "i": {
            "bdata": "AQECAgQEBQUGBgcHCAgJCQoKCwsMDA0NDg4PDxAQERESEhMTFBQVFRYWFxcYGBkZGhobGxwcHR0eHh8fICAhISIiIyMkJCUlJiYnJygoKSk=",
            "dtype": "i1"
           },
           "j": {
            "bdata": "AAQEBQAGBgcACAgJAAoKCwAMDA0ADg4PABAQEQASEhMAFBQVABYWFwAYGBkAGhobABwcHQAeHh8AICAhACIiIwAkJCUAJiYnACgoKQABAQI=",
            "dtype": "i1"
           },
           "k": {
            "bdata": "BAIFAwYFBwMIBwkDCgkLAwwLDQMODQ8DEA8RAxIREwMUExUDFhUXAxgXGQMaGRsDHBsdAx4dHwMgHyEDIiEjAyQjJQMmJScDKCcpAwEpAgM=",
            "dtype": "i1"
           },
           "name": "Mesh",
           "opacity": 0.3,
           "type": "mesh3d",
           "x": {
            "bdata": "AAAAAAAAAAAAAAAAAADwPwAAAAAAAPA/AAAAAAAAAAD/VEQTDm/uP/9URBMOb+4/qPSXm3fj6T+o9Jebd+PpP15adQQjz+I/Xlp1BCPP4j9Q6S8378bTP1DpLzfvxtM/B1wUMyamkTwHXBQzJqaRPE7pLzfvxtO/TukvN+/G079dWnUEI8/iv11adQQjz+K/p/SXm3fj6b+n9Jebd+Ppv/9URBMOb+6//1REEw5v7r8AAAAAAADwvwAAAAAAAPC/AFVEEw5v7r8AVUQTDm/uv6j0l5t34+m/qPSXm3fj6b9fWnUEI8/iv19adQQjz+K/UukvN+/G079S6S8378bTvwqKnkw5eaq8CoqeTDl5qrxM6S8378bTP0zpLzfvxtM/XFp1BCPP4j9cWnUEI8/iP6f0l5t34+k/p/SXm3fj6T//VEQTDm/uP/9URBMOb+4/",
            "dtype": "f8"
           },
           "y": {
            "bdata": "AAAAAAAAAAAAAAAAAAAAAAAAAAAAAAAAAAAAAAAAAABP6S8378bTP0/pLzfvxtM/Xlp1BCPP4j9eWnUEI8/iP6j0l5t34+k/qPSXm3fj6T//VEQTDm/uP/9URBMOb+4/AAAAAAAA8D8AAAAAAADwPwBVRBMOb+4/AFVEEw5v7j+o9Jebd+PpP6j0l5t34+k/X1p1BCPP4j9fWnUEI8/iP1HpLzfvxtM/UekvN+/G0z8HXBQzJqahPAdcFDMmpqE8TekvN+/G079N6S8378bTv11adQQjz+K/XVp1BCPP4r+n9Jebd+Ppv6f0l5t34+m//1REEw5v7r//VEQTDm/uvwAAAAAAAPC/AAAAAAAA8L8AVUQTDm/uvwBVRBMOb+6/qfSXm3fj6b+p9Jebd+Ppv2BadQQjz+K/YFp1BCPP4r9U6S8378bTv1TpLzfvxtO/",
            "dtype": "f8"
           },
           "z": {
            "bdata": "AAAAAAAAAMAAAAAAAAAAwAAAAAAAAABAAAAAAAAAAEAAAAAAAAAAwAAAAAAAAABAAAAAAAAAAMAAAAAAAAAAQAAAAAAAAADAAAAAAAAAAEAAAAAAAAAAwAAAAAAAAABAAAAAAAAAAMAAAAAAAAAAQAAAAAAAAADAAAAAAAAAAEAAAAAAAAAAwAAAAAAAAABAAAAAAAAAAMAAAAAAAAAAQAAAAAAAAADAAAAAAAAAAEAAAAAAAAAAwAAAAAAAAABAAAAAAAAAAMAAAAAAAAAAQAAAAAAAAADAAAAAAAAAAEAAAAAAAAAAwAAAAAAAAABAAAAAAAAAAMAAAAAAAAAAQAAAAAAAAADAAAAAAAAAAEAAAAAAAAAAwAAAAAAAAABAAAAAAAAAAMAAAAAAAAAAQAAAAAAAAADAAAAAAAAAAEAAAAAAAAAAwAAAAAAAAABA",
            "dtype": "f8"
           }
          },
          {
           "line": {
            "color": "red",
            "width": 5
           },
           "mode": "lines",
           "name": "Slice at z=-1.03",
           "type": "scatter3d",
           "x": [
            -1.8369701987210297e-16,
            -0.07473166088455371,
            -0.30901699437494756,
            -0.3764333996060226,
            -0.5877852522924732,
            -0.6412872144083369,
            -0.8090169943749475,
            -0.8433673685536095,
            -0.9510565162951536,
            -0.9628928485788767,
            -1,
            -0.988163667716277,
            -0.9510565162951535,
            -0.9167061421164915,
            -0.8090169943749473,
            -0.7555150322590837,
            -0.587785252292473,
            -0.520368847061398,
            -0.30901699437494734,
            -0.2342853334903938,
            6.123233995736766e-17,
            0.0747316608845536,
            0.30901699437494745,
            0.3764333996060225,
            0.5877852522924731,
            0.6412872144083368,
            0.8090169943749475,
            0.8433673685536095,
            0.9510565162951535,
            0.9628928485788766,
            1,
            0.988163667716277,
            0.9510565162951535,
            0.9167061421164915,
            0.8090169943749473,
            0.7555150322590837,
            0.5877852522924729,
            0.5203688470613979,
            0.30901699437494723,
            0.23428533349039365,
            -1.8369701987210297e-16,
            null
           ],
           "y": [
            -1,
            -0.988163667716277,
            -0.9510565162951535,
            -0.9167061421164915,
            -0.8090169943749473,
            -0.7555150322590837,
            -0.587785252292473,
            -0.520368847061398,
            -0.3090169943749473,
            -0.23428533349039374,
            1.2246467991473532e-16,
            0.07473166088455366,
            0.3090169943749475,
            0.37643339960602257,
            0.5877852522924732,
            0.6412872144083369,
            0.8090169943749475,
            0.8433673685536095,
            0.9510565162951536,
            0.9628928485788767,
            1,
            0.988163667716277,
            0.9510565162951535,
            0.9167061421164915,
            0.8090169943749475,
            0.7555150322590838,
            0.5877852522924731,
            0.5203688470613981,
            0.3090169943749474,
            0.23428533349039385,
            0,
            -0.0747316608845536,
            -0.3090169943749477,
            -0.37643339960602273,
            -0.5877852522924734,
            -0.641287214408337,
            -0.8090169943749476,
            -0.8433673685536096,
            -0.9510565162951536,
            -0.9628928485788767,
            -1,
            null
           ],
           "z": [
            -1.03265306122449,
            -1.0326530612244902,
            -1.03265306122449,
            -1.0326530612244902,
            -1.03265306122449,
            -1.0326530612244902,
            -1.03265306122449,
            -1.0326530612244902,
            -1.03265306122449,
            -1.0326530612244902,
            -1.03265306122449,
            -1.0326530612244902,
            -1.03265306122449,
            -1.0326530612244902,
            -1.03265306122449,
            -1.0326530612244902,
            -1.03265306122449,
            -1.0326530612244902,
            -1.03265306122449,
            -1.0326530612244902,
            -1.03265306122449,
            -1.0326530612244902,
            -1.03265306122449,
            -1.0326530612244902,
            -1.03265306122449,
            -1.0326530612244902,
            -1.03265306122449,
            -1.0326530612244902,
            -1.03265306122449,
            -1.0326530612244902,
            -1.0326530612244902,
            -1.0326530612244902,
            -1.03265306122449,
            -1.0326530612244902,
            -1.03265306122449,
            -1.0326530612244902,
            -1.03265306122449,
            -1.0326530612244902,
            -1.03265306122449,
            -1.0326530612244902,
            -1.03265306122449,
            null
           ]
          }
         ],
         "name": "frame_13",
         "traces": [
          0,
          1
         ]
        },
        {
         "data": [
          {
           "color": "lightblue",
           "i": {
            "bdata": "AQECAgQEBQUGBgcHCAgJCQoKCwsMDA0NDg4PDxAQERESEhMTFBQVFRYWFxcYGBkZGhobGxwcHR0eHh8fICAhISIiIyMkJCUlJiYnJygoKSk=",
            "dtype": "i1"
           },
           "j": {
            "bdata": "AAQEBQAGBgcACAgJAAoKCwAMDA0ADg4PABAQEQASEhMAFBQVABYWFwAYGBkAGhobABwcHQAeHh8AICAhACIiIwAkJCUAJiYnACgoKQABAQI=",
            "dtype": "i1"
           },
           "k": {
            "bdata": "BAIFAwYFBwMIBwkDCgkLAwwLDQMODQ8DEA8RAxIREwMUExUDFhUXAxgXGQMaGRsDHBsdAx4dHwMgHyEDIiEjAyQjJQMmJScDKCcpAwEpAgM=",
            "dtype": "i1"
           },
           "name": "Mesh",
           "opacity": 0.3,
           "type": "mesh3d",
           "x": {
            "bdata": "AAAAAAAAAAAAAAAAAADwPwAAAAAAAPA/AAAAAAAAAAD/VEQTDm/uP/9URBMOb+4/qPSXm3fj6T+o9Jebd+PpP15adQQjz+I/Xlp1BCPP4j9Q6S8378bTP1DpLzfvxtM/B1wUMyamkTwHXBQzJqaRPE7pLzfvxtO/TukvN+/G079dWnUEI8/iv11adQQjz+K/p/SXm3fj6b+n9Jebd+Ppv/9URBMOb+6//1REEw5v7r8AAAAAAADwvwAAAAAAAPC/AFVEEw5v7r8AVUQTDm/uv6j0l5t34+m/qPSXm3fj6b9fWnUEI8/iv19adQQjz+K/UukvN+/G079S6S8378bTvwqKnkw5eaq8CoqeTDl5qrxM6S8378bTP0zpLzfvxtM/XFp1BCPP4j9cWnUEI8/iP6f0l5t34+k/p/SXm3fj6T//VEQTDm/uP/9URBMOb+4/",
            "dtype": "f8"
           },
           "y": {
            "bdata": "AAAAAAAAAAAAAAAAAAAAAAAAAAAAAAAAAAAAAAAAAABP6S8378bTP0/pLzfvxtM/Xlp1BCPP4j9eWnUEI8/iP6j0l5t34+k/qPSXm3fj6T//VEQTDm/uP/9URBMOb+4/AAAAAAAA8D8AAAAAAADwPwBVRBMOb+4/AFVEEw5v7j+o9Jebd+PpP6j0l5t34+k/X1p1BCPP4j9fWnUEI8/iP1HpLzfvxtM/UekvN+/G0z8HXBQzJqahPAdcFDMmpqE8TekvN+/G079N6S8378bTv11adQQjz+K/XVp1BCPP4r+n9Jebd+Ppv6f0l5t34+m//1REEw5v7r//VEQTDm/uvwAAAAAAAPC/AAAAAAAA8L8AVUQTDm/uvwBVRBMOb+6/qfSXm3fj6b+p9Jebd+Ppv2BadQQjz+K/YFp1BCPP4r9U6S8378bTv1TpLzfvxtO/",
            "dtype": "f8"
           },
           "z": {
            "bdata": "AAAAAAAAAMAAAAAAAAAAwAAAAAAAAABAAAAAAAAAAEAAAAAAAAAAwAAAAAAAAABAAAAAAAAAAMAAAAAAAAAAQAAAAAAAAADAAAAAAAAAAEAAAAAAAAAAwAAAAAAAAABAAAAAAAAAAMAAAAAAAAAAQAAAAAAAAADAAAAAAAAAAEAAAAAAAAAAwAAAAAAAAABAAAAAAAAAAMAAAAAAAAAAQAAAAAAAAADAAAAAAAAAAEAAAAAAAAAAwAAAAAAAAABAAAAAAAAAAMAAAAAAAAAAQAAAAAAAAADAAAAAAAAAAEAAAAAAAAAAwAAAAAAAAABAAAAAAAAAAMAAAAAAAAAAQAAAAAAAAADAAAAAAAAAAEAAAAAAAAAAwAAAAAAAAABAAAAAAAAAAMAAAAAAAAAAQAAAAAAAAADAAAAAAAAAAEAAAAAAAAAAwAAAAAAAAABA",
            "dtype": "f8"
           }
          },
          {
           "line": {
            "color": "red",
            "width": 5
           },
           "mode": "lines",
           "name": "Slice at z=-0.94",
           "type": "scatter3d",
           "x": [
            -1.8369701987210297e-16,
            -0.08166877708480766,
            -0.30901699437494756,
            -0.38269146253886505,
            -0.5877852522924732,
            -0.6462536412714128,
            -0.8090169943749475,
            -0.8465560108824305,
            -0.9510565162951536,
            -0.9639915798457201,
            -1,
            -0.9870649364494335,
            -0.9510565162951535,
            -0.9135174997876705,
            -0.8090169943749473,
            -0.7505486053960078,
            -0.587785252292473,
            -0.5141107841285555,
            -0.30901699437494734,
            -0.22734821729013985,
            6.123233995736766e-17,
            0.08166877708480755,
            0.30901699437494745,
            0.38269146253886493,
            0.5877852522924731,
            0.6462536412714128,
            0.8090169943749475,
            0.8465560108824305,
            0.9510565162951535,
            0.9639915798457201,
            1,
            0.9870649364494335,
            0.9510565162951535,
            0.9135174997876705,
            0.8090169943749473,
            0.7505486053960077,
            0.5877852522924729,
            0.5141107841285555,
            0.30901699437494723,
            0.2273482172901397,
            -1.8369701987210297e-16,
            null
           ],
           "y": [
            -1,
            -0.9870649364494335,
            -0.9510565162951535,
            -0.9135174997876705,
            -0.8090169943749473,
            -0.7505486053960078,
            -0.587785252292473,
            -0.5141107841285555,
            -0.3090169943749473,
            -0.2273482172901398,
            1.2246467991473532e-16,
            0.0816687770848076,
            0.3090169943749475,
            0.382691462538865,
            0.5877852522924732,
            0.6462536412714128,
            0.8090169943749475,
            0.8465560108824305,
            0.9510565162951536,
            0.9639915798457201,
            1,
            0.9870649364494335,
            0.9510565162951535,
            0.9135174997876705,
            0.8090169943749475,
            0.7505486053960078,
            0.5877852522924731,
            0.5141107841285557,
            0.3090169943749474,
            0.2273482172901399,
            0,
            -0.08166877708480758,
            -0.3090169943749477,
            -0.38269146253886516,
            -0.5877852522924734,
            -0.6462536412714129,
            -0.8090169943749476,
            -0.8465560108824306,
            -0.9510565162951536,
            -0.9639915798457201,
            -1,
            null
           ],
           "z": [
            -0.9428571428571428,
            -0.9428571428571431,
            -0.9428571428571428,
            -0.9428571428571431,
            -0.9428571428571428,
            -0.9428571428571431,
            -0.9428571428571428,
            -0.9428571428571431,
            -0.9428571428571428,
            -0.9428571428571431,
            -0.9428571428571428,
            -0.9428571428571431,
            -0.9428571428571428,
            -0.9428571428571431,
            -0.9428571428571428,
            -0.9428571428571431,
            -0.9428571428571428,
            -0.9428571428571431,
            -0.9428571428571428,
            -0.9428571428571431,
            -0.9428571428571428,
            -0.9428571428571431,
            -0.9428571428571428,
            -0.9428571428571431,
            -0.9428571428571428,
            -0.9428571428571431,
            -0.9428571428571428,
            -0.9428571428571431,
            -0.9428571428571428,
            -0.9428571428571431,
            -0.9428571428571431,
            -0.9428571428571431,
            -0.9428571428571428,
            -0.9428571428571431,
            -0.9428571428571428,
            -0.9428571428571431,
            -0.9428571428571428,
            -0.9428571428571431,
            -0.9428571428571428,
            -0.9428571428571431,
            -0.9428571428571428,
            null
           ]
          }
         ],
         "name": "frame_14",
         "traces": [
          0,
          1
         ]
        },
        {
         "data": [
          {
           "color": "lightblue",
           "i": {
            "bdata": "AQECAgQEBQUGBgcHCAgJCQoKCwsMDA0NDg4PDxAQERESEhMTFBQVFRYWFxcYGBkZGhobGxwcHR0eHh8fICAhISIiIyMkJCUlJiYnJygoKSk=",
            "dtype": "i1"
           },
           "j": {
            "bdata": "AAQEBQAGBgcACAgJAAoKCwAMDA0ADg4PABAQEQASEhMAFBQVABYWFwAYGBkAGhobABwcHQAeHh8AICAhACIiIwAkJCUAJiYnACgoKQABAQI=",
            "dtype": "i1"
           },
           "k": {
            "bdata": "BAIFAwYFBwMIBwkDCgkLAwwLDQMODQ8DEA8RAxIREwMUExUDFhUXAxgXGQMaGRsDHBsdAx4dHwMgHyEDIiEjAyQjJQMmJScDKCcpAwEpAgM=",
            "dtype": "i1"
           },
           "name": "Mesh",
           "opacity": 0.3,
           "type": "mesh3d",
           "x": {
            "bdata": "AAAAAAAAAAAAAAAAAADwPwAAAAAAAPA/AAAAAAAAAAD/VEQTDm/uP/9URBMOb+4/qPSXm3fj6T+o9Jebd+PpP15adQQjz+I/Xlp1BCPP4j9Q6S8378bTP1DpLzfvxtM/B1wUMyamkTwHXBQzJqaRPE7pLzfvxtO/TukvN+/G079dWnUEI8/iv11adQQjz+K/p/SXm3fj6b+n9Jebd+Ppv/9URBMOb+6//1REEw5v7r8AAAAAAADwvwAAAAAAAPC/AFVEEw5v7r8AVUQTDm/uv6j0l5t34+m/qPSXm3fj6b9fWnUEI8/iv19adQQjz+K/UukvN+/G079S6S8378bTvwqKnkw5eaq8CoqeTDl5qrxM6S8378bTP0zpLzfvxtM/XFp1BCPP4j9cWnUEI8/iP6f0l5t34+k/p/SXm3fj6T//VEQTDm/uP/9URBMOb+4/",
            "dtype": "f8"
           },
           "y": {
            "bdata": "AAAAAAAAAAAAAAAAAAAAAAAAAAAAAAAAAAAAAAAAAABP6S8378bTP0/pLzfvxtM/Xlp1BCPP4j9eWnUEI8/iP6j0l5t34+k/qPSXm3fj6T//VEQTDm/uP/9URBMOb+4/AAAAAAAA8D8AAAAAAADwPwBVRBMOb+4/AFVEEw5v7j+o9Jebd+PpP6j0l5t34+k/X1p1BCPP4j9fWnUEI8/iP1HpLzfvxtM/UekvN+/G0z8HXBQzJqahPAdcFDMmpqE8TekvN+/G079N6S8378bTv11adQQjz+K/XVp1BCPP4r+n9Jebd+Ppv6f0l5t34+m//1REEw5v7r//VEQTDm/uvwAAAAAAAPC/AAAAAAAA8L8AVUQTDm/uvwBVRBMOb+6/qfSXm3fj6b+p9Jebd+Ppv2BadQQjz+K/YFp1BCPP4r9U6S8378bTv1TpLzfvxtO/",
            "dtype": "f8"
           },
           "z": {
            "bdata": "AAAAAAAAAMAAAAAAAAAAwAAAAAAAAABAAAAAAAAAAEAAAAAAAAAAwAAAAAAAAABAAAAAAAAAAMAAAAAAAAAAQAAAAAAAAADAAAAAAAAAAEAAAAAAAAAAwAAAAAAAAABAAAAAAAAAAMAAAAAAAAAAQAAAAAAAAADAAAAAAAAAAEAAAAAAAAAAwAAAAAAAAABAAAAAAAAAAMAAAAAAAAAAQAAAAAAAAADAAAAAAAAAAEAAAAAAAAAAwAAAAAAAAABAAAAAAAAAAMAAAAAAAAAAQAAAAAAAAADAAAAAAAAAAEAAAAAAAAAAwAAAAAAAAABAAAAAAAAAAMAAAAAAAAAAQAAAAAAAAADAAAAAAAAAAEAAAAAAAAAAwAAAAAAAAABAAAAAAAAAAMAAAAAAAAAAQAAAAAAAAADAAAAAAAAAAEAAAAAAAAAAwAAAAAAAAABA",
            "dtype": "f8"
           }
          },
          {
           "line": {
            "color": "red",
            "width": 5
           },
           "mode": "lines",
           "name": "Slice at z=-0.85",
           "type": "scatter3d",
           "x": [
            -1.8369701987210297e-16,
            -0.0886058932850616,
            -0.30901699437494756,
            -0.38894952547170747,
            -0.5877852522924732,
            -0.6512200681344888,
            -0.8090169943749475,
            -0.8497446532112515,
            -0.9510565162951536,
            -0.9650903111125637,
            -1,
            -0.9859662051825899,
            -0.9510565162951535,
            -0.9103288574588495,
            -0.8090169943749473,
            -0.7455821785329317,
            -0.587785252292473,
            -0.5078527211957131,
            -0.30901699437494734,
            -0.2204111010898859,
            6.123233995736766e-17,
            0.0886058932850615,
            0.30901699437494745,
            0.38894952547170736,
            0.5877852522924731,
            0.6512200681344887,
            0.8090169943749475,
            0.8497446532112515,
            0.9510565162951535,
            0.9650903111125636,
            1,
            0.9859662051825899,
            0.9510565162951535,
            0.9103288574588495,
            0.8090169943749473,
            0.7455821785329317,
            0.5877852522924729,
            0.507852721195713,
            0.30901699437494723,
            0.22041110108988576,
            -1.8369701987210297e-16,
            null
           ],
           "y": [
            -1,
            -0.9859662051825899,
            -0.9510565162951535,
            -0.9103288574588495,
            -0.8090169943749473,
            -0.7455821785329317,
            -0.587785252292473,
            -0.5078527211957131,
            -0.3090169943749473,
            -0.22041110108988585,
            1.2246467991473532e-16,
            0.08860589328506155,
            0.3090169943749475,
            0.38894952547170747,
            0.5877852522924732,
            0.6512200681344888,
            0.8090169943749475,
            0.8497446532112515,
            0.9510565162951536,
            0.9650903111125637,
            1,
            0.9859662051825899,
            0.9510565162951535,
            0.9103288574588495,
            0.8090169943749475,
            0.7455821785329318,
            0.5877852522924731,
            0.5078527211957132,
            0.3090169943749474,
            0.22041110108988596,
            0,
            -0.08860589328506152,
            -0.3090169943749477,
            -0.3889495254717076,
            -0.5877852522924734,
            -0.651220068134489,
            -0.8090169943749476,
            -0.8497446532112516,
            -0.9510565162951536,
            -0.9650903111125637,
            -1,
            null
           ],
           "z": [
            -0.8530612244897959,
            -0.8530612244897959,
            -0.8530612244897959,
            -0.8530612244897959,
            -0.8530612244897959,
            -0.8530612244897959,
            -0.8530612244897959,
            -0.8530612244897959,
            -0.8530612244897959,
            -0.8530612244897959,
            -0.8530612244897959,
            -0.8530612244897959,
            -0.8530612244897959,
            -0.8530612244897959,
            -0.8530612244897959,
            -0.8530612244897959,
            -0.8530612244897959,
            -0.8530612244897959,
            -0.8530612244897959,
            -0.8530612244897959,
            -0.8530612244897959,
            -0.8530612244897959,
            -0.8530612244897959,
            -0.8530612244897959,
            -0.8530612244897959,
            -0.8530612244897959,
            -0.8530612244897959,
            -0.8530612244897959,
            -0.8530612244897959,
            -0.8530612244897959,
            -0.8530612244897959,
            -0.8530612244897959,
            -0.8530612244897959,
            -0.8530612244897959,
            -0.8530612244897959,
            -0.8530612244897959,
            -0.8530612244897959,
            -0.8530612244897959,
            -0.8530612244897959,
            -0.8530612244897959,
            -0.8530612244897959,
            null
           ]
          }
         ],
         "name": "frame_15",
         "traces": [
          0,
          1
         ]
        },
        {
         "data": [
          {
           "color": "lightblue",
           "i": {
            "bdata": "AQECAgQEBQUGBgcHCAgJCQoKCwsMDA0NDg4PDxAQERESEhMTFBQVFRYWFxcYGBkZGhobGxwcHR0eHh8fICAhISIiIyMkJCUlJiYnJygoKSk=",
            "dtype": "i1"
           },
           "j": {
            "bdata": "AAQEBQAGBgcACAgJAAoKCwAMDA0ADg4PABAQEQASEhMAFBQVABYWFwAYGBkAGhobABwcHQAeHh8AICAhACIiIwAkJCUAJiYnACgoKQABAQI=",
            "dtype": "i1"
           },
           "k": {
            "bdata": "BAIFAwYFBwMIBwkDCgkLAwwLDQMODQ8DEA8RAxIREwMUExUDFhUXAxgXGQMaGRsDHBsdAx4dHwMgHyEDIiEjAyQjJQMmJScDKCcpAwEpAgM=",
            "dtype": "i1"
           },
           "name": "Mesh",
           "opacity": 0.3,
           "type": "mesh3d",
           "x": {
            "bdata": "AAAAAAAAAAAAAAAAAADwPwAAAAAAAPA/AAAAAAAAAAD/VEQTDm/uP/9URBMOb+4/qPSXm3fj6T+o9Jebd+PpP15adQQjz+I/Xlp1BCPP4j9Q6S8378bTP1DpLzfvxtM/B1wUMyamkTwHXBQzJqaRPE7pLzfvxtO/TukvN+/G079dWnUEI8/iv11adQQjz+K/p/SXm3fj6b+n9Jebd+Ppv/9URBMOb+6//1REEw5v7r8AAAAAAADwvwAAAAAAAPC/AFVEEw5v7r8AVUQTDm/uv6j0l5t34+m/qPSXm3fj6b9fWnUEI8/iv19adQQjz+K/UukvN+/G079S6S8378bTvwqKnkw5eaq8CoqeTDl5qrxM6S8378bTP0zpLzfvxtM/XFp1BCPP4j9cWnUEI8/iP6f0l5t34+k/p/SXm3fj6T//VEQTDm/uP/9URBMOb+4/",
            "dtype": "f8"
           },
           "y": {
            "bdata": "AAAAAAAAAAAAAAAAAAAAAAAAAAAAAAAAAAAAAAAAAABP6S8378bTP0/pLzfvxtM/Xlp1BCPP4j9eWnUEI8/iP6j0l5t34+k/qPSXm3fj6T//VEQTDm/uP/9URBMOb+4/AAAAAAAA8D8AAAAAAADwPwBVRBMOb+4/AFVEEw5v7j+o9Jebd+PpP6j0l5t34+k/X1p1BCPP4j9fWnUEI8/iP1HpLzfvxtM/UekvN+/G0z8HXBQzJqahPAdcFDMmpqE8TekvN+/G079N6S8378bTv11adQQjz+K/XVp1BCPP4r+n9Jebd+Ppv6f0l5t34+m//1REEw5v7r//VEQTDm/uvwAAAAAAAPC/AAAAAAAA8L8AVUQTDm/uvwBVRBMOb+6/qfSXm3fj6b+p9Jebd+Ppv2BadQQjz+K/YFp1BCPP4r9U6S8378bTv1TpLzfvxtO/",
            "dtype": "f8"
           },
           "z": {
            "bdata": "AAAAAAAAAMAAAAAAAAAAwAAAAAAAAABAAAAAAAAAAEAAAAAAAAAAwAAAAAAAAABAAAAAAAAAAMAAAAAAAAAAQAAAAAAAAADAAAAAAAAAAEAAAAAAAAAAwAAAAAAAAABAAAAAAAAAAMAAAAAAAAAAQAAAAAAAAADAAAAAAAAAAEAAAAAAAAAAwAAAAAAAAABAAAAAAAAAAMAAAAAAAAAAQAAAAAAAAADAAAAAAAAAAEAAAAAAAAAAwAAAAAAAAABAAAAAAAAAAMAAAAAAAAAAQAAAAAAAAADAAAAAAAAAAEAAAAAAAAAAwAAAAAAAAABAAAAAAAAAAMAAAAAAAAAAQAAAAAAAAADAAAAAAAAAAEAAAAAAAAAAwAAAAAAAAABAAAAAAAAAAMAAAAAAAAAAQAAAAAAAAADAAAAAAAAAAEAAAAAAAAAAwAAAAAAAAABA",
            "dtype": "f8"
           }
          },
          {
           "line": {
            "color": "red",
            "width": 5
           },
           "mode": "lines",
           "name": "Slice at z=-0.76",
           "type": "scatter3d",
           "x": [
            -1.8369701987210297e-16,
            -0.09554300948531555,
            -0.30901699437494756,
            -0.39520758840454995,
            -0.5877852522924732,
            -0.6561864949975648,
            -0.8090169943749475,
            -0.8529332955400725,
            -0.9510565162951536,
            -0.9661890423794072,
            -1,
            -0.9848674739157465,
            -0.9510565162951535,
            -0.9071402151300285,
            -0.8090169943749473,
            -0.7406157516698557,
            -0.587785252292473,
            -0.5015946582628706,
            -0.30901699437494734,
            -0.21347398488963196,
            6.123233995736766e-17,
            0.09554300948531544,
            0.30901699437494745,
            0.39520758840454984,
            0.5877852522924731,
            0.6561864949975647,
            0.8090169943749475,
            0.8529332955400724,
            0.9510565162951535,
            0.9661890423794071,
            1,
            0.9848674739157465,
            0.9510565162951535,
            0.9071402151300285,
            0.8090169943749473,
            0.7406157516698557,
            0.5877852522924729,
            0.5015946582628705,
            0.30901699437494723,
            0.21347398488963182,
            -1.8369701987210297e-16,
            null
           ],
           "y": [
            -1,
            -0.9848674739157465,
            -0.9510565162951535,
            -0.9071402151300285,
            -0.8090169943749473,
            -0.7406157516698557,
            -0.587785252292473,
            -0.5015946582628706,
            -0.3090169943749473,
            -0.2134739848896319,
            1.2246467991473532e-16,
            0.0955430094853155,
            0.3090169943749475,
            0.39520758840454984,
            0.5877852522924732,
            0.6561864949975648,
            0.8090169943749475,
            0.8529332955400725,
            0.9510565162951536,
            0.9661890423794072,
            1,
            0.9848674739157465,
            0.9510565162951535,
            0.9071402151300285,
            0.8090169943749475,
            0.7406157516698559,
            0.5877852522924731,
            0.5015946582628708,
            0.3090169943749474,
            0.213473984889632,
            0,
            -0.09554300948531547,
            -0.3090169943749477,
            -0.39520758840455006,
            -0.5877852522924734,
            -0.6561864949975649,
            -0.8090169943749476,
            -0.8529332955400726,
            -0.9510565162951536,
            -0.9661890423794072,
            -1,
            null
           ],
           "z": [
            -0.763265306122449,
            -0.7632653061224488,
            -0.763265306122449,
            -0.7632653061224488,
            -0.763265306122449,
            -0.7632653061224488,
            -0.763265306122449,
            -0.7632653061224488,
            -0.763265306122449,
            -0.7632653061224488,
            -0.763265306122449,
            -0.7632653061224488,
            -0.763265306122449,
            -0.7632653061224488,
            -0.763265306122449,
            -0.7632653061224488,
            -0.763265306122449,
            -0.7632653061224488,
            -0.763265306122449,
            -0.7632653061224488,
            -0.763265306122449,
            -0.7632653061224488,
            -0.763265306122449,
            -0.7632653061224488,
            -0.763265306122449,
            -0.7632653061224488,
            -0.763265306122449,
            -0.7632653061224488,
            -0.763265306122449,
            -0.7632653061224488,
            -0.7632653061224488,
            -0.7632653061224488,
            -0.763265306122449,
            -0.7632653061224488,
            -0.763265306122449,
            -0.7632653061224488,
            -0.763265306122449,
            -0.7632653061224488,
            -0.763265306122449,
            -0.7632653061224488,
            -0.763265306122449,
            null
           ]
          }
         ],
         "name": "frame_16",
         "traces": [
          0,
          1
         ]
        },
        {
         "data": [
          {
           "color": "lightblue",
           "i": {
            "bdata": "AQECAgQEBQUGBgcHCAgJCQoKCwsMDA0NDg4PDxAQERESEhMTFBQVFRYWFxcYGBkZGhobGxwcHR0eHh8fICAhISIiIyMkJCUlJiYnJygoKSk=",
            "dtype": "i1"
           },
           "j": {
            "bdata": "AAQEBQAGBgcACAgJAAoKCwAMDA0ADg4PABAQEQASEhMAFBQVABYWFwAYGBkAGhobABwcHQAeHh8AICAhACIiIwAkJCUAJiYnACgoKQABAQI=",
            "dtype": "i1"
           },
           "k": {
            "bdata": "BAIFAwYFBwMIBwkDCgkLAwwLDQMODQ8DEA8RAxIREwMUExUDFhUXAxgXGQMaGRsDHBsdAx4dHwMgHyEDIiEjAyQjJQMmJScDKCcpAwEpAgM=",
            "dtype": "i1"
           },
           "name": "Mesh",
           "opacity": 0.3,
           "type": "mesh3d",
           "x": {
            "bdata": "AAAAAAAAAAAAAAAAAADwPwAAAAAAAPA/AAAAAAAAAAD/VEQTDm/uP/9URBMOb+4/qPSXm3fj6T+o9Jebd+PpP15adQQjz+I/Xlp1BCPP4j9Q6S8378bTP1DpLzfvxtM/B1wUMyamkTwHXBQzJqaRPE7pLzfvxtO/TukvN+/G079dWnUEI8/iv11adQQjz+K/p/SXm3fj6b+n9Jebd+Ppv/9URBMOb+6//1REEw5v7r8AAAAAAADwvwAAAAAAAPC/AFVEEw5v7r8AVUQTDm/uv6j0l5t34+m/qPSXm3fj6b9fWnUEI8/iv19adQQjz+K/UukvN+/G079S6S8378bTvwqKnkw5eaq8CoqeTDl5qrxM6S8378bTP0zpLzfvxtM/XFp1BCPP4j9cWnUEI8/iP6f0l5t34+k/p/SXm3fj6T//VEQTDm/uP/9URBMOb+4/",
            "dtype": "f8"
           },
           "y": {
            "bdata": "AAAAAAAAAAAAAAAAAAAAAAAAAAAAAAAAAAAAAAAAAABP6S8378bTP0/pLzfvxtM/Xlp1BCPP4j9eWnUEI8/iP6j0l5t34+k/qPSXm3fj6T//VEQTDm/uP/9URBMOb+4/AAAAAAAA8D8AAAAAAADwPwBVRBMOb+4/AFVEEw5v7j+o9Jebd+PpP6j0l5t34+k/X1p1BCPP4j9fWnUEI8/iP1HpLzfvxtM/UekvN+/G0z8HXBQzJqahPAdcFDMmpqE8TekvN+/G079N6S8378bTv11adQQjz+K/XVp1BCPP4r+n9Jebd+Ppv6f0l5t34+m//1REEw5v7r//VEQTDm/uvwAAAAAAAPC/AAAAAAAA8L8AVUQTDm/uvwBVRBMOb+6/qfSXm3fj6b+p9Jebd+Ppv2BadQQjz+K/YFp1BCPP4r9U6S8378bTv1TpLzfvxtO/",
            "dtype": "f8"
           },
           "z": {
            "bdata": "AAAAAAAAAMAAAAAAAAAAwAAAAAAAAABAAAAAAAAAAEAAAAAAAAAAwAAAAAAAAABAAAAAAAAAAMAAAAAAAAAAQAAAAAAAAADAAAAAAAAAAEAAAAAAAAAAwAAAAAAAAABAAAAAAAAAAMAAAAAAAAAAQAAAAAAAAADAAAAAAAAAAEAAAAAAAAAAwAAAAAAAAABAAAAAAAAAAMAAAAAAAAAAQAAAAAAAAADAAAAAAAAAAEAAAAAAAAAAwAAAAAAAAABAAAAAAAAAAMAAAAAAAAAAQAAAAAAAAADAAAAAAAAAAEAAAAAAAAAAwAAAAAAAAABAAAAAAAAAAMAAAAAAAAAAQAAAAAAAAADAAAAAAAAAAEAAAAAAAAAAwAAAAAAAAABAAAAAAAAAAMAAAAAAAAAAQAAAAAAAAADAAAAAAAAAAEAAAAAAAAAAwAAAAAAAAABA",
            "dtype": "f8"
           }
          },
          {
           "line": {
            "color": "red",
            "width": 5
           },
           "mode": "lines",
           "name": "Slice at z=-0.67",
           "type": "scatter3d",
           "x": [
            -1.8369701987210297e-16,
            -0.10248012568556944,
            -0.30901699437494756,
            -0.4014656513373923,
            -0.5877852522924732,
            -0.6611529218606407,
            -0.8090169943749475,
            -0.8561219378688933,
            -0.9510565162951536,
            -0.9672877736462506,
            -1,
            -0.983768742648903,
            -0.9510565162951535,
            -0.9039515728012076,
            -0.8090169943749473,
            -0.7356493248067798,
            -0.587785252292473,
            -0.4953365953300283,
            -0.30901699437494734,
            -0.20653686868937807,
            6.123233995736766e-17,
            0.10248012568556933,
            0.30901699437494745,
            0.4014656513373922,
            0.5877852522924731,
            0.6611529218606407,
            0.8090169943749475,
            0.8561219378688933,
            0.9510565162951535,
            0.9672877736462506,
            1,
            0.983768742648903,
            0.9510565162951535,
            0.9039515728012076,
            0.8090169943749473,
            0.7356493248067798,
            0.5877852522924729,
            0.49533659533002816,
            0.30901699437494723,
            0.20653686868937793,
            -1.8369701987210297e-16,
            null
           ],
           "y": [
            -1,
            -0.983768742648903,
            -0.9510565162951535,
            -0.9039515728012076,
            -0.8090169943749473,
            -0.7356493248067798,
            -0.587785252292473,
            -0.4953365953300283,
            -0.3090169943749473,
            -0.206536868689378,
            1.2246467991473532e-16,
            0.10248012568556938,
            0.3090169943749475,
            0.40146565133739226,
            0.5877852522924732,
            0.6611529218606407,
            0.8090169943749475,
            0.8561219378688933,
            0.9510565162951536,
            0.9672877736462506,
            1,
            0.983768742648903,
            0.9510565162951535,
            0.9039515728012076,
            0.8090169943749475,
            0.7356493248067799,
            0.5877852522924731,
            0.4953365953300284,
            0.3090169943749474,
            0.20653686868937812,
            0,
            -0.10248012568556936,
            -0.3090169943749477,
            -0.4014656513373924,
            -0.5877852522924734,
            -0.6611529218606408,
            -0.8090169943749476,
            -0.8561219378688935,
            -0.9510565162951536,
            -0.9672877736462506,
            -1,
            null
           ],
           "z": [
            -0.6734693877551021,
            -0.6734693877551021,
            -0.6734693877551021,
            -0.6734693877551021,
            -0.6734693877551021,
            -0.6734693877551021,
            -0.6734693877551021,
            -0.6734693877551021,
            -0.6734693877551021,
            -0.6734693877551021,
            -0.6734693877551021,
            -0.6734693877551021,
            -0.6734693877551021,
            -0.6734693877551021,
            -0.6734693877551021,
            -0.6734693877551021,
            -0.6734693877551021,
            -0.6734693877551021,
            -0.6734693877551021,
            -0.6734693877551021,
            -0.6734693877551021,
            -0.6734693877551021,
            -0.6734693877551021,
            -0.6734693877551021,
            -0.6734693877551021,
            -0.6734693877551021,
            -0.6734693877551021,
            -0.6734693877551021,
            -0.6734693877551021,
            -0.6734693877551021,
            -0.6734693877551021,
            -0.6734693877551021,
            -0.6734693877551021,
            -0.6734693877551021,
            -0.6734693877551021,
            -0.6734693877551021,
            -0.6734693877551021,
            -0.6734693877551021,
            -0.6734693877551021,
            -0.6734693877551021,
            -0.6734693877551021,
            null
           ]
          }
         ],
         "name": "frame_17",
         "traces": [
          0,
          1
         ]
        },
        {
         "data": [
          {
           "color": "lightblue",
           "i": {
            "bdata": "AQECAgQEBQUGBgcHCAgJCQoKCwsMDA0NDg4PDxAQERESEhMTFBQVFRYWFxcYGBkZGhobGxwcHR0eHh8fICAhISIiIyMkJCUlJiYnJygoKSk=",
            "dtype": "i1"
           },
           "j": {
            "bdata": "AAQEBQAGBgcACAgJAAoKCwAMDA0ADg4PABAQEQASEhMAFBQVABYWFwAYGBkAGhobABwcHQAeHh8AICAhACIiIwAkJCUAJiYnACgoKQABAQI=",
            "dtype": "i1"
           },
           "k": {
            "bdata": "BAIFAwYFBwMIBwkDCgkLAwwLDQMODQ8DEA8RAxIREwMUExUDFhUXAxgXGQMaGRsDHBsdAx4dHwMgHyEDIiEjAyQjJQMmJScDKCcpAwEpAgM=",
            "dtype": "i1"
           },
           "name": "Mesh",
           "opacity": 0.3,
           "type": "mesh3d",
           "x": {
            "bdata": "AAAAAAAAAAAAAAAAAADwPwAAAAAAAPA/AAAAAAAAAAD/VEQTDm/uP/9URBMOb+4/qPSXm3fj6T+o9Jebd+PpP15adQQjz+I/Xlp1BCPP4j9Q6S8378bTP1DpLzfvxtM/B1wUMyamkTwHXBQzJqaRPE7pLzfvxtO/TukvN+/G079dWnUEI8/iv11adQQjz+K/p/SXm3fj6b+n9Jebd+Ppv/9URBMOb+6//1REEw5v7r8AAAAAAADwvwAAAAAAAPC/AFVEEw5v7r8AVUQTDm/uv6j0l5t34+m/qPSXm3fj6b9fWnUEI8/iv19adQQjz+K/UukvN+/G079S6S8378bTvwqKnkw5eaq8CoqeTDl5qrxM6S8378bTP0zpLzfvxtM/XFp1BCPP4j9cWnUEI8/iP6f0l5t34+k/p/SXm3fj6T//VEQTDm/uP/9URBMOb+4/",
            "dtype": "f8"
           },
           "y": {
            "bdata": "AAAAAAAAAAAAAAAAAAAAAAAAAAAAAAAAAAAAAAAAAABP6S8378bTP0/pLzfvxtM/Xlp1BCPP4j9eWnUEI8/iP6j0l5t34+k/qPSXm3fj6T//VEQTDm/uP/9URBMOb+4/AAAAAAAA8D8AAAAAAADwPwBVRBMOb+4/AFVEEw5v7j+o9Jebd+PpP6j0l5t34+k/X1p1BCPP4j9fWnUEI8/iP1HpLzfvxtM/UekvN+/G0z8HXBQzJqahPAdcFDMmpqE8TekvN+/G079N6S8378bTv11adQQjz+K/XVp1BCPP4r+n9Jebd+Ppv6f0l5t34+m//1REEw5v7r//VEQTDm/uvwAAAAAAAPC/AAAAAAAA8L8AVUQTDm/uvwBVRBMOb+6/qfSXm3fj6b+p9Jebd+Ppv2BadQQjz+K/YFp1BCPP4r9U6S8378bTv1TpLzfvxtO/",
            "dtype": "f8"
           },
           "z": {
            "bdata": "AAAAAAAAAMAAAAAAAAAAwAAAAAAAAABAAAAAAAAAAEAAAAAAAAAAwAAAAAAAAABAAAAAAAAAAMAAAAAAAAAAQAAAAAAAAADAAAAAAAAAAEAAAAAAAAAAwAAAAAAAAABAAAAAAAAAAMAAAAAAAAAAQAAAAAAAAADAAAAAAAAAAEAAAAAAAAAAwAAAAAAAAABAAAAAAAAAAMAAAAAAAAAAQAAAAAAAAADAAAAAAAAAAEAAAAAAAAAAwAAAAAAAAABAAAAAAAAAAMAAAAAAAAAAQAAAAAAAAADAAAAAAAAAAEAAAAAAAAAAwAAAAAAAAABAAAAAAAAAAMAAAAAAAAAAQAAAAAAAAADAAAAAAAAAAEAAAAAAAAAAwAAAAAAAAABAAAAAAAAAAMAAAAAAAAAAQAAAAAAAAADAAAAAAAAAAEAAAAAAAAAAwAAAAAAAAABA",
            "dtype": "f8"
           }
          },
          {
           "line": {
            "color": "red",
            "width": 5
           },
           "mode": "lines",
           "name": "Slice at z=-0.58",
           "type": "scatter3d",
           "x": [
            -1.8369701987210297e-16,
            -0.10941724188582333,
            -0.30901699437494756,
            -0.4077237142702347,
            -0.5877852522924732,
            -0.6661193487237167,
            -0.8090169943749475,
            -0.8593105801977143,
            -0.9510565162951536,
            -0.9683865049130942,
            -1,
            -0.9826700113820594,
            -0.9510565162951535,
            -0.9007629304723866,
            -0.8090169943749473,
            -0.7306828979437039,
            -0.587785252292473,
            -0.4890785323971859,
            -0.30901699437494734,
            -0.19959975248912418,
            6.123233995736766e-17,
            0.10941724188582322,
            0.30901699437494745,
            0.40772371427023457,
            0.5877852522924731,
            0.6661193487237166,
            0.8090169943749475,
            0.8593105801977143,
            0.9510565162951535,
            0.9683865049130941,
            1,
            0.9826700113820594,
            0.9510565162951535,
            0.9007629304723866,
            0.8090169943749473,
            0.7306828979437039,
            0.5877852522924729,
            0.4890785323971858,
            0.30901699437494723,
            0.19959975248912404,
            -1.8369701987210297e-16,
            null
           ],
           "y": [
            -1,
            -0.9826700113820594,
            -0.9510565162951535,
            -0.9007629304723866,
            -0.8090169943749473,
            -0.7306828979437039,
            -0.587785252292473,
            -0.4890785323971859,
            -0.3090169943749473,
            -0.19959975248912412,
            1.2246467991473532e-16,
            0.10941724188582327,
            0.3090169943749475,
            0.4077237142702347,
            0.5877852522924732,
            0.6661193487237167,
            0.8090169943749475,
            0.8593105801977143,
            0.9510565162951536,
            0.9683865049130942,
            1,
            0.9826700113820594,
            0.9510565162951535,
            0.9007629304723866,
            0.8090169943749475,
            0.730682897943704,
            0.5877852522924731,
            0.489078532397186,
            0.3090169943749474,
            0.19959975248912423,
            0,
            -0.10941724188582327,
            -0.3090169943749477,
            -0.4077237142702348,
            -0.5877852522924734,
            -0.6661193487237167,
            -0.8090169943749476,
            -0.8593105801977144,
            -0.9510565162951536,
            -0.9683865049130942,
            -1,
            null
           ],
           "z": [
            -0.5836734693877552,
            -0.5836734693877554,
            -0.5836734693877552,
            -0.5836734693877554,
            -0.5836734693877552,
            -0.5836734693877554,
            -0.5836734693877552,
            -0.5836734693877554,
            -0.5836734693877552,
            -0.5836734693877554,
            -0.5836734693877552,
            -0.5836734693877554,
            -0.5836734693877552,
            -0.5836734693877554,
            -0.5836734693877552,
            -0.5836734693877554,
            -0.5836734693877552,
            -0.5836734693877554,
            -0.5836734693877552,
            -0.5836734693877554,
            -0.5836734693877552,
            -0.5836734693877554,
            -0.5836734693877552,
            -0.5836734693877554,
            -0.5836734693877552,
            -0.5836734693877554,
            -0.5836734693877552,
            -0.5836734693877554,
            -0.5836734693877552,
            -0.5836734693877554,
            -0.5836734693877554,
            -0.5836734693877554,
            -0.5836734693877552,
            -0.5836734693877554,
            -0.5836734693877552,
            -0.5836734693877554,
            -0.5836734693877552,
            -0.5836734693877554,
            -0.5836734693877552,
            -0.5836734693877554,
            -0.5836734693877552,
            null
           ]
          }
         ],
         "name": "frame_18",
         "traces": [
          0,
          1
         ]
        },
        {
         "data": [
          {
           "color": "lightblue",
           "i": {
            "bdata": "AQECAgQEBQUGBgcHCAgJCQoKCwsMDA0NDg4PDxAQERESEhMTFBQVFRYWFxcYGBkZGhobGxwcHR0eHh8fICAhISIiIyMkJCUlJiYnJygoKSk=",
            "dtype": "i1"
           },
           "j": {
            "bdata": "AAQEBQAGBgcACAgJAAoKCwAMDA0ADg4PABAQEQASEhMAFBQVABYWFwAYGBkAGhobABwcHQAeHh8AICAhACIiIwAkJCUAJiYnACgoKQABAQI=",
            "dtype": "i1"
           },
           "k": {
            "bdata": "BAIFAwYFBwMIBwkDCgkLAwwLDQMODQ8DEA8RAxIREwMUExUDFhUXAxgXGQMaGRsDHBsdAx4dHwMgHyEDIiEjAyQjJQMmJScDKCcpAwEpAgM=",
            "dtype": "i1"
           },
           "name": "Mesh",
           "opacity": 0.3,
           "type": "mesh3d",
           "x": {
            "bdata": "AAAAAAAAAAAAAAAAAADwPwAAAAAAAPA/AAAAAAAAAAD/VEQTDm/uP/9URBMOb+4/qPSXm3fj6T+o9Jebd+PpP15adQQjz+I/Xlp1BCPP4j9Q6S8378bTP1DpLzfvxtM/B1wUMyamkTwHXBQzJqaRPE7pLzfvxtO/TukvN+/G079dWnUEI8/iv11adQQjz+K/p/SXm3fj6b+n9Jebd+Ppv/9URBMOb+6//1REEw5v7r8AAAAAAADwvwAAAAAAAPC/AFVEEw5v7r8AVUQTDm/uv6j0l5t34+m/qPSXm3fj6b9fWnUEI8/iv19adQQjz+K/UukvN+/G079S6S8378bTvwqKnkw5eaq8CoqeTDl5qrxM6S8378bTP0zpLzfvxtM/XFp1BCPP4j9cWnUEI8/iP6f0l5t34+k/p/SXm3fj6T//VEQTDm/uP/9URBMOb+4/",
            "dtype": "f8"
           },
           "y": {
            "bdata": "AAAAAAAAAAAAAAAAAAAAAAAAAAAAAAAAAAAAAAAAAABP6S8378bTP0/pLzfvxtM/Xlp1BCPP4j9eWnUEI8/iP6j0l5t34+k/qPSXm3fj6T//VEQTDm/uP/9URBMOb+4/AAAAAAAA8D8AAAAAAADwPwBVRBMOb+4/AFVEEw5v7j+o9Jebd+PpP6j0l5t34+k/X1p1BCPP4j9fWnUEI8/iP1HpLzfvxtM/UekvN+/G0z8HXBQzJqahPAdcFDMmpqE8TekvN+/G079N6S8378bTv11adQQjz+K/XVp1BCPP4r+n9Jebd+Ppv6f0l5t34+m//1REEw5v7r//VEQTDm/uvwAAAAAAAPC/AAAAAAAA8L8AVUQTDm/uvwBVRBMOb+6/qfSXm3fj6b+p9Jebd+Ppv2BadQQjz+K/YFp1BCPP4r9U6S8378bTv1TpLzfvxtO/",
            "dtype": "f8"
           },
           "z": {
            "bdata": "AAAAAAAAAMAAAAAAAAAAwAAAAAAAAABAAAAAAAAAAEAAAAAAAAAAwAAAAAAAAABAAAAAAAAAAMAAAAAAAAAAQAAAAAAAAADAAAAAAAAAAEAAAAAAAAAAwAAAAAAAAABAAAAAAAAAAMAAAAAAAAAAQAAAAAAAAADAAAAAAAAAAEAAAAAAAAAAwAAAAAAAAABAAAAAAAAAAMAAAAAAAAAAQAAAAAAAAADAAAAAAAAAAEAAAAAAAAAAwAAAAAAAAABAAAAAAAAAAMAAAAAAAAAAQAAAAAAAAADAAAAAAAAAAEAAAAAAAAAAwAAAAAAAAABAAAAAAAAAAMAAAAAAAAAAQAAAAAAAAADAAAAAAAAAAEAAAAAAAAAAwAAAAAAAAABAAAAAAAAAAMAAAAAAAAAAQAAAAAAAAADAAAAAAAAAAEAAAAAAAAAAwAAAAAAAAABA",
            "dtype": "f8"
           }
          },
          {
           "line": {
            "color": "red",
            "width": 5
           },
           "mode": "lines",
           "name": "Slice at z=-0.49",
           "type": "scatter3d",
           "x": [
            -1.8369701987210297e-16,
            -0.1163543580860773,
            -0.30901699437494756,
            -0.41398177720307716,
            -0.5877852522924732,
            -0.6710857755867926,
            -0.8090169943749475,
            -0.8624992225265353,
            -0.9510565162951536,
            -0.9694852361799376,
            -1,
            -0.981571280115216,
            -0.9510565162951535,
            -0.8975742881435657,
            -0.8090169943749473,
            -0.7257164710806279,
            -0.587785252292473,
            -0.4828204694643434,
            -0.30901699437494734,
            -0.1926626362888702,
            6.123233995736766e-17,
            0.11635435808607719,
            0.30901699437494745,
            0.41398177720307705,
            0.5877852522924731,
            0.6710857755867925,
            0.8090169943749475,
            0.8624992225265352,
            0.9510565162951535,
            0.9694852361799375,
            1,
            0.981571280115216,
            0.9510565162951535,
            0.8975742881435657,
            0.8090169943749473,
            0.7257164710806279,
            0.5877852522924729,
            0.4828204694643433,
            0.30901699437494723,
            0.19266263628887006,
            -1.8369701987210297e-16,
            null
           ],
           "y": [
            -1,
            -0.981571280115216,
            -0.9510565162951535,
            -0.8975742881435657,
            -0.8090169943749473,
            -0.7257164710806279,
            -0.587785252292473,
            -0.4828204694643434,
            -0.3090169943749473,
            -0.19266263628887015,
            1.2246467991473532e-16,
            0.11635435808607725,
            0.3090169943749475,
            0.41398177720307705,
            0.5877852522924732,
            0.6710857755867926,
            0.8090169943749475,
            0.8624992225265353,
            0.9510565162951536,
            0.9694852361799376,
            1,
            0.981571280115216,
            0.9510565162951535,
            0.8975742881435658,
            0.8090169943749475,
            0.7257164710806281,
            0.5877852522924731,
            0.48282046946434354,
            0.3090169943749474,
            0.19266263628887026,
            0,
            -0.11635435808607722,
            -0.3090169943749477,
            -0.4139817772030773,
            -0.5877852522924734,
            -0.6710857755867927,
            -0.8090169943749476,
            -0.8624992225265353,
            -0.9510565162951536,
            -0.9694852361799376,
            -1,
            null
           ],
           "z": [
            -0.4938775510204081,
            -0.4938775510204083,
            -0.4938775510204081,
            -0.4938775510204083,
            -0.4938775510204081,
            -0.4938775510204083,
            -0.4938775510204081,
            -0.4938775510204083,
            -0.4938775510204081,
            -0.4938775510204083,
            -0.4938775510204081,
            -0.4938775510204083,
            -0.4938775510204081,
            -0.4938775510204083,
            -0.4938775510204081,
            -0.4938775510204083,
            -0.4938775510204081,
            -0.4938775510204083,
            -0.4938775510204081,
            -0.4938775510204083,
            -0.4938775510204081,
            -0.4938775510204083,
            -0.4938775510204081,
            -0.4938775510204083,
            -0.4938775510204081,
            -0.4938775510204083,
            -0.4938775510204081,
            -0.4938775510204083,
            -0.4938775510204081,
            -0.4938775510204083,
            -0.4938775510204083,
            -0.4938775510204083,
            -0.4938775510204081,
            -0.4938775510204083,
            -0.4938775510204081,
            -0.4938775510204083,
            -0.4938775510204081,
            -0.4938775510204083,
            -0.4938775510204081,
            -0.4938775510204083,
            -0.4938775510204081,
            null
           ]
          }
         ],
         "name": "frame_19",
         "traces": [
          0,
          1
         ]
        },
        {
         "data": [
          {
           "color": "lightblue",
           "i": {
            "bdata": "AQECAgQEBQUGBgcHCAgJCQoKCwsMDA0NDg4PDxAQERESEhMTFBQVFRYWFxcYGBkZGhobGxwcHR0eHh8fICAhISIiIyMkJCUlJiYnJygoKSk=",
            "dtype": "i1"
           },
           "j": {
            "bdata": "AAQEBQAGBgcACAgJAAoKCwAMDA0ADg4PABAQEQASEhMAFBQVABYWFwAYGBkAGhobABwcHQAeHh8AICAhACIiIwAkJCUAJiYnACgoKQABAQI=",
            "dtype": "i1"
           },
           "k": {
            "bdata": "BAIFAwYFBwMIBwkDCgkLAwwLDQMODQ8DEA8RAxIREwMUExUDFhUXAxgXGQMaGRsDHBsdAx4dHwMgHyEDIiEjAyQjJQMmJScDKCcpAwEpAgM=",
            "dtype": "i1"
           },
           "name": "Mesh",
           "opacity": 0.3,
           "type": "mesh3d",
           "x": {
            "bdata": "AAAAAAAAAAAAAAAAAADwPwAAAAAAAPA/AAAAAAAAAAD/VEQTDm/uP/9URBMOb+4/qPSXm3fj6T+o9Jebd+PpP15adQQjz+I/Xlp1BCPP4j9Q6S8378bTP1DpLzfvxtM/B1wUMyamkTwHXBQzJqaRPE7pLzfvxtO/TukvN+/G079dWnUEI8/iv11adQQjz+K/p/SXm3fj6b+n9Jebd+Ppv/9URBMOb+6//1REEw5v7r8AAAAAAADwvwAAAAAAAPC/AFVEEw5v7r8AVUQTDm/uv6j0l5t34+m/qPSXm3fj6b9fWnUEI8/iv19adQQjz+K/UukvN+/G079S6S8378bTvwqKnkw5eaq8CoqeTDl5qrxM6S8378bTP0zpLzfvxtM/XFp1BCPP4j9cWnUEI8/iP6f0l5t34+k/p/SXm3fj6T//VEQTDm/uP/9URBMOb+4/",
            "dtype": "f8"
           },
           "y": {
            "bdata": "AAAAAAAAAAAAAAAAAAAAAAAAAAAAAAAAAAAAAAAAAABP6S8378bTP0/pLzfvxtM/Xlp1BCPP4j9eWnUEI8/iP6j0l5t34+k/qPSXm3fj6T//VEQTDm/uP/9URBMOb+4/AAAAAAAA8D8AAAAAAADwPwBVRBMOb+4/AFVEEw5v7j+o9Jebd+PpP6j0l5t34+k/X1p1BCPP4j9fWnUEI8/iP1HpLzfvxtM/UekvN+/G0z8HXBQzJqahPAdcFDMmpqE8TekvN+/G079N6S8378bTv11adQQjz+K/XVp1BCPP4r+n9Jebd+Ppv6f0l5t34+m//1REEw5v7r//VEQTDm/uvwAAAAAAAPC/AAAAAAAA8L8AVUQTDm/uvwBVRBMOb+6/qfSXm3fj6b+p9Jebd+Ppv2BadQQjz+K/YFp1BCPP4r9U6S8378bTv1TpLzfvxtO/",
            "dtype": "f8"
           },
           "z": {
            "bdata": "AAAAAAAAAMAAAAAAAAAAwAAAAAAAAABAAAAAAAAAAEAAAAAAAAAAwAAAAAAAAABAAAAAAAAAAMAAAAAAAAAAQAAAAAAAAADAAAAAAAAAAEAAAAAAAAAAwAAAAAAAAABAAAAAAAAAAMAAAAAAAAAAQAAAAAAAAADAAAAAAAAAAEAAAAAAAAAAwAAAAAAAAABAAAAAAAAAAMAAAAAAAAAAQAAAAAAAAADAAAAAAAAAAEAAAAAAAAAAwAAAAAAAAABAAAAAAAAAAMAAAAAAAAAAQAAAAAAAAADAAAAAAAAAAEAAAAAAAAAAwAAAAAAAAABAAAAAAAAAAMAAAAAAAAAAQAAAAAAAAADAAAAAAAAAAEAAAAAAAAAAwAAAAAAAAABAAAAAAAAAAMAAAAAAAAAAQAAAAAAAAADAAAAAAAAAAEAAAAAAAAAAwAAAAAAAAABA",
            "dtype": "f8"
           }
          },
          {
           "line": {
            "color": "red",
            "width": 5
           },
           "mode": "lines",
           "name": "Slice at z=-0.40",
           "type": "scatter3d",
           "x": [
            -1.8369701987210297e-16,
            -0.12329147428633119,
            -0.30901699437494756,
            -0.42023984013591953,
            -0.5877852522924732,
            -0.6760522024498685,
            -0.8090169943749475,
            -0.8656878648553562,
            -0.9510565162951536,
            -0.9705839674467811,
            -1,
            -0.9804725488483725,
            -0.9510565162951535,
            -0.8943856458147448,
            -0.8090169943749473,
            -0.720750044217552,
            -0.587785252292473,
            -0.47656240653150106,
            -0.30901699437494734,
            -0.1857255200886163,
            6.123233995736766e-17,
            0.12329147428633108,
            0.30901699437494745,
            0.4202398401359194,
            0.5877852522924731,
            0.6760522024498685,
            0.8090169943749475,
            0.8656878648553562,
            0.9510565162951535,
            0.9705839674467811,
            1,
            0.9804725488483725,
            0.9510565162951535,
            0.8943856458147448,
            0.8090169943749473,
            0.720750044217552,
            0.5877852522924729,
            0.47656240653150095,
            0.30901699437494723,
            0.18572552008861618,
            -1.8369701987210297e-16,
            null
           ],
           "y": [
            -1,
            -0.9804725488483725,
            -0.9510565162951535,
            -0.8943856458147448,
            -0.8090169943749473,
            -0.720750044217552,
            -0.587785252292473,
            -0.47656240653150106,
            -0.3090169943749473,
            -0.18572552008861626,
            1.2246467991473532e-16,
            0.12329147428633114,
            0.3090169943749475,
            0.42023984013591953,
            0.5877852522924732,
            0.6760522024498685,
            0.8090169943749475,
            0.8656878648553562,
            0.9510565162951536,
            0.9705839674467811,
            1,
            0.9804725488483725,
            0.9510565162951535,
            0.8943856458147448,
            0.8090169943749475,
            0.7207500442175521,
            0.5877852522924731,
            0.47656240653150117,
            0.3090169943749474,
            0.18572552008861637,
            0,
            -0.12329147428633114,
            -0.3090169943749477,
            -0.42023984013591964,
            -0.5877852522924734,
            -0.6760522024498687,
            -0.8090169943749476,
            -0.8656878648553563,
            -0.9510565162951536,
            -0.9705839674467811,
            -1,
            null
           ],
           "z": [
            -0.4040816326530612,
            -0.4040816326530612,
            -0.4040816326530612,
            -0.4040816326530612,
            -0.4040816326530612,
            -0.4040816326530612,
            -0.4040816326530612,
            -0.4040816326530612,
            -0.4040816326530612,
            -0.4040816326530612,
            -0.4040816326530612,
            -0.4040816326530612,
            -0.4040816326530612,
            -0.4040816326530612,
            -0.4040816326530612,
            -0.4040816326530612,
            -0.4040816326530612,
            -0.4040816326530612,
            -0.4040816326530612,
            -0.4040816326530612,
            -0.4040816326530612,
            -0.4040816326530612,
            -0.4040816326530612,
            -0.4040816326530612,
            -0.4040816326530612,
            -0.4040816326530612,
            -0.4040816326530612,
            -0.4040816326530612,
            -0.4040816326530612,
            -0.4040816326530612,
            -0.4040816326530612,
            -0.4040816326530612,
            -0.4040816326530612,
            -0.4040816326530612,
            -0.4040816326530612,
            -0.4040816326530612,
            -0.4040816326530612,
            -0.4040816326530612,
            -0.4040816326530612,
            -0.4040816326530612,
            -0.4040816326530612,
            null
           ]
          }
         ],
         "name": "frame_20",
         "traces": [
          0,
          1
         ]
        },
        {
         "data": [
          {
           "color": "lightblue",
           "i": {
            "bdata": "AQECAgQEBQUGBgcHCAgJCQoKCwsMDA0NDg4PDxAQERESEhMTFBQVFRYWFxcYGBkZGhobGxwcHR0eHh8fICAhISIiIyMkJCUlJiYnJygoKSk=",
            "dtype": "i1"
           },
           "j": {
            "bdata": "AAQEBQAGBgcACAgJAAoKCwAMDA0ADg4PABAQEQASEhMAFBQVABYWFwAYGBkAGhobABwcHQAeHh8AICAhACIiIwAkJCUAJiYnACgoKQABAQI=",
            "dtype": "i1"
           },
           "k": {
            "bdata": "BAIFAwYFBwMIBwkDCgkLAwwLDQMODQ8DEA8RAxIREwMUExUDFhUXAxgXGQMaGRsDHBsdAx4dHwMgHyEDIiEjAyQjJQMmJScDKCcpAwEpAgM=",
            "dtype": "i1"
           },
           "name": "Mesh",
           "opacity": 0.3,
           "type": "mesh3d",
           "x": {
            "bdata": "AAAAAAAAAAAAAAAAAADwPwAAAAAAAPA/AAAAAAAAAAD/VEQTDm/uP/9URBMOb+4/qPSXm3fj6T+o9Jebd+PpP15adQQjz+I/Xlp1BCPP4j9Q6S8378bTP1DpLzfvxtM/B1wUMyamkTwHXBQzJqaRPE7pLzfvxtO/TukvN+/G079dWnUEI8/iv11adQQjz+K/p/SXm3fj6b+n9Jebd+Ppv/9URBMOb+6//1REEw5v7r8AAAAAAADwvwAAAAAAAPC/AFVEEw5v7r8AVUQTDm/uv6j0l5t34+m/qPSXm3fj6b9fWnUEI8/iv19adQQjz+K/UukvN+/G079S6S8378bTvwqKnkw5eaq8CoqeTDl5qrxM6S8378bTP0zpLzfvxtM/XFp1BCPP4j9cWnUEI8/iP6f0l5t34+k/p/SXm3fj6T//VEQTDm/uP/9URBMOb+4/",
            "dtype": "f8"
           },
           "y": {
            "bdata": "AAAAAAAAAAAAAAAAAAAAAAAAAAAAAAAAAAAAAAAAAABP6S8378bTP0/pLzfvxtM/Xlp1BCPP4j9eWnUEI8/iP6j0l5t34+k/qPSXm3fj6T//VEQTDm/uP/9URBMOb+4/AAAAAAAA8D8AAAAAAADwPwBVRBMOb+4/AFVEEw5v7j+o9Jebd+PpP6j0l5t34+k/X1p1BCPP4j9fWnUEI8/iP1HpLzfvxtM/UekvN+/G0z8HXBQzJqahPAdcFDMmpqE8TekvN+/G079N6S8378bTv11adQQjz+K/XVp1BCPP4r+n9Jebd+Ppv6f0l5t34+m//1REEw5v7r//VEQTDm/uvwAAAAAAAPC/AAAAAAAA8L8AVUQTDm/uvwBVRBMOb+6/qfSXm3fj6b+p9Jebd+Ppv2BadQQjz+K/YFp1BCPP4r9U6S8378bTv1TpLzfvxtO/",
            "dtype": "f8"
           },
           "z": {
            "bdata": "AAAAAAAAAMAAAAAAAAAAwAAAAAAAAABAAAAAAAAAAEAAAAAAAAAAwAAAAAAAAABAAAAAAAAAAMAAAAAAAAAAQAAAAAAAAADAAAAAAAAAAEAAAAAAAAAAwAAAAAAAAABAAAAAAAAAAMAAAAAAAAAAQAAAAAAAAADAAAAAAAAAAEAAAAAAAAAAwAAAAAAAAABAAAAAAAAAAMAAAAAAAAAAQAAAAAAAAADAAAAAAAAAAEAAAAAAAAAAwAAAAAAAAABAAAAAAAAAAMAAAAAAAAAAQAAAAAAAAADAAAAAAAAAAEAAAAAAAAAAwAAAAAAAAABAAAAAAAAAAMAAAAAAAAAAQAAAAAAAAADAAAAAAAAAAEAAAAAAAAAAwAAAAAAAAABAAAAAAAAAAMAAAAAAAAAAQAAAAAAAAADAAAAAAAAAAEAAAAAAAAAAwAAAAAAAAABA",
            "dtype": "f8"
           }
          },
          {
           "line": {
            "color": "red",
            "width": 5
           },
           "mode": "lines",
           "name": "Slice at z=-0.31",
           "type": "scatter3d",
           "x": [
            -1.8369701987210297e-16,
            -0.13022859048658514,
            -0.30901699437494756,
            -0.42649790306876195,
            -0.5877852522924732,
            -0.6810186293129445,
            -0.8090169943749475,
            -0.8688765071841772,
            -0.9510565162951536,
            -0.9716826987136246,
            -1,
            -0.979373817581529,
            -0.9510565162951535,
            -0.8911970034859238,
            -0.8090169943749473,
            -0.715783617354476,
            -0.587785252292473,
            -0.47030434359865864,
            -0.30901699437494734,
            -0.17878840388836237,
            6.123233995736766e-17,
            0.13022859048658503,
            0.30901699437494745,
            0.42649790306876184,
            0.5877852522924731,
            0.6810186293129444,
            0.8090169943749475,
            0.8688765071841772,
            0.9510565162951535,
            0.9716826987136246,
            1,
            0.979373817581529,
            0.9510565162951535,
            0.8911970034859238,
            0.8090169943749473,
            0.7157836173544759,
            0.5877852522924729,
            0.4703043435986585,
            0.30901699437494723,
            0.17878840388836223,
            -1.8369701987210297e-16,
            null
           ],
           "y": [
            -1,
            -0.979373817581529,
            -0.9510565162951535,
            -0.8911970034859238,
            -0.8090169943749473,
            -0.715783617354476,
            -0.587785252292473,
            -0.4703043435986586,
            -0.3090169943749473,
            -0.1787884038883623,
            1.2246467991473532e-16,
            0.13022859048658508,
            0.3090169943749475,
            0.4264979030687619,
            0.5877852522924732,
            0.6810186293129445,
            0.8090169943749475,
            0.8688765071841772,
            0.9510565162951536,
            0.9716826987136246,
            1,
            0.979373817581529,
            0.9510565162951535,
            0.8911970034859238,
            0.8090169943749475,
            0.7157836173544762,
            0.5877852522924731,
            0.4703043435986587,
            0.3090169943749474,
            0.17878840388836242,
            0,
            -0.1302285904865851,
            -0.3090169943749477,
            -0.42649790306876206,
            -0.5877852522924734,
            -0.6810186293129447,
            -0.8090169943749476,
            -0.8688765071841773,
            -0.9510565162951536,
            -0.9716826987136246,
            -1,
            null
           ],
           "z": [
            -0.3142857142857143,
            -0.31428571428571406,
            -0.3142857142857143,
            -0.31428571428571406,
            -0.3142857142857143,
            -0.31428571428571406,
            -0.3142857142857143,
            -0.31428571428571406,
            -0.3142857142857143,
            -0.31428571428571406,
            -0.3142857142857143,
            -0.31428571428571406,
            -0.3142857142857143,
            -0.31428571428571406,
            -0.3142857142857143,
            -0.31428571428571406,
            -0.3142857142857143,
            -0.31428571428571406,
            -0.3142857142857143,
            -0.31428571428571406,
            -0.3142857142857143,
            -0.31428571428571406,
            -0.3142857142857143,
            -0.31428571428571406,
            -0.3142857142857143,
            -0.31428571428571406,
            -0.3142857142857143,
            -0.31428571428571406,
            -0.3142857142857143,
            -0.31428571428571406,
            -0.31428571428571406,
            -0.31428571428571406,
            -0.3142857142857143,
            -0.31428571428571406,
            -0.3142857142857143,
            -0.31428571428571406,
            -0.3142857142857143,
            -0.31428571428571406,
            -0.3142857142857143,
            -0.31428571428571406,
            -0.3142857142857143,
            null
           ]
          }
         ],
         "name": "frame_21",
         "traces": [
          0,
          1
         ]
        },
        {
         "data": [
          {
           "color": "lightblue",
           "i": {
            "bdata": "AQECAgQEBQUGBgcHCAgJCQoKCwsMDA0NDg4PDxAQERESEhMTFBQVFRYWFxcYGBkZGhobGxwcHR0eHh8fICAhISIiIyMkJCUlJiYnJygoKSk=",
            "dtype": "i1"
           },
           "j": {
            "bdata": "AAQEBQAGBgcACAgJAAoKCwAMDA0ADg4PABAQEQASEhMAFBQVABYWFwAYGBkAGhobABwcHQAeHh8AICAhACIiIwAkJCUAJiYnACgoKQABAQI=",
            "dtype": "i1"
           },
           "k": {
            "bdata": "BAIFAwYFBwMIBwkDCgkLAwwLDQMODQ8DEA8RAxIREwMUExUDFhUXAxgXGQMaGRsDHBsdAx4dHwMgHyEDIiEjAyQjJQMmJScDKCcpAwEpAgM=",
            "dtype": "i1"
           },
           "name": "Mesh",
           "opacity": 0.3,
           "type": "mesh3d",
           "x": {
            "bdata": "AAAAAAAAAAAAAAAAAADwPwAAAAAAAPA/AAAAAAAAAAD/VEQTDm/uP/9URBMOb+4/qPSXm3fj6T+o9Jebd+PpP15adQQjz+I/Xlp1BCPP4j9Q6S8378bTP1DpLzfvxtM/B1wUMyamkTwHXBQzJqaRPE7pLzfvxtO/TukvN+/G079dWnUEI8/iv11adQQjz+K/p/SXm3fj6b+n9Jebd+Ppv/9URBMOb+6//1REEw5v7r8AAAAAAADwvwAAAAAAAPC/AFVEEw5v7r8AVUQTDm/uv6j0l5t34+m/qPSXm3fj6b9fWnUEI8/iv19adQQjz+K/UukvN+/G079S6S8378bTvwqKnkw5eaq8CoqeTDl5qrxM6S8378bTP0zpLzfvxtM/XFp1BCPP4j9cWnUEI8/iP6f0l5t34+k/p/SXm3fj6T//VEQTDm/uP/9URBMOb+4/",
            "dtype": "f8"
           },
           "y": {
            "bdata": "AAAAAAAAAAAAAAAAAAAAAAAAAAAAAAAAAAAAAAAAAABP6S8378bTP0/pLzfvxtM/Xlp1BCPP4j9eWnUEI8/iP6j0l5t34+k/qPSXm3fj6T//VEQTDm/uP/9URBMOb+4/AAAAAAAA8D8AAAAAAADwPwBVRBMOb+4/AFVEEw5v7j+o9Jebd+PpP6j0l5t34+k/X1p1BCPP4j9fWnUEI8/iP1HpLzfvxtM/UekvN+/G0z8HXBQzJqahPAdcFDMmpqE8TekvN+/G079N6S8378bTv11adQQjz+K/XVp1BCPP4r+n9Jebd+Ppv6f0l5t34+m//1REEw5v7r//VEQTDm/uvwAAAAAAAPC/AAAAAAAA8L8AVUQTDm/uvwBVRBMOb+6/qfSXm3fj6b+p9Jebd+Ppv2BadQQjz+K/YFp1BCPP4r9U6S8378bTv1TpLzfvxtO/",
            "dtype": "f8"
           },
           "z": {
            "bdata": "AAAAAAAAAMAAAAAAAAAAwAAAAAAAAABAAAAAAAAAAEAAAAAAAAAAwAAAAAAAAABAAAAAAAAAAMAAAAAAAAAAQAAAAAAAAADAAAAAAAAAAEAAAAAAAAAAwAAAAAAAAABAAAAAAAAAAMAAAAAAAAAAQAAAAAAAAADAAAAAAAAAAEAAAAAAAAAAwAAAAAAAAABAAAAAAAAAAMAAAAAAAAAAQAAAAAAAAADAAAAAAAAAAEAAAAAAAAAAwAAAAAAAAABAAAAAAAAAAMAAAAAAAAAAQAAAAAAAAADAAAAAAAAAAEAAAAAAAAAAwAAAAAAAAABAAAAAAAAAAMAAAAAAAAAAQAAAAAAAAADAAAAAAAAAAEAAAAAAAAAAwAAAAAAAAABAAAAAAAAAAMAAAAAAAAAAQAAAAAAAAADAAAAAAAAAAEAAAAAAAAAAwAAAAAAAAABA",
            "dtype": "f8"
           }
          },
          {
           "line": {
            "color": "red",
            "width": 5
           },
           "mode": "lines",
           "name": "Slice at z=-0.22",
           "type": "scatter3d",
           "x": [
            -1.8369701987210297e-16,
            -0.13716570668683906,
            -0.30901699437494756,
            -0.4327559660016044,
            -0.5877852522924732,
            -0.6859850561760205,
            -0.8090169943749475,
            -0.8720651495129982,
            -0.9510565162951536,
            -0.9727814299804681,
            -1,
            -0.9782750863146855,
            -0.9510565162951535,
            -0.8880083611571028,
            -0.8090169943749473,
            -0.7108171904914,
            -0.587785252292473,
            -0.4640462806658162,
            -0.30901699437494734,
            -0.17185128768810845,
            6.123233995736766e-17,
            0.13716570668683895,
            0.30901699437494745,
            0.43275596600160426,
            0.5877852522924731,
            0.6859850561760205,
            0.8090169943749475,
            0.8720651495129981,
            0.9510565162951535,
            0.972781429980468,
            1,
            0.9782750863146855,
            0.9510565162951535,
            0.8880083611571028,
            0.8090169943749473,
            0.7108171904914,
            0.5877852522924729,
            0.4640462806658161,
            0.30901699437494723,
            0.1718512876881083,
            -1.8369701987210297e-16,
            null
           ],
           "y": [
            -1,
            -0.9782750863146855,
            -0.9510565162951535,
            -0.8880083611571028,
            -0.8090169943749473,
            -0.7108171904914,
            -0.587785252292473,
            -0.4640462806658162,
            -0.3090169943749473,
            -0.1718512876881084,
            1.2246467991473532e-16,
            0.137165706686839,
            0.3090169943749475,
            0.4327559660016044,
            0.5877852522924732,
            0.6859850561760205,
            0.8090169943749475,
            0.8720651495129982,
            0.9510565162951536,
            0.9727814299804681,
            1,
            0.9782750863146855,
            0.9510565162951535,
            0.8880083611571029,
            0.8090169943749475,
            0.7108171904914001,
            0.5877852522924731,
            0.4640462806658163,
            0.3090169943749474,
            0.1718512876881085,
            0,
            -0.13716570668683903,
            -0.3090169943749477,
            -0.4327559660016045,
            -0.5877852522924734,
            -0.6859850561760206,
            -0.8090169943749476,
            -0.8720651495129982,
            -0.9510565162951536,
            -0.9727814299804681,
            -1,
            null
           ],
           "z": [
            -0.22448979591836737,
            -0.22448979591836737,
            -0.22448979591836737,
            -0.22448979591836737,
            -0.22448979591836737,
            -0.22448979591836737,
            -0.22448979591836737,
            -0.22448979591836737,
            -0.22448979591836737,
            -0.22448979591836737,
            -0.22448979591836737,
            -0.22448979591836737,
            -0.22448979591836737,
            -0.22448979591836737,
            -0.22448979591836737,
            -0.22448979591836737,
            -0.22448979591836737,
            -0.22448979591836737,
            -0.22448979591836737,
            -0.22448979591836737,
            -0.22448979591836737,
            -0.22448979591836737,
            -0.22448979591836737,
            -0.22448979591836737,
            -0.22448979591836737,
            -0.22448979591836737,
            -0.22448979591836737,
            -0.22448979591836737,
            -0.22448979591836737,
            -0.22448979591836737,
            -0.22448979591836737,
            -0.22448979591836737,
            -0.22448979591836737,
            -0.22448979591836737,
            -0.22448979591836737,
            -0.22448979591836737,
            -0.22448979591836737,
            -0.22448979591836737,
            -0.22448979591836737,
            -0.22448979591836737,
            -0.22448979591836737,
            null
           ]
          }
         ],
         "name": "frame_22",
         "traces": [
          0,
          1
         ]
        },
        {
         "data": [
          {
           "color": "lightblue",
           "i": {
            "bdata": "AQECAgQEBQUGBgcHCAgJCQoKCwsMDA0NDg4PDxAQERESEhMTFBQVFRYWFxcYGBkZGhobGxwcHR0eHh8fICAhISIiIyMkJCUlJiYnJygoKSk=",
            "dtype": "i1"
           },
           "j": {
            "bdata": "AAQEBQAGBgcACAgJAAoKCwAMDA0ADg4PABAQEQASEhMAFBQVABYWFwAYGBkAGhobABwcHQAeHh8AICAhACIiIwAkJCUAJiYnACgoKQABAQI=",
            "dtype": "i1"
           },
           "k": {
            "bdata": "BAIFAwYFBwMIBwkDCgkLAwwLDQMODQ8DEA8RAxIREwMUExUDFhUXAxgXGQMaGRsDHBsdAx4dHwMgHyEDIiEjAyQjJQMmJScDKCcpAwEpAgM=",
            "dtype": "i1"
           },
           "name": "Mesh",
           "opacity": 0.3,
           "type": "mesh3d",
           "x": {
            "bdata": "AAAAAAAAAAAAAAAAAADwPwAAAAAAAPA/AAAAAAAAAAD/VEQTDm/uP/9URBMOb+4/qPSXm3fj6T+o9Jebd+PpP15adQQjz+I/Xlp1BCPP4j9Q6S8378bTP1DpLzfvxtM/B1wUMyamkTwHXBQzJqaRPE7pLzfvxtO/TukvN+/G079dWnUEI8/iv11adQQjz+K/p/SXm3fj6b+n9Jebd+Ppv/9URBMOb+6//1REEw5v7r8AAAAAAADwvwAAAAAAAPC/AFVEEw5v7r8AVUQTDm/uv6j0l5t34+m/qPSXm3fj6b9fWnUEI8/iv19adQQjz+K/UukvN+/G079S6S8378bTvwqKnkw5eaq8CoqeTDl5qrxM6S8378bTP0zpLzfvxtM/XFp1BCPP4j9cWnUEI8/iP6f0l5t34+k/p/SXm3fj6T//VEQTDm/uP/9URBMOb+4/",
            "dtype": "f8"
           },
           "y": {
            "bdata": "AAAAAAAAAAAAAAAAAAAAAAAAAAAAAAAAAAAAAAAAAABP6S8378bTP0/pLzfvxtM/Xlp1BCPP4j9eWnUEI8/iP6j0l5t34+k/qPSXm3fj6T//VEQTDm/uP/9URBMOb+4/AAAAAAAA8D8AAAAAAADwPwBVRBMOb+4/AFVEEw5v7j+o9Jebd+PpP6j0l5t34+k/X1p1BCPP4j9fWnUEI8/iP1HpLzfvxtM/UekvN+/G0z8HXBQzJqahPAdcFDMmpqE8TekvN+/G079N6S8378bTv11adQQjz+K/XVp1BCPP4r+n9Jebd+Ppv6f0l5t34+m//1REEw5v7r//VEQTDm/uvwAAAAAAAPC/AAAAAAAA8L8AVUQTDm/uvwBVRBMOb+6/qfSXm3fj6b+p9Jebd+Ppv2BadQQjz+K/YFp1BCPP4r9U6S8378bTv1TpLzfvxtO/",
            "dtype": "f8"
           },
           "z": {
            "bdata": "AAAAAAAAAMAAAAAAAAAAwAAAAAAAAABAAAAAAAAAAEAAAAAAAAAAwAAAAAAAAABAAAAAAAAAAMAAAAAAAAAAQAAAAAAAAADAAAAAAAAAAEAAAAAAAAAAwAAAAAAAAABAAAAAAAAAAMAAAAAAAAAAQAAAAAAAAADAAAAAAAAAAEAAAAAAAAAAwAAAAAAAAABAAAAAAAAAAMAAAAAAAAAAQAAAAAAAAADAAAAAAAAAAEAAAAAAAAAAwAAAAAAAAABAAAAAAAAAAMAAAAAAAAAAQAAAAAAAAADAAAAAAAAAAEAAAAAAAAAAwAAAAAAAAABAAAAAAAAAAMAAAAAAAAAAQAAAAAAAAADAAAAAAAAAAEAAAAAAAAAAwAAAAAAAAABAAAAAAAAAAMAAAAAAAAAAQAAAAAAAAADAAAAAAAAAAEAAAAAAAAAAwAAAAAAAAABA",
            "dtype": "f8"
           }
          },
          {
           "line": {
            "color": "red",
            "width": 5
           },
           "mode": "lines",
           "name": "Slice at z=-0.13",
           "type": "scatter3d",
           "x": [
            -1.8369701987210297e-16,
            -0.14410282288709297,
            -0.30901699437494756,
            -0.43901402893444674,
            -0.5877852522924732,
            -0.6909514830390964,
            -0.8090169943749475,
            -0.8752537918418191,
            -0.9510565162951536,
            -0.9738801612473116,
            -1,
            -0.9771763550478421,
            -0.9510565162951535,
            -0.8848197188282818,
            -0.8090169943749473,
            -0.7058507636283241,
            -0.587785252292473,
            -0.45778821773297385,
            -0.30901699437494734,
            -0.16491417148785453,
            6.123233995736766e-17,
            0.14410282288709286,
            0.30901699437494745,
            0.43901402893444663,
            0.5877852522924731,
            0.6909514830390964,
            0.8090169943749475,
            0.8752537918418191,
            0.9510565162951535,
            0.9738801612473116,
            1,
            0.9771763550478421,
            0.9510565162951535,
            0.8848197188282818,
            0.8090169943749473,
            0.7058507636283241,
            0.5877852522924729,
            0.45778821773297373,
            0.30901699437494723,
            0.1649141714878544,
            -1.8369701987210297e-16,
            null
           ],
           "y": [
            -1,
            -0.9771763550478421,
            -0.9510565162951535,
            -0.8848197188282818,
            -0.8090169943749473,
            -0.7058507636283241,
            -0.587785252292473,
            -0.4577882177329738,
            -0.3090169943749473,
            -0.16491417148785448,
            1.2246467991473532e-16,
            0.14410282288709292,
            0.3090169943749475,
            0.43901402893444674,
            0.5877852522924732,
            0.6909514830390964,
            0.8090169943749475,
            0.8752537918418191,
            0.9510565162951536,
            0.9738801612473116,
            1,
            0.9771763550478421,
            0.9510565162951535,
            0.8848197188282819,
            0.8090169943749475,
            0.7058507636283242,
            0.5877852522924731,
            0.4577882177329739,
            0.3090169943749474,
            0.1649141714878546,
            0,
            -0.14410282288709295,
            -0.3090169943749477,
            -0.43901402893444685,
            -0.5877852522924734,
            -0.6909514830390966,
            -0.8090169943749476,
            -0.8752537918418192,
            -0.9510565162951536,
            -0.9738801612473116,
            -1,
            null
           ],
           "z": [
            -0.13469387755102025,
            -0.13469387755102025,
            -0.13469387755102025,
            -0.13469387755102025,
            -0.13469387755102025,
            -0.13469387755102025,
            -0.13469387755102025,
            -0.13469387755102025,
            -0.13469387755102025,
            -0.13469387755102025,
            -0.13469387755102025,
            -0.13469387755102025,
            -0.13469387755102025,
            -0.13469387755102025,
            -0.13469387755102025,
            -0.13469387755102025,
            -0.13469387755102025,
            -0.13469387755102025,
            -0.13469387755102025,
            -0.13469387755102025,
            -0.13469387755102025,
            -0.13469387755102025,
            -0.13469387755102025,
            -0.13469387755102025,
            -0.13469387755102025,
            -0.13469387755102025,
            -0.13469387755102025,
            -0.13469387755102025,
            -0.13469387755102025,
            -0.13469387755102025,
            -0.13469387755102025,
            -0.13469387755102025,
            -0.13469387755102025,
            -0.13469387755102025,
            -0.13469387755102025,
            -0.13469387755102025,
            -0.13469387755102025,
            -0.13469387755102025,
            -0.13469387755102025,
            -0.13469387755102025,
            -0.13469387755102025,
            null
           ]
          }
         ],
         "name": "frame_23",
         "traces": [
          0,
          1
         ]
        },
        {
         "data": [
          {
           "color": "lightblue",
           "i": {
            "bdata": "AQECAgQEBQUGBgcHCAgJCQoKCwsMDA0NDg4PDxAQERESEhMTFBQVFRYWFxcYGBkZGhobGxwcHR0eHh8fICAhISIiIyMkJCUlJiYnJygoKSk=",
            "dtype": "i1"
           },
           "j": {
            "bdata": "AAQEBQAGBgcACAgJAAoKCwAMDA0ADg4PABAQEQASEhMAFBQVABYWFwAYGBkAGhobABwcHQAeHh8AICAhACIiIwAkJCUAJiYnACgoKQABAQI=",
            "dtype": "i1"
           },
           "k": {
            "bdata": "BAIFAwYFBwMIBwkDCgkLAwwLDQMODQ8DEA8RAxIREwMUExUDFhUXAxgXGQMaGRsDHBsdAx4dHwMgHyEDIiEjAyQjJQMmJScDKCcpAwEpAgM=",
            "dtype": "i1"
           },
           "name": "Mesh",
           "opacity": 0.3,
           "type": "mesh3d",
           "x": {
            "bdata": "AAAAAAAAAAAAAAAAAADwPwAAAAAAAPA/AAAAAAAAAAD/VEQTDm/uP/9URBMOb+4/qPSXm3fj6T+o9Jebd+PpP15adQQjz+I/Xlp1BCPP4j9Q6S8378bTP1DpLzfvxtM/B1wUMyamkTwHXBQzJqaRPE7pLzfvxtO/TukvN+/G079dWnUEI8/iv11adQQjz+K/p/SXm3fj6b+n9Jebd+Ppv/9URBMOb+6//1REEw5v7r8AAAAAAADwvwAAAAAAAPC/AFVEEw5v7r8AVUQTDm/uv6j0l5t34+m/qPSXm3fj6b9fWnUEI8/iv19adQQjz+K/UukvN+/G079S6S8378bTvwqKnkw5eaq8CoqeTDl5qrxM6S8378bTP0zpLzfvxtM/XFp1BCPP4j9cWnUEI8/iP6f0l5t34+k/p/SXm3fj6T//VEQTDm/uP/9URBMOb+4/",
            "dtype": "f8"
           },
           "y": {
            "bdata": "AAAAAAAAAAAAAAAAAAAAAAAAAAAAAAAAAAAAAAAAAABP6S8378bTP0/pLzfvxtM/Xlp1BCPP4j9eWnUEI8/iP6j0l5t34+k/qPSXm3fj6T//VEQTDm/uP/9URBMOb+4/AAAAAAAA8D8AAAAAAADwPwBVRBMOb+4/AFVEEw5v7j+o9Jebd+PpP6j0l5t34+k/X1p1BCPP4j9fWnUEI8/iP1HpLzfvxtM/UekvN+/G0z8HXBQzJqahPAdcFDMmpqE8TekvN+/G079N6S8378bTv11adQQjz+K/XVp1BCPP4r+n9Jebd+Ppv6f0l5t34+m//1REEw5v7r//VEQTDm/uvwAAAAAAAPC/AAAAAAAA8L8AVUQTDm/uvwBVRBMOb+6/qfSXm3fj6b+p9Jebd+Ppv2BadQQjz+K/YFp1BCPP4r9U6S8378bTv1TpLzfvxtO/",
            "dtype": "f8"
           },
           "z": {
            "bdata": "AAAAAAAAAMAAAAAAAAAAwAAAAAAAAABAAAAAAAAAAEAAAAAAAAAAwAAAAAAAAABAAAAAAAAAAMAAAAAAAAAAQAAAAAAAAADAAAAAAAAAAEAAAAAAAAAAwAAAAAAAAABAAAAAAAAAAMAAAAAAAAAAQAAAAAAAAADAAAAAAAAAAEAAAAAAAAAAwAAAAAAAAABAAAAAAAAAAMAAAAAAAAAAQAAAAAAAAADAAAAAAAAAAEAAAAAAAAAAwAAAAAAAAABAAAAAAAAAAMAAAAAAAAAAQAAAAAAAAADAAAAAAAAAAEAAAAAAAAAAwAAAAAAAAABAAAAAAAAAAMAAAAAAAAAAQAAAAAAAAADAAAAAAAAAAEAAAAAAAAAAwAAAAAAAAABAAAAAAAAAAMAAAAAAAAAAQAAAAAAAAADAAAAAAAAAAEAAAAAAAAAAwAAAAAAAAABA",
            "dtype": "f8"
           }
          },
          {
           "line": {
            "color": "red",
            "width": 5
           },
           "mode": "lines",
           "name": "Slice at z=-0.04",
           "type": "scatter3d",
           "x": [
            -1.8369701987210297e-16,
            -0.1510399390873469,
            -0.30901699437494756,
            -0.4452720918672892,
            -0.5877852522924732,
            -0.6959179099021724,
            -0.8090169943749475,
            -0.87844243417064,
            -0.9510565162951536,
            -0.974978892514155,
            -1,
            -0.9760776237809985,
            -0.9510565162951535,
            -0.8816310764994609,
            -0.8090169943749473,
            -0.7008843367652482,
            -0.587785252292473,
            -0.45153015480013137,
            -0.30901699437494734,
            -0.15797705528760062,
            6.123233995736766e-17,
            0.15103993908734678,
            0.30901699437494745,
            0.4452720918672891,
            0.5877852522924731,
            0.6959179099021723,
            0.8090169943749475,
            0.87844243417064,
            0.9510565162951535,
            0.974978892514155,
            1,
            0.9760776237809985,
            0.9510565162951535,
            0.8816310764994609,
            0.8090169943749473,
            0.7008843367652481,
            0.5877852522924729,
            0.45153015480013126,
            0.30901699437494723,
            0.15797705528760048,
            -1.8369701987210297e-16,
            null
           ],
           "y": [
            -1,
            -0.9760776237809985,
            -0.9510565162951535,
            -0.8816310764994609,
            -0.8090169943749473,
            -0.7008843367652482,
            -0.587785252292473,
            -0.45153015480013137,
            -0.3090169943749473,
            -0.15797705528760056,
            1.2246467991473532e-16,
            0.15103993908734684,
            0.3090169943749475,
            0.44527209186728917,
            0.5877852522924732,
            0.6959179099021724,
            0.8090169943749475,
            0.87844243417064,
            0.9510565162951536,
            0.974978892514155,
            1,
            0.9760776237809985,
            0.9510565162951535,
            0.8816310764994609,
            0.8090169943749475,
            0.7008843367652483,
            0.5877852522924731,
            0.4515301548001315,
            0.3090169943749474,
            0.15797705528760067,
            0,
            -0.15103993908734686,
            -0.3090169943749477,
            -0.44527209186728933,
            -0.5877852522924734,
            -0.6959179099021725,
            -0.8090169943749476,
            -0.8784424341706402,
            -0.9510565162951536,
            -0.974978892514155,
            -1,
            null
           ],
           "z": [
            -0.044897959183673564,
            -0.044897959183673564,
            -0.044897959183673564,
            -0.044897959183673564,
            -0.044897959183673564,
            -0.044897959183673564,
            -0.044897959183673564,
            -0.044897959183673564,
            -0.044897959183673564,
            -0.044897959183673564,
            -0.044897959183673564,
            -0.044897959183673564,
            -0.044897959183673564,
            -0.044897959183673564,
            -0.044897959183673564,
            -0.044897959183673564,
            -0.044897959183673564,
            -0.044897959183673564,
            -0.044897959183673564,
            -0.044897959183673564,
            -0.044897959183673564,
            -0.044897959183673564,
            -0.044897959183673564,
            -0.044897959183673564,
            -0.044897959183673564,
            -0.044897959183673564,
            -0.044897959183673564,
            -0.044897959183673564,
            -0.044897959183673564,
            -0.044897959183673564,
            -0.044897959183673564,
            -0.044897959183673564,
            -0.044897959183673564,
            -0.044897959183673564,
            -0.044897959183673564,
            -0.044897959183673564,
            -0.044897959183673564,
            -0.044897959183673564,
            -0.044897959183673564,
            -0.044897959183673564,
            -0.044897959183673564,
            null
           ]
          }
         ],
         "name": "frame_24",
         "traces": [
          0,
          1
         ]
        },
        {
         "data": [
          {
           "color": "lightblue",
           "i": {
            "bdata": "AQECAgQEBQUGBgcHCAgJCQoKCwsMDA0NDg4PDxAQERESEhMTFBQVFRYWFxcYGBkZGhobGxwcHR0eHh8fICAhISIiIyMkJCUlJiYnJygoKSk=",
            "dtype": "i1"
           },
           "j": {
            "bdata": "AAQEBQAGBgcACAgJAAoKCwAMDA0ADg4PABAQEQASEhMAFBQVABYWFwAYGBkAGhobABwcHQAeHh8AICAhACIiIwAkJCUAJiYnACgoKQABAQI=",
            "dtype": "i1"
           },
           "k": {
            "bdata": "BAIFAwYFBwMIBwkDCgkLAwwLDQMODQ8DEA8RAxIREwMUExUDFhUXAxgXGQMaGRsDHBsdAx4dHwMgHyEDIiEjAyQjJQMmJScDKCcpAwEpAgM=",
            "dtype": "i1"
           },
           "name": "Mesh",
           "opacity": 0.3,
           "type": "mesh3d",
           "x": {
            "bdata": "AAAAAAAAAAAAAAAAAADwPwAAAAAAAPA/AAAAAAAAAAD/VEQTDm/uP/9URBMOb+4/qPSXm3fj6T+o9Jebd+PpP15adQQjz+I/Xlp1BCPP4j9Q6S8378bTP1DpLzfvxtM/B1wUMyamkTwHXBQzJqaRPE7pLzfvxtO/TukvN+/G079dWnUEI8/iv11adQQjz+K/p/SXm3fj6b+n9Jebd+Ppv/9URBMOb+6//1REEw5v7r8AAAAAAADwvwAAAAAAAPC/AFVEEw5v7r8AVUQTDm/uv6j0l5t34+m/qPSXm3fj6b9fWnUEI8/iv19adQQjz+K/UukvN+/G079S6S8378bTvwqKnkw5eaq8CoqeTDl5qrxM6S8378bTP0zpLzfvxtM/XFp1BCPP4j9cWnUEI8/iP6f0l5t34+k/p/SXm3fj6T//VEQTDm/uP/9URBMOb+4/",
            "dtype": "f8"
           },
           "y": {
            "bdata": "AAAAAAAAAAAAAAAAAAAAAAAAAAAAAAAAAAAAAAAAAABP6S8378bTP0/pLzfvxtM/Xlp1BCPP4j9eWnUEI8/iP6j0l5t34+k/qPSXm3fj6T//VEQTDm/uP/9URBMOb+4/AAAAAAAA8D8AAAAAAADwPwBVRBMOb+4/AFVEEw5v7j+o9Jebd+PpP6j0l5t34+k/X1p1BCPP4j9fWnUEI8/iP1HpLzfvxtM/UekvN+/G0z8HXBQzJqahPAdcFDMmpqE8TekvN+/G079N6S8378bTv11adQQjz+K/XVp1BCPP4r+n9Jebd+Ppv6f0l5t34+m//1REEw5v7r//VEQTDm/uvwAAAAAAAPC/AAAAAAAA8L8AVUQTDm/uvwBVRBMOb+6/qfSXm3fj6b+p9Jebd+Ppv2BadQQjz+K/YFp1BCPP4r9U6S8378bTv1TpLzfvxtO/",
            "dtype": "f8"
           },
           "z": {
            "bdata": "AAAAAAAAAMAAAAAAAAAAwAAAAAAAAABAAAAAAAAAAEAAAAAAAAAAwAAAAAAAAABAAAAAAAAAAMAAAAAAAAAAQAAAAAAAAADAAAAAAAAAAEAAAAAAAAAAwAAAAAAAAABAAAAAAAAAAMAAAAAAAAAAQAAAAAAAAADAAAAAAAAAAEAAAAAAAAAAwAAAAAAAAABAAAAAAAAAAMAAAAAAAAAAQAAAAAAAAADAAAAAAAAAAEAAAAAAAAAAwAAAAAAAAABAAAAAAAAAAMAAAAAAAAAAQAAAAAAAAADAAAAAAAAAAEAAAAAAAAAAwAAAAAAAAABAAAAAAAAAAMAAAAAAAAAAQAAAAAAAAADAAAAAAAAAAEAAAAAAAAAAwAAAAAAAAABAAAAAAAAAAMAAAAAAAAAAQAAAAAAAAADAAAAAAAAAAEAAAAAAAAAAwAAAAAAAAABA",
            "dtype": "f8"
           }
          },
          {
           "line": {
            "color": "red",
            "width": 5
           },
           "mode": "lines",
           "name": "Slice at z=0.04",
           "type": "scatter3d",
           "x": [
            -1.8369701987210297e-16,
            0.15103993908734653,
            0.30901699437494723,
            0.4452720918672889,
            0.5877852522924729,
            0.6959179099021722,
            0.8090169943749473,
            0.8784424341706399,
            0.9510565162951535,
            0.974978892514155,
            1,
            0.9760776237809985,
            0.9510565162951535,
            0.8816310764994609,
            0.8090169943749475,
            0.7008843367652483,
            0.5877852522924731,
            0.4515301548001315,
            0.30901699437494745,
            0.15797705528760073,
            6.123233995736766e-17,
            -0.15103993908734667,
            -0.30901699437494734,
            -0.445272091867289,
            -0.587785252292473,
            -0.6959179099021722,
            -0.8090169943749473,
            -0.8784424341706399,
            -0.9510565162951535,
            -0.974978892514155,
            -1,
            -0.9760776237809986,
            -0.9510565162951536,
            -0.881631076499461,
            -0.8090169943749475,
            -0.7008843367652483,
            -0.5877852522924732,
            -0.4515301548001316,
            -0.30901699437494756,
            -0.15797705528760084,
            -1.8369701987210297e-16,
            null
           ],
           "y": [
            -1,
            -0.9760776237809986,
            -0.9510565162951536,
            -0.881631076499461,
            -0.8090169943749476,
            -0.7008843367652484,
            -0.5877852522924734,
            -0.4515301548001317,
            -0.3090169943749477,
            -0.1579770552876008,
            0,
            0.15103993908734673,
            0.3090169943749474,
            0.44527209186728905,
            0.5877852522924731,
            0.6959179099021723,
            0.8090169943749475,
            0.87844243417064,
            0.9510565162951535,
            0.974978892514155,
            1,
            0.9760776237809986,
            0.9510565162951536,
            0.881631076499461,
            0.8090169943749475,
            0.7008843367652483,
            0.5877852522924732,
            0.4515301548001316,
            0.3090169943749475,
            0.15797705528760078,
            1.2246467991473532e-16,
            -0.15103993908734661,
            -0.3090169943749473,
            -0.44527209186728894,
            -0.587785252292473,
            -0.6959179099021722,
            -0.8090169943749473,
            -0.8784424341706399,
            -0.9510565162951535,
            -0.974978892514155,
            -1,
            null
           ],
           "z": [
            0.044897959183673564,
            0.044897959183673564,
            0.044897959183673564,
            0.044897959183673564,
            0.044897959183673564,
            0.044897959183673564,
            0.044897959183673564,
            0.044897959183673564,
            0.044897959183673564,
            0.044897959183673564,
            0.044897959183673564,
            0.044897959183673564,
            0.044897959183673564,
            0.044897959183673564,
            0.044897959183673564,
            0.044897959183673564,
            0.044897959183673564,
            0.044897959183673564,
            0.044897959183673564,
            0.044897959183673564,
            0.044897959183673564,
            0.044897959183673564,
            0.044897959183673564,
            0.044897959183673564,
            0.044897959183673564,
            0.044897959183673564,
            0.044897959183673564,
            0.044897959183673564,
            0.044897959183673564,
            0.044897959183673564,
            0.044897959183673564,
            0.044897959183673564,
            0.044897959183673564,
            0.044897959183673564,
            0.044897959183673564,
            0.044897959183673564,
            0.044897959183673564,
            0.044897959183673564,
            0.044897959183673564,
            0.044897959183673564,
            0.044897959183673564,
            null
           ]
          }
         ],
         "name": "frame_25",
         "traces": [
          0,
          1
         ]
        },
        {
         "data": [
          {
           "color": "lightblue",
           "i": {
            "bdata": "AQECAgQEBQUGBgcHCAgJCQoKCwsMDA0NDg4PDxAQERESEhMTFBQVFRYWFxcYGBkZGhobGxwcHR0eHh8fICAhISIiIyMkJCUlJiYnJygoKSk=",
            "dtype": "i1"
           },
           "j": {
            "bdata": "AAQEBQAGBgcACAgJAAoKCwAMDA0ADg4PABAQEQASEhMAFBQVABYWFwAYGBkAGhobABwcHQAeHh8AICAhACIiIwAkJCUAJiYnACgoKQABAQI=",
            "dtype": "i1"
           },
           "k": {
            "bdata": "BAIFAwYFBwMIBwkDCgkLAwwLDQMODQ8DEA8RAxIREwMUExUDFhUXAxgXGQMaGRsDHBsdAx4dHwMgHyEDIiEjAyQjJQMmJScDKCcpAwEpAgM=",
            "dtype": "i1"
           },
           "name": "Mesh",
           "opacity": 0.3,
           "type": "mesh3d",
           "x": {
            "bdata": "AAAAAAAAAAAAAAAAAADwPwAAAAAAAPA/AAAAAAAAAAD/VEQTDm/uP/9URBMOb+4/qPSXm3fj6T+o9Jebd+PpP15adQQjz+I/Xlp1BCPP4j9Q6S8378bTP1DpLzfvxtM/B1wUMyamkTwHXBQzJqaRPE7pLzfvxtO/TukvN+/G079dWnUEI8/iv11adQQjz+K/p/SXm3fj6b+n9Jebd+Ppv/9URBMOb+6//1REEw5v7r8AAAAAAADwvwAAAAAAAPC/AFVEEw5v7r8AVUQTDm/uv6j0l5t34+m/qPSXm3fj6b9fWnUEI8/iv19adQQjz+K/UukvN+/G079S6S8378bTvwqKnkw5eaq8CoqeTDl5qrxM6S8378bTP0zpLzfvxtM/XFp1BCPP4j9cWnUEI8/iP6f0l5t34+k/p/SXm3fj6T//VEQTDm/uP/9URBMOb+4/",
            "dtype": "f8"
           },
           "y": {
            "bdata": "AAAAAAAAAAAAAAAAAAAAAAAAAAAAAAAAAAAAAAAAAABP6S8378bTP0/pLzfvxtM/Xlp1BCPP4j9eWnUEI8/iP6j0l5t34+k/qPSXm3fj6T//VEQTDm/uP/9URBMOb+4/AAAAAAAA8D8AAAAAAADwPwBVRBMOb+4/AFVEEw5v7j+o9Jebd+PpP6j0l5t34+k/X1p1BCPP4j9fWnUEI8/iP1HpLzfvxtM/UekvN+/G0z8HXBQzJqahPAdcFDMmpqE8TekvN+/G079N6S8378bTv11adQQjz+K/XVp1BCPP4r+n9Jebd+Ppv6f0l5t34+m//1REEw5v7r//VEQTDm/uvwAAAAAAAPC/AAAAAAAA8L8AVUQTDm/uvwBVRBMOb+6/qfSXm3fj6b+p9Jebd+Ppv2BadQQjz+K/YFp1BCPP4r9U6S8378bTv1TpLzfvxtO/",
            "dtype": "f8"
           },
           "z": {
            "bdata": "AAAAAAAAAMAAAAAAAAAAwAAAAAAAAABAAAAAAAAAAEAAAAAAAAAAwAAAAAAAAABAAAAAAAAAAMAAAAAAAAAAQAAAAAAAAADAAAAAAAAAAEAAAAAAAAAAwAAAAAAAAABAAAAAAAAAAMAAAAAAAAAAQAAAAAAAAADAAAAAAAAAAEAAAAAAAAAAwAAAAAAAAABAAAAAAAAAAMAAAAAAAAAAQAAAAAAAAADAAAAAAAAAAEAAAAAAAAAAwAAAAAAAAABAAAAAAAAAAMAAAAAAAAAAQAAAAAAAAADAAAAAAAAAAEAAAAAAAAAAwAAAAAAAAABAAAAAAAAAAMAAAAAAAAAAQAAAAAAAAADAAAAAAAAAAEAAAAAAAAAAwAAAAAAAAABAAAAAAAAAAMAAAAAAAAAAQAAAAAAAAADAAAAAAAAAAEAAAAAAAAAAwAAAAAAAAABA",
            "dtype": "f8"
           }
          },
          {
           "line": {
            "color": "red",
            "width": 5
           },
           "mode": "lines",
           "name": "Slice at z=0.13",
           "type": "scatter3d",
           "x": [
            -1.8369701987210297e-16,
            0.14410282288709264,
            0.30901699437494723,
            0.43901402893444647,
            0.5877852522924729,
            0.6909514830390961,
            0.8090169943749473,
            0.8752537918418191,
            0.9510565162951535,
            0.9738801612473116,
            1,
            0.977176355047842,
            0.9510565162951535,
            0.8848197188282819,
            0.8090169943749475,
            0.7058507636283242,
            0.5877852522924731,
            0.4577882177329739,
            0.30901699437494745,
            0.16491417148785462,
            6.123233995736766e-17,
            -0.14410282288709278,
            -0.30901699437494734,
            -0.4390140289344466,
            -0.587785252292473,
            -0.6909514830390963,
            -0.8090169943749473,
            -0.8752537918418191,
            -0.9510565162951535,
            -0.9738801612473116,
            -1,
            -0.9771763550478421,
            -0.9510565162951536,
            -0.884819718828282,
            -0.8090169943749475,
            -0.7058507636283242,
            -0.5877852522924732,
            -0.457788217732974,
            -0.30901699437494756,
            -0.16491417148785473,
            -1.8369701987210297e-16,
            null
           ],
           "y": [
            -1,
            -0.9771763550478421,
            -0.9510565162951536,
            -0.884819718828282,
            -0.8090169943749476,
            -0.7058507636283244,
            -0.5877852522924734,
            -0.4577882177329741,
            -0.3090169943749477,
            -0.1649141714878547,
            0,
            0.14410282288709284,
            0.3090169943749474,
            0.43901402893444663,
            0.5877852522924731,
            0.6909514830390964,
            0.8090169943749475,
            0.8752537918418191,
            0.9510565162951535,
            0.9738801612473116,
            1,
            0.9771763550478421,
            0.9510565162951536,
            0.884819718828282,
            0.8090169943749475,
            0.7058507636283242,
            0.5877852522924732,
            0.45778821773297396,
            0.3090169943749475,
            0.16491417148785467,
            1.2246467991473532e-16,
            -0.14410282288709272,
            -0.3090169943749473,
            -0.4390140289344465,
            -0.587785252292473,
            -0.6909514830390963,
            -0.8090169943749473,
            -0.8752537918418191,
            -0.9510565162951535,
            -0.9738801612473116,
            -1,
            null
           ],
           "z": [
            0.13469387755102025,
            0.13469387755102025,
            0.13469387755102025,
            0.13469387755102025,
            0.13469387755102025,
            0.13469387755102025,
            0.13469387755102025,
            0.13469387755102025,
            0.13469387755102025,
            0.13469387755102025,
            0.13469387755102025,
            0.13469387755102025,
            0.13469387755102025,
            0.13469387755102025,
            0.13469387755102025,
            0.13469387755102025,
            0.13469387755102025,
            0.13469387755102025,
            0.13469387755102025,
            0.13469387755102025,
            0.13469387755102025,
            0.13469387755102025,
            0.13469387755102025,
            0.13469387755102025,
            0.13469387755102025,
            0.13469387755102025,
            0.13469387755102025,
            0.13469387755102025,
            0.13469387755102025,
            0.13469387755102025,
            0.13469387755102025,
            0.13469387755102025,
            0.13469387755102025,
            0.13469387755102025,
            0.13469387755102025,
            0.13469387755102025,
            0.13469387755102025,
            0.13469387755102025,
            0.13469387755102025,
            0.13469387755102025,
            0.13469387755102025,
            null
           ]
          }
         ],
         "name": "frame_26",
         "traces": [
          0,
          1
         ]
        },
        {
         "data": [
          {
           "color": "lightblue",
           "i": {
            "bdata": "AQECAgQEBQUGBgcHCAgJCQoKCwsMDA0NDg4PDxAQERESEhMTFBQVFRYWFxcYGBkZGhobGxwcHR0eHh8fICAhISIiIyMkJCUlJiYnJygoKSk=",
            "dtype": "i1"
           },
           "j": {
            "bdata": "AAQEBQAGBgcACAgJAAoKCwAMDA0ADg4PABAQEQASEhMAFBQVABYWFwAYGBkAGhobABwcHQAeHh8AICAhACIiIwAkJCUAJiYnACgoKQABAQI=",
            "dtype": "i1"
           },
           "k": {
            "bdata": "BAIFAwYFBwMIBwkDCgkLAwwLDQMODQ8DEA8RAxIREwMUExUDFhUXAxgXGQMaGRsDHBsdAx4dHwMgHyEDIiEjAyQjJQMmJScDKCcpAwEpAgM=",
            "dtype": "i1"
           },
           "name": "Mesh",
           "opacity": 0.3,
           "type": "mesh3d",
           "x": {
            "bdata": "AAAAAAAAAAAAAAAAAADwPwAAAAAAAPA/AAAAAAAAAAD/VEQTDm/uP/9URBMOb+4/qPSXm3fj6T+o9Jebd+PpP15adQQjz+I/Xlp1BCPP4j9Q6S8378bTP1DpLzfvxtM/B1wUMyamkTwHXBQzJqaRPE7pLzfvxtO/TukvN+/G079dWnUEI8/iv11adQQjz+K/p/SXm3fj6b+n9Jebd+Ppv/9URBMOb+6//1REEw5v7r8AAAAAAADwvwAAAAAAAPC/AFVEEw5v7r8AVUQTDm/uv6j0l5t34+m/qPSXm3fj6b9fWnUEI8/iv19adQQjz+K/UukvN+/G079S6S8378bTvwqKnkw5eaq8CoqeTDl5qrxM6S8378bTP0zpLzfvxtM/XFp1BCPP4j9cWnUEI8/iP6f0l5t34+k/p/SXm3fj6T//VEQTDm/uP/9URBMOb+4/",
            "dtype": "f8"
           },
           "y": {
            "bdata": "AAAAAAAAAAAAAAAAAAAAAAAAAAAAAAAAAAAAAAAAAABP6S8378bTP0/pLzfvxtM/Xlp1BCPP4j9eWnUEI8/iP6j0l5t34+k/qPSXm3fj6T//VEQTDm/uP/9URBMOb+4/AAAAAAAA8D8AAAAAAADwPwBVRBMOb+4/AFVEEw5v7j+o9Jebd+PpP6j0l5t34+k/X1p1BCPP4j9fWnUEI8/iP1HpLzfvxtM/UekvN+/G0z8HXBQzJqahPAdcFDMmpqE8TekvN+/G079N6S8378bTv11adQQjz+K/XVp1BCPP4r+n9Jebd+Ppv6f0l5t34+m//1REEw5v7r//VEQTDm/uvwAAAAAAAPC/AAAAAAAA8L8AVUQTDm/uvwBVRBMOb+6/qfSXm3fj6b+p9Jebd+Ppv2BadQQjz+K/YFp1BCPP4r9U6S8378bTv1TpLzfvxtO/",
            "dtype": "f8"
           },
           "z": {
            "bdata": "AAAAAAAAAMAAAAAAAAAAwAAAAAAAAABAAAAAAAAAAEAAAAAAAAAAwAAAAAAAAABAAAAAAAAAAMAAAAAAAAAAQAAAAAAAAADAAAAAAAAAAEAAAAAAAAAAwAAAAAAAAABAAAAAAAAAAMAAAAAAAAAAQAAAAAAAAADAAAAAAAAAAEAAAAAAAAAAwAAAAAAAAABAAAAAAAAAAMAAAAAAAAAAQAAAAAAAAADAAAAAAAAAAEAAAAAAAAAAwAAAAAAAAABAAAAAAAAAAMAAAAAAAAAAQAAAAAAAAADAAAAAAAAAAEAAAAAAAAAAwAAAAAAAAABAAAAAAAAAAMAAAAAAAAAAQAAAAAAAAADAAAAAAAAAAEAAAAAAAAAAwAAAAAAAAABAAAAAAAAAAMAAAAAAAAAAQAAAAAAAAADAAAAAAAAAAEAAAAAAAAAAwAAAAAAAAABA",
            "dtype": "f8"
           }
          },
          {
           "line": {
            "color": "red",
            "width": 5
           },
           "mode": "lines",
           "name": "Slice at z=0.22",
           "type": "scatter3d",
           "x": [
            -1.8369701987210297e-16,
            0.1371657066868387,
            0.30901699437494723,
            0.43275596600160404,
            0.5877852522924729,
            0.6859850561760202,
            0.8090169943749473,
            0.8720651495129981,
            0.9510565162951535,
            0.972781429980468,
            1,
            0.9782750863146855,
            0.9510565162951535,
            0.8880083611571029,
            0.8090169943749475,
            0.7108171904914002,
            0.5877852522924731,
            0.4640462806658163,
            0.30901699437494745,
            0.17185128768810856,
            6.123233995736766e-17,
            -0.13716570668683883,
            -0.30901699437494734,
            -0.43275596600160415,
            -0.587785252292473,
            -0.6859850561760203,
            -0.8090169943749473,
            -0.8720651495129981,
            -0.9510565162951535,
            -0.972781429980468,
            -1,
            -0.9782750863146855,
            -0.9510565162951536,
            -0.8880083611571029,
            -0.8090169943749475,
            -0.7108171904914002,
            -0.5877852522924732,
            -0.46404628066581644,
            -0.30901699437494756,
            -0.17185128768810867,
            -1.8369701987210297e-16,
            null
           ],
           "y": [
            -1,
            -0.9782750863146855,
            -0.9510565162951536,
            -0.888008361157103,
            -0.8090169943749476,
            -0.7108171904914004,
            -0.5877852522924734,
            -0.46404628066581655,
            -0.3090169943749477,
            -0.17185128768810864,
            0,
            0.1371657066868389,
            0.3090169943749474,
            0.4327559660016042,
            0.5877852522924731,
            0.6859850561760203,
            0.8090169943749475,
            0.8720651495129981,
            0.9510565162951535,
            0.972781429980468,
            1,
            0.9782750863146855,
            0.9510565162951536,
            0.8880083611571029,
            0.8090169943749475,
            0.7108171904914002,
            0.5877852522924732,
            0.46404628066581644,
            0.3090169943749475,
            0.17185128768810862,
            1.2246467991473532e-16,
            -0.13716570668683878,
            -0.3090169943749473,
            -0.4327559660016041,
            -0.587785252292473,
            -0.6859850561760203,
            -0.8090169943749473,
            -0.8720651495129981,
            -0.9510565162951535,
            -0.972781429980468,
            -1,
            null
           ],
           "z": [
            0.22448979591836737,
            0.22448979591836737,
            0.22448979591836737,
            0.22448979591836737,
            0.22448979591836737,
            0.22448979591836737,
            0.22448979591836737,
            0.22448979591836737,
            0.22448979591836737,
            0.22448979591836737,
            0.22448979591836737,
            0.22448979591836737,
            0.22448979591836737,
            0.22448979591836737,
            0.22448979591836737,
            0.22448979591836737,
            0.22448979591836737,
            0.22448979591836737,
            0.22448979591836737,
            0.22448979591836737,
            0.22448979591836737,
            0.22448979591836737,
            0.22448979591836737,
            0.22448979591836737,
            0.22448979591836737,
            0.22448979591836737,
            0.22448979591836737,
            0.22448979591836737,
            0.22448979591836737,
            0.22448979591836737,
            0.22448979591836737,
            0.22448979591836737,
            0.22448979591836737,
            0.22448979591836737,
            0.22448979591836737,
            0.22448979591836737,
            0.22448979591836737,
            0.22448979591836737,
            0.22448979591836737,
            0.22448979591836737,
            0.22448979591836737,
            null
           ]
          }
         ],
         "name": "frame_27",
         "traces": [
          0,
          1
         ]
        },
        {
         "data": [
          {
           "color": "lightblue",
           "i": {
            "bdata": "AQECAgQEBQUGBgcHCAgJCQoKCwsMDA0NDg4PDxAQERESEhMTFBQVFRYWFxcYGBkZGhobGxwcHR0eHh8fICAhISIiIyMkJCUlJiYnJygoKSk=",
            "dtype": "i1"
           },
           "j": {
            "bdata": "AAQEBQAGBgcACAgJAAoKCwAMDA0ADg4PABAQEQASEhMAFBQVABYWFwAYGBkAGhobABwcHQAeHh8AICAhACIiIwAkJCUAJiYnACgoKQABAQI=",
            "dtype": "i1"
           },
           "k": {
            "bdata": "BAIFAwYFBwMIBwkDCgkLAwwLDQMODQ8DEA8RAxIREwMUExUDFhUXAxgXGQMaGRsDHBsdAx4dHwMgHyEDIiEjAyQjJQMmJScDKCcpAwEpAgM=",
            "dtype": "i1"
           },
           "name": "Mesh",
           "opacity": 0.3,
           "type": "mesh3d",
           "x": {
            "bdata": "AAAAAAAAAAAAAAAAAADwPwAAAAAAAPA/AAAAAAAAAAD/VEQTDm/uP/9URBMOb+4/qPSXm3fj6T+o9Jebd+PpP15adQQjz+I/Xlp1BCPP4j9Q6S8378bTP1DpLzfvxtM/B1wUMyamkTwHXBQzJqaRPE7pLzfvxtO/TukvN+/G079dWnUEI8/iv11adQQjz+K/p/SXm3fj6b+n9Jebd+Ppv/9URBMOb+6//1REEw5v7r8AAAAAAADwvwAAAAAAAPC/AFVEEw5v7r8AVUQTDm/uv6j0l5t34+m/qPSXm3fj6b9fWnUEI8/iv19adQQjz+K/UukvN+/G079S6S8378bTvwqKnkw5eaq8CoqeTDl5qrxM6S8378bTP0zpLzfvxtM/XFp1BCPP4j9cWnUEI8/iP6f0l5t34+k/p/SXm3fj6T//VEQTDm/uP/9URBMOb+4/",
            "dtype": "f8"
           },
           "y": {
            "bdata": "AAAAAAAAAAAAAAAAAAAAAAAAAAAAAAAAAAAAAAAAAABP6S8378bTP0/pLzfvxtM/Xlp1BCPP4j9eWnUEI8/iP6j0l5t34+k/qPSXm3fj6T//VEQTDm/uP/9URBMOb+4/AAAAAAAA8D8AAAAAAADwPwBVRBMOb+4/AFVEEw5v7j+o9Jebd+PpP6j0l5t34+k/X1p1BCPP4j9fWnUEI8/iP1HpLzfvxtM/UekvN+/G0z8HXBQzJqahPAdcFDMmpqE8TekvN+/G079N6S8378bTv11adQQjz+K/XVp1BCPP4r+n9Jebd+Ppv6f0l5t34+m//1REEw5v7r//VEQTDm/uvwAAAAAAAPC/AAAAAAAA8L8AVUQTDm/uvwBVRBMOb+6/qfSXm3fj6b+p9Jebd+Ppv2BadQQjz+K/YFp1BCPP4r9U6S8378bTv1TpLzfvxtO/",
            "dtype": "f8"
           },
           "z": {
            "bdata": "AAAAAAAAAMAAAAAAAAAAwAAAAAAAAABAAAAAAAAAAEAAAAAAAAAAwAAAAAAAAABAAAAAAAAAAMAAAAAAAAAAQAAAAAAAAADAAAAAAAAAAEAAAAAAAAAAwAAAAAAAAABAAAAAAAAAAMAAAAAAAAAAQAAAAAAAAADAAAAAAAAAAEAAAAAAAAAAwAAAAAAAAABAAAAAAAAAAMAAAAAAAAAAQAAAAAAAAADAAAAAAAAAAEAAAAAAAAAAwAAAAAAAAABAAAAAAAAAAMAAAAAAAAAAQAAAAAAAAADAAAAAAAAAAEAAAAAAAAAAwAAAAAAAAABAAAAAAAAAAMAAAAAAAAAAQAAAAAAAAADAAAAAAAAAAEAAAAAAAAAAwAAAAAAAAABAAAAAAAAAAMAAAAAAAAAAQAAAAAAAAADAAAAAAAAAAEAAAAAAAAAAwAAAAAAAAABA",
            "dtype": "f8"
           }
          },
          {
           "line": {
            "color": "red",
            "width": 5
           },
           "mode": "lines",
           "name": "Slice at z=0.31",
           "type": "scatter3d",
           "x": [
            -1.8369701987210297e-16,
            0.13022859048658478,
            0.30901699437494723,
            0.4264979030687616,
            0.5877852522924729,
            0.6810186293129443,
            0.8090169943749473,
            0.8688765071841771,
            0.9510565162951535,
            0.9716826987136246,
            1,
            0.979373817581529,
            0.9510565162951535,
            0.8911970034859238,
            0.8090169943749475,
            0.7157836173544762,
            0.5877852522924731,
            0.47030434359865875,
            0.30901699437494745,
            0.17878840388836248,
            6.123233995736766e-17,
            -0.13022859048658492,
            -0.30901699437494734,
            -0.42649790306876173,
            -0.587785252292473,
            -0.6810186293129443,
            -0.8090169943749473,
            -0.8688765071841771,
            -0.9510565162951535,
            -0.9716826987136246,
            -1,
            -0.9793738175815291,
            -0.9510565162951536,
            -0.8911970034859239,
            -0.8090169943749475,
            -0.7157836173544762,
            -0.5877852522924732,
            -0.47030434359865886,
            -0.30901699437494756,
            -0.1787884038883626,
            -1.8369701987210297e-16,
            null
           ],
           "y": [
            -1,
            -0.9793738175815291,
            -0.9510565162951536,
            -0.8911970034859239,
            -0.8090169943749476,
            -0.7157836173544763,
            -0.5877852522924734,
            -0.47030434359865897,
            -0.3090169943749477,
            -0.1787884038883626,
            0,
            0.13022859048658497,
            0.3090169943749474,
            0.4264979030687618,
            0.5877852522924731,
            0.6810186293129444,
            0.8090169943749475,
            0.8688765071841772,
            0.9510565162951535,
            0.9716826987136246,
            1,
            0.9793738175815291,
            0.9510565162951536,
            0.8911970034859239,
            0.8090169943749475,
            0.7157836173544762,
            0.5877852522924732,
            0.47030434359865886,
            0.3090169943749475,
            0.17878840388836253,
            1.2246467991473532e-16,
            -0.13022859048658486,
            -0.3090169943749473,
            -0.4264979030687617,
            -0.587785252292473,
            -0.6810186293129443,
            -0.8090169943749473,
            -0.8688765071841771,
            -0.9510565162951535,
            -0.9716826987136246,
            -1,
            null
           ],
           "z": [
            0.3142857142857145,
            0.3142857142857145,
            0.3142857142857145,
            0.3142857142857145,
            0.3142857142857145,
            0.3142857142857145,
            0.3142857142857145,
            0.3142857142857145,
            0.3142857142857145,
            0.3142857142857145,
            0.3142857142857145,
            0.3142857142857145,
            0.3142857142857145,
            0.3142857142857145,
            0.3142857142857145,
            0.3142857142857145,
            0.3142857142857145,
            0.3142857142857145,
            0.3142857142857145,
            0.3142857142857145,
            0.3142857142857145,
            0.3142857142857145,
            0.3142857142857145,
            0.3142857142857145,
            0.3142857142857145,
            0.3142857142857145,
            0.3142857142857145,
            0.3142857142857145,
            0.3142857142857145,
            0.3142857142857145,
            0.3142857142857145,
            0.3142857142857145,
            0.3142857142857145,
            0.3142857142857145,
            0.3142857142857145,
            0.3142857142857145,
            0.3142857142857145,
            0.3142857142857145,
            0.3142857142857145,
            0.3142857142857145,
            0.3142857142857145,
            null
           ]
          }
         ],
         "name": "frame_28",
         "traces": [
          0,
          1
         ]
        },
        {
         "data": [
          {
           "color": "lightblue",
           "i": {
            "bdata": "AQECAgQEBQUGBgcHCAgJCQoKCwsMDA0NDg4PDxAQERESEhMTFBQVFRYWFxcYGBkZGhobGxwcHR0eHh8fICAhISIiIyMkJCUlJiYnJygoKSk=",
            "dtype": "i1"
           },
           "j": {
            "bdata": "AAQEBQAGBgcACAgJAAoKCwAMDA0ADg4PABAQEQASEhMAFBQVABYWFwAYGBkAGhobABwcHQAeHh8AICAhACIiIwAkJCUAJiYnACgoKQABAQI=",
            "dtype": "i1"
           },
           "k": {
            "bdata": "BAIFAwYFBwMIBwkDCgkLAwwLDQMODQ8DEA8RAxIREwMUExUDFhUXAxgXGQMaGRsDHBsdAx4dHwMgHyEDIiEjAyQjJQMmJScDKCcpAwEpAgM=",
            "dtype": "i1"
           },
           "name": "Mesh",
           "opacity": 0.3,
           "type": "mesh3d",
           "x": {
            "bdata": "AAAAAAAAAAAAAAAAAADwPwAAAAAAAPA/AAAAAAAAAAD/VEQTDm/uP/9URBMOb+4/qPSXm3fj6T+o9Jebd+PpP15adQQjz+I/Xlp1BCPP4j9Q6S8378bTP1DpLzfvxtM/B1wUMyamkTwHXBQzJqaRPE7pLzfvxtO/TukvN+/G079dWnUEI8/iv11adQQjz+K/p/SXm3fj6b+n9Jebd+Ppv/9URBMOb+6//1REEw5v7r8AAAAAAADwvwAAAAAAAPC/AFVEEw5v7r8AVUQTDm/uv6j0l5t34+m/qPSXm3fj6b9fWnUEI8/iv19adQQjz+K/UukvN+/G079S6S8378bTvwqKnkw5eaq8CoqeTDl5qrxM6S8378bTP0zpLzfvxtM/XFp1BCPP4j9cWnUEI8/iP6f0l5t34+k/p/SXm3fj6T//VEQTDm/uP/9URBMOb+4/",
            "dtype": "f8"
           },
           "y": {
            "bdata": "AAAAAAAAAAAAAAAAAAAAAAAAAAAAAAAAAAAAAAAAAABP6S8378bTP0/pLzfvxtM/Xlp1BCPP4j9eWnUEI8/iP6j0l5t34+k/qPSXm3fj6T//VEQTDm/uP/9URBMOb+4/AAAAAAAA8D8AAAAAAADwPwBVRBMOb+4/AFVEEw5v7j+o9Jebd+PpP6j0l5t34+k/X1p1BCPP4j9fWnUEI8/iP1HpLzfvxtM/UekvN+/G0z8HXBQzJqahPAdcFDMmpqE8TekvN+/G079N6S8378bTv11adQQjz+K/XVp1BCPP4r+n9Jebd+Ppv6f0l5t34+m//1REEw5v7r//VEQTDm/uvwAAAAAAAPC/AAAAAAAA8L8AVUQTDm/uvwBVRBMOb+6/qfSXm3fj6b+p9Jebd+Ppv2BadQQjz+K/YFp1BCPP4r9U6S8378bTv1TpLzfvxtO/",
            "dtype": "f8"
           },
           "z": {
            "bdata": "AAAAAAAAAMAAAAAAAAAAwAAAAAAAAABAAAAAAAAAAEAAAAAAAAAAwAAAAAAAAABAAAAAAAAAAMAAAAAAAAAAQAAAAAAAAADAAAAAAAAAAEAAAAAAAAAAwAAAAAAAAABAAAAAAAAAAMAAAAAAAAAAQAAAAAAAAADAAAAAAAAAAEAAAAAAAAAAwAAAAAAAAABAAAAAAAAAAMAAAAAAAAAAQAAAAAAAAADAAAAAAAAAAEAAAAAAAAAAwAAAAAAAAABAAAAAAAAAAMAAAAAAAAAAQAAAAAAAAADAAAAAAAAAAEAAAAAAAAAAwAAAAAAAAABAAAAAAAAAAMAAAAAAAAAAQAAAAAAAAADAAAAAAAAAAEAAAAAAAAAAwAAAAAAAAABAAAAAAAAAAMAAAAAAAAAAQAAAAAAAAADAAAAAAAAAAEAAAAAAAAAAwAAAAAAAAABA",
            "dtype": "f8"
           }
          },
          {
           "line": {
            "color": "red",
            "width": 5
           },
           "mode": "lines",
           "name": "Slice at z=0.40",
           "type": "scatter3d",
           "x": [
            -1.8369701987210297e-16,
            0.12329147428633089,
            0.30901699437494723,
            0.4202398401359192,
            0.5877852522924729,
            0.6760522024498683,
            0.8090169943749473,
            0.8656878648553561,
            0.9510565162951535,
            0.9705839674467811,
            1,
            0.9804725488483724,
            0.9510565162951535,
            0.8943856458147448,
            0.8090169943749475,
            0.7207500442175521,
            0.5877852522924731,
            0.47656240653150117,
            0.30901699437494745,
            0.18572552008861637,
            6.123233995736766e-17,
            -0.12329147428633101,
            -0.30901699437494734,
            -0.4202398401359193,
            -0.587785252292473,
            -0.6760522024498684,
            -0.8090169943749473,
            -0.8656878648553561,
            -0.9510565162951535,
            -0.9705839674467811,
            -1,
            -0.9804725488483725,
            -0.9510565162951536,
            -0.8943856458147449,
            -0.8090169943749475,
            -0.7207500442175521,
            -0.5877852522924732,
            -0.4765624065315013,
            -0.30901699437494756,
            -0.18572552008861648,
            -1.8369701987210297e-16,
            null
           ],
           "y": [
            -1,
            -0.9804725488483725,
            -0.9510565162951536,
            -0.8943856458147449,
            -0.8090169943749476,
            -0.7207500442175523,
            -0.5877852522924734,
            -0.4765624065315014,
            -0.3090169943749477,
            -0.18572552008861648,
            0,
            0.12329147428633107,
            0.3090169943749474,
            0.4202398401359194,
            0.5877852522924731,
            0.6760522024498685,
            0.8090169943749475,
            0.8656878648553562,
            0.9510565162951535,
            0.9705839674467811,
            1,
            0.9804725488483725,
            0.9510565162951536,
            0.8943856458147449,
            0.8090169943749475,
            0.7207500442175521,
            0.5877852522924732,
            0.4765624065315012,
            0.3090169943749475,
            0.18572552008861642,
            1.2246467991473532e-16,
            -0.12329147428633094,
            -0.3090169943749473,
            -0.4202398401359193,
            -0.587785252292473,
            -0.6760522024498684,
            -0.8090169943749473,
            -0.8656878648553561,
            -0.9510565162951535,
            -0.9705839674467811,
            -1,
            null
           ],
           "z": [
            0.4040816326530612,
            0.4040816326530612,
            0.4040816326530612,
            0.4040816326530612,
            0.4040816326530612,
            0.4040816326530612,
            0.4040816326530612,
            0.4040816326530612,
            0.4040816326530612,
            0.4040816326530612,
            0.4040816326530612,
            0.4040816326530612,
            0.4040816326530612,
            0.4040816326530612,
            0.4040816326530612,
            0.4040816326530612,
            0.4040816326530612,
            0.4040816326530612,
            0.4040816326530612,
            0.4040816326530612,
            0.4040816326530612,
            0.4040816326530612,
            0.4040816326530612,
            0.4040816326530612,
            0.4040816326530612,
            0.4040816326530612,
            0.4040816326530612,
            0.4040816326530612,
            0.4040816326530612,
            0.4040816326530612,
            0.4040816326530612,
            0.4040816326530612,
            0.4040816326530612,
            0.4040816326530612,
            0.4040816326530612,
            0.4040816326530612,
            0.4040816326530612,
            0.4040816326530612,
            0.4040816326530612,
            0.4040816326530612,
            0.4040816326530612,
            null
           ]
          }
         ],
         "name": "frame_29",
         "traces": [
          0,
          1
         ]
        },
        {
         "data": [
          {
           "color": "lightblue",
           "i": {
            "bdata": "AQECAgQEBQUGBgcHCAgJCQoKCwsMDA0NDg4PDxAQERESEhMTFBQVFRYWFxcYGBkZGhobGxwcHR0eHh8fICAhISIiIyMkJCUlJiYnJygoKSk=",
            "dtype": "i1"
           },
           "j": {
            "bdata": "AAQEBQAGBgcACAgJAAoKCwAMDA0ADg4PABAQEQASEhMAFBQVABYWFwAYGBkAGhobABwcHQAeHh8AICAhACIiIwAkJCUAJiYnACgoKQABAQI=",
            "dtype": "i1"
           },
           "k": {
            "bdata": "BAIFAwYFBwMIBwkDCgkLAwwLDQMODQ8DEA8RAxIREwMUExUDFhUXAxgXGQMaGRsDHBsdAx4dHwMgHyEDIiEjAyQjJQMmJScDKCcpAwEpAgM=",
            "dtype": "i1"
           },
           "name": "Mesh",
           "opacity": 0.3,
           "type": "mesh3d",
           "x": {
            "bdata": "AAAAAAAAAAAAAAAAAADwPwAAAAAAAPA/AAAAAAAAAAD/VEQTDm/uP/9URBMOb+4/qPSXm3fj6T+o9Jebd+PpP15adQQjz+I/Xlp1BCPP4j9Q6S8378bTP1DpLzfvxtM/B1wUMyamkTwHXBQzJqaRPE7pLzfvxtO/TukvN+/G079dWnUEI8/iv11adQQjz+K/p/SXm3fj6b+n9Jebd+Ppv/9URBMOb+6//1REEw5v7r8AAAAAAADwvwAAAAAAAPC/AFVEEw5v7r8AVUQTDm/uv6j0l5t34+m/qPSXm3fj6b9fWnUEI8/iv19adQQjz+K/UukvN+/G079S6S8378bTvwqKnkw5eaq8CoqeTDl5qrxM6S8378bTP0zpLzfvxtM/XFp1BCPP4j9cWnUEI8/iP6f0l5t34+k/p/SXm3fj6T//VEQTDm/uP/9URBMOb+4/",
            "dtype": "f8"
           },
           "y": {
            "bdata": "AAAAAAAAAAAAAAAAAAAAAAAAAAAAAAAAAAAAAAAAAABP6S8378bTP0/pLzfvxtM/Xlp1BCPP4j9eWnUEI8/iP6j0l5t34+k/qPSXm3fj6T//VEQTDm/uP/9URBMOb+4/AAAAAAAA8D8AAAAAAADwPwBVRBMOb+4/AFVEEw5v7j+o9Jebd+PpP6j0l5t34+k/X1p1BCPP4j9fWnUEI8/iP1HpLzfvxtM/UekvN+/G0z8HXBQzJqahPAdcFDMmpqE8TekvN+/G079N6S8378bTv11adQQjz+K/XVp1BCPP4r+n9Jebd+Ppv6f0l5t34+m//1REEw5v7r//VEQTDm/uvwAAAAAAAPC/AAAAAAAA8L8AVUQTDm/uvwBVRBMOb+6/qfSXm3fj6b+p9Jebd+Ppv2BadQQjz+K/YFp1BCPP4r9U6S8378bTv1TpLzfvxtO/",
            "dtype": "f8"
           },
           "z": {
            "bdata": "AAAAAAAAAMAAAAAAAAAAwAAAAAAAAABAAAAAAAAAAEAAAAAAAAAAwAAAAAAAAABAAAAAAAAAAMAAAAAAAAAAQAAAAAAAAADAAAAAAAAAAEAAAAAAAAAAwAAAAAAAAABAAAAAAAAAAMAAAAAAAAAAQAAAAAAAAADAAAAAAAAAAEAAAAAAAAAAwAAAAAAAAABAAAAAAAAAAMAAAAAAAAAAQAAAAAAAAADAAAAAAAAAAEAAAAAAAAAAwAAAAAAAAABAAAAAAAAAAMAAAAAAAAAAQAAAAAAAAADAAAAAAAAAAEAAAAAAAAAAwAAAAAAAAABAAAAAAAAAAMAAAAAAAAAAQAAAAAAAAADAAAAAAAAAAEAAAAAAAAAAwAAAAAAAAABAAAAAAAAAAMAAAAAAAAAAQAAAAAAAAADAAAAAAAAAAEAAAAAAAAAAwAAAAAAAAABA",
            "dtype": "f8"
           }
          },
          {
           "line": {
            "color": "red",
            "width": 5
           },
           "mode": "lines",
           "name": "Slice at z=0.49",
           "type": "scatter3d",
           "x": [
            -1.8369701987210297e-16,
            0.11635435808607694,
            0.30901699437494723,
            0.4139817772030768,
            0.5877852522924729,
            0.6710857755867924,
            0.8090169943749473,
            0.8624992225265352,
            0.9510565162951535,
            0.9694852361799375,
            1,
            0.981571280115216,
            0.9510565162951535,
            0.8975742881435658,
            0.8090169943749475,
            0.7257164710806281,
            0.5877852522924731,
            0.4828204694643436,
            0.30901699437494745,
            0.19266263628887031,
            6.123233995736766e-17,
            -0.11635435808607707,
            -0.30901699437494734,
            -0.4139817772030769,
            -0.587785252292473,
            -0.6710857755867924,
            -0.8090169943749473,
            -0.8624992225265352,
            -0.9510565162951535,
            -0.9694852361799375,
            -1,
            -0.981571280115216,
            -0.9510565162951536,
            -0.8975742881435658,
            -0.8090169943749475,
            -0.7257164710806281,
            -0.5877852522924732,
            -0.4828204694643437,
            -0.30901699437494756,
            -0.19266263628887043,
            -1.8369701987210297e-16,
            null
           ],
           "y": [
            -1,
            -0.981571280115216,
            -0.9510565162951536,
            -0.8975742881435659,
            -0.8090169943749476,
            -0.7257164710806282,
            -0.5877852522924734,
            -0.4828204694643438,
            -0.3090169943749477,
            -0.19266263628887043,
            0,
            0.11635435808607712,
            0.3090169943749474,
            0.413981777203077,
            0.5877852522924731,
            0.6710857755867925,
            0.8090169943749475,
            0.8624992225265352,
            0.9510565162951535,
            0.9694852361799375,
            1,
            0.981571280115216,
            0.9510565162951536,
            0.8975742881435658,
            0.8090169943749475,
            0.7257164710806281,
            0.5877852522924732,
            0.48282046946434365,
            0.3090169943749475,
            0.19266263628887037,
            1.2246467991473532e-16,
            -0.116354358086077,
            -0.3090169943749473,
            -0.4139817772030769,
            -0.587785252292473,
            -0.6710857755867924,
            -0.8090169943749473,
            -0.8624992225265352,
            -0.9510565162951535,
            -0.9694852361799375,
            -1,
            null
           ],
           "z": [
            0.4938775510204083,
            0.4938775510204083,
            0.4938775510204083,
            0.4938775510204083,
            0.4938775510204083,
            0.4938775510204083,
            0.4938775510204083,
            0.4938775510204083,
            0.4938775510204083,
            0.4938775510204083,
            0.4938775510204083,
            0.4938775510204083,
            0.4938775510204083,
            0.4938775510204083,
            0.4938775510204083,
            0.4938775510204083,
            0.4938775510204083,
            0.4938775510204083,
            0.4938775510204083,
            0.4938775510204083,
            0.4938775510204083,
            0.4938775510204083,
            0.4938775510204083,
            0.4938775510204083,
            0.4938775510204083,
            0.4938775510204083,
            0.4938775510204083,
            0.4938775510204083,
            0.4938775510204083,
            0.4938775510204083,
            0.4938775510204083,
            0.4938775510204083,
            0.4938775510204083,
            0.4938775510204083,
            0.4938775510204083,
            0.4938775510204083,
            0.4938775510204083,
            0.4938775510204083,
            0.4938775510204083,
            0.4938775510204083,
            0.4938775510204083,
            null
           ]
          }
         ],
         "name": "frame_30",
         "traces": [
          0,
          1
         ]
        },
        {
         "data": [
          {
           "color": "lightblue",
           "i": {
            "bdata": "AQECAgQEBQUGBgcHCAgJCQoKCwsMDA0NDg4PDxAQERESEhMTFBQVFRYWFxcYGBkZGhobGxwcHR0eHh8fICAhISIiIyMkJCUlJiYnJygoKSk=",
            "dtype": "i1"
           },
           "j": {
            "bdata": "AAQEBQAGBgcACAgJAAoKCwAMDA0ADg4PABAQEQASEhMAFBQVABYWFwAYGBkAGhobABwcHQAeHh8AICAhACIiIwAkJCUAJiYnACgoKQABAQI=",
            "dtype": "i1"
           },
           "k": {
            "bdata": "BAIFAwYFBwMIBwkDCgkLAwwLDQMODQ8DEA8RAxIREwMUExUDFhUXAxgXGQMaGRsDHBsdAx4dHwMgHyEDIiEjAyQjJQMmJScDKCcpAwEpAgM=",
            "dtype": "i1"
           },
           "name": "Mesh",
           "opacity": 0.3,
           "type": "mesh3d",
           "x": {
            "bdata": "AAAAAAAAAAAAAAAAAADwPwAAAAAAAPA/AAAAAAAAAAD/VEQTDm/uP/9URBMOb+4/qPSXm3fj6T+o9Jebd+PpP15adQQjz+I/Xlp1BCPP4j9Q6S8378bTP1DpLzfvxtM/B1wUMyamkTwHXBQzJqaRPE7pLzfvxtO/TukvN+/G079dWnUEI8/iv11adQQjz+K/p/SXm3fj6b+n9Jebd+Ppv/9URBMOb+6//1REEw5v7r8AAAAAAADwvwAAAAAAAPC/AFVEEw5v7r8AVUQTDm/uv6j0l5t34+m/qPSXm3fj6b9fWnUEI8/iv19adQQjz+K/UukvN+/G079S6S8378bTvwqKnkw5eaq8CoqeTDl5qrxM6S8378bTP0zpLzfvxtM/XFp1BCPP4j9cWnUEI8/iP6f0l5t34+k/p/SXm3fj6T//VEQTDm/uP/9URBMOb+4/",
            "dtype": "f8"
           },
           "y": {
            "bdata": "AAAAAAAAAAAAAAAAAAAAAAAAAAAAAAAAAAAAAAAAAABP6S8378bTP0/pLzfvxtM/Xlp1BCPP4j9eWnUEI8/iP6j0l5t34+k/qPSXm3fj6T//VEQTDm/uP/9URBMOb+4/AAAAAAAA8D8AAAAAAADwPwBVRBMOb+4/AFVEEw5v7j+o9Jebd+PpP6j0l5t34+k/X1p1BCPP4j9fWnUEI8/iP1HpLzfvxtM/UekvN+/G0z8HXBQzJqahPAdcFDMmpqE8TekvN+/G079N6S8378bTv11adQQjz+K/XVp1BCPP4r+n9Jebd+Ppv6f0l5t34+m//1REEw5v7r//VEQTDm/uvwAAAAAAAPC/AAAAAAAA8L8AVUQTDm/uvwBVRBMOb+6/qfSXm3fj6b+p9Jebd+Ppv2BadQQjz+K/YFp1BCPP4r9U6S8378bTv1TpLzfvxtO/",
            "dtype": "f8"
           },
           "z": {
            "bdata": "AAAAAAAAAMAAAAAAAAAAwAAAAAAAAABAAAAAAAAAAEAAAAAAAAAAwAAAAAAAAABAAAAAAAAAAMAAAAAAAAAAQAAAAAAAAADAAAAAAAAAAEAAAAAAAAAAwAAAAAAAAABAAAAAAAAAAMAAAAAAAAAAQAAAAAAAAADAAAAAAAAAAEAAAAAAAAAAwAAAAAAAAABAAAAAAAAAAMAAAAAAAAAAQAAAAAAAAADAAAAAAAAAAEAAAAAAAAAAwAAAAAAAAABAAAAAAAAAAMAAAAAAAAAAQAAAAAAAAADAAAAAAAAAAEAAAAAAAAAAwAAAAAAAAABAAAAAAAAAAMAAAAAAAAAAQAAAAAAAAADAAAAAAAAAAEAAAAAAAAAAwAAAAAAAAABAAAAAAAAAAMAAAAAAAAAAQAAAAAAAAADAAAAAAAAAAEAAAAAAAAAAwAAAAAAAAABA",
            "dtype": "f8"
           }
          },
          {
           "line": {
            "color": "red",
            "width": 5
           },
           "mode": "lines",
           "name": "Slice at z=0.58",
           "type": "scatter3d",
           "x": [
            -1.8369701987210297e-16,
            0.10941724188582305,
            0.30901699437494723,
            0.4077237142702344,
            0.5877852522924729,
            0.6661193487237165,
            0.8090169943749473,
            0.8593105801977142,
            0.9510565162951535,
            0.9683865049130941,
            1,
            0.9826700113820594,
            0.9510565162951535,
            0.9007629304723866,
            0.8090169943749475,
            0.730682897943704,
            0.5877852522924731,
            0.48907853239718596,
            0.30901699437494745,
            0.1995997524891242,
            6.123233995736766e-17,
            -0.10941724188582318,
            -0.30901699437494734,
            -0.4077237142702345,
            -0.587785252292473,
            -0.6661193487237165,
            -0.8090169943749473,
            -0.8593105801977142,
            -0.9510565162951535,
            -0.9683865049130941,
            -1,
            -0.9826700113820594,
            -0.9510565162951536,
            -0.9007629304723868,
            -0.8090169943749475,
            -0.730682897943704,
            -0.5877852522924732,
            -0.48907853239718607,
            -0.30901699437494756,
            -0.19959975248912432,
            -1.8369701987210297e-16,
            null
           ],
           "y": [
            -1,
            -0.9826700113820594,
            -0.9510565162951536,
            -0.9007629304723868,
            -0.8090169943749476,
            -0.7306828979437041,
            -0.5877852522924734,
            -0.4890785323971862,
            -0.3090169943749477,
            -0.19959975248912434,
            0,
            0.10941724188582323,
            0.3090169943749474,
            0.40772371427023457,
            0.5877852522924731,
            0.6661193487237166,
            0.8090169943749475,
            0.8593105801977143,
            0.9510565162951535,
            0.9683865049130941,
            1,
            0.9826700113820594,
            0.9510565162951536,
            0.9007629304723868,
            0.8090169943749475,
            0.730682897943704,
            0.5877852522924732,
            0.48907853239718607,
            0.3090169943749475,
            0.19959975248912426,
            1.2246467991473532e-16,
            -0.10941724188582311,
            -0.3090169943749473,
            -0.40772371427023446,
            -0.587785252292473,
            -0.6661193487237165,
            -0.8090169943749473,
            -0.8593105801977142,
            -0.9510565162951535,
            -0.9683865049130941,
            -1,
            null
           ],
           "z": [
            0.583673469387755,
            0.583673469387755,
            0.583673469387755,
            0.583673469387755,
            0.583673469387755,
            0.583673469387755,
            0.583673469387755,
            0.583673469387755,
            0.583673469387755,
            0.583673469387755,
            0.583673469387755,
            0.583673469387755,
            0.583673469387755,
            0.583673469387755,
            0.583673469387755,
            0.583673469387755,
            0.583673469387755,
            0.583673469387755,
            0.583673469387755,
            0.583673469387755,
            0.583673469387755,
            0.583673469387755,
            0.583673469387755,
            0.583673469387755,
            0.583673469387755,
            0.583673469387755,
            0.583673469387755,
            0.583673469387755,
            0.583673469387755,
            0.583673469387755,
            0.583673469387755,
            0.583673469387755,
            0.583673469387755,
            0.583673469387755,
            0.583673469387755,
            0.583673469387755,
            0.583673469387755,
            0.583673469387755,
            0.583673469387755,
            0.583673469387755,
            0.583673469387755,
            null
           ]
          }
         ],
         "name": "frame_31",
         "traces": [
          0,
          1
         ]
        },
        {
         "data": [
          {
           "color": "lightblue",
           "i": {
            "bdata": "AQECAgQEBQUGBgcHCAgJCQoKCwsMDA0NDg4PDxAQERESEhMTFBQVFRYWFxcYGBkZGhobGxwcHR0eHh8fICAhISIiIyMkJCUlJiYnJygoKSk=",
            "dtype": "i1"
           },
           "j": {
            "bdata": "AAQEBQAGBgcACAgJAAoKCwAMDA0ADg4PABAQEQASEhMAFBQVABYWFwAYGBkAGhobABwcHQAeHh8AICAhACIiIwAkJCUAJiYnACgoKQABAQI=",
            "dtype": "i1"
           },
           "k": {
            "bdata": "BAIFAwYFBwMIBwkDCgkLAwwLDQMODQ8DEA8RAxIREwMUExUDFhUXAxgXGQMaGRsDHBsdAx4dHwMgHyEDIiEjAyQjJQMmJScDKCcpAwEpAgM=",
            "dtype": "i1"
           },
           "name": "Mesh",
           "opacity": 0.3,
           "type": "mesh3d",
           "x": {
            "bdata": "AAAAAAAAAAAAAAAAAADwPwAAAAAAAPA/AAAAAAAAAAD/VEQTDm/uP/9URBMOb+4/qPSXm3fj6T+o9Jebd+PpP15adQQjz+I/Xlp1BCPP4j9Q6S8378bTP1DpLzfvxtM/B1wUMyamkTwHXBQzJqaRPE7pLzfvxtO/TukvN+/G079dWnUEI8/iv11adQQjz+K/p/SXm3fj6b+n9Jebd+Ppv/9URBMOb+6//1REEw5v7r8AAAAAAADwvwAAAAAAAPC/AFVEEw5v7r8AVUQTDm/uv6j0l5t34+m/qPSXm3fj6b9fWnUEI8/iv19adQQjz+K/UukvN+/G079S6S8378bTvwqKnkw5eaq8CoqeTDl5qrxM6S8378bTP0zpLzfvxtM/XFp1BCPP4j9cWnUEI8/iP6f0l5t34+k/p/SXm3fj6T//VEQTDm/uP/9URBMOb+4/",
            "dtype": "f8"
           },
           "y": {
            "bdata": "AAAAAAAAAAAAAAAAAAAAAAAAAAAAAAAAAAAAAAAAAABP6S8378bTP0/pLzfvxtM/Xlp1BCPP4j9eWnUEI8/iP6j0l5t34+k/qPSXm3fj6T//VEQTDm/uP/9URBMOb+4/AAAAAAAA8D8AAAAAAADwPwBVRBMOb+4/AFVEEw5v7j+o9Jebd+PpP6j0l5t34+k/X1p1BCPP4j9fWnUEI8/iP1HpLzfvxtM/UekvN+/G0z8HXBQzJqahPAdcFDMmpqE8TekvN+/G079N6S8378bTv11adQQjz+K/XVp1BCPP4r+n9Jebd+Ppv6f0l5t34+m//1REEw5v7r//VEQTDm/uvwAAAAAAAPC/AAAAAAAA8L8AVUQTDm/uvwBVRBMOb+6/qfSXm3fj6b+p9Jebd+Ppv2BadQQjz+K/YFp1BCPP4r9U6S8378bTv1TpLzfvxtO/",
            "dtype": "f8"
           },
           "z": {
            "bdata": "AAAAAAAAAMAAAAAAAAAAwAAAAAAAAABAAAAAAAAAAEAAAAAAAAAAwAAAAAAAAABAAAAAAAAAAMAAAAAAAAAAQAAAAAAAAADAAAAAAAAAAEAAAAAAAAAAwAAAAAAAAABAAAAAAAAAAMAAAAAAAAAAQAAAAAAAAADAAAAAAAAAAEAAAAAAAAAAwAAAAAAAAABAAAAAAAAAAMAAAAAAAAAAQAAAAAAAAADAAAAAAAAAAEAAAAAAAAAAwAAAAAAAAABAAAAAAAAAAMAAAAAAAAAAQAAAAAAAAADAAAAAAAAAAEAAAAAAAAAAwAAAAAAAAABAAAAAAAAAAMAAAAAAAAAAQAAAAAAAAADAAAAAAAAAAEAAAAAAAAAAwAAAAAAAAABAAAAAAAAAAMAAAAAAAAAAQAAAAAAAAADAAAAAAAAAAEAAAAAAAAAAwAAAAAAAAABA",
            "dtype": "f8"
           }
          },
          {
           "line": {
            "color": "red",
            "width": 5
           },
           "mode": "lines",
           "name": "Slice at z=0.67",
           "type": "scatter3d",
           "x": [
            -1.8369701987210297e-16,
            0.1024801256855691,
            0.30901699437494723,
            0.401465651337392,
            0.5877852522924729,
            0.6611529218606405,
            0.8090169943749473,
            0.8561219378688932,
            0.9510565162951535,
            0.9672877736462506,
            1,
            0.9837687426489029,
            0.9510565162951535,
            0.9039515728012076,
            0.8090169943749475,
            0.7356493248067799,
            0.5877852522924731,
            0.4953365953300284,
            0.30901699437494745,
            0.20653686868937815,
            6.123233995736766e-17,
            -0.10248012568556923,
            -0.30901699437494734,
            -0.4014656513373921,
            -0.587785252292473,
            -0.6611529218606406,
            -0.8090169943749473,
            -0.8561219378688932,
            -0.9510565162951535,
            -0.9672877736462506,
            -1,
            -0.983768742648903,
            -0.9510565162951536,
            -0.9039515728012077,
            -0.8090169943749475,
            -0.73564932480678,
            -0.5877852522924732,
            -0.4953365953300285,
            -0.30901699437494756,
            -0.20653686868937826,
            -1.8369701987210297e-16,
            null
           ],
           "y": [
            -1,
            -0.983768742648903,
            -0.9510565162951536,
            -0.9039515728012077,
            -0.8090169943749476,
            -0.7356493248067801,
            -0.5877852522924734,
            -0.4953365953300286,
            -0.3090169943749477,
            -0.20653686868937832,
            0,
            0.10248012568556929,
            0.3090169943749474,
            0.40146565133739215,
            0.5877852522924731,
            0.6611529218606407,
            0.8090169943749475,
            0.8561219378688933,
            0.9510565162951535,
            0.9672877736462506,
            1,
            0.983768742648903,
            0.9510565162951536,
            0.9039515728012077,
            0.8090169943749475,
            0.73564932480678,
            0.5877852522924732,
            0.4953365953300285,
            0.3090169943749475,
            0.2065368686893782,
            1.2246467991473532e-16,
            -0.10248012568556916,
            -0.3090169943749473,
            -0.40146565133739204,
            -0.587785252292473,
            -0.6611529218606406,
            -0.8090169943749473,
            -0.8561219378688932,
            -0.9510565162951535,
            -0.9672877736462506,
            -1,
            null
           ],
           "z": [
            0.6734693877551021,
            0.6734693877551021,
            0.6734693877551021,
            0.6734693877551021,
            0.6734693877551021,
            0.6734693877551021,
            0.6734693877551021,
            0.6734693877551021,
            0.6734693877551021,
            0.6734693877551021,
            0.6734693877551021,
            0.6734693877551021,
            0.6734693877551021,
            0.6734693877551021,
            0.6734693877551021,
            0.6734693877551021,
            0.6734693877551021,
            0.6734693877551021,
            0.6734693877551021,
            0.6734693877551021,
            0.6734693877551021,
            0.6734693877551021,
            0.6734693877551021,
            0.6734693877551021,
            0.6734693877551021,
            0.6734693877551021,
            0.6734693877551021,
            0.6734693877551021,
            0.6734693877551021,
            0.6734693877551021,
            0.6734693877551021,
            0.6734693877551021,
            0.6734693877551021,
            0.6734693877551021,
            0.6734693877551021,
            0.6734693877551021,
            0.6734693877551021,
            0.6734693877551021,
            0.6734693877551021,
            0.6734693877551021,
            0.6734693877551021,
            null
           ]
          }
         ],
         "name": "frame_32",
         "traces": [
          0,
          1
         ]
        },
        {
         "data": [
          {
           "color": "lightblue",
           "i": {
            "bdata": "AQECAgQEBQUGBgcHCAgJCQoKCwsMDA0NDg4PDxAQERESEhMTFBQVFRYWFxcYGBkZGhobGxwcHR0eHh8fICAhISIiIyMkJCUlJiYnJygoKSk=",
            "dtype": "i1"
           },
           "j": {
            "bdata": "AAQEBQAGBgcACAgJAAoKCwAMDA0ADg4PABAQEQASEhMAFBQVABYWFwAYGBkAGhobABwcHQAeHh8AICAhACIiIwAkJCUAJiYnACgoKQABAQI=",
            "dtype": "i1"
           },
           "k": {
            "bdata": "BAIFAwYFBwMIBwkDCgkLAwwLDQMODQ8DEA8RAxIREwMUExUDFhUXAxgXGQMaGRsDHBsdAx4dHwMgHyEDIiEjAyQjJQMmJScDKCcpAwEpAgM=",
            "dtype": "i1"
           },
           "name": "Mesh",
           "opacity": 0.3,
           "type": "mesh3d",
           "x": {
            "bdata": "AAAAAAAAAAAAAAAAAADwPwAAAAAAAPA/AAAAAAAAAAD/VEQTDm/uP/9URBMOb+4/qPSXm3fj6T+o9Jebd+PpP15adQQjz+I/Xlp1BCPP4j9Q6S8378bTP1DpLzfvxtM/B1wUMyamkTwHXBQzJqaRPE7pLzfvxtO/TukvN+/G079dWnUEI8/iv11adQQjz+K/p/SXm3fj6b+n9Jebd+Ppv/9URBMOb+6//1REEw5v7r8AAAAAAADwvwAAAAAAAPC/AFVEEw5v7r8AVUQTDm/uv6j0l5t34+m/qPSXm3fj6b9fWnUEI8/iv19adQQjz+K/UukvN+/G079S6S8378bTvwqKnkw5eaq8CoqeTDl5qrxM6S8378bTP0zpLzfvxtM/XFp1BCPP4j9cWnUEI8/iP6f0l5t34+k/p/SXm3fj6T//VEQTDm/uP/9URBMOb+4/",
            "dtype": "f8"
           },
           "y": {
            "bdata": "AAAAAAAAAAAAAAAAAAAAAAAAAAAAAAAAAAAAAAAAAABP6S8378bTP0/pLzfvxtM/Xlp1BCPP4j9eWnUEI8/iP6j0l5t34+k/qPSXm3fj6T//VEQTDm/uP/9URBMOb+4/AAAAAAAA8D8AAAAAAADwPwBVRBMOb+4/AFVEEw5v7j+o9Jebd+PpP6j0l5t34+k/X1p1BCPP4j9fWnUEI8/iP1HpLzfvxtM/UekvN+/G0z8HXBQzJqahPAdcFDMmpqE8TekvN+/G079N6S8378bTv11adQQjz+K/XVp1BCPP4r+n9Jebd+Ppv6f0l5t34+m//1REEw5v7r//VEQTDm/uvwAAAAAAAPC/AAAAAAAA8L8AVUQTDm/uvwBVRBMOb+6/qfSXm3fj6b+p9Jebd+Ppv2BadQQjz+K/YFp1BCPP4r9U6S8378bTv1TpLzfvxtO/",
            "dtype": "f8"
           },
           "z": {
            "bdata": "AAAAAAAAAMAAAAAAAAAAwAAAAAAAAABAAAAAAAAAAEAAAAAAAAAAwAAAAAAAAABAAAAAAAAAAMAAAAAAAAAAQAAAAAAAAADAAAAAAAAAAEAAAAAAAAAAwAAAAAAAAABAAAAAAAAAAMAAAAAAAAAAQAAAAAAAAADAAAAAAAAAAEAAAAAAAAAAwAAAAAAAAABAAAAAAAAAAMAAAAAAAAAAQAAAAAAAAADAAAAAAAAAAEAAAAAAAAAAwAAAAAAAAABAAAAAAAAAAMAAAAAAAAAAQAAAAAAAAADAAAAAAAAAAEAAAAAAAAAAwAAAAAAAAABAAAAAAAAAAMAAAAAAAAAAQAAAAAAAAADAAAAAAAAAAEAAAAAAAAAAwAAAAAAAAABAAAAAAAAAAMAAAAAAAAAAQAAAAAAAAADAAAAAAAAAAEAAAAAAAAAAwAAAAAAAAABA",
            "dtype": "f8"
           }
          },
          {
           "line": {
            "color": "red",
            "width": 5
           },
           "mode": "lines",
           "name": "Slice at z=0.76",
           "type": "scatter3d",
           "x": [
            -1.8369701987210297e-16,
            0.09554300948531518,
            0.30901699437494723,
            0.39520758840454956,
            0.5877852522924729,
            0.6561864949975644,
            0.8090169943749473,
            0.8529332955400724,
            0.9510565162951535,
            0.9661890423794071,
            1,
            0.9848674739157465,
            0.9510565162951535,
            0.9071402151300286,
            0.8090169943749475,
            0.7406157516698559,
            0.5877852522924731,
            0.5015946582628709,
            0.30901699437494745,
            0.2134739848896321,
            6.123233995736766e-17,
            -0.0955430094853153,
            -0.30901699437494734,
            -0.39520758840454967,
            -0.587785252292473,
            -0.6561864949975645,
            -0.8090169943749473,
            -0.8529332955400724,
            -0.9510565162951535,
            -0.9661890423794071,
            -1,
            -0.9848674739157465,
            -0.9510565162951536,
            -0.9071402151300286,
            -0.8090169943749475,
            -0.7406157516698559,
            -0.5877852522924732,
            -0.501594658262871,
            -0.30901699437494756,
            -0.2134739848896322,
            -1.8369701987210297e-16,
            null
           ],
           "y": [
            -1,
            -0.9848674739157465,
            -0.9510565162951536,
            -0.9071402151300287,
            -0.8090169943749476,
            -0.740615751669856,
            -0.5877852522924734,
            -0.5015946582628711,
            -0.3090169943749477,
            -0.21347398488963223,
            0,
            0.09554300948531536,
            0.3090169943749474,
            0.3952075884045497,
            0.5877852522924731,
            0.6561864949975647,
            0.8090169943749475,
            0.8529332955400724,
            0.9510565162951535,
            0.9661890423794071,
            1,
            0.9848674739157465,
            0.9510565162951536,
            0.9071402151300286,
            0.8090169943749475,
            0.7406157516698559,
            0.5877852522924732,
            0.501594658262871,
            0.3090169943749475,
            0.21347398488963215,
            1.2246467991473532e-16,
            -0.09554300948531523,
            -0.3090169943749473,
            -0.3952075884045496,
            -0.587785252292473,
            -0.6561864949975645,
            -0.8090169943749473,
            -0.8529332955400724,
            -0.9510565162951535,
            -0.9661890423794071,
            -1,
            null
           ],
           "z": [
            0.7632653061224492,
            0.7632653061224492,
            0.7632653061224492,
            0.7632653061224492,
            0.7632653061224492,
            0.7632653061224492,
            0.7632653061224492,
            0.7632653061224492,
            0.7632653061224492,
            0.7632653061224492,
            0.7632653061224492,
            0.7632653061224492,
            0.7632653061224492,
            0.7632653061224492,
            0.7632653061224492,
            0.7632653061224492,
            0.7632653061224492,
            0.7632653061224492,
            0.7632653061224492,
            0.7632653061224492,
            0.7632653061224492,
            0.7632653061224492,
            0.7632653061224492,
            0.7632653061224492,
            0.7632653061224492,
            0.7632653061224492,
            0.7632653061224492,
            0.7632653061224492,
            0.7632653061224492,
            0.7632653061224492,
            0.7632653061224492,
            0.7632653061224492,
            0.7632653061224492,
            0.7632653061224492,
            0.7632653061224492,
            0.7632653061224492,
            0.7632653061224492,
            0.7632653061224492,
            0.7632653061224492,
            0.7632653061224492,
            0.7632653061224492,
            null
           ]
          }
         ],
         "name": "frame_33",
         "traces": [
          0,
          1
         ]
        },
        {
         "data": [
          {
           "color": "lightblue",
           "i": {
            "bdata": "AQECAgQEBQUGBgcHCAgJCQoKCwsMDA0NDg4PDxAQERESEhMTFBQVFRYWFxcYGBkZGhobGxwcHR0eHh8fICAhISIiIyMkJCUlJiYnJygoKSk=",
            "dtype": "i1"
           },
           "j": {
            "bdata": "AAQEBQAGBgcACAgJAAoKCwAMDA0ADg4PABAQEQASEhMAFBQVABYWFwAYGBkAGhobABwcHQAeHh8AICAhACIiIwAkJCUAJiYnACgoKQABAQI=",
            "dtype": "i1"
           },
           "k": {
            "bdata": "BAIFAwYFBwMIBwkDCgkLAwwLDQMODQ8DEA8RAxIREwMUExUDFhUXAxgXGQMaGRsDHBsdAx4dHwMgHyEDIiEjAyQjJQMmJScDKCcpAwEpAgM=",
            "dtype": "i1"
           },
           "name": "Mesh",
           "opacity": 0.3,
           "type": "mesh3d",
           "x": {
            "bdata": "AAAAAAAAAAAAAAAAAADwPwAAAAAAAPA/AAAAAAAAAAD/VEQTDm/uP/9URBMOb+4/qPSXm3fj6T+o9Jebd+PpP15adQQjz+I/Xlp1BCPP4j9Q6S8378bTP1DpLzfvxtM/B1wUMyamkTwHXBQzJqaRPE7pLzfvxtO/TukvN+/G079dWnUEI8/iv11adQQjz+K/p/SXm3fj6b+n9Jebd+Ppv/9URBMOb+6//1REEw5v7r8AAAAAAADwvwAAAAAAAPC/AFVEEw5v7r8AVUQTDm/uv6j0l5t34+m/qPSXm3fj6b9fWnUEI8/iv19adQQjz+K/UukvN+/G079S6S8378bTvwqKnkw5eaq8CoqeTDl5qrxM6S8378bTP0zpLzfvxtM/XFp1BCPP4j9cWnUEI8/iP6f0l5t34+k/p/SXm3fj6T//VEQTDm/uP/9URBMOb+4/",
            "dtype": "f8"
           },
           "y": {
            "bdata": "AAAAAAAAAAAAAAAAAAAAAAAAAAAAAAAAAAAAAAAAAABP6S8378bTP0/pLzfvxtM/Xlp1BCPP4j9eWnUEI8/iP6j0l5t34+k/qPSXm3fj6T//VEQTDm/uP/9URBMOb+4/AAAAAAAA8D8AAAAAAADwPwBVRBMOb+4/AFVEEw5v7j+o9Jebd+PpP6j0l5t34+k/X1p1BCPP4j9fWnUEI8/iP1HpLzfvxtM/UekvN+/G0z8HXBQzJqahPAdcFDMmpqE8TekvN+/G079N6S8378bTv11adQQjz+K/XVp1BCPP4r+n9Jebd+Ppv6f0l5t34+m//1REEw5v7r//VEQTDm/uvwAAAAAAAPC/AAAAAAAA8L8AVUQTDm/uvwBVRBMOb+6/qfSXm3fj6b+p9Jebd+Ppv2BadQQjz+K/YFp1BCPP4r9U6S8378bTv1TpLzfvxtO/",
            "dtype": "f8"
           },
           "z": {
            "bdata": "AAAAAAAAAMAAAAAAAAAAwAAAAAAAAABAAAAAAAAAAEAAAAAAAAAAwAAAAAAAAABAAAAAAAAAAMAAAAAAAAAAQAAAAAAAAADAAAAAAAAAAEAAAAAAAAAAwAAAAAAAAABAAAAAAAAAAMAAAAAAAAAAQAAAAAAAAADAAAAAAAAAAEAAAAAAAAAAwAAAAAAAAABAAAAAAAAAAMAAAAAAAAAAQAAAAAAAAADAAAAAAAAAAEAAAAAAAAAAwAAAAAAAAABAAAAAAAAAAMAAAAAAAAAAQAAAAAAAAADAAAAAAAAAAEAAAAAAAAAAwAAAAAAAAABAAAAAAAAAAMAAAAAAAAAAQAAAAAAAAADAAAAAAAAAAEAAAAAAAAAAwAAAAAAAAABAAAAAAAAAAMAAAAAAAAAAQAAAAAAAAADAAAAAAAAAAEAAAAAAAAAAwAAAAAAAAABA",
            "dtype": "f8"
           }
          },
          {
           "line": {
            "color": "red",
            "width": 5
           },
           "mode": "lines",
           "name": "Slice at z=0.85",
           "type": "scatter3d",
           "x": [
            -1.8369701987210297e-16,
            0.08860589328506127,
            0.30901699437494723,
            0.38894952547170714,
            0.5877852522924729,
            0.6512200681344885,
            0.8090169943749473,
            0.8497446532112514,
            0.9510565162951535,
            0.9650903111125636,
            1,
            0.9859662051825899,
            0.9510565162951535,
            0.9103288574588495,
            0.8090169943749475,
            0.7455821785329318,
            0.5877852522924731,
            0.5078527211957132,
            0.30901699437494745,
            0.22041110108988599,
            6.123233995736766e-17,
            -0.0886058932850614,
            -0.30901699437494734,
            -0.38894952547170725,
            -0.587785252292473,
            -0.6512200681344886,
            -0.8090169943749473,
            -0.8497446532112514,
            -0.9510565162951535,
            -0.9650903111125636,
            -1,
            -0.9859662051825899,
            -0.9510565162951536,
            -0.9103288574588496,
            -0.8090169943749475,
            -0.7455821785329318,
            -0.5877852522924732,
            -0.5078527211957133,
            -0.30901699437494756,
            -0.2204111010898861,
            -1.8369701987210297e-16,
            null
           ],
           "y": [
            -1,
            -0.9859662051825899,
            -0.9510565162951536,
            -0.9103288574588496,
            -0.8090169943749476,
            -0.745582178532932,
            -0.5877852522924734,
            -0.5078527211957135,
            -0.3090169943749477,
            -0.22041110108988615,
            0,
            0.08860589328506145,
            0.3090169943749474,
            0.38894952547170736,
            0.5877852522924731,
            0.6512200681344887,
            0.8090169943749475,
            0.8497446532112515,
            0.9510565162951535,
            0.9650903111125636,
            1,
            0.9859662051825899,
            0.9510565162951536,
            0.9103288574588496,
            0.8090169943749475,
            0.7455821785329318,
            0.5877852522924732,
            0.5078527211957133,
            0.3090169943749475,
            0.22041110108988604,
            1.2246467991473532e-16,
            -0.08860589328506133,
            -0.3090169943749473,
            -0.38894952547170725,
            -0.587785252292473,
            -0.6512200681344886,
            -0.8090169943749473,
            -0.8497446532112514,
            -0.9510565162951535,
            -0.9650903111125636,
            -1,
            null
           ],
           "z": [
            0.8530612244897959,
            0.8530612244897959,
            0.8530612244897959,
            0.8530612244897959,
            0.8530612244897959,
            0.8530612244897959,
            0.8530612244897959,
            0.8530612244897959,
            0.8530612244897959,
            0.8530612244897959,
            0.8530612244897959,
            0.8530612244897959,
            0.8530612244897959,
            0.8530612244897959,
            0.8530612244897959,
            0.8530612244897959,
            0.8530612244897959,
            0.8530612244897959,
            0.8530612244897959,
            0.8530612244897959,
            0.8530612244897959,
            0.8530612244897959,
            0.8530612244897959,
            0.8530612244897959,
            0.8530612244897959,
            0.8530612244897959,
            0.8530612244897959,
            0.8530612244897959,
            0.8530612244897959,
            0.8530612244897959,
            0.8530612244897959,
            0.8530612244897959,
            0.8530612244897959,
            0.8530612244897959,
            0.8530612244897959,
            0.8530612244897959,
            0.8530612244897959,
            0.8530612244897959,
            0.8530612244897959,
            0.8530612244897959,
            0.8530612244897959,
            null
           ]
          }
         ],
         "name": "frame_34",
         "traces": [
          0,
          1
         ]
        },
        {
         "data": [
          {
           "color": "lightblue",
           "i": {
            "bdata": "AQECAgQEBQUGBgcHCAgJCQoKCwsMDA0NDg4PDxAQERESEhMTFBQVFRYWFxcYGBkZGhobGxwcHR0eHh8fICAhISIiIyMkJCUlJiYnJygoKSk=",
            "dtype": "i1"
           },
           "j": {
            "bdata": "AAQEBQAGBgcACAgJAAoKCwAMDA0ADg4PABAQEQASEhMAFBQVABYWFwAYGBkAGhobABwcHQAeHh8AICAhACIiIwAkJCUAJiYnACgoKQABAQI=",
            "dtype": "i1"
           },
           "k": {
            "bdata": "BAIFAwYFBwMIBwkDCgkLAwwLDQMODQ8DEA8RAxIREwMUExUDFhUXAxgXGQMaGRsDHBsdAx4dHwMgHyEDIiEjAyQjJQMmJScDKCcpAwEpAgM=",
            "dtype": "i1"
           },
           "name": "Mesh",
           "opacity": 0.3,
           "type": "mesh3d",
           "x": {
            "bdata": "AAAAAAAAAAAAAAAAAADwPwAAAAAAAPA/AAAAAAAAAAD/VEQTDm/uP/9URBMOb+4/qPSXm3fj6T+o9Jebd+PpP15adQQjz+I/Xlp1BCPP4j9Q6S8378bTP1DpLzfvxtM/B1wUMyamkTwHXBQzJqaRPE7pLzfvxtO/TukvN+/G079dWnUEI8/iv11adQQjz+K/p/SXm3fj6b+n9Jebd+Ppv/9URBMOb+6//1REEw5v7r8AAAAAAADwvwAAAAAAAPC/AFVEEw5v7r8AVUQTDm/uv6j0l5t34+m/qPSXm3fj6b9fWnUEI8/iv19adQQjz+K/UukvN+/G079S6S8378bTvwqKnkw5eaq8CoqeTDl5qrxM6S8378bTP0zpLzfvxtM/XFp1BCPP4j9cWnUEI8/iP6f0l5t34+k/p/SXm3fj6T//VEQTDm/uP/9URBMOb+4/",
            "dtype": "f8"
           },
           "y": {
            "bdata": "AAAAAAAAAAAAAAAAAAAAAAAAAAAAAAAAAAAAAAAAAABP6S8378bTP0/pLzfvxtM/Xlp1BCPP4j9eWnUEI8/iP6j0l5t34+k/qPSXm3fj6T//VEQTDm/uP/9URBMOb+4/AAAAAAAA8D8AAAAAAADwPwBVRBMOb+4/AFVEEw5v7j+o9Jebd+PpP6j0l5t34+k/X1p1BCPP4j9fWnUEI8/iP1HpLzfvxtM/UekvN+/G0z8HXBQzJqahPAdcFDMmpqE8TekvN+/G079N6S8378bTv11adQQjz+K/XVp1BCPP4r+n9Jebd+Ppv6f0l5t34+m//1REEw5v7r//VEQTDm/uvwAAAAAAAPC/AAAAAAAA8L8AVUQTDm/uvwBVRBMOb+6/qfSXm3fj6b+p9Jebd+Ppv2BadQQjz+K/YFp1BCPP4r9U6S8378bTv1TpLzfvxtO/",
            "dtype": "f8"
           },
           "z": {
            "bdata": "AAAAAAAAAMAAAAAAAAAAwAAAAAAAAABAAAAAAAAAAEAAAAAAAAAAwAAAAAAAAABAAAAAAAAAAMAAAAAAAAAAQAAAAAAAAADAAAAAAAAAAEAAAAAAAAAAwAAAAAAAAABAAAAAAAAAAMAAAAAAAAAAQAAAAAAAAADAAAAAAAAAAEAAAAAAAAAAwAAAAAAAAABAAAAAAAAAAMAAAAAAAAAAQAAAAAAAAADAAAAAAAAAAEAAAAAAAAAAwAAAAAAAAABAAAAAAAAAAMAAAAAAAAAAQAAAAAAAAADAAAAAAAAAAEAAAAAAAAAAwAAAAAAAAABAAAAAAAAAAMAAAAAAAAAAQAAAAAAAAADAAAAAAAAAAEAAAAAAAAAAwAAAAAAAAABAAAAAAAAAAMAAAAAAAAAAQAAAAAAAAADAAAAAAAAAAEAAAAAAAAAAwAAAAAAAAABA",
            "dtype": "f8"
           }
          },
          {
           "line": {
            "color": "red",
            "width": 5
           },
           "mode": "lines",
           "name": "Slice at z=0.94",
           "type": "scatter3d",
           "x": [
            -1.8369701987210297e-16,
            0.08166877708480733,
            0.30901699437494723,
            0.3826914625388647,
            0.5877852522924729,
            0.6462536412714126,
            0.8090169943749473,
            0.8465560108824304,
            0.9510565162951535,
            0.9639915798457201,
            1,
            0.9870649364494334,
            0.9510565162951535,
            0.9135174997876705,
            0.8090169943749475,
            0.7505486053960079,
            0.5877852522924731,
            0.5141107841285557,
            0.30901699437494745,
            0.22734821729013993,
            6.123233995736766e-17,
            -0.08166877708480745,
            -0.30901699437494734,
            -0.3826914625388648,
            -0.587785252292473,
            -0.6462536412714126,
            -0.8090169943749473,
            -0.8465560108824304,
            -0.9510565162951535,
            -0.9639915798457201,
            -1,
            -0.9870649364494335,
            -0.9510565162951536,
            -0.9135174997876706,
            -0.8090169943749475,
            -0.7505486053960079,
            -0.5877852522924732,
            -0.5141107841285557,
            -0.30901699437494756,
            -0.22734821729014004,
            -1.8369701987210297e-16,
            null
           ],
           "y": [
            -1,
            -0.9870649364494335,
            -0.9510565162951536,
            -0.9135174997876706,
            -0.8090169943749476,
            -0.750548605396008,
            -0.5877852522924734,
            -0.5141107841285559,
            -0.3090169943749477,
            -0.2273482172901401,
            0,
            0.0816687770848075,
            0.3090169943749474,
            0.3826914625388649,
            0.5877852522924731,
            0.6462536412714127,
            0.8090169943749475,
            0.8465560108824305,
            0.9510565162951535,
            0.9639915798457201,
            1,
            0.9870649364494335,
            0.9510565162951536,
            0.9135174997876706,
            0.8090169943749475,
            0.7505486053960079,
            0.5877852522924732,
            0.5141107841285557,
            0.3090169943749475,
            0.22734821729014,
            1.2246467991473532e-16,
            -0.08166877708480738,
            -0.3090169943749473,
            -0.38269146253886477,
            -0.587785252292473,
            -0.6462536412714126,
            -0.8090169943749473,
            -0.8465560108824304,
            -0.9510565162951535,
            -0.9639915798457201,
            -1,
            null
           ],
           "z": [
            0.9428571428571431,
            0.9428571428571431,
            0.9428571428571431,
            0.9428571428571431,
            0.9428571428571431,
            0.9428571428571431,
            0.9428571428571431,
            0.9428571428571431,
            0.9428571428571431,
            0.9428571428571431,
            0.9428571428571431,
            0.9428571428571431,
            0.9428571428571431,
            0.9428571428571431,
            0.9428571428571431,
            0.9428571428571431,
            0.9428571428571431,
            0.9428571428571431,
            0.9428571428571431,
            0.9428571428571431,
            0.9428571428571431,
            0.9428571428571431,
            0.9428571428571431,
            0.9428571428571431,
            0.9428571428571431,
            0.9428571428571431,
            0.9428571428571431,
            0.9428571428571431,
            0.9428571428571431,
            0.9428571428571431,
            0.9428571428571431,
            0.9428571428571431,
            0.9428571428571431,
            0.9428571428571431,
            0.9428571428571431,
            0.9428571428571431,
            0.9428571428571431,
            0.9428571428571431,
            0.9428571428571431,
            0.9428571428571431,
            0.9428571428571431,
            null
           ]
          }
         ],
         "name": "frame_35",
         "traces": [
          0,
          1
         ]
        },
        {
         "data": [
          {
           "color": "lightblue",
           "i": {
            "bdata": "AQECAgQEBQUGBgcHCAgJCQoKCwsMDA0NDg4PDxAQERESEhMTFBQVFRYWFxcYGBkZGhobGxwcHR0eHh8fICAhISIiIyMkJCUlJiYnJygoKSk=",
            "dtype": "i1"
           },
           "j": {
            "bdata": "AAQEBQAGBgcACAgJAAoKCwAMDA0ADg4PABAQEQASEhMAFBQVABYWFwAYGBkAGhobABwcHQAeHh8AICAhACIiIwAkJCUAJiYnACgoKQABAQI=",
            "dtype": "i1"
           },
           "k": {
            "bdata": "BAIFAwYFBwMIBwkDCgkLAwwLDQMODQ8DEA8RAxIREwMUExUDFhUXAxgXGQMaGRsDHBsdAx4dHwMgHyEDIiEjAyQjJQMmJScDKCcpAwEpAgM=",
            "dtype": "i1"
           },
           "name": "Mesh",
           "opacity": 0.3,
           "type": "mesh3d",
           "x": {
            "bdata": "AAAAAAAAAAAAAAAAAADwPwAAAAAAAPA/AAAAAAAAAAD/VEQTDm/uP/9URBMOb+4/qPSXm3fj6T+o9Jebd+PpP15adQQjz+I/Xlp1BCPP4j9Q6S8378bTP1DpLzfvxtM/B1wUMyamkTwHXBQzJqaRPE7pLzfvxtO/TukvN+/G079dWnUEI8/iv11adQQjz+K/p/SXm3fj6b+n9Jebd+Ppv/9URBMOb+6//1REEw5v7r8AAAAAAADwvwAAAAAAAPC/AFVEEw5v7r8AVUQTDm/uv6j0l5t34+m/qPSXm3fj6b9fWnUEI8/iv19adQQjz+K/UukvN+/G079S6S8378bTvwqKnkw5eaq8CoqeTDl5qrxM6S8378bTP0zpLzfvxtM/XFp1BCPP4j9cWnUEI8/iP6f0l5t34+k/p/SXm3fj6T//VEQTDm/uP/9URBMOb+4/",
            "dtype": "f8"
           },
           "y": {
            "bdata": "AAAAAAAAAAAAAAAAAAAAAAAAAAAAAAAAAAAAAAAAAABP6S8378bTP0/pLzfvxtM/Xlp1BCPP4j9eWnUEI8/iP6j0l5t34+k/qPSXm3fj6T//VEQTDm/uP/9URBMOb+4/AAAAAAAA8D8AAAAAAADwPwBVRBMOb+4/AFVEEw5v7j+o9Jebd+PpP6j0l5t34+k/X1p1BCPP4j9fWnUEI8/iP1HpLzfvxtM/UekvN+/G0z8HXBQzJqahPAdcFDMmpqE8TekvN+/G079N6S8378bTv11adQQjz+K/XVp1BCPP4r+n9Jebd+Ppv6f0l5t34+m//1REEw5v7r//VEQTDm/uvwAAAAAAAPC/AAAAAAAA8L8AVUQTDm/uvwBVRBMOb+6/qfSXm3fj6b+p9Jebd+Ppv2BadQQjz+K/YFp1BCPP4r9U6S8378bTv1TpLzfvxtO/",
            "dtype": "f8"
           },
           "z": {
            "bdata": "AAAAAAAAAMAAAAAAAAAAwAAAAAAAAABAAAAAAAAAAEAAAAAAAAAAwAAAAAAAAABAAAAAAAAAAMAAAAAAAAAAQAAAAAAAAADAAAAAAAAAAEAAAAAAAAAAwAAAAAAAAABAAAAAAAAAAMAAAAAAAAAAQAAAAAAAAADAAAAAAAAAAEAAAAAAAAAAwAAAAAAAAABAAAAAAAAAAMAAAAAAAAAAQAAAAAAAAADAAAAAAAAAAEAAAAAAAAAAwAAAAAAAAABAAAAAAAAAAMAAAAAAAAAAQAAAAAAAAADAAAAAAAAAAEAAAAAAAAAAwAAAAAAAAABAAAAAAAAAAMAAAAAAAAAAQAAAAAAAAADAAAAAAAAAAEAAAAAAAAAAwAAAAAAAAABAAAAAAAAAAMAAAAAAAAAAQAAAAAAAAADAAAAAAAAAAEAAAAAAAAAAwAAAAAAAAABA",
            "dtype": "f8"
           }
          },
          {
           "line": {
            "color": "red",
            "width": 5
           },
           "mode": "lines",
           "name": "Slice at z=1.03",
           "type": "scatter3d",
           "x": [
            -1.8369701987210297e-16,
            0.07473166088455342,
            0.30901699437494723,
            0.3764333996060223,
            0.5877852522924729,
            0.6412872144083366,
            0.8090169943749473,
            0.8433673685536095,
            0.9510565162951535,
            0.9628928485788766,
            1,
            0.988163667716277,
            0.9510565162951535,
            0.9167061421164915,
            0.8090169943749475,
            0.7555150322590838,
            0.5877852522924731,
            0.5203688470613981,
            0.30901699437494745,
            0.23428533349039385,
            6.123233995736766e-17,
            -0.07473166088455355,
            -0.30901699437494734,
            -0.3764333996060224,
            -0.587785252292473,
            -0.6412872144083367,
            -0.8090169943749473,
            -0.8433673685536095,
            -0.9510565162951535,
            -0.9628928485788766,
            -1,
            -0.988163667716277,
            -0.9510565162951536,
            -0.9167061421164915,
            -0.8090169943749475,
            -0.7555150322590838,
            -0.5877852522924732,
            -0.5203688470613982,
            -0.30901699437494756,
            -0.23428533349039396,
            -1.8369701987210297e-16,
            null
           ],
           "y": [
            -1,
            -0.988163667716277,
            -0.9510565162951536,
            -0.9167061421164916,
            -0.8090169943749476,
            -0.7555150322590839,
            -0.5877852522924734,
            -0.5203688470613983,
            -0.3090169943749477,
            -0.234285333490394,
            0,
            0.0747316608845536,
            0.3090169943749474,
            0.3764333996060225,
            0.5877852522924731,
            0.6412872144083368,
            0.8090169943749475,
            0.8433673685536095,
            0.9510565162951535,
            0.9628928485788766,
            1,
            0.988163667716277,
            0.9510565162951536,
            0.9167061421164915,
            0.8090169943749475,
            0.7555150322590838,
            0.5877852522924732,
            0.5203688470613982,
            0.3090169943749475,
            0.2342853334903939,
            1.2246467991473532e-16,
            -0.07473166088455348,
            -0.3090169943749473,
            -0.3764333996060224,
            -0.587785252292473,
            -0.6412872144083367,
            -0.8090169943749473,
            -0.8433673685536095,
            -0.9510565162951535,
            -0.9628928485788766,
            -1,
            null
           ],
           "z": [
            1.0326530612244897,
            1.0326530612244897,
            1.0326530612244897,
            1.0326530612244897,
            1.0326530612244897,
            1.0326530612244897,
            1.0326530612244897,
            1.0326530612244897,
            1.0326530612244897,
            1.0326530612244897,
            1.0326530612244897,
            1.0326530612244897,
            1.0326530612244897,
            1.0326530612244897,
            1.0326530612244897,
            1.0326530612244897,
            1.0326530612244897,
            1.0326530612244897,
            1.0326530612244897,
            1.0326530612244897,
            1.0326530612244897,
            1.0326530612244897,
            1.0326530612244897,
            1.0326530612244897,
            1.0326530612244897,
            1.0326530612244897,
            1.0326530612244897,
            1.0326530612244897,
            1.0326530612244897,
            1.0326530612244897,
            1.0326530612244897,
            1.0326530612244897,
            1.0326530612244897,
            1.0326530612244897,
            1.0326530612244897,
            1.0326530612244897,
            1.0326530612244897,
            1.0326530612244897,
            1.0326530612244897,
            1.0326530612244897,
            1.0326530612244897,
            null
           ]
          }
         ],
         "name": "frame_36",
         "traces": [
          0,
          1
         ]
        },
        {
         "data": [
          {
           "color": "lightblue",
           "i": {
            "bdata": "AQECAgQEBQUGBgcHCAgJCQoKCwsMDA0NDg4PDxAQERESEhMTFBQVFRYWFxcYGBkZGhobGxwcHR0eHh8fICAhISIiIyMkJCUlJiYnJygoKSk=",
            "dtype": "i1"
           },
           "j": {
            "bdata": "AAQEBQAGBgcACAgJAAoKCwAMDA0ADg4PABAQEQASEhMAFBQVABYWFwAYGBkAGhobABwcHQAeHh8AICAhACIiIwAkJCUAJiYnACgoKQABAQI=",
            "dtype": "i1"
           },
           "k": {
            "bdata": "BAIFAwYFBwMIBwkDCgkLAwwLDQMODQ8DEA8RAxIREwMUExUDFhUXAxgXGQMaGRsDHBsdAx4dHwMgHyEDIiEjAyQjJQMmJScDKCcpAwEpAgM=",
            "dtype": "i1"
           },
           "name": "Mesh",
           "opacity": 0.3,
           "type": "mesh3d",
           "x": {
            "bdata": "AAAAAAAAAAAAAAAAAADwPwAAAAAAAPA/AAAAAAAAAAD/VEQTDm/uP/9URBMOb+4/qPSXm3fj6T+o9Jebd+PpP15adQQjz+I/Xlp1BCPP4j9Q6S8378bTP1DpLzfvxtM/B1wUMyamkTwHXBQzJqaRPE7pLzfvxtO/TukvN+/G079dWnUEI8/iv11adQQjz+K/p/SXm3fj6b+n9Jebd+Ppv/9URBMOb+6//1REEw5v7r8AAAAAAADwvwAAAAAAAPC/AFVEEw5v7r8AVUQTDm/uv6j0l5t34+m/qPSXm3fj6b9fWnUEI8/iv19adQQjz+K/UukvN+/G079S6S8378bTvwqKnkw5eaq8CoqeTDl5qrxM6S8378bTP0zpLzfvxtM/XFp1BCPP4j9cWnUEI8/iP6f0l5t34+k/p/SXm3fj6T//VEQTDm/uP/9URBMOb+4/",
            "dtype": "f8"
           },
           "y": {
            "bdata": "AAAAAAAAAAAAAAAAAAAAAAAAAAAAAAAAAAAAAAAAAABP6S8378bTP0/pLzfvxtM/Xlp1BCPP4j9eWnUEI8/iP6j0l5t34+k/qPSXm3fj6T//VEQTDm/uP/9URBMOb+4/AAAAAAAA8D8AAAAAAADwPwBVRBMOb+4/AFVEEw5v7j+o9Jebd+PpP6j0l5t34+k/X1p1BCPP4j9fWnUEI8/iP1HpLzfvxtM/UekvN+/G0z8HXBQzJqahPAdcFDMmpqE8TekvN+/G079N6S8378bTv11adQQjz+K/XVp1BCPP4r+n9Jebd+Ppv6f0l5t34+m//1REEw5v7r//VEQTDm/uvwAAAAAAAPC/AAAAAAAA8L8AVUQTDm/uvwBVRBMOb+6/qfSXm3fj6b+p9Jebd+Ppv2BadQQjz+K/YFp1BCPP4r9U6S8378bTv1TpLzfvxtO/",
            "dtype": "f8"
           },
           "z": {
            "bdata": "AAAAAAAAAMAAAAAAAAAAwAAAAAAAAABAAAAAAAAAAEAAAAAAAAAAwAAAAAAAAABAAAAAAAAAAMAAAAAAAAAAQAAAAAAAAADAAAAAAAAAAEAAAAAAAAAAwAAAAAAAAABAAAAAAAAAAMAAAAAAAAAAQAAAAAAAAADAAAAAAAAAAEAAAAAAAAAAwAAAAAAAAABAAAAAAAAAAMAAAAAAAAAAQAAAAAAAAADAAAAAAAAAAEAAAAAAAAAAwAAAAAAAAABAAAAAAAAAAMAAAAAAAAAAQAAAAAAAAADAAAAAAAAAAEAAAAAAAAAAwAAAAAAAAABAAAAAAAAAAMAAAAAAAAAAQAAAAAAAAADAAAAAAAAAAEAAAAAAAAAAwAAAAAAAAABAAAAAAAAAAMAAAAAAAAAAQAAAAAAAAADAAAAAAAAAAEAAAAAAAAAAwAAAAAAAAABA",
            "dtype": "f8"
           }
          },
          {
           "line": {
            "color": "red",
            "width": 5
           },
           "mode": "lines",
           "name": "Slice at z=1.12",
           "type": "scatter3d",
           "x": [
            -1.8369701987210297e-16,
            0.0677945446842995,
            0.30901699437494723,
            0.3701753366731799,
            0.5877852522924729,
            0.6363207875452607,
            0.8090169943749473,
            0.8401787262247885,
            0.9510565162951535,
            0.9617941173120331,
            1,
            0.9892623989831204,
            0.9510565162951535,
            0.9198947844453124,
            0.8090169943749475,
            0.7604814591221597,
            0.5877852522924731,
            0.5266269099942404,
            0.30901699437494745,
            0.24122244969064777,
            6.123233995736766e-17,
            -0.06779454468429963,
            -0.30901699437494734,
            -0.37017533667318003,
            -0.587785252292473,
            -0.6363207875452608,
            -0.8090169943749473,
            -0.8401787262247885,
            -0.9510565162951535,
            -0.9617941173120331,
            -1,
            -0.9892623989831204,
            -0.9510565162951536,
            -0.9198947844453125,
            -0.8090169943749475,
            -0.7604814591221598,
            -0.5877852522924732,
            -0.5266269099942406,
            -0.30901699437494756,
            -0.24122244969064788,
            -1.8369701987210297e-16,
            null
           ],
           "y": [
            -1,
            -0.9892623989831204,
            -0.9510565162951536,
            -0.9198947844453125,
            -0.8090169943749476,
            -0.7604814591221598,
            -0.5877852522924734,
            -0.5266269099942407,
            -0.3090169943749477,
            -0.24122244969064793,
            0,
            0.06779454468429968,
            0.3090169943749474,
            0.3701753366731801,
            0.5877852522924731,
            0.6363207875452609,
            0.8090169943749475,
            0.8401787262247886,
            0.9510565162951535,
            0.9617941173120331,
            1,
            0.9892623989831204,
            0.9510565162951536,
            0.9198947844453125,
            0.8090169943749475,
            0.7604814591221598,
            0.5877852522924732,
            0.5266269099942406,
            0.3090169943749475,
            0.24122244969064782,
            1.2246467991473532e-16,
            -0.06779454468429956,
            -0.3090169943749473,
            -0.37017533667318,
            -0.587785252292473,
            -0.6363207875452608,
            -0.8090169943749473,
            -0.8401787262247885,
            -0.9510565162951535,
            -0.9617941173120331,
            -1,
            null
           ],
           "z": [
            1.1224489795918369,
            1.1224489795918369,
            1.1224489795918369,
            1.1224489795918369,
            1.1224489795918369,
            1.1224489795918369,
            1.1224489795918369,
            1.1224489795918369,
            1.1224489795918369,
            1.1224489795918369,
            1.1224489795918369,
            1.1224489795918369,
            1.1224489795918369,
            1.1224489795918369,
            1.1224489795918369,
            1.1224489795918369,
            1.1224489795918369,
            1.1224489795918369,
            1.1224489795918369,
            1.1224489795918369,
            1.1224489795918369,
            1.1224489795918369,
            1.1224489795918369,
            1.1224489795918369,
            1.1224489795918369,
            1.1224489795918369,
            1.1224489795918369,
            1.1224489795918369,
            1.1224489795918369,
            1.1224489795918369,
            1.1224489795918369,
            1.1224489795918369,
            1.1224489795918369,
            1.1224489795918369,
            1.1224489795918369,
            1.1224489795918369,
            1.1224489795918369,
            1.1224489795918369,
            1.1224489795918369,
            1.1224489795918369,
            1.1224489795918369,
            null
           ]
          }
         ],
         "name": "frame_37",
         "traces": [
          0,
          1
         ]
        },
        {
         "data": [
          {
           "color": "lightblue",
           "i": {
            "bdata": "AQECAgQEBQUGBgcHCAgJCQoKCwsMDA0NDg4PDxAQERESEhMTFBQVFRYWFxcYGBkZGhobGxwcHR0eHh8fICAhISIiIyMkJCUlJiYnJygoKSk=",
            "dtype": "i1"
           },
           "j": {
            "bdata": "AAQEBQAGBgcACAgJAAoKCwAMDA0ADg4PABAQEQASEhMAFBQVABYWFwAYGBkAGhobABwcHQAeHh8AICAhACIiIwAkJCUAJiYnACgoKQABAQI=",
            "dtype": "i1"
           },
           "k": {
            "bdata": "BAIFAwYFBwMIBwkDCgkLAwwLDQMODQ8DEA8RAxIREwMUExUDFhUXAxgXGQMaGRsDHBsdAx4dHwMgHyEDIiEjAyQjJQMmJScDKCcpAwEpAgM=",
            "dtype": "i1"
           },
           "name": "Mesh",
           "opacity": 0.3,
           "type": "mesh3d",
           "x": {
            "bdata": "AAAAAAAAAAAAAAAAAADwPwAAAAAAAPA/AAAAAAAAAAD/VEQTDm/uP/9URBMOb+4/qPSXm3fj6T+o9Jebd+PpP15adQQjz+I/Xlp1BCPP4j9Q6S8378bTP1DpLzfvxtM/B1wUMyamkTwHXBQzJqaRPE7pLzfvxtO/TukvN+/G079dWnUEI8/iv11adQQjz+K/p/SXm3fj6b+n9Jebd+Ppv/9URBMOb+6//1REEw5v7r8AAAAAAADwvwAAAAAAAPC/AFVEEw5v7r8AVUQTDm/uv6j0l5t34+m/qPSXm3fj6b9fWnUEI8/iv19adQQjz+K/UukvN+/G079S6S8378bTvwqKnkw5eaq8CoqeTDl5qrxM6S8378bTP0zpLzfvxtM/XFp1BCPP4j9cWnUEI8/iP6f0l5t34+k/p/SXm3fj6T//VEQTDm/uP/9URBMOb+4/",
            "dtype": "f8"
           },
           "y": {
            "bdata": "AAAAAAAAAAAAAAAAAAAAAAAAAAAAAAAAAAAAAAAAAABP6S8378bTP0/pLzfvxtM/Xlp1BCPP4j9eWnUEI8/iP6j0l5t34+k/qPSXm3fj6T//VEQTDm/uP/9URBMOb+4/AAAAAAAA8D8AAAAAAADwPwBVRBMOb+4/AFVEEw5v7j+o9Jebd+PpP6j0l5t34+k/X1p1BCPP4j9fWnUEI8/iP1HpLzfvxtM/UekvN+/G0z8HXBQzJqahPAdcFDMmpqE8TekvN+/G079N6S8378bTv11adQQjz+K/XVp1BCPP4r+n9Jebd+Ppv6f0l5t34+m//1REEw5v7r//VEQTDm/uvwAAAAAAAPC/AAAAAAAA8L8AVUQTDm/uvwBVRBMOb+6/qfSXm3fj6b+p9Jebd+Ppv2BadQQjz+K/YFp1BCPP4r9U6S8378bTv1TpLzfvxtO/",
            "dtype": "f8"
           },
           "z": {
            "bdata": "AAAAAAAAAMAAAAAAAAAAwAAAAAAAAABAAAAAAAAAAEAAAAAAAAAAwAAAAAAAAABAAAAAAAAAAMAAAAAAAAAAQAAAAAAAAADAAAAAAAAAAEAAAAAAAAAAwAAAAAAAAABAAAAAAAAAAMAAAAAAAAAAQAAAAAAAAADAAAAAAAAAAEAAAAAAAAAAwAAAAAAAAABAAAAAAAAAAMAAAAAAAAAAQAAAAAAAAADAAAAAAAAAAEAAAAAAAAAAwAAAAAAAAABAAAAAAAAAAMAAAAAAAAAAQAAAAAAAAADAAAAAAAAAAEAAAAAAAAAAwAAAAAAAAABAAAAAAAAAAMAAAAAAAAAAQAAAAAAAAADAAAAAAAAAAEAAAAAAAAAAwAAAAAAAAABAAAAAAAAAAMAAAAAAAAAAQAAAAAAAAADAAAAAAAAAAEAAAAAAAAAAwAAAAAAAAABA",
            "dtype": "f8"
           }
          },
          {
           "line": {
            "color": "red",
            "width": 5
           },
           "mode": "lines",
           "name": "Slice at z=1.21",
           "type": "scatter3d",
           "x": [
            -1.8369701987210297e-16,
            0.06085742848404556,
            0.30901699437494723,
            0.36391727374033744,
            0.5877852522924729,
            0.6313543606821846,
            0.8090169943749473,
            0.8369900838959675,
            0.9510565162951535,
            0.9606953860451897,
            1,
            0.9903611302499639,
            0.9510565162951535,
            0.9230834267741334,
            0.8090169943749475,
            0.7654478859852357,
            0.5877852522924731,
            0.5328849729270829,
            0.30901699437494745,
            0.2481595658909017,
            6.123233995736766e-17,
            -0.06085742848404568,
            -0.30901699437494734,
            -0.36391727374033755,
            -0.587785252292473,
            -0.6313543606821848,
            -0.8090169943749473,
            -0.8369900838959675,
            -0.9510565162951535,
            -0.9606953860451897,
            -1,
            -0.990361130249964,
            -0.9510565162951536,
            -0.9230834267741335,
            -0.8090169943749475,
            -0.7654478859852357,
            -0.5877852522924732,
            -0.532884972927083,
            -0.30901699437494756,
            -0.24815956589090182,
            -1.8369701987210297e-16,
            null
           ],
           "y": [
            -1,
            -0.990361130249964,
            -0.9510565162951536,
            -0.9230834267741335,
            -0.8090169943749476,
            -0.7654478859852358,
            -0.5877852522924734,
            -0.5328849729270831,
            -0.3090169943749477,
            -0.24815956589090188,
            0,
            0.06085742848404574,
            0.3090169943749474,
            0.36391727374033767,
            0.5877852522924731,
            0.6313543606821849,
            0.8090169943749475,
            0.8369900838959676,
            0.9510565162951535,
            0.9606953860451897,
            1,
            0.990361130249964,
            0.9510565162951536,
            0.9230834267741335,
            0.8090169943749475,
            0.7654478859852357,
            0.5877852522924732,
            0.532884972927083,
            0.3090169943749475,
            0.24815956589090177,
            1.2246467991473532e-16,
            -0.060857428484045614,
            -0.3090169943749473,
            -0.36391727374033755,
            -0.587785252292473,
            -0.6313543606821848,
            -0.8090169943749473,
            -0.8369900838959675,
            -0.9510565162951535,
            -0.9606953860451897,
            -1,
            null
           ],
           "z": [
            1.212244897959184,
            1.212244897959184,
            1.212244897959184,
            1.212244897959184,
            1.212244897959184,
            1.212244897959184,
            1.212244897959184,
            1.212244897959184,
            1.212244897959184,
            1.212244897959184,
            1.212244897959184,
            1.212244897959184,
            1.212244897959184,
            1.212244897959184,
            1.212244897959184,
            1.212244897959184,
            1.212244897959184,
            1.212244897959184,
            1.212244897959184,
            1.212244897959184,
            1.212244897959184,
            1.212244897959184,
            1.212244897959184,
            1.212244897959184,
            1.212244897959184,
            1.212244897959184,
            1.212244897959184,
            1.212244897959184,
            1.212244897959184,
            1.212244897959184,
            1.212244897959184,
            1.212244897959184,
            1.212244897959184,
            1.212244897959184,
            1.212244897959184,
            1.212244897959184,
            1.212244897959184,
            1.212244897959184,
            1.212244897959184,
            1.212244897959184,
            1.212244897959184,
            null
           ]
          }
         ],
         "name": "frame_38",
         "traces": [
          0,
          1
         ]
        },
        {
         "data": [
          {
           "color": "lightblue",
           "i": {
            "bdata": "AQECAgQEBQUGBgcHCAgJCQoKCwsMDA0NDg4PDxAQERESEhMTFBQVFRYWFxcYGBkZGhobGxwcHR0eHh8fICAhISIiIyMkJCUlJiYnJygoKSk=",
            "dtype": "i1"
           },
           "j": {
            "bdata": "AAQEBQAGBgcACAgJAAoKCwAMDA0ADg4PABAQEQASEhMAFBQVABYWFwAYGBkAGhobABwcHQAeHh8AICAhACIiIwAkJCUAJiYnACgoKQABAQI=",
            "dtype": "i1"
           },
           "k": {
            "bdata": "BAIFAwYFBwMIBwkDCgkLAwwLDQMODQ8DEA8RAxIREwMUExUDFhUXAxgXGQMaGRsDHBsdAx4dHwMgHyEDIiEjAyQjJQMmJScDKCcpAwEpAgM=",
            "dtype": "i1"
           },
           "name": "Mesh",
           "opacity": 0.3,
           "type": "mesh3d",
           "x": {
            "bdata": "AAAAAAAAAAAAAAAAAADwPwAAAAAAAPA/AAAAAAAAAAD/VEQTDm/uP/9URBMOb+4/qPSXm3fj6T+o9Jebd+PpP15adQQjz+I/Xlp1BCPP4j9Q6S8378bTP1DpLzfvxtM/B1wUMyamkTwHXBQzJqaRPE7pLzfvxtO/TukvN+/G079dWnUEI8/iv11adQQjz+K/p/SXm3fj6b+n9Jebd+Ppv/9URBMOb+6//1REEw5v7r8AAAAAAADwvwAAAAAAAPC/AFVEEw5v7r8AVUQTDm/uv6j0l5t34+m/qPSXm3fj6b9fWnUEI8/iv19adQQjz+K/UukvN+/G079S6S8378bTvwqKnkw5eaq8CoqeTDl5qrxM6S8378bTP0zpLzfvxtM/XFp1BCPP4j9cWnUEI8/iP6f0l5t34+k/p/SXm3fj6T//VEQTDm/uP/9URBMOb+4/",
            "dtype": "f8"
           },
           "y": {
            "bdata": "AAAAAAAAAAAAAAAAAAAAAAAAAAAAAAAAAAAAAAAAAABP6S8378bTP0/pLzfvxtM/Xlp1BCPP4j9eWnUEI8/iP6j0l5t34+k/qPSXm3fj6T//VEQTDm/uP/9URBMOb+4/AAAAAAAA8D8AAAAAAADwPwBVRBMOb+4/AFVEEw5v7j+o9Jebd+PpP6j0l5t34+k/X1p1BCPP4j9fWnUEI8/iP1HpLzfvxtM/UekvN+/G0z8HXBQzJqahPAdcFDMmpqE8TekvN+/G079N6S8378bTv11adQQjz+K/XVp1BCPP4r+n9Jebd+Ppv6f0l5t34+m//1REEw5v7r//VEQTDm/uvwAAAAAAAPC/AAAAAAAA8L8AVUQTDm/uvwBVRBMOb+6/qfSXm3fj6b+p9Jebd+Ppv2BadQQjz+K/YFp1BCPP4r9U6S8378bTv1TpLzfvxtO/",
            "dtype": "f8"
           },
           "z": {
            "bdata": "AAAAAAAAAMAAAAAAAAAAwAAAAAAAAABAAAAAAAAAAEAAAAAAAAAAwAAAAAAAAABAAAAAAAAAAMAAAAAAAAAAQAAAAAAAAADAAAAAAAAAAEAAAAAAAAAAwAAAAAAAAABAAAAAAAAAAMAAAAAAAAAAQAAAAAAAAADAAAAAAAAAAEAAAAAAAAAAwAAAAAAAAABAAAAAAAAAAMAAAAAAAAAAQAAAAAAAAADAAAAAAAAAAEAAAAAAAAAAwAAAAAAAAABAAAAAAAAAAMAAAAAAAAAAQAAAAAAAAADAAAAAAAAAAEAAAAAAAAAAwAAAAAAAAABAAAAAAAAAAMAAAAAAAAAAQAAAAAAAAADAAAAAAAAAAEAAAAAAAAAAwAAAAAAAAABAAAAAAAAAAMAAAAAAAAAAQAAAAAAAAADAAAAAAAAAAEAAAAAAAAAAwAAAAAAAAABA",
            "dtype": "f8"
           }
          },
          {
           "line": {
            "color": "red",
            "width": 5
           },
           "mode": "lines",
           "name": "Slice at z=1.30",
           "type": "scatter3d",
           "x": [
            -1.8369701987210297e-16,
            0.053920312283791655,
            0.30901699437494723,
            0.3576592108074951,
            0.5877852522924729,
            0.6263879338191087,
            0.8090169943749473,
            0.8338014415671465,
            0.9510565162951535,
            0.9595966547783461,
            1,
            0.9914598615168074,
            0.9510565162951535,
            0.9262720691029543,
            0.8090169943749475,
            0.7704143128483116,
            0.5877852522924731,
            0.5391430358599253,
            0.30901699437494745,
            0.2550966820911556,
            6.123233995736766e-17,
            -0.05392031228379177,
            -0.30901699437494734,
            -0.3576592108074952,
            -0.587785252292473,
            -0.6263879338191088,
            -0.8090169943749473,
            -0.8338014415671465,
            -0.9510565162951535,
            -0.9595966547783461,
            -1,
            -0.9914598615168074,
            -0.9510565162951536,
            -0.9262720691029545,
            -0.8090169943749475,
            -0.7704143128483116,
            -0.5877852522924732,
            -0.5391430358599254,
            -0.30901699437494756,
            -0.2550966820911557,
            -1.8369701987210297e-16,
            null
           ],
           "y": [
            -1,
            -0.9914598615168074,
            -0.9510565162951536,
            -0.9262720691029545,
            -0.8090169943749476,
            -0.7704143128483117,
            -0.5877852522924734,
            -0.5391430358599255,
            -0.3090169943749477,
            -0.25509668209115577,
            0,
            0.053920312283791835,
            0.3090169943749474,
            0.35765921080749524,
            0.5877852522924731,
            0.626387933819109,
            0.8090169943749475,
            0.8338014415671466,
            0.9510565162951535,
            0.9595966547783461,
            1,
            0.9914598615168074,
            0.9510565162951536,
            0.9262720691029545,
            0.8090169943749475,
            0.7704143128483116,
            0.5877852522924732,
            0.5391430358599254,
            0.3090169943749475,
            0.25509668209115566,
            1.2246467991473532e-16,
            -0.05392031228379171,
            -0.3090169943749473,
            -0.35765921080749513,
            -0.587785252292473,
            -0.6263879338191088,
            -0.8090169943749473,
            -0.8338014415671465,
            -0.9510565162951535,
            -0.9595966547783461,
            -1,
            null
           ],
           "z": [
            1.3020408163265307,
            1.3020408163265307,
            1.3020408163265307,
            1.3020408163265307,
            1.3020408163265307,
            1.3020408163265307,
            1.3020408163265307,
            1.3020408163265307,
            1.3020408163265307,
            1.3020408163265307,
            1.3020408163265307,
            1.3020408163265307,
            1.3020408163265307,
            1.3020408163265307,
            1.3020408163265307,
            1.3020408163265307,
            1.3020408163265307,
            1.3020408163265307,
            1.3020408163265307,
            1.3020408163265307,
            1.3020408163265307,
            1.3020408163265307,
            1.3020408163265307,
            1.3020408163265307,
            1.3020408163265307,
            1.3020408163265307,
            1.3020408163265307,
            1.3020408163265307,
            1.3020408163265307,
            1.3020408163265307,
            1.3020408163265307,
            1.3020408163265307,
            1.3020408163265307,
            1.3020408163265307,
            1.3020408163265307,
            1.3020408163265307,
            1.3020408163265307,
            1.3020408163265307,
            1.3020408163265307,
            1.3020408163265307,
            1.3020408163265307,
            null
           ]
          }
         ],
         "name": "frame_39",
         "traces": [
          0,
          1
         ]
        },
        {
         "data": [
          {
           "color": "lightblue",
           "i": {
            "bdata": "AQECAgQEBQUGBgcHCAgJCQoKCwsMDA0NDg4PDxAQERESEhMTFBQVFRYWFxcYGBkZGhobGxwcHR0eHh8fICAhISIiIyMkJCUlJiYnJygoKSk=",
            "dtype": "i1"
           },
           "j": {
            "bdata": "AAQEBQAGBgcACAgJAAoKCwAMDA0ADg4PABAQEQASEhMAFBQVABYWFwAYGBkAGhobABwcHQAeHh8AICAhACIiIwAkJCUAJiYnACgoKQABAQI=",
            "dtype": "i1"
           },
           "k": {
            "bdata": "BAIFAwYFBwMIBwkDCgkLAwwLDQMODQ8DEA8RAxIREwMUExUDFhUXAxgXGQMaGRsDHBsdAx4dHwMgHyEDIiEjAyQjJQMmJScDKCcpAwEpAgM=",
            "dtype": "i1"
           },
           "name": "Mesh",
           "opacity": 0.3,
           "type": "mesh3d",
           "x": {
            "bdata": "AAAAAAAAAAAAAAAAAADwPwAAAAAAAPA/AAAAAAAAAAD/VEQTDm/uP/9URBMOb+4/qPSXm3fj6T+o9Jebd+PpP15adQQjz+I/Xlp1BCPP4j9Q6S8378bTP1DpLzfvxtM/B1wUMyamkTwHXBQzJqaRPE7pLzfvxtO/TukvN+/G079dWnUEI8/iv11adQQjz+K/p/SXm3fj6b+n9Jebd+Ppv/9URBMOb+6//1REEw5v7r8AAAAAAADwvwAAAAAAAPC/AFVEEw5v7r8AVUQTDm/uv6j0l5t34+m/qPSXm3fj6b9fWnUEI8/iv19adQQjz+K/UukvN+/G079S6S8378bTvwqKnkw5eaq8CoqeTDl5qrxM6S8378bTP0zpLzfvxtM/XFp1BCPP4j9cWnUEI8/iP6f0l5t34+k/p/SXm3fj6T//VEQTDm/uP/9URBMOb+4/",
            "dtype": "f8"
           },
           "y": {
            "bdata": "AAAAAAAAAAAAAAAAAAAAAAAAAAAAAAAAAAAAAAAAAABP6S8378bTP0/pLzfvxtM/Xlp1BCPP4j9eWnUEI8/iP6j0l5t34+k/qPSXm3fj6T//VEQTDm/uP/9URBMOb+4/AAAAAAAA8D8AAAAAAADwPwBVRBMOb+4/AFVEEw5v7j+o9Jebd+PpP6j0l5t34+k/X1p1BCPP4j9fWnUEI8/iP1HpLzfvxtM/UekvN+/G0z8HXBQzJqahPAdcFDMmpqE8TekvN+/G079N6S8378bTv11adQQjz+K/XVp1BCPP4r+n9Jebd+Ppv6f0l5t34+m//1REEw5v7r//VEQTDm/uvwAAAAAAAPC/AAAAAAAA8L8AVUQTDm/uvwBVRBMOb+6/qfSXm3fj6b+p9Jebd+Ppv2BadQQjz+K/YFp1BCPP4r9U6S8378bTv1TpLzfvxtO/",
            "dtype": "f8"
           },
           "z": {
            "bdata": "AAAAAAAAAMAAAAAAAAAAwAAAAAAAAABAAAAAAAAAAEAAAAAAAAAAwAAAAAAAAABAAAAAAAAAAMAAAAAAAAAAQAAAAAAAAADAAAAAAAAAAEAAAAAAAAAAwAAAAAAAAABAAAAAAAAAAMAAAAAAAAAAQAAAAAAAAADAAAAAAAAAAEAAAAAAAAAAwAAAAAAAAABAAAAAAAAAAMAAAAAAAAAAQAAAAAAAAADAAAAAAAAAAEAAAAAAAAAAwAAAAAAAAABAAAAAAAAAAMAAAAAAAAAAQAAAAAAAAADAAAAAAAAAAEAAAAAAAAAAwAAAAAAAAABAAAAAAAAAAMAAAAAAAAAAQAAAAAAAAADAAAAAAAAAAEAAAAAAAAAAwAAAAAAAAABAAAAAAAAAAMAAAAAAAAAAQAAAAAAAAADAAAAAAAAAAEAAAAAAAAAAwAAAAAAAAABA",
            "dtype": "f8"
           }
          },
          {
           "line": {
            "color": "red",
            "width": 5
           },
           "mode": "lines",
           "name": "Slice at z=1.39",
           "type": "scatter3d",
           "x": [
            -1.8369701987210297e-16,
            0.04698319608353772,
            0.30901699437494723,
            0.35140114787465265,
            0.5877852522924729,
            0.6214215069560328,
            0.8090169943749473,
            0.8306127992383256,
            0.9510565162951535,
            0.9584979235115026,
            1,
            0.9925585927836509,
            0.9510565162951535,
            0.9294607114317752,
            0.8090169943749475,
            0.7753807397113877,
            0.5877852522924731,
            0.5454010987927678,
            0.30901699437494745,
            0.26203379829140955,
            6.123233995736766e-17,
            -0.04698319608353784,
            -0.30901699437494734,
            -0.35140114787465276,
            -0.587785252292473,
            -0.6214215069560329,
            -0.8090169943749473,
            -0.8306127992383256,
            -0.9510565162951535,
            -0.9584979235115026,
            -1,
            -0.9925585927836509,
            -0.9510565162951536,
            -0.9294607114317753,
            -0.8090169943749475,
            -0.7753807397113877,
            -0.5877852522924732,
            -0.5454010987927679,
            -0.30901699437494756,
            -0.26203379829140966,
            -1.8369701987210297e-16,
            null
           ],
           "y": [
            -1,
            -0.9925585927836509,
            -0.9510565162951536,
            -0.9294607114317753,
            -0.8090169943749476,
            -0.7753807397113878,
            -0.5877852522924734,
            -0.545401098792768,
            -0.3090169943749477,
            -0.2620337982914097,
            0,
            0.046983196083537904,
            0.3090169943749474,
            0.3514011478746528,
            0.5877852522924731,
            0.6214215069560329,
            0.8090169943749475,
            0.8306127992383258,
            0.9510565162951535,
            0.9584979235115026,
            1,
            0.9925585927836509,
            0.9510565162951536,
            0.9294607114317753,
            0.8090169943749475,
            0.7753807397113877,
            0.5877852522924732,
            0.5454010987927678,
            0.3090169943749475,
            0.2620337982914096,
            1.2246467991473532e-16,
            -0.04698319608353778,
            -0.3090169943749473,
            -0.3514011478746527,
            -0.587785252292473,
            -0.6214215069560329,
            -0.8090169943749473,
            -0.8306127992383256,
            -0.9510565162951535,
            -0.9584979235115026,
            -1,
            null
           ],
           "z": [
            1.3918367346938778,
            1.3918367346938778,
            1.3918367346938778,
            1.3918367346938778,
            1.3918367346938778,
            1.3918367346938778,
            1.3918367346938778,
            1.3918367346938778,
            1.3918367346938778,
            1.3918367346938778,
            1.3918367346938778,
            1.3918367346938778,
            1.3918367346938778,
            1.3918367346938778,
            1.3918367346938778,
            1.3918367346938778,
            1.3918367346938778,
            1.3918367346938778,
            1.3918367346938778,
            1.3918367346938778,
            1.3918367346938778,
            1.3918367346938778,
            1.3918367346938778,
            1.3918367346938778,
            1.3918367346938778,
            1.3918367346938778,
            1.3918367346938778,
            1.3918367346938778,
            1.3918367346938778,
            1.3918367346938778,
            1.3918367346938778,
            1.3918367346938778,
            1.3918367346938778,
            1.3918367346938778,
            1.3918367346938778,
            1.3918367346938778,
            1.3918367346938778,
            1.3918367346938778,
            1.3918367346938778,
            1.3918367346938778,
            1.3918367346938778,
            null
           ]
          }
         ],
         "name": "frame_40",
         "traces": [
          0,
          1
         ]
        },
        {
         "data": [
          {
           "color": "lightblue",
           "i": {
            "bdata": "AQECAgQEBQUGBgcHCAgJCQoKCwsMDA0NDg4PDxAQERESEhMTFBQVFRYWFxcYGBkZGhobGxwcHR0eHh8fICAhISIiIyMkJCUlJiYnJygoKSk=",
            "dtype": "i1"
           },
           "j": {
            "bdata": "AAQEBQAGBgcACAgJAAoKCwAMDA0ADg4PABAQEQASEhMAFBQVABYWFwAYGBkAGhobABwcHQAeHh8AICAhACIiIwAkJCUAJiYnACgoKQABAQI=",
            "dtype": "i1"
           },
           "k": {
            "bdata": "BAIFAwYFBwMIBwkDCgkLAwwLDQMODQ8DEA8RAxIREwMUExUDFhUXAxgXGQMaGRsDHBsdAx4dHwMgHyEDIiEjAyQjJQMmJScDKCcpAwEpAgM=",
            "dtype": "i1"
           },
           "name": "Mesh",
           "opacity": 0.3,
           "type": "mesh3d",
           "x": {
            "bdata": "AAAAAAAAAAAAAAAAAADwPwAAAAAAAPA/AAAAAAAAAAD/VEQTDm/uP/9URBMOb+4/qPSXm3fj6T+o9Jebd+PpP15adQQjz+I/Xlp1BCPP4j9Q6S8378bTP1DpLzfvxtM/B1wUMyamkTwHXBQzJqaRPE7pLzfvxtO/TukvN+/G079dWnUEI8/iv11adQQjz+K/p/SXm3fj6b+n9Jebd+Ppv/9URBMOb+6//1REEw5v7r8AAAAAAADwvwAAAAAAAPC/AFVEEw5v7r8AVUQTDm/uv6j0l5t34+m/qPSXm3fj6b9fWnUEI8/iv19adQQjz+K/UukvN+/G079S6S8378bTvwqKnkw5eaq8CoqeTDl5qrxM6S8378bTP0zpLzfvxtM/XFp1BCPP4j9cWnUEI8/iP6f0l5t34+k/p/SXm3fj6T//VEQTDm/uP/9URBMOb+4/",
            "dtype": "f8"
           },
           "y": {
            "bdata": "AAAAAAAAAAAAAAAAAAAAAAAAAAAAAAAAAAAAAAAAAABP6S8378bTP0/pLzfvxtM/Xlp1BCPP4j9eWnUEI8/iP6j0l5t34+k/qPSXm3fj6T//VEQTDm/uP/9URBMOb+4/AAAAAAAA8D8AAAAAAADwPwBVRBMOb+4/AFVEEw5v7j+o9Jebd+PpP6j0l5t34+k/X1p1BCPP4j9fWnUEI8/iP1HpLzfvxtM/UekvN+/G0z8HXBQzJqahPAdcFDMmpqE8TekvN+/G079N6S8378bTv11adQQjz+K/XVp1BCPP4r+n9Jebd+Ppv6f0l5t34+m//1REEw5v7r//VEQTDm/uvwAAAAAAAPC/AAAAAAAA8L8AVUQTDm/uvwBVRBMOb+6/qfSXm3fj6b+p9Jebd+Ppv2BadQQjz+K/YFp1BCPP4r9U6S8378bTv1TpLzfvxtO/",
            "dtype": "f8"
           },
           "z": {
            "bdata": "AAAAAAAAAMAAAAAAAAAAwAAAAAAAAABAAAAAAAAAAEAAAAAAAAAAwAAAAAAAAABAAAAAAAAAAMAAAAAAAAAAQAAAAAAAAADAAAAAAAAAAEAAAAAAAAAAwAAAAAAAAABAAAAAAAAAAMAAAAAAAAAAQAAAAAAAAADAAAAAAAAAAEAAAAAAAAAAwAAAAAAAAABAAAAAAAAAAMAAAAAAAAAAQAAAAAAAAADAAAAAAAAAAEAAAAAAAAAAwAAAAAAAAABAAAAAAAAAAMAAAAAAAAAAQAAAAAAAAADAAAAAAAAAAEAAAAAAAAAAwAAAAAAAAABAAAAAAAAAAMAAAAAAAAAAQAAAAAAAAADAAAAAAAAAAEAAAAAAAAAAwAAAAAAAAABAAAAAAAAAAMAAAAAAAAAAQAAAAAAAAADAAAAAAAAAAEAAAAAAAAAAwAAAAAAAAABA",
            "dtype": "f8"
           }
          },
          {
           "line": {
            "color": "red",
            "width": 5
           },
           "mode": "lines",
           "name": "Slice at z=1.48",
           "type": "scatter3d",
           "x": [
            -1.8369701987210297e-16,
            0.04004607988328382,
            0.30901699437494723,
            0.34514308494181023,
            0.5877852522924729,
            0.6164550800929568,
            0.8090169943749473,
            0.8274241569095047,
            0.9510565162951535,
            0.9573991922446592,
            1,
            0.9936573240504943,
            0.9510565162951535,
            0.9326493537605962,
            0.8090169943749475,
            0.7803471665744636,
            0.5877852522924731,
            0.5516591617256101,
            0.30901699437494745,
            0.26897091449166344,
            6.123233995736766e-17,
            -0.04004607988328394,
            -0.30901699437494734,
            -0.34514308494181034,
            -0.587785252292473,
            -0.6164550800929569,
            -0.8090169943749473,
            -0.8274241569095047,
            -0.9510565162951535,
            -0.9573991922446592,
            -1,
            -0.9936573240504945,
            -0.9510565162951536,
            -0.9326493537605963,
            -0.8090169943749475,
            -0.7803471665744636,
            -0.5877852522924732,
            -0.5516591617256102,
            -0.30901699437494756,
            -0.26897091449166355,
            -1.8369701987210297e-16,
            null
           ],
           "y": [
            -1,
            -0.9936573240504945,
            -0.9510565162951536,
            -0.9326493537605963,
            -0.8090169943749476,
            -0.7803471665744637,
            -0.5877852522924734,
            -0.5516591617256104,
            -0.3090169943749477,
            -0.26897091449166366,
            0,
            0.040046079883284,
            0.3090169943749474,
            0.34514308494181045,
            0.5877852522924731,
            0.616455080092957,
            0.8090169943749475,
            0.8274241569095048,
            0.9510565162951535,
            0.9573991922446592,
            1,
            0.9936573240504945,
            0.9510565162951536,
            0.9326493537605963,
            0.8090169943749475,
            0.7803471665744636,
            0.5877852522924732,
            0.5516591617256102,
            0.3090169943749475,
            0.2689709144916635,
            1.2246467991473532e-16,
            -0.040046079883283875,
            -0.3090169943749473,
            -0.34514308494181034,
            -0.587785252292473,
            -0.6164550800929569,
            -0.8090169943749473,
            -0.8274241569095047,
            -0.9510565162951535,
            -0.9573991922446592,
            -1,
            null
           ],
           "z": [
            1.4816326530612245,
            1.4816326530612245,
            1.4816326530612245,
            1.4816326530612245,
            1.4816326530612245,
            1.4816326530612245,
            1.4816326530612245,
            1.4816326530612245,
            1.4816326530612245,
            1.4816326530612245,
            1.4816326530612245,
            1.4816326530612245,
            1.4816326530612245,
            1.4816326530612245,
            1.4816326530612245,
            1.4816326530612245,
            1.4816326530612245,
            1.4816326530612245,
            1.4816326530612245,
            1.4816326530612245,
            1.4816326530612245,
            1.4816326530612245,
            1.4816326530612245,
            1.4816326530612245,
            1.4816326530612245,
            1.4816326530612245,
            1.4816326530612245,
            1.4816326530612245,
            1.4816326530612245,
            1.4816326530612245,
            1.4816326530612245,
            1.4816326530612245,
            1.4816326530612245,
            1.4816326530612245,
            1.4816326530612245,
            1.4816326530612245,
            1.4816326530612245,
            1.4816326530612245,
            1.4816326530612245,
            1.4816326530612245,
            1.4816326530612245,
            null
           ]
          }
         ],
         "name": "frame_41",
         "traces": [
          0,
          1
         ]
        },
        {
         "data": [
          {
           "color": "lightblue",
           "i": {
            "bdata": "AQECAgQEBQUGBgcHCAgJCQoKCwsMDA0NDg4PDxAQERESEhMTFBQVFRYWFxcYGBkZGhobGxwcHR0eHh8fICAhISIiIyMkJCUlJiYnJygoKSk=",
            "dtype": "i1"
           },
           "j": {
            "bdata": "AAQEBQAGBgcACAgJAAoKCwAMDA0ADg4PABAQEQASEhMAFBQVABYWFwAYGBkAGhobABwcHQAeHh8AICAhACIiIwAkJCUAJiYnACgoKQABAQI=",
            "dtype": "i1"
           },
           "k": {
            "bdata": "BAIFAwYFBwMIBwkDCgkLAwwLDQMODQ8DEA8RAxIREwMUExUDFhUXAxgXGQMaGRsDHBsdAx4dHwMgHyEDIiEjAyQjJQMmJScDKCcpAwEpAgM=",
            "dtype": "i1"
           },
           "name": "Mesh",
           "opacity": 0.3,
           "type": "mesh3d",
           "x": {
            "bdata": "AAAAAAAAAAAAAAAAAADwPwAAAAAAAPA/AAAAAAAAAAD/VEQTDm/uP/9URBMOb+4/qPSXm3fj6T+o9Jebd+PpP15adQQjz+I/Xlp1BCPP4j9Q6S8378bTP1DpLzfvxtM/B1wUMyamkTwHXBQzJqaRPE7pLzfvxtO/TukvN+/G079dWnUEI8/iv11adQQjz+K/p/SXm3fj6b+n9Jebd+Ppv/9URBMOb+6//1REEw5v7r8AAAAAAADwvwAAAAAAAPC/AFVEEw5v7r8AVUQTDm/uv6j0l5t34+m/qPSXm3fj6b9fWnUEI8/iv19adQQjz+K/UukvN+/G079S6S8378bTvwqKnkw5eaq8CoqeTDl5qrxM6S8378bTP0zpLzfvxtM/XFp1BCPP4j9cWnUEI8/iP6f0l5t34+k/p/SXm3fj6T//VEQTDm/uP/9URBMOb+4/",
            "dtype": "f8"
           },
           "y": {
            "bdata": "AAAAAAAAAAAAAAAAAAAAAAAAAAAAAAAAAAAAAAAAAABP6S8378bTP0/pLzfvxtM/Xlp1BCPP4j9eWnUEI8/iP6j0l5t34+k/qPSXm3fj6T//VEQTDm/uP/9URBMOb+4/AAAAAAAA8D8AAAAAAADwPwBVRBMOb+4/AFVEEw5v7j+o9Jebd+PpP6j0l5t34+k/X1p1BCPP4j9fWnUEI8/iP1HpLzfvxtM/UekvN+/G0z8HXBQzJqahPAdcFDMmpqE8TekvN+/G079N6S8378bTv11adQQjz+K/XVp1BCPP4r+n9Jebd+Ppv6f0l5t34+m//1REEw5v7r//VEQTDm/uvwAAAAAAAPC/AAAAAAAA8L8AVUQTDm/uvwBVRBMOb+6/qfSXm3fj6b+p9Jebd+Ppv2BadQQjz+K/YFp1BCPP4r9U6S8378bTv1TpLzfvxtO/",
            "dtype": "f8"
           },
           "z": {
            "bdata": "AAAAAAAAAMAAAAAAAAAAwAAAAAAAAABAAAAAAAAAAEAAAAAAAAAAwAAAAAAAAABAAAAAAAAAAMAAAAAAAAAAQAAAAAAAAADAAAAAAAAAAEAAAAAAAAAAwAAAAAAAAABAAAAAAAAAAMAAAAAAAAAAQAAAAAAAAADAAAAAAAAAAEAAAAAAAAAAwAAAAAAAAABAAAAAAAAAAMAAAAAAAAAAQAAAAAAAAADAAAAAAAAAAEAAAAAAAAAAwAAAAAAAAABAAAAAAAAAAMAAAAAAAAAAQAAAAAAAAADAAAAAAAAAAEAAAAAAAAAAwAAAAAAAAABAAAAAAAAAAMAAAAAAAAAAQAAAAAAAAADAAAAAAAAAAEAAAAAAAAAAwAAAAAAAAABAAAAAAAAAAMAAAAAAAAAAQAAAAAAAAADAAAAAAAAAAEAAAAAAAAAAwAAAAAAAAABA",
            "dtype": "f8"
           }
          },
          {
           "line": {
            "color": "red",
            "width": 5
           },
           "mode": "lines",
           "name": "Slice at z=1.57",
           "type": "scatter3d",
           "x": [
            -1.8369701987210297e-16,
            0.03310896368302988,
            0.30901699437494723,
            0.3388850220089678,
            0.5877852522924729,
            0.6114886532298809,
            0.8090169943749473,
            0.8242355145806837,
            0.9510565162951535,
            0.9563004609778156,
            1,
            0.9947560553173379,
            0.9510565162951535,
            0.9358379960894172,
            0.8090169943749475,
            0.7853135934375395,
            0.5877852522924731,
            0.5579172246584525,
            0.30901699437494745,
            0.2759080306919174,
            6.123233995736766e-17,
            -0.03310896368303,
            -0.30901699437494734,
            -0.3388850220089679,
            -0.587785252292473,
            -0.611488653229881,
            -0.8090169943749473,
            -0.8242355145806837,
            -0.9510565162951535,
            -0.9563004609778156,
            -1,
            -0.9947560553173379,
            -0.9510565162951536,
            -0.9358379960894173,
            -0.8090169943749475,
            -0.7853135934375395,
            -0.5877852522924732,
            -0.5579172246584526,
            -0.30901699437494756,
            -0.2759080306919175,
            -1.8369701987210297e-16,
            null
           ],
           "y": [
            -1,
            -0.9947560553173379,
            -0.9510565162951536,
            -0.9358379960894173,
            -0.8090169943749476,
            -0.7853135934375396,
            -0.5877852522924734,
            -0.5579172246584527,
            -0.3090169943749477,
            -0.2759080306919176,
            0,
            0.03310896368303006,
            0.3090169943749474,
            0.338885022008968,
            0.5877852522924731,
            0.6114886532298811,
            0.8090169943749475,
            0.8242355145806838,
            0.9510565162951535,
            0.9563004609778156,
            1,
            0.9947560553173379,
            0.9510565162951536,
            0.9358379960894173,
            0.8090169943749475,
            0.7853135934375395,
            0.5877852522924732,
            0.5579172246584526,
            0.3090169943749475,
            0.27590803069191744,
            1.2246467991473532e-16,
            -0.033108963683029936,
            -0.3090169943749473,
            -0.33888502200896786,
            -0.587785252292473,
            -0.611488653229881,
            -0.8090169943749473,
            -0.8242355145806837,
            -0.9510565162951535,
            -0.9563004609778156,
            -1,
            null
           ],
           "z": [
            1.5714285714285716,
            1.5714285714285716,
            1.5714285714285716,
            1.5714285714285716,
            1.5714285714285716,
            1.5714285714285716,
            1.5714285714285716,
            1.5714285714285716,
            1.5714285714285716,
            1.5714285714285716,
            1.5714285714285716,
            1.5714285714285716,
            1.5714285714285716,
            1.5714285714285716,
            1.5714285714285716,
            1.5714285714285716,
            1.5714285714285716,
            1.5714285714285716,
            1.5714285714285716,
            1.5714285714285716,
            1.5714285714285716,
            1.5714285714285716,
            1.5714285714285716,
            1.5714285714285716,
            1.5714285714285716,
            1.5714285714285716,
            1.5714285714285716,
            1.5714285714285716,
            1.5714285714285716,
            1.5714285714285716,
            1.5714285714285716,
            1.5714285714285716,
            1.5714285714285716,
            1.5714285714285716,
            1.5714285714285716,
            1.5714285714285716,
            1.5714285714285716,
            1.5714285714285716,
            1.5714285714285716,
            1.5714285714285716,
            1.5714285714285716,
            null
           ]
          }
         ],
         "name": "frame_42",
         "traces": [
          0,
          1
         ]
        },
        {
         "data": [
          {
           "color": "lightblue",
           "i": {
            "bdata": "AQECAgQEBQUGBgcHCAgJCQoKCwsMDA0NDg4PDxAQERESEhMTFBQVFRYWFxcYGBkZGhobGxwcHR0eHh8fICAhISIiIyMkJCUlJiYnJygoKSk=",
            "dtype": "i1"
           },
           "j": {
            "bdata": "AAQEBQAGBgcACAgJAAoKCwAMDA0ADg4PABAQEQASEhMAFBQVABYWFwAYGBkAGhobABwcHQAeHh8AICAhACIiIwAkJCUAJiYnACgoKQABAQI=",
            "dtype": "i1"
           },
           "k": {
            "bdata": "BAIFAwYFBwMIBwkDCgkLAwwLDQMODQ8DEA8RAxIREwMUExUDFhUXAxgXGQMaGRsDHBsdAx4dHwMgHyEDIiEjAyQjJQMmJScDKCcpAwEpAgM=",
            "dtype": "i1"
           },
           "name": "Mesh",
           "opacity": 0.3,
           "type": "mesh3d",
           "x": {
            "bdata": "AAAAAAAAAAAAAAAAAADwPwAAAAAAAPA/AAAAAAAAAAD/VEQTDm/uP/9URBMOb+4/qPSXm3fj6T+o9Jebd+PpP15adQQjz+I/Xlp1BCPP4j9Q6S8378bTP1DpLzfvxtM/B1wUMyamkTwHXBQzJqaRPE7pLzfvxtO/TukvN+/G079dWnUEI8/iv11adQQjz+K/p/SXm3fj6b+n9Jebd+Ppv/9URBMOb+6//1REEw5v7r8AAAAAAADwvwAAAAAAAPC/AFVEEw5v7r8AVUQTDm/uv6j0l5t34+m/qPSXm3fj6b9fWnUEI8/iv19adQQjz+K/UukvN+/G079S6S8378bTvwqKnkw5eaq8CoqeTDl5qrxM6S8378bTP0zpLzfvxtM/XFp1BCPP4j9cWnUEI8/iP6f0l5t34+k/p/SXm3fj6T//VEQTDm/uP/9URBMOb+4/",
            "dtype": "f8"
           },
           "y": {
            "bdata": "AAAAAAAAAAAAAAAAAAAAAAAAAAAAAAAAAAAAAAAAAABP6S8378bTP0/pLzfvxtM/Xlp1BCPP4j9eWnUEI8/iP6j0l5t34+k/qPSXm3fj6T//VEQTDm/uP/9URBMOb+4/AAAAAAAA8D8AAAAAAADwPwBVRBMOb+4/AFVEEw5v7j+o9Jebd+PpP6j0l5t34+k/X1p1BCPP4j9fWnUEI8/iP1HpLzfvxtM/UekvN+/G0z8HXBQzJqahPAdcFDMmpqE8TekvN+/G079N6S8378bTv11adQQjz+K/XVp1BCPP4r+n9Jebd+Ppv6f0l5t34+m//1REEw5v7r//VEQTDm/uvwAAAAAAAPC/AAAAAAAA8L8AVUQTDm/uvwBVRBMOb+6/qfSXm3fj6b+p9Jebd+Ppv2BadQQjz+K/YFp1BCPP4r9U6S8378bTv1TpLzfvxtO/",
            "dtype": "f8"
           },
           "z": {
            "bdata": "AAAAAAAAAMAAAAAAAAAAwAAAAAAAAABAAAAAAAAAAEAAAAAAAAAAwAAAAAAAAABAAAAAAAAAAMAAAAAAAAAAQAAAAAAAAADAAAAAAAAAAEAAAAAAAAAAwAAAAAAAAABAAAAAAAAAAMAAAAAAAAAAQAAAAAAAAADAAAAAAAAAAEAAAAAAAAAAwAAAAAAAAABAAAAAAAAAAMAAAAAAAAAAQAAAAAAAAADAAAAAAAAAAEAAAAAAAAAAwAAAAAAAAABAAAAAAAAAAMAAAAAAAAAAQAAAAAAAAADAAAAAAAAAAEAAAAAAAAAAwAAAAAAAAABAAAAAAAAAAMAAAAAAAAAAQAAAAAAAAADAAAAAAAAAAEAAAAAAAAAAwAAAAAAAAABAAAAAAAAAAMAAAAAAAAAAQAAAAAAAAADAAAAAAAAAAEAAAAAAAAAAwAAAAAAAAABA",
            "dtype": "f8"
           }
          },
          {
           "line": {
            "color": "red",
            "width": 5
           },
           "mode": "lines",
           "name": "Slice at z=1.66",
           "type": "scatter3d",
           "x": [
            -1.8369701987210297e-16,
            0.026171847482775942,
            0.30901699437494723,
            0.3326269590761254,
            0.5877852522924729,
            0.6065222263668049,
            0.8090169943749473,
            0.8210468722518628,
            0.9510565162951535,
            0.9552017297109722,
            1,
            0.9958547865841814,
            0.9510565162951535,
            0.9390266384182381,
            0.8090169943749475,
            0.7902800203006155,
            0.5877852522924731,
            0.564175287591295,
            0.30901699437494745,
            0.28284514689217133,
            6.123233995736766e-17,
            -0.026171847482776064,
            -0.30901699437494734,
            -0.3326269590761255,
            -0.587785252292473,
            -0.606522226366805,
            -0.8090169943749473,
            -0.8210468722518628,
            -0.9510565162951535,
            -0.9552017297109722,
            -1,
            -0.9958547865841814,
            -0.9510565162951536,
            -0.9390266384182382,
            -0.8090169943749475,
            -0.7902800203006155,
            -0.5877852522924732,
            -0.5641752875912951,
            -0.30901699437494756,
            -0.28284514689217144,
            -1.8369701987210297e-16,
            null
           ],
           "y": [
            -1,
            -0.9958547865841814,
            -0.9510565162951536,
            -0.9390266384182382,
            -0.8090169943749476,
            -0.7902800203006156,
            -0.5877852522924734,
            -0.5641752875912952,
            -0.3090169943749477,
            -0.28284514689217155,
            0,
            0.026171847482776126,
            0.3090169943749474,
            0.33262695907612555,
            0.5877852522924731,
            0.6065222263668051,
            0.8090169943749475,
            0.8210468722518629,
            0.9510565162951535,
            0.9552017297109722,
            1,
            0.9958547865841814,
            0.9510565162951536,
            0.9390266384182382,
            0.8090169943749475,
            0.7902800203006155,
            0.5877852522924732,
            0.5641752875912951,
            0.3090169943749475,
            0.2828451468921714,
            1.2246467991473532e-16,
            -0.026171847482776005,
            -0.3090169943749473,
            -0.33262695907612544,
            -0.587785252292473,
            -0.606522226366805,
            -0.8090169943749473,
            -0.8210468722518628,
            -0.9510565162951535,
            -0.9552017297109722,
            -1,
            null
           ],
           "z": [
            1.6612244897959187,
            1.6612244897959187,
            1.6612244897959187,
            1.6612244897959187,
            1.6612244897959187,
            1.6612244897959187,
            1.6612244897959187,
            1.6612244897959187,
            1.6612244897959187,
            1.6612244897959187,
            1.6612244897959187,
            1.6612244897959187,
            1.6612244897959187,
            1.6612244897959187,
            1.6612244897959187,
            1.6612244897959187,
            1.6612244897959187,
            1.6612244897959187,
            1.6612244897959187,
            1.6612244897959187,
            1.6612244897959187,
            1.6612244897959187,
            1.6612244897959187,
            1.6612244897959187,
            1.6612244897959187,
            1.6612244897959187,
            1.6612244897959187,
            1.6612244897959187,
            1.6612244897959187,
            1.6612244897959187,
            1.6612244897959187,
            1.6612244897959187,
            1.6612244897959187,
            1.6612244897959187,
            1.6612244897959187,
            1.6612244897959187,
            1.6612244897959187,
            1.6612244897959187,
            1.6612244897959187,
            1.6612244897959187,
            1.6612244897959187,
            null
           ]
          }
         ],
         "name": "frame_43",
         "traces": [
          0,
          1
         ]
        },
        {
         "data": [
          {
           "color": "lightblue",
           "i": {
            "bdata": "AQECAgQEBQUGBgcHCAgJCQoKCwsMDA0NDg4PDxAQERESEhMTFBQVFRYWFxcYGBkZGhobGxwcHR0eHh8fICAhISIiIyMkJCUlJiYnJygoKSk=",
            "dtype": "i1"
           },
           "j": {
            "bdata": "AAQEBQAGBgcACAgJAAoKCwAMDA0ADg4PABAQEQASEhMAFBQVABYWFwAYGBkAGhobABwcHQAeHh8AICAhACIiIwAkJCUAJiYnACgoKQABAQI=",
            "dtype": "i1"
           },
           "k": {
            "bdata": "BAIFAwYFBwMIBwkDCgkLAwwLDQMODQ8DEA8RAxIREwMUExUDFhUXAxgXGQMaGRsDHBsdAx4dHwMgHyEDIiEjAyQjJQMmJScDKCcpAwEpAgM=",
            "dtype": "i1"
           },
           "name": "Mesh",
           "opacity": 0.3,
           "type": "mesh3d",
           "x": {
            "bdata": "AAAAAAAAAAAAAAAAAADwPwAAAAAAAPA/AAAAAAAAAAD/VEQTDm/uP/9URBMOb+4/qPSXm3fj6T+o9Jebd+PpP15adQQjz+I/Xlp1BCPP4j9Q6S8378bTP1DpLzfvxtM/B1wUMyamkTwHXBQzJqaRPE7pLzfvxtO/TukvN+/G079dWnUEI8/iv11adQQjz+K/p/SXm3fj6b+n9Jebd+Ppv/9URBMOb+6//1REEw5v7r8AAAAAAADwvwAAAAAAAPC/AFVEEw5v7r8AVUQTDm/uv6j0l5t34+m/qPSXm3fj6b9fWnUEI8/iv19adQQjz+K/UukvN+/G079S6S8378bTvwqKnkw5eaq8CoqeTDl5qrxM6S8378bTP0zpLzfvxtM/XFp1BCPP4j9cWnUEI8/iP6f0l5t34+k/p/SXm3fj6T//VEQTDm/uP/9URBMOb+4/",
            "dtype": "f8"
           },
           "y": {
            "bdata": "AAAAAAAAAAAAAAAAAAAAAAAAAAAAAAAAAAAAAAAAAABP6S8378bTP0/pLzfvxtM/Xlp1BCPP4j9eWnUEI8/iP6j0l5t34+k/qPSXm3fj6T//VEQTDm/uP/9URBMOb+4/AAAAAAAA8D8AAAAAAADwPwBVRBMOb+4/AFVEEw5v7j+o9Jebd+PpP6j0l5t34+k/X1p1BCPP4j9fWnUEI8/iP1HpLzfvxtM/UekvN+/G0z8HXBQzJqahPAdcFDMmpqE8TekvN+/G079N6S8378bTv11adQQjz+K/XVp1BCPP4r+n9Jebd+Ppv6f0l5t34+m//1REEw5v7r//VEQTDm/uvwAAAAAAAPC/AAAAAAAA8L8AVUQTDm/uvwBVRBMOb+6/qfSXm3fj6b+p9Jebd+Ppv2BadQQjz+K/YFp1BCPP4r9U6S8378bTv1TpLzfvxtO/",
            "dtype": "f8"
           },
           "z": {
            "bdata": "AAAAAAAAAMAAAAAAAAAAwAAAAAAAAABAAAAAAAAAAEAAAAAAAAAAwAAAAAAAAABAAAAAAAAAAMAAAAAAAAAAQAAAAAAAAADAAAAAAAAAAEAAAAAAAAAAwAAAAAAAAABAAAAAAAAAAMAAAAAAAAAAQAAAAAAAAADAAAAAAAAAAEAAAAAAAAAAwAAAAAAAAABAAAAAAAAAAMAAAAAAAAAAQAAAAAAAAADAAAAAAAAAAEAAAAAAAAAAwAAAAAAAAABAAAAAAAAAAMAAAAAAAAAAQAAAAAAAAADAAAAAAAAAAEAAAAAAAAAAwAAAAAAAAABAAAAAAAAAAMAAAAAAAAAAQAAAAAAAAADAAAAAAAAAAEAAAAAAAAAAwAAAAAAAAABAAAAAAAAAAMAAAAAAAAAAQAAAAAAAAADAAAAAAAAAAEAAAAAAAAAAwAAAAAAAAABA",
            "dtype": "f8"
           }
          },
          {
           "line": {
            "color": "red",
            "width": 5
           },
           "mode": "lines",
           "name": "Slice at z=1.75",
           "type": "scatter3d",
           "x": [
            -1.8369701987210297e-16,
            0.019234731282522045,
            0.30901699437494723,
            0.326368896143283,
            0.5877852522924729,
            0.601555799503729,
            0.8090169943749473,
            0.8178582299230418,
            0.9510565162951535,
            0.9541029984441287,
            1,
            0.9969535178510248,
            0.9510565162951535,
            0.9422152807470591,
            0.8090169943749475,
            0.7952464471636914,
            0.5877852522924731,
            0.5704333505241374,
            0.30901699437494745,
            0.2897822630924252,
            6.123233995736766e-17,
            -0.019234731282522167,
            -0.30901699437494734,
            -0.3263688961432831,
            -0.587785252292473,
            -0.6015557995037291,
            -0.8090169943749473,
            -0.8178582299230418,
            -0.9510565162951535,
            -0.9541029984441287,
            -1,
            -0.9969535178510248,
            -0.9510565162951536,
            -0.9422152807470592,
            -0.8090169943749475,
            -0.7952464471636914,
            -0.5877852522924732,
            -0.5704333505241375,
            -0.30901699437494756,
            -0.28978226309242533,
            -1.8369701987210297e-16,
            null
           ],
           "y": [
            -1,
            -0.9969535178510248,
            -0.9510565162951536,
            -0.9422152807470592,
            -0.8090169943749476,
            -0.7952464471636915,
            -0.5877852522924734,
            -0.5704333505241376,
            -0.3090169943749477,
            -0.28978226309242544,
            0,
            0.01923473128252223,
            0.3090169943749474,
            0.3263688961432832,
            0.5877852522924731,
            0.6015557995037292,
            0.8090169943749475,
            0.8178582299230419,
            0.9510565162951535,
            0.9541029984441287,
            1,
            0.9969535178510248,
            0.9510565162951536,
            0.9422152807470592,
            0.8090169943749475,
            0.7952464471636914,
            0.5877852522924732,
            0.5704333505241375,
            0.3090169943749475,
            0.2897822630924253,
            1.2246467991473532e-16,
            -0.019234731282522108,
            -0.3090169943749473,
            -0.32636889614328307,
            -0.587785252292473,
            -0.6015557995037291,
            -0.8090169943749473,
            -0.8178582299230418,
            -0.9510565162951535,
            -0.9541029984441287,
            -1,
            null
           ],
           "z": [
            1.7510204081632654,
            1.7510204081632654,
            1.7510204081632654,
            1.7510204081632654,
            1.7510204081632654,
            1.7510204081632654,
            1.7510204081632654,
            1.7510204081632654,
            1.7510204081632654,
            1.7510204081632654,
            1.7510204081632654,
            1.7510204081632654,
            1.7510204081632654,
            1.7510204081632654,
            1.7510204081632654,
            1.7510204081632654,
            1.7510204081632654,
            1.7510204081632654,
            1.7510204081632654,
            1.7510204081632654,
            1.7510204081632654,
            1.7510204081632654,
            1.7510204081632654,
            1.7510204081632654,
            1.7510204081632654,
            1.7510204081632654,
            1.7510204081632654,
            1.7510204081632654,
            1.7510204081632654,
            1.7510204081632654,
            1.7510204081632654,
            1.7510204081632654,
            1.7510204081632654,
            1.7510204081632654,
            1.7510204081632654,
            1.7510204081632654,
            1.7510204081632654,
            1.7510204081632654,
            1.7510204081632654,
            1.7510204081632654,
            1.7510204081632654,
            null
           ]
          }
         ],
         "name": "frame_44",
         "traces": [
          0,
          1
         ]
        },
        {
         "data": [
          {
           "color": "lightblue",
           "i": {
            "bdata": "AQECAgQEBQUGBgcHCAgJCQoKCwsMDA0NDg4PDxAQERESEhMTFBQVFRYWFxcYGBkZGhobGxwcHR0eHh8fICAhISIiIyMkJCUlJiYnJygoKSk=",
            "dtype": "i1"
           },
           "j": {
            "bdata": "AAQEBQAGBgcACAgJAAoKCwAMDA0ADg4PABAQEQASEhMAFBQVABYWFwAYGBkAGhobABwcHQAeHh8AICAhACIiIwAkJCUAJiYnACgoKQABAQI=",
            "dtype": "i1"
           },
           "k": {
            "bdata": "BAIFAwYFBwMIBwkDCgkLAwwLDQMODQ8DEA8RAxIREwMUExUDFhUXAxgXGQMaGRsDHBsdAx4dHwMgHyEDIiEjAyQjJQMmJScDKCcpAwEpAgM=",
            "dtype": "i1"
           },
           "name": "Mesh",
           "opacity": 0.3,
           "type": "mesh3d",
           "x": {
            "bdata": "AAAAAAAAAAAAAAAAAADwPwAAAAAAAPA/AAAAAAAAAAD/VEQTDm/uP/9URBMOb+4/qPSXm3fj6T+o9Jebd+PpP15adQQjz+I/Xlp1BCPP4j9Q6S8378bTP1DpLzfvxtM/B1wUMyamkTwHXBQzJqaRPE7pLzfvxtO/TukvN+/G079dWnUEI8/iv11adQQjz+K/p/SXm3fj6b+n9Jebd+Ppv/9URBMOb+6//1REEw5v7r8AAAAAAADwvwAAAAAAAPC/AFVEEw5v7r8AVUQTDm/uv6j0l5t34+m/qPSXm3fj6b9fWnUEI8/iv19adQQjz+K/UukvN+/G079S6S8378bTvwqKnkw5eaq8CoqeTDl5qrxM6S8378bTP0zpLzfvxtM/XFp1BCPP4j9cWnUEI8/iP6f0l5t34+k/p/SXm3fj6T//VEQTDm/uP/9URBMOb+4/",
            "dtype": "f8"
           },
           "y": {
            "bdata": "AAAAAAAAAAAAAAAAAAAAAAAAAAAAAAAAAAAAAAAAAABP6S8378bTP0/pLzfvxtM/Xlp1BCPP4j9eWnUEI8/iP6j0l5t34+k/qPSXm3fj6T//VEQTDm/uP/9URBMOb+4/AAAAAAAA8D8AAAAAAADwPwBVRBMOb+4/AFVEEw5v7j+o9Jebd+PpP6j0l5t34+k/X1p1BCPP4j9fWnUEI8/iP1HpLzfvxtM/UekvN+/G0z8HXBQzJqahPAdcFDMmpqE8TekvN+/G079N6S8378bTv11adQQjz+K/XVp1BCPP4r+n9Jebd+Ppv6f0l5t34+m//1REEw5v7r//VEQTDm/uvwAAAAAAAPC/AAAAAAAA8L8AVUQTDm/uvwBVRBMOb+6/qfSXm3fj6b+p9Jebd+Ppv2BadQQjz+K/YFp1BCPP4r9U6S8378bTv1TpLzfvxtO/",
            "dtype": "f8"
           },
           "z": {
            "bdata": "AAAAAAAAAMAAAAAAAAAAwAAAAAAAAABAAAAAAAAAAEAAAAAAAAAAwAAAAAAAAABAAAAAAAAAAMAAAAAAAAAAQAAAAAAAAADAAAAAAAAAAEAAAAAAAAAAwAAAAAAAAABAAAAAAAAAAMAAAAAAAAAAQAAAAAAAAADAAAAAAAAAAEAAAAAAAAAAwAAAAAAAAABAAAAAAAAAAMAAAAAAAAAAQAAAAAAAAADAAAAAAAAAAEAAAAAAAAAAwAAAAAAAAABAAAAAAAAAAMAAAAAAAAAAQAAAAAAAAADAAAAAAAAAAEAAAAAAAAAAwAAAAAAAAABAAAAAAAAAAMAAAAAAAAAAQAAAAAAAAADAAAAAAAAAAEAAAAAAAAAAwAAAAAAAAABAAAAAAAAAAMAAAAAAAAAAQAAAAAAAAADAAAAAAAAAAEAAAAAAAAAAwAAAAAAAAABA",
            "dtype": "f8"
           }
          },
          {
           "line": {
            "color": "red",
            "width": 5
           },
           "mode": "lines",
           "name": "Slice at z=1.84",
           "type": "scatter3d",
           "x": [
            -1.8369701987210297e-16,
            0.012297615082268107,
            0.30901699437494723,
            0.3201108332104406,
            0.5877852522924729,
            0.596589372640653,
            0.8090169943749473,
            0.8146695875942208,
            0.9510565162951535,
            0.9530042671772851,
            1,
            0.9980522491178684,
            0.9510565162951535,
            0.9454039230758801,
            0.8090169943749475,
            0.8002128740267673,
            0.5877852522924731,
            0.5766914134569798,
            0.30901699437494745,
            0.29671937929267916,
            6.123233995736766e-17,
            -0.01229761508226823,
            -0.30901699437494734,
            -0.3201108332104407,
            -0.587785252292473,
            -0.5965893726406531,
            -0.8090169943749473,
            -0.8146695875942208,
            -0.9510565162951535,
            -0.9530042671772851,
            -1,
            -0.9980522491178684,
            -0.9510565162951536,
            -0.9454039230758802,
            -0.8090169943749475,
            -0.8002128740267673,
            -0.5877852522924732,
            -0.5766914134569799,
            -0.30901699437494756,
            -0.2967193792926793,
            -1.8369701987210297e-16,
            null
           ],
           "y": [
            -1,
            -0.9980522491178684,
            -0.9510565162951536,
            -0.9454039230758802,
            -0.8090169943749476,
            -0.8002128740267674,
            -0.5877852522924734,
            -0.57669141345698,
            -0.3090169943749477,
            -0.2967193792926794,
            0,
            0.01229761508226829,
            0.3090169943749474,
            0.32011083321044076,
            0.5877852522924731,
            0.5965893726406533,
            0.8090169943749475,
            0.8146695875942209,
            0.9510565162951535,
            0.9530042671772851,
            1,
            0.9980522491178684,
            0.9510565162951536,
            0.9454039230758802,
            0.8090169943749475,
            0.8002128740267673,
            0.5877852522924732,
            0.5766914134569799,
            0.3090169943749475,
            0.2967193792926792,
            1.2246467991473532e-16,
            -0.012297615082268168,
            -0.3090169943749473,
            -0.32011083321044065,
            -0.587785252292473,
            -0.5965893726406531,
            -0.8090169943749473,
            -0.8146695875942208,
            -0.9510565162951535,
            -0.9530042671772851,
            -1,
            null
           ],
           "z": [
            1.8408163265306126,
            1.8408163265306126,
            1.8408163265306126,
            1.8408163265306126,
            1.8408163265306126,
            1.8408163265306126,
            1.8408163265306126,
            1.8408163265306126,
            1.8408163265306126,
            1.8408163265306126,
            1.8408163265306126,
            1.8408163265306126,
            1.8408163265306126,
            1.8408163265306126,
            1.8408163265306126,
            1.8408163265306126,
            1.8408163265306126,
            1.8408163265306126,
            1.8408163265306126,
            1.8408163265306126,
            1.8408163265306126,
            1.8408163265306126,
            1.8408163265306126,
            1.8408163265306126,
            1.8408163265306126,
            1.8408163265306126,
            1.8408163265306126,
            1.8408163265306126,
            1.8408163265306126,
            1.8408163265306126,
            1.8408163265306126,
            1.8408163265306126,
            1.8408163265306126,
            1.8408163265306126,
            1.8408163265306126,
            1.8408163265306126,
            1.8408163265306126,
            1.8408163265306126,
            1.8408163265306126,
            1.8408163265306126,
            1.8408163265306126,
            null
           ]
          }
         ],
         "name": "frame_45",
         "traces": [
          0,
          1
         ]
        },
        {
         "data": [
          {
           "color": "lightblue",
           "i": {
            "bdata": "AQECAgQEBQUGBgcHCAgJCQoKCwsMDA0NDg4PDxAQERESEhMTFBQVFRYWFxcYGBkZGhobGxwcHR0eHh8fICAhISIiIyMkJCUlJiYnJygoKSk=",
            "dtype": "i1"
           },
           "j": {
            "bdata": "AAQEBQAGBgcACAgJAAoKCwAMDA0ADg4PABAQEQASEhMAFBQVABYWFwAYGBkAGhobABwcHQAeHh8AICAhACIiIwAkJCUAJiYnACgoKQABAQI=",
            "dtype": "i1"
           },
           "k": {
            "bdata": "BAIFAwYFBwMIBwkDCgkLAwwLDQMODQ8DEA8RAxIREwMUExUDFhUXAxgXGQMaGRsDHBsdAx4dHwMgHyEDIiEjAyQjJQMmJScDKCcpAwEpAgM=",
            "dtype": "i1"
           },
           "name": "Mesh",
           "opacity": 0.3,
           "type": "mesh3d",
           "x": {
            "bdata": "AAAAAAAAAAAAAAAAAADwPwAAAAAAAPA/AAAAAAAAAAD/VEQTDm/uP/9URBMOb+4/qPSXm3fj6T+o9Jebd+PpP15adQQjz+I/Xlp1BCPP4j9Q6S8378bTP1DpLzfvxtM/B1wUMyamkTwHXBQzJqaRPE7pLzfvxtO/TukvN+/G079dWnUEI8/iv11adQQjz+K/p/SXm3fj6b+n9Jebd+Ppv/9URBMOb+6//1REEw5v7r8AAAAAAADwvwAAAAAAAPC/AFVEEw5v7r8AVUQTDm/uv6j0l5t34+m/qPSXm3fj6b9fWnUEI8/iv19adQQjz+K/UukvN+/G079S6S8378bTvwqKnkw5eaq8CoqeTDl5qrxM6S8378bTP0zpLzfvxtM/XFp1BCPP4j9cWnUEI8/iP6f0l5t34+k/p/SXm3fj6T//VEQTDm/uP/9URBMOb+4/",
            "dtype": "f8"
           },
           "y": {
            "bdata": "AAAAAAAAAAAAAAAAAAAAAAAAAAAAAAAAAAAAAAAAAABP6S8378bTP0/pLzfvxtM/Xlp1BCPP4j9eWnUEI8/iP6j0l5t34+k/qPSXm3fj6T//VEQTDm/uP/9URBMOb+4/AAAAAAAA8D8AAAAAAADwPwBVRBMOb+4/AFVEEw5v7j+o9Jebd+PpP6j0l5t34+k/X1p1BCPP4j9fWnUEI8/iP1HpLzfvxtM/UekvN+/G0z8HXBQzJqahPAdcFDMmpqE8TekvN+/G079N6S8378bTv11adQQjz+K/XVp1BCPP4r+n9Jebd+Ppv6f0l5t34+m//1REEw5v7r//VEQTDm/uvwAAAAAAAPC/AAAAAAAA8L8AVUQTDm/uvwBVRBMOb+6/qfSXm3fj6b+p9Jebd+Ppv2BadQQjz+K/YFp1BCPP4r9U6S8378bTv1TpLzfvxtO/",
            "dtype": "f8"
           },
           "z": {
            "bdata": "AAAAAAAAAMAAAAAAAAAAwAAAAAAAAABAAAAAAAAAAEAAAAAAAAAAwAAAAAAAAABAAAAAAAAAAMAAAAAAAAAAQAAAAAAAAADAAAAAAAAAAEAAAAAAAAAAwAAAAAAAAABAAAAAAAAAAMAAAAAAAAAAQAAAAAAAAADAAAAAAAAAAEAAAAAAAAAAwAAAAAAAAABAAAAAAAAAAMAAAAAAAAAAQAAAAAAAAADAAAAAAAAAAEAAAAAAAAAAwAAAAAAAAABAAAAAAAAAAMAAAAAAAAAAQAAAAAAAAADAAAAAAAAAAEAAAAAAAAAAwAAAAAAAAABAAAAAAAAAAMAAAAAAAAAAQAAAAAAAAADAAAAAAAAAAEAAAAAAAAAAwAAAAAAAAABAAAAAAAAAAMAAAAAAAAAAQAAAAAAAAADAAAAAAAAAAEAAAAAAAAAAwAAAAAAAAABA",
            "dtype": "f8"
           }
          },
          {
           "line": {
            "color": "red",
            "width": 5
           },
           "mode": "lines",
           "name": "Slice at z=1.93",
           "type": "scatter3d",
           "x": [
            -1.8369701987210297e-16,
            0.005360498882014171,
            0.30901699437494723,
            0.31385277027759817,
            0.5877852522924729,
            0.591622945777577,
            0.8090169943749473,
            0.8114809452653999,
            0.9510565162951535,
            0.9519055359104417,
            1,
            0.9991509803847118,
            0.9510565162951535,
            0.948592565404701,
            0.8090169943749475,
            0.8051793008898434,
            0.5877852522924731,
            0.5829494763898222,
            0.30901699437494745,
            0.3036564954929331,
            6.123233995736766e-17,
            -0.005360498882014293,
            -0.30901699437494734,
            -0.3138527702775983,
            -0.587785252292473,
            -0.5916229457775771,
            -0.8090169943749473,
            -0.8114809452653999,
            -0.9510565162951535,
            -0.9519055359104417,
            -1,
            -0.9991509803847118,
            -0.9510565162951536,
            -0.948592565404701,
            -0.8090169943749475,
            -0.8051793008898434,
            -0.5877852522924732,
            -0.5829494763898223,
            -0.30901699437494756,
            -0.3036564954929332,
            -1.8369701987210297e-16,
            null
           ],
           "y": [
            -1,
            -0.9991509803847118,
            -0.9510565162951536,
            -0.9485925654047012,
            -0.8090169943749476,
            -0.8051793008898435,
            -0.5877852522924734,
            -0.5829494763898224,
            -0.3090169943749477,
            -0.30365649549293333,
            0,
            0.005360498882014355,
            0.3090169943749474,
            0.31385277027759834,
            0.5877852522924731,
            0.5916229457775772,
            0.8090169943749475,
            0.8114809452653999,
            0.9510565162951535,
            0.9519055359104417,
            1,
            0.9991509803847118,
            0.9510565162951536,
            0.948592565404701,
            0.8090169943749475,
            0.8051793008898434,
            0.5877852522924732,
            0.5829494763898223,
            0.3090169943749475,
            0.30365649549293317,
            1.2246467991473532e-16,
            -0.0053604988820142325,
            -0.3090169943749473,
            -0.3138527702775982,
            -0.587785252292473,
            -0.5916229457775771,
            -0.8090169943749473,
            -0.8114809452653999,
            -0.9510565162951535,
            -0.9519055359104417,
            -1,
            null
           ],
           "z": [
            1.9306122448979597,
            1.9306122448979597,
            1.9306122448979597,
            1.9306122448979597,
            1.9306122448979597,
            1.9306122448979597,
            1.9306122448979597,
            1.9306122448979597,
            1.9306122448979597,
            1.9306122448979597,
            1.9306122448979597,
            1.9306122448979597,
            1.9306122448979597,
            1.9306122448979597,
            1.9306122448979597,
            1.9306122448979597,
            1.9306122448979597,
            1.9306122448979597,
            1.9306122448979597,
            1.9306122448979597,
            1.9306122448979597,
            1.9306122448979597,
            1.9306122448979597,
            1.9306122448979597,
            1.9306122448979597,
            1.9306122448979597,
            1.9306122448979597,
            1.9306122448979597,
            1.9306122448979597,
            1.9306122448979597,
            1.9306122448979597,
            1.9306122448979597,
            1.9306122448979597,
            1.9306122448979597,
            1.9306122448979597,
            1.9306122448979597,
            1.9306122448979597,
            1.9306122448979597,
            1.9306122448979597,
            1.9306122448979597,
            1.9306122448979597,
            null
           ]
          }
         ],
         "name": "frame_46",
         "traces": [
          0,
          1
         ]
        },
        {
         "data": [
          {
           "color": "lightblue",
           "i": {
            "bdata": "AQECAgQEBQUGBgcHCAgJCQoKCwsMDA0NDg4PDxAQERESEhMTFBQVFRYWFxcYGBkZGhobGxwcHR0eHh8fICAhISIiIyMkJCUlJiYnJygoKSk=",
            "dtype": "i1"
           },
           "j": {
            "bdata": "AAQEBQAGBgcACAgJAAoKCwAMDA0ADg4PABAQEQASEhMAFBQVABYWFwAYGBkAGhobABwcHQAeHh8AICAhACIiIwAkJCUAJiYnACgoKQABAQI=",
            "dtype": "i1"
           },
           "k": {
            "bdata": "BAIFAwYFBwMIBwkDCgkLAwwLDQMODQ8DEA8RAxIREwMUExUDFhUXAxgXGQMaGRsDHBsdAx4dHwMgHyEDIiEjAyQjJQMmJScDKCcpAwEpAgM=",
            "dtype": "i1"
           },
           "name": "Mesh",
           "opacity": 0.3,
           "type": "mesh3d",
           "x": {
            "bdata": "AAAAAAAAAAAAAAAAAADwPwAAAAAAAPA/AAAAAAAAAAD/VEQTDm/uP/9URBMOb+4/qPSXm3fj6T+o9Jebd+PpP15adQQjz+I/Xlp1BCPP4j9Q6S8378bTP1DpLzfvxtM/B1wUMyamkTwHXBQzJqaRPE7pLzfvxtO/TukvN+/G079dWnUEI8/iv11adQQjz+K/p/SXm3fj6b+n9Jebd+Ppv/9URBMOb+6//1REEw5v7r8AAAAAAADwvwAAAAAAAPC/AFVEEw5v7r8AVUQTDm/uv6j0l5t34+m/qPSXm3fj6b9fWnUEI8/iv19adQQjz+K/UukvN+/G079S6S8378bTvwqKnkw5eaq8CoqeTDl5qrxM6S8378bTP0zpLzfvxtM/XFp1BCPP4j9cWnUEI8/iP6f0l5t34+k/p/SXm3fj6T//VEQTDm/uP/9URBMOb+4/",
            "dtype": "f8"
           },
           "y": {
            "bdata": "AAAAAAAAAAAAAAAAAAAAAAAAAAAAAAAAAAAAAAAAAABP6S8378bTP0/pLzfvxtM/Xlp1BCPP4j9eWnUEI8/iP6j0l5t34+k/qPSXm3fj6T//VEQTDm/uP/9URBMOb+4/AAAAAAAA8D8AAAAAAADwPwBVRBMOb+4/AFVEEw5v7j+o9Jebd+PpP6j0l5t34+k/X1p1BCPP4j9fWnUEI8/iP1HpLzfvxtM/UekvN+/G0z8HXBQzJqahPAdcFDMmpqE8TekvN+/G079N6S8378bTv11adQQjz+K/XVp1BCPP4r+n9Jebd+Ppv6f0l5t34+m//1REEw5v7r//VEQTDm/uvwAAAAAAAPC/AAAAAAAA8L8AVUQTDm/uvwBVRBMOb+6/qfSXm3fj6b+p9Jebd+Ppv2BadQQjz+K/YFp1BCPP4r9U6S8378bTv1TpLzfvxtO/",
            "dtype": "f8"
           },
           "z": {
            "bdata": "AAAAAAAAAMAAAAAAAAAAwAAAAAAAAABAAAAAAAAAAEAAAAAAAAAAwAAAAAAAAABAAAAAAAAAAMAAAAAAAAAAQAAAAAAAAADAAAAAAAAAAEAAAAAAAAAAwAAAAAAAAABAAAAAAAAAAMAAAAAAAAAAQAAAAAAAAADAAAAAAAAAAEAAAAAAAAAAwAAAAAAAAABAAAAAAAAAAMAAAAAAAAAAQAAAAAAAAADAAAAAAAAAAEAAAAAAAAAAwAAAAAAAAABAAAAAAAAAAMAAAAAAAAAAQAAAAAAAAADAAAAAAAAAAEAAAAAAAAAAwAAAAAAAAABAAAAAAAAAAMAAAAAAAAAAQAAAAAAAAADAAAAAAAAAAEAAAAAAAAAAwAAAAAAAAABAAAAAAAAAAMAAAAAAAAAAQAAAAAAAAADAAAAAAAAAAEAAAAAAAAAAwAAAAAAAAABA",
            "dtype": "f8"
           }
          }
         ],
         "name": "frame_47",
         "traces": [
          0,
          1
         ]
        },
        {
         "data": [
          {
           "color": "lightblue",
           "i": {
            "bdata": "AQECAgQEBQUGBgcHCAgJCQoKCwsMDA0NDg4PDxAQERESEhMTFBQVFRYWFxcYGBkZGhobGxwcHR0eHh8fICAhISIiIyMkJCUlJiYnJygoKSk=",
            "dtype": "i1"
           },
           "j": {
            "bdata": "AAQEBQAGBgcACAgJAAoKCwAMDA0ADg4PABAQEQASEhMAFBQVABYWFwAYGBkAGhobABwcHQAeHh8AICAhACIiIwAkJCUAJiYnACgoKQABAQI=",
            "dtype": "i1"
           },
           "k": {
            "bdata": "BAIFAwYFBwMIBwkDCgkLAwwLDQMODQ8DEA8RAxIREwMUExUDFhUXAxgXGQMaGRsDHBsdAx4dHwMgHyEDIiEjAyQjJQMmJScDKCcpAwEpAgM=",
            "dtype": "i1"
           },
           "name": "Mesh",
           "opacity": 0.3,
           "type": "mesh3d",
           "x": {
            "bdata": "AAAAAAAAAAAAAAAAAADwPwAAAAAAAPA/AAAAAAAAAAD/VEQTDm/uP/9URBMOb+4/qPSXm3fj6T+o9Jebd+PpP15adQQjz+I/Xlp1BCPP4j9Q6S8378bTP1DpLzfvxtM/B1wUMyamkTwHXBQzJqaRPE7pLzfvxtO/TukvN+/G079dWnUEI8/iv11adQQjz+K/p/SXm3fj6b+n9Jebd+Ppv/9URBMOb+6//1REEw5v7r8AAAAAAADwvwAAAAAAAPC/AFVEEw5v7r8AVUQTDm/uv6j0l5t34+m/qPSXm3fj6b9fWnUEI8/iv19adQQjz+K/UukvN+/G079S6S8378bTvwqKnkw5eaq8CoqeTDl5qrxM6S8378bTP0zpLzfvxtM/XFp1BCPP4j9cWnUEI8/iP6f0l5t34+k/p/SXm3fj6T//VEQTDm/uP/9URBMOb+4/",
            "dtype": "f8"
           },
           "y": {
            "bdata": "AAAAAAAAAAAAAAAAAAAAAAAAAAAAAAAAAAAAAAAAAABP6S8378bTP0/pLzfvxtM/Xlp1BCPP4j9eWnUEI8/iP6j0l5t34+k/qPSXm3fj6T//VEQTDm/uP/9URBMOb+4/AAAAAAAA8D8AAAAAAADwPwBVRBMOb+4/AFVEEw5v7j+o9Jebd+PpP6j0l5t34+k/X1p1BCPP4j9fWnUEI8/iP1HpLzfvxtM/UekvN+/G0z8HXBQzJqahPAdcFDMmpqE8TekvN+/G079N6S8378bTv11adQQjz+K/XVp1BCPP4r+n9Jebd+Ppv6f0l5t34+m//1REEw5v7r//VEQTDm/uvwAAAAAAAPC/AAAAAAAA8L8AVUQTDm/uvwBVRBMOb+6/qfSXm3fj6b+p9Jebd+Ppv2BadQQjz+K/YFp1BCPP4r9U6S8378bTv1TpLzfvxtO/",
            "dtype": "f8"
           },
           "z": {
            "bdata": "AAAAAAAAAMAAAAAAAAAAwAAAAAAAAABAAAAAAAAAAEAAAAAAAAAAwAAAAAAAAABAAAAAAAAAAMAAAAAAAAAAQAAAAAAAAADAAAAAAAAAAEAAAAAAAAAAwAAAAAAAAABAAAAAAAAAAMAAAAAAAAAAQAAAAAAAAADAAAAAAAAAAEAAAAAAAAAAwAAAAAAAAABAAAAAAAAAAMAAAAAAAAAAQAAAAAAAAADAAAAAAAAAAEAAAAAAAAAAwAAAAAAAAABAAAAAAAAAAMAAAAAAAAAAQAAAAAAAAADAAAAAAAAAAEAAAAAAAAAAwAAAAAAAAABAAAAAAAAAAMAAAAAAAAAAQAAAAAAAAADAAAAAAAAAAEAAAAAAAAAAwAAAAAAAAABAAAAAAAAAAMAAAAAAAAAAQAAAAAAAAADAAAAAAAAAAEAAAAAAAAAAwAAAAAAAAABA",
            "dtype": "f8"
           }
          }
         ],
         "name": "frame_48",
         "traces": [
          0,
          1
         ]
        },
        {
         "data": [
          {
           "color": "lightblue",
           "i": {
            "bdata": "AQECAgQEBQUGBgcHCAgJCQoKCwsMDA0NDg4PDxAQERESEhMTFBQVFRYWFxcYGBkZGhobGxwcHR0eHh8fICAhISIiIyMkJCUlJiYnJygoKSk=",
            "dtype": "i1"
           },
           "j": {
            "bdata": "AAQEBQAGBgcACAgJAAoKCwAMDA0ADg4PABAQEQASEhMAFBQVABYWFwAYGBkAGhobABwcHQAeHh8AICAhACIiIwAkJCUAJiYnACgoKQABAQI=",
            "dtype": "i1"
           },
           "k": {
            "bdata": "BAIFAwYFBwMIBwkDCgkLAwwLDQMODQ8DEA8RAxIREwMUExUDFhUXAxgXGQMaGRsDHBsdAx4dHwMgHyEDIiEjAyQjJQMmJScDKCcpAwEpAgM=",
            "dtype": "i1"
           },
           "name": "Mesh",
           "opacity": 0.3,
           "type": "mesh3d",
           "x": {
            "bdata": "AAAAAAAAAAAAAAAAAADwPwAAAAAAAPA/AAAAAAAAAAD/VEQTDm/uP/9URBMOb+4/qPSXm3fj6T+o9Jebd+PpP15adQQjz+I/Xlp1BCPP4j9Q6S8378bTP1DpLzfvxtM/B1wUMyamkTwHXBQzJqaRPE7pLzfvxtO/TukvN+/G079dWnUEI8/iv11adQQjz+K/p/SXm3fj6b+n9Jebd+Ppv/9URBMOb+6//1REEw5v7r8AAAAAAADwvwAAAAAAAPC/AFVEEw5v7r8AVUQTDm/uv6j0l5t34+m/qPSXm3fj6b9fWnUEI8/iv19adQQjz+K/UukvN+/G079S6S8378bTvwqKnkw5eaq8CoqeTDl5qrxM6S8378bTP0zpLzfvxtM/XFp1BCPP4j9cWnUEI8/iP6f0l5t34+k/p/SXm3fj6T//VEQTDm/uP/9URBMOb+4/",
            "dtype": "f8"
           },
           "y": {
            "bdata": "AAAAAAAAAAAAAAAAAAAAAAAAAAAAAAAAAAAAAAAAAABP6S8378bTP0/pLzfvxtM/Xlp1BCPP4j9eWnUEI8/iP6j0l5t34+k/qPSXm3fj6T//VEQTDm/uP/9URBMOb+4/AAAAAAAA8D8AAAAAAADwPwBVRBMOb+4/AFVEEw5v7j+o9Jebd+PpP6j0l5t34+k/X1p1BCPP4j9fWnUEI8/iP1HpLzfvxtM/UekvN+/G0z8HXBQzJqahPAdcFDMmpqE8TekvN+/G079N6S8378bTv11adQQjz+K/XVp1BCPP4r+n9Jebd+Ppv6f0l5t34+m//1REEw5v7r//VEQTDm/uvwAAAAAAAPC/AAAAAAAA8L8AVUQTDm/uvwBVRBMOb+6/qfSXm3fj6b+p9Jebd+Ppv2BadQQjz+K/YFp1BCPP4r9U6S8378bTv1TpLzfvxtO/",
            "dtype": "f8"
           },
           "z": {
            "bdata": "AAAAAAAAAMAAAAAAAAAAwAAAAAAAAABAAAAAAAAAAEAAAAAAAAAAwAAAAAAAAABAAAAAAAAAAMAAAAAAAAAAQAAAAAAAAADAAAAAAAAAAEAAAAAAAAAAwAAAAAAAAABAAAAAAAAAAMAAAAAAAAAAQAAAAAAAAADAAAAAAAAAAEAAAAAAAAAAwAAAAAAAAABAAAAAAAAAAMAAAAAAAAAAQAAAAAAAAADAAAAAAAAAAEAAAAAAAAAAwAAAAAAAAABAAAAAAAAAAMAAAAAAAAAAQAAAAAAAAADAAAAAAAAAAEAAAAAAAAAAwAAAAAAAAABAAAAAAAAAAMAAAAAAAAAAQAAAAAAAAADAAAAAAAAAAEAAAAAAAAAAwAAAAAAAAABAAAAAAAAAAMAAAAAAAAAAQAAAAAAAAADAAAAAAAAAAEAAAAAAAAAAwAAAAAAAAABA",
            "dtype": "f8"
           }
          }
         ],
         "name": "frame_49",
         "traces": [
          0,
          1
         ]
        }
       ],
       "layout": {
        "height": 800,
        "margin": {
         "b": 100,
         "l": 50,
         "r": 50,
         "t": 100
        },
        "scene": {
         "aspectmode": "data",
         "camera": {
          "eye": {
           "x": 1.5,
           "y": 1.5,
           "z": 1.5
          }
         }
        },
        "sliders": [
         {
          "active": 25,
          "currentvalue": {
           "prefix": "Z-value: ",
           "visible": true,
           "xanchor": "right"
          },
          "len": 0.9,
          "pad": {
           "b": 10,
           "t": 50
          },
          "steps": [
           {
            "args": [
             [
              "frame_0"
             ],
             {
              "frame": {
               "duration": 0,
               "redraw": true
              },
              "mode": "immediate"
             }
            ],
            "label": "-2.20",
            "method": "animate"
           },
           {
            "args": [
             [
              "frame_1"
             ],
             {
              "frame": {
               "duration": 0,
               "redraw": true
              },
              "mode": "immediate"
             }
            ],
            "label": "-2.11",
            "method": "animate"
           },
           {
            "args": [
             [
              "frame_2"
             ],
             {
              "frame": {
               "duration": 0,
               "redraw": true
              },
              "mode": "immediate"
             }
            ],
            "label": "-2.02",
            "method": "animate"
           },
           {
            "args": [
             [
              "frame_3"
             ],
             {
              "frame": {
               "duration": 0,
               "redraw": true
              },
              "mode": "immediate"
             }
            ],
            "label": "-1.93",
            "method": "animate"
           },
           {
            "args": [
             [
              "frame_4"
             ],
             {
              "frame": {
               "duration": 0,
               "redraw": true
              },
              "mode": "immediate"
             }
            ],
            "label": "-1.84",
            "method": "animate"
           },
           {
            "args": [
             [
              "frame_5"
             ],
             {
              "frame": {
               "duration": 0,
               "redraw": true
              },
              "mode": "immediate"
             }
            ],
            "label": "-1.75",
            "method": "animate"
           },
           {
            "args": [
             [
              "frame_6"
             ],
             {
              "frame": {
               "duration": 0,
               "redraw": true
              },
              "mode": "immediate"
             }
            ],
            "label": "-1.66",
            "method": "animate"
           },
           {
            "args": [
             [
              "frame_7"
             ],
             {
              "frame": {
               "duration": 0,
               "redraw": true
              },
              "mode": "immediate"
             }
            ],
            "label": "-1.57",
            "method": "animate"
           },
           {
            "args": [
             [
              "frame_8"
             ],
             {
              "frame": {
               "duration": 0,
               "redraw": true
              },
              "mode": "immediate"
             }
            ],
            "label": "-1.48",
            "method": "animate"
           },
           {
            "args": [
             [
              "frame_9"
             ],
             {
              "frame": {
               "duration": 0,
               "redraw": true
              },
              "mode": "immediate"
             }
            ],
            "label": "-1.39",
            "method": "animate"
           },
           {
            "args": [
             [
              "frame_10"
             ],
             {
              "frame": {
               "duration": 0,
               "redraw": true
              },
              "mode": "immediate"
             }
            ],
            "label": "-1.30",
            "method": "animate"
           },
           {
            "args": [
             [
              "frame_11"
             ],
             {
              "frame": {
               "duration": 0,
               "redraw": true
              },
              "mode": "immediate"
             }
            ],
            "label": "-1.21",
            "method": "animate"
           },
           {
            "args": [
             [
              "frame_12"
             ],
             {
              "frame": {
               "duration": 0,
               "redraw": true
              },
              "mode": "immediate"
             }
            ],
            "label": "-1.12",
            "method": "animate"
           },
           {
            "args": [
             [
              "frame_13"
             ],
             {
              "frame": {
               "duration": 0,
               "redraw": true
              },
              "mode": "immediate"
             }
            ],
            "label": "-1.03",
            "method": "animate"
           },
           {
            "args": [
             [
              "frame_14"
             ],
             {
              "frame": {
               "duration": 0,
               "redraw": true
              },
              "mode": "immediate"
             }
            ],
            "label": "-0.94",
            "method": "animate"
           },
           {
            "args": [
             [
              "frame_15"
             ],
             {
              "frame": {
               "duration": 0,
               "redraw": true
              },
              "mode": "immediate"
             }
            ],
            "label": "-0.85",
            "method": "animate"
           },
           {
            "args": [
             [
              "frame_16"
             ],
             {
              "frame": {
               "duration": 0,
               "redraw": true
              },
              "mode": "immediate"
             }
            ],
            "label": "-0.76",
            "method": "animate"
           },
           {
            "args": [
             [
              "frame_17"
             ],
             {
              "frame": {
               "duration": 0,
               "redraw": true
              },
              "mode": "immediate"
             }
            ],
            "label": "-0.67",
            "method": "animate"
           },
           {
            "args": [
             [
              "frame_18"
             ],
             {
              "frame": {
               "duration": 0,
               "redraw": true
              },
              "mode": "immediate"
             }
            ],
            "label": "-0.58",
            "method": "animate"
           },
           {
            "args": [
             [
              "frame_19"
             ],
             {
              "frame": {
               "duration": 0,
               "redraw": true
              },
              "mode": "immediate"
             }
            ],
            "label": "-0.49",
            "method": "animate"
           },
           {
            "args": [
             [
              "frame_20"
             ],
             {
              "frame": {
               "duration": 0,
               "redraw": true
              },
              "mode": "immediate"
             }
            ],
            "label": "-0.40",
            "method": "animate"
           },
           {
            "args": [
             [
              "frame_21"
             ],
             {
              "frame": {
               "duration": 0,
               "redraw": true
              },
              "mode": "immediate"
             }
            ],
            "label": "-0.31",
            "method": "animate"
           },
           {
            "args": [
             [
              "frame_22"
             ],
             {
              "frame": {
               "duration": 0,
               "redraw": true
              },
              "mode": "immediate"
             }
            ],
            "label": "-0.22",
            "method": "animate"
           },
           {
            "args": [
             [
              "frame_23"
             ],
             {
              "frame": {
               "duration": 0,
               "redraw": true
              },
              "mode": "immediate"
             }
            ],
            "label": "-0.13",
            "method": "animate"
           },
           {
            "args": [
             [
              "frame_24"
             ],
             {
              "frame": {
               "duration": 0,
               "redraw": true
              },
              "mode": "immediate"
             }
            ],
            "label": "-0.04",
            "method": "animate"
           },
           {
            "args": [
             [
              "frame_25"
             ],
             {
              "frame": {
               "duration": 0,
               "redraw": true
              },
              "mode": "immediate"
             }
            ],
            "label": "0.04",
            "method": "animate"
           },
           {
            "args": [
             [
              "frame_26"
             ],
             {
              "frame": {
               "duration": 0,
               "redraw": true
              },
              "mode": "immediate"
             }
            ],
            "label": "0.13",
            "method": "animate"
           },
           {
            "args": [
             [
              "frame_27"
             ],
             {
              "frame": {
               "duration": 0,
               "redraw": true
              },
              "mode": "immediate"
             }
            ],
            "label": "0.22",
            "method": "animate"
           },
           {
            "args": [
             [
              "frame_28"
             ],
             {
              "frame": {
               "duration": 0,
               "redraw": true
              },
              "mode": "immediate"
             }
            ],
            "label": "0.31",
            "method": "animate"
           },
           {
            "args": [
             [
              "frame_29"
             ],
             {
              "frame": {
               "duration": 0,
               "redraw": true
              },
              "mode": "immediate"
             }
            ],
            "label": "0.40",
            "method": "animate"
           },
           {
            "args": [
             [
              "frame_30"
             ],
             {
              "frame": {
               "duration": 0,
               "redraw": true
              },
              "mode": "immediate"
             }
            ],
            "label": "0.49",
            "method": "animate"
           },
           {
            "args": [
             [
              "frame_31"
             ],
             {
              "frame": {
               "duration": 0,
               "redraw": true
              },
              "mode": "immediate"
             }
            ],
            "label": "0.58",
            "method": "animate"
           },
           {
            "args": [
             [
              "frame_32"
             ],
             {
              "frame": {
               "duration": 0,
               "redraw": true
              },
              "mode": "immediate"
             }
            ],
            "label": "0.67",
            "method": "animate"
           },
           {
            "args": [
             [
              "frame_33"
             ],
             {
              "frame": {
               "duration": 0,
               "redraw": true
              },
              "mode": "immediate"
             }
            ],
            "label": "0.76",
            "method": "animate"
           },
           {
            "args": [
             [
              "frame_34"
             ],
             {
              "frame": {
               "duration": 0,
               "redraw": true
              },
              "mode": "immediate"
             }
            ],
            "label": "0.85",
            "method": "animate"
           },
           {
            "args": [
             [
              "frame_35"
             ],
             {
              "frame": {
               "duration": 0,
               "redraw": true
              },
              "mode": "immediate"
             }
            ],
            "label": "0.94",
            "method": "animate"
           },
           {
            "args": [
             [
              "frame_36"
             ],
             {
              "frame": {
               "duration": 0,
               "redraw": true
              },
              "mode": "immediate"
             }
            ],
            "label": "1.03",
            "method": "animate"
           },
           {
            "args": [
             [
              "frame_37"
             ],
             {
              "frame": {
               "duration": 0,
               "redraw": true
              },
              "mode": "immediate"
             }
            ],
            "label": "1.12",
            "method": "animate"
           },
           {
            "args": [
             [
              "frame_38"
             ],
             {
              "frame": {
               "duration": 0,
               "redraw": true
              },
              "mode": "immediate"
             }
            ],
            "label": "1.21",
            "method": "animate"
           },
           {
            "args": [
             [
              "frame_39"
             ],
             {
              "frame": {
               "duration": 0,
               "redraw": true
              },
              "mode": "immediate"
             }
            ],
            "label": "1.30",
            "method": "animate"
           },
           {
            "args": [
             [
              "frame_40"
             ],
             {
              "frame": {
               "duration": 0,
               "redraw": true
              },
              "mode": "immediate"
             }
            ],
            "label": "1.39",
            "method": "animate"
           },
           {
            "args": [
             [
              "frame_41"
             ],
             {
              "frame": {
               "duration": 0,
               "redraw": true
              },
              "mode": "immediate"
             }
            ],
            "label": "1.48",
            "method": "animate"
           },
           {
            "args": [
             [
              "frame_42"
             ],
             {
              "frame": {
               "duration": 0,
               "redraw": true
              },
              "mode": "immediate"
             }
            ],
            "label": "1.57",
            "method": "animate"
           },
           {
            "args": [
             [
              "frame_43"
             ],
             {
              "frame": {
               "duration": 0,
               "redraw": true
              },
              "mode": "immediate"
             }
            ],
            "label": "1.66",
            "method": "animate"
           },
           {
            "args": [
             [
              "frame_44"
             ],
             {
              "frame": {
               "duration": 0,
               "redraw": true
              },
              "mode": "immediate"
             }
            ],
            "label": "1.75",
            "method": "animate"
           },
           {
            "args": [
             [
              "frame_45"
             ],
             {
              "frame": {
               "duration": 0,
               "redraw": true
              },
              "mode": "immediate"
             }
            ],
            "label": "1.84",
            "method": "animate"
           },
           {
            "args": [
             [
              "frame_46"
             ],
             {
              "frame": {
               "duration": 0,
               "redraw": true
              },
              "mode": "immediate"
             }
            ],
            "label": "1.93",
            "method": "animate"
           },
           {
            "args": [
             [
              "frame_47"
             ],
             {
              "frame": {
               "duration": 0,
               "redraw": true
              },
              "mode": "immediate"
             }
            ],
            "label": "2.02",
            "method": "animate"
           },
           {
            "args": [
             [
              "frame_48"
             ],
             {
              "frame": {
               "duration": 0,
               "redraw": true
              },
              "mode": "immediate"
             }
            ],
            "label": "2.11",
            "method": "animate"
           },
           {
            "args": [
             [
              "frame_49"
             ],
             {
              "frame": {
               "duration": 0,
               "redraw": true
              },
              "mode": "immediate"
             }
            ],
            "label": "2.20",
            "method": "animate"
           }
          ],
          "x": 0.1,
          "y": 0
         }
        ],
        "template": {
         "data": {
          "bar": [
           {
            "error_x": {
             "color": "#2a3f5f"
            },
            "error_y": {
             "color": "#2a3f5f"
            },
            "marker": {
             "line": {
              "color": "#E5ECF6",
              "width": 0.5
             },
             "pattern": {
              "fillmode": "overlay",
              "size": 10,
              "solidity": 0.2
             }
            },
            "type": "bar"
           }
          ],
          "barpolar": [
           {
            "marker": {
             "line": {
              "color": "#E5ECF6",
              "width": 0.5
             },
             "pattern": {
              "fillmode": "overlay",
              "size": 10,
              "solidity": 0.2
             }
            },
            "type": "barpolar"
           }
          ],
          "carpet": [
           {
            "aaxis": {
             "endlinecolor": "#2a3f5f",
             "gridcolor": "white",
             "linecolor": "white",
             "minorgridcolor": "white",
             "startlinecolor": "#2a3f5f"
            },
            "baxis": {
             "endlinecolor": "#2a3f5f",
             "gridcolor": "white",
             "linecolor": "white",
             "minorgridcolor": "white",
             "startlinecolor": "#2a3f5f"
            },
            "type": "carpet"
           }
          ],
          "choropleth": [
           {
            "colorbar": {
             "outlinewidth": 0,
             "ticks": ""
            },
            "type": "choropleth"
           }
          ],
          "contour": [
           {
            "colorbar": {
             "outlinewidth": 0,
             "ticks": ""
            },
            "colorscale": [
             [
              0,
              "#0d0887"
             ],
             [
              0.1111111111111111,
              "#46039f"
             ],
             [
              0.2222222222222222,
              "#7201a8"
             ],
             [
              0.3333333333333333,
              "#9c179e"
             ],
             [
              0.4444444444444444,
              "#bd3786"
             ],
             [
              0.5555555555555556,
              "#d8576b"
             ],
             [
              0.6666666666666666,
              "#ed7953"
             ],
             [
              0.7777777777777778,
              "#fb9f3a"
             ],
             [
              0.8888888888888888,
              "#fdca26"
             ],
             [
              1,
              "#f0f921"
             ]
            ],
            "type": "contour"
           }
          ],
          "contourcarpet": [
           {
            "colorbar": {
             "outlinewidth": 0,
             "ticks": ""
            },
            "type": "contourcarpet"
           }
          ],
          "heatmap": [
           {
            "colorbar": {
             "outlinewidth": 0,
             "ticks": ""
            },
            "colorscale": [
             [
              0,
              "#0d0887"
             ],
             [
              0.1111111111111111,
              "#46039f"
             ],
             [
              0.2222222222222222,
              "#7201a8"
             ],
             [
              0.3333333333333333,
              "#9c179e"
             ],
             [
              0.4444444444444444,
              "#bd3786"
             ],
             [
              0.5555555555555556,
              "#d8576b"
             ],
             [
              0.6666666666666666,
              "#ed7953"
             ],
             [
              0.7777777777777778,
              "#fb9f3a"
             ],
             [
              0.8888888888888888,
              "#fdca26"
             ],
             [
              1,
              "#f0f921"
             ]
            ],
            "type": "heatmap"
           }
          ],
          "histogram": [
           {
            "marker": {
             "pattern": {
              "fillmode": "overlay",
              "size": 10,
              "solidity": 0.2
             }
            },
            "type": "histogram"
           }
          ],
          "histogram2d": [
           {
            "colorbar": {
             "outlinewidth": 0,
             "ticks": ""
            },
            "colorscale": [
             [
              0,
              "#0d0887"
             ],
             [
              0.1111111111111111,
              "#46039f"
             ],
             [
              0.2222222222222222,
              "#7201a8"
             ],
             [
              0.3333333333333333,
              "#9c179e"
             ],
             [
              0.4444444444444444,
              "#bd3786"
             ],
             [
              0.5555555555555556,
              "#d8576b"
             ],
             [
              0.6666666666666666,
              "#ed7953"
             ],
             [
              0.7777777777777778,
              "#fb9f3a"
             ],
             [
              0.8888888888888888,
              "#fdca26"
             ],
             [
              1,
              "#f0f921"
             ]
            ],
            "type": "histogram2d"
           }
          ],
          "histogram2dcontour": [
           {
            "colorbar": {
             "outlinewidth": 0,
             "ticks": ""
            },
            "colorscale": [
             [
              0,
              "#0d0887"
             ],
             [
              0.1111111111111111,
              "#46039f"
             ],
             [
              0.2222222222222222,
              "#7201a8"
             ],
             [
              0.3333333333333333,
              "#9c179e"
             ],
             [
              0.4444444444444444,
              "#bd3786"
             ],
             [
              0.5555555555555556,
              "#d8576b"
             ],
             [
              0.6666666666666666,
              "#ed7953"
             ],
             [
              0.7777777777777778,
              "#fb9f3a"
             ],
             [
              0.8888888888888888,
              "#fdca26"
             ],
             [
              1,
              "#f0f921"
             ]
            ],
            "type": "histogram2dcontour"
           }
          ],
          "mesh3d": [
           {
            "colorbar": {
             "outlinewidth": 0,
             "ticks": ""
            },
            "type": "mesh3d"
           }
          ],
          "parcoords": [
           {
            "line": {
             "colorbar": {
              "outlinewidth": 0,
              "ticks": ""
             }
            },
            "type": "parcoords"
           }
          ],
          "pie": [
           {
            "automargin": true,
            "type": "pie"
           }
          ],
          "scatter": [
           {
            "fillpattern": {
             "fillmode": "overlay",
             "size": 10,
             "solidity": 0.2
            },
            "type": "scatter"
           }
          ],
          "scatter3d": [
           {
            "line": {
             "colorbar": {
              "outlinewidth": 0,
              "ticks": ""
             }
            },
            "marker": {
             "colorbar": {
              "outlinewidth": 0,
              "ticks": ""
             }
            },
            "type": "scatter3d"
           }
          ],
          "scattercarpet": [
           {
            "marker": {
             "colorbar": {
              "outlinewidth": 0,
              "ticks": ""
             }
            },
            "type": "scattercarpet"
           }
          ],
          "scattergeo": [
           {
            "marker": {
             "colorbar": {
              "outlinewidth": 0,
              "ticks": ""
             }
            },
            "type": "scattergeo"
           }
          ],
          "scattergl": [
           {
            "marker": {
             "colorbar": {
              "outlinewidth": 0,
              "ticks": ""
             }
            },
            "type": "scattergl"
           }
          ],
          "scattermap": [
           {
            "marker": {
             "colorbar": {
              "outlinewidth": 0,
              "ticks": ""
             }
            },
            "type": "scattermap"
           }
          ],
          "scattermapbox": [
           {
            "marker": {
             "colorbar": {
              "outlinewidth": 0,
              "ticks": ""
             }
            },
            "type": "scattermapbox"
           }
          ],
          "scatterpolar": [
           {
            "marker": {
             "colorbar": {
              "outlinewidth": 0,
              "ticks": ""
             }
            },
            "type": "scatterpolar"
           }
          ],
          "scatterpolargl": [
           {
            "marker": {
             "colorbar": {
              "outlinewidth": 0,
              "ticks": ""
             }
            },
            "type": "scatterpolargl"
           }
          ],
          "scatterternary": [
           {
            "marker": {
             "colorbar": {
              "outlinewidth": 0,
              "ticks": ""
             }
            },
            "type": "scatterternary"
           }
          ],
          "surface": [
           {
            "colorbar": {
             "outlinewidth": 0,
             "ticks": ""
            },
            "colorscale": [
             [
              0,
              "#0d0887"
             ],
             [
              0.1111111111111111,
              "#46039f"
             ],
             [
              0.2222222222222222,
              "#7201a8"
             ],
             [
              0.3333333333333333,
              "#9c179e"
             ],
             [
              0.4444444444444444,
              "#bd3786"
             ],
             [
              0.5555555555555556,
              "#d8576b"
             ],
             [
              0.6666666666666666,
              "#ed7953"
             ],
             [
              0.7777777777777778,
              "#fb9f3a"
             ],
             [
              0.8888888888888888,
              "#fdca26"
             ],
             [
              1,
              "#f0f921"
             ]
            ],
            "type": "surface"
           }
          ],
          "table": [
           {
            "cells": {
             "fill": {
              "color": "#EBF0F8"
             },
             "line": {
              "color": "white"
             }
            },
            "header": {
             "fill": {
              "color": "#C8D4E3"
             },
             "line": {
              "color": "white"
             }
            },
            "type": "table"
           }
          ]
         },
         "layout": {
          "annotationdefaults": {
           "arrowcolor": "#2a3f5f",
           "arrowhead": 0,
           "arrowwidth": 1
          },
          "autotypenumbers": "strict",
          "coloraxis": {
           "colorbar": {
            "outlinewidth": 0,
            "ticks": ""
           }
          },
          "colorscale": {
           "diverging": [
            [
             0,
             "#8e0152"
            ],
            [
             0.1,
             "#c51b7d"
            ],
            [
             0.2,
             "#de77ae"
            ],
            [
             0.3,
             "#f1b6da"
            ],
            [
             0.4,
             "#fde0ef"
            ],
            [
             0.5,
             "#f7f7f7"
            ],
            [
             0.6,
             "#e6f5d0"
            ],
            [
             0.7,
             "#b8e186"
            ],
            [
             0.8,
             "#7fbc41"
            ],
            [
             0.9,
             "#4d9221"
            ],
            [
             1,
             "#276419"
            ]
           ],
           "sequential": [
            [
             0,
             "#0d0887"
            ],
            [
             0.1111111111111111,
             "#46039f"
            ],
            [
             0.2222222222222222,
             "#7201a8"
            ],
            [
             0.3333333333333333,
             "#9c179e"
            ],
            [
             0.4444444444444444,
             "#bd3786"
            ],
            [
             0.5555555555555556,
             "#d8576b"
            ],
            [
             0.6666666666666666,
             "#ed7953"
            ],
            [
             0.7777777777777778,
             "#fb9f3a"
            ],
            [
             0.8888888888888888,
             "#fdca26"
            ],
            [
             1,
             "#f0f921"
            ]
           ],
           "sequentialminus": [
            [
             0,
             "#0d0887"
            ],
            [
             0.1111111111111111,
             "#46039f"
            ],
            [
             0.2222222222222222,
             "#7201a8"
            ],
            [
             0.3333333333333333,
             "#9c179e"
            ],
            [
             0.4444444444444444,
             "#bd3786"
            ],
            [
             0.5555555555555556,
             "#d8576b"
            ],
            [
             0.6666666666666666,
             "#ed7953"
            ],
            [
             0.7777777777777778,
             "#fb9f3a"
            ],
            [
             0.8888888888888888,
             "#fdca26"
            ],
            [
             1,
             "#f0f921"
            ]
           ]
          },
          "colorway": [
           "#636efa",
           "#EF553B",
           "#00cc96",
           "#ab63fa",
           "#FFA15A",
           "#19d3f3",
           "#FF6692",
           "#B6E880",
           "#FF97FF",
           "#FECB52"
          ],
          "font": {
           "color": "#2a3f5f"
          },
          "geo": {
           "bgcolor": "white",
           "lakecolor": "white",
           "landcolor": "#E5ECF6",
           "showlakes": true,
           "showland": true,
           "subunitcolor": "white"
          },
          "hoverlabel": {
           "align": "left"
          },
          "hovermode": "closest",
          "mapbox": {
           "style": "light"
          },
          "paper_bgcolor": "white",
          "plot_bgcolor": "#E5ECF6",
          "polar": {
           "angularaxis": {
            "gridcolor": "white",
            "linecolor": "white",
            "ticks": ""
           },
           "bgcolor": "#E5ECF6",
           "radialaxis": {
            "gridcolor": "white",
            "linecolor": "white",
            "ticks": ""
           }
          },
          "scene": {
           "xaxis": {
            "backgroundcolor": "#E5ECF6",
            "gridcolor": "white",
            "gridwidth": 2,
            "linecolor": "white",
            "showbackground": true,
            "ticks": "",
            "zerolinecolor": "white"
           },
           "yaxis": {
            "backgroundcolor": "#E5ECF6",
            "gridcolor": "white",
            "gridwidth": 2,
            "linecolor": "white",
            "showbackground": true,
            "ticks": "",
            "zerolinecolor": "white"
           },
           "zaxis": {
            "backgroundcolor": "#E5ECF6",
            "gridcolor": "white",
            "gridwidth": 2,
            "linecolor": "white",
            "showbackground": true,
            "ticks": "",
            "zerolinecolor": "white"
           }
          },
          "shapedefaults": {
           "line": {
            "color": "#2a3f5f"
           }
          },
          "ternary": {
           "aaxis": {
            "gridcolor": "white",
            "linecolor": "white",
            "ticks": ""
           },
           "baxis": {
            "gridcolor": "white",
            "linecolor": "white",
            "ticks": ""
           },
           "bgcolor": "#E5ECF6",
           "caxis": {
            "gridcolor": "white",
            "linecolor": "white",
            "ticks": ""
           }
          },
          "title": {
           "x": 0.05
          },
          "xaxis": {
           "automargin": true,
           "gridcolor": "white",
           "linecolor": "white",
           "ticks": "",
           "title": {
            "standoff": 15
           },
           "zerolinecolor": "white",
           "zerolinewidth": 2
          },
          "yaxis": {
           "automargin": true,
           "gridcolor": "white",
           "linecolor": "white",
           "ticks": "",
           "title": {
            "standoff": 15
           },
           "zerolinecolor": "white",
           "zerolinewidth": 2
          }
         }
        },
        "title": {
         "text": "Interactive Cylinder Cross-Sections"
        },
        "updatemenus": [
         {
          "buttons": [
           {
            "args": [
             null,
             {
              "frame": {
               "duration": 200,
               "redraw": true
              },
              "fromcurrent": true
             }
            ],
            "label": "Play",
            "method": "animate"
           },
           {
            "args": [
             [
              null
             ],
             {
              "frame": {
               "duration": 0,
               "redraw": false
              },
              "mode": "immediate"
             }
            ],
            "label": "Pause",
            "method": "animate"
           },
           {
            "args": [
             {
              "scene.camera.eye": {
               "x": 1.5,
               "y": 1.5,
               "z": 1.5
              }
             }
            ],
            "label": "Reset View",
            "method": "relayout"
           }
          ],
          "pad": {
           "r": 10,
           "t": 60
          },
          "showactive": false,
          "type": "buttons",
          "x": 0,
          "xanchor": "left",
          "y": 0,
          "yanchor": "top"
         }
        ]
       }
      }
     },
     "metadata": {},
     "output_type": "display_data"
    }
   ],
   "source": [
    "mm.visualize_mesh_slice_interactive(\n",
    "    title=\"Interactive Cylinder Cross-Sections\",\n",
    "    slice_color=\"red\",\n",
    "    mesh_color=\"lightblue\",\n",
    "    mesh_opacity=0.3\n",
    ")\n"
   ]
  },
  {
   "cell_type": "markdown",
   "id": "91b93bf1",
   "metadata": {},
   "source": [
    "## Cross-section grid view"
   ]
  },
  {
   "cell_type": "code",
   "execution_count": 12,
   "id": "2a4d2532",
   "metadata": {},
   "outputs": [
    {
     "data": {
      "application/vnd.plotly.v1+json": {
       "config": {
        "plotlyServerURL": "https://plot.ly"
       },
       "data": [
        {
         "line": {
          "color": "red",
          "width": 2
         },
         "mode": "lines",
         "showlegend": false,
         "type": "scatter",
         "x": {
          "bdata": "CoqeTDl5qrxS6S8378bTv19adQQjz+K/qPSXm3fj6b8AVUQTDm/uvwAAAAAAAPC//1REEw5v7r+n9Jebd+Ppv11adQQjz+K/TukvN+/G078HXBQzJqaRPFDpLzfvxtM/Xlp1BCPP4j+o9Jebd+PpP/9URBMOb+4/AAAAAAAA8D//VEQTDm/uP6f0l5t34+k/XFp1BCPP4j9M6S8378bTPwqKnkw5eaq8CoqeTDl5qrw=",
          "dtype": "f8"
         },
         "xaxis": "x",
         "y": {
          "bdata": "AAAAAAAA8L//VEQTDm/uv6f0l5t34+m/XVp1BCPP4r9N6S8378bTvwdcFDMmpqE8UekvN+/G0z9fWnUEI8/iP6j0l5t34+k/AFVEEw5v7j8AAAAAAADwP/9URBMOb+4/qPSXm3fj6T9eWnUEI8/iP0/pLzfvxtM/AAAAAAAAAABU6S8378bTv2BadQQjz+K/qfSXm3fj6b8AVUQTDm/uvwAAAAAAAPC/AAAAAAAA8L8=",
          "dtype": "f8"
         },
         "yaxis": "y"
        },
        {
         "line": {
          "color": "red",
          "width": 2
         },
         "mode": "lines",
         "showlegend": false,
         "type": "scatter",
         "x": {
          "bdata": "CoqeTDl5qrxo6S8378ajv1LpLzfvxtO/wEJnEdoB1r9fWnUEI8/iv6itWZetseO/qPSXm3fj6b+zgI1q6nTqvwBVRBMOb+6/YMrbUCyh7r8AAAAAAADwv6CKaMLhze+//1REEw5v7r/0yE5Em93tv6f0l5t34+m/XqGzCO0A6b9dWnUEI8/iv6atWZetseG/TukvN+/G078k7ElQEU7RvwdcFDMmppE8WOkvN+/Goz9Q6S8378bTP75CZxHaAdY/Xlp1BCPP4j+nrVmXrbHjP6j0l5t34+k/s4CNaup06j//VEQTDm/uP1/K21Asoe4/AAAAAAAA8D+gimjC4c3vP/9URBMOb+4/9MhORJvd7T+n9Jebd+PpP16hswjtAOk/XFp1BCPP4j+lrVmXrbHhP0zpLzfvxtM/IuxJUBFO0T8Kip5MOXmqvAqKnkw5eaq8",
          "dtype": "f8"
         },
         "xaxis": "x2",
         "y": {
          "bdata": "AAAAAAAA8L+gimjC4c3vv/9URBMOb+6/9MhORJvd7b+n9Jebd+Ppv16hswjtAOm/XVp1BCPP4r+mrVmXrbHhv03pLzfvxtO/I+xJUBFO0b8HXBQzJqahPGDpLzfvxqM/UekvN+/G0z++QmcR2gHWP19adQQjz+I/qK1Zl62x4z+o9Jebd+PpP7OAjWrqdOo/AFVEEw5v7j9gyttQLKHuPwAAAAAAAPA/oIpowuHN7z//VEQTDm/uP/TITkSb3e0/qPSXm3fj6T9fobMI7QDpP15adQQjz+I/p61Zl62x4T9P6S8378bTPyXsSVARTtE/AAAAAAAAAABQ6S8378ajv1TpLzfvxtO/wkJnEdoB1r9gWnUEI8/iv6mtWZetseO/qfSXm3fj6b+0gI1q6nTqvwBVRBMOb+6/YMrbUCyh7r8AAAAAAADwvwAAAAAAAPC/",
          "dtype": "f8"
         },
         "yaxis": "y2"
        },
        {
         "line": {
          "color": "red",
          "width": 2
         },
         "mode": "lines",
         "showlegend": false,
         "type": "scatter",
         "x": {
          "bdata": "CoqeTDl5qrxa6S8378azv1LpLzfvxtO/LZye68Q82L9fWnUEI8/iv/EAPio4lOS/qPSXm3fj6b++DIM5XQbrvwBVRBMOb+6/wD9zjkrT7r8AAAAAAADwv0AV0YTDm++//1REEw5v7r/pPFl1KEztv6f0l5t34+m/FE7PdWIe6L9dWnUEI8/iv/AAPio4lOC/TukvN+/G07/13cfSZqrNvwdcFDMmppE8UukvN+/Gsz9Q6S8378bTPyucnuvEPNg/Xlp1BCPP4j/wAD4qOJTkP6j0l5t34+k/vgyDOV0G6z//VEQTDm/uP78/c45K0+4/AAAAAAAA8D9AFdGEw5vvP/9URBMOb+4/6TxZdShM7T+n9Jebd+PpPxROz3ViHug/XFp1BCPP4j/uAD4qOJTgP0zpLzfvxtM/8N3H0maqzT8Kip5MOXmqvAqKnkw5eaq8",
          "dtype": "f8"
         },
         "xaxis": "x3",
         "y": {
          "bdata": "AAAAAAAA8L9AFdGEw5vvv/9URBMOb+6/6TxZdShM7b+n9Jebd+PpvxROz3ViHui/XVp1BCPP4r/wAD4qOJTgv03pLzfvxtO/893H0maqzb8HXBQzJqahPFbpLzfvxrM/UekvN+/G0z8snJ7rxDzYP19adQQjz+I/8QA+KjiU5D+o9Jebd+PpP74MgzldBus/AFVEEw5v7j/AP3OOStPuPwAAAAAAAPA/QBXRhMOb7z//VEQTDm/uP+k8WXUoTO0/qPSXm3fj6T8WTs91Yh7oP15adQQjz+I/8AA+KjiU4D9P6S8378bTP/fdx9Jmqs0/AAAAAAAAAABU6S8378azv1TpLzfvxtO/L5ye68Q82L9gWnUEI8/iv/IAPio4lOS/qfSXm3fj6b+/DIM5XQbrvwBVRBMOb+6/wD9zjkrT7r8AAAAAAADwvwAAAAAAAPC/",
          "dtype": "f8"
         },
         "yaxis": "y3"
        },
        {
         "line": {
          "color": "red",
          "width": 2
         },
         "mode": "lines",
         "showlegend": false,
         "type": "scatter",
         "x": {
          "bdata": "CoqeTDl5qrwC3sfSZqq9v1LpLzfvxtO/mvXVxa932r9fWnUEI8/ivzpUIr3CduW/qPSXm3fj6b/JmHgI0JfrvwBVRBMOb+6/ILUKzGgF778AAAAAAADwv+CfOUelae+//1REEw5v7r/esGOmtbrsv6f0l5t34+m/y/rq4tc7579dWnUEI8/iv3KoRHqF7d6/TukvN+/G07+h4/sEq7jIvwdcFDMmppE8+t3H0maqvT9Q6S8378bTP5j11cWvd9o/Xlp1BCPP4j86VCK9wnblP6j0l5t34+k/yZh4CNCX6z//VEQTDm/uPx+1CsxoBe8/AAAAAAAA8D/gnzlHpWnvP/9URBMOb+4/3rBjprW67D+n9Jebd+PpP8v66uLXO+c/XFp1BCPP4j9wqER6he3eP0zpLzfvxtM/nOP7BKu4yD8Kip5MOXmqvAqKnkw5eaq8",
          "dtype": "f8"
         },
         "xaxis": "x4",
         "y": {
          "bdata": "AAAAAAAA8L/gnzlHpWnvv/9URBMOb+6/3rBjprW67L+n9Jebd+Ppv8v66uLXO+e/XVp1BCPP4r9yqER6he3ev03pLzfvxtO/n+P7BKu4yL8HXBQzJqahPP7dx9Jmqr0/UekvN+/G0z+a9dXFr3faP19adQQjz+I/OlQivcJ25T+o9Jebd+PpP8mYeAjQl+s/AFVEEw5v7j8gtQrMaAXvPwAAAAAAAPA/4J85R6Vp7z//VEQTDm/uP96wY6a1uuw/qPSXm3fj6T/M+uri1zvnP15adQQjz+I/dKhEeoXt3j9P6S8378bTP6Pj+wSruMg/AAAAAAAAAAD+3cfSZqq9v1TpLzfvxtO/nPXVxa932r9gWnUEI8/ivzxUIr3CduW/qfSXm3fj6b/KmHgI0JfrvwBVRBMOb+6/ILUKzGgF778AAAAAAADwvwAAAAAAAPC/",
          "dtype": "f8"
         },
         "yaxis": "y4"
        },
        {
         "line": {
          "color": "red",
          "width": 2
         },
         "mode": "lines",
         "showlegend": false,
         "type": "scatter",
         "x": {
          "bdata": "CoqeTDl5qrxV6S8378bDv1LpLzfvxtO/CE8NoJqy3L9fWnUEI8/iv4SnBlBNWea/qPSXm3fj6b/UJG7XQinsvwBVRBMOb+6/gCqiCYc3778AAAAAAADwv4AqogmHN++//1REEw5v7r/TJG7XQinsv6f0l5t34+m/gqcGUE1Z5r9dWnUEI8/ivwRPDaCasty/TukvN+/G079N6S8378bDvwdcFDMmppE8UekvN+/Gwz9Q6S8378bTPwZPDaCastw/Xlp1BCPP4j+DpwZQTVnmP6j0l5t34+k/1CRu10Ip7D//VEQTDm/uP4AqogmHN+8/AAAAAAAA8D+AKqIJhzfvP/9URBMOb+4/0yRu10Ip7D+n9Jebd+PpP4KnBlBNWeY/XFp1BCPP4j8CTw2gmrLcP0zpLzfvxtM/SOkvN+/Gwz8Kip5MOXmqvAqKnkw5eaq8",
          "dtype": "f8"
         },
         "xaxis": "x5",
         "y": {
          "bdata": "AAAAAAAA8L+AKqIJhzfvv/9URBMOb+6/0yRu10Ip7L+n9Jebd+Ppv4KnBlBNWea/XVp1BCPP4r8ETw2gmrLcv03pLzfvxtO/S+kvN+/Gw78HXBQzJqahPFPpLzfvxsM/UekvN+/G0z8ITw2gmrLcP19adQQjz+I/hKcGUE1Z5j+o9Jebd+PpP9QkbtdCKew/AFVEEw5v7j+AKqIJhzfvPwAAAAAAAPA/gCqiCYc37z//VEQTDm/uP9QkbtdCKew/qPSXm3fj6T+DpwZQTVnmP15adQQjz+I/Bk8NoJqy3D9P6S8378bTP0/pLzfvxsM/AAAAAAAAAABU6S8378bDv1TpLzfvxtO/Ck8NoJqy3L9gWnUEI8/iv4SnBlBNWea/qfSXm3fj6b/UJG7XQinsvwBVRBMOb+6/gCqiCYc3778AAAAAAADwvwAAAAAAAPC/",
          "dtype": "f8"
         },
         "yaxis": "y5"
        },
        {
         "line": {
          "color": "red",
          "width": 2
         },
         "mode": "lines",
         "showlegend": false,
         "type": "scatter",
         "x": {
          "bdata": "CoqeTDl5qrzq3cfSZqq9P0zpLzfvxtM/lPXVxa932j9cWnUEI8/iPzhUIr3CduU/p/SXm3fj6T/ImHgI0JfrP/9URBMOb+4/H7UKzGgF7z8AAAAAAADwP+CfOUelae8//1REEw5v7j/esGOmtbrsP6j0l5t34+k/zPrq4tc75z9eWnUEI8/iP3SoRHqF7d4/UOkvN+/G0z+k4/sEq7jIPwdcFDMmppE8893H0maqvb9O6S8378bTv5b11cWvd9q/XVp1BCPP4r85VCK9wnblv6f0l5t34+m/yJh4CNCX67//VEQTDm/uvx+1CsxoBe+/AAAAAAAA8L/gnzlHpWnvvwBVRBMOb+6/37BjprW67L+o9Jebd+Ppv8366uLXO+e/X1p1BCPP4r92qER6he3ev1LpLzfvxtO/qOP7BKu4yL8Kip5MOXmqvAqKnkw5eaq8",
          "dtype": "f8"
         },
         "xaxis": "x6",
         "y": {
          "bdata": "AAAAAAAA8L/gnzlHpWnvvwBVRBMOb+6/37BjprW67L+p9Jebd+Ppv8766uLXO+e/YFp1BCPP4r94qER6he3ev1TpLzfvxtO/qeP7BKu4yL8AAAAAAAAAAPfdx9Jmqr0/T+kvN+/G0z+Y9dXFr3faP15adQQjz+I/OlQivcJ25T+o9Jebd+PpP8mYeAjQl+s//1REEw5v7j8ftQrMaAXvPwAAAAAAAPA/4J85R6Vp7z8AVUQTDm/uP9+wY6a1uuw/qPSXm3fj6T/N+uri1zvnP19adQQjz+I/dahEeoXt3j9R6S8378bTP6bj+wSruMg/B1wUMyamoTzu3cfSZqq9v03pLzfvxtO/lvXVxa932r9dWnUEI8/ivzlUIr3CduW/p/SXm3fj6b/ImHgI0Jfrv/9URBMOb+6/H7UKzGgF778AAAAAAADwvwAAAAAAAPC/",
          "dtype": "f8"
         },
         "yaxis": "y6"
        },
        {
         "line": {
          "color": "red",
          "width": 2
         },
         "mode": "lines",
         "showlegend": false,
         "type": "scatter",
         "x": {
          "bdata": "CoqeTDl5qrxC6S8378azP0zpLzfvxtM/J5ye68Q82D9cWnUEI8/iP+8APio4lOQ/p/SXm3fj6T+9DIM5XQbrP/9URBMOb+4/vz9zjkrT7j8AAAAAAADwP0AV0YTDm+8//1REEw5v7j/pPFl1KEztP6j0l5t34+k/Fk7PdWIe6D9eWnUEI8/iP/AAPio4lOA/UOkvN+/G0z/43cfSZqrNPwdcFDMmppE8S+kvN+/Gs79O6S8378bTvymcnuvEPNi/XVp1BCPP4r/wAD4qOJTkv6f0l5t34+m/vQyDOV0G67//VEQTDm/uv78/c45K0+6/AAAAAAAA8L9AFdGEw5vvvwBVRBMOb+6/6jxZdShM7b+o9Jebd+PpvxZOz3ViHui/X1p1BCPP4r/yAD4qOJTgv1LpLzfvxtO//N3H0maqzb8Kip5MOXmqvAqKnkw5eaq8",
          "dtype": "f8"
         },
         "xaxis": "x7",
         "y": {
          "bdata": "AAAAAAAA8L9AFdGEw5vvvwBVRBMOb+6/6jxZdShM7b+p9Jebd+PpvxdOz3ViHui/YFp1BCPP4r/yAD4qOJTgv1TpLzfvxtO//t3H0maqzb8AAAAAAAAAAE/pLzfvxrM/T+kvN+/G0z8qnJ7rxDzYP15adQQjz+I/8AA+KjiU5D+o9Jebd+PpP74MgzldBus//1REEw5v7j+/P3OOStPuPwAAAAAAAPA/QBXRhMOb7z8AVUQTDm/uP+o8WXUoTO0/qPSXm3fj6T8WTs91Yh7oP19adQQjz+I/8QA+KjiU4D9R6S8378bTP/rdx9Jmqs0/B1wUMyamoTxG6S8378azv03pLzfvxtO/KJye68Q82L9dWnUEI8/iv/AAPio4lOS/p/SXm3fj6b+9DIM5XQbrv/9URBMOb+6/vz9zjkrT7r8AAAAAAADwvwAAAAAAAPC/",
          "dtype": "f8"
         },
         "yaxis": "y7"
        },
        {
         "line": {
          "color": "red",
          "width": 2
         },
         "mode": "lines",
         "showlegend": false,
         "type": "scatter",
         "x": {
          "bdata": "CoqeTDl5qrw16S8378ajP0zpLzfvxtM/ukJnEdoB1j9cWnUEI8/iP6WtWZetseM/p/SXm3fj6T+ygI1q6nTqP/9URBMOb+4/X8rbUCyh7j8AAAAAAADwP6CKaMLhze8//1REEw5v7j/0yE5Em93tP6j0l5t34+k/X6GzCO0A6T9eWnUEI8/iP6etWZetseE/UOkvN+/G0z8m7ElQEU7RPwdcFDMmppE8RukvN+/Go79O6S8378bTv7xCZxHaAda/XVp1BCPP4r+mrVmXrbHjv6f0l5t34+m/soCNaup06r//VEQTDm/uv1/K21Asoe6/AAAAAAAA8L+gimjC4c3vvwBVRBMOb+6/9chORJvd7b+o9Jebd+Ppv1+hswjtAOm/X1p1BCPP4r+orVmXrbHhv1LpLzfvxtO/KOxJUBFO0b8Kip5MOXmqvAqKnkw5eaq8",
          "dtype": "f8"
         },
         "xaxis": "x8",
         "y": {
          "bdata": "AAAAAAAA8L+gimjC4c3vvwBVRBMOb+6/9chORJvd7b+p9Jebd+Ppv2ChswjtAOm/YFp1BCPP4r+prVmXrbHhv1TpLzfvxtO/KuxJUBFO0b8AAAAAAAAAAE/pLzfvxqM/T+kvN+/G0z+9QmcR2gHWP15adQQjz+I/p61Zl62x4z+o9Jebd+PpP7OAjWrqdOo//1REEw5v7j9fyttQLKHuPwAAAAAAAPA/oIpowuHN7z8AVUQTDm/uP/XITkSb3e0/qPSXm3fj6T9fobMI7QDpP19adQQjz+I/qK1Zl62x4T9R6S8378bTPyfsSVARTtE/B1wUMyamoTw96S8378ajv03pLzfvxtO/u0JnEdoB1r9dWnUEI8/iv6atWZetseO/p/SXm3fj6b+ygI1q6nTqv/9URBMOb+6/X8rbUCyh7r8AAAAAAADwvwAAAAAAAPC/",
          "dtype": "f8"
         },
         "yaxis": "y8"
        }
       ],
       "layout": {
        "annotations": [
         {
          "font": {
           "size": 16
          },
          "showarrow": false,
          "text": "Z = -2.00",
          "x": 0.14444444444444446,
          "xanchor": "center",
          "xref": "paper",
          "y": 1,
          "yanchor": "bottom",
          "yref": "paper"
         },
         {
          "font": {
           "size": 16
          },
          "showarrow": false,
          "text": "Z = -1.50",
          "x": 0.5,
          "xanchor": "center",
          "xref": "paper",
          "y": 1,
          "yanchor": "bottom",
          "yref": "paper"
         },
         {
          "font": {
           "size": 16
          },
          "showarrow": false,
          "text": "Z = -1.00",
          "x": 0.8555555555555556,
          "xanchor": "center",
          "xref": "paper",
          "y": 1,
          "yanchor": "bottom",
          "yref": "paper"
         },
         {
          "font": {
           "size": 16
          },
          "showarrow": false,
          "text": "Z = -0.50",
          "x": 0.14444444444444446,
          "xanchor": "center",
          "xref": "paper",
          "y": 0.6111111111111112,
          "yanchor": "bottom",
          "yref": "paper"
         },
         {
          "font": {
           "size": 16
          },
          "showarrow": false,
          "text": "Z = 0.00",
          "x": 0.5,
          "xanchor": "center",
          "xref": "paper",
          "y": 0.6111111111111112,
          "yanchor": "bottom",
          "yref": "paper"
         },
         {
          "font": {
           "size": 16
          },
          "showarrow": false,
          "text": "Z = 0.50",
          "x": 0.8555555555555556,
          "xanchor": "center",
          "xref": "paper",
          "y": 0.6111111111111112,
          "yanchor": "bottom",
          "yref": "paper"
         },
         {
          "font": {
           "size": 16
          },
          "showarrow": false,
          "text": "Z = 1.00",
          "x": 0.14444444444444446,
          "xanchor": "center",
          "xref": "paper",
          "y": 0.22222222222222224,
          "yanchor": "bottom",
          "yref": "paper"
         },
         {
          "font": {
           "size": 16
          },
          "showarrow": false,
          "text": "Z = 1.50",
          "x": 0.5,
          "xanchor": "center",
          "xref": "paper",
          "y": 0.22222222222222224,
          "yanchor": "bottom",
          "yref": "paper"
         },
         {
          "font": {
           "size": 16
          },
          "showarrow": false,
          "text": "Z = 2.00",
          "x": 0.8555555555555556,
          "xanchor": "center",
          "xref": "paper",
          "y": 0.22222222222222224,
          "yanchor": "bottom",
          "yref": "paper"
         }
        ],
        "height": 450,
        "showlegend": false,
        "template": {
         "data": {
          "bar": [
           {
            "error_x": {
             "color": "#2a3f5f"
            },
            "error_y": {
             "color": "#2a3f5f"
            },
            "marker": {
             "line": {
              "color": "#E5ECF6",
              "width": 0.5
             },
             "pattern": {
              "fillmode": "overlay",
              "size": 10,
              "solidity": 0.2
             }
            },
            "type": "bar"
           }
          ],
          "barpolar": [
           {
            "marker": {
             "line": {
              "color": "#E5ECF6",
              "width": 0.5
             },
             "pattern": {
              "fillmode": "overlay",
              "size": 10,
              "solidity": 0.2
             }
            },
            "type": "barpolar"
           }
          ],
          "carpet": [
           {
            "aaxis": {
             "endlinecolor": "#2a3f5f",
             "gridcolor": "white",
             "linecolor": "white",
             "minorgridcolor": "white",
             "startlinecolor": "#2a3f5f"
            },
            "baxis": {
             "endlinecolor": "#2a3f5f",
             "gridcolor": "white",
             "linecolor": "white",
             "minorgridcolor": "white",
             "startlinecolor": "#2a3f5f"
            },
            "type": "carpet"
           }
          ],
          "choropleth": [
           {
            "colorbar": {
             "outlinewidth": 0,
             "ticks": ""
            },
            "type": "choropleth"
           }
          ],
          "contour": [
           {
            "colorbar": {
             "outlinewidth": 0,
             "ticks": ""
            },
            "colorscale": [
             [
              0,
              "#0d0887"
             ],
             [
              0.1111111111111111,
              "#46039f"
             ],
             [
              0.2222222222222222,
              "#7201a8"
             ],
             [
              0.3333333333333333,
              "#9c179e"
             ],
             [
              0.4444444444444444,
              "#bd3786"
             ],
             [
              0.5555555555555556,
              "#d8576b"
             ],
             [
              0.6666666666666666,
              "#ed7953"
             ],
             [
              0.7777777777777778,
              "#fb9f3a"
             ],
             [
              0.8888888888888888,
              "#fdca26"
             ],
             [
              1,
              "#f0f921"
             ]
            ],
            "type": "contour"
           }
          ],
          "contourcarpet": [
           {
            "colorbar": {
             "outlinewidth": 0,
             "ticks": ""
            },
            "type": "contourcarpet"
           }
          ],
          "heatmap": [
           {
            "colorbar": {
             "outlinewidth": 0,
             "ticks": ""
            },
            "colorscale": [
             [
              0,
              "#0d0887"
             ],
             [
              0.1111111111111111,
              "#46039f"
             ],
             [
              0.2222222222222222,
              "#7201a8"
             ],
             [
              0.3333333333333333,
              "#9c179e"
             ],
             [
              0.4444444444444444,
              "#bd3786"
             ],
             [
              0.5555555555555556,
              "#d8576b"
             ],
             [
              0.6666666666666666,
              "#ed7953"
             ],
             [
              0.7777777777777778,
              "#fb9f3a"
             ],
             [
              0.8888888888888888,
              "#fdca26"
             ],
             [
              1,
              "#f0f921"
             ]
            ],
            "type": "heatmap"
           }
          ],
          "histogram": [
           {
            "marker": {
             "pattern": {
              "fillmode": "overlay",
              "size": 10,
              "solidity": 0.2
             }
            },
            "type": "histogram"
           }
          ],
          "histogram2d": [
           {
            "colorbar": {
             "outlinewidth": 0,
             "ticks": ""
            },
            "colorscale": [
             [
              0,
              "#0d0887"
             ],
             [
              0.1111111111111111,
              "#46039f"
             ],
             [
              0.2222222222222222,
              "#7201a8"
             ],
             [
              0.3333333333333333,
              "#9c179e"
             ],
             [
              0.4444444444444444,
              "#bd3786"
             ],
             [
              0.5555555555555556,
              "#d8576b"
             ],
             [
              0.6666666666666666,
              "#ed7953"
             ],
             [
              0.7777777777777778,
              "#fb9f3a"
             ],
             [
              0.8888888888888888,
              "#fdca26"
             ],
             [
              1,
              "#f0f921"
             ]
            ],
            "type": "histogram2d"
           }
          ],
          "histogram2dcontour": [
           {
            "colorbar": {
             "outlinewidth": 0,
             "ticks": ""
            },
            "colorscale": [
             [
              0,
              "#0d0887"
             ],
             [
              0.1111111111111111,
              "#46039f"
             ],
             [
              0.2222222222222222,
              "#7201a8"
             ],
             [
              0.3333333333333333,
              "#9c179e"
             ],
             [
              0.4444444444444444,
              "#bd3786"
             ],
             [
              0.5555555555555556,
              "#d8576b"
             ],
             [
              0.6666666666666666,
              "#ed7953"
             ],
             [
              0.7777777777777778,
              "#fb9f3a"
             ],
             [
              0.8888888888888888,
              "#fdca26"
             ],
             [
              1,
              "#f0f921"
             ]
            ],
            "type": "histogram2dcontour"
           }
          ],
          "mesh3d": [
           {
            "colorbar": {
             "outlinewidth": 0,
             "ticks": ""
            },
            "type": "mesh3d"
           }
          ],
          "parcoords": [
           {
            "line": {
             "colorbar": {
              "outlinewidth": 0,
              "ticks": ""
             }
            },
            "type": "parcoords"
           }
          ],
          "pie": [
           {
            "automargin": true,
            "type": "pie"
           }
          ],
          "scatter": [
           {
            "fillpattern": {
             "fillmode": "overlay",
             "size": 10,
             "solidity": 0.2
            },
            "type": "scatter"
           }
          ],
          "scatter3d": [
           {
            "line": {
             "colorbar": {
              "outlinewidth": 0,
              "ticks": ""
             }
            },
            "marker": {
             "colorbar": {
              "outlinewidth": 0,
              "ticks": ""
             }
            },
            "type": "scatter3d"
           }
          ],
          "scattercarpet": [
           {
            "marker": {
             "colorbar": {
              "outlinewidth": 0,
              "ticks": ""
             }
            },
            "type": "scattercarpet"
           }
          ],
          "scattergeo": [
           {
            "marker": {
             "colorbar": {
              "outlinewidth": 0,
              "ticks": ""
             }
            },
            "type": "scattergeo"
           }
          ],
          "scattergl": [
           {
            "marker": {
             "colorbar": {
              "outlinewidth": 0,
              "ticks": ""
             }
            },
            "type": "scattergl"
           }
          ],
          "scattermap": [
           {
            "marker": {
             "colorbar": {
              "outlinewidth": 0,
              "ticks": ""
             }
            },
            "type": "scattermap"
           }
          ],
          "scattermapbox": [
           {
            "marker": {
             "colorbar": {
              "outlinewidth": 0,
              "ticks": ""
             }
            },
            "type": "scattermapbox"
           }
          ],
          "scatterpolar": [
           {
            "marker": {
             "colorbar": {
              "outlinewidth": 0,
              "ticks": ""
             }
            },
            "type": "scatterpolar"
           }
          ],
          "scatterpolargl": [
           {
            "marker": {
             "colorbar": {
              "outlinewidth": 0,
              "ticks": ""
             }
            },
            "type": "scatterpolargl"
           }
          ],
          "scatterternary": [
           {
            "marker": {
             "colorbar": {
              "outlinewidth": 0,
              "ticks": ""
             }
            },
            "type": "scatterternary"
           }
          ],
          "surface": [
           {
            "colorbar": {
             "outlinewidth": 0,
             "ticks": ""
            },
            "colorscale": [
             [
              0,
              "#0d0887"
             ],
             [
              0.1111111111111111,
              "#46039f"
             ],
             [
              0.2222222222222222,
              "#7201a8"
             ],
             [
              0.3333333333333333,
              "#9c179e"
             ],
             [
              0.4444444444444444,
              "#bd3786"
             ],
             [
              0.5555555555555556,
              "#d8576b"
             ],
             [
              0.6666666666666666,
              "#ed7953"
             ],
             [
              0.7777777777777778,
              "#fb9f3a"
             ],
             [
              0.8888888888888888,
              "#fdca26"
             ],
             [
              1,
              "#f0f921"
             ]
            ],
            "type": "surface"
           }
          ],
          "table": [
           {
            "cells": {
             "fill": {
              "color": "#EBF0F8"
             },
             "line": {
              "color": "white"
             }
            },
            "header": {
             "fill": {
              "color": "#C8D4E3"
             },
             "line": {
              "color": "white"
             }
            },
            "type": "table"
           }
          ]
         },
         "layout": {
          "annotationdefaults": {
           "arrowcolor": "#2a3f5f",
           "arrowhead": 0,
           "arrowwidth": 1
          },
          "autotypenumbers": "strict",
          "coloraxis": {
           "colorbar": {
            "outlinewidth": 0,
            "ticks": ""
           }
          },
          "colorscale": {
           "diverging": [
            [
             0,
             "#8e0152"
            ],
            [
             0.1,
             "#c51b7d"
            ],
            [
             0.2,
             "#de77ae"
            ],
            [
             0.3,
             "#f1b6da"
            ],
            [
             0.4,
             "#fde0ef"
            ],
            [
             0.5,
             "#f7f7f7"
            ],
            [
             0.6,
             "#e6f5d0"
            ],
            [
             0.7,
             "#b8e186"
            ],
            [
             0.8,
             "#7fbc41"
            ],
            [
             0.9,
             "#4d9221"
            ],
            [
             1,
             "#276419"
            ]
           ],
           "sequential": [
            [
             0,
             "#0d0887"
            ],
            [
             0.1111111111111111,
             "#46039f"
            ],
            [
             0.2222222222222222,
             "#7201a8"
            ],
            [
             0.3333333333333333,
             "#9c179e"
            ],
            [
             0.4444444444444444,
             "#bd3786"
            ],
            [
             0.5555555555555556,
             "#d8576b"
            ],
            [
             0.6666666666666666,
             "#ed7953"
            ],
            [
             0.7777777777777778,
             "#fb9f3a"
            ],
            [
             0.8888888888888888,
             "#fdca26"
            ],
            [
             1,
             "#f0f921"
            ]
           ],
           "sequentialminus": [
            [
             0,
             "#0d0887"
            ],
            [
             0.1111111111111111,
             "#46039f"
            ],
            [
             0.2222222222222222,
             "#7201a8"
            ],
            [
             0.3333333333333333,
             "#9c179e"
            ],
            [
             0.4444444444444444,
             "#bd3786"
            ],
            [
             0.5555555555555556,
             "#d8576b"
            ],
            [
             0.6666666666666666,
             "#ed7953"
            ],
            [
             0.7777777777777778,
             "#fb9f3a"
            ],
            [
             0.8888888888888888,
             "#fdca26"
            ],
            [
             1,
             "#f0f921"
            ]
           ]
          },
          "colorway": [
           "#636efa",
           "#EF553B",
           "#00cc96",
           "#ab63fa",
           "#FFA15A",
           "#19d3f3",
           "#FF6692",
           "#B6E880",
           "#FF97FF",
           "#FECB52"
          ],
          "font": {
           "color": "#2a3f5f"
          },
          "geo": {
           "bgcolor": "white",
           "lakecolor": "white",
           "landcolor": "#E5ECF6",
           "showlakes": true,
           "showland": true,
           "subunitcolor": "white"
          },
          "hoverlabel": {
           "align": "left"
          },
          "hovermode": "closest",
          "mapbox": {
           "style": "light"
          },
          "paper_bgcolor": "white",
          "plot_bgcolor": "#E5ECF6",
          "polar": {
           "angularaxis": {
            "gridcolor": "white",
            "linecolor": "white",
            "ticks": ""
           },
           "bgcolor": "#E5ECF6",
           "radialaxis": {
            "gridcolor": "white",
            "linecolor": "white",
            "ticks": ""
           }
          },
          "scene": {
           "xaxis": {
            "backgroundcolor": "#E5ECF6",
            "gridcolor": "white",
            "gridwidth": 2,
            "linecolor": "white",
            "showbackground": true,
            "ticks": "",
            "zerolinecolor": "white"
           },
           "yaxis": {
            "backgroundcolor": "#E5ECF6",
            "gridcolor": "white",
            "gridwidth": 2,
            "linecolor": "white",
            "showbackground": true,
            "ticks": "",
            "zerolinecolor": "white"
           },
           "zaxis": {
            "backgroundcolor": "#E5ECF6",
            "gridcolor": "white",
            "gridwidth": 2,
            "linecolor": "white",
            "showbackground": true,
            "ticks": "",
            "zerolinecolor": "white"
           }
          },
          "shapedefaults": {
           "line": {
            "color": "#2a3f5f"
           }
          },
          "ternary": {
           "aaxis": {
            "gridcolor": "white",
            "linecolor": "white",
            "ticks": ""
           },
           "baxis": {
            "gridcolor": "white",
            "linecolor": "white",
            "ticks": ""
           },
           "bgcolor": "#E5ECF6",
           "caxis": {
            "gridcolor": "white",
            "linecolor": "white",
            "ticks": ""
           }
          },
          "title": {
           "x": 0.05
          },
          "xaxis": {
           "automargin": true,
           "gridcolor": "white",
           "linecolor": "white",
           "ticks": "",
           "title": {
            "standoff": 15
           },
           "zerolinecolor": "white",
           "zerolinewidth": 2
          },
          "yaxis": {
           "automargin": true,
           "gridcolor": "white",
           "linecolor": "white",
           "ticks": "",
           "title": {
            "standoff": 15
           },
           "zerolinecolor": "white",
           "zerolinewidth": 2
          }
         }
        },
        "title": {
         "text": "Cylinder Cross-Section Grid"
        },
        "xaxis": {
         "anchor": "y",
         "domain": [
          0,
          0.2888888888888889
         ],
         "scaleanchor": "y",
         "scaleratio": 1,
         "title": {
          "text": "X (µm)"
         }
        },
        "xaxis2": {
         "anchor": "y2",
         "domain": [
          0.35555555555555557,
          0.6444444444444445
         ],
         "scaleanchor": "y",
         "scaleratio": 1,
         "title": {
          "text": "X (µm)"
         }
        },
        "xaxis3": {
         "anchor": "y3",
         "domain": [
          0.7111111111111111,
          1
         ],
         "scaleanchor": "y",
         "scaleratio": 1,
         "title": {
          "text": "X (µm)"
         }
        },
        "xaxis4": {
         "anchor": "y4",
         "domain": [
          0,
          0.2888888888888889
         ],
         "scaleanchor": "y",
         "scaleratio": 1,
         "title": {
          "text": "X (µm)"
         }
        },
        "xaxis5": {
         "anchor": "y5",
         "domain": [
          0.35555555555555557,
          0.6444444444444445
         ],
         "scaleanchor": "y",
         "scaleratio": 1,
         "title": {
          "text": "X (µm)"
         }
        },
        "xaxis6": {
         "anchor": "y6",
         "domain": [
          0.7111111111111111,
          1
         ],
         "scaleanchor": "y",
         "scaleratio": 1,
         "title": {
          "text": "X (µm)"
         }
        },
        "xaxis7": {
         "anchor": "y7",
         "domain": [
          0,
          0.2888888888888889
         ],
         "scaleanchor": "y",
         "scaleratio": 1,
         "title": {
          "text": "X (µm)"
         }
        },
        "xaxis8": {
         "anchor": "y8",
         "domain": [
          0.35555555555555557,
          0.6444444444444445
         ],
         "scaleanchor": "y",
         "scaleratio": 1,
         "title": {
          "text": "X (µm)"
         }
        },
        "xaxis9": {
         "anchor": "y9",
         "domain": [
          0.7111111111111111,
          1
         ],
         "scaleanchor": "y",
         "scaleratio": 1,
         "title": {
          "text": "X (µm)"
         }
        },
        "yaxis": {
         "anchor": "x",
         "domain": [
          0.7777777777777778,
          1
         ],
         "title": {
          "text": "Y (µm)"
         }
        },
        "yaxis2": {
         "anchor": "x2",
         "domain": [
          0.7777777777777778,
          1
         ],
         "title": {
          "text": "Y (µm)"
         }
        },
        "yaxis3": {
         "anchor": "x3",
         "domain": [
          0.7777777777777778,
          1
         ],
         "title": {
          "text": "Y (µm)"
         }
        },
        "yaxis4": {
         "anchor": "x4",
         "domain": [
          0.3888888888888889,
          0.6111111111111112
         ],
         "title": {
          "text": "Y (µm)"
         }
        },
        "yaxis5": {
         "anchor": "x5",
         "domain": [
          0.3888888888888889,
          0.6111111111111112
         ],
         "title": {
          "text": "Y (µm)"
         }
        },
        "yaxis6": {
         "anchor": "x6",
         "domain": [
          0.3888888888888889,
          0.6111111111111112
         ],
         "title": {
          "text": "Y (µm)"
         }
        },
        "yaxis7": {
         "anchor": "x7",
         "domain": [
          0,
          0.22222222222222224
         ],
         "title": {
          "text": "Y (µm)"
         }
        },
        "yaxis8": {
         "anchor": "x8",
         "domain": [
          0,
          0.22222222222222224
         ],
         "title": {
          "text": "Y (µm)"
         }
        },
        "yaxis9": {
         "anchor": "x9",
         "domain": [
          0,
          0.22222222222222224
         ],
         "title": {
          "text": "Y (µm)"
         }
        }
       }
      }
     },
     "metadata": {},
     "output_type": "display_data"
    }
   ],
   "source": [
    "mm.visualize_mesh_slice_grid(\n",
    "    title=\"Cylinder Cross-Section Grid\",\n",
    "    num_slices=9  # 3x3 grid\n",
    ")\n"
   ]
  },
  {
   "cell_type": "markdown",
   "id": "9c5b15da",
   "metadata": {},
   "source": [
    "## Mesh Properties"
   ]
  },
  {
   "cell_type": "code",
   "execution_count": 13,
   "id": "f61d4e8e",
   "metadata": {},
   "outputs": [],
   "source": [
    "mm.print_mesh_analysis()"
   ]
  }
 ],
 "metadata": {
  "kernelspec": {
   "display_name": ".venv",
   "language": "python",
   "name": "python3"
  },
  "language_info": {
   "codemirror_mode": {
    "name": "ipython",
    "version": 3
   },
   "file_extension": ".py",
   "mimetype": "text/x-python",
   "name": "python",
   "nbconvert_exporter": "python",
   "pygments_lexer": "ipython3",
   "version": "3.12.11"
  }
 },
 "nbformat": 4,
 "nbformat_minor": 5
}
