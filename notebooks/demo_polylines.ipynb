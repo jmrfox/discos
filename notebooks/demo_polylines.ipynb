{
 "cells": [
  {
   "cell_type": "code",
   "execution_count": 2,
   "id": "7735b0be",
   "metadata": {},
   "outputs": [
    {
     "data": {
      "application/vnd.plotly.v1+json": {
       "config": {
        "plotlyServerURL": "https://plot.ly"
       },
       "data": [
        {
         "color": "lightblue",
         "i": {
          "bdata": "AQECAgQEBQUGBgcHCAgJCQoKCwsMDA0NDg4PDxAQERESEhMTFBQVFRYWFxcYGBkZGhobGxwcHR0eHh8fICAhIQ==",
          "dtype": "i1"
         },
         "j": {
          "bdata": "AAQEBQAGBgcACAgJAAoKCwAMDA0ADg4PABAQEQASEhMAFBQVABYWFwAYGBkAGhobABwcHQAeHh8AICAhAAEBAg==",
          "dtype": "i1"
         },
         "k": {
          "bdata": "BAIFAwYFBwMIBwkDCgkLAwwLDQMODQ8DEA8RAxIREwMUExUDFhUXAxgXGQMaGRsDHBsdAx4dHwMgHyEDASECAw==",
          "dtype": "i1"
         },
         "name": "Mesh",
         "opacity": 0.8,
         "type": "mesh3d",
         "x": {
          "bdata": "AAAAAAAAAAAAAAAAAAAUQAAAAAAAABRAAAAAAAAAAAD7rFNhQ3oSQPusU2FDehJAxMqqAMZIDEDEyqoAxkgMQBni3E9bnf4/GeLcT1ud/j8AAAAAAAAAAAAAAAAAAAAAGeLcT1ud/r8Z4txPW53+v8TKqgDGSAzAxMqqAMZIDMD7rFNhQ3oSwPusU2FDehLAAAAAAAAAFMAAAAAAAAAUwPusU2FDehLA+6xTYUN6EsDEyqoAxkgMwMTKqgDGSAzAGeLcT1ud/r8Z4txPW53+vwAAAAAAAACAAAAAAAAAAIAZ4txPW53+Pxni3E9bnf4/xMqqAMZIDEDEyqoAxkgMQPusU2FDehJA+6xTYUN6EkA=",
          "dtype": "f8"
         },
         "y": {
          "bdata": "AAAAAAAAAAAAAAAAAAAAAAAAAAAAAAAAAAAAAAAAAAAZ4txPW53+Pxni3E9bnf4/xMqqAMZIDEDEyqoAxkgMQPusU2FDehJA+6xTYUN6EkAAAAAAAAAUQAAAAAAAABRA+6xTYUN6EkD7rFNhQ3oSQMTKqgDGSAxAxMqqAMZIDEAZ4txPW53+Pxni3E9bnf4/AAAAAAAAAAAAAAAAAAAAABni3E9bnf6/GeLcT1ud/r/EyqoAxkgMwMTKqgDGSAzA+6xTYUN6EsD7rFNhQ3oSwAAAAAAAABTAAAAAAAAAFMD7rFNhQ3oSwPusU2FDehLAxMqqAMZIDMDEyqoAxkgMwBni3E9bnf6/GeLcT1ud/r8=",
          "dtype": "f8"
         },
         "z": {
          "bdata": "AAAAAAAAScAAAAAAAABJwAAAAAAAAElAAAAAAAAASUAAAAAAAABJwAAAAAAAAElAAAAAAAAAScAAAAAAAABJQAAAAAAAAEnAAAAAAAAASUAAAAAAAABJwAAAAAAAAElAAAAAAAAAScAAAAAAAABJQAAAAAAAAEnAAAAAAAAASUAAAAAAAABJwAAAAAAAAElAAAAAAAAAScAAAAAAAABJQAAAAAAAAEnAAAAAAAAASUAAAAAAAABJwAAAAAAAAElAAAAAAAAAScAAAAAAAABJQAAAAAAAAEnAAAAAAAAASUAAAAAAAABJwAAAAAAAAElAAAAAAAAAScAAAAAAAABJQAAAAAAAAEnAAAAAAAAASUA=",
          "dtype": "f8"
         }
        },
        {
         "line": {
          "color": "crimson",
          "width": 3
         },
         "mode": "lines",
         "name": "Polyline 0",
         "opacity": 0.95,
         "showlegend": false,
         "type": "scatter3d",
         "x": {
          "bdata": "0lTuD1H7xz8WFoKTOtfHPw==",
          "dtype": "f8"
         },
         "y": {
          "bdata": "8yXyczn8x79iJZHOz9jHvw==",
          "dtype": "f8"
         },
         "z": {
          "bdata": "lqzm/STYSMC45jFKhRlCQA==",
          "dtype": "f8"
         }
        }
       ],
       "layout": {
        "autosize": false,
        "height": 600,
        "scene": {
         "aspectmode": "data",
         "xaxis": {
          "visible": true
         },
         "yaxis": {
          "visible": true
         },
         "zaxis": {
          "visible": true
         }
        },
        "template": {
         "data": {
          "bar": [
           {
            "error_x": {
             "color": "#2a3f5f"
            },
            "error_y": {
             "color": "#2a3f5f"
            },
            "marker": {
             "line": {
              "color": "#E5ECF6",
              "width": 0.5
             },
             "pattern": {
              "fillmode": "overlay",
              "size": 10,
              "solidity": 0.2
             }
            },
            "type": "bar"
           }
          ],
          "barpolar": [
           {
            "marker": {
             "line": {
              "color": "#E5ECF6",
              "width": 0.5
             },
             "pattern": {
              "fillmode": "overlay",
              "size": 10,
              "solidity": 0.2
             }
            },
            "type": "barpolar"
           }
          ],
          "carpet": [
           {
            "aaxis": {
             "endlinecolor": "#2a3f5f",
             "gridcolor": "white",
             "linecolor": "white",
             "minorgridcolor": "white",
             "startlinecolor": "#2a3f5f"
            },
            "baxis": {
             "endlinecolor": "#2a3f5f",
             "gridcolor": "white",
             "linecolor": "white",
             "minorgridcolor": "white",
             "startlinecolor": "#2a3f5f"
            },
            "type": "carpet"
           }
          ],
          "choropleth": [
           {
            "colorbar": {
             "outlinewidth": 0,
             "ticks": ""
            },
            "type": "choropleth"
           }
          ],
          "contour": [
           {
            "colorbar": {
             "outlinewidth": 0,
             "ticks": ""
            },
            "colorscale": [
             [
              0,
              "#0d0887"
             ],
             [
              0.1111111111111111,
              "#46039f"
             ],
             [
              0.2222222222222222,
              "#7201a8"
             ],
             [
              0.3333333333333333,
              "#9c179e"
             ],
             [
              0.4444444444444444,
              "#bd3786"
             ],
             [
              0.5555555555555556,
              "#d8576b"
             ],
             [
              0.6666666666666666,
              "#ed7953"
             ],
             [
              0.7777777777777778,
              "#fb9f3a"
             ],
             [
              0.8888888888888888,
              "#fdca26"
             ],
             [
              1,
              "#f0f921"
             ]
            ],
            "type": "contour"
           }
          ],
          "contourcarpet": [
           {
            "colorbar": {
             "outlinewidth": 0,
             "ticks": ""
            },
            "type": "contourcarpet"
           }
          ],
          "heatmap": [
           {
            "colorbar": {
             "outlinewidth": 0,
             "ticks": ""
            },
            "colorscale": [
             [
              0,
              "#0d0887"
             ],
             [
              0.1111111111111111,
              "#46039f"
             ],
             [
              0.2222222222222222,
              "#7201a8"
             ],
             [
              0.3333333333333333,
              "#9c179e"
             ],
             [
              0.4444444444444444,
              "#bd3786"
             ],
             [
              0.5555555555555556,
              "#d8576b"
             ],
             [
              0.6666666666666666,
              "#ed7953"
             ],
             [
              0.7777777777777778,
              "#fb9f3a"
             ],
             [
              0.8888888888888888,
              "#fdca26"
             ],
             [
              1,
              "#f0f921"
             ]
            ],
            "type": "heatmap"
           }
          ],
          "histogram": [
           {
            "marker": {
             "pattern": {
              "fillmode": "overlay",
              "size": 10,
              "solidity": 0.2
             }
            },
            "type": "histogram"
           }
          ],
          "histogram2d": [
           {
            "colorbar": {
             "outlinewidth": 0,
             "ticks": ""
            },
            "colorscale": [
             [
              0,
              "#0d0887"
             ],
             [
              0.1111111111111111,
              "#46039f"
             ],
             [
              0.2222222222222222,
              "#7201a8"
             ],
             [
              0.3333333333333333,
              "#9c179e"
             ],
             [
              0.4444444444444444,
              "#bd3786"
             ],
             [
              0.5555555555555556,
              "#d8576b"
             ],
             [
              0.6666666666666666,
              "#ed7953"
             ],
             [
              0.7777777777777778,
              "#fb9f3a"
             ],
             [
              0.8888888888888888,
              "#fdca26"
             ],
             [
              1,
              "#f0f921"
             ]
            ],
            "type": "histogram2d"
           }
          ],
          "histogram2dcontour": [
           {
            "colorbar": {
             "outlinewidth": 0,
             "ticks": ""
            },
            "colorscale": [
             [
              0,
              "#0d0887"
             ],
             [
              0.1111111111111111,
              "#46039f"
             ],
             [
              0.2222222222222222,
              "#7201a8"
             ],
             [
              0.3333333333333333,
              "#9c179e"
             ],
             [
              0.4444444444444444,
              "#bd3786"
             ],
             [
              0.5555555555555556,
              "#d8576b"
             ],
             [
              0.6666666666666666,
              "#ed7953"
             ],
             [
              0.7777777777777778,
              "#fb9f3a"
             ],
             [
              0.8888888888888888,
              "#fdca26"
             ],
             [
              1,
              "#f0f921"
             ]
            ],
            "type": "histogram2dcontour"
           }
          ],
          "mesh3d": [
           {
            "colorbar": {
             "outlinewidth": 0,
             "ticks": ""
            },
            "type": "mesh3d"
           }
          ],
          "parcoords": [
           {
            "line": {
             "colorbar": {
              "outlinewidth": 0,
              "ticks": ""
             }
            },
            "type": "parcoords"
           }
          ],
          "pie": [
           {
            "automargin": true,
            "type": "pie"
           }
          ],
          "scatter": [
           {
            "fillpattern": {
             "fillmode": "overlay",
             "size": 10,
             "solidity": 0.2
            },
            "type": "scatter"
           }
          ],
          "scatter3d": [
           {
            "line": {
             "colorbar": {
              "outlinewidth": 0,
              "ticks": ""
             }
            },
            "marker": {
             "colorbar": {
              "outlinewidth": 0,
              "ticks": ""
             }
            },
            "type": "scatter3d"
           }
          ],
          "scattercarpet": [
           {
            "marker": {
             "colorbar": {
              "outlinewidth": 0,
              "ticks": ""
             }
            },
            "type": "scattercarpet"
           }
          ],
          "scattergeo": [
           {
            "marker": {
             "colorbar": {
              "outlinewidth": 0,
              "ticks": ""
             }
            },
            "type": "scattergeo"
           }
          ],
          "scattergl": [
           {
            "marker": {
             "colorbar": {
              "outlinewidth": 0,
              "ticks": ""
             }
            },
            "type": "scattergl"
           }
          ],
          "scattermap": [
           {
            "marker": {
             "colorbar": {
              "outlinewidth": 0,
              "ticks": ""
             }
            },
            "type": "scattermap"
           }
          ],
          "scattermapbox": [
           {
            "marker": {
             "colorbar": {
              "outlinewidth": 0,
              "ticks": ""
             }
            },
            "type": "scattermapbox"
           }
          ],
          "scatterpolar": [
           {
            "marker": {
             "colorbar": {
              "outlinewidth": 0,
              "ticks": ""
             }
            },
            "type": "scatterpolar"
           }
          ],
          "scatterpolargl": [
           {
            "marker": {
             "colorbar": {
              "outlinewidth": 0,
              "ticks": ""
             }
            },
            "type": "scatterpolargl"
           }
          ],
          "scatterternary": [
           {
            "marker": {
             "colorbar": {
              "outlinewidth": 0,
              "ticks": ""
             }
            },
            "type": "scatterternary"
           }
          ],
          "surface": [
           {
            "colorbar": {
             "outlinewidth": 0,
             "ticks": ""
            },
            "colorscale": [
             [
              0,
              "#0d0887"
             ],
             [
              0.1111111111111111,
              "#46039f"
             ],
             [
              0.2222222222222222,
              "#7201a8"
             ],
             [
              0.3333333333333333,
              "#9c179e"
             ],
             [
              0.4444444444444444,
              "#bd3786"
             ],
             [
              0.5555555555555556,
              "#d8576b"
             ],
             [
              0.6666666666666666,
              "#ed7953"
             ],
             [
              0.7777777777777778,
              "#fb9f3a"
             ],
             [
              0.8888888888888888,
              "#fdca26"
             ],
             [
              1,
              "#f0f921"
             ]
            ],
            "type": "surface"
           }
          ],
          "table": [
           {
            "cells": {
             "fill": {
              "color": "#EBF0F8"
             },
             "line": {
              "color": "white"
             }
            },
            "header": {
             "fill": {
              "color": "#C8D4E3"
             },
             "line": {
              "color": "white"
             }
            },
            "type": "table"
           }
          ]
         },
         "layout": {
          "annotationdefaults": {
           "arrowcolor": "#2a3f5f",
           "arrowhead": 0,
           "arrowwidth": 1
          },
          "autotypenumbers": "strict",
          "coloraxis": {
           "colorbar": {
            "outlinewidth": 0,
            "ticks": ""
           }
          },
          "colorscale": {
           "diverging": [
            [
             0,
             "#8e0152"
            ],
            [
             0.1,
             "#c51b7d"
            ],
            [
             0.2,
             "#de77ae"
            ],
            [
             0.3,
             "#f1b6da"
            ],
            [
             0.4,
             "#fde0ef"
            ],
            [
             0.5,
             "#f7f7f7"
            ],
            [
             0.6,
             "#e6f5d0"
            ],
            [
             0.7,
             "#b8e186"
            ],
            [
             0.8,
             "#7fbc41"
            ],
            [
             0.9,
             "#4d9221"
            ],
            [
             1,
             "#276419"
            ]
           ],
           "sequential": [
            [
             0,
             "#0d0887"
            ],
            [
             0.1111111111111111,
             "#46039f"
            ],
            [
             0.2222222222222222,
             "#7201a8"
            ],
            [
             0.3333333333333333,
             "#9c179e"
            ],
            [
             0.4444444444444444,
             "#bd3786"
            ],
            [
             0.5555555555555556,
             "#d8576b"
            ],
            [
             0.6666666666666666,
             "#ed7953"
            ],
            [
             0.7777777777777778,
             "#fb9f3a"
            ],
            [
             0.8888888888888888,
             "#fdca26"
            ],
            [
             1,
             "#f0f921"
            ]
           ],
           "sequentialminus": [
            [
             0,
             "#0d0887"
            ],
            [
             0.1111111111111111,
             "#46039f"
            ],
            [
             0.2222222222222222,
             "#7201a8"
            ],
            [
             0.3333333333333333,
             "#9c179e"
            ],
            [
             0.4444444444444444,
             "#bd3786"
            ],
            [
             0.5555555555555556,
             "#d8576b"
            ],
            [
             0.6666666666666666,
             "#ed7953"
            ],
            [
             0.7777777777777778,
             "#fb9f3a"
            ],
            [
             0.8888888888888888,
             "#fdca26"
            ],
            [
             1,
             "#f0f921"
            ]
           ]
          },
          "colorway": [
           "#636efa",
           "#EF553B",
           "#00cc96",
           "#ab63fa",
           "#FFA15A",
           "#19d3f3",
           "#FF6692",
           "#B6E880",
           "#FF97FF",
           "#FECB52"
          ],
          "font": {
           "color": "#2a3f5f"
          },
          "geo": {
           "bgcolor": "white",
           "lakecolor": "white",
           "landcolor": "#E5ECF6",
           "showlakes": true,
           "showland": true,
           "subunitcolor": "white"
          },
          "hoverlabel": {
           "align": "left"
          },
          "hovermode": "closest",
          "mapbox": {
           "style": "light"
          },
          "paper_bgcolor": "white",
          "plot_bgcolor": "#E5ECF6",
          "polar": {
           "angularaxis": {
            "gridcolor": "white",
            "linecolor": "white",
            "ticks": ""
           },
           "bgcolor": "#E5ECF6",
           "radialaxis": {
            "gridcolor": "white",
            "linecolor": "white",
            "ticks": ""
           }
          },
          "scene": {
           "xaxis": {
            "backgroundcolor": "#E5ECF6",
            "gridcolor": "white",
            "gridwidth": 2,
            "linecolor": "white",
            "showbackground": true,
            "ticks": "",
            "zerolinecolor": "white"
           },
           "yaxis": {
            "backgroundcolor": "#E5ECF6",
            "gridcolor": "white",
            "gridwidth": 2,
            "linecolor": "white",
            "showbackground": true,
            "ticks": "",
            "zerolinecolor": "white"
           },
           "zaxis": {
            "backgroundcolor": "#E5ECF6",
            "gridcolor": "white",
            "gridwidth": 2,
            "linecolor": "white",
            "showbackground": true,
            "ticks": "",
            "zerolinecolor": "white"
           }
          },
          "shapedefaults": {
           "line": {
            "color": "#2a3f5f"
           }
          },
          "ternary": {
           "aaxis": {
            "gridcolor": "white",
            "linecolor": "white",
            "ticks": ""
           },
           "baxis": {
            "gridcolor": "white",
            "linecolor": "white",
            "ticks": ""
           },
           "bgcolor": "#E5ECF6",
           "caxis": {
            "gridcolor": "white",
            "linecolor": "white",
            "ticks": ""
           }
          },
          "title": {
           "x": 0.05
          },
          "xaxis": {
           "automargin": true,
           "gridcolor": "white",
           "linecolor": "white",
           "ticks": "",
           "title": {
            "standoff": 15
           },
           "zerolinecolor": "white",
           "zerolinewidth": 2
          },
          "yaxis": {
           "automargin": true,
           "gridcolor": "white",
           "linecolor": "white",
           "ticks": "",
           "title": {
            "standoff": 15
           },
           "zerolinecolor": "white",
           "zerolinewidth": 2
          }
         }
        },
        "title": {
         "text": "3D Mesh Visualization"
        },
        "width": 800
       }
      }
     },
     "metadata": {},
     "output_type": "display_data"
    }
   ],
   "source": [
    "from discos import MeshManager, PolylinesSkeleton, data_path\n",
    "\n",
    "mm = MeshManager()\n",
    "mm.load_mesh(data_path(\"mesh/demo/cylinder.obj\"))\n",
    "ps = PolylinesSkeleton().from_txt(data_path(\"polylines/cylinder.polylines.txt\"))\n",
    "mm.visualize_mesh_3d(polylines=ps)"
   ]
  },
  {
   "cell_type": "code",
   "execution_count": 3,
   "id": "ff466968",
   "metadata": {},
   "outputs": [
    {
     "data": {
      "application/vnd.plotly.v1+json": {
       "config": {
        "plotlyServerURL": "https://plot.ly"
       },
       "data": [
        {
         "color": "lightblue",
         "i": {
          "bdata": "AAABAAEAAgACAAMAAwAEAAQABQAFAAYABgAHAAcACAAIAAkACQAKAAoACwALAAAADAANAA0ADgAOAA8ADwAQABAAEQARABIAEgATABMAFAAUABUAFQAWABYAFwAXAAwAGAAZABkAGgAaABsAGwAcABwAHQAdAB4AHgAfAB8AIAAgACEAIQAiACIAIwAjABgAJAAlACUAJgAmACcAJwAoACgAKQApACoAKgArACsALAAsAC0ALQAuAC4ALwAvACQAMAAxADEAMgAyADMAMwA0ADQANQA1ADYANgA3ADcAOAA4ADkAOQA6ADoAOwA7ADAAPAA9AD0APgA+AD8APwBAAEAAQQBBAEIAQgBDAEMARABEAEUARQBGAEYARwBHADwASABJAEkASgBKAEsASwBMAEwATQBNAE4ATgBPAE8AUABQAFEAUQBSAFIAUwBTAEgAVABVAFUAVgBWAFcAVwBYAFgAWQBZAFoAWgBbAFsAXABcAF0AXQBeAF4AXwBfAFQAYABhAGEAYgBiAGMAYwBkAGQAZQBlAGYAZgBnAGcAaABoAGkAaQBqAGoAawBrAGAAbABtAG0AbgBuAG8AbwBwAHAAcQBxAHIAcgBzAHMAdAB0AHUAdQB2AHYAdwB3AGwAeAB5AHkAegB6AHsAewB8AHwAfQB9AH4AfgB/AH8AgACAAIEAgQCCAIIAgwCDAHgAhACFAIUAhgCGAIcAhwCIAIgAiQCJAIoAigCLAIsAjACMAI0AjQCOAI4AjwCPAIQAkACRAJEAkgCSAJMAkwCUAJQAlQCVAJYAlgCXAJcAmACYAJkAmQCaAJoAmwCbAJAAnACdAJ0AngCeAJ8AnwCgAKAAoQChAKIAogCjAKMApACkAKUApQCmAKYApwCnAJwAqACpAKkAqgCqAKsAqwCsAKwArQCtAK4ArgCvAK8AsACwALEAsQCyALIAswCzAKgAtAC1ALUAtgC2ALcAtwC4ALgAuQC5ALoAugC7ALsAvAC8AL0AvQC+AL4AvwC/ALQAwADBAMEAwgDCAMMAwwDEAMQAxQDFAMYAxgDHAMcAyADIAMkAyQDKAMoAywDLAMAAzADNAM0AzgDOAM8AzwDQANAA0QDRANIA0gDTANMA1ADUANUA1QDWANYA1wDXAMwA2ADZANkA2gDaANsA2wDcANwA3QDdAN4A3gDfAN8A4ADgAOEA4QDiAOIA4wDjANgA5ADlAOUA5gDmAOcA5wDoAOgA6QDpAOoA6gDrAOsA7ADsAO0A7QDuAO4A7wDvAOQA",
          "dtype": "i2"
         },
         "j": {
          "bdata": "DAAMAA0ADQAOAA4ADwAPABAAEAARABEAEgASABMAEwAUABQAFQAVABYAFgAXABcAGAAYABkAGQAaABoAGwAbABwAHAAdAB0AHgAeAB8AHwAgACAAIQAhACIAIgAjACMAJAAkACUAJQAmACYAJwAnACgAKAApACkAKgAqACsAKwAsACwALQAtAC4ALgAvAC8AMAAwADEAMQAyADIAMwAzADQANAA1ADUANgA2ADcANwA4ADgAOQA5ADoAOgA7ADsAPAA8AD0APQA+AD4APwA/AEAAQABBAEEAQgBCAEMAQwBEAEQARQBFAEYARgBHAEcASABIAEkASQBKAEoASwBLAEwATABNAE0ATgBOAE8ATwBQAFAAUQBRAFIAUgBTAFMAVABUAFUAVQBWAFYAVwBXAFgAWABZAFkAWgBaAFsAWwBcAFwAXQBdAF4AXgBfAF8AYABgAGEAYQBiAGIAYwBjAGQAZABlAGUAZgBmAGcAZwBoAGgAaQBpAGoAagBrAGsAbABsAG0AbQBuAG4AbwBvAHAAcABxAHEAcgByAHMAcwB0AHQAdQB1AHYAdgB3AHcAeAB4AHkAeQB6AHoAewB7AHwAfAB9AH0AfgB+AH8AfwCAAIAAgQCBAIIAggCDAIMAhACEAIUAhQCGAIYAhwCHAIgAiACJAIkAigCKAIsAiwCMAIwAjQCNAI4AjgCPAI8AkACQAJEAkQCSAJIAkwCTAJQAlACVAJUAlgCWAJcAlwCYAJgAmQCZAJoAmgCbAJsAnACcAJ0AnQCeAJ4AnwCfAKAAoAChAKEAogCiAKMAowCkAKQApQClAKYApgCnAKcAqACoAKkAqQCqAKoAqwCrAKwArACtAK0ArgCuAK8ArwCwALAAsQCxALIAsgCzALMAtAC0ALUAtQC2ALYAtwC3ALgAuAC5ALkAugC6ALsAuwC8ALwAvQC9AL4AvgC/AL8AwADAAMEAwQDCAMIAwwDDAMQAxADFAMUAxgDGAMcAxwDIAMgAyQDJAMoAygDLAMsAzADMAM0AzQDOAM4AzwDPANAA0ADRANEA0gDSANMA0wDUANQA1QDVANYA1gDXANcA2ADYANkA2QDaANoA2wDbANwA3ADdAN0A3gDeAN8A3wDgAOAA4QDhAOIA4gDjAOMA5ADkAOUA5QDmAOYA5wDnAOgA6ADpAOkA6gDqAOsA6wDsAOwA7QDtAO4A7gDvAO8AAAAAAAEAAQACAAIAAwADAAQABAAFAAUABgAGAAcABwAIAAgACQAJAAoACgALAAsA",
          "dtype": "i2"
         },
         "k": {
          "bdata": "AQANAAIADgADAA8ABAAQAAUAEQAGABIABwATAAgAFAAJABUACgAWAAsAFwAAAAwADQAZAA4AGgAPABsAEAAcABEAHQASAB4AEwAfABQAIAAVACEAFgAiABcAIwAMABgAGQAlABoAJgAbACcAHAAoAB0AKQAeACoAHwArACAALAAhAC0AIgAuACMALwAYACQAJQAxACYAMgAnADMAKAA0ACkANQAqADYAKwA3ACwAOAAtADkALgA6AC8AOwAkADAAMQA9ADIAPgAzAD8ANABAADUAQQA2AEIANwBDADgARAA5AEUAOgBGADsARwAwADwAPQBJAD4ASgA/AEsAQABMAEEATQBCAE4AQwBPAEQAUABFAFEARgBSAEcAUwA8AEgASQBVAEoAVgBLAFcATABYAE0AWQBOAFoATwBbAFAAXABRAF0AUgBeAFMAXwBIAFQAVQBhAFYAYgBXAGMAWABkAFkAZQBaAGYAWwBnAFwAaABdAGkAXgBqAF8AawBUAGAAYQBtAGIAbgBjAG8AZABwAGUAcQBmAHIAZwBzAGgAdABpAHUAagB2AGsAdwBgAGwAbQB5AG4AegBvAHsAcAB8AHEAfQByAH4AcwB/AHQAgAB1AIEAdgCCAHcAgwBsAHgAeQCFAHoAhgB7AIcAfACIAH0AiQB+AIoAfwCLAIAAjACBAI0AggCOAIMAjwB4AIQAhQCRAIYAkgCHAJMAiACUAIkAlQCKAJYAiwCXAIwAmACNAJkAjgCaAI8AmwCEAJAAkQCdAJIAngCTAJ8AlACgAJUAoQCWAKIAlwCjAJgApACZAKUAmgCmAJsApwCQAJwAnQCpAJ4AqgCfAKsAoACsAKEArQCiAK4AowCvAKQAsAClALEApgCyAKcAswCcAKgAqQC1AKoAtgCrALcArAC4AK0AuQCuALoArwC7ALAAvACxAL0AsgC+ALMAvwCoALQAtQDBALYAwgC3AMMAuADEALkAxQC6AMYAuwDHALwAyAC9AMkAvgDKAL8AywC0AMAAwQDNAMIAzgDDAM8AxADQAMUA0QDGANIAxwDTAMgA1ADJANUAygDWAMsA1wDAAMwAzQDZAM4A2gDPANsA0ADcANEA3QDSAN4A0wDfANQA4ADVAOEA1gDiANcA4wDMANgA2QDlANoA5gDbAOcA3ADoAN0A6QDeAOoA3wDrAOAA7ADhAO0A4gDuAOMA7wDYAOQA5QABAOYAAgDnAAMA6AAEAOkABQDqAAYA6wAHAOwACADtAAkA7gAKAO8ACwDkAAAA",
          "dtype": "i2"
         },
         "name": "Mesh",
         "opacity": 0.8,
         "type": "mesh3d",
         "x": {
          "bdata": "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",
          "dtype": "f8"
         },
         "y": {
          "bdata": "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",
          "dtype": "f8"
         },
         "z": {
          "bdata": "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",
          "dtype": "f8"
         }
        },
        {
         "line": {
          "color": "crimson",
          "width": 3
         },
         "mode": "lines",
         "name": "Polyline 0",
         "opacity": 0.95,
         "showlegend": false,
         "type": "scatter3d",
         "x": {
          "bdata": "IKEfyzJgnr/WuDbLMmCevz0PNcsyYJ6/LxJAyzJgnr8pjz7LMmCev+a7M8syYJ6/R1YfyzJgnr/IbjbLMmCevzupNMsyYJ6/6ipByzJgnr/gdz7LMmCev3muM8syYJ6/kVYfyzJgnr+2ejbLMmCev9/nNMsyYJ6/8xFAyzJgnr/5mT7LMmCev3LMM8syYJ6/TXAfyzJgnr/EkjbLMmCev3r/NMsyYJ6/WiJAyzJgnr+Xqj7LMmCevzvdM8syYJ6/YIAfyzJgnr8FoTbLMmCev+QHNcsyYJ6/2iZAyzJgnr9Vqz7LMmCev1rcM8syYJ6/cX4fyzJgnr99nzbLMmCevzQJNcsyYJ6/UypAyzJgnr9RsD7LMmCev+HhM8syYJ6/PoQfyzJgnr8npTbLMmCevwYONcsyYJ6/Si1AyzJgnr8GsD7LMmCev/7fM8syYJ6/8IAfyzJgnr+0oTbLMmCev0MMNcsyYJ6/rCpAyzJgnr+csj7LMmCevxDlM8syYJ6/kIcfyzJgnr/mpjbLMmCev0YKNcsyYJ6/VylAyzJgnr8ssj7LMmCev1XlM8syYJ6/NYkfyzJgnr84qjbLMmCev5MRNcsyYJ6/5zdAyzJgnr9DvD7LMmCev3rtM8syYJ6/bZEfyzJgnr/4tTbLMmCev7EnNcsyYJ6/I0lAyzJgnr9JzD7LMmCev178M8syYJ6/6pwfyzJgnr9gvDbLMmCev40jNcsyYJ6/kEBAyzJgnr/xxz7LMmCevzD6M8syYJ6/mJwfyzJgnr+GvDbLMmCevzEjNcsyYJ6/YUdAyzJgnr8E0T7LMmCevwIFNMsyYJ6/F6sfyzJgnr/mzjbLMmCev/o7NcsyYJ6/z2FAyzJgnr/N5z7LMmCev1IZNMsyYJ6/uLsfyzJgnr9J3DbLMmCev7ZDNcsyYJ6/DWJAyzJgnr8T5j7LMmCev+EWNMsyYJ6/eLgfyzJgnr+72DbLMmCev/9ANcsyYJ6/bVxAyzJgnr++2T7LMmCev48GNMsyYJ6/oaMfyzJgnr8awjbLMmCev5MqNcsyYJ6/zD5AyzJgnr/0wD7LMmCev7jwM8syYJ6/kZAfyzJgnr87rzbLMmCev0oUNcsyYJ6/lzdAyzJgnr+zvj7LMmCev5DxM8syYJ6/KpcfyzJgnr/yuzbLMmCev4EsNcsyYJ6/41ZAyzJgnr8s4T7LMmCev4kUNMsyYJ6/ObgfyzJgnr/A2DbLMmCev+c+NcsyYJ6/rFdAyzJgnr+H2D7LMmCev1YGNMsyYJ6/IKEfyzJgnr8=",
          "dtype": "f8"
         },
         "y": {
          "bdata": "adHER8PFG0B7N0TntlkZQC00hJULYBVAEI9UB6mUDUB4EqMNK+wGQNhjVcWoEANAMCzttBtl+j+FQpz5n8bvP8MpIRZNEcS/xQpDqhDu/b+XkCWtQ+UEwGaRKekxrwjAWcc/QSJxDsA1Dlyrl8sRwGrnLvNwARbAjGZzH1xmHMAnuQdtiVUfwOvgDN8egSDANYO4bn7GIcBqUks6CukiwI0DKKhLwyTA+pKAE7FuJ8C8Jb5nnpMowCedx7LbOCnAv3U9L0UzKsDCMAmxaBIrwCD/ToKSfSzAtzSCfgJfLsCR6M8FmhQvwJKRkbSNeC/AbU02A78HMMCwa2nMsEowwPg0caLztjDATzpXuSArMcABeZBTXkUxwAvKHAPPUTHAebucZSdkMcBeZz+m63MxwM/61n1DjDHAihm1aYZ4McDt9qpJpE8xwCIWJRRUNTHAVx02+cAMMcCapZKYzOcwwAD5l23XqTDA2gfRzx4QMMBA8qDpOlAvwOe6nno/0y7AmwAf0DMULsCJqLTkFWgtwFMYpr2ySyzA4UtlpmIqKsCtR2gHfvAowMMWD4RjNyjAXlVP0SUdJ8AMoDHSqx8mwIdQ2FSmfiTAHs4+adikIcBTmP2+yx8gwNcn2llheR7AdZfER8PFG8DNBUTntlkZwDoWhJULYBXAEWNUB6mUDcBw36INK+wGwIEvVcWoEAPADcPstBtl+r8Fnpv5n8bvv8q7qcp0NrU/DInduaae/D8AGiatQ+UEQGofKukxrwhAe2dAQSJxDkA8Y1yrl8sRQHk/L/NwARZABr9zH1xmHEAtFAhtiVUfQL0ODd8egSBAhbK4bn7GIUBMg0s6CukiQFA1KKhLwyRAWs2AE7FuJ0DNYr5nnpMoQADax7LbOClAxbM9L0UzKkC3bwmxaBIrQKNBT4KSfSxAZnCCfgJfLkAEIdAFmhQvQNXJkbSNeC9AfWg2A78HMED1hWnMsEowQFFOcaLztjBAb1JXuSArMUAHjZBTXkUxQNPbHAPPUTFA6cqcZSdkMUAGdj+m63MxQDcK131DjDFAnCO1aYZ4MUCzAKtJpE8xQM0fJRRUNTFARyY2+cAMMUAgrZKYzOcwQEf9l23XqTBAZg3Rzx4QMEBo+6DpOlAvQNnEnno/0y5A8Awf0DMULkAHurTkFWgtQEc3pr2ySyxAbHNlpmIqKkBVb2gHfvAoQOo+D4RjNyhAh31P0SUdJ0AQyjHSqx8mQPN92FSmfiRAE/Q+adikIUDRuv2+yx8gQNNp2llheR5AadHER8PFG0A=",
          "dtype": "f8"
         },
         "z": {
          "bdata": "JE42A78HMMCsZmnMsEowwMQkcaLztjDA6BhXuSArMcCqUpBTXkUxwPigHAPPUTHA/42cZSdkMcBYNT+m63MxwDFkq7/aizHAEIjlywp3McAiyapJpE8xwO7sJBRUNTHAv/k1+cAMMcAPhZKYzOcwwK/bl23XqTDAbPLQzx4QMMCKyaDpOlAvwG+Tnno/0y7AK9we0DMULsA6ibTkFWgtwOAFpr2ySyzAQ0BlpmIqKsAOP2gHfvAowF0PD4RjNyjAwk9P0SUdJ8AanTHSqx8mwPdS2FSmfiTA6cg+adikIcDSkf2+yx8gwKIc2llheR7A2ojER8PFG8D78UPntlkZwJn6g5ULYBXAE0NUB6mUDcB80KINK+wGwPYjVcWoEAPAE8TstBtl+r9Kxpv5n8bvv7R6psp0NrU/ih7duaae/D/E1yWtQ+UEQCbWKekxrwhAvxVAQSJxDkACNlyrl8sRQFAPL/NwARZA7HRzH1xmHEAexQdtiVUfQHnmDN8egSBAN4e4bn7GIUDMVEs6CukiQJMBKKhLwyRAI46AE7FuJ0BxI75nnpMoQBCcx7LbOClAXXY9L0UzKkBgMwmxaBIrQOEFT4KSfSxA3z+CfgJfLkD78s8FmhQvQIOckbSNeC9AklM2A78HMEBec2nMsEowQKFAcaLztjBAGUdXuSArMUCehJBTXkUxQPDUHAPPUTFAnsWcZSdkMUDxcD+m63MxQNYD131DjDFA1SG1aYZ4MUD0AatJpE8xQHwiJRRUNTFAkio2+cAMMUBSspKYzOcwQJYDmG3XqTBA0BPRzx4QMEDJCqHpOlAvQOvUnno/0y5AXh0f0DMULkA4ybTkFWgtQIpCpr2ySyxAuXNlpmIqKkB5aGgHfvAoQPk0D4RjNyhAlW9P0SUdJ0DRuDHSqx8mQPFm2FSmfiRA298+adikIUBerf2+yx8gQM5R2llheR5Aq8LER8PFG0DTLETntlkZQCkzhJULYBVATJZUB6mUDUDWG6MNK+wGQLppVcWoEANA60PttBtl+j+ks5z5n8bvPx/Xn8p0NrW/wN/cuaae/L9cvSWtQ+UEwEC+KekxrwjA1gVAQSJxDsCWM1yrl8sRwCIRL/NwARbAEYdzH1xmHMAX2AdtiVUfwBLvDN8egSDA/JG4bn7GIcCHYks6CukiwEMVKKhLwyTAGqqAE7FuJ8AaQb5nnpMowHG5x7LbOCnASJM9L0UzKsDQTQmxaBIrwDobT4KSfSzALUaCfgJfLsD/9c8FmhQvwK+bkbSNeC/AJE42A78HMMA=",
          "dtype": "f8"
         }
        }
       ],
       "layout": {
        "autosize": false,
        "height": 600,
        "scene": {
         "aspectmode": "data",
         "xaxis": {
          "visible": true
         },
         "yaxis": {
          "visible": true
         },
         "zaxis": {
          "visible": true
         }
        },
        "template": {
         "data": {
          "bar": [
           {
            "error_x": {
             "color": "#2a3f5f"
            },
            "error_y": {
             "color": "#2a3f5f"
            },
            "marker": {
             "line": {
              "color": "#E5ECF6",
              "width": 0.5
             },
             "pattern": {
              "fillmode": "overlay",
              "size": 10,
              "solidity": 0.2
             }
            },
            "type": "bar"
           }
          ],
          "barpolar": [
           {
            "marker": {
             "line": {
              "color": "#E5ECF6",
              "width": 0.5
             },
             "pattern": {
              "fillmode": "overlay",
              "size": 10,
              "solidity": 0.2
             }
            },
            "type": "barpolar"
           }
          ],
          "carpet": [
           {
            "aaxis": {
             "endlinecolor": "#2a3f5f",
             "gridcolor": "white",
             "linecolor": "white",
             "minorgridcolor": "white",
             "startlinecolor": "#2a3f5f"
            },
            "baxis": {
             "endlinecolor": "#2a3f5f",
             "gridcolor": "white",
             "linecolor": "white",
             "minorgridcolor": "white",
             "startlinecolor": "#2a3f5f"
            },
            "type": "carpet"
           }
          ],
          "choropleth": [
           {
            "colorbar": {
             "outlinewidth": 0,
             "ticks": ""
            },
            "type": "choropleth"
           }
          ],
          "contour": [
           {
            "colorbar": {
             "outlinewidth": 0,
             "ticks": ""
            },
            "colorscale": [
             [
              0,
              "#0d0887"
             ],
             [
              0.1111111111111111,
              "#46039f"
             ],
             [
              0.2222222222222222,
              "#7201a8"
             ],
             [
              0.3333333333333333,
              "#9c179e"
             ],
             [
              0.4444444444444444,
              "#bd3786"
             ],
             [
              0.5555555555555556,
              "#d8576b"
             ],
             [
              0.6666666666666666,
              "#ed7953"
             ],
             [
              0.7777777777777778,
              "#fb9f3a"
             ],
             [
              0.8888888888888888,
              "#fdca26"
             ],
             [
              1,
              "#f0f921"
             ]
            ],
            "type": "contour"
           }
          ],
          "contourcarpet": [
           {
            "colorbar": {
             "outlinewidth": 0,
             "ticks": ""
            },
            "type": "contourcarpet"
           }
          ],
          "heatmap": [
           {
            "colorbar": {
             "outlinewidth": 0,
             "ticks": ""
            },
            "colorscale": [
             [
              0,
              "#0d0887"
             ],
             [
              0.1111111111111111,
              "#46039f"
             ],
             [
              0.2222222222222222,
              "#7201a8"
             ],
             [
              0.3333333333333333,
              "#9c179e"
             ],
             [
              0.4444444444444444,
              "#bd3786"
             ],
             [
              0.5555555555555556,
              "#d8576b"
             ],
             [
              0.6666666666666666,
              "#ed7953"
             ],
             [
              0.7777777777777778,
              "#fb9f3a"
             ],
             [
              0.8888888888888888,
              "#fdca26"
             ],
             [
              1,
              "#f0f921"
             ]
            ],
            "type": "heatmap"
           }
          ],
          "histogram": [
           {
            "marker": {
             "pattern": {
              "fillmode": "overlay",
              "size": 10,
              "solidity": 0.2
             }
            },
            "type": "histogram"
           }
          ],
          "histogram2d": [
           {
            "colorbar": {
             "outlinewidth": 0,
             "ticks": ""
            },
            "colorscale": [
             [
              0,
              "#0d0887"
             ],
             [
              0.1111111111111111,
              "#46039f"
             ],
             [
              0.2222222222222222,
              "#7201a8"
             ],
             [
              0.3333333333333333,
              "#9c179e"
             ],
             [
              0.4444444444444444,
              "#bd3786"
             ],
             [
              0.5555555555555556,
              "#d8576b"
             ],
             [
              0.6666666666666666,
              "#ed7953"
             ],
             [
              0.7777777777777778,
              "#fb9f3a"
             ],
             [
              0.8888888888888888,
              "#fdca26"
             ],
             [
              1,
              "#f0f921"
             ]
            ],
            "type": "histogram2d"
           }
          ],
          "histogram2dcontour": [
           {
            "colorbar": {
             "outlinewidth": 0,
             "ticks": ""
            },
            "colorscale": [
             [
              0,
              "#0d0887"
             ],
             [
              0.1111111111111111,
              "#46039f"
             ],
             [
              0.2222222222222222,
              "#7201a8"
             ],
             [
              0.3333333333333333,
              "#9c179e"
             ],
             [
              0.4444444444444444,
              "#bd3786"
             ],
             [
              0.5555555555555556,
              "#d8576b"
             ],
             [
              0.6666666666666666,
              "#ed7953"
             ],
             [
              0.7777777777777778,
              "#fb9f3a"
             ],
             [
              0.8888888888888888,
              "#fdca26"
             ],
             [
              1,
              "#f0f921"
             ]
            ],
            "type": "histogram2dcontour"
           }
          ],
          "mesh3d": [
           {
            "colorbar": {
             "outlinewidth": 0,
             "ticks": ""
            },
            "type": "mesh3d"
           }
          ],
          "parcoords": [
           {
            "line": {
             "colorbar": {
              "outlinewidth": 0,
              "ticks": ""
             }
            },
            "type": "parcoords"
           }
          ],
          "pie": [
           {
            "automargin": true,
            "type": "pie"
           }
          ],
          "scatter": [
           {
            "fillpattern": {
             "fillmode": "overlay",
             "size": 10,
             "solidity": 0.2
            },
            "type": "scatter"
           }
          ],
          "scatter3d": [
           {
            "line": {
             "colorbar": {
              "outlinewidth": 0,
              "ticks": ""
             }
            },
            "marker": {
             "colorbar": {
              "outlinewidth": 0,
              "ticks": ""
             }
            },
            "type": "scatter3d"
           }
          ],
          "scattercarpet": [
           {
            "marker": {
             "colorbar": {
              "outlinewidth": 0,
              "ticks": ""
             }
            },
            "type": "scattercarpet"
           }
          ],
          "scattergeo": [
           {
            "marker": {
             "colorbar": {
              "outlinewidth": 0,
              "ticks": ""
             }
            },
            "type": "scattergeo"
           }
          ],
          "scattergl": [
           {
            "marker": {
             "colorbar": {
              "outlinewidth": 0,
              "ticks": ""
             }
            },
            "type": "scattergl"
           }
          ],
          "scattermap": [
           {
            "marker": {
             "colorbar": {
              "outlinewidth": 0,
              "ticks": ""
             }
            },
            "type": "scattermap"
           }
          ],
          "scattermapbox": [
           {
            "marker": {
             "colorbar": {
              "outlinewidth": 0,
              "ticks": ""
             }
            },
            "type": "scattermapbox"
           }
          ],
          "scatterpolar": [
           {
            "marker": {
             "colorbar": {
              "outlinewidth": 0,
              "ticks": ""
             }
            },
            "type": "scatterpolar"
           }
          ],
          "scatterpolargl": [
           {
            "marker": {
             "colorbar": {
              "outlinewidth": 0,
              "ticks": ""
             }
            },
            "type": "scatterpolargl"
           }
          ],
          "scatterternary": [
           {
            "marker": {
             "colorbar": {
              "outlinewidth": 0,
              "ticks": ""
             }
            },
            "type": "scatterternary"
           }
          ],
          "surface": [
           {
            "colorbar": {
             "outlinewidth": 0,
             "ticks": ""
            },
            "colorscale": [
             [
              0,
              "#0d0887"
             ],
             [
              0.1111111111111111,
              "#46039f"
             ],
             [
              0.2222222222222222,
              "#7201a8"
             ],
             [
              0.3333333333333333,
              "#9c179e"
             ],
             [
              0.4444444444444444,
              "#bd3786"
             ],
             [
              0.5555555555555556,
              "#d8576b"
             ],
             [
              0.6666666666666666,
              "#ed7953"
             ],
             [
              0.7777777777777778,
              "#fb9f3a"
             ],
             [
              0.8888888888888888,
              "#fdca26"
             ],
             [
              1,
              "#f0f921"
             ]
            ],
            "type": "surface"
           }
          ],
          "table": [
           {
            "cells": {
             "fill": {
              "color": "#EBF0F8"
             },
             "line": {
              "color": "white"
             }
            },
            "header": {
             "fill": {
              "color": "#C8D4E3"
             },
             "line": {
              "color": "white"
             }
            },
            "type": "table"
           }
          ]
         },
         "layout": {
          "annotationdefaults": {
           "arrowcolor": "#2a3f5f",
           "arrowhead": 0,
           "arrowwidth": 1
          },
          "autotypenumbers": "strict",
          "coloraxis": {
           "colorbar": {
            "outlinewidth": 0,
            "ticks": ""
           }
          },
          "colorscale": {
           "diverging": [
            [
             0,
             "#8e0152"
            ],
            [
             0.1,
             "#c51b7d"
            ],
            [
             0.2,
             "#de77ae"
            ],
            [
             0.3,
             "#f1b6da"
            ],
            [
             0.4,
             "#fde0ef"
            ],
            [
             0.5,
             "#f7f7f7"
            ],
            [
             0.6,
             "#e6f5d0"
            ],
            [
             0.7,
             "#b8e186"
            ],
            [
             0.8,
             "#7fbc41"
            ],
            [
             0.9,
             "#4d9221"
            ],
            [
             1,
             "#276419"
            ]
           ],
           "sequential": [
            [
             0,
             "#0d0887"
            ],
            [
             0.1111111111111111,
             "#46039f"
            ],
            [
             0.2222222222222222,
             "#7201a8"
            ],
            [
             0.3333333333333333,
             "#9c179e"
            ],
            [
             0.4444444444444444,
             "#bd3786"
            ],
            [
             0.5555555555555556,
             "#d8576b"
            ],
            [
             0.6666666666666666,
             "#ed7953"
            ],
            [
             0.7777777777777778,
             "#fb9f3a"
            ],
            [
             0.8888888888888888,
             "#fdca26"
            ],
            [
             1,
             "#f0f921"
            ]
           ],
           "sequentialminus": [
            [
             0,
             "#0d0887"
            ],
            [
             0.1111111111111111,
             "#46039f"
            ],
            [
             0.2222222222222222,
             "#7201a8"
            ],
            [
             0.3333333333333333,
             "#9c179e"
            ],
            [
             0.4444444444444444,
             "#bd3786"
            ],
            [
             0.5555555555555556,
             "#d8576b"
            ],
            [
             0.6666666666666666,
             "#ed7953"
            ],
            [
             0.7777777777777778,
             "#fb9f3a"
            ],
            [
             0.8888888888888888,
             "#fdca26"
            ],
            [
             1,
             "#f0f921"
            ]
           ]
          },
          "colorway": [
           "#636efa",
           "#EF553B",
           "#00cc96",
           "#ab63fa",
           "#FFA15A",
           "#19d3f3",
           "#FF6692",
           "#B6E880",
           "#FF97FF",
           "#FECB52"
          ],
          "font": {
           "color": "#2a3f5f"
          },
          "geo": {
           "bgcolor": "white",
           "lakecolor": "white",
           "landcolor": "#E5ECF6",
           "showlakes": true,
           "showland": true,
           "subunitcolor": "white"
          },
          "hoverlabel": {
           "align": "left"
          },
          "hovermode": "closest",
          "mapbox": {
           "style": "light"
          },
          "paper_bgcolor": "white",
          "plot_bgcolor": "#E5ECF6",
          "polar": {
           "angularaxis": {
            "gridcolor": "white",
            "linecolor": "white",
            "ticks": ""
           },
           "bgcolor": "#E5ECF6",
           "radialaxis": {
            "gridcolor": "white",
            "linecolor": "white",
            "ticks": ""
           }
          },
          "scene": {
           "xaxis": {
            "backgroundcolor": "#E5ECF6",
            "gridcolor": "white",
            "gridwidth": 2,
            "linecolor": "white",
            "showbackground": true,
            "ticks": "",
            "zerolinecolor": "white"
           },
           "yaxis": {
            "backgroundcolor": "#E5ECF6",
            "gridcolor": "white",
            "gridwidth": 2,
            "linecolor": "white",
            "showbackground": true,
            "ticks": "",
            "zerolinecolor": "white"
           },
           "zaxis": {
            "backgroundcolor": "#E5ECF6",
            "gridcolor": "white",
            "gridwidth": 2,
            "linecolor": "white",
            "showbackground": true,
            "ticks": "",
            "zerolinecolor": "white"
           }
          },
          "shapedefaults": {
           "line": {
            "color": "#2a3f5f"
           }
          },
          "ternary": {
           "aaxis": {
            "gridcolor": "white",
            "linecolor": "white",
            "ticks": ""
           },
           "baxis": {
            "gridcolor": "white",
            "linecolor": "white",
            "ticks": ""
           },
           "bgcolor": "#E5ECF6",
           "caxis": {
            "gridcolor": "white",
            "linecolor": "white",
            "ticks": ""
           }
          },
          "title": {
           "x": 0.05
          },
          "xaxis": {
           "automargin": true,
           "gridcolor": "white",
           "linecolor": "white",
           "ticks": "",
           "title": {
            "standoff": 15
           },
           "zerolinecolor": "white",
           "zerolinewidth": 2
          },
          "yaxis": {
           "automargin": true,
           "gridcolor": "white",
           "linecolor": "white",
           "ticks": "",
           "title": {
            "standoff": 15
           },
           "zerolinecolor": "white",
           "zerolinewidth": 2
          }
         }
        },
        "title": {
         "text": "3D Mesh Visualization"
        },
        "width": 800
       }
      }
     },
     "metadata": {},
     "output_type": "display_data"
    }
   ],
   "source": [
    "mm = MeshManager()\n",
    "mm.load_mesh(data_path(\"mesh/demo/torus.obj\"))\n",
    "ps = PolylinesSkeleton().from_txt(data_path(\"polylines/torus.polylines.txt\"))\n",
    "mm.visualize_mesh_3d(polylines=ps)"
   ]
  },
  {
   "cell_type": "code",
   "execution_count": 4,
   "id": "e566a44c",
   "metadata": {},
   "outputs": [
    {
     "data": {
      "application/vnd.plotly.v1+json": {
       "config": {
        "plotlyServerURL": "https://plot.ly"
       },
       "data": [
        {
         "color": "lightblue",
         "i": {
          "bdata": "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",
          "dtype": "i2"
         },
         "j": {
          "bdata": "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",
          "dtype": "i2"
         },
         "k": {
          "bdata": "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",
          "dtype": "i2"
         },
         "name": "Mesh",
         "opacity": 0.8,
         "type": "mesh3d",
         "x": {
          "bdata": "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",
          "dtype": "f8"
         },
         "y": {
          "bdata": "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",
          "dtype": "f8"
         },
         "z": {
          "bdata": "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",
          "dtype": "f8"
         }
        },
        {
         "line": {
          "color": "crimson",
          "width": 3
         },
         "mode": "lines",
         "name": "Polyline 0",
         "opacity": 0.95,
         "showlegend": false,
         "type": "scatter3d",
         "x": {
          "bdata": "hit5OkNXwUCVp3mrdlfBQEIZveaMV8FAESUk1mZYwUD7Ygg951jBQEv6YFIhWcFAUDj8xpZZwUBVhC+V71nBQN3Um3B1WsFAzdLvMdlawUDRMiSugFvBQDQ3qyniW8FATSejcNFbwUCCmMvgxVvBQDHmEoCJW8FA2CRqxilbwUBto4TDwVrBQDPqMlYQWsFAmFxd6+1ZwUApbPmol1nBQOdc+WpOWcFAfFtC9j1ZwUDdb7rjH1nBQHwXeo/NWMFAF/ALGkJXwUDA3Gvy/lbBQChGxwXUVsFA8owuwJVWwUCeCHrjY1bBQBNvOYsoVsFAdNZQfq9VwUAl79xqx1TBQAgMp47TU8FASCPVe5ZTwUBUftHkClLBQG4FU9ZNUMFAMEBosatLwUAGyna0c0rBQFhcBJjWScFAYAdBQ/ZIwUBjjntw7EfBQKqPAKSURsFAiO+lv2lFwUCQTvQUxkPBQHOwAUD2QsFAZtU8w/tBwUCXeDKRKUHBQE+3xpgqQcFAvOPSdDNBwUCxQp8pmEHBQKW7x0lxQsFAaORm6edCwUCQnTHdZkPBQIi6S9AORcFA",
          "dtype": "f8"
         },
         "y": {
          "bdata": "71ey6xNypUADkNLVd2+lQOxTuPl6bqVARWifuElmpUBOSztwZGOlQEy33X9WYqVAjvE9VllgpUDMp9kzkl+lQB9nLxMeX6VAjMapAf9epUA8DWjpPGClQMmzy7TmYqVAlm92IfVjpUD0Jl2ZuGWlQGEs6cRJaKVA47zZDo1tpUBQePOX4XOlQD1RVE20eaVAvkLBAsd7pUD/UIQ5X3+lQJhd40nSgqVA6Ipn4aaEpUAlFwwbd4alQBabhIWJjaVA47JdUi+WpUCiHwoiTpmlQORC6ZLKnaVA8kg5+U6lpUBkOiRo66mlQOONN1CfraVAxP4ZESKypUCZqBffmrmlQJWii9Lnv6VAb2o69nrBpUCfJlwIUculQAMI+H5i06VAOM02TDLqpUBWOGIyF/ClQI2nx58f86VAylMwEHP3pUCmtgqpovylQGAaR8seA6ZAf9VvOtgIpkDDf2POoQ+mQDvws11ME6ZAG8wCH+AXpkCp7tkAKxymQFzUoN//HaZA7NzCGd0epkBpr7J+1CGmQBMkvsu9IqZAOa1jdr0ipkCCN2AQkSKmQHtFCxM2IaZA",
          "dtype": "f8"
         },
         "z": {
          "bdata": "MwEGVFGsoUBFLatshrOhQOKzo2SUtqFAdEDsjE7ZoUCI7hP63emhQElkw/nb8KFA5xKd4cf+oUBXafYUJgiiQIX04OYuFaJAP5CkPwcgokAbMIFatTiiQHULM41TT6JAiYjh4LFTokBf02zldlqiQKYCEF9QY6JADk6LiRVzokBznbOV84SiQJpNwvlklaJAHqbxp7WaokApto8rg6OiQGAEkWvKq6JAUHuuG8SvokAGc/EH1bOiQOoq7EXkwKJArFlNia7RokCLwr5pJ9aiQDsXR0mI26JAmHlaekvkokCURtmip+miQDtqU/Dy7aJAwlJAYSzzokBbBy/y3PuiQDnrW+7LA6NAidrwjcYFo0CmSnWrWhKjQKPOCo2tHaNARRGh6Mc8o0CPjGfLVkWjQMepQ5bWSaNAM83jBENQo0BzJGe8/lejQN0jPXVbYqNAhioY8jdso0DgtlkVU3ajQH53tf86faNAaq6sKriGo0AqtK0F8JGjQGghG6F9nqNARd/4NROlo0ABDj8j5MCjQBqfZMav16NARiweAqXio0CG7fXL9OyjQMVcqtgjA6RA",
          "dtype": "f8"
         }
        },
        {
         "line": {
          "color": "crimson",
          "width": 3
         },
         "mode": "lines",
         "name": "Polyline 1",
         "opacity": 0.95,
         "showlegend": false,
         "type": "scatter3d",
         "x": {
          "bdata": "rMHC7JJIwUCk1TJNEEnBQLxnRu89SsFAKKBNU6pKwUBWWKpGLEvBQDNvwsvsS8FAuNSy1ClMwUDzYFblkUzBQBjXX1oQTcFA6lAA/I5NwUAgl13lgk3BQGTFkHJfTcFAoXu50hFNwUCfIRwVokzBQPH0w1NeTMFAyAF1DQVMwUDzwc+RxErBQJi2bbWtSsFA8M0NjKhKwUDp1rsTpkrBQMb7X/GuSsFAkJl1DbVKwUDwqAJxlUrBQDQvtxeIScFA",
          "dtype": "f8"
         },
         "y": {
          "bdata": "ALcSZrqtpUAp6cGG97ClQB49wgnjt6VAHWv1rgy7pUDdLMxHR76lQMagMCq8xKVAmC3ZKu7GpUBb/qADq8qlQNHhAwydz6VA5gH4QF3VpUD55xf1Ft2lQJ0NOfMH4aVAtpRSUQrlpUApAntIneilQA5bj1jY6qVAfhCvMsjtpUC2/Ec+LfilQGcqeBpw+qVA9cqNqUz8pUBPzrFmLP6lQIsguDxM/6VACnWaL6UBpkBrgg/elgOmQMsoN74ACqZA",
          "dtype": "f8"
         },
         "z": {
          "bdata": "HVw0B8xmpUCh0tFk2V+lQNX/ZPPHUKVANwzrNktKpUAGmkXqVUOlQKWmys3INqVA09XW2YUypUChwjCgOyulQL2FRhGbIaVA1Orxo3AWpUAuNoTQ1QilQFKWMPz3AaVA3mIQeqT6pECHjSYZa/OkQP6ReFPt7qRAJgRGBAXppEC3GT8A7dOkQDizlHylzKRARsrRcyPGpEAOfxm/db+kQLn0P60Wu6RAzoTlDSKypEAFCJW726ukQKn9OgR3nKRA",
          "dtype": "f8"
         }
        },
        {
         "line": {
          "color": "crimson",
          "width": 3
         },
         "mode": "lines",
         "name": "Polyline 2",
         "opacity": 0.95,
         "showlegend": false,
         "type": "scatter3d",
         "x": {
          "bdata": "NC+3F4hJwUA+hD+K4UvBQOLtTL1wTMFAlsbukNZMwUBNQhVHuU3BQHbC1dK0T8FAfiFCqJRTwUB/v/Ys3lLBQKG4q2uKUsFAOBMomgRSwUC10ahp9FDBQJqgOeVRTsFAkKR7KEFMwUBrRauQxkrBQP/6shyaSMFAiLpL0A5FwUA=",
          "dtype": "f8"
         },
         "y": {
          "bdata": "yyg3vgAKpkDgekHOdgamQCj/Lhe7BqZAEptrxwIHpkBDnvfTtwemQGOb9quuCKZAcQOFkXEKpkDB7h93ywumQM3aWPVWDKZAzTct3TUNpkCSyBHD+g6mQB7CLx95EqZAIbzmSaMVpkD4h5ENAhimQLNMxq6HG6ZAe0ULEzYhpkA=",
          "dtype": "f8"
         },
         "z": {
          "bdata": "qf06BHecpEBR3JxkT5akQHhdsMWskKRAwMAegFOMpECbvzM1UoKkQGuHE0v+baRAu3HAeApEpEAxQLOLtTukQA2WhmRXOKRA5XVbzPYypECibAmIHyikQOlAPWpuEaRAsmZzYMsKpEAWbIA90wikQD2OKxa1BqRAxVyq2CMDpEA=",
          "dtype": "f8"
         }
        },
        {
         "line": {
          "color": "crimson",
          "width": 3
         },
         "mode": "lines",
         "name": "Polyline 3",
         "opacity": 0.95,
         "showlegend": false,
         "type": "scatter3d",
         "x": {
          "bdata": "NC+3F4hJwUBYwyfvtEfBQHcjmvDJP8FAUR0YLDU5wUDDt1Hl+jXBQI6LTRCzNcFA/fa8XZ81wUC1/TvmCzfBQPDcgN/UN8FAsQh1tPU4wUDVZre/uT3BQGCMdZpIQMFAiLpL0A5FwUA=",
          "dtype": "f8"
         },
         "y": {
          "bdata": "yyg3vgAKpkA+YBeuSg2mQHfVhrnuH6ZA562Kg60vpkCqc8aTUjemQGJaOtCFOaZA1OxYkyQ9pkDel2KwXjqmQLbgVS/qOKZAltnMAPI2pkDdwV2jtS6mQP6Pk2XcKaZAe0ULEzYhpkA=",
          "dtype": "f8"
         },
         "z": {
          "bdata": "qf06BHecpEBvSlmTL5+kQBB7yyczmqRAJui+unWTpEAznb21/I+kQIeL6zk5hKRA7uNTc1FmpEACesTMVEqkQPr5DyA1PKRA/7DXlFgwpEDJXZpymRmkQDqKkmo7DqRAxVyq2CMDpEA=",
          "dtype": "f8"
         }
        }
       ],
       "layout": {
        "autosize": false,
        "height": 600,
        "scene": {
         "aspectmode": "data",
         "xaxis": {
          "visible": true
         },
         "yaxis": {
          "visible": true
         },
         "zaxis": {
          "visible": true
         }
        },
        "template": {
         "data": {
          "bar": [
           {
            "error_x": {
             "color": "#2a3f5f"
            },
            "error_y": {
             "color": "#2a3f5f"
            },
            "marker": {
             "line": {
              "color": "#E5ECF6",
              "width": 0.5
             },
             "pattern": {
              "fillmode": "overlay",
              "size": 10,
              "solidity": 0.2
             }
            },
            "type": "bar"
           }
          ],
          "barpolar": [
           {
            "marker": {
             "line": {
              "color": "#E5ECF6",
              "width": 0.5
             },
             "pattern": {
              "fillmode": "overlay",
              "size": 10,
              "solidity": 0.2
             }
            },
            "type": "barpolar"
           }
          ],
          "carpet": [
           {
            "aaxis": {
             "endlinecolor": "#2a3f5f",
             "gridcolor": "white",
             "linecolor": "white",
             "minorgridcolor": "white",
             "startlinecolor": "#2a3f5f"
            },
            "baxis": {
             "endlinecolor": "#2a3f5f",
             "gridcolor": "white",
             "linecolor": "white",
             "minorgridcolor": "white",
             "startlinecolor": "#2a3f5f"
            },
            "type": "carpet"
           }
          ],
          "choropleth": [
           {
            "colorbar": {
             "outlinewidth": 0,
             "ticks": ""
            },
            "type": "choropleth"
           }
          ],
          "contour": [
           {
            "colorbar": {
             "outlinewidth": 0,
             "ticks": ""
            },
            "colorscale": [
             [
              0,
              "#0d0887"
             ],
             [
              0.1111111111111111,
              "#46039f"
             ],
             [
              0.2222222222222222,
              "#7201a8"
             ],
             [
              0.3333333333333333,
              "#9c179e"
             ],
             [
              0.4444444444444444,
              "#bd3786"
             ],
             [
              0.5555555555555556,
              "#d8576b"
             ],
             [
              0.6666666666666666,
              "#ed7953"
             ],
             [
              0.7777777777777778,
              "#fb9f3a"
             ],
             [
              0.8888888888888888,
              "#fdca26"
             ],
             [
              1,
              "#f0f921"
             ]
            ],
            "type": "contour"
           }
          ],
          "contourcarpet": [
           {
            "colorbar": {
             "outlinewidth": 0,
             "ticks": ""
            },
            "type": "contourcarpet"
           }
          ],
          "heatmap": [
           {
            "colorbar": {
             "outlinewidth": 0,
             "ticks": ""
            },
            "colorscale": [
             [
              0,
              "#0d0887"
             ],
             [
              0.1111111111111111,
              "#46039f"
             ],
             [
              0.2222222222222222,
              "#7201a8"
             ],
             [
              0.3333333333333333,
              "#9c179e"
             ],
             [
              0.4444444444444444,
              "#bd3786"
             ],
             [
              0.5555555555555556,
              "#d8576b"
             ],
             [
              0.6666666666666666,
              "#ed7953"
             ],
             [
              0.7777777777777778,
              "#fb9f3a"
             ],
             [
              0.8888888888888888,
              "#fdca26"
             ],
             [
              1,
              "#f0f921"
             ]
            ],
            "type": "heatmap"
           }
          ],
          "histogram": [
           {
            "marker": {
             "pattern": {
              "fillmode": "overlay",
              "size": 10,
              "solidity": 0.2
             }
            },
            "type": "histogram"
           }
          ],
          "histogram2d": [
           {
            "colorbar": {
             "outlinewidth": 0,
             "ticks": ""
            },
            "colorscale": [
             [
              0,
              "#0d0887"
             ],
             [
              0.1111111111111111,
              "#46039f"
             ],
             [
              0.2222222222222222,
              "#7201a8"
             ],
             [
              0.3333333333333333,
              "#9c179e"
             ],
             [
              0.4444444444444444,
              "#bd3786"
             ],
             [
              0.5555555555555556,
              "#d8576b"
             ],
             [
              0.6666666666666666,
              "#ed7953"
             ],
             [
              0.7777777777777778,
              "#fb9f3a"
             ],
             [
              0.8888888888888888,
              "#fdca26"
             ],
             [
              1,
              "#f0f921"
             ]
            ],
            "type": "histogram2d"
           }
          ],
          "histogram2dcontour": [
           {
            "colorbar": {
             "outlinewidth": 0,
             "ticks": ""
            },
            "colorscale": [
             [
              0,
              "#0d0887"
             ],
             [
              0.1111111111111111,
              "#46039f"
             ],
             [
              0.2222222222222222,
              "#7201a8"
             ],
             [
              0.3333333333333333,
              "#9c179e"
             ],
             [
              0.4444444444444444,
              "#bd3786"
             ],
             [
              0.5555555555555556,
              "#d8576b"
             ],
             [
              0.6666666666666666,
              "#ed7953"
             ],
             [
              0.7777777777777778,
              "#fb9f3a"
             ],
             [
              0.8888888888888888,
              "#fdca26"
             ],
             [
              1,
              "#f0f921"
             ]
            ],
            "type": "histogram2dcontour"
           }
          ],
          "mesh3d": [
           {
            "colorbar": {
             "outlinewidth": 0,
             "ticks": ""
            },
            "type": "mesh3d"
           }
          ],
          "parcoords": [
           {
            "line": {
             "colorbar": {
              "outlinewidth": 0,
              "ticks": ""
             }
            },
            "type": "parcoords"
           }
          ],
          "pie": [
           {
            "automargin": true,
            "type": "pie"
           }
          ],
          "scatter": [
           {
            "fillpattern": {
             "fillmode": "overlay",
             "size": 10,
             "solidity": 0.2
            },
            "type": "scatter"
           }
          ],
          "scatter3d": [
           {
            "line": {
             "colorbar": {
              "outlinewidth": 0,
              "ticks": ""
             }
            },
            "marker": {
             "colorbar": {
              "outlinewidth": 0,
              "ticks": ""
             }
            },
            "type": "scatter3d"
           }
          ],
          "scattercarpet": [
           {
            "marker": {
             "colorbar": {
              "outlinewidth": 0,
              "ticks": ""
             }
            },
            "type": "scattercarpet"
           }
          ],
          "scattergeo": [
           {
            "marker": {
             "colorbar": {
              "outlinewidth": 0,
              "ticks": ""
             }
            },
            "type": "scattergeo"
           }
          ],
          "scattergl": [
           {
            "marker": {
             "colorbar": {
              "outlinewidth": 0,
              "ticks": ""
             }
            },
            "type": "scattergl"
           }
          ],
          "scattermap": [
           {
            "marker": {
             "colorbar": {
              "outlinewidth": 0,
              "ticks": ""
             }
            },
            "type": "scattermap"
           }
          ],
          "scattermapbox": [
           {
            "marker": {
             "colorbar": {
              "outlinewidth": 0,
              "ticks": ""
             }
            },
            "type": "scattermapbox"
           }
          ],
          "scatterpolar": [
           {
            "marker": {
             "colorbar": {
              "outlinewidth": 0,
              "ticks": ""
             }
            },
            "type": "scatterpolar"
           }
          ],
          "scatterpolargl": [
           {
            "marker": {
             "colorbar": {
              "outlinewidth": 0,
              "ticks": ""
             }
            },
            "type": "scatterpolargl"
           }
          ],
          "scatterternary": [
           {
            "marker": {
             "colorbar": {
              "outlinewidth": 0,
              "ticks": ""
             }
            },
            "type": "scatterternary"
           }
          ],
          "surface": [
           {
            "colorbar": {
             "outlinewidth": 0,
             "ticks": ""
            },
            "colorscale": [
             [
              0,
              "#0d0887"
             ],
             [
              0.1111111111111111,
              "#46039f"
             ],
             [
              0.2222222222222222,
              "#7201a8"
             ],
             [
              0.3333333333333333,
              "#9c179e"
             ],
             [
              0.4444444444444444,
              "#bd3786"
             ],
             [
              0.5555555555555556,
              "#d8576b"
             ],
             [
              0.6666666666666666,
              "#ed7953"
             ],
             [
              0.7777777777777778,
              "#fb9f3a"
             ],
             [
              0.8888888888888888,
              "#fdca26"
             ],
             [
              1,
              "#f0f921"
             ]
            ],
            "type": "surface"
           }
          ],
          "table": [
           {
            "cells": {
             "fill": {
              "color": "#EBF0F8"
             },
             "line": {
              "color": "white"
             }
            },
            "header": {
             "fill": {
              "color": "#C8D4E3"
             },
             "line": {
              "color": "white"
             }
            },
            "type": "table"
           }
          ]
         },
         "layout": {
          "annotationdefaults": {
           "arrowcolor": "#2a3f5f",
           "arrowhead": 0,
           "arrowwidth": 1
          },
          "autotypenumbers": "strict",
          "coloraxis": {
           "colorbar": {
            "outlinewidth": 0,
            "ticks": ""
           }
          },
          "colorscale": {
           "diverging": [
            [
             0,
             "#8e0152"
            ],
            [
             0.1,
             "#c51b7d"
            ],
            [
             0.2,
             "#de77ae"
            ],
            [
             0.3,
             "#f1b6da"
            ],
            [
             0.4,
             "#fde0ef"
            ],
            [
             0.5,
             "#f7f7f7"
            ],
            [
             0.6,
             "#e6f5d0"
            ],
            [
             0.7,
             "#b8e186"
            ],
            [
             0.8,
             "#7fbc41"
            ],
            [
             0.9,
             "#4d9221"
            ],
            [
             1,
             "#276419"
            ]
           ],
           "sequential": [
            [
             0,
             "#0d0887"
            ],
            [
             0.1111111111111111,
             "#46039f"
            ],
            [
             0.2222222222222222,
             "#7201a8"
            ],
            [
             0.3333333333333333,
             "#9c179e"
            ],
            [
             0.4444444444444444,
             "#bd3786"
            ],
            [
             0.5555555555555556,
             "#d8576b"
            ],
            [
             0.6666666666666666,
             "#ed7953"
            ],
            [
             0.7777777777777778,
             "#fb9f3a"
            ],
            [
             0.8888888888888888,
             "#fdca26"
            ],
            [
             1,
             "#f0f921"
            ]
           ],
           "sequentialminus": [
            [
             0,
             "#0d0887"
            ],
            [
             0.1111111111111111,
             "#46039f"
            ],
            [
             0.2222222222222222,
             "#7201a8"
            ],
            [
             0.3333333333333333,
             "#9c179e"
            ],
            [
             0.4444444444444444,
             "#bd3786"
            ],
            [
             0.5555555555555556,
             "#d8576b"
            ],
            [
             0.6666666666666666,
             "#ed7953"
            ],
            [
             0.7777777777777778,
             "#fb9f3a"
            ],
            [
             0.8888888888888888,
             "#fdca26"
            ],
            [
             1,
             "#f0f921"
            ]
           ]
          },
          "colorway": [
           "#636efa",
           "#EF553B",
           "#00cc96",
           "#ab63fa",
           "#FFA15A",
           "#19d3f3",
           "#FF6692",
           "#B6E880",
           "#FF97FF",
           "#FECB52"
          ],
          "font": {
           "color": "#2a3f5f"
          },
          "geo": {
           "bgcolor": "white",
           "lakecolor": "white",
           "landcolor": "#E5ECF6",
           "showlakes": true,
           "showland": true,
           "subunitcolor": "white"
          },
          "hoverlabel": {
           "align": "left"
          },
          "hovermode": "closest",
          "mapbox": {
           "style": "light"
          },
          "paper_bgcolor": "white",
          "plot_bgcolor": "#E5ECF6",
          "polar": {
           "angularaxis": {
            "gridcolor": "white",
            "linecolor": "white",
            "ticks": ""
           },
           "bgcolor": "#E5ECF6",
           "radialaxis": {
            "gridcolor": "white",
            "linecolor": "white",
            "ticks": ""
           }
          },
          "scene": {
           "xaxis": {
            "backgroundcolor": "#E5ECF6",
            "gridcolor": "white",
            "gridwidth": 2,
            "linecolor": "white",
            "showbackground": true,
            "ticks": "",
            "zerolinecolor": "white"
           },
           "yaxis": {
            "backgroundcolor": "#E5ECF6",
            "gridcolor": "white",
            "gridwidth": 2,
            "linecolor": "white",
            "showbackground": true,
            "ticks": "",
            "zerolinecolor": "white"
           },
           "zaxis": {
            "backgroundcolor": "#E5ECF6",
            "gridcolor": "white",
            "gridwidth": 2,
            "linecolor": "white",
            "showbackground": true,
            "ticks": "",
            "zerolinecolor": "white"
           }
          },
          "shapedefaults": {
           "line": {
            "color": "#2a3f5f"
           }
          },
          "ternary": {
           "aaxis": {
            "gridcolor": "white",
            "linecolor": "white",
            "ticks": ""
           },
           "baxis": {
            "gridcolor": "white",
            "linecolor": "white",
            "ticks": ""
           },
           "bgcolor": "#E5ECF6",
           "caxis": {
            "gridcolor": "white",
            "linecolor": "white",
            "ticks": ""
           }
          },
          "title": {
           "x": 0.05
          },
          "xaxis": {
           "automargin": true,
           "gridcolor": "white",
           "linecolor": "white",
           "ticks": "",
           "title": {
            "standoff": 15
           },
           "zerolinecolor": "white",
           "zerolinewidth": 2
          },
          "yaxis": {
           "automargin": true,
           "gridcolor": "white",
           "linecolor": "white",
           "ticks": "",
           "title": {
            "standoff": 15
           },
           "zerolinecolor": "white",
           "zerolinewidth": 2
          }
         }
        },
        "title": {
         "text": "3D Mesh Visualization"
        },
        "width": 800
       }
      }
     },
     "metadata": {},
     "output_type": "display_data"
    }
   ],
   "source": [
    "mm = MeshManager()\n",
    "mm.load_mesh(data_path(\"mesh/processed/TS2_repaired.obj\"))\n",
    "ps = PolylinesSkeleton().from_txt(data_path(\"polylines/TS2.polylines.txt\"))\n",
    "mm.visualize_mesh_3d(polylines=ps)"
   ]
  },
  {
   "cell_type": "code",
   "execution_count": 6,
   "id": "e1fc0192",
   "metadata": {},
   "outputs": [
    {
     "data": {
      "application/vnd.plotly.v1+json": {
       "config": {
        "plotlyServerURL": "https://plot.ly"
       },
       "data": [
        {
         "color": "lightblue",
         "i": {
          "bdata": "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",
          "dtype": "i2"
         },
         "j": {
          "bdata": "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",
          "dtype": "i2"
         },
         "k": {
          "bdata": "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",
          "dtype": "i2"
         },
         "name": "Mesh",
         "opacity": 0.8,
         "type": "mesh3d",
         "x": {
          "bdata": "F9Gxm7xhvkD4BZs4WGO+QJ6XK9PSU75Ar4Y9B6CjvkAhIVx0Ykq9QAk6pZXrQr1AboX3HrxfvUB+unCZ1Mi2QB+oQgM+tbZAaCB9FDPmtkA2biuJE6C2QDKQ8ZBXebZAK1zfOt6DtkBbT3v92R64QMuPiRYOFLhAsaS/emb6t0A1rzOg7jS2QKfbbdigO7ZAoRMY+rVftkCkJTzSdV+3QFBb5ctrUrdAQwKFBFNEt0COk5D5E9C6QNCJk8h82rpABW99HFXXukDlGek8M4m2QDl20tolpLZAgwFZNvtstkDX/5ccdrK2QCoJd0j2jrhAYc4iZfKUuEA001ZNOqG4QB0O9GXBh7hAbvYV9uodukBmHxpJvDW6QD8P9xupHLpA5qmv7KX9vkAsX4PjkhS/QK/3z2OKFr9AsXaC4iz6vkB/cXxGQzu6QBrpz34nDbpAK2203P0hukCOI15/Jia6QIAg7Z28IbpAH9h3aWY2ukAM2Z4f9S66QFYu3u7bzLtAqVWSINzXu0C5sJ5rHqC7QPARBUKE7blA6jjfcnEXukBpHztkhA+6QNfhnjuV+rlAn1IO36bduUC8AnbiaNK5QCztwZCn3rxAhjQJPJHcvEBCJmtdCdq8QPQNxIEnRb1AGwKSNg4uukBRxgv8RA26QGOYnUm/ErpAX5YhmuGStkB9zuv7tm22QN5GVqTiwb5Ax4FgF8vKvkCbxhj2ube+QGjnoQZX575ADLOov9SxuUDD4agwdpy5QOJ2OrU6oLlAfJwVW7vbvkBZQOyRGca+QHcxntinxL5AnVIjQDLYuUBTzELnqBG6QHrrUykS7LlAH2I8tX8cukDkRGkzmxm6QJol+OTIJLpAm0qsf2i0vkBF7FrW8du+QIPHpIoVp75AO+c1ak/gvkDuvuEe2oG6QC+PhSURZLpAYOHVSyxuukA7b2rLIAe5QHUM3bKmH7lAsR48TJEWuUBgojgZ8nG4QDz7IKooWLhAAGdMoMF3uECE0mCbljC5QKiX6xNQL7lASdxgWHo1uUBjOvQE98u+QH5RUd4msr5AHt2UBobjvkBZD2jSGCS6QPfvMsPb47lAuQl+VMppuEDpEv26K4K4QHod+j56n7hAIgGbDgGhvkD/bA+QbVy+QH0hZM48ir5AsMlkbcFQuEBVNmEceka4QEBNvDraRLhAFKyU1ugit0BKDbZA4i23QOkYR3UWLbdARqg0qDURt0BMzlpXZTG6QJc+QB2GObpAlHPjQ0KTuUAQX2oOB6+5QKlnfB+ytLlAG0tj0mWhvkCxSzjzLRu6QEMZVxpKFLpAxxBGVu/BuUCsdZliF6G2QNhmTcdTX7ZAxZ5Wf4hxtkCePlSAbIa2QE+8EoaJYL1ArtMUT0A3vUAqXkH9RTi9QH1aVAmwML5A3dqzU5BBvkBIIe+ClRa+QJsTW6QeGbhA/Traqu3nt0DKzO7rMPK3QKsmKLgmbrZAByJZ2ynDtkD9iw2wJqK7QPU/3iT6i7tAmdbWOp+5u0CgcwpcUM27QPIf3cZumLZAYjhskaKjtkDj5fZpi2W4QOCo9TR6W7hA3o/XlT5duEA31ulFnlW+QK6kYG3zCLdA67b5BOIXt0Dduu7avS23QOv3fZgPUbdA9UrxqlwKukBTGVP9ogK6QAMbq7imF7pAqeyYvYD/uUCOGB3J2Um+QCajxD19V71AmMdPz6dFvUD64zJqNpG6QPhZ1mTGVbpA87YXRnRfukCjZijtk7y8QE47eadBsLxAWtBF0HavvEDznyvWYZq8QBbfNiKfxbxAerI9hhOSvECOL0bH4Gu2QJP/zyYeOLZAKCKhYZHavECMp/fNWM66QI6CXWZ4Pb5Ayb1LbVrLu0Bf5T8BnZO7QK7Bh8nRu7tAURzimjyJu0B2QbkzPXe5QM9qUMHvY7lA1Ou2zyuWuUCxHC5yXKq5QN5hrNNom7lArDRdP7+guUB3aE8ooJq5QBIWZdC6b7lAUSjdCBx0uUDiLdgGIYO5QPAim5EAVLpAG6uANP9GukATYrkZlzG6QJIpTNfbDblA3xnXDdIOuUDWIZvqpwe5QNMcs25yhb1Ap9EG71HJvUAIaTUhl9e9QHPtCadBWblAzval3pZ3uUDAH4dZKnK5QKO00Nr/e7lAh74Bu6dnt0BJqdewH2i3QCOy7Kl8XbdADodclBSduEDyjqSUy5O4QPOND3ZHrbhAAJALGBxKukAAyEmchUe6QL3xaK5xX7pABFz0nRe4uED32t2B95a4QO4nSy98wrhAqP3oDr+2ukAr/sWvdMq6QMaywO5+qrpAYVGdkcTSvkB2gRBOC7i+QNSaDu/J7LdARY779EEiuEC2FfVD6wq4QJKhkORu07ZA9Yo8r9fPtkD5//F3wWm6QK59L46VPLpASNY0SY5btkB47yr+Nji2QLhldHP1PLZAibf/VKWuuUA4+WYnj6C5QKIiIih3rLlATn6GQiQauED1vwLzKmS4QJH/rQ88P7hAKlsSnxUyvEB68LvUeg28QIBa4zupS7xADL/uWgcPvkChkqm+Kj++QL+/PJoFEr5AAykGKUA+ukDySfdIpUO6QLaXHxUHOrpA1VfzkXl5uEBZ4c7pOHG4QAIUvEwqZrhAsGt+RvS6u0DEWKOlvs28QNz8SgcJ+rxApftUxuoJvUDnBpUiCC24QI6R32vXG7hAPp81N1oUuED0Dowma9y9QGLfL2Ue8L1AccFXNi1XuEAay0heUfu+QGLDUC+u+r5Az8OwBwPGvkAWiM6LwrW4QHuMORG/07hAmdb8tsvQuEATHkcyVh22QN2k7LwOKrZAkQTNVugmtkAVRSjLlj+2QDcVez5GG71AmWJcEr4svUDYWiS65SO9QK/cNukbmr5AlLNIfS7GukArcIQkkNa6QJDpmsG2yrpAM3/jZ/eXvkBvx2KTwAe6QIxkqUAE+71AREZm8SnRvUBN2A3xwOe9QI4ncbTU/bhA/B68YqoWuUB+A+sDyDq5QJ7n+/Gw7r5AX5N5yjNvukDcgI2Do1y6QMsRzsy97b5AujmtPXL9vkDeqRJDs/u+QGw34GpG8r5A6rSHsoa2uUDz5uF3iL25QAJNb48hrrlA9hN28QPTuECoeM1ylIa4QLvgABEWerpAVL0AC1eUukCe+XrthPm+QL/rH5ajFL1AgrCPEjAFvUAgOEMfqxu9QEyH3psPdLxAsnXcHBJ8vECViXCwTSG+QAPwg1ArJr5AGl0kxWA0vkB/IdnLch28QMaowCyFIbxAWcBYD6E5vECkn9zUkfG4QMSvHufcIrlAuNkpqEEmuUBIxjLz/Ce+QJyzdJQxMb5A9HQikLwuuUBvvvaJeFu5QKO1NV8gTrlA/mGx0gfHukD8i1Sd8Je6QHLgfheBnrxAcBByZeSVvEBQ0Qz9VWa6QEk4vyJEabpAVJl61VZ6ukA96v4xrXy6QATY0jVlhbpA2V6fbFVzukDAUxHADxG+QIOyDKtCJb5Au3Pu3kjXvkCyUQg2rfS+QIgKD24jyb5AodPX/OEnuEBG59FoXTW4QCqp0N/1Y7xAFZQn/VA4vEDVC8fgbm68QPAaAcigQLxAqrtVDViAukCspSOfT6C6QFpC6VNWurpAzeMqe5zFvEA1QW04QMy4QNG+pokWxLhAE06apAWnukC9pLhDk0y6QI0a3m0jMbpAtnEjiLs6ukAEX3WjUXu6QMax5hrmarpAW8NYIG9IukAge7CGvni3QLYyMysvnbdALFYjfrZ4t0AX9xghOo23QMQSThIW/LhAc4YiJya9uEBMxwpDmnm4QOnamR2237ZAE0XQuM9SukAzwBep+1a6QNw3zqf0NLpAN12+MziVuEDK3juzbYm4QH6BF82Oi7hATQqxA1iWuEC78S8xd4i4QKRdsh2DkrhADZer2YK/vUDhjnLmpxu5QC/r9B7zHblAzOSsBBAjuUBLzim6WhG3QMUGKaIjK7dAaTuGLOf2tkDGgSUSnIS5QOYd+gA2krlA6nwOZDObuUB7KnPa2ly+QHLhbkQDOrZA7cbc2OKYuUDvv2aGPY65QEnzYFUzs7lA+8BAYmxFvkB5g+buJju+QDHgCvf3RLlAn7rTeRmFukCIfehTSKC6QIwovAHaqLpAxCsH9bwKukBwPf/znwu6QB97F/FtMLpAkzjAOA9VuED8zbeK2VK4QAx+3dbBU7hAXmsOjuIevEBnjCdXzhm6QLzqnxA0LLpAwyMnUifWuUCJ12UQjBq6QKf3es4nN75ACLOP1RtDvkDkMEhcdYa4QDQTURiIf7hAH+biADGGuEB3xiOWBz6+QKMQDu9r/7pAmXpUHUgQu0D5YhZb4kq7QJHh1uFEdr5AUqbPF65mvkA9d/VgZx+6QAE64qpJCLpAPzTl/94QukDk/kfYFvu3QBpjOMJ6ALhARiZTC5kOuEClfX+TB/+3QE5lISd8hb5AsEChFYNUvkDyHuGkJCq6QB2W3VJHGrpA8HAIW5MiukCPnwidsW+2QIIvwQuEb7ZA9NVEGqQbukAwmCzq30K4QNhHOsG8LrhAmc+4wO1rvEARtMggOFy8QDPe5NOInrpAhs0+6N2PukBx/4WsXTK9QGllQ0dqDr5A0CVCKp1MvkChzfytgRy3QGNOFBUgE7dADF0Exdsbt0D/xMuGRh68QK8mu3FzeLxAu3w1jgxZvEDVXofTzTm9QOLpR+EIB71AswLaJPb+vEDc+03dRjq6QMyizOfJVrpA8hweA4pWukDEaoEV9Bm3QLVmvMw0QrdAW2pcSXEJt0DFTQ4UW4S5QHNVQ/BvjrpAYBBLUNV6ukCnBuFN04G6QKKZaDiRTrZAEWIUdAKxukA9whPCWby6QGiGjF+/mrpAy3UTWi9tukAXeD1FEa66QAQKhX+L9LdAlaMMRYOlt0DCwOjO89++QJRbSr0o9L5Ax1ysIpbvuECTveVN43K6QAh5yHHjfrpA7X2myx0fukBUqH0A3CG2QAggbatR07dAfvYuGWh2t0BPCk8IxXa3QDc8eeQJYLhAumFvlCtcuECRsQLRQZS4QErEYEfJk7hAjZc/OOo+vUAqS4dZ8fq8QPUbh6znxbxAsL1szYHHvEC3nG90+fC8QEen521BbLdAGH7yk02PuUCGmfX5w1i5QCc6a6HRU7lA+dBMxV8pvkAJKsbv00q+QNONFt8NIbhA2hnpXB0suEC64ZD8xse5QHnPuxKMvblArm6TzC6/uEBBeSTmM6S4QGtgtEFBsrhAi/+td/lHt0DortqISTu3QO9s+HkAY7dAzMtZDdOkuEA5HThQ9B+2QHDkzraaZLdA1EDboL0ZtkDeYDByTnW6QFcA0tXgMLpAm+rDWIJMukAkJvPpKkq6QBvtm5ihKbZAipXKVC4atkCui8olTmm2QPJPMQACKrZASrsk6vVguEA3FmqXk2+4QJl0ksdTa7hAF9Wfc3oktkABaV5vb+C6QEUFIwbI47pAhh02Q1PjukA2FPbXN+S6QKwpWbh1kLlAZPSi+peSuUD0wuXxd3G5QFgvZtflKLdAmzwE/m4Et0AwIDeRxxC3QE9XNUquzrZAoZVHXolztkDX7e8uiyO3QOOdRSf997lA4nDf5PsEukAebkduliy2QIR2bX6nXbpAuocjjEVYukBZv83PfU+6QJrTsnwxM71AK083IZ8IvUC4yge9PiW9QHEn2XbaMLlAzYrLdn0vukD2XaXPLvi9QGW5qLSU8b1ACW2Oyu6rvEAoKqF8JBG5QBU+8FGm47hAaP2D/R8BuUBXTLuen8S2QKIqXDE9drlAJwOK4bS0uUDInKjc2IG5QNi3PvPEnLxAvMNE5vV4vEDdhfe88Ne6QK7UU0+eQ7tA5fA3ajREu0ArTAq0Ti27QGe2NRQcHrlAiyo/0n/AvUAd3og1ftW9QDcxu0owzL1AUPECNZfRvUCs4BsgjOa9QGVGkDCXRblA8EDZ34qhuUAU7CLdVIK6QIrBdcgLybpAAnDnug8VvEC12d1q1ra6QIl/GkE+YrpAPk2QREh7vUCQzp09sKm9QLmqrk+Djr1A82kJZONbukClJ/fvclm6QAAkmeuqWrpApljPP15XvkDvJu22lZq+QJScg1ekf75AC8PzXpK7ukBKleVZZXe6QJau/uf2ebpA9sU8Iq5+ukAG+JByYb68QKsrBNI1s7xA3pEceCq3vEDbvLu9esa8QOjwZDAkOLhAioTmJhDqvECEx3LBmni9QCORLi2hg71AejRYrONYvUADUKR4Euu9QLB6aT1H5r1AG8lGF0n/vUDjOrtmiFq6QJ1EW3+HNLpA8ANkJBZSt0AxfmHmSUu3QF3JCoAXQrdAVEuD6k/PtkDKM0ieBjW9QBsVAqUeL71A6PRAlHVxvUDMS63eFra4QLI+hyQEqLhAauLmQoeuuEAxrIQDWZ24QM+51/+w4bxAaLzGIr3gvECePqm7TuG8QBSBUzTGJbdAlTKU5cQ7t0CltlFJqnu4QG+kdu+kmrhADOXElPFzuEDK/fjTlyy7QMa+Mbj3G7tAfhKBMTxHu0CMWWnjDTm5QODNrR2wU7lAXpfW53FEuUCr+5zPNkS4QDXO7wb0JbpAzi94sx7JuUAE4rFzcBe6QDmI8JaQObpA1L09sIf0uUA1ytvKUxq6QCpJ8fyLLLpAcOcALCobukAxpR4QKy25QPn0dWFFXrlA6lPdpnjauUCW5SMk0We6QJIpLrKudrpAvoYHN3h5ukAtS7lnOhi8QD1chSYp27tA3xKatAX1u0BqVMd2esy6QA8GCzWFu7pAinNcILlNukDv/NEpfDS6QLHgyvcpz7pAEt8sZojoukCCCv3Qyui3QK8oA2Ji4LdAdmntsO76t0Btrr6FU3C5QPvj3ASaXb5A614cB9QjuUDUNu3IUa69QHycc5vXxL1AlRYl9oLsvUC5H7nF4LS5QKWe2wre07lAG+n5ZSK2u0CDn5xvddy7QP04cr9+/btAVUPhEbjwu0BzJnkLOXC6QL62jtTIa7pAEQZo7rF5ukDAuTM3irO2QM5qGOvQ4rZAs4GLZXTktkB9TWcTHQ69QNHazX6P4bxAvfC8/bIYvUB/LPsmPY++QNOBiOufjr5AuscgARBPt0CuOk7k8Vi3QF4RXZ8HiLlAb0qTCH2OuUC2jlAwn265QAOvIgZh47lApi38AOzLuUA4Jxr8Dp+5QAsUDU/OWLlAfgYUo3JtuUA7UteXM0y4QLWpotD9+LZAWxPxO8SsvUCV0KNK9Bq7QJYdmkPrM7tAso5t2qodu0CBhpZrgGe3QBJqukK4hLdA+2P32q97t0Bdng68WYi6QKadtLcbDblAgL7ubm3ouED3OAy7/Q65QP6boH9m4LhAT5koh8myvEDW2r8th7u8QF4gmMiVlblACAq1qLS8uUDLcnXVpYK5QLw+bmDAH7tAzYCBQimPuUCPW4+KeKm5QE9ViBEaRLtAXVuT+/Wcu0AIzMGYtD29QC6bqSdCNr1AH616LqoKvUCIlKflwJC6QCpcXmQFyLpA7XaVOD96ukAywZZdL1C+QNVTZl/AMb5ALxLwQTdLvkCMoRJSJ7e3QLZ6aPXzqrdART06cwKht0Cfa7AhYWm5QMR+5RTehLZA4Q3RvJqwtkBxRYaedKS2QGmj3picfLhAluPqtsVRuEADFhHKkou4QI3a0bCzgbhAWPUUcoglt0Bqbv/oOx23QIQ/qQ0tCrdAkPJkoqkSt0AsbJQdc+W6QBGAAA9x6LpA4in3i2kPuEDzZWvl7vm3QKYn/zpjabpAXjNpvs91ukAuoPaP01W4QBFTSzGzR7dA9uJFUAFTt0BI4tL22tW+QCxaWmUY3b5ATXms1xXOu0AsZoLQ2ty7QNOnpLs1CLxAzXjk5evIu0AOgT+8GIu7QPYDQm6qOrtAbrB2IqVku0A5sBtNCGe7QOuOE8KHTrtAAlJfcvbNt0DKWs0rlaC3QMSCodnf6bdA3F8ngibFuEDYnTGa0de4QI4lAWo9kbdAJSyDw56Qt0BgK7T9h3+3QC6GZuLuZb5A9lIDHlt/vkBQHCHF0Eu+QGfV/NgDy75AClRUPkW0u0CR4EaHlqW7QIrk1aLF0btAoXkz5SXauECuDdqoSu24QN3UyOJS17hAce6L2ad/vUBeKpgLLXS9QNvXOc1dUr1AnmmOGREdt0AlT2sR2KS4QIvsm5zJ4bpAnwtHwKOkukBrDiQE7be6QDLfMCj/LbpAtErs17JOukBDwgtL5VS6QECVz5L1d7xAJ7uBCnxZvEAOIROKUEa8QJC9GM77trlAcog6MU7FuUAi0F7mLKS5QP1k10lcybtAakzuT/bWvkBcxATZUd2+QH83RlwBIrpAGuxZ2x8/ukDzBcF+PEG6QAx4IiPg7rhAWoVl/GDMuEBvHCkUW824QPwKbe6IgrpAYImYOUkEukD1XrkXwS66QP/dPJtWK7pAdIxNPBMouECQnKeMdVy4QPZn/ZfjVrhAyv1MdlsCvUAofBi5W/u8QJ9T5Yjq6LxAaNy8tlrHvEAWssHBSrq8QK6ldbqNxLxAh9amEBEIvEAtI0lYeqG2QEVCJi4DMrpAA9dT24UjukBWBJXUlSa6QEKOqggdZrhALdqXrlRnuEA9gL4EunS4QNA9CL7EaLhAaotpVYUfu0CsFW3cyCS7QPUKpawL97pA+37DJdswu0DQeMat4zu+QNTBQVrQUL5A60jFILvxvECWq30I1rK7QHiU59ZNm7tAyo+V9X2MuUAhp7460qW5QIxcpPDfmblARXYPUiGUu0D73Tds+3a7QJLG2zZ6lrtAwIXCElOBtkDqD9LWw0a6QCFQaI119LxA/IpTJ8GsuEDHu0Zve266QKX83T/fXbpAF+14cPBavUDET1lX5Vu9QHGTdX+/yLlAx6fsAvnLuUDy3lDn1Ze5QIU+eEfGfblAKGUFLB2OuUByJgAuC5W4QA5NedhikLhAiURoN0lxuUA9nsIOSXu5QGEfCnDHbLlAtgV7pOa+uECi6OFUfLW6QDSMQExAnrlAS3WvXny1uUDvmTVRokO5QD5obVGecblACp9uBPFHvEDp4Gav+y28QACk4VNNFLxAeW06X4RAukBoxjEDGOG6QIKU3vfOh7pAIqstHOREukAYoSdT+fi3QGRGYOUXmrxAgIISZyhPt0C/2IvdY023QOpDPzfJQ7dAXGjkdVPzvED9kZw/Stm5QInCWM4vHb5Ah5UCHOojuEA0fsBTGCq4QIb1riWsHrhABMb0FfmntkA2/ljL3322QGVKO5tpM7pAg+Bsj9WrvUAOUj8LAya6QJ5j1/FOHLpAhw/JHp79uUAxrAgy3q65QHrh4UnBiLlAT3ujgGiYuUDnWbuPDs26QA2KFIE107pAsajZfgcuvkC5tF4jcP+5QGWzRmkgNLpALZ8+UVASukDguMuoO8C5QD/u1V51qLlA4fGvR5qUuUC350Q6j4y9QDyygP6kor1ADiuRI0KIukC5D9XZSwO3QBXkH2hkQrpA6gmq3Jk0ukDzyNI760u6QE0LKB1vXLpAisBBbtiftkCrjSITP7W2QL/yhv0gULpAPE3Kcp0fukBSxdJkHi+3QEPKWJLqLrdA2ea+pdMuvUCTFKoBM7C9QHjh61Pcd71A8aDfaNjJvECTNhnSHlq6QKUe6OlaSrpAIxfqLat3ukBZWUmcxmW6QFYS64zIDb5ATE/izllPt0BjgtnMt8y6QIfLBQcH6bpAMYw6nfoDu0AOsO8HfaS6QNDWNmUEnrpAOpruySzTu0AHvnuEFYi5QEz0RuN4brlA5z86IaqFuUD/6JnjL0S8QPPNTxCwL7xAxdMu3MBIvEAFlht2U++2QGARow9LyrZAtgj/0rnqtkArJPIxAg+4QCBjLot9YrZA4C8cUJC4uUBfRj0fXUu6QIFDDL5NNrpA/4JoBJhMt0DWXb7j77W8QHl2mtDiyLxA/G6cDxLXvEA8WNtt+RO5QCniiQVhJrdAKPULFzZNt0Ag6kwjgCq3QGMqLIFwpLpAS+ub7dSKukCENLjV9qa6QFRjeIYfg7hAELurO9R2t0CSjt0gCW+3QGXoUsxXg7dA1ixZf9rTukA5aGgmZHW6QPcupjJPfLpA7NYF0XMzukDkY96PW3m4QBQNgfCjT7dAapZeLqI7t0DKCnv82l+3QKBqbPhUardAdihE00OFuECFrCSHYYG4QLtCSkCmObhAxtKDN4KdvEC7ctiMYsm8QCJxgAvt6bxAuqF6OrHcvUAsVX85wLC9QNIcz2ifTrpAwAclPSexuEAAsEK48PO7QJnxHw71JL5AithX4787vkA5SsUYdo28QJojvFWEibxAFwjK6hI+uUCevNfZKyC5QKAaOFc6sLZAbQJR1aleukDQgJtGJmq6QG6yMt6yw7lAZRzGaAgIukBdBzBOhb+5QJobb+PUD71ASaWCe+GduEBq4UCZyYy4QHmKChgorrhAbZU2T91+ukAIVHzzMM25QMPvKDcWqblAXcNfBwKhuUBxkrNwBaG5QPuGLjM/qblACszzrH6BvUAJh/Eve4e9QFrItkAj37dA2vRqJLkCuEDaPA9ey+e3QJd7bsVeJ7pAmwoPZkbMuECUZ1CbbtS4QKu6UZdQorhAlQtLRfoduUAn3P0YNdy4QJzU34XDr7hA6iX9o72quEAD99JS2+27QH6ulWIpH7xAS6M0zy3Gu0CTb+7AFn66QGHcRn/CkbpA0CtGhj+2ukBVdiU8Pca4QArYnm5ftLhA3CKS/RrmuUBAR5+Ypd65QIetCNqdurpAVoZ4Y5YHuUAVK2rb8O24QI8jfVIVDblAzFIDjdUbuUD6aHfipgS5QL0D9I6rL7lA4ejQXmnpvUAc+z/oIla3QPvAvlEHRbdArZrQTNT0tkCMkRLupgq3QAZqK3MY8bZAD5mU/yoyt0AF6mZjnSi3QLO9zX/vIL5A9z8VAohUukD++tJ3s3a3QPg9XJczOLlAOWJW2p2ZuUCgIT6OYqq5QLzkClDjLbpAZWpNNUBOukDBiyOYSyq6QMGH8TkeyLlAD0lRdMHfuUC9wfOI+ai5QAmxIr02cLpA6TIKGZyuukCplXi25Yq6QFUM7PLBbrlAxf4mBcIJt0BS6uHwt3e7QFSpNi9naLtAzb+j3DZzukDEI2fKLFO6QGg8JbXVTbpAT000uxLpuEC1rJh46hS6QLJgEzzg/7ZAzidzs5R5ukCCLSeltEW8QOLbox+ub7lAoD07fTl2uUArGoXGDdC6QCMsKEr7d7pAj63fUoTQukA5Uh0SqWS3QLulz46zWLdALKRkm4L8ukBF2Spbloq6QP4kHtBwoLpAX8TJEU5dvUA4wKGaQmG9QIfspxiaeb5AIYgSr+VovkD3wgqk+m++QI9h09iUP75AzntfBRF+vUAriOH6cmC9QDf0ztNGnbhA0Y6xhvyJuEDGPXPOTeS4QIzZ5QHso7pAV2ZMgY+eukBFMrxJSBa6QMFQdBssALhAN1NO2gQcuEBjEFN3H/63QCcIqun2XLhAMhshv8kwuUCv/iIur0y5QBm2Ftw/l7lAf9DvmukhukCzgHqH9X+5QJx3oTEYc7lADFHMyjGbvED/DizMacm5QIEhMqMpwLxA6c4qsXG3vEDP20um3668QCJq2vb6XLpAYvWIyLVVukA3vDgO3ES6QNfiZYgqy7lA44WJuy6kuUCvLGCY2Sq4QM311m0SM71ACp1r93QxvUAD3UMyiDu9QIG6BTSUTrpAWxVea408vUCLCc6Gfli9QHR8PCouOrxAQHOAx0lKt0D4q16LQuu4QDBFyj2X7rhA7EF/L5luukCU5E0t9qy6QBR356KZbbpAEKIZGhLGukB65/N7hbO2QGUhKsNUeLtASlwDWahpu0DO7CU6kPi6QIujQtqGyLZAsjrMY/VaukC42rhCX2y9QDs6Kku3d71AJT7ecXKPvUBG4UuRpnK9QNmrjiZzhbpAiPXHiAZfukBAHkhdOUW9QO4McWAAs7pAcgJJZ/yuukDxTZKY9re6QPqRNSLYd7lA7ZdpTdoQukCpzsrUJuK5QBMAa/Q9PrpA99HO7HFFukCa+AjO4Lu5QBp0WLcZfrlAHFBO+YoyuED6SpACXSK4QOuuyhduLbhAQUOIMtizuUA/ShxVx6W5QFiThnrMdbpAyQBU3OYDvkCErY5VePO9QAwAeML5r7tAJr/8sQaJuUDNLcruwXy5QNe0F3JZT7pAPq5MEOuDuEB17tuZE8a8QK8KQ4E5rbpAkiIbSxuBuEDFnmITY925QHgNUvGP+LtAK6ko7XEFt0CwwhJn7BC6QJXaUGX8/rlA8SpCm0DmuEBbuXRgYme5QOB3HkqmzblA7jbexRnxuUCEb2Q3CGy6QJvCzAob9bZAfsXrUnkdukAiFB5FFSi6QD5QbEJ/VrtAJ+R9Uvqvt0Dl+Em4d6K3QI7hmm6XhrdAswGr4naKuEC7hDISJf+9QKLWx9Sb771ALUp1Bbq7uEDMhx3BIM+4QMIY3bdOe7hA8dKW1QubuEDVJf3u2Zq4QOxd0fRJlrhAnqRfThl+u0B2q9a4kES7QNmLhbJr2bpAT1Y+RlIBu0AkPVzEhci6QOxeqQfxybtAiReE7fsEvEBCww+MGja9QCGsg8pY9LxAmi1IHMdUuEDSjI+AHcu5QPD81Cco1b1AbsfaENiovUCSGzEDVdK9QD3hfrWOCrxAX1XtuogivEAFesmCesy6QNRypdMNuLpAJ1PtTBF2ukBzHvccjam6QGWv0af3erhAgi5/BZOQuEB98LdijWi4QH21mWUs2blAnKsx+Y3auUDCvM7I3u+5QOVPAlxgJr5AZghiUX0bvkA2KcvabTW5QGJBmI+nCLdAUbGEFq9TuUApuK7myKm5QAg7AamiJr5Asq8ktTvrt0Cr/JEMe/G3QHxIDriWiLhA963kyFepuEDeZbRdCpu6QA2J+1a1A7lA9e2rWGTiuECLhbmFnJu6QINb6b8DtbpAh+5ulg8hvUDEcffWCb69QA31NnD7lr1ASB4AVvaSvEDeEaZ0waC8QNGcfVqgNbhALZaEeTBqu0C7O3g8Goi7QOSPF4cgULdAfi3+0qZ2t0BeVq4+yZS5QMdCB071tLlADKy8eDC6uUDL/+bZXka8QEbIHy+Ug7xAHGcOzwcYuEDpc0pD2vi3QCl6rQvhGbhAGKluH3QmuECbqPV1zm+7QCKCEfOhiLdAENhqeYRzt0CdgzROE+i4QMsFz6xBFrlA1NDZaWkduUC7MORQE/65QAUdp+j0Hb5AU1d6qBIPvkBelKYWkEi6QBKsBiA0wblAgXpgMAqwtkC5ltWlpRa5QNRvrRD89LhAU2Fgaw4NuUCXR5Poh1a3QAbUUv1klrdA4urTqX+pukDRTTOSiEi7QGXxLHIoMrpAg+3ZK7I6ukCfj4Bg0ja6QCE45NA7MbpAiixw13HqvUAHQvqhar69QOIturvQIrpAY+qfDqYcukCVtAyFFu24QJT0HE6m6bhApg5596R7vkD3RmN7QYG5QB9/iQovurpAgYnHBd7QukDthn3a4ue6QCRdxAIuVbpARQdJuoh3ukAjiqKLkna6QDJV+5aJc7pAQ5gTaP8St0A9leZfODS3QKg1ZBI7Rr5ApZ/JrviUuECMaQsvlrq4QLbhSe0TrbhANNX/UWJnvUCx4XE6oOa9QKqfsrCSt7hAkvoPRKiNuEAmYWlmqYO4QHzcLYg6vLhAjjSAWAtOt0CCj+sNfWm6QAustrFn0blAMPkb+pKwuUDJCMtcpIi2QC+tvbSFtblA2TQWQz/RvEDvh5H08Ju5QCxcmNnogLlAt4w0oJODuUBVGyJ/iwa6QCwrhtxdELpA1yOvbPAXukDAeRTG3B68QGxZTGrTArxA2gXXehoEvUBHsRE94aq4QCXE7EGJarhAr9lagyROvUBvHHsW3nq5QCm1DcajeblAWXpAMGclvkAVrl+zhiK+QI7f/oMcwrhAuGempHbBuUAFqs5TmAm6QDRtQldoAbpAU7XVYGBuuEAnf7gpbIG7QIyb22B+n7tA0wvVLAVUuUAJ17H2nTa5QHOswxxZHblAuPUDZIAWvUAnysJ1dn65QKjWX/fqp7lAoSul4EBeuUD6GTfGoca6QJynUFKe57pAez1l33biukAT9Ixmb5K5QMj6KWCpk7pA98BhcWiTukDADYLExpa6QD2dbVS/R7xAmzpxmnlCukCpYp7C5Va6QAI112/8/blAVI68YtTWuUBNv5phJKW4QNrGppVXgLhAw0hVqNhwu0BmA3+hj624QKtZIPhWGrxAejUDmGoqvEDqoOC+qz66QLxXnJQfR7pAtFUdOGS8tkA9iPlXrR23QAuP6VMXSLdAiZbMAA4mvECPNIlyOoC6QCimod2Im7pATHzWU4/HukDv/LLa/324QOfhuZ/spLhA3EpbeZq6vkB+Zyovfru+QOYMtR1W9bdA+pRB9V/Ct0ABeJQwOXi5QA0sZ0J/i7lA+o9I05hIvUBP0nH/1iy5QIRG6gdkJrlArCGpiClhukDjC6U0NlK4QJvIrwluS7hADeiVnfZAuEDGJZ5pJJm6QNQbTu5NU7dAWGvj+ISSukAwGOrv1Z+4QB5w5TPEarhA53BFgl54uEC/xdjjCbC8QB6lvYCNSrlAlmee6YQEuUCwRtvS9t+8QHSIk0w2hbhAGf87WApLuUAlUvYVkKi6QOsfQwiqlLpAtbnYTIehu0AdiFVHXr2+QC11I07S3L5ACfePmTvcukBTNIxqeve6QPqztefG3bpAaHqbyxeQuUB8Af4mL5S5QFlLsxAA7rZA6yopYTkJt0CV22LWsAi3QF3OexsiQ7pASJLQjzg6ukD2As5XVHy6QOrASWycEblA/I3osf4mukBE2HHi9+O8QH9hUUxlp7xAxhq7lwbjvEA38T3hbhC5QMx+1WZrJblANa9D+65OuUDmf2GT9Da9QE14gJzZ1bhAeT2y7CbMuUCta8OLfhG3QEPYM6EUFLhAmpwaun/St0AUX38ljcG3QBRoMvYefrdAIA8sBtoFukAdrl5g7dS5QJk+u8swm7pAHqsPowqtukDDATr077i6QKliBE9PNbdA0x+s7m0et0CNtM2/Ldi4QFCPUsY//LhAxzQWK1X6t0ArPxCbUO63QOtwSqPEBLlARAAS90i6ukDKr+hB5N66QMEQkMNAYLpAvCaGmxVsuUCNHXadWiC5QOu+fhtY971A2kRH/1fOuEAQABbtl6i4QGx2gtVNZL5A1esKroD1vUDgQFsCC8i+QJ3glKRtwblAWGz7iFZpuEAcSSVj8S+4QHxLeISJerpAeO3g+ohmukATCsu42dy5QPbt15tkGL1ANLebjaX2ukCWW4q9Ly+7QCwH+idlsLxAlbGWyCbDuEDs/XSgqsi4QA3dG7yFC75AEyFWn16NvUBl3Ku9Ibm5QJfW8ppa1LhAO7C49wneuEDbLkcYZJS6QKXW9FEIl7tA94H9lqOhvECQncCRJAW+QD4nA4LKDr5Awy4pI+wevkCIGvJVkX29QPQbbAcKr7hA/GYQYNnXuEB/DAOEff29QNy4mGhr2b1A8lMV+hP6ukBOZuZUR6C7QOlnPQimz7ZAOLInCXumtkA2PBOPgem2QNHf9YI50blAKNoxwabyuUB/XZ/zcrm3QD5VvY++VLpAlgvMJuEpvkBH995CgRi+QNMCdtvyxLpAKVLtdvbHukD4rjnri8m6QKbc1sWG+LpAfGHHVAbcuEAoVPQJIb+4QE1y5aJXfr1APp+igAkIt0D5TpjN+Jq4QGgTrpizubhA56eES5N3ukBePfmvZE66QGs11imkH7tAm3oAYiEBuUDHuUxF8sK4QPtzJvFH2rhAXXrthFAouUD8FOJeR7W3QEmfbCFUYbdAjbrEXjqnuUBEbQyN7lm6QIXswA5kHLpAHrNjmOs8ukD+esrteBu4QDYwKxywALhAfNNsKJz5uEBfJj7Risi5QPmsXJEUdrpAtCQD7kgquUD7KHgHDhO5QDHe+DgFUrlAvchFP/EHuUCotUboPwW5QDevZBwmKb1A9rZXXt4PvUCbk5+Hqs27QJ10yIAJ1rtAv3rn/BTkukAu8YTMbIe4QBkL0HasU7pAcjME2SrKukCQPXWgQiS5QOkvCiGw/bhAIFezlBvltkAJ49+es4u2QFcFsAqA+LtAy3vj17zGukAM6UiMiO66QH53koYF0LpAhTbW7RQTt0Cfr+UClDK9QJMw+fSOHbdA6cu+F+CWuEAtOpmJvK24QAtcoSYy37hAQr+IWWSst0ABURT88Ny3QBmzxuJqiblAZ0F4tr3nuUAGSP+bDQG3QOeLbQZ7ALdAxkBRUpWAt0AtcP11GCW5QPUZ/XUab7xAh7CLML16vEBF76Imnfm7QEFfdU6qErtAI6Uzc4Qcu0AT2lkmmHy3QM5srtdwG7tAXBqtQBFBvUBIpZBMqFy4QCe+zXKxSrhADQ9xml4svkDDl9gL6Pe7QAQJygPHA7xADOpjta8XvEB5fRQMIi66QAHJu0PmFrpACi6CqlWSvUAmsRWghrW4QJc45w17ybhAzMuC/9qhuECmyVnAbjq5QKt20v9beLdAhLXDvIr4uUDFeqKSh4q5QMN0Wb24dLpAX6O2uUJSuUB2L5NgU6i9QNx7JTb0jblAaFFlgsuouEAshUAZioK4QOWhAPljJbxACmYnK4X6u0AD6xxhpTW8QJqYIhl9H7tAXPzu3pfFukAD7OvAd+O6QEbRUDBs07ZAPLrpfkqhuUCfk6lODo65QEvDP0Pvt7dAIWL1BE3Rt0DbFTQMFP29QBRcOaQZCb5AFelLglIcvUBQoWtO9iK+QGTv0ZeFSrZACfDyLEhJukCHgKzBmaW+QEsn6SuIPrxARDR89ayJvEBF6tuOv0S6QNW5rBTD1LlA9YevQ27iu0C2h1Wu2p23QPiVg981hbdA5WXXXrVPuUA+FFxwPE65QH1WyrozsbdAGKBrefWnt0AGBcYVu267QMeAXEVaS7tAEpkOFNqTukBUM5ZyYXq6QI1hKihXubtAxx6iXkI+uUCs5F6L0hS5QHvhIJfMKLlAQ9D6U/i3uUDuEGAQMWm4QPYKuXJLoLdALvUIhV0luUA8vPvMxMu5QI9IMMFHILlAVPhns0OItkCXRdlhmvy4QD7sQHqBXLpALXL4fes9vEC8JpE/SVK4QEH/uOtQo7ZAdT2SNjNmvkCEUTuP42W+QL/IOCAar7lAzADVHPfGu0CzT8v1ddK7QNeNl2Np0rtA8SKinp3ju0DOv6oGEW67QNjKA8sQf7tA5aWyB+jLukBVTyZqraa6QGNLsmuOb7dA0VPSuhBQu0D6vKda81u6QINHytG0B7lAUo2AAwNluUChYi9U1ly5QGGfjx60qbtALwlYvYINuUDfBCpn4/K4QIcQGLO+ErpAUYHrXS4pukBo+j9miRy6QFq0eJpC+rdAVzguzXcSuEAj4fGSICG4QHBuqku+HrpAnMjbw4FRt0DuFm449oa5QI3kSscvBrpAeBa2me4pukDBk7FExe24QM2sX8ggirlAmBWVwgNSvkBK7y2K3Eu3QO/6rCCML7hA/M6KUlbLuEDE3/I8y964QGiYYd0UqbhAKyYnt7q3uUBwSbnBR52+QDdwgY67Q7lA//YVXJtEuUBoDEE2mjK5QOMg3DbeK7hAIPyLIhYeuEB1elUIMzm6QOd4UtYTZbpAewdbS5ijvUDNukWNiSe+QEx0Y2+JKL5AssVQ9gm7ukA6xAtahEG6QPmwz1b5WbpAoIAjeP45uEAqtBPa5Am3QLYJNWYWoLlAQU3hRfC6uUDUdo7521+6QFJdHhr3ablA8rLEW4+quUAQ6c84Dza5QGyWmXHKQrlATJob4L0xuUASPquiPiK5QBU5/2cFBbpAPZbgTAj+uUDU5/Nij5+8QFqld/fqNLpAgQElhr5dt0Aror2p6fe3QK/whK0KV7hAfbCT27nRtkBNrKi01be+QB8FzdBjq75A54SaIqGhvkCIN90P/S24QJ9hr5a9QbxAnUyP8sqguUBsanSIiba5QPtFWdqugbhA/TtdUYnftkBCwuRSmTm8QER8yBfTirdAqDqEGI5nukBuh1trTTe9QHg6yxN7cbdALeFJV/mLuEBi2WdZwyK6QKL0nBWikbtAtr3MTHLhuECaW0x4FgK5QPu1QfqbPrpAWysC6+ByukCwsOPR4+69QHCmaMCYQLdA8a6pdVjqtkAfV6aLqai+QHYLIryTHbdA8fkbydgJt0Bwhr35Pgi3QLst/SCNG7dAQkjC7oz4uEAI92bzJ+q3QB+RRyt3y7dAklLUq5aYt0A/kHbrKxC+QA5Ky9ydGr5A6YWZMWs6u0AGEBk5tNq7QBVRqOatk7pA4JQ72I7OuEAOMsWCdNS9QH20tVGtOLpAPf6Gln+bvkB5lBYogdm5QAQockBNKbxAF9jyEt5dvECvsM2Uhy68QBu5++FbRrpAGGGa++8HuUCYRvVVzZe6QKXLZ4ZFDblAXoJaNXzJu0DerNLz69G2QMX3EOpt8LZAc8m4gzAVuUDjAp1cRBK3QLiQ811vab1AVixCuApTuUDXT5/HPFq5QHCEfuOwB7dAyovsZ5P3uUC1M4Gg6Vy4QGtgDfLmg7hAAGljci/2uEDerI8peqK6QGFRMCYkELpAbJGn5t4zvkDP/M3bN+C7QKUtf8amt7tADZsrdr80vECyw7NRx2G8QIAJ0inmDLdAVVcJeRy8ukC1MZ5Zu2y6QONoI3IXQLlA+Z7uWaP7u0BFlcBr6IG4QPE+XeLoXrpANoOq3lVmuUBNXydjIza6QBcO4kA5VrpAGB3AhzsCvkAFohS1sRO5QBAYCKAZjrhAmfMOzcKlukCWPe7CmmW6QNeY8q8R57tAbXY6bj8uukBsghYoMc65QFmR9kgJtbdApW74qDCct0Dnj+VBIsq3QNVOjyH5K7hAUVgO+EUTuEBW13zNcje4QMpgVuP6Y7dAKZYXSRbBvEBkJ3/9Y4C6QLSOOdkAwLpAsz+ascIzukAbbbfLJta5QGOaLvrSqblAlJZwmezjuUD8qfkjW4u8QLmML0WHvblA1r6adFkLvUCaFvivUdu3QGGuWm8m/LdAoRr/mkseuUA5N7cX5Fa5QIex6ZibYrpA4y4Fp6/NuEClATIQoZ23QNTJe5VxmLdAoaqICxP3t0DGGKqp5Y63QKOnhT2wx7lA4vCs0ExUukB5k2mCowS6QHJ7vm5lQbpAFdvxnjA2ukC93bb+jnO3QLrbzAFqgLdAi/LJyKhRt0BcyXrSBOC9QDUbGOWu0rhAD5TdYWKCukA9GYSV8468QAd7u/HRYrdAwiReLC9Jt0Balzeq9d+5QOLsaDEtMbtAeR/oa2gYu0BIdVCkNCK5QDGh7rW07bhA3b+mawbzvUDVrf6ZA+a8QFGH13/23rhA20ZcD/l/vEA2Ezj527y7QO2rHSKhBb1AOcZUNPWJuUCvYBA98v29QMt2jPU3yLpAj9H5tjlduUCGfO21RXe6QD66ojyve7pA4b+iAasEukBJNKx9EZi8QExJ7MeSjrxAiRLiWKCzuEDtgoqX/Qm3QE+lnmZemL5AOtGeVirrvEAvcwctOXO4QPsfNxkrj7lAK+FaDficvkA0BPBjvwW5QFVnxfgNxLlAGsZRX/QXukDFl591L8C8QORgAxFUXrpAOzk9gYYWukD+lhvL0MK4QB5xzBzyHbpA82OimorXt0ChKTE3haO5QBwCY09T2rhAzEt7IyyEu0DpO+aqcEm7QGsndvUIjrpAy5CzEj48t0DxUJVPcmq3QEd3qj55YbdAuPFEkU+Qt0C9XoPZMJS3QEpfxhN1iLxADJdwfLGVuEB9au6ARpS5QJnOTnBbd7lAhk+UXBkyt0A97qGb54K6QESHxsgmMrlA5185BH9zuEBFfE+UJVG7QF7EgvkJs71AxQizR45HukDxQ31LUka8QHCqe269JLpAkN4W5wMouEA9ReQSIxC4QLwUPFbUE7hAVcid/YM4uUALobfT8fu4QGExO9bdMrpAjPgkNl1VvUD7HiGE6kG9QL4igwclmblAsSdNJy7DuUD0OOHUn/C5QJIB9IXQRrlAlWvaRrJmukA4ATt/LE23QC7DeeNLoL1AQuAN3ypkuUCGfsNxxFi3QBOo/hH/9rhAb67reS0muUDNH2znOWW5QE1YE+PAvrlAdpnyHoxsukD3XoyOZ8e4QDzh0m6KGLxAhfj2L4qwvkAKUM+qCDq+QI09NX4XBLlAHCj17yIkvkArFLgDbD26QFZTq0fUE7pAZZV7tULGukCq0/6c1qW2QIX9nMV1H7lAVPua66s1ukC89VsK6Je3QJ2AvJl4tbpAVtoKd61quEBLiEev4ya6QGJ6YHUvALlAIGgsUo/svEC7IcdwG3e4QNt5Kc4SMLlAxaD+MGLcukCA/fKXyE+2QDcMizthULdA86FcsBE3vkBw2cBKKfy5QF7sz5jVU7pAT+7jEv6WukAW7697FVu4QJn6wLg0eLdAZMy6yybfuEA/BiK74je6QD68nn2Ge7xAb0adgnASukA=",
          "dtype": "f8"
         },
         "y": {
          "bdata": "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",
          "dtype": "f8"
         },
         "z": {
          "bdata": "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",
          "dtype": "f8"
         }
        },
        {
         "line": {
          "color": "crimson",
          "width": 3
         },
         "mode": "lines",
         "name": "Polyline 0",
         "opacity": 0.95,
         "showlegend": false,
         "type": "scatter3d",
         "x": {
          "bdata": "ivHYwy+FtkBvMrOk5JS2QPmFesxYp7ZAUH7XUtixtkAiDndwpLy2QAqNUQ5QybZAuFZwzxjZtkBRdXYtgOG2QKgAI2jg9LZAMIBartkNt0Ao3pRvQhm3QB+uNG5YKrdAvouEEz0xt0DaAQt7mUe3QNVugwPxXrdAZOzQhFRtt0CHpQinYXq3QA5oSIrOi7dA2bjrOUCVt0A1eApw1623QNwg9ur3zrdAgBsLYBLRt0DLlSXL4N+3QA==",
          "dtype": "f8"
         },
         "y": {
          "bdata": "mOlLz0sVkEARfZsuVTCQQA0sjlR+XJBAJo/dSbl6kEB8wWRBiJiQQBogLrnOvJBA+Er+ZNvpkEAeZPiX9/6QQKxWgyebQZFAG5igO+yTkUBIE12dyb6RQBo0KwtYAZJA3W518H8bkkDPAu5AA2eSQDYKUaf7rJJA3JeSz3zckkCNR8O36Q6TQMe5wxK7ZJNAbegaGxm1k0CRVg9Z1eGTQNaO/FSa85NA0VI88wUMlEAjxC+laVmVQA==",
          "dtype": "f8"
         },
         "z": {
          "bdata": "pBlMB0jNqkCQUUbYntWqQN2gQBu+4qpAfG0N8CnqqkBnP44g//GqQJ6/sctl/KpA9bMLhHsKq0BCuqMCDhCrQPB4ftwfLKtAd+EWcA1Hq0B9Rjf6bVKrQM1AFrgcYatACKVu8cpkq0BXLEQ+8WqrQGBWHQTdbKtAk/zwxzFvq0BrSWXYhHOrQGbyevkLgqtAWnQKD5mFq0D1GOJUeperQGB1A6Xks6tAAN8zpQO2q0A3FM5IALCrQA==",
          "dtype": "f8"
         }
        },
        {
         "line": {
          "color": "crimson",
          "width": 3
         },
         "mode": "lines",
         "name": "Polyline 1",
         "opacity": 0.95,
         "showlegend": false,
         "type": "scatter3d",
         "x": {
          "bdata": "8/IH28KNuEAoMYauTZu4QAuflhdiprhAMKVzpC6/uEA4Lov1bdG4QPHKRMUi37hAbX4rTkzwuEBY8JUv8v+4QH8nnsKCD7lAl3ap3j5FuUA=",
          "dtype": "f8"
         },
         "y": {
          "bdata": "jUebCtKalkC+zwhO63qWQF19S1db55VAQ0THYelilUBsZ2l05yWVQAaUMsjQBJVAnXJiEWTllEAZU36yzsqUQKMAzq4xvZRAF+KrSEGzlEA=",
          "dtype": "f8"
         },
         "z": {
          "bdata": "6lP8H1qPrkDGaM2Mi4yuQBLET2Utda5AxMSx7m9IrkAkmrFfByyuQBqFMGnYGK5AsE24CPoCrkA3y5J6qO+tQDPdAdbb3a1A8pZ2c8+DrUA=",
          "dtype": "f8"
         }
        },
        {
         "line": {
          "color": "crimson",
          "width": 3
         },
         "mode": "lines",
         "name": "Polyline 2",
         "opacity": 0.95,
         "showlegend": false,
         "type": "scatter3d",
         "x": {
          "bdata": "1Vis2S+YuEBNSHMC8Ja4QCgvIMLRlbhAophq//OUuEDBziOi6pG4QC5Whm0Mj7hAMMWHK3mNuEC9t2VQHY64QAgc+rFojbhAFJw7WGiMuED7AdTjuYm4QBYCtYoUlLhA",
          "dtype": "f8"
         },
         "y": {
          "bdata": "EwOYZPzcjUCOqkZAZDGOQKKqWVyB6o5ASvaqk0pAj0BBgaH66aCPQMUex5/EIJBAGOKOzQ9RkEAgULbEhYuQQOFz4LES15BAV4+GIco2kUBSDVo4l62RQFnbhQXPApJA",
          "dtype": "f8"
         },
         "z": {
          "bdata": "qYnsc0Sdq0Dx6wGCb52rQGIGBwtmoatAFq9IuSSjq0C73f46+6OrQIVuD6BPqKtAqPcbdqiqq0CQwbnrHrCrQOvM2lzptqtA3ZW97srBq0A2fsj2JdGrQEUGFkXyHqxA",
          "dtype": "f8"
         }
        },
        {
         "line": {
          "color": "crimson",
          "width": 3
         },
         "mode": "lines",
         "name": "Polyline 3",
         "opacity": 0.95,
         "showlegend": false,
         "type": "scatter3d",
         "x": {
          "bdata": "CAoXcxVhukAcO1PbVW26QKRvcVwpZrpAJKSAc7diukBJSe3svF+6QJFfvmmMZ7pA",
          "dtype": "f8"
         },
         "y": {
          "bdata": "OoZ9OeSglUDXqlyeBJyWQEMZioP6SpdA+h1+rkVzl0An2cfOg6GXQAgRX8b755hA",
          "dtype": "f8"
         },
         "z": {
          "bdata": "A6fJGXtbqUBFQJuY7mapQEPy5n4TX6lAvHjSTiNeqUAigGa2pWCpQLibZU7eh6lA",
          "dtype": "f8"
         }
        },
        {
         "line": {
          "color": "crimson",
          "width": 3
         },
         "mode": "lines",
         "name": "Polyline 4",
         "opacity": 0.95,
         "showlegend": false,
         "type": "scatter3d",
         "x": {
          "bdata": "CAoXcxVhukA7psMU7D26QI1I3Yc1PbpA",
          "dtype": "f8"
         },
         "y": {
          "bdata": "OoZ9OeSglUCuETpsAhOVQD9MXagiFZVA",
          "dtype": "f8"
         },
         "z": {
          "bdata": "A6fJGXtbqUDYdThtBSSpQF9gZHihIalA",
          "dtype": "f8"
         }
        },
        {
         "line": {
          "color": "crimson",
          "width": 3
         },
         "mode": "lines",
         "name": "Polyline 5",
         "opacity": 0.95,
         "showlegend": false,
         "type": "scatter3d",
         "x": {
          "bdata": "CAoXcxVhukAjOsivPLW6QA==",
          "dtype": "f8"
         },
         "y": {
          "bdata": "OoZ9OeSglUCoIriJC02UQA==",
          "dtype": "f8"
         },
         "z": {
          "bdata": "A6fJGXtbqUCxgaSpu9ipQA==",
          "dtype": "f8"
         }
        },
        {
         "line": {
          "color": "crimson",
          "width": 3
         },
         "mode": "lines",
         "name": "Polyline 6",
         "opacity": 0.95,
         "showlegend": false,
         "type": "scatter3d",
         "x": {
          "bdata": "77XZCTm9vEDtBm4sBrW8QGjFameGsbxALh9SwHiovEAQtL6gCZa8QGM3/wn8h7xAW+C0mhJ2vECCbSh6qGy8QA==",
          "dtype": "f8"
         },
         "y": {
          "bdata": "vUoey3xRlUALAEm6UjyVQEg2etuiMZVAXWSdagkOlUAI7CtCEsGUQHrpAbHdcpRA4+lT29tVlEBAV8+DgAuUQA==",
          "dtype": "f8"
         },
         "z": {
          "bdata": "moLWA2fop0DL855TeeinQLlAVaji6KdA2sEdmvjrp0DuqgFSivmnQImsiaY8BqhAFwXzXqUVqED27BdDMyuoQA==",
          "dtype": "f8"
         }
        },
        {
         "line": {
          "color": "crimson",
          "width": 3
         },
         "mode": "lines",
         "name": "Polyline 7",
         "opacity": 0.95,
         "showlegend": false,
         "type": "scatter3d",
         "x": {
          "bdata": "SdXVUlcTvUCA9BOhoBi9QEsnqMFgHL1ADvvxAsYTvUAQXm4bqQy9QCbeixwsAb1A3cQ1mvYAvUCsJu3KTeG8QA==",
          "dtype": "f8"
         },
         "y": {
          "bdata": "hZU9T7kdlkCG5cQStPaVQCBfatJPq5VA+iQH0hs4lUCMJjDAmOmUQAEKw5yXrZRAo9Dh/i5GlEAXmLESgZiTQA==",
          "dtype": "f8"
         },
         "z": {
          "bdata": "5GfoZyycqkAiIdOG96CqQNYg1MbGoqpAwrkvylqbqkC1QNmUQJWqQMYfctgIiapA66iRn9JeqkC9OG6yPxeqQA==",
          "dtype": "f8"
         }
        },
        {
         "line": {
          "color": "crimson",
          "width": 3
         },
         "mode": "lines",
         "name": "Polyline 8",
         "opacity": 0.95,
         "showlegend": false,
         "type": "scatter3d",
         "x": {
          "bdata": "5YJzUbq7ukCgv93yXZ26QEB2Adnri7pA6N//TDg3ukA=",
          "dtype": "f8"
         },
         "y": {
          "bdata": "x9eUWenbnEAqqpkNR3ScQP3y/27tPZxAmptjljw+mkA=",
          "dtype": "f8"
         },
         "z": {
          "bdata": "R5YYuH3Eq0Dsz1Yuj7mrQGLn9n1Nr6tAjn8cfR0Bq0A=",
          "dtype": "f8"
         }
        },
        {
         "line": {
          "color": "crimson",
          "width": 3
         },
         "mode": "lines",
         "name": "Polyline 9",
         "opacity": 0.95,
         "showlegend": false,
         "type": "scatter3d",
         "x": {
          "bdata": "tNuOolc8vkCsjm8egjK+QA==",
          "dtype": "f8"
         },
         "y": {
          "bdata": "8PgkEGMPjEBLlNgZP0aOQA==",
          "dtype": "f8"
         },
         "z": {
          "bdata": "Y4peOZ8yqEDE26sglTeoQA==",
          "dtype": "f8"
         }
        },
        {
         "line": {
          "color": "crimson",
          "width": 3
         },
         "mode": "lines",
         "name": "Polyline 10",
         "opacity": 0.95,
         "showlegend": false,
         "type": "scatter3d",
         "x": {
          "bdata": "tTrAlxT4ukDrbkJl2OS6QCM6yK88tbpA",
          "dtype": "f8"
         },
         "y": {
          "bdata": "99037CAolkBzC9QJ6ZSVQKgiuIkLTZRA",
          "dtype": "f8"
         },
         "z": {
          "bdata": "AeAz087BqUApwiDFW9apQLGBpKm72KlA",
          "dtype": "f8"
         }
        },
        {
         "line": {
          "color": "crimson",
          "width": 3
         },
         "mode": "lines",
         "name": "Polyline 11",
         "opacity": 0.95,
         "showlegend": false,
         "type": "scatter3d",
         "x": {
          "bdata": "+XP5clzbuUCzZjo9Vty5QCnXD6g87LlA",
          "dtype": "f8"
         },
         "y": {
          "bdata": "UC1HL4n7nEBgVLObrt6cQPhIOwCMqJtA",
          "dtype": "f8"
         },
         "z": {
          "bdata": "+c2BhR24q0C5pOSQUbCrQAfNlhKNY6tA",
          "dtype": "f8"
         }
        },
        {
         "line": {
          "color": "crimson",
          "width": 3
         },
         "mode": "lines",
         "name": "Polyline 12",
         "opacity": 0.95,
         "showlegend": false,
         "type": "scatter3d",
         "x": {
          "bdata": "8Rbvwn4nuUCcbd9sfCm5QJd2qd4+RblA",
          "dtype": "f8"
         },
         "y": {
          "bdata": "RPp+OROClUDAU9AYknaVQBfiq0hBs5RA",
          "dtype": "f8"
         },
         "z": {
          "bdata": "oaEELFEhrkDxXxjVtBeuQPKWdnPPg61A",
          "dtype": "f8"
         }
        },
        {
         "line": {
          "color": "crimson",
          "width": 3
         },
         "mode": "lines",
         "name": "Polyline 13",
         "opacity": 0.95,
         "showlegend": false,
         "type": "scatter3d",
         "x": {
          "bdata": "ZFTOkNtRukCDrMSXlDO6QPLbbfQJJbpASMSyzSwTukAMWl65Z/u5QAS9j1+a6blApj8PkjLDuUA9qKW6lrO5QMQueS10vLlA",
          "dtype": "f8"
         },
         "y": {
          "bdata": "9MFCeHbmlkBhrq8u7J2WQMGtBt7HeZZAPGK0y9xxlkC9K2vT2G2WQBfaapw2aJZACy/aKoAQlkDWVx6bfb+VQEJLYOM3xZVA",
          "dtype": "f8"
         },
         "z": {
          "bdata": "6VSMzXiYrUCEJwZxI6qtQGuM6sEYqq1AbZz4RqiirUA7+g6vu4qtQIL/obTReq1AsosfaqmDrUDKfLSQiDutQB9wNJiUYqxA",
          "dtype": "f8"
         }
        },
        {
         "line": {
          "color": "crimson",
          "width": 3
         },
         "mode": "lines",
         "name": "Polyline 14",
         "opacity": 0.95,
         "showlegend": false,
         "type": "scatter3d",
         "x": {
          "bdata": "kDwHTI/jvUA6GKiXvcy9QHY+Ih8gor1A65bepoGHvUC5jWDMXXW9QKiR3ktLY71A5fycv8xWvUBCtoKUDAa9QA==",
          "dtype": "f8"
         },
         "y": {
          "bdata": "mszuaMQdkUDzT39dcJ6RQLYTbwKp8JFAkNMe+/8RkkBzbvfntyeSQHsRc8RmTJJAHcdWpqxhkkB/6RTB4aqSQA==",
          "dtype": "f8"
         },
         "z": {
          "bdata": "SDVbSsxnqECjwxnCfXaoQCAfo9XyoKhAwhx+PzO6qEDU0A6HucqoQKevvH2w2KhArSfCRPbgqEB2gB7B376oQA==",
          "dtype": "f8"
         }
        },
        {
         "line": {
          "color": "crimson",
          "width": 3
         },
         "mode": "lines",
         "name": "Polyline 15",
         "opacity": 0.95,
         "showlegend": false,
         "type": "scatter3d",
         "x": {
          "bdata": "kDwHTI/jvUDZAlT31r69QA==",
          "dtype": "f8"
         },
         "y": {
          "bdata": "mszuaMQdkUDf2aBqjYSQQA==",
          "dtype": "f8"
         },
         "z": {
          "bdata": "SDVbSsxnqEDHzacOcqWoQA==",
          "dtype": "f8"
         }
        },
        {
         "line": {
          "color": "crimson",
          "width": 3
         },
         "mode": "lines",
         "name": "Polyline 16",
         "opacity": 0.95,
         "showlegend": false,
         "type": "scatter3d",
         "x": {
          "bdata": "kDwHTI/jvUCoQ2oIlwS+QPZmSNhxDr5AqCNAdPMivkCsjm8egjK+QA==",
          "dtype": "f8"
         },
         "y": {
          "bdata": "mszuaMQdkUBiwC9g7WSQQEQscU/cGZBAGvH3Lm8Uj0BLlNgZP0aOQA==",
          "dtype": "f8"
         },
         "z": {
          "bdata": "SDVbSsxnqEA7TAKorFGoQO6iqeW1TKhAHnkvwqFAqEDE26sglTeoQA==",
          "dtype": "f8"
         }
        },
        {
         "line": {
          "color": "crimson",
          "width": 3
         },
         "mode": "lines",
         "name": "Polyline 17",
         "opacity": 0.95,
         "showlegend": false,
         "type": "scatter3d",
         "x": {
          "bdata": "kDwHTI/jvUDcBDmz1Am+QP+fxkwdIb5A+D3/rQwzvkCzxdNx6mK+QMCMQJ+Per5A3UhgFTmYvkB2lSlsFKS+QFQac/GTt75AKzRdgd6+vkD08OElR7++QCCH9xjYvb5A/Q3jcsmovkAGoxQmnJS+QGARmGEPgr5A/Yk3RctuvkDjkx09wlm+QKyObx6CMr5A",
          "dtype": "f8"
         },
         "y": {
          "bdata": "mszuaMQdkUBqU49jFqORQLEcXSFMC5JA9sCnsl5BkkBg/gD+LD6SQNU6tFof/pFA0lvX6TuHkUAsoPzV2U+RQKXsNA8585BAQq8mb/CjkED0hej3WHSQQOO8Ap9GFJBAKU5nA1duj0CHn38WVa2OQDxgu8n0l45AS8H87nR3jkAVZdHpSmqOQEuU2Bk/Ro5A",
          "dtype": "f8"
         },
         "z": {
          "bdata": "SDVbSsxnqECY4WseFiqoQCE17cPsAahANYuT+Jnlp0CTWq+06Z6nQFZzVaaVi6dA2fClWRd7p0Dq6B1oxnanQFPXJR+lcadA5nyyxdd4p0CT6cKIxoGnQOE2jzpKlqdAJtTBlWa/p0Csrs/TdOenQCFo1wd696dA+wAnMtMJqEDv6+tZGhmoQMTbqyCVN6hA",
          "dtype": "f8"
         }
        },
        {
         "line": {
          "color": "crimson",
          "width": 3
         },
         "mode": "lines",
         "name": "Polyline 18",
         "opacity": 0.95,
         "showlegend": false,
         "type": "scatter3d",
         "x": {
          "bdata": "kV++aYxnukDo3/9MODe6QA==",
          "dtype": "f8"
         },
         "y": {
          "bdata": "CBFfxvvnmECam2OWPD6aQA==",
          "dtype": "f8"
         },
         "z": {
          "bdata": "uJtlTt6HqUCOfxx9HQGrQA==",
          "dtype": "f8"
         }
        },
        {
         "line": {
          "color": "crimson",
          "width": 3
         },
         "mode": "lines",
         "name": "Polyline 19",
         "opacity": 0.95,
         "showlegend": false,
         "type": "scatter3d",
         "x": {
          "bdata": "kV++aYxnukC6LCBejuq5QIC8IuaD3LlA",
          "dtype": "f8"
         },
         "y": {
          "bdata": "CBFfxvvnmEASQ28NJQqZQCvVQ+cf95hA",
          "dtype": "f8"
         },
         "z": {
          "bdata": "uJtlTt6HqUCzocR7JyqpQOu08Y+/FqlA",
          "dtype": "f8"
         }
        },
        {
         "line": {
          "color": "crimson",
          "width": 3
         },
         "mode": "lines",
         "name": "Polyline 20",
         "opacity": 0.95,
         "showlegend": false,
         "type": "scatter3d",
         "x": {
          "bdata": "cbtz+fXjuEBnfkac2xC5QN4vBmoZJ7lAdx+B2PwzuUBJboJxZlO5QPu0v0B9oLlA",
          "dtype": "f8"
         },
         "y": {
          "bdata": "D8qeQo2+kkBHGctJavmSQGOfhTGSRpNAoiOuxU95k0CdoWamrCSUQAudX4/oZpZA",
          "dtype": "f8"
         },
         "z": {
          "bdata": "JZJwMqHVrEDJJb9geTesQFWMWYgeDqxAkt7tZe0UrEDBkjbrdBGsQGyAQdntk6tA",
          "dtype": "f8"
         }
        },
        {
         "line": {
          "color": "crimson",
          "width": 3
         },
         "mode": "lines",
         "name": "Polyline 21",
         "opacity": 0.95,
         "showlegend": false,
         "type": "scatter3d",
         "x": {
          "bdata": "cbtz+fXjuECe6Q+ErL24QIL1yeFOp7hAFgK1ihSUuEA=",
          "dtype": "f8"
         },
         "y": {
          "bdata": "D8qeQo2+kkCy7ktNQ3eSQGArSxwKPZJAWduFBc8CkkA=",
          "dtype": "f8"
         },
         "z": {
          "bdata": "JZJwMqHVrEBs/kqVyaSsQE33bNOLXKxARQYWRfIerEA=",
          "dtype": "f8"
         }
        },
        {
         "line": {
          "color": "crimson",
          "width": 3
         },
         "mode": "lines",
         "name": "Polyline 22",
         "opacity": 0.95,
         "showlegend": false,
         "type": "scatter3d",
         "x": {
          "bdata": "cbtz+fXjuEDZk8l3gvm4QFc1k9naDLlAQE8quIYbuUBqIUNyLiK5QJd2qd4+RblA",
          "dtype": "f8"
         },
         "y": {
          "bdata": "D8qeQo2+kkAA6GuXCwSTQCRlQQ4JZpNAxvqNz3i/k0ANRjbAU9uTQBfiq0hBs5RA",
          "dtype": "f8"
         },
         "z": {
          "bdata": "JZJwMqHVrEAtFe6XMwKtQPkfxw7tLq1AG2Kv6/tRrUCTxXCK6FWtQPKWdnPPg61A",
          "dtype": "f8"
         }
        },
        {
         "line": {
          "color": "crimson",
          "width": 3
         },
         "mode": "lines",
         "name": "Polyline 23",
         "opacity": 0.95,
         "showlegend": false,
         "type": "scatter3d",
         "x": {
          "bdata": "l3ap3j5FuUDELnktdLy5QA==",
          "dtype": "f8"
         },
         "y": {
          "bdata": "F+KrSEGzlEBCS2DjN8WVQA==",
          "dtype": "f8"
         },
         "z": {
          "bdata": "8pZ2c8+DrUAfcDSYlGKsQA==",
          "dtype": "f8"
         }
        },
        {
         "line": {
          "color": "crimson",
          "width": 3
         },
         "mode": "lines",
         "name": "Polyline 24",
         "opacity": 0.95,
         "showlegend": false,
         "type": "scatter3d",
         "x": {
          "bdata": "b7zSfb+5uUCJo3n2KM25QCnXD6g87LlA",
          "dtype": "f8"
         },
         "y": {
          "bdata": "28qrOHW9m0B7QnMj28KbQPhIOwCMqJtA",
          "dtype": "f8"
         },
         "z": {
          "bdata": "6xCpm003q0AT33zdVUCrQAfNlhKNY6tA",
          "dtype": "f8"
         }
        },
        {
         "line": {
          "color": "crimson",
          "width": 3
         },
         "mode": "lines",
         "name": "Polyline 25",
         "opacity": 0.95,
         "showlegend": false,
         "type": "scatter3d",
         "x": {
          "bdata": "+7S/QH2guUDo3/9MODe6QA==",
          "dtype": "f8"
         },
         "y": {
          "bdata": "C51fj+hmlkCam2OWPD6aQA==",
          "dtype": "f8"
         },
         "z": {
          "bdata": "bIBB2e2Tq0COfxx9HQGrQA==",
          "dtype": "f8"
         }
        },
        {
         "line": {
          "color": "crimson",
          "width": 3
         },
         "mode": "lines",
         "name": "Polyline 26",
         "opacity": 0.95,
         "showlegend": false,
         "type": "scatter3d",
         "x": {
          "bdata": "+7S/QH2guUCANn6XJ3C6QAp5HoXce7pAQhtGHaWJukDFwQPJ+5G6QEQ5XhGXmbpAL6JoWcyeukCAPJOu76a6QMHGBDxkuLpAranL/5e/ukAjOsivPLW6QA==",
          "dtype": "f8"
         },
         "y": {
          "bdata": "C51fj+hmlkC83mwYij+XQM7BnJuZFZdAeBTugEHglkAdaHhdprGWQEkdTagDc5ZAOPCta8tKlkDaZVMqhwiWQANQt8Dzn5VAkYl9QttllUCoIriJC02UQA==",
          "dtype": "f8"
         },
         "z": {
          "bdata": "bIBB2e2Tq0ATM/N1hRerQKbeiZV4HKtAHr9N6X0dq0BYMmTy6RCrQPMBTGMiAKtAQ+JkgD32qkCeHMR4w+OqQKq4o3h+zKpAZulwuyKKqkCxgaSpu9ipQA==",
          "dtype": "f8"
         }
        },
        {
         "line": {
          "color": "crimson",
          "width": 3
         },
         "mode": "lines",
         "name": "Polyline 27",
         "opacity": 0.95,
         "showlegend": false,
         "type": "scatter3d",
         "x": {
          "bdata": "+7S/QH2guUAxmYo8ev+4QPc7VBWE3rhAMVpISJXBuECIA/7a/K+4QK4SqlfFoLhA2OvuBHyVuEDt0QRBqn+4QGzWX3KScbhAxcQj/QZWuECR5qD/gES4QDGzHeoMNbhAoI+f9dcjuED4X5IrEw24QMuVJcvg37dA",
          "dtype": "f8"
         },
         "y": {
          "bdata": "C51fj+hmlkDgQCJz70+WQKUU/O0bTZZAXcInl4JQlkCO0n1Sm0+WQM1Wv/RaTZZAhWDiISJKlkBTNwwErFWWQIAbh66SW5ZA4vDk3nEQlkAHMSQ2xduVQMznr+chq5VAwuTTiPGAlUDIVaUn5XCVQCPEL6VpWZVA",
          "dtype": "f8"
         },
         "z": {
          "bdata": "bIBB2e2Tq0Bttv2AOIirQAKbWX2WdKtAJ54pDT5qq0DfIGSCgmOrQL7vk1KiXatAe9FOlxhZq0BaF5dAfVarQC/9FhEzVKtAVNkv535mq0BrMn+x/3OrQCj2ksyWgKtAmo2qNAiQq0BguAwvrZurQDcUzkgAsKtA",
          "dtype": "f8"
         }
        },
        {
         "line": {
          "color": "crimson",
          "width": 3
         },
         "mode": "lines",
         "name": "Polyline 28",
         "opacity": 0.95,
         "showlegend": false,
         "type": "scatter3d",
         "x": {
          "bdata": "+7S/QH2guUDELnktdLy5QA==",
          "dtype": "f8"
         },
         "y": {
          "bdata": "C51fj+hmlkBCS2DjN8WVQA==",
          "dtype": "f8"
         },
         "z": {
          "bdata": "bIBB2e2Tq0AfcDSYlGKsQA==",
          "dtype": "f8"
         }
        },
        {
         "line": {
          "color": "crimson",
          "width": 3
         },
         "mode": "lines",
         "name": "Polyline 29",
         "opacity": 0.95,
         "showlegend": false,
         "type": "scatter3d",
         "x": {
          "bdata": "6N//TDg3ukAp1w+oPOy5QA==",
          "dtype": "f8"
         },
         "y": {
          "bdata": "mptjljw+mkD4SDsAjKibQA==",
          "dtype": "f8"
         },
         "z": {
          "bdata": "jn8cfR0Bq0AHzZYSjWOrQA==",
          "dtype": "f8"
         }
        },
        {
         "line": {
          "color": "crimson",
          "width": 3
         },
         "mode": "lines",
         "name": "Polyline 30",
         "opacity": 0.95,
         "showlegend": false,
         "type": "scatter3d",
         "x": {
          "bdata": "JRTgRYtqvEAkM1R37G28QDdLZEmzdLxA",
          "dtype": "f8"
         },
         "y": {
          "bdata": "dR7+3ExNk0CQaUjgg16TQLuqaFLz15NA",
          "dtype": "f8"
         },
         "z": {
          "bdata": "vKtvPS7vqkBKrNod29yqQGFT0+bLhapA",
          "dtype": "f8"
         }
        },
        {
         "line": {
          "color": "crimson",
          "width": 3
         },
         "mode": "lines",
         "name": "Polyline 31",
         "opacity": 0.95,
         "showlegend": false,
         "type": "scatter3d",
         "x": {
          "bdata": "FgK1ihSUuEDeyfGEVlS4QBlI9+IQNrhA/W+UDHEeuEAQFuLyChW4QNc1vW6iCLhAeF/jTCr4t0DLlSXL4N+3QA==",
          "dtype": "f8"
         },
         "y": {
          "bdata": "WduFBc8CkkCPUeXUdYqSQHeK3uSE/JJAzkWC/aNPk0CnBZi0xnSTQE3ogRIDp5NAVRaR1C7Vk0AjxC+laVmVQA==",
          "dtype": "f8"
         },
         "z": {
          "bdata": "RQYWRfIerECJ1qxMfCOsQMUL+7WhL6xA1JYsU/kxrEBiWjGwcxOsQAvcGvEN7qtAhoW8pGfcq0A3FM5IALCrQA==",
          "dtype": "f8"
         }
        },
        {
         "line": {
          "color": "crimson",
          "width": 3
         },
         "mode": "lines",
         "name": "Polyline 32",
         "opacity": 0.95,
         "showlegend": false,
         "type": "scatter3d",
         "x": {
          "bdata": "oWXw2eK7t0BHJhmQ4MK3QDXTLfDkybdAy5Uly+Dft0A=",
          "dtype": "f8"
         },
         "y": {
          "bdata": "KEPtGUfNlkABSMQA47uWQEzKCskrlZZAI8QvpWlZlUA=",
          "dtype": "f8"
         },
         "z": {
          "bdata": "alZPOCO8q0B5/3s2HLirQI17STXCrqtANxTOSACwq0A=",
          "dtype": "f8"
         }
        },
        {
         "line": {
          "color": "crimson",
          "width": 3
         },
         "mode": "lines",
         "name": "Polyline 33",
         "opacity": 0.95,
         "showlegend": false,
         "type": "scatter3d",
         "x": {
          "bdata": "ExBuGmgYukAp1w+oPOy5QA==",
          "dtype": "f8"
         },
         "y": {
          "bdata": "HK5GZV4CnUD4SDsAjKibQA==",
          "dtype": "f8"
         },
         "z": {
          "bdata": "ZLd07Sfiq0AHzZYSjWOrQA==",
          "dtype": "f8"
         }
        },
        {
         "line": {
          "color": "crimson",
          "width": 3
         },
         "mode": "lines",
         "name": "Polyline 34",
         "opacity": 0.95,
         "showlegend": false,
         "type": "scatter3d",
         "x": {
          "bdata": "m2396gp4ukArPcKDAXe6QDuikUSTcbpA3Fo448tbukCw8xS8VVK6QHVaC1l4Q7pA7dYHUoBCukBEKl7H+Em6QH8Ib+o2VLpAkLFude5gukAjOsivPLW6QA==",
          "dtype": "f8"
         },
         "y": {
          "bdata": "vMRw6IlQkED60LDkd1KQQJVoPrWMX5BAv3tBkAWgkEB8Q1kyZcyQQCWuBFQKPJFAPcfPgWKukUB3iW2SYAySQHpOgceBe5JAF4Z2qeq+kkCoIriJC02UQA==",
          "dtype": "f8"
         },
         "z": {
          "bdata": "XO+pAYvVqUDFGNLbHNGpQKH5Ml/HxqlA8OgiDd2mqUA4f6sizpOpQBrF0e1EfqlAyd5qbF6AqUA+s18eOIupQKC6jB+tlKlAG8GiLUegqUCxgaSpu9ipQA==",
          "dtype": "f8"
         }
        },
        {
         "line": {
          "color": "crimson",
          "width": 3
         },
         "mode": "lines",
         "name": "Polyline 35",
         "opacity": 0.95,
         "showlegend": false,
         "type": "scatter3d",
         "x": {
          "bdata": "4r4U6VJYtkBbQXVx/Gu2QOtFMDfPkLZA4s42iIyhtkAJlzA2S6q2QBLQsq2ByrZAGZqiaQzbtkBVN7FREA+3QA==",
          "dtype": "f8"
         },
         "y": {
          "bdata": "oJIjlo8NlkDnSbeP6QmWQE+Xem9gAJZAR5AfnZf8lUDcNggrRfuVQEjIFjti/ZVAf4Bn4/H9lUDIzN4Kn/iVQA==",
          "dtype": "f8"
         },
         "z": {
          "bdata": "hXew0+j7rECVJo92VfqsQA7FCy+R9axA11XmSij2rEDAxO84WvOsQGDOwz267axAPZNgSVvsrECfov7x1dasQA==",
          "dtype": "f8"
         }
        },
        {
         "line": {
          "color": "crimson",
          "width": 3
         },
         "mode": "lines",
         "name": "Polyline 36",
         "opacity": 0.95,
         "showlegend": false,
         "type": "scatter3d",
         "x": {
          "bdata": "CPqO0ayivECU8A+Ig7K8QA==",
          "dtype": "f8"
         },
         "y": {
          "bdata": "ByPvaK5Rk0D5Bahy4IGTQA==",
          "dtype": "f8"
         },
         "z": {
          "bdata": "DQxeco+CqkBIVA81cUSqQA==",
          "dtype": "f8"
         }
        },
        {
         "line": {
          "color": "crimson",
          "width": 3
         },
         "mode": "lines",
         "name": "Polyline 37",
         "opacity": 0.95,
         "showlegend": false,
         "type": "scatter3d",
         "x": {
          "bdata": "gm0oeqhsvED10H7FIE68QE8mOz7+G7xA3z8oB8IGvEDrgc0H3fq7QJH7g4Kx7btAWsgW7UHdu0BdujasgNC7QMdDxJX9ybtATbA4l3O2u0C4pSXO5JG7QO5nKWZbgLtAwrfXcxlfu0A=",
          "dtype": "f8"
         },
         "y": {
          "bdata": "QFfPg4ALlEB8hGt2yBaUQBPA8FkNgZRArHqPrcC3lEB/AKsg2NeUQJ4xqeeX+pRAz3eKtswnlUB1xe/axD+VQCuCqS7dP5VAW1Z/Q/0/lUBh9MqDdViVQPo/rw83SZVA6RMiW8UWlUA=",
          "dtype": "f8"
         },
         "z": {
          "bdata": "9uwXQzMrqEDzH6fODjmoQJk2+i8PWKhAdZ41s4xvqEAPA0vlSoKoQB878dLYnKhAAo63VAzJqEApWyp8LOyoQDeDBRUeBqlAuT3QOpddqUDb24c6VoWpQJXIiHsXpalAZDI/7iLZqUA=",
          "dtype": "f8"
         }
        },
        {
         "line": {
          "color": "crimson",
          "width": 3
         },
         "mode": "lines",
         "name": "Polyline 38",
         "opacity": 0.95,
         "showlegend": false,
         "type": "scatter3d",
         "x": {
          "bdata": "gm0oeqhsvEBZF6BH+Wi8QLVzdaaVc7xAc2sAxhyRvEC/OVeHPaO8QJYtu7RetrxAQraClAwGvUA=",
          "dtype": "f8"
         },
         "y": {
          "bdata": "QFfPg4ALlEATfw6q+YiTQCulGCJFUpNApRDtBoX8kkDHkqNjoNySQAXD7NtGxpJAf+kUweGqkkA=",
          "dtype": "f8"
         },
         "z": {
          "bdata": "9uwXQzMrqECxbnzBL0uoQDM4DLPwVahA6P4iPdFrqEC4QGJ6tHioQLdk9YIljqhAdoAewd++qEA=",
          "dtype": "f8"
         }
        },
        {
         "line": {
          "color": "crimson",
          "width": 3
         },
         "mode": "lines",
         "name": "Polyline 39",
         "opacity": 0.95,
         "showlegend": false,
         "type": "scatter3d",
         "x": {
          "bdata": "gOlaH54bt0CIKWzNWBW3QMg5blRgCrdAVTexURAPt0A=",
          "dtype": "f8"
         },
         "y": {
          "bdata": "9RzQvz/jlUCu1JxNDuSVQCdAJX1a75VAyMzeCp/4lUA=",
          "dtype": "f8"
         },
         "z": {
          "bdata": "m/tHHTRdrUCALiku3k6tQNkayJk2GK1An6L+8dXWrEA=",
          "dtype": "f8"
         }
        },
        {
         "line": {
          "color": "crimson",
          "width": 3
         },
         "mode": "lines",
         "name": "Polyline 40",
         "opacity": 0.95,
         "showlegend": false,
         "type": "scatter3d",
         "x": {
          "bdata": "N0tkSbN0vECCUl1brTy8QGrnor4tJbxAe/T/9eYMvECwknhorfS7QA096aAj5rtAxlATINnKu0AAHYshqK+7QIDrE7Tgm7tAgO3lLQ+Fu0C9PjWbEXi7QMK313MZX7tA",
          "dtype": "f8"
         },
         "y": {
          "bdata": "u6poUvPXk0BDE2ef9A2UQE7R3cFcG5RAFZNzvA8qlEDwc8tWDTqUQNNSWswIRJRA/Pxh42pmlEAOEtfMCImUQIXAWdpfnpRAPwQxCYu8lEDv8Mu3HdyUQOkTIlvFFpVA",
          "dtype": "f8"
         },
         "z": {
          "bdata": "YVPT5suFqkAdIDcWspuqQArnWSl1l6pACjVxc6GGqkCXjup4BXSqQFYQ+6Y3a6pASjoPbJtVqkDJ0jBpjjyqQMjYoXhMLqpAALgneWMaqkBbIgQEfgOqQGQyP+4i2alA",
          "dtype": "f8"
         }
        },
        {
         "line": {
          "color": "crimson",
          "width": 3
         },
         "mode": "lines",
         "name": "Polyline 41",
         "opacity": 0.95,
         "showlegend": false,
         "type": "scatter3d",
         "x": {
          "bdata": "N0tkSbN0vECU8A+Ig7K8QA==",
          "dtype": "f8"
         },
         "y": {
          "bdata": "u6poUvPXk0D5Bahy4IGTQA==",
          "dtype": "f8"
         },
         "z": {
          "bdata": "YVPT5suFqkBIVA81cUSqQA==",
          "dtype": "f8"
         }
        },
        {
         "line": {
          "color": "crimson",
          "width": 3
         },
         "mode": "lines",
         "name": "Polyline 42",
         "opacity": 0.95,
         "showlegend": false,
         "type": "scatter3d",
         "x": {
          "bdata": "lPAPiIOyvECsJu3KTeG8QA==",
          "dtype": "f8"
         },
         "y": {
          "bdata": "+QWocuCBk0AXmLESgZiTQA==",
          "dtype": "f8"
         },
         "z": {
          "bdata": "SFQPNXFEqkC9OG6yPxeqQA==",
          "dtype": "f8"
         }
        },
        {
         "line": {
          "color": "crimson",
          "width": 3
         },
         "mode": "lines",
         "name": "Polyline 43",
         "opacity": 0.95,
         "showlegend": false,
         "type": "scatter3d",
         "x": {
          "bdata": "VTexURAPt0AHk6M67U+3QLxdv0XwcrdAeMu0h/F9t0DQnq1zpZK3QP4VoDpqqrdAWMKa8DvBt0DLlSXL4N+3QA==",
          "dtype": "f8"
         },
         "y": {
          "bdata": "yMzeCp/4lUB3ptV5AnCVQKwl7G/LcpVAQvPtpj1tlUCls8tWXl2VQPaKmV2fOJVAGrmyY29glUAjxC+laVmVQA==",
          "dtype": "f8"
         },
         "z": {
          "bdata": "n6L+8dXWrEBLp+rrClCsQI9glOcCIaxAELyepZYMrEATCUVtf+urQBgSUPMa06tAOxXhjybDq0A3FM5IALCrQA==",
          "dtype": "f8"
         }
        },
        {
         "line": {
          "color": "crimson",
          "width": 3
         },
         "mode": "lines",
         "name": "Polyline 44",
         "opacity": 0.95,
         "showlegend": false,
         "type": "scatter3d",
         "x": {
          "bdata": "QraClAwGvUBFbNMh9yO9QD9DgFXSGr1ARYTBiEoNvUDzbqIw6f+8QPu7ZcbR8bxArCbtyk3hvEA=",
          "dtype": "f8"
         },
         "y": {
          "bdata": "f+kUweGqkkBd1n/1xt+SQDfA5UjXEZNA7zcamQIxk0A3in0on1aTQL+0QxxAe5NAF5ixEoGYk0A=",
          "dtype": "f8"
         },
         "z": {
          "bdata": "doAewd++qEA78ZZVNEmpQD9eFY1xgKlAXUf+I6iZqUDt8Ybo5sGpQFkaW8y066lAvThusj8XqkA=",
          "dtype": "f8"
         }
        },
        {
         "line": {
          "color": "crimson",
          "width": 3
         },
         "mode": "lines",
         "name": "Polyline 45",
         "opacity": 0.95,
         "showlegend": false,
         "type": "scatter3d",
         "x": {
          "bdata": "wrfXcxlfu0BYzu/WEya7QCM6yK88tbpA",
          "dtype": "f8"
         },
         "y": {
          "bdata": "6RMiW8UWlUD2Wt3O6/aUQKgiuIkLTZRA",
          "dtype": "f8"
         },
         "z": {
          "bdata": "ZDI/7iLZqUDIkP1dp/2pQLGBpKm72KlA",
          "dtype": "f8"
         }
        },
        {
         "line": {
          "color": "crimson",
          "width": 3
         },
         "mode": "lines",
         "name": "Polyline 46",
         "opacity": 0.95,
         "showlegend": false,
         "type": "scatter3d",
         "x": {
          "bdata": "+K26LszxuUDELnktdLy5QA==",
          "dtype": "f8"
         },
         "y": {
          "bdata": "DhykRoUGlUBCS2DjN8WVQA==",
          "dtype": "f8"
         },
         "z": {
          "bdata": "qDbuWRt2rEAfcDSYlGKsQA==",
          "dtype": "f8"
         }
        }
       ],
       "layout": {
        "autosize": false,
        "height": 600,
        "scene": {
         "aspectmode": "data",
         "xaxis": {
          "visible": true
         },
         "yaxis": {
          "visible": true
         },
         "zaxis": {
          "visible": true
         }
        },
        "template": {
         "data": {
          "bar": [
           {
            "error_x": {
             "color": "#2a3f5f"
            },
            "error_y": {
             "color": "#2a3f5f"
            },
            "marker": {
             "line": {
              "color": "#E5ECF6",
              "width": 0.5
             },
             "pattern": {
              "fillmode": "overlay",
              "size": 10,
              "solidity": 0.2
             }
            },
            "type": "bar"
           }
          ],
          "barpolar": [
           {
            "marker": {
             "line": {
              "color": "#E5ECF6",
              "width": 0.5
             },
             "pattern": {
              "fillmode": "overlay",
              "size": 10,
              "solidity": 0.2
             }
            },
            "type": "barpolar"
           }
          ],
          "carpet": [
           {
            "aaxis": {
             "endlinecolor": "#2a3f5f",
             "gridcolor": "white",
             "linecolor": "white",
             "minorgridcolor": "white",
             "startlinecolor": "#2a3f5f"
            },
            "baxis": {
             "endlinecolor": "#2a3f5f",
             "gridcolor": "white",
             "linecolor": "white",
             "minorgridcolor": "white",
             "startlinecolor": "#2a3f5f"
            },
            "type": "carpet"
           }
          ],
          "choropleth": [
           {
            "colorbar": {
             "outlinewidth": 0,
             "ticks": ""
            },
            "type": "choropleth"
           }
          ],
          "contour": [
           {
            "colorbar": {
             "outlinewidth": 0,
             "ticks": ""
            },
            "colorscale": [
             [
              0,
              "#0d0887"
             ],
             [
              0.1111111111111111,
              "#46039f"
             ],
             [
              0.2222222222222222,
              "#7201a8"
             ],
             [
              0.3333333333333333,
              "#9c179e"
             ],
             [
              0.4444444444444444,
              "#bd3786"
             ],
             [
              0.5555555555555556,
              "#d8576b"
             ],
             [
              0.6666666666666666,
              "#ed7953"
             ],
             [
              0.7777777777777778,
              "#fb9f3a"
             ],
             [
              0.8888888888888888,
              "#fdca26"
             ],
             [
              1,
              "#f0f921"
             ]
            ],
            "type": "contour"
           }
          ],
          "contourcarpet": [
           {
            "colorbar": {
             "outlinewidth": 0,
             "ticks": ""
            },
            "type": "contourcarpet"
           }
          ],
          "heatmap": [
           {
            "colorbar": {
             "outlinewidth": 0,
             "ticks": ""
            },
            "colorscale": [
             [
              0,
              "#0d0887"
             ],
             [
              0.1111111111111111,
              "#46039f"
             ],
             [
              0.2222222222222222,
              "#7201a8"
             ],
             [
              0.3333333333333333,
              "#9c179e"
             ],
             [
              0.4444444444444444,
              "#bd3786"
             ],
             [
              0.5555555555555556,
              "#d8576b"
             ],
             [
              0.6666666666666666,
              "#ed7953"
             ],
             [
              0.7777777777777778,
              "#fb9f3a"
             ],
             [
              0.8888888888888888,
              "#fdca26"
             ],
             [
              1,
              "#f0f921"
             ]
            ],
            "type": "heatmap"
           }
          ],
          "histogram": [
           {
            "marker": {
             "pattern": {
              "fillmode": "overlay",
              "size": 10,
              "solidity": 0.2
             }
            },
            "type": "histogram"
           }
          ],
          "histogram2d": [
           {
            "colorbar": {
             "outlinewidth": 0,
             "ticks": ""
            },
            "colorscale": [
             [
              0,
              "#0d0887"
             ],
             [
              0.1111111111111111,
              "#46039f"
             ],
             [
              0.2222222222222222,
              "#7201a8"
             ],
             [
              0.3333333333333333,
              "#9c179e"
             ],
             [
              0.4444444444444444,
              "#bd3786"
             ],
             [
              0.5555555555555556,
              "#d8576b"
             ],
             [
              0.6666666666666666,
              "#ed7953"
             ],
             [
              0.7777777777777778,
              "#fb9f3a"
             ],
             [
              0.8888888888888888,
              "#fdca26"
             ],
             [
              1,
              "#f0f921"
             ]
            ],
            "type": "histogram2d"
           }
          ],
          "histogram2dcontour": [
           {
            "colorbar": {
             "outlinewidth": 0,
             "ticks": ""
            },
            "colorscale": [
             [
              0,
              "#0d0887"
             ],
             [
              0.1111111111111111,
              "#46039f"
             ],
             [
              0.2222222222222222,
              "#7201a8"
             ],
             [
              0.3333333333333333,
              "#9c179e"
             ],
             [
              0.4444444444444444,
              "#bd3786"
             ],
             [
              0.5555555555555556,
              "#d8576b"
             ],
             [
              0.6666666666666666,
              "#ed7953"
             ],
             [
              0.7777777777777778,
              "#fb9f3a"
             ],
             [
              0.8888888888888888,
              "#fdca26"
             ],
             [
              1,
              "#f0f921"
             ]
            ],
            "type": "histogram2dcontour"
           }
          ],
          "mesh3d": [
           {
            "colorbar": {
             "outlinewidth": 0,
             "ticks": ""
            },
            "type": "mesh3d"
           }
          ],
          "parcoords": [
           {
            "line": {
             "colorbar": {
              "outlinewidth": 0,
              "ticks": ""
             }
            },
            "type": "parcoords"
           }
          ],
          "pie": [
           {
            "automargin": true,
            "type": "pie"
           }
          ],
          "scatter": [
           {
            "fillpattern": {
             "fillmode": "overlay",
             "size": 10,
             "solidity": 0.2
            },
            "type": "scatter"
           }
          ],
          "scatter3d": [
           {
            "line": {
             "colorbar": {
              "outlinewidth": 0,
              "ticks": ""
             }
            },
            "marker": {
             "colorbar": {
              "outlinewidth": 0,
              "ticks": ""
             }
            },
            "type": "scatter3d"
           }
          ],
          "scattercarpet": [
           {
            "marker": {
             "colorbar": {
              "outlinewidth": 0,
              "ticks": ""
             }
            },
            "type": "scattercarpet"
           }
          ],
          "scattergeo": [
           {
            "marker": {
             "colorbar": {
              "outlinewidth": 0,
              "ticks": ""
             }
            },
            "type": "scattergeo"
           }
          ],
          "scattergl": [
           {
            "marker": {
             "colorbar": {
              "outlinewidth": 0,
              "ticks": ""
             }
            },
            "type": "scattergl"
           }
          ],
          "scattermap": [
           {
            "marker": {
             "colorbar": {
              "outlinewidth": 0,
              "ticks": ""
             }
            },
            "type": "scattermap"
           }
          ],
          "scattermapbox": [
           {
            "marker": {
             "colorbar": {
              "outlinewidth": 0,
              "ticks": ""
             }
            },
            "type": "scattermapbox"
           }
          ],
          "scatterpolar": [
           {
            "marker": {
             "colorbar": {
              "outlinewidth": 0,
              "ticks": ""
             }
            },
            "type": "scatterpolar"
           }
          ],
          "scatterpolargl": [
           {
            "marker": {
             "colorbar": {
              "outlinewidth": 0,
              "ticks": ""
             }
            },
            "type": "scatterpolargl"
           }
          ],
          "scatterternary": [
           {
            "marker": {
             "colorbar": {
              "outlinewidth": 0,
              "ticks": ""
             }
            },
            "type": "scatterternary"
           }
          ],
          "surface": [
           {
            "colorbar": {
             "outlinewidth": 0,
             "ticks": ""
            },
            "colorscale": [
             [
              0,
              "#0d0887"
             ],
             [
              0.1111111111111111,
              "#46039f"
             ],
             [
              0.2222222222222222,
              "#7201a8"
             ],
             [
              0.3333333333333333,
              "#9c179e"
             ],
             [
              0.4444444444444444,
              "#bd3786"
             ],
             [
              0.5555555555555556,
              "#d8576b"
             ],
             [
              0.6666666666666666,
              "#ed7953"
             ],
             [
              0.7777777777777778,
              "#fb9f3a"
             ],
             [
              0.8888888888888888,
              "#fdca26"
             ],
             [
              1,
              "#f0f921"
             ]
            ],
            "type": "surface"
           }
          ],
          "table": [
           {
            "cells": {
             "fill": {
              "color": "#EBF0F8"
             },
             "line": {
              "color": "white"
             }
            },
            "header": {
             "fill": {
              "color": "#C8D4E3"
             },
             "line": {
              "color": "white"
             }
            },
            "type": "table"
           }
          ]
         },
         "layout": {
          "annotationdefaults": {
           "arrowcolor": "#2a3f5f",
           "arrowhead": 0,
           "arrowwidth": 1
          },
          "autotypenumbers": "strict",
          "coloraxis": {
           "colorbar": {
            "outlinewidth": 0,
            "ticks": ""
           }
          },
          "colorscale": {
           "diverging": [
            [
             0,
             "#8e0152"
            ],
            [
             0.1,
             "#c51b7d"
            ],
            [
             0.2,
             "#de77ae"
            ],
            [
             0.3,
             "#f1b6da"
            ],
            [
             0.4,
             "#fde0ef"
            ],
            [
             0.5,
             "#f7f7f7"
            ],
            [
             0.6,
             "#e6f5d0"
            ],
            [
             0.7,
             "#b8e186"
            ],
            [
             0.8,
             "#7fbc41"
            ],
            [
             0.9,
             "#4d9221"
            ],
            [
             1,
             "#276419"
            ]
           ],
           "sequential": [
            [
             0,
             "#0d0887"
            ],
            [
             0.1111111111111111,
             "#46039f"
            ],
            [
             0.2222222222222222,
             "#7201a8"
            ],
            [
             0.3333333333333333,
             "#9c179e"
            ],
            [
             0.4444444444444444,
             "#bd3786"
            ],
            [
             0.5555555555555556,
             "#d8576b"
            ],
            [
             0.6666666666666666,
             "#ed7953"
            ],
            [
             0.7777777777777778,
             "#fb9f3a"
            ],
            [
             0.8888888888888888,
             "#fdca26"
            ],
            [
             1,
             "#f0f921"
            ]
           ],
           "sequentialminus": [
            [
             0,
             "#0d0887"
            ],
            [
             0.1111111111111111,
             "#46039f"
            ],
            [
             0.2222222222222222,
             "#7201a8"
            ],
            [
             0.3333333333333333,
             "#9c179e"
            ],
            [
             0.4444444444444444,
             "#bd3786"
            ],
            [
             0.5555555555555556,
             "#d8576b"
            ],
            [
             0.6666666666666666,
             "#ed7953"
            ],
            [
             0.7777777777777778,
             "#fb9f3a"
            ],
            [
             0.8888888888888888,
             "#fdca26"
            ],
            [
             1,
             "#f0f921"
            ]
           ]
          },
          "colorway": [
           "#636efa",
           "#EF553B",
           "#00cc96",
           "#ab63fa",
           "#FFA15A",
           "#19d3f3",
           "#FF6692",
           "#B6E880",
           "#FF97FF",
           "#FECB52"
          ],
          "font": {
           "color": "#2a3f5f"
          },
          "geo": {
           "bgcolor": "white",
           "lakecolor": "white",
           "landcolor": "#E5ECF6",
           "showlakes": true,
           "showland": true,
           "subunitcolor": "white"
          },
          "hoverlabel": {
           "align": "left"
          },
          "hovermode": "closest",
          "mapbox": {
           "style": "light"
          },
          "paper_bgcolor": "white",
          "plot_bgcolor": "#E5ECF6",
          "polar": {
           "angularaxis": {
            "gridcolor": "white",
            "linecolor": "white",
            "ticks": ""
           },
           "bgcolor": "#E5ECF6",
           "radialaxis": {
            "gridcolor": "white",
            "linecolor": "white",
            "ticks": ""
           }
          },
          "scene": {
           "xaxis": {
            "backgroundcolor": "#E5ECF6",
            "gridcolor": "white",
            "gridwidth": 2,
            "linecolor": "white",
            "showbackground": true,
            "ticks": "",
            "zerolinecolor": "white"
           },
           "yaxis": {
            "backgroundcolor": "#E5ECF6",
            "gridcolor": "white",
            "gridwidth": 2,
            "linecolor": "white",
            "showbackground": true,
            "ticks": "",
            "zerolinecolor": "white"
           },
           "zaxis": {
            "backgroundcolor": "#E5ECF6",
            "gridcolor": "white",
            "gridwidth": 2,
            "linecolor": "white",
            "showbackground": true,
            "ticks": "",
            "zerolinecolor": "white"
           }
          },
          "shapedefaults": {
           "line": {
            "color": "#2a3f5f"
           }
          },
          "ternary": {
           "aaxis": {
            "gridcolor": "white",
            "linecolor": "white",
            "ticks": ""
           },
           "baxis": {
            "gridcolor": "white",
            "linecolor": "white",
            "ticks": ""
           },
           "bgcolor": "#E5ECF6",
           "caxis": {
            "gridcolor": "white",
            "linecolor": "white",
            "ticks": ""
           }
          },
          "title": {
           "x": 0.05
          },
          "xaxis": {
           "automargin": true,
           "gridcolor": "white",
           "linecolor": "white",
           "ticks": "",
           "title": {
            "standoff": 15
           },
           "zerolinecolor": "white",
           "zerolinewidth": 2
          },
          "yaxis": {
           "automargin": true,
           "gridcolor": "white",
           "linecolor": "white",
           "ticks": "",
           "title": {
            "standoff": 15
           },
           "zerolinecolor": "white",
           "zerolinewidth": 2
          }
         }
        },
        "title": {
         "text": "3D Mesh Visualization"
        },
        "width": 800
       }
      }
     },
     "metadata": {},
     "output_type": "display_data"
    }
   ],
   "source": [
    "mm = MeshManager()\n",
    "mm.load_mesh(data_path(\"mesh/processed/TS1_wrapped.obj\"))\n",
    "ps = PolylinesSkeleton().from_txt(data_path(\"polylines/TS1.polylines.txt\"))\n",
    "mm.visualize_mesh_3d(polylines=ps)"
   ]
  },
  {
   "cell_type": "code",
   "execution_count": 7,
   "id": "0a01ee9b",
   "metadata": {},
   "outputs": [
    {
     "data": {
      "application/vnd.plotly.v1+json": {
       "config": {
        "plotlyServerURL": "https://plot.ly"
       },
       "data": [
        {
         "color": "lightblue",
         "i": {
          "bdata": "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",
          "dtype": "i2"
         },
         "j": {
          "bdata": "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",
          "dtype": "i2"
         },
         "k": {
          "bdata": "AgAFAAgACwAOABEAFAAXABoAHQAgACMAJgAmACsALgAxADQANwA2ADsAPgBBAEQARgBJAEwATwBNAFMAVgBZAFcAXQBeAGEAYgBlAAAARQBpAGwAbwByAHUAeAB7AH4AfwCAAIEAhACHAIoAiwCOAJEAkwCWAJkAKACdAKAAowCmAKkAqwCuAK8AnwCzAGYAtAC3ALoAvAC/AC4AwwDCAMcAygDNANAA0wCqANYA2QDcAN8A4ADhAOEA5QAwAOkA7ACbAO8A8gDUAPYA+QD8AP8A/QACAQUB2AAJAQoBDQEQARMBFgHXANEAFwEZARwBHwG8ANIAJAEiAScBKQEsAS0B6wDgADIBMwFwADcBTwD8AKUAOwE8AT0BQAFDAUUBSAFLAecAqgBFAfMATQFQAecAUgFVAVYBVgFFAFYBWQFYAeYADgBdAWABYwG7APMAZgHoACEBaQFsAegAcAFzAXUBcwEQAHoBegF9AYABgwGGAYkBjAGPAZIBAgGTAZUBmAGXAZwBnwGiAaQBrwCoAakBqwGuAa8BTAGxAbQBUwG3AfsAugG9AcABPABxAcUBFAHJAcoBzQE8Ac4B0QHTAVAB1gHYAbQA2gHAADwAsAEZAN4BGgDhARkA5gHpAeoBGQCXAJoA7wHUAPIB9QH4AW0A/AH7AQACAgIFAgIBBwLrAQgCGQEKAQoBsQENAhACEgIxABUCGAIbAh0CHgIhAiQCJwL6AOsAKwLUAOcALAJuAC8C+wAzAu8AwAA2AjgCcwFhAT0CQAJCAkUCRgJJAkwCLAH1AU8CUgJUAlQCcABwAFgCLwFbAl0CxgHrAOoAYQJkAmYCaAJrAm0CcAJyAnMCdgJ5AnwCfgJ/AqsBgAKDAoYCiAKLAo4CjAKSApQC+AD3AJcC9gGZAvQBLwIuAp4CnwJJApUA9AHzARcApAJlALIAxgE0AqwCrwKyArICtQKqAbkCqQK6AqsBmwK9Ar4CJAC1AikCZgDBAigCwgLFAsYCFgB6AcgCFgDKAssCFwC1AkkCzAL2AV4C0ALTAtYCSAK6AtkCVQHcAscB3wLiAicC5wLqAroCrQDrAmABkwJJAvAC7gL0AvcCuwL7ApQCzAIAAwADPQAnAD0ABQMGA1oBCwNUAQ0DDwMSAwMDywLYAXQB6gAYA38AAgNeAhkDMAIcAx8DIQMkAycDKQMsAysDKgMwAzEDAAE0AzYDYQHEArQBOQMpAzwDPwNCA0QDgQJHA0kDKgN9AUkDSQPMAEwDzABPAyEDAgJTA+QBVgNlAFkDWwMcAF4D/QCyAUwBYwNmAxsAHQPnAm0DBgJxA94AcwN1A5UBeQN7AycDfwOvAWMBgwNRAIYDiQOMA48DbQOSA5EDnQGWAwwBmQPdAJwDbgCdA54DGgOgAy0DogP3AqUDNAKfAu0CxAF1AxsAqQOrA60DrwNkAMoCsQOyAzgCtgNSALkDuwOSA2ADFACRA74DwQNuA1UDYQN9AX0BIQIlA8UBHQKkAMkDzAPPA9ID1AMrAtYD2QPXA9cD3APfA/4B5APnA+oD6QMVAX0CFAEkAdsD8QP0A/cD0QPRA/4BPwPTAj8DHAD9AwAEAgTBAecC3QHuAwkETQMMBNoDzwOXArwDFQQWBBkExAJNARsEcQD/AjUArwIhBCQEFAQoBCkEKgQrBAwALwQxBDMEywA2BDgENwRyAjsEHAM+BDwEPwRpA0EEagNCBEEEywFGBEkEvwJMBJIATwQIA1MEVgRgAVkEXAReBHUA2ANhBGQEGQJnBGgEawRsBDcBcARHAFYAdAR1BBkAeARgAzYD/wEdAi0EWwOOAn0EgAR/BIQEhgTgAeABiQTfAtwCjgTjAZAEkQQYBAQDlATFAckA5ALyA1ICOgKcBDcEnQQIAZ8EtgJFBKMEpASnBKgEaAStBK4EsQSzBAoBEATNA3sCzgK4BCQEXAG7BL0EvwRmAUYAwQSKAsMExATHBEsDyQTMBHICNwTCBNAEKQCQA/8D1gS4BBwE2QRUBN0EygPgBOEEWADdBOYExgNfAeoEBgTGA4sC5wTuBGAB8AQbA/ME8QT1BPcE6AH7BDcC/QQgAQAFUQAGAgEFGATzAQYFSAGmAdIDHQEeAfgCDQXGAhAFLQISBdMCFQU1ADUAGQUbBdcEHgUhBSQFJwVBAg4FIgQoBRUCLQUtBTEFnwIyBeQCvgTyA60BMgWTBKAAOgVEASYEPAU+BUAFQwWuBEUFtgFIBUsF4QDjA08FUQVQBVIFVQUhAg0DWAVaBccCKANeBWEFZAX0AucEZwNYAVUAaAVpBWoFCQEJARcEbAWWAXAFPQP6A3UFkgR3BXoFewUtAH0FfwWBBYAFhQX4BKkDJACYA4gFMAKKBYwFiwXXBAQEkAWSBZUFOQKYBSoCYQGcBZsFOACcBe0CNwOgBaMFWwCPBacFTASoBUoAkwSzBIYDJAOvBa8FoAOtAhwDrAOzBY0BtwX0Au0CuAUOAb0FJAO/BXkA0wLABa4BwgU0A8cFJAPKBckFzAUTAtEFIgFSBZYDqwTUBbkA1gXXBdgF2wU/Ak8FpABSBaYAXQDgBVQAHQX0A+IF6gDlBeIFFgNBAtcE6AWHA/MC5wTqBesF7gW3AyYDEQMVAnQDOAMgA4cEcQH4BYYCRQT8Bf8FlQAABgMGBQYHBp8B0QH0BP4DygJqA7UBDwYRBhMGLwDaABUDnQQbBjYBSgQfBpICQwUhBiIGGQMhAyEDyQH9BAIDqAIoBjAEXQQpBvEAkARBBC0GmAS+A/QDcgMwBi8GMwYyBtoDJwQ1BsUAOQbdATsGTAA+BkQEmwRBBkQGRwZAAEoGRQVNBmgFOANSBlUGpgRYBlgGXAZdBmAGYQbCBbMABARAAbEFkwNpBmgGpwBsBkIBbwZkAbwF5gLIBDcETgYFA3QGqAOpA3kGfAZ/BoEGgQY/AUkFwQWHBqQApgDgBYkGTgAnAbYEjAbkBOUD2QGPBpEGAQOTBl0CvwRFA40ElwZMBG8EwwKbBqIDnQagBsoA/wUeBKQGHwWmBugEPQV4BYoBPgKpBsMBHAIdAAwDrAZtBWACYQJzAa8GsQa0BmECtQbzAa4GsAYJBboGvQbEAdQFvwbBBsMGxAbGBlIAYgPIBvsAIALKBh8BTANMA+4AzAaoBTkCSwHPBtAG0QY2A6YF1AZXBCEDhwXYBiMF3AbdBnQAIgMVApsATACiBDsD4wabAOcD5QbkBugGpwbqBuwGagGtAi4BQALuBgYGcgVAA/IGlAD0BvcG+QYZAgsCtQEMBvwG5gaWBQIHpwQHB3kAbwYBAQgHjwALB4ADpwEOBxAHEgcTB3gEnQAWB5ADGAcXBxYHogY1Bm8FHAceB/wFmgAgB7UF1gDJAzcBIQUjByUH1QAdAZ4DGAFbASgHKQfaBhcH1QMqBywHCgBnAy8HxwUwB0AEtwHBADMHNQdjAjYHvgZ9BLwCOwedAj4HdwHsAUEHQQdyA3IDyQCCAhsCQwddBkYHYAA1AWgEbQDSA+MCSwdNBwQFnwO3A5kB9gYpAykDNgE1AVIHYQTsAVcHVQdZB2EE+wXdAl0HEQZfB2IHZAZkBywH5ABdBmkHagdmBDUD9QO9BTUD6QZuB3AHwANzB3UHdwd6BxsB6gJ9Bz0B3AaZBj0Gfwc/BqgGIAFEBKkFegKBB4QHggctBK8EgAKHB4gHigdGBPYAlAKNBygAkAdPAJEHdQcCBZQHAge1AZgHggUHANEGgQRZBp4HugBRAiABUgR0AKEHHQSeBZ4FPwHEBVIAUQBbBaMHcgbcAKYHFwVaBSIBjQXSAacGQAFvASkErAd3BNkCAgaCAWMA9QYVB7oBrgewB7IHtAfrAXEGqQG3BwQGxQC7B48HcQG+Br0HhwdRAwkDDwTAB+sGMgXDByUBSwbGB8YH7gPIB8sHywbNB88H8QMhB3MGzQYZBYIDSwUNBNMHIwNwBbkExQTYBxEC2gQ/BlwH2wfaB94H3wczBSUF4AcPBg8GmgJ7BIEA5Af0AJYA/wOPA44D5wccBUMDVwfDA+wHOgAzA08B7wdLBPAHsgNZBkwEtgPyBx0DNATzB0oE9QfwBPcD9wf4B2AHEwNcAAkGfgL9B/0HMwT6ARIAAwg2BDsEKwcJCAsICwhrAg4IDwgRCBQIIgadBs4FgwVgBM0FEwINBmECngOnBm0BnQEqBdkAGgh0BkMD4AULBnADzwIaCBwIHQjRAB4IHgghBiIISgX1BZME3QOTBPUCZAVGAQEFJwjXACgI+AEpCCsI/gf9B0kGLQjxAjAILggxCPAHVwLRBDMI5AGcBJwE0AOGAvoEvQK8AzgIOQj9Bj0IhAI+CGUCQAg/CPIDQghECI8GRQgUBUcIlgG+BVAHvgaQAdYEDARXBU0IUAiNAioHSQcqBVIIjQLbAlcIVQgWBuwAWgjIAdwCyAERAF0IXQgHBV8IXghlBmIIngJkCGYIaQhsCAMGbQh6BhECbgi6BJ0FNwDEBpkAAwjBAsQGJwZxCHMIdggyA+wFZAV+AHgIeggHAlwAKAiEBHYF6QDgA30I8APXA4gE/wPrBYEIygLKAnYDGADfAf8DNAZOAdUCbANCA4UIhghVBnQEigiJCHADyQWNCGcCjwinBrUDUwDmBK4CHgRhBZMDQQCSCDkElAimBpUIZgCBBFAAlwggBpYIsgKZCCwFLgVvAnUCmwiHBp0AnQAFB1cDxQc/AYMGkgbWB8QEnwjwB6IIwAICAKMIWwMRBIoIYQCvBl0GqAhoAOIGXQOrCMoH8AG0AhkBJwetCN0CUwiuCLAIWQJPAlUEswhIByYC6wa0CLYInAQXA7gIugjmBN4CvAjTATkG+QMABIYGXgdeBxsDegLaANoAxQDACMMIOwa9AuIFjwGjAjUBkwesBIwHyAjLCM0IMwb4BX4IzggABxQA3AZsBbMBFgZXCNEIJwTTCLcGvQKKApQHswbRCD4InwekCHAFtgTbAg0EwwOQBi8AlgGWAZIEjwBqBtoI2APAB90IcwbfCN0FhwfGCAACfwdYBuII4wjkCLkFkgfmCPYDaQHoCMAE/AHqCHwIdQXIB+sIewU9AWIFRwHsCO4IdAZxBZIDAwfwAPIAFwUZBUoAtgh3BVQETQAwAEQD8gjyArgD8wKHAp8B0ASgBvcI+Qj4CPsI/QP8CJUGYwL/CHAFxADMCAIJBAmKBX8HmginB/cHPgRYCAgJYghEAHIH9gbYByQDDAl6Bg8JDgnyBbQF5wcIAugEmgddBKsD9gMJByEFiAiMBowI4QMlBUgIlAQRCQ0HFAkVCc0HtgiwBgUFZwGFBM4DrQZPBqkHGgboAPEI8gjkCB8JIgllAR0DIwlhCOMCiQRZAyUJ4wImCV8FYQXzAUgE1QIxBCcJ8ggqCQAEVQJWBJIC8gcwAUcIEAQ2CO0ILgkuCaYDAgYxCbAAVgFLAM0HJgWaA3cEYQSaA30HNQlIATsI2QULCTkJogUSBjsFJwV7AykIJQg8CaUHpgVlAGUAFAfRBQ8ERQnbBtoGAAZMAkcJRwmcBkoJJQQlBEsJygGeAsAIRwlNCVEJYAgCBW0FwwhTCVEFUwQTB+AGVQmAAVYJEgRjBDsGIgNYCbEBPQL9BvUIWgngCJ8AOwhdCS8EXwlfCSkGYQkEBQkIagFkCQQGZgkwAWcJagkACQQJQANFAQEH3QT7AtUDYgZHBLcDNAeHANwB7whUAnEJcAmFACkGVQgTAGIGZgByCccFxQXEBHUJQAaOAeMEmAZCBXwJIAdOCPoGfwkYB7wEZgmXB5AIEwdwBysIhAnsBBUHxQL9BIUJOwQZBvAHhwknATIJnwilBMUHiAlwAO0BiwmeAZ4BuQSbAI0JWAMsCXsBMwI/Bn0ArgedAUsEagGeBpEJ9QWTCTIEbQWWCZcJvQjnBuYG0gIyCPUIFwl3AcgAmwk5BDgC3QDOBZwJAQcqBu0E4wZ7ArYBnwlLB4cBKwjNBiQF2QbUBqQJ5AbGBecDNQkMCPkFCggsAuIGoQKbA40FOAhKB8YGUQWiAfABiASIBEAFkQitCV4DoAmtCBMB6AY3CXEHVggQBiEEpQRiCTgDXQiwCaoIpwKzCcIFwgVnCIcG7QW0CaYDpgO1CakBjAW3CYoJuQkABlgCRwiwCXgJuwnWAfwFvQkmBiYGGQV1A3UD2QZKAIcDFAnDCe0FxAkABRcIxglBCIQF8wWZCZIIygkiAiQCuACEAswJWwD+BYgJ6wjRCTMFqQLTCf0E7ATUCS0IxAkVBeQGCgbABtoFoAm3AZwJIgaDAFID1QORCFIDngIDCcUC2glrA4MA+QGJA9YFYwLcCewA3gngAv0IqwKVBuEJdgflB24FLAWuB3MI2QblCXMIygTrB2ECKgkoCRwI6QnpCU4DfALIAAQDsQI0AqgC7AnsCSkAUQjvCXIGVwRlBPAJwAYtB1cIfAWFAscJ8QmRAS4EpQH1CfkDewf2CTQH3AgDCOcHbAY+CboJLAf6CYQECAVCAQoHmgTUB9QHagAWBVABwwa1BbYFkghiAiUI/wn+CdkI8AdlAWUBKwm0BLQE/gD/AKQGQwJcBGIGWQIrAyACnwMACosJSwWyBfkELgISAxAD9gGHBaoCvQcCBR4JAQADCqwFBQqwBwcKuggbB+0DlAZRAY4GUQGXCLwHBwp4B9MHgwAiBnsJDgqrBxAKwgkSCmQDgAcQAWEHYQdaBycGPQUFCMEAhwYpCeYEgggxCGgIrwUEBPYJFQrgCJoGzAZwCX0JfgkcBYgHFgomBrsAaAloCd0IdwIZChoKHApOAioIyAm4AgIKdwV5AugF5wXGAh8K4ga1BLMGBwMqByAITAhtA24EVgQiCnwJswIkCg4CVgbXBq8J+Al0BssC7QOuAzYHowJKBx0KKQpGBEYEsARYCYgDBgDjB38BLwT7BSsKLQrgBl4FVAguCssJRgVGBboFMArVCTEF2wkWCMIJXwkGBcgAXQenB0QIkwd0A2UEggaVADcK9gnAAgsA2QmHBAcFGgkmBWEIYghDAI8IugXUBL8IOgoYCuICPQo7CiwILQgtB0EK7AiKA44AtQgGBG4IQgrTBHUI7QTsBHwAGQcjCbYCHwkqAi8DiAawCM4HDQoxB84G+gW3BI0IvARICkoKMwq6BkwKfABgCU0K8QDXCdcJVwacCd0JTgoWAxcDrggrAU8KIweaB7UHdwlSClEKEgACBxoEZwhpCP8CCgKSBqIAUQlbAhsIrAHxCFgDVgp0BT0FVwpYCiQJ0AAWBKACMgoyCl0K6wMrCcUGawPeA6cEQwTqCB8EHwS6BKAJBgPAA78CtwWqCLgAeAkyCtABYAqTB7cEaAVhCvUJ1gJgCXoASgMfCCAGsAVlCmgK9AakBfAGcgUwAWcJZgoyAR8BHwe1AP4GPgNrCnQEEwZsCm4KbwqGBpgI9gQgCMEAUwRyCmYCXgmqA4YIgQF0CnUK+QdeCqAHbQlsBHYKwAj1CHkB6wK1BicGnQMUCVoHowZZCkcArQmEAHMEmAkUCcEGUQQzCMIJjAKMAnkKJQPFAyEGbgMGCncDwQkGCnEEcgRuBD8EPANOAbUJQgZ7CsQIIQp6BHQIiwiMAHgKdwDBCVMAfAqACsUGbgV4CpgB+AcNCC4HTweBCoEHZwQFCjcHpgdiB+YBIgIwCq8IaQSLCAAAqgEaBc0HzgCjCV4AvgCLChYCcQYTBtYCHQkRASEAEgbaCY8IfQYEAh8CcwUgAgQCXAnQBUsIkAhIBXQFcwU6CjMJTQKBCXEKTQXaAaIE2wYMCSgFzgkrCIkGZAciCBwJsQaHCbEGAQMaBZ4GGghrA9gI9AY0Bt8IlwqrA+sBawBsALwHdQnlBQkJOwiHAGIGUwYyBsIEJgecCvYHWwW/CIgG7AjFAIgGOwoRB5UBtgDgAikJNgp0BXsKZAWdBqcD4QLoAywFAgahBnECuAVuBjIJJgcfAYQJmgbLA58KmAmcAu0HjQpSCkIHxgXbBWgBXgZgAiIFpwjSBbkHEQETAQcHoAq5A1kILAlsCGwICQbFAKMKEwlPAykK9AjABIgAzwKfBaoKNQoaAmMGSwJKAv0EkwSVAf4Czgn1AnsCUQLsBoQF2AbXBpUA2QjYBbEKRweBBm8JlAhkCCsKuAEQAl8GKAnZABkIQwCpCrIKqQdtAc4CZQWzCtACXgVeBUQKtAorBZoGrwVFCMYFBQFzA3IDGAG9BzcGrQYGBnQHbghPAk0COwDHAk0CsQkfBI0AhAYpB5sIcAikBCUDDATaBTkK2QX6BtsHfgV0Ak8BKwLRCQYGLgORALsK3QfVAYADWgmbB3ABvApeByAIxQm9CukGuANBCp0HrwkNCW0IzwRZCLMHDQm/ClMFkQIiByEJwQprBMIKOwMvCi4KJwHDCikC+QJMBjAJ3giZAr4ElwPcBzAJuAZ5CbsKLgPxAKEDxgrDCYUBxwMqAS0BzgPFCqwFKgYfCEQHyQm7CXkJIQryB+QE0glvAXEGKARpB9cIWwjNCuUDeAkNCdAK9ADRCt8IfgHSASoHwQOUBfUJBAg7CTkHSgNlA0oDqQk8CPMI9Al3BwYKBgo+CdIHvwWTBIoFNgpRA74HngjUCtYD1Qo8CmYHVAfKCEIHmAnXCmEH0AlZAFgA2ArpA9IIEgFACX0FqAT4CRUGsweLB3cCUgPpB9wK3ApnAGMKewa5ClQD8ADjB+IHmQgaAesI4ArtCWQIJgGvCtEBQgR8BpMIYwrXBSsAeQKcAdcFVAZ7AHwHeALXBdcF1goOAOQK5ArkCmUFgwW4CFwHugDlCnQJMwOtAbcDTgezB98CggnWCJcFMgIQCKIGhgF/BZABFgWpCFQJ8gBEBuIALArbB88BsQrcCnwHPAgtBvUACwbKA08D9AQrBxsJGwm+AbACcAo+AQYIdAFsCggIgwWuCsoHGQqVCf4EjgWQBSEEIAR4BEAI1gUZB2gC6ArpCusKBgZCBmIJHQliBKIGlgnWCuwK7ArSBksIugN8BUkHlwjpBEQKSwjtCtgKNAU4Bb0KcAiYBu4HEgpdB5QAxwaHBwcBhAkwCLsFvAXPB/AK+AbJCVoC0AV8CD4Bagr5CU4JQQnTAWQF6wqcCg8InAc2Al0D8gpLCe0BvACgASsCKwGoAwkK1QhcBdAGwApiCsADbwflBwYFzwCoCr4IWgMNBL8BzgdgBGkB6Aj1CrsI/AYCBgMG5QUJCcgJmQYpCVAECQAjClAEPwA/AL0B3QdiBx0K2gW7BS4IxAddA1wDLQmnBIYD/AiuBdUEtANyBdwD+wn5CuEH0wfVCoEBYgn6Cl4JgwHuBfwK+goaAVQK5gUvAg0IRwSoCiYCqwjGCeMKdQZSCqwG1grjCskJEQBSBysKvgoLBb8F2QRdBQsDmQLsCuIJ4gm2CCQEAAuaCt8EkQYsBjQCrgCWBv0A8gWTBvcFkwqZB4QJ3Qo2A2sH+QB5BOYBlwhBCAcKUwB7CDoIegfzCGYIBwJfB1sBeQSvCWIEqAnrBQoIIgkvB7AEBAshCWcHzAqoAMACwAKKAGkE4wcyAbkBuQGbCQYLAwWGCfsBdQcXBhcGjQAJC94HvAH8CosDRgf1CRADDAuXAPMKjwdEBqQIRwZGBhACDguVAqEHoQlWCQcE+wbiBMgGyAYQC38KyAJUADUK0AdyAbsKzwgTC+cKjwmNCkEK+wQ0BT8J0AqyCg4KDgohCUkJIQa7A4IEhAeGAZYAEwUCBQwHoAr9AdcCCwQCChULEgg2BgEKyQisBOIIFgsDCRgLAwkWC5wCQgivAKQB5wlrCCgBEAAQABgCkAkZCVQBegE5Aw8J2wq2ChsLHAtKCa8JrwkIBGAGHwt3AAECEAcZAhoFJwpsBiAJ5AHkAYoHeQZaCPwK9gnyCU4ChwKeB5wJJAsAAoAKHgEUBooKFQu+CDMB9AQlCyIHJgs7AdgKtAZjB6UBmAP6B7wCswLjBXgEVQTZB+QFxQqbB8sEEAWjAygLsAAjAloHTwPrBssGwAkpC+UGUQZKAfYIYQYICAkIZQM1AzUDmwEsCw8HcAbIBPsDPAnEB0oIAQM4CHUCwwWRBZQErQfqBOoE6gQeC38GAQagAggECAQIBOgGkgFXCa8JhQdKCpUIhgpGCUsCrAYxC18KCAbxBvEGwAjeBfUDMwszCy4C5AgQC44KFQuZAOQJmQAQCxAKWgPbAnEFrQggCXcK9QjHARsHdAjYCnAGmgXmBSIA5gqtBJAIcAZ1BXAGWgTJAZcA2QElBb8EKghfAsID+QmxCREGogL+BfQI8QR7CKICiggEBrII+ggfCooIOggNBzcLEwPtBzAHYwfSBA8BMwqCB4QHZgk4C4wDlgSKA5gHcwlyCb4GOQuZB+EKEgtXBxILJgfhCscAZAnZCnsJbQrHCmkKsAi2BF0FfQqiAmEKvQi1CisKUAYkCL0JOAjLAd0DQQFJATsLsQTTBugK3AfUBjYF3AdrBMAH/QNNCSUC/Ao9C5MBmgk+C2wCqQhsCooETAfMB+kEVgY1CTwKDgMPAy8KYgFCC0sABgNDC2gJsQXlCYoJoQPIBcoJsArCA2wARAugCqAKGAUYBcgI/AlsCjYHogD/CkcL/wonB7cHyQg8CzkIsgMTAIkHsQBWCDQKNAqYABsItAqPA88DSAuJCcIAUAoNCPIFtgWnCQ4JAQfHCNsF7gnbBcoGywgUC1wJSgsgCnEBYgWnCrAA4gSNCPsJ6QNUBPIJWwfvAhkLaghqAr0J4giPBksLBAdMC6gAeAJ+CU0L4woPA/oJTgvhBgYIKAssCwMDdgEhCBoJDwgrBPQJ8ATMCgwAWgGdCXYG+AGYCg4KUAlbCbwFdQTzBUUK7wlHBY4GrQifBaMAUguQBHEHugNyB3wHOwXuAqIKqgkjBaAKMgNECBkBVAn9CO4CYwJIAH8GjQG0BasGIgnoAQ0LfAY4CngASwbkAyMIVwtaC10LJAibCqAGSgl8BwYJ5gpTAdMKMQPyAx0IIAVSCYYIMwpSCVIJ8gPHABUAPwWJAz8FkwFcApEJXAJ9BPQAOgu9A6wAoQpuB4wHEQO+BQUK2wpfC18LoAgEAecI5wiqAhEJggoxA4IKxAaqAt0KGgHvA+EEhQeQAJYDlgMcCkkBMwuUAzAKugBjBJADyQKlAoUKnQNVCaUCUwV7BDkHmwgTBGALegNZCgEKKQveBDQJhgTpAugChQHuB88JuAovCKcDmgojAQUJkgkRBDAEJQEIChwHWQCbCYMEjAphC/EKgwWoAO4EoAWfBakKQwpHC0oI1QRfCpgIvQZrCnYAJQbNCFoJowiwA0kGNgo1CjcGNwqhAJ0A8AH6A7wEvQQDBJAIAAk+BJ8GwQVlBpUKBAgCCOQCZAsTCJkAmwQcCfgGxQccCcsB6QqwCQAJ3wPKBHYAIAsRC3sHbgJqCl8IagDvCPoDcgU9A0gGVAYPCW4KZAOuCSIKhQpuCeoF1wKFCmcLQQVPBaECLQk+C90KaQntCfcDtAfbCjwHqQSXB4IJ2ghWCmgLJAdMBjAGMAYtCEMLHAhZC2oLrwSxBA0BUwkYCcwHbgrDBQoDvwdqALoDugMtBv8HPAPVB9UHpwDZCLwBwggDAxoFAQv6BHsEWwmSB4IGqAGoAcICmQXfBEYGBgLqB84KywcYBgAIPwflCtEDDQvwCbUKjgW3CmgIiwPUB2oAGAVgCGYGIwPBAFcEIwMeCD0H2wg9C2YIwQfMByUJ5QTbBHYCdgK9CXgFFgrHA24K2wRQB74KCgRaCEoCPQdaCw4FKAbmBfsE4QfIBoUD2QSKB0QLRAuYCsQIAwszAj8KIwTEBKYJ/QjvAt8JOgqBAjILCwg7B2gI0wkdCmMLYwumCi0JrweXAcsKXQtdC64IFAtbC+kDXApvC34IEAllBxAFVgtWC+8HPAXaAPwIkgJWC6UEHQslCnALPQi/A/EF+QUHCGIJOAmyCgcITQhXCpYKsAJDCFgAiALlCLQHxQq3AHoBkwJHAncHawIIB6QDYgUABZcGcQhVA0gBTQcBAVEH1wfLAWwEgQWICsYBJAYfA/gIBQmWCfAJ8AmFBOQA4QIQA3MKoQiTCSwHkgmHCeECQwbkCGwE3goNAPIDxQOWB8AJ5AMCCgEHtwWFCTgLvQbjBHILcguXCUkGzAWhChYClQZdAqEHJgdUAsYAYgOxCmYKHwFoAuoJ3wobB+YCcwscBw4E4ApNA2YHLwuVCh0LwQhpC0cJiwPkA+QDtgqsCRUFFQU/BT8FQAVDAXULrQrrCIcISgrqA3MLAAEJBAAL3wRQCLAJ/AHBB10EdgL8AfwBAQTCB4UCdwlNCxUEAADUBN4J8wP+Cv4K/AdFCUEDiQa+CAUJ6Qd7BE4EuwYNCwYLQQswCPkC+QL2CVMDMQUfCkoK8gYKB5wHTQYxBjALdwZgBboGHgWqCiQLIwtOC30J0gWXBbkFngocCrsH2gieCpwIxgl1C8kK1AmOB9kKtgnSCMkIxAp2BNACVwlPBNoCLANUC4sKfAHcBEEHbgcrCA4GngdJCGELdQqOAY4BdQp3CzsBjQG7BCEAeADzByoDkAiRCo8KGwZSAVUHxQV4Cx8JWgnxA90CjQbIA8cDyQFQA2cFFQMbC0AGAwcJBGoFNQBJBM4IGgQQCnkLvQBZCVkJxAcxC3ABbwFlBYsDigoOAooDDgIfBiULfwN7Cx8AzwitCowGmAb+B/wHkgTzAxQBkgT7CDkAeQXoB78Kuwb8AjgLHgmwA3wL4QnZB9IEWAA3B8QD0QJlCnYJdgk2CX0LjgPNCQcEEQtHA34LHwp1B2AFeQoIAmgIjggXC38L+wp+BScJ0waTCtgJoQSDAloKNwvxCvEKDQaqB2MFpAnMCUQI+gJnBTECMQKoAMwJtAlMCnoIeginCU8LTwuvAMEKCQvsAiMJ1wGlA4ELQwmCC0MJCwGRBIILRwWDCwYAZQuJAo0Iogk5Af0BmwMPCrMDLgCzA5MBgwukAS0FdgsfCkoLrAgbCIMLgguAC8MKqgHtCvcBKgkKBSMAgAvXAo0EWwZZAKEJvQlGCc4IfQc7ChEIEAAPAG4LMwSpADEGoAfvAYUB+ggtCXAL1QGhAVYLoQFwC6EB8wW0AUAE9wUHCvwIYQngB1oLHQfUCKAHwwDEANIBWQEoC/MKwgJpC6sHuwG5CkYHlQVGB20HZQkFAaUJYwgZBrsHGQlxChkGhAnsAZ8KCQOsA1ULNQDhB68KLAvnAecBDwd1CFQHnwp4CtYFJAnWBVgKfgp+CkgDkgO5AhAKuAK3AmYDZQOsCqQIWgMgBKwKZgPICpUCTgv+AqkKpQdTCtIG6wcBBmwILAYtBtEFhgAPCagEtQc7BYcI/QXWBuUCpwFWBy8JOgFdCc0DBwuDCp4AZQOFBgsFLQnlANQGeQNeA3YL1AaOCA4IIwcIC0wJzQggC2kHwgqQAiwEjAkNAz8AbwIPBcwEhQGwAusJRwK3BgkFSAI1At0GiAFUCzMJygqxA3ELFAc0A3cIOgbxCQ4CqgQ3CDgKXQk1Cw8IOQYkB6gHTwhQCFAIhguVApYJigP2CkoBegsNBZcHvwe/A/0GXQiaCnYEfQvzBqAKawGPCaMElQOUA3cLigJEBwgJngmfCYYKcgqrCuIJpgimCJEEkAqQCpAK5QJDBF4KQAN6CX8KeQZnBu8EQAf8AyoLxgpYB+UGKgtqAbQKugpvCkoGIwVAAGUIAwOIC/gFKgTKCRoDngPpCekJqwngAeEBVgkPC+kCCAoRBfACngm4B1AHuAfmBzICsgaHC5YHywQSB5cHfAsSC8YKYwlvCzEFRAVXC1gLLQvlCLEF5wOzBcMHMAeqCqMAswntCGELgwTyCisHPwEKBLMJGQpaBkQKGAuqCc8J0AnTA6cJpQO2BSkCBwb+CG0LUgsGBsgIXAZkAx8GaQr6BOkIhgR9B+kIUAtgCuYHxwVAC3oI6gKJC2oHkQYNAW4KRAkXAjIDOgayB6ECswStBLMEhQsJCjMJkgqBCcIBwgELCvYE9wQLCg8AdQRRCxoLxwc1BzUHJAuOCY4JtgmOCREK7gc1B8wEBgk0CzgAigulATQL2QN3ChMIMQETCM8EygWAAjcAQADRAzgJigCQBpEIyQbGBL0B2ASBAi0KfQgLAYAL4QAXAUwHNADrAuUDEwsOB+4KCAuwBWMKaQJYAZQHuQa4BtsIxwS9AbIAOAYBC2wJFQSdBxME7wZcBu8GCAv+BroIWwtCCkIKXQtuC9oKZgsCAH8IQQtgCxsEqAnLA8sDrAmsCUYI3wffBwsDCgM+CKYKgAjwCIAIfwhTBx4F6QFbCHsJuwIxCsQK8wZSCB8A5gZuBJwEnAQvAzADlgWYBTADMQJqCRMLcgtnBaoF0AdCCycKPgV6BosBEgX4BcgFAwU5CE0F1wKLCaMD7AKkByMHggWZCX0DqwbGAGAK9wj2CPgKZwBnAGgAzAfyCI8JLASaAWUIUQlSC20JVQoVCuMJ9AcKB6EEEgk3CwsHBAovCLUG8QnNCs0GPwtHC4UEegA5BdYE1QQ6BdoFKgqkCqUKRgpGCvUBfgt+C3wLGAdlAsIG5wXTBW0LrgMTAqIFRAJ6BP4IQAgYCG8JiwMVCYQKDQUQApEFSAuBCmsLzwL9Cv0K0AKSBWwECAPEA4MEXQt1C8UIswlNB1wKDAWnAoQIlwIIBt8DFwpkBtwJrgpjBwEFLQo9AXkB0gpaCCsGewH2AJsCDgvUAfcG3Aj3BlABvApwAb4AowrVCUwLsQe3CokKSAmPBu0EVwDZCgUCIACLC44BLwviA/gEjgHUCoYLUwIoCIYLVAsJBAcLeAZ3BmsLRQhrC10KcgmkCikKtwnKCMUItQn0B/QHxAT0ByIA7QHQA+QDRgiABBoHGgf+BRoHmQPeCHMGBgNzBqYJKgGZBfUBRgYAClQGVQbnCuQHGwdzC3MLaQKPBeAEywrLCp0IcQsuC98GQQdIBGsAfQanCmULYwV+BuAKTQNHBxcGnABvC/gESwP4BIYFBwuqBiELCwuVA98FdgJrCdEHiAlFANgD8APRB0kG5QfdCPcJigtuBUsGSwaJATkBJgvTAAYBkwUvCAUAVwGSCs8AqAiMC0EFjAs5C/8BjAgWCUEJiQAPC1ULPgpXAz4KaQDWCAcHBwetB0IDQwUPBxMK6AWWBmUD0QBYASEAjQuzCukAgwJBCMcJewt5BTILewv3BpQJlAldBbUEewl8CbICEgaCACkDogUJCqMFWwTqCFEDcQloB9YJDwMUCrIEgAZ2A5kKYAv5ACcIlwo5C5QJ/wj/CGEDVwo2AFUDDgB2BkMCdgYmCJUJ3gdpBgoCVApRB6AINgeOAqEATwltC2MLjQtqBI0LjQuNC+gJQgrlCtABzwGxAY4LWQmOC8MDUAQoBBoBAQhUBRYJggjNBw8KwAoFBKwKLQufCTAFQAngCYEHowinBRUJDQWDCSULRgkPA+0IDgscCy4Gdgh5A3YIPAlHB2wLoQXuBR4HjAT7BkMHvwT7BgIJJAbHAxQFagdPBNwEFgqVAYkFfwl4AWEE5gnlAGcEXws8AbIIcQimBh0HNAADAc4FHARLCXkIeQjDCBkEJgTWAIEDgAP6CRIAVwVkBFIIiAsgABUBEgmFBhMJ0gYQAg8CcwDyBCIIEggBCecJMgqCAgwLgwKeBPMJTwtBBvcJqgciAf8HkwWPCx4Kjwt/C3wEFwdfBoIBTQrRANsAOwm8CAoLCguhBTsJFQnMAhEJhAqkBxoD0QrRChQIYwi6BJALYAg3CBkHgQCdAwUE3QH1BCMGYgpUA5oI",
          "dtype": "i2"
         },
         "name": "Mesh",
         "opacity": 0.8,
         "type": "mesh3d",
         "x": {
          "bdata": "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",
          "dtype": "f8"
         },
         "y": {
          "bdata": "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",
          "dtype": "f8"
         },
         "z": {
          "bdata": "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",
          "dtype": "f8"
         }
        },
        {
         "line": {
          "color": "crimson",
          "width": 3
         },
         "mode": "lines",
         "name": "Polyline 0",
         "opacity": 0.95,
         "showlegend": false,
         "type": "scatter3d",
         "x": {
          "bdata": "0D2RIwuwuUAM7zzRi8i5QAX9tg284LlAhqMXtynmuUArzZrCvwu6QNVWJxIEK7pAfyp7ozQ3ukAdihocukC6QO866/bwXLpA",
          "dtype": "f8"
         },
         "y": {
          "bdata": "i+Tbl6InvUBxD37svCi9QJ3BmPJ/Kb1Ajtr0y14pvUDeeXrOwia9QEq+UNyAIr1A7cmzdgUgvUCaRw90KB29QFoEpGJnGb1A",
          "dtype": "f8"
         },
         "z": {
          "bdata": "GLj8YjARrEBurCpOpRmsQAA9yXQVIaxA5TXgbksirEAhS4NMkC+sQHPKEb5OSaxAK6vKTPhVrED1J8oSa1+sQA9DtGcnkKxA",
          "dtype": "f8"
         }
        },
        {
         "line": {
          "color": "crimson",
          "width": 3
         },
         "mode": "lines",
         "name": "Polyline 1",
         "opacity": 0.95,
         "showlegend": false,
         "type": "scatter3d",
         "x": {
          "bdata": "e17Mq2a9uUAghpyea8u5QAgGzZzH4LlAqS6tGUH0uUDlvGMKvwW6QJvqqztcErpAk6bcjAocukAt5P09LCW6QInuEWAuNLpACH15sk0+ukAQUjg1NV66QJACubNMdbpApc/KiyuJukD5SBaV1cK6QMjWbhOD/7pA",
          "dtype": "f8"
         },
         "y": {
          "bdata": "/KjRyqDEu0CAJeIb8767QIIMzmp9wLtAPTJryey8u0BN1ZuPYbq7QLZdq5y7trtAFrjtBOSzu0B1f6RExbC7QItvaqPwq7tAxYG4DAGpu0BFzoshdp67QF+nnYuTlrtAAJxstu2Xu0BNH3cHyZu7QDoRBAOgtrtA",
          "dtype": "f8"
         },
         "z": {
          "bdata": "tdZYAdkbrUDdr/wlhR+tQHLmHc90Ka1ASzK6pQ4wrUCxx8DMxzKtQKJvCFdcNK1APfQq0V81rUBTCga5wzatQDexjEyCNK1AWyyHEaUzrUC4e+nwODKtQAyNj/WFMq1A0PkF+0EprUCskZiT0g6tQPL6OtY+iaxA",
          "dtype": "f8"
         }
        },
        {
         "line": {
          "color": "crimson",
          "width": 3
         },
         "mode": "lines",
         "name": "Polyline 2",
         "opacity": 0.95,
         "showlegend": false,
         "type": "scatter3d",
         "x": {
          "bdata": "e17Mq2a9uUDs1oj/AbW5QAkqRhuHrrlAkvgBntqjuUAHYMYqfZG5QNnL76lai7lAmNFLBHaGuUBlV5OjfIK5QESN5io2frlApGt1b7Z8uUAHSyEQYHq5QGVPNrcKd7lAIJ0WaGF4uUD2Z69+9nm5QChmsUQ+fblAfO4LvLp/uUC9mwtggoK5QC+l/y7chblAX6G7nxyLuUBq4Fy0Ho+5QBvK8R38lblAAwbLG5yZuUCD18tdVJ+5QEZnV4aWo7lASmamReGmuUBgmMtbmKi5QCnIEhlMqblA6/m9pT2quUBLmbXbuau5QKYDeAzbrLlAef5PpUatuUD2SsMEfq25QHYorklOrblACnPPe/OsuUDWP3BxQKy5QOWM5LURqrlAWx2ze4mmuUC8Ajpdqqa5QBR79rbwprlAk7dpeIanuUApjLFX/Zu5QA==",
          "dtype": "f8"
         },
         "y": {
          "bdata": "/KjRyqDEu0CVqgSfXaq7QCdmC2l9obtAZsT8+jiWu0BgwF/bUoO7QLA9+eTVdbtAEI8uHfRqu0BFGFdZA2G7QGNAMzd4U7tAlWlDcZ9Ou0AI3ALp2UW7QO7+eTqUNLtATSAyi/wju0CT4OnBsx27QABL2nl9D7tAfYDHnjkIu0Cgu6Gf1QG7QJaxxzkb/LpAJt9b5pPyukDmUVQk9+u6QBuvkqzk4LpAJXD+P5/XukDnIcfzRsS6QDCAFOknsLpARhjdug2cukAXRbfAuY+6QHHSA8YTirpAdJ2ZPKiBukDfUKkndnO6QLgG80w3aLpAXFJWsfpiukDGmjPntle6QImr3A0VULpAmKVvZbNIukDL1Zlrrj26QPbSEXfMLLpA/LTDSAcPukCYZZLxBQW6QIxD5p0x/blAZm1cLZ30uUAJL11JMeC5QA==",
          "dtype": "f8"
         },
         "z": {
          "bdata": "tdZYAdkbrUAY6lzwAQ2tQEEc4p9WBq1Aw/fhoxD8rECV7AgDmOmsQItUyCLl3qxAGY2ehTbWrEA7cJe4Ls6sQEX5poJXw6xAPUjUAmm/rEDoo3hi1besQAccWMWupqxALF1EigmOrECWnFmNmYKsQF65yhxVaaxA/enhEaxarECVcfJHt0usQErFM9YrOqxAQCX4FCoerECYJkjVIwisQNg94o0B4qtAEJ5NxBbHq0Dqq1c+qpurQOsl3OKheatAZjm4Y+dhq0DemHcRg1SrQKt7G+y6TqtA5Dal/6NGq0DTYYbIZTmrQNUz7seSLqtALj2vPXEpq0CFyYQwxx2rQDbqahKiFatA8O94yogNq0AfiApZzACrQK5W108C6qpAVoT7DUW+qkCJbdrQGq+qQMipBL4JpKpAe0eXXDeYqkDSQQPrlnyqQA==",
          "dtype": "f8"
         }
        },
        {
         "line": {
          "color": "crimson",
          "width": 3
         },
         "mode": "lines",
         "name": "Polyline 3",
         "opacity": 0.95,
         "showlegend": false,
         "type": "scatter3d",
         "x": {
          "bdata": "e17Mq2a9uUCzrrK6x7G5QCNQO5X6orlAFVc4DRiUuUCWBpWLR425QDMVbCyGgblAK50CPgh6uUBdn8YbQnS5QENS2O/AbblAgffKtxZjuUAlUEGWr1a5QF8glXXtTblA",
          "dtype": "f8"
         },
         "y": {
          "bdata": "/KjRyqDEu0BZ9hZjjeG7QO1iLPpx8LtAbWdLWDv/u0BL8DAX7Qa8QNUCUKOXFrxAL9krsy4hvEBxlk+NMSm8QFulzOMhMLxAu5F5Xg86vEDQQZyTHES8QMCgDk2qSrxA",
          "dtype": "f8"
         },
         "z": {
          "bdata": "tdZYAdkbrUDxb7fhHCOtQM44MguTIq1A0K6S7mkhrUAgTRmI/yCtQPiWvYfcIa1A6GW1XbEirUC0sKzBSyStQJ+qL4GuJa1AWbq67iYnrUAtYq7eQSqtQHAcxJwSLK1A",
          "dtype": "f8"
         }
        },
        {
         "line": {
          "color": "crimson",
          "width": 3
         },
         "mode": "lines",
         "name": "Polyline 4",
         "opacity": 0.95,
         "showlegend": false,
         "type": "scatter3d",
         "x": {
          "bdata": "HKwBQN0su0DI1m4Tg/+6QA==",
          "dtype": "f8"
         },
         "y": {
          "bdata": "qT+wiL1qu0A6EQQDoLa7QA==",
          "dtype": "f8"
         },
         "z": {
          "bdata": "r8Wvl4ZvrEDy+jrWPomsQA==",
          "dtype": "f8"
         }
        },
        {
         "line": {
          "color": "crimson",
          "width": 3
         },
         "mode": "lines",
         "name": "Polyline 5",
         "opacity": 0.95,
         "showlegend": false,
         "type": "scatter3d",
         "x": {
          "bdata": "HKwBQN0su0ABbsuXlTu7QACv8u27Q7tAIa1V/4VHu0A0aeue/E+7QHM7tJ6KVrtA69GmuvxYu0CIWSoim1q7QGOGcYI8X7tA+vGMJB9lu0B7J5+4Xmi7QPDEPNdYbLtAWIZAEghzu0BWW9oBA3i7QKWyDDd5gLtA5JjzYLWQu0A4r7VuYJe7QLNW64WjmLtAgZLbTbaau0C17BQrt5u7QGo8N/LPnLtAH8tzWImdu0AHegvCIp67QKQOU9/PnrtAJd8c3n6fu0B1/V+OH567QHrTY3i1mbtAmXJe8GiWu0CF12AFgY+7QICMqrwXibtAkVwXHGh/u0DYaWE5p3a7QHJX/w37ZLtAOVZlVhZXu0C01tRj2ku7QABHKkhpObtAMLVERcYku0Bk9ie+7gy7QAlhqxRg/bpAw3y1zIDrukCd5jprwtG6QA==",
          "dtype": "f8"
         },
         "y": {
          "bdata": "qT+wiL1qu0Cz8xaPiDa7QBtxByEAC7tAO6ev3yoDu0DK4Az2u/a6QCQyKFXg5LpAzR+5M2jdukDt6fUShdm6QKZSOYq20LpA3r6diFvFukDeuEZJnL+6QFMVYgQVt7pA+Xqs6+unukC5IWyFhp+6QO2I9qnQlbpA4GR8Y1N+ukCjiYOMp2q6QHYIqG19ZLpAqYLtjIpXukDwd3VMg0u6QE3Inu4IObpAkN2NrfUrukCMK3O6cyO6QChuDA0kELpAq0AsaNgBukC9SZALwfa5QEKf0tSU1blAH8tejgfJuUB2c6v6SLu5QHVYu7VPsLlAE1HqF8+luUAkxvB/W525QCgl4JtBjblAYA99ILuGuUDEZO4HqYG5QL/XButneblA+rtGl4lwuUBmXrz4mmq5QLF2D0zVaLlApAsxAuViuUD2NtpZm1m5QA==",
          "dtype": "f8"
         },
         "z": {
          "bdata": "r8Wvl4ZvrEA+IdU2kWGsQNEMYZ6OPqxAgU1P3Do4rEAc3wq6SCysQHIyybIFE6xAaCIx8m0KrEANpXNpvwWsQDo5m4TK+qtAWCUt/Cnsq0A3ZwrJ3eSrQHBjIuSL2qtAI06Hx4PHq0AsxmRhsryrQEps9oD1r6tAER5piCuVq0CMU1xHGYKrQM4y+MxFfKtAROxUyN9vq0AvhHrhy2GrQCByWprVR6tANVqbmz00q0Cjsp8n8yKrQAimgluK+KpAiDoiiNXSqkBthO6nWbaqQEkfZC+acqpAEK6yenlkqkALwqAvqFSqQFtfdG24SKpAfIqR4G1BqkA8fCA0sz6qQPKjAvMRPKpA2R3C25Y8qkB0IFliLz2qQEBXLQbzPqpAjaFFiOdAqkBMp7k4Y0GqQAlaFbJ6P6pAp0TSWYREqkBR7i/hV02qQA==",
          "dtype": "f8"
         }
        },
        {
         "line": {
          "color": "crimson",
          "width": 3
         },
         "mode": "lines",
         "name": "Polyline 6",
         "opacity": 0.95,
         "showlegend": false,
         "type": "scatter3d",
         "x": {
          "bdata": "HKwBQN0su0Am3v4yQRG7QGH2TW+YBrtA7r6UEsnlukBdKZwmxs66QEOsU/uVxbpAOi6oz3e7ukAZ5pG2O7W6QL3Ly0EqrbpAFSgaSweaukDgTrJQDIe6QKYvJy+XhbpA",
          "dtype": "f8"
         },
         "y": {
          "bdata": "qT+wiL1qu0ADC6UT5DK7QNsar2K3G7tAEq08ewX6ukDChIo16OC6QAB2rYPQy7pAuoOWrnO8ukAlO7WPwbS6QHPFdaB1rbpAEJhrI7OjukDa+yn8GY+6QNwogc0HjbpA",
          "dtype": "f8"
         },
         "z": {
          "bdata": "r8Wvl4ZvrEDhgj+KsnSsQDtyiA8PZaxAGUin29dNrEAod1gUKjisQPzbW3+SH6xAXowJs1ELrEDtHuV5AwGsQOiRi8Wp9qtAwO0OdGntq0CgyqCZ9OSrQEhT1JSf5qtA",
          "dtype": "f8"
         }
        },
        {
         "line": {
          "color": "crimson",
          "width": 3
         },
         "mode": "lines",
         "name": "Polyline 7",
         "opacity": 0.95,
         "showlegend": false,
         "type": "scatter3d",
         "x": {
          "bdata": "HKwBQN0su0D0nKdV2Ue7QNEHg8sNVLtAD6Jxg7pYu0CsbVK4GF27QGwwbAOnY7tALs2/V9dpu0ABYZE7i227QPi1ZG/TebtAUzhJhWh9u0BEA42OXoC7QOwAVsykhrtALgyazE+Ou0Cm8+wQQ5S7QNJucbzYkbtAdpDVqpGQu0BbCjhFHIW7QF0BsleUebtAIYx4V1tqu0ACA8bJWV67QOaAoWruWLtAM6HmTiFQu0A1dGOR8kS7QA==",
          "dtype": "f8"
         },
         "y": {
          "bdata": "qT+wiL1qu0C0RLIT02K7QFWisg2oZbtAPNqXxRJou0Crgx68QWq7QEh4grRYfLtAhce5Sx1/u0A8WoNz1oC7QMTr+XTuhrtAa9/77RyMu0DPE23nd467QOvSCwcLk7tAJl95fCeYu0BuLeblkpu7QHhu1PQXoLtALbqk3UShu0C7tCUvlaK7QHbX7Cvho7tAdmd3LJqlu0CNM8v1waa7QPHxXQjqo7tAFJUu8c+eu0BdxVkHNZ67QA==",
          "dtype": "f8"
         },
         "z": {
          "bdata": "r8Wvl4ZvrEB4epOe8zasQOCC7szjCqxAyRNzhVH4q0D4SJtqlOarQLXwAn2jqqtAXasaojqTq0Bh3kOhI4WrQIXlOVjzVqtAiRKkS9VEq0DE3lpRBTqrQLAgv76YJatAFt30ZeQLq0DgJplZ4uyqQAsccUU3vapA1sJGr2SuqkC6zG1K1oaqQPwTwyjTX6pAfz4PXP48qkBaKQDmRyeqQCaTfuCaGapAyOD1WtMCqkATo0aylfOpQA==",
          "dtype": "f8"
         }
        },
        {
         "line": {
          "color": "crimson",
          "width": 3
         },
         "mode": "lines",
         "name": "Polyline 8",
         "opacity": 0.95,
         "showlegend": false,
         "type": "scatter3d",
         "x": {
          "bdata": "yrc+QuPWukDdtV+TUt66QMdqtvkl5bpAu38yvgnrukDsEW2GSe+6QE/VZWiv9LpA4HE9cW33ukCSyVKeL/i6QPtoEx6997pArp9XvBv0ukBMPtuKyO+6QCV+KOfw5rpAtRp/GfDfukDWOQ9jVdq6QB2BqBswzrpArYPmYZy0ukBovQnE/Kq6QHA6YXuKsLpA",
          "dtype": "f8"
         },
         "y": {
          "bdata": "25T01UA/uEADyuk4bkq4QLA5etN/VbhABtIrU4lhuECBVreHzWu4QK8hMI5ofLhAP7L0PTmLuEA807gMLpO4QOuzgSZ+obhARrJ06HKsuEA/KIHicbW4QN572jQQw7hAW6EiuMDNuEB4JWoEnta4QL6GHph957hAKLos5B8HuUCVhBc9jSK5QGsY3FLFPrlA",
          "dtype": "f8"
         },
         "z": {
          "bdata": "5PRuMVXwqkCKqFwSsfSqQEXAy1+t96pA8icoZ9L8qkBbTpVxnAGrQInteV1DCatAzZav8QEPq0AYf8Yn1hGrQEslDhWvE6tAi10N1nkKq0BdoLxN2AGrQHglJcaq9KpAQ5lcJU3qqkBIf1IacOGqQPEh0YTA0KpAQGzO8WSxqkAY86+xrJGqQA0AGockbqpA",
          "dtype": "f8"
         }
        },
        {
         "line": {
          "color": "crimson",
          "width": 3
         },
         "mode": "lines",
         "name": "Polyline 9",
         "opacity": 0.95,
         "showlegend": false,
         "type": "scatter3d",
         "x": {
          "bdata": "UfceKeTxuUAA53QSEfS5QLJMrwX19LlA4r1t/Pz0uUA=",
          "dtype": "f8"
         },
         "y": {
          "bdata": "8Qov1hSquED0N42xuKq4QLoGXMDvqbhAVBXcpseluEA=",
          "dtype": "f8"
         },
         "z": {
          "bdata": "lgOcPb3gq0BRYpEbrs+rQK/YeP2fvKtA+o8zAf2Rq0A=",
          "dtype": "f8"
         }
        },
        {
         "line": {
          "color": "crimson",
          "width": 3
         },
         "mode": "lines",
         "name": "Polyline 10",
         "opacity": 0.95,
         "showlegend": false,
         "type": "scatter3d",
         "x": {
          "bdata": "HQKOwmZZukC49oLtWFi6QDVlkjMrWLpAvoACLr5WukBYQHy2iFa6QNIaseiPVrpArGXqfZ1WukCOAWXWY1e6QMiIijJsV7pAc5lpxLJXukDTm36oMVm6QO866/bwXLpA",
          "dtype": "f8"
         },
         "y": {
          "bdata": "r7MrkQJevUDHHJw2JVq9QBbFV84+V71A6hWIWvhUvUAZxMiIAFC9QHqivoKtTL1A1Tt//wNIvUDAy0SMBDq9QIu7LxutM71AgJiZ9H8vvUASbR70via9QFoEpGJnGb1A",
          "dtype": "f8"
         },
         "z": {
          "bdata": "uKtgycjcrUCJs+MZU7qtQAIGkClypK1AWWVQiQWUrUCHGR4WD3qtQIqtFKlGaa1A8Mve8dtRrUB2n/epgwWtQM1nYX3F66xAHMZEtYvbrEBc+J/PV7ysQA9DtGcnkKxA",
          "dtype": "f8"
         }
        },
        {
         "line": {
          "color": "crimson",
          "width": 3
         },
         "mode": "lines",
         "name": "Polyline 11",
         "opacity": 0.95,
         "showlegend": false,
         "type": "scatter3d",
         "x": {
          "bdata": "47N39BFhu0CDyrvSwFS7QBz4oQiLSrtAM/OQoMBGu0DFYoxE10O7QDV0Y5HyRLtA",
          "dtype": "f8"
         },
         "y": {
          "bdata": "8KAGh2hJu0B2XXRgSmC7QHKNVaYTg7tAsK82r6qLu0C5cUw+wJO7QF3FWQc1nrtA",
          "dtype": "f8"
         },
         "z": {
          "bdata": "s6EuJ+l4qUDm2G2SOJKpQKnmYjKWv6lA4n10+FzLqUBAjS9H/dmpQBOjRrKV86lA",
          "dtype": "f8"
         }
        },
        {
         "line": {
          "color": "crimson",
          "width": 3
         },
         "mode": "lines",
         "name": "Polyline 12",
         "opacity": 0.95,
         "showlegend": false,
         "type": "scatter3d",
         "x": {
          "bdata": "9a/PCl7FuUDKkahOdMm5QKHJcH5BzblAhnCmpfTZuUDM8KlKId+5QCYQtJL/7LlA4r1t/Pz0uUA=",
          "dtype": "f8"
         },
         "y": {
          "bdata": "tKjNGUtbuEDBgXXhgWK4QEGGrVvxaLhAekSRxRZ9uEDklGr8BYW4QH/vhyHNmLhAVBXcpseluEA=",
          "dtype": "f8"
         },
         "z": {
          "bdata": "mAXayFdKq0BONCy5PFGrQFvrM15GV6tAupfaylhkq0AQYJkmHGmrQKo6aLQ6datA+o8zAf2Rq0A=",
          "dtype": "f8"
         }
        },
        {
         "line": {
          "color": "crimson",
          "width": 3
         },
         "mode": "lines",
         "name": "Polyline 13",
         "opacity": 0.95,
         "showlegend": false,
         "type": "scatter3d",
         "x": {
          "bdata": "nM4ObCviuEC5ND99hOK4QK7Ik2TG5bhAx/wRBNj8uEA=",
          "dtype": "f8"
         },
         "y": {
          "bdata": "eBW7oXHauUAuD8H249O5QDOrxvq5wLlAAeF5hzmuuUA=",
          "dtype": "f8"
         },
         "z": {
          "bdata": "7aAQg0XwqUAwrjSth/WpQJbbIp/IBKpAc7GkBmEnqkA=",
          "dtype": "f8"
         }
        },
        {
         "line": {
          "color": "crimson",
          "width": 3
         },
         "mode": "lines",
         "name": "Polyline 14",
         "opacity": 0.95,
         "showlegend": false,
         "type": "scatter3d",
         "x": {
          "bdata": "UhRd1s0RukAbKvUmKhu6QC7oPsLrIbpABvVI9VZAukBIE213wFO6QDySD93DY7pAiNM6WaltukD46fIzh3e6QOD8d8RpiLpAt/MjCuGUukDKzxgA5Zy6QB7fLvuFprpAtakZr3KvukDG9xGo+Le6QCD5wC+6t7pAVp6Zwgq4ukBe2wm897a6QDowtAnkubpAkzYskr69ukDM+3DWwcC6QJ3mOmvC0bpA",
          "dtype": "f8"
         },
         "y": {
          "bdata": "RXit3VyVuUAWa1L81KK5QIPEuqx7tLlABt2XnELIuUDTKr7Ki865QM+mqn5K0rlA0DiIOvHTuUCgOcW+8dK5QLsvApZc0blAkdrwECvLuUAZGKbY2cW5QDhpQdIju7lAEBnxLcutuUDivhf6yZ65QO8wpErTlLlAEYl/ADGNuUBTFDeiHoG5QJ9+gpHXeLlAYfZysW5vuUA90LX8Hma5QPY22lmbWblA",
          "dtype": "f8"
         },
         "z": {
          "bdata": "ML47vKUBqkBY+n9eT+ipQMaOOelv2qlAcLB+LI23qUCiEWJA65+pQEBsh+McmKlAAmWYyiOUqUAOFLta1pOpQD4/zDtRk6lALt1ii0maqUAq8sAq76CpQGrmCtbxralAWJrjB9/BqUDwrV4dztipQNHR0QC36KlAs9eA/1/1qUA4HPZ9IwmqQDVAFI3bFqpAqyzJmXomqkCkqGszoTWqQFHuL+FXTapA",
          "dtype": "f8"
         }
        },
        {
         "line": {
          "color": "crimson",
          "width": 3
         },
         "mode": "lines",
         "name": "Polyline 15",
         "opacity": 0.95,
         "showlegend": false,
         "type": "scatter3d",
         "x": {
          "bdata": "UhRd1s0RukDvcbNyJ/K5QDzgjIMF47lAksgCRiniuUAdE+U4etm5QFbm27An0blAEeGBgKbFuUDLYvHuxLi5QCmMsVf9m7lA",
          "dtype": "f8"
         },
         "y": {
          "bdata": "RXit3VyVuUDN2838n5q5QPyi0MFjoblAjo/RjOihuUCBp7E/TKi5QH+BEFbirblAK177//+zuUAW2TQ6xL+5QAkvXUkx4LlA",
          "dtype": "f8"
         },
         "z": {
          "bdata": "ML47vKUBqkDsDq4lERaqQNZVmMB5IqpAzOKeumUjqkCn9XCpjC2qQNb8exx6N6pA6PSD9stEqkB2FhNbcVWqQNJBA+uWfKpA",
          "dtype": "f8"
         }
        },
        {
         "line": {
          "color": "crimson",
          "width": 3
         },
         "mode": "lines",
         "name": "Polyline 16",
         "opacity": 0.95,
         "showlegend": false,
         "type": "scatter3d",
         "x": {
          "bdata": "UhRd1s0RukCZYRM8Dhm6QFhoRPR8HbpAKnpnURonukCVGCQ2Yii6QLfJNq8dILpA",
          "dtype": "f8"
         },
         "y": {
          "bdata": "RXit3VyVuUDIVU2wQoW5QJa54YlFeLlAOZTSD6ZpuUC0/VnEW2S5QP9m1IWkU7lA",
          "dtype": "f8"
         },
         "z": {
          "bdata": "ML47vKUBqkBIF/qZYRGqQCdwXwZWIKpAC8H05gUwqkDmuqLheTWqQB25na19QqpA",
          "dtype": "f8"
         }
        },
        {
         "line": {
          "color": "crimson",
          "width": 3
         },
         "mode": "lines",
         "name": "Polyline 17",
         "opacity": 0.95,
         "showlegend": false,
         "type": "scatter3d",
         "x": {
          "bdata": "4r1t/Pz0uUCXy2Av7gi6QIyci2qCEbpAhXNVUa8UukD7r+b8mhi6QJeFFyt+ILpAylSbf1cwukCxwrExTDq6QHUCe7rhP7pAPtim/JxNukC8xizkDVm6QIwH7MWUYbpAbnQ7SB9oukDwertsZXC6QA==",
          "dtype": "f8"
         },
         "y": {
          "bdata": "VBXcpseluECWyWXh6Lu4QGr+ZGD3xbhAHZxzbpTJuEAURj5x/c24QC2N09cD2LhAjuaDMsziuEC6e8CPt+q4QEBN28458LhAssrE4HIEuUChZgz9ZBW5QPkoa/K3ILlA32m/948puUC7zJwmUTW5QA==",
          "dtype": "f8"
         },
         "z": {
          "bdata": "+o8zAf2Rq0DYkBOkxnSrQGrOZjasbatAuoNiYwFqq0C4hSPmVWWrQPnEjSysU6tAwHzd5/Q1q0BUcaLdUCCrQJtFWyEXEqtAOGVYPOfiqkDMLmgcE8GqQKCkjac8qqpAMCzLhjKYqkBigzkgMoCqQA==",
          "dtype": "f8"
         }
        },
        {
         "line": {
          "color": "crimson",
          "width": 3
         },
         "mode": "lines",
         "name": "Polyline 18",
         "opacity": 0.95,
         "showlegend": false,
         "type": "scatter3d",
         "x": {
          "bdata": "x/wRBNj8uEB67FCdD+m4QJSJj1t53bhAWtgT+g3auECga6cDsdi4QKI75ZUt17hAi0kqb/LVuEDVictNU9a4QCXBJ/Fi17hAutqai6DduEA=",
          "dtype": "f8"
         },
         "y": {
          "bdata": "AeF5hzmuuUDhAK5AhpG5QAqEaYFWe7lAetWh9YNvuUCGuVoiJGm5QPBniQtuYblAzs/QI8FRuUA7VP//xUm5QPXdN3SlQblAvYhsaiApuUA=",
          "dtype": "f8"
         },
         "z": {
          "bdata": "c7GkBmEnqkBmMpZUjx+qQLaqmB2qHapAU+YrO08eqkDQfdqGOh+qQHiqT9ENIKpAUtjJv84gqkDyle10tSKqQCYRtt2nJapAG1b87QovqkA=",
          "dtype": "f8"
         }
        },
        {
         "line": {
          "color": "crimson",
          "width": 3
         },
         "mode": "lines",
         "name": "Polyline 19",
         "opacity": 0.95,
         "showlegend": false,
         "type": "scatter3d",
         "x": {
          "bdata": "x/wRBNj8uEDaw9E+gQy5QADbuygOErlAFljy2DUWuUCGVSceIx65QDH4gk1PJrlANNs+/PY2uUDrFPvzCVu5QKG0S/d1ablAkMuP7gV7uUCSIp9qpIG5QCmMsVf9m7lA",
          "dtype": "f8"
         },
         "y": {
          "bdata": "AeF5hzmuuUDir0baj7q5QB6hAkAqvLlAXdrHZ3a/uUDz5vJpf8W5QAe5e2/JyblA9IMLTw/PuUDubhEEWNa5QLS8Lf4H1LlA9QCFLQHRuUAgEKOg4dC5QAkvXUkx4LlA",
          "dtype": "f8"
         },
         "z": {
          "bdata": "c7GkBmEnqkDhYJdzqDKqQGMa/V3sN6pA9Q39wIo6qkBVVDQ3ej+qQFaIvYypRKpA7gpOR/RPqkDEZAhqnmaqQM2PC4VBZqpAPU8tE6dlqkAQDMgOgWaqQNJBA+uWfKpA",
          "dtype": "f8"
         }
        },
        {
         "line": {
          "color": "crimson",
          "width": 3
         },
         "mode": "lines",
         "name": "Polyline 20",
         "opacity": 0.95,
         "showlegend": false,
         "type": "scatter3d",
         "x": {
          "bdata": "NXRjkfJEu0CgPWSsgzG7QD8TG3pTJ7tA7PbDYWQbu0CJfOWanQK7QNiZrcsw97pAkL26kNXtukCpnBZmz+K6QMuVLbD93bpAa55VlF7bukCjtfTBH926QDSsKv7P47pAVOAzhdXsukCwdJFX7Oy6QNlBpd937rpAyNZuE4P/ukA=",
          "dtype": "f8"
         },
         "y": {
          "bdata": "XcVZBzWeu0AlGMhtwqi7QJJZPlKzr7tACogzDBu3u0AispD6ZMG7QBi4IPz6w7tArQwSpATGu0Cq18WWyMi7QIhocBdJzLtAOOSOEt/Ou0CD9428sdO7QKSa3ULL0rtAjGpLfRjQu0Cdfivj6tO7QOgjjHUN1rtAOhEEA6C2u0A=",
          "dtype": "f8"
         },
         "z": {
          "bdata": "E6NGspXzqUALVguKB/SpQMv/gh8N+KlAOpHr+M77qUBG4js2RASqQMwcn/rzFapA0SI+ihcnqkB3/4hs4D6qQAi0QIFGcqpA3+WdePWXqkBYD3EnLQmrQBJP9mNUPqtABNh1dqlzq0Com5wKh6KrQOvaXt1V2KtA8vo61j6JrEA=",
          "dtype": "f8"
         }
        },
        {
         "line": {
          "color": "crimson",
          "width": 3
         },
         "mode": "lines",
         "name": "Polyline 21",
         "opacity": 0.95,
         "showlegend": false,
         "type": "scatter3d",
         "x": {
          "bdata": "utqai6DduECuv6qAN9K4QKt4tpIM0bhAXizzu/jPuED+B2BG2s+4QDHdQl3r0bhAJjGrtdLauECrcrAZSeO4QP+MFDsM9LhAM6q2kCMCuUB0b93KRQ+5QK2A/7ziIblAqyHm128suUCwKS5xyzi5QOk9kqWAQrlARpQhb21NuUDyTXtDL1q5QE93AZdgablARQHUlHp7uUB8iM4Rn4K5QORm0adLjblAB5830W6XuUDXgLaJsqC5QKm8KE7Os7lA+BjVTjy6uUDD3+nFSsS5QAaDA1x+zrlA1KovZ4zVuUBMlTTDsN25QOf2qnVk9blALRaUhY0JukA=",
          "dtype": "f8"
         },
         "y": {
          "bdata": "vYhsaiApuUCDZNKdtCG5QEkLpIxZH7lAyRjffyQduUBOiYgVrhq5QE+OpzuQF7lANpcFdagTuUClSeiBzRK5QCATacNIEblAGzHRPogQuUDVLZBCxw+5QCLdtCr/DrlAhz1TC5oOuUDx1tqiMw65QEIsxaVzDrlAenBWn88OuUC4KJ+dUQ+5QDjGU/MvELlA6y9xel8SuUBq5R6VUBO5QAf7WMh8FLlAveo1v7IauUCC/vANrR+5QA+/e2KaKblAUCSBlYYtuUBnu6M4DDW5QGqsdbyxPblA9SUCqDlDuUB6oJ2Puke5QC6pMGJzULlAewoImzJPuUA=",
          "dtype": "f8"
         },
         "z": {
          "bdata": "G1b87QovqkBUO065WOipQF3KtpeAzalAhGS6Yv2xqUCAwAouu5apQEgzLMC2eqlAhQLSymNMqUAsw1NHdj6pQPoPbWZ5IqlALQsQyMASqUD719HEigOpQCIqbP8o8ahA3kU8eUrnqEAoWwaSa9yoQFHEd+4T3KhAyP6ITNHcqEAKXexfMt+oQJQKS0KF5ahAm03COwD+qEBWl0slmQipQFPqU+TcFKlAgM/zp6InqUD0IVtGozepQGMBVsicV6lA7w7WUTdlqUCjhV0SA4CpQDE8DYuzmqlADKuED9KuqUCAMaiT58GpQKyNMIczBqpAPogg3lk1qkA=",
          "dtype": "f8"
         }
        },
        {
         "line": {
          "color": "crimson",
          "width": 3
         },
         "mode": "lines",
         "name": "Polyline 22",
         "opacity": 0.95,
         "showlegend": false,
         "type": "scatter3d",
         "x": {
          "bdata": "utqai6DduECJbEaFR+a4QKOmVyCp77hAFYjlt739uEDMtUt1RxC5QAFkoe/mMrlATErwu0RUuUCSQHtN2Gi5QD7Qa0j0hblAD9kFvi+OuUDZqNBHCaG5QKe0uMXkt7lAAJsLYN7GuUDvF5sr/M65QMLNsNxd67lAke5f3sz/uUAtFpSFjQm6QA==",
          "dtype": "f8"
         },
         "y": {
          "bdata": "vYhsaiApuUAp0jiXCyG5QD3eHjo2FblA4wT3yqwOuUDc+u+z3wy5QNWpuicaELlAA6HHXgMVuUAh4ALvJhi5QLOZN0UBJrlAvwtL5FAquUDV5pJH7DG5QC0+SYAwPblA/V157qpAuUDnoDvGB0K5QGhPNWV9SLlAvbP7XplJuUB7CgibMk+5QA==",
          "dtype": "f8"
         },
         "z": {
          "bdata": "G1b87QovqkBF8hvGa1GqQN9RGhf4c6pAT5asiESSqkCr+FS/L6qqQBoz2aI8uqpATS6Uffa+qkA1xVfpkcGqQFZmdUfil6pAhR9YhLyKqkDaF6b22XSqQMkzy4LFX6pALsC7WDRXqkAKkMgDPFOqQFUdQ3iCQKpAjx4XqkJCqkA+iCDeWTWqQA==",
          "dtype": "f8"
         }
        },
        {
         "line": {
          "color": "crimson",
          "width": 3
         },
         "mode": "lines",
         "name": "Polyline 23",
         "opacity": 0.95,
         "showlegend": false,
         "type": "scatter3d",
         "x": {
          "bdata": "7zrr9vBcukDVVuEJx2O6QMxL+w+iaLpAXZleD3NrukAFR8QuwnS6QGRUv1ZsgbpAxU6xKbuJukD8b3L2TY+6QJ0Iwc5jk7pARkOAaA2YukBH7ysiOJ+6QGyLgXcpurpA",
          "dtype": "f8"
         },
         "y": {
          "bdata": "WgSkYmcZvUBtWU2HYwi9QExAR+nwAb1AsrpPegn+vECFpAIy//K8QHZ4M1qU5rxA4zKSuEzevECA4dnnBdm8QFBzWdEq1bxAdCIwr5vQvEDa7dgSuca8QHTmUs2Xr7xA",
          "dtype": "f8"
         },
         "z": {
          "bdata": "D0O0ZyeQrEAgGn8ZVVysQAOwCrx+TqxAVRuOpdNFrEAjck5ZmzKsQCug9gdRJ6xA7KDdyU0jrECf88aghyKsQOkCW+jwIaxAQGuTj00hrEArumjpMSCsQE54jCvBIaxA",
          "dtype": "f8"
         }
        },
        {
         "line": {
          "color": "crimson",
          "width": 3
         },
         "mode": "lines",
         "name": "Polyline 24",
         "opacity": 0.95,
         "showlegend": false,
         "type": "scatter3d",
         "x": {
          "bdata": "bIuBdym6ukBzu3yjWa26QNgxpraRqrpA4Dv+0vynukAKHOUWJaq6QJfEcNtdq7pAS831AXuxukAjB2B5xb26QNTMcLvKy7pA",
          "dtype": "f8"
         },
         "y": {
          "bdata": "dOZSzZevvEAjNATDaJG8QBfaBqrleLxAXHUFlTdovEBQa9vW6VS8QG37z2gHTrxASjCtBFk8vECloL7rXia8QOELFPgl+rtA",
          "dtype": "f8"
         },
         "z": {
          "bdata": "TniMK8EhrEDQm5yDpROsQEl1b82SC6xAbHjABy0KrEBeYdwIIw2sQGMousT4EKxARVltSLMirEB9MHX6CTOsQHGafStDHKxA",
          "dtype": "f8"
         }
        },
        {
         "line": {
          "color": "crimson",
          "width": 3
         },
         "mode": "lines",
         "name": "Polyline 25",
         "opacity": 0.95,
         "showlegend": false,
         "type": "scatter3d",
         "x": {
          "bdata": "bIuBdym6ukDy8FCTkdS6QBvpV4FF7bpAGrdwYXL4ukA8o5TE4gq7QKHz1+xsH7tAhJxh77Ytu0BwOJx23kK7QGXqjJHtT7tAXxCCWH1Ru0BF4DmnklG7QMDiU6YFUrtAKira6PBQu0CsyVaF5Ea7QC0H8jG8QbtAoFklrNg7u0ADiuzNRTC7QC+kmYkYJLtAyNZuE4P/ukA=",
          "dtype": "f8"
         },
         "y": {
          "bdata": "dOZSzZevvEDEMx/R9aW8QBTMlNAxprxAkn1rVD2mvEAEzW/lnqG8QBdu6b1gnLxAI/69ecyWvEAeT8uyNYi8QKUqakCbdrxAyDnjzZFqvEDocJySSmS8QLu3YdGNXrxAXnz7ihlBvEBEkvC+uDC8QBH57pWoJbxA4Cgy2WUavEB0VXXlOgK8QHOW89s65btAOhEEA6C2u0A=",
          "dtype": "f8"
         },
         "z": {
          "bdata": "TniMK8EhrEDj3dND6iesQLCq0dAUMaxAcpQsaVI1rEAWKKgTXjysQOL9dyQIQ6xABc+sVzZHrEDrM7VijlasQLbiSWyda6xAsERoYBd5rEBLCyCuVYCsQFLJ9z3ghaxA+pLsmjifrEDfmjvYOqCsQE9P7taNnqxASzKF+JSbrEDQDrOgtJesQAVZwiiUlaxA8vo61j6JrEA=",
          "dtype": "f8"
         }
        },
        {
         "line": {
          "color": "crimson",
          "width": 3
         },
         "mode": "lines",
         "name": "Polyline 26",
         "opacity": 0.95,
         "showlegend": false,
         "type": "scatter3d",
         "x": {
          "bdata": "LRaUhY0JukCTgUhj/Be6QLfJNq8dILpA",
          "dtype": "f8"
         },
         "y": {
          "bdata": "ewoImzJPuUCdtiBKek+5QP9m1IWkU7lA",
          "dtype": "f8"
         },
         "z": {
          "bdata": "Pogg3lk1qkANelsvXkOqQB25na19QqpA",
          "dtype": "f8"
         }
        },
        {
         "line": {
          "color": "crimson",
          "width": 3
         },
         "mode": "lines",
         "name": "Polyline 27",
         "opacity": 0.95,
         "showlegend": false,
         "type": "scatter3d",
         "x": {
          "bdata": "neY6a8LRukAISDnyjMC6QCR+ZgLsubpAcDphe4qwukA=",
          "dtype": "f8"
         },
         "y": {
          "bdata": "9jbaWZtZuUB+rRhf5U25QGAkmRDwR7lAaxjcUsU+uUA=",
          "dtype": "f8"
         },
         "z": {
          "bdata": "Ue4v4VdNqkAgOdK5sFqqQPulsVQJYqpADQAahyRuqkA=",
          "dtype": "f8"
         }
        },
        {
         "line": {
          "color": "crimson",
          "width": 3
         },
         "mode": "lines",
         "name": "Polyline 28",
         "opacity": 0.95,
         "showlegend": false,
         "type": "scatter3d",
         "x": {
          "bdata": "yNZuE4P/ukC6Fjwmmjq7QOH+ztDVPrtAkAnEmPNGu0C2TlXrMEm7QCsSUKbgT7tApYBPFw5Zu0A=",
          "dtype": "f8"
         },
         "y": {
          "bdata": "OhEEA6C2u0C/NHhAs6q7QJjb15CPqbtASskhyOSou0As6kxLhai7QCLJedV9prtAPgTAiIihu0A=",
          "dtype": "f8"
         },
         "z": {
          "bdata": "8vo61j6JrECzMGbdPxGtQKGCbCnuIK1ABWsZPRQ8rUDDcP9mvUOtQAFQTHi3W61AVM8k/Ap/rUA=",
          "dtype": "f8"
         }
        },
        {
         "line": {
          "color": "crimson",
          "width": 3
         },
         "mode": "lines",
         "name": "Polyline 29",
         "opacity": 0.95,
         "showlegend": false,
         "type": "scatter3d",
         "x": {
          "bdata": "yNZuE4P/ukDUzHC7ysu6QA==",
          "dtype": "f8"
         },
         "y": {
          "bdata": "OhEEA6C2u0DhCxT4Jfq7QA==",
          "dtype": "f8"
         },
         "z": {
          "bdata": "8vo61j6JrEBxmn0rQxysQA==",
          "dtype": "f8"
         }
        },
        {
         "line": {
          "color": "crimson",
          "width": 3
         },
         "mode": "lines",
         "name": "Polyline 30",
         "opacity": 0.95,
         "showlegend": false,
         "type": "scatter3d",
         "x": {
          "bdata": "t8k2rx0gukC3s0u8mkS6QOhh2TlDVLpA8Hq7bGVwukA=",
          "dtype": "f8"
         },
         "y": {
          "bdata": "/2bUhaRTuUDC+tCD+Ei5QKueXkY6QLlAu8ycJlE1uUA=",
          "dtype": "f8"
         },
         "z": {
          "bdata": "HbmdrX1CqkDSRRdHFFuqQBQCq3l8bKpAYoM5IDKAqkA=",
          "dtype": "f8"
         }
        },
        {
         "line": {
          "color": "crimson",
          "width": 3
         },
         "mode": "lines",
         "name": "Polyline 31",
         "opacity": 0.95,
         "showlegend": false,
         "type": "scatter3d",
         "x": {
          "bdata": "cDphe4qwukBY5qQHBpO6QJfXo86jhbpA8Hq7bGVwukA=",
          "dtype": "f8"
         },
         "y": {
          "bdata": "axjcUsU+uUDelaCuXTa5QOiHfAe3NrlAu8ycJlE1uUA=",
          "dtype": "f8"
         },
         "z": {
          "bdata": "DQAahyRuqkDuHFrzwHqqQLV2B6S6e6pAYoM5IDKAqkA=",
          "dtype": "f8"
         }
        },
        {
         "line": {
          "color": "crimson",
          "width": 3
         },
         "mode": "lines",
         "name": "Polyline 32",
         "opacity": 0.95,
         "showlegend": false,
         "type": "scatter3d",
         "x": {
          "bdata": "1Mxwu8rLukDTw/64eLm6QP5/KX4tuLpApZkLz0HAukDUzHC7ysu6QA==",
          "dtype": "f8"
         },
         "y": {
          "bdata": "4QsU+CX6u0AA2lc9x+27QKCtIg+O6rtAB4LeAMHou0DhCxT4Jfq7QA==",
          "dtype": "f8"
         },
         "z": {
          "bdata": "cZp9K0McrEA70ZHq2xasQEtpcRntFaxASd60l4slrEBxmn0rQxysQA==",
          "dtype": "f8"
         }
        }
       ],
       "layout": {
        "autosize": false,
        "height": 600,
        "scene": {
         "aspectmode": "data",
         "xaxis": {
          "visible": true
         },
         "yaxis": {
          "visible": true
         },
         "zaxis": {
          "visible": true
         }
        },
        "template": {
         "data": {
          "bar": [
           {
            "error_x": {
             "color": "#2a3f5f"
            },
            "error_y": {
             "color": "#2a3f5f"
            },
            "marker": {
             "line": {
              "color": "#E5ECF6",
              "width": 0.5
             },
             "pattern": {
              "fillmode": "overlay",
              "size": 10,
              "solidity": 0.2
             }
            },
            "type": "bar"
           }
          ],
          "barpolar": [
           {
            "marker": {
             "line": {
              "color": "#E5ECF6",
              "width": 0.5
             },
             "pattern": {
              "fillmode": "overlay",
              "size": 10,
              "solidity": 0.2
             }
            },
            "type": "barpolar"
           }
          ],
          "carpet": [
           {
            "aaxis": {
             "endlinecolor": "#2a3f5f",
             "gridcolor": "white",
             "linecolor": "white",
             "minorgridcolor": "white",
             "startlinecolor": "#2a3f5f"
            },
            "baxis": {
             "endlinecolor": "#2a3f5f",
             "gridcolor": "white",
             "linecolor": "white",
             "minorgridcolor": "white",
             "startlinecolor": "#2a3f5f"
            },
            "type": "carpet"
           }
          ],
          "choropleth": [
           {
            "colorbar": {
             "outlinewidth": 0,
             "ticks": ""
            },
            "type": "choropleth"
           }
          ],
          "contour": [
           {
            "colorbar": {
             "outlinewidth": 0,
             "ticks": ""
            },
            "colorscale": [
             [
              0,
              "#0d0887"
             ],
             [
              0.1111111111111111,
              "#46039f"
             ],
             [
              0.2222222222222222,
              "#7201a8"
             ],
             [
              0.3333333333333333,
              "#9c179e"
             ],
             [
              0.4444444444444444,
              "#bd3786"
             ],
             [
              0.5555555555555556,
              "#d8576b"
             ],
             [
              0.6666666666666666,
              "#ed7953"
             ],
             [
              0.7777777777777778,
              "#fb9f3a"
             ],
             [
              0.8888888888888888,
              "#fdca26"
             ],
             [
              1,
              "#f0f921"
             ]
            ],
            "type": "contour"
           }
          ],
          "contourcarpet": [
           {
            "colorbar": {
             "outlinewidth": 0,
             "ticks": ""
            },
            "type": "contourcarpet"
           }
          ],
          "heatmap": [
           {
            "colorbar": {
             "outlinewidth": 0,
             "ticks": ""
            },
            "colorscale": [
             [
              0,
              "#0d0887"
             ],
             [
              0.1111111111111111,
              "#46039f"
             ],
             [
              0.2222222222222222,
              "#7201a8"
             ],
             [
              0.3333333333333333,
              "#9c179e"
             ],
             [
              0.4444444444444444,
              "#bd3786"
             ],
             [
              0.5555555555555556,
              "#d8576b"
             ],
             [
              0.6666666666666666,
              "#ed7953"
             ],
             [
              0.7777777777777778,
              "#fb9f3a"
             ],
             [
              0.8888888888888888,
              "#fdca26"
             ],
             [
              1,
              "#f0f921"
             ]
            ],
            "type": "heatmap"
           }
          ],
          "histogram": [
           {
            "marker": {
             "pattern": {
              "fillmode": "overlay",
              "size": 10,
              "solidity": 0.2
             }
            },
            "type": "histogram"
           }
          ],
          "histogram2d": [
           {
            "colorbar": {
             "outlinewidth": 0,
             "ticks": ""
            },
            "colorscale": [
             [
              0,
              "#0d0887"
             ],
             [
              0.1111111111111111,
              "#46039f"
             ],
             [
              0.2222222222222222,
              "#7201a8"
             ],
             [
              0.3333333333333333,
              "#9c179e"
             ],
             [
              0.4444444444444444,
              "#bd3786"
             ],
             [
              0.5555555555555556,
              "#d8576b"
             ],
             [
              0.6666666666666666,
              "#ed7953"
             ],
             [
              0.7777777777777778,
              "#fb9f3a"
             ],
             [
              0.8888888888888888,
              "#fdca26"
             ],
             [
              1,
              "#f0f921"
             ]
            ],
            "type": "histogram2d"
           }
          ],
          "histogram2dcontour": [
           {
            "colorbar": {
             "outlinewidth": 0,
             "ticks": ""
            },
            "colorscale": [
             [
              0,
              "#0d0887"
             ],
             [
              0.1111111111111111,
              "#46039f"
             ],
             [
              0.2222222222222222,
              "#7201a8"
             ],
             [
              0.3333333333333333,
              "#9c179e"
             ],
             [
              0.4444444444444444,
              "#bd3786"
             ],
             [
              0.5555555555555556,
              "#d8576b"
             ],
             [
              0.6666666666666666,
              "#ed7953"
             ],
             [
              0.7777777777777778,
              "#fb9f3a"
             ],
             [
              0.8888888888888888,
              "#fdca26"
             ],
             [
              1,
              "#f0f921"
             ]
            ],
            "type": "histogram2dcontour"
           }
          ],
          "mesh3d": [
           {
            "colorbar": {
             "outlinewidth": 0,
             "ticks": ""
            },
            "type": "mesh3d"
           }
          ],
          "parcoords": [
           {
            "line": {
             "colorbar": {
              "outlinewidth": 0,
              "ticks": ""
             }
            },
            "type": "parcoords"
           }
          ],
          "pie": [
           {
            "automargin": true,
            "type": "pie"
           }
          ],
          "scatter": [
           {
            "fillpattern": {
             "fillmode": "overlay",
             "size": 10,
             "solidity": 0.2
            },
            "type": "scatter"
           }
          ],
          "scatter3d": [
           {
            "line": {
             "colorbar": {
              "outlinewidth": 0,
              "ticks": ""
             }
            },
            "marker": {
             "colorbar": {
              "outlinewidth": 0,
              "ticks": ""
             }
            },
            "type": "scatter3d"
           }
          ],
          "scattercarpet": [
           {
            "marker": {
             "colorbar": {
              "outlinewidth": 0,
              "ticks": ""
             }
            },
            "type": "scattercarpet"
           }
          ],
          "scattergeo": [
           {
            "marker": {
             "colorbar": {
              "outlinewidth": 0,
              "ticks": ""
             }
            },
            "type": "scattergeo"
           }
          ],
          "scattergl": [
           {
            "marker": {
             "colorbar": {
              "outlinewidth": 0,
              "ticks": ""
             }
            },
            "type": "scattergl"
           }
          ],
          "scattermap": [
           {
            "marker": {
             "colorbar": {
              "outlinewidth": 0,
              "ticks": ""
             }
            },
            "type": "scattermap"
           }
          ],
          "scattermapbox": [
           {
            "marker": {
             "colorbar": {
              "outlinewidth": 0,
              "ticks": ""
             }
            },
            "type": "scattermapbox"
           }
          ],
          "scatterpolar": [
           {
            "marker": {
             "colorbar": {
              "outlinewidth": 0,
              "ticks": ""
             }
            },
            "type": "scatterpolar"
           }
          ],
          "scatterpolargl": [
           {
            "marker": {
             "colorbar": {
              "outlinewidth": 0,
              "ticks": ""
             }
            },
            "type": "scatterpolargl"
           }
          ],
          "scatterternary": [
           {
            "marker": {
             "colorbar": {
              "outlinewidth": 0,
              "ticks": ""
             }
            },
            "type": "scatterternary"
           }
          ],
          "surface": [
           {
            "colorbar": {
             "outlinewidth": 0,
             "ticks": ""
            },
            "colorscale": [
             [
              0,
              "#0d0887"
             ],
             [
              0.1111111111111111,
              "#46039f"
             ],
             [
              0.2222222222222222,
              "#7201a8"
             ],
             [
              0.3333333333333333,
              "#9c179e"
             ],
             [
              0.4444444444444444,
              "#bd3786"
             ],
             [
              0.5555555555555556,
              "#d8576b"
             ],
             [
              0.6666666666666666,
              "#ed7953"
             ],
             [
              0.7777777777777778,
              "#fb9f3a"
             ],
             [
              0.8888888888888888,
              "#fdca26"
             ],
             [
              1,
              "#f0f921"
             ]
            ],
            "type": "surface"
           }
          ],
          "table": [
           {
            "cells": {
             "fill": {
              "color": "#EBF0F8"
             },
             "line": {
              "color": "white"
             }
            },
            "header": {
             "fill": {
              "color": "#C8D4E3"
             },
             "line": {
              "color": "white"
             }
            },
            "type": "table"
           }
          ]
         },
         "layout": {
          "annotationdefaults": {
           "arrowcolor": "#2a3f5f",
           "arrowhead": 0,
           "arrowwidth": 1
          },
          "autotypenumbers": "strict",
          "coloraxis": {
           "colorbar": {
            "outlinewidth": 0,
            "ticks": ""
           }
          },
          "colorscale": {
           "diverging": [
            [
             0,
             "#8e0152"
            ],
            [
             0.1,
             "#c51b7d"
            ],
            [
             0.2,
             "#de77ae"
            ],
            [
             0.3,
             "#f1b6da"
            ],
            [
             0.4,
             "#fde0ef"
            ],
            [
             0.5,
             "#f7f7f7"
            ],
            [
             0.6,
             "#e6f5d0"
            ],
            [
             0.7,
             "#b8e186"
            ],
            [
             0.8,
             "#7fbc41"
            ],
            [
             0.9,
             "#4d9221"
            ],
            [
             1,
             "#276419"
            ]
           ],
           "sequential": [
            [
             0,
             "#0d0887"
            ],
            [
             0.1111111111111111,
             "#46039f"
            ],
            [
             0.2222222222222222,
             "#7201a8"
            ],
            [
             0.3333333333333333,
             "#9c179e"
            ],
            [
             0.4444444444444444,
             "#bd3786"
            ],
            [
             0.5555555555555556,
             "#d8576b"
            ],
            [
             0.6666666666666666,
             "#ed7953"
            ],
            [
             0.7777777777777778,
             "#fb9f3a"
            ],
            [
             0.8888888888888888,
             "#fdca26"
            ],
            [
             1,
             "#f0f921"
            ]
           ],
           "sequentialminus": [
            [
             0,
             "#0d0887"
            ],
            [
             0.1111111111111111,
             "#46039f"
            ],
            [
             0.2222222222222222,
             "#7201a8"
            ],
            [
             0.3333333333333333,
             "#9c179e"
            ],
            [
             0.4444444444444444,
             "#bd3786"
            ],
            [
             0.5555555555555556,
             "#d8576b"
            ],
            [
             0.6666666666666666,
             "#ed7953"
            ],
            [
             0.7777777777777778,
             "#fb9f3a"
            ],
            [
             0.8888888888888888,
             "#fdca26"
            ],
            [
             1,
             "#f0f921"
            ]
           ]
          },
          "colorway": [
           "#636efa",
           "#EF553B",
           "#00cc96",
           "#ab63fa",
           "#FFA15A",
           "#19d3f3",
           "#FF6692",
           "#B6E880",
           "#FF97FF",
           "#FECB52"
          ],
          "font": {
           "color": "#2a3f5f"
          },
          "geo": {
           "bgcolor": "white",
           "lakecolor": "white",
           "landcolor": "#E5ECF6",
           "showlakes": true,
           "showland": true,
           "subunitcolor": "white"
          },
          "hoverlabel": {
           "align": "left"
          },
          "hovermode": "closest",
          "mapbox": {
           "style": "light"
          },
          "paper_bgcolor": "white",
          "plot_bgcolor": "#E5ECF6",
          "polar": {
           "angularaxis": {
            "gridcolor": "white",
            "linecolor": "white",
            "ticks": ""
           },
           "bgcolor": "#E5ECF6",
           "radialaxis": {
            "gridcolor": "white",
            "linecolor": "white",
            "ticks": ""
           }
          },
          "scene": {
           "xaxis": {
            "backgroundcolor": "#E5ECF6",
            "gridcolor": "white",
            "gridwidth": 2,
            "linecolor": "white",
            "showbackground": true,
            "ticks": "",
            "zerolinecolor": "white"
           },
           "yaxis": {
            "backgroundcolor": "#E5ECF6",
            "gridcolor": "white",
            "gridwidth": 2,
            "linecolor": "white",
            "showbackground": true,
            "ticks": "",
            "zerolinecolor": "white"
           },
           "zaxis": {
            "backgroundcolor": "#E5ECF6",
            "gridcolor": "white",
            "gridwidth": 2,
            "linecolor": "white",
            "showbackground": true,
            "ticks": "",
            "zerolinecolor": "white"
           }
          },
          "shapedefaults": {
           "line": {
            "color": "#2a3f5f"
           }
          },
          "ternary": {
           "aaxis": {
            "gridcolor": "white",
            "linecolor": "white",
            "ticks": ""
           },
           "baxis": {
            "gridcolor": "white",
            "linecolor": "white",
            "ticks": ""
           },
           "bgcolor": "#E5ECF6",
           "caxis": {
            "gridcolor": "white",
            "linecolor": "white",
            "ticks": ""
           }
          },
          "title": {
           "x": 0.05
          },
          "xaxis": {
           "automargin": true,
           "gridcolor": "white",
           "linecolor": "white",
           "ticks": "",
           "title": {
            "standoff": 15
           },
           "zerolinecolor": "white",
           "zerolinewidth": 2
          },
          "yaxis": {
           "automargin": true,
           "gridcolor": "white",
           "linecolor": "white",
           "ticks": "",
           "title": {
            "standoff": 15
           },
           "zerolinecolor": "white",
           "zerolinewidth": 2
          }
         }
        },
        "title": {
         "text": "3D Mesh Visualization"
        },
        "width": 800
       }
      }
     },
     "metadata": {},
     "output_type": "display_data"
    }
   ],
   "source": [
    "mm = MeshManager()\n",
    "mm.load_mesh(data_path(\"mesh/processed/TS3_wrapped.obj\"))\n",
    "ps = PolylinesSkeleton().from_txt(data_path(\"polylines/TS3.polylines.txt\"))\n",
    "mm.visualize_mesh_3d(polylines=ps)"
   ]
  }
 ],
 "metadata": {
  "kernelspec": {
   "display_name": ".venv",
   "language": "python",
   "name": "python3"
  },
  "language_info": {
   "codemirror_mode": {
    "name": "ipython",
    "version": 3
   },
   "file_extension": ".py",
   "mimetype": "text/x-python",
   "name": "python",
   "nbconvert_exporter": "python",
   "pygments_lexer": "ipython3",
   "version": "3.12.11"
  }
 },
 "nbformat": 4,
 "nbformat_minor": 5
}
