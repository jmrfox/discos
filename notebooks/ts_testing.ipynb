{
 "cells": [
  {
   "cell_type": "code",
   "execution_count": null,
   "id": "341ab0b7",
   "metadata": {},
   "outputs": [
    {
     "name": "stdout",
     "output_type": "stream",
     "text": [
      "Loaded mesh: 28658 vertices, 9671 faces\n",
      "Bounds: {'x': (np.float64(-0.472268), np.float64(0.527732)), 'y': (np.float64(-0.207184), np.float64(0.23619)), 'z': (np.float64(-0.217184), np.float64(0.225305))}\n"
     ]
    },
    {
     "data": {
      "text/plain": [
       "{'face_count': 9671,\n",
       " 'vertex_count': 28658,\n",
       " 'bounds': [[-0.472268, -0.207184, -0.217184], [0.527732, 0.23619, 0.225305]],\n",
       " 'is_watertight': False,\n",
       " 'is_winding_consistent': True,\n",
       " 'issues': ['Genus undefined for non-watertight mesh',\n",
       "  'Found 23852 duplicate vertices',\n",
       "  'Found 14 degenerate faces',\n",
       "  'Mesh has 9514 disconnected components'],\n",
       " 'volume': np.float64(0.005793737217344115),\n",
       " 'euler_characteristic': 9506,\n",
       " 'genus': None,\n",
       " 'normal_stats': {'mean': [0.00874083993006451,\n",
       "   0.009926398804216831,\n",
       "   0.014934868185641229],\n",
       "  'std': [0.5365784755979837, 0.6078996026985642, 0.5846652211568776],\n",
       "  'sum': [84.53266296365388, 95.99820283558098, 144.43511022333632]},\n",
       " 'normal_direction': 'outward',\n",
       " 'duplicate_vertices': 23852,\n",
       " 'degenerate_faces': 14,\n",
       " 'component_count': 9514}"
      ]
     },
     "execution_count": 3,
     "metadata": {},
     "output_type": "execute_result"
    }
   ],
   "source": [
    "from gencomo import MeshManager\n",
    "from gencomo.utils import data_path\n",
    "\n",
    "mm = MeshManager()\n",
    "mm.load_mesh(data_path(\"processed/TS1_remesh.obj\"))\n",
    "mm.analyze_mesh()\n"
   ]
  }
 ],
 "metadata": {
  "kernelspec": {
   "display_name": ".venv",
   "language": "python",
   "name": "python3"
  },
  "language_info": {
   "codemirror_mode": {
    "name": "ipython",
    "version": 3
   },
   "file_extension": ".py",
   "mimetype": "text/x-python",
   "name": "python",
   "nbconvert_exporter": "python",
   "pygments_lexer": "ipython3",
   "version": "3.12.7"
  }
 },
 "nbformat": 4,
 "nbformat_minor": 5
}
