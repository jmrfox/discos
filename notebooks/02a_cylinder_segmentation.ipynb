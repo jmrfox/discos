{
 "cells": [
  {
   "cell_type": "markdown",
   "id": "565edb1f",
   "metadata": {},
   "source": [
    "# 02a - Cylinder Segmentation Demo\n",
    "\n",
    "This notebook demonstrates mesh segmentation using a simple cylinder geometry. The cylinder represents the simplest case with genus = 0 (no holes).\n",
    "\n",
    "**Part of the GenCoMo Tutorial Series** - [Return to Index](01_tutorial_index.ipynb)"
   ]
  },
  {
   "cell_type": "code",
   "execution_count": 1,
   "id": "c2b13d2d",
   "metadata": {},
   "outputs": [
    {
     "name": "stdout",
     "output_type": "stream",
     "text": [
      "Jupyter environment detected. Enabling Open3D WebVisualizer.\n",
      "[Open3D INFO] WebRTC GUI backend enabled.\n",
      "[Open3D INFO] WebRTCWindowSystem: HTTP handshake server disabled.\n"
     ]
    }
   ],
   "source": [
    "import numpy as np\n",
    "import trimesh\n",
    "from gencomo import create_cylinder_mesh, MeshSegmenter, visualize_mesh_3d\n",
    "from gencomo.mesh.utils import analyze_mesh, print_mesh_analysis"
   ]
  },
  {
   "cell_type": "markdown",
   "id": "601d123d",
   "metadata": {},
   "source": [
    "## Create and Visualize Cylinder"
   ]
  },
  {
   "cell_type": "code",
   "execution_count": 2,
   "id": "76993d2d",
   "metadata": {},
   "outputs": [
    {
     "name": "stdout",
     "output_type": "stream",
     "text": [
      "Cylinder properties:\n",
      "  Volume: 6.180\n",
      "  Surface area: 18.695\n",
      "  Z-bounds: [-1.  1.]\n"
     ]
    },
    {
     "data": {
      "application/vnd.plotly.v1+json": {
       "config": {
        "plotlyServerURL": "https://plot.ly"
       },
       "data": [
        {
         "color": "lightblue",
         "i": {
          "bdata": "AQECAgQEBQUGBgcHCAgJCQoKCwsMDA0NDg4PDxAQERESEhMTFBQVFRYWFxcYGBkZGhobGxwcHR0eHh8fICAhISIiIyMkJCUlJiYnJygoKSk=",
          "dtype": "i1"
         },
         "j": {
          "bdata": "AAQEBQAGBgcACAgJAAoKCwAMDA0ADg4PABAQEQASEhMAFBQVABYWFwAYGBkAGhobABwcHQAeHh8AICAhACIiIwAkJCUAJiYnACgoKQABAQI=",
          "dtype": "i1"
         },
         "k": {
          "bdata": "BAIFAwYFBwMIBwkDCgkLAwwLDQMODQ8DEA8RAxIREwMUExUDFhUXAxgXGQMaGRsDHBsdAx4dHwMgHyEDIiEjAyQjJQMmJScDKCcpAwEpAgM=",
          "dtype": "i1"
         },
         "name": "Mesh",
         "opacity": 0.8,
         "type": "mesh3d",
         "x": {
          "bdata": "AAAAAAAAAAAAAAAAAADwPwAAAAAAAPA/AAAAAAAAAAD/VEQTDm/uP/9URBMOb+4/qPSXm3fj6T+o9Jebd+PpP15adQQjz+I/Xlp1BCPP4j9Q6S8378bTP1DpLzfvxtM/B1wUMyamkTwHXBQzJqaRPE7pLzfvxtO/TukvN+/G079dWnUEI8/iv11adQQjz+K/p/SXm3fj6b+n9Jebd+Ppv/9URBMOb+6//1REEw5v7r8AAAAAAADwvwAAAAAAAPC/AFVEEw5v7r8AVUQTDm/uv6j0l5t34+m/qPSXm3fj6b9fWnUEI8/iv19adQQjz+K/UukvN+/G079S6S8378bTvwqKnkw5eaq8CoqeTDl5qrxM6S8378bTP0zpLzfvxtM/XFp1BCPP4j9cWnUEI8/iP6f0l5t34+k/p/SXm3fj6T//VEQTDm/uP/9URBMOb+4/",
          "dtype": "f8"
         },
         "y": {
          "bdata": "AAAAAAAAAAAAAAAAAAAAAAAAAAAAAAAAAAAAAAAAAABP6S8378bTP0/pLzfvxtM/Xlp1BCPP4j9eWnUEI8/iP6j0l5t34+k/qPSXm3fj6T//VEQTDm/uP/9URBMOb+4/AAAAAAAA8D8AAAAAAADwPwBVRBMOb+4/AFVEEw5v7j+o9Jebd+PpP6j0l5t34+k/X1p1BCPP4j9fWnUEI8/iP1HpLzfvxtM/UekvN+/G0z8HXBQzJqahPAdcFDMmpqE8TekvN+/G079N6S8378bTv11adQQjz+K/XVp1BCPP4r+n9Jebd+Ppv6f0l5t34+m//1REEw5v7r//VEQTDm/uvwAAAAAAAPC/AAAAAAAA8L8AVUQTDm/uvwBVRBMOb+6/qfSXm3fj6b+p9Jebd+Ppv2BadQQjz+K/YFp1BCPP4r9U6S8378bTv1TpLzfvxtO/",
          "dtype": "f8"
         },
         "z": {
          "bdata": "AAAAAAAA8L8AAAAAAADwvwAAAAAAAPA/AAAAAAAA8D8AAAAAAADwvwAAAAAAAPA/AAAAAAAA8L8AAAAAAADwPwAAAAAAAPC/AAAAAAAA8D8AAAAAAADwvwAAAAAAAPA/AAAAAAAA8L8AAAAAAADwPwAAAAAAAPC/AAAAAAAA8D8AAAAAAADwvwAAAAAAAPA/AAAAAAAA8L8AAAAAAADwPwAAAAAAAPC/AAAAAAAA8D8AAAAAAADwvwAAAAAAAPA/AAAAAAAA8L8AAAAAAADwPwAAAAAAAPC/AAAAAAAA8D8AAAAAAADwvwAAAAAAAPA/AAAAAAAA8L8AAAAAAADwPwAAAAAAAPC/AAAAAAAA8D8AAAAAAADwvwAAAAAAAPA/AAAAAAAA8L8AAAAAAADwPwAAAAAAAPC/AAAAAAAA8D8AAAAAAADwvwAAAAAAAPA/",
          "dtype": "f8"
         }
        }
       ],
       "layout": {
        "scene": {
         "aspectmode": "data",
         "xaxis": {
          "visible": true
         },
         "yaxis": {
          "visible": true
         },
         "zaxis": {
          "visible": true
         }
        },
        "template": {
         "data": {
          "bar": [
           {
            "error_x": {
             "color": "#2a3f5f"
            },
            "error_y": {
             "color": "#2a3f5f"
            },
            "marker": {
             "line": {
              "color": "#E5ECF6",
              "width": 0.5
             },
             "pattern": {
              "fillmode": "overlay",
              "size": 10,
              "solidity": 0.2
             }
            },
            "type": "bar"
           }
          ],
          "barpolar": [
           {
            "marker": {
             "line": {
              "color": "#E5ECF6",
              "width": 0.5
             },
             "pattern": {
              "fillmode": "overlay",
              "size": 10,
              "solidity": 0.2
             }
            },
            "type": "barpolar"
           }
          ],
          "carpet": [
           {
            "aaxis": {
             "endlinecolor": "#2a3f5f",
             "gridcolor": "white",
             "linecolor": "white",
             "minorgridcolor": "white",
             "startlinecolor": "#2a3f5f"
            },
            "baxis": {
             "endlinecolor": "#2a3f5f",
             "gridcolor": "white",
             "linecolor": "white",
             "minorgridcolor": "white",
             "startlinecolor": "#2a3f5f"
            },
            "type": "carpet"
           }
          ],
          "choropleth": [
           {
            "colorbar": {
             "outlinewidth": 0,
             "ticks": ""
            },
            "type": "choropleth"
           }
          ],
          "contour": [
           {
            "colorbar": {
             "outlinewidth": 0,
             "ticks": ""
            },
            "colorscale": [
             [
              0,
              "#0d0887"
             ],
             [
              0.1111111111111111,
              "#46039f"
             ],
             [
              0.2222222222222222,
              "#7201a8"
             ],
             [
              0.3333333333333333,
              "#9c179e"
             ],
             [
              0.4444444444444444,
              "#bd3786"
             ],
             [
              0.5555555555555556,
              "#d8576b"
             ],
             [
              0.6666666666666666,
              "#ed7953"
             ],
             [
              0.7777777777777778,
              "#fb9f3a"
             ],
             [
              0.8888888888888888,
              "#fdca26"
             ],
             [
              1,
              "#f0f921"
             ]
            ],
            "type": "contour"
           }
          ],
          "contourcarpet": [
           {
            "colorbar": {
             "outlinewidth": 0,
             "ticks": ""
            },
            "type": "contourcarpet"
           }
          ],
          "heatmap": [
           {
            "colorbar": {
             "outlinewidth": 0,
             "ticks": ""
            },
            "colorscale": [
             [
              0,
              "#0d0887"
             ],
             [
              0.1111111111111111,
              "#46039f"
             ],
             [
              0.2222222222222222,
              "#7201a8"
             ],
             [
              0.3333333333333333,
              "#9c179e"
             ],
             [
              0.4444444444444444,
              "#bd3786"
             ],
             [
              0.5555555555555556,
              "#d8576b"
             ],
             [
              0.6666666666666666,
              "#ed7953"
             ],
             [
              0.7777777777777778,
              "#fb9f3a"
             ],
             [
              0.8888888888888888,
              "#fdca26"
             ],
             [
              1,
              "#f0f921"
             ]
            ],
            "type": "heatmap"
           }
          ],
          "histogram": [
           {
            "marker": {
             "pattern": {
              "fillmode": "overlay",
              "size": 10,
              "solidity": 0.2
             }
            },
            "type": "histogram"
           }
          ],
          "histogram2d": [
           {
            "colorbar": {
             "outlinewidth": 0,
             "ticks": ""
            },
            "colorscale": [
             [
              0,
              "#0d0887"
             ],
             [
              0.1111111111111111,
              "#46039f"
             ],
             [
              0.2222222222222222,
              "#7201a8"
             ],
             [
              0.3333333333333333,
              "#9c179e"
             ],
             [
              0.4444444444444444,
              "#bd3786"
             ],
             [
              0.5555555555555556,
              "#d8576b"
             ],
             [
              0.6666666666666666,
              "#ed7953"
             ],
             [
              0.7777777777777778,
              "#fb9f3a"
             ],
             [
              0.8888888888888888,
              "#fdca26"
             ],
             [
              1,
              "#f0f921"
             ]
            ],
            "type": "histogram2d"
           }
          ],
          "histogram2dcontour": [
           {
            "colorbar": {
             "outlinewidth": 0,
             "ticks": ""
            },
            "colorscale": [
             [
              0,
              "#0d0887"
             ],
             [
              0.1111111111111111,
              "#46039f"
             ],
             [
              0.2222222222222222,
              "#7201a8"
             ],
             [
              0.3333333333333333,
              "#9c179e"
             ],
             [
              0.4444444444444444,
              "#bd3786"
             ],
             [
              0.5555555555555556,
              "#d8576b"
             ],
             [
              0.6666666666666666,
              "#ed7953"
             ],
             [
              0.7777777777777778,
              "#fb9f3a"
             ],
             [
              0.8888888888888888,
              "#fdca26"
             ],
             [
              1,
              "#f0f921"
             ]
            ],
            "type": "histogram2dcontour"
           }
          ],
          "mesh3d": [
           {
            "colorbar": {
             "outlinewidth": 0,
             "ticks": ""
            },
            "type": "mesh3d"
           }
          ],
          "parcoords": [
           {
            "line": {
             "colorbar": {
              "outlinewidth": 0,
              "ticks": ""
             }
            },
            "type": "parcoords"
           }
          ],
          "pie": [
           {
            "automargin": true,
            "type": "pie"
           }
          ],
          "scatter": [
           {
            "fillpattern": {
             "fillmode": "overlay",
             "size": 10,
             "solidity": 0.2
            },
            "type": "scatter"
           }
          ],
          "scatter3d": [
           {
            "line": {
             "colorbar": {
              "outlinewidth": 0,
              "ticks": ""
             }
            },
            "marker": {
             "colorbar": {
              "outlinewidth": 0,
              "ticks": ""
             }
            },
            "type": "scatter3d"
           }
          ],
          "scattercarpet": [
           {
            "marker": {
             "colorbar": {
              "outlinewidth": 0,
              "ticks": ""
             }
            },
            "type": "scattercarpet"
           }
          ],
          "scattergeo": [
           {
            "marker": {
             "colorbar": {
              "outlinewidth": 0,
              "ticks": ""
             }
            },
            "type": "scattergeo"
           }
          ],
          "scattergl": [
           {
            "marker": {
             "colorbar": {
              "outlinewidth": 0,
              "ticks": ""
             }
            },
            "type": "scattergl"
           }
          ],
          "scattermap": [
           {
            "marker": {
             "colorbar": {
              "outlinewidth": 0,
              "ticks": ""
             }
            },
            "type": "scattermap"
           }
          ],
          "scattermapbox": [
           {
            "marker": {
             "colorbar": {
              "outlinewidth": 0,
              "ticks": ""
             }
            },
            "type": "scattermapbox"
           }
          ],
          "scatterpolar": [
           {
            "marker": {
             "colorbar": {
              "outlinewidth": 0,
              "ticks": ""
             }
            },
            "type": "scatterpolar"
           }
          ],
          "scatterpolargl": [
           {
            "marker": {
             "colorbar": {
              "outlinewidth": 0,
              "ticks": ""
             }
            },
            "type": "scatterpolargl"
           }
          ],
          "scatterternary": [
           {
            "marker": {
             "colorbar": {
              "outlinewidth": 0,
              "ticks": ""
             }
            },
            "type": "scatterternary"
           }
          ],
          "surface": [
           {
            "colorbar": {
             "outlinewidth": 0,
             "ticks": ""
            },
            "colorscale": [
             [
              0,
              "#0d0887"
             ],
             [
              0.1111111111111111,
              "#46039f"
             ],
             [
              0.2222222222222222,
              "#7201a8"
             ],
             [
              0.3333333333333333,
              "#9c179e"
             ],
             [
              0.4444444444444444,
              "#bd3786"
             ],
             [
              0.5555555555555556,
              "#d8576b"
             ],
             [
              0.6666666666666666,
              "#ed7953"
             ],
             [
              0.7777777777777778,
              "#fb9f3a"
             ],
             [
              0.8888888888888888,
              "#fdca26"
             ],
             [
              1,
              "#f0f921"
             ]
            ],
            "type": "surface"
           }
          ],
          "table": [
           {
            "cells": {
             "fill": {
              "color": "#EBF0F8"
             },
             "line": {
              "color": "white"
             }
            },
            "header": {
             "fill": {
              "color": "#C8D4E3"
             },
             "line": {
              "color": "white"
             }
            },
            "type": "table"
           }
          ]
         },
         "layout": {
          "annotationdefaults": {
           "arrowcolor": "#2a3f5f",
           "arrowhead": 0,
           "arrowwidth": 1
          },
          "autotypenumbers": "strict",
          "coloraxis": {
           "colorbar": {
            "outlinewidth": 0,
            "ticks": ""
           }
          },
          "colorscale": {
           "diverging": [
            [
             0,
             "#8e0152"
            ],
            [
             0.1,
             "#c51b7d"
            ],
            [
             0.2,
             "#de77ae"
            ],
            [
             0.3,
             "#f1b6da"
            ],
            [
             0.4,
             "#fde0ef"
            ],
            [
             0.5,
             "#f7f7f7"
            ],
            [
             0.6,
             "#e6f5d0"
            ],
            [
             0.7,
             "#b8e186"
            ],
            [
             0.8,
             "#7fbc41"
            ],
            [
             0.9,
             "#4d9221"
            ],
            [
             1,
             "#276419"
            ]
           ],
           "sequential": [
            [
             0,
             "#0d0887"
            ],
            [
             0.1111111111111111,
             "#46039f"
            ],
            [
             0.2222222222222222,
             "#7201a8"
            ],
            [
             0.3333333333333333,
             "#9c179e"
            ],
            [
             0.4444444444444444,
             "#bd3786"
            ],
            [
             0.5555555555555556,
             "#d8576b"
            ],
            [
             0.6666666666666666,
             "#ed7953"
            ],
            [
             0.7777777777777778,
             "#fb9f3a"
            ],
            [
             0.8888888888888888,
             "#fdca26"
            ],
            [
             1,
             "#f0f921"
            ]
           ],
           "sequentialminus": [
            [
             0,
             "#0d0887"
            ],
            [
             0.1111111111111111,
             "#46039f"
            ],
            [
             0.2222222222222222,
             "#7201a8"
            ],
            [
             0.3333333333333333,
             "#9c179e"
            ],
            [
             0.4444444444444444,
             "#bd3786"
            ],
            [
             0.5555555555555556,
             "#d8576b"
            ],
            [
             0.6666666666666666,
             "#ed7953"
            ],
            [
             0.7777777777777778,
             "#fb9f3a"
            ],
            [
             0.8888888888888888,
             "#fdca26"
            ],
            [
             1,
             "#f0f921"
            ]
           ]
          },
          "colorway": [
           "#636efa",
           "#EF553B",
           "#00cc96",
           "#ab63fa",
           "#FFA15A",
           "#19d3f3",
           "#FF6692",
           "#B6E880",
           "#FF97FF",
           "#FECB52"
          ],
          "font": {
           "color": "#2a3f5f"
          },
          "geo": {
           "bgcolor": "white",
           "lakecolor": "white",
           "landcolor": "#E5ECF6",
           "showlakes": true,
           "showland": true,
           "subunitcolor": "white"
          },
          "hoverlabel": {
           "align": "left"
          },
          "hovermode": "closest",
          "mapbox": {
           "style": "light"
          },
          "paper_bgcolor": "white",
          "plot_bgcolor": "#E5ECF6",
          "polar": {
           "angularaxis": {
            "gridcolor": "white",
            "linecolor": "white",
            "ticks": ""
           },
           "bgcolor": "#E5ECF6",
           "radialaxis": {
            "gridcolor": "white",
            "linecolor": "white",
            "ticks": ""
           }
          },
          "scene": {
           "xaxis": {
            "backgroundcolor": "#E5ECF6",
            "gridcolor": "white",
            "gridwidth": 2,
            "linecolor": "white",
            "showbackground": true,
            "ticks": "",
            "zerolinecolor": "white"
           },
           "yaxis": {
            "backgroundcolor": "#E5ECF6",
            "gridcolor": "white",
            "gridwidth": 2,
            "linecolor": "white",
            "showbackground": true,
            "ticks": "",
            "zerolinecolor": "white"
           },
           "zaxis": {
            "backgroundcolor": "#E5ECF6",
            "gridcolor": "white",
            "gridwidth": 2,
            "linecolor": "white",
            "showbackground": true,
            "ticks": "",
            "zerolinecolor": "white"
           }
          },
          "shapedefaults": {
           "line": {
            "color": "#2a3f5f"
           }
          },
          "ternary": {
           "aaxis": {
            "gridcolor": "white",
            "linecolor": "white",
            "ticks": ""
           },
           "baxis": {
            "gridcolor": "white",
            "linecolor": "white",
            "ticks": ""
           },
           "bgcolor": "#E5ECF6",
           "caxis": {
            "gridcolor": "white",
            "linecolor": "white",
            "ticks": ""
           }
          },
          "title": {
           "x": 0.05
          },
          "xaxis": {
           "automargin": true,
           "gridcolor": "white",
           "linecolor": "white",
           "ticks": "",
           "title": {
            "standoff": 15
           },
           "zerolinecolor": "white",
           "zerolinewidth": 2
          },
          "yaxis": {
           "automargin": true,
           "gridcolor": "white",
           "linecolor": "white",
           "ticks": "",
           "title": {
            "standoff": 15
           },
           "zerolinecolor": "white",
           "zerolinewidth": 2
          }
         }
        },
        "title": {
         "text": "Original Cylinder"
        }
       }
      }
     },
     "metadata": {},
     "output_type": "display_data"
    }
   ],
   "source": [
    "# Create a cylinder mesh\n",
    "cylinder = create_cylinder_mesh(radius=1.0, length=2.0, resolution=20)\n",
    "\n",
    "print(f\"Cylinder properties:\")\n",
    "print(f\"  Volume: {cylinder.volume:.3f}\")\n",
    "print(f\"  Surface area: {cylinder.area:.3f}\")\n",
    "print(f\"  Z-bounds: {cylinder.bounds[:, 2]}\")\n",
    "\n",
    "# Visualize the original cylinder\n",
    "fig = visualize_mesh_3d(cylinder, title=\"Original Cylinder\", backend=\"plotly\")\n",
    "fig.show()"
   ]
  },
  {
   "cell_type": "markdown",
   "id": "3e144200",
   "metadata": {},
   "source": [
    "## Segment the Mesh"
   ]
  },
  {
   "cell_type": "code",
   "execution_count": 3,
   "id": "f499aa2f",
   "metadata": {},
   "outputs": [
    {
     "name": "stdout",
     "output_type": "stream",
     "text": [
      "✅ Validated single-hull mesh: 80 external faces, volume=6.180\n",
      "Computing 3 cross-sections from z=-1.00 to z=1.00\n",
      "  Cross-section 0: z=-0.50, 40 line segments, area=0.000\n",
      "  Cross-section 1: z=0.00, 40 line segments, area=0.000\n",
      "  Cross-section 2: z=0.50, 40 line segments, area=0.000\n",
      "✅ Computed 3 cross-sections, creating 4 slices\n",
      "\n",
      "Processing slice 0: z=[-1.00, -0.50]\n",
      "  🏷️  Annotated 80 external + 38 internal faces\n",
      "  Slice 0: 1 closed volumes (segments)\n",
      "    🔄 Transferred face attributes: 118 faces\n",
      "    Segment seg_0_0: vol=1.545, ext_area=6.219, int_area=3.090\n",
      "\n",
      "Processing slice 1: z=[-0.50, 0.00]\n",
      "  🏷️  Annotated 100 external + 96 internal faces\n",
      "  Slice 1: 1 closed volumes (segments)\n",
      "    🔄 Transferred face attributes: 196 faces\n",
      "    Segment seg_1_0: vol=1.545, ext_area=3.129, int_area=6.180\n",
      "\n",
      "Processing slice 2: z=[0.00, 0.50]\n",
      "  🏷️  Annotated 100 external + 96 internal faces\n",
      "  Slice 2: 1 closed volumes (segments)\n",
      "    🔄 Transferred face attributes: 196 faces\n",
      "    Segment seg_2_0: vol=1.545, ext_area=3.129, int_area=6.180\n",
      "\n",
      "Processing slice 3: z=[0.50, 1.00]\n",
      "  🏷️  Annotated 80 external + 38 internal faces\n",
      "  Slice 3: 1 closed volumes (segments)\n",
      "    🔄 Transferred face attributes: 118 faces\n",
      "    Segment seg_3_0: vol=1.545, ext_area=6.219, int_area=3.090\n",
      "✅ Extracted 4 total segments across 4 slices\n",
      "  Connected seg_0_0 ↔ seg_1_0\n",
      "  Connected seg_1_0 ↔ seg_2_0\n",
      "  Connected seg_2_0 ↔ seg_3_0\n",
      "✅ Built connectivity graph: 4 nodes, 3 edges\n",
      "\n",
      "📊 CONSERVATION VALIDATION:\n",
      "Volume: segments=6.1803 vs original=6.1803 (error: 0.00%)\n",
      "Surface area: segments=18.6951 vs original=18.6951 (error: 0.00%)\n",
      "✅ Conservation validation passed\n",
      "Segmentation complete!\n",
      "Total segments: 4\n",
      "Total slices: 4\n"
     ]
    }
   ],
   "source": [
    "# Create segmenter and segment the mesh\n",
    "segmenter = MeshSegmenter()\n",
    "segments = segmenter.segment_mesh(cylinder, slice_height=0.5, min_volume=0.1)\n",
    "\n",
    "print(f\"Segmentation complete!\")\n",
    "print(f\"Total segments: {len(segments)}\")\n",
    "print(f\"Total slices: {len(segmenter.slices)}\")"
   ]
  },
  {
   "cell_type": "markdown",
   "id": "eb388da7",
   "metadata": {},
   "source": [
    "## SegmentGraph"
   ]
  },
  {
   "cell_type": "code",
   "execution_count": 4,
   "id": "4a9bc3a0",
   "metadata": {},
   "outputs": [
    {
     "ename": "ValueError",
     "evalue": "Node seg_0_0 has no centroid",
     "output_type": "error",
     "traceback": [
      "\u001b[31m---------------------------------------------------------------------------\u001b[39m",
      "\u001b[31mValueError\u001b[39m                                Traceback (most recent call last)",
      "\u001b[36mCell\u001b[39m\u001b[36m \u001b[39m\u001b[32mIn[4]\u001b[39m\u001b[32m, line 2\u001b[39m\n\u001b[32m      1\u001b[39m graph = segmenter.get_segment_graph()\n\u001b[32m----> \u001b[39m\u001b[32m2\u001b[39m _ = \u001b[43mgraph\u001b[49m\u001b[43m.\u001b[49m\u001b[43mvisualize\u001b[49m\u001b[43m(\u001b[49m\u001b[43m)\u001b[49m\n",
      "\u001b[36mFile \u001b[39m\u001b[32m~\\Documents\\GitHub\\gencomo\\gencomo\\model.py:193\u001b[39m, in \u001b[36mSegmentGraph.visualize\u001b[39m\u001b[34m(self, color_by, show_plot, save_path, figsize, node_scale, repulsion_strength, iterations, x_weight, y_weight)\u001b[39m\n\u001b[32m    189\u001b[39m centroid = data.get(\u001b[33m'\u001b[39m\u001b[33mcentroid\u001b[39m\u001b[33m'\u001b[39m, \u001b[38;5;28;01mNone\u001b[39;00m)\n\u001b[32m    190\u001b[39m \u001b[38;5;28;01mif\u001b[39;00m centroid \u001b[38;5;129;01mis\u001b[39;00m \u001b[38;5;28;01mNone\u001b[39;00m:\n\u001b[32m    191\u001b[39m     \u001b[38;5;66;03m# Generate a random position if no centroid is available\u001b[39;00m\n\u001b[32m    192\u001b[39m     \u001b[38;5;66;03m# This ensures nodes don't stack on top of each other\u001b[39;00m\n\u001b[32m--> \u001b[39m\u001b[32m193\u001b[39m     \u001b[38;5;28;01mraise\u001b[39;00m \u001b[38;5;167;01mValueError\u001b[39;00m(\u001b[33mf\u001b[39m\u001b[33m\"\u001b[39m\u001b[33mNode \u001b[39m\u001b[38;5;132;01m{\u001b[39;00mnode\u001b[38;5;132;01m}\u001b[39;00m\u001b[33m has no centroid\u001b[39m\u001b[33m\"\u001b[39m)\n\u001b[32m    194\u001b[39m     \u001b[38;5;66;03m# import random\u001b[39;00m\n\u001b[32m    195\u001b[39m     \u001b[38;5;66;03m# centroid = [random.uniform(-1, 1), random.uniform(-1, 1), data.get('slice_index', 0) or 0]\u001b[39;00m\n\u001b[32m    196\u001b[39m     \n\u001b[32m    197\u001b[39m \u001b[38;5;66;03m# Store z-level for vertical positioning\u001b[39;00m\n\u001b[32m    198\u001b[39m z_levels[node] = centroid[\u001b[32m2\u001b[39m]\n",
      "\u001b[31mValueError\u001b[39m: Node seg_0_0 has no centroid"
     ]
    },
    {
     "data": {
      "image/png": "[encoded data removed]",
      "text/plain": [
       "<Figure size 1200x1000 with 1 Axes>"
      ]
     },
     "metadata": {},
     "output_type": "display_data"
    }
   ],
   "source": [
    "graph = segmenter.get_segment_graph()\n",
    "_ = graph.visualize()"
   ]
  },
  {
   "cell_type": "markdown",
   "id": "83bd411e",
   "metadata": {},
   "source": [
    "## Summary\n",
    "\n",
    "The cylinder segmentation shows:\n",
    "- **Simple topology**: Each slice typically contains one segment\n",
    "- **Linear connectivity**: Segments connect in sequence along the z-axis\n",
    "- **Volume distribution**: End caps may have smaller volumes due to geometry\n",
    "\n",
    "This represents the baseline case for mesh segmentation with genus = 0 topology."
   ]
  }
 ],
 "metadata": {
  "kernelspec": {
   "display_name": ".venv",
   "language": "python",
   "name": "python3"
  },
  "language_info": {
   "codemirror_mode": {
    "name": "ipython",
    "version": 3
   },
   "file_extension": ".py",
   "mimetype": "text/x-python",
   "name": "python",
   "nbconvert_exporter": "python",
   "pygments_lexer": "ipython3",
   "version": "3.11.4"
  }
 },
 "nbformat": 4,
 "nbformat_minor": 5
}
